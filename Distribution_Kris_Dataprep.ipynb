{
 "cells": [
  {
   "cell_type": "markdown",
   "metadata": {},
   "source": [
    "# Kris Data"
   ]
  },
  {
   "cell_type": "code",
   "execution_count": 33,
   "metadata": {},
   "outputs": [],
   "source": [
    "import pandas as pd;\n",
    "import numpy as np;\n",
    "import os;\n",
    "import time;\n",
    "import datetime;\n",
    "import warnings;\n",
    "warnings.filterwarnings('ignore');"
   ]
  },
  {
   "cell_type": "code",
   "execution_count": 34,
   "metadata": {},
   "outputs": [],
   "source": [
    "path = \"//falmumapp34/Nielsen Connect Transition & Maintenance (20-SCP-3650)/03. Raw Data/Connect Data/Kris Data\"\n",
    "files = os.listdir(path)"
   ]
  },
  {
   "cell_type": "markdown",
   "metadata": {},
   "source": [
    "Selecting only **excel files** from all the files available in the above path"
   ]
  },
  {
   "cell_type": "code",
   "execution_count": 35,
   "metadata": {},
   "outputs": [
    {
     "name": "stdout",
     "output_type": "stream",
     "text": [
      "Total number of files in the folder are  1\n"
     ]
    }
   ],
   "source": [
    "files_xls = [f for f in files if (f[:8] == \"Kris LDL\")]\n",
    "#files_xls = [f for f in files if (f[-8:] == \"PTB.xlsx\")|(f == \"Kris Batt Hybrid.xlsx\")]\n",
    "#files_xls = [f for f in files if (f == \"Kris Pour.xlsx\") | (f == \"Kris APC+WW and Abrasive.xlsx\")]\n",
    "#files_xls = [f for f in files if( f[:7] == \"TotalFS\" )| (f[:6] == 'Sheets')|( f[:5] == \"LiqFS\" )| (f[:6] == 'ScentB')| (f[:5] == 'Beads')] \n",
    "print(\"Total number of files in the folder are \",len(files_xls))"
   ]
  },
  {
   "cell_type": "code",
   "execution_count": 36,
   "metadata": {},
   "outputs": [
    {
     "data": {
      "text/plain": [
       "['Kris LDL.xlsx']"
      ]
     },
     "execution_count": 36,
     "metadata": {},
     "output_type": "execute_result"
    }
   ],
   "source": [
    "files_xls"
   ]
  },
  {
   "cell_type": "markdown",
   "metadata": {},
   "source": [
    "**Appending the read files in rows and storing them in a single dataframe** named ***UPC_Monthly***.\n",
    "\n",
    "Printing number of columns and number of facts in each file.\n",
    "Also checking the execution time of the code"
   ]
  },
  {
   "cell_type": "code",
   "execution_count": 37,
   "metadata": {
    "scrolled": false
   },
   "outputs": [
    {
     "name": "stdout",
     "output_type": "stream",
     "text": [
      "\u001b[1mKris LDL.xlsx\u001b[0m :->\n",
      "# of Facts are  14 \t\t # of columns are  12\n",
      "execution time is  3.1859920024871826\n"
     ]
    }
   ],
   "source": [
    "time_start= time.time()\n",
    "\n",
    "Kris_Data= pd.DataFrame()\n",
    "\n",
    "j=0\n",
    "for f in files_xls:\n",
    "    \n",
    "    data = pd.read_excel(path+\"/\"+f)\n",
    "    print(\"\\033[1m\" + files_xls[j] + \"\\033[0m\",\":->\\n# of Facts are \",len(set(data[\"Periods\"])),\"\\t\\t # of columns are \",len(data.columns))  \n",
    "    Kris_Data = pd.concat([Kris_Data,data],axis=0,ignore_index=True)\n",
    "    j=j+1\n",
    "    \n",
    "time_end= time.time();\n",
    "\n",
    "print(\"execution time is \", time_end-time_start)"
   ]
  },
  {
   "cell_type": "code",
   "execution_count": 38,
   "metadata": {},
   "outputs": [],
   "source": [
    "# Relaceing in Periods(Facts)\n",
    "Kris_Data[\"Periods\"]=Kris_Data[\"Periods\"].str.replace(\"$\",\"temp\")\n",
    "Kris_Data[\"Periods\"]=Kris_Data[\"Periods\"].str.replace(\"- temp -\",\"-\")\n",
    "Kris_Data[\"Periods\"]=Kris_Data[\"Periods\"].str.replace(\"temp\",\"$\")\n",
    "\n",
    "\n",
    "Kris_Data[\"Periods\"]=Kris_Data[\"Periods\"].str.replace(\"CP FORM\",\"CP CATEGORY\")\n",
    "Kris_Data[\"Periods\"]=Kris_Data[\"Periods\"].str.replace(\"CP USE\",\"CP CATEGORY\")\n",
    "Kris_Data[\"Periods\"]=Kris_Data[\"Periods\"].str.replace(\"CP LDL AND FOAM\",\"CP CATEGORY\")\n",
    "\n",
    "Kris_Data[\"Periods\"]=Kris_Data[\"Periods\"].str.replace(\"CP LDL AND FM X DISHAIDS/WPS/SPR\",\"CP CATEGORY\")\n",
    "\n",
    "Kris_Data[\"Periods\"]=Kris_Data[\"Periods\"].str.replace(\"CP MEGA CATEGORY\",\"CP CATEGORY\")\n",
    "Kris_Data[\"Periods\"]=Kris_Data[\"Periods\"].str.replace(\"CP BATTERY AND HYBRID\",\"CP CATEGORY\")\n",
    "\n",
    "\n",
    "# Market name replaced\n",
    "Kris_Data[\"Markets\"]=Kris_Data[\"Markets\"].str.replace(\"Walgreens Corp Total TA\",\"Walgreens Total TA\")\n",
    "\n",
    "#replacing NaN values with 0\n",
    "Kris_Data.fillna(value=0,inplace=True)\n",
    "\n"
   ]
  },
  {
   "cell_type": "code",
   "execution_count": 39,
   "metadata": {},
   "outputs": [],
   "source": [
    "##Removing unwanted characters from all the column names** and store them in a list ***new_col_names***\n",
    "\n",
    "new_col_names=[]\n",
    "for i in Kris_Data.columns:\n",
    "    x=len(i)\n",
    "    if x<=17:\n",
    "        new_col_names.append(i)\n",
    "    elif i[:3]=='YTD':\n",
    "        new_col_names.append(i[:-16].strip('- '))\n",
    "    else:\n",
    "        new_col_names.append(i[:-14].strip('- '))\n",
    "        \n",
    "\n",
    "## Checking the duplicacte column in** ***Kris_Data***\n",
    "\n",
    "if(len(new_col_names)!=len(set(new_col_names))):\n",
    "    print(\"\\033[1;31m\"+\"*******************************ERROR*******************************\\n\\t\\t\\tWe have duplicate columns\\n\\t\\t\\tPlease recheck raw data files\\n*******************************ERROR*******************************\")\n",
    "\n",
    "##Renaming the column names of ***Kris_Data***\n",
    "\n",
    "# Kris_Data.rename(columns=dict(zip(Kris_Data.columns,new_col_names)),inplace=True)\n",
    "Kris_Data.columns=new_col_names"
   ]
  },
  {
   "cell_type": "code",
   "execution_count": 40,
   "metadata": {},
   "outputs": [
    {
     "data": {
      "text/plain": [
       "['Markets',\n",
       " 'Products',\n",
       " 'Periods',\n",
       " 'Latest 13 Wks',\n",
       " 'Latest 26 Wks',\n",
       " 'Cal Yr 2020',\n",
       " 'Cal Yr 2019',\n",
       " 'Cal Yr 2018',\n",
       " 'Cal Yr 2017',\n",
       " 'YTD',\n",
       " 'YTD YA',\n",
       " 'Feb 21']"
      ]
     },
     "execution_count": 40,
     "metadata": {},
     "output_type": "execute_result"
    }
   ],
   "source": [
    "new_col_names"
   ]
  },
  {
   "cell_type": "code",
   "execution_count": 41,
   "metadata": {},
   "outputs": [
    {
     "name": "stdout",
     "output_type": "stream",
     "text": [
      "2\n",
      "19\n"
     ]
    },
    {
     "data": {
      "text/plain": [
       "(10850, 15)"
      ]
     },
     "execution_count": 41,
     "metadata": {},
     "output_type": "execute_result"
    }
   ],
   "source": [
    "##**Adding Missing Quater**\n",
    "\n",
    "\n",
    "# GETTING 20 DAYS BEFORE MONTHS AND YEAR VALUES\n",
    "now=datetime.datetime.now()\n",
    "delay= datetime.timedelta(days=20)\n",
    "a= now - delay\n",
    "month_number=a.month\n",
    "year=str(a.year-2)[-2:]\n",
    "print(month_number)\n",
    "print(year)\n",
    "\n",
    "if( month_number >= 1 & month_number <= 3):\n",
    "    Kris_Data['AMJ '+year]=\"\"\n",
    "    Kris_Data['JAS '+year]=\"\"\n",
    "    Kris_Data['OND '+year]=\"\"\n",
    "elif ( month_number >= 4 & month_number <= 6 ):\n",
    "    Kris_Data['JAS '+year]=\"\"\n",
    "    Kris_Data['OND '+year]=\"\"\n",
    "elif ( month_number >= 7 & month_number <= 9  ):\n",
    "    Kris_Data['OND '+year]=\"\"\n",
    "\n",
    "Kris_Data.shape"
   ]
  },
  {
   "cell_type": "code",
   "execution_count": 42,
   "metadata": {},
   "outputs": [
    {
     "data": {
      "text/plain": [
       "Index(['Markets', 'Products', 'Periods', 'Latest 13 Wks', 'Latest 26 Wks',\n",
       "       'Cal Yr 2020', 'Cal Yr 2019', 'Cal Yr 2018', 'Cal Yr 2017', 'YTD',\n",
       "       'YTD YA', 'Feb 21', 'AMJ 19', 'JAS 19', 'OND 19'],\n",
       "      dtype='object')"
      ]
     },
     "execution_count": 42,
     "metadata": {},
     "output_type": "execute_result"
    }
   ],
   "source": [
    "Kris_Data.columns"
   ]
  },
  {
   "cell_type": "code",
   "execution_count": 43,
   "metadata": {},
   "outputs": [
    {
     "name": "stdout",
     "output_type": "stream",
     "text": [
      "['Markets', 'Products', 'Periods', 'Latest 13 Weeks', 'Latest 26 Weeks', 'FY 2020', 'FY 2019', 'FY 2018', 'FY 2017', 'YTD 2021', 'YTD 2020', 'Feb 21', 'Q2 2019', 'Q3 2019', 'Q4 2019']\n",
      "15 15\n"
     ]
    }
   ],
   "source": [
    "##**Time period mapping**\n",
    "\n",
    "\n",
    "\n",
    "time_period_map= pd.DataFrame({'Connect Time Period':['Markets', 'Products', 'Periods','Cal Yr 2020','Cal Yr 2019','Cal Yr 2018','Cal Yr 2017','YTD','YTD YA','Latest 13 Wks','Latest 26 Wks','OND 21','JAS 21','AMJ 21','JFM 21','OND 20','JAS 20','AMJ 20','JFM 20','OND 19','JAS 19','AMJ 19','Dec 21','Nov 21','Oct 21','Sep 21','Aug 21','Jul 21','Jun 21','May 21','Apr 21','Mar 21','Feb 21','Jan 21','Dec 20','Nov 20','Oct 20','Sep 20','Aug 20','Jul 20','Jun 20','May 20','Apr 20','Mar 20','Feb 20','Jan 20'],\n",
    "                               'Final Name':['Markets', 'Products', 'Periods','FY 2020','FY 2019','FY 2018','FY 2017','YTD 2021','YTD 2020','Latest 13 Weeks','Latest 26 Weeks','Q4 2021','Q3 2021','Q2 2021','Q1 2021','Q4 2020','Q3 2020','Q2 2020','Q1 2020','Q4 2019','Q3 2019','Q2 2019','Dec 21','Nov 21','Oct 21','Sep 21','Aug 21','Jul 21','Jun 21','May 21','Apr 21','Mar 21','Feb 21','Jan 21','Dec 20','Nov 20','Oct 20','Sep 20','Aug 20','Jul 20','Jun 20','May 20','Apr 20','Mar 20','Feb 20','Jan 20']\n",
    "                              ,'Order':range(1,47)})\n",
    "\n",
    "time_period_map.head(5)\n",
    "\n",
    "##We need to **change column names** of ***Kris_Data*** and **reorder** them based on the time_period_mapping\n",
    "\n",
    "# assigning variables\n",
    "LM_column= list(Kris_Data.columns)\n",
    "time_connect=list(time_period_map[\"Connect Time Period\"])\n",
    "time_final=list(time_period_map[\"Final Name\"])\n",
    "\n",
    "# changing column names based on time_period_mapping\n",
    "new_column=[]\n",
    "for i in range(0,len(LM_column)):\n",
    "    for j in range(0,len(time_connect)):\n",
    "        if LM_column[i]==time_connect[j]:\n",
    "            new_column.append(time_final[j])\n",
    "        \n",
    "\n",
    "print(new_column)\n",
    "\n",
    "print(len(new_column),len(Kris_Data.columns))\n",
    "\n",
    "Kris_Data.columns\n",
    "\n",
    "#assigning new column names\n",
    "Kris_Data.columns = new_column\n",
    "\n",
    "# reordering column names\n",
    "my_list =time_period_map.iloc[:, 1]\n",
    "my_list1=Kris_Data.columns\n",
    "result = [x for x in my_list if x in my_list1]\n",
    "Kris_Data=Kris_Data[result]"
   ]
  },
  {
   "cell_type": "code",
   "execution_count": 44,
   "metadata": {},
   "outputs": [],
   "source": [
    "##**Period Mapping**\n",
    "\n",
    "Time_Mapping={\n",
    "    \"Nov 19\":\"4 W/E 11/23/19\",\n",
    "    \"Dec 19\":\"5 W/E 12/28/19\",\n",
    "    \"Jan 20\":\"4 W/E 02/01/20\",\n",
    "    \"Feb 20\":\"4 W/E 02/29/20\",\n",
    "    \"Mar 20\":\"5 W/E 04/04/20\",\n",
    "    \"Apr 20\":\"4 W/E 05/02/20\",\n",
    "    \"May 20\":\"4 W/E 05/30/20\",\n",
    "    \"Jun 20\":\"5 W/E 07/04/20\",\n",
    "    \"Jul 20\":\"4 W/E 08/01/20\",\n",
    "    \"Aug 20\":\"4 W/E 08/29/20\",\n",
    "    \"Sep 20\":\"5 W/E 10/03/20\",\n",
    "    \"Oct 20\":\"4 W/E 10/31/20\",\n",
    "    \"Nov 20\":\"4 W/E 11/28/20\",\n",
    "    \"Dec 20\":\"5 W/E 01/02/21\",\n",
    "    \"Jan 21\":\"4 W/E 01/30/21\",\n",
    "    \"Feb 21\":\"4 W/E 02/27/21\",\n",
    "    \"Mar 21\":\"5 W/E 04/03/21\",\n",
    "    \"Apr 21\":\"4 W/E 05/01/21\",\n",
    "    \"May 21\":\"4 W/E 05/29/21\",\n",
    "    \"Jun 21\":\"5 W/E 07/03/21\",\n",
    "    \"Jul 21\":\"4 W/E 07/31/21\",\n",
    "    \"Aug 21\":\"4 W/E 08/28/21\",\n",
    "    \"Sep 21\":\"5 W/E 10/02/21\",\n",
    "    \"Oct 21\":\"4 W/E 10/30/21\",\n",
    "    \"Nov 21\":\"4 W/E 11/27/21\",\n",
    "    \"Dec 21\":\"5 W/E 01/01/22\",\n",
    "    \"Jan 22\":\"4 W/E 01/29/22\",\n",
    "    \"Feb 22\":\"4 W/E 02/26/22\",\n",
    "    \"Mar 22\":\"5 W/E 04/02/22\",\n",
    "    \"Apr 22\":\"4 W/E 04/30/22\",\n",
    "    \"May 22\":\"5 W/E 05/28/22\",\n",
    "    \"Jun 22\":\"4 W/E 06/25/22\",\n",
    "    \"Jul 22\":\"4 W/E 07/23/22\",\n",
    "    \"Aug 22\":\"5 W/E 08/20/22\",\n",
    "    \"Sep 22\":\"4 W/E 09/17/22\",\n",
    "    \"Oct 22\":\"4 W/E 10/15/22\",\n",
    "    \"Nov 22\":\"5 W/E 11/12/22\",\n",
    "    \"Dec 22\":\"4 W/E 12/10/22\",\n",
    "    \"Jan 23\":\"4 W/E 01/07/23\",\n",
    "    \"Feb 23\":\"5 W/E 02/04/23\",\n",
    "    \"Mar 23\":\"4 W/E 03/04/23\",\n",
    "    \"Apr 23\":\"4 W/E 04/01/23\",\n",
    "    \"May 23\":\"5 W/E 04/29/23\",\n",
    "    \"Jun 23\":\"4 W/E 05/27/23\",\n",
    "    \"Jul 23\":\"4 W/E 06/24/23\",\n",
    "    \"Aug 23\":\"5 W/E 07/22/23\",\n",
    "    \"Sep 23\":\"4 W/E 08/19/23\",\n",
    "    \"Oct 23\":\"5 W/E 09/16/23\",\n",
    "    \"Nov 23\":\"4 W/E 10/14/23\",\n",
    "    \"Dec 23\":\"4 W/E 11/11/23\",\n",
    "    \"Jan 24\":\"5 W/E 12/09/23\",\n",
    "    \"Feb 24\":\"4 W/E 01/06/24\",\n",
    "    \"Mar 24\":\"4 W/E 02/03/24\",\n",
    "    \"Apr 24\":\"5 W/E 03/02/24\",\n",
    "    \"May 24\":\"4 W/E 03/30/24\",\n",
    "    \"Jun 24\":\"4 W/E 04/27/24\",\n",
    "    \"Jul 24\":\"5 W/E 05/25/24\",\n",
    "    \"Aug 24\":\"4 W/E 06/22/24\",\n",
    "    \"Sep 24\":\"4 W/E 07/20/24\",\n",
    "    \"Oct 24\":\"5 W/E 08/17/24\",\n",
    "    \"Nov 24\":\"4 W/E 09/14/24\",\n",
    "    \"Dec 24\":\"4 W/E 10/12/24\",\n",
    "    \"Jan 25\":\"5 W/E 11/09/24\",\n",
    "    \"Feb 25\":\"4 W/E 12/07/24\",\n",
    "    \"Mar 25\":\"5 W/E 01/04/25\",\n",
    "    \"Apr 25\":\"4 W/E 02/01/25\",\n",
    "    \"May 25\":\"4 W/E 03/01/25\",\n",
    "    \"Jun 25\":\"5 W/E 03/29/25\",\n",
    "    \"Jul 25\":\"4 W/E 04/26/25\",\n",
    "    \"Aug 25\":\"4 W/E 05/24/25\",\n",
    "    \"Sep 25\":\"5 W/E 06/21/25\",\n",
    "    \"Oct 25\":\"4 W/E 07/19/25\",\n",
    "    \"Nov 25\":\"4 W/E 08/16/25\",\n",
    "    \"Dec 25\":\"5 W/E 09/13/25\",\n",
    "    \"Jan 26\":\"4 W/E 10/11/25\",\n",
    "    \"Feb 26\":\"4 W/E 11/08/25\",\n",
    "    \"Mar 26\":\"5 W/E 12/06/25\",\n",
    "    \"Apr 26\":\"4 W/E 01/03/26\",\n",
    "    \"May 26\":\"4 W/E 01/31/26\",\n",
    "    \"Jun 26\":\"5 W/E 02/28/26\",\n",
    "    \"Jul 26\":\"4 W/E 03/28/26\",\n",
    "    \"Aug 26\":\"5 W/E 04/25/26\",\n",
    "    \"Sep 26\":\"4 W/E 05/23/26\",\n",
    "    \"Oct 26\":\"4 W/E 06/20/26\",\n",
    "    \"Nov 26\":\"5 W/E 07/18/26\",\n",
    "    \"Dec 26\":\"4 W/E 08/15/26\"\n",
    "}\n",
    "\n",
    "\n",
    "Kris_Data.rename(columns=Time_Mapping,inplace=True)"
   ]
  },
  {
   "cell_type": "code",
   "execution_count": 45,
   "metadata": {},
   "outputs": [],
   "source": [
    "Market_Mapping={\n",
    "    \n",
    "     'ALBSCO Total Company TA':'Alb/Sfy',\n",
    "     'Agency Grocery':'Agency Grocery',\n",
    "     'Ahold USA Corp Total TA':\"Ahold\",\n",
    "     'BJs Total TA':\"BJs\",\n",
    "     'CLUB':\"CLUB\",\n",
    "     'CVS Total Corp WO HI TA':\"CVS\",\n",
    "     'Dol Gen Total TA':\"Dollar General\",\n",
    "     'El Super Total TA':'El Super',\n",
    "     'FDM':\"FDM\",\n",
    "     'Family Dollar Total TA':\"Family Dollar\",\n",
    "     'Fiesta Total TA':\"Fiesta\",\n",
    "     'Giant Eagle Total TA':\"Giant Eagle\",\n",
    "     'Kmart Total TA':\"Kmart\",\n",
    "     'Meijer Total TA':\"Meijer\",\n",
    "     'Publix Total TA':\"Publix\",\n",
    "     'Rite Aid - Corp Total TA':\"Rite Aid\",\n",
    "     \"Sam's Total TA\":\"Sams\",\n",
    "     'ShopRite Total TA':\"Shoprite\",\n",
    "     'Strategic Grocery':\"Strategic Grocery\",\n",
    "     'TOTAL MASS':\"TOTAL MASS\",\n",
    "     'Target Total BM/FF TA':\"Target\",\n",
    "     'Total US Drug':\"US Drug\",\n",
    "     'Total US Food':\"US Food\",\n",
    "     'Total US xAOC':\"US AOC\",\n",
    "     'VDC':\"VDC\",\n",
    "     'Walgreens Total TA':\"Walgreens\",\n",
    "     'Walmart Total US TA':\"Walmart\",\n",
    "     'Wegmans Total TA':\"Wegmans\"\n",
    "    }\n",
    "\n",
    "\n",
    "Kris_Data[\"Markets\"].replace(Market_Mapping,inplace=True)"
   ]
  },
  {
   "cell_type": "code",
   "execution_count": 46,
   "metadata": {},
   "outputs": [],
   "source": [
    "#Changing Column Name\n",
    "\n",
    "Kris_Data.rename(columns={\"Periods\":\"Facts\"},inplace=True)\n"
   ]
  },
  {
   "cell_type": "code",
   "execution_count": 47,
   "metadata": {},
   "outputs": [],
   "source": [
    "##**Filter Condition**\n",
    "#Taking only those products whose **Latest Month Dollar Share** is **greater than 0.07** for all the markets\n",
    "\n",
    "# Kris_Data.iloc[:,3:]= Kris_Data.iloc[:,3:].apply(pd.to_numeric)\n",
    "\n",
    "# Kris_Data.info()\n",
    "\n",
    "# df=Kris_Data[(Kris_Data['Facts'] == '$ Shr - CP CATEGORY') & ( Kris_Data.iloc[:,19] > 0.07 )]\n",
    "\n",
    "# # total number of unique Products \n",
    "# len(np.unique(list(df[\"Products\"])))\n",
    "\n",
    "# Kris_Data=Kris_Data[Kris_Data['Products'].isin(list(df[\"Products\"]))]\n",
    "# Kris_Data.head(3)\n",
    "\n",
    "# len(set(Kris_Data[\"Products\"]))"
   ]
  },
  {
   "cell_type": "code",
   "execution_count": 48,
   "metadata": {},
   "outputs": [],
   "source": [
    "#***movecol*** function to **rearranging** the columns of a dataframe\n",
    "\n",
    "def movecol(df, cols_to_move=[], ref_col='', place=''):\n",
    "    cols = df.columns.tolist()\n",
    "    if place == 'After':\n",
    "        seg1 = cols[:list(cols).index(ref_col) + 1]\n",
    "        seg2 = cols_to_move\n",
    "    if place == 'Before':\n",
    "        seg1 = cols[:list(cols).index(ref_col)]\n",
    "        seg2 = cols_to_move + [ref_col]\n",
    "    seg1 = [i for i in seg1 if i not in seg2]\n",
    "    seg3 = [i for i in cols if i not in seg1 + seg2]\n",
    "    \n",
    "    return(df[seg1 + seg2 + seg3])"
   ]
  },
  {
   "cell_type": "code",
   "execution_count": 49,
   "metadata": {},
   "outputs": [
    {
     "data": {
      "text/html": [
       "<div>\n",
       "<style scoped>\n",
       "    .dataframe tbody tr th:only-of-type {\n",
       "        vertical-align: middle;\n",
       "    }\n",
       "\n",
       "    .dataframe tbody tr th {\n",
       "        vertical-align: top;\n",
       "    }\n",
       "\n",
       "    .dataframe thead th {\n",
       "        text-align: right;\n",
       "    }\n",
       "</style>\n",
       "<table border=\"1\" class=\"dataframe\">\n",
       "  <thead>\n",
       "    <tr style=\"text-align: right;\">\n",
       "      <th></th>\n",
       "      <th>Markets</th>\n",
       "      <th>Products</th>\n",
       "      <th>Facts</th>\n",
       "      <th>FY 2020</th>\n",
       "      <th>FY 2019</th>\n",
       "      <th>FY 2018</th>\n",
       "      <th>FY 2017</th>\n",
       "      <th>YTD 2021</th>\n",
       "      <th>YTD 2020</th>\n",
       "      <th>Latest 13 Weeks</th>\n",
       "      <th>Latest 26 Weeks</th>\n",
       "      <th>Q4 2019</th>\n",
       "      <th>Q3 2019</th>\n",
       "      <th>Q2 2019</th>\n",
       "      <th>4 W/E 02/27/21</th>\n",
       "    </tr>\n",
       "  </thead>\n",
       "  <tbody>\n",
       "    <tr>\n",
       "      <th>0</th>\n",
       "      <td>US AOC</td>\n",
       "      <td>LDL/DISHAIDS/WPS/FM/SPRAYS | COLGATE-PALMOLIVE...</td>\n",
       "      <td>$ Shr - CP CATEGORY</td>\n",
       "      <td>0.000</td>\n",
       "      <td>0.001</td>\n",
       "      <td>0.024</td>\n",
       "      <td>0.084</td>\n",
       "      <td>0.0</td>\n",
       "      <td>0.000</td>\n",
       "      <td>0.0</td>\n",
       "      <td>0.0</td>\n",
       "      <td></td>\n",
       "      <td></td>\n",
       "      <td></td>\n",
       "      <td>0.0</td>\n",
       "    </tr>\n",
       "    <tr>\n",
       "      <th>1</th>\n",
       "      <td>US AOC</td>\n",
       "      <td>LDL/DISHAIDS/WPS/FM/SPRAYS | COLGATE-PALMOLIVE...</td>\n",
       "      <td>$ Shr Chg YA - CP CATEGORY</td>\n",
       "      <td>-0.001</td>\n",
       "      <td>-0.023</td>\n",
       "      <td>-0.060</td>\n",
       "      <td>0.084</td>\n",
       "      <td>0.0</td>\n",
       "      <td>-0.003</td>\n",
       "      <td>0.0</td>\n",
       "      <td>0.0</td>\n",
       "      <td></td>\n",
       "      <td></td>\n",
       "      <td></td>\n",
       "      <td>0.0</td>\n",
       "    </tr>\n",
       "    <tr>\n",
       "      <th>2</th>\n",
       "      <td>US AOC</td>\n",
       "      <td>LDL/DISHAIDS/WPS/FM/SPRAYS | COLGATE-PALMOLIVE...</td>\n",
       "      <td>Base $ Shr - CP CATEGORY</td>\n",
       "      <td>0.000</td>\n",
       "      <td>0.001</td>\n",
       "      <td>0.021</td>\n",
       "      <td>0.078</td>\n",
       "      <td>0.0</td>\n",
       "      <td>0.000</td>\n",
       "      <td>0.0</td>\n",
       "      <td>0.0</td>\n",
       "      <td></td>\n",
       "      <td></td>\n",
       "      <td></td>\n",
       "      <td>0.0</td>\n",
       "    </tr>\n",
       "    <tr>\n",
       "      <th>3</th>\n",
       "      <td>US AOC</td>\n",
       "      <td>LDL/DISHAIDS/WPS/FM/SPRAYS | COLGATE-PALMOLIVE...</td>\n",
       "      <td>Base $ Shr Chg YA - CP CATEGORY</td>\n",
       "      <td>-0.001</td>\n",
       "      <td>-0.020</td>\n",
       "      <td>-0.057</td>\n",
       "      <td>0.078</td>\n",
       "      <td>0.0</td>\n",
       "      <td>-0.005</td>\n",
       "      <td>0.0</td>\n",
       "      <td>0.0</td>\n",
       "      <td></td>\n",
       "      <td></td>\n",
       "      <td></td>\n",
       "      <td>0.0</td>\n",
       "    </tr>\n",
       "    <tr>\n",
       "      <th>4</th>\n",
       "      <td>US AOC</td>\n",
       "      <td>LDL/DISHAIDS/WPS/FM/SPRAYS | COLGATE-PALMOLIVE...</td>\n",
       "      <td>%ACV</td>\n",
       "      <td>0.000</td>\n",
       "      <td>0.022</td>\n",
       "      <td>0.387</td>\n",
       "      <td>0.731</td>\n",
       "      <td>0.0</td>\n",
       "      <td>0.000</td>\n",
       "      <td>0.0</td>\n",
       "      <td>0.0</td>\n",
       "      <td></td>\n",
       "      <td></td>\n",
       "      <td></td>\n",
       "      <td>0.0</td>\n",
       "    </tr>\n",
       "  </tbody>\n",
       "</table>\n",
       "</div>"
      ],
      "text/plain": [
       "  Markets                                           Products  \\\n",
       "0  US AOC  LDL/DISHAIDS/WPS/FM/SPRAYS | COLGATE-PALMOLIVE...   \n",
       "1  US AOC  LDL/DISHAIDS/WPS/FM/SPRAYS | COLGATE-PALMOLIVE...   \n",
       "2  US AOC  LDL/DISHAIDS/WPS/FM/SPRAYS | COLGATE-PALMOLIVE...   \n",
       "3  US AOC  LDL/DISHAIDS/WPS/FM/SPRAYS | COLGATE-PALMOLIVE...   \n",
       "4  US AOC  LDL/DISHAIDS/WPS/FM/SPRAYS | COLGATE-PALMOLIVE...   \n",
       "\n",
       "                             Facts  FY 2020  FY 2019  FY 2018  FY 2017  \\\n",
       "0              $ Shr - CP CATEGORY    0.000    0.001    0.024    0.084   \n",
       "1       $ Shr Chg YA - CP CATEGORY   -0.001   -0.023   -0.060    0.084   \n",
       "2         Base $ Shr - CP CATEGORY    0.000    0.001    0.021    0.078   \n",
       "3  Base $ Shr Chg YA - CP CATEGORY   -0.001   -0.020   -0.057    0.078   \n",
       "4                             %ACV    0.000    0.022    0.387    0.731   \n",
       "\n",
       "   YTD 2021  YTD 2020  Latest 13 Weeks  Latest 26 Weeks Q4 2019 Q3 2019  \\\n",
       "0       0.0     0.000              0.0              0.0                   \n",
       "1       0.0    -0.003              0.0              0.0                   \n",
       "2       0.0     0.000              0.0              0.0                   \n",
       "3       0.0    -0.005              0.0              0.0                   \n",
       "4       0.0     0.000              0.0              0.0                   \n",
       "\n",
       "  Q2 2019  4 W/E 02/27/21  \n",
       "0                     0.0  \n",
       "1                     0.0  \n",
       "2                     0.0  \n",
       "3                     0.0  \n",
       "4                     0.0  "
      ]
     },
     "execution_count": 49,
     "metadata": {},
     "output_type": "execute_result"
    }
   ],
   "source": [
    "Kris_Data.head()"
   ]
  },
  {
   "cell_type": "code",
   "execution_count": 50,
   "metadata": {
    "scrolled": false
   },
   "outputs": [
    {
     "data": {
      "text/html": [
       "<div>\n",
       "<style scoped>\n",
       "    .dataframe tbody tr th:only-of-type {\n",
       "        vertical-align: middle;\n",
       "    }\n",
       "\n",
       "    .dataframe tbody tr th {\n",
       "        vertical-align: top;\n",
       "    }\n",
       "\n",
       "    .dataframe thead th {\n",
       "        text-align: right;\n",
       "    }\n",
       "</style>\n",
       "<table border=\"1\" class=\"dataframe\">\n",
       "  <thead>\n",
       "    <tr style=\"text-align: right;\">\n",
       "      <th></th>\n",
       "      <th>Markets</th>\n",
       "      <th>ShareBasis</th>\n",
       "      <th>Manufacturer</th>\n",
       "      <th>Franchise</th>\n",
       "      <th>Brand</th>\n",
       "      <th>SubBrand</th>\n",
       "      <th>UPC</th>\n",
       "      <th>Item</th>\n",
       "      <th>Products</th>\n",
       "      <th>Facts</th>\n",
       "      <th>...</th>\n",
       "      <th>FY 2018</th>\n",
       "      <th>FY 2017</th>\n",
       "      <th>YTD 2021</th>\n",
       "      <th>YTD 2020</th>\n",
       "      <th>Latest 13 Weeks</th>\n",
       "      <th>Latest 26 Weeks</th>\n",
       "      <th>Q4 2019</th>\n",
       "      <th>Q3 2019</th>\n",
       "      <th>Q2 2019</th>\n",
       "      <th>4 W/E 02/27/21</th>\n",
       "    </tr>\n",
       "  </thead>\n",
       "  <tbody>\n",
       "    <tr>\n",
       "      <th>0</th>\n",
       "      <td>US AOC</td>\n",
       "      <td>LDL/DISHAIDS/WPS/FM/SPRAYS</td>\n",
       "      <td>COLGATE-PALMOLIVE</td>\n",
       "      <td>AJAX</td>\n",
       "      <td>AJAX</td>\n",
       "      <td>AJAX BLEACH ALTERNATIVE</td>\n",
       "      <td>003500044499</td>\n",
       "      <td>AJAX DISHWASHING DETERGENT LIQUID CITRUS BERR...</td>\n",
       "      <td>LDL/DISHAIDS/WPS/FM/SPRAYS | COLGATE-PALMOLIVE...</td>\n",
       "      <td>$ Shr - CP CATEGORY</td>\n",
       "      <td>...</td>\n",
       "      <td>0.024</td>\n",
       "      <td>0.084</td>\n",
       "      <td>0.0</td>\n",
       "      <td>0.000</td>\n",
       "      <td>0.0</td>\n",
       "      <td>0.0</td>\n",
       "      <td></td>\n",
       "      <td></td>\n",
       "      <td></td>\n",
       "      <td>0.0</td>\n",
       "    </tr>\n",
       "    <tr>\n",
       "      <th>1</th>\n",
       "      <td>US AOC</td>\n",
       "      <td>LDL/DISHAIDS/WPS/FM/SPRAYS</td>\n",
       "      <td>COLGATE-PALMOLIVE</td>\n",
       "      <td>AJAX</td>\n",
       "      <td>AJAX</td>\n",
       "      <td>AJAX BLEACH ALTERNATIVE</td>\n",
       "      <td>003500044499</td>\n",
       "      <td>AJAX DISHWASHING DETERGENT LIQUID CITRUS BERR...</td>\n",
       "      <td>LDL/DISHAIDS/WPS/FM/SPRAYS | COLGATE-PALMOLIVE...</td>\n",
       "      <td>$ Shr Chg YA - CP CATEGORY</td>\n",
       "      <td>...</td>\n",
       "      <td>-0.060</td>\n",
       "      <td>0.084</td>\n",
       "      <td>0.0</td>\n",
       "      <td>-0.003</td>\n",
       "      <td>0.0</td>\n",
       "      <td>0.0</td>\n",
       "      <td></td>\n",
       "      <td></td>\n",
       "      <td></td>\n",
       "      <td>0.0</td>\n",
       "    </tr>\n",
       "    <tr>\n",
       "      <th>2</th>\n",
       "      <td>US AOC</td>\n",
       "      <td>LDL/DISHAIDS/WPS/FM/SPRAYS</td>\n",
       "      <td>COLGATE-PALMOLIVE</td>\n",
       "      <td>AJAX</td>\n",
       "      <td>AJAX</td>\n",
       "      <td>AJAX BLEACH ALTERNATIVE</td>\n",
       "      <td>003500044499</td>\n",
       "      <td>AJAX DISHWASHING DETERGENT LIQUID CITRUS BERR...</td>\n",
       "      <td>LDL/DISHAIDS/WPS/FM/SPRAYS | COLGATE-PALMOLIVE...</td>\n",
       "      <td>Base $ Shr - CP CATEGORY</td>\n",
       "      <td>...</td>\n",
       "      <td>0.021</td>\n",
       "      <td>0.078</td>\n",
       "      <td>0.0</td>\n",
       "      <td>0.000</td>\n",
       "      <td>0.0</td>\n",
       "      <td>0.0</td>\n",
       "      <td></td>\n",
       "      <td></td>\n",
       "      <td></td>\n",
       "      <td>0.0</td>\n",
       "    </tr>\n",
       "  </tbody>\n",
       "</table>\n",
       "<p>3 rows × 22 columns</p>\n",
       "</div>"
      ],
      "text/plain": [
       "  Markets                   ShareBasis         Manufacturer Franchise   Brand  \\\n",
       "0  US AOC  LDL/DISHAIDS/WPS/FM/SPRAYS    COLGATE-PALMOLIVE      AJAX    AJAX    \n",
       "1  US AOC  LDL/DISHAIDS/WPS/FM/SPRAYS    COLGATE-PALMOLIVE      AJAX    AJAX    \n",
       "2  US AOC  LDL/DISHAIDS/WPS/FM/SPRAYS    COLGATE-PALMOLIVE      AJAX    AJAX    \n",
       "\n",
       "                    SubBrand             UPC  \\\n",
       "0   AJAX BLEACH ALTERNATIVE    003500044499    \n",
       "1   AJAX BLEACH ALTERNATIVE    003500044499    \n",
       "2   AJAX BLEACH ALTERNATIVE    003500044499    \n",
       "\n",
       "                                                Item  \\\n",
       "0   AJAX DISHWASHING DETERGENT LIQUID CITRUS BERR...   \n",
       "1   AJAX DISHWASHING DETERGENT LIQUID CITRUS BERR...   \n",
       "2   AJAX DISHWASHING DETERGENT LIQUID CITRUS BERR...   \n",
       "\n",
       "                                            Products  \\\n",
       "0  LDL/DISHAIDS/WPS/FM/SPRAYS | COLGATE-PALMOLIVE...   \n",
       "1  LDL/DISHAIDS/WPS/FM/SPRAYS | COLGATE-PALMOLIVE...   \n",
       "2  LDL/DISHAIDS/WPS/FM/SPRAYS | COLGATE-PALMOLIVE...   \n",
       "\n",
       "                        Facts  ...  FY 2018  FY 2017  YTD 2021  YTD 2020  \\\n",
       "0         $ Shr - CP CATEGORY  ...    0.024    0.084       0.0     0.000   \n",
       "1  $ Shr Chg YA - CP CATEGORY  ...   -0.060    0.084       0.0    -0.003   \n",
       "2    Base $ Shr - CP CATEGORY  ...    0.021    0.078       0.0     0.000   \n",
       "\n",
       "   Latest 13 Weeks  Latest 26 Weeks  Q4 2019  Q3 2019 Q2 2019 4 W/E 02/27/21  \n",
       "0              0.0              0.0                                      0.0  \n",
       "1              0.0              0.0                                      0.0  \n",
       "2              0.0              0.0                                      0.0  \n",
       "\n",
       "[3 rows x 22 columns]"
      ]
     },
     "execution_count": 50,
     "metadata": {},
     "output_type": "execute_result"
    }
   ],
   "source": [
    "Kris_Data[[\"ShareBasis\",\"Manufacturer\",\"Franchise\",\"Brand\",\"SubBrand\",\"UPC\",\"Item\"]] = Kris_Data['Products'].str.split('|',n=6,expand=True)\n",
    "\n",
    "\n",
    "Kris_Data[[\"ShareBasis\",\"Manufacturer\",\"Franchise\",\"Brand\",\"SubBrand\",\"UPC\",\"Item\"]]=Kris_Data[[\"ShareBasis\",\"Manufacturer\",\"Franchise\",\"Brand\",\"SubBrand\",\"UPC\",\"Item\"]].fillna(value=\"\")\n",
    "Kris_Data.head(3)\n",
    "\n",
    "# Moving columns after \"Market\"\n",
    "Kris_Data = movecol(Kris_Data, \n",
    "             cols_to_move=[\"ShareBasis\",\"Manufacturer\",\"Franchise\",\"Brand\",\"SubBrand\",\"UPC\",\"Item\"], \n",
    "             ref_col='Markets',\n",
    "             place='After')\n",
    "Kris_Data.head(3)"
   ]
  },
  {
   "cell_type": "code",
   "execution_count": 51,
   "metadata": {},
   "outputs": [],
   "source": [
    "cols=list(Kris_Data.columns[0:9])\n",
    "Kris_Data[cols]=Kris_Data[cols].apply(lambda x : x.str.strip())"
   ]
  },
  {
   "cell_type": "markdown",
   "metadata": {},
   "source": [
    "**Selection**"
   ]
  },
  {
   "cell_type": "code",
   "execution_count": 52,
   "metadata": {},
   "outputs": [],
   "source": [
    "Kris_Facts_Mapping={\n",
    "    '$':\"Dollars\",\n",
    "     '$ % Chg YA':\"Dollars_Chg\",\n",
    "     '$ / $MM ACV':\"Velocity\",\n",
    "     '$ / $MM ACV Chg YA':\"Velocity_Chg\",\n",
    "     '$ Shr - CP CATEGORY':\"Doll_Shr\",\n",
    "     '$ Shr Chg YA - CP CATEGORY':\"Doll_Shr_Chg\",\n",
    "     '%ACV':\"Store_selling\",\n",
    "     '%ACV Chg YA':\"Store_selling_Chg\",\n",
    "     'Base $ Shr - CP CATEGORY':\"Base_Doll_Shr\",\n",
    "     'Base $ Shr Chg YA - CP CATEGORY':\"Base_Doll_Shr_Chg\",\n",
    "     'TDP':\"Cum_Distri_Pts\",\n",
    "     'TDP Chg YA':\"Cum_Distri_Pts_Chg\",\n",
    "     'Units':\"Units\",\n",
    "     'Units / $MM ACV':\"Units_Velocity\"\n",
    "    }\n",
    "\n",
    "Kris_Data[\"Facts\"]=Kris_Data[\"Facts\"].replace(Kris_Facts_Mapping)"
   ]
  },
  {
   "cell_type": "code",
   "execution_count": 53,
   "metadata": {},
   "outputs": [
    {
     "data": {
      "text/plain": [
       "{'LDL/DISHAIDS/WPS/FM/SPRAYS'}"
      ]
     },
     "execution_count": 53,
     "metadata": {},
     "output_type": "execute_result"
    }
   ],
   "source": [
    "set(Kris_Data[\"ShareBasis\"])"
   ]
  },
  {
   "cell_type": "markdown",
   "metadata": {},
   "source": [
    "## Toothpaste"
   ]
  },
  {
   "cell_type": "code",
   "execution_count": null,
   "metadata": {},
   "outputs": [],
   "source": [
    "Kris_TP=Kris_Data[Kris_Data[\"ShareBasis\"]==\"TOOTHPASTE\"]"
   ]
  },
  {
   "cell_type": "code",
   "execution_count": null,
   "metadata": {},
   "outputs": [],
   "source": [
    "# Facts=[\"Doll_Shr\",\"Doll_Shr_Chg\",\"Base_Doll_Shr\",\"Base_Doll_Shr_Chg\",\"Store_selling\",\"Store_selling_Chg\",\"Velocity\",\"Velocity_Chg\",\"Cum_Distri_Pts\",\"Cum_Distri_Pts_Chg\",\"Dollars\",\"Dollars_Chg\",\"Prcnt_ACV\",\"Units\",\"Units_Velocity\"]\n",
    "# Markets=[]"
   ]
  },
  {
   "cell_type": "code",
   "execution_count": null,
   "metadata": {},
   "outputs": [],
   "source": [
    "Kris_TP.info()"
   ]
  },
  {
   "cell_type": "code",
   "execution_count": null,
   "metadata": {},
   "outputs": [],
   "source": [
    "Time_Period=list(Kris_TP.columns[17:18])+list(Kris_TP.columns[12:14])+list(Kris_TP.columns[11:12])+list(Kris_TP.columns[10:11])\n",
    "print(Time_Period)"
   ]
  },
  {
   "cell_type": "code",
   "execution_count": null,
   "metadata": {},
   "outputs": [],
   "source": []
  },
  {
   "cell_type": "code",
   "execution_count": null,
   "metadata": {
    "scrolled": true
   },
   "outputs": [],
   "source": [
    "Kris_TP.columns"
   ]
  },
  {
   "cell_type": "code",
   "execution_count": null,
   "metadata": {},
   "outputs": [],
   "source": [
    "Kris_TP.rename(columns={'Markets':\"MKT\", 'Item':\"PROD\", 'Manufacturer':\"CP.MANUFACTURER\",\n",
    "                           'Franchise':\"CP.FRANCHISE\", 'Brand':\"CP.BRAND\",\n",
    "                           'SubBrand':\"CP.SUBBRAND\", 'UPC':\"PRODUCT.CODE\",\n",
    "                           },inplace=True)"
   ]
  },
  {
   "cell_type": "code",
   "execution_count": null,
   "metadata": {},
   "outputs": [],
   "source": [
    "df1=pd.melt(Kris_TP, id_vars =[\"MKT\",\"PROD\",\"CP.MANUFACTURER\",\"CP.FRANCHISE\",\"CP.BRAND\",\"CP.SUBBRAND\",\"PRODUCT.CODE\",\"Facts\"], value_vars =Time_Period,var_name=\"PER\")\n",
    "\n",
    "df1[\"value\"]=df1[\"value\"].apply(pd.to_numeric)"
   ]
  },
  {
   "cell_type": "code",
   "execution_count": null,
   "metadata": {},
   "outputs": [],
   "source": [
    "df2=df1.pivot_table(index=[\"MKT\",\"PROD\",\"CP.MANUFACTURER\",\"CP.FRANCHISE\",\"CP.BRAND\",\"CP.SUBBRAND\",\"PRODUCT.CODE\",'PER'],columns='Facts')\n",
    "\n",
    "df2.columns=df2.columns.droplevel().rename(None)\n",
    "df2.reset_index(inplace =True)"
   ]
  },
  {
   "cell_type": "code",
   "execution_count": null,
   "metadata": {},
   "outputs": [],
   "source": [
    "from pandas.api.types import CategoricalDtype\n",
    "\n",
    "Time_Period_order = CategoricalDtype(\n",
    "    Time_Period, \n",
    "    ordered=True\n",
    ")\n",
    "\n",
    "df2['PER'] = df2['PER'].astype(Time_Period_order)\n",
    "\n",
    "df2.sort_values(['MKT','PROD','PER'],inplace=True)"
   ]
  },
  {
   "cell_type": "code",
   "execution_count": null,
   "metadata": {},
   "outputs": [],
   "source": [
    "df2[\"Prcnt_ACV\"]=df2[\"Store_selling\"]\n",
    "\n",
    "final_column_sorting=[\"MKT\",\"PROD\",\"CP.MANUFACTURER\",\"CP.FRANCHISE\",\"CP.BRAND\",\"CP.SUBBRAND\",\"PRODUCT.CODE\",\"PER\",\n",
    "                      \"Doll_Shr\",\"Doll_Shr_Chg\",\"Base_Doll_Shr\",\"Base_Doll_Shr_Chg\",\"Store_selling\",\"Store_selling_Chg\",\n",
    "                      \"Velocity\",\"Velocity_Chg\",\"Cum_Distri_Pts\",\"Cum_Distri_Pts_Chg\",\"Dollars\",\"Dollars_Chg\",\n",
    "                      \"Prcnt_ACV\",\"Units\",\"Units_Velocity\"\n",
    "                      ]\n",
    "Kris_Data_final=df2[final_column_sorting]"
   ]
  },
  {
   "cell_type": "code",
   "execution_count": null,
   "metadata": {
    "scrolled": true
   },
   "outputs": [],
   "source": [
    "Kris_Data_final.head(3)"
   ]
  },
  {
   "cell_type": "code",
   "execution_count": null,
   "metadata": {},
   "outputs": [],
   "source": [
    "Kris_Data_final.to_csv(path_TP+\"kris_data_TP.csv\",index=False)"
   ]
  },
  {
   "cell_type": "code",
   "execution_count": null,
   "metadata": {},
   "outputs": [],
   "source": []
  },
  {
   "cell_type": "markdown",
   "metadata": {},
   "source": [
    "## MW"
   ]
  },
  {
   "cell_type": "code",
   "execution_count": null,
   "metadata": {},
   "outputs": [],
   "source": [
    "Kris_MW=Kris_Data[Kris_Data[\"ShareBasis\"]==\"MOUTHWASH\"]"
   ]
  },
  {
   "cell_type": "code",
   "execution_count": null,
   "metadata": {},
   "outputs": [],
   "source": [
    "# Facts=[\"Doll_Shr\",\"Doll_Shr_Chg\",\"Base_Doll_Shr\",\"Base_Doll_Shr_Chg\",\"Store_selling\",\"Store_selling_Chg\",\"Velocity\",\"Velocity_Chg\",\"Cum_Distri_Pts\",\"Cum_Distri_Pts_Chg\",\"Dollars\",\"Dollars_Chg\",\"Prcnt_ACV\",\"Units\",\"Units_Velocity\"]\n",
    "# Markets=[]"
   ]
  },
  {
   "cell_type": "code",
   "execution_count": null,
   "metadata": {},
   "outputs": [],
   "source": [
    "Kris_MW.info()"
   ]
  },
  {
   "cell_type": "code",
   "execution_count": null,
   "metadata": {},
   "outputs": [],
   "source": [
    "Time_Period=list(Kris_MW.columns[21:22])+list(Kris_MW.columns[16:18])+list(Kris_MW.columns[14:15])+list(Kris_MW.columns[10:11])\n",
    "print(Time_Period)"
   ]
  },
  {
   "cell_type": "code",
   "execution_count": null,
   "metadata": {},
   "outputs": [],
   "source": []
  },
  {
   "cell_type": "code",
   "execution_count": null,
   "metadata": {
    "scrolled": true
   },
   "outputs": [],
   "source": [
    "Kris_MW.columns"
   ]
  },
  {
   "cell_type": "code",
   "execution_count": null,
   "metadata": {},
   "outputs": [],
   "source": [
    "Kris_MW.rename(columns={'Markets':\"MKT\", 'Item':\"PROD\", 'Manufacturer':\"CP.MANUFACTURER\",\n",
    "                           'Franchise':\"CP.FRANCHISE\", 'Brand':\"CP.BRAND\",\n",
    "                           'SubBrand':\"CP.SUBBRAND\", 'UPC':\"PRODUCT.CODE\",\n",
    "                           },inplace=True)"
   ]
  },
  {
   "cell_type": "code",
   "execution_count": null,
   "metadata": {},
   "outputs": [],
   "source": [
    "df1=pd.melt(Kris_MW, id_vars =[\"MKT\",\"PROD\",\"CP.MANUFACTURER\",\"CP.FRANCHISE\",\"CP.BRAND\",\"CP.SUBBRAND\",\"PRODUCT.CODE\",\"Facts\"], value_vars =Time_Period,var_name=\"PER\")\n",
    "\n",
    "df1[\"value\"]=df1[\"value\"].apply(pd.to_numeric)"
   ]
  },
  {
   "cell_type": "code",
   "execution_count": null,
   "metadata": {},
   "outputs": [],
   "source": [
    "df2=df1.pivot_table(index=[\"MKT\",\"PROD\",\"CP.MANUFACTURER\",\"CP.FRANCHISE\",\"CP.BRAND\",\"CP.SUBBRAND\",\"PRODUCT.CODE\",'PER'],columns='Facts')\n",
    "\n",
    "df2.columns=df2.columns.droplevel().rename(None)\n",
    "df2.reset_index(inplace =True)"
   ]
  },
  {
   "cell_type": "code",
   "execution_count": null,
   "metadata": {},
   "outputs": [],
   "source": [
    "from pandas.api.types import CategoricalDtype\n",
    "\n",
    "Time_Period_order = CategoricalDtype(\n",
    "    Time_Period, \n",
    "    ordered=True\n",
    ")\n",
    "\n",
    "df2['PER'] = df2['PER'].astype(Time_Period_order)\n",
    "\n",
    "df2.sort_values(['MKT','PROD','PER'],inplace=True)"
   ]
  },
  {
   "cell_type": "code",
   "execution_count": null,
   "metadata": {},
   "outputs": [],
   "source": [
    "df2[\"Prcnt_ACV\"]=df2[\"Store_selling\"]\n",
    "\n",
    "final_column_sorting=[\"MKT\",\"PROD\",\"CP.MANUFACTURER\",\"CP.FRANCHISE\",\"CP.BRAND\",\"CP.SUBBRAND\",\"PRODUCT.CODE\",\"PER\",\n",
    "                      \"Doll_Shr\",\"Doll_Shr_Chg\",\"Base_Doll_Shr\",\"Base_Doll_Shr_Chg\",\"Store_selling\",\"Store_selling_Chg\",\n",
    "                      \"Velocity\",\"Velocity_Chg\",\"Cum_Distri_Pts\",\"Cum_Distri_Pts_Chg\",\"Dollars\",\"Dollars_Chg\",\n",
    "                      \"Prcnt_ACV\",\"Units\",\"Units_Velocity\"\n",
    "                      ]\n",
    "Kris_Data_final=df2[final_column_sorting]"
   ]
  },
  {
   "cell_type": "code",
   "execution_count": null,
   "metadata": {
    "scrolled": true
   },
   "outputs": [],
   "source": [
    "Kris_Data_final.head(3)"
   ]
  },
  {
   "cell_type": "code",
   "execution_count": null,
   "metadata": {
    "scrolled": true
   },
   "outputs": [],
   "source": [
    "path_MW = r\"//falmumapp34/Nielsen Connect Transition & Maintenance (20-SCP-3650)/05. Output Data/5P Output/MW\""
   ]
  },
  {
   "cell_type": "code",
   "execution_count": null,
   "metadata": {},
   "outputs": [],
   "source": [
    "Kris_Data_final.to_csv(path_MW+\"/kris_data_MW.csv\",index=False)"
   ]
  },
  {
   "cell_type": "code",
   "execution_count": null,
   "metadata": {},
   "outputs": [],
   "source": []
  },
  {
   "cell_type": "markdown",
   "metadata": {},
   "source": [
    "## MTB"
   ]
  },
  {
   "cell_type": "code",
   "execution_count": null,
   "metadata": {},
   "outputs": [],
   "source": [
    "path_MTB = \"//falmumapp34/Nielsen Connect Transition & Maintenance (20-SCP-3650)/05. Output Data/5P Output/MTB/\""
   ]
  },
  {
   "cell_type": "code",
   "execution_count": null,
   "metadata": {},
   "outputs": [],
   "source": [
    "Kris_MTB=Kris_Data[Kris_Data[\"ShareBasis\"]==\"MANUAL\"]"
   ]
  },
  {
   "cell_type": "code",
   "execution_count": null,
   "metadata": {},
   "outputs": [],
   "source": [
    "# Facts=[\"Doll_Shr\",\"Doll_Shr_Chg\",\"Base_Doll_Shr\",\"Base_Doll_Shr_Chg\",\"Store_selling\",\"Store_selling_Chg\",\"Velocity\",\"Velocity_Chg\",\"Cum_Distri_Pts\",\"Cum_Distri_Pts_Chg\",\"Dollars\",\"Dollars_Chg\",\"Prcnt_ACV\",\"Units\",\"Units_Velocity\"]\n",
    "# Markets=[]"
   ]
  },
  {
   "cell_type": "code",
   "execution_count": null,
   "metadata": {},
   "outputs": [],
   "source": [
    "Kris_MTB.info()"
   ]
  },
  {
   "cell_type": "code",
   "execution_count": null,
   "metadata": {},
   "outputs": [],
   "source": [
    "Time_Period=list(Kris_MTB.columns[19:20])+list(Kris_MTB.columns[14:16])+list(Kris_MTB.columns[12:13])+list(Kris_MTB.columns[10:11])\n",
    "print(Time_Period)"
   ]
  },
  {
   "cell_type": "code",
   "execution_count": null,
   "metadata": {},
   "outputs": [],
   "source": []
  },
  {
   "cell_type": "code",
   "execution_count": null,
   "metadata": {
    "scrolled": true
   },
   "outputs": [],
   "source": [
    "Kris_MTB.columns"
   ]
  },
  {
   "cell_type": "code",
   "execution_count": null,
   "metadata": {},
   "outputs": [],
   "source": [
    "Kris_MTB.rename(columns={'Markets':\"MKT\", 'Item':\"PROD\", 'Manufacturer':\"CP.MANUFACTURER\",\n",
    "                           'Franchise':\"CP.FRANCHISE\", 'Brand':\"CP.BRAND\",\"ShareBasis\":\"CP_SHARE_BASIS\",\n",
    "                           'SubBrand':\"CP.SUBBRAND\", 'UPC':\"PRODUCT.CODE\",\n",
    "                           },inplace=True)"
   ]
  },
  {
   "cell_type": "code",
   "execution_count": null,
   "metadata": {},
   "outputs": [],
   "source": [
    "df1=pd.melt(Kris_MTB, id_vars =[\"MKT\",\"PROD\",\"CP.MANUFACTURER\",\"CP.FRANCHISE\",\"CP.BRAND\",\"CP.SUBBRAND\",\"PRODUCT.CODE\",\"Facts\",\"CP_SHARE_BASIS\"], value_vars =Time_Period,var_name=\"PER\")\n",
    "\n",
    "df1[\"value\"]=df1[\"value\"].apply(pd.to_numeric)"
   ]
  },
  {
   "cell_type": "code",
   "execution_count": null,
   "metadata": {},
   "outputs": [],
   "source": [
    "df2=df1.pivot_table(index=[\"MKT\",\"PROD\",\"CP.MANUFACTURER\",\"CP.FRANCHISE\",\"CP.BRAND\",\"CP.SUBBRAND\",\"PRODUCT.CODE\",'PER',\"CP_SHARE_BASIS\"],columns='Facts')\n",
    "\n",
    "df2.columns=df2.columns.droplevel().rename(None)\n",
    "df2.reset_index(inplace =True)"
   ]
  },
  {
   "cell_type": "code",
   "execution_count": null,
   "metadata": {},
   "outputs": [],
   "source": [
    "from pandas.api.types import CategoricalDtype\n",
    "\n",
    "Time_Period_order = CategoricalDtype(\n",
    "    Time_Period, \n",
    "    ordered=True\n",
    ")\n",
    "\n",
    "df2['PER'] = df2['PER'].astype(Time_Period_order)\n",
    "\n",
    "df2.sort_values(['MKT','PROD','PER'],inplace=True)"
   ]
  },
  {
   "cell_type": "code",
   "execution_count": null,
   "metadata": {},
   "outputs": [],
   "source": [
    "df2[\"Prcnt_ACV\"]=df2[\"Store_selling\"]\n",
    "\n",
    "final_column_sorting=[\"MKT\",\"PROD\",\"CP.MANUFACTURER\",\"CP.FRANCHISE\",\"CP.BRAND\",\"CP.SUBBRAND\",\"PRODUCT.CODE\",\"PER\",\n",
    "                      \"Doll_Shr\",\"Doll_Shr_Chg\",\"Base_Doll_Shr\",\"Base_Doll_Shr_Chg\",\"Store_selling\",\"Store_selling_Chg\",\n",
    "                      \"Velocity\",\"Velocity_Chg\",\"Cum_Distri_Pts\",\"Cum_Distri_Pts_Chg\",\"Dollars\",\"Dollars_Chg\",\n",
    "                      \"Prcnt_ACV\",\"Units\",\"Units_Velocity\",\"CP_SHARE_BASIS\"\n",
    "                      ]\n",
    "Kris_Data_final=df2[final_column_sorting]"
   ]
  },
  {
   "cell_type": "code",
   "execution_count": null,
   "metadata": {
    "scrolled": true
   },
   "outputs": [],
   "source": [
    "Kris_Data_final.head(3)"
   ]
  },
  {
   "cell_type": "code",
   "execution_count": null,
   "metadata": {},
   "outputs": [],
   "source": [
    "Kris_Data_final.to_csv(path_MTB+\"kris_data_MTB.csv\",index=False)"
   ]
  },
  {
   "cell_type": "code",
   "execution_count": null,
   "metadata": {},
   "outputs": [],
   "source": []
  },
  {
   "cell_type": "markdown",
   "metadata": {},
   "source": [
    "### PTB"
   ]
  },
  {
   "cell_type": "code",
   "execution_count": null,
   "metadata": {},
   "outputs": [],
   "source": [
    "Kris_PTB=Kris_Data[Kris_Data[\"ShareBasis\"].isin(['BATTERY+HYBRID', 'PORTABLE TB', 'POWER'])]"
   ]
  },
  {
   "cell_type": "code",
   "execution_count": null,
   "metadata": {},
   "outputs": [],
   "source": [
    "Kris_PTB.shape"
   ]
  },
  {
   "cell_type": "code",
   "execution_count": null,
   "metadata": {},
   "outputs": [],
   "source": [
    "Kris_PTB[\"ShareBasis\"].replace({\"POWER\":\"TOTAL POWER\",\"PORTABLE TB\":\"TOTAL POWER\"},inplace = True)"
   ]
  },
  {
   "cell_type": "code",
   "execution_count": null,
   "metadata": {},
   "outputs": [],
   "source": [
    "Kris_PTB.shape"
   ]
  },
  {
   "cell_type": "code",
   "execution_count": null,
   "metadata": {},
   "outputs": [],
   "source": [
    "set(Kris_PTB[\"ShareBasis\"])"
   ]
  },
  {
   "cell_type": "code",
   "execution_count": null,
   "metadata": {},
   "outputs": [],
   "source": [
    "# Facts=[\"Doll_Shr\",\"Doll_Shr_Chg\",\"Base_Doll_Shr\",\"Base_Doll_Shr_Chg\",\"Store_selling\",\"Store_selling_Chg\",\"Velocity\",\"Velocity_Chg\",\"Cum_Distri_Pts\",\"Cum_Distri_Pts_Chg\",\"Dollars\",\"Dollars_Chg\",\"Prcnt_ACV\",\"Units\",\"Units_Velocity\"]\n",
    "# Markets=[]"
   ]
  },
  {
   "cell_type": "code",
   "execution_count": null,
   "metadata": {},
   "outputs": [],
   "source": [
    "Kris_PTB.info()"
   ]
  },
  {
   "cell_type": "code",
   "execution_count": null,
   "metadata": {},
   "outputs": [],
   "source": [
    "Time_Period=list(Kris_PTB.columns[19:20])+list(Kris_PTB.columns[14:16])+list(Kris_PTB.columns[12:13])+list(Kris_PTB.columns[10:11])\n",
    "print(Time_Period)"
   ]
  },
  {
   "cell_type": "code",
   "execution_count": null,
   "metadata": {},
   "outputs": [],
   "source": []
  },
  {
   "cell_type": "code",
   "execution_count": null,
   "metadata": {
    "scrolled": true
   },
   "outputs": [],
   "source": [
    "Kris_PTB.columns"
   ]
  },
  {
   "cell_type": "code",
   "execution_count": null,
   "metadata": {},
   "outputs": [],
   "source": [
    "Kris_PTB.rename(columns={'Markets':\"MKT\", 'Item':\"PROD\", 'Manufacturer':\"CP.MANUFACTURER\",\n",
    "                           'Franchise':\"CP.FRANCHISE\", 'Brand':\"CP.BRAND\",\"ShareBasis\":\"CP_SHARE_BASIS\",\n",
    "                           'SubBrand':\"CP.SUBBRAND\", 'UPC':\"PRODUCT.CODE\",\n",
    "                           },inplace=True)"
   ]
  },
  {
   "cell_type": "code",
   "execution_count": null,
   "metadata": {},
   "outputs": [],
   "source": [
    "df1=pd.melt(Kris_PTB, id_vars =[\"MKT\",\"PROD\",\"CP.MANUFACTURER\",\"CP.FRANCHISE\",\"CP.BRAND\",\"CP.SUBBRAND\",\"PRODUCT.CODE\",\"Facts\",\"CP_SHARE_BASIS\"], value_vars =Time_Period,var_name=\"PER\")\n",
    "\n",
    "df1[\"value\"]=df1[\"value\"].apply(pd.to_numeric)"
   ]
  },
  {
   "cell_type": "code",
   "execution_count": null,
   "metadata": {},
   "outputs": [],
   "source": [
    "df2=df1.pivot_table(index=[\"MKT\",\"PROD\",\"CP.MANUFACTURER\",\"CP.FRANCHISE\",\"CP.BRAND\",\"CP.SUBBRAND\",\"PRODUCT.CODE\",'PER',\"CP_SHARE_BASIS\"],columns='Facts')\n",
    "\n",
    "df2.columns=df2.columns.droplevel().rename(None)\n",
    "df2.reset_index(inplace =True)"
   ]
  },
  {
   "cell_type": "code",
   "execution_count": null,
   "metadata": {},
   "outputs": [],
   "source": [
    "from pandas.api.types import CategoricalDtype\n",
    "\n",
    "Time_Period_order = CategoricalDtype(\n",
    "    Time_Period, \n",
    "    ordered=True\n",
    ")\n",
    "\n",
    "df2['PER'] = df2['PER'].astype(Time_Period_order)\n",
    "\n",
    "df2.sort_values(['CP_BATTERY_HYBRID','MKT','PROD','PER'],inplace=True)"
   ]
  },
  {
   "cell_type": "code",
   "execution_count": null,
   "metadata": {},
   "outputs": [],
   "source": [
    "df2[\"Prcnt_ACV\"]=df2[\"Store_selling\"]\n",
    "\n",
    "final_column_sorting=[\"MKT\",\"PROD\",\"CP.MANUFACTURER\",\"CP.FRANCHISE\",\"CP.BRAND\",\"CP.SUBBRAND\",\"PRODUCT.CODE\",\"PER\",\n",
    "                      \"Doll_Shr\",\"Doll_Shr_Chg\",\"Base_Doll_Shr\",\"Base_Doll_Shr_Chg\",\"Store_selling\",\"Store_selling_Chg\",\n",
    "                      \"Velocity\",\"Velocity_Chg\",\"Cum_Distri_Pts\",\"Cum_Distri_Pts_Chg\",\"Dollars\",\"Dollars_Chg\",\n",
    "                      \"Prcnt_ACV\",\"Units\",\"Units_Velocity\",\"CP_SHARE_BASIS\"\n",
    "                      ]\n",
    "Kris_Data_final=df2[final_column_sorting]"
   ]
  },
  {
   "cell_type": "code",
   "execution_count": null,
   "metadata": {
    "scrolled": true
   },
   "outputs": [],
   "source": [
    "Kris_Data_final.head(15)"
   ]
  },
  {
   "cell_type": "code",
   "execution_count": null,
   "metadata": {},
   "outputs": [],
   "source": [
    "Kris_PTB = \"//falmumapp34/Nielsen Connect Transition & Maintenance (20-SCP-3650)/05. Output Data/5P Output/PTB/\"\n",
    "\n",
    "Kris_Data_final.to_csv(Kris_PTB+\"kris_data_PTB.csv\",index=False)"
   ]
  },
  {
   "cell_type": "code",
   "execution_count": null,
   "metadata": {},
   "outputs": [],
   "source": []
  },
  {
   "cell_type": "markdown",
   "metadata": {},
   "source": [
    "## HHC"
   ]
  },
  {
   "cell_type": "code",
   "execution_count": null,
   "metadata": {},
   "outputs": [],
   "source": [
    "path_HHC = \"//falmumapp34/Nielsen Connect Transition & Maintenance (20-SCP-3650)/05. Output Data/5P Output/HHC/\""
   ]
  },
  {
   "cell_type": "code",
   "execution_count": null,
   "metadata": {},
   "outputs": [],
   "source": [
    "Kris_HHC=Kris_Data[Kris_Data[\"ShareBasis\"].isin(['ABRASIVE', 'APC+WW', 'POUR APC+WW'])]"
   ]
  },
  {
   "cell_type": "code",
   "execution_count": null,
   "metadata": {},
   "outputs": [],
   "source": [
    "# Facts=[\"Doll_Shr\",\"Doll_Shr_Chg\",\"Base_Doll_Shr\",\"Base_Doll_Shr_Chg\",\"Store_selling\",\"Store_selling_Chg\",\"Velocity\",\"Velocity_Chg\",\"Cum_Distri_Pts\",\"Cum_Distri_Pts_Chg\",\"Dollars\",\"Dollars_Chg\",\"Prcnt_ACV\",\"Units\",\"Units_Velocity\"]\n",
    "# Markets=[]"
   ]
  },
  {
   "cell_type": "code",
   "execution_count": null,
   "metadata": {},
   "outputs": [],
   "source": [
    "Kris_HHC.info()"
   ]
  },
  {
   "cell_type": "code",
   "execution_count": null,
   "metadata": {},
   "outputs": [],
   "source": [
    "Time_Period=list(Kris_HHC.columns[21:22])+list(Kris_HHC.columns[16:18])+list(Kris_HHC.columns[14:15])+list(Kris_HHC.columns[10:11])\n",
    "print(Time_Period)"
   ]
  },
  {
   "cell_type": "code",
   "execution_count": null,
   "metadata": {},
   "outputs": [],
   "source": []
  },
  {
   "cell_type": "code",
   "execution_count": null,
   "metadata": {
    "scrolled": true
   },
   "outputs": [],
   "source": [
    "Kris_HHC.columns"
   ]
  },
  {
   "cell_type": "code",
   "execution_count": null,
   "metadata": {},
   "outputs": [],
   "source": [
    "Kris_HHC.rename(columns={'Markets':\"MKT\", 'Item':\"PROD\", 'Manufacturer':\"CP.MANUFACTURER\",\n",
    "                           'Franchise':\"CP.FRANCHISE\", 'Brand':\"CP.BRAND\",\"ShareBasis\":\"CP_SHARE_BASIS\",\n",
    "                           'SubBrand':\"CP.SUBBRAND\", 'UPC':\"PRODUCT.CODE\",\n",
    "                           },inplace=True)"
   ]
  },
  {
   "cell_type": "code",
   "execution_count": null,
   "metadata": {},
   "outputs": [],
   "source": [
    "df1=pd.melt(Kris_HHC, id_vars =[\"MKT\",\"PROD\",\"CP.MANUFACTURER\",\"CP.FRANCHISE\",\"CP.BRAND\",\"CP.SUBBRAND\",\"PRODUCT.CODE\",\"Facts\",\"CP_SHARE_BASIS\"], value_vars =Time_Period,var_name=\"PER\")\n",
    "\n",
    "df1[\"value\"]=df1[\"value\"].apply(pd.to_numeric)"
   ]
  },
  {
   "cell_type": "code",
   "execution_count": null,
   "metadata": {},
   "outputs": [],
   "source": [
    "df2=df1.pivot_table(index=[\"MKT\",\"PROD\",\"CP.MANUFACTURER\",\"CP.FRANCHISE\",\"CP.BRAND\",\"CP.SUBBRAND\",\"PRODUCT.CODE\",'PER',\"CP_SHARE_BASIS\"],columns='Facts')\n",
    "\n",
    "df2.columns=df2.columns.droplevel().rename(None)\n",
    "df2.reset_index(inplace =True)"
   ]
  },
  {
   "cell_type": "code",
   "execution_count": null,
   "metadata": {},
   "outputs": [],
   "source": [
    "from pandas.api.types import CategoricalDtype\n",
    "\n",
    "Time_Period_order = CategoricalDtype(\n",
    "    Time_Period, \n",
    "    ordered=True\n",
    ")\n",
    "\n",
    "df2['PER'] = df2['PER'].astype(Time_Period_order)\n",
    "\n",
    "df2.sort_values(['MKT','PROD','PER'],inplace=True)"
   ]
  },
  {
   "cell_type": "code",
   "execution_count": null,
   "metadata": {},
   "outputs": [],
   "source": [
    "df2[\"Prcnt_ACV\"]=df2[\"Store_selling\"]\n",
    "\n",
    "final_column_sorting=[\"MKT\",\"PROD\",\"CP.MANUFACTURER\",\"CP.FRANCHISE\",\"CP.BRAND\",\"CP.SUBBRAND\",\"PRODUCT.CODE\",\"PER\",\n",
    "                      \"Doll_Shr\",\"Doll_Shr_Chg\",\"Base_Doll_Shr\",\"Base_Doll_Shr_Chg\",\"Store_selling\",\"Store_selling_Chg\",\n",
    "                      \"Velocity\",\"Velocity_Chg\",\"Cum_Distri_Pts\",\"Cum_Distri_Pts_Chg\",\"Dollars\",\"Dollars_Chg\",\n",
    "                      \"Prcnt_ACV\",\"Units\",\"Units_Velocity\",\"CP_SHARE_BASIS\"\n",
    "                      ]\n",
    "Kris_Data_final=df2[final_column_sorting]"
   ]
  },
  {
   "cell_type": "code",
   "execution_count": null,
   "metadata": {
    "scrolled": true
   },
   "outputs": [],
   "source": [
    "Kris_Data_final.head(3)"
   ]
  },
  {
   "cell_type": "code",
   "execution_count": null,
   "metadata": {},
   "outputs": [],
   "source": [
    "del Kris_Data_final[\"CP_SHARE_BASIS\"]"
   ]
  },
  {
   "cell_type": "code",
   "execution_count": null,
   "metadata": {},
   "outputs": [],
   "source": [
    "Kris_Data_final.to_csv(path_HHC+\"kris_data_HHC.csv\",index=False)"
   ]
  },
  {
   "cell_type": "code",
   "execution_count": null,
   "metadata": {},
   "outputs": [],
   "source": []
  },
  {
   "cell_type": "markdown",
   "metadata": {},
   "source": [
    "## LHS\n"
   ]
  },
  {
   "cell_type": "code",
   "execution_count": 21,
   "metadata": {},
   "outputs": [],
   "source": [
    "Kris_LHS=Kris_Data[Kris_Data[\"ShareBasis\"]==\"LIQUID\"]"
   ]
  },
  {
   "cell_type": "code",
   "execution_count": 22,
   "metadata": {},
   "outputs": [],
   "source": [
    "# Facts=[\"Doll_Shr\",\"Doll_Shr_Chg\",\"Base_Doll_Shr\",\"Base_Doll_Shr_Chg\",\"Store_selling\",\"Store_selling_Chg\",\"Velocity\",\"Velocity_Chg\",\"Cum_Distri_Pts\",\"Cum_Distri_Pts_Chg\",\"Dollars\",\"Dollars_Chg\",\"Prcnt_ACV\",\"Units\",\"Units_Velocity\"]\n",
    "# Markets=[]"
   ]
  },
  {
   "cell_type": "code",
   "execution_count": 23,
   "metadata": {},
   "outputs": [
    {
     "name": "stdout",
     "output_type": "stream",
     "text": [
      "<class 'pandas.core.frame.DataFrame'>\n",
      "Int64Index: 8526 entries, 0 to 8525\n",
      "Data columns (total 20 columns):\n",
      " #   Column           Non-Null Count  Dtype  \n",
      "---  ------           --------------  -----  \n",
      " 0   Markets          8526 non-null   object \n",
      " 1   ShareBasis       8526 non-null   object \n",
      " 2   Manufacturer     8526 non-null   object \n",
      " 3   Franchise        8526 non-null   object \n",
      " 4   Brand            8526 non-null   object \n",
      " 5   SubBrand         8526 non-null   object \n",
      " 6   UPC              8526 non-null   object \n",
      " 7   Item             8526 non-null   object \n",
      " 8   Products         8526 non-null   object \n",
      " 9   Facts            8526 non-null   object \n",
      " 10  FY 2020          8526 non-null   float64\n",
      " 11  FY 2019          8526 non-null   float64\n",
      " 12  YTD 2021         8526 non-null   float64\n",
      " 13  YTD 2020         8526 non-null   float64\n",
      " 14  Latest 13 Weeks  8526 non-null   float64\n",
      " 15  Latest 26 Weeks  8526 non-null   float64\n",
      " 16  Q4 2019          8526 non-null   object \n",
      " 17  Q3 2019          8526 non-null   object \n",
      " 18  Q2 2019          8526 non-null   object \n",
      " 19  4 W/E 02/27/21   8526 non-null   float64\n",
      "dtypes: float64(7), object(13)\n",
      "memory usage: 1.4+ MB\n"
     ]
    }
   ],
   "source": [
    "Kris_LHS.info()"
   ]
  },
  {
   "cell_type": "code",
   "execution_count": 24,
   "metadata": {},
   "outputs": [
    {
     "name": "stdout",
     "output_type": "stream",
     "text": [
      "['4 W/E 02/27/21', 'Latest 13 Weeks', 'Latest 26 Weeks', 'YTD 2021', 'FY 2020']\n"
     ]
    }
   ],
   "source": [
    "Time_Period=list(Kris_LHS.columns[19:20])+list(Kris_LHS.columns[14:16])+list(Kris_LHS.columns[12:13])+list(Kris_LHS.columns[10:11])\n",
    "print(Time_Period)"
   ]
  },
  {
   "cell_type": "code",
   "execution_count": null,
   "metadata": {},
   "outputs": [],
   "source": []
  },
  {
   "cell_type": "code",
   "execution_count": 25,
   "metadata": {
    "scrolled": true
   },
   "outputs": [
    {
     "data": {
      "text/plain": [
       "Index(['Markets', 'ShareBasis', 'Manufacturer', 'Franchise', 'Brand',\n",
       "       'SubBrand', 'UPC', 'Item', 'Products', 'Facts', 'FY 2020', 'FY 2019',\n",
       "       'YTD 2021', 'YTD 2020', 'Latest 13 Weeks', 'Latest 26 Weeks', 'Q4 2019',\n",
       "       'Q3 2019', 'Q2 2019', '4 W/E 02/27/21'],\n",
       "      dtype='object')"
      ]
     },
     "execution_count": 25,
     "metadata": {},
     "output_type": "execute_result"
    }
   ],
   "source": [
    "Kris_LHS.columns"
   ]
  },
  {
   "cell_type": "code",
   "execution_count": 26,
   "metadata": {},
   "outputs": [],
   "source": [
    "Kris_LHS.rename(columns={'Markets':\"MKT\", 'Item':\"PROD\", 'Manufacturer':\"CP.MANUFACTURER\",\n",
    "                           'Franchise':\"CP.FRANCHISE\", 'Brand':\"CP.BRAND\",\n",
    "                           'SubBrand':\"CP.SUBBRAND\", 'UPC':\"PRODUCT.CODE\",\n",
    "                           },inplace=True)"
   ]
  },
  {
   "cell_type": "code",
   "execution_count": 27,
   "metadata": {},
   "outputs": [],
   "source": [
    "df1=pd.melt(Kris_LHS, id_vars =[\"MKT\",\"PROD\",\"CP.MANUFACTURER\",\"CP.FRANCHISE\",\"CP.BRAND\",\"CP.SUBBRAND\",\"PRODUCT.CODE\",\"Facts\"], value_vars =Time_Period,var_name=\"PER\")\n",
    "\n",
    "df1[\"value\"]=df1[\"value\"].apply(pd.to_numeric)"
   ]
  },
  {
   "cell_type": "code",
   "execution_count": 28,
   "metadata": {},
   "outputs": [],
   "source": [
    "df2=df1.pivot_table(index=[\"MKT\",\"PROD\",\"CP.MANUFACTURER\",\"CP.FRANCHISE\",\"CP.BRAND\",\"CP.SUBBRAND\",\"PRODUCT.CODE\",'PER'],columns='Facts')\n",
    "\n",
    "df2.columns=df2.columns.droplevel().rename(None)\n",
    "df2.reset_index(inplace =True)"
   ]
  },
  {
   "cell_type": "code",
   "execution_count": 29,
   "metadata": {},
   "outputs": [],
   "source": [
    "from pandas.api.types import CategoricalDtype\n",
    "\n",
    "Time_Period_order = CategoricalDtype(\n",
    "    Time_Period, \n",
    "    ordered=True\n",
    ")\n",
    "\n",
    "df2['PER'] = df2['PER'].astype(Time_Period_order)\n",
    "\n",
    "df2.sort_values(['MKT','PROD','PER'],inplace=True)"
   ]
  },
  {
   "cell_type": "code",
   "execution_count": 30,
   "metadata": {},
   "outputs": [],
   "source": [
    "df2[\"Prcnt_ACV\"]=df2[\"Store_selling\"]\n",
    "\n",
    "final_column_sorting=[\"MKT\",\"PROD\",\"CP.MANUFACTURER\",\"CP.FRANCHISE\",\"CP.BRAND\",\"CP.SUBBRAND\",\"PRODUCT.CODE\",\"PER\",\n",
    "                      \"Doll_Shr\",\"Doll_Shr_Chg\",\"Base_Doll_Shr\",\"Base_Doll_Shr_Chg\",\"Store_selling\",\"Store_selling_Chg\",\n",
    "                      \"Velocity\",\"Velocity_Chg\",\"Cum_Distri_Pts\",\"Cum_Distri_Pts_Chg\",\"Dollars\",\"Dollars_Chg\",\n",
    "                      \"Prcnt_ACV\",\"Units\",\"Units_Velocity\"\n",
    "                      ]\n",
    "Kris_Data_final=df2[final_column_sorting]"
   ]
  },
  {
   "cell_type": "code",
   "execution_count": 31,
   "metadata": {
    "scrolled": true
   },
   "outputs": [
    {
     "data": {
      "text/html": [
       "<div>\n",
       "<style scoped>\n",
       "    .dataframe tbody tr th:only-of-type {\n",
       "        vertical-align: middle;\n",
       "    }\n",
       "\n",
       "    .dataframe tbody tr th {\n",
       "        vertical-align: top;\n",
       "    }\n",
       "\n",
       "    .dataframe thead th {\n",
       "        text-align: right;\n",
       "    }\n",
       "</style>\n",
       "<table border=\"1\" class=\"dataframe\">\n",
       "  <thead>\n",
       "    <tr style=\"text-align: right;\">\n",
       "      <th></th>\n",
       "      <th>MKT</th>\n",
       "      <th>PROD</th>\n",
       "      <th>CP.MANUFACTURER</th>\n",
       "      <th>CP.FRANCHISE</th>\n",
       "      <th>CP.BRAND</th>\n",
       "      <th>CP.SUBBRAND</th>\n",
       "      <th>PRODUCT.CODE</th>\n",
       "      <th>PER</th>\n",
       "      <th>Doll_Shr</th>\n",
       "      <th>Doll_Shr_Chg</th>\n",
       "      <th>...</th>\n",
       "      <th>Store_selling_Chg</th>\n",
       "      <th>Velocity</th>\n",
       "      <th>Velocity_Chg</th>\n",
       "      <th>Cum_Distri_Pts</th>\n",
       "      <th>Cum_Distri_Pts_Chg</th>\n",
       "      <th>Dollars</th>\n",
       "      <th>Dollars_Chg</th>\n",
       "      <th>Prcnt_ACV</th>\n",
       "      <th>Units</th>\n",
       "      <th>Units_Velocity</th>\n",
       "    </tr>\n",
       "  </thead>\n",
       "  <tbody>\n",
       "    <tr>\n",
       "      <th>0</th>\n",
       "      <td>Ahold</td>\n",
       "      <td>SOFTSOAP HAND SOAP HAND LIQUID BLACK RASPBERRY...</td>\n",
       "      <td>COLGATE-PALMOLIVE</td>\n",
       "      <td>SOFTSOAP</td>\n",
       "      <td>SFTSP BETTER</td>\n",
       "      <td>SOFTSOAP BETTER FRAGRANCE</td>\n",
       "      <td>007418244575</td>\n",
       "      <td>4 W/E 02/27/21</td>\n",
       "      <td>0.0</td>\n",
       "      <td>-0.463</td>\n",
       "      <td>...</td>\n",
       "      <td>-33.823</td>\n",
       "      <td>0.000</td>\n",
       "      <td>-9.848</td>\n",
       "      <td>0.000</td>\n",
       "      <td>-33.823</td>\n",
       "      <td>0.00</td>\n",
       "      <td>-100.000</td>\n",
       "      <td>0.000</td>\n",
       "      <td>0.0</td>\n",
       "      <td>0.000</td>\n",
       "    </tr>\n",
       "    <tr>\n",
       "      <th>2</th>\n",
       "      <td>Ahold</td>\n",
       "      <td>SOFTSOAP HAND SOAP HAND LIQUID BLACK RASPBERRY...</td>\n",
       "      <td>COLGATE-PALMOLIVE</td>\n",
       "      <td>SOFTSOAP</td>\n",
       "      <td>SFTSP BETTER</td>\n",
       "      <td>SOFTSOAP BETTER FRAGRANCE</td>\n",
       "      <td>007418244575</td>\n",
       "      <td>Latest 13 Weeks</td>\n",
       "      <td>0.0</td>\n",
       "      <td>-0.580</td>\n",
       "      <td>...</td>\n",
       "      <td>-37.267</td>\n",
       "      <td>5.071</td>\n",
       "      <td>-5.165</td>\n",
       "      <td>0.007</td>\n",
       "      <td>-37.267</td>\n",
       "      <td>2.49</td>\n",
       "      <td>-99.991</td>\n",
       "      <td>0.007</td>\n",
       "      <td>1.0</td>\n",
       "      <td>2.037</td>\n",
       "    </tr>\n",
       "    <tr>\n",
       "      <th>3</th>\n",
       "      <td>Ahold</td>\n",
       "      <td>SOFTSOAP HAND SOAP HAND LIQUID BLACK RASPBERRY...</td>\n",
       "      <td>COLGATE-PALMOLIVE</td>\n",
       "      <td>SOFTSOAP</td>\n",
       "      <td>SFTSP BETTER</td>\n",
       "      <td>SOFTSOAP BETTER FRAGRANCE</td>\n",
       "      <td>007418244575</td>\n",
       "      <td>Latest 26 Weeks</td>\n",
       "      <td>0.0</td>\n",
       "      <td>-0.554</td>\n",
       "      <td>...</td>\n",
       "      <td>-40.361</td>\n",
       "      <td>4.361</td>\n",
       "      <td>-4.690</td>\n",
       "      <td>0.039</td>\n",
       "      <td>-40.361</td>\n",
       "      <td>24.90</td>\n",
       "      <td>-99.953</td>\n",
       "      <td>0.039</td>\n",
       "      <td>10.0</td>\n",
       "      <td>1.751</td>\n",
       "    </tr>\n",
       "  </tbody>\n",
       "</table>\n",
       "<p>3 rows × 23 columns</p>\n",
       "</div>"
      ],
      "text/plain": [
       "     MKT                                               PROD  \\\n",
       "0  Ahold  SOFTSOAP HAND SOAP HAND LIQUID BLACK RASPBERRY...   \n",
       "2  Ahold  SOFTSOAP HAND SOAP HAND LIQUID BLACK RASPBERRY...   \n",
       "3  Ahold  SOFTSOAP HAND SOAP HAND LIQUID BLACK RASPBERRY...   \n",
       "\n",
       "     CP.MANUFACTURER CP.FRANCHISE      CP.BRAND                CP.SUBBRAND  \\\n",
       "0  COLGATE-PALMOLIVE     SOFTSOAP  SFTSP BETTER  SOFTSOAP BETTER FRAGRANCE   \n",
       "2  COLGATE-PALMOLIVE     SOFTSOAP  SFTSP BETTER  SOFTSOAP BETTER FRAGRANCE   \n",
       "3  COLGATE-PALMOLIVE     SOFTSOAP  SFTSP BETTER  SOFTSOAP BETTER FRAGRANCE   \n",
       "\n",
       "   PRODUCT.CODE              PER  Doll_Shr  Doll_Shr_Chg  ...  \\\n",
       "0  007418244575   4 W/E 02/27/21       0.0        -0.463  ...   \n",
       "2  007418244575  Latest 13 Weeks       0.0        -0.580  ...   \n",
       "3  007418244575  Latest 26 Weeks       0.0        -0.554  ...   \n",
       "\n",
       "   Store_selling_Chg  Velocity  Velocity_Chg  Cum_Distri_Pts  \\\n",
       "0            -33.823     0.000        -9.848           0.000   \n",
       "2            -37.267     5.071        -5.165           0.007   \n",
       "3            -40.361     4.361        -4.690           0.039   \n",
       "\n",
       "   Cum_Distri_Pts_Chg  Dollars  Dollars_Chg  Prcnt_ACV  Units  Units_Velocity  \n",
       "0             -33.823     0.00     -100.000      0.000    0.0           0.000  \n",
       "2             -37.267     2.49      -99.991      0.007    1.0           2.037  \n",
       "3             -40.361    24.90      -99.953      0.039   10.0           1.751  \n",
       "\n",
       "[3 rows x 23 columns]"
      ]
     },
     "execution_count": 31,
     "metadata": {},
     "output_type": "execute_result"
    }
   ],
   "source": [
    "Kris_Data_final.head(3)"
   ]
  },
  {
   "cell_type": "code",
   "execution_count": 32,
   "metadata": {},
   "outputs": [],
   "source": [
    "path_LHS = \"//falmumapp34/Nielsen Connect Transition & Maintenance (20-SCP-3650)/05. Output Data/5P Output/LHS/\"\n",
    "\n",
    "Kris_Data_final.to_csv(path_LHS+\"kris_data_LHS.csv\",index=False)"
   ]
  },
  {
   "cell_type": "code",
   "execution_count": null,
   "metadata": {},
   "outputs": [],
   "source": []
  },
  {
   "cell_type": "markdown",
   "metadata": {},
   "source": [
    "## LDL"
   ]
  },
  {
   "cell_type": "code",
   "execution_count": 68,
   "metadata": {},
   "outputs": [],
   "source": [
    "path_LDL = \"//falmumapp34/Nielsen Connect Transition & Maintenance (20-SCP-3650)/05. Output Data/5P Output/LDL/\""
   ]
  },
  {
   "cell_type": "code",
   "execution_count": 73,
   "metadata": {},
   "outputs": [],
   "source": [
    "Kris_LDL=Kris_Data[Kris_Data[\"ShareBasis\"]==\"LDL/DISHAIDS/WPS/FM/SPRAYS\"]"
   ]
  },
  {
   "cell_type": "code",
   "execution_count": 56,
   "metadata": {},
   "outputs": [],
   "source": [
    "# Facts=[\"Doll_Shr\",\"Doll_Shr_Chg\",\"Base_Doll_Shr\",\"Base_Doll_Shr_Chg\",\"Store_selling\",\"Store_selling_Chg\",\"Velocity\",\"Velocity_Chg\",\"Cum_Distri_Pts\",\"Cum_Distri_Pts_Chg\",\"Dollars\",\"Dollars_Chg\",\"Prcnt_ACV\",\"Units\",\"Units_Velocity\"]\n",
    "# Markets=[]"
   ]
  },
  {
   "cell_type": "code",
   "execution_count": 74,
   "metadata": {},
   "outputs": [
    {
     "name": "stdout",
     "output_type": "stream",
     "text": [
      "<class 'pandas.core.frame.DataFrame'>\n",
      "Int64Index: 10850 entries, 0 to 10849\n",
      "Data columns (total 22 columns):\n",
      " #   Column           Non-Null Count  Dtype  \n",
      "---  ------           --------------  -----  \n",
      " 0   Markets          10850 non-null  object \n",
      " 1   ShareBasis       10850 non-null  object \n",
      " 2   Manufacturer     10850 non-null  object \n",
      " 3   Franchise        10850 non-null  object \n",
      " 4   Brand            10850 non-null  object \n",
      " 5   SubBrand         10850 non-null  object \n",
      " 6   UPC              10850 non-null  object \n",
      " 7   Item             10850 non-null  object \n",
      " 8   Products         10850 non-null  object \n",
      " 9   Facts            10850 non-null  object \n",
      " 10  FY 2020          10850 non-null  float64\n",
      " 11  FY 2019          10850 non-null  float64\n",
      " 12  FY 2018          10850 non-null  float64\n",
      " 13  FY 2017          10850 non-null  float64\n",
      " 14  YTD 2021         10850 non-null  float64\n",
      " 15  YTD 2020         10850 non-null  float64\n",
      " 16  Latest 13 Weeks  10850 non-null  float64\n",
      " 17  Latest 26 Weeks  10850 non-null  float64\n",
      " 18  Q4 2019          10850 non-null  object \n",
      " 19  Q3 2019          10850 non-null  object \n",
      " 20  Q2 2019          10850 non-null  object \n",
      " 21  4 W/E 02/27/21   10850 non-null  float64\n",
      "dtypes: float64(9), object(13)\n",
      "memory usage: 1.9+ MB\n"
     ]
    }
   ],
   "source": [
    "Kris_LDL.info()"
   ]
  },
  {
   "cell_type": "code",
   "execution_count": 75,
   "metadata": {},
   "outputs": [
    {
     "name": "stdout",
     "output_type": "stream",
     "text": [
      "['4 W/E 02/27/21', 'Latest 13 Weeks', 'Latest 26 Weeks', 'YTD 2021', 'FY 2020']\n"
     ]
    }
   ],
   "source": [
    "Time_Period=list(Kris_LDL.columns[21:22])+list(Kris_LDL.columns[16:18])+list(Kris_LDL.columns[14:15])+list(Kris_LDL.columns[10:11])\n",
    "print(Time_Period)"
   ]
  },
  {
   "cell_type": "code",
   "execution_count": 76,
   "metadata": {},
   "outputs": [
    {
     "data": {
      "text/plain": [
       "{'Base_Doll_Shr',\n",
       " 'Base_Doll_Shr_Chg',\n",
       " 'Cum_Distri_Pts',\n",
       " 'Cum_Distri_Pts_Chg',\n",
       " 'Doll_Shr',\n",
       " 'Doll_Shr_Chg',\n",
       " 'Dollars',\n",
       " 'Dollars_Chg',\n",
       " 'Store_selling',\n",
       " 'Store_selling_Chg',\n",
       " 'Units',\n",
       " 'Units_Velocity',\n",
       " 'Velocity',\n",
       " 'Velocity_Chg'}"
      ]
     },
     "execution_count": 76,
     "metadata": {},
     "output_type": "execute_result"
    }
   ],
   "source": [
    "set(Kris_LDL[\"Facts\"])"
   ]
  },
  {
   "cell_type": "code",
   "execution_count": 77,
   "metadata": {
    "scrolled": true
   },
   "outputs": [
    {
     "data": {
      "text/plain": [
       "Index(['Markets', 'ShareBasis', 'Manufacturer', 'Franchise', 'Brand',\n",
       "       'SubBrand', 'UPC', 'Item', 'Products', 'Facts', 'FY 2020', 'FY 2019',\n",
       "       'FY 2018', 'FY 2017', 'YTD 2021', 'YTD 2020', 'Latest 13 Weeks',\n",
       "       'Latest 26 Weeks', 'Q4 2019', 'Q3 2019', 'Q2 2019', '4 W/E 02/27/21'],\n",
       "      dtype='object')"
      ]
     },
     "execution_count": 77,
     "metadata": {},
     "output_type": "execute_result"
    }
   ],
   "source": [
    "Kris_LDL.columns"
   ]
  },
  {
   "cell_type": "code",
   "execution_count": 78,
   "metadata": {},
   "outputs": [],
   "source": [
    "Kris_LDL.rename(columns={'Markets':\"MKT\", 'Item':\"PROD\", 'Manufacturer':\"CP.MANUFACTURER\",\n",
    "                           'Franchise':\"CP.FRANCHISE\", 'Brand':\"CP.BRAND\",\"ShareBasis\":\"CP_SHARE_BASIS\",\n",
    "                           'SubBrand':\"CP.SUBBRAND\", 'UPC':\"PRODUCT.CODE\",\n",
    "                           },inplace=True)"
   ]
  },
  {
   "cell_type": "code",
   "execution_count": 79,
   "metadata": {},
   "outputs": [],
   "source": [
    "df1=pd.melt(Kris_LDL, id_vars =[\"MKT\",\"PROD\",\"CP.MANUFACTURER\",\"CP.FRANCHISE\",\"CP.BRAND\",\"CP.SUBBRAND\",\"PRODUCT.CODE\",\"Facts\",\"CP_SHARE_BASIS\"], value_vars =Time_Period,var_name=\"PER\")\n",
    "\n",
    "df1[\"value\"]=df1[\"value\"].apply(pd.to_numeric)"
   ]
  },
  {
   "cell_type": "code",
   "execution_count": 80,
   "metadata": {},
   "outputs": [],
   "source": [
    "df2=df1.pivot_table(index=[\"MKT\",\"PROD\",\"CP.MANUFACTURER\",\"CP.FRANCHISE\",\"CP.BRAND\",\"CP.SUBBRAND\",\"PRODUCT.CODE\",'PER',\"CP_SHARE_BASIS\"],columns='Facts')\n",
    "\n",
    "df2.columns=df2.columns.droplevel().rename(None)\n",
    "df2.reset_index(inplace =True)"
   ]
  },
  {
   "cell_type": "code",
   "execution_count": 81,
   "metadata": {},
   "outputs": [],
   "source": [
    "from pandas.api.types import CategoricalDtype\n",
    "\n",
    "Time_Period_order = CategoricalDtype(\n",
    "    Time_Period, \n",
    "    ordered=True\n",
    ")\n",
    "\n",
    "df2['PER'] = df2['PER'].astype(Time_Period_order)\n",
    "\n",
    "df2.sort_values(['MKT','PROD','PER'],inplace=True)"
   ]
  },
  {
   "cell_type": "code",
   "execution_count": 82,
   "metadata": {},
   "outputs": [],
   "source": [
    "df2[\"Prcnt_ACV\"]=df2[\"Store_selling\"]\n",
    "\n",
    "final_column_sorting=[\"MKT\",\"PROD\",\"CP.MANUFACTURER\",\"CP.FRANCHISE\",\"CP.BRAND\",\"CP.SUBBRAND\",\"PRODUCT.CODE\",\"PER\",\n",
    "                      \"Doll_Shr\",\"Doll_Shr_Chg\",\"Base_Doll_Shr\",\"Base_Doll_Shr_Chg\",\"Store_selling\",\"Store_selling_Chg\",\n",
    "                      \"Velocity\",\"Velocity_Chg\",\"Cum_Distri_Pts\",\"Cum_Distri_Pts_Chg\",\"Dollars\",\"Dollars_Chg\",\n",
    "                      \"Prcnt_ACV\",\"Units\",\"Units_Velocity\"\n",
    "                      ]\n",
    "Kris_Data_final=df2[final_column_sorting]"
   ]
  },
  {
   "cell_type": "code",
   "execution_count": 83,
   "metadata": {
    "scrolled": true
   },
   "outputs": [
    {
     "data": {
      "text/html": [
       "<div>\n",
       "<style scoped>\n",
       "    .dataframe tbody tr th:only-of-type {\n",
       "        vertical-align: middle;\n",
       "    }\n",
       "\n",
       "    .dataframe tbody tr th {\n",
       "        vertical-align: top;\n",
       "    }\n",
       "\n",
       "    .dataframe thead th {\n",
       "        text-align: right;\n",
       "    }\n",
       "</style>\n",
       "<table border=\"1\" class=\"dataframe\">\n",
       "  <thead>\n",
       "    <tr style=\"text-align: right;\">\n",
       "      <th></th>\n",
       "      <th>MKT</th>\n",
       "      <th>PROD</th>\n",
       "      <th>CP.MANUFACTURER</th>\n",
       "      <th>CP.FRANCHISE</th>\n",
       "      <th>CP.BRAND</th>\n",
       "      <th>CP.SUBBRAND</th>\n",
       "      <th>PRODUCT.CODE</th>\n",
       "      <th>PER</th>\n",
       "      <th>Doll_Shr</th>\n",
       "      <th>Doll_Shr_Chg</th>\n",
       "      <th>...</th>\n",
       "      <th>Store_selling_Chg</th>\n",
       "      <th>Velocity</th>\n",
       "      <th>Velocity_Chg</th>\n",
       "      <th>Cum_Distri_Pts</th>\n",
       "      <th>Cum_Distri_Pts_Chg</th>\n",
       "      <th>Dollars</th>\n",
       "      <th>Dollars_Chg</th>\n",
       "      <th>Prcnt_ACV</th>\n",
       "      <th>Units</th>\n",
       "      <th>Units_Velocity</th>\n",
       "    </tr>\n",
       "  </thead>\n",
       "  <tbody>\n",
       "    <tr>\n",
       "      <th>0</th>\n",
       "      <td>Ahold</td>\n",
       "      <td>AJAX DISHWASHING DETERGENT LIQUID FRESH LEMON ...</td>\n",
       "      <td>COLGATE-PALMOLIVE</td>\n",
       "      <td>AJAX</td>\n",
       "      <td>AJAX</td>\n",
       "      <td>AJAX SUPER DEGREASER</td>\n",
       "      <td>003500049861</td>\n",
       "      <td>4 W/E 02/27/21</td>\n",
       "      <td>0.838</td>\n",
       "      <td>0.198</td>\n",
       "      <td>...</td>\n",
       "      <td>12.355</td>\n",
       "      <td>19.905</td>\n",
       "      <td>-0.668</td>\n",
       "      <td>47.343</td>\n",
       "      <td>12.355</td>\n",
       "      <td>21374.65</td>\n",
       "      <td>32.096</td>\n",
       "      <td>47.343</td>\n",
       "      <td>6462.0</td>\n",
       "      <td>6.018</td>\n",
       "    </tr>\n",
       "    <tr>\n",
       "      <th>2</th>\n",
       "      <td>Ahold</td>\n",
       "      <td>AJAX DISHWASHING DETERGENT LIQUID FRESH LEMON ...</td>\n",
       "      <td>COLGATE-PALMOLIVE</td>\n",
       "      <td>AJAX</td>\n",
       "      <td>AJAX</td>\n",
       "      <td>AJAX SUPER DEGREASER</td>\n",
       "      <td>003500049861</td>\n",
       "      <td>Latest 13 Weeks</td>\n",
       "      <td>0.535</td>\n",
       "      <td>-0.184</td>\n",
       "      <td>...</td>\n",
       "      <td>-3.594</td>\n",
       "      <td>19.488</td>\n",
       "      <td>-3.115</td>\n",
       "      <td>32.089</td>\n",
       "      <td>-3.594</td>\n",
       "      <td>46096.50</td>\n",
       "      <td>-21.508</td>\n",
       "      <td>32.089</td>\n",
       "      <td>13940.0</td>\n",
       "      <td>5.893</td>\n",
       "    </tr>\n",
       "    <tr>\n",
       "      <th>3</th>\n",
       "      <td>Ahold</td>\n",
       "      <td>AJAX DISHWASHING DETERGENT LIQUID FRESH LEMON ...</td>\n",
       "      <td>COLGATE-PALMOLIVE</td>\n",
       "      <td>AJAX</td>\n",
       "      <td>AJAX</td>\n",
       "      <td>AJAX SUPER DEGREASER</td>\n",
       "      <td>003500049861</td>\n",
       "      <td>Latest 26 Weeks</td>\n",
       "      <td>0.373</td>\n",
       "      <td>-0.340</td>\n",
       "      <td>...</td>\n",
       "      <td>-12.571</td>\n",
       "      <td>19.320</td>\n",
       "      <td>-2.357</td>\n",
       "      <td>22.781</td>\n",
       "      <td>-12.571</td>\n",
       "      <td>64786.18</td>\n",
       "      <td>-41.828</td>\n",
       "      <td>22.781</td>\n",
       "      <td>19673.0</td>\n",
       "      <td>5.867</td>\n",
       "    </tr>\n",
       "  </tbody>\n",
       "</table>\n",
       "<p>3 rows × 23 columns</p>\n",
       "</div>"
      ],
      "text/plain": [
       "     MKT                                               PROD  \\\n",
       "0  Ahold  AJAX DISHWASHING DETERGENT LIQUID FRESH LEMON ...   \n",
       "2  Ahold  AJAX DISHWASHING DETERGENT LIQUID FRESH LEMON ...   \n",
       "3  Ahold  AJAX DISHWASHING DETERGENT LIQUID FRESH LEMON ...   \n",
       "\n",
       "     CP.MANUFACTURER CP.FRANCHISE CP.BRAND           CP.SUBBRAND  \\\n",
       "0  COLGATE-PALMOLIVE         AJAX     AJAX  AJAX SUPER DEGREASER   \n",
       "2  COLGATE-PALMOLIVE         AJAX     AJAX  AJAX SUPER DEGREASER   \n",
       "3  COLGATE-PALMOLIVE         AJAX     AJAX  AJAX SUPER DEGREASER   \n",
       "\n",
       "   PRODUCT.CODE              PER  Doll_Shr  Doll_Shr_Chg  ...  \\\n",
       "0  003500049861   4 W/E 02/27/21     0.838         0.198  ...   \n",
       "2  003500049861  Latest 13 Weeks     0.535        -0.184  ...   \n",
       "3  003500049861  Latest 26 Weeks     0.373        -0.340  ...   \n",
       "\n",
       "   Store_selling_Chg  Velocity  Velocity_Chg  Cum_Distri_Pts  \\\n",
       "0             12.355    19.905        -0.668          47.343   \n",
       "2             -3.594    19.488        -3.115          32.089   \n",
       "3            -12.571    19.320        -2.357          22.781   \n",
       "\n",
       "   Cum_Distri_Pts_Chg   Dollars  Dollars_Chg  Prcnt_ACV    Units  \\\n",
       "0              12.355  21374.65       32.096     47.343   6462.0   \n",
       "2              -3.594  46096.50      -21.508     32.089  13940.0   \n",
       "3             -12.571  64786.18      -41.828     22.781  19673.0   \n",
       "\n",
       "   Units_Velocity  \n",
       "0           6.018  \n",
       "2           5.893  \n",
       "3           5.867  \n",
       "\n",
       "[3 rows x 23 columns]"
      ]
     },
     "execution_count": 83,
     "metadata": {},
     "output_type": "execute_result"
    }
   ],
   "source": [
    "Kris_Data_final.head(3)"
   ]
  },
  {
   "cell_type": "code",
   "execution_count": 84,
   "metadata": {},
   "outputs": [],
   "source": [
    "Kris_Data_final.to_csv(path_LDL+\"kris_data_LDL.csv\",index=False)"
   ]
  },
  {
   "cell_type": "code",
   "execution_count": null,
   "metadata": {},
   "outputs": [],
   "source": []
  },
  {
   "cell_type": "markdown",
   "metadata": {},
   "source": [
    "## FS"
   ]
  },
  {
   "cell_type": "code",
   "execution_count": null,
   "metadata": {},
   "outputs": [],
   "source": [
    "path_FS = \"//falmumapp34/Nielsen Connect Transition & Maintenance (20-SCP-3650)/05. Output Data/5P Output/FS/\""
   ]
  },
  {
   "cell_type": "code",
   "execution_count": null,
   "metadata": {},
   "outputs": [],
   "source": [
    "Kris_FS=Kris_Data[Kris_Data[\"ShareBasis\"].isin(['LIQUID FS', 'SCENT BOOSTERS', 'SHEETS'])]"
   ]
  },
  {
   "cell_type": "code",
   "execution_count": null,
   "metadata": {},
   "outputs": [],
   "source": [
    "# Facts=[\"Doll_Shr\",\"Doll_Shr_Chg\",\"Base_Doll_Shr\",\"Base_Doll_Shr_Chg\",\"Store_selling\",\"Store_selling_Chg\",\"Velocity\",\"Velocity_Chg\",\"Cum_Distri_Pts\",\"Cum_Distri_Pts_Chg\",\"Dollars\",\"Dollars_Chg\",\"Prcnt_ACV\",\"Units\",\"Units_Velocity\"]\n",
    "# Markets=[]"
   ]
  },
  {
   "cell_type": "code",
   "execution_count": null,
   "metadata": {},
   "outputs": [],
   "source": [
    "set(Kris_FS[\"ShareBasis\"])"
   ]
  },
  {
   "cell_type": "code",
   "execution_count": null,
   "metadata": {},
   "outputs": [],
   "source": [
    "Kris_FS.info()"
   ]
  },
  {
   "cell_type": "code",
   "execution_count": null,
   "metadata": {},
   "outputs": [],
   "source": [
    "Time_Period=list(Kris_FS.columns[21:22])+list(Kris_FS.columns[16:18])+list(Kris_FS.columns[14:15])+list(Kris_FS.columns[10:11])\n",
    "print(Time_Period)"
   ]
  },
  {
   "cell_type": "code",
   "execution_count": null,
   "metadata": {},
   "outputs": [],
   "source": []
  },
  {
   "cell_type": "code",
   "execution_count": null,
   "metadata": {
    "scrolled": true
   },
   "outputs": [],
   "source": [
    "Kris_FS.columns"
   ]
  },
  {
   "cell_type": "code",
   "execution_count": null,
   "metadata": {},
   "outputs": [],
   "source": [
    "Kris_FS.rename(columns={'Markets':\"MKT\", 'Item':\"PROD\", 'Manufacturer':\"CP.MANUFACTURER\",\n",
    "                           'Franchise':\"CP.FRANCHISE\", 'Brand':\"CP.BRAND\",\"ShareBasis\":\"CP_SHARE_BASIS\",\n",
    "                           'SubBrand':\"CP.SUBBRAND\", 'UPC':\"PRODUCT.CODE\",\n",
    "                           },inplace=True)"
   ]
  },
  {
   "cell_type": "code",
   "execution_count": null,
   "metadata": {},
   "outputs": [],
   "source": [
    "df1=pd.melt(Kris_FS, id_vars =[\"MKT\",\"PROD\",\"CP.MANUFACTURER\",\"CP.FRANCHISE\",\"CP.BRAND\",\"CP.SUBBRAND\",\"PRODUCT.CODE\",\"Facts\",\"CP_SHARE_BASIS\"], value_vars =Time_Period,var_name=\"PER\")\n",
    "\n",
    "df1[\"value\"]=df1[\"value\"].apply(pd.to_numeric)"
   ]
  },
  {
   "cell_type": "code",
   "execution_count": null,
   "metadata": {},
   "outputs": [],
   "source": [
    "df2=df1.pivot_table(index=[\"MKT\",\"PROD\",\"CP.MANUFACTURER\",\"CP.FRANCHISE\",\"CP.BRAND\",\"CP.SUBBRAND\",\"PRODUCT.CODE\",'PER',\"CP_SHARE_BASIS\"],columns='Facts')\n",
    "\n",
    "df2.columns=df2.columns.droplevel().rename(None)\n",
    "df2.reset_index(inplace =True)"
   ]
  },
  {
   "cell_type": "code",
   "execution_count": null,
   "metadata": {},
   "outputs": [],
   "source": [
    "from pandas.api.types import CategoricalDtype\n",
    "\n",
    "Time_Period_order = CategoricalDtype(\n",
    "    Time_Period, \n",
    "    ordered=True\n",
    ")\n",
    "\n",
    "df2['PER'] = df2['PER'].astype(Time_Period_order)\n",
    "\n",
    "df2.sort_values(['MKT','PROD','PER'],inplace=True)"
   ]
  },
  {
   "cell_type": "code",
   "execution_count": null,
   "metadata": {},
   "outputs": [],
   "source": [
    "df2[\"Prcnt_ACV\"]=df2[\"Store_selling\"]\n",
    "\n",
    "final_column_sorting=[\"MKT\",\"PROD\",\"CP.MANUFACTURER\",\"CP.FRANCHISE\",\"CP.BRAND\",\"CP.SUBBRAND\",\"PRODUCT.CODE\",\"PER\",\n",
    "                      \"Doll_Shr\",\"Doll_Shr_Chg\",\"Base_Doll_Shr\",\"Base_Doll_Shr_Chg\",\"Store_selling\",\"Store_selling_Chg\",\n",
    "                      \"Velocity\",\"Velocity_Chg\",\"Cum_Distri_Pts\",\"Cum_Distri_Pts_Chg\",\"Dollars\",\"Dollars_Chg\",\n",
    "                      \"Prcnt_ACV\",\"Units\",\"Units_Velocity\",\"CP_SHARE_BASIS\"\n",
    "                      ]\n",
    "Kris_Data_final=df2[final_column_sorting]"
   ]
  },
  {
   "cell_type": "code",
   "execution_count": null,
   "metadata": {
    "scrolled": true
   },
   "outputs": [],
   "source": [
    "Kris_Data_final.head(3)"
   ]
  },
  {
   "cell_type": "code",
   "execution_count": null,
   "metadata": {},
   "outputs": [],
   "source": [
    "Kris_Data_final.to_csv(path_FS+\"kris_data_FS.csv\",index=False)"
   ]
  },
  {
   "cell_type": "code",
   "execution_count": null,
   "metadata": {},
   "outputs": [],
   "source": []
  },
  {
   "cell_type": "markdown",
   "metadata": {},
   "source": [
    "## BW"
   ]
  },
  {
   "cell_type": "code",
   "execution_count": null,
   "metadata": {},
   "outputs": [],
   "source": [
    "path_BW = \"//falmumapp34/Nielsen Connect Transition & Maintenance (20-SCP-3650)/05. Output Data/5P Output/BW/\""
   ]
  },
  {
   "cell_type": "code",
   "execution_count": null,
   "metadata": {},
   "outputs": [],
   "source": [
    "Kris_BW=Kris_Data[Kris_Data[\"ShareBasis\"]==\"BODYWASH\"]"
   ]
  },
  {
   "cell_type": "code",
   "execution_count": null,
   "metadata": {},
   "outputs": [],
   "source": [
    "# Facts=[\"Doll_Shr\",\"Doll_Shr_Chg\",\"Base_Doll_Shr\",\"Base_Doll_Shr_Chg\",\"Store_selling\",\"Store_selling_Chg\",\"Velocity\",\"Velocity_Chg\",\"Cum_Distri_Pts\",\"Cum_Distri_Pts_Chg\",\"Dollars\",\"Dollars_Chg\",\"Prcnt_ACV\",\"Units\",\"Units_Velocity\"]\n",
    "# Markets=[]"
   ]
  },
  {
   "cell_type": "code",
   "execution_count": null,
   "metadata": {},
   "outputs": [],
   "source": [
    "Kris_BW.info()"
   ]
  },
  {
   "cell_type": "code",
   "execution_count": null,
   "metadata": {},
   "outputs": [],
   "source": [
    "Time_Period=list(Kris_BW.columns[19:20])+list(Kris_BW.columns[14:16])+list(Kris_BW.columns[12:13])+list(Kris_BW.columns[10:11])\n",
    "print(Time_Period)"
   ]
  },
  {
   "cell_type": "code",
   "execution_count": null,
   "metadata": {
    "scrolled": true
   },
   "outputs": [],
   "source": [
    "Kris_BW.columns"
   ]
  },
  {
   "cell_type": "code",
   "execution_count": null,
   "metadata": {},
   "outputs": [],
   "source": [
    "Kris_BW.rename(columns={'Markets':\"MKT\", 'Item':\"PROD\", 'Manufacturer':\"CP.MANUFACTURER\",\n",
    "                           'Franchise':\"CP.FRANCHISE\", 'Brand':\"CP.BRAND\",\n",
    "                           'SubBrand':\"CP.SUBBRAND\", 'UPC':\"PRODUCT.CODE\",\n",
    "                           },inplace=True)"
   ]
  },
  {
   "cell_type": "code",
   "execution_count": null,
   "metadata": {},
   "outputs": [],
   "source": [
    "df1=pd.melt(Kris_BW, id_vars =[\"MKT\",\"PROD\",\"CP.MANUFACTURER\",\"CP.FRANCHISE\",\"CP.BRAND\",\"CP.SUBBRAND\",\"PRODUCT.CODE\",\"Facts\"], value_vars =Time_Period,var_name=\"PER\")\n",
    "\n",
    "df1[\"value\"]=df1[\"value\"].apply(pd.to_numeric)"
   ]
  },
  {
   "cell_type": "code",
   "execution_count": null,
   "metadata": {},
   "outputs": [],
   "source": [
    "df2=df1.pivot_table(index=[\"MKT\",\"PROD\",\"CP.MANUFACTURER\",\"CP.FRANCHISE\",\"CP.BRAND\",\"CP.SUBBRAND\",\"PRODUCT.CODE\",'PER'],columns='Facts')\n",
    "\n",
    "df2.columns=df2.columns.droplevel().rename(None)\n",
    "df2.reset_index(inplace =True)"
   ]
  },
  {
   "cell_type": "code",
   "execution_count": null,
   "metadata": {},
   "outputs": [],
   "source": [
    "from pandas.api.types import CategoricalDtype\n",
    "\n",
    "Time_Period_order = CategoricalDtype(\n",
    "    Time_Period, \n",
    "    ordered=True\n",
    ")\n",
    "\n",
    "df2['PER'] = df2['PER'].astype(Time_Period_order)\n",
    "\n",
    "df2.sort_values(['MKT','PROD','PER'],inplace=True)"
   ]
  },
  {
   "cell_type": "code",
   "execution_count": null,
   "metadata": {},
   "outputs": [],
   "source": [
    "df2[\"Prcnt_ACV\"]=df2[\"Store_selling\"]\n",
    "\n",
    "final_column_sorting=[\"MKT\",\"PROD\",\"CP.MANUFACTURER\",\"CP.FRANCHISE\",\"CP.BRAND\",\"CP.SUBBRAND\",\"PRODUCT.CODE\",\"PER\",\n",
    "                      \"Doll_Shr\",\"Doll_Shr_Chg\",\"Base_Doll_Shr\",\"Base_Doll_Shr_Chg\",\"Store_selling\",\"Store_selling_Chg\",\n",
    "                      \"Velocity\",\"Velocity_Chg\",\"Cum_Distri_Pts\",\"Cum_Distri_Pts_Chg\",\"Dollars\",\"Dollars_Chg\",\n",
    "                      \"Prcnt_ACV\",\"Units\",\"Units_Velocity\"\n",
    "                      ]\n",
    "Kris_Data_final=df2[final_column_sorting]"
   ]
  },
  {
   "cell_type": "code",
   "execution_count": null,
   "metadata": {
    "scrolled": true
   },
   "outputs": [],
   "source": [
    "Kris_Data_final.head(6)"
   ]
  },
  {
   "cell_type": "code",
   "execution_count": null,
   "metadata": {},
   "outputs": [],
   "source": [
    "Kris_Data_final.to_csv(path_BW+\"kris_data_BW.csv\",index=False)"
   ]
  },
  {
   "cell_type": "code",
   "execution_count": null,
   "metadata": {},
   "outputs": [],
   "source": []
  },
  {
   "cell_type": "markdown",
   "metadata": {},
   "source": [
    "### BAR"
   ]
  },
  {
   "cell_type": "code",
   "execution_count": null,
   "metadata": {},
   "outputs": [],
   "source": [
    "Kris_BAR=Kris_Data[Kris_Data[\"ShareBasis\"]==\"BAR\"]"
   ]
  },
  {
   "cell_type": "code",
   "execution_count": null,
   "metadata": {},
   "outputs": [],
   "source": [
    "# Facts=[\"Doll_Shr\",\"Doll_Shr_Chg\",\"Base_Doll_Shr\",\"Base_Doll_Shr_Chg\",\"Store_selling\",\"Store_selling_Chg\",\"Velocity\",\"Velocity_Chg\",\"Cum_Distri_Pts\",\"Cum_Distri_Pts_Chg\",\"Dollars\",\"Dollars_Chg\",\"Prcnt_ACV\",\"Units\",\"Units_Velocity\"]\n",
    "# Markets=[]"
   ]
  },
  {
   "cell_type": "code",
   "execution_count": null,
   "metadata": {},
   "outputs": [],
   "source": [
    "Kris_BAR.info()"
   ]
  },
  {
   "cell_type": "code",
   "execution_count": null,
   "metadata": {},
   "outputs": [],
   "source": [
    "Time_Period=list(Kris_BAR.columns[19:20])+list(Kris_BAR.columns[14:16])+list(Kris_BAR.columns[12:13])+list(Kris_BAR.columns[10:11])\n",
    "print(Time_Period)"
   ]
  },
  {
   "cell_type": "code",
   "execution_count": null,
   "metadata": {},
   "outputs": [],
   "source": []
  },
  {
   "cell_type": "code",
   "execution_count": null,
   "metadata": {
    "scrolled": true
   },
   "outputs": [],
   "source": [
    "Kris_BAR.columns"
   ]
  },
  {
   "cell_type": "code",
   "execution_count": null,
   "metadata": {},
   "outputs": [],
   "source": [
    "Kris_BAR.rename(columns={'Markets':\"MKT\", 'Item':\"PROD\", 'Manufacturer':\"CP.MANUFACTURER\",\n",
    "                           'Franchise':\"CP.FRANCHISE\", 'Brand':\"CP.BRAND\",\n",
    "                           'SubBrand':\"CP.SUBBRAND\", 'UPC':\"PRODUCT.CODE\",\n",
    "                           },inplace=True)"
   ]
  },
  {
   "cell_type": "code",
   "execution_count": null,
   "metadata": {},
   "outputs": [],
   "source": [
    "df1=pd.melt(Kris_BAR, id_vars =[\"MKT\",\"PROD\",\"CP.MANUFACTURER\",\"CP.FRANCHISE\",\"CP.BRAND\",\"CP.SUBBRAND\",\"PRODUCT.CODE\",\"Facts\"], value_vars =Time_Period,var_name=\"PER\")\n",
    "\n",
    "df1[\"value\"]=df1[\"value\"].apply(pd.to_numeric)"
   ]
  },
  {
   "cell_type": "code",
   "execution_count": null,
   "metadata": {},
   "outputs": [],
   "source": [
    "df2=df1.pivot_table(index=[\"MKT\",\"PROD\",\"CP.MANUFACTURER\",\"CP.FRANCHISE\",\"CP.BRAND\",\"CP.SUBBRAND\",\"PRODUCT.CODE\",'PER'],columns='Facts')\n",
    "\n",
    "df2.columns=df2.columns.droplevel().rename(None)\n",
    "df2.reset_index(inplace =True)"
   ]
  },
  {
   "cell_type": "code",
   "execution_count": null,
   "metadata": {},
   "outputs": [],
   "source": [
    "from pandas.api.types import CategoricalDtype\n",
    "\n",
    "Time_Period_order = CategoricalDtype(\n",
    "    Time_Period, \n",
    "    ordered=True\n",
    ")\n",
    "\n",
    "df2['PER'] = df2['PER'].astype(Time_Period_order)\n",
    "\n",
    "df2.sort_values(['MKT','PROD','PER'],inplace=True)"
   ]
  },
  {
   "cell_type": "code",
   "execution_count": null,
   "metadata": {},
   "outputs": [],
   "source": [
    "df2[\"Prcnt_ACV\"]=df2[\"Store_selling\"]\n",
    "\n",
    "final_column_sorting=[\"MKT\",\"PROD\",\"CP.MANUFACTURER\",\"CP.FRANCHISE\",\"CP.BRAND\",\"CP.SUBBRAND\",\"PRODUCT.CODE\",\"PER\",\n",
    "                      \"Doll_Shr\",\"Doll_Shr_Chg\",\"Base_Doll_Shr\",\"Base_Doll_Shr_Chg\",\"Store_selling\",\"Store_selling_Chg\",\n",
    "                      \"Velocity\",\"Velocity_Chg\",\"Cum_Distri_Pts\",\"Cum_Distri_Pts_Chg\",\"Dollars\",\"Dollars_Chg\",\n",
    "                      \"Prcnt_ACV\",\"Units\",\"Units_Velocity\"\n",
    "                      ]\n",
    "Kris_Data_final=df2[final_column_sorting]"
   ]
  },
  {
   "cell_type": "code",
   "execution_count": null,
   "metadata": {
    "scrolled": true
   },
   "outputs": [],
   "source": [
    "Kris_Data_final.head(15)"
   ]
  },
  {
   "cell_type": "code",
   "execution_count": null,
   "metadata": {},
   "outputs": [],
   "source": [
    "Kris_BAR = \"//falmumapp34/Nielsen Connect Transition & Maintenance (20-SCP-3650)/05. Output Data/5P Output/BAR/\"\n",
    "\n",
    "Kris_Data_final.to_csv(Kris_BAR+\"kris_data_BAR.csv\",index=False)"
   ]
  },
  {
   "cell_type": "code",
   "execution_count": null,
   "metadata": {},
   "outputs": [],
   "source": []
  }
 ],
 "metadata": {
  "kernelspec": {
   "display_name": "Python 3",
   "language": "python",
   "name": "python3"
  },
  "language_info": {
   "codemirror_mode": {
    "name": "ipython",
    "version": 3
   },
   "file_extension": ".py",
   "mimetype": "text/x-python",
   "name": "python",
   "nbconvert_exporter": "python",
   "pygments_lexer": "ipython3",
   "version": "3.7.6"
  }
 },
 "nbformat": 4,
 "nbformat_minor": 4
}
