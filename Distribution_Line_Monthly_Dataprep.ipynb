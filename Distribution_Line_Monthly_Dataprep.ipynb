{
 "cells": [
  {
   "cell_type": "code",
   "execution_count": 1,
   "metadata": {},
   "outputs": [],
   "source": [
    "import pandas as pd;\n",
    "import numpy as np;\n",
    "import os;\n",
    "import time;\n",
    "import datetime;\n",
    "import warnings;\n",
    "warnings.filterwarnings('ignore');\n",
    "from pandas.api.types import CategoricalDtype;"
   ]
  },
  {
   "cell_type": "markdown",
   "metadata": {},
   "source": [
    "Assigning path of the folder where **Line Monthly** data files are stored"
   ]
  },
  {
   "cell_type": "code",
   "execution_count": 4,
   "metadata": {},
   "outputs": [],
   "source": [
    "path = \"//falmumapp34/Nielsen Connect Transition & Maintenance (20-SCP-3650)/03. Raw Data/Connect Data/Line Monthly\"\n",
    "# path = \"//falmumapp34/Nielsen Connect Transition & Maintenance (20-SCP-3650)/03. Raw Data/Connect Data/temp\"\n",
    "files = os.listdir(path)"
   ]
  },
  {
   "cell_type": "markdown",
   "metadata": {},
   "source": [
    "Selecting only **excel files** from all the files available in the above path"
   ]
  },
  {
   "cell_type": "code",
   "execution_count": 5,
   "metadata": {},
   "outputs": [
    {
     "name": "stdout",
     "output_type": "stream",
     "text": [
      "Total number of files in the folder are  33\n"
     ]
    }
   ],
   "source": [
    "#files_xls = [f for f in files if( f[0:3] == \"LDL\" )]\n",
    "#files_xls=[f for f in files if (f[0:10]==\"Toothpaste\")]\n",
    "files_xls = [f for f in files if( f[:7] == \"TotalFS\" )| (f[:6] == 'Sheets')|( f[:5] == \"LiqFS\" )| (f[:6] == 'ScentB')| (f[:5] == 'Beads')][::-1] \n",
    "print(\"Total number of files in the folder are \",len(files_xls))"
   ]
  },
  {
   "cell_type": "code",
   "execution_count": 6,
   "metadata": {},
   "outputs": [
    {
     "data": {
      "text/plain": [
       "['TotalFS_Line_Monthly_Part7.xlsx',\n",
       " 'TotalFS_Line_Monthly_Part6.xlsx',\n",
       " 'TotalFS_Line_Monthly_Part5.xlsx',\n",
       " 'TotalFS_Line_Monthly_Part4.xlsx',\n",
       " 'TotalFS_Line_Monthly_Part3.xlsx',\n",
       " 'TotalFS_Line_Monthly_Part2.xlsx',\n",
       " 'TotalFS_Line_Monthly_Part1.xlsx',\n",
       " 'Sheets_Line_Monthly_Part7.xlsx',\n",
       " 'Sheets_Line_Monthly_Part6.xlsx',\n",
       " 'Sheets_Line_Monthly_Part5.xlsx',\n",
       " 'Sheets_Line_Monthly_Part4.xlsx',\n",
       " 'Sheets_Line_Monthly_Part3.xlsx',\n",
       " 'Sheets_Line_Monthly_Part2.xlsx',\n",
       " 'Sheets_Line_Monthly_Part1.xlsx',\n",
       " 'ScentB_Line_Monthly_Part6.xlsx',\n",
       " 'ScentB_Line_Monthly_Part5.xlsx',\n",
       " 'ScentB_Line_Monthly_Part4.xlsx',\n",
       " 'ScentB_Line_Monthly_Part3.xlsx',\n",
       " 'ScentB_Line_Monthly_Part2.xlsx',\n",
       " 'ScentB_Line_Monthly_Part1.xlsx',\n",
       " 'LiqFS_Line_Monthly_Part7.xlsx',\n",
       " 'LiqFS_Line_Monthly_Part6.xlsx',\n",
       " 'LiqFS_Line_Monthly_Part5.xlsx',\n",
       " 'LiqFS_Line_Monthly_Part4.xlsx',\n",
       " 'LiqFS_Line_Monthly_Part3.xlsx',\n",
       " 'LiqFS_Line_Monthly_Part2.xlsx',\n",
       " 'LiqFS_Line_Monthly_Part1.xlsx',\n",
       " 'Beads_Line_Monthly_Part6.xlsx',\n",
       " 'Beads_Line_Monthly_Part5.xlsx',\n",
       " 'Beads_Line_Monthly_Part4.xlsx',\n",
       " 'Beads_Line_Monthly_Part3.xlsx',\n",
       " 'Beads_Line_Monthly_Part2.xlsx',\n",
       " 'Beads_Line_Monthly_Part1.xlsx']"
      ]
     },
     "execution_count": 6,
     "metadata": {},
     "output_type": "execute_result"
    }
   ],
   "source": [
    "files_xls"
   ]
  },
  {
   "cell_type": "markdown",
   "metadata": {},
   "source": [
    "**Appending the read files in rows and storing them in a single dataframe** named ***Line_Monthly***.\n",
    "\n",
    "Printing number of columns and number of facts in each file.\n",
    "Also checking the execution time of the code"
   ]
  },
  {
   "cell_type": "code",
   "execution_count": 7,
   "metadata": {
    "scrolled": false
   },
   "outputs": [
    {
     "name": "stdout",
     "output_type": "stream",
     "text": [
      "\u001b[1mTotalFS_Line_Monthly_Part7.xlsx\u001b[0m :->\n",
      "# of Facts are  55 \t\t # of columns are  30\n",
      "\u001b[1mTotalFS_Line_Monthly_Part6.xlsx\u001b[0m :->\n",
      "# of Facts are  36 \t\t # of columns are  30\n",
      "\u001b[1mTotalFS_Line_Monthly_Part5.xlsx\u001b[0m :->\n",
      "# of Facts are  20 \t\t # of columns are  30\n",
      "\u001b[1mTotalFS_Line_Monthly_Part4.xlsx\u001b[0m :->\n",
      "# of Facts are  57 \t\t # of columns are  30\n",
      "\u001b[1mTotalFS_Line_Monthly_Part3.xlsx\u001b[0m :->\n",
      "# of Facts are  57 \t\t # of columns are  30\n",
      "\u001b[1mTotalFS_Line_Monthly_Part2.xlsx\u001b[0m :->\n",
      "# of Facts are  57 \t\t # of columns are  30\n",
      "\u001b[1mTotalFS_Line_Monthly_Part1.xlsx\u001b[0m :->\n",
      "# of Facts are  57 \t\t # of columns are  30\n",
      "\u001b[1mSheets_Line_Monthly_Part7.xlsx\u001b[0m :->\n",
      "# of Facts are  93 \t\t # of columns are  30\n",
      "\u001b[1mSheets_Line_Monthly_Part6.xlsx\u001b[0m :->\n",
      "# of Facts are  37 \t\t # of columns are  30\n",
      "\u001b[1mSheets_Line_Monthly_Part5.xlsx\u001b[0m :->\n",
      "# of Facts are  16 \t\t # of columns are  30\n",
      "\u001b[1mSheets_Line_Monthly_Part4.xlsx\u001b[0m :->\n",
      "# of Facts are  57 \t\t # of columns are  30\n",
      "\u001b[1mSheets_Line_Monthly_Part3.xlsx\u001b[0m :->\n",
      "# of Facts are  57 \t\t # of columns are  30\n",
      "\u001b[1mSheets_Line_Monthly_Part2.xlsx\u001b[0m :->\n",
      "# of Facts are  57 \t\t # of columns are  30\n",
      "\u001b[1mSheets_Line_Monthly_Part1.xlsx\u001b[0m :->\n",
      "# of Facts are  57 \t\t # of columns are  30\n",
      "\u001b[1mScentB_Line_Monthly_Part6.xlsx\u001b[0m :->\n",
      "# of Facts are  19 \t\t # of columns are  30\n",
      "\u001b[1mScentB_Line_Monthly_Part5.xlsx\u001b[0m :->\n",
      "# of Facts are  16 \t\t # of columns are  30\n",
      "\u001b[1mScentB_Line_Monthly_Part4.xlsx\u001b[0m :->\n",
      "# of Facts are  57 \t\t # of columns are  30\n",
      "\u001b[1mScentB_Line_Monthly_Part3.xlsx\u001b[0m :->\n",
      "# of Facts are  57 \t\t # of columns are  30\n",
      "\u001b[1mScentB_Line_Monthly_Part2.xlsx\u001b[0m :->\n",
      "# of Facts are  57 \t\t # of columns are  30\n",
      "\u001b[1mScentB_Line_Monthly_Part1.xlsx\u001b[0m :->\n",
      "# of Facts are  57 \t\t # of columns are  30\n",
      "\u001b[1mLiqFS_Line_Monthly_Part7.xlsx\u001b[0m :->\n",
      "# of Facts are  93 \t\t # of columns are  30\n",
      "\u001b[1mLiqFS_Line_Monthly_Part6.xlsx\u001b[0m :->\n",
      "# of Facts are  37 \t\t # of columns are  30\n",
      "\u001b[1mLiqFS_Line_Monthly_Part5.xlsx\u001b[0m :->\n",
      "# of Facts are  20 \t\t # of columns are  30\n",
      "\u001b[1mLiqFS_Line_Monthly_Part4.xlsx\u001b[0m :->\n",
      "# of Facts are  57 \t\t # of columns are  30\n",
      "\u001b[1mLiqFS_Line_Monthly_Part3.xlsx\u001b[0m :->\n",
      "# of Facts are  57 \t\t # of columns are  30\n",
      "\u001b[1mLiqFS_Line_Monthly_Part2.xlsx\u001b[0m :->\n",
      "# of Facts are  57 \t\t # of columns are  30\n",
      "\u001b[1mLiqFS_Line_Monthly_Part1.xlsx\u001b[0m :->\n",
      "# of Facts are  57 \t\t # of columns are  30\n",
      "\u001b[1mBeads_Line_Monthly_Part6.xlsx\u001b[0m :->\n",
      "# of Facts are  37 \t\t # of columns are  17\n",
      "\u001b[1mBeads_Line_Monthly_Part5.xlsx\u001b[0m :->\n",
      "# of Facts are  20 \t\t # of columns are  17\n",
      "\u001b[1mBeads_Line_Monthly_Part4.xlsx\u001b[0m :->\n",
      "# of Facts are  57 \t\t # of columns are  17\n",
      "\u001b[1mBeads_Line_Monthly_Part3.xlsx\u001b[0m :->\n",
      "# of Facts are  57 \t\t # of columns are  17\n",
      "\u001b[1mBeads_Line_Monthly_Part2.xlsx\u001b[0m :->\n",
      "# of Facts are  57 \t\t # of columns are  17\n",
      "\u001b[1mBeads_Line_Monthly_Part1.xlsx\u001b[0m :->\n",
      "# of Facts are  57 \t\t # of columns are  17\n",
      "execution time is  183.90444135665894\n"
     ]
    }
   ],
   "source": [
    "time_start= time.time()\n",
    "\n",
    "Line_Monthly= pd.DataFrame()\n",
    "\n",
    "j=0\n",
    "for f in files_xls:\n",
    "    \n",
    "    data = pd.read_excel(path+\"/\"+f)\n",
    "    print(\"\\033[1m\" + files_xls[j] + \"\\033[0m\",\":->\\n# of Facts are \",len(set(data[\"Periods\"])),\"\\t\\t # of columns are \",len(data.columns))  \n",
    "    Line_Monthly = pd.concat([Line_Monthly,data],axis=0,ignore_index=True)\n",
    "    j=j+1\n",
    "    \n",
    "time_end= time.time();\n",
    "\n",
    "print(\"execution time is \", time_end-time_start)"
   ]
  },
  {
   "cell_type": "code",
   "execution_count": 8,
   "metadata": {},
   "outputs": [
    {
     "data": {
      "text/plain": [
       "(307848, 30)"
      ]
     },
     "execution_count": 8,
     "metadata": {},
     "output_type": "execute_result"
    }
   ],
   "source": [
    "Line_Monthly.shape"
   ]
  },
  {
   "cell_type": "markdown",
   "metadata": {},
   "source": [
    "**Replacing Facts names** (Here column \"Periods\" denotes the fact column)"
   ]
  },
  {
   "cell_type": "code",
   "execution_count": 9,
   "metadata": {},
   "outputs": [],
   "source": [
    "Line_Monthly[\"Periods\"]=Line_Monthly[\"Periods\"].str.replace(\"$\",\"temp\")\n",
    "Line_Monthly[\"Periods\"]=Line_Monthly[\"Periods\"].str.replace(\"- temp -\",\"-\")\n",
    "Line_Monthly[\"Periods\"]=Line_Monthly[\"Periods\"].str.replace(\"temp\",\"$\")\n",
    "\n",
    "\n",
    "Line_Monthly[\"Periods\"]=Line_Monthly[\"Periods\"].str.replace(\"CP FORM\",\"CP CATEGORY\")\n",
    "Line_Monthly[\"Periods\"]=Line_Monthly[\"Periods\"].str.replace(\"CP USE\",\"CP CATEGORY\")\n",
    "Line_Monthly[\"Periods\"]=Line_Monthly[\"Periods\"].str.replace(\"CP LDL AND FOAM\",\"CP CATEGORY\")\n",
    "\n",
    "Line_Monthly[\"Periods\"]=Line_Monthly[\"Periods\"].str.replace(\"CP LDL AND FM X DISHAIDS/WPS/SPR\",\"CP CATEGORY\")\n",
    "\n",
    "Line_Monthly[\"Periods\"]=Line_Monthly[\"Periods\"].str.replace(\"CP MEGA CATEGORY\",\"CP CATEGORY\")\n",
    "Line_Monthly[\"Periods\"]=Line_Monthly[\"Periods\"].str.replace(\"CP BATTERY AND HYBRID\",\"CP CATEGORY\")\n",
    "\n",
    "# Market name replaced\n",
    "Line_Monthly[\"Markets\"]=Line_Monthly[\"Markets\"].str.replace(\"Walgreens Corp Total TA\",\"Walgreens Total TA\")"
   ]
  },
  {
   "cell_type": "code",
   "execution_count": 10,
   "metadata": {
    "scrolled": true
   },
   "outputs": [],
   "source": [
    "# replace NaN Values with 0\n",
    "Line_Monthly.fillna(value=0,inplace=True)"
   ]
  },
  {
   "cell_type": "code",
   "execution_count": 11,
   "metadata": {
    "scrolled": false
   },
   "outputs": [
    {
     "data": {
      "text/plain": [
       "{'$',\n",
       " '$ % Chg YA',\n",
       " '$ / $MM ACV',\n",
       " '$ / $MM ACV % Chg YA',\n",
       " '$ / $MM ACV Chg YA',\n",
       " '$ Chg YA',\n",
       " '$ Shr - CP CATEGORY',\n",
       " '$ Shr Chg YA - CP CATEGORY',\n",
       " '$ YA',\n",
       " '% $ Any Promo',\n",
       " '% $ Any Promo Chg YA',\n",
       " '% EQ Any Promo',\n",
       " '% EQ Any Promo Chg YA',\n",
       " '%ACV',\n",
       " '%ACV Chg YA',\n",
       " 'Any Disp %ACV',\n",
       " 'Any Disp %ACV Chg YA',\n",
       " 'Any Disp %ACV YA',\n",
       " 'Any Feat %ACV',\n",
       " 'Any Feat %ACV Chg YA',\n",
       " 'Any Feat %ACV YA',\n",
       " 'Any Promo $',\n",
       " 'Any Promo $ % Chg YA',\n",
       " 'Any Promo $ Chg YA',\n",
       " 'Any Promo $ Shr - CP CATEGORY',\n",
       " 'Any Promo $ Shr Chg YA - CP CATEGORY',\n",
       " 'Any Promo %ACV',\n",
       " 'Any Promo %ACV Chg YA',\n",
       " 'Any Promo EQ',\n",
       " 'Any Promo EQ % Chg YA',\n",
       " 'Any Promo EQ Chg YA',\n",
       " 'Any Promo EQ Price',\n",
       " 'Any Promo EQ Price Chg YA',\n",
       " 'Avg # of Items',\n",
       " 'Avg # of Items Chg YA',\n",
       " 'Avg EQ Price',\n",
       " 'Avg EQ Price % Chg YA',\n",
       " 'Avg EQ Price Chg YA',\n",
       " 'Avg EQ Price YA',\n",
       " 'Avg Unit Price',\n",
       " 'Avg Unit Price % Chg YA',\n",
       " 'Avg Unit Price Chg YA',\n",
       " 'Base $',\n",
       " 'Base $ % Chg YA',\n",
       " 'Base $ Chg YA',\n",
       " 'Base $ Shr - CP CATEGORY',\n",
       " 'Base $ Shr Chg YA - CP CATEGORY',\n",
       " 'Base $ YA',\n",
       " 'Base EQ',\n",
       " 'Base EQ % Chg YA',\n",
       " 'Base EQ Chg YA',\n",
       " 'Base EQ Price',\n",
       " 'Base EQ Price Chg YA',\n",
       " 'Base EQ Shr - CP CATEGORY',\n",
       " 'Base EQ Shr Chg YA - CP CATEGORY',\n",
       " 'Disp w/o Feat $',\n",
       " 'Disp w/o Feat $ % Chg YA',\n",
       " 'Disp w/o Feat $ Chg YA',\n",
       " 'Disp w/o Feat %ACV',\n",
       " 'Disp w/o Feat %ACV Chg YA',\n",
       " 'EQ',\n",
       " 'EQ % Chg YA',\n",
       " 'EQ Chg YA',\n",
       " 'EQ Shr - CP CATEGORY',\n",
       " 'EQ Shr Chg YA - CP CATEGORY',\n",
       " 'Feat & Disp $',\n",
       " 'Feat & Disp $ % Chg YA',\n",
       " 'Feat & Disp $ Chg YA',\n",
       " 'Feat & Disp %ACV',\n",
       " 'Feat & Disp %ACV Chg YA',\n",
       " 'Feat & Disp %ACV YA',\n",
       " 'Feat or Disp %ACV',\n",
       " 'Feat or Disp %ACV Chg YA',\n",
       " 'Feat w/o Disp $',\n",
       " 'Feat w/o Disp $ % Chg YA',\n",
       " 'Feat w/o Disp $ Chg YA',\n",
       " 'Feat w/o Disp %ACV',\n",
       " 'Feat w/o Disp %ACV Chg YA',\n",
       " 'Incr $',\n",
       " 'Incr $ % Chg YA',\n",
       " 'Incr $ Chg YA',\n",
       " 'Incr $ Shr - CP CATEGORY',\n",
       " 'Incr $ Shr Chg YA - CP CATEGORY',\n",
       " 'Incr $ YA',\n",
       " 'Incr EQ',\n",
       " 'Incr EQ % Chg YA',\n",
       " 'Incr EQ Chg YA',\n",
       " 'Incr EQ Shr - CP CATEGORY',\n",
       " 'Incr EQ Shr Chg YA - CP CATEGORY',\n",
       " 'No Promo Incr $',\n",
       " 'No Promo Incr $ % Chg YA',\n",
       " 'No Promo Incr $ Chg YA',\n",
       " 'Price Decr Only $',\n",
       " 'Price Decr Only $ % Chg YA',\n",
       " 'Price Decr Only $ Chg YA',\n",
       " 'Price Decr Only %ACV',\n",
       " 'Price Decr Only %ACV Chg YA',\n",
       " 'TDP',\n",
       " 'TDP % Chg YA',\n",
       " 'TDP Chg YA',\n",
       " 'Units',\n",
       " 'Units % Chg YA',\n",
       " 'Units Chg YA'}"
      ]
     },
     "execution_count": 11,
     "metadata": {},
     "output_type": "execute_result"
    }
   ],
   "source": [
    "set(Line_Monthly[\"Periods\"])"
   ]
  },
  {
   "cell_type": "markdown",
   "metadata": {},
   "source": [
    "**Removing unwanted characters from all the column names** and store them in a list ***new_col_names***"
   ]
  },
  {
   "cell_type": "code",
   "execution_count": 12,
   "metadata": {},
   "outputs": [],
   "source": [
    "new_col_names=[]\n",
    "for i in Line_Monthly.columns:\n",
    "    x=len(i)\n",
    "    if x<=17:\n",
    "        new_col_names.append(i)\n",
    "    elif i[:3]=='YTD':\n",
    "        new_col_names.append(i[:-16].strip('- '))\n",
    "    else:\n",
    "        new_col_names.append(i[:-14].strip('- '))\n",
    "        "
   ]
  },
  {
   "cell_type": "code",
   "execution_count": 13,
   "metadata": {},
   "outputs": [
    {
     "data": {
      "text/plain": [
       "{'AMJ 20 - w/e 07/04/20',\n",
       " 'Apr 20 - 4 w/e 05/02/20',\n",
       " 'Aug 20 - 4 w/e 08/29/20',\n",
       " 'Cal Yr 2017 - w/e 01/06/18',\n",
       " 'Cal Yr 2018 - w/e 01/05/19',\n",
       " 'Cal Yr 2019 - w/e 01/04/20',\n",
       " 'Cal Yr 2020 - w/e 01/02/21',\n",
       " 'Dec 20 - 5 w/e 01/02/21',\n",
       " 'Feb 20 - 4 w/e 02/29/20',\n",
       " 'Feb 21 - 4 w/e 02/27/21',\n",
       " 'JAS 20 - w/e 10/03/20',\n",
       " 'JFM 20 - w/e 04/04/20',\n",
       " 'JFM 21',\n",
       " 'Jan 20 - 4 w/e 02/01/20',\n",
       " 'Jan 21 - 4 w/e 01/30/21',\n",
       " 'Jul 20 - 4 w/e 08/01/20',\n",
       " 'Jun 20 - 5 w/e 07/04/20',\n",
       " 'Latest 13 Wks - w/e 02/27/21',\n",
       " 'Latest 26 Wks - w/e 02/27/21',\n",
       " 'Mar 20 - 5 w/e 04/04/20',\n",
       " 'Markets',\n",
       " 'May 20 - 4 w/e 05/30/20',\n",
       " 'Nov 20 - 4 w/e 11/28/20',\n",
       " 'OND 20 - w/e 01/02/21',\n",
       " 'Oct 20 - 4 w/e 10/31/20',\n",
       " 'Periods',\n",
       " 'Products',\n",
       " 'Sep 20 - 5 w/e 10/03/20',\n",
       " 'YTD - 8 w/e 02/27/21',\n",
       " 'YTD YA - 8 w/e 02/29/20'}"
      ]
     },
     "execution_count": 13,
     "metadata": {},
     "output_type": "execute_result"
    }
   ],
   "source": [
    "set(Line_Monthly.columns)"
   ]
  },
  {
   "cell_type": "markdown",
   "metadata": {},
   "source": [
    "**Checking the duplicacte column in** ***Line_Monthly***"
   ]
  },
  {
   "cell_type": "code",
   "execution_count": 14,
   "metadata": {},
   "outputs": [],
   "source": [
    "if(len(new_col_names)!=len(set(new_col_names))):\n",
    "    print(\"\\033[1;31m\"+\"*******************************ERROR*******************************\\n\\t\\t\\tWe have duplicate columns\\n\\t\\t\\tPlease recheck raw data files\\n*******************************ERROR*******************************\")"
   ]
  },
  {
   "cell_type": "code",
   "execution_count": 15,
   "metadata": {},
   "outputs": [
    {
     "data": {
      "text/plain": [
       "{'AMJ 20',\n",
       " 'Apr 20',\n",
       " 'Aug 20',\n",
       " 'Cal Yr 2017',\n",
       " 'Cal Yr 2018',\n",
       " 'Cal Yr 2019',\n",
       " 'Cal Yr 2020',\n",
       " 'Dec 20',\n",
       " 'Feb 20',\n",
       " 'Feb 21',\n",
       " 'JAS 20',\n",
       " 'JFM 20',\n",
       " 'JFM 21',\n",
       " 'Jan 20',\n",
       " 'Jan 21',\n",
       " 'Jul 20',\n",
       " 'Jun 20',\n",
       " 'Latest 13 Wks',\n",
       " 'Latest 26 Wks',\n",
       " 'Mar 20',\n",
       " 'Markets',\n",
       " 'May 20',\n",
       " 'Nov 20',\n",
       " 'OND 20',\n",
       " 'Oct 20',\n",
       " 'Periods',\n",
       " 'Products',\n",
       " 'Sep 20',\n",
       " 'YTD',\n",
       " 'YTD YA'}"
      ]
     },
     "execution_count": 15,
     "metadata": {},
     "output_type": "execute_result"
    }
   ],
   "source": [
    "set(new_col_names)"
   ]
  },
  {
   "cell_type": "markdown",
   "metadata": {},
   "source": [
    "Renaming the column names of ***Line_Monthly***"
   ]
  },
  {
   "cell_type": "code",
   "execution_count": 16,
   "metadata": {},
   "outputs": [],
   "source": [
    "# Line_Monthly.rename(columns=dict(zip(Line_Monthly.columns,new_col_names)),inplace=True)\n",
    "Line_Monthly.columns=new_col_names"
   ]
  },
  {
   "cell_type": "code",
   "execution_count": 17,
   "metadata": {},
   "outputs": [
    {
     "data": {
      "text/plain": [
       "Index(['Markets', 'Products', 'Periods', 'Jan 20', 'Feb 20', 'Mar 20',\n",
       "       'Apr 20', 'May 20', 'Jun 20', 'Jul 20', 'Aug 20', 'Sep 20', 'Oct 20',\n",
       "       'Nov 20', 'Dec 20', 'Jan 21', 'Feb 21', 'Latest 13 Wks',\n",
       "       'Latest 26 Wks', 'Cal Yr 2020', 'Cal Yr 2019', 'Cal Yr 2018',\n",
       "       'Cal Yr 2017', 'YTD', 'YTD YA', 'JFM 20', 'AMJ 20', 'JAS 20', 'OND 20',\n",
       "       'JFM 21'],\n",
       "      dtype='object')"
      ]
     },
     "execution_count": 17,
     "metadata": {},
     "output_type": "execute_result"
    }
   ],
   "source": [
    "Line_Monthly.columns"
   ]
  },
  {
   "cell_type": "markdown",
   "metadata": {},
   "source": [
    "**Adding Missing Quater**\n"
   ]
  },
  {
   "cell_type": "code",
   "execution_count": 18,
   "metadata": {},
   "outputs": [
    {
     "name": "stdout",
     "output_type": "stream",
     "text": [
      "2\n",
      "19\n"
     ]
    }
   ],
   "source": [
    "# GETTING 20 DAYS BEFORE MONTHS AND YEAR VALUES\n",
    "now=datetime.datetime.now()\n",
    "delay= datetime.timedelta(days=20)\n",
    "a= now - delay\n",
    "month_number=a.month\n",
    "year=str(a.year-2)[-2:]\n",
    "print(month_number)\n",
    "print(year)"
   ]
  },
  {
   "cell_type": "code",
   "execution_count": 19,
   "metadata": {},
   "outputs": [],
   "source": [
    "if( month_number >= 1 & month_number <= 3):\n",
    "    Line_Monthly['AMJ '+year]=\"\"\n",
    "    Line_Monthly['JAS '+year]=\"\"\n",
    "    Line_Monthly['OND '+year]=\"\"\n",
    "elif ( month_number >= 4 & month_number <= 6 ):\n",
    "    Line_Monthly['JAS '+year]=\"\"\n",
    "    Line_Monthly['OND '+year]=\"\"\n",
    "elif ( month_number >= 7 & month_number <= 9  ):\n",
    "    Line_Monthly['OND '+year]=\"\""
   ]
  },
  {
   "cell_type": "markdown",
   "metadata": {},
   "source": [
    "**Time period mapping**\n",
    "\n",
    "**Manual Step**\n",
    "\n",
    "This mapping needs to be changed every year when new year data comes"
   ]
  },
  {
   "cell_type": "code",
   "execution_count": null,
   "metadata": {},
   "outputs": [],
   "source": [
    "# time_period_map_2020= pd.DataFrame({'Connect Time Period':['Markets', 'Products', 'Periods','Cal Yr 2020','Cal Yr 2019','Cal Yr 2018','Cal Yr 2017','YTD','YTD YA','Latest 13 Wks','Latest 26 Wks','OND 20','JAS 20','AMJ 20','JFM 20','OND 19','JAS 19','AMJ 19','JFM 19','Dec 20','Nov 20','Oct 20','Sep 20','Aug 20','Jul 20','Jun 20','May 20','Apr 20','Mar 20','Feb 20','Jan 20','Dec 19','Nov 19','Oct 19','Sep 19','Aug 19','Jul 19','Jun 19','May 19','Apr 19','Mar 19','Feb 19','Jan 19'],\n",
    "#                                'Final Name':['Markets', 'Products', 'Periods','FY 2020','FY 2019','FY 2018','FY 2017','YTD 2020','YTD 2019','Latest 13 Weeks','Latest 26 Weeks','Q4 2020','Q3 2020','Q2 2020','Q1 2020','Q4 2019','Q3 2019','Q2 2019','Q1 2019','Dec 20','Nov 20','Oct 20','Sep 20','Aug 20','Jul 20','Jun 20','May 20','Apr 20','Mar 20','Feb 20','Jan 20','Dec 19','Nov 19','Oct 19','Sep 19','Aug 19','Jul 19','Jun 19','May 19','Apr 19','Mar 19','Feb 19','Jan 19']\n",
    "#                               ,'Order':range(1,44)})"
   ]
  },
  {
   "cell_type": "code",
   "execution_count": 20,
   "metadata": {},
   "outputs": [],
   "source": [
    "time_period_map= pd.DataFrame({'Connect Time Period':['Markets', 'Products', 'Periods','Cal Yr 2020','Cal Yr 2019','Cal Yr 2018','Cal Yr 2017','YTD','YTD YA','Latest 13 Wks','Latest 26 Wks','OND 21','JAS 21','AMJ 21','JFM 21','OND 20','JAS 20','AMJ 20','JFM 20','OND 19','JAS 19','AMJ 19','Dec 21','Nov 21','Oct 21','Sep 21','Aug 21','Jul 21','Jun 21','May 21','Apr 21','Mar 21','Feb 21','Jan 21','Dec 20','Nov 20','Oct 20','Sep 20','Aug 20','Jul 20','Jun 20','May 20','Apr 20','Mar 20','Feb 20','Jan 20'],\n",
    "                               'Final Name':['Markets', 'Products', 'Periods','FY 2020','FY 2019','FY 2018','FY 2017','YTD 2021','YTD 2020','Latest 13 Weeks','Latest 26 Weeks','Q4 2021','Q3 2021','Q2 2021','Q1 2021','Q4 2020','Q3 2020','Q2 2020','Q1 2020','Q4 2019','Q3 2019','Q2 2019','Dec 21','Nov 21','Oct 21','Sep 21','Aug 21','Jul 21','Jun 21','May 21','Apr 21','Mar 21','Feb 21','Jan 21','Dec 20','Nov 20','Oct 20','Sep 20','Aug 20','Jul 20','Jun 20','May 20','Apr 20','Mar 20','Feb 20','Jan 20']\n",
    "                              ,'Order':range(1,47)})"
   ]
  },
  {
   "cell_type": "code",
   "execution_count": 21,
   "metadata": {
    "scrolled": false
   },
   "outputs": [
    {
     "data": {
      "text/html": [
       "<div>\n",
       "<style scoped>\n",
       "    .dataframe tbody tr th:only-of-type {\n",
       "        vertical-align: middle;\n",
       "    }\n",
       "\n",
       "    .dataframe tbody tr th {\n",
       "        vertical-align: top;\n",
       "    }\n",
       "\n",
       "    .dataframe thead th {\n",
       "        text-align: right;\n",
       "    }\n",
       "</style>\n",
       "<table border=\"1\" class=\"dataframe\">\n",
       "  <thead>\n",
       "    <tr style=\"text-align: right;\">\n",
       "      <th></th>\n",
       "      <th>Connect Time Period</th>\n",
       "      <th>Final Name</th>\n",
       "      <th>Order</th>\n",
       "    </tr>\n",
       "  </thead>\n",
       "  <tbody>\n",
       "    <tr>\n",
       "      <th>0</th>\n",
       "      <td>Markets</td>\n",
       "      <td>Markets</td>\n",
       "      <td>1</td>\n",
       "    </tr>\n",
       "    <tr>\n",
       "      <th>1</th>\n",
       "      <td>Products</td>\n",
       "      <td>Products</td>\n",
       "      <td>2</td>\n",
       "    </tr>\n",
       "    <tr>\n",
       "      <th>2</th>\n",
       "      <td>Periods</td>\n",
       "      <td>Periods</td>\n",
       "      <td>3</td>\n",
       "    </tr>\n",
       "    <tr>\n",
       "      <th>3</th>\n",
       "      <td>Cal Yr 2020</td>\n",
       "      <td>FY 2020</td>\n",
       "      <td>4</td>\n",
       "    </tr>\n",
       "    <tr>\n",
       "      <th>4</th>\n",
       "      <td>Cal Yr 2019</td>\n",
       "      <td>FY 2019</td>\n",
       "      <td>5</td>\n",
       "    </tr>\n",
       "    <tr>\n",
       "      <th>5</th>\n",
       "      <td>Cal Yr 2018</td>\n",
       "      <td>FY 2018</td>\n",
       "      <td>6</td>\n",
       "    </tr>\n",
       "    <tr>\n",
       "      <th>6</th>\n",
       "      <td>Cal Yr 2017</td>\n",
       "      <td>FY 2017</td>\n",
       "      <td>7</td>\n",
       "    </tr>\n",
       "    <tr>\n",
       "      <th>7</th>\n",
       "      <td>YTD</td>\n",
       "      <td>YTD 2021</td>\n",
       "      <td>8</td>\n",
       "    </tr>\n",
       "    <tr>\n",
       "      <th>8</th>\n",
       "      <td>YTD YA</td>\n",
       "      <td>YTD 2020</td>\n",
       "      <td>9</td>\n",
       "    </tr>\n",
       "    <tr>\n",
       "      <th>9</th>\n",
       "      <td>Latest 13 Wks</td>\n",
       "      <td>Latest 13 Weeks</td>\n",
       "      <td>10</td>\n",
       "    </tr>\n",
       "    <tr>\n",
       "      <th>10</th>\n",
       "      <td>Latest 26 Wks</td>\n",
       "      <td>Latest 26 Weeks</td>\n",
       "      <td>11</td>\n",
       "    </tr>\n",
       "    <tr>\n",
       "      <th>11</th>\n",
       "      <td>OND 21</td>\n",
       "      <td>Q4 2021</td>\n",
       "      <td>12</td>\n",
       "    </tr>\n",
       "    <tr>\n",
       "      <th>12</th>\n",
       "      <td>JAS 21</td>\n",
       "      <td>Q3 2021</td>\n",
       "      <td>13</td>\n",
       "    </tr>\n",
       "    <tr>\n",
       "      <th>13</th>\n",
       "      <td>AMJ 21</td>\n",
       "      <td>Q2 2021</td>\n",
       "      <td>14</td>\n",
       "    </tr>\n",
       "    <tr>\n",
       "      <th>14</th>\n",
       "      <td>JFM 21</td>\n",
       "      <td>Q1 2021</td>\n",
       "      <td>15</td>\n",
       "    </tr>\n",
       "    <tr>\n",
       "      <th>15</th>\n",
       "      <td>OND 20</td>\n",
       "      <td>Q4 2020</td>\n",
       "      <td>16</td>\n",
       "    </tr>\n",
       "    <tr>\n",
       "      <th>16</th>\n",
       "      <td>JAS 20</td>\n",
       "      <td>Q3 2020</td>\n",
       "      <td>17</td>\n",
       "    </tr>\n",
       "    <tr>\n",
       "      <th>17</th>\n",
       "      <td>AMJ 20</td>\n",
       "      <td>Q2 2020</td>\n",
       "      <td>18</td>\n",
       "    </tr>\n",
       "    <tr>\n",
       "      <th>18</th>\n",
       "      <td>JFM 20</td>\n",
       "      <td>Q1 2020</td>\n",
       "      <td>19</td>\n",
       "    </tr>\n",
       "    <tr>\n",
       "      <th>19</th>\n",
       "      <td>OND 19</td>\n",
       "      <td>Q4 2019</td>\n",
       "      <td>20</td>\n",
       "    </tr>\n",
       "    <tr>\n",
       "      <th>20</th>\n",
       "      <td>JAS 19</td>\n",
       "      <td>Q3 2019</td>\n",
       "      <td>21</td>\n",
       "    </tr>\n",
       "    <tr>\n",
       "      <th>21</th>\n",
       "      <td>AMJ 19</td>\n",
       "      <td>Q2 2019</td>\n",
       "      <td>22</td>\n",
       "    </tr>\n",
       "    <tr>\n",
       "      <th>22</th>\n",
       "      <td>Dec 21</td>\n",
       "      <td>Dec 21</td>\n",
       "      <td>23</td>\n",
       "    </tr>\n",
       "    <tr>\n",
       "      <th>23</th>\n",
       "      <td>Nov 21</td>\n",
       "      <td>Nov 21</td>\n",
       "      <td>24</td>\n",
       "    </tr>\n",
       "    <tr>\n",
       "      <th>24</th>\n",
       "      <td>Oct 21</td>\n",
       "      <td>Oct 21</td>\n",
       "      <td>25</td>\n",
       "    </tr>\n",
       "    <tr>\n",
       "      <th>25</th>\n",
       "      <td>Sep 21</td>\n",
       "      <td>Sep 21</td>\n",
       "      <td>26</td>\n",
       "    </tr>\n",
       "    <tr>\n",
       "      <th>26</th>\n",
       "      <td>Aug 21</td>\n",
       "      <td>Aug 21</td>\n",
       "      <td>27</td>\n",
       "    </tr>\n",
       "    <tr>\n",
       "      <th>27</th>\n",
       "      <td>Jul 21</td>\n",
       "      <td>Jul 21</td>\n",
       "      <td>28</td>\n",
       "    </tr>\n",
       "    <tr>\n",
       "      <th>28</th>\n",
       "      <td>Jun 21</td>\n",
       "      <td>Jun 21</td>\n",
       "      <td>29</td>\n",
       "    </tr>\n",
       "    <tr>\n",
       "      <th>29</th>\n",
       "      <td>May 21</td>\n",
       "      <td>May 21</td>\n",
       "      <td>30</td>\n",
       "    </tr>\n",
       "    <tr>\n",
       "      <th>30</th>\n",
       "      <td>Apr 21</td>\n",
       "      <td>Apr 21</td>\n",
       "      <td>31</td>\n",
       "    </tr>\n",
       "    <tr>\n",
       "      <th>31</th>\n",
       "      <td>Mar 21</td>\n",
       "      <td>Mar 21</td>\n",
       "      <td>32</td>\n",
       "    </tr>\n",
       "    <tr>\n",
       "      <th>32</th>\n",
       "      <td>Feb 21</td>\n",
       "      <td>Feb 21</td>\n",
       "      <td>33</td>\n",
       "    </tr>\n",
       "    <tr>\n",
       "      <th>33</th>\n",
       "      <td>Jan 21</td>\n",
       "      <td>Jan 21</td>\n",
       "      <td>34</td>\n",
       "    </tr>\n",
       "    <tr>\n",
       "      <th>34</th>\n",
       "      <td>Dec 20</td>\n",
       "      <td>Dec 20</td>\n",
       "      <td>35</td>\n",
       "    </tr>\n",
       "    <tr>\n",
       "      <th>35</th>\n",
       "      <td>Nov 20</td>\n",
       "      <td>Nov 20</td>\n",
       "      <td>36</td>\n",
       "    </tr>\n",
       "    <tr>\n",
       "      <th>36</th>\n",
       "      <td>Oct 20</td>\n",
       "      <td>Oct 20</td>\n",
       "      <td>37</td>\n",
       "    </tr>\n",
       "    <tr>\n",
       "      <th>37</th>\n",
       "      <td>Sep 20</td>\n",
       "      <td>Sep 20</td>\n",
       "      <td>38</td>\n",
       "    </tr>\n",
       "    <tr>\n",
       "      <th>38</th>\n",
       "      <td>Aug 20</td>\n",
       "      <td>Aug 20</td>\n",
       "      <td>39</td>\n",
       "    </tr>\n",
       "    <tr>\n",
       "      <th>39</th>\n",
       "      <td>Jul 20</td>\n",
       "      <td>Jul 20</td>\n",
       "      <td>40</td>\n",
       "    </tr>\n",
       "    <tr>\n",
       "      <th>40</th>\n",
       "      <td>Jun 20</td>\n",
       "      <td>Jun 20</td>\n",
       "      <td>41</td>\n",
       "    </tr>\n",
       "    <tr>\n",
       "      <th>41</th>\n",
       "      <td>May 20</td>\n",
       "      <td>May 20</td>\n",
       "      <td>42</td>\n",
       "    </tr>\n",
       "    <tr>\n",
       "      <th>42</th>\n",
       "      <td>Apr 20</td>\n",
       "      <td>Apr 20</td>\n",
       "      <td>43</td>\n",
       "    </tr>\n",
       "    <tr>\n",
       "      <th>43</th>\n",
       "      <td>Mar 20</td>\n",
       "      <td>Mar 20</td>\n",
       "      <td>44</td>\n",
       "    </tr>\n",
       "    <tr>\n",
       "      <th>44</th>\n",
       "      <td>Feb 20</td>\n",
       "      <td>Feb 20</td>\n",
       "      <td>45</td>\n",
       "    </tr>\n",
       "    <tr>\n",
       "      <th>45</th>\n",
       "      <td>Jan 20</td>\n",
       "      <td>Jan 20</td>\n",
       "      <td>46</td>\n",
       "    </tr>\n",
       "  </tbody>\n",
       "</table>\n",
       "</div>"
      ],
      "text/plain": [
       "   Connect Time Period       Final Name  Order\n",
       "0              Markets          Markets      1\n",
       "1             Products         Products      2\n",
       "2              Periods          Periods      3\n",
       "3          Cal Yr 2020          FY 2020      4\n",
       "4          Cal Yr 2019          FY 2019      5\n",
       "5          Cal Yr 2018          FY 2018      6\n",
       "6          Cal Yr 2017          FY 2017      7\n",
       "7                  YTD         YTD 2021      8\n",
       "8               YTD YA         YTD 2020      9\n",
       "9        Latest 13 Wks  Latest 13 Weeks     10\n",
       "10       Latest 26 Wks  Latest 26 Weeks     11\n",
       "11              OND 21          Q4 2021     12\n",
       "12              JAS 21          Q3 2021     13\n",
       "13              AMJ 21          Q2 2021     14\n",
       "14              JFM 21          Q1 2021     15\n",
       "15              OND 20          Q4 2020     16\n",
       "16              JAS 20          Q3 2020     17\n",
       "17              AMJ 20          Q2 2020     18\n",
       "18              JFM 20          Q1 2020     19\n",
       "19              OND 19          Q4 2019     20\n",
       "20              JAS 19          Q3 2019     21\n",
       "21              AMJ 19          Q2 2019     22\n",
       "22              Dec 21           Dec 21     23\n",
       "23              Nov 21           Nov 21     24\n",
       "24              Oct 21           Oct 21     25\n",
       "25              Sep 21           Sep 21     26\n",
       "26              Aug 21           Aug 21     27\n",
       "27              Jul 21           Jul 21     28\n",
       "28              Jun 21           Jun 21     29\n",
       "29              May 21           May 21     30\n",
       "30              Apr 21           Apr 21     31\n",
       "31              Mar 21           Mar 21     32\n",
       "32              Feb 21           Feb 21     33\n",
       "33              Jan 21           Jan 21     34\n",
       "34              Dec 20           Dec 20     35\n",
       "35              Nov 20           Nov 20     36\n",
       "36              Oct 20           Oct 20     37\n",
       "37              Sep 20           Sep 20     38\n",
       "38              Aug 20           Aug 20     39\n",
       "39              Jul 20           Jul 20     40\n",
       "40              Jun 20           Jun 20     41\n",
       "41              May 20           May 20     42\n",
       "42              Apr 20           Apr 20     43\n",
       "43              Mar 20           Mar 20     44\n",
       "44              Feb 20           Feb 20     45\n",
       "45              Jan 20           Jan 20     46"
      ]
     },
     "execution_count": 21,
     "metadata": {},
     "output_type": "execute_result"
    }
   ],
   "source": [
    "time_period_map.head(50)"
   ]
  },
  {
   "cell_type": "markdown",
   "metadata": {},
   "source": [
    "We need to **change column names** of ***Line_Monthly*** and **reorder** them based on the time_period_mapping"
   ]
  },
  {
   "cell_type": "code",
   "execution_count": 22,
   "metadata": {},
   "outputs": [],
   "source": [
    "# assigning variables\n",
    "LM_column= list(Line_Monthly.columns)\n",
    "time_connect=list(time_period_map[\"Connect Time Period\"])\n",
    "time_final=list(time_period_map[\"Final Name\"])"
   ]
  },
  {
   "cell_type": "code",
   "execution_count": 23,
   "metadata": {},
   "outputs": [],
   "source": [
    "# changing column names based on time_period_mapping\n",
    "new_column=[]\n",
    "for i in range(0,len(LM_column)):\n",
    "    for j in range(0,len(time_connect)):\n",
    "        if LM_column[i]==time_connect[j]:\n",
    "            new_column.append(time_final[j])\n",
    "        "
   ]
  },
  {
   "cell_type": "code",
   "execution_count": 24,
   "metadata": {},
   "outputs": [
    {
     "name": "stdout",
     "output_type": "stream",
     "text": [
      "['Markets', 'Products', 'Periods', 'Jan 20', 'Feb 20', 'Mar 20', 'Apr 20', 'May 20', 'Jun 20', 'Jul 20', 'Aug 20', 'Sep 20', 'Oct 20', 'Nov 20', 'Dec 20', 'Jan 21', 'Feb 21', 'Latest 13 Weeks', 'Latest 26 Weeks', 'FY 2020', 'FY 2019', 'FY 2018', 'FY 2017', 'YTD 2021', 'YTD 2020', 'Q1 2020', 'Q2 2020', 'Q3 2020', 'Q4 2020', 'Q1 2021', 'Q2 2019', 'Q3 2019', 'Q4 2019']\n"
     ]
    }
   ],
   "source": [
    "print(new_column)"
   ]
  },
  {
   "cell_type": "code",
   "execution_count": 25,
   "metadata": {},
   "outputs": [
    {
     "name": "stdout",
     "output_type": "stream",
     "text": [
      "33 33\n"
     ]
    }
   ],
   "source": [
    "print(len(new_column),len(Line_Monthly.columns))"
   ]
  },
  {
   "cell_type": "code",
   "execution_count": 26,
   "metadata": {},
   "outputs": [],
   "source": [
    "#assigning new column names\n",
    "Line_Monthly.columns = new_column"
   ]
  },
  {
   "cell_type": "code",
   "execution_count": 27,
   "metadata": {},
   "outputs": [],
   "source": [
    "# reordering column names\n",
    "my_list =time_period_map.iloc[:, 1]\n",
    "my_list1=Line_Monthly.columns\n",
    "result = [x for x in my_list if x in my_list1]\n",
    "Line_Monthly=Line_Monthly[result]"
   ]
  },
  {
   "cell_type": "code",
   "execution_count": 28,
   "metadata": {},
   "outputs": [
    {
     "data": {
      "text/plain": [
       "Index(['Markets', 'Products', 'Periods', 'FY 2020', 'FY 2019', 'FY 2018',\n",
       "       'FY 2017', 'YTD 2021', 'YTD 2020', 'Latest 13 Weeks', 'Latest 26 Weeks',\n",
       "       'Q1 2021', 'Q4 2020', 'Q3 2020', 'Q2 2020', 'Q1 2020', 'Q4 2019',\n",
       "       'Q3 2019', 'Q2 2019', 'Feb 21', 'Jan 21', 'Dec 20', 'Nov 20', 'Oct 20',\n",
       "       'Sep 20', 'Aug 20', 'Jul 20', 'Jun 20', 'May 20', 'Apr 20', 'Mar 20',\n",
       "       'Feb 20', 'Jan 20'],\n",
       "      dtype='object')"
      ]
     },
     "execution_count": 28,
     "metadata": {},
     "output_type": "execute_result"
    }
   ],
   "source": [
    "Line_Monthly.columns"
   ]
  },
  {
   "cell_type": "code",
   "execution_count": 29,
   "metadata": {
    "scrolled": true
   },
   "outputs": [
    {
     "data": {
      "text/html": [
       "<div>\n",
       "<style scoped>\n",
       "    .dataframe tbody tr th:only-of-type {\n",
       "        vertical-align: middle;\n",
       "    }\n",
       "\n",
       "    .dataframe tbody tr th {\n",
       "        vertical-align: top;\n",
       "    }\n",
       "\n",
       "    .dataframe thead th {\n",
       "        text-align: right;\n",
       "    }\n",
       "</style>\n",
       "<table border=\"1\" class=\"dataframe\">\n",
       "  <thead>\n",
       "    <tr style=\"text-align: right;\">\n",
       "      <th></th>\n",
       "      <th>Markets</th>\n",
       "      <th>Products</th>\n",
       "      <th>Periods</th>\n",
       "      <th>FY 2020</th>\n",
       "      <th>FY 2019</th>\n",
       "      <th>FY 2018</th>\n",
       "      <th>FY 2017</th>\n",
       "      <th>YTD 2021</th>\n",
       "      <th>YTD 2020</th>\n",
       "      <th>Latest 13 Weeks</th>\n",
       "      <th>...</th>\n",
       "      <th>Oct 20</th>\n",
       "      <th>Sep 20</th>\n",
       "      <th>Aug 20</th>\n",
       "      <th>Jul 20</th>\n",
       "      <th>Jun 20</th>\n",
       "      <th>May 20</th>\n",
       "      <th>Apr 20</th>\n",
       "      <th>Mar 20</th>\n",
       "      <th>Feb 20</th>\n",
       "      <th>Jan 20</th>\n",
       "    </tr>\n",
       "  </thead>\n",
       "  <tbody>\n",
       "    <tr>\n",
       "      <th>0</th>\n",
       "      <td>El Super Total TA</td>\n",
       "      <td>FABRIC SOFTENERS</td>\n",
       "      <td>$</td>\n",
       "      <td>4926718.240</td>\n",
       "      <td>5180926.480</td>\n",
       "      <td>5666153.310</td>\n",
       "      <td>6694214.430</td>\n",
       "      <td>621689.680</td>\n",
       "      <td>759939.830</td>\n",
       "      <td>1089770.610</td>\n",
       "      <td>...</td>\n",
       "      <td>338673.030</td>\n",
       "      <td>479695.580</td>\n",
       "      <td>346994.580</td>\n",
       "      <td>365310.610</td>\n",
       "      <td>387518.520</td>\n",
       "      <td>313260.760</td>\n",
       "      <td>349833.240</td>\n",
       "      <td>664109.660</td>\n",
       "      <td>368125.110</td>\n",
       "      <td>391814.720</td>\n",
       "    </tr>\n",
       "    <tr>\n",
       "      <th>1</th>\n",
       "      <td>El Super Total TA</td>\n",
       "      <td>FABRIC SOFTENERS</td>\n",
       "      <td>$ / $MM ACV</td>\n",
       "      <td>3817.895</td>\n",
       "      <td>4138.279</td>\n",
       "      <td>4881.064</td>\n",
       "      <td>6286.137</td>\n",
       "      <td>3106.926</td>\n",
       "      <td>3895.729</td>\n",
       "      <td>3351.501</td>\n",
       "      <td>...</td>\n",
       "      <td>3385.072</td>\n",
       "      <td>3835.693</td>\n",
       "      <td>3468.246</td>\n",
       "      <td>3651.317</td>\n",
       "      <td>3098.636</td>\n",
       "      <td>3142.160</td>\n",
       "      <td>3556.553</td>\n",
       "      <td>5447.138</td>\n",
       "      <td>3774.287</td>\n",
       "      <td>4017.170</td>\n",
       "    </tr>\n",
       "    <tr>\n",
       "      <th>2</th>\n",
       "      <td>El Super Total TA</td>\n",
       "      <td>FABRIC SOFTENERS</td>\n",
       "      <td>$ / $MM ACV % Chg YA</td>\n",
       "      <td>-7.742</td>\n",
       "      <td>-15.218</td>\n",
       "      <td>-22.352</td>\n",
       "      <td>0.000</td>\n",
       "      <td>-20.248</td>\n",
       "      <td>-8.362</td>\n",
       "      <td>-12.450</td>\n",
       "      <td>...</td>\n",
       "      <td>-13.189</td>\n",
       "      <td>-14.286</td>\n",
       "      <td>-5.150</td>\n",
       "      <td>-20.755</td>\n",
       "      <td>-23.334</td>\n",
       "      <td>-26.781</td>\n",
       "      <td>-9.541</td>\n",
       "      <td>23.023</td>\n",
       "      <td>-2.198</td>\n",
       "      <td>-13.543</td>\n",
       "    </tr>\n",
       "  </tbody>\n",
       "</table>\n",
       "<p>3 rows × 33 columns</p>\n",
       "</div>"
      ],
      "text/plain": [
       "             Markets          Products               Periods      FY 2020  \\\n",
       "0  El Super Total TA  FABRIC SOFTENERS                     $  4926718.240   \n",
       "1  El Super Total TA  FABRIC SOFTENERS           $ / $MM ACV     3817.895   \n",
       "2  El Super Total TA  FABRIC SOFTENERS  $ / $MM ACV % Chg YA       -7.742   \n",
       "\n",
       "       FY 2019      FY 2018      FY 2017    YTD 2021    YTD 2020  \\\n",
       "0  5180926.480  5666153.310  6694214.430  621689.680  759939.830   \n",
       "1     4138.279     4881.064     6286.137    3106.926    3895.729   \n",
       "2      -15.218      -22.352        0.000     -20.248      -8.362   \n",
       "\n",
       "   Latest 13 Weeks  ...      Oct 20      Sep 20      Aug 20      Jul 20  \\\n",
       "0      1089770.610  ...  338673.030  479695.580  346994.580  365310.610   \n",
       "1         3351.501  ...    3385.072    3835.693    3468.246    3651.317   \n",
       "2          -12.450  ...     -13.189     -14.286      -5.150     -20.755   \n",
       "\n",
       "       Jun 20      May 20      Apr 20      Mar 20      Feb 20      Jan 20  \n",
       "0  387518.520  313260.760  349833.240  664109.660  368125.110  391814.720  \n",
       "1    3098.636    3142.160    3556.553    5447.138    3774.287    4017.170  \n",
       "2     -23.334     -26.781      -9.541      23.023      -2.198     -13.543  \n",
       "\n",
       "[3 rows x 33 columns]"
      ]
     },
     "execution_count": 29,
     "metadata": {},
     "output_type": "execute_result"
    }
   ],
   "source": [
    "Line_Monthly.head(3)"
   ]
  },
  {
   "cell_type": "markdown",
   "metadata": {},
   "source": [
    "**Line_Monthly_5p**"
   ]
  },
  {
   "cell_type": "code",
   "execution_count": 30,
   "metadata": {},
   "outputs": [],
   "source": [
    "Data_5p=Line_Monthly.copy()"
   ]
  },
  {
   "cell_type": "code",
   "execution_count": 31,
   "metadata": {},
   "outputs": [],
   "source": [
    "Data_5p.rename(columns={\"Periods\":\"Facts\"},inplace=True)"
   ]
  },
  {
   "cell_type": "code",
   "execution_count": 32,
   "metadata": {
    "scrolled": true
   },
   "outputs": [
    {
     "data": {
      "text/html": [
       "<div>\n",
       "<style scoped>\n",
       "    .dataframe tbody tr th:only-of-type {\n",
       "        vertical-align: middle;\n",
       "    }\n",
       "\n",
       "    .dataframe tbody tr th {\n",
       "        vertical-align: top;\n",
       "    }\n",
       "\n",
       "    .dataframe thead th {\n",
       "        text-align: right;\n",
       "    }\n",
       "</style>\n",
       "<table border=\"1\" class=\"dataframe\">\n",
       "  <thead>\n",
       "    <tr style=\"text-align: right;\">\n",
       "      <th></th>\n",
       "      <th>Markets</th>\n",
       "      <th>Products</th>\n",
       "      <th>Facts</th>\n",
       "      <th>FY 2020</th>\n",
       "      <th>FY 2019</th>\n",
       "      <th>FY 2018</th>\n",
       "      <th>FY 2017</th>\n",
       "      <th>YTD 2021</th>\n",
       "      <th>YTD 2020</th>\n",
       "      <th>Latest 13 Weeks</th>\n",
       "      <th>...</th>\n",
       "      <th>Oct 20</th>\n",
       "      <th>Sep 20</th>\n",
       "      <th>Aug 20</th>\n",
       "      <th>Jul 20</th>\n",
       "      <th>Jun 20</th>\n",
       "      <th>May 20</th>\n",
       "      <th>Apr 20</th>\n",
       "      <th>Mar 20</th>\n",
       "      <th>Feb 20</th>\n",
       "      <th>Jan 20</th>\n",
       "    </tr>\n",
       "  </thead>\n",
       "  <tbody>\n",
       "    <tr>\n",
       "      <th>0</th>\n",
       "      <td>El Super Total TA</td>\n",
       "      <td>FABRIC SOFTENERS</td>\n",
       "      <td>$</td>\n",
       "      <td>4926718.240</td>\n",
       "      <td>5180926.480</td>\n",
       "      <td>5666153.310</td>\n",
       "      <td>6694214.430</td>\n",
       "      <td>621689.680</td>\n",
       "      <td>759939.830</td>\n",
       "      <td>1089770.610</td>\n",
       "      <td>...</td>\n",
       "      <td>338673.030</td>\n",
       "      <td>479695.580</td>\n",
       "      <td>346994.580</td>\n",
       "      <td>365310.610</td>\n",
       "      <td>387518.520</td>\n",
       "      <td>313260.760</td>\n",
       "      <td>349833.240</td>\n",
       "      <td>664109.660</td>\n",
       "      <td>368125.110</td>\n",
       "      <td>391814.720</td>\n",
       "    </tr>\n",
       "    <tr>\n",
       "      <th>1</th>\n",
       "      <td>El Super Total TA</td>\n",
       "      <td>FABRIC SOFTENERS</td>\n",
       "      <td>$ / $MM ACV</td>\n",
       "      <td>3817.895</td>\n",
       "      <td>4138.279</td>\n",
       "      <td>4881.064</td>\n",
       "      <td>6286.137</td>\n",
       "      <td>3106.926</td>\n",
       "      <td>3895.729</td>\n",
       "      <td>3351.501</td>\n",
       "      <td>...</td>\n",
       "      <td>3385.072</td>\n",
       "      <td>3835.693</td>\n",
       "      <td>3468.246</td>\n",
       "      <td>3651.317</td>\n",
       "      <td>3098.636</td>\n",
       "      <td>3142.160</td>\n",
       "      <td>3556.553</td>\n",
       "      <td>5447.138</td>\n",
       "      <td>3774.287</td>\n",
       "      <td>4017.170</td>\n",
       "    </tr>\n",
       "    <tr>\n",
       "      <th>2</th>\n",
       "      <td>El Super Total TA</td>\n",
       "      <td>FABRIC SOFTENERS</td>\n",
       "      <td>$ / $MM ACV % Chg YA</td>\n",
       "      <td>-7.742</td>\n",
       "      <td>-15.218</td>\n",
       "      <td>-22.352</td>\n",
       "      <td>0.000</td>\n",
       "      <td>-20.248</td>\n",
       "      <td>-8.362</td>\n",
       "      <td>-12.450</td>\n",
       "      <td>...</td>\n",
       "      <td>-13.189</td>\n",
       "      <td>-14.286</td>\n",
       "      <td>-5.150</td>\n",
       "      <td>-20.755</td>\n",
       "      <td>-23.334</td>\n",
       "      <td>-26.781</td>\n",
       "      <td>-9.541</td>\n",
       "      <td>23.023</td>\n",
       "      <td>-2.198</td>\n",
       "      <td>-13.543</td>\n",
       "    </tr>\n",
       "  </tbody>\n",
       "</table>\n",
       "<p>3 rows × 33 columns</p>\n",
       "</div>"
      ],
      "text/plain": [
       "             Markets          Products                 Facts      FY 2020  \\\n",
       "0  El Super Total TA  FABRIC SOFTENERS                     $  4926718.240   \n",
       "1  El Super Total TA  FABRIC SOFTENERS           $ / $MM ACV     3817.895   \n",
       "2  El Super Total TA  FABRIC SOFTENERS  $ / $MM ACV % Chg YA       -7.742   \n",
       "\n",
       "       FY 2019      FY 2018      FY 2017    YTD 2021    YTD 2020  \\\n",
       "0  5180926.480  5666153.310  6694214.430  621689.680  759939.830   \n",
       "1     4138.279     4881.064     6286.137    3106.926    3895.729   \n",
       "2      -15.218      -22.352        0.000     -20.248      -8.362   \n",
       "\n",
       "   Latest 13 Weeks  ...      Oct 20      Sep 20      Aug 20      Jul 20  \\\n",
       "0      1089770.610  ...  338673.030  479695.580  346994.580  365310.610   \n",
       "1         3351.501  ...    3385.072    3835.693    3468.246    3651.317   \n",
       "2          -12.450  ...     -13.189     -14.286      -5.150     -20.755   \n",
       "\n",
       "       Jun 20      May 20      Apr 20      Mar 20      Feb 20      Jan 20  \n",
       "0  387518.520  313260.760  349833.240  664109.660  368125.110  391814.720  \n",
       "1    3098.636    3142.160    3556.553    5447.138    3774.287    4017.170  \n",
       "2     -23.334     -26.781      -9.541      23.023      -2.198     -13.543  \n",
       "\n",
       "[3 rows x 33 columns]"
      ]
     },
     "execution_count": 32,
     "metadata": {},
     "output_type": "execute_result"
    }
   ],
   "source": [
    "Data_5p.head(3)"
   ]
  },
  {
   "cell_type": "markdown",
   "metadata": {},
   "source": [
    "**Filter Condition**\n",
    "\n",
    "Taking only those products whose **Latest Month Dollar Share** is **greater than 0.02** for all the markets"
   ]
  },
  {
   "cell_type": "code",
   "execution_count": 33,
   "metadata": {},
   "outputs": [],
   "source": [
    "Data_5p.iloc[:,3:]= Data_5p.iloc[:,3:].apply(pd.to_numeric)"
   ]
  },
  {
   "cell_type": "code",
   "execution_count": 34,
   "metadata": {},
   "outputs": [
    {
     "name": "stdout",
     "output_type": "stream",
     "text": [
      "<class 'pandas.core.frame.DataFrame'>\n",
      "RangeIndex: 307848 entries, 0 to 307847\n",
      "Data columns (total 33 columns):\n",
      " #   Column           Non-Null Count   Dtype  \n",
      "---  ------           --------------   -----  \n",
      " 0   Markets          307848 non-null  object \n",
      " 1   Products         307848 non-null  object \n",
      " 2   Facts            307848 non-null  object \n",
      " 3   FY 2020          307848 non-null  float64\n",
      " 4   FY 2019          307848 non-null  float64\n",
      " 5   FY 2018          307848 non-null  float64\n",
      " 6   FY 2017          307848 non-null  float64\n",
      " 7   YTD 2021         307848 non-null  float64\n",
      " 8   YTD 2020         307848 non-null  float64\n",
      " 9   Latest 13 Weeks  307848 non-null  float64\n",
      " 10  Latest 26 Weeks  307848 non-null  float64\n",
      " 11  Q1 2021          307848 non-null  float64\n",
      " 12  Q4 2020          307848 non-null  float64\n",
      " 13  Q3 2020          307848 non-null  float64\n",
      " 14  Q2 2020          307848 non-null  float64\n",
      " 15  Q1 2020          307848 non-null  float64\n",
      " 16  Q4 2019          0 non-null       float64\n",
      " 17  Q3 2019          0 non-null       float64\n",
      " 18  Q2 2019          0 non-null       float64\n",
      " 19  Feb 21           307848 non-null  float64\n",
      " 20  Jan 21           307848 non-null  float64\n",
      " 21  Dec 20           307848 non-null  float64\n",
      " 22  Nov 20           307848 non-null  float64\n",
      " 23  Oct 20           307848 non-null  float64\n",
      " 24  Sep 20           307848 non-null  float64\n",
      " 25  Aug 20           307848 non-null  float64\n",
      " 26  Jul 20           307848 non-null  float64\n",
      " 27  Jun 20           307848 non-null  float64\n",
      " 28  May 20           307848 non-null  float64\n",
      " 29  Apr 20           307848 non-null  float64\n",
      " 30  Mar 20           307848 non-null  float64\n",
      " 31  Feb 20           307848 non-null  float64\n",
      " 32  Jan 20           307848 non-null  float64\n",
      "dtypes: float64(30), object(3)\n",
      "memory usage: 77.5+ MB\n"
     ]
    }
   ],
   "source": [
    "Data_5p.info()"
   ]
  },
  {
   "cell_type": "code",
   "execution_count": 35,
   "metadata": {},
   "outputs": [],
   "source": [
    "df=Data_5p[(Data_5p['Facts'] == '$ Shr - CP CATEGORY') & (Data_5p.iloc[:,19]>0.02)]\n",
    "\n",
    "df[\"Key\"]=df[\"Markets\"]+df[\"Products\"]\n",
    "Data_5p[\"Key\"]=Data_5p[\"Markets\"]+Data_5p[\"Products\"]\n",
    "\n",
    "Data_5p=Data_5p[Data_5p['Key'].isin(list(df[\"Key\"]))]"
   ]
  },
  {
   "cell_type": "code",
   "execution_count": 36,
   "metadata": {
    "scrolled": true
   },
   "outputs": [
    {
     "data": {
      "text/plain": [
       "202"
      ]
     },
     "execution_count": 36,
     "metadata": {},
     "output_type": "execute_result"
    }
   ],
   "source": [
    "# total number of unique Products \n",
    "len(np.unique(list(df[\"Products\"])))"
   ]
  },
  {
   "cell_type": "code",
   "execution_count": 37,
   "metadata": {},
   "outputs": [
    {
     "data": {
      "text/html": [
       "<div>\n",
       "<style scoped>\n",
       "    .dataframe tbody tr th:only-of-type {\n",
       "        vertical-align: middle;\n",
       "    }\n",
       "\n",
       "    .dataframe tbody tr th {\n",
       "        vertical-align: top;\n",
       "    }\n",
       "\n",
       "    .dataframe thead th {\n",
       "        text-align: right;\n",
       "    }\n",
       "</style>\n",
       "<table border=\"1\" class=\"dataframe\">\n",
       "  <thead>\n",
       "    <tr style=\"text-align: right;\">\n",
       "      <th></th>\n",
       "      <th>Markets</th>\n",
       "      <th>Products</th>\n",
       "      <th>Facts</th>\n",
       "      <th>FY 2020</th>\n",
       "      <th>FY 2019</th>\n",
       "      <th>FY 2018</th>\n",
       "      <th>FY 2017</th>\n",
       "      <th>YTD 2021</th>\n",
       "      <th>YTD 2020</th>\n",
       "      <th>Latest 13 Weeks</th>\n",
       "      <th>...</th>\n",
       "      <th>Sep 20</th>\n",
       "      <th>Aug 20</th>\n",
       "      <th>Jul 20</th>\n",
       "      <th>Jun 20</th>\n",
       "      <th>May 20</th>\n",
       "      <th>Apr 20</th>\n",
       "      <th>Mar 20</th>\n",
       "      <th>Feb 20</th>\n",
       "      <th>Jan 20</th>\n",
       "      <th>Key</th>\n",
       "    </tr>\n",
       "  </thead>\n",
       "  <tbody>\n",
       "    <tr>\n",
       "      <th>0</th>\n",
       "      <td>El Super Total TA</td>\n",
       "      <td>FABRIC SOFTENERS</td>\n",
       "      <td>$</td>\n",
       "      <td>4926718.240</td>\n",
       "      <td>5180926.480</td>\n",
       "      <td>5666153.310</td>\n",
       "      <td>6694214.430</td>\n",
       "      <td>621689.680</td>\n",
       "      <td>759939.830</td>\n",
       "      <td>1089770.610</td>\n",
       "      <td>...</td>\n",
       "      <td>479695.580</td>\n",
       "      <td>346994.580</td>\n",
       "      <td>365310.610</td>\n",
       "      <td>387518.520</td>\n",
       "      <td>313260.760</td>\n",
       "      <td>349833.240</td>\n",
       "      <td>664109.660</td>\n",
       "      <td>368125.110</td>\n",
       "      <td>391814.720</td>\n",
       "      <td>El Super Total TAFABRIC SOFTENERS</td>\n",
       "    </tr>\n",
       "    <tr>\n",
       "      <th>1</th>\n",
       "      <td>El Super Total TA</td>\n",
       "      <td>FABRIC SOFTENERS</td>\n",
       "      <td>$ / $MM ACV</td>\n",
       "      <td>3817.895</td>\n",
       "      <td>4138.279</td>\n",
       "      <td>4881.064</td>\n",
       "      <td>6286.137</td>\n",
       "      <td>3106.926</td>\n",
       "      <td>3895.729</td>\n",
       "      <td>3351.501</td>\n",
       "      <td>...</td>\n",
       "      <td>3835.693</td>\n",
       "      <td>3468.246</td>\n",
       "      <td>3651.317</td>\n",
       "      <td>3098.636</td>\n",
       "      <td>3142.160</td>\n",
       "      <td>3556.553</td>\n",
       "      <td>5447.138</td>\n",
       "      <td>3774.287</td>\n",
       "      <td>4017.170</td>\n",
       "      <td>El Super Total TAFABRIC SOFTENERS</td>\n",
       "    </tr>\n",
       "    <tr>\n",
       "      <th>2</th>\n",
       "      <td>El Super Total TA</td>\n",
       "      <td>FABRIC SOFTENERS</td>\n",
       "      <td>$ / $MM ACV % Chg YA</td>\n",
       "      <td>-7.742</td>\n",
       "      <td>-15.218</td>\n",
       "      <td>-22.352</td>\n",
       "      <td>0.000</td>\n",
       "      <td>-20.248</td>\n",
       "      <td>-8.362</td>\n",
       "      <td>-12.450</td>\n",
       "      <td>...</td>\n",
       "      <td>-14.286</td>\n",
       "      <td>-5.150</td>\n",
       "      <td>-20.755</td>\n",
       "      <td>-23.334</td>\n",
       "      <td>-26.781</td>\n",
       "      <td>-9.541</td>\n",
       "      <td>23.023</td>\n",
       "      <td>-2.198</td>\n",
       "      <td>-13.543</td>\n",
       "      <td>El Super Total TAFABRIC SOFTENERS</td>\n",
       "    </tr>\n",
       "  </tbody>\n",
       "</table>\n",
       "<p>3 rows × 34 columns</p>\n",
       "</div>"
      ],
      "text/plain": [
       "             Markets          Products                 Facts      FY 2020  \\\n",
       "0  El Super Total TA  FABRIC SOFTENERS                     $  4926718.240   \n",
       "1  El Super Total TA  FABRIC SOFTENERS           $ / $MM ACV     3817.895   \n",
       "2  El Super Total TA  FABRIC SOFTENERS  $ / $MM ACV % Chg YA       -7.742   \n",
       "\n",
       "       FY 2019      FY 2018      FY 2017    YTD 2021    YTD 2020  \\\n",
       "0  5180926.480  5666153.310  6694214.430  621689.680  759939.830   \n",
       "1     4138.279     4881.064     6286.137    3106.926    3895.729   \n",
       "2      -15.218      -22.352        0.000     -20.248      -8.362   \n",
       "\n",
       "   Latest 13 Weeks  ...      Sep 20      Aug 20      Jul 20      Jun 20  \\\n",
       "0      1089770.610  ...  479695.580  346994.580  365310.610  387518.520   \n",
       "1         3351.501  ...    3835.693    3468.246    3651.317    3098.636   \n",
       "2          -12.450  ...     -14.286      -5.150     -20.755     -23.334   \n",
       "\n",
       "       May 20      Apr 20      Mar 20      Feb 20      Jan 20  \\\n",
       "0  313260.760  349833.240  664109.660  368125.110  391814.720   \n",
       "1    3142.160    3556.553    5447.138    3774.287    4017.170   \n",
       "2     -26.781      -9.541      23.023      -2.198     -13.543   \n",
       "\n",
       "                                 Key  \n",
       "0  El Super Total TAFABRIC SOFTENERS  \n",
       "1  El Super Total TAFABRIC SOFTENERS  \n",
       "2  El Super Total TAFABRIC SOFTENERS  \n",
       "\n",
       "[3 rows x 34 columns]"
      ]
     },
     "execution_count": 37,
     "metadata": {},
     "output_type": "execute_result"
    }
   ],
   "source": [
    "Data_5p=Data_5p[Data_5p['Products'].isin(list(df[\"Products\"]))]\n",
    "Data_5p.head(3)"
   ]
  },
  {
   "cell_type": "markdown",
   "metadata": {},
   "source": [
    "**ShareBasis Split**"
   ]
  },
  {
   "cell_type": "code",
   "execution_count": 40,
   "metadata": {},
   "outputs": [],
   "source": [
    "Data_5p['SubBrand']=\"\""
   ]
  },
  {
   "cell_type": "code",
   "execution_count": 41,
   "metadata": {
    "scrolled": true
   },
   "outputs": [
    {
     "data": {
      "text/html": [
       "<div>\n",
       "<style scoped>\n",
       "    .dataframe tbody tr th:only-of-type {\n",
       "        vertical-align: middle;\n",
       "    }\n",
       "\n",
       "    .dataframe tbody tr th {\n",
       "        vertical-align: top;\n",
       "    }\n",
       "\n",
       "    .dataframe thead th {\n",
       "        text-align: right;\n",
       "    }\n",
       "</style>\n",
       "<table border=\"1\" class=\"dataframe\">\n",
       "  <thead>\n",
       "    <tr style=\"text-align: right;\">\n",
       "      <th></th>\n",
       "      <th>Markets</th>\n",
       "      <th>Products</th>\n",
       "      <th>Facts</th>\n",
       "      <th>FY 2020</th>\n",
       "      <th>FY 2019</th>\n",
       "      <th>FY 2018</th>\n",
       "      <th>FY 2017</th>\n",
       "      <th>YTD 2021</th>\n",
       "      <th>YTD 2020</th>\n",
       "      <th>Latest 13 Weeks</th>\n",
       "      <th>...</th>\n",
       "      <th>Apr 20</th>\n",
       "      <th>Mar 20</th>\n",
       "      <th>Feb 20</th>\n",
       "      <th>Jan 20</th>\n",
       "      <th>Key</th>\n",
       "      <th>SubBrand</th>\n",
       "      <th>ShareBasis</th>\n",
       "      <th>Manufacturer</th>\n",
       "      <th>Franchise</th>\n",
       "      <th>Brand</th>\n",
       "    </tr>\n",
       "  </thead>\n",
       "  <tbody>\n",
       "    <tr>\n",
       "      <th>0</th>\n",
       "      <td>El Super Total TA</td>\n",
       "      <td>FABRIC SOFTENERS</td>\n",
       "      <td>$</td>\n",
       "      <td>4926718.240</td>\n",
       "      <td>5180926.480</td>\n",
       "      <td>5666153.310</td>\n",
       "      <td>6694214.430</td>\n",
       "      <td>621689.680</td>\n",
       "      <td>759939.830</td>\n",
       "      <td>1089770.610</td>\n",
       "      <td>...</td>\n",
       "      <td>349833.240</td>\n",
       "      <td>664109.660</td>\n",
       "      <td>368125.110</td>\n",
       "      <td>391814.720</td>\n",
       "      <td>El Super Total TAFABRIC SOFTENERS</td>\n",
       "      <td></td>\n",
       "      <td>FABRIC SOFTENERS</td>\n",
       "      <td>None</td>\n",
       "      <td>None</td>\n",
       "      <td>None</td>\n",
       "    </tr>\n",
       "    <tr>\n",
       "      <th>1</th>\n",
       "      <td>El Super Total TA</td>\n",
       "      <td>FABRIC SOFTENERS</td>\n",
       "      <td>$ / $MM ACV</td>\n",
       "      <td>3817.895</td>\n",
       "      <td>4138.279</td>\n",
       "      <td>4881.064</td>\n",
       "      <td>6286.137</td>\n",
       "      <td>3106.926</td>\n",
       "      <td>3895.729</td>\n",
       "      <td>3351.501</td>\n",
       "      <td>...</td>\n",
       "      <td>3556.553</td>\n",
       "      <td>5447.138</td>\n",
       "      <td>3774.287</td>\n",
       "      <td>4017.170</td>\n",
       "      <td>El Super Total TAFABRIC SOFTENERS</td>\n",
       "      <td></td>\n",
       "      <td>FABRIC SOFTENERS</td>\n",
       "      <td>None</td>\n",
       "      <td>None</td>\n",
       "      <td>None</td>\n",
       "    </tr>\n",
       "    <tr>\n",
       "      <th>2</th>\n",
       "      <td>El Super Total TA</td>\n",
       "      <td>FABRIC SOFTENERS</td>\n",
       "      <td>$ / $MM ACV % Chg YA</td>\n",
       "      <td>-7.742</td>\n",
       "      <td>-15.218</td>\n",
       "      <td>-22.352</td>\n",
       "      <td>0.000</td>\n",
       "      <td>-20.248</td>\n",
       "      <td>-8.362</td>\n",
       "      <td>-12.450</td>\n",
       "      <td>...</td>\n",
       "      <td>-9.541</td>\n",
       "      <td>23.023</td>\n",
       "      <td>-2.198</td>\n",
       "      <td>-13.543</td>\n",
       "      <td>El Super Total TAFABRIC SOFTENERS</td>\n",
       "      <td></td>\n",
       "      <td>FABRIC SOFTENERS</td>\n",
       "      <td>None</td>\n",
       "      <td>None</td>\n",
       "      <td>None</td>\n",
       "    </tr>\n",
       "  </tbody>\n",
       "</table>\n",
       "<p>3 rows × 39 columns</p>\n",
       "</div>"
      ],
      "text/plain": [
       "             Markets          Products                 Facts      FY 2020  \\\n",
       "0  El Super Total TA  FABRIC SOFTENERS                     $  4926718.240   \n",
       "1  El Super Total TA  FABRIC SOFTENERS           $ / $MM ACV     3817.895   \n",
       "2  El Super Total TA  FABRIC SOFTENERS  $ / $MM ACV % Chg YA       -7.742   \n",
       "\n",
       "       FY 2019      FY 2018      FY 2017    YTD 2021    YTD 2020  \\\n",
       "0  5180926.480  5666153.310  6694214.430  621689.680  759939.830   \n",
       "1     4138.279     4881.064     6286.137    3106.926    3895.729   \n",
       "2      -15.218      -22.352        0.000     -20.248      -8.362   \n",
       "\n",
       "   Latest 13 Weeks  ...      Apr 20      Mar 20      Feb 20      Jan 20  \\\n",
       "0      1089770.610  ...  349833.240  664109.660  368125.110  391814.720   \n",
       "1         3351.501  ...    3556.553    5447.138    3774.287    4017.170   \n",
       "2          -12.450  ...      -9.541      23.023      -2.198     -13.543   \n",
       "\n",
       "                                 Key  SubBrand        ShareBasis  \\\n",
       "0  El Super Total TAFABRIC SOFTENERS            FABRIC SOFTENERS   \n",
       "1  El Super Total TAFABRIC SOFTENERS            FABRIC SOFTENERS   \n",
       "2  El Super Total TAFABRIC SOFTENERS            FABRIC SOFTENERS   \n",
       "\n",
       "   Manufacturer  Franchise  Brand  \n",
       "0          None       None   None  \n",
       "1          None       None   None  \n",
       "2          None       None   None  \n",
       "\n",
       "[3 rows x 39 columns]"
      ]
     },
     "execution_count": 41,
     "metadata": {},
     "output_type": "execute_result"
    }
   ],
   "source": [
    "Data_5p[['ShareBasis','Manufacturer','Franchise','Brand','SubBrand']] = Data_5p['Products'].str.split('|',n=4,expand=True)\n",
    "Data_5p.head(3)"
   ]
  },
  {
   "cell_type": "code",
   "execution_count": 42,
   "metadata": {
    "scrolled": true
   },
   "outputs": [
    {
     "data": {
      "text/html": [
       "<div>\n",
       "<style scoped>\n",
       "    .dataframe tbody tr th:only-of-type {\n",
       "        vertical-align: middle;\n",
       "    }\n",
       "\n",
       "    .dataframe tbody tr th {\n",
       "        vertical-align: top;\n",
       "    }\n",
       "\n",
       "    .dataframe thead th {\n",
       "        text-align: right;\n",
       "    }\n",
       "</style>\n",
       "<table border=\"1\" class=\"dataframe\">\n",
       "  <thead>\n",
       "    <tr style=\"text-align: right;\">\n",
       "      <th></th>\n",
       "      <th>Markets</th>\n",
       "      <th>Products</th>\n",
       "      <th>Facts</th>\n",
       "      <th>FY 2020</th>\n",
       "      <th>FY 2019</th>\n",
       "      <th>FY 2018</th>\n",
       "      <th>FY 2017</th>\n",
       "      <th>YTD 2021</th>\n",
       "      <th>YTD 2020</th>\n",
       "      <th>Latest 13 Weeks</th>\n",
       "      <th>...</th>\n",
       "      <th>Apr 20</th>\n",
       "      <th>Mar 20</th>\n",
       "      <th>Feb 20</th>\n",
       "      <th>Jan 20</th>\n",
       "      <th>Key</th>\n",
       "      <th>SubBrand</th>\n",
       "      <th>ShareBasis</th>\n",
       "      <th>Manufacturer</th>\n",
       "      <th>Franchise</th>\n",
       "      <th>Brand</th>\n",
       "    </tr>\n",
       "  </thead>\n",
       "  <tbody>\n",
       "    <tr>\n",
       "      <th>0</th>\n",
       "      <td>El Super Total TA</td>\n",
       "      <td>FABRIC SOFTENERS</td>\n",
       "      <td>$</td>\n",
       "      <td>4926718.240</td>\n",
       "      <td>5180926.480</td>\n",
       "      <td>5666153.310</td>\n",
       "      <td>6694214.430</td>\n",
       "      <td>621689.680</td>\n",
       "      <td>759939.830</td>\n",
       "      <td>1089770.610</td>\n",
       "      <td>...</td>\n",
       "      <td>349833.240</td>\n",
       "      <td>664109.660</td>\n",
       "      <td>368125.110</td>\n",
       "      <td>391814.720</td>\n",
       "      <td>El Super Total TAFABRIC SOFTENERS</td>\n",
       "      <td></td>\n",
       "      <td>FABRIC SOFTENERS</td>\n",
       "      <td></td>\n",
       "      <td></td>\n",
       "      <td></td>\n",
       "    </tr>\n",
       "    <tr>\n",
       "      <th>1</th>\n",
       "      <td>El Super Total TA</td>\n",
       "      <td>FABRIC SOFTENERS</td>\n",
       "      <td>$ / $MM ACV</td>\n",
       "      <td>3817.895</td>\n",
       "      <td>4138.279</td>\n",
       "      <td>4881.064</td>\n",
       "      <td>6286.137</td>\n",
       "      <td>3106.926</td>\n",
       "      <td>3895.729</td>\n",
       "      <td>3351.501</td>\n",
       "      <td>...</td>\n",
       "      <td>3556.553</td>\n",
       "      <td>5447.138</td>\n",
       "      <td>3774.287</td>\n",
       "      <td>4017.170</td>\n",
       "      <td>El Super Total TAFABRIC SOFTENERS</td>\n",
       "      <td></td>\n",
       "      <td>FABRIC SOFTENERS</td>\n",
       "      <td></td>\n",
       "      <td></td>\n",
       "      <td></td>\n",
       "    </tr>\n",
       "    <tr>\n",
       "      <th>2</th>\n",
       "      <td>El Super Total TA</td>\n",
       "      <td>FABRIC SOFTENERS</td>\n",
       "      <td>$ / $MM ACV % Chg YA</td>\n",
       "      <td>-7.742</td>\n",
       "      <td>-15.218</td>\n",
       "      <td>-22.352</td>\n",
       "      <td>0.000</td>\n",
       "      <td>-20.248</td>\n",
       "      <td>-8.362</td>\n",
       "      <td>-12.450</td>\n",
       "      <td>...</td>\n",
       "      <td>-9.541</td>\n",
       "      <td>23.023</td>\n",
       "      <td>-2.198</td>\n",
       "      <td>-13.543</td>\n",
       "      <td>El Super Total TAFABRIC SOFTENERS</td>\n",
       "      <td></td>\n",
       "      <td>FABRIC SOFTENERS</td>\n",
       "      <td></td>\n",
       "      <td></td>\n",
       "      <td></td>\n",
       "    </tr>\n",
       "  </tbody>\n",
       "</table>\n",
       "<p>3 rows × 39 columns</p>\n",
       "</div>"
      ],
      "text/plain": [
       "             Markets          Products                 Facts      FY 2020  \\\n",
       "0  El Super Total TA  FABRIC SOFTENERS                     $  4926718.240   \n",
       "1  El Super Total TA  FABRIC SOFTENERS           $ / $MM ACV     3817.895   \n",
       "2  El Super Total TA  FABRIC SOFTENERS  $ / $MM ACV % Chg YA       -7.742   \n",
       "\n",
       "       FY 2019      FY 2018      FY 2017    YTD 2021    YTD 2020  \\\n",
       "0  5180926.480  5666153.310  6694214.430  621689.680  759939.830   \n",
       "1     4138.279     4881.064     6286.137    3106.926    3895.729   \n",
       "2      -15.218      -22.352        0.000     -20.248      -8.362   \n",
       "\n",
       "   Latest 13 Weeks  ...      Apr 20      Mar 20      Feb 20      Jan 20  \\\n",
       "0      1089770.610  ...  349833.240  664109.660  368125.110  391814.720   \n",
       "1         3351.501  ...    3556.553    5447.138    3774.287    4017.170   \n",
       "2          -12.450  ...      -9.541      23.023      -2.198     -13.543   \n",
       "\n",
       "                                 Key  SubBrand        ShareBasis  \\\n",
       "0  El Super Total TAFABRIC SOFTENERS            FABRIC SOFTENERS   \n",
       "1  El Super Total TAFABRIC SOFTENERS            FABRIC SOFTENERS   \n",
       "2  El Super Total TAFABRIC SOFTENERS            FABRIC SOFTENERS   \n",
       "\n",
       "   Manufacturer  Franchise  Brand  \n",
       "0                                  \n",
       "1                                  \n",
       "2                                  \n",
       "\n",
       "[3 rows x 39 columns]"
      ]
     },
     "execution_count": 42,
     "metadata": {},
     "output_type": "execute_result"
    }
   ],
   "source": [
    "Data_5p[[\"ShareBasis\",\"Manufacturer\",\"Franchise\",\"Brand\",\"SubBrand\"]]=Data_5p[[\"ShareBasis\",\"Manufacturer\",\"Franchise\",\"Brand\",\"SubBrand\"]].fillna(value=\"\")\n",
    "Data_5p.head(3)"
   ]
  },
  {
   "cell_type": "markdown",
   "metadata": {},
   "source": [
    "***movecol*** function to **rearranging** the columns of a dataframe"
   ]
  },
  {
   "cell_type": "code",
   "execution_count": 43,
   "metadata": {},
   "outputs": [],
   "source": [
    "def movecol(df, cols_to_move=[], ref_col='', place=''):\n",
    "    cols = df.columns.tolist()\n",
    "    if place == 'After':\n",
    "        seg1 = cols[:list(cols).index(ref_col) + 1]\n",
    "        seg2 = cols_to_move\n",
    "    if place == 'Before':\n",
    "        seg1 = cols[:list(cols).index(ref_col)]\n",
    "        seg2 = cols_to_move + [ref_col]\n",
    "    seg1 = [i for i in seg1 if i not in seg2]\n",
    "    seg3 = [i for i in cols if i not in seg1 + seg2]\n",
    "    \n",
    "    return(df[seg1 + seg2 + seg3])"
   ]
  },
  {
   "cell_type": "code",
   "execution_count": 44,
   "metadata": {
    "scrolled": true
   },
   "outputs": [
    {
     "data": {
      "text/html": [
       "<div>\n",
       "<style scoped>\n",
       "    .dataframe tbody tr th:only-of-type {\n",
       "        vertical-align: middle;\n",
       "    }\n",
       "\n",
       "    .dataframe tbody tr th {\n",
       "        vertical-align: top;\n",
       "    }\n",
       "\n",
       "    .dataframe thead th {\n",
       "        text-align: right;\n",
       "    }\n",
       "</style>\n",
       "<table border=\"1\" class=\"dataframe\">\n",
       "  <thead>\n",
       "    <tr style=\"text-align: right;\">\n",
       "      <th></th>\n",
       "      <th>Markets</th>\n",
       "      <th>ShareBasis</th>\n",
       "      <th>Manufacturer</th>\n",
       "      <th>Franchise</th>\n",
       "      <th>Brand</th>\n",
       "      <th>SubBrand</th>\n",
       "      <th>Products</th>\n",
       "      <th>Facts</th>\n",
       "      <th>FY 2020</th>\n",
       "      <th>FY 2019</th>\n",
       "      <th>...</th>\n",
       "      <th>Sep 20</th>\n",
       "      <th>Aug 20</th>\n",
       "      <th>Jul 20</th>\n",
       "      <th>Jun 20</th>\n",
       "      <th>May 20</th>\n",
       "      <th>Apr 20</th>\n",
       "      <th>Mar 20</th>\n",
       "      <th>Feb 20</th>\n",
       "      <th>Jan 20</th>\n",
       "      <th>Key</th>\n",
       "    </tr>\n",
       "  </thead>\n",
       "  <tbody>\n",
       "    <tr>\n",
       "      <th>0</th>\n",
       "      <td>El Super Total TA</td>\n",
       "      <td>FABRIC SOFTENERS</td>\n",
       "      <td></td>\n",
       "      <td></td>\n",
       "      <td></td>\n",
       "      <td></td>\n",
       "      <td>FABRIC SOFTENERS</td>\n",
       "      <td>$</td>\n",
       "      <td>4926718.240</td>\n",
       "      <td>5180926.480</td>\n",
       "      <td>...</td>\n",
       "      <td>479695.580</td>\n",
       "      <td>346994.580</td>\n",
       "      <td>365310.610</td>\n",
       "      <td>387518.520</td>\n",
       "      <td>313260.760</td>\n",
       "      <td>349833.240</td>\n",
       "      <td>664109.660</td>\n",
       "      <td>368125.110</td>\n",
       "      <td>391814.720</td>\n",
       "      <td>El Super Total TAFABRIC SOFTENERS</td>\n",
       "    </tr>\n",
       "    <tr>\n",
       "      <th>1</th>\n",
       "      <td>El Super Total TA</td>\n",
       "      <td>FABRIC SOFTENERS</td>\n",
       "      <td></td>\n",
       "      <td></td>\n",
       "      <td></td>\n",
       "      <td></td>\n",
       "      <td>FABRIC SOFTENERS</td>\n",
       "      <td>$ / $MM ACV</td>\n",
       "      <td>3817.895</td>\n",
       "      <td>4138.279</td>\n",
       "      <td>...</td>\n",
       "      <td>3835.693</td>\n",
       "      <td>3468.246</td>\n",
       "      <td>3651.317</td>\n",
       "      <td>3098.636</td>\n",
       "      <td>3142.160</td>\n",
       "      <td>3556.553</td>\n",
       "      <td>5447.138</td>\n",
       "      <td>3774.287</td>\n",
       "      <td>4017.170</td>\n",
       "      <td>El Super Total TAFABRIC SOFTENERS</td>\n",
       "    </tr>\n",
       "    <tr>\n",
       "      <th>2</th>\n",
       "      <td>El Super Total TA</td>\n",
       "      <td>FABRIC SOFTENERS</td>\n",
       "      <td></td>\n",
       "      <td></td>\n",
       "      <td></td>\n",
       "      <td></td>\n",
       "      <td>FABRIC SOFTENERS</td>\n",
       "      <td>$ / $MM ACV % Chg YA</td>\n",
       "      <td>-7.742</td>\n",
       "      <td>-15.218</td>\n",
       "      <td>...</td>\n",
       "      <td>-14.286</td>\n",
       "      <td>-5.150</td>\n",
       "      <td>-20.755</td>\n",
       "      <td>-23.334</td>\n",
       "      <td>-26.781</td>\n",
       "      <td>-9.541</td>\n",
       "      <td>23.023</td>\n",
       "      <td>-2.198</td>\n",
       "      <td>-13.543</td>\n",
       "      <td>El Super Total TAFABRIC SOFTENERS</td>\n",
       "    </tr>\n",
       "  </tbody>\n",
       "</table>\n",
       "<p>3 rows × 39 columns</p>\n",
       "</div>"
      ],
      "text/plain": [
       "             Markets        ShareBasis Manufacturer Franchise Brand SubBrand  \\\n",
       "0  El Super Total TA  FABRIC SOFTENERS                                         \n",
       "1  El Super Total TA  FABRIC SOFTENERS                                         \n",
       "2  El Super Total TA  FABRIC SOFTENERS                                         \n",
       "\n",
       "           Products                 Facts      FY 2020      FY 2019  ...  \\\n",
       "0  FABRIC SOFTENERS                     $  4926718.240  5180926.480  ...   \n",
       "1  FABRIC SOFTENERS           $ / $MM ACV     3817.895     4138.279  ...   \n",
       "2  FABRIC SOFTENERS  $ / $MM ACV % Chg YA       -7.742      -15.218  ...   \n",
       "\n",
       "       Sep 20      Aug 20      Jul 20      Jun 20      May 20      Apr 20  \\\n",
       "0  479695.580  346994.580  365310.610  387518.520  313260.760  349833.240   \n",
       "1    3835.693    3468.246    3651.317    3098.636    3142.160    3556.553   \n",
       "2     -14.286      -5.150     -20.755     -23.334     -26.781      -9.541   \n",
       "\n",
       "       Mar 20      Feb 20      Jan 20                                Key  \n",
       "0  664109.660  368125.110  391814.720  El Super Total TAFABRIC SOFTENERS  \n",
       "1    5447.138    3774.287    4017.170  El Super Total TAFABRIC SOFTENERS  \n",
       "2      23.023      -2.198     -13.543  El Super Total TAFABRIC SOFTENERS  \n",
       "\n",
       "[3 rows x 39 columns]"
      ]
     },
     "execution_count": 44,
     "metadata": {},
     "output_type": "execute_result"
    }
   ],
   "source": [
    "Data_5p = movecol(Data_5p, \n",
    "             cols_to_move=['ShareBasis','Manufacturer','Franchise','Brand','SubBrand'], \n",
    "             ref_col='Markets',\n",
    "             place='After')\n",
    "Data_5p.head(3)"
   ]
  },
  {
   "cell_type": "code",
   "execution_count": 45,
   "metadata": {},
   "outputs": [
    {
     "data": {
      "text/plain": [
       "set()"
      ]
     },
     "execution_count": 45,
     "metadata": {},
     "output_type": "execute_result"
    }
   ],
   "source": [
    "set(Data_5p[Data_5p[\"Franchise\"]==\"HELLO\"][\"Brand\"])"
   ]
  },
  {
   "cell_type": "code",
   "execution_count": 46,
   "metadata": {},
   "outputs": [
    {
     "data": {
      "text/plain": [
       "{'',\n",
       " ' ALEN',\n",
       " ' ALEN ',\n",
       " ' CHURCH & DWIGHT',\n",
       " ' CHURCH & DWIGHT ',\n",
       " ' COLGATE-PALMOLIVE',\n",
       " ' COLGATE-PALMOLIVE ',\n",
       " ' HENKEL',\n",
       " ' HENKEL ',\n",
       " ' P&G',\n",
       " ' P&G ',\n",
       " ' PRVT LBL',\n",
       " ' PRVT LBL ',\n",
       " ' SC JOHNSON',\n",
       " ' SC JOHNSON ',\n",
       " ' SNUGGLE',\n",
       " ' UNILEVER',\n",
       " ' UNILEVER '}"
      ]
     },
     "execution_count": 46,
     "metadata": {},
     "output_type": "execute_result"
    }
   ],
   "source": [
    "set(Data_5p[\"Manufacturer\"])"
   ]
  },
  {
   "cell_type": "markdown",
   "metadata": {},
   "source": [
    "**Strip Columns**\n",
    "\n",
    "Strip starting 8 columns "
   ]
  },
  {
   "cell_type": "code",
   "execution_count": 47,
   "metadata": {},
   "outputs": [],
   "source": [
    "cols=list(Data_5p.columns[0:8])"
   ]
  },
  {
   "cell_type": "code",
   "execution_count": 48,
   "metadata": {},
   "outputs": [],
   "source": [
    "\n",
    "Data_5p[cols]=Data_5p[cols].apply(lambda x : x.str.strip())"
   ]
  },
  {
   "cell_type": "markdown",
   "metadata": {},
   "source": [
    "**Category Column**"
   ]
  },
  {
   "cell_type": "code",
   "execution_count": 49,
   "metadata": {},
   "outputs": [],
   "source": [
    "df1= pd.DataFrame(Data_5p[\"ShareBasis\"])"
   ]
  },
  {
   "cell_type": "code",
   "execution_count": 50,
   "metadata": {},
   "outputs": [
    {
     "data": {
      "text/html": [
       "<div>\n",
       "<style scoped>\n",
       "    .dataframe tbody tr th:only-of-type {\n",
       "        vertical-align: middle;\n",
       "    }\n",
       "\n",
       "    .dataframe tbody tr th {\n",
       "        vertical-align: top;\n",
       "    }\n",
       "\n",
       "    .dataframe thead th {\n",
       "        text-align: right;\n",
       "    }\n",
       "</style>\n",
       "<table border=\"1\" class=\"dataframe\">\n",
       "  <thead>\n",
       "    <tr style=\"text-align: right;\">\n",
       "      <th></th>\n",
       "      <th>ShareBasis</th>\n",
       "      <th>Category</th>\n",
       "    </tr>\n",
       "  </thead>\n",
       "  <tbody>\n",
       "    <tr>\n",
       "      <th>0</th>\n",
       "      <td>FABRIC SOFTENERS</td>\n",
       "      <td>FS</td>\n",
       "    </tr>\n",
       "    <tr>\n",
       "      <th>1</th>\n",
       "      <td>FABRIC SOFTENERS</td>\n",
       "      <td>FS</td>\n",
       "    </tr>\n",
       "    <tr>\n",
       "      <th>2</th>\n",
       "      <td>FABRIC SOFTENERS</td>\n",
       "      <td>FS</td>\n",
       "    </tr>\n",
       "  </tbody>\n",
       "</table>\n",
       "</div>"
      ],
      "text/plain": [
       "         ShareBasis Category\n",
       "0  FABRIC SOFTENERS       FS\n",
       "1  FABRIC SOFTENERS       FS\n",
       "2  FABRIC SOFTENERS       FS"
      ]
     },
     "execution_count": 50,
     "metadata": {},
     "output_type": "execute_result"
    }
   ],
   "source": [
    "def fun_category(x):\n",
    "    if x == 'TOOTHPASTE' or x == 'WHITENING SYS':\n",
    "        return \"TP\"\n",
    "    elif x=='POUR APC+WW' or x==\"WOOD\" or x== 'ABRASIVE' or x== \"APC+WW\" or x=='FLOOR WAX' or x=='OUTDOOR' or x=='DRY WIPES' or x=='SPRAY':\n",
    "        return \"HHC\"\n",
    "    elif x=='MANUAL':\n",
    "        return 'MTB'\n",
    "    elif x=='POWER' or x=='PORTABLE TB' or x == 'ELECTRIC' or x == 'BATTERY+HYBRID' or x == 'BATTERY':\n",
    "        return \"PTB\"\n",
    "    elif x=='BODYWASH':\n",
    "        return \"BW\"\n",
    "    elif x=='MOUTHWASH':\n",
    "        return 'MW'\n",
    "    elif x=='BAR':\n",
    "        return \"BAR\"\n",
    "    elif x=='LIQUID':\n",
    "        return 'LHS'\n",
    "    elif x=='FABRIC SOFTENERS' or x == 'BEAD FS' or x== 'LIQUID FS' or x == \"SHEETS\" or x==\"SCENT BOOSTERS\" :\n",
    "        return \"FS\"\n",
    "    elif x=='LDL+FOAM' or x == 'MFR Sun Products' or x == 'LDL/DISHAIDS/WPS/FM/SPRAYS':\n",
    "        return 'LDL'\n",
    "    else:\n",
    "        return 'N/A'\n",
    "    # Add elif statements....\n",
    "    \n",
    "\n",
    "df1['Category']= df1['ShareBasis'].apply(fun_category)\n",
    "df1.head(3)"
   ]
  },
  {
   "cell_type": "code",
   "execution_count": 51,
   "metadata": {},
   "outputs": [],
   "source": [
    "Data_5p['Category']=df1['Category']"
   ]
  },
  {
   "cell_type": "code",
   "execution_count": 52,
   "metadata": {
    "scrolled": false
   },
   "outputs": [
    {
     "data": {
      "text/html": [
       "<div>\n",
       "<style scoped>\n",
       "    .dataframe tbody tr th:only-of-type {\n",
       "        vertical-align: middle;\n",
       "    }\n",
       "\n",
       "    .dataframe tbody tr th {\n",
       "        vertical-align: top;\n",
       "    }\n",
       "\n",
       "    .dataframe thead th {\n",
       "        text-align: right;\n",
       "    }\n",
       "</style>\n",
       "<table border=\"1\" class=\"dataframe\">\n",
       "  <thead>\n",
       "    <tr style=\"text-align: right;\">\n",
       "      <th></th>\n",
       "      <th>Markets</th>\n",
       "      <th>ShareBasis</th>\n",
       "      <th>Category</th>\n",
       "      <th>Manufacturer</th>\n",
       "      <th>Franchise</th>\n",
       "      <th>Brand</th>\n",
       "      <th>SubBrand</th>\n",
       "      <th>Products</th>\n",
       "      <th>Facts</th>\n",
       "      <th>FY 2020</th>\n",
       "      <th>...</th>\n",
       "      <th>Sep 20</th>\n",
       "      <th>Aug 20</th>\n",
       "      <th>Jul 20</th>\n",
       "      <th>Jun 20</th>\n",
       "      <th>May 20</th>\n",
       "      <th>Apr 20</th>\n",
       "      <th>Mar 20</th>\n",
       "      <th>Feb 20</th>\n",
       "      <th>Jan 20</th>\n",
       "      <th>Key</th>\n",
       "    </tr>\n",
       "  </thead>\n",
       "  <tbody>\n",
       "    <tr>\n",
       "      <th>0</th>\n",
       "      <td>El Super Total TA</td>\n",
       "      <td>FABRIC SOFTENERS</td>\n",
       "      <td>FS</td>\n",
       "      <td></td>\n",
       "      <td></td>\n",
       "      <td></td>\n",
       "      <td></td>\n",
       "      <td>FABRIC SOFTENERS</td>\n",
       "      <td>$</td>\n",
       "      <td>4926718.240</td>\n",
       "      <td>...</td>\n",
       "      <td>479695.580</td>\n",
       "      <td>346994.580</td>\n",
       "      <td>365310.610</td>\n",
       "      <td>387518.520</td>\n",
       "      <td>313260.760</td>\n",
       "      <td>349833.240</td>\n",
       "      <td>664109.660</td>\n",
       "      <td>368125.110</td>\n",
       "      <td>391814.720</td>\n",
       "      <td>El Super Total TAFABRIC SOFTENERS</td>\n",
       "    </tr>\n",
       "    <tr>\n",
       "      <th>1</th>\n",
       "      <td>El Super Total TA</td>\n",
       "      <td>FABRIC SOFTENERS</td>\n",
       "      <td>FS</td>\n",
       "      <td></td>\n",
       "      <td></td>\n",
       "      <td></td>\n",
       "      <td></td>\n",
       "      <td>FABRIC SOFTENERS</td>\n",
       "      <td>$ / $MM ACV</td>\n",
       "      <td>3817.895</td>\n",
       "      <td>...</td>\n",
       "      <td>3835.693</td>\n",
       "      <td>3468.246</td>\n",
       "      <td>3651.317</td>\n",
       "      <td>3098.636</td>\n",
       "      <td>3142.160</td>\n",
       "      <td>3556.553</td>\n",
       "      <td>5447.138</td>\n",
       "      <td>3774.287</td>\n",
       "      <td>4017.170</td>\n",
       "      <td>El Super Total TAFABRIC SOFTENERS</td>\n",
       "    </tr>\n",
       "    <tr>\n",
       "      <th>2</th>\n",
       "      <td>El Super Total TA</td>\n",
       "      <td>FABRIC SOFTENERS</td>\n",
       "      <td>FS</td>\n",
       "      <td></td>\n",
       "      <td></td>\n",
       "      <td></td>\n",
       "      <td></td>\n",
       "      <td>FABRIC SOFTENERS</td>\n",
       "      <td>$ / $MM ACV % Chg YA</td>\n",
       "      <td>-7.742</td>\n",
       "      <td>...</td>\n",
       "      <td>-14.286</td>\n",
       "      <td>-5.150</td>\n",
       "      <td>-20.755</td>\n",
       "      <td>-23.334</td>\n",
       "      <td>-26.781</td>\n",
       "      <td>-9.541</td>\n",
       "      <td>23.023</td>\n",
       "      <td>-2.198</td>\n",
       "      <td>-13.543</td>\n",
       "      <td>El Super Total TAFABRIC SOFTENERS</td>\n",
       "    </tr>\n",
       "  </tbody>\n",
       "</table>\n",
       "<p>3 rows × 40 columns</p>\n",
       "</div>"
      ],
      "text/plain": [
       "             Markets        ShareBasis Category Manufacturer Franchise Brand  \\\n",
       "0  El Super Total TA  FABRIC SOFTENERS       FS                                \n",
       "1  El Super Total TA  FABRIC SOFTENERS       FS                                \n",
       "2  El Super Total TA  FABRIC SOFTENERS       FS                                \n",
       "\n",
       "  SubBrand          Products                 Facts      FY 2020  ...  \\\n",
       "0           FABRIC SOFTENERS                     $  4926718.240  ...   \n",
       "1           FABRIC SOFTENERS           $ / $MM ACV     3817.895  ...   \n",
       "2           FABRIC SOFTENERS  $ / $MM ACV % Chg YA       -7.742  ...   \n",
       "\n",
       "       Sep 20      Aug 20      Jul 20      Jun 20      May 20      Apr 20  \\\n",
       "0  479695.580  346994.580  365310.610  387518.520  313260.760  349833.240   \n",
       "1    3835.693    3468.246    3651.317    3098.636    3142.160    3556.553   \n",
       "2     -14.286      -5.150     -20.755     -23.334     -26.781      -9.541   \n",
       "\n",
       "       Mar 20      Feb 20      Jan 20                                Key  \n",
       "0  664109.660  368125.110  391814.720  El Super Total TAFABRIC SOFTENERS  \n",
       "1    5447.138    3774.287    4017.170  El Super Total TAFABRIC SOFTENERS  \n",
       "2      23.023      -2.198     -13.543  El Super Total TAFABRIC SOFTENERS  \n",
       "\n",
       "[3 rows x 40 columns]"
      ]
     },
     "execution_count": 52,
     "metadata": {},
     "output_type": "execute_result"
    }
   ],
   "source": [
    "#Moving column \"Category\" after column \"ShareBasis\"\n",
    "\n",
    "Data_5p = movecol(Data_5p, \n",
    "             cols_to_move=['Category'], \n",
    "             ref_col='ShareBasis',\n",
    "             place='After')\n",
    "Data_5p.head(3)"
   ]
  },
  {
   "cell_type": "code",
   "execution_count": 53,
   "metadata": {},
   "outputs": [],
   "source": [
    "Time_Mapping={\n",
    "    \"Nov 19\":\"4 W/E 11/23/19\",\n",
    "    \"Dec 19\":\"5 W/E 12/28/19\",\n",
    "    \"Jan 20\":\"4 W/E 02/01/20\",\n",
    "    \"Feb 20\":\"4 W/E 02/29/20\",\n",
    "    \"Mar 20\":\"5 W/E 04/04/20\",\n",
    "    \"Apr 20\":\"4 W/E 05/02/20\",\n",
    "    \"May 20\":\"4 W/E 05/30/20\",\n",
    "    \"Jun 20\":\"5 W/E 07/04/20\",\n",
    "    \"Jul 20\":\"4 W/E 08/01/20\",\n",
    "    \"Aug 20\":\"4 W/E 08/29/20\",\n",
    "    \"Sep 20\":\"5 W/E 10/03/20\",\n",
    "    \"Oct 20\":\"4 W/E 10/31/20\",\n",
    "    \"Nov 20\":\"4 W/E 11/28/20\",\n",
    "    \"Dec 20\":\"5 W/E 01/02/21\",\n",
    "    \"Jan 21\":\"4 W/E 01/30/21\",\n",
    "    \"Feb 21\":\"4 W/E 02/27/21\",\n",
    "    \"Mar 21\":\"5 W/E 04/03/21\",\n",
    "    \"Apr 21\":\"4 W/E 05/01/21\",\n",
    "    \"May 21\":\"4 W/E 05/29/21\",\n",
    "    \"Jun 21\":\"5 W/E 07/03/21\",\n",
    "    \"Jul 21\":\"4 W/E 07/31/21\",\n",
    "    \"Aug 21\":\"4 W/E 08/28/21\",\n",
    "    \"Sep 21\":\"5 W/E 10/02/21\",\n",
    "    \"Oct 21\":\"4 W/E 10/30/21\",\n",
    "    \"Nov 21\":\"4 W/E 11/27/21\",\n",
    "    \"Dec 21\":\"5 W/E 01/01/22\",\n",
    "    \"Jan 22\":\"4 W/E 01/29/22\",\n",
    "    \"Feb 22\":\"4 W/E 02/26/22\",\n",
    "    \"Mar 22\":\"5 W/E 04/02/22\",\n",
    "    \"Apr 22\":\"4 W/E 04/30/22\",\n",
    "    \"May 22\":\"5 W/E 05/28/22\",\n",
    "    \"Jun 22\":\"4 W/E 06/25/22\",\n",
    "    \"Jul 22\":\"4 W/E 07/23/22\",\n",
    "    \"Aug 22\":\"5 W/E 08/20/22\",\n",
    "    \"Sep 22\":\"4 W/E 09/17/22\",\n",
    "    \"Oct 22\":\"4 W/E 10/15/22\",\n",
    "    \"Nov 22\":\"5 W/E 11/12/22\",\n",
    "    \"Dec 22\":\"4 W/E 12/10/22\",\n",
    "    \"Jan 23\":\"4 W/E 01/07/23\",\n",
    "    \"Feb 23\":\"5 W/E 02/04/23\",\n",
    "    \"Mar 23\":\"4 W/E 03/04/23\",\n",
    "    \"Apr 23\":\"4 W/E 04/01/23\",\n",
    "    \"May 23\":\"5 W/E 04/29/23\",\n",
    "    \"Jun 23\":\"4 W/E 05/27/23\",\n",
    "    \"Jul 23\":\"4 W/E 06/24/23\",\n",
    "    \"Aug 23\":\"5 W/E 07/22/23\",\n",
    "    \"Sep 23\":\"4 W/E 08/19/23\",\n",
    "    \"Oct 23\":\"5 W/E 09/16/23\",\n",
    "    \"Nov 23\":\"4 W/E 10/14/23\",\n",
    "    \"Dec 23\":\"4 W/E 11/11/23\",\n",
    "    \"Jan 24\":\"5 W/E 12/09/23\",\n",
    "    \"Feb 24\":\"4 W/E 01/06/24\",\n",
    "    \"Mar 24\":\"4 W/E 02/03/24\",\n",
    "    \"Apr 24\":\"5 W/E 03/02/24\",\n",
    "    \"May 24\":\"4 W/E 03/30/24\",\n",
    "    \"Jun 24\":\"4 W/E 04/27/24\",\n",
    "    \"Jul 24\":\"5 W/E 05/25/24\",\n",
    "    \"Aug 24\":\"4 W/E 06/22/24\",\n",
    "    \"Sep 24\":\"4 W/E 07/20/24\",\n",
    "    \"Oct 24\":\"5 W/E 08/17/24\",\n",
    "    \"Nov 24\":\"4 W/E 09/14/24\",\n",
    "    \"Dec 24\":\"4 W/E 10/12/24\",\n",
    "    \"Jan 25\":\"5 W/E 11/09/24\",\n",
    "    \"Feb 25\":\"4 W/E 12/07/24\",\n",
    "    \"Mar 25\":\"5 W/E 01/04/25\",\n",
    "    \"Apr 25\":\"4 W/E 02/01/25\",\n",
    "    \"May 25\":\"4 W/E 03/01/25\",\n",
    "    \"Jun 25\":\"5 W/E 03/29/25\",\n",
    "    \"Jul 25\":\"4 W/E 04/26/25\",\n",
    "    \"Aug 25\":\"4 W/E 05/24/25\",\n",
    "    \"Sep 25\":\"5 W/E 06/21/25\",\n",
    "    \"Oct 25\":\"4 W/E 07/19/25\",\n",
    "    \"Nov 25\":\"4 W/E 08/16/25\",\n",
    "    \"Dec 25\":\"5 W/E 09/13/25\",\n",
    "    \"Jan 26\":\"4 W/E 10/11/25\",\n",
    "    \"Feb 26\":\"4 W/E 11/08/25\",\n",
    "    \"Mar 26\":\"5 W/E 12/06/25\",\n",
    "    \"Apr 26\":\"4 W/E 01/03/26\",\n",
    "    \"May 26\":\"4 W/E 01/31/26\",\n",
    "    \"Jun 26\":\"5 W/E 02/28/26\",\n",
    "    \"Jul 26\":\"4 W/E 03/28/26\",\n",
    "    \"Aug 26\":\"5 W/E 04/25/26\",\n",
    "    \"Sep 26\":\"4 W/E 05/23/26\",\n",
    "    \"Oct 26\":\"4 W/E 06/20/26\",\n",
    "    \"Nov 26\":\"5 W/E 07/18/26\",\n",
    "    \"Dec 26\":\"4 W/E 08/15/26\"\n",
    "}"
   ]
  },
  {
   "cell_type": "code",
   "execution_count": 54,
   "metadata": {},
   "outputs": [],
   "source": [
    "Data_5p.rename(columns=Time_Mapping,inplace=True)"
   ]
  },
  {
   "cell_type": "code",
   "execution_count": 55,
   "metadata": {},
   "outputs": [],
   "source": [
    "Market_Mapping={\n",
    "    \n",
    "     'ALBSCO Total Company TA':'Alb/Sfy',\n",
    "     'Agency Grocery':'Agency Grocery',\n",
    "     'Ahold USA Corp Total TA':\"Ahold\",\n",
    "     'BJs Total TA':\"BJs\",\n",
    "     'CLUB':\"CLUB\",\n",
    "     'CVS Total Corp WO HI TA':\"CVS\",\n",
    "     'Dol Gen Total TA':\"Dollar General\",\n",
    "     'El Super Total TA':'El Super',\n",
    "     'FDM':\"FDM\",\n",
    "     'Family Dollar Total TA':\"Family Dollar\",\n",
    "     'Fiesta Total TA':\"Fiesta\",\n",
    "     'Giant Eagle Total TA':\"Giant Eagle\",\n",
    "     'Kmart Total TA':\"Kmart\",\n",
    "     'Meijer Total TA':\"Meijer\",\n",
    "     'Publix Total TA':\"Publix\",\n",
    "     'Rite Aid - Corp Total TA':\"Rite Aid\",\n",
    "     \"Sam's Total TA\":\"Sams\",\n",
    "     'ShopRite Total TA':\"Shoprite\",\n",
    "     'Strategic Grocery':\"Strategic Grocery\",\n",
    "     'TOTAL MASS':\"TOTAL MASS\",\n",
    "     'Target Total BM/FF TA':\"Target\",\n",
    "     'Total US Drug':\"US Drug\",\n",
    "     'Total US Food':\"US Food\",\n",
    "     'Total US xAOC':\"US AOC\",\n",
    "     'VDC':\"VDC\",\n",
    "     'Walgreens Total TA':\"Walgreens\",\n",
    "     'Walmart Total US TA':\"Walmart\",\n",
    "     'Wegmans Total TA':\"Wegmans\"\n",
    "    }\n"
   ]
  },
  {
   "cell_type": "code",
   "execution_count": 56,
   "metadata": {},
   "outputs": [],
   "source": [
    "Data_5p[\"Markets\"].replace(Market_Mapping,inplace=True)"
   ]
  },
  {
   "cell_type": "markdown",
   "metadata": {},
   "source": [
    "**Distribution Selections**"
   ]
  },
  {
   "cell_type": "code",
   "execution_count": 57,
   "metadata": {},
   "outputs": [
    {
     "data": {
      "text/plain": [
       "{'$',\n",
       " '$ % Chg YA',\n",
       " '$ / $MM ACV',\n",
       " '$ / $MM ACV % Chg YA',\n",
       " '$ / $MM ACV Chg YA',\n",
       " '$ Chg YA',\n",
       " '$ Shr - CP CATEGORY',\n",
       " '$ Shr Chg YA - CP CATEGORY',\n",
       " '$ YA',\n",
       " '% $ Any Promo',\n",
       " '% $ Any Promo Chg YA',\n",
       " '% EQ Any Promo',\n",
       " '% EQ Any Promo Chg YA',\n",
       " '%ACV',\n",
       " '%ACV Chg YA',\n",
       " 'Any Disp %ACV',\n",
       " 'Any Disp %ACV Chg YA',\n",
       " 'Any Disp %ACV YA',\n",
       " 'Any Feat %ACV',\n",
       " 'Any Feat %ACV Chg YA',\n",
       " 'Any Feat %ACV YA',\n",
       " 'Any Promo $',\n",
       " 'Any Promo $ % Chg YA',\n",
       " 'Any Promo $ Chg YA',\n",
       " 'Any Promo $ Shr - CP CATEGORY',\n",
       " 'Any Promo $ Shr Chg YA - CP CATEGORY',\n",
       " 'Any Promo %ACV',\n",
       " 'Any Promo %ACV Chg YA',\n",
       " 'Any Promo EQ',\n",
       " 'Any Promo EQ % Chg YA',\n",
       " 'Any Promo EQ Chg YA',\n",
       " 'Any Promo EQ Price',\n",
       " 'Any Promo EQ Price Chg YA',\n",
       " 'Avg # of Items',\n",
       " 'Avg # of Items Chg YA',\n",
       " 'Avg EQ Price',\n",
       " 'Avg EQ Price % Chg YA',\n",
       " 'Avg EQ Price Chg YA',\n",
       " 'Avg EQ Price YA',\n",
       " 'Avg Unit Price',\n",
       " 'Avg Unit Price % Chg YA',\n",
       " 'Avg Unit Price Chg YA',\n",
       " 'Base $',\n",
       " 'Base $ % Chg YA',\n",
       " 'Base $ Chg YA',\n",
       " 'Base $ Shr - CP CATEGORY',\n",
       " 'Base $ Shr Chg YA - CP CATEGORY',\n",
       " 'Base $ YA',\n",
       " 'Base EQ',\n",
       " 'Base EQ % Chg YA',\n",
       " 'Base EQ Chg YA',\n",
       " 'Base EQ Price',\n",
       " 'Base EQ Price Chg YA',\n",
       " 'Base EQ Shr - CP CATEGORY',\n",
       " 'Base EQ Shr Chg YA - CP CATEGORY',\n",
       " 'Disp w/o Feat $',\n",
       " 'Disp w/o Feat $ % Chg YA',\n",
       " 'Disp w/o Feat $ Chg YA',\n",
       " 'Disp w/o Feat %ACV',\n",
       " 'Disp w/o Feat %ACV Chg YA',\n",
       " 'EQ',\n",
       " 'EQ % Chg YA',\n",
       " 'EQ Chg YA',\n",
       " 'EQ Shr - CP CATEGORY',\n",
       " 'EQ Shr Chg YA - CP CATEGORY',\n",
       " 'Feat & Disp $',\n",
       " 'Feat & Disp $ % Chg YA',\n",
       " 'Feat & Disp $ Chg YA',\n",
       " 'Feat & Disp %ACV',\n",
       " 'Feat & Disp %ACV Chg YA',\n",
       " 'Feat & Disp %ACV YA',\n",
       " 'Feat or Disp %ACV',\n",
       " 'Feat or Disp %ACV Chg YA',\n",
       " 'Feat w/o Disp $',\n",
       " 'Feat w/o Disp $ % Chg YA',\n",
       " 'Feat w/o Disp $ Chg YA',\n",
       " 'Feat w/o Disp %ACV',\n",
       " 'Feat w/o Disp %ACV Chg YA',\n",
       " 'Incr $',\n",
       " 'Incr $ % Chg YA',\n",
       " 'Incr $ Chg YA',\n",
       " 'Incr $ Shr - CP CATEGORY',\n",
       " 'Incr $ Shr Chg YA - CP CATEGORY',\n",
       " 'Incr $ YA',\n",
       " 'Incr EQ',\n",
       " 'Incr EQ % Chg YA',\n",
       " 'Incr EQ Chg YA',\n",
       " 'Incr EQ Shr - CP CATEGORY',\n",
       " 'Incr EQ Shr Chg YA - CP CATEGORY',\n",
       " 'No Promo Incr $',\n",
       " 'No Promo Incr $ % Chg YA',\n",
       " 'No Promo Incr $ Chg YA',\n",
       " 'Price Decr Only $',\n",
       " 'Price Decr Only $ % Chg YA',\n",
       " 'Price Decr Only $ Chg YA',\n",
       " 'Price Decr Only %ACV',\n",
       " 'Price Decr Only %ACV Chg YA',\n",
       " 'TDP',\n",
       " 'TDP % Chg YA',\n",
       " 'TDP Chg YA',\n",
       " 'Units',\n",
       " 'Units % Chg YA',\n",
       " 'Units Chg YA'}"
      ]
     },
     "execution_count": 57,
     "metadata": {},
     "output_type": "execute_result"
    }
   ],
   "source": [
    "set(Data_5p[\"Facts\"])"
   ]
  },
  {
   "cell_type": "code",
   "execution_count": 58,
   "metadata": {},
   "outputs": [
    {
     "name": "stdout",
     "output_type": "stream",
     "text": [
      "['4 W/E 02/27/21', 'Latest 13 Weeks', 'Latest 26 Weeks', 'YTD 2021', 'FY 2020']\n"
     ]
    }
   ],
   "source": [
    "Distri_Facts=[\"$ Shr - CP CATEGORY\",\"$ Shr Chg YA - CP CATEGORY\",\"Base $ Shr - CP CATEGORY\",\"Base $ Shr Chg YA - CP CATEGORY\",\n",
    "               \"%ACV\",\"%ACV Chg YA\",\"$ / $MM ACV\",\"$ / $MM ACV Chg YA\",\"TDP\",\"TDP Chg YA\",\"$\",\"$ % Chg YA\"]\n",
    "\n",
    "Distri_Time_Period=list(Data_5p.columns[25:26])+list(Data_5p.columns[15:17])+list(Data_5p.columns[13:14])+list(Data_5p.columns[9:10])\n",
    "print(Distri_Time_Period)"
   ]
  },
  {
   "cell_type": "code",
   "execution_count": 59,
   "metadata": {},
   "outputs": [],
   "source": [
    "Distri_Fact_Mapping={\n",
    "    \"$ Shr - CP CATEGORY\":\"Doll_Shr\",\n",
    "    \"$ Shr Chg YA - CP CATEGORY\":\"Doll_Shr_Chg\",\n",
    "    \"Base $ Shr - CP CATEGORY\":\"Base_Doll_Shr\",\n",
    "    \"Base $ Shr Chg YA - CP CATEGORY\":\"Base_Doll_Shr_Chg\",\n",
    "    \"%ACV\":\"Store_Selling\",\n",
    "    \"%ACV Chg YA\":\"Store_Selling_Chg\",\n",
    "    \"$ / $MM ACV\":\"Doll_Velocity\",\n",
    "    \"$ / $MM ACV Chg YA\":\"Doll_Velocity_Chg\",\n",
    "    \"TDP\":\"Cum_Distri_Pts\",\n",
    "    \"TDP Chg YA\":\"Cum_Distri_Pts_Chg\",\n",
    "    \"$\":\"Dollars\",\n",
    "    \"$ % Chg YA\":\"Dollars_Chg\"\n",
    "}"
   ]
  },
  {
   "cell_type": "code",
   "execution_count": null,
   "metadata": {},
   "outputs": [],
   "source": []
  },
  {
   "cell_type": "code",
   "execution_count": null,
   "metadata": {},
   "outputs": [],
   "source": []
  },
  {
   "cell_type": "code",
   "execution_count": null,
   "metadata": {},
   "outputs": [],
   "source": []
  },
  {
   "cell_type": "markdown",
   "metadata": {},
   "source": [
    "## Distribution"
   ]
  },
  {
   "cell_type": "markdown",
   "metadata": {},
   "source": [
    "## Toothpaste"
   ]
  },
  {
   "cell_type": "code",
   "execution_count": null,
   "metadata": {},
   "outputs": [],
   "source": [
    "# path to store Output files\n",
    "path_TP=\"//falmumapp34/Nielsen Connect Transition & Maintenance (20-SCP-3650)/05. Output Data/5P Output/TP/\""
   ]
  },
  {
   "cell_type": "code",
   "execution_count": null,
   "metadata": {},
   "outputs": [],
   "source": [
    "TP_Distri=Data_5p[Data_5p[\"ShareBasis\"]==\"TOOTHPASTE\"]"
   ]
  },
  {
   "cell_type": "markdown",
   "metadata": {},
   "source": [
    "**Filter Data**"
   ]
  },
  {
   "cell_type": "code",
   "execution_count": null,
   "metadata": {},
   "outputs": [],
   "source": [
    "Markets=[\"Ahold\",\"Alb/Sfy\",\"BJs\",\"CVS\",\"Dollar General\",\"Family Dollar\",\"Meijer\",\"Publix\",\n",
    "        \"Rite Aid\",\"Sams\",\"Shoprite\",\"Target\",\"US AOC\",\"US Drug\",\"US Food\",\"Walgreens\",\"Walmart\"]"
   ]
  },
  {
   "cell_type": "code",
   "execution_count": null,
   "metadata": {},
   "outputs": [],
   "source": [
    "Manufacturer=[\"COLGATE-PALMOLIVE\",\"GSK\",\"P&G\",\"SANOFI\",\"DR BRONNERS\",\"UNILEVER\"]"
   ]
  },
  {
   "cell_type": "code",
   "execution_count": null,
   "metadata": {},
   "outputs": [],
   "source": [
    "TP_Distri = TP_Distri[TP_Distri[\"Facts\"].isin(Distri_Facts)]\n",
    "TP_Distri = TP_Distri[TP_Distri[\"Markets\"].isin(Markets)]\n",
    "TP_Distri = TP_Distri[TP_Distri[\"Manufacturer\"].isin(Manufacturer)]"
   ]
  },
  {
   "cell_type": "code",
   "execution_count": null,
   "metadata": {},
   "outputs": [],
   "source": [
    "print(\"Missing Facts ->\",len(Distri_Facts)-len(set(TP_Distri[\"Facts\"])),\"Missing Markets -> \",len(Markets)-len(set(TP_Distri[\"Markets\"])))"
   ]
  },
  {
   "cell_type": "markdown",
   "metadata": {},
   "source": [
    "**Fact Mapping**"
   ]
  },
  {
   "cell_type": "code",
   "execution_count": null,
   "metadata": {},
   "outputs": [],
   "source": [
    "TP_Distri[\"Facts\"].replace(Distri_Fact_Mapping,inplace=True)"
   ]
  },
  {
   "cell_type": "code",
   "execution_count": null,
   "metadata": {},
   "outputs": [],
   "source": [
    "TP_Distri.head()"
   ]
  },
  {
   "cell_type": "markdown",
   "metadata": {},
   "source": [
    "**Column name Change**"
   ]
  },
  {
   "cell_type": "code",
   "execution_count": null,
   "metadata": {},
   "outputs": [],
   "source": [
    "TP_Distri.rename(columns={\"Markets\":\"MKT\",\"Products\":\"PROD\",\"Manufacturer\":\"CP_MANUFACTURER\",\n",
    "                                \"Franchise\":\"CP_FRANCHISE\",\"Brand\":\"CP_BRAND\",\"SubBrand\":\"CP_SUBBRAND\"},inplace=True)"
   ]
  },
  {
   "cell_type": "code",
   "execution_count": null,
   "metadata": {},
   "outputs": [],
   "source": [
    "TP_Distri.head()"
   ]
  },
  {
   "cell_type": "code",
   "execution_count": null,
   "metadata": {
    "scrolled": true
   },
   "outputs": [],
   "source": [
    "Time_Period=Distri_Time_Period\n",
    "print(Time_Period)"
   ]
  },
  {
   "cell_type": "markdown",
   "metadata": {},
   "source": [
    "**Moving Time Period to Rows and Facts to Columns**"
   ]
  },
  {
   "cell_type": "code",
   "execution_count": null,
   "metadata": {},
   "outputs": [],
   "source": [
    "df1=pd.melt(TP_Distri, id_vars =[\"MKT\",\"PROD\",\"CP_MANUFACTURER\",\"CP_FRANCHISE\",\"CP_BRAND\",\"CP_SUBBRAND\",\"Facts\"], value_vars =Time_Period,var_name=\"Time_Period\")\n",
    "\n",
    "df1[\"value\"]=df1[\"value\"].apply(pd.to_numeric)"
   ]
  },
  {
   "cell_type": "code",
   "execution_count": null,
   "metadata": {},
   "outputs": [],
   "source": [
    "df2=df1.pivot_table(index=['MKT','PROD', 'CP_MANUFACTURER', 'CP_FRANCHISE', 'CP_BRAND','CP_SUBBRAND','Time_Period'],columns='Facts')\n",
    "\n",
    "df2.columns=df2.columns.droplevel().rename(None)\n",
    "df2.reset_index(inplace =True)"
   ]
  },
  {
   "cell_type": "code",
   "execution_count": null,
   "metadata": {},
   "outputs": [],
   "source": [
    "from pandas.api.types import CategoricalDtype\n",
    "\n",
    "Time_Period_order = CategoricalDtype(\n",
    "    Time_Period, \n",
    "    ordered=True\n",
    ")\n",
    "\n",
    "df2['Time_Period'] = df2['Time_Period'].astype(Time_Period_order)\n",
    "\n",
    "df2.sort_values(['MKT','PROD','Time_Period'],inplace=True)"
   ]
  },
  {
   "cell_type": "code",
   "execution_count": null,
   "metadata": {},
   "outputs": [],
   "source": [
    "df2.head()"
   ]
  },
  {
   "cell_type": "code",
   "execution_count": null,
   "metadata": {},
   "outputs": [],
   "source": [
    "final_column_sorting=[\"MKT\",\"PROD\",\"CP_MANUFACTURER\",\"CP_FRANCHISE\",\"CP_BRAND\",\"CP_SUBBRAND\",\"Time_Period\",\"Doll_Shr\",\n",
    "                      \"Doll_Shr_Chg\",\"Base_Doll_Shr\",\"Base_Doll_Shr_Chg\",\"Store_Selling\",\"Store_Selling_Chg\",\"Doll_Velocity\",\n",
    "                      \"Doll_Velocity_Chg\",\"Cum_Distri_Pts\",\"Cum_Distri_Pts_Chg\",\"Dollars\",\"Dollars_Chg\"\n",
    "                      ]\n",
    "TP_Distri_final=df2[final_column_sorting]"
   ]
  },
  {
   "cell_type": "code",
   "execution_count": null,
   "metadata": {
    "scrolled": true
   },
   "outputs": [],
   "source": [
    "TP_Distri_final.head()"
   ]
  },
  {
   "cell_type": "markdown",
   "metadata": {},
   "source": [
    "### **Distri_Cat_Data**"
   ]
  },
  {
   "cell_type": "code",
   "execution_count": null,
   "metadata": {},
   "outputs": [],
   "source": [
    "Distri_Cat_Data=TP_Distri_final.loc[(TP_Distri_final[\"CP_SUBBRAND\"]==\"\") & (TP_Distri_final[\"CP_BRAND\"]==\"\")&(TP_Distri_final[\"CP_FRANCHISE\"]==\"\")&(TP_Distri_final[\"CP_MANUFACTURER\"]==\"\")]"
   ]
  },
  {
   "cell_type": "code",
   "execution_count": null,
   "metadata": {},
   "outputs": [],
   "source": [
    "length= len(Distri_Cat_Data)\n",
    "Distri_Cat_Data[\"Record_ID\"]=range(1,length+1)"
   ]
  },
  {
   "cell_type": "code",
   "execution_count": null,
   "metadata": {},
   "outputs": [],
   "source": [
    "Distri_Cat_Data.head(2)"
   ]
  },
  {
   "cell_type": "code",
   "execution_count": null,
   "metadata": {},
   "outputs": [],
   "source": [
    "#saving into csv file\n",
    "Distri_Cat_Data.to_csv(path_TP+\"Distri_Cat_Data.csv\",index=False)"
   ]
  },
  {
   "cell_type": "markdown",
   "metadata": {},
   "source": [
    "### **Distri_Manu_Data**"
   ]
  },
  {
   "cell_type": "code",
   "execution_count": null,
   "metadata": {},
   "outputs": [],
   "source": [
    "Distri_Manu_Data=TP_Distri_final.loc[(TP_Distri_final[\"CP_SUBBRAND\"]==\"\") & (TP_Distri_final[\"CP_BRAND\"]==\"\")&(TP_Distri_final[\"CP_FRANCHISE\"]==\"\")&(TP_Distri_final[\"CP_MANUFACTURER\"]!=\"\")]"
   ]
  },
  {
   "cell_type": "code",
   "execution_count": null,
   "metadata": {},
   "outputs": [],
   "source": [
    "length= len(Distri_Manu_Data)\n",
    "Distri_Manu_Data[\"Record_ID\"]=range(1,length+1)"
   ]
  },
  {
   "cell_type": "code",
   "execution_count": null,
   "metadata": {},
   "outputs": [],
   "source": [
    "Distri_Manu_Data.head(2)"
   ]
  },
  {
   "cell_type": "code",
   "execution_count": null,
   "metadata": {},
   "outputs": [],
   "source": [
    "#saving into csv file\n",
    "Distri_Manu_Data.to_csv(path_TP+\"Distri_Manu_Data.csv\",index=False)"
   ]
  },
  {
   "cell_type": "markdown",
   "metadata": {},
   "source": [
    "### **Distri_Fran_Data**"
   ]
  },
  {
   "cell_type": "code",
   "execution_count": null,
   "metadata": {},
   "outputs": [],
   "source": []
  },
  {
   "cell_type": "code",
   "execution_count": null,
   "metadata": {},
   "outputs": [],
   "source": [
    "Distri_Fran_Data=TP_Distri_final.loc[(TP_Distri_final[\"CP_SUBBRAND\"]==\"\") & (TP_Distri_final[\"CP_BRAND\"]==\"\")&(TP_Distri_final[\"CP_FRANCHISE\"]!=\"\")]"
   ]
  },
  {
   "cell_type": "code",
   "execution_count": null,
   "metadata": {},
   "outputs": [],
   "source": [
    "length= len(Distri_Fran_Data)\n",
    "Distri_Fran_Data[\"Record_ID\"]=range(1,length+1)"
   ]
  },
  {
   "cell_type": "code",
   "execution_count": null,
   "metadata": {},
   "outputs": [],
   "source": [
    "Distri_Fran_Data.head(3)"
   ]
  },
  {
   "cell_type": "code",
   "execution_count": null,
   "metadata": {},
   "outputs": [],
   "source": [
    "#saving into csv file\n",
    "Distri_Fran_Data.to_csv(path_TP+\"Distri_Fran_Data.csv\",index=False)"
   ]
  },
  {
   "cell_type": "markdown",
   "metadata": {},
   "source": [
    "### **Distri_Brand_Data**"
   ]
  },
  {
   "cell_type": "code",
   "execution_count": null,
   "metadata": {},
   "outputs": [],
   "source": [
    "Distri_Brand_Data=TP_Distri_final.loc[(TP_Distri_final[\"CP_SUBBRAND\"]==\"\") & (TP_Distri_final[\"CP_BRAND\"]!=\"\")]"
   ]
  },
  {
   "cell_type": "code",
   "execution_count": null,
   "metadata": {},
   "outputs": [],
   "source": [
    "length= len(Distri_Brand_Data)\n",
    "Distri_Brand_Data[\"Record_ID\"]=range(1,length+1)"
   ]
  },
  {
   "cell_type": "code",
   "execution_count": null,
   "metadata": {},
   "outputs": [],
   "source": [
    "Distri_Brand_Data.head(3)"
   ]
  },
  {
   "cell_type": "code",
   "execution_count": null,
   "metadata": {},
   "outputs": [],
   "source": [
    "#saving into csv file\n",
    "Distri_Brand_Data.to_csv(path_TP+\"Distri_Brand_Data.csv\",index=False)"
   ]
  },
  {
   "cell_type": "markdown",
   "metadata": {},
   "source": [
    "### **Distri_SubBrand_Data**"
   ]
  },
  {
   "cell_type": "code",
   "execution_count": null,
   "metadata": {},
   "outputs": [],
   "source": [
    "Distri_SubBrand_Data=TP_Distri_final.loc[(TP_Distri_final[\"CP_SUBBRAND\"]!=\"\")]"
   ]
  },
  {
   "cell_type": "code",
   "execution_count": null,
   "metadata": {},
   "outputs": [],
   "source": [
    "length= len(Distri_SubBrand_Data)\n",
    "Distri_SubBrand_Data[\"Record_ID\"]=range(1,length+1)"
   ]
  },
  {
   "cell_type": "code",
   "execution_count": null,
   "metadata": {},
   "outputs": [],
   "source": [
    "Distri_SubBrand_Data.head(3)"
   ]
  },
  {
   "cell_type": "code",
   "execution_count": null,
   "metadata": {},
   "outputs": [],
   "source": [
    "#saving into csv file\n",
    "Distri_SubBrand_Data.to_csv(path_TP+\"Distri_SubBrand_Data.csv\",index=False)"
   ]
  },
  {
   "cell_type": "markdown",
   "metadata": {},
   "source": [
    "## Distri Brand Avg Sku Monthly"
   ]
  },
  {
   "cell_type": "code",
   "execution_count": null,
   "metadata": {},
   "outputs": [],
   "source": [
    "TP_Distri=Data_5p[Data_5p[\"ShareBasis\"]==\"TOOTHPASTE\"]"
   ]
  },
  {
   "cell_type": "markdown",
   "metadata": {},
   "source": [
    "**Filter Data**"
   ]
  },
  {
   "cell_type": "code",
   "execution_count": null,
   "metadata": {},
   "outputs": [],
   "source": [
    "Markets=[\"Ahold\",\"BJs\",\"CVS\",\"Dollar General\",\"Family Dollar\",\"Meijer\",\"Publix\",\n",
    "         \"Rite Aid\",\"Sams\",\"Shoprite\",\"Target\",\"US AOC\",\"US Drug\",\"US Food\",\"Walgreens\",\"Walmart\"]\n",
    "\n",
    "Facts=[\"TDP\"]"
   ]
  },
  {
   "cell_type": "code",
   "execution_count": null,
   "metadata": {},
   "outputs": [],
   "source": [
    "TP_Distri = TP_Distri[TP_Distri[\"Facts\"].isin(Facts)]\n",
    "TP_Distri = TP_Distri[TP_Distri[\"Markets\"].isin(Markets)]"
   ]
  },
  {
   "cell_type": "code",
   "execution_count": null,
   "metadata": {},
   "outputs": [],
   "source": [
    "print(\"Missing Facts ->\",len(Facts)-len(set(TP_Distri[\"Facts\"])),\"Missing Markets -> \",len(Markets)-len(set(TP_Distri[\"Markets\"])))"
   ]
  },
  {
   "cell_type": "markdown",
   "metadata": {},
   "source": [
    "**Fact Mapping**"
   ]
  },
  {
   "cell_type": "code",
   "execution_count": null,
   "metadata": {},
   "outputs": [],
   "source": [
    "TP_Distri[\"Facts\"].replace(Distri_Fact_Mapping,inplace=True)"
   ]
  },
  {
   "cell_type": "code",
   "execution_count": null,
   "metadata": {},
   "outputs": [],
   "source": [
    "TP_Distri.head()"
   ]
  },
  {
   "cell_type": "markdown",
   "metadata": {},
   "source": [
    "**Column name Change**"
   ]
  },
  {
   "cell_type": "code",
   "execution_count": null,
   "metadata": {},
   "outputs": [],
   "source": [
    "TP_Distri.rename(columns={\"Markets\":\"MKT\",\"Products\":\"PROD\",\"Manufacturer\":\"CP_MANUFACTURER\",\n",
    "                                \"Franchise\":\"CP_FRANCHISE\",\"Brand\":\"CP_BRAND\",\"SubBrand\":\"CP_SUBBRAND\"},inplace=True)"
   ]
  },
  {
   "cell_type": "code",
   "execution_count": null,
   "metadata": {
    "scrolled": true
   },
   "outputs": [],
   "source": [
    "TP_Distri.head(2)"
   ]
  },
  {
   "cell_type": "code",
   "execution_count": null,
   "metadata": {
    "scrolled": true
   },
   "outputs": [],
   "source": [
    "Time_Period=list(TP_Distri.columns[25:38])\n",
    "print(Time_Period)"
   ]
  },
  {
   "cell_type": "markdown",
   "metadata": {},
   "source": [
    "**Moving Time Period to Rows and Facts to Columns**"
   ]
  },
  {
   "cell_type": "code",
   "execution_count": null,
   "metadata": {},
   "outputs": [],
   "source": [
    "df1=pd.melt(TP_Distri, id_vars =[\"MKT\",\"PROD\",\"CP_MANUFACTURER\",\"CP_FRANCHISE\",\"CP_BRAND\",\"CP_SUBBRAND\",\"Facts\"], value_vars =Time_Period,var_name=\"Time_Period\")\n",
    "\n",
    "df1[\"value\"]=df1[\"value\"].apply(pd.to_numeric)"
   ]
  },
  {
   "cell_type": "code",
   "execution_count": null,
   "metadata": {},
   "outputs": [],
   "source": [
    "df2=df1.pivot_table(index=['MKT','PROD', 'CP_MANUFACTURER', 'CP_FRANCHISE', 'CP_BRAND','CP_SUBBRAND','Time_Period'],columns='Facts')\n",
    "\n",
    "df2.columns=df2.columns.droplevel().rename(None)\n",
    "df2.reset_index(inplace =True)"
   ]
  },
  {
   "cell_type": "code",
   "execution_count": null,
   "metadata": {},
   "outputs": [],
   "source": [
    "from pandas.api.types import CategoricalDtype\n",
    "\n",
    "Time_Period_order = CategoricalDtype(\n",
    "    Time_Period, \n",
    "    ordered=True\n",
    ")\n",
    "\n",
    "df2['Time_Period'] = df2['Time_Period'].astype(Time_Period_order)\n",
    "\n",
    "df2.sort_values(['MKT','PROD','Time_Period'],inplace=True)"
   ]
  },
  {
   "cell_type": "code",
   "execution_count": null,
   "metadata": {},
   "outputs": [],
   "source": [
    "df2.head()"
   ]
  },
  {
   "cell_type": "code",
   "execution_count": null,
   "metadata": {},
   "outputs": [],
   "source": [
    "final_column_sorting=[\"MKT\",\"PROD\",\"CP_MANUFACTURER\",\"CP_FRANCHISE\",\"CP_BRAND\",\"CP_SUBBRAND\",\"Time_Period\",\"Cum_Distri_Pts\"\n",
    "                      ]\n",
    "TP_Distri_final=df2[final_column_sorting]"
   ]
  },
  {
   "cell_type": "code",
   "execution_count": null,
   "metadata": {},
   "outputs": [],
   "source": [
    "TP_Distri_final.head()"
   ]
  },
  {
   "cell_type": "code",
   "execution_count": null,
   "metadata": {},
   "outputs": [],
   "source": [
    "brand_level=TP_Distri_final.loc[(TP_Distri_final[\"CP_SUBBRAND\"]==\"\") & (TP_Distri_final[\"CP_BRAND\"]!=\"\")]\n",
    "cat_level=TP_Distri_final.loc[(TP_Distri_final[\"CP_MANUFACTURER\"]==\"\")]\n",
    "TP_Distri_Brand_and_Cat_Level=pd.concat([cat_level,brand_level],axis=0,ignore_index=True)"
   ]
  },
  {
   "cell_type": "code",
   "execution_count": null,
   "metadata": {},
   "outputs": [],
   "source": [
    "TP_Distri_Brand_and_Cat_Level.shape"
   ]
  },
  {
   "cell_type": "code",
   "execution_count": null,
   "metadata": {},
   "outputs": [],
   "source": [
    "#saving into csv file\n",
    "TP_Distri_Brand_and_Cat_Level.to_csv(path_TP+\"Distri_brand_avg_skus_monthly.csv\",index=False)"
   ]
  },
  {
   "cell_type": "markdown",
   "metadata": {},
   "source": [
    "## Distri Cat Dollar Share"
   ]
  },
  {
   "cell_type": "code",
   "execution_count": null,
   "metadata": {},
   "outputs": [],
   "source": [
    "TP_Distri=Data_5p[Data_5p[\"ShareBasis\"]==\"TOOTHPASTE\"]"
   ]
  },
  {
   "cell_type": "markdown",
   "metadata": {},
   "source": [
    "**Filter Data**"
   ]
  },
  {
   "cell_type": "code",
   "execution_count": null,
   "metadata": {},
   "outputs": [],
   "source": [
    "Markets=[\"Ahold\",\"BJs\",\"CVS\",\"Dollar General\",\"Family Dollar\",\"Meijer\",\"Publix\",\n",
    "         \"Rite Aid\",\"Sams\",\"Shoprite\",\"Target\",\"US AOC\",\"US Drug\",\"US Food\",\"Walgreens\",\"Walmart\"]\n",
    "\n",
    "Facts=[\"$ Shr - CP CATEGORY\"]\n",
    "\n",
    "Manufacturer=[\"\",\"COLGATE-PALMOLIVE\",\"P&G\",\"GSK\",\"SANOFI\",\"DR BRONNERS\"]"
   ]
  },
  {
   "cell_type": "code",
   "execution_count": null,
   "metadata": {},
   "outputs": [],
   "source": [
    "TP_Distri = TP_Distri[TP_Distri[\"Facts\"].isin(Facts)]\n",
    "TP_Distri = TP_Distri[TP_Distri[\"Markets\"].isin(Markets)]\n",
    "TP_Distri = TP_Distri[TP_Distri[\"Manufacturer\"].isin(Manufacturer)]"
   ]
  },
  {
   "cell_type": "code",
   "execution_count": null,
   "metadata": {},
   "outputs": [],
   "source": [
    "print(\"Missing Facts ->\",len(Facts)-len(set(TP_Distri[\"Facts\"])),\"Missing Markets -> \",len(Markets)-len(set(TP_Distri[\"Markets\"])))"
   ]
  },
  {
   "cell_type": "markdown",
   "metadata": {},
   "source": [
    "**Fact Mapping**"
   ]
  },
  {
   "cell_type": "code",
   "execution_count": null,
   "metadata": {},
   "outputs": [],
   "source": [
    "TP_Distri[\"Facts\"].replace(Distri_Fact_Mapping,inplace=True)"
   ]
  },
  {
   "cell_type": "code",
   "execution_count": null,
   "metadata": {},
   "outputs": [],
   "source": [
    "TP_Distri.head()"
   ]
  },
  {
   "cell_type": "markdown",
   "metadata": {},
   "source": [
    "**Column name Change**"
   ]
  },
  {
   "cell_type": "code",
   "execution_count": null,
   "metadata": {},
   "outputs": [],
   "source": [
    "TP_Distri.rename(columns={\"Markets\":\"MKT\",\"Products\":\"PROD\",\"Manufacturer\":\"CP_MANUFACTURER\",\n",
    "                                \"Franchise\":\"CP_FRANCHISE\",\"Brand\":\"CP_BRAND\",\"SubBrand\":\"CP_SUBBRAND\"},inplace=True)"
   ]
  },
  {
   "cell_type": "code",
   "execution_count": null,
   "metadata": {
    "scrolled": true
   },
   "outputs": [],
   "source": [
    "TP_Distri.head(2)"
   ]
  },
  {
   "cell_type": "code",
   "execution_count": null,
   "metadata": {
    "scrolled": true
   },
   "outputs": [],
   "source": [
    "Time_Period=list(TP_Distri.columns[25:38])\n",
    "print(Time_Period)"
   ]
  },
  {
   "cell_type": "markdown",
   "metadata": {},
   "source": [
    "**Moving Time Period to Rows and Facts to Columns**"
   ]
  },
  {
   "cell_type": "code",
   "execution_count": null,
   "metadata": {},
   "outputs": [],
   "source": [
    "df1=pd.melt(TP_Distri, id_vars =[\"MKT\",\"PROD\",\"CP_MANUFACTURER\",\"CP_FRANCHISE\",\"CP_BRAND\",\"CP_SUBBRAND\",\"Facts\"], value_vars =Time_Period,var_name=\"Time_Period\")\n",
    "\n",
    "df1[\"value\"]=df1[\"value\"].apply(pd.to_numeric)"
   ]
  },
  {
   "cell_type": "code",
   "execution_count": null,
   "metadata": {},
   "outputs": [],
   "source": [
    "df2=df1.pivot_table(index=['MKT','PROD', 'CP_MANUFACTURER', 'CP_FRANCHISE', 'CP_BRAND','CP_SUBBRAND','Time_Period'],columns='Facts')\n",
    "\n",
    "df2.columns=df2.columns.droplevel().rename(None)\n",
    "df2.reset_index(inplace =True)"
   ]
  },
  {
   "cell_type": "code",
   "execution_count": null,
   "metadata": {},
   "outputs": [],
   "source": [
    "from pandas.api.types import CategoricalDtype\n",
    "\n",
    "Time_Period_order = CategoricalDtype(\n",
    "    Time_Period, \n",
    "    ordered=True\n",
    ")\n",
    "\n",
    "df2['Time_Period'] = df2['Time_Period'].astype(Time_Period_order)\n",
    "\n",
    "df2.sort_values(['MKT','PROD','Time_Period'],inplace=True)"
   ]
  },
  {
   "cell_type": "code",
   "execution_count": null,
   "metadata": {},
   "outputs": [],
   "source": [
    "df2.head()"
   ]
  },
  {
   "cell_type": "code",
   "execution_count": null,
   "metadata": {},
   "outputs": [],
   "source": [
    "final_column_sorting=[\"MKT\",\"PROD\",\"CP_MANUFACTURER\",\"CP_FRANCHISE\",\"CP_BRAND\",\"CP_SUBBRAND\",\"Time_Period\",\"Doll_Shr\"\n",
    "                      ]\n",
    "TP_Distri_final=df2[final_column_sorting]"
   ]
  },
  {
   "cell_type": "code",
   "execution_count": null,
   "metadata": {},
   "outputs": [],
   "source": [
    "TP_Distri_final.head()"
   ]
  },
  {
   "cell_type": "code",
   "execution_count": null,
   "metadata": {},
   "outputs": [],
   "source": [
    "brand_level=TP_Distri_final.loc[(TP_Distri_final[\"CP_SUBBRAND\"]==\"\") & (TP_Distri_final[\"CP_BRAND\"]!=\"\")]\n",
    "cat_level=TP_Distri_final.loc[(TP_Distri_final[\"CP_MANUFACTURER\"]==\"\")]\n",
    "TP_Distri_Brand_and_Cat_Level=pd.concat([cat_level,brand_level],axis=0,ignore_index=True)"
   ]
  },
  {
   "cell_type": "code",
   "execution_count": null,
   "metadata": {},
   "outputs": [],
   "source": [
    "TP_Distri_Brand_and_Cat_Level.shape"
   ]
  },
  {
   "cell_type": "code",
   "execution_count": null,
   "metadata": {},
   "outputs": [],
   "source": [
    "#saving into csv file\n",
    "TP_Distri_Brand_and_Cat_Level.to_csv(path_TP+\"Distri_cat_doll_share.csv\",index=False)"
   ]
  },
  {
   "cell_type": "code",
   "execution_count": null,
   "metadata": {},
   "outputs": [],
   "source": []
  },
  {
   "cell_type": "markdown",
   "metadata": {},
   "source": [
    "## MOUTHWASH"
   ]
  },
  {
   "cell_type": "code",
   "execution_count": null,
   "metadata": {},
   "outputs": [],
   "source": [
    "# path to store Output files\n",
    "path_MW=\"//falmumapp34/Nielsen Connect Transition & Maintenance (20-SCP-3650)/05. Output Data/5P Output/MW/\""
   ]
  },
  {
   "cell_type": "code",
   "execution_count": null,
   "metadata": {},
   "outputs": [],
   "source": [
    "set(Data_5p['ShareBasis'])"
   ]
  },
  {
   "cell_type": "code",
   "execution_count": null,
   "metadata": {},
   "outputs": [],
   "source": [
    "Data_5p.columns"
   ]
  },
  {
   "cell_type": "code",
   "execution_count": null,
   "metadata": {},
   "outputs": [],
   "source": [
    "MW_Distri=Data_5p[Data_5p['Category']==\"MW\"]"
   ]
  },
  {
   "cell_type": "code",
   "execution_count": null,
   "metadata": {},
   "outputs": [],
   "source": [
    "MW_Distri.shape"
   ]
  },
  {
   "cell_type": "code",
   "execution_count": null,
   "metadata": {},
   "outputs": [],
   "source": [
    "set(MW_Distri.Manufacturer)"
   ]
  },
  {
   "cell_type": "markdown",
   "metadata": {},
   "source": [
    "**Filter Data**"
   ]
  },
  {
   "cell_type": "code",
   "execution_count": null,
   "metadata": {},
   "outputs": [],
   "source": [
    "Markets=[\"Ahold\",\"Alb/Sfy\",\"BJs\",\"CVS\",\"Dollar General\",\"Family Dollar\",\"Kmart\",\"Meijer\",\"Publix\",\"Kmart\",\n",
    "        \"Rite Aid\",\"Sams\",\"Shoprite\",\"Target\",\"US AOC\",\"US Drug\",\"US Food\",\"Walgreens\",\"Walmart\"]\n",
    "\n",
    "Manufacturer=[\"\",\"COLGATE-PALMOLIVE\",\"P&G\",\"GSK\",\"SANOFI\",\"DR BRONNERS\",'PRVT LBL','SANOFI','TRIUMPH PHARMACEUTICALS INC','J&J', 'CHURCH & DWIGHT','DR. HAROLD KTZ FRSH STRT LLC']"
   ]
  },
  {
   "cell_type": "code",
   "execution_count": null,
   "metadata": {},
   "outputs": [],
   "source": [
    "MW_Distri = MW_Distri[MW_Distri[\"Facts\"].isin(Distri_Facts)]\n",
    "MW_Distri = MW_Distri[MW_Distri[\"Markets\"].isin(Markets)]\n",
    "MW_Distri = MW_Distri[MW_Distri[\"Manufacturer\"].isin(Manufacturer)]"
   ]
  },
  {
   "cell_type": "code",
   "execution_count": null,
   "metadata": {},
   "outputs": [],
   "source": [
    "print(\"Missing Facts ->\",len(Distri_Facts)-len(set(MW_Distri[\"Facts\"])),\"Missing Markets -> \",len(Markets)-len(set(MW_Distri[\"Markets\"])))"
   ]
  },
  {
   "cell_type": "code",
   "execution_count": null,
   "metadata": {},
   "outputs": [],
   "source": [
    "MW_Distri.shape"
   ]
  },
  {
   "cell_type": "markdown",
   "metadata": {},
   "source": [
    "**Fact Mapping**"
   ]
  },
  {
   "cell_type": "code",
   "execution_count": null,
   "metadata": {},
   "outputs": [],
   "source": [
    "MW_Distri[\"Facts\"].replace(Distri_Fact_Mapping,inplace=True)"
   ]
  },
  {
   "cell_type": "code",
   "execution_count": null,
   "metadata": {},
   "outputs": [],
   "source": [
    "MW_Distri.shape"
   ]
  },
  {
   "cell_type": "markdown",
   "metadata": {},
   "source": [
    "**Column name Change**"
   ]
  },
  {
   "cell_type": "code",
   "execution_count": null,
   "metadata": {},
   "outputs": [],
   "source": [
    "MW_Distri.rename(columns={\"Markets\":\"MKT\",\"Products\":\"PROD\",\"Manufacturer\":\"CP_MANUFACTURER\",\n",
    "                                \"Franchise\":\"CP_FRANCHISE\",\"Brand\":\"CP_BRAND\",\"SubBrand\":\"CP_SUBBRAND\"},inplace=True)"
   ]
  },
  {
   "cell_type": "code",
   "execution_count": null,
   "metadata": {},
   "outputs": [],
   "source": [
    "MW_Distri.shape"
   ]
  },
  {
   "cell_type": "code",
   "execution_count": null,
   "metadata": {
    "scrolled": true
   },
   "outputs": [],
   "source": [
    "Time_Period=Distri_Time_Period\n",
    "print(Time_Period)"
   ]
  },
  {
   "cell_type": "markdown",
   "metadata": {},
   "source": [
    "**Moving Time Period to Rows and Facts to Columns**"
   ]
  },
  {
   "cell_type": "code",
   "execution_count": null,
   "metadata": {},
   "outputs": [],
   "source": [
    "df1=pd.melt(MW_Distri, id_vars =[\"MKT\",\"PROD\",\"CP_MANUFACTURER\",\"CP_FRANCHISE\",\"CP_BRAND\",\"CP_SUBBRAND\",\"Facts\"], value_vars =Time_Period,var_name=\"Time_Period\")\n",
    "\n",
    "df1[\"value\"]=df1[\"value\"].apply(pd.to_numeric)"
   ]
  },
  {
   "cell_type": "code",
   "execution_count": null,
   "metadata": {},
   "outputs": [],
   "source": [
    "df1.head(3)"
   ]
  },
  {
   "cell_type": "code",
   "execution_count": null,
   "metadata": {},
   "outputs": [],
   "source": [
    "df2=df1.pivot_table(index=['MKT','PROD', 'CP_MANUFACTURER', 'CP_FRANCHISE', 'CP_BRAND','CP_SUBBRAND','Time_Period'],columns='Facts')\n",
    "\n",
    "df2.columns=df2.columns.droplevel().rename(None)\n",
    "df2.reset_index(inplace =True)"
   ]
  },
  {
   "cell_type": "code",
   "execution_count": null,
   "metadata": {},
   "outputs": [],
   "source": [
    "from pandas.api.types import CategoricalDtype\n",
    "\n",
    "Time_Period_order = CategoricalDtype(\n",
    "    Time_Period, \n",
    "    ordered=True\n",
    ")\n",
    "\n",
    "df2['Time_Period'] = df2['Time_Period'].astype(Time_Period_order)\n",
    "\n",
    "df2.sort_values(['MKT','PROD','Time_Period'],inplace=True)"
   ]
  },
  {
   "cell_type": "code",
   "execution_count": null,
   "metadata": {},
   "outputs": [],
   "source": [
    "df2.shape"
   ]
  },
  {
   "cell_type": "code",
   "execution_count": null,
   "metadata": {},
   "outputs": [],
   "source": [
    "final_column_sorting=[\"MKT\",\"PROD\",\"CP_MANUFACTURER\",\"CP_FRANCHISE\",\"CP_BRAND\",\"CP_SUBBRAND\",\"Time_Period\",\"Doll_Shr\",\n",
    "                      \"Doll_Shr_Chg\",\"Base_Doll_Shr\",\"Base_Doll_Shr_Chg\",\"Store_Selling\",\"Store_Selling_Chg\",\"Doll_Velocity\",\n",
    "                      \"Doll_Velocity_Chg\",\"Cum_Distri_Pts\",\"Cum_Distri_Pts_Chg\",\"Dollars\",\"Dollars_Chg\"\n",
    "                      ]\n",
    "MW_Distri_final=df2[final_column_sorting]"
   ]
  },
  {
   "cell_type": "code",
   "execution_count": null,
   "metadata": {
    "scrolled": true
   },
   "outputs": [],
   "source": [
    "MW_Distri_final.head()"
   ]
  },
  {
   "cell_type": "markdown",
   "metadata": {},
   "source": [
    "### **Distri_Cat_Data**"
   ]
  },
  {
   "cell_type": "code",
   "execution_count": null,
   "metadata": {},
   "outputs": [],
   "source": [
    "Distri_Cat_Data=MW_Distri_final.loc[(MW_Distri_final[\"CP_SUBBRAND\"]==\"\") & (MW_Distri_final[\"CP_BRAND\"]==\"\")&(MW_Distri_final[\"CP_FRANCHISE\"]==\"\")&(MW_Distri_final[\"CP_MANUFACTURER\"]==\"\")]"
   ]
  },
  {
   "cell_type": "code",
   "execution_count": null,
   "metadata": {},
   "outputs": [],
   "source": [
    "length= len(Distri_Cat_Data)\n",
    "Distri_Cat_Data[\"Record_ID\"]=range(1,length+1)"
   ]
  },
  {
   "cell_type": "code",
   "execution_count": null,
   "metadata": {},
   "outputs": [],
   "source": [
    "Distri_Cat_Data.head(2)"
   ]
  },
  {
   "cell_type": "code",
   "execution_count": null,
   "metadata": {},
   "outputs": [],
   "source": [
    "#saving into csv file\n",
    "Distri_Cat_Data.to_csv(path_MW+\"Distri_Cat_Data.csv\",index=False)"
   ]
  },
  {
   "cell_type": "markdown",
   "metadata": {},
   "source": [
    "### **Distri_Manu_Data**"
   ]
  },
  {
   "cell_type": "code",
   "execution_count": null,
   "metadata": {},
   "outputs": [],
   "source": [
    "Distri_Manu_Data=MW_Distri_final.loc[(MW_Distri_final[\"CP_SUBBRAND\"]==\"\") & (MW_Distri_final[\"CP_BRAND\"]==\"\")&(MW_Distri_final[\"CP_FRANCHISE\"]==\"\")&(MW_Distri_final[\"CP_MANUFACTURER\"]!=\"\")]"
   ]
  },
  {
   "cell_type": "code",
   "execution_count": null,
   "metadata": {},
   "outputs": [],
   "source": [
    "length= len(Distri_Manu_Data)\n",
    "Distri_Manu_Data[\"Record_ID\"]=range(1,length+1)"
   ]
  },
  {
   "cell_type": "code",
   "execution_count": null,
   "metadata": {},
   "outputs": [],
   "source": [
    "Distri_Manu_Data.head(2)"
   ]
  },
  {
   "cell_type": "code",
   "execution_count": null,
   "metadata": {},
   "outputs": [],
   "source": [
    "#saving into csv file\n",
    "Distri_Manu_Data.to_csv(path_MW+\"Distri_Manu_Data.csv\",index=False)"
   ]
  },
  {
   "cell_type": "markdown",
   "metadata": {},
   "source": [
    "### **Distri_Fran_Data**"
   ]
  },
  {
   "cell_type": "code",
   "execution_count": null,
   "metadata": {},
   "outputs": [],
   "source": [
    "Distri_Fran_Data=MW_Distri_final.loc[(MW_Distri_final[\"CP_SUBBRAND\"]==\"\") & (MW_Distri_final[\"CP_BRAND\"]==\"\")&(MW_Distri_final[\"CP_FRANCHISE\"]!=\"\")]"
   ]
  },
  {
   "cell_type": "code",
   "execution_count": null,
   "metadata": {},
   "outputs": [],
   "source": [
    "length= len(Distri_Fran_Data)\n",
    "Distri_Fran_Data[\"Record_ID\"]=range(1,length+1)"
   ]
  },
  {
   "cell_type": "code",
   "execution_count": null,
   "metadata": {},
   "outputs": [],
   "source": [
    "Distri_Fran_Data.head(3)"
   ]
  },
  {
   "cell_type": "code",
   "execution_count": null,
   "metadata": {},
   "outputs": [],
   "source": [
    "#saving into csv file\n",
    "Distri_Fran_Data.to_csv(path_MW+\"Distri_Fran_Data.csv\",index=False)"
   ]
  },
  {
   "cell_type": "markdown",
   "metadata": {},
   "source": [
    "### **Distri_Brand_Data**"
   ]
  },
  {
   "cell_type": "code",
   "execution_count": null,
   "metadata": {},
   "outputs": [],
   "source": [
    "Distri_Brand_Data=MW_Distri_final.loc[(MW_Distri_final[\"CP_SUBBRAND\"]==\"\") & (MW_Distri_final[\"CP_BRAND\"]!=\"\")]"
   ]
  },
  {
   "cell_type": "code",
   "execution_count": null,
   "metadata": {},
   "outputs": [],
   "source": [
    "length= len(Distri_Brand_Data)\n",
    "Distri_Brand_Data[\"Record_ID\"]=range(1,length+1)"
   ]
  },
  {
   "cell_type": "code",
   "execution_count": null,
   "metadata": {},
   "outputs": [],
   "source": [
    "Distri_Brand_Data.head(3)"
   ]
  },
  {
   "cell_type": "code",
   "execution_count": null,
   "metadata": {},
   "outputs": [],
   "source": [
    "#saving into csv file\n",
    "Distri_Brand_Data.to_csv(path_MW+\"Distri_Brand_Data.csv\",index=False)"
   ]
  },
  {
   "cell_type": "markdown",
   "metadata": {},
   "source": [
    "### **Distri_SubBrand_Data**"
   ]
  },
  {
   "cell_type": "code",
   "execution_count": null,
   "metadata": {},
   "outputs": [],
   "source": [
    "Distri_SubBrand_Data=MW_Distri_final.loc[(MW_Distri_final[\"CP_SUBBRAND\"]!=\"\")]"
   ]
  },
  {
   "cell_type": "code",
   "execution_count": null,
   "metadata": {},
   "outputs": [],
   "source": [
    "length= len(Distri_SubBrand_Data)\n",
    "Distri_SubBrand_Data[\"Record_ID\"]=range(1,length+1)"
   ]
  },
  {
   "cell_type": "code",
   "execution_count": null,
   "metadata": {},
   "outputs": [],
   "source": [
    "Distri_SubBrand_Data.shape"
   ]
  },
  {
   "cell_type": "code",
   "execution_count": null,
   "metadata": {},
   "outputs": [],
   "source": [
    "#saving into csv file\n",
    "Distri_SubBrand_Data.to_csv(path_MW+\"Distri_SubBrand_Data.csv\",index=False)"
   ]
  },
  {
   "cell_type": "code",
   "execution_count": null,
   "metadata": {},
   "outputs": [],
   "source": [
    "Data_5p.ShareBasis"
   ]
  },
  {
   "cell_type": "markdown",
   "metadata": {},
   "source": [
    "## Distri Brand Avg Sku Monthly"
   ]
  },
  {
   "cell_type": "code",
   "execution_count": null,
   "metadata": {},
   "outputs": [],
   "source": [
    "MW_Distri=Data_5p[Data_5p['ShareBasis']==\"MOUTHWASH\"]"
   ]
  },
  {
   "cell_type": "markdown",
   "metadata": {},
   "source": [
    "**Filter Data**"
   ]
  },
  {
   "cell_type": "code",
   "execution_count": null,
   "metadata": {},
   "outputs": [],
   "source": [
    "Markets=[\"Ahold\",\"Alb/Sfy\",\"BJs\",\"CVS\",\"Dollar General\",\"Family Dollar\",\"Kmart\",\"Meijer\",\"Publix\",\n",
    "         \"Rite Aid\",\"Sams\",\"Shoprite\",\"Target\",\"US AOC\",\"US Drug\",\"US Food\",\"Walgreens\",\"Walmart\"]\n",
    "\n",
    "Facts=[\"TDP\"]\n",
    "\n",
    "Manufacturer=[\"\",\"COLGATE-PALMOLIVE\",\"P&G\",\"GSK\",\"SANOFI\",\"DR BRONNERS\",'PRVT LBL','SANOFI','TRIUMPH PHARMACEUTICALS INC','J&J', 'CHURCH & DWIGHT','DR. HAROLD KTZ FRSH STRT LLC']"
   ]
  },
  {
   "cell_type": "code",
   "execution_count": null,
   "metadata": {},
   "outputs": [],
   "source": [
    "MW_Distri = MW_Distri[MW_Distri[\"Facts\"].isin(Facts)]\n",
    "MW_Distri = MW_Distri[MW_Distri[\"Markets\"].isin(Markets)]\n",
    "MW_Distri = MW_Distri[MW_Distri[\"Manufacturer\"].isin(Manufacturer)]"
   ]
  },
  {
   "cell_type": "code",
   "execution_count": null,
   "metadata": {},
   "outputs": [],
   "source": [
    "print(\"Missing Facts ->\",len(Facts)-len(set(MW_Distri[\"Facts\"])),\"Missing Markets -> \",len(Markets)-len(set(MW_Distri[\"Markets\"])))"
   ]
  },
  {
   "cell_type": "markdown",
   "metadata": {},
   "source": [
    "**Fact Mapping**"
   ]
  },
  {
   "cell_type": "code",
   "execution_count": null,
   "metadata": {},
   "outputs": [],
   "source": [
    "MW_Distri[\"Facts\"].replace(Distri_Fact_Mapping,inplace=True)"
   ]
  },
  {
   "cell_type": "code",
   "execution_count": null,
   "metadata": {},
   "outputs": [],
   "source": [
    "MW_Distri.head()"
   ]
  },
  {
   "cell_type": "markdown",
   "metadata": {},
   "source": [
    "**Column name Change**"
   ]
  },
  {
   "cell_type": "code",
   "execution_count": null,
   "metadata": {},
   "outputs": [],
   "source": [
    "MW_Distri.rename(columns={\"Markets\":\"MKT\",\"Products\":\"PROD\",\"Manufacturer\":\"CP_MANUFACTURER\",\n",
    "                                \"Franchise\":\"CP_FRANCHISE\",\"Brand\":\"CP_BRAND\",\"SubBrand\":\"CP_SUBBRAND\"},inplace=True)"
   ]
  },
  {
   "cell_type": "code",
   "execution_count": null,
   "metadata": {
    "scrolled": true
   },
   "outputs": [],
   "source": [
    "MW_Distri.head(2)"
   ]
  },
  {
   "cell_type": "code",
   "execution_count": null,
   "metadata": {
    "scrolled": true
   },
   "outputs": [],
   "source": [
    "Time_Period=list(MW_Distri.columns[25:38])\n",
    "print(Time_Period)"
   ]
  },
  {
   "cell_type": "markdown",
   "metadata": {},
   "source": [
    "**Moving Time Period to Rows and Facts to Columns**"
   ]
  },
  {
   "cell_type": "code",
   "execution_count": null,
   "metadata": {},
   "outputs": [],
   "source": [
    "df1=pd.melt(MW_Distri, id_vars =[\"MKT\",\"PROD\",\"CP_MANUFACTURER\",\"CP_FRANCHISE\",\"CP_BRAND\",\"CP_SUBBRAND\",\"Facts\"], value_vars =Time_Period,var_name=\"Time_Period\")\n",
    "\n",
    "df1[\"value\"]=df1[\"value\"].apply(pd.to_numeric)"
   ]
  },
  {
   "cell_type": "code",
   "execution_count": null,
   "metadata": {},
   "outputs": [],
   "source": [
    "df2=df1.pivot_table(index=['MKT','PROD', 'CP_MANUFACTURER', 'CP_FRANCHISE', 'CP_BRAND','CP_SUBBRAND','Time_Period'],columns='Facts')\n",
    "\n",
    "df2.columns=df2.columns.droplevel().rename(None)\n",
    "df2.reset_index(inplace =True)"
   ]
  },
  {
   "cell_type": "code",
   "execution_count": null,
   "metadata": {},
   "outputs": [],
   "source": [
    "from pandas.api.types import CategoricalDtype\n",
    "\n",
    "Time_Period_order = CategoricalDtype(\n",
    "    Time_Period, \n",
    "    ordered=True\n",
    ")\n",
    "\n",
    "df2['Time_Period'] = df2['Time_Period'].astype(Time_Period_order)\n",
    "\n",
    "df2.sort_values(['MKT','PROD','Time_Period'],inplace=True)"
   ]
  },
  {
   "cell_type": "code",
   "execution_count": null,
   "metadata": {},
   "outputs": [],
   "source": [
    "df2.head()"
   ]
  },
  {
   "cell_type": "code",
   "execution_count": null,
   "metadata": {},
   "outputs": [],
   "source": [
    "final_column_sorting=[\"MKT\",\"PROD\",\"CP_MANUFACTURER\",\"CP_FRANCHISE\",\"CP_BRAND\",\"CP_SUBBRAND\",\"Time_Period\",\"Cum_Distri_Pts\"\n",
    "                      ]\n",
    "MW_Distri_final=df2[final_column_sorting]"
   ]
  },
  {
   "cell_type": "code",
   "execution_count": null,
   "metadata": {},
   "outputs": [],
   "source": [
    "MW_Distri_final.head()"
   ]
  },
  {
   "cell_type": "code",
   "execution_count": null,
   "metadata": {},
   "outputs": [],
   "source": [
    "brand_level=MW_Distri_final.loc[(MW_Distri_final[\"CP_SUBBRAND\"]==\"\") & (MW_Distri_final[\"CP_BRAND\"]!=\"\")]\n",
    "cat_level=MW_Distri_final.loc[(MW_Distri_final[\"CP_MANUFACTURER\"]==\"\")]\n",
    "MW_Distri_Brand_and_Cat_Level=pd.concat([cat_level,brand_level],axis=0,ignore_index=True)"
   ]
  },
  {
   "cell_type": "code",
   "execution_count": null,
   "metadata": {},
   "outputs": [],
   "source": [
    "MW_Distri_Brand_and_Cat_Level.shape"
   ]
  },
  {
   "cell_type": "code",
   "execution_count": null,
   "metadata": {},
   "outputs": [],
   "source": [
    "\n",
    "MW_Distri_Brand_and_Cat_Level[\"Record_ID\"]=range(1,len(MW_Distri_Brand_and_Cat_Level)+1)"
   ]
  },
  {
   "cell_type": "code",
   "execution_count": null,
   "metadata": {},
   "outputs": [],
   "source": [
    "#saving into csv file\n",
    "MW_Distri_Brand_and_Cat_Level.to_csv(path_MW+\"Distri_brand_avg_skus_monthly.csv\",index=False)"
   ]
  },
  {
   "cell_type": "code",
   "execution_count": null,
   "metadata": {},
   "outputs": [],
   "source": []
  },
  {
   "cell_type": "markdown",
   "metadata": {},
   "source": [
    "## Distri Cat Dollar Share"
   ]
  },
  {
   "cell_type": "code",
   "execution_count": null,
   "metadata": {},
   "outputs": [],
   "source": [
    "MW_Distri=Data_5p[Data_5p['Category']==\"MW\"]"
   ]
  },
  {
   "cell_type": "markdown",
   "metadata": {},
   "source": [
    "**Filter Data**"
   ]
  },
  {
   "cell_type": "code",
   "execution_count": null,
   "metadata": {},
   "outputs": [],
   "source": [
    "Markets=[\"Ahold\",\"Alb/Sfy\",\"BJs\",\"CVS\",\"Dollar General\",\"Family Dollar\",\"Kmart\",\"Meijer\",\"Publix\",\n",
    "         \"Rite Aid\",\"Sams\",\"Shoprite\",\"Target\",\"US AOC\",\"US Drug\",\"US Food\",\"Walgreens\",\"Walmart\"]\n",
    "\n",
    "Facts=[\"$ Shr - CP CATEGORY\"]\n",
    "\n",
    "\n",
    "Manufacturer=[\"\",\"COLGATE-PALMOLIVE\",\"P&G\",\"GSK\",\"SANOFI\",\"DR BRONNERS\",'PRVT LBL','SANOFI','TRIUMPH PHARMACEUTICALS INC','J&J', 'CHURCH & DWIGHT','DR. HAROLD KTZ FRSH STRT LLC']"
   ]
  },
  {
   "cell_type": "code",
   "execution_count": null,
   "metadata": {},
   "outputs": [],
   "source": [
    "MW_Distri = MW_Distri[MW_Distri[\"Facts\"].isin(Facts)]\n",
    "MW_Distri = MW_Distri[MW_Distri[\"Markets\"].isin(Markets)]\n",
    "MW_Distri = MW_Distri[MW_Distri[\"Manufacturer\"].isin(Manufacturer)]"
   ]
  },
  {
   "cell_type": "code",
   "execution_count": null,
   "metadata": {},
   "outputs": [],
   "source": [
    "print(\"Missing Facts ->\",len(Facts)-len(set(MW_Distri[\"Facts\"])),\"Missing Markets -> \",len(Markets)-len(set(MW_Distri[\"Markets\"])))"
   ]
  },
  {
   "cell_type": "markdown",
   "metadata": {},
   "source": [
    "**Fact Mapping**"
   ]
  },
  {
   "cell_type": "code",
   "execution_count": null,
   "metadata": {},
   "outputs": [],
   "source": [
    "MW_Distri[\"Facts\"].replace(Distri_Fact_Mapping,inplace=True)"
   ]
  },
  {
   "cell_type": "code",
   "execution_count": null,
   "metadata": {},
   "outputs": [],
   "source": [
    "MW_Distri.head()"
   ]
  },
  {
   "cell_type": "markdown",
   "metadata": {},
   "source": [
    "**Column name Change**"
   ]
  },
  {
   "cell_type": "code",
   "execution_count": null,
   "metadata": {},
   "outputs": [],
   "source": [
    "MW_Distri.rename(columns={\"Markets\":\"MKT\",\"Products\":\"PROD\",\"Manufacturer\":\"CP_MANUFACTURER\",\n",
    "                                \"Franchise\":\"CP_FRANCHISE\",\"Brand\":\"CP_BRAND\",\"SubBrand\":\"CP_SUBBRAND\"},inplace=True)"
   ]
  },
  {
   "cell_type": "code",
   "execution_count": null,
   "metadata": {
    "scrolled": true
   },
   "outputs": [],
   "source": [
    "MW_Distri.head(2)"
   ]
  },
  {
   "cell_type": "code",
   "execution_count": null,
   "metadata": {
    "scrolled": true
   },
   "outputs": [],
   "source": [
    "Time_Period=list(MW_Distri.columns[25:38])\n",
    "print(Time_Period)"
   ]
  },
  {
   "cell_type": "markdown",
   "metadata": {},
   "source": [
    "**Moving Time Period to Rows and Facts to Columns**"
   ]
  },
  {
   "cell_type": "code",
   "execution_count": null,
   "metadata": {},
   "outputs": [],
   "source": [
    "df1=pd.melt(MW_Distri, id_vars =[\"MKT\",\"PROD\",\"CP_MANUFACTURER\",\"CP_FRANCHISE\",\"CP_BRAND\",\"CP_SUBBRAND\",\"Facts\"], value_vars =Time_Period,var_name=\"Time_Period\")\n",
    "\n",
    "df1[\"value\"]=df1[\"value\"].apply(pd.to_numeric)"
   ]
  },
  {
   "cell_type": "code",
   "execution_count": null,
   "metadata": {},
   "outputs": [],
   "source": [
    "df2=df1.pivot_table(index=['MKT','PROD', 'CP_MANUFACTURER', 'CP_FRANCHISE', 'CP_BRAND','CP_SUBBRAND','Time_Period'],columns='Facts')\n",
    "\n",
    "df2.columns=df2.columns.droplevel().rename(None)\n",
    "df2.reset_index(inplace =True)"
   ]
  },
  {
   "cell_type": "code",
   "execution_count": null,
   "metadata": {},
   "outputs": [],
   "source": [
    "from pandas.api.types import CategoricalDtype\n",
    "\n",
    "Time_Period_order = CategoricalDtype(\n",
    "    Time_Period, \n",
    "    ordered=True\n",
    ")\n",
    "\n",
    "df2['Time_Period'] = df2['Time_Period'].astype(Time_Period_order)\n",
    "\n",
    "df2.sort_values(['MKT','PROD','Time_Period'],inplace=True)"
   ]
  },
  {
   "cell_type": "code",
   "execution_count": null,
   "metadata": {},
   "outputs": [],
   "source": [
    "df2.head()"
   ]
  },
  {
   "cell_type": "code",
   "execution_count": null,
   "metadata": {},
   "outputs": [],
   "source": [
    "final_column_sorting=[\"MKT\",\"PROD\",\"CP_MANUFACTURER\",\"CP_FRANCHISE\",\"CP_BRAND\",\"CP_SUBBRAND\",\"Time_Period\",\"Doll_Shr\"\n",
    "                      ]\n",
    "MW_Distri_final=df2[final_column_sorting]"
   ]
  },
  {
   "cell_type": "code",
   "execution_count": null,
   "metadata": {},
   "outputs": [],
   "source": [
    "MW_Distri_final.head()"
   ]
  },
  {
   "cell_type": "code",
   "execution_count": null,
   "metadata": {},
   "outputs": [],
   "source": [
    "brand_level=MW_Distri_final.loc[(MW_Distri_final[\"CP_SUBBRAND\"]==\"\") & (MW_Distri_final[\"CP_BRAND\"]!=\"\")]\n",
    "cat_level=MW_Distri_final.loc[(MW_Distri_final[\"CP_MANUFACTURER\"]==\"\")]\n",
    "MW_Distri_Brand_and_Cat_Level=pd.concat([cat_level,brand_level],axis=0,ignore_index=True)"
   ]
  },
  {
   "cell_type": "code",
   "execution_count": null,
   "metadata": {},
   "outputs": [],
   "source": [
    "MW_Distri_Brand_and_Cat_Level.shape"
   ]
  },
  {
   "cell_type": "code",
   "execution_count": null,
   "metadata": {},
   "outputs": [],
   "source": [
    "#saving into csv file\n",
    "MW_Distri_Brand_and_Cat_Level.to_csv(path_MW+\"Distri_cat_doll_share.csv\",index=False)"
   ]
  },
  {
   "cell_type": "code",
   "execution_count": null,
   "metadata": {},
   "outputs": [],
   "source": [
    "set(MW_Distri_Brand_and_Cat_Level[\"MKT\"])"
   ]
  },
  {
   "cell_type": "markdown",
   "metadata": {},
   "source": [
    "## MTB"
   ]
  },
  {
   "cell_type": "code",
   "execution_count": null,
   "metadata": {},
   "outputs": [],
   "source": [
    "# path to store Output files\n",
    "path_MTB=\"//falmumapp34/Nielsen Connect Transition & Maintenance (20-SCP-3650)/05. Output Data/5P Output/MTB/\""
   ]
  },
  {
   "cell_type": "code",
   "execution_count": null,
   "metadata": {},
   "outputs": [],
   "source": [
    "MTB_Distri=Data_5p[Data_5p[\"ShareBasis\"]==\"MANUAL\"]"
   ]
  },
  {
   "cell_type": "markdown",
   "metadata": {},
   "source": [
    "**Filter Data**"
   ]
  },
  {
   "cell_type": "code",
   "execution_count": null,
   "metadata": {},
   "outputs": [],
   "source": [
    "Markets=[\"Ahold\",\"Alb/Sfy\",\"BJs\",\"CVS\",\"Dollar General\",\"Family Dollar\",\"Meijer\",\"Publix\",\n",
    "        \"Rite Aid\",\"Sams\",\"Shoprite\",\"Target\",\"US AOC\",\"US Drug\",\"US Food\",\"Walgreens\",\"Walmart\"]"
   ]
  },
  {
   "cell_type": "code",
   "execution_count": null,
   "metadata": {},
   "outputs": [],
   "source": [
    "MTB_Distri = MTB_Distri[MTB_Distri[\"Facts\"].isin(Distri_Facts)]\n",
    "MTB_Distri = MTB_Distri[MTB_Distri[\"Markets\"].isin(Markets)]"
   ]
  },
  {
   "cell_type": "code",
   "execution_count": null,
   "metadata": {},
   "outputs": [],
   "source": [
    "print(\"Missing Facts ->\",len(Distri_Facts)-len(set(MTB_Distri[\"Facts\"])),\"Missing Markets -> \",len(Markets)-len(set(MTB_Distri[\"Markets\"])))"
   ]
  },
  {
   "cell_type": "markdown",
   "metadata": {},
   "source": [
    "**Fact Mapping**"
   ]
  },
  {
   "cell_type": "code",
   "execution_count": null,
   "metadata": {},
   "outputs": [],
   "source": [
    "MTB_Distri[\"Facts\"].replace(Distri_Fact_Mapping,inplace=True)"
   ]
  },
  {
   "cell_type": "code",
   "execution_count": null,
   "metadata": {},
   "outputs": [],
   "source": [
    "MTB_Distri.head()"
   ]
  },
  {
   "cell_type": "markdown",
   "metadata": {},
   "source": [
    "**Column name Change**"
   ]
  },
  {
   "cell_type": "code",
   "execution_count": null,
   "metadata": {},
   "outputs": [],
   "source": [
    "MTB_Distri.rename(columns={\"Markets\":\"MKT\",\"Products\":\"PROD\",\"Manufacturer\":\"CP_MANUFACTURER\",\"ShareBasis\":\"CP_SHARE_BASIS\",\n",
    "                                \"Franchise\":\"CP_FRANCHISE\",\"Brand\":\"CP_BRAND\",\"SubBrand\":\"CP_SUBBRAND\"},inplace=True)"
   ]
  },
  {
   "cell_type": "code",
   "execution_count": null,
   "metadata": {},
   "outputs": [],
   "source": [
    "MTB_Distri.head()"
   ]
  },
  {
   "cell_type": "code",
   "execution_count": null,
   "metadata": {},
   "outputs": [],
   "source": [
    "set(MTB_Distri[\"PROD\"])"
   ]
  },
  {
   "cell_type": "code",
   "execution_count": null,
   "metadata": {
    "scrolled": true
   },
   "outputs": [],
   "source": [
    "Time_Period=Distri_Time_Period\n",
    "print(Time_Period)"
   ]
  },
  {
   "cell_type": "markdown",
   "metadata": {},
   "source": [
    "**Moving Time Period to Rows and Facts to Columns**"
   ]
  },
  {
   "cell_type": "code",
   "execution_count": null,
   "metadata": {},
   "outputs": [],
   "source": [
    "df1=pd.melt(MTB_Distri, id_vars =[\"MKT\",\"PROD\",\"CP_MANUFACTURER\",\"CP_FRANCHISE\",\"CP_BRAND\",\"CP_SUBBRAND\",\"Facts\",\"CP_SHARE_BASIS\"], value_vars =Time_Period,var_name=\"Time_Period\")\n",
    "\n",
    "df1[\"value\"]=df1[\"value\"].apply(pd.to_numeric)"
   ]
  },
  {
   "cell_type": "code",
   "execution_count": null,
   "metadata": {},
   "outputs": [],
   "source": [
    "df2=df1.pivot_table(index=['MKT','PROD', 'CP_MANUFACTURER', 'CP_FRANCHISE', 'CP_BRAND','CP_SUBBRAND','Time_Period','CP_SHARE_BASIS'],columns='Facts')\n",
    "\n",
    "df2.columns=df2.columns.droplevel().rename(None)\n",
    "df2.reset_index(inplace =True)"
   ]
  },
  {
   "cell_type": "code",
   "execution_count": null,
   "metadata": {},
   "outputs": [],
   "source": [
    "from pandas.api.types import CategoricalDtype\n",
    "\n",
    "Time_Period_order = CategoricalDtype(\n",
    "    Time_Period, \n",
    "    ordered=True\n",
    ")\n",
    "\n",
    "df2['Time_Period'] = df2['Time_Period'].astype(Time_Period_order)\n",
    "\n",
    "df2.sort_values(['MKT','PROD','Time_Period'],inplace=True)"
   ]
  },
  {
   "cell_type": "code",
   "execution_count": null,
   "metadata": {},
   "outputs": [],
   "source": [
    "df2.head()"
   ]
  },
  {
   "cell_type": "code",
   "execution_count": null,
   "metadata": {},
   "outputs": [],
   "source": [
    "final_column_sorting=[\"MKT\",\"PROD\",\"CP_MANUFACTURER\",\"CP_FRANCHISE\",\"CP_BRAND\",\"CP_SUBBRAND\",\"Time_Period\",\"Doll_Shr\",\n",
    "                      \"Doll_Shr_Chg\",\"Base_Doll_Shr\",\"Base_Doll_Shr_Chg\",\"Store_Selling\",\"Store_Selling_Chg\",\"Doll_Velocity\",\n",
    "                      \"Doll_Velocity_Chg\",\"Cum_Distri_Pts\",\"Cum_Distri_Pts_Chg\",\"Dollars\",\"Dollars_Chg\",\"CP_SHARE_BASIS\"\n",
    "                      ]\n",
    "MTB_Distri_final=df2[final_column_sorting]"
   ]
  },
  {
   "cell_type": "code",
   "execution_count": null,
   "metadata": {
    "scrolled": true
   },
   "outputs": [],
   "source": [
    "MTB_Distri_final.head()"
   ]
  },
  {
   "cell_type": "markdown",
   "metadata": {},
   "source": [
    "### **Distri_Cat_Data**"
   ]
  },
  {
   "cell_type": "code",
   "execution_count": null,
   "metadata": {},
   "outputs": [],
   "source": [
    "Distri_Cat_Data=MTB_Distri_final.loc[(MTB_Distri_final[\"CP_SUBBRAND\"]==\"\") & (MTB_Distri_final[\"CP_BRAND\"]==\"\")&(MTB_Distri_final[\"CP_FRANCHISE\"]==\"\")&(MTB_Distri_final[\"CP_MANUFACTURER\"]==\"\")]"
   ]
  },
  {
   "cell_type": "code",
   "execution_count": null,
   "metadata": {},
   "outputs": [],
   "source": [
    "length= len(Distri_Cat_Data)\n",
    "Distri_Cat_Data[\"Record_ID\"]=Distri_Cat_Data[\"MKT\"]+Distri_Cat_Data[\"CP_SHARE_BASIS\"]"
   ]
  },
  {
   "cell_type": "code",
   "execution_count": null,
   "metadata": {},
   "outputs": [],
   "source": [
    "Distri_Cat_Data.head(2)"
   ]
  },
  {
   "cell_type": "code",
   "execution_count": null,
   "metadata": {},
   "outputs": [],
   "source": [
    "#saving into csv file\n",
    "Distri_Cat_Data.to_csv(path_MTB+\"Distri_Cat_Data.csv\",index=False)"
   ]
  },
  {
   "cell_type": "markdown",
   "metadata": {},
   "source": [
    "### **Distri_Manu_Data**"
   ]
  },
  {
   "cell_type": "code",
   "execution_count": null,
   "metadata": {},
   "outputs": [],
   "source": [
    "Distri_Manu_Data=MTB_Distri_final.loc[(MTB_Distri_final[\"CP_SUBBRAND\"]==\"\") & (MTB_Distri_final[\"CP_BRAND\"]==\"\")&(MTB_Distri_final[\"CP_FRANCHISE\"]==\"\")&(MTB_Distri_final[\"CP_MANUFACTURER\"]!=\"\")]"
   ]
  },
  {
   "cell_type": "code",
   "execution_count": null,
   "metadata": {},
   "outputs": [],
   "source": [
    "length= len(Distri_Manu_Data)\n",
    "Distri_Manu_Data[\"Record_ID\"]=Distri_Manu_Data[\"CP_MANUFACTURER\"]+Distri_Manu_Data[\"CP_SHARE_BASIS\"]"
   ]
  },
  {
   "cell_type": "code",
   "execution_count": null,
   "metadata": {},
   "outputs": [],
   "source": [
    "Distri_Manu_Data.head(2)"
   ]
  },
  {
   "cell_type": "code",
   "execution_count": null,
   "metadata": {},
   "outputs": [],
   "source": [
    "#saving into csv file\n",
    "Distri_Manu_Data.to_csv(path_MTB+\"Distri_Manu_Data.csv\",index=False)"
   ]
  },
  {
   "cell_type": "markdown",
   "metadata": {},
   "source": [
    "### **Distri_Fran_Data**"
   ]
  },
  {
   "cell_type": "code",
   "execution_count": null,
   "metadata": {},
   "outputs": [],
   "source": [
    "Distri_Fran_Data=MTB_Distri_final.loc[(MTB_Distri_final[\"CP_SUBBRAND\"]==\"\") & (MTB_Distri_final[\"CP_BRAND\"]==\"\")&(MTB_Distri_final[\"CP_FRANCHISE\"]!=\"\")]"
   ]
  },
  {
   "cell_type": "code",
   "execution_count": null,
   "metadata": {},
   "outputs": [],
   "source": [
    "length= len(Distri_Fran_Data)\n",
    "Distri_Fran_Data[\"Record_ID\"]=Distri_Fran_Data[\"CP_FRANCHISE\"]+Distri_Fran_Data[\"CP_SHARE_BASIS\"]"
   ]
  },
  {
   "cell_type": "code",
   "execution_count": null,
   "metadata": {},
   "outputs": [],
   "source": [
    "Distri_Fran_Data.head(3)"
   ]
  },
  {
   "cell_type": "code",
   "execution_count": null,
   "metadata": {},
   "outputs": [],
   "source": [
    "#saving into csv file\n",
    "Distri_Fran_Data.to_csv(path_MTB+\"Distri_Fran_Data.csv\",index=False)"
   ]
  },
  {
   "cell_type": "markdown",
   "metadata": {},
   "source": [
    "### **Distri_Brand_Data**"
   ]
  },
  {
   "cell_type": "code",
   "execution_count": null,
   "metadata": {},
   "outputs": [],
   "source": [
    "Distri_Brand_Data=MTB_Distri_final.loc[(MTB_Distri_final[\"CP_SUBBRAND\"]==\"\") & (MTB_Distri_final[\"CP_BRAND\"]!=\"\")]"
   ]
  },
  {
   "cell_type": "code",
   "execution_count": null,
   "metadata": {},
   "outputs": [],
   "source": [
    "length= len(Distri_Brand_Data)\n",
    "Distri_Brand_Data[\"Record_ID\"]=Distri_Brand_Data[\"CP_BRAND\"]+Distri_Brand_Data[\"CP_SHARE_BASIS\"]"
   ]
  },
  {
   "cell_type": "code",
   "execution_count": null,
   "metadata": {},
   "outputs": [],
   "source": [
    "Distri_Brand_Data.head(3)"
   ]
  },
  {
   "cell_type": "code",
   "execution_count": null,
   "metadata": {},
   "outputs": [],
   "source": [
    "#saving into csv file\n",
    "Distri_Brand_Data.to_csv(path_MTB+\"Distri_Brand_Data.csv\",index=False)"
   ]
  },
  {
   "cell_type": "markdown",
   "metadata": {},
   "source": [
    "### **Distri_SubBrand_Data**"
   ]
  },
  {
   "cell_type": "code",
   "execution_count": null,
   "metadata": {},
   "outputs": [],
   "source": [
    "Distri_SubBrand_Data=MTB_Distri_final.loc[(MTB_Distri_final[\"CP_SUBBRAND\"]!=\"\")]"
   ]
  },
  {
   "cell_type": "code",
   "execution_count": null,
   "metadata": {},
   "outputs": [],
   "source": [
    "length= len(Distri_SubBrand_Data)\n",
    "Distri_SubBrand_Data[\"Record_ID\"]=range(1,length+1)"
   ]
  },
  {
   "cell_type": "code",
   "execution_count": null,
   "metadata": {},
   "outputs": [],
   "source": [
    "Distri_SubBrand_Data.head(3)"
   ]
  },
  {
   "cell_type": "code",
   "execution_count": null,
   "metadata": {},
   "outputs": [],
   "source": [
    "#saving into csv file\n",
    "Distri_SubBrand_Data.to_csv(path_MTB+\"Distri_SubBrand_Data.csv\",index=False)"
   ]
  },
  {
   "cell_type": "markdown",
   "metadata": {},
   "source": [
    "## Distri Brand Avg Sku Monthly"
   ]
  },
  {
   "cell_type": "code",
   "execution_count": null,
   "metadata": {},
   "outputs": [],
   "source": [
    "MTB_Distri=Data_5p[Data_5p[\"ShareBasis\"]==\"MANUAL\"]"
   ]
  },
  {
   "cell_type": "code",
   "execution_count": null,
   "metadata": {},
   "outputs": [],
   "source": [
    "set(MTB_Distri[\"Facts\"])"
   ]
  },
  {
   "cell_type": "markdown",
   "metadata": {},
   "source": [
    "**Filter Data**"
   ]
  },
  {
   "cell_type": "code",
   "execution_count": null,
   "metadata": {},
   "outputs": [],
   "source": [
    "Markets=[\"Ahold\",\"Alb/Sfy\",\"BJs\",\"CVS\",\"Dollar General\",\"Family Dollar\",\"Meijer\",\"Publix\",\n",
    "         \"Rite Aid\",\"Sams\",\"Shoprite\",\"Target\",\"US AOC\",\"US Drug\",\"US Food\",\"Walgreens\",\"Walmart\"]\n",
    "\n",
    "Facts=[\"TDP\"]"
   ]
  },
  {
   "cell_type": "code",
   "execution_count": null,
   "metadata": {},
   "outputs": [],
   "source": [
    "MTB_Distri = MTB_Distri[MTB_Distri[\"Facts\"].isin(Facts)]\n",
    "MTB_Distri = MTB_Distri[MTB_Distri[\"Markets\"].isin(Markets)]"
   ]
  },
  {
   "cell_type": "code",
   "execution_count": null,
   "metadata": {},
   "outputs": [],
   "source": [
    "print(\"Missing Facts ->\",len(Facts)-len(set(MTB_Distri[\"Facts\"])),\"Missing Markets -> \",len(Markets)-len(set(MTB_Distri[\"Markets\"])))"
   ]
  },
  {
   "cell_type": "markdown",
   "metadata": {},
   "source": [
    "**Fact Mapping**"
   ]
  },
  {
   "cell_type": "code",
   "execution_count": null,
   "metadata": {},
   "outputs": [],
   "source": [
    "MTB_Distri[\"Facts\"].replace(Distri_Fact_Mapping,inplace=True)"
   ]
  },
  {
   "cell_type": "code",
   "execution_count": null,
   "metadata": {},
   "outputs": [],
   "source": [
    "MTB_Distri.head()"
   ]
  },
  {
   "cell_type": "markdown",
   "metadata": {},
   "source": [
    "**Column name Change**"
   ]
  },
  {
   "cell_type": "code",
   "execution_count": null,
   "metadata": {},
   "outputs": [],
   "source": [
    "MTB_Distri.rename(columns={\"Markets\":\"MKT\",\"Products\":\"PROD\",\"Manufacturer\":\"CP_MANUFACTURER\",\"ShareBasis\":\"CP_SHARE_BASIS\",\n",
    "                                \"Franchise\":\"CP_FRANCHISE\",\"Brand\":\"CP_BRAND\",\"SubBrand\":\"CP_SUBBRAND\"},inplace=True)"
   ]
  },
  {
   "cell_type": "code",
   "execution_count": null,
   "metadata": {
    "scrolled": true
   },
   "outputs": [],
   "source": [
    "MTB_Distri.head(2)"
   ]
  },
  {
   "cell_type": "code",
   "execution_count": null,
   "metadata": {
    "scrolled": true
   },
   "outputs": [],
   "source": [
    "Time_Period=list(MTB_Distri.columns[25:38])\n",
    "print(Time_Period)"
   ]
  },
  {
   "cell_type": "markdown",
   "metadata": {},
   "source": [
    "**Moving Time Period to Rows and Facts to Columns**"
   ]
  },
  {
   "cell_type": "code",
   "execution_count": null,
   "metadata": {},
   "outputs": [],
   "source": [
    "df1=pd.melt(MTB_Distri, id_vars =[\"MKT\",\"PROD\",\"CP_MANUFACTURER\",\"CP_FRANCHISE\",\"CP_BRAND\",\"CP_SUBBRAND\",\"Facts\",\"CP_SHARE_BASIS\"], value_vars =Time_Period,var_name=\"Time_Period\")\n",
    "\n",
    "df1[\"value\"]=df1[\"value\"].apply(pd.to_numeric)"
   ]
  },
  {
   "cell_type": "code",
   "execution_count": null,
   "metadata": {},
   "outputs": [],
   "source": [
    "df2=df1.pivot_table(index=['MKT','PROD', 'CP_MANUFACTURER', 'CP_FRANCHISE', 'CP_BRAND','CP_SUBBRAND','Time_Period','CP_SHARE_BASIS'],columns='Facts')\n",
    "\n",
    "df2.columns=df2.columns.droplevel().rename(None)\n",
    "df2.reset_index(inplace =True)"
   ]
  },
  {
   "cell_type": "code",
   "execution_count": null,
   "metadata": {},
   "outputs": [],
   "source": [
    "from pandas.api.types import CategoricalDtype\n",
    "\n",
    "Time_Period_order = CategoricalDtype(\n",
    "    Time_Period, \n",
    "    ordered=True\n",
    ")\n",
    "\n",
    "df2['Time_Period'] = df2['Time_Period'].astype(Time_Period_order)\n",
    "\n",
    "df2.sort_values(['MKT','PROD','Time_Period'],inplace=True)"
   ]
  },
  {
   "cell_type": "code",
   "execution_count": null,
   "metadata": {},
   "outputs": [],
   "source": [
    "df2.head()"
   ]
  },
  {
   "cell_type": "code",
   "execution_count": null,
   "metadata": {},
   "outputs": [],
   "source": [
    "final_column_sorting=[\"MKT\",\"PROD\",\"CP_MANUFACTURER\",\"CP_FRANCHISE\",\"CP_BRAND\",\"CP_SUBBRAND\",\"Time_Period\",\"Cum_Distri_Pts\",\n",
    "                      \"CP_SHARE_BASIS\"]\n",
    "MTB_Distri_final=df2[final_column_sorting]"
   ]
  },
  {
   "cell_type": "code",
   "execution_count": null,
   "metadata": {},
   "outputs": [],
   "source": [
    "MTB_Distri_final.head()"
   ]
  },
  {
   "cell_type": "code",
   "execution_count": null,
   "metadata": {},
   "outputs": [],
   "source": [
    "brand_level=MTB_Distri_final.loc[(MTB_Distri_final[\"CP_SUBBRAND\"]==\"\") & (MTB_Distri_final[\"CP_BRAND\"]!=\"\")]\n",
    "cat_level=MTB_Distri_final.loc[(MTB_Distri_final[\"CP_MANUFACTURER\"]==\"\")]\n",
    "MTB_Distri_Brand_and_Cat_Level=pd.concat([cat_level,brand_level],axis=0,ignore_index=True)"
   ]
  },
  {
   "cell_type": "code",
   "execution_count": null,
   "metadata": {},
   "outputs": [],
   "source": [
    "MTB_Distri_Brand_and_Cat_Level.shape"
   ]
  },
  {
   "cell_type": "code",
   "execution_count": null,
   "metadata": {},
   "outputs": [],
   "source": [
    "length= len(MTB_Distri_Brand_and_Cat_Level)\n",
    "MTB_Distri_Brand_and_Cat_Level[\"Record_ID\"]=range(1,length+1)"
   ]
  },
  {
   "cell_type": "code",
   "execution_count": null,
   "metadata": {},
   "outputs": [],
   "source": [
    "#saving into csv file\n",
    "MTB_Distri_Brand_and_Cat_Level.to_csv(path_MTB+\"Distri_brand_avg_skus_monthly.csv\",index=False)"
   ]
  },
  {
   "cell_type": "markdown",
   "metadata": {},
   "source": [
    "## Distri Cat Dollar Share"
   ]
  },
  {
   "cell_type": "code",
   "execution_count": null,
   "metadata": {},
   "outputs": [],
   "source": [
    "MTB_Distri=Data_5p[Data_5p[\"ShareBasis\"]==\"MANUAL\"]"
   ]
  },
  {
   "cell_type": "markdown",
   "metadata": {},
   "source": [
    "**Filter Data**"
   ]
  },
  {
   "cell_type": "code",
   "execution_count": null,
   "metadata": {},
   "outputs": [],
   "source": [
    "set(MTB_Distri[\"Manufacturer\"])"
   ]
  },
  {
   "cell_type": "code",
   "execution_count": null,
   "metadata": {},
   "outputs": [],
   "source": [
    "Markets=[\"Ahold\",\"Alb/Sfy\",\"BJs\",\"CVS\",\"Dollar General\",\"Family Dollar\",\"Meijer\",\"Publix\",\n",
    "         \"Rite Aid\",\"Sams\",\"Shoprite\",\"Target\",\"US AOC\",\"US Drug\",\"US Food\",\"Walgreens\",\"Walmart\"]\n",
    "\n",
    "Facts=[\"$ Shr - CP CATEGORY\"]\n",
    "\n",
    "Manufacturer=['','COLGATE-PALMOLIVE','HIGH RIDGE BRANDS','P&G','PRVT LBL']"
   ]
  },
  {
   "cell_type": "code",
   "execution_count": null,
   "metadata": {},
   "outputs": [],
   "source": [
    "MTB_Distri = MTB_Distri[MTB_Distri[\"Facts\"].isin(Facts)]\n",
    "MTB_Distri = MTB_Distri[MTB_Distri[\"Markets\"].isin(Markets)]\n",
    "MTB_Distri = MTB_Distri[MTB_Distri[\"Manufacturer\"].isin(Manufacturer)]"
   ]
  },
  {
   "cell_type": "code",
   "execution_count": null,
   "metadata": {},
   "outputs": [],
   "source": [
    "print(\"Missing Facts ->\",len(Facts)-len(set(MTB_Distri[\"Facts\"])),\"Missing Markets -> \",len(Markets)-len(set(MTB_Distri[\"Markets\"])))"
   ]
  },
  {
   "cell_type": "markdown",
   "metadata": {},
   "source": [
    "**Fact Mapping**"
   ]
  },
  {
   "cell_type": "code",
   "execution_count": null,
   "metadata": {},
   "outputs": [],
   "source": [
    "MTB_Distri[\"Facts\"].replace(Distri_Fact_Mapping,inplace=True)"
   ]
  },
  {
   "cell_type": "code",
   "execution_count": null,
   "metadata": {},
   "outputs": [],
   "source": [
    "MTB_Distri.head()"
   ]
  },
  {
   "cell_type": "markdown",
   "metadata": {},
   "source": [
    "**Column name Change**"
   ]
  },
  {
   "cell_type": "code",
   "execution_count": null,
   "metadata": {},
   "outputs": [],
   "source": [
    "MTB_Distri.rename(columns={\"Markets\":\"MKT\",\"Products\":\"PROD\",\"Manufacturer\":\"CP_MANUFACTURER\",\"ShareBasis\":\"CP_SHARE_BASIS\",\n",
    "                                \"Franchise\":\"CP_FRANCHISE\",\"Brand\":\"CP_BRAND\",\"SubBrand\":\"CP_SUBBRAND\"},inplace=True)"
   ]
  },
  {
   "cell_type": "code",
   "execution_count": null,
   "metadata": {
    "scrolled": true
   },
   "outputs": [],
   "source": [
    "MTB_Distri.head(2)"
   ]
  },
  {
   "cell_type": "code",
   "execution_count": null,
   "metadata": {
    "scrolled": true
   },
   "outputs": [],
   "source": [
    "Time_Period=list(MTB_Distri.columns[25:38])\n",
    "print(Time_Period)"
   ]
  },
  {
   "cell_type": "markdown",
   "metadata": {},
   "source": [
    "**Moving Time Period to Rows and Facts to Columns**"
   ]
  },
  {
   "cell_type": "code",
   "execution_count": null,
   "metadata": {},
   "outputs": [],
   "source": [
    "df1=pd.melt(MTB_Distri, id_vars =[\"MKT\",\"PROD\",\"CP_MANUFACTURER\",\"CP_FRANCHISE\",\"CP_BRAND\",\"CP_SUBBRAND\",\"Facts\",\"CP_SHARE_BASIS\"], value_vars =Time_Period,var_name=\"Time_Period\")\n",
    "\n",
    "df1[\"value\"]=df1[\"value\"].apply(pd.to_numeric)"
   ]
  },
  {
   "cell_type": "code",
   "execution_count": null,
   "metadata": {},
   "outputs": [],
   "source": [
    "df2=df1.pivot_table(index=['MKT','PROD', 'CP_MANUFACTURER', 'CP_FRANCHISE', 'CP_BRAND','CP_SUBBRAND','Time_Period',\"CP_SHARE_BASIS\"],columns='Facts')\n",
    "\n",
    "df2.columns=df2.columns.droplevel().rename(None)\n",
    "df2.reset_index(inplace =True)"
   ]
  },
  {
   "cell_type": "code",
   "execution_count": null,
   "metadata": {},
   "outputs": [],
   "source": [
    "from pandas.api.types import CategoricalDtype\n",
    "\n",
    "Time_Period_order = CategoricalDtype(\n",
    "    Time_Period, \n",
    "    ordered=True\n",
    ")\n",
    "\n",
    "df2['Time_Period'] = df2['Time_Period'].astype(Time_Period_order)\n",
    "\n",
    "df2.sort_values(['MKT','PROD','Time_Period'],inplace=True)"
   ]
  },
  {
   "cell_type": "code",
   "execution_count": null,
   "metadata": {},
   "outputs": [],
   "source": [
    "df2.head()"
   ]
  },
  {
   "cell_type": "code",
   "execution_count": null,
   "metadata": {},
   "outputs": [],
   "source": [
    "final_column_sorting=[\"MKT\",\"PROD\",\"CP_MANUFACTURER\",\"CP_FRANCHISE\",\"CP_BRAND\",\"CP_SUBBRAND\",\"Time_Period\",\"Doll_Shr\",\"CP_SHARE_BASIS\"\n",
    "                      ]\n",
    "MTB_Distri_final=df2[final_column_sorting]"
   ]
  },
  {
   "cell_type": "code",
   "execution_count": null,
   "metadata": {},
   "outputs": [],
   "source": [
    "MTB_Distri_final.head()"
   ]
  },
  {
   "cell_type": "code",
   "execution_count": null,
   "metadata": {},
   "outputs": [],
   "source": [
    "brand_level=MTB_Distri_final.loc[(MTB_Distri_final[\"CP_SUBBRAND\"]==\"\") & (MTB_Distri_final[\"CP_BRAND\"]!=\"\")]\n",
    "cat_level=MTB_Distri_final.loc[(MTB_Distri_final[\"CP_MANUFACTURER\"]==\"\")]\n",
    "MTB_Distri_Brand_and_Cat_Level=pd.concat([cat_level,brand_level],axis=0,ignore_index=True)"
   ]
  },
  {
   "cell_type": "code",
   "execution_count": null,
   "metadata": {},
   "outputs": [],
   "source": [
    "MTB_Distri_Brand_and_Cat_Level.shape"
   ]
  },
  {
   "cell_type": "code",
   "execution_count": null,
   "metadata": {},
   "outputs": [],
   "source": [
    "length= len(MTB_Distri_Brand_and_Cat_Level)\n",
    "MTB_Distri_Brand_and_Cat_Level[\"Record_ID\"]=range(1,length+1)"
   ]
  },
  {
   "cell_type": "code",
   "execution_count": null,
   "metadata": {},
   "outputs": [],
   "source": [
    "#saving into csv file\n",
    "MTB_Distri_Brand_and_Cat_Level.to_csv(path_MTB+\"Distri_cat_doll_share.csv\",index=False)"
   ]
  },
  {
   "cell_type": "code",
   "execution_count": null,
   "metadata": {},
   "outputs": [],
   "source": []
  },
  {
   "cell_type": "markdown",
   "metadata": {},
   "source": [
    "## PTB"
   ]
  },
  {
   "cell_type": "code",
   "execution_count": null,
   "metadata": {},
   "outputs": [],
   "source": [
    "# path to store Output files\n",
    "path_PTB=\"//falmumapp34/Nielsen Connect Transition & Maintenance (20-SCP-3650)/05. Output Data/5P Output/PTB/\""
   ]
  },
  {
   "cell_type": "code",
   "execution_count": null,
   "metadata": {},
   "outputs": [],
   "source": [
    "PTB_Distri=Data_5p[Data_5p[\"ShareBasis\"].isin([\"POWER\", \"BATTERY+HYBRID\"])]"
   ]
  },
  {
   "cell_type": "code",
   "execution_count": null,
   "metadata": {},
   "outputs": [],
   "source": [
    "set(PTB_Distri[\"ShareBasis\"])"
   ]
  },
  {
   "cell_type": "markdown",
   "metadata": {},
   "source": [
    "**Filter Data**"
   ]
  },
  {
   "cell_type": "code",
   "execution_count": null,
   "metadata": {},
   "outputs": [],
   "source": [
    "Markets=[\"Ahold\",\"Alb/Sfy\",\"CVS\",\"Dollar General\",\"Family Dollar\",\"Kmart\",\"Meijer\",\"Publix\",\n",
    "        \"Rite Aid\",\"Shoprite\",\"Target\",\"US AOC\",\"US Drug\",\"US Food\",\"Walgreens\",\"Walmart\"]\n",
    "Manufacturers =[\"\",\"COLGATE-PALMOLIVE\",\"P&G\",\"PHILIPS\",\"CHURCH & DWIGHT\",\"HIGH RIDGE BRANDS\",\"PRVT LBL\",\"SUNSTAR AMERICA\"]"
   ]
  },
  {
   "cell_type": "code",
   "execution_count": null,
   "metadata": {},
   "outputs": [],
   "source": [
    "PTB_Distri = PTB_Distri[PTB_Distri[\"Facts\"].isin(Distri_Facts)]\n",
    "PTB_Distri = PTB_Distri[PTB_Distri[\"Markets\"].isin(Markets)]\n",
    "PTB_Distri = PTB_Distri[PTB_Distri[\"Manufacturer\"].isin(Manufacturers)]"
   ]
  },
  {
   "cell_type": "code",
   "execution_count": null,
   "metadata": {},
   "outputs": [],
   "source": [
    "print(\"Missing Facts ->\",len(Distri_Facts)-len(set(PTB_Distri[\"Facts\"])),\"Missing Markets -> \",len(Markets)-len(set(PTB_Distri[\"Markets\"])))"
   ]
  },
  {
   "cell_type": "markdown",
   "metadata": {},
   "source": [
    "**Fact Mapping**"
   ]
  },
  {
   "cell_type": "code",
   "execution_count": null,
   "metadata": {},
   "outputs": [],
   "source": [
    "PTB_Distri[\"Facts\"].replace(Distri_Fact_Mapping,inplace=True)"
   ]
  },
  {
   "cell_type": "code",
   "execution_count": null,
   "metadata": {},
   "outputs": [],
   "source": [
    "PTB_Distri.head()"
   ]
  },
  {
   "cell_type": "markdown",
   "metadata": {},
   "source": [
    "**Column name Change**"
   ]
  },
  {
   "cell_type": "code",
   "execution_count": null,
   "metadata": {},
   "outputs": [],
   "source": [
    "PTB_Distri.rename(columns={\"Markets\":\"MKT\",\"Products\":\"PROD\",\"Manufacturer\":\"CP_MANUFACTURER\",\"ShareBasis\":\"CP_BATTERY_HYBRID\",\n",
    "                                \"Franchise\":\"CP_FRANCHISE\",\"Brand\":\"CP_BRAND\",\"SubBrand\":\"CP_SUBBRAND\"},inplace=True)"
   ]
  },
  {
   "cell_type": "code",
   "execution_count": null,
   "metadata": {},
   "outputs": [],
   "source": [
    "PTB_Distri.head()"
   ]
  },
  {
   "cell_type": "code",
   "execution_count": null,
   "metadata": {},
   "outputs": [],
   "source": [
    "set(PTB_Distri[\"PROD\"])"
   ]
  },
  {
   "cell_type": "code",
   "execution_count": null,
   "metadata": {
    "scrolled": true
   },
   "outputs": [],
   "source": [
    "Time_Period=Distri_Time_Period\n",
    "print(Time_Period)"
   ]
  },
  {
   "cell_type": "markdown",
   "metadata": {},
   "source": [
    "**Moving Time Period to Rows and Facts to Columns**"
   ]
  },
  {
   "cell_type": "code",
   "execution_count": null,
   "metadata": {},
   "outputs": [],
   "source": [
    "df1=pd.melt(PTB_Distri, id_vars =[\"MKT\",\"PROD\",\"CP_MANUFACTURER\",\"CP_FRANCHISE\",\"CP_BRAND\",\"CP_SUBBRAND\",\"Facts\",\"CP_BATTERY_HYBRID\"], value_vars =Time_Period,var_name=\"Time_Period\")\n",
    "\n",
    "df1[\"value\"]=df1[\"value\"].apply(pd.to_numeric)"
   ]
  },
  {
   "cell_type": "code",
   "execution_count": null,
   "metadata": {},
   "outputs": [],
   "source": [
    "df2=df1.pivot_table(index=['MKT','PROD', 'CP_MANUFACTURER', 'CP_FRANCHISE', 'CP_BRAND','CP_SUBBRAND','Time_Period','CP_BATTERY_HYBRID'],columns='Facts')\n",
    "\n",
    "df2.columns=df2.columns.droplevel().rename(None)\n",
    "df2.reset_index(inplace =True)"
   ]
  },
  {
   "cell_type": "code",
   "execution_count": null,
   "metadata": {},
   "outputs": [],
   "source": [
    "from pandas.api.types import CategoricalDtype\n",
    "\n",
    "Time_Period_order = CategoricalDtype(\n",
    "    Time_Period, \n",
    "    ordered=True\n",
    ")\n",
    "\n",
    "df2['Time_Period'] = df2['Time_Period'].astype(Time_Period_order)\n",
    "\n",
    "df2.sort_values(['MKT','PROD','Time_Period'],inplace=True)"
   ]
  },
  {
   "cell_type": "code",
   "execution_count": null,
   "metadata": {},
   "outputs": [],
   "source": [
    "df2.head()"
   ]
  },
  {
   "cell_type": "code",
   "execution_count": null,
   "metadata": {},
   "outputs": [],
   "source": [
    "final_column_sorting=[\"MKT\",\"PROD\",\"CP_MANUFACTURER\",\"CP_FRANCHISE\",\"CP_BRAND\",\"CP_SUBBRAND\",\"Time_Period\",\"Doll_Shr\",\n",
    "                      \"Doll_Shr_Chg\",\"Base_Doll_Shr\",\"Base_Doll_Shr_Chg\",\"Store_Selling\",\"Store_Selling_Chg\",\"Doll_Velocity\",\n",
    "                      \"Doll_Velocity_Chg\",\"Cum_Distri_Pts\",\"Cum_Distri_Pts_Chg\",\"Dollars\",\"Dollars_Chg\",\"CP_BATTERY_HYBRID\"\n",
    "                      ]\n",
    "PTB_Distri_final=df2[final_column_sorting]"
   ]
  },
  {
   "cell_type": "code",
   "execution_count": null,
   "metadata": {},
   "outputs": [],
   "source": [
    "PTB_Distri_final[\"CP_BATTERY_HYBRID\"].replace({\"POWER\":\"TOTAL POWER\"}, inplace = True)"
   ]
  },
  {
   "cell_type": "code",
   "execution_count": null,
   "metadata": {
    "scrolled": true
   },
   "outputs": [],
   "source": [
    "PTB_Distri_final.head()"
   ]
  },
  {
   "cell_type": "markdown",
   "metadata": {},
   "source": [
    "### **Distri_Cat_Data**"
   ]
  },
  {
   "cell_type": "code",
   "execution_count": null,
   "metadata": {},
   "outputs": [],
   "source": [
    "Distri_Cat_Data=PTB_Distri_final.loc[(PTB_Distri_final[\"CP_SUBBRAND\"]==\"\") & (PTB_Distri_final[\"CP_BRAND\"]==\"\")&(PTB_Distri_final[\"CP_FRANCHISE\"]==\"\")&(PTB_Distri_final[\"CP_MANUFACTURER\"]==\"\")]"
   ]
  },
  {
   "cell_type": "code",
   "execution_count": null,
   "metadata": {},
   "outputs": [],
   "source": [
    "length= len(Distri_Cat_Data)\n",
    "Distri_Cat_Data[\"Record_ID\"]=Distri_Cat_Data[\"MKT\"]+Distri_Cat_Data[\"CP_BATTERY_HYBRID\"]"
   ]
  },
  {
   "cell_type": "code",
   "execution_count": null,
   "metadata": {},
   "outputs": [],
   "source": [
    "Distri_Cat_Data.head(2)"
   ]
  },
  {
   "cell_type": "code",
   "execution_count": null,
   "metadata": {},
   "outputs": [],
   "source": [
    "#saving into csv file\n",
    "Distri_Cat_Data.to_csv(path_PTB+\"Distri_Cat_Data.csv\",index=False)"
   ]
  },
  {
   "cell_type": "markdown",
   "metadata": {},
   "source": [
    "### **Distri_Manu_Data**"
   ]
  },
  {
   "cell_type": "code",
   "execution_count": null,
   "metadata": {},
   "outputs": [],
   "source": [
    "Distri_Manu_Data=PTB_Distri_final.loc[(PTB_Distri_final[\"CP_SUBBRAND\"]==\"\") & (PTB_Distri_final[\"CP_BRAND\"]==\"\")&(PTB_Distri_final[\"CP_FRANCHISE\"]==\"\")&(PTB_Distri_final[\"CP_MANUFACTURER\"]!=\"\")]"
   ]
  },
  {
   "cell_type": "code",
   "execution_count": null,
   "metadata": {},
   "outputs": [],
   "source": [
    "length= len(Distri_Manu_Data)\n",
    "Distri_Manu_Data[\"Record_ID\"]=Distri_Manu_Data[\"CP_MANUFACTURER\"]+Distri_Manu_Data[\"CP_BATTERY_HYBRID\"]"
   ]
  },
  {
   "cell_type": "code",
   "execution_count": null,
   "metadata": {},
   "outputs": [],
   "source": [
    "Distri_Manu_Data.head(2)"
   ]
  },
  {
   "cell_type": "code",
   "execution_count": null,
   "metadata": {},
   "outputs": [],
   "source": [
    "#saving into csv file\n",
    "Distri_Manu_Data.to_csv(path_PTB+\"Distri_Manu_Data.csv\",index=False)"
   ]
  },
  {
   "cell_type": "markdown",
   "metadata": {},
   "source": [
    "### **Distri_Fran_Data**"
   ]
  },
  {
   "cell_type": "code",
   "execution_count": null,
   "metadata": {},
   "outputs": [],
   "source": [
    "Distri_Fran_Data=PTB_Distri_final.loc[(PTB_Distri_final[\"CP_SUBBRAND\"]==\"\") & (PTB_Distri_final[\"CP_BRAND\"]==\"\")&(PTB_Distri_final[\"CP_FRANCHISE\"]!=\"\")]"
   ]
  },
  {
   "cell_type": "code",
   "execution_count": null,
   "metadata": {},
   "outputs": [],
   "source": [
    "length= len(Distri_Fran_Data)\n",
    "Distri_Fran_Data[\"Record_ID\"]=Distri_Fran_Data[\"CP_FRANCHISE\"]+Distri_Fran_Data[\"CP_BATTERY_HYBRID\"]"
   ]
  },
  {
   "cell_type": "code",
   "execution_count": null,
   "metadata": {},
   "outputs": [],
   "source": [
    "Distri_Fran_Data.head(3)"
   ]
  },
  {
   "cell_type": "code",
   "execution_count": null,
   "metadata": {},
   "outputs": [],
   "source": [
    "#saving into csv file\n",
    "Distri_Fran_Data.to_csv(path_PTB+\"Distri_Fran_Data.csv\",index=False)"
   ]
  },
  {
   "cell_type": "markdown",
   "metadata": {},
   "source": [
    "### **Distri_Brand_Data**"
   ]
  },
  {
   "cell_type": "code",
   "execution_count": null,
   "metadata": {},
   "outputs": [],
   "source": [
    "Distri_Brand_Data=PTB_Distri_final.loc[(PTB_Distri_final[\"CP_SUBBRAND\"]==\"\") & (PTB_Distri_final[\"CP_BRAND\"]!=\"\")]"
   ]
  },
  {
   "cell_type": "code",
   "execution_count": null,
   "metadata": {},
   "outputs": [],
   "source": [
    "length= len(Distri_Brand_Data)\n",
    "Distri_Brand_Data[\"Record_ID\"]=Distri_Brand_Data[\"CP_BRAND\"]+Distri_Brand_Data[\"CP_BATTERY_HYBRID\"]"
   ]
  },
  {
   "cell_type": "code",
   "execution_count": null,
   "metadata": {},
   "outputs": [],
   "source": [
    "Distri_Brand_Data.head(3)"
   ]
  },
  {
   "cell_type": "code",
   "execution_count": null,
   "metadata": {},
   "outputs": [],
   "source": [
    "#saving into csv file\n",
    "Distri_Brand_Data.to_csv(path_PTB+\"Distri_Brand_Data.csv\",index=False)"
   ]
  },
  {
   "cell_type": "markdown",
   "metadata": {},
   "source": [
    "### **Distri_SubBrand_Data**"
   ]
  },
  {
   "cell_type": "code",
   "execution_count": null,
   "metadata": {},
   "outputs": [],
   "source": [
    "Distri_SubBrand_Data=PTB_Distri_final.loc[(PTB_Distri_final[\"CP_SUBBRAND\"]!=\"\")]"
   ]
  },
  {
   "cell_type": "code",
   "execution_count": null,
   "metadata": {},
   "outputs": [],
   "source": [
    "length= len(Distri_SubBrand_Data)\n",
    "Distri_SubBrand_Data[\"Record_ID\"]=range(1,length+1)"
   ]
  },
  {
   "cell_type": "code",
   "execution_count": null,
   "metadata": {},
   "outputs": [],
   "source": [
    "Distri_SubBrand_Data.head(3)"
   ]
  },
  {
   "cell_type": "code",
   "execution_count": null,
   "metadata": {},
   "outputs": [],
   "source": [
    "#saving into csv file\n",
    "Distri_SubBrand_Data.to_csv(path_PTB+\"Distri_SubBrand_Data.csv\",index=False)"
   ]
  },
  {
   "cell_type": "markdown",
   "metadata": {},
   "source": [
    "## Distri Brand Avg Sku Monthly"
   ]
  },
  {
   "cell_type": "code",
   "execution_count": null,
   "metadata": {},
   "outputs": [],
   "source": [
    "PTB_Distri=Data_5p[Data_5p[\"ShareBasis\"].isin([\"POWER\",\"BATTERY+HYBRID\"])]"
   ]
  },
  {
   "cell_type": "code",
   "execution_count": null,
   "metadata": {},
   "outputs": [],
   "source": [
    "PTB_Distri.columns"
   ]
  },
  {
   "cell_type": "code",
   "execution_count": null,
   "metadata": {},
   "outputs": [],
   "source": [
    "set(PTB_Distri[\"ShareBasis\"])"
   ]
  },
  {
   "cell_type": "code",
   "execution_count": null,
   "metadata": {},
   "outputs": [],
   "source": [
    "PTB_Distri[\"ShareBasis\"] = PTB_Distri[\"ShareBasis\"].str.replace(\"POWER\", \"TOTAL POWER\")"
   ]
  },
  {
   "cell_type": "markdown",
   "metadata": {},
   "source": [
    "**Filter Data**"
   ]
  },
  {
   "cell_type": "code",
   "execution_count": null,
   "metadata": {},
   "outputs": [],
   "source": [
    "Markets=[\"Ahold\",\"Alb/Sfy\",\"CVS\",\"Dollar General\",\"Family Dollar\",\"Kmart\",\"Meijer\",\"Publix\",\n",
    "         \"Rite Aid\",\"Shoprite\",\"Target\",\"US AOC\",\"US Drug\",\"US Food\",\"Walgreens\",\"Walmart\"]\n",
    "\n",
    "Facts=[\"TDP\"]\n",
    "\n",
    "Manufacturer=['','CHURCH & DWIGHT','COLGATE-PALMOLIVE','HIGH RIDGE BRANDS','P&G','PHILIPS','PRVT LBL','SUNSTAR AMERICA']"
   ]
  },
  {
   "cell_type": "code",
   "execution_count": null,
   "metadata": {},
   "outputs": [],
   "source": [
    "PTB_Distri = PTB_Distri[PTB_Distri[\"Facts\"].isin(Facts)]\n",
    "PTB_Distri = PTB_Distri[PTB_Distri[\"Markets\"].isin(Markets)]\n",
    "PTB_Distri = PTB_Distri[PTB_Distri[\"Manufacturer\"].isin(Manufacturer)]"
   ]
  },
  {
   "cell_type": "code",
   "execution_count": null,
   "metadata": {},
   "outputs": [],
   "source": [
    "print(\"Missing Facts ->\",len(Facts)-len(set(PTB_Distri[\"Facts\"])),\"Missing Markets -> \",len(Markets)-len(set(PTB_Distri[\"Markets\"])))"
   ]
  },
  {
   "cell_type": "markdown",
   "metadata": {},
   "source": [
    "**Fact Mapping**"
   ]
  },
  {
   "cell_type": "code",
   "execution_count": null,
   "metadata": {},
   "outputs": [],
   "source": [
    "PTB_Distri[\"Facts\"].replace(Distri_Fact_Mapping,inplace=True)"
   ]
  },
  {
   "cell_type": "code",
   "execution_count": null,
   "metadata": {},
   "outputs": [],
   "source": [
    "PTB_Distri.head()"
   ]
  },
  {
   "cell_type": "markdown",
   "metadata": {},
   "source": [
    "**Column name Change**"
   ]
  },
  {
   "cell_type": "code",
   "execution_count": null,
   "metadata": {},
   "outputs": [],
   "source": [
    "PTB_Distri.rename(columns={\"Markets\":\"MKT\",\"Products\":\"PROD\",\"Manufacturer\":\"CP_MANUFACTURER\",\"ShareBasis\":\"CP_BATTERY_HYBRID\",\n",
    "                                \"Franchise\":\"CP_FRANCHISE\",\"Brand\":\"CP_BRAND\",\"SubBrand\":\"CP_SUBBRAND\"},inplace=True)"
   ]
  },
  {
   "cell_type": "code",
   "execution_count": null,
   "metadata": {
    "scrolled": true
   },
   "outputs": [],
   "source": [
    "PTB_Distri.head(2)"
   ]
  },
  {
   "cell_type": "code",
   "execution_count": null,
   "metadata": {
    "scrolled": true
   },
   "outputs": [],
   "source": [
    "Time_Period=list(PTB_Distri.columns[25:38])\n",
    "print(Time_Period)"
   ]
  },
  {
   "cell_type": "markdown",
   "metadata": {},
   "source": [
    "**Moving Time Period to Rows and Facts to Columns**"
   ]
  },
  {
   "cell_type": "code",
   "execution_count": null,
   "metadata": {},
   "outputs": [],
   "source": [
    "df1=pd.melt(PTB_Distri, id_vars =[\"MKT\",\"PROD\",\"CP_MANUFACTURER\",\"CP_FRANCHISE\",\"CP_BRAND\",\"CP_SUBBRAND\",\"Facts\",\"CP_BATTERY_HYBRID\"], value_vars =Time_Period,var_name=\"Time_Period\")\n",
    "\n",
    "df1[\"value\"]=df1[\"value\"].apply(pd.to_numeric)"
   ]
  },
  {
   "cell_type": "code",
   "execution_count": null,
   "metadata": {},
   "outputs": [],
   "source": [
    "df2=df1.pivot_table(index=['MKT','PROD', 'CP_MANUFACTURER', 'CP_FRANCHISE', 'CP_BRAND','CP_SUBBRAND','Time_Period','CP_BATTERY_HYBRID'],columns='Facts')\n",
    "\n",
    "df2.columns=df2.columns.droplevel().rename(None)\n",
    "df2.reset_index(inplace =True)"
   ]
  },
  {
   "cell_type": "code",
   "execution_count": null,
   "metadata": {},
   "outputs": [],
   "source": [
    "from pandas.api.types import CategoricalDtype\n",
    "\n",
    "Time_Period_order = CategoricalDtype(\n",
    "    Time_Period, \n",
    "    ordered=True\n",
    ")\n",
    "\n",
    "df2['Time_Period'] = df2['Time_Period'].astype(Time_Period_order)\n",
    "\n",
    "df2.sort_values(['MKT','PROD','CP_BATTERY_HYBRID','Time_Period'],inplace=True)"
   ]
  },
  {
   "cell_type": "code",
   "execution_count": null,
   "metadata": {},
   "outputs": [],
   "source": [
    "df2.head()"
   ]
  },
  {
   "cell_type": "code",
   "execution_count": null,
   "metadata": {},
   "outputs": [],
   "source": [
    "final_column_sorting=[\"MKT\",\"PROD\",\"CP_MANUFACTURER\",\"CP_FRANCHISE\",\"CP_BRAND\",\"CP_SUBBRAND\",\"Time_Period\",\"Cum_Distri_Pts\",\n",
    "                      \"CP_BATTERY_HYBRID\"]\n",
    "PTB_Distri_final=df2[final_column_sorting]"
   ]
  },
  {
   "cell_type": "code",
   "execution_count": null,
   "metadata": {},
   "outputs": [],
   "source": [
    "PTB_Distri_final.head()"
   ]
  },
  {
   "cell_type": "code",
   "execution_count": null,
   "metadata": {},
   "outputs": [],
   "source": [
    "brand_level=PTB_Distri_final.loc[(PTB_Distri_final[\"CP_SUBBRAND\"]==\"\") & (PTB_Distri_final[\"CP_BRAND\"]!=\"\")]\n",
    "cat_level=PTB_Distri_final.loc[(PTB_Distri_final[\"CP_MANUFACTURER\"]==\"\")]\n",
    "PTB_Distri_Brand_and_Cat_Level=pd.concat([brand_level,cat_level],axis=0,ignore_index=True)"
   ]
  },
  {
   "cell_type": "code",
   "execution_count": null,
   "metadata": {},
   "outputs": [],
   "source": [
    "from pandas.api.types import CategoricalDtype\n",
    "\n",
    "Time_Period_order = CategoricalDtype(\n",
    "    Time_Period, \n",
    "    ordered=True\n",
    ")\n",
    "\n",
    "df2['Time_Period'] = df2['Time_Period'].astype(Time_Period_order)\n",
    "\n",
    "df2.sort_values(['MKT','PROD','CP_BATTERY_HYBRID','Time_Period'],inplace=True)"
   ]
  },
  {
   "cell_type": "code",
   "execution_count": null,
   "metadata": {},
   "outputs": [],
   "source": [
    "PTB_Distri_Brand_and_Cat_Level.shape"
   ]
  },
  {
   "cell_type": "code",
   "execution_count": null,
   "metadata": {},
   "outputs": [],
   "source": [
    "PTB_Distri_Brand_and_Cat_Level[\"CP_BATTERY_HYBRID\"].replace({\"POWER\", \"TOTAL POWER\"}, inplace = True)"
   ]
  },
  {
   "cell_type": "code",
   "execution_count": null,
   "metadata": {},
   "outputs": [],
   "source": [
    "length= len(PTB_Distri_Brand_and_Cat_Level)\n",
    "PTB_Distri_Brand_and_Cat_Level[\"Record_ID\"]=range(1,length+1)"
   ]
  },
  {
   "cell_type": "code",
   "execution_count": null,
   "metadata": {},
   "outputs": [],
   "source": [
    "#saving into csv file\n",
    "PTB_Distri_Brand_and_Cat_Level.to_csv(path_PTB+\"Distri_brand_avg_skus_monthly.csv\",index=False)"
   ]
  },
  {
   "cell_type": "markdown",
   "metadata": {},
   "source": [
    "## Distri Cat Dollar Share"
   ]
  },
  {
   "cell_type": "code",
   "execution_count": null,
   "metadata": {},
   "outputs": [],
   "source": [
    "PTB_Distri=Data_5p[Data_5p[\"ShareBasis\"].isin([\"POWER\",\"BATTERY+HYBRID\"])]"
   ]
  },
  {
   "cell_type": "markdown",
   "metadata": {},
   "source": [
    "**Filter Data**"
   ]
  },
  {
   "cell_type": "code",
   "execution_count": null,
   "metadata": {},
   "outputs": [],
   "source": [
    "set(PTB_Distri[\"Manufacturer\"])"
   ]
  },
  {
   "cell_type": "code",
   "execution_count": null,
   "metadata": {},
   "outputs": [],
   "source": [
    "Markets=[\"Ahold\",\"Alb/Sfy\",\"CVS\",\"Dollar General\",\"Family Dollar\",\"Kmart\",\"Meijer\",\"Publix\",\n",
    "         \"Rite Aid\",\"Shoprite\",\"Target\",\"US AOC\",\"US Drug\",\"US Food\",\"Walgreens\",\"Walmart\"]\n",
    "\n",
    "Facts=[\"$ Shr - CP CATEGORY\"]\n",
    "\n",
    "#Manufacturer=[\"\",\"COLGATE-PALMOLIVE\",\"P&G\",\"GSK\",\"SANOFI\",\"DR BRONNERS\"]\n",
    "Manufacturer=['','CHURCH & DWIGHT','COLGATE-PALMOLIVE','HIGH RIDGE BRANDS','P&G','PHILIPS','PRVT LBL','SUNSTAR AMERICA']"
   ]
  },
  {
   "cell_type": "code",
   "execution_count": null,
   "metadata": {},
   "outputs": [],
   "source": [
    "PTB_Distri = PTB_Distri[PTB_Distri[\"Facts\"].isin(Facts)]\n",
    "PTB_Distri = PTB_Distri[PTB_Distri[\"Markets\"].isin(Markets)]\n",
    "PTB_Distri = PTB_Distri[PTB_Distri[\"Manufacturer\"].isin(Manufacturer)]"
   ]
  },
  {
   "cell_type": "code",
   "execution_count": null,
   "metadata": {},
   "outputs": [],
   "source": [
    "print(\"Missing Facts ->\",len(Facts)-len(set(PTB_Distri[\"Facts\"])),\"Missing Markets -> \",len(Markets)-len(set(PTB_Distri[\"Markets\"])))"
   ]
  },
  {
   "cell_type": "markdown",
   "metadata": {},
   "source": [
    "**Fact Mapping**"
   ]
  },
  {
   "cell_type": "code",
   "execution_count": null,
   "metadata": {},
   "outputs": [],
   "source": [
    "PTB_Distri[\"Facts\"].replace(Distri_Fact_Mapping,inplace=True)"
   ]
  },
  {
   "cell_type": "code",
   "execution_count": null,
   "metadata": {},
   "outputs": [],
   "source": [
    "PTB_Distri.head()"
   ]
  },
  {
   "cell_type": "markdown",
   "metadata": {},
   "source": [
    "**Column name Change**"
   ]
  },
  {
   "cell_type": "code",
   "execution_count": null,
   "metadata": {},
   "outputs": [],
   "source": [
    "PTB_Distri.rename(columns={\"Markets\":\"MKT\",\"Products\":\"PROD\",\"Manufacturer\":\"CP_MANUFACTURER\",\"ShareBasis\":\"CP_BATTERY_HYBRID\",\n",
    "                                \"Franchise\":\"CP_FRANCHISE\",\"Brand\":\"CP_BRAND\",\"SubBrand\":\"CP_SUBBRAND\"},inplace=True)"
   ]
  },
  {
   "cell_type": "code",
   "execution_count": null,
   "metadata": {
    "scrolled": true
   },
   "outputs": [],
   "source": [
    "PTB_Distri.head(2)"
   ]
  },
  {
   "cell_type": "code",
   "execution_count": null,
   "metadata": {
    "scrolled": true
   },
   "outputs": [],
   "source": [
    "Time_Period=list(PTB_Distri.columns[25:38])\n",
    "print(Time_Period)"
   ]
  },
  {
   "cell_type": "markdown",
   "metadata": {},
   "source": [
    "**Moving Time Period to Rows and Facts to Columns**"
   ]
  },
  {
   "cell_type": "code",
   "execution_count": null,
   "metadata": {},
   "outputs": [],
   "source": [
    "df1=pd.melt(PTB_Distri, id_vars =[\"MKT\",\"PROD\",\"CP_MANUFACTURER\",\"CP_FRANCHISE\",\"CP_BRAND\",\"CP_SUBBRAND\",\"Facts\",\"CP_BATTERY_HYBRID\"], value_vars =Time_Period,var_name=\"Time_Period\")\n",
    "\n",
    "df1[\"value\"]=df1[\"value\"].apply(pd.to_numeric)"
   ]
  },
  {
   "cell_type": "code",
   "execution_count": null,
   "metadata": {},
   "outputs": [],
   "source": [
    "df2=df1.pivot_table(index=['MKT','PROD', 'CP_MANUFACTURER', 'CP_FRANCHISE', 'CP_BRAND','CP_SUBBRAND','Time_Period',\"CP_BATTERY_HYBRID\"],columns='Facts')\n",
    "\n",
    "df2.columns=df2.columns.droplevel().rename(None)\n",
    "df2.reset_index(inplace =True)"
   ]
  },
  {
   "cell_type": "code",
   "execution_count": null,
   "metadata": {},
   "outputs": [],
   "source": [
    "from pandas.api.types import CategoricalDtype\n",
    "\n",
    "Time_Period_order = CategoricalDtype(\n",
    "    Time_Period, \n",
    "    ordered=True\n",
    ")\n",
    "\n",
    "df2['Time_Period'] = df2['Time_Period'].astype(Time_Period_order)\n",
    "\n",
    "df2.sort_values(['MKT','PROD','Time_Period'],inplace=True)"
   ]
  },
  {
   "cell_type": "code",
   "execution_count": null,
   "metadata": {},
   "outputs": [],
   "source": [
    "df2.head()"
   ]
  },
  {
   "cell_type": "code",
   "execution_count": null,
   "metadata": {},
   "outputs": [],
   "source": [
    "final_column_sorting=[\"MKT\",\"PROD\",\"CP_MANUFACTURER\",\"CP_FRANCHISE\",\"CP_BRAND\",\"CP_SUBBRAND\",\"Time_Period\",\"Doll_Shr\",\"CP_BATTERY_HYBRID\"\n",
    "                      ]\n",
    "PTB_Distri_final=df2[final_column_sorting]"
   ]
  },
  {
   "cell_type": "code",
   "execution_count": null,
   "metadata": {},
   "outputs": [],
   "source": [
    "PTB_Distri_final[\"CP_BATTERY_HYBRID\"].replace({\"POWER\":\"TOTAL POWER\"},inplace = True)"
   ]
  },
  {
   "cell_type": "code",
   "execution_count": null,
   "metadata": {
    "scrolled": true
   },
   "outputs": [],
   "source": [
    "PTB_Distri_final.head()"
   ]
  },
  {
   "cell_type": "code",
   "execution_count": null,
   "metadata": {},
   "outputs": [],
   "source": [
    "brand_level=PTB_Distri_final.loc[(PTB_Distri_final[\"CP_SUBBRAND\"]==\"\") & (PTB_Distri_final[\"CP_BRAND\"]!=\"\")]\n",
    "cat_level=PTB_Distri_final.loc[(PTB_Distri_final[\"CP_MANUFACTURER\"]==\"\")]\n",
    "PTB_Distri_Brand_and_Cat_Level=pd.concat([cat_level,brand_level],axis=0,ignore_index=True)"
   ]
  },
  {
   "cell_type": "code",
   "execution_count": null,
   "metadata": {},
   "outputs": [],
   "source": [
    "PTB_Distri_Brand_and_Cat_Level.shape"
   ]
  },
  {
   "cell_type": "code",
   "execution_count": null,
   "metadata": {},
   "outputs": [],
   "source": [
    "length= len(PTB_Distri_Brand_and_Cat_Level)\n",
    "PTB_Distri_Brand_and_Cat_Level[\"Record_ID\"]=range(1,length+1)"
   ]
  },
  {
   "cell_type": "code",
   "execution_count": null,
   "metadata": {},
   "outputs": [],
   "source": [
    "#saving into csv file\n",
    "PTB_Distri_Brand_and_Cat_Level.to_csv(path_PTB+\"Distri_cat_doll_share.csv\",index=False)"
   ]
  },
  {
   "cell_type": "code",
   "execution_count": null,
   "metadata": {},
   "outputs": [],
   "source": []
  },
  {
   "cell_type": "code",
   "execution_count": null,
   "metadata": {},
   "outputs": [],
   "source": []
  },
  {
   "cell_type": "markdown",
   "metadata": {},
   "source": [
    "## LHS"
   ]
  },
  {
   "cell_type": "code",
   "execution_count": null,
   "metadata": {},
   "outputs": [],
   "source": [
    "# path to store Output files\n",
    "path_LHS=\"//falmumapp34/Nielsen Connect Transition & Maintenance (20-SCP-3650)/05. Output Data/5P Output/LHS/\""
   ]
  },
  {
   "cell_type": "code",
   "execution_count": null,
   "metadata": {},
   "outputs": [],
   "source": [
    "LHS_Distri=Data_5p[Data_5p[\"ShareBasis\"]==\"LIQUID\"]"
   ]
  },
  {
   "cell_type": "code",
   "execution_count": null,
   "metadata": {},
   "outputs": [],
   "source": [
    "LHS_Distri[['ShareBasis','Franchise','Container','Brand','SubBrand']] = LHS_Distri['Products'].str.split('|',n=4,expand=True)\n",
    "LHS_Distri.head(3)"
   ]
  },
  {
   "cell_type": "code",
   "execution_count": null,
   "metadata": {},
   "outputs": [],
   "source": [
    "LHS_Distri[[\"ShareBasis\",\"Franchise\",\"Brand\",\"SubBrand\",\"Container\"]]=LHS_Distri[[\"ShareBasis\",\"Franchise\",\"Brand\",\"SubBrand\",\"Container\"]].fillna(value=\"\")\n",
    "LHS_Distri.head(3)"
   ]
  },
  {
   "cell_type": "code",
   "execution_count": null,
   "metadata": {},
   "outputs": [],
   "source": [
    "LHS_Distri = movecol(LHS_Distri, \n",
    "             cols_to_move=['Container'], \n",
    "             ref_col='Franchise',\n",
    "             place='After')\n",
    "LHS_Distri.head(3)"
   ]
  },
  {
   "cell_type": "code",
   "execution_count": null,
   "metadata": {},
   "outputs": [],
   "source": [
    "cols=list(LHS_Distri.columns[0:9])\n",
    "LHS_Distri[cols]=LHS_Distri[cols].apply(lambda x : x.str.strip())\n",
    "set(LHS_Distri[\"Container\"])"
   ]
  },
  {
   "cell_type": "code",
   "execution_count": null,
   "metadata": {},
   "outputs": [],
   "source": [
    "LHS_Distri = LHS_Distri[LHS_Distri[\"Container\"].isin([\"\",\"PUMP\",\"REFILL\"])]"
   ]
  },
  {
   "cell_type": "code",
   "execution_count": null,
   "metadata": {},
   "outputs": [],
   "source": [
    "Data_5p.columns"
   ]
  },
  {
   "cell_type": "markdown",
   "metadata": {},
   "source": [
    "**Filter Data**"
   ]
  },
  {
   "cell_type": "code",
   "execution_count": null,
   "metadata": {},
   "outputs": [],
   "source": [
    "Markets=[\"Ahold\",\"Alb/Sfy\",\"BJs\",\"CVS\",\"Dollar General\",\"Family Dollar\",\"Meijer\",\"Publix\",\n",
    "        \"Rite Aid\",\"Sams\",\"Shoprite\",\"Target\",\"US AOC\",\"US Drug\",\"US Food\",\"Walgreens\",\"Walmart\"]"
   ]
  },
  {
   "cell_type": "code",
   "execution_count": null,
   "metadata": {},
   "outputs": [],
   "source": [
    "LHS_Distri = LHS_Distri[LHS_Distri[\"Facts\"].isin(Distri_Facts)]\n",
    "LHS_Distri = LHS_Distri[LHS_Distri[\"Markets\"].isin(Markets)]"
   ]
  },
  {
   "cell_type": "code",
   "execution_count": null,
   "metadata": {},
   "outputs": [],
   "source": [
    "print(\"Missing Facts ->\",len(Distri_Facts)-len(set(LHS_Distri[\"Facts\"])),\"Missing Markets -> \",len(Markets)-len(set(LHS_Distri[\"Markets\"])))"
   ]
  },
  {
   "cell_type": "markdown",
   "metadata": {},
   "source": [
    "**Fact Mapping**"
   ]
  },
  {
   "cell_type": "code",
   "execution_count": null,
   "metadata": {},
   "outputs": [],
   "source": [
    "LHS_Distri[\"Facts\"].replace(Distri_Fact_Mapping,inplace=True)"
   ]
  },
  {
   "cell_type": "code",
   "execution_count": null,
   "metadata": {},
   "outputs": [],
   "source": [
    "set(LHS_Distri[\"Facts\"])"
   ]
  },
  {
   "cell_type": "code",
   "execution_count": null,
   "metadata": {},
   "outputs": [],
   "source": [
    "set(LHS_Distri[\"Franchise\"])"
   ]
  },
  {
   "cell_type": "code",
   "execution_count": null,
   "metadata": {},
   "outputs": [],
   "source": [
    "LHS_Distri[\"Frn\"] = \"\"\n",
    "for i in range(0,len(LHS_Distri)):\n",
    "    if LHS_Distri[\"Container\"].iloc[i] == \"\":\n",
    "        LHS_Distri[\"Frn\"].iloc[i] = \"\"\n",
    "    else:\n",
    "        LHS_Distri[\"Frn\"].iloc[i] = LHS_Distri[\"Franchise\"].iloc[i] +\" \"+LHS_Distri[\"Container\"].iloc[i]"
   ]
  },
  {
   "cell_type": "code",
   "execution_count": null,
   "metadata": {},
   "outputs": [],
   "source": [
    "LHS_Distri[\"Brn\"] = \"\"\n",
    "for i in range(0,len(LHS_Distri)):\n",
    "    if LHS_Distri[\"Brand\"].iloc[i] == \"\":\n",
    "        LHS_Distri[\"Brn\"].iloc[i] = \"\"\n",
    "    else:\n",
    "        LHS_Distri[\"Brn\"].iloc[i] = LHS_Distri[\"Brand\"].iloc[i] +\" \"+LHS_Distri[\"Container\"].iloc[i]"
   ]
  },
  {
   "cell_type": "code",
   "execution_count": null,
   "metadata": {},
   "outputs": [],
   "source": [
    "LHS_Distri[\"SubBrn\"] = \"\"\n",
    "for i in range(0,len(LHS_Distri)):\n",
    "    if LHS_Distri[\"SubBrand\"].iloc[i] == \"\":\n",
    "        LHS_Distri[\"SubBrn\"].iloc[i] = \"\"\n",
    "    else:\n",
    "        LHS_Distri[\"SubBrn\"].iloc[i] = LHS_Distri[\"SubBrand\"].iloc[i] +\" \"+LHS_Distri[\"Container\"].iloc[i]"
   ]
  },
  {
   "cell_type": "code",
   "execution_count": null,
   "metadata": {},
   "outputs": [],
   "source": [
    "LHS_Distri['Manufacturer'] = LHS_Distri['Franchise']\n",
    "LHS_Distri['Franchise'] = LHS_Distri['Frn']\n",
    "LHS_Distri['Brand'] = LHS_Distri['Brn']\n",
    "LHS_Distri['SubBrand'] = LHS_Distri['SubBrn']"
   ]
  },
  {
   "cell_type": "code",
   "execution_count": null,
   "metadata": {},
   "outputs": [],
   "source": [
    "del LHS_Distri[\"Frn\"]"
   ]
  },
  {
   "cell_type": "code",
   "execution_count": null,
   "metadata": {},
   "outputs": [],
   "source": [
    "del LHS_Distri['Container']"
   ]
  },
  {
   "cell_type": "code",
   "execution_count": null,
   "metadata": {},
   "outputs": [],
   "source": [
    "set(LHS_Distri[\"Manufacturer\"])"
   ]
  },
  {
   "cell_type": "code",
   "execution_count": null,
   "metadata": {},
   "outputs": [],
   "source": [
    "Manufacturer = [\"\",\"SOFTSOAP\",\"DIAL\",\"TOMS OF MAINE\",\"SAFEGUARD\",\"METHOD\",\"MRS MEYERS\",\"PRVT LBL\",\"JR WATKINS\",\"DOVE\",\"LOVE BEAUTY AND PLANET\",\"SUAVE\",\"SEVENTH GEN\",\"LIFEBUOY\"]"
   ]
  },
  {
   "cell_type": "code",
   "execution_count": null,
   "metadata": {},
   "outputs": [],
   "source": [
    "LHS_Distri = LHS_Distri[LHS_Distri[\"Manufacturer\"].isin(Manufacturer)]"
   ]
  },
  {
   "cell_type": "markdown",
   "metadata": {},
   "source": [
    "**Column name Change**"
   ]
  },
  {
   "cell_type": "code",
   "execution_count": null,
   "metadata": {},
   "outputs": [],
   "source": [
    "LHS_Distri.rename(columns={\"Markets\":\"MKT\",\"Products\":\"PROD\",\"Manufacturer\":\"CP_MANUFACTURER\",\"ShareBasis\":\"CP_SHARE_BASIS\",\n",
    "                                \"Franchise\":\"CP_FRANCHISE\",\"Brand\":\"CP_BRAND\",\"SubBrand\":\"CP_SUBBRAND\"},inplace=True)"
   ]
  },
  {
   "cell_type": "code",
   "execution_count": null,
   "metadata": {},
   "outputs": [],
   "source": [
    "LHS_Distri.head()"
   ]
  },
  {
   "cell_type": "code",
   "execution_count": null,
   "metadata": {},
   "outputs": [],
   "source": [
    "set(LHS_Distri[\"PROD\"])"
   ]
  },
  {
   "cell_type": "code",
   "execution_count": null,
   "metadata": {
    "scrolled": true
   },
   "outputs": [],
   "source": [
    "Time_Period=Distri_Time_Period\n",
    "print(Time_Period)"
   ]
  },
  {
   "cell_type": "code",
   "execution_count": null,
   "metadata": {},
   "outputs": [],
   "source": [
    "LHS_Distri_common = LHS_Distri"
   ]
  },
  {
   "cell_type": "markdown",
   "metadata": {},
   "source": [
    "**Moving Time Period to Rows and Facts to Columns**"
   ]
  },
  {
   "cell_type": "code",
   "execution_count": null,
   "metadata": {},
   "outputs": [],
   "source": [
    "df1=pd.melt(LHS_Distri, id_vars =[\"MKT\",\"PROD\",\"CP_MANUFACTURER\",\"CP_FRANCHISE\",\"CP_BRAND\",\"CP_SUBBRAND\",\"Facts\",\"CP_SHARE_BASIS\"], value_vars =Time_Period,var_name=\"Time_Period\")\n",
    "\n",
    "df1[\"value\"]=df1[\"value\"].apply(pd.to_numeric)"
   ]
  },
  {
   "cell_type": "code",
   "execution_count": null,
   "metadata": {},
   "outputs": [],
   "source": [
    "df2=df1.pivot_table(index=['MKT','PROD', 'CP_MANUFACTURER', 'CP_FRANCHISE', 'CP_BRAND','CP_SUBBRAND','Time_Period','CP_SHARE_BASIS'],columns='Facts')\n",
    "\n",
    "df2.columns=df2.columns.droplevel().rename(None)\n",
    "df2.reset_index(inplace =True)"
   ]
  },
  {
   "cell_type": "code",
   "execution_count": null,
   "metadata": {},
   "outputs": [],
   "source": [
    "from pandas.api.types import CategoricalDtype\n",
    "\n",
    "Time_Period_order = CategoricalDtype(\n",
    "    Time_Period, \n",
    "    ordered=True\n",
    ")\n",
    "\n",
    "df2['Time_Period'] = df2['Time_Period'].astype(Time_Period_order)\n",
    "\n",
    "df2.sort_values(['MKT','PROD','Time_Period'],inplace=True)"
   ]
  },
  {
   "cell_type": "code",
   "execution_count": null,
   "metadata": {},
   "outputs": [],
   "source": [
    "df2.head()"
   ]
  },
  {
   "cell_type": "code",
   "execution_count": null,
   "metadata": {},
   "outputs": [],
   "source": [
    "final_column_sorting=[\"MKT\",\"PROD\",\"CP_MANUFACTURER\",\"CP_FRANCHISE\",\"CP_BRAND\",\"CP_SUBBRAND\",\"Time_Period\",\"Doll_Shr\",\n",
    "                      \"Doll_Shr_Chg\",\"Base_Doll_Shr\",\"Base_Doll_Shr_Chg\",\"Store_Selling\",\"Store_Selling_Chg\",\"Doll_Velocity\",\n",
    "                      \"Doll_Velocity_Chg\",\"Cum_Distri_Pts\",\"Cum_Distri_Pts_Chg\",\"Dollars\",\"Dollars_Chg\"\n",
    "                      ]\n",
    "LHS_Distri_final=df2[final_column_sorting]"
   ]
  },
  {
   "cell_type": "code",
   "execution_count": null,
   "metadata": {
    "scrolled": true
   },
   "outputs": [],
   "source": [
    "LHS_Distri_final.head()"
   ]
  },
  {
   "cell_type": "markdown",
   "metadata": {},
   "source": [
    "### **Distri_Cat_Data**"
   ]
  },
  {
   "cell_type": "code",
   "execution_count": null,
   "metadata": {},
   "outputs": [],
   "source": [
    "Distri_Cat_Data=LHS_Distri_final.loc[(LHS_Distri_final[\"CP_SUBBRAND\"]==\"\") & (LHS_Distri_final[\"CP_BRAND\"]==\"\")&(LHS_Distri_final[\"CP_FRANCHISE\"]==\"\")&(LHS_Distri_final[\"CP_MANUFACTURER\"]==\"\")]"
   ]
  },
  {
   "cell_type": "code",
   "execution_count": null,
   "metadata": {},
   "outputs": [],
   "source": [
    "length= len(Distri_Cat_Data)\n",
    "Distri_Cat_Data[\"Record_ID\"]=range(1,length+1)"
   ]
  },
  {
   "cell_type": "code",
   "execution_count": null,
   "metadata": {},
   "outputs": [],
   "source": [
    "Distri_Cat_Data.head(2)"
   ]
  },
  {
   "cell_type": "code",
   "execution_count": null,
   "metadata": {},
   "outputs": [],
   "source": [
    "#saving into csv file\n",
    "Distri_Cat_Data.to_csv(path_LHS+\"Distri_Cat_Data.csv\",index=False)"
   ]
  },
  {
   "cell_type": "markdown",
   "metadata": {},
   "source": [
    "### **Distri_Manu_Data**"
   ]
  },
  {
   "cell_type": "code",
   "execution_count": null,
   "metadata": {},
   "outputs": [],
   "source": [
    "Distri_Manu_Data=LHS_Distri_final.loc[(LHS_Distri_final[\"CP_SUBBRAND\"]==\"\") & (LHS_Distri_final[\"CP_BRAND\"]==\"\")&(LHS_Distri_final[\"CP_FRANCHISE\"]==\"\")&(LHS_Distri_final[\"CP_MANUFACTURER\"]!=\"\")]"
   ]
  },
  {
   "cell_type": "code",
   "execution_count": null,
   "metadata": {},
   "outputs": [],
   "source": [
    "length= len(Distri_Manu_Data)\n",
    "Distri_Manu_Data[\"Record_ID\"]=range(1,length+1)"
   ]
  },
  {
   "cell_type": "code",
   "execution_count": null,
   "metadata": {},
   "outputs": [],
   "source": [
    "Distri_Manu_Data.head(2)"
   ]
  },
  {
   "cell_type": "code",
   "execution_count": null,
   "metadata": {},
   "outputs": [],
   "source": [
    "#saving into csv file\n",
    "Distri_Manu_Data.to_csv(path_LHS+\"Distri_Manu_Data.csv\",index=False)"
   ]
  },
  {
   "cell_type": "markdown",
   "metadata": {},
   "source": [
    "### **Distri_Fran_Data**"
   ]
  },
  {
   "cell_type": "code",
   "execution_count": null,
   "metadata": {},
   "outputs": [],
   "source": [
    "Distri_Fran_Data=LHS_Distri_final.loc[(LHS_Distri_final[\"CP_SUBBRAND\"]==\"\") & (LHS_Distri_final[\"CP_BRAND\"]==\"\")&(LHS_Distri_final[\"CP_FRANCHISE\"]!=\"\")]"
   ]
  },
  {
   "cell_type": "code",
   "execution_count": null,
   "metadata": {},
   "outputs": [],
   "source": [
    "length= len(Distri_Fran_Data)\n",
    "Distri_Fran_Data[\"Record_ID\"]=range(1,length+1)"
   ]
  },
  {
   "cell_type": "code",
   "execution_count": null,
   "metadata": {},
   "outputs": [],
   "source": [
    "Distri_Fran_Data.head(3)"
   ]
  },
  {
   "cell_type": "code",
   "execution_count": null,
   "metadata": {},
   "outputs": [],
   "source": [
    "#saving into csv file\n",
    "Distri_Fran_Data.to_csv(path_LHS+\"Distri_Fran_Data.csv\",index=False)"
   ]
  },
  {
   "cell_type": "markdown",
   "metadata": {},
   "source": [
    "### **Distri_Brand_Data**"
   ]
  },
  {
   "cell_type": "code",
   "execution_count": null,
   "metadata": {},
   "outputs": [],
   "source": [
    "Distri_Brand_Data=LHS_Distri_final.loc[(LHS_Distri_final[\"CP_SUBBRAND\"]==\"\") & (LHS_Distri_final[\"CP_BRAND\"]!=\"\")]"
   ]
  },
  {
   "cell_type": "code",
   "execution_count": null,
   "metadata": {},
   "outputs": [],
   "source": [
    "length= len(Distri_Brand_Data)\n",
    "Distri_Brand_Data[\"Record_ID\"]=range(1,length+1)"
   ]
  },
  {
   "cell_type": "code",
   "execution_count": null,
   "metadata": {},
   "outputs": [],
   "source": [
    "Distri_Brand_Data.head(3)"
   ]
  },
  {
   "cell_type": "code",
   "execution_count": null,
   "metadata": {},
   "outputs": [],
   "source": [
    "#saving into csv file\n",
    "Distri_Brand_Data.to_csv(path_LHS+\"Distri_Brand_Data.csv\",index=False)"
   ]
  },
  {
   "cell_type": "markdown",
   "metadata": {},
   "source": [
    "### **Distri_SubBrand_Data**"
   ]
  },
  {
   "cell_type": "code",
   "execution_count": null,
   "metadata": {},
   "outputs": [],
   "source": [
    "Distri_SubBrand_Data=LHS_Distri_final.loc[(LHS_Distri_final[\"CP_SUBBRAND\"]!=\"\")]"
   ]
  },
  {
   "cell_type": "code",
   "execution_count": null,
   "metadata": {},
   "outputs": [],
   "source": [
    "length= len(Distri_SubBrand_Data)\n",
    "Distri_SubBrand_Data[\"Record_ID\"]=range(1,length+1)"
   ]
  },
  {
   "cell_type": "code",
   "execution_count": null,
   "metadata": {},
   "outputs": [],
   "source": [
    "Distri_SubBrand_Data.head(3)"
   ]
  },
  {
   "cell_type": "code",
   "execution_count": null,
   "metadata": {},
   "outputs": [],
   "source": [
    "#saving into csv file\n",
    "Distri_SubBrand_Data.to_csv(path_LHS+\"Distri_SubBrand_Data.csv\",index=False)"
   ]
  },
  {
   "cell_type": "markdown",
   "metadata": {},
   "source": [
    "## Distri Brand Avg Sku Monthly"
   ]
  },
  {
   "cell_type": "code",
   "execution_count": null,
   "metadata": {},
   "outputs": [],
   "source": [
    "LHS_Distri = LHS_Distri_common"
   ]
  },
  {
   "cell_type": "code",
   "execution_count": null,
   "metadata": {},
   "outputs": [],
   "source": [
    "set(LHS_Distri[\"Facts\"])"
   ]
  },
  {
   "cell_type": "markdown",
   "metadata": {},
   "source": [
    "**Filter Data**"
   ]
  },
  {
   "cell_type": "code",
   "execution_count": null,
   "metadata": {},
   "outputs": [],
   "source": [
    "LHS_Distri.columns"
   ]
  },
  {
   "cell_type": "code",
   "execution_count": null,
   "metadata": {},
   "outputs": [],
   "source": [
    "Facts=[\"Cum_Distri_Pts\"]"
   ]
  },
  {
   "cell_type": "code",
   "execution_count": null,
   "metadata": {},
   "outputs": [],
   "source": [
    "LHS_Distri = LHS_Distri[LHS_Distri[\"Facts\"].isin(Facts)]"
   ]
  },
  {
   "cell_type": "code",
   "execution_count": null,
   "metadata": {},
   "outputs": [],
   "source": [
    "set(LHS_Distri[\"CP_MANUFACTURER\"])"
   ]
  },
  {
   "cell_type": "code",
   "execution_count": null,
   "metadata": {},
   "outputs": [],
   "source": [
    "print(\"Missing Facts ->\",len(Facts)-len(set(LHS_Distri[\"Facts\"])))"
   ]
  },
  {
   "cell_type": "markdown",
   "metadata": {},
   "source": [
    "**Fact Mapping**"
   ]
  },
  {
   "cell_type": "code",
   "execution_count": null,
   "metadata": {},
   "outputs": [],
   "source": [
    "#LHS_Distri[\"Facts\"].replace(Distri_Fact_Mapping,inplace=True)"
   ]
  },
  {
   "cell_type": "code",
   "execution_count": null,
   "metadata": {},
   "outputs": [],
   "source": [
    "LHS_Distri.head()"
   ]
  },
  {
   "cell_type": "markdown",
   "metadata": {},
   "source": [
    "**Column name Change**"
   ]
  },
  {
   "cell_type": "code",
   "execution_count": null,
   "metadata": {},
   "outputs": [],
   "source": [
    "#LHS_Distri.rename(columns={\"Markets\":\"MKT\",\"Products\":\"PROD\",\"Manufacturer\":\"CP_MANUFACTURER\",\"ShareBasis\":\"CP_SHARE_BASIS\",\n",
    "#                                \"Franchise\":\"CP_FRANCHISE\",\"Brand\":\"CP_BRAND\",\"SubBrand\":\"CP_SUBBRAND\"},inplace=True)"
   ]
  },
  {
   "cell_type": "code",
   "execution_count": null,
   "metadata": {
    "scrolled": true
   },
   "outputs": [],
   "source": [
    "LHS_Distri.head(2)"
   ]
  },
  {
   "cell_type": "code",
   "execution_count": null,
   "metadata": {
    "scrolled": true
   },
   "outputs": [],
   "source": [
    "Time_Period=list(LHS_Distri.columns[25:38])\n",
    "print(Time_Period)"
   ]
  },
  {
   "cell_type": "markdown",
   "metadata": {},
   "source": [
    "**Moving Time Period to Rows and Facts to Columns**"
   ]
  },
  {
   "cell_type": "code",
   "execution_count": null,
   "metadata": {},
   "outputs": [],
   "source": [
    "df1=pd.melt(LHS_Distri, id_vars =[\"MKT\",\"PROD\",\"CP_MANUFACTURER\",\"CP_FRANCHISE\",\"CP_BRAND\",\"CP_SUBBRAND\",\"Facts\",\"CP_SHARE_BASIS\"], value_vars =Time_Period,var_name=\"Time_Period\")\n",
    "\n",
    "df1[\"value\"]=df1[\"value\"].apply(pd.to_numeric)"
   ]
  },
  {
   "cell_type": "code",
   "execution_count": null,
   "metadata": {},
   "outputs": [],
   "source": [
    "df2=df1.pivot_table(index=['MKT','PROD', 'CP_MANUFACTURER', 'CP_FRANCHISE', 'CP_BRAND','CP_SUBBRAND','Time_Period','CP_SHARE_BASIS'],columns='Facts')\n",
    "\n",
    "df2.columns=df2.columns.droplevel().rename(None)\n",
    "df2.reset_index(inplace =True)"
   ]
  },
  {
   "cell_type": "code",
   "execution_count": null,
   "metadata": {},
   "outputs": [],
   "source": [
    "from pandas.api.types import CategoricalDtype\n",
    "\n",
    "Time_Period_order = CategoricalDtype(\n",
    "    Time_Period, \n",
    "    ordered=True\n",
    ")\n",
    "\n",
    "df2['Time_Period'] = df2['Time_Period'].astype(Time_Period_order)\n",
    "\n",
    "df2.sort_values(['MKT','PROD','Time_Period'],inplace=True)"
   ]
  },
  {
   "cell_type": "code",
   "execution_count": null,
   "metadata": {},
   "outputs": [],
   "source": [
    "df2.head()"
   ]
  },
  {
   "cell_type": "code",
   "execution_count": null,
   "metadata": {},
   "outputs": [],
   "source": [
    "final_column_sorting=[\"MKT\",\"PROD\",\"CP_MANUFACTURER\",\"CP_FRANCHISE\",\"CP_BRAND\",\"CP_SUBBRAND\",\"Time_Period\",\"Cum_Distri_Pts\"]\n",
    "LHS_Distri_final=df2[final_column_sorting]"
   ]
  },
  {
   "cell_type": "code",
   "execution_count": null,
   "metadata": {},
   "outputs": [],
   "source": [
    "LHS_Distri_final.head()"
   ]
  },
  {
   "cell_type": "code",
   "execution_count": null,
   "metadata": {},
   "outputs": [],
   "source": [
    "brand_level=LHS_Distri_final.loc[(LHS_Distri_final[\"CP_SUBBRAND\"]==\"\") & (LHS_Distri_final[\"CP_BRAND\"]!=\"\")]\n",
    "cat_level=LHS_Distri_final.loc[(LHS_Distri_final[\"CP_MANUFACTURER\"]==\"\")]\n",
    "LHS_Distri_Brand_and_Cat_Level=pd.concat([cat_level,brand_level],axis=0,ignore_index=True)"
   ]
  },
  {
   "cell_type": "code",
   "execution_count": null,
   "metadata": {},
   "outputs": [],
   "source": [
    "LHS_Distri_Brand_and_Cat_Level.shape"
   ]
  },
  {
   "cell_type": "code",
   "execution_count": null,
   "metadata": {},
   "outputs": [],
   "source": [
    "length= len(LHS_Distri_Brand_and_Cat_Level)\n",
    "LHS_Distri_Brand_and_Cat_Level[\"Record_ID\"]=range(1,length+1)"
   ]
  },
  {
   "cell_type": "code",
   "execution_count": null,
   "metadata": {},
   "outputs": [],
   "source": [
    "#saving into csv file\n",
    "LHS_Distri_Brand_and_Cat_Level.to_csv(path_LHS+\"Distri_brand_avg_skus_monthly.csv\",index=False)"
   ]
  },
  {
   "cell_type": "markdown",
   "metadata": {},
   "source": [
    "## Distri Cat Dollar Share"
   ]
  },
  {
   "cell_type": "code",
   "execution_count": null,
   "metadata": {},
   "outputs": [],
   "source": [
    "LHS_Distri=LHS_Distri_common"
   ]
  },
  {
   "cell_type": "code",
   "execution_count": null,
   "metadata": {},
   "outputs": [],
   "source": [
    "set(LHS_Distri[\"Facts\"])"
   ]
  },
  {
   "cell_type": "markdown",
   "metadata": {},
   "source": [
    "**Filter Data**"
   ]
  },
  {
   "cell_type": "code",
   "execution_count": null,
   "metadata": {},
   "outputs": [],
   "source": [
    "#Markets=[\"Ahold\",\"Alb/Sfy\",\"BJs\",\"CVS\",\"Dollar General\",\"Family Dollar\",\"Meijer\",\"Publix\",\n",
    "#         \"Rite Aid\",\"Sams\",\"Shoprite\",\"Target\",\"US AOC\",\"US Drug\",\"US Food\",\"Walgreens\",\"Walmart\"]\n",
    "\n",
    "Facts=[\"Doll_Shr\"]\n",
    "\n",
    "#Manufacturer=[\"\",\"COLGATE-PALMOLIVE\",\"P&G\",\"GSK\",\"SANOFI\",\"DR BRONNERS\"]"
   ]
  },
  {
   "cell_type": "code",
   "execution_count": null,
   "metadata": {},
   "outputs": [],
   "source": [
    "LHS_Distri = LHS_Distri[LHS_Distri[\"Facts\"].isin(Facts)]\n",
    "#LHS_Distri = LHS_Distri[LHS_Distri[\"Markets\"].isin(Markets)]\n",
    "#LHS_Distri = LHS_Distri[LHS_Distri[\"Manufacturer\"].isin(Manufacturer)]"
   ]
  },
  {
   "cell_type": "code",
   "execution_count": null,
   "metadata": {},
   "outputs": [],
   "source": [
    "Manufacturer = [\"\",\"SOFTSOAP\",\"DIAL\",\"TOMS OF MAINE\",\"SAFEGUARD\",\"METHOD\",\"MRS MEYERS\",\"PRVT LBL\",\"JR WATKINS\",\"DOVE\",\"SUAVE\",\"LOVE BEAUTY AND PLANET\",\"SEVENTH GEN\",\"LIFEBUOY\"]"
   ]
  },
  {
   "cell_type": "code",
   "execution_count": null,
   "metadata": {},
   "outputs": [],
   "source": [
    "#LHS_Distri = LHS_Distri[LHS_Distri[\"Manufacturer\"].isin(Manufacturer)]"
   ]
  },
  {
   "cell_type": "code",
   "execution_count": null,
   "metadata": {},
   "outputs": [],
   "source": []
  },
  {
   "cell_type": "code",
   "execution_count": null,
   "metadata": {},
   "outputs": [],
   "source": [
    "print(\"Missing Facts ->\",len(Facts)-len(set(LHS_Distri[\"Facts\"])),\"Missing Markets -> \",len(Markets)-len(set(LHS_Distri[\"MKT\"])))"
   ]
  },
  {
   "cell_type": "markdown",
   "metadata": {},
   "source": [
    "**Fact Mapping**"
   ]
  },
  {
   "cell_type": "code",
   "execution_count": null,
   "metadata": {},
   "outputs": [],
   "source": [
    "#LHS_Distri[\"Facts\"].replace(Distri_Fact_Mapping,inplace=True)"
   ]
  },
  {
   "cell_type": "code",
   "execution_count": null,
   "metadata": {
    "scrolled": true
   },
   "outputs": [],
   "source": [
    "LHS_Distri.head()"
   ]
  },
  {
   "cell_type": "markdown",
   "metadata": {},
   "source": [
    "**Column name Change**"
   ]
  },
  {
   "cell_type": "code",
   "execution_count": null,
   "metadata": {},
   "outputs": [],
   "source": [
    "#LHS_Distri.rename(columns={\"Markets\":\"MKT\",\"Products\":\"PROD\",\"Manufacturer\":\"CP_MANUFACTURER\",\"ShareBasis\":\"CP_SHARE_BASIS\",\n",
    "#                                \"Franchise\":\"CP_FRANCHISE\",\"Brand\":\"CP_BRAND\",\"SubBrand\":\"CP_SUBBRAND\"},inplace=True)"
   ]
  },
  {
   "cell_type": "code",
   "execution_count": null,
   "metadata": {
    "scrolled": true
   },
   "outputs": [],
   "source": [
    "LHS_Distri.head(2)"
   ]
  },
  {
   "cell_type": "code",
   "execution_count": null,
   "metadata": {
    "scrolled": true
   },
   "outputs": [],
   "source": [
    "Time_Period=list(LHS_Distri.columns[25:38])\n",
    "print(Time_Period)"
   ]
  },
  {
   "cell_type": "markdown",
   "metadata": {},
   "source": [
    "**Moving Time Period to Rows and Facts to Columns**"
   ]
  },
  {
   "cell_type": "code",
   "execution_count": null,
   "metadata": {},
   "outputs": [],
   "source": [
    "df1=pd.melt(LHS_Distri, id_vars =[\"MKT\",\"PROD\",\"CP_MANUFACTURER\",\"CP_FRANCHISE\",\"CP_BRAND\",\"CP_SUBBRAND\",\"Facts\",\"CP_SHARE_BASIS\"], value_vars =Time_Period,var_name=\"Time_Period\")\n",
    "\n",
    "df1[\"value\"]=df1[\"value\"].apply(pd.to_numeric)"
   ]
  },
  {
   "cell_type": "code",
   "execution_count": null,
   "metadata": {},
   "outputs": [],
   "source": [
    "df2=df1.pivot_table(index=['MKT','PROD', 'CP_MANUFACTURER', 'CP_FRANCHISE', 'CP_BRAND','CP_SUBBRAND','Time_Period',\"CP_SHARE_BASIS\"],columns='Facts')\n",
    "\n",
    "df2.columns=df2.columns.droplevel().rename(None)\n",
    "df2.reset_index(inplace =True)"
   ]
  },
  {
   "cell_type": "code",
   "execution_count": null,
   "metadata": {},
   "outputs": [],
   "source": [
    "from pandas.api.types import CategoricalDtype\n",
    "\n",
    "Time_Period_order = CategoricalDtype(\n",
    "    Time_Period, \n",
    "    ordered=True\n",
    ")\n",
    "\n",
    "df2['Time_Period'] = df2['Time_Period'].astype(Time_Period_order)\n",
    "\n",
    "df2.sort_values(['MKT','PROD','Time_Period'],inplace=True)"
   ]
  },
  {
   "cell_type": "code",
   "execution_count": null,
   "metadata": {},
   "outputs": [],
   "source": [
    "df2.head()"
   ]
  },
  {
   "cell_type": "code",
   "execution_count": null,
   "metadata": {},
   "outputs": [],
   "source": [
    "final_column_sorting=[\"MKT\",\"PROD\",\"CP_MANUFACTURER\",\"CP_FRANCHISE\",\"CP_BRAND\",\"CP_SUBBRAND\",\"Time_Period\",\"Doll_Shr\"]                     \n",
    "LHS_Distri_final=df2[final_column_sorting]"
   ]
  },
  {
   "cell_type": "code",
   "execution_count": null,
   "metadata": {},
   "outputs": [],
   "source": [
    "LHS_Distri_final.head()"
   ]
  },
  {
   "cell_type": "code",
   "execution_count": null,
   "metadata": {},
   "outputs": [],
   "source": [
    "brand_level=LHS_Distri_final.loc[(LHS_Distri_final[\"CP_SUBBRAND\"]==\"\") & (LHS_Distri_final[\"CP_BRAND\"]!=\"\")]\n",
    "cat_level=LHS_Distri_final.loc[(LHS_Distri_final[\"CP_MANUFACTURER\"]==\"\")]\n",
    "LHS_Distri_Brand_and_Cat_Level=pd.concat([cat_level,brand_level],axis=0,ignore_index=True)"
   ]
  },
  {
   "cell_type": "code",
   "execution_count": null,
   "metadata": {},
   "outputs": [],
   "source": [
    "LHS_Distri_Brand_and_Cat_Level.shape"
   ]
  },
  {
   "cell_type": "code",
   "execution_count": null,
   "metadata": {},
   "outputs": [],
   "source": [
    "length= len(LHS_Distri_Brand_and_Cat_Level)\n",
    "LHS_Distri_Brand_and_Cat_Level[\"Record_ID\"]=range(1,length+1)"
   ]
  },
  {
   "cell_type": "code",
   "execution_count": null,
   "metadata": {},
   "outputs": [],
   "source": [
    "#saving into csv file\n",
    "LHS_Distri_Brand_and_Cat_Level.to_csv(path_LHS+\"Distri_cat_doll_share.csv\",index=False)"
   ]
  },
  {
   "cell_type": "code",
   "execution_count": null,
   "metadata": {},
   "outputs": [],
   "source": []
  },
  {
   "cell_type": "markdown",
   "metadata": {},
   "source": [
    "## BW"
   ]
  },
  {
   "cell_type": "code",
   "execution_count": null,
   "metadata": {},
   "outputs": [],
   "source": [
    "# path to store Output files\n",
    "path_BW=\"//falmumapp34/Nielsen Connect Transition & Maintenance (20-SCP-3650)/05. Output Data/5P Output/BW/\""
   ]
  },
  {
   "cell_type": "code",
   "execution_count": null,
   "metadata": {},
   "outputs": [],
   "source": [
    "BW_Distri=Data_5p[Data_5p[\"ShareBasis\"]==\"BODYWASH\"]"
   ]
  },
  {
   "cell_type": "code",
   "execution_count": null,
   "metadata": {},
   "outputs": [],
   "source": [
    "set(BW_Distri[\"Manufacturer\"])"
   ]
  },
  {
   "cell_type": "markdown",
   "metadata": {},
   "source": [
    "**Filter Data**"
   ]
  },
  {
   "cell_type": "code",
   "execution_count": null,
   "metadata": {},
   "outputs": [],
   "source": [
    "Markets=[\"Ahold\",\"Alb/Sfy\",\"BJs\",\"CVS\",\"Dollar General\",\"Family Dollar\",\"Giant Eagle\",\"Kmart\",\"Meijer\",\"Publix\",\n",
    "         \"Rite Aid\",\"Shoprite\",\"Target\",\"US AOC\",\"US Drug\",\"US Food\",\"Walgreens\",\"Walmart\",\"Wegmans\"]\n",
    "\n",
    "Manufacturer=[\"\",\"BEIERSDORF\",\"COLGATE-PALMOLIVE\",\"HENKEL\",\"J&J\",\"UNILEVER\",\"P&G\",\"PRVT LBL\",\"SC JOHNSON\",\"MALE\",\"FEMALE\"]"
   ]
  },
  {
   "cell_type": "code",
   "execution_count": null,
   "metadata": {},
   "outputs": [],
   "source": [
    "BW_Distri = BW_Distri[BW_Distri[\"Facts\"].isin(Distri_Facts)]\n",
    "BW_Distri = BW_Distri[BW_Distri[\"Markets\"].isin(Markets)]\n",
    "BW_Distri = BW_Distri[BW_Distri[\"Manufacturer\"].isin(Manufacturer)]"
   ]
  },
  {
   "cell_type": "code",
   "execution_count": null,
   "metadata": {},
   "outputs": [],
   "source": [
    "print(\"Missing Facts ->\",len(Distri_Facts)-len(set(BW_Distri[\"Facts\"])),\"Missing Markets -> \",len(Markets)-len(set(BW_Distri[\"Markets\"])))"
   ]
  },
  {
   "cell_type": "markdown",
   "metadata": {},
   "source": [
    "**Fact Mapping**"
   ]
  },
  {
   "cell_type": "code",
   "execution_count": null,
   "metadata": {},
   "outputs": [],
   "source": [
    "BW_Distri[\"Facts\"].replace(Distri_Fact_Mapping,inplace=True)"
   ]
  },
  {
   "cell_type": "code",
   "execution_count": null,
   "metadata": {},
   "outputs": [],
   "source": [
    "BW_Distri.head()"
   ]
  },
  {
   "cell_type": "markdown",
   "metadata": {},
   "source": [
    "**Column name Change**"
   ]
  },
  {
   "cell_type": "code",
   "execution_count": null,
   "metadata": {},
   "outputs": [],
   "source": [
    "BW_Distri.rename(columns={\"Markets\":\"MKT\",\"Products\":\"PROD\",\"Manufacturer\":\"CP_MANUFACTURER\",\n",
    "                                \"Franchise\":\"CP_FRANCHISE\",\"Brand\":\"CP_BRAND\",\"SubBrand\":\"CP_SUBBRAND\"},inplace=True)"
   ]
  },
  {
   "cell_type": "code",
   "execution_count": null,
   "metadata": {},
   "outputs": [],
   "source": [
    "BW_Distri.head()"
   ]
  },
  {
   "cell_type": "code",
   "execution_count": null,
   "metadata": {
    "scrolled": true
   },
   "outputs": [],
   "source": [
    "Time_Period=Distri_Time_Period\n",
    "print(Time_Period)"
   ]
  },
  {
   "cell_type": "markdown",
   "metadata": {},
   "source": [
    "**Moving Time Period to Rows and Facts to Columns**"
   ]
  },
  {
   "cell_type": "code",
   "execution_count": null,
   "metadata": {},
   "outputs": [],
   "source": [
    "df1=pd.melt(BW_Distri, id_vars =[\"MKT\",\"PROD\",\"CP_MANUFACTURER\",\"CP_FRANCHISE\",\"CP_BRAND\",\"CP_SUBBRAND\",\"Facts\"], value_vars =Time_Period,var_name=\"Time_Period\")\n",
    "\n",
    "df1[\"value\"]=df1[\"value\"].apply(pd.to_numeric)"
   ]
  },
  {
   "cell_type": "code",
   "execution_count": null,
   "metadata": {},
   "outputs": [],
   "source": [
    "df2=df1.pivot_table(index=['MKT','PROD', 'CP_MANUFACTURER', 'CP_FRANCHISE', 'CP_BRAND','CP_SUBBRAND','Time_Period'],columns='Facts')\n",
    "\n",
    "df2.columns=df2.columns.droplevel().rename(None)\n",
    "df2.reset_index(inplace =True)"
   ]
  },
  {
   "cell_type": "code",
   "execution_count": null,
   "metadata": {},
   "outputs": [],
   "source": [
    "from pandas.api.types import CategoricalDtype\n",
    "\n",
    "Time_Period_order = CategoricalDtype(\n",
    "    Time_Period, \n",
    "    ordered=True\n",
    ")\n",
    "\n",
    "df2['Time_Period'] = df2['Time_Period'].astype(Time_Period_order)\n",
    "\n",
    "df2.sort_values(['MKT','PROD','Time_Period'],inplace=True)"
   ]
  },
  {
   "cell_type": "code",
   "execution_count": null,
   "metadata": {},
   "outputs": [],
   "source": [
    "df2.head()"
   ]
  },
  {
   "cell_type": "code",
   "execution_count": null,
   "metadata": {},
   "outputs": [],
   "source": [
    "set(df2[\"CP_MANUFACTURER\"])"
   ]
  },
  {
   "cell_type": "code",
   "execution_count": null,
   "metadata": {},
   "outputs": [],
   "source": [
    "set(df2[\"PROD\"])"
   ]
  },
  {
   "cell_type": "code",
   "execution_count": null,
   "metadata": {},
   "outputs": [],
   "source": [
    "# df2[df2[\"PROD\"]==\"BODYWASH\" & df2[\"Time_Period\"]==\"4 W/E 02/27/21\"]"
   ]
  },
  {
   "cell_type": "code",
   "execution_count": null,
   "metadata": {},
   "outputs": [],
   "source": [
    "set(df2[\"CP_MANUFACTURER\"])"
   ]
  },
  {
   "cell_type": "code",
   "execution_count": null,
   "metadata": {},
   "outputs": [],
   "source": []
  },
  {
   "cell_type": "code",
   "execution_count": null,
   "metadata": {},
   "outputs": [],
   "source": [
    "final_column_sorting=[\"MKT\",\"PROD\",\"CP_MANUFACTURER\",\"CP_FRANCHISE\",\"CP_BRAND\",\"CP_SUBBRAND\",\"Time_Period\",\"Doll_Shr\",\n",
    "                      \"Doll_Shr_Chg\",\"Base_Doll_Shr\",\"Base_Doll_Shr_Chg\",\"Store_Selling\",\"Store_Selling_Chg\",\"Doll_Velocity\",\n",
    "                      \"Doll_Velocity_Chg\",\"Cum_Distri_Pts\",\"Cum_Distri_Pts_Chg\",\"Dollars\",\"Dollars_Chg\"\n",
    "                      ]\n",
    "BW_Distri_final=df2[final_column_sorting]"
   ]
  },
  {
   "cell_type": "code",
   "execution_count": null,
   "metadata": {
    "scrolled": true
   },
   "outputs": [],
   "source": [
    "BW_Distri_final.head()"
   ]
  },
  {
   "cell_type": "markdown",
   "metadata": {},
   "source": [
    "### **Distri_Cat_Data**"
   ]
  },
  {
   "cell_type": "code",
   "execution_count": null,
   "metadata": {},
   "outputs": [],
   "source": [
    "Distri_Cat_Data = BW_Distri_final.copy()"
   ]
  },
  {
   "cell_type": "code",
   "execution_count": null,
   "metadata": {},
   "outputs": [],
   "source": [
    "Distri_Cat_Data[\"Cat\"] = \"\"\n",
    "for i in range(0,len(Distri_Cat_Data)):\n",
    "    if Distri_Cat_Data[\"CP_MANUFACTURER\"].iloc[i] == \"MALE\":\n",
    "        Distri_Cat_Data[\"Cat\"].iloc[i] = \"MALE BW\"\n",
    "    elif Distri_Cat_Data[\"CP_MANUFACTURER\"].iloc[i] == \"FEMALE\":\n",
    "        Distri_Cat_Data[\"Cat\"].iloc[i] = \"FEMALE BW\"\n",
    "    else:\n",
    "        Distri_Cat_Data[\"Cat\"].iloc[i] = \"BODYWASH\""
   ]
  },
  {
   "cell_type": "code",
   "execution_count": null,
   "metadata": {},
   "outputs": [],
   "source": [
    "Distri_Cat_Data['PROD'] = Distri_Cat_Data['Cat']"
   ]
  },
  {
   "cell_type": "code",
   "execution_count": null,
   "metadata": {},
   "outputs": [],
   "source": [
    "del Distri_Cat_Data[\"Cat\"]"
   ]
  },
  {
   "cell_type": "code",
   "execution_count": null,
   "metadata": {},
   "outputs": [],
   "source": [
    "set(Distri_Cat_Data[\"\"])"
   ]
  },
  {
   "cell_type": "code",
   "execution_count": null,
   "metadata": {},
   "outputs": [],
   "source": [
    "Distri_Cat_Data=Distri_Cat_Data.loc[(Distri_Cat_Data[\"CP_SUBBRAND\"]==\"\") & (Distri_Cat_Data[\"CP_BRAND\"]==\"\")&(Distri_Cat_Data[\"CP_FRANCHISE\"]==\"\")&(Distri_Cat_Data[\"CP_MANUFACTURER\"].isin([\"\",\"MALE\",\"FEMALE\"]))]"
   ]
  },
  {
   "cell_type": "code",
   "execution_count": null,
   "metadata": {},
   "outputs": [],
   "source": [
    "length= len(Distri_Cat_Data)\n",
    "Distri_Cat_Data[\"Record_ID\"]=range(1,length+1)"
   ]
  },
  {
   "cell_type": "code",
   "execution_count": null,
   "metadata": {},
   "outputs": [],
   "source": [
    "Distri_Cat_Data.head(2)"
   ]
  },
  {
   "cell_type": "code",
   "execution_count": null,
   "metadata": {},
   "outputs": [],
   "source": [
    "Distri_Cat_Data[\"CP_MANUFACTURER\"] = \"\""
   ]
  },
  {
   "cell_type": "code",
   "execution_count": null,
   "metadata": {},
   "outputs": [],
   "source": [
    "#saving into csv file\n",
    "Distri_Cat_Data.to_csv(path_BW+\"Distri_Cat_Data.csv\",index=False)"
   ]
  },
  {
   "cell_type": "markdown",
   "metadata": {},
   "source": [
    "### **Distri_Manu_Data**"
   ]
  },
  {
   "cell_type": "code",
   "execution_count": null,
   "metadata": {},
   "outputs": [],
   "source": [
    "BW_Distri_final = BW_Distri_final[BW_Distri_final[\"CP_MANUFACTURER\"].isin([\"MALE\",\"FEMALE\"]) == False]"
   ]
  },
  {
   "cell_type": "code",
   "execution_count": null,
   "metadata": {},
   "outputs": [],
   "source": [
    "set(BW_Distri_final[\"CP_MANUFACTURER\"])"
   ]
  },
  {
   "cell_type": "code",
   "execution_count": null,
   "metadata": {},
   "outputs": [],
   "source": [
    "Distri_Manu_Data=BW_Distri_final.loc[(BW_Distri_final[\"CP_SUBBRAND\"]==\"\") & (BW_Distri_final[\"CP_BRAND\"]==\"\")&(BW_Distri_final[\"CP_FRANCHISE\"]==\"\")&(BW_Distri_final[\"CP_MANUFACTURER\"]!=\"\")]"
   ]
  },
  {
   "cell_type": "code",
   "execution_count": null,
   "metadata": {},
   "outputs": [],
   "source": [
    "length= len(Distri_Manu_Data)\n",
    "Distri_Manu_Data[\"Record_ID\"]=range(1,length+1)"
   ]
  },
  {
   "cell_type": "code",
   "execution_count": null,
   "metadata": {},
   "outputs": [],
   "source": [
    "Distri_Manu_Data.head(3)"
   ]
  },
  {
   "cell_type": "code",
   "execution_count": null,
   "metadata": {},
   "outputs": [],
   "source": [
    "#saving into csv file\n",
    "Distri_Manu_Data.to_csv(path_BW+\"Distri_Manu_Data.csv\",index=False)"
   ]
  },
  {
   "cell_type": "markdown",
   "metadata": {},
   "source": [
    "### **Distri_Fran_Data**"
   ]
  },
  {
   "cell_type": "code",
   "execution_count": null,
   "metadata": {},
   "outputs": [],
   "source": [
    "Distri_Fran_Data=BW_Distri_final.loc[(BW_Distri_final[\"CP_SUBBRAND\"]==\"\") & (BW_Distri_final[\"CP_BRAND\"]==\"\")&(BW_Distri_final[\"CP_FRANCHISE\"]!=\"\")]"
   ]
  },
  {
   "cell_type": "code",
   "execution_count": null,
   "metadata": {},
   "outputs": [],
   "source": [
    "length= len(Distri_Fran_Data)\n",
    "Distri_Fran_Data[\"Record_ID\"]=range(1,length+1)"
   ]
  },
  {
   "cell_type": "code",
   "execution_count": null,
   "metadata": {},
   "outputs": [],
   "source": [
    "Distri_Fran_Data.head(3)"
   ]
  },
  {
   "cell_type": "code",
   "execution_count": null,
   "metadata": {},
   "outputs": [],
   "source": [
    "#saving into csv file\n",
    "Distri_Fran_Data.to_csv(path_BW+\"Distri_Fran_Data.csv\",index=False)"
   ]
  },
  {
   "cell_type": "markdown",
   "metadata": {},
   "source": [
    "### **Distri_Brand_Data**"
   ]
  },
  {
   "cell_type": "code",
   "execution_count": null,
   "metadata": {},
   "outputs": [],
   "source": [
    "Distri_Brand_Data=BW_Distri_final.loc[(BW_Distri_final[\"CP_SUBBRAND\"]==\"\") & (BW_Distri_final[\"CP_BRAND\"]!=\"\")]"
   ]
  },
  {
   "cell_type": "code",
   "execution_count": null,
   "metadata": {},
   "outputs": [],
   "source": [
    "length= len(Distri_Brand_Data)\n",
    "Distri_Brand_Data[\"Record_ID\"]=range(1,length+1)"
   ]
  },
  {
   "cell_type": "code",
   "execution_count": null,
   "metadata": {},
   "outputs": [],
   "source": [
    "Distri_Brand_Data.head(3)"
   ]
  },
  {
   "cell_type": "code",
   "execution_count": null,
   "metadata": {},
   "outputs": [],
   "source": [
    "#saving into csv file\n",
    "Distri_Brand_Data.to_csv(path_BW+\"Distri_Brand_Data.csv\",index=False)"
   ]
  },
  {
   "cell_type": "markdown",
   "metadata": {},
   "source": [
    "### **Distri_SubBrand_Data**"
   ]
  },
  {
   "cell_type": "code",
   "execution_count": null,
   "metadata": {},
   "outputs": [],
   "source": [
    "Distri_SubBrand_Data=BW_Distri_final.loc[(BW_Distri_final[\"CP_SUBBRAND\"]!=\"\")]"
   ]
  },
  {
   "cell_type": "code",
   "execution_count": null,
   "metadata": {},
   "outputs": [],
   "source": [
    "length= len(Distri_SubBrand_Data)\n",
    "Distri_SubBrand_Data[\"Record_ID\"]=range(1,length+1)"
   ]
  },
  {
   "cell_type": "code",
   "execution_count": null,
   "metadata": {},
   "outputs": [],
   "source": [
    "Distri_SubBrand_Data.head(3)"
   ]
  },
  {
   "cell_type": "code",
   "execution_count": null,
   "metadata": {},
   "outputs": [],
   "source": [
    "#saving into csv file\n",
    "Distri_SubBrand_Data.to_csv(path_BW+\"Distri_SubBrand_Data.csv\",index=False)"
   ]
  },
  {
   "cell_type": "markdown",
   "metadata": {},
   "source": [
    "## Distri Brand Avg Sku Monthly"
   ]
  },
  {
   "cell_type": "code",
   "execution_count": null,
   "metadata": {},
   "outputs": [],
   "source": [
    "BW_Distri=Data_5p[Data_5p[\"ShareBasis\"]==\"BODYWASH\"]"
   ]
  },
  {
   "cell_type": "markdown",
   "metadata": {},
   "source": [
    "**Filter Data**"
   ]
  },
  {
   "cell_type": "code",
   "execution_count": null,
   "metadata": {},
   "outputs": [],
   "source": [
    "Markets=[\"Ahold\",\"Alb/Sfy\",\"BJs\",\"CVS\",\"Dollar General\",\"Family Dollar\",\"Giant Eagle\",\"Kmart\",\"Meijer\",\"Publix\",\n",
    "         \"Rite Aid\",\"Shoprite\",\"Target\",\"US AOC\",\"US Drug\",\"US Food\",\"Walgreens\",\"Walmart\",\"Wegmans\"]\n",
    "\n",
    "\n",
    "Facts=[\"TDP\"]\n",
    "\n",
    "Manufacturer=[\"\",\"BEIERSDORF\",\"COLGATE-PALMOLIVE\",\"HENKEL\",\"J&J\",\"UNILEVER\",\"P&G\",\"PRVT LBL\",\"SC JOHNSON\",\"FEMALE\",\"MALE\"]"
   ]
  },
  {
   "cell_type": "code",
   "execution_count": null,
   "metadata": {},
   "outputs": [],
   "source": [
    "BW_Distri = BW_Distri[BW_Distri[\"Facts\"].isin(Facts)]\n",
    "BW_Distri = BW_Distri[BW_Distri[\"Markets\"].isin(Markets)]\n",
    "BW_Distri = BW_Distri[BW_Distri[\"Manufacturer\"].isin(Manufacturer)]"
   ]
  },
  {
   "cell_type": "code",
   "execution_count": null,
   "metadata": {},
   "outputs": [],
   "source": [
    "print(\"Missing Facts ->\",len(Facts)-len(set(BW_Distri[\"Facts\"])),\"Missing Markets -> \",len(Markets)-len(set(BW_Distri[\"Markets\"])))"
   ]
  },
  {
   "cell_type": "markdown",
   "metadata": {},
   "source": [
    "**Fact Mapping**"
   ]
  },
  {
   "cell_type": "code",
   "execution_count": null,
   "metadata": {},
   "outputs": [],
   "source": [
    "BW_Distri[\"Facts\"].replace(Distri_Fact_Mapping,inplace=True)"
   ]
  },
  {
   "cell_type": "code",
   "execution_count": null,
   "metadata": {},
   "outputs": [],
   "source": [
    "BW_Distri.head()"
   ]
  },
  {
   "cell_type": "markdown",
   "metadata": {},
   "source": [
    "**Column name Change**"
   ]
  },
  {
   "cell_type": "code",
   "execution_count": null,
   "metadata": {},
   "outputs": [],
   "source": [
    "BW_Distri.rename(columns={\"Markets\":\"MKT\",\"Products\":\"PROD\",\"Manufacturer\":\"CP_MANUFACTURER\",\n",
    "                                \"Franchise\":\"CP_FRANCHISE\",\"Brand\":\"CP_BRAND\",\"SubBrand\":\"CP_SUBBRAND\"},inplace=True)"
   ]
  },
  {
   "cell_type": "code",
   "execution_count": null,
   "metadata": {
    "scrolled": true
   },
   "outputs": [],
   "source": [
    "BW_Distri.head(2)"
   ]
  },
  {
   "cell_type": "code",
   "execution_count": null,
   "metadata": {},
   "outputs": [],
   "source": [
    "BW_Distri.columns"
   ]
  },
  {
   "cell_type": "code",
   "execution_count": null,
   "metadata": {
    "scrolled": true
   },
   "outputs": [],
   "source": [
    "Time_Period=list(BW_Distri.columns[25:38][::-1])\n",
    "print(Time_Period)"
   ]
  },
  {
   "cell_type": "markdown",
   "metadata": {},
   "source": [
    "**Moving Time Period to Rows and Facts to Columns**"
   ]
  },
  {
   "cell_type": "code",
   "execution_count": null,
   "metadata": {},
   "outputs": [],
   "source": [
    "df1=pd.melt(BW_Distri, id_vars =[\"MKT\",\"PROD\",\"CP_MANUFACTURER\",\"CP_FRANCHISE\",\"CP_BRAND\",\"CP_SUBBRAND\",\"Facts\"], value_vars =Time_Period,var_name=\"Time_Period\")\n",
    "\n",
    "df1[\"value\"]=df1[\"value\"].apply(pd.to_numeric)"
   ]
  },
  {
   "cell_type": "code",
   "execution_count": null,
   "metadata": {},
   "outputs": [],
   "source": [
    "df2=df1.pivot_table(index=['MKT','PROD', 'CP_MANUFACTURER', 'CP_FRANCHISE', 'CP_BRAND','CP_SUBBRAND','Time_Period'],columns='Facts')\n",
    "\n",
    "df2.columns=df2.columns.droplevel().rename(None)\n",
    "df2.reset_index(inplace =True)"
   ]
  },
  {
   "cell_type": "code",
   "execution_count": null,
   "metadata": {},
   "outputs": [],
   "source": [
    "from pandas.api.types import CategoricalDtype\n",
    "\n",
    "Time_Period_order = CategoricalDtype(\n",
    "    Time_Period, \n",
    "    ordered=True\n",
    ")\n",
    "\n",
    "df2['Time_Period'] = df2['Time_Period'].astype(Time_Period_order)\n",
    "\n",
    "df2.sort_values(['MKT','PROD','Time_Period'],inplace=True)"
   ]
  },
  {
   "cell_type": "code",
   "execution_count": null,
   "metadata": {},
   "outputs": [],
   "source": [
    "df2.head()"
   ]
  },
  {
   "cell_type": "code",
   "execution_count": null,
   "metadata": {},
   "outputs": [],
   "source": [
    "final_column_sorting=[\"MKT\",\"PROD\",\"CP_MANUFACTURER\",\"CP_FRANCHISE\",\"CP_BRAND\",\"CP_SUBBRAND\",\"Time_Period\",\"Cum_Distri_Pts\"\n",
    "                      ]\n",
    "BW_Distri_final=df2[final_column_sorting]"
   ]
  },
  {
   "cell_type": "code",
   "execution_count": null,
   "metadata": {},
   "outputs": [],
   "source": [
    "BW_Distri_final.head()"
   ]
  },
  {
   "cell_type": "code",
   "execution_count": null,
   "metadata": {},
   "outputs": [],
   "source": [
    "brand_level=BW_Distri_final.loc[(BW_Distri_final[\"CP_SUBBRAND\"]==\"\") & (BW_Distri_final[\"CP_BRAND\"]!=\"\")]\n",
    "cat_level=BW_Distri_final.loc[(BW_Distri_final[\"CP_MANUFACTURER\"].isin([\"\",\"MALE\",\"FEMALE\"]))]\n",
    "BW_Distri_Brand_and_Cat_Level=pd.concat([cat_level,brand_level],axis=0,ignore_index=True)"
   ]
  },
  {
   "cell_type": "code",
   "execution_count": null,
   "metadata": {},
   "outputs": [],
   "source": [
    "BW_Distri_Brand_and_Cat_Level.columns"
   ]
  },
  {
   "cell_type": "code",
   "execution_count": null,
   "metadata": {},
   "outputs": [],
   "source": [
    "set(BW_Distri_Brand_and_Cat_Level[\"PROD\"])"
   ]
  },
  {
   "cell_type": "code",
   "execution_count": null,
   "metadata": {},
   "outputs": [],
   "source": []
  },
  {
   "cell_type": "code",
   "execution_count": null,
   "metadata": {},
   "outputs": [],
   "source": [
    "BW_Distri_Brand_and_Cat_Level[\"Cat\"] = \"\"\n",
    "for i in range(0,len(BW_Distri_Brand_and_Cat_Level)):\n",
    "    if BW_Distri_Brand_and_Cat_Level[\"CP_MANUFACTURER\"].iloc[i] == \"MALE\":\n",
    "        BW_Distri_Brand_and_Cat_Level[\"Cat\"].iloc[i] = \"MALE BW\"\n",
    "    elif BW_Distri_Brand_and_Cat_Level[\"CP_MANUFACTURER\"].iloc[i] == \"FEMALE\":\n",
    "        BW_Distri_Brand_and_Cat_Level[\"Cat\"].iloc[i] = \"FEMALE BW\"\n",
    "    else:\n",
    "        BW_Distri_Brand_and_Cat_Level[\"Cat\"].iloc[i] = BW_Distri_Brand_and_Cat_Level[\"PROD\"].iloc[i]"
   ]
  },
  {
   "cell_type": "code",
   "execution_count": null,
   "metadata": {},
   "outputs": [],
   "source": [
    "BW_Distri_Brand_and_Cat_Level['PROD'] = BW_Distri_Brand_and_Cat_Level['Cat']"
   ]
  },
  {
   "cell_type": "code",
   "execution_count": null,
   "metadata": {},
   "outputs": [],
   "source": [
    "del BW_Distri_Brand_and_Cat_Level[\"Cat\"]"
   ]
  },
  {
   "cell_type": "code",
   "execution_count": null,
   "metadata": {},
   "outputs": [],
   "source": []
  },
  {
   "cell_type": "code",
   "execution_count": null,
   "metadata": {},
   "outputs": [],
   "source": [
    "BW_Distri_Brand_and_Cat_Level.columns"
   ]
  },
  {
   "cell_type": "code",
   "execution_count": null,
   "metadata": {},
   "outputs": [],
   "source": [
    "from pandas.api.types import CategoricalDtype\n",
    "\n",
    "Time_Period_order = CategoricalDtype(\n",
    "    Time_Period, \n",
    "    ordered=True\n",
    ")\n",
    "\n",
    "BW_Distri_Brand_and_Cat_Level['Time_Period'] = BW_Distri_Brand_and_Cat_Level['Time_Period'].astype(Time_Period_order)\n",
    "\n",
    "BW_Distri_Brand_and_Cat_Level.sort_values(['MKT','PROD','Time_Period'],inplace=True)"
   ]
  },
  {
   "cell_type": "code",
   "execution_count": null,
   "metadata": {},
   "outputs": [],
   "source": [
    "BW_Distri_Brand_and_Cat_Level.shape"
   ]
  },
  {
   "cell_type": "code",
   "execution_count": null,
   "metadata": {},
   "outputs": [],
   "source": [
    "length= len(BW_Distri_Brand_and_Cat_Level)\n",
    "BW_Distri_Brand_and_Cat_Level[\"Record_ID\"]=range(1,length+1)"
   ]
  },
  {
   "cell_type": "code",
   "execution_count": null,
   "metadata": {},
   "outputs": [],
   "source": [
    "#saving into csv file\n",
    "BW_Distri_Brand_and_Cat_Level.to_csv(path_BW+\"Distri_brand_avg_skus_monthly.csv\",index=False)"
   ]
  },
  {
   "cell_type": "code",
   "execution_count": null,
   "metadata": {},
   "outputs": [],
   "source": []
  },
  {
   "cell_type": "markdown",
   "metadata": {},
   "source": [
    "## Distri Cat Dollar Share"
   ]
  },
  {
   "cell_type": "code",
   "execution_count": null,
   "metadata": {},
   "outputs": [],
   "source": [
    "BW_Distri=Data_5p[Data_5p[\"ShareBasis\"]==\"BODYWASH\"]"
   ]
  },
  {
   "cell_type": "code",
   "execution_count": null,
   "metadata": {},
   "outputs": [],
   "source": [
    "set(BW_Distri[\"Facts\"])"
   ]
  },
  {
   "cell_type": "markdown",
   "metadata": {},
   "source": [
    "**Filter Data**"
   ]
  },
  {
   "cell_type": "code",
   "execution_count": null,
   "metadata": {},
   "outputs": [],
   "source": [
    "Markets=[\"Ahold\",\"Alb/Sfy\",\"BJs\",\"CVS\",\"Dollar General\",\"Family Dollar\",\"Giant Eagle\",\"Kmart\",\"Meijer\",\"Publix\",\n",
    "         \"Rite Aid\",\"Shoprite\",\"Target\",\"US AOC\",\"US Drug\",\"US Food\",\"Walgreens\",\"Walmart\",\"Wegmans\"]\n",
    "\n",
    "Facts=[\"$ Shr - CP CATEGORY\"]\n",
    "\n",
    "Manufacturer=[\"\",\"BEIERSDORF\",\"COLGATE-PALMOLIVE\",\"HENKEL\",\"J&J\",\"UNILEVER\",\"P&G\",\"PRVT LBL\",\"SC JOHNSON\",\"MALE\",\"FEMALE\"]"
   ]
  },
  {
   "cell_type": "code",
   "execution_count": null,
   "metadata": {},
   "outputs": [],
   "source": [
    "BW_Distri = BW_Distri[BW_Distri[\"Facts\"].isin(Facts)]\n",
    "BW_Distri = BW_Distri[BW_Distri[\"Markets\"].isin(Markets)]\n",
    "BW_Distri = BW_Distri[BW_Distri[\"Manufacturer\"].isin(Manufacturer)]"
   ]
  },
  {
   "cell_type": "code",
   "execution_count": null,
   "metadata": {},
   "outputs": [],
   "source": [
    "print(\"Missing Facts ->\",len(Facts)-len(set(BW_Distri[\"Facts\"])),\"Missing Markets -> \",len(Markets)-len(set(BW_Distri[\"Markets\"])))"
   ]
  },
  {
   "cell_type": "markdown",
   "metadata": {},
   "source": [
    "**Fact Mapping**"
   ]
  },
  {
   "cell_type": "code",
   "execution_count": null,
   "metadata": {},
   "outputs": [],
   "source": [
    "BW_Distri[\"Facts\"].replace(Distri_Fact_Mapping,inplace=True)"
   ]
  },
  {
   "cell_type": "code",
   "execution_count": null,
   "metadata": {},
   "outputs": [],
   "source": [
    "BW_Distri.head()"
   ]
  },
  {
   "cell_type": "markdown",
   "metadata": {},
   "source": [
    "**Column name Change**"
   ]
  },
  {
   "cell_type": "code",
   "execution_count": null,
   "metadata": {},
   "outputs": [],
   "source": [
    "BW_Distri.rename(columns={\"Markets\":\"MKT\",\"Products\":\"PROD\",\"Manufacturer\":\"CP_MANUFACTURER\",\n",
    "                                \"Franchise\":\"CP_FRANCHISE\",\"Brand\":\"CP_BRAND\",\"SubBrand\":\"CP_SUBBRAND\"},inplace=True)"
   ]
  },
  {
   "cell_type": "code",
   "execution_count": null,
   "metadata": {
    "scrolled": true
   },
   "outputs": [],
   "source": [
    "BW_Distri.head(2)"
   ]
  },
  {
   "cell_type": "code",
   "execution_count": null,
   "metadata": {
    "scrolled": true
   },
   "outputs": [],
   "source": [
    "Time_Period=list(BW_Distri.columns[25:38])\n",
    "print(Time_Period)"
   ]
  },
  {
   "cell_type": "markdown",
   "metadata": {},
   "source": [
    "**Moving Time Period to Rows and Facts to Columns**"
   ]
  },
  {
   "cell_type": "code",
   "execution_count": null,
   "metadata": {},
   "outputs": [],
   "source": [
    "df1=pd.melt(BW_Distri, id_vars =[\"MKT\",\"PROD\",\"CP_MANUFACTURER\",\"CP_FRANCHISE\",\"CP_BRAND\",\"CP_SUBBRAND\",\"Facts\"], value_vars =Time_Period,var_name=\"Time_Period\")\n",
    "\n",
    "df1[\"value\"]=df1[\"value\"].apply(pd.to_numeric)"
   ]
  },
  {
   "cell_type": "code",
   "execution_count": null,
   "metadata": {},
   "outputs": [],
   "source": [
    "df2=df1.pivot_table(index=['MKT','PROD', 'CP_MANUFACTURER', 'CP_FRANCHISE', 'CP_BRAND','CP_SUBBRAND','Time_Period'],columns='Facts')\n",
    "\n",
    "df2.columns=df2.columns.droplevel().rename(None)\n",
    "df2.reset_index(inplace =True)"
   ]
  },
  {
   "cell_type": "code",
   "execution_count": null,
   "metadata": {},
   "outputs": [],
   "source": [
    "from pandas.api.types import CategoricalDtype\n",
    "\n",
    "Time_Period_order = CategoricalDtype(\n",
    "    Time_Period, \n",
    "    ordered=True\n",
    ")\n",
    "\n",
    "df2['Time_Period'] = df2['Time_Period'].astype(Time_Period_order)\n",
    "\n",
    "df2.sort_values(['MKT','PROD','Time_Period'],inplace=True)"
   ]
  },
  {
   "cell_type": "code",
   "execution_count": null,
   "metadata": {},
   "outputs": [],
   "source": [
    "df2.head()"
   ]
  },
  {
   "cell_type": "code",
   "execution_count": null,
   "metadata": {},
   "outputs": [],
   "source": [
    "final_column_sorting=[\"MKT\",\"PROD\",\"CP_MANUFACTURER\",\"CP_FRANCHISE\",\"CP_BRAND\",\"CP_SUBBRAND\",\"Time_Period\",\"Doll_Shr\"\n",
    "                      ]\n",
    "BW_Distri_final=df2[final_column_sorting]"
   ]
  },
  {
   "cell_type": "code",
   "execution_count": null,
   "metadata": {},
   "outputs": [],
   "source": [
    "BW_Distri_final.head()"
   ]
  },
  {
   "cell_type": "code",
   "execution_count": null,
   "metadata": {},
   "outputs": [],
   "source": [
    "brand_level=BW_Distri_final.loc[(BW_Distri_final[\"CP_SUBBRAND\"]==\"\") & (BW_Distri_final[\"CP_BRAND\"]!=\"\")]\n",
    "cat_level=BW_Distri_final.loc[(BW_Distri_final[\"CP_MANUFACTURER\"].isin([\"\",\"MALE\",\"FEMALE\"]))]\n",
    "BW_Distri_Brand_and_Cat_Level=pd.concat([cat_level,brand_level],axis=0,ignore_index=True)"
   ]
  },
  {
   "cell_type": "code",
   "execution_count": null,
   "metadata": {},
   "outputs": [],
   "source": [
    "BW_Distri_Brand_and_Cat_Level[\"Cat\"] = \"\"\n",
    "for i in range(0,len(BW_Distri_Brand_and_Cat_Level)):\n",
    "    if BW_Distri_Brand_and_Cat_Level[\"CP_MANUFACTURER\"].iloc[i] == \"MALE\":\n",
    "        BW_Distri_Brand_and_Cat_Level[\"Cat\"].iloc[i] = \"MALE BW\"\n",
    "    elif BW_Distri_Brand_and_Cat_Level[\"CP_MANUFACTURER\"].iloc[i] == \"FEMALE\":\n",
    "        BW_Distri_Brand_and_Cat_Level[\"Cat\"].iloc[i] = \"FEMALE BW\"\n",
    "    else:\n",
    "        BW_Distri_Brand_and_Cat_Level[\"Cat\"].iloc[i] = BW_Distri_Brand_and_Cat_Level[\"PROD\"].iloc[i]"
   ]
  },
  {
   "cell_type": "code",
   "execution_count": null,
   "metadata": {},
   "outputs": [],
   "source": [
    "BW_Distri_Brand_and_Cat_Level['PROD'] = BW_Distri_Brand_and_Cat_Level['Cat']"
   ]
  },
  {
   "cell_type": "code",
   "execution_count": null,
   "metadata": {},
   "outputs": [],
   "source": [
    "del BW_Distri_Brand_and_Cat_Level[\"Cat\"]"
   ]
  },
  {
   "cell_type": "code",
   "execution_count": null,
   "metadata": {},
   "outputs": [],
   "source": []
  },
  {
   "cell_type": "code",
   "execution_count": null,
   "metadata": {},
   "outputs": [],
   "source": [
    "from pandas.api.types import CategoricalDtype\n",
    "\n",
    "Time_Period_order = CategoricalDtype(\n",
    "    Time_Period, \n",
    "    ordered=True\n",
    ")\n",
    "\n",
    "BW_Distri_Brand_and_Cat_Level['Time_Period'] = BW_Distri_Brand_and_Cat_Level['Time_Period'].astype(Time_Period_order)\n",
    "\n",
    "BW_Distri_Brand_and_Cat_Level.sort_values(['MKT','PROD','Time_Period'],inplace=True)"
   ]
  },
  {
   "cell_type": "code",
   "execution_count": null,
   "metadata": {},
   "outputs": [],
   "source": [
    "BW_Distri_Brand_and_Cat_Level.shape"
   ]
  },
  {
   "cell_type": "code",
   "execution_count": null,
   "metadata": {},
   "outputs": [],
   "source": [
    "length= len(BW_Distri_Brand_and_Cat_Level)\n",
    "BW_Distri_Brand_and_Cat_Level[\"Record_ID\"]=range(1,length+1)"
   ]
  },
  {
   "cell_type": "code",
   "execution_count": null,
   "metadata": {},
   "outputs": [],
   "source": [
    "#saving into csv file\n",
    "BW_Distri_Brand_and_Cat_Level.to_csv(path_BW+\"Distri_cat_doll_share.csv\",index=False)"
   ]
  },
  {
   "cell_type": "code",
   "execution_count": null,
   "metadata": {},
   "outputs": [],
   "source": []
  },
  {
   "cell_type": "markdown",
   "metadata": {},
   "source": [
    "## Household Cleaner"
   ]
  },
  {
   "cell_type": "code",
   "execution_count": null,
   "metadata": {},
   "outputs": [],
   "source": [
    "# path to store Output files\n",
    "path_HHC=\"//falmumapp34/Nielsen Connect Transition & Maintenance (20-SCP-3650)/05. Output Data/5P Output/HHC/\""
   ]
  },
  {
   "cell_type": "code",
   "execution_count": null,
   "metadata": {},
   "outputs": [],
   "source": [
    "HHC_Distri=Data_5p[Data_5p[\"ShareBasis\"].isin([\"POUR APC+WW\",\"WOOD\",\"ABRASIVE\",\"APC+WW\"])]"
   ]
  },
  {
   "cell_type": "code",
   "execution_count": null,
   "metadata": {},
   "outputs": [],
   "source": [
    "HHC_Distri[\"ShareBasis\"]=HHC_Distri[\"ShareBasis\"].str.replace(\"+\",\"t\")\n",
    "HHC_Distri[\"ShareBasis\"]=HHC_Distri[\"ShareBasis\"].str.replace('POUR APCtWW',\"POUR\")\n",
    "HHC_Distri[\"ShareBasis\"]=HHC_Distri[\"ShareBasis\"].str.replace('APCtWW',\"APC+WW\")"
   ]
  },
  {
   "cell_type": "code",
   "execution_count": null,
   "metadata": {},
   "outputs": [],
   "source": [
    "set(HHC_Distri[\"ShareBasis\"])"
   ]
  },
  {
   "cell_type": "markdown",
   "metadata": {},
   "source": [
    "**Filter Data**"
   ]
  },
  {
   "cell_type": "code",
   "execution_count": null,
   "metadata": {},
   "outputs": [],
   "source": [
    "Markets=[\"BJs\",\"CVS\",\"Dollar General\",\"Family Dollar\",\"Fiesta\",\"Kmart\",\"Publix\",\"Rite Aid\",\"Sams\",\"Target\",\"US AOC\",\"US Drug\",\"US Food\",\"Walgreens\",\"Walmart\"]\n",
    "\n",
    "#Manufacturer=[\"\",\"COLGATE-PALMOLIVE\",\"P&G\",\"GSK\",\"SANOFI\",\"DR BRONNERS\"]"
   ]
  },
  {
   "cell_type": "code",
   "execution_count": null,
   "metadata": {},
   "outputs": [],
   "source": [
    "HHC_Distri = HHC_Distri[HHC_Distri[\"Facts\"].isin(Distri_Facts)]\n",
    "HHC_Distri = HHC_Distri[HHC_Distri[\"Markets\"].isin(Markets)]\n",
    "HHC_Distri = HHC_Distri[HHC_Distri[\"Manufacturer\"].isin(Manufacturer)]"
   ]
  },
  {
   "cell_type": "code",
   "execution_count": null,
   "metadata": {},
   "outputs": [],
   "source": [
    "print(\"Missing Facts ->\",len(Distri_Facts)-len(set(HHC_Distri[\"Facts\"])),\"Missing Markets -> \",len(Markets)-len(set(HHC_Distri[\"Markets\"])))"
   ]
  },
  {
   "cell_type": "markdown",
   "metadata": {},
   "source": [
    "**Fact Mapping**"
   ]
  },
  {
   "cell_type": "code",
   "execution_count": null,
   "metadata": {},
   "outputs": [],
   "source": [
    "HHC_Distri[\"Facts\"].replace(Distri_Fact_Mapping,inplace=True)"
   ]
  },
  {
   "cell_type": "code",
   "execution_count": null,
   "metadata": {},
   "outputs": [],
   "source": [
    "HHC_Distri.head()"
   ]
  },
  {
   "cell_type": "markdown",
   "metadata": {},
   "source": [
    "**Column name Change**"
   ]
  },
  {
   "cell_type": "code",
   "execution_count": null,
   "metadata": {},
   "outputs": [],
   "source": [
    "HHC_Distri.rename(columns={\"Markets\":\"MKT\",\"Products\":\"PROD\",\"Manufacturer\":\"CP_MANUFACTURER\",\n",
    "                                \"Franchise\":\"CP_FRANCHISE\",\"Brand\":\"CP_BRAND\",\"SubBrand\":\"CP_SUBBRAND_VARIANT\",\"ShareBasis\":\"CP_SHARE_BASIS\"},inplace=True)"
   ]
  },
  {
   "cell_type": "code",
   "execution_count": null,
   "metadata": {},
   "outputs": [],
   "source": [
    "HHC_Distri.head()"
   ]
  },
  {
   "cell_type": "code",
   "execution_count": null,
   "metadata": {
    "scrolled": true
   },
   "outputs": [],
   "source": [
    "Time_Period=Distri_Time_Period\n",
    "print(Time_Period)"
   ]
  },
  {
   "cell_type": "markdown",
   "metadata": {},
   "source": [
    "**Moving Time Period to Rows and Facts to Columns**"
   ]
  },
  {
   "cell_type": "code",
   "execution_count": null,
   "metadata": {},
   "outputs": [],
   "source": [
    "df1=pd.melt(HHC_Distri, id_vars =[\"MKT\",\"PROD\",\"CP_SHARE_BASIS\",\"CP_MANUFACTURER\",\"CP_FRANCHISE\",\"CP_BRAND\",\"CP_SUBBRAND_VARIANT\",\"Facts\"], value_vars =Time_Period,var_name=\"Time_Period\")\n",
    "\n",
    "df1[\"value\"]=df1[\"value\"].apply(pd.to_numeric)"
   ]
  },
  {
   "cell_type": "code",
   "execution_count": null,
   "metadata": {},
   "outputs": [],
   "source": [
    "df2=df1.pivot_table(index=['MKT','PROD',\"CP_SHARE_BASIS\" ,'CP_MANUFACTURER', 'CP_FRANCHISE', 'CP_BRAND','CP_SUBBRAND_VARIANT','Time_Period'],columns='Facts')\n",
    "\n",
    "df2.columns=df2.columns.droplevel().rename(None)\n",
    "df2.reset_index(inplace =True)"
   ]
  },
  {
   "cell_type": "code",
   "execution_count": null,
   "metadata": {},
   "outputs": [],
   "source": [
    "from pandas.api.types import CategoricalDtype\n",
    "\n",
    "Time_Period_order = CategoricalDtype(\n",
    "    Time_Period, \n",
    "    ordered=True\n",
    ")\n",
    "\n",
    "df2['Time_Period'] = df2['Time_Period'].astype(Time_Period_order)\n",
    "\n",
    "df2.sort_values(['MKT','PROD','Time_Period'],inplace=True)"
   ]
  },
  {
   "cell_type": "code",
   "execution_count": null,
   "metadata": {},
   "outputs": [],
   "source": [
    "df2.head()"
   ]
  },
  {
   "cell_type": "code",
   "execution_count": null,
   "metadata": {},
   "outputs": [],
   "source": [
    "final_column_sorting=[\"MKT\",\"PROD\",\"CP_MANUFACTURER\",\"CP_FRANCHISE\",\"CP_BRAND\",\"CP_SUBBRAND_VARIANT\",\"Time_Period\",\"Doll_Shr\",\"Doll_Shr_Chg\",\"Base_Doll_Shr\",\"Base_Doll_Shr_Chg\",\"Store_Selling\",\"Store_Selling_Chg\",\"Doll_Velocity\",\"Doll_Velocity_Chg\",\"Cum_Distri_Pts\",\"Cum_Distri_Pts_Chg\",\"Dollars\",\"Dollars_Chg\",\"CP_SHARE_BASIS\"\n",
    "                      ]\n",
    "HHC_Distri_final=df2[final_column_sorting]"
   ]
  },
  {
   "cell_type": "code",
   "execution_count": null,
   "metadata": {
    "scrolled": true
   },
   "outputs": [],
   "source": [
    "HHC_Distri_final.head()"
   ]
  },
  {
   "cell_type": "markdown",
   "metadata": {},
   "source": [
    "### **Distri_Cat_Data**"
   ]
  },
  {
   "cell_type": "code",
   "execution_count": null,
   "metadata": {},
   "outputs": [],
   "source": [
    "Distri_Cat_Data=HHC_Distri_final.loc[(HHC_Distri_final[\"CP_SUBBRAND_VARIANT\"]==\"\") & (HHC_Distri_final[\"CP_BRAND\"]==\"\")&(HHC_Distri_final[\"CP_FRANCHISE\"]==\"\")&(HHC_Distri_final[\"CP_MANUFACTURER\"]==\"\")]"
   ]
  },
  {
   "cell_type": "code",
   "execution_count": null,
   "metadata": {},
   "outputs": [],
   "source": [
    "length= len(Distri_Cat_Data)\n",
    "Distri_Cat_Data[\"Record_ID\"]=range(1,length+1)"
   ]
  },
  {
   "cell_type": "code",
   "execution_count": null,
   "metadata": {
    "scrolled": true
   },
   "outputs": [],
   "source": [
    "Distri_Cat_Data.head(2)"
   ]
  },
  {
   "cell_type": "code",
   "execution_count": null,
   "metadata": {},
   "outputs": [],
   "source": [
    "#saving into csv file\n",
    "Distri_Cat_Data.to_csv(path_HHC+\"Distri_Cat_Data.csv\",index=False)"
   ]
  },
  {
   "cell_type": "markdown",
   "metadata": {},
   "source": [
    "### **Distri_Manu_Data**"
   ]
  },
  {
   "cell_type": "code",
   "execution_count": null,
   "metadata": {},
   "outputs": [],
   "source": [
    "Distri_Manu_Data=HHC_Distri_final.loc[(HHC_Distri_final[\"CP_SUBBRAND_VARIANT\"]==\"\") & (HHC_Distri_final[\"CP_BRAND\"]==\"\")&(HHC_Distri_final[\"CP_FRANCHISE\"]==\"\")&(HHC_Distri_final[\"CP_MANUFACTURER\"]!=\"\")]"
   ]
  },
  {
   "cell_type": "code",
   "execution_count": null,
   "metadata": {},
   "outputs": [],
   "source": [
    "length= len(Distri_Manu_Data)\n",
    "Distri_Manu_Data[\"Record_ID\"]=range(1,length+1)"
   ]
  },
  {
   "cell_type": "code",
   "execution_count": null,
   "metadata": {
    "scrolled": true
   },
   "outputs": [],
   "source": [
    "Distri_Manu_Data.head(2)"
   ]
  },
  {
   "cell_type": "code",
   "execution_count": null,
   "metadata": {},
   "outputs": [],
   "source": [
    "#saving into csv file\n",
    "Distri_Manu_Data.to_csv(path_HHC+\"Distri_Manu_Data.csv\",index=False)"
   ]
  },
  {
   "cell_type": "code",
   "execution_count": null,
   "metadata": {},
   "outputs": [],
   "source": [
    "set(Distri_Manu_Data[\"CP_SHARE_BASIS\"])"
   ]
  },
  {
   "cell_type": "code",
   "execution_count": null,
   "metadata": {},
   "outputs": [],
   "source": [
    "Distri_Manu_Data_Distri=Distri_Manu_Data[Distri_Manu_Data[\"CP_SHARE_BASIS\"].isin([\"POUR\"])]\n"
   ]
  },
  {
   "cell_type": "code",
   "execution_count": null,
   "metadata": {},
   "outputs": [],
   "source": [
    "#saving into csv file\n",
    "Distri_Manu_Data_Distri.to_csv(path_HHC+\"Distri_Manu_Data_Distri.csv\",index=False)"
   ]
  },
  {
   "cell_type": "markdown",
   "metadata": {},
   "source": [
    "### **Distri_Fran_Data**"
   ]
  },
  {
   "cell_type": "code",
   "execution_count": null,
   "metadata": {},
   "outputs": [],
   "source": [
    "Distri_Fran_Data=HHC_Distri_final.loc[(HHC_Distri_final[\"CP_SUBBRAND_VARIANT\"]==\"\") & (HHC_Distri_final[\"CP_BRAND\"]==\"\")&(HHC_Distri_final[\"CP_FRANCHISE\"]!=\"\")]"
   ]
  },
  {
   "cell_type": "code",
   "execution_count": null,
   "metadata": {},
   "outputs": [],
   "source": [
    "length= len(Distri_Fran_Data)\n",
    "Distri_Fran_Data[\"Record_ID\"]=range(1,length+1)"
   ]
  },
  {
   "cell_type": "code",
   "execution_count": null,
   "metadata": {},
   "outputs": [],
   "source": [
    "Distri_Fran_Data.head(3)"
   ]
  },
  {
   "cell_type": "code",
   "execution_count": null,
   "metadata": {},
   "outputs": [],
   "source": [
    "#saving into csv file\n",
    "Distri_Fran_Data.to_csv(path_HHC+\"Distri_Fran_Data.csv\",index=False)"
   ]
  },
  {
   "cell_type": "code",
   "execution_count": null,
   "metadata": {},
   "outputs": [],
   "source": [
    "Distri_Fran_Data_Distri=Distri_Fran_Data[Distri_Fran_Data[\"CP_SHARE_BASIS\"].isin([\"POUR\"])]"
   ]
  },
  {
   "cell_type": "code",
   "execution_count": null,
   "metadata": {},
   "outputs": [],
   "source": [
    "Distri_Fran_Data_Distri.to_csv(path_HHC+\"Distri_Fran_Data_Distri.csv\",index=False)"
   ]
  },
  {
   "cell_type": "markdown",
   "metadata": {},
   "source": [
    "### **Distri_Brand_Data**"
   ]
  },
  {
   "cell_type": "code",
   "execution_count": null,
   "metadata": {},
   "outputs": [],
   "source": [
    "Distri_Brand_Data=HHC_Distri_final.loc[(HHC_Distri_final[\"CP_SUBBRAND_VARIANT\"]==\"\") & (HHC_Distri_final[\"CP_BRAND\"]!=\"\")]"
   ]
  },
  {
   "cell_type": "code",
   "execution_count": null,
   "metadata": {},
   "outputs": [],
   "source": [
    "length= len(Distri_Brand_Data)\n",
    "Distri_Brand_Data[\"Record_ID\"]=range(1,length+1)"
   ]
  },
  {
   "cell_type": "code",
   "execution_count": null,
   "metadata": {},
   "outputs": [],
   "source": [
    "Distri_Brand_Data.head(3)"
   ]
  },
  {
   "cell_type": "code",
   "execution_count": null,
   "metadata": {},
   "outputs": [],
   "source": [
    "#saving into csv file\n",
    "Distri_Brand_Data.to_csv(path_HHC+\"Distri_Brand_Data.csv\",index=False)"
   ]
  },
  {
   "cell_type": "code",
   "execution_count": null,
   "metadata": {},
   "outputs": [],
   "source": [
    "Distri_Brand_Data_Distri=Distri_Brand_Data[Distri_Brand_Data[\"CP_SHARE_BASIS\"].isin([\"POUR\"])]"
   ]
  },
  {
   "cell_type": "code",
   "execution_count": null,
   "metadata": {},
   "outputs": [],
   "source": [
    "Distri_Brand_Data_Distri.to_csv(path_HHC+\"Distri_Brand_Data_Distri.csv\",index=False)"
   ]
  },
  {
   "cell_type": "markdown",
   "metadata": {},
   "source": [
    "### **Distri_SubBrand_Data**"
   ]
  },
  {
   "cell_type": "code",
   "execution_count": null,
   "metadata": {},
   "outputs": [],
   "source": [
    "Distri_SubBrand_Data=HHC_Distri_final.loc[(HHC_Distri_final[\"CP_SUBBRAND_VARIANT\"]!=\"\")]"
   ]
  },
  {
   "cell_type": "code",
   "execution_count": null,
   "metadata": {},
   "outputs": [],
   "source": [
    "length= len(Distri_SubBrand_Data)\n",
    "Distri_SubBrand_Data[\"Record_ID\"]=range(1,length+1)"
   ]
  },
  {
   "cell_type": "code",
   "execution_count": null,
   "metadata": {},
   "outputs": [],
   "source": [
    "Distri_SubBrand_Data.head(3)"
   ]
  },
  {
   "cell_type": "code",
   "execution_count": null,
   "metadata": {},
   "outputs": [],
   "source": [
    "#saving into csv file\n",
    "Distri_SubBrand_Data.to_csv(path_HHC+\"Distri_SubBrand_Data.csv\",index=False)"
   ]
  },
  {
   "cell_type": "markdown",
   "metadata": {},
   "source": [
    "## Distri Brand Avg Sku Monthly"
   ]
  },
  {
   "cell_type": "code",
   "execution_count": null,
   "metadata": {},
   "outputs": [],
   "source": [
    "HHC_Distri=Data_5p[Data_5p[\"ShareBasis\"].isin([\"POUR APC+WW\",\"WOOD\",\"ABRASIVE\",\"APC+WW\"])]"
   ]
  },
  {
   "cell_type": "code",
   "execution_count": null,
   "metadata": {},
   "outputs": [],
   "source": [
    "HHC_Distri[\"ShareBasis\"]=HHC_Distri[\"ShareBasis\"].str.replace(\"+\",\"t\")\n",
    "HHC_Distri[\"ShareBasis\"]=HHC_Distri[\"ShareBasis\"].str.replace('POUR APCtWW',\"POUR\")\n",
    "HHC_Distri[\"ShareBasis\"]=HHC_Distri[\"ShareBasis\"].str.replace('APCtWW',\"APC+WW\")\n",
    "set(HHC_Distri[\"ShareBasis\"])"
   ]
  },
  {
   "cell_type": "markdown",
   "metadata": {},
   "source": [
    "**Filter Data**"
   ]
  },
  {
   "cell_type": "code",
   "execution_count": null,
   "metadata": {},
   "outputs": [],
   "source": [
    "Markets=[\"BJs\",\"CVS\",\"Dollar General\",\"Family Dollar\",\"Fiesta\",\"Kmart\",\"Publix\",\"Rite Aid\",\"Sams\",\"Target\",\"US AOC\",\"US Drug\",\"US Food\",\"Walgreens\",\"Walmart\"]\n",
    "\n",
    "Facts=[\"TDP\"]\n",
    "\n",
    "#Manufacturer=[\"\",\"COLGATE-PALMOLIVE\",\"P&G\",\"GSK\",\"SANOFI\",\"DR BRONNERS\",\"UNILEVER\"]"
   ]
  },
  {
   "cell_type": "code",
   "execution_count": null,
   "metadata": {},
   "outputs": [],
   "source": [
    "HHC_Distri = HHC_Distri[HHC_Distri[\"Facts\"].isin(Facts)]\n",
    "HHC_Distri = HHC_Distri[HHC_Distri[\"Markets\"].isin(Markets)]\n",
    "HHC_Distri = HHC_Distri[HHC_Distri[\"Manufacturer\"].isin(Manufacturer)]"
   ]
  },
  {
   "cell_type": "code",
   "execution_count": null,
   "metadata": {},
   "outputs": [],
   "source": [
    "print(\"Missing Facts ->\",len(Facts)-len(set(HHC_Distri[\"Facts\"])),\"Missing Markets -> \",len(Markets)-len(set(HHC_Distri[\"Markets\"])))"
   ]
  },
  {
   "cell_type": "markdown",
   "metadata": {},
   "source": [
    "**Fact Mapping**"
   ]
  },
  {
   "cell_type": "code",
   "execution_count": null,
   "metadata": {},
   "outputs": [],
   "source": [
    "HHC_Distri[\"Facts\"].replace(Distri_Fact_Mapping,inplace=True)"
   ]
  },
  {
   "cell_type": "code",
   "execution_count": null,
   "metadata": {},
   "outputs": [],
   "source": [
    "HHC_Distri.head()"
   ]
  },
  {
   "cell_type": "markdown",
   "metadata": {},
   "source": [
    "**Column name Change**"
   ]
  },
  {
   "cell_type": "code",
   "execution_count": null,
   "metadata": {},
   "outputs": [],
   "source": [
    "HHC_Distri.rename(columns={\"Markets\":\"MKT\",\"Products\":\"PROD\",\"Manufacturer\":\"CP_MANUFACTURER\",\n",
    "                                \"Franchise\":\"CP_FRANCHISE\",\"Brand\":\"CP_BRAND\",\"SubBrand\":\"CP_SUBBRAND_VARIANT\",\"ShareBasis\":\"CP_SHARE_BASIS\"},inplace=True)"
   ]
  },
  {
   "cell_type": "code",
   "execution_count": null,
   "metadata": {
    "scrolled": true
   },
   "outputs": [],
   "source": [
    "HHC_Distri.head(2)"
   ]
  },
  {
   "cell_type": "code",
   "execution_count": null,
   "metadata": {
    "scrolled": false
   },
   "outputs": [],
   "source": [
    "Time_Period=list(HHC_Distri.columns[25:38])\n",
    "print(Time_Period)"
   ]
  },
  {
   "cell_type": "markdown",
   "metadata": {},
   "source": [
    "**Moving Time Period to Rows and Facts to Columns**"
   ]
  },
  {
   "cell_type": "code",
   "execution_count": null,
   "metadata": {},
   "outputs": [],
   "source": [
    "df1=pd.melt(HHC_Distri, id_vars =[\"MKT\",\"PROD\",\"CP_MANUFACTURER\",\"CP_FRANCHISE\",\"CP_BRAND\",\"CP_SUBBRAND_VARIANT\",\"Facts\"], value_vars =Time_Period,var_name=\"Time_Period\")\n",
    "\n",
    "df1[\"value\"]=df1[\"value\"].apply(pd.to_numeric)"
   ]
  },
  {
   "cell_type": "code",
   "execution_count": null,
   "metadata": {},
   "outputs": [],
   "source": [
    "df2=df1.pivot_table(index=['MKT','PROD', 'CP_MANUFACTURER', 'CP_FRANCHISE', 'CP_BRAND','CP_SUBBRAND_VARIANT','Time_Period'],columns='Facts')\n",
    "\n",
    "df2.columns=df2.columns.droplevel().rename(None)\n",
    "df2.reset_index(inplace =True)"
   ]
  },
  {
   "cell_type": "code",
   "execution_count": null,
   "metadata": {},
   "outputs": [],
   "source": [
    "from pandas.api.types import CategoricalDtype\n",
    "\n",
    "Time_Period_order = CategoricalDtype(\n",
    "    Time_Period, \n",
    "    ordered=True\n",
    ")\n",
    "\n",
    "df2['Time_Period'] = df2['Time_Period'].astype(Time_Period_order)\n",
    "\n",
    "df2.sort_values(['MKT','PROD','Time_Period'],inplace=True)"
   ]
  },
  {
   "cell_type": "code",
   "execution_count": null,
   "metadata": {},
   "outputs": [],
   "source": [
    "df2.head()"
   ]
  },
  {
   "cell_type": "code",
   "execution_count": null,
   "metadata": {},
   "outputs": [],
   "source": [
    "final_column_sorting=[\"MKT\",\"PROD\",\"CP_MANUFACTURER\",\"CP_FRANCHISE\",\"CP_BRAND\",\"CP_SUBBRAND_VARIANT\",\"Time_Period\",\"Cum_Distri_Pts\"\n",
    "                      ]\n",
    "HHC_Distri_final=df2[final_column_sorting]"
   ]
  },
  {
   "cell_type": "code",
   "execution_count": null,
   "metadata": {},
   "outputs": [],
   "source": [
    "HHC_Distri_final.head()"
   ]
  },
  {
   "cell_type": "code",
   "execution_count": null,
   "metadata": {},
   "outputs": [],
   "source": [
    "brand_level=HHC_Distri_final.loc[(HHC_Distri_final[\"CP_SUBBRAND_VARIANT\"]==\"\") & (HHC_Distri_final[\"CP_BRAND\"]!=\"\")]\n",
    "cat_level=HHC_Distri_final.loc[(HHC_Distri_final[\"CP_MANUFACTURER\"]==\"\")]\n",
    "HHC_Distri_Brand_and_Cat_Level=pd.concat([cat_level,brand_level],axis=0,ignore_index=True)"
   ]
  },
  {
   "cell_type": "code",
   "execution_count": null,
   "metadata": {},
   "outputs": [],
   "source": [
    "HHC_Distri_Brand_and_Cat_Level.shape"
   ]
  },
  {
   "cell_type": "code",
   "execution_count": null,
   "metadata": {},
   "outputs": [],
   "source": [
    "#saving into csv file\n",
    "HHC_Distri_Brand_and_Cat_Level.to_csv(path_HHC+\"Distri_brand_avg_skus_monthly.csv\",index=False)"
   ]
  },
  {
   "cell_type": "code",
   "execution_count": null,
   "metadata": {},
   "outputs": [],
   "source": []
  },
  {
   "cell_type": "markdown",
   "metadata": {},
   "source": [
    "## Distri Cat Dollar Share"
   ]
  },
  {
   "cell_type": "code",
   "execution_count": null,
   "metadata": {},
   "outputs": [],
   "source": [
    "HHC_Distri=Data_5p[Data_5p[\"ShareBasis\"].isin([\"POUR APC+WW\",\"WOOD\",\"ABRASIVE\",\"APC+WW\"])]"
   ]
  },
  {
   "cell_type": "code",
   "execution_count": null,
   "metadata": {},
   "outputs": [],
   "source": [
    "HHC_Distri[\"ShareBasis\"]=HHC_Distri[\"ShareBasis\"].str.replace(\"+\",\"t\")\n",
    "HHC_Distri[\"ShareBasis\"]=HHC_Distri[\"ShareBasis\"].str.replace('POUR APCtWW',\"POUR\")\n",
    "HHC_Distri[\"ShareBasis\"]=HHC_Distri[\"ShareBasis\"].str.replace('APCtWW',\"APC+WW\")\n",
    "set(HHC_Distri[\"ShareBasis\"])"
   ]
  },
  {
   "cell_type": "markdown",
   "metadata": {},
   "source": [
    "**Filter Data**"
   ]
  },
  {
   "cell_type": "code",
   "execution_count": null,
   "metadata": {},
   "outputs": [],
   "source": [
    "Markets=[\"BJs\",\"CVS\",\"Dollar General\",\"Family Dollar\",\"Fiesta\",\"Kmart\",\"Publix\",\"Rite Aid\",\"Sams\",\"Target\",\"US AOC\",\"US Drug\",\"US Food\",\"Walgreens\",\"Walmart\"]\n",
    "Facts=[\"$ Shr - CP CATEGORY\"]\n",
    "\n",
    "#Manufacturer=[\"\",\"COLGATE-PALMOLIVE\",\"P&G\",\"GSK\",\"SANOFI\",\"DR BRONNERS\",\"UNILEVER\"]"
   ]
  },
  {
   "cell_type": "code",
   "execution_count": null,
   "metadata": {},
   "outputs": [],
   "source": [
    "HHC_Distri = HHC_Distri[HHC_Distri[\"Facts\"].isin(Facts)]\n",
    "HHC_Distri = HHC_Distri[HHC_Distri[\"Markets\"].isin(Markets)]\n",
    "HHC_Distri = HHC_Distri[HHC_Distri[\"Manufacturer\"].isin(Manufacturer)]"
   ]
  },
  {
   "cell_type": "code",
   "execution_count": null,
   "metadata": {},
   "outputs": [],
   "source": [
    "print(\"Missing Facts ->\",len(Facts)-len(set(HHC_Distri[\"Facts\"])),\"Missing Markets -> \",len(Markets)-len(set(HHC_Distri[\"Markets\"])))"
   ]
  },
  {
   "cell_type": "markdown",
   "metadata": {},
   "source": [
    "**Fact Mapping**"
   ]
  },
  {
   "cell_type": "code",
   "execution_count": null,
   "metadata": {},
   "outputs": [],
   "source": [
    "HHC_Distri[\"Facts\"].replace(Distri_Fact_Mapping,inplace=True)"
   ]
  },
  {
   "cell_type": "code",
   "execution_count": null,
   "metadata": {},
   "outputs": [],
   "source": [
    "HHC_Distri.head()"
   ]
  },
  {
   "cell_type": "markdown",
   "metadata": {},
   "source": [
    "**Column name Change**"
   ]
  },
  {
   "cell_type": "code",
   "execution_count": null,
   "metadata": {},
   "outputs": [],
   "source": [
    "HHC_Distri.rename(columns={\"Markets\":\"MKT\",\"Products\":\"PROD\",\"Manufacturer\":\"CP_MANUFACTURER\",\n",
    "                                \"Franchise\":\"CP_FRANCHISE\",\"Brand\":\"CP_BRAND\",\"SubBrand\":\"CP_SUBBRAND_VARIANT\",\"ShareBasis\":\"CP_SHARE_BASIS\"},inplace=True)"
   ]
  },
  {
   "cell_type": "code",
   "execution_count": null,
   "metadata": {
    "scrolled": true
   },
   "outputs": [],
   "source": [
    "HHC_Distri.head(2)"
   ]
  },
  {
   "cell_type": "code",
   "execution_count": null,
   "metadata": {
    "scrolled": true
   },
   "outputs": [],
   "source": [
    "Time_Period=list(HHC_Distri.columns[25:38])\n",
    "print(Time_Period)"
   ]
  },
  {
   "cell_type": "markdown",
   "metadata": {},
   "source": [
    "**Moving Time Period to Rows and Facts to Columns**"
   ]
  },
  {
   "cell_type": "code",
   "execution_count": null,
   "metadata": {},
   "outputs": [],
   "source": [
    "df1=pd.melt(HHC_Distri, id_vars =[\"MKT\",\"PROD\",\"CP_SHARE_BASIS\",\"CP_MANUFACTURER\",\"CP_FRANCHISE\",\"CP_BRAND\",\"CP_SUBBRAND_VARIANT\",\"Facts\"], value_vars =Time_Period,var_name=\"Time_Period\")\n",
    "\n",
    "df1[\"value\"]=df1[\"value\"].apply(pd.to_numeric)"
   ]
  },
  {
   "cell_type": "code",
   "execution_count": null,
   "metadata": {},
   "outputs": [],
   "source": [
    "df2=df1.pivot_table(index=['MKT','PROD', \"CP_SHARE_BASIS\",'CP_MANUFACTURER', 'CP_FRANCHISE', 'CP_BRAND','CP_SUBBRAND_VARIANT','Time_Period'],columns='Facts')\n",
    "\n",
    "df2.columns=df2.columns.droplevel().rename(None)\n",
    "df2.reset_index(inplace =True)"
   ]
  },
  {
   "cell_type": "code",
   "execution_count": null,
   "metadata": {},
   "outputs": [],
   "source": [
    "from pandas.api.types import CategoricalDtype\n",
    "\n",
    "Time_Period_order = CategoricalDtype(\n",
    "    Time_Period, \n",
    "    ordered=True\n",
    ")\n",
    "\n",
    "df2['Time_Period'] = df2['Time_Period'].astype(Time_Period_order)\n",
    "\n",
    "df2.sort_values(['MKT','PROD','Time_Period'],inplace=True)"
   ]
  },
  {
   "cell_type": "code",
   "execution_count": null,
   "metadata": {},
   "outputs": [],
   "source": [
    "df2.head()"
   ]
  },
  {
   "cell_type": "code",
   "execution_count": null,
   "metadata": {},
   "outputs": [],
   "source": [
    "final_column_sorting=[\"MKT\",\"PROD\",\"CP_MANUFACTURER\",\"CP_FRANCHISE\",\"CP_BRAND\",\"CP_SUBBRAND_VARIANT\",\"Time_Period\",\"Doll_Shr\"\n",
    "                      ,\"CP_SHARE_BASIS\"]\n",
    "HHC_Distri_final=df2[final_column_sorting]"
   ]
  },
  {
   "cell_type": "code",
   "execution_count": null,
   "metadata": {},
   "outputs": [],
   "source": [
    "HHC_Distri_final.head()"
   ]
  },
  {
   "cell_type": "code",
   "execution_count": null,
   "metadata": {},
   "outputs": [],
   "source": [
    "brand_level=HHC_Distri_final.loc[(HHC_Distri_final[\"CP_SUBBRAND_VARIANT\"]==\"\") & (HHC_Distri_final[\"CP_BRAND\"]!=\"\")]\n",
    "cat_level=HHC_Distri_final.loc[(HHC_Distri_final[\"CP_MANUFACTURER\"]==\"\")]\n",
    "HHC_Distri_Brand_and_Cat_Level=pd.concat([cat_level,brand_level],axis=0,ignore_index=True)"
   ]
  },
  {
   "cell_type": "code",
   "execution_count": null,
   "metadata": {},
   "outputs": [],
   "source": [
    "HHC_Distri_Brand_and_Cat_Level.shape"
   ]
  },
  {
   "cell_type": "code",
   "execution_count": null,
   "metadata": {},
   "outputs": [],
   "source": [
    "#saving into csv file\n",
    "HHC_Distri_Brand_and_Cat_Level.to_csv(path_HHC+\"Distri_cat_doll_share.csv\",index=False)"
   ]
  },
  {
   "cell_type": "code",
   "execution_count": null,
   "metadata": {},
   "outputs": [],
   "source": []
  },
  {
   "cell_type": "markdown",
   "metadata": {},
   "source": [
    "## Bar"
   ]
  },
  {
   "cell_type": "code",
   "execution_count": null,
   "metadata": {},
   "outputs": [],
   "source": [
    "# path to store Output files\n",
    "path_Bar=\"//falmumapp34/Nielsen Connect Transition & Maintenance (20-SCP-3650)/05. Output Data/5P Output/BAR/\""
   ]
  },
  {
   "cell_type": "raw",
   "metadata": {},
   "source": []
  },
  {
   "cell_type": "code",
   "execution_count": null,
   "metadata": {},
   "outputs": [],
   "source": [
    "Bar_Distri=Data_5p[Data_5p[\"ShareBasis\"]==\"BAR\"]"
   ]
  },
  {
   "cell_type": "markdown",
   "metadata": {},
   "source": [
    "**Filter Data**"
   ]
  },
  {
   "cell_type": "code",
   "execution_count": null,
   "metadata": {},
   "outputs": [],
   "source": [
    "#blank manufacturer?\n",
    "Markets=[\"Ahold\",\"Alb/Sfy\",\"BJs\",\"CVS\",\"Dollar General\",\"Family Dollar\",\"Kmart\",\"Publix\",\n",
    "        \"Rite Aid\",\"Sams\",\"Shoprite\",\"Target\",\"US AOC\",\"US Drug\",\"US Food\",\"Walgreens\",\"Walmart\"]\n",
    "\n",
    "Manufacturer=[\"\",\"COLGATE-PALMOLIVE\",\"UNILEVER\",\"P&G\",\"HENKEL\",\"SC JOHNSON\",\"PRVT LBL\"]"
   ]
  },
  {
   "cell_type": "code",
   "execution_count": null,
   "metadata": {},
   "outputs": [],
   "source": [
    "Bar_Distri = Bar_Distri[Bar_Distri[\"Facts\"].isin(Distri_Facts)]\n",
    "Bar_Distri = Bar_Distri[Bar_Distri[\"Markets\"].isin(Markets)]\n",
    "Bar_Distri = Bar_Distri[Bar_Distri[\"Manufacturer\"].isin(Manufacturer)]"
   ]
  },
  {
   "cell_type": "code",
   "execution_count": null,
   "metadata": {},
   "outputs": [],
   "source": [
    "print(\"Missing Facts ->\",len(Distri_Facts)-len(set(Bar_Distri[\"Facts\"])),\"Missing Markets -> \",len(Markets)-len(set(Bar_Distri[\"Markets\"])))"
   ]
  },
  {
   "cell_type": "markdown",
   "metadata": {},
   "source": [
    "**Fact Mapping**"
   ]
  },
  {
   "cell_type": "code",
   "execution_count": null,
   "metadata": {},
   "outputs": [],
   "source": [
    "Bar_Distri[\"Facts\"].replace(Distri_Fact_Mapping,inplace=True)"
   ]
  },
  {
   "cell_type": "code",
   "execution_count": null,
   "metadata": {},
   "outputs": [],
   "source": [
    "Bar_Distri.head()"
   ]
  },
  {
   "cell_type": "markdown",
   "metadata": {},
   "source": [
    "**Column name Change**"
   ]
  },
  {
   "cell_type": "code",
   "execution_count": null,
   "metadata": {},
   "outputs": [],
   "source": [
    "Bar_Distri.rename(columns={\"Markets\":\"MKT\",\"Products\":\"PROD\",\"Manufacturer\":\"CP_MANUFACTURER\",\n",
    "                                \"Franchise\":\"CP_FRANCHISE\",\"Brand\":\"CP_BRAND\",\"SubBrand\":\"CP_SUBBRAND\"},inplace=True)"
   ]
  },
  {
   "cell_type": "code",
   "execution_count": null,
   "metadata": {},
   "outputs": [],
   "source": [
    "Bar_Distri.head()"
   ]
  },
  {
   "cell_type": "code",
   "execution_count": null,
   "metadata": {
    "scrolled": true
   },
   "outputs": [],
   "source": [
    "Time_Period=Distri_Time_Period\n",
    "print(Time_Period)"
   ]
  },
  {
   "cell_type": "markdown",
   "metadata": {},
   "source": [
    "**Moving Time Period to Rows and Facts to Columns**"
   ]
  },
  {
   "cell_type": "code",
   "execution_count": null,
   "metadata": {},
   "outputs": [],
   "source": [
    "df1=pd.melt(Bar_Distri, id_vars =[\"MKT\",\"PROD\",\"CP_MANUFACTURER\",\"CP_FRANCHISE\",\"CP_BRAND\",\"CP_SUBBRAND\",\"Facts\"], value_vars =Time_Period,var_name=\"Time_Period\")\n",
    "\n",
    "df1[\"value\"]=df1[\"value\"].apply(pd.to_numeric)"
   ]
  },
  {
   "cell_type": "code",
   "execution_count": null,
   "metadata": {},
   "outputs": [],
   "source": [
    "df2=df1.pivot_table(index=['MKT','PROD', 'CP_MANUFACTURER', 'CP_FRANCHISE', 'CP_BRAND','CP_SUBBRAND','Time_Period'],columns='Facts')\n",
    "\n",
    "df2.columns=df2.columns.droplevel().rename(None)\n",
    "df2.reset_index(inplace =True)"
   ]
  },
  {
   "cell_type": "code",
   "execution_count": null,
   "metadata": {},
   "outputs": [],
   "source": [
    "from pandas.api.types import CategoricalDtype\n",
    "\n",
    "Time_Period_order = CategoricalDtype(\n",
    "    Time_Period, \n",
    "    ordered=True\n",
    ")\n",
    "\n",
    "df2['Time_Period'] = df2['Time_Period'].astype(Time_Period_order)\n",
    "\n",
    "df2.sort_values(['MKT','PROD','Time_Period'],inplace=True)"
   ]
  },
  {
   "cell_type": "code",
   "execution_count": null,
   "metadata": {},
   "outputs": [],
   "source": [
    "df2.head()"
   ]
  },
  {
   "cell_type": "code",
   "execution_count": null,
   "metadata": {},
   "outputs": [],
   "source": [
    "final_column_sorting=[\"MKT\",\"PROD\",\"CP_MANUFACTURER\",\"CP_FRANCHISE\",\"CP_BRAND\",\"CP_SUBBRAND\",\"Time_Period\",\"Doll_Shr\",\n",
    "                      \"Doll_Shr_Chg\",\"Base_Doll_Shr\",\"Base_Doll_Shr_Chg\",\"Store_Selling\",\"Store_Selling_Chg\",\"Doll_Velocity\",\n",
    "                      \"Doll_Velocity_Chg\",\"Cum_Distri_Pts\",\"Cum_Distri_Pts_Chg\",\"Dollars\",\"Dollars_Chg\"\n",
    "                      ]\n",
    "Bar_Distri_final=df2[final_column_sorting]"
   ]
  },
  {
   "cell_type": "code",
   "execution_count": null,
   "metadata": {
    "scrolled": true
   },
   "outputs": [],
   "source": [
    "Bar_Distri_final.head(4)"
   ]
  },
  {
   "cell_type": "markdown",
   "metadata": {},
   "source": [
    "### **Distri_Cat_Data**"
   ]
  },
  {
   "cell_type": "code",
   "execution_count": null,
   "metadata": {},
   "outputs": [],
   "source": [
    "Distri_Cat_Data=Bar_Distri_final.loc[(Bar_Distri_final[\"CP_SUBBRAND\"]==\"\") & (Bar_Distri_final[\"CP_BRAND\"]==\"\")&(Bar_Distri_final[\"CP_FRANCHISE\"]==\"\")&(Bar_Distri_final[\"CP_MANUFACTURER\"]==\"\")]"
   ]
  },
  {
   "cell_type": "code",
   "execution_count": null,
   "metadata": {},
   "outputs": [],
   "source": [
    "length= len(Distri_Cat_Data)\n",
    "Distri_Cat_Data[\"Record_ID\"]=range(1,length+1)"
   ]
  },
  {
   "cell_type": "code",
   "execution_count": null,
   "metadata": {},
   "outputs": [],
   "source": [
    "Distri_Cat_Data.head(2)"
   ]
  },
  {
   "cell_type": "code",
   "execution_count": null,
   "metadata": {},
   "outputs": [],
   "source": [
    "#saving into csv file\n",
    "Distri_Cat_Data.to_csv(path_Bar+\"Distri_Cat_Data.csv\",index=False)"
   ]
  },
  {
   "cell_type": "markdown",
   "metadata": {},
   "source": [
    "### **Distri_Manu_Data**"
   ]
  },
  {
   "cell_type": "code",
   "execution_count": null,
   "metadata": {},
   "outputs": [],
   "source": [
    "Distri_Manu_Data=Bar_Distri_final.loc[(Bar_Distri_final[\"CP_SUBBRAND\"]==\"\") & (Bar_Distri_final[\"CP_BRAND\"]==\"\")&(Bar_Distri_final[\"CP_FRANCHISE\"]==\"\")&(Bar_Distri_final[\"CP_MANUFACTURER\"]!=\"\")]"
   ]
  },
  {
   "cell_type": "code",
   "execution_count": null,
   "metadata": {},
   "outputs": [],
   "source": [
    "length= len(Distri_Manu_Data)\n",
    "Distri_Manu_Data[\"Record_ID\"]=range(1,length+1)"
   ]
  },
  {
   "cell_type": "code",
   "execution_count": null,
   "metadata": {},
   "outputs": [],
   "source": [
    "Distri_Manu_Data.head(2)"
   ]
  },
  {
   "cell_type": "code",
   "execution_count": null,
   "metadata": {},
   "outputs": [],
   "source": [
    "#saving into csv file\n",
    "Distri_Manu_Data.to_csv(path_Bar+\"Distri_Manu_Data.csv\",index=False)"
   ]
  },
  {
   "cell_type": "markdown",
   "metadata": {},
   "source": [
    "### **Distri_Fran_Data**"
   ]
  },
  {
   "cell_type": "code",
   "execution_count": null,
   "metadata": {},
   "outputs": [],
   "source": [
    "Distri_Fran_Data=Bar_Distri_final.loc[(Bar_Distri_final[\"CP_SUBBRAND\"]==\"\") & (Bar_Distri_final[\"CP_BRAND\"]==\"\")&(Bar_Distri_final[\"CP_FRANCHISE\"]!=\"\")]"
   ]
  },
  {
   "cell_type": "code",
   "execution_count": null,
   "metadata": {},
   "outputs": [],
   "source": [
    "length= len(Distri_Fran_Data)\n",
    "Distri_Fran_Data[\"Record_ID\"]=range(1,length+1)"
   ]
  },
  {
   "cell_type": "code",
   "execution_count": null,
   "metadata": {},
   "outputs": [],
   "source": [
    "Distri_Fran_Data.head(3)"
   ]
  },
  {
   "cell_type": "code",
   "execution_count": null,
   "metadata": {},
   "outputs": [],
   "source": [
    "#saving into csv file\n",
    "Distri_Fran_Data.to_csv(path_Bar+\"Distri_Fran_Data.csv\",index=False)"
   ]
  },
  {
   "cell_type": "markdown",
   "metadata": {},
   "source": [
    "### **Distri_Brand_Data**"
   ]
  },
  {
   "cell_type": "code",
   "execution_count": null,
   "metadata": {},
   "outputs": [],
   "source": [
    "Distri_Brand_Data=Bar_Distri_final.loc[(Bar_Distri_final[\"CP_SUBBRAND\"]==\"\") & (Bar_Distri_final[\"CP_BRAND\"]!=\"\")]"
   ]
  },
  {
   "cell_type": "code",
   "execution_count": null,
   "metadata": {},
   "outputs": [],
   "source": [
    "length= len(Distri_Brand_Data)\n",
    "Distri_Brand_Data[\"Record_ID\"]=range(1,length+1)"
   ]
  },
  {
   "cell_type": "code",
   "execution_count": null,
   "metadata": {},
   "outputs": [],
   "source": [
    "Distri_Brand_Data.head(3)"
   ]
  },
  {
   "cell_type": "code",
   "execution_count": null,
   "metadata": {},
   "outputs": [],
   "source": [
    "#saving into csv file\n",
    "Distri_Brand_Data.to_csv(path_Bar+\"Distri_Brand_Data.csv\",index=False)"
   ]
  },
  {
   "cell_type": "markdown",
   "metadata": {},
   "source": [
    "### **Distri_SubBrand_Data**"
   ]
  },
  {
   "cell_type": "code",
   "execution_count": null,
   "metadata": {},
   "outputs": [],
   "source": [
    "Distri_SubBrand_Data=Bar_Distri_final.loc[(Bar_Distri_final[\"CP_SUBBRAND\"]!=\"\")]"
   ]
  },
  {
   "cell_type": "code",
   "execution_count": null,
   "metadata": {},
   "outputs": [],
   "source": [
    "length= len(Distri_SubBrand_Data)\n",
    "Distri_SubBrand_Data[\"Record_ID\"]=range(1,length+1)"
   ]
  },
  {
   "cell_type": "code",
   "execution_count": null,
   "metadata": {},
   "outputs": [],
   "source": [
    "Distri_SubBrand_Data.head(3)"
   ]
  },
  {
   "cell_type": "code",
   "execution_count": null,
   "metadata": {},
   "outputs": [],
   "source": [
    "#saving into csv file\n",
    "Distri_SubBrand_Data.to_csv(path_Bar+\"Distri_SubBrand_Data.csv\",index=False)"
   ]
  },
  {
   "cell_type": "markdown",
   "metadata": {},
   "source": [
    "## Distri Brand Avg Sku Monthly"
   ]
  },
  {
   "cell_type": "code",
   "execution_count": null,
   "metadata": {},
   "outputs": [],
   "source": [
    "Bar_Distri=Data_5p[Data_5p[\"ShareBasis\"]==\"BAR\"]"
   ]
  },
  {
   "cell_type": "markdown",
   "metadata": {},
   "source": [
    "**Filter Data**"
   ]
  },
  {
   "cell_type": "code",
   "execution_count": null,
   "metadata": {},
   "outputs": [],
   "source": [
    "Markets=[\"Ahold\",\"Alb/Sfy\",\"BJs\",\"CVS\",\"Dollar General\",\"Family Dollar\",\"Kmart\",\"Publix\",\n",
    "         \"Rite Aid\",\"Sams\",\"Shoprite\",\"Target\",\"US AOC\",\"US Drug\",\"US Food\",\"Walgreens\",\"Walmart\"]\n",
    "\n",
    "Facts=[\"TDP\"]\n",
    "\n",
    "Manufacturer=[\"\",\"COLGATE-PALMOLIVE\",\"UNILEVER\",\"P&G\",\"HENKEL\",\"SC JOHNSON\",\"PRVT LBL\"]"
   ]
  },
  {
   "cell_type": "code",
   "execution_count": null,
   "metadata": {},
   "outputs": [],
   "source": [
    "Bar_Distri = Bar_Distri[Bar_Distri[\"Facts\"].isin(Facts)]\n",
    "Bar_Distri = Bar_Distri[Bar_Distri[\"Markets\"].isin(Markets)]\n",
    "Bar_Distri = Bar_Distri[Bar_Distri[\"Manufacturer\"].isin(Manufacturer)]"
   ]
  },
  {
   "cell_type": "code",
   "execution_count": null,
   "metadata": {},
   "outputs": [],
   "source": [
    "print(\"Missing Facts ->\",len(Facts)-len(set(Bar_Distri[\"Facts\"])),\"Missing Markets -> \",len(Markets)-len(set(Bar_Distri[\"Markets\"])))"
   ]
  },
  {
   "cell_type": "markdown",
   "metadata": {},
   "source": [
    "**Fact Mapping**"
   ]
  },
  {
   "cell_type": "code",
   "execution_count": null,
   "metadata": {},
   "outputs": [],
   "source": [
    "Bar_Distri[\"Facts\"].replace(Distri_Fact_Mapping,inplace=True)"
   ]
  },
  {
   "cell_type": "code",
   "execution_count": null,
   "metadata": {},
   "outputs": [],
   "source": [
    "Bar_Distri.head()"
   ]
  },
  {
   "cell_type": "markdown",
   "metadata": {},
   "source": [
    "**Column name Change**"
   ]
  },
  {
   "cell_type": "code",
   "execution_count": null,
   "metadata": {},
   "outputs": [],
   "source": [
    "Bar_Distri.rename(columns={\"Markets\":\"MKT\",\"Products\":\"PROD\",\"Manufacturer\":\"CP_MANUFACTURER\",\n",
    "                                \"Franchise\":\"CP_FRANCHISE\",\"Brand\":\"CP_BRAND\",\"SubBrand\":\"CP_SUBBRAND\"},inplace=True)"
   ]
  },
  {
   "cell_type": "code",
   "execution_count": null,
   "metadata": {
    "scrolled": true
   },
   "outputs": [],
   "source": [
    "Bar_Distri.head(2)"
   ]
  },
  {
   "cell_type": "code",
   "execution_count": null,
   "metadata": {
    "scrolled": true
   },
   "outputs": [],
   "source": [
    "Time_Period=list(Bar_Distri.columns[25:38][::-1])\n",
    "print(Time_Period)"
   ]
  },
  {
   "cell_type": "markdown",
   "metadata": {},
   "source": [
    "**Moving Time Period to Rows and Facts to Columns**"
   ]
  },
  {
   "cell_type": "code",
   "execution_count": null,
   "metadata": {},
   "outputs": [],
   "source": [
    "df1=pd.melt(Bar_Distri, id_vars =[\"MKT\",\"PROD\",\"CP_MANUFACTURER\",\"CP_FRANCHISE\",\"CP_BRAND\",\"CP_SUBBRAND\",\"Facts\"], value_vars =Time_Period,var_name=\"Time_Period\")\n",
    "\n",
    "df1[\"value\"]=df1[\"value\"].apply(pd.to_numeric)"
   ]
  },
  {
   "cell_type": "code",
   "execution_count": null,
   "metadata": {},
   "outputs": [],
   "source": [
    "df2=df1.pivot_table(index=['MKT','PROD', 'CP_MANUFACTURER', 'CP_FRANCHISE', 'CP_BRAND','CP_SUBBRAND','Time_Period'],columns='Facts')\n",
    "\n",
    "df2.columns=df2.columns.droplevel().rename(None)\n",
    "df2.reset_index(inplace =True)"
   ]
  },
  {
   "cell_type": "code",
   "execution_count": null,
   "metadata": {},
   "outputs": [],
   "source": [
    "from pandas.api.types import CategoricalDtype\n",
    "\n",
    "Time_Period_order = CategoricalDtype(\n",
    "    Time_Period, \n",
    "    ordered=True\n",
    ")\n",
    "\n",
    "df2['Time_Period'] = df2['Time_Period'].astype(Time_Period_order)\n",
    "\n",
    "df2.sort_values(['MKT','PROD','Time_Period'],inplace=True)"
   ]
  },
  {
   "cell_type": "code",
   "execution_count": null,
   "metadata": {},
   "outputs": [],
   "source": [
    "df2.head()"
   ]
  },
  {
   "cell_type": "code",
   "execution_count": null,
   "metadata": {},
   "outputs": [],
   "source": [
    "final_column_sorting=[\"MKT\",\"PROD\",\"CP_MANUFACTURER\",\"CP_FRANCHISE\",\"CP_BRAND\",\"CP_SUBBRAND\",\"Time_Period\",\"Cum_Distri_Pts\"\n",
    "                      ]\n",
    "Bar_Distri_final=df2[final_column_sorting]"
   ]
  },
  {
   "cell_type": "code",
   "execution_count": null,
   "metadata": {},
   "outputs": [],
   "source": [
    "Bar_Distri_final.head()"
   ]
  },
  {
   "cell_type": "code",
   "execution_count": null,
   "metadata": {},
   "outputs": [],
   "source": [
    "brand_level=Bar_Distri_final.loc[(Bar_Distri_final[\"CP_SUBBRAND\"]==\"\") & (Bar_Distri_final[\"CP_BRAND\"]!=\"\")]\n",
    "cat_level=Bar_Distri_final.loc[(Bar_Distri_final[\"CP_MANUFACTURER\"]==\"\")]\n",
    "Bar_Distri_Brand_and_Cat_Level=pd.concat([cat_level,brand_level],axis=0,ignore_index=True)"
   ]
  },
  {
   "cell_type": "code",
   "execution_count": null,
   "metadata": {},
   "outputs": [],
   "source": [
    "Bar_Distri_Brand_and_Cat_Level.shape"
   ]
  },
  {
   "cell_type": "code",
   "execution_count": null,
   "metadata": {},
   "outputs": [],
   "source": [
    "#saving into csv file\n",
    "Bar_Distri_Brand_and_Cat_Level.to_csv(path_Bar+\"Distri_brand_avg_skus_monthly.csv\",index=False)"
   ]
  },
  {
   "cell_type": "code",
   "execution_count": null,
   "metadata": {},
   "outputs": [],
   "source": []
  },
  {
   "cell_type": "markdown",
   "metadata": {},
   "source": [
    "## Distri Cat Dollar Share"
   ]
  },
  {
   "cell_type": "code",
   "execution_count": null,
   "metadata": {},
   "outputs": [],
   "source": [
    "Bar_Distri=Data_5p[Data_5p[\"ShareBasis\"]==\"BAR\"]"
   ]
  },
  {
   "cell_type": "markdown",
   "metadata": {},
   "source": [
    "**Filter Data**"
   ]
  },
  {
   "cell_type": "code",
   "execution_count": null,
   "metadata": {},
   "outputs": [],
   "source": [
    "Markets=[\"Ahold\",\"Alb/Sfy\",\"BJs\",\"CVS\",\"Dollar General\",\"Family Dollar\",\"Kmart\",\"Publix\",\n",
    "         \"Rite Aid\",\"Sams\",\"Shoprite\",\"Target\",\"US AOC\",\"US Drug\",\"US Food\",\"Walgreens\",\"Walmart\"]\n",
    "\n",
    "Facts=[\"$ Shr - CP CATEGORY\"]\n",
    "\n",
    "Manufacturer=[\"\",\"COLGATE-PALMOLIVE\",\"UNILEVER\",\"P&G\",\"HENKEL\",\"SC JOHNSON\",\"PRVT LBL\"]"
   ]
  },
  {
   "cell_type": "code",
   "execution_count": null,
   "metadata": {},
   "outputs": [],
   "source": [
    "Bar_Distri = Bar_Distri[Bar_Distri[\"Facts\"].isin(Facts)]\n",
    "Bar_Distri = Bar_Distri[Bar_Distri[\"Markets\"].isin(Markets)]\n",
    "Bar_Distri = Bar_Distri[Bar_Distri[\"Manufacturer\"].isin(Manufacturer)]"
   ]
  },
  {
   "cell_type": "code",
   "execution_count": null,
   "metadata": {},
   "outputs": [],
   "source": [
    "print(\"Missing Facts ->\",len(Facts)-len(set(Bar_Distri[\"Facts\"])),\"Missing Markets -> \",len(Markets)-len(set(Bar_Distri[\"Markets\"])))"
   ]
  },
  {
   "cell_type": "markdown",
   "metadata": {},
   "source": [
    "**Fact Mapping**"
   ]
  },
  {
   "cell_type": "code",
   "execution_count": null,
   "metadata": {},
   "outputs": [],
   "source": [
    "Bar_Distri[\"Facts\"].replace(Distri_Fact_Mapping,inplace=True)"
   ]
  },
  {
   "cell_type": "code",
   "execution_count": null,
   "metadata": {},
   "outputs": [],
   "source": [
    "Bar_Distri.head()"
   ]
  },
  {
   "cell_type": "markdown",
   "metadata": {},
   "source": [
    "**Column name Change**"
   ]
  },
  {
   "cell_type": "code",
   "execution_count": null,
   "metadata": {},
   "outputs": [],
   "source": [
    "Bar_Distri.rename(columns={\"Markets\":\"MKT\",\"Products\":\"PROD\",\"Manufacturer\":\"CP_MANUFACTURER\",\n",
    "                                \"Franchise\":\"CP_FRANCHISE\",\"Brand\":\"CP_BRAND\",\"SubBrand\":\"CP_SUBBRAND\"},inplace=True)"
   ]
  },
  {
   "cell_type": "code",
   "execution_count": null,
   "metadata": {
    "scrolled": true
   },
   "outputs": [],
   "source": [
    "Bar_Distri.head(2)"
   ]
  },
  {
   "cell_type": "code",
   "execution_count": null,
   "metadata": {
    "scrolled": true
   },
   "outputs": [],
   "source": [
    "Time_Period=list(Bar_Distri.columns[25:38][::-1])\n",
    "print(Time_Period)"
   ]
  },
  {
   "cell_type": "markdown",
   "metadata": {},
   "source": [
    "**Moving Time Period to Rows and Facts to Columns**"
   ]
  },
  {
   "cell_type": "code",
   "execution_count": null,
   "metadata": {},
   "outputs": [],
   "source": [
    "df1=pd.melt(Bar_Distri, id_vars =[\"MKT\",\"PROD\",\"CP_MANUFACTURER\",\"CP_FRANCHISE\",\"CP_BRAND\",\"CP_SUBBRAND\",\"Facts\"], value_vars =Time_Period,var_name=\"Time_Period\")\n",
    "\n",
    "df1[\"value\"]=df1[\"value\"].apply(pd.to_numeric)"
   ]
  },
  {
   "cell_type": "code",
   "execution_count": null,
   "metadata": {},
   "outputs": [],
   "source": [
    "df2=df1.pivot_table(index=['MKT','PROD', 'CP_MANUFACTURER', 'CP_FRANCHISE', 'CP_BRAND','CP_SUBBRAND','Time_Period'],columns='Facts')\n",
    "\n",
    "df2.columns=df2.columns.droplevel().rename(None)\n",
    "df2.reset_index(inplace =True)"
   ]
  },
  {
   "cell_type": "code",
   "execution_count": null,
   "metadata": {},
   "outputs": [],
   "source": [
    "from pandas.api.types import CategoricalDtype\n",
    "\n",
    "Time_Period_order = CategoricalDtype(\n",
    "    Time_Period, \n",
    "    ordered=True\n",
    ")\n",
    "\n",
    "df2['Time_Period'] = df2['Time_Period'].astype(Time_Period_order)\n",
    "\n",
    "df2.sort_values(['MKT','PROD','Time_Period'],inplace=True)"
   ]
  },
  {
   "cell_type": "code",
   "execution_count": null,
   "metadata": {},
   "outputs": [],
   "source": [
    "df2.head()"
   ]
  },
  {
   "cell_type": "code",
   "execution_count": null,
   "metadata": {},
   "outputs": [],
   "source": [
    "final_column_sorting=[\"MKT\",\"PROD\",\"CP_MANUFACTURER\",\"CP_FRANCHISE\",\"CP_BRAND\",\"CP_SUBBRAND\",\"Time_Period\",\"Doll_Shr\"\n",
    "                      ]\n",
    "Bar_Distri_final=df2[final_column_sorting]"
   ]
  },
  {
   "cell_type": "code",
   "execution_count": null,
   "metadata": {},
   "outputs": [],
   "source": [
    "Bar_Distri_final.head()"
   ]
  },
  {
   "cell_type": "code",
   "execution_count": null,
   "metadata": {},
   "outputs": [],
   "source": [
    "brand_level=Bar_Distri_final.loc[(Bar_Distri_final[\"CP_SUBBRAND\"]==\"\") & (Bar_Distri_final[\"CP_BRAND\"]!=\"\")]\n",
    "cat_level=Bar_Distri_final.loc[(Bar_Distri_final[\"CP_MANUFACTURER\"]==\"\")]\n",
    "Bar_Distri_Brand_and_Cat_Level=pd.concat([cat_level,brand_level],axis=0,ignore_index=True)"
   ]
  },
  {
   "cell_type": "code",
   "execution_count": null,
   "metadata": {},
   "outputs": [],
   "source": [
    "Bar_Distri_Brand_and_Cat_Level.shape"
   ]
  },
  {
   "cell_type": "code",
   "execution_count": null,
   "metadata": {},
   "outputs": [],
   "source": [
    "#saving into csv file\n",
    "Bar_Distri_Brand_and_Cat_Level.to_csv(path_Bar+\"Distri_cat_doll_share.csv\",index=False)"
   ]
  },
  {
   "cell_type": "code",
   "execution_count": null,
   "metadata": {},
   "outputs": [],
   "source": []
  },
  {
   "cell_type": "markdown",
   "metadata": {},
   "source": [
    "## LDL\n"
   ]
  },
  {
   "cell_type": "markdown",
   "metadata": {},
   "source": [
    "Assigning path of the folder where **LDL TOTAL** data files are stored"
   ]
  },
  {
   "cell_type": "code",
   "execution_count": null,
   "metadata": {},
   "outputs": [],
   "source": [
    "path = \"//falmumapp34/Nielsen Connect Transition & Maintenance (20-SCP-3650)/03. Raw Data/Connect Data/Line Monthly\"\n",
    "files = os.listdir(path)"
   ]
  },
  {
   "cell_type": "markdown",
   "metadata": {},
   "source": [
    "Selecting only **excel files** from all the files available in the above path"
   ]
  },
  {
   "cell_type": "code",
   "execution_count": null,
   "metadata": {},
   "outputs": [],
   "source": [
    "files_xls = [f for f in files if f[:3] == \"LDL\"]\n",
    "print(\"Total number of files in the folder are \",len(files_xls))"
   ]
  },
  {
   "cell_type": "code",
   "execution_count": null,
   "metadata": {},
   "outputs": [],
   "source": [
    "files_xls"
   ]
  },
  {
   "cell_type": "markdown",
   "metadata": {},
   "source": [
    "**Appending the read files in rows and storing them in a single dataframe** named ***LDL TOTAL***.\n",
    "\n",
    "Printing number of columns and number of facts in each file.\n",
    "Also checking the execution time of the code"
   ]
  },
  {
   "cell_type": "code",
   "execution_count": null,
   "metadata": {
    "scrolled": true
   },
   "outputs": [],
   "source": [
    "time_start= time.time()\n",
    "\n",
    "LDL_TOTAL= pd.DataFrame()\n",
    "\n",
    "j=0\n",
    "for f in files_xls:\n",
    "    \n",
    "    data = pd.read_excel(path+\"/\"+f)\n",
    "    print(\"\\033[1m\" + files_xls[j] + \"\\033[0m\",\":->\\n# of Facts are \",len(set(data[\"Periods\"])),\"\\t\\t # of columns are \",len(data.columns))  \n",
    "    LDL_TOTAL = pd.concat([LDL_TOTAL,data],axis=0,ignore_index=True)\n",
    "    j=j+1\n",
    "    \n",
    "time_end= time.time();\n",
    "\n",
    "print(\"execution time is \", time_end-time_start)"
   ]
  },
  {
   "cell_type": "code",
   "execution_count": null,
   "metadata": {},
   "outputs": [],
   "source": [
    "LDL_TOTAL[\"Periods\"]=LDL_TOTAL[\"Periods\"].str.replace(\"$\",\"temp\")\n",
    "LDL_TOTAL[\"Periods\"]=LDL_TOTAL[\"Periods\"].str.replace(\"- temp -\",\"-\")\n",
    "LDL_TOTAL[\"Periods\"]=LDL_TOTAL[\"Periods\"].str.replace(\"temp\",\"$\")\n",
    "\n",
    "LDL_TOTAL[\"Periods\"]=LDL_TOTAL[\"Periods\"].str.replace(\"CP LDL AND FOAM\",\"CP CATEGORY\")\n",
    "\n",
    "LDL_TOTAL[\"Periods\"]=LDL_TOTAL[\"Periods\"].str.replace(\"CP LDL AND FM X DISHAIDS/WPS/SPR\",\"CP CATEGORY\")\n",
    "\n",
    "LDL_TOTAL[\"Periods\"]=LDL_TOTAL[\"Periods\"].str.replace(\"CP MEGA CATEGORY\",\"CP CATEGORY\")\n",
    "LDL_TOTAL[\"Periods\"]=LDL_TOTAL[\"Periods\"].str.replace(\"CP BATTERY AND HYBRID\",\"CP CATEGORY\")\n",
    "\n",
    "# Market name replaced\n",
    "LDL_TOTAL[\"Markets\"]=LDL_TOTAL[\"Markets\"].str.replace(\"Walgreens Corp Total TA\",\"Walgreens Total TA\")"
   ]
  },
  {
   "cell_type": "code",
   "execution_count": null,
   "metadata": {
    "scrolled": true
   },
   "outputs": [],
   "source": [
    "# replace NaN Values with 0\n",
    "LDL_TOTAL.fillna(value=0,inplace=True)"
   ]
  },
  {
   "cell_type": "code",
   "execution_count": null,
   "metadata": {
    "scrolled": true
   },
   "outputs": [],
   "source": [
    "set(LDL_TOTAL[\"Periods\"])"
   ]
  },
  {
   "cell_type": "markdown",
   "metadata": {},
   "source": [
    "**Removing unwanted characters from all the column names** and store them in a list ***new_col_names***"
   ]
  },
  {
   "cell_type": "code",
   "execution_count": null,
   "metadata": {},
   "outputs": [],
   "source": [
    "new_col_names=[]\n",
    "for i in LDL_TOTAL.columns:\n",
    "    x=len(i)\n",
    "    if x<=17:\n",
    "        new_col_names.append(i)\n",
    "    elif i[:3]=='YTD':\n",
    "        new_col_names.append(i[:-16].strip('- '))\n",
    "    else:\n",
    "        new_col_names.append(i[:-14].strip('- '))\n",
    "        "
   ]
  },
  {
   "cell_type": "code",
   "execution_count": null,
   "metadata": {},
   "outputs": [],
   "source": [
    "LDL_TOTAL.columns"
   ]
  },
  {
   "cell_type": "markdown",
   "metadata": {},
   "source": [
    "**Checking the duplicacte column in** ***LDL_TOTAL***"
   ]
  },
  {
   "cell_type": "code",
   "execution_count": null,
   "metadata": {},
   "outputs": [],
   "source": [
    "if(len(new_col_names)!=len(set(new_col_names))):\n",
    "    print(\"\\033[1;31m\"+\"*******************************ERROR*******************************\\n\\t\\t\\tWe have duplicate columns\\n\\t\\t\\tPlease recheck raw data files\\n*******************************ERROR*******************************\")"
   ]
  },
  {
   "cell_type": "markdown",
   "metadata": {},
   "source": [
    "Renaming the column names of ***LDL_TOTAL***"
   ]
  },
  {
   "cell_type": "code",
   "execution_count": null,
   "metadata": {},
   "outputs": [],
   "source": [
    "# LDL_TOTAL.rename(columns=dict(zip(LDL_TOTAL.columns,new_col_names)),inplace=True)\n",
    "LDL_TOTAL.columns=new_col_names"
   ]
  },
  {
   "cell_type": "code",
   "execution_count": null,
   "metadata": {},
   "outputs": [],
   "source": [
    "LDL_TOTAL.columns"
   ]
  },
  {
   "cell_type": "markdown",
   "metadata": {},
   "source": [
    "**Adding Missing Quater**\n"
   ]
  },
  {
   "cell_type": "code",
   "execution_count": null,
   "metadata": {},
   "outputs": [],
   "source": [
    "# GETTING 20 DAYS BEFORE MONTHS AND YEAR VALUES\n",
    "now=datetime.datetime.now()\n",
    "delay= datetime.timedelta(days=20)\n",
    "a= now - delay\n",
    "month_number=a.month\n",
    "year=str(a.year-2)[-2:]\n",
    "print(month_number)\n",
    "print(year)"
   ]
  },
  {
   "cell_type": "code",
   "execution_count": null,
   "metadata": {},
   "outputs": [],
   "source": [
    "if( month_number >= 1 & month_number <= 3):\n",
    "    LDL_TOTAL['AMJ '+year]=\"\"\n",
    "    LDL_TOTAL['JAS '+year]=\"\"\n",
    "    LDL_TOTAL['OND '+year]=\"\"\n",
    "elif ( month_number >= 4 & month_number <= 6 ):\n",
    "    LDL_TOTAL['JAS '+year]=\"\"\n",
    "    LDL_TOTAL['OND '+year]=\"\"\n",
    "elif ( month_number >= 7 & month_number <= 9  ):\n",
    "    LDL_TOTAL['OND '+year]=\"\""
   ]
  },
  {
   "cell_type": "markdown",
   "metadata": {},
   "source": [
    "**Time period mapping**\n",
    "\n",
    "**Manual Step**\n",
    "\n",
    "This mapping needs to be changed every year when new year data comes"
   ]
  },
  {
   "cell_type": "code",
   "execution_count": null,
   "metadata": {},
   "outputs": [],
   "source": [
    "# time_period_map_2020= pd.DataFrame({'Connect Time Period':['Markets', 'Products', 'Periods','Cal Yr 2020','Cal Yr 2019','Cal Yr 2018','Cal Yr 2017','YTD','YTD YA','Latest 13 Wks','Latest 26 Wks','OND 20','JAS 20','AMJ 20','JFM 20','OND 19','JAS 19','AMJ 19','JFM 19','Dec 20','Nov 20','Oct 20','Sep 20','Aug 20','Jul 20','Jun 20','May 20','Apr 20','Mar 20','Feb 20','Jan 20','Dec 19','Nov 19','Oct 19','Sep 19','Aug 19','Jul 19','Jun 19','May 19','Apr 19','Mar 19','Feb 19','Jan 19'],\n",
    "#                                'Final Name':['Markets', 'Products', 'Periods','FY 2020','FY 2019','FY 2018','FY 2017','YTD 2020','YTD 2019','Latest 13 Weeks','Latest 26 Weeks','Q4 2020','Q3 2020','Q2 2020','Q1 2020','Q4 2019','Q3 2019','Q2 2019','Q1 2019','Dec 20','Nov 20','Oct 20','Sep 20','Aug 20','Jul 20','Jun 20','May 20','Apr 20','Mar 20','Feb 20','Jan 20','Dec 19','Nov 19','Oct 19','Sep 19','Aug 19','Jul 19','Jun 19','May 19','Apr 19','Mar 19','Feb 19','Jan 19']\n",
    "#                               ,'Order':range(1,44)})"
   ]
  },
  {
   "cell_type": "code",
   "execution_count": null,
   "metadata": {},
   "outputs": [],
   "source": [
    "time_period_map= pd.DataFrame({'Connect Time Period':['Markets', 'Products', 'Periods','Cal Yr 2020','Cal Yr 2019','Cal Yr 2018','Cal Yr 2017','YTD','YTD YA','Latest 13 Wks','Latest 26 Wks','OND 21','JAS 21','AMJ 21','JFM 21','OND 20','JAS 20','AMJ 20','JFM 20','OND 19','JAS 19','AMJ 19','Dec 21','Nov 21','Oct 21','Sep 21','Aug 21','Jul 21','Jun 21','May 21','Apr 21','Mar 21','Feb 21','Jan 21','Dec 20','Nov 20','Oct 20','Sep 20','Aug 20','Jul 20','Jun 20','May 20','Apr 20','Mar 20','Feb 20','Jan 20'],\n",
    "                               'Final Name':['Markets', 'Products', 'Periods','FY 2020','FY 2019','FY 2018','FY 2017','YTD 2021','YTD 2020','Latest 13 Weeks','Latest 26 Weeks','Q4 2021','Q3 2021','Q2 2021','Q1 2021','Q4 2020','Q3 2020','Q2 2020','Q1 2020','Q4 2019','Q3 2019','Q2 2019','Dec 21','Nov 21','Oct 21','Sep 21','Aug 21','Jul 21','Jun 21','May 21','Apr 21','Mar 21','Feb 21','Jan 21','Dec 20','Nov 20','Oct 20','Sep 20','Aug 20','Jul 20','Jun 20','May 20','Apr 20','Mar 20','Feb 20','Jan 20']\n",
    "                              ,'Order':range(1,47)})"
   ]
  },
  {
   "cell_type": "code",
   "execution_count": null,
   "metadata": {
    "scrolled": false
   },
   "outputs": [],
   "source": [
    "time_period_map.head()"
   ]
  },
  {
   "cell_type": "markdown",
   "metadata": {},
   "source": [
    "We need to **change column names** of ***LDL_TOTAL*** and **reorder** them based on the time_period_mapping"
   ]
  },
  {
   "cell_type": "code",
   "execution_count": null,
   "metadata": {},
   "outputs": [],
   "source": [
    "# assigning variables\n",
    "LM_column= list(LDL_TOTAL.columns)\n",
    "time_connect=list(time_period_map[\"Connect Time Period\"])\n",
    "time_final=list(time_period_map[\"Final Name\"])"
   ]
  },
  {
   "cell_type": "code",
   "execution_count": null,
   "metadata": {},
   "outputs": [],
   "source": [
    "# changing column names based on time_period_mapping\n",
    "new_column=[]\n",
    "for i in range(0,len(LM_column)):\n",
    "    for j in range(0,len(time_connect)):\n",
    "        if LM_column[i]==time_connect[j]:\n",
    "            new_column.append(time_final[j])\n",
    "        "
   ]
  },
  {
   "cell_type": "code",
   "execution_count": null,
   "metadata": {
    "scrolled": true
   },
   "outputs": [],
   "source": [
    "print(new_column)"
   ]
  },
  {
   "cell_type": "code",
   "execution_count": null,
   "metadata": {},
   "outputs": [],
   "source": [
    "print(len(new_column),len(LDL_TOTAL.columns))"
   ]
  },
  {
   "cell_type": "code",
   "execution_count": null,
   "metadata": {},
   "outputs": [],
   "source": [
    "#assigning new column names\n",
    "LDL_TOTAL.columns = new_column"
   ]
  },
  {
   "cell_type": "code",
   "execution_count": null,
   "metadata": {},
   "outputs": [],
   "source": [
    "# reordering column names\n",
    "my_list =time_period_map.iloc[:, 1]\n",
    "my_list1=LDL_TOTAL.columns\n",
    "result = [x for x in my_list if x in my_list1]\n",
    "LDL_TOTAL=LDL_TOTAL[result]"
   ]
  },
  {
   "cell_type": "code",
   "execution_count": null,
   "metadata": {},
   "outputs": [],
   "source": [
    "LDL_TOTAL.columns"
   ]
  },
  {
   "cell_type": "code",
   "execution_count": null,
   "metadata": {
    "scrolled": true
   },
   "outputs": [],
   "source": [
    "LDL_TOTAL.head(3)"
   ]
  },
  {
   "cell_type": "code",
   "execution_count": null,
   "metadata": {},
   "outputs": [],
   "source": [
    "LDL_TOTAL.rename(columns={\"Periods\":\"Facts\"},inplace=True)"
   ]
  },
  {
   "cell_type": "code",
   "execution_count": null,
   "metadata": {
    "scrolled": true
   },
   "outputs": [],
   "source": [
    "LDL_TOTAL.head(3)"
   ]
  },
  {
   "cell_type": "markdown",
   "metadata": {},
   "source": [
    "**Filter Condition**\n",
    "\n",
    "Taking only those products whose **Latest Month Dollar Share** is **greater than 0.02** for all the markets"
   ]
  },
  {
   "cell_type": "code",
   "execution_count": null,
   "metadata": {},
   "outputs": [],
   "source": [
    "LDL_TOTAL.iloc[:,3:]=LDL_TOTAL.iloc[:,3:].apply(pd.to_numeric)"
   ]
  },
  {
   "cell_type": "code",
   "execution_count": null,
   "metadata": {},
   "outputs": [],
   "source": [
    "LDL_TOTAL.info()"
   ]
  },
  {
   "cell_type": "code",
   "execution_count": null,
   "metadata": {},
   "outputs": [],
   "source": [
    "df=LDL_TOTAL[(LDL_TOTAL['Facts'] == '$ Shr - CP CATEGORY') & (LDL_TOTAL.iloc[:,19]>0.02)]\n",
    "\n",
    "df[\"Key\"]=df[\"Markets\"]+df[\"Products\"]\n",
    "LDL_TOTAL[\"Key\"]=LDL_TOTAL[\"Markets\"]+LDL_TOTAL[\"Products\"]\n",
    "\n",
    "LDL_TOTAL=LDL_TOTAL[LDL_TOTAL['Key'].isin(list(df[\"Key\"]))]"
   ]
  },
  {
   "cell_type": "code",
   "execution_count": null,
   "metadata": {
    "scrolled": true
   },
   "outputs": [],
   "source": [
    "# total number of unique Products \n",
    "len(np.unique(list(df[\"Products\"])))"
   ]
  },
  {
   "cell_type": "code",
   "execution_count": null,
   "metadata": {},
   "outputs": [],
   "source": [
    "LDL_TOTAL=LDL_TOTAL[LDL_TOTAL['Products'].isin(list(df[\"Products\"]))]\n",
    "LDL_TOTAL.head(3)"
   ]
  },
  {
   "cell_type": "markdown",
   "metadata": {},
   "source": [
    "**ShareBasis Split**"
   ]
  },
  {
   "cell_type": "code",
   "execution_count": null,
   "metadata": {
    "scrolled": true
   },
   "outputs": [],
   "source": [
    "LDL_TOTAL[['ShareBasis','Manufacturer','Franchise','Brand']] = LDL_TOTAL['Products'].str.split('|',n=3,expand=True)\n",
    "LDL_TOTAL.head(3)"
   ]
  },
  {
   "cell_type": "code",
   "execution_count": null,
   "metadata": {
    "scrolled": true
   },
   "outputs": [],
   "source": [
    "LDL_TOTAL[[\"ShareBasis\",\"Manufacturer\",\"Franchise\",\"Brand\"]]=LDL_TOTAL[[\"ShareBasis\",\"Manufacturer\",\"Franchise\",\"Brand\"]].fillna(value=\"\")\n",
    "LDL_TOTAL.head(3)"
   ]
  },
  {
   "cell_type": "markdown",
   "metadata": {},
   "source": [
    "***movecol*** function to **rearranging** the columns of a dataframe"
   ]
  },
  {
   "cell_type": "code",
   "execution_count": null,
   "metadata": {},
   "outputs": [],
   "source": [
    "def movecol(df, cols_to_move=[], ref_col='', place=''):\n",
    "    cols = df.columns.tolist()\n",
    "    if place == 'After':\n",
    "        seg1 = cols[:list(cols).index(ref_col) + 1]\n",
    "        seg2 = cols_to_move\n",
    "    if place == 'Before':\n",
    "        seg1 = cols[:list(cols).index(ref_col)]\n",
    "        seg2 = cols_to_move + [ref_col]\n",
    "    seg1 = [i for i in seg1 if i not in seg2]\n",
    "    seg3 = [i for i in cols if i not in seg1 + seg2]\n",
    "    \n",
    "    return(df[seg1 + seg2 + seg3])"
   ]
  },
  {
   "cell_type": "code",
   "execution_count": null,
   "metadata": {
    "scrolled": true
   },
   "outputs": [],
   "source": [
    "LDL_TOTAL = movecol(LDL_TOTAL, \n",
    "             cols_to_move=['ShareBasis','Manufacturer','Franchise','Brand'], \n",
    "             ref_col='Markets',\n",
    "             place='After')\n",
    "LDL_TOTAL.head(3)"
   ]
  },
  {
   "cell_type": "markdown",
   "metadata": {},
   "source": [
    "**Strip Columns**\n"
   ]
  },
  {
   "cell_type": "code",
   "execution_count": null,
   "metadata": {},
   "outputs": [],
   "source": [
    "cols=list(LDL_TOTAL.columns[0:7])"
   ]
  },
  {
   "cell_type": "code",
   "execution_count": null,
   "metadata": {},
   "outputs": [],
   "source": [
    "LDL_TOTAL[cols]=LDL_TOTAL[cols].apply(lambda x : x.str.strip())"
   ]
  },
  {
   "cell_type": "markdown",
   "metadata": {},
   "source": [
    "**Need Franchise LEVEL**"
   ]
  },
  {
   "cell_type": "code",
   "execution_count": null,
   "metadata": {},
   "outputs": [],
   "source": [
    "LDL_TOTAL=LDL_TOTAL[LDL_TOTAL[\"Manufacturer\"] !=\"\"]"
   ]
  },
  {
   "cell_type": "code",
   "execution_count": null,
   "metadata": {},
   "outputs": [],
   "source": [
    "LDL_TOTAL[\"CP_CONCENTRATION\"]=\"TOTAL (REGULAR+ULTRA+NA)\"\n",
    "LDL_TOTAL[\"Category\"]=\"LDL\""
   ]
  },
  {
   "cell_type": "code",
   "execution_count": null,
   "metadata": {},
   "outputs": [],
   "source": [
    "LDL_TOTAL.columns"
   ]
  },
  {
   "cell_type": "code",
   "execution_count": null,
   "metadata": {},
   "outputs": [],
   "source": [
    "LDL_TOTAL.rename(columns={\"Markets\":\"MKT\",\"Products\":\"PROD\",\"Manufacturer\":\"CP_MANUFACTURER\",\"ShareBasis\":\"CP_MEGA_CATEGORY\",\n",
    "                                \"Facts\":\"FCT\",\"Franchise\":\"CP_FRANCHISE\",\"Brand\":\"CP_BRAND\"},inplace=True)"
   ]
  },
  {
   "cell_type": "markdown",
   "metadata": {},
   "source": [
    "**Period & Market Mapping**"
   ]
  },
  {
   "cell_type": "code",
   "execution_count": null,
   "metadata": {},
   "outputs": [],
   "source": [
    "LDL_TOTAL.rename(columns=Time_Mapping,inplace=True)\n",
    "LDL_TOTAL[\"MKT\"].replace(Market_Mapping,inplace=True)"
   ]
  },
  {
   "cell_type": "code",
   "execution_count": null,
   "metadata": {},
   "outputs": [],
   "source": [
    "set(LDL_TOTAL[\"FCT\"])"
   ]
  },
  {
   "cell_type": "markdown",
   "metadata": {},
   "source": [
    "### LDL without Total"
   ]
  },
  {
   "cell_type": "code",
   "execution_count": null,
   "metadata": {},
   "outputs": [],
   "source": [
    "# path to store Output files\n",
    "path_LDL=\"//falmumapp34/Nielsen Connect Transition & Maintenance (20-SCP-3650)/05. Output Data/5P Output/LDL/\""
   ]
  },
  {
   "cell_type": "code",
   "execution_count": null,
   "metadata": {},
   "outputs": [],
   "source": [
    "LDL_Distri_temp=Data_5p[Data_5p[\"ShareBasis\"]==\"LDL/DISHAIDS/WPS/FM/SPRAYS\"]\n"
   ]
  },
  {
   "cell_type": "code",
   "execution_count": null,
   "metadata": {},
   "outputs": [],
   "source": [
    "set(LDL_Distri_temp.Manufacturer)"
   ]
  },
  {
   "cell_type": "markdown",
   "metadata": {},
   "source": [
    "**Column name Change**"
   ]
  },
  {
   "cell_type": "code",
   "execution_count": null,
   "metadata": {},
   "outputs": [],
   "source": [
    "LDL_Distri_temp.rename(columns={\"Markets\":\"MKT\",\"ShareBasis\":\"CP_MEGA_CATEGORY\",\"Products\":\"PROD\",\"Manufacturer\":\"CP_MANUFACTURER\",\n",
    "                                \"Franchise\":\"CP_CONCENTRATION\",\"Brand\":\"CP_FRANCHISE\",\"SubBrand\":\"CP_BRAND\",\"Facts\":\"FCT\"},inplace=True)"
   ]
  },
  {
   "cell_type": "code",
   "execution_count": null,
   "metadata": {},
   "outputs": [],
   "source": [
    "list(np.sort(list(LDL_TOTAL.columns)))==list(np.sort(list(LDL_Distri_temp)))"
   ]
  },
  {
   "cell_type": "code",
   "execution_count": null,
   "metadata": {},
   "outputs": [],
   "source": [
    "set(LDL_Distri_temp.columns)- set(LDL_TOTAL.columns) "
   ]
  },
  {
   "cell_type": "code",
   "execution_count": null,
   "metadata": {},
   "outputs": [],
   "source": [
    "set(LDL_Distri_temp[\"CP_CONCENTRATION\"])"
   ]
  },
  {
   "cell_type": "markdown",
   "metadata": {},
   "source": [
    "**Concatting LDL Data**"
   ]
  },
  {
   "cell_type": "code",
   "execution_count": null,
   "metadata": {},
   "outputs": [],
   "source": [
    "LDL_Distri_All=pd.concat([LDL_Distri_temp,LDL_TOTAL],axis=0,ignore_index=True)"
   ]
  },
  {
   "cell_type": "code",
   "execution_count": null,
   "metadata": {},
   "outputs": [],
   "source": [
    "LDL_Distri = LDL_Distri_All"
   ]
  },
  {
   "cell_type": "markdown",
   "metadata": {},
   "source": [
    "**Filter Data**"
   ]
  },
  {
   "cell_type": "code",
   "execution_count": null,
   "metadata": {},
   "outputs": [],
   "source": [
    "Markets=[\"Ahold\",\"Alb/Sfy\",\"BJs\",\"CVS\",\"Dollar General\",\"Family Dollar\",\"Publix\",\n",
    "        \"Rite Aid\",\"Sams\",\"Shoprite\",\"Target\",\"US AOC\",\"US Drug\",\"US Food\",\"Walgreens\",\"Walmart\"]\n",
    "\n",
    "Manufacturer=[\"\",\"COLGATE-PALMOLIVE\",\"P&G\",\"SC JOHNSON\",\"PRVT LBL\",\"UNILEVER\"]\n",
    "\n"
   ]
  },
  {
   "cell_type": "code",
   "execution_count": null,
   "metadata": {},
   "outputs": [],
   "source": [
    "LDL_Distri = LDL_Distri[LDL_Distri[\"FCT\"].isin(Distri_Facts)]\n",
    "LDL_Distri = LDL_Distri[LDL_Distri[\"MKT\"].isin(Markets)]\n",
    "LDL_Distri = LDL_Distri[LDL_Distri[\"CP_MANUFACTURER\"].isin(Manufacturer)]"
   ]
  },
  {
   "cell_type": "code",
   "execution_count": null,
   "metadata": {},
   "outputs": [],
   "source": [
    "print(\"Missing Facts ->\",len(Distri_Facts)-len(set(LDL_Distri[\"FCT\"])),\"Missing Markets -> \",len(Markets)-len(set(LDL_Distri[\"MKT\"])))"
   ]
  },
  {
   "cell_type": "markdown",
   "metadata": {},
   "source": [
    "**Fact Mapping**"
   ]
  },
  {
   "cell_type": "code",
   "execution_count": null,
   "metadata": {},
   "outputs": [],
   "source": [
    "LDL_Distri[\"FCT\"].replace(Distri_Fact_Mapping,inplace=True)"
   ]
  },
  {
   "cell_type": "code",
   "execution_count": null,
   "metadata": {},
   "outputs": [],
   "source": [
    "LDL_Distri.head()"
   ]
  },
  {
   "cell_type": "markdown",
   "metadata": {},
   "source": [
    "**Column name Change**"
   ]
  },
  {
   "cell_type": "code",
   "execution_count": null,
   "metadata": {},
   "outputs": [],
   "source": [
    "LDL_Distri.rename(columns={\"Markets\":\"MKT\",\"Products\":\"PROD\",\"Manufacturer\":\"CP_MANUFACTURER\",\"Concentration\":\"CP_CONCENTRATION\",\n",
    "                                \"Franchise\":\"CP_FRANCHISE\",\"Brand\":\"CP_BRAND\"},inplace=True)"
   ]
  },
  {
   "cell_type": "code",
   "execution_count": null,
   "metadata": {},
   "outputs": [],
   "source": [
    "LDL_Distri.head()"
   ]
  },
  {
   "cell_type": "code",
   "execution_count": null,
   "metadata": {
    "scrolled": true
   },
   "outputs": [],
   "source": [
    "Time_Period=Distri_Time_Period\n",
    "print(Time_Period)"
   ]
  },
  {
   "cell_type": "markdown",
   "metadata": {},
   "source": [
    "**Moving Time Period to Rows and Facts to Columns**"
   ]
  },
  {
   "cell_type": "code",
   "execution_count": null,
   "metadata": {},
   "outputs": [],
   "source": [
    "df1=pd.melt(LDL_Distri, id_vars =[\"MKT\",\"PROD\",\"CP_MANUFACTURER\",\"CP_CONCENTRATION\",\"CP_FRANCHISE\",\"CP_BRAND\",\"FCT\"], value_vars =Time_Period,var_name=\"Time_Period\")\n",
    "\n",
    "df1[\"value\"]=df1[\"value\"].apply(pd.to_numeric)"
   ]
  },
  {
   "cell_type": "code",
   "execution_count": null,
   "metadata": {},
   "outputs": [],
   "source": [
    "df2=df1.pivot_table(index=['MKT','PROD', 'CP_MANUFACTURER','CP_CONCENTRATION','CP_FRANCHISE','CP_BRAND','Time_Period'],columns='FCT')\n",
    "\n",
    "df2.columns=df2.columns.droplevel().rename(None)\n",
    "df2.reset_index(inplace =True)"
   ]
  },
  {
   "cell_type": "code",
   "execution_count": null,
   "metadata": {},
   "outputs": [],
   "source": [
    "from pandas.api.types import CategoricalDtype\n",
    "\n",
    "Time_Period_order = CategoricalDtype(\n",
    "    Time_Period, \n",
    "    ordered=True\n",
    ")\n",
    "\n",
    "df2['Time_Period'] = df2['Time_Period'].astype(Time_Period_order)\n",
    "\n",
    "df2.sort_values(['MKT','PROD','Time_Period'],inplace=True)"
   ]
  },
  {
   "cell_type": "code",
   "execution_count": null,
   "metadata": {},
   "outputs": [],
   "source": [
    "df2 = movecol(df2, \n",
    "             cols_to_move=[\"CP_CONCENTRATION\"], \n",
    "             ref_col='CP_BRAND',\n",
    "             place='After')\n",
    "df2.head(3)"
   ]
  },
  {
   "cell_type": "code",
   "execution_count": null,
   "metadata": {},
   "outputs": [],
   "source": [
    "df2.columns"
   ]
  },
  {
   "cell_type": "code",
   "execution_count": null,
   "metadata": {},
   "outputs": [],
   "source": [
    "df2 = df2[df2[\"CP_CONCENTRATION\"].isin([\"REGULAR\",\"ULTRA\",\"\",\"TOTAL (REGULAR+ULTRA+NA)\"])]"
   ]
  },
  {
   "cell_type": "code",
   "execution_count": null,
   "metadata": {},
   "outputs": [],
   "source": [
    "df2[\"Frn\"]=\"\"\n",
    "for i in range(0,len(df2)):\n",
    "    if df2[\"CP_FRANCHISE\"].iloc[i]==\"\":\n",
    "        df2[\"Frn\"].iloc[i]=df2[\"CP_FRANCHISE\"].iloc[i]\n",
    "        \n",
    "    elif (df2[\"CP_CONCENTRATION\"].iloc[i]==\"TOTAL (REGULAR+ULTRA+NA)\"):\n",
    "        df2[\"Frn\"].iloc[i]=df2[\"CP_FRANCHISE\"].iloc[i]\n",
    "    \n",
    "    elif (df2[\"CP_CONCENTRATION\"].iloc[i]==\"REGULAR\") or (df2[\"CP_CONCENTRATION\"].iloc[i]==\"ULTRA\") :\n",
    "        df2[\"Frn\"].iloc[i]=df2[\"CP_FRANCHISE\"].iloc[i]+\" \" +df2[\"CP_CONCENTRATION\"].iloc[i]\n"
   ]
  },
  {
   "cell_type": "code",
   "execution_count": null,
   "metadata": {},
   "outputs": [],
   "source": [
    "df2[\"Brn\"]=\"\"\n",
    "for i in range(0,len(df2)):\n",
    "    if df2[\"CP_BRAND\"].iloc[i]==\"\":\n",
    "        df2[\"Brn\"].iloc[i]=df2[\"CP_BRAND\"].iloc[i]\n",
    "        \n",
    "    elif (df2[\"CP_CONCENTRATION\"].iloc[i]==\"TOTAL (REGULAR+ULTRA+NA)\"):\n",
    "        df2[\"Brn\"].iloc[i]=df2[\"CP_BRAND\"].iloc[i]\n",
    "    \n",
    "    elif (df2[\"CP_CONCENTRATION\"].iloc[i]==\"REGULAR\") or (df2[\"CP_CONCENTRATION\"].iloc[i]==\"ULTRA\") :\n",
    "        df2[\"Brn\"].iloc[i]=df2[\"CP_BRAND\"].iloc[i]+\" \" +df2[\"CP_CONCENTRATION\"].iloc[i]"
   ]
  },
  {
   "cell_type": "code",
   "execution_count": null,
   "metadata": {},
   "outputs": [],
   "source": [
    "df2[\"CP_FRANCHISE\"]=df2[\"Frn\"]\n",
    "df2[\"CP_BRAND\"]=df2[\"Brn\"]"
   ]
  },
  {
   "cell_type": "code",
   "execution_count": null,
   "metadata": {},
   "outputs": [],
   "source": [
    "del df2[\"Frn\"]\n",
    "del df2[\"Brn\"]"
   ]
  },
  {
   "cell_type": "code",
   "execution_count": null,
   "metadata": {},
   "outputs": [],
   "source": [
    "set(df2[\"CP_CONCENTRATION\"])"
   ]
  },
  {
   "cell_type": "code",
   "execution_count": null,
   "metadata": {},
   "outputs": [],
   "source": [
    "final_column_sorting=[\"MKT\",\"PROD\",\"CP_MANUFACTURER\",\"CP_FRANCHISE\",\"CP_BRAND\",\"CP_CONCENTRATION\",\"Time_Period\",\"Doll_Shr\",\n",
    "                      \"Doll_Shr_Chg\",\"Base_Doll_Shr\",\"Base_Doll_Shr_Chg\",\"Store_Selling\",\"Store_Selling_Chg\",\"Doll_Velocity\",\n",
    "                      \"Doll_Velocity_Chg\",\"Cum_Distri_Pts\",\"Cum_Distri_Pts_Chg\",\"Dollars\",\"Dollars_Chg\"\n",
    "                      ]\n",
    "LDL_Distri_final=df2[final_column_sorting]"
   ]
  },
  {
   "cell_type": "code",
   "execution_count": null,
   "metadata": {
    "scrolled": true
   },
   "outputs": [],
   "source": [
    "LDL_Distri_final.head()"
   ]
  },
  {
   "cell_type": "markdown",
   "metadata": {},
   "source": [
    "### **Distri_Cat_Data**"
   ]
  },
  {
   "cell_type": "code",
   "execution_count": null,
   "metadata": {},
   "outputs": [],
   "source": [
    "Distri_Cat_Data=LDL_Distri_final.loc[(LDL_Distri_final[\"CP_CONCENTRATION\"]==\"\") & (LDL_Distri_final[\"CP_BRAND\"]==\"\")&(LDL_Distri_final[\"CP_FRANCHISE\"]==\"\")&(LDL_Distri_final[\"CP_MANUFACTURER\"]==\"\")]"
   ]
  },
  {
   "cell_type": "code",
   "execution_count": null,
   "metadata": {},
   "outputs": [],
   "source": [
    "length= len(Distri_Cat_Data)\n",
    "Distri_Cat_Data[\"Record_ID\"]=range(1,length+1)"
   ]
  },
  {
   "cell_type": "code",
   "execution_count": null,
   "metadata": {},
   "outputs": [],
   "source": [
    "Distri_Cat_Data.head(2)"
   ]
  },
  {
   "cell_type": "code",
   "execution_count": null,
   "metadata": {},
   "outputs": [],
   "source": [
    "#saving into csv file\n",
    "Distri_Cat_Data.to_csv(path_LDL+\"Distri_Cat_Data.csv\",index=False)"
   ]
  },
  {
   "cell_type": "markdown",
   "metadata": {},
   "source": [
    "### **Distri_Manu_Data**"
   ]
  },
  {
   "cell_type": "code",
   "execution_count": null,
   "metadata": {},
   "outputs": [],
   "source": [
    "Distri_Manu_Data=LDL_Distri_final.loc[(LDL_Distri_final[\"CP_CONCENTRATION\"]==\"\") & (LDL_Distri_final[\"CP_BRAND\"]==\"\")&(LDL_Distri_final[\"CP_FRANCHISE\"]==\"\")&(LDL_Distri_final[\"CP_MANUFACTURER\"]!=\"\")]"
   ]
  },
  {
   "cell_type": "code",
   "execution_count": null,
   "metadata": {},
   "outputs": [],
   "source": [
    "length= len(Distri_Manu_Data)\n",
    "Distri_Manu_Data[\"Record_ID\"]=range(1,length+1)"
   ]
  },
  {
   "cell_type": "code",
   "execution_count": null,
   "metadata": {},
   "outputs": [],
   "source": [
    "Distri_Manu_Data.head(2)"
   ]
  },
  {
   "cell_type": "code",
   "execution_count": null,
   "metadata": {},
   "outputs": [],
   "source": [
    "#saving into csv file\n",
    "Distri_Manu_Data.to_csv(path_LDL+\"Distri_Manu_Data.csv\",index=False)"
   ]
  },
  {
   "cell_type": "markdown",
   "metadata": {},
   "source": [
    "### **Distri_Fran_Data**"
   ]
  },
  {
   "cell_type": "code",
   "execution_count": null,
   "metadata": {},
   "outputs": [],
   "source": [
    "Distri_Fran_Data=LDL_Distri_final.loc[(LDL_Distri_final[\"CP_CONCENTRATION\"]!=\"\") & (LDL_Distri_final[\"CP_BRAND\"]==\"\") & (LDL_Distri_final[\"CP_FRANCHISE\"]!=\"\")]"
   ]
  },
  {
   "cell_type": "code",
   "execution_count": null,
   "metadata": {},
   "outputs": [],
   "source": [
    "length= len(Distri_Fran_Data)\n",
    "Distri_Fran_Data[\"Record_ID\"]=range(1,length+1)"
   ]
  },
  {
   "cell_type": "code",
   "execution_count": null,
   "metadata": {},
   "outputs": [],
   "source": [
    "Distri_Fran_Data.head(3)"
   ]
  },
  {
   "cell_type": "code",
   "execution_count": null,
   "metadata": {},
   "outputs": [],
   "source": [
    "#saving into csv file\n",
    "Distri_Fran_Data.to_csv(path_LDL+\"Distri_Fran_Data.csv\",index=False)"
   ]
  },
  {
   "cell_type": "markdown",
   "metadata": {},
   "source": [
    "### **Distri_Brand_Data**"
   ]
  },
  {
   "cell_type": "code",
   "execution_count": null,
   "metadata": {},
   "outputs": [],
   "source": [
    "Distri_Brand_Data=LDL_Distri_final.loc[(LDL_Distri_final[\"CP_BRAND\"]!=\"\")]"
   ]
  },
  {
   "cell_type": "code",
   "execution_count": null,
   "metadata": {},
   "outputs": [],
   "source": [
    "length= len(Distri_Brand_Data)\n",
    "Distri_Brand_Data[\"Record_ID\"]=range(1,length+1)"
   ]
  },
  {
   "cell_type": "code",
   "execution_count": null,
   "metadata": {},
   "outputs": [],
   "source": [
    "Distri_Brand_Data.head(3)"
   ]
  },
  {
   "cell_type": "code",
   "execution_count": null,
   "metadata": {},
   "outputs": [],
   "source": [
    "#saving into csv file\n",
    "Distri_Brand_Data.to_csv(path_LDL+\"Distri_Brand_Data.csv\",index=False)"
   ]
  },
  {
   "cell_type": "markdown",
   "metadata": {},
   "source": [
    "## Distri Brand Avg Sku Monthly"
   ]
  },
  {
   "cell_type": "code",
   "execution_count": null,
   "metadata": {},
   "outputs": [],
   "source": [
    "LDL_Distri = LDL_Distri_All"
   ]
  },
  {
   "cell_type": "code",
   "execution_count": null,
   "metadata": {},
   "outputs": [],
   "source": [
    "set(LDL_Distri[\"MKT\"])"
   ]
  },
  {
   "cell_type": "markdown",
   "metadata": {},
   "source": [
    "**Filter Data**"
   ]
  },
  {
   "cell_type": "code",
   "execution_count": null,
   "metadata": {},
   "outputs": [],
   "source": [
    "Markets=[\"Ahold\",\"Alb/Sfy\",\"BJs\",\"CVS\",\"Dollar General\",\"Family Dollar\",\"Publix\",\n",
    "        \"Rite Aid\",\"Sams\",\"Shoprite\",\"Target\",\"US AOC\",\"US Drug\",\"US Food\",\"Walgreens\",\"Walmart\"]\n",
    "\n",
    "Facts=[\"TDP\"]\n",
    "\n",
    "Manufacturer=[\"\",\"COLGATE-PALMOLIVE\",\"P&G\",\"SC JOHNSON\",\"PRVT LBL\",\"UNILEVER\"]\n",
    "\n"
   ]
  },
  {
   "cell_type": "code",
   "execution_count": null,
   "metadata": {},
   "outputs": [],
   "source": [
    "LDL_Distri = LDL_Distri[LDL_Distri[\"FCT\"].isin(Facts)]\n",
    "LDL_Distri = LDL_Distri[LDL_Distri[\"MKT\"].isin(Markets)]\n",
    "LDL_Distri = LDL_Distri[LDL_Distri[\"CP_MANUFACTURER\"].isin(Manufacturer)]"
   ]
  },
  {
   "cell_type": "code",
   "execution_count": null,
   "metadata": {},
   "outputs": [],
   "source": [
    "print(\"Missing Facts ->\",len(Facts)-len(set(LDL_Distri[\"FCT\"])),\"Missing Markets -> \",len(Markets)-len(set(LDL_Distri[\"MKT\"])))"
   ]
  },
  {
   "cell_type": "markdown",
   "metadata": {},
   "source": [
    "**Fact Mapping**"
   ]
  },
  {
   "cell_type": "code",
   "execution_count": null,
   "metadata": {},
   "outputs": [],
   "source": [
    "LDL_Distri[\"FCT\"].replace(Distri_Fact_Mapping,inplace=True)"
   ]
  },
  {
   "cell_type": "code",
   "execution_count": null,
   "metadata": {},
   "outputs": [],
   "source": [
    "LDL_Distri.head()"
   ]
  },
  {
   "cell_type": "markdown",
   "metadata": {},
   "source": [
    "**Column name Change**"
   ]
  },
  {
   "cell_type": "code",
   "execution_count": null,
   "metadata": {},
   "outputs": [],
   "source": [
    "LDL_Distri.rename(columns={\"Markets\":\"MKT\",\"Products\":\"PROD\",\"Manufacturer\":\"CP_MANUFACTURER\",\"Concentration\":\"CP_CONCENTRATION\",\n",
    "                                \"Franchise\":\"CP_FRANCHISE\",\"Brand\":\"CP_BRAND\"},inplace=True)"
   ]
  },
  {
   "cell_type": "code",
   "execution_count": null,
   "metadata": {
    "scrolled": true
   },
   "outputs": [],
   "source": [
    "LDL_Distri.head(2)"
   ]
  },
  {
   "cell_type": "code",
   "execution_count": null,
   "metadata": {
    "scrolled": true
   },
   "outputs": [],
   "source": [
    "Time_Period=list(LDL_Distri.columns[25:38])\n",
    "print(Time_Period)"
   ]
  },
  {
   "cell_type": "markdown",
   "metadata": {},
   "source": [
    "**Moving Time Period to Rows and Facts to Columns**"
   ]
  },
  {
   "cell_type": "code",
   "execution_count": null,
   "metadata": {},
   "outputs": [],
   "source": [
    "df1=pd.melt(LDL_Distri, id_vars =[\"MKT\",\"PROD\",\"CP_MANUFACTURER\",\"CP_CONCENTRATION\",\"CP_FRANCHISE\",\"CP_BRAND\",\"FCT\"], value_vars =Time_Period,var_name=\"Time_Period\")\n",
    "\n",
    "df1[\"value\"]=df1[\"value\"].apply(pd.to_numeric)"
   ]
  },
  {
   "cell_type": "code",
   "execution_count": null,
   "metadata": {},
   "outputs": [],
   "source": [
    "df2=df1.pivot_table(index=['MKT','PROD', 'CP_MANUFACTURER',\"CP_CONCENTRATION\", 'CP_FRANCHISE', 'CP_BRAND','Time_Period'],columns='FCT')\n",
    "\n",
    "df2.columns=df2.columns.droplevel().rename(None)\n",
    "df2.reset_index(inplace =True)"
   ]
  },
  {
   "cell_type": "code",
   "execution_count": null,
   "metadata": {},
   "outputs": [],
   "source": [
    "from pandas.api.types import CategoricalDtype\n",
    "\n",
    "Time_Period_order = CategoricalDtype(\n",
    "    Time_Period, \n",
    "    ordered=True\n",
    ")\n",
    "\n",
    "df2['Time_Period'] = df2['Time_Period'].astype(Time_Period_order)\n",
    "\n",
    "df2.sort_values(['MKT','PROD','Time_Period'],inplace=True)"
   ]
  },
  {
   "cell_type": "code",
   "execution_count": null,
   "metadata": {},
   "outputs": [],
   "source": [
    "df2 = df2[df2[\"CP_CONCENTRATION\"].isin([\"REGULAR\",\"ULTRA\",\"\",\"TOTAL (REGULAR+ULTRA+NA)\"])]"
   ]
  },
  {
   "cell_type": "code",
   "execution_count": null,
   "metadata": {},
   "outputs": [],
   "source": [
    "df2[\"Frn\"]=\"\"\n",
    "for i in range(0,len(df2)):\n",
    "    if df2[\"CP_FRANCHISE\"].iloc[i]==\"\":\n",
    "        df2[\"Frn\"].iloc[i]=df2[\"CP_FRANCHISE\"].iloc[i]\n",
    "        \n",
    "    elif (df2[\"CP_CONCENTRATION\"].iloc[i]==\"TOTAL (REGULAR+ULTRA+NA)\"):\n",
    "        df2[\"Frn\"].iloc[i]=df2[\"CP_FRANCHISE\"].iloc[i]\n",
    "    \n",
    "    elif (df2[\"CP_CONCENTRATION\"].iloc[i]==\"REGULAR\") or (df2[\"CP_CONCENTRATION\"].iloc[i]==\"ULTRA\") :\n",
    "        df2[\"Frn\"].iloc[i]=df2[\"CP_FRANCHISE\"].iloc[i]+\" \" +df2[\"CP_CONCENTRATION\"].iloc[i]\n"
   ]
  },
  {
   "cell_type": "code",
   "execution_count": null,
   "metadata": {},
   "outputs": [],
   "source": [
    "df2[\"Brn\"]=\"\"\n",
    "for i in range(0,len(df2)):\n",
    "    if df2[\"CP_BRAND\"].iloc[i]==\"\":\n",
    "        df2[\"Brn\"].iloc[i]=df2[\"CP_BRAND\"].iloc[i]\n",
    "        \n",
    "    elif (df2[\"CP_CONCENTRATION\"].iloc[i]==\"TOTAL (REGULAR+ULTRA+NA)\"):\n",
    "        df2[\"Brn\"].iloc[i]=df2[\"CP_BRAND\"].iloc[i]\n",
    "    \n",
    "    elif (df2[\"CP_CONCENTRATION\"].iloc[i]==\"REGULAR\") or (df2[\"CP_CONCENTRATION\"].iloc[i]==\"ULTRA\") :\n",
    "        df2[\"Brn\"].iloc[i]=df2[\"CP_BRAND\"].iloc[i]+\" \" +df2[\"CP_CONCENTRATION\"].iloc[i]"
   ]
  },
  {
   "cell_type": "code",
   "execution_count": null,
   "metadata": {},
   "outputs": [],
   "source": [
    "df2[\"CP_FRANCHISE\"]=df2[\"Frn\"]\n",
    "df2[\"CP_BRAND\"]=df2[\"Brn\"]"
   ]
  },
  {
   "cell_type": "code",
   "execution_count": null,
   "metadata": {},
   "outputs": [],
   "source": [
    "del df2[\"Frn\"]\n",
    "del df2[\"Brn\"]"
   ]
  },
  {
   "cell_type": "code",
   "execution_count": null,
   "metadata": {},
   "outputs": [],
   "source": [
    "set(df2[\"CP_CONCENTRATION\"])"
   ]
  },
  {
   "cell_type": "code",
   "execution_count": null,
   "metadata": {},
   "outputs": [],
   "source": [
    "df2.head()"
   ]
  },
  {
   "cell_type": "code",
   "execution_count": null,
   "metadata": {},
   "outputs": [],
   "source": [
    "final_column_sorting=[\"MKT\",\"PROD\",\"CP_MANUFACTURER\",\"CP_FRANCHISE\",\"CP_BRAND\",\"CP_CONCENTRATION\",\"Time_Period\",\"Cum_Distri_Pts\"\n",
    "                      ]\n",
    "LDL_Distri_final=df2[final_column_sorting]"
   ]
  },
  {
   "cell_type": "code",
   "execution_count": null,
   "metadata": {},
   "outputs": [],
   "source": [
    "LDL_Distri_final.head()"
   ]
  },
  {
   "cell_type": "code",
   "execution_count": null,
   "metadata": {},
   "outputs": [],
   "source": [
    "brand_level=LDL_Distri_final.loc[(LDL_Distri_final[\"CP_BRAND\"]!=\"\")]\n",
    "cat_level=LDL_Distri_final.loc[(LDL_Distri_final[\"CP_MANUFACTURER\"]==\"\")]\n",
    "LDL_Distri_Brand_and_Cat_Level=pd.concat([cat_level,brand_level],axis=0,ignore_index=True)"
   ]
  },
  {
   "cell_type": "code",
   "execution_count": null,
   "metadata": {},
   "outputs": [],
   "source": [
    "LDL_Distri_Brand_and_Cat_Level.head()\n"
   ]
  },
  {
   "cell_type": "code",
   "execution_count": null,
   "metadata": {},
   "outputs": [],
   "source": [
    "LDL_Distri_Brand_and_Cat_Level.columns"
   ]
  },
  {
   "cell_type": "code",
   "execution_count": null,
   "metadata": {},
   "outputs": [],
   "source": [
    "LDL_Distri_Brand_and_Cat_Level=LDL_Distri_Brand_and_Cat_Level[['MKT', 'PROD', 'CP_MANUFACTURER', 'CP_FRANCHISE','CP_BRAND', 'CP_CONCENTRATION', 'Time_Period','Cum_Distri_Pts']]\n"
   ]
  },
  {
   "cell_type": "code",
   "execution_count": null,
   "metadata": {},
   "outputs": [],
   "source": [
    "length= len(LDL_Distri_Brand_and_Cat_Level)\n",
    "LDL_Distri_Brand_and_Cat_Level[\"Record_ID\"]=range(1,length+1)"
   ]
  },
  {
   "cell_type": "code",
   "execution_count": null,
   "metadata": {},
   "outputs": [],
   "source": [
    "#saving into csv file\n",
    "LDL_Distri_Brand_and_Cat_Level.to_csv(path_LDL+\"Distri_brand_avg_skus_monthly.csv\",index=False)"
   ]
  },
  {
   "cell_type": "code",
   "execution_count": null,
   "metadata": {},
   "outputs": [],
   "source": [
    "LDL_Distri_Brand_and_Cat_Level.head()"
   ]
  },
  {
   "cell_type": "markdown",
   "metadata": {},
   "source": [
    "## Distri Cat Dollar Share"
   ]
  },
  {
   "cell_type": "code",
   "execution_count": null,
   "metadata": {},
   "outputs": [],
   "source": [
    "LDL_Distri=LDL_Distri_All"
   ]
  },
  {
   "cell_type": "code",
   "execution_count": null,
   "metadata": {},
   "outputs": [],
   "source": [
    "LDL_Distri.columns"
   ]
  },
  {
   "cell_type": "markdown",
   "metadata": {},
   "source": [
    "**Filter Data**"
   ]
  },
  {
   "cell_type": "code",
   "execution_count": null,
   "metadata": {},
   "outputs": [],
   "source": [
    "Markets=[\"Ahold\",\"Alb/Sfy\",\"BJs\",\"CVS\",\"Dollar General\",\"Family Dollar\",\"Publix\",\n",
    "        \"Rite Aid\",\"Sams\",\"Shoprite\",\"Target\",\"US AOC\",\"US Drug\",\"US Food\",\"Walgreens\",\"Walmart\"]\n",
    "\n",
    "Facts=[\"$ Shr - CP CATEGORY\"]\n",
    "Manufacturer=[\"\",\"COLGATE-PALMOLIVE\",\"P&G\",\"SC JOHNSON\",\"PRVT LBL\",\"UNILEVER\"]"
   ]
  },
  {
   "cell_type": "code",
   "execution_count": null,
   "metadata": {},
   "outputs": [],
   "source": [
    "LDL_Distri = LDL_Distri[LDL_Distri[\"FCT\"].isin(Facts)]\n",
    "LDL_Distri = LDL_Distri[LDL_Distri[\"MKT\"].isin(Markets)]\n",
    "LDL_Distri = LDL_Distri[LDL_Distri[\"CP_MANUFACTURER\"].isin(Manufacturer)]"
   ]
  },
  {
   "cell_type": "code",
   "execution_count": null,
   "metadata": {},
   "outputs": [],
   "source": [
    "print(\"Missing Facts ->\",len(Facts)-len(set(LDL_Distri[\"FCT\"])),\"Missing Markets -> \",len(Markets)-len(set(LDL_Distri[\"MKT\"])))"
   ]
  },
  {
   "cell_type": "markdown",
   "metadata": {},
   "source": [
    "**Fact Mapping**"
   ]
  },
  {
   "cell_type": "code",
   "execution_count": null,
   "metadata": {},
   "outputs": [],
   "source": [
    "LDL_Distri[\"FCT\"].replace(Distri_Fact_Mapping,inplace=True)"
   ]
  },
  {
   "cell_type": "code",
   "execution_count": null,
   "metadata": {},
   "outputs": [],
   "source": [
    "LDL_Distri.head()"
   ]
  },
  {
   "cell_type": "markdown",
   "metadata": {},
   "source": [
    "**Column name Change**"
   ]
  },
  {
   "cell_type": "code",
   "execution_count": null,
   "metadata": {},
   "outputs": [],
   "source": [
    "LDL_Distri.rename(columns={\"Markets\":\"MKT\",\"Products\":\"PROD\",\"Manufacturer\":\"CP_MANUFACTURER\",\"Concentration\":\"CP_CONCENTRATION\",\n",
    "                                \"Franchise\":\"CP_FRANCHISE\",\"Brand\":\"CP_BRAND\"},inplace=True)"
   ]
  },
  {
   "cell_type": "code",
   "execution_count": null,
   "metadata": {
    "scrolled": true
   },
   "outputs": [],
   "source": [
    "LDL_Distri.head(2)"
   ]
  },
  {
   "cell_type": "code",
   "execution_count": null,
   "metadata": {
    "scrolled": true
   },
   "outputs": [],
   "source": [
    "Time_Period=list(LDL_Distri.columns[25:38])\n",
    "print(Time_Period)"
   ]
  },
  {
   "cell_type": "markdown",
   "metadata": {},
   "source": [
    "**Moving Time Period to Rows and Facts to Columns**"
   ]
  },
  {
   "cell_type": "code",
   "execution_count": null,
   "metadata": {},
   "outputs": [],
   "source": [
    "df1=pd.melt(LDL_Distri, id_vars =[\"MKT\",\"PROD\",\"CP_MANUFACTURER\",\"CP_CONCENTRATION\",\"CP_FRANCHISE\",\"CP_BRAND\",\"FCT\"], value_vars =Time_Period,var_name=\"Time_Period\")\n",
    "\n",
    "df1[\"value\"]=df1[\"value\"].apply(pd.to_numeric)"
   ]
  },
  {
   "cell_type": "code",
   "execution_count": null,
   "metadata": {},
   "outputs": [],
   "source": [
    "df2=df1.pivot_table(index=['MKT','PROD', 'CP_MANUFACTURER','CP_CONCENTRATION','CP_FRANCHISE', 'CP_BRAND','Time_Period'],columns='FCT')\n",
    "\n",
    "df2.columns=df2.columns.droplevel().rename(None)\n",
    "df2.reset_index(inplace =True)"
   ]
  },
  {
   "cell_type": "code",
   "execution_count": null,
   "metadata": {},
   "outputs": [],
   "source": [
    "from pandas.api.types import CategoricalDtype\n",
    "\n",
    "Time_Period_order = CategoricalDtype(\n",
    "    Time_Period, \n",
    "    ordered=True\n",
    ")\n",
    "\n",
    "df2['Time_Period'] = df2['Time_Period'].astype(Time_Period_order)\n",
    "\n",
    "df2.sort_values(['MKT','PROD','Time_Period'],inplace=True)"
   ]
  },
  {
   "cell_type": "code",
   "execution_count": null,
   "metadata": {},
   "outputs": [],
   "source": [
    "df2 = df2[df2[\"CP_CONCENTRATION\"].isin([\"REGULAR\",\"ULTRA\",\"\",\"TOTAL (REGULAR+ULTRA+NA)\"])]"
   ]
  },
  {
   "cell_type": "code",
   "execution_count": null,
   "metadata": {},
   "outputs": [],
   "source": [
    "df2[\"Frn\"]=\"\"\n",
    "for i in range(0,len(df2)):\n",
    "    if df2[\"CP_FRANCHISE\"].iloc[i]==\"\":\n",
    "        df2[\"Frn\"].iloc[i]=df2[\"CP_FRANCHISE\"].iloc[i]\n",
    "        \n",
    "    elif (df2[\"CP_CONCENTRATION\"].iloc[i]==\"TOTAL (REGULAR+ULTRA+NA)\"):\n",
    "        df2[\"Frn\"].iloc[i]=df2[\"CP_FRANCHISE\"].iloc[i]\n",
    "    \n",
    "    elif (df2[\"CP_CONCENTRATION\"].iloc[i]==\"REGULAR\") or (df2[\"CP_CONCENTRATION\"].iloc[i]==\"ULTRA\") :\n",
    "        df2[\"Frn\"].iloc[i]=df2[\"CP_FRANCHISE\"].iloc[i]+\" \" +df2[\"CP_CONCENTRATION\"].iloc[i]\n"
   ]
  },
  {
   "cell_type": "code",
   "execution_count": null,
   "metadata": {},
   "outputs": [],
   "source": [
    "df2[\"Brn\"]=\"\"\n",
    "for i in range(0,len(df2)):\n",
    "    if df2[\"CP_BRAND\"].iloc[i]==\"\":\n",
    "        df2[\"Brn\"].iloc[i]=df2[\"CP_BRAND\"].iloc[i]\n",
    "        \n",
    "    elif (df2[\"CP_CONCENTRATION\"].iloc[i]==\"TOTAL (REGULAR+ULTRA+NA)\"):\n",
    "        df2[\"Brn\"].iloc[i]=df2[\"CP_BRAND\"].iloc[i]\n",
    "    \n",
    "    elif (df2[\"CP_CONCENTRATION\"].iloc[i]==\"REGULAR\") or (df2[\"CP_CONCENTRATION\"].iloc[i]==\"ULTRA\") :\n",
    "        df2[\"Brn\"].iloc[i]=df2[\"CP_BRAND\"].iloc[i]+\" \" +df2[\"CP_CONCENTRATION\"].iloc[i]"
   ]
  },
  {
   "cell_type": "code",
   "execution_count": null,
   "metadata": {},
   "outputs": [],
   "source": [
    "df2[\"CP_FRANCHISE\"]=df2[\"Frn\"]\n",
    "df2[\"CP_BRAND\"]=df2[\"Brn\"]"
   ]
  },
  {
   "cell_type": "code",
   "execution_count": null,
   "metadata": {},
   "outputs": [],
   "source": [
    "del df2[\"Frn\"]\n",
    "del df2[\"Brn\"]"
   ]
  },
  {
   "cell_type": "code",
   "execution_count": null,
   "metadata": {},
   "outputs": [],
   "source": [
    "set(df2[\"CP_CONCENTRATION\"])"
   ]
  },
  {
   "cell_type": "code",
   "execution_count": null,
   "metadata": {},
   "outputs": [],
   "source": [
    "df2.head()"
   ]
  },
  {
   "cell_type": "code",
   "execution_count": null,
   "metadata": {},
   "outputs": [],
   "source": [
    "final_column_sorting=[\"MKT\",\"PROD\",\"CP_MANUFACTURER\",\"CP_FRANCHISE\",\"CP_BRAND\",'CP_CONCENTRATION',\"Time_Period\",\"Doll_Shr\"]\n",
    "LDL_Distri_final=df2[final_column_sorting]"
   ]
  },
  {
   "cell_type": "code",
   "execution_count": null,
   "metadata": {},
   "outputs": [],
   "source": [
    "LDL_Distri_final.head()"
   ]
  },
  {
   "cell_type": "code",
   "execution_count": null,
   "metadata": {},
   "outputs": [],
   "source": [
    "brand_level1=LDL_Distri_final.loc[(LDL_Distri_final[\"CP_BRAND\"]!=\"\")]\n",
    "cat_level1=LDL_Distri_final.loc[(LDL_Distri_final[\"CP_MANUFACTURER\"]==\"\")]\n",
    "LDL_Distri_Brand_and_Cat_Level1=pd.concat([cat_level1,brand_level1],axis=0,ignore_index=True)"
   ]
  },
  {
   "cell_type": "code",
   "execution_count": null,
   "metadata": {},
   "outputs": [],
   "source": [
    "length= len(LDL_Distri_Brand_and_Cat_Level1)\n",
    "LDL_Distri_Brand_and_Cat_Level1[\"Record_ID\"]=range(1,length+1)"
   ]
  },
  {
   "cell_type": "code",
   "execution_count": null,
   "metadata": {},
   "outputs": [],
   "source": [
    "LDL_Distri_Brand_and_Cat_Level1.head()"
   ]
  },
  {
   "cell_type": "code",
   "execution_count": null,
   "metadata": {},
   "outputs": [],
   "source": [
    "#saving into csv file\n",
    "LDL_Distri_Brand_and_Cat_Level1.to_csv(path_LDL+\"Distri_cat_doll_share.csv\",index=False)"
   ]
  },
  {
   "cell_type": "code",
   "execution_count": null,
   "metadata": {},
   "outputs": [],
   "source": []
  },
  {
   "cell_type": "markdown",
   "metadata": {},
   "source": [
    "## FS"
   ]
  },
  {
   "cell_type": "code",
   "execution_count": 60,
   "metadata": {},
   "outputs": [],
   "source": [
    "# path to store Output files\n",
    "path_FS=\"//falmumapp34/Nielsen Connect Transition & Maintenance (20-SCP-3650)/05. Output Data/5P Output/FS/\""
   ]
  },
  {
   "cell_type": "code",
   "execution_count": 61,
   "metadata": {},
   "outputs": [],
   "source": [
    "FS_Distri=Data_5p[Data_5p[\"ShareBasis\"].isin([\"FABRIC SOFTENERS\",\"SHEETS\",\"SCENT BOOSTERS\",\"LIQUID FS\",\"BEAD FS\"])]"
   ]
  },
  {
   "cell_type": "markdown",
   "metadata": {},
   "source": [
    "**Filter Data**"
   ]
  },
  {
   "cell_type": "code",
   "execution_count": null,
   "metadata": {},
   "outputs": [],
   "source": [
    "#blank manufacturer?\n",
    "Markets=[\"BJs\",\"CVS\",\"Dollar General\",\"El Super\",\"Family Dollar\",\"Kmart\",\"Publix\",\n",
    "         \"Rite Aid\",\"Sams\",\"Target\",\"US AOC\",\"US Drug\",\"US Food\",\"Walgreens\",\"Walmart\"]\n",
    "\n",
    "Manufacturer=[\"\",\"COLGATE-PALMOLIVE\",\"ALEN\",\"P&G\",\"HENKEL\",\"SC JOHNSON\",\"CHURCH&DWIGHT\",\"PRVT LBL\"]"
   ]
  },
  {
   "cell_type": "code",
   "execution_count": null,
   "metadata": {},
   "outputs": [],
   "source": [
    "FS_Distri = FS_Distri[FS_Distri[\"Facts\"].isin(Distri_Facts)]\n",
    "FS_Distri = FS_Distri[FS_Distri[\"Markets\"].isin(Markets)]\n",
    "FS_Distri = FS_Distri[FS_Distri[\"Manufacturer\"].isin(Manufacturer)]"
   ]
  },
  {
   "cell_type": "code",
   "execution_count": null,
   "metadata": {},
   "outputs": [],
   "source": [
    "print(\"Missing Facts ->\",len(Distri_Facts)-len(set(FS_Distri[\"Facts\"])),\"Missing Markets -> \",len(Markets)-len(set(FS_Distri[\"Markets\"])))"
   ]
  },
  {
   "cell_type": "markdown",
   "metadata": {},
   "source": [
    "**Fact Mapping**"
   ]
  },
  {
   "cell_type": "code",
   "execution_count": null,
   "metadata": {},
   "outputs": [],
   "source": [
    "FS_Distri[\"Facts\"].replace(Distri_Fact_Mapping,inplace=True)"
   ]
  },
  {
   "cell_type": "code",
   "execution_count": null,
   "metadata": {},
   "outputs": [],
   "source": [
    "FS_Distri.head()"
   ]
  },
  {
   "cell_type": "code",
   "execution_count": null,
   "metadata": {},
   "outputs": [],
   "source": [
    "FS_Distri[\"ShareBasis\"] = FS_Distri[\"ShareBasis\"].str.replace(\"FABRIC SOFTENERS\",\"TOTAL FS\")"
   ]
  },
  {
   "cell_type": "code",
   "execution_count": null,
   "metadata": {},
   "outputs": [],
   "source": [
    "set(FS_Distri['ShareBasis'])"
   ]
  },
  {
   "cell_type": "markdown",
   "metadata": {},
   "source": [
    "**Column name Change**"
   ]
  },
  {
   "cell_type": "code",
   "execution_count": null,
   "metadata": {},
   "outputs": [],
   "source": [
    "FS_Distri.rename(columns={\"Markets\":\"MKT\",\"Products\":\"PROD\",\"Manufacturer\":\"CP_MANUFACTURER\",\n",
    "                                \"Franchise\":\"CP_FRANCHISE\",\"Brand\":\"CP_BRAND\", \"ShareBasis\":\"CP_SHARE_BASIS\"},inplace=True)"
   ]
  },
  {
   "cell_type": "code",
   "execution_count": null,
   "metadata": {},
   "outputs": [],
   "source": [
    "FS_Distri.head()"
   ]
  },
  {
   "cell_type": "code",
   "execution_count": null,
   "metadata": {
    "scrolled": true
   },
   "outputs": [],
   "source": [
    "Time_Period=Distri_Time_Period\n",
    "print(Time_Period)"
   ]
  },
  {
   "cell_type": "code",
   "execution_count": null,
   "metadata": {},
   "outputs": [],
   "source": [
    "set(FS_Distri['CP_SHARE_BASIS'])"
   ]
  },
  {
   "cell_type": "markdown",
   "metadata": {},
   "source": [
    "**Moving Time Period to Rows and Facts to Columns**"
   ]
  },
  {
   "cell_type": "code",
   "execution_count": null,
   "metadata": {},
   "outputs": [],
   "source": [
    "df1=pd.melt(FS_Distri, id_vars =[\"MKT\",\"PROD\",\"CP_MANUFACTURER\",\"CP_FRANCHISE\",\"CP_BRAND\",\"CP_SHARE_BASIS\",\"Facts\"], value_vars =Time_Period,var_name=\"Time_Period\")\n",
    "\n",
    "df1[\"value\"]=df1[\"value\"].apply(pd.to_numeric)"
   ]
  },
  {
   "cell_type": "code",
   "execution_count": null,
   "metadata": {},
   "outputs": [],
   "source": [
    "df2=df1.pivot_table(index=['MKT','PROD', 'CP_MANUFACTURER', 'CP_FRANCHISE', 'CP_BRAND', 'CP_SHARE_BASIS','Time_Period'],columns='Facts')\n",
    "\n",
    "df2.columns=df2.columns.droplevel().rename(None)\n",
    "df2.reset_index(inplace =True)"
   ]
  },
  {
   "cell_type": "code",
   "execution_count": null,
   "metadata": {},
   "outputs": [],
   "source": [
    "from pandas.api.types import CategoricalDtype\n",
    "\n",
    "Time_Period_order = CategoricalDtype(\n",
    "    Time_Period, \n",
    "    ordered=True\n",
    ")\n",
    "\n",
    "df2['Time_Period'] = df2['Time_Period'].astype(Time_Period_order)\n",
    "\n",
    "df2.sort_values(['MKT','PROD','Time_Period'],inplace=True)"
   ]
  },
  {
   "cell_type": "code",
   "execution_count": null,
   "metadata": {},
   "outputs": [],
   "source": [
    "df2.head(6)"
   ]
  },
  {
   "cell_type": "code",
   "execution_count": null,
   "metadata": {},
   "outputs": [],
   "source": [
    "df2[\"Dummy1\"]=\"Dummy\"\n",
    "final_column_sorting=[\"MKT\",\"PROD\",\"CP_MANUFACTURER\",\"CP_FRANCHISE\",\"CP_BRAND\",\"Dummy1\",\"Time_Period\",\"Doll_Shr\",\n",
    "                      \"Doll_Shr_Chg\",\"Base_Doll_Shr\",\"Base_Doll_Shr_Chg\",\"Store_Selling\",\"Store_Selling_Chg\",\"Doll_Velocity\",\n",
    "                      \"Doll_Velocity_Chg\",\"Cum_Distri_Pts\",\"Cum_Distri_Pts_Chg\",\"Dollars\",\"Dollars_Chg\",\"CP_SHARE_BASIS\"\n",
    "                      ]\n",
    "FS_Distri_final=df2[final_column_sorting]"
   ]
  },
  {
   "cell_type": "code",
   "execution_count": null,
   "metadata": {
    "scrolled": true
   },
   "outputs": [],
   "source": [
    "FS_Distri_final.head(4)"
   ]
  },
  {
   "cell_type": "markdown",
   "metadata": {},
   "source": [
    "### **Distri_Cat_Data**"
   ]
  },
  {
   "cell_type": "code",
   "execution_count": null,
   "metadata": {},
   "outputs": [],
   "source": [
    "Distri_Cat_Data=FS_Distri_final.loc[(FS_Distri_final[\"CP_BRAND\"]==\"\")&(FS_Distri_final[\"CP_FRANCHISE\"]==\"\")&(FS_Distri_final[\"CP_MANUFACTURER\"]==\"\")]"
   ]
  },
  {
   "cell_type": "code",
   "execution_count": null,
   "metadata": {},
   "outputs": [],
   "source": [
    "length= len(Distri_Cat_Data)\n",
    "Distri_Cat_Data[\"Record_ID\"]=Distri_Cat_Data[\"MKT\"]+Distri_Cat_Data[\"CP_SHARE_BASIS\"]"
   ]
  },
  {
   "cell_type": "code",
   "execution_count": null,
   "metadata": {},
   "outputs": [],
   "source": [
    "Distri_Cat_Data.head(2)"
   ]
  },
  {
   "cell_type": "code",
   "execution_count": null,
   "metadata": {},
   "outputs": [],
   "source": [
    "#saving into csv file\n",
    "Distri_Cat_Data.to_csv(path_FS+\"Distri_Cat_Data.csv\",index=False)"
   ]
  },
  {
   "cell_type": "markdown",
   "metadata": {},
   "source": [
    "### **Distri_Manu_Data**"
   ]
  },
  {
   "cell_type": "code",
   "execution_count": null,
   "metadata": {},
   "outputs": [],
   "source": [
    "Distri_Manu_Data=FS_Distri_final.loc[(FS_Distri_final[\"CP_BRAND\"]==\"\")&(FS_Distri_final[\"CP_FRANCHISE\"]==\"\")&(FS_Distri_final[\"CP_MANUFACTURER\"]!=\"\")]"
   ]
  },
  {
   "cell_type": "code",
   "execution_count": null,
   "metadata": {},
   "outputs": [],
   "source": [
    "length= len(Distri_Manu_Data)\n",
    "Distri_Manu_Data[\"Record_ID\"]=Distri_Manu_Data[\"CP_MANUFACTURER\"]+Distri_Manu_Data[\"CP_SHARE_BASIS\"]"
   ]
  },
  {
   "cell_type": "code",
   "execution_count": null,
   "metadata": {},
   "outputs": [],
   "source": [
    "Distri_Manu_Data.head(2)"
   ]
  },
  {
   "cell_type": "code",
   "execution_count": null,
   "metadata": {},
   "outputs": [],
   "source": [
    "#saving into csv file\n",
    "Distri_Manu_Data.to_csv(path_FS+\"Distri_Manu_Data.csv\",index=False)"
   ]
  },
  {
   "cell_type": "markdown",
   "metadata": {},
   "source": [
    "### **Distri_Fran_Data**"
   ]
  },
  {
   "cell_type": "code",
   "execution_count": null,
   "metadata": {},
   "outputs": [],
   "source": [
    "Distri_Fran_Data=FS_Distri_final.loc[(FS_Distri_final[\"CP_BRAND\"]==\"\")&(FS_Distri_final[\"CP_FRANCHISE\"]!=\"\")]"
   ]
  },
  {
   "cell_type": "code",
   "execution_count": null,
   "metadata": {},
   "outputs": [],
   "source": [
    "length= len(Distri_Fran_Data)\n",
    "Distri_Fran_Data[\"Record_ID\"]=Distri_Fran_Data[\"CP_FRANCHISE\"]+Distri_Fran_Data[\"CP_SHARE_BASIS\"]"
   ]
  },
  {
   "cell_type": "code",
   "execution_count": null,
   "metadata": {},
   "outputs": [],
   "source": [
    "Distri_Fran_Data.head(3)"
   ]
  },
  {
   "cell_type": "code",
   "execution_count": null,
   "metadata": {},
   "outputs": [],
   "source": [
    "#saving into csv file\n",
    "Distri_Fran_Data.to_csv(path_FS+\"Distri_Fran_Data.csv\",index=False)"
   ]
  },
  {
   "cell_type": "markdown",
   "metadata": {},
   "source": [
    "### **Distri_Brand_Data**"
   ]
  },
  {
   "cell_type": "code",
   "execution_count": null,
   "metadata": {},
   "outputs": [],
   "source": [
    "Distri_Brand_Data=FS_Distri_final.loc[(FS_Distri_final[\"CP_BRAND\"]!=\"\")]"
   ]
  },
  {
   "cell_type": "code",
   "execution_count": null,
   "metadata": {},
   "outputs": [],
   "source": [
    "length= len(Distri_Brand_Data)\n",
    "Distri_Brand_Data[\"Record_ID\"]=Distri_Brand_Data[\"CP_BRAND\"]+Distri_Brand_Data[\"CP_SHARE_BASIS\"]"
   ]
  },
  {
   "cell_type": "code",
   "execution_count": null,
   "metadata": {},
   "outputs": [],
   "source": [
    "Distri_Brand_Data.head(3)"
   ]
  },
  {
   "cell_type": "code",
   "execution_count": null,
   "metadata": {},
   "outputs": [],
   "source": [
    "#saving into csv file\n",
    "Distri_Brand_Data.to_csv(path_FS+\"Distri_Brand_Data.csv\",index=False)"
   ]
  },
  {
   "cell_type": "markdown",
   "metadata": {},
   "source": [
    "## Distri Brand Avg Sku Monthly"
   ]
  },
  {
   "cell_type": "code",
   "execution_count": null,
   "metadata": {},
   "outputs": [],
   "source": [
    "FS_Distri=Data_5p[Data_5p[\"ShareBasis\"].isin([\"FABRIC SOFTENERS\",\"SHEETS\",\"SCENT BOOSTERS\",\"LIQUID FS\",\"BEAD FS\"])]"
   ]
  },
  {
   "cell_type": "markdown",
   "metadata": {},
   "source": [
    "**Filter Data**"
   ]
  },
  {
   "cell_type": "code",
   "execution_count": null,
   "metadata": {},
   "outputs": [],
   "source": [
    "Markets=[\"BJs\",\"CVS\",\"Dollar General\",\"El Super\",\"Family Dollar\",\"Kmart\",\"Publix\",\n",
    "         \"Rite Aid\",\"Sams\",\"Target\",\"US AOC\",\"US Drug\",\"US Food\",\"Walgreens\",\"Walmart\"]\n",
    "\n",
    "Facts=[\"TDP\"]\n",
    "\n",
    "Manufacturer=[\"\",\"COLGATE-PALMOLIVE\",\"ALEN\",\"P&G\",\"HENKEL\",\"SC JOHNSON\",\"PRVT LBL\",\"CHURCH&DWIGHT\"]"
   ]
  },
  {
   "cell_type": "code",
   "execution_count": null,
   "metadata": {},
   "outputs": [],
   "source": [
    "FS_Distri = FS_Distri[FS_Distri[\"Facts\"].isin(Facts)]\n",
    "FS_Distri = FS_Distri[FS_Distri[\"Markets\"].isin(Markets)]\n",
    "FS_Distri = FS_Distri[FS_Distri[\"Manufacturer\"].isin(Manufacturer)]"
   ]
  },
  {
   "cell_type": "code",
   "execution_count": null,
   "metadata": {},
   "outputs": [],
   "source": [
    "print(\"Missing Facts ->\",len(Facts)-len(set(FS_Distri[\"Facts\"])),\"Missing Markets -> \",len(Markets)-len(set(FS_Distri[\"Markets\"])))"
   ]
  },
  {
   "cell_type": "markdown",
   "metadata": {},
   "source": [
    "**Fact Mapping**"
   ]
  },
  {
   "cell_type": "code",
   "execution_count": null,
   "metadata": {},
   "outputs": [],
   "source": [
    "FS_Distri[\"Facts\"].replace(Distri_Fact_Mapping,inplace=True)"
   ]
  },
  {
   "cell_type": "code",
   "execution_count": null,
   "metadata": {},
   "outputs": [],
   "source": [
    "FS_Distri.head()"
   ]
  },
  {
   "cell_type": "code",
   "execution_count": null,
   "metadata": {},
   "outputs": [],
   "source": [
    "FS_Distri[\"ShareBasis\"] = FS_Distri[\"ShareBasis\"].str.replace(\"FABRIC SOFTENERS\",\"TOTAL FS\")\n",
    "set(FS_Distri['ShareBasis'])"
   ]
  },
  {
   "cell_type": "markdown",
   "metadata": {},
   "source": [
    "**Column name Change**"
   ]
  },
  {
   "cell_type": "code",
   "execution_count": null,
   "metadata": {},
   "outputs": [],
   "source": [
    "FS_Distri.rename(columns={\"Markets\":\"MKT\",\"Products\":\"PROD\",\"Manufacturer\":\"CP_MANUFACTURER\",\n",
    "                                \"Franchise\":\"CP_FRANCHISE\",\"Brand\":\"CP_BRAND\", \"ShareBasis\":\"CP_SHARE_BASIS\"},inplace=True)"
   ]
  },
  {
   "cell_type": "code",
   "execution_count": null,
   "metadata": {
    "scrolled": false
   },
   "outputs": [],
   "source": [
    "FS_Distri.head(2)"
   ]
  },
  {
   "cell_type": "code",
   "execution_count": null,
   "metadata": {},
   "outputs": [],
   "source": [
    "FS_Distri.columns"
   ]
  },
  {
   "cell_type": "code",
   "execution_count": null,
   "metadata": {
    "scrolled": true
   },
   "outputs": [],
   "source": [
    "Time_Period=list(FS_Distri.columns[25:38])\n",
    "print(Time_Period)"
   ]
  },
  {
   "cell_type": "markdown",
   "metadata": {},
   "source": [
    "**Moving Time Period to Rows and Facts to Columns**"
   ]
  },
  {
   "cell_type": "code",
   "execution_count": null,
   "metadata": {},
   "outputs": [],
   "source": [
    "df1=pd.melt(FS_Distri, id_vars =[\"MKT\",\"PROD\",\"CP_MANUFACTURER\",\"CP_FRANCHISE\",\"CP_BRAND\",\"CP_SHARE_BASIS\",\"Facts\"], value_vars =Time_Period,var_name=\"Time_Period\")\n",
    "\n",
    "df1[\"value\"]=df1[\"value\"].apply(pd.to_numeric)"
   ]
  },
  {
   "cell_type": "code",
   "execution_count": null,
   "metadata": {},
   "outputs": [],
   "source": [
    "df2=df1.pivot_table(index=['MKT','PROD', 'CP_MANUFACTURER', 'CP_FRANCHISE', 'CP_BRAND','CP_SHARE_BASIS','Time_Period'],columns='Facts')\n",
    "\n",
    "df2.columns=df2.columns.droplevel().rename(None)\n",
    "df2.reset_index(inplace =True)"
   ]
  },
  {
   "cell_type": "code",
   "execution_count": null,
   "metadata": {},
   "outputs": [],
   "source": [
    "from pandas.api.types import CategoricalDtype\n",
    "\n",
    "Time_Period_order = CategoricalDtype(\n",
    "    Time_Period, \n",
    "    ordered=True\n",
    ")\n",
    "\n",
    "df2['Time_Period'] = df2['Time_Period'].astype(Time_Period_order)\n",
    "\n",
    "df2.sort_values(['MKT','PROD','Time_Period'],inplace=True)"
   ]
  },
  {
   "cell_type": "code",
   "execution_count": null,
   "metadata": {
    "scrolled": true
   },
   "outputs": [],
   "source": [
    "df2.head()"
   ]
  },
  {
   "cell_type": "code",
   "execution_count": null,
   "metadata": {},
   "outputs": [],
   "source": [
    "df2[\"Dummy1\"]=\"Dummy\"\n",
    "final_column_sorting=[\"MKT\",\"PROD\",\"CP_MANUFACTURER\",\"CP_FRANCHISE\",\"CP_BRAND\",\"Dummy1\",\"Time_Period\",\"Cum_Distri_Pts\",\"CP_SHARE_BASIS\"\n",
    "                      ]\n",
    "FS_Distri_final=df2[final_column_sorting]"
   ]
  },
  {
   "cell_type": "code",
   "execution_count": null,
   "metadata": {},
   "outputs": [],
   "source": [
    "FS_Distri_final.head()"
   ]
  },
  {
   "cell_type": "code",
   "execution_count": null,
   "metadata": {},
   "outputs": [],
   "source": [
    "brand_level=FS_Distri_final.loc[(FS_Distri_final[\"CP_BRAND\"]!=\"\")]\n",
    "cat_level=FS_Distri_final.loc[(FS_Distri_final[\"CP_MANUFACTURER\"]==\"\")]\n",
    "FS_Distri_Brand_and_Cat_Level=pd.concat([cat_level,brand_level],axis=0,ignore_index=True)"
   ]
  },
  {
   "cell_type": "code",
   "execution_count": null,
   "metadata": {},
   "outputs": [],
   "source": [
    "length= len(FS_Distri_Brand_and_Cat_Level)\n",
    "FS_Distri_Brand_and_Cat_Level[\"Record_ID\"]=range(1,length+1)"
   ]
  },
  {
   "cell_type": "code",
   "execution_count": null,
   "metadata": {},
   "outputs": [],
   "source": [
    "FS_Distri_Brand_and_Cat_Level.shape"
   ]
  },
  {
   "cell_type": "code",
   "execution_count": null,
   "metadata": {},
   "outputs": [],
   "source": [
    "#saving into csv file\n",
    "FS_Distri_Brand_and_Cat_Level.to_csv(path_FS+\"Distri_brand_avg_skus_monthly.csv\",index=False)"
   ]
  },
  {
   "cell_type": "code",
   "execution_count": null,
   "metadata": {},
   "outputs": [],
   "source": []
  },
  {
   "cell_type": "markdown",
   "metadata": {},
   "source": [
    "## Distri Cat Dollar Share"
   ]
  },
  {
   "cell_type": "code",
   "execution_count": null,
   "metadata": {},
   "outputs": [],
   "source": [
    "FS_Distri=Data_5p[Data_5p[\"ShareBasis\"].isin([\"FABRIC SOFTENERS\",\"SHEETS\",\"SCENT BOOSTERS\",\"LIQUID FS\",\"BEAD FS\"])]"
   ]
  },
  {
   "cell_type": "markdown",
   "metadata": {},
   "source": [
    "**Filter Data**"
   ]
  },
  {
   "cell_type": "code",
   "execution_count": null,
   "metadata": {},
   "outputs": [],
   "source": [
    "Markets=[\"BJs\",\"CVS\",\"Dollar General\",\"El Super\",\"Family Dollar\",\"Kmart\",\"Publix\",\n",
    "         \"Rite Aid\",\"Sams\",\"Target\",\"US AOC\",\"US Drug\",\"US Food\",\"Walgreens\",\"Walmart\"]\n",
    "\n",
    "Facts=[\"$ Shr - CP CATEGORY\"]\n",
    "\n",
    "#Manufacturer=[\"\",\"COLGATE-PALMOLIVE\",\"ALEN\",\"P&G\",\"HENKEL\",\"SC JOHNSON\",\"PRVT LBL\",\"CHURCH&DWIGHT\"]"
   ]
  },
  {
   "cell_type": "code",
   "execution_count": null,
   "metadata": {},
   "outputs": [],
   "source": [
    "FS_Distri = FS_Distri[FS_Distri[\"Facts\"].isin(Facts)]\n",
    "FS_Distri = FS_Distri[FS_Distri[\"Markets\"].isin(Markets)]\n",
    "#FS_Distri = FS_Distri[FS_Distri[\"Manufacturer\"].isin(Manufacturer)]"
   ]
  },
  {
   "cell_type": "code",
   "execution_count": null,
   "metadata": {},
   "outputs": [],
   "source": [
    "print(\"Missing Facts ->\",len(Facts)-len(set(FS_Distri[\"Facts\"])),\"Missing Markets -> \",len(Markets)-len(set(FS_Distri[\"Markets\"])))"
   ]
  },
  {
   "cell_type": "markdown",
   "metadata": {},
   "source": [
    "**Fact Mapping**"
   ]
  },
  {
   "cell_type": "code",
   "execution_count": null,
   "metadata": {},
   "outputs": [],
   "source": [
    "FS_Distri[\"Facts\"].replace(Distri_Fact_Mapping,inplace=True)"
   ]
  },
  {
   "cell_type": "code",
   "execution_count": null,
   "metadata": {},
   "outputs": [],
   "source": [
    "FS_Distri.head()"
   ]
  },
  {
   "cell_type": "code",
   "execution_count": null,
   "metadata": {},
   "outputs": [],
   "source": [
    "FS_Distri[\"ShareBasis\"] = FS_Distri[\"ShareBasis\"].str.replace(\"FABRIC SOFTENERS\",\"TOTAL FS\")\n",
    "set(FS_Distri['ShareBasis'])"
   ]
  },
  {
   "cell_type": "markdown",
   "metadata": {},
   "source": [
    "**Column name Change**"
   ]
  },
  {
   "cell_type": "code",
   "execution_count": null,
   "metadata": {},
   "outputs": [],
   "source": [
    "FS_Distri.rename(columns={\"Markets\":\"MKT\",\"Products\":\"PROD\",\"Manufacturer\":\"CP_MANUFACTURER\",\n",
    "                                \"Franchise\":\"CP_FRANCHISE\",\"Brand\":\"CP_BRAND\",\"ShareBasis\":\"CP_SHARE_BASIS\"},inplace=True)"
   ]
  },
  {
   "cell_type": "code",
   "execution_count": null,
   "metadata": {
    "scrolled": true
   },
   "outputs": [],
   "source": [
    "FS_Distri.head(2)"
   ]
  },
  {
   "cell_type": "code",
   "execution_count": null,
   "metadata": {
    "scrolled": true
   },
   "outputs": [],
   "source": [
    "Time_Period=list(FS_Distri.columns[25:38])\n",
    "print(Time_Period)"
   ]
  },
  {
   "cell_type": "markdown",
   "metadata": {},
   "source": [
    "**Moving Time Period to Rows and Facts to Columns**"
   ]
  },
  {
   "cell_type": "code",
   "execution_count": null,
   "metadata": {},
   "outputs": [],
   "source": [
    "df1=pd.melt(FS_Distri, id_vars =[\"MKT\",\"PROD\",\"CP_MANUFACTURER\",\"CP_FRANCHISE\",\"CP_BRAND\",\"CP_SHARE_BASIS\",\"Facts\"], value_vars =Time_Period,var_name=\"Time_Period\")\n",
    "\n",
    "df1[\"value\"]=df1[\"value\"].apply(pd.to_numeric)"
   ]
  },
  {
   "cell_type": "code",
   "execution_count": null,
   "metadata": {},
   "outputs": [],
   "source": [
    "df2=df1.pivot_table(index=['MKT','PROD', 'CP_MANUFACTURER', 'CP_FRANCHISE', 'CP_BRAND','CP_SHARE_BASIS','Time_Period'],columns='Facts')\n",
    "\n",
    "df2.columns=df2.columns.droplevel().rename(None)\n",
    "df2.reset_index(inplace =True)"
   ]
  },
  {
   "cell_type": "code",
   "execution_count": null,
   "metadata": {},
   "outputs": [],
   "source": [
    "from pandas.api.types import CategoricalDtype\n",
    "\n",
    "Time_Period_order = CategoricalDtype(\n",
    "    Time_Period, \n",
    "    ordered=True\n",
    ")\n",
    "\n",
    "df2['Time_Period'] = df2['Time_Period'].astype(Time_Period_order)\n",
    "\n",
    "df2.sort_values(['MKT','PROD','Time_Period'],inplace=True)"
   ]
  },
  {
   "cell_type": "code",
   "execution_count": null,
   "metadata": {},
   "outputs": [],
   "source": [
    "df2.head()"
   ]
  },
  {
   "cell_type": "code",
   "execution_count": null,
   "metadata": {},
   "outputs": [],
   "source": [
    "df2[\"Dummy1\"]=\"Dummy\"\n",
    "final_column_sorting=[\"MKT\",\"PROD\",\"CP_MANUFACTURER\",\"CP_FRANCHISE\",\"CP_BRAND\",\"Dummy1\",\"Time_Period\",\"Doll_Shr\",\"CP_SHARE_BASIS\"\n",
    "                      ]\n",
    "FS_Distri_final=df2[final_column_sorting]"
   ]
  },
  {
   "cell_type": "code",
   "execution_count": null,
   "metadata": {},
   "outputs": [],
   "source": [
    "FS_Distri_final.head()"
   ]
  },
  {
   "cell_type": "code",
   "execution_count": null,
   "metadata": {},
   "outputs": [],
   "source": [
    "brand_level=FS_Distri_final.loc[(FS_Distri_final[\"CP_BRAND\"]!=\"\")]\n",
    "cat_level=FS_Distri_final.loc[(FS_Distri_final[\"CP_MANUFACTURER\"]==\"\")]\n",
    "FS_Distri_Brand_and_Cat_Level=pd.concat([cat_level,brand_level],axis=0,ignore_index=True)"
   ]
  },
  {
   "cell_type": "code",
   "execution_count": null,
   "metadata": {},
   "outputs": [],
   "source": [
    "length= len(FS_Distri_Brand_and_Cat_Level)\n",
    "FS_Distri_Brand_and_Cat_Level[\"Record_ID\"]=range(1,length+1)"
   ]
  },
  {
   "cell_type": "code",
   "execution_count": null,
   "metadata": {},
   "outputs": [],
   "source": [
    "FS_Distri_Brand_and_Cat_Level.shape"
   ]
  },
  {
   "cell_type": "code",
   "execution_count": null,
   "metadata": {},
   "outputs": [],
   "source": [
    "#saving into csv file\n",
    "FS_Distri_Brand_and_Cat_Level.to_csv(path_FS+\"Distri_cat_doll_share.csv\",index=False)"
   ]
  },
  {
   "cell_type": "code",
   "execution_count": null,
   "metadata": {},
   "outputs": [],
   "source": []
  }
 ],
 "metadata": {
  "kernelspec": {
   "display_name": "Python 3",
   "language": "python",
   "name": "python3"
  },
  "language_info": {
   "codemirror_mode": {
    "name": "ipython",
    "version": 3
   },
   "file_extension": ".py",
   "mimetype": "text/x-python",
   "name": "python",
   "nbconvert_exporter": "python",
   "pygments_lexer": "ipython3",
   "version": "3.7.6"
  }
 },
 "nbformat": 4,
 "nbformat_minor": 4
}
