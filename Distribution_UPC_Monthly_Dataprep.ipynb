{
 "cells": [
  {
   "cell_type": "code",
   "execution_count": 1,
   "metadata": {},
   "outputs": [],
   "source": [
    "import pandas as pd;\n",
    "import numpy as np;\n",
    "import os;\n",
    "import time;\n",
    "import datetime;\n",
    "import warnings;\n",
    "warnings.filterwarnings('ignore');"
   ]
  },
  {
   "cell_type": "markdown",
   "metadata": {},
   "source": [
    "Assigning path of the folder where **Line Weekly** data files are stored"
   ]
  },
  {
   "cell_type": "code",
   "execution_count": 2,
   "metadata": {},
   "outputs": [],
   "source": [
    "path = \"//falmumapp34/Nielsen Connect Transition & Maintenance (20-SCP-3650)/03. Raw Data/Connect Data/UPC Monthly\"\n",
    "files = os.listdir(path)"
   ]
  },
  {
   "cell_type": "markdown",
   "metadata": {},
   "source": [
    "Selecting only **excel files** from all the files available in the above path"
   ]
  },
  {
   "cell_type": "code",
   "execution_count": 3,
   "metadata": {},
   "outputs": [
    {
     "name": "stdout",
     "output_type": "stream",
     "text": [
      "Total number of files in the folder are  28\n"
     ]
    }
   ],
   "source": [
    "#files_xls=[f for f in files if (f[0:10]==\"Toothpaste\")]\n",
    "#files_xls = [f for f in files if( f[0:3] == \"LDL\" )] \n",
    "files_xls = [f for f in files if( f[:7] == \"TotalFS\" )| (f[:6] == 'Sheets')|( f[:5] == \"LiqFS\" )| (f[:6] == 'ScentB')| (f[:5] == 'Beads')][::-1] \n",
    "print(\"Total number of files in the folder are \",len(files_xls))"
   ]
  },
  {
   "cell_type": "code",
   "execution_count": 6,
   "metadata": {},
   "outputs": [
    {
     "data": {
      "text/plain": [
       "['TotalFS_UPC_Monthly_Part6.xlsx',\n",
       " 'TotalFS_UPC_Monthly_Part5.xlsx',\n",
       " 'TotalFS_UPC_Monthly_Part4.xlsx',\n",
       " 'TotalFS_UPC_Monthly_Part3.xlsx',\n",
       " 'TotalFS_UPC_Monthly_Part2.xlsx',\n",
       " 'TotalFS_UPC_Monthly_Part1.xlsx',\n",
       " 'Sheets_UPC_Monthly_Part6.xlsx',\n",
       " 'Sheets_UPC_Monthly_Part5.xlsx',\n",
       " 'Sheets_UPC_Monthly_Part4.xlsx',\n",
       " 'Sheets_UPC_Monthly_Part3.xlsx',\n",
       " 'Sheets_UPC_Monthly_Part2.xlsx',\n",
       " 'Sheets_UPC_Monthly_Part1.xlsx',\n",
       " 'ScentB_UPC_Monthly_Part5.xlsx',\n",
       " 'ScentB_UPC_Monthly_Part4.xlsx',\n",
       " 'ScentB_UPC_Monthly_Part3.xlsx',\n",
       " 'ScentB_UPC_Monthly_Part2.xlsx',\n",
       " 'ScentB_UPC_Monthly_Part1.xlsx',\n",
       " 'LiqFS_UPC_Monthly_Part6.xlsx',\n",
       " 'LiqFS_UPC_Monthly_Part5.xlsx',\n",
       " 'LiqFS_UPC_Monthly_Part4.xlsx',\n",
       " 'LiqFS_UPC_Monthly_Part3.xlsx',\n",
       " 'LiqFS_UPC_Monthly_Part2.xlsx',\n",
       " 'LiqFS_UPC_Monthly_Part1.xlsx',\n",
       " 'Beads_UPC_Monthly_Part5.xlsx',\n",
       " 'Beads_UPC_Monthly_Part4.xlsx',\n",
       " 'Beads_UPC_Monthly_Part3.xlsx',\n",
       " 'Beads_UPC_Monthly_Part2.xlsx',\n",
       " 'Beads_UPC_Monthly_Part1.xlsx']"
      ]
     },
     "execution_count": 6,
     "metadata": {},
     "output_type": "execute_result"
    }
   ],
   "source": [
    "files_xls"
   ]
  },
  {
   "cell_type": "markdown",
   "metadata": {},
   "source": [
    "**Appending the read files in rows and storing them in a single dataframe** named ***UPC_Monthly***.\n",
    "\n",
    "Printing number of columns and number of facts in each file.\n",
    "Also checking the execution time of the code"
   ]
  },
  {
   "cell_type": "code",
   "execution_count": 5,
   "metadata": {
    "scrolled": true
   },
   "outputs": [
    {
     "name": "stdout",
     "output_type": "stream",
     "text": [
      "\u001b[1mTotalFS_UPC_Monthly_Part6.xlsx\u001b[0m :->\n",
      "# of Facts are  70 \t\t # of columns are  12\n",
      "\u001b[1mTotalFS_UPC_Monthly_Part5.xlsx\u001b[0m :->\n",
      "# of Facts are  23 \t\t # of columns are  12\n",
      "\u001b[1mTotalFS_UPC_Monthly_Part4.xlsx\u001b[0m :->\n",
      "# of Facts are  57 \t\t # of columns are  12\n",
      "\u001b[1mTotalFS_UPC_Monthly_Part3.xlsx\u001b[0m :->\n",
      "# of Facts are  57 \t\t # of columns are  12\n",
      "\u001b[1mTotalFS_UPC_Monthly_Part2.xlsx\u001b[0m :->\n",
      "# of Facts are  57 \t\t # of columns are  12\n",
      "\u001b[1mTotalFS_UPC_Monthly_Part1.xlsx\u001b[0m :->\n",
      "# of Facts are  57 \t\t # of columns are  12\n",
      "\u001b[1mSheets_UPC_Monthly_Part6.xlsx\u001b[0m :->\n",
      "# of Facts are  70 \t\t # of columns are  12\n",
      "\u001b[1mSheets_UPC_Monthly_Part5.xlsx\u001b[0m :->\n",
      "# of Facts are  23 \t\t # of columns are  12\n",
      "\u001b[1mSheets_UPC_Monthly_Part4.xlsx\u001b[0m :->\n",
      "# of Facts are  57 \t\t # of columns are  12\n",
      "\u001b[1mSheets_UPC_Monthly_Part3.xlsx\u001b[0m :->\n",
      "# of Facts are  57 \t\t # of columns are  12\n",
      "\u001b[1mSheets_UPC_Monthly_Part2.xlsx\u001b[0m :->\n",
      "# of Facts are  57 \t\t # of columns are  12\n",
      "\u001b[1mSheets_UPC_Monthly_Part1.xlsx\u001b[0m :->\n",
      "# of Facts are  57 \t\t # of columns are  12\n",
      "\u001b[1mScentB_UPC_Monthly_Part5.xlsx\u001b[0m :->\n",
      "# of Facts are  23 \t\t # of columns are  12\n",
      "\u001b[1mScentB_UPC_Monthly_Part4.xlsx\u001b[0m :->\n",
      "# of Facts are  57 \t\t # of columns are  12\n",
      "\u001b[1mScentB_UPC_Monthly_Part3.xlsx\u001b[0m :->\n",
      "# of Facts are  57 \t\t # of columns are  12\n",
      "\u001b[1mScentB_UPC_Monthly_Part2.xlsx\u001b[0m :->\n",
      "# of Facts are  57 \t\t # of columns are  12\n",
      "\u001b[1mScentB_UPC_Monthly_Part1.xlsx\u001b[0m :->\n",
      "# of Facts are  57 \t\t # of columns are  12\n",
      "\u001b[1mLiqFS_UPC_Monthly_Part6.xlsx\u001b[0m :->\n",
      "# of Facts are  70 \t\t # of columns are  12\n",
      "\u001b[1mLiqFS_UPC_Monthly_Part5.xlsx\u001b[0m :->\n",
      "# of Facts are  23 \t\t # of columns are  12\n",
      "\u001b[1mLiqFS_UPC_Monthly_Part4.xlsx\u001b[0m :->\n",
      "# of Facts are  57 \t\t # of columns are  12\n",
      "\u001b[1mLiqFS_UPC_Monthly_Part3.xlsx\u001b[0m :->\n",
      "# of Facts are  57 \t\t # of columns are  12\n",
      "\u001b[1mLiqFS_UPC_Monthly_Part2.xlsx\u001b[0m :->\n",
      "# of Facts are  57 \t\t # of columns are  12\n",
      "\u001b[1mLiqFS_UPC_Monthly_Part1.xlsx\u001b[0m :->\n",
      "# of Facts are  57 \t\t # of columns are  12\n",
      "\u001b[1mBeads_UPC_Monthly_Part5.xlsx\u001b[0m :->\n",
      "# of Facts are  23 \t\t # of columns are  8\n",
      "\u001b[1mBeads_UPC_Monthly_Part4.xlsx\u001b[0m :->\n",
      "# of Facts are  57 \t\t # of columns are  8\n",
      "\u001b[1mBeads_UPC_Monthly_Part3.xlsx\u001b[0m :->\n",
      "# of Facts are  57 \t\t # of columns are  8\n",
      "\u001b[1mBeads_UPC_Monthly_Part2.xlsx\u001b[0m :->\n",
      "# of Facts are  57 \t\t # of columns are  8\n",
      "\u001b[1mBeads_UPC_Monthly_Part1.xlsx\u001b[0m :->\n",
      "# of Facts are  57 \t\t # of columns are  8\n",
      "execution time is  198.83903813362122\n"
     ]
    }
   ],
   "source": [
    "time_start= time.time()\n",
    "\n",
    "UPC_Monthly= pd.DataFrame()\n",
    "\n",
    "j=0\n",
    "for f in files_xls:\n",
    "    \n",
    "    data = pd.read_excel(path+\"/\"+f)\n",
    "    print(\"\\033[1m\" + files_xls[j] + \"\\033[0m\",\":->\\n# of Facts are \",len(set(data[\"Periods\"])),\"\\t\\t # of columns are \",len(data.columns))  \n",
    "    UPC_Monthly = pd.concat([UPC_Monthly,data],axis=0,ignore_index=True)\n",
    "    j=j+1\n",
    "    \n",
    "time_end= time.time();\n",
    "\n",
    "print(\"execution time is \", time_end-time_start)"
   ]
  },
  {
   "cell_type": "code",
   "execution_count": 7,
   "metadata": {},
   "outputs": [
    {
     "data": {
      "text/html": [
       "<div>\n",
       "<style scoped>\n",
       "    .dataframe tbody tr th:only-of-type {\n",
       "        vertical-align: middle;\n",
       "    }\n",
       "\n",
       "    .dataframe tbody tr th {\n",
       "        vertical-align: top;\n",
       "    }\n",
       "\n",
       "    .dataframe thead th {\n",
       "        text-align: right;\n",
       "    }\n",
       "</style>\n",
       "<table border=\"1\" class=\"dataframe\">\n",
       "  <thead>\n",
       "    <tr style=\"text-align: right;\">\n",
       "      <th></th>\n",
       "      <th>Markets</th>\n",
       "      <th>Products</th>\n",
       "      <th>Periods</th>\n",
       "      <th>Latest 13 Wks - w/e 02/27/21</th>\n",
       "      <th>Latest 26 Wks - w/e 02/27/21</th>\n",
       "      <th>Cal Yr 2020 - w/e 01/02/21</th>\n",
       "      <th>Cal Yr 2019 - w/e 01/04/20</th>\n",
       "      <th>Cal Yr 2018 - w/e 01/05/19</th>\n",
       "      <th>Cal Yr 2017 - w/e 01/06/18</th>\n",
       "      <th>YTD - 8 w/e 02/27/21</th>\n",
       "      <th>YTD YA - 8 w/e 02/29/20</th>\n",
       "      <th>Feb 21 - 4 w/e 02/27/21</th>\n",
       "    </tr>\n",
       "  </thead>\n",
       "  <tbody>\n",
       "    <tr>\n",
       "      <th>0</th>\n",
       "      <td>El Super Total TA</td>\n",
       "      <td>FABRIC SOFTENERS | COLGATE-PALMOLIVE | SUAVITE...</td>\n",
       "      <td>% $ Any Promo</td>\n",
       "      <td>32.510</td>\n",
       "      <td>56.438</td>\n",
       "      <td>58.845</td>\n",
       "      <td>77.475</td>\n",
       "      <td>35.445</td>\n",
       "      <td>89.503</td>\n",
       "      <td>26.818</td>\n",
       "      <td>71.751</td>\n",
       "      <td>0.000</td>\n",
       "    </tr>\n",
       "    <tr>\n",
       "      <th>1</th>\n",
       "      <td>El Super Total TA</td>\n",
       "      <td>FABRIC SOFTENERS | COLGATE-PALMOLIVE | SUAVITE...</td>\n",
       "      <td>% $ Any Promo Chg YA</td>\n",
       "      <td>-31.222</td>\n",
       "      <td>-20.919</td>\n",
       "      <td>-18.630</td>\n",
       "      <td>42.030</td>\n",
       "      <td>-54.058</td>\n",
       "      <td>89.503</td>\n",
       "      <td>-44.933</td>\n",
       "      <td>71.751</td>\n",
       "      <td>-71.025</td>\n",
       "    </tr>\n",
       "    <tr>\n",
       "      <th>2</th>\n",
       "      <td>El Super Total TA</td>\n",
       "      <td>FABRIC SOFTENERS | COLGATE-PALMOLIVE | SUAVITE...</td>\n",
       "      <td>% EQ Any Promo</td>\n",
       "      <td>34.210</td>\n",
       "      <td>58.253</td>\n",
       "      <td>60.997</td>\n",
       "      <td>77.714</td>\n",
       "      <td>35.385</td>\n",
       "      <td>88.948</td>\n",
       "      <td>28.578</td>\n",
       "      <td>71.698</td>\n",
       "      <td>0.000</td>\n",
       "    </tr>\n",
       "    <tr>\n",
       "      <th>3</th>\n",
       "      <td>El Super Total TA</td>\n",
       "      <td>FABRIC SOFTENERS | COLGATE-PALMOLIVE | SUAVITE...</td>\n",
       "      <td>% EQ Any Promo Chg YA</td>\n",
       "      <td>-29.563</td>\n",
       "      <td>-19.352</td>\n",
       "      <td>-16.717</td>\n",
       "      <td>42.329</td>\n",
       "      <td>-53.563</td>\n",
       "      <td>88.948</td>\n",
       "      <td>-43.120</td>\n",
       "      <td>71.698</td>\n",
       "      <td>-71.939</td>\n",
       "    </tr>\n",
       "    <tr>\n",
       "      <th>4</th>\n",
       "      <td>El Super Total TA</td>\n",
       "      <td>FABRIC SOFTENERS | COLGATE-PALMOLIVE | SUAVITE...</td>\n",
       "      <td>%ACV</td>\n",
       "      <td>44.070</td>\n",
       "      <td>56.302</td>\n",
       "      <td>43.896</td>\n",
       "      <td>13.261</td>\n",
       "      <td>1.891</td>\n",
       "      <td>4.262</td>\n",
       "      <td>26.472</td>\n",
       "      <td>10.377</td>\n",
       "      <td>13.044</td>\n",
       "    </tr>\n",
       "  </tbody>\n",
       "</table>\n",
       "</div>"
      ],
      "text/plain": [
       "             Markets                                           Products  \\\n",
       "0  El Super Total TA  FABRIC SOFTENERS | COLGATE-PALMOLIVE | SUAVITE...   \n",
       "1  El Super Total TA  FABRIC SOFTENERS | COLGATE-PALMOLIVE | SUAVITE...   \n",
       "2  El Super Total TA  FABRIC SOFTENERS | COLGATE-PALMOLIVE | SUAVITE...   \n",
       "3  El Super Total TA  FABRIC SOFTENERS | COLGATE-PALMOLIVE | SUAVITE...   \n",
       "4  El Super Total TA  FABRIC SOFTENERS | COLGATE-PALMOLIVE | SUAVITE...   \n",
       "\n",
       "                 Periods  Latest 13 Wks - w/e 02/27/21  \\\n",
       "0          % $ Any Promo                        32.510   \n",
       "1   % $ Any Promo Chg YA                       -31.222   \n",
       "2         % EQ Any Promo                        34.210   \n",
       "3  % EQ Any Promo Chg YA                       -29.563   \n",
       "4                   %ACV                        44.070   \n",
       "\n",
       "   Latest 26 Wks - w/e 02/27/21  Cal Yr 2020 - w/e 01/02/21  \\\n",
       "0                        56.438                      58.845   \n",
       "1                       -20.919                     -18.630   \n",
       "2                        58.253                      60.997   \n",
       "3                       -19.352                     -16.717   \n",
       "4                        56.302                      43.896   \n",
       "\n",
       "   Cal Yr 2019 - w/e 01/04/20  Cal Yr 2018 - w/e 01/05/19  \\\n",
       "0                      77.475                      35.445   \n",
       "1                      42.030                     -54.058   \n",
       "2                      77.714                      35.385   \n",
       "3                      42.329                     -53.563   \n",
       "4                      13.261                       1.891   \n",
       "\n",
       "   Cal Yr 2017 - w/e 01/06/18  YTD - 8 w/e 02/27/21  YTD YA - 8 w/e 02/29/20  \\\n",
       "0                      89.503                26.818                   71.751   \n",
       "1                      89.503               -44.933                   71.751   \n",
       "2                      88.948                28.578                   71.698   \n",
       "3                      88.948               -43.120                   71.698   \n",
       "4                       4.262                26.472                   10.377   \n",
       "\n",
       "   Feb 21 - 4 w/e 02/27/21  \n",
       "0                    0.000  \n",
       "1                  -71.025  \n",
       "2                    0.000  \n",
       "3                  -71.939  \n",
       "4                   13.044  "
      ]
     },
     "execution_count": 7,
     "metadata": {},
     "output_type": "execute_result"
    }
   ],
   "source": [
    "UPC_Monthly.head()"
   ]
  },
  {
   "cell_type": "code",
   "execution_count": 8,
   "metadata": {},
   "outputs": [],
   "source": [
    "if \"Total\" in UPC_Monthly.columns:\n",
    "    del UPC_Monthly[\"Total\"]"
   ]
  },
  {
   "cell_type": "code",
   "execution_count": 9,
   "metadata": {},
   "outputs": [],
   "source": [
    "# Relaceing in Periods(Facts)\n",
    "UPC_Monthly[\"Periods\"]=UPC_Monthly[\"Periods\"].str.replace(\"$\",\"temp\")\n",
    "UPC_Monthly[\"Periods\"]=UPC_Monthly[\"Periods\"].str.replace(\"- temp -\",\"-\")\n",
    "UPC_Monthly[\"Periods\"]=UPC_Monthly[\"Periods\"].str.replace(\"temp\",\"$\")\n",
    "\n",
    "\n",
    "UPC_Monthly[\"Periods\"]=UPC_Monthly[\"Periods\"].str.replace(\"CP FORM\",\"CP CATEGORY\")\n",
    "UPC_Monthly[\"Periods\"]=UPC_Monthly[\"Periods\"].str.replace(\"CP USE\",\"CP CATEGORY\")\n",
    "UPC_Monthly[\"Periods\"]=UPC_Monthly[\"Periods\"].str.replace(\"CP LDL AND FOAM\",\"CP CATEGORY\")\n",
    "\n",
    "UPC_Monthly[\"Periods\"]=UPC_Monthly[\"Periods\"].str.replace(\"CP LDL AND FM X DISHAIDS/WPS/SPR\",\"CP CATEGORY\")\n",
    "\n",
    "UPC_Monthly[\"Periods\"]=UPC_Monthly[\"Periods\"].str.replace(\"CP MEGA CATEGORY\",\"CP CATEGORY\")\n",
    "UPC_Monthly[\"Periods\"]=UPC_Monthly[\"Periods\"].str.replace(\"CP BATTERY AND HYBRID\",\"CP CATEGORY\")\n",
    "\n",
    "\n",
    "# Market name replaced\n",
    "UPC_Monthly[\"Markets\"]=UPC_Monthly[\"Markets\"].str.replace(\"Walgreens Corp Total TA\",\"Walgreens Total TA\")"
   ]
  },
  {
   "cell_type": "code",
   "execution_count": 10,
   "metadata": {},
   "outputs": [],
   "source": [
    "#replacing NaN values with 0\n",
    "UPC_Monthly.fillna(value=0,inplace=True)"
   ]
  },
  {
   "cell_type": "code",
   "execution_count": 11,
   "metadata": {},
   "outputs": [],
   "source": [
    "temp = set(UPC_Monthly[\"Periods\"])\n",
    "if(\"$ Shr - CP CATEGORY\" not in temp):\n",
    "    raise Exception(\"$ Shr - CP CATEGORY Fact Missing!!!\")"
   ]
  },
  {
   "cell_type": "code",
   "execution_count": 12,
   "metadata": {
    "scrolled": false
   },
   "outputs": [
    {
     "data": {
      "text/plain": [
       "{'$',\n",
       " '$ % Chg YA',\n",
       " '$ / $MM ACV',\n",
       " '$ / $MM ACV % Chg YA',\n",
       " '$ / $MM ACV Chg YA',\n",
       " '$ Chg YA',\n",
       " '$ Shr - CP CATEGORY',\n",
       " '$ Shr Chg YA - CP CATEGORY',\n",
       " '% $ Any Promo',\n",
       " '% $ Any Promo Chg YA',\n",
       " '% EQ Any Promo',\n",
       " '% EQ Any Promo Chg YA',\n",
       " '%ACV',\n",
       " '%ACV Chg YA',\n",
       " 'Any Promo $',\n",
       " 'Any Promo $ % Chg YA',\n",
       " 'Any Promo $ Chg YA',\n",
       " 'Any Promo $ Shr - CP CATEGORY',\n",
       " 'Any Promo $ Shr Chg YA - CP CATEGORY',\n",
       " 'Any Promo EQ',\n",
       " 'Any Promo EQ % Chg YA',\n",
       " 'Any Promo EQ Chg YA',\n",
       " 'Any Promo EQ Price',\n",
       " 'Any Promo EQ Price % Chg YA',\n",
       " 'Any Promo EQ Price Chg YA',\n",
       " 'Any Promo Unit Price',\n",
       " 'Any Promo Unit Price % Chg YA',\n",
       " 'Any Promo Unit Price Chg YA',\n",
       " 'Avg # of Items',\n",
       " 'Avg # of Items Chg YA',\n",
       " 'Avg EQ Price',\n",
       " 'Avg EQ Price % Chg YA',\n",
       " 'Avg EQ Price Chg YA',\n",
       " 'Avg EQ Price YA',\n",
       " 'Avg Unit Price',\n",
       " 'Avg Unit Price % Chg YA',\n",
       " 'Avg Unit Price Chg YA',\n",
       " 'Base $',\n",
       " 'Base $ % Chg YA',\n",
       " 'Base $ Chg YA',\n",
       " 'Base $ Shr - CP CATEGORY',\n",
       " 'Base $ Shr Chg YA - CP CATEGORY',\n",
       " 'Base EQ Price',\n",
       " 'Base EQ Price Chg YA',\n",
       " 'Base Unit Price',\n",
       " 'Base Unit Price % Chg YA',\n",
       " 'Base Unit Price Chg YA',\n",
       " 'EQ',\n",
       " 'EQ % Chg YA',\n",
       " 'EQ Chg YA',\n",
       " 'EQ Shr - CP CATEGORY',\n",
       " 'EQ Shr Chg YA - CP CATEGORY',\n",
       " 'Feat or Disp %ACV',\n",
       " 'Feat or Disp %ACV Chg YA',\n",
       " 'Incr $',\n",
       " 'Incr $ % Chg YA',\n",
       " 'Incr $ Chg YA',\n",
       " 'Incr $ Shr - CP CATEGORY',\n",
       " 'Incr $ Shr Chg YA - CP CATEGORY',\n",
       " 'Price Decr Only %ACV',\n",
       " 'Price Decr Only %ACV Chg YA',\n",
       " 'TDP',\n",
       " 'TDP % Chg YA',\n",
       " 'TDP Chg YA',\n",
       " 'Units',\n",
       " 'Units % Chg YA',\n",
       " 'Units / $MM ACV',\n",
       " 'Units / $MM ACV % Chg YA',\n",
       " 'Units / $MM ACV Chg YA',\n",
       " 'Units Chg YA'}"
      ]
     },
     "execution_count": 12,
     "metadata": {},
     "output_type": "execute_result"
    }
   ],
   "source": [
    "set(UPC_Monthly[\"Periods\"])"
   ]
  },
  {
   "cell_type": "code",
   "execution_count": null,
   "metadata": {},
   "outputs": [],
   "source": []
  },
  {
   "cell_type": "markdown",
   "metadata": {},
   "source": [
    "**Removing unwanted characters from all the column names** and store them in a list ***new_col_names***"
   ]
  },
  {
   "cell_type": "code",
   "execution_count": 13,
   "metadata": {},
   "outputs": [],
   "source": [
    "new_col_names=[]\n",
    "for i in UPC_Monthly.columns:\n",
    "    x=len(i)\n",
    "    if x<=17:\n",
    "        new_col_names.append(i)\n",
    "    elif i[:3]=='YTD':\n",
    "        new_col_names.append(i[:-16].strip('- '))\n",
    "    else:\n",
    "        new_col_names.append(i[:-14].strip('- '))\n",
    "        "
   ]
  },
  {
   "cell_type": "markdown",
   "metadata": {},
   "source": [
    "**Checking the duplicacte column in** ***UPC_Monthly***"
   ]
  },
  {
   "cell_type": "code",
   "execution_count": 14,
   "metadata": {},
   "outputs": [],
   "source": [
    "if(len(new_col_names)!=len(set(new_col_names))):\n",
    "    print(\"\\033[1;31m\"+\"*******************************ERROR*******************************\\n\\t\\t\\tWe have duplicate columns\\n\\t\\t\\tPlease recheck raw data files\\n*******************************ERROR*******************************\")"
   ]
  },
  {
   "cell_type": "markdown",
   "metadata": {},
   "source": [
    "Renaming the column names of ***UPC_Monthly***"
   ]
  },
  {
   "cell_type": "code",
   "execution_count": 15,
   "metadata": {},
   "outputs": [],
   "source": [
    "# UPC_Monthly.rename(columns=dict(zip(UPC_Monthly.columns,new_col_names)),inplace=True)\n",
    "UPC_Monthly.columns=new_col_names"
   ]
  },
  {
   "cell_type": "code",
   "execution_count": 16,
   "metadata": {
    "scrolled": true
   },
   "outputs": [
    {
     "data": {
      "text/plain": [
       "Index(['Markets', 'Products', 'Periods', 'Latest 13 Wks', 'Latest 26 Wks',\n",
       "       'Cal Yr 2020', 'Cal Yr 2019', 'Cal Yr 2018', 'Cal Yr 2017', 'YTD',\n",
       "       'YTD YA', 'Feb 21'],\n",
       "      dtype='object')"
      ]
     },
     "execution_count": 16,
     "metadata": {},
     "output_type": "execute_result"
    }
   ],
   "source": [
    "UPC_Monthly.columns"
   ]
  },
  {
   "cell_type": "markdown",
   "metadata": {},
   "source": [
    "**Adding Missing Quater**\n"
   ]
  },
  {
   "cell_type": "code",
   "execution_count": 17,
   "metadata": {},
   "outputs": [
    {
     "name": "stdout",
     "output_type": "stream",
     "text": [
      "2\n",
      "19\n"
     ]
    }
   ],
   "source": [
    "# GETTING 20 DAYS BEFORE MONTHS AND YEAR VALUES\n",
    "now=datetime.datetime.now()\n",
    "delay= datetime.timedelta(days=20)\n",
    "a= now - delay\n",
    "month_number=a.month\n",
    "year=str(a.year-2)[-2:]\n",
    "print(month_number)\n",
    "print(year)"
   ]
  },
  {
   "cell_type": "code",
   "execution_count": 18,
   "metadata": {},
   "outputs": [],
   "source": [
    "if( month_number >= 1 & month_number <= 3):\n",
    "    UPC_Monthly['AMJ '+year]=\"\"\n",
    "    UPC_Monthly['JAS '+year]=\"\"\n",
    "    UPC_Monthly['OND '+year]=\"\"\n",
    "elif ( month_number >= 4 & month_number <= 6 ):\n",
    "    UPC_Monthly['JAS '+year]=\"\"\n",
    "    UPC_Monthly['OND '+year]=\"\"\n",
    "elif ( month_number >= 7 & month_number <= 9  ):\n",
    "    UPC_Monthly['OND '+year]=\"\""
   ]
  },
  {
   "cell_type": "code",
   "execution_count": 19,
   "metadata": {},
   "outputs": [
    {
     "data": {
      "text/plain": [
       "(731162, 15)"
      ]
     },
     "execution_count": 19,
     "metadata": {},
     "output_type": "execute_result"
    }
   ],
   "source": [
    "UPC_Monthly.shape"
   ]
  },
  {
   "cell_type": "markdown",
   "metadata": {},
   "source": [
    "**Time period mapping**\n",
    "\n",
    "**Manual Step**\n",
    "\n",
    "This mapping needs to be changed every year when new year data comes"
   ]
  },
  {
   "cell_type": "code",
   "execution_count": 20,
   "metadata": {},
   "outputs": [],
   "source": [
    "time_period_map= pd.DataFrame({'Connect Time Period':['Markets', 'Products', 'Periods','Cal Yr 2020','Cal Yr 2019','Cal Yr 2018','Cal Yr 2017','YTD','YTD YA','Latest 13 Wks','Latest 26 Wks','OND 21','JAS 21','AMJ 21','JFM 21','OND 20','JAS 20','AMJ 20','JFM 20','OND 19','JAS 19','AMJ 19','Dec 21','Nov 21','Oct 21','Sep 21','Aug 21','Jul 21','Jun 21','May 21','Apr 21','Mar 21','Feb 21','Jan 21','Dec 20','Nov 20','Oct 20','Sep 20','Aug 20','Jul 20','Jun 20','May 20','Apr 20','Mar 20','Feb 20','Jan 20'],\n",
    "                               'Final Name':['Markets', 'Products', 'Periods','FY 2020','FY 2019','FY 2018','FY 2017','YTD 2021','YTD 2020','Latest 13 Weeks','Latest 26 Weeks','Q4 2021','Q3 2021','Q2 2021','Q1 2021','Q4 2020','Q3 2020','Q2 2020','Q1 2020','Q4 2019','Q3 2019','Q2 2019','Dec 21','Nov 21','Oct 21','Sep 21','Aug 21','Jul 21','Jun 21','May 21','Apr 21','Mar 21','Feb 21','Jan 21','Dec 20','Nov 20','Oct 20','Sep 20','Aug 20','Jul 20','Jun 20','May 20','Apr 20','Mar 20','Feb 20','Jan 20']\n",
    "                              ,'Order':range(1,47)})"
   ]
  },
  {
   "cell_type": "code",
   "execution_count": 21,
   "metadata": {
    "scrolled": true
   },
   "outputs": [
    {
     "data": {
      "text/html": [
       "<div>\n",
       "<style scoped>\n",
       "    .dataframe tbody tr th:only-of-type {\n",
       "        vertical-align: middle;\n",
       "    }\n",
       "\n",
       "    .dataframe tbody tr th {\n",
       "        vertical-align: top;\n",
       "    }\n",
       "\n",
       "    .dataframe thead th {\n",
       "        text-align: right;\n",
       "    }\n",
       "</style>\n",
       "<table border=\"1\" class=\"dataframe\">\n",
       "  <thead>\n",
       "    <tr style=\"text-align: right;\">\n",
       "      <th></th>\n",
       "      <th>Connect Time Period</th>\n",
       "      <th>Final Name</th>\n",
       "      <th>Order</th>\n",
       "    </tr>\n",
       "  </thead>\n",
       "  <tbody>\n",
       "    <tr>\n",
       "      <th>0</th>\n",
       "      <td>Markets</td>\n",
       "      <td>Markets</td>\n",
       "      <td>1</td>\n",
       "    </tr>\n",
       "    <tr>\n",
       "      <th>1</th>\n",
       "      <td>Products</td>\n",
       "      <td>Products</td>\n",
       "      <td>2</td>\n",
       "    </tr>\n",
       "    <tr>\n",
       "      <th>2</th>\n",
       "      <td>Periods</td>\n",
       "      <td>Periods</td>\n",
       "      <td>3</td>\n",
       "    </tr>\n",
       "    <tr>\n",
       "      <th>3</th>\n",
       "      <td>Cal Yr 2020</td>\n",
       "      <td>FY 2020</td>\n",
       "      <td>4</td>\n",
       "    </tr>\n",
       "    <tr>\n",
       "      <th>4</th>\n",
       "      <td>Cal Yr 2019</td>\n",
       "      <td>FY 2019</td>\n",
       "      <td>5</td>\n",
       "    </tr>\n",
       "  </tbody>\n",
       "</table>\n",
       "</div>"
      ],
      "text/plain": [
       "  Connect Time Period Final Name  Order\n",
       "0             Markets    Markets      1\n",
       "1            Products   Products      2\n",
       "2             Periods    Periods      3\n",
       "3         Cal Yr 2020    FY 2020      4\n",
       "4         Cal Yr 2019    FY 2019      5"
      ]
     },
     "execution_count": 21,
     "metadata": {},
     "output_type": "execute_result"
    }
   ],
   "source": [
    "time_period_map.head(5)"
   ]
  },
  {
   "cell_type": "markdown",
   "metadata": {},
   "source": [
    "We need to **change column names** of ***UPC_Monthly*** and **reorder** them based on the time_period_mapping"
   ]
  },
  {
   "cell_type": "code",
   "execution_count": 22,
   "metadata": {},
   "outputs": [],
   "source": [
    "# assigning variables\n",
    "LM_column= list(UPC_Monthly.columns)\n",
    "time_connect=list(time_period_map[\"Connect Time Period\"])\n",
    "time_final=list(time_period_map[\"Final Name\"])\n",
    "\n",
    "# changing column names based on time_period_mapping\n",
    "new_column=[]\n",
    "for i in range(0,len(LM_column)):\n",
    "    for j in range(0,len(time_connect)):\n",
    "        if LM_column[i]==time_connect[j]:\n",
    "            new_column.append(time_final[j])\n",
    "        \n",
    "        \n",
    "#assigning new column names\n",
    "UPC_Monthly.columns = new_column"
   ]
  },
  {
   "cell_type": "code",
   "execution_count": 23,
   "metadata": {},
   "outputs": [
    {
     "data": {
      "text/plain": [
       "['Markets',\n",
       " 'Products',\n",
       " 'Periods',\n",
       " 'Latest 13 Weeks',\n",
       " 'Latest 26 Weeks',\n",
       " 'FY 2020',\n",
       " 'FY 2019',\n",
       " 'FY 2018',\n",
       " 'FY 2017',\n",
       " 'YTD 2021',\n",
       " 'YTD 2020',\n",
       " 'Feb 21',\n",
       " 'Q2 2019',\n",
       " 'Q3 2019',\n",
       " 'Q4 2019']"
      ]
     },
     "execution_count": 23,
     "metadata": {},
     "output_type": "execute_result"
    }
   ],
   "source": [
    "new_column"
   ]
  },
  {
   "cell_type": "code",
   "execution_count": 24,
   "metadata": {},
   "outputs": [],
   "source": [
    "# reordering column names\n",
    "my_list =time_period_map.iloc[:, 1]\n",
    "my_list1=UPC_Monthly.columns\n",
    "result = [x for x in my_list if x in my_list1]\n",
    "UPC_Monthly=UPC_Monthly[result]"
   ]
  },
  {
   "cell_type": "code",
   "execution_count": 25,
   "metadata": {
    "scrolled": false
   },
   "outputs": [
    {
     "data": {
      "text/html": [
       "<div>\n",
       "<style scoped>\n",
       "    .dataframe tbody tr th:only-of-type {\n",
       "        vertical-align: middle;\n",
       "    }\n",
       "\n",
       "    .dataframe tbody tr th {\n",
       "        vertical-align: top;\n",
       "    }\n",
       "\n",
       "    .dataframe thead th {\n",
       "        text-align: right;\n",
       "    }\n",
       "</style>\n",
       "<table border=\"1\" class=\"dataframe\">\n",
       "  <thead>\n",
       "    <tr style=\"text-align: right;\">\n",
       "      <th></th>\n",
       "      <th>Markets</th>\n",
       "      <th>Products</th>\n",
       "      <th>Periods</th>\n",
       "      <th>FY 2020</th>\n",
       "      <th>FY 2019</th>\n",
       "      <th>FY 2018</th>\n",
       "      <th>FY 2017</th>\n",
       "      <th>YTD 2021</th>\n",
       "      <th>YTD 2020</th>\n",
       "      <th>Latest 13 Weeks</th>\n",
       "      <th>Latest 26 Weeks</th>\n",
       "      <th>Q4 2019</th>\n",
       "      <th>Q3 2019</th>\n",
       "      <th>Q2 2019</th>\n",
       "      <th>Feb 21</th>\n",
       "    </tr>\n",
       "  </thead>\n",
       "  <tbody>\n",
       "    <tr>\n",
       "      <th>0</th>\n",
       "      <td>El Super Total TA</td>\n",
       "      <td>FABRIC SOFTENERS | COLGATE-PALMOLIVE | SUAVITE...</td>\n",
       "      <td>% $ Any Promo</td>\n",
       "      <td>58.845</td>\n",
       "      <td>77.475</td>\n",
       "      <td>35.445</td>\n",
       "      <td>89.503</td>\n",
       "      <td>26.818</td>\n",
       "      <td>71.751</td>\n",
       "      <td>32.510</td>\n",
       "      <td>56.438</td>\n",
       "      <td></td>\n",
       "      <td></td>\n",
       "      <td></td>\n",
       "      <td>0.000</td>\n",
       "    </tr>\n",
       "    <tr>\n",
       "      <th>1</th>\n",
       "      <td>El Super Total TA</td>\n",
       "      <td>FABRIC SOFTENERS | COLGATE-PALMOLIVE | SUAVITE...</td>\n",
       "      <td>% $ Any Promo Chg YA</td>\n",
       "      <td>-18.630</td>\n",
       "      <td>42.030</td>\n",
       "      <td>-54.058</td>\n",
       "      <td>89.503</td>\n",
       "      <td>-44.933</td>\n",
       "      <td>71.751</td>\n",
       "      <td>-31.222</td>\n",
       "      <td>-20.919</td>\n",
       "      <td></td>\n",
       "      <td></td>\n",
       "      <td></td>\n",
       "      <td>-71.025</td>\n",
       "    </tr>\n",
       "    <tr>\n",
       "      <th>2</th>\n",
       "      <td>El Super Total TA</td>\n",
       "      <td>FABRIC SOFTENERS | COLGATE-PALMOLIVE | SUAVITE...</td>\n",
       "      <td>% EQ Any Promo</td>\n",
       "      <td>60.997</td>\n",
       "      <td>77.714</td>\n",
       "      <td>35.385</td>\n",
       "      <td>88.948</td>\n",
       "      <td>28.578</td>\n",
       "      <td>71.698</td>\n",
       "      <td>34.210</td>\n",
       "      <td>58.253</td>\n",
       "      <td></td>\n",
       "      <td></td>\n",
       "      <td></td>\n",
       "      <td>0.000</td>\n",
       "    </tr>\n",
       "  </tbody>\n",
       "</table>\n",
       "</div>"
      ],
      "text/plain": [
       "             Markets                                           Products  \\\n",
       "0  El Super Total TA  FABRIC SOFTENERS | COLGATE-PALMOLIVE | SUAVITE...   \n",
       "1  El Super Total TA  FABRIC SOFTENERS | COLGATE-PALMOLIVE | SUAVITE...   \n",
       "2  El Super Total TA  FABRIC SOFTENERS | COLGATE-PALMOLIVE | SUAVITE...   \n",
       "\n",
       "                Periods  FY 2020  FY 2019  FY 2018  FY 2017  YTD 2021  \\\n",
       "0         % $ Any Promo   58.845   77.475   35.445   89.503    26.818   \n",
       "1  % $ Any Promo Chg YA  -18.630   42.030  -54.058   89.503   -44.933   \n",
       "2        % EQ Any Promo   60.997   77.714   35.385   88.948    28.578   \n",
       "\n",
       "   YTD 2020  Latest 13 Weeks  Latest 26 Weeks Q4 2019 Q3 2019 Q2 2019  Feb 21  \n",
       "0    71.751           32.510           56.438                           0.000  \n",
       "1    71.751          -31.222          -20.919                         -71.025  \n",
       "2    71.698           34.210           58.253                           0.000  "
      ]
     },
     "execution_count": 25,
     "metadata": {},
     "output_type": "execute_result"
    }
   ],
   "source": [
    "UPC_Monthly.head(3)"
   ]
  },
  {
   "cell_type": "code",
   "execution_count": 26,
   "metadata": {},
   "outputs": [],
   "source": [
    "UPC_Monthly_copy = UPC_Monthly.copy()"
   ]
  },
  {
   "cell_type": "markdown",
   "metadata": {},
   "source": [
    "**Period Mapping**"
   ]
  },
  {
   "cell_type": "code",
   "execution_count": 27,
   "metadata": {},
   "outputs": [],
   "source": [
    "Time_Mapping={\n",
    "    \"Nov 19\":\"4 W/E 11/23/19\",\n",
    "    \"Dec 19\":\"5 W/E 12/28/19\",\n",
    "    \"Jan 20\":\"4 W/E 02/01/20\",\n",
    "    \"Feb 20\":\"4 W/E 02/29/20\",\n",
    "    \"Mar 20\":\"5 W/E 04/04/20\",\n",
    "    \"Apr 20\":\"4 W/E 05/02/20\",\n",
    "    \"May 20\":\"4 W/E 05/30/20\",\n",
    "    \"Jun 20\":\"5 W/E 07/04/20\",\n",
    "    \"Jul 20\":\"4 W/E 08/01/20\",\n",
    "    \"Aug 20\":\"4 W/E 08/29/20\",\n",
    "    \"Sep 20\":\"5 W/E 10/03/20\",\n",
    "    \"Oct 20\":\"4 W/E 10/31/20\",\n",
    "    \"Nov 20\":\"4 W/E 11/28/20\",\n",
    "    \"Dec 20\":\"5 W/E 01/02/21\",\n",
    "    \"Jan 21\":\"4 W/E 01/30/21\",\n",
    "    \"Feb 21\":\"4 W/E 02/27/21\",\n",
    "    \"Mar 21\":\"5 W/E 04/03/21\",\n",
    "    \"Apr 21\":\"4 W/E 05/01/21\",\n",
    "    \"May 21\":\"4 W/E 05/29/21\",\n",
    "    \"Jun 21\":\"5 W/E 07/03/21\",\n",
    "    \"Jul 21\":\"4 W/E 07/31/21\",\n",
    "    \"Aug 21\":\"4 W/E 08/28/21\",\n",
    "    \"Sep 21\":\"5 W/E 10/02/21\",\n",
    "    \"Oct 21\":\"4 W/E 10/30/21\",\n",
    "    \"Nov 21\":\"4 W/E 11/27/21\",\n",
    "    \"Dec 21\":\"5 W/E 01/01/22\",\n",
    "    \"Jan 22\":\"4 W/E 01/29/22\",\n",
    "    \"Feb 22\":\"4 W/E 02/26/22\",\n",
    "    \"Mar 22\":\"5 W/E 04/02/22\",\n",
    "    \"Apr 22\":\"4 W/E 04/30/22\",\n",
    "    \"May 22\":\"5 W/E 05/28/22\",\n",
    "    \"Jun 22\":\"4 W/E 06/25/22\",\n",
    "    \"Jul 22\":\"4 W/E 07/23/22\",\n",
    "    \"Aug 22\":\"5 W/E 08/20/22\",\n",
    "    \"Sep 22\":\"4 W/E 09/17/22\",\n",
    "    \"Oct 22\":\"4 W/E 10/15/22\",\n",
    "    \"Nov 22\":\"5 W/E 11/12/22\",\n",
    "    \"Dec 22\":\"4 W/E 12/10/22\",\n",
    "    \"Jan 23\":\"4 W/E 01/07/23\",\n",
    "    \"Feb 23\":\"5 W/E 02/04/23\",\n",
    "    \"Mar 23\":\"4 W/E 03/04/23\",\n",
    "    \"Apr 23\":\"4 W/E 04/01/23\",\n",
    "    \"May 23\":\"5 W/E 04/29/23\",\n",
    "    \"Jun 23\":\"4 W/E 05/27/23\",\n",
    "    \"Jul 23\":\"4 W/E 06/24/23\",\n",
    "    \"Aug 23\":\"5 W/E 07/22/23\",\n",
    "    \"Sep 23\":\"4 W/E 08/19/23\",\n",
    "    \"Oct 23\":\"5 W/E 09/16/23\",\n",
    "    \"Nov 23\":\"4 W/E 10/14/23\",\n",
    "    \"Dec 23\":\"4 W/E 11/11/23\",\n",
    "    \"Jan 24\":\"5 W/E 12/09/23\",\n",
    "    \"Feb 24\":\"4 W/E 01/06/24\",\n",
    "    \"Mar 24\":\"4 W/E 02/03/24\",\n",
    "    \"Apr 24\":\"5 W/E 03/02/24\",\n",
    "    \"May 24\":\"4 W/E 03/30/24\",\n",
    "    \"Jun 24\":\"4 W/E 04/27/24\",\n",
    "    \"Jul 24\":\"5 W/E 05/25/24\",\n",
    "    \"Aug 24\":\"4 W/E 06/22/24\",\n",
    "    \"Sep 24\":\"4 W/E 07/20/24\",\n",
    "    \"Oct 24\":\"5 W/E 08/17/24\",\n",
    "    \"Nov 24\":\"4 W/E 09/14/24\",\n",
    "    \"Dec 24\":\"4 W/E 10/12/24\",\n",
    "    \"Jan 25\":\"5 W/E 11/09/24\",\n",
    "    \"Feb 25\":\"4 W/E 12/07/24\",\n",
    "    \"Mar 25\":\"5 W/E 01/04/25\",\n",
    "    \"Apr 25\":\"4 W/E 02/01/25\",\n",
    "    \"May 25\":\"4 W/E 03/01/25\",\n",
    "    \"Jun 25\":\"5 W/E 03/29/25\",\n",
    "    \"Jul 25\":\"4 W/E 04/26/25\",\n",
    "    \"Aug 25\":\"4 W/E 05/24/25\",\n",
    "    \"Sep 25\":\"5 W/E 06/21/25\",\n",
    "    \"Oct 25\":\"4 W/E 07/19/25\",\n",
    "    \"Nov 25\":\"4 W/E 08/16/25\",\n",
    "    \"Dec 25\":\"5 W/E 09/13/25\",\n",
    "    \"Jan 26\":\"4 W/E 10/11/25\",\n",
    "    \"Feb 26\":\"4 W/E 11/08/25\",\n",
    "    \"Mar 26\":\"5 W/E 12/06/25\",\n",
    "    \"Apr 26\":\"4 W/E 01/03/26\",\n",
    "    \"May 26\":\"4 W/E 01/31/26\",\n",
    "    \"Jun 26\":\"5 W/E 02/28/26\",\n",
    "    \"Jul 26\":\"4 W/E 03/28/26\",\n",
    "    \"Aug 26\":\"5 W/E 04/25/26\",\n",
    "    \"Sep 26\":\"4 W/E 05/23/26\",\n",
    "    \"Oct 26\":\"4 W/E 06/20/26\",\n",
    "    \"Nov 26\":\"5 W/E 07/18/26\",\n",
    "    \"Dec 26\":\"4 W/E 08/15/26\"\n",
    "}\n"
   ]
  },
  {
   "cell_type": "code",
   "execution_count": 28,
   "metadata": {},
   "outputs": [],
   "source": [
    "UPC_Monthly.rename(columns=Time_Mapping,inplace=True)"
   ]
  },
  {
   "cell_type": "markdown",
   "metadata": {},
   "source": [
    "Changing Column Name"
   ]
  },
  {
   "cell_type": "code",
   "execution_count": 29,
   "metadata": {},
   "outputs": [],
   "source": [
    "UPC_Monthly.rename(columns={\"Periods\":\"Facts\"},inplace=True)"
   ]
  },
  {
   "cell_type": "code",
   "execution_count": 30,
   "metadata": {},
   "outputs": [
    {
     "data": {
      "text/plain": [
       "(731162, 15)"
      ]
     },
     "execution_count": 30,
     "metadata": {},
     "output_type": "execute_result"
    }
   ],
   "source": [
    "UPC_Monthly.shape"
   ]
  },
  {
   "cell_type": "code",
   "execution_count": null,
   "metadata": {},
   "outputs": [],
   "source": []
  },
  {
   "cell_type": "markdown",
   "metadata": {},
   "source": [
    "**Filter Condition**\n",
    "\n",
    "Taking only those products whose **Latest Month Dollar Share** is **greater than 0.07** for all the markets"
   ]
  },
  {
   "cell_type": "code",
   "execution_count": 31,
   "metadata": {},
   "outputs": [
    {
     "name": "stdout",
     "output_type": "stream",
     "text": [
      "<class 'pandas.core.frame.DataFrame'>\n",
      "RangeIndex: 731162 entries, 0 to 731161\n",
      "Data columns (total 15 columns):\n",
      " #   Column           Non-Null Count   Dtype  \n",
      "---  ------           --------------   -----  \n",
      " 0   Markets          731162 non-null  object \n",
      " 1   Products         731162 non-null  object \n",
      " 2   Facts            731162 non-null  object \n",
      " 3   FY 2020          731162 non-null  float64\n",
      " 4   FY 2019          731162 non-null  float64\n",
      " 5   FY 2018          731162 non-null  float64\n",
      " 6   FY 2017          731162 non-null  float64\n",
      " 7   YTD 2021         731162 non-null  float64\n",
      " 8   YTD 2020         731162 non-null  float64\n",
      " 9   Latest 13 Weeks  731162 non-null  float64\n",
      " 10  Latest 26 Weeks  731162 non-null  float64\n",
      " 11  Q4 2019          731162 non-null  object \n",
      " 12  Q3 2019          731162 non-null  object \n",
      " 13  Q2 2019          731162 non-null  object \n",
      " 14  4 W/E 02/27/21   731162 non-null  float64\n",
      "dtypes: float64(9), object(6)\n",
      "memory usage: 83.7+ MB\n"
     ]
    }
   ],
   "source": [
    "UPC_Monthly.info()"
   ]
  },
  {
   "cell_type": "code",
   "execution_count": 32,
   "metadata": {},
   "outputs": [],
   "source": [
    "UPC_Monthly.iloc[:,3:]= UPC_Monthly.iloc[:,3:].apply(pd.to_numeric)\n",
    "\n",
    "#df=UPC_Monthly[(UPC_Monthly['Facts'] == '$ Shr - CP CATEGORY') & ( UPC_Monthly.iloc[:,10] > 0.07 )]"
   ]
  },
  {
   "cell_type": "code",
   "execution_count": null,
   "metadata": {},
   "outputs": [],
   "source": [
    "set(UPC_Monthly[\"Facts\"])"
   ]
  },
  {
   "cell_type": "code",
   "execution_count": 33,
   "metadata": {},
   "outputs": [],
   "source": [
    "df=UPC_Monthly[(UPC_Monthly['Facts'] == '$ Shr - CP CATEGORY') & (UPC_Monthly.iloc[:,14]>0.07)]\n",
    "\n",
    "df[\"Key\"]=df[\"Markets\"]+df[\"Products\"]\n",
    "UPC_Monthly[\"Key\"]=UPC_Monthly[\"Markets\"]+UPC_Monthly[\"Products\"]\n",
    "\n",
    "UPC_Monthly=UPC_Monthly[UPC_Monthly['Key'].isin(list(df[\"Key\"]))]"
   ]
  },
  {
   "cell_type": "code",
   "execution_count": 34,
   "metadata": {},
   "outputs": [
    {
     "data": {
      "text/html": [
       "<div>\n",
       "<style scoped>\n",
       "    .dataframe tbody tr th:only-of-type {\n",
       "        vertical-align: middle;\n",
       "    }\n",
       "\n",
       "    .dataframe tbody tr th {\n",
       "        vertical-align: top;\n",
       "    }\n",
       "\n",
       "    .dataframe thead th {\n",
       "        text-align: right;\n",
       "    }\n",
       "</style>\n",
       "<table border=\"1\" class=\"dataframe\">\n",
       "  <thead>\n",
       "    <tr style=\"text-align: right;\">\n",
       "      <th></th>\n",
       "      <th>Markets</th>\n",
       "      <th>Products</th>\n",
       "      <th>Facts</th>\n",
       "      <th>FY 2020</th>\n",
       "      <th>FY 2019</th>\n",
       "      <th>FY 2018</th>\n",
       "      <th>FY 2017</th>\n",
       "      <th>YTD 2021</th>\n",
       "      <th>YTD 2020</th>\n",
       "      <th>Latest 13 Weeks</th>\n",
       "      <th>Latest 26 Weeks</th>\n",
       "      <th>Q4 2019</th>\n",
       "      <th>Q3 2019</th>\n",
       "      <th>Q2 2019</th>\n",
       "      <th>4 W/E 02/27/21</th>\n",
       "      <th>Key</th>\n",
       "    </tr>\n",
       "  </thead>\n",
       "  <tbody>\n",
       "    <tr>\n",
       "      <th>0</th>\n",
       "      <td>El Super Total TA</td>\n",
       "      <td>FABRIC SOFTENERS | COLGATE-PALMOLIVE | SUAVITE...</td>\n",
       "      <td>% $ Any Promo</td>\n",
       "      <td>58.845</td>\n",
       "      <td>77.475</td>\n",
       "      <td>35.445</td>\n",
       "      <td>89.503</td>\n",
       "      <td>26.818</td>\n",
       "      <td>71.751</td>\n",
       "      <td>32.510</td>\n",
       "      <td>56.438</td>\n",
       "      <td>NaN</td>\n",
       "      <td>NaN</td>\n",
       "      <td>NaN</td>\n",
       "      <td>0.000</td>\n",
       "      <td>El Super Total TAFABRIC SOFTENERS | COLGATE-PA...</td>\n",
       "    </tr>\n",
       "    <tr>\n",
       "      <th>1</th>\n",
       "      <td>El Super Total TA</td>\n",
       "      <td>FABRIC SOFTENERS | COLGATE-PALMOLIVE | SUAVITE...</td>\n",
       "      <td>% $ Any Promo Chg YA</td>\n",
       "      <td>-18.630</td>\n",
       "      <td>42.030</td>\n",
       "      <td>-54.058</td>\n",
       "      <td>89.503</td>\n",
       "      <td>-44.933</td>\n",
       "      <td>71.751</td>\n",
       "      <td>-31.222</td>\n",
       "      <td>-20.919</td>\n",
       "      <td>NaN</td>\n",
       "      <td>NaN</td>\n",
       "      <td>NaN</td>\n",
       "      <td>-71.025</td>\n",
       "      <td>El Super Total TAFABRIC SOFTENERS | COLGATE-PA...</td>\n",
       "    </tr>\n",
       "    <tr>\n",
       "      <th>2</th>\n",
       "      <td>El Super Total TA</td>\n",
       "      <td>FABRIC SOFTENERS | COLGATE-PALMOLIVE | SUAVITE...</td>\n",
       "      <td>% EQ Any Promo</td>\n",
       "      <td>60.997</td>\n",
       "      <td>77.714</td>\n",
       "      <td>35.385</td>\n",
       "      <td>88.948</td>\n",
       "      <td>28.578</td>\n",
       "      <td>71.698</td>\n",
       "      <td>34.210</td>\n",
       "      <td>58.253</td>\n",
       "      <td>NaN</td>\n",
       "      <td>NaN</td>\n",
       "      <td>NaN</td>\n",
       "      <td>0.000</td>\n",
       "      <td>El Super Total TAFABRIC SOFTENERS | COLGATE-PA...</td>\n",
       "    </tr>\n",
       "  </tbody>\n",
       "</table>\n",
       "</div>"
      ],
      "text/plain": [
       "             Markets                                           Products  \\\n",
       "0  El Super Total TA  FABRIC SOFTENERS | COLGATE-PALMOLIVE | SUAVITE...   \n",
       "1  El Super Total TA  FABRIC SOFTENERS | COLGATE-PALMOLIVE | SUAVITE...   \n",
       "2  El Super Total TA  FABRIC SOFTENERS | COLGATE-PALMOLIVE | SUAVITE...   \n",
       "\n",
       "                  Facts  FY 2020  FY 2019  FY 2018  FY 2017  YTD 2021  \\\n",
       "0         % $ Any Promo   58.845   77.475   35.445   89.503    26.818   \n",
       "1  % $ Any Promo Chg YA  -18.630   42.030  -54.058   89.503   -44.933   \n",
       "2        % EQ Any Promo   60.997   77.714   35.385   88.948    28.578   \n",
       "\n",
       "   YTD 2020  Latest 13 Weeks  Latest 26 Weeks  Q4 2019  Q3 2019  Q2 2019  \\\n",
       "0    71.751           32.510           56.438      NaN      NaN      NaN   \n",
       "1    71.751          -31.222          -20.919      NaN      NaN      NaN   \n",
       "2    71.698           34.210           58.253      NaN      NaN      NaN   \n",
       "\n",
       "   4 W/E 02/27/21                                                Key  \n",
       "0           0.000  El Super Total TAFABRIC SOFTENERS | COLGATE-PA...  \n",
       "1         -71.025  El Super Total TAFABRIC SOFTENERS | COLGATE-PA...  \n",
       "2           0.000  El Super Total TAFABRIC SOFTENERS | COLGATE-PA...  "
      ]
     },
     "execution_count": 34,
     "metadata": {},
     "output_type": "execute_result"
    }
   ],
   "source": [
    "UPC_Monthly=UPC_Monthly[UPC_Monthly['Products'].isin(list(df[\"Products\"]))]\n",
    "UPC_Monthly.head(3)"
   ]
  },
  {
   "cell_type": "code",
   "execution_count": 35,
   "metadata": {},
   "outputs": [
    {
     "name": "stdout",
     "output_type": "stream",
     "text": [
      "1104 1104\n"
     ]
    }
   ],
   "source": [
    "# total number of unique Products \n",
    "print(len(set(df[\"Products\"])),len(set(UPC_Monthly[\"Products\"])))"
   ]
  },
  {
   "cell_type": "markdown",
   "metadata": {},
   "source": [
    "***movecol*** function to **rearranging** the columns of a dataframe"
   ]
  },
  {
   "cell_type": "code",
   "execution_count": 36,
   "metadata": {},
   "outputs": [],
   "source": [
    "def movecol(df, cols_to_move=[], ref_col='', place=''):\n",
    "    cols = df.columns.tolist()\n",
    "    if place == 'After':\n",
    "        seg1 = cols[:list(cols).index(ref_col) + 1]\n",
    "        seg2 = cols_to_move\n",
    "    if place == 'Before':\n",
    "        seg1 = cols[:list(cols).index(ref_col)]\n",
    "        seg2 = cols_to_move + [ref_col]\n",
    "    seg1 = [i for i in seg1 if i not in seg2]\n",
    "    seg3 = [i for i in cols if i not in seg1 + seg2]\n",
    "    \n",
    "    return(df[seg1 + seg2 + seg3])"
   ]
  },
  {
   "cell_type": "markdown",
   "metadata": {},
   "source": [
    "**UPC_Monthly_5p**"
   ]
  },
  {
   "cell_type": "code",
   "execution_count": 37,
   "metadata": {},
   "outputs": [],
   "source": [
    "UPC_Monthly_5P=UPC_Monthly.copy()"
   ]
  },
  {
   "cell_type": "markdown",
   "metadata": {},
   "source": [
    "**ShareBasis Split**"
   ]
  },
  {
   "cell_type": "code",
   "execution_count": 38,
   "metadata": {},
   "outputs": [],
   "source": [
    "new = (UPC_Monthly_5P[\"Products\"].str.split(\"|\",n=1,expand=True)).apply(lambda x : x.str.strip())\n",
    "UPC_Monthly[\"ShareBasis\"]=new[0]\n"
   ]
  },
  {
   "cell_type": "markdown",
   "metadata": {},
   "source": [
    "**Category column**\n",
    "\n",
    "Creating a extra column name \"Category\" from column \"ShareBasis\""
   ]
  },
  {
   "cell_type": "code",
   "execution_count": 39,
   "metadata": {},
   "outputs": [],
   "source": [
    "df1= pd.DataFrame(UPC_Monthly[\"ShareBasis\"])"
   ]
  },
  {
   "cell_type": "code",
   "execution_count": 40,
   "metadata": {},
   "outputs": [
    {
     "data": {
      "text/plain": [
       "{'BEAD FS', 'FABRIC SOFTENERS', 'LIQUID FS', 'SCENT BOOSTERS', 'SHEETS'}"
      ]
     },
     "execution_count": 40,
     "metadata": {},
     "output_type": "execute_result"
    }
   ],
   "source": [
    "set(df1[\"ShareBasis\"])"
   ]
  },
  {
   "cell_type": "code",
   "execution_count": 41,
   "metadata": {
    "scrolled": true
   },
   "outputs": [
    {
     "data": {
      "text/html": [
       "<div>\n",
       "<style scoped>\n",
       "    .dataframe tbody tr th:only-of-type {\n",
       "        vertical-align: middle;\n",
       "    }\n",
       "\n",
       "    .dataframe tbody tr th {\n",
       "        vertical-align: top;\n",
       "    }\n",
       "\n",
       "    .dataframe thead th {\n",
       "        text-align: right;\n",
       "    }\n",
       "</style>\n",
       "<table border=\"1\" class=\"dataframe\">\n",
       "  <thead>\n",
       "    <tr style=\"text-align: right;\">\n",
       "      <th></th>\n",
       "      <th>ShareBasis</th>\n",
       "      <th>Category</th>\n",
       "    </tr>\n",
       "  </thead>\n",
       "  <tbody>\n",
       "    <tr>\n",
       "      <th>0</th>\n",
       "      <td>FABRIC SOFTENERS</td>\n",
       "      <td>FS</td>\n",
       "    </tr>\n",
       "    <tr>\n",
       "      <th>1</th>\n",
       "      <td>FABRIC SOFTENERS</td>\n",
       "      <td>FS</td>\n",
       "    </tr>\n",
       "    <tr>\n",
       "      <th>2</th>\n",
       "      <td>FABRIC SOFTENERS</td>\n",
       "      <td>FS</td>\n",
       "    </tr>\n",
       "  </tbody>\n",
       "</table>\n",
       "</div>"
      ],
      "text/plain": [
       "         ShareBasis Category\n",
       "0  FABRIC SOFTENERS       FS\n",
       "1  FABRIC SOFTENERS       FS\n",
       "2  FABRIC SOFTENERS       FS"
      ]
     },
     "execution_count": 41,
     "metadata": {},
     "output_type": "execute_result"
    }
   ],
   "source": [
    "def fun_category(x):\n",
    "    if x == 'TOOTHPASTE' or x == 'WHITENING SYS':\n",
    "        return \"TP\"\n",
    "    elif x=='POUR APC+WW' or x==\"WOOD\" or x== 'ABRASIVE' or x== \"APC+WW\" or x=='FLOOR WAX' or x=='OUTDOOR' or x=='DRY WIPES' or x=='SPRAY':\n",
    "        return \"HHC\"\n",
    "    elif x=='MANUAL':\n",
    "        return 'MTB'\n",
    "    elif x=='POWER' or x=='PORTABLE TB' or x == 'ELECTRIC' or x == 'BATTERY+HYBRID' or x == 'BATTERY':\n",
    "        return \"PTB\"\n",
    "    elif x=='BODYWASH':\n",
    "        return \"BW\"\n",
    "    elif x=='MOUTHWASH':\n",
    "        return 'MW'\n",
    "    elif x=='BAR':\n",
    "        return \"BAR\"\n",
    "    elif x=='LIQUID':\n",
    "        return 'LHS'\n",
    "    elif x=='FABRIC SOFTENERS' or x == 'BEAD FS' or x== 'LIQUID FS' or x == \"SHEETS\" or x==\"SCENT BOOSTERS\" :\n",
    "        return \"FS\"\n",
    "    elif x=='LDL+FOAM' or x == 'MFR Sun Products' or x == 'LDL/DISHAIDS/WPS/FM/SPRAYS' :\n",
    "        return 'LDL'\n",
    "    else:\n",
    "        return 'N/A'\n",
    "    # Add elif statements....\n",
    "\n",
    "df1['Category']= df1['ShareBasis'].apply(fun_category)\n",
    "df1.head(3)"
   ]
  },
  {
   "cell_type": "code",
   "execution_count": 42,
   "metadata": {},
   "outputs": [],
   "source": [
    "UPC_Monthly['Category']=df1['Category']"
   ]
  },
  {
   "cell_type": "code",
   "execution_count": 43,
   "metadata": {
    "scrolled": true
   },
   "outputs": [
    {
     "data": {
      "text/html": [
       "<div>\n",
       "<style scoped>\n",
       "    .dataframe tbody tr th:only-of-type {\n",
       "        vertical-align: middle;\n",
       "    }\n",
       "\n",
       "    .dataframe tbody tr th {\n",
       "        vertical-align: top;\n",
       "    }\n",
       "\n",
       "    .dataframe thead th {\n",
       "        text-align: right;\n",
       "    }\n",
       "</style>\n",
       "<table border=\"1\" class=\"dataframe\">\n",
       "  <thead>\n",
       "    <tr style=\"text-align: right;\">\n",
       "      <th></th>\n",
       "      <th>Markets</th>\n",
       "      <th>ShareBasis</th>\n",
       "      <th>Category</th>\n",
       "      <th>Products</th>\n",
       "      <th>Facts</th>\n",
       "      <th>FY 2020</th>\n",
       "      <th>FY 2019</th>\n",
       "      <th>FY 2018</th>\n",
       "      <th>FY 2017</th>\n",
       "      <th>YTD 2021</th>\n",
       "      <th>YTD 2020</th>\n",
       "      <th>Latest 13 Weeks</th>\n",
       "      <th>Latest 26 Weeks</th>\n",
       "      <th>Q4 2019</th>\n",
       "      <th>Q3 2019</th>\n",
       "      <th>Q2 2019</th>\n",
       "      <th>4 W/E 02/27/21</th>\n",
       "      <th>Key</th>\n",
       "    </tr>\n",
       "  </thead>\n",
       "  <tbody>\n",
       "    <tr>\n",
       "      <th>0</th>\n",
       "      <td>El Super Total TA</td>\n",
       "      <td>FABRIC SOFTENERS</td>\n",
       "      <td>FS</td>\n",
       "      <td>FABRIC SOFTENERS | COLGATE-PALMOLIVE | SUAVITE...</td>\n",
       "      <td>% $ Any Promo</td>\n",
       "      <td>58.845</td>\n",
       "      <td>77.475</td>\n",
       "      <td>35.445</td>\n",
       "      <td>89.503</td>\n",
       "      <td>26.818</td>\n",
       "      <td>71.751</td>\n",
       "      <td>32.510</td>\n",
       "      <td>56.438</td>\n",
       "      <td>NaN</td>\n",
       "      <td>NaN</td>\n",
       "      <td>NaN</td>\n",
       "      <td>0.000</td>\n",
       "      <td>El Super Total TAFABRIC SOFTENERS | COLGATE-PA...</td>\n",
       "    </tr>\n",
       "    <tr>\n",
       "      <th>1</th>\n",
       "      <td>El Super Total TA</td>\n",
       "      <td>FABRIC SOFTENERS</td>\n",
       "      <td>FS</td>\n",
       "      <td>FABRIC SOFTENERS | COLGATE-PALMOLIVE | SUAVITE...</td>\n",
       "      <td>% $ Any Promo Chg YA</td>\n",
       "      <td>-18.630</td>\n",
       "      <td>42.030</td>\n",
       "      <td>-54.058</td>\n",
       "      <td>89.503</td>\n",
       "      <td>-44.933</td>\n",
       "      <td>71.751</td>\n",
       "      <td>-31.222</td>\n",
       "      <td>-20.919</td>\n",
       "      <td>NaN</td>\n",
       "      <td>NaN</td>\n",
       "      <td>NaN</td>\n",
       "      <td>-71.025</td>\n",
       "      <td>El Super Total TAFABRIC SOFTENERS | COLGATE-PA...</td>\n",
       "    </tr>\n",
       "    <tr>\n",
       "      <th>2</th>\n",
       "      <td>El Super Total TA</td>\n",
       "      <td>FABRIC SOFTENERS</td>\n",
       "      <td>FS</td>\n",
       "      <td>FABRIC SOFTENERS | COLGATE-PALMOLIVE | SUAVITE...</td>\n",
       "      <td>% EQ Any Promo</td>\n",
       "      <td>60.997</td>\n",
       "      <td>77.714</td>\n",
       "      <td>35.385</td>\n",
       "      <td>88.948</td>\n",
       "      <td>28.578</td>\n",
       "      <td>71.698</td>\n",
       "      <td>34.210</td>\n",
       "      <td>58.253</td>\n",
       "      <td>NaN</td>\n",
       "      <td>NaN</td>\n",
       "      <td>NaN</td>\n",
       "      <td>0.000</td>\n",
       "      <td>El Super Total TAFABRIC SOFTENERS | COLGATE-PA...</td>\n",
       "    </tr>\n",
       "  </tbody>\n",
       "</table>\n",
       "</div>"
      ],
      "text/plain": [
       "             Markets        ShareBasis Category  \\\n",
       "0  El Super Total TA  FABRIC SOFTENERS       FS   \n",
       "1  El Super Total TA  FABRIC SOFTENERS       FS   \n",
       "2  El Super Total TA  FABRIC SOFTENERS       FS   \n",
       "\n",
       "                                            Products                 Facts  \\\n",
       "0  FABRIC SOFTENERS | COLGATE-PALMOLIVE | SUAVITE...         % $ Any Promo   \n",
       "1  FABRIC SOFTENERS | COLGATE-PALMOLIVE | SUAVITE...  % $ Any Promo Chg YA   \n",
       "2  FABRIC SOFTENERS | COLGATE-PALMOLIVE | SUAVITE...        % EQ Any Promo   \n",
       "\n",
       "   FY 2020  FY 2019  FY 2018  FY 2017  YTD 2021  YTD 2020  Latest 13 Weeks  \\\n",
       "0   58.845   77.475   35.445   89.503    26.818    71.751           32.510   \n",
       "1  -18.630   42.030  -54.058   89.503   -44.933    71.751          -31.222   \n",
       "2   60.997   77.714   35.385   88.948    28.578    71.698           34.210   \n",
       "\n",
       "   Latest 26 Weeks  Q4 2019  Q3 2019  Q2 2019  4 W/E 02/27/21  \\\n",
       "0           56.438      NaN      NaN      NaN           0.000   \n",
       "1          -20.919      NaN      NaN      NaN         -71.025   \n",
       "2           58.253      NaN      NaN      NaN           0.000   \n",
       "\n",
       "                                                 Key  \n",
       "0  El Super Total TAFABRIC SOFTENERS | COLGATE-PA...  \n",
       "1  El Super Total TAFABRIC SOFTENERS | COLGATE-PA...  \n",
       "2  El Super Total TAFABRIC SOFTENERS | COLGATE-PA...  "
      ]
     },
     "execution_count": 43,
     "metadata": {},
     "output_type": "execute_result"
    }
   ],
   "source": [
    "#Moving column \"Category\" after column \"ShareBasis\"\n",
    "\n",
    "UPC_Monthly = movecol(UPC_Monthly, \n",
    "             cols_to_move=['ShareBasis','Category'], \n",
    "             ref_col='Markets',\n",
    "             place='After')\n",
    "UPC_Monthly.head(3)"
   ]
  },
  {
   "cell_type": "code",
   "execution_count": 44,
   "metadata": {
    "scrolled": true
   },
   "outputs": [
    {
     "data": {
      "text/plain": [
       "{'BEAD FS', 'FABRIC SOFTENERS', 'LIQUID FS', 'SCENT BOOSTERS', 'SHEETS'}"
      ]
     },
     "execution_count": 44,
     "metadata": {},
     "output_type": "execute_result"
    }
   ],
   "source": [
    "set(UPC_Monthly.ShareBasis)"
   ]
  },
  {
   "cell_type": "code",
   "execution_count": 45,
   "metadata": {},
   "outputs": [
    {
     "data": {
      "text/plain": [
       "{'$',\n",
       " '$ % Chg YA',\n",
       " '$ / $MM ACV',\n",
       " '$ / $MM ACV % Chg YA',\n",
       " '$ / $MM ACV Chg YA',\n",
       " '$ Chg YA',\n",
       " '$ Shr - CP CATEGORY',\n",
       " '$ Shr Chg YA - CP CATEGORY',\n",
       " '% $ Any Promo',\n",
       " '% $ Any Promo Chg YA',\n",
       " '% EQ Any Promo',\n",
       " '% EQ Any Promo Chg YA',\n",
       " '%ACV',\n",
       " '%ACV Chg YA',\n",
       " 'Any Promo $',\n",
       " 'Any Promo $ % Chg YA',\n",
       " 'Any Promo $ Chg YA',\n",
       " 'Any Promo $ Shr - CP CATEGORY',\n",
       " 'Any Promo $ Shr Chg YA - CP CATEGORY',\n",
       " 'Any Promo EQ',\n",
       " 'Any Promo EQ % Chg YA',\n",
       " 'Any Promo EQ Chg YA',\n",
       " 'Any Promo EQ Price',\n",
       " 'Any Promo EQ Price % Chg YA',\n",
       " 'Any Promo EQ Price Chg YA',\n",
       " 'Any Promo Unit Price',\n",
       " 'Any Promo Unit Price % Chg YA',\n",
       " 'Any Promo Unit Price Chg YA',\n",
       " 'Avg # of Items',\n",
       " 'Avg # of Items Chg YA',\n",
       " 'Avg EQ Price',\n",
       " 'Avg EQ Price % Chg YA',\n",
       " 'Avg EQ Price Chg YA',\n",
       " 'Avg EQ Price YA',\n",
       " 'Avg Unit Price',\n",
       " 'Avg Unit Price % Chg YA',\n",
       " 'Avg Unit Price Chg YA',\n",
       " 'Base $',\n",
       " 'Base $ % Chg YA',\n",
       " 'Base $ Chg YA',\n",
       " 'Base $ Shr - CP CATEGORY',\n",
       " 'Base $ Shr Chg YA - CP CATEGORY',\n",
       " 'Base EQ Price',\n",
       " 'Base EQ Price Chg YA',\n",
       " 'Base Unit Price',\n",
       " 'Base Unit Price % Chg YA',\n",
       " 'Base Unit Price Chg YA',\n",
       " 'EQ',\n",
       " 'EQ % Chg YA',\n",
       " 'EQ Chg YA',\n",
       " 'EQ Shr - CP CATEGORY',\n",
       " 'EQ Shr Chg YA - CP CATEGORY',\n",
       " 'Feat or Disp %ACV',\n",
       " 'Feat or Disp %ACV Chg YA',\n",
       " 'Incr $',\n",
       " 'Incr $ % Chg YA',\n",
       " 'Incr $ Chg YA',\n",
       " 'Incr $ Shr - CP CATEGORY',\n",
       " 'Incr $ Shr Chg YA - CP CATEGORY',\n",
       " 'Price Decr Only %ACV',\n",
       " 'Price Decr Only %ACV Chg YA',\n",
       " 'TDP',\n",
       " 'TDP % Chg YA',\n",
       " 'TDP Chg YA',\n",
       " 'Units',\n",
       " 'Units % Chg YA',\n",
       " 'Units / $MM ACV',\n",
       " 'Units / $MM ACV % Chg YA',\n",
       " 'Units / $MM ACV Chg YA',\n",
       " 'Units Chg YA'}"
      ]
     },
     "execution_count": 45,
     "metadata": {},
     "output_type": "execute_result"
    }
   ],
   "source": [
    "set(UPC_Monthly[\"Facts\"])"
   ]
  },
  {
   "cell_type": "markdown",
   "metadata": {},
   "source": [
    "**Selection For Distri Reports**"
   ]
  },
  {
   "cell_type": "code",
   "execution_count": 46,
   "metadata": {},
   "outputs": [],
   "source": [
    "Distri_Sku_Facts=[\"$ Shr - CP CATEGORY\",\"$ Shr Chg YA - CP CATEGORY\",\"Base $ Shr - CP CATEGORY\",\"Base $ Shr Chg YA - CP CATEGORY\",\"%ACV\",\n",
    "                   \"%ACV Chg YA\",\"$ / $MM ACV\",\"$ / $MM ACV Chg YA\",\"TDP\",\"TDP % Chg YA\",\"$\",\"$ % Chg YA\",\"Units\"]\n",
    "\n",
    "Distr_Sku_Full_Data_Facts=[\"$ Shr - CP CATEGORY\",\"$ Shr Chg YA - CP CATEGORY\",\"Base $ Shr - CP CATEGORY\",\"Base $ Shr Chg YA - CP CATEGORY\",\n",
    "                      \"%ACV\",\"%ACV Chg YA\",\"$ / $MM ACV\",\"$ / $MM ACV Chg YA\",\"TDP\",\"TDP % Chg YA\",\"$\",\"$ % Chg YA\",\"Units\",\"Units / $MM ACV\"]\n",
    "\n",
    "Distri_Cat_Data_Facts=[\"$ Shr - CP CATEGORY\",\"TDP\",\"$\",\"%ACV\"]\n"
   ]
  },
  {
   "cell_type": "code",
   "execution_count": 47,
   "metadata": {},
   "outputs": [
    {
     "data": {
      "text/plain": [
       "set()"
      ]
     },
     "execution_count": 47,
     "metadata": {},
     "output_type": "execute_result"
    }
   ],
   "source": [
    "Total_Facts = Distri_Sku_Facts + Distr_Sku_Full_Data_Facts + Distri_Cat_Data_Facts\n",
    "set(Total_Facts) - set(UPC_Monthly[\"Facts\"])"
   ]
  },
  {
   "cell_type": "code",
   "execution_count": 48,
   "metadata": {},
   "outputs": [],
   "source": [
    "Distri_Fact_Mapping={\n",
    "    \"$ Shr - CP CATEGORY\":\"Doll_Shr\",\n",
    "    \"$ Shr Chg YA - CP CATEGORY\":\"Doll_Shr_Chg\",\n",
    "    \"Base $ Shr - CP CATEGORY\":\"Base_Doll_Shr\",\n",
    "    \"Base $ Shr Chg YA - CP CATEGORY\":\"Base_Doll_Shr_Chg\",\n",
    "    \"%ACV\":\"Store_Selling\",\n",
    "    \"%ACV Chg YA\":\"Store_Selling_Chg\",\n",
    "    \"$ / $MM ACV\":\"Doll_Velocity\",\n",
    "    \"$ / $MM ACV Chg YA\":\"Doll_Velocity_Chg\",\n",
    "    \"TDP\":\"Cum_Distri_Pts\",\n",
    "    \"TDP % Chg YA\":\"Cum_Distri_Pts_Chg\",\n",
    "    \"$\":\"Dollars\",\n",
    "    \"$ % Chg YA\":\"Dollars_Chg\",\n",
    "    \"Units\":\"Units\",\n",
    "    \"Units / $MM ACV\":\"Units_velocity\"\n",
    "    }"
   ]
  },
  {
   "cell_type": "markdown",
   "metadata": {},
   "source": [
    " "
   ]
  },
  {
   "cell_type": "code",
   "execution_count": 49,
   "metadata": {},
   "outputs": [],
   "source": [
    "Market_Mapping={\n",
    "    \n",
    "     'ALBSCO Total Company TA':'Alb/Sfy',\n",
    "     'Agency Grocery':'Agency Grocery',\n",
    "     'Ahold USA Corp Total TA':\"Ahold\",\n",
    "     'BJs Total TA':\"BJs\",\n",
    "     'CLUB':\"CLUB\",\n",
    "     'CVS Total Corp WO HI TA':\"CVS\",\n",
    "     'Dol Gen Total TA':\"Dollar General\",\n",
    "     'El Super Total TA':'El Super',\n",
    "     'FDM':\"FDM\",\n",
    "     'Family Dollar Total TA':\"Family Dollar\",\n",
    "     'Fiesta Total TA':\"Fiesta\",\n",
    "     'Giant Eagle Total TA':\"Giant Eagle\",\n",
    "     'Kmart Total TA':\"Kmart\",\n",
    "     'Meijer Total TA':\"Meijer\",\n",
    "     'Publix Total TA':\"Publix\",\n",
    "     'Rite Aid - Corp Total TA':\"Rite Aid\",\n",
    "     \"Sam's Total TA\":\"Sams\",\n",
    "     'ShopRite Total TA':\"Shoprite\",\n",
    "     'Strategic Grocery':\"Strategic Grocery\",\n",
    "     'TOTAL MASS':\"TOTAL MASS\",\n",
    "     'Target Total BM/FF TA':\"Target\",\n",
    "     'Total US Drug':\"US Drug\",\n",
    "     'Total US Food':\"US Food\",\n",
    "     'Total US xAOC':\"US AOC\",\n",
    "     'VDC':\"VDC\",\n",
    "     'Walgreens Total TA':\"Walgreens\",\n",
    "     'Walmart Total US TA':\"Walmart\",\n",
    "     'Wegmans Total TA':\"Wegmans\"\n",
    "    }\n"
   ]
  },
  {
   "cell_type": "code",
   "execution_count": 50,
   "metadata": {},
   "outputs": [],
   "source": [
    "UPC_Monthly[\"Markets\"].replace(Market_Mapping,inplace=True)"
   ]
  },
  {
   "cell_type": "code",
   "execution_count": 51,
   "metadata": {},
   "outputs": [
    {
     "data": {
      "text/plain": [
       "{'Ahold',\n",
       " 'Alb/Sfy',\n",
       " 'BJs',\n",
       " 'CVS',\n",
       " 'Dollar General',\n",
       " 'El Super',\n",
       " 'Family Dollar',\n",
       " 'Kmart',\n",
       " 'Meijer',\n",
       " 'Publix',\n",
       " 'Rite Aid',\n",
       " 'Sams',\n",
       " 'Shoprite',\n",
       " 'Target',\n",
       " 'US AOC',\n",
       " 'US Drug',\n",
       " 'US Food',\n",
       " 'Walgreens',\n",
       " 'Walmart'}"
      ]
     },
     "execution_count": 51,
     "metadata": {},
     "output_type": "execute_result"
    }
   ],
   "source": [
    "set(UPC_Monthly[\"Markets\"])"
   ]
  },
  {
   "cell_type": "markdown",
   "metadata": {},
   "source": [
    "## Toothpaste"
   ]
  },
  {
   "cell_type": "code",
   "execution_count": null,
   "metadata": {},
   "outputs": [],
   "source": [
    "# path to store Output files\n",
    "path_TP=\"//falmumapp34/Nielsen Connect Transition & Maintenance (20-SCP-3650)/05. Output Data/5P Output/TP/\""
   ]
  },
  {
   "cell_type": "code",
   "execution_count": null,
   "metadata": {},
   "outputs": [],
   "source": [
    "UPC_Monthly_TP= UPC_Monthly[UPC_Monthly[\"ShareBasis\"]==\"TOOTHPASTE\"]\n",
    "UPC_Monthly_TP.head(2)"
   ]
  },
  {
   "cell_type": "code",
   "execution_count": null,
   "metadata": {},
   "outputs": [],
   "source": [
    "New_Column=['ShareBasis','Manufacturer','Franchise','Brand','SubBrand',\"Segment\",\"PriceTier\",\"Form\",\"Multi\",\"Plan Size\",\"Item\",\"UPC\"]\n",
    "\n",
    "UPC_Monthly_TP[New_Column] = UPC_Monthly_TP['Products'].str.split('|',n=11,expand=True)\n",
    "\n",
    "\n",
    "UPC_Monthly_TP[New_Column].fillna(value=\"\")\n",
    "UPC_Monthly_TP.head(3)\n",
    "\n",
    "# Moving columns after \"Market\"\n",
    "UPC_Monthly_TP = movecol(UPC_Monthly_TP, \n",
    "             cols_to_move=New_Column, \n",
    "             ref_col='Markets',\n",
    "             place='After')\n",
    "UPC_Monthly_TP.head(3)"
   ]
  },
  {
   "cell_type": "code",
   "execution_count": null,
   "metadata": {
    "scrolled": true
   },
   "outputs": [],
   "source": [
    "UPC_Monthly_TP.shape"
   ]
  },
  {
   "cell_type": "markdown",
   "metadata": {},
   "source": [
    "**Strip Columns**"
   ]
  },
  {
   "cell_type": "code",
   "execution_count": null,
   "metadata": {},
   "outputs": [],
   "source": [
    "cols=list(UPC_Monthly_TP.columns[0:16])\n",
    "UPC_Monthly_TP[cols]=UPC_Monthly_TP[cols].apply(lambda x : x.str.strip())"
   ]
  },
  {
   "cell_type": "markdown",
   "metadata": {},
   "source": [
    " "
   ]
  },
  {
   "cell_type": "markdown",
   "metadata": {},
   "source": [
    "### Distri Sku Data"
   ]
  },
  {
   "cell_type": "code",
   "execution_count": null,
   "metadata": {},
   "outputs": [],
   "source": [
    "Distri_Sku=UPC_Monthly_TP.copy()"
   ]
  },
  {
   "cell_type": "code",
   "execution_count": null,
   "metadata": {},
   "outputs": [],
   "source": [
    "Markets=[\"Ahold\",\"Alb/Sfy\",\"BJs\",\"CVS\",\"Dollar General\",\"Family Dollar\",\"Meijer\",\"Publix\",\"Rite Aid\",\n",
    "         \"Sams\",\"Shoprite\",\"Target\",\"US AOC\",\"US Drug\",\"US Food\",\"Walgreens\",\"Walmart\"]"
   ]
  },
  {
   "cell_type": "code",
   "execution_count": null,
   "metadata": {},
   "outputs": [],
   "source": [
    "Distri_Sku= Distri_Sku[Distri_Sku[\"Facts\"].isin(Distri_Sku_Facts)]\n",
    "Distri_Sku= Distri_Sku[Distri_Sku['Markets'].isin(Markets)]"
   ]
  },
  {
   "cell_type": "code",
   "execution_count": null,
   "metadata": {},
   "outputs": [],
   "source": [
    "print(\"Missing Facts ->\",len(Distri_Sku_Facts)-len(set(Distri_Sku[\"Facts\"])),\"Missing Markets -> \",len(Markets)-len(set(Distri_Sku[\"Markets\"])))"
   ]
  },
  {
   "cell_type": "markdown",
   "metadata": {},
   "source": [
    "**Fact Mapping**"
   ]
  },
  {
   "cell_type": "code",
   "execution_count": null,
   "metadata": {},
   "outputs": [],
   "source": [
    "Distri_Sku[\"Facts\"].replace(Distri_Fact_Mapping,inplace=True)"
   ]
  },
  {
   "cell_type": "code",
   "execution_count": null,
   "metadata": {},
   "outputs": [],
   "source": [
    "Distri_Sku.head(3)"
   ]
  },
  {
   "cell_type": "markdown",
   "metadata": {},
   "source": [
    "**Column name Change**"
   ]
  },
  {
   "cell_type": "code",
   "execution_count": null,
   "metadata": {},
   "outputs": [],
   "source": [
    "Distri_Sku.columns"
   ]
  },
  {
   "cell_type": "code",
   "execution_count": null,
   "metadata": {},
   "outputs": [],
   "source": [
    "Distri_Sku.rename(columns={\"Markets\":\"MKT\",\"Manufacturer\":\"CP_MANUFACTURER\",\n",
    "                            \"Franchise\":\"CP_FRANCHISE\",\"Brand\":\"CP_BRAND\",\"SubBrand\":\"CP_SUBBRAND\",\n",
    "                           \"UPC\":\"Product_Code\",\"Item\":\"PROD\"},inplace=True)"
   ]
  },
  {
   "cell_type": "code",
   "execution_count": null,
   "metadata": {
    "scrolled": true
   },
   "outputs": [],
   "source": [
    "Distri_Sku.head()"
   ]
  },
  {
   "cell_type": "code",
   "execution_count": null,
   "metadata": {},
   "outputs": [],
   "source": [
    "Time_Period=list(Distri_Sku.columns[32:33])+list(Distri_Sku.columns[22:24])+list(Distri_Sku.columns[20:21])+list(Distri_Sku.columns[16:17])\n",
    "print(Time_Period)"
   ]
  },
  {
   "cell_type": "markdown",
   "metadata": {},
   "source": [
    "**Moving Time Period to Rows and Facts to Columns**"
   ]
  },
  {
   "cell_type": "code",
   "execution_count": null,
   "metadata": {},
   "outputs": [],
   "source": [
    "df1=pd.melt(Distri_Sku, id_vars =[\"MKT\",\"PROD\",\"CP_MANUFACTURER\",\"CP_FRANCHISE\",\"CP_BRAND\",\"CP_SUBBRAND\",\"Product_Code\",\"Facts\"], value_vars =Time_Period,var_name=\"Time_Period\")\n",
    "\n",
    "df1[\"value\"]=df1[\"value\"].apply(pd.to_numeric)"
   ]
  },
  {
   "cell_type": "code",
   "execution_count": null,
   "metadata": {},
   "outputs": [],
   "source": [
    "df2=df1.pivot_table(index=[\"MKT\",\"PROD\",\"CP_MANUFACTURER\",\"CP_FRANCHISE\",\"CP_BRAND\",\"CP_SUBBRAND\",\"Product_Code\",\"Time_Period\"],columns='Facts')\n",
    "\n",
    "df2.columns=df2.columns.droplevel().rename(None)\n",
    "df2.reset_index(inplace =True)"
   ]
  },
  {
   "cell_type": "code",
   "execution_count": null,
   "metadata": {},
   "outputs": [],
   "source": [
    "from pandas.api.types import CategoricalDtype\n",
    "\n",
    "Time_Period_order = CategoricalDtype(\n",
    "    Time_Period, \n",
    "    ordered=True\n",
    ")\n",
    "\n",
    "df2['Time_Period'] = df2['Time_Period'].astype(Time_Period_order)\n",
    "\n",
    "df2.sort_values(['MKT','PROD','Time_Period'],inplace=True)"
   ]
  },
  {
   "cell_type": "code",
   "execution_count": null,
   "metadata": {},
   "outputs": [],
   "source": [
    "final_column_sorting=[\"MKT\",\"PROD\",\"CP_MANUFACTURER\",\"CP_FRANCHISE\",\"CP_BRAND\",\"CP_SUBBRAND\",\"Product_Code\",\"Time_Period\",\n",
    "                      \"Doll_Shr\",\"Doll_Shr_Chg\",\"Base_Doll_Shr\",\"Base_Doll_Shr_Chg\",\"Store_Selling\",\"Store_Selling_Chg\",\n",
    "                      \"Doll_Velocity\",\"Doll_Velocity_Chg\",\"Cum_Distri_Pts\",\"Cum_Distri_Pts_Chg\",\"Dollars\",\"Dollars_Chg\",\"Units\"]\n",
    "\n",
    "Distri_Sku_final=df2[final_column_sorting]\n",
    "\n",
    "Distri_Sku_final[\"Record_ID\"]=range(1,len(Distri_Sku_final)+1)\n",
    "\n"
   ]
  },
  {
   "cell_type": "markdown",
   "metadata": {},
   "source": [
    "**Exporting Dataframe to output folder**"
   ]
  },
  {
   "cell_type": "code",
   "execution_count": null,
   "metadata": {},
   "outputs": [],
   "source": [
    "Distri_Sku_final.to_csv(path_TP+\"Distri_sku_data.csv\",index=False)"
   ]
  },
  {
   "cell_type": "code",
   "execution_count": null,
   "metadata": {},
   "outputs": [],
   "source": []
  },
  {
   "cell_type": "markdown",
   "metadata": {},
   "source": [
    "### Distri Sku Full Data"
   ]
  },
  {
   "cell_type": "code",
   "execution_count": null,
   "metadata": {},
   "outputs": [],
   "source": [
    "Distri_Sku_full=UPC_Monthly_TP.copy()"
   ]
  },
  {
   "cell_type": "code",
   "execution_count": null,
   "metadata": {},
   "outputs": [],
   "source": [
    "Markets=[\"Ahold\",\"Alb/Sfy\",\"BJs\",\"CVS\",\"Dollar General\",\"Family Dollar\",\"Meijer\",\"Publix\",\n",
    "         \"Rite Aid\",\"Sams\",\"Shoprite\",\"Target\",\"US AOC\",\"US Drug\",\"US Food\",\"Walgreens\",\"Walmart\"]"
   ]
  },
  {
   "cell_type": "code",
   "execution_count": null,
   "metadata": {},
   "outputs": [],
   "source": [
    "Distri_Sku_full= Distri_Sku_full[Distri_Sku_full[\"Facts\"].isin(Distr_Sku_Full_Data_Facts)]\n",
    "Distri_Sku_full= Distri_Sku_full[Distri_Sku_full['Markets'].isin(Markets)]"
   ]
  },
  {
   "cell_type": "code",
   "execution_count": null,
   "metadata": {},
   "outputs": [],
   "source": [
    "print(\"Missing Facts ->\",len(Distr_Sku_Full_Data_Facts)-len(set(Distri_Sku_full[\"Facts\"])),\"Missing Markets -> \",len(Markets)-len(set(Distri_Sku_full[\"Markets\"])))"
   ]
  },
  {
   "cell_type": "markdown",
   "metadata": {},
   "source": [
    "**Fact Mapping**"
   ]
  },
  {
   "cell_type": "code",
   "execution_count": null,
   "metadata": {},
   "outputs": [],
   "source": [
    "Distri_Sku_full[\"Facts\"].replace(Distri_Fact_Mapping,inplace=True)"
   ]
  },
  {
   "cell_type": "code",
   "execution_count": null,
   "metadata": {
    "scrolled": true
   },
   "outputs": [],
   "source": [
    "Distri_Sku_full.head(3)"
   ]
  },
  {
   "cell_type": "markdown",
   "metadata": {},
   "source": [
    "**Column name Change**"
   ]
  },
  {
   "cell_type": "code",
   "execution_count": null,
   "metadata": {},
   "outputs": [],
   "source": [
    "Distri_Sku_full.columns"
   ]
  },
  {
   "cell_type": "code",
   "execution_count": null,
   "metadata": {},
   "outputs": [],
   "source": [
    "Distri_Sku_full.rename(columns={'Markets':\"MKT\", 'Manufacturer':\"CP_MANUFACTURER\",\n",
    "                                'Franchise':\"CP_FRANCHISE\", 'Brand':\"CP_BRAND\",\n",
    "                                'SubBrand':\"CP_SUBBRAND\", 'Segment':\"CP_SEGMENT\", 'PriceTier':\"CP_PRICE_TIER\",\n",
    "                                'Form':\"CP_FORM\", 'Multi':\"CP_MULTI\",\n",
    "                                'Item':\"PROD\", 'UPC':\"Product_Code\"},inplace=True)"
   ]
  },
  {
   "cell_type": "code",
   "execution_count": null,
   "metadata": {
    "scrolled": true
   },
   "outputs": [],
   "source": [
    "Distri_Sku_full.head()"
   ]
  },
  {
   "cell_type": "code",
   "execution_count": null,
   "metadata": {},
   "outputs": [],
   "source": [
    "Time_Period=list(Distri_Sku_full.columns[32:33])+list(Distri_Sku_full.columns[22:24])+list(Distri_Sku_full.columns[20:21])+list(Distri_Sku_full.columns[16:17])\n",
    "print(Time_Period)"
   ]
  },
  {
   "cell_type": "markdown",
   "metadata": {},
   "source": [
    "**Moving Time Period to Rows and Facts to Columns**"
   ]
  },
  {
   "cell_type": "code",
   "execution_count": null,
   "metadata": {},
   "outputs": [],
   "source": [
    "df1=pd.melt(Distri_Sku_full, id_vars =[\"MKT\",\"PROD\",\"CP_MANUFACTURER\",\"CP_FRANCHISE\",\"CP_BRAND\",\"CP_SUBBRAND\",\"Product_Code\",\"CP_PRICE_TIER\",\"CP_MULTI\",\"CP_FORM\",\"CP_SEGMENT\",\"Facts\"], value_vars =Time_Period,var_name=\"Time_Period\")\n",
    "\n",
    "df1[\"value\"]=df1[\"value\"].apply(pd.to_numeric)"
   ]
  },
  {
   "cell_type": "code",
   "execution_count": null,
   "metadata": {},
   "outputs": [],
   "source": [
    "df2=df1.pivot_table(index=[\"MKT\",\"Time_Period\",\"PROD\",\"CP_MANUFACTURER\",\"CP_FRANCHISE\",\"CP_BRAND\",\"CP_SUBBRAND\",\"Product_Code\",\"CP_PRICE_TIER\",\"CP_MULTI\",\"CP_FORM\",\"CP_SEGMENT\"],columns='Facts')\n",
    "\n",
    "df2.columns=df2.columns.droplevel().rename(None)\n",
    "df2.reset_index(inplace =True)"
   ]
  },
  {
   "cell_type": "code",
   "execution_count": null,
   "metadata": {},
   "outputs": [],
   "source": [
    "# sorting \"MKT\",\"Time_Period\",\"PROD\"\n",
    "df2.sort_values(['MKT','Time_Period','PROD'],inplace=True)"
   ]
  },
  {
   "cell_type": "code",
   "execution_count": null,
   "metadata": {},
   "outputs": [],
   "source": [
    "df2['Prcnt_ACV']=df2[\"Store_Selling\"]\n",
    "\n",
    "final_column_sorting=[\"MKT\",\"Time_Period\",\"PROD\",\"CP_MANUFACTURER\",\"CP_FRANCHISE\",\"CP_BRAND\",\"CP_SUBBRAND\",\"Product_Code\",\n",
    "                      \"CP_PRICE_TIER\",\"CP_MULTI\",\"CP_FORM\",\"CP_SEGMENT\",\"Doll_Shr\",\"Doll_Shr_Chg\",\"Base_Doll_Shr\",\n",
    "                      \"Base_Doll_Shr_Chg\",\"Store_Selling\",\"Store_Selling_Chg\",\"Doll_Velocity\",\"Doll_Velocity_Chg\",\n",
    "                      \"Cum_Distri_Pts\",\"Cum_Distri_Pts_Chg\",\"Dollars\",\"Dollars_Chg\",\"Prcnt_ACV\",\"Units\",\"Units_velocity\"]\n",
    "\n",
    "Distri_Sku_full_final=df2[final_column_sorting]\n",
    "\n",
    "Distri_Sku_full_final[\"NA\"]=range(1,len(Distri_Sku_full_final)+1)\n",
    "\n"
   ]
  },
  {
   "cell_type": "markdown",
   "metadata": {},
   "source": [
    "**Exporting Dataframe to output folder**"
   ]
  },
  {
   "cell_type": "code",
   "execution_count": null,
   "metadata": {},
   "outputs": [],
   "source": [
    "Distri_Sku_full_final.to_csv(path_TP+\"Distri_Sku_full_data.csv\",index=False)"
   ]
  },
  {
   "cell_type": "code",
   "execution_count": null,
   "metadata": {},
   "outputs": [],
   "source": []
  },
  {
   "cell_type": "markdown",
   "metadata": {},
   "source": [
    "### Distri Cat Data"
   ]
  },
  {
   "cell_type": "code",
   "execution_count": null,
   "metadata": {},
   "outputs": [],
   "source": [
    "Distri_Cat=UPC_Monthly_TP.copy()"
   ]
  },
  {
   "cell_type": "code",
   "execution_count": null,
   "metadata": {},
   "outputs": [],
   "source": [
    "Markets=[\"Ahold\",\"Alb/Sfy\",\"BJs\",\"CVS\",\"Dollar General\",\"Family Dollar\",\"Meijer\",\"Publix\",\"Rite Aid\",\n",
    "         \"Sams\",\"Shoprite\",\"Target\",\"US AOC\",\"US Drug\",\"US Food\",\"Walgreens\",\"Walmart\"]"
   ]
  },
  {
   "cell_type": "code",
   "execution_count": null,
   "metadata": {},
   "outputs": [],
   "source": [
    "Distri_Cat= Distri_Cat[Distri_Cat[\"Facts\"].isin(Distri_Cat_Data_Facts)]\n",
    "Distri_Cat= Distri_Cat[Distri_Cat['Markets'].isin(Markets)]"
   ]
  },
  {
   "cell_type": "code",
   "execution_count": null,
   "metadata": {},
   "outputs": [],
   "source": [
    "print(\"Missing Facts ->\",len(Distri_Cat_Data_Facts)-len(set(Distri_Cat[\"Facts\"])),\"Missing Markets -> \",len(Markets)-len(set(Distri_Cat[\"Markets\"])))"
   ]
  },
  {
   "cell_type": "markdown",
   "metadata": {},
   "source": [
    "**Fact Mapping**"
   ]
  },
  {
   "cell_type": "code",
   "execution_count": null,
   "metadata": {},
   "outputs": [],
   "source": [
    "Distri_Cat[\"Facts\"].replace(Distri_Fact_Mapping,inplace=True)"
   ]
  },
  {
   "cell_type": "code",
   "execution_count": null,
   "metadata": {},
   "outputs": [],
   "source": [
    "Distri_Cat.head(3)"
   ]
  },
  {
   "cell_type": "markdown",
   "metadata": {},
   "source": [
    "**Column name Change**"
   ]
  },
  {
   "cell_type": "code",
   "execution_count": null,
   "metadata": {},
   "outputs": [],
   "source": [
    "Distri_Cat.columns"
   ]
  },
  {
   "cell_type": "code",
   "execution_count": null,
   "metadata": {},
   "outputs": [],
   "source": [
    "Distri_Cat.rename(columns={'Markets':\"MKT\", 'Manufacturer':\"CP_MANUFACTURER\", 'Franchise':\"CP_FRANCHISE\",\n",
    "                           'Brand':\"CP_BRAND\",'SubBrand':\"CP_SUBBRAND\",\n",
    "                           'Item':\"PROD\", 'UPC':\"Product_Code\"},inplace=True)"
   ]
  },
  {
   "cell_type": "code",
   "execution_count": null,
   "metadata": {
    "scrolled": false
   },
   "outputs": [],
   "source": [
    "Distri_Cat.head()"
   ]
  },
  {
   "cell_type": "code",
   "execution_count": null,
   "metadata": {},
   "outputs": [],
   "source": [
    "Time_Period=list(Distri_Cat.columns[32:33])+list(Distri_Cat.columns[22:24])+list(Distri_Cat.columns[20:21])+list(Distri_Cat.columns[16:17])\n",
    "print(Time_Period)"
   ]
  },
  {
   "cell_type": "markdown",
   "metadata": {},
   "source": [
    "**Moving Time Period to Rows and Facts to Columns**"
   ]
  },
  {
   "cell_type": "code",
   "execution_count": null,
   "metadata": {},
   "outputs": [],
   "source": [
    "df1=pd.melt(Distri_Cat, id_vars =[\"MKT\",\"PROD\",\"CP_MANUFACTURER\",\"CP_FRANCHISE\",\"CP_BRAND\",\"CP_SUBBRAND\",\"Product_Code\",\"Facts\"], value_vars =Time_Period,var_name=\"Time_Period\")\n",
    "\n",
    "df1[\"value\"]=df1[\"value\"].apply(pd.to_numeric)"
   ]
  },
  {
   "cell_type": "code",
   "execution_count": null,
   "metadata": {},
   "outputs": [],
   "source": [
    "df2=df1.pivot_table(index=[\"MKT\",\"PROD\",\"CP_MANUFACTURER\",\"CP_FRANCHISE\",\"CP_BRAND\",\"CP_SUBBRAND\",\"Product_Code\",\"Time_Period\"],columns='Facts')\n",
    "\n",
    "df2.columns=df2.columns.droplevel().rename(None)\n",
    "df2.reset_index(inplace =True)"
   ]
  },
  {
   "cell_type": "code",
   "execution_count": null,
   "metadata": {},
   "outputs": [],
   "source": [
    "from pandas.api.types import CategoricalDtype\n",
    "\n",
    "Time_Period_order = CategoricalDtype(\n",
    "    Time_Period, \n",
    "    ordered=True\n",
    ")\n",
    "\n",
    "df2['Time_Period'] = df2['Time_Period'].astype(Time_Period_order)\n",
    "\n",
    "\n",
    "df2.sort_values(['MKT','PROD','Time_Period'],inplace=True)"
   ]
  },
  {
   "cell_type": "code",
   "execution_count": null,
   "metadata": {},
   "outputs": [],
   "source": [
    "df2['Prcnt_ACV']=df2[\"Store_Selling\"]\n",
    "\n",
    "final_column_sorting=[\"MKT\",\"PROD\",\"CP_MANUFACTURER\",\"CP_FRANCHISE\",\"CP_BRAND\",\"CP_SUBBRAND\",\"Product_Code\",\"Time_Period\",\n",
    "                      \"Doll_Shr\",\"Cum_Distri_Pts\",\"Dollars\",\"Store_Selling\",\"Prcnt_ACV\"]\n",
    "\n",
    "Distri_Cat_final=df2[final_column_sorting]\n",
    "\n",
    "Distri_Cat_final[\"Record_ID\"]=range(1,len(Distri_Cat_final)+1)\n",
    "\n"
   ]
  },
  {
   "cell_type": "markdown",
   "metadata": {},
   "source": [
    "**Exporting Dataframe to output folder**"
   ]
  },
  {
   "cell_type": "code",
   "execution_count": null,
   "metadata": {},
   "outputs": [],
   "source": [
    "Distri_Cat_final.to_csv(path_TP+\"Distri_category_skus_Data.csv\",index=False)"
   ]
  },
  {
   "cell_type": "code",
   "execution_count": null,
   "metadata": {},
   "outputs": [],
   "source": []
  },
  {
   "cell_type": "markdown",
   "metadata": {},
   "source": [
    "## Mouthwash"
   ]
  },
  {
   "cell_type": "code",
   "execution_count": null,
   "metadata": {},
   "outputs": [],
   "source": [
    "# path to store Output files\n",
    "path_MW=\"//falmumapp34/Nielsen Connect Transition & Maintenance (20-SCP-3650)/05. Output Data/5P Output/MW/\""
   ]
  },
  {
   "cell_type": "code",
   "execution_count": null,
   "metadata": {},
   "outputs": [],
   "source": [
    "UPC_Monthly.head(5)"
   ]
  },
  {
   "cell_type": "code",
   "execution_count": null,
   "metadata": {},
   "outputs": [],
   "source": [
    "UPC_Monthly_MW= UPC_Monthly[UPC_Monthly[\"ShareBasis\"]=='MOUTHWASH']\n",
    "UPC_Monthly_MW.head(2)"
   ]
  },
  {
   "cell_type": "code",
   "execution_count": null,
   "metadata": {},
   "outputs": [],
   "source": [
    "New_Column=[\"ShareBasis\",\"Manufacturer\",\"Franchise\",\"Brand\",\"SubBrand\",\"SubBrand Variant\",\"Segment\",\"SizeRange\",\"PriceTier\",\"Multi\",\"PackType\",\"Item\",\"UPC\"]\n",
    "\n",
    "UPC_Monthly_MW[New_Column] = UPC_Monthly_MW['Products'].str.split('|',n=12,expand=True)\n",
    "\n",
    "\n",
    "UPC_Monthly_MW[New_Column].fillna(value=\"\")\n",
    "UPC_Monthly_MW.head(3)\n",
    "\n",
    "# Moving columns after \"Market\"\n",
    "UPC_Monthly_MW = movecol(UPC_Monthly_MW, \n",
    "             cols_to_move=New_Column, \n",
    "             ref_col='Markets',\n",
    "             place='After')\n",
    "UPC_Monthly_MW.head(3)"
   ]
  },
  {
   "cell_type": "code",
   "execution_count": null,
   "metadata": {
    "scrolled": true
   },
   "outputs": [],
   "source": [
    "UPC_Monthly_MW.shape"
   ]
  },
  {
   "cell_type": "code",
   "execution_count": null,
   "metadata": {},
   "outputs": [],
   "source": [
    "UPC_Monthly_MW.columns"
   ]
  },
  {
   "cell_type": "markdown",
   "metadata": {},
   "source": [
    "**Strip Columns**"
   ]
  },
  {
   "cell_type": "code",
   "execution_count": null,
   "metadata": {},
   "outputs": [],
   "source": [
    "cols=list(UPC_Monthly_MW.columns[0:17])\n",
    "UPC_Monthly_MW[cols]=UPC_Monthly_MW[cols].apply(lambda x : x.str.strip())"
   ]
  },
  {
   "cell_type": "markdown",
   "metadata": {},
   "source": [
    " "
   ]
  },
  {
   "cell_type": "markdown",
   "metadata": {},
   "source": [
    "### Distri Sku Data"
   ]
  },
  {
   "cell_type": "code",
   "execution_count": null,
   "metadata": {},
   "outputs": [],
   "source": [
    "Distri_Sku=UPC_Monthly_MW.copy()"
   ]
  },
  {
   "cell_type": "code",
   "execution_count": null,
   "metadata": {},
   "outputs": [],
   "source": [
    "Markets=[\"Ahold\",\"Alb/Sfy\",\"BJs\",\"CVS\",'Kmart',\"Dollar General\",\"Family Dollar\",\"Meijer\",\"Publix\",\"Rite Aid\",\n",
    "         \"Sams\",\"Shoprite\",\"Target\",\"US AOC\",\"US Drug\",\"US Food\",\"Walgreens\",\"Walmart\"]"
   ]
  },
  {
   "cell_type": "code",
   "execution_count": null,
   "metadata": {},
   "outputs": [],
   "source": [
    "Distri_Sku= Distri_Sku[Distri_Sku[\"Facts\"].isin(Distri_Sku_Facts)]\n",
    "Distri_Sku= Distri_Sku[Distri_Sku['Markets'].isin(Markets)]"
   ]
  },
  {
   "cell_type": "code",
   "execution_count": null,
   "metadata": {},
   "outputs": [],
   "source": [
    "print(\"Missing Facts ->\",len(Distri_Sku_Facts)-len(set(Distri_Sku[\"Facts\"])),\"Missing Markets -> \",len(Markets)-len(set(Distri_Sku[\"Markets\"])))"
   ]
  },
  {
   "cell_type": "markdown",
   "metadata": {},
   "source": [
    "**Fact Mapping**"
   ]
  },
  {
   "cell_type": "code",
   "execution_count": null,
   "metadata": {},
   "outputs": [],
   "source": [
    "Distri_Sku[\"Facts\"].replace(Distri_Fact_Mapping,inplace=True)"
   ]
  },
  {
   "cell_type": "code",
   "execution_count": null,
   "metadata": {},
   "outputs": [],
   "source": [
    "Distri_Sku.head(3)"
   ]
  },
  {
   "cell_type": "markdown",
   "metadata": {},
   "source": [
    "**Column name Change**"
   ]
  },
  {
   "cell_type": "code",
   "execution_count": null,
   "metadata": {},
   "outputs": [],
   "source": [
    "Distri_Sku.columns"
   ]
  },
  {
   "cell_type": "code",
   "execution_count": null,
   "metadata": {},
   "outputs": [],
   "source": [
    "Distri_Sku.rename(columns={\"Markets\":\"MKT\",\"Manufacturer\":\"CP_MANUFACTURER\",\n",
    "                            \"Franchise\":\"CP_FRANCHISE\",\"Brand\":\"CP_BRAND\",\"SubBrand\":\"CP_SUBBRAND\",\n",
    "                           \"UPC\":\"Product_Code\",'Item':\"PROD\",'SizeRange':\"CP_SIZE_RANGE\",'PriceTier':\"CP_PRICE_TIER\",\n",
    "                           'PackType':\"CP_DEAL\",'Segment':\"CP_SEGMENT\",'SubBrand Variant':\"CP_SUBBRAND_VARIANT\",'Multi':\"CP_MULTI\"\n",
    "                          },inplace=True)"
   ]
  },
  {
   "cell_type": "code",
   "execution_count": null,
   "metadata": {},
   "outputs": [],
   "source": [
    "Distri_Sku.info()"
   ]
  },
  {
   "cell_type": "code",
   "execution_count": null,
   "metadata": {},
   "outputs": [],
   "source": [
    "Time_Period=list(Distri_Sku.columns[28:29])+list(Distri_Sku.columns[33:34])+list(Distri_Sku.columns[23:25])+list(Distri_Sku.columns[21:22])+list(Distri_Sku.columns[17:18])\n",
    "print(Time_Period)"
   ]
  },
  {
   "cell_type": "code",
   "execution_count": null,
   "metadata": {},
   "outputs": [],
   "source": [
    "Distri_Sku.columns"
   ]
  },
  {
   "cell_type": "markdown",
   "metadata": {},
   "source": [
    "**Moving Time Period to Rows and Facts to Columns**"
   ]
  },
  {
   "cell_type": "code",
   "execution_count": null,
   "metadata": {},
   "outputs": [],
   "source": [
    "df1=pd.melt(Distri_Sku, id_vars =['MKT', 'ShareBasis', 'CP_MANUFACTURER', 'CP_FRANCHISE', 'CP_BRAND','CP_SUBBRAND', 'CP_SUBBRAND_VARIANT', 'CP_SEGMENT', 'CP_SIZE_RANGE',\"CP_PRICE_TIER\", 'CP_MULTI', 'CP_DEAL', 'Product_Code' ,'Category', 'PROD',\"Facts\"], value_vars =Time_Period,var_name=\"Time_Period\")\n",
    "\n",
    "df1[\"value\"]=df1[\"value\"].apply(pd.to_numeric)"
   ]
  },
  {
   "cell_type": "code",
   "execution_count": null,
   "metadata": {},
   "outputs": [],
   "source": [
    "#'MKT', 'ShareBasis', 'CP_MANUFACTURER', 'CP_FRANCHISE', 'CP_BRAND','CP_SUBBRAND', 'CP_SUBBRAND_VARIANT', 'CP_SEGMENT', 'CP_SIZE_RANGE','PriceTier', 'CP_MULTI', 'CP_DEAL', 'Product_Code' ,'Category', 'PROD'"
   ]
  },
  {
   "cell_type": "code",
   "execution_count": null,
   "metadata": {},
   "outputs": [],
   "source": [
    "#[\"ShareBasis\",\"Manufacturer\",\"Franchise\",\"Brand\",\"SubBrand\",\"SubBrand Variant\",\"Segment\",\"SizeRange\",\"PriceTier\",\"Multi\",\"PackType\",\"UPC\"]"
   ]
  },
  {
   "cell_type": "code",
   "execution_count": null,
   "metadata": {},
   "outputs": [],
   "source": [
    "df2=df1.pivot_table(index=['MKT', 'ShareBasis', 'CP_MANUFACTURER', 'CP_FRANCHISE', 'CP_BRAND','CP_SUBBRAND', 'CP_SUBBRAND_VARIANT', 'CP_SEGMENT', 'CP_SIZE_RANGE',\"CP_PRICE_TIER\", 'CP_MULTI', 'CP_DEAL', 'Product_Code' ,'Category', 'PROD',\"Time_Period\"],columns='Facts')\n",
    "\n",
    "df2.columns=df2.columns.droplevel().rename(None)\n",
    "df2.reset_index(inplace =True)"
   ]
  },
  {
   "cell_type": "code",
   "execution_count": null,
   "metadata": {},
   "outputs": [],
   "source": [
    "from pandas.api.types import CategoricalDtype\n",
    "\n",
    "Time_Period_order = CategoricalDtype(\n",
    "    Time_Period, \n",
    "    ordered=True\n",
    ")\n",
    "\n",
    "df2['Time_Period'] = df2['Time_Period'].astype(Time_Period_order)\n",
    "\n",
    "df2.sort_values(['MKT','PROD','Time_Period'],inplace=True)"
   ]
  },
  {
   "cell_type": "code",
   "execution_count": null,
   "metadata": {},
   "outputs": [],
   "source": [
    "df2.columns"
   ]
  },
  {
   "cell_type": "code",
   "execution_count": null,
   "metadata": {},
   "outputs": [],
   "source": [
    "Distri_Sku_final.head(5)"
   ]
  },
  {
   "cell_type": "code",
   "execution_count": null,
   "metadata": {},
   "outputs": [],
   "source": [
    "final_column_sorting=[\"MKT\",\"PROD\",\"CP_MANUFACTURER\",\"CP_FRANCHISE\",\"CP_BRAND\",\"CP_SUBBRAND\",\"Product_Code\",\"Time_Period\",\n",
    "                      \"Doll_Shr\",\"Doll_Shr_Chg\",\"Base_Doll_Shr\",\"Base_Doll_Shr_Chg\",\"Store_Selling\",\"Store_Selling_Chg\",\n",
    "                      \"Doll_Velocity\",\"Doll_Velocity_Chg\",\"Cum_Distri_Pts\",\"Cum_Distri_Pts_Chg\",\"Dollars\",\"Dollars_Chg\",\"Units\",'CP_SUBBRAND_VARIANT','CP_MULTI']\n",
    "\n",
    "Distri_Sku_final=df2[final_column_sorting]\n",
    "\n",
    "Distri_Sku_final[\"Record_ID\"]=range(1,len(Distri_Sku_final)+1)\n"
   ]
  },
  {
   "cell_type": "code",
   "execution_count": null,
   "metadata": {},
   "outputs": [],
   "source": [
    "#pct acv, unit velocity"
   ]
  },
  {
   "cell_type": "code",
   "execution_count": null,
   "metadata": {},
   "outputs": [],
   "source": []
  },
  {
   "cell_type": "markdown",
   "metadata": {},
   "source": [
    "**Exporting Dataframe to ouMWut folder**"
   ]
  },
  {
   "cell_type": "code",
   "execution_count": null,
   "metadata": {},
   "outputs": [],
   "source": [
    "Distri_Sku_final.to_csv(path_MW+\"Distri_sku_data.csv\",index=False)"
   ]
  },
  {
   "cell_type": "code",
   "execution_count": null,
   "metadata": {},
   "outputs": [],
   "source": [
    "len(set(Distri_Sku_final.MKT))"
   ]
  },
  {
   "cell_type": "markdown",
   "metadata": {},
   "source": [
    "### Distri Sku Full Data"
   ]
  },
  {
   "cell_type": "code",
   "execution_count": null,
   "metadata": {},
   "outputs": [],
   "source": [
    "Distri_Sku_full=UPC_Monthly_MW.copy()"
   ]
  },
  {
   "cell_type": "code",
   "execution_count": null,
   "metadata": {},
   "outputs": [],
   "source": [
    "Distri_Sku_full.columns"
   ]
  },
  {
   "cell_type": "code",
   "execution_count": null,
   "metadata": {},
   "outputs": [],
   "source": [
    "#Distr_Sku_Full_Data_Facts=[\"$ Shr - CP CATEGORY\",\"$ Shr Chg YA - CP CATEGORY\",\"Base $ Shr - CP CATEGORY\",\"Base $ Shr Chg YA - CP CATEGORY\",\n",
    "   #                   \"%ACV\",\"%ACV Chg YA\",\"$ / $MM ACV\",\"$ / $MM ACV % Chg YA\",\"TDP\",\"TDP % Chg YA\",\"$\",\"$ % Chg YA\",\"Units\",\"Units / $MM ACV\"]\n"
   ]
  },
  {
   "cell_type": "code",
   "execution_count": null,
   "metadata": {},
   "outputs": [],
   "source": [
    "Markets=[\"Ahold\",\"Alb/Sfy\",\"BJs\",\"CVS\",'Kmart',\"Dollar General\",\"Family Dollar\",\"Meijer\",\"Publix\",\n",
    "         \"Rite Aid\",\"Sams\",\"Shoprite\",\"Target\",\"US AOC\",\"US Drug\",\"US Food\",\"Walgreens\",\"Walmart\"]"
   ]
  },
  {
   "cell_type": "code",
   "execution_count": null,
   "metadata": {},
   "outputs": [],
   "source": [
    "Distri_Sku_full= Distri_Sku_full[Distri_Sku_full[\"Facts\"].isin(Distr_Sku_Full_Data_Facts)]\n",
    "Distri_Sku_full= Distri_Sku_full[Distri_Sku_full['Markets'].isin(Markets)]"
   ]
  },
  {
   "cell_type": "code",
   "execution_count": null,
   "metadata": {},
   "outputs": [],
   "source": [
    "print(\"Missing Facts ->\",len(Distr_Sku_Full_Data_Facts)-len(set(Distri_Sku_full[\"Facts\"])),\"Missing Markets -> \",len(Markets)-len(set(Distri_Sku_full[\"Markets\"])))"
   ]
  },
  {
   "cell_type": "markdown",
   "metadata": {},
   "source": [
    "**Fact Mapping**"
   ]
  },
  {
   "cell_type": "code",
   "execution_count": null,
   "metadata": {},
   "outputs": [],
   "source": [
    "Distri_Sku_full[\"Facts\"].replace(Distri_Fact_Mapping,inplace=True)"
   ]
  },
  {
   "cell_type": "code",
   "execution_count": null,
   "metadata": {},
   "outputs": [],
   "source": [
    "Distri_Sku_full.columns"
   ]
  },
  {
   "cell_type": "markdown",
   "metadata": {},
   "source": [
    "**Column name Change**"
   ]
  },
  {
   "cell_type": "code",
   "execution_count": null,
   "metadata": {},
   "outputs": [],
   "source": [
    "Distri_Sku_full.columns"
   ]
  },
  {
   "cell_type": "code",
   "execution_count": null,
   "metadata": {},
   "outputs": [],
   "source": [
    "Distri_Sku_full.rename(columns={'Markets':\"MKT\", 'Manufacturer':\"CP_MANUFACTURER\",'SizeRange':'CP_SIZE_RANGE','PackType':\"CP_DEAL\",\n",
    "\n",
    "                                'Franchise':\"CP_FRANCHISE\", 'Brand':\"CP_BRAND\",\n",
    "                                'SubBrand':\"CP_SUBBRAND\", 'Segment':\"CP_SEGMENT\", 'PriceTier':\"CP_PRICE_TIER\",'SubBrand Variant':'CP_SUBBRAND_VARIANT',\n",
    "                                'Form':\"CP_FORM\", 'Multi':\"CP_MULTI\",\n",
    "                                 'Item':\"PROD\", 'UPC':\"Product_Code\"},inplace=True)"
   ]
  },
  {
   "cell_type": "code",
   "execution_count": null,
   "metadata": {
    "scrolled": true
   },
   "outputs": [],
   "source": [
    "Distri_Sku_full.columns"
   ]
  },
  {
   "cell_type": "code",
   "execution_count": null,
   "metadata": {},
   "outputs": [],
   "source": [
    "pd.set_option('display.max_columns',None)\n",
    "Distri_Sku_full.columns"
   ]
  },
  {
   "cell_type": "code",
   "execution_count": null,
   "metadata": {},
   "outputs": [],
   "source": [
    "Time_Period=list(Distri_Sku.columns[28:29])+list(Distri_Sku_full.columns[33:34])+list(Distri_Sku_full.columns[23:25])+list(Distri_Sku_full.columns[21:22])+list(Distri_Sku_full.columns[17:18])\n",
    "print(Time_Period)"
   ]
  },
  {
   "cell_type": "code",
   "execution_count": null,
   "metadata": {},
   "outputs": [],
   "source": []
  },
  {
   "cell_type": "markdown",
   "metadata": {},
   "source": [
    "**Moving Time Period to Rows and Facts to Columns**"
   ]
  },
  {
   "cell_type": "code",
   "execution_count": null,
   "metadata": {},
   "outputs": [],
   "source": [
    "df1=pd.melt(Distri_Sku_full, id_vars =[\"MKT\",\"PROD\",\"CP_MANUFACTURER\",\"CP_FRANCHISE\",\"CP_BRAND\",\"CP_SUBBRAND\",\"Product_Code\", 'CP_SUBBRAND_VARIANT',\"CP_PRICE_TIER\",\"CP_DEAL\",\"CP_MULTI\",\"CP_SEGMENT\",'CP_SIZE_RANGE',\"Facts\"], value_vars =Time_Period,var_name=\"Time_Period\")\n",
    "\n",
    "df1[\"value\"]=df1[\"value\"].apply(pd.to_numeric)"
   ]
  },
  {
   "cell_type": "code",
   "execution_count": null,
   "metadata": {},
   "outputs": [],
   "source": [
    "df2=df1.pivot_table(index=[\"MKT\",\"PROD\",\"CP_MANUFACTURER\",\"CP_FRANCHISE\",\"CP_BRAND\",\"CP_SUBBRAND\",\"Product_Code\", 'CP_SUBBRAND_VARIANT',\"CP_PRICE_TIER\",\"CP_DEAL\",\"CP_MULTI\",\"CP_SEGMENT\",'CP_SIZE_RANGE',\"Time_Period\"],columns=\"Facts\")\n",
    "\n",
    "df2.columns=df2.columns.droplevel().rename(None)\n",
    "df2.reset_index(inplace =True)"
   ]
  },
  {
   "cell_type": "code",
   "execution_count": null,
   "metadata": {},
   "outputs": [],
   "source": [
    "# sorting \"MKT\",\"Time_Period\",\"PROD\"\n",
    "df2.sort_values(['MKT','Time_Period','PROD'],inplace=True)"
   ]
  },
  {
   "cell_type": "code",
   "execution_count": null,
   "metadata": {},
   "outputs": [],
   "source": [
    "df2.columns"
   ]
  },
  {
   "cell_type": "code",
   "execution_count": null,
   "metadata": {},
   "outputs": [],
   "source": [
    "df2['Prcnt_ACV']=df2[\"Store_Selling\"]\n",
    "\n",
    "final_column_sorting=[\"MKT\",\"Time_Period\",\"PROD\",\"CP_MANUFACTURER\",\"CP_FRANCHISE\",\"CP_BRAND\",\"CP_SUBBRAND\",\"Product_Code\",\"CP_PRICE_TIER\",\"CP_SIZE_RANGE\",\"CP_DEAL\",\"CP_SEGMENT\",\"Doll_Shr\",\"Doll_Shr_Chg\",\"Base_Doll_Shr\",\n",
    "                      \"Base_Doll_Shr_Chg\",\"Store_Selling\",\"Store_Selling_Chg\",\"Doll_Velocity\",\"Doll_Velocity_Chg\",\n",
    "                      \"Cum_Distri_Pts\",\"Cum_Distri_Pts_Chg\",\"Dollars\",\"Dollars_Chg\",\"Prcnt_ACV\",\"Units\",\"Units_velocity\",'CP_SUBBRAND_VARIANT','CP_MULTI']\n",
    "\n",
    "Distri_Sku_full_final=df2[final_column_sorting]\n",
    "\n",
    "Distri_Sku_full_final[\"Record_ID\"]=range(1,len(Distri_Sku_full_final)+1)\n",
    "\n"
   ]
  },
  {
   "cell_type": "code",
   "execution_count": null,
   "metadata": {},
   "outputs": [],
   "source": [
    "len(Distri_Sku_full_final.columns)"
   ]
  },
  {
   "cell_type": "code",
   "execution_count": null,
   "metadata": {},
   "outputs": [],
   "source": [
    "Distri_Sku_full_final.head(5)"
   ]
  },
  {
   "cell_type": "markdown",
   "metadata": {},
   "source": [
    "**Exporting Dataframe to ouMWut folder**"
   ]
  },
  {
   "cell_type": "code",
   "execution_count": null,
   "metadata": {},
   "outputs": [],
   "source": [
    "Distri_Sku_full_final.to_csv(path_MW+\"Distri_Sku_full_data.csv\",index=False)"
   ]
  },
  {
   "cell_type": "code",
   "execution_count": null,
   "metadata": {},
   "outputs": [],
   "source": [
    "### Distri Cat SKU Data"
   ]
  },
  {
   "cell_type": "code",
   "execution_count": null,
   "metadata": {},
   "outputs": [],
   "source": [
    "Distri_Cat=UPC_Monthly_MW.copy()"
   ]
  },
  {
   "cell_type": "code",
   "execution_count": null,
   "metadata": {},
   "outputs": [],
   "source": [
    "Markets=[\"Ahold\",\"Alb/Sfy\",\"BJs\",\"CVS\",'Kmart',\"Dollar General\",\"Family Dollar\",\"Meijer\",\"Publix\",\"Rite Aid\",\n",
    "         \"Sams\",\"Shoprite\",\"Target\",\"US AOC\",\"US Drug\",\"US Food\",\"Walgreens\",\"Walmart\"]\n",
    "\n",
    "Distri_Cat_Data_Facts=['$ Shr - CP CATEGORY','TDP','$', '%ACV']\n"
   ]
  },
  {
   "cell_type": "code",
   "execution_count": null,
   "metadata": {},
   "outputs": [],
   "source": [
    "Distri_Cat= Distri_Cat[Distri_Cat[\"Facts\"].isin(Distri_Cat_Data_Facts)]\n",
    "Distri_Cat= Distri_Cat[Distri_Cat['Markets'].isin(Markets)]"
   ]
  },
  {
   "cell_type": "code",
   "execution_count": null,
   "metadata": {},
   "outputs": [],
   "source": [
    "print(\"Missing Facts ->\",len(Distri_Cat_Data_Facts)-len(set(Distri_Cat[\"Facts\"])),\"Missing Markets -> \",len(Markets)-len(set(Distri_Cat[\"Markets\"])))"
   ]
  },
  {
   "cell_type": "markdown",
   "metadata": {},
   "source": [
    "**Fact Mapping**"
   ]
  },
  {
   "cell_type": "code",
   "execution_count": null,
   "metadata": {},
   "outputs": [],
   "source": [
    "Distri_Cat[\"Facts\"].replace(Distri_Fact_Mapping,inplace=True)"
   ]
  },
  {
   "cell_type": "code",
   "execution_count": null,
   "metadata": {},
   "outputs": [],
   "source": [
    "Distri_Cat.head(3)"
   ]
  },
  {
   "cell_type": "markdown",
   "metadata": {},
   "source": [
    "**Column name Change**"
   ]
  },
  {
   "cell_type": "code",
   "execution_count": null,
   "metadata": {},
   "outputs": [],
   "source": [
    "Distri_Cat.columns"
   ]
  },
  {
   "cell_type": "code",
   "execution_count": null,
   "metadata": {},
   "outputs": [],
   "source": [
    "Distri_Cat.rename(columns={'Markets':\"MKT\", 'Manufacturer':\"CP_MANUFACTURER\", 'Franchise':\"CP_FRANCHISE\",\n",
    "                           'Brand':\"CP_BRAND\",'SubBrand':\"CP_SUBBRAND\",\n",
    "                           'Item':\"PROD\", 'UPC':\"Product_Code\"},inplace=True)"
   ]
  },
  {
   "cell_type": "code",
   "execution_count": null,
   "metadata": {},
   "outputs": [],
   "source": [
    "Time_Period=list(Distri_Sku.columns[28:29])+list(Distri_Cat.columns[33:34])+list(Distri_Cat.columns[23:25])+list(Distri_Cat.columns[21:22])+list(Distri_Cat.columns[17:18])\n",
    "print(Time_Period)"
   ]
  },
  {
   "cell_type": "markdown",
   "metadata": {},
   "source": [
    "**Moving Time Period to Rows and Facts to Columns**"
   ]
  },
  {
   "cell_type": "code",
   "execution_count": null,
   "metadata": {},
   "outputs": [],
   "source": []
  },
  {
   "cell_type": "code",
   "execution_count": null,
   "metadata": {},
   "outputs": [],
   "source": [
    "df1=pd.melt(Distri_Cat, id_vars =[\"MKT\",\"PROD\",\"CP_MANUFACTURER\",\"CP_FRANCHISE\",\"CP_BRAND\",\"CP_SUBBRAND\",\"Product_Code\",\"Facts\"], value_vars =Time_Period,var_name=\"Time_Period\")\n",
    "\n",
    "df1[\"value\"]=df1[\"value\"].apply(pd.to_numeric)"
   ]
  },
  {
   "cell_type": "code",
   "execution_count": null,
   "metadata": {},
   "outputs": [],
   "source": [
    "df2=df1.pivot_table(index=[\"MKT\",\"PROD\",\"CP_MANUFACTURER\",\"CP_FRANCHISE\",\"CP_BRAND\",\"CP_SUBBRAND\",\"Product_Code\",\"Time_Period\"],columns='Facts')\n",
    "\n",
    "df2.columns=df2.columns.droplevel().rename(None)\n",
    "df2.reset_index(inplace =True)"
   ]
  },
  {
   "cell_type": "code",
   "execution_count": null,
   "metadata": {},
   "outputs": [],
   "source": [
    "from pandas.api.types import CategoricalDtype\n",
    "\n",
    "Time_Period_order = CategoricalDtype(\n",
    "    Time_Period, \n",
    "    ordered=True\n",
    ")\n",
    "\n",
    "df2['Time_Period'] = df2['Time_Period'].astype(Time_Period_order)\n",
    "\n",
    "\n",
    "df2.sort_values(['MKT','PROD','Time_Period'],inplace=True)"
   ]
  },
  {
   "cell_type": "code",
   "execution_count": null,
   "metadata": {},
   "outputs": [],
   "source": [
    "df2['Prcnt_ACV']=df2[\"Store_Selling\"]\n",
    "\n",
    "final_column_sorting=[\"MKT\",\"PROD\",\"CP_MANUFACTURER\",\"CP_FRANCHISE\",\"CP_BRAND\",\"CP_SUBBRAND\",\"Product_Code\",\"Time_Period\",\n",
    "                      \"Doll_Shr\",\"Cum_Distri_Pts\",\"Dollars\",\"Store_Selling\",\"Prcnt_ACV\"]\n",
    "\n",
    "Distri_Cat_final=df2[final_column_sorting]\n",
    "\n",
    "Distri_Cat_final[\"Record_ID\"]=range(1,len(Distri_Cat_final)+1)\n",
    "\n"
   ]
  },
  {
   "cell_type": "code",
   "execution_count": null,
   "metadata": {},
   "outputs": [],
   "source": [
    "Distri_Cat_final.columns"
   ]
  },
  {
   "cell_type": "code",
   "execution_count": null,
   "metadata": {},
   "outputs": [],
   "source": [
    "len(Distri_Cat_final.columns)"
   ]
  },
  {
   "cell_type": "code",
   "execution_count": null,
   "metadata": {},
   "outputs": [],
   "source": [
    "Distri_Cat_final.head(5)"
   ]
  },
  {
   "cell_type": "markdown",
   "metadata": {},
   "source": [
    "**Exporting Dataframe to ouMWut folder**"
   ]
  },
  {
   "cell_type": "code",
   "execution_count": null,
   "metadata": {},
   "outputs": [],
   "source": [
    "Distri_Cat_final.to_csv(path_MW+\"Distri_category_skus_Data.csv\",index=False)"
   ]
  },
  {
   "cell_type": "code",
   "execution_count": null,
   "metadata": {},
   "outputs": [],
   "source": []
  },
  {
   "cell_type": "markdown",
   "metadata": {},
   "source": [
    "## MTB"
   ]
  },
  {
   "cell_type": "code",
   "execution_count": null,
   "metadata": {},
   "outputs": [],
   "source": [
    "# path to store Output files\n",
    "path_MTB=\"//falmumapp34/Nielsen Connect Transition & Maintenance (20-SCP-3650)/05. Output Data/5P Output/MTB/\""
   ]
  },
  {
   "cell_type": "code",
   "execution_count": null,
   "metadata": {},
   "outputs": [],
   "source": [
    "UPC_Monthly_MTB= UPC_Monthly[UPC_Monthly[\"ShareBasis\"]==\"MANUAL\"]\n",
    "UPC_Monthly_MTB.head(2)"
   ]
  },
  {
   "cell_type": "code",
   "execution_count": null,
   "metadata": {},
   "outputs": [],
   "source": [
    "New_Column=['ShareBasis',\"Manufacturer\",\"Franchise\",\"Brand\",\"SubBrand\",\"SubBrand_Variant\",\"Size\",\"Adult_Kids\",\"Item\",\"UPC\"]\n",
    "\n",
    "UPC_Monthly_MTB[New_Column] = UPC_Monthly_MTB['Products'].str.split('|',n=9,expand=True)\n",
    "\n",
    "\n",
    "UPC_Monthly_MTB[New_Column].fillna(value=\"\")\n",
    "UPC_Monthly_MTB.head(3)\n",
    "\n",
    "# Moving columns after \"Market\"\n",
    "UPC_Monthly_MTB = movecol(UPC_Monthly_MTB, \n",
    "             cols_to_move=New_Column, \n",
    "             ref_col='Markets',\n",
    "             place='After')\n",
    "UPC_Monthly_MTB.head(3)"
   ]
  },
  {
   "cell_type": "code",
   "execution_count": null,
   "metadata": {},
   "outputs": [],
   "source": [
    "UPC_Monthly_MTB.columns"
   ]
  },
  {
   "cell_type": "code",
   "execution_count": null,
   "metadata": {
    "scrolled": true
   },
   "outputs": [],
   "source": [
    "UPC_Monthly_MTB.shape"
   ]
  },
  {
   "cell_type": "markdown",
   "metadata": {},
   "source": [
    "**Strip Columns**"
   ]
  },
  {
   "cell_type": "code",
   "execution_count": null,
   "metadata": {},
   "outputs": [],
   "source": [
    "cols=list(UPC_Monthly_MTB.columns[0:13])\n",
    "UPC_Monthly_MTB[cols]=UPC_Monthly_MTB[cols].apply(lambda x : x.str.strip())"
   ]
  },
  {
   "cell_type": "code",
   "execution_count": null,
   "metadata": {},
   "outputs": [],
   "source": [
    "len(set(UPC_Monthly_MTB.columns))"
   ]
  },
  {
   "cell_type": "markdown",
   "metadata": {},
   "source": [
    " "
   ]
  },
  {
   "cell_type": "markdown",
   "metadata": {},
   "source": [
    "### Distri Sku Data"
   ]
  },
  {
   "cell_type": "code",
   "execution_count": null,
   "metadata": {},
   "outputs": [],
   "source": [
    "Distri_Sku=UPC_Monthly_MTB.copy()"
   ]
  },
  {
   "cell_type": "code",
   "execution_count": null,
   "metadata": {},
   "outputs": [],
   "source": [
    "Markets=[\"Ahold\",\"Alb/Sfy\",\"BJs\",\"CVS\",\"Dollar General\",\"Family Dollar\",\"Meijer\",\"Publix\",\"Rite Aid\",\n",
    "         \"Sams\",\"Shoprite\",\"Target\",\"US AOC\",\"US Drug\",\"US Food\",\"Walgreens\",\"Walmart\"]"
   ]
  },
  {
   "cell_type": "code",
   "execution_count": null,
   "metadata": {},
   "outputs": [],
   "source": [
    "Distri_Sku= Distri_Sku[Distri_Sku[\"Facts\"].isin(Distri_Sku_Facts)]\n",
    "Distri_Sku= Distri_Sku[Distri_Sku['Markets'].isin(Markets)]"
   ]
  },
  {
   "cell_type": "code",
   "execution_count": null,
   "metadata": {},
   "outputs": [],
   "source": [
    "print(\"Missing Facts ->\",len(Distri_Sku_Facts)-len(set(Distri_Sku[\"Facts\"])),\"Missing Markets -> \",len(Markets)-len(set(Distri_Sku[\"Markets\"])))"
   ]
  },
  {
   "cell_type": "markdown",
   "metadata": {},
   "source": [
    "**Fact Mapping**"
   ]
  },
  {
   "cell_type": "code",
   "execution_count": null,
   "metadata": {},
   "outputs": [],
   "source": [
    "Distri_Sku[\"Facts\"].replace(Distri_Fact_Mapping,inplace=True)"
   ]
  },
  {
   "cell_type": "code",
   "execution_count": null,
   "metadata": {},
   "outputs": [],
   "source": [
    "Distri_Sku.head(3)"
   ]
  },
  {
   "cell_type": "markdown",
   "metadata": {},
   "source": [
    "**Column name Change**"
   ]
  },
  {
   "cell_type": "code",
   "execution_count": null,
   "metadata": {},
   "outputs": [],
   "source": [
    "Distri_Sku.columns"
   ]
  },
  {
   "cell_type": "code",
   "execution_count": null,
   "metadata": {},
   "outputs": [],
   "source": [
    "Distri_Sku.rename(columns={\"Markets\":\"MKT\",\"Manufacturer\":\"CP_MANUFACTURER\",\n",
    "                            \"Franchise\":\"CP_FRANCHISE\",\"Brand\":\"CP_BRAND\",\"SubBrand\":\"CP_SUBBRAND\",\n",
    "                           \"SubBrand_Variant\":\"CP_SUBBRAND_VARIANT\",\"ShareBasis\":\"CP_SHARE_BASIS\",\n",
    "                           \"UPC\":\"Product_Code\",\"Item\":\"PROD\"},inplace=True)"
   ]
  },
  {
   "cell_type": "code",
   "execution_count": null,
   "metadata": {
    "scrolled": true
   },
   "outputs": [],
   "source": [
    "Distri_Sku.columns"
   ]
  },
  {
   "cell_type": "code",
   "execution_count": null,
   "metadata": {},
   "outputs": [],
   "source": [
    "Distri_Sku.info()"
   ]
  },
  {
   "cell_type": "code",
   "execution_count": null,
   "metadata": {},
   "outputs": [],
   "source": [
    "Time_Period=list(Distri_Sku.columns[21:22])+list(Distri_Sku.columns[16:18])+list(Distri_Sku.columns[15:16])+list(Distri_Sku.columns[14:15])\n",
    "print(Time_Period)"
   ]
  },
  {
   "cell_type": "markdown",
   "metadata": {},
   "source": [
    "**Moving Time Period to Rows and Facts to Columns**"
   ]
  },
  {
   "cell_type": "code",
   "execution_count": null,
   "metadata": {},
   "outputs": [],
   "source": [
    "df1=pd.melt(Distri_Sku, id_vars =[\"MKT\",\"PROD\",\"CP_MANUFACTURER\",\"CP_FRANCHISE\",\"CP_BRAND\",\"CP_SUBBRAND\",\"Product_Code\",\"CP_SUBBRAND_VARIANT\",\"CP_SHARE_BASIS\",\"Facts\"], value_vars =Time_Period,var_name=\"Time_Period\")\n",
    "\n",
    "df1[\"value\"]=df1[\"value\"].apply(pd.to_numeric)"
   ]
  },
  {
   "cell_type": "code",
   "execution_count": null,
   "metadata": {},
   "outputs": [],
   "source": [
    "df2=df1.pivot_table(index=[\"MKT\",\"PROD\",\"CP_MANUFACTURER\",\"CP_FRANCHISE\",\"CP_BRAND\",\"CP_SUBBRAND\",\"CP_SUBBRAND_VARIANT\",\"CP_SHARE_BASIS\",\"Product_Code\",\"Time_Period\"],columns='Facts')\n",
    "\n",
    "df2.columns=df2.columns.droplevel().rename(None)\n",
    "df2.reset_index(inplace =True)"
   ]
  },
  {
   "cell_type": "code",
   "execution_count": null,
   "metadata": {},
   "outputs": [],
   "source": [
    "from pandas.api.types import CategoricalDtype\n",
    "\n",
    "Time_Period_order = CategoricalDtype(\n",
    "    Time_Period, \n",
    "    ordered=True\n",
    ")\n",
    "\n",
    "df2['Time_Period'] = df2['Time_Period'].astype(Time_Period_order)\n",
    "\n",
    "df2.sort_values(['MKT','PROD','Time_Period'],inplace=True)"
   ]
  },
  {
   "cell_type": "code",
   "execution_count": null,
   "metadata": {},
   "outputs": [],
   "source": [
    "final_column_sorting=[\"MKT\",\"PROD\",\"CP_MANUFACTURER\",\"CP_FRANCHISE\",\"CP_BRAND\",\"CP_SUBBRAND\",\"Product_Code\",\"Time_Period\",\n",
    "                      \"Doll_Shr\",\"Doll_Shr_Chg\",\"Base_Doll_Shr\",\"Base_Doll_Shr_Chg\",\"Store_Selling\",\"Store_Selling_Chg\",\n",
    "                      \"Doll_Velocity\",\"Doll_Velocity_Chg\",\"Cum_Distri_Pts\",\"Cum_Distri_Pts_Chg\",\"Dollars\",\"Dollars_Chg\",\"Units\",\n",
    "                     \"CP_SHARE_BASIS\",\"CP_SUBBRAND_VARIANT\"]\n",
    "\n",
    "Distri_Sku_final=df2[final_column_sorting]\n",
    "\n",
    "Distri_Sku_final[\"Record_ID\"]=range(1,len(Distri_Sku_final)+1)\n",
    "\n"
   ]
  },
  {
   "cell_type": "markdown",
   "metadata": {},
   "source": [
    "**Exporting Dataframe to ouMTBut folder**"
   ]
  },
  {
   "cell_type": "code",
   "execution_count": null,
   "metadata": {},
   "outputs": [],
   "source": [
    "Distri_Sku_final.to_csv(path_MTB+\"Distri_sku_data.csv\",index=False)"
   ]
  },
  {
   "cell_type": "code",
   "execution_count": null,
   "metadata": {},
   "outputs": [],
   "source": []
  },
  {
   "cell_type": "markdown",
   "metadata": {},
   "source": [
    "### Distri Sku Full Data"
   ]
  },
  {
   "cell_type": "code",
   "execution_count": null,
   "metadata": {},
   "outputs": [],
   "source": [
    "Distri_Sku_full=UPC_Monthly_MTB.copy()"
   ]
  },
  {
   "cell_type": "code",
   "execution_count": null,
   "metadata": {},
   "outputs": [],
   "source": [
    "Markets=[\"Ahold\",\"Alb/Sfy\",\"BJs\",\"CVS\",\"Dollar General\",\"Family Dollar\",\"Meijer\",\"Publix\",\n",
    "         \"Rite Aid\",\"Sams\",\"Shoprite\",\"Target\",\"US AOC\",\"US Drug\",\"US Food\",\"Walgreens\",\"Walmart\"]"
   ]
  },
  {
   "cell_type": "code",
   "execution_count": null,
   "metadata": {},
   "outputs": [],
   "source": [
    "Distri_Sku_full= Distri_Sku_full[Distri_Sku_full[\"Facts\"].isin(Distr_Sku_Full_Data_Facts)]\n",
    "Distri_Sku_full= Distri_Sku_full[Distri_Sku_full['Markets'].isin(Markets)]"
   ]
  },
  {
   "cell_type": "code",
   "execution_count": null,
   "metadata": {},
   "outputs": [],
   "source": [
    "print(\"Missing Facts ->\",len(Distr_Sku_Full_Data_Facts)-len(set(Distri_Sku_full[\"Facts\"])),\"Missing Markets -> \",len(Markets)-len(set(Distri_Sku_full[\"Markets\"])))"
   ]
  },
  {
   "cell_type": "markdown",
   "metadata": {},
   "source": [
    "**Fact Mapping**"
   ]
  },
  {
   "cell_type": "code",
   "execution_count": null,
   "metadata": {},
   "outputs": [],
   "source": [
    "Distri_Sku_full[\"Facts\"].replace(Distri_Fact_Mapping,inplace=True)"
   ]
  },
  {
   "cell_type": "code",
   "execution_count": null,
   "metadata": {},
   "outputs": [],
   "source": [
    "set(Distri_Sku_full[\"Size\"])"
   ]
  },
  {
   "cell_type": "code",
   "execution_count": null,
   "metadata": {},
   "outputs": [],
   "source": [
    "Distri_Sku_full = Distri_Sku_full[Distri_Sku_full[\"Size\"] != \"BANDED PACK\"]"
   ]
  },
  {
   "cell_type": "code",
   "execution_count": null,
   "metadata": {},
   "outputs": [],
   "source": [
    "Distri_Sku_full[\"Size\"] = Distri_Sku_full[\"Size\"].str.replace(\"PK\", \"COUNT\")"
   ]
  },
  {
   "cell_type": "code",
   "execution_count": null,
   "metadata": {
    "scrolled": true
   },
   "outputs": [],
   "source": [
    "Distri_Sku_full.head(3)"
   ]
  },
  {
   "cell_type": "markdown",
   "metadata": {},
   "source": [
    "**Column name Change**"
   ]
  },
  {
   "cell_type": "code",
   "execution_count": null,
   "metadata": {},
   "outputs": [],
   "source": [
    "Distri_Sku_full.columns"
   ]
  },
  {
   "cell_type": "code",
   "execution_count": null,
   "metadata": {},
   "outputs": [],
   "source": [
    "Distri_Sku_full.rename(columns={'Markets':\"MKT\", 'Manufacturer':\"CP_MANUFACTURER\",\n",
    "                                'Franchise':\"CP_FRANCHISE\", 'Brand':\"CP_BRAND\",\"SubBrand_Variant\":\"CP_SUBBRAND_VARIANT\",\n",
    "                                'SubBrand':\"CP_SUBBRAND\", 'Segment':\"CP_SEGMENT\", 'PriceTier':\"CP_PRICE_TIER\",\n",
    "                                'Form':\"CP_FORM\", 'Multi':\"CP_MULTI\",\"ShareBasis\":\"CP_SHARE_BASIS\",\"Size\":\"TOTAL_SIZE\",\n",
    "                                'Item':\"PROD\", 'UPC':\"Product_Code\"},inplace=True)"
   ]
  },
  {
   "cell_type": "code",
   "execution_count": null,
   "metadata": {
    "scrolled": true
   },
   "outputs": [],
   "source": [
    "Distri_Sku_full.head(5)"
   ]
  },
  {
   "cell_type": "code",
   "execution_count": null,
   "metadata": {},
   "outputs": [],
   "source": [
    "Time_Period=list(Distri_Sku.columns[21:22])+list(Distri_Sku.columns[16:18])+list(Distri_Sku.columns[15:16])+list(Distri_Sku.columns[14:15])\n",
    "print(Time_Period)"
   ]
  },
  {
   "cell_type": "markdown",
   "metadata": {},
   "source": [
    "**Moving Time Period to Rows and Facts to Columns**"
   ]
  },
  {
   "cell_type": "code",
   "execution_count": null,
   "metadata": {},
   "outputs": [],
   "source": [
    "df1=pd.melt(Distri_Sku_full, id_vars =[\"MKT\",\"PROD\",\"CP_MANUFACTURER\",\"CP_FRANCHISE\",\"CP_BRAND\",\"CP_SUBBRAND\",\"Product_Code\",\"CP_SUBBRAND_VARIANT\",\"TOTAL_SIZE\",\"CP_SHARE_BASIS\",\"Facts\"], value_vars =Time_Period,var_name=\"Time_Period\")\n",
    "\n",
    "df1[\"value\"]=df1[\"value\"].apply(pd.to_numeric)"
   ]
  },
  {
   "cell_type": "code",
   "execution_count": null,
   "metadata": {},
   "outputs": [],
   "source": [
    "df2=df1.pivot_table(index=[\"MKT\",\"Time_Period\",\"PROD\",\"CP_MANUFACTURER\",\"CP_FRANCHISE\",\"CP_BRAND\",\"CP_SUBBRAND\",\"Product_Code\",\"CP_SUBBRAND_VARIANT\",\"TOTAL_SIZE\",\"CP_SHARE_BASIS\"],columns='Facts')\n",
    "\n",
    "df2.columns=df2.columns.droplevel().rename(None)\n",
    "df2.reset_index(inplace =True)"
   ]
  },
  {
   "cell_type": "code",
   "execution_count": null,
   "metadata": {},
   "outputs": [],
   "source": [
    "# sorting \"MKT\",\"Time_Period\",\"PROD\"\n",
    "df2.sort_values(['MKT','Time_Period','PROD'],inplace=True)"
   ]
  },
  {
   "cell_type": "code",
   "execution_count": null,
   "metadata": {},
   "outputs": [],
   "source": [
    "df2[\"Dummy1\"] = \"Dummy\"\n",
    "df2[\"Dummy2\"] = \"Dummy\""
   ]
  },
  {
   "cell_type": "code",
   "execution_count": null,
   "metadata": {},
   "outputs": [],
   "source": [
    "df2['Prcnt_ACV']=df2[\"Store_Selling\"]\n",
    "\n",
    "final_column_sorting=[\"MKT\",\"Time_Period\",\"PROD\",\"CP_MANUFACTURER\",\"CP_FRANCHISE\",\"CP_BRAND\",\"CP_SUBBRAND\",\"Product_Code\",\"CP_SUBBRAND_VARIANT\",\n",
    "                      \"TOTAL_SIZE\",\"Dummy1\", \"Dummy2\",\n",
    "                      \"Doll_Shr\",\"Doll_Shr_Chg\",\"Base_Doll_Shr\",\n",
    "                      \"Base_Doll_Shr_Chg\",\"Store_Selling\",\"Store_Selling_Chg\",\"Doll_Velocity\",\"Doll_Velocity_Chg\",\n",
    "                      \"Cum_Distri_Pts\",\"Cum_Distri_Pts_Chg\",\"Dollars\",\"Dollars_Chg\",\"Prcnt_ACV\",\"Units\",\"Units_velocity\",\"CP_SHARE_BASIS\"]\n",
    "\n",
    "Distri_Sku_full_final=df2[final_column_sorting]\n",
    "\n",
    "Distri_Sku_full_final[\"Record_ID\"]=range(1,len(Distri_Sku_full_final)+1)\n",
    "\n"
   ]
  },
  {
   "cell_type": "markdown",
   "metadata": {},
   "source": [
    "**Exporting Dataframe to ouMTBut folder**"
   ]
  },
  {
   "cell_type": "code",
   "execution_count": null,
   "metadata": {},
   "outputs": [],
   "source": [
    "Distri_Sku_full_final.to_csv(path_MTB+\"Distri_Sku_full_data.csv\",index=False)"
   ]
  },
  {
   "cell_type": "code",
   "execution_count": null,
   "metadata": {},
   "outputs": [],
   "source": []
  },
  {
   "cell_type": "markdown",
   "metadata": {},
   "source": [
    "### Distri Cat Data"
   ]
  },
  {
   "cell_type": "code",
   "execution_count": null,
   "metadata": {},
   "outputs": [],
   "source": [
    "Distri_Cat=UPC_Monthly_MTB.copy()"
   ]
  },
  {
   "cell_type": "code",
   "execution_count": null,
   "metadata": {},
   "outputs": [],
   "source": [
    "Markets=[\"Ahold\",\"Alb/Sfy\",\"BJs\",\"CVS\",\"Dollar General\",\"Family Dollar\",\"Meijer\",\"Publix\",\"Rite Aid\",\n",
    "         \"Sams\",\"Shoprite\",\"Target\",\"US AOC\",\"US Drug\",\"US Food\",\"Walgreens\",\"Walmart\"]"
   ]
  },
  {
   "cell_type": "code",
   "execution_count": null,
   "metadata": {},
   "outputs": [],
   "source": [
    "Distri_Cat= Distri_Cat[Distri_Cat[\"Facts\"].isin(Distri_Cat_Data_Facts)]\n",
    "Distri_Cat= Distri_Cat[Distri_Cat['Markets'].isin(Markets)]"
   ]
  },
  {
   "cell_type": "code",
   "execution_count": null,
   "metadata": {},
   "outputs": [],
   "source": [
    "print(\"Missing Facts ->\",len(Distri_Cat_Data_Facts)-len(set(Distri_Cat[\"Facts\"])),\"Missing Markets -> \",len(Markets)-len(set(Distri_Cat[\"Markets\"])))"
   ]
  },
  {
   "cell_type": "markdown",
   "metadata": {},
   "source": [
    "**Fact Mapping**"
   ]
  },
  {
   "cell_type": "code",
   "execution_count": null,
   "metadata": {},
   "outputs": [],
   "source": [
    "Distri_Cat[\"Facts\"].replace(Distri_Fact_Mapping,inplace=True)"
   ]
  },
  {
   "cell_type": "code",
   "execution_count": null,
   "metadata": {},
   "outputs": [],
   "source": [
    "Distri_Cat.head(3)"
   ]
  },
  {
   "cell_type": "markdown",
   "metadata": {},
   "source": [
    "**Column name Change**"
   ]
  },
  {
   "cell_type": "code",
   "execution_count": null,
   "metadata": {},
   "outputs": [],
   "source": [
    "Distri_Cat.columns"
   ]
  },
  {
   "cell_type": "code",
   "execution_count": null,
   "metadata": {},
   "outputs": [],
   "source": [
    "Distri_Cat.rename(columns={'Markets':\"MKT\", 'Manufacturer':\"CP_MANUFACTURER\", 'Franchise':\"CP_FRANCHISE\",\"Item\":\"PROD\",\n",
    "                           'Brand':\"CP_BRAND\",'SubBrand':\"CP_SUBBRAND\",\"ShareBasis\":\"CP_SHARE_BASIS\",\n",
    "                            'UPC':\"Product_Code\"},inplace=True)"
   ]
  },
  {
   "cell_type": "code",
   "execution_count": null,
   "metadata": {
    "scrolled": false
   },
   "outputs": [],
   "source": [
    "Distri_Cat.columns"
   ]
  },
  {
   "cell_type": "code",
   "execution_count": null,
   "metadata": {},
   "outputs": [],
   "source": [
    "Time_Period=list(Distri_Sku.columns[21:22])+list(Distri_Sku.columns[16:18])+list(Distri_Sku.columns[15:16])+list(Distri_Sku.columns[14:15])\n",
    "print(Time_Period)"
   ]
  },
  {
   "cell_type": "markdown",
   "metadata": {},
   "source": [
    "**Moving Time Period to Rows and Facts to Columns**"
   ]
  },
  {
   "cell_type": "code",
   "execution_count": null,
   "metadata": {},
   "outputs": [],
   "source": [
    "df1=pd.melt(Distri_Cat, id_vars =[\"MKT\",\"PROD\",\"CP_MANUFACTURER\",\"CP_FRANCHISE\",\"CP_BRAND\",\"CP_SUBBRAND\",\"Product_Code\",\"Facts\",\"CP_SHARE_BASIS\"], value_vars =Time_Period,var_name=\"Time_Period\")\n",
    "\n",
    "df1[\"value\"]=df1[\"value\"].apply(pd.to_numeric)"
   ]
  },
  {
   "cell_type": "code",
   "execution_count": null,
   "metadata": {},
   "outputs": [],
   "source": [
    "df2=df1.pivot_table(index=[\"MKT\",\"PROD\",\"CP_MANUFACTURER\",\"CP_FRANCHISE\",\"CP_BRAND\",\"CP_SUBBRAND\",\"Product_Code\",\"Time_Period\",\"CP_SHARE_BASIS\"],columns='Facts')\n",
    "\n",
    "df2.columns=df2.columns.droplevel().rename(None)\n",
    "df2.reset_index(inplace =True)"
   ]
  },
  {
   "cell_type": "code",
   "execution_count": null,
   "metadata": {},
   "outputs": [],
   "source": [
    "from pandas.api.types import CategoricalDtype\n",
    "\n",
    "Time_Period_order = CategoricalDtype(\n",
    "    Time_Period, \n",
    "    ordered=True\n",
    ")\n",
    "\n",
    "df2['Time_Period'] = df2['Time_Period'].astype(Time_Period_order)\n",
    "\n",
    "\n",
    "df2.sort_values(['MKT','PROD','Time_Period'],inplace=True)"
   ]
  },
  {
   "cell_type": "code",
   "execution_count": null,
   "metadata": {},
   "outputs": [],
   "source": [
    "df2['Prcnt_ACV']=df2[\"Store_Selling\"]\n",
    "\n",
    "final_column_sorting=[\"MKT\",\"PROD\",\"CP_MANUFACTURER\",\"CP_FRANCHISE\",\"CP_BRAND\",\"CP_SUBBRAND\",\"Product_Code\",\"Time_Period\",\n",
    "                      \"Doll_Shr\",\"Cum_Distri_Pts\",\"Dollars\",\"Store_Selling\",\"Prcnt_ACV\",\"CP_SHARE_BASIS\"]\n",
    "\n",
    "Distri_Cat_final=df2[final_column_sorting]\n",
    "\n",
    "Distri_Cat_final[\"Record_ID\"]=range(1,len(Distri_Cat_final)+1)\n",
    "\n"
   ]
  },
  {
   "cell_type": "markdown",
   "metadata": {},
   "source": [
    "**Exporting Dataframe to ouMTBut folder**"
   ]
  },
  {
   "cell_type": "code",
   "execution_count": null,
   "metadata": {},
   "outputs": [],
   "source": [
    "Distri_Cat_final.to_csv(path_MTB+\"Distri_category_skus_Data.csv\",index=False)"
   ]
  },
  {
   "cell_type": "code",
   "execution_count": null,
   "metadata": {},
   "outputs": [],
   "source": []
  },
  {
   "cell_type": "code",
   "execution_count": null,
   "metadata": {},
   "outputs": [],
   "source": []
  },
  {
   "cell_type": "markdown",
   "metadata": {},
   "source": [
    "## PTB"
   ]
  },
  {
   "cell_type": "code",
   "execution_count": null,
   "metadata": {},
   "outputs": [],
   "source": [
    "# path to store Output files\n",
    "path_PTB=\"//falmumapp34/Nielsen Connect Transition & Maintenance (20-SCP-3650)/05. Output Data/5P Output/PTB/\""
   ]
  },
  {
   "cell_type": "code",
   "execution_count": null,
   "metadata": {},
   "outputs": [],
   "source": [
    "UPC_Monthly_PTB= UPC_Monthly[UPC_Monthly[\"ShareBasis\"].isin([\"BATTERY+HYBRID\", \"POWER\"])]\n",
    "UPC_Monthly_PTB.head(2)"
   ]
  },
  {
   "cell_type": "code",
   "execution_count": null,
   "metadata": {},
   "outputs": [],
   "source": [
    "df = UPC_Monthly_PTB[UPC_Monthly_PTB[\"Facts\"]=='$ Shr - CP CATEGORY']\n",
    "df.tail(5)"
   ]
  },
  {
   "cell_type": "code",
   "execution_count": null,
   "metadata": {},
   "outputs": [],
   "source": [
    "UPC_Monthly_PTB[\"ShareBasis\"].replace({\"POWER\" : \"TOTAL POWER\"}, inplace = True)"
   ]
  },
  {
   "cell_type": "code",
   "execution_count": null,
   "metadata": {},
   "outputs": [],
   "source": [
    "set(UPC_Monthly_PTB[\"ShareBasis\"])"
   ]
  },
  {
   "cell_type": "code",
   "execution_count": null,
   "metadata": {},
   "outputs": [],
   "source": [
    "New_Column=[\"ShareBasis\",\"Manufacturer\",\"Franchise\",\"Brand\",\"SubBrand\",\"SubBrand Variant\",\"Batt_Ele\" ,\"Segment\",\"Refill\",\"Item\",\"UPC\"]\n",
    "\n",
    "UPC_Monthly_PTB[New_Column] = UPC_Monthly_PTB['Products'].str.split('|',n=10,expand=True)\n",
    "\n",
    "\n",
    "UPC_Monthly_PTB[New_Column].fillna(value=\"\")\n",
    "UPC_Monthly_PTB.head(3)\n",
    "\n",
    "# Moving columns after \"Market\"\n",
    "UPC_Monthly_PTB = movecol(UPC_Monthly_PTB, \n",
    "             cols_to_move=New_Column, \n",
    "             ref_col='Markets',\n",
    "             place='After')\n",
    "UPC_Monthly_PTB.head(3)"
   ]
  },
  {
   "cell_type": "code",
   "execution_count": null,
   "metadata": {
    "scrolled": true
   },
   "outputs": [],
   "source": [
    "UPC_Monthly_PTB.shape"
   ]
  },
  {
   "cell_type": "code",
   "execution_count": null,
   "metadata": {},
   "outputs": [],
   "source": [
    "UPC_Monthly_PTB[\"ShareBasis\"] = UPC_Monthly_PTB[\"ShareBasis\"].str.replace(\"POWER\" , \"TOTAL POWER\")"
   ]
  },
  {
   "cell_type": "code",
   "execution_count": null,
   "metadata": {},
   "outputs": [],
   "source": [
    "set(UPC_Monthly_PTB[\"ShareBasis\"])"
   ]
  },
  {
   "cell_type": "markdown",
   "metadata": {},
   "source": [
    "**Strip Columns**"
   ]
  },
  {
   "cell_type": "code",
   "execution_count": null,
   "metadata": {},
   "outputs": [],
   "source": [
    "cols=list(UPC_Monthly_PTB.columns[0:14])\n",
    "UPC_Monthly_PTB[cols]=UPC_Monthly_PTB[cols].apply(lambda x : x.str.strip())"
   ]
  },
  {
   "cell_type": "markdown",
   "metadata": {},
   "source": [
    " "
   ]
  },
  {
   "cell_type": "markdown",
   "metadata": {},
   "source": [
    "### Distri Sku Data"
   ]
  },
  {
   "cell_type": "code",
   "execution_count": null,
   "metadata": {},
   "outputs": [],
   "source": [
    "Distri_Sku=UPC_Monthly_PTB.copy()"
   ]
  },
  {
   "cell_type": "code",
   "execution_count": null,
   "metadata": {},
   "outputs": [],
   "source": [
    "Markets=[\"Ahold\",\"Alb/Sfy\",\"CVS\",\"Dollar General\",\"Family Dollar\",\"Kmart\",\"Meijer\",\"Publix\",\"Rite Aid\",\n",
    "         \"Shoprite\",\"Target\",\"US AOC\",\"US Drug\",\"US Food\",\"Walgreens\",\"Walmart\"]\n",
    "Manufacturers =[\"\",\"COLGATE-PALMOLIVE\",\"P&G\",\"PHILIPS\",\"CHURCH & DWIGHT\",\"HIGH RIDGE BRANDS\",\"PRVT LBL\",\"SUNSTAR AMERICA\"]"
   ]
  },
  {
   "cell_type": "code",
   "execution_count": null,
   "metadata": {},
   "outputs": [],
   "source": [
    "Distri_Sku= Distri_Sku[Distri_Sku[\"Facts\"].isin(Distri_Sku_Facts)]\n",
    "Distri_Sku= Distri_Sku[Distri_Sku['Markets'].isin(Markets)]\n",
    "Distri_Sku = Distri_Sku[Distri_Sku[\"Manufacturer\"].isin(Manufacturers)]"
   ]
  },
  {
   "cell_type": "code",
   "execution_count": null,
   "metadata": {},
   "outputs": [],
   "source": [
    "set(Distri_Sku[\"Facts\"])"
   ]
  },
  {
   "cell_type": "code",
   "execution_count": null,
   "metadata": {},
   "outputs": [],
   "source": [
    "print(\"Missing Facts ->\",len(Distri_Sku_Facts)-len(set(Distri_Sku[\"Facts\"])),\"Missing Markets -> \",len(Markets)-len(set(Distri_Sku[\"Markets\"])))"
   ]
  },
  {
   "cell_type": "markdown",
   "metadata": {},
   "source": [
    "**Fact Mapping**"
   ]
  },
  {
   "cell_type": "code",
   "execution_count": null,
   "metadata": {},
   "outputs": [],
   "source": [
    "Distri_Sku[\"Facts\"].replace(Distri_Fact_Mapping,inplace=True)"
   ]
  },
  {
   "cell_type": "code",
   "execution_count": null,
   "metadata": {},
   "outputs": [],
   "source": [
    "Distri_Sku.head(3)"
   ]
  },
  {
   "cell_type": "markdown",
   "metadata": {},
   "source": [
    "**Column name Change**"
   ]
  },
  {
   "cell_type": "code",
   "execution_count": null,
   "metadata": {},
   "outputs": [],
   "source": [
    "Distri_Sku.columns"
   ]
  },
  {
   "cell_type": "code",
   "execution_count": null,
   "metadata": {},
   "outputs": [],
   "source": [
    "Distri_Sku.rename(columns={\"Markets\":\"MKT\",\"Manufacturer\":\"CP_MANUFACTURER\",\n",
    "                            \"Franchise\":\"CP_FRANCHISE\",\"Brand\":\"CP_BRAND\",\"SubBrand\":\"CP_SUBBRAND\",\n",
    "                           \"SubBrand Variant\":\"CP_SUBBRAND_VARIANT\",\"ShareBasis\":\"CP_BATTERY_HYBRID\",\n",
    "                           \"UPC\":\"Product_Code\",\"Item\":\"PROD\"},inplace=True)"
   ]
  },
  {
   "cell_type": "code",
   "execution_count": null,
   "metadata": {
    "scrolled": true
   },
   "outputs": [],
   "source": [
    "Distri_Sku.info()"
   ]
  },
  {
   "cell_type": "code",
   "execution_count": null,
   "metadata": {},
   "outputs": [],
   "source": [
    "Time_Period=list(Distri_Sku.columns[24:25])+list(Distri_Sku.columns[19:21])+list(Distri_Sku.columns[17:18])+list(Distri_Sku.columns[15:16])\n",
    "print(Time_Period)"
   ]
  },
  {
   "cell_type": "code",
   "execution_count": null,
   "metadata": {},
   "outputs": [],
   "source": [
    "del Distri_Sku[\"CP_SUBBRAND_VARIANT\"]"
   ]
  },
  {
   "cell_type": "code",
   "execution_count": null,
   "metadata": {},
   "outputs": [],
   "source": [
    "Distri_Sku[\"CP_SUBBRAND_VARIANT\"] = \"\""
   ]
  },
  {
   "cell_type": "code",
   "execution_count": null,
   "metadata": {},
   "outputs": [],
   "source": [
    "set(Distri_Sku[\"CP_SUBBRAND_VARIANT\"])"
   ]
  },
  {
   "cell_type": "code",
   "execution_count": null,
   "metadata": {},
   "outputs": [],
   "source": [
    "set(Distri_Sku[\"Facts\"])"
   ]
  },
  {
   "cell_type": "markdown",
   "metadata": {},
   "source": [
    "**Moving Time Period to Rows and Facts to Columns**"
   ]
  },
  {
   "cell_type": "code",
   "execution_count": null,
   "metadata": {},
   "outputs": [],
   "source": [
    "df1=pd.melt(Distri_Sku, id_vars =[\"MKT\",\"PROD\",\"CP_MANUFACTURER\",\"CP_FRANCHISE\",\"CP_BRAND\",\"CP_SUBBRAND\",\"Product_Code\",\"CP_SUBBRAND_VARIANT\",\"CP_BATTERY_HYBRID\",\"Facts\"], value_vars =Time_Period,var_name=\"Time_Period\")\n",
    "\n",
    "df1[\"value\"]=df1[\"value\"].apply(pd.to_numeric)"
   ]
  },
  {
   "cell_type": "code",
   "execution_count": null,
   "metadata": {},
   "outputs": [],
   "source": [
    "df2=df1.pivot_table(index=[\"MKT\",\"PROD\",\"CP_MANUFACTURER\",\"CP_FRANCHISE\",\"CP_BRAND\",\"CP_SUBBRAND\",\"CP_SUBBRAND_VARIANT\",\"CP_BATTERY_HYBRID\",\"Product_Code\",\"Time_Period\"],columns='Facts')\n",
    "\n",
    "df2.columns=df2.columns.droplevel().rename(None)\n",
    "df2.reset_index(inplace =True)"
   ]
  },
  {
   "cell_type": "code",
   "execution_count": null,
   "metadata": {},
   "outputs": [],
   "source": [
    "from pandas.api.types import CategoricalDtype\n",
    "\n",
    "Time_Period_order = CategoricalDtype(\n",
    "    Time_Period, \n",
    "    ordered=True\n",
    ")\n",
    "\n",
    "df2['Time_Period'] = df2['Time_Period'].astype(Time_Period_order)\n",
    "\n",
    "df2.sort_values(['MKT','PROD','Time_Period'],inplace=True)"
   ]
  },
  {
   "cell_type": "code",
   "execution_count": null,
   "metadata": {},
   "outputs": [],
   "source": [
    "df2.columns"
   ]
  },
  {
   "cell_type": "code",
   "execution_count": null,
   "metadata": {},
   "outputs": [],
   "source": [
    "final_column_sorting=[\"MKT\",\"PROD\",\"CP_MANUFACTURER\",\"CP_FRANCHISE\",\"CP_BRAND\",\"CP_SUBBRAND\",\"Product_Code\",\"Time_Period\",\n",
    "                      \"Doll_Shr\",\"Doll_Shr_Chg\",\"Base_Doll_Shr\",\"Base_Doll_Shr_Chg\",\"Store_Selling\",\"Store_Selling_Chg\",\n",
    "                      \"Doll_Velocity\",\"Doll_Velocity_Chg\",\"Cum_Distri_Pts\",\"Cum_Distri_Pts_Chg\",\"Dollars\",\"Dollars_Chg\",\"Units\",\n",
    "                     \"CP_BATTERY_HYBRID\",\"CP_SUBBRAND_VARIANT\"]\n",
    "\n",
    "Distri_Sku_final=df2[final_column_sorting]\n",
    "\n",
    "Distri_Sku_final[\"Record_ID\"]=range(1,len(Distri_Sku_final)+1)\n",
    "\n"
   ]
  },
  {
   "cell_type": "markdown",
   "metadata": {},
   "source": [
    "**Exporting Dataframe to ouPTBut folder**"
   ]
  },
  {
   "cell_type": "code",
   "execution_count": null,
   "metadata": {},
   "outputs": [],
   "source": [
    "Distri_Sku_final.to_csv(path_PTB+\"Distri_sku_data.csv\",index=False)"
   ]
  },
  {
   "cell_type": "code",
   "execution_count": null,
   "metadata": {},
   "outputs": [],
   "source": []
  },
  {
   "cell_type": "markdown",
   "metadata": {},
   "source": [
    "### Distri Sku Full Data"
   ]
  },
  {
   "cell_type": "code",
   "execution_count": null,
   "metadata": {},
   "outputs": [],
   "source": [
    "Distri_Sku_full=UPC_Monthly_PTB.copy()"
   ]
  },
  {
   "cell_type": "code",
   "execution_count": null,
   "metadata": {},
   "outputs": [],
   "source": [
    "Markets=[\"Ahold\",\"Alb/Sfy\",\"CVS\",\"Dollar General\",\"Family Dollar\",\"Kmart\",\"Meijer\",\"Publix\",\n",
    "         \"Rite Aid\",\"Shoprite\",\"Target\",\"US AOC\",\"US Drug\",\"US Food\",\"Walgreens\",\"Walmart\"]\n",
    "Manufacturers =[\"\",\"COLGATE-PALMOLIVE\",\"P&G\",\"PHILIPS\",\"CHURCH & DWIGHT\",\"HIGH RIDGE BRANDS\",\"PRVT LBL\",\"SUNSTAR AMERICA\"]"
   ]
  },
  {
   "cell_type": "code",
   "execution_count": null,
   "metadata": {},
   "outputs": [],
   "source": [
    "Distri_Sku_full= Distri_Sku_full[Distri_Sku_full[\"Facts\"].isin(Distr_Sku_Full_Data_Facts)]\n",
    "Distri_Sku_full= Distri_Sku_full[Distri_Sku_full['Markets'].isin(Markets)]\n",
    "Distri_Sku_full= Distri_Sku_full[Distri_Sku_full['Manufacturer'].isin(Manufacturers)]"
   ]
  },
  {
   "cell_type": "code",
   "execution_count": null,
   "metadata": {},
   "outputs": [],
   "source": [
    "print(\"Missing Facts ->\",len(Distr_Sku_Full_Data_Facts)-len(set(Distri_Sku_full[\"Facts\"])),\"Missing Markets -> \",len(Markets)-len(set(Distri_Sku_full[\"Markets\"])))"
   ]
  },
  {
   "cell_type": "markdown",
   "metadata": {},
   "source": [
    "**Fact Mapping**"
   ]
  },
  {
   "cell_type": "code",
   "execution_count": null,
   "metadata": {},
   "outputs": [],
   "source": [
    "Distri_Sku_full[\"Facts\"].replace(Distri_Fact_Mapping,inplace=True)"
   ]
  },
  {
   "cell_type": "code",
   "execution_count": null,
   "metadata": {},
   "outputs": [],
   "source": [
    "Distri_Sku_full.columns"
   ]
  },
  {
   "cell_type": "markdown",
   "metadata": {},
   "source": [
    "**Column name Change**"
   ]
  },
  {
   "cell_type": "code",
   "execution_count": null,
   "metadata": {},
   "outputs": [],
   "source": [
    "Distri_Sku_full.columns"
   ]
  },
  {
   "cell_type": "code",
   "execution_count": null,
   "metadata": {},
   "outputs": [],
   "source": [
    "Distri_Sku_full.rename(columns={'Markets':\"MKT\", 'Manufacturer':\"CP_MANUFACTURER\",\n",
    "                                'Franchise':\"CP_FRANCHISE\", 'Brand':\"CP_BRAND\",\"Item\":\"PROD\",\"SubBrand Variant\":\"CP_SUBBRAND_VARIANT\",\n",
    "                                'SubBrand':\"CP_SUBBRAND\", 'Segment':\"CP_SEGMENT\",\"Refill\":\"CP_REFILL\",\n",
    "                                \"ShareBasis\":\"CP_BATTERY_HYBRID\",\n",
    "                                'UPC':\"Product_Code\"},inplace=True)"
   ]
  },
  {
   "cell_type": "code",
   "execution_count": null,
   "metadata": {},
   "outputs": [],
   "source": [
    "set(Distri_Sku_full[\"Batt_Ele\"])"
   ]
  },
  {
   "cell_type": "code",
   "execution_count": null,
   "metadata": {},
   "outputs": [],
   "source": [
    "Distri_Sku_full.columns"
   ]
  },
  {
   "cell_type": "code",
   "execution_count": null,
   "metadata": {
    "scrolled": true
   },
   "outputs": [],
   "source": [
    "Distri_Sku_full.info()"
   ]
  },
  {
   "cell_type": "code",
   "execution_count": null,
   "metadata": {},
   "outputs": [],
   "source": [
    "Time_Period=list(Distri_Sku_full.columns[24:25])+list(Distri_Sku_full.columns[19:21])+list(Distri_Sku_full.columns[17:18])+list(Distri_Sku_full.columns[15:16])\n",
    "print(Time_Period)"
   ]
  },
  {
   "cell_type": "code",
   "execution_count": null,
   "metadata": {},
   "outputs": [],
   "source": [
    "del Distri_Sku_full[\"Batt_Ele\"]"
   ]
  },
  {
   "cell_type": "code",
   "execution_count": null,
   "metadata": {},
   "outputs": [],
   "source": []
  },
  {
   "cell_type": "markdown",
   "metadata": {},
   "source": [
    "**Moving Time Period to Rows and Facts to Columns**"
   ]
  },
  {
   "cell_type": "code",
   "execution_count": null,
   "metadata": {},
   "outputs": [],
   "source": [
    "df1=pd.melt(Distri_Sku_full, id_vars =[\"MKT\",\"PROD\",\"CP_MANUFACTURER\",\"CP_FRANCHISE\",\"CP_BRAND\",\"CP_SUBBRAND\",\"Product_Code\",\"CP_SUBBRAND_VARIANT\",\"CP_BATTERY_HYBRID\",\"Facts\",'CP_SEGMENT',\n",
    "       'CP_REFILL'], value_vars =Time_Period,var_name=\"Time_Period\")\n",
    "\n",
    "df1[\"value\"]=df1[\"value\"].apply(pd.to_numeric)"
   ]
  },
  {
   "cell_type": "code",
   "execution_count": null,
   "metadata": {},
   "outputs": [],
   "source": [
    "df2=df1.pivot_table(index=[\"MKT\",\"Time_Period\",\"PROD\",\"CP_MANUFACTURER\",\"CP_FRANCHISE\",\"CP_BRAND\",\"CP_SUBBRAND\",\"Product_Code\",\"CP_SUBBRAND_VARIANT\",\"CP_BATTERY_HYBRID\",'CP_SEGMENT',\n",
    "       'CP_REFILL'],columns='Facts')\n",
    "\n",
    "df2.columns=df2.columns.droplevel().rename(None)\n",
    "df2.reset_index(inplace =True)"
   ]
  },
  {
   "cell_type": "code",
   "execution_count": null,
   "metadata": {},
   "outputs": [],
   "source": [
    "# sorting \"MKT\",\"Time_Period\",\"PROD\"\n",
    "df2.sort_values(['MKT','Time_Period','PROD'],inplace=True)"
   ]
  },
  {
   "cell_type": "code",
   "execution_count": null,
   "metadata": {},
   "outputs": [],
   "source": [
    "df2[\"Dummy1\"] = \"Dummy\""
   ]
  },
  {
   "cell_type": "code",
   "execution_count": null,
   "metadata": {},
   "outputs": [],
   "source": [
    "df2.columns"
   ]
  },
  {
   "cell_type": "code",
   "execution_count": null,
   "metadata": {},
   "outputs": [],
   "source": [
    "df2['Prcnt_ACV']=df2[\"Store_Selling\"]\n",
    "\n",
    "final_column_sorting=[\"MKT\",\"Time_Period\",\"PROD\",\"CP_MANUFACTURER\",\"CP_FRANCHISE\",\"CP_BRAND\",\"CP_SUBBRAND\",\"Product_Code\",\"CP_SUBBRAND_VARIANT\",\n",
    "                      \"CP_REFILL\", \"Dummy1\", \"CP_SEGMENT\", \n",
    "                      \"Doll_Shr\",\"Doll_Shr_Chg\",\"Base_Doll_Shr\",\n",
    "                      \"Base_Doll_Shr_Chg\",\"Store_Selling\",\"Store_Selling_Chg\",\"Doll_Velocity\",\"Doll_Velocity_Chg\",\n",
    "                      \"Cum_Distri_Pts\",\"Cum_Distri_Pts_Chg\",\"Dollars\",\"Dollars_Chg\",\"Prcnt_ACV\",\"Units\",\"Units_velocity\",\"CP_BATTERY_HYBRID\"]\n",
    "\n",
    "Distri_Sku_full_final=df2[final_column_sorting]\n",
    "\n",
    "Distri_Sku_full_final[\"Record_ID\"]=range(1,len(Distri_Sku_full_final)+1)\n",
    "\n"
   ]
  },
  {
   "cell_type": "markdown",
   "metadata": {},
   "source": [
    "**Exporting Dataframe to ouPTBut folder**"
   ]
  },
  {
   "cell_type": "code",
   "execution_count": null,
   "metadata": {},
   "outputs": [],
   "source": [
    "Distri_Sku_full_final.to_csv(path_PTB+\"Distri_Sku_full_data.csv\",index=False)"
   ]
  },
  {
   "cell_type": "code",
   "execution_count": null,
   "metadata": {},
   "outputs": [],
   "source": []
  },
  {
   "cell_type": "markdown",
   "metadata": {},
   "source": [
    "### Distri Cat Data"
   ]
  },
  {
   "cell_type": "code",
   "execution_count": null,
   "metadata": {},
   "outputs": [],
   "source": [
    "Distri_Cat=UPC_Monthly_PTB.copy()"
   ]
  },
  {
   "cell_type": "code",
   "execution_count": null,
   "metadata": {},
   "outputs": [],
   "source": [
    "Markets=[\"Ahold\",\"Alb/Sfy\",\"CVS\",\"Dollar General\",\"Family Dollar\",\"Kmart\",\"Meijer\",\"Publix\",\"Rite Aid\",\n",
    "         \"Shoprite\",\"Target\",\"US AOC\",\"US Drug\",\"US Food\",\"Walgreens\",\"Walmart\"]\n",
    "Manufacturers =[\"\",\"COLGATE-PALMOLIVE\",\"P&G\",\"PHILIPS\",\"CHURCH & DWIGHT\",\"HIGH RIDGE BRANDS\",\"PRVT LBL\",\"SUNSTAR AMERICA\"]"
   ]
  },
  {
   "cell_type": "code",
   "execution_count": null,
   "metadata": {},
   "outputs": [],
   "source": [
    "Distri_Cat= Distri_Cat[Distri_Cat[\"Facts\"].isin(Distri_Cat_Data_Facts)]\n",
    "Distri_Cat= Distri_Cat[Distri_Cat['Markets'].isin(Markets)]\n",
    "Distri_Cat= Distri_Cat[Distri_Cat['Manufacturer'].isin(Manufacturers)]"
   ]
  },
  {
   "cell_type": "code",
   "execution_count": null,
   "metadata": {},
   "outputs": [],
   "source": [
    "print(\"Missing Facts ->\",len(Distri_Cat_Data_Facts)-len(set(Distri_Cat[\"Facts\"])),\"Missing Markets -> \",len(Markets)-len(set(Distri_Cat[\"Markets\"])))"
   ]
  },
  {
   "cell_type": "markdown",
   "metadata": {},
   "source": [
    "**Fact Mapping**"
   ]
  },
  {
   "cell_type": "code",
   "execution_count": null,
   "metadata": {},
   "outputs": [],
   "source": [
    "Distri_Cat[\"Facts\"].replace(Distri_Fact_Mapping,inplace=True)"
   ]
  },
  {
   "cell_type": "code",
   "execution_count": null,
   "metadata": {},
   "outputs": [],
   "source": [
    "Distri_Cat.head(3)"
   ]
  },
  {
   "cell_type": "markdown",
   "metadata": {},
   "source": [
    "**Column name Change**"
   ]
  },
  {
   "cell_type": "code",
   "execution_count": null,
   "metadata": {},
   "outputs": [],
   "source": [
    "Distri_Cat.columns"
   ]
  },
  {
   "cell_type": "code",
   "execution_count": null,
   "metadata": {},
   "outputs": [],
   "source": [
    "Distri_Cat.rename(columns={'Markets':\"MKT\", 'Manufacturer':\"CP_MANUFACTURER\", 'Franchise':\"CP_FRANCHISE\",\"Item\":\"PROD\",\n",
    "                           'Brand':\"CP_BRAND\",'SubBrand':\"CP_SUBBRAND\",\"ShareBasis\":\"CP_BATTERY_HYBRID\",\n",
    "                            'UPC':\"Product_Code\"},inplace=True)"
   ]
  },
  {
   "cell_type": "code",
   "execution_count": null,
   "metadata": {},
   "outputs": [],
   "source": [
    "del Distri_Cat[\"Batt_Ele\"]"
   ]
  },
  {
   "cell_type": "code",
   "execution_count": null,
   "metadata": {
    "scrolled": false
   },
   "outputs": [],
   "source": [
    "Distri_Cat.info()"
   ]
  },
  {
   "cell_type": "code",
   "execution_count": null,
   "metadata": {},
   "outputs": [],
   "source": [
    "Time_Period=list(Distri_Cat.columns[23:24])+list(Distri_Cat.columns[18:20])+list(Distri_Cat.columns[16:17])+list(Distri_Cat.columns[14:15])\n",
    "print(Time_Period)"
   ]
  },
  {
   "cell_type": "markdown",
   "metadata": {},
   "source": [
    "**Moving Time Period to Rows and Facts to Columns**"
   ]
  },
  {
   "cell_type": "code",
   "execution_count": null,
   "metadata": {},
   "outputs": [],
   "source": [
    "df1=pd.melt(Distri_Cat, id_vars =[\"MKT\",\"PROD\",\"CP_MANUFACTURER\",\"CP_FRANCHISE\",\"CP_BRAND\",\"CP_SUBBRAND\",\"Product_Code\",\"Facts\",\"CP_BATTERY_HYBRID\"], value_vars =Time_Period,var_name=\"Time_Period\")\n",
    "\n",
    "df1[\"value\"]=df1[\"value\"].apply(pd.to_numeric)"
   ]
  },
  {
   "cell_type": "code",
   "execution_count": null,
   "metadata": {},
   "outputs": [],
   "source": [
    "df2=df1.pivot_table(index=[\"MKT\",\"PROD\",\"CP_MANUFACTURER\",\"CP_FRANCHISE\",\"CP_BRAND\",\"CP_SUBBRAND\",\"Product_Code\",\"Time_Period\",\"CP_BATTERY_HYBRID\"],columns='Facts')\n",
    "\n",
    "df2.columns=df2.columns.droplevel().rename(None)\n",
    "df2.reset_index(inplace =True)"
   ]
  },
  {
   "cell_type": "code",
   "execution_count": null,
   "metadata": {},
   "outputs": [],
   "source": [
    "from pandas.api.types import CategoricalDtype\n",
    "\n",
    "Time_Period_order = CategoricalDtype(\n",
    "    Time_Period, \n",
    "    ordered=True\n",
    ")\n",
    "\n",
    "df2['Time_Period'] = df2['Time_Period'].astype(Time_Period_order)\n",
    "\n",
    "\n",
    "df2.sort_values(['MKT','PROD',\"CP_BATTERY_HYBRID\",'Time_Period'],inplace=True)"
   ]
  },
  {
   "cell_type": "code",
   "execution_count": null,
   "metadata": {},
   "outputs": [],
   "source": [
    "df2['Prcnt_ACV']=df2[\"Store_Selling\"]\n",
    "\n",
    "final_column_sorting=[\"MKT\",\"PROD\",\"CP_MANUFACTURER\",\"CP_FRANCHISE\",\"CP_BRAND\",\"CP_SUBBRAND\",\"Product_Code\",\"Time_Period\",\n",
    "                      \"Doll_Shr\",\"Cum_Distri_Pts\",\"Dollars\",\"Store_Selling\",\"Prcnt_ACV\",\"CP_BATTERY_HYBRID\"]\n",
    "\n",
    "Distri_Cat_final=df2[final_column_sorting]\n",
    "\n",
    "Distri_Cat_final[\"Record_ID\"]=range(1,len(Distri_Cat_final)+1)\n",
    "\n"
   ]
  },
  {
   "cell_type": "markdown",
   "metadata": {},
   "source": [
    "**Exporting Dataframe to ouPTBut folder**"
   ]
  },
  {
   "cell_type": "code",
   "execution_count": null,
   "metadata": {},
   "outputs": [],
   "source": [
    "Distri_Cat_final.to_csv(path_PTB+\"Distri_category_skus_Data.csv\",index=False)"
   ]
  },
  {
   "cell_type": "code",
   "execution_count": null,
   "metadata": {},
   "outputs": [],
   "source": []
  },
  {
   "cell_type": "code",
   "execution_count": null,
   "metadata": {},
   "outputs": [],
   "source": []
  },
  {
   "cell_type": "markdown",
   "metadata": {},
   "source": [
    "## LHS"
   ]
  },
  {
   "cell_type": "code",
   "execution_count": null,
   "metadata": {},
   "outputs": [],
   "source": [
    "# path to store Output files\n",
    "path_LHS=\"//falmumapp34/Nielsen Connect Transition & Maintenance (20-SCP-3650)/05. Output Data/5P Output/LHS/\""
   ]
  },
  {
   "cell_type": "code",
   "execution_count": null,
   "metadata": {},
   "outputs": [],
   "source": [
    "UPC_Monthly_LHS= UPC_Monthly[UPC_Monthly[\"ShareBasis\"]==\"LIQUID\"]\n",
    "UPC_Monthly_LHS.head(2)"
   ]
  },
  {
   "cell_type": "code",
   "execution_count": null,
   "metadata": {},
   "outputs": [],
   "source": [
    "New_Column=[\"ShareBasis\",\"Franchise\",\"Container\",\"Brand\",\"SubBrand\",\"PriceTier\",\"Form\",\"DealType\",\"Multi\",\"Size\",\"Item\",\"UPC\"]\n",
    "\n",
    "UPC_Monthly_LHS[New_Column] = UPC_Monthly_LHS['Products'].str.split('|',n=11,expand=True)\n",
    "\n",
    "\n",
    "UPC_Monthly_LHS[New_Column].fillna(value=\"\")\n",
    "UPC_Monthly_LHS.head(3)\n",
    "\n",
    "# Moving columns after \"Market\"\n",
    "UPC_Monthly_LHS = movecol(UPC_Monthly_LHS, \n",
    "             cols_to_move=New_Column, \n",
    "             ref_col='Markets',\n",
    "             place='After')\n",
    "UPC_Monthly_LHS.head(3)"
   ]
  },
  {
   "cell_type": "code",
   "execution_count": null,
   "metadata": {
    "scrolled": true
   },
   "outputs": [],
   "source": [
    "UPC_Monthly_LHS.info()"
   ]
  },
  {
   "cell_type": "code",
   "execution_count": null,
   "metadata": {},
   "outputs": [],
   "source": [
    "cols=list(UPC_Monthly_LHS.columns[0:11])\n",
    "UPC_Monthly_LHS[cols]=UPC_Monthly_LHS[cols].apply(lambda x : x.str.strip())\n",
    "set(UPC_Monthly_LHS[\"Container\"])"
   ]
  },
  {
   "cell_type": "code",
   "execution_count": null,
   "metadata": {},
   "outputs": [],
   "source": [
    "set(UPC_Monthly_LHS[UPC_Monthly_LHS[\"Brand\"] == 'DIAL BEST'][\"Markets\"])"
   ]
  },
  {
   "cell_type": "code",
   "execution_count": null,
   "metadata": {},
   "outputs": [],
   "source": [
    "UPC_Monthly_LHS[\"Manufacturer\"]=UPC_Monthly_LHS[\"Franchise\"]\n",
    "UPC_Monthly_LHS[\"Franchise\"]=UPC_Monthly_LHS[\"Franchise\"] + \" \"+ UPC_Monthly_LHS[\"Container\"]\n",
    "UPC_Monthly_LHS[\"Brand\"]=UPC_Monthly_LHS[\"Brand\"] + \" \"+ UPC_Monthly_LHS[\"Container\"]\n",
    "UPC_Monthly_LHS[\"SubBrand\"]=UPC_Monthly_LHS[\"SubBrand\"] + \" \"+ UPC_Monthly_LHS[\"Container\"]"
   ]
  },
  {
   "cell_type": "code",
   "execution_count": null,
   "metadata": {},
   "outputs": [],
   "source": [
    "set(UPC_Monthly_LHS[UPC_Monthly_LHS[\"Brand\"] == 'DIAL BEST PUMP'][\"Markets\"])"
   ]
  },
  {
   "cell_type": "markdown",
   "metadata": {},
   "source": [
    "**Strip Columns**"
   ]
  },
  {
   "cell_type": "code",
   "execution_count": null,
   "metadata": {},
   "outputs": [],
   "source": [
    "cols=list(UPC_Monthly_LHS.columns[0:14])\n",
    "UPC_Monthly_LHS[cols]=UPC_Monthly_LHS[cols].apply(lambda x : x.str.strip())"
   ]
  },
  {
   "cell_type": "markdown",
   "metadata": {},
   "source": [
    " "
   ]
  },
  {
   "cell_type": "markdown",
   "metadata": {},
   "source": [
    "### Distri Sku Data"
   ]
  },
  {
   "cell_type": "code",
   "execution_count": null,
   "metadata": {},
   "outputs": [],
   "source": [
    "Distri_Sku=UPC_Monthly_LHS.copy()"
   ]
  },
  {
   "cell_type": "code",
   "execution_count": null,
   "metadata": {},
   "outputs": [],
   "source": [
    "Markets=[\"Ahold\",\"Alb/Sfy\",\"BJs\",\"CVS\",\"Dollar General\",\"Family Dollar\",\"Meijer\",\"Publix\",\"Rite Aid\",\n",
    "         \"Sams\",\"Shoprite\",\"Target\",\"US AOC\",\"US Drug\",\"US Food\",\"Walgreens\",\"Walmart\"]"
   ]
  },
  {
   "cell_type": "code",
   "execution_count": null,
   "metadata": {},
   "outputs": [],
   "source": [
    "Distri_Sku= Distri_Sku[Distri_Sku[\"Facts\"].isin(Distri_Sku_Facts)]\n",
    "Distri_Sku= Distri_Sku[Distri_Sku['Markets'].isin(Markets)]"
   ]
  },
  {
   "cell_type": "code",
   "execution_count": null,
   "metadata": {},
   "outputs": [],
   "source": [
    "print(\"Missing Facts ->\",len(Distri_Sku_Facts)-len(set(Distri_Sku[\"Facts\"])),\"Missing Markets -> \",len(Markets)-len(set(Distri_Sku[\"Markets\"])))"
   ]
  },
  {
   "cell_type": "markdown",
   "metadata": {},
   "source": [
    "**Fact Mapping**"
   ]
  },
  {
   "cell_type": "code",
   "execution_count": null,
   "metadata": {},
   "outputs": [],
   "source": [
    "Distri_Sku[\"Facts\"].replace(Distri_Fact_Mapping,inplace=True)"
   ]
  },
  {
   "cell_type": "code",
   "execution_count": null,
   "metadata": {},
   "outputs": [],
   "source": [
    "Distri_Sku.head(3)"
   ]
  },
  {
   "cell_type": "markdown",
   "metadata": {},
   "source": [
    "**Column name Change**"
   ]
  },
  {
   "cell_type": "code",
   "execution_count": null,
   "metadata": {},
   "outputs": [],
   "source": [
    "Distri_Sku.columns"
   ]
  },
  {
   "cell_type": "code",
   "execution_count": null,
   "metadata": {},
   "outputs": [],
   "source": [
    "Distri_Sku.rename(columns={\"Markets\":\"MKT\",\"Manufacturer\":\"CP_MANUFACTURER\",\n",
    "                            \"Franchise\":\"CP_FRANCHISE\",\"Brand\":\"CP_BRAND\",\"SubBrand\":\"CP_SUBBRAND\",\n",
    "                           \"SubBrand_Variant\":\"CP_SUBBRAND_VARIANT\",\"ShareBasis\":\"CP_SHARE_BASIS\",\n",
    "                           'Container':'CP_CONTAINER','PriceTier':'CP_PRICE_TIER', 'Form':'CP_FORM',\n",
    "                           'DealType':'CP_DEAL_TYPE', 'Multi':'CP_MULTI', 'Size':'TOTAL_SIZE',\n",
    "                           \"UPC\":\"Product_Code\",\"Item\":\"PROD\"},inplace=True)"
   ]
  },
  {
   "cell_type": "code",
   "execution_count": null,
   "metadata": {},
   "outputs": [],
   "source": [
    "#Distri_Sku[\"CP_SEGMENT\"] = \"N/A\""
   ]
  },
  {
   "cell_type": "code",
   "execution_count": null,
   "metadata": {
    "scrolled": true
   },
   "outputs": [],
   "source": [
    "Distri_Sku.info()"
   ]
  },
  {
   "cell_type": "code",
   "execution_count": null,
   "metadata": {},
   "outputs": [],
   "source": [
    "Time_Period=list(Distri_Sku.columns[25:26])+list(Distri_Sku.columns[20:22])+list(Distri_Sku.columns[18:19])+list(Distri_Sku.columns[16:17])\n",
    "print(Time_Period)"
   ]
  },
  {
   "cell_type": "markdown",
   "metadata": {},
   "source": [
    "**Moving Time Period to Rows and Facts to Columns**"
   ]
  },
  {
   "cell_type": "code",
   "execution_count": null,
   "metadata": {},
   "outputs": [],
   "source": [
    "Distri_Sku.columns"
   ]
  },
  {
   "cell_type": "code",
   "execution_count": null,
   "metadata": {},
   "outputs": [],
   "source": [
    "df1=pd.melt(Distri_Sku, id_vars =['MKT', 'CP_MANUFACTURER', 'CP_FRANCHISE', 'CP_BRAND', 'CP_SUBBRAND',\n",
    "       \n",
    "       'Product_Code', 'PROD','Facts'], value_vars =Time_Period,var_name=\"Time_Period\")\n",
    "\n",
    "df1[\"value\"]=df1[\"value\"].apply(pd.to_numeric)"
   ]
  },
  {
   "cell_type": "code",
   "execution_count": null,
   "metadata": {},
   "outputs": [],
   "source": [
    "df2=df1.pivot_table(index=['MKT', 'CP_MANUFACTURER', 'CP_FRANCHISE', 'CP_BRAND', 'CP_SUBBRAND',\n",
    "       \n",
    "       'Product_Code', 'PROD',\"Time_Period\"],columns='Facts')\n",
    "\n",
    "df2.columns=df2.columns.droplevel().rename(None)\n",
    "df2.reset_index(inplace =True)"
   ]
  },
  {
   "cell_type": "code",
   "execution_count": null,
   "metadata": {},
   "outputs": [],
   "source": [
    "from pandas.api.types import CategoricalDtype\n",
    "\n",
    "Time_Period_order = CategoricalDtype(\n",
    "    Time_Period, \n",
    "    ordered=True\n",
    ")\n",
    "\n",
    "df2['Time_Period'] = df2['Time_Period'].astype(Time_Period_order)\n",
    "\n",
    "df2.sort_values(['MKT','PROD','Time_Period'],inplace=True)"
   ]
  },
  {
   "cell_type": "code",
   "execution_count": null,
   "metadata": {},
   "outputs": [],
   "source": [
    "df2.columns"
   ]
  },
  {
   "cell_type": "code",
   "execution_count": null,
   "metadata": {},
   "outputs": [],
   "source": [
    "final_column_sorting=[\"MKT\",\"PROD\",\"CP_MANUFACTURER\",\"CP_FRANCHISE\",\"CP_BRAND\",\"CP_SUBBRAND\",\"Product_Code\",\"Time_Period\",\n",
    "                      \"Doll_Shr\",\"Doll_Shr_Chg\",\"Base_Doll_Shr\",\"Base_Doll_Shr_Chg\",\"Store_Selling\",\"Store_Selling_Chg\",\n",
    "                      \"Doll_Velocity\",\"Doll_Velocity_Chg\",\"Cum_Distri_Pts\",\"Cum_Distri_Pts_Chg\",\"Dollars\",\"Dollars_Chg\",\"Units\"\n",
    "                     ]\n",
    "\n",
    "Distri_Sku_final=df2[final_column_sorting]\n",
    "\n",
    "Distri_Sku_final[\"Record_ID\"]=range(1,len(Distri_Sku_final)+1)\n",
    "\n"
   ]
  },
  {
   "cell_type": "markdown",
   "metadata": {},
   "source": [
    "**Exporting Dataframe to ouLHSut folder**"
   ]
  },
  {
   "cell_type": "code",
   "execution_count": null,
   "metadata": {},
   "outputs": [],
   "source": []
  },
  {
   "cell_type": "code",
   "execution_count": null,
   "metadata": {},
   "outputs": [],
   "source": [
    "Distri_Sku_final.columns"
   ]
  },
  {
   "cell_type": "code",
   "execution_count": null,
   "metadata": {},
   "outputs": [],
   "source": [
    "Distri_Sku_final.to_csv(path_LHS+\"Distri_sku_data.csv\",index=False)"
   ]
  },
  {
   "cell_type": "code",
   "execution_count": null,
   "metadata": {},
   "outputs": [],
   "source": []
  },
  {
   "cell_type": "markdown",
   "metadata": {},
   "source": [
    "### Distri Sku Full Data"
   ]
  },
  {
   "cell_type": "code",
   "execution_count": null,
   "metadata": {},
   "outputs": [],
   "source": [
    "Distri_Sku_full=UPC_Monthly_LHS.copy()"
   ]
  },
  {
   "cell_type": "code",
   "execution_count": null,
   "metadata": {},
   "outputs": [],
   "source": [
    "Markets=[\"Ahold\",\"Alb/Sfy\",\"BJs\",\"CVS\",\"Dollar General\",\"Family Dollar\",\"Meijer\",\"Publix\",\n",
    "         \"Rite Aid\",\"Sams\",\"Shoprite\",\"Target\",\"US AOC\",\"US Drug\",\"US Food\",\"Walgreens\",\"Walmart\"]"
   ]
  },
  {
   "cell_type": "code",
   "execution_count": null,
   "metadata": {},
   "outputs": [],
   "source": [
    "Distri_Sku_full= Distri_Sku_full[Distri_Sku_full[\"Facts\"].isin(Distr_Sku_Full_Data_Facts)]\n",
    "Distri_Sku_full= Distri_Sku_full[Distri_Sku_full['Markets'].isin(Markets)]"
   ]
  },
  {
   "cell_type": "code",
   "execution_count": null,
   "metadata": {},
   "outputs": [],
   "source": [
    "Distri_Sku_full.columns"
   ]
  },
  {
   "cell_type": "code",
   "execution_count": null,
   "metadata": {},
   "outputs": [],
   "source": [
    "set(Distri_Sku_full[\"Form\"])"
   ]
  },
  {
   "cell_type": "code",
   "execution_count": null,
   "metadata": {},
   "outputs": [],
   "source": [
    "print(\"Missing Facts ->\",len(Distr_Sku_Full_Data_Facts)-len(set(Distri_Sku_full[\"Facts\"])),\"Missing Markets -> \",len(Markets)-len(set(Distri_Sku_full[\"Markets\"])))"
   ]
  },
  {
   "cell_type": "markdown",
   "metadata": {},
   "source": [
    "**Fact Mapping**"
   ]
  },
  {
   "cell_type": "code",
   "execution_count": null,
   "metadata": {},
   "outputs": [],
   "source": [
    "Distri_Sku_full[\"Facts\"].replace(Distri_Fact_Mapping,inplace=True)"
   ]
  },
  {
   "cell_type": "code",
   "execution_count": null,
   "metadata": {},
   "outputs": [],
   "source": [
    "set(Distri_Sku_full[\"ShareBasis\"])"
   ]
  },
  {
   "cell_type": "code",
   "execution_count": null,
   "metadata": {},
   "outputs": [],
   "source": [
    "Distri_Sku_full.columns"
   ]
  },
  {
   "cell_type": "code",
   "execution_count": null,
   "metadata": {},
   "outputs": [],
   "source": [
    "#Distri_Sku_full[\"Size\"] = Distri_Sku_full[\"Size\"].str.replace(\"PK\", \"COUNT\")"
   ]
  },
  {
   "cell_type": "code",
   "execution_count": null,
   "metadata": {
    "scrolled": true
   },
   "outputs": [],
   "source": [
    "Distri_Sku_full.head(3)"
   ]
  },
  {
   "cell_type": "code",
   "execution_count": null,
   "metadata": {},
   "outputs": [],
   "source": [
    "Distri_Sku_full.columns"
   ]
  },
  {
   "cell_type": "markdown",
   "metadata": {},
   "source": [
    "**Column name Change**"
   ]
  },
  {
   "cell_type": "code",
   "execution_count": null,
   "metadata": {},
   "outputs": [],
   "source": [
    "Distri_Sku_full.rename(columns={\"Markets\":\"MKT\",\"Manufacturer\":\"CP_MANUFACTURER\",\n",
    "                            \"Franchise\":\"CP_FRANCHISE\",\"Brand\":\"CP_BRAND\",\"SubBrand\":\"CP_SUBBRAND\",\n",
    "                           \"SubBrand_Variant\":\"CP_SUBBRAND_VARIANT\",\"ShareBasis\":\"CP_SHARE_BASIS\",\n",
    "                           'Container':'CP_CONTAINER','PriceTier':'CP_PRICE_TIER', 'Form':'CP_FORM',\n",
    "                           'DealType':'CP_DEAL_TYPE', 'Multi':'CP_MULTI', 'Size':'TOTAL_SIZE',\n",
    "                           \"UPC\":\"Product_Code\",\"Item\":\"PROD\"},inplace=True)"
   ]
  },
  {
   "cell_type": "code",
   "execution_count": null,
   "metadata": {
    "scrolled": true
   },
   "outputs": [],
   "source": [
    "Distri_Sku_full.info()"
   ]
  },
  {
   "cell_type": "code",
   "execution_count": null,
   "metadata": {},
   "outputs": [],
   "source": [
    "Time_Period=list(Distri_Sku_full.columns[25:26])+list(Distri_Sku_full.columns[20:22])+list(Distri_Sku_full.columns[18:19])+list(Distri_Sku_full.columns[16:17])\n",
    "print(Time_Period)"
   ]
  },
  {
   "cell_type": "markdown",
   "metadata": {},
   "source": [
    "**Moving Time Period to Rows and Facts to Columns**"
   ]
  },
  {
   "cell_type": "code",
   "execution_count": null,
   "metadata": {},
   "outputs": [],
   "source": [
    "Distri_Sku_full.columns"
   ]
  },
  {
   "cell_type": "code",
   "execution_count": null,
   "metadata": {},
   "outputs": [],
   "source": [
    "df1=pd.melt(Distri_Sku_full, id_vars =[\"MKT\",\"PROD\",\"CP_MANUFACTURER\",\"CP_FRANCHISE\",\"CP_BRAND\",\"CP_SUBBRAND\",\"Product_Code\",\"TOTAL_SIZE\",\"Facts\",'CP_CONTAINER', 'CP_PRICE_TIER', 'CP_FORM', 'CP_DEAL_TYPE', 'CP_MULTI'], value_vars =Time_Period,var_name=\"Time_Period\")\n",
    "\n",
    "df1[\"value\"]=df1[\"value\"].apply(pd.to_numeric)"
   ]
  },
  {
   "cell_type": "code",
   "execution_count": null,
   "metadata": {},
   "outputs": [],
   "source": [
    "df2=df1.pivot_table(index=[\"MKT\",\"Time_Period\",\"PROD\",\"CP_MANUFACTURER\",\"CP_FRANCHISE\",\"CP_BRAND\",\"CP_SUBBRAND\",\"Product_Code\",\"TOTAL_SIZE\",'CP_CONTAINER', 'CP_PRICE_TIER', 'CP_FORM', 'CP_DEAL_TYPE', 'CP_MULTI'],columns='Facts')\n",
    "\n",
    "df2.columns=df2.columns.droplevel().rename(None)\n",
    "df2.reset_index(inplace =True)"
   ]
  },
  {
   "cell_type": "code",
   "execution_count": null,
   "metadata": {},
   "outputs": [],
   "source": [
    "# sorting \"MKT\",\"Time_Period\",\"PROD\"\n",
    "df2.sort_values(['MKT','Time_Period','PROD'],inplace=True)"
   ]
  },
  {
   "cell_type": "code",
   "execution_count": null,
   "metadata": {},
   "outputs": [],
   "source": [
    "df2[\"CP_SEGMENT\"] = \"N/A\"\n"
   ]
  },
  {
   "cell_type": "code",
   "execution_count": null,
   "metadata": {},
   "outputs": [],
   "source": [
    "df2.columns"
   ]
  },
  {
   "cell_type": "code",
   "execution_count": null,
   "metadata": {},
   "outputs": [],
   "source": [
    "df2['Prcnt_ACV']=df2[\"Store_Selling\"]\n",
    "df2['Units_Velocity']=df2[\"Units_velocity\"]\n",
    "\n",
    "final_column_sorting=[\"MKT\",\"Time_Period\",\"PROD\",\"CP_MANUFACTURER\",\"CP_FRANCHISE\",\"CP_BRAND\",\"CP_SUBBRAND\",\n",
    "                      \"Product_Code\",\"CP_FORM\",\"CP_CONTAINER\",\"CP_MULTI\",\"CP_SEGMENT\",\"Doll_Shr\",\"Doll_Shr_Chg\",\n",
    "                      \"Base_Doll_Shr\",\"Base_Doll_Shr_Chg\",\"Store_Selling\",\"Store_Selling_Chg\",\"Doll_Velocity\",\n",
    "                      \"Doll_Velocity_Chg\",\"Cum_Distri_Pts\",\"Cum_Distri_Pts_Chg\",\"Dollars\",\"Dollars_Chg\",\"Prcnt_ACV\",\n",
    "                      \"Units\",\"Units_Velocity\",\"CP_PRICE_TIER\",\"CP_DEAL_TYPE\",\"TOTAL_SIZE\"]\n",
    "\n",
    "Distri_Sku_full_final=df2[final_column_sorting]\n",
    "\n",
    "Distri_Sku_full_final[\"Record_ID\"]=range(1,len(Distri_Sku_full_final)+1)\n",
    "\n"
   ]
  },
  {
   "cell_type": "markdown",
   "metadata": {},
   "source": [
    "**Exporting Dataframe to ouLHSut folder**"
   ]
  },
  {
   "cell_type": "code",
   "execution_count": null,
   "metadata": {},
   "outputs": [],
   "source": [
    "Distri_Sku_full_final.to_csv(path_LHS+\"Distri_Sku_full_data.csv\",index=False)"
   ]
  },
  {
   "cell_type": "code",
   "execution_count": null,
   "metadata": {},
   "outputs": [],
   "source": []
  },
  {
   "cell_type": "markdown",
   "metadata": {},
   "source": [
    "### Distri Cat Data"
   ]
  },
  {
   "cell_type": "code",
   "execution_count": null,
   "metadata": {},
   "outputs": [],
   "source": [
    "Distri_Cat=UPC_Monthly_LHS.copy()"
   ]
  },
  {
   "cell_type": "code",
   "execution_count": null,
   "metadata": {},
   "outputs": [],
   "source": [
    "Markets=[\"Ahold\",\"Alb/Sfy\",\"BJs\",\"CVS\",\"Dollar General\",\"Family Dollar\",\"Meijer\",\"Publix\",\"Rite Aid\",\n",
    "         \"Sams\",\"Shoprite\",\"Target\",\"US AOC\",\"US Drug\",\"US Food\",\"Walgreens\",\"Walmart\"]"
   ]
  },
  {
   "cell_type": "code",
   "execution_count": null,
   "metadata": {},
   "outputs": [],
   "source": [
    "Distri_Cat= Distri_Cat[Distri_Cat[\"Facts\"].isin(Distri_Cat_Data_Facts)]\n",
    "Distri_Cat= Distri_Cat[Distri_Cat['Markets'].isin(Markets)]"
   ]
  },
  {
   "cell_type": "code",
   "execution_count": null,
   "metadata": {},
   "outputs": [],
   "source": [
    "print(\"Missing Facts ->\",len(Distri_Cat_Data_Facts)-len(set(Distri_Cat[\"Facts\"])),\"Missing Markets -> \",len(Markets)-len(set(Distri_Cat[\"Markets\"])))"
   ]
  },
  {
   "cell_type": "markdown",
   "metadata": {},
   "source": [
    "**Fact Mapping**"
   ]
  },
  {
   "cell_type": "code",
   "execution_count": null,
   "metadata": {},
   "outputs": [],
   "source": [
    "Distri_Cat[\"Facts\"].replace(Distri_Fact_Mapping,inplace=True)"
   ]
  },
  {
   "cell_type": "code",
   "execution_count": null,
   "metadata": {},
   "outputs": [],
   "source": [
    "Distri_Cat.head(3)"
   ]
  },
  {
   "cell_type": "markdown",
   "metadata": {},
   "source": [
    "**Column name Change**"
   ]
  },
  {
   "cell_type": "code",
   "execution_count": null,
   "metadata": {},
   "outputs": [],
   "source": [
    "Distri_Cat.columns"
   ]
  },
  {
   "cell_type": "code",
   "execution_count": null,
   "metadata": {},
   "outputs": [],
   "source": [
    "Distri_Cat.rename(columns={'Markets':\"MKT\", 'Manufacturer':\"CP_MANUFACTURER\", 'Franchise':\"CP_FRANCHISE\",\"Item\":\"PROD\",\n",
    "                           'Brand':\"CP_BRAND\",'SubBrand':\"CP_SUBBRAND\",\"ShareBasis\":\"CP_SHARE_BASIS\",\n",
    "                            'UPC':\"Product_Code\"},inplace=True)"
   ]
  },
  {
   "cell_type": "code",
   "execution_count": null,
   "metadata": {
    "scrolled": false
   },
   "outputs": [],
   "source": [
    "Distri_Cat.info()"
   ]
  },
  {
   "cell_type": "code",
   "execution_count": null,
   "metadata": {},
   "outputs": [],
   "source": [
    "Time_Period=list(Distri_Cat.columns[25:26])+list(Distri_Cat.columns[20:22])+list(Distri_Cat.columns[18:19])+list(Distri_Cat.columns[16:17])\n",
    "print(Time_Period)"
   ]
  },
  {
   "cell_type": "markdown",
   "metadata": {},
   "source": [
    "**Moving Time Period to Rows and Facts to Columns**"
   ]
  },
  {
   "cell_type": "code",
   "execution_count": null,
   "metadata": {},
   "outputs": [],
   "source": [
    "df1=pd.melt(Distri_Cat, id_vars =[\"MKT\",\"PROD\",\"CP_MANUFACTURER\",\"CP_FRANCHISE\",\"CP_BRAND\",\"CP_SUBBRAND\",\"Product_Code\",\"Facts\",\"CP_SHARE_BASIS\"], value_vars =Time_Period,var_name=\"Time_Period\")\n",
    "\n",
    "df1[\"value\"]=df1[\"value\"].apply(pd.to_numeric)"
   ]
  },
  {
   "cell_type": "code",
   "execution_count": null,
   "metadata": {},
   "outputs": [],
   "source": [
    "df2=df1.pivot_table(index=[\"MKT\",\"PROD\",\"CP_MANUFACTURER\",\"CP_FRANCHISE\",\"CP_BRAND\",\"CP_SUBBRAND\",\"Product_Code\",\"Time_Period\",\"CP_SHARE_BASIS\"],columns='Facts')\n",
    "\n",
    "df2.columns=df2.columns.droplevel().rename(None)\n",
    "df2.reset_index(inplace =True)"
   ]
  },
  {
   "cell_type": "code",
   "execution_count": null,
   "metadata": {},
   "outputs": [],
   "source": [
    "from pandas.api.types import CategoricalDtype\n",
    "\n",
    "Time_Period_order = CategoricalDtype(\n",
    "    Time_Period, \n",
    "    ordered=True\n",
    ")\n",
    "\n",
    "df2['Time_Period'] = df2['Time_Period'].astype(Time_Period_order)\n",
    "\n",
    "\n",
    "df2.sort_values(['MKT','PROD','Time_Period'],inplace=True)"
   ]
  },
  {
   "cell_type": "code",
   "execution_count": null,
   "metadata": {},
   "outputs": [],
   "source": [
    "df2['Prcnt_ACV']=df2[\"Store_Selling\"]\n",
    "\n",
    "final_column_sorting=[\"MKT\",\"PROD\",\"CP_MANUFACTURER\",\"CP_FRANCHISE\",\"CP_BRAND\",\"CP_SUBBRAND\",\"Product_Code\",\"Time_Period\",\n",
    "                      \"Doll_Shr\",\"Cum_Distri_Pts\",\"Dollars\",\"Store_Selling\",\"Prcnt_ACV\"]\n",
    "\n",
    "Distri_Cat_final=df2[final_column_sorting]\n",
    "\n",
    "Distri_Cat_final[\"Record_ID\"]=range(1,len(Distri_Cat_final)+1)\n",
    "\n"
   ]
  },
  {
   "cell_type": "markdown",
   "metadata": {},
   "source": [
    "**Exporting Dataframe to ouLHSut folder**"
   ]
  },
  {
   "cell_type": "code",
   "execution_count": null,
   "metadata": {},
   "outputs": [],
   "source": [
    "Distri_Cat_final.to_csv(path_LHS+\"Distri_category_skus_Data.csv\",index=False)"
   ]
  },
  {
   "cell_type": "code",
   "execution_count": null,
   "metadata": {},
   "outputs": [],
   "source": []
  },
  {
   "cell_type": "markdown",
   "metadata": {},
   "source": [
    "## FS"
   ]
  },
  {
   "cell_type": "code",
   "execution_count": 52,
   "metadata": {},
   "outputs": [],
   "source": [
    "# path to store Output files\n",
    "path_FS=\"//falmumapp34/Nielsen Connect Transition & Maintenance (20-SCP-3650)/05. Output Data/5P Output/FS/\""
   ]
  },
  {
   "cell_type": "code",
   "execution_count": 53,
   "metadata": {},
   "outputs": [],
   "source": [
    "UPC_Monthly_FS=UPC_Monthly[UPC_Monthly[\"ShareBasis\"].isin(['BEAD FS', 'LIQUID FS', 'SCENT BOOSTERS', 'SHEETS', 'FABRIC SOFTENERS'])]"
   ]
  },
  {
   "cell_type": "code",
   "execution_count": 54,
   "metadata": {},
   "outputs": [
    {
     "data": {
      "text/plain": [
       "{'BEAD FS', 'FABRIC SOFTENERS', 'LIQUID FS', 'SCENT BOOSTERS', 'SHEETS'}"
      ]
     },
     "execution_count": 54,
     "metadata": {},
     "output_type": "execute_result"
    }
   ],
   "source": [
    "set(UPC_Monthly_FS[\"ShareBasis\"])"
   ]
  },
  {
   "cell_type": "code",
   "execution_count": 55,
   "metadata": {},
   "outputs": [],
   "source": [
    "UPC_Monthly_FS[\"ShareBasis\"]=UPC_Monthly_FS[\"ShareBasis\"].replace({'FABRIC SOFTENERS':'TOTAL FS'})"
   ]
  },
  {
   "cell_type": "code",
   "execution_count": 56,
   "metadata": {},
   "outputs": [
    {
     "data": {
      "text/html": [
       "<div>\n",
       "<style scoped>\n",
       "    .dataframe tbody tr th:only-of-type {\n",
       "        vertical-align: middle;\n",
       "    }\n",
       "\n",
       "    .dataframe tbody tr th {\n",
       "        vertical-align: top;\n",
       "    }\n",
       "\n",
       "    .dataframe thead th {\n",
       "        text-align: right;\n",
       "    }\n",
       "</style>\n",
       "<table border=\"1\" class=\"dataframe\">\n",
       "  <thead>\n",
       "    <tr style=\"text-align: right;\">\n",
       "      <th></th>\n",
       "      <th>Markets</th>\n",
       "      <th>ShareBasis</th>\n",
       "      <th>Manufacturer</th>\n",
       "      <th>Franchise</th>\n",
       "      <th>Brand</th>\n",
       "      <th>Size</th>\n",
       "      <th>Item</th>\n",
       "      <th>UPC</th>\n",
       "      <th>Category</th>\n",
       "      <th>Products</th>\n",
       "      <th>...</th>\n",
       "      <th>FY 2017</th>\n",
       "      <th>YTD 2021</th>\n",
       "      <th>YTD 2020</th>\n",
       "      <th>Latest 13 Weeks</th>\n",
       "      <th>Latest 26 Weeks</th>\n",
       "      <th>Q4 2019</th>\n",
       "      <th>Q3 2019</th>\n",
       "      <th>Q2 2019</th>\n",
       "      <th>4 W/E 02/27/21</th>\n",
       "      <th>Key</th>\n",
       "    </tr>\n",
       "  </thead>\n",
       "  <tbody>\n",
       "    <tr>\n",
       "      <th>0</th>\n",
       "      <td>El Super</td>\n",
       "      <td>FABRIC SOFTENERS</td>\n",
       "      <td>COLGATE-PALMOLIVE</td>\n",
       "      <td>SUAVITEL NON US</td>\n",
       "      <td>SUAVITEL NON US</td>\n",
       "      <td>REG &gt; 128 OZ</td>\n",
       "      <td>SUAVITEL FABRIC SOFTENER LIQUID FRESCA PRIMAV...</td>\n",
       "      <td>750954606712</td>\n",
       "      <td>FS</td>\n",
       "      <td>FABRIC SOFTENERS | COLGATE-PALMOLIVE | SUAVITE...</td>\n",
       "      <td>...</td>\n",
       "      <td>89.503</td>\n",
       "      <td>26.818</td>\n",
       "      <td>71.751</td>\n",
       "      <td>32.510</td>\n",
       "      <td>56.438</td>\n",
       "      <td>NaN</td>\n",
       "      <td>NaN</td>\n",
       "      <td>NaN</td>\n",
       "      <td>0.000</td>\n",
       "      <td>El Super Total TAFABRIC SOFTENERS | COLGATE-PA...</td>\n",
       "    </tr>\n",
       "    <tr>\n",
       "      <th>1</th>\n",
       "      <td>El Super</td>\n",
       "      <td>FABRIC SOFTENERS</td>\n",
       "      <td>COLGATE-PALMOLIVE</td>\n",
       "      <td>SUAVITEL NON US</td>\n",
       "      <td>SUAVITEL NON US</td>\n",
       "      <td>REG &gt; 128 OZ</td>\n",
       "      <td>SUAVITEL FABRIC SOFTENER LIQUID FRESCA PRIMAV...</td>\n",
       "      <td>750954606712</td>\n",
       "      <td>FS</td>\n",
       "      <td>FABRIC SOFTENERS | COLGATE-PALMOLIVE | SUAVITE...</td>\n",
       "      <td>...</td>\n",
       "      <td>89.503</td>\n",
       "      <td>-44.933</td>\n",
       "      <td>71.751</td>\n",
       "      <td>-31.222</td>\n",
       "      <td>-20.919</td>\n",
       "      <td>NaN</td>\n",
       "      <td>NaN</td>\n",
       "      <td>NaN</td>\n",
       "      <td>-71.025</td>\n",
       "      <td>El Super Total TAFABRIC SOFTENERS | COLGATE-PA...</td>\n",
       "    </tr>\n",
       "    <tr>\n",
       "      <th>2</th>\n",
       "      <td>El Super</td>\n",
       "      <td>FABRIC SOFTENERS</td>\n",
       "      <td>COLGATE-PALMOLIVE</td>\n",
       "      <td>SUAVITEL NON US</td>\n",
       "      <td>SUAVITEL NON US</td>\n",
       "      <td>REG &gt; 128 OZ</td>\n",
       "      <td>SUAVITEL FABRIC SOFTENER LIQUID FRESCA PRIMAV...</td>\n",
       "      <td>750954606712</td>\n",
       "      <td>FS</td>\n",
       "      <td>FABRIC SOFTENERS | COLGATE-PALMOLIVE | SUAVITE...</td>\n",
       "      <td>...</td>\n",
       "      <td>88.948</td>\n",
       "      <td>28.578</td>\n",
       "      <td>71.698</td>\n",
       "      <td>34.210</td>\n",
       "      <td>58.253</td>\n",
       "      <td>NaN</td>\n",
       "      <td>NaN</td>\n",
       "      <td>NaN</td>\n",
       "      <td>0.000</td>\n",
       "      <td>El Super Total TAFABRIC SOFTENERS | COLGATE-PA...</td>\n",
       "    </tr>\n",
       "  </tbody>\n",
       "</table>\n",
       "<p>3 rows × 24 columns</p>\n",
       "</div>"
      ],
      "text/plain": [
       "    Markets         ShareBasis         Manufacturer          Franchise  \\\n",
       "0  El Super  FABRIC SOFTENERS    COLGATE-PALMOLIVE    SUAVITEL NON US    \n",
       "1  El Super  FABRIC SOFTENERS    COLGATE-PALMOLIVE    SUAVITEL NON US    \n",
       "2  El Super  FABRIC SOFTENERS    COLGATE-PALMOLIVE    SUAVITEL NON US    \n",
       "\n",
       "               Brand            Size  \\\n",
       "0   SUAVITEL NON US    REG > 128 OZ    \n",
       "1   SUAVITEL NON US    REG > 128 OZ    \n",
       "2   SUAVITEL NON US    REG > 128 OZ    \n",
       "\n",
       "                                                Item            UPC Category  \\\n",
       "0   SUAVITEL FABRIC SOFTENER LIQUID FRESCA PRIMAV...   750954606712       FS   \n",
       "1   SUAVITEL FABRIC SOFTENER LIQUID FRESCA PRIMAV...   750954606712       FS   \n",
       "2   SUAVITEL FABRIC SOFTENER LIQUID FRESCA PRIMAV...   750954606712       FS   \n",
       "\n",
       "                                            Products  ... FY 2017  YTD 2021  \\\n",
       "0  FABRIC SOFTENERS | COLGATE-PALMOLIVE | SUAVITE...  ...  89.503    26.818   \n",
       "1  FABRIC SOFTENERS | COLGATE-PALMOLIVE | SUAVITE...  ...  89.503   -44.933   \n",
       "2  FABRIC SOFTENERS | COLGATE-PALMOLIVE | SUAVITE...  ...  88.948    28.578   \n",
       "\n",
       "   YTD 2020  Latest 13 Weeks  Latest 26 Weeks  Q4 2019  Q3 2019  Q2 2019  \\\n",
       "0    71.751           32.510           56.438      NaN      NaN      NaN   \n",
       "1    71.751          -31.222          -20.919      NaN      NaN      NaN   \n",
       "2    71.698           34.210           58.253      NaN      NaN      NaN   \n",
       "\n",
       "   4 W/E 02/27/21                                                Key  \n",
       "0           0.000  El Super Total TAFABRIC SOFTENERS | COLGATE-PA...  \n",
       "1         -71.025  El Super Total TAFABRIC SOFTENERS | COLGATE-PA...  \n",
       "2           0.000  El Super Total TAFABRIC SOFTENERS | COLGATE-PA...  \n",
       "\n",
       "[3 rows x 24 columns]"
      ]
     },
     "execution_count": 56,
     "metadata": {},
     "output_type": "execute_result"
    }
   ],
   "source": [
    "New_Column=[\"ShareBasis\",\"Manufacturer\",\"Franchise\",\"Brand\",\"Size\",\"Item\",\"UPC\"]\n",
    "\n",
    "UPC_Monthly_FS[New_Column] = UPC_Monthly_FS['Products'].str.split('|',n=6,expand=True)\n",
    "\n",
    "\n",
    "UPC_Monthly_FS[New_Column].fillna(value=\"\")\n",
    "UPC_Monthly_FS.head(3)\n",
    "\n",
    "# Moving columns after \"Market\"\n",
    "UPC_Monthly_FS = movecol(UPC_Monthly_FS, \n",
    "             cols_to_move=New_Column, \n",
    "             ref_col='Markets',\n",
    "             place='After')\n",
    "UPC_Monthly_FS.head(3)"
   ]
  },
  {
   "cell_type": "code",
   "execution_count": 57,
   "metadata": {
    "scrolled": true
   },
   "outputs": [
    {
     "data": {
      "text/plain": [
       "(382267, 24)"
      ]
     },
     "execution_count": 57,
     "metadata": {},
     "output_type": "execute_result"
    }
   ],
   "source": [
    "UPC_Monthly_FS[\"ShareBasis\"]=UPC_Monthly_FS[\"ShareBasis\"].replace({'FABRIC SOFTENERS':'TOTAL FS'})\n",
    "UPC_Monthly_FS.shape"
   ]
  },
  {
   "cell_type": "code",
   "execution_count": 58,
   "metadata": {},
   "outputs": [
    {
     "data": {
      "text/plain": [
       "{'BEAD FS ', 'FABRIC SOFTENERS ', 'LIQUID FS ', 'SCENT BOOSTERS ', 'SHEETS '}"
      ]
     },
     "execution_count": 58,
     "metadata": {},
     "output_type": "execute_result"
    }
   ],
   "source": [
    "set(UPC_Monthly_FS[\"ShareBasis\"])"
   ]
  },
  {
   "cell_type": "markdown",
   "metadata": {},
   "source": [
    "**Strip Columns**"
   ]
  },
  {
   "cell_type": "code",
   "execution_count": 59,
   "metadata": {},
   "outputs": [],
   "source": [
    "cols=list(UPC_Monthly_FS.columns[0:10])\n",
    "UPC_Monthly_FS[cols]=UPC_Monthly_FS[cols].apply(lambda x : x.str.strip())"
   ]
  },
  {
   "cell_type": "markdown",
   "metadata": {},
   "source": [
    " "
   ]
  },
  {
   "cell_type": "code",
   "execution_count": 60,
   "metadata": {},
   "outputs": [],
   "source": [
    "UPC_Monthly_FS[\"ShareBasis\"]=UPC_Monthly_FS[\"ShareBasis\"].replace({'FABRIC SOFTENERS':'TOTAL FS'})"
   ]
  },
  {
   "cell_type": "markdown",
   "metadata": {},
   "source": [
    "### Distri Sku Data"
   ]
  },
  {
   "cell_type": "code",
   "execution_count": 61,
   "metadata": {},
   "outputs": [],
   "source": [
    "Distri_Sku=UPC_Monthly_FS.copy()"
   ]
  },
  {
   "cell_type": "code",
   "execution_count": 62,
   "metadata": {},
   "outputs": [
    {
     "data": {
      "text/plain": [
       "{'BEAD FS', 'LIQUID FS', 'SCENT BOOSTERS', 'SHEETS', 'TOTAL FS'}"
      ]
     },
     "execution_count": 62,
     "metadata": {},
     "output_type": "execute_result"
    }
   ],
   "source": [
    "set(Distri_Sku[\"ShareBasis\"])"
   ]
  },
  {
   "cell_type": "code",
   "execution_count": 63,
   "metadata": {},
   "outputs": [],
   "source": [
    "Markets=[\"BJs\",\"CVS\",\"Dollar General\",\"El Super\",\"Family Dollar\",\"Kmart\",\"Publix\",\"Rite Aid\",\n",
    "         \"Sams\",\"Target\",\"US AOC\",\"US Drug\",\"US Food\",\"Walgreens\",\"Walmart\"]"
   ]
  },
  {
   "cell_type": "code",
   "execution_count": 64,
   "metadata": {},
   "outputs": [],
   "source": [
    "Distri_Sku= Distri_Sku[Distri_Sku[\"Facts\"].isin(Distri_Sku_Facts)]\n",
    "Distri_Sku= Distri_Sku[Distri_Sku['Markets'].isin(Markets)]"
   ]
  },
  {
   "cell_type": "code",
   "execution_count": 65,
   "metadata": {},
   "outputs": [
    {
     "name": "stdout",
     "output_type": "stream",
     "text": [
      "Missing Facts -> 0 Missing Markets ->  0\n"
     ]
    }
   ],
   "source": [
    "print(\"Missing Facts ->\",len(Distri_Sku_Facts)-len(set(Distri_Sku[\"Facts\"])),\"Missing Markets -> \",len(Markets)-len(set(Distri_Sku[\"Markets\"])))"
   ]
  },
  {
   "cell_type": "markdown",
   "metadata": {},
   "source": [
    "**Fact Mapping**"
   ]
  },
  {
   "cell_type": "code",
   "execution_count": 66,
   "metadata": {},
   "outputs": [],
   "source": [
    "Distri_Sku[\"Facts\"].replace(Distri_Fact_Mapping,inplace=True)"
   ]
  },
  {
   "cell_type": "code",
   "execution_count": 67,
   "metadata": {},
   "outputs": [
    {
     "data": {
      "text/html": [
       "<div>\n",
       "<style scoped>\n",
       "    .dataframe tbody tr th:only-of-type {\n",
       "        vertical-align: middle;\n",
       "    }\n",
       "\n",
       "    .dataframe tbody tr th {\n",
       "        vertical-align: top;\n",
       "    }\n",
       "\n",
       "    .dataframe thead th {\n",
       "        text-align: right;\n",
       "    }\n",
       "</style>\n",
       "<table border=\"1\" class=\"dataframe\">\n",
       "  <thead>\n",
       "    <tr style=\"text-align: right;\">\n",
       "      <th></th>\n",
       "      <th>Markets</th>\n",
       "      <th>ShareBasis</th>\n",
       "      <th>Manufacturer</th>\n",
       "      <th>Franchise</th>\n",
       "      <th>Brand</th>\n",
       "      <th>Size</th>\n",
       "      <th>Item</th>\n",
       "      <th>UPC</th>\n",
       "      <th>Category</th>\n",
       "      <th>Products</th>\n",
       "      <th>...</th>\n",
       "      <th>FY 2017</th>\n",
       "      <th>YTD 2021</th>\n",
       "      <th>YTD 2020</th>\n",
       "      <th>Latest 13 Weeks</th>\n",
       "      <th>Latest 26 Weeks</th>\n",
       "      <th>Q4 2019</th>\n",
       "      <th>Q3 2019</th>\n",
       "      <th>Q2 2019</th>\n",
       "      <th>4 W/E 02/27/21</th>\n",
       "      <th>Key</th>\n",
       "    </tr>\n",
       "  </thead>\n",
       "  <tbody>\n",
       "    <tr>\n",
       "      <th>4</th>\n",
       "      <td>El Super</td>\n",
       "      <td>TOTAL FS</td>\n",
       "      <td>COLGATE-PALMOLIVE</td>\n",
       "      <td>SUAVITEL NON US</td>\n",
       "      <td>SUAVITEL NON US</td>\n",
       "      <td>REG &gt; 128 OZ</td>\n",
       "      <td>SUAVITEL FABRIC SOFTENER LIQUID FRESCA PRIMAVE...</td>\n",
       "      <td>750954606712</td>\n",
       "      <td>FS</td>\n",
       "      <td>FABRIC SOFTENERS | COLGATE-PALMOLIVE | SUAVITE...</td>\n",
       "      <td>...</td>\n",
       "      <td>4.262</td>\n",
       "      <td>26.472</td>\n",
       "      <td>10.377</td>\n",
       "      <td>44.07</td>\n",
       "      <td>56.302</td>\n",
       "      <td>NaN</td>\n",
       "      <td>NaN</td>\n",
       "      <td>NaN</td>\n",
       "      <td>13.044</td>\n",
       "      <td>El Super Total TAFABRIC SOFTENERS | COLGATE-PA...</td>\n",
       "    </tr>\n",
       "    <tr>\n",
       "      <th>5</th>\n",
       "      <td>El Super</td>\n",
       "      <td>TOTAL FS</td>\n",
       "      <td>COLGATE-PALMOLIVE</td>\n",
       "      <td>SUAVITEL NON US</td>\n",
       "      <td>SUAVITEL NON US</td>\n",
       "      <td>REG &gt; 128 OZ</td>\n",
       "      <td>SUAVITEL FABRIC SOFTENER LIQUID FRESCA PRIMAVE...</td>\n",
       "      <td>750954606712</td>\n",
       "      <td>FS</td>\n",
       "      <td>FABRIC SOFTENERS | COLGATE-PALMOLIVE | SUAVITE...</td>\n",
       "      <td>...</td>\n",
       "      <td>4.262</td>\n",
       "      <td>16.095</td>\n",
       "      <td>10.377</td>\n",
       "      <td>24.36</td>\n",
       "      <td>26.921</td>\n",
       "      <td>NaN</td>\n",
       "      <td>NaN</td>\n",
       "      <td>NaN</td>\n",
       "      <td>5.585</td>\n",
       "      <td>El Super Total TAFABRIC SOFTENERS | COLGATE-PA...</td>\n",
       "    </tr>\n",
       "    <tr>\n",
       "      <th>6</th>\n",
       "      <td>El Super</td>\n",
       "      <td>TOTAL FS</td>\n",
       "      <td>COLGATE-PALMOLIVE</td>\n",
       "      <td>SUAVITEL NON US</td>\n",
       "      <td>SUAVITEL NON US</td>\n",
       "      <td>REG &gt; 128 OZ</td>\n",
       "      <td>SUAVITEL FABRIC SOFTENER LIQUID FRESCA PRIMAVE...</td>\n",
       "      <td>750954606712</td>\n",
       "      <td>FS</td>\n",
       "      <td>FABRIC SOFTENERS | COLGATE-PALMOLIVE | SUAVITE...</td>\n",
       "      <td>...</td>\n",
       "      <td>72898.970</td>\n",
       "      <td>21005.550</td>\n",
       "      <td>3121.200</td>\n",
       "      <td>75893.90</td>\n",
       "      <td>251480.290</td>\n",
       "      <td>NaN</td>\n",
       "      <td>NaN</td>\n",
       "      <td>NaN</td>\n",
       "      <td>5338.910</td>\n",
       "      <td>El Super Total TAFABRIC SOFTENERS | COLGATE-PA...</td>\n",
       "    </tr>\n",
       "  </tbody>\n",
       "</table>\n",
       "<p>3 rows × 24 columns</p>\n",
       "</div>"
      ],
      "text/plain": [
       "    Markets ShareBasis       Manufacturer        Franchise            Brand  \\\n",
       "4  El Super   TOTAL FS  COLGATE-PALMOLIVE  SUAVITEL NON US  SUAVITEL NON US   \n",
       "5  El Super   TOTAL FS  COLGATE-PALMOLIVE  SUAVITEL NON US  SUAVITEL NON US   \n",
       "6  El Super   TOTAL FS  COLGATE-PALMOLIVE  SUAVITEL NON US  SUAVITEL NON US   \n",
       "\n",
       "           Size                                               Item  \\\n",
       "4  REG > 128 OZ  SUAVITEL FABRIC SOFTENER LIQUID FRESCA PRIMAVE...   \n",
       "5  REG > 128 OZ  SUAVITEL FABRIC SOFTENER LIQUID FRESCA PRIMAVE...   \n",
       "6  REG > 128 OZ  SUAVITEL FABRIC SOFTENER LIQUID FRESCA PRIMAVE...   \n",
       "\n",
       "            UPC Category                                           Products  \\\n",
       "4  750954606712       FS  FABRIC SOFTENERS | COLGATE-PALMOLIVE | SUAVITE...   \n",
       "5  750954606712       FS  FABRIC SOFTENERS | COLGATE-PALMOLIVE | SUAVITE...   \n",
       "6  750954606712       FS  FABRIC SOFTENERS | COLGATE-PALMOLIVE | SUAVITE...   \n",
       "\n",
       "   ...    FY 2017   YTD 2021  YTD 2020  Latest 13 Weeks  Latest 26 Weeks  \\\n",
       "4  ...      4.262     26.472    10.377            44.07           56.302   \n",
       "5  ...      4.262     16.095    10.377            24.36           26.921   \n",
       "6  ...  72898.970  21005.550  3121.200         75893.90       251480.290   \n",
       "\n",
       "   Q4 2019  Q3 2019  Q2 2019  4 W/E 02/27/21  \\\n",
       "4      NaN      NaN      NaN          13.044   \n",
       "5      NaN      NaN      NaN           5.585   \n",
       "6      NaN      NaN      NaN        5338.910   \n",
       "\n",
       "                                                 Key  \n",
       "4  El Super Total TAFABRIC SOFTENERS | COLGATE-PA...  \n",
       "5  El Super Total TAFABRIC SOFTENERS | COLGATE-PA...  \n",
       "6  El Super Total TAFABRIC SOFTENERS | COLGATE-PA...  \n",
       "\n",
       "[3 rows x 24 columns]"
      ]
     },
     "execution_count": 67,
     "metadata": {},
     "output_type": "execute_result"
    }
   ],
   "source": [
    "Distri_Sku.head(3)"
   ]
  },
  {
   "cell_type": "markdown",
   "metadata": {},
   "source": [
    "**Column name Change**"
   ]
  },
  {
   "cell_type": "code",
   "execution_count": 68,
   "metadata": {
    "scrolled": true
   },
   "outputs": [
    {
     "data": {
      "text/plain": [
       "Index(['Markets', 'ShareBasis', 'Manufacturer', 'Franchise', 'Brand', 'Size',\n",
       "       'Item', 'UPC', 'Category', 'Products', 'Facts', 'FY 2020', 'FY 2019',\n",
       "       'FY 2018', 'FY 2017', 'YTD 2021', 'YTD 2020', 'Latest 13 Weeks',\n",
       "       'Latest 26 Weeks', 'Q4 2019', 'Q3 2019', 'Q2 2019', '4 W/E 02/27/21',\n",
       "       'Key'],\n",
       "      dtype='object')"
      ]
     },
     "execution_count": 68,
     "metadata": {},
     "output_type": "execute_result"
    }
   ],
   "source": [
    "Distri_Sku.columns"
   ]
  },
  {
   "cell_type": "code",
   "execution_count": null,
   "metadata": {},
   "outputs": [],
   "source": []
  },
  {
   "cell_type": "code",
   "execution_count": 69,
   "metadata": {},
   "outputs": [],
   "source": [
    "Distri_Sku.rename(columns={'Markets':\"MKT\", 'ShareBasis':\"CP_SHARE_BASIS\", 'Manufacturer':\"CP_MANUFACTURER\",\n",
    "                           'Franchise':\"CP_FRANCHISE\", 'Brand':\"CP_BRAND\", 'Size':\"CP_SIZE_RANGE\",\n",
    "                       'UPC':\"Product_Code\",'Item':\"PROD\"},inplace=True)"
   ]
  },
  {
   "cell_type": "code",
   "execution_count": 70,
   "metadata": {},
   "outputs": [
    {
     "name": "stdout",
     "output_type": "stream",
     "text": [
      "['4 W/E 02/27/21', 'Latest 13 Weeks', 'Latest 26 Weeks', 'YTD 2021', 'FY 2020']\n"
     ]
    }
   ],
   "source": [
    "Time_Period=list(Distri_Sku.columns[22:23])+list(Distri_Sku.columns[17:19])+list(Distri_Sku.columns[15:16])+list(Distri_Sku.columns[11:12])\n",
    "print(Time_Period)"
   ]
  },
  {
   "cell_type": "markdown",
   "metadata": {},
   "source": [
    "**Moving Time Period to Rows and Facts to Columns**"
   ]
  },
  {
   "cell_type": "code",
   "execution_count": 71,
   "metadata": {},
   "outputs": [],
   "source": [
    "Distri_Sku[\"Dummy1\"]=\"Dummmy\""
   ]
  },
  {
   "cell_type": "code",
   "execution_count": 72,
   "metadata": {},
   "outputs": [],
   "source": [
    "df1=pd.melt(Distri_Sku, id_vars =[\"MKT\",\"PROD\",\"CP_MANUFACTURER\",\"CP_FRANCHISE\",\"CP_BRAND\",\"Dummy1\",\"Product_Code\",\"CP_SHARE_BASIS\",\"Facts\"], value_vars =Time_Period,var_name=\"Time_Period\")\n",
    "\n",
    "df1[\"value\"]=df1[\"value\"].apply(pd.to_numeric)"
   ]
  },
  {
   "cell_type": "code",
   "execution_count": 73,
   "metadata": {},
   "outputs": [],
   "source": [
    "df2=df1.pivot_table(index=[\"MKT\",\"PROD\",\"CP_MANUFACTURER\",\"CP_FRANCHISE\",\"CP_BRAND\",\"Dummy1\",\"Product_Code\",\"CP_SHARE_BASIS\",\"Time_Period\"],columns='Facts')\n",
    "\n",
    "df2.columns=df2.columns.droplevel().rename(None)\n",
    "df2.reset_index(inplace =True)"
   ]
  },
  {
   "cell_type": "code",
   "execution_count": 74,
   "metadata": {},
   "outputs": [],
   "source": [
    "from pandas.api.types import CategoricalDtype\n",
    "\n",
    "Time_Period_order = CategoricalDtype(\n",
    "    Time_Period, \n",
    "    ordered=True\n",
    ")\n",
    "\n",
    "df2['Time_Period'] = df2['Time_Period'].astype(Time_Period_order)\n",
    "\n",
    "df2.sort_values(['MKT','PROD','Time_Period'],inplace=True)"
   ]
  },
  {
   "cell_type": "code",
   "execution_count": 75,
   "metadata": {},
   "outputs": [
    {
     "data": {
      "text/plain": [
       "Index(['MKT', 'PROD', 'CP_MANUFACTURER', 'CP_FRANCHISE', 'CP_BRAND', 'Dummy1',\n",
       "       'Product_Code', 'CP_SHARE_BASIS', 'Time_Period', 'Base_Doll_Shr',\n",
       "       'Base_Doll_Shr_Chg', 'Cum_Distri_Pts', 'Cum_Distri_Pts_Chg', 'Doll_Shr',\n",
       "       'Doll_Shr_Chg', 'Doll_Velocity', 'Doll_Velocity_Chg', 'Dollars',\n",
       "       'Dollars_Chg', 'Store_Selling', 'Store_Selling_Chg', 'Units'],\n",
       "      dtype='object')"
      ]
     },
     "execution_count": 75,
     "metadata": {},
     "output_type": "execute_result"
    }
   ],
   "source": [
    "df2.columns"
   ]
  },
  {
   "cell_type": "code",
   "execution_count": 76,
   "metadata": {},
   "outputs": [],
   "source": [
    "# df2['CP_SEGMENT']=df2[ \"CP_SHARE_BASIS\"]\n",
    "# df2['Prcnt_ACV']=df2[ \"Store_Selling\"]\n",
    "\n",
    "final_column_sorting=[\"MKT\",\"PROD\",\"CP_MANUFACTURER\",\"CP_FRANCHISE\",\"CP_BRAND\",\"Dummy1\",\"Product_Code\",\"Time_Period\",\n",
    "                      \"Doll_Shr\",\"Doll_Shr_Chg\",\"Base_Doll_Shr\",\"Base_Doll_Shr_Chg\",\"Store_Selling\",\"Store_Selling_Chg\",\n",
    "                      \"Doll_Velocity\",\"Doll_Velocity_Chg\",\"Cum_Distri_Pts\",\"Cum_Distri_Pts_Chg\",\"Dollars\",\"Dollars_Chg\",\n",
    "                      \"Units\",\"CP_SHARE_BASIS\"]\n",
    "\n",
    "Distri_Sku_final=df2[final_column_sorting]\n",
    "\n",
    "Distri_Sku_final[\"Record_ID\"]=range(1,len(Distri_Sku_final)+1)\n",
    "\n"
   ]
  },
  {
   "cell_type": "markdown",
   "metadata": {},
   "source": [
    "**Exporting Dataframe to ouFSut folder**"
   ]
  },
  {
   "cell_type": "code",
   "execution_count": 77,
   "metadata": {},
   "outputs": [],
   "source": [
    "Distri_Sku_final.to_csv(path_FS+\"Distri_sku_data.csv\",index=False)"
   ]
  },
  {
   "cell_type": "code",
   "execution_count": null,
   "metadata": {},
   "outputs": [],
   "source": []
  },
  {
   "cell_type": "markdown",
   "metadata": {},
   "source": [
    "### Distri Sku Full Data"
   ]
  },
  {
   "cell_type": "code",
   "execution_count": 78,
   "metadata": {},
   "outputs": [],
   "source": [
    "Distri_Sku_full=UPC_Monthly_FS.copy()"
   ]
  },
  {
   "cell_type": "code",
   "execution_count": 79,
   "metadata": {},
   "outputs": [],
   "source": [
    "Markets=[\"BJs\",\"CVS\",\"Dollar General\",\"El Super\",\"Family Dollar\",\"Kmart\",\"Publix\",\"Rite Aid\",\n",
    "         \"Sams\",\"Target\",\"US AOC\",\"US Drug\",\"US Food\",\"Walgreens\",\"Walmart\"]"
   ]
  },
  {
   "cell_type": "code",
   "execution_count": 80,
   "metadata": {},
   "outputs": [],
   "source": [
    "Distri_Sku_full= Distri_Sku_full[Distri_Sku_full[\"Facts\"].isin(Distr_Sku_Full_Data_Facts)]\n",
    "Distri_Sku_full= Distri_Sku_full[Distri_Sku_full['Markets'].isin(Markets)]"
   ]
  },
  {
   "cell_type": "code",
   "execution_count": 81,
   "metadata": {},
   "outputs": [
    {
     "name": "stdout",
     "output_type": "stream",
     "text": [
      "Missing Facts -> 0 Missing Markets ->  0\n"
     ]
    }
   ],
   "source": [
    "print(\"Missing Facts ->\",len(Distr_Sku_Full_Data_Facts)-len(set(Distri_Sku_full[\"Facts\"])),\"Missing Markets -> \",len(Markets)-len(set(Distri_Sku_full[\"Markets\"])))"
   ]
  },
  {
   "cell_type": "markdown",
   "metadata": {},
   "source": [
    "**Fact Mapping**"
   ]
  },
  {
   "cell_type": "code",
   "execution_count": 82,
   "metadata": {},
   "outputs": [],
   "source": [
    "Distri_Sku_full[\"Facts\"].replace(Distri_Fact_Mapping,inplace=True)"
   ]
  },
  {
   "cell_type": "code",
   "execution_count": 83,
   "metadata": {},
   "outputs": [],
   "source": [
    "# Distri_Sku_full = Distri_Sku_full[Distri_Sku_full[\"Size\"] != \"BANDED PACK\"]"
   ]
  },
  {
   "cell_type": "code",
   "execution_count": 84,
   "metadata": {},
   "outputs": [],
   "source": [
    "Distri_Sku_full[\"Size\"] = Distri_Sku_full[\"Size\"].str.replace(\"PK\", \"COUNT\")"
   ]
  },
  {
   "cell_type": "code",
   "execution_count": 85,
   "metadata": {
    "scrolled": true
   },
   "outputs": [
    {
     "data": {
      "text/html": [
       "<div>\n",
       "<style scoped>\n",
       "    .dataframe tbody tr th:only-of-type {\n",
       "        vertical-align: middle;\n",
       "    }\n",
       "\n",
       "    .dataframe tbody tr th {\n",
       "        vertical-align: top;\n",
       "    }\n",
       "\n",
       "    .dataframe thead th {\n",
       "        text-align: right;\n",
       "    }\n",
       "</style>\n",
       "<table border=\"1\" class=\"dataframe\">\n",
       "  <thead>\n",
       "    <tr style=\"text-align: right;\">\n",
       "      <th></th>\n",
       "      <th>Markets</th>\n",
       "      <th>ShareBasis</th>\n",
       "      <th>Manufacturer</th>\n",
       "      <th>Franchise</th>\n",
       "      <th>Brand</th>\n",
       "      <th>Size</th>\n",
       "      <th>Item</th>\n",
       "      <th>UPC</th>\n",
       "      <th>Category</th>\n",
       "      <th>Products</th>\n",
       "      <th>...</th>\n",
       "      <th>FY 2017</th>\n",
       "      <th>YTD 2021</th>\n",
       "      <th>YTD 2020</th>\n",
       "      <th>Latest 13 Weeks</th>\n",
       "      <th>Latest 26 Weeks</th>\n",
       "      <th>Q4 2019</th>\n",
       "      <th>Q3 2019</th>\n",
       "      <th>Q2 2019</th>\n",
       "      <th>4 W/E 02/27/21</th>\n",
       "      <th>Key</th>\n",
       "    </tr>\n",
       "  </thead>\n",
       "  <tbody>\n",
       "    <tr>\n",
       "      <th>4</th>\n",
       "      <td>El Super</td>\n",
       "      <td>TOTAL FS</td>\n",
       "      <td>COLGATE-PALMOLIVE</td>\n",
       "      <td>SUAVITEL NON US</td>\n",
       "      <td>SUAVITEL NON US</td>\n",
       "      <td>REG &gt; 128 OZ</td>\n",
       "      <td>SUAVITEL FABRIC SOFTENER LIQUID FRESCA PRIMAVE...</td>\n",
       "      <td>750954606712</td>\n",
       "      <td>FS</td>\n",
       "      <td>FABRIC SOFTENERS | COLGATE-PALMOLIVE | SUAVITE...</td>\n",
       "      <td>...</td>\n",
       "      <td>4.262</td>\n",
       "      <td>26.472</td>\n",
       "      <td>10.377</td>\n",
       "      <td>44.07</td>\n",
       "      <td>56.302</td>\n",
       "      <td>NaN</td>\n",
       "      <td>NaN</td>\n",
       "      <td>NaN</td>\n",
       "      <td>13.044</td>\n",
       "      <td>El Super Total TAFABRIC SOFTENERS | COLGATE-PA...</td>\n",
       "    </tr>\n",
       "    <tr>\n",
       "      <th>5</th>\n",
       "      <td>El Super</td>\n",
       "      <td>TOTAL FS</td>\n",
       "      <td>COLGATE-PALMOLIVE</td>\n",
       "      <td>SUAVITEL NON US</td>\n",
       "      <td>SUAVITEL NON US</td>\n",
       "      <td>REG &gt; 128 OZ</td>\n",
       "      <td>SUAVITEL FABRIC SOFTENER LIQUID FRESCA PRIMAVE...</td>\n",
       "      <td>750954606712</td>\n",
       "      <td>FS</td>\n",
       "      <td>FABRIC SOFTENERS | COLGATE-PALMOLIVE | SUAVITE...</td>\n",
       "      <td>...</td>\n",
       "      <td>4.262</td>\n",
       "      <td>16.095</td>\n",
       "      <td>10.377</td>\n",
       "      <td>24.36</td>\n",
       "      <td>26.921</td>\n",
       "      <td>NaN</td>\n",
       "      <td>NaN</td>\n",
       "      <td>NaN</td>\n",
       "      <td>5.585</td>\n",
       "      <td>El Super Total TAFABRIC SOFTENERS | COLGATE-PA...</td>\n",
       "    </tr>\n",
       "    <tr>\n",
       "      <th>6</th>\n",
       "      <td>El Super</td>\n",
       "      <td>TOTAL FS</td>\n",
       "      <td>COLGATE-PALMOLIVE</td>\n",
       "      <td>SUAVITEL NON US</td>\n",
       "      <td>SUAVITEL NON US</td>\n",
       "      <td>REG &gt; 128 OZ</td>\n",
       "      <td>SUAVITEL FABRIC SOFTENER LIQUID FRESCA PRIMAVE...</td>\n",
       "      <td>750954606712</td>\n",
       "      <td>FS</td>\n",
       "      <td>FABRIC SOFTENERS | COLGATE-PALMOLIVE | SUAVITE...</td>\n",
       "      <td>...</td>\n",
       "      <td>72898.970</td>\n",
       "      <td>21005.550</td>\n",
       "      <td>3121.200</td>\n",
       "      <td>75893.90</td>\n",
       "      <td>251480.290</td>\n",
       "      <td>NaN</td>\n",
       "      <td>NaN</td>\n",
       "      <td>NaN</td>\n",
       "      <td>5338.910</td>\n",
       "      <td>El Super Total TAFABRIC SOFTENERS | COLGATE-PA...</td>\n",
       "    </tr>\n",
       "  </tbody>\n",
       "</table>\n",
       "<p>3 rows × 24 columns</p>\n",
       "</div>"
      ],
      "text/plain": [
       "    Markets ShareBasis       Manufacturer        Franchise            Brand  \\\n",
       "4  El Super   TOTAL FS  COLGATE-PALMOLIVE  SUAVITEL NON US  SUAVITEL NON US   \n",
       "5  El Super   TOTAL FS  COLGATE-PALMOLIVE  SUAVITEL NON US  SUAVITEL NON US   \n",
       "6  El Super   TOTAL FS  COLGATE-PALMOLIVE  SUAVITEL NON US  SUAVITEL NON US   \n",
       "\n",
       "           Size                                               Item  \\\n",
       "4  REG > 128 OZ  SUAVITEL FABRIC SOFTENER LIQUID FRESCA PRIMAVE...   \n",
       "5  REG > 128 OZ  SUAVITEL FABRIC SOFTENER LIQUID FRESCA PRIMAVE...   \n",
       "6  REG > 128 OZ  SUAVITEL FABRIC SOFTENER LIQUID FRESCA PRIMAVE...   \n",
       "\n",
       "            UPC Category                                           Products  \\\n",
       "4  750954606712       FS  FABRIC SOFTENERS | COLGATE-PALMOLIVE | SUAVITE...   \n",
       "5  750954606712       FS  FABRIC SOFTENERS | COLGATE-PALMOLIVE | SUAVITE...   \n",
       "6  750954606712       FS  FABRIC SOFTENERS | COLGATE-PALMOLIVE | SUAVITE...   \n",
       "\n",
       "   ...    FY 2017   YTD 2021  YTD 2020  Latest 13 Weeks  Latest 26 Weeks  \\\n",
       "4  ...      4.262     26.472    10.377            44.07           56.302   \n",
       "5  ...      4.262     16.095    10.377            24.36           26.921   \n",
       "6  ...  72898.970  21005.550  3121.200         75893.90       251480.290   \n",
       "\n",
       "   Q4 2019  Q3 2019  Q2 2019  4 W/E 02/27/21  \\\n",
       "4      NaN      NaN      NaN          13.044   \n",
       "5      NaN      NaN      NaN           5.585   \n",
       "6      NaN      NaN      NaN        5338.910   \n",
       "\n",
       "                                                 Key  \n",
       "4  El Super Total TAFABRIC SOFTENERS | COLGATE-PA...  \n",
       "5  El Super Total TAFABRIC SOFTENERS | COLGATE-PA...  \n",
       "6  El Super Total TAFABRIC SOFTENERS | COLGATE-PA...  \n",
       "\n",
       "[3 rows x 24 columns]"
      ]
     },
     "execution_count": 85,
     "metadata": {},
     "output_type": "execute_result"
    }
   ],
   "source": [
    "Distri_Sku_full.head(3)"
   ]
  },
  {
   "cell_type": "markdown",
   "metadata": {},
   "source": [
    "**Column name Change**"
   ]
  },
  {
   "cell_type": "code",
   "execution_count": 86,
   "metadata": {},
   "outputs": [
    {
     "data": {
      "text/plain": [
       "Index(['Markets', 'ShareBasis', 'Manufacturer', 'Franchise', 'Brand', 'Size',\n",
       "       'Item', 'UPC', 'Category', 'Products', 'Facts', 'FY 2020', 'FY 2019',\n",
       "       'FY 2018', 'FY 2017', 'YTD 2021', 'YTD 2020', 'Latest 13 Weeks',\n",
       "       'Latest 26 Weeks', 'Q4 2019', 'Q3 2019', 'Q2 2019', '4 W/E 02/27/21',\n",
       "       'Key'],\n",
       "      dtype='object')"
      ]
     },
     "execution_count": 86,
     "metadata": {},
     "output_type": "execute_result"
    }
   ],
   "source": [
    "Distri_Sku_full.columns"
   ]
  },
  {
   "cell_type": "code",
   "execution_count": 87,
   "metadata": {},
   "outputs": [],
   "source": [
    "Distri_Sku_full.rename(columns={'Markets':\"MKT\", 'ShareBasis':\"CP_SHARE_BASIS\", 'Manufacturer':\"CP_MANUFACTURER\",\n",
    "                           'Franchise':\"CP_FRANCHISE\", 'Brand':\"CP_BRAND\", 'Size':\"CP_SIZE_RANGE\",\n",
    "                       'UPC':\"Product_Code\",'Item':\"PROD\"},inplace=True)"
   ]
  },
  {
   "cell_type": "code",
   "execution_count": 88,
   "metadata": {
    "scrolled": false
   },
   "outputs": [
    {
     "data": {
      "text/html": [
       "<div>\n",
       "<style scoped>\n",
       "    .dataframe tbody tr th:only-of-type {\n",
       "        vertical-align: middle;\n",
       "    }\n",
       "\n",
       "    .dataframe tbody tr th {\n",
       "        vertical-align: top;\n",
       "    }\n",
       "\n",
       "    .dataframe thead th {\n",
       "        text-align: right;\n",
       "    }\n",
       "</style>\n",
       "<table border=\"1\" class=\"dataframe\">\n",
       "  <thead>\n",
       "    <tr style=\"text-align: right;\">\n",
       "      <th></th>\n",
       "      <th>MKT</th>\n",
       "      <th>CP_SHARE_BASIS</th>\n",
       "      <th>CP_MANUFACTURER</th>\n",
       "      <th>CP_FRANCHISE</th>\n",
       "      <th>CP_BRAND</th>\n",
       "      <th>CP_SIZE_RANGE</th>\n",
       "      <th>PROD</th>\n",
       "      <th>Product_Code</th>\n",
       "      <th>Category</th>\n",
       "      <th>Products</th>\n",
       "      <th>...</th>\n",
       "      <th>FY 2017</th>\n",
       "      <th>YTD 2021</th>\n",
       "      <th>YTD 2020</th>\n",
       "      <th>Latest 13 Weeks</th>\n",
       "      <th>Latest 26 Weeks</th>\n",
       "      <th>Q4 2019</th>\n",
       "      <th>Q3 2019</th>\n",
       "      <th>Q2 2019</th>\n",
       "      <th>4 W/E 02/27/21</th>\n",
       "      <th>Key</th>\n",
       "    </tr>\n",
       "  </thead>\n",
       "  <tbody>\n",
       "    <tr>\n",
       "      <th>4</th>\n",
       "      <td>El Super</td>\n",
       "      <td>TOTAL FS</td>\n",
       "      <td>COLGATE-PALMOLIVE</td>\n",
       "      <td>SUAVITEL NON US</td>\n",
       "      <td>SUAVITEL NON US</td>\n",
       "      <td>REG &gt; 128 OZ</td>\n",
       "      <td>SUAVITEL FABRIC SOFTENER LIQUID FRESCA PRIMAVE...</td>\n",
       "      <td>750954606712</td>\n",
       "      <td>FS</td>\n",
       "      <td>FABRIC SOFTENERS | COLGATE-PALMOLIVE | SUAVITE...</td>\n",
       "      <td>...</td>\n",
       "      <td>4.262</td>\n",
       "      <td>26.472</td>\n",
       "      <td>10.377</td>\n",
       "      <td>44.070</td>\n",
       "      <td>56.302</td>\n",
       "      <td>NaN</td>\n",
       "      <td>NaN</td>\n",
       "      <td>NaN</td>\n",
       "      <td>13.044</td>\n",
       "      <td>El Super Total TAFABRIC SOFTENERS | COLGATE-PA...</td>\n",
       "    </tr>\n",
       "    <tr>\n",
       "      <th>5</th>\n",
       "      <td>El Super</td>\n",
       "      <td>TOTAL FS</td>\n",
       "      <td>COLGATE-PALMOLIVE</td>\n",
       "      <td>SUAVITEL NON US</td>\n",
       "      <td>SUAVITEL NON US</td>\n",
       "      <td>REG &gt; 128 OZ</td>\n",
       "      <td>SUAVITEL FABRIC SOFTENER LIQUID FRESCA PRIMAVE...</td>\n",
       "      <td>750954606712</td>\n",
       "      <td>FS</td>\n",
       "      <td>FABRIC SOFTENERS | COLGATE-PALMOLIVE | SUAVITE...</td>\n",
       "      <td>...</td>\n",
       "      <td>4.262</td>\n",
       "      <td>16.095</td>\n",
       "      <td>10.377</td>\n",
       "      <td>24.360</td>\n",
       "      <td>26.921</td>\n",
       "      <td>NaN</td>\n",
       "      <td>NaN</td>\n",
       "      <td>NaN</td>\n",
       "      <td>5.585</td>\n",
       "      <td>El Super Total TAFABRIC SOFTENERS | COLGATE-PA...</td>\n",
       "    </tr>\n",
       "    <tr>\n",
       "      <th>6</th>\n",
       "      <td>El Super</td>\n",
       "      <td>TOTAL FS</td>\n",
       "      <td>COLGATE-PALMOLIVE</td>\n",
       "      <td>SUAVITEL NON US</td>\n",
       "      <td>SUAVITEL NON US</td>\n",
       "      <td>REG &gt; 128 OZ</td>\n",
       "      <td>SUAVITEL FABRIC SOFTENER LIQUID FRESCA PRIMAVE...</td>\n",
       "      <td>750954606712</td>\n",
       "      <td>FS</td>\n",
       "      <td>FABRIC SOFTENERS | COLGATE-PALMOLIVE | SUAVITE...</td>\n",
       "      <td>...</td>\n",
       "      <td>72898.970</td>\n",
       "      <td>21005.550</td>\n",
       "      <td>3121.200</td>\n",
       "      <td>75893.900</td>\n",
       "      <td>251480.290</td>\n",
       "      <td>NaN</td>\n",
       "      <td>NaN</td>\n",
       "      <td>NaN</td>\n",
       "      <td>5338.910</td>\n",
       "      <td>El Super Total TAFABRIC SOFTENERS | COLGATE-PA...</td>\n",
       "    </tr>\n",
       "    <tr>\n",
       "      <th>7</th>\n",
       "      <td>El Super</td>\n",
       "      <td>TOTAL FS</td>\n",
       "      <td>COLGATE-PALMOLIVE</td>\n",
       "      <td>SUAVITEL NON US</td>\n",
       "      <td>SUAVITEL NON US</td>\n",
       "      <td>REG &gt; 128 OZ</td>\n",
       "      <td>SUAVITEL FABRIC SOFTENER LIQUID FRESCA PRIMAVE...</td>\n",
       "      <td>750954606712</td>\n",
       "      <td>FS</td>\n",
       "      <td>FABRIC SOFTENERS | COLGATE-PALMOLIVE | SUAVITE...</td>\n",
       "      <td>...</td>\n",
       "      <td>1606.270</td>\n",
       "      <td>396.556</td>\n",
       "      <td>154.187</td>\n",
       "      <td>529.619</td>\n",
       "      <td>686.840</td>\n",
       "      <td>NaN</td>\n",
       "      <td>NaN</td>\n",
       "      <td>NaN</td>\n",
       "      <td>409.081</td>\n",
       "      <td>El Super Total TAFABRIC SOFTENERS | COLGATE-PA...</td>\n",
       "    </tr>\n",
       "    <tr>\n",
       "      <th>9</th>\n",
       "      <td>El Super</td>\n",
       "      <td>TOTAL FS</td>\n",
       "      <td>COLGATE-PALMOLIVE</td>\n",
       "      <td>SUAVITEL NON US</td>\n",
       "      <td>SUAVITEL NON US</td>\n",
       "      <td>REG &gt; 128 OZ</td>\n",
       "      <td>SUAVITEL FABRIC SOFTENER LIQUID FRESCA PRIMAVE...</td>\n",
       "      <td>750954606712</td>\n",
       "      <td>FS</td>\n",
       "      <td>FABRIC SOFTENERS | COLGATE-PALMOLIVE | SUAVITE...</td>\n",
       "      <td>...</td>\n",
       "      <td>1606.270</td>\n",
       "      <td>242.369</td>\n",
       "      <td>154.187</td>\n",
       "      <td>279.043</td>\n",
       "      <td>-126.009</td>\n",
       "      <td>NaN</td>\n",
       "      <td>NaN</td>\n",
       "      <td>NaN</td>\n",
       "      <td>185.448</td>\n",
       "      <td>El Super Total TAFABRIC SOFTENERS | COLGATE-PA...</td>\n",
       "    </tr>\n",
       "  </tbody>\n",
       "</table>\n",
       "<p>5 rows × 24 columns</p>\n",
       "</div>"
      ],
      "text/plain": [
       "        MKT CP_SHARE_BASIS    CP_MANUFACTURER     CP_FRANCHISE  \\\n",
       "4  El Super       TOTAL FS  COLGATE-PALMOLIVE  SUAVITEL NON US   \n",
       "5  El Super       TOTAL FS  COLGATE-PALMOLIVE  SUAVITEL NON US   \n",
       "6  El Super       TOTAL FS  COLGATE-PALMOLIVE  SUAVITEL NON US   \n",
       "7  El Super       TOTAL FS  COLGATE-PALMOLIVE  SUAVITEL NON US   \n",
       "9  El Super       TOTAL FS  COLGATE-PALMOLIVE  SUAVITEL NON US   \n",
       "\n",
       "          CP_BRAND CP_SIZE_RANGE  \\\n",
       "4  SUAVITEL NON US  REG > 128 OZ   \n",
       "5  SUAVITEL NON US  REG > 128 OZ   \n",
       "6  SUAVITEL NON US  REG > 128 OZ   \n",
       "7  SUAVITEL NON US  REG > 128 OZ   \n",
       "9  SUAVITEL NON US  REG > 128 OZ   \n",
       "\n",
       "                                                PROD  Product_Code Category  \\\n",
       "4  SUAVITEL FABRIC SOFTENER LIQUID FRESCA PRIMAVE...  750954606712       FS   \n",
       "5  SUAVITEL FABRIC SOFTENER LIQUID FRESCA PRIMAVE...  750954606712       FS   \n",
       "6  SUAVITEL FABRIC SOFTENER LIQUID FRESCA PRIMAVE...  750954606712       FS   \n",
       "7  SUAVITEL FABRIC SOFTENER LIQUID FRESCA PRIMAVE...  750954606712       FS   \n",
       "9  SUAVITEL FABRIC SOFTENER LIQUID FRESCA PRIMAVE...  750954606712       FS   \n",
       "\n",
       "                                            Products  ...    FY 2017  \\\n",
       "4  FABRIC SOFTENERS | COLGATE-PALMOLIVE | SUAVITE...  ...      4.262   \n",
       "5  FABRIC SOFTENERS | COLGATE-PALMOLIVE | SUAVITE...  ...      4.262   \n",
       "6  FABRIC SOFTENERS | COLGATE-PALMOLIVE | SUAVITE...  ...  72898.970   \n",
       "7  FABRIC SOFTENERS | COLGATE-PALMOLIVE | SUAVITE...  ...   1606.270   \n",
       "9  FABRIC SOFTENERS | COLGATE-PALMOLIVE | SUAVITE...  ...   1606.270   \n",
       "\n",
       "    YTD 2021  YTD 2020  Latest 13 Weeks  Latest 26 Weeks  Q4 2019  Q3 2019  \\\n",
       "4     26.472    10.377           44.070           56.302      NaN      NaN   \n",
       "5     16.095    10.377           24.360           26.921      NaN      NaN   \n",
       "6  21005.550  3121.200        75893.900       251480.290      NaN      NaN   \n",
       "7    396.556   154.187          529.619          686.840      NaN      NaN   \n",
       "9    242.369   154.187          279.043         -126.009      NaN      NaN   \n",
       "\n",
       "   Q2 2019  4 W/E 02/27/21                                                Key  \n",
       "4      NaN          13.044  El Super Total TAFABRIC SOFTENERS | COLGATE-PA...  \n",
       "5      NaN           5.585  El Super Total TAFABRIC SOFTENERS | COLGATE-PA...  \n",
       "6      NaN        5338.910  El Super Total TAFABRIC SOFTENERS | COLGATE-PA...  \n",
       "7      NaN         409.081  El Super Total TAFABRIC SOFTENERS | COLGATE-PA...  \n",
       "9      NaN         185.448  El Super Total TAFABRIC SOFTENERS | COLGATE-PA...  \n",
       "\n",
       "[5 rows x 24 columns]"
      ]
     },
     "execution_count": 88,
     "metadata": {},
     "output_type": "execute_result"
    }
   ],
   "source": [
    "Distri_Sku_full.head(5)"
   ]
  },
  {
   "cell_type": "code",
   "execution_count": 89,
   "metadata": {},
   "outputs": [
    {
     "name": "stdout",
     "output_type": "stream",
     "text": [
      "['4 W/E 02/27/21', 'Latest 13 Weeks', 'Latest 26 Weeks', 'YTD 2021', 'FY 2020']\n"
     ]
    }
   ],
   "source": [
    "Time_Period=list(Distri_Sku_full.columns[22:23])+list(Distri_Sku_full.columns[17:19])+list(Distri_Sku_full.columns[15:16])+list(Distri_Sku_full.columns[11:12])\n",
    "print(Time_Period)"
   ]
  },
  {
   "cell_type": "markdown",
   "metadata": {},
   "source": [
    "**Moving Time Period to Rows and Facts to Columns**"
   ]
  },
  {
   "cell_type": "code",
   "execution_count": 90,
   "metadata": {},
   "outputs": [],
   "source": [
    "df1=pd.melt(Distri_Sku_full, id_vars =[\"MKT\",\"PROD\",\"CP_MANUFACTURER\",\"CP_FRANCHISE\",\"CP_BRAND\",\"Product_Code\",\"CP_SIZE_RANGE\",\"CP_SHARE_BASIS\",\"Facts\"], value_vars =Time_Period,var_name=\"Time_Period\")\n",
    "\n",
    "df1[\"value\"]=df1[\"value\"].apply(pd.to_numeric)"
   ]
  },
  {
   "cell_type": "code",
   "execution_count": 91,
   "metadata": {},
   "outputs": [],
   "source": [
    "df2=df1.pivot_table(index=[\"MKT\",\"PROD\",\"CP_MANUFACTURER\",\"CP_FRANCHISE\",\"CP_BRAND\",\"Product_Code\",\"CP_SIZE_RANGE\",\"CP_SHARE_BASIS\",\"Time_Period\"],columns='Facts')\n",
    "\n",
    "df2.columns=df2.columns.droplevel().rename(None)\n",
    "df2.reset_index(inplace =True)"
   ]
  },
  {
   "cell_type": "code",
   "execution_count": 92,
   "metadata": {},
   "outputs": [],
   "source": [
    "# sorting \"MKT\",\"Time_Period\",\"PROD\"\n",
    "df2.sort_values(['MKT','Time_Period','PROD'],inplace=True)"
   ]
  },
  {
   "cell_type": "code",
   "execution_count": 93,
   "metadata": {},
   "outputs": [],
   "source": [
    "df2[['Dummy4', 'Dummy2', 'Dummy1', 'Dummy3']]=\"Dummy\""
   ]
  },
  {
   "cell_type": "code",
   "execution_count": 94,
   "metadata": {},
   "outputs": [
    {
     "data": {
      "text/plain": [
       "Index(['MKT', 'PROD', 'CP_MANUFACTURER', 'CP_FRANCHISE', 'CP_BRAND',\n",
       "       'Product_Code', 'CP_SIZE_RANGE', 'CP_SHARE_BASIS', 'Time_Period',\n",
       "       'Base_Doll_Shr', 'Base_Doll_Shr_Chg', 'Cum_Distri_Pts',\n",
       "       'Cum_Distri_Pts_Chg', 'Doll_Shr', 'Doll_Shr_Chg', 'Doll_Velocity',\n",
       "       'Doll_Velocity_Chg', 'Dollars', 'Dollars_Chg', 'Store_Selling',\n",
       "       'Store_Selling_Chg', 'Units', 'Units_velocity', 'Dummy4', 'Dummy2',\n",
       "       'Dummy1', 'Dummy3'],\n",
       "      dtype='object')"
      ]
     },
     "execution_count": 94,
     "metadata": {},
     "output_type": "execute_result"
    }
   ],
   "source": [
    "df2.columns"
   ]
  },
  {
   "cell_type": "code",
   "execution_count": 95,
   "metadata": {},
   "outputs": [],
   "source": [
    "df2['CP_SEGMENT']=df2[ \"CP_SHARE_BASIS\"]\n",
    "df2['Prcnt_ACV']=df2[\"Store_Selling\"]\n",
    "df2.rename(columns={'Units_velocity':'Units_Velocity'},inplace=True)\n",
    "\n",
    "final_column_sorting=[\"MKT\",\"Time_Period\",\"PROD\",\"CP_MANUFACTURER\",\"CP_FRANCHISE\",\"CP_BRAND\",\"Dummy1\",\"Product_Code\",\"Dummy2\",\"Dummy4\",\"Dummy3\",\n",
    "                      \"CP_SEGMENT\",\"Doll_Shr\",\"Doll_Shr_Chg\",\"Base_Doll_Shr\",\"Base_Doll_Shr_Chg\",\"Store_Selling\",\"Store_Selling_Chg\",\"Doll_Velocity\",\n",
    "                      \"Doll_Velocity_Chg\",\"Cum_Distri_Pts\",\"Cum_Distri_Pts_Chg\",\"Dollars\",\"Dollars_Chg\",\"Prcnt_ACV\",\"Units\",\"Units_Velocity\",\n",
    "                      \"CP_SIZE_RANGE\",\"CP_SHARE_BASIS\"\n",
    "                     ]\n",
    "Distri_Sku_full_final=df2[final_column_sorting]\n",
    "\n",
    "Distri_Sku_full_final[\"Record_ID\"]=range(1,len(Distri_Sku_full_final)+1)\n",
    "\n"
   ]
  },
  {
   "cell_type": "markdown",
   "metadata": {},
   "source": [
    "**Exporting Dataframe to ouFSut folder**"
   ]
  },
  {
   "cell_type": "code",
   "execution_count": 96,
   "metadata": {},
   "outputs": [],
   "source": [
    "Distri_Sku_full_final.to_csv(path_FS+\"Distri_Sku_full_data.csv\",index=False)"
   ]
  },
  {
   "cell_type": "code",
   "execution_count": null,
   "metadata": {},
   "outputs": [],
   "source": []
  },
  {
   "cell_type": "markdown",
   "metadata": {},
   "source": [
    "### Distri Cat Data"
   ]
  },
  {
   "cell_type": "markdown",
   "metadata": {},
   "source": [
    "### Distri Cat Data"
   ]
  },
  {
   "cell_type": "code",
   "execution_count": 97,
   "metadata": {},
   "outputs": [],
   "source": [
    "Distri_Cat=UPC_Monthly_FS.copy()"
   ]
  },
  {
   "cell_type": "code",
   "execution_count": 98,
   "metadata": {},
   "outputs": [],
   "source": [
    "Markets=[\"BJs\",\"CVS\",\"Dollar General\",\"El Super\",\"Family Dollar\",\"Kmart\",\"Publix\",\"Rite Aid\",\n",
    "         \"Sams\",\"Target\",\"US AOC\",\"US Drug\",\"US Food\",\"Walgreens\",\"Walmart\"]\n",
    "#Manufacturer=[\"\",\"COLGATE-PALMOLIVE\",\"P&G\",\"SC JOHNSON\",\"LEVER\",\"PRVT LBL\",\"HENKEL\",\"UNILEVER\"]"
   ]
  },
  {
   "cell_type": "code",
   "execution_count": 99,
   "metadata": {},
   "outputs": [],
   "source": [
    "Distri_Cat= Distri_Cat[Distri_Cat[\"Facts\"].isin(Distri_Cat_Data_Facts)]\n",
    "Distri_Cat= Distri_Cat[Distri_Cat['Markets'].isin(Markets)]\n",
    "#Distri_Cat= Distri_Cat[Distri_Cat['Manufacturer'].isin(Manufacturer)]"
   ]
  },
  {
   "cell_type": "code",
   "execution_count": 100,
   "metadata": {},
   "outputs": [
    {
     "name": "stdout",
     "output_type": "stream",
     "text": [
      "Missing Facts -> 0 Missing Markets ->  0\n"
     ]
    }
   ],
   "source": [
    "print(\"Missing Facts ->\",len(Distri_Cat_Data_Facts)-len(set(Distri_Cat[\"Facts\"])),\"Missing Markets -> \",len(Markets)-len(set(Distri_Cat[\"Markets\"])))"
   ]
  },
  {
   "cell_type": "markdown",
   "metadata": {},
   "source": [
    "**Fact Mapping**"
   ]
  },
  {
   "cell_type": "code",
   "execution_count": 101,
   "metadata": {},
   "outputs": [],
   "source": [
    "Distri_Cat[\"Facts\"].replace(Distri_Fact_Mapping,inplace=True)"
   ]
  },
  {
   "cell_type": "code",
   "execution_count": 102,
   "metadata": {},
   "outputs": [
    {
     "data": {
      "text/html": [
       "<div>\n",
       "<style scoped>\n",
       "    .dataframe tbody tr th:only-of-type {\n",
       "        vertical-align: middle;\n",
       "    }\n",
       "\n",
       "    .dataframe tbody tr th {\n",
       "        vertical-align: top;\n",
       "    }\n",
       "\n",
       "    .dataframe thead th {\n",
       "        text-align: right;\n",
       "    }\n",
       "</style>\n",
       "<table border=\"1\" class=\"dataframe\">\n",
       "  <thead>\n",
       "    <tr style=\"text-align: right;\">\n",
       "      <th></th>\n",
       "      <th>Markets</th>\n",
       "      <th>ShareBasis</th>\n",
       "      <th>Manufacturer</th>\n",
       "      <th>Franchise</th>\n",
       "      <th>Brand</th>\n",
       "      <th>Size</th>\n",
       "      <th>Item</th>\n",
       "      <th>UPC</th>\n",
       "      <th>Category</th>\n",
       "      <th>Products</th>\n",
       "      <th>...</th>\n",
       "      <th>FY 2017</th>\n",
       "      <th>YTD 2021</th>\n",
       "      <th>YTD 2020</th>\n",
       "      <th>Latest 13 Weeks</th>\n",
       "      <th>Latest 26 Weeks</th>\n",
       "      <th>Q4 2019</th>\n",
       "      <th>Q3 2019</th>\n",
       "      <th>Q2 2019</th>\n",
       "      <th>4 W/E 02/27/21</th>\n",
       "      <th>Key</th>\n",
       "    </tr>\n",
       "  </thead>\n",
       "  <tbody>\n",
       "    <tr>\n",
       "      <th>4</th>\n",
       "      <td>El Super</td>\n",
       "      <td>TOTAL FS</td>\n",
       "      <td>COLGATE-PALMOLIVE</td>\n",
       "      <td>SUAVITEL NON US</td>\n",
       "      <td>SUAVITEL NON US</td>\n",
       "      <td>REG &gt; 128 OZ</td>\n",
       "      <td>SUAVITEL FABRIC SOFTENER LIQUID FRESCA PRIMAVE...</td>\n",
       "      <td>750954606712</td>\n",
       "      <td>FS</td>\n",
       "      <td>FABRIC SOFTENERS | COLGATE-PALMOLIVE | SUAVITE...</td>\n",
       "      <td>...</td>\n",
       "      <td>4.262</td>\n",
       "      <td>26.472</td>\n",
       "      <td>10.377</td>\n",
       "      <td>44.070</td>\n",
       "      <td>56.302</td>\n",
       "      <td>NaN</td>\n",
       "      <td>NaN</td>\n",
       "      <td>NaN</td>\n",
       "      <td>13.044</td>\n",
       "      <td>El Super Total TAFABRIC SOFTENERS | COLGATE-PA...</td>\n",
       "    </tr>\n",
       "    <tr>\n",
       "      <th>6</th>\n",
       "      <td>El Super</td>\n",
       "      <td>TOTAL FS</td>\n",
       "      <td>COLGATE-PALMOLIVE</td>\n",
       "      <td>SUAVITEL NON US</td>\n",
       "      <td>SUAVITEL NON US</td>\n",
       "      <td>REG &gt; 128 OZ</td>\n",
       "      <td>SUAVITEL FABRIC SOFTENER LIQUID FRESCA PRIMAVE...</td>\n",
       "      <td>750954606712</td>\n",
       "      <td>FS</td>\n",
       "      <td>FABRIC SOFTENERS | COLGATE-PALMOLIVE | SUAVITE...</td>\n",
       "      <td>...</td>\n",
       "      <td>72898.970</td>\n",
       "      <td>21005.550</td>\n",
       "      <td>3121.200</td>\n",
       "      <td>75893.900</td>\n",
       "      <td>251480.290</td>\n",
       "      <td>NaN</td>\n",
       "      <td>NaN</td>\n",
       "      <td>NaN</td>\n",
       "      <td>5338.910</td>\n",
       "      <td>El Super Total TAFABRIC SOFTENERS | COLGATE-PA...</td>\n",
       "    </tr>\n",
       "    <tr>\n",
       "      <th>12</th>\n",
       "      <td>El Super</td>\n",
       "      <td>TOTAL FS</td>\n",
       "      <td>COLGATE-PALMOLIVE</td>\n",
       "      <td>SUAVITEL NON US</td>\n",
       "      <td>SUAVITEL NON US</td>\n",
       "      <td>REG &gt; 128 OZ</td>\n",
       "      <td>SUAVITEL FABRIC SOFTENER LIQUID FRESCA PRIMAVE...</td>\n",
       "      <td>750954606712</td>\n",
       "      <td>FS</td>\n",
       "      <td>FABRIC SOFTENERS | COLGATE-PALMOLIVE | SUAVITE...</td>\n",
       "      <td>...</td>\n",
       "      <td>1.089</td>\n",
       "      <td>3.379</td>\n",
       "      <td>0.411</td>\n",
       "      <td>6.964</td>\n",
       "      <td>10.649</td>\n",
       "      <td>NaN</td>\n",
       "      <td>NaN</td>\n",
       "      <td>NaN</td>\n",
       "      <td>1.726</td>\n",
       "      <td>El Super Total TAFABRIC SOFTENERS | COLGATE-PA...</td>\n",
       "    </tr>\n",
       "  </tbody>\n",
       "</table>\n",
       "<p>3 rows × 24 columns</p>\n",
       "</div>"
      ],
      "text/plain": [
       "     Markets ShareBasis       Manufacturer        Franchise            Brand  \\\n",
       "4   El Super   TOTAL FS  COLGATE-PALMOLIVE  SUAVITEL NON US  SUAVITEL NON US   \n",
       "6   El Super   TOTAL FS  COLGATE-PALMOLIVE  SUAVITEL NON US  SUAVITEL NON US   \n",
       "12  El Super   TOTAL FS  COLGATE-PALMOLIVE  SUAVITEL NON US  SUAVITEL NON US   \n",
       "\n",
       "            Size                                               Item  \\\n",
       "4   REG > 128 OZ  SUAVITEL FABRIC SOFTENER LIQUID FRESCA PRIMAVE...   \n",
       "6   REG > 128 OZ  SUAVITEL FABRIC SOFTENER LIQUID FRESCA PRIMAVE...   \n",
       "12  REG > 128 OZ  SUAVITEL FABRIC SOFTENER LIQUID FRESCA PRIMAVE...   \n",
       "\n",
       "             UPC Category                                           Products  \\\n",
       "4   750954606712       FS  FABRIC SOFTENERS | COLGATE-PALMOLIVE | SUAVITE...   \n",
       "6   750954606712       FS  FABRIC SOFTENERS | COLGATE-PALMOLIVE | SUAVITE...   \n",
       "12  750954606712       FS  FABRIC SOFTENERS | COLGATE-PALMOLIVE | SUAVITE...   \n",
       "\n",
       "    ...    FY 2017   YTD 2021  YTD 2020  Latest 13 Weeks  Latest 26 Weeks  \\\n",
       "4   ...      4.262     26.472    10.377           44.070           56.302   \n",
       "6   ...  72898.970  21005.550  3121.200        75893.900       251480.290   \n",
       "12  ...      1.089      3.379     0.411            6.964           10.649   \n",
       "\n",
       "    Q4 2019  Q3 2019  Q2 2019  4 W/E 02/27/21  \\\n",
       "4       NaN      NaN      NaN          13.044   \n",
       "6       NaN      NaN      NaN        5338.910   \n",
       "12      NaN      NaN      NaN           1.726   \n",
       "\n",
       "                                                  Key  \n",
       "4   El Super Total TAFABRIC SOFTENERS | COLGATE-PA...  \n",
       "6   El Super Total TAFABRIC SOFTENERS | COLGATE-PA...  \n",
       "12  El Super Total TAFABRIC SOFTENERS | COLGATE-PA...  \n",
       "\n",
       "[3 rows x 24 columns]"
      ]
     },
     "execution_count": 102,
     "metadata": {},
     "output_type": "execute_result"
    }
   ],
   "source": [
    "Distri_Cat.head(3)"
   ]
  },
  {
   "cell_type": "markdown",
   "metadata": {},
   "source": [
    "**Column name Change**"
   ]
  },
  {
   "cell_type": "code",
   "execution_count": 103,
   "metadata": {},
   "outputs": [
    {
     "data": {
      "text/plain": [
       "Index(['Markets', 'ShareBasis', 'Manufacturer', 'Franchise', 'Brand', 'Size',\n",
       "       'Item', 'UPC', 'Category', 'Products', 'Facts', 'FY 2020', 'FY 2019',\n",
       "       'FY 2018', 'FY 2017', 'YTD 2021', 'YTD 2020', 'Latest 13 Weeks',\n",
       "       'Latest 26 Weeks', 'Q4 2019', 'Q3 2019', 'Q2 2019', '4 W/E 02/27/21',\n",
       "       'Key'],\n",
       "      dtype='object')"
      ]
     },
     "execution_count": 103,
     "metadata": {},
     "output_type": "execute_result"
    }
   ],
   "source": [
    "Distri_Cat.columns"
   ]
  },
  {
   "cell_type": "code",
   "execution_count": 104,
   "metadata": {},
   "outputs": [],
   "source": [
    "Distri_Cat.rename(columns={'Markets':\"MKT\", 'Manufacturer':\"CP_MANUFACTURER\", 'Franchise':\"CP_FRANCHISE\",\n",
    "                           'Brand':\"CP_BRAND\",'SubBrand':\"CP_SUBBRAND\",\"UPC\":\"Product_Code\",\n",
    "                           'ShareBasis':\"CP_SHARE_BASIS\",'Item':'PROD'},inplace=True)"
   ]
  },
  {
   "cell_type": "code",
   "execution_count": 105,
   "metadata": {
    "scrolled": false
   },
   "outputs": [
    {
     "data": {
      "text/html": [
       "<div>\n",
       "<style scoped>\n",
       "    .dataframe tbody tr th:only-of-type {\n",
       "        vertical-align: middle;\n",
       "    }\n",
       "\n",
       "    .dataframe tbody tr th {\n",
       "        vertical-align: top;\n",
       "    }\n",
       "\n",
       "    .dataframe thead th {\n",
       "        text-align: right;\n",
       "    }\n",
       "</style>\n",
       "<table border=\"1\" class=\"dataframe\">\n",
       "  <thead>\n",
       "    <tr style=\"text-align: right;\">\n",
       "      <th></th>\n",
       "      <th>MKT</th>\n",
       "      <th>CP_SHARE_BASIS</th>\n",
       "      <th>CP_MANUFACTURER</th>\n",
       "      <th>CP_FRANCHISE</th>\n",
       "      <th>CP_BRAND</th>\n",
       "      <th>Size</th>\n",
       "      <th>PROD</th>\n",
       "      <th>Product_Code</th>\n",
       "      <th>Category</th>\n",
       "      <th>Products</th>\n",
       "      <th>...</th>\n",
       "      <th>FY 2017</th>\n",
       "      <th>YTD 2021</th>\n",
       "      <th>YTD 2020</th>\n",
       "      <th>Latest 13 Weeks</th>\n",
       "      <th>Latest 26 Weeks</th>\n",
       "      <th>Q4 2019</th>\n",
       "      <th>Q3 2019</th>\n",
       "      <th>Q2 2019</th>\n",
       "      <th>4 W/E 02/27/21</th>\n",
       "      <th>Key</th>\n",
       "    </tr>\n",
       "  </thead>\n",
       "  <tbody>\n",
       "    <tr>\n",
       "      <th>4</th>\n",
       "      <td>El Super</td>\n",
       "      <td>TOTAL FS</td>\n",
       "      <td>COLGATE-PALMOLIVE</td>\n",
       "      <td>SUAVITEL NON US</td>\n",
       "      <td>SUAVITEL NON US</td>\n",
       "      <td>REG &gt; 128 OZ</td>\n",
       "      <td>SUAVITEL FABRIC SOFTENER LIQUID FRESCA PRIMAVE...</td>\n",
       "      <td>750954606712</td>\n",
       "      <td>FS</td>\n",
       "      <td>FABRIC SOFTENERS | COLGATE-PALMOLIVE | SUAVITE...</td>\n",
       "      <td>...</td>\n",
       "      <td>4.262</td>\n",
       "      <td>26.472</td>\n",
       "      <td>10.377</td>\n",
       "      <td>44.07</td>\n",
       "      <td>56.302</td>\n",
       "      <td>NaN</td>\n",
       "      <td>NaN</td>\n",
       "      <td>NaN</td>\n",
       "      <td>13.044</td>\n",
       "      <td>El Super Total TAFABRIC SOFTENERS | COLGATE-PA...</td>\n",
       "    </tr>\n",
       "    <tr>\n",
       "      <th>6</th>\n",
       "      <td>El Super</td>\n",
       "      <td>TOTAL FS</td>\n",
       "      <td>COLGATE-PALMOLIVE</td>\n",
       "      <td>SUAVITEL NON US</td>\n",
       "      <td>SUAVITEL NON US</td>\n",
       "      <td>REG &gt; 128 OZ</td>\n",
       "      <td>SUAVITEL FABRIC SOFTENER LIQUID FRESCA PRIMAVE...</td>\n",
       "      <td>750954606712</td>\n",
       "      <td>FS</td>\n",
       "      <td>FABRIC SOFTENERS | COLGATE-PALMOLIVE | SUAVITE...</td>\n",
       "      <td>...</td>\n",
       "      <td>72898.970</td>\n",
       "      <td>21005.550</td>\n",
       "      <td>3121.200</td>\n",
       "      <td>75893.90</td>\n",
       "      <td>251480.290</td>\n",
       "      <td>NaN</td>\n",
       "      <td>NaN</td>\n",
       "      <td>NaN</td>\n",
       "      <td>5338.910</td>\n",
       "      <td>El Super Total TAFABRIC SOFTENERS | COLGATE-PA...</td>\n",
       "    </tr>\n",
       "  </tbody>\n",
       "</table>\n",
       "<p>2 rows × 24 columns</p>\n",
       "</div>"
      ],
      "text/plain": [
       "        MKT CP_SHARE_BASIS    CP_MANUFACTURER     CP_FRANCHISE  \\\n",
       "4  El Super       TOTAL FS  COLGATE-PALMOLIVE  SUAVITEL NON US   \n",
       "6  El Super       TOTAL FS  COLGATE-PALMOLIVE  SUAVITEL NON US   \n",
       "\n",
       "          CP_BRAND          Size  \\\n",
       "4  SUAVITEL NON US  REG > 128 OZ   \n",
       "6  SUAVITEL NON US  REG > 128 OZ   \n",
       "\n",
       "                                                PROD  Product_Code Category  \\\n",
       "4  SUAVITEL FABRIC SOFTENER LIQUID FRESCA PRIMAVE...  750954606712       FS   \n",
       "6  SUAVITEL FABRIC SOFTENER LIQUID FRESCA PRIMAVE...  750954606712       FS   \n",
       "\n",
       "                                            Products  ...    FY 2017  \\\n",
       "4  FABRIC SOFTENERS | COLGATE-PALMOLIVE | SUAVITE...  ...      4.262   \n",
       "6  FABRIC SOFTENERS | COLGATE-PALMOLIVE | SUAVITE...  ...  72898.970   \n",
       "\n",
       "    YTD 2021  YTD 2020  Latest 13 Weeks  Latest 26 Weeks  Q4 2019  Q3 2019  \\\n",
       "4     26.472    10.377            44.07           56.302      NaN      NaN   \n",
       "6  21005.550  3121.200         75893.90       251480.290      NaN      NaN   \n",
       "\n",
       "   Q2 2019  4 W/E 02/27/21                                                Key  \n",
       "4      NaN          13.044  El Super Total TAFABRIC SOFTENERS | COLGATE-PA...  \n",
       "6      NaN        5338.910  El Super Total TAFABRIC SOFTENERS | COLGATE-PA...  \n",
       "\n",
       "[2 rows x 24 columns]"
      ]
     },
     "execution_count": 105,
     "metadata": {},
     "output_type": "execute_result"
    }
   ],
   "source": [
    "Distri_Cat.head(2)"
   ]
  },
  {
   "cell_type": "code",
   "execution_count": 106,
   "metadata": {},
   "outputs": [
    {
     "name": "stdout",
     "output_type": "stream",
     "text": [
      "['4 W/E 02/27/21', 'Latest 13 Weeks', 'Latest 26 Weeks', 'YTD 2021', 'FY 2020']\n"
     ]
    }
   ],
   "source": [
    "Time_Period=list(Distri_Cat.columns[22:23])+list(Distri_Cat.columns[17:19])+list(Distri_Cat.columns[15:16])+list(Distri_Cat.columns[11:12])\n",
    "print(Time_Period)"
   ]
  },
  {
   "cell_type": "markdown",
   "metadata": {},
   "source": [
    "**Moving Time Period to Rows and Facts to Columns**"
   ]
  },
  {
   "cell_type": "code",
   "execution_count": 107,
   "metadata": {},
   "outputs": [],
   "source": [
    "df1=pd.melt(Distri_Cat, id_vars =[\"MKT\",\"PROD\",\"CP_MANUFACTURER\",\"CP_FRANCHISE\",\"CP_BRAND\",\"Facts\",\"Product_Code\",\"CP_SHARE_BASIS\"], value_vars =Time_Period,var_name=\"Time_Period\")\n",
    "\n",
    "df1[\"value\"]=df1[\"value\"].apply(pd.to_numeric)"
   ]
  },
  {
   "cell_type": "code",
   "execution_count": 108,
   "metadata": {},
   "outputs": [],
   "source": [
    "df2=df1.pivot_table(index=[\"MKT\",\"PROD\",\"CP_MANUFACTURER\",\"CP_FRANCHISE\",\"CP_BRAND\",\"Time_Period\",\"Product_Code\",\"CP_SHARE_BASIS\"],columns='Facts')\n",
    "\n",
    "df2.columns=df2.columns.droplevel().rename(None)\n",
    "df2.reset_index(inplace =True)"
   ]
  },
  {
   "cell_type": "code",
   "execution_count": 109,
   "metadata": {},
   "outputs": [],
   "source": [
    "from pandas.api.types import CategoricalDtype\n",
    "\n",
    "Time_Period_order = CategoricalDtype(\n",
    "    Time_Period, \n",
    "    ordered=True\n",
    ")\n",
    "\n",
    "df2['Time_Period'] = df2['Time_Period'].astype(Time_Period_order)\n",
    "\n",
    "\n",
    "df2.sort_values(['MKT','PROD','Time_Period'],inplace=True)"
   ]
  },
  {
   "cell_type": "code",
   "execution_count": 110,
   "metadata": {},
   "outputs": [],
   "source": [
    "df2[\"Dummy1\"]=\"Dummy\"\n",
    "df2['Prcnt_ACV']=df2[\"Store_Selling\"]\n",
    "\n",
    "final_column_sorting=[\"MKT\",\"PROD\",\"CP_MANUFACTURER\",\"CP_FRANCHISE\",\"CP_BRAND\",\"Dummy1\",\"Product_Code\",\n",
    "                      \"Time_Period\",\"Doll_Shr\",\"Cum_Distri_Pts\",\"Dollars\",\"Store_Selling\",\"Prcnt_ACV\",\"CP_SHARE_BASIS\"]\n",
    "\n",
    "Distri_Cat_final=df2[final_column_sorting]\n",
    "\n",
    "Distri_Cat_final[\"Record_ID\"]=range(1,len(Distri_Cat_final)+1)\n",
    "\n"
   ]
  },
  {
   "cell_type": "code",
   "execution_count": 111,
   "metadata": {},
   "outputs": [
    {
     "data": {
      "text/html": [
       "<div>\n",
       "<style scoped>\n",
       "    .dataframe tbody tr th:only-of-type {\n",
       "        vertical-align: middle;\n",
       "    }\n",
       "\n",
       "    .dataframe tbody tr th {\n",
       "        vertical-align: top;\n",
       "    }\n",
       "\n",
       "    .dataframe thead th {\n",
       "        text-align: right;\n",
       "    }\n",
       "</style>\n",
       "<table border=\"1\" class=\"dataframe\">\n",
       "  <thead>\n",
       "    <tr style=\"text-align: right;\">\n",
       "      <th></th>\n",
       "      <th>MKT</th>\n",
       "      <th>PROD</th>\n",
       "      <th>CP_MANUFACTURER</th>\n",
       "      <th>CP_FRANCHISE</th>\n",
       "      <th>CP_BRAND</th>\n",
       "      <th>Dummy1</th>\n",
       "      <th>Product_Code</th>\n",
       "      <th>Time_Period</th>\n",
       "      <th>Doll_Shr</th>\n",
       "      <th>Cum_Distri_Pts</th>\n",
       "      <th>Dollars</th>\n",
       "      <th>Store_Selling</th>\n",
       "      <th>Prcnt_ACV</th>\n",
       "      <th>CP_SHARE_BASIS</th>\n",
       "      <th>Record_ID</th>\n",
       "    </tr>\n",
       "  </thead>\n",
       "  <tbody>\n",
       "    <tr>\n",
       "      <th>0</th>\n",
       "      <td>BJs</td>\n",
       "      <td>BOUNCE FABRIC SOFTENER SHEET OUTDOOR FRESH BOX...</td>\n",
       "      <td>P&amp;G</td>\n",
       "      <td>BOUNCE</td>\n",
       "      <td>BOUNCE BASE</td>\n",
       "      <td>Dummy</td>\n",
       "      <td>003700095183</td>\n",
       "      <td>4 W/E 02/27/21</td>\n",
       "      <td>36.941</td>\n",
       "      <td>99.06</td>\n",
       "      <td>386673.75</td>\n",
       "      <td>99.06</td>\n",
       "      <td>99.06</td>\n",
       "      <td>SHEETS</td>\n",
       "      <td>1</td>\n",
       "    </tr>\n",
       "    <tr>\n",
       "      <th>1</th>\n",
       "      <td>BJs</td>\n",
       "      <td>BOUNCE FABRIC SOFTENER SHEET OUTDOOR FRESH BOX...</td>\n",
       "      <td>P&amp;G</td>\n",
       "      <td>BOUNCE</td>\n",
       "      <td>BOUNCE BASE</td>\n",
       "      <td>Dummy</td>\n",
       "      <td>003700095183</td>\n",
       "      <td>4 W/E 02/27/21</td>\n",
       "      <td>5.672</td>\n",
       "      <td>99.06</td>\n",
       "      <td>386673.75</td>\n",
       "      <td>99.06</td>\n",
       "      <td>99.06</td>\n",
       "      <td>TOTAL FS</td>\n",
       "      <td>2</td>\n",
       "    </tr>\n",
       "  </tbody>\n",
       "</table>\n",
       "</div>"
      ],
      "text/plain": [
       "   MKT                                               PROD CP_MANUFACTURER  \\\n",
       "0  BJs  BOUNCE FABRIC SOFTENER SHEET OUTDOOR FRESH BOX...             P&G   \n",
       "1  BJs  BOUNCE FABRIC SOFTENER SHEET OUTDOOR FRESH BOX...             P&G   \n",
       "\n",
       "  CP_FRANCHISE     CP_BRAND Dummy1  Product_Code     Time_Period  Doll_Shr  \\\n",
       "0       BOUNCE  BOUNCE BASE  Dummy  003700095183  4 W/E 02/27/21    36.941   \n",
       "1       BOUNCE  BOUNCE BASE  Dummy  003700095183  4 W/E 02/27/21     5.672   \n",
       "\n",
       "   Cum_Distri_Pts    Dollars  Store_Selling  Prcnt_ACV CP_SHARE_BASIS  \\\n",
       "0           99.06  386673.75          99.06      99.06         SHEETS   \n",
       "1           99.06  386673.75          99.06      99.06       TOTAL FS   \n",
       "\n",
       "   Record_ID  \n",
       "0          1  \n",
       "1          2  "
      ]
     },
     "execution_count": 111,
     "metadata": {},
     "output_type": "execute_result"
    }
   ],
   "source": [
    "Distri_Cat_final.head(2)"
   ]
  },
  {
   "cell_type": "markdown",
   "metadata": {},
   "source": [
    "**Exporting Dataframe to output folder**"
   ]
  },
  {
   "cell_type": "code",
   "execution_count": 112,
   "metadata": {},
   "outputs": [],
   "source": [
    "Distri_Cat_final.to_csv(path_FS+\"Distri_category_skus_Data.csv\",index=False)"
   ]
  },
  {
   "cell_type": "code",
   "execution_count": null,
   "metadata": {},
   "outputs": [],
   "source": []
  },
  {
   "cell_type": "markdown",
   "metadata": {},
   "source": [
    "## Bar\n"
   ]
  },
  {
   "cell_type": "code",
   "execution_count": null,
   "metadata": {},
   "outputs": [],
   "source": [
    "# path to store Output files\n",
    "path_Bar_temp=\"//falmumapp34/Nielsen Connect Transition & Maintenance (20-SCP-3650)/05. Output Data/5P Output/BAR/\""
   ]
  },
  {
   "cell_type": "code",
   "execution_count": null,
   "metadata": {
    "scrolled": true
   },
   "outputs": [],
   "source": [
    "UPC_Monthly_Bar= UPC_Monthly[UPC_Monthly[\"ShareBasis\"]==\"BAR\"]\n",
    "UPC_Monthly_Bar.head(2)"
   ]
  },
  {
   "cell_type": "code",
   "execution_count": null,
   "metadata": {},
   "outputs": [],
   "source": [
    "New_Column=['ShareBasis','Manufacturer','Franchise','Brand','SubBrand',\"Segment\",\"Size_Range\",\"PriceTier\",\"Multi\",\"Deal\",\"Item\",\"UPC\"]\n",
    "UPC_Monthly_Bar[New_Column] = UPC_Monthly_Bar['Products'].str.split('|',n=11,expand=True)\n",
    "\n",
    "UPC_Monthly_Bar[New_Column].fillna(value=\"\")\n",
    "UPC_Monthly_Bar.head(3)\n",
    "\n",
    "# Moving columns after \"Market\"\n",
    "UPC_Monthly_Bar = movecol(UPC_Monthly_Bar, \n",
    "             cols_to_move=New_Column, \n",
    "             ref_col='Markets',\n",
    "             place='After')\n",
    "UPC_Monthly_Bar.head(3)"
   ]
  },
  {
   "cell_type": "code",
   "execution_count": null,
   "metadata": {
    "scrolled": true
   },
   "outputs": [],
   "source": [
    "UPC_Monthly_Bar.shape"
   ]
  },
  {
   "cell_type": "markdown",
   "metadata": {},
   "source": [
    "**Strip Columns**"
   ]
  },
  {
   "cell_type": "code",
   "execution_count": null,
   "metadata": {},
   "outputs": [],
   "source": [
    "cols=list(UPC_Monthly_Bar.columns[0:15])\n",
    "UPC_Monthly_Bar[cols]=UPC_Monthly_Bar[cols].apply(lambda x : x.str.strip())"
   ]
  },
  {
   "cell_type": "code",
   "execution_count": null,
   "metadata": {},
   "outputs": [],
   "source": [
    "set(UPC_Monthly_Bar['Manufacturer'])"
   ]
  },
  {
   "cell_type": "markdown",
   "metadata": {},
   "source": [
    " "
   ]
  },
  {
   "cell_type": "markdown",
   "metadata": {},
   "source": [
    "### Distri Sku Data"
   ]
  },
  {
   "cell_type": "code",
   "execution_count": null,
   "metadata": {},
   "outputs": [],
   "source": [
    "Distri_Sku=UPC_Monthly_Bar.copy()"
   ]
  },
  {
   "cell_type": "code",
   "execution_count": null,
   "metadata": {},
   "outputs": [],
   "source": [
    "#miejers market removed\n",
    "Markets=[\"Ahold\",\"Alb/Sfy\",\"BJs\",\"CVS\",\"Dollar General\",\"Family Dollar\",\"Kmart\",\"Publix\",\"Rite Aid\",\n",
    "         \"Sams\",\"Shoprite\",\"Target\",\"US AOC\",\"US Drug\",\"US Food\",\"Walgreens\",\"Walmart\"]\n",
    "Manufacturer=[\"\",\"COLGATE-PALMOLIVE\",\"P&G\",\"SC JOHNSON\",\"LEVER\",\"PRVT LBL\",\"HENKEL\",\"UNILEVER\"]"
   ]
  },
  {
   "cell_type": "code",
   "execution_count": null,
   "metadata": {},
   "outputs": [],
   "source": [
    "Distri_Sku= Distri_Sku[Distri_Sku[\"Facts\"].isin(Distri_Sku_Facts)]\n",
    "Distri_Sku= Distri_Sku[Distri_Sku['Markets'].isin(Markets)]\n",
    "Distri_Sku= Distri_Sku[Distri_Sku['Manufacturer'].isin(Manufacturer)]"
   ]
  },
  {
   "cell_type": "code",
   "execution_count": null,
   "metadata": {},
   "outputs": [],
   "source": [
    "print(\"Missing Facts ->\",len(Distri_Sku_Facts)-len(set(Distri_Sku[\"Facts\"])),\"Missing Markets -> \",len(Markets)-len(set(Distri_Sku[\"Markets\"])))"
   ]
  },
  {
   "cell_type": "code",
   "execution_count": null,
   "metadata": {},
   "outputs": [],
   "source": [
    "Distri_Sku.Facts.unique()"
   ]
  },
  {
   "cell_type": "markdown",
   "metadata": {},
   "source": [
    "**Fact Mapping**"
   ]
  },
  {
   "cell_type": "code",
   "execution_count": null,
   "metadata": {},
   "outputs": [],
   "source": [
    "Distri_Sku[\"Facts\"].replace(Distri_Fact_Mapping,inplace=True)"
   ]
  },
  {
   "cell_type": "code",
   "execution_count": null,
   "metadata": {},
   "outputs": [],
   "source": [
    "Distri_Sku.head(3)"
   ]
  },
  {
   "cell_type": "markdown",
   "metadata": {},
   "source": [
    "**Column name Change**"
   ]
  },
  {
   "cell_type": "code",
   "execution_count": null,
   "metadata": {},
   "outputs": [],
   "source": [
    "Distri_Sku.columns"
   ]
  },
  {
   "cell_type": "code",
   "execution_count": null,
   "metadata": {},
   "outputs": [],
   "source": [
    "#Confirm mapping of Products with PROD\n",
    "Distri_Sku.rename(columns={\"Markets\":\"MKT\",\"Manufacturer\":\"CP_MANUFACTURER\",\n",
    "                            \"Franchise\":\"CP_FRANCHISE\",\"Brand\":\"CP_BRAND\",\"SubBrand\":\"CP_SUBBRAND\",\n",
    "                           \"UPC\":\"Product_Code\",\"Item\":\"PROD\"},inplace=True)"
   ]
  },
  {
   "cell_type": "code",
   "execution_count": null,
   "metadata": {
    "scrolled": true
   },
   "outputs": [],
   "source": [
    "Distri_Sku.info()"
   ]
  },
  {
   "cell_type": "code",
   "execution_count": null,
   "metadata": {},
   "outputs": [],
   "source": [
    "Time_Period=list(Distri_Sku.columns[23:24])+list(Distri_Sku.columns[18:20])+list(Distri_Sku.columns[17:18])+list(Distri_Sku.columns[16:17])\n",
    "print(Time_Period)"
   ]
  },
  {
   "cell_type": "markdown",
   "metadata": {},
   "source": [
    "**Moving Time Period to Rows and Facts to Columns**"
   ]
  },
  {
   "cell_type": "code",
   "execution_count": null,
   "metadata": {},
   "outputs": [],
   "source": [
    "df1=pd.melt(Distri_Sku, id_vars =[\"MKT\",\"PROD\",\"CP_MANUFACTURER\",\"CP_FRANCHISE\",\"CP_BRAND\",\"CP_SUBBRAND\",\"Product_Code\",\"Facts\"], value_vars =Time_Period,var_name=\"Time_Period\")\n",
    "\n",
    "df1[\"value\"]=df1[\"value\"].apply(pd.to_numeric)"
   ]
  },
  {
   "cell_type": "code",
   "execution_count": null,
   "metadata": {},
   "outputs": [],
   "source": [
    "df2=df1.pivot_table(index=[\"MKT\",\"PROD\",\"CP_MANUFACTURER\",\"CP_FRANCHISE\",\"CP_BRAND\",\"CP_SUBBRAND\",\"Product_Code\",\"Time_Period\"],columns='Facts')\n",
    "\n",
    "df2.columns=df2.columns.droplevel().rename(None)\n",
    "df2.reset_index(inplace =True)"
   ]
  },
  {
   "cell_type": "code",
   "execution_count": null,
   "metadata": {},
   "outputs": [],
   "source": [
    "from pandas.api.types import CategoricalDtype\n",
    "\n",
    "Time_Period_order = CategoricalDtype(\n",
    "    Time_Period, \n",
    "    ordered=True\n",
    ")\n",
    "\n",
    "df2['Time_Period'] = df2['Time_Period'].astype(Time_Period_order)\n",
    "\n",
    "df2.sort_values(['MKT','PROD','Time_Period'],inplace=True)"
   ]
  },
  {
   "cell_type": "code",
   "execution_count": null,
   "metadata": {},
   "outputs": [],
   "source": [
    "final_column_sorting=[\"MKT\",\"PROD\",\"CP_MANUFACTURER\",\"CP_FRANCHISE\",\"CP_BRAND\",\"CP_SUBBRAND\",\"Product_Code\",\"Time_Period\",\n",
    "                      \"Doll_Shr\",\"Doll_Shr_Chg\",\"Base_Doll_Shr\",\"Base_Doll_Shr_Chg\",\"Store_Selling\",\"Store_Selling_Chg\",\n",
    "                      \"Doll_Velocity\",\"Doll_Velocity_Chg\",\"Cum_Distri_Pts\",\"Cum_Distri_Pts_Chg\",\"Dollars\",\"Dollars_Chg\",\"Units\"]\n",
    "\n",
    "Distri_Sku_final=df2[final_column_sorting]\n",
    "\n",
    "Distri_Sku_final[\"Record_ID\"]=range(1,len(Distri_Sku_final)+1)\n",
    "\n"
   ]
  },
  {
   "cell_type": "markdown",
   "metadata": {},
   "source": [
    "**Exporting Dataframe to output folder**"
   ]
  },
  {
   "cell_type": "code",
   "execution_count": null,
   "metadata": {},
   "outputs": [],
   "source": [
    "Distri_Sku_final.to_csv(path_Bar_temp+\"Distri_sku_data.csv\",index=False)"
   ]
  },
  {
   "cell_type": "code",
   "execution_count": null,
   "metadata": {},
   "outputs": [],
   "source": []
  },
  {
   "cell_type": "markdown",
   "metadata": {},
   "source": [
    "### Distri Sku Full Data"
   ]
  },
  {
   "cell_type": "code",
   "execution_count": null,
   "metadata": {},
   "outputs": [],
   "source": [
    "Distri_Sku_full=UPC_Monthly_Bar.copy()"
   ]
  },
  {
   "cell_type": "code",
   "execution_count": null,
   "metadata": {},
   "outputs": [],
   "source": [
    "Markets=[\"Ahold\",\"Alb/Sfy\",\"BJs\",\"CVS\",\"Dollar General\",\"Family Dollar\",\"Kmart\",\"Publix\",\n",
    "         \"Rite Aid\",\"Sams\",\"Shoprite\",\"Target\",\"US AOC\",\"US Drug\",\"US Food\",\"Walgreens\",\"Walmart\"]\n",
    "Manufacturer=[\"\",\"COLGATE-PALMOLIVE\",\"P&G\",\"SC JOHNSON\",\"LEVER\",\"PRVT LBL\",\"HENKEL\",\"UNILEVER\"]"
   ]
  },
  {
   "cell_type": "code",
   "execution_count": null,
   "metadata": {},
   "outputs": [],
   "source": [
    "Distri_Sku_full= Distri_Sku_full[Distri_Sku_full[\"Facts\"].isin(Distr_Sku_Full_Data_Facts)]\n",
    "Distri_Sku_full= Distri_Sku_full[Distri_Sku_full['Markets'].isin(Markets)]\n",
    "Distri_Sku_full= Distri_Sku_full[Distri_Sku_full['Manufacturer'].isin(Manufacturer)]"
   ]
  },
  {
   "cell_type": "code",
   "execution_count": null,
   "metadata": {},
   "outputs": [],
   "source": [
    "print(\"Missing Facts ->\",len(Distr_Sku_Full_Data_Facts)-len(set(Distri_Sku_full[\"Facts\"])),\"Missing Markets -> \",len(Markets)-len(set(Distri_Sku_full[\"Markets\"])))"
   ]
  },
  {
   "cell_type": "markdown",
   "metadata": {},
   "source": [
    "**Fact Mapping**"
   ]
  },
  {
   "cell_type": "code",
   "execution_count": null,
   "metadata": {},
   "outputs": [],
   "source": [
    "Distri_Sku_full[\"Facts\"].replace(Distri_Fact_Mapping,inplace=True)"
   ]
  },
  {
   "cell_type": "code",
   "execution_count": null,
   "metadata": {},
   "outputs": [],
   "source": [
    "Distri_Sku_full.head(3)"
   ]
  },
  {
   "cell_type": "markdown",
   "metadata": {},
   "source": [
    "**Column name Change**"
   ]
  },
  {
   "cell_type": "code",
   "execution_count": null,
   "metadata": {},
   "outputs": [],
   "source": [
    "Distri_Sku_full.info()"
   ]
  },
  {
   "cell_type": "code",
   "execution_count": null,
   "metadata": {},
   "outputs": [],
   "source": [
    "Distri_Sku_full.rename(columns={'Markets':\"MKT\", 'Manufacturer':\"CP_MANUFACTURER\",\n",
    "                                'Franchise':\"CP_FRANCHISE\", 'Brand':\"CP_BRAND\",\"Deal\":\"CP_DEAL_TYPE\",\n",
    "                                'SubBrand':\"CP_SUBBRAND\", 'Segment':\"CP_SEGMENT\", 'PriceTier':\"CP_PRICE_TIER\", 'Multi':\"CP_MULTI\",\n",
    "                                'Item':\"PROD\", 'UPC':\"Product_Code\",'Size_Range':\"CP_SIZE_RANGE\"},inplace=True)"
   ]
  },
  {
   "cell_type": "code",
   "execution_count": null,
   "metadata": {
    "scrolled": true
   },
   "outputs": [],
   "source": [
    "Distri_Sku_full.head()"
   ]
  },
  {
   "cell_type": "code",
   "execution_count": null,
   "metadata": {},
   "outputs": [],
   "source": [
    "Time_Period=list(Distri_Sku_full.columns[23:24])+list(Distri_Sku_full.columns[18:20])+list(Distri_Sku_full.columns[17:18])+list(Distri_Sku_full.columns[16:17])\n",
    "print(Time_Period)"
   ]
  },
  {
   "cell_type": "markdown",
   "metadata": {},
   "source": [
    "**Moving Time Period to Rows and Facts to Columns**"
   ]
  },
  {
   "cell_type": "code",
   "execution_count": null,
   "metadata": {},
   "outputs": [],
   "source": [
    "df1=pd.melt(Distri_Sku_full, id_vars =[\"MKT\",\"PROD\",\"CP_MANUFACTURER\",\"CP_FRANCHISE\",\"CP_BRAND\",\"CP_SUBBRAND\",\"Product_Code\",\"CP_PRICE_TIER\",\"CP_SIZE_RANGE\",\"CP_MULTI\",\"CP_SEGMENT\",\"Facts\",\"CP_DEAL_TYPE\"], value_vars =Time_Period,var_name=\"Time_Period\")\n",
    "\n",
    "df1[\"value\"]=df1[\"value\"].apply(pd.to_numeric)"
   ]
  },
  {
   "cell_type": "code",
   "execution_count": null,
   "metadata": {},
   "outputs": [],
   "source": [
    "df2=df1.pivot_table(index=[\"MKT\",\"Time_Period\",\"PROD\",\"CP_MANUFACTURER\",\"CP_FRANCHISE\",\"CP_BRAND\",\"CP_SUBBRAND\",\"CP_DEAL_TYPE\",\"Product_Code\",\"CP_PRICE_TIER\",\"CP_MULTI\",\"CP_SIZE_RANGE\",\"CP_SEGMENT\"],columns='Facts')\n",
    "\n",
    "df2.columns=df2.columns.droplevel().rename(None)\n",
    "df2.reset_index(inplace =True)"
   ]
  },
  {
   "cell_type": "code",
   "execution_count": null,
   "metadata": {},
   "outputs": [],
   "source": [
    "# sorting \"MKT\",\"Time_Period\",\"PROD\"\n",
    "df2.sort_values(['MKT','Time_Period','PROD'],inplace=True)"
   ]
  },
  {
   "cell_type": "code",
   "execution_count": null,
   "metadata": {},
   "outputs": [],
   "source": [
    "#%ACV AND STORESELLING BOTH PRESENT IN FINAL DATA;CHECK\n",
    "df2['Prcnt_ACV']=df2[\"Store_Selling\"]\n",
    "\n",
    "final_column_sorting=[\"MKT\",\"Time_Period\",\"PROD\",\"CP_MANUFACTURER\",\"CP_FRANCHISE\",\"CP_BRAND\",\"CP_SUBBRAND\",\"Product_Code\",\"CP_MULTI\",\n",
    "                      \"CP_PRICE_TIER\",\"CP_SIZE_RANGE\",\"CP_SEGMENT\",\"Doll_Shr\",\"Doll_Shr_Chg\",\"Base_Doll_Shr\",\n",
    "                      \"Base_Doll_Shr_Chg\",\"Store_Selling\",\"Store_Selling_Chg\",\"Doll_Velocity\",\"Doll_Velocity_Chg\",\n",
    "                      \"Cum_Distri_Pts\",\"Cum_Distri_Pts_Chg\",\"Dollars\",\"Dollars_Chg\",\"Prcnt_ACV\",\"Units\",\"Units_velocity\",\n",
    "                       \"CP_DEAL_TYPE\"]\n",
    "\n",
    "Distri_Sku_full_final=df2[final_column_sorting]\n",
    "\n",
    "Distri_Sku_full_final[\"Record_ID\"]=range(1,len(Distri_Sku_full_final)+1)\n",
    "\n"
   ]
  },
  {
   "cell_type": "code",
   "execution_count": null,
   "metadata": {},
   "outputs": [],
   "source": [
    "df2.head(5)"
   ]
  },
  {
   "cell_type": "markdown",
   "metadata": {},
   "source": [
    "**Exporting Dataframe to output folder**"
   ]
  },
  {
   "cell_type": "code",
   "execution_count": null,
   "metadata": {},
   "outputs": [],
   "source": [
    "Distri_Sku_full_final.to_csv(path_Bar_temp+\"Distri_Sku_full_data.csv\",index=False)"
   ]
  },
  {
   "cell_type": "code",
   "execution_count": null,
   "metadata": {},
   "outputs": [],
   "source": []
  },
  {
   "cell_type": "markdown",
   "metadata": {},
   "source": [
    "### Distri Cat Data"
   ]
  },
  {
   "cell_type": "code",
   "execution_count": null,
   "metadata": {},
   "outputs": [],
   "source": [
    "Distri_Cat=UPC_Monthly_Bar.copy()"
   ]
  },
  {
   "cell_type": "code",
   "execution_count": null,
   "metadata": {},
   "outputs": [],
   "source": [
    "Markets=[\"Ahold\",\"Alb/Sfy\",\"BJs\",\"CVS\",\"Dollar General\",\"Family Dollar\",\"Kmart\",\"Publix\",\"Rite Aid\",\n",
    "         \"Sams\",\"Shoprite\",\"Target\",\"US AOC\",\"US Drug\",\"US Food\",\"Walgreens\",\"Walmart\"]\n",
    "Manufacturer=[\"\",\"COLGATE-PALMOLIVE\",\"P&G\",\"SC JOHNSON\",\"LEVER\",\"PRVT LBL\",\"HENKEL\",\"UNILEVER\"]"
   ]
  },
  {
   "cell_type": "code",
   "execution_count": null,
   "metadata": {},
   "outputs": [],
   "source": [
    "Distri_Cat= Distri_Cat[Distri_Cat[\"Facts\"].isin(Distri_Cat_Data_Facts)]\n",
    "Distri_Cat= Distri_Cat[Distri_Cat['Markets'].isin(Markets)]\n",
    "Distri_Cat= Distri_Cat[Distri_Cat['Manufacturer'].isin(Manufacturer)]"
   ]
  },
  {
   "cell_type": "code",
   "execution_count": null,
   "metadata": {},
   "outputs": [],
   "source": [
    "print(\"Missing Facts ->\",len(Distri_Cat_Data_Facts)-len(set(Distri_Cat[\"Facts\"])),\"Missing Markets -> \",len(Markets)-len(set(Distri_Cat[\"Markets\"])))"
   ]
  },
  {
   "cell_type": "markdown",
   "metadata": {},
   "source": [
    "**Fact Mapping**"
   ]
  },
  {
   "cell_type": "code",
   "execution_count": null,
   "metadata": {},
   "outputs": [],
   "source": [
    "Distri_Cat[\"Facts\"].replace(Distri_Fact_Mapping,inplace=True)"
   ]
  },
  {
   "cell_type": "code",
   "execution_count": null,
   "metadata": {},
   "outputs": [],
   "source": [
    "Distri_Cat.head(3)"
   ]
  },
  {
   "cell_type": "markdown",
   "metadata": {},
   "source": [
    "**Column name Change**"
   ]
  },
  {
   "cell_type": "code",
   "execution_count": null,
   "metadata": {},
   "outputs": [],
   "source": [
    "Distri_Cat.columns"
   ]
  },
  {
   "cell_type": "code",
   "execution_count": null,
   "metadata": {},
   "outputs": [],
   "source": [
    "Distri_Cat.rename(columns={'Markets':\"MKT\", 'Manufacturer':\"CP_MANUFACTURER\", 'Franchise':\"CP_FRANCHISE\",\n",
    "                           'Brand':\"CP_BRAND\",'SubBrand':\"CP_SUBBRAND\",\"UPC\":\"Product_Code\",\n",
    "                           'Item':\"PROD\"},inplace=True)"
   ]
  },
  {
   "cell_type": "code",
   "execution_count": null,
   "metadata": {
    "scrolled": false
   },
   "outputs": [],
   "source": [
    "Distri_Cat.head()"
   ]
  },
  {
   "cell_type": "code",
   "execution_count": null,
   "metadata": {},
   "outputs": [],
   "source": [
    "Time_Period=list(Distri_Cat.columns[23:24])+list(Distri_Cat.columns[18:20])+list(Distri_Cat.columns[17:18])+list(Distri_Cat.columns[16:17])\n",
    "print(Time_Period)"
   ]
  },
  {
   "cell_type": "markdown",
   "metadata": {},
   "source": [
    "**Moving Time Period to Rows and Facts to Columns**"
   ]
  },
  {
   "cell_type": "code",
   "execution_count": null,
   "metadata": {},
   "outputs": [],
   "source": [
    "df1=pd.melt(Distri_Cat, id_vars =[\"MKT\",\"PROD\",\"CP_MANUFACTURER\",\"CP_FRANCHISE\",\"CP_BRAND\",\"CP_SUBBRAND\",\"Facts\",\"Product_Code\"], value_vars =Time_Period,var_name=\"Time_Period\")\n",
    "\n",
    "df1[\"value\"]=df1[\"value\"].apply(pd.to_numeric)"
   ]
  },
  {
   "cell_type": "code",
   "execution_count": null,
   "metadata": {},
   "outputs": [],
   "source": [
    "df2=df1.pivot_table(index=[\"MKT\",\"PROD\",\"CP_MANUFACTURER\",\"CP_FRANCHISE\",\"CP_BRAND\",\"CP_SUBBRAND\",\"Time_Period\",\"Product_Code\"],columns='Facts')\n",
    "\n",
    "df2.columns=df2.columns.droplevel().rename(None)\n",
    "df2.reset_index(inplace =True)"
   ]
  },
  {
   "cell_type": "code",
   "execution_count": null,
   "metadata": {},
   "outputs": [],
   "source": [
    "from pandas.api.types import CategoricalDtype\n",
    "\n",
    "Time_Period_order = CategoricalDtype(\n",
    "    Time_Period, \n",
    "    ordered=True\n",
    ")\n",
    "\n",
    "df2['Time_Period'] = df2['Time_Period'].astype(Time_Period_order)\n",
    "\n",
    "\n",
    "df2.sort_values(['MKT','PROD','Time_Period'],inplace=True)"
   ]
  },
  {
   "cell_type": "code",
   "execution_count": null,
   "metadata": {},
   "outputs": [],
   "source": [
    "df2['Prcnt_ACV']=df2[\"Store_Selling\"]\n",
    "\n",
    "final_column_sorting=[\"MKT\",\"PROD\",\"CP_MANUFACTURER\",\"CP_FRANCHISE\",\"CP_BRAND\",\"CP_SUBBRAND\",\"Product_Code\",\"Time_Period\",\n",
    "                      \"Doll_Shr\",\"Cum_Distri_Pts\",\"Dollars\",\"Store_Selling\",\"Prcnt_ACV\"]\n",
    "\n",
    "Distri_Cat_final=df2[final_column_sorting]\n",
    "\n",
    "Distri_Cat_final[\"Record_ID\"]=range(1,len(Distri_Cat_final)+1)\n",
    "\n"
   ]
  },
  {
   "cell_type": "code",
   "execution_count": null,
   "metadata": {},
   "outputs": [],
   "source": [
    "Distri_Cat_final.head(2)"
   ]
  },
  {
   "cell_type": "markdown",
   "metadata": {},
   "source": [
    "**Exporting Dataframe to output folder**"
   ]
  },
  {
   "cell_type": "code",
   "execution_count": null,
   "metadata": {},
   "outputs": [],
   "source": [
    "Distri_Cat_final.to_csv(path_Bar_temp+\"Distri_category_skus_Data.csv\",index=False)"
   ]
  },
  {
   "cell_type": "code",
   "execution_count": null,
   "metadata": {},
   "outputs": [],
   "source": []
  },
  {
   "cell_type": "markdown",
   "metadata": {},
   "source": [
    "## LDL\n"
   ]
  },
  {
   "cell_type": "code",
   "execution_count": null,
   "metadata": {},
   "outputs": [],
   "source": [
    "# path to store Output files\n",
    "path_LDL=\"//falmumapp34/Nielsen Connect Transition & Maintenance (20-SCP-3650)/05. Output Data/5P Output/LDL/\""
   ]
  },
  {
   "cell_type": "code",
   "execution_count": null,
   "metadata": {},
   "outputs": [],
   "source": [
    "UPC_Monthly_LDL= UPC_Monthly[UPC_Monthly[\"ShareBasis\"]==\"LDL/DISHAIDS/WPS/FM/SPRAYS\"]\n",
    "UPC_Monthly_LDL.head(2)"
   ]
  },
  {
   "cell_type": "code",
   "execution_count": null,
   "metadata": {},
   "outputs": [],
   "source": [
    "UPC_Monthly_LDL['Products']"
   ]
  },
  {
   "cell_type": "code",
   "execution_count": null,
   "metadata": {},
   "outputs": [],
   "source": [
    "New_Column=[\"ShareBasis\",\"Manufacturer\",\"Franchise\",\"Brand\",\"SubBrand\",\"SubBrand_Variant\",\"SizeRange\",\"Multi\",\"Concentrantion\",\"Item\",\"UPC\"]\n",
    "\n",
    "UPC_Monthly_LDL[New_Column] = UPC_Monthly_LDL['Products'].str.split('|',n=11,expand=True)\n",
    "\n",
    "\n",
    "UPC_Monthly_LDL[New_Column].fillna(value=\"\")\n",
    "UPC_Monthly_LDL.head(3)\n",
    "\n",
    "# Moving columns after \"Market\"\n",
    "UPC_Monthly_LDL = movecol(UPC_Monthly_LDL, \n",
    "             cols_to_move=New_Column, \n",
    "             ref_col='Markets',\n",
    "             place='After')\n",
    "UPC_Monthly_LDL.head(3)"
   ]
  },
  {
   "cell_type": "code",
   "execution_count": null,
   "metadata": {
    "scrolled": true
   },
   "outputs": [],
   "source": [
    "UPC_Monthly_LDL.shape"
   ]
  },
  {
   "cell_type": "markdown",
   "metadata": {},
   "source": [
    "**Strip Columns**"
   ]
  },
  {
   "cell_type": "code",
   "execution_count": null,
   "metadata": {},
   "outputs": [],
   "source": [
    "cols=list(UPC_Monthly_LDL.columns[0:15])\n",
    "UPC_Monthly_LDL[cols]=UPC_Monthly_LDL[cols].apply(lambda x : x.str.strip())\n"
   ]
  },
  {
   "cell_type": "markdown",
   "metadata": {},
   "source": [
    " "
   ]
  },
  {
   "cell_type": "markdown",
   "metadata": {},
   "source": [
    "### Distri Sku Data"
   ]
  },
  {
   "cell_type": "code",
   "execution_count": null,
   "metadata": {},
   "outputs": [],
   "source": [
    "Distri_Sku=UPC_Monthly_LDL.copy()"
   ]
  },
  {
   "cell_type": "code",
   "execution_count": null,
   "metadata": {},
   "outputs": [],
   "source": [
    "Markets=[\"Ahold\",\"Alb/Sfy\",\"BJs\",\"CVS\",\"Dollar General\",\"Family Dollar\",\"Publix\",\"Rite Aid\",\n",
    "         \"Sams\",\"Shoprite\",\"Target\",\"US AOC\",\"US Drug\",\"US Food\",\"Walgreens\",\"Walmart\"]\n",
    "Manufacturer=[\"\",\"COLGATE-PALMOLIVE\",\"P&G\",\"SC JOHNSON\",\"PRVT LBL\",\"UNILEVER\"]"
   ]
  },
  {
   "cell_type": "code",
   "execution_count": null,
   "metadata": {},
   "outputs": [],
   "source": [
    "Distri_Sku= Distri_Sku[Distri_Sku[\"Facts\"].isin(Distri_Sku_Facts)]\n",
    "Distri_Sku= Distri_Sku[Distri_Sku['Markets'].isin(Markets)]\n",
    "Distri_Sku= Distri_Sku[Distri_Sku['Manufacturer'].isin(Manufacturer)]"
   ]
  },
  {
   "cell_type": "code",
   "execution_count": null,
   "metadata": {},
   "outputs": [],
   "source": [
    "print(\"Missing Facts ->\",len(Distri_Sku_Facts)-len(set(Distri_Sku[\"Facts\"])),\"Missing Markets -> \",len(Markets)-len(set(Distri_Sku[\"Markets\"])))"
   ]
  },
  {
   "cell_type": "markdown",
   "metadata": {},
   "source": [
    "**Fact Mapping**"
   ]
  },
  {
   "cell_type": "code",
   "execution_count": null,
   "metadata": {},
   "outputs": [],
   "source": [
    "Distri_Sku[\"Facts\"].replace(Distri_Fact_Mapping,inplace=True)"
   ]
  },
  {
   "cell_type": "code",
   "execution_count": null,
   "metadata": {},
   "outputs": [],
   "source": [
    "Distri_Sku.head(3)"
   ]
  },
  {
   "cell_type": "markdown",
   "metadata": {},
   "source": [
    "**Column name Change**"
   ]
  },
  {
   "cell_type": "code",
   "execution_count": null,
   "metadata": {},
   "outputs": [],
   "source": [
    "Distri_Sku.columns"
   ]
  },
  {
   "cell_type": "code",
   "execution_count": null,
   "metadata": {},
   "outputs": [],
   "source": [
    "Distri_Sku.rename(columns={\"Markets\":\"MKT\",\"Manufacturer\":\"CP_MANUFACTURER\",\n",
    "                            \"Franchise\":\"CP_FRANCHISE\",\"Brand\":\"CP_BRAND\",\"SubBrand\":\"CP_SUBBRAND\",\"Concentrantion\":\"CP_CONCENTRATION\",\n",
    "                           \"UPC\":\"Product_Code\",\"Item\":\"PROD\",\"Multi\":\"CP_MULTI\",\"SubBrand_Variant\":\"CP_SUBBRAND_VARIANT\"},inplace=True)"
   ]
  },
  {
   "cell_type": "code",
   "execution_count": null,
   "metadata": {
    "scrolled": true
   },
   "outputs": [],
   "source": [
    "Distri_Sku.info()"
   ]
  },
  {
   "cell_type": "code",
   "execution_count": null,
   "metadata": {},
   "outputs": [],
   "source": [
    "Time_Period=list(Distri_Sku.columns[31:32])+list(Distri_Sku.columns[21:23])+list(Distri_Sku.columns[19:20])+list(Distri_Sku.columns[15:16])\n",
    "print(Time_Period)"
   ]
  },
  {
   "cell_type": "code",
   "execution_count": null,
   "metadata": {},
   "outputs": [],
   "source": [
    "Distri_Sku.columns"
   ]
  },
  {
   "cell_type": "markdown",
   "metadata": {},
   "source": [
    "**Moving Time Period to Rows and Facts to Columns**"
   ]
  },
  {
   "cell_type": "code",
   "execution_count": null,
   "metadata": {},
   "outputs": [],
   "source": [
    "df1=pd.melt(Distri_Sku, id_vars =[\"MKT\",\"PROD\",\"CP_MANUFACTURER\",\"CP_FRANCHISE\",\"CP_BRAND\",\"CP_SUBBRAND\",\"CP_CONCENTRATION\",\"Product_Code\",\"CP_SUBBRAND_VARIANT\",\"CP_MULTI\",\"Facts\"], value_vars =Time_Period,var_name=\"Time_Period\")\n",
    "df1[\"value\"]=df1[\"value\"].apply(pd.to_numeric)"
   ]
  },
  {
   "cell_type": "code",
   "execution_count": null,
   "metadata": {},
   "outputs": [],
   "source": [
    "df2=df1.pivot_table(index=[\"MKT\",\"PROD\",\"CP_MANUFACTURER\",\"CP_FRANCHISE\",\"CP_BRAND\",\"CP_SUBBRAND\",\"Product_Code\",\"CP_SUBBRAND_VARIANT\",\"CP_MULTI\",\"Time_Period\",\"CP_CONCENTRATION\"],columns='Facts')\n",
    "df2.columns=df2.columns.droplevel().rename(None)\n",
    "df2.reset_index(inplace =True)"
   ]
  },
  {
   "cell_type": "code",
   "execution_count": null,
   "metadata": {},
   "outputs": [],
   "source": [
    "from pandas.api.types import CategoricalDtype\n",
    "\n",
    "Time_Period_order = CategoricalDtype(\n",
    "    Time_Period, \n",
    "    ordered=True\n",
    ")\n",
    "\n",
    "df2['Time_Period'] = df2['Time_Period'].astype(Time_Period_order)\n",
    "\n",
    "df2.sort_values(['MKT','PROD','Time_Period'],inplace=True)"
   ]
  },
  {
   "cell_type": "code",
   "execution_count": null,
   "metadata": {},
   "outputs": [],
   "source": [
    "final_column_sorting=[\"MKT\",\"PROD\",\"CP_MANUFACTURER\",\"CP_FRANCHISE\",\"CP_BRAND\",\"CP_CONCENTRATION\",\"Product_Code\",\"Time_Period\",\n",
    "                      \"Doll_Shr\",\"Doll_Shr_Chg\",\"Base_Doll_Shr\",\"Base_Doll_Shr_Chg\",\"Store_Selling\",\"Store_Selling_Chg\",\n",
    "                      \"Doll_Velocity\",\"Doll_Velocity_Chg\",\"Cum_Distri_Pts\",\"Cum_Distri_Pts_Chg\",\"Dollars\",\"Dollars_Chg\",\"Units\"]\n",
    "\n",
    "Distri_Sku_final=df2[final_column_sorting]\n",
    "\n",
    "Distri_Sku_final[\"Record_ID\"]=range(1,len(Distri_Sku_final)+1)\n",
    "\n"
   ]
  },
  {
   "cell_type": "code",
   "execution_count": null,
   "metadata": {},
   "outputs": [],
   "source": [
    "Distri_Sku_final.head()"
   ]
  },
  {
   "cell_type": "markdown",
   "metadata": {},
   "source": [
    "**Exporting Dataframe to output folder**"
   ]
  },
  {
   "cell_type": "code",
   "execution_count": null,
   "metadata": {},
   "outputs": [],
   "source": [
    "Distri_Sku_final.to_csv(path_LDL+\"Distri_sku_data.csv\",index=False)"
   ]
  },
  {
   "cell_type": "code",
   "execution_count": null,
   "metadata": {},
   "outputs": [],
   "source": []
  },
  {
   "cell_type": "markdown",
   "metadata": {},
   "source": [
    "### Distri Sku Full Data"
   ]
  },
  {
   "cell_type": "code",
   "execution_count": null,
   "metadata": {},
   "outputs": [],
   "source": [
    "Distri_Sku_full=UPC_Monthly_LDL.copy()"
   ]
  },
  {
   "cell_type": "code",
   "execution_count": null,
   "metadata": {},
   "outputs": [],
   "source": [
    "Markets=[\"Ahold\",\"Alb/Sfy\",\"BJs\",\"CVS\",\"Dollar General\",\"Family Dollar\",\"Publix\",\n",
    "         \"Rite Aid\",\"Sams\",\"Shoprite\",\"Target\",\"US AOC\",\"US Drug\",\"US Food\",\"Walgreens\",\"Walmart\"]\n",
    "Manufacturer=[\"\",\"COLGATE-PALMOLIVE\",\"P&G\",\"SC JOHNSON\",\"PRVT LBL\",\"UNILEVER\"]"
   ]
  },
  {
   "cell_type": "code",
   "execution_count": null,
   "metadata": {},
   "outputs": [],
   "source": [
    "Distri_Sku_full= Distri_Sku_full[Distri_Sku_full[\"Facts\"].isin(Distr_Sku_Full_Data_Facts)]\n",
    "Distri_Sku_full= Distri_Sku_full[Distri_Sku_full['Markets'].isin(Markets)]\n",
    "Distri_Sku_full= Distri_Sku_full[Distri_Sku_full['Manufacturer'].isin(Manufacturer)]"
   ]
  },
  {
   "cell_type": "code",
   "execution_count": null,
   "metadata": {},
   "outputs": [],
   "source": [
    "print(\"Missing Facts ->\",len(Distr_Sku_Full_Data_Facts)-len(set(Distri_Sku_full[\"Facts\"])),\"Missing Markets -> \",len(Markets)-len(set(Distri_Sku_full[\"Markets\"])))"
   ]
  },
  {
   "cell_type": "code",
   "execution_count": null,
   "metadata": {},
   "outputs": [],
   "source": [
    "set(Distri_Sku_full.Facts)"
   ]
  },
  {
   "cell_type": "markdown",
   "metadata": {},
   "source": [
    "**Fact Mapping**"
   ]
  },
  {
   "cell_type": "code",
   "execution_count": null,
   "metadata": {},
   "outputs": [],
   "source": [
    "Distri_Sku_full[\"Facts\"].replace(Distri_Fact_Mapping,inplace=True)"
   ]
  },
  {
   "cell_type": "code",
   "execution_count": null,
   "metadata": {},
   "outputs": [],
   "source": [
    "Distri_Sku_full.head(3)"
   ]
  },
  {
   "cell_type": "markdown",
   "metadata": {},
   "source": [
    "**Column name Change**"
   ]
  },
  {
   "cell_type": "code",
   "execution_count": null,
   "metadata": {},
   "outputs": [],
   "source": [
    "Distri_Sku_full.columns"
   ]
  },
  {
   "cell_type": "code",
   "execution_count": null,
   "metadata": {},
   "outputs": [],
   "source": [
    "set(Distri_Sku_full[\"Facts\"])"
   ]
  },
  {
   "cell_type": "code",
   "execution_count": null,
   "metadata": {},
   "outputs": [],
   "source": [
    "Distri_Sku_full.columns"
   ]
  },
  {
   "cell_type": "code",
   "execution_count": null,
   "metadata": {},
   "outputs": [],
   "source": [
    "Distri_Sku_full.rename(columns={'Markets':\"MKT\", 'Manufacturer':\"CP_MANUFACTURER\",\n",
    "                                'Franchise':\"CP_FRANCHISE\", 'Brand':\"CP_BRAND\",\n",
    "                                'SubBrand':\"CP_SUBBRAND\", 'Segment':\"CP_SEGMENT\",\"Concentrantion\":\"CP_CONCENTRATION\",'PriceTier':\"CP_PRICE_TIER\",\n",
    "                                'Form':\"CP_FORM\", 'Multi':\"CP_MULTI\",\"SizeRange\":\"CP_SIZE_RANGE\",\n",
    "                                'UPC':\"Product_Code\",\"Item\":\"PROD\",\"Multi\":\"CP_MULTI\",\"SubBrand_Variant\":\"CP_SUBBRAND_VARIANT\"},inplace=True)\n"
   ]
  },
  {
   "cell_type": "code",
   "execution_count": null,
   "metadata": {},
   "outputs": [],
   "source": [
    "set(Distri_Sku_full[\"Facts\"])"
   ]
  },
  {
   "cell_type": "code",
   "execution_count": null,
   "metadata": {
    "scrolled": false
   },
   "outputs": [],
   "source": [
    "Distri_Sku_full.head()"
   ]
  },
  {
   "cell_type": "code",
   "execution_count": null,
   "metadata": {},
   "outputs": [],
   "source": [
    "set(Distri_Sku_full[\"Facts\"])"
   ]
  },
  {
   "cell_type": "code",
   "execution_count": null,
   "metadata": {},
   "outputs": [],
   "source": [
    "Distri_Sku_full.info()"
   ]
  },
  {
   "cell_type": "code",
   "execution_count": null,
   "metadata": {},
   "outputs": [],
   "source": [
    "Time_Period=list(Distri_Sku_full.columns[31:32])+list(Distri_Sku_full.columns[21:23])+list(Distri_Sku_full.columns[19:20])+list(Distri_Sku_full.columns[15:16])\n",
    "print(Time_Period)"
   ]
  },
  {
   "cell_type": "code",
   "execution_count": null,
   "metadata": {},
   "outputs": [],
   "source": []
  },
  {
   "cell_type": "markdown",
   "metadata": {},
   "source": [
    "**Moving Time Period to Rows and Facts to Columns**"
   ]
  },
  {
   "cell_type": "code",
   "execution_count": null,
   "metadata": {},
   "outputs": [],
   "source": [
    "df1=pd.melt(Distri_Sku_full, id_vars =[\"MKT\",\"PROD\",\"CP_MANUFACTURER\",\"CP_FRANCHISE\",\"CP_BRAND\",\"CP_SUBBRAND\",\"CP_CONCENTRATION\",\"Product_Code\",\"CP_SUBBRAND_VARIANT\",\"CP_MULTI\",\"Facts\",\"CP_SIZE_RANGE\"], value_vars =Time_Period,var_name=\"Time_Period\")\n",
    "df1[\"value\"]=df1[\"value\"].apply(pd.to_numeric)\n",
    "df2=df1.pivot_table(index=[\"MKT\",\"PROD\",\"CP_MANUFACTURER\",\"CP_FRANCHISE\",\"CP_BRAND\",\"CP_SUBBRAND\",\"Product_Code\",\"CP_SUBBRAND_VARIANT\",\"CP_MULTI\",\"Time_Period\",\"CP_CONCENTRATION\",\"CP_SIZE_RANGE\"],columns='Facts')\n",
    "df2.columns=df2.columns.droplevel().rename(None)\n",
    "df2.reset_index(inplace =True)\n",
    "from pandas.api.types import CategoricalDtype\n",
    "\n",
    "Time_Period_order = CategoricalDtype(\n",
    "    Time_Period, \n",
    "    ordered=True\n",
    ")\n",
    "\n",
    "df2['Time_Period'] = df2['Time_Period'].astype(Time_Period_order)\n",
    "\n",
    "df2.sort_values(['MKT','PROD','Time_Period'],inplace=True)"
   ]
  },
  {
   "cell_type": "code",
   "execution_count": null,
   "metadata": {},
   "outputs": [],
   "source": [
    "df2.columns"
   ]
  },
  {
   "cell_type": "code",
   "execution_count": null,
   "metadata": {},
   "outputs": [],
   "source": [
    "df2.columns"
   ]
  },
  {
   "cell_type": "code",
   "execution_count": null,
   "metadata": {},
   "outputs": [],
   "source": [
    "df2['Prcnt_ACV']=df2[\"Store_Selling\"]\n",
    "\n",
    "df2[\"Dummy1\"]=\"Dummy\"\n",
    "df2[\"CP_CATEGORY\"]=\"LDL X DISHAIDS/WPS/FM\"\n",
    "\n",
    "final_column_sorting=[\"MKT\",\"Time_Period\",\"PROD\",\"CP_MANUFACTURER\",\"CP_FRANCHISE\",\"CP_BRAND\",\"CP_SUBBRAND\",\"Product_Code\",\n",
    "                      \"CP_MULTI\",\"CP_SUBBRAND_VARIANT\",\"Dummy1\",\"CP_CATEGORY\",\"Doll_Shr\",\"Doll_Shr_Chg\",\"Base_Doll_Shr\",\n",
    "                      \"Base_Doll_Shr_Chg\",\"Store_Selling\",\"Store_Selling_Chg\",\"Doll_Velocity\",\"Doll_Velocity_Chg\",\n",
    "                      \"Cum_Distri_Pts\",\"Cum_Distri_Pts_Chg\",\"Dollars\",\"Dollars_Chg\",\"Prcnt_ACV\",\"Units\",\"Units_velocity\",\n",
    "                     'CP_CONCENTRATION', 'CP_SIZE_RANGE']\n",
    "\n",
    "\n",
    "Distri_Sku_full_final=df2[final_column_sorting]\n",
    "\n",
    "Distri_Sku_full_final[\"Record_ID\"]=range(1,len(Distri_Sku_full_final)+1)\n",
    "\n"
   ]
  },
  {
   "cell_type": "code",
   "execution_count": null,
   "metadata": {},
   "outputs": [],
   "source": [
    "Distri_Sku_full_final.head()"
   ]
  },
  {
   "cell_type": "markdown",
   "metadata": {},
   "source": [
    "**Exporting Dataframe to output folder**"
   ]
  },
  {
   "cell_type": "code",
   "execution_count": null,
   "metadata": {},
   "outputs": [],
   "source": [
    "Distri_Sku_full_final.to_csv(path_LDL+\"Distri_Sku_full_data.csv\",index=False)"
   ]
  },
  {
   "cell_type": "code",
   "execution_count": null,
   "metadata": {},
   "outputs": [],
   "source": []
  },
  {
   "cell_type": "markdown",
   "metadata": {},
   "source": [
    "### Distri Cat Data"
   ]
  },
  {
   "cell_type": "code",
   "execution_count": null,
   "metadata": {},
   "outputs": [],
   "source": [
    "Distri_Cat=UPC_Monthly_LDL.copy()"
   ]
  },
  {
   "cell_type": "code",
   "execution_count": null,
   "metadata": {},
   "outputs": [],
   "source": [
    "Markets=[\"Ahold\",\"Alb/Sfy\",\"BJs\",\"CVS\",\"Dollar General\",\"Family Dollar\",\"Publix\",\"Rite Aid\",\n",
    "         \"Sams\",\"Shoprite\",\"Target\",\"US AOC\",\"US Drug\",\"US Food\",\"Walgreens\",\"Walmart\"]\n",
    "Manufacturer=[\"\",\"COLGATE-PALMOLIVE\",\"P&G\",\"SC JOHNSON\",\"PRVT LBL\",\"UNILEVER\"]"
   ]
  },
  {
   "cell_type": "code",
   "execution_count": null,
   "metadata": {},
   "outputs": [],
   "source": [
    "Distri_Cat= Distri_Cat[Distri_Cat[\"Facts\"].isin(Distri_Cat_Data_Facts)]\n",
    "Distri_Cat= Distri_Cat[Distri_Cat['Markets'].isin(Markets)]\n",
    "Distri_Cat= Distri_Cat[Distri_Cat['Manufacturer'].isin(Manufacturer)]"
   ]
  },
  {
   "cell_type": "code",
   "execution_count": null,
   "metadata": {},
   "outputs": [],
   "source": [
    "print(\"Missing Facts ->\",len(Distri_Cat_Data_Facts)-len(set(Distri_Cat[\"Facts\"])),\"Missing Markets -> \",len(Markets)-len(set(Distri_Cat[\"Markets\"])))"
   ]
  },
  {
   "cell_type": "markdown",
   "metadata": {},
   "source": [
    "**Fact Mapping**"
   ]
  },
  {
   "cell_type": "code",
   "execution_count": null,
   "metadata": {},
   "outputs": [],
   "source": [
    "Distri_Cat[\"Facts\"].replace(Distri_Fact_Mapping,inplace=True)"
   ]
  },
  {
   "cell_type": "code",
   "execution_count": null,
   "metadata": {},
   "outputs": [],
   "source": [
    "Distri_Cat.head(3)"
   ]
  },
  {
   "cell_type": "markdown",
   "metadata": {},
   "source": [
    "**Column name Change**"
   ]
  },
  {
   "cell_type": "code",
   "execution_count": null,
   "metadata": {},
   "outputs": [],
   "source": [
    "Distri_Cat.columns"
   ]
  },
  {
   "cell_type": "code",
   "execution_count": null,
   "metadata": {},
   "outputs": [],
   "source": [
    "Distri_Cat.rename(columns={'Markets':\"MKT\", 'Manufacturer':\"CP_MANUFACTURER\",\n",
    "                                'Franchise':\"CP_FRANCHISE\", 'Brand':\"CP_BRAND\",\n",
    "                                'SubBrand':\"CP_SUBBRAND\", 'Segment':\"CP_SEGMENT\",\"Concentrantion\":\"CP_CONCENTRATION\",'PriceTier':\"CP_PRICE_TIER\",\n",
    "                                'Form':\"CP_FORM\", 'Multi':\"CP_MULTI\",\n",
    "                                'UPC':\"Product_Code\",\"Item\":\"PROD\",\"Multi\":\"CP_MULTI\",\"SubBrand_Variant\":\"CP_SUBBRAND_VARIANT\"},inplace=True)\n",
    "\n",
    "\n"
   ]
  },
  {
   "cell_type": "code",
   "execution_count": null,
   "metadata": {
    "scrolled": false
   },
   "outputs": [],
   "source": [
    "Distri_Cat.info()"
   ]
  },
  {
   "cell_type": "code",
   "execution_count": null,
   "metadata": {},
   "outputs": [],
   "source": [
    "Time_Period=list(Distri_Cat.columns[31:32])+list(Distri_Cat.columns[21:23])+list(Distri_Cat.columns[19:20])+list(Distri_Cat.columns[15:16])\n",
    "print(Time_Period)"
   ]
  },
  {
   "cell_type": "markdown",
   "metadata": {},
   "source": [
    "**Moving Time Period to Rows and Facts to Columns**"
   ]
  },
  {
   "cell_type": "code",
   "execution_count": null,
   "metadata": {},
   "outputs": [],
   "source": [
    "df1=pd.melt(Distri_Cat, id_vars =[\"MKT\",\"PROD\",\"CP_MANUFACTURER\",\"CP_FRANCHISE\",\"CP_BRAND\",\"CP_SUBBRAND\",\"CP_CONCENTRATION\",\"Product_Code\",\"CP_SUBBRAND_VARIANT\",\"CP_MULTI\",\"Facts\"], value_vars =Time_Period,var_name=\"Time_Period\")\n",
    "df1[\"value\"]=df1[\"value\"].apply(pd.to_numeric)\n",
    "df2=df1.pivot_table(index=[\"MKT\",\"PROD\",\"CP_MANUFACTURER\",\"CP_FRANCHISE\",\"CP_BRAND\",\"CP_SUBBRAND\",\"Product_Code\",\"CP_SUBBRAND_VARIANT\",\"CP_MULTI\",\"Time_Period\",\"CP_CONCENTRATION\"],columns='Facts')\n",
    "df2.columns=df2.columns.droplevel().rename(None)\n",
    "df2.reset_index(inplace =True)\n",
    "from pandas.api.types import CategoricalDtype\n",
    "\n",
    "Time_Period_order = CategoricalDtype(\n",
    "    Time_Period, \n",
    "    ordered=True\n",
    ")\n",
    "\n",
    "df2['Time_Period'] = df2['Time_Period'].astype(Time_Period_order)\n",
    "\n",
    "df2.sort_values(['MKT','PROD','Time_Period'],inplace=True)"
   ]
  },
  {
   "cell_type": "code",
   "execution_count": null,
   "metadata": {},
   "outputs": [],
   "source": [
    "df2['Prcnt_ACV']=df2[\"Store_Selling\"]\n",
    "\n",
    "final_column_sorting=[\"MKT\",\"PROD\",\"CP_MANUFACTURER\",\"CP_FRANCHISE\",\"CP_BRAND\",\"CP_CONCENTRATION\",\"Product_Code\",\"Time_Period\",\n",
    "                      \"Doll_Shr\",\"Cum_Distri_Pts\",\"Dollars\",\"Store_Selling\",\"Prcnt_ACV\"]\n",
    "\n",
    "Distri_Cat_final=df2[final_column_sorting]\n",
    "\n",
    "Distri_Cat_final[\"Record_ID\"]=range(1,len(Distri_Cat_final)+1)\n",
    "\n"
   ]
  },
  {
   "cell_type": "code",
   "execution_count": null,
   "metadata": {},
   "outputs": [],
   "source": [
    "Distri_Cat_final.head()"
   ]
  },
  {
   "cell_type": "markdown",
   "metadata": {},
   "source": [
    "**Exporting Dataframe to output folder**"
   ]
  },
  {
   "cell_type": "code",
   "execution_count": null,
   "metadata": {},
   "outputs": [],
   "source": [
    "Distri_Cat_final.to_csv(path_LDL+\"Distri_category_skus_Data.csv\",index=False)"
   ]
  },
  {
   "cell_type": "code",
   "execution_count": null,
   "metadata": {},
   "outputs": [],
   "source": [
    "set(Distri_Cat_final[Distri_Cat_final[\"CP_MANUFACTURER\"]==\"HENKEL\"][\"CP_FRANCHISE\"])"
   ]
  },
  {
   "cell_type": "markdown",
   "metadata": {},
   "source": [
    "## BW"
   ]
  },
  {
   "cell_type": "code",
   "execution_count": null,
   "metadata": {},
   "outputs": [],
   "source": [
    "# path to store Output files\n",
    "path_BW=\"//falmumapp34/Nielsen Connect Transition & Maintenance (20-SCP-3650)/05. Output Data/5P Output/BW/\""
   ]
  },
  {
   "cell_type": "code",
   "execution_count": null,
   "metadata": {},
   "outputs": [],
   "source": [
    "UPC_Monthly_BW= UPC_Monthly[UPC_Monthly[\"ShareBasis\"]==\"BODYWASH\"]\n",
    "UPC_Monthly_BW.head(2)"
   ]
  },
  {
   "cell_type": "code",
   "execution_count": null,
   "metadata": {},
   "outputs": [],
   "source": [
    "New_Column=[\"ShareBasis\",\"Manufacturer\",\"Franchise\",\"Brand\",\"SubBrand\",\"SubBrand Variant\",\"Gender\",\"Segment\",\"PriceTier\",\"Deal\",\"Applicable\",\"Multi\",\"Size\",\"Item\",\"UPC\"]\n",
    "\n",
    "UPC_Monthly_BW[New_Column] = UPC_Monthly_BW['Products'].str.split('|',n=14,expand=True)\n",
    "\n",
    "\n",
    "UPC_Monthly_BW[New_Column].fillna(value=\"\")\n",
    "UPC_Monthly_BW.head(3)\n",
    "\n",
    "# Moving columns after \"Market\"\n",
    "UPC_Monthly_BW = movecol(UPC_Monthly_BW, \n",
    "             cols_to_move=New_Column, \n",
    "             ref_col='Markets',\n",
    "             place='After')\n",
    "UPC_Monthly_BW.head(3)"
   ]
  },
  {
   "cell_type": "code",
   "execution_count": null,
   "metadata": {
    "scrolled": true
   },
   "outputs": [],
   "source": [
    "UPC_Monthly_BW.shape"
   ]
  },
  {
   "cell_type": "markdown",
   "metadata": {},
   "source": [
    "**Strip Columns**"
   ]
  },
  {
   "cell_type": "code",
   "execution_count": null,
   "metadata": {},
   "outputs": [],
   "source": [
    "cols=list(UPC_Monthly_BW.columns[0:19])\n",
    "UPC_Monthly_BW[cols]=UPC_Monthly_BW[cols].apply(lambda x : x.str.strip())"
   ]
  },
  {
   "cell_type": "markdown",
   "metadata": {},
   "source": [
    " "
   ]
  },
  {
   "cell_type": "markdown",
   "metadata": {},
   "source": [
    "### Distri Sku Data"
   ]
  },
  {
   "cell_type": "code",
   "execution_count": null,
   "metadata": {},
   "outputs": [],
   "source": [
    "Distri_Sku=UPC_Monthly_BW.copy()"
   ]
  },
  {
   "cell_type": "code",
   "execution_count": null,
   "metadata": {},
   "outputs": [],
   "source": [
    "Markets=[\"Ahold\",\"Alb/Sfy\",\"BJs\",\"CVS\",\"Dollar General\",\"Family Dollar\",\"Giant Eagle\",\"Kmart\",\"Meijer\",\"Publix\",\"Rite Aid\",\"Shoprite\",\"Target\",\"US AOC\",\"US Drug\",\"US Food\",\"Walgreens\",\"Walmart\",\"Wegmans\"]\n",
    "Manufacturer=[\"\",\"BEIERSDORF\",\"COLGATE-PALMOLIVE\",\"HENKEL\",\"J&J\",\"UNILEVER\",\"P&G\",\"PRVT LBL\",\"SC JOHNSON\"]"
   ]
  },
  {
   "cell_type": "code",
   "execution_count": null,
   "metadata": {},
   "outputs": [],
   "source": [
    "Distri_Sku= Distri_Sku[Distri_Sku[\"Facts\"].isin(Distri_Sku_Facts)]\n",
    "Distri_Sku= Distri_Sku[Distri_Sku['Markets'].isin(Markets)]\n",
    "Distri_Sku= Distri_Sku[Distri_Sku['Manufacturer'].isin(Manufacturer)]"
   ]
  },
  {
   "cell_type": "code",
   "execution_count": null,
   "metadata": {},
   "outputs": [],
   "source": [
    "print(\"Missing Facts ->\",len(Distri_Sku_Facts)-len(set(Distri_Sku[\"Facts\"])),\"Missing Markets -> \",len(Markets)-len(set(Distri_Sku[\"Markets\"])))"
   ]
  },
  {
   "cell_type": "markdown",
   "metadata": {},
   "source": [
    "**Fact Mapping**"
   ]
  },
  {
   "cell_type": "code",
   "execution_count": null,
   "metadata": {},
   "outputs": [],
   "source": [
    "Distri_Sku[\"Facts\"].replace(Distri_Fact_Mapping,inplace=True)"
   ]
  },
  {
   "cell_type": "code",
   "execution_count": null,
   "metadata": {},
   "outputs": [],
   "source": [
    "Distri_Sku.head(3)"
   ]
  },
  {
   "cell_type": "markdown",
   "metadata": {},
   "source": [
    "**Column name Change**"
   ]
  },
  {
   "cell_type": "code",
   "execution_count": null,
   "metadata": {},
   "outputs": [],
   "source": [
    "Distri_Sku.columns"
   ]
  },
  {
   "cell_type": "code",
   "execution_count": null,
   "metadata": {},
   "outputs": [],
   "source": [
    "Distri_Sku.rename(columns={\"Markets\":\"MKT\",\"Manufacturer\":\"CP_MANUFACTURER\",\n",
    "                            \"Franchise\":\"CP_FRANCHISE\",\"Brand\":\"CP_BRAND\",\"SubBrand\":\"CP_SUBBRAND\",\n",
    "                           \"UPC\":\"Product_Code\",\"Item\":\"PROD\"},inplace=True)"
   ]
  },
  {
   "cell_type": "code",
   "execution_count": null,
   "metadata": {
    "scrolled": true
   },
   "outputs": [],
   "source": [
    "Distri_Sku.head()"
   ]
  },
  {
   "cell_type": "code",
   "execution_count": null,
   "metadata": {},
   "outputs": [],
   "source": [
    "Distri_Sku.info()"
   ]
  },
  {
   "cell_type": "code",
   "execution_count": null,
   "metadata": {},
   "outputs": [],
   "source": [
    "Time_Period=list(Distri_Sku.columns[26:27])+list(Distri_Sku.columns[21:23])+list(Distri_Sku.columns[20:21])+list(Distri_Sku.columns[19:20])\n",
    "print(Time_Period)"
   ]
  },
  {
   "cell_type": "markdown",
   "metadata": {},
   "source": [
    "**Moving Time Period to Rows and Facts to Columns**"
   ]
  },
  {
   "cell_type": "code",
   "execution_count": null,
   "metadata": {},
   "outputs": [],
   "source": [
    "df1=pd.melt(Distri_Sku, id_vars =[\"MKT\",\"PROD\",\"CP_MANUFACTURER\",\"CP_FRANCHISE\",\"CP_BRAND\",\"CP_SUBBRAND\",\"Product_Code\",\"Facts\"], value_vars =Time_Period,var_name=\"Time_Period\")\n",
    "\n",
    "df1[\"value\"]=df1[\"value\"].apply(pd.to_numeric)"
   ]
  },
  {
   "cell_type": "code",
   "execution_count": null,
   "metadata": {},
   "outputs": [],
   "source": [
    "df2=df1.pivot_table(index=[\"MKT\",\"PROD\",\"CP_MANUFACTURER\",\"CP_FRANCHISE\",\"CP_BRAND\",\"CP_SUBBRAND\",\"Product_Code\",\"Time_Period\"],columns='Facts')\n",
    "\n",
    "df2.columns=df2.columns.droplevel().rename(None)\n",
    "df2.reset_index(inplace =True)"
   ]
  },
  {
   "cell_type": "code",
   "execution_count": null,
   "metadata": {},
   "outputs": [],
   "source": [
    "from pandas.api.types import CategoricalDtype\n",
    "\n",
    "Time_Period_order = CategoricalDtype(\n",
    "    Time_Period, \n",
    "    ordered=True\n",
    ")\n",
    "\n",
    "df2['Time_Period'] = df2['Time_Period'].astype(Time_Period_order)\n",
    "\n",
    "df2.sort_values(['MKT','PROD','Time_Period'],inplace=True)"
   ]
  },
  {
   "cell_type": "code",
   "execution_count": null,
   "metadata": {},
   "outputs": [],
   "source": [
    "final_column_sorting=[\"MKT\",\"PROD\",\"CP_MANUFACTURER\",\"CP_FRANCHISE\",\"CP_BRAND\",\"CP_SUBBRAND\",\"Product_Code\",\"Time_Period\",\n",
    "                      \"Doll_Shr\",\"Doll_Shr_Chg\",\"Base_Doll_Shr\",\"Base_Doll_Shr_Chg\",\"Store_Selling\",\"Store_Selling_Chg\",\n",
    "                      \"Doll_Velocity\",\"Doll_Velocity_Chg\",\"Cum_Distri_Pts\",\"Cum_Distri_Pts_Chg\",\"Dollars\",\"Dollars_Chg\",\"Units\"]\n",
    "\n",
    "Distri_Sku_final=df2[final_column_sorting]\n",
    "\n",
    "Distri_Sku_final[\"Record_ID\"]=range(1,len(Distri_Sku_final)+1)\n",
    "\n"
   ]
  },
  {
   "cell_type": "markdown",
   "metadata": {},
   "source": [
    "**Exporting Dataframe to output folder**"
   ]
  },
  {
   "cell_type": "code",
   "execution_count": null,
   "metadata": {},
   "outputs": [],
   "source": [
    "Distri_Sku_final.to_csv(path_BW+\"Distri_sku_data.csv\",index=False)"
   ]
  },
  {
   "cell_type": "markdown",
   "metadata": {},
   "source": [
    "### Distri Sku Full Data"
   ]
  },
  {
   "cell_type": "code",
   "execution_count": null,
   "metadata": {},
   "outputs": [],
   "source": [
    "Distri_Sku_full=UPC_Monthly_BW.copy()"
   ]
  },
  {
   "cell_type": "code",
   "execution_count": null,
   "metadata": {},
   "outputs": [],
   "source": [
    "Markets=[\"Ahold\",\"Alb/Sfy\",\"BJs\",\"CVS\",\"Dollar General\",\"Family Dollar\",\"Giant Eagle\",\"Kmart\",\"Meijer\",\"Publix\",\"Rite Aid\",\"Shoprite\",\"Target\",\"US AOC\",\"US Drug\",\"US Food\",\"Walgreens\",\"Walmart\",\"Wegmans\"]\n",
    "Manufacturer=[\"\",\"BEIERSDORF\",\"COLGATE-PALMOLIVE\",\"HENKEL\",\"J&J\",\"UNILEVER\",\"P&G\",\"PRVT LBL\",\"SC JOHNSON\"]"
   ]
  },
  {
   "cell_type": "code",
   "execution_count": null,
   "metadata": {},
   "outputs": [],
   "source": [
    "Distri_Sku_full= Distri_Sku_full[Distri_Sku_full[\"Facts\"].isin(Distr_Sku_Full_Data_Facts)]\n",
    "Distri_Sku_full= Distri_Sku_full[Distri_Sku_full['Markets'].isin(Markets)]\n",
    "Distri_Sku_full= Distri_Sku_full[Distri_Sku_full['Manufacturer'].isin(Manufacturer)]"
   ]
  },
  {
   "cell_type": "code",
   "execution_count": null,
   "metadata": {},
   "outputs": [],
   "source": [
    "print(\"Missing Facts ->\",len(Distr_Sku_Full_Data_Facts)-len(set(Distri_Sku_full[\"Facts\"])),\"Missing Markets -> \",len(Markets)-len(set(Distri_Sku_full[\"Markets\"])))"
   ]
  },
  {
   "cell_type": "markdown",
   "metadata": {},
   "source": [
    "**Fact Mapping**"
   ]
  },
  {
   "cell_type": "code",
   "execution_count": null,
   "metadata": {},
   "outputs": [],
   "source": [
    "Distri_Sku_full[\"Facts\"].replace(Distri_Fact_Mapping,inplace=True)"
   ]
  },
  {
   "cell_type": "code",
   "execution_count": null,
   "metadata": {},
   "outputs": [],
   "source": [
    "Distri_Sku_full.head(3)"
   ]
  },
  {
   "cell_type": "markdown",
   "metadata": {},
   "source": [
    "**Column name Change**"
   ]
  },
  {
   "cell_type": "code",
   "execution_count": null,
   "metadata": {},
   "outputs": [],
   "source": [
    "Distri_Sku_full.columns"
   ]
  },
  {
   "cell_type": "code",
   "execution_count": null,
   "metadata": {},
   "outputs": [],
   "source": [
    "Distri_Sku_full.rename(columns={'Markets':\"MKT\", 'Manufacturer':\"CP_MANUFACTURER\",\n",
    "                                'Franchise':\"CP_FRANCHISE\", 'Brand':\"CP_BRAND\",\n",
    "                                'SubBrand':\"CP_SUBBRAND\", 'Segment':\"CP_SEGMENT\", 'PriceTier':\"CP_PRICE_TIER\",\n",
    "                                'Multi':\"CP_MULTI\",\n",
    "                                'Item':\"PROD\", 'UPC':\"Product_Code\",'SubBrand Variant':\"CP_SUBBRAND_VARIANT\",'Gender':\"CP_TARGET_GENDER\",'Deal':\"Concat_Gift_Deal\",'Size':\"CP_SIZE_RANGE\"},inplace=True)"
   ]
  },
  {
   "cell_type": "code",
   "execution_count": null,
   "metadata": {
    "scrolled": true
   },
   "outputs": [],
   "source": [
    "Distri_Sku_full.info()"
   ]
  },
  {
   "cell_type": "code",
   "execution_count": null,
   "metadata": {},
   "outputs": [],
   "source": [
    "Time_Period=list(Distri_Sku_full.columns[26:27])+list(Distri_Sku_full.columns[21:23])+list(Distri_Sku_full.columns[20:21])+list(Distri_Sku_full.columns[19:20])\n",
    "print(Time_Period)"
   ]
  },
  {
   "cell_type": "markdown",
   "metadata": {},
   "source": [
    "**Moving Time Period to Rows and Facts to Columns**"
   ]
  },
  {
   "cell_type": "code",
   "execution_count": null,
   "metadata": {},
   "outputs": [],
   "source": [
    "df1=pd.melt(Distri_Sku_full, id_vars =[\"MKT\",\"PROD\",\"CP_MANUFACTURER\",\"CP_FRANCHISE\",\"CP_BRAND\",\"CP_SUBBRAND\",\"Product_Code\",\"Concat_Gift_Deal\",\"CP_PRICE_TIER\",\"CP_SIZE_RANGE\",\"CP_SEGMENT\",\"CP_SUBBRAND_VARIANT\",\"CP_MULTI\",\"CP_TARGET_GENDER\",\"Facts\"], value_vars =Time_Period,var_name=\"Time_Period\")\n",
    "\n",
    "df1[\"value\"]=df1[\"value\"].apply(pd.to_numeric)"
   ]
  },
  {
   "cell_type": "code",
   "execution_count": null,
   "metadata": {},
   "outputs": [],
   "source": [
    "df2=df1.pivot_table(index=[\"MKT\",\"Time_Period\",\"PROD\",\"CP_MANUFACTURER\",\"CP_FRANCHISE\",\"CP_BRAND\",\"CP_SUBBRAND\",\"Product_Code\",\"Concat_Gift_Deal\",\"CP_PRICE_TIER\",\"CP_SIZE_RANGE\",\"CP_SEGMENT\",\"CP_SUBBRAND_VARIANT\",\"CP_MULTI\",\"CP_TARGET_GENDER\"],columns='Facts')\n",
    "\n",
    "df2.columns=df2.columns.droplevel().rename(None)\n",
    "df2.reset_index(inplace =True)"
   ]
  },
  {
   "cell_type": "code",
   "execution_count": null,
   "metadata": {},
   "outputs": [],
   "source": [
    "# sorting \"MKT\",\"Time_Period\",\"PROD\"\n",
    "df2.sort_values(['MKT','Time_Period','PROD'],inplace=True)"
   ]
  },
  {
   "cell_type": "code",
   "execution_count": null,
   "metadata": {},
   "outputs": [],
   "source": [
    "df2['Prcnt_ACV']=df2[\"Store_Selling\"]\n",
    "\n",
    "final_column_sorting=[\"MKT\",\"Time_Period\",\"PROD\",\"CP_MANUFACTURER\",\"CP_FRANCHISE\",\"CP_BRAND\",\"CP_SUBBRAND\",\"Product_Code\",\n",
    "                      \"Concat_Gift_Deal\",\"CP_PRICE_TIER\",\"CP_SIZE_RANGE\",\"CP_SEGMENT\",\"Doll_Shr\",\"Doll_Shr_Chg\",\"Base_Doll_Shr\",\n",
    "                      \"Base_Doll_Shr_Chg\",\"Store_Selling\",\"Store_Selling_Chg\",\"Doll_Velocity\",\"Doll_Velocity_Chg\",\n",
    "                      \"Cum_Distri_Pts\",\"Cum_Distri_Pts_Chg\",\"Dollars\",\"Dollars_Chg\",\"Prcnt_ACV\",\"Units\",\"Units_velocity\",\n",
    "                      \"CP_SUBBRAND_VARIANT\",\"CP_MULTI\",\"CP_TARGET_GENDER\"]\n",
    "\n",
    "Distri_Sku_full_final=df2[final_column_sorting]\n",
    "\n",
    "Distri_Sku_full_final[\"NA\"]=range(1,len(Distri_Sku_full_final)+1)\n",
    "Distri_Sku_full_final[\"Record_ID\"]=range(1,len(Distri_Sku_full_final)+1)\n",
    "\n"
   ]
  },
  {
   "cell_type": "markdown",
   "metadata": {},
   "source": [
    "**Exporting Dataframe to output folder**"
   ]
  },
  {
   "cell_type": "code",
   "execution_count": null,
   "metadata": {},
   "outputs": [],
   "source": [
    "Distri_Sku_full_final.to_csv(path_BW+\"Distri_Sku_full_data.csv\",index=False)"
   ]
  },
  {
   "cell_type": "markdown",
   "metadata": {},
   "source": [
    "### Distri Cat SKU Data"
   ]
  },
  {
   "cell_type": "code",
   "execution_count": null,
   "metadata": {},
   "outputs": [],
   "source": [
    "Distri_Cat=UPC_Monthly_BW.copy()"
   ]
  },
  {
   "cell_type": "code",
   "execution_count": null,
   "metadata": {},
   "outputs": [],
   "source": [
    "Markets=[\"Ahold\",\"Alb/Sfy\",\"BJs\",\"CVS\",\"Dollar General\",\"Family Dollar\",\"Giant Eagle\",\"Kmart\",\"Meijer\",\"Publix\",\"Rite Aid\",\"Shoprite\",\"Target\",\"US AOC\",\"US Drug\",\"US Food\",\"Walgreens\",\"Walmart\",\"Wegmans\"]\n",
    "Manufacturer=[\"\",\"BEIERSDORF\",\"COLGATE-PALMOLIVE\",\"HENKEL\",\"J&J\",\"UNILEVER\",\"P&G\",\"PRVT LBL\",\"SC JOHNSON\"]"
   ]
  },
  {
   "cell_type": "code",
   "execution_count": null,
   "metadata": {},
   "outputs": [],
   "source": [
    "Distri_Cat= Distri_Cat[Distri_Cat[\"Facts\"].isin(Distri_Cat_Data_Facts)]\n",
    "Distri_Cat= Distri_Cat[Distri_Cat['Markets'].isin(Markets)]\n",
    "Distri_Cat= Distri_Cat[Distri_Cat['Manufacturer'].isin(Manufacturer)]"
   ]
  },
  {
   "cell_type": "code",
   "execution_count": null,
   "metadata": {},
   "outputs": [],
   "source": [
    "print(\"Missing Facts ->\",len(Distri_Cat_Data_Facts)-len(set(Distri_Cat[\"Facts\"])),\"Missing Markets -> \",len(Markets)-len(set(Distri_Cat[\"Markets\"])))"
   ]
  },
  {
   "cell_type": "markdown",
   "metadata": {},
   "source": [
    "**Fact Mapping**"
   ]
  },
  {
   "cell_type": "code",
   "execution_count": null,
   "metadata": {},
   "outputs": [],
   "source": [
    "Distri_Cat[\"Facts\"].replace(Distri_Fact_Mapping,inplace=True)"
   ]
  },
  {
   "cell_type": "code",
   "execution_count": null,
   "metadata": {},
   "outputs": [],
   "source": [
    "Distri_Cat.head(3)"
   ]
  },
  {
   "cell_type": "markdown",
   "metadata": {},
   "source": [
    "**Column name Change**"
   ]
  },
  {
   "cell_type": "code",
   "execution_count": null,
   "metadata": {},
   "outputs": [],
   "source": [
    "Distri_Cat.columns"
   ]
  },
  {
   "cell_type": "code",
   "execution_count": null,
   "metadata": {},
   "outputs": [],
   "source": [
    "Distri_Cat.rename(columns={'Markets':\"MKT\", 'Manufacturer':\"CP_MANUFACTURER\", 'Franchise':\"CP_FRANCHISE\",\n",
    "                           'Brand':\"CP_BRAND\",'SubBrand':\"CP_SUBBRAND\",\n",
    "                           'Item':\"PROD\", 'UPC':\"Product_Code\"},inplace=True)"
   ]
  },
  {
   "cell_type": "code",
   "execution_count": null,
   "metadata": {
    "scrolled": false
   },
   "outputs": [],
   "source": [
    "Distri_Cat.info()"
   ]
  },
  {
   "cell_type": "code",
   "execution_count": null,
   "metadata": {},
   "outputs": [],
   "source": [
    "Time_Period=list(Distri_Cat.columns[26:27])+list(Distri_Cat.columns[21:23])+list(Distri_Cat.columns[20:21])+list(Distri_Cat.columns[19:20])\n",
    "print(Time_Period)"
   ]
  },
  {
   "cell_type": "markdown",
   "metadata": {},
   "source": [
    "**Moving Time Period to Rows and Facts to Columns**"
   ]
  },
  {
   "cell_type": "code",
   "execution_count": null,
   "metadata": {},
   "outputs": [],
   "source": [
    "df1=pd.melt(Distri_Cat, id_vars =[\"MKT\",\"PROD\",\"CP_MANUFACTURER\",\"CP_FRANCHISE\",\"CP_BRAND\",\"CP_SUBBRAND\",\"Product_Code\",\"Facts\"], value_vars =Time_Period,var_name=\"Time_Period\")\n",
    "\n",
    "df1[\"value\"]=df1[\"value\"].apply(pd.to_numeric)"
   ]
  },
  {
   "cell_type": "code",
   "execution_count": null,
   "metadata": {},
   "outputs": [],
   "source": [
    "df2=df1.pivot_table(index=[\"MKT\",\"PROD\",\"CP_MANUFACTURER\",\"CP_FRANCHISE\",\"CP_BRAND\",\"CP_SUBBRAND\",\"Product_Code\",\"Time_Period\"],columns='Facts')\n",
    "\n",
    "df2.columns=df2.columns.droplevel().rename(None)\n",
    "df2.reset_index(inplace =True)"
   ]
  },
  {
   "cell_type": "code",
   "execution_count": null,
   "metadata": {},
   "outputs": [],
   "source": [
    "from pandas.api.types import CategoricalDtype\n",
    "\n",
    "Time_Period_order = CategoricalDtype(\n",
    "    Time_Period, \n",
    "    ordered=True\n",
    ")\n",
    "\n",
    "df2['Time_Period'] = df2['Time_Period'].astype(Time_Period_order)\n",
    "\n",
    "\n",
    "df2.sort_values(['MKT','PROD','Time_Period'],inplace=True)"
   ]
  },
  {
   "cell_type": "code",
   "execution_count": null,
   "metadata": {},
   "outputs": [],
   "source": [
    "df2['Prcnt_ACV']=df2[\"Store_Selling\"]\n",
    "\n",
    "final_column_sorting=[\"MKT\",\"PROD\",\"CP_MANUFACTURER\",\"CP_FRANCHISE\",\"CP_BRAND\",\"CP_SUBBRAND\",\"Product_Code\",\"Time_Period\",\n",
    "                      \"Doll_Shr\",\"Cum_Distri_Pts\",\"Dollars\",\"Store_Selling\",\"Prcnt_ACV\"]\n",
    "\n",
    "Distri_Cat_final=df2[final_column_sorting]\n",
    "\n",
    "Distri_Cat_final[\"Record_ID\"]=range(1,len(Distri_Cat_final)+1)\n",
    "\n"
   ]
  },
  {
   "cell_type": "markdown",
   "metadata": {},
   "source": [
    "**Exporting Dataframe to output folder**"
   ]
  },
  {
   "cell_type": "code",
   "execution_count": null,
   "metadata": {},
   "outputs": [],
   "source": [
    "Distri_Cat_final.to_csv(path_BW+\"Distri_category_skus_Data.csv\",index=False)"
   ]
  },
  {
   "cell_type": "code",
   "execution_count": null,
   "metadata": {},
   "outputs": [],
   "source": []
  },
  {
   "cell_type": "markdown",
   "metadata": {},
   "source": [
    "## HHC"
   ]
  },
  {
   "cell_type": "code",
   "execution_count": null,
   "metadata": {},
   "outputs": [],
   "source": [
    "# path to store Output files\n",
    "path_HHC=\"//falmumapp34/Nielsen Connect Transition & Maintenance (20-SCP-3650)/05. Output Data/5P Output/HHC/\""
   ]
  },
  {
   "cell_type": "code",
   "execution_count": null,
   "metadata": {
    "scrolled": true
   },
   "outputs": [],
   "source": [
    "UPC_Monthly_HHC= UPC_Monthly[UPC_Monthly[\"ShareBasis\"].isin([\"POUR APC+WW\",\"WOOD\",\"ABRASIVE\",\"APC+WW\"])]\n",
    "UPC_Monthly_HHC.head(2)"
   ]
  },
  {
   "cell_type": "code",
   "execution_count": null,
   "metadata": {},
   "outputs": [],
   "source": [
    "set(UPC_Monthly_HHC[\"ShareBasis\"])"
   ]
  },
  {
   "cell_type": "code",
   "execution_count": null,
   "metadata": {},
   "outputs": [],
   "source": [
    "New_Column= [\"ShareBasis\",\"FORM\",\"Use\",\"Manufacturer\",\"Franchise\",\"Brand\",\"SubBrandVarinat\",\"Size\",\"Item\",\"UPC\"]\n",
    "\n",
    "UPC_Monthly_HHC[New_Column] = UPC_Monthly_HHC['Products'].str.split('|',n=9,expand=True)\n",
    "\n",
    "\n",
    "UPC_Monthly_HHC[New_Column].fillna(value=\"\")\n",
    "UPC_Monthly_HHC.head(3)\n",
    "\n",
    "# Moving columns after \"Market\"\n",
    "UPC_Monthly_HHC = movecol(UPC_Monthly_HHC, \n",
    "             cols_to_move=New_Column, \n",
    "             ref_col='Markets',\n",
    "             place='After')\n",
    "UPC_Monthly_HHC.head(3)"
   ]
  },
  {
   "cell_type": "code",
   "execution_count": null,
   "metadata": {
    "scrolled": true
   },
   "outputs": [],
   "source": [
    "UPC_Monthly_HHC.shape"
   ]
  },
  {
   "cell_type": "markdown",
   "metadata": {},
   "source": [
    "**Strip Columns**"
   ]
  },
  {
   "cell_type": "code",
   "execution_count": null,
   "metadata": {
    "scrolled": true
   },
   "outputs": [],
   "source": [
    "cols=list(UPC_Monthly_HHC.columns[0:13])\n",
    "UPC_Monthly_HHC[cols]=UPC_Monthly_HHC[cols].apply(lambda x : x.str.strip())"
   ]
  },
  {
   "cell_type": "markdown",
   "metadata": {},
   "source": [
    " "
   ]
  },
  {
   "cell_type": "markdown",
   "metadata": {},
   "source": [
    "### Distri Sku Data"
   ]
  },
  {
   "cell_type": "code",
   "execution_count": null,
   "metadata": {},
   "outputs": [],
   "source": [
    "Distri_Sku=UPC_Monthly_HHC.copy()"
   ]
  },
  {
   "cell_type": "code",
   "execution_count": null,
   "metadata": {},
   "outputs": [],
   "source": [
    "Markets=[\"BJs\",\"CVS\",\"Dollar General\",\"Family Dollar\",\"Fiesta\",\"Kmart\",\"Publix\",\"Rite Aid\",\"Sams\",\"Target\",\"US AOC\",\"US Drug\",\"US Food\",\"Walgreens\",\"Walmart\"]"
   ]
  },
  {
   "cell_type": "code",
   "execution_count": null,
   "metadata": {},
   "outputs": [],
   "source": [
    "Distri_Sku= Distri_Sku[Distri_Sku[\"Facts\"].isin(Distri_Sku_Facts)]\n",
    "Distri_Sku= Distri_Sku[Distri_Sku['Markets'].isin(Markets)]"
   ]
  },
  {
   "cell_type": "code",
   "execution_count": null,
   "metadata": {},
   "outputs": [],
   "source": [
    "print(\"Missing Facts ->\",len(Distri_Sku_Facts)-len(set(Distri_Sku[\"Facts\"])),\"Missing Markets -> \",len(Markets)-len(set(Distri_Sku[\"Markets\"])))"
   ]
  },
  {
   "cell_type": "markdown",
   "metadata": {},
   "source": [
    "**Fact Mapping**"
   ]
  },
  {
   "cell_type": "code",
   "execution_count": null,
   "metadata": {},
   "outputs": [],
   "source": [
    "Distri_Sku[\"Facts\"].replace(Distri_Fact_Mapping,inplace=True)"
   ]
  },
  {
   "cell_type": "code",
   "execution_count": null,
   "metadata": {},
   "outputs": [],
   "source": [
    "Distri_Sku.head(3)"
   ]
  },
  {
   "cell_type": "markdown",
   "metadata": {},
   "source": [
    "**Column name Change**"
   ]
  },
  {
   "cell_type": "code",
   "execution_count": null,
   "metadata": {
    "scrolled": false
   },
   "outputs": [],
   "source": [
    "Distri_Sku.columns"
   ]
  },
  {
   "cell_type": "code",
   "execution_count": null,
   "metadata": {},
   "outputs": [],
   "source": [
    "Distri_Sku.rename(columns={\"Markets\":\"MKT\",\"Manufacturer\":\"CP_MANUFACTURER\",\n",
    "                            \"Franchise\":\"CP_FRANCHISE\",\"Brand\":\"CP_BRAND\",\"SubBrandVarinat\":\"CP_SUBBRAND_VARIANT\", \"UPC\":\"Product_Code\",\"Item\":\"PROD\",\"Size\":\"CP_SIZE_RANGE\",\"Use\":\"CP_USE\",\"ShareBasis\":\"CP_SHARE_BASIS\",\"FORM\":\"CP_FORM\"},inplace=True)"
   ]
  },
  {
   "cell_type": "code",
   "execution_count": null,
   "metadata": {
    "scrolled": false
   },
   "outputs": [],
   "source": [
    "Distri_Sku.columns"
   ]
  },
  {
   "cell_type": "code",
   "execution_count": null,
   "metadata": {},
   "outputs": [],
   "source": [
    "set(Distri_Sku[\"Facts\"])"
   ]
  },
  {
   "cell_type": "code",
   "execution_count": null,
   "metadata": {},
   "outputs": [],
   "source": [
    "Time_Period=list(Distri_Sku.columns[30:31])+list(Distri_Sku.columns[18:19])+list(Distri_Sku.columns[20:22])+list(Distri_Sku.columns[14:15])\n",
    "print(Time_Period)"
   ]
  },
  {
   "cell_type": "markdown",
   "metadata": {},
   "source": [
    "**Moving Time Period to Rows and Facts to Columns**"
   ]
  },
  {
   "cell_type": "code",
   "execution_count": null,
   "metadata": {},
   "outputs": [],
   "source": [
    "df1=pd.melt(Distri_Sku, id_vars =[\"MKT\",'CP_SHARE_BASIS',\"PROD\",\"CP_MANUFACTURER\",\"CP_FRANCHISE\",\"CP_BRAND\",\"CP_SUBBRAND_VARIANT\",\"Product_Code\",\"Facts\"], value_vars =Time_Period,var_name=\"Time_Period\")\n",
    "\n",
    "df1[\"value\"]=df1[\"value\"].apply(pd.to_numeric)"
   ]
  },
  {
   "cell_type": "code",
   "execution_count": null,
   "metadata": {},
   "outputs": [],
   "source": [
    "df2=df1.pivot_table(index=[\"MKT\",'CP_SHARE_BASIS',\"PROD\",\"CP_MANUFACTURER\",\"CP_FRANCHISE\",\"CP_BRAND\",\"CP_SUBBRAND_VARIANT\",\"Product_Code\",\"Time_Period\"],columns='Facts')\n",
    "\n",
    "df2.columns=df2.columns.droplevel().rename(None)\n",
    "df2.reset_index(inplace =True)"
   ]
  },
  {
   "cell_type": "code",
   "execution_count": null,
   "metadata": {},
   "outputs": [],
   "source": [
    "from pandas.api.types import CategoricalDtype\n",
    "\n",
    "Time_Period_order = CategoricalDtype(\n",
    "    Time_Period, \n",
    "    ordered=True\n",
    ")\n",
    "\n",
    "df2['Time_Period'] = df2['Time_Period'].astype(Time_Period_order)\n",
    "\n",
    "df2.sort_values(['MKT','PROD','Time_Period'],inplace=True)"
   ]
  },
  {
   "cell_type": "code",
   "execution_count": null,
   "metadata": {},
   "outputs": [],
   "source": [
    "df2.head()"
   ]
  },
  {
   "cell_type": "code",
   "execution_count": null,
   "metadata": {},
   "outputs": [],
   "source": [
    "df2.columns"
   ]
  },
  {
   "cell_type": "code",
   "execution_count": null,
   "metadata": {},
   "outputs": [],
   "source": [
    "final_column_sorting=[\"MKT\",\"PROD\",\"CP_MANUFACTURER\",\"CP_FRANCHISE\",\"CP_BRAND\",\"CP_SUBBRAND_VARIANT\",\"Product_Code\",\"Time_Period\",\"Doll_Shr\",\"Doll_Shr_Chg\",\"Base_Doll_Shr\",\"Base_Doll_Shr_Chg\",\"Store_Selling_Chg\",\"Units_Velocity\",\"Doll_Velocity\",\"Doll_Velocity_Chg\",\"Cum_Distri_Pts\",\"Cum_Distri_Pts_Chg\",\"Dollars\",\"Dollars_Chg\",\"Units\",\"CP_SHARE_BASIS\"]\n",
    "\n",
    "Distri_Sku_final=df2[final_column_sorting]\n",
    "\n",
    "Distri_Sku_final[\"Record_ID\"]=range(1,len(Distri_Sku_final)+1)\n",
    "\n"
   ]
  },
  {
   "cell_type": "markdown",
   "metadata": {},
   "source": [
    "**Exporting Dataframe to ouHHCut folder**"
   ]
  },
  {
   "cell_type": "code",
   "execution_count": null,
   "metadata": {},
   "outputs": [],
   "source": [
    "Distri_Sku_final.to_csv(path_HHC+\"Distri_sku_data.csv\",index=False)"
   ]
  },
  {
   "cell_type": "code",
   "execution_count": null,
   "metadata": {},
   "outputs": [],
   "source": [
    "Distri_Sku_final_Distri=Distri_Sku_final[Distri_Sku_final[\"CP_SHARE_BASIS\"].isin([\"POUR\"])]"
   ]
  },
  {
   "cell_type": "code",
   "execution_count": null,
   "metadata": {},
   "outputs": [],
   "source": [
    "Distri_Sku_final_Distri.to_csv(path_HHC+\"Distri_sku_data_Distri.csv\",index=False)"
   ]
  },
  {
   "cell_type": "markdown",
   "metadata": {},
   "source": [
    "### Distri Sku Full Data"
   ]
  },
  {
   "cell_type": "code",
   "execution_count": null,
   "metadata": {},
   "outputs": [],
   "source": [
    "Distri_Sku_full=UPC_Monthly_HHC.copy()"
   ]
  },
  {
   "cell_type": "code",
   "execution_count": null,
   "metadata": {},
   "outputs": [],
   "source": [
    "Markets=[\"BJs\",\"CVS\",\"Dollar General\",\"Family Dollar\",\"Fiesta\",\"Kmart\",\"Publix\",\"Rite Aid\",\"Sams\",\"Target\",\"US AOC\",\"US Drug\",\"US Food\",\"Walgreens\",\"Walmart\"]"
   ]
  },
  {
   "cell_type": "code",
   "execution_count": null,
   "metadata": {},
   "outputs": [],
   "source": [
    "Distri_Sku_full= Distri_Sku_full[Distri_Sku_full[\"Facts\"].isin(Distr_Sku_Full_Data_Facts)]\n",
    "Distri_Sku_full= Distri_Sku_full[Distri_Sku_full['Markets'].isin(Markets)]"
   ]
  },
  {
   "cell_type": "code",
   "execution_count": null,
   "metadata": {},
   "outputs": [],
   "source": [
    "print(\"Missing Facts ->\",len(Distr_Sku_Full_Data_Facts)-len(set(Distri_Sku_full[\"Facts\"])),\"Missing Markets -> \",len(Markets)-len(set(Distri_Sku_full[\"Markets\"])))"
   ]
  },
  {
   "cell_type": "markdown",
   "metadata": {},
   "source": [
    "**Fact Mapping**"
   ]
  },
  {
   "cell_type": "code",
   "execution_count": null,
   "metadata": {},
   "outputs": [],
   "source": [
    "Distri_Sku_full[\"Facts\"].replace(Distri_Fact_Mapping,inplace=True)"
   ]
  },
  {
   "cell_type": "code",
   "execution_count": null,
   "metadata": {},
   "outputs": [],
   "source": [
    "Distri_Sku_full.head(3)"
   ]
  },
  {
   "cell_type": "markdown",
   "metadata": {},
   "source": [
    "**Column name Change**"
   ]
  },
  {
   "cell_type": "code",
   "execution_count": null,
   "metadata": {},
   "outputs": [],
   "source": [
    "Distri_Sku_full.columns"
   ]
  },
  {
   "cell_type": "code",
   "execution_count": null,
   "metadata": {},
   "outputs": [],
   "source": [
    "Distri_Sku_full.rename(columns={\"Markets\":\"MKT\",\"Manufacturer\":\"CP_MANUFACTURER\",\n",
    "                            \"Franchise\":\"CP_FRANCHISE\",\"Brand\":\"CP_BRAND\",\"SubBrandVarinat\":\"CP_SUBBRAND_VARIANT\", \"UPC\":\"Product_Code\",\"Item\":\"PROD\",\"Size\":\"CP_SIZE_RANGE\",\"Use\":\"CP_USE\",\"ShareBasis\":\"CP_SHARE_BASIS\",\"FORM\":\"CP_FORM\"},inplace=True)"
   ]
  },
  {
   "cell_type": "code",
   "execution_count": null,
   "metadata": {
    "scrolled": true
   },
   "outputs": [],
   "source": [
    "Distri_Sku_full.head(2)"
   ]
  },
  {
   "cell_type": "code",
   "execution_count": null,
   "metadata": {},
   "outputs": [],
   "source": [
    "Time_Period=list(Distri_Sku_full.columns[30:31])+list(Distri_Sku_full.columns[18:19])+list(Distri_Sku_full.columns[20:22])+list(Distri_Sku_full.columns[14:15])\n",
    "print(Time_Period)"
   ]
  },
  {
   "cell_type": "markdown",
   "metadata": {},
   "source": [
    "**Moving Time Period to Rows and Facts to Columns**"
   ]
  },
  {
   "cell_type": "code",
   "execution_count": null,
   "metadata": {},
   "outputs": [],
   "source": [
    "Distri_Sku_full.columns"
   ]
  },
  {
   "cell_type": "code",
   "execution_count": null,
   "metadata": {},
   "outputs": [],
   "source": [
    "df1=pd.melt(Distri_Sku_full, id_vars =[\"MKT\",\"PROD\",\"CP_MANUFACTURER\",\"CP_FRANCHISE\",\"CP_BRAND\",\"CP_SUBBRAND_VARIANT\",\"CP_SHARE_BASIS\",\"Product_Code\",\"CP_SIZE_RANGE\",\"CP_FORM\",\"CP_USE\",\"Facts\"], value_vars =Time_Period,var_name=\"Time_Period\")\n",
    "\n",
    "df1[\"value\"]=df1[\"value\"].apply(pd.to_numeric)"
   ]
  },
  {
   "cell_type": "code",
   "execution_count": null,
   "metadata": {},
   "outputs": [],
   "source": [
    "df2=df1.pivot_table(index=[\"MKT\",\"PROD\",\"CP_MANUFACTURER\",\"CP_FRANCHISE\",\"CP_BRAND\",\"CP_SUBBRAND_VARIANT\",\"CP_SHARE_BASIS\",\"Product_Code\",\"CP_SIZE_RANGE\",\"CP_FORM\",\"CP_USE\",\"Time_Period\"],columns='Facts')\n",
    "\n",
    "df2.columns=df2.columns.droplevel().rename(None)\n",
    "df2.reset_index(inplace =True)"
   ]
  },
  {
   "cell_type": "code",
   "execution_count": null,
   "metadata": {},
   "outputs": [],
   "source": [
    "df2[\"Dummy2\"] = \"\""
   ]
  },
  {
   "cell_type": "code",
   "execution_count": null,
   "metadata": {},
   "outputs": [],
   "source": [
    "df2[\"Dummy3\"]=\"\""
   ]
  },
  {
   "cell_type": "code",
   "execution_count": null,
   "metadata": {
    "scrolled": true
   },
   "outputs": [],
   "source": [
    "df2.head(2)"
   ]
  },
  {
   "cell_type": "code",
   "execution_count": null,
   "metadata": {},
   "outputs": [],
   "source": [
    "# sorting \"MKT\",\"Time_Period\",\"PROD\"\n",
    "df2.sort_values(['MKT','Time_Period','PROD'],inplace=True)"
   ]
  },
  {
   "cell_type": "code",
   "execution_count": null,
   "metadata": {},
   "outputs": [],
   "source": [
    "df2['Prcnt_ACV']=df2[\"Store_Selling\"]\n",
    "\n",
    "final_column_sorting=[\"MKT\",\"Time_Period\",\"PROD\",\"CP_MANUFACTURER\",\"CP_FRANCHISE\",\"CP_BRAND\",\"CP_SUBBRAND_VARIANT\",\"Product_Code\",\"Dummy2\",\"CP_SIZE_RANGE\",\"Dummy3\",\"CP_USE\",\"Doll_Shr\",\"Doll_Shr_Chg\",\"Base_Doll_Shr\",\"Base_Doll_Shr_Chg\",\"Store_Selling\",\"Store_Selling_Chg\",\"Doll_Velocity\",\"Doll_Velocity_Chg\",\"Cum_Distri_Pts\",\"Cum_Distri_Pts_Chg\",\"Dollars\",\"Dollars_Chg\",\"Prcnt_ACV\",\"Units\",\"Units_Velocity\",\"CP_FORM\",\"CP_SHARE_BASIS\"]\n",
    "\n",
    "Distri_Sku_full_final=df2[final_column_sorting]\n",
    "\n",
    "Distri_Sku_full_final[\"NA\"]=range(1,len(Distri_Sku_full_final)+1)\n",
    "\n"
   ]
  },
  {
   "cell_type": "markdown",
   "metadata": {},
   "source": [
    "**Exporting Dataframe to ouHHCut folder**"
   ]
  },
  {
   "cell_type": "code",
   "execution_count": null,
   "metadata": {},
   "outputs": [],
   "source": [
    "Distri_Sku_full_final.head(2)"
   ]
  },
  {
   "cell_type": "code",
   "execution_count": null,
   "metadata": {},
   "outputs": [],
   "source": [
    "Distri_Sku_full_final.to_csv(path_HHC+\"Distri_sku_full_data.csv\",index=False)"
   ]
  },
  {
   "cell_type": "code",
   "execution_count": null,
   "metadata": {},
   "outputs": [],
   "source": [
    "Distri_Sku_full_final_Distri=Distri_Sku_full_final[Distri_Sku_full_final[\"CP_SHARE_BASIS\"].isin([\"POUR\"])]"
   ]
  },
  {
   "cell_type": "code",
   "execution_count": null,
   "metadata": {},
   "outputs": [],
   "source": [
    "Distri_Sku_full_final_Distri.to_csv(path_HHC+\"Distri_sku_full_data_Distri.csv\",index=False)"
   ]
  },
  {
   "cell_type": "markdown",
   "metadata": {},
   "source": [
    "### Distri Cat SKU Data"
   ]
  },
  {
   "cell_type": "code",
   "execution_count": null,
   "metadata": {},
   "outputs": [],
   "source": [
    "Distri_Cat=UPC_Monthly_HHC.copy()"
   ]
  },
  {
   "cell_type": "code",
   "execution_count": null,
   "metadata": {},
   "outputs": [],
   "source": [
    "Markets=[\"BJs\",\"CVS\",\"Dollar General\",\"Family Dollar\",\"Fiesta\",\"Kmart\",\"Publix\",\"Rite Aid\",\"Sams\",\"Target\",\"US AOC\",\"US Drug\",\"US Food\",\"Walgreens\",\"Walmart\"]"
   ]
  },
  {
   "cell_type": "code",
   "execution_count": null,
   "metadata": {},
   "outputs": [],
   "source": [
    "Distri_Cat= Distri_Cat[Distri_Cat[\"Facts\"].isin(Distri_Cat_Data_Facts)]\n",
    "Distri_Cat= Distri_Cat[Distri_Cat['Markets'].isin(Markets)]"
   ]
  },
  {
   "cell_type": "code",
   "execution_count": null,
   "metadata": {},
   "outputs": [],
   "source": [
    "print(\"Missing Facts ->\",len(Distri_Cat_Data_Facts)-len(set(Distri_Cat[\"Facts\"])),\"Missing Markets -> \",len(Markets)-len(set(Distri_Cat[\"Markets\"])))"
   ]
  },
  {
   "cell_type": "markdown",
   "metadata": {},
   "source": [
    "**Fact Mapping**"
   ]
  },
  {
   "cell_type": "code",
   "execution_count": null,
   "metadata": {},
   "outputs": [],
   "source": [
    "Distri_Cat[\"Facts\"].replace(Distri_Fact_Mapping,inplace=True)"
   ]
  },
  {
   "cell_type": "code",
   "execution_count": null,
   "metadata": {},
   "outputs": [],
   "source": [
    "Distri_Cat.head(3)"
   ]
  },
  {
   "cell_type": "markdown",
   "metadata": {},
   "source": [
    "**Column name Change**"
   ]
  },
  {
   "cell_type": "code",
   "execution_count": null,
   "metadata": {
    "scrolled": true
   },
   "outputs": [],
   "source": [
    "Distri_Cat.columns"
   ]
  },
  {
   "cell_type": "code",
   "execution_count": null,
   "metadata": {},
   "outputs": [],
   "source": [
    "Distri_Cat.rename(columns={'Markets':\"MKT\", 'Manufacturer':\"CP_MANUFACTURER\", 'Franchise':\"CP_FRANCHISE\",\n",
    "                           'Brand':\"CP_BRAND\",'SubBrandVarinat':\"CP_SUBBRAND_VARIANT\",\n",
    "                           'Item':\"PROD\", 'UPC':\"Product_Code\",\"ShareBasis\":\"CP_SHARE_BASIS\"},inplace=True)"
   ]
  },
  {
   "cell_type": "code",
   "execution_count": null,
   "metadata": {
    "scrolled": false
   },
   "outputs": [],
   "source": [
    "Distri_Cat.head()"
   ]
  },
  {
   "cell_type": "code",
   "execution_count": null,
   "metadata": {},
   "outputs": [],
   "source": [
    "Time_Period=list(Distri_Cat.columns[30:31])+list(Distri_Cat.columns[20:22])+list(Distri_Cat.columns[18:19])+list(Distri_Cat.columns[14:15])\n",
    "print(Time_Period)"
   ]
  },
  {
   "cell_type": "markdown",
   "metadata": {},
   "source": [
    "**Moving Time Period to Rows and Facts to Columns**"
   ]
  },
  {
   "cell_type": "code",
   "execution_count": null,
   "metadata": {},
   "outputs": [],
   "source": [
    "df1=pd.melt(Distri_Cat, id_vars =[\"MKT\",\"CP_SHARE_BASIS\",\"PROD\",\"CP_MANUFACTURER\",\"CP_FRANCHISE\",\"CP_BRAND\",\"CP_SUBBRAND_VARIANT\",\"Product_Code\",\"Facts\"], value_vars =Time_Period,var_name=\"Time_Period\")\n",
    "\n",
    "df1[\"value\"]=df1[\"value\"].apply(pd.to_numeric)"
   ]
  },
  {
   "cell_type": "code",
   "execution_count": null,
   "metadata": {},
   "outputs": [],
   "source": [
    "df2=df1.pivot_table(index=[\"MKT\",\"CP_SHARE_BASIS\",\"PROD\",\"CP_MANUFACTURER\",\"CP_FRANCHISE\",\"CP_BRAND\",\"CP_SUBBRAND_VARIANT\",\"Product_Code\",\"Time_Period\"],columns='Facts')\n",
    "\n",
    "df2.columns=df2.columns.droplevel().rename(None)\n",
    "df2.reset_index(inplace =True)"
   ]
  },
  {
   "cell_type": "code",
   "execution_count": null,
   "metadata": {},
   "outputs": [],
   "source": [
    "from pandas.api.types import CategoricalDtype\n",
    "\n",
    "Time_Period_order = CategoricalDtype(\n",
    "    Time_Period, \n",
    "    ordered=True\n",
    ")\n",
    "\n",
    "df2['Time_Period'] = df2['Time_Period'].astype(Time_Period_order)\n",
    "\n",
    "\n",
    "df2.sort_values(['MKT','PROD','Time_Period'],inplace=True)"
   ]
  },
  {
   "cell_type": "code",
   "execution_count": null,
   "metadata": {},
   "outputs": [],
   "source": [
    "df2['Prcnt_ACV']=df2[\"Store_Selling\"]\n",
    "\n",
    "final_column_sorting=[\"MKT\",\"PROD\",\"CP_MANUFACTURER\",\"CP_FRANCHISE\",\"CP_BRAND\",\"CP_SUBBRAND_VARIANT\",\"Product_Code\",\"Time_Period\",\n",
    "                      \"Doll_Shr\",\"Cum_Distri_Pts\",\"Dollars\",\"Store_Selling\",\"Prcnt_ACV\",\"CP_SHARE_BASIS\"]\n",
    "\n",
    "Distri_Cat_final=df2[final_column_sorting]\n",
    "\n",
    "Distri_Cat_final[\"Record_ID\"]=range(1,len(Distri_Cat_final)+1)\n",
    "\n"
   ]
  },
  {
   "cell_type": "markdown",
   "metadata": {},
   "source": [
    "**Exporting Dataframe to ouHHCut folder**"
   ]
  },
  {
   "cell_type": "code",
   "execution_count": null,
   "metadata": {},
   "outputs": [],
   "source": [
    "Distri_Cat_final.to_csv(path_HHC+\"Distri_category_skus_Data.csv\",index=False)"
   ]
  },
  {
   "cell_type": "code",
   "execution_count": null,
   "metadata": {},
   "outputs": [],
   "source": []
  },
  {
   "cell_type": "code",
   "execution_count": null,
   "metadata": {},
   "outputs": [],
   "source": []
  },
  {
   "cell_type": "code",
   "execution_count": null,
   "metadata": {},
   "outputs": [],
   "source": []
  },
  {
   "cell_type": "code",
   "execution_count": null,
   "metadata": {},
   "outputs": [],
   "source": []
  },
  {
   "cell_type": "code",
   "execution_count": null,
   "metadata": {},
   "outputs": [],
   "source": []
  },
  {
   "cell_type": "code",
   "execution_count": null,
   "metadata": {},
   "outputs": [],
   "source": []
  },
  {
   "cell_type": "code",
   "execution_count": null,
   "metadata": {},
   "outputs": [],
   "source": []
  }
 ],
 "metadata": {
  "kernelspec": {
   "display_name": "Python 3",
   "language": "python",
   "name": "python3"
  },
  "language_info": {
   "codemirror_mode": {
    "name": "ipython",
    "version": 3
   },
   "file_extension": ".py",
   "mimetype": "text/x-python",
   "name": "python",
   "nbconvert_exporter": "python",
   "pygments_lexer": "ipython3",
   "version": "3.8.5"
  }
 },
 "nbformat": 4,
 "nbformat_minor": 4
}
