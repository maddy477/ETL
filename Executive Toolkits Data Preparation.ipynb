{
 "cells": [
  {
   "cell_type": "markdown",
   "metadata": {},
   "source": [
    "## Overview\n",
    "This python file generates outputs for the following toolkits:-\n",
    "1. ShareDay Topline\n",
    "2. Executive Toolkit\n",
    "3. Executive Summary\n",
    "4. Category Toolkit Oral Care\n",
    "5. Category Toolkit Personal Care\n",
    "6. Category Toolkit Home Care"
   ]
  },
  {
   "cell_type": "markdown",
   "metadata": {},
   "source": [
    "**Importing all the libraries**"
   ]
  },
  {
   "cell_type": "code",
   "execution_count": null,
   "metadata": {},
   "outputs": [],
   "source": [
    "import pandas as pd;\n",
    "import numpy as np;\n",
    "import os;\n",
    "import time;\n",
    "import datetime;\n",
    "import warnings;\n",
    "warnings.filterwarnings('ignore');"
   ]
  },
  {
   "cell_type": "markdown",
   "metadata": {},
   "source": [
    "**Accessing Input Files**"
   ]
  },
  {
   "cell_type": "code",
   "execution_count": null,
   "metadata": {},
   "outputs": [],
   "source": [
    "# Assigning path of the folder where all \"Line Monthly\" data files are stored\n",
    "path = \"//falmumapp34/Nielsen Connect Transition & Maintenance (20-SCP-3650)/09. Personal Work/Madhwan/Line Monthly\"\n",
    "files = os.listdir(path)\n",
    "\n",
    "# Selecting only excel files from all the files available in the above path\n",
    "files_xls = [f for f in files if f[-4:] == 'xlsx'] \n",
    "print(\"Total number of files in the folder are \",len(files_xls))"
   ]
  },
  {
   "cell_type": "markdown",
   "metadata": {},
   "source": [
    "**Appending the read files in rows and storing them in a single dataframe** named ***Line_Monthly***.\n",
    "\n",
    "Printing number of columns and number of facts in each file.\n",
    "Also checking the execution time of the code"
   ]
  },
  {
   "cell_type": "code",
   "execution_count": null,
   "metadata": {
    "scrolled": true
   },
   "outputs": [],
   "source": [
    "time_start= time.time() # giving the current time\n",
    "\n",
    "Line_Monthly= pd.DataFrame() # creating a dataframe name Line_Monthly\n",
    "\n",
    "j=0\n",
    "for f in files_xls:\n",
    "    \n",
    "    data = pd.read_excel(path+\"/\"+f) # reading the file\n",
    "    \n",
    "    # priniting number of facts and number of columns of the read file\n",
    "    print(\"\\033[1m\" + files_xls[j] + \"\\033[0m\",\":->\\n# of Facts are \",len(set(data[\"Periods\"])),\"\\t\\t # of columns are \",len(data.columns))  \n",
    "    \n",
    "    # appending the read files in \"Line_Monthly\" dataframe\n",
    "    Line_Monthly = pd.concat([Line_Monthly,data],axis=0,ignore_index=True)\n",
    "    j=j+1\n",
    "    \n",
    "time_end= time.time();# giving the current time\n",
    "\n",
    "Backup= Line_Monthly.copy() # storing Line_Monthly dataframe into anoter dataframe for backup purpose\n",
    "\n",
    "# printing the time it takes to run this block of code \n",
    "print(\"execution time is \", time_end-time_start)"
   ]
  },
  {
   "cell_type": "markdown",
   "metadata": {},
   "source": [
    "**Removing Duplicate Rows**"
   ]
  },
  {
   "cell_type": "code",
   "execution_count": null,
   "metadata": {},
   "outputs": [],
   "source": [
    "# Dropping the Duplicate rows\n",
    "lenth_df=len(Line_Monthly)\n",
    "Line_Monthly.drop_duplicates(subset=[\"Markets\",\"Products\",\"Periods\"],keep='last',inplace=True)\n",
    "print(\"Number of duplicated rows are\",lenth_df-len(Line_Monthly),\"\\nShape of Line_Monthly is \",Line_Monthly.shape)"
   ]
  },
  {
   "cell_type": "markdown",
   "metadata": {},
   "source": [
    "**Replacing Facts names** (Here column \"Periods\" denotes the fact column)"
   ]
  },
  {
   "cell_type": "code",
   "execution_count": null,
   "metadata": {
    "scrolled": true
   },
   "outputs": [],
   "source": [
    "set(Line_Monthly['Periods'])"
   ]
  },
  {
   "cell_type": "code",
   "execution_count": null,
   "metadata": {},
   "outputs": [],
   "source": [
    "# Replacing \"- $ -\" with \"-\" in column \"Periods\"\n",
    "Line_Monthly[\"Periods\"]=Line_Monthly[\"Periods\"].str.replace(\"$\",\"temp\")\n",
    "Line_Monthly[\"Periods\"]=Line_Monthly[\"Periods\"].str.replace(\"- temp -\",\"-\")\n",
    "Line_Monthly[\"Periods\"]=Line_Monthly[\"Periods\"].str.replace(\"temp\",\"$\")\n",
    "\n",
    "# Replacing \"CP FORM\" with \"CP CATEGORY\" in column \"Periods\"\n",
    "Line_Monthly[\"Periods\"]=Line_Monthly[\"Periods\"].str.replace(\"CP FORM\",\"CP CATEGORY\")\n",
    "\n",
    "# Replacing \"CP USE\" with \"CP CATEGORY\" in column \"Periods\"\n",
    "Line_Monthly[\"Periods\"]=Line_Monthly[\"Periods\"].str.replace(\"CP USE\",\"CP CATEGORY\")\n",
    "\n",
    "# Replacing \"CP LDL AND FOAM\" with \"CP CATEGORY\" in column \"Periods\"\n",
    "Line_Monthly[\"Periods\"]=Line_Monthly[\"Periods\"].str.replace(\"CP LDL AND FOAM\",\"CP CATEGORY\")\n",
    "\n",
    "# Replacing \"CP LDL AND FM X DISHAIDS/WPS/SPR\" with \"CP CATEGORY\" in column \"Periods\"\n",
    "Line_Monthly[\"Periods\"]=Line_Monthly[\"Periods\"].str.replace(\"CP LDL AND FM X DISHAIDS/WPS/SPR\",\"CP CATEGORY\")\n",
    "\n",
    "# Replacing \"CP MEGA CATEGORY\" with \"CP CATEGORY\" in column \"Periods\"\n",
    "Line_Monthly[\"Periods\"]=Line_Monthly[\"Periods\"].str.replace(\"CP MEGA CATEGORY\",\"CP CATEGORY\")\n",
    "\n",
    "# Replacing \"CP BATTERY AND HYBRID\" with \"CP CATEGORY\" in column \"Periods\"\n",
    "Line_Monthly[\"Periods\"]=Line_Monthly[\"Periods\"].str.replace(\"CP BATTERY AND HYBRID\",\"CP CATEGORY\")\n",
    "\n",
    "# Market name replaced\n",
    "# Replacing \"Walgreens Corp Total TA\" with \"Walgreens Total TA\" in column \"Markets\"\n",
    "Line_Monthly[\"Markets\"]=Line_Monthly[\"Markets\"].str.replace(\"Walgreens Corp Total TA\",\"Walgreens Total TA\")"
   ]
  },
  {
   "cell_type": "code",
   "execution_count": null,
   "metadata": {
    "scrolled": true
   },
   "outputs": [],
   "source": [
    "set(Line_Monthly[\"Periods\"]);"
   ]
  },
  {
   "cell_type": "markdown",
   "metadata": {},
   "source": [
    "**Removing unwanted characters from all the column names** and store them in a list ***new_col_names***"
   ]
  },
  {
   "cell_type": "code",
   "execution_count": null,
   "metadata": {},
   "outputs": [],
   "source": [
    "new_col_names=[]\n",
    "for i in Line_Monthly.columns:\n",
    "    x=len(i)\n",
    "    if x<=17:\n",
    "        new_col_names.append(i)\n",
    "    elif i[:3]=='YTD':\n",
    "        new_col_names.append(i[:-16].strip('- '))\n",
    "    else:\n",
    "        new_col_names.append(i[:-14].strip('- '))\n",
    "        "
   ]
  },
  {
   "cell_type": "markdown",
   "metadata": {},
   "source": [
    "**Checking the duplicacte column in** ***Line_Monthly***"
   ]
  },
  {
   "cell_type": "code",
   "execution_count": null,
   "metadata": {},
   "outputs": [],
   "source": [
    "if(len(new_col_names)!=len(set(new_col_names))):\n",
    "    print(\"\\033[1;31m\"+\"*******************************ERROR*******************************\\n\\t\\t\\tWe have duplicate columns\\n\\t\\t\\tPlease recheck raw data files\\n*******************************ERROR*******************************\")"
   ]
  },
  {
   "cell_type": "markdown",
   "metadata": {},
   "source": [
    "Renaming the column names of ***Line_Monthly***"
   ]
  },
  {
   "cell_type": "code",
   "execution_count": null,
   "metadata": {},
   "outputs": [],
   "source": [
    "# Renaming the column names\n",
    "Line_Monthly.columns=new_col_names\n",
    "\n",
    "Line_Monthly.columns"
   ]
  },
  {
   "cell_type": "markdown",
   "metadata": {},
   "source": [
    "**Adding Missing Quarter**"
   ]
  },
  {
   "cell_type": "code",
   "execution_count": null,
   "metadata": {},
   "outputs": [],
   "source": [
    "# Getting 20 days before month and year value\n",
    "\n",
    "now=datetime.datetime.now()  # current date & time\n",
    "delay= datetime.timedelta(days=20) # 20 days delay\n",
    "\n",
    "a= now - delay # 20 days ago time period\n",
    "month_number=a.month # 20 days ago month number \n",
    "year=str(a.year-2)[-2:] # 2 year & 20 days ago year number\n",
    "\n",
    "print(\"Month ->\",month_number)\n",
    "print(\"Year ->\",year)\n",
    "\n",
    "# Adding Quarter's columns\n",
    "if( month_number >= 1 & month_number <= 3):\n",
    "    Line_Monthly['AMJ '+year]=\"\"\n",
    "    Line_Monthly['JAS '+year]=\"\"\n",
    "    Line_Monthly['OND '+year]=\"\"\n",
    "elif ( month_number >= 4 & month_number <= 6 ):\n",
    "    Line_Monthly['JAS '+year]=\"\"\n",
    "    Line_Monthly['OND '+year]=\"\"\n",
    "elif ( month_number >= 7 & month_number <= 9  ):\n",
    "    Line_Monthly['OND '+year]=\"\""
   ]
  },
  {
   "cell_type": "markdown",
   "metadata": {},
   "source": [
    "**Time period mapping**\n",
    "\n",
    "**Manual Step**\n",
    "\n",
    "This mapping needs to be changed every year when new year data arrives"
   ]
  },
  {
   "cell_type": "code",
   "execution_count": null,
   "metadata": {},
   "outputs": [],
   "source": [
    "time_period_map= pd.DataFrame({'Connect Time Period':['Markets', 'Products', 'Periods','Cal Yr 2020','Cal Yr 2019','Cal Yr 2018','Cal Yr 2017','YTD','YTD YA','Latest 13 Wks','Latest 26 Wks','OND 21','JAS 21','AMJ 21','JFM 21','OND 20','JAS 20','AMJ 20','JFM 20','OND 19','JAS 19','AMJ 19','Dec 21','Nov 21','Oct 21','Sep 21','Aug 21','Jul 21','Jun 21','May 21','Apr 21','Mar 21','Feb 21','Jan 21','Dec 20','Nov 20','Oct 20','Sep 20','Aug 20','Jul 20','Jun 20','May 20','Apr 20','Mar 20','Feb 20','Jan 20'],\n",
    "                               'Final Name':['Markets', 'Products', 'Periods','FY 2020','FY 2019','FY 2018','FY 2017','YTD 2021','YTD 2020','Latest 13 Weeks','Latest 26 Weeks','Q4 2021','Q3 2021','Q2 2021','Q1 2021','Q4 2020','Q3 2020','Q2 2020','Q1 2020','Q4 2019','Q3 2019','Q2 2019','Dec 21','Nov 21','Oct 21','Sep 21','Aug 21','Jul 21','Jun 21','May 21','Apr 21','Mar 21','Feb 21','Jan 21','Dec 20','Nov 20','Oct 20','Sep 20','Aug 20','Jul 20','Jun 20','May 20','Apr 20','Mar 20','Feb 20','Jan 20']\n",
    "                              ,'Order':range(1,47)})\n",
    "\n",
    "time_period_map.head(50)"
   ]
  },
  {
   "cell_type": "markdown",
   "metadata": {},
   "source": [
    "Changing **column names** of ***Line_Monthly*** and **reordering** them based on the time_period_mapping"
   ]
  },
  {
   "cell_type": "code",
   "execution_count": null,
   "metadata": {},
   "outputs": [],
   "source": [
    "# assigning variables\n",
    "\n",
    "LM_column= list(Line_Monthly.columns)\n",
    "time_connect=list(time_period_map[\"Connect Time Period\"])\n",
    "time_final=list(time_period_map[\"Final Name\"])\n",
    "\n",
    "# changing column names based on time_period_mapping\n",
    "new_column=[]\n",
    "for i in range(0,len(LM_column)):\n",
    "    for j in range(0,len(time_connect)):\n",
    "        if LM_column[i]==time_connect[j]:\n",
    "            new_column.append(time_final[j])\n",
    "            \n",
    "# assigning new column names to Line_Monthly\n",
    "Line_Monthly.columns = new_column\n",
    "\n",
    "# reordering column names\n",
    "my_list =time_period_map.iloc[:, 1]\n",
    "my_list1=Line_Monthly.columns\n",
    "result = [x for x in my_list if x in my_list1]\n",
    "Line_Monthly=Line_Monthly[result]\n",
    "\n",
    "print(Line_Monthly.columns)"
   ]
  },
  {
   "cell_type": "code",
   "execution_count": null,
   "metadata": {
    "scrolled": true
   },
   "outputs": [],
   "source": [
    "Line_Monthly.head(3)"
   ]
  },
  {
   "cell_type": "markdown",
   "metadata": {},
   "source": [
    "creating ***movecol*** function to **rearranging** the columns of a dataframe"
   ]
  },
  {
   "cell_type": "code",
   "execution_count": null,
   "metadata": {},
   "outputs": [],
   "source": [
    "def movecol(df, cols_to_move=[], ref_col='', place=''):\n",
    "    cols = df.columns.tolist()\n",
    "    if place == 'After':\n",
    "        seg1 = cols[:list(cols).index(ref_col) + 1]\n",
    "        seg2 = cols_to_move\n",
    "    if place == 'Before':\n",
    "        seg1 = cols[:list(cols).index(ref_col)]\n",
    "        seg2 = cols_to_move + [ref_col]\n",
    "    seg1 = [i for i in seg1 if i not in seg2]\n",
    "    seg3 = [i for i in cols if i not in seg1 + seg2]\n",
    "    \n",
    "    return(df[seg1 + seg2 + seg3])"
   ]
  },
  {
   "cell_type": "markdown",
   "metadata": {},
   "source": [
    "**Splitting \"Products\" column**\n",
    "\n",
    "Creating 5 new columns **\"ShareBasis\",\"Manufacturer\",\"Franchise\",\"Brand\",\"SubBrand\"** from **\"Products\"** column by splitting "
   ]
  },
  {
   "cell_type": "code",
   "execution_count": null,
   "metadata": {
    "scrolled": false
   },
   "outputs": [],
   "source": [
    "# assigning new_column names \n",
    "New_Columns=['ShareBasis','Manufacturer','Franchise','Brand','SubBrand']\n",
    "\n",
    "# Splitiing column \"Product\" in 5 new columns \"New_Columns\"\n",
    "Line_Monthly[New_Columns] = Line_Monthly['Products'].str.split('|',n=4,expand=True)\n",
    "\n",
    "# Filling NAN with blank values\n",
    "Line_Monthly[New_Columns]=Line_Monthly[New_Columns].fillna(value=\"\")\n",
    "\n",
    "# Moving columns after \"Market\"\n",
    "Line_Monthly = movecol(Line_Monthly, \n",
    "             cols_to_move=New_Columns, \n",
    "             ref_col='Markets',\n",
    "             place='After')\n",
    "\n",
    "# showing dataframe Line_Monthly\n",
    "Line_Monthly.head(3)"
   ]
  },
  {
   "cell_type": "code",
   "execution_count": null,
   "metadata": {},
   "outputs": [],
   "source": [
    "# Changing Column Name \"Periods\" to \"Facts\"\n",
    "Line_Monthly.rename(columns={\"Periods\":\"Facts\"},inplace=True)\n",
    "\n",
    "# Adding a \"KEY\" column\n",
    "Line_Monthly[\"Key\"]=Line_Monthly[\"Markets\"]+Line_Monthly[\"Products\"]+Line_Monthly[\"Facts\"]\n",
    "\n",
    "# moving \"KEY\" column to start of the column\n",
    "Line_Monthly = movecol(Line_Monthly, \n",
    "             cols_to_move=['Key'], \n",
    "             ref_col='Markets',\n",
    "             place='Before')\n",
    "\n",
    "# showing dataframe Line_Monthly\n",
    "Line_Monthly.head(3)"
   ]
  },
  {
   "cell_type": "markdown",
   "metadata": {},
   "source": [
    "**Strip Columns and Change Datatype to numeric**\n",
    "\n",
    "Strip starting 9 columns \n",
    "\n",
    "Changing datatype to numeric after 9 columns"
   ]
  },
  {
   "cell_type": "code",
   "execution_count": null,
   "metadata": {},
   "outputs": [],
   "source": [
    "# Choose starting 9 columns\n",
    "cols=list(Line_Monthly.columns[0:9])\n",
    "\n",
    "# Doing strip to starting 9 columns\n",
    "Line_Monthly[cols]=Line_Monthly[cols].apply(lambda x : x.str.strip())\n",
    "\n",
    "# Changing all columns after \"Facts\" into numeric datatype\n",
    "Line_Monthly.iloc[:,9:]= Line_Monthly.iloc[:,9:].apply(pd.to_numeric)\n",
    "\n",
    "#Backup\n",
    "Line_Monthly__strip_copy=Line_Monthly.copy()"
   ]
  },
  {
   "cell_type": "markdown",
   "metadata": {},
   "source": [
    "**Category column**\n",
    "\n",
    "Creating a extra column name \"Category\" from column \"ShareBasis\""
   ]
  },
  {
   "cell_type": "code",
   "execution_count": null,
   "metadata": {},
   "outputs": [],
   "source": [
    "df1= pd.DataFrame(Line_Monthly[\"ShareBasis\"])"
   ]
  },
  {
   "cell_type": "code",
   "execution_count": null,
   "metadata": {
    "scrolled": true
   },
   "outputs": [],
   "source": [
    "def fun_category(x):\n",
    "    if x == 'TOOTHPASTE' or x == 'WHITENING SYS':\n",
    "        return \"TP\"\n",
    "    elif x=='POUR APC+WW' or x==\"WOOD\" or x== 'ABRASIVE' or x== \"APC+WW\" or x=='FLOOR WAX' or x=='OUTDOOR' or x=='DRY WIPES' or x=='SPRAY':\n",
    "        return \"HHC\"\n",
    "    elif x=='MANUAL':\n",
    "        return 'MTB'\n",
    "    elif x=='POWER' or x=='PORTABLE TB' or x == 'ELECTRIC' or x == 'BATTERY+HYBRID' or x == 'BATTERY':\n",
    "        return \"PTB\"\n",
    "    elif x=='BODYWASH':\n",
    "        return \"BW\"\n",
    "    elif x=='MOUTHWASH':\n",
    "        return 'MW'\n",
    "    elif x=='BAR':\n",
    "        return \"BAR\"\n",
    "    elif x=='LIQUID':\n",
    "        return 'LHS'\n",
    "    elif x=='FABRIC SOFTENERS' or x == 'BEAD FS' or x== 'LIQUID FS' or x == \"SHEETS\" or x==\"SCENT BOOSTERS\" or x == 'MFR Sun Products' :\n",
    "        return \"FS\"\n",
    "    elif x=='LDL+FOAM' or x == 'MFR Sun Products LDL' or x == \"LDL/DISHAIDS/WPS/FM/SPRAYS\":\n",
    "        return 'LDL'\n",
    "    else:\n",
    "        return 'N/A'\n",
    "    # Add elif statements....\n",
    "\n",
    "df1['Category']= df1['ShareBasis'].apply(fun_category)\n",
    "\n",
    "Line_Monthly['Category']=df1['Category']\n",
    "\n",
    "#Moving column \"Category\" after column \"ShareBasis\"\n",
    "\n",
    "Line_Monthly = movecol(Line_Monthly, \n",
    "             cols_to_move=['Category'], \n",
    "             ref_col='ShareBasis',\n",
    "             place='After')\n",
    "\n",
    "# showing dataframe Line_Monthly\n",
    "Line_Monthly.head(3)"
   ]
  },
  {
   "cell_type": "code",
   "execution_count": null,
   "metadata": {
    "scrolled": true
   },
   "outputs": [],
   "source": [
    "Line_Monthly.info()"
   ]
  },
  {
   "cell_type": "markdown",
   "metadata": {},
   "source": [
    "## UAP DATA"
   ]
  },
  {
   "cell_type": "markdown",
   "metadata": {},
   "source": [
    "**Reading input file**"
   ]
  },
  {
   "cell_type": "code",
   "execution_count": null,
   "metadata": {},
   "outputs": [],
   "source": [
    "UAP_Data=pd.read_excel(\"//falmumapp34/Nielsen Connect Transition & Maintenance (20-SCP-3650)/03. Raw Data/Connect Data/UAP_ADD_Data/UAP AOD Report.xlsx\")"
   ]
  },
  {
   "cell_type": "code",
   "execution_count": null,
   "metadata": {},
   "outputs": [],
   "source": [
    "# del UAP_Data['Jan 21']"
   ]
  },
  {
   "cell_type": "markdown",
   "metadata": {},
   "source": [
    "**Replacing Facts names** (Here column \"Periods\" denotes the fact column)"
   ]
  },
  {
   "cell_type": "code",
   "execution_count": null,
   "metadata": {},
   "outputs": [],
   "source": [
    "# Replacing \"- Category\" with \"- CP CATEGORY\" in column \"Periods\"\n",
    "UAP_Data[\"Periods\"]=UAP_Data[\"Periods\"].str.replace(\"- Category\",\"- CP CATEGORY\")\n",
    "\n",
    "# Replacing \"- Sub Category\" with \"- CP CATEGORY\" in column \"Periods\"\n",
    "UAP_Data[\"Periods\"]=UAP_Data[\"Periods\"].str.replace(\"- Sub Category\",\"- CP CATEGORY\")\n",
    "\n",
    "# Replacing \"- Super Category\" with \"- CP CATEGORY\" in column \"Periods\"\n",
    "UAP_Data[\"Periods\"]=UAP_Data[\"Periods\"].str.replace(\"- Super Category\",\"- CP CATEGORY\")"
   ]
  },
  {
   "cell_type": "markdown",
   "metadata": {},
   "source": [
    "**Removing unwanted characters from all the column names** and store them in a list ***new_col_names***"
   ]
  },
  {
   "cell_type": "code",
   "execution_count": null,
   "metadata": {},
   "outputs": [],
   "source": [
    "new_col_names=[]\n",
    "for i in UAP_Data.columns:\n",
    "    x=len(i)\n",
    "    if x<=17:\n",
    "        new_col_names.append(i)\n",
    "    elif i[:3]=='YTD':\n",
    "        new_col_names.append(i[:-16].strip('- '))\n",
    "    else:\n",
    "        new_col_names.append(i[:-14].strip('- '))\n",
    "\n",
    "        \n",
    "## assigning new column names\n",
    "UAP_Data.columns = new_col_names\n",
    "\n",
    "# assigning variables\n",
    "LM_column= list(UAP_Data.columns)\n",
    "time_connect=list(time_period_map[\"Connect Time Period\"])\n",
    "time_final=list(time_period_map[\"Final Name\"])\n",
    "\n",
    "# changing column names based on time_period_mapping\n",
    "new_column=[]\n",
    "for i in range(0,len(LM_column)):\n",
    "    for j in range(0,len(time_connect)):\n",
    "        if LM_column[i]==time_connect[j]:\n",
    "            new_column.append(time_final[j])\n",
    "\n",
    "# assigning new column names\n",
    "UAP_Data.columns = new_column"
   ]
  },
  {
   "cell_type": "code",
   "execution_count": null,
   "metadata": {
    "scrolled": true
   },
   "outputs": [],
   "source": [
    "# Changing Column Name \"Periods\" to \"Facts\"\n",
    "UAP_Data.rename(columns={\"Periods\":\"Facts\"},inplace=True)\n",
    "\n",
    "# showing dataframe UAP_Data\n",
    "UAP_Data.head(3)"
   ]
  },
  {
   "cell_type": "markdown",
   "metadata": {},
   "source": [
    "**Shifting Timeperiod to rows and Facts to columns**"
   ]
  },
  {
   "cell_type": "code",
   "execution_count": null,
   "metadata": {},
   "outputs": [],
   "source": [
    "# storing UAP_Data in df\n",
    "df=UAP_Data.copy()\n",
    "\n",
    "# selecting time periods\n",
    "Time_Period=list(df.columns[3:])\n",
    "\n",
    "# applying melt (both Time_Period and Facts will come on rows)\n",
    "df1=pd.melt(df, id_vars =['Markets', 'Products', 'Facts'], value_vars =Time_Period,var_name=\"Time_Period\")\n",
    "\n",
    "# changing datatype of \"value\" into \"numeric\"\n",
    "df1[\"value\"]=df1[\"value\"].apply(pd.to_numeric)\n",
    "\n",
    "# applying pivot_table ( Time_Period will come on rows and Facts will come on columns)\n",
    "df2=df1.pivot_table(index=['Markets', 'Products','Time_Period'],columns='Facts')\n",
    "df2.columns=df2.columns.droplevel().rename(None)\n",
    "df2.reset_index(inplace =True)\n",
    "\n",
    "# showing dataframe UAP_Data\n",
    "df2.head(3)"
   ]
  },
  {
   "cell_type": "markdown",
   "metadata": {},
   "source": [
    "Creating **two calculated** columns **\"EQ Shr - CP CATEGORY\"** and **\"EQ Shr Chg YA - CP CATEGORY\"**"
   ]
  },
  {
   "cell_type": "code",
   "execution_count": null,
   "metadata": {},
   "outputs": [],
   "source": [
    "# creating a new column by concatinating columns \"Markets\" and \"Time_Period\"\n",
    "df2[\"Market_Period\"]=df2[\"Markets\"]+df2[\"Time_Period\"]\n",
    "\n",
    "# creating a blank dataframe name temp_uap\n",
    "temp_uap=pd.DataFrame()\n",
    "\n",
    "\n",
    "for i in list(set(df2[\"Market_Period\"])):\n",
    "    \n",
    "    # filtering the dataframe for each Market_Period combination\n",
    "    df3=df2[df2[\"Market_Period\"]==i]\n",
    "    \n",
    "    # getting TTL UAP's EQ value for Market_Period combination\n",
    "    var=int(df3[df3[\"Products\"]==\"TTL UAP\"][\"EQ\"])\n",
    "    \n",
    "    # Creating calculated columns\n",
    "    df3[\"EQ Shr - CP CATEGORY\"]=(df3[\"EQ\"]/var)*100\n",
    "    df3[\"EQ LY\"]=(df3[\"EQ\"]-df3[\"EQ Chg YA\"])\n",
    "\n",
    "    # getting TTL UAP's EQ LY value for Market_Period combination\n",
    "    var_LY=int(df3[df3[\"Products\"]==\"TTL UAP\"][\"EQ LY\"])\n",
    "    \n",
    "    # Creating calculated columns\n",
    "    df3[\"EQ Shr LY\"]=(df3[\"EQ LY\"]/var_LY)*100\n",
    "    df3[\"EQ Shr Chg YA - CP CATEGORY\"]=(df3[\"EQ Shr - CP CATEGORY\"]-df3[\"EQ Shr LY\"])\n",
    "    \n",
    "    # concat dataframe df3 for each Market_Period Combination\n",
    "    temp_uap=pd.concat([temp_uap,df3],axis=0)\n",
    "    \n",
    "#loop Ends#\n",
    "\n",
    "# Deleting the unwanted columns\n",
    "del temp_uap['Market_Period']\n",
    "del temp_uap['EQ LY']\n",
    "del temp_uap['EQ Shr LY']\n",
    "   \n",
    "# showing dataframe temp_uap\n",
    "temp_uap.head(3)"
   ]
  },
  {
   "cell_type": "code",
   "execution_count": null,
   "metadata": {},
   "outputs": [],
   "source": [
    "# selecting facts\n",
    "Facts=list(temp_uap.columns[3:])\n",
    "\n",
    "# applying melt (both Time_Period and Facts will come on rows)\n",
    "df1=pd.melt(temp_uap, id_vars =['Markets', 'Products', 'Time_Period'], value_vars =Facts,var_name=\"Facts\")\n",
    "\n",
    "# changing datatype of \"value\" into \"numeric\"\n",
    "df1[\"value\"]=df1[\"value\"].apply(pd.to_numeric)\n",
    "\n",
    "# applying pivot_table ( Time_Period will come on columns and Facts will come on rows )\n",
    "df2=df1.pivot_table(index=['Markets', 'Products','Facts'],columns='Time_Period')\n",
    "df2.columns=df2.columns.droplevel().rename(None)\n",
    "df2.reset_index(inplace =True)\n",
    "\n",
    "# showing dataframe df2\n",
    "df2.head()"
   ]
  },
  {
   "cell_type": "code",
   "execution_count": null,
   "metadata": {},
   "outputs": [],
   "source": [
    "# saving dataframe df2 to UAP_Data_final\n",
    "UAP_Data_final=df2.copy()\n",
    "\n",
    "# Creating \"ShareBasis\" column\n",
    "UAP_Data_final[\"ShareBasis\"]=\"UAP\"\n",
    "\n",
    "# Creating \"Category\" column\n",
    "UAP_Data_final[\"Category\"]=\"UAP\"\n",
    "\n",
    "# Creating \"Manufacturer\" column by replacing \"MFR \" to blank from \"Products column\"\n",
    "UAP_Data_final[\"Manufacturer\"]=[x.replace(\"MFR \",\"\") if \"MFR\" in x else \"\" for x in UAP_Data_final[\"Products\"]]\n",
    "\n",
    "# Creating \"Key\" column by conacatinating columns \"Markets\",\"Products\",\"Facts\"\n",
    "UAP_Data_final[\"Key\"]=UAP_Data_final[\"Markets\"]+UAP_Data_final[\"Products\"]+UAP_Data_final[\"Facts\"]\n"
   ]
  },
  {
   "cell_type": "code",
   "execution_count": null,
   "metadata": {},
   "outputs": [],
   "source": []
  },
  {
   "cell_type": "markdown",
   "metadata": {},
   "source": [
    "## ADD DATA"
   ]
  },
  {
   "cell_type": "markdown",
   "metadata": {},
   "source": [
    "**Reading input file**"
   ]
  },
  {
   "cell_type": "code",
   "execution_count": null,
   "metadata": {},
   "outputs": [],
   "source": [
    "ADD_Data=pd.read_excel(\"//falmumapp34/Nielsen Connect Transition & Maintenance (20-SCP-3650)/03. Raw Data/Connect Data/UAP_ADD_Data/ADD AOD Report.xlsx\")"
   ]
  },
  {
   "cell_type": "code",
   "execution_count": null,
   "metadata": {},
   "outputs": [],
   "source": [
    "ADD_Data.columns"
   ]
  },
  {
   "cell_type": "code",
   "execution_count": null,
   "metadata": {},
   "outputs": [],
   "source": [
    "del ADD_Data['Jan 21']"
   ]
  },
  {
   "cell_type": "markdown",
   "metadata": {},
   "source": [
    "**Replacing Facts names** (Here column \"Periods\" denotes the fact column)"
   ]
  },
  {
   "cell_type": "code",
   "execution_count": null,
   "metadata": {},
   "outputs": [],
   "source": [
    "# Replacing \"- Category\" with \"- CP CATEGORY\" in column \"Periods\"\n",
    "ADD_Data[\"Periods\"]=ADD_Data[\"Periods\"].str.replace(\"- Category\",\"- CP CATEGORY\")\n",
    "\n",
    "# Replacing \"- Sub Category\" with \"- CP CATEGORY\" in column \"Periods\"\n",
    "ADD_Data[\"Periods\"]=ADD_Data[\"Periods\"].str.replace(\"- Sub Category\",\"- CP CATEGORY\")\n",
    "\n",
    "# Replacing \"- Super Category\" with \"- CP CATEGORY\" in column \"Periods\"\n",
    "ADD_Data[\"Periods\"]=ADD_Data[\"Periods\"].str.replace(\"- Super Category\",\"- CP CATEGORY\")"
   ]
  },
  {
   "cell_type": "markdown",
   "metadata": {},
   "source": [
    "**Removing unwanted characters from all the column names** and store them in a list ***new_col_names***"
   ]
  },
  {
   "cell_type": "code",
   "execution_count": null,
   "metadata": {},
   "outputs": [],
   "source": [
    "new_col_names=[]\n",
    "for i in ADD_Data.columns:\n",
    "    x=len(i)\n",
    "    if x<=17:\n",
    "        new_col_names.append(i)\n",
    "    elif i[:3]=='YTD':\n",
    "        new_col_names.append(i[:-16].strip('- '))\n",
    "    else:\n",
    "        new_col_names.append(i[:-14].strip('- '))\n",
    "\n",
    "        \n",
    "## assigning new column names\n",
    "ADD_Data.columns = new_col_names\n",
    "\n",
    "# assigning variables\n",
    "LM_column= list(ADD_Data.columns)\n",
    "time_connect=list(time_period_map[\"Connect Time Period\"])\n",
    "time_final=list(time_period_map[\"Final Name\"])\n",
    "\n",
    "# changing column names based on time_period_mapping\n",
    "new_column=[]\n",
    "for i in range(0,len(LM_column)):\n",
    "    for j in range(0,len(time_connect)):\n",
    "        if LM_column[i]==time_connect[j]:\n",
    "            new_column.append(time_final[j])\n",
    "\n",
    "#assigning new column names\n",
    "ADD_Data.columns = new_column"
   ]
  },
  {
   "cell_type": "code",
   "execution_count": null,
   "metadata": {},
   "outputs": [],
   "source": [
    "# Changing Column Name \"Periods\" to \"Facts\"\n",
    "ADD_Data.rename(columns={\"Periods\":\"Facts\"},inplace=True)\n",
    "\n",
    "# showing dataframe UAP_Data\n",
    "ADD_Data.head(3)"
   ]
  },
  {
   "cell_type": "code",
   "execution_count": null,
   "metadata": {},
   "outputs": [],
   "source": [
    "# storing ADD_Data in df\n",
    "df=ADD_Data.copy()\n",
    "\n",
    "# selecting time periods\n",
    "Time_Period=list(df.columns[3:])\n",
    "\n",
    "# applying melt (both Time_Period and Facts will come on rows)\n",
    "df1=pd.melt(df, id_vars =['Markets', 'Products', 'Facts'], value_vars =Time_Period,var_name=\"Time_Period\")\n",
    "\n",
    "# changing datatype of \"value\" into \"numeric\"\n",
    "df1[\"value\"]=df1[\"value\"].apply(pd.to_numeric)\n",
    "\n",
    "# applying pivot_table ( Time_Period will come on rows and Facts will come on columns)\n",
    "df2=df1.pivot_table(index=['Markets', 'Products','Time_Period'],columns='Facts')\n",
    "df2.columns=df2.columns.droplevel().rename(None)\n",
    "df2.reset_index(inplace =True)\n",
    "\n",
    "# showing dataframe df2\n",
    "df2.head()"
   ]
  },
  {
   "cell_type": "markdown",
   "metadata": {},
   "source": [
    "Creating **two calculated** columns **\"EQ Shr - CP CATEGORY\"** and **\"EQ Shr Chg YA - CP CATEGORY\"**"
   ]
  },
  {
   "cell_type": "code",
   "execution_count": null,
   "metadata": {},
   "outputs": [],
   "source": [
    "# creating a new column by concatinating columns \"Markets\" and \"Time_Period\"\n",
    "df2[\"Market_Period\"]=df2[\"Markets\"]+df2[\"Time_Period\"]\n",
    "\n",
    "# creating a blank dataframe name temp_uap\n",
    "temp_add=pd.DataFrame()\n",
    "\n",
    "for i in list(set(df2[\"Market_Period\"])):\n",
    "    \n",
    "    # filtering the dataframe for each Market_Period combination\n",
    "    df3=df2[df2[\"Market_Period\"]==i]\n",
    "    \n",
    "    # getting TTL AUTODISH's EQ value for Market_Period combination\n",
    "    var=int(df3[df3[\"Products\"]==\"TTL AUTODISH\"][\"EQ\"])\n",
    "    \n",
    "    # Creating calculated columns\n",
    "    df3[\"EQ Shr - CP CATEGORY\"]=(df3[\"EQ\"]/var)*100\n",
    "    df3[\"EQ LY\"]=(df3[\"EQ\"]-df3[\"EQ Chg YA\"])\n",
    "    \n",
    "    # getting TTL UAP's EQ LY value for Market_Period combination\n",
    "    var_LY=int(df3[df3[\"Products\"]==\"TTL AUTODISH\"][\"EQ LY\"])\n",
    "    \n",
    "    # Creating calculated columns\n",
    "    df3[\"EQ Shr LY\"]=(df3[\"EQ LY\"]/var_LY)*100\n",
    "    df3[\"EQ Shr Chg YA - CP CATEGORY\"]=(df3[\"EQ Shr - CP CATEGORY\"]-df3[\"EQ Shr LY\"])\n",
    "    \n",
    "    # concat dataframe df3 for each Market_Period Combination\n",
    "    temp_add=pd.concat([temp_add,df3],axis=0)\n",
    "    \n",
    "#loop Ends#\n",
    "\n",
    "del temp_add['Market_Period']\n",
    "del temp_add['EQ LY']\n",
    "del temp_add['EQ Shr LY']\n",
    "    \n",
    "# showing dataframe temp_uap\n",
    "temp_add.head(3)    "
   ]
  },
  {
   "cell_type": "code",
   "execution_count": null,
   "metadata": {},
   "outputs": [],
   "source": [
    "# selecting facts\n",
    "Facts=list(temp_add.columns[3:])\n",
    "\n",
    "# applying melt (both Time_Period and Facts will come on rows)\n",
    "df1=pd.melt(temp_add, id_vars =['Markets', 'Products', 'Time_Period'], value_vars =Facts,var_name=\"Facts\")\n",
    "\n",
    "# changing datatype of \"value\" into \"numeric\"\n",
    "df1[\"value\"]=df1[\"value\"].apply(pd.to_numeric)\n",
    "\n",
    "# applying pivot_table ( Time_Period will come on columns and Facts will come on rows )\n",
    "df2=df1.pivot_table(index=['Markets', 'Products','Facts'],columns='Time_Period')\n",
    "df2.columns=df2.columns.droplevel().rename(None)\n",
    "df2.reset_index(inplace =True)\n",
    "\n",
    "# showing dataframe df2\n",
    "df2.head(3)"
   ]
  },
  {
   "cell_type": "code",
   "execution_count": null,
   "metadata": {},
   "outputs": [],
   "source": [
    "# saving dataframe df2 to ADD_Data_final\n",
    "ADD_Data_final=df2.copy()\n",
    "\n",
    "# Creating \"ShareBasis\" column\n",
    "ADD_Data_final[\"ShareBasis\"]=\"ADD\"\n",
    "\n",
    "# Creating \"Category\" column\n",
    "ADD_Data_final[\"Category\"]=\"ADD\"\n",
    "\n",
    "# Creating \"Manufacturer\" column by replacing \"MFR \" to blank from \"Products column\"\n",
    "ADD_Data_final[\"Manufacturer\"]=[x.replace(\"MFR \",\"\") if \"MFR\" in x else \"\" for x in ADD_Data_final[\"Products\"]]\n",
    "\n",
    "# Adding \"ADD\" in column \"Products\"\n",
    "ADD_Data_final[\"Products\"]=ADD_Data_final[\"Products\"]+\" ADD\"\n",
    "\n",
    "# Creating \"Key\" column by conacatinating columns \"Markets\",\"Products\",\"Facts\"\n",
    "ADD_Data_final[\"Key\"]=ADD_Data_final[\"Markets\"]+ADD_Data_final[\"Products\"]+ADD_Data_final[\"Facts\"]"
   ]
  },
  {
   "cell_type": "code",
   "execution_count": null,
   "metadata": {},
   "outputs": [],
   "source": [
    "print(\"UAP_Data ->\",UAP_Data_final.shape,\"\\nADD_Data ->\",ADD_Data_final.shape,\"\\nLine_Monthly ->\",Line_Monthly.shape)"
   ]
  },
  {
   "cell_type": "markdown",
   "metadata": {},
   "source": [
    "## Line Monthly with UAP&ADD Data"
   ]
  },
  {
   "cell_type": "code",
   "execution_count": null,
   "metadata": {},
   "outputs": [],
   "source": [
    "Line_Monthly.columns"
   ]
  },
  {
   "cell_type": "code",
   "execution_count": null,
   "metadata": {},
   "outputs": [],
   "source": [
    "del Line_Monthly_All"
   ]
  },
  {
   "cell_type": "code",
   "execution_count": null,
   "metadata": {},
   "outputs": [],
   "source": [
    "# concat Line_Monthly,UAP_Data_final,ADD_Data_final dataframes in rows\n",
    "Line_Monthly_All=pd.concat([Line_Monthly,UAP_Data_final,ADD_Data_final],axis=0,ignore_index=True, sort=False)\n",
    "\n",
    "# Replacing Nan values with blank for New_Columns\n",
    "New_Columns=[\"ShareBasis\",\"Manufacturer\",\"Franchise\",\"Brand\",\"SubBrand\"]\n",
    "Line_Monthly_All[New_Columns]=Line_Monthly_All[New_Columns].fillna(value=\"\")\n",
    "\n",
    "# Replacing Nan values with 0 for all dataframe\n",
    "Line_Monthly_All.fillna(value=0,inplace=True)\n",
    "\n",
    "print(\"Line_Monthly_All ->\",Line_Monthly_All.shape)"
   ]
  },
  {
   "cell_type": "code",
   "execution_count": null,
   "metadata": {},
   "outputs": [],
   "source": [
    "Line_Monthly_All.head(3)"
   ]
  },
  {
   "cell_type": "code",
   "execution_count": null,
   "metadata": {
    "scrolled": true
   },
   "outputs": [],
   "source": [
    "set(Line_Monthly_All[\"Category\"])"
   ]
  },
  {
   "cell_type": "markdown",
   "metadata": {},
   "source": [
    " "
   ]
  },
  {
   "cell_type": "markdown",
   "metadata": {},
   "source": [
    " "
   ]
  },
  {
   "cell_type": "markdown",
   "metadata": {},
   "source": [
    "## 1.Share Day Topline Line Monthly"
   ]
  },
  {
   "cell_type": "markdown",
   "metadata": {},
   "source": [
    " "
   ]
  },
  {
   "cell_type": "markdown",
   "metadata": {},
   "source": [
    "Making a copy of ***Line_Monthly_All*** and storing it in ***SDT***"
   ]
  },
  {
   "cell_type": "code",
   "execution_count": null,
   "metadata": {},
   "outputs": [],
   "source": [
    "SDT = Line_Monthly_All.copy()"
   ]
  },
  {
   "cell_type": "markdown",
   "metadata": {},
   "source": [
    "We need **Brand** Level data for **ShareDay Topline Toolkit.**\n",
    "\n",
    "**Removing all rows where SubBrand level data is available** after that **removing SubBrand column**"
   ]
  },
  {
   "cell_type": "code",
   "execution_count": null,
   "metadata": {},
   "outputs": [],
   "source": [
    "#removing subbrand data\n",
    "SDT.reset_index(drop=True,inplace=True)\n",
    "index_names=SDT[SDT[\"SubBrand\"]!=\"\"].index\n",
    "SDT.drop(index_names,inplace=True)\n",
    "\n",
    "#removing subbrand column\n",
    "col=list(SDT.columns)\n",
    "col.remove(\"SubBrand\")\n",
    "SDT = SDT[col]"
   ]
  },
  {
   "cell_type": "code",
   "execution_count": null,
   "metadata": {
    "scrolled": false
   },
   "outputs": [],
   "source": [
    "SDT.head(2)"
   ]
  },
  {
   "cell_type": "markdown",
   "metadata": {},
   "source": [
    "**Market, Facts, Time Period, ShareBasis and Products Selection for Share Day Topline**\n",
    "\n",
    "Filter all the data based on the below selections for Share Day Topline"
   ]
  },
  {
   "cell_type": "code",
   "execution_count": null,
   "metadata": {},
   "outputs": [],
   "source": [
    "Market =[\"REGIONAL GROCERY xLA\",\"BJs Total TA\",\"Dol Gen Total TA\",\"Family Dollar Total TA\",\"Sam's Total TA\",\"Strategic Grocery\",\"Target Total BM/FF TA\",\"Total US Drug\",\"Total US Food\",\"Total US xAOC\",\"Walmart Total US TA\"]\n",
    "\n",
    "Fact = [\"$\",\"$ % Chg YA\",\"$ Shr - CP CATEGORY\",\"$ Shr Chg YA - CP CATEGORY\",\"$ Chg YA\"]\n",
    "\n",
    "Time_Period=list(SDT.columns[0:9])+list(SDT.columns[9:11])+list(SDT.columns[13:15])+list(SDT.columns[17:21])+list(SDT.columns[25:28])\n",
    "#list(SDT.columns[9:11])\n",
    "\n",
    "Share_Basis=[\"BAR\",\"BODYWASH\",\"BEAD FS\",\"FABRIC SOFTENERS\",\"LDL/DISHAIDS/WPS/FM/SPRAYS\",\"LIQUID\",\"LIQUID FS\",\"MANUAL\",\"MOUTHWASH\",\n",
    "             \"POUR APC+WW\",\"POWER\",\"TOOTHPASTE\",\"UAP\",\"ADD\"]\n",
    "\n",
    "print(\"Time Period is ->\\n\",Time_Period)"
   ]
  },
  {
   "cell_type": "code",
   "execution_count": null,
   "metadata": {},
   "outputs": [],
   "source": [
    "# filter data based on market, facts, time_period and share basis\n",
    "SDT=SDT[SDT['Markets'].isin(Market)]\n",
    "SDT=SDT[SDT['Facts'].isin(Fact)]\n",
    "SDT=SDT[SDT['ShareBasis'].isin(Share_Basis)]\n",
    "SDT=SDT[Time_Period]"
   ]
  },
  {
   "cell_type": "code",
   "execution_count": null,
   "metadata": {},
   "outputs": [],
   "source": [
    "# sorting dataframe in markets, products, facts order\n",
    "SDT=SDT.sort_values(['Markets', 'Products','Facts'],ascending=[True,True,True])\n",
    "\n",
    "# removing duplicates rows\n",
    "SDT.drop_duplicates(subset=\"Key\",keep='last',inplace=True)\n",
    "\n",
    "# replacing nan values from zero\n",
    "SDT.fillna(0,inplace=True)"
   ]
  },
  {
   "cell_type": "markdown",
   "metadata": {},
   "source": [
    "Exporting Data to the output folder"
   ]
  },
  {
   "cell_type": "code",
   "execution_count": null,
   "metadata": {},
   "outputs": [],
   "source": [
    "SDT.to_csv(\"//falmumapp34/Nielsen Connect Transition & Maintenance (20-SCP-3650)/05. Output Data/ShareDay Topline_new.csv\",index=False)"
   ]
  },
  {
   "cell_type": "markdown",
   "metadata": {},
   "source": [
    " "
   ]
  },
  {
   "cell_type": "markdown",
   "metadata": {},
   "source": [
    "## 2.Executive Toolkit"
   ]
  },
  {
   "cell_type": "markdown",
   "metadata": {},
   "source": [
    "### 2(a) ExecTool Data"
   ]
  },
  {
   "cell_type": "markdown",
   "metadata": {},
   "source": [
    "Making a copy of ***Line_Monthly_All*** and storing it in ***ExecTool***"
   ]
  },
  {
   "cell_type": "code",
   "execution_count": null,
   "metadata": {},
   "outputs": [],
   "source": [
    "ExecTool = Line_Monthly_All.copy()"
   ]
  },
  {
   "cell_type": "markdown",
   "metadata": {},
   "source": [
    "We need **Brand** Level data for **Executive Toolkit.**\n",
    "\n",
    "**Removing all rows where SubBrand level data is available** after that **removing SubBrand column**"
   ]
  },
  {
   "cell_type": "code",
   "execution_count": null,
   "metadata": {},
   "outputs": [],
   "source": [
    "# removing subbrand data\n",
    "ExecTool.reset_index(drop=True,inplace=True)\n",
    "index_names=ExecTool[ExecTool[\"SubBrand\"]!=\"\"].index\n",
    "ExecTool.drop(index_names,inplace=True)\n",
    "\n",
    "# removing subbrand column\n",
    "col=list(ExecTool.columns)\n",
    "col.remove(\"SubBrand\")\n",
    "ExecTool = ExecTool[col]\n",
    "\n",
    "# showing dataframe ExecTool\n",
    "ExecTool.head(2)"
   ]
  },
  {
   "cell_type": "markdown",
   "metadata": {},
   "source": [
    "**Market, Facts, Time Period, ShareBasis and Products Selection for Executive Toolkit**\n",
    "\n",
    "Filter all the data based on the below selections for Executive Toolkit"
   ]
  },
  {
   "cell_type": "code",
   "execution_count": null,
   "metadata": {},
   "outputs": [],
   "source": [
    "Market =[\"REGIONAL GROCERY xLA\",\"BJs Total TA\",\"CVS Total Corp WO HI TA\",\"CLUB\",\"Dol Gen Total TA\",\"Family Dollar Total TA\",\n",
    "         \"Publix Total TA\",\"Rite Aid - Corp Total TA\",\"Sam's Total TA\",\"Strategic Grocery\",\"Total US Drug\",\"Target Total BM/FF TA\",\n",
    "         \"Total US Food\",\"Total US xAOC\",\"VDC\",\"Walgreens Total TA\",\"Walmart Total US TA\"]\n",
    "\n",
    "Fact = [\"$ Shr - CP CATEGORY\",\"$ Shr Chg YA - CP CATEGORY\",\"% $ Any Promo\",\"% $ Any Promo Chg YA\",'% EQ Any Promo',\n",
    "        '% EQ Any Promo Chg YA','$','$ % Chg YA', '$ Chg YA', 'EQ','EQ % Chg YA',\"EQ Chg YA\",\"Any Promo $ Shr - CP CATEGORY\",\n",
    "        \"Any Promo $ Shr Chg YA - CP CATEGORY\",\"Units\",\"Units % Chg YA\",\"Units Chg YA\",\"Avg EQ Price\",\"Avg EQ Price % Chg YA\",\n",
    "        \"Avg EQ Price Chg YA\",\"% $ Any Promo\",\"% $ Any Promo Chg YA\",\"Base $\",\"Base $ Chg YA\",\"Incr $\",\"Incr $ Chg YA\"]\n",
    "\n",
    "Time_Period=list(ExecTool.columns[0:9])+list(ExecTool.columns[9:11])+list(ExecTool.columns[13:14])+list(ExecTool.columns[15:17])+list(ExecTool.columns[25:28])\n",
    "\n",
    "Share_Basis=[\"BAR\",\"BODYWASH\",\"LDL/DISHAIDS/WPS/FM/SPRAYS\",\"LIQUID\",\"LIQUID FS\",\"MANUAL\",\"MOUTHWASH\",\n",
    "             \"POWER\",\"POUR APC+WW\",\"TOOTHPASTE\",\"UAP\",\"ADD\"]\n",
    "\n",
    "print(\"Time Period is ->\\n\",Time_Period)"
   ]
  },
  {
   "cell_type": "code",
   "execution_count": null,
   "metadata": {},
   "outputs": [],
   "source": [
    "#filter data based on market, facts, time_period and share basis\n",
    "ExecTool=ExecTool[ExecTool['Markets'].isin(Market)]\n",
    "ExecTool=ExecTool[ExecTool['Facts'].isin(Fact)]\n",
    "ExecTool=ExecTool[ExecTool['ShareBasis'].isin(Share_Basis)]\n",
    "ExecTool=ExecTool[Time_Period]"
   ]
  },
  {
   "cell_type": "code",
   "execution_count": null,
   "metadata": {},
   "outputs": [],
   "source": [
    "ExecTool.head(3)"
   ]
  },
  {
   "cell_type": "code",
   "execution_count": null,
   "metadata": {},
   "outputs": [],
   "source": [
    "# sorting dataframe in markets, products, facts order\n",
    "ExecTool=ExecTool.sort_values(['Markets', 'Products','Facts'],ascending=[True,True,True])   \n",
    "\n",
    "# removing duplicates rows\n",
    "ExecTool.drop_duplicates(subset=\"Key\",keep='last',inplace=True)\n",
    "\n",
    "# replacing nan values from zero\n",
    "ExecTool.fillna(0,inplace=True)"
   ]
  },
  {
   "cell_type": "markdown",
   "metadata": {},
   "source": [
    "### 2(b) ExecToolkit xAOC and AHW Data"
   ]
  },
  {
   "cell_type": "code",
   "execution_count": null,
   "metadata": {},
   "outputs": [],
   "source": [
    "# filtering ExecTool dataframe for \"Total US xAOC\" market\n",
    "ExecTool_xAOC=ExecTool[ExecTool[\"Markets\"]==\"Total US xAOC\"]"
   ]
  },
  {
   "cell_type": "markdown",
   "metadata": {},
   "source": [
    "**Reading AHW Data**"
   ]
  },
  {
   "cell_type": "code",
   "execution_count": null,
   "metadata": {},
   "outputs": [],
   "source": [
    "AHW_Data=pd.read_excel(\"//falmumapp34/Nielsen Connect Transition & Maintenance (20-SCP-3650)/03. Raw Data/Connect Data/AHW Data/AHW_Data.xlsx\")"
   ]
  },
  {
   "cell_type": "markdown",
   "metadata": {},
   "source": [
    "**Removing unwanted characters from all the column names** and store them in a list ***new_col_names***"
   ]
  },
  {
   "cell_type": "code",
   "execution_count": null,
   "metadata": {},
   "outputs": [],
   "source": [
    "new_col_names=[]\n",
    "for i in AHW_Data.columns:\n",
    "    x=len(i)\n",
    "    if x<=17:\n",
    "        new_col_names.append(i)\n",
    "    elif i[:3]=='YTD':\n",
    "        new_col_names.append(i[:-16].strip('- '))\n",
    "    else:\n",
    "        new_col_names.append(i[:-14].strip('- '))\n",
    "\n",
    "# assigning new_col_names to AHW_Data\n",
    "AHW_Data.columns=new_col_names\n",
    "\n",
    "# assigning variables\n",
    "LM_column= list(AHW_Data.columns)\n",
    "time_connect=list(time_period_map[\"Connect Time Period\"])\n",
    "time_final=list(time_period_map[\"Final Name\"])\n",
    "\n",
    "# changing column names based on time_period_mapping\n",
    "new_column=[]\n",
    "for i in range(0,len(LM_column)):\n",
    "    for j in range(0,len(time_connect)):\n",
    "        if LM_column[i]==time_connect[j]:\n",
    "            new_column.append(time_final[j])\n",
    "\n",
    "#assigning new column names\n",
    "AHW_Data.columns = new_column"
   ]
  },
  {
   "cell_type": "code",
   "execution_count": null,
   "metadata": {},
   "outputs": [],
   "source": [
    "# Changing Column Name \"Periods\" to \"Facts\"\n",
    "AHW_Data.rename(columns={\"Periods\":\"Facts\"},inplace=True)\n",
    "\n",
    "# Creating \"Key\" column by conacatinating columns \"Markets\",\"Products\",\"Facts\"\n",
    "AHW_Data[\"Key\"]=AHW_Data[\"Markets\"]+AHW_Data[\"Products\"]+AHW_Data[\"Periods\"]\n",
    "\n",
    "# Sorting dataframe in markets, products, facts order\n",
    "AHW_Datal=AHW_Data.sort_values(['Markets', 'Products','Facts'],ascending=[True,True,True])   \n",
    "\n",
    "# Removing duplicates rows\n",
    "AHW_Data.drop_duplicates(subset=\"Key\",keep='last',inplace=True)"
   ]
  },
  {
   "cell_type": "markdown",
   "metadata": {},
   "source": [
    "Appending **ExecTool_xAOC** and **AHW_Data**"
   ]
  },
  {
   "cell_type": "code",
   "execution_count": null,
   "metadata": {},
   "outputs": [],
   "source": [
    "ExecTool_xAOC_AHW=pd.concat([ExecTool_xAOC,AHW_Data],axis=0)"
   ]
  },
  {
   "cell_type": "markdown",
   "metadata": {},
   "source": [
    "Exporting Data to the output folder"
   ]
  },
  {
   "cell_type": "code",
   "execution_count": null,
   "metadata": {},
   "outputs": [],
   "source": [
    "ExecTool_xAOC_AHW.to_csv(\"//falmumapp34/Nielsen Connect Transition & Maintenance (20-SCP-3650)/05. Output Data/Executive Toolkit_xAOC.csv\",index=False)"
   ]
  },
  {
   "cell_type": "markdown",
   "metadata": {},
   "source": [
    "### 2(c) MFR Sheet Executive Toolkit"
   ]
  },
  {
   "cell_type": "markdown",
   "metadata": {},
   "source": [
    "Making a copy of ***Line_Monthly_All*** and storing it in ***ExecTool***"
   ]
  },
  {
   "cell_type": "code",
   "execution_count": null,
   "metadata": {},
   "outputs": [],
   "source": [
    "MFR_Sheet= Line_Monthly_All.copy()"
   ]
  },
  {
   "cell_type": "markdown",
   "metadata": {},
   "source": [
    "We need **Manufacturer** Level data for **MFR Sheet Executive Toolkit.**\n",
    "\n",
    "**Removing all rows where SubBrand,Brand,Franchise level data is available** after that **removing SubBrand,Brand,Franchise column**"
   ]
  },
  {
   "cell_type": "code",
   "execution_count": null,
   "metadata": {},
   "outputs": [],
   "source": [
    "# Removing SubBrand,Brand,Franchise data\n",
    "MFR_Sheet=MFR_Sheet.loc[(MFR_Sheet[\"SubBrand\"]==\"\") & (MFR_Sheet[\"Brand\"]==\"\")&(MFR_Sheet[\"Franchise\"]==\"\")]\n",
    "\n",
    "# Removing SubBrand,Brand,Franchise column\n",
    "col=list(MFR_Sheet.columns)\n",
    "col.remove(\"SubBrand\")\n",
    "col.remove(\"Brand\")\n",
    "col.remove(\"Franchise\")\n",
    "MFR_Sheet = MFR_Sheet[col]\n",
    "\n",
    "# Showing Datafram\n",
    "MFR_Sheet.head(2)"
   ]
  },
  {
   "cell_type": "markdown",
   "metadata": {},
   "source": [
    "**Market, Facts, Time Period, ShareBasis and Products Selection for MFR Sheet Executive Toolkit**\n",
    "\n",
    "Filter all the data based on the below selections for MFR Sheet Executive Toolkit"
   ]
  },
  {
   "cell_type": "code",
   "execution_count": null,
   "metadata": {},
   "outputs": [],
   "source": [
    "Market =[\"Total US xAOC\"]\n",
    "\n",
    "Fact = [\"$ % Chg YA\",\"EQ % Chg YA\",\"Avg EQ Price % Chg YA\",\"$ Shr - CP CATEGORY\"]\n",
    "\n",
    "Time_Period=list(MFR_Sheet.columns[0:7])+list(MFR_Sheet.columns[7:12])+list(MFR_Sheet.columns[23:36])\n",
    "\n",
    "Share_Basis=[\"BAR\",\"BODYWASH\",\"BEAD FS\",\"BODYWASH\",\"FABRIC SOFTENERS\",\"LDL/DISHAIDS/WPS/FM/SPRAYS\",\"LIQUID\",\"LIQUID FS\",\"MANUAL\",\"MOUTHWASH\",\n",
    "             \"POWER\",\"POUR APC+WW\",\"TOOTHPASTE\",\"UAP\",\"ADD\"]\n",
    "\n",
    "print(\"Time Period is ->\\n\",Time_Period)"
   ]
  },
  {
   "cell_type": "code",
   "execution_count": null,
   "metadata": {},
   "outputs": [],
   "source": [
    "# filter data based on market, facts, time_period and share basis\n",
    "MFR_Sheet=MFR_Sheet[MFR_Sheet['Markets'].isin(Market)]\n",
    "MFR_Sheet=MFR_Sheet[MFR_Sheet['Facts'].isin(Fact)]\n",
    "MFR_Sheet=MFR_Sheet[MFR_Sheet['ShareBasis'].isin(Share_Basis)]\n",
    "MFR_Sheet=MFR_Sheet[Time_Period]"
   ]
  },
  {
   "cell_type": "code",
   "execution_count": null,
   "metadata": {},
   "outputs": [],
   "source": [
    "# sorting dataframe in markets, products, facts order\n",
    "MFR_Sheet=MFR_Sheet.sort_values(['Markets', 'Products','Facts'],ascending=[True,True,True]) \n",
    "\n",
    "# removing duplicates rows\n",
    "MFR_Sheet.drop_duplicates(subset=\"Key\",keep='last',inplace=True)\n",
    "\n",
    "# replacing nan values from zero\n",
    "MFR_Sheet.fillna(0,inplace=True)"
   ]
  },
  {
   "cell_type": "code",
   "execution_count": null,
   "metadata": {
    "scrolled": true
   },
   "outputs": [],
   "source": [
    "MFR_Sheet.head(2)"
   ]
  },
  {
   "cell_type": "markdown",
   "metadata": {},
   "source": [
    "Exporting Data to the output folder"
   ]
  },
  {
   "cell_type": "code",
   "execution_count": null,
   "metadata": {},
   "outputs": [],
   "source": [
    "MFR_Sheet.to_csv(\"//falmumapp34/Nielsen Connect Transition & Maintenance (20-SCP-3650)/05. Output Data/Executive Toolkit_Manu.csv\",index=False)"
   ]
  },
  {
   "cell_type": "markdown",
   "metadata": {},
   "source": [
    "### 2(d) Rolling Executive Toolkit Part1"
   ]
  },
  {
   "cell_type": "markdown",
   "metadata": {},
   "source": [
    "Making a copy of ***Line_Monthly_All*** and storing it in ***Roll***"
   ]
  },
  {
   "cell_type": "code",
   "execution_count": null,
   "metadata": {},
   "outputs": [],
   "source": [
    "Roll=Line_Monthly_All.copy()"
   ]
  },
  {
   "cell_type": "markdown",
   "metadata": {},
   "source": [
    "**Market, Facts, Time Period and ShareBasis Selection for Rolling Executive Toolkit**\n",
    "\n",
    "Filter all the data based on the below selections for Rolling Executive Toolkit"
   ]
  },
  {
   "cell_type": "code",
   "execution_count": null,
   "metadata": {},
   "outputs": [],
   "source": [
    "Market=[\"Total US xAOC\",\"Walmart Total US TA\",\"Target Total BM/FF TA\",\"Total US Food\",\"Total US Drug\",\n",
    "        \"CVS Total Corp WO HI TA\",\"Walgreens Total TA\",\"Sam's Total TA\",\"Family Dollar Total TA\",\"Dol Gen Total TA\",\n",
    "       \"Rite Aid - Corp Total TA\",\"Publix Total TA\",\"BJs Total TA\",\"Strategic Grocery\",\"REGIONAL GROCERY xLA\",\"CLUB\",\"VDC\"]\n",
    "\n",
    "Facts =[\"$\",\"$ Chg YA\",\"Base $\",\"Base $ Chg YA\",\"Incr $\",\"Incr $ Chg YA\"]\n",
    "\n",
    "ShareBasis=['ABRASIVE','BAR', 'BODYWASH', 'LDL/DISHAIDS/WPS/FM/SPRAYS', 'LIQUID', 'FABRIC SOFTENERS', 'MANUAL', 'MOUTHWASH',\n",
    "             'POUR APC+WW','PORTABLE TB', 'POWER', 'TOOTHPASTE',\"UAP\",\"ADD\"]\n",
    "\n",
    "OC=['TOOTHPASTE','MANUAL','POWER','PORTABLE TB','MOUTHWASH']\n",
    "PC=['BAR', 'BODYWASH','LIQUID','UAP']\n",
    "HC=[ 'LDL/DISHAIDS/WPS/FM/SPRAYS', 'LIQUID FS', 'POUR APC+WW','ADD','ABRASIVE']\n",
    "\n",
    "Time_Period=list(Roll.columns[10:11])+list(Roll.columns[14:15])+list(Roll.columns[16:18])+list(Roll.columns[26:29])\n",
    "print(Time_Period)\n"
   ]
  },
  {
   "cell_type": "code",
   "execution_count": null,
   "metadata": {},
   "outputs": [],
   "source": [
    "# filter data based on market, facts, time_period and share basis\n",
    "Roll_Cat=Roll.loc[(Roll[\"Manufacturer\"]==\"\") & (Roll[\"Franchise\"]==\"\") & (Roll[\"Brand\"]==\"\") & \n",
    "           (Roll[\"SubBrand\"]==\"\") & (Roll[\"Markets\"].isin(Market))& (Roll[\"Facts\"].isin(Facts)) &\n",
    "           (Roll[\"ShareBasis\"].isin(ShareBasis))]"
   ]
  },
  {
   "cell_type": "code",
   "execution_count": null,
   "metadata": {},
   "outputs": [],
   "source": [
    "# Deleting unwanted columns\n",
    "del Roll_Cat[\"Key\"]\n",
    "del Roll_Cat[\"Category\"]\n",
    "del Roll_Cat[\"Franchise\"]\n",
    "del Roll_Cat[\"Manufacturer\"]\n",
    "del Roll_Cat[\"Brand\"]\n",
    "del Roll_Cat[\"SubBrand\"]\n",
    "del Roll_Cat[\"Products\"]"
   ]
  },
  {
   "cell_type": "code",
   "execution_count": null,
   "metadata": {
    "scrolled": true
   },
   "outputs": [],
   "source": [
    "# Creating column \"Level\" based on column \"ShareBasis\"\n",
    "Roll_Cat[\"Level\"]= [\"OC\" if x in OC else (\"PC\" if x in PC else \"HC\") for x in Roll_Cat[\"ShareBasis\"]]\n",
    "\n",
    "# Moving column \"Level\" after column \"Markets\"\n",
    "Roll_Cat = movecol(Roll_Cat, \n",
    "             cols_to_move=['Level'], \n",
    "             ref_col='Markets',\n",
    "             place='After')"
   ]
  },
  {
   "cell_type": "markdown",
   "metadata": {},
   "source": [
    "**Rolling up all Facts** at **\"Markets\",\"Level\"** level and creating **calculated fact $ % Chg YA**"
   ]
  },
  {
   "cell_type": "code",
   "execution_count": null,
   "metadata": {},
   "outputs": [],
   "source": [
    "for i in range(0,len(Time_Period)):\n",
    "    \n",
    "    # groupby \"Markets\",\"Level\",\"Facts\" for each Time_Period as sum\n",
    "    df=Roll_Cat.groupby([\"Markets\",\"Level\",\"Facts\"])[Time_Period[i]].aggregate('sum').unstack()\n",
    "    df.reset_index(inplace=True)\n",
    "    \n",
    "    # calculate \"$ % Chg YA\"\n",
    "    df[\"$ % Chg YA\"]=(df[\"$ Chg YA\"]/(df[\"$\"]-df[\"$ Chg YA\"]))*100\n",
    "    \n",
    "    # pivot each Fact from columns to a row\n",
    "    df=pd.melt(df, id_vars =[\"Markets\",\"Level\"], value_vars =list(df.columns[2:])) \n",
    "    df.rename(columns={\"value\":Time_Period[i]},inplace=True)\n",
    "    \n",
    "    # merge dataframe for each time period on columns \n",
    "    if (i == 0):\n",
    "        Roll_Cat_final_1=df\n",
    "    else:\n",
    "        Roll_Cat_final_1=pd.merge(Roll_Cat_final_1,df,how='left',left_on=[\"Markets\",\"Level\",\"Facts\"],right_on=[\"Markets\",\"Level\",\"Facts\"])\n",
    "                "
   ]
  },
  {
   "cell_type": "markdown",
   "metadata": {},
   "source": [
    "**Rolling up all Facts** at **Market**  level and creating **calculated fact $ % Chg YA**"
   ]
  },
  {
   "cell_type": "code",
   "execution_count": null,
   "metadata": {},
   "outputs": [],
   "source": [
    "for i in range(0,len(Time_Period)):\n",
    "    \n",
    "    # groupby \"Markets\",\"Facts\" for each Time_Period as sum\n",
    "    df=Roll_Cat_final_1.groupby([\"Markets\",\"Facts\"])[Time_Period[i]].aggregate('sum').unstack()\n",
    "    df.reset_index(inplace=True)\n",
    "    \n",
    "    # calculate \"$ % Chg YA\"\n",
    "    df[\"$ % Chg YA\"]=(df[\"$ Chg YA\"]/(df[\"$\"]-df[\"$ Chg YA\"]))*100\n",
    "    \n",
    "    # pivot each Fact from columns to a row\n",
    "    df=pd.melt(df, id_vars =[\"Markets\"], value_vars =list(df.columns[1:])) \n",
    "    df.rename(columns={\"value\":Time_Period[i]},inplace=True)\n",
    "    \n",
    "    # merge dataframe for each time period on columns \n",
    "    if (i == 0):\n",
    "        Roll_Cat_final_2=df\n",
    "    else:\n",
    "        Roll_Cat_final_2=pd.merge(Roll_Cat_final_2,df,how='left',left_on=[\"Markets\",\"Facts\"],right_on=[\"Markets\",\"Facts\"])\n",
    "                "
   ]
  },
  {
   "cell_type": "code",
   "execution_count": null,
   "metadata": {},
   "outputs": [],
   "source": [
    "# Appending dataframes  Roll_Cat_final_1 and Roll_Cat_final_2\n",
    "Roll_Cat_final=pd.concat([Roll_Cat_final_1,Roll_Cat_final_2],axis=0,ignore_index=True)\n",
    "\n",
    "# Filling NaN values in \"Level\" column with \"Total\"( Toal includes all OC, PC, HC)\n",
    "Roll_Cat_final[\"Level\"].fillna(\"Total\",inplace=True)\n",
    "\n",
    "# Sorting the dataframe in order of \"Markets\",\"Level\" and \"Facts\"\n",
    "Roll_Cat_final.sort_values(['Markets', 'Level','Facts'],ascending=[True,True,True]) \n",
    "\n",
    "# Creating column \"Key\" as concat of \"Markets\",\"Level\" and \"Facts\"\n",
    "Roll_Cat_final[\"Key\"]=Roll_Cat_final[\"Markets\"]+Roll_Cat_final[\"Level\"]+Roll_Cat_final[\"Facts\"]\n",
    "\n",
    "# Moving column \"Key\" before column \"Markets\"\n",
    "Roll_Cat_final = movecol(Roll_Cat_final, \n",
    "             cols_to_move=['Key'], \n",
    "             ref_col='Markets',\n",
    "             place='Before')\n",
    "\n",
    "# Saving final dataframe in \"Executive_Roll_1\"\n",
    "Executive_Roll_1=Roll_Cat_final.copy()"
   ]
  },
  {
   "cell_type": "markdown",
   "metadata": {},
   "source": [
    "Exporting Data to the output folder"
   ]
  },
  {
   "cell_type": "code",
   "execution_count": null,
   "metadata": {},
   "outputs": [],
   "source": [
    "Roll_Cat_final.to_csv(\"//falmumapp34/Nielsen Connect Transition & Maintenance (20-SCP-3650)/05. Output Data\\Executive Toolkit RollUp Part1.csv\",index=False)"
   ]
  },
  {
   "cell_type": "markdown",
   "metadata": {},
   "source": [
    "### 2(e) Rolling Executive Toolkit Part2"
   ]
  },
  {
   "cell_type": "markdown",
   "metadata": {},
   "source": [
    "Making a copy of ***Line_Monthly_All*** and storing it in ***Roll***"
   ]
  },
  {
   "cell_type": "code",
   "execution_count": null,
   "metadata": {},
   "outputs": [],
   "source": [
    "Roll=Line_Monthly_All.copy()"
   ]
  },
  {
   "cell_type": "markdown",
   "metadata": {},
   "source": [
    "**Market, Facts, Time Period and ShareBasis Selection for Rolling Executive Toolkit**\n",
    "\n",
    "Filter all the data based on the below selections for Rolling Executive Toolkit"
   ]
  },
  {
   "cell_type": "code",
   "execution_count": null,
   "metadata": {},
   "outputs": [],
   "source": [
    "Market=[\"Total US xAOC\",\"Walmart Total US TA\",\"Target Total BM/FF TA\",\"Total US Food\",\"Total US Drug\",\n",
    "        \"CVS Total Corp WO HI TA\",\"Walgreens Total TA\",\"Sam's Total TA\",\"Family Dollar Total TA\",\"Dol Gen Total TA\",\n",
    "       \"Rite Aid - Corp Total TA\",\"Publix Total TA\",\"BJs Total TA\",\"Strategic Grocery\",\"REGIONAL GROCERY xLA\"]\n",
    "\n",
    "Facts =[\"$\",\"$ Chg YA\",\"Base $\",\"Base $ Chg YA\",\"Incr $\",\"Incr $ Chg YA\"]\n",
    "\n",
    "ShareBasis=['ABRASIVE','BAR', 'BODYWASH', 'LDL/DISHAIDS/WPS/FM/SPRAYS', 'LIQUID', 'FABRIC SOFTENERS', 'MANUAL', 'MOUTHWASH',\n",
    "             'POUR APC+WW','PORTABLE TB', 'POWER', 'TOOTHPASTE',\"UAP\",\"ADD\"]\n",
    "\n",
    "Time_Period=list(Roll.columns[10:11])+list(Roll.columns[14:15])+list(Roll.columns[16:18])+list(Roll.columns[26:29])\n",
    "print(Time_Period)\n",
    "\n",
    "OC=['TOOTHPASTE','MANUAL','POWER','PORTABLE TB','MOUTHWASH']\n",
    "PC=['BAR', 'BODYWASH','LIQUID','UAP']\n",
    "HC=[ 'LDL/DISHAIDS/WPS/FM/SPRAYS', 'LIQUID FS', 'POUR APC+WW','ADD','ABRASIVE']\n",
    "\n",
    "Manu=[\"COLGATE-PALMOLIVE\",\"P&G\"]"
   ]
  },
  {
   "cell_type": "code",
   "execution_count": null,
   "metadata": {},
   "outputs": [],
   "source": [
    "# filter data based on market, facts, time_period and share basis\n",
    "Roll_Cat=Roll.loc[(Roll[\"Manufacturer\"].isin(Manu)) & (Roll[\"Franchise\"]==\"\") & (Roll[\"Brand\"]==\"\") & \n",
    "           (Roll[\"SubBrand\"]==\"\") & (Roll[\"Markets\"].isin(Market))& (Roll[\"Facts\"].isin(Facts)) &\n",
    "           (Roll[\"ShareBasis\"].isin(ShareBasis))]"
   ]
  },
  {
   "cell_type": "code",
   "execution_count": null,
   "metadata": {},
   "outputs": [],
   "source": [
    "# Deleting unwanted columns\n",
    "del Roll_Cat[\"Key\"]\n",
    "del Roll_Cat[\"Category\"]\n",
    "del Roll_Cat[\"Franchise\"]\n",
    "del Roll_Cat[\"Brand\"]\n",
    "del Roll_Cat[\"SubBrand\"]\n",
    "del Roll_Cat[\"Products\"]"
   ]
  },
  {
   "cell_type": "code",
   "execution_count": null,
   "metadata": {
    "scrolled": true
   },
   "outputs": [],
   "source": [
    "# Creating column \"Level\" based on column \"ShareBasis\"\n",
    "Roll_Cat[\"Level\"]= [\"OC\" if x in OC else (\"PC\" if x in PC else \"HC\") for x in Roll_Cat[\"ShareBasis\"]]\n",
    "\n",
    "# Moving column \"Level\" after column \"Markets\"\n",
    "Roll_Cat = movecol(Roll_Cat, \n",
    "             cols_to_move=['Level'], \n",
    "             ref_col='Markets',\n",
    "             place='After')"
   ]
  },
  {
   "cell_type": "markdown",
   "metadata": {},
   "source": [
    "**Rolling up all Facts** at **\"Markets\",\"Level\",\"Manufacturer\"** level and creating **calculated fact $ % Chg YA**"
   ]
  },
  {
   "cell_type": "code",
   "execution_count": null,
   "metadata": {},
   "outputs": [],
   "source": [
    "for i in range(0,len(Time_Period)):\n",
    "    \n",
    "    # groupby \"Markets\",\"Level\",\"Manufacturer\",\"Facts\" for each Time_Period as sum\n",
    "    df=Roll_Cat.groupby([\"Markets\",\"Level\",\"Manufacturer\",\"Facts\"])[Time_Period[i]].aggregate('sum').unstack()\n",
    "    df.reset_index(inplace=True)\n",
    "     \n",
    "    # calculate \"$ % Chg YA\"\n",
    "    df[\"$ % Chg YA\"]=(df[\"$ Chg YA\"]/(df[\"$\"]-df[\"$ Chg YA\"]))*100\n",
    "    \n",
    "    # pivot each Fact from columns to a row\n",
    "    df=pd.melt(df, id_vars =[\"Markets\",\"Level\",\"Manufacturer\"], value_vars =list(df.columns[3:])) \n",
    "    df.rename(columns={\"value\":Time_Period[i]},inplace=True)\n",
    "    \n",
    "    # merge dataframe for each time period on columns \n",
    "    if (i == 0):\n",
    "        Roll_Cat_final_1=df\n",
    "    else:\n",
    "        Roll_Cat_final_1=pd.merge(Roll_Cat_final_1,df,how='left',left_on=[\"Markets\",\"Level\",\"Manufacturer\",\"Facts\"],right_on=[\"Markets\",\"Level\",\"Manufacturer\",\"Facts\"])\n",
    "                "
   ]
  },
  {
   "cell_type": "markdown",
   "metadata": {},
   "source": [
    "**Rolling up all Facts** at **\"Markets\",\"Manufacturer\"** level and creating **calculated fact $ % Chg YA**"
   ]
  },
  {
   "cell_type": "code",
   "execution_count": null,
   "metadata": {},
   "outputs": [],
   "source": [
    "for i in range(0,len(Time_Period)):\n",
    "    \n",
    "    # groupby \"Markets\",\"Manufacturer\",\"Facts\" for each Time_Period as sum\n",
    "    df=Roll_Cat_final_1.groupby([\"Markets\",\"Manufacturer\",\"Facts\"])[Time_Period[i]].aggregate('sum').unstack()\n",
    "    df.reset_index(inplace=True)\n",
    "    \n",
    "    # calculate \"$ % Chg YA\"\n",
    "    df[\"$ % Chg YA\"]=(df[\"$ Chg YA\"]/(df[\"$\"]-df[\"$ Chg YA\"]))*100\n",
    "\n",
    "    # pivot each Fact from columns to a row\n",
    "    df=pd.melt(df, id_vars =[\"Markets\",\"Manufacturer\"], value_vars =list(df.columns[2:])) \n",
    "    df.rename(columns={\"value\":Time_Period[i]},inplace=True)\n",
    "    \n",
    "    # merge dataframe for each time period on columns\n",
    "    if (i == 0):\n",
    "        Roll_Cat_final_2=df\n",
    "    else:\n",
    "        Roll_Cat_final_2=pd.merge(Roll_Cat_final_2,df,how='left',left_on=[\"Markets\",\"Manufacturer\",\"Facts\"],right_on=[\"Markets\",\"Manufacturer\",\"Facts\"])\n",
    "                "
   ]
  },
  {
   "cell_type": "code",
   "execution_count": null,
   "metadata": {},
   "outputs": [],
   "source": [
    "# Appending dataframes  Roll_Cat_final_1 and Roll_Cat_final_2\n",
    "Roll_Cat_final=pd.concat([Roll_Cat_final_1,Roll_Cat_final_2],axis=0,ignore_index=True)\n",
    "\n",
    "# Filling NaN values in \"Level\" column with \"Total\"( Toal includes all OC, PC, HC)\n",
    "Roll_Cat_final[\"Level\"].fillna(\"Total\",inplace=True)\n",
    "\n",
    "# Sorting the dataframe in order of \"Markets\",\"Level\" and \"Facts\"\n",
    "Roll_Cat_final.sort_values(['Markets', 'Level','Facts'],ascending=[True,True,True]) \n",
    "\n",
    "# Creating column \"Key\" as concat of \"Markets\",\"Level\" and \"Facts\"\n",
    "Roll_Cat_final[\"Key\"]=Roll_Cat_final[\"Markets\"]+Roll_Cat_final[\"Level\"]+Roll_Cat_final[\"Manufacturer\"]+Roll_Cat_final[\"Facts\"]\n",
    "\n",
    "# Moving column \"Key\" before column \"Markets\"\n",
    "Roll_Cat_final = movecol(Roll_Cat_final, \n",
    "             cols_to_move=['Key'], \n",
    "             ref_col='Markets',\n",
    "             place='Before')\n",
    "# Saving final dataframe in \"Executive_Roll_2\"\n",
    "Executive_Roll_2=Roll_Cat_final.copy()"
   ]
  },
  {
   "cell_type": "markdown",
   "metadata": {},
   "source": [
    "Exporting Data to the output folder"
   ]
  },
  {
   "cell_type": "code",
   "execution_count": null,
   "metadata": {},
   "outputs": [],
   "source": [
    "Roll_Cat_final.to_csv(\"//falmumapp34/Nielsen Connect Transition & Maintenance (20-SCP-3650)/05. Output Data\\Executive Toolkit RollUp Part2.csv\",index=False)"
   ]
  },
  {
   "cell_type": "markdown",
   "metadata": {},
   "source": [
    "### 2(f) Adding Roll UP Data in Executive ToolkitData"
   ]
  },
  {
   "cell_type": "code",
   "execution_count": null,
   "metadata": {},
   "outputs": [],
   "source": [
    "# Changing column \"Level\" name with \"Products\" for dataframes Executive_Roll_1 and Executive_Roll_2\n",
    "Executive_Roll_1.rename(columns={\"Level\":\"Products\"},inplace=True)\n",
    "Executive_Roll_2.rename(columns={\"Level\":\"Products\"},inplace=True)\n",
    "\n",
    "# Appending Dataframe ExecTool,Executive_Roll_1,Executive_Roll_2\n",
    "ExecTool_All = pd.concat([ExecTool,Executive_Roll_1,Executive_Roll_2],axis=0,ignore_index=True)"
   ]
  },
  {
   "cell_type": "markdown",
   "metadata": {},
   "source": [
    "Exporting Data to the output folder"
   ]
  },
  {
   "cell_type": "code",
   "execution_count": null,
   "metadata": {},
   "outputs": [],
   "source": [
    "ExecTool_All.to_csv(\"//falmumapp34/Nielsen Connect Transition & Maintenance (20-SCP-3650)/05. Output Data\\Executive_Toolkit_All.csv\",index=False)"
   ]
  },
  {
   "cell_type": "markdown",
   "metadata": {},
   "source": [
    " "
   ]
  },
  {
   "cell_type": "markdown",
   "metadata": {},
   "source": [
    "## 3. Executive Summary"
   ]
  },
  {
   "cell_type": "markdown",
   "metadata": {},
   "source": [
    "### 3(a) Executive Summary"
   ]
  },
  {
   "cell_type": "markdown",
   "metadata": {},
   "source": [
    "Making a copy of ***Line_Monthly_All*** and storing it in ***ExecSumm***"
   ]
  },
  {
   "cell_type": "code",
   "execution_count": null,
   "metadata": {},
   "outputs": [],
   "source": [
    "ExecSumm = Line_Monthly_All.copy()"
   ]
  },
  {
   "cell_type": "markdown",
   "metadata": {},
   "source": [
    "We need **Franchise** Level data for **Executive Summary.**\n",
    "\n",
    "**Removing all rows where SubBrand,Brand level data is available** after that **removing SubBrand,Brand column**"
   ]
  },
  {
   "cell_type": "code",
   "execution_count": null,
   "metadata": {},
   "outputs": [],
   "source": [
    "# removing brand data\n",
    "ExecSumm.reset_index(drop=True,inplace=True)\n",
    "index_names=ExecSumm[ExecSumm[\"Brand\"]!=\"\"].index\n",
    "ExecSumm.drop(index_names,inplace=True)\n",
    "\n",
    "# removing subbrand data\n",
    "ExecSumm.reset_index(drop=True,inplace=True)\n",
    "index_names=ExecSumm[ExecSumm[\"SubBrand\"]!=\"\"].index\n",
    "ExecSumm.drop(index_names,inplace=True)\n",
    "\n",
    "# removing brand,subbrand column\n",
    "col=list(ExecSumm.columns)\n",
    "col.remove(\"Brand\")\n",
    "col.remove(\"SubBrand\")\n",
    "ExecSumm = ExecSumm[col]\n",
    "\n",
    "# showing dataframe ExecTool\n",
    "ExecSumm.head(2)"
   ]
  },
  {
   "cell_type": "markdown",
   "metadata": {},
   "source": [
    "**Market, Facts, Time Period, ShareBasis and Products Selection for Executive Summary**\n",
    "\n",
    "Filter all the data based on the below selections for Executive Summary"
   ]
  },
  {
   "cell_type": "code",
   "execution_count": null,
   "metadata": {},
   "outputs": [],
   "source": [
    "Market =[\"CLUB\",\"Total US Drug\",\"Target Total BM/FF TA\",\"Total US Food\",\"Total US xAOC\",\"VDC\",\"Walmart Total US TA\",'Walgreens Total TA',\"Rite Aid - Corp Total TA\",\"Sam's Total TA\",\"BJs Total TA\",\"Family Dollar Total TA\"]\n",
    "\n",
    "Fact = [\"$\",\"$ % Chg YA\",\"$ Chg YA\",'EQ','EQ % Chg YA',\"$ Shr - CP CATEGORY\",\"$ Shr Chg YA - CP CATEGORY\",\"EQ Shr - CP CATEGORY\"\n",
    "       ,\"EQ Shr Chg YA - CP CATEGORY\",\"Avg EQ Price\",\"Avg EQ Price Chg YA\"]\n",
    "\n",
    "Time_Period=list(ExecSumm.columns[0:8])+list(ExecSumm.columns[8:11])+list(ExecSumm.columns[12:14])+list(ExecSumm.columns[16:36])\n",
    "\n",
    "Share_Basis=[\"ABRASIVE\",\"BAR\",\"BODYWASH\",\"FABRIC SOFTENERS\",\"LDL/DISHAIDS/WPS/FM/SPRAYS\",\"LIQUID\",\"LIQUID FS\",\"MANUAL\",\"MOUTHWASH\",\n",
    "             \"POWER\",\"PORTABLE TB\",\"POUR APC+WW\",\"SHEETS\",\"SCENT BOOSTERS\",\"TOOTHPASTE\",\"UAP\",\"ADD\"]\n",
    "\n",
    "print(\"Time Period is ->\\n\",Time_Period)"
   ]
  },
  {
   "cell_type": "code",
   "execution_count": null,
   "metadata": {},
   "outputs": [],
   "source": [
    "#filter data based on market, facts, time_period and share basis\n",
    "ExecSumm=ExecSumm[ExecSumm['Markets'].isin(Market)]\n",
    "ExecSumm=ExecSumm[ExecSumm['Facts'].isin(Fact)]\n",
    "ExecSumm=ExecSumm[ExecSumm['ShareBasis'].isin(Share_Basis)]\n",
    "ExecSumm=ExecSumm[Time_Period]"
   ]
  },
  {
   "cell_type": "code",
   "execution_count": null,
   "metadata": {},
   "outputs": [],
   "source": [
    "# sorting dataframe in markets, products, facts order\n",
    "ExecSumm=ExecSumm.sort_values(['Markets', 'Products','Facts'],ascending=[True,True,True]) \n",
    "\n",
    "# removing duplicates rows\n",
    "ExecSumm.drop_duplicates(subset=\"Key\",keep='last',inplace=True)\n",
    "\n",
    "# replacing nan values from zero\n",
    "ExecSumm.fillna(0,inplace=True)"
   ]
  },
  {
   "cell_type": "markdown",
   "metadata": {},
   "source": [
    "Exporting Data to the output folder"
   ]
  },
  {
   "cell_type": "code",
   "execution_count": null,
   "metadata": {},
   "outputs": [],
   "source": [
    "ExecSumm.to_csv(\"//falmumapp34/Nielsen Connect Transition & Maintenance (20-SCP-3650)/05. Output Data/Executive Summary.csv\",index=False)"
   ]
  },
  {
   "cell_type": "markdown",
   "metadata": {},
   "source": [
    "### 3(b) Rolling Executive Summary Part1"
   ]
  },
  {
   "cell_type": "markdown",
   "metadata": {},
   "source": [
    "Making a copy of ***Line_Monthly_All*** and storing it in ***Roll***"
   ]
  },
  {
   "cell_type": "code",
   "execution_count": null,
   "metadata": {},
   "outputs": [],
   "source": [
    "Roll= Line_Monthly_All.copy()"
   ]
  },
  {
   "cell_type": "markdown",
   "metadata": {},
   "source": [
    "**Market, Facts, Time Period and ShareBasis Selection for Rolling Executive Summary**\n",
    "\n",
    "Filter all the data based on the below selections for Rolling Executive Summary"
   ]
  },
  {
   "cell_type": "code",
   "execution_count": null,
   "metadata": {
    "scrolled": false
   },
   "outputs": [],
   "source": [
    "Market=[\"Total US xAOC\",\"Total US Drug\",\"Total US Food\",\"Walmart Total US TA\",\"Target Total BM/FF TA\",\n",
    "        \"TOTAL MASS\",\"VDC\",\"CLUB\",'FDM']\n",
    "\n",
    "ShareBasis=['BAR', 'BODYWASH', 'LDL/DISHAIDS/WPS/FM/SPRAYS', 'LIQUID', 'FABRIC SOFTENERS', 'MANUAL', 'MOUTHWASH',\n",
    "             'POUR APC+WW', 'POWER', 'TOOTHPASTE',\"UAP\"]\n",
    "\n",
    "Core_Category=['BAR', 'BODYWASH', 'LDL/DISHAIDS/WPS/FM/SPRAYS', 'LIQUID', 'LIQ FS', 'MANUAL', 'MOUTHWASH',\n",
    "             'POUR APC+WW', 'POWER', 'TOOTHPASTE',\"UAP\"]\n",
    "\n",
    "Adjacent_Category =[\"ABRASIVE\",\"SCENT BOOSTERS\",\"SHEETS\",\"PORTABLE\",\"ADD\"]\n",
    "\n",
    "Facts =[\"$\",\"$ Chg YA\",\"EQ\",\"EQ Chg YA\"]\n",
    "\n",
    "Time_Period=list(Roll.columns[10:12])+list(Roll.columns[14:15])+list(Roll.columns[18:39])\n",
    "\n",
    "print(\"Time Period ->\\n\", len(Time_Period),'\\n',Time_Period)"
   ]
  },
  {
   "cell_type": "markdown",
   "metadata": {},
   "source": [
    "#### 3(b).1  Roll up for ShareBasis"
   ]
  },
  {
   "cell_type": "code",
   "execution_count": null,
   "metadata": {},
   "outputs": [],
   "source": [
    "# filter data based on market, facts, time_period and share basis\n",
    "Roll_Market=Roll.loc[(Roll[\"Manufacturer\"]==\"\") & (Roll[\"Franchise\"]==\"\") & (Roll[\"Brand\"]==\"\") & \n",
    "           (Roll[\"SubBrand\"]==\"\") & (Roll[\"Markets\"].isin(Market))& (Roll[\"Facts\"].isin(Facts)) &\n",
    "           (Roll[\"ShareBasis\"].isin(ShareBasis))]"
   ]
  },
  {
   "cell_type": "code",
   "execution_count": null,
   "metadata": {},
   "outputs": [],
   "source": [
    "# Deleting unwanted columns\n",
    "del Roll_Market[\"Key\"]\n",
    "del Roll_Market[\"Category\"]\n",
    "del Roll_Market[\"Manufacturer\"]\n",
    "del Roll_Market[\"Franchise\"]\n",
    "del Roll_Market[\"Brand\"]\n",
    "del Roll_Market[\"SubBrand\"]\n",
    "del Roll_Market[\"Products\"]"
   ]
  },
  {
   "cell_type": "markdown",
   "metadata": {},
   "source": [
    "**Rolling up all Facts** at **\"Markets\"** level and creating **calculated facts** ***$ % Chg YA*** and ***EQ % Chg YA***"
   ]
  },
  {
   "cell_type": "code",
   "execution_count": null,
   "metadata": {},
   "outputs": [],
   "source": [
    "for i in range(0,len(Time_Period)):\n",
    "    \n",
    "    # groupby \"Markets\",\"Facts\" for each Time_Period as sum\n",
    "    df=Roll_Market.groupby([\"Markets\",\"Facts\"])[Time_Period[i]].aggregate('sum').unstack()\n",
    "    df.reset_index(inplace=True)\n",
    "\n",
    "    # calculate \"$ % Chg YA\"\n",
    "    df[\"$ % Chg YA\"]=(df[\"$ Chg YA\"]/(df[\"$\"]-df[\"$ Chg YA\"]))*100\n",
    "    # calculate \"EQ % Chg YA\"\n",
    "    df[\"EQ % Chg YA\"]=(df[\"EQ Chg YA\"]/(df[\"EQ\"]-df[\"EQ Chg YA\"]))*100\n",
    "    \n",
    "    # pivot each Fact from columns to a row\n",
    "    df=pd.melt(df, id_vars =\"Markets\", value_vars =list(df.columns[1:])) \n",
    "    df.rename(columns={\"value\":Time_Period[i]},inplace=True)\n",
    "    \n",
    "    # merge dataframe for each time period on columns \n",
    "    if (i == 0):\n",
    "        Roll_Market_final_1=df\n",
    "    else:\n",
    "        Roll_Market_final_1=pd.merge(Roll_Market_final_1,df,how='left',left_on=[\"Markets\",\"Facts\"],right_on=[\"Markets\",\"Facts\"])        \n",
    "\n",
    "# Creting column \"Level\"\n",
    "Roll_Market_final_1[\"Level\"]=\"Total Category\""
   ]
  },
  {
   "cell_type": "markdown",
   "metadata": {},
   "source": [
    "#### 3(b).2 Roll up for Core_Category"
   ]
  },
  {
   "cell_type": "code",
   "execution_count": null,
   "metadata": {},
   "outputs": [],
   "source": [
    "# filter data based on market, facts, time_period and core_category\n",
    "Roll_Market=Roll.loc[(Roll[\"Manufacturer\"]==\"\") & (Roll[\"Franchise\"]==\"\") & (Roll[\"Brand\"]==\"\") & \n",
    "           (Roll[\"SubBrand\"]==\"\") & (Roll[\"Markets\"].isin(Market))& (Roll[\"Facts\"].isin(Facts)) &\n",
    "           (Roll[\"ShareBasis\"].isin(Core_Category))]\n"
   ]
  },
  {
   "cell_type": "code",
   "execution_count": null,
   "metadata": {},
   "outputs": [],
   "source": [
    "# Deleting unwanted columns\n",
    "del Roll_Market[\"Key\"]\n",
    "del Roll_Market[\"Category\"]\n",
    "del Roll_Market[\"Manufacturer\"]\n",
    "del Roll_Market[\"Franchise\"]\n",
    "del Roll_Market[\"Brand\"]\n",
    "del Roll_Market[\"SubBrand\"]\n",
    "del Roll_Market[\"Products\"]"
   ]
  },
  {
   "cell_type": "markdown",
   "metadata": {},
   "source": [
    "**Rolling up all Facts** at **\"Markets\"** level and creating **calculated facts** ***$ % Chg YA*** and ***EQ % Chg YA***"
   ]
  },
  {
   "cell_type": "code",
   "execution_count": null,
   "metadata": {},
   "outputs": [],
   "source": [
    "for i in range(0,len(Time_Period)):\n",
    "    \n",
    "    # groupby \"Markets\",\"Facts\" for each Time_Period as sum\n",
    "    df=Roll_Market.groupby([\"Markets\",\"Facts\"])[Time_Period[i]].aggregate('sum').unstack()\n",
    "    df.reset_index(inplace=True)\n",
    "    \n",
    "    # calculate \"$ % Chg YA\"\n",
    "    df[\"$ % Chg YA\"]=(df[\"$ Chg YA\"]/(df[\"$\"]-df[\"$ Chg YA\"]))*100\n",
    "    # calculate \"EQ % Chg YA\"\n",
    "    df[\"EQ % Chg YA\"]=(df[\"EQ Chg YA\"]/(df[\"EQ\"]-df[\"EQ Chg YA\"]))*100\n",
    "    \n",
    "    # pivot each Fact from columns to a row\n",
    "    df=pd.melt(df, id_vars =\"Markets\", value_vars =list(df.columns[1:])) \n",
    "    df.rename(columns={\"value\":Time_Period[i]},inplace=True)\n",
    "    \n",
    "    # merge dataframe for each time period on columns \n",
    "    if (i == 0):\n",
    "        Roll_Market_final_2=df\n",
    "    else:\n",
    "        Roll_Market_final_2=pd.merge(Roll_Market_final_2,df,how='left',left_on=[\"Markets\",\"Facts\"],right_on=[\"Markets\",\"Facts\"])\n",
    "        \n",
    "# Creting column \"Level\"\n",
    "Roll_Market_final_2[\"Level\"]=\"Core Category\""
   ]
  },
  {
   "cell_type": "markdown",
   "metadata": {},
   "source": [
    "#### 3(b).3 Roll up for Adjacent_Category"
   ]
  },
  {
   "cell_type": "code",
   "execution_count": null,
   "metadata": {},
   "outputs": [],
   "source": [
    "# filter data based on market, facts, time_period and adjacent_category\n",
    "Roll_Market=Roll.loc[(Roll[\"Manufacturer\"]==\"\") & (Roll[\"Franchise\"]==\"\") & (Roll[\"Brand\"]==\"\") & \n",
    "           (Roll[\"SubBrand\"]==\"\") & (Roll[\"Markets\"].isin(Market))& (Roll[\"Facts\"].isin(Facts)) &\n",
    "           (Roll[\"ShareBasis\"].isin(Adjacent_Category))]\n"
   ]
  },
  {
   "cell_type": "code",
   "execution_count": null,
   "metadata": {},
   "outputs": [],
   "source": [
    "# Deleting unwanted columns\n",
    "del Roll_Market[\"Key\"]\n",
    "del Roll_Market[\"Category\"]\n",
    "del Roll_Market[\"Manufacturer\"]\n",
    "del Roll_Market[\"Franchise\"]\n",
    "del Roll_Market[\"Brand\"]\n",
    "del Roll_Market[\"SubBrand\"]\n",
    "del Roll_Market[\"Products\"]"
   ]
  },
  {
   "cell_type": "markdown",
   "metadata": {},
   "source": [
    "**Rolling up all Facts** at **\"Markets\"** level and creating **calculated facts** ***$ % Chg YA*** and ***EQ % Chg YA***"
   ]
  },
  {
   "cell_type": "code",
   "execution_count": null,
   "metadata": {},
   "outputs": [],
   "source": [
    "for i in range(0,len(Time_Period)):\n",
    "    \n",
    "    # groupby \"Markets\",\"Facts\" for each Time_Period as sum\n",
    "    df=Roll_Market.groupby([\"Markets\",\"Facts\"])[Time_Period[i]].aggregate('sum').unstack()\n",
    "    df.reset_index(inplace=True)\n",
    "\n",
    "    # calculate \"$ % Chg YA\"\n",
    "    df[\"$ % Chg YA\"]=(df[\"$ Chg YA\"]/(df[\"$\"]-df[\"$ Chg YA\"]))*100\n",
    "    # calculate \"EQ % Chg YA\"\n",
    "    df[\"EQ % Chg YA\"]=(df[\"EQ Chg YA\"]/(df[\"EQ\"]-df[\"EQ Chg YA\"]))*100\n",
    "    \n",
    "    # pivot each Fact from columns to a row\n",
    "    df=pd.melt(df, id_vars =\"Markets\", value_vars =list(df.columns[1:])) \n",
    "    df.rename(columns={\"value\":Time_Period[i]},inplace=True)\n",
    "    \n",
    "    # merge dataframe for each time period on columns\n",
    "    if (i == 0):\n",
    "        Roll_Market_final_3=df\n",
    "    else:\n",
    "        Roll_Market_final_3=pd.merge(Roll_Market_final_3,df,how='left',left_on=[\"Markets\",\"Facts\"],right_on=[\"Markets\",\"Facts\"])\n",
    "\n",
    "# Creting column \"Level\"  \n",
    "Roll_Market_final_3[\"Level\"]=\"Adjacent Category\""
   ]
  },
  {
   "cell_type": "code",
   "execution_count": null,
   "metadata": {
    "scrolled": true
   },
   "outputs": [],
   "source": [
    "# concat all three Rollup files\n",
    "Roll_Market_final=pd.concat([Roll_Market_final_1,Roll_Market_final_2,Roll_Market_final_3],axis=0,ignore_index=True)\n",
    "\n",
    "# moving column \"Level\" after column \"Markets\"\n",
    "Roll_Market_final = movecol(Roll_Market_final, \n",
    "             cols_to_move=['Level'], \n",
    "             ref_col='Markets',\n",
    "             place='After')\n",
    "\n",
    "# creating column \"Key\" by concatinating \"Markets\",\"Level\",\"Facts\"\n",
    "Roll_Market_final[\"Key\"]=Roll_Market_final[\"Markets\"]+Roll_Market_final[\"Level\"]+Roll_Market_final[\"Facts\"]\n",
    "\n",
    "# moving column \"Key\" before column \"Markets\"\n",
    "Roll_Market_final = movecol(Roll_Market_final, \n",
    "             cols_to_move=['Key'], \n",
    "             ref_col='Markets',\n",
    "             place='Before')\n",
    "\n",
    "# Creating column \"Manufacturer\"\n",
    "Roll_Market_final[\"Manufacturer\"]=\"\"\n",
    "\n",
    "# Moving column \"Manufacturer\" before column \"Facts\"\n",
    "Roll_Market_final = movecol(Roll_Market_final, \n",
    "             cols_to_move=['Manufacturer'], \n",
    "             ref_col='Facts',\n",
    "             place='Before')\n",
    "\n",
    "# Sorting the dataframe in order of \"Markets\",\"Level\" and \"Facts\"\n",
    "Roll_Market_final.sort_values(['Markets', 'Level','Facts'],ascending=[True,True,True]) "
   ]
  },
  {
   "cell_type": "markdown",
   "metadata": {},
   "source": [
    "Exporting Data to the output folder"
   ]
  },
  {
   "cell_type": "code",
   "execution_count": null,
   "metadata": {},
   "outputs": [],
   "source": [
    "Roll_Market_final.to_csv(\"//falmumapp34/Nielsen Connect Transition & Maintenance (20-SCP-3650)/05. Output Data\\Executive Summary RollUp Part1.csv\",index=False)"
   ]
  },
  {
   "cell_type": "markdown",
   "metadata": {},
   "source": [
    "### 3(c) Rolling Executive Summary Part 2"
   ]
  },
  {
   "cell_type": "markdown",
   "metadata": {},
   "source": [
    "Making a copy of ***Line_Monthly_All*** and storing it in ***Roll***"
   ]
  },
  {
   "cell_type": "code",
   "execution_count": null,
   "metadata": {},
   "outputs": [],
   "source": [
    "Roll=Line_Monthly_All.copy()"
   ]
  },
  {
   "cell_type": "markdown",
   "metadata": {},
   "source": [
    "**Market, Facts, Time Period and ShareBasis Selection for Rolling Executive Summary**\n",
    "\n",
    "Filter all the data based on the below selections for Rolling Executive Summary"
   ]
  },
  {
   "cell_type": "code",
   "execution_count": null,
   "metadata": {},
   "outputs": [],
   "source": [
    "Market=[\"Total US xAOC\",\"Total US Drug\",\"Total US Food\",\"Walmart Total US TA\",\"Target Total BM/FF TA\",\n",
    "        \"TOTAL MASS\",\"VDC\",\"CLUB\",'FDM']\n",
    "ShareBasis=['BAR', 'BODYWASH', 'LDL/DISHAIDS/WPS/FM/SPRAYS', 'LIQUID', 'FABRIC SOFTENERS', 'MANUAL', 'MOUTHWASH',\n",
    "             'POUR APC+WW', 'POWER', 'TOOTHPASTE']\n",
    "\n",
    "Facts =[\"$\",\"$ Chg YA\",\"EQ\",\"EQ Chg YA\"]\n",
    "\n",
    "Time_Period=list(Roll.columns[10:12])+list(Roll.columns[14:15])+list(Roll.columns[18:39])\n",
    "print(Time_Period)\n",
    "\n",
    "OC=['TOOTHPASTE','MANUAL','POWER','MOUTHWASH']\n",
    "PC=['BAR', 'BODYWASH','LIQUID']\n",
    "HC=[ 'LDL/DISHAIDS/WPS/FM/SPRAYS', 'LIQUID FS', 'POUR APC+WW']\n"
   ]
  },
  {
   "cell_type": "code",
   "execution_count": null,
   "metadata": {},
   "outputs": [],
   "source": [
    "# filter data based on market, facts, time_period and share basis\n",
    "Roll_Cat=Roll.loc[(Roll[\"Manufacturer\"]==\"\") & (Roll[\"Franchise\"]==\"\") & (Roll[\"Brand\"]==\"\") & \n",
    "           (Roll[\"SubBrand\"]==\"\") & (Roll[\"Markets\"].isin(Market))& (Roll[\"Facts\"].isin(Facts)) &\n",
    "           (Roll[\"ShareBasis\"].isin(ShareBasis))]"
   ]
  },
  {
   "cell_type": "code",
   "execution_count": null,
   "metadata": {},
   "outputs": [],
   "source": [
    "# Deleting unwanted columns\n",
    "del Roll_Cat[\"Key\"]\n",
    "del Roll_Cat[\"Category\"]\n",
    "del Roll_Cat[\"Franchise\"]\n",
    "del Roll_Cat[\"Manufacturer\"]\n",
    "del Roll_Cat[\"Brand\"]\n",
    "del Roll_Cat[\"SubBrand\"]\n",
    "del Roll_Cat[\"Products\"]"
   ]
  },
  {
   "cell_type": "code",
   "execution_count": null,
   "metadata": {
    "scrolled": true
   },
   "outputs": [],
   "source": [
    "# Creating column \"Level\" based on column \"ShareBasis\"\n",
    "Roll_Cat[\"Level\"]= [\"OC\" if x in OC else (\"PC\" if x in PC else \"HC\") for x in Roll_Cat[\"ShareBasis\"]]\n",
    "\n",
    "# Moving column \"Level\" after column \"Markets\"\n",
    "Roll_Cat = movecol(Roll_Cat, \n",
    "             cols_to_move=['Level'], \n",
    "             ref_col='Markets',\n",
    "             place='After')"
   ]
  },
  {
   "cell_type": "markdown",
   "metadata": {},
   "source": [
    "**Rolling up all Facts** at **\"Markets\",\"Level\"** level and creating **calculated fact $ % Chg YA and EQ % Chg YA**"
   ]
  },
  {
   "cell_type": "code",
   "execution_count": null,
   "metadata": {},
   "outputs": [],
   "source": [
    "for i in range(0,len(Time_Period)):\n",
    "    \n",
    "    # groupby \"Markets\",\"Facts\" for each Time_Period as sum\n",
    "    df=Roll_Cat.groupby([\"Markets\",\"Level\",\"Facts\"])[Time_Period[i]].aggregate('sum').unstack()\n",
    "    df.reset_index(inplace=True)\n",
    "    \n",
    "    # calculate \"$ % Chg YA\"\n",
    "    df[\"$ % Chg YA\"]=(df[\"$ Chg YA\"]/(df[\"$\"]-df[\"$ Chg YA\"]))*100\n",
    "    # calculate \"EQ % Chg YA\"\n",
    "    df[\"EQ % Chg YA\"]=(df[\"EQ Chg YA\"]/(df[\"EQ\"]-df[\"EQ Chg YA\"]))*100\n",
    "    \n",
    "    # pivot each Fact from columns to a row\n",
    "    df=pd.melt(df, id_vars =[\"Markets\",\"Level\"], value_vars =list(df.columns[2:])) \n",
    "    df.rename(columns={\"value\":Time_Period[i]},inplace=True)\n",
    "    \n",
    "    # merge dataframe for each time period on columns \n",
    "    if (i == 0):\n",
    "        Roll_Cat_final_1=df\n",
    "    else:\n",
    "        Roll_Cat_final_1=pd.merge(Roll_Cat_final_1,df,how='left',left_on=[\"Markets\",\"Level\",\"Facts\"],right_on=[\"Markets\",\"Level\",\"Facts\"])\n",
    "                "
   ]
  },
  {
   "cell_type": "markdown",
   "metadata": {},
   "source": [
    "**Rolling up all Facts** at **\"Markets\"** level and creating **calculated fact $ % Chg YA and EQ % Chg YA**"
   ]
  },
  {
   "cell_type": "code",
   "execution_count": null,
   "metadata": {},
   "outputs": [],
   "source": [
    "for i in range(0,len(Time_Period)):\n",
    "    \n",
    "    # groupby \"Markets\",\"Facts\" for each Time_Period as sum\n",
    "    df=Roll_Cat_final_1.groupby([\"Markets\",\"Facts\"])[Time_Period[i]].aggregate('sum').unstack()\n",
    "    df.reset_index(inplace=True)\n",
    "    \n",
    "    # calculate \"$ % Chg YA\"\n",
    "    df[\"$ % Chg YA\"]=(df[\"$ Chg YA\"]/(df[\"$\"]-df[\"$ Chg YA\"]))*100\n",
    "    # calculate \"EQ % Chg YA\"\n",
    "    df[\"EQ % Chg YA\"]=(df[\"EQ Chg YA\"]/(df[\"EQ\"]-df[\"EQ Chg YA\"]))*100\n",
    "    \n",
    "    # pivot each Fact from columns to a row\n",
    "    df=pd.melt(df, id_vars =[\"Markets\"], value_vars =list(df.columns[1:])) \n",
    "    df.rename(columns={\"value\":Time_Period[i]},inplace=True)\n",
    "    \n",
    "    # merge dataframe for each time period on columns\n",
    "    if (i == 0):\n",
    "        Roll_Cat_final_2=df\n",
    "    else:\n",
    "        Roll_Cat_final_2=pd.merge(Roll_Cat_final_2,df,how='left',left_on=[\"Markets\",\"Facts\"],right_on=[\"Markets\",\"Facts\"])\n",
    "                "
   ]
  },
  {
   "cell_type": "code",
   "execution_count": null,
   "metadata": {},
   "outputs": [],
   "source": [
    "# Appending dataframes  Roll_Cat_final_1 and Roll_Cat_final_2\n",
    "Roll_Cat_final=pd.concat([Roll_Cat_final_1,Roll_Cat_final_2],axis=0,ignore_index=True)\n",
    "\n",
    "# Filling NaN values in \"Level\" column with \"Total\"\n",
    "Roll_Cat_final[\"Level\"].fillna(\"Total\",inplace=True)\n",
    "\n",
    "# Sorting the dataframe in order of \"Markets\",\"Level\" and \"Facts\"\n",
    "Roll_Cat_final.sort_values(['Markets', 'Level','Facts'],ascending=[True,True,True]) "
   ]
  },
  {
   "cell_type": "code",
   "execution_count": null,
   "metadata": {},
   "outputs": [],
   "source": [
    "# Creating column \"Key\" as concat of \"Markets\",\"Level\" and \"Facts\"\n",
    "Roll_Cat_final[\"Key\"]=Roll_Cat_final[\"Markets\"]+Roll_Cat_final[\"Level\"]+Roll_Cat_final[\"Facts\"]\n",
    "\n",
    "# Moving column \"Key\" before column \"Markets\"\n",
    "Roll_Cat_final = movecol(Roll_Cat_final, \n",
    "             cols_to_move=['Key'], \n",
    "             ref_col='Markets',\n",
    "             place='Before')\n",
    "\n",
    "# Creating column \"Manufacturer\"\n",
    "Roll_Cat_final[\"Manufacturer\"]=\"\"\n",
    "\n",
    "# Moving column \"Manufacturer\" before column \"Facts\"\n",
    "Roll_Cat_final = movecol(Roll_Cat_final, \n",
    "             cols_to_move=['Manufacturer'], \n",
    "             ref_col='Facts',\n",
    "             place='Before')"
   ]
  },
  {
   "cell_type": "markdown",
   "metadata": {},
   "source": [
    "Exporting Data to the output folder"
   ]
  },
  {
   "cell_type": "code",
   "execution_count": null,
   "metadata": {},
   "outputs": [],
   "source": [
    "Roll_Cat_final.to_csv(\"//falmumapp34/Nielsen Connect Transition & Maintenance (20-SCP-3650)/05. Output Data\\Executive Summary RollUp Part2.csv\",index=False)"
   ]
  },
  {
   "cell_type": "markdown",
   "metadata": {},
   "source": [
    "### 3(d) Rolling ExecSummary Part 3"
   ]
  },
  {
   "cell_type": "markdown",
   "metadata": {},
   "source": [
    "Making a copy of ***Line_Monthly_All*** and storing it in ***Roll***"
   ]
  },
  {
   "cell_type": "code",
   "execution_count": null,
   "metadata": {},
   "outputs": [],
   "source": [
    "Roll=Line_Monthly_All.copy()"
   ]
  },
  {
   "cell_type": "markdown",
   "metadata": {},
   "source": [
    "**Market, Facts, Time Period and ShareBasis Selection for Rolling Executive Summary**\n",
    "\n",
    "Filter all the data based on the below selections for Rolling Executive Summary"
   ]
  },
  {
   "cell_type": "code",
   "execution_count": null,
   "metadata": {},
   "outputs": [],
   "source": [
    "Market=[\"Total US xAOC\",\"Total US Drug\",\"Total US Food\",\"Walmart Total US TA\",\"Target Total BM/FF TA\",\n",
    "        \"TOTAL MASS\",\"VDC\",\"CLUB\",'FDM']\n",
    "\n",
    "ShareBasis=['BAR', 'BODYWASH', 'LDL/DISHAIDS/WPS/FM/SPRAYS', 'LIQUID', 'FABRIC SOFTENERS', 'MANUAL', 'MOUTHWASH',\n",
    "             'POUR APC+WW', 'POWER', 'TOOTHPASTE']\n",
    "\n",
    "Facts =[\"$\",\"$ Chg YA\",\"EQ\",\"EQ Chg YA\"]\n",
    "\n",
    "Time_Period=list(Roll.columns[10:12])+list(Roll.columns[14:15])+list(Roll.columns[18:39])\n",
    "print(Time_Period)\n",
    "\n",
    "Manu=[\"COLGATE-PALMOLIVE\",\"P&G\"]\n",
    "\n",
    "OC=['TOOTHPASTE','MANUAL','POWER','MOUTHWASH']\n",
    "PC=['BAR', 'BODYWASH','LIQUID']\n",
    "HC=[ 'LDL/DISHAIDS/WPS/FM/SPRAYS', 'LIQUID FS', 'POUR APC+WW']\n",
    "\n"
   ]
  },
  {
   "cell_type": "code",
   "execution_count": null,
   "metadata": {},
   "outputs": [],
   "source": [
    "# filter data based on market, facts, time_period and share basis\n",
    "Roll_Cat=Roll.loc[(Roll[\"Manufacturer\"].isin(Manu)) & (Roll[\"Franchise\"]==\"\") & (Roll[\"Brand\"]==\"\") & \n",
    "           (Roll[\"SubBrand\"]==\"\") & (Roll[\"Markets\"].isin(Market))& (Roll[\"Facts\"].isin(Facts)) &\n",
    "           (Roll[\"ShareBasis\"].isin(ShareBasis))]"
   ]
  },
  {
   "cell_type": "code",
   "execution_count": null,
   "metadata": {},
   "outputs": [],
   "source": [
    "# Deleting unwanted columns\n",
    "del Roll_Cat[\"Key\"]\n",
    "del Roll_Cat[\"Category\"]\n",
    "del Roll_Cat[\"Franchise\"]\n",
    "del Roll_Cat[\"Brand\"]\n",
    "del Roll_Cat[\"SubBrand\"]\n",
    "del Roll_Cat[\"Products\"]"
   ]
  },
  {
   "cell_type": "code",
   "execution_count": null,
   "metadata": {
    "scrolled": true
   },
   "outputs": [],
   "source": [
    "# Creating column \"Level\" based on column \"ShareBasis\"\n",
    "Roll_Cat[\"Level\"]= [\"OC\" if x in OC else (\"PC\" if x in PC else \"HC\") for x in Roll_Cat[\"ShareBasis\"]]\n",
    "\n",
    "# Moving column \"Level\" after column \"Markets\"\n",
    "Roll_Cat = movecol(Roll_Cat, \n",
    "             cols_to_move=['Level'], \n",
    "             ref_col='Markets',\n",
    "             place='After')"
   ]
  },
  {
   "cell_type": "markdown",
   "metadata": {},
   "source": [
    "**Rolling up all Facts** at **\"Markets\",\"Level\",\"Manufacturer\"** level and creating **calculated fact $ % Chg YA and EQ % Chg YA**"
   ]
  },
  {
   "cell_type": "code",
   "execution_count": null,
   "metadata": {},
   "outputs": [],
   "source": [
    "for i in range(0,len(Time_Period)):\n",
    "    \n",
    "    # groupby \"Markets\",\"Facts\" for each Time_Period as sum\n",
    "    df=Roll_Cat.groupby([\"Markets\",\"Level\",\"Manufacturer\",\"Facts\"])[Time_Period[i]].aggregate('sum').unstack()\n",
    "    df.reset_index(inplace=True)\n",
    "    \n",
    "    # calculate \"$ % Chg YA\"\n",
    "    df[\"$ % Chg YA\"]=(df[\"$ Chg YA\"]/(df[\"$\"]-df[\"$ Chg YA\"]))*100\n",
    "    # calculate \"EQ % Chg YA\"\n",
    "    df[\"EQ % Chg YA\"]=(df[\"EQ Chg YA\"]/(df[\"EQ\"]-df[\"EQ Chg YA\"]))*100\n",
    "    \n",
    "    # pivot each Fact from columns to a row\n",
    "    df=pd.melt(df, id_vars =[\"Markets\",\"Level\",\"Manufacturer\"], value_vars =list(df.columns[3:])) \n",
    "    df.rename(columns={\"value\":Time_Period[i]},inplace=True)\n",
    "    \n",
    "    # merge dataframe for each time period on columns\n",
    "    if (i == 0):\n",
    "        Roll_Cat_final_1=df\n",
    "    else:\n",
    "        Roll_Cat_final_1=pd.merge(Roll_Cat_final_1,df,how='left',left_on=[\"Markets\",\"Level\",\"Manufacturer\",\"Facts\"],right_on=[\"Markets\",\"Level\",\"Manufacturer\",\"Facts\"])\n",
    "                "
   ]
  },
  {
   "cell_type": "markdown",
   "metadata": {},
   "source": [
    "**Rolling up all Facts** at **\"Markets\",\"Manufacturer\"** level and creating **calculated fact $ % Chg YA and EQ % Chg YA**"
   ]
  },
  {
   "cell_type": "code",
   "execution_count": null,
   "metadata": {},
   "outputs": [],
   "source": [
    "for i in range(0,len(Time_Period)):\n",
    "    \n",
    "    # groupby \"Markets\",\"Facts\" for each Time_Period as sum\n",
    "    df=Roll_Cat_final_1.groupby([\"Markets\",\"Manufacturer\",\"Facts\"])[Time_Period[i]].aggregate('sum').unstack()\n",
    "    df.reset_index(inplace=True)\n",
    "    \n",
    "    # calculate \"$ % Chg YA\"\n",
    "    df[\"$ % Chg YA\"]=(df[\"$ Chg YA\"]/(df[\"$\"]-df[\"$ Chg YA\"]))*100\n",
    "    # calculate \"EQ % Chg YA\"\n",
    "    df[\"EQ % Chg YA\"]=(df[\"EQ Chg YA\"]/(df[\"EQ\"]-df[\"EQ Chg YA\"]))*100\n",
    "    \n",
    "    # pivot each Fact from columns to a row\n",
    "    df=pd.melt(df, id_vars =[\"Markets\",\"Manufacturer\"], value_vars =list(df.columns[2:])) \n",
    "    df.rename(columns={\"value\":Time_Period[i]},inplace=True)\n",
    "    \n",
    "    # merge dataframe for each time period on columns\n",
    "    if (i == 0):\n",
    "        Roll_Cat_final_2=df\n",
    "    else:\n",
    "        Roll_Cat_final_2=pd.merge(Roll_Cat_final_2,df,how='left',left_on=[\"Markets\",\"Manufacturer\",\"Facts\"],right_on=[\"Markets\",\"Manufacturer\",\"Facts\"])\n",
    "                "
   ]
  },
  {
   "cell_type": "code",
   "execution_count": null,
   "metadata": {},
   "outputs": [],
   "source": [
    "# Appending dataframes  Roll_Cat_final_1 and Roll_Cat_final_2\n",
    "Roll_Cat_final=pd.concat([Roll_Cat_final_1,Roll_Cat_final_2],axis=0,ignore_index=True)\n",
    "\n",
    "# Filling NaN values in \"Level\" column with \"Total\"\n",
    "Roll_Cat_final[\"Level\"].fillna(\"Total\",inplace=True)\n",
    "\n",
    "# Sorting the dataframe in order of \"Markets\",\"Level\" and \"Facts\"\n",
    "Roll_Cat_final.sort_values(['Markets', 'Level','Facts'],ascending=[True,True,True]) \n",
    "\n",
    "# Creating column \"Key\" as concat of \"Markets\",\"Level\" and \"Facts\"\n",
    "Roll_Cat_final[\"Key\"]=Roll_Cat_final[\"Markets\"]+Roll_Cat_final[\"Level\"]+Roll_Cat_final[\"Manufacturer\"]+Roll_Cat_final[\"Facts\"]\n",
    "\n",
    "# Moving column \"Key\" before column \"Markets\"\n",
    "Roll_Cat_final = movecol(Roll_Cat_final, \n",
    "             cols_to_move=['Key'], \n",
    "             ref_col='Markets',\n",
    "             place='Before')"
   ]
  },
  {
   "cell_type": "markdown",
   "metadata": {},
   "source": [
    "Exporting Data to the output folder"
   ]
  },
  {
   "cell_type": "code",
   "execution_count": null,
   "metadata": {},
   "outputs": [],
   "source": [
    "Roll_Cat_final.to_csv(\"//falmumapp34/Nielsen Connect Transition & Maintenance (20-SCP-3650)/05. Output Data\\Executive Summary RollUp Part3.csv\",index=False)"
   ]
  },
  {
   "cell_type": "markdown",
   "metadata": {},
   "source": [
    "### 3(e) Rolling Executive Summary Part4"
   ]
  },
  {
   "cell_type": "markdown",
   "metadata": {},
   "source": [
    "Making a copy of ***Line_Monthly_All*** and storing it in ***Roll***"
   ]
  },
  {
   "cell_type": "code",
   "execution_count": null,
   "metadata": {},
   "outputs": [],
   "source": [
    "Roll=Line_Monthly_All.copy()"
   ]
  },
  {
   "cell_type": "markdown",
   "metadata": {},
   "source": [
    "**Market, Facts, Time Period and ShareBasis Selection for Rolling Executive Summary**\n",
    "\n",
    "Filter all the data based on the below selections for Rolling Executive Summary"
   ]
  },
  {
   "cell_type": "code",
   "execution_count": null,
   "metadata": {},
   "outputs": [],
   "source": [
    "Market=[\"Total US xAOC\",\"Total US Drug\",\"Total US Food\",\"Walmart Total US TA\",\"Target Total BM/FF TA\",\n",
    "        \"TOTAL MASS\",\"VDC\",\"CLUB\",'FDM']\n",
    "\n",
    "ShareBasis=['BAR', 'BODYWASH', 'LDL/DISHAIDS/WPS/FM/SPRAYS', 'LIQUID', 'FABRIC SOFTENERS', 'MANUAL', 'MOUTHWASH',\n",
    "             'POUR APC+WW', 'POWER', 'TOOTHPASTE']\n",
    "\n",
    "Core_Category=['BAR', 'BODYWASH', 'LDL/DISHAIDS/WPS/FM/SPRAYS', 'LIQUID', 'LIQ FS', 'MANUAL', 'MOUTHWASH',\n",
    "             'POUR APC+WW', 'POWER', 'TOOTHPASTE']\n",
    "\n",
    "Adjacent_Category =[\"ABRASIVE\",\"SCENT BOOSTERS\",\"SHEETS\",\"PORTABLE\"]\n",
    "\n",
    "Manu=[\"COLGATE-PALMOLIVE\",\"P&G\",\"PRVT LBL\"]\n",
    "\n",
    "Facts =[\"$\",\"$ Chg YA\",\"EQ\",\"EQ Chg YA\"]\n",
    "\n",
    "Time_Period=list(Roll.columns[10:12])+list(Roll.columns[14:15])+list(Roll.columns[18:39])\n",
    "print(Time_Period)\n"
   ]
  },
  {
   "cell_type": "markdown",
   "metadata": {},
   "source": [
    "#### 3(e).1 Roll up for ShareBasis"
   ]
  },
  {
   "cell_type": "code",
   "execution_count": null,
   "metadata": {},
   "outputs": [],
   "source": [
    "# filter data based on market, facts, time_period and share basis\n",
    "Roll_Market=Roll.loc[(Roll[\"Manufacturer\"].isin(Manu)) & (Roll[\"Franchise\"]==\"\") & (Roll[\"Brand\"]==\"\") & \n",
    "           (Roll[\"SubBrand\"]==\"\") & (Roll[\"Markets\"].isin(Market))& (Roll[\"Facts\"].isin(Facts)) &\n",
    "           (Roll[\"ShareBasis\"].isin(ShareBasis))]"
   ]
  },
  {
   "cell_type": "code",
   "execution_count": null,
   "metadata": {},
   "outputs": [],
   "source": [
    "# Deleting unwanted columns\n",
    "del Roll_Market[\"Key\"]\n",
    "del Roll_Market[\"Category\"]\n",
    "del Roll_Market[\"Franchise\"]\n",
    "del Roll_Market[\"Brand\"]\n",
    "del Roll_Market[\"SubBrand\"]\n",
    "del Roll_Market[\"Products\"]"
   ]
  },
  {
   "cell_type": "markdown",
   "metadata": {},
   "source": [
    "**Rolling up all Facts** at **\"Markets\",\"Manufacturer** level and creating **calculated facts** ***$ % Chg YA*** and ***EQ % Chg YA***"
   ]
  },
  {
   "cell_type": "code",
   "execution_count": null,
   "metadata": {},
   "outputs": [],
   "source": [
    "for i in range(0,len(Time_Period)):\n",
    "    \n",
    "    # groupby \"Markets\",\"Facts\" for each Time_Period as sum\n",
    "    df=Roll_Market.groupby([\"Markets\",\"Manufacturer\",\"Facts\"])[Time_Period[i]].aggregate('sum').unstack()\n",
    "    df.reset_index(inplace=True)\n",
    "    \n",
    "    # calculate \"$ % Chg YA\"\n",
    "    df[\"$ % Chg YA\"]=(df[\"$ Chg YA\"]/(df[\"$\"]-df[\"$ Chg YA\"]))*100\n",
    "    # calculate \"EQ % Chg YA\"\n",
    "    df[\"EQ % Chg YA\"]=(df[\"EQ Chg YA\"]/(df[\"EQ\"]-df[\"EQ Chg YA\"]))*100\n",
    "    \n",
    "    # pivot each Fact from columns to a row\n",
    "    df=pd.melt(df, id_vars =[\"Markets\",'Manufacturer'], value_vars =list(df.columns[2:])) \n",
    "    df.rename(columns={\"value\":Time_Period[i]},inplace=True)\n",
    "    \n",
    "    # merge dataframe for each time period on columns \n",
    "    if (i == 0):\n",
    "        Roll_Market_final_1=df\n",
    "    else:\n",
    "        Roll_Market_final_1=pd.merge(Roll_Market_final_1,df,how='left',left_on=[\"Markets\",\"Manufacturer\",\"Facts\"],right_on=[\"Markets\",\"Manufacturer\",\"Facts\"])\n",
    "         \n",
    "# Creting column \"Level\"\n",
    "Roll_Market_final_1[\"Level\"]=\"Total Category\""
   ]
  },
  {
   "cell_type": "markdown",
   "metadata": {},
   "source": [
    "#### 3(e).2 Roll up for Core_Category"
   ]
  },
  {
   "cell_type": "code",
   "execution_count": null,
   "metadata": {},
   "outputs": [],
   "source": [
    "# filter data based on market, facts, time_period and core_category\n",
    "Roll_Market=Roll.loc[(Roll[\"Manufacturer\"].isin(Manu)) & (Roll[\"Franchise\"]==\"\") & (Roll[\"Brand\"]==\"\") & \n",
    "           (Roll[\"SubBrand\"]==\"\") & (Roll[\"Markets\"].isin(Market))& (Roll[\"Facts\"].isin(Facts)) &\n",
    "           (Roll[\"ShareBasis\"].isin(Core_Category))]\n"
   ]
  },
  {
   "cell_type": "code",
   "execution_count": null,
   "metadata": {},
   "outputs": [],
   "source": [
    "# Deleting unwanted columns\n",
    "del Roll_Market[\"Key\"]\n",
    "del Roll_Market[\"Category\"]\n",
    "del Roll_Market[\"Franchise\"]\n",
    "del Roll_Market[\"Brand\"]\n",
    "del Roll_Market[\"SubBrand\"]\n",
    "del Roll_Market[\"Products\"]"
   ]
  },
  {
   "cell_type": "markdown",
   "metadata": {},
   "source": [
    "**Rolling up all Facts** at **\"Markets\",\"Manufacturer\"** level and creating **calculated facts** ***$ % Chg YA*** and ***EQ % Chg YA***"
   ]
  },
  {
   "cell_type": "code",
   "execution_count": null,
   "metadata": {},
   "outputs": [],
   "source": [
    "for i in range(0,len(Time_Period)):\n",
    "    \n",
    "    # groupby \"Markets\",\"Facts\" for each Time_Period as sum\n",
    "    df=Roll_Market.groupby([\"Markets\",'Manufacturer',\"Facts\"])[Time_Period[i]].aggregate('sum').unstack()\n",
    "    df.reset_index(inplace=True)\n",
    "    \n",
    "    # calculate \"$ % Chg YA\"\n",
    "    df[\"$ % Chg YA\"]=(df[\"$ Chg YA\"]/(df[\"$\"]-df[\"$ Chg YA\"]))*100\n",
    "     # calculate \"EQ % Chg YA\"\n",
    "    df[\"EQ % Chg YA\"]=(df[\"EQ Chg YA\"]/(df[\"EQ\"]-df[\"EQ Chg YA\"]))*100\n",
    "    \n",
    "     # pivot each Fact from columns to a row\n",
    "    df=pd.melt(df, id_vars =[\"Markets\",'Manufacturer'], value_vars =list(df.columns[2:])) \n",
    "    df.rename(columns={\"value\":Time_Period[i]},inplace=True)\n",
    "    \n",
    "    # merge dataframe for each time period on columns \n",
    "    if (i == 0):\n",
    "        Roll_Market_final_2=df\n",
    "    else:\n",
    "        Roll_Market_final_2=pd.merge(Roll_Market_final_2,df,how='left',left_on=[\"Markets\",'Manufacturer',\"Facts\"],right_on=[\"Markets\",'Manufacturer',\"Facts\"])\n",
    "        \n",
    "# Creting column \"Level\"\n",
    "Roll_Market_final_2[\"Level\"]=\"Core Category\""
   ]
  },
  {
   "cell_type": "markdown",
   "metadata": {},
   "source": [
    "#### 3(e).3 Roll up for Adjacent_Category"
   ]
  },
  {
   "cell_type": "code",
   "execution_count": null,
   "metadata": {},
   "outputs": [],
   "source": [
    "# filter data based on market, facts, time_period and adjacent_category\n",
    "Roll_Market=Roll.loc[(Roll[\"Manufacturer\"].isin(Manu)) & (Roll[\"Franchise\"]==\"\") & (Roll[\"Brand\"]==\"\") & \n",
    "           (Roll[\"SubBrand\"]==\"\") & (Roll[\"Markets\"].isin(Market))& (Roll[\"Facts\"].isin(Facts)) &\n",
    "           (Roll[\"ShareBasis\"].isin(Adjacent_Category))]\n"
   ]
  },
  {
   "cell_type": "code",
   "execution_count": null,
   "metadata": {},
   "outputs": [],
   "source": [
    "# Deleting unwanted columns\n",
    "del Roll_Market[\"Key\"]\n",
    "del Roll_Market[\"Category\"]\n",
    "del Roll_Market[\"Franchise\"]\n",
    "del Roll_Market[\"Brand\"]\n",
    "del Roll_Market[\"SubBrand\"]\n",
    "del Roll_Market[\"Products\"]"
   ]
  },
  {
   "cell_type": "markdown",
   "metadata": {},
   "source": [
    "**Rolling up all Facts** at **\"Markets\",\"Manufacturer** level and creating **calculated facts** ***$ % Chg YA*** and ***EQ % Chg YA***"
   ]
  },
  {
   "cell_type": "code",
   "execution_count": null,
   "metadata": {},
   "outputs": [],
   "source": [
    "for i in range(0,len(Time_Period)):\n",
    "    \n",
    "    # groupby \"Markets\",\"Facts\" for each Time_Period as sum\n",
    "    df=Roll_Market.groupby([\"Markets\",'Manufacturer',\"Facts\"])[Time_Period[i]].aggregate('sum').unstack()\n",
    "    df.reset_index(inplace=True)\n",
    "    \n",
    "    # calculate \"$ % Chg YA\"\n",
    "    df[\"$ % Chg YA\"]=(df[\"$ Chg YA\"]/(df[\"$\"]-df[\"$ Chg YA\"]))*100\n",
    "    # calculate \"EQ % Chg YA\"\n",
    "    df[\"EQ % Chg YA\"]=(df[\"EQ Chg YA\"]/(df[\"EQ\"]-df[\"EQ Chg YA\"]))*100\n",
    "    \n",
    "    # pivot each Fact from columns to a row\n",
    "    df=pd.melt(df, id_vars =[\"Markets\",'Manufacturer'], value_vars =list(df.columns[2:]))  \n",
    "    df.rename(columns={\"value\":Time_Period[i]},inplace=True)\n",
    "    \n",
    "    # merge dataframe for each time period on columns\n",
    "    if (i == 0):\n",
    "        Roll_Market_final_3=df\n",
    "    else:\n",
    "        Roll_Market_final_3=pd.merge(Roll_Market_final_3,df,how='left',left_on=[\"Markets\",'Manufacturer',\"Facts\"],right_on=[\"Markets\",'Manufacturer',\"Facts\"])\n",
    "\n",
    "# Creting column \"Level\"\n",
    "Roll_Market_final_3[\"Level\"]=\"Adjacent Category\""
   ]
  },
  {
   "cell_type": "code",
   "execution_count": null,
   "metadata": {
    "scrolled": true
   },
   "outputs": [],
   "source": [
    "# concat all three Rollup files\n",
    "Roll_Market_final=pd.concat([Roll_Market_final_1,Roll_Market_final_2,Roll_Market_final_3],axis=0,ignore_index=True)\n",
    "\n",
    "# moving column \"Level\" after column \"Markets\"\n",
    "Roll_Market_final = movecol(Roll_Market_final, \n",
    "             cols_to_move=['Level'], \n",
    "             ref_col='Markets',\n",
    "             place='After')\n",
    "\n",
    "# creating column \"Key\" by concatinating \"Markets\",\"Level\",\"Facts\"\n",
    "Roll_Market_final.sort_values(['Markets', 'Level','Facts'],ascending=[True,True,True]) \n",
    "\n",
    "# creating column \"Key\" by concatinating \"Markets\",\"Level\",\"Manufacturer\",\"Facts\"\n",
    "Roll_Market_final[\"Key\"]=Roll_Market_final[\"Markets\"]+Roll_Market_final[\"Level\"]+Roll_Market_final[\"Manufacturer\"]+Roll_Market_final[\"Facts\"]\n",
    "\n",
    "# moving column \"Key\" before column \"Markets\"\n",
    "Roll_Market_final = movecol(Roll_Market_final, \n",
    "             cols_to_move=['Key'], \n",
    "             ref_col='Markets',\n",
    "             place='Before')"
   ]
  },
  {
   "cell_type": "markdown",
   "metadata": {},
   "source": [
    "Exporting Data to the output folder"
   ]
  },
  {
   "cell_type": "code",
   "execution_count": null,
   "metadata": {},
   "outputs": [],
   "source": [
    "Roll_Market_final.to_csv(\"//falmumapp34/Nielsen Connect Transition & Maintenance (20-SCP-3650)/05. Output Data\\Executive Summary RollUp Part4.csv\",index=False)"
   ]
  },
  {
   "cell_type": "markdown",
   "metadata": {},
   "source": [
    "### 3(f) Executive Summary Weekly Data"
   ]
  },
  {
   "cell_type": "markdown",
   "metadata": {},
   "source": [
    "**Accessing Input Files**"
   ]
  },
  {
   "cell_type": "code",
   "execution_count": null,
   "metadata": {},
   "outputs": [],
   "source": [
    "#Assigning path of the folder where **Line Weekly** data files are stored\n",
    "path = \"//falmumapp34/Nielsen Connect Transition & Maintenance (20-SCP-3650)/03. Raw Data/Connect Data/Line Weekly\"\n",
    "files = os.listdir(path)\n",
    "\n",
    "#Selecting only **excel files** from all the files available in the above path\n",
    "files_xls = [f for f in files if ( f[-4:] == 'xlsx')]\n",
    "print(\"Total number of files in the folder are \",len(files_xls))"
   ]
  },
  {
   "cell_type": "markdown",
   "metadata": {},
   "source": [
    "**Appending the read files in rows and storing them in a single dataframe** named ***Line_Weekly***.\n",
    "\n",
    "Printing number of columns and number of facts in each file.\n",
    "Also checking the execution time of the code"
   ]
  },
  {
   "cell_type": "code",
   "execution_count": null,
   "metadata": {
    "scrolled": true
   },
   "outputs": [],
   "source": [
    "time_start= time.time()  # gives the current time\n",
    "\n",
    "now=datetime.datetime.now()  # current date & time\n",
    "delay= datetime.timedelta(days=30)   #30 days delay\n",
    "month_name= (now - delay).strftime(\"%B\")[0:3]+\" \" #30 days ago month name\n",
    "print(month_name)\n",
    "\n",
    "\n",
    "Line_Weekly= pd.DataFrame()  # creating a dataframe name Line_Weekly\n",
    "\n",
    "j=0\n",
    "for f in files_xls:\n",
    "    \n",
    "    data = pd.read_excel(path+\"/\"+f)    # Reading Data Files\n",
    "\n",
    "    for i in data.columns:       # Checking if \"Latest Month\" column is available with another name. if yes then rename\n",
    "        if month_name in i:\n",
    "            data.rename(columns={i:\"Latest Month\"},inplace = True)\n",
    "\n",
    "    # priniting number of facts and number of columns of the read file      \n",
    "    print(\"\\033[1m\" + files_xls[j] + \"\\033[0m\",\":->\\n# of Facts are \",len(set(data[\"Periods\"])),\"\\t\\t # of columns are \",len(data.columns))  \n",
    "\n",
    "    # appending the read files in \"Line_Weekly\" dataframe\n",
    "    Line_Weekly = pd.concat([Line_Weekly,data],axis=0,ignore_index=True)\n",
    "    j=j+1\n",
    "    \n",
    "time_end= time.time(); # gives the current time\n",
    "\n",
    "Backup= Line_Weekly.copy() # storing Line_Weekly dataframe into anoter dataframe for backup purpose \n",
    "\n",
    "# printing the time it takes to run this block of code\n",
    "print(\"execution time is \", time_end-time_start)"
   ]
  },
  {
   "cell_type": "markdown",
   "metadata": {},
   "source": [
    "**Removing Duplicate Rows**"
   ]
  },
  {
   "cell_type": "code",
   "execution_count": null,
   "metadata": {},
   "outputs": [],
   "source": [
    "# Dropping the Duplicate rows\n",
    "lenth_df=len(Line_Weekly)\n",
    "Line_Weekly.drop_duplicates(subset=[\"Markets\",\"Products\",\"Periods\"],keep='last',inplace=True)\n",
    "print(\"Number of duplicated rows are\",lenth_df-len(Line_Weekly),\"\\nShape of Line_Monthly is \",Line_Weekly.shape)"
   ]
  },
  {
   "cell_type": "markdown",
   "metadata": {},
   "source": [
    "**Replacing Facts names** (Here column \"Periods\" denotes the fact column)"
   ]
  },
  {
   "cell_type": "code",
   "execution_count": null,
   "metadata": {},
   "outputs": [],
   "source": [
    "# Replacing \"- $ -\" with \"-\" in column \"Periods\"\n",
    "Line_Weekly[\"Periods\"]=Line_Weekly[\"Periods\"].str.replace(\"$\",\"temp\")\n",
    "Line_Weekly[\"Periods\"]=Line_Weekly[\"Periods\"].str.replace(\"- temp -\",\"-\")\n",
    "Line_Weekly[\"Periods\"]=Line_Weekly[\"Periods\"].str.replace(\"temp\",\"$\")\n",
    "\n",
    "# Replacing \"CP FORM\" with \"CP CATEGORY\" in column \"Periods\"\n",
    "Line_Weekly[\"Periods\"]=Line_Weekly[\"Periods\"].str.replace(\"CP FORM\",\"CP CATEGORY\")\n",
    "\n",
    "# Replacing \"CP USE\" with \"CP CATEGORY\" in column \"Periods\"\n",
    "Line_Weekly[\"Periods\"]=Line_Weekly[\"Periods\"].str.replace(\"CP USE\",\"CP CATEGORY\")\n",
    "\n",
    "# Replacing \"CP LDL AND FOAM\" with \"CP CATEGORY\" in column \"Periods\"\n",
    "Line_Weekly[\"Periods\"]=Line_Weekly[\"Periods\"].str.replace(\"CP LDL AND FOAM\",\"CP CATEGORY\")\n",
    "\n",
    "# Replacing \"CP LDL AND FM X DISHAIDS/WPS/SPR\" with \"CP CATEGORY\" in column \"Periods\"\n",
    "Line_Weekly[\"Periods\"]=Line_Weekly[\"Periods\"].str.replace(\"CP LDL AND FM X DISHAIDS/WPS/SPR\",\"CP CATEGORY\")\n",
    "\n",
    "# Replacing \"CP MEGA CATEGORY\" with \"CP CATEGORY\" in column \"Periods\"\n",
    "Line_Weekly[\"Periods\"]=Line_Weekly[\"Periods\"].str.replace(\"CP MEGA CATEGORY\",\"CP CATEGORY\")\n",
    "\n",
    "# Replacing \"CP BATTERY AND HYBRID\" with \"CP CATEGORY\" in column \"Periods\"\n",
    "Line_Weekly[\"Periods\"]=Line_Weekly[\"Periods\"].str.replace(\"CP BATTERY AND HYBRID\",\"CP CATEGORY\")\n",
    "\n",
    "\n",
    "# Market name replaced\n",
    "# Replacing \"Walgreens Corp Total TA\" with \"Walgreens Total TA\" in column \"Markets\"\n",
    "Line_Weekly[\"Markets\"]=Line_Weekly[\"Markets\"].str.replace(\"Walgreens Corp Total TA\",\"Walgreens Total TA\")"
   ]
  },
  {
   "cell_type": "markdown",
   "metadata": {},
   "source": [
    "**Renaming \"Periods\"** column name **to \"Facts\"**"
   ]
  },
  {
   "cell_type": "code",
   "execution_count": null,
   "metadata": {},
   "outputs": [],
   "source": [
    "Line_Weekly.rename(columns={\"Periods\":\"Facts\"},inplace=True)"
   ]
  },
  {
   "cell_type": "markdown",
   "metadata": {},
   "source": [
    "**Splitting \"Products\" column**\n",
    "\n",
    "Creating 5 new columns **\"ShareBasis\",\"Manufacturer\",\"Franchise\",\"Brand\",\"SubBrand\"** from **\"Products\"** column by splitting "
   ]
  },
  {
   "cell_type": "code",
   "execution_count": null,
   "metadata": {
    "scrolled": true
   },
   "outputs": [],
   "source": [
    "New_Columns=['ShareBasis','Manufacturer','Franchise','Brand','SubBrand']\n",
    "\n",
    "Line_Weekly[New_Columns] = Line_Weekly['Products'].str.split('|',n=4,expand=True)\n",
    "\n",
    "# Replacing all the None values in columns \"ShareBasis\",\"Manufacturer\",\"Franchise\",\"Brand\",\"SubBrand\"\n",
    "Line_Weekly[New_Columns]=Line_Weekly[New_Columns].fillna(value=\"\")\n",
    "Line_Weekly.head(3)\n",
    "\n",
    "# Moving columns after \"Market\"\n",
    "Line_Weekly = movecol(Line_Weekly, \n",
    "             cols_to_move=['ShareBasis','Manufacturer','Franchise','Brand','SubBrand'], \n",
    "             ref_col='Markets',\n",
    "             place='After')\n",
    "Line_Weekly.head(3)"
   ]
  },
  {
   "cell_type": "code",
   "execution_count": null,
   "metadata": {},
   "outputs": [],
   "source": [
    "# adding a \"KEY\" column\n",
    "Line_Weekly[\"Key\"]=Line_Weekly[\"Markets\"]+Line_Weekly[\"Products\"]+Line_Weekly[\"Facts\"]\n",
    "\n",
    "# moving \"KEY\" column to the first position by using above defined \"movecol\" function\n",
    "Line_Weekly = movecol(Line_Weekly, \n",
    "             cols_to_move=['Key'], \n",
    "             ref_col='Markets',\n",
    "             place='Before')\n",
    "Line_Weekly.head(3)"
   ]
  },
  {
   "cell_type": "markdown",
   "metadata": {},
   "source": [
    "**Strip Columns and Change Datatype to numeric**\n",
    "\n",
    "Strip starting 9 columns \n",
    "\n",
    "Changing datatype to numeric after 9 columns"
   ]
  },
  {
   "cell_type": "code",
   "execution_count": null,
   "metadata": {},
   "outputs": [],
   "source": [
    "#Storing the names of first 9 columns in a list\n",
    "cols=list(Line_Weekly.columns[0:9])\n",
    "\n",
    "#Removing blank space in all rows of the first 9 columns of the dataframe\n",
    "Line_Weekly[cols]=Line_Weekly[cols].apply(lambda x : x.str.strip())\n",
    "\n",
    "# Changing all columns after \"Facts\" into numeric datatype\n",
    "Line_Weekly.iloc[:,10:]= Line_Weekly.iloc[:,10:].apply(pd.to_numeric)"
   ]
  },
  {
   "cell_type": "markdown",
   "metadata": {},
   "source": [
    "**Category column**\n",
    "\n",
    "Creating a extra column name \"Category\" from column \"ShareBasis\""
   ]
  },
  {
   "cell_type": "code",
   "execution_count": null,
   "metadata": {},
   "outputs": [],
   "source": [
    "#Creating a dataframe \"df1\" with only Sharebasis column\n",
    "df1= pd.DataFrame(Line_Weekly[\"ShareBasis\"])"
   ]
  },
  {
   "cell_type": "code",
   "execution_count": null,
   "metadata": {
    "scrolled": true
   },
   "outputs": [],
   "source": [
    "def fun_category(x):\n",
    "    if x == 'TOOTHPASTE' or x == 'WHITENING SYS':\n",
    "        return \"TP\"\n",
    "    elif x=='POUR APC+WW' or x==\"WOOD\" or x== 'ABRASIVE' or x== \"APC+WW\" or x=='FLOOR WAX' or x=='OUTDOOR' or x=='DRY WIPES' or x=='SPRAY':\n",
    "        return \"HHC\"\n",
    "    elif x=='MANUAL':\n",
    "        return 'MTB'\n",
    "    elif x=='POWER' or x=='PORTABLE TB' or x == 'ELECTRIC' or x == 'BATTERY+HYBRID' or x == 'BATTERY':\n",
    "        return \"PTB\"\n",
    "    elif x=='BODYWASH':\n",
    "        return \"BW\"\n",
    "    elif x=='MOUTHWASH':\n",
    "        return 'MW'\n",
    "    elif x=='BAR':\n",
    "        return \"BAR\"\n",
    "    elif x=='LIQUID':\n",
    "        return 'LHS'\n",
    "    elif x=='FABRIC SOFTENERS' or x == 'BEAD FS' or x== 'LIQUID FS' or x == \"SHEETS\" or x==\"SCENT BOOSTERS\" or x == 'MFR Sun Products' :\n",
    "        return \"FS\"\n",
    "    elif x=='LDL+FOAM' or x == 'MFR Sun Products LDL' or x == \"LDL/DISHAIDS/WPS/FM/SPRAYS\":\n",
    "        return 'LDL'\n",
    "    else:\n",
    "        return 'N/A'\n",
    "    # Add elif statements....\n",
    "\n",
    "df1['Category']= df1['ShareBasis'].apply(fun_category)\n",
    "\n",
    "#Copying the Updated Category column to original Dataframe\n",
    "Line_Weekly['Category']=df1['Category']\n",
    "\n",
    "#Moving column \"Category\" after column \"ShareBasis\"\n",
    "Line_Weekly = movecol(Line_Weekly, \n",
    "             cols_to_move=['Category'], \n",
    "             ref_col='ShareBasis',\n",
    "             place='After')"
   ]
  },
  {
   "cell_type": "code",
   "execution_count": null,
   "metadata": {},
   "outputs": [],
   "source": [
    "#Creating a copy of the working Dataset as a checkpoint\n",
    "Line_Weekly_copy=Line_Weekly.copy()"
   ]
  },
  {
   "cell_type": "markdown",
   "metadata": {},
   "source": [
    "### Roll Up Weekly"
   ]
  },
  {
   "cell_type": "code",
   "execution_count": null,
   "metadata": {},
   "outputs": [],
   "source": [
    "# Creating a copy of the Dataframe\n",
    "Roll=Line_Weekly.copy()"
   ]
  },
  {
   "cell_type": "markdown",
   "metadata": {},
   "source": [
    "**Market, Facts, Time Period and ShareBasis Selection for Rolling Executive Summary**\n",
    "\n",
    "Filter all the data based on the below selections for Rolling Executive Summary"
   ]
  },
  {
   "cell_type": "code",
   "execution_count": null,
   "metadata": {},
   "outputs": [],
   "source": [
    "#Creating a list of required markets\n",
    "Market=[\"Total US xAOC\"]\n",
    "\n",
    "#Creating a list of required categories\n",
    "Core_Category=['BAR', 'BODYWASH', 'LDL/DISHAIDS/WPS/FM/SPRAYS', 'LIQUID', 'LIQUID FS', 'MANUAL', 'MOUTHWASH',\n",
    "             'POUR APC+WW', 'POWER', 'TOOTHPASTE']\n",
    "\n",
    "#Creating a list of required facts\n",
    "Facts =[\"$\",\"$ YA\"]\n",
    "\n",
    "Time_Period=list(Roll.columns[-13:])\n",
    "print(Time_Period)"
   ]
  },
  {
   "cell_type": "code",
   "execution_count": null,
   "metadata": {},
   "outputs": [],
   "source": [
    "#Filtering our Dataframe based on the above made lists and for \"Colgate-Palmolive\" manufacturer\n",
    "Roll_Market=Roll.loc[(Roll[\"Manufacturer\"]==\"COLGATE-PALMOLIVE\") & (Roll[\"Franchise\"]==\"\") & (Roll[\"Brand\"]==\"\") & \n",
    "           (Roll[\"SubBrand\"]==\"\") & (Roll[\"Markets\"].isin(Market))& (Roll[\"Facts\"].isin(Facts)) &\n",
    "            (Roll[\"ShareBasis\"].isin(Core_Category))]"
   ]
  },
  {
   "cell_type": "code",
   "execution_count": null,
   "metadata": {},
   "outputs": [],
   "source": [
    "#Deleting unwanted columns \n",
    "del Roll_Market[\"Key\"]\n",
    "del Roll_Market[\"Category\"]\n",
    "del Roll_Market[\"Manufacturer\"]\n",
    "del Roll_Market[\"Franchise\"]\n",
    "del Roll_Market[\"Brand\"]\n",
    "del Roll_Market[\"SubBrand\"]\n",
    "del Roll_Market[\"Products\"]"
   ]
  },
  {
   "cell_type": "markdown",
   "metadata": {},
   "source": [
    "**Reading UAP_Weekly file**"
   ]
  },
  {
   "cell_type": "code",
   "execution_count": null,
   "metadata": {},
   "outputs": [],
   "source": [
    "UAP_Weekly=pd.read_excel(\"//falmumapp34/Nielsen Connect Transition & Maintenance (20-SCP-3650)/03. Raw Data/Connect Data/UAP_ADD_Data/UAP_Weekly.xlsx\")"
   ]
  },
  {
   "cell_type": "code",
   "execution_count": null,
   "metadata": {},
   "outputs": [],
   "source": [
    "#Renaming Period and Product columns\n",
    "UAP_Weekly.rename(columns={\"Periods\":\"Facts\",\"Products\":\"ShareBasis\"},inplace=True)"
   ]
  },
  {
   "cell_type": "markdown",
   "metadata": {},
   "source": [
    "**Appending UAP data in Roll_Market**"
   ]
  },
  {
   "cell_type": "code",
   "execution_count": null,
   "metadata": {},
   "outputs": [],
   "source": [
    "# Concating the UAP dataframe with the Roll_Market\n",
    "Roll_Market_with_UAP = pd.concat([Roll_Market,UAP_Weekly],axis=0,ignore_index=True)\n",
    "\n",
    "#Deleting duplicate rows \n",
    "Roll_Market_with_UAP.drop_duplicates(subset=[\"Markets\",\"ShareBasis\",\"Facts\"],keep='last',inplace=True)"
   ]
  },
  {
   "cell_type": "markdown",
   "metadata": {},
   "source": [
    "**Rolling up all Facts** at **\"Markets\"** level and creating **calculated facts** ***$ % Chg YA***"
   ]
  },
  {
   "cell_type": "code",
   "execution_count": null,
   "metadata": {},
   "outputs": [],
   "source": [
    "for i in range(0,len(Time_Period)):\n",
    "    \n",
    "    # groupby \"Markets\",\"Facts\" for each Time_Period as sum\n",
    "    df=Roll_Market_with_UAP.groupby([\"Markets\",\"Facts\"])[Time_Period[i]].aggregate('sum').unstack()\n",
    "    df.reset_index(inplace=True)\n",
    "    \n",
    "    # calculate \"$ % Chg YA\"\n",
    "    df[\"$ % Chg YA\"]=((df[\"$\"]-df[\"$ YA\"])/df[\"$ YA\"])*100\n",
    "    \n",
    "    # pivot each Fact from columns to a row\n",
    "    df=pd.melt(df, id_vars =[\"Markets\"], value_vars =list(df.columns[1:]),value_name=Time_Period[i]) \n",
    "\n",
    "    # merge dataframe for each time period on columns \n",
    "    if (i == 0):\n",
    "        Roll_Market_final=df\n",
    "    else:\n",
    "        Roll_Market_final=pd.merge(Roll_Market_final,df,how='left',left_on=[\"Markets\",\"Facts\"],right_on=[\"Markets\",\"Facts\"])\n",
    "               "
   ]
  },
  {
   "cell_type": "code",
   "execution_count": null,
   "metadata": {
    "scrolled": true
   },
   "outputs": [],
   "source": [
    "#sorting the dataframe based on Markets, Facts, respectively\n",
    "Roll_Market_final.sort_values(['Markets','Facts'],ascending=[True,True]) \n",
    "\n",
    "#Adding a new column \"Key\" to the Dataframe\n",
    "Roll_Market_final[\"Key\"]=Roll_Market_final[\"Markets\"]+Roll_Market_final[\"Facts\"]\n",
    "\n",
    "#Moving the \"Key\" column before the \"market\" column\n",
    "Roll_Market_final = movecol(Roll_Market_final, \n",
    "             cols_to_move=['Key'], \n",
    "             ref_col='Markets',\n",
    "             place='Before')"
   ]
  },
  {
   "cell_type": "markdown",
   "metadata": {},
   "source": [
    "Exporting Data to the output folder"
   ]
  },
  {
   "cell_type": "code",
   "execution_count": null,
   "metadata": {},
   "outputs": [],
   "source": [
    "#Exporting the final datafraem as csv file to the desired location\n",
    "Roll_Market_final.to_csv(\"//falmumapp34/Nielsen Connect Transition & Maintenance (20-SCP-3650)/05. Output Data\\Executive Summary RollUp Weekly.csv\",index=False)"
   ]
  },
  {
   "cell_type": "markdown",
   "metadata": {},
   "source": [
    "## 4. Category Toolkit OC"
   ]
  },
  {
   "cell_type": "markdown",
   "metadata": {},
   "source": [
    "Making a copy of ***Line_Monthly_All*** and storing it in ***Cat_Tool***"
   ]
  },
  {
   "cell_type": "code",
   "execution_count": null,
   "metadata": {},
   "outputs": [],
   "source": [
    "Cat_Tool=Line_Monthly_All.copy()"
   ]
  },
  {
   "cell_type": "markdown",
   "metadata": {},
   "source": [
    "**Market, Facts, Time Period, ShareBasis and Products Selection for Category Toolkit OC**\n",
    "\n",
    "Filter all the data based on the below selections for Category Toolkit OC"
   ]
  },
  {
   "cell_type": "code",
   "execution_count": null,
   "metadata": {},
   "outputs": [],
   "source": [
    "Market =[\"BJs Total TA\",\"CVS Total Corp WO HI TA\",\"Dol Gen Total TA\",\"Family Dollar Total TA\",\"Publix Total TA\",\n",
    "         \"Rite Aid - Corp Total TA\",\"Sam's Total TA\",\"Total US Drug\",\"Target Total BM/FF TA\",\"Total US Food\",\"Total US xAOC\",\n",
    "         \"Walmart Total US TA\",'Walgreens Total TA']\n",
    "\n",
    "\n",
    "Fact = [\"$ Shr - CP CATEGORY\",\"$ Shr Chg YA - CP CATEGORY\",'EQ','EQ % Chg YA','Avg Unit Price',\n",
    "        'Avg Unit Price Chg YA','Base $ Shr - CP CATEGORY','Base $ Shr Chg YA - CP CATEGORY'\n",
    "       ,'Base EQ Price', 'Base EQ Price Chg YA',\"Avg # of Items\",\"Avg # of Items Chg YA\",\"Incr $ Shr - CP CATEGORY\",\"Incr $ Shr Chg YA - CP CATEGORY\",\n",
    "       'Incr $', 'Incr $ % Chg YA','Any Promo EQ Price', 'Any Promo EQ Price Chg YA','% $ Any Promo',\n",
    "        '% $ Any Promo Chg YA','Any Promo $ Shr - CP CATEGORY', 'Any Promo $ Shr Chg YA - CP CATEGORY','Feat or Disp %ACV',\n",
    "         'Feat or Disp %ACV Chg YA','$', '$ % Chg YA','Avg EQ Price', 'Avg EQ Price Chg YA',\n",
    "        'Units', 'Units % Chg YA','%ACV','%ACV Chg YA','TDP','TDP Chg YA','Avg EQ Price % Chg YA','Base $ Chg YA',\n",
    "       ]\n",
    "\n",
    "Time_Period=list(Cat_Tool.columns[0:11])+list(Cat_Tool.columns[14:15])+list(Cat_Tool.columns[16:18])+list(Cat_Tool.columns[26:27])\n",
    "\n",
    "Share_Basis=['ELECTRIC','MANUAL', 'MOUTHWASH','POWER' ,'TOOTHPASTE']\n",
    "\n",
    "print(\"Time Period is ->\\n\",Time_Period)"
   ]
  },
  {
   "cell_type": "code",
   "execution_count": null,
   "metadata": {},
   "outputs": [],
   "source": [
    "# filter data based on market, facts, time_period and share basis\n",
    "Cat_Tool=Cat_Tool[Cat_Tool['Markets'].isin(Market)]\n",
    "Cat_Tool=Cat_Tool[Cat_Tool['Facts'].isin(Fact)]\n",
    "Cat_Tool=Cat_Tool[Cat_Tool['ShareBasis'].isin(Share_Basis)]\n",
    "Cat_Tool=Cat_Tool[Time_Period]"
   ]
  },
  {
   "cell_type": "code",
   "execution_count": null,
   "metadata": {},
   "outputs": [],
   "source": [
    "# sorting dataframe in markets, products, facts order\n",
    "Cat_Tool=Cat_Tool.sort_values(['Markets', 'Products','Facts'],ascending=[True,True,True]) \n",
    "\n",
    "# removing duplicates rows\n",
    "Cat_Tool.drop_duplicates(subset=\"Key\",keep='last',inplace=True)\n",
    "\n",
    "# replacing nan values from zero\n",
    "Cat_Tool.fillna(0,inplace=True)"
   ]
  },
  {
   "cell_type": "markdown",
   "metadata": {},
   "source": [
    "Exporting Data to the output folder"
   ]
  },
  {
   "cell_type": "code",
   "execution_count": null,
   "metadata": {},
   "outputs": [],
   "source": [
    "Cat_Tool.to_csv(\"//falmumapp34/Nielsen Connect Transition & Maintenance (20-SCP-3650)/05. Output Data/Category Toolkit OC_New.csv\",index=False)"
   ]
  },
  {
   "cell_type": "markdown",
   "metadata": {},
   "source": [
    "### 4(b) OC MFR SHEET"
   ]
  },
  {
   "cell_type": "markdown",
   "metadata": {},
   "source": [
    "Making a copy of ***Line_Monthly_All*** and storing it in ***MFR_Sheet***"
   ]
  },
  {
   "cell_type": "code",
   "execution_count": null,
   "metadata": {},
   "outputs": [],
   "source": [
    "MFR_Sheet= Line_Monthly.copy()"
   ]
  },
  {
   "cell_type": "markdown",
   "metadata": {},
   "source": [
    "We need **Manufacturer** Level data for **MFR_Sheet.**\n",
    "\n",
    "**Removing all rows where SubBrand,Brand,Franchise level data is available except \"Dr Fresh\" Franchise** after that **removing SubBrand,Brand,Level column**"
   ]
  },
  {
   "cell_type": "code",
   "execution_count": null,
   "metadata": {},
   "outputs": [],
   "source": [
    "# removing subbrand data\n",
    "MFR_Sheet.reset_index(drop=True,inplace=True)\n",
    "index_names=MFR_Sheet[MFR_Sheet[\"SubBrand\"]!=\"\"].index\n",
    "MFR_Sheet.drop(index_names,inplace=True)\n",
    "\n",
    "# removing brand data\n",
    "MFR_Sheet.reset_index(drop=True,inplace=True)\n",
    "index_names=MFR_Sheet[MFR_Sheet[\"Brand\"]!=\"\"].index\n",
    "MFR_Sheet.drop(index_names,inplace=True)\n",
    "\n",
    "# taking \"Dr Fresh\" franchise for \"High Ridge Brands\" manufacturer\n",
    "MFR_Sheet=MFR_Sheet[(MFR_Sheet[\"Franchise\"].isin([\"\",\"DR FRESH\"]))]\n",
    "MFR_Sheet.reset_index(drop=True,inplace=True)\n",
    "index_names=MFR_Sheet[(MFR_Sheet[\"Manufacturer\"]==\"HIGH RIDGE BRANDS\") & (MFR_Sheet[\"Franchise\"]!=\"DR FRESH\")].index\n",
    "MFR_Sheet.drop(index_names,inplace=True)\n",
    "\n",
    "# removing subbrand, brand, franchise columns\n",
    "col=list(MFR_Sheet.columns)\n",
    "col.remove(\"SubBrand\")\n",
    "col.remove(\"Brand\")\n",
    "col.remove(\"Franchise\")\n",
    "MFR_Sheet = MFR_Sheet[col]"
   ]
  },
  {
   "cell_type": "markdown",
   "metadata": {},
   "source": [
    "**Market, Facts, Time Period, ShareBasis and Products Selection for MFR_Sheet**\n",
    "\n",
    "Filter all the data based on the below selections for Category MFR_Sheet"
   ]
  },
  {
   "cell_type": "code",
   "execution_count": null,
   "metadata": {},
   "outputs": [],
   "source": [
    "Market =[\"BJs Total TA\",\"CVS Total Corp WO HI TA\",\"Dol Gen Total TA\",\"Family Dollar Total TA\",\"Publix Total TA\",\n",
    "         \"Rite Aid - Corp Total TA\",\"Sam's Total TA\",\"Total US Drug\",\"Target Total BM/FF TA\",\"Total US Food\",\"Total US xAOC\",\n",
    "         \"Walmart Total US TA\",'Walgreens Total TA']\n",
    "\n",
    "Fact= [\"$ % Chg YA\",\"EQ % Chg YA\",\"Avg EQ Price Chg YA\",\"Avg EQ Price % Chg YA\"]\n",
    "\n",
    "Time_Period=list(MFR_Sheet.columns[0:7])+list(MFR_Sheet.columns[23:36])\n",
    "\n",
    "Share_Basis=['ELECTRIC','MANUAL', 'MOUTHWASH','POWER','TOOTHPASTE']\n",
    "\n",
    "print(\"Time Period is ->\\n\",Time_Period)"
   ]
  },
  {
   "cell_type": "code",
   "execution_count": null,
   "metadata": {},
   "outputs": [],
   "source": [
    "# filter data based on market, facts, time_period and share basis\n",
    "MFR_Sheet=MFR_Sheet[MFR_Sheet['Markets'].isin(Market)]\n",
    "MFR_Sheet=MFR_Sheet[MFR_Sheet['Facts'].isin(Fact)]\n",
    "MFR_Sheet=MFR_Sheet[MFR_Sheet['ShareBasis'].isin(Share_Basis)]\n",
    "MFR_Sheet=MFR_Sheet[Time_Period]"
   ]
  },
  {
   "cell_type": "code",
   "execution_count": null,
   "metadata": {},
   "outputs": [],
   "source": [
    "# sorting dataframe in markets, products, facts order\n",
    "MFR_Sheet=MFR_Sheet.sort_alues(['Markets', 'Products','Facts'],ascending=[True,True,True]) \n",
    "\n",
    "# removing duplicates rows\n",
    "MFR_Sheet.drop_duplicates(subset=\"Key\",keep='last',inplace=True)\n",
    "\n",
    "# replacing nan values from zero\n",
    "MFR_Sheet.fillna(0,inplace=True)"
   ]
  },
  {
   "cell_type": "markdown",
   "metadata": {},
   "source": [
    "Exporting Data to the output folder"
   ]
  },
  {
   "cell_type": "code",
   "execution_count": null,
   "metadata": {},
   "outputs": [],
   "source": [
    "MFR_Sheet.to_csv(\"//falmumapp34/Nielsen Connect Transition & Maintenance (20-SCP-3650)/05. Output Data/Category Toolkit OC Manu.csv\",index=False)"
   ]
  },
  {
   "cell_type": "markdown",
   "metadata": {},
   "source": [
    " "
   ]
  },
  {
   "cell_type": "markdown",
   "metadata": {},
   "source": [
    "## 5. Category Toolkit PC "
   ]
  },
  {
   "cell_type": "markdown",
   "metadata": {},
   "source": [
    "Making a copy of ***Line_Monthly_All*** and storing it in ***Cat_PC***"
   ]
  },
  {
   "cell_type": "code",
   "execution_count": null,
   "metadata": {},
   "outputs": [],
   "source": [
    "Cat_PC=Line_Monthly_All.copy()"
   ]
  },
  {
   "cell_type": "markdown",
   "metadata": {},
   "source": [
    "**Market, Facts, Time Period, ShareBasis and Products Selection for Cat_PC**\n",
    "\n",
    "Filter all the data based on the below selections for Category Cat_PC"
   ]
  },
  {
   "cell_type": "code",
   "execution_count": null,
   "metadata": {},
   "outputs": [],
   "source": [
    "Market =[\"BJs Total TA\",\"CVS Total Corp WO HI TA\",\"Dol Gen Total TA\",\"Family Dollar Total TA\",\"Publix Total TA\",\n",
    "         \"Rite Aid - Corp Total TA\",\"Sam's Total TA\",\"Total US Drug\",\"Target Total BM/FF TA\",\"Total US Food\",\"Total US xAOC\",\n",
    "         \"Walmart Total US TA\",'Walgreens Total TA']\n",
    "\n",
    "\n",
    "Fact = ['$','$ % Chg YA','$ Shr - CP CATEGORY','$ Shr Chg YA - CP CATEGORY','% $ Any Promo','% $ Any Promo Chg YA',\n",
    "        '%ACV','%ACV Chg YA','Any Promo $ Shr - CP CATEGORY','Any Promo $ Shr Chg YA - CP CATEGORY','Any Promo EQ Price',\n",
    "        'Any Promo EQ Price Chg YA','Avg # of Items','Avg # of Items Chg YA','Avg EQ Price','Avg EQ Price % Chg YA',\n",
    "        'Base $ Shr - CP CATEGORY','Base $ Shr Chg YA - CP CATEGORY','Base EQ Price','Base EQ Price Chg YA','EQ',\n",
    "        'EQ % Chg YA','Feat or Disp %ACV','Feat or Disp %ACV Chg YA','Incr $ Shr - CP CATEGORY',\n",
    "        'Incr $ Shr Chg YA - CP CATEGORY','TDP','TDP Chg YA']\n",
    "\n",
    "Time_Period=list(Cat_PC.columns[0:11])+list(Cat_PC.columns[14:15])+list(Cat_PC.columns[16:18])+list(Cat_PC.columns[26:27])\n",
    "\n",
    "Share_Basis=['BAR','BODYWASH', 'LIQUID','UAP']\n",
    "\n",
    "print(\"Time Period is ->\\n\",Time_Period)"
   ]
  },
  {
   "cell_type": "code",
   "execution_count": null,
   "metadata": {},
   "outputs": [],
   "source": [
    "# filter data based on market, facts, time_period and share basis\n",
    "Cat_PC=Cat_PC[Cat_PC['Markets'].isin(Market)]\n",
    "Cat_PC=Cat_PC[Cat_PC['Facts'].isin(Fact)]\n",
    "Cat_PC=Cat_PC[Cat_PC['ShareBasis'].isin(Share_Basis)]\n",
    "Cat_PC=Cat_PC[Time_Period]"
   ]
  },
  {
   "cell_type": "markdown",
   "metadata": {},
   "source": [
    "**Removing SubBrand Level Data**"
   ]
  },
  {
   "cell_type": "code",
   "execution_count": null,
   "metadata": {},
   "outputs": [],
   "source": [
    "# removing subbrand data\n",
    "Cat_PC=Cat_PC[Cat_PC[\"SubBrand\"]==\"\"]\n",
    "\n",
    "# removing subbrand Column\n",
    "col=list(Cat_PC.columns)\n",
    "col.remove(\"SubBrand\")\n",
    "Cat_PC = Cat_PC[col]"
   ]
  },
  {
   "cell_type": "code",
   "execution_count": null,
   "metadata": {},
   "outputs": [],
   "source": [
    "# sorting dataframe in markets, products, facts order\n",
    "Cat_PC=Cat_PC.sort_values(['Markets', 'Products','Facts'],ascending=[True,True,True]) \n",
    "\n",
    "# removing duplicates rows\n",
    "Cat_PC.drop_duplicates(subset=\"Key\",keep='last',inplace=True)\n",
    "\n",
    "# replacing nan values from zero\n",
    "Cat_PC.fillna(0,inplace=True)"
   ]
  },
  {
   "cell_type": "markdown",
   "metadata": {},
   "source": [
    "Exporting Data to the output folder"
   ]
  },
  {
   "cell_type": "code",
   "execution_count": null,
   "metadata": {},
   "outputs": [],
   "source": [
    "Cat_PC.to_csv(\"//falmumapp34/Nielsen Connect Transition & Maintenance (20-SCP-3650)/05. Output Data/Category Toolkit PC.csv\",index=False)"
   ]
  },
  {
   "cell_type": "markdown",
   "metadata": {},
   "source": [
    "### 5(b) PC MFR Sheet"
   ]
  },
  {
   "cell_type": "markdown",
   "metadata": {},
   "source": [
    "Making a copy of ***Line_Monthly_All*** and storing it in ***MFR_Sheet***"
   ]
  },
  {
   "cell_type": "code",
   "execution_count": null,
   "metadata": {},
   "outputs": [],
   "source": [
    "MFR_Sheet= Line_Monthly_All.copy()"
   ]
  },
  {
   "cell_type": "markdown",
   "metadata": {},
   "source": [
    "We need **Manufacturer** Level data for **MFR_Sheet.**\n",
    "\n",
    "**Removing all rows where SubBrand,Brand,Franchise level data is available** after that **removing SubBrand,Brand,Level column**"
   ]
  },
  {
   "cell_type": "code",
   "execution_count": null,
   "metadata": {},
   "outputs": [],
   "source": [
    "# removing subbrand data\n",
    "MFR_Sheet.reset_index(drop=True,inplace=True)\n",
    "index_names=MFR_Sheet[MFR_Sheet[\"SubBrand\"]!=\"\"].index\n",
    "MFR_Sheet.drop(index_names,inplace=True)\n",
    "\n",
    "# removing brand data\n",
    "MFR_Sheet.reset_index(drop=True,inplace=True)\n",
    "index_names=MFR_Sheet[MFR_Sheet[\"Brand\"]!=\"\"].index\n",
    "MFR_Sheet.drop(index_names,inplace=True)\n",
    "\n",
    "# removing franchise data\n",
    "MFR_Sheet.reset_index(drop=True,inplace=True)\n",
    "index_names=MFR_Sheet[MFR_Sheet[\"Franchise\"]!=\"\"].index\n",
    "MFR_Sheet.drop(index_names,inplace=True)\n",
    "\n",
    "# removing subbrand, brand, franchise columns\n",
    "col=list(MFR_Sheet.columns)\n",
    "col.remove(\"SubBrand\")\n",
    "col.remove(\"Brand\")\n",
    "col.remove(\"Franchise\")\n",
    "MFR_Sheet = MFR_Sheet[col]"
   ]
  },
  {
   "cell_type": "markdown",
   "metadata": {},
   "source": [
    "**Market, Facts, Time Period, ShareBasis and Products Selection for MFR_Sheet**\n",
    "\n",
    "Filter all the data based on the below selections for Category MFR_Sheet"
   ]
  },
  {
   "cell_type": "code",
   "execution_count": null,
   "metadata": {},
   "outputs": [],
   "source": [
    "Market =[\"BJs Total TA\",\"CVS Total Corp WO HI TA\",\"Dol Gen Total TA\",\"Family Dollar Total TA\",\"Publix Total TA\",\n",
    "         \"Rite Aid - Corp Total TA\",\"Sam's Total TA\",\"Total US Drug\",\"Target Total BM/FF TA\",\"Total US Food\",\"Total US xAOC\",\n",
    "         \"Walmart Total US TA\",'Walgreens Total TA']\n",
    "\n",
    "\n",
    "Fact= [\"$ % Chg YA\",\"EQ % Chg YA\",\"Avg EQ Price Chg YA\",\"Avg EQ Price % Chg YA\"]\n",
    "\n",
    "Time_Period=list(MFR_Sheet.columns[0:7])+list(MFR_Sheet.columns[23:36])\n",
    "\n",
    "Share_Basis=[\"BAR\",\"BODYWASH\",\"LIQUID\",\"UAP\"]\n",
    "\n",
    "print(\"Time Period is ->\\n\",Time_Period)"
   ]
  },
  {
   "cell_type": "code",
   "execution_count": null,
   "metadata": {},
   "outputs": [],
   "source": [
    "# filter data based on market, facts, time_period and share basis\n",
    "MFR_Sheet=MFR_Sheet[MFR_Sheet['Markets'].isin(Market)]\n",
    "MFR_Sheet=MFR_Sheet[MFR_Sheet['Facts'].isin(Fact)]\n",
    "MFR_Sheet=MFR_Sheet[MFR_Sheet['ShareBasis'].isin(Share_Basis)]\n",
    "MFR_Sheet=MFR_Sheet[Time_Period]"
   ]
  },
  {
   "cell_type": "code",
   "execution_count": null,
   "metadata": {},
   "outputs": [],
   "source": [
    "# sorting dataframe in markets, products, facts order\n",
    "MFR_Sheet=MFR_Sheet.sort_values(['Markets', 'Products','Facts'],ascending=[True,True,True]) \n",
    "\n",
    "# removing duplicates rows\n",
    "MFR_Sheet.drop_duplicates(subset=\"Key\",keep='last',inplace=True)\n",
    "\n",
    "# replacing nan values from zero\n",
    "MFR_Sheet.fillna(0,inplace=True)"
   ]
  },
  {
   "cell_type": "markdown",
   "metadata": {},
   "source": [
    "Exporting Data to the output folder"
   ]
  },
  {
   "cell_type": "code",
   "execution_count": null,
   "metadata": {},
   "outputs": [],
   "source": [
    "MFR_Sheet.to_csv(\"//falmumapp34/Nielsen Connect Transition & Maintenance (20-SCP-3650)/05. Output Data/Category Toolkit PC Manu.csv\",index=False)"
   ]
  },
  {
   "cell_type": "markdown",
   "metadata": {},
   "source": [
    "## 6. Category Toolkit HC"
   ]
  },
  {
   "cell_type": "markdown",
   "metadata": {},
   "source": [
    "Making a copy of ***Line_Monthly_All*** and storing it in ***Cat_HC***"
   ]
  },
  {
   "cell_type": "code",
   "execution_count": null,
   "metadata": {},
   "outputs": [],
   "source": [
    "Cat_HC=Line_Monthly_All.copy()"
   ]
  },
  {
   "cell_type": "markdown",
   "metadata": {},
   "source": [
    "**Market, Facts, Time Period, ShareBasis and Products Selection for Cat_HC**\n",
    "\n",
    "Filter all the data based on the below selections for Category Cat_HC"
   ]
  },
  {
   "cell_type": "code",
   "execution_count": null,
   "metadata": {},
   "outputs": [],
   "source": [
    "Market =[\"BJs Total TA\",\"CVS Total Corp WO HI TA\",\"Dol Gen Total TA\",\"Family Dollar Total TA\",\"Publix Total TA\",\n",
    "         \"Rite Aid - Corp Total TA\",\"Sam's Total TA\",\"Total US Drug\",\"Target Total BM/FF TA\",\"Total US Food\",\"Total US xAOC\",\n",
    "         \"Walmart Total US TA\",'Walgreens Total TA']\n",
    "\n",
    "\n",
    "Fact = ['$','$ % Chg YA','$ Shr - CP CATEGORY','$ Shr Chg YA - CP CATEGORY','% $ Any Promo','% $ Any Promo Chg YA',\n",
    "        '%ACV','%ACV Chg YA','Any Promo $ Shr - CP CATEGORY','Any Promo $ Shr Chg YA - CP CATEGORY','Any Promo EQ Price',\n",
    "        'Any Promo EQ Price Chg YA','Avg # of Items','Avg # of Items Chg YA','Avg EQ Price','Avg EQ Price % Chg YA',\n",
    "        'Base $ Shr - CP CATEGORY','Base $ Shr Chg YA - CP CATEGORY','Base EQ Price','Base EQ Price Chg YA','EQ',\n",
    "        'EQ % Chg YA','Feat or Disp %ACV','Feat or Disp %ACV Chg YA','Incr $ Shr - CP CATEGORY',\n",
    "        'Incr $ Shr Chg YA - CP CATEGORY','TDP','TDP Chg YA']\n",
    "\n",
    "Time_Period=list(Cat_HC.columns[0:10])+list(Cat_HC.columns[10:11])+list(Cat_HC.columns[14:15])+list(Cat_HC.columns[16:18])+list(Line_Monthly.columns[26:27])\n",
    "\n",
    "Share_Basis=['BEAD FS','FABRIC SOFTENERS','LDL/DISHAIDS/WPS/FM/SPRAYS', 'LIQUID FS','POUR APC+WW','SHEETS',\"SCENT BOOSTERS\",\"ADD\",\"MFR Sun Products\",\"MFR Sun Products LDL\"]\n",
    "\n",
    "print(\"Time Period is ->\\n\",Time_Period)"
   ]
  },
  {
   "cell_type": "code",
   "execution_count": null,
   "metadata": {},
   "outputs": [],
   "source": [
    "# filter data based on market, facts, time_period and share basis\n",
    "Cat_HC=Cat_HC[Cat_HC['Markets'].isin(Market)]\n",
    "Cat_HC=Cat_HC[Cat_HC['Facts'].isin(Fact)]\n",
    "Cat_HC=Cat_HC[Cat_HC['ShareBasis'].isin(Share_Basis)]\n",
    "Cat_HC=Cat_HC[Time_Period]"
   ]
  },
  {
   "cell_type": "markdown",
   "metadata": {},
   "source": [
    "**Removing SubBrand Level Data and taking Manufacturer level data for ShareBasis \"Bead FS\",\"Fabric Softners\",\"Sheets\",\"Scent Boosters\"**"
   ]
  },
  {
   "cell_type": "code",
   "execution_count": null,
   "metadata": {},
   "outputs": [],
   "source": [
    "# removing subbrand data\n",
    "Cat_HC_final=Cat_HC[Cat_HC[\"SubBrand\"]==\"\"]\n",
    "\n",
    "# Manufacturer level data for sharebasis \"Bead FS\",\"Fabric Softners\",\"Sheets\",\"Scent Boosters\"\n",
    "MFR_Sheet.reset_index(drop=True,inplace=True)\n",
    "index_names=Cat_HC_final[(Cat_HC_final[\"ShareBasis\"].isin([\"BEAD FS\",\"FABRIC SOFTENERS\",\"SHEETS\",\"SCENT BOOSTERS\"]) &(Cat_HC_final[\"Franchise\"]!=\"\"))].index\n",
    "Cat_HC_final.drop(index_names,inplace=True)\n",
    "\n",
    "# removing subbrand column\n",
    "col=list(Cat_HC_final.columns)\n",
    "col.remove(\"SubBrand\")\n",
    "Cat_HC_final = Cat_HC_final[col]"
   ]
  },
  {
   "cell_type": "code",
   "execution_count": null,
   "metadata": {},
   "outputs": [],
   "source": [
    "# sorting dataframe in markets, products, facts order\n",
    "Cat_HC=Cat_HC.sort_values(['Markets', 'Products','Facts'],ascending=[True,True,True]) \n",
    "\n",
    "# removing duplicates rows\n",
    "Cat_HC.drop_duplicates(subset=\"Key\",keep='last',inplace=True)\n",
    "\n",
    "# replacing nan values from zero\n",
    "Cat_HC.fillna(0,inplace=True)"
   ]
  },
  {
   "cell_type": "markdown",
   "metadata": {},
   "source": [
    "Exporting Data to the output folder"
   ]
  },
  {
   "cell_type": "code",
   "execution_count": null,
   "metadata": {},
   "outputs": [],
   "source": [
    "Cat_HC.to_csv(\"//falmumapp34/Nielsen Connect Transition & Maintenance (20-SCP-3650)/05. Output Data/Category Toolkit HC.csv\",index=False)"
   ]
  },
  {
   "cell_type": "markdown",
   "metadata": {},
   "source": [
    "### 6(b) HC MFR Sheet"
   ]
  },
  {
   "cell_type": "markdown",
   "metadata": {},
   "source": [
    "Making a copy of ***Line_Monthly_All*** and storing it in ***MFR_Sheet***"
   ]
  },
  {
   "cell_type": "code",
   "execution_count": null,
   "metadata": {},
   "outputs": [],
   "source": [
    "MFR_Sheet= Line_Monthly_All.copy()"
   ]
  },
  {
   "cell_type": "markdown",
   "metadata": {},
   "source": [
    "We need **Manufacturer** Level data for **MFR_Sheet.**\n",
    "\n",
    "**Removing all rows where SubBrand,Brand,Franchise level data is available** after that **removing SubBrand,Brand,Level column**"
   ]
  },
  {
   "cell_type": "code",
   "execution_count": null,
   "metadata": {},
   "outputs": [],
   "source": [
    "# removing subbrand data\n",
    "MFR_Sheet.reset_index(drop=True,inplace=True)\n",
    "index_names=MFR_Sheet[MFR_Sheet[\"SubBrand\"]!=\"\"].index\n",
    "MFR_Sheet.drop(index_names,inplace=True)\n",
    "\n",
    "# removing brand data\n",
    "MFR_Sheet.reset_index(drop=True,inplace=True)\n",
    "index_names=MFR_Sheet[MFR_Sheet[\"Brand\"]!=\"\"].index\n",
    "MFR_Sheet.drop(index_names,inplace=True)\n",
    "\n",
    "# removing franchise data\n",
    "MFR_Sheet.reset_index(drop=True,inplace=True)\n",
    "index_names=MFR_Sheet[MFR_Sheet[\"Franchise\"]!=\"\"].index\n",
    "MFR_Sheet.drop(index_names,inplace=True)\n",
    "\n",
    "# removing subbrand, brand, franchise columns\n",
    "col=list(MFR_Sheet.columns)\n",
    "col.remove(\"SubBrand\")\n",
    "col.remove(\"Brand\")\n",
    "col.remove(\"Franchise\")\n",
    "MFR_Sheet = MFR_Sheet[col]"
   ]
  },
  {
   "cell_type": "markdown",
   "metadata": {},
   "source": [
    "**Market, Facts, Time Period, ShareBasis and Products Selection for MFR_Sheet**\n",
    "\n",
    "Filter all the data based on the below selections for Category MFR_Sheet"
   ]
  },
  {
   "cell_type": "code",
   "execution_count": null,
   "metadata": {},
   "outputs": [],
   "source": [
    "Market =[\"BJs Total TA\",\"CVS Total Corp WO HI TA\",\"Dol Gen Total TA\",\"Family Dollar Total TA\",\"Publix Total TA\",\n",
    "         \"Rite Aid - Corp Total TA\",\"Sam's Total TA\",\"Total US Drug\",\"Target Total BM/FF TA\",\"Total US Food\",\"Total US xAOC\",\n",
    "         \"Walmart Total US TA\",'Walgreens Total TA']\n",
    "\n",
    "Fact= [\"$ % Chg YA\",\"EQ % Chg YA\",\"Avg EQ Price Chg YA\",\"Avg EQ Price % Chg YA\"]\n",
    "\n",
    "Time_Period=list(MFR_Sheet.columns[23:36])\n",
    "\n",
    "Share_Basis=['BEAD FS','FABRIC SOFTENERS','LDL/DISHAIDS/WPS/FM/SPRAYS', 'LIQUID FS','POUR APC+WW','SHEETS',\"ADD\",\"MFR Sun Products\",\"MFR Sun Products LDL\"]\n",
    "\n",
    "print(\"Time Period is ->\\n\",Time_Period)"
   ]
  },
  {
   "cell_type": "code",
   "execution_count": null,
   "metadata": {},
   "outputs": [],
   "source": [
    "# filter data based on market, facts, time_period and share basis\n",
    "MFR_Sheet=MFR_Sheet[MFR_Sheet['Markets'].isin(Market)]\n",
    "MFR_Sheet=MFR_Sheet[MFR_Sheet['Facts'].isin(Fact)]\n",
    "MFR_Sheet=MFR_Sheet[MFR_Sheet['ShareBasis'].isin(Share_Basis)]\n",
    "MFR_Sheet=MFR_Sheet[Time_Period]"
   ]
  },
  {
   "cell_type": "code",
   "execution_count": null,
   "metadata": {},
   "outputs": [],
   "source": [
    "# sorting dataframe in markets, products, facts order\n",
    "MFR_Sheet=MFR_Sheet.sort_values(['Markets', 'Products','Facts'],ascending=[True,True,True]) \n",
    "\n",
    "# removing duplicates rows\n",
    "MFR_Sheet.drop_duplicates(subset=\"Key\",keep='last',inplace=True)\n",
    "\n",
    "# replacing nan values from zero\n",
    "MFR_Sheet.fillna(0,inplace=True)"
   ]
  },
  {
   "cell_type": "markdown",
   "metadata": {},
   "source": [
    "Exporting Data to the output folder"
   ]
  },
  {
   "cell_type": "code",
   "execution_count": null,
   "metadata": {},
   "outputs": [],
   "source": [
    "MFR_Sheet.to_csv(\"//falmumapp34/Nielsen Connect Transition & Maintenance (20-SCP-3650)/05. Output Data/Category Toolkit HC Manu.csv\",index=False)"
   ]
  }
 ],
 "metadata": {
  "kernelspec": {
   "display_name": "Python 3",
   "language": "python",
   "name": "python3"
  },
  "language_info": {
   "codemirror_mode": {
    "name": "ipython",
    "version": 3
   },
   "file_extension": ".py",
   "mimetype": "text/x-python",
   "name": "python",
   "nbconvert_exporter": "python",
   "pygments_lexer": "ipython3",
   "version": "3.7.6"
  }
 },
 "nbformat": 4,
 "nbformat_minor": 4
}
