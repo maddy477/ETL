{
 "cells": [
  {
   "cell_type": "markdown",
   "metadata": {},
   "source": [
    "# Individual Trackers"
   ]
  },
  {
   "cell_type": "markdown",
   "metadata": {},
   "source": [
    " "
   ]
  },
  {
   "cell_type": "code",
   "execution_count": null,
   "metadata": {},
   "outputs": [],
   "source": [
    "import pandas as pd;\n",
    "import numpy as np;\n",
    "import os;\n",
    "import time;\n",
    "import datetime;\n",
    "import warnings;\n",
    "warnings.filterwarnings('ignore');\n",
    "from pandas.api.types import CategoricalDtype;"
   ]
  },
  {
   "cell_type": "markdown",
   "metadata": {},
   "source": [
    " "
   ]
  },
  {
   "cell_type": "markdown",
   "metadata": {},
   "source": [
    "## SPI_POL_DISH_Tracker"
   ]
  },
  {
   "cell_type": "markdown",
   "metadata": {},
   "source": [
    "### Line Level"
   ]
  },
  {
   "cell_type": "code",
   "execution_count": null,
   "metadata": {},
   "outputs": [],
   "source": [
    "#Reading the required Line level excel file\n",
    "Dish_data=pd.read_excel('//falmumapp34/Nielsen Connect Transition & Maintenance (20-SCP-3650)/03. Raw Data/Connect Data/SPI POL DISH Tracker/POL_Dish_Line.xlsx')\n"
   ]
  },
  {
   "cell_type": "code",
   "execution_count": null,
   "metadata": {
    "scrolled": true
   },
   "outputs": [],
   "source": [
    "#Renaming the Column names \n",
    "Dish_data.rename(columns={\"Periods\":\"Facts\"},inplace=True)"
   ]
  },
  {
   "cell_type": "markdown",
   "metadata": {},
   "source": [
    "**Removing unwanted characters from all the column names** and store them in a list ***new_col_names***"
   ]
  },
  {
   "cell_type": "code",
   "execution_count": null,
   "metadata": {},
   "outputs": [],
   "source": [
    "new_col_names=[]\n",
    "for i in Dish_data.columns:\n",
    "    x=len(i)\n",
    "    if x<=17:\n",
    "        new_col_names.append(i)\n",
    "    elif i[:3]=='YTD':\n",
    "        new_col_names.append(i[:-16].strip('- '))\n",
    "    else:\n",
    "        new_col_names.append(i[:-14].strip('- '))\n",
    "\n",
    "new_col_names[7:9]=[\"FY 2020\",\"FY 2019\"]"
   ]
  },
  {
   "cell_type": "markdown",
   "metadata": {},
   "source": [
    "Renaming the column names"
   ]
  },
  {
   "cell_type": "code",
   "execution_count": null,
   "metadata": {},
   "outputs": [],
   "source": [
    "# Line_Monthly.rename(columns=dict(zip(Line_Monthly.columns,new_col_names)),inplace=True)\n",
    "Dish_data.columns=new_col_names\n",
    "Dish_data.columns"
   ]
  },
  {
   "cell_type": "markdown",
   "metadata": {},
   "source": [
    "**Splitting \"Products\" column**\n",
    "\n",
    "Creating 6 new columns **\"Mega Category\",\"ShareBasis\",\"Manufacturer\",\"Franchise\",\"Brand\",\"SubBrand\"** from **\"Products\"** column by splitting "
   ]
  },
  {
   "cell_type": "code",
   "execution_count": null,
   "metadata": {
    "scrolled": true
   },
   "outputs": [],
   "source": [
    "Dish_data[['Mega Category','Category','ShareBasis','Manufacturer','Franchise','Size']] = Dish_data['Products'].str.split('|',n=5,expand=True)\n"
   ]
  },
  {
   "cell_type": "markdown",
   "metadata": {},
   "source": [
    "***movecol*** function to **rearranging** the columns of a dataframe"
   ]
  },
  {
   "cell_type": "code",
   "execution_count": null,
   "metadata": {},
   "outputs": [],
   "source": [
    "def movecol(df, cols_to_move=[], ref_col='', place=''):\n",
    "    cols = df.columns.tolist()\n",
    "    if place == 'After':\n",
    "        seg1 = cols[:list(cols).index(ref_col) + 1]\n",
    "        seg2 = cols_to_move\n",
    "    if place == 'Before':\n",
    "        seg1 = cols[:list(cols).index(ref_col)]\n",
    "        seg2 = cols_to_move + [ref_col]\n",
    "    seg1 = [i for i in seg1 if i not in seg2]\n",
    "    seg3 = [i for i in cols if i not in seg1 + seg2]\n",
    "    \n",
    "    return(df[seg1 + seg2 + seg3])"
   ]
  },
  {
   "cell_type": "code",
   "execution_count": null,
   "metadata": {
    "scrolled": false
   },
   "outputs": [],
   "source": [
    "# Moving columns after \"Market\"\n",
    "Dish_data = movecol(Dish_data, \n",
    "             cols_to_move=['ShareBasis','Manufacturer','Franchise','Size'], \n",
    "             ref_col='Markets',\n",
    "             place='After')\n",
    "\n",
    "#Dropping the columns not required in the output files\n",
    "Dish_data.drop([\"Category\",\"Mega Category\"],axis=1,inplace=True)\n"
   ]
  },
  {
   "cell_type": "markdown",
   "metadata": {},
   "source": [
    "**Replacing all the None values** in columns **\"ShareBasis\",\"Manufacturer\",\"Franchise\",\"Size\"**"
   ]
  },
  {
   "cell_type": "code",
   "execution_count": null,
   "metadata": {},
   "outputs": [],
   "source": [
    "Dish_data[['ShareBasis','Manufacturer','Franchise','Size']]=Dish_data[['ShareBasis','Manufacturer','Franchise','Size']].fillna(value=\"\")\n"
   ]
  },
  {
   "cell_type": "code",
   "execution_count": null,
   "metadata": {},
   "outputs": [],
   "source": [
    "# adding a \"KEY\" column\n",
    "Dish_data[\"Key\"]=Dish_data[\"Markets\"]+Dish_data[\"Products\"]+Dish_data[\"Facts\"]"
   ]
  },
  {
   "cell_type": "code",
   "execution_count": null,
   "metadata": {
    "scrolled": false
   },
   "outputs": [],
   "source": [
    "# moving \"KEY\" column to start of the column\n",
    "Dish_data = movecol(Dish_data, \n",
    "             cols_to_move=['Key'], \n",
    "             ref_col='Markets',\n",
    "             place='Before')\n",
    "Dish_data.head(3)"
   ]
  },
  {
   "cell_type": "code",
   "execution_count": null,
   "metadata": {},
   "outputs": [],
   "source": [
    "#sorting dataframe by markets, products, facts order\n",
    "Dish_data=Dish_data.sort_values(['Markets', 'Products','Facts'],ascending=[True,True,True])\n",
    "\n",
    "#removing duplicates rows\n",
    "Dish_data.drop_duplicates(subset=\"Key\",keep='last',inplace=True)\n",
    "\n",
    "#replacing nan values from zero\n",
    "Dish_data.fillna(0,inplace=True)"
   ]
  },
  {
   "cell_type": "code",
   "execution_count": null,
   "metadata": {},
   "outputs": [],
   "source": [
    "#Exporting the file in CSV format\n",
    "Dish_data.to_csv(\"//falmumapp34/Nielsen Connect Transition & Maintenance (20-SCP-3650)/05. Output Data/SPI_POL_DISH_Tracker Data.csv\",index=False)"
   ]
  },
  {
   "cell_type": "markdown",
   "metadata": {},
   "source": [
    "### UPC LEVEL "
   ]
  },
  {
   "cell_type": "code",
   "execution_count": null,
   "metadata": {},
   "outputs": [],
   "source": [
    "#Reading the required UPC level excel file\n",
    "Dish_data_UPC=pd.read_excel('//falmumapp34/Nielsen Connect Transition & Maintenance (20-SCP-3650)/03. Raw Data/Connect Data/SPI POL DISH Tracker/POL_Dish_UPC.xlsx')\n"
   ]
  },
  {
   "cell_type": "markdown",
   "metadata": {},
   "source": [
    "**Splitting \"Products\" column**\n",
    "\n",
    "Creating 6 new columns **\"Mega Category\", \"Concentrate\",\"Category\",\"ShareBasis\", \"Manufacturer\",\"Franchise\", \"Size\",\"Brand\",\"SubBrand\",\"SubBrand Variant\",\"Item\",\"UPC\"** from **\"Products\"** column by splitting "
   ]
  },
  {
   "cell_type": "code",
   "execution_count": null,
   "metadata": {},
   "outputs": [],
   "source": [
    "Dish_data_UPC[['Mega Category','Concentrate','Category','ShareBasis','Manufacturer','Franchise','Size','Brand','SubBrand','SubBrand Variant','Item','UPC']] = Dish_data_UPC['Products'].str.split('|',n=11,expand=True)\n"
   ]
  },
  {
   "cell_type": "code",
   "execution_count": null,
   "metadata": {},
   "outputs": [],
   "source": [
    "#Moving columns after the markets column\n",
    "Dish_data_UPC = movecol(Dish_data_UPC, \n",
    "             cols_to_move=['Size','Item','UPC',\"Brand\",\"SubBrand\",\"SubBrand Variant\"], \n",
    "             ref_col='Markets',\n",
    "             place='After')\n",
    "#Dropping columns not required in the output file\n",
    "Dish_data_UPC.drop([\"Category\",\"Mega Category\",\"Concentrate\"],axis=1,inplace=True)\n"
   ]
  },
  {
   "cell_type": "code",
   "execution_count": null,
   "metadata": {},
   "outputs": [],
   "source": [
    "#Dropping columns not required in the output file\n",
    "del Dish_data_UPC[\"ShareBasis\"]\n",
    "del Dish_data_UPC[\"Manufacturer\"]\n",
    "del Dish_data_UPC[\"Franchise\"]"
   ]
  },
  {
   "cell_type": "markdown",
   "metadata": {},
   "source": [
    "### Renaming the time period columns "
   ]
  },
  {
   "cell_type": "code",
   "execution_count": null,
   "metadata": {},
   "outputs": [],
   "source": [
    "connect_name=list(set(Dish_data_UPC[\"Periods\"]))\n",
    "\n",
    "new_name=[]\n",
    "new_name2=[]\n",
    "for i in connect_name:\n",
    "    x=len(i)\n",
    "    if x<=17:\n",
    "        new_name.append(i)\n",
    "    elif i[:3]=='YTD':\n",
    "        new_name.append(i[:-16].strip('- '))\n",
    "    else:\n",
    "        new_name.append(i[:-14].strip('- '))\n",
    "        \n",
    "for i in new_name:\n",
    "    \n",
    "    if i=='Cal Yr 2019':\n",
    "        new_name2.append('FY 2019')\n",
    "    elif i=='Cal Yr 2020':\n",
    "        new_name2.append('FY 2020')\n",
    "    else:\n",
    "        new_name2.append(i)\n",
    "\n",
    "        \n",
    "period_mapping = dict(zip(connect_name, new_name2)) \n",
    "Dish_data_UPC[\"Periods\"].replace(period_mapping,inplace= True)"
   ]
  },
  {
   "cell_type": "markdown",
   "metadata": {},
   "source": [
    "### Reordering the columns in as required in the output file"
   ]
  },
  {
   "cell_type": "code",
   "execution_count": null,
   "metadata": {},
   "outputs": [],
   "source": [
    "fact_ordering=[\"$ Shr - CP MEGA CATEGORY\",\"$ Shr Chg YA - CP MEGA CATEGORY\",\n",
    "                 \"Base $ Shr - $ - CP MEGA CATEGORY\",\"Base $ Shr Chg YA - $ - CP MEGA CATEGORY\",\n",
    "                 \"Incr $ Shr - $ - CP MEGA CATEGORY\",\"Incr $ Shr Chg YA - $ - CP MEGA CATEGORY\",\n",
    "                 \"$\",\"$ % Chg YA\",\"Units\",\"Units % Chg YA\",\"EQ\",\"EQ % Chg YA\",\"%ACV\",\"%ACV Chg YA\",\"$ / $MM ACV\",\"$ / $MM ACV % Chg YA\",\n",
    "                 \"Units / $MM ACV\",\"Units / $MM ACV % Chg YA\",\"Avg EQ Price\",\"Avg EQ Price % Chg YA\",'Avg Unit Price','Avg Unit Price % Chg YA',\"Base EQ Price\",\n",
    "                 \"Base EQ Price % Chg YA\",\"Any Promo EQ Price\",\"Any Promo EQ Price % Chg YA\",\"% EQ Any Promo\",\"% EQ Any Promo Chg YA\",\n",
    "                 \"Feat or Disp %ACV\",\"Feat or Disp %ACV Chg YA\",\"% $ Price Decr Only\",\"% $ Price Decr Only Chg YA\"\n",
    "]"
   ]
  },
  {
   "cell_type": "code",
   "execution_count": null,
   "metadata": {},
   "outputs": [],
   "source": [
    "column_ordering=['Markets', 'Size', 'Item', 'UPC', 'Brand', 'SubBrand',\n",
    "       'SubBrand Variant', 'Periods']+fact_ordering"
   ]
  },
  {
   "cell_type": "code",
   "execution_count": null,
   "metadata": {},
   "outputs": [],
   "source": [
    "Dish_data_UPC_final=Dish_data_UPC[column_ordering]"
   ]
  },
  {
   "cell_type": "code",
   "execution_count": null,
   "metadata": {},
   "outputs": [],
   "source": [
    "#Adding dummy columns \n",
    "Dish_data_UPC_final[\"Container\"]=\"\"\n",
    "Dish_data_UPC_final[\"Blank1\"]=\"\"\n",
    "Dish_data_UPC_final[\"Blank2\"]=\"\""
   ]
  },
  {
   "cell_type": "code",
   "execution_count": null,
   "metadata": {
    "scrolled": false
   },
   "outputs": [],
   "source": [
    "Dish_data_UPC_final = movecol(Dish_data_UPC_final, \n",
    "             cols_to_move=[\"Container\",\"Blank1\",\"Blank2\"], \n",
    "             ref_col='SubBrand Variant',\n",
    "             place='After')\n"
   ]
  },
  {
   "cell_type": "code",
   "execution_count": null,
   "metadata": {},
   "outputs": [],
   "source": [
    "Dish_data_UPC_final[\"Level_2\"]=Dish_data_UPC_final[\"Size\"]\n",
    "#Rordering the new columns\n",
    "Dish_data_UPC_final = movecol(Dish_data_UPC_final, \n",
    "             cols_to_move=[\"Level_2\"], \n",
    "             ref_col='Feat or Disp %ACV Chg YA',\n",
    "             place='After')\n"
   ]
  },
  {
   "cell_type": "code",
   "execution_count": null,
   "metadata": {},
   "outputs": [],
   "source": [
    "# Removing OZ from Size column and strip the column\n",
    "Dish_data_UPC_final[\"Size\"]=Dish_data_UPC_final[\"Size\"].str.replace(\" OZ\",\"\")\n",
    "Dish_data_UPC_final[\"Size\"]=Dish_data_UPC_final[\"Size\"].apply(lambda x : x.strip())\n"
   ]
  },
  {
   "cell_type": "markdown",
   "metadata": {},
   "source": [
    "**UPC Filter**"
   ]
  },
  {
   "cell_type": "markdown",
   "metadata": {},
   "source": [
    "#### Filtering UPC's for Dollar sales value > 10000 for US xAOC in Latest 52 weeks"
   ]
  },
  {
   "cell_type": "code",
   "execution_count": null,
   "metadata": {},
   "outputs": [],
   "source": [
    "Dish_data_UPC_final_backup=Dish_data_UPC_final.copy()"
   ]
  },
  {
   "cell_type": "code",
   "execution_count": null,
   "metadata": {},
   "outputs": [],
   "source": [
    "df1=Dish_data_UPC_final[(Dish_data_UPC[\"Periods\"]==\"Latest 52 Wks\") & (Dish_data_UPC_final[\"Markets\"]==\"Total US xAOC\")]\n",
    "df2=df1[df1['$']>10000]\n",
    "df2.head(2)"
   ]
  },
  {
   "cell_type": "code",
   "execution_count": null,
   "metadata": {},
   "outputs": [],
   "source": [
    "UPC=list(set(df2[\"UPC\"]))+[' 003511001417',' 005800014029']"
   ]
  },
  {
   "cell_type": "code",
   "execution_count": null,
   "metadata": {},
   "outputs": [],
   "source": [
    "Dish_data_UPC_final=Dish_data_UPC_final[Dish_data_UPC_final['SubBrand']!= ' POL ESSENTIAL CLEAN ']"
   ]
  },
  {
   "cell_type": "code",
   "execution_count": null,
   "metadata": {},
   "outputs": [],
   "source": [
    "Dish_data_UPC_final=Dish_data_UPC_final[Dish_data_UPC_final[\"UPC\"].isin(UPC)]\n"
   ]
  },
  {
   "cell_type": "markdown",
   "metadata": {},
   "source": [
    "**SIZE Filter: Keeping only sizes required in the front end**\n"
   ]
  },
  {
   "cell_type": "code",
   "execution_count": null,
   "metadata": {},
   "outputs": [],
   "source": [
    "Size = [\"8\",\"10\",\"18\",\"20\",\"32.5\",\"46\",\"56\",\"68.5\",\"90\",\"102\"]"
   ]
  },
  {
   "cell_type": "code",
   "execution_count": null,
   "metadata": {},
   "outputs": [],
   "source": [
    "Dish_data_UPC_final=Dish_data_UPC_final[Dish_data_UPC_final['Size'].isin(Size)]"
   ]
  },
  {
   "cell_type": "code",
   "execution_count": null,
   "metadata": {},
   "outputs": [],
   "source": [
    "#sorting dataframe in markets, products, facts order\n",
    "Dish_data_UPC_final=Dish_data_UPC_final.sort_values(['Markets', 'UPC','Periods'],ascending=[True,True,True])\n",
    "\n",
    "#removing duplicates rows\n",
    "Dish_data_UPC_final.drop_duplicates(subset=['Markets', 'UPC','Periods'],keep='last',inplace=True)\n",
    "\n",
    "#replacing nan values from zero\n",
    "Dish_data_UPC_final.fillna(0,inplace=True)\n"
   ]
  },
  {
   "cell_type": "code",
   "execution_count": null,
   "metadata": {},
   "outputs": [],
   "source": [
    "Dish_data_UPC_final.to_csv(\"//falmumapp34/Nielsen Connect Transition & Maintenance (20-SCP-3650)/05. Output Data/SPI_POL_DISH_UPC.csv\",index=False)"
   ]
  },
  {
   "cell_type": "markdown",
   "metadata": {},
   "source": [
    "## OW Pen Tracker"
   ]
  },
  {
   "cell_type": "markdown",
   "metadata": {},
   "source": [
    "## 1. Monthly and Weekly Data prep"
   ]
  },
  {
   "cell_type": "markdown",
   "metadata": {},
   "source": [
    "**Accessing Input Files**"
   ]
  },
  {
   "cell_type": "code",
   "execution_count": null,
   "metadata": {},
   "outputs": [],
   "source": [
    "monthly = pd.read_excel(r\"\\\\falmumapp34\\Nielsen Connect Transition & Maintenance (20-SCP-3650)\\03. Raw Data\\Connect Data\\OW Pen Tracker\\OW Pen Tracker Monthly.xlsx\")\n",
    "weekly= pd.read_excel(r\"\\\\falmumapp34\\Nielsen Connect Transition & Maintenance (20-SCP-3650)\\03. Raw Data\\Connect Data\\OW Pen Tracker\\OW Pen Tracker Weekly.xlsx\")"
   ]
  },
  {
   "cell_type": "markdown",
   "metadata": {},
   "source": [
    "**Changing column \"Periods\" to \"Facts\"**"
   ]
  },
  {
   "cell_type": "code",
   "execution_count": null,
   "metadata": {},
   "outputs": [],
   "source": [
    "monthly=monthly.rename(columns={'Periods':'Facts'})\n",
    "weekly=weekly.rename(columns={'Periods':'Facts'})"
   ]
  },
  {
   "cell_type": "markdown",
   "metadata": {},
   "source": [
    "**Time period mapping**\n",
    "\n",
    "**Manual Step**\n",
    "\n",
    "This mapping needs to be changed every year when new year data arrives"
   ]
  },
  {
   "cell_type": "code",
   "execution_count": null,
   "metadata": {},
   "outputs": [],
   "source": [
    "time_period_map= pd.DataFrame({'Connect Time Period':['Markets', 'Products', 'Facts','Cal Yr 2020','Cal Yr 2019','Cal Yr 2018','Cal Yr 2017','YTD','YTD YA','Latest 13 Wks','Latest 26 Wks','Dec 21','Nov 21','Oct 21','Sep 21','Aug 21','Jul 21','Jun 21','May 21','Apr 21','Mar 21','Feb 21','Jan 21','Dec 20','Nov 20','Oct 20','Sep 20','Aug 20','Jul 20','Jun 20','May 20','Apr 20','Mar 20','Feb 20','Jan 20','1 w/e','Launch To Date'],\n",
    "                               'Final Name':['Markets', 'Products', 'Facts','FY 2020','FY 2019','FY 2018','FY 2017','YTD 2021','YTD 2020','Latest 13 Weeks','Latest 26 Weeks','Dec 21','Nov 21','Oct 21','Sep 21','Aug 21','Jul 21','Jun 21','May 21','Apr 21','Mar 21','Feb 21','Jan 21','Dec 20','Nov 20','Oct 20','Sep 20','Aug 20','Jul 20','Jun 20','May 20','Apr 20','Mar 20','Feb 20','Jan 20','Latest Week','Launch To Date']\n",
    "                              ,'Order':range(1,38)})"
   ]
  },
  {
   "cell_type": "code",
   "execution_count": null,
   "metadata": {},
   "outputs": [],
   "source": [
    "# assigning variables\n",
    "ow_col = list(monthly.columns)\n",
    "time_connect=list(time_period_map[\"Connect Time Period\"])\n",
    "time_final=list(time_period_map[\"Final Name\"])\n",
    "\n",
    "# changing column names based on time_period_mapping\n",
    "new_column = []\n",
    "for i in range(0,len(ow_col)):\n",
    "    for j in range(0,len(time_connect)):\n",
    "        if time_connect[j] in ow_col[i]:\n",
    "            new_column.append(time_final[j])\n",
    "                    \n",
    "# assigning new column names to Line_Monthly\n",
    "monthly.columns = new_column"
   ]
  },
  {
   "cell_type": "markdown",
   "metadata": {},
   "source": [
    "creating ***movecol*** function to **rearranging** the columns of a dataframe"
   ]
  },
  {
   "cell_type": "code",
   "execution_count": null,
   "metadata": {},
   "outputs": [],
   "source": [
    "def movecol(df, cols_to_move=[], ref_col='', place=''):\n",
    "    cols = df.columns.tolist()\n",
    "    if place == 'After':\n",
    "        seg1 = cols[:list(cols).index(ref_col) + 1]\n",
    "        seg2 = cols_to_move\n",
    "    if place == 'Before':\n",
    "        seg1 = cols[:list(cols).index(ref_col)]\n",
    "        seg2 = cols_to_move + [ref_col]\n",
    "    seg1 = [i for i in seg1 if i not in seg2]\n",
    "    seg3 = [i for i in cols if i not in seg1 + seg2]\n",
    "    \n",
    "    return(df[seg1 + seg2 + seg3])"
   ]
  },
  {
   "cell_type": "code",
   "execution_count": null,
   "metadata": {},
   "outputs": [],
   "source": [
    "# adding a \"KEY\" column\n",
    "monthly[\"Key\"]=monthly[\"Markets\"]+monthly[\"Products\"]+monthly[\"Facts\"]\n",
    "weekly[\"Key\"]=weekly[\"Markets\"]+weekly[\"Products\"]+weekly[\"Facts\"]\n",
    "\n",
    "# moving \"KEY\" column to start of the column\n",
    "monthly = movecol(monthly, \n",
    "             cols_to_move=['Key'], \n",
    "             ref_col='Markets',\n",
    "             place='Before')\n",
    "\n",
    "# moving \"KEY\" column to start of the column\n",
    "weekly = movecol(weekly, \n",
    "             cols_to_move=['Key'], \n",
    "             ref_col='Markets',\n",
    "             place='Before')"
   ]
  },
  {
   "cell_type": "code",
   "execution_count": null,
   "metadata": {},
   "outputs": [],
   "source": [
    "# removing duplicate rows\n",
    "weekly.drop_duplicates(inplace=True)\n",
    "# removing duplicated rows\n",
    "monthly.drop_duplicates(inplace=True)"
   ]
  },
  {
   "cell_type": "markdown",
   "metadata": {},
   "source": [
    "**Exporting data into output files**"
   ]
  },
  {
   "cell_type": "code",
   "execution_count": null,
   "metadata": {},
   "outputs": [],
   "source": [
    "# exporting weekly data\n",
    "weekly.to_csv(\"//falmumapp34/Nielsen Connect Transition & Maintenance (20-SCP-3650)/05. Output Data/OW Pen Tracker Weekly.csv\",index=False)\n",
    "\n",
    "# exporting monthly data\n",
    "monthly.to_csv(\"//falmumapp34/Nielsen Connect Transition & Maintenance (20-SCP-3650)/05. Output Data/OW Pen Tracker Monthly.csv\",index=False)"
   ]
  },
  {
   "cell_type": "markdown",
   "metadata": {},
   "source": [
    "## 2. LaunchBenchmark Data prep"
   ]
  },
  {
   "cell_type": "markdown",
   "metadata": {},
   "source": [
    "**Accessing Input Files**"
   ]
  },
  {
   "cell_type": "code",
   "execution_count": null,
   "metadata": {},
   "outputs": [],
   "source": [
    "# reading data\n",
    "sort= pd.read_excel(r\"\\\\falmumapp34\\Nielsen Connect Transition & Maintenance (20-SCP-3650)\\03. Raw Data\\Connect Data\\OW Pen Tracker\\OW Pen Tracker YTD Sort.xlsx\")\n",
    "# reading data\n",
    "launch_bm = pd.read_excel(r\"\\\\falmumapp34\\Nielsen Connect Transition & Maintenance (20-SCP-3650)\\03. Raw Data\\Connect Data\\OW Pen Tracker\\OW Pen Tracker Launch Benchmark.xlsx\")"
   ]
  },
  {
   "cell_type": "markdown",
   "metadata": {},
   "source": [
    "### a. YTD Sort Report"
   ]
  },
  {
   "cell_type": "markdown",
   "metadata": {},
   "source": [
    "**Stripping the columns**"
   ]
  },
  {
   "cell_type": "code",
   "execution_count": null,
   "metadata": {},
   "outputs": [],
   "source": [
    "cols=list(sort.columns[0:2])\n",
    "sort[cols]=sort[cols].apply(lambda x : x.str.strip())"
   ]
  },
  {
   "cell_type": "markdown",
   "metadata": {},
   "source": [
    "**Market Mapping**"
   ]
  },
  {
   "cell_type": "code",
   "execution_count": null,
   "metadata": {},
   "outputs": [],
   "source": [
    "market_mapping={\n",
    "    \"Total US xAOC\":\"TOTAL US XAOC\",\n",
    "    \"Total US Drug\":\"TOTAL US DRUG\",\n",
    "    \"Total US Food\":\"TOTAL US FOOD\",\n",
    "    \"Target Total BM/FF TA\":\"TARGET TOTAL BM/FF CENSUS TA\",\n",
    "    \"Walmart Total US TA\":\"TOTAL WALMART TOTAL US CTA\",\n",
    "    \"Walgreens Corp Total TA\":\"WALGREENS CORP TOTAL CENSUS TA\",\n",
    "    \"ShopRite Total TA\":\"SHOPRITE TOTAL CENSUS TRADING AREA\",\n",
    "    \"Meijer Total TA\":\"MEIJER TOTAL CENSUS TRADING AREA\",\n",
    "    \"CVS Total Corp WO HI TA\":\"CVS TOTAL CORP WO HI CENSUS TA\",\n",
    "    \"Ahold USA Corp Total TA\":\"AHOLD USA CORP TOTAL CTA\",\n",
    "    \"Wegmans Total TA\":\"WEGMAN'S TOTAL CENSUS TRADING AREA\"\n",
    "}"
   ]
  },
  {
   "cell_type": "markdown",
   "metadata": {},
   "source": [
    "**Products Mapping**"
   ]
  },
  {
   "cell_type": "code",
   "execution_count": null,
   "metadata": {},
   "outputs": [],
   "source": [
    "product_mapping={\n",
    "    'WHITENING SYS | WS PEN | ACTIVE WOW | REM SUBBRAND | ACTIVE WOW TOOTH WHITENER CHARCOAL PLUS MINT WS PEN .09 FLUID OUNCE REM MULTI':\"ACTIVE WOW WS PEN CHRC PLS MNT .09 FLD OZ 001\",\n",
    "    \"WHITENING SYS | WS PEN | COLGATE-PALMOLIVE | COLGATE OPTIC WHITE PEN | COLGATE OPTIC WHT PEN OVERNGHT TOOTH WHITENER WS PEN .08 FLUID OUNCE REM MULTI\":\"COLGATE OPTIC WHITE PEN OVERNIGHT .08 FLD OZ 001\",\n",
    "    \"WHITENING SYS | WS PEN | P&G | ARC PRECISION APPLICATOR | ARC TOOTH WHITENER WS PEN 0.13 FLUID OUNCE REM MULTI\":\"ARC PRECISION APPLICATOR WS PEN .13 FLD OZ 001\",\n",
    "    \"WHITENING SYS | WS GEL | P&G | CREST WT EMLSN BUILT-IN APLCTR | CREST WHITENING TOOTH WHITENER WS GEL .35 OUNCE REM MULTI\":\"CREST WT EMLSN BUILT-IN APLCTR WGL .35 OZ 001\",\n",
    "    \"WHITENING SYS | WS GEL | P&G | CREST WT EMLSN WAND APPLCTR + LIGHT | CREST WHITENING TOOTH WHITENING KIT WS GEL 1 COUNT REM MULTI\":\"CREST WT EMLSN WAND APPLCTR WGL 1 CT 001\",\n",
    "    \"WHITENING SYS | WS PEN | REM MFG | MOON WHITENING PENS | MOON TOOTH WHITENER VANILLA MINT WS PEN .09 FLUID OUNCE REM MULTI\":\"MOON WS PEN VNL MNT .09 FLD OZ 001\",\n",
    "    \"WHITENING SYS | WS PEN | REM MFG | REM SUBBRAND | BRITENZ TOOTH WHITENER MINTY FRESH TASTE WS PEN .5 FLUID OUNCE REM MULTI\":\"BRITENZ WS PEN MNTY FRSH TST .5 FLD OZ 001\",\n",
    "    \"WHITENING SYS | WS PEN | REM MFG | REM SUBBRAND | BRITENZ TOOTH WHITENER MINTY FRESH TASTE WS PEN .05 FLUID OUNCE REM MULTI\":\"BRITENZ WS PEN MNTY FRSH TST .05 FLD OZ 003\",\n",
    "    \"WHITENING SYS | WS PEN | REM MFG | REM SUBBRAND | DALE AUDREY WHITE 2 NITE TOOTH WHITENER PEPPER MINT WS PEN .07 OUNCE REM MULTI\":\"DALE AUDREY WHITE 2 NITE WS PEN PPR MNT .07 OZ 001\",\n",
    "    \"WHITENING SYS | WS PEN | REM MFG | REM SUBBRAND | DR GINGER'S TOOTH WHITENER COCONUT MINT WS PEN NO FLUORIDE .35 OUNCE REM MULTI\":\"DR GINGER'S SUT WS PEN CCNT MNT .35 OZ 001\",\n",
    "    \"WHITENING SYS | WS PEN | P&G | ARC TRAVEL APPLICATOR | ARC TOOTH WHITENER WS PEN .06 FLUID OUNCE REM MULTI\":\"ARC TRAVEL APPLICATOR WS PEN .06 FLD OZ 001\",\n",
    "    \"WHITENING SYS | WS PEN | REM MFG | REM SUBBRAND | BRUSH BUDDIES TOOTH WHITENER WS PEN .08 FLUID OUNCE REM MULTI\":\"BRUSH BUDDIES WS PEN .08 FLD OZ 001\",\n",
    "    \"WHITENING SYS | WS PEN | SMILE DIRECT CLUB | SML DRCT CLB WHTNG KIT\":\"SMILE DIRECT CLUB WHITENING KIT 8 PENS\",\n",
    "    \"WHITENING SYS | WS PEN | PRVT LBL | PRVT LBL PEN | PRIVATE LABEL TOOTH WHITENER FRESH MINT GEL .11 FLUID OUNCE\":\"CTL BR PRVT LBL PEN WS PEN FRSH MNT .11 FLD OZ 001\",\n",
    "    \"WHITENING SYS | WS PEN | PRVT LBL | PRVT LBL PEN | CVS HEALTH TOOTH WHITENER FRESH MINT WS PEN .08 FLUID OUNCE REM MULTI\":\"CTL BR PRVT LBL PEN WS PEN FRSH MNT .08 FLD OZ 001\",\n",
    "    \"WHITENING SYS | WS PEN | P&G | GLEEM WHITENING PEN | GLEEM TOOTH WHITENER WS PEN 0.13 FLUID OUNCE REM MULTI\":\"GLEEM WHITENING PEN WS PEN .13 FLD OZ 001\"\n",
    "}"
   ]
  },
  {
   "cell_type": "code",
   "execution_count": null,
   "metadata": {},
   "outputs": [],
   "source": [
    "# Applying Market and product mappping\n",
    "sort[\"Markets\"].replace(market_mapping,inplace=True)\n",
    "sort[\"Products\"].replace(product_mapping,inplace=True)\n"
   ]
  },
  {
   "cell_type": "markdown",
   "metadata": {},
   "source": [
    "**Markets and Products Filter**"
   ]
  },
  {
   "cell_type": "code",
   "execution_count": null,
   "metadata": {},
   "outputs": [],
   "source": [
    "# Market filter\n",
    "sort_markets = [\"TOTAL US XAOC\",\"TOTAL US DRUG\",\"TOTAL US FOOD\",\"TARGET TOTAL BM/FF CENSUS TA\",\"TOTAL WALMART TOTAL US CTA\",\n",
    "                \"WALGREENS CORP TOTAL CENSUS TA\",\"SHOPRITE TOTAL CENSUS TRADING AREA\",\"MEIJER TOTAL CENSUS TRADING AREA\",\n",
    "                \"CVS TOTAL CORP WO HI CENSUS TA\",\"AHOLD USA CORP TOTAL CTA\",\"WEGMAN'S TOTAL CENSUS TRADING AREA\"]\n",
    "# Products filter\n",
    "sort_products = [\"ACTIVE WOW WS PEN CHRC PLS MNT .09 FLD OZ 001\",\"COLGATE OPTIC WHITE PEN OVERNIGHT .08 FLD OZ 001\",\n",
    "                 \"ARC PRECISION APPLICATOR WS PEN .13 FLD OZ 001\",\"CREST WT EMLSN BUILT-IN APLCTR WGL .35 OZ 001\",\n",
    "                 \"CREST WT EMLSN WAND APPLCTR WGL 1 CT 001\",\"MOON WS PEN VNL MNT .09 FLD OZ 001\",\n",
    "                 \"BRITENZ WS PEN MNTY FRSH TST .5 FLD OZ 001\",\"BRITENZ WS PEN MNTY FRSH TST .05 FLD OZ 003\",\n",
    "                 \"DALE AUDREY WHITE 2 NITE WS PEN PPR MNT .07 OZ 001\",\"DR GINGER'S SUT WS PEN CCNT MNT .35 OZ 001\",\n",
    "                 \"ARC TRAVEL APPLICATOR WS PEN .06 FLD OZ 001\",\"BRUSH BUDDIES WS PEN .08 FLD OZ 001\",\n",
    "                 \"SMILE DIRECT CLUB WHITENING KIT 8 PENS\",\"CTL BR PRVT LBL PEN WS PEN FRSH MNT .11 FLD OZ 001\",\n",
    "                 \"CTL BR PRVT LBL PEN WS PEN FRSH MNT .08 FLD OZ 001\",\"GLEEM WHITENING PEN WS PEN .13 FLD OZ 001\"]"
   ]
  },
  {
   "cell_type": "code",
   "execution_count": null,
   "metadata": {},
   "outputs": [],
   "source": [
    "# Applying Filters\n",
    "sort= sort[sort[\"Markets\"].isin(sort_markets)]\n",
    "sort=sort[sort[\"Products\"].isin(sort_products)]"
   ]
  },
  {
   "cell_type": "code",
   "execution_count": null,
   "metadata": {},
   "outputs": [],
   "source": [
    "# Renaming column \"$\" to column \"Dollars\"\n",
    "sort.rename(columns = {\"$\":\"Dollars\"}, inplace = True)\n",
    "\n",
    "# Removing duplicates\n",
    "sort.drop_duplicates(inplace=True)"
   ]
  },
  {
   "cell_type": "markdown",
   "metadata": {},
   "source": [
    "**Exporting data into output files**"
   ]
  },
  {
   "cell_type": "code",
   "execution_count": null,
   "metadata": {
    "scrolled": false
   },
   "outputs": [],
   "source": [
    "sort.to_csv(\"//falmumapp34/Nielsen Connect Transition & Maintenance (20-SCP-3650)/05. Output Data/OW Pen Tracker YTD Sort.csv\",index=False)"
   ]
  },
  {
   "cell_type": "markdown",
   "metadata": {},
   "source": [
    "## b. **Launch Benchmark Report**"
   ]
  },
  {
   "cell_type": "markdown",
   "metadata": {},
   "source": [
    "**Changing column \"Periods\" to \"Facts\"**"
   ]
  },
  {
   "cell_type": "code",
   "execution_count": null,
   "metadata": {},
   "outputs": [],
   "source": [
    "lbm=launch_bm.rename(columns={'Periods':'Facts'})"
   ]
  },
  {
   "cell_type": "code",
   "execution_count": null,
   "metadata": {},
   "outputs": [],
   "source": [
    "# assigning variables\n",
    "lbm_col = list(lbm.columns)\n",
    "time_connect=list(time_period_map[\"Connect Time Period\"])\n",
    "time_final=list(time_period_map[\"Final Name\"])\n",
    "\n",
    "# changing column names based on time_period_mapping\n",
    "new_column = []\n",
    "for i in range(0,len(lbm_col)):\n",
    "    for j in range(0,len(time_connect)):\n",
    "        if time_connect[j] in lbm_col[i]:\n",
    "            new_column.append(time_final[j])\n",
    "            \n",
    "# assigning new column names to Lbm dataframe\n",
    "lbm.columns = new_column"
   ]
  },
  {
   "cell_type": "markdown",
   "metadata": {},
   "source": [
    "**Stripping the columns**"
   ]
  },
  {
   "cell_type": "code",
   "execution_count": null,
   "metadata": {},
   "outputs": [],
   "source": [
    "cols=list(lbm.columns[0:2])\n",
    "\n",
    "lbm[cols]=lbm[cols].apply(lambda x : x.str.strip())"
   ]
  },
  {
   "cell_type": "markdown",
   "metadata": {},
   "source": [
    "**Fact Mapping**"
   ]
  },
  {
   "cell_type": "code",
   "execution_count": null,
   "metadata": {},
   "outputs": [],
   "source": [
    "fact_mapping={\n",
    "    \"$\":\"Dollars\",\n",
    "    \"Base $\":\"Baseline $\",\n",
    "    \"Incr $\":\"Incr.$\",\n",
    "    \"Units\":\"Units\",\n",
    "    \"%ACV\":\"% Stores Selling\",\n",
    "    \"TDP\":\"Cumulative Distribution Pts\",\n",
    "    \"Avg Unit Price\":\"RASP\",\n",
    "    \"$ / %ACV\":\"$ per Pt Distribution\",\n",
    "    \"$ Shr - CP CATEGORY\":\"$ Share AHW\",\n",
    "    \"$ Shr - CP FORM\":\"$ Share AHW Pen\"\n",
    "}"
   ]
  },
  {
   "cell_type": "code",
   "execution_count": null,
   "metadata": {},
   "outputs": [],
   "source": [
    "# applying \"Markets\",\"Products\" and \"Facts\" mapping\n",
    "lbm[\"Markets\"].replace(market_mapping,inplace=True)\n",
    "lbm[\"Products\"].replace(product_mapping,inplace=True)\n",
    "lbm[\"Facts\"].replace(fact_mapping,inplace=True)"
   ]
  },
  {
   "cell_type": "code",
   "execution_count": null,
   "metadata": {},
   "outputs": [],
   "source": [
    "# Creating \"Key\" column\n",
    "lbm[\"Key\"] = lbm[\"Markets\"]+lbm[\"Products\"]+lbm[\"Facts\"]\n",
    "\n",
    "# moving \"KEY\" column to start of the column\n",
    "lbm = movecol(lbm, \n",
    "             cols_to_move=['Key'], \n",
    "             ref_col='Markets',\n",
    "             place='Before')"
   ]
  },
  {
   "cell_type": "markdown",
   "metadata": {},
   "source": [
    "**Markets, Facts, Products Selection**"
   ]
  },
  {
   "cell_type": "code",
   "execution_count": null,
   "metadata": {},
   "outputs": [],
   "source": [
    "lbm_markets = [\"TOTAL US XAOC\",\"TOTAL US DRUG\",\"TOTAL US FOOD\",\"TARGET TOTAL BM/FF CENSUS TA\",\"TOTAL WALMART TOTAL US CTA\",\n",
    "               \"WALGREENS CORP TOTAL CENSUS TA\",\"SHOPRITE TOTAL CENSUS TRADING AREA\",\"MEIJER TOTAL CENSUS TRADING AREA\",\n",
    "               \"CVS TOTAL CORP WO HI CENSUS TA\",\"AHOLD USA CORP TOTAL CTA\",\"WEGMAN'S TOTAL CENSUS TRADING AREA\"]\n",
    "\n",
    "lbm_facts = [\"Dollars\",\"Baseline $\",\"Incr.$\",\"Units\",\"% Stores Selling\",\"Cumulative Distribution Pts\",\"RASP\",\n",
    "             \"$ per Pt Distribution\",\"$ Share AHW\",\"$ Share AHW Pen\"]\n",
    "\n",
    "lbm_products = [\"ACTIVE WOW WS PEN CHRC PLS MNT .09 FLD OZ 001\",\"COLGATE OPTIC WHITE PEN OVERNIGHT .08 FLD OZ 001\",\n",
    "                \"ARC PRECISION APPLICATOR WS PEN .13 FLD OZ 001\",\"CREST WT EMLSN BUILT-IN APLCTR WGL .35 OZ 001\",\n",
    "                \"CREST WT EMLSN WAND APPLCTR WGL 1 CT 001\",\"MOON WS PEN VNL MNT .09 FLD OZ 001\",\n",
    "                \"BRITENZ WS PEN MNTY FRSH TST .5 FLD OZ 001\",\"BRITENZ WS PEN MNTY FRSH TST .05 FLD OZ 003\",\n",
    "                \"DALE AUDREY WHITE 2 NITE WS PEN PPR MNT .07 OZ 001\",\"DR GINGER'S SUT WS PEN CCNT MNT .35 OZ 001\",\n",
    "                \"ARC TRAVEL APPLICATOR WS PEN .06 FLD OZ 001\",\"BRUSH BUDDIES WS PEN .08 FLD OZ 001\",\n",
    "                \"SMILE DIRECT CLUB WHITENING KIT 8 PENS\",\"CTL BR PRVT LBL PEN WS PEN FRSH MNT .11 FLD OZ 001\",\n",
    "                \"CTL BR PRVT LBL PEN WS PEN FRSH MNT .08 FLD OZ 001\",\"GLEEM WHITENING PEN WS PEN .13 FLD OZ 001\"]"
   ]
  },
  {
   "cell_type": "code",
   "execution_count": null,
   "metadata": {},
   "outputs": [],
   "source": [
    "# appying filters \n",
    "lbm= lbm[lbm[\"Facts\"].isin(lbm_facts)]\n",
    "lbm= lbm[lbm[\"Markets\"].isin(lbm_markets)]\n",
    "lbm=lbm[lbm[\"Products\"].isin(lbm_products)]"
   ]
  },
  {
   "cell_type": "markdown",
   "metadata": {},
   "source": [
    "**Reading Previous month Launch Benchmark file**"
   ]
  },
  {
   "cell_type": "code",
   "execution_count": null,
   "metadata": {
    "scrolled": true
   },
   "outputs": [],
   "source": [
    "ow_hist_data = pd.read_csv(r\"\\\\falmumapp34\\Nielsen Connect Transition & Maintenance (20-SCP-3650)\\05. Output Data\\OW Pen Tracker Launch Benchmark.csv\")"
   ]
  },
  {
   "cell_type": "markdown",
   "metadata": {},
   "source": [
    "**Merge Launch Benchmark Data with Historical Data**"
   ]
  },
  {
   "cell_type": "code",
   "execution_count": null,
   "metadata": {},
   "outputs": [],
   "source": [
    "# merge ow_hist_data and lbm\n",
    "new = pd.merge(ow_hist_data,lbm, left_on = \"KEY\",right_on = \"Key\" ,how='left')\n",
    "\n",
    "# Dropping Unwanted columns\n",
    "new.drop(['Key', 'Markets', 'Products', 'Facts'], axis=1, inplace = True)"
   ]
  },
  {
   "cell_type": "markdown",
   "metadata": {},
   "source": [
    "**Time Mapping** ( It is available till Dec 2026)"
   ]
  },
  {
   "cell_type": "code",
   "execution_count": null,
   "metadata": {},
   "outputs": [],
   "source": [
    "last_column_mapping={\n",
    "    \"Nov 19\":\"11/23/2019\",\n",
    "    \"Dec 19\":\"12/28/2019\",\n",
    "    \"Jan 20\":\"02/01/2020\",\n",
    "    \"Feb 20\":\"02/29/2020\",\n",
    "    \"Mar 20\":\"04/04/2020\",\n",
    "    \"Apr 20\":\"05/02/2020\",\n",
    "    \"May 20\":\"05/30/2020\",\n",
    "    \"Jun 20\":\"07/04/2020\",\n",
    "    \"Jul 20\":\"08/01/2020\",\n",
    "    \"Aug 20\":\"08/29/2020\",\n",
    "    \"Sep 20\":\"10/03/2020\",\n",
    "    \"Oct 20\":\"10/31/2020\",\n",
    "    \"Nov 20\":\"11/28/2020\",\n",
    "    \"Dec 20\":\"01/02/2021\",\n",
    "    \"Jan 21\":\"01/30/2021\",\n",
    "    \"Feb 21\":\"02/27/2021\",\n",
    "    \"Mar 21\":\"04/03/2021\",\n",
    "    \"Apr 21\":\"05/01/2021\",\n",
    "    \"May 21\":\"05/29/2021\",\n",
    "    \"Jun 21\":\"07/03/2021\",\n",
    "    \"Jul 21\":\"07/31/2021\",\n",
    "    \"Aug 21\":\"08/28/2021\",\n",
    "    \"Sep 21\":\"10/02/2021\",\n",
    "    \"Oct 21\":\"10/30/2021\",\n",
    "    \"Nov 21\":\"11/27/2021\",\n",
    "    \"Dec 21\":\"01/01/2022\",\n",
    "    \"Jan 22\":\"01/29/2022\",\n",
    "    \"Feb 22\":\"02/26/2022\",\n",
    "    \"Mar 22\":\"04/02/2022\",\n",
    "    \"Apr 22\":\"04/30/2022\",\n",
    "    \"May 22\":\"05/28/2022\",\n",
    "    \"Jun 22\":\"06/25/2022\",\n",
    "    \"Jul 22\":\"07/23/2022\",\n",
    "    \"Aug 22\":\"08/20/2022\",\n",
    "    \"Sep 22\":\"09/17/2022\",\n",
    "    \"Oct 22\":\"10/15/2022\",\n",
    "    \"Nov 22\":\"11/12/2022\",\n",
    "    \"Dec 22\":\"12/10/2022\",\n",
    "    \"Jan 23\":\"01/07/2023\",\n",
    "    \"Feb 23\":\"02/04/2023\",\n",
    "    \"Mar 23\":\"03/04/2023\",\n",
    "    \"Apr 23\":\"04/01/2023\",\n",
    "    \"May 23\":\"04/29/2023\",\n",
    "    \"Jun 23\":\"05/27/2023\",\n",
    "    \"Jul 23\":\"06/24/2023\",\n",
    "    \"Aug 23\":\"07/22/2023\",\n",
    "    \"Sep 23\":\"08/19/2023\",\n",
    "    \"Oct 23\":\"09/16/2023\",\n",
    "    \"Nov 23\":\"10/14/2023\",\n",
    "    \"Dec 23\":\"11/11/2023\",\n",
    "    \"Jan 24\":\"12/09/2023\",\n",
    "    \"Feb 24\":\"01/06/2024\",\n",
    "    \"Mar 24\":\"02/03/2024\",\n",
    "    \"Apr 24\":\"03/02/2024\",\n",
    "    \"May 24\":\"03/30/2024\",\n",
    "    \"Jun 24\":\"04/27/2024\",\n",
    "    \"Jul 24\":\"05/25/2024\",\n",
    "    \"Aug 24\":\"06/22/2024\",\n",
    "    \"Sep 24\":\"07/20/2024\",\n",
    "    \"Oct 24\":\"08/17/2024\",\n",
    "    \"Nov 24\":\"09/14/2024\",\n",
    "    \"Dec 24\":\"10/12/2024\",\n",
    "    \"Jan 25\":\"11/09/2024\",\n",
    "    \"Feb 25\":\"12/07/2024\",\n",
    "    \"Mar 25\":\"01/04/2025\",\n",
    "    \"Apr 25\":\"02/01/2025\",\n",
    "    \"May 25\":\"03/01/2025\",\n",
    "    \"Jun 25\":\"03/29/2025\",\n",
    "    \"Jul 25\":\"04/26/2025\",\n",
    "    \"Aug 25\":\"05/24/2025\",\n",
    "    \"Sep 25\":\"06/21/2025\",\n",
    "    \"Oct 25\":\"07/19/2025\",\n",
    "    \"Nov 25\":\"08/16/2025\",\n",
    "    \"Dec 25\":\"09/13/2025\",\n",
    "    \"Jan 26\":\"10/11/2025\",\n",
    "    \"Feb 26\":\"11/08/2025\",\n",
    "    \"Mar 26\":\"12/06/2025\",\n",
    "    \"Apr 26\":\"01/03/2026\",\n",
    "    \"May 26\":\"01/31/2026\",\n",
    "    \"Jun 26\":\"02/28/2026\",\n",
    "    \"Jul 26\":\"03/28/2026\",\n",
    "    \"Aug 26\":\"04/25/2026\",\n",
    "    \"Sep 26\":\"05/23/2026\",\n",
    "    \"Oct 26\":\"06/20/2026\",\n",
    "    \"Nov 26\":\"07/18/2026\",\n",
    "    \"Dec 26\":\"08/15/2026\"\n",
    "}"
   ]
  },
  {
   "cell_type": "code",
   "execution_count": null,
   "metadata": {},
   "outputs": [],
   "source": [
    "# applying Time Mapping ( changing last column name) \n",
    "new.rename(columns = last_column_mapping, inplace = True)\n",
    "\n",
    "# removing duplicate rows\n",
    "new.drop_duplicates(inplace=True)"
   ]
  },
  {
   "cell_type": "markdown",
   "metadata": {},
   "source": [
    "**Exporting Data into output Folder**"
   ]
  },
  {
   "cell_type": "code",
   "execution_count": null,
   "metadata": {
    "scrolled": true
   },
   "outputs": [],
   "source": [
    "new.to_csv(\"\\\\falmumapp34\\Nielsen Connect Transition & Maintenance (20-SCP-3650)\\05. Output Data\\OW Pen Tracker Launch Benchmark.csv\",index=False)"
   ]
  },
  {
   "cell_type": "code",
   "execution_count": null,
   "metadata": {},
   "outputs": [],
   "source": []
  },
  {
   "cell_type": "markdown",
   "metadata": {},
   "source": [
    " "
   ]
  },
  {
   "cell_type": "markdown",
   "metadata": {},
   "source": [
    "## Individual Tracker Ends"
   ]
  }
 ],
 "metadata": {
  "kernelspec": {
   "display_name": "Python 3",
   "language": "python",
   "name": "python3"
  },
  "language_info": {
   "codemirror_mode": {
    "name": "ipython",
    "version": 3
   },
   "file_extension": ".py",
   "mimetype": "text/x-python",
   "name": "python",
   "nbconvert_exporter": "python",
   "pygments_lexer": "ipython3",
   "version": "3.8.3"
  }
 },
 "nbformat": 4,
 "nbformat_minor": 4
}
