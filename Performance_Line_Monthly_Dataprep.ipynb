{
 "cells": [
  {
   "cell_type": "markdown",
   "metadata": {},
   "source": [
    "**Importing all the libraries**"
   ]
  },
  {
   "cell_type": "code",
   "execution_count": 1,
   "metadata": {},
   "outputs": [
    {
     "data": {
      "application/javascript": [
       "IPython.notebook.set_autosave_interval(120000)"
      ]
     },
     "metadata": {},
     "output_type": "display_data"
    },
    {
     "name": "stdout",
     "output_type": "stream",
     "text": [
      "Autosaving every 120 seconds\n"
     ]
    }
   ],
   "source": [
    "%autosave 120"
   ]
  },
  {
   "cell_type": "code",
   "execution_count": 2,
   "metadata": {},
   "outputs": [],
   "source": [
    "import pandas as pd;\n",
    "import numpy as np;\n",
    "import os;\n",
    "import time;\n",
    "import datetime;\n",
    "import warnings;\n",
    "warnings.filterwarnings('ignore');\n",
    "from pandas.api.types import CategoricalDtype;"
   ]
  },
  {
   "cell_type": "markdown",
   "metadata": {},
   "source": [
    "Assigning path of the folder where **Line Monthly** data files are stored"
   ]
  },
  {
   "cell_type": "code",
   "execution_count": 3,
   "metadata": {},
   "outputs": [],
   "source": [
    "path = \"//falmumapp34/Nielsen Connect Transition & Maintenance (20-SCP-3650)/03. Raw Data/Connect Data/Line Monthly\"\n",
    "files = os.listdir(path)"
   ]
  },
  {
   "cell_type": "markdown",
   "metadata": {},
   "source": [
    "Selecting only **excel files** from all the files available in the above path"
   ]
  },
  {
   "cell_type": "code",
   "execution_count": 4,
   "metadata": {},
   "outputs": [
    {
     "name": "stdout",
     "output_type": "stream",
     "text": [
      "Total number of files in the folder are  23\n"
     ]
    }
   ],
   "source": [
    "# files_xls = [f for f in files if (f[-4:] == 'xlsx')]#|(f[0:3]==\"Bat\")]\n",
    "# files_xls = [f for f in files if (f[0:4] == \"Bead\") |(f[0:3] == \"Tot\")|(f[0:3] == \"Sce\")|(f[0:3] == \"She\")|(f[0:3]==\"Liq\")]\n",
    "files_xls = [f for f in files if (f[0:5] == \"APCWW\") |(f[0:4] == \"Pour\")|(f[0:4] == \"Wood\")|(f[0:8] == \"Abrasive\")]\n",
    "print(\"Total number of files in the folder are \",len(files_xls))"
   ]
  },
  {
   "cell_type": "code",
   "execution_count": 5,
   "metadata": {},
   "outputs": [
    {
     "data": {
      "text/plain": [
       "['Abrasive_Line_Monthly_Part1.xlsx',\n",
       " 'Abrasive_Line_Monthly_Part2.xlsx',\n",
       " 'Abrasive_Line_Monthly_Part3.xlsx',\n",
       " 'Abrasive_Line_Monthly_Part4.xlsx',\n",
       " 'Abrasive_Line_Monthly_Part5.xlsx',\n",
       " 'Abrasive_Line_Monthly_Part6.xlsx',\n",
       " 'APCWW_Line_Monthly_Part1.xlsx',\n",
       " 'APCWW_Line_Monthly_Part2.xlsx',\n",
       " 'APCWW_Line_Monthly_Part3.xlsx',\n",
       " 'APCWW_Line_Monthly_Part4.xlsx',\n",
       " 'APCWW_Line_Monthly_Part5.xlsx',\n",
       " 'Pour_Line_Monthly_Part1.xlsx',\n",
       " 'Pour_Line_Monthly_Part2.xlsx',\n",
       " 'Pour_Line_Monthly_Part3.xlsx',\n",
       " 'Pour_Line_Monthly_Part4.xlsx',\n",
       " 'Pour_Line_Monthly_Part5.xlsx',\n",
       " 'Pour_Line_Monthly_Part6.xlsx',\n",
       " 'Wood_Line_Monthly_Part1.xlsx',\n",
       " 'Wood_Line_Monthly_Part2.xlsx',\n",
       " 'Wood_Line_Monthly_Part3.xlsx',\n",
       " 'Wood_Line_Monthly_Part4.xlsx',\n",
       " 'Wood_Line_Monthly_Part5.xlsx',\n",
       " 'Wood_Line_Monthly_Part6.xlsx']"
      ]
     },
     "execution_count": 5,
     "metadata": {},
     "output_type": "execute_result"
    }
   ],
   "source": [
    "files_xls"
   ]
  },
  {
   "cell_type": "markdown",
   "metadata": {},
   "source": [
    "**Appending the read files in rows and storing them in a single dataframe** named ***Line_Monthly***.\n",
    "\n",
    "Printing number of columns and number of facts in each file.\n",
    "Also checking the execution time of the code"
   ]
  },
  {
   "cell_type": "code",
   "execution_count": 6,
   "metadata": {
    "scrolled": false
   },
   "outputs": [
    {
     "name": "stdout",
     "output_type": "stream",
     "text": [
      "\u001b[1mAbrasive_Line_Monthly_Part1.xlsx\u001b[0m :->\n",
      "# of Facts are  57 \t\t # of columns are  30\n",
      "\u001b[1mAbrasive_Line_Monthly_Part2.xlsx\u001b[0m :->\n",
      "# of Facts are  57 \t\t # of columns are  30\n",
      "\u001b[1mAbrasive_Line_Monthly_Part3.xlsx\u001b[0m :->\n",
      "# of Facts are  57 \t\t # of columns are  30\n",
      "\u001b[1mAbrasive_Line_Monthly_Part4.xlsx\u001b[0m :->\n",
      "# of Facts are  57 \t\t # of columns are  30\n",
      "\u001b[1mAbrasive_Line_Monthly_Part5.xlsx\u001b[0m :->\n",
      "# of Facts are  20 \t\t # of columns are  30\n",
      "\u001b[1mAbrasive_Line_Monthly_Part6.xlsx\u001b[0m :->\n",
      "# of Facts are  29 \t\t # of columns are  30\n",
      "\u001b[1mAPCWW_Line_Monthly_Part1.xlsx\u001b[0m :->\n",
      "# of Facts are  57 \t\t # of columns are  30\n",
      "\u001b[1mAPCWW_Line_Monthly_Part2.xlsx\u001b[0m :->\n",
      "# of Facts are  57 \t\t # of columns are  30\n",
      "\u001b[1mAPCWW_Line_Monthly_Part3.xlsx\u001b[0m :->\n",
      "# of Facts are  57 \t\t # of columns are  30\n",
      "\u001b[1mAPCWW_Line_Monthly_Part4.xlsx\u001b[0m :->\n",
      "# of Facts are  57 \t\t # of columns are  30\n",
      "\u001b[1mAPCWW_Line_Monthly_Part5.xlsx\u001b[0m :->\n",
      "# of Facts are  20 \t\t # of columns are  30\n",
      "\u001b[1mPour_Line_Monthly_Part1.xlsx\u001b[0m :->\n",
      "# of Facts are  57 \t\t # of columns are  30\n",
      "\u001b[1mPour_Line_Monthly_Part2.xlsx\u001b[0m :->\n",
      "# of Facts are  57 \t\t # of columns are  30\n",
      "\u001b[1mPour_Line_Monthly_Part3.xlsx\u001b[0m :->\n",
      "# of Facts are  57 \t\t # of columns are  30\n",
      "\u001b[1mPour_Line_Monthly_Part4.xlsx\u001b[0m :->\n",
      "# of Facts are  57 \t\t # of columns are  30\n",
      "\u001b[1mPour_Line_Monthly_Part5.xlsx\u001b[0m :->\n",
      "# of Facts are  20 \t\t # of columns are  30\n",
      "\u001b[1mPour_Line_Monthly_Part6.xlsx\u001b[0m :->\n",
      "# of Facts are  36 \t\t # of columns are  30\n",
      "\u001b[1mWood_Line_Monthly_Part1.xlsx\u001b[0m :->\n",
      "# of Facts are  57 \t\t # of columns are  30\n",
      "\u001b[1mWood_Line_Monthly_Part2.xlsx\u001b[0m :->\n",
      "# of Facts are  57 \t\t # of columns are  30\n",
      "\u001b[1mWood_Line_Monthly_Part3.xlsx\u001b[0m :->\n",
      "# of Facts are  57 \t\t # of columns are  30\n",
      "\u001b[1mWood_Line_Monthly_Part4.xlsx\u001b[0m :->\n",
      "# of Facts are  57 \t\t # of columns are  30\n",
      "\u001b[1mWood_Line_Monthly_Part5.xlsx\u001b[0m :->\n",
      "# of Facts are  20 \t\t # of columns are  30\n",
      "\u001b[1mWood_Line_Monthly_Part6.xlsx\u001b[0m :->\n",
      "# of Facts are  36 \t\t # of columns are  30\n",
      "execution time is  419.8988571166992\n"
     ]
    }
   ],
   "source": [
    "time_start= time.time()\n",
    "\n",
    "Line_Monthly= pd.DataFrame()\n",
    "\n",
    "j=0\n",
    "for f in files_xls:\n",
    "    \n",
    "    data = pd.read_excel(path+\"/\"+f)\n",
    "    print(\"\\033[1m\" + files_xls[j] + \"\\033[0m\",\":->\\n# of Facts are \",len(set(data[\"Periods\"])),\"\\t\\t # of columns are \",len(data.columns))  \n",
    "    Line_Monthly = pd.concat([Line_Monthly,data],axis=0,ignore_index=True)\n",
    "    j=j+1\n",
    "    \n",
    "time_end= time.time();\n",
    "\n",
    "print(\"execution time is \", time_end-time_start)"
   ]
  },
  {
   "cell_type": "code",
   "execution_count": null,
   "metadata": {},
   "outputs": [],
   "source": []
  },
  {
   "cell_type": "code",
   "execution_count": 7,
   "metadata": {},
   "outputs": [
    {
     "data": {
      "text/plain": [
       "(580878, 30)"
      ]
     },
     "execution_count": 7,
     "metadata": {},
     "output_type": "execute_result"
    }
   ],
   "source": [
    "Line_Monthly.shape"
   ]
  },
  {
   "cell_type": "markdown",
   "metadata": {},
   "source": [
    "**Replacing Facts names** (Here column \"Periods\" denotes the fact column)"
   ]
  },
  {
   "cell_type": "code",
   "execution_count": 8,
   "metadata": {},
   "outputs": [],
   "source": [
    "Line_Monthly[\"Periods\"]=Line_Monthly[\"Periods\"].str.replace(\"$\",\"temp\")\n",
    "Line_Monthly[\"Periods\"]=Line_Monthly[\"Periods\"].str.replace(\"- temp -\",\"-\")\n",
    "Line_Monthly[\"Periods\"]=Line_Monthly[\"Periods\"].str.replace(\"temp\",\"$\")\n",
    "\n",
    "\n",
    "Line_Monthly[\"Periods\"]=Line_Monthly[\"Periods\"].str.replace(\"CP FORM\",\"CP CATEGORY\")\n",
    "Line_Monthly[\"Periods\"]=Line_Monthly[\"Periods\"].str.replace(\"CP USE\",\"CP CATEGORY\")\n",
    "Line_Monthly[\"Periods\"]=Line_Monthly[\"Periods\"].str.replace(\"CP LDL AND FOAM\",\"CP CATEGORY\")\n",
    "\n",
    "Line_Monthly[\"Periods\"]=Line_Monthly[\"Periods\"].str.replace(\"CP LDL AND FM X DISHAIDS/WPS/SPR\",\"CP CATEGORY\")\n",
    "\n",
    "Line_Monthly[\"Periods\"]=Line_Monthly[\"Periods\"].str.replace(\"CP MEGA CATEGORY\",\"CP CATEGORY\")\n",
    "Line_Monthly[\"Periods\"]=Line_Monthly[\"Periods\"].str.replace(\"CP BATTERY AND HYBRID\",\"CP CATEGORY\")\n",
    "\n",
    "# Market name replaced\n",
    "Line_Monthly[\"Markets\"]=Line_Monthly[\"Markets\"].str.replace(\"Walgreens Corp Total TA\",\"Walgreens Total TA\")"
   ]
  },
  {
   "cell_type": "code",
   "execution_count": 9,
   "metadata": {
    "scrolled": true
   },
   "outputs": [],
   "source": [
    "# replace NaN Values with 0\n",
    "Line_Monthly.fillna(value=0,inplace=True)"
   ]
  },
  {
   "cell_type": "code",
   "execution_count": 10,
   "metadata": {
    "scrolled": false
   },
   "outputs": [
    {
     "data": {
      "text/plain": [
       "set()"
      ]
     },
     "execution_count": 10,
     "metadata": {},
     "output_type": "execute_result"
    }
   ],
   "source": [
    "set(Line_Monthly[Line_Monthly[\"Markets\"]==\"El Super Total TA\"][\"Periods\"])"
   ]
  },
  {
   "cell_type": "code",
   "execution_count": null,
   "metadata": {},
   "outputs": [],
   "source": []
  },
  {
   "cell_type": "markdown",
   "metadata": {},
   "source": [
    "**Removing unwanted characters from all the column names** and store them in a list ***new_col_names***"
   ]
  },
  {
   "cell_type": "code",
   "execution_count": 11,
   "metadata": {},
   "outputs": [],
   "source": [
    "new_col_names=[]\n",
    "for i in Line_Monthly.columns:\n",
    "    x=len(i)\n",
    "    if x<=17:\n",
    "        new_col_names.append(i)\n",
    "    elif i[:3]=='YTD':\n",
    "        new_col_names.append(i[:-16].strip('- '))\n",
    "    else:\n",
    "        new_col_names.append(i[:-14].strip('- '))\n",
    "        "
   ]
  },
  {
   "cell_type": "code",
   "execution_count": 12,
   "metadata": {},
   "outputs": [
    {
     "data": {
      "text/plain": [
       "{'AMJ 20 - w/e 07/04/20',\n",
       " 'Apr 20 - 4 w/e 05/02/20',\n",
       " 'Aug 20 - 4 w/e 08/29/20',\n",
       " 'Cal Yr 2017 - w/e 01/06/18',\n",
       " 'Cal Yr 2018 - w/e 01/05/19',\n",
       " 'Cal Yr 2019 - w/e 01/04/20',\n",
       " 'Cal Yr 2020 - w/e 01/02/21',\n",
       " 'Dec 20 - 5 w/e 01/02/21',\n",
       " 'Feb 20 - 4 w/e 02/29/20',\n",
       " 'Feb 21 - 4 w/e 02/27/21',\n",
       " 'JAS 20 - w/e 10/03/20',\n",
       " 'JFM 20 - w/e 04/04/20',\n",
       " 'JFM 21',\n",
       " 'Jan 20 - 4 w/e 02/01/20',\n",
       " 'Jan 21 - 4 w/e 01/30/21',\n",
       " 'Jul 20 - 4 w/e 08/01/20',\n",
       " 'Jun 20 - 5 w/e 07/04/20',\n",
       " 'Latest 13 Wks - w/e 02/27/21',\n",
       " 'Latest 26 Wks - w/e 02/27/21',\n",
       " 'Mar 20 - 5 w/e 04/04/20',\n",
       " 'Markets',\n",
       " 'May 20 - 4 w/e 05/30/20',\n",
       " 'Nov 20 - 4 w/e 11/28/20',\n",
       " 'OND 20 - w/e 01/02/21',\n",
       " 'Oct 20 - 4 w/e 10/31/20',\n",
       " 'Periods',\n",
       " 'Products',\n",
       " 'Sep 20 - 5 w/e 10/03/20',\n",
       " 'YTD - 8 w/e 02/27/21',\n",
       " 'YTD YA - 8 w/e 02/29/20'}"
      ]
     },
     "execution_count": 12,
     "metadata": {},
     "output_type": "execute_result"
    }
   ],
   "source": [
    "set(Line_Monthly.columns)"
   ]
  },
  {
   "cell_type": "markdown",
   "metadata": {},
   "source": [
    "**Checking the duplicacte column in** ***Line_Monthly***"
   ]
  },
  {
   "cell_type": "code",
   "execution_count": 13,
   "metadata": {},
   "outputs": [],
   "source": [
    "if(len(new_col_names)!=len(set(new_col_names))):\n",
    "    print(\"\\033[1;31m\"+\"*******************************ERROR*******************************\\n\\t\\t\\tWe have duplicate columns\\n\\t\\t\\tPlease recheck raw data files\\n*******************************ERROR*******************************\")"
   ]
  },
  {
   "cell_type": "code",
   "execution_count": 14,
   "metadata": {},
   "outputs": [
    {
     "data": {
      "text/plain": [
       "{'AMJ 20',\n",
       " 'Apr 20',\n",
       " 'Aug 20',\n",
       " 'Cal Yr 2017',\n",
       " 'Cal Yr 2018',\n",
       " 'Cal Yr 2019',\n",
       " 'Cal Yr 2020',\n",
       " 'Dec 20',\n",
       " 'Feb 20',\n",
       " 'Feb 21',\n",
       " 'JAS 20',\n",
       " 'JFM 20',\n",
       " 'JFM 21',\n",
       " 'Jan 20',\n",
       " 'Jan 21',\n",
       " 'Jul 20',\n",
       " 'Jun 20',\n",
       " 'Latest 13 Wks',\n",
       " 'Latest 26 Wks',\n",
       " 'Mar 20',\n",
       " 'Markets',\n",
       " 'May 20',\n",
       " 'Nov 20',\n",
       " 'OND 20',\n",
       " 'Oct 20',\n",
       " 'Periods',\n",
       " 'Products',\n",
       " 'Sep 20',\n",
       " 'YTD',\n",
       " 'YTD YA'}"
      ]
     },
     "execution_count": 14,
     "metadata": {},
     "output_type": "execute_result"
    }
   ],
   "source": [
    "set(new_col_names)"
   ]
  },
  {
   "cell_type": "markdown",
   "metadata": {},
   "source": [
    "Renaming the column names of ***Line_Monthly***"
   ]
  },
  {
   "cell_type": "code",
   "execution_count": 15,
   "metadata": {},
   "outputs": [],
   "source": [
    "# Line_Monthly.rename(columns=dict(zip(Line_Monthly.columns,new_col_names)),inplace=True)\n",
    "Line_Monthly.columns=new_col_names"
   ]
  },
  {
   "cell_type": "code",
   "execution_count": 16,
   "metadata": {},
   "outputs": [
    {
     "data": {
      "text/plain": [
       "Index(['Markets', 'Products', 'Periods', 'Jan 20', 'Feb 20', 'Mar 20',\n",
       "       'Apr 20', 'May 20', 'Jun 20', 'Jul 20', 'Aug 20', 'Sep 20', 'Oct 20',\n",
       "       'Nov 20', 'Dec 20', 'Jan 21', 'Feb 21', 'YTD', 'YTD YA',\n",
       "       'Latest 13 Wks', 'Latest 26 Wks', 'Cal Yr 2020', 'Cal Yr 2019',\n",
       "       'Cal Yr 2018', 'Cal Yr 2017', 'JFM 20', 'AMJ 20', 'JAS 20', 'OND 20',\n",
       "       'JFM 21'],\n",
       "      dtype='object')"
      ]
     },
     "execution_count": 16,
     "metadata": {},
     "output_type": "execute_result"
    }
   ],
   "source": [
    "Line_Monthly.columns"
   ]
  },
  {
   "cell_type": "markdown",
   "metadata": {},
   "source": [
    "**Adding Missing Quater**\n"
   ]
  },
  {
   "cell_type": "code",
   "execution_count": 17,
   "metadata": {},
   "outputs": [
    {
     "name": "stdout",
     "output_type": "stream",
     "text": [
      "2\n",
      "19\n"
     ]
    }
   ],
   "source": [
    "# GETTING 20 DAYS BEFORE MONTHS AND YEAR VALUES\n",
    "now=datetime.datetime.now()\n",
    "delay= datetime.timedelta(days=20)\n",
    "a= now - delay\n",
    "month_number=a.month\n",
    "year=str(a.year-2)[-2:]\n",
    "print(month_number)\n",
    "print(year)"
   ]
  },
  {
   "cell_type": "code",
   "execution_count": 18,
   "metadata": {},
   "outputs": [],
   "source": [
    "if( month_number >= 1 & month_number <= 3):\n",
    "    Line_Monthly['AMJ '+year]=\"\"\n",
    "    Line_Monthly['JAS '+year]=\"\"\n",
    "    Line_Monthly['OND '+year]=\"\"\n",
    "elif ( month_number >= 4 & month_number <= 6 ):\n",
    "    Line_Monthly['JAS '+year]=\"\"\n",
    "    Line_Monthly['OND '+year]=\"\"\n",
    "elif ( month_number >= 7 & month_number <= 9  ):\n",
    "    Line_Monthly['OND '+year]=\"\""
   ]
  },
  {
   "cell_type": "markdown",
   "metadata": {},
   "source": [
    "**Time period mapping**\n",
    "\n",
    "**Manual Step**\n",
    "\n",
    "This mapping needs to be changed every year when new year data comes"
   ]
  },
  {
   "cell_type": "code",
   "execution_count": 19,
   "metadata": {},
   "outputs": [],
   "source": [
    "# time_period_map_2020= pd.DataFrame({'Connect Time Period':['Markets', 'Products', 'Periods','Cal Yr 2020','Cal Yr 2019','Cal Yr 2018','Cal Yr 2017','YTD','YTD YA','Latest 13 Wks','Latest 26 Wks','OND 20','JAS 20','AMJ 20','JFM 20','OND 19','JAS 19','AMJ 19','JFM 19','Dec 20','Nov 20','Oct 20','Sep 20','Aug 20','Jul 20','Jun 20','May 20','Apr 20','Mar 20','Feb 20','Jan 20','Dec 19','Nov 19','Oct 19','Sep 19','Aug 19','Jul 19','Jun 19','May 19','Apr 19','Mar 19','Feb 19','Jan 19'],\n",
    "#                                'Final Name':['Markets', 'Products', 'Periods','FY 2020','FY 2019','FY 2018','FY 2017','YTD 2020','YTD 2019','Latest 13 Weeks','Latest 26 Weeks','Q4 2020','Q3 2020','Q2 2020','Q1 2020','Q4 2019','Q3 2019','Q2 2019','Q1 2019','Dec 20','Nov 20','Oct 20','Sep 20','Aug 20','Jul 20','Jun 20','May 20','Apr 20','Mar 20','Feb 20','Jan 20','Dec 19','Nov 19','Oct 19','Sep 19','Aug 19','Jul 19','Jun 19','May 19','Apr 19','Mar 19','Feb 19','Jan 19']\n",
    "#                               ,'Order':range(1,44)})"
   ]
  },
  {
   "cell_type": "code",
   "execution_count": 20,
   "metadata": {},
   "outputs": [],
   "source": [
    "time_period_map= pd.DataFrame({'Connect Time Period':['Markets', 'Products', 'Periods','Cal Yr 2020','Cal Yr 2019','Cal Yr 2018','Cal Yr 2017','YTD','YTD YA','Latest 13 Wks','Latest 26 Wks','OND 21','JAS 21','AMJ 21','JFM 21','OND 20','JAS 20','AMJ 20','JFM 20','OND 19','JAS 19','AMJ 19','Dec 21','Nov 21','Oct 21','Sep 21','Aug 21','Jul 21','Jun 21','May 21','Apr 21','Mar 21','Feb 21','Jan 21','Dec 20','Nov 20','Oct 20','Sep 20','Aug 20','Jul 20','Jun 20','May 20','Apr 20','Mar 20','Feb 20','Jan 20'],\n",
    "                               'Final Name':['Markets', 'Products', 'Periods','FY 2020','FY 2019','FY 2018','FY 2017','YTD 2021','YTD 2020','Latest 13 Weeks','Latest 26 Weeks','Q4 2021','Q3 2021','Q2 2021','Q1 2021','Q4 2020','Q3 2020','Q2 2020','Q1 2020','Q4 2019','Q3 2019','Q2 2019','Dec 21','Nov 21','Oct 21','Sep 21','Aug 21','Jul 21','Jun 21','May 21','Apr 21','Mar 21','Feb 21','Jan 21','Dec 20','Nov 20','Oct 20','Sep 20','Aug 20','Jul 20','Jun 20','May 20','Apr 20','Mar 20','Feb 20','Jan 20']\n",
    "                              ,'Order':range(1,47)})"
   ]
  },
  {
   "cell_type": "code",
   "execution_count": 21,
   "metadata": {
    "scrolled": false
   },
   "outputs": [
    {
     "data": {
      "text/html": [
       "<div>\n",
       "<style scoped>\n",
       "    .dataframe tbody tr th:only-of-type {\n",
       "        vertical-align: middle;\n",
       "    }\n",
       "\n",
       "    .dataframe tbody tr th {\n",
       "        vertical-align: top;\n",
       "    }\n",
       "\n",
       "    .dataframe thead th {\n",
       "        text-align: right;\n",
       "    }\n",
       "</style>\n",
       "<table border=\"1\" class=\"dataframe\">\n",
       "  <thead>\n",
       "    <tr style=\"text-align: right;\">\n",
       "      <th></th>\n",
       "      <th>Connect Time Period</th>\n",
       "      <th>Final Name</th>\n",
       "      <th>Order</th>\n",
       "    </tr>\n",
       "  </thead>\n",
       "  <tbody>\n",
       "    <tr>\n",
       "      <th>0</th>\n",
       "      <td>Markets</td>\n",
       "      <td>Markets</td>\n",
       "      <td>1</td>\n",
       "    </tr>\n",
       "    <tr>\n",
       "      <th>1</th>\n",
       "      <td>Products</td>\n",
       "      <td>Products</td>\n",
       "      <td>2</td>\n",
       "    </tr>\n",
       "    <tr>\n",
       "      <th>2</th>\n",
       "      <td>Periods</td>\n",
       "      <td>Periods</td>\n",
       "      <td>3</td>\n",
       "    </tr>\n",
       "    <tr>\n",
       "      <th>3</th>\n",
       "      <td>Cal Yr 2020</td>\n",
       "      <td>FY 2020</td>\n",
       "      <td>4</td>\n",
       "    </tr>\n",
       "    <tr>\n",
       "      <th>4</th>\n",
       "      <td>Cal Yr 2019</td>\n",
       "      <td>FY 2019</td>\n",
       "      <td>5</td>\n",
       "    </tr>\n",
       "    <tr>\n",
       "      <th>5</th>\n",
       "      <td>Cal Yr 2018</td>\n",
       "      <td>FY 2018</td>\n",
       "      <td>6</td>\n",
       "    </tr>\n",
       "    <tr>\n",
       "      <th>6</th>\n",
       "      <td>Cal Yr 2017</td>\n",
       "      <td>FY 2017</td>\n",
       "      <td>7</td>\n",
       "    </tr>\n",
       "    <tr>\n",
       "      <th>7</th>\n",
       "      <td>YTD</td>\n",
       "      <td>YTD 2021</td>\n",
       "      <td>8</td>\n",
       "    </tr>\n",
       "    <tr>\n",
       "      <th>8</th>\n",
       "      <td>YTD YA</td>\n",
       "      <td>YTD 2020</td>\n",
       "      <td>9</td>\n",
       "    </tr>\n",
       "    <tr>\n",
       "      <th>9</th>\n",
       "      <td>Latest 13 Wks</td>\n",
       "      <td>Latest 13 Weeks</td>\n",
       "      <td>10</td>\n",
       "    </tr>\n",
       "    <tr>\n",
       "      <th>10</th>\n",
       "      <td>Latest 26 Wks</td>\n",
       "      <td>Latest 26 Weeks</td>\n",
       "      <td>11</td>\n",
       "    </tr>\n",
       "    <tr>\n",
       "      <th>11</th>\n",
       "      <td>OND 21</td>\n",
       "      <td>Q4 2021</td>\n",
       "      <td>12</td>\n",
       "    </tr>\n",
       "    <tr>\n",
       "      <th>12</th>\n",
       "      <td>JAS 21</td>\n",
       "      <td>Q3 2021</td>\n",
       "      <td>13</td>\n",
       "    </tr>\n",
       "    <tr>\n",
       "      <th>13</th>\n",
       "      <td>AMJ 21</td>\n",
       "      <td>Q2 2021</td>\n",
       "      <td>14</td>\n",
       "    </tr>\n",
       "    <tr>\n",
       "      <th>14</th>\n",
       "      <td>JFM 21</td>\n",
       "      <td>Q1 2021</td>\n",
       "      <td>15</td>\n",
       "    </tr>\n",
       "    <tr>\n",
       "      <th>15</th>\n",
       "      <td>OND 20</td>\n",
       "      <td>Q4 2020</td>\n",
       "      <td>16</td>\n",
       "    </tr>\n",
       "    <tr>\n",
       "      <th>16</th>\n",
       "      <td>JAS 20</td>\n",
       "      <td>Q3 2020</td>\n",
       "      <td>17</td>\n",
       "    </tr>\n",
       "    <tr>\n",
       "      <th>17</th>\n",
       "      <td>AMJ 20</td>\n",
       "      <td>Q2 2020</td>\n",
       "      <td>18</td>\n",
       "    </tr>\n",
       "    <tr>\n",
       "      <th>18</th>\n",
       "      <td>JFM 20</td>\n",
       "      <td>Q1 2020</td>\n",
       "      <td>19</td>\n",
       "    </tr>\n",
       "    <tr>\n",
       "      <th>19</th>\n",
       "      <td>OND 19</td>\n",
       "      <td>Q4 2019</td>\n",
       "      <td>20</td>\n",
       "    </tr>\n",
       "    <tr>\n",
       "      <th>20</th>\n",
       "      <td>JAS 19</td>\n",
       "      <td>Q3 2019</td>\n",
       "      <td>21</td>\n",
       "    </tr>\n",
       "    <tr>\n",
       "      <th>21</th>\n",
       "      <td>AMJ 19</td>\n",
       "      <td>Q2 2019</td>\n",
       "      <td>22</td>\n",
       "    </tr>\n",
       "    <tr>\n",
       "      <th>22</th>\n",
       "      <td>Dec 21</td>\n",
       "      <td>Dec 21</td>\n",
       "      <td>23</td>\n",
       "    </tr>\n",
       "    <tr>\n",
       "      <th>23</th>\n",
       "      <td>Nov 21</td>\n",
       "      <td>Nov 21</td>\n",
       "      <td>24</td>\n",
       "    </tr>\n",
       "    <tr>\n",
       "      <th>24</th>\n",
       "      <td>Oct 21</td>\n",
       "      <td>Oct 21</td>\n",
       "      <td>25</td>\n",
       "    </tr>\n",
       "    <tr>\n",
       "      <th>25</th>\n",
       "      <td>Sep 21</td>\n",
       "      <td>Sep 21</td>\n",
       "      <td>26</td>\n",
       "    </tr>\n",
       "    <tr>\n",
       "      <th>26</th>\n",
       "      <td>Aug 21</td>\n",
       "      <td>Aug 21</td>\n",
       "      <td>27</td>\n",
       "    </tr>\n",
       "    <tr>\n",
       "      <th>27</th>\n",
       "      <td>Jul 21</td>\n",
       "      <td>Jul 21</td>\n",
       "      <td>28</td>\n",
       "    </tr>\n",
       "    <tr>\n",
       "      <th>28</th>\n",
       "      <td>Jun 21</td>\n",
       "      <td>Jun 21</td>\n",
       "      <td>29</td>\n",
       "    </tr>\n",
       "    <tr>\n",
       "      <th>29</th>\n",
       "      <td>May 21</td>\n",
       "      <td>May 21</td>\n",
       "      <td>30</td>\n",
       "    </tr>\n",
       "    <tr>\n",
       "      <th>30</th>\n",
       "      <td>Apr 21</td>\n",
       "      <td>Apr 21</td>\n",
       "      <td>31</td>\n",
       "    </tr>\n",
       "    <tr>\n",
       "      <th>31</th>\n",
       "      <td>Mar 21</td>\n",
       "      <td>Mar 21</td>\n",
       "      <td>32</td>\n",
       "    </tr>\n",
       "    <tr>\n",
       "      <th>32</th>\n",
       "      <td>Feb 21</td>\n",
       "      <td>Feb 21</td>\n",
       "      <td>33</td>\n",
       "    </tr>\n",
       "    <tr>\n",
       "      <th>33</th>\n",
       "      <td>Jan 21</td>\n",
       "      <td>Jan 21</td>\n",
       "      <td>34</td>\n",
       "    </tr>\n",
       "    <tr>\n",
       "      <th>34</th>\n",
       "      <td>Dec 20</td>\n",
       "      <td>Dec 20</td>\n",
       "      <td>35</td>\n",
       "    </tr>\n",
       "    <tr>\n",
       "      <th>35</th>\n",
       "      <td>Nov 20</td>\n",
       "      <td>Nov 20</td>\n",
       "      <td>36</td>\n",
       "    </tr>\n",
       "    <tr>\n",
       "      <th>36</th>\n",
       "      <td>Oct 20</td>\n",
       "      <td>Oct 20</td>\n",
       "      <td>37</td>\n",
       "    </tr>\n",
       "    <tr>\n",
       "      <th>37</th>\n",
       "      <td>Sep 20</td>\n",
       "      <td>Sep 20</td>\n",
       "      <td>38</td>\n",
       "    </tr>\n",
       "    <tr>\n",
       "      <th>38</th>\n",
       "      <td>Aug 20</td>\n",
       "      <td>Aug 20</td>\n",
       "      <td>39</td>\n",
       "    </tr>\n",
       "    <tr>\n",
       "      <th>39</th>\n",
       "      <td>Jul 20</td>\n",
       "      <td>Jul 20</td>\n",
       "      <td>40</td>\n",
       "    </tr>\n",
       "    <tr>\n",
       "      <th>40</th>\n",
       "      <td>Jun 20</td>\n",
       "      <td>Jun 20</td>\n",
       "      <td>41</td>\n",
       "    </tr>\n",
       "    <tr>\n",
       "      <th>41</th>\n",
       "      <td>May 20</td>\n",
       "      <td>May 20</td>\n",
       "      <td>42</td>\n",
       "    </tr>\n",
       "    <tr>\n",
       "      <th>42</th>\n",
       "      <td>Apr 20</td>\n",
       "      <td>Apr 20</td>\n",
       "      <td>43</td>\n",
       "    </tr>\n",
       "    <tr>\n",
       "      <th>43</th>\n",
       "      <td>Mar 20</td>\n",
       "      <td>Mar 20</td>\n",
       "      <td>44</td>\n",
       "    </tr>\n",
       "    <tr>\n",
       "      <th>44</th>\n",
       "      <td>Feb 20</td>\n",
       "      <td>Feb 20</td>\n",
       "      <td>45</td>\n",
       "    </tr>\n",
       "    <tr>\n",
       "      <th>45</th>\n",
       "      <td>Jan 20</td>\n",
       "      <td>Jan 20</td>\n",
       "      <td>46</td>\n",
       "    </tr>\n",
       "  </tbody>\n",
       "</table>\n",
       "</div>"
      ],
      "text/plain": [
       "   Connect Time Period       Final Name  Order\n",
       "0              Markets          Markets      1\n",
       "1             Products         Products      2\n",
       "2              Periods          Periods      3\n",
       "3          Cal Yr 2020          FY 2020      4\n",
       "4          Cal Yr 2019          FY 2019      5\n",
       "5          Cal Yr 2018          FY 2018      6\n",
       "6          Cal Yr 2017          FY 2017      7\n",
       "7                  YTD         YTD 2021      8\n",
       "8               YTD YA         YTD 2020      9\n",
       "9        Latest 13 Wks  Latest 13 Weeks     10\n",
       "10       Latest 26 Wks  Latest 26 Weeks     11\n",
       "11              OND 21          Q4 2021     12\n",
       "12              JAS 21          Q3 2021     13\n",
       "13              AMJ 21          Q2 2021     14\n",
       "14              JFM 21          Q1 2021     15\n",
       "15              OND 20          Q4 2020     16\n",
       "16              JAS 20          Q3 2020     17\n",
       "17              AMJ 20          Q2 2020     18\n",
       "18              JFM 20          Q1 2020     19\n",
       "19              OND 19          Q4 2019     20\n",
       "20              JAS 19          Q3 2019     21\n",
       "21              AMJ 19          Q2 2019     22\n",
       "22              Dec 21           Dec 21     23\n",
       "23              Nov 21           Nov 21     24\n",
       "24              Oct 21           Oct 21     25\n",
       "25              Sep 21           Sep 21     26\n",
       "26              Aug 21           Aug 21     27\n",
       "27              Jul 21           Jul 21     28\n",
       "28              Jun 21           Jun 21     29\n",
       "29              May 21           May 21     30\n",
       "30              Apr 21           Apr 21     31\n",
       "31              Mar 21           Mar 21     32\n",
       "32              Feb 21           Feb 21     33\n",
       "33              Jan 21           Jan 21     34\n",
       "34              Dec 20           Dec 20     35\n",
       "35              Nov 20           Nov 20     36\n",
       "36              Oct 20           Oct 20     37\n",
       "37              Sep 20           Sep 20     38\n",
       "38              Aug 20           Aug 20     39\n",
       "39              Jul 20           Jul 20     40\n",
       "40              Jun 20           Jun 20     41\n",
       "41              May 20           May 20     42\n",
       "42              Apr 20           Apr 20     43\n",
       "43              Mar 20           Mar 20     44\n",
       "44              Feb 20           Feb 20     45\n",
       "45              Jan 20           Jan 20     46"
      ]
     },
     "execution_count": 21,
     "metadata": {},
     "output_type": "execute_result"
    }
   ],
   "source": [
    "time_period_map.head(50)"
   ]
  },
  {
   "cell_type": "markdown",
   "metadata": {},
   "source": [
    "We need to **change column names** of ***Line_Monthly*** and **reorder** them based on the time_period_mapping"
   ]
  },
  {
   "cell_type": "code",
   "execution_count": 22,
   "metadata": {},
   "outputs": [],
   "source": [
    "# assigning variables\n",
    "LM_column= list(Line_Monthly.columns)\n",
    "time_connect=list(time_period_map[\"Connect Time Period\"])\n",
    "time_final=list(time_period_map[\"Final Name\"])"
   ]
  },
  {
   "cell_type": "code",
   "execution_count": 23,
   "metadata": {},
   "outputs": [],
   "source": [
    "# changing column names based on time_period_mapping\n",
    "new_column=[]\n",
    "for i in range(0,len(LM_column)):\n",
    "    for j in range(0,len(time_connect)):\n",
    "        if LM_column[i]==time_connect[j]:\n",
    "            new_column.append(time_final[j])\n",
    "        "
   ]
  },
  {
   "cell_type": "code",
   "execution_count": 24,
   "metadata": {},
   "outputs": [
    {
     "name": "stdout",
     "output_type": "stream",
     "text": [
      "['Markets', 'Products', 'Periods', 'Jan 20', 'Feb 20', 'Mar 20', 'Apr 20', 'May 20', 'Jun 20', 'Jul 20', 'Aug 20', 'Sep 20', 'Oct 20', 'Nov 20', 'Dec 20', 'Jan 21', 'Feb 21', 'YTD 2021', 'YTD 2020', 'Latest 13 Weeks', 'Latest 26 Weeks', 'FY 2020', 'FY 2019', 'FY 2018', 'FY 2017', 'Q1 2020', 'Q2 2020', 'Q3 2020', 'Q4 2020', 'Q1 2021', 'Q2 2019', 'Q3 2019', 'Q4 2019']\n"
     ]
    }
   ],
   "source": [
    "print(new_column)"
   ]
  },
  {
   "cell_type": "code",
   "execution_count": 25,
   "metadata": {},
   "outputs": [
    {
     "name": "stdout",
     "output_type": "stream",
     "text": [
      "33 33\n"
     ]
    }
   ],
   "source": [
    "print(len(new_column),len(Line_Monthly.columns))"
   ]
  },
  {
   "cell_type": "code",
   "execution_count": 26,
   "metadata": {},
   "outputs": [],
   "source": [
    "#assigning new column names\n",
    "Line_Monthly.columns = new_column"
   ]
  },
  {
   "cell_type": "code",
   "execution_count": 27,
   "metadata": {},
   "outputs": [],
   "source": [
    "# reordering column names\n",
    "my_list =time_period_map.iloc[:, 1]\n",
    "my_list1=Line_Monthly.columns\n",
    "result = [x for x in my_list if x in my_list1]\n",
    "Line_Monthly=Line_Monthly[result]"
   ]
  },
  {
   "cell_type": "code",
   "execution_count": 28,
   "metadata": {},
   "outputs": [
    {
     "data": {
      "text/plain": [
       "Index(['Markets', 'Products', 'Periods', 'FY 2020', 'FY 2019', 'FY 2018',\n",
       "       'FY 2017', 'YTD 2021', 'YTD 2020', 'Latest 13 Weeks', 'Latest 26 Weeks',\n",
       "       'Q1 2021', 'Q4 2020', 'Q3 2020', 'Q2 2020', 'Q1 2020', 'Q4 2019',\n",
       "       'Q3 2019', 'Q2 2019', 'Feb 21', 'Jan 21', 'Dec 20', 'Nov 20', 'Oct 20',\n",
       "       'Sep 20', 'Aug 20', 'Jul 20', 'Jun 20', 'May 20', 'Apr 20', 'Mar 20',\n",
       "       'Feb 20', 'Jan 20'],\n",
       "      dtype='object')"
      ]
     },
     "execution_count": 28,
     "metadata": {},
     "output_type": "execute_result"
    }
   ],
   "source": [
    "Line_Monthly.columns"
   ]
  },
  {
   "cell_type": "code",
   "execution_count": 29,
   "metadata": {
    "scrolled": true
   },
   "outputs": [
    {
     "data": {
      "text/html": [
       "<div>\n",
       "<style scoped>\n",
       "    .dataframe tbody tr th:only-of-type {\n",
       "        vertical-align: middle;\n",
       "    }\n",
       "\n",
       "    .dataframe tbody tr th {\n",
       "        vertical-align: top;\n",
       "    }\n",
       "\n",
       "    .dataframe thead th {\n",
       "        text-align: right;\n",
       "    }\n",
       "</style>\n",
       "<table border=\"1\" class=\"dataframe\">\n",
       "  <thead>\n",
       "    <tr style=\"text-align: right;\">\n",
       "      <th></th>\n",
       "      <th>Markets</th>\n",
       "      <th>Products</th>\n",
       "      <th>Periods</th>\n",
       "      <th>FY 2020</th>\n",
       "      <th>FY 2019</th>\n",
       "      <th>FY 2018</th>\n",
       "      <th>FY 2017</th>\n",
       "      <th>YTD 2021</th>\n",
       "      <th>YTD 2020</th>\n",
       "      <th>Latest 13 Weeks</th>\n",
       "      <th>...</th>\n",
       "      <th>Oct 20</th>\n",
       "      <th>Sep 20</th>\n",
       "      <th>Aug 20</th>\n",
       "      <th>Jul 20</th>\n",
       "      <th>Jun 20</th>\n",
       "      <th>May 20</th>\n",
       "      <th>Apr 20</th>\n",
       "      <th>Mar 20</th>\n",
       "      <th>Feb 20</th>\n",
       "      <th>Jan 20</th>\n",
       "    </tr>\n",
       "  </thead>\n",
       "  <tbody>\n",
       "    <tr>\n",
       "      <th>0</th>\n",
       "      <td>Total US xAOC</td>\n",
       "      <td>ABRASIVE</td>\n",
       "      <td>% $ Any Promo</td>\n",
       "      <td>6.852</td>\n",
       "      <td>9.885</td>\n",
       "      <td>10.409</td>\n",
       "      <td>9.715</td>\n",
       "      <td>15.582</td>\n",
       "      <td>9.690</td>\n",
       "      <td>11.922</td>\n",
       "      <td>...</td>\n",
       "      <td>5.572</td>\n",
       "      <td>5.684</td>\n",
       "      <td>5.237</td>\n",
       "      <td>5.397</td>\n",
       "      <td>4.521</td>\n",
       "      <td>5.375</td>\n",
       "      <td>6.757</td>\n",
       "      <td>11.126</td>\n",
       "      <td>8.262</td>\n",
       "      <td>11.107</td>\n",
       "    </tr>\n",
       "    <tr>\n",
       "      <th>1</th>\n",
       "      <td>Total US xAOC</td>\n",
       "      <td>ABRASIVE</td>\n",
       "      <td>% $ Any Promo Chg YA</td>\n",
       "      <td>-3.033</td>\n",
       "      <td>-0.524</td>\n",
       "      <td>0.694</td>\n",
       "      <td>9.715</td>\n",
       "      <td>5.892</td>\n",
       "      <td>1.349</td>\n",
       "      <td>1.656</td>\n",
       "      <td>...</td>\n",
       "      <td>-3.446</td>\n",
       "      <td>-1.867</td>\n",
       "      <td>-3.987</td>\n",
       "      <td>-1.106</td>\n",
       "      <td>-5.830</td>\n",
       "      <td>-5.742</td>\n",
       "      <td>-4.454</td>\n",
       "      <td>-2.334</td>\n",
       "      <td>-0.137</td>\n",
       "      <td>2.827</td>\n",
       "    </tr>\n",
       "    <tr>\n",
       "      <th>2</th>\n",
       "      <td>Total US xAOC</td>\n",
       "      <td>ABRASIVE</td>\n",
       "      <td>% EQ Any Promo</td>\n",
       "      <td>7.001</td>\n",
       "      <td>10.203</td>\n",
       "      <td>10.539</td>\n",
       "      <td>9.832</td>\n",
       "      <td>16.528</td>\n",
       "      <td>12.653</td>\n",
       "      <td>11.941</td>\n",
       "      <td>...</td>\n",
       "      <td>4.613</td>\n",
       "      <td>5.203</td>\n",
       "      <td>4.318</td>\n",
       "      <td>6.266</td>\n",
       "      <td>4.726</td>\n",
       "      <td>5.051</td>\n",
       "      <td>5.970</td>\n",
       "      <td>11.970</td>\n",
       "      <td>10.971</td>\n",
       "      <td>14.294</td>\n",
       "    </tr>\n",
       "  </tbody>\n",
       "</table>\n",
       "<p>3 rows × 33 columns</p>\n",
       "</div>"
      ],
      "text/plain": [
       "         Markets  Products               Periods  FY 2020  FY 2019  FY 2018  \\\n",
       "0  Total US xAOC  ABRASIVE         % $ Any Promo    6.852    9.885   10.409   \n",
       "1  Total US xAOC  ABRASIVE  % $ Any Promo Chg YA   -3.033   -0.524    0.694   \n",
       "2  Total US xAOC  ABRASIVE        % EQ Any Promo    7.001   10.203   10.539   \n",
       "\n",
       "   FY 2017  YTD 2021  YTD 2020  Latest 13 Weeks  ...  Oct 20  Sep 20  Aug 20  \\\n",
       "0    9.715    15.582     9.690           11.922  ...   5.572   5.684   5.237   \n",
       "1    9.715     5.892     1.349            1.656  ...  -3.446  -1.867  -3.987   \n",
       "2    9.832    16.528    12.653           11.941  ...   4.613   5.203   4.318   \n",
       "\n",
       "   Jul 20  Jun 20  May 20 Apr 20  Mar 20  Feb 20  Jan 20  \n",
       "0   5.397   4.521   5.375  6.757  11.126   8.262  11.107  \n",
       "1  -1.106  -5.830  -5.742 -4.454  -2.334  -0.137   2.827  \n",
       "2   6.266   4.726   5.051  5.970  11.970  10.971  14.294  \n",
       "\n",
       "[3 rows x 33 columns]"
      ]
     },
     "execution_count": 29,
     "metadata": {},
     "output_type": "execute_result"
    }
   ],
   "source": [
    "Line_Monthly.head(3)"
   ]
  },
  {
   "cell_type": "markdown",
   "metadata": {},
   "source": [
    "**Line_Monthly_5p**"
   ]
  },
  {
   "cell_type": "code",
   "execution_count": 30,
   "metadata": {},
   "outputs": [],
   "source": [
    "Data_5p=Line_Monthly.copy()"
   ]
  },
  {
   "cell_type": "code",
   "execution_count": 31,
   "metadata": {},
   "outputs": [],
   "source": [
    "Data_5p.rename(columns={\"Periods\":\"Facts\"},inplace=True)"
   ]
  },
  {
   "cell_type": "code",
   "execution_count": 32,
   "metadata": {
    "scrolled": true
   },
   "outputs": [
    {
     "data": {
      "text/html": [
       "<div>\n",
       "<style scoped>\n",
       "    .dataframe tbody tr th:only-of-type {\n",
       "        vertical-align: middle;\n",
       "    }\n",
       "\n",
       "    .dataframe tbody tr th {\n",
       "        vertical-align: top;\n",
       "    }\n",
       "\n",
       "    .dataframe thead th {\n",
       "        text-align: right;\n",
       "    }\n",
       "</style>\n",
       "<table border=\"1\" class=\"dataframe\">\n",
       "  <thead>\n",
       "    <tr style=\"text-align: right;\">\n",
       "      <th></th>\n",
       "      <th>Markets</th>\n",
       "      <th>Products</th>\n",
       "      <th>Facts</th>\n",
       "      <th>FY 2020</th>\n",
       "      <th>FY 2019</th>\n",
       "      <th>FY 2018</th>\n",
       "      <th>FY 2017</th>\n",
       "      <th>YTD 2021</th>\n",
       "      <th>YTD 2020</th>\n",
       "      <th>Latest 13 Weeks</th>\n",
       "      <th>...</th>\n",
       "      <th>Oct 20</th>\n",
       "      <th>Sep 20</th>\n",
       "      <th>Aug 20</th>\n",
       "      <th>Jul 20</th>\n",
       "      <th>Jun 20</th>\n",
       "      <th>May 20</th>\n",
       "      <th>Apr 20</th>\n",
       "      <th>Mar 20</th>\n",
       "      <th>Feb 20</th>\n",
       "      <th>Jan 20</th>\n",
       "    </tr>\n",
       "  </thead>\n",
       "  <tbody>\n",
       "    <tr>\n",
       "      <th>0</th>\n",
       "      <td>Total US xAOC</td>\n",
       "      <td>ABRASIVE</td>\n",
       "      <td>% $ Any Promo</td>\n",
       "      <td>6.852</td>\n",
       "      <td>9.885</td>\n",
       "      <td>10.409</td>\n",
       "      <td>9.715</td>\n",
       "      <td>15.582</td>\n",
       "      <td>9.690</td>\n",
       "      <td>11.922</td>\n",
       "      <td>...</td>\n",
       "      <td>5.572</td>\n",
       "      <td>5.684</td>\n",
       "      <td>5.237</td>\n",
       "      <td>5.397</td>\n",
       "      <td>4.521</td>\n",
       "      <td>5.375</td>\n",
       "      <td>6.757</td>\n",
       "      <td>11.126</td>\n",
       "      <td>8.262</td>\n",
       "      <td>11.107</td>\n",
       "    </tr>\n",
       "    <tr>\n",
       "      <th>1</th>\n",
       "      <td>Total US xAOC</td>\n",
       "      <td>ABRASIVE</td>\n",
       "      <td>% $ Any Promo Chg YA</td>\n",
       "      <td>-3.033</td>\n",
       "      <td>-0.524</td>\n",
       "      <td>0.694</td>\n",
       "      <td>9.715</td>\n",
       "      <td>5.892</td>\n",
       "      <td>1.349</td>\n",
       "      <td>1.656</td>\n",
       "      <td>...</td>\n",
       "      <td>-3.446</td>\n",
       "      <td>-1.867</td>\n",
       "      <td>-3.987</td>\n",
       "      <td>-1.106</td>\n",
       "      <td>-5.830</td>\n",
       "      <td>-5.742</td>\n",
       "      <td>-4.454</td>\n",
       "      <td>-2.334</td>\n",
       "      <td>-0.137</td>\n",
       "      <td>2.827</td>\n",
       "    </tr>\n",
       "    <tr>\n",
       "      <th>2</th>\n",
       "      <td>Total US xAOC</td>\n",
       "      <td>ABRASIVE</td>\n",
       "      <td>% EQ Any Promo</td>\n",
       "      <td>7.001</td>\n",
       "      <td>10.203</td>\n",
       "      <td>10.539</td>\n",
       "      <td>9.832</td>\n",
       "      <td>16.528</td>\n",
       "      <td>12.653</td>\n",
       "      <td>11.941</td>\n",
       "      <td>...</td>\n",
       "      <td>4.613</td>\n",
       "      <td>5.203</td>\n",
       "      <td>4.318</td>\n",
       "      <td>6.266</td>\n",
       "      <td>4.726</td>\n",
       "      <td>5.051</td>\n",
       "      <td>5.970</td>\n",
       "      <td>11.970</td>\n",
       "      <td>10.971</td>\n",
       "      <td>14.294</td>\n",
       "    </tr>\n",
       "  </tbody>\n",
       "</table>\n",
       "<p>3 rows × 33 columns</p>\n",
       "</div>"
      ],
      "text/plain": [
       "         Markets  Products                 Facts  FY 2020  FY 2019  FY 2018  \\\n",
       "0  Total US xAOC  ABRASIVE         % $ Any Promo    6.852    9.885   10.409   \n",
       "1  Total US xAOC  ABRASIVE  % $ Any Promo Chg YA   -3.033   -0.524    0.694   \n",
       "2  Total US xAOC  ABRASIVE        % EQ Any Promo    7.001   10.203   10.539   \n",
       "\n",
       "   FY 2017  YTD 2021  YTD 2020  Latest 13 Weeks  ...  Oct 20  Sep 20  Aug 20  \\\n",
       "0    9.715    15.582     9.690           11.922  ...   5.572   5.684   5.237   \n",
       "1    9.715     5.892     1.349            1.656  ...  -3.446  -1.867  -3.987   \n",
       "2    9.832    16.528    12.653           11.941  ...   4.613   5.203   4.318   \n",
       "\n",
       "   Jul 20  Jun 20  May 20 Apr 20  Mar 20  Feb 20  Jan 20  \n",
       "0   5.397   4.521   5.375  6.757  11.126   8.262  11.107  \n",
       "1  -1.106  -5.830  -5.742 -4.454  -2.334  -0.137   2.827  \n",
       "2   6.266   4.726   5.051  5.970  11.970  10.971  14.294  \n",
       "\n",
       "[3 rows x 33 columns]"
      ]
     },
     "execution_count": 32,
     "metadata": {},
     "output_type": "execute_result"
    }
   ],
   "source": [
    "Data_5p.head(3)"
   ]
  },
  {
   "cell_type": "markdown",
   "metadata": {},
   "source": [
    "**Filter Condition**\n",
    "\n",
    "Taking only those products whose **Latest Month Dollar Share** is **greater than 0.02** for all the markets"
   ]
  },
  {
   "cell_type": "code",
   "execution_count": 33,
   "metadata": {},
   "outputs": [],
   "source": [
    "Data_5p.iloc[:,3:]= Data_5p.iloc[:,3:].apply(pd.to_numeric)"
   ]
  },
  {
   "cell_type": "code",
   "execution_count": 34,
   "metadata": {
    "scrolled": true
   },
   "outputs": [
    {
     "name": "stdout",
     "output_type": "stream",
     "text": [
      "<class 'pandas.core.frame.DataFrame'>\n",
      "RangeIndex: 580878 entries, 0 to 580877\n",
      "Data columns (total 33 columns):\n",
      " #   Column           Non-Null Count   Dtype  \n",
      "---  ------           --------------   -----  \n",
      " 0   Markets          580878 non-null  object \n",
      " 1   Products         580878 non-null  object \n",
      " 2   Facts            580878 non-null  object \n",
      " 3   FY 2020          580878 non-null  float64\n",
      " 4   FY 2019          580878 non-null  float64\n",
      " 5   FY 2018          580878 non-null  float64\n",
      " 6   FY 2017          580878 non-null  float64\n",
      " 7   YTD 2021         580878 non-null  float64\n",
      " 8   YTD 2020         580878 non-null  float64\n",
      " 9   Latest 13 Weeks  580878 non-null  float64\n",
      " 10  Latest 26 Weeks  580878 non-null  float64\n",
      " 11  Q1 2021          580878 non-null  float64\n",
      " 12  Q4 2020          580878 non-null  float64\n",
      " 13  Q3 2020          580878 non-null  float64\n",
      " 14  Q2 2020          580878 non-null  float64\n",
      " 15  Q1 2020          580878 non-null  float64\n",
      " 16  Q4 2019          0 non-null       float64\n",
      " 17  Q3 2019          0 non-null       float64\n",
      " 18  Q2 2019          0 non-null       float64\n",
      " 19  Feb 21           580878 non-null  float64\n",
      " 20  Jan 21           580878 non-null  float64\n",
      " 21  Dec 20           580878 non-null  float64\n",
      " 22  Nov 20           580878 non-null  float64\n",
      " 23  Oct 20           580878 non-null  float64\n",
      " 24  Sep 20           580878 non-null  float64\n",
      " 25  Aug 20           580878 non-null  float64\n",
      " 26  Jul 20           580878 non-null  float64\n",
      " 27  Jun 20           580878 non-null  float64\n",
      " 28  May 20           580878 non-null  float64\n",
      " 29  Apr 20           580878 non-null  float64\n",
      " 30  Mar 20           580878 non-null  float64\n",
      " 31  Feb 20           580878 non-null  float64\n",
      " 32  Jan 20           580878 non-null  float64\n",
      "dtypes: float64(30), object(3)\n",
      "memory usage: 146.2+ MB\n"
     ]
    }
   ],
   "source": [
    "Data_5p.info()"
   ]
  },
  {
   "cell_type": "code",
   "execution_count": 35,
   "metadata": {},
   "outputs": [],
   "source": [
    "df=Data_5p[(Data_5p['Facts'] == '$ Shr - CP CATEGORY') & (Data_5p.iloc[:,19]>0.02)]\n",
    "\n",
    "df[\"Key\"]=df[\"Markets\"]+df[\"Products\"]\n",
    "Data_5p[\"Key\"]=Data_5p[\"Markets\"]+Data_5p[\"Products\"]\n",
    "\n",
    "Data_5p=Data_5p[Data_5p['Key'].isin(list(df[\"Key\"]))]"
   ]
  },
  {
   "cell_type": "markdown",
   "metadata": {},
   "source": [
    "**ShareBasis Split**"
   ]
  },
  {
   "cell_type": "code",
   "execution_count": 36,
   "metadata": {},
   "outputs": [],
   "source": [
    "Data_5p['SubBrand']=\"\""
   ]
  },
  {
   "cell_type": "code",
   "execution_count": 37,
   "metadata": {
    "scrolled": true
   },
   "outputs": [
    {
     "data": {
      "text/html": [
       "<div>\n",
       "<style scoped>\n",
       "    .dataframe tbody tr th:only-of-type {\n",
       "        vertical-align: middle;\n",
       "    }\n",
       "\n",
       "    .dataframe tbody tr th {\n",
       "        vertical-align: top;\n",
       "    }\n",
       "\n",
       "    .dataframe thead th {\n",
       "        text-align: right;\n",
       "    }\n",
       "</style>\n",
       "<table border=\"1\" class=\"dataframe\">\n",
       "  <thead>\n",
       "    <tr style=\"text-align: right;\">\n",
       "      <th></th>\n",
       "      <th>Markets</th>\n",
       "      <th>Products</th>\n",
       "      <th>Facts</th>\n",
       "      <th>FY 2020</th>\n",
       "      <th>FY 2019</th>\n",
       "      <th>FY 2018</th>\n",
       "      <th>FY 2017</th>\n",
       "      <th>YTD 2021</th>\n",
       "      <th>YTD 2020</th>\n",
       "      <th>Latest 13 Weeks</th>\n",
       "      <th>...</th>\n",
       "      <th>Apr 20</th>\n",
       "      <th>Mar 20</th>\n",
       "      <th>Feb 20</th>\n",
       "      <th>Jan 20</th>\n",
       "      <th>Key</th>\n",
       "      <th>SubBrand</th>\n",
       "      <th>ShareBasis</th>\n",
       "      <th>Manufacturer</th>\n",
       "      <th>Franchise</th>\n",
       "      <th>Brand</th>\n",
       "    </tr>\n",
       "  </thead>\n",
       "  <tbody>\n",
       "    <tr>\n",
       "      <th>0</th>\n",
       "      <td>Total US xAOC</td>\n",
       "      <td>ABRASIVE</td>\n",
       "      <td>% $ Any Promo</td>\n",
       "      <td>6.852</td>\n",
       "      <td>9.885</td>\n",
       "      <td>10.409</td>\n",
       "      <td>9.715</td>\n",
       "      <td>15.582</td>\n",
       "      <td>9.690</td>\n",
       "      <td>11.922</td>\n",
       "      <td>...</td>\n",
       "      <td>6.757</td>\n",
       "      <td>11.126</td>\n",
       "      <td>8.262</td>\n",
       "      <td>11.107</td>\n",
       "      <td>Total US xAOCABRASIVE</td>\n",
       "      <td>None</td>\n",
       "      <td>ABRASIVE</td>\n",
       "      <td>None</td>\n",
       "      <td>None</td>\n",
       "      <td>None</td>\n",
       "    </tr>\n",
       "    <tr>\n",
       "      <th>1</th>\n",
       "      <td>Total US xAOC</td>\n",
       "      <td>ABRASIVE</td>\n",
       "      <td>% $ Any Promo Chg YA</td>\n",
       "      <td>-3.033</td>\n",
       "      <td>-0.524</td>\n",
       "      <td>0.694</td>\n",
       "      <td>9.715</td>\n",
       "      <td>5.892</td>\n",
       "      <td>1.349</td>\n",
       "      <td>1.656</td>\n",
       "      <td>...</td>\n",
       "      <td>-4.454</td>\n",
       "      <td>-2.334</td>\n",
       "      <td>-0.137</td>\n",
       "      <td>2.827</td>\n",
       "      <td>Total US xAOCABRASIVE</td>\n",
       "      <td>None</td>\n",
       "      <td>ABRASIVE</td>\n",
       "      <td>None</td>\n",
       "      <td>None</td>\n",
       "      <td>None</td>\n",
       "    </tr>\n",
       "    <tr>\n",
       "      <th>2</th>\n",
       "      <td>Total US xAOC</td>\n",
       "      <td>ABRASIVE</td>\n",
       "      <td>% EQ Any Promo</td>\n",
       "      <td>7.001</td>\n",
       "      <td>10.203</td>\n",
       "      <td>10.539</td>\n",
       "      <td>9.832</td>\n",
       "      <td>16.528</td>\n",
       "      <td>12.653</td>\n",
       "      <td>11.941</td>\n",
       "      <td>...</td>\n",
       "      <td>5.970</td>\n",
       "      <td>11.970</td>\n",
       "      <td>10.971</td>\n",
       "      <td>14.294</td>\n",
       "      <td>Total US xAOCABRASIVE</td>\n",
       "      <td>None</td>\n",
       "      <td>ABRASIVE</td>\n",
       "      <td>None</td>\n",
       "      <td>None</td>\n",
       "      <td>None</td>\n",
       "    </tr>\n",
       "  </tbody>\n",
       "</table>\n",
       "<p>3 rows × 39 columns</p>\n",
       "</div>"
      ],
      "text/plain": [
       "         Markets  Products                 Facts  FY 2020  FY 2019  FY 2018  \\\n",
       "0  Total US xAOC  ABRASIVE         % $ Any Promo    6.852    9.885   10.409   \n",
       "1  Total US xAOC  ABRASIVE  % $ Any Promo Chg YA   -3.033   -0.524    0.694   \n",
       "2  Total US xAOC  ABRASIVE        % EQ Any Promo    7.001   10.203   10.539   \n",
       "\n",
       "   FY 2017  YTD 2021  YTD 2020  Latest 13 Weeks  ...  Apr 20  Mar 20  Feb 20  \\\n",
       "0    9.715    15.582     9.690           11.922  ...   6.757  11.126   8.262   \n",
       "1    9.715     5.892     1.349            1.656  ...  -4.454  -2.334  -0.137   \n",
       "2    9.832    16.528    12.653           11.941  ...   5.970  11.970  10.971   \n",
       "\n",
       "   Jan 20                    Key  SubBrand  ShareBasis  Manufacturer  \\\n",
       "0  11.107  Total US xAOCABRASIVE      None    ABRASIVE          None   \n",
       "1   2.827  Total US xAOCABRASIVE      None    ABRASIVE          None   \n",
       "2  14.294  Total US xAOCABRASIVE      None    ABRASIVE          None   \n",
       "\n",
       "   Franchise  Brand  \n",
       "0       None   None  \n",
       "1       None   None  \n",
       "2       None   None  \n",
       "\n",
       "[3 rows x 39 columns]"
      ]
     },
     "execution_count": 37,
     "metadata": {},
     "output_type": "execute_result"
    }
   ],
   "source": [
    "Data_5p[['ShareBasis','Manufacturer','Franchise','Brand','SubBrand']] = Data_5p['Products'].str.split('|',n=4,expand=True)\n",
    "Data_5p.head(3)"
   ]
  },
  {
   "cell_type": "code",
   "execution_count": 38,
   "metadata": {
    "scrolled": true
   },
   "outputs": [
    {
     "data": {
      "text/html": [
       "<div>\n",
       "<style scoped>\n",
       "    .dataframe tbody tr th:only-of-type {\n",
       "        vertical-align: middle;\n",
       "    }\n",
       "\n",
       "    .dataframe tbody tr th {\n",
       "        vertical-align: top;\n",
       "    }\n",
       "\n",
       "    .dataframe thead th {\n",
       "        text-align: right;\n",
       "    }\n",
       "</style>\n",
       "<table border=\"1\" class=\"dataframe\">\n",
       "  <thead>\n",
       "    <tr style=\"text-align: right;\">\n",
       "      <th></th>\n",
       "      <th>Markets</th>\n",
       "      <th>Products</th>\n",
       "      <th>Facts</th>\n",
       "      <th>FY 2020</th>\n",
       "      <th>FY 2019</th>\n",
       "      <th>FY 2018</th>\n",
       "      <th>FY 2017</th>\n",
       "      <th>YTD 2021</th>\n",
       "      <th>YTD 2020</th>\n",
       "      <th>Latest 13 Weeks</th>\n",
       "      <th>...</th>\n",
       "      <th>Apr 20</th>\n",
       "      <th>Mar 20</th>\n",
       "      <th>Feb 20</th>\n",
       "      <th>Jan 20</th>\n",
       "      <th>Key</th>\n",
       "      <th>SubBrand</th>\n",
       "      <th>ShareBasis</th>\n",
       "      <th>Manufacturer</th>\n",
       "      <th>Franchise</th>\n",
       "      <th>Brand</th>\n",
       "    </tr>\n",
       "  </thead>\n",
       "  <tbody>\n",
       "    <tr>\n",
       "      <th>0</th>\n",
       "      <td>Total US xAOC</td>\n",
       "      <td>ABRASIVE</td>\n",
       "      <td>% $ Any Promo</td>\n",
       "      <td>6.852</td>\n",
       "      <td>9.885</td>\n",
       "      <td>10.409</td>\n",
       "      <td>9.715</td>\n",
       "      <td>15.582</td>\n",
       "      <td>9.690</td>\n",
       "      <td>11.922</td>\n",
       "      <td>...</td>\n",
       "      <td>6.757</td>\n",
       "      <td>11.126</td>\n",
       "      <td>8.262</td>\n",
       "      <td>11.107</td>\n",
       "      <td>Total US xAOCABRASIVE</td>\n",
       "      <td></td>\n",
       "      <td>ABRASIVE</td>\n",
       "      <td></td>\n",
       "      <td></td>\n",
       "      <td></td>\n",
       "    </tr>\n",
       "    <tr>\n",
       "      <th>1</th>\n",
       "      <td>Total US xAOC</td>\n",
       "      <td>ABRASIVE</td>\n",
       "      <td>% $ Any Promo Chg YA</td>\n",
       "      <td>-3.033</td>\n",
       "      <td>-0.524</td>\n",
       "      <td>0.694</td>\n",
       "      <td>9.715</td>\n",
       "      <td>5.892</td>\n",
       "      <td>1.349</td>\n",
       "      <td>1.656</td>\n",
       "      <td>...</td>\n",
       "      <td>-4.454</td>\n",
       "      <td>-2.334</td>\n",
       "      <td>-0.137</td>\n",
       "      <td>2.827</td>\n",
       "      <td>Total US xAOCABRASIVE</td>\n",
       "      <td></td>\n",
       "      <td>ABRASIVE</td>\n",
       "      <td></td>\n",
       "      <td></td>\n",
       "      <td></td>\n",
       "    </tr>\n",
       "    <tr>\n",
       "      <th>2</th>\n",
       "      <td>Total US xAOC</td>\n",
       "      <td>ABRASIVE</td>\n",
       "      <td>% EQ Any Promo</td>\n",
       "      <td>7.001</td>\n",
       "      <td>10.203</td>\n",
       "      <td>10.539</td>\n",
       "      <td>9.832</td>\n",
       "      <td>16.528</td>\n",
       "      <td>12.653</td>\n",
       "      <td>11.941</td>\n",
       "      <td>...</td>\n",
       "      <td>5.970</td>\n",
       "      <td>11.970</td>\n",
       "      <td>10.971</td>\n",
       "      <td>14.294</td>\n",
       "      <td>Total US xAOCABRASIVE</td>\n",
       "      <td></td>\n",
       "      <td>ABRASIVE</td>\n",
       "      <td></td>\n",
       "      <td></td>\n",
       "      <td></td>\n",
       "    </tr>\n",
       "  </tbody>\n",
       "</table>\n",
       "<p>3 rows × 39 columns</p>\n",
       "</div>"
      ],
      "text/plain": [
       "         Markets  Products                 Facts  FY 2020  FY 2019  FY 2018  \\\n",
       "0  Total US xAOC  ABRASIVE         % $ Any Promo    6.852    9.885   10.409   \n",
       "1  Total US xAOC  ABRASIVE  % $ Any Promo Chg YA   -3.033   -0.524    0.694   \n",
       "2  Total US xAOC  ABRASIVE        % EQ Any Promo    7.001   10.203   10.539   \n",
       "\n",
       "   FY 2017  YTD 2021  YTD 2020  Latest 13 Weeks  ...  Apr 20  Mar 20  Feb 20  \\\n",
       "0    9.715    15.582     9.690           11.922  ...   6.757  11.126   8.262   \n",
       "1    9.715     5.892     1.349            1.656  ...  -4.454  -2.334  -0.137   \n",
       "2    9.832    16.528    12.653           11.941  ...   5.970  11.970  10.971   \n",
       "\n",
       "   Jan 20                    Key  SubBrand  ShareBasis  Manufacturer  \\\n",
       "0  11.107  Total US xAOCABRASIVE              ABRASIVE                 \n",
       "1   2.827  Total US xAOCABRASIVE              ABRASIVE                 \n",
       "2  14.294  Total US xAOCABRASIVE              ABRASIVE                 \n",
       "\n",
       "   Franchise  Brand  \n",
       "0                    \n",
       "1                    \n",
       "2                    \n",
       "\n",
       "[3 rows x 39 columns]"
      ]
     },
     "execution_count": 38,
     "metadata": {},
     "output_type": "execute_result"
    }
   ],
   "source": [
    "Data_5p[[\"ShareBasis\",\"Manufacturer\",\"Franchise\",\"Brand\",\"SubBrand\"]]=Data_5p[[\"ShareBasis\",\"Manufacturer\",\"Franchise\",\"Brand\",\"SubBrand\"]].fillna(value=\"\")\n",
    "Data_5p.head(3)"
   ]
  },
  {
   "cell_type": "markdown",
   "metadata": {},
   "source": [
    "***movecol*** function to **rearranging** the columns of a dataframe"
   ]
  },
  {
   "cell_type": "code",
   "execution_count": 39,
   "metadata": {},
   "outputs": [],
   "source": [
    "def movecol(df, cols_to_move=[], ref_col='', place=''):\n",
    "    cols = df.columns.tolist()\n",
    "    if place == 'After':\n",
    "        seg1 = cols[:list(cols).index(ref_col) + 1]\n",
    "        seg2 = cols_to_move\n",
    "    if place == 'Before':\n",
    "        seg1 = cols[:list(cols).index(ref_col)]\n",
    "        seg2 = cols_to_move + [ref_col]\n",
    "    seg1 = [i for i in seg1 if i not in seg2]\n",
    "    seg3 = [i for i in cols if i not in seg1 + seg2]\n",
    "    \n",
    "    return(df[seg1 + seg2 + seg3])"
   ]
  },
  {
   "cell_type": "code",
   "execution_count": 40,
   "metadata": {
    "scrolled": true
   },
   "outputs": [
    {
     "data": {
      "text/html": [
       "<div>\n",
       "<style scoped>\n",
       "    .dataframe tbody tr th:only-of-type {\n",
       "        vertical-align: middle;\n",
       "    }\n",
       "\n",
       "    .dataframe tbody tr th {\n",
       "        vertical-align: top;\n",
       "    }\n",
       "\n",
       "    .dataframe thead th {\n",
       "        text-align: right;\n",
       "    }\n",
       "</style>\n",
       "<table border=\"1\" class=\"dataframe\">\n",
       "  <thead>\n",
       "    <tr style=\"text-align: right;\">\n",
       "      <th></th>\n",
       "      <th>Markets</th>\n",
       "      <th>ShareBasis</th>\n",
       "      <th>Manufacturer</th>\n",
       "      <th>Franchise</th>\n",
       "      <th>Brand</th>\n",
       "      <th>SubBrand</th>\n",
       "      <th>Products</th>\n",
       "      <th>Facts</th>\n",
       "      <th>FY 2020</th>\n",
       "      <th>FY 2019</th>\n",
       "      <th>...</th>\n",
       "      <th>Sep 20</th>\n",
       "      <th>Aug 20</th>\n",
       "      <th>Jul 20</th>\n",
       "      <th>Jun 20</th>\n",
       "      <th>May 20</th>\n",
       "      <th>Apr 20</th>\n",
       "      <th>Mar 20</th>\n",
       "      <th>Feb 20</th>\n",
       "      <th>Jan 20</th>\n",
       "      <th>Key</th>\n",
       "    </tr>\n",
       "  </thead>\n",
       "  <tbody>\n",
       "    <tr>\n",
       "      <th>0</th>\n",
       "      <td>Total US xAOC</td>\n",
       "      <td>ABRASIVE</td>\n",
       "      <td></td>\n",
       "      <td></td>\n",
       "      <td></td>\n",
       "      <td></td>\n",
       "      <td>ABRASIVE</td>\n",
       "      <td>% $ Any Promo</td>\n",
       "      <td>6.852</td>\n",
       "      <td>9.885</td>\n",
       "      <td>...</td>\n",
       "      <td>5.684</td>\n",
       "      <td>5.237</td>\n",
       "      <td>5.397</td>\n",
       "      <td>4.521</td>\n",
       "      <td>5.375</td>\n",
       "      <td>6.757</td>\n",
       "      <td>11.126</td>\n",
       "      <td>8.262</td>\n",
       "      <td>11.107</td>\n",
       "      <td>Total US xAOCABRASIVE</td>\n",
       "    </tr>\n",
       "    <tr>\n",
       "      <th>1</th>\n",
       "      <td>Total US xAOC</td>\n",
       "      <td>ABRASIVE</td>\n",
       "      <td></td>\n",
       "      <td></td>\n",
       "      <td></td>\n",
       "      <td></td>\n",
       "      <td>ABRASIVE</td>\n",
       "      <td>% $ Any Promo Chg YA</td>\n",
       "      <td>-3.033</td>\n",
       "      <td>-0.524</td>\n",
       "      <td>...</td>\n",
       "      <td>-1.867</td>\n",
       "      <td>-3.987</td>\n",
       "      <td>-1.106</td>\n",
       "      <td>-5.830</td>\n",
       "      <td>-5.742</td>\n",
       "      <td>-4.454</td>\n",
       "      <td>-2.334</td>\n",
       "      <td>-0.137</td>\n",
       "      <td>2.827</td>\n",
       "      <td>Total US xAOCABRASIVE</td>\n",
       "    </tr>\n",
       "    <tr>\n",
       "      <th>2</th>\n",
       "      <td>Total US xAOC</td>\n",
       "      <td>ABRASIVE</td>\n",
       "      <td></td>\n",
       "      <td></td>\n",
       "      <td></td>\n",
       "      <td></td>\n",
       "      <td>ABRASIVE</td>\n",
       "      <td>% EQ Any Promo</td>\n",
       "      <td>7.001</td>\n",
       "      <td>10.203</td>\n",
       "      <td>...</td>\n",
       "      <td>5.203</td>\n",
       "      <td>4.318</td>\n",
       "      <td>6.266</td>\n",
       "      <td>4.726</td>\n",
       "      <td>5.051</td>\n",
       "      <td>5.970</td>\n",
       "      <td>11.970</td>\n",
       "      <td>10.971</td>\n",
       "      <td>14.294</td>\n",
       "      <td>Total US xAOCABRASIVE</td>\n",
       "    </tr>\n",
       "  </tbody>\n",
       "</table>\n",
       "<p>3 rows × 39 columns</p>\n",
       "</div>"
      ],
      "text/plain": [
       "         Markets ShareBasis Manufacturer Franchise Brand SubBrand  Products  \\\n",
       "0  Total US xAOC   ABRASIVE                                        ABRASIVE   \n",
       "1  Total US xAOC   ABRASIVE                                        ABRASIVE   \n",
       "2  Total US xAOC   ABRASIVE                                        ABRASIVE   \n",
       "\n",
       "                  Facts  FY 2020  FY 2019  ...  Sep 20  Aug 20  Jul 20  \\\n",
       "0         % $ Any Promo    6.852    9.885  ...   5.684   5.237   5.397   \n",
       "1  % $ Any Promo Chg YA   -3.033   -0.524  ...  -1.867  -3.987  -1.106   \n",
       "2        % EQ Any Promo    7.001   10.203  ...   5.203   4.318   6.266   \n",
       "\n",
       "   Jun 20  May 20  Apr 20  Mar 20  Feb 20  Jan 20                    Key  \n",
       "0   4.521   5.375   6.757  11.126   8.262  11.107  Total US xAOCABRASIVE  \n",
       "1  -5.830  -5.742  -4.454  -2.334  -0.137   2.827  Total US xAOCABRASIVE  \n",
       "2   4.726   5.051   5.970  11.970  10.971  14.294  Total US xAOCABRASIVE  \n",
       "\n",
       "[3 rows x 39 columns]"
      ]
     },
     "execution_count": 40,
     "metadata": {},
     "output_type": "execute_result"
    }
   ],
   "source": [
    "Data_5p = movecol(Data_5p, \n",
    "             cols_to_move=['ShareBasis','Manufacturer','Franchise','Brand','SubBrand'], \n",
    "             ref_col='Markets',\n",
    "             place='After')\n",
    "Data_5p.head(3)"
   ]
  },
  {
   "cell_type": "code",
   "execution_count": null,
   "metadata": {},
   "outputs": [],
   "source": []
  },
  {
   "cell_type": "markdown",
   "metadata": {},
   "source": [
    "**Strip Columns**\n",
    "\n",
    "Strip starting 8 columns "
   ]
  },
  {
   "cell_type": "code",
   "execution_count": 41,
   "metadata": {},
   "outputs": [],
   "source": [
    "cols=list(Data_5p.columns[0:8])"
   ]
  },
  {
   "cell_type": "code",
   "execution_count": 42,
   "metadata": {},
   "outputs": [],
   "source": [
    "Data_5p[cols]=Data_5p[cols].apply(lambda x : x.str.strip())"
   ]
  },
  {
   "cell_type": "markdown",
   "metadata": {},
   "source": [
    "**Category Column**"
   ]
  },
  {
   "cell_type": "code",
   "execution_count": 43,
   "metadata": {},
   "outputs": [],
   "source": [
    "df1= pd.DataFrame(Data_5p[\"ShareBasis\"])"
   ]
  },
  {
   "cell_type": "code",
   "execution_count": 44,
   "metadata": {},
   "outputs": [
    {
     "data": {
      "text/html": [
       "<div>\n",
       "<style scoped>\n",
       "    .dataframe tbody tr th:only-of-type {\n",
       "        vertical-align: middle;\n",
       "    }\n",
       "\n",
       "    .dataframe tbody tr th {\n",
       "        vertical-align: top;\n",
       "    }\n",
       "\n",
       "    .dataframe thead th {\n",
       "        text-align: right;\n",
       "    }\n",
       "</style>\n",
       "<table border=\"1\" class=\"dataframe\">\n",
       "  <thead>\n",
       "    <tr style=\"text-align: right;\">\n",
       "      <th></th>\n",
       "      <th>ShareBasis</th>\n",
       "      <th>Category</th>\n",
       "    </tr>\n",
       "  </thead>\n",
       "  <tbody>\n",
       "    <tr>\n",
       "      <th>0</th>\n",
       "      <td>ABRASIVE</td>\n",
       "      <td>HHC</td>\n",
       "    </tr>\n",
       "    <tr>\n",
       "      <th>1</th>\n",
       "      <td>ABRASIVE</td>\n",
       "      <td>HHC</td>\n",
       "    </tr>\n",
       "    <tr>\n",
       "      <th>2</th>\n",
       "      <td>ABRASIVE</td>\n",
       "      <td>HHC</td>\n",
       "    </tr>\n",
       "  </tbody>\n",
       "</table>\n",
       "</div>"
      ],
      "text/plain": [
       "  ShareBasis Category\n",
       "0   ABRASIVE      HHC\n",
       "1   ABRASIVE      HHC\n",
       "2   ABRASIVE      HHC"
      ]
     },
     "execution_count": 44,
     "metadata": {},
     "output_type": "execute_result"
    }
   ],
   "source": [
    "def fun_category(x):\n",
    "    if x == 'TOOTHPASTE' or x == 'WHITENING SYS':\n",
    "        return \"TP\"\n",
    "    elif x=='POUR APC+WW' or x==\"WOOD\" or x== 'ABRASIVE' or x== \"APC+WW\" or x=='FLOOR WAX' or x=='OUTDOOR' or x=='DRY WIPES' or x=='SPRAY':\n",
    "        return \"HHC\"\n",
    "    elif x=='MANUAL':\n",
    "        return 'MTB'\n",
    "    elif x=='POWER' or x=='PORTABLE TB' or x == 'ELECTRIC' or x == 'BATTERY+HYBRID' or x == 'BATTERY':\n",
    "        return \"PTB\"\n",
    "    elif x=='BODYWASH':\n",
    "        return \"BW\"\n",
    "    elif x=='MOUTHWASH':\n",
    "        return 'MW'\n",
    "    elif x=='BAR':\n",
    "        return \"BAR\"\n",
    "    elif x=='LIQUID':\n",
    "        return 'LHS'\n",
    "    elif x=='FABRIC SOFTENERS' or x == 'BEAD FS' or x== 'LIQUID FS' or x == \"SHEETS\" or x==\"SCENT BOOSTERS\" :\n",
    "        return \"FS\"\n",
    "    elif x=='LDL+FOAM' or x == 'MFR Sun Products' :\n",
    "        return 'LDL'\n",
    "    else:\n",
    "        return 'N/A'\n",
    "    # Add elif statements....\n",
    "    \n",
    "\n",
    "df1['Category']= df1['ShareBasis'].apply(fun_category)\n",
    "df1.head(3)"
   ]
  },
  {
   "cell_type": "code",
   "execution_count": 45,
   "metadata": {},
   "outputs": [],
   "source": [
    "Data_5p['Category']=df1['Category']"
   ]
  },
  {
   "cell_type": "code",
   "execution_count": 46,
   "metadata": {
    "scrolled": false
   },
   "outputs": [
    {
     "data": {
      "text/html": [
       "<div>\n",
       "<style scoped>\n",
       "    .dataframe tbody tr th:only-of-type {\n",
       "        vertical-align: middle;\n",
       "    }\n",
       "\n",
       "    .dataframe tbody tr th {\n",
       "        vertical-align: top;\n",
       "    }\n",
       "\n",
       "    .dataframe thead th {\n",
       "        text-align: right;\n",
       "    }\n",
       "</style>\n",
       "<table border=\"1\" class=\"dataframe\">\n",
       "  <thead>\n",
       "    <tr style=\"text-align: right;\">\n",
       "      <th></th>\n",
       "      <th>Markets</th>\n",
       "      <th>ShareBasis</th>\n",
       "      <th>Category</th>\n",
       "      <th>Manufacturer</th>\n",
       "      <th>Franchise</th>\n",
       "      <th>Brand</th>\n",
       "      <th>SubBrand</th>\n",
       "      <th>Products</th>\n",
       "      <th>Facts</th>\n",
       "      <th>FY 2020</th>\n",
       "      <th>...</th>\n",
       "      <th>Sep 20</th>\n",
       "      <th>Aug 20</th>\n",
       "      <th>Jul 20</th>\n",
       "      <th>Jun 20</th>\n",
       "      <th>May 20</th>\n",
       "      <th>Apr 20</th>\n",
       "      <th>Mar 20</th>\n",
       "      <th>Feb 20</th>\n",
       "      <th>Jan 20</th>\n",
       "      <th>Key</th>\n",
       "    </tr>\n",
       "  </thead>\n",
       "  <tbody>\n",
       "    <tr>\n",
       "      <th>0</th>\n",
       "      <td>Total US xAOC</td>\n",
       "      <td>ABRASIVE</td>\n",
       "      <td>HHC</td>\n",
       "      <td></td>\n",
       "      <td></td>\n",
       "      <td></td>\n",
       "      <td></td>\n",
       "      <td>ABRASIVE</td>\n",
       "      <td>% $ Any Promo</td>\n",
       "      <td>6.852</td>\n",
       "      <td>...</td>\n",
       "      <td>5.684</td>\n",
       "      <td>5.237</td>\n",
       "      <td>5.397</td>\n",
       "      <td>4.521</td>\n",
       "      <td>5.375</td>\n",
       "      <td>6.757</td>\n",
       "      <td>11.126</td>\n",
       "      <td>8.262</td>\n",
       "      <td>11.107</td>\n",
       "      <td>Total US xAOCABRASIVE</td>\n",
       "    </tr>\n",
       "    <tr>\n",
       "      <th>1</th>\n",
       "      <td>Total US xAOC</td>\n",
       "      <td>ABRASIVE</td>\n",
       "      <td>HHC</td>\n",
       "      <td></td>\n",
       "      <td></td>\n",
       "      <td></td>\n",
       "      <td></td>\n",
       "      <td>ABRASIVE</td>\n",
       "      <td>% $ Any Promo Chg YA</td>\n",
       "      <td>-3.033</td>\n",
       "      <td>...</td>\n",
       "      <td>-1.867</td>\n",
       "      <td>-3.987</td>\n",
       "      <td>-1.106</td>\n",
       "      <td>-5.830</td>\n",
       "      <td>-5.742</td>\n",
       "      <td>-4.454</td>\n",
       "      <td>-2.334</td>\n",
       "      <td>-0.137</td>\n",
       "      <td>2.827</td>\n",
       "      <td>Total US xAOCABRASIVE</td>\n",
       "    </tr>\n",
       "    <tr>\n",
       "      <th>2</th>\n",
       "      <td>Total US xAOC</td>\n",
       "      <td>ABRASIVE</td>\n",
       "      <td>HHC</td>\n",
       "      <td></td>\n",
       "      <td></td>\n",
       "      <td></td>\n",
       "      <td></td>\n",
       "      <td>ABRASIVE</td>\n",
       "      <td>% EQ Any Promo</td>\n",
       "      <td>7.001</td>\n",
       "      <td>...</td>\n",
       "      <td>5.203</td>\n",
       "      <td>4.318</td>\n",
       "      <td>6.266</td>\n",
       "      <td>4.726</td>\n",
       "      <td>5.051</td>\n",
       "      <td>5.970</td>\n",
       "      <td>11.970</td>\n",
       "      <td>10.971</td>\n",
       "      <td>14.294</td>\n",
       "      <td>Total US xAOCABRASIVE</td>\n",
       "    </tr>\n",
       "  </tbody>\n",
       "</table>\n",
       "<p>3 rows × 40 columns</p>\n",
       "</div>"
      ],
      "text/plain": [
       "         Markets ShareBasis Category Manufacturer Franchise Brand SubBrand  \\\n",
       "0  Total US xAOC   ABRASIVE      HHC                                         \n",
       "1  Total US xAOC   ABRASIVE      HHC                                         \n",
       "2  Total US xAOC   ABRASIVE      HHC                                         \n",
       "\n",
       "   Products                 Facts  FY 2020  ...  Sep 20  Aug 20  Jul 20  \\\n",
       "0  ABRASIVE         % $ Any Promo    6.852  ...   5.684   5.237   5.397   \n",
       "1  ABRASIVE  % $ Any Promo Chg YA   -3.033  ...  -1.867  -3.987  -1.106   \n",
       "2  ABRASIVE        % EQ Any Promo    7.001  ...   5.203   4.318   6.266   \n",
       "\n",
       "   Jun 20  May 20  Apr 20  Mar 20  Feb 20  Jan 20                    Key  \n",
       "0   4.521   5.375   6.757  11.126   8.262  11.107  Total US xAOCABRASIVE  \n",
       "1  -5.830  -5.742  -4.454  -2.334  -0.137   2.827  Total US xAOCABRASIVE  \n",
       "2   4.726   5.051   5.970  11.970  10.971  14.294  Total US xAOCABRASIVE  \n",
       "\n",
       "[3 rows x 40 columns]"
      ]
     },
     "execution_count": 46,
     "metadata": {},
     "output_type": "execute_result"
    }
   ],
   "source": [
    "#Moving column \"Category\" after column \"ShareBasis\"\n",
    "\n",
    "Data_5p = movecol(Data_5p, \n",
    "             cols_to_move=['Category'], \n",
    "             ref_col='ShareBasis',\n",
    "             place='After')\n",
    "Data_5p.head(3)"
   ]
  },
  {
   "cell_type": "code",
   "execution_count": 47,
   "metadata": {},
   "outputs": [],
   "source": [
    "Time_Mapping={\n",
    "    \"Nov 19\":\"4 W/E 11/23/2019\",\n",
    "    \"Dec 19\":\"5 W/E 12/28/2019\",\n",
    "    \"Jan 20\":\"4 W/E 02/01/2020\",\n",
    "    \"Feb 20\":\"4 W/E 02/29/2020\",\n",
    "    \"Mar 20\":\"5 W/E 04/04/2020\",\n",
    "    \"Apr 20\":\"4 W/E 05/02/2020\",\n",
    "    \"May 20\":\"4 W/E 05/30/2020\",\n",
    "    \"Jun 20\":\"5 W/E 07/04/2020\",\n",
    "    \"Jul 20\":\"4 W/E 08/01/2020\",\n",
    "    \"Aug 20\":\"4 W/E 08/29/2020\",\n",
    "    \"Sep 20\":\"5 W/E 10/03/2020\",\n",
    "    \"Oct 20\":\"4 W/E 10/31/2020\",\n",
    "    \"Nov 20\":\"4 W/E 11/28/2020\",\n",
    "    \"Dec 20\":\"5 W/E 01/02/2021\",\n",
    "    \"Jan 21\":\"4 W/E 01/30/2021\",\n",
    "    \"Feb 21\":\"4 W/E 02/27/2021\",\n",
    "    \"Mar 21\":\"5 W/E 04/03/2021\",\n",
    "    \"Apr 21\":\"4 W/E 05/01/2021\",\n",
    "    \"May 21\":\"4 W/E 05/29/2021\",\n",
    "    \"Jun 21\":\"5 W/E 07/03/2021\",\n",
    "    \"Jul 21\":\"4 W/E 07/31/2021\",\n",
    "    \"Aug 21\":\"4 W/E 08/28/2021\",\n",
    "    \"Sep 21\":\"5 W/E 10/02/2021\",\n",
    "    \"Oct 21\":\"4 W/E 10/30/2021\",\n",
    "    \"Nov 21\":\"4 W/E 11/27/2021\",\n",
    "    \"Dec 21\":\"5 W/E 01/01/2022\",\n",
    "    \"Jan 22\":\"4 W/E 01/29/2022\",\n",
    "    \"Feb 22\":\"4 W/E 02/26/2022\",\n",
    "    \"Mar 22\":\"5 W/E 04/02/2022\",\n",
    "    \"Apr 22\":\"4 W/E 04/30/2022\",\n",
    "    \"May 22\":\"5 W/E 05/28/2022\",\n",
    "    \"Jun 22\":\"4 W/E 06/25/2022\",\n",
    "    \"Jul 22\":\"4 W/E 07/23/2022\",\n",
    "    \"Aug 22\":\"5 W/E 08/20/2022\",\n",
    "    \"Sep 22\":\"4 W/E 09/17/2022\",\n",
    "    \"Oct 22\":\"4 W/E 10/15/2022\",\n",
    "    \"Nov 22\":\"5 W/E 11/12/2022\",\n",
    "    \"Dec 22\":\"4 W/E 12/10/2022\",\n",
    "    \"Jan 23\":\"4 W/E 01/07/2023\",\n",
    "    \"Feb 23\":\"5 W/E 02/04/2023\",\n",
    "    \"Mar 23\":\"4 W/E 03/04/2023\",\n",
    "    \"Apr 23\":\"4 W/E 04/01/2023\",\n",
    "    \"May 23\":\"5 W/E 04/29/2023\",\n",
    "    \"Jun 23\":\"4 W/E 05/27/2023\",\n",
    "    \"Jul 23\":\"4 W/E 06/24/2023\",\n",
    "    \"Aug 23\":\"5 W/E 07/22/2023\",\n",
    "    \"Sep 23\":\"4 W/E 08/19/2023\",\n",
    "    \"Oct 23\":\"5 W/E 09/16/2023\",\n",
    "    \"Nov 23\":\"4 W/E 10/14/2023\",\n",
    "    \"Dec 23\":\"4 W/E 11/11/2023\",\n",
    "    \"Jan 24\":\"5 W/E 12/09/2023\",\n",
    "    \"Feb 24\":\"4 W/E 01/06/2024\",\n",
    "    \"Mar 24\":\"4 W/E 02/03/2024\",\n",
    "    \"Apr 24\":\"5 W/E 03/02/2024\",\n",
    "    \"May 24\":\"4 W/E 03/30/2024\",\n",
    "    \"Jun 24\":\"4 W/E 04/27/2024\",\n",
    "    \"Jul 24\":\"5 W/E 05/25/2024\",\n",
    "    \"Aug 24\":\"4 W/E 06/22/2024\",\n",
    "    \"Sep 24\":\"4 W/E 07/20/2024\",\n",
    "    \"Oct 24\":\"5 W/E 08/17/2024\",\n",
    "    \"Nov 24\":\"4 W/E 09/14/2024\",\n",
    "    \"Dec 24\":\"4 W/E 10/12/2024\",\n",
    "    \"Jan 25\":\"5 W/E 11/09/2024\",\n",
    "    \"Feb 25\":\"4 W/E 12/07/2024\",\n",
    "    \"Mar 25\":\"5 W/E 01/04/2025\",\n",
    "    \"Apr 25\":\"4 W/E 02/01/2025\",\n",
    "    \"May 25\":\"4 W/E 03/01/2025\",\n",
    "    \"Jun 25\":\"5 W/E 03/29/2025\",\n",
    "    \"Jul 25\":\"4 W/E 04/26/2025\",\n",
    "    \"Aug 25\":\"4 W/E 05/24/2025\",\n",
    "    \"Sep 25\":\"5 W/E 06/21/2025\",\n",
    "    \"Oct 25\":\"4 W/E 07/19/2025\",\n",
    "    \"Nov 25\":\"4 W/E 08/16/2025\",\n",
    "    \"Dec 25\":\"5 W/E 09/13/2025\",\n",
    "    \"Jan 26\":\"4 W/E 10/11/2025\",\n",
    "    \"Feb 26\":\"4 W/E 11/08/2025\",\n",
    "    \"Mar 26\":\"5 W/E 12/06/2025\",\n",
    "    \"Apr 26\":\"4 W/E 01/03/2026\",\n",
    "    \"May 26\":\"4 W/E 01/31/2026\",\n",
    "    \"Jun 26\":\"5 W/E 02/28/2026\",\n",
    "    \"Jul 26\":\"4 W/E 03/28/2026\",\n",
    "    \"Aug 26\":\"5 W/E 04/25/2026\",\n",
    "    \"Sep 26\":\"4 W/E 05/23/2026\",\n",
    "    \"Oct 26\":\"4 W/E 06/20/2026\",\n",
    "    \"Nov 26\":\"5 W/E 07/18/2026\",\n",
    "    \"Dec 26\":\"4 W/E 08/15/2026\"\n",
    "}\n"
   ]
  },
  {
   "cell_type": "code",
   "execution_count": 48,
   "metadata": {},
   "outputs": [],
   "source": [
    "Data_5p.rename(columns=Time_Mapping,inplace=True)"
   ]
  },
  {
   "cell_type": "code",
   "execution_count": 49,
   "metadata": {},
   "outputs": [
    {
     "data": {
      "text/plain": [
       "{'ALBSCO Total Company TA',\n",
       " 'Ahold USA Corp Total TA',\n",
       " 'BJs Total TA',\n",
       " 'CLUB',\n",
       " 'CVS Total Corp WO HI TA',\n",
       " 'Dol Gen Total TA',\n",
       " 'FDM',\n",
       " 'Family Dollar Total TA',\n",
       " 'Fiesta Total TA',\n",
       " 'Kmart Total TA',\n",
       " 'Meijer Total TA',\n",
       " 'Publix Total TA',\n",
       " 'REGIONAL GROCERY xLA',\n",
       " 'Rite Aid - Corp Total TA',\n",
       " \"Sam's Total TA\",\n",
       " 'ShopRite Total TA',\n",
       " 'Strategic Grocery',\n",
       " 'TOTAL MASS',\n",
       " 'Target Total BM/FF TA',\n",
       " 'Total US Drug',\n",
       " 'Total US Food',\n",
       " 'Total US xAOC',\n",
       " 'VDC',\n",
       " 'Walgreens Total TA',\n",
       " 'Walmart Total US TA'}"
      ]
     },
     "execution_count": 49,
     "metadata": {},
     "output_type": "execute_result"
    }
   ],
   "source": [
    "set(Data_5p[\"Markets\"])"
   ]
  },
  {
   "cell_type": "code",
   "execution_count": 50,
   "metadata": {},
   "outputs": [],
   "source": [
    "Market_Mapping={\n",
    "    \n",
    "     'ALBSCO Total Company TA':'Alb/Sfy',\n",
    "     'REGIONAL GROCERY xLA':'Agency Grocery',\n",
    "     'Ahold USA Corp Total TA':\"Ahold\",\n",
    "     'BJs Total TA':\"BJs\",\n",
    "     'CLUB':\"CLUB\",\n",
    "     'CVS Total Corp WO HI TA':\"CVS\",\n",
    "     'Dol Gen Total TA':\"Dollar General\",\n",
    "     'El Super Total TA':'El Super',\n",
    "     'FDM':\"FDM\",\n",
    "     'Family Dollar Total TA':\"Family Dollar\",\n",
    "     'Fiesta Total TA':\"Fiesta\",\n",
    "     'Giant Eagle Total TA':\"Giant Eagle\",\n",
    "     'Kmart Total TA':\"Kmart\",\n",
    "     'Meijer Total TA':\"Meijer\",\n",
    "     'Publix Total TA':\"Publix\",\n",
    "     'Rite Aid - Corp Total TA':\"Rite Aid\",\n",
    "     \"Sam's Total TA\":\"Sams\",\n",
    "     'ShopRite Total TA':\"Shoprite\",\n",
    "     'Strategic Grocery':\"Strategic Grocery\",\n",
    "     'TOTAL MASS':\"TOTAL MASS\",\n",
    "     'Target Total BM/FF TA':\"Target\",\n",
    "     'Total US Drug':\"US Drug\",\n",
    "     'Total US Food':\"US Food\",\n",
    "     'Total US xAOC':\"US AOC\",\n",
    "     'VDC':\"VDC\",\n",
    "     'Walgreens Total TA':\"Walgreens\",\n",
    "     'Walmart Total US TA':\"Walmart\",\n",
    "     'Wegmans Total TA':\"Wegmans\"\n",
    "    }\n"
   ]
  },
  {
   "cell_type": "code",
   "execution_count": 51,
   "metadata": {},
   "outputs": [],
   "source": [
    "Data_5p[\"Markets\"].replace(Market_Mapping,inplace=True)"
   ]
  },
  {
   "cell_type": "code",
   "execution_count": 52,
   "metadata": {
    "scrolled": true
   },
   "outputs": [
    {
     "data": {
      "text/html": [
       "<div>\n",
       "<style scoped>\n",
       "    .dataframe tbody tr th:only-of-type {\n",
       "        vertical-align: middle;\n",
       "    }\n",
       "\n",
       "    .dataframe tbody tr th {\n",
       "        vertical-align: top;\n",
       "    }\n",
       "\n",
       "    .dataframe thead th {\n",
       "        text-align: right;\n",
       "    }\n",
       "</style>\n",
       "<table border=\"1\" class=\"dataframe\">\n",
       "  <thead>\n",
       "    <tr style=\"text-align: right;\">\n",
       "      <th></th>\n",
       "      <th>Markets</th>\n",
       "      <th>ShareBasis</th>\n",
       "      <th>Category</th>\n",
       "      <th>Manufacturer</th>\n",
       "      <th>Franchise</th>\n",
       "      <th>Brand</th>\n",
       "      <th>SubBrand</th>\n",
       "      <th>Products</th>\n",
       "      <th>Facts</th>\n",
       "      <th>FY 2020</th>\n",
       "      <th>...</th>\n",
       "      <th>5 W/E 10/03/2020</th>\n",
       "      <th>4 W/E 08/29/2020</th>\n",
       "      <th>4 W/E 08/01/2020</th>\n",
       "      <th>5 W/E 07/04/2020</th>\n",
       "      <th>4 W/E 05/30/2020</th>\n",
       "      <th>4 W/E 05/02/2020</th>\n",
       "      <th>5 W/E 04/04/2020</th>\n",
       "      <th>4 W/E 02/29/2020</th>\n",
       "      <th>4 W/E 02/01/2020</th>\n",
       "      <th>Key</th>\n",
       "    </tr>\n",
       "  </thead>\n",
       "  <tbody>\n",
       "    <tr>\n",
       "      <th>0</th>\n",
       "      <td>US AOC</td>\n",
       "      <td>ABRASIVE</td>\n",
       "      <td>HHC</td>\n",
       "      <td></td>\n",
       "      <td></td>\n",
       "      <td></td>\n",
       "      <td></td>\n",
       "      <td>ABRASIVE</td>\n",
       "      <td>% $ Any Promo</td>\n",
       "      <td>6.852</td>\n",
       "      <td>...</td>\n",
       "      <td>5.684</td>\n",
       "      <td>5.237</td>\n",
       "      <td>5.397</td>\n",
       "      <td>4.521</td>\n",
       "      <td>5.375</td>\n",
       "      <td>6.757</td>\n",
       "      <td>11.126</td>\n",
       "      <td>8.262</td>\n",
       "      <td>11.107</td>\n",
       "      <td>Total US xAOCABRASIVE</td>\n",
       "    </tr>\n",
       "    <tr>\n",
       "      <th>1</th>\n",
       "      <td>US AOC</td>\n",
       "      <td>ABRASIVE</td>\n",
       "      <td>HHC</td>\n",
       "      <td></td>\n",
       "      <td></td>\n",
       "      <td></td>\n",
       "      <td></td>\n",
       "      <td>ABRASIVE</td>\n",
       "      <td>% $ Any Promo Chg YA</td>\n",
       "      <td>-3.033</td>\n",
       "      <td>...</td>\n",
       "      <td>-1.867</td>\n",
       "      <td>-3.987</td>\n",
       "      <td>-1.106</td>\n",
       "      <td>-5.830</td>\n",
       "      <td>-5.742</td>\n",
       "      <td>-4.454</td>\n",
       "      <td>-2.334</td>\n",
       "      <td>-0.137</td>\n",
       "      <td>2.827</td>\n",
       "      <td>Total US xAOCABRASIVE</td>\n",
       "    </tr>\n",
       "    <tr>\n",
       "      <th>2</th>\n",
       "      <td>US AOC</td>\n",
       "      <td>ABRASIVE</td>\n",
       "      <td>HHC</td>\n",
       "      <td></td>\n",
       "      <td></td>\n",
       "      <td></td>\n",
       "      <td></td>\n",
       "      <td>ABRASIVE</td>\n",
       "      <td>% EQ Any Promo</td>\n",
       "      <td>7.001</td>\n",
       "      <td>...</td>\n",
       "      <td>5.203</td>\n",
       "      <td>4.318</td>\n",
       "      <td>6.266</td>\n",
       "      <td>4.726</td>\n",
       "      <td>5.051</td>\n",
       "      <td>5.970</td>\n",
       "      <td>11.970</td>\n",
       "      <td>10.971</td>\n",
       "      <td>14.294</td>\n",
       "      <td>Total US xAOCABRASIVE</td>\n",
       "    </tr>\n",
       "  </tbody>\n",
       "</table>\n",
       "<p>3 rows × 40 columns</p>\n",
       "</div>"
      ],
      "text/plain": [
       "  Markets ShareBasis Category Manufacturer Franchise Brand SubBrand  Products  \\\n",
       "0  US AOC   ABRASIVE      HHC                                        ABRASIVE   \n",
       "1  US AOC   ABRASIVE      HHC                                        ABRASIVE   \n",
       "2  US AOC   ABRASIVE      HHC                                        ABRASIVE   \n",
       "\n",
       "                  Facts  FY 2020  ...  5 W/E 10/03/2020  4 W/E 08/29/2020  \\\n",
       "0         % $ Any Promo    6.852  ...             5.684             5.237   \n",
       "1  % $ Any Promo Chg YA   -3.033  ...            -1.867            -3.987   \n",
       "2        % EQ Any Promo    7.001  ...             5.203             4.318   \n",
       "\n",
       "   4 W/E 08/01/2020  5 W/E 07/04/2020  4 W/E 05/30/2020  4 W/E 05/02/2020  \\\n",
       "0             5.397             4.521             5.375             6.757   \n",
       "1            -1.106            -5.830            -5.742            -4.454   \n",
       "2             6.266             4.726             5.051             5.970   \n",
       "\n",
       "   5 W/E 04/04/2020  4 W/E 02/29/2020  4 W/E 02/01/2020                    Key  \n",
       "0            11.126             8.262            11.107  Total US xAOCABRASIVE  \n",
       "1            -2.334            -0.137             2.827  Total US xAOCABRASIVE  \n",
       "2            11.970            10.971            14.294  Total US xAOCABRASIVE  \n",
       "\n",
       "[3 rows x 40 columns]"
      ]
     },
     "execution_count": 52,
     "metadata": {},
     "output_type": "execute_result"
    }
   ],
   "source": [
    "Data_5p.head(3)"
   ]
  },
  {
   "cell_type": "markdown",
   "metadata": {},
   "source": [
    "**Performance Summary Fact, Markets & Time Period Mapping**"
   ]
  },
  {
   "cell_type": "code",
   "execution_count": 53,
   "metadata": {},
   "outputs": [
    {
     "name": "stdout",
     "output_type": "stream",
     "text": [
      "['4 W/E 02/27/2021', 'Latest 13 Weeks', 'Latest 26 Weeks', 'YTD 2021', 'FY 2020']\n"
     ]
    }
   ],
   "source": [
    "Perf_Summ_Facts=[\"$ Shr - CP CATEGORY\",\"$ Shr Chg YA - CP CATEGORY\",\"Base $ Shr - CP CATEGORY\",\n",
    "                 \"Base $ Shr Chg YA - CP CATEGORY\",\"Incr $ Shr - CP CATEGORY\",\"Incr $ Shr Chg YA - CP CATEGORY\",\n",
    "                 \"$\",\"$ % Chg YA\",\"%ACV\",\"%ACV Chg YA\",\"TDP\",\"TDP Chg YA\",\"Avg EQ Price\",\"Avg EQ Price Chg YA\",\n",
    "                 \"Base EQ Price\",\"Base EQ Price Chg YA\",\"Any Promo EQ Price\",\"Any Promo EQ Price Chg YA\",\n",
    "                 \"% EQ Any Promo\",\"% EQ Any Promo Chg YA\",\"Feat or Disp %ACV\",\"Feat or Disp %ACV Chg YA\",\n",
    "                 \"Price Decr Only %ACV\",\"Price Decr Only %ACV Chg YA\"]\n",
    "\n",
    "# Perf_Summ_Markets=[\"Ahold\",\"Alb/Sfy\",\"BJs\",\"CVS\",\"Dollar General\",\"Family Dollar\",\"Meijer\",\"Publix\",\"Rite Aid\",\"Sams\",\"Shoprite\",\"Target\",\"US AOC\",\"US Drug\",\"US Food\",\"Walgreens\",\"Walmart\"]\n",
    "\n",
    "Perf_Summ_Time_Period=list(Data_5p.columns[25:26])+list(Data_5p.columns[15:17])+list(Data_5p.columns[13:14])+list(Data_5p.columns[9:10])\n",
    "print(Perf_Summ_Time_Period)"
   ]
  },
  {
   "cell_type": "code",
   "execution_count": 54,
   "metadata": {},
   "outputs": [],
   "source": [
    "Perf_Summ_Fact_Mapping={\n",
    "    \"$ Shr - CP CATEGORY\":\"Doll_Shr\",\n",
    "    \"$ Shr Chg YA - CP CATEGORY\":\"Doll_Shr_Chg\",\n",
    "    \"Base $ Shr - CP CATEGORY\":\"Base_Doll_Shr\",\n",
    "    \"Base $ Shr Chg YA - CP CATEGORY\":\"Base_Doll_Shr_Chg\",\n",
    "    \"Incr $ Shr - CP CATEGORY\":\"Incr_Doll_Shr\",\n",
    "    \"Incr $ Shr Chg YA - CP CATEGORY\":\"Incr_Doll_Shr_Chg\",\n",
    "    \"$\":\"Dollars\",\n",
    "    \"$ % Chg YA\":\"Dollars_Chg\",\n",
    "    \"%ACV\":\"Store_Selling\",\n",
    "    \"%ACV Chg YA\":\"Store_Selling_Chg\",\n",
    "    \"TDP\":\"Cum_Distri_Pts\",\n",
    "    \"TDP Chg YA\":\"Cum_Distri_Pts_Chg\",\n",
    "    \"Avg EQ Price\":\"CC_RASP\",\n",
    "    \"Avg EQ Price Chg YA\":\"CC_RASP_Chg\",\n",
    "    \"Base EQ Price\":\"CC_Base_RASP\",\n",
    "    \"Base EQ Price Chg YA\":\"CC_Base_RASP_Chg\",\n",
    "    \"Any Promo EQ Price\":\"CC_Promo_RASP\",\n",
    "    \"Any Promo EQ Price Chg YA\":\"CC_Promo_RASP_Chg\",\n",
    "    \"% EQ Any Promo\":\"Prcnt_EQUnits_Any_Promo\",\n",
    "    \"% EQ Any Promo Chg YA\":\"Prcnt_EQUnits_Any_Promo_Chg\",\n",
    "    \"Feat or Disp %ACV\":\"QS_ACV_cum\",\n",
    "    \"Feat or Disp %ACV Chg YA\":\"QS_ACV_Chg_cum\",\n",
    "    \"Price Decr Only %ACV\":\"Prcnt_ACV_TPR_cum\",\n",
    "    \"Price Decr Only %ACV Chg YA\":\"Prcnt_ACV_TPR_Chg_cum\"\n",
    "\n",
    "}"
   ]
  },
  {
   "cell_type": "markdown",
   "metadata": {},
   "source": [
    "**Performance Trend Fact, Markets & Time Period Mapping**"
   ]
  },
  {
   "cell_type": "code",
   "execution_count": 55,
   "metadata": {},
   "outputs": [
    {
     "name": "stdout",
     "output_type": "stream",
     "text": [
      "['4 W/E 02/29/2020', '5 W/E 04/04/2020', '4 W/E 05/02/2020', '4 W/E 05/30/2020', '5 W/E 07/04/2020', '4 W/E 08/01/2020', '4 W/E 08/29/2020', '5 W/E 10/03/2020', '4 W/E 10/31/2020', '4 W/E 11/28/2020', '5 W/E 01/02/2021', '4 W/E 01/30/2021', '4 W/E 02/27/2021', 'YTD 2021', 'YTD 2020', 'FY 2020', 'FY 2019']\n"
     ]
    }
   ],
   "source": [
    "Perf_Trend_Facts=[\"$ Shr - CP CATEGORY\",\"Base $ Shr - CP CATEGORY\",\"Incr $ Shr - CP CATEGORY\",\"$\",\"Base $\",\"Incr $\",\n",
    "                  \"EQ Shr - CP CATEGORY\",\"Base EQ Shr - CP CATEGORY\",\"Incr EQ Shr - CP CATEGORY\",\"EQ\",\"Base EQ\",\"Incr EQ\"]\n",
    "\n",
    "# Perf_Trend_Markets=[\"Ahold\",\"Alb/Sfy\",\"BJs\",\"CVS\",\"Dollar General\",\"Family Dollar\",\"Meijer\",\"Publix\",\"Rite Aid\",\"Sams\",\"Shoprite\",\"Target\",\"US AOC\",\"US Drug\",\"US Food\",\"Walgreens\",\"Walmart\"]\n",
    "\n",
    "Perf_Trend_Time_Period=Column=list(Data_5p.columns[25:38])[::-1]+list(Data_5p.columns[13:15])+list(Data_5p.columns[9:11])\n",
    "print(Perf_Trend_Time_Period)"
   ]
  },
  {
   "cell_type": "code",
   "execution_count": 56,
   "metadata": {},
   "outputs": [],
   "source": [
    "Perf_Trend_Fact_Mapping={\n",
    "    \"$ Shr - CP CATEGORY\":\"Doll_Shr\",\n",
    "    \"Base $ Shr - CP CATEGORY\":\"Base_Doll_Shr\",\n",
    "    \"Incr $ Shr - CP CATEGORY\":\"Incr_Doll_Shr\",\n",
    "    \"$\":\"Dollars\",\n",
    "    \"Base $\":\"Base_Dollars\",\n",
    "    \"Incr $\":\"Incr_Dollars\",\n",
    "    \"EQ Shr - CP CATEGORY\":\"EQ_Shr\",\n",
    "    \"Base EQ Shr - CP CATEGORY\":\"Base_EQ_Shr\",\n",
    "    \"Incr EQ Shr - CP CATEGORY\":\"Incr_EQ_Shr\",\n",
    "    \"EQ\":\"EQ_Units\",\n",
    "    \"Base EQ\":\"Base_EQ_Units\",\n",
    "    \"Incr EQ\":\"INcr_EQ_Units\"\n",
    "\n",
    "}"
   ]
  },
  {
   "cell_type": "code",
   "execution_count": null,
   "metadata": {},
   "outputs": [],
   "source": []
  },
  {
   "cell_type": "markdown",
   "metadata": {},
   "source": [
    "## TOOTHPASTE"
   ]
  },
  {
   "cell_type": "code",
   "execution_count": null,
   "metadata": {},
   "outputs": [],
   "source": [
    "# path to store Output files\n",
    "\n",
    "path_TP=\"//falmumapp34/Nielsen Connect Transition & Maintenance (20-SCP-3650)/05. Output Data/5P Output/TP/\""
   ]
  },
  {
   "cell_type": "code",
   "execution_count": null,
   "metadata": {},
   "outputs": [],
   "source": [
    "Data_5p_TP=Data_5p.copy()"
   ]
  },
  {
   "cell_type": "markdown",
   "metadata": {},
   "source": [
    "**Filtering TP Data**"
   ]
  },
  {
   "cell_type": "code",
   "execution_count": null,
   "metadata": {},
   "outputs": [],
   "source": [
    "Data_5p_TP=Data_5p_TP.loc[Data_5p_TP[\"ShareBasis\"]==\"TOOTHPASTE\"]"
   ]
  },
  {
   "cell_type": "markdown",
   "metadata": {},
   "source": [
    "## Performance Data"
   ]
  },
  {
   "cell_type": "markdown",
   "metadata": {},
   "source": [
    "### **Summary**"
   ]
  },
  {
   "cell_type": "code",
   "execution_count": null,
   "metadata": {},
   "outputs": [],
   "source": [
    "Perf_Markets=[\"Alb/Sfy\",\"Ahold\",\"BJs\",\"CVS\",\"Dollar General\",\"Family Dollar\",\"Meijer\",\"Publix\",\n",
    "              \"Rite Aid\",\"Sams\",\"Shoprite\",\"Target\",\"US AOC\",\"US Drug\",\"US Food\",\"Walgreens\",\"Walmart\"]"
   ]
  },
  {
   "cell_type": "code",
   "execution_count": null,
   "metadata": {},
   "outputs": [],
   "source": [
    "TP_Perf_Summary= Data_5p_TP[Data_5p_TP[\"Facts\"].isin(Perf_Summ_Facts)]\n",
    "TP_Perf_Summary= TP_Perf_Summary[TP_Perf_Summary[\"Markets\"].isin(Perf_Markets)]"
   ]
  },
  {
   "cell_type": "code",
   "execution_count": null,
   "metadata": {},
   "outputs": [],
   "source": [
    "print(len(Perf_Markets),len(set(TP_Perf_Summary[\"Markets\"])))"
   ]
  },
  {
   "cell_type": "markdown",
   "metadata": {},
   "source": [
    "**Fact Mapping**"
   ]
  },
  {
   "cell_type": "code",
   "execution_count": null,
   "metadata": {},
   "outputs": [],
   "source": [
    "TP_Perf_Summary[\"Facts\"].replace(Perf_Summ_Fact_Mapping,inplace=True)"
   ]
  },
  {
   "cell_type": "markdown",
   "metadata": {},
   "source": [
    "**Column name Change**"
   ]
  },
  {
   "cell_type": "code",
   "execution_count": null,
   "metadata": {},
   "outputs": [],
   "source": [
    "TP_Perf_Summary.rename(columns={\"Markets\":\"MKT\",\"Products\":\"PROD\",\"Manufacturer\":\"CP_MANUFACTURER\",\n",
    "                                \"Franchise\":\"CP_FRANCHISE\",\"Brand\":\"CP_BRAND\",\"SubBrand\":\"CP_SUBBRAND\"},inplace=True)"
   ]
  },
  {
   "cell_type": "code",
   "execution_count": null,
   "metadata": {},
   "outputs": [],
   "source": [
    "TP_Perf_Summary.head()"
   ]
  },
  {
   "cell_type": "code",
   "execution_count": null,
   "metadata": {
    "scrolled": true
   },
   "outputs": [],
   "source": [
    "Time_Period=Perf_Summ_Time_Period\n",
    "print(Time_Period)"
   ]
  },
  {
   "cell_type": "markdown",
   "metadata": {},
   "source": [
    "**Moving Time Period to Rows and Facts to Columns**"
   ]
  },
  {
   "cell_type": "code",
   "execution_count": null,
   "metadata": {},
   "outputs": [],
   "source": [
    "df1=pd.melt(TP_Perf_Summary, id_vars =[\"MKT\",\"PROD\",\"CP_MANUFACTURER\",\"CP_FRANCHISE\",\"CP_BRAND\",\"CP_SUBBRAND\",\"Facts\"], value_vars =Time_Period,var_name=\"Time_Period\")\n",
    "\n",
    "df1[\"value\"]=df1[\"value\"].apply(pd.to_numeric)"
   ]
  },
  {
   "cell_type": "code",
   "execution_count": null,
   "metadata": {},
   "outputs": [],
   "source": [
    "df2=df1.pivot_table(index=['MKT','PROD', 'CP_MANUFACTURER', 'CP_FRANCHISE', 'CP_BRAND','CP_SUBBRAND','Time_Period'],columns='Facts')\n",
    "\n",
    "df2.columns=df2.columns.droplevel().rename(None)\n",
    "df2.reset_index(inplace =True)"
   ]
  },
  {
   "cell_type": "code",
   "execution_count": null,
   "metadata": {},
   "outputs": [],
   "source": [
    "from pandas.api.types import CategoricalDtype\n",
    "\n",
    "Time_Period_order = CategoricalDtype(\n",
    "    Time_Period, \n",
    "    ordered=True\n",
    ")\n",
    "\n",
    "df2['Time_Period'] = df2['Time_Period'].astype(Time_Period_order)\n",
    "\n",
    "df2.sort_values(['MKT','PROD','Time_Period'],inplace=True)"
   ]
  },
  {
   "cell_type": "code",
   "execution_count": null,
   "metadata": {},
   "outputs": [],
   "source": [
    "df2.head()"
   ]
  },
  {
   "cell_type": "code",
   "execution_count": null,
   "metadata": {},
   "outputs": [],
   "source": [
    "final_column_sorting=['MKT', 'PROD', 'CP_MANUFACTURER', 'CP_FRANCHISE', 'CP_BRAND','CP_SUBBRAND', 'Time_Period',\n",
    "                      \"Doll_Shr\",\"Doll_Shr_Chg\",\"Base_Doll_Shr\",\"Base_Doll_Shr_Chg\",\"Incr_Doll_Shr\",\"Incr_Doll_Shr_Chg\",\n",
    "                      \"Dollars\",\"Dollars_Chg\",\"Store_Selling\",\"Store_Selling_Chg\",\"Cum_Distri_Pts\",\"Cum_Distri_Pts_Chg\",\n",
    "                      \"CC_RASP\",\"CC_RASP_Chg\",\"CC_Base_RASP\",\"CC_Base_RASP_Chg\",\"CC_Promo_RASP\",\"CC_Promo_RASP_Chg\",\n",
    "                      \"Prcnt_EQUnits_Any_Promo\",\"Prcnt_EQUnits_Any_Promo_Chg\",\"QS_ACV_cum\",\"QS_ACV_Chg_cum\",\"Prcnt_ACV_TPR_cum\",\n",
    "                      \"Prcnt_ACV_TPR_Chg_cum\"\n",
    "                      ]\n",
    "TP_Perf_Summary_final=df2[final_column_sorting]"
   ]
  },
  {
   "cell_type": "code",
   "execution_count": null,
   "metadata": {
    "scrolled": true
   },
   "outputs": [],
   "source": [
    "TP_Perf_Summary_final.head()"
   ]
  },
  {
   "cell_type": "code",
   "execution_count": null,
   "metadata": {},
   "outputs": [],
   "source": [
    "set(TP_Perf_Summary_final[\"MKT\"])"
   ]
  },
  {
   "cell_type": "markdown",
   "metadata": {},
   "source": [
    "### **MSR_Cat_Summary**"
   ]
  },
  {
   "cell_type": "code",
   "execution_count": null,
   "metadata": {},
   "outputs": [],
   "source": [
    "MSR_Cat_Summary=TP_Perf_Summary_final.loc[(TP_Perf_Summary_final[\"CP_SUBBRAND\"]==\"\") & (TP_Perf_Summary_final[\"CP_BRAND\"]==\"\")&(TP_Perf_Summary_final[\"CP_FRANCHISE\"]==\"\")&(TP_Perf_Summary_final[\"CP_MANUFACTURER\"]==\"\")]"
   ]
  },
  {
   "cell_type": "code",
   "execution_count": null,
   "metadata": {},
   "outputs": [],
   "source": [
    "length= len(MSR_Cat_Summary)\n",
    "MSR_Cat_Summary[\"Record_ID\"]=range(1,length+1)"
   ]
  },
  {
   "cell_type": "code",
   "execution_count": null,
   "metadata": {},
   "outputs": [],
   "source": [
    "#saving into csv file\n",
    "MSR_Cat_Summary.to_csv(path_TP+\"MSR_Cat_Summary.csv\",index=False)"
   ]
  },
  {
   "cell_type": "markdown",
   "metadata": {},
   "source": [
    "### **MSR_Manu_Summary**"
   ]
  },
  {
   "cell_type": "code",
   "execution_count": null,
   "metadata": {},
   "outputs": [],
   "source": [
    "MSR_Manu_Summary=TP_Perf_Summary_final.loc[(TP_Perf_Summary_final[\"CP_SUBBRAND\"]==\"\") & (TP_Perf_Summary_final[\"CP_BRAND\"]==\"\")&(TP_Perf_Summary_final[\"CP_FRANCHISE\"]==\"\")&(TP_Perf_Summary_final[\"CP_MANUFACTURER\"]!=\"\")]"
   ]
  },
  {
   "cell_type": "code",
   "execution_count": null,
   "metadata": {},
   "outputs": [],
   "source": [
    "length= len(MSR_Manu_Summary)\n",
    "MSR_Manu_Summary[\"Record_ID\"]=range(1,length+1)"
   ]
  },
  {
   "cell_type": "code",
   "execution_count": null,
   "metadata": {},
   "outputs": [],
   "source": [
    "#saving into csv file\n",
    "MSR_Manu_Summary.to_csv(path_TP+\"MSR_Manu_Summary.csv\",index=False)"
   ]
  },
  {
   "cell_type": "markdown",
   "metadata": {},
   "source": [
    "### **MSR_Fran_Summary**"
   ]
  },
  {
   "cell_type": "code",
   "execution_count": null,
   "metadata": {},
   "outputs": [],
   "source": [
    "MSR_Fran_Summary=TP_Perf_Summary_final.loc[(TP_Perf_Summary_final[\"CP_SUBBRAND\"]==\"\") & (TP_Perf_Summary_final[\"CP_BRAND\"]==\"\")&(TP_Perf_Summary_final[\"CP_FRANCHISE\"]!=\"\")]"
   ]
  },
  {
   "cell_type": "code",
   "execution_count": null,
   "metadata": {},
   "outputs": [],
   "source": [
    "length= len(MSR_Fran_Summary)\n",
    "MSR_Fran_Summary[\"Record_ID\"]=range(1,length+1)"
   ]
  },
  {
   "cell_type": "code",
   "execution_count": null,
   "metadata": {},
   "outputs": [],
   "source": [
    "#saving into csv file\n",
    "MSR_Fran_Summary.to_csv(path_TP+\"MSR_Fran_Summary.csv\",index=False)"
   ]
  },
  {
   "cell_type": "markdown",
   "metadata": {},
   "source": [
    "### **MSR_Brand_Summary**"
   ]
  },
  {
   "cell_type": "code",
   "execution_count": null,
   "metadata": {},
   "outputs": [],
   "source": [
    "MSR_Brand_Summary=TP_Perf_Summary_final.loc[(TP_Perf_Summary_final[\"CP_SUBBRAND\"]==\"\") & (TP_Perf_Summary_final[\"CP_BRAND\"]!=\"\")]"
   ]
  },
  {
   "cell_type": "code",
   "execution_count": null,
   "metadata": {},
   "outputs": [],
   "source": [
    "length= len(MSR_Brand_Summary)\n",
    "MSR_Brand_Summary[\"Record_ID\"]=range(1,length+1)"
   ]
  },
  {
   "cell_type": "code",
   "execution_count": null,
   "metadata": {},
   "outputs": [],
   "source": [
    "#saving into csv file\n",
    "MSR_Brand_Summary.to_csv(path_TP+\"MSR_Brand_Summary.csv\",index=False)"
   ]
  },
  {
   "cell_type": "markdown",
   "metadata": {},
   "source": [
    "### **MSR_SubBrand_Summary**"
   ]
  },
  {
   "cell_type": "code",
   "execution_count": null,
   "metadata": {},
   "outputs": [],
   "source": [
    "MSR_SubBrand_Summary=TP_Perf_Summary_final.loc[(TP_Perf_Summary_final[\"CP_SUBBRAND\"]!=\"\")]"
   ]
  },
  {
   "cell_type": "code",
   "execution_count": null,
   "metadata": {},
   "outputs": [],
   "source": [
    "length= len(MSR_SubBrand_Summary)\n",
    "MSR_SubBrand_Summary[\"Record_ID\"]=range(1,length+1)"
   ]
  },
  {
   "cell_type": "code",
   "execution_count": null,
   "metadata": {},
   "outputs": [],
   "source": [
    "#saving into csv file\n",
    "MSR_SubBrand_Summary.to_csv(path_TP+\"MSR_SubBrand_Summary.csv\",index=False)"
   ]
  },
  {
   "cell_type": "markdown",
   "metadata": {},
   "source": [
    " "
   ]
  },
  {
   "cell_type": "markdown",
   "metadata": {},
   "source": [
    "### **Trends**"
   ]
  },
  {
   "cell_type": "markdown",
   "metadata": {},
   "source": [
    "**Fact and Market Selection**"
   ]
  },
  {
   "cell_type": "code",
   "execution_count": null,
   "metadata": {},
   "outputs": [],
   "source": [
    "Perf_Markets=[\"Alb/Sfy\",\"Ahold\",\"BJs\",\"CVS\",\"Dollar General\",\"Family Dollar\",\"Meijer\",\"Publix\",\n",
    "              \"Rite Aid\",\"Sams\",\"Shoprite\",\"Target\",\"US AOC\",\"US Drug\",\"US Food\",\"Walgreens\",\"Walmart\"]"
   ]
  },
  {
   "cell_type": "code",
   "execution_count": null,
   "metadata": {},
   "outputs": [],
   "source": [
    "TP_Perf_Trends= Data_5p_TP[Data_5p_TP[\"Facts\"].isin(Perf_Trend_Facts)]\n",
    "TP_Perf_Trends= TP_Perf_Trends[TP_Perf_Trends[\"Markets\"].isin(Perf_Markets)]"
   ]
  },
  {
   "cell_type": "code",
   "execution_count": null,
   "metadata": {},
   "outputs": [],
   "source": [
    "print(len(Perf_Markets),len(set(TP_Perf_Trends[\"Markets\"])))"
   ]
  },
  {
   "cell_type": "markdown",
   "metadata": {},
   "source": [
    "**Fact Mapping**"
   ]
  },
  {
   "cell_type": "code",
   "execution_count": null,
   "metadata": {},
   "outputs": [],
   "source": [
    "TP_Perf_Trends[\"Facts\"].replace(Perf_Trend_Fact_Mapping,inplace=True)"
   ]
  },
  {
   "cell_type": "markdown",
   "metadata": {},
   "source": [
    "**Column name Change**"
   ]
  },
  {
   "cell_type": "code",
   "execution_count": null,
   "metadata": {},
   "outputs": [],
   "source": [
    "TP_Perf_Trends.rename(columns={\"Markets\":\"MKT\",\"Products\":\"PROD\",\"Manufacturer\":\"CP_MANUFACTURER\",\n",
    "                                \"Franchise\":\"CP_FRANCHISE\",\"Brand\":\"CP_BRAND\",\"SubBrand\":\"CP_SUBBRAND\"},inplace=True)"
   ]
  },
  {
   "cell_type": "code",
   "execution_count": null,
   "metadata": {},
   "outputs": [],
   "source": [
    "TP_Perf_Trends.head()"
   ]
  },
  {
   "cell_type": "code",
   "execution_count": null,
   "metadata": {
    "scrolled": true
   },
   "outputs": [],
   "source": [
    "Time_Period=Perf_Trend_Time_Period\n",
    "print(Time_Period)"
   ]
  },
  {
   "cell_type": "markdown",
   "metadata": {},
   "source": [
    "**Moving Time Period to Rows and Facts to Columns**"
   ]
  },
  {
   "cell_type": "code",
   "execution_count": null,
   "metadata": {},
   "outputs": [],
   "source": [
    "df1=pd.melt(TP_Perf_Trends, id_vars =[\"MKT\",\"PROD\",\"CP_MANUFACTURER\",\"CP_FRANCHISE\",\"CP_BRAND\",\"CP_SUBBRAND\",\"Facts\"], value_vars =Time_Period,var_name=\"Time_Period\")\n",
    "\n",
    "df1[\"value\"]=df1[\"value\"].apply(pd.to_numeric)"
   ]
  },
  {
   "cell_type": "code",
   "execution_count": null,
   "metadata": {},
   "outputs": [],
   "source": [
    "df2=df1.pivot_table(index=['MKT','PROD', 'CP_MANUFACTURER', 'CP_FRANCHISE', 'CP_BRAND','CP_SUBBRAND','Time_Period'],columns='Facts')\n",
    "\n",
    "df2.columns=df2.columns.droplevel().rename(None)\n",
    "df2.reset_index(inplace =True)"
   ]
  },
  {
   "cell_type": "code",
   "execution_count": null,
   "metadata": {},
   "outputs": [],
   "source": [
    "from pandas.api.types import CategoricalDtype\n",
    "\n",
    "Time_Period_order = CategoricalDtype(\n",
    "    Time_Period, \n",
    "    ordered=True\n",
    ")\n",
    "\n",
    "df2['Time_Period'] = df2['Time_Period'].astype(Time_Period_order)\n",
    "\n",
    "df2.sort_values(['MKT','PROD','Time_Period'],inplace=True)"
   ]
  },
  {
   "cell_type": "code",
   "execution_count": null,
   "metadata": {
    "scrolled": true
   },
   "outputs": [],
   "source": [
    "df2.head()"
   ]
  },
  {
   "cell_type": "code",
   "execution_count": null,
   "metadata": {},
   "outputs": [],
   "source": [
    "df2[['PRODUCT_CODE', 'CP_CATEGORY', 'CP_SEGMENT']]=\"\"\n",
    "\n",
    "final_column_sorting=[\"MKT\",\"PROD\",\"PRODUCT_CODE\",\"CP_CATEGORY\",\"CP_SEGMENT\",\"CP_MANUFACTURER\",\"CP_FRANCHISE\",\n",
    "                        \"CP_BRAND\",\"CP_SUBBRAND\",\"Time_Period\",\n",
    "                        \"Doll_Shr\",\"Base_Doll_Shr\",\"Incr_Doll_Shr\",\"Dollars\",\"Base_Dollars\",\"Incr_Dollars\",\"EQ_Shr\",\n",
    "                        \"Base_EQ_Shr\",\"Incr_EQ_Shr\",\"EQ_Units\",\"Base_EQ_Units\",\"INcr_EQ_Units\"\n",
    "                      ]\n",
    "TP_Perf_Trends_final=df2[final_column_sorting]"
   ]
  },
  {
   "cell_type": "code",
   "execution_count": null,
   "metadata": {},
   "outputs": [],
   "source": [
    "TP_Perf_Trends_final.head()"
   ]
  },
  {
   "cell_type": "markdown",
   "metadata": {},
   "source": [
    "### **MSR_Manu_Trends**"
   ]
  },
  {
   "cell_type": "code",
   "execution_count": null,
   "metadata": {},
   "outputs": [],
   "source": [
    "MSR_Manu_Trends=TP_Perf_Trends_final.loc[(TP_Perf_Trends_final[\"CP_SUBBRAND\"]==\"\") & (TP_Perf_Trends_final[\"CP_BRAND\"]==\"\")&(TP_Perf_Trends_final[\"CP_FRANCHISE\"]==\"\")&(TP_Perf_Trends_final[\"CP_MANUFACTURER\"]!=\"\")]"
   ]
  },
  {
   "cell_type": "code",
   "execution_count": null,
   "metadata": {},
   "outputs": [],
   "source": [
    "length= len(MSR_Manu_Trends)\n",
    "MSR_Manu_Trends[\"Record_ID\"]=range(1,length+1)"
   ]
  },
  {
   "cell_type": "code",
   "execution_count": null,
   "metadata": {},
   "outputs": [],
   "source": [
    "#saving into csv file\n",
    "MSR_Manu_Trends.to_csv(path_TP+\"MSR_Manu_Trends.csv\",index=False)"
   ]
  },
  {
   "cell_type": "markdown",
   "metadata": {},
   "source": [
    "### **MSR_Fran_Trends**"
   ]
  },
  {
   "cell_type": "code",
   "execution_count": null,
   "metadata": {},
   "outputs": [],
   "source": [
    "MSR_Fran_Trends=TP_Perf_Trends_final.loc[(TP_Perf_Trends_final[\"CP_SUBBRAND\"]==\"\") & (TP_Perf_Trends_final[\"CP_BRAND\"]==\"\")&(TP_Perf_Trends_final[\"CP_FRANCHISE\"]!=\"\")]"
   ]
  },
  {
   "cell_type": "code",
   "execution_count": null,
   "metadata": {},
   "outputs": [],
   "source": [
    "length= len(MSR_Fran_Trends)\n",
    "MSR_Fran_Trends[\"Record_ID\"]=range(1,length+1)"
   ]
  },
  {
   "cell_type": "code",
   "execution_count": null,
   "metadata": {},
   "outputs": [],
   "source": [
    "#saving into csv file\n",
    "MSR_Fran_Trends.to_csv(path_TP+\"MSR_Fran_Trends.csv\",index=False)"
   ]
  },
  {
   "cell_type": "markdown",
   "metadata": {},
   "source": [
    "### **MSR_Brand_Trends**"
   ]
  },
  {
   "cell_type": "code",
   "execution_count": null,
   "metadata": {},
   "outputs": [],
   "source": [
    "MSR_Brand_Trends=TP_Perf_Trends_final.loc[(TP_Perf_Trends_final[\"CP_SUBBRAND\"]==\"\") & (TP_Perf_Trends_final[\"CP_BRAND\"]!=\"\")]"
   ]
  },
  {
   "cell_type": "code",
   "execution_count": null,
   "metadata": {},
   "outputs": [],
   "source": [
    "length= len(MSR_Brand_Trends)\n",
    "MSR_Brand_Trends[\"Record_ID\"]=range(1,length+1)"
   ]
  },
  {
   "cell_type": "code",
   "execution_count": null,
   "metadata": {},
   "outputs": [],
   "source": [
    "#saving into csv file\n",
    "MSR_Brand_Trends.to_csv(path_TP+\"MSR_Brand_Trends.csv\",index=False)"
   ]
  },
  {
   "cell_type": "markdown",
   "metadata": {},
   "source": [
    "### **MSR_SubBrand_Trends**"
   ]
  },
  {
   "cell_type": "code",
   "execution_count": null,
   "metadata": {},
   "outputs": [],
   "source": [
    "MSR_SubBrand_Trends=TP_Perf_Trends_final.loc[(TP_Perf_Trends_final[\"CP_SUBBRAND\"]!=\"\")]"
   ]
  },
  {
   "cell_type": "code",
   "execution_count": null,
   "metadata": {},
   "outputs": [],
   "source": [
    "length= len(MSR_SubBrand_Trends)\n",
    "MSR_SubBrand_Trends[\"Record_ID\"]=range(1,length+1)"
   ]
  },
  {
   "cell_type": "code",
   "execution_count": null,
   "metadata": {},
   "outputs": [],
   "source": [
    "#saving into csv file\n",
    "MSR_SubBrand_Trends.to_csv(path_TP+\"MSR_SubBrand_Trends.csv\",index=False)"
   ]
  },
  {
   "cell_type": "code",
   "execution_count": null,
   "metadata": {},
   "outputs": [],
   "source": []
  },
  {
   "cell_type": "code",
   "execution_count": null,
   "metadata": {},
   "outputs": [],
   "source": []
  },
  {
   "cell_type": "code",
   "execution_count": null,
   "metadata": {},
   "outputs": [],
   "source": []
  },
  {
   "cell_type": "markdown",
   "metadata": {},
   "source": [
    "# Mouthwash"
   ]
  },
  {
   "cell_type": "code",
   "execution_count": null,
   "metadata": {},
   "outputs": [],
   "source": [
    "# path to store OuMWut files\n",
    "\n",
    "path_MW=\"//falmumapp34/Nielsen Connect Transition & Maintenance (20-SCP-3650)/05. Output Data/5P Output/MW/\""
   ]
  },
  {
   "cell_type": "code",
   "execution_count": null,
   "metadata": {},
   "outputs": [],
   "source": [
    "Data_5p_MW=Data_5p.copy()"
   ]
  },
  {
   "cell_type": "markdown",
   "metadata": {},
   "source": [
    "**Filtering MW Data**"
   ]
  },
  {
   "cell_type": "code",
   "execution_count": null,
   "metadata": {},
   "outputs": [],
   "source": [
    "Data_5p_MW=Data_5p_MW.loc[Data_5p_MW[\"Category\"]==\"MW\"]"
   ]
  },
  {
   "cell_type": "code",
   "execution_count": null,
   "metadata": {},
   "outputs": [],
   "source": [
    "Data_5p_MW.shape"
   ]
  },
  {
   "cell_type": "markdown",
   "metadata": {},
   "source": [
    "## Performance Data"
   ]
  },
  {
   "cell_type": "markdown",
   "metadata": {},
   "source": [
    "### **Summary**"
   ]
  },
  {
   "cell_type": "code",
   "execution_count": null,
   "metadata": {},
   "outputs": [],
   "source": [
    "Perf_Markets=[\"Ahold\",\"Alb/Sfy\",\"BJs\",\"CVS\",\"Dollar General\",\"Family Dollar\",\"Kmart\",\"Meijer\",\"Publix\",\n",
    "              \"Rite Aid\",\"Sams\",\"Shoprite\",\"Target\",\"US AOC\",\"US Drug\",\"US Food\",\"Walgreens\",\"Walmart\"]"
   ]
  },
  {
   "cell_type": "code",
   "execution_count": null,
   "metadata": {},
   "outputs": [],
   "source": [
    "MW_Perf_Summary= Data_5p_MW[Data_5p_MW[\"Facts\"].isin(Perf_Summ_Facts)]\n",
    "MW_Perf_Summary= MW_Perf_Summary[MW_Perf_Summary[\"Markets\"].isin(Perf_Markets)]"
   ]
  },
  {
   "cell_type": "code",
   "execution_count": null,
   "metadata": {},
   "outputs": [],
   "source": [
    "print(len(Perf_Markets),len(set(MW_Perf_Summary[\"Markets\"])))"
   ]
  },
  {
   "cell_type": "markdown",
   "metadata": {},
   "source": [
    "**Fact Mapping**"
   ]
  },
  {
   "cell_type": "code",
   "execution_count": null,
   "metadata": {},
   "outputs": [],
   "source": [
    "MW_Perf_Summary[\"Facts\"].replace(Perf_Summ_Fact_Mapping,inplace=True)"
   ]
  },
  {
   "cell_type": "code",
   "execution_count": null,
   "metadata": {},
   "outputs": [],
   "source": [
    "MW_Perf_Summary.head()"
   ]
  },
  {
   "cell_type": "markdown",
   "metadata": {},
   "source": [
    "**Column name Change**"
   ]
  },
  {
   "cell_type": "code",
   "execution_count": null,
   "metadata": {},
   "outputs": [],
   "source": [
    "MW_Perf_Summary.rename(columns={\"Markets\":\"MKT\",\"Products\":\"PROD\",\"Manufacturer\":\"CP_MANUFACTURER\",\n",
    "                                \"Franchise\":\"CP_FRANCHISE\",\"Brand\":\"CP_BRAND\",\"SubBrand\":\"CP_SUBBRAND\"},inplace=True)"
   ]
  },
  {
   "cell_type": "code",
   "execution_count": null,
   "metadata": {},
   "outputs": [],
   "source": [
    "MW_Perf_Summary.head()"
   ]
  },
  {
   "cell_type": "code",
   "execution_count": null,
   "metadata": {
    "scrolled": true
   },
   "outputs": [],
   "source": [
    "Time_Period=Perf_Summ_Time_Period\n",
    "print(Time_Period)"
   ]
  },
  {
   "cell_type": "markdown",
   "metadata": {},
   "source": [
    "**Moving Time Period to Rows and Facts to Columns**"
   ]
  },
  {
   "cell_type": "code",
   "execution_count": null,
   "metadata": {},
   "outputs": [],
   "source": [
    "df1=pd.melt(MW_Perf_Summary, id_vars =[\"MKT\",\"PROD\",\"CP_MANUFACTURER\",\"CP_FRANCHISE\",\"CP_BRAND\",\"CP_SUBBRAND\",\"Facts\"], value_vars =Time_Period,var_name=\"Time_Period\")\n",
    "\n",
    "df1[\"value\"]=df1[\"value\"].apply(pd.to_numeric)"
   ]
  },
  {
   "cell_type": "code",
   "execution_count": null,
   "metadata": {},
   "outputs": [],
   "source": [
    "df2=df1.pivot_table(index=['MKT','PROD', 'CP_MANUFACTURER', 'CP_FRANCHISE', 'CP_BRAND','CP_SUBBRAND','Time_Period'],columns='Facts')\n",
    "\n",
    "df2.columns=df2.columns.droplevel().rename(None)\n",
    "df2.reset_index(inplace =True)"
   ]
  },
  {
   "cell_type": "code",
   "execution_count": null,
   "metadata": {},
   "outputs": [],
   "source": [
    "from pandas.api.types import CategoricalDtype\n",
    "\n",
    "Time_Period_order = CategoricalDtype(\n",
    "    Time_Period, \n",
    "    ordered=True\n",
    ")\n",
    "\n",
    "df2['Time_Period'] = df2['Time_Period'].astype(Time_Period_order)\n",
    "\n",
    "df2.sort_values(['MKT','PROD','Time_Period'],inplace=True)"
   ]
  },
  {
   "cell_type": "code",
   "execution_count": null,
   "metadata": {},
   "outputs": [],
   "source": [
    "df2.head()"
   ]
  },
  {
   "cell_type": "code",
   "execution_count": null,
   "metadata": {},
   "outputs": [],
   "source": [
    "final_column_sorting=['MKT', 'PROD', 'CP_MANUFACTURER', 'CP_FRANCHISE', 'CP_BRAND','CP_SUBBRAND', 'Time_Period',\n",
    "                      \"Doll_Shr\",\"Doll_Shr_Chg\",\"Base_Doll_Shr\",\"Base_Doll_Shr_Chg\",\"Incr_Doll_Shr\",\"Incr_Doll_Shr_Chg\",\n",
    "                      \"Dollars\",\"Dollars_Chg\",\"Store_Selling\",\"Store_Selling_Chg\",\"Cum_Distri_Pts\",\"Cum_Distri_Pts_Chg\",\n",
    "                      \"CC_RASP\",\"CC_RASP_Chg\",\"CC_Base_RASP\",\"CC_Base_RASP_Chg\",\"CC_Promo_RASP\",\"CC_Promo_RASP_Chg\",\n",
    "                      \"Prcnt_EQUnits_Any_Promo\",\"Prcnt_EQUnits_Any_Promo_Chg\",\"QS_ACV_cum\",\"QS_ACV_Chg_cum\",\"Prcnt_ACV_TPR_cum\",\n",
    "                      \"Prcnt_ACV_TPR_Chg_cum\"\n",
    "                      ]\n",
    "MW_Perf_Summary_final=df2[final_column_sorting]"
   ]
  },
  {
   "cell_type": "code",
   "execution_count": null,
   "metadata": {},
   "outputs": [],
   "source": [
    "MW_Perf_Summary_final.head()"
   ]
  },
  {
   "cell_type": "markdown",
   "metadata": {},
   "source": [
    "### **MSR_Cat_Summary**"
   ]
  },
  {
   "cell_type": "code",
   "execution_count": null,
   "metadata": {},
   "outputs": [],
   "source": [
    "MSR_Cat_Summary=MW_Perf_Summary_final.loc[(MW_Perf_Summary_final[\"CP_SUBBRAND\"]==\"\") & (MW_Perf_Summary_final[\"CP_BRAND\"]==\"\")&(MW_Perf_Summary_final[\"CP_FRANCHISE\"]==\"\")&(MW_Perf_Summary_final[\"CP_MANUFACTURER\"]==\"\")]"
   ]
  },
  {
   "cell_type": "code",
   "execution_count": null,
   "metadata": {},
   "outputs": [],
   "source": [
    "length= len(MSR_Cat_Summary)\n",
    "MSR_Cat_Summary[\"Record_ID\"]=range(1,length+1)"
   ]
  },
  {
   "cell_type": "code",
   "execution_count": null,
   "metadata": {},
   "outputs": [],
   "source": [
    "#saving into csv file\n",
    "MSR_Cat_Summary.to_csv(path_MW+\"MSR_Cat_Summary.csv\",index=False)"
   ]
  },
  {
   "cell_type": "markdown",
   "metadata": {},
   "source": [
    "### **MSR_Manu_Summary**"
   ]
  },
  {
   "cell_type": "code",
   "execution_count": null,
   "metadata": {},
   "outputs": [],
   "source": [
    "MSR_Manu_Summary=MW_Perf_Summary_final.loc[(MW_Perf_Summary_final[\"CP_SUBBRAND\"]==\"\") & (MW_Perf_Summary_final[\"CP_BRAND\"]==\"\")&(MW_Perf_Summary_final[\"CP_FRANCHISE\"]==\"\")&(MW_Perf_Summary_final[\"CP_MANUFACTURER\"]!=\"\")]"
   ]
  },
  {
   "cell_type": "code",
   "execution_count": null,
   "metadata": {},
   "outputs": [],
   "source": [
    "length= len(MSR_Manu_Summary)\n",
    "MSR_Manu_Summary[\"Record_ID\"]=range(1,length+1)"
   ]
  },
  {
   "cell_type": "code",
   "execution_count": null,
   "metadata": {},
   "outputs": [],
   "source": [
    "#saving into csv file\n",
    "MSR_Manu_Summary.to_csv(path_MW+\"MSR_Manu_Summary.csv\",index=False)"
   ]
  },
  {
   "cell_type": "markdown",
   "metadata": {},
   "source": [
    "### **MSR_Fran_Summary**"
   ]
  },
  {
   "cell_type": "code",
   "execution_count": null,
   "metadata": {},
   "outputs": [],
   "source": [
    "MSR_Fran_Summary=MW_Perf_Summary_final.loc[(MW_Perf_Summary_final[\"CP_SUBBRAND\"]==\"\") & (MW_Perf_Summary_final[\"CP_BRAND\"]==\"\")&(MW_Perf_Summary_final[\"CP_FRANCHISE\"]!=\"\")]"
   ]
  },
  {
   "cell_type": "code",
   "execution_count": null,
   "metadata": {},
   "outputs": [],
   "source": [
    "length= len(MSR_Fran_Summary)\n",
    "MSR_Fran_Summary[\"Record_ID\"]=range(1,length+1)"
   ]
  },
  {
   "cell_type": "code",
   "execution_count": null,
   "metadata": {},
   "outputs": [],
   "source": [
    "#saving into csv file\n",
    "MSR_Fran_Summary.to_csv(path_MW+\"MSR_Fran_Summary.csv\",index=False)"
   ]
  },
  {
   "cell_type": "markdown",
   "metadata": {},
   "source": [
    "### **MSR_Brand_Summary**"
   ]
  },
  {
   "cell_type": "code",
   "execution_count": null,
   "metadata": {},
   "outputs": [],
   "source": [
    "MSR_Brand_Summary=MW_Perf_Summary_final.loc[(MW_Perf_Summary_final[\"CP_SUBBRAND\"]==\"\") & (MW_Perf_Summary_final[\"CP_BRAND\"]!=\"\")]"
   ]
  },
  {
   "cell_type": "code",
   "execution_count": null,
   "metadata": {},
   "outputs": [],
   "source": [
    "length= len(MSR_Brand_Summary)\n",
    "MSR_Brand_Summary[\"Record_ID\"]=range(1,length+1)"
   ]
  },
  {
   "cell_type": "code",
   "execution_count": null,
   "metadata": {},
   "outputs": [],
   "source": [
    "#saving into csv file\n",
    "MSR_Brand_Summary.to_csv(path_MW+\"MSR_Brand_Summary.csv\",index=False)"
   ]
  },
  {
   "cell_type": "markdown",
   "metadata": {},
   "source": [
    "### **MSR_SubBrand_Summary**"
   ]
  },
  {
   "cell_type": "code",
   "execution_count": null,
   "metadata": {},
   "outputs": [],
   "source": [
    "MSR_SubBrand_Summary=MW_Perf_Summary_final.loc[(MW_Perf_Summary_final[\"CP_SUBBRAND\"]!=\"\")]"
   ]
  },
  {
   "cell_type": "code",
   "execution_count": null,
   "metadata": {},
   "outputs": [],
   "source": [
    "length= len(MSR_SubBrand_Summary)\n",
    "MSR_SubBrand_Summary[\"Record_ID\"]=range(1,length+1)"
   ]
  },
  {
   "cell_type": "code",
   "execution_count": null,
   "metadata": {},
   "outputs": [],
   "source": [
    "#saving into csv file\n",
    "MSR_SubBrand_Summary.to_csv(path_MW+\"MSR_SubBrand_Summary.csv\",index=False)"
   ]
  },
  {
   "cell_type": "markdown",
   "metadata": {},
   "source": [
    " "
   ]
  },
  {
   "cell_type": "markdown",
   "metadata": {},
   "source": [
    "### **Trends**"
   ]
  },
  {
   "cell_type": "markdown",
   "metadata": {},
   "source": [
    "**Fact and Market Selection**"
   ]
  },
  {
   "cell_type": "code",
   "execution_count": null,
   "metadata": {},
   "outputs": [],
   "source": [
    "Perf_Markets=[\"Ahold\",\"Alb/Sfy\",\"BJs\",\"CVS\",\"Dollar General\",\"Family Dollar\",\"Kmart\",\"Meijer\",\"Publix\",\n",
    "              \"Rite Aid\",\"Sams\",\"Shoprite\",\"Target\",\"US AOC\",\"US Drug\",\"US Food\",\"Walgreens\",\"Walmart\"]"
   ]
  },
  {
   "cell_type": "code",
   "execution_count": null,
   "metadata": {},
   "outputs": [],
   "source": [
    "MW_Perf_Trends= Data_5p_MW[Data_5p_MW[\"Facts\"].isin(Perf_Trend_Facts)]\n",
    "MW_Perf_Trends= MW_Perf_Trends[MW_Perf_Trends[\"Markets\"].isin(Perf_Markets)]"
   ]
  },
  {
   "cell_type": "code",
   "execution_count": null,
   "metadata": {},
   "outputs": [],
   "source": [
    "print(len(Perf_Markets),len(set(MW_Perf_Trends[\"Markets\"])))"
   ]
  },
  {
   "cell_type": "markdown",
   "metadata": {},
   "source": [
    "**Fact Mapping**"
   ]
  },
  {
   "cell_type": "code",
   "execution_count": null,
   "metadata": {},
   "outputs": [],
   "source": [
    "MW_Perf_Trends[\"Facts\"].replace(Perf_Trend_Fact_Mapping,inplace=True)"
   ]
  },
  {
   "cell_type": "code",
   "execution_count": null,
   "metadata": {},
   "outputs": [],
   "source": [
    "MW_Perf_Trends.shape"
   ]
  },
  {
   "cell_type": "markdown",
   "metadata": {},
   "source": [
    "**Column name Change**"
   ]
  },
  {
   "cell_type": "code",
   "execution_count": null,
   "metadata": {},
   "outputs": [],
   "source": [
    "MW_Perf_Trends.rename(columns={\"Markets\":\"MKT\",\"Products\":\"PROD\",\"Manufacturer\":\"CP_MANUFACTURER\",\n",
    "                                \"Franchise\":\"CP_FRANCHISE\",\"Brand\":\"CP_BRAND\",\"SubBrand\":\"CP_SUBBRAND\"},inplace=True)"
   ]
  },
  {
   "cell_type": "code",
   "execution_count": null,
   "metadata": {},
   "outputs": [],
   "source": [
    "MW_Perf_Trends.head(2)"
   ]
  },
  {
   "cell_type": "code",
   "execution_count": null,
   "metadata": {
    "scrolled": true
   },
   "outputs": [],
   "source": [
    "Time_Period=Perf_Trend_Time_Period\n",
    "print(Time_Period)"
   ]
  },
  {
   "cell_type": "markdown",
   "metadata": {},
   "source": [
    "**Moving Time Period to Rows and Facts to Columns**"
   ]
  },
  {
   "cell_type": "code",
   "execution_count": null,
   "metadata": {},
   "outputs": [],
   "source": [
    "df1=pd.melt(MW_Perf_Trends, id_vars =[\"MKT\",\"PROD\",\"CP_MANUFACTURER\",\"CP_FRANCHISE\",\"CP_BRAND\",\"CP_SUBBRAND\",\"Facts\"], value_vars =Time_Period,var_name=\"Time_Period\")\n",
    "\n",
    "df1[\"value\"]=df1[\"value\"].apply(pd.to_numeric)"
   ]
  },
  {
   "cell_type": "code",
   "execution_count": null,
   "metadata": {},
   "outputs": [],
   "source": [
    "df2=df1.pivot_table(index=['MKT','PROD', 'CP_MANUFACTURER', 'CP_FRANCHISE', 'CP_BRAND','CP_SUBBRAND','Time_Period'],columns='Facts')\n",
    "\n",
    "df2.columns=df2.columns.droplevel().rename(None)\n",
    "df2.reset_index(inplace =True)"
   ]
  },
  {
   "cell_type": "code",
   "execution_count": null,
   "metadata": {},
   "outputs": [],
   "source": [
    "from pandas.api.types import CategoricalDtype\n",
    "\n",
    "Time_Period_order = CategoricalDtype(\n",
    "    Time_Period, \n",
    "    ordered=True\n",
    ")\n",
    "\n",
    "df2['Time_Period'] = df2['Time_Period'].astype(Time_Period_order)\n",
    "\n",
    "df2.sort_values(['MKT','PROD','Time_Period'],inplace=True)"
   ]
  },
  {
   "cell_type": "code",
   "execution_count": null,
   "metadata": {
    "scrolled": false
   },
   "outputs": [],
   "source": [
    "df2.head()"
   ]
  },
  {
   "cell_type": "code",
   "execution_count": null,
   "metadata": {},
   "outputs": [],
   "source": [
    "df2.columns"
   ]
  },
  {
   "cell_type": "code",
   "execution_count": null,
   "metadata": {},
   "outputs": [],
   "source": [
    "df2[['PRODUCT_CODE', 'CP_CATEGORY', 'CP_SEGMENT', 'Record_ID']]=\"\"\n",
    "\n",
    "final_column_sorting=[\"MKT\",\"PROD\",\"PRODUCT_CODE\",\"CP_CATEGORY\",\"CP_SEGMENT\",\"CP_MANUFACTURER\",\"CP_FRANCHISE\",\n",
    "                        \"CP_BRAND\",\"CP_SUBBRAND\",\"Time_Period\",\n",
    "                        \"Doll_Shr\",\"Base_Doll_Shr\",\"Incr_Doll_Shr\",\"Dollars\",\"Base_Dollars\",\"Incr_Dollars\",\"EQ_Shr\",\n",
    "                        \"Base_EQ_Shr\",\"Incr_EQ_Shr\",\"EQ_Units\",\"Base_EQ_Units\",\"INcr_EQ_Units\",\"Record_ID\"\n",
    "                      ]\n",
    "MW_Perf_Trends_final=df2[final_column_sorting]"
   ]
  },
  {
   "cell_type": "code",
   "execution_count": null,
   "metadata": {},
   "outputs": [],
   "source": [
    "MW_Perf_Trends_final.head()"
   ]
  },
  {
   "cell_type": "markdown",
   "metadata": {},
   "source": [
    "### **MSR_Manu_Trends**"
   ]
  },
  {
   "cell_type": "code",
   "execution_count": null,
   "metadata": {},
   "outputs": [],
   "source": [
    "MSR_Manu_Trends=MW_Perf_Trends_final.loc[(MW_Perf_Trends_final[\"CP_SUBBRAND\"]==\"\") & (MW_Perf_Trends_final[\"CP_BRAND\"]==\"\")&(MW_Perf_Trends_final[\"CP_FRANCHISE\"]==\"\")&(MW_Perf_Trends_final[\"CP_MANUFACTURER\"]!=\"\")]"
   ]
  },
  {
   "cell_type": "code",
   "execution_count": null,
   "metadata": {},
   "outputs": [],
   "source": [
    "length= len(MSR_Manu_Trends)\n",
    "MSR_Manu_Trends[\"Record_ID\"]=range(1,length+1)"
   ]
  },
  {
   "cell_type": "code",
   "execution_count": null,
   "metadata": {},
   "outputs": [],
   "source": [
    "MSR_Manu_Trends.head()"
   ]
  },
  {
   "cell_type": "code",
   "execution_count": null,
   "metadata": {},
   "outputs": [],
   "source": [
    "#saving into csv file\n",
    "MSR_Manu_Trends.to_csv(path_MW+\"MSR_Manu_Trends.csv\",index=False)"
   ]
  },
  {
   "cell_type": "markdown",
   "metadata": {},
   "source": [
    "### **MSR_Fran_Trends**"
   ]
  },
  {
   "cell_type": "code",
   "execution_count": null,
   "metadata": {},
   "outputs": [],
   "source": [
    "MSR_Fran_Trends=MW_Perf_Trends_final.loc[(MW_Perf_Trends_final[\"CP_SUBBRAND\"]==\"\") & (MW_Perf_Trends_final[\"CP_BRAND\"]==\"\")&(MW_Perf_Trends_final[\"CP_FRANCHISE\"]!=\"\")]"
   ]
  },
  {
   "cell_type": "code",
   "execution_count": null,
   "metadata": {},
   "outputs": [],
   "source": [
    "length= len(MSR_Fran_Trends)\n",
    "MSR_Fran_Trends[\"Record_ID\"]=range(1,length+1)"
   ]
  },
  {
   "cell_type": "code",
   "execution_count": null,
   "metadata": {},
   "outputs": [],
   "source": [
    "MSR_Fran_Trends.head(3)"
   ]
  },
  {
   "cell_type": "code",
   "execution_count": null,
   "metadata": {},
   "outputs": [],
   "source": [
    "#saving into csv file\n",
    "MSR_Fran_Trends.to_csv(path_MW+\"MSR_Fran_Trends.csv\",index=False)"
   ]
  },
  {
   "cell_type": "markdown",
   "metadata": {},
   "source": [
    "### **MSR_Brand_Trends**"
   ]
  },
  {
   "cell_type": "code",
   "execution_count": null,
   "metadata": {},
   "outputs": [],
   "source": [
    "MSR_Brand_Trends=MW_Perf_Trends_final.loc[(MW_Perf_Trends_final[\"CP_SUBBRAND\"]==\"\") & (MW_Perf_Trends_final[\"CP_BRAND\"]!=\"\")]"
   ]
  },
  {
   "cell_type": "code",
   "execution_count": null,
   "metadata": {},
   "outputs": [],
   "source": [
    "length= len(MSR_Brand_Trends)\n",
    "MSR_Brand_Trends[\"Record_ID\"]=range(1,length+1)"
   ]
  },
  {
   "cell_type": "code",
   "execution_count": null,
   "metadata": {},
   "outputs": [],
   "source": [
    "MSR_Brand_Trends.head(3)"
   ]
  },
  {
   "cell_type": "code",
   "execution_count": null,
   "metadata": {},
   "outputs": [],
   "source": [
    "#saving into csv file\n",
    "MSR_Brand_Trends.to_csv(path_MW+\"MSR_Brand_Trends.csv\",index=False)"
   ]
  },
  {
   "cell_type": "markdown",
   "metadata": {},
   "source": [
    "### **MSR_SubBrand_Trends**"
   ]
  },
  {
   "cell_type": "code",
   "execution_count": null,
   "metadata": {},
   "outputs": [],
   "source": [
    "MSR_SubBrand_Trends=MW_Perf_Trends_final.loc[(MW_Perf_Trends_final[\"CP_SUBBRAND\"]!=\"\")]"
   ]
  },
  {
   "cell_type": "code",
   "execution_count": null,
   "metadata": {},
   "outputs": [],
   "source": [
    "length= len(MSR_SubBrand_Trends)\n",
    "MSR_SubBrand_Trends[\"Record_ID\"]=range(1,length+1)"
   ]
  },
  {
   "cell_type": "code",
   "execution_count": null,
   "metadata": {},
   "outputs": [],
   "source": [
    "MSR_SubBrand_Trends.head(3)"
   ]
  },
  {
   "cell_type": "code",
   "execution_count": null,
   "metadata": {},
   "outputs": [],
   "source": [
    "#saving into csv file\n",
    "MSR_SubBrand_Trends.to_csv(path_MW+\"MSR_SubBrand_Trends.csv\",index=False)"
   ]
  },
  {
   "cell_type": "code",
   "execution_count": null,
   "metadata": {},
   "outputs": [],
   "source": []
  },
  {
   "cell_type": "code",
   "execution_count": null,
   "metadata": {},
   "outputs": [],
   "source": []
  },
  {
   "cell_type": "code",
   "execution_count": null,
   "metadata": {},
   "outputs": [],
   "source": []
  },
  {
   "cell_type": "code",
   "execution_count": null,
   "metadata": {},
   "outputs": [],
   "source": []
  },
  {
   "cell_type": "code",
   "execution_count": null,
   "metadata": {},
   "outputs": [],
   "source": []
  },
  {
   "cell_type": "markdown",
   "metadata": {},
   "source": [
    "# MTB"
   ]
  },
  {
   "cell_type": "code",
   "execution_count": null,
   "metadata": {},
   "outputs": [],
   "source": [
    "# path to store OuMWut files\n",
    "\n",
    "path_MTB=\"//falmumapp34/Nielsen Connect Transition & Maintenance (20-SCP-3650)/05. Output Data/5P Output/MTB/\""
   ]
  },
  {
   "cell_type": "code",
   "execution_count": null,
   "metadata": {},
   "outputs": [],
   "source": [
    "Data_5p_MTB=Data_5p.copy()"
   ]
  },
  {
   "cell_type": "markdown",
   "metadata": {},
   "source": [
    "**Filtering MW Data**"
   ]
  },
  {
   "cell_type": "code",
   "execution_count": null,
   "metadata": {},
   "outputs": [],
   "source": [
    "Data_5p_MTB=Data_5p.loc[Data_5p[\"Category\"]==\"MTB\"]"
   ]
  },
  {
   "cell_type": "markdown",
   "metadata": {},
   "source": [
    "## Performance Data"
   ]
  },
  {
   "cell_type": "markdown",
   "metadata": {},
   "source": [
    "### **Summary**"
   ]
  },
  {
   "cell_type": "code",
   "execution_count": null,
   "metadata": {},
   "outputs": [],
   "source": [
    "Perf_Markets=[\"Ahold\",\"Alb/Sfy\",\"BJs\",\"CVS\",\"Dollar General\",\"Family Dollar\",\"Meijer\",\"Publix\",\"Rite Aid\",\"Sams\",\n",
    "              \"Shoprite\",\"Target\",\"US AOC\",\"US Drug\",\"US Food\",\"Walgreens\",\"Walmart\"]"
   ]
  },
  {
   "cell_type": "code",
   "execution_count": null,
   "metadata": {},
   "outputs": [],
   "source": [
    "MTB_Perf_Summary= Data_5p_MTB[Data_5p_MTB[\"Facts\"].isin(Perf_Summ_Facts)]\n",
    "MTB_Perf_Summary= MTB_Perf_Summary[MTB_Perf_Summary[\"Markets\"].isin(Perf_Markets)]"
   ]
  },
  {
   "cell_type": "code",
   "execution_count": null,
   "metadata": {},
   "outputs": [],
   "source": [
    "print(len(Perf_Markets),len(set(MTB_Perf_Summary[\"Markets\"])))"
   ]
  },
  {
   "cell_type": "markdown",
   "metadata": {},
   "source": [
    "**Fact Mapping**"
   ]
  },
  {
   "cell_type": "code",
   "execution_count": null,
   "metadata": {},
   "outputs": [],
   "source": [
    "MTB_Perf_Summary[\"Facts\"].replace(Perf_Summ_Fact_Mapping,inplace=True)"
   ]
  },
  {
   "cell_type": "code",
   "execution_count": null,
   "metadata": {},
   "outputs": [],
   "source": [
    "MTB_Perf_Summary.head()"
   ]
  },
  {
   "cell_type": "markdown",
   "metadata": {},
   "source": [
    "**Column name Change**"
   ]
  },
  {
   "cell_type": "code",
   "execution_count": null,
   "metadata": {},
   "outputs": [],
   "source": [
    "MTB_Perf_Summary.rename(columns={\"Markets\":\"MKT\",\"Products\":\"PROD\",\"Manufacturer\":\"CP_MANUFACTURER\",\n",
    "                                \"Franchise\":\"CP_FRANCHISE\",\"Brand\":\"CP_BRAND\",\"SubBrand\":\"CP_SUBBRAND\"},inplace=True)"
   ]
  },
  {
   "cell_type": "code",
   "execution_count": null,
   "metadata": {},
   "outputs": [],
   "source": [
    "MTB_Perf_Summary.head()"
   ]
  },
  {
   "cell_type": "code",
   "execution_count": null,
   "metadata": {
    "scrolled": true
   },
   "outputs": [],
   "source": [
    "Time_Period=Perf_Summ_Time_Period\n",
    "print(Time_Period)"
   ]
  },
  {
   "cell_type": "markdown",
   "metadata": {},
   "source": [
    "**Moving Time Period to Rows and Facts to Columns**"
   ]
  },
  {
   "cell_type": "code",
   "execution_count": null,
   "metadata": {},
   "outputs": [],
   "source": [
    "df1=pd.melt(MTB_Perf_Summary, id_vars =[\"MKT\",\"PROD\",\"CP_MANUFACTURER\",\"CP_FRANCHISE\",\"CP_BRAND\",\"CP_SUBBRAND\",\"Facts\"], value_vars =Time_Period,var_name=\"Time_Period\")\n",
    "\n",
    "df1[\"value\"]=df1[\"value\"].apply(pd.to_numeric)"
   ]
  },
  {
   "cell_type": "code",
   "execution_count": null,
   "metadata": {},
   "outputs": [],
   "source": [
    "df2=df1.pivot_table(index=['MKT','PROD', 'CP_MANUFACTURER', 'CP_FRANCHISE', 'CP_BRAND','CP_SUBBRAND','Time_Period'],columns='Facts')\n",
    "\n",
    "df2.columns=df2.columns.droplevel().rename(None)\n",
    "df2.reset_index(inplace =True)"
   ]
  },
  {
   "cell_type": "code",
   "execution_count": null,
   "metadata": {},
   "outputs": [],
   "source": [
    "from pandas.api.types import CategoricalDtype\n",
    "\n",
    "Time_Period_order = CategoricalDtype(\n",
    "    Time_Period, \n",
    "    ordered=True\n",
    ")\n",
    "\n",
    "df2['Time_Period'] = df2['Time_Period'].astype(Time_Period_order)\n",
    "\n",
    "df2.sort_values(['MKT','PROD','Time_Period'],inplace=True)"
   ]
  },
  {
   "cell_type": "code",
   "execution_count": null,
   "metadata": {},
   "outputs": [],
   "source": [
    "df2.head()"
   ]
  },
  {
   "cell_type": "code",
   "execution_count": null,
   "metadata": {},
   "outputs": [],
   "source": [
    "final_column_sorting=['MKT', 'PROD', 'CP_MANUFACTURER', 'CP_FRANCHISE', 'CP_BRAND','CP_SUBBRAND', 'Time_Period',\n",
    "                      \"Doll_Shr\",\"Doll_Shr_Chg\",\"Base_Doll_Shr\",\"Base_Doll_Shr_Chg\",\"Incr_Doll_Shr\",\"Incr_Doll_Shr_Chg\",\n",
    "                      \"Dollars\",\"Dollars_Chg\",\"Store_Selling\",\"Store_Selling_Chg\",\"Cum_Distri_Pts\",\"Cum_Distri_Pts_Chg\",\n",
    "                      \"CC_RASP\",\"CC_RASP_Chg\",\"CC_Base_RASP\",\"CC_Base_RASP_Chg\",\"CC_Promo_RASP\",\"CC_Promo_RASP_Chg\",\n",
    "                      \"Prcnt_EQUnits_Any_Promo\",\"Prcnt_EQUnits_Any_Promo_Chg\",\"QS_ACV_cum\",\"QS_ACV_Chg_cum\",\"Prcnt_ACV_TPR_cum\",\n",
    "                      \"Prcnt_ACV_TPR_Chg_cum\"\n",
    "                      ]\n",
    "MTB_Perf_Summary_final=df2[final_column_sorting]"
   ]
  },
  {
   "cell_type": "code",
   "execution_count": null,
   "metadata": {},
   "outputs": [],
   "source": [
    "MTB_Perf_Summary_final[\"CP_SHARE_BASIS\"]=\"MANUAL\""
   ]
  },
  {
   "cell_type": "code",
   "execution_count": null,
   "metadata": {},
   "outputs": [],
   "source": [
    "MTB_Perf_Summary_final.head()"
   ]
  },
  {
   "cell_type": "markdown",
   "metadata": {},
   "source": [
    "### **MSR_Cat_Summary**"
   ]
  },
  {
   "cell_type": "code",
   "execution_count": null,
   "metadata": {},
   "outputs": [],
   "source": [
    "MSR_Cat_Summary=MTB_Perf_Summary_final.loc[(MTB_Perf_Summary_final[\"CP_SUBBRAND\"]==\"\") & (MTB_Perf_Summary_final[\"CP_BRAND\"]==\"\")&(MTB_Perf_Summary_final[\"CP_FRANCHISE\"]==\"\")&(MTB_Perf_Summary_final[\"CP_MANUFACTURER\"]==\"\")]"
   ]
  },
  {
   "cell_type": "code",
   "execution_count": null,
   "metadata": {},
   "outputs": [],
   "source": [
    "length= len(MSR_Cat_Summary)\n",
    "MSR_Cat_Summary[\"Record_ID\"]=range(1,length+1)"
   ]
  },
  {
   "cell_type": "code",
   "execution_count": null,
   "metadata": {},
   "outputs": [],
   "source": [
    "MSR_Cat_Summary.head(3)"
   ]
  },
  {
   "cell_type": "code",
   "execution_count": null,
   "metadata": {},
   "outputs": [],
   "source": [
    "#saving into csv file\n",
    "MSR_Cat_Summary.to_csv(path_MTB+\"MSR_Cat_Summary.csv\",index=False)"
   ]
  },
  {
   "cell_type": "markdown",
   "metadata": {},
   "source": [
    "### **MSR_Manu_Summary**"
   ]
  },
  {
   "cell_type": "code",
   "execution_count": null,
   "metadata": {},
   "outputs": [],
   "source": [
    "MSR_Manu_Summary=MTB_Perf_Summary_final.loc[(MTB_Perf_Summary_final[\"CP_SUBBRAND\"]==\"\") & (MTB_Perf_Summary_final[\"CP_BRAND\"]==\"\")&(MTB_Perf_Summary_final[\"CP_FRANCHISE\"]==\"\")&(MTB_Perf_Summary_final[\"CP_MANUFACTURER\"]!=\"\")]"
   ]
  },
  {
   "cell_type": "code",
   "execution_count": null,
   "metadata": {},
   "outputs": [],
   "source": [
    "length= len(MSR_Manu_Summary)\n",
    "MSR_Manu_Summary[\"Record_ID\"]=range(1,length+1)"
   ]
  },
  {
   "cell_type": "code",
   "execution_count": null,
   "metadata": {},
   "outputs": [],
   "source": [
    "MSR_Manu_Summary.head(3)"
   ]
  },
  {
   "cell_type": "code",
   "execution_count": null,
   "metadata": {},
   "outputs": [],
   "source": [
    "#saving into csv file\n",
    "MSR_Manu_Summary.to_csv(path_MTB+\"MSR_Manu_Summary.csv\",index=False)"
   ]
  },
  {
   "cell_type": "markdown",
   "metadata": {},
   "source": [
    "### **MSR_Fran_Summary**"
   ]
  },
  {
   "cell_type": "code",
   "execution_count": null,
   "metadata": {},
   "outputs": [],
   "source": [
    "MSR_Fran_Summary=MTB_Perf_Summary_final.loc[(MTB_Perf_Summary_final[\"CP_SUBBRAND\"]==\"\") & (MTB_Perf_Summary_final[\"CP_BRAND\"]==\"\")&(MTB_Perf_Summary_final[\"CP_FRANCHISE\"]!=\"\")]"
   ]
  },
  {
   "cell_type": "code",
   "execution_count": null,
   "metadata": {},
   "outputs": [],
   "source": [
    "length= len(MSR_Fran_Summary)\n",
    "MSR_Fran_Summary[\"Record_ID\"]=range(1,length+1)"
   ]
  },
  {
   "cell_type": "code",
   "execution_count": null,
   "metadata": {},
   "outputs": [],
   "source": [
    "MSR_Fran_Summary.head(3)"
   ]
  },
  {
   "cell_type": "code",
   "execution_count": null,
   "metadata": {},
   "outputs": [],
   "source": [
    "#saving into csv file\n",
    "MSR_Fran_Summary.to_csv(path_MTB+\"MSR_Fran_Summary.csv\",index=False)"
   ]
  },
  {
   "cell_type": "markdown",
   "metadata": {},
   "source": [
    "### **MSR_Brand_Summary**"
   ]
  },
  {
   "cell_type": "code",
   "execution_count": null,
   "metadata": {},
   "outputs": [],
   "source": [
    "MSR_Brand_Summary=MTB_Perf_Summary_final.loc[(MTB_Perf_Summary_final[\"CP_SUBBRAND\"]==\"\") & (MTB_Perf_Summary_final[\"CP_BRAND\"]!=\"\")]"
   ]
  },
  {
   "cell_type": "code",
   "execution_count": null,
   "metadata": {},
   "outputs": [],
   "source": [
    "length= len(MSR_Brand_Summary)\n",
    "MSR_Brand_Summary[\"Record_ID\"]=range(1,length+1)"
   ]
  },
  {
   "cell_type": "code",
   "execution_count": null,
   "metadata": {},
   "outputs": [],
   "source": [
    "MSR_Brand_Summary.head(3)"
   ]
  },
  {
   "cell_type": "code",
   "execution_count": null,
   "metadata": {},
   "outputs": [],
   "source": [
    "#saving into csv file\n",
    "MSR_Brand_Summary.to_csv(path_MTB+\"MSR_Brand_Summary.csv\",index=False)"
   ]
  },
  {
   "cell_type": "markdown",
   "metadata": {},
   "source": [
    "### **MSR_SubBrand_Summary**"
   ]
  },
  {
   "cell_type": "code",
   "execution_count": null,
   "metadata": {},
   "outputs": [],
   "source": [
    "MSR_SubBrand_Summary=MTB_Perf_Summary_final.loc[(MTB_Perf_Summary_final[\"CP_SUBBRAND\"]!=\"\")]"
   ]
  },
  {
   "cell_type": "code",
   "execution_count": null,
   "metadata": {},
   "outputs": [],
   "source": [
    "length= len(MSR_SubBrand_Summary)\n",
    "MSR_SubBrand_Summary[\"Record_ID\"]=range(1,length+1)"
   ]
  },
  {
   "cell_type": "code",
   "execution_count": null,
   "metadata": {},
   "outputs": [],
   "source": [
    "MSR_SubBrand_Summary.head(3)"
   ]
  },
  {
   "cell_type": "code",
   "execution_count": null,
   "metadata": {},
   "outputs": [],
   "source": [
    "#saving into csv file\n",
    "MSR_SubBrand_Summary.to_csv(path_MTB+\"MSR_SubBrand_Summary.csv\",index=False)"
   ]
  },
  {
   "cell_type": "code",
   "execution_count": null,
   "metadata": {},
   "outputs": [],
   "source": []
  },
  {
   "cell_type": "markdown",
   "metadata": {},
   "source": [
    " "
   ]
  },
  {
   "cell_type": "markdown",
   "metadata": {},
   "source": [
    "### **Trends**"
   ]
  },
  {
   "cell_type": "markdown",
   "metadata": {},
   "source": [
    "**Fact and Market Selection**"
   ]
  },
  {
   "cell_type": "code",
   "execution_count": null,
   "metadata": {},
   "outputs": [],
   "source": [
    "Perf_Markets=[\"Ahold\",\"Alb/Sfy\",\"BJs\",\"CVS\",\"Dollar General\",\"Family Dollar\",\"Meijer\",\"Publix\",\"Rite Aid\",\"Sams\",\n",
    "              \"Shoprite\",\"Target\",\"US AOC\",\"US Drug\",\"US Food\",\"Walgreens\",\"Walmart\"]"
   ]
  },
  {
   "cell_type": "code",
   "execution_count": null,
   "metadata": {},
   "outputs": [],
   "source": [
    "MTB_Perf_Trends= Data_5p_MTB[Data_5p_MTB[\"Facts\"].isin(Perf_Trend_Facts)]\n",
    "MTB_Perf_Trends= MTB_Perf_Trends[MTB_Perf_Trends[\"Markets\"].isin(Perf_Markets)]"
   ]
  },
  {
   "cell_type": "code",
   "execution_count": null,
   "metadata": {},
   "outputs": [],
   "source": [
    "print(len(Perf_Markets),len(set(MTB_Perf_Trends[\"Markets\"])))"
   ]
  },
  {
   "cell_type": "markdown",
   "metadata": {},
   "source": [
    "**Fact Mapping**"
   ]
  },
  {
   "cell_type": "code",
   "execution_count": null,
   "metadata": {},
   "outputs": [],
   "source": [
    "MTB_Perf_Trends[\"Facts\"].replace(Perf_Trend_Fact_Mapping,inplace=True)"
   ]
  },
  {
   "cell_type": "code",
   "execution_count": null,
   "metadata": {},
   "outputs": [],
   "source": [
    "MTB_Perf_Trends.head()"
   ]
  },
  {
   "cell_type": "markdown",
   "metadata": {},
   "source": [
    "**Column name Change**"
   ]
  },
  {
   "cell_type": "code",
   "execution_count": null,
   "metadata": {},
   "outputs": [],
   "source": [
    "MTB_Perf_Trends.rename(columns={\"Markets\":\"MKT\",\"Products\":\"PROD\",\"Manufacturer\":\"CP_MANUFACTURER\",\n",
    "                                \"Franchise\":\"CP_FRANCHISE\",\"Brand\":\"CP_BRAND\",\"SubBrand\":\"CP_SUBBRAND\"},inplace=True)"
   ]
  },
  {
   "cell_type": "code",
   "execution_count": null,
   "metadata": {},
   "outputs": [],
   "source": [
    "MTB_Perf_Trends.head()"
   ]
  },
  {
   "cell_type": "code",
   "execution_count": null,
   "metadata": {
    "scrolled": true
   },
   "outputs": [],
   "source": [
    "Time_Period=Perf_Trend_Time_Period\n",
    "print(Time_Period)"
   ]
  },
  {
   "cell_type": "markdown",
   "metadata": {},
   "source": [
    "**Moving Time Period to Rows and Facts to Columns**"
   ]
  },
  {
   "cell_type": "code",
   "execution_count": null,
   "metadata": {},
   "outputs": [],
   "source": [
    "df1=pd.melt(MTB_Perf_Trends, id_vars =[\"MKT\",\"PROD\",\"CP_MANUFACTURER\",\"CP_FRANCHISE\",\"CP_BRAND\",\"CP_SUBBRAND\",\"Facts\"], value_vars =Time_Period,var_name=\"Time_Period\")\n",
    "\n",
    "df1[\"value\"]=df1[\"value\"].apply(pd.to_numeric)"
   ]
  },
  {
   "cell_type": "code",
   "execution_count": null,
   "metadata": {},
   "outputs": [],
   "source": [
    "df2=df1.pivot_table(index=['MKT','PROD', 'CP_MANUFACTURER', 'CP_FRANCHISE', 'CP_BRAND','CP_SUBBRAND','Time_Period'],columns='Facts')\n",
    "\n",
    "df2.columns=df2.columns.droplevel().rename(None)\n",
    "df2.reset_index(inplace =True)"
   ]
  },
  {
   "cell_type": "code",
   "execution_count": null,
   "metadata": {},
   "outputs": [],
   "source": [
    "from pandas.api.types import CategoricalDtype\n",
    "\n",
    "Time_Period_order = CategoricalDtype(\n",
    "    Time_Period, \n",
    "    ordered=True\n",
    ")\n",
    "\n",
    "df2['Time_Period'] = df2['Time_Period'].astype(Time_Period_order)\n",
    "\n",
    "df2.sort_values(['MKT','PROD','Time_Period'],inplace=True)"
   ]
  },
  {
   "cell_type": "code",
   "execution_count": null,
   "metadata": {
    "scrolled": true
   },
   "outputs": [],
   "source": [
    "df2.head()"
   ]
  },
  {
   "cell_type": "code",
   "execution_count": null,
   "metadata": {},
   "outputs": [],
   "source": [
    "df2[['PRODUCT_CODE', 'CP_CATEGORY', 'CP_SEGMENT']]=\"\"\n",
    "\n",
    "final_column_sorting=[\"MKT\",\"PROD\",\"PRODUCT_CODE\",\"CP_CATEGORY\",\"CP_SEGMENT\",\"CP_MANUFACTURER\",\"CP_FRANCHISE\",\n",
    "                        \"CP_BRAND\",\"CP_SUBBRAND\",\"Time_Period\",\n",
    "                        \"Doll_Shr\",\"Base_Doll_Shr\",\"Incr_Doll_Shr\",\"Dollars\",\"Base_Dollars\",\"Incr_Dollars\",\"EQ_Shr\",\n",
    "                        \"Base_EQ_Shr\",\"Incr_EQ_Shr\",\"EQ_Units\",\"Base_EQ_Units\",\"INcr_EQ_Units\"\n",
    "                      ]\n",
    "MTB_Perf_Trends_final=df2[final_column_sorting]"
   ]
  },
  {
   "cell_type": "code",
   "execution_count": null,
   "metadata": {},
   "outputs": [],
   "source": [
    "MTB_Perf_Trends_final[\"CP_SHARE_BASIS\"]=\"MANUAL\""
   ]
  },
  {
   "cell_type": "code",
   "execution_count": null,
   "metadata": {},
   "outputs": [],
   "source": [
    "MTB_Perf_Trends_final.head()"
   ]
  },
  {
   "cell_type": "markdown",
   "metadata": {},
   "source": [
    "### **MSR_Manu_Trends**"
   ]
  },
  {
   "cell_type": "code",
   "execution_count": null,
   "metadata": {},
   "outputs": [],
   "source": [
    "MSR_Manu_Trends=MTB_Perf_Trends_final.loc[(MTB_Perf_Trends_final[\"CP_SUBBRAND\"]==\"\") & (MTB_Perf_Trends_final[\"CP_BRAND\"]==\"\")&(MTB_Perf_Trends_final[\"CP_FRANCHISE\"]==\"\")&(MTB_Perf_Trends_final[\"CP_MANUFACTURER\"]!=\"\")]"
   ]
  },
  {
   "cell_type": "code",
   "execution_count": null,
   "metadata": {},
   "outputs": [],
   "source": [
    "length= len(MSR_Manu_Trends)\n",
    "MSR_Manu_Trends[\"Record_ID\"]=range(1,length+1)"
   ]
  },
  {
   "cell_type": "code",
   "execution_count": null,
   "metadata": {},
   "outputs": [],
   "source": [
    "MSR_Manu_Trends.head()"
   ]
  },
  {
   "cell_type": "code",
   "execution_count": null,
   "metadata": {},
   "outputs": [],
   "source": [
    "#saving into csv file\n",
    "MSR_Manu_Trends.to_csv(path_MTB+\"MSR_Manu_Trends.csv\",index=False)"
   ]
  },
  {
   "cell_type": "markdown",
   "metadata": {},
   "source": [
    "### **MSR_Fran_Trends**"
   ]
  },
  {
   "cell_type": "code",
   "execution_count": null,
   "metadata": {},
   "outputs": [],
   "source": [
    "MSR_Fran_Trends=MTB_Perf_Trends_final.loc[(MTB_Perf_Trends_final[\"CP_SUBBRAND\"]==\"\") & (MTB_Perf_Trends_final[\"CP_BRAND\"]==\"\")&(MTB_Perf_Trends_final[\"CP_FRANCHISE\"]!=\"\")]"
   ]
  },
  {
   "cell_type": "code",
   "execution_count": null,
   "metadata": {},
   "outputs": [],
   "source": [
    "length= len(MSR_Fran_Trends)\n",
    "MSR_Fran_Trends[\"Record_ID\"]=range(1,length+1)"
   ]
  },
  {
   "cell_type": "code",
   "execution_count": null,
   "metadata": {},
   "outputs": [],
   "source": [
    "MSR_Fran_Trends.head(3)"
   ]
  },
  {
   "cell_type": "code",
   "execution_count": null,
   "metadata": {},
   "outputs": [],
   "source": [
    "#saving into csv file\n",
    "MSR_Fran_Trends.to_csv(path_MTB+\"MSR_Fran_Trends.csv\",index=False)"
   ]
  },
  {
   "cell_type": "markdown",
   "metadata": {},
   "source": [
    "### **MSR_Brand_Trends**"
   ]
  },
  {
   "cell_type": "code",
   "execution_count": null,
   "metadata": {},
   "outputs": [],
   "source": [
    "MSR_Brand_Trends=MTB_Perf_Trends_final.loc[(MTB_Perf_Trends_final[\"CP_SUBBRAND\"]==\"\") & (MTB_Perf_Trends_final[\"CP_BRAND\"]!=\"\")]"
   ]
  },
  {
   "cell_type": "code",
   "execution_count": null,
   "metadata": {},
   "outputs": [],
   "source": [
    "length= len(MSR_Brand_Trends)\n",
    "MSR_Brand_Trends[\"Record_ID\"]=range(1,length+1)"
   ]
  },
  {
   "cell_type": "code",
   "execution_count": null,
   "metadata": {},
   "outputs": [],
   "source": [
    "MSR_Brand_Trends.head(3)"
   ]
  },
  {
   "cell_type": "code",
   "execution_count": null,
   "metadata": {},
   "outputs": [],
   "source": [
    "#saving into csv file\n",
    "MSR_Brand_Trends.to_csv(path_MTB+\"MSR_Brand_Trends.csv\",index=False)"
   ]
  },
  {
   "cell_type": "markdown",
   "metadata": {},
   "source": [
    "### **MSR_SubBrand_Trends**"
   ]
  },
  {
   "cell_type": "code",
   "execution_count": null,
   "metadata": {},
   "outputs": [],
   "source": [
    "MSR_SubBrand_Trends=MTB_Perf_Trends_final.loc[(MTB_Perf_Trends_final[\"CP_SUBBRAND\"]!=\"\")]"
   ]
  },
  {
   "cell_type": "code",
   "execution_count": null,
   "metadata": {},
   "outputs": [],
   "source": [
    "length= len(MSR_SubBrand_Trends)\n",
    "MSR_SubBrand_Trends[\"Record_ID\"]=range(1,length+1)"
   ]
  },
  {
   "cell_type": "code",
   "execution_count": null,
   "metadata": {},
   "outputs": [],
   "source": [
    "MSR_SubBrand_Trends.head(3)"
   ]
  },
  {
   "cell_type": "code",
   "execution_count": null,
   "metadata": {},
   "outputs": [],
   "source": [
    "#saving into csv file\n",
    "MSR_SubBrand_Trends.to_csv(path_MTB+\"MSR_SubBrand_Trends.csv\",index=False)"
   ]
  },
  {
   "cell_type": "code",
   "execution_count": null,
   "metadata": {},
   "outputs": [],
   "source": []
  },
  {
   "cell_type": "code",
   "execution_count": null,
   "metadata": {},
   "outputs": [],
   "source": []
  },
  {
   "cell_type": "markdown",
   "metadata": {},
   "source": [
    "## PTB"
   ]
  },
  {
   "cell_type": "code",
   "execution_count": null,
   "metadata": {},
   "outputs": [],
   "source": [
    "# path to store Output files\n",
    "\n",
    "path_PTB=\"//falmumapp34/Nielsen Connect Transition & Maintenance (20-SCP-3650)/05. Output Data/5P Output/PTB/\""
   ]
  },
  {
   "cell_type": "code",
   "execution_count": null,
   "metadata": {
    "scrolled": true
   },
   "outputs": [],
   "source": [
    "Data_5p_PTB=Data_5p.copy()"
   ]
  },
  {
   "cell_type": "code",
   "execution_count": null,
   "metadata": {},
   "outputs": [],
   "source": [
    "set(Data_5p_PTB[\"ShareBasis\"])"
   ]
  },
  {
   "cell_type": "markdown",
   "metadata": {},
   "source": [
    "**Filtering TP Data**"
   ]
  },
  {
   "cell_type": "code",
   "execution_count": null,
   "metadata": {},
   "outputs": [],
   "source": [
    "Data_5p_PTB=Data_5p_PTB.loc[Data_5p_PTB[\"ShareBasis\"].isin(['BATTERY+HYBRID', 'POWER'])]"
   ]
  },
  {
   "cell_type": "code",
   "execution_count": null,
   "metadata": {},
   "outputs": [],
   "source": [
    "# set(Data_5p_PTB.loc[Data_5p_PTB[\"ShareBasis\"]=='BATTERY+HYBRID'][\"Facts\"])"
   ]
  },
  {
   "cell_type": "markdown",
   "metadata": {},
   "source": [
    "## Performance Data"
   ]
  },
  {
   "cell_type": "markdown",
   "metadata": {},
   "source": [
    "### **Summary**"
   ]
  },
  {
   "cell_type": "code",
   "execution_count": null,
   "metadata": {},
   "outputs": [],
   "source": [
    "Perf_Markets=[\"Ahold\",\"Alb/Sfy\",\"CVS\",\"Dollar General\",\"Family Dollar\",\"Kmart\",\"Meijer\",\"Publix\",\n",
    "        \"Rite Aid\",\"Shoprite\",\"Target\",\"US AOC\",\"US Drug\",\"US Food\",\"Walgreens\",\"Walmart\"]"
   ]
  },
  {
   "cell_type": "code",
   "execution_count": null,
   "metadata": {},
   "outputs": [],
   "source": [
    "PTB_Perf_Summary= Data_5p_PTB[Data_5p_PTB[\"Facts\"].isin(Perf_Summ_Facts)]\n",
    "PTB_Perf_Summary= PTB_Perf_Summary[PTB_Perf_Summary[\"Markets\"].isin(Perf_Markets)]"
   ]
  },
  {
   "cell_type": "markdown",
   "metadata": {},
   "source": [
    "**Fact Mapping**"
   ]
  },
  {
   "cell_type": "code",
   "execution_count": null,
   "metadata": {},
   "outputs": [],
   "source": [
    "PTB_Perf_Summary[\"Facts\"].replace(Perf_Summ_Fact_Mapping,inplace=True)"
   ]
  },
  {
   "cell_type": "markdown",
   "metadata": {},
   "source": [
    "**Column name Change**"
   ]
  },
  {
   "cell_type": "code",
   "execution_count": null,
   "metadata": {},
   "outputs": [],
   "source": [
    "PTB_Perf_Summary.rename(columns={\"Markets\":\"MKT\",'ShareBasis':\"CP_BATTERY_HYBRID\",\"Products\":\"PROD\",\"Manufacturer\":\"CP_MANUFACTURER\",\n",
    "                                \"Franchise\":\"CP_FRANCHISE\",\"Brand\":\"CP_BRAND\",\"SubBrand\":\"CP_SUBBRAND\"},inplace=True)"
   ]
  },
  {
   "cell_type": "code",
   "execution_count": null,
   "metadata": {},
   "outputs": [],
   "source": [
    "PTB_Perf_Summary.head()"
   ]
  },
  {
   "cell_type": "code",
   "execution_count": null,
   "metadata": {
    "scrolled": true
   },
   "outputs": [],
   "source": [
    "Time_Period=Perf_Summ_Time_Period\n",
    "print(Time_Period)"
   ]
  },
  {
   "cell_type": "markdown",
   "metadata": {},
   "source": [
    "**Moving Time Period to Rows and Facts to Columns**"
   ]
  },
  {
   "cell_type": "code",
   "execution_count": null,
   "metadata": {},
   "outputs": [],
   "source": [
    "df1=pd.melt(PTB_Perf_Summary, id_vars =[\"MKT\",\"PROD\",\"CP_MANUFACTURER\",\"CP_FRANCHISE\",\"CP_BRAND\",\"CP_SUBBRAND\",\"CP_BATTERY_HYBRID\",\"Facts\"], value_vars =Time_Period,var_name=\"Time_Period\")\n",
    "\n",
    "df1[\"value\"]=df1[\"value\"].apply(pd.to_numeric)"
   ]
  },
  {
   "cell_type": "code",
   "execution_count": null,
   "metadata": {},
   "outputs": [],
   "source": [
    "df2=df1.pivot_table(index=['MKT','PROD', 'CP_MANUFACTURER', 'CP_FRANCHISE', 'CP_BRAND','CP_SUBBRAND',\"CP_BATTERY_HYBRID\",'Time_Period'],columns='Facts')\n",
    "\n",
    "df2.columns=df2.columns.droplevel().rename(None)\n",
    "df2.reset_index(inplace =True)"
   ]
  },
  {
   "cell_type": "code",
   "execution_count": null,
   "metadata": {},
   "outputs": [],
   "source": [
    "from pandas.api.types import CategoricalDtype\n",
    "\n",
    "Time_Period_order = CategoricalDtype(\n",
    "    Time_Period, \n",
    "    ordered=True\n",
    ")\n",
    "\n",
    "df2['Time_Period'] = df2['Time_Period'].astype(Time_Period_order)\n",
    "\n",
    "df2.sort_values(['MKT','PROD','Time_Period'],inplace=True)"
   ]
  },
  {
   "cell_type": "code",
   "execution_count": null,
   "metadata": {},
   "outputs": [],
   "source": [
    "df2.head()"
   ]
  },
  {
   "cell_type": "code",
   "execution_count": null,
   "metadata": {},
   "outputs": [],
   "source": [
    "final_column_sorting=[\"MKT\",\"PROD\",\"CP_MANUFACTURER\",\"CP_FRANCHISE\",\"CP_BRAND\",\"CP_SUBBRAND\",\"Time_Period\",\"Doll_Shr\",\n",
    "                      \"Doll_Shr_Chg\",\"Base_Doll_Shr\",\"Base_Doll_Shr_Chg\",\"Incr_Doll_Shr\",\"Incr_Doll_Shr_Chg\",\"Dollars\",\n",
    "                      \"Dollars_Chg\",\"Store_Selling\",\"Store_Selling_Chg\",\"Cum_Distri_Pts\",\"Cum_Distri_Pts_Chg\",\n",
    "                      \"CC_RASP\",\"CC_RASP_Chg\",\"CC_Base_RASP\",\"CC_Base_RASP_Chg\",\"CC_Promo_RASP\",\"CC_Promo_RASP_Chg\",\n",
    "                      \"Prcnt_EQUnits_Any_Promo\",\"Prcnt_EQUnits_Any_Promo_Chg\",\"QS_ACV_cum\",\"QS_ACV_Chg_cum\",\n",
    "                      \"Prcnt_ACV_TPR_cum\",\"Prcnt_ACV_TPR_Chg_cum\",\"CP_BATTERY_HYBRID\"\n",
    "                      ]\n",
    "\n",
    "df2[\"CP_BATTERY_HYBRID\"]=df2[\"CP_BATTERY_HYBRID\"].str.replace('POWER','TOTAL POWER')\n",
    "\n",
    "PTB_Perf_Summary_final=df2[final_column_sorting]"
   ]
  },
  {
   "cell_type": "code",
   "execution_count": null,
   "metadata": {},
   "outputs": [],
   "source": [
    "PTB_Perf_Summary_final.head()"
   ]
  },
  {
   "cell_type": "code",
   "execution_count": null,
   "metadata": {},
   "outputs": [],
   "source": [
    "set(PTB_Perf_Summary_final[\"CP_BATTERY_HYBRID\"])"
   ]
  },
  {
   "cell_type": "markdown",
   "metadata": {},
   "source": [
    "### **MSR_Cat_Summary**"
   ]
  },
  {
   "cell_type": "code",
   "execution_count": null,
   "metadata": {},
   "outputs": [],
   "source": [
    "MSR_Cat_Summary=PTB_Perf_Summary_final.loc[(PTB_Perf_Summary_final[\"CP_SUBBRAND\"]==\"\") & (PTB_Perf_Summary_final[\"CP_BRAND\"]==\"\")&(PTB_Perf_Summary_final[\"CP_FRANCHISE\"]==\"\")&(PTB_Perf_Summary_final[\"CP_MANUFACTURER\"]==\"\")]"
   ]
  },
  {
   "cell_type": "code",
   "execution_count": null,
   "metadata": {},
   "outputs": [],
   "source": [
    "length= len(MSR_Cat_Summary)\n",
    "MSR_Cat_Summary[\"Record_ID\"]=range(1,length+1)"
   ]
  },
  {
   "cell_type": "code",
   "execution_count": null,
   "metadata": {},
   "outputs": [],
   "source": [
    "MSR_Cat_Summary.shape"
   ]
  },
  {
   "cell_type": "code",
   "execution_count": null,
   "metadata": {},
   "outputs": [],
   "source": [
    "#saving into csv file\n",
    "MSR_Cat_Summary.to_csv(path_PTB+\"MSR_Cat_Summary.csv\",index=False)"
   ]
  },
  {
   "cell_type": "markdown",
   "metadata": {},
   "source": [
    "### **MSR_Manu_Summary**"
   ]
  },
  {
   "cell_type": "code",
   "execution_count": null,
   "metadata": {},
   "outputs": [],
   "source": [
    "MSR_Manu_Summary=PTB_Perf_Summary_final.loc[(PTB_Perf_Summary_final[\"CP_SUBBRAND\"]==\"\") & (PTB_Perf_Summary_final[\"CP_BRAND\"]==\"\")&(PTB_Perf_Summary_final[\"CP_FRANCHISE\"]==\"\")&(PTB_Perf_Summary_final[\"CP_MANUFACTURER\"]!=\"\")]"
   ]
  },
  {
   "cell_type": "code",
   "execution_count": null,
   "metadata": {},
   "outputs": [],
   "source": [
    "length= len(MSR_Manu_Summary)\n",
    "MSR_Manu_Summary[\"Record_ID\"]=range(1,length+1)"
   ]
  },
  {
   "cell_type": "code",
   "execution_count": null,
   "metadata": {},
   "outputs": [],
   "source": [
    "MSR_Manu_Summary.shape"
   ]
  },
  {
   "cell_type": "code",
   "execution_count": null,
   "metadata": {},
   "outputs": [],
   "source": [
    "#saving into csv file\n",
    "MSR_Manu_Summary.to_csv(path_PTB+\"MSR_Manu_Summary.csv\",index=False)"
   ]
  },
  {
   "cell_type": "markdown",
   "metadata": {},
   "source": [
    "### **MSR_Fran_Summary**"
   ]
  },
  {
   "cell_type": "code",
   "execution_count": null,
   "metadata": {},
   "outputs": [],
   "source": [
    "MSR_Fran_Summary=PTB_Perf_Summary_final.loc[(PTB_Perf_Summary_final[\"CP_SUBBRAND\"]==\"\") & (PTB_Perf_Summary_final[\"CP_BRAND\"]==\"\")&(PTB_Perf_Summary_final[\"CP_FRANCHISE\"]!=\"\")]"
   ]
  },
  {
   "cell_type": "code",
   "execution_count": null,
   "metadata": {},
   "outputs": [],
   "source": [
    "length= len(MSR_Fran_Summary)\n",
    "MSR_Fran_Summary[\"Record_ID\"]=range(1,length+1)"
   ]
  },
  {
   "cell_type": "code",
   "execution_count": null,
   "metadata": {},
   "outputs": [],
   "source": [
    "MSR_Fran_Summary.shape"
   ]
  },
  {
   "cell_type": "code",
   "execution_count": null,
   "metadata": {},
   "outputs": [],
   "source": [
    "#saving into csv file\n",
    "MSR_Fran_Summary.to_csv(path_PTB+\"MSR_Fran_Summary.csv\",index=False)"
   ]
  },
  {
   "cell_type": "markdown",
   "metadata": {},
   "source": [
    "### **MSR_Brand_Summary**"
   ]
  },
  {
   "cell_type": "code",
   "execution_count": null,
   "metadata": {},
   "outputs": [],
   "source": [
    "MSR_Brand_Summary=PTB_Perf_Summary_final.loc[(PTB_Perf_Summary_final[\"CP_SUBBRAND\"]==\"\") & (PTB_Perf_Summary_final[\"CP_BRAND\"]!=\"\")]"
   ]
  },
  {
   "cell_type": "code",
   "execution_count": null,
   "metadata": {},
   "outputs": [],
   "source": [
    "length= len(MSR_Brand_Summary)\n",
    "MSR_Brand_Summary[\"Record_ID\"]=range(1,length+1)"
   ]
  },
  {
   "cell_type": "code",
   "execution_count": null,
   "metadata": {},
   "outputs": [],
   "source": [
    "MSR_Brand_Summary.shape"
   ]
  },
  {
   "cell_type": "code",
   "execution_count": null,
   "metadata": {},
   "outputs": [],
   "source": [
    "#saving into csv file\n",
    "MSR_Brand_Summary.to_csv(path_PTB+\"MSR_Brand_Summary.csv\",index=False)"
   ]
  },
  {
   "cell_type": "markdown",
   "metadata": {},
   "source": [
    "### **MSR_SubBrand_Summary**"
   ]
  },
  {
   "cell_type": "code",
   "execution_count": null,
   "metadata": {},
   "outputs": [],
   "source": [
    "MSR_SubBrand_Summary=PTB_Perf_Summary_final.loc[(PTB_Perf_Summary_final[\"CP_SUBBRAND\"]!=\"\")]"
   ]
  },
  {
   "cell_type": "code",
   "execution_count": null,
   "metadata": {},
   "outputs": [],
   "source": [
    "length= len(MSR_SubBrand_Summary)\n",
    "MSR_SubBrand_Summary[\"Record_ID\"]=range(1,length+1)"
   ]
  },
  {
   "cell_type": "code",
   "execution_count": null,
   "metadata": {},
   "outputs": [],
   "source": [
    "MSR_SubBrand_Summary.shape"
   ]
  },
  {
   "cell_type": "code",
   "execution_count": null,
   "metadata": {},
   "outputs": [],
   "source": [
    "#saving into csv file\n",
    "MSR_SubBrand_Summary.to_csv(path_PTB+\"MSR_SubBrand_Summary.csv\",index=False)"
   ]
  },
  {
   "cell_type": "markdown",
   "metadata": {},
   "source": [
    " "
   ]
  },
  {
   "cell_type": "markdown",
   "metadata": {},
   "source": [
    "### **Trends**"
   ]
  },
  {
   "cell_type": "markdown",
   "metadata": {},
   "source": [
    "**Fact and Market Selection**"
   ]
  },
  {
   "cell_type": "code",
   "execution_count": null,
   "metadata": {},
   "outputs": [],
   "source": [
    "PTB_Perf_Trends= Data_5p_PTB[Data_5p_PTB[\"Facts\"].isin(Perf_Trend_Facts)]\n",
    "PTB_Perf_Trends= PTB_Perf_Trends[PTB_Perf_Trends[\"Markets\"].isin(Perf_Markets)]"
   ]
  },
  {
   "cell_type": "markdown",
   "metadata": {},
   "source": [
    "**Fact Mapping**"
   ]
  },
  {
   "cell_type": "code",
   "execution_count": null,
   "metadata": {},
   "outputs": [],
   "source": [
    "PTB_Perf_Trends[\"Facts\"].replace(Perf_Trend_Fact_Mapping,inplace=True)"
   ]
  },
  {
   "cell_type": "markdown",
   "metadata": {},
   "source": [
    "**Column name Change**"
   ]
  },
  {
   "cell_type": "code",
   "execution_count": null,
   "metadata": {},
   "outputs": [],
   "source": [
    "PTB_Perf_Trends.rename(columns={\"Markets\":\"MKT\",'ShareBasis':\"CP_BATTERY_HYBRID\",\"Products\":\"PROD\",\"Manufacturer\":\"CP_MANUFACTURER\",\n",
    "                                \"Franchise\":\"CP_FRANCHISE\",\"Brand\":\"CP_BRAND\",\"SubBrand\":\"CP_SUBBRAND\"},inplace=True)"
   ]
  },
  {
   "cell_type": "code",
   "execution_count": null,
   "metadata": {},
   "outputs": [],
   "source": [
    "PTB_Perf_Trends.head()"
   ]
  },
  {
   "cell_type": "code",
   "execution_count": null,
   "metadata": {
    "scrolled": true
   },
   "outputs": [],
   "source": [
    "Time_Period=Perf_Trend_Time_Period\n",
    "print(Time_Period)"
   ]
  },
  {
   "cell_type": "markdown",
   "metadata": {},
   "source": [
    "**Moving Time Period to Rows and Facts to Columns**"
   ]
  },
  {
   "cell_type": "code",
   "execution_count": null,
   "metadata": {},
   "outputs": [],
   "source": [
    "df1=pd.melt(PTB_Perf_Trends, id_vars =[\"MKT\",\"PROD\",\"CP_MANUFACTURER\",\"CP_FRANCHISE\",\"CP_BRAND\",\"CP_SUBBRAND\",\"CP_BATTERY_HYBRID\",\"Facts\"], value_vars =Time_Period,var_name=\"Time_Period\")\n",
    "\n",
    "df1[\"value\"]=df1[\"value\"].apply(pd.to_numeric)"
   ]
  },
  {
   "cell_type": "code",
   "execution_count": null,
   "metadata": {},
   "outputs": [],
   "source": [
    "df2=df1.pivot_table(index=['MKT','PROD', 'CP_MANUFACTURER', 'CP_FRANCHISE', 'CP_BRAND','CP_SUBBRAND',\"CP_BATTERY_HYBRID\",'Time_Period'],columns='Facts')\n",
    "\n",
    "df2.columns=df2.columns.droplevel().rename(None)\n",
    "df2.reset_index(inplace =True)"
   ]
  },
  {
   "cell_type": "code",
   "execution_count": null,
   "metadata": {},
   "outputs": [],
   "source": [
    "from pandas.api.types import CategoricalDtype\n",
    "\n",
    "Time_Period_order = CategoricalDtype(\n",
    "    Time_Period, \n",
    "    ordered=True\n",
    ")\n",
    "\n",
    "df2['Time_Period'] = df2['Time_Period'].astype(Time_Period_order)\n",
    "\n",
    "df2.sort_values(['MKT','PROD','Time_Period'],inplace=True)"
   ]
  },
  {
   "cell_type": "code",
   "execution_count": null,
   "metadata": {
    "scrolled": false
   },
   "outputs": [],
   "source": [
    "df2.head()"
   ]
  },
  {
   "cell_type": "code",
   "execution_count": null,
   "metadata": {},
   "outputs": [],
   "source": [
    "df2[['PRODUCT_CODE', 'CP_SEGMENT']]=\"\"\n",
    "'BATTERY+HYBRID', 'POWER'\n",
    "df2['CP_CATEGORY']=\"POWER\"\n",
    "\n",
    "df2.rename(columns={'INcr_EQ_Units':'Incr_EQ_Units'},inplace=True)\n",
    "\n",
    "df2[\"CP_BATTERY_HYBRID\"]=df2[\"CP_BATTERY_HYBRID\"].str.replace('POWER','TOTAL POWER')\n",
    "\n",
    "final_column_sorting=[\"MKT\",\"PROD\",\"PRODUCT_CODE\",\"CP_CATEGORY\",\"CP_SEGMENT\",\"CP_MANUFACTURER\",\"CP_FRANCHISE\",\"CP_BRAND\",\n",
    "                      \"CP_SUBBRAND\",\"Time_Period\",\"Doll_Shr\",\"Base_Doll_Shr\",\"Incr_Doll_Shr\",\"Dollars\",\"Base_Dollars\",\n",
    "                      \"Incr_Dollars\",\"EQ_Shr\",\"Base_EQ_Shr\",\"Incr_EQ_Shr\",\"EQ_Units\",\"Base_EQ_Units\",\"Incr_EQ_Units\",\n",
    "                      \"CP_BATTERY_HYBRID\"\n",
    "                      ]\n",
    "PTB_Perf_Trends_final=df2[final_column_sorting]"
   ]
  },
  {
   "cell_type": "code",
   "execution_count": null,
   "metadata": {},
   "outputs": [],
   "source": [
    "PTB_Perf_Trends_final.head()"
   ]
  },
  {
   "cell_type": "markdown",
   "metadata": {},
   "source": [
    "### **MSR_Manu_Trends**"
   ]
  },
  {
   "cell_type": "code",
   "execution_count": null,
   "metadata": {},
   "outputs": [],
   "source": [
    "MSR_Manu_Trends=PTB_Perf_Trends_final.loc[(PTB_Perf_Trends_final[\"CP_SUBBRAND\"]==\"\") & (PTB_Perf_Trends_final[\"CP_BRAND\"]==\"\")&(PTB_Perf_Trends_final[\"CP_FRANCHISE\"]==\"\")&(PTB_Perf_Trends_final[\"CP_MANUFACTURER\"]!=\"\")]"
   ]
  },
  {
   "cell_type": "code",
   "execution_count": null,
   "metadata": {},
   "outputs": [],
   "source": [
    "length= len(MSR_Manu_Trends)\n",
    "MSR_Manu_Trends[\"Record_ID\"]=range(1,length+1)"
   ]
  },
  {
   "cell_type": "code",
   "execution_count": null,
   "metadata": {},
   "outputs": [],
   "source": [
    "#saving into csv file\n",
    "MSR_Manu_Trends.to_csv(path_PTB+\"MSR_Manu_Trends.csv\",index=False)"
   ]
  },
  {
   "cell_type": "markdown",
   "metadata": {},
   "source": [
    "### **MSR_Fran_Trends**"
   ]
  },
  {
   "cell_type": "code",
   "execution_count": null,
   "metadata": {},
   "outputs": [],
   "source": [
    "MSR_Fran_Trends=PTB_Perf_Trends_final.loc[(PTB_Perf_Trends_final[\"CP_SUBBRAND\"]==\"\") & (PTB_Perf_Trends_final[\"CP_BRAND\"]==\"\")&(PTB_Perf_Trends_final[\"CP_FRANCHISE\"]!=\"\")]"
   ]
  },
  {
   "cell_type": "code",
   "execution_count": null,
   "metadata": {},
   "outputs": [],
   "source": [
    "length= len(MSR_Fran_Trends)\n",
    "MSR_Fran_Trends[\"Record_ID\"]=range(1,length+1)"
   ]
  },
  {
   "cell_type": "code",
   "execution_count": null,
   "metadata": {},
   "outputs": [],
   "source": [
    "#saving into csv file\n",
    "MSR_Fran_Trends.to_csv(path_PTB+\"MSR_Fran_Trends.csv\",index=False)"
   ]
  },
  {
   "cell_type": "markdown",
   "metadata": {},
   "source": [
    "### **MSR_Brand_Trends**"
   ]
  },
  {
   "cell_type": "code",
   "execution_count": null,
   "metadata": {},
   "outputs": [],
   "source": [
    "MSR_Brand_Trends=PTB_Perf_Trends_final.loc[(PTB_Perf_Trends_final[\"CP_SUBBRAND\"]==\"\") & (PTB_Perf_Trends_final[\"CP_BRAND\"]!=\"\")]"
   ]
  },
  {
   "cell_type": "code",
   "execution_count": null,
   "metadata": {},
   "outputs": [],
   "source": [
    "length= len(MSR_Brand_Trends)\n",
    "MSR_Brand_Trends[\"Record_ID\"]=range(1,length+1)"
   ]
  },
  {
   "cell_type": "code",
   "execution_count": null,
   "metadata": {},
   "outputs": [],
   "source": [
    "#saving into csv file\n",
    "MSR_Brand_Trends.to_csv(path_PTB+\"MSR_Brand_Trends.csv\",index=False)"
   ]
  },
  {
   "cell_type": "markdown",
   "metadata": {},
   "source": [
    "### **MSR_SubBrand_Trends**"
   ]
  },
  {
   "cell_type": "code",
   "execution_count": null,
   "metadata": {},
   "outputs": [],
   "source": [
    "MSR_SubBrand_Trends=PTB_Perf_Trends_final.loc[(PTB_Perf_Trends_final[\"CP_SUBBRAND\"]!=\"\")]"
   ]
  },
  {
   "cell_type": "code",
   "execution_count": null,
   "metadata": {},
   "outputs": [],
   "source": [
    "length= len(MSR_SubBrand_Trends)\n",
    "MSR_SubBrand_Trends[\"Record_ID\"]=range(1,length+1)"
   ]
  },
  {
   "cell_type": "code",
   "execution_count": null,
   "metadata": {},
   "outputs": [],
   "source": [
    "#saving into csv file\n",
    "MSR_SubBrand_Trends.to_csv(path_PTB+\"MSR_SubBrand_Trends.csv\",index=False)"
   ]
  },
  {
   "cell_type": "code",
   "execution_count": null,
   "metadata": {},
   "outputs": [],
   "source": []
  },
  {
   "cell_type": "code",
   "execution_count": null,
   "metadata": {},
   "outputs": [],
   "source": []
  },
  {
   "cell_type": "code",
   "execution_count": null,
   "metadata": {},
   "outputs": [],
   "source": []
  },
  {
   "cell_type": "code",
   "execution_count": null,
   "metadata": {},
   "outputs": [],
   "source": []
  },
  {
   "cell_type": "code",
   "execution_count": null,
   "metadata": {},
   "outputs": [],
   "source": []
  },
  {
   "cell_type": "markdown",
   "metadata": {},
   "source": [
    "# BW"
   ]
  },
  {
   "cell_type": "code",
   "execution_count": null,
   "metadata": {},
   "outputs": [],
   "source": [
    "# path to store OuMWut files\n",
    "\n",
    "path_BW=\"//falmumapp34/Nielsen Connect Transition & Maintenance (20-SCP-3650)/05. Output Data/5P Output/BW/\""
   ]
  },
  {
   "cell_type": "code",
   "execution_count": null,
   "metadata": {},
   "outputs": [],
   "source": [
    "Data_5p_BW=Data_5p.copy()"
   ]
  },
  {
   "cell_type": "markdown",
   "metadata": {},
   "source": [
    "**Filtering MW Data**"
   ]
  },
  {
   "cell_type": "code",
   "execution_count": null,
   "metadata": {},
   "outputs": [],
   "source": [
    "Data_5p_BW=Data_5p.loc[Data_5p[\"Category\"]==\"BW\"]"
   ]
  },
  {
   "cell_type": "markdown",
   "metadata": {},
   "source": [
    "## Performance Data"
   ]
  },
  {
   "cell_type": "markdown",
   "metadata": {},
   "source": [
    "### **Summary**"
   ]
  },
  {
   "cell_type": "code",
   "execution_count": null,
   "metadata": {},
   "outputs": [],
   "source": [
    "Perf_Markets=[\"Ahold\",\"Alb/Sfy\",\"BJs\",\"CVS\",\"Dollar General\",\"Family Dollar\",\"Giant Eagle\",\"Kmart\",\"Meijer\",\"Publix\",\n",
    "                     \"Rite Aid\",\"Shoprite\",\"Target\",\"US AOC\",\"US Drug\",\"US Food\",\"Walgreens\",\"Walmart\",\"Wegmans\"]"
   ]
  },
  {
   "cell_type": "code",
   "execution_count": null,
   "metadata": {},
   "outputs": [],
   "source": [
    "BW_Perf_Summary= Data_5p_BW[Data_5p_BW[\"Facts\"].isin(Perf_Summ_Facts)]\n",
    "BW_Perf_Summary= BW_Perf_Summary[BW_Perf_Summary[\"Markets\"].isin(Perf_Markets)]"
   ]
  },
  {
   "cell_type": "code",
   "execution_count": null,
   "metadata": {},
   "outputs": [],
   "source": [
    "print(len(Perf_Markets),len(set(BW_Perf_Summary[\"Markets\"])))"
   ]
  },
  {
   "cell_type": "markdown",
   "metadata": {},
   "source": [
    "**Fact Mapping**"
   ]
  },
  {
   "cell_type": "code",
   "execution_count": null,
   "metadata": {},
   "outputs": [],
   "source": [
    "BW_Perf_Summary[\"Facts\"].replace(Perf_Summ_Fact_Mapping,inplace=True)"
   ]
  },
  {
   "cell_type": "code",
   "execution_count": null,
   "metadata": {
    "scrolled": true
   },
   "outputs": [],
   "source": [
    "BW_Perf_Summary.head()"
   ]
  },
  {
   "cell_type": "markdown",
   "metadata": {},
   "source": [
    "**Column name Change**"
   ]
  },
  {
   "cell_type": "code",
   "execution_count": null,
   "metadata": {},
   "outputs": [],
   "source": [
    "BW_Perf_Summary.rename(columns={\"Markets\":\"MKT\",\"Products\":\"PROD\",\"Manufacturer\":\"CP_MANUFACTURER\",\n",
    "                                \"Franchise\":\"CP_FRANCHISE\",\"Brand\":\"CP_BRAND\",\"SubBrand\":\"CP_SUBBRAND\"},inplace=True)"
   ]
  },
  {
   "cell_type": "code",
   "execution_count": null,
   "metadata": {},
   "outputs": [],
   "source": [
    "BW_Perf_Summary.head()"
   ]
  },
  {
   "cell_type": "code",
   "execution_count": null,
   "metadata": {},
   "outputs": [],
   "source": [
    "Time_Period=list(BW_Perf_Summary.columns[25:26])+list(BW_Perf_Summary.columns[15:17])+list(BW_Perf_Summary.columns[13:14])+list(BW_Perf_Summary.columns[9:10])"
   ]
  },
  {
   "cell_type": "code",
   "execution_count": null,
   "metadata": {
    "scrolled": true
   },
   "outputs": [],
   "source": [
    "Time_Period=Perf_Summ_Time_Period\n",
    "print(Time_Period)"
   ]
  },
  {
   "cell_type": "markdown",
   "metadata": {},
   "source": [
    "**Moving Time Period to Rows and Facts to Columns**"
   ]
  },
  {
   "cell_type": "code",
   "execution_count": null,
   "metadata": {},
   "outputs": [],
   "source": [
    "df1=pd.melt(BW_Perf_Summary, id_vars =[\"MKT\",\"PROD\",\"CP_MANUFACTURER\",\"CP_FRANCHISE\",\"CP_BRAND\",\"CP_SUBBRAND\",\"Facts\"], value_vars =Time_Period,var_name=\"Time_Period\")\n",
    "\n",
    "df1[\"value\"]=df1[\"value\"].apply(pd.to_numeric)"
   ]
  },
  {
   "cell_type": "code",
   "execution_count": null,
   "metadata": {},
   "outputs": [],
   "source": [
    "df2=df1.pivot_table(index=['MKT','PROD', 'CP_MANUFACTURER', 'CP_FRANCHISE', 'CP_BRAND','CP_SUBBRAND','Time_Period'],columns='Facts')\n",
    "\n",
    "df2.columns=df2.columns.droplevel().rename(None)\n",
    "df2.reset_index(inplace =True)"
   ]
  },
  {
   "cell_type": "code",
   "execution_count": null,
   "metadata": {},
   "outputs": [],
   "source": [
    "from pandas.api.types import CategoricalDtype\n",
    "\n",
    "Time_Period_order = CategoricalDtype(\n",
    "    Time_Period, \n",
    "    ordered=True\n",
    ")\n",
    "\n",
    "df2['Time_Period'] = df2['Time_Period'].astype(Time_Period_order)\n",
    "\n",
    "df2.sort_values(['MKT','PROD','Time_Period'],inplace=True)"
   ]
  },
  {
   "cell_type": "code",
   "execution_count": null,
   "metadata": {},
   "outputs": [],
   "source": [
    "df2.head()"
   ]
  },
  {
   "cell_type": "code",
   "execution_count": null,
   "metadata": {},
   "outputs": [],
   "source": [
    "final_column_sorting=['MKT', 'PROD', 'CP_MANUFACTURER', 'CP_FRANCHISE', 'CP_BRAND','CP_SUBBRAND', 'Time_Period',\n",
    "                      \"Doll_Shr\",\"Doll_Shr_Chg\",\"Base_Doll_Shr\",\"Base_Doll_Shr_Chg\",\"Incr_Doll_Shr\",\"Incr_Doll_Shr_Chg\",\n",
    "                      \"Dollars\",\"Dollars_Chg\",\"Store_Selling\",\"Store_Selling_Chg\",\"Cum_Distri_Pts\",\"Cum_Distri_Pts_Chg\",\n",
    "                      \"CC_RASP\",\"CC_RASP_Chg\",\"CC_Base_RASP\",\"CC_Base_RASP_Chg\",\"CC_Promo_RASP\",\"CC_Promo_RASP_Chg\",\n",
    "                      \"Prcnt_EQUnits_Any_Promo\",\"Prcnt_EQUnits_Any_Promo_Chg\",\"QS_ACV_cum\",\"QS_ACV_Chg_cum\",\"Prcnt_ACV_TPR_cum\",\n",
    "                      \"Prcnt_ACV_TPR_Chg_cum\"\n",
    "                      ]\n",
    "BW_Perf_Summary_final=df2[final_column_sorting]"
   ]
  },
  {
   "cell_type": "code",
   "execution_count": null,
   "metadata": {},
   "outputs": [],
   "source": [
    "BW_Perf_Summary_final.head()"
   ]
  },
  {
   "cell_type": "markdown",
   "metadata": {},
   "source": [
    "### **MSR_Cat_Summary**"
   ]
  },
  {
   "cell_type": "code",
   "execution_count": null,
   "metadata": {},
   "outputs": [],
   "source": [
    "MSR_Cat_Summary=BW_Perf_Summary_final.loc[(BW_Perf_Summary_final[\"CP_SUBBRAND\"]==\"\") & (BW_Perf_Summary_final[\"CP_BRAND\"]==\"\")&(BW_Perf_Summary_final[\"CP_FRANCHISE\"]==\"\")&(BW_Perf_Summary_final[\"CP_MANUFACTURER\"].isin([\"\",\"MALE\",\"FEMALE\"]))]"
   ]
  },
  {
   "cell_type": "code",
   "execution_count": null,
   "metadata": {},
   "outputs": [],
   "source": [
    "length= len(MSR_Cat_Summary)\n",
    "MSR_Cat_Summary[\"Record_ID\"]=range(1,length+1)"
   ]
  },
  {
   "cell_type": "code",
   "execution_count": null,
   "metadata": {},
   "outputs": [],
   "source": [
    "MSR_Cat_Summary.head(3)"
   ]
  },
  {
   "cell_type": "code",
   "execution_count": null,
   "metadata": {},
   "outputs": [],
   "source": [
    "#saving into csv file\n",
    "MSR_Cat_Summary.to_csv(path_BW+\"MSR_Cat_Summary.csv\",index=False)"
   ]
  },
  {
   "cell_type": "markdown",
   "metadata": {},
   "source": [
    "### **MSR_Manu_Summary**"
   ]
  },
  {
   "cell_type": "code",
   "execution_count": null,
   "metadata": {},
   "outputs": [],
   "source": [
    "MSR_Manu_Summary=BW_Perf_Summary_final.loc[(BW_Perf_Summary_final[\"CP_SUBBRAND\"]==\"\") & (BW_Perf_Summary_final[\"CP_BRAND\"]==\"\")&(BW_Perf_Summary_final[\"CP_FRANCHISE\"]==\"\")&(BW_Perf_Summary_final[\"CP_MANUFACTURER\"]!=\"\")]"
   ]
  },
  {
   "cell_type": "code",
   "execution_count": null,
   "metadata": {},
   "outputs": [],
   "source": [
    "length= len(MSR_Manu_Summary)\n",
    "MSR_Manu_Summary[\"Record_ID\"]=range(1,length+1)"
   ]
  },
  {
   "cell_type": "code",
   "execution_count": null,
   "metadata": {},
   "outputs": [],
   "source": [
    "MSR_Manu_Summary.head(3)"
   ]
  },
  {
   "cell_type": "code",
   "execution_count": null,
   "metadata": {},
   "outputs": [],
   "source": [
    "#saving into csv file\n",
    "MSR_Manu_Summary.to_csv(path_BW+\"MSR_Manu_Summary.csv\",index=False)"
   ]
  },
  {
   "cell_type": "markdown",
   "metadata": {},
   "source": [
    "### **MSR_Fran_Summary**"
   ]
  },
  {
   "cell_type": "code",
   "execution_count": null,
   "metadata": {},
   "outputs": [],
   "source": [
    "MSR_Fran_Summary=BW_Perf_Summary_final.loc[(BW_Perf_Summary_final[\"CP_SUBBRAND\"]==\"\") & (BW_Perf_Summary_final[\"CP_BRAND\"]==\"\")&(BW_Perf_Summary_final[\"CP_FRANCHISE\"]!=\"\")]"
   ]
  },
  {
   "cell_type": "code",
   "execution_count": null,
   "metadata": {},
   "outputs": [],
   "source": [
    "length= len(MSR_Fran_Summary)\n",
    "MSR_Fran_Summary[\"Record_ID\"]=range(1,length+1)"
   ]
  },
  {
   "cell_type": "code",
   "execution_count": null,
   "metadata": {},
   "outputs": [],
   "source": [
    "MSR_Fran_Summary.head(3)"
   ]
  },
  {
   "cell_type": "code",
   "execution_count": null,
   "metadata": {},
   "outputs": [],
   "source": [
    "#saving into csv file\n",
    "MSR_Fran_Summary.to_csv(path_BW+\"MSR_Fran_Summary.csv\",index=False)"
   ]
  },
  {
   "cell_type": "markdown",
   "metadata": {},
   "source": [
    "### **MSR_Brand_Summary**"
   ]
  },
  {
   "cell_type": "code",
   "execution_count": null,
   "metadata": {},
   "outputs": [],
   "source": [
    "MSR_Brand_Summary=BW_Perf_Summary_final.loc[(BW_Perf_Summary_final[\"CP_SUBBRAND\"]==\"\") & (BW_Perf_Summary_final[\"CP_BRAND\"]!=\"\")]"
   ]
  },
  {
   "cell_type": "code",
   "execution_count": null,
   "metadata": {},
   "outputs": [],
   "source": [
    "length= len(MSR_Brand_Summary)\n",
    "MSR_Brand_Summary[\"Record_ID\"]=range(1,length+1)"
   ]
  },
  {
   "cell_type": "code",
   "execution_count": null,
   "metadata": {},
   "outputs": [],
   "source": [
    "MSR_Brand_Summary.head(3)"
   ]
  },
  {
   "cell_type": "code",
   "execution_count": null,
   "metadata": {},
   "outputs": [],
   "source": [
    "#saving into csv file\n",
    "MSR_Brand_Summary.to_csv(path_BW+\"MSR_Brand_Summary.csv\",index=False)"
   ]
  },
  {
   "cell_type": "markdown",
   "metadata": {},
   "source": [
    "### **MSR_SubBrand_Summary**"
   ]
  },
  {
   "cell_type": "code",
   "execution_count": null,
   "metadata": {},
   "outputs": [],
   "source": [
    "MSR_SubBrand_Summary=BW_Perf_Summary_final.loc[(BW_Perf_Summary_final[\"CP_SUBBRAND\"]!=\"\")]"
   ]
  },
  {
   "cell_type": "code",
   "execution_count": null,
   "metadata": {},
   "outputs": [],
   "source": [
    "length= len(MSR_SubBrand_Summary)\n",
    "MSR_SubBrand_Summary[\"Record_ID\"]=range(1,length+1)"
   ]
  },
  {
   "cell_type": "code",
   "execution_count": null,
   "metadata": {},
   "outputs": [],
   "source": [
    "MSR_SubBrand_Summary.head(3)"
   ]
  },
  {
   "cell_type": "code",
   "execution_count": null,
   "metadata": {},
   "outputs": [],
   "source": [
    "#saving into csv file\n",
    "MSR_SubBrand_Summary.to_csv(path_BW+\"MSR_SubBrand_Summary.csv\",index=False)"
   ]
  },
  {
   "cell_type": "code",
   "execution_count": null,
   "metadata": {},
   "outputs": [],
   "source": []
  },
  {
   "cell_type": "markdown",
   "metadata": {},
   "source": [
    " "
   ]
  },
  {
   "cell_type": "markdown",
   "metadata": {},
   "source": [
    "### **Trends**"
   ]
  },
  {
   "cell_type": "markdown",
   "metadata": {},
   "source": [
    "**Fact and Market Selection**"
   ]
  },
  {
   "cell_type": "code",
   "execution_count": null,
   "metadata": {},
   "outputs": [],
   "source": [
    "Perf_Markets=[\"Ahold\",\"Alb/Sfy\",\"BJs\",\"CVS\",\"Dollar General\",\"Family Dollar\",\"Giant Eagle\",\"Kmart\",\"Meijer\",\"Publix\",\n",
    "                     \"Rite Aid\",\"Shoprite\",\"Target\",\"US AOC\",\"US Drug\",\"US Food\",\"Walgreens\",\"Walmart\",\"Wegmans\"]"
   ]
  },
  {
   "cell_type": "code",
   "execution_count": null,
   "metadata": {},
   "outputs": [],
   "source": [
    "BW_Perf_Trends= Data_5p_BW[Data_5p_BW[\"Facts\"].isin(Perf_Trend_Facts)]\n",
    "BW_Perf_Trends= BW_Perf_Trends[BW_Perf_Trends[\"Markets\"].isin(Perf_Markets)]"
   ]
  },
  {
   "cell_type": "code",
   "execution_count": null,
   "metadata": {},
   "outputs": [],
   "source": [
    "print(len(Perf_Markets),len(set(BW_Perf_Trends[\"Markets\"])))"
   ]
  },
  {
   "cell_type": "markdown",
   "metadata": {},
   "source": [
    "**Fact Mapping**"
   ]
  },
  {
   "cell_type": "code",
   "execution_count": null,
   "metadata": {},
   "outputs": [],
   "source": [
    "BW_Perf_Trends[\"Facts\"].replace(Perf_Trend_Fact_Mapping,inplace=True)"
   ]
  },
  {
   "cell_type": "code",
   "execution_count": null,
   "metadata": {},
   "outputs": [],
   "source": [
    "BW_Perf_Trends.head()"
   ]
  },
  {
   "cell_type": "markdown",
   "metadata": {},
   "source": [
    "**Column name Change**"
   ]
  },
  {
   "cell_type": "code",
   "execution_count": null,
   "metadata": {},
   "outputs": [],
   "source": [
    "BW_Perf_Trends.rename(columns={\"Markets\":\"MKT\",\"Products\":\"PROD\",\"Manufacturer\":\"CP_MANUFACTURER\",\n",
    "                                \"Franchise\":\"CP_FRANCHISE\",\"Brand\":\"CP_BRAND\",\"SubBrand\":\"CP_SUBBRAND\"},inplace=True)"
   ]
  },
  {
   "cell_type": "code",
   "execution_count": null,
   "metadata": {},
   "outputs": [],
   "source": [
    "BW_Perf_Trends.head()"
   ]
  },
  {
   "cell_type": "code",
   "execution_count": null,
   "metadata": {
    "scrolled": true
   },
   "outputs": [],
   "source": [
    "Time_Period=Perf_Trend_Time_Period\n",
    "print(Time_Period)"
   ]
  },
  {
   "cell_type": "markdown",
   "metadata": {},
   "source": [
    "**Moving Time Period to Rows and Facts to Columns**"
   ]
  },
  {
   "cell_type": "code",
   "execution_count": null,
   "metadata": {},
   "outputs": [],
   "source": [
    "df1=pd.melt(BW_Perf_Trends, id_vars =[\"MKT\",\"PROD\",\"CP_MANUFACTURER\",\"CP_FRANCHISE\",\"CP_BRAND\",\"CP_SUBBRAND\",\"Facts\"], value_vars =Time_Period,var_name=\"Time_Period\")\n",
    "\n",
    "df1[\"value\"]=df1[\"value\"].apply(pd.to_numeric)"
   ]
  },
  {
   "cell_type": "code",
   "execution_count": null,
   "metadata": {},
   "outputs": [],
   "source": [
    "df2=df1.pivot_table(index=['MKT','PROD', 'CP_MANUFACTURER', 'CP_FRANCHISE', 'CP_BRAND','CP_SUBBRAND','Time_Period'],columns='Facts')\n",
    "\n",
    "df2.columns=df2.columns.droplevel().rename(None)\n",
    "df2.reset_index(inplace =True)"
   ]
  },
  {
   "cell_type": "code",
   "execution_count": null,
   "metadata": {},
   "outputs": [],
   "source": [
    "from pandas.api.types import CategoricalDtype\n",
    "\n",
    "Time_Period_order = CategoricalDtype(\n",
    "    Time_Period, \n",
    "    ordered=True\n",
    ")\n",
    "\n",
    "df2['Time_Period'] = df2['Time_Period'].astype(Time_Period_order)\n",
    "\n",
    "df2.sort_values(['MKT','PROD','Time_Period'],inplace=True)"
   ]
  },
  {
   "cell_type": "code",
   "execution_count": null,
   "metadata": {
    "scrolled": true
   },
   "outputs": [],
   "source": [
    "df2.head()"
   ]
  },
  {
   "cell_type": "code",
   "execution_count": null,
   "metadata": {},
   "outputs": [],
   "source": [
    "df2[[\"PRODUCT_CODE\",\"CP_CATEGORY\",\"CP_SEGMENT\"]]=\"\"\n",
    "\n",
    "final_column_sorting=[\"MKT\",\"PROD\",\"PRODUCT_CODE\",\"CP_CATEGORY\",\"CP_SEGMENT\",\"CP_MANUFACTURER\",\"CP_FRANCHISE\",\"CP_BRAND\",\n",
    "                      \"CP_SUBBRAND\",\"Time_Period\",\n",
    "                        \"Doll_Shr\",\"Base_Doll_Shr\",\"Incr_Doll_Shr\",\"Dollars\",\"Base_Dollars\",\"Incr_Dollars\",\"EQ_Shr\",\n",
    "                        \"Base_EQ_Shr\",\"Incr_EQ_Shr\",\"EQ_Units\",\"Base_EQ_Units\",\"INcr_EQ_Units\"\n",
    "                      ]\n",
    "BW_Perf_Trends_final=df2[final_column_sorting]"
   ]
  },
  {
   "cell_type": "code",
   "execution_count": null,
   "metadata": {},
   "outputs": [],
   "source": [
    "BW_Perf_Trends_final.head()"
   ]
  },
  {
   "cell_type": "markdown",
   "metadata": {},
   "source": [
    "### **MSR_Manu_Trends**"
   ]
  },
  {
   "cell_type": "code",
   "execution_count": null,
   "metadata": {},
   "outputs": [],
   "source": [
    "MSR_Manu_Trends=BW_Perf_Trends_final.loc[(BW_Perf_Trends_final[\"CP_SUBBRAND\"]==\"\") & (BW_Perf_Trends_final[\"CP_BRAND\"]==\"\")&(BW_Perf_Trends_final[\"CP_FRANCHISE\"]==\"\")&(BW_Perf_Trends_final[\"CP_MANUFACTURER\"]!=\"\")]"
   ]
  },
  {
   "cell_type": "code",
   "execution_count": null,
   "metadata": {},
   "outputs": [],
   "source": [
    "length= len(MSR_Manu_Trends)\n",
    "MSR_Manu_Trends[\"Record_ID\"]=range(1,length+1)"
   ]
  },
  {
   "cell_type": "code",
   "execution_count": null,
   "metadata": {},
   "outputs": [],
   "source": [
    "MSR_Manu_Trends.head()"
   ]
  },
  {
   "cell_type": "code",
   "execution_count": null,
   "metadata": {},
   "outputs": [],
   "source": [
    "#saving into csv file\n",
    "MSR_Manu_Trends.to_csv(path_BW+\"MSR_Manu_Trends.csv\",index=False)"
   ]
  },
  {
   "cell_type": "markdown",
   "metadata": {},
   "source": [
    "### **MSR_Fran_Trends**"
   ]
  },
  {
   "cell_type": "code",
   "execution_count": null,
   "metadata": {},
   "outputs": [],
   "source": [
    "MSR_Fran_Trends=BW_Perf_Trends_final.loc[(BW_Perf_Trends_final[\"CP_SUBBRAND\"]==\"\") & (BW_Perf_Trends_final[\"CP_BRAND\"]==\"\")&(BW_Perf_Trends_final[\"CP_FRANCHISE\"]!=\"\")]"
   ]
  },
  {
   "cell_type": "code",
   "execution_count": null,
   "metadata": {},
   "outputs": [],
   "source": [
    "length= len(MSR_Fran_Trends)\n",
    "MSR_Fran_Trends[\"Record_ID\"]=range(1,length+1)"
   ]
  },
  {
   "cell_type": "code",
   "execution_count": null,
   "metadata": {},
   "outputs": [],
   "source": [
    "MSR_Fran_Trends.head(3)"
   ]
  },
  {
   "cell_type": "code",
   "execution_count": null,
   "metadata": {},
   "outputs": [],
   "source": [
    "#saving into csv file\n",
    "MSR_Fran_Trends.to_csv(path_BW+\"MSR_Fran_Trends.csv\",index=False)"
   ]
  },
  {
   "cell_type": "markdown",
   "metadata": {},
   "source": [
    "### **MSR_Brand_Trends**"
   ]
  },
  {
   "cell_type": "code",
   "execution_count": null,
   "metadata": {},
   "outputs": [],
   "source": [
    "MSR_Brand_Trends=BW_Perf_Trends_final.loc[(BW_Perf_Trends_final[\"CP_SUBBRAND\"]==\"\") & (BW_Perf_Trends_final[\"CP_BRAND\"]!=\"\")]"
   ]
  },
  {
   "cell_type": "code",
   "execution_count": null,
   "metadata": {},
   "outputs": [],
   "source": [
    "length= len(MSR_Brand_Trends)\n",
    "MSR_Brand_Trends[\"Record_ID\"]=range(1,length+1)"
   ]
  },
  {
   "cell_type": "code",
   "execution_count": null,
   "metadata": {},
   "outputs": [],
   "source": [
    "MSR_Brand_Trends.head(3)"
   ]
  },
  {
   "cell_type": "code",
   "execution_count": null,
   "metadata": {},
   "outputs": [],
   "source": [
    "#saving into csv file\n",
    "MSR_Brand_Trends.to_csv(path_BW+\"MSR_Brand_Trends.csv\",index=False)"
   ]
  },
  {
   "cell_type": "markdown",
   "metadata": {},
   "source": [
    "### **MSR_SubBrand_Trends**"
   ]
  },
  {
   "cell_type": "code",
   "execution_count": null,
   "metadata": {},
   "outputs": [],
   "source": [
    "MSR_SubBrand_Trends=BW_Perf_Trends_final.loc[(BW_Perf_Trends_final[\"CP_SUBBRAND\"]!=\"\")]"
   ]
  },
  {
   "cell_type": "code",
   "execution_count": null,
   "metadata": {},
   "outputs": [],
   "source": [
    "length= len(MSR_SubBrand_Trends)\n",
    "MSR_SubBrand_Trends[\"Record_ID\"]=range(1,length+1)"
   ]
  },
  {
   "cell_type": "code",
   "execution_count": null,
   "metadata": {},
   "outputs": [],
   "source": [
    "MSR_SubBrand_Trends.head(3)"
   ]
  },
  {
   "cell_type": "code",
   "execution_count": null,
   "metadata": {},
   "outputs": [],
   "source": [
    "#saving into csv file\n",
    "MSR_SubBrand_Trends.to_csv(path_BW+\"MSR_SubBrand_Trends.csv\",index=False)"
   ]
  },
  {
   "cell_type": "code",
   "execution_count": null,
   "metadata": {},
   "outputs": [],
   "source": []
  },
  {
   "cell_type": "code",
   "execution_count": null,
   "metadata": {},
   "outputs": [],
   "source": []
  },
  {
   "cell_type": "markdown",
   "metadata": {},
   "source": [
    "# BAR"
   ]
  },
  {
   "cell_type": "code",
   "execution_count": null,
   "metadata": {},
   "outputs": [],
   "source": [
    "# path to store OuMWut files\n",
    "\n",
    "path_BAR=\"//falmumapp34/Nielsen Connect Transition & Maintenance (20-SCP-3650)/05. Output Data/5P Output/BAR/\""
   ]
  },
  {
   "cell_type": "code",
   "execution_count": null,
   "metadata": {},
   "outputs": [],
   "source": [
    "Data_5p_BAR=Data_5p.copy()"
   ]
  },
  {
   "cell_type": "markdown",
   "metadata": {},
   "source": [
    "**Filtering MW Data**"
   ]
  },
  {
   "cell_type": "code",
   "execution_count": null,
   "metadata": {},
   "outputs": [],
   "source": [
    "Data_5p_BAR=Data_5p.loc[Data_5p[\"Category\"]==\"BAR\"]"
   ]
  },
  {
   "cell_type": "markdown",
   "metadata": {},
   "source": [
    "## Performance Data"
   ]
  },
  {
   "cell_type": "markdown",
   "metadata": {},
   "source": [
    "### **Summary**"
   ]
  },
  {
   "cell_type": "code",
   "execution_count": null,
   "metadata": {},
   "outputs": [],
   "source": [
    "Perf_Markets=[\"Ahold\",\"Alb/Sfy\",\"BJs\",\"CVS\",\"Dollar General\",\"Family Dollar\",\"Kmart\",\"Publix\",\n",
    "              \"Rite Aid\",\"Sams\",\"Shoprite\",\"Target\",\"US AOC\",\"US Drug\",\"US Food\",\"Walgreens\",\"Walmart\"]"
   ]
  },
  {
   "cell_type": "code",
   "execution_count": null,
   "metadata": {},
   "outputs": [],
   "source": [
    "BAR_Perf_Summary= Data_5p_BAR[Data_5p_BAR[\"Facts\"].isin(Perf_Summ_Facts)]\n",
    "BAR_Perf_Summary= BAR_Perf_Summary[BAR_Perf_Summary[\"Markets\"].isin(Perf_Markets)]"
   ]
  },
  {
   "cell_type": "code",
   "execution_count": null,
   "metadata": {},
   "outputs": [],
   "source": [
    "print(len(Perf_Markets),len(set(BAR_Perf_Summary[\"Markets\"])))"
   ]
  },
  {
   "cell_type": "markdown",
   "metadata": {},
   "source": [
    "**Fact Mapping**"
   ]
  },
  {
   "cell_type": "code",
   "execution_count": null,
   "metadata": {},
   "outputs": [],
   "source": [
    "BAR_Perf_Summary[\"Facts\"].replace(Perf_Summ_Fact_Mapping,inplace=True)"
   ]
  },
  {
   "cell_type": "code",
   "execution_count": null,
   "metadata": {},
   "outputs": [],
   "source": [
    "BAR_Perf_Summary.head()"
   ]
  },
  {
   "cell_type": "markdown",
   "metadata": {},
   "source": [
    "**Column name Change**"
   ]
  },
  {
   "cell_type": "code",
   "execution_count": null,
   "metadata": {},
   "outputs": [],
   "source": [
    "BAR_Perf_Summary.rename(columns={\"Markets\":\"MKT\",\"Products\":\"PROD\",\"Manufacturer\":\"CP_MANUFACTURER\",\n",
    "                                \"Franchise\":\"CP_FRANCHISE\",\"Brand\":\"CP_BRAND\",\"SubBrand\":\"CP_SUBBRAND\"},inplace=True)"
   ]
  },
  {
   "cell_type": "code",
   "execution_count": null,
   "metadata": {},
   "outputs": [],
   "source": [
    "BAR_Perf_Summary.head()"
   ]
  },
  {
   "cell_type": "code",
   "execution_count": null,
   "metadata": {
    "scrolled": true
   },
   "outputs": [],
   "source": [
    "Time_Period=Perf_Summ_Time_Period\n",
    "print(Time_Period)"
   ]
  },
  {
   "cell_type": "markdown",
   "metadata": {},
   "source": [
    "**Moving Time Period to Rows and Facts to Columns**"
   ]
  },
  {
   "cell_type": "code",
   "execution_count": null,
   "metadata": {},
   "outputs": [],
   "source": [
    "df1=pd.melt(BAR_Perf_Summary, id_vars =[\"MKT\",\"PROD\",\"CP_MANUFACTURER\",\"CP_FRANCHISE\",\"CP_BRAND\",\"CP_SUBBRAND\",\"Facts\"], value_vars =Time_Period,var_name=\"Time_Period\")\n",
    "\n",
    "df1[\"value\"]=df1[\"value\"].apply(pd.to_numeric)"
   ]
  },
  {
   "cell_type": "code",
   "execution_count": null,
   "metadata": {},
   "outputs": [],
   "source": [
    "df2=df1.pivot_table(index=['MKT','PROD', 'CP_MANUFACTURER', 'CP_FRANCHISE', 'CP_BRAND','CP_SUBBRAND','Time_Period'],columns='Facts')\n",
    "\n",
    "df2.columns=df2.columns.droplevel().rename(None)\n",
    "df2.reset_index(inplace =True)"
   ]
  },
  {
   "cell_type": "code",
   "execution_count": null,
   "metadata": {},
   "outputs": [],
   "source": [
    "from pandas.api.types import CategoricalDtype\n",
    "\n",
    "Time_Period_order = CategoricalDtype(\n",
    "    Time_Period, \n",
    "    ordered=True\n",
    ")\n",
    "\n",
    "df2['Time_Period'] = df2['Time_Period'].astype(Time_Period_order)\n",
    "\n",
    "df2.sort_values(['MKT','PROD','Time_Period'],inplace=True)"
   ]
  },
  {
   "cell_type": "code",
   "execution_count": null,
   "metadata": {},
   "outputs": [],
   "source": [
    "df2.head()"
   ]
  },
  {
   "cell_type": "code",
   "execution_count": null,
   "metadata": {},
   "outputs": [],
   "source": [
    "final_column_sorting=['MKT', 'PROD', 'CP_MANUFACTURER', 'CP_FRANCHISE', 'CP_BRAND','CP_SUBBRAND', 'Time_Period',\n",
    "                      \"Doll_Shr\",\"Doll_Shr_Chg\",\"Base_Doll_Shr\",\"Base_Doll_Shr_Chg\",\"Incr_Doll_Shr\",\"Incr_Doll_Shr_Chg\",\n",
    "                      \"Dollars\",\"Dollars_Chg\",\"Store_Selling\",\"Store_Selling_Chg\",\"Cum_Distri_Pts\",\"Cum_Distri_Pts_Chg\",\n",
    "                      \"CC_RASP\",\"CC_RASP_Chg\",\"CC_Base_RASP\",\"CC_Base_RASP_Chg\",\"CC_Promo_RASP\",\"CC_Promo_RASP_Chg\",\n",
    "                      \"Prcnt_EQUnits_Any_Promo\",\"Prcnt_EQUnits_Any_Promo_Chg\",\"QS_ACV_cum\",\"QS_ACV_Chg_cum\",\"Prcnt_ACV_TPR_cum\",\n",
    "                      \"Prcnt_ACV_TPR_Chg_cum\"\n",
    "                      ]\n",
    "BAR_Perf_Summary_final=df2[final_column_sorting]"
   ]
  },
  {
   "cell_type": "code",
   "execution_count": null,
   "metadata": {},
   "outputs": [],
   "source": [
    "BAR_Perf_Summary_final.head()"
   ]
  },
  {
   "cell_type": "markdown",
   "metadata": {},
   "source": [
    "### **MSR_Cat_Summary**"
   ]
  },
  {
   "cell_type": "code",
   "execution_count": null,
   "metadata": {},
   "outputs": [],
   "source": [
    "MSR_Cat_Summary=BAR_Perf_Summary_final.loc[(BAR_Perf_Summary_final[\"CP_SUBBRAND\"]==\"\") & (BAR_Perf_Summary_final[\"CP_BRAND\"]==\"\")&(BAR_Perf_Summary_final[\"CP_FRANCHISE\"]==\"\")&(BAR_Perf_Summary_final[\"CP_MANUFACTURER\"]==\"\")]"
   ]
  },
  {
   "cell_type": "code",
   "execution_count": null,
   "metadata": {},
   "outputs": [],
   "source": [
    "length= len(MSR_Cat_Summary)\n",
    "MSR_Cat_Summary[\"Record_ID\"]=range(1,length+1)"
   ]
  },
  {
   "cell_type": "code",
   "execution_count": null,
   "metadata": {},
   "outputs": [],
   "source": [
    "MSR_Cat_Summary.head(3)"
   ]
  },
  {
   "cell_type": "code",
   "execution_count": null,
   "metadata": {},
   "outputs": [],
   "source": [
    "#saving into csv file\n",
    "MSR_Cat_Summary.to_csv(path_BAR+\"MSR_Cat_Summary.csv\",index=False)"
   ]
  },
  {
   "cell_type": "markdown",
   "metadata": {},
   "source": [
    "### **MSR_Manu_Summary**"
   ]
  },
  {
   "cell_type": "code",
   "execution_count": null,
   "metadata": {},
   "outputs": [],
   "source": [
    "MSR_Manu_Summary=BAR_Perf_Summary_final.loc[(BAR_Perf_Summary_final[\"CP_SUBBRAND\"]==\"\") & (BAR_Perf_Summary_final[\"CP_BRAND\"]==\"\")&(BAR_Perf_Summary_final[\"CP_FRANCHISE\"]==\"\")&(BAR_Perf_Summary_final[\"CP_MANUFACTURER\"]!=\"\")]"
   ]
  },
  {
   "cell_type": "code",
   "execution_count": null,
   "metadata": {},
   "outputs": [],
   "source": [
    "length= len(MSR_Manu_Summary)\n",
    "MSR_Manu_Summary[\"Record_ID\"]=range(1,length+1)"
   ]
  },
  {
   "cell_type": "code",
   "execution_count": null,
   "metadata": {},
   "outputs": [],
   "source": [
    "MSR_Manu_Summary.head(3)"
   ]
  },
  {
   "cell_type": "code",
   "execution_count": null,
   "metadata": {},
   "outputs": [],
   "source": [
    "#saving into csv file\n",
    "MSR_Manu_Summary.to_csv(path_BAR+\"MSR_Manu_Summary.csv\",index=False)"
   ]
  },
  {
   "cell_type": "markdown",
   "metadata": {},
   "source": [
    "### **MSR_Fran_Summary**"
   ]
  },
  {
   "cell_type": "code",
   "execution_count": null,
   "metadata": {},
   "outputs": [],
   "source": [
    "MSR_Fran_Summary=BAR_Perf_Summary_final.loc[(BAR_Perf_Summary_final[\"CP_SUBBRAND\"]==\"\") & (BAR_Perf_Summary_final[\"CP_BRAND\"]==\"\")&(BAR_Perf_Summary_final[\"CP_FRANCHISE\"]!=\"\")]"
   ]
  },
  {
   "cell_type": "code",
   "execution_count": null,
   "metadata": {},
   "outputs": [],
   "source": [
    "length= len(MSR_Fran_Summary)\n",
    "MSR_Fran_Summary[\"Record_ID\"]=range(1,length+1)"
   ]
  },
  {
   "cell_type": "code",
   "execution_count": null,
   "metadata": {},
   "outputs": [],
   "source": [
    "MSR_Fran_Summary.head(3)"
   ]
  },
  {
   "cell_type": "code",
   "execution_count": null,
   "metadata": {},
   "outputs": [],
   "source": [
    "#saving into csv file\n",
    "MSR_Fran_Summary.to_csv(path_BAR+\"MSR_Fran_Summary.csv\",index=False)"
   ]
  },
  {
   "cell_type": "markdown",
   "metadata": {},
   "source": [
    "### **MSR_Brand_Summary**"
   ]
  },
  {
   "cell_type": "code",
   "execution_count": null,
   "metadata": {},
   "outputs": [],
   "source": [
    "MSR_Brand_Summary=BAR_Perf_Summary_final.loc[(BAR_Perf_Summary_final[\"CP_SUBBRAND\"]==\"\") & (BAR_Perf_Summary_final[\"CP_BRAND\"]!=\"\")]"
   ]
  },
  {
   "cell_type": "code",
   "execution_count": null,
   "metadata": {},
   "outputs": [],
   "source": [
    "length= len(MSR_Brand_Summary)\n",
    "MSR_Brand_Summary[\"Record_ID\"]=range(1,length+1)"
   ]
  },
  {
   "cell_type": "code",
   "execution_count": null,
   "metadata": {},
   "outputs": [],
   "source": [
    "MSR_Brand_Summary.head(3)"
   ]
  },
  {
   "cell_type": "code",
   "execution_count": null,
   "metadata": {},
   "outputs": [],
   "source": [
    "#saving into csv file\n",
    "MSR_Brand_Summary.to_csv(path_BAR+\"MSR_Brand_Summary.csv\",index=False)"
   ]
  },
  {
   "cell_type": "markdown",
   "metadata": {},
   "source": [
    "### **MSR_SubBrand_Summary**"
   ]
  },
  {
   "cell_type": "code",
   "execution_count": null,
   "metadata": {},
   "outputs": [],
   "source": [
    "MSR_SubBrand_Summary=BAR_Perf_Summary_final.loc[(BAR_Perf_Summary_final[\"CP_SUBBRAND\"]!=\"\")]"
   ]
  },
  {
   "cell_type": "code",
   "execution_count": null,
   "metadata": {},
   "outputs": [],
   "source": [
    "length= len(MSR_SubBrand_Summary)\n",
    "MSR_SubBrand_Summary[\"Record_ID\"]=range(1,length+1)"
   ]
  },
  {
   "cell_type": "code",
   "execution_count": null,
   "metadata": {},
   "outputs": [],
   "source": [
    "MSR_SubBrand_Summary.head(3)"
   ]
  },
  {
   "cell_type": "code",
   "execution_count": null,
   "metadata": {},
   "outputs": [],
   "source": [
    "#saving into csv file\n",
    "MSR_SubBrand_Summary.to_csv(path_BAR+\"MSR_SubBrand_Summary.csv\",index=False)"
   ]
  },
  {
   "cell_type": "code",
   "execution_count": null,
   "metadata": {},
   "outputs": [],
   "source": []
  },
  {
   "cell_type": "markdown",
   "metadata": {},
   "source": [
    " "
   ]
  },
  {
   "cell_type": "markdown",
   "metadata": {},
   "source": [
    "### **Trends**"
   ]
  },
  {
   "cell_type": "markdown",
   "metadata": {},
   "source": [
    "**Fact and Market Selection**"
   ]
  },
  {
   "cell_type": "code",
   "execution_count": null,
   "metadata": {},
   "outputs": [],
   "source": [
    "Perf_Markets=[\"Ahold\",\"Alb/Sfy\",\"BJs\",\"CVS\",\"Dollar General\",\"Family Dollar\",\"Kmart\",\"Publix\",\n",
    "              \"Rite Aid\",\"Sams\",\"Shoprite\",\"Target\",\"US AOC\",\"US Drug\",\"US Food\",\"Walgreens\",\"Walmart\"]"
   ]
  },
  {
   "cell_type": "code",
   "execution_count": null,
   "metadata": {},
   "outputs": [],
   "source": [
    "BAR_Perf_Trends= Data_5p_BAR[Data_5p_BAR[\"Facts\"].isin(Perf_Trend_Facts)]\n",
    "BAR_Perf_Trends= BAR_Perf_Trends[BAR_Perf_Trends[\"Markets\"].isin(Perf_Markets)]"
   ]
  },
  {
   "cell_type": "code",
   "execution_count": null,
   "metadata": {},
   "outputs": [],
   "source": [
    "print(len(Perf_Markets),len(set(BAR_Perf_Trends[\"Markets\"])))"
   ]
  },
  {
   "cell_type": "markdown",
   "metadata": {},
   "source": [
    "**Fact Mapping**"
   ]
  },
  {
   "cell_type": "code",
   "execution_count": null,
   "metadata": {},
   "outputs": [],
   "source": [
    "BAR_Perf_Trends[\"Facts\"].replace(Perf_Trend_Fact_Mapping,inplace=True)"
   ]
  },
  {
   "cell_type": "code",
   "execution_count": null,
   "metadata": {},
   "outputs": [],
   "source": [
    "BAR_Perf_Trends.head()"
   ]
  },
  {
   "cell_type": "markdown",
   "metadata": {},
   "source": [
    "**Column name Change**"
   ]
  },
  {
   "cell_type": "code",
   "execution_count": null,
   "metadata": {},
   "outputs": [],
   "source": [
    "BAR_Perf_Trends.rename(columns={\"Markets\":\"MKT\",\"Products\":\"PROD\",\"Manufacturer\":\"CP_MANUFACTURER\",\n",
    "                                \"Franchise\":\"CP_FRANCHISE\",\"Brand\":\"CP_BRAND\",\"SubBrand\":\"CP_SUBBRAND\"},inplace=True)"
   ]
  },
  {
   "cell_type": "code",
   "execution_count": null,
   "metadata": {},
   "outputs": [],
   "source": [
    "BAR_Perf_Trends.head()"
   ]
  },
  {
   "cell_type": "code",
   "execution_count": null,
   "metadata": {
    "scrolled": true
   },
   "outputs": [],
   "source": [
    "Time_Period=Perf_Trend_Time_Period\n",
    "print(Time_Period)"
   ]
  },
  {
   "cell_type": "markdown",
   "metadata": {},
   "source": [
    "**Moving Time Period to Rows and Facts to Columns**"
   ]
  },
  {
   "cell_type": "code",
   "execution_count": null,
   "metadata": {},
   "outputs": [],
   "source": [
    "df1=pd.melt(BAR_Perf_Trends, id_vars =[\"MKT\",\"PROD\",\"CP_MANUFACTURER\",\"CP_FRANCHISE\",\"CP_BRAND\",\"CP_SUBBRAND\",\"Facts\"], value_vars =Time_Period,var_name=\"Time_Period\")\n",
    "\n",
    "df1[\"value\"]=df1[\"value\"].apply(pd.to_numeric)"
   ]
  },
  {
   "cell_type": "code",
   "execution_count": null,
   "metadata": {},
   "outputs": [],
   "source": [
    "df2=df1.pivot_table(index=['MKT','PROD', 'CP_MANUFACTURER', 'CP_FRANCHISE', 'CP_BRAND','CP_SUBBRAND','Time_Period'],columns='Facts')\n",
    "\n",
    "df2.columns=df2.columns.droplevel().rename(None)\n",
    "df2.reset_index(inplace =True)"
   ]
  },
  {
   "cell_type": "code",
   "execution_count": null,
   "metadata": {},
   "outputs": [],
   "source": [
    "from pandas.api.types import CategoricalDtype\n",
    "\n",
    "Time_Period_order = CategoricalDtype(\n",
    "    Time_Period, \n",
    "    ordered=True\n",
    ")\n",
    "\n",
    "df2['Time_Period'] = df2['Time_Period'].astype(Time_Period_order)\n",
    "\n",
    "df2.sort_values(['MKT','PROD','Time_Period'],inplace=True)"
   ]
  },
  {
   "cell_type": "code",
   "execution_count": null,
   "metadata": {},
   "outputs": [],
   "source": [
    "df2[[\"PRODUCT_CODE\",\"CP_SEGMENT\",\"CP_SIZE_RANGE\"]]=\"\"\n",
    "\n",
    "final_column_sorting=[\"MKT\",\"PROD\",\"PRODUCT_CODE\",\"CP_SEGMENT\",\"CP_SIZE_RANGE\",\"CP_MANUFACTURER\",\"CP_FRANCHISE\",\n",
    "                      \"CP_BRAND\",\"CP_SUBBRAND\",\"Time_Period\",\n",
    "                        \"Doll_Shr\",\"Base_Doll_Shr\",\"Incr_Doll_Shr\",\"Dollars\",\"Base_Dollars\",\"Incr_Dollars\",\"EQ_Shr\",\n",
    "                        \"Base_EQ_Shr\",\"Incr_EQ_Shr\",\"EQ_Units\",\"Base_EQ_Units\",\"INcr_EQ_Units\"\n",
    "                      ]\n",
    "BAR_Perf_Trends_final=df2[final_column_sorting]"
   ]
  },
  {
   "cell_type": "code",
   "execution_count": null,
   "metadata": {},
   "outputs": [],
   "source": [
    "BAR_Perf_Trends_final.head()"
   ]
  },
  {
   "cell_type": "markdown",
   "metadata": {},
   "source": [
    "### **MSR_Manu_Trends**"
   ]
  },
  {
   "cell_type": "code",
   "execution_count": null,
   "metadata": {},
   "outputs": [],
   "source": [
    "MSR_Manu_Trends=BAR_Perf_Trends_final.loc[(BAR_Perf_Trends_final[\"CP_SUBBRAND\"]==\"\") & (BAR_Perf_Trends_final[\"CP_BRAND\"]==\"\")&(BAR_Perf_Trends_final[\"CP_FRANCHISE\"]==\"\")&(BAR_Perf_Trends_final[\"CP_MANUFACTURER\"]!=\"\")]"
   ]
  },
  {
   "cell_type": "code",
   "execution_count": null,
   "metadata": {},
   "outputs": [],
   "source": [
    "length= len(MSR_Manu_Trends)\n",
    "MSR_Manu_Trends[\"Record_ID\"]=range(1,length+1)"
   ]
  },
  {
   "cell_type": "code",
   "execution_count": null,
   "metadata": {},
   "outputs": [],
   "source": [
    "MSR_Manu_Trends.head()"
   ]
  },
  {
   "cell_type": "code",
   "execution_count": null,
   "metadata": {},
   "outputs": [],
   "source": [
    "#saving into csv file\n",
    "MSR_Manu_Trends.to_csv(path_BAR+\"MSR_Manu_Trends.csv\",index=False)"
   ]
  },
  {
   "cell_type": "markdown",
   "metadata": {},
   "source": [
    "### **MSR_Fran_Trends**"
   ]
  },
  {
   "cell_type": "code",
   "execution_count": null,
   "metadata": {},
   "outputs": [],
   "source": [
    "MSR_Fran_Trends=BAR_Perf_Trends_final.loc[(BAR_Perf_Trends_final[\"CP_SUBBRAND\"]==\"\") & (BAR_Perf_Trends_final[\"CP_BRAND\"]==\"\")&(BAR_Perf_Trends_final[\"CP_FRANCHISE\"]!=\"\")]"
   ]
  },
  {
   "cell_type": "code",
   "execution_count": null,
   "metadata": {},
   "outputs": [],
   "source": [
    "length= len(MSR_Fran_Trends)\n",
    "MSR_Fran_Trends[\"Record_ID\"]=range(1,length+1)"
   ]
  },
  {
   "cell_type": "code",
   "execution_count": null,
   "metadata": {},
   "outputs": [],
   "source": [
    "MSR_Fran_Trends.head(3)"
   ]
  },
  {
   "cell_type": "code",
   "execution_count": null,
   "metadata": {},
   "outputs": [],
   "source": [
    "#saving into csv file\n",
    "MSR_Fran_Trends.to_csv(path_BAR+\"MSR_Fran_Trends.csv\",index=False)"
   ]
  },
  {
   "cell_type": "markdown",
   "metadata": {},
   "source": [
    "### **MSR_Brand_Trends**"
   ]
  },
  {
   "cell_type": "code",
   "execution_count": null,
   "metadata": {},
   "outputs": [],
   "source": [
    "MSR_Brand_Trends=BAR_Perf_Trends_final.loc[(BAR_Perf_Trends_final[\"CP_SUBBRAND\"]==\"\") & (BAR_Perf_Trends_final[\"CP_BRAND\"]!=\"\")]"
   ]
  },
  {
   "cell_type": "code",
   "execution_count": null,
   "metadata": {},
   "outputs": [],
   "source": [
    "length= len(MSR_Brand_Trends)\n",
    "MSR_Brand_Trends[\"Record_ID\"]=range(1,length+1)"
   ]
  },
  {
   "cell_type": "code",
   "execution_count": null,
   "metadata": {},
   "outputs": [],
   "source": [
    "MSR_Brand_Trends.head(3)"
   ]
  },
  {
   "cell_type": "code",
   "execution_count": null,
   "metadata": {},
   "outputs": [],
   "source": [
    "#saving into csv file\n",
    "MSR_Brand_Trends.to_csv(path_BAR+\"MSR_Brand_Trends.csv\",index=False)"
   ]
  },
  {
   "cell_type": "markdown",
   "metadata": {},
   "source": [
    "### **MSR_SubBrand_Trends**"
   ]
  },
  {
   "cell_type": "code",
   "execution_count": null,
   "metadata": {},
   "outputs": [],
   "source": [
    "MSR_SubBrand_Trends=BAR_Perf_Trends_final.loc[(BAR_Perf_Trends_final[\"CP_SUBBRAND\"]!=\"\")]"
   ]
  },
  {
   "cell_type": "code",
   "execution_count": null,
   "metadata": {},
   "outputs": [],
   "source": [
    "length= len(MSR_SubBrand_Trends)\n",
    "MSR_SubBrand_Trends[\"Record_ID\"]=range(1,length+1)"
   ]
  },
  {
   "cell_type": "code",
   "execution_count": null,
   "metadata": {},
   "outputs": [],
   "source": [
    "MSR_SubBrand_Trends.head(3)"
   ]
  },
  {
   "cell_type": "code",
   "execution_count": null,
   "metadata": {},
   "outputs": [],
   "source": [
    "#saving into csv file\n",
    "MSR_SubBrand_Trends.to_csv(path_BAR+\"MSR_SubBrand_Trends.csv\",index=False)"
   ]
  },
  {
   "cell_type": "code",
   "execution_count": null,
   "metadata": {},
   "outputs": [],
   "source": []
  },
  {
   "cell_type": "code",
   "execution_count": null,
   "metadata": {},
   "outputs": [],
   "source": []
  },
  {
   "cell_type": "code",
   "execution_count": null,
   "metadata": {},
   "outputs": [],
   "source": []
  },
  {
   "cell_type": "markdown",
   "metadata": {},
   "source": [
    "# LHS"
   ]
  },
  {
   "cell_type": "code",
   "execution_count": null,
   "metadata": {},
   "outputs": [],
   "source": [
    "# path to store OuMWut files\n",
    "\n",
    "path_LHS=\"//falmumapp34/Nielsen Connect Transition & Maintenance (20-SCP-3650)/05. Output Data/5P Output/LHS/\""
   ]
  },
  {
   "cell_type": "code",
   "execution_count": null,
   "metadata": {},
   "outputs": [],
   "source": [
    "Data_5p_LHS=Data_5p.copy()"
   ]
  },
  {
   "cell_type": "markdown",
   "metadata": {},
   "source": [
    "**Filtering LHS Data**"
   ]
  },
  {
   "cell_type": "code",
   "execution_count": null,
   "metadata": {},
   "outputs": [],
   "source": [
    "Data_5p_LHS=Data_5p.loc[Data_5p[\"Category\"]==\"LHS\"]"
   ]
  },
  {
   "cell_type": "code",
   "execution_count": null,
   "metadata": {},
   "outputs": [],
   "source": [
    "Markets_lhs=[\"Ahold\",\"Alb/Sfy\",\"BJs\",\"CVS\",\"Dollar General\",\"Family Dollar\",\"Meijer\",\"Publix\",\"Rite Aid\",\n",
    "                       \"Sams\",\"Shoprite\",\"Target\",\"US AOC\",\"US Drug\",\"US Food\",\"Walgreens\",\"Walmart\"]"
   ]
  },
  {
   "cell_type": "code",
   "execution_count": null,
   "metadata": {},
   "outputs": [],
   "source": [
    "Data_5p_LHS=Data_5p_LHS[Data_5p_LHS[\"Markets\"].isin(Markets_lhs)]"
   ]
  },
  {
   "cell_type": "code",
   "execution_count": null,
   "metadata": {},
   "outputs": [],
   "source": [
    "Facts=list(set(Perf_Summ_Facts+Perf_Trend_Facts))"
   ]
  },
  {
   "cell_type": "code",
   "execution_count": null,
   "metadata": {},
   "outputs": [],
   "source": [
    "Data_5p_LHS=Data_5p_LHS[Data_5p_LHS[\"Facts\"].isin(Facts)]"
   ]
  },
  {
   "cell_type": "code",
   "execution_count": null,
   "metadata": {
    "scrolled": true
   },
   "outputs": [],
   "source": [
    "Data_5p_LHS[['ShareBasis','Franchise','Container','Brand','SubBrand']] = Data_5p_LHS['Products'].str.split('|',n=4,expand=True)\n",
    "\n",
    "Data_5p_LHS[[\"ShareBasis\",\"Franchise\",'Container',\"Brand\",\"SubBrand\"]]=Data_5p_LHS[[\"ShareBasis\",\"Franchise\",'Container',\"Brand\",\"SubBrand\"]].fillna(value=\"\")\n",
    "\n",
    "Data_5p_LHS = movecol(Data_5p_LHS, \n",
    "             cols_to_move=['ShareBasis','Franchise','Container','Brand','SubBrand'], \n",
    "             ref_col='Markets',\n",
    "             place='After')\n",
    "Data_5p_LHS.head(3)\n"
   ]
  },
  {
   "cell_type": "markdown",
   "metadata": {},
   "source": [
    "**Strip Columns**"
   ]
  },
  {
   "cell_type": "code",
   "execution_count": null,
   "metadata": {},
   "outputs": [],
   "source": [
    "cols=list(Data_5p_LHS.columns[0:9])\n",
    "Data_5p_LHS[cols]=Data_5p_LHS[cols].apply(lambda x : x.str.strip())"
   ]
  },
  {
   "cell_type": "code",
   "execution_count": null,
   "metadata": {},
   "outputs": [],
   "source": [
    "# taking only Refill and Pump\n",
    "Data_5p_LHS=Data_5p_LHS[Data_5p_LHS[\"Container\"].isin(['','REFILL','PUMP'])]"
   ]
  },
  {
   "cell_type": "code",
   "execution_count": null,
   "metadata": {},
   "outputs": [],
   "source": [
    "Data_5p_LHS[\"Frn\"]=\"\"\n",
    "for i in range(0,len(Data_5p_LHS)):\n",
    "    if Data_5p_LHS[\"Container\"].iloc[i]==\"\":\n",
    "        Data_5p_LHS[\"Frn\"].iloc[i]=\"\"\n",
    "    else:\n",
    "        Data_5p_LHS[\"Frn\"].iloc[i]=Data_5p_LHS[\"Franchise\"].iloc[i]+\" \" +Data_5p_LHS[\"Container\"].iloc[i]"
   ]
  },
  {
   "cell_type": "code",
   "execution_count": null,
   "metadata": {},
   "outputs": [],
   "source": [
    "Data_5p_LHS[\"Brn\"]=\"\"\n",
    "for i in range(0,len(Data_5p_LHS)):\n",
    "    if Data_5p_LHS[\"Brand\"].iloc[i]==\"\":\n",
    "        Data_5p_LHS[\"Brn\"].iloc[i]=\"\"\n",
    "    else:\n",
    "        Data_5p_LHS[\"Brn\"].iloc[i]=Data_5p_LHS[\"Brand\"].iloc[i]+\" \" +Data_5p_LHS[\"Container\"].iloc[i]"
   ]
  },
  {
   "cell_type": "code",
   "execution_count": null,
   "metadata": {},
   "outputs": [],
   "source": [
    "Data_5p_LHS[\"SubBrn\"]=\"\"\n",
    "for i in range(0,len(Data_5p_LHS)):\n",
    "    if Data_5p_LHS[\"SubBrand\"].iloc[i]==\"\":\n",
    "        Data_5p_LHS[\"SubBrn\"].iloc[i]=\"\"\n",
    "    else:\n",
    "        Data_5p_LHS[\"SubBrn\"].iloc[i]=Data_5p_LHS[\"SubBrand\"].iloc[i]+\" \" +Data_5p_LHS[\"Container\"].iloc[i]"
   ]
  },
  {
   "cell_type": "code",
   "execution_count": null,
   "metadata": {},
   "outputs": [],
   "source": [
    "Data_5p_LHS[\"Manufacturer\"]=Data_5p_LHS[\"Franchise\"]\n",
    "\n",
    "Data_5p_LHS[\"Franchise\"]=Data_5p_LHS[\"Frn\"]\n",
    "\n",
    "Data_5p_LHS[\"Brand\"]=Data_5p_LHS[\"Brn\"]\n",
    "\n",
    "Data_5p_LHS[\"SubBrand\"]=Data_5p_LHS[\"SubBrn\"]"
   ]
  },
  {
   "cell_type": "code",
   "execution_count": null,
   "metadata": {},
   "outputs": [],
   "source": [
    "cols=[\"Manufacturer\",\"Franchise\",\"Brand\",\"SubBrand\"]\n",
    "Data_5p_LHS[cols]=Data_5p_LHS[cols].apply(lambda x : x.str.strip())"
   ]
  },
  {
   "cell_type": "code",
   "execution_count": null,
   "metadata": {},
   "outputs": [],
   "source": [
    "# Data_5p_LHS=Data_5p_LHS[~Data_5p_LHS[\"Franchise\"].isin(['REFILL','PUMP'])]\n",
    "# Data_5p_LHS=Data_5p_LHS[~Data_5p_LHS[\"Brand\"].isin(['REFILL','PUMP'])]\n",
    "# Data_5p_LHS=Data_5p_LHS[~Data_5p_LHS[\"SubBrand\"].isin(['REFILL','PUMP'])]"
   ]
  },
  {
   "cell_type": "code",
   "execution_count": null,
   "metadata": {},
   "outputs": [],
   "source": []
  },
  {
   "cell_type": "markdown",
   "metadata": {},
   "source": [
    "## Performance Data"
   ]
  },
  {
   "cell_type": "markdown",
   "metadata": {},
   "source": [
    "### **Summary**"
   ]
  },
  {
   "cell_type": "code",
   "execution_count": null,
   "metadata": {},
   "outputs": [],
   "source": [
    "Perf_Summ_Markets_lhs=[\"Ahold\",\"Alb/Sfy\",\"BJs\",\"CVS\",\"Dollar General\",\"Family Dollar\",\"Meijer\",\"Publix\",\"Rite Aid\",\n",
    "                       \"Sams\",\"Shoprite\",\"Target\",\"US AOC\",\"US Drug\",\"US Food\",\"Walgreens\",\"Walmart\"]"
   ]
  },
  {
   "cell_type": "code",
   "execution_count": null,
   "metadata": {},
   "outputs": [],
   "source": [
    "LHS_Perf_Summary= Data_5p_LHS[Data_5p_LHS[\"Facts\"].isin(Perf_Summ_Facts)]\n",
    "LHS_Perf_Summary= LHS_Perf_Summary[LHS_Perf_Summary[\"Markets\"].isin(Perf_Summ_Markets_lhs)]"
   ]
  },
  {
   "cell_type": "code",
   "execution_count": null,
   "metadata": {},
   "outputs": [],
   "source": [
    "print(len(Perf_Summ_Markets_lhs),len(set(LHS_Perf_Summary[\"Markets\"])))"
   ]
  },
  {
   "cell_type": "markdown",
   "metadata": {},
   "source": [
    "**Fact Mapping**"
   ]
  },
  {
   "cell_type": "code",
   "execution_count": null,
   "metadata": {},
   "outputs": [],
   "source": [
    "LHS_Perf_Summary[\"Facts\"].replace(Perf_Summ_Fact_Mapping,inplace=True)"
   ]
  },
  {
   "cell_type": "code",
   "execution_count": null,
   "metadata": {},
   "outputs": [],
   "source": [
    "LHS_Perf_Summary.head()"
   ]
  },
  {
   "cell_type": "markdown",
   "metadata": {},
   "source": [
    "**Column name Change**"
   ]
  },
  {
   "cell_type": "code",
   "execution_count": null,
   "metadata": {},
   "outputs": [],
   "source": [
    "LHS_Perf_Summary.rename(columns={\"Markets\":\"MKT\",\"Products\":\"PROD\",\"Manufacturer\":\"CP_MANUFACTURER\",\n",
    "                                \"Franchise\":\"CP_FRANCHISE\",\"Brand\":\"CP_BRAND\",\"SubBrand\":\"CP_SUBBRAND\"},inplace=True)"
   ]
  },
  {
   "cell_type": "code",
   "execution_count": null,
   "metadata": {},
   "outputs": [],
   "source": [
    "LHS_Perf_Summary.head()"
   ]
  },
  {
   "cell_type": "code",
   "execution_count": null,
   "metadata": {
    "scrolled": true
   },
   "outputs": [],
   "source": [
    "Time_Period=Perf_Summ_Time_Period\n",
    "print(Time_Period)"
   ]
  },
  {
   "cell_type": "markdown",
   "metadata": {},
   "source": [
    "**Moving Time Period to Rows and Facts to Columns**"
   ]
  },
  {
   "cell_type": "code",
   "execution_count": null,
   "metadata": {},
   "outputs": [],
   "source": [
    "df1=pd.melt(LHS_Perf_Summary, id_vars =[\"MKT\",\"PROD\",\"CP_MANUFACTURER\",\"CP_FRANCHISE\",\"CP_BRAND\",\"CP_SUBBRAND\",\"Facts\"], value_vars =Time_Period,var_name=\"Time_Period\")\n",
    "\n",
    "df1[\"value\"]=df1[\"value\"].apply(pd.to_numeric)"
   ]
  },
  {
   "cell_type": "code",
   "execution_count": null,
   "metadata": {},
   "outputs": [],
   "source": [
    "df2=df1.pivot_table(index=['MKT','PROD', 'CP_MANUFACTURER', 'CP_FRANCHISE', 'CP_BRAND','CP_SUBBRAND','Time_Period'],columns='Facts')\n",
    "\n",
    "df2.columns=df2.columns.droplevel().rename(None)\n",
    "df2.reset_index(inplace =True)"
   ]
  },
  {
   "cell_type": "code",
   "execution_count": null,
   "metadata": {},
   "outputs": [],
   "source": [
    "from pandas.api.types import CategoricalDtype\n",
    "\n",
    "Time_Period_order = CategoricalDtype(\n",
    "    Time_Period, \n",
    "    ordered=True\n",
    ")\n",
    "\n",
    "df2['Time_Period'] = df2['Time_Period'].astype(Time_Period_order)\n",
    "\n",
    "df2.sort_values(['MKT','PROD','Time_Period'],inplace=True)"
   ]
  },
  {
   "cell_type": "code",
   "execution_count": null,
   "metadata": {},
   "outputs": [],
   "source": [
    "df2.head()"
   ]
  },
  {
   "cell_type": "code",
   "execution_count": null,
   "metadata": {},
   "outputs": [],
   "source": [
    "final_column_sorting=['MKT', 'PROD', 'CP_MANUFACTURER', 'CP_FRANCHISE', 'CP_BRAND','CP_SUBBRAND', 'Time_Period',\n",
    "                      \"Doll_Shr\",\"Doll_Shr_Chg\",\"Base_Doll_Shr\",\"Base_Doll_Shr_Chg\",\"Incr_Doll_Shr\",\"Incr_Doll_Shr_Chg\",\n",
    "                      \"Dollars\",\"Dollars_Chg\",\"Store_Selling\",\"Store_Selling_Chg\",\"Cum_Distri_Pts\",\"Cum_Distri_Pts_Chg\",\n",
    "                      \"CC_RASP\",\"CC_RASP_Chg\",\"CC_Base_RASP\",\"CC_Base_RASP_Chg\",\"CC_Promo_RASP\",\"CC_Promo_RASP_Chg\",\n",
    "                      \"Prcnt_EQUnits_Any_Promo\",\"Prcnt_EQUnits_Any_Promo_Chg\",\"QS_ACV_cum\",\"QS_ACV_Chg_cum\",\"Prcnt_ACV_TPR_cum\",\n",
    "                      \"Prcnt_ACV_TPR_Chg_cum\"\n",
    "                      ]\n",
    "LHS_Perf_Summary_final=df2[final_column_sorting]"
   ]
  },
  {
   "cell_type": "code",
   "execution_count": null,
   "metadata": {},
   "outputs": [],
   "source": [
    "LHS_Perf_Summary_final.head()"
   ]
  },
  {
   "cell_type": "markdown",
   "metadata": {},
   "source": [
    "### **MSR_Cat_Summary**"
   ]
  },
  {
   "cell_type": "code",
   "execution_count": null,
   "metadata": {},
   "outputs": [],
   "source": [
    "MSR_Cat_Summary=LHS_Perf_Summary_final.loc[(LHS_Perf_Summary_final[\"CP_SUBBRAND\"]==\"\") & (LHS_Perf_Summary_final[\"CP_BRAND\"]==\"\")&(LHS_Perf_Summary_final[\"CP_FRANCHISE\"]==\"\")&(LHS_Perf_Summary_final[\"CP_MANUFACTURER\"]==\"\")]"
   ]
  },
  {
   "cell_type": "code",
   "execution_count": null,
   "metadata": {},
   "outputs": [],
   "source": [
    "\n",
    "length= len(MSR_Cat_Summary)\n",
    "MSR_Cat_Summary[\"Record_ID\"]=range(1,length+1)"
   ]
  },
  {
   "cell_type": "code",
   "execution_count": null,
   "metadata": {},
   "outputs": [],
   "source": [
    "MSR_Cat_Summary.head(3)"
   ]
  },
  {
   "cell_type": "code",
   "execution_count": null,
   "metadata": {},
   "outputs": [],
   "source": [
    "#saving into csv file\n",
    "MSR_Cat_Summary.to_csv(path_LHS+\"MSR_Cat_Summary.csv\",index=False)"
   ]
  },
  {
   "cell_type": "code",
   "execution_count": null,
   "metadata": {},
   "outputs": [],
   "source": []
  },
  {
   "cell_type": "markdown",
   "metadata": {},
   "source": [
    "### **MSR_Manu_Summary**"
   ]
  },
  {
   "cell_type": "code",
   "execution_count": null,
   "metadata": {},
   "outputs": [],
   "source": [
    "MSR_Manu_Summary=LHS_Perf_Summary_final.loc[(LHS_Perf_Summary_final[\"CP_SUBBRAND\"]==\"\") & (LHS_Perf_Summary_final[\"CP_BRAND\"]==\"\")&(LHS_Perf_Summary_final[\"CP_FRANCHISE\"]==\"\")&(LHS_Perf_Summary_final[\"CP_MANUFACTURER\"]!=\"\")]"
   ]
  },
  {
   "cell_type": "code",
   "execution_count": null,
   "metadata": {},
   "outputs": [],
   "source": [
    "length= len(MSR_Manu_Summary)\n",
    "MSR_Manu_Summary[\"Record_ID\"]=range(1,length+1)"
   ]
  },
  {
   "cell_type": "code",
   "execution_count": null,
   "metadata": {},
   "outputs": [],
   "source": [
    "MSR_Manu_Summary.head(3)"
   ]
  },
  {
   "cell_type": "code",
   "execution_count": null,
   "metadata": {},
   "outputs": [],
   "source": [
    "#saving into csv file\n",
    "MSR_Manu_Summary.to_csv(path_LHS+\"MSR_Manu_Summary.csv\",index=False)"
   ]
  },
  {
   "cell_type": "markdown",
   "metadata": {},
   "source": [
    "### **MSR_Fran_Summary**"
   ]
  },
  {
   "cell_type": "code",
   "execution_count": null,
   "metadata": {},
   "outputs": [],
   "source": [
    "MSR_Fran_Summary=LHS_Perf_Summary_final.loc[(LHS_Perf_Summary_final[\"CP_SUBBRAND\"]==\"\") & (LHS_Perf_Summary_final[\"CP_BRAND\"]==\"\")&(LHS_Perf_Summary_final[\"CP_FRANCHISE\"]!=\"\")]"
   ]
  },
  {
   "cell_type": "code",
   "execution_count": null,
   "metadata": {},
   "outputs": [],
   "source": [
    "length= len(MSR_Fran_Summary)\n",
    "MSR_Fran_Summary[\"Record_ID\"]=range(1,length+1)"
   ]
  },
  {
   "cell_type": "code",
   "execution_count": null,
   "metadata": {},
   "outputs": [],
   "source": [
    "MSR_Fran_Summary.head(3)"
   ]
  },
  {
   "cell_type": "code",
   "execution_count": null,
   "metadata": {},
   "outputs": [],
   "source": [
    "#saving into csv file\n",
    "MSR_Fran_Summary.to_csv(path_LHS+\"MSR_Fran_Summary.csv\",index=False)"
   ]
  },
  {
   "cell_type": "markdown",
   "metadata": {},
   "source": [
    "### **MSR_Brand_Summary**"
   ]
  },
  {
   "cell_type": "code",
   "execution_count": null,
   "metadata": {},
   "outputs": [],
   "source": [
    "MSR_Brand_Summary=LHS_Perf_Summary_final.loc[(LHS_Perf_Summary_final[\"CP_SUBBRAND\"]==\"\") & (LHS_Perf_Summary_final[\"CP_BRAND\"]!=\"\")]"
   ]
  },
  {
   "cell_type": "code",
   "execution_count": null,
   "metadata": {},
   "outputs": [],
   "source": [
    "length= len(MSR_Brand_Summary)\n",
    "MSR_Brand_Summary[\"Record_ID\"]=range(1,length+1)"
   ]
  },
  {
   "cell_type": "code",
   "execution_count": null,
   "metadata": {},
   "outputs": [],
   "source": [
    "MSR_Brand_Summary.head(3)"
   ]
  },
  {
   "cell_type": "code",
   "execution_count": null,
   "metadata": {},
   "outputs": [],
   "source": [
    "#saving into csv file\n",
    "MSR_Brand_Summary.to_csv(path_LHS+\"MSR_Brand_Summary.csv\",index=False)"
   ]
  },
  {
   "cell_type": "markdown",
   "metadata": {},
   "source": [
    "### **MSR_SubBrand_Summary**"
   ]
  },
  {
   "cell_type": "code",
   "execution_count": null,
   "metadata": {},
   "outputs": [],
   "source": [
    "MSR_SubBrand_Summary=LHS_Perf_Summary_final.loc[(LHS_Perf_Summary_final[\"CP_SUBBRAND\"]!=\"\")]"
   ]
  },
  {
   "cell_type": "code",
   "execution_count": null,
   "metadata": {},
   "outputs": [],
   "source": [
    "length= len(MSR_SubBrand_Summary)\n",
    "MSR_SubBrand_Summary[\"Record_ID\"]=range(1,length+1)"
   ]
  },
  {
   "cell_type": "code",
   "execution_count": null,
   "metadata": {},
   "outputs": [],
   "source": [
    "MSR_SubBrand_Summary.head(3)"
   ]
  },
  {
   "cell_type": "code",
   "execution_count": null,
   "metadata": {},
   "outputs": [],
   "source": [
    "#saving into csv file\n",
    "MSR_SubBrand_Summary.to_csv(path_LHS+\"MSR_SubBrand_Summary.csv\",index=False)"
   ]
  },
  {
   "cell_type": "code",
   "execution_count": null,
   "metadata": {},
   "outputs": [],
   "source": []
  },
  {
   "cell_type": "markdown",
   "metadata": {},
   "source": [
    " "
   ]
  },
  {
   "cell_type": "markdown",
   "metadata": {},
   "source": [
    "### **Trends**"
   ]
  },
  {
   "cell_type": "markdown",
   "metadata": {},
   "source": [
    "**Fact and Market Selection**"
   ]
  },
  {
   "cell_type": "code",
   "execution_count": null,
   "metadata": {},
   "outputs": [],
   "source": [
    "Perf_Trend_Markets_lhs=[\"Ahold\",\"Alb/Sfy\",\"BJs\",\"CVS\",\"Dollar General\",\"Family Dollar\",\"Meijer\",\"Publix\",\"Rite Aid\",\n",
    "                       \"Sams\",\"Shoprite\",\"Target\",\"US AOC\",\"US Drug\",\"US Food\",\"Walgreens\",\"Walmart\"]"
   ]
  },
  {
   "cell_type": "code",
   "execution_count": null,
   "metadata": {},
   "outputs": [],
   "source": [
    "LHS_Perf_Trends= Data_5p_LHS[Data_5p_LHS[\"Facts\"].isin(Perf_Trend_Facts)]\n",
    "LHS_Perf_Trends= LHS_Perf_Trends[LHS_Perf_Trends[\"Markets\"].isin(Perf_Trend_Markets_lhs)]"
   ]
  },
  {
   "cell_type": "code",
   "execution_count": null,
   "metadata": {},
   "outputs": [],
   "source": [
    "print(len(Perf_Trend_Markets_lhs),len(set(LHS_Perf_Trends[\"Markets\"])))"
   ]
  },
  {
   "cell_type": "markdown",
   "metadata": {},
   "source": [
    "**Fact Mapping**"
   ]
  },
  {
   "cell_type": "code",
   "execution_count": null,
   "metadata": {},
   "outputs": [],
   "source": [
    "LHS_Perf_Trends[\"Facts\"].replace(Perf_Trend_Fact_Mapping,inplace=True)"
   ]
  },
  {
   "cell_type": "code",
   "execution_count": null,
   "metadata": {},
   "outputs": [],
   "source": [
    "LHS_Perf_Trends.head()"
   ]
  },
  {
   "cell_type": "markdown",
   "metadata": {},
   "source": [
    "**Column name Change**"
   ]
  },
  {
   "cell_type": "code",
   "execution_count": null,
   "metadata": {},
   "outputs": [],
   "source": [
    "LHS_Perf_Trends.rename(columns={\"Markets\":\"MKT\",\"Products\":\"PROD\",\"Manufacturer\":\"CP_MANUFACTURER\",\n",
    "                                \"Franchise\":\"CP_FRANCHISE\",\"Brand\":\"CP_BRAND\",\"SubBrand\":\"CP_SUBBRAND\"},inplace=True)"
   ]
  },
  {
   "cell_type": "code",
   "execution_count": null,
   "metadata": {},
   "outputs": [],
   "source": [
    "LHS_Perf_Trends.head()"
   ]
  },
  {
   "cell_type": "code",
   "execution_count": null,
   "metadata": {
    "scrolled": true
   },
   "outputs": [],
   "source": [
    "Time_Period=Perf_Trend_Time_Period\n",
    "print(Time_Period)"
   ]
  },
  {
   "cell_type": "markdown",
   "metadata": {},
   "source": [
    "**Moving Time Period to Rows and Facts to Columns**"
   ]
  },
  {
   "cell_type": "code",
   "execution_count": null,
   "metadata": {},
   "outputs": [],
   "source": [
    "df1=pd.melt(LHS_Perf_Trends, id_vars =[\"MKT\",\"PROD\",\"CP_MANUFACTURER\",\"CP_FRANCHISE\",\"CP_BRAND\",\"CP_SUBBRAND\",\"Facts\"], value_vars =Time_Period,var_name=\"Time_Period\")\n",
    "\n",
    "df1[\"value\"]=df1[\"value\"].apply(pd.to_numeric)"
   ]
  },
  {
   "cell_type": "code",
   "execution_count": null,
   "metadata": {},
   "outputs": [],
   "source": [
    "df2=df1.pivot_table(index=['MKT','PROD', 'CP_MANUFACTURER', 'CP_FRANCHISE', 'CP_BRAND','CP_SUBBRAND','Time_Period'],columns='Facts')\n",
    "\n",
    "df2.columns=df2.columns.droplevel().rename(None)\n",
    "df2.reset_index(inplace =True)"
   ]
  },
  {
   "cell_type": "code",
   "execution_count": null,
   "metadata": {},
   "outputs": [],
   "source": [
    "from pandas.api.types import CategoricalDtype\n",
    "\n",
    "Time_Period_order = CategoricalDtype(\n",
    "    Time_Period, \n",
    "    ordered=True\n",
    ")\n",
    "\n",
    "df2['Time_Period'] = df2['Time_Period'].astype(Time_Period_order)\n",
    "\n",
    "df2.sort_values(['MKT','PROD','Time_Period'],inplace=True)"
   ]
  },
  {
   "cell_type": "code",
   "execution_count": null,
   "metadata": {
    "scrolled": true
   },
   "outputs": [],
   "source": [
    "df2.head()"
   ]
  },
  {
   "cell_type": "code",
   "execution_count": null,
   "metadata": {},
   "outputs": [],
   "source": [
    "df2[[\"PRODUCT_CODE\",\"TOTAL_SIZE\"]]=\"\"\n",
    "df2[\"CP_CATEGORY\"]=\"LIQUID\"\n",
    "\n",
    "final_column_sorting=[\"MKT\",\"PROD\",\"PRODUCT_CODE\",\"CP_CATEGORY\",\"TOTAL_SIZE\",\"CP_MANUFACTURER\",\"CP_FRANCHISE\",\"CP_BRAND\",\n",
    "                      \"CP_SUBBRAND\",\"Time_Period\",\n",
    "                        \"Doll_Shr\",\"Base_Doll_Shr\",\"Incr_Doll_Shr\",\"Dollars\",\"Base_Dollars\",\"Incr_Dollars\",\"EQ_Shr\",\n",
    "                        \"Base_EQ_Shr\",\"Incr_EQ_Shr\",\"EQ_Units\",\"Base_EQ_Units\",\"INcr_EQ_Units\"\n",
    "                      ]\n",
    "LHS_Perf_Trends_final=df2[final_column_sorting]"
   ]
  },
  {
   "cell_type": "code",
   "execution_count": null,
   "metadata": {},
   "outputs": [],
   "source": [
    "LHS_Perf_Trends_final.head()"
   ]
  },
  {
   "cell_type": "markdown",
   "metadata": {},
   "source": [
    "### **MSR_Manu_Trends**"
   ]
  },
  {
   "cell_type": "code",
   "execution_count": null,
   "metadata": {},
   "outputs": [],
   "source": [
    "MSR_Manu_Trends=LHS_Perf_Trends_final.loc[(LHS_Perf_Trends_final[\"CP_SUBBRAND\"]==\"\") & (LHS_Perf_Trends_final[\"CP_BRAND\"]==\"\")&(LHS_Perf_Trends_final[\"CP_FRANCHISE\"]==\"\")&(LHS_Perf_Trends_final[\"CP_MANUFACTURER\"]!=\"\")]"
   ]
  },
  {
   "cell_type": "code",
   "execution_count": null,
   "metadata": {},
   "outputs": [],
   "source": [
    "length= len(MSR_Manu_Trends)\n",
    "MSR_Manu_Trends[\"Record_ID\"]=range(1,length+1)"
   ]
  },
  {
   "cell_type": "code",
   "execution_count": null,
   "metadata": {},
   "outputs": [],
   "source": [
    "MSR_Manu_Trends.head()"
   ]
  },
  {
   "cell_type": "code",
   "execution_count": null,
   "metadata": {},
   "outputs": [],
   "source": [
    "#saving into csv file\n",
    "MSR_Manu_Trends.to_csv(path_LHS+\"MSR_Manu_Trends.csv\",index=False)"
   ]
  },
  {
   "cell_type": "markdown",
   "metadata": {},
   "source": [
    "### **MSR_Fran_Trends**"
   ]
  },
  {
   "cell_type": "code",
   "execution_count": null,
   "metadata": {},
   "outputs": [],
   "source": [
    "MSR_Fran_Trends=LHS_Perf_Trends_final.loc[(LHS_Perf_Trends_final[\"CP_SUBBRAND\"]==\"\") & (LHS_Perf_Trends_final[\"CP_BRAND\"]==\"\")&(LHS_Perf_Trends_final[\"CP_FRANCHISE\"]!=\"\")]"
   ]
  },
  {
   "cell_type": "code",
   "execution_count": null,
   "metadata": {},
   "outputs": [],
   "source": [
    "length= len(MSR_Fran_Trends)\n",
    "MSR_Fran_Trends[\"Record_ID\"]=range(1,length+1)"
   ]
  },
  {
   "cell_type": "code",
   "execution_count": null,
   "metadata": {},
   "outputs": [],
   "source": [
    "MSR_Fran_Trends.head(3)"
   ]
  },
  {
   "cell_type": "code",
   "execution_count": null,
   "metadata": {},
   "outputs": [],
   "source": [
    "#saving into csv file\n",
    "MSR_Fran_Trends.to_csv(path_LHS+\"MSR_Fran_Trends.csv\",index=False)"
   ]
  },
  {
   "cell_type": "markdown",
   "metadata": {},
   "source": [
    "### **MSR_Brand_Trends**"
   ]
  },
  {
   "cell_type": "code",
   "execution_count": null,
   "metadata": {},
   "outputs": [],
   "source": [
    "MSR_Brand_Trends=LHS_Perf_Trends_final.loc[(LHS_Perf_Trends_final[\"CP_SUBBRAND\"]==\"\") & (LHS_Perf_Trends_final[\"CP_BRAND\"]!=\"\")]"
   ]
  },
  {
   "cell_type": "code",
   "execution_count": null,
   "metadata": {},
   "outputs": [],
   "source": [
    "length= len(MSR_Brand_Trends)\n",
    "MSR_Brand_Trends[\"Record_ID\"]=range(1,length+1)"
   ]
  },
  {
   "cell_type": "code",
   "execution_count": null,
   "metadata": {},
   "outputs": [],
   "source": [
    "MSR_Brand_Trends.head(3)"
   ]
  },
  {
   "cell_type": "code",
   "execution_count": null,
   "metadata": {},
   "outputs": [],
   "source": [
    "#saving into csv file\n",
    "MSR_Brand_Trends.to_csv(path_LHS+\"MSR_Brand_Trends.csv\",index=False)"
   ]
  },
  {
   "cell_type": "markdown",
   "metadata": {},
   "source": [
    "### **MSR_SubBrand_Trends**"
   ]
  },
  {
   "cell_type": "code",
   "execution_count": null,
   "metadata": {},
   "outputs": [],
   "source": [
    "MSR_SubBrand_Trends=LHS_Perf_Trends_final.loc[(LHS_Perf_Trends_final[\"CP_SUBBRAND\"]!=\"\")]"
   ]
  },
  {
   "cell_type": "code",
   "execution_count": null,
   "metadata": {},
   "outputs": [],
   "source": [
    "length= len(MSR_SubBrand_Trends)\n",
    "MSR_SubBrand_Trends[\"Record_ID\"]=range(1,length+1)"
   ]
  },
  {
   "cell_type": "code",
   "execution_count": null,
   "metadata": {},
   "outputs": [],
   "source": [
    "MSR_SubBrand_Trends.head(3)"
   ]
  },
  {
   "cell_type": "code",
   "execution_count": null,
   "metadata": {},
   "outputs": [],
   "source": [
    "#saving into csv file\n",
    "MSR_SubBrand_Trends.to_csv(path_LHS+\"MSR_SubBrand_Trends.csv\",index=False)"
   ]
  },
  {
   "cell_type": "code",
   "execution_count": null,
   "metadata": {},
   "outputs": [],
   "source": []
  },
  {
   "cell_type": "markdown",
   "metadata": {},
   "source": [
    "# LDL"
   ]
  },
  {
   "cell_type": "markdown",
   "metadata": {},
   "source": [
    "Assigning path of the folder where **LDL TOTAL** data files are stored"
   ]
  },
  {
   "cell_type": "code",
   "execution_count": null,
   "metadata": {},
   "outputs": [],
   "source": [
    "path = \"//falmumapp34/Nielsen Connect Transition & Maintenance (20-SCP-3650)/03. Raw Data/Connect Data/Line Monthly\"\n",
    "files = os.listdir(path)"
   ]
  },
  {
   "cell_type": "markdown",
   "metadata": {},
   "source": [
    "Selecting only **excel files** from all the files available in the above path"
   ]
  },
  {
   "cell_type": "code",
   "execution_count": null,
   "metadata": {},
   "outputs": [],
   "source": [
    "files_xls = [f for f in files if f[0:3] == \"LDL\"]\n",
    "print(\"Total number of files in the folder are \",len(files_xls))"
   ]
  },
  {
   "cell_type": "code",
   "execution_count": null,
   "metadata": {},
   "outputs": [],
   "source": [
    "files_xls"
   ]
  },
  {
   "cell_type": "markdown",
   "metadata": {},
   "source": [
    "**Appending the read files in rows and storing them in a single dataframe** named ***LDL TOTAL***.\n",
    "\n",
    "Printing number of columns and number of facts in each file.\n",
    "Also checking the execution time of the code"
   ]
  },
  {
   "cell_type": "code",
   "execution_count": null,
   "metadata": {
    "scrolled": true
   },
   "outputs": [],
   "source": [
    "time_start= time.time()\n",
    "\n",
    "LDL_TOTAL= pd.DataFrame()\n",
    "\n",
    "j=0\n",
    "for f in files_xls:\n",
    "    \n",
    "    data = pd.read_excel(path+\"/\"+f)\n",
    "    print(\"\\033[1m\" + files_xls[j] + \"\\033[0m\",\":->\\n# of Facts are \",len(set(data[\"Periods\"])),\"\\t\\t # of columns are \",len(data.columns))  \n",
    "    LDL_TOTAL = pd.concat([LDL_TOTAL,data],axis=0,ignore_index=True)\n",
    "    j=j+1\n",
    "    \n",
    "time_end= time.time();\n",
    "\n",
    "print(\"execution time is \", time_end-time_start)"
   ]
  },
  {
   "cell_type": "code",
   "execution_count": null,
   "metadata": {},
   "outputs": [],
   "source": [
    "LDL_TOTAL[\"Periods\"]=LDL_TOTAL[\"Periods\"].str.replace(\"$\",\"temp\")\n",
    "LDL_TOTAL[\"Periods\"]=LDL_TOTAL[\"Periods\"].str.replace(\"- temp -\",\"-\")\n",
    "LDL_TOTAL[\"Periods\"]=LDL_TOTAL[\"Periods\"].str.replace(\"temp\",\"$\")\n",
    "\n",
    "LDL_TOTAL[\"Periods\"]=LDL_TOTAL[\"Periods\"].str.replace(\"CP LDL AND FOAM\",\"CP CATEGORY\")\n",
    "\n",
    "LDL_TOTAL[\"Periods\"]=LDL_TOTAL[\"Periods\"].str.replace(\"CP LDL AND FM X DISHAIDS/WPS/SPR\",\"CP CATEGORY\")\n",
    "\n",
    "LDL_TOTAL[\"Periods\"]=LDL_TOTAL[\"Periods\"].str.replace(\"CP MEGA CATEGORY\",\"CP CATEGORY\")\n",
    "LDL_TOTAL[\"Periods\"]=LDL_TOTAL[\"Periods\"].str.replace(\"CP BATTERY AND HYBRID\",\"CP CATEGORY\")\n",
    "\n",
    "# Market name replaced\n",
    "LDL_TOTAL[\"Markets\"]=LDL_TOTAL[\"Markets\"].str.replace(\"Walgreens Corp Total TA\",\"Walgreens Total TA\")"
   ]
  },
  {
   "cell_type": "code",
   "execution_count": null,
   "metadata": {
    "scrolled": true
   },
   "outputs": [],
   "source": [
    "# replace NaN Values with 0\n",
    "LDL_TOTAL.fillna(value=0,inplace=True)"
   ]
  },
  {
   "cell_type": "code",
   "execution_count": null,
   "metadata": {
    "scrolled": true
   },
   "outputs": [],
   "source": [
    "set(LDL_TOTAL[\"Periods\"])"
   ]
  },
  {
   "cell_type": "markdown",
   "metadata": {},
   "source": [
    "**Removing unwanted characters from all the column names** and store them in a list ***new_col_names***"
   ]
  },
  {
   "cell_type": "code",
   "execution_count": null,
   "metadata": {},
   "outputs": [],
   "source": [
    "new_col_names=[]\n",
    "for i in LDL_TOTAL.columns:\n",
    "    x=len(i)\n",
    "    if x<=17:\n",
    "        new_col_names.append(i)\n",
    "    elif i[:3]=='YTD':\n",
    "        new_col_names.append(i[:-16].strip('- '))\n",
    "    else:\n",
    "        new_col_names.append(i[:-14].strip('- '))\n",
    "        "
   ]
  },
  {
   "cell_type": "code",
   "execution_count": null,
   "metadata": {},
   "outputs": [],
   "source": [
    "LDL_TOTAL.columns"
   ]
  },
  {
   "cell_type": "markdown",
   "metadata": {},
   "source": [
    "**Checking the duplicacte column in** ***LDL_TOTAL***"
   ]
  },
  {
   "cell_type": "code",
   "execution_count": null,
   "metadata": {},
   "outputs": [],
   "source": [
    "if(len(new_col_names)!=len(set(new_col_names))):\n",
    "    print(\"\\033[1;31m\"+\"*******************************ERROR*******************************\\n\\t\\t\\tWe have duplicate columns\\n\\t\\t\\tPlease recheck raw data files\\n*******************************ERROR*******************************\")"
   ]
  },
  {
   "cell_type": "markdown",
   "metadata": {},
   "source": [
    "Renaming the column names of ***LDL_TOTAL***"
   ]
  },
  {
   "cell_type": "code",
   "execution_count": null,
   "metadata": {},
   "outputs": [],
   "source": [
    "# LDL_TOTAL.rename(columns=dict(zip(LDL_TOTAL.columns,new_col_names)),inplace=True)\n",
    "LDL_TOTAL.columns=new_col_names"
   ]
  },
  {
   "cell_type": "code",
   "execution_count": null,
   "metadata": {},
   "outputs": [],
   "source": [
    "LDL_TOTAL.columns"
   ]
  },
  {
   "cell_type": "markdown",
   "metadata": {},
   "source": [
    "**Adding Missing Quater**\n"
   ]
  },
  {
   "cell_type": "code",
   "execution_count": null,
   "metadata": {},
   "outputs": [],
   "source": [
    "# GETTING 20 DAYS BEFORE MONTHS AND YEAR VALUES\n",
    "now=datetime.datetime.now()\n",
    "delay= datetime.timedelta(days=20)\n",
    "a= now - delay\n",
    "month_number=a.month\n",
    "year=str(a.year-2)[-2:]\n",
    "print(month_number)\n",
    "print(year)"
   ]
  },
  {
   "cell_type": "code",
   "execution_count": null,
   "metadata": {},
   "outputs": [],
   "source": [
    "if( month_number >= 1 & month_number <= 3):\n",
    "    LDL_TOTAL['AMJ '+year]=\"\"\n",
    "    LDL_TOTAL['JAS '+year]=\"\"\n",
    "    LDL_TOTAL['OND '+year]=\"\"\n",
    "elif ( month_number >= 4 & month_number <= 6 ):\n",
    "    LDL_TOTAL['JAS '+year]=\"\"\n",
    "    LDL_TOTAL['OND '+year]=\"\"\n",
    "elif ( month_number >= 7 & month_number <= 9  ):\n",
    "    LDL_TOTAL['OND '+year]=\"\""
   ]
  },
  {
   "cell_type": "markdown",
   "metadata": {},
   "source": [
    "**Time period mapping**\n",
    "\n",
    "**Manual Step**\n",
    "\n",
    "This mapping needs to be changed every year when new year data comes"
   ]
  },
  {
   "cell_type": "code",
   "execution_count": null,
   "metadata": {},
   "outputs": [],
   "source": [
    "# time_period_map_2020= pd.DataFrame({'Connect Time Period':['Markets', 'Products', 'Periods','Cal Yr 2020','Cal Yr 2019','Cal Yr 2018','Cal Yr 2017','YTD','YTD YA','Latest 13 Wks','Latest 26 Wks','OND 20','JAS 20','AMJ 20','JFM 20','OND 19','JAS 19','AMJ 19','JFM 19','Dec 20','Nov 20','Oct 20','Sep 20','Aug 20','Jul 20','Jun 20','May 20','Apr 20','Mar 20','Feb 20','Jan 20','Dec 19','Nov 19','Oct 19','Sep 19','Aug 19','Jul 19','Jun 19','May 19','Apr 19','Mar 19','Feb 19','Jan 19'],\n",
    "#                                'Final Name':['Markets', 'Products', 'Periods','FY 2020','FY 2019','FY 2018','FY 2017','YTD 2020','YTD 2019','Latest 13 Weeks','Latest 26 Weeks','Q4 2020','Q3 2020','Q2 2020','Q1 2020','Q4 2019','Q3 2019','Q2 2019','Q1 2019','Dec 20','Nov 20','Oct 20','Sep 20','Aug 20','Jul 20','Jun 20','May 20','Apr 20','Mar 20','Feb 20','Jan 20','Dec 19','Nov 19','Oct 19','Sep 19','Aug 19','Jul 19','Jun 19','May 19','Apr 19','Mar 19','Feb 19','Jan 19']\n",
    "#                               ,'Order':range(1,44)})"
   ]
  },
  {
   "cell_type": "code",
   "execution_count": null,
   "metadata": {},
   "outputs": [],
   "source": [
    "time_period_map= pd.DataFrame({'Connect Time Period':['Markets', 'Products', 'Periods','Cal Yr 2020','Cal Yr 2019','Cal Yr 2018','Cal Yr 2017','YTD','YTD YA','Latest 13 Wks','Latest 26 Wks','OND 21','JAS 21','AMJ 21','JFM 21','OND 20','JAS 20','AMJ 20','JFM 20','OND 19','JAS 19','AMJ 19','Dec 21','Nov 21','Oct 21','Sep 21','Aug 21','Jul 21','Jun 21','May 21','Apr 21','Mar 21','Feb 21','Jan 21','Dec 20','Nov 20','Oct 20','Sep 20','Aug 20','Jul 20','Jun 20','May 20','Apr 20','Mar 20','Feb 20','Jan 20'],\n",
    "                               'Final Name':['Markets', 'Products', 'Periods','FY 2020','FY 2019','FY 2018','FY 2017','YTD 2021','YTD 2020','Latest 13 Weeks','Latest 26 Weeks','Q4 2021','Q3 2021','Q2 2021','Q1 2021','Q4 2020','Q3 2020','Q2 2020','Q1 2020','Q4 2019','Q3 2019','Q2 2019','Dec 21','Nov 21','Oct 21','Sep 21','Aug 21','Jul 21','Jun 21','May 21','Apr 21','Mar 21','Feb 21','Jan 21','Dec 20','Nov 20','Oct 20','Sep 20','Aug 20','Jul 20','Jun 20','May 20','Apr 20','Mar 20','Feb 20','Jan 20']\n",
    "                              ,'Order':range(1,47)})"
   ]
  },
  {
   "cell_type": "code",
   "execution_count": null,
   "metadata": {
    "scrolled": false
   },
   "outputs": [],
   "source": [
    "time_period_map.head()"
   ]
  },
  {
   "cell_type": "markdown",
   "metadata": {},
   "source": [
    "We need to **change column names** of ***LDL_TOTAL*** and **reorder** them based on the time_period_mapping"
   ]
  },
  {
   "cell_type": "code",
   "execution_count": null,
   "metadata": {},
   "outputs": [],
   "source": [
    "# assigning variables\n",
    "LM_column= list(LDL_TOTAL.columns)\n",
    "time_connect=list(time_period_map[\"Connect Time Period\"])\n",
    "time_final=list(time_period_map[\"Final Name\"])"
   ]
  },
  {
   "cell_type": "code",
   "execution_count": null,
   "metadata": {},
   "outputs": [],
   "source": [
    "# changing column names based on time_period_mapping\n",
    "new_column=[]\n",
    "for i in range(0,len(LM_column)):\n",
    "    for j in range(0,len(time_connect)):\n",
    "        if LM_column[i]==time_connect[j]:\n",
    "            new_column.append(time_final[j])\n",
    "        "
   ]
  },
  {
   "cell_type": "code",
   "execution_count": null,
   "metadata": {
    "scrolled": true
   },
   "outputs": [],
   "source": [
    "print(new_column)"
   ]
  },
  {
   "cell_type": "code",
   "execution_count": null,
   "metadata": {},
   "outputs": [],
   "source": [
    "print(len(new_column),len(LDL_TOTAL.columns))"
   ]
  },
  {
   "cell_type": "code",
   "execution_count": null,
   "metadata": {},
   "outputs": [],
   "source": [
    "#assigning new column names\n",
    "LDL_TOTAL.columns = new_column"
   ]
  },
  {
   "cell_type": "code",
   "execution_count": null,
   "metadata": {},
   "outputs": [],
   "source": [
    "# reordering column names\n",
    "my_list =time_period_map.iloc[:, 1]\n",
    "my_list1=LDL_TOTAL.columns\n",
    "result = [x for x in my_list if x in my_list1]\n",
    "LDL_TOTAL=LDL_TOTAL[result]"
   ]
  },
  {
   "cell_type": "code",
   "execution_count": null,
   "metadata": {},
   "outputs": [],
   "source": [
    "LDL_TOTAL.columns"
   ]
  },
  {
   "cell_type": "code",
   "execution_count": null,
   "metadata": {
    "scrolled": true
   },
   "outputs": [],
   "source": [
    "LDL_TOTAL.head(3)"
   ]
  },
  {
   "cell_type": "code",
   "execution_count": null,
   "metadata": {},
   "outputs": [],
   "source": [
    "LDL_TOTAL.rename(columns={\"Periods\":\"Facts\"},inplace=True)"
   ]
  },
  {
   "cell_type": "code",
   "execution_count": null,
   "metadata": {
    "scrolled": true
   },
   "outputs": [],
   "source": [
    "LDL_TOTAL.head(3)"
   ]
  },
  {
   "cell_type": "markdown",
   "metadata": {},
   "source": [
    "**Filter Condition**\n",
    "\n",
    "Taking only those products whose **Latest Month Dollar Share** is **greater than 0.02** for all the markets"
   ]
  },
  {
   "cell_type": "code",
   "execution_count": null,
   "metadata": {},
   "outputs": [],
   "source": [
    "LDL_TOTAL.iloc[:,3:]=LDL_TOTAL.iloc[:,3:].apply(pd.to_numeric)"
   ]
  },
  {
   "cell_type": "code",
   "execution_count": null,
   "metadata": {},
   "outputs": [],
   "source": [
    "LDL_TOTAL.info()"
   ]
  },
  {
   "cell_type": "code",
   "execution_count": null,
   "metadata": {},
   "outputs": [],
   "source": [
    "df=LDL_TOTAL[(LDL_TOTAL['Facts'] == '$ Shr - CP CATEGORY') & (LDL_TOTAL.iloc[:,19]>0.02)]\n",
    "df[\"Key\"]=df[\"Products\"]+df[\"Markets\"]"
   ]
  },
  {
   "cell_type": "code",
   "execution_count": null,
   "metadata": {},
   "outputs": [],
   "source": [
    "LDL_TOTAL[\"Key\"]=LDL_TOTAL[\"Products\"]+LDL_TOTAL[\"Markets\"]"
   ]
  },
  {
   "cell_type": "code",
   "execution_count": null,
   "metadata": {},
   "outputs": [],
   "source": [
    "LDL_TOTAL=LDL_TOTAL[LDL_TOTAL['Key'].isin(list(df[\"Key\"]))]\n",
    "LDL_TOTAL.head(3)"
   ]
  },
  {
   "cell_type": "markdown",
   "metadata": {},
   "source": [
    "**ShareBasis Split**"
   ]
  },
  {
   "cell_type": "code",
   "execution_count": null,
   "metadata": {
    "scrolled": true
   },
   "outputs": [],
   "source": [
    "LDL_TOTAL[['ShareBasis','Manufacturer','Franchise','Brand']] = LDL_TOTAL['Products'].str.split('|',n=3,expand=True)\n",
    "LDL_TOTAL.head(3)"
   ]
  },
  {
   "cell_type": "code",
   "execution_count": null,
   "metadata": {
    "scrolled": true
   },
   "outputs": [],
   "source": [
    "LDL_TOTAL[[\"ShareBasis\",\"Manufacturer\",\"Franchise\",\"Brand\"]]=LDL_TOTAL[[\"ShareBasis\",\"Manufacturer\",\"Franchise\",\"Brand\"]].fillna(value=\"\")\n",
    "LDL_TOTAL.head(3)"
   ]
  },
  {
   "cell_type": "markdown",
   "metadata": {},
   "source": [
    "***movecol*** function to **rearranging** the columns of a dataframe"
   ]
  },
  {
   "cell_type": "code",
   "execution_count": null,
   "metadata": {},
   "outputs": [],
   "source": [
    "def movecol(df, cols_to_move=[], ref_col='', place=''):\n",
    "    cols = df.columns.tolist()\n",
    "    if place == 'After':\n",
    "        seg1 = cols[:list(cols).index(ref_col) + 1]\n",
    "        seg2 = cols_to_move\n",
    "    if place == 'Before':\n",
    "        seg1 = cols[:list(cols).index(ref_col)]\n",
    "        seg2 = cols_to_move + [ref_col]\n",
    "    seg1 = [i for i in seg1 if i not in seg2]\n",
    "    seg3 = [i for i in cols if i not in seg1 + seg2]\n",
    "    \n",
    "    return(df[seg1 + seg2 + seg3])"
   ]
  },
  {
   "cell_type": "code",
   "execution_count": null,
   "metadata": {
    "scrolled": true
   },
   "outputs": [],
   "source": [
    "LDL_TOTAL = movecol(LDL_TOTAL, \n",
    "             cols_to_move=['ShareBasis','Manufacturer','Franchise','Brand'], \n",
    "             ref_col='Markets',\n",
    "             place='After')\n",
    "LDL_TOTAL.head(3)"
   ]
  },
  {
   "cell_type": "markdown",
   "metadata": {},
   "source": [
    "**Strip Columns**\n"
   ]
  },
  {
   "cell_type": "code",
   "execution_count": null,
   "metadata": {},
   "outputs": [],
   "source": [
    "cols=list(LDL_TOTAL.columns[0:7])"
   ]
  },
  {
   "cell_type": "code",
   "execution_count": null,
   "metadata": {},
   "outputs": [],
   "source": [
    "LDL_TOTAL[cols]=LDL_TOTAL[cols].apply(lambda x : x.str.strip())"
   ]
  },
  {
   "cell_type": "markdown",
   "metadata": {},
   "source": [
    "**Need Franchise LEVEL**"
   ]
  },
  {
   "cell_type": "code",
   "execution_count": null,
   "metadata": {},
   "outputs": [],
   "source": [
    "LDL_TOTAL=LDL_TOTAL[LDL_TOTAL[\"Manufacturer\"] !=\"\"]"
   ]
  },
  {
   "cell_type": "code",
   "execution_count": null,
   "metadata": {},
   "outputs": [],
   "source": [
    "LDL_TOTAL[\"CP_CONCENTRATION\"]=\"TOTAL (REGULAR+ULTRA+NA)\"\n",
    "LDL_TOTAL[\"Category\"]=\"LDL\""
   ]
  },
  {
   "cell_type": "code",
   "execution_count": null,
   "metadata": {},
   "outputs": [],
   "source": [
    "LDL_TOTAL.rename(columns={\"Markets\":\"MKT\",\"Products\":\"PROD\",\"Manufacturer\":\"CP_MANUFACTURER\",\n",
    "                                \"Franchise\":\"CP_FRANCHISE\",\"Brand\":\"CP_BRAND\"},inplace=True)"
   ]
  },
  {
   "cell_type": "markdown",
   "metadata": {},
   "source": [
    "**Period & Market Mapping**"
   ]
  },
  {
   "cell_type": "code",
   "execution_count": null,
   "metadata": {},
   "outputs": [],
   "source": [
    "LDL_TOTAL.rename(columns=Time_Mapping,inplace=True)\n",
    "LDL_TOTAL[\"MKT\"].replace(Market_Mapping,inplace=True)"
   ]
  },
  {
   "cell_type": "markdown",
   "metadata": {},
   "source": [
    "### LDL without Total"
   ]
  },
  {
   "cell_type": "code",
   "execution_count": null,
   "metadata": {},
   "outputs": [],
   "source": [
    "# path to store OuMWut files\n",
    "\n",
    "path_LDL=\"//falmumapp34/Nielsen Connect Transition & Maintenance (20-SCP-3650)/05. Output Data/5P Output/LDL/\""
   ]
  },
  {
   "cell_type": "code",
   "execution_count": null,
   "metadata": {},
   "outputs": [],
   "source": [
    "Data_5p_LDL=Data_5p.copy()"
   ]
  },
  {
   "cell_type": "code",
   "execution_count": null,
   "metadata": {},
   "outputs": [],
   "source": [
    "Data_5p.head(2)"
   ]
  },
  {
   "cell_type": "markdown",
   "metadata": {},
   "source": [
    "**Filtering LDL Data**"
   ]
  },
  {
   "cell_type": "code",
   "execution_count": null,
   "metadata": {},
   "outputs": [],
   "source": [
    "Data_5p_LDL=Data_5p.loc[Data_5p[\"ShareBasis\"]==\"LDL/DISHAIDS/WPS/FM/SPRAYS\"]\n",
    "Data_5p_LDL.shape"
   ]
  },
  {
   "cell_type": "code",
   "execution_count": null,
   "metadata": {},
   "outputs": [],
   "source": [
    "# **Column name Change**\n",
    "\n",
    "Data_5p_LDL.rename(columns={\"Markets\":\"MKT\",\"Products\":\"PROD\",\"Manufacturer\":\"CP_MANUFACTURER\",\n",
    "                                \"Franchise\":\"CP_CONCENTRATION\",\"Brand\":\"CP_FRANCHISE\",\"SubBrand\":\"CP_BRAND\"},inplace=True)"
   ]
  },
  {
   "cell_type": "code",
   "execution_count": null,
   "metadata": {
    "scrolled": true
   },
   "outputs": [],
   "source": [
    "Data_5p_LDL.columns"
   ]
  },
  {
   "cell_type": "markdown",
   "metadata": {},
   "source": [
    "**Concat LDL's Dataframes**"
   ]
  },
  {
   "cell_type": "code",
   "execution_count": null,
   "metadata": {},
   "outputs": [],
   "source": [
    "if list(np.sort(list(set(Data_5p_LDL.columns))))==list(np.sort(list(set(LDL_TOTAL.columns)))):\n",
    "    print(\"Both Dataframes have same column names. We are ready to concat these dataframes.\")\n",
    "else:\n",
    "    print(\"Dataframe column names are not same :(  Check Column name mapping.\")"
   ]
  },
  {
   "cell_type": "code",
   "execution_count": null,
   "metadata": {},
   "outputs": [],
   "source": [
    "Data_5p_LDL_All=pd.concat([Data_5p_LDL,LDL_TOTAL],axis=0,ignore_index=True)"
   ]
  },
  {
   "cell_type": "code",
   "execution_count": null,
   "metadata": {},
   "outputs": [],
   "source": [
    "set(LDL_TOTAL[\"CP_FRANCHISE\"])"
   ]
  },
  {
   "cell_type": "markdown",
   "metadata": {},
   "source": [
    "## Performance Data"
   ]
  },
  {
   "cell_type": "markdown",
   "metadata": {},
   "source": [
    "### **Summary**"
   ]
  },
  {
   "cell_type": "code",
   "execution_count": null,
   "metadata": {},
   "outputs": [],
   "source": [
    "Perf_Markets=[\"Ahold\",\"Alb/Sfy\",\"BJs\",\"CVS\",\"Dollar General\",\"Family Dollar\",\"Publix\",\n",
    "             \"Rite Aid\",\"Sams\",\"Shoprite\",\"Target\",\"US AOC\",\"US Drug\",\"US Food\",\"Walgreens\",\"Walmart\"]"
   ]
  },
  {
   "cell_type": "code",
   "execution_count": null,
   "metadata": {},
   "outputs": [],
   "source": [
    "LDL_Perf_Summary= Data_5p_LDL_All[Data_5p_LDL_All[\"Facts\"].isin(Perf_Summ_Facts)]\n",
    "LDL_Perf_Summary= LDL_Perf_Summary[LDL_Perf_Summary[\"MKT\"].isin(Perf_Markets)]"
   ]
  },
  {
   "cell_type": "code",
   "execution_count": null,
   "metadata": {},
   "outputs": [],
   "source": [
    "print(\"Missing Markets ->\",len(Perf_Markets)-len(set(LDL_Perf_Summary[\"MKT\"])),\"Missing Factss ->\",len(Perf_Summ_Facts)-len(set(LDL_Perf_Summary[\"Facts\"])))"
   ]
  },
  {
   "cell_type": "markdown",
   "metadata": {},
   "source": [
    "**Fact Mapping**"
   ]
  },
  {
   "cell_type": "code",
   "execution_count": null,
   "metadata": {},
   "outputs": [],
   "source": [
    "LDL_Perf_Summary[\"Facts\"].replace(Perf_Summ_Fact_Mapping,inplace=True)"
   ]
  },
  {
   "cell_type": "code",
   "execution_count": null,
   "metadata": {
    "scrolled": true
   },
   "outputs": [],
   "source": [
    "LDL_Perf_Summary.head()"
   ]
  },
  {
   "cell_type": "markdown",
   "metadata": {},
   "source": [
    "**Column name Change**"
   ]
  },
  {
   "cell_type": "code",
   "execution_count": null,
   "metadata": {},
   "outputs": [],
   "source": [
    "# LDL_Perf_Summary.rename(columns={\"Markets\":\"MKT\",\"Products\":\"PROD\",\"Manufacturer\":\"CP_MANUFACTURER\",\n",
    "#                                 \"Franchise\":\"CP_CONCENTRATION\",\"Brand\":\"CP_FRANCHISE\",\"SubBrand\":\"CP_BRAND\"},inplace=True)"
   ]
  },
  {
   "cell_type": "code",
   "execution_count": null,
   "metadata": {},
   "outputs": [],
   "source": [
    "set(LDL_Perf_Summary[\"CP_CONCENTRATION\"])"
   ]
  },
  {
   "cell_type": "markdown",
   "metadata": {},
   "source": [
    "**Filtering Concentration**"
   ]
  },
  {
   "cell_type": "code",
   "execution_count": null,
   "metadata": {},
   "outputs": [],
   "source": [
    "LDL_Perf_Summary=LDL_Perf_Summary[LDL_Perf_Summary[\"CP_CONCENTRATION\"].isin(['','REGULAR', 'ULTRA','TOTAL (REGULAR+ULTRA+NA)'])]"
   ]
  },
  {
   "cell_type": "code",
   "execution_count": null,
   "metadata": {
    "scrolled": true
   },
   "outputs": [],
   "source": [
    "LDL_Perf_Summary.head()"
   ]
  },
  {
   "cell_type": "code",
   "execution_count": null,
   "metadata": {},
   "outputs": [],
   "source": [
    "LDL_Perf_Summary[\"Frn\"]=\"\"\n",
    "for i in range(0,len(LDL_Perf_Summary)):\n",
    "    if LDL_Perf_Summary[\"CP_FRANCHISE\"].iloc[i]==\"\":\n",
    "        LDL_Perf_Summary[\"Frn\"].iloc[i]=LDL_Perf_Summary[\"CP_FRANCHISE\"].iloc[i]\n",
    "        \n",
    "    elif (LDL_Perf_Summary[\"CP_CONCENTRATION\"].iloc[i]==\"TOTAL (REGULAR+ULTRA+NA)\"):\n",
    "        LDL_Perf_Summary[\"Frn\"].iloc[i]=LDL_Perf_Summary[\"CP_FRANCHISE\"].iloc[i]\n",
    "    \n",
    "    elif (LDL_Perf_Summary[\"CP_CONCENTRATION\"].iloc[i]==\"REGULAR\") or (LDL_Perf_Summary[\"CP_CONCENTRATION\"].iloc[i]==\"ULTRA\") :\n",
    "        LDL_Perf_Summary[\"Frn\"].iloc[i]=LDL_Perf_Summary[\"CP_FRANCHISE\"].iloc[i]+\" \" +LDL_Perf_Summary[\"CP_CONCENTRATION\"].iloc[i]"
   ]
  },
  {
   "cell_type": "code",
   "execution_count": null,
   "metadata": {},
   "outputs": [],
   "source": [
    "LDL_Perf_Summary[\"Brn\"]=\"\"\n",
    "for i in range(0,len(LDL_Perf_Summary)):\n",
    "    if LDL_Perf_Summary[\"CP_BRAND\"].iloc[i]==\"\":\n",
    "        LDL_Perf_Summary[\"Brn\"].iloc[i]=LDL_Perf_Summary[\"CP_BRAND\"].iloc[i]\n",
    "        \n",
    "    elif (LDL_Perf_Summary[\"CP_CONCENTRATION\"].iloc[i]==\"TOTAL (REGULAR+ULTRA+NA)\"):\n",
    "        LDL_Perf_Summary[\"Brn\"].iloc[i]=LDL_Perf_Summary[\"CP_BRAND\"].iloc[i]\n",
    "    \n",
    "    elif (LDL_Perf_Summary[\"CP_CONCENTRATION\"].iloc[i]==\"REGULAR\") or (LDL_Perf_Summary[\"CP_CONCENTRATION\"].iloc[i]==\"ULTRA\") :\n",
    "        LDL_Perf_Summary[\"Brn\"].iloc[i]=LDL_Perf_Summary[\"CP_BRAND\"].iloc[i]+\" \" +LDL_Perf_Summary[\"CP_CONCENTRATION\"].iloc[i]"
   ]
  },
  {
   "cell_type": "code",
   "execution_count": null,
   "metadata": {},
   "outputs": [],
   "source": [
    "LDL_Perf_Summary[\"CP_FRANCHISE\"]=LDL_Perf_Summary[\"Frn\"]\n",
    "LDL_Perf_Summary[\"CP_BRAND\"]=LDL_Perf_Summary[\"Brn\"]"
   ]
  },
  {
   "cell_type": "code",
   "execution_count": null,
   "metadata": {},
   "outputs": [],
   "source": [
    "set(LDL_Perf_Summary[LDL_Perf_Summary[\"CP_CONCENTRATION\"]==\"TOTAL (REGULAR+ULTRA+NA)\"][\"CP_FRANCHISE\"])"
   ]
  },
  {
   "cell_type": "code",
   "execution_count": null,
   "metadata": {},
   "outputs": [],
   "source": []
  },
  {
   "cell_type": "code",
   "execution_count": null,
   "metadata": {},
   "outputs": [],
   "source": [
    "set(LDL_Perf_Summary[\"Frn\"])"
   ]
  },
  {
   "cell_type": "code",
   "execution_count": null,
   "metadata": {},
   "outputs": [],
   "source": [
    "LDL_Perf_Summary.head()"
   ]
  },
  {
   "cell_type": "code",
   "execution_count": null,
   "metadata": {
    "scrolled": true
   },
   "outputs": [],
   "source": [
    "Time_Period=Perf_Summ_Time_Period\n",
    "print(Time_Period)"
   ]
  },
  {
   "cell_type": "markdown",
   "metadata": {},
   "source": [
    "**Moving Time Period to Rows and Facts to Columns**"
   ]
  },
  {
   "cell_type": "code",
   "execution_count": null,
   "metadata": {},
   "outputs": [],
   "source": [
    "df1=pd.melt(LDL_Perf_Summary, id_vars =[\"MKT\",\"PROD\",\"CP_MANUFACTURER\",\"CP_FRANCHISE\",\"CP_BRAND\",\"CP_CONCENTRATION\",\"Facts\"], value_vars =Time_Period,var_name=\"Time_Period\")\n",
    "\n",
    "df1[\"value\"]=df1[\"value\"].apply(pd.to_numeric)"
   ]
  },
  {
   "cell_type": "code",
   "execution_count": null,
   "metadata": {},
   "outputs": [],
   "source": [
    "df2=df1.pivot_table(index=['MKT','PROD', 'CP_MANUFACTURER', 'CP_FRANCHISE', 'CP_BRAND','CP_CONCENTRATION','Time_Period'],columns='Facts')\n",
    "\n",
    "df2.columns=df2.columns.droplevel().rename(None)\n",
    "df2.reset_index(inplace =True)"
   ]
  },
  {
   "cell_type": "code",
   "execution_count": null,
   "metadata": {},
   "outputs": [],
   "source": [
    "from pandas.api.types import CategoricalDtype\n",
    "\n",
    "Time_Period_order = CategoricalDtype(\n",
    "    Time_Period, \n",
    "    ordered=True\n",
    ")\n",
    "\n",
    "df2['Time_Period'] = df2['Time_Period'].astype(Time_Period_order)\n",
    "\n",
    "df2.sort_values(['MKT','PROD','Time_Period'],inplace=True)"
   ]
  },
  {
   "cell_type": "code",
   "execution_count": null,
   "metadata": {},
   "outputs": [],
   "source": [
    "df2.head()"
   ]
  },
  {
   "cell_type": "code",
   "execution_count": null,
   "metadata": {},
   "outputs": [],
   "source": [
    "final_column_sorting=[\"MKT\",\"PROD\",\"CP_MANUFACTURER\",\"CP_FRANCHISE\",\"CP_BRAND\",\"CP_CONCENTRATION\",\"Time_Period\",\n",
    "                      \"Doll_Shr\",\"Doll_Shr_Chg\",\"Base_Doll_Shr\",\"Base_Doll_Shr_Chg\",\"Incr_Doll_Shr\",\"Incr_Doll_Shr_Chg\",\n",
    "                      \"Dollars\",\"Dollars_Chg\",\"Store_Selling\",\"Store_Selling_Chg\",\"Cum_Distri_Pts\",\"Cum_Distri_Pts_Chg\",\n",
    "                      \"CC_RASP\",\"CC_RASP_Chg\",\"CC_Base_RASP\",\"CC_Base_RASP_Chg\",\"CC_Promo_RASP\",\"CC_Promo_RASP_Chg\",\n",
    "                      \"Prcnt_EQUnits_Any_Promo\",\"Prcnt_EQUnits_Any_Promo_Chg\",\"QS_ACV_cum\",\"QS_ACV_Chg_cum\",\n",
    "                      \"Prcnt_ACV_TPR_cum\",\"Prcnt_ACV_TPR_Chg_cum\"\n",
    "                      ]\n",
    "LDL_Perf_Summary_final=df2[final_column_sorting]"
   ]
  },
  {
   "cell_type": "code",
   "execution_count": null,
   "metadata": {},
   "outputs": [],
   "source": [
    "LDL_Perf_Summary_final.head()"
   ]
  },
  {
   "cell_type": "markdown",
   "metadata": {},
   "source": [
    "### **MSR_Cat_Summary**"
   ]
  },
  {
   "cell_type": "code",
   "execution_count": null,
   "metadata": {},
   "outputs": [],
   "source": [
    "MSR_Cat_Summary=LDL_Perf_Summary_final.loc[(LDL_Perf_Summary_final[\"CP_BRAND\"]==\"\")&(LDL_Perf_Summary_final[\"CP_FRANCHISE\"]==\"\")&(LDL_Perf_Summary_final[\"CP_MANUFACTURER\"]==\"\")]"
   ]
  },
  {
   "cell_type": "code",
   "execution_count": null,
   "metadata": {},
   "outputs": [],
   "source": [
    "length= len(MSR_Cat_Summary)\n",
    "MSR_Cat_Summary[\"Record_ID\"]=range(1,length+1)"
   ]
  },
  {
   "cell_type": "code",
   "execution_count": null,
   "metadata": {},
   "outputs": [],
   "source": [
    "MSR_Cat_Summary.head(3)"
   ]
  },
  {
   "cell_type": "code",
   "execution_count": null,
   "metadata": {},
   "outputs": [],
   "source": [
    "#saving into csv file\n",
    "MSR_Cat_Summary.to_csv(path_LDL+\"MSR_Cat_Summary.csv\",index=False)"
   ]
  },
  {
   "cell_type": "code",
   "execution_count": null,
   "metadata": {},
   "outputs": [],
   "source": [
    "set(MSR_Cat_Summary[\"CP_CONCENTRATION\"])"
   ]
  },
  {
   "cell_type": "markdown",
   "metadata": {},
   "source": [
    "### **MSR_Manu_Summary**"
   ]
  },
  {
   "cell_type": "code",
   "execution_count": null,
   "metadata": {},
   "outputs": [],
   "source": [
    "MSR_Manu_Summary=LDL_Perf_Summary_final.loc[(LDL_Perf_Summary_final[\"CP_BRAND\"]==\"\")&(LDL_Perf_Summary_final[\"CP_FRANCHISE\"]==\"\")&(LDL_Perf_Summary_final[\"CP_MANUFACTURER\"]!=\"\")]"
   ]
  },
  {
   "cell_type": "code",
   "execution_count": null,
   "metadata": {},
   "outputs": [],
   "source": [
    "length= len(MSR_Manu_Summary)\n",
    "MSR_Manu_Summary[\"Record_ID\"]=range(1,length+1)"
   ]
  },
  {
   "cell_type": "code",
   "execution_count": null,
   "metadata": {
    "scrolled": true
   },
   "outputs": [],
   "source": [
    "MSR_Manu_Summary.head(3)"
   ]
  },
  {
   "cell_type": "code",
   "execution_count": null,
   "metadata": {},
   "outputs": [],
   "source": [
    "#saving into csv file\n",
    "MSR_Manu_Summary.to_csv(path_LDL+\"MSR_Manu_Summary.csv\",index=False)"
   ]
  },
  {
   "cell_type": "code",
   "execution_count": null,
   "metadata": {},
   "outputs": [],
   "source": [
    "set(MSR_Manu_Summary[\"CP_CONCENTRATION\"])"
   ]
  },
  {
   "cell_type": "markdown",
   "metadata": {},
   "source": [
    "### **MSR_Fran_Summary**"
   ]
  },
  {
   "cell_type": "code",
   "execution_count": null,
   "metadata": {},
   "outputs": [],
   "source": [
    "MSR_Fran_Summary=LDL_Perf_Summary_final.loc[ (LDL_Perf_Summary_final[\"CP_BRAND\"]==\"\")&(LDL_Perf_Summary_final[\"CP_FRANCHISE\"]!=\"\")]"
   ]
  },
  {
   "cell_type": "code",
   "execution_count": null,
   "metadata": {},
   "outputs": [],
   "source": [
    "length= len(MSR_Fran_Summary)\n",
    "MSR_Fran_Summary[\"Record_ID\"]=range(1,length+1)"
   ]
  },
  {
   "cell_type": "code",
   "execution_count": null,
   "metadata": {},
   "outputs": [],
   "source": [
    "MSR_Fran_Summary.head(3)"
   ]
  },
  {
   "cell_type": "code",
   "execution_count": null,
   "metadata": {},
   "outputs": [],
   "source": [
    "#saving into csv file\n",
    "MSR_Fran_Summary.to_csv(path_LDL+\"MSR_Fran_Summary.csv\",index=False)"
   ]
  },
  {
   "cell_type": "markdown",
   "metadata": {},
   "source": [
    "### **MSR_Brand_Summary**"
   ]
  },
  {
   "cell_type": "code",
   "execution_count": null,
   "metadata": {},
   "outputs": [],
   "source": [
    "MSR_Brand_Summary=LDL_Perf_Summary_final.loc[(LDL_Perf_Summary_final[\"CP_BRAND\"]!=\"\")]"
   ]
  },
  {
   "cell_type": "code",
   "execution_count": null,
   "metadata": {},
   "outputs": [],
   "source": [
    "length= len(MSR_Brand_Summary)\n",
    "MSR_Brand_Summary[\"Record_ID\"]=range(1,length+1)"
   ]
  },
  {
   "cell_type": "code",
   "execution_count": null,
   "metadata": {
    "scrolled": true
   },
   "outputs": [],
   "source": [
    "MSR_Brand_Summary.head(3)"
   ]
  },
  {
   "cell_type": "code",
   "execution_count": null,
   "metadata": {},
   "outputs": [],
   "source": [
    "#saving into csv file\n",
    "MSR_Brand_Summary.to_csv(path_LDL+\"MSR_Brand_Summary.csv\",index=False)"
   ]
  },
  {
   "cell_type": "markdown",
   "metadata": {},
   "source": [
    " "
   ]
  },
  {
   "cell_type": "markdown",
   "metadata": {},
   "source": [
    "### **Trends**"
   ]
  },
  {
   "cell_type": "markdown",
   "metadata": {},
   "source": [
    "**Fact and Market Selection**"
   ]
  },
  {
   "cell_type": "code",
   "execution_count": null,
   "metadata": {},
   "outputs": [],
   "source": [
    "LDL_Perf_Trends= Data_5p_LDL_All[Data_5p_LDL_All[\"Facts\"].isin(Perf_Trend_Facts)]\n",
    "LDL_Perf_Trends= LDL_Perf_Trends[LDL_Perf_Trends[\"MKT\"].isin(Perf_Markets)]"
   ]
  },
  {
   "cell_type": "markdown",
   "metadata": {},
   "source": [
    "**Fact Mapping**"
   ]
  },
  {
   "cell_type": "code",
   "execution_count": null,
   "metadata": {},
   "outputs": [],
   "source": [
    "LDL_Perf_Trends[\"Facts\"].replace(Perf_Trend_Fact_Mapping,inplace=True)"
   ]
  },
  {
   "cell_type": "code",
   "execution_count": null,
   "metadata": {},
   "outputs": [],
   "source": [
    "LDL_Perf_Trends.head()"
   ]
  },
  {
   "cell_type": "markdown",
   "metadata": {},
   "source": [
    "**Column name Change**"
   ]
  },
  {
   "cell_type": "code",
   "execution_count": null,
   "metadata": {},
   "outputs": [],
   "source": [
    "# LDL_Perf_Trends.rename(columns={\"Markets\":\"MKT\",\"Products\":\"PROD\",\"Manufacturer\":\"CP_MANUFACTURER\",\n",
    "#                                 \"Franchise\":\"CP_CONCENTRATION\",\"Brand\":\"CP_FRANCHISE\",\"SubBrand\":\"CP_BRAND\"},inplace=True)"
   ]
  },
  {
   "cell_type": "markdown",
   "metadata": {},
   "source": [
    "**Filtering Concentration**"
   ]
  },
  {
   "cell_type": "code",
   "execution_count": null,
   "metadata": {},
   "outputs": [],
   "source": [
    "LDL_Perf_Trends=LDL_Perf_Trends[LDL_Perf_Trends[\"CP_CONCENTRATION\"].isin(['','REGULAR', 'ULTRA','TOTAL (REGULAR+ULTRA+NA)'])]"
   ]
  },
  {
   "cell_type": "code",
   "execution_count": null,
   "metadata": {},
   "outputs": [],
   "source": [
    "LDL_Perf_Trends.head()"
   ]
  },
  {
   "cell_type": "code",
   "execution_count": null,
   "metadata": {
    "scrolled": true
   },
   "outputs": [],
   "source": [
    "Time_Period=Perf_Trend_Time_Period\n",
    "print(Time_Period)"
   ]
  },
  {
   "cell_type": "markdown",
   "metadata": {},
   "source": [
    "**Moving Time Period to Rows and Facts to Columns**"
   ]
  },
  {
   "cell_type": "code",
   "execution_count": null,
   "metadata": {},
   "outputs": [],
   "source": [
    "df1=pd.melt(LDL_Perf_Trends, id_vars =[\"MKT\",\"PROD\",\"CP_MANUFACTURER\",\"CP_FRANCHISE\",\"CP_BRAND\",\"CP_CONCENTRATION\",\"Facts\"], value_vars =Time_Period,var_name=\"Time_Period\")\n",
    "\n",
    "df1[\"value\"]=df1[\"value\"].apply(pd.to_numeric)"
   ]
  },
  {
   "cell_type": "code",
   "execution_count": null,
   "metadata": {},
   "outputs": [],
   "source": [
    "df2=df1.pivot_table(index=['MKT','PROD', 'CP_MANUFACTURER', 'CP_FRANCHISE', 'CP_BRAND','CP_CONCENTRATION','Time_Period'],columns='Facts')\n",
    "\n",
    "df2.columns=df2.columns.droplevel().rename(None)\n",
    "df2.reset_index(inplace =True)"
   ]
  },
  {
   "cell_type": "code",
   "execution_count": null,
   "metadata": {},
   "outputs": [],
   "source": [
    "from pandas.api.types import CategoricalDtype\n",
    "\n",
    "Time_Period_order = CategoricalDtype(\n",
    "    Time_Period, \n",
    "    ordered=True\n",
    ")\n",
    "\n",
    "df2['Time_Period'] = df2['Time_Period'].astype(Time_Period_order)\n",
    "\n",
    "df2.sort_values(['MKT','PROD','Time_Period'],inplace=True)"
   ]
  },
  {
   "cell_type": "code",
   "execution_count": null,
   "metadata": {
    "scrolled": true
   },
   "outputs": [],
   "source": [
    "df2.head()"
   ]
  },
  {
   "cell_type": "code",
   "execution_count": null,
   "metadata": {},
   "outputs": [],
   "source": [
    "df2[[\"PRODUCT_CODE\",\"CP_CATEGORY\",\"Dummy1\"]]=\"\"\n",
    "\n",
    "final_column_sorting=[\"MKT\",\"PROD\",\"PRODUCT_CODE\",\"CP_CATEGORY\",\"Dummy1\",\"CP_MANUFACTURER\",\"CP_FRANCHISE\",\"CP_BRAND\",\n",
    "                      \"CP_CONCENTRATION\",\"Time_Period\",\n",
    "                        \"Doll_Shr\",\"Base_Doll_Shr\",\"Incr_Doll_Shr\",\"Dollars\",\"Base_Dollars\",\"Incr_Dollars\",\"EQ_Shr\",\n",
    "                        \"Base_EQ_Shr\",\"Incr_EQ_Shr\",\"EQ_Units\",\"Base_EQ_Units\",\"INcr_EQ_Units\"\n",
    "                      ]\n",
    "LDL_Perf_Trends_final=df2[final_column_sorting]"
   ]
  },
  {
   "cell_type": "code",
   "execution_count": null,
   "metadata": {},
   "outputs": [],
   "source": [
    "LDL_Perf_Trends_final.head()"
   ]
  },
  {
   "cell_type": "markdown",
   "metadata": {},
   "source": [
    "### **MSR_Manu_Trends**"
   ]
  },
  {
   "cell_type": "code",
   "execution_count": null,
   "metadata": {},
   "outputs": [],
   "source": [
    "MSR_Manu_Trends=LDL_Perf_Trends_final.loc[ (LDL_Perf_Trends_final[\"CP_BRAND\"]==\"\")&(LDL_Perf_Trends_final[\"CP_FRANCHISE\"]==\"\")&(LDL_Perf_Trends_final[\"CP_MANUFACTURER\"]!=\"\")]"
   ]
  },
  {
   "cell_type": "code",
   "execution_count": null,
   "metadata": {},
   "outputs": [],
   "source": [
    "length= len(MSR_Manu_Trends)\n",
    "MSR_Manu_Trends[\"Record_ID\"]=range(1,length+1)"
   ]
  },
  {
   "cell_type": "code",
   "execution_count": null,
   "metadata": {},
   "outputs": [],
   "source": [
    "MSR_Manu_Trends.head()"
   ]
  },
  {
   "cell_type": "code",
   "execution_count": null,
   "metadata": {},
   "outputs": [],
   "source": [
    "#saving into csv file\n",
    "MSR_Manu_Trends.to_csv(path_LDL+\"MSR_Manu_Trends.csv\",index=False)"
   ]
  },
  {
   "cell_type": "markdown",
   "metadata": {},
   "source": [
    "### **MSR_Fran_Trends**"
   ]
  },
  {
   "cell_type": "code",
   "execution_count": null,
   "metadata": {},
   "outputs": [],
   "source": [
    "MSR_Fran_Trends=LDL_Perf_Trends_final.loc[ (LDL_Perf_Trends_final[\"CP_BRAND\"]==\"\")&(LDL_Perf_Trends_final[\"CP_FRANCHISE\"]!=\"\")]"
   ]
  },
  {
   "cell_type": "code",
   "execution_count": null,
   "metadata": {},
   "outputs": [],
   "source": [
    "length= len(MSR_Fran_Trends)\n",
    "MSR_Fran_Trends[\"Record_ID\"]=range(1,length+1)"
   ]
  },
  {
   "cell_type": "code",
   "execution_count": null,
   "metadata": {},
   "outputs": [],
   "source": [
    "MSR_Fran_Trends.head(3)"
   ]
  },
  {
   "cell_type": "code",
   "execution_count": null,
   "metadata": {},
   "outputs": [],
   "source": [
    "#saving into csv file\n",
    "MSR_Fran_Trends.to_csv(path_LDL+\"MSR_Fran_Trends.csv\",index=False)"
   ]
  },
  {
   "cell_type": "markdown",
   "metadata": {},
   "source": [
    "### **MSR_Brand_Trends**"
   ]
  },
  {
   "cell_type": "code",
   "execution_count": null,
   "metadata": {},
   "outputs": [],
   "source": [
    "MSR_Brand_Trends=LDL_Perf_Trends_final.loc[ (LDL_Perf_Trends_final[\"CP_BRAND\"]!=\"\")]"
   ]
  },
  {
   "cell_type": "code",
   "execution_count": null,
   "metadata": {},
   "outputs": [],
   "source": [
    "length= len(MSR_Brand_Trends)\n",
    "MSR_Brand_Trends[\"Record_ID\"]=range(1,length+1)"
   ]
  },
  {
   "cell_type": "code",
   "execution_count": null,
   "metadata": {},
   "outputs": [],
   "source": [
    "MSR_Brand_Trends.head(3)"
   ]
  },
  {
   "cell_type": "code",
   "execution_count": null,
   "metadata": {},
   "outputs": [],
   "source": [
    "#saving into csv file\n",
    "MSR_Brand_Trends.to_csv(path_LDL+\"MSR_Brand_Trends.csv\",index=False)"
   ]
  },
  {
   "cell_type": "code",
   "execution_count": null,
   "metadata": {},
   "outputs": [],
   "source": []
  },
  {
   "cell_type": "markdown",
   "metadata": {},
   "source": [
    "## FS"
   ]
  },
  {
   "cell_type": "code",
   "execution_count": null,
   "metadata": {},
   "outputs": [],
   "source": [
    "# path to store Output files\n",
    "\n",
    "path_FS=\"//falmumapp34/Nielsen Connect Transition & Maintenance (20-SCP-3650)/05. Output Data/5P Output/FS/\""
   ]
  },
  {
   "cell_type": "code",
   "execution_count": null,
   "metadata": {
    "scrolled": true
   },
   "outputs": [],
   "source": [
    "Data_5p_FS=Data_5p.copy()"
   ]
  },
  {
   "cell_type": "code",
   "execution_count": null,
   "metadata": {},
   "outputs": [],
   "source": [
    "print(set(Data_5p_FS[\"ShareBasis\"]))"
   ]
  },
  {
   "cell_type": "markdown",
   "metadata": {},
   "source": [
    "**Filtering TP Data**"
   ]
  },
  {
   "cell_type": "code",
   "execution_count": null,
   "metadata": {},
   "outputs": [],
   "source": [
    "Data_5p_FS=Data_5p_FS.loc[Data_5p_FS[\"ShareBasis\"].isin(['SHEETS', 'SCENT BOOSTERS','BEAD FS', 'FABRIC SOFTENERS', 'LIQUID FS'])]"
   ]
  },
  {
   "cell_type": "code",
   "execution_count": null,
   "metadata": {},
   "outputs": [],
   "source": [
    "Data_5p_FS[\"ShareBasis\"]=Data_5p_FS[\"ShareBasis\"].str.replace('FABRIC SOFTENERS',\"TOTAL FS\")\n",
    "Data_5p_FS[\"Products\"]=Data_5p_FS[\"Products\"].str.replace('FABRIC SOFTENERS',\"TOTAL FS\")"
   ]
  },
  {
   "cell_type": "code",
   "execution_count": null,
   "metadata": {},
   "outputs": [],
   "source": [
    "set(Data_5p_FS[\"ShareBasis\"])"
   ]
  },
  {
   "cell_type": "markdown",
   "metadata": {},
   "source": [
    "## Performance Data"
   ]
  },
  {
   "cell_type": "markdown",
   "metadata": {},
   "source": [
    "### **Summary**"
   ]
  },
  {
   "cell_type": "code",
   "execution_count": null,
   "metadata": {},
   "outputs": [],
   "source": [
    "Perf_Markets=[\"BJs\",\"CVS\",\"Dollar General\",\"El Super\",\"Family Dollar\",\"Kmart\",\"Publix\",\"Rite Aid\",\n",
    "              \"Sams\",\"Target\",\"US AOC\",\"US Drug\",\"US Food\",\"Walgreens\",\"Walmart\"]"
   ]
  },
  {
   "cell_type": "code",
   "execution_count": null,
   "metadata": {},
   "outputs": [],
   "source": [
    "FS_Perf_Summary= Data_5p_FS[Data_5p_FS[\"Facts\"].isin(Perf_Summ_Facts)]\n",
    "FS_Perf_Summary= FS_Perf_Summary[FS_Perf_Summary[\"Markets\"].isin(Perf_Markets)]"
   ]
  },
  {
   "cell_type": "code",
   "execution_count": null,
   "metadata": {},
   "outputs": [],
   "source": [
    "print(len(Perf_Markets),len(set(FS_Perf_Summary[\"Markets\"])))"
   ]
  },
  {
   "cell_type": "markdown",
   "metadata": {},
   "source": [
    "**Fact Mapping**"
   ]
  },
  {
   "cell_type": "code",
   "execution_count": null,
   "metadata": {},
   "outputs": [],
   "source": [
    "FS_Perf_Summary[\"Facts\"].replace(Perf_Summ_Fact_Mapping,inplace=True)"
   ]
  },
  {
   "cell_type": "markdown",
   "metadata": {},
   "source": [
    "**Column name Change**"
   ]
  },
  {
   "cell_type": "code",
   "execution_count": null,
   "metadata": {},
   "outputs": [],
   "source": [
    "FS_Perf_Summary.rename(columns={\"Markets\":\"MKT\",'ShareBasis':\"CP_SHARE_BASIS\",\"Products\":\"PROD\",\"Manufacturer\":\"CP_MANUFACTURER\",\n",
    "                                \"Franchise\":\"CP_FRANCHISE\",\"Brand\":\"CP_BRAND\",\"SubBrand\":\"CP_SUBBRAND\"},inplace=True)"
   ]
  },
  {
   "cell_type": "code",
   "execution_count": null,
   "metadata": {},
   "outputs": [],
   "source": [
    "FS_Perf_Summary[\"Dummy1\"]=\"Dummy\""
   ]
  },
  {
   "cell_type": "code",
   "execution_count": null,
   "metadata": {},
   "outputs": [],
   "source": [
    "FS_Perf_Summary.head()"
   ]
  },
  {
   "cell_type": "code",
   "execution_count": null,
   "metadata": {
    "scrolled": true
   },
   "outputs": [],
   "source": [
    "Time_Period=Perf_Summ_Time_Period\n",
    "print(Time_Period)"
   ]
  },
  {
   "cell_type": "markdown",
   "metadata": {},
   "source": [
    "**Moving Time Period to Rows and Facts to Columns**"
   ]
  },
  {
   "cell_type": "code",
   "execution_count": null,
   "metadata": {},
   "outputs": [],
   "source": [
    "df1=pd.melt(FS_Perf_Summary, id_vars =[\"MKT\",\"PROD\",\"CP_MANUFACTURER\",\"CP_FRANCHISE\",\"CP_BRAND\",\"Dummy1\",\"CP_SHARE_BASIS\",\"Facts\"], value_vars =Time_Period,var_name=\"Time_Period\")\n",
    "\n",
    "df1[\"value\"]=df1[\"value\"].apply(pd.to_numeric)"
   ]
  },
  {
   "cell_type": "code",
   "execution_count": null,
   "metadata": {},
   "outputs": [],
   "source": [
    "df2=df1.pivot_table(index=['MKT','PROD', 'CP_MANUFACTURER', 'CP_FRANCHISE', 'CP_BRAND','Dummy1',\"CP_SHARE_BASIS\",'Time_Period'],columns='Facts')\n",
    "\n",
    "df2.columns=df2.columns.droplevel().rename(None)\n",
    "df2.reset_index(inplace =True)"
   ]
  },
  {
   "cell_type": "code",
   "execution_count": null,
   "metadata": {},
   "outputs": [],
   "source": [
    "from pandas.api.types import CategoricalDtype\n",
    "\n",
    "Time_Period_order = CategoricalDtype(\n",
    "    Time_Period, \n",
    "    ordered=True\n",
    ")\n",
    "\n",
    "df2['Time_Period'] = df2['Time_Period'].astype(Time_Period_order)\n",
    "\n",
    "df2.sort_values(['MKT','PROD','Time_Period'],inplace=True)"
   ]
  },
  {
   "cell_type": "code",
   "execution_count": null,
   "metadata": {},
   "outputs": [],
   "source": [
    "df2.head()"
   ]
  },
  {
   "cell_type": "code",
   "execution_count": null,
   "metadata": {},
   "outputs": [],
   "source": [
    "final_column_sorting=[\"MKT\",\"PROD\",\"CP_MANUFACTURER\",\"CP_FRANCHISE\",\"CP_BRAND\",\"Dummy1\",\"Time_Period\",\"Doll_Shr\",\n",
    "                      \"Doll_Shr_Chg\",\"Base_Doll_Shr\",\"Base_Doll_Shr_Chg\",\"Incr_Doll_Shr\",\"Incr_Doll_Shr_Chg\",\"Dollars\",\n",
    "                      \"Dollars_Chg\",\"Store_Selling\",\"Store_Selling_Chg\",\"Cum_Distri_Pts\",\"Cum_Distri_Pts_Chg\",\"CC_RASP\",\n",
    "                      \"CC_RASP_Chg\",\"CC_Base_RASP\",\"CC_Base_RASP_Chg\",\"CC_Promo_RASP\",\"CC_Promo_RASP_Chg\",\n",
    "                      \"Prcnt_EQUnits_Any_Promo\",\"Prcnt_EQUnits_Any_Promo_Chg\",\"QS_ACV_cum\",\"QS_ACV_Chg_cum\",\n",
    "                      \"Prcnt_ACV_TPR_cum\",\"Prcnt_ACV_TPR_Chg_cum\",\"CP_SHARE_BASIS\"\n",
    "                      ]\n",
    "\n",
    "FS_Perf_Summary_final=df2[final_column_sorting]"
   ]
  },
  {
   "cell_type": "code",
   "execution_count": null,
   "metadata": {},
   "outputs": [],
   "source": [
    "FS_Perf_Summary_final.head()"
   ]
  },
  {
   "cell_type": "code",
   "execution_count": null,
   "metadata": {},
   "outputs": [],
   "source": [
    "set(FS_Perf_Summary_final[\"CP_SHARE_BASIS\"])"
   ]
  },
  {
   "cell_type": "markdown",
   "metadata": {},
   "source": [
    "### **MSR_Cat_Summary**"
   ]
  },
  {
   "cell_type": "code",
   "execution_count": null,
   "metadata": {},
   "outputs": [],
   "source": [
    "MSR_Cat_Summary=FS_Perf_Summary_final.loc[(FS_Perf_Summary_final[\"CP_BRAND\"]==\"\")&(FS_Perf_Summary_final[\"CP_FRANCHISE\"]==\"\")&(FS_Perf_Summary_final[\"CP_MANUFACTURER\"]==\"\")]"
   ]
  },
  {
   "cell_type": "code",
   "execution_count": null,
   "metadata": {},
   "outputs": [],
   "source": [
    "length= len(MSR_Cat_Summary)\n",
    "MSR_Cat_Summary[\"Record_ID\"]=range(1,length+1)"
   ]
  },
  {
   "cell_type": "code",
   "execution_count": null,
   "metadata": {},
   "outputs": [],
   "source": [
    "MSR_Cat_Summary.shape"
   ]
  },
  {
   "cell_type": "code",
   "execution_count": null,
   "metadata": {},
   "outputs": [],
   "source": [
    "#saving into csv file\n",
    "MSR_Cat_Summary.to_csv(path_FS+\"MSR_Cat_Summary.csv\",index=False)"
   ]
  },
  {
   "cell_type": "markdown",
   "metadata": {},
   "source": [
    "### **MSR_Manu_Summary**"
   ]
  },
  {
   "cell_type": "code",
   "execution_count": null,
   "metadata": {},
   "outputs": [],
   "source": [
    "MSR_Manu_Summary=FS_Perf_Summary_final.loc[(FS_Perf_Summary_final[\"CP_BRAND\"]==\"\")&(FS_Perf_Summary_final[\"CP_FRANCHISE\"]==\"\")&(FS_Perf_Summary_final[\"CP_MANUFACTURER\"]!=\"\")]"
   ]
  },
  {
   "cell_type": "code",
   "execution_count": null,
   "metadata": {},
   "outputs": [],
   "source": [
    "length= len(MSR_Manu_Summary)\n",
    "MSR_Manu_Summary[\"Record_ID\"]=range(1,length+1)"
   ]
  },
  {
   "cell_type": "code",
   "execution_count": null,
   "metadata": {},
   "outputs": [],
   "source": [
    "MSR_Manu_Summary.shape"
   ]
  },
  {
   "cell_type": "code",
   "execution_count": null,
   "metadata": {},
   "outputs": [],
   "source": [
    "#saving into csv file\n",
    "MSR_Manu_Summary.to_csv(path_FS+\"MSR_Manu_Summary.csv\",index=False)"
   ]
  },
  {
   "cell_type": "markdown",
   "metadata": {},
   "source": [
    "### **MSR_Fran_Summary**"
   ]
  },
  {
   "cell_type": "code",
   "execution_count": null,
   "metadata": {},
   "outputs": [],
   "source": [
    "MSR_Fran_Summary=FS_Perf_Summary_final.loc[(FS_Perf_Summary_final[\"CP_BRAND\"]==\"\")&(FS_Perf_Summary_final[\"CP_FRANCHISE\"]!=\"\")]"
   ]
  },
  {
   "cell_type": "code",
   "execution_count": null,
   "metadata": {},
   "outputs": [],
   "source": [
    "length= len(MSR_Fran_Summary)\n",
    "MSR_Fran_Summary[\"Record_ID\"]=range(1,length+1)"
   ]
  },
  {
   "cell_type": "code",
   "execution_count": null,
   "metadata": {},
   "outputs": [],
   "source": [
    "MSR_Fran_Summary.shape"
   ]
  },
  {
   "cell_type": "code",
   "execution_count": null,
   "metadata": {},
   "outputs": [],
   "source": [
    "#saving into csv file\n",
    "MSR_Fran_Summary.to_csv(path_FS+\"MSR_Fran_Summary.csv\",index=False)"
   ]
  },
  {
   "cell_type": "markdown",
   "metadata": {},
   "source": [
    "### **MSR_Brand_Summary**"
   ]
  },
  {
   "cell_type": "code",
   "execution_count": null,
   "metadata": {},
   "outputs": [],
   "source": [
    "MSR_Brand_Summary=FS_Perf_Summary_final.loc[ (FS_Perf_Summary_final[\"CP_BRAND\"]!=\"\")]"
   ]
  },
  {
   "cell_type": "code",
   "execution_count": null,
   "metadata": {},
   "outputs": [],
   "source": [
    "length= len(MSR_Brand_Summary)\n",
    "MSR_Brand_Summary[\"Record_ID\"]=range(1,length+1)"
   ]
  },
  {
   "cell_type": "code",
   "execution_count": null,
   "metadata": {},
   "outputs": [],
   "source": [
    "MSR_Brand_Summary.shape"
   ]
  },
  {
   "cell_type": "code",
   "execution_count": null,
   "metadata": {},
   "outputs": [],
   "source": [
    "#saving into csv file\n",
    "MSR_Brand_Summary.to_csv(path_FS+\"MSR_Brand_Summary.csv\",index=False)"
   ]
  },
  {
   "cell_type": "markdown",
   "metadata": {},
   "source": [
    "### **Trends**"
   ]
  },
  {
   "cell_type": "markdown",
   "metadata": {},
   "source": [
    "**Fact and Market Selection**"
   ]
  },
  {
   "cell_type": "code",
   "execution_count": null,
   "metadata": {},
   "outputs": [],
   "source": [
    "FS_Perf_Trends= Data_5p_FS[Data_5p_FS[\"Facts\"].isin(Perf_Trend_Facts)]\n",
    "FS_Perf_Trends= FS_Perf_Trends[FS_Perf_Trends[\"Markets\"].isin(Perf_Markets)]"
   ]
  },
  {
   "cell_type": "markdown",
   "metadata": {},
   "source": [
    "**Fact Mapping**"
   ]
  },
  {
   "cell_type": "code",
   "execution_count": null,
   "metadata": {},
   "outputs": [],
   "source": [
    "FS_Perf_Trends[\"Facts\"].replace(Perf_Trend_Fact_Mapping,inplace=True)"
   ]
  },
  {
   "cell_type": "markdown",
   "metadata": {},
   "source": [
    "**Column name Change**"
   ]
  },
  {
   "cell_type": "code",
   "execution_count": null,
   "metadata": {},
   "outputs": [],
   "source": [
    "FS_Perf_Trends.rename(columns={\"Markets\":\"MKT\",'ShareBasis':\"CP_SHARE_BASIS\",\"Products\":\"PROD\",\"Manufacturer\":\"CP_MANUFACTURER\",\n",
    "                                \"Franchise\":\"CP_FRANCHISE\",\"Brand\":\"CP_BRAND\",\"SubBrand\":\"CP_SUBBRAND\"},inplace=True)"
   ]
  },
  {
   "cell_type": "code",
   "execution_count": null,
   "metadata": {},
   "outputs": [],
   "source": [
    "FS_Perf_Trends[\"Dummy1\"]=\"Dummy\""
   ]
  },
  {
   "cell_type": "code",
   "execution_count": null,
   "metadata": {},
   "outputs": [],
   "source": [
    "FS_Perf_Trends.head()"
   ]
  },
  {
   "cell_type": "code",
   "execution_count": null,
   "metadata": {
    "scrolled": true
   },
   "outputs": [],
   "source": [
    "Time_Period=Perf_Trend_Time_Period\n",
    "print(Time_Period)"
   ]
  },
  {
   "cell_type": "markdown",
   "metadata": {},
   "source": [
    "**Moving Time Period to Rows and Facts to Columns**"
   ]
  },
  {
   "cell_type": "code",
   "execution_count": null,
   "metadata": {},
   "outputs": [],
   "source": [
    "df1=pd.melt(FS_Perf_Trends, id_vars =[\"MKT\",\"PROD\",\"CP_MANUFACTURER\",\"CP_FRANCHISE\",\"CP_BRAND\",\"Dummy1\",\"CP_SHARE_BASIS\",\"Facts\"], value_vars =Time_Period,var_name=\"Time_Period\")\n",
    "\n",
    "df1[\"value\"]=df1[\"value\"].apply(pd.to_numeric)"
   ]
  },
  {
   "cell_type": "code",
   "execution_count": null,
   "metadata": {},
   "outputs": [],
   "source": [
    "df2=df1.pivot_table(index=['MKT','PROD', 'CP_MANUFACTURER', 'CP_FRANCHISE', 'CP_BRAND','Dummy1',\"CP_SHARE_BASIS\",'Time_Period'],columns='Facts')\n",
    "\n",
    "df2.columns=df2.columns.droplevel().rename(None)\n",
    "df2.reset_index(inplace =True)"
   ]
  },
  {
   "cell_type": "code",
   "execution_count": null,
   "metadata": {},
   "outputs": [],
   "source": [
    "from pandas.api.types import CategoricalDtype\n",
    "\n",
    "Time_Period_order = CategoricalDtype(\n",
    "    Time_Period, \n",
    "    ordered=True\n",
    ")\n",
    "\n",
    "df2['Time_Period'] = df2['Time_Period'].astype(Time_Period_order)\n",
    "\n",
    "df2.sort_values(['MKT','PROD','Time_Period'],inplace=True)"
   ]
  },
  {
   "cell_type": "code",
   "execution_count": null,
   "metadata": {
    "scrolled": false
   },
   "outputs": [],
   "source": [
    "df2.head()"
   ]
  },
  {
   "cell_type": "code",
   "execution_count": null,
   "metadata": {
    "scrolled": false
   },
   "outputs": [],
   "source": [
    "df2[['PRODUCT_CODE', 'CP_SEGMENT']]=\"\"\n",
    "\n",
    "df2['CP_CATEGORY']=\"FABRIC SOFTENERS\"\n",
    "\n",
    "# df2.rename(columns={'INcr_EQ_Units':'Incr_EQ_Units'},inplace=True)\n",
    "\n",
    "\n",
    "final_column_sorting=[\"MKT\",\"PROD\",\"PRODUCT_CODE\",\"CP_CATEGORY\",\"CP_SEGMENT\",\"CP_MANUFACTURER\",\"CP_FRANCHISE\",\"CP_BRAND\",\n",
    "                      \"Dummy1\",\"Time_Period\",\n",
    "                      \"Doll_Shr\",\"Base_Doll_Shr\",\"Incr_Doll_Shr\",\"Dollars\",\"Base_Dollars\",\"Incr_Dollars\",\n",
    "                      \"EQ_Shr\",\"Base_EQ_Shr\",\"Incr_EQ_Shr\",\"EQ_Units\",\"Base_EQ_Units\",\"INcr_EQ_Units\",\"CP_SHARE_BASIS\"\n",
    "                      ]\n",
    "FS_Perf_Trends_final=df2[final_column_sorting]"
   ]
  },
  {
   "cell_type": "code",
   "execution_count": null,
   "metadata": {},
   "outputs": [],
   "source": [
    "FS_Perf_Trends_final.head()"
   ]
  },
  {
   "cell_type": "markdown",
   "metadata": {},
   "source": [
    "### **MSR_Manu_Trends**"
   ]
  },
  {
   "cell_type": "code",
   "execution_count": null,
   "metadata": {},
   "outputs": [],
   "source": [
    "MSR_Manu_Trends=FS_Perf_Trends_final.loc[(FS_Perf_Trends_final[\"CP_BRAND\"]==\"\")&(FS_Perf_Trends_final[\"CP_FRANCHISE\"]==\"\")&(FS_Perf_Trends_final[\"CP_MANUFACTURER\"]!=\"\")]"
   ]
  },
  {
   "cell_type": "code",
   "execution_count": null,
   "metadata": {},
   "outputs": [],
   "source": [
    "length= len(MSR_Manu_Trends)\n",
    "MSR_Manu_Trends[\"Record_ID\"]=range(1,length+1)"
   ]
  },
  {
   "cell_type": "code",
   "execution_count": null,
   "metadata": {},
   "outputs": [],
   "source": [
    "#saving into csv file\n",
    "MSR_Manu_Trends.to_csv(path_FS+\"MSR_Manu_Trends.csv\",index=False)"
   ]
  },
  {
   "cell_type": "markdown",
   "metadata": {},
   "source": [
    "### **MSR_Fran_Trends**"
   ]
  },
  {
   "cell_type": "code",
   "execution_count": null,
   "metadata": {},
   "outputs": [],
   "source": [
    "MSR_Fran_Trends=FS_Perf_Trends_final.loc[ (FS_Perf_Trends_final[\"CP_BRAND\"]==\"\")&(FS_Perf_Trends_final[\"CP_FRANCHISE\"]!=\"\")]"
   ]
  },
  {
   "cell_type": "code",
   "execution_count": null,
   "metadata": {},
   "outputs": [],
   "source": [
    "length= len(MSR_Fran_Trends)\n",
    "MSR_Fran_Trends[\"Record_ID\"]=range(1,length+1)"
   ]
  },
  {
   "cell_type": "code",
   "execution_count": null,
   "metadata": {},
   "outputs": [],
   "source": [
    "#saving into csv file\n",
    "MSR_Fran_Trends.to_csv(path_FS+\"MSR_Fran_Trends.csv\",index=False)"
   ]
  },
  {
   "cell_type": "markdown",
   "metadata": {},
   "source": [
    "### **MSR_Brand_Trends**"
   ]
  },
  {
   "cell_type": "code",
   "execution_count": null,
   "metadata": {},
   "outputs": [],
   "source": [
    "MSR_Brand_Trends=FS_Perf_Trends_final.loc[(FS_Perf_Trends_final[\"CP_BRAND\"]!=\"\")]"
   ]
  },
  {
   "cell_type": "code",
   "execution_count": null,
   "metadata": {},
   "outputs": [],
   "source": [
    "length= len(MSR_Brand_Trends)\n",
    "MSR_Brand_Trends[\"Record_ID\"]=range(1,length+1)"
   ]
  },
  {
   "cell_type": "code",
   "execution_count": null,
   "metadata": {},
   "outputs": [],
   "source": [
    "#saving into csv file\n",
    "MSR_Brand_Trends.to_csv(path_FS+\"MSR_Brand_Trends.csv\",index=False)"
   ]
  },
  {
   "cell_type": "markdown",
   "metadata": {},
   "source": [
    "## HHC"
   ]
  },
  {
   "cell_type": "code",
   "execution_count": 57,
   "metadata": {},
   "outputs": [],
   "source": [
    "# path to store Output files\n",
    "\n",
    "path_HHC=\"//falmumapp34/Nielsen Connect Transition & Maintenance (20-SCP-3650)/05. Output Data/5P Output/HHC/\""
   ]
  },
  {
   "cell_type": "code",
   "execution_count": 58,
   "metadata": {
    "scrolled": true
   },
   "outputs": [],
   "source": [
    "Data_5p_HHC=Data_5p.copy()"
   ]
  },
  {
   "cell_type": "code",
   "execution_count": 59,
   "metadata": {},
   "outputs": [
    {
     "name": "stdout",
     "output_type": "stream",
     "text": [
      "{'APC+WW', 'SPRAY', 'WOOD', 'POUR APC+WW', 'ABRASIVE'}\n"
     ]
    }
   ],
   "source": [
    "print(set(Data_5p_HHC[\"ShareBasis\"]))"
   ]
  },
  {
   "cell_type": "markdown",
   "metadata": {},
   "source": [
    "**Filtering TP Data**"
   ]
  },
  {
   "cell_type": "code",
   "execution_count": 60,
   "metadata": {},
   "outputs": [],
   "source": [
    "Data_5p_HHC=Data_5p_HHC.loc[Data_5p_HHC[\"ShareBasis\"].isin(['APC+WW', 'WOOD', 'ABRASIVE', 'POUR APC+WW'])]"
   ]
  },
  {
   "cell_type": "code",
   "execution_count": 61,
   "metadata": {},
   "outputs": [
    {
     "data": {
      "text/plain": [
       "APC+WW         141558\n",
       "POUR APC+WW     99687\n",
       "WOOD            47265\n",
       "ABRASIVE        22080\n",
       "Name: ShareBasis, dtype: int64"
      ]
     },
     "execution_count": 61,
     "metadata": {},
     "output_type": "execute_result"
    }
   ],
   "source": [
    "Data_5p_HHC[\"ShareBasis\"].value_counts()"
   ]
  },
  {
   "cell_type": "code",
   "execution_count": 62,
   "metadata": {},
   "outputs": [],
   "source": [
    "Data_5p_HHC[\"ShareBasis\"]=Data_5p_HHC[\"ShareBasis\"].str.replace('+',\"\")\n",
    "Data_5p_HHC[\"ShareBasis\"]=Data_5p_HHC[\"ShareBasis\"].str.replace(' APCWW',\"\")\n",
    "Data_5p_HHC[\"ShareBasis\"]=Data_5p_HHC[\"ShareBasis\"].str.replace('APCWW',\"APC+WW\")\n",
    "\n",
    "Data_5p_HHC[\"Products\"]=Data_5p_HHC[\"Products\"].str.replace('+',\"\")\n",
    "Data_5p_HHC[\"Products\"]=Data_5p_HHC[\"Products\"].str.replace(' APCWW',\"\")\n",
    "Data_5p_HHC[\"Products\"]=Data_5p_HHC[\"Products\"].str.replace('APCWW',\"APC+WW\")"
   ]
  },
  {
   "cell_type": "code",
   "execution_count": 63,
   "metadata": {},
   "outputs": [
    {
     "data": {
      "text/plain": [
       "APC+WW      141558\n",
       "POUR         99687\n",
       "WOOD         47265\n",
       "ABRASIVE     22080\n",
       "Name: ShareBasis, dtype: int64"
      ]
     },
     "execution_count": 63,
     "metadata": {},
     "output_type": "execute_result"
    }
   ],
   "source": [
    "Data_5p_HHC[\"ShareBasis\"].value_counts()"
   ]
  },
  {
   "cell_type": "code",
   "execution_count": 64,
   "metadata": {},
   "outputs": [
    {
     "data": {
      "text/plain": [
       "{'ABRASIVE', 'APC+WW', 'POUR', 'WOOD'}"
      ]
     },
     "execution_count": 64,
     "metadata": {},
     "output_type": "execute_result"
    }
   ],
   "source": [
    "set(Data_5p_HHC[\"ShareBasis\"])"
   ]
  },
  {
   "cell_type": "markdown",
   "metadata": {},
   "source": [
    "## Performance Data"
   ]
  },
  {
   "cell_type": "markdown",
   "metadata": {},
   "source": [
    "### **Summary**"
   ]
  },
  {
   "cell_type": "code",
   "execution_count": 65,
   "metadata": {},
   "outputs": [],
   "source": [
    "Perf_Markets=[\"BJs\",\"CVS\",\"Dollar General\",\"Family Dollar\",\"Fiesta\",\"Kmart\",\"Publix\",\n",
    "              \"Rite Aid\",\"Sams\",\"Target\",\"US AOC\",\"US Drug\",\"US Food\",\"Walgreens\",\"Walmart\"]"
   ]
  },
  {
   "cell_type": "code",
   "execution_count": 66,
   "metadata": {},
   "outputs": [],
   "source": [
    "HHC_Perf_Summary= Data_5p_HHC[Data_5p_HHC[\"Facts\"].isin(Perf_Summ_Facts)]\n",
    "HHC_Perf_Summary= HHC_Perf_Summary[HHC_Perf_Summary[\"Markets\"].isin(Perf_Markets)]"
   ]
  },
  {
   "cell_type": "code",
   "execution_count": 67,
   "metadata": {},
   "outputs": [
    {
     "name": "stdout",
     "output_type": "stream",
     "text": [
      "Missing Markets -> 0 Missing Factss -> 0\n"
     ]
    }
   ],
   "source": [
    "print(\"Missing Markets ->\",len(Perf_Markets)-len(set(HHC_Perf_Summary[\"Markets\"])),\"Missing Factss ->\",len(Perf_Summ_Facts)-len(set(HHC_Perf_Summary[\"Facts\"])))"
   ]
  },
  {
   "cell_type": "markdown",
   "metadata": {},
   "source": [
    "**Fact Mapping**"
   ]
  },
  {
   "cell_type": "code",
   "execution_count": 68,
   "metadata": {},
   "outputs": [],
   "source": [
    "HHC_Perf_Summary[\"Facts\"].replace(Perf_Summ_Fact_Mapping,inplace=True)"
   ]
  },
  {
   "cell_type": "markdown",
   "metadata": {},
   "source": [
    "**Column name Change**"
   ]
  },
  {
   "cell_type": "code",
   "execution_count": 69,
   "metadata": {},
   "outputs": [],
   "source": [
    "HHC_Perf_Summary.rename(columns={\"Markets\":\"MKT\",'ShareBasis':\"CP_SHARE_BASIS\",\"Products\":\"PROD\",\"Manufacturer\":\"CP_MANUFACTURER\",\n",
    "                                \"Franchise\":\"CP_FRANCHISE\",\"Brand\":\"CP_BRAND\",\"SubBrand\":\"CP_SUBBRAND_VARIANT\"},inplace=True)"
   ]
  },
  {
   "cell_type": "code",
   "execution_count": 70,
   "metadata": {},
   "outputs": [
    {
     "data": {
      "text/html": [
       "<div>\n",
       "<style scoped>\n",
       "    .dataframe tbody tr th:only-of-type {\n",
       "        vertical-align: middle;\n",
       "    }\n",
       "\n",
       "    .dataframe tbody tr th {\n",
       "        vertical-align: top;\n",
       "    }\n",
       "\n",
       "    .dataframe thead th {\n",
       "        text-align: right;\n",
       "    }\n",
       "</style>\n",
       "<table border=\"1\" class=\"dataframe\">\n",
       "  <thead>\n",
       "    <tr style=\"text-align: right;\">\n",
       "      <th></th>\n",
       "      <th>MKT</th>\n",
       "      <th>CP_SHARE_BASIS</th>\n",
       "      <th>Category</th>\n",
       "      <th>CP_MANUFACTURER</th>\n",
       "      <th>CP_FRANCHISE</th>\n",
       "      <th>CP_BRAND</th>\n",
       "      <th>CP_SUBBRAND_VARIANT</th>\n",
       "      <th>PROD</th>\n",
       "      <th>Facts</th>\n",
       "      <th>FY 2020</th>\n",
       "      <th>...</th>\n",
       "      <th>5 W/E 10/03/2020</th>\n",
       "      <th>4 W/E 08/29/2020</th>\n",
       "      <th>4 W/E 08/01/2020</th>\n",
       "      <th>5 W/E 07/04/2020</th>\n",
       "      <th>4 W/E 05/30/2020</th>\n",
       "      <th>4 W/E 05/02/2020</th>\n",
       "      <th>5 W/E 04/04/2020</th>\n",
       "      <th>4 W/E 02/29/2020</th>\n",
       "      <th>4 W/E 02/01/2020</th>\n",
       "      <th>Key</th>\n",
       "    </tr>\n",
       "  </thead>\n",
       "  <tbody>\n",
       "    <tr>\n",
       "      <th>2</th>\n",
       "      <td>US AOC</td>\n",
       "      <td>ABRASIVE</td>\n",
       "      <td>HHC</td>\n",
       "      <td></td>\n",
       "      <td></td>\n",
       "      <td></td>\n",
       "      <td></td>\n",
       "      <td>ABRASIVE</td>\n",
       "      <td>Prcnt_EQUnits_Any_Promo</td>\n",
       "      <td>7.001000e+00</td>\n",
       "      <td>...</td>\n",
       "      <td>5.203</td>\n",
       "      <td>4.318</td>\n",
       "      <td>6.266</td>\n",
       "      <td>4.726</td>\n",
       "      <td>5.051</td>\n",
       "      <td>5.970</td>\n",
       "      <td>1.197000e+01</td>\n",
       "      <td>10.971</td>\n",
       "      <td>14.294</td>\n",
       "      <td>Total US xAOCABRASIVE</td>\n",
       "    </tr>\n",
       "    <tr>\n",
       "      <th>3</th>\n",
       "      <td>US AOC</td>\n",
       "      <td>ABRASIVE</td>\n",
       "      <td>HHC</td>\n",
       "      <td></td>\n",
       "      <td></td>\n",
       "      <td></td>\n",
       "      <td></td>\n",
       "      <td>ABRASIVE</td>\n",
       "      <td>Prcnt_EQUnits_Any_Promo_Chg</td>\n",
       "      <td>-3.202000e+00</td>\n",
       "      <td>...</td>\n",
       "      <td>-3.018</td>\n",
       "      <td>-5.061</td>\n",
       "      <td>-0.554</td>\n",
       "      <td>-5.251</td>\n",
       "      <td>-5.886</td>\n",
       "      <td>-6.990</td>\n",
       "      <td>-2.701000e+00</td>\n",
       "      <td>1.550</td>\n",
       "      <td>5.396</td>\n",
       "      <td>Total US xAOCABRASIVE</td>\n",
       "    </tr>\n",
       "    <tr>\n",
       "      <th>4</th>\n",
       "      <td>US AOC</td>\n",
       "      <td>ABRASIVE</td>\n",
       "      <td>HHC</td>\n",
       "      <td></td>\n",
       "      <td></td>\n",
       "      <td></td>\n",
       "      <td></td>\n",
       "      <td>ABRASIVE</td>\n",
       "      <td>Store_Selling</td>\n",
       "      <td>8.396500e+01</td>\n",
       "      <td>...</td>\n",
       "      <td>83.289</td>\n",
       "      <td>83.337</td>\n",
       "      <td>83.584</td>\n",
       "      <td>84.098</td>\n",
       "      <td>84.403</td>\n",
       "      <td>84.481</td>\n",
       "      <td>8.561200e+01</td>\n",
       "      <td>84.689</td>\n",
       "      <td>84.998</td>\n",
       "      <td>Total US xAOCABRASIVE</td>\n",
       "    </tr>\n",
       "    <tr>\n",
       "      <th>5</th>\n",
       "      <td>US AOC</td>\n",
       "      <td>ABRASIVE</td>\n",
       "      <td>HHC</td>\n",
       "      <td></td>\n",
       "      <td></td>\n",
       "      <td></td>\n",
       "      <td></td>\n",
       "      <td>ABRASIVE</td>\n",
       "      <td>Store_Selling_Chg</td>\n",
       "      <td>-3.344000e+00</td>\n",
       "      <td>...</td>\n",
       "      <td>-4.160</td>\n",
       "      <td>-4.929</td>\n",
       "      <td>-4.402</td>\n",
       "      <td>-3.879</td>\n",
       "      <td>-3.143</td>\n",
       "      <td>-2.517</td>\n",
       "      <td>-2.208000e+00</td>\n",
       "      <td>-4.091</td>\n",
       "      <td>-3.697</td>\n",
       "      <td>Total US xAOCABRASIVE</td>\n",
       "    </tr>\n",
       "    <tr>\n",
       "      <th>6</th>\n",
       "      <td>US AOC</td>\n",
       "      <td>ABRASIVE</td>\n",
       "      <td>HHC</td>\n",
       "      <td></td>\n",
       "      <td></td>\n",
       "      <td></td>\n",
       "      <td></td>\n",
       "      <td>ABRASIVE</td>\n",
       "      <td>Dollars</td>\n",
       "      <td>9.096963e+07</td>\n",
       "      <td>...</td>\n",
       "      <td>8710205.540</td>\n",
       "      <td>7443404.713</td>\n",
       "      <td>7403502.123</td>\n",
       "      <td>8972432.027</td>\n",
       "      <td>7357062.856</td>\n",
       "      <td>7475211.285</td>\n",
       "      <td>1.082276e+07</td>\n",
       "      <td>5506615.708</td>\n",
       "      <td>5550610.955</td>\n",
       "      <td>Total US xAOCABRASIVE</td>\n",
       "    </tr>\n",
       "  </tbody>\n",
       "</table>\n",
       "<p>5 rows × 40 columns</p>\n",
       "</div>"
      ],
      "text/plain": [
       "      MKT CP_SHARE_BASIS Category CP_MANUFACTURER CP_FRANCHISE CP_BRAND  \\\n",
       "2  US AOC       ABRASIVE      HHC                                         \n",
       "3  US AOC       ABRASIVE      HHC                                         \n",
       "4  US AOC       ABRASIVE      HHC                                         \n",
       "5  US AOC       ABRASIVE      HHC                                         \n",
       "6  US AOC       ABRASIVE      HHC                                         \n",
       "\n",
       "  CP_SUBBRAND_VARIANT      PROD                        Facts       FY 2020  \\\n",
       "2                      ABRASIVE      Prcnt_EQUnits_Any_Promo  7.001000e+00   \n",
       "3                      ABRASIVE  Prcnt_EQUnits_Any_Promo_Chg -3.202000e+00   \n",
       "4                      ABRASIVE                Store_Selling  8.396500e+01   \n",
       "5                      ABRASIVE            Store_Selling_Chg -3.344000e+00   \n",
       "6                      ABRASIVE                      Dollars  9.096963e+07   \n",
       "\n",
       "   ...  5 W/E 10/03/2020  4 W/E 08/29/2020  4 W/E 08/01/2020  \\\n",
       "2  ...             5.203             4.318             6.266   \n",
       "3  ...            -3.018            -5.061            -0.554   \n",
       "4  ...            83.289            83.337            83.584   \n",
       "5  ...            -4.160            -4.929            -4.402   \n",
       "6  ...       8710205.540       7443404.713       7403502.123   \n",
       "\n",
       "   5 W/E 07/04/2020  4 W/E 05/30/2020  4 W/E 05/02/2020  5 W/E 04/04/2020  \\\n",
       "2             4.726             5.051             5.970      1.197000e+01   \n",
       "3            -5.251            -5.886            -6.990     -2.701000e+00   \n",
       "4            84.098            84.403            84.481      8.561200e+01   \n",
       "5            -3.879            -3.143            -2.517     -2.208000e+00   \n",
       "6       8972432.027       7357062.856       7475211.285      1.082276e+07   \n",
       "\n",
       "   4 W/E 02/29/2020  4 W/E 02/01/2020                    Key  \n",
       "2            10.971            14.294  Total US xAOCABRASIVE  \n",
       "3             1.550             5.396  Total US xAOCABRASIVE  \n",
       "4            84.689            84.998  Total US xAOCABRASIVE  \n",
       "5            -4.091            -3.697  Total US xAOCABRASIVE  \n",
       "6       5506615.708       5550610.955  Total US xAOCABRASIVE  \n",
       "\n",
       "[5 rows x 40 columns]"
      ]
     },
     "execution_count": 70,
     "metadata": {},
     "output_type": "execute_result"
    }
   ],
   "source": [
    "HHC_Perf_Summary.head()"
   ]
  },
  {
   "cell_type": "code",
   "execution_count": 71,
   "metadata": {
    "scrolled": true
   },
   "outputs": [
    {
     "name": "stdout",
     "output_type": "stream",
     "text": [
      "['4 W/E 02/27/2021', 'Latest 13 Weeks', 'Latest 26 Weeks', 'YTD 2021', 'FY 2020']\n"
     ]
    }
   ],
   "source": [
    "Time_Period=Perf_Summ_Time_Period\n",
    "print(Time_Period)"
   ]
  },
  {
   "cell_type": "markdown",
   "metadata": {},
   "source": [
    "**Moving Time Period to Rows and Facts to Columns**"
   ]
  },
  {
   "cell_type": "code",
   "execution_count": 72,
   "metadata": {},
   "outputs": [],
   "source": [
    "df1=pd.melt(HHC_Perf_Summary, id_vars =[\"MKT\",\"PROD\",\"CP_MANUFACTURER\",\"CP_FRANCHISE\",\"CP_BRAND\",'CP_SUBBRAND_VARIANT',\"CP_SHARE_BASIS\",\"Facts\"], value_vars =Time_Period,var_name=\"Time_Period\")\n",
    "\n",
    "df1[\"value\"]=df1[\"value\"].apply(pd.to_numeric)"
   ]
  },
  {
   "cell_type": "code",
   "execution_count": 73,
   "metadata": {},
   "outputs": [],
   "source": [
    "df2=df1.pivot_table(index=['MKT','PROD', 'CP_MANUFACTURER', 'CP_FRANCHISE', 'CP_BRAND','CP_SUBBRAND_VARIANT',\"CP_SHARE_BASIS\",'Time_Period'],columns='Facts')\n",
    "\n",
    "df2.columns=df2.columns.droplevel().rename(None)\n",
    "df2.reset_index(inplace =True)"
   ]
  },
  {
   "cell_type": "code",
   "execution_count": 74,
   "metadata": {},
   "outputs": [],
   "source": [
    "from pandas.api.types import CategoricalDtype\n",
    "\n",
    "Time_Period_order = CategoricalDtype(\n",
    "    Time_Period, \n",
    "    ordered=True\n",
    ")\n",
    "\n",
    "df2['Time_Period'] = df2['Time_Period'].astype(Time_Period_order)\n",
    "\n",
    "df2.sort_values(['MKT','PROD','Time_Period'],inplace=True)"
   ]
  },
  {
   "cell_type": "code",
   "execution_count": 75,
   "metadata": {},
   "outputs": [
    {
     "data": {
      "text/html": [
       "<div>\n",
       "<style scoped>\n",
       "    .dataframe tbody tr th:only-of-type {\n",
       "        vertical-align: middle;\n",
       "    }\n",
       "\n",
       "    .dataframe tbody tr th {\n",
       "        vertical-align: top;\n",
       "    }\n",
       "\n",
       "    .dataframe thead th {\n",
       "        text-align: right;\n",
       "    }\n",
       "</style>\n",
       "<table border=\"1\" class=\"dataframe\">\n",
       "  <thead>\n",
       "    <tr style=\"text-align: right;\">\n",
       "      <th></th>\n",
       "      <th>MKT</th>\n",
       "      <th>PROD</th>\n",
       "      <th>CP_MANUFACTURER</th>\n",
       "      <th>CP_FRANCHISE</th>\n",
       "      <th>CP_BRAND</th>\n",
       "      <th>CP_SUBBRAND_VARIANT</th>\n",
       "      <th>CP_SHARE_BASIS</th>\n",
       "      <th>Time_Period</th>\n",
       "      <th>Base_Doll_Shr</th>\n",
       "      <th>Base_Doll_Shr_Chg</th>\n",
       "      <th>...</th>\n",
       "      <th>Incr_Doll_Shr</th>\n",
       "      <th>Incr_Doll_Shr_Chg</th>\n",
       "      <th>Prcnt_ACV_TPR_Chg_cum</th>\n",
       "      <th>Prcnt_ACV_TPR_cum</th>\n",
       "      <th>Prcnt_EQUnits_Any_Promo</th>\n",
       "      <th>Prcnt_EQUnits_Any_Promo_Chg</th>\n",
       "      <th>QS_ACV_Chg_cum</th>\n",
       "      <th>QS_ACV_cum</th>\n",
       "      <th>Store_Selling</th>\n",
       "      <th>Store_Selling_Chg</th>\n",
       "    </tr>\n",
       "  </thead>\n",
       "  <tbody>\n",
       "    <tr>\n",
       "      <th>0</th>\n",
       "      <td>BJs</td>\n",
       "      <td>APC+WW</td>\n",
       "      <td></td>\n",
       "      <td></td>\n",
       "      <td></td>\n",
       "      <td></td>\n",
       "      <td>APC+WW</td>\n",
       "      <td>4 W/E 02/27/2021</td>\n",
       "      <td>84.377</td>\n",
       "      <td>20.200</td>\n",
       "      <td>...</td>\n",
       "      <td>15.623</td>\n",
       "      <td>-20.200</td>\n",
       "      <td>3.120</td>\n",
       "      <td>100.000</td>\n",
       "      <td>15.114</td>\n",
       "      <td>-61.917</td>\n",
       "      <td>-91.106</td>\n",
       "      <td>8.894</td>\n",
       "      <td>100.000</td>\n",
       "      <td>0.000</td>\n",
       "    </tr>\n",
       "    <tr>\n",
       "      <th>2</th>\n",
       "      <td>BJs</td>\n",
       "      <td>APC+WW</td>\n",
       "      <td></td>\n",
       "      <td></td>\n",
       "      <td></td>\n",
       "      <td></td>\n",
       "      <td>APC+WW</td>\n",
       "      <td>Latest 13 Weeks</td>\n",
       "      <td>90.488</td>\n",
       "      <td>16.285</td>\n",
       "      <td>...</td>\n",
       "      <td>9.512</td>\n",
       "      <td>-16.285</td>\n",
       "      <td>-11.626</td>\n",
       "      <td>83.412</td>\n",
       "      <td>10.778</td>\n",
       "      <td>-64.959</td>\n",
       "      <td>-35.725</td>\n",
       "      <td>64.275</td>\n",
       "      <td>100.000</td>\n",
       "      <td>0.000</td>\n",
       "    </tr>\n",
       "    <tr>\n",
       "      <th>3</th>\n",
       "      <td>BJs</td>\n",
       "      <td>APC+WW</td>\n",
       "      <td></td>\n",
       "      <td></td>\n",
       "      <td></td>\n",
       "      <td></td>\n",
       "      <td>APC+WW</td>\n",
       "      <td>Latest 26 Weeks</td>\n",
       "      <td>84.224</td>\n",
       "      <td>6.883</td>\n",
       "      <td>...</td>\n",
       "      <td>15.776</td>\n",
       "      <td>-6.883</td>\n",
       "      <td>-15.900</td>\n",
       "      <td>79.237</td>\n",
       "      <td>15.269</td>\n",
       "      <td>-58.901</td>\n",
       "      <td>-17.872</td>\n",
       "      <td>82.128</td>\n",
       "      <td>99.995</td>\n",
       "      <td>-0.005</td>\n",
       "    </tr>\n",
       "    <tr>\n",
       "      <th>4</th>\n",
       "      <td>BJs</td>\n",
       "      <td>APC+WW</td>\n",
       "      <td></td>\n",
       "      <td></td>\n",
       "      <td></td>\n",
       "      <td></td>\n",
       "      <td>APC+WW</td>\n",
       "      <td>YTD 2021</td>\n",
       "      <td>94.165</td>\n",
       "      <td>25.207</td>\n",
       "      <td>...</td>\n",
       "      <td>5.835</td>\n",
       "      <td>-25.207</td>\n",
       "      <td>1.168</td>\n",
       "      <td>93.112</td>\n",
       "      <td>13.576</td>\n",
       "      <td>-59.588</td>\n",
       "      <td>-58.053</td>\n",
       "      <td>41.947</td>\n",
       "      <td>100.000</td>\n",
       "      <td>0.000</td>\n",
       "    </tr>\n",
       "    <tr>\n",
       "      <th>1</th>\n",
       "      <td>BJs</td>\n",
       "      <td>APC+WW</td>\n",
       "      <td></td>\n",
       "      <td></td>\n",
       "      <td></td>\n",
       "      <td></td>\n",
       "      <td>APC+WW</td>\n",
       "      <td>FY 2020</td>\n",
       "      <td>81.393</td>\n",
       "      <td>-3.334</td>\n",
       "      <td>...</td>\n",
       "      <td>18.607</td>\n",
       "      <td>3.334</td>\n",
       "      <td>3.575</td>\n",
       "      <td>79.836</td>\n",
       "      <td>33.311</td>\n",
       "      <td>-37.953</td>\n",
       "      <td>-0.204</td>\n",
       "      <td>99.594</td>\n",
       "      <td>99.996</td>\n",
       "      <td>-0.004</td>\n",
       "    </tr>\n",
       "  </tbody>\n",
       "</table>\n",
       "<p>5 rows × 32 columns</p>\n",
       "</div>"
      ],
      "text/plain": [
       "   MKT    PROD CP_MANUFACTURER CP_FRANCHISE CP_BRAND CP_SUBBRAND_VARIANT  \\\n",
       "0  BJs  APC+WW                                                             \n",
       "2  BJs  APC+WW                                                             \n",
       "3  BJs  APC+WW                                                             \n",
       "4  BJs  APC+WW                                                             \n",
       "1  BJs  APC+WW                                                             \n",
       "\n",
       "  CP_SHARE_BASIS       Time_Period  Base_Doll_Shr  Base_Doll_Shr_Chg  ...  \\\n",
       "0         APC+WW  4 W/E 02/27/2021         84.377             20.200  ...   \n",
       "2         APC+WW   Latest 13 Weeks         90.488             16.285  ...   \n",
       "3         APC+WW   Latest 26 Weeks         84.224              6.883  ...   \n",
       "4         APC+WW          YTD 2021         94.165             25.207  ...   \n",
       "1         APC+WW           FY 2020         81.393             -3.334  ...   \n",
       "\n",
       "   Incr_Doll_Shr  Incr_Doll_Shr_Chg  Prcnt_ACV_TPR_Chg_cum  Prcnt_ACV_TPR_cum  \\\n",
       "0         15.623            -20.200                  3.120            100.000   \n",
       "2          9.512            -16.285                -11.626             83.412   \n",
       "3         15.776             -6.883                -15.900             79.237   \n",
       "4          5.835            -25.207                  1.168             93.112   \n",
       "1         18.607              3.334                  3.575             79.836   \n",
       "\n",
       "   Prcnt_EQUnits_Any_Promo  Prcnt_EQUnits_Any_Promo_Chg  QS_ACV_Chg_cum  \\\n",
       "0                   15.114                      -61.917         -91.106   \n",
       "2                   10.778                      -64.959         -35.725   \n",
       "3                   15.269                      -58.901         -17.872   \n",
       "4                   13.576                      -59.588         -58.053   \n",
       "1                   33.311                      -37.953          -0.204   \n",
       "\n",
       "   QS_ACV_cum  Store_Selling  Store_Selling_Chg  \n",
       "0       8.894        100.000              0.000  \n",
       "2      64.275        100.000              0.000  \n",
       "3      82.128         99.995             -0.005  \n",
       "4      41.947        100.000              0.000  \n",
       "1      99.594         99.996             -0.004  \n",
       "\n",
       "[5 rows x 32 columns]"
      ]
     },
     "execution_count": 75,
     "metadata": {},
     "output_type": "execute_result"
    }
   ],
   "source": [
    "df2.head()"
   ]
  },
  {
   "cell_type": "code",
   "execution_count": 76,
   "metadata": {},
   "outputs": [],
   "source": [
    "final_column_sorting=[\"MKT\",\"PROD\",\"CP_MANUFACTURER\",\"CP_FRANCHISE\",\"CP_BRAND\",\"CP_SUBBRAND_VARIANT\",\"Time_Period\",\n",
    "                      \"Doll_Shr\",\"Doll_Shr_Chg\",\"Base_Doll_Shr\",\"Base_Doll_Shr_Chg\",\"Incr_Doll_Shr\",\"Incr_Doll_Shr_Chg\",\n",
    "                      \"Dollars\",\"Dollars_Chg\",\"Store_Selling\",\"Store_Selling_Chg\",\"Cum_Distri_Pts\",\"Cum_Distri_Pts_Chg\",\n",
    "                      \"CC_RASP\",\"CC_RASP_Chg\",\"CC_Base_RASP\",\"CC_Base_RASP_Chg\",\"CC_Promo_RASP\",\"CC_Promo_RASP_Chg\",\n",
    "                      \"Prcnt_EQUnits_Any_Promo\",\"Prcnt_EQUnits_Any_Promo_Chg\",\"QS_ACV_cum\",\"QS_ACV_Chg_cum\",\n",
    "                      \"Prcnt_ACV_TPR_cum\",\"Prcnt_ACV_TPR_Chg_cum\",\"CP_SHARE_BASIS\"\n",
    "                      ]\n",
    "\n",
    "HHC_Perf_Summary_final=df2[final_column_sorting]"
   ]
  },
  {
   "cell_type": "code",
   "execution_count": 77,
   "metadata": {},
   "outputs": [
    {
     "data": {
      "text/html": [
       "<div>\n",
       "<style scoped>\n",
       "    .dataframe tbody tr th:only-of-type {\n",
       "        vertical-align: middle;\n",
       "    }\n",
       "\n",
       "    .dataframe tbody tr th {\n",
       "        vertical-align: top;\n",
       "    }\n",
       "\n",
       "    .dataframe thead th {\n",
       "        text-align: right;\n",
       "    }\n",
       "</style>\n",
       "<table border=\"1\" class=\"dataframe\">\n",
       "  <thead>\n",
       "    <tr style=\"text-align: right;\">\n",
       "      <th></th>\n",
       "      <th>MKT</th>\n",
       "      <th>PROD</th>\n",
       "      <th>CP_MANUFACTURER</th>\n",
       "      <th>CP_FRANCHISE</th>\n",
       "      <th>CP_BRAND</th>\n",
       "      <th>CP_SUBBRAND_VARIANT</th>\n",
       "      <th>Time_Period</th>\n",
       "      <th>Doll_Shr</th>\n",
       "      <th>Doll_Shr_Chg</th>\n",
       "      <th>Base_Doll_Shr</th>\n",
       "      <th>...</th>\n",
       "      <th>CC_Base_RASP_Chg</th>\n",
       "      <th>CC_Promo_RASP</th>\n",
       "      <th>CC_Promo_RASP_Chg</th>\n",
       "      <th>Prcnt_EQUnits_Any_Promo</th>\n",
       "      <th>Prcnt_EQUnits_Any_Promo_Chg</th>\n",
       "      <th>QS_ACV_cum</th>\n",
       "      <th>QS_ACV_Chg_cum</th>\n",
       "      <th>Prcnt_ACV_TPR_cum</th>\n",
       "      <th>Prcnt_ACV_TPR_Chg_cum</th>\n",
       "      <th>CP_SHARE_BASIS</th>\n",
       "    </tr>\n",
       "  </thead>\n",
       "  <tbody>\n",
       "    <tr>\n",
       "      <th>0</th>\n",
       "      <td>BJs</td>\n",
       "      <td>APC+WW</td>\n",
       "      <td></td>\n",
       "      <td></td>\n",
       "      <td></td>\n",
       "      <td></td>\n",
       "      <td>4 W/E 02/27/2021</td>\n",
       "      <td>100.0</td>\n",
       "      <td>0.0</td>\n",
       "      <td>84.377</td>\n",
       "      <td>...</td>\n",
       "      <td>-0.005</td>\n",
       "      <td>0.058</td>\n",
       "      <td>0.017</td>\n",
       "      <td>15.114</td>\n",
       "      <td>-61.917</td>\n",
       "      <td>8.894</td>\n",
       "      <td>-91.106</td>\n",
       "      <td>100.000</td>\n",
       "      <td>3.120</td>\n",
       "      <td>APC+WW</td>\n",
       "    </tr>\n",
       "    <tr>\n",
       "      <th>2</th>\n",
       "      <td>BJs</td>\n",
       "      <td>APC+WW</td>\n",
       "      <td></td>\n",
       "      <td></td>\n",
       "      <td></td>\n",
       "      <td></td>\n",
       "      <td>Latest 13 Weeks</td>\n",
       "      <td>100.0</td>\n",
       "      <td>0.0</td>\n",
       "      <td>90.488</td>\n",
       "      <td>...</td>\n",
       "      <td>-0.004</td>\n",
       "      <td>0.066</td>\n",
       "      <td>0.023</td>\n",
       "      <td>10.778</td>\n",
       "      <td>-64.959</td>\n",
       "      <td>64.275</td>\n",
       "      <td>-35.725</td>\n",
       "      <td>83.412</td>\n",
       "      <td>-11.626</td>\n",
       "      <td>APC+WW</td>\n",
       "    </tr>\n",
       "    <tr>\n",
       "      <th>3</th>\n",
       "      <td>BJs</td>\n",
       "      <td>APC+WW</td>\n",
       "      <td></td>\n",
       "      <td></td>\n",
       "      <td></td>\n",
       "      <td></td>\n",
       "      <td>Latest 26 Weeks</td>\n",
       "      <td>100.0</td>\n",
       "      <td>0.0</td>\n",
       "      <td>84.224</td>\n",
       "      <td>...</td>\n",
       "      <td>-0.002</td>\n",
       "      <td>0.066</td>\n",
       "      <td>0.023</td>\n",
       "      <td>15.269</td>\n",
       "      <td>-58.901</td>\n",
       "      <td>82.128</td>\n",
       "      <td>-17.872</td>\n",
       "      <td>79.237</td>\n",
       "      <td>-15.900</td>\n",
       "      <td>APC+WW</td>\n",
       "    </tr>\n",
       "    <tr>\n",
       "      <th>4</th>\n",
       "      <td>BJs</td>\n",
       "      <td>APC+WW</td>\n",
       "      <td></td>\n",
       "      <td></td>\n",
       "      <td></td>\n",
       "      <td></td>\n",
       "      <td>YTD 2021</td>\n",
       "      <td>100.0</td>\n",
       "      <td>0.0</td>\n",
       "      <td>94.165</td>\n",
       "      <td>...</td>\n",
       "      <td>-0.004</td>\n",
       "      <td>0.064</td>\n",
       "      <td>0.021</td>\n",
       "      <td>13.576</td>\n",
       "      <td>-59.588</td>\n",
       "      <td>41.947</td>\n",
       "      <td>-58.053</td>\n",
       "      <td>93.112</td>\n",
       "      <td>1.168</td>\n",
       "      <td>APC+WW</td>\n",
       "    </tr>\n",
       "    <tr>\n",
       "      <th>1</th>\n",
       "      <td>BJs</td>\n",
       "      <td>APC+WW</td>\n",
       "      <td></td>\n",
       "      <td></td>\n",
       "      <td></td>\n",
       "      <td></td>\n",
       "      <td>FY 2020</td>\n",
       "      <td>100.0</td>\n",
       "      <td>0.0</td>\n",
       "      <td>81.393</td>\n",
       "      <td>...</td>\n",
       "      <td>-0.001</td>\n",
       "      <td>0.052</td>\n",
       "      <td>0.007</td>\n",
       "      <td>33.311</td>\n",
       "      <td>-37.953</td>\n",
       "      <td>99.594</td>\n",
       "      <td>-0.204</td>\n",
       "      <td>79.836</td>\n",
       "      <td>3.575</td>\n",
       "      <td>APC+WW</td>\n",
       "    </tr>\n",
       "  </tbody>\n",
       "</table>\n",
       "<p>5 rows × 32 columns</p>\n",
       "</div>"
      ],
      "text/plain": [
       "   MKT    PROD CP_MANUFACTURER CP_FRANCHISE CP_BRAND CP_SUBBRAND_VARIANT  \\\n",
       "0  BJs  APC+WW                                                             \n",
       "2  BJs  APC+WW                                                             \n",
       "3  BJs  APC+WW                                                             \n",
       "4  BJs  APC+WW                                                             \n",
       "1  BJs  APC+WW                                                             \n",
       "\n",
       "        Time_Period  Doll_Shr  Doll_Shr_Chg  Base_Doll_Shr  ...  \\\n",
       "0  4 W/E 02/27/2021     100.0           0.0         84.377  ...   \n",
       "2   Latest 13 Weeks     100.0           0.0         90.488  ...   \n",
       "3   Latest 26 Weeks     100.0           0.0         84.224  ...   \n",
       "4          YTD 2021     100.0           0.0         94.165  ...   \n",
       "1           FY 2020     100.0           0.0         81.393  ...   \n",
       "\n",
       "   CC_Base_RASP_Chg  CC_Promo_RASP  CC_Promo_RASP_Chg  \\\n",
       "0            -0.005          0.058              0.017   \n",
       "2            -0.004          0.066              0.023   \n",
       "3            -0.002          0.066              0.023   \n",
       "4            -0.004          0.064              0.021   \n",
       "1            -0.001          0.052              0.007   \n",
       "\n",
       "   Prcnt_EQUnits_Any_Promo  Prcnt_EQUnits_Any_Promo_Chg  QS_ACV_cum  \\\n",
       "0                   15.114                      -61.917       8.894   \n",
       "2                   10.778                      -64.959      64.275   \n",
       "3                   15.269                      -58.901      82.128   \n",
       "4                   13.576                      -59.588      41.947   \n",
       "1                   33.311                      -37.953      99.594   \n",
       "\n",
       "   QS_ACV_Chg_cum  Prcnt_ACV_TPR_cum  Prcnt_ACV_TPR_Chg_cum  CP_SHARE_BASIS  \n",
       "0         -91.106            100.000                  3.120          APC+WW  \n",
       "2         -35.725             83.412                -11.626          APC+WW  \n",
       "3         -17.872             79.237                -15.900          APC+WW  \n",
       "4         -58.053             93.112                  1.168          APC+WW  \n",
       "1          -0.204             79.836                  3.575          APC+WW  \n",
       "\n",
       "[5 rows x 32 columns]"
      ]
     },
     "execution_count": 77,
     "metadata": {},
     "output_type": "execute_result"
    }
   ],
   "source": [
    "HHC_Perf_Summary_final.head()"
   ]
  },
  {
   "cell_type": "code",
   "execution_count": 78,
   "metadata": {},
   "outputs": [
    {
     "data": {
      "text/plain": [
       "{'ABRASIVE', 'APC+WW', 'POUR', 'WOOD'}"
      ]
     },
     "execution_count": 78,
     "metadata": {},
     "output_type": "execute_result"
    }
   ],
   "source": [
    "set(HHC_Perf_Summary_final[\"CP_SHARE_BASIS\"])"
   ]
  },
  {
   "cell_type": "markdown",
   "metadata": {},
   "source": [
    "### **MSR_Cat_Summary**"
   ]
  },
  {
   "cell_type": "code",
   "execution_count": 79,
   "metadata": {},
   "outputs": [],
   "source": [
    "MSR_Cat_Summary=HHC_Perf_Summary_final.loc[(HHC_Perf_Summary_final[\"CP_SUBBRAND_VARIANT\"]==\"\")&(HHC_Perf_Summary_final[\"CP_BRAND\"]==\"\")&(HHC_Perf_Summary_final[\"CP_FRANCHISE\"]==\"\")&(HHC_Perf_Summary_final[\"CP_MANUFACTURER\"]==\"\")]"
   ]
  },
  {
   "cell_type": "code",
   "execution_count": 80,
   "metadata": {},
   "outputs": [],
   "source": [
    "length= len(MSR_Cat_Summary)\n",
    "MSR_Cat_Summary[\"Record_ID\"]=range(1,length+1)"
   ]
  },
  {
   "cell_type": "code",
   "execution_count": 81,
   "metadata": {},
   "outputs": [
    {
     "data": {
      "text/plain": [
       "(290, 33)"
      ]
     },
     "execution_count": 81,
     "metadata": {},
     "output_type": "execute_result"
    }
   ],
   "source": [
    "MSR_Cat_Summary.shape"
   ]
  },
  {
   "cell_type": "code",
   "execution_count": 82,
   "metadata": {},
   "outputs": [],
   "source": [
    "#saving into csv file\n",
    "MSR_Cat_Summary.to_csv(path_HHC+\"MSR_Cat_Summary.csv\",index=False)"
   ]
  },
  {
   "cell_type": "markdown",
   "metadata": {},
   "source": [
    "### **MSR_Manu_Summary**"
   ]
  },
  {
   "cell_type": "code",
   "execution_count": 83,
   "metadata": {},
   "outputs": [],
   "source": [
    "MSR_Manu_Summary=HHC_Perf_Summary_final.loc[(HHC_Perf_Summary_final[\"CP_SUBBRAND_VARIANT\"]==\"\")&(HHC_Perf_Summary_final[\"CP_BRAND\"]==\"\")&(HHC_Perf_Summary_final[\"CP_FRANCHISE\"]==\"\")&(HHC_Perf_Summary_final[\"CP_MANUFACTURER\"]!=\"\")]"
   ]
  },
  {
   "cell_type": "code",
   "execution_count": 84,
   "metadata": {},
   "outputs": [],
   "source": [
    "length= len(MSR_Manu_Summary)\n",
    "MSR_Manu_Summary[\"Record_ID\"]=range(1,length+1)"
   ]
  },
  {
   "cell_type": "code",
   "execution_count": 85,
   "metadata": {},
   "outputs": [
    {
     "data": {
      "text/plain": [
       "(1555, 33)"
      ]
     },
     "execution_count": 85,
     "metadata": {},
     "output_type": "execute_result"
    }
   ],
   "source": [
    "MSR_Manu_Summary.shape"
   ]
  },
  {
   "cell_type": "code",
   "execution_count": 86,
   "metadata": {},
   "outputs": [],
   "source": [
    "#saving into csv file\n",
    "MSR_Manu_Summary.to_csv(path_HHC+\"MSR_Manu_Summary.csv\",index=False)"
   ]
  },
  {
   "cell_type": "markdown",
   "metadata": {},
   "source": [
    "### **MSR_Fran_Summary**"
   ]
  },
  {
   "cell_type": "code",
   "execution_count": 87,
   "metadata": {},
   "outputs": [],
   "source": [
    "MSR_Fran_Summary=HHC_Perf_Summary_final.loc[(HHC_Perf_Summary_final[\"CP_SUBBRAND_VARIANT\"]==\"\")&(HHC_Perf_Summary_final[\"CP_BRAND\"]==\"\")&(HHC_Perf_Summary_final[\"CP_FRANCHISE\"]!=\"\")]"
   ]
  },
  {
   "cell_type": "code",
   "execution_count": 88,
   "metadata": {},
   "outputs": [],
   "source": [
    "length= len(MSR_Fran_Summary)\n",
    "MSR_Fran_Summary[\"Record_ID\"]=range(1,length+1)"
   ]
  },
  {
   "cell_type": "code",
   "execution_count": 89,
   "metadata": {},
   "outputs": [
    {
     "data": {
      "text/plain": [
       "(2545, 33)"
      ]
     },
     "execution_count": 89,
     "metadata": {},
     "output_type": "execute_result"
    }
   ],
   "source": [
    "MSR_Fran_Summary.shape"
   ]
  },
  {
   "cell_type": "code",
   "execution_count": 90,
   "metadata": {},
   "outputs": [],
   "source": [
    "#saving into csv file\n",
    "MSR_Fran_Summary.to_csv(path_HHC+\"MSR_Fran_Summary.csv\",index=False)"
   ]
  },
  {
   "cell_type": "markdown",
   "metadata": {},
   "source": [
    "### **MSR_Brand_Summary**"
   ]
  },
  {
   "cell_type": "code",
   "execution_count": 91,
   "metadata": {},
   "outputs": [],
   "source": [
    "MSR_Brand_Summary=HHC_Perf_Summary_final.loc[(HHC_Perf_Summary_final[\"CP_SUBBRAND_VARIANT\"]==\"\")& (HHC_Perf_Summary_final[\"CP_BRAND\"]!=\"\")]"
   ]
  },
  {
   "cell_type": "code",
   "execution_count": 92,
   "metadata": {},
   "outputs": [],
   "source": [
    "length= len(MSR_Brand_Summary)\n",
    "MSR_Brand_Summary[\"Record_ID\"]=range(1,length+1)"
   ]
  },
  {
   "cell_type": "code",
   "execution_count": 93,
   "metadata": {},
   "outputs": [
    {
     "data": {
      "text/plain": [
       "(3820, 33)"
      ]
     },
     "execution_count": 93,
     "metadata": {},
     "output_type": "execute_result"
    }
   ],
   "source": [
    "MSR_Brand_Summary.shape"
   ]
  },
  {
   "cell_type": "code",
   "execution_count": 94,
   "metadata": {},
   "outputs": [],
   "source": [
    "#saving into csv file\n",
    "MSR_Brand_Summary.to_csv(path_HHC+\"MSR_Brand_Summary.csv\",index=False)"
   ]
  },
  {
   "cell_type": "markdown",
   "metadata": {},
   "source": [
    "### **MSR_SubBrand_Summary**"
   ]
  },
  {
   "cell_type": "code",
   "execution_count": 95,
   "metadata": {},
   "outputs": [],
   "source": [
    "MSR_SubBrand_Summary=HHC_Perf_Summary_final.loc[(HHC_Perf_Summary_final[\"CP_SUBBRAND_VARIANT\"]!=\"\")]"
   ]
  },
  {
   "cell_type": "code",
   "execution_count": 96,
   "metadata": {},
   "outputs": [],
   "source": [
    "length= len(MSR_SubBrand_Summary)\n",
    "MSR_SubBrand_Summary[\"Record_ID\"]=range(1,length+1)"
   ]
  },
  {
   "cell_type": "code",
   "execution_count": 97,
   "metadata": {},
   "outputs": [
    {
     "data": {
      "text/plain": [
       "(6350, 33)"
      ]
     },
     "execution_count": 97,
     "metadata": {},
     "output_type": "execute_result"
    }
   ],
   "source": [
    "MSR_SubBrand_Summary.shape"
   ]
  },
  {
   "cell_type": "code",
   "execution_count": 98,
   "metadata": {},
   "outputs": [],
   "source": [
    "#saving into csv file\n",
    "MSR_SubBrand_Summary.to_csv(path_HHC+\"MSR_SubBrand_Summary.csv\",index=False)"
   ]
  },
  {
   "cell_type": "code",
   "execution_count": null,
   "metadata": {},
   "outputs": [],
   "source": []
  },
  {
   "cell_type": "markdown",
   "metadata": {},
   "source": [
    "### **Trends**"
   ]
  },
  {
   "cell_type": "markdown",
   "metadata": {},
   "source": [
    "**Fact and Market Selection**"
   ]
  },
  {
   "cell_type": "code",
   "execution_count": 99,
   "metadata": {},
   "outputs": [],
   "source": [
    "HHC_Perf_Trends= Data_5p_HHC[Data_5p_HHC[\"Facts\"].isin(Perf_Trend_Facts)]\n",
    "HHC_Perf_Trends= HHC_Perf_Trends[HHC_Perf_Trends[\"Markets\"].isin(Perf_Markets)]"
   ]
  },
  {
   "cell_type": "markdown",
   "metadata": {},
   "source": [
    "**Fact Mapping**"
   ]
  },
  {
   "cell_type": "code",
   "execution_count": 100,
   "metadata": {},
   "outputs": [],
   "source": [
    "HHC_Perf_Trends[\"Facts\"].replace(Perf_Trend_Fact_Mapping,inplace=True)"
   ]
  },
  {
   "cell_type": "markdown",
   "metadata": {},
   "source": [
    "**Column name Change**"
   ]
  },
  {
   "cell_type": "code",
   "execution_count": 101,
   "metadata": {},
   "outputs": [],
   "source": [
    "HHC_Perf_Trends.rename(columns={\"Markets\":\"MKT\",'ShareBasis':\"CP_SHARE_BASIS\",\"Products\":\"PROD\",\"Manufacturer\":\"CP_MANUFACTURER\",\n",
    "                                \"Franchise\":\"CP_FRANCHISE\",\"Brand\":\"CP_BRAND\",\"SubBrand\":\"CP_SUBBRAND_VARIANT\"},inplace=True)"
   ]
  },
  {
   "cell_type": "code",
   "execution_count": 102,
   "metadata": {},
   "outputs": [],
   "source": [
    "HHC_Perf_Trends[\"CP_FORM\"]=\"Dummy\""
   ]
  },
  {
   "cell_type": "code",
   "execution_count": 103,
   "metadata": {},
   "outputs": [
    {
     "data": {
      "text/html": [
       "<div>\n",
       "<style scoped>\n",
       "    .dataframe tbody tr th:only-of-type {\n",
       "        vertical-align: middle;\n",
       "    }\n",
       "\n",
       "    .dataframe tbody tr th {\n",
       "        vertical-align: top;\n",
       "    }\n",
       "\n",
       "    .dataframe thead th {\n",
       "        text-align: right;\n",
       "    }\n",
       "</style>\n",
       "<table border=\"1\" class=\"dataframe\">\n",
       "  <thead>\n",
       "    <tr style=\"text-align: right;\">\n",
       "      <th></th>\n",
       "      <th>MKT</th>\n",
       "      <th>CP_SHARE_BASIS</th>\n",
       "      <th>Category</th>\n",
       "      <th>CP_MANUFACTURER</th>\n",
       "      <th>CP_FRANCHISE</th>\n",
       "      <th>CP_BRAND</th>\n",
       "      <th>CP_SUBBRAND_VARIANT</th>\n",
       "      <th>PROD</th>\n",
       "      <th>Facts</th>\n",
       "      <th>FY 2020</th>\n",
       "      <th>...</th>\n",
       "      <th>4 W/E 08/29/2020</th>\n",
       "      <th>4 W/E 08/01/2020</th>\n",
       "      <th>5 W/E 07/04/2020</th>\n",
       "      <th>4 W/E 05/30/2020</th>\n",
       "      <th>4 W/E 05/02/2020</th>\n",
       "      <th>5 W/E 04/04/2020</th>\n",
       "      <th>4 W/E 02/29/2020</th>\n",
       "      <th>4 W/E 02/01/2020</th>\n",
       "      <th>Key</th>\n",
       "      <th>CP_FORM</th>\n",
       "    </tr>\n",
       "  </thead>\n",
       "  <tbody>\n",
       "    <tr>\n",
       "      <th>6</th>\n",
       "      <td>US AOC</td>\n",
       "      <td>ABRASIVE</td>\n",
       "      <td>HHC</td>\n",
       "      <td></td>\n",
       "      <td></td>\n",
       "      <td></td>\n",
       "      <td></td>\n",
       "      <td>ABRASIVE</td>\n",
       "      <td>Dollars</td>\n",
       "      <td>9.096963e+07</td>\n",
       "      <td>...</td>\n",
       "      <td>7.443405e+06</td>\n",
       "      <td>7.403502e+06</td>\n",
       "      <td>8.972432e+06</td>\n",
       "      <td>7.357063e+06</td>\n",
       "      <td>7.475211e+06</td>\n",
       "      <td>1.082276e+07</td>\n",
       "      <td>5.506616e+06</td>\n",
       "      <td>5.550611e+06</td>\n",
       "      <td>Total US xAOCABRASIVE</td>\n",
       "      <td>Dummy</td>\n",
       "    </tr>\n",
       "    <tr>\n",
       "      <th>9</th>\n",
       "      <td>US AOC</td>\n",
       "      <td>ABRASIVE</td>\n",
       "      <td>HHC</td>\n",
       "      <td></td>\n",
       "      <td></td>\n",
       "      <td></td>\n",
       "      <td></td>\n",
       "      <td>ABRASIVE</td>\n",
       "      <td>Doll_Shr</td>\n",
       "      <td>1.000000e+02</td>\n",
       "      <td>...</td>\n",
       "      <td>1.000000e+02</td>\n",
       "      <td>1.000000e+02</td>\n",
       "      <td>1.000000e+02</td>\n",
       "      <td>1.000000e+02</td>\n",
       "      <td>1.000000e+02</td>\n",
       "      <td>1.000000e+02</td>\n",
       "      <td>1.000000e+02</td>\n",
       "      <td>1.000000e+02</td>\n",
       "      <td>Total US xAOCABRASIVE</td>\n",
       "      <td>Dummy</td>\n",
       "    </tr>\n",
       "    <tr>\n",
       "      <th>30</th>\n",
       "      <td>US AOC</td>\n",
       "      <td>ABRASIVE</td>\n",
       "      <td>HHC</td>\n",
       "      <td></td>\n",
       "      <td></td>\n",
       "      <td></td>\n",
       "      <td></td>\n",
       "      <td>ABRASIVE</td>\n",
       "      <td>Base_Dollars</td>\n",
       "      <td>8.784801e+07</td>\n",
       "      <td>...</td>\n",
       "      <td>7.244525e+06</td>\n",
       "      <td>7.215627e+06</td>\n",
       "      <td>8.865466e+06</td>\n",
       "      <td>7.318290e+06</td>\n",
       "      <td>7.100638e+06</td>\n",
       "      <td>1.002603e+07</td>\n",
       "      <td>5.292962e+06</td>\n",
       "      <td>5.270201e+06</td>\n",
       "      <td>Total US xAOCABRASIVE</td>\n",
       "      <td>Dummy</td>\n",
       "    </tr>\n",
       "    <tr>\n",
       "      <th>33</th>\n",
       "      <td>US AOC</td>\n",
       "      <td>ABRASIVE</td>\n",
       "      <td>HHC</td>\n",
       "      <td></td>\n",
       "      <td></td>\n",
       "      <td></td>\n",
       "      <td></td>\n",
       "      <td>ABRASIVE</td>\n",
       "      <td>Base_Doll_Shr</td>\n",
       "      <td>9.656900e+01</td>\n",
       "      <td>...</td>\n",
       "      <td>9.732800e+01</td>\n",
       "      <td>9.746200e+01</td>\n",
       "      <td>9.880800e+01</td>\n",
       "      <td>9.947300e+01</td>\n",
       "      <td>9.498900e+01</td>\n",
       "      <td>9.263800e+01</td>\n",
       "      <td>9.612000e+01</td>\n",
       "      <td>9.494800e+01</td>\n",
       "      <td>Total US xAOCABRASIVE</td>\n",
       "      <td>Dummy</td>\n",
       "    </tr>\n",
       "    <tr>\n",
       "      <th>37</th>\n",
       "      <td>US AOC</td>\n",
       "      <td>ABRASIVE</td>\n",
       "      <td>HHC</td>\n",
       "      <td></td>\n",
       "      <td></td>\n",
       "      <td></td>\n",
       "      <td></td>\n",
       "      <td>ABRASIVE</td>\n",
       "      <td>EQ_Units</td>\n",
       "      <td>1.410030e+09</td>\n",
       "      <td>...</td>\n",
       "      <td>1.154619e+08</td>\n",
       "      <td>1.126363e+08</td>\n",
       "      <td>1.368415e+08</td>\n",
       "      <td>1.149514e+08</td>\n",
       "      <td>1.125647e+08</td>\n",
       "      <td>1.684911e+08</td>\n",
       "      <td>9.053654e+07</td>\n",
       "      <td>9.283194e+07</td>\n",
       "      <td>Total US xAOCABRASIVE</td>\n",
       "      <td>Dummy</td>\n",
       "    </tr>\n",
       "  </tbody>\n",
       "</table>\n",
       "<p>5 rows × 41 columns</p>\n",
       "</div>"
      ],
      "text/plain": [
       "       MKT CP_SHARE_BASIS Category CP_MANUFACTURER CP_FRANCHISE CP_BRAND  \\\n",
       "6   US AOC       ABRASIVE      HHC                                         \n",
       "9   US AOC       ABRASIVE      HHC                                         \n",
       "30  US AOC       ABRASIVE      HHC                                         \n",
       "33  US AOC       ABRASIVE      HHC                                         \n",
       "37  US AOC       ABRASIVE      HHC                                         \n",
       "\n",
       "   CP_SUBBRAND_VARIANT      PROD          Facts       FY 2020  ...  \\\n",
       "6                       ABRASIVE        Dollars  9.096963e+07  ...   \n",
       "9                       ABRASIVE       Doll_Shr  1.000000e+02  ...   \n",
       "30                      ABRASIVE   Base_Dollars  8.784801e+07  ...   \n",
       "33                      ABRASIVE  Base_Doll_Shr  9.656900e+01  ...   \n",
       "37                      ABRASIVE       EQ_Units  1.410030e+09  ...   \n",
       "\n",
       "    4 W/E 08/29/2020  4 W/E 08/01/2020  5 W/E 07/04/2020  4 W/E 05/30/2020  \\\n",
       "6       7.443405e+06      7.403502e+06      8.972432e+06      7.357063e+06   \n",
       "9       1.000000e+02      1.000000e+02      1.000000e+02      1.000000e+02   \n",
       "30      7.244525e+06      7.215627e+06      8.865466e+06      7.318290e+06   \n",
       "33      9.732800e+01      9.746200e+01      9.880800e+01      9.947300e+01   \n",
       "37      1.154619e+08      1.126363e+08      1.368415e+08      1.149514e+08   \n",
       "\n",
       "    4 W/E 05/02/2020  5 W/E 04/04/2020  4 W/E 02/29/2020  4 W/E 02/01/2020  \\\n",
       "6       7.475211e+06      1.082276e+07      5.506616e+06      5.550611e+06   \n",
       "9       1.000000e+02      1.000000e+02      1.000000e+02      1.000000e+02   \n",
       "30      7.100638e+06      1.002603e+07      5.292962e+06      5.270201e+06   \n",
       "33      9.498900e+01      9.263800e+01      9.612000e+01      9.494800e+01   \n",
       "37      1.125647e+08      1.684911e+08      9.053654e+07      9.283194e+07   \n",
       "\n",
       "                      Key  CP_FORM  \n",
       "6   Total US xAOCABRASIVE    Dummy  \n",
       "9   Total US xAOCABRASIVE    Dummy  \n",
       "30  Total US xAOCABRASIVE    Dummy  \n",
       "33  Total US xAOCABRASIVE    Dummy  \n",
       "37  Total US xAOCABRASIVE    Dummy  \n",
       "\n",
       "[5 rows x 41 columns]"
      ]
     },
     "execution_count": 103,
     "metadata": {},
     "output_type": "execute_result"
    }
   ],
   "source": [
    "HHC_Perf_Trends.head()"
   ]
  },
  {
   "cell_type": "code",
   "execution_count": 104,
   "metadata": {
    "scrolled": true
   },
   "outputs": [
    {
     "name": "stdout",
     "output_type": "stream",
     "text": [
      "['4 W/E 02/29/2020', '5 W/E 04/04/2020', '4 W/E 05/02/2020', '4 W/E 05/30/2020', '5 W/E 07/04/2020', '4 W/E 08/01/2020', '4 W/E 08/29/2020', '5 W/E 10/03/2020', '4 W/E 10/31/2020', '4 W/E 11/28/2020', '5 W/E 01/02/2021', '4 W/E 01/30/2021', '4 W/E 02/27/2021', 'YTD 2021', 'YTD 2020', 'FY 2020', 'FY 2019']\n"
     ]
    }
   ],
   "source": [
    "Time_Period=Perf_Trend_Time_Period\n",
    "print(Time_Period)"
   ]
  },
  {
   "cell_type": "markdown",
   "metadata": {},
   "source": [
    "**Moving Time Period to Rows and Facts to Columns**"
   ]
  },
  {
   "cell_type": "code",
   "execution_count": 105,
   "metadata": {},
   "outputs": [],
   "source": [
    "df1=pd.melt(HHC_Perf_Trends, id_vars =[\"MKT\",\"PROD\",\"CP_MANUFACTURER\",\"CP_FORM\",\"CP_FRANCHISE\",\"CP_BRAND\",\"CP_SUBBRAND_VARIANT\",\"CP_SHARE_BASIS\",\"Facts\"], value_vars =Time_Period,var_name=\"Time_Period\")\n",
    "\n",
    "df1[\"value\"]=df1[\"value\"].apply(pd.to_numeric)"
   ]
  },
  {
   "cell_type": "code",
   "execution_count": 106,
   "metadata": {},
   "outputs": [],
   "source": [
    "df2=df1.pivot_table(index=['MKT','PROD', 'CP_MANUFACTURER',\"CP_FORM\" ,'CP_FRANCHISE', 'CP_BRAND',\"CP_SUBBRAND_VARIANT\",\"CP_SHARE_BASIS\",'Time_Period'],columns='Facts')\n",
    "\n",
    "df2.columns=df2.columns.droplevel().rename(None)\n",
    "df2.reset_index(inplace =True)"
   ]
  },
  {
   "cell_type": "code",
   "execution_count": 107,
   "metadata": {},
   "outputs": [],
   "source": [
    "from pandas.api.types import CategoricalDtype\n",
    "\n",
    "Time_Period_order = CategoricalDtype(\n",
    "    Time_Period, \n",
    "    ordered=True\n",
    ")\n",
    "\n",
    "df2['Time_Period'] = df2['Time_Period'].astype(Time_Period_order)\n",
    "\n",
    "df2.sort_values(['MKT','PROD','Time_Period'],inplace=True)"
   ]
  },
  {
   "cell_type": "code",
   "execution_count": 108,
   "metadata": {
    "scrolled": false
   },
   "outputs": [
    {
     "data": {
      "text/html": [
       "<div>\n",
       "<style scoped>\n",
       "    .dataframe tbody tr th:only-of-type {\n",
       "        vertical-align: middle;\n",
       "    }\n",
       "\n",
       "    .dataframe tbody tr th {\n",
       "        vertical-align: top;\n",
       "    }\n",
       "\n",
       "    .dataframe thead th {\n",
       "        text-align: right;\n",
       "    }\n",
       "</style>\n",
       "<table border=\"1\" class=\"dataframe\">\n",
       "  <thead>\n",
       "    <tr style=\"text-align: right;\">\n",
       "      <th></th>\n",
       "      <th>MKT</th>\n",
       "      <th>PROD</th>\n",
       "      <th>CP_MANUFACTURER</th>\n",
       "      <th>CP_FORM</th>\n",
       "      <th>CP_FRANCHISE</th>\n",
       "      <th>CP_BRAND</th>\n",
       "      <th>CP_SUBBRAND_VARIANT</th>\n",
       "      <th>CP_SHARE_BASIS</th>\n",
       "      <th>Time_Period</th>\n",
       "      <th>Base_Doll_Shr</th>\n",
       "      <th>...</th>\n",
       "      <th>Base_EQ_Shr</th>\n",
       "      <th>Base_EQ_Units</th>\n",
       "      <th>Doll_Shr</th>\n",
       "      <th>Dollars</th>\n",
       "      <th>EQ_Shr</th>\n",
       "      <th>EQ_Units</th>\n",
       "      <th>INcr_EQ_Units</th>\n",
       "      <th>Incr_Doll_Shr</th>\n",
       "      <th>Incr_Dollars</th>\n",
       "      <th>Incr_EQ_Shr</th>\n",
       "    </tr>\n",
       "  </thead>\n",
       "  <tbody>\n",
       "    <tr>\n",
       "      <th>2</th>\n",
       "      <td>BJs</td>\n",
       "      <td>APC+WW</td>\n",
       "      <td></td>\n",
       "      <td>Dummy</td>\n",
       "      <td></td>\n",
       "      <td></td>\n",
       "      <td></td>\n",
       "      <td>APC+WW</td>\n",
       "      <td>4 W/E 02/29/2020</td>\n",
       "      <td>64.177</td>\n",
       "      <td>...</td>\n",
       "      <td>NaN</td>\n",
       "      <td>NaN</td>\n",
       "      <td>100.0</td>\n",
       "      <td>5955258.00</td>\n",
       "      <td>100.0</td>\n",
       "      <td>1.349622e+08</td>\n",
       "      <td>NaN</td>\n",
       "      <td>35.823</td>\n",
       "      <td>2133351.17</td>\n",
       "      <td>NaN</td>\n",
       "    </tr>\n",
       "    <tr>\n",
       "      <th>10</th>\n",
       "      <td>BJs</td>\n",
       "      <td>APC+WW</td>\n",
       "      <td></td>\n",
       "      <td>Dummy</td>\n",
       "      <td></td>\n",
       "      <td></td>\n",
       "      <td></td>\n",
       "      <td>APC+WW</td>\n",
       "      <td>5 W/E 04/04/2020</td>\n",
       "      <td>60.470</td>\n",
       "      <td>...</td>\n",
       "      <td>NaN</td>\n",
       "      <td>NaN</td>\n",
       "      <td>100.0</td>\n",
       "      <td>10319678.40</td>\n",
       "      <td>100.0</td>\n",
       "      <td>2.202601e+08</td>\n",
       "      <td>NaN</td>\n",
       "      <td>39.530</td>\n",
       "      <td>4079388.61</td>\n",
       "      <td>NaN</td>\n",
       "    </tr>\n",
       "    <tr>\n",
       "      <th>3</th>\n",
       "      <td>BJs</td>\n",
       "      <td>APC+WW</td>\n",
       "      <td></td>\n",
       "      <td>Dummy</td>\n",
       "      <td></td>\n",
       "      <td></td>\n",
       "      <td></td>\n",
       "      <td>APC+WW</td>\n",
       "      <td>4 W/E 05/02/2020</td>\n",
       "      <td>85.389</td>\n",
       "      <td>...</td>\n",
       "      <td>NaN</td>\n",
       "      <td>NaN</td>\n",
       "      <td>100.0</td>\n",
       "      <td>7272799.18</td>\n",
       "      <td>100.0</td>\n",
       "      <td>1.587660e+08</td>\n",
       "      <td>NaN</td>\n",
       "      <td>14.611</td>\n",
       "      <td>1062596.32</td>\n",
       "      <td>NaN</td>\n",
       "    </tr>\n",
       "    <tr>\n",
       "      <th>4</th>\n",
       "      <td>BJs</td>\n",
       "      <td>APC+WW</td>\n",
       "      <td></td>\n",
       "      <td>Dummy</td>\n",
       "      <td></td>\n",
       "      <td></td>\n",
       "      <td></td>\n",
       "      <td>APC+WW</td>\n",
       "      <td>4 W/E 05/30/2020</td>\n",
       "      <td>101.278</td>\n",
       "      <td>...</td>\n",
       "      <td>NaN</td>\n",
       "      <td>NaN</td>\n",
       "      <td>100.0</td>\n",
       "      <td>5870232.01</td>\n",
       "      <td>100.0</td>\n",
       "      <td>1.159645e+08</td>\n",
       "      <td>NaN</td>\n",
       "      <td>-1.278</td>\n",
       "      <td>-75032.06</td>\n",
       "      <td>NaN</td>\n",
       "    </tr>\n",
       "    <tr>\n",
       "      <th>11</th>\n",
       "      <td>BJs</td>\n",
       "      <td>APC+WW</td>\n",
       "      <td></td>\n",
       "      <td>Dummy</td>\n",
       "      <td></td>\n",
       "      <td></td>\n",
       "      <td></td>\n",
       "      <td>APC+WW</td>\n",
       "      <td>5 W/E 07/04/2020</td>\n",
       "      <td>85.186</td>\n",
       "      <td>...</td>\n",
       "      <td>NaN</td>\n",
       "      <td>NaN</td>\n",
       "      <td>100.0</td>\n",
       "      <td>7808569.91</td>\n",
       "      <td>100.0</td>\n",
       "      <td>1.582106e+08</td>\n",
       "      <td>NaN</td>\n",
       "      <td>14.814</td>\n",
       "      <td>1156785.09</td>\n",
       "      <td>NaN</td>\n",
       "    </tr>\n",
       "  </tbody>\n",
       "</table>\n",
       "<p>5 rows × 21 columns</p>\n",
       "</div>"
      ],
      "text/plain": [
       "    MKT    PROD CP_MANUFACTURER CP_FORM CP_FRANCHISE CP_BRAND  \\\n",
       "2   BJs  APC+WW                   Dummy                         \n",
       "10  BJs  APC+WW                   Dummy                         \n",
       "3   BJs  APC+WW                   Dummy                         \n",
       "4   BJs  APC+WW                   Dummy                         \n",
       "11  BJs  APC+WW                   Dummy                         \n",
       "\n",
       "   CP_SUBBRAND_VARIANT CP_SHARE_BASIS       Time_Period  Base_Doll_Shr  ...  \\\n",
       "2                              APC+WW  4 W/E 02/29/2020         64.177  ...   \n",
       "10                             APC+WW  5 W/E 04/04/2020         60.470  ...   \n",
       "3                              APC+WW  4 W/E 05/02/2020         85.389  ...   \n",
       "4                              APC+WW  4 W/E 05/30/2020        101.278  ...   \n",
       "11                             APC+WW  5 W/E 07/04/2020         85.186  ...   \n",
       "\n",
       "    Base_EQ_Shr  Base_EQ_Units  Doll_Shr      Dollars  EQ_Shr      EQ_Units  \\\n",
       "2           NaN            NaN     100.0   5955258.00   100.0  1.349622e+08   \n",
       "10          NaN            NaN     100.0  10319678.40   100.0  2.202601e+08   \n",
       "3           NaN            NaN     100.0   7272799.18   100.0  1.587660e+08   \n",
       "4           NaN            NaN     100.0   5870232.01   100.0  1.159645e+08   \n",
       "11          NaN            NaN     100.0   7808569.91   100.0  1.582106e+08   \n",
       "\n",
       "    INcr_EQ_Units  Incr_Doll_Shr  Incr_Dollars  Incr_EQ_Shr  \n",
       "2             NaN         35.823    2133351.17          NaN  \n",
       "10            NaN         39.530    4079388.61          NaN  \n",
       "3             NaN         14.611    1062596.32          NaN  \n",
       "4             NaN         -1.278     -75032.06          NaN  \n",
       "11            NaN         14.814    1156785.09          NaN  \n",
       "\n",
       "[5 rows x 21 columns]"
      ]
     },
     "execution_count": 108,
     "metadata": {},
     "output_type": "execute_result"
    }
   ],
   "source": [
    "df2.head()"
   ]
  },
  {
   "cell_type": "code",
   "execution_count": 109,
   "metadata": {
    "scrolled": false
   },
   "outputs": [],
   "source": [
    "df2[['PRODUCT_CODE']]=\"\"\n",
    "\n",
    "df2['CP_CATEGORY']=\"HH CLEANERS\"\n",
    "\n",
    "# df2.rename(columns={'INcr_EQ_Units':'Incr_EQ_Units'},inplace=True)\n",
    "\n",
    "\n",
    "final_column_sorting=[\"MKT\",\"PROD\",\"PRODUCT_CODE\",\"CP_CATEGORY\",\"CP_FORM\",\"CP_MANUFACTURER\",\"CP_FRANCHISE\",\"CP_BRAND\",\n",
    "                      \"CP_SUBBRAND_VARIANT\",\"Time_Period\",\n",
    "                      \"Doll_Shr\",\"Base_Doll_Shr\",\"Incr_Doll_Shr\",\"Dollars\",\"Base_Dollars\",\"Incr_Dollars\",\"EQ_Shr\",\n",
    "                      \"Base_EQ_Shr\",\"Incr_EQ_Shr\",\"EQ_Units\",\"Base_EQ_Units\",\"INcr_EQ_Units\",\"CP_SHARE_BASIS\"\n",
    "                      ]\n",
    "HHC_Perf_Trends_final=df2[final_column_sorting]"
   ]
  },
  {
   "cell_type": "code",
   "execution_count": 110,
   "metadata": {},
   "outputs": [
    {
     "data": {
      "text/html": [
       "<div>\n",
       "<style scoped>\n",
       "    .dataframe tbody tr th:only-of-type {\n",
       "        vertical-align: middle;\n",
       "    }\n",
       "\n",
       "    .dataframe tbody tr th {\n",
       "        vertical-align: top;\n",
       "    }\n",
       "\n",
       "    .dataframe thead th {\n",
       "        text-align: right;\n",
       "    }\n",
       "</style>\n",
       "<table border=\"1\" class=\"dataframe\">\n",
       "  <thead>\n",
       "    <tr style=\"text-align: right;\">\n",
       "      <th></th>\n",
       "      <th>MKT</th>\n",
       "      <th>PROD</th>\n",
       "      <th>PRODUCT_CODE</th>\n",
       "      <th>CP_CATEGORY</th>\n",
       "      <th>CP_FORM</th>\n",
       "      <th>CP_MANUFACTURER</th>\n",
       "      <th>CP_FRANCHISE</th>\n",
       "      <th>CP_BRAND</th>\n",
       "      <th>CP_SUBBRAND_VARIANT</th>\n",
       "      <th>Time_Period</th>\n",
       "      <th>...</th>\n",
       "      <th>Dollars</th>\n",
       "      <th>Base_Dollars</th>\n",
       "      <th>Incr_Dollars</th>\n",
       "      <th>EQ_Shr</th>\n",
       "      <th>Base_EQ_Shr</th>\n",
       "      <th>Incr_EQ_Shr</th>\n",
       "      <th>EQ_Units</th>\n",
       "      <th>Base_EQ_Units</th>\n",
       "      <th>INcr_EQ_Units</th>\n",
       "      <th>CP_SHARE_BASIS</th>\n",
       "    </tr>\n",
       "  </thead>\n",
       "  <tbody>\n",
       "    <tr>\n",
       "      <th>2</th>\n",
       "      <td>BJs</td>\n",
       "      <td>APC+WW</td>\n",
       "      <td></td>\n",
       "      <td>HH CLEANERS</td>\n",
       "      <td>Dummy</td>\n",
       "      <td></td>\n",
       "      <td></td>\n",
       "      <td></td>\n",
       "      <td></td>\n",
       "      <td>4 W/E 02/29/2020</td>\n",
       "      <td>...</td>\n",
       "      <td>5955258.00</td>\n",
       "      <td>3821906.83</td>\n",
       "      <td>2133351.17</td>\n",
       "      <td>100.0</td>\n",
       "      <td>NaN</td>\n",
       "      <td>NaN</td>\n",
       "      <td>1.349622e+08</td>\n",
       "      <td>NaN</td>\n",
       "      <td>NaN</td>\n",
       "      <td>APC+WW</td>\n",
       "    </tr>\n",
       "    <tr>\n",
       "      <th>10</th>\n",
       "      <td>BJs</td>\n",
       "      <td>APC+WW</td>\n",
       "      <td></td>\n",
       "      <td>HH CLEANERS</td>\n",
       "      <td>Dummy</td>\n",
       "      <td></td>\n",
       "      <td></td>\n",
       "      <td></td>\n",
       "      <td></td>\n",
       "      <td>5 W/E 04/04/2020</td>\n",
       "      <td>...</td>\n",
       "      <td>10319678.40</td>\n",
       "      <td>6240289.79</td>\n",
       "      <td>4079388.61</td>\n",
       "      <td>100.0</td>\n",
       "      <td>NaN</td>\n",
       "      <td>NaN</td>\n",
       "      <td>2.202601e+08</td>\n",
       "      <td>NaN</td>\n",
       "      <td>NaN</td>\n",
       "      <td>APC+WW</td>\n",
       "    </tr>\n",
       "    <tr>\n",
       "      <th>3</th>\n",
       "      <td>BJs</td>\n",
       "      <td>APC+WW</td>\n",
       "      <td></td>\n",
       "      <td>HH CLEANERS</td>\n",
       "      <td>Dummy</td>\n",
       "      <td></td>\n",
       "      <td></td>\n",
       "      <td></td>\n",
       "      <td></td>\n",
       "      <td>4 W/E 05/02/2020</td>\n",
       "      <td>...</td>\n",
       "      <td>7272799.18</td>\n",
       "      <td>6210202.86</td>\n",
       "      <td>1062596.32</td>\n",
       "      <td>100.0</td>\n",
       "      <td>NaN</td>\n",
       "      <td>NaN</td>\n",
       "      <td>1.587660e+08</td>\n",
       "      <td>NaN</td>\n",
       "      <td>NaN</td>\n",
       "      <td>APC+WW</td>\n",
       "    </tr>\n",
       "    <tr>\n",
       "      <th>4</th>\n",
       "      <td>BJs</td>\n",
       "      <td>APC+WW</td>\n",
       "      <td></td>\n",
       "      <td>HH CLEANERS</td>\n",
       "      <td>Dummy</td>\n",
       "      <td></td>\n",
       "      <td></td>\n",
       "      <td></td>\n",
       "      <td></td>\n",
       "      <td>4 W/E 05/30/2020</td>\n",
       "      <td>...</td>\n",
       "      <td>5870232.01</td>\n",
       "      <td>5945264.07</td>\n",
       "      <td>-75032.06</td>\n",
       "      <td>100.0</td>\n",
       "      <td>NaN</td>\n",
       "      <td>NaN</td>\n",
       "      <td>1.159645e+08</td>\n",
       "      <td>NaN</td>\n",
       "      <td>NaN</td>\n",
       "      <td>APC+WW</td>\n",
       "    </tr>\n",
       "    <tr>\n",
       "      <th>11</th>\n",
       "      <td>BJs</td>\n",
       "      <td>APC+WW</td>\n",
       "      <td></td>\n",
       "      <td>HH CLEANERS</td>\n",
       "      <td>Dummy</td>\n",
       "      <td></td>\n",
       "      <td></td>\n",
       "      <td></td>\n",
       "      <td></td>\n",
       "      <td>5 W/E 07/04/2020</td>\n",
       "      <td>...</td>\n",
       "      <td>7808569.91</td>\n",
       "      <td>6651784.82</td>\n",
       "      <td>1156785.09</td>\n",
       "      <td>100.0</td>\n",
       "      <td>NaN</td>\n",
       "      <td>NaN</td>\n",
       "      <td>1.582106e+08</td>\n",
       "      <td>NaN</td>\n",
       "      <td>NaN</td>\n",
       "      <td>APC+WW</td>\n",
       "    </tr>\n",
       "  </tbody>\n",
       "</table>\n",
       "<p>5 rows × 23 columns</p>\n",
       "</div>"
      ],
      "text/plain": [
       "    MKT    PROD PRODUCT_CODE  CP_CATEGORY CP_FORM CP_MANUFACTURER  \\\n",
       "2   BJs  APC+WW               HH CLEANERS   Dummy                   \n",
       "10  BJs  APC+WW               HH CLEANERS   Dummy                   \n",
       "3   BJs  APC+WW               HH CLEANERS   Dummy                   \n",
       "4   BJs  APC+WW               HH CLEANERS   Dummy                   \n",
       "11  BJs  APC+WW               HH CLEANERS   Dummy                   \n",
       "\n",
       "   CP_FRANCHISE CP_BRAND CP_SUBBRAND_VARIANT       Time_Period  ...  \\\n",
       "2                                             4 W/E 02/29/2020  ...   \n",
       "10                                            5 W/E 04/04/2020  ...   \n",
       "3                                             4 W/E 05/02/2020  ...   \n",
       "4                                             4 W/E 05/30/2020  ...   \n",
       "11                                            5 W/E 07/04/2020  ...   \n",
       "\n",
       "        Dollars  Base_Dollars  Incr_Dollars  EQ_Shr  Base_EQ_Shr  Incr_EQ_Shr  \\\n",
       "2    5955258.00    3821906.83    2133351.17   100.0          NaN          NaN   \n",
       "10  10319678.40    6240289.79    4079388.61   100.0          NaN          NaN   \n",
       "3    7272799.18    6210202.86    1062596.32   100.0          NaN          NaN   \n",
       "4    5870232.01    5945264.07     -75032.06   100.0          NaN          NaN   \n",
       "11   7808569.91    6651784.82    1156785.09   100.0          NaN          NaN   \n",
       "\n",
       "        EQ_Units  Base_EQ_Units  INcr_EQ_Units  CP_SHARE_BASIS  \n",
       "2   1.349622e+08            NaN            NaN          APC+WW  \n",
       "10  2.202601e+08            NaN            NaN          APC+WW  \n",
       "3   1.587660e+08            NaN            NaN          APC+WW  \n",
       "4   1.159645e+08            NaN            NaN          APC+WW  \n",
       "11  1.582106e+08            NaN            NaN          APC+WW  \n",
       "\n",
       "[5 rows x 23 columns]"
      ]
     },
     "execution_count": 110,
     "metadata": {},
     "output_type": "execute_result"
    }
   ],
   "source": [
    "HHC_Perf_Trends_final.head()"
   ]
  },
  {
   "cell_type": "markdown",
   "metadata": {},
   "source": [
    "### **MSR_Manu_Trends**"
   ]
  },
  {
   "cell_type": "code",
   "execution_count": 111,
   "metadata": {},
   "outputs": [],
   "source": [
    "MSR_Manu_Trends=HHC_Perf_Trends_final.loc[(HHC_Perf_Trends_final[\"CP_SUBBRAND_VARIANT\"]==\"\")&(HHC_Perf_Trends_final[\"CP_BRAND\"]==\"\")&(HHC_Perf_Trends_final[\"CP_FRANCHISE\"]==\"\")&(HHC_Perf_Trends_final[\"CP_MANUFACTURER\"]!=\"\")]"
   ]
  },
  {
   "cell_type": "code",
   "execution_count": 112,
   "metadata": {},
   "outputs": [],
   "source": [
    "length= len(MSR_Manu_Trends)\n",
    "MSR_Manu_Trends[\"Record_ID\"]=range(1,length+1)"
   ]
  },
  {
   "cell_type": "code",
   "execution_count": 113,
   "metadata": {},
   "outputs": [],
   "source": [
    "#saving into csv file\n",
    "MSR_Manu_Trends.to_csv(path_HHC+\"MSR_Manu_Trends.csv\",index=False)"
   ]
  },
  {
   "cell_type": "markdown",
   "metadata": {},
   "source": [
    "### **MSR_Fran_Trends**"
   ]
  },
  {
   "cell_type": "code",
   "execution_count": 114,
   "metadata": {},
   "outputs": [],
   "source": [
    "MSR_Fran_Trends=HHC_Perf_Trends_final.loc[(HHC_Perf_Trends_final[\"CP_SUBBRAND_VARIANT\"]==\"\")& (HHC_Perf_Trends_final[\"CP_BRAND\"]==\"\")&(HHC_Perf_Trends_final[\"CP_FRANCHISE\"]!=\"\")]"
   ]
  },
  {
   "cell_type": "code",
   "execution_count": 115,
   "metadata": {},
   "outputs": [],
   "source": [
    "length= len(MSR_Fran_Trends)\n",
    "MSR_Fran_Trends[\"Record_ID\"]=range(1,length+1)"
   ]
  },
  {
   "cell_type": "code",
   "execution_count": 116,
   "metadata": {},
   "outputs": [],
   "source": [
    "#saving into csv file\n",
    "MSR_Fran_Trends.to_csv(path_HHC+\"MSR_Fran_Trends.csv\",index=False)"
   ]
  },
  {
   "cell_type": "markdown",
   "metadata": {},
   "source": [
    "### **MSR_Brand_Trends**"
   ]
  },
  {
   "cell_type": "code",
   "execution_count": 117,
   "metadata": {},
   "outputs": [],
   "source": [
    "MSR_Brand_Trends=HHC_Perf_Trends_final.loc[(HHC_Perf_Trends_final[\"CP_SUBBRAND_VARIANT\"]==\"\")&(HHC_Perf_Trends_final[\"CP_BRAND\"]!=\"\")]"
   ]
  },
  {
   "cell_type": "code",
   "execution_count": 118,
   "metadata": {},
   "outputs": [],
   "source": [
    "length= len(MSR_Brand_Trends)\n",
    "MSR_Brand_Trends[\"Record_ID\"]=range(1,length+1)"
   ]
  },
  {
   "cell_type": "code",
   "execution_count": 119,
   "metadata": {},
   "outputs": [],
   "source": [
    "#saving into csv file\n",
    "MSR_Brand_Trends.to_csv(path_HHC+\"MSR_Brand_Trends.csv\",index=False)"
   ]
  },
  {
   "cell_type": "markdown",
   "metadata": {},
   "source": [
    "### **MSR_SubBrand_Trends**"
   ]
  },
  {
   "cell_type": "code",
   "execution_count": 120,
   "metadata": {},
   "outputs": [],
   "source": [
    "MSR_SubBrand_Trends=HHC_Perf_Trends_final.loc[(HHC_Perf_Trends_final[\"CP_SUBBRAND_VARIANT\"]!=\"\")]"
   ]
  },
  {
   "cell_type": "code",
   "execution_count": 121,
   "metadata": {},
   "outputs": [],
   "source": [
    "length= len(MSR_SubBrand_Trends)\n",
    "MSR_SubBrand_Trends[\"Record_ID\"]=range(1,length+1)"
   ]
  },
  {
   "cell_type": "code",
   "execution_count": 122,
   "metadata": {},
   "outputs": [],
   "source": [
    "#saving into csv file\n",
    "MSR_SubBrand_Trends.to_csv(path_HHC+\"MSR_SubBrand_Trends.csv\",index=False)"
   ]
  },
  {
   "cell_type": "code",
   "execution_count": null,
   "metadata": {},
   "outputs": [],
   "source": []
  },
  {
   "cell_type": "code",
   "execution_count": null,
   "metadata": {},
   "outputs": [],
   "source": []
  }
 ],
 "metadata": {
  "kernelspec": {
   "display_name": "Python 3",
   "language": "python",
   "name": "python3"
  },
  "language_info": {
   "codemirror_mode": {
    "name": "ipython",
    "version": 3
   },
   "file_extension": ".py",
   "mimetype": "text/x-python",
   "name": "python",
   "nbconvert_exporter": "python",
   "pygments_lexer": "ipython3",
   "version": "3.8.5"
  }
 },
 "nbformat": 4,
 "nbformat_minor": 4
}
