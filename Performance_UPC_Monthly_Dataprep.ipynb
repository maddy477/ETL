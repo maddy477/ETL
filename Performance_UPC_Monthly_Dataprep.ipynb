{
 "cells": [
  {
   "cell_type": "code",
   "execution_count": 1,
   "metadata": {},
   "outputs": [],
   "source": [
    "import pandas as pd;\n",
    "import numpy as np;\n",
    "import os;\n",
    "import time;\n",
    "import datetime;\n",
    "import warnings;\n",
    "warnings.filterwarnings('ignore');"
   ]
  },
  {
   "cell_type": "markdown",
   "metadata": {},
   "source": [
    "Assigning path of the folder where **Line Weekly** data files are stored"
   ]
  },
  {
   "cell_type": "code",
   "execution_count": 2,
   "metadata": {},
   "outputs": [],
   "source": [
    "path = \"//falmumapp34/Nielsen Connect Transition & Maintenance (20-SCP-3650)/03. Raw Data/Connect Data/UPC Monthly\"\n",
    "files = os.listdir(path)"
   ]
  },
  {
   "cell_type": "markdown",
   "metadata": {},
   "source": [
    "Selecting only **excel files** from all the files available in the above path"
   ]
  },
  {
   "cell_type": "code",
   "execution_count": 3,
   "metadata": {
    "scrolled": true
   },
   "outputs": [
    {
     "name": "stdout",
     "output_type": "stream",
     "text": [
      "Total number of files in the folder are  22\n"
     ]
    }
   ],
   "source": [
    "# files_xls = [f for f in files if (f[0:3] == \"LDL\")] \n",
    "# files_xls = [f for f in files if (f[0:4] == \"Bead\") |(f[0:3] == \"Tot\")|(f[0:3] == \"Sce\")|(f[0:3] == \"She\")|(f[0:3]==\"Liq\")]\n",
    "files_xls = [f for f in files if (f[0:5] == \"APCWW\") |(f[0:4] == \"Pour\")|(f[0:4] == \"Wood\")|(f[0:8] == \"Abrasive\")]\n",
    "print(\"Total number of files in the folder are \",len(files_xls))"
   ]
  },
  {
   "cell_type": "code",
   "execution_count": 4,
   "metadata": {
    "scrolled": true
   },
   "outputs": [
    {
     "data": {
      "text/plain": [
       "['Abrasive.xlsx',\n",
       " 'Abrasive_UPC_Monthly_Part1.xlsx',\n",
       " 'Abrasive_UPC_Monthly_Part2.xlsx',\n",
       " 'Abrasive_UPC_Monthly_Part3.xlsx',\n",
       " 'Abrasive_UPC_Monthly_Part4.xlsx',\n",
       " 'Abrasive_UPC_Monthly_Part5.xlsx',\n",
       " 'APCWW.xlsx',\n",
       " 'APCWW_UPC_Monthly_Part1.xlsx',\n",
       " 'APCWW_UPC_Monthly_Part2.xlsx',\n",
       " 'APCWW_UPC_Monthly_Part3.xlsx',\n",
       " 'APCWW_UPC_Monthly_Part4.xlsx',\n",
       " 'Pour_UPC.xlsx',\n",
       " 'Pour_UPC_Monthly_Part1.xlsx',\n",
       " 'Pour_UPC_Monthly_Part2.xlsx',\n",
       " 'Pour_UPC_Monthly_Part3.xlsx',\n",
       " 'Pour_UPC_Monthly_Part4.xlsx',\n",
       " 'Wood UPC.xlsx',\n",
       " 'Wood_UPC_Monthly_Part1.xlsx',\n",
       " 'Wood_UPC_Monthly_Part2.xlsx',\n",
       " 'Wood_UPC_Monthly_Part3.xlsx',\n",
       " 'Wood_UPC_Monthly_Part4.xlsx',\n",
       " 'Wood_UPC_Monthly_Part5.xlsx']"
      ]
     },
     "execution_count": 4,
     "metadata": {},
     "output_type": "execute_result"
    }
   ],
   "source": [
    "files_xls"
   ]
  },
  {
   "cell_type": "markdown",
   "metadata": {},
   "source": [
    "**Appending the read files in rows and storing them in a single dataframe** named ***UPC_Monthly***.\n",
    "\n",
    "Printing number of columns and number of facts in each file.\n",
    "Also checking the execution time of the code"
   ]
  },
  {
   "cell_type": "code",
   "execution_count": 5,
   "metadata": {
    "scrolled": false
   },
   "outputs": [
    {
     "name": "stdout",
     "output_type": "stream",
     "text": [
      "\u001b[1mAbrasive.xlsx\u001b[0m :->\n",
      "# of Facts are  12 \t\t # of columns are  12\n",
      "\u001b[1mAbrasive_UPC_Monthly_Part1.xlsx\u001b[0m :->\n",
      "# of Facts are  57 \t\t # of columns are  12\n",
      "\u001b[1mAbrasive_UPC_Monthly_Part2.xlsx\u001b[0m :->\n",
      "# of Facts are  57 \t\t # of columns are  12\n",
      "\u001b[1mAbrasive_UPC_Monthly_Part3.xlsx\u001b[0m :->\n",
      "# of Facts are  57 \t\t # of columns are  12\n",
      "\u001b[1mAbrasive_UPC_Monthly_Part4.xlsx\u001b[0m :->\n",
      "# of Facts are  57 \t\t # of columns are  12\n",
      "\u001b[1mAbrasive_UPC_Monthly_Part5.xlsx\u001b[0m :->\n",
      "# of Facts are  57 \t\t # of columns are  30\n",
      "\u001b[1mAPCWW.xlsx\u001b[0m :->\n",
      "# of Facts are  12 \t\t # of columns are  12\n",
      "\u001b[1mAPCWW_UPC_Monthly_Part1.xlsx\u001b[0m :->\n",
      "# of Facts are  57 \t\t # of columns are  12\n",
      "\u001b[1mAPCWW_UPC_Monthly_Part2.xlsx\u001b[0m :->\n",
      "# of Facts are  57 \t\t # of columns are  12\n",
      "\u001b[1mAPCWW_UPC_Monthly_Part3.xlsx\u001b[0m :->\n",
      "# of Facts are  57 \t\t # of columns are  12\n",
      "\u001b[1mAPCWW_UPC_Monthly_Part4.xlsx\u001b[0m :->\n",
      "# of Facts are  57 \t\t # of columns are  12\n",
      "\u001b[1mPour_UPC.xlsx\u001b[0m :->\n",
      "# of Facts are  12 \t\t # of columns are  12\n",
      "\u001b[1mPour_UPC_Monthly_Part1.xlsx\u001b[0m :->\n",
      "# of Facts are  57 \t\t # of columns are  12\n",
      "\u001b[1mPour_UPC_Monthly_Part2.xlsx\u001b[0m :->\n",
      "# of Facts are  57 \t\t # of columns are  12\n",
      "\u001b[1mPour_UPC_Monthly_Part3.xlsx\u001b[0m :->\n",
      "# of Facts are  57 \t\t # of columns are  12\n",
      "\u001b[1mPour_UPC_Monthly_Part4.xlsx\u001b[0m :->\n",
      "# of Facts are  57 \t\t # of columns are  12\n",
      "\u001b[1mWood UPC.xlsx\u001b[0m :->\n",
      "# of Facts are  12 \t\t # of columns are  12\n",
      "\u001b[1mWood_UPC_Monthly_Part1.xlsx\u001b[0m :->\n",
      "# of Facts are  57 \t\t # of columns are  12\n",
      "\u001b[1mWood_UPC_Monthly_Part2.xlsx\u001b[0m :->\n",
      "# of Facts are  57 \t\t # of columns are  12\n",
      "\u001b[1mWood_UPC_Monthly_Part3.xlsx\u001b[0m :->\n",
      "# of Facts are  57 \t\t # of columns are  30\n",
      "\u001b[1mWood_UPC_Monthly_Part4.xlsx\u001b[0m :->\n",
      "# of Facts are  57 \t\t # of columns are  30\n",
      "\u001b[1mWood_UPC_Monthly_Part5.xlsx\u001b[0m :->\n",
      "# of Facts are  29 \t\t # of columns are  30\n",
      "execution time is  110.91126370429993\n"
     ]
    }
   ],
   "source": [
    "time_start= time.time()\n",
    "\n",
    "UPC_Monthly= pd.DataFrame()\n",
    "\n",
    "j=0\n",
    "for f in files_xls:\n",
    "    \n",
    "    data = pd.read_excel(path+\"/\"+f)\n",
    "    print(\"\\033[1m\" + files_xls[j] + \"\\033[0m\",\":->\\n# of Facts are \",len(set(data[\"Periods\"])),\"\\t\\t # of columns are \",len(data.columns))  \n",
    "    UPC_Monthly = pd.concat([UPC_Monthly,data],axis=0,ignore_index=True)\n",
    "    j=j+1\n",
    "    \n",
    "time_end= time.time();\n",
    "\n",
    "print(\"execution time is \", time_end-time_start)"
   ]
  },
  {
   "cell_type": "code",
   "execution_count": 6,
   "metadata": {},
   "outputs": [],
   "source": [
    "Backup=UPC_Monthly.copy()"
   ]
  },
  {
   "cell_type": "code",
   "execution_count": 7,
   "metadata": {},
   "outputs": [],
   "source": [
    "# set((UPC_Monthly[\"Products\"].str.split(\"|\",n=1,expand=True)).apply(lambda x : x.str.strip())[0])"
   ]
  },
  {
   "cell_type": "code",
   "execution_count": 8,
   "metadata": {},
   "outputs": [],
   "source": [
    "if \"Total\" in UPC_Monthly.columns:\n",
    "    del UPC_Monthly[\"Total\"]"
   ]
  },
  {
   "cell_type": "code",
   "execution_count": 9,
   "metadata": {},
   "outputs": [],
   "source": [
    "# Relaceing in Periods(Facts)\n",
    "UPC_Monthly[\"Periods\"]=UPC_Monthly[\"Periods\"].str.replace(\"$\",\"temp\")\n",
    "UPC_Monthly[\"Periods\"]=UPC_Monthly[\"Periods\"].str.replace(\"- temp -\",\"-\")\n",
    "UPC_Monthly[\"Periods\"]=UPC_Monthly[\"Periods\"].str.replace(\"temp\",\"$\")\n",
    "\n",
    "\n",
    "UPC_Monthly[\"Periods\"]=UPC_Monthly[\"Periods\"].str.replace(\"CP FORM\",\"CP CATEGORY\")\n",
    "UPC_Monthly[\"Periods\"]=UPC_Monthly[\"Periods\"].str.replace(\"CP USE\",\"CP CATEGORY\")\n",
    "UPC_Monthly[\"Periods\"]=UPC_Monthly[\"Periods\"].str.replace(\"CP LDL AND FOAM\",\"CP CATEGORY\")\n",
    "\n",
    "UPC_Monthly[\"Periods\"]=UPC_Monthly[\"Periods\"].str.replace(\"CP LDL AND FM X DISHAIDS/WPS/SPR\",\"CP CATEGORY\")\n",
    "\n",
    "UPC_Monthly[\"Periods\"]=UPC_Monthly[\"Periods\"].str.replace(\"CP MEGA CATEGORY\",\"CP CATEGORY\")\n",
    "UPC_Monthly[\"Periods\"]=UPC_Monthly[\"Periods\"].str.replace(\"CP BATTERY AND HYBRID\",\"CP CATEGORY\")\n",
    "\n",
    "\n",
    "# Market name replaced\n",
    "UPC_Monthly[\"Markets\"]=UPC_Monthly[\"Markets\"].str.replace(\"Walgreens Corp Total TA\",\"Walgreens Total TA\")"
   ]
  },
  {
   "cell_type": "code",
   "execution_count": 10,
   "metadata": {},
   "outputs": [],
   "source": [
    "#replacing NaN values with 0\n",
    "UPC_Monthly.fillna(value=0,inplace=True)"
   ]
  },
  {
   "cell_type": "code",
   "execution_count": 11,
   "metadata": {
    "scrolled": false
   },
   "outputs": [
    {
     "data": {
      "text/plain": [
       "{'$',\n",
       " '$ % Chg YA',\n",
       " '$ / $MM ACV',\n",
       " '$ / $MM ACV % Chg YA',\n",
       " '$ / $MM ACV Chg YA',\n",
       " '$ Chg YA',\n",
       " '$ Shr - CP CATEGORY',\n",
       " '$ Shr Chg YA - CP CATEGORY',\n",
       " '% $ Any Promo',\n",
       " '% $ Any Promo Chg YA',\n",
       " '% EQ Any Promo',\n",
       " '% EQ Any Promo Chg YA',\n",
       " '%ACV',\n",
       " '%ACV Chg YA',\n",
       " 'Any Promo $',\n",
       " 'Any Promo $ % Chg YA',\n",
       " 'Any Promo $ Chg YA',\n",
       " 'Any Promo $ Shr - CP CATEGORY',\n",
       " 'Any Promo $ Shr Chg YA - CP CATEGORY',\n",
       " 'Any Promo EQ',\n",
       " 'Any Promo EQ % Chg YA',\n",
       " 'Any Promo EQ Chg YA',\n",
       " 'Any Promo EQ Price',\n",
       " 'Any Promo EQ Price % Chg YA',\n",
       " 'Any Promo EQ Price Chg YA',\n",
       " 'Any Promo Unit Price',\n",
       " 'Any Promo Unit Price % Chg YA',\n",
       " 'Any Promo Unit Price Chg YA',\n",
       " 'Any Promo Unit Price YA',\n",
       " 'Avg # of Items',\n",
       " 'Avg # of Items Chg YA',\n",
       " 'Avg EQ Price',\n",
       " 'Avg EQ Price % Chg YA',\n",
       " 'Avg EQ Price Chg YA',\n",
       " 'Avg EQ Price YA',\n",
       " 'Avg Unit Price',\n",
       " 'Avg Unit Price % Chg YA',\n",
       " 'Avg Unit Price Chg YA',\n",
       " 'Avg Unit Price YA',\n",
       " 'Base $',\n",
       " 'Base $ % Chg YA',\n",
       " 'Base $ Chg YA',\n",
       " 'Base $ Shr - CP CATEGORY',\n",
       " 'Base $ Shr Chg YA - CP CATEGORY',\n",
       " 'Base EQ Price',\n",
       " 'Base EQ Price % Chg YA',\n",
       " 'Base EQ Price Chg YA',\n",
       " 'Base Unit Price',\n",
       " 'Base Unit Price % Chg YA',\n",
       " 'Base Unit Price Chg YA',\n",
       " 'Base Unit Price YA',\n",
       " 'EQ',\n",
       " 'EQ % Chg YA',\n",
       " 'EQ Chg YA',\n",
       " 'EQ Shr - CP CATEGORY',\n",
       " 'EQ Shr Chg YA - CP CATEGORY',\n",
       " 'Feat or Disp %ACV',\n",
       " 'Feat or Disp %ACV Chg YA',\n",
       " 'Incr $',\n",
       " 'Incr $ % Chg YA',\n",
       " 'Incr $ Chg YA',\n",
       " 'Incr $ Shr - CP CATEGORY',\n",
       " 'Incr $ Shr Chg YA - CP CATEGORY',\n",
       " 'Price Decr Only %ACV',\n",
       " 'Price Decr Only %ACV Chg YA',\n",
       " 'TDP',\n",
       " 'TDP % Chg YA',\n",
       " 'TDP Chg YA',\n",
       " 'Units',\n",
       " 'Units % Chg YA',\n",
       " 'Units / $MM ACV',\n",
       " 'Units / $MM ACV % Chg YA',\n",
       " 'Units / $MM ACV Chg YA',\n",
       " 'Units Chg YA'}"
      ]
     },
     "execution_count": 11,
     "metadata": {},
     "output_type": "execute_result"
    }
   ],
   "source": [
    "set(UPC_Monthly[\"Periods\"])"
   ]
  },
  {
   "cell_type": "markdown",
   "metadata": {},
   "source": [
    "**Removing unwanted characters from all the column names** and store them in a list ***new_col_names***"
   ]
  },
  {
   "cell_type": "code",
   "execution_count": 12,
   "metadata": {},
   "outputs": [],
   "source": [
    "new_col_names=[]\n",
    "for i in UPC_Monthly.columns:\n",
    "    x=len(i)\n",
    "    if x<=17:\n",
    "        new_col_names.append(i)\n",
    "    elif i[:3]=='YTD':\n",
    "        new_col_names.append(i[:-16].strip('- '))\n",
    "    else:\n",
    "        new_col_names.append(i[:-14].strip('- '))\n",
    "        "
   ]
  },
  {
   "cell_type": "markdown",
   "metadata": {},
   "source": [
    "\n",
    "**Checking the duplicacte column in** ***UPC_Monthly***"
   ]
  },
  {
   "cell_type": "code",
   "execution_count": 13,
   "metadata": {},
   "outputs": [],
   "source": [
    "if(len(new_col_names)!=len(set(new_col_names))):\n",
    "    print(\"\\033[1;31m\"+\"*******************************ERROR*******************************\\n\\t\\t\\tWe have duplicate columns\\n\\t\\t\\tPlease recheck raw data files\\n*******************************ERROR*******************************\")"
   ]
  },
  {
   "cell_type": "markdown",
   "metadata": {},
   "source": [
    "Renaming the column names of ***UPC_Monthly***"
   ]
  },
  {
   "cell_type": "code",
   "execution_count": 14,
   "metadata": {},
   "outputs": [],
   "source": [
    "# UPC_Monthly.rename(columns=dict(zip(UPC_Monthly.columns,new_col_names)),inplace=True)\n",
    "UPC_Monthly.columns=new_col_names"
   ]
  },
  {
   "cell_type": "code",
   "execution_count": 15,
   "metadata": {
    "scrolled": true
   },
   "outputs": [
    {
     "data": {
      "text/plain": [
       "Index(['Markets', 'Products', 'Periods', 'YTD', 'YTD YA', 'Latest 13 Wks',\n",
       "       'Latest 26 Wks', 'Cal Yr 2020', 'Cal Yr 2019', 'Cal Yr 2018',\n",
       "       'Cal Yr 2017', 'Feb 21', 'Jan 20', 'Feb 20', 'Mar 20', 'Apr 20',\n",
       "       'May 20', 'Jun 20', 'Jul 20', 'Aug 20', 'Sep 20', 'Oct 20', 'Nov 20',\n",
       "       'Dec 20', 'Jan 21', 'JFM 20', 'AMJ 20', 'JAS 20', 'OND 20', 'JFM 21'],\n",
       "      dtype='object')"
      ]
     },
     "execution_count": 15,
     "metadata": {},
     "output_type": "execute_result"
    }
   ],
   "source": [
    "UPC_Monthly.columns"
   ]
  },
  {
   "cell_type": "code",
   "execution_count": 16,
   "metadata": {},
   "outputs": [
    {
     "data": {
      "text/plain": [
       "{'ABRASIVE', 'APC+WW', 'POUR APC+WW', 'WOOD'}"
      ]
     },
     "execution_count": 16,
     "metadata": {},
     "output_type": "execute_result"
    }
   ],
   "source": [
    "set((UPC_Monthly[\"Products\"].str.split(\"|\",n=1,expand=True)).apply(lambda x : x.str.strip())[0])"
   ]
  },
  {
   "cell_type": "markdown",
   "metadata": {},
   "source": [
    "**Adding Missing Quater**\n"
   ]
  },
  {
   "cell_type": "code",
   "execution_count": 17,
   "metadata": {},
   "outputs": [
    {
     "name": "stdout",
     "output_type": "stream",
     "text": [
      "2\n",
      "19\n"
     ]
    }
   ],
   "source": [
    "# GETTING 20 DAYS BEFORE MONTHS AND YEAR VALUES\n",
    "now=datetime.datetime.now()\n",
    "delay= datetime.timedelta(days=20)\n",
    "a= now - delay\n",
    "month_number=a.month\n",
    "year=str(a.year-2)[-2:]\n",
    "print(month_number)\n",
    "print(year)"
   ]
  },
  {
   "cell_type": "code",
   "execution_count": 18,
   "metadata": {},
   "outputs": [],
   "source": [
    "if( month_number >= 1 & month_number <= 3):\n",
    "    UPC_Monthly['AMJ '+year]=\"\"\n",
    "    UPC_Monthly['JAS '+year]=\"\"\n",
    "    UPC_Monthly['OND '+year]=\"\"\n",
    "elif ( month_number >= 4 & month_number <= 6 ):\n",
    "    UPC_Monthly['JAS '+year]=\"\"\n",
    "    UPC_Monthly['OND '+year]=\"\"\n",
    "elif ( month_number >= 7 & month_number <= 9  ):\n",
    "    UPC_Monthly['OND '+year]=\"\""
   ]
  },
  {
   "cell_type": "code",
   "execution_count": 19,
   "metadata": {},
   "outputs": [
    {
     "data": {
      "text/plain": [
       "(364556, 33)"
      ]
     },
     "execution_count": 19,
     "metadata": {},
     "output_type": "execute_result"
    }
   ],
   "source": [
    "UPC_Monthly.shape"
   ]
  },
  {
   "cell_type": "markdown",
   "metadata": {},
   "source": [
    "**Time period mapping**\n",
    "\n",
    "**Manual Step**\n",
    "\n",
    "This mapping needs to be changed every year when new year data comes"
   ]
  },
  {
   "cell_type": "code",
   "execution_count": 20,
   "metadata": {},
   "outputs": [],
   "source": [
    "# time_period_map_2020= pd.DataFrame({'Connect Time Period':['Markets', 'Products', 'Periods','Cal Yr 2020','Cal Yr 2019','Cal Yr 2018','Cal Yr 2017','YTD','YTD YA','Latest 13 Wks','Latest 26 Wks','OND 20','JAS 20','AMJ 20','JFM 20','OND 19','JAS 19','AMJ 19','JFM 19','Dec 20','Nov 20','Oct 20','Sep 20','Aug 20','Jul 20','Jun 20','May 20','Apr 20','Mar 20','Feb 20','Jan 20','Dec 19','Nov 19','Oct 19','Sep 19','Aug 19','Jul 19','Jun 19','May 19','Apr 19','Mar 19','Feb 19','Jan 19'],\n",
    "#                                'Final Name':['Markets', 'Products', 'Periods','FY 2020','FY 2019','FY 2018','FY 2017','YTD 2020','YTD 2019','Latest 13 Weeks','Latest 26 Weeks','Q4 2020','Q3 2020','Q2 2020','Q1 2020','Q4 2019','Q3 2019','Q2 2019','Q1 2019','Dec 20','Nov 20','Oct 20','Sep 20','Aug 20','Jul 20','Jun 20','May 20','Apr 20','Mar 20','Feb 20','Jan 20','Dec 19','Nov 19','Oct 19','Sep 19','Aug 19','Jul 19','Jun 19','May 19','Apr 19','Mar 19','Feb 19','Jan 19']\n",
    "#                               ,'Order':range(1,44)})"
   ]
  },
  {
   "cell_type": "code",
   "execution_count": 21,
   "metadata": {},
   "outputs": [],
   "source": [
    "time_period_map= pd.DataFrame({'Connect Time Period':['Markets', 'Products', 'Periods','Cal Yr 2020','Cal Yr 2019','Cal Yr 2018','Cal Yr 2017','YTD','YTD YA','Latest 13 Wks','Latest 26 Wks','OND 21','JAS 21','AMJ 21','JFM 21','OND 20','JAS 20','AMJ 20','JFM 20','OND 19','JAS 19','AMJ 19','Dec 21','Nov 21','Oct 21','Sep 21','Aug 21','Jul 21','Jun 21','May 21','Apr 21','Mar 21','Feb 21','Jan 21','Dec 20','Nov 20','Oct 20','Sep 20','Aug 20','Jul 20','Jun 20','May 20','Apr 20','Mar 20','Feb 20','Jan 20'],\n",
    "                               'Final Name':['Markets', 'Products', 'Periods','FY 2020','FY 2019','FY 2018','FY 2017','YTD 2021','YTD 2020','Latest 13 Weeks','Latest 26 Weeks','Q4 2021','Q3 2021','Q2 2021','Q1 2021','Q4 2020','Q3 2020','Q2 2020','Q1 2020','Q4 2019','Q3 2019','Q2 2019','Dec 21','Nov 21','Oct 21','Sep 21','Aug 21','Jul 21','Jun 21','May 21','Apr 21','Mar 21','Feb 21','Jan 21','Dec 20','Nov 20','Oct 20','Sep 20','Aug 20','Jul 20','Jun 20','May 20','Apr 20','Mar 20','Feb 20','Jan 20']\n",
    "                              ,'Order':range(1,47)})"
   ]
  },
  {
   "cell_type": "code",
   "execution_count": 22,
   "metadata": {
    "scrolled": true
   },
   "outputs": [
    {
     "data": {
      "text/html": [
       "<div>\n",
       "<style scoped>\n",
       "    .dataframe tbody tr th:only-of-type {\n",
       "        vertical-align: middle;\n",
       "    }\n",
       "\n",
       "    .dataframe tbody tr th {\n",
       "        vertical-align: top;\n",
       "    }\n",
       "\n",
       "    .dataframe thead th {\n",
       "        text-align: right;\n",
       "    }\n",
       "</style>\n",
       "<table border=\"1\" class=\"dataframe\">\n",
       "  <thead>\n",
       "    <tr style=\"text-align: right;\">\n",
       "      <th></th>\n",
       "      <th>Connect Time Period</th>\n",
       "      <th>Final Name</th>\n",
       "      <th>Order</th>\n",
       "    </tr>\n",
       "  </thead>\n",
       "  <tbody>\n",
       "    <tr>\n",
       "      <th>0</th>\n",
       "      <td>Markets</td>\n",
       "      <td>Markets</td>\n",
       "      <td>1</td>\n",
       "    </tr>\n",
       "    <tr>\n",
       "      <th>1</th>\n",
       "      <td>Products</td>\n",
       "      <td>Products</td>\n",
       "      <td>2</td>\n",
       "    </tr>\n",
       "    <tr>\n",
       "      <th>2</th>\n",
       "      <td>Periods</td>\n",
       "      <td>Periods</td>\n",
       "      <td>3</td>\n",
       "    </tr>\n",
       "    <tr>\n",
       "      <th>3</th>\n",
       "      <td>Cal Yr 2020</td>\n",
       "      <td>FY 2020</td>\n",
       "      <td>4</td>\n",
       "    </tr>\n",
       "    <tr>\n",
       "      <th>4</th>\n",
       "      <td>Cal Yr 2019</td>\n",
       "      <td>FY 2019</td>\n",
       "      <td>5</td>\n",
       "    </tr>\n",
       "    <tr>\n",
       "      <th>5</th>\n",
       "      <td>Cal Yr 2018</td>\n",
       "      <td>FY 2018</td>\n",
       "      <td>6</td>\n",
       "    </tr>\n",
       "    <tr>\n",
       "      <th>6</th>\n",
       "      <td>Cal Yr 2017</td>\n",
       "      <td>FY 2017</td>\n",
       "      <td>7</td>\n",
       "    </tr>\n",
       "    <tr>\n",
       "      <th>7</th>\n",
       "      <td>YTD</td>\n",
       "      <td>YTD 2021</td>\n",
       "      <td>8</td>\n",
       "    </tr>\n",
       "    <tr>\n",
       "      <th>8</th>\n",
       "      <td>YTD YA</td>\n",
       "      <td>YTD 2020</td>\n",
       "      <td>9</td>\n",
       "    </tr>\n",
       "    <tr>\n",
       "      <th>9</th>\n",
       "      <td>Latest 13 Wks</td>\n",
       "      <td>Latest 13 Weeks</td>\n",
       "      <td>10</td>\n",
       "    </tr>\n",
       "    <tr>\n",
       "      <th>10</th>\n",
       "      <td>Latest 26 Wks</td>\n",
       "      <td>Latest 26 Weeks</td>\n",
       "      <td>11</td>\n",
       "    </tr>\n",
       "    <tr>\n",
       "      <th>11</th>\n",
       "      <td>OND 21</td>\n",
       "      <td>Q4 2021</td>\n",
       "      <td>12</td>\n",
       "    </tr>\n",
       "    <tr>\n",
       "      <th>12</th>\n",
       "      <td>JAS 21</td>\n",
       "      <td>Q3 2021</td>\n",
       "      <td>13</td>\n",
       "    </tr>\n",
       "    <tr>\n",
       "      <th>13</th>\n",
       "      <td>AMJ 21</td>\n",
       "      <td>Q2 2021</td>\n",
       "      <td>14</td>\n",
       "    </tr>\n",
       "    <tr>\n",
       "      <th>14</th>\n",
       "      <td>JFM 21</td>\n",
       "      <td>Q1 2021</td>\n",
       "      <td>15</td>\n",
       "    </tr>\n",
       "    <tr>\n",
       "      <th>15</th>\n",
       "      <td>OND 20</td>\n",
       "      <td>Q4 2020</td>\n",
       "      <td>16</td>\n",
       "    </tr>\n",
       "    <tr>\n",
       "      <th>16</th>\n",
       "      <td>JAS 20</td>\n",
       "      <td>Q3 2020</td>\n",
       "      <td>17</td>\n",
       "    </tr>\n",
       "    <tr>\n",
       "      <th>17</th>\n",
       "      <td>AMJ 20</td>\n",
       "      <td>Q2 2020</td>\n",
       "      <td>18</td>\n",
       "    </tr>\n",
       "    <tr>\n",
       "      <th>18</th>\n",
       "      <td>JFM 20</td>\n",
       "      <td>Q1 2020</td>\n",
       "      <td>19</td>\n",
       "    </tr>\n",
       "    <tr>\n",
       "      <th>19</th>\n",
       "      <td>OND 19</td>\n",
       "      <td>Q4 2019</td>\n",
       "      <td>20</td>\n",
       "    </tr>\n",
       "    <tr>\n",
       "      <th>20</th>\n",
       "      <td>JAS 19</td>\n",
       "      <td>Q3 2019</td>\n",
       "      <td>21</td>\n",
       "    </tr>\n",
       "    <tr>\n",
       "      <th>21</th>\n",
       "      <td>AMJ 19</td>\n",
       "      <td>Q2 2019</td>\n",
       "      <td>22</td>\n",
       "    </tr>\n",
       "    <tr>\n",
       "      <th>22</th>\n",
       "      <td>Dec 21</td>\n",
       "      <td>Dec 21</td>\n",
       "      <td>23</td>\n",
       "    </tr>\n",
       "    <tr>\n",
       "      <th>23</th>\n",
       "      <td>Nov 21</td>\n",
       "      <td>Nov 21</td>\n",
       "      <td>24</td>\n",
       "    </tr>\n",
       "    <tr>\n",
       "      <th>24</th>\n",
       "      <td>Oct 21</td>\n",
       "      <td>Oct 21</td>\n",
       "      <td>25</td>\n",
       "    </tr>\n",
       "    <tr>\n",
       "      <th>25</th>\n",
       "      <td>Sep 21</td>\n",
       "      <td>Sep 21</td>\n",
       "      <td>26</td>\n",
       "    </tr>\n",
       "    <tr>\n",
       "      <th>26</th>\n",
       "      <td>Aug 21</td>\n",
       "      <td>Aug 21</td>\n",
       "      <td>27</td>\n",
       "    </tr>\n",
       "    <tr>\n",
       "      <th>27</th>\n",
       "      <td>Jul 21</td>\n",
       "      <td>Jul 21</td>\n",
       "      <td>28</td>\n",
       "    </tr>\n",
       "    <tr>\n",
       "      <th>28</th>\n",
       "      <td>Jun 21</td>\n",
       "      <td>Jun 21</td>\n",
       "      <td>29</td>\n",
       "    </tr>\n",
       "    <tr>\n",
       "      <th>29</th>\n",
       "      <td>May 21</td>\n",
       "      <td>May 21</td>\n",
       "      <td>30</td>\n",
       "    </tr>\n",
       "    <tr>\n",
       "      <th>30</th>\n",
       "      <td>Apr 21</td>\n",
       "      <td>Apr 21</td>\n",
       "      <td>31</td>\n",
       "    </tr>\n",
       "    <tr>\n",
       "      <th>31</th>\n",
       "      <td>Mar 21</td>\n",
       "      <td>Mar 21</td>\n",
       "      <td>32</td>\n",
       "    </tr>\n",
       "    <tr>\n",
       "      <th>32</th>\n",
       "      <td>Feb 21</td>\n",
       "      <td>Feb 21</td>\n",
       "      <td>33</td>\n",
       "    </tr>\n",
       "    <tr>\n",
       "      <th>33</th>\n",
       "      <td>Jan 21</td>\n",
       "      <td>Jan 21</td>\n",
       "      <td>34</td>\n",
       "    </tr>\n",
       "    <tr>\n",
       "      <th>34</th>\n",
       "      <td>Dec 20</td>\n",
       "      <td>Dec 20</td>\n",
       "      <td>35</td>\n",
       "    </tr>\n",
       "    <tr>\n",
       "      <th>35</th>\n",
       "      <td>Nov 20</td>\n",
       "      <td>Nov 20</td>\n",
       "      <td>36</td>\n",
       "    </tr>\n",
       "    <tr>\n",
       "      <th>36</th>\n",
       "      <td>Oct 20</td>\n",
       "      <td>Oct 20</td>\n",
       "      <td>37</td>\n",
       "    </tr>\n",
       "    <tr>\n",
       "      <th>37</th>\n",
       "      <td>Sep 20</td>\n",
       "      <td>Sep 20</td>\n",
       "      <td>38</td>\n",
       "    </tr>\n",
       "    <tr>\n",
       "      <th>38</th>\n",
       "      <td>Aug 20</td>\n",
       "      <td>Aug 20</td>\n",
       "      <td>39</td>\n",
       "    </tr>\n",
       "    <tr>\n",
       "      <th>39</th>\n",
       "      <td>Jul 20</td>\n",
       "      <td>Jul 20</td>\n",
       "      <td>40</td>\n",
       "    </tr>\n",
       "    <tr>\n",
       "      <th>40</th>\n",
       "      <td>Jun 20</td>\n",
       "      <td>Jun 20</td>\n",
       "      <td>41</td>\n",
       "    </tr>\n",
       "    <tr>\n",
       "      <th>41</th>\n",
       "      <td>May 20</td>\n",
       "      <td>May 20</td>\n",
       "      <td>42</td>\n",
       "    </tr>\n",
       "    <tr>\n",
       "      <th>42</th>\n",
       "      <td>Apr 20</td>\n",
       "      <td>Apr 20</td>\n",
       "      <td>43</td>\n",
       "    </tr>\n",
       "    <tr>\n",
       "      <th>43</th>\n",
       "      <td>Mar 20</td>\n",
       "      <td>Mar 20</td>\n",
       "      <td>44</td>\n",
       "    </tr>\n",
       "    <tr>\n",
       "      <th>44</th>\n",
       "      <td>Feb 20</td>\n",
       "      <td>Feb 20</td>\n",
       "      <td>45</td>\n",
       "    </tr>\n",
       "    <tr>\n",
       "      <th>45</th>\n",
       "      <td>Jan 20</td>\n",
       "      <td>Jan 20</td>\n",
       "      <td>46</td>\n",
       "    </tr>\n",
       "  </tbody>\n",
       "</table>\n",
       "</div>"
      ],
      "text/plain": [
       "   Connect Time Period       Final Name  Order\n",
       "0              Markets          Markets      1\n",
       "1             Products         Products      2\n",
       "2              Periods          Periods      3\n",
       "3          Cal Yr 2020          FY 2020      4\n",
       "4          Cal Yr 2019          FY 2019      5\n",
       "5          Cal Yr 2018          FY 2018      6\n",
       "6          Cal Yr 2017          FY 2017      7\n",
       "7                  YTD         YTD 2021      8\n",
       "8               YTD YA         YTD 2020      9\n",
       "9        Latest 13 Wks  Latest 13 Weeks     10\n",
       "10       Latest 26 Wks  Latest 26 Weeks     11\n",
       "11              OND 21          Q4 2021     12\n",
       "12              JAS 21          Q3 2021     13\n",
       "13              AMJ 21          Q2 2021     14\n",
       "14              JFM 21          Q1 2021     15\n",
       "15              OND 20          Q4 2020     16\n",
       "16              JAS 20          Q3 2020     17\n",
       "17              AMJ 20          Q2 2020     18\n",
       "18              JFM 20          Q1 2020     19\n",
       "19              OND 19          Q4 2019     20\n",
       "20              JAS 19          Q3 2019     21\n",
       "21              AMJ 19          Q2 2019     22\n",
       "22              Dec 21           Dec 21     23\n",
       "23              Nov 21           Nov 21     24\n",
       "24              Oct 21           Oct 21     25\n",
       "25              Sep 21           Sep 21     26\n",
       "26              Aug 21           Aug 21     27\n",
       "27              Jul 21           Jul 21     28\n",
       "28              Jun 21           Jun 21     29\n",
       "29              May 21           May 21     30\n",
       "30              Apr 21           Apr 21     31\n",
       "31              Mar 21           Mar 21     32\n",
       "32              Feb 21           Feb 21     33\n",
       "33              Jan 21           Jan 21     34\n",
       "34              Dec 20           Dec 20     35\n",
       "35              Nov 20           Nov 20     36\n",
       "36              Oct 20           Oct 20     37\n",
       "37              Sep 20           Sep 20     38\n",
       "38              Aug 20           Aug 20     39\n",
       "39              Jul 20           Jul 20     40\n",
       "40              Jun 20           Jun 20     41\n",
       "41              May 20           May 20     42\n",
       "42              Apr 20           Apr 20     43\n",
       "43              Mar 20           Mar 20     44\n",
       "44              Feb 20           Feb 20     45\n",
       "45              Jan 20           Jan 20     46"
      ]
     },
     "execution_count": 22,
     "metadata": {},
     "output_type": "execute_result"
    }
   ],
   "source": [
    "time_period_map.head(50)"
   ]
  },
  {
   "cell_type": "markdown",
   "metadata": {},
   "source": [
    "We need to **change column names** of ***UPC_Monthly*** and **reorder** them based on the time_period_mapping"
   ]
  },
  {
   "cell_type": "code",
   "execution_count": 23,
   "metadata": {},
   "outputs": [],
   "source": [
    "# assigning variables\n",
    "LM_column= list(UPC_Monthly.columns)\n",
    "time_connect=list(time_period_map[\"Connect Time Period\"])\n",
    "time_final=list(time_period_map[\"Final Name\"])"
   ]
  },
  {
   "cell_type": "code",
   "execution_count": 24,
   "metadata": {},
   "outputs": [],
   "source": [
    "# changing column names based on time_period_mapping\n",
    "new_column=[]\n",
    "for i in range(0,len(LM_column)):\n",
    "    for j in range(0,len(time_connect)):\n",
    "        if LM_column[i]==time_connect[j]:\n",
    "            new_column.append(time_final[j])\n",
    "        "
   ]
  },
  {
   "cell_type": "code",
   "execution_count": 25,
   "metadata": {},
   "outputs": [
    {
     "name": "stdout",
     "output_type": "stream",
     "text": [
      "['Markets', 'Products', 'Periods', 'YTD 2021', 'YTD 2020', 'Latest 13 Weeks', 'Latest 26 Weeks', 'FY 2020', 'FY 2019', 'FY 2018', 'FY 2017', 'Feb 21', 'Jan 20', 'Feb 20', 'Mar 20', 'Apr 20', 'May 20', 'Jun 20', 'Jul 20', 'Aug 20', 'Sep 20', 'Oct 20', 'Nov 20', 'Dec 20', 'Jan 21', 'Q1 2020', 'Q2 2020', 'Q3 2020', 'Q4 2020', 'Q1 2021', 'Q2 2019', 'Q3 2019', 'Q4 2019']\n"
     ]
    }
   ],
   "source": [
    "print(new_column)"
   ]
  },
  {
   "cell_type": "code",
   "execution_count": 26,
   "metadata": {
    "scrolled": true
   },
   "outputs": [
    {
     "name": "stdout",
     "output_type": "stream",
     "text": [
      "Index(['Markets', 'Products', 'Periods', 'YTD', 'YTD YA', 'Latest 13 Wks',\n",
      "       'Latest 26 Wks', 'Cal Yr 2020', 'Cal Yr 2019', 'Cal Yr 2018',\n",
      "       'Cal Yr 2017', 'Feb 21', 'Jan 20', 'Feb 20', 'Mar 20', 'Apr 20',\n",
      "       'May 20', 'Jun 20', 'Jul 20', 'Aug 20', 'Sep 20', 'Oct 20', 'Nov 20',\n",
      "       'Dec 20', 'Jan 21', 'JFM 20', 'AMJ 20', 'JAS 20', 'OND 20', 'JFM 21',\n",
      "       'AMJ 19', 'JAS 19', 'OND 19'],\n",
      "      dtype='object')\n"
     ]
    }
   ],
   "source": [
    "print(UPC_Monthly.columns)"
   ]
  },
  {
   "cell_type": "code",
   "execution_count": 27,
   "metadata": {},
   "outputs": [
    {
     "name": "stdout",
     "output_type": "stream",
     "text": [
      "33 33\n"
     ]
    }
   ],
   "source": [
    "print(len(new_column),len(UPC_Monthly.columns))"
   ]
  },
  {
   "cell_type": "code",
   "execution_count": 28,
   "metadata": {},
   "outputs": [],
   "source": [
    "#assigning new column names\n",
    "UPC_Monthly.columns = new_column"
   ]
  },
  {
   "cell_type": "code",
   "execution_count": 29,
   "metadata": {},
   "outputs": [],
   "source": [
    "# reordering column names\n",
    "my_list =time_period_map.iloc[:, 1]\n",
    "my_list1=UPC_Monthly.columns\n",
    "result = [x for x in my_list if x in my_list1]\n",
    "UPC_Monthly=UPC_Monthly[result]"
   ]
  },
  {
   "cell_type": "code",
   "execution_count": 30,
   "metadata": {},
   "outputs": [
    {
     "data": {
      "text/plain": [
       "Index(['Markets', 'Products', 'Periods', 'FY 2020', 'FY 2019', 'FY 2018',\n",
       "       'FY 2017', 'YTD 2021', 'YTD 2020', 'Latest 13 Weeks', 'Latest 26 Weeks',\n",
       "       'Q1 2021', 'Q4 2020', 'Q3 2020', 'Q2 2020', 'Q1 2020', 'Q4 2019',\n",
       "       'Q3 2019', 'Q2 2019', 'Feb 21', 'Jan 21', 'Dec 20', 'Nov 20', 'Oct 20',\n",
       "       'Sep 20', 'Aug 20', 'Jul 20', 'Jun 20', 'May 20', 'Apr 20', 'Mar 20',\n",
       "       'Feb 20', 'Jan 20'],\n",
       "      dtype='object')"
      ]
     },
     "execution_count": 30,
     "metadata": {},
     "output_type": "execute_result"
    }
   ],
   "source": [
    "UPC_Monthly.columns"
   ]
  },
  {
   "cell_type": "code",
   "execution_count": 31,
   "metadata": {
    "scrolled": false
   },
   "outputs": [
    {
     "data": {
      "text/html": [
       "<div>\n",
       "<style scoped>\n",
       "    .dataframe tbody tr th:only-of-type {\n",
       "        vertical-align: middle;\n",
       "    }\n",
       "\n",
       "    .dataframe tbody tr th {\n",
       "        vertical-align: top;\n",
       "    }\n",
       "\n",
       "    .dataframe thead th {\n",
       "        text-align: right;\n",
       "    }\n",
       "</style>\n",
       "<table border=\"1\" class=\"dataframe\">\n",
       "  <thead>\n",
       "    <tr style=\"text-align: right;\">\n",
       "      <th></th>\n",
       "      <th>Markets</th>\n",
       "      <th>Products</th>\n",
       "      <th>Periods</th>\n",
       "      <th>FY 2020</th>\n",
       "      <th>FY 2019</th>\n",
       "      <th>FY 2018</th>\n",
       "      <th>FY 2017</th>\n",
       "      <th>YTD 2021</th>\n",
       "      <th>YTD 2020</th>\n",
       "      <th>Latest 13 Weeks</th>\n",
       "      <th>...</th>\n",
       "      <th>Oct 20</th>\n",
       "      <th>Sep 20</th>\n",
       "      <th>Aug 20</th>\n",
       "      <th>Jul 20</th>\n",
       "      <th>Jun 20</th>\n",
       "      <th>May 20</th>\n",
       "      <th>Apr 20</th>\n",
       "      <th>Mar 20</th>\n",
       "      <th>Feb 20</th>\n",
       "      <th>Jan 20</th>\n",
       "    </tr>\n",
       "  </thead>\n",
       "  <tbody>\n",
       "    <tr>\n",
       "      <th>0</th>\n",
       "      <td>Total US xAOC</td>\n",
       "      <td>ABRASIVE | LIQUID | ALL PURPOSE | HENKEL | SOF...</td>\n",
       "      <td>Avg Unit Price</td>\n",
       "      <td>3.826</td>\n",
       "      <td>3.793</td>\n",
       "      <td>3.809</td>\n",
       "      <td>0.0</td>\n",
       "      <td>3.828</td>\n",
       "      <td>3.801</td>\n",
       "      <td>3.828</td>\n",
       "      <td>...</td>\n",
       "      <td>0.0</td>\n",
       "      <td>0.0</td>\n",
       "      <td>0.0</td>\n",
       "      <td>0.0</td>\n",
       "      <td>0.0</td>\n",
       "      <td>0.0</td>\n",
       "      <td>0.0</td>\n",
       "      <td>0.0</td>\n",
       "      <td>0.0</td>\n",
       "      <td>0.0</td>\n",
       "    </tr>\n",
       "    <tr>\n",
       "      <th>1</th>\n",
       "      <td>Total US xAOC</td>\n",
       "      <td>ABRASIVE | LIQUID | ALL PURPOSE | HENKEL | SOF...</td>\n",
       "      <td>Any Promo Unit Price YA</td>\n",
       "      <td>3.415</td>\n",
       "      <td>3.300</td>\n",
       "      <td>0.000</td>\n",
       "      <td>0.0</td>\n",
       "      <td>3.426</td>\n",
       "      <td>3.495</td>\n",
       "      <td>3.430</td>\n",
       "      <td>...</td>\n",
       "      <td>0.0</td>\n",
       "      <td>0.0</td>\n",
       "      <td>0.0</td>\n",
       "      <td>0.0</td>\n",
       "      <td>0.0</td>\n",
       "      <td>0.0</td>\n",
       "      <td>0.0</td>\n",
       "      <td>0.0</td>\n",
       "      <td>0.0</td>\n",
       "      <td>0.0</td>\n",
       "    </tr>\n",
       "    <tr>\n",
       "      <th>2</th>\n",
       "      <td>Total US xAOC</td>\n",
       "      <td>ABRASIVE | LIQUID | ALL PURPOSE | HENKEL | SOF...</td>\n",
       "      <td>Any Promo Unit Price % Chg YA</td>\n",
       "      <td>2.518</td>\n",
       "      <td>3.485</td>\n",
       "      <td>0.000</td>\n",
       "      <td>0.0</td>\n",
       "      <td>4.787</td>\n",
       "      <td>-1.974</td>\n",
       "      <td>4.636</td>\n",
       "      <td>...</td>\n",
       "      <td>0.0</td>\n",
       "      <td>0.0</td>\n",
       "      <td>0.0</td>\n",
       "      <td>0.0</td>\n",
       "      <td>0.0</td>\n",
       "      <td>0.0</td>\n",
       "      <td>0.0</td>\n",
       "      <td>0.0</td>\n",
       "      <td>0.0</td>\n",
       "      <td>0.0</td>\n",
       "    </tr>\n",
       "  </tbody>\n",
       "</table>\n",
       "<p>3 rows × 33 columns</p>\n",
       "</div>"
      ],
      "text/plain": [
       "         Markets                                           Products  \\\n",
       "0  Total US xAOC  ABRASIVE | LIQUID | ALL PURPOSE | HENKEL | SOF...   \n",
       "1  Total US xAOC  ABRASIVE | LIQUID | ALL PURPOSE | HENKEL | SOF...   \n",
       "2  Total US xAOC  ABRASIVE | LIQUID | ALL PURPOSE | HENKEL | SOF...   \n",
       "\n",
       "                         Periods  FY 2020  FY 2019  FY 2018  FY 2017  \\\n",
       "0                 Avg Unit Price    3.826    3.793    3.809      0.0   \n",
       "1        Any Promo Unit Price YA    3.415    3.300    0.000      0.0   \n",
       "2  Any Promo Unit Price % Chg YA    2.518    3.485    0.000      0.0   \n",
       "\n",
       "   YTD 2021  YTD 2020  Latest 13 Weeks  ...  Oct 20  Sep 20  Aug 20  Jul 20  \\\n",
       "0     3.828     3.801            3.828  ...     0.0     0.0     0.0     0.0   \n",
       "1     3.426     3.495            3.430  ...     0.0     0.0     0.0     0.0   \n",
       "2     4.787    -1.974            4.636  ...     0.0     0.0     0.0     0.0   \n",
       "\n",
       "   Jun 20  May 20 Apr 20 Mar 20 Feb 20  Jan 20  \n",
       "0     0.0     0.0    0.0    0.0    0.0     0.0  \n",
       "1     0.0     0.0    0.0    0.0    0.0     0.0  \n",
       "2     0.0     0.0    0.0    0.0    0.0     0.0  \n",
       "\n",
       "[3 rows x 33 columns]"
      ]
     },
     "execution_count": 31,
     "metadata": {},
     "output_type": "execute_result"
    }
   ],
   "source": [
    "UPC_Monthly.head(3)"
   ]
  },
  {
   "cell_type": "code",
   "execution_count": null,
   "metadata": {},
   "outputs": [],
   "source": []
  },
  {
   "cell_type": "markdown",
   "metadata": {},
   "source": [
    "**Period Mapping**"
   ]
  },
  {
   "cell_type": "code",
   "execution_count": 32,
   "metadata": {},
   "outputs": [],
   "source": [
    "Time_Mapping={\n",
    "    \"Nov 19\":\"4 W/E 11/23/2019\",\n",
    "    \"Dec 19\":\"5 W/E 12/28/2019\",\n",
    "    \"Jan 20\":\"4 W/E 02/01/2020\",\n",
    "    \"Feb 20\":\"4 W/E 02/29/2020\",\n",
    "    \"Mar 20\":\"5 W/E 04/04/2020\",\n",
    "    \"Apr 20\":\"4 W/E 05/02/2020\",\n",
    "    \"May 20\":\"4 W/E 05/30/2020\",\n",
    "    \"Jun 20\":\"5 W/E 07/04/2020\",\n",
    "    \"Jul 20\":\"4 W/E 08/01/2020\",\n",
    "    \"Aug 20\":\"4 W/E 08/29/2020\",\n",
    "    \"Sep 20\":\"5 W/E 10/03/2020\",\n",
    "    \"Oct 20\":\"4 W/E 10/31/2020\",\n",
    "    \"Nov 20\":\"4 W/E 11/28/2020\",\n",
    "    \"Dec 20\":\"5 W/E 01/02/2021\",\n",
    "    \"Jan 21\":\"4 W/E 01/30/2021\",\n",
    "    \"Feb 21\":\"4 W/E 02/27/2021\",\n",
    "    \"Mar 21\":\"5 W/E 04/03/2021\",\n",
    "    \"Apr 21\":\"4 W/E 05/01/2021\",\n",
    "    \"May 21\":\"4 W/E 05/29/2021\",\n",
    "    \"Jun 21\":\"5 W/E 07/03/2021\",\n",
    "    \"Jul 21\":\"4 W/E 07/31/2021\",\n",
    "    \"Aug 21\":\"4 W/E 08/28/2021\",\n",
    "    \"Sep 21\":\"5 W/E 10/02/2021\",\n",
    "    \"Oct 21\":\"4 W/E 10/30/2021\",\n",
    "    \"Nov 21\":\"4 W/E 11/27/2021\",\n",
    "    \"Dec 21\":\"5 W/E 01/01/2022\",\n",
    "    \"Jan 22\":\"4 W/E 01/29/2022\",\n",
    "    \"Feb 22\":\"4 W/E 02/26/2022\",\n",
    "    \"Mar 22\":\"5 W/E 04/02/2022\",\n",
    "    \"Apr 22\":\"4 W/E 04/30/2022\",\n",
    "    \"May 22\":\"5 W/E 05/28/2022\",\n",
    "    \"Jun 22\":\"4 W/E 06/25/2022\",\n",
    "    \"Jul 22\":\"4 W/E 07/23/2022\",\n",
    "    \"Aug 22\":\"5 W/E 08/20/2022\",\n",
    "    \"Sep 22\":\"4 W/E 09/17/2022\",\n",
    "    \"Oct 22\":\"4 W/E 10/15/2022\",\n",
    "    \"Nov 22\":\"5 W/E 11/12/2022\",\n",
    "    \"Dec 22\":\"4 W/E 12/10/2022\",\n",
    "    \"Jan 23\":\"4 W/E 01/07/2023\",\n",
    "    \"Feb 23\":\"5 W/E 02/04/2023\",\n",
    "    \"Mar 23\":\"4 W/E 03/04/2023\",\n",
    "    \"Apr 23\":\"4 W/E 04/01/2023\",\n",
    "    \"May 23\":\"5 W/E 04/29/2023\",\n",
    "    \"Jun 23\":\"4 W/E 05/27/2023\",\n",
    "    \"Jul 23\":\"4 W/E 06/24/2023\",\n",
    "    \"Aug 23\":\"5 W/E 07/22/2023\",\n",
    "    \"Sep 23\":\"4 W/E 08/19/2023\",\n",
    "    \"Oct 23\":\"5 W/E 09/16/2023\",\n",
    "    \"Nov 23\":\"4 W/E 10/14/2023\",\n",
    "    \"Dec 23\":\"4 W/E 11/11/2023\",\n",
    "    \"Jan 24\":\"5 W/E 12/09/2023\",\n",
    "    \"Feb 24\":\"4 W/E 01/06/2024\",\n",
    "    \"Mar 24\":\"4 W/E 02/03/2024\",\n",
    "    \"Apr 24\":\"5 W/E 03/02/2024\",\n",
    "    \"May 24\":\"4 W/E 03/30/2024\",\n",
    "    \"Jun 24\":\"4 W/E 04/27/2024\",\n",
    "    \"Jul 24\":\"5 W/E 05/25/2024\",\n",
    "    \"Aug 24\":\"4 W/E 06/22/2024\",\n",
    "    \"Sep 24\":\"4 W/E 07/20/2024\",\n",
    "    \"Oct 24\":\"5 W/E 08/17/2024\",\n",
    "    \"Nov 24\":\"4 W/E 09/14/2024\",\n",
    "    \"Dec 24\":\"4 W/E 10/12/2024\",\n",
    "    \"Jan 25\":\"5 W/E 11/09/2024\",\n",
    "    \"Feb 25\":\"4 W/E 12/07/2024\",\n",
    "    \"Mar 25\":\"5 W/E 01/04/2025\",\n",
    "    \"Apr 25\":\"4 W/E 02/01/2025\",\n",
    "    \"May 25\":\"4 W/E 03/01/2025\",\n",
    "    \"Jun 25\":\"5 W/E 03/29/2025\",\n",
    "    \"Jul 25\":\"4 W/E 04/26/2025\",\n",
    "    \"Aug 25\":\"4 W/E 05/24/2025\",\n",
    "    \"Sep 25\":\"5 W/E 06/21/2025\",\n",
    "    \"Oct 25\":\"4 W/E 07/19/2025\",\n",
    "    \"Nov 25\":\"4 W/E 08/16/2025\",\n",
    "    \"Dec 25\":\"5 W/E 09/13/2025\",\n",
    "    \"Jan 26\":\"4 W/E 10/11/2025\",\n",
    "    \"Feb 26\":\"4 W/E 11/08/2025\",\n",
    "    \"Mar 26\":\"5 W/E 12/06/2025\",\n",
    "    \"Apr 26\":\"4 W/E 01/03/2026\",\n",
    "    \"May 26\":\"4 W/E 01/31/2026\",\n",
    "    \"Jun 26\":\"5 W/E 02/28/2026\",\n",
    "    \"Jul 26\":\"4 W/E 03/28/2026\",\n",
    "    \"Aug 26\":\"5 W/E 04/25/2026\",\n",
    "    \"Sep 26\":\"4 W/E 05/23/2026\",\n",
    "    \"Oct 26\":\"4 W/E 06/20/2026\",\n",
    "    \"Nov 26\":\"5 W/E 07/18/2026\",\n",
    "    \"Dec 26\":\"4 W/E 08/15/2026\"\n",
    "\n",
    "}\n"
   ]
  },
  {
   "cell_type": "code",
   "execution_count": 33,
   "metadata": {},
   "outputs": [],
   "source": [
    "UPC_Monthly.rename(columns=Time_Mapping,inplace=True)"
   ]
  },
  {
   "cell_type": "markdown",
   "metadata": {},
   "source": [
    "Changing Column Name"
   ]
  },
  {
   "cell_type": "code",
   "execution_count": 34,
   "metadata": {},
   "outputs": [],
   "source": [
    "UPC_Monthly.rename(columns={\"Periods\":\"Facts\"},inplace=True)"
   ]
  },
  {
   "cell_type": "code",
   "execution_count": 35,
   "metadata": {},
   "outputs": [
    {
     "data": {
      "text/plain": [
       "(364556, 33)"
      ]
     },
     "execution_count": 35,
     "metadata": {},
     "output_type": "execute_result"
    }
   ],
   "source": [
    "UPC_Monthly.shape"
   ]
  },
  {
   "cell_type": "markdown",
   "metadata": {},
   "source": [
    "**Filter Condition**\n",
    "\n",
    "Taking only those products whose **Latest Month Dollar Share** is **greater than 0.07** for all the markets"
   ]
  },
  {
   "cell_type": "code",
   "execution_count": 36,
   "metadata": {},
   "outputs": [],
   "source": [
    "UPC_Monthly.iloc[:,3:]= UPC_Monthly.iloc[:,3:].apply(pd.to_numeric)"
   ]
  },
  {
   "cell_type": "code",
   "execution_count": 37,
   "metadata": {
    "scrolled": true
   },
   "outputs": [
    {
     "name": "stdout",
     "output_type": "stream",
     "text": [
      "<class 'pandas.core.frame.DataFrame'>\n",
      "RangeIndex: 364556 entries, 0 to 364555\n",
      "Data columns (total 33 columns):\n",
      " #   Column            Non-Null Count   Dtype  \n",
      "---  ------            --------------   -----  \n",
      " 0   Markets           364556 non-null  object \n",
      " 1   Products          364556 non-null  object \n",
      " 2   Facts             364556 non-null  object \n",
      " 3   FY 2020           364556 non-null  float64\n",
      " 4   FY 2019           364556 non-null  float64\n",
      " 5   FY 2018           364556 non-null  float64\n",
      " 6   FY 2017           364556 non-null  float64\n",
      " 7   YTD 2021          364556 non-null  float64\n",
      " 8   YTD 2020          364556 non-null  float64\n",
      " 9   Latest 13 Weeks   364556 non-null  float64\n",
      " 10  Latest 26 Weeks   364556 non-null  float64\n",
      " 11  Q1 2021           364556 non-null  float64\n",
      " 12  Q4 2020           364556 non-null  float64\n",
      " 13  Q3 2020           364556 non-null  float64\n",
      " 14  Q2 2020           364556 non-null  float64\n",
      " 15  Q1 2020           364556 non-null  float64\n",
      " 16  Q4 2019           0 non-null       float64\n",
      " 17  Q3 2019           0 non-null       float64\n",
      " 18  Q2 2019           0 non-null       float64\n",
      " 19  4 W/E 02/27/2021  364556 non-null  float64\n",
      " 20  4 W/E 01/30/2021  364556 non-null  float64\n",
      " 21  5 W/E 01/02/2021  364556 non-null  float64\n",
      " 22  4 W/E 11/28/2020  364556 non-null  float64\n",
      " 23  4 W/E 10/31/2020  364556 non-null  float64\n",
      " 24  5 W/E 10/03/2020  364556 non-null  float64\n",
      " 25  4 W/E 08/29/2020  364556 non-null  float64\n",
      " 26  4 W/E 08/01/2020  364556 non-null  float64\n",
      " 27  5 W/E 07/04/2020  364556 non-null  float64\n",
      " 28  4 W/E 05/30/2020  364556 non-null  float64\n",
      " 29  4 W/E 05/02/2020  364556 non-null  float64\n",
      " 30  5 W/E 04/04/2020  364556 non-null  float64\n",
      " 31  4 W/E 02/29/2020  364556 non-null  float64\n",
      " 32  4 W/E 02/01/2020  364556 non-null  float64\n",
      "dtypes: float64(30), object(3)\n",
      "memory usage: 91.8+ MB\n"
     ]
    }
   ],
   "source": [
    "UPC_Monthly.info()"
   ]
  },
  {
   "cell_type": "code",
   "execution_count": 38,
   "metadata": {},
   "outputs": [],
   "source": [
    "df=UPC_Monthly[(UPC_Monthly['Facts'] == '$ Shr - CP CATEGORY') & (UPC_Monthly.iloc[:,19]>0.07)]\n",
    "\n",
    "df[\"Key\"]=df[\"Markets\"]+df[\"Products\"]\n",
    "UPC_Monthly[\"Key\"]=UPC_Monthly[\"Markets\"]+UPC_Monthly[\"Products\"]\n",
    "\n",
    "UPC_Monthly=UPC_Monthly[UPC_Monthly['Key'].isin(list(df[\"Key\"]))]"
   ]
  },
  {
   "cell_type": "code",
   "execution_count": 39,
   "metadata": {},
   "outputs": [
    {
     "data": {
      "text/plain": [
       "{'ALBSCO Total Company TA',\n",
       " 'Ahold USA Corp Total TA',\n",
       " 'BJs Total TA',\n",
       " 'CVS Total Corp WO HI TA',\n",
       " 'Dol Gen Total TA',\n",
       " 'Family Dollar Total TA',\n",
       " 'Fiesta Total TA',\n",
       " 'Kmart Total TA',\n",
       " 'Meijer Total TA',\n",
       " 'Publix Total TA',\n",
       " 'Rite Aid - Corp Total TA',\n",
       " \"Sam's Total TA\",\n",
       " 'ShopRite Total TA',\n",
       " 'Target Total BM/FF TA',\n",
       " 'Total US Drug',\n",
       " 'Total US Food',\n",
       " 'Total US xAOC',\n",
       " 'Walgreens Total TA',\n",
       " 'Walmart Total US TA'}"
      ]
     },
     "execution_count": 39,
     "metadata": {},
     "output_type": "execute_result"
    }
   ],
   "source": [
    "set(UPC_Monthly[\"Markets\"])"
   ]
  },
  {
   "cell_type": "markdown",
   "metadata": {},
   "source": [
    "***movecol*** function to **rearranging** the columns of a dataframe"
   ]
  },
  {
   "cell_type": "code",
   "execution_count": 40,
   "metadata": {},
   "outputs": [],
   "source": [
    "def movecol(df, cols_to_move=[], ref_col='', place=''):\n",
    "    cols = df.columns.tolist()\n",
    "    if place == 'After':\n",
    "        seg1 = cols[:list(cols).index(ref_col) + 1]\n",
    "        seg2 = cols_to_move\n",
    "    if place == 'Before':\n",
    "        seg1 = cols[:list(cols).index(ref_col)]\n",
    "        seg2 = cols_to_move + [ref_col]\n",
    "    seg1 = [i for i in seg1 if i not in seg2]\n",
    "    seg3 = [i for i in cols if i not in seg1 + seg2]\n",
    "    \n",
    "    return(df[seg1 + seg2 + seg3])"
   ]
  },
  {
   "cell_type": "markdown",
   "metadata": {},
   "source": [
    "**UPC_Monthly_5p**"
   ]
  },
  {
   "cell_type": "code",
   "execution_count": 41,
   "metadata": {},
   "outputs": [],
   "source": [
    "UPC_Monthly_5P=UPC_Monthly.copy()"
   ]
  },
  {
   "cell_type": "code",
   "execution_count": 42,
   "metadata": {},
   "outputs": [],
   "source": [
    "new = (UPC_Monthly_5P[\"Products\"].str.split(\"|\",n=1,expand=True)).apply(lambda x : x.str.strip())"
   ]
  },
  {
   "cell_type": "code",
   "execution_count": 43,
   "metadata": {},
   "outputs": [
    {
     "data": {
      "text/html": [
       "<div>\n",
       "<style scoped>\n",
       "    .dataframe tbody tr th:only-of-type {\n",
       "        vertical-align: middle;\n",
       "    }\n",
       "\n",
       "    .dataframe tbody tr th {\n",
       "        vertical-align: top;\n",
       "    }\n",
       "\n",
       "    .dataframe thead th {\n",
       "        text-align: right;\n",
       "    }\n",
       "</style>\n",
       "<table border=\"1\" class=\"dataframe\">\n",
       "  <thead>\n",
       "    <tr style=\"text-align: right;\">\n",
       "      <th></th>\n",
       "      <th>0</th>\n",
       "      <th>1</th>\n",
       "    </tr>\n",
       "  </thead>\n",
       "  <tbody>\n",
       "    <tr>\n",
       "      <th>0</th>\n",
       "      <td>ABRASIVE</td>\n",
       "      <td>LIQUID | ALL PURPOSE | HENKEL | SOFT SCRUB | S...</td>\n",
       "    </tr>\n",
       "    <tr>\n",
       "      <th>1</th>\n",
       "      <td>ABRASIVE</td>\n",
       "      <td>LIQUID | ALL PURPOSE | HENKEL | SOFT SCRUB | S...</td>\n",
       "    </tr>\n",
       "    <tr>\n",
       "      <th>2</th>\n",
       "      <td>ABRASIVE</td>\n",
       "      <td>LIQUID | ALL PURPOSE | HENKEL | SOFT SCRUB | S...</td>\n",
       "    </tr>\n",
       "    <tr>\n",
       "      <th>3</th>\n",
       "      <td>ABRASIVE</td>\n",
       "      <td>LIQUID | ALL PURPOSE | HENKEL | SOFT SCRUB | S...</td>\n",
       "    </tr>\n",
       "    <tr>\n",
       "      <th>4</th>\n",
       "      <td>ABRASIVE</td>\n",
       "      <td>LIQUID | ALL PURPOSE | HENKEL | SOFT SCRUB | S...</td>\n",
       "    </tr>\n",
       "    <tr>\n",
       "      <th>...</th>\n",
       "      <td>...</td>\n",
       "      <td>...</td>\n",
       "    </tr>\n",
       "    <tr>\n",
       "      <th>364522</th>\n",
       "      <td>WOOD</td>\n",
       "      <td>SPRAY | COLGATE-PALMOLIVE | MURPHY'S | MURPHY'...</td>\n",
       "    </tr>\n",
       "    <tr>\n",
       "      <th>364523</th>\n",
       "      <td>WOOD</td>\n",
       "      <td>SPRAY | COLGATE-PALMOLIVE | MURPHY'S | MURPHY'...</td>\n",
       "    </tr>\n",
       "    <tr>\n",
       "      <th>364524</th>\n",
       "      <td>WOOD</td>\n",
       "      <td>SPRAY | COLGATE-PALMOLIVE | MURPHY'S | MURPHY'...</td>\n",
       "    </tr>\n",
       "    <tr>\n",
       "      <th>364525</th>\n",
       "      <td>WOOD</td>\n",
       "      <td>SPRAY | COLGATE-PALMOLIVE | MURPHY'S | MURPHY'...</td>\n",
       "    </tr>\n",
       "    <tr>\n",
       "      <th>364526</th>\n",
       "      <td>WOOD</td>\n",
       "      <td>SPRAY | COLGATE-PALMOLIVE | MURPHY'S | MURPHY'...</td>\n",
       "    </tr>\n",
       "  </tbody>\n",
       "</table>\n",
       "<p>191482 rows × 2 columns</p>\n",
       "</div>"
      ],
      "text/plain": [
       "               0                                                  1\n",
       "0       ABRASIVE  LIQUID | ALL PURPOSE | HENKEL | SOFT SCRUB | S...\n",
       "1       ABRASIVE  LIQUID | ALL PURPOSE | HENKEL | SOFT SCRUB | S...\n",
       "2       ABRASIVE  LIQUID | ALL PURPOSE | HENKEL | SOFT SCRUB | S...\n",
       "3       ABRASIVE  LIQUID | ALL PURPOSE | HENKEL | SOFT SCRUB | S...\n",
       "4       ABRASIVE  LIQUID | ALL PURPOSE | HENKEL | SOFT SCRUB | S...\n",
       "...          ...                                                ...\n",
       "364522      WOOD  SPRAY | COLGATE-PALMOLIVE | MURPHY'S | MURPHY'...\n",
       "364523      WOOD  SPRAY | COLGATE-PALMOLIVE | MURPHY'S | MURPHY'...\n",
       "364524      WOOD  SPRAY | COLGATE-PALMOLIVE | MURPHY'S | MURPHY'...\n",
       "364525      WOOD  SPRAY | COLGATE-PALMOLIVE | MURPHY'S | MURPHY'...\n",
       "364526      WOOD  SPRAY | COLGATE-PALMOLIVE | MURPHY'S | MURPHY'...\n",
       "\n",
       "[191482 rows x 2 columns]"
      ]
     },
     "execution_count": 43,
     "metadata": {},
     "output_type": "execute_result"
    }
   ],
   "source": [
    "new"
   ]
  },
  {
   "cell_type": "code",
   "execution_count": 44,
   "metadata": {},
   "outputs": [],
   "source": [
    "UPC_Monthly[\"ShareBasis\"]=new[0]"
   ]
  },
  {
   "cell_type": "code",
   "execution_count": 45,
   "metadata": {},
   "outputs": [
    {
     "data": {
      "text/plain": [
       "{'ABRASIVE', 'APC+WW', 'POUR APC+WW', 'WOOD'}"
      ]
     },
     "execution_count": 45,
     "metadata": {},
     "output_type": "execute_result"
    }
   ],
   "source": [
    "set(UPC_Monthly[\"ShareBasis\"])"
   ]
  },
  {
   "cell_type": "markdown",
   "metadata": {},
   "source": [
    "**Category column**\n",
    "\n",
    "Creating a extra column name \"Category\" from column \"ShareBasis\""
   ]
  },
  {
   "cell_type": "code",
   "execution_count": 46,
   "metadata": {},
   "outputs": [],
   "source": [
    "df1= pd.DataFrame(UPC_Monthly[\"ShareBasis\"])"
   ]
  },
  {
   "cell_type": "code",
   "execution_count": 47,
   "metadata": {
    "scrolled": true
   },
   "outputs": [
    {
     "data": {
      "text/html": [
       "<div>\n",
       "<style scoped>\n",
       "    .dataframe tbody tr th:only-of-type {\n",
       "        vertical-align: middle;\n",
       "    }\n",
       "\n",
       "    .dataframe tbody tr th {\n",
       "        vertical-align: top;\n",
       "    }\n",
       "\n",
       "    .dataframe thead th {\n",
       "        text-align: right;\n",
       "    }\n",
       "</style>\n",
       "<table border=\"1\" class=\"dataframe\">\n",
       "  <thead>\n",
       "    <tr style=\"text-align: right;\">\n",
       "      <th></th>\n",
       "      <th>ShareBasis</th>\n",
       "      <th>Category</th>\n",
       "    </tr>\n",
       "  </thead>\n",
       "  <tbody>\n",
       "    <tr>\n",
       "      <th>0</th>\n",
       "      <td>ABRASIVE</td>\n",
       "      <td>HHC</td>\n",
       "    </tr>\n",
       "    <tr>\n",
       "      <th>1</th>\n",
       "      <td>ABRASIVE</td>\n",
       "      <td>HHC</td>\n",
       "    </tr>\n",
       "    <tr>\n",
       "      <th>2</th>\n",
       "      <td>ABRASIVE</td>\n",
       "      <td>HHC</td>\n",
       "    </tr>\n",
       "  </tbody>\n",
       "</table>\n",
       "</div>"
      ],
      "text/plain": [
       "  ShareBasis Category\n",
       "0   ABRASIVE      HHC\n",
       "1   ABRASIVE      HHC\n",
       "2   ABRASIVE      HHC"
      ]
     },
     "execution_count": 47,
     "metadata": {},
     "output_type": "execute_result"
    }
   ],
   "source": [
    "def fun_category(x):\n",
    "    if x == 'TOOTHPASTE' or x == 'WHITENING SYS':\n",
    "        return \"TP\"\n",
    "    elif x=='POUR APC+WW' or x==\"WOOD\" or x== 'ABRASIVE' or x== \"APC+WW\" or x=='FLOOR WAX' or x=='OUTDOOR' or x=='DRY WIPES' or x=='SPRAY':\n",
    "        return \"HHC\"\n",
    "    elif x=='MANUAL':\n",
    "        return 'MTB'\n",
    "    elif x=='POWER' or x=='PORTABLE TB' or x == 'ELECTRIC' or x == 'BATTERY+HYBRID' or x == 'BATTERY':\n",
    "        return \"PTB\"\n",
    "    elif x=='BODYWASH':\n",
    "        return \"BW\"\n",
    "    elif x=='MOUTHWASH':\n",
    "        return 'MW'\n",
    "    elif x=='BAR':\n",
    "        return \"BAR\"\n",
    "    elif x=='LIQUID':\n",
    "        return 'LHS'\n",
    "    elif x=='FABRIC SOFTENERS' or x == 'BEAD FS' or x== 'LIQUID FS' or x == \"SHEETS\" or x==\"SCENT BOOSTERS\" :\n",
    "        return \"FS\"\n",
    "    elif x=='LDL+FOAM' or x == 'MFR Sun Products' :\n",
    "        return 'LDL'\n",
    "    else:\n",
    "        return 'N/A'\n",
    "    # Add elif statements....\n",
    "\n",
    "df1['Category']= df1['ShareBasis'].apply(fun_category)\n",
    "df1.head(3)"
   ]
  },
  {
   "cell_type": "code",
   "execution_count": 48,
   "metadata": {},
   "outputs": [],
   "source": [
    "UPC_Monthly['Category']=df1['Category']"
   ]
  },
  {
   "cell_type": "code",
   "execution_count": 49,
   "metadata": {
    "scrolled": true
   },
   "outputs": [
    {
     "data": {
      "text/html": [
       "<div>\n",
       "<style scoped>\n",
       "    .dataframe tbody tr th:only-of-type {\n",
       "        vertical-align: middle;\n",
       "    }\n",
       "\n",
       "    .dataframe tbody tr th {\n",
       "        vertical-align: top;\n",
       "    }\n",
       "\n",
       "    .dataframe thead th {\n",
       "        text-align: right;\n",
       "    }\n",
       "</style>\n",
       "<table border=\"1\" class=\"dataframe\">\n",
       "  <thead>\n",
       "    <tr style=\"text-align: right;\">\n",
       "      <th></th>\n",
       "      <th>Markets</th>\n",
       "      <th>ShareBasis</th>\n",
       "      <th>Category</th>\n",
       "      <th>Products</th>\n",
       "      <th>Facts</th>\n",
       "      <th>FY 2020</th>\n",
       "      <th>FY 2019</th>\n",
       "      <th>FY 2018</th>\n",
       "      <th>FY 2017</th>\n",
       "      <th>YTD 2021</th>\n",
       "      <th>...</th>\n",
       "      <th>5 W/E 10/03/2020</th>\n",
       "      <th>4 W/E 08/29/2020</th>\n",
       "      <th>4 W/E 08/01/2020</th>\n",
       "      <th>5 W/E 07/04/2020</th>\n",
       "      <th>4 W/E 05/30/2020</th>\n",
       "      <th>4 W/E 05/02/2020</th>\n",
       "      <th>5 W/E 04/04/2020</th>\n",
       "      <th>4 W/E 02/29/2020</th>\n",
       "      <th>4 W/E 02/01/2020</th>\n",
       "      <th>Key</th>\n",
       "    </tr>\n",
       "  </thead>\n",
       "  <tbody>\n",
       "    <tr>\n",
       "      <th>0</th>\n",
       "      <td>Total US xAOC</td>\n",
       "      <td>ABRASIVE</td>\n",
       "      <td>HHC</td>\n",
       "      <td>ABRASIVE | LIQUID | ALL PURPOSE | HENKEL | SOF...</td>\n",
       "      <td>Avg Unit Price</td>\n",
       "      <td>3.826</td>\n",
       "      <td>3.793</td>\n",
       "      <td>3.809</td>\n",
       "      <td>0.0</td>\n",
       "      <td>3.828</td>\n",
       "      <td>...</td>\n",
       "      <td>0.0</td>\n",
       "      <td>0.0</td>\n",
       "      <td>0.0</td>\n",
       "      <td>0.0</td>\n",
       "      <td>0.0</td>\n",
       "      <td>0.0</td>\n",
       "      <td>0.0</td>\n",
       "      <td>0.0</td>\n",
       "      <td>0.0</td>\n",
       "      <td>Total US xAOCABRASIVE | LIQUID | ALL PURPOSE |...</td>\n",
       "    </tr>\n",
       "    <tr>\n",
       "      <th>1</th>\n",
       "      <td>Total US xAOC</td>\n",
       "      <td>ABRASIVE</td>\n",
       "      <td>HHC</td>\n",
       "      <td>ABRASIVE | LIQUID | ALL PURPOSE | HENKEL | SOF...</td>\n",
       "      <td>Any Promo Unit Price YA</td>\n",
       "      <td>3.415</td>\n",
       "      <td>3.300</td>\n",
       "      <td>0.000</td>\n",
       "      <td>0.0</td>\n",
       "      <td>3.426</td>\n",
       "      <td>...</td>\n",
       "      <td>0.0</td>\n",
       "      <td>0.0</td>\n",
       "      <td>0.0</td>\n",
       "      <td>0.0</td>\n",
       "      <td>0.0</td>\n",
       "      <td>0.0</td>\n",
       "      <td>0.0</td>\n",
       "      <td>0.0</td>\n",
       "      <td>0.0</td>\n",
       "      <td>Total US xAOCABRASIVE | LIQUID | ALL PURPOSE |...</td>\n",
       "    </tr>\n",
       "    <tr>\n",
       "      <th>2</th>\n",
       "      <td>Total US xAOC</td>\n",
       "      <td>ABRASIVE</td>\n",
       "      <td>HHC</td>\n",
       "      <td>ABRASIVE | LIQUID | ALL PURPOSE | HENKEL | SOF...</td>\n",
       "      <td>Any Promo Unit Price % Chg YA</td>\n",
       "      <td>2.518</td>\n",
       "      <td>3.485</td>\n",
       "      <td>0.000</td>\n",
       "      <td>0.0</td>\n",
       "      <td>4.787</td>\n",
       "      <td>...</td>\n",
       "      <td>0.0</td>\n",
       "      <td>0.0</td>\n",
       "      <td>0.0</td>\n",
       "      <td>0.0</td>\n",
       "      <td>0.0</td>\n",
       "      <td>0.0</td>\n",
       "      <td>0.0</td>\n",
       "      <td>0.0</td>\n",
       "      <td>0.0</td>\n",
       "      <td>Total US xAOCABRASIVE | LIQUID | ALL PURPOSE |...</td>\n",
       "    </tr>\n",
       "  </tbody>\n",
       "</table>\n",
       "<p>3 rows × 36 columns</p>\n",
       "</div>"
      ],
      "text/plain": [
       "         Markets ShareBasis Category  \\\n",
       "0  Total US xAOC   ABRASIVE      HHC   \n",
       "1  Total US xAOC   ABRASIVE      HHC   \n",
       "2  Total US xAOC   ABRASIVE      HHC   \n",
       "\n",
       "                                            Products  \\\n",
       "0  ABRASIVE | LIQUID | ALL PURPOSE | HENKEL | SOF...   \n",
       "1  ABRASIVE | LIQUID | ALL PURPOSE | HENKEL | SOF...   \n",
       "2  ABRASIVE | LIQUID | ALL PURPOSE | HENKEL | SOF...   \n",
       "\n",
       "                           Facts  FY 2020  FY 2019  FY 2018  FY 2017  \\\n",
       "0                 Avg Unit Price    3.826    3.793    3.809      0.0   \n",
       "1        Any Promo Unit Price YA    3.415    3.300    0.000      0.0   \n",
       "2  Any Promo Unit Price % Chg YA    2.518    3.485    0.000      0.0   \n",
       "\n",
       "   YTD 2021  ...  5 W/E 10/03/2020  4 W/E 08/29/2020  4 W/E 08/01/2020  \\\n",
       "0     3.828  ...               0.0               0.0               0.0   \n",
       "1     3.426  ...               0.0               0.0               0.0   \n",
       "2     4.787  ...               0.0               0.0               0.0   \n",
       "\n",
       "   5 W/E 07/04/2020  4 W/E 05/30/2020  4 W/E 05/02/2020  5 W/E 04/04/2020  \\\n",
       "0               0.0               0.0               0.0               0.0   \n",
       "1               0.0               0.0               0.0               0.0   \n",
       "2               0.0               0.0               0.0               0.0   \n",
       "\n",
       "   4 W/E 02/29/2020  4 W/E 02/01/2020  \\\n",
       "0               0.0               0.0   \n",
       "1               0.0               0.0   \n",
       "2               0.0               0.0   \n",
       "\n",
       "                                                 Key  \n",
       "0  Total US xAOCABRASIVE | LIQUID | ALL PURPOSE |...  \n",
       "1  Total US xAOCABRASIVE | LIQUID | ALL PURPOSE |...  \n",
       "2  Total US xAOCABRASIVE | LIQUID | ALL PURPOSE |...  \n",
       "\n",
       "[3 rows x 36 columns]"
      ]
     },
     "execution_count": 49,
     "metadata": {},
     "output_type": "execute_result"
    }
   ],
   "source": [
    "#Moving column \"Category\" after column \"ShareBasis\"\n",
    "\n",
    "UPC_Monthly = movecol(UPC_Monthly, \n",
    "             cols_to_move=['ShareBasis','Category'], \n",
    "             ref_col='Markets',\n",
    "             place='After')\n",
    "UPC_Monthly.head(3)"
   ]
  },
  {
   "cell_type": "markdown",
   "metadata": {},
   "source": [
    "**Performance Market & Fact Selection**"
   ]
  },
  {
   "cell_type": "code",
   "execution_count": 50,
   "metadata": {},
   "outputs": [],
   "source": [
    "Performance_Facts=[\"$ Shr - CP CATEGORY\",\"$ Shr Chg YA - CP CATEGORY\",\"Base $ Shr - CP CATEGORY\",\n",
    "                   \"Base $ Shr Chg YA - CP CATEGORY\",\"Incr $ Shr - CP CATEGORY\",\"Incr $ Shr Chg YA - CP CATEGORY\",\n",
    "                   \"$\",\"$ % Chg YA\",\"%ACV\",\"%ACV Chg YA\",\"Avg Unit Price\",\"Avg Unit Price % Chg YA\",\"Base Unit Price\",\n",
    "                   \"Base Unit Price % Chg YA\",\"Any Promo Unit Price\",\"Any Promo Unit Price % Chg YA\",\"Any Promo EQ Price\",\n",
    "                   \n",
    "                   \"Any Promo EQ Price Chg YA\",\"Feat or Disp %ACV\",\"Feat or Disp %ACV Chg YA\",\"Price Decr Only %ACV\",\n",
    "                   \"Price Decr Only %ACV Chg YA\"]\n",
    "\n",
    "Performance_Markets=[\"Ahold\",\"Alb/Sfy\",\"BJs\",\"CVS\",\"Dollar General\",\"Family Dollar\",\"Meijer\",\"Publix\",\"Rite Aid\",\"Sams\",\"Shoprite\",\"Target\",\"US AOC\",\"US Drug\",\"US Food\",\"Walgreens\",\"Walmart\"]\n"
   ]
  },
  {
   "cell_type": "code",
   "execution_count": 51,
   "metadata": {},
   "outputs": [],
   "source": [
    "Performance_Fact_Mapping={\n",
    "    \"$ Shr - CP CATEGORY\":\"Doll_Shr\",\n",
    "    \"$ Shr Chg YA - CP CATEGORY\":\"Doll_Shr_Chg\",\n",
    "    \"Base $ Shr - CP CATEGORY\":\"Base_Doll_Shr\",\n",
    "    \"Base $ Shr Chg YA - CP CATEGORY\":\"Base_Doll_Shr_Chg\",\n",
    "    \"Incr $ Shr - CP CATEGORY\":\"Incr_Doll_Shr\",\n",
    "    \"Incr $ Shr Chg YA - CP CATEGORY\":\"Incr_Doll_Shr_Chg\",\n",
    "    \"$\":\"Dollars\",\n",
    "    \"$ % Chg YA\":\"Dollars_Chg\",\n",
    "    \"%ACV\":\"Store_Selling\",\n",
    "    \"%ACV Chg YA\":\"Store_Selling_Chg\",\n",
    "    \"Avg Unit Price\":\"RASP\",\n",
    "    \"Avg Unit Price % Chg YA\":\"RASP_Chg\",\n",
    "    \"Base Unit Price\":\"Base_RASP\",\n",
    "    \"Base Unit Price % Chg YA\":\"Base_Rasp_Chg\",\n",
    "    \"Any Promo Unit Price\":\"RASP_Any_Promo\",\n",
    "    \"Any Promo Unit Price % Chg YA\":\"RASP_Any_Promo_Chg\",\n",
    "    \"Any Promo EQ Price\":\"Prcnt_EQUnits_Any_Promo\",\n",
    "    \"Any Promo EQ Price Chg YA\":\"Prcnt_EQUnits_Any_Promo_Chg\",\n",
    "    \"Feat or Disp %ACV\":\"QS_ACV_cum\",\n",
    "    \"Feat or Disp %ACV Chg YA\":\"QS_ACV_Chg_cum\",\n",
    "    \"Price Decr Only %ACV\":\"Prcnt_ACV_TPR_cum\",\n",
    "    \"Price Decr Only %ACV Chg YA\":\"Prcnt_ACV_TPR_Chg_cum\"\n",
    "\n",
    "}"
   ]
  },
  {
   "cell_type": "code",
   "execution_count": 52,
   "metadata": {},
   "outputs": [],
   "source": [
    "Market_Mapping={\n",
    "    \n",
    "     'ALBSCO Total Company TA':'Alb/Sfy',\n",
    "     'REGIONAL GROCERY xLA':'Agency Grocery',\n",
    "     'Ahold USA Corp Total TA':\"Ahold\",\n",
    "     'BJs Total TA':\"BJs\",\n",
    "     'CLUB':\"CLUB\",\n",
    "     'CVS Total Corp WO HI TA':\"CVS\",\n",
    "     'Dol Gen Total TA':\"Dollar General\",\n",
    "     'El Super Total TA':'El Super',\n",
    "     'FDM':\"FDM\",\n",
    "     'Family Dollar Total TA':\"Family Dollar\",\n",
    "     'Fiesta Total TA':\"Fiesta\",\n",
    "     'Giant Eagle Total TA':\"Giant Eagle\",\n",
    "     'Kmart Total TA':\"Kmart\",\n",
    "     'Meijer Total TA':\"Meijer\",\n",
    "     'Publix Total TA':\"Publix\",\n",
    "     'Rite Aid - Corp Total TA':\"Rite Aid\",\n",
    "     \"Sam's Total TA\":\"Sams\",\n",
    "     'ShopRite Total TA':\"Shoprite\",\n",
    "     'Strategic Grocery':\"Strategic Grocery\",\n",
    "     'TOTAL MASS':\"TOTAL MASS\",\n",
    "     'Target Total BM/FF TA':\"Target\",\n",
    "     'Total US Drug':\"US Drug\",\n",
    "     'Total US Food':\"US Food\",\n",
    "     'Total US xAOC':\"US AOC\",\n",
    "     'VDC':\"VDC\",\n",
    "     'Walgreens Total TA':\"Walgreens\",\n",
    "     'Walmart Total US TA':\"Walmart\",\n",
    "     'Wegmans Total TA':\"Wegmans\"\n",
    "    }\n"
   ]
  },
  {
   "cell_type": "code",
   "execution_count": 53,
   "metadata": {},
   "outputs": [],
   "source": [
    "UPC_Monthly[\"Markets\"].replace(Market_Mapping,inplace=True)"
   ]
  },
  {
   "cell_type": "code",
   "execution_count": 54,
   "metadata": {},
   "outputs": [],
   "source": [
    "# set(UPC_Monthly[UPC_Monthly[\"Category\"]==\"BAR\"][\"Facts\"])-set(UPC_Monthly[UPC_Monthly[\"Category\"]==\"TP\"][\"Facts\"])"
   ]
  },
  {
   "cell_type": "code",
   "execution_count": null,
   "metadata": {},
   "outputs": [],
   "source": []
  },
  {
   "cell_type": "markdown",
   "metadata": {},
   "source": [
    "## Toothpaste"
   ]
  },
  {
   "cell_type": "code",
   "execution_count": null,
   "metadata": {},
   "outputs": [],
   "source": [
    "# path to store Output files\n",
    "path_TP=\"//falmumapp34/Nielsen Connect Transition & Maintenance (20-SCP-3650)/05. Output Data/5P Output/TP/\""
   ]
  },
  {
   "cell_type": "code",
   "execution_count": null,
   "metadata": {
    "scrolled": true
   },
   "outputs": [],
   "source": [
    "UPC_Monthly_TP= UPC_Monthly[UPC_Monthly[\"ShareBasis\"]==\"TOOTHPASTE\"]\n",
    "UPC_Monthly_TP.head()"
   ]
  },
  {
   "cell_type": "markdown",
   "metadata": {},
   "source": [
    "**Splitting \"Products\" column**\n",
    "\n",
    "Creating 5 new columns **\"ShareBasis\",\"Manufacturer\",\"Franchise\",\"Brand\",\"SubBrand\"** from **\"Products\"** column by splitting "
   ]
  },
  {
   "cell_type": "code",
   "execution_count": null,
   "metadata": {
    "scrolled": true
   },
   "outputs": [],
   "source": [
    "UPC_Monthly_TP[['ShareBasis','Manufacturer','Franchise','Brand','SubBrand',\"Segment\",\"PriceTier\",\"Form\",\"Multi\",\"Plan Size\",\"Item\",\"UPC\"]] = UPC_Monthly_TP['Products'].str.split('|',n=11,expand=True)\n",
    "\n",
    "\n",
    "UPC_Monthly_TP[[\"ShareBasis\",\"Manufacturer\",\"Franchise\",\"Brand\",\"SubBrand\",\"Segment\",\"PriceTier\",\"Form\",\"Multi\",\"Plan Size\",\"Item\",\"UPC\"]]=UPC_Monthly_TP[[\"ShareBasis\",\"Manufacturer\",\"Franchise\",\"Brand\",\"SubBrand\",\"Segment\",\"PriceTier\",\"Form\",\"Multi\",\"Plan Size\",\"Item\",\"UPC\"]].fillna(value=\"\")\n",
    "UPC_Monthly_TP.head(3)\n",
    "\n",
    "# Moving columns after \"Market\"\n",
    "UPC_Monthly_TP = movecol(UPC_Monthly_TP, \n",
    "             cols_to_move=['ShareBasis','Category','Manufacturer','Franchise','Brand','SubBrand',\"Segment\",\"PriceTier\",\"Form\",\"Multi\",\"Plan Size\",\"Item\",\"UPC\"], \n",
    "             ref_col='Markets',\n",
    "             place='After')\n",
    "UPC_Monthly_TP.head(3)"
   ]
  },
  {
   "cell_type": "code",
   "execution_count": null,
   "metadata": {
    "scrolled": true
   },
   "outputs": [],
   "source": [
    "UPC_Monthly_TP.shape"
   ]
  },
  {
   "cell_type": "markdown",
   "metadata": {},
   "source": [
    "**Strip Columns**\n",
    "\n",
    "Strip starting 8 columns "
   ]
  },
  {
   "cell_type": "code",
   "execution_count": null,
   "metadata": {},
   "outputs": [],
   "source": [
    "cols=list(UPC_Monthly_TP.columns[0:16])\n",
    "UPC_Monthly_TP[cols]=UPC_Monthly_TP[cols].apply(lambda x : x.str.strip())"
   ]
  },
  {
   "cell_type": "markdown",
   "metadata": {},
   "source": [
    " "
   ]
  },
  {
   "cell_type": "markdown",
   "metadata": {},
   "source": [
    "## Performance"
   ]
  },
  {
   "cell_type": "markdown",
   "metadata": {},
   "source": [
    "**Market Mapping**"
   ]
  },
  {
   "cell_type": "code",
   "execution_count": null,
   "metadata": {},
   "outputs": [],
   "source": [
    "UPC_Perf_TP= UPC_Monthly_TP.copy()\n",
    "UPC_Perf_TP= UPC_Perf_TP[UPC_Perf_TP[\"Category\"]==\"TP\"]"
   ]
  },
  {
   "cell_type": "markdown",
   "metadata": {},
   "source": [
    "Filter Facts and Markets"
   ]
  },
  {
   "cell_type": "code",
   "execution_count": null,
   "metadata": {},
   "outputs": [],
   "source": [
    "Performance_Markets=[\"Alb/Sfy\",\"Ahold\",\"BJs\",\"CVS\",\"Dollar General\",\"Family Dollar\",\"Meijer\",\"Publix\",\n",
    "              \"Rite Aid\",\"Sams\",\"Shoprite\",\"Target\",\"US AOC\",\"US Drug\",\"US Food\",\"Walgreens\",\"Walmart\"]"
   ]
  },
  {
   "cell_type": "code",
   "execution_count": null,
   "metadata": {},
   "outputs": [],
   "source": [
    "UPC_Perf_TP= UPC_Perf_TP[UPC_Perf_TP[\"Facts\"].isin(Performance_Facts)]\n",
    "UPC_Perf_TP= UPC_Perf_TP[UPC_Perf_TP[\"Markets\"].isin(Performance_Markets)]"
   ]
  },
  {
   "cell_type": "code",
   "execution_count": null,
   "metadata": {},
   "outputs": [],
   "source": [
    "print(len(Performance_Markets),len(set(UPC_Perf_TP[\"Markets\"])))"
   ]
  },
  {
   "cell_type": "code",
   "execution_count": null,
   "metadata": {},
   "outputs": [],
   "source": [
    "UPC_Perf_TP.shape"
   ]
  },
  {
   "cell_type": "markdown",
   "metadata": {},
   "source": [
    "**Fact Mapping**"
   ]
  },
  {
   "cell_type": "code",
   "execution_count": null,
   "metadata": {},
   "outputs": [],
   "source": [
    "UPC_Perf_TP[\"Facts\"].replace(Performance_Fact_Mapping,inplace=True)"
   ]
  },
  {
   "cell_type": "code",
   "execution_count": null,
   "metadata": {},
   "outputs": [],
   "source": [
    "UPC_Perf_TP.shape"
   ]
  },
  {
   "cell_type": "markdown",
   "metadata": {},
   "source": [
    "**Column name Change**"
   ]
  },
  {
   "cell_type": "code",
   "execution_count": null,
   "metadata": {},
   "outputs": [],
   "source": [
    "UPC_Perf_TP.rename(columns={\"Markets\":\"MKT\",\"Category\":\"CP_CATEGORY\",\"Item\":\"PROD\",\"Manufacturer\":\"CP_MANUFACTURER\",\n",
    "                                \"Franchise\":\"CP_FRANCHISE\",\"Brand\":\"CP_BRAND\",\"SubBrand\":\"CP_SUBBRAND\",\n",
    "                           \"UPC\":\"PRODUCT_CODE\",\"Segment\":\"CP_SEGMENT\",\"PriceTier\":\"CP_PRICE_TIER\",\"Form\":\"CP_FORM\",\n",
    "                            \"Multi\":\"CP_MULTI\",\"Plan Size\":\"CP_SIZE\"},inplace=True)"
   ]
  },
  {
   "cell_type": "code",
   "execution_count": null,
   "metadata": {
    "scrolled": true
   },
   "outputs": [],
   "source": [
    "UPC_Perf_TP.head()"
   ]
  },
  {
   "cell_type": "code",
   "execution_count": null,
   "metadata": {},
   "outputs": [],
   "source": [
    "Time_Period=list(UPC_Perf_TP.columns[27:28])+list(UPC_Perf_TP.columns[22:24])+list(UPC_Perf_TP.columns[20:21])+list(UPC_Perf_TP.columns[16:17])\n",
    "print(Time_Period)"
   ]
  },
  {
   "cell_type": "code",
   "execution_count": null,
   "metadata": {},
   "outputs": [],
   "source": [
    "UPC_Perf_TP.shape"
   ]
  },
  {
   "cell_type": "markdown",
   "metadata": {},
   "source": [
    "**Moving Time Period to Rows and Facts to Columns**"
   ]
  },
  {
   "cell_type": "code",
   "execution_count": null,
   "metadata": {},
   "outputs": [],
   "source": [
    "df1=pd.melt(UPC_Perf_TP, id_vars =[\"MKT\",\"PROD\",\"PRODUCT_CODE\",\"CP_CATEGORY\",\"CP_SEGMENT\",\"CP_MANUFACTURER\",\"CP_FRANCHISE\",\"CP_BRAND\",\"CP_SUBBRAND\",\"CP_PRICE_TIER\",\"CP_FORM\",\"CP_MULTI\",\"CP_SIZE\",\"Facts\"], value_vars =Time_Period,var_name=\"Time_Period\")\n",
    "\n",
    "df1[\"value\"]=df1[\"value\"].apply(pd.to_numeric)"
   ]
  },
  {
   "cell_type": "code",
   "execution_count": null,
   "metadata": {
    "scrolled": true
   },
   "outputs": [],
   "source": [
    "df1.columns"
   ]
  },
  {
   "cell_type": "code",
   "execution_count": null,
   "metadata": {},
   "outputs": [],
   "source": [
    "df2=df1.pivot_table(index=[\"MKT\",\"PROD\",\"PRODUCT_CODE\",\"CP_CATEGORY\",\"CP_SEGMENT\",\"CP_MANUFACTURER\",\"CP_FRANCHISE\",\"CP_BRAND\",\"CP_SUBBRAND\",\"CP_PRICE_TIER\",\"CP_FORM\",\"CP_MULTI\",\"CP_SIZE\",'Time_Period'],columns='Facts')\n",
    "\n",
    "df2.columns=df2.columns.droplevel().rename(None)\n",
    "df2.reset_index(inplace =True)"
   ]
  },
  {
   "cell_type": "code",
   "execution_count": null,
   "metadata": {},
   "outputs": [],
   "source": [
    "df2.shape"
   ]
  },
  {
   "cell_type": "code",
   "execution_count": null,
   "metadata": {},
   "outputs": [],
   "source": [
    "from pandas.api.types import CategoricalDtype\n",
    "\n",
    "Time_Period_order = CategoricalDtype(\n",
    "    Time_Period, \n",
    "    ordered=True\n",
    ")\n",
    "\n",
    "df2['Time_Period'] = df2['Time_Period'].astype(Time_Period_order)\n",
    "\n",
    "df2.sort_values(['MKT','PROD','Time_Period'],inplace=True)"
   ]
  },
  {
   "cell_type": "code",
   "execution_count": null,
   "metadata": {
    "scrolled": false
   },
   "outputs": [],
   "source": [
    "df2.head()"
   ]
  },
  {
   "cell_type": "code",
   "execution_count": null,
   "metadata": {},
   "outputs": [],
   "source": [
    "## steps till we dont have all facts\n",
    "# df2[['Base_Rasp_Chg', 'Base_RASP', 'RASP_Chg', 'RASP', 'RASP_Any_Promo_Chg', 'Prcnt_ACV_TPR_cum', 'Prcnt_ACV_TPR_Chg_cum', 'RASP_Any_Promo']]=\"\""
   ]
  },
  {
   "cell_type": "code",
   "execution_count": null,
   "metadata": {},
   "outputs": [],
   "source": [
    "final_column_sorting=[\"MKT\",\"PROD\",\"PRODUCT_CODE\",\"CP_CATEGORY\",\"CP_SEGMENT\",\"CP_MANUFACTURER\",\"CP_FRANCHISE\",\"CP_BRAND\",\n",
    "                      \"CP_SUBBRAND\",\"CP_PRICE_TIER\",\"CP_FORM\",\"CP_MULTI\",\"CP_SIZE\",'Time_Period',\n",
    "                      \"Doll_Shr\",\"Doll_Shr_Chg\",\"Base_Doll_Shr\",\"Base_Doll_Shr_Chg\",\"Incr_Doll_Shr\",\"Incr_Doll_Shr_Chg\",\n",
    "                      \"Dollars\",\"Dollars_Chg\",\"Store_Selling\",\"Store_Selling_Chg\",\"RASP\",\"RASP_Chg\",\"Base_RASP\",\n",
    "                      \"Base_Rasp_Chg\",\"RASP_Any_Promo\",\"RASP_Any_Promo_Chg\",\"Prcnt_EQUnits_Any_Promo\",\n",
    "                      \"Prcnt_EQUnits_Any_Promo_Chg\",\"QS_ACV_cum\",\"QS_ACV_Chg_cum\",\"Prcnt_ACV_TPR_cum\",\n",
    "                      \"Prcnt_ACV_TPR_Chg_cum\"\n",
    "                      ]\n",
    "UPC_Perf_TP_final=df2[final_column_sorting]\n",
    "\n",
    "## Adding \"Record_Id\" column\n",
    "UPC_Perf_TP_final[\"Record_ID\"]= range(1,len(UPC_Perf_TP_final)+1)"
   ]
  },
  {
   "cell_type": "code",
   "execution_count": null,
   "metadata": {},
   "outputs": [],
   "source": [
    "UPC_Perf_TP_final.head(2)"
   ]
  },
  {
   "cell_type": "code",
   "execution_count": null,
   "metadata": {},
   "outputs": [],
   "source": [
    "UPC_Perf_TP_final.to_csv(path_TP+\"MSR_SKU_Summary.csv\",index=False)"
   ]
  },
  {
   "cell_type": "markdown",
   "metadata": {},
   "source": [
    "## MW"
   ]
  },
  {
   "cell_type": "code",
   "execution_count": null,
   "metadata": {},
   "outputs": [],
   "source": [
    "# path to store OuBARut files\n",
    "path_MW=\"//falmumapp34/Nielsen Connect Transition & Maintenance (20-SCP-3650)/05. Output Data/5P Output/MW/\""
   ]
  },
  {
   "cell_type": "code",
   "execution_count": null,
   "metadata": {},
   "outputs": [],
   "source": [
    "UPC_Monthly_MW= UPC_Monthly[UPC_Monthly[\"ShareBasis\"]==\"MOUTHWASH\"]\n",
    "UPC_Monthly_MW.head(2)"
   ]
  },
  {
   "cell_type": "markdown",
   "metadata": {},
   "source": [
    "**Splitting \"Products\" column**\n",
    "\n",
    "Creating new columns **\"ShareBasis\",\"Manufacturer\",\"Franchise\",\"Brand\",\"SubBrand\"** from **\"Products\"** column by splitting "
   ]
  },
  {
   "cell_type": "code",
   "execution_count": null,
   "metadata": {
    "scrolled": false
   },
   "outputs": [],
   "source": [
    "New_Column= [\"ShareBasis\",\"Manufacturer\",\"Franchise\",\"Brand\",\"SubBrand\",\"SubBrand Variant\",\"Segment\",\"SizeRange\",\"PriceTier\",\"Multi\",\"PackType\",\"Item\",\"UPC\"]\n",
    "\n",
    "UPC_Monthly_MW[New_Column ] = UPC_Monthly_MW['Products'].str.split('|',n=12,expand=True)\n",
    "\n",
    "##Replacing all the None values** in columns **\"ShareBasis\",\"Manufacturer\",\"Franchise\",\"Brand\",\"SubBrand\"**\n",
    "\n",
    "UPC_Monthly_MW[New_Column]=UPC_Monthly_MW[New_Column].fillna(value=\"\")\n",
    "UPC_Monthly_MW.head(3)\n",
    "\n",
    "UPC_Monthly_MW = movecol(UPC_Monthly_MW, \n",
    "             cols_to_move=New_Column, \n",
    "             ref_col='Markets',\n",
    "             place='After')\n",
    "UPC_Monthly_MW.head(2)"
   ]
  },
  {
   "cell_type": "markdown",
   "metadata": {},
   "source": [
    "**Strip Columns**\n"
   ]
  },
  {
   "cell_type": "code",
   "execution_count": null,
   "metadata": {},
   "outputs": [],
   "source": [
    "cols=list(UPC_Monthly_MW.columns[0:15])\n",
    "\n",
    "UPC_Monthly_MW[cols]=UPC_Monthly_MW[cols].apply(lambda x : x.str.strip())\n"
   ]
  },
  {
   "cell_type": "markdown",
   "metadata": {},
   "source": [
    "**Market Mapping**"
   ]
  },
  {
   "cell_type": "code",
   "execution_count": null,
   "metadata": {},
   "outputs": [],
   "source": [
    "# UPC_Monthly_MW[\"Markets\"].replace(Performance_Market_Mapping,inplace=True)"
   ]
  },
  {
   "cell_type": "markdown",
   "metadata": {},
   "source": [
    "## Performance"
   ]
  },
  {
   "cell_type": "code",
   "execution_count": null,
   "metadata": {},
   "outputs": [],
   "source": [
    "UPC_Perf_MW= UPC_Monthly_MW.copy()"
   ]
  },
  {
   "cell_type": "code",
   "execution_count": null,
   "metadata": {},
   "outputs": [],
   "source": [
    "Performance_Markets=[\"Ahold\",\"Alb/Sfy\",\"BJs\",\"CVS\",\"Dollar General\",\"Family Dollar\",\"Kmart\",\"Meijer\",\"Publix\",\n",
    "              \"Rite Aid\",\"Sams\",\"Shoprite\",\"Target\",\"US AOC\",\"US Drug\",\"US Food\",\"Walgreens\",\"Walmart\"]"
   ]
  },
  {
   "cell_type": "code",
   "execution_count": null,
   "metadata": {},
   "outputs": [],
   "source": [
    "UPC_Perf_MW= UPC_Perf_MW[UPC_Perf_MW[\"Facts\"].isin(Performance_Facts)]\n",
    "UPC_Perf_MW= UPC_Perf_MW[UPC_Perf_MW[\"Markets\"].isin(Performance_Markets)]\n",
    "print(UPC_Perf_MW.shape)"
   ]
  },
  {
   "cell_type": "markdown",
   "metadata": {},
   "source": [
    "**Fact Mapping**"
   ]
  },
  {
   "cell_type": "code",
   "execution_count": null,
   "metadata": {},
   "outputs": [],
   "source": [
    "UPC_Perf_MW[\"Facts\"].replace(Performance_Fact_Mapping,inplace=True)\n",
    "UPC_Perf_MW.shape"
   ]
  },
  {
   "cell_type": "code",
   "execution_count": null,
   "metadata": {},
   "outputs": [],
   "source": [
    "set(UPC_Perf_MW[\"Facts\"])"
   ]
  },
  {
   "cell_type": "markdown",
   "metadata": {},
   "source": [
    "**Renaming Column**"
   ]
  },
  {
   "cell_type": "code",
   "execution_count": null,
   "metadata": {},
   "outputs": [],
   "source": [
    "UPC_Perf_MW.columns"
   ]
  },
  {
   "cell_type": "code",
   "execution_count": null,
   "metadata": {},
   "outputs": [],
   "source": [
    "UPC_Perf_MW.rename(columns={'Markets':'MKT', 'ShareBasis':\"CP_CATEGORY\", 'Manufacturer':\"CP_MANUFACTURER\",\n",
    "                            'Franchise':\"CP_FRANCHISE\", 'Brand':\"CP_BRAND\",\n",
    "                            'SubBrand':\"CP_SUBBRAND\", 'SubBrand Variant':\"CP_SUBBRAND_VARIANT\", 'Segment':\"CP_SEGMENT\",\n",
    "                            'SizeRange':'CP_SIZE_RANGE', 'PriceTier':'CP_PRICE_TIER', 'Multi':'CP_MULTI',\n",
    "                            'PackType':'CP_DEAL','UPC':'PRODUCT_CODE','Item':'PROD'},inplace=True)"
   ]
  },
  {
   "cell_type": "code",
   "execution_count": null,
   "metadata": {},
   "outputs": [],
   "source": [
    "UPC_Perf_MW.info()"
   ]
  },
  {
   "cell_type": "markdown",
   "metadata": {},
   "source": [
    "**Time Period Selection**"
   ]
  },
  {
   "cell_type": "code",
   "execution_count": null,
   "metadata": {
    "scrolled": true
   },
   "outputs": [],
   "source": [
    "Time_Period=list(UPC_Perf_MW.columns[28:29])+list(UPC_Perf_MW.columns[23:25])+list(UPC_Perf_MW.columns[21:22])+list(UPC_Perf_MW.columns[17:18])\n",
    "print(Time_Period)"
   ]
  },
  {
   "cell_type": "markdown",
   "metadata": {},
   "source": [
    "**Moving Time Period to Rows and Facts to Columns**"
   ]
  },
  {
   "cell_type": "code",
   "execution_count": null,
   "metadata": {},
   "outputs": [],
   "source": [
    "df1=pd.melt(UPC_Perf_MW, id_vars =[\"MKT\",\"PROD\",\"PRODUCT_CODE\",\"CP_CATEGORY\",\"CP_SEGMENT\",\"CP_MANUFACTURER\",\"CP_FRANCHISE\",\"CP_BRAND\",\"CP_SUBBRAND\",\"CP_SUBBRAND_VARIANT\",\"CP_SIZE_RANGE\",\"CP_PRICE_TIER\",\"CP_MULTI\",\"CP_DEAL\",\"Facts\"], value_vars =Time_Period,var_name=\"Time_Period\")\n",
    "\n",
    "df1[\"value\"]=df1[\"value\"].apply(pd.to_numeric)\n",
    "\n",
    "df2=df1.pivot_table(index=[\"MKT\",\"PROD\",\"PRODUCT_CODE\",\"CP_CATEGORY\",\"CP_SEGMENT\",\"CP_MANUFACTURER\",\"CP_FRANCHISE\",\"CP_BRAND\",\"CP_SUBBRAND\",\"CP_SUBBRAND_VARIANT\",\"CP_SIZE_RANGE\",\"CP_PRICE_TIER\",\"CP_MULTI\",\"CP_DEAL\",'Time_Period'],columns='Facts')\n",
    "\n",
    "df2.columns=df2.columns.droplevel().rename(None)\n",
    "df2.reset_index(inplace =True)"
   ]
  },
  {
   "cell_type": "markdown",
   "metadata": {},
   "source": [
    "**Sorting Columns**"
   ]
  },
  {
   "cell_type": "code",
   "execution_count": null,
   "metadata": {},
   "outputs": [],
   "source": [
    "from pandas.api.types import CategoricalDtype\n",
    "\n",
    "Time_Period_order = CategoricalDtype(\n",
    "    Time_Period, \n",
    "    ordered=True\n",
    ")\n",
    "\n",
    "df2['Time_Period'] = df2['Time_Period'].astype(Time_Period_order)\n",
    "\n",
    "df2.sort_values(['MKT','PROD','Time_Period'],inplace=True)"
   ]
  },
  {
   "cell_type": "code",
   "execution_count": null,
   "metadata": {},
   "outputs": [],
   "source": [
    "df2.head()"
   ]
  },
  {
   "cell_type": "code",
   "execution_count": null,
   "metadata": {},
   "outputs": [],
   "source": [
    "final_column_sorting=[\"MKT\",\"PROD\",\"PRODUCT_CODE\",\"CP_CATEGORY\",\"CP_SEGMENT\",\"CP_MANUFACTURER\",\"CP_FRANCHISE\",\"CP_BRAND\",\n",
    "                      \"CP_SUBBRAND\",\"CP_SUBBRAND_VARIANT\",\"CP_SIZE_RANGE\",\"CP_PRICE_TIER\",\"CP_MULTI\",\"Time_Period\",\n",
    "                      \"Doll_Shr\",\"Doll_Shr_Chg\",\"Base_Doll_Shr\",\"Base_Doll_Shr_Chg\",\"Incr_Doll_Shr\",\"Incr_Doll_Shr_Chg\",\n",
    "                      \"Dollars\",\"Dollars_Chg\",\"Store_Selling\",\"Store_Selling_Chg\",\"RASP\",\"RASP_Chg\",\"Base_RASP\",\n",
    "                      \"Base_Rasp_Chg\",\"RASP_Any_Promo\",\"RASP_Any_Promo_Chg\",\"Prcnt_EQUnits_Any_Promo\",\"Prcnt_EQUnits_Any_Promo_Chg\",\n",
    "                      \"QS_ACV_cum\",\"QS_ACV_Chg_cum\",\"Prcnt_ACV_TPR_cum\",\"Prcnt_ACV_TPR_Chg_cum\",\"CP_DEAL\"\n",
    "                      ]\n",
    "UPC_Perf_MW_final=df2[final_column_sorting]\n",
    "\n",
    "\n",
    "## Adding \"Record_Id\" column\n",
    "UPC_Perf_MW_final[\"Record_ID\"]= range(1,len(UPC_Perf_MW_final)+1)"
   ]
  },
  {
   "cell_type": "code",
   "execution_count": null,
   "metadata": {
    "scrolled": false
   },
   "outputs": [],
   "source": [
    "UPC_Perf_MW_final.head(2)"
   ]
  },
  {
   "cell_type": "code",
   "execution_count": null,
   "metadata": {},
   "outputs": [],
   "source": [
    "UPC_Perf_MW_final.to_csv(path_MW+\"MSR_SKU_Summary.csv\",index=False)"
   ]
  },
  {
   "cell_type": "code",
   "execution_count": null,
   "metadata": {},
   "outputs": [],
   "source": []
  },
  {
   "cell_type": "code",
   "execution_count": null,
   "metadata": {},
   "outputs": [],
   "source": []
  },
  {
   "cell_type": "markdown",
   "metadata": {},
   "source": [
    "## MTB"
   ]
  },
  {
   "cell_type": "code",
   "execution_count": null,
   "metadata": {},
   "outputs": [],
   "source": [
    "# path to store OuMTBut files\n",
    "path_MTB=\"//falmumapp34/Nielsen Connect Transition & Maintenance (20-SCP-3650)/05. Output Data/5P Output/MTB/\""
   ]
  },
  {
   "cell_type": "code",
   "execution_count": null,
   "metadata": {},
   "outputs": [],
   "source": [
    "UPC_Monthly_MTB= UPC_Monthly[UPC_Monthly[\"ShareBasis\"]==\"MANUAL\"]"
   ]
  },
  {
   "cell_type": "code",
   "execution_count": null,
   "metadata": {},
   "outputs": [],
   "source": [
    "UPC_Monthly_MTB.shape"
   ]
  },
  {
   "cell_type": "markdown",
   "metadata": {},
   "source": [
    "**Splitting \"Products\" column**\n",
    "\n",
    "Creating 5 new columns **\"ShareBasis\",\"Manufacturer\",\"Franchise\",\"Brand\",\"SubBrand\"** from **\"Products\"** column by splitting "
   ]
  },
  {
   "cell_type": "code",
   "execution_count": null,
   "metadata": {
    "scrolled": true
   },
   "outputs": [],
   "source": [
    "UPC_Monthly_MTB[['ShareBasis',\"Manufacturer\",\"Franchise\",\"Brand\",\"SubBrand\",\"SubBrand_Variant\",\"Size\",\"Adult_Kids\",\"Item\",\"UPC\"]] = UPC_Monthly_MTB['Products'].str.split('|',n=9,expand=True)\n",
    "\n",
    "UPC_Monthly_MTB[['ShareBasis',\"Manufacturer\",\"Franchise\",\"Brand\",\"SubBrand\",\"SubBrand_Variant\",\"Size\",\"Adult_Kids\",\"Item\",\"UPC\"]]=UPC_Monthly_MTB[['ShareBasis',\"Manufacturer\",\"Franchise\",\"Brand\",\"SubBrand\",\"SubBrand_Variant\",\"Size\",\"Adult_Kids\",\"Item\",\"UPC\"]].fillna(value=\"\")\n",
    "\n",
    "UPC_Monthly_MTB = movecol(UPC_Monthly_MTB, \n",
    "             cols_to_move=['ShareBasis',\"Manufacturer\",\"Franchise\",\"Brand\",\"SubBrand\",\"SubBrand_Variant\",\"Size\",\"Adult_Kids\",\"Item\",\"UPC\"], \n",
    "             ref_col='Markets',\n",
    "             place='After')\n",
    "UPC_Monthly_MTB.head(3)"
   ]
  },
  {
   "cell_type": "code",
   "execution_count": null,
   "metadata": {
    "scrolled": true
   },
   "outputs": [],
   "source": [
    "UPC_Monthly_MTB.shape"
   ]
  },
  {
   "cell_type": "markdown",
   "metadata": {},
   "source": [
    "**Strip Columns**\n",
    "\n",
    "Strip starting 8 columns "
   ]
  },
  {
   "cell_type": "code",
   "execution_count": null,
   "metadata": {},
   "outputs": [],
   "source": [
    "cols=list(UPC_Monthly_MTB.columns[0:13])"
   ]
  },
  {
   "cell_type": "code",
   "execution_count": null,
   "metadata": {},
   "outputs": [],
   "source": [
    "UPC_Monthly_MTB[cols]=UPC_Monthly_MTB[cols].apply(lambda x : x.str.strip())"
   ]
  },
  {
   "cell_type": "code",
   "execution_count": null,
   "metadata": {},
   "outputs": [],
   "source": [
    "UPC_Monthly_MTB__strip_copy=UPC_Monthly_MTB.copy()"
   ]
  },
  {
   "cell_type": "markdown",
   "metadata": {},
   "source": [
    " "
   ]
  },
  {
   "cell_type": "markdown",
   "metadata": {},
   "source": [
    "## Performance"
   ]
  },
  {
   "cell_type": "code",
   "execution_count": null,
   "metadata": {},
   "outputs": [],
   "source": [
    "UPC_Perf_MTB= UPC_Monthly_MTB.copy()"
   ]
  },
  {
   "cell_type": "markdown",
   "metadata": {},
   "source": [
    "**Market Mapping**"
   ]
  },
  {
   "cell_type": "code",
   "execution_count": null,
   "metadata": {},
   "outputs": [],
   "source": [
    "Performance_Markets=[\"Ahold\",\"Alb/Sfy\",\"BJs\",\"CVS\",\"Dollar General\",\"Family Dollar\",\"Meijer\",\"Publix\",\"Rite Aid\",\"Sams\",\n",
    "              \"Shoprite\",\"Target\",\"US AOC\",\"US Drug\",\"US Food\",\"Walgreens\",\"Walmart\"]"
   ]
  },
  {
   "cell_type": "code",
   "execution_count": null,
   "metadata": {},
   "outputs": [],
   "source": [
    "UPC_Perf_MTB= UPC_Perf_MTB[UPC_Perf_MTB[\"Facts\"].isin(Performance_Facts)]\n",
    "UPC_Perf_MTB= UPC_Perf_MTB[UPC_Perf_MTB[\"Markets\"].isin(Performance_Markets)]"
   ]
  },
  {
   "cell_type": "code",
   "execution_count": null,
   "metadata": {},
   "outputs": [],
   "source": [
    "print(len(Performance_Markets),len(set(UPC_Perf_MTB[\"Markets\"])))"
   ]
  },
  {
   "cell_type": "code",
   "execution_count": null,
   "metadata": {},
   "outputs": [],
   "source": [
    "UPC_Perf_MTB.shape"
   ]
  },
  {
   "cell_type": "markdown",
   "metadata": {},
   "source": [
    "**Fact Mapping**"
   ]
  },
  {
   "cell_type": "code",
   "execution_count": null,
   "metadata": {},
   "outputs": [],
   "source": [
    "UPC_Perf_MTB[\"Facts\"].replace(Performance_Fact_Mapping,inplace=True)"
   ]
  },
  {
   "cell_type": "code",
   "execution_count": null,
   "metadata": {
    "scrolled": false
   },
   "outputs": [],
   "source": [
    "UPC_Perf_MTB.head(2)"
   ]
  },
  {
   "cell_type": "code",
   "execution_count": null,
   "metadata": {},
   "outputs": [],
   "source": [
    "UPC_Perf_MTB.shape"
   ]
  },
  {
   "cell_type": "markdown",
   "metadata": {},
   "source": [
    "**Column name Change**"
   ]
  },
  {
   "cell_type": "code",
   "execution_count": null,
   "metadata": {},
   "outputs": [],
   "source": [
    "UPC_Perf_MTB.columns"
   ]
  },
  {
   "cell_type": "code",
   "execution_count": null,
   "metadata": {},
   "outputs": [],
   "source": [
    "UPC_Perf_MTB.rename(columns={'Markets':'MKT','ShareBasis':\"CP_CATEGORY\", 'Manufacturer':'CP_MANUFACTURER', 'Franchise':'CP_FRANCHISE', 'Brand':'CP_BRAND',\n",
    "                             'SubBrand':'CP_SUBBRAND', 'SubBrand_Variant':'CP_SUBBRAND_VARIANT', 'Size':'TOTAL_SIZE', \n",
    "                             'Adult_Kids':'Dummy2','UPC':'PRODUCT_CODE','Item':'PROD'},inplace=True)"
   ]
  },
  {
   "cell_type": "code",
   "execution_count": null,
   "metadata": {},
   "outputs": [],
   "source": [
    "UPC_Perf_MTB[[\"Dummy1\",\"Dummy3\"]]=\"Dummy\""
   ]
  },
  {
   "cell_type": "code",
   "execution_count": null,
   "metadata": {
    "scrolled": false
   },
   "outputs": [],
   "source": [
    "UPC_Perf_MTB.head(2)"
   ]
  },
  {
   "cell_type": "code",
   "execution_count": null,
   "metadata": {},
   "outputs": [],
   "source": [
    "UPC_Perf_MTB.info()"
   ]
  },
  {
   "cell_type": "code",
   "execution_count": null,
   "metadata": {
    "scrolled": true
   },
   "outputs": [],
   "source": [
    "# Time_Period=list(UPC_Perf_MTB.columns[29:30])+list(UPC_Perf_MTB.columns[19:21])+list(UPC_Perf_MTB.columns[17:18])+list(UPC_Perf_MTB.columns[13:14])\n",
    "Time_Period=list(UPC_Perf_MTB.columns[23:24])+list(UPC_Perf_MTB.columns[18:20])+list(UPC_Perf_MTB.columns[16:17])+list(UPC_Perf_MTB.columns[14:15])\n",
    "print(Time_Period)"
   ]
  },
  {
   "cell_type": "code",
   "execution_count": null,
   "metadata": {},
   "outputs": [],
   "source": [
    "UPC_Perf_MTB.shape"
   ]
  },
  {
   "cell_type": "markdown",
   "metadata": {},
   "source": [
    "**Moving Time Period to Rows and Facts to Columns**"
   ]
  },
  {
   "cell_type": "code",
   "execution_count": null,
   "metadata": {},
   "outputs": [],
   "source": [
    "df1=pd.melt(UPC_Perf_MTB, id_vars =[\"MKT\",\"PROD\",\"PRODUCT_CODE\",\"CP_CATEGORY\",\"Dummy1\",\"CP_MANUFACTURER\",\"CP_FRANCHISE\",\"CP_BRAND\",\"CP_SUBBRAND\",\"CP_SUBBRAND_VARIANT\",\"Dummy2\",\"Dummy3\",\"TOTAL_SIZE\",\"Facts\"], value_vars =Time_Period,var_name=\"Time_Period\")\n",
    "\n",
    "df1[\"value\"]=df1[\"value\"].apply(pd.to_numeric)"
   ]
  },
  {
   "cell_type": "code",
   "execution_count": null,
   "metadata": {},
   "outputs": [],
   "source": [
    "df2=df1.pivot_table(index=[\"MKT\",\"PROD\",\"PRODUCT_CODE\",\"CP_CATEGORY\",\"Dummy1\",\"CP_MANUFACTURER\",\"CP_FRANCHISE\",\"CP_BRAND\",\"CP_SUBBRAND\",\"CP_SUBBRAND_VARIANT\",\"Dummy2\",\"Dummy3\",\"TOTAL_SIZE\",'Time_Period'],columns='Facts')\n",
    "\n",
    "df2.columns=df2.columns.droplevel().rename(None)\n",
    "df2.reset_index(inplace =True)"
   ]
  },
  {
   "cell_type": "code",
   "execution_count": null,
   "metadata": {},
   "outputs": [],
   "source": [
    "from pandas.api.types import CategoricalDtype\n",
    "\n",
    "Time_Period_order = CategoricalDtype(\n",
    "    Time_Period, \n",
    "    ordered=True\n",
    ")\n",
    "\n",
    "df2['Time_Period'] = df2['Time_Period'].astype(Time_Period_order)\n",
    "\n",
    "df2.sort_values(['MKT','PROD','Time_Period'],inplace=True)"
   ]
  },
  {
   "cell_type": "code",
   "execution_count": null,
   "metadata": {
    "scrolled": true
   },
   "outputs": [],
   "source": [
    "df2.head(2)"
   ]
  },
  {
   "cell_type": "code",
   "execution_count": null,
   "metadata": {},
   "outputs": [],
   "source": [
    "df2.rename(columns={'RASP_Chg':'Rasp_Chg'},inplace=True)\n",
    "\n",
    "final_column_sorting=[\"MKT\",\"PROD\",\"PRODUCT_CODE\",\"CP_CATEGORY\",\"Dummy1\",\"CP_MANUFACTURER\",\"CP_FRANCHISE\",\"CP_BRAND\",\n",
    "                      \"CP_SUBBRAND\",\"CP_SUBBRAND_VARIANT\",\"Dummy2\",\"Dummy3\",\"TOTAL_SIZE\",'Time_Period',\n",
    "                      \"Doll_Shr\",\"Doll_Shr_Chg\",\"Base_Doll_Shr\",\"Base_Doll_Shr_Chg\",\"Incr_Doll_Shr\",\"Incr_Doll_Shr_Chg\",\n",
    "                      \"Dollars\",\"Dollars_Chg\",\"Store_Selling\",\"Store_Selling_Chg\",\"RASP\",\"Rasp_Chg\",\"Base_RASP\",\n",
    "                      \"Base_Rasp_Chg\",\"RASP_Any_Promo\",\"RASP_Any_Promo_Chg\",\"Prcnt_EQUnits_Any_Promo\",\n",
    "                      \"Prcnt_EQUnits_Any_Promo_Chg\",\"QS_ACV_cum\",\"QS_ACV_Chg_cum\",\"Prcnt_ACV_TPR_cum\",\"Prcnt_ACV_TPR_Chg_cum\"\n",
    "                      ]\n",
    "UPC_Perf_MTB_final=df2[final_column_sorting]\n",
    "\n",
    "UPC_Perf_MTB_final[\"CP_SHARE_BASIS\"]=\"MANUAL\"\n",
    "\n",
    "## Adding \"Record_Id\" column\n",
    "UPC_Perf_MTB_final[\"Record_ID\"]= range(1,len(UPC_Perf_MTB_final)+1)"
   ]
  },
  {
   "cell_type": "code",
   "execution_count": null,
   "metadata": {
    "scrolled": false
   },
   "outputs": [],
   "source": [
    "UPC_Perf_MTB_final.head(2)"
   ]
  },
  {
   "cell_type": "code",
   "execution_count": null,
   "metadata": {},
   "outputs": [],
   "source": [
    "UPC_Perf_MTB_final.to_csv(path_MTB+\"MSR_SKU_Summary.csv\",index=False)"
   ]
  },
  {
   "cell_type": "code",
   "execution_count": null,
   "metadata": {},
   "outputs": [],
   "source": []
  },
  {
   "cell_type": "markdown",
   "metadata": {},
   "source": [
    "## PTB"
   ]
  },
  {
   "cell_type": "code",
   "execution_count": null,
   "metadata": {},
   "outputs": [],
   "source": [
    "# path to store OuPTBut files\n",
    "path_PTB=\"//falmumapp34/Nielsen Connect Transition & Maintenance (20-SCP-3650)/05. Output Data/5P Output/PTB/\""
   ]
  },
  {
   "cell_type": "markdown",
   "metadata": {},
   "source": [
    "**Filter Category**"
   ]
  },
  {
   "cell_type": "code",
   "execution_count": null,
   "metadata": {},
   "outputs": [],
   "source": [
    "set(UPC_Monthly[\"ShareBasis\"])"
   ]
  },
  {
   "cell_type": "code",
   "execution_count": null,
   "metadata": {},
   "outputs": [],
   "source": [
    "UPC_Monthly_PTB= UPC_Monthly[UPC_Monthly[\"ShareBasis\"].isin(['BATTERY+HYBRID', 'POWER'])]"
   ]
  },
  {
   "cell_type": "code",
   "execution_count": null,
   "metadata": {},
   "outputs": [],
   "source": [
    "UPC_Monthly_PTB.shape"
   ]
  },
  {
   "cell_type": "markdown",
   "metadata": {},
   "source": [
    "**Splitting \"Products\" column**\n",
    "\n",
    "Creating 5 new columns **\"ShareBasis\",\"Manufacturer\",\"Franchise\",\"Brand\",\"SubBrand\"** from **\"Products\"** column by splitting "
   ]
  },
  {
   "cell_type": "code",
   "execution_count": null,
   "metadata": {
    "scrolled": false
   },
   "outputs": [],
   "source": [
    "New_Columns=[\"ShareBasis\",\"Manufacturer\",\"Franchise\",\"Brand\",\"SubBrand\",\"SubBrand Variant\",\"Batt_Ele\" ,\"Segment\",\"Refill\",\"Item\",\"UPC\"]\n",
    "\n",
    "UPC_Monthly_PTB[New_Columns] = UPC_Monthly_PTB['Products'].str.split('|',n=10,expand=True)\n",
    "\n",
    "UPC_Monthly_PTB[New_Columns]=UPC_Monthly_PTB[New_Columns].fillna(value=\"\")\n",
    "\n",
    "UPC_Monthly_PTB = movecol(UPC_Monthly_PTB, \n",
    "             cols_to_move=New_Columns, \n",
    "             ref_col='Markets',\n",
    "             place='After')\n",
    "UPC_Monthly_PTB.head(3)"
   ]
  },
  {
   "cell_type": "code",
   "execution_count": null,
   "metadata": {},
   "outputs": [],
   "source": [
    "UPC_Monthly_PTB[\"ShareBasis\"]=UPC_Monthly_PTB[\"ShareBasis\"].str.replace(\"POWER\",\"TOTAL POWER\")"
   ]
  },
  {
   "cell_type": "code",
   "execution_count": null,
   "metadata": {},
   "outputs": [],
   "source": [
    "set(UPC_Monthly_PTB[\"ShareBasis\"])"
   ]
  },
  {
   "cell_type": "code",
   "execution_count": null,
   "metadata": {
    "scrolled": true
   },
   "outputs": [],
   "source": [
    "UPC_Monthly_PTB.shape"
   ]
  },
  {
   "cell_type": "markdown",
   "metadata": {},
   "source": [
    "**Strip Columns**\n",
    "\n",
    "Strip starting 8 columns "
   ]
  },
  {
   "cell_type": "code",
   "execution_count": null,
   "metadata": {},
   "outputs": [],
   "source": [
    "cols=list(UPC_Monthly_PTB.columns[0:13])"
   ]
  },
  {
   "cell_type": "code",
   "execution_count": null,
   "metadata": {},
   "outputs": [],
   "source": [
    "UPC_Monthly_PTB[cols]=UPC_Monthly_PTB[cols].apply(lambda x : x.str.strip())"
   ]
  },
  {
   "cell_type": "code",
   "execution_count": null,
   "metadata": {},
   "outputs": [],
   "source": [
    "UPC_Monthly_PTB__strip_copy=UPC_Monthly_PTB.copy()"
   ]
  },
  {
   "cell_type": "code",
   "execution_count": null,
   "metadata": {},
   "outputs": [],
   "source": []
  },
  {
   "cell_type": "markdown",
   "metadata": {},
   "source": [
    " "
   ]
  },
  {
   "cell_type": "markdown",
   "metadata": {},
   "source": [
    "## Performance"
   ]
  },
  {
   "cell_type": "code",
   "execution_count": null,
   "metadata": {},
   "outputs": [],
   "source": [
    "UPC_Perf_PTB= UPC_Monthly_PTB.copy()"
   ]
  },
  {
   "cell_type": "markdown",
   "metadata": {},
   "source": [
    "**Market Mapping**"
   ]
  },
  {
   "cell_type": "code",
   "execution_count": null,
   "metadata": {},
   "outputs": [],
   "source": [
    "Performance_Markets=[\"Ahold\",\"Alb/Sfy\",\"CVS\",\"Dollar General\",\"Family Dollar\",\"Kmart\",\"Meijer\",\"Publix\",\n",
    "                      \"Rite Aid\",\"Shoprite\",\"Target\",\"US AOC\",\"US Drug\",\"US Food\",\"Walgreens\",\"Walmart\"]"
   ]
  },
  {
   "cell_type": "code",
   "execution_count": null,
   "metadata": {},
   "outputs": [],
   "source": [
    "UPC_Perf_PTB= UPC_Perf_PTB[UPC_Perf_PTB[\"Facts\"].isin(Performance_Facts)]\n",
    "UPC_Perf_PTB= UPC_Perf_PTB[UPC_Perf_PTB[\"Markets\"].isin(Performance_Markets)]"
   ]
  },
  {
   "cell_type": "code",
   "execution_count": null,
   "metadata": {},
   "outputs": [],
   "source": [
    "print(len(Performance_Markets),len(set(UPC_Perf_PTB[\"Markets\"])))"
   ]
  },
  {
   "cell_type": "code",
   "execution_count": null,
   "metadata": {},
   "outputs": [],
   "source": [
    "UPC_Perf_PTB.shape"
   ]
  },
  {
   "cell_type": "markdown",
   "metadata": {},
   "source": [
    "**Condition**"
   ]
  },
  {
   "cell_type": "code",
   "execution_count": null,
   "metadata": {
    "scrolled": true
   },
   "outputs": [],
   "source": [
    "for i in range(0,len(UPC_Perf_PTB)):\n",
    "    \n",
    "    if (UPC_Perf_PTB[\"Segment\"].iloc[i]==\"ADULT\") & (UPC_Perf_PTB[\"Batt_Ele\"].iloc[i]==\"BATTERY\"):\n",
    "        UPC_Perf_PTB[\"Segment\"].iloc[i]=UPC_Perf_PTB[\"Segment\"].iloc[i]+\" \"+UPC_Perf_PTB[\"Batt_Ele\"].iloc[i]\n",
    "        \n",
    "    elif(UPC_Perf_PTB[\"Segment\"].iloc[i]==\"ADULT\") & (UPC_Perf_PTB[\"Batt_Ele\"].iloc[i]==\"HYBRID\"):\n",
    "        UPC_Perf_PTB[\"Segment\"].iloc[i]=UPC_Perf_PTB[\"Segment\"].iloc[i]+\" \"+UPC_Perf_PTB[\"Batt_Ele\"].iloc[i]\n",
    "        \n",
    "    elif (UPC_Perf_PTB[\"Segment\"].iloc[i]==\"KIDS\"):\n",
    "        UPC_Perf_PTB[\"Segment\"].iloc[i]=UPC_Perf_PTB[\"Segment\"].iloc[i]\n",
    "        \n",
    "    elif (UPC_Perf_PTB[\"Batt_Ele\"].iloc[i]==\"ELECTRIC\"):\n",
    "        UPC_Perf_PTB[\"Segment\"].iloc[i]=UPC_Perf_PTB[\"Batt_Ele\"].iloc[i]"
   ]
  },
  {
   "cell_type": "code",
   "execution_count": null,
   "metadata": {},
   "outputs": [],
   "source": [
    "set(UPC_Perf_PTB[\"Segment\"])"
   ]
  },
  {
   "cell_type": "code",
   "execution_count": null,
   "metadata": {},
   "outputs": [],
   "source": [
    "UPC_Perf_PTB[\"Segment\"].value_counts()"
   ]
  },
  {
   "cell_type": "code",
   "execution_count": null,
   "metadata": {},
   "outputs": [],
   "source": [
    "UPC_Perf_PTB[\"Segment\"]=UPC_Perf_PTB[\"Segment\"].str.replace(\"ADULT BATTERY\",\"Adult Battery\")\n",
    "UPC_Perf_PTB[\"Segment\"]=UPC_Perf_PTB[\"Segment\"].str.replace(\"ADULT HYBRID\",\"Adult Hybrid\")\n",
    "UPC_Perf_PTB[\"Segment\"]=UPC_Perf_PTB[\"Segment\"].str.replace(\"ELECTRIC\",\"Electric\")\n",
    "UPC_Perf_PTB[\"Segment\"]=UPC_Perf_PTB[\"Segment\"].str.replace(\"KIDS\",\"Kids\")"
   ]
  },
  {
   "cell_type": "code",
   "execution_count": null,
   "metadata": {},
   "outputs": [],
   "source": [
    "set(UPC_Perf_PTB[\"Segment\"])"
   ]
  },
  {
   "cell_type": "code",
   "execution_count": null,
   "metadata": {},
   "outputs": [],
   "source": [
    "backup= UPC_Perf_PTB.copy()"
   ]
  },
  {
   "cell_type": "code",
   "execution_count": null,
   "metadata": {},
   "outputs": [],
   "source": [
    "UPC_Perf_PTB[\"Products\"]=UPC_Perf_PTB[\"Products\"].str.replace(\"POWER\",\"TOTAL POWER\")"
   ]
  },
  {
   "cell_type": "code",
   "execution_count": null,
   "metadata": {},
   "outputs": [],
   "source": []
  },
  {
   "cell_type": "code",
   "execution_count": null,
   "metadata": {},
   "outputs": [],
   "source": []
  },
  {
   "cell_type": "markdown",
   "metadata": {},
   "source": [
    "**Fact Mapping**"
   ]
  },
  {
   "cell_type": "code",
   "execution_count": null,
   "metadata": {},
   "outputs": [],
   "source": [
    "UPC_Perf_PTB[\"Facts\"].replace(Performance_Fact_Mapping,inplace=True)"
   ]
  },
  {
   "cell_type": "code",
   "execution_count": null,
   "metadata": {
    "scrolled": false
   },
   "outputs": [],
   "source": [
    "UPC_Perf_PTB.head(2)"
   ]
  },
  {
   "cell_type": "code",
   "execution_count": null,
   "metadata": {},
   "outputs": [],
   "source": [
    "UPC_Perf_PTB.shape"
   ]
  },
  {
   "cell_type": "code",
   "execution_count": null,
   "metadata": {},
   "outputs": [],
   "source": [
    "set(UPC_Monthly_PTB[\"Segment\"])"
   ]
  },
  {
   "cell_type": "markdown",
   "metadata": {},
   "source": [
    "**Column name Change**"
   ]
  },
  {
   "cell_type": "code",
   "execution_count": null,
   "metadata": {},
   "outputs": [],
   "source": [
    "UPC_Perf_PTB.rename(columns={'Markets':\"MKT\", 'ShareBasis':\"CP_BATTERY_HYBRID\", 'Manufacturer':\"CP_MANUFACTURER\",\n",
    "                             'Franchise':\"CP_FRANCHISE\", 'Brand':\"CP_BRAND\",'SubBrand':\"CP_SUBBRAND\",\n",
    "                             'SubBrand Variant':\"CP_SUBBRAND_VARIANT\", 'Segment':\"CP_SEGMENT\",\n",
    "                             'Refill':\"CP_REFILL\", 'UPC':\"PRODUCT_CODE\",\n",
    "                             'Item':\"PROD\"},inplace=True)"
   ]
  },
  {
   "cell_type": "code",
   "execution_count": null,
   "metadata": {},
   "outputs": [],
   "source": [
    "set(UPC_Perf_PTB[\"CP_SEGMENT\"])"
   ]
  },
  {
   "cell_type": "code",
   "execution_count": null,
   "metadata": {},
   "outputs": [],
   "source": [
    "UPC_Perf_PTB[\"CP_CATEGORY\"]=\"POWER\"\n",
    "\n",
    "UPC_Perf_PTB[[\"Dummy1\",\"Dummy2\"]]=\"Dummy\""
   ]
  },
  {
   "cell_type": "code",
   "execution_count": null,
   "metadata": {
    "scrolled": true
   },
   "outputs": [],
   "source": [
    "UPC_Perf_PTB.head(2)"
   ]
  },
  {
   "cell_type": "code",
   "execution_count": null,
   "metadata": {},
   "outputs": [],
   "source": [
    "UPC_Perf_PTB.info()"
   ]
  },
  {
   "cell_type": "code",
   "execution_count": null,
   "metadata": {
    "scrolled": true
   },
   "outputs": [],
   "source": [
    "# Time_Period=list(UPC_Perf_PTB.columns[30:31])+list(UPC_Perf_PTB.columns[20:22])+list(UPC_Perf_PTB.columns[18:19])+list(UPC_Perf_PTB.columns[14:15])\n",
    "\n",
    "Time_Period=list(UPC_Perf_PTB.columns[24:25])+list(UPC_Perf_PTB.columns[19:21])+list(UPC_Perf_PTB.columns[17:18])+list(UPC_Perf_PTB.columns[15:16])\n",
    "\n",
    "print(Time_Period)"
   ]
  },
  {
   "cell_type": "code",
   "execution_count": null,
   "metadata": {},
   "outputs": [],
   "source": [
    "UPC_Perf_PTB.shape"
   ]
  },
  {
   "cell_type": "markdown",
   "metadata": {},
   "source": [
    "**Moving Time Period to Rows and Facts to Columns**"
   ]
  },
  {
   "cell_type": "code",
   "execution_count": null,
   "metadata": {},
   "outputs": [],
   "source": [
    "df1=pd.melt(UPC_Perf_PTB, id_vars =[\"MKT\",\"PROD\",\"PRODUCT_CODE\",\"CP_CATEGORY\",\"CP_SEGMENT\",\"CP_MANUFACTURER\",\"CP_FRANCHISE\",\"CP_BRAND\",\"CP_SUBBRAND\",\"CP_SUBBRAND_VARIANT\",\"Dummy1\",\"Dummy2\",\"CP_REFILL\",\"CP_BATTERY_HYBRID\",\"Facts\"], value_vars =Time_Period,var_name=\"Time_Period\")\n",
    "\n",
    "df1[\"value\"]=df1[\"value\"].apply(pd.to_numeric)"
   ]
  },
  {
   "cell_type": "code",
   "execution_count": null,
   "metadata": {},
   "outputs": [],
   "source": [
    "df2=df1.pivot_table(index=[\"MKT\",\"PROD\",\"PRODUCT_CODE\",\"CP_CATEGORY\",\"CP_SEGMENT\",\"CP_MANUFACTURER\",\"CP_FRANCHISE\",\"CP_BRAND\",\"CP_SUBBRAND\",\"CP_SUBBRAND_VARIANT\",\"Dummy1\",\"Dummy2\",\"CP_REFILL\",\"CP_BATTERY_HYBRID\",'Time_Period'],columns='Facts')\n",
    "\n",
    "df2.columns=df2.columns.droplevel().rename(None)\n",
    "df2.reset_index(inplace =True)"
   ]
  },
  {
   "cell_type": "code",
   "execution_count": null,
   "metadata": {},
   "outputs": [],
   "source": [
    "from pandas.api.types import CategoricalDtype\n",
    "\n",
    "Time_Period_order = CategoricalDtype(\n",
    "    Time_Period, \n",
    "    ordered=True\n",
    ")\n",
    "\n",
    "df2['Time_Period'] = df2['Time_Period'].astype(Time_Period_order)\n",
    "\n",
    "df2.sort_values(['MKT','PROD',\"PRODUCT_CODE\",\"CP_BATTERY_HYBRID\",'Time_Period'],inplace=True)"
   ]
  },
  {
   "cell_type": "code",
   "execution_count": null,
   "metadata": {
    "scrolled": true
   },
   "outputs": [],
   "source": [
    "df2.head(2)"
   ]
  },
  {
   "cell_type": "code",
   "execution_count": null,
   "metadata": {},
   "outputs": [],
   "source": [
    "df2.rename(columns={'RASP_Chg':'Rasp_Chg'},inplace=True)\n",
    "\n",
    "final_column_sorting=[\"MKT\",\"PROD\",\"PRODUCT_CODE\",\"CP_CATEGORY\",\"CP_SEGMENT\",\"CP_MANUFACTURER\",\"CP_FRANCHISE\",\"CP_BRAND\",\n",
    "                      \"CP_SUBBRAND\",\"CP_SUBBRAND_VARIANT\",\"Dummy1\",\"Dummy2\",\"CP_REFILL\",\"Time_Period\",\"Doll_Shr\",\"Doll_Shr_Chg\",\n",
    "                      \"Base_Doll_Shr\",\"Base_Doll_Shr_Chg\",\"Incr_Doll_Shr\",\"Incr_Doll_Shr_Chg\",\"Dollars\",\"Dollars_Chg\",\n",
    "                      \"Store_Selling\",\"Store_Selling_Chg\",\"RASP\",\"Rasp_Chg\",\"Base_RASP\",\"Base_Rasp_Chg\",\n",
    "                      \"RASP_Any_Promo\",\"RASP_Any_Promo_Chg\",\"Prcnt_EQUnits_Any_Promo\",\"Prcnt_EQUnits_Any_Promo_Chg\",\n",
    "                      \"QS_ACV_cum\",\"QS_ACV_Chg_cum\",\"Prcnt_ACV_TPR_cum\",\"Prcnt_ACV_TPR_Chg_cum\",\"CP_BATTERY_HYBRID\"\n",
    "                      ]\n",
    "UPC_Perf_PTB_final=df2[final_column_sorting]\n",
    "\n",
    "\n",
    "## Adding \"Record_Id\" column\n",
    "UPC_Perf_PTB_final[\"Record_ID\"]= range(1,len(UPC_Perf_PTB_final)+1)"
   ]
  },
  {
   "cell_type": "code",
   "execution_count": null,
   "metadata": {
    "scrolled": false
   },
   "outputs": [],
   "source": [
    "UPC_Perf_PTB_final.head(2)"
   ]
  },
  {
   "cell_type": "code",
   "execution_count": null,
   "metadata": {},
   "outputs": [],
   "source": [
    "set(UPC_Perf_PTB[\"CP_BATTERY_HYBRID\"])"
   ]
  },
  {
   "cell_type": "code",
   "execution_count": null,
   "metadata": {},
   "outputs": [],
   "source": [
    "UPC_Perf_PTB[\"CP_BATTERY_HYBRID\"]=UPC_Perf_PTB[\"CP_BATTERY_HYBRID\"].str.replace(\"TOTAL TOTAL POWER\",\"TOTAL POWER\")"
   ]
  },
  {
   "cell_type": "code",
   "execution_count": null,
   "metadata": {},
   "outputs": [],
   "source": [
    "set(UPC_Perf_PTB[\"CP_SEGMENT\"])"
   ]
  },
  {
   "cell_type": "code",
   "execution_count": null,
   "metadata": {},
   "outputs": [],
   "source": [
    "UPC_Perf_PTB_final.to_csv(path_PTB+\"MSR_SKU_Summary.csv\",index=False)"
   ]
  },
  {
   "cell_type": "code",
   "execution_count": null,
   "metadata": {},
   "outputs": [],
   "source": []
  },
  {
   "cell_type": "markdown",
   "metadata": {},
   "source": [
    "## BAR"
   ]
  },
  {
   "cell_type": "code",
   "execution_count": null,
   "metadata": {},
   "outputs": [],
   "source": [
    "# path to store OuBARut files\n",
    "path_BAR=\"//falmumapp34/Nielsen Connect Transition & Maintenance (20-SCP-3650)/05. Output Data/5P Output/BAR/\""
   ]
  },
  {
   "cell_type": "code",
   "execution_count": null,
   "metadata": {},
   "outputs": [],
   "source": [
    "UPC_Monthly_BAR= UPC_Monthly[UPC_Monthly[\"ShareBasis\"]==\"BAR\"]"
   ]
  },
  {
   "cell_type": "code",
   "execution_count": null,
   "metadata": {
    "scrolled": true
   },
   "outputs": [],
   "source": [
    "UPC_Monthly_BAR.head()"
   ]
  },
  {
   "cell_type": "code",
   "execution_count": null,
   "metadata": {},
   "outputs": [],
   "source": [
    "set(UPC_Monthly_BAR[\"Markets\"])"
   ]
  },
  {
   "cell_type": "markdown",
   "metadata": {},
   "source": [
    "**Splitting \"Products\" column**\n",
    "\n",
    "Creating 5 new columns **\"ShareBasis\",\"Manufacturer\",\"Franchise\",\"Brand\",\"SubBrand\"** from **\"Products\"** column by splitting "
   ]
  },
  {
   "cell_type": "code",
   "execution_count": null,
   "metadata": {
    "scrolled": true
   },
   "outputs": [],
   "source": [
    "New_Column=[\"ShareBasis\",\"Manufacturer\",\"Franchise\",\"Brand\",\"SubBrand\",\"Segment\",\"Size_Range\",\"PriceTier\",\"Multi\",\"Deal\",\"Item\",\"UPC\"]\n",
    "\n",
    "UPC_Monthly_BAR[New_Column] = UPC_Monthly_BAR['Products'].str.split('|',n=11,expand=True)\n",
    "\n",
    "UPC_Monthly_BAR[New_Column]=UPC_Monthly_BAR[New_Column].fillna(value=\"\")\n",
    "\n",
    "# Moving columns after \"Market\"\n",
    "UPC_Monthly_BAR = movecol(UPC_Monthly_BAR, \n",
    "             cols_to_move=New_Column, \n",
    "             ref_col='Markets',\n",
    "             place='After')\n",
    "UPC_Monthly_BAR.head(3)"
   ]
  },
  {
   "cell_type": "markdown",
   "metadata": {},
   "source": [
    "**Strip Columns**\n",
    "\n",
    "Strip starting 8 columns "
   ]
  },
  {
   "cell_type": "code",
   "execution_count": null,
   "metadata": {},
   "outputs": [],
   "source": [
    "cols=list(UPC_Monthly_BAR.columns[0:14])"
   ]
  },
  {
   "cell_type": "code",
   "execution_count": null,
   "metadata": {},
   "outputs": [],
   "source": [
    "UPC_Monthly_BAR[cols]=UPC_Monthly_BAR[cols].apply(lambda x : x.str.strip())"
   ]
  },
  {
   "cell_type": "code",
   "execution_count": null,
   "metadata": {},
   "outputs": [],
   "source": [
    "UPC_Monthly_BAR__strip_copy=UPC_Monthly_BAR.copy()"
   ]
  },
  {
   "cell_type": "markdown",
   "metadata": {},
   "source": [
    " "
   ]
  },
  {
   "cell_type": "code",
   "execution_count": null,
   "metadata": {},
   "outputs": [],
   "source": [
    "UPC_Monthly_BAR.shape"
   ]
  },
  {
   "cell_type": "code",
   "execution_count": null,
   "metadata": {},
   "outputs": [],
   "source": [
    "set(UPC_Monthly_BAR[\"Markets\"])"
   ]
  },
  {
   "cell_type": "markdown",
   "metadata": {},
   "source": [
    "## Performance"
   ]
  },
  {
   "cell_type": "markdown",
   "metadata": {},
   "source": [
    "**Market Mapping**"
   ]
  },
  {
   "cell_type": "code",
   "execution_count": null,
   "metadata": {},
   "outputs": [],
   "source": [
    "Performance_Market=[\"Ahold\",\"Alb/Sfy\",\"BJs\",\"CVS\",\"Dollar General\",\"Family Dollar\",\"Kmart\",\"Publix\",\"Rite Aid\",\n",
    "                   \"Sams\",\"Shoprite\",\"Target\",\"US AOC\",\"US Drug\",\"US Food\",\"Walgreens\",\"Walmart\"]"
   ]
  },
  {
   "cell_type": "code",
   "execution_count": null,
   "metadata": {},
   "outputs": [],
   "source": [
    "UPC_Perf_BAR= UPC_Monthly_BAR.copy()"
   ]
  },
  {
   "cell_type": "code",
   "execution_count": null,
   "metadata": {},
   "outputs": [],
   "source": [
    "UPC_Perf_BAR= UPC_Perf_BAR[UPC_Perf_BAR[\"Facts\"].isin(Performance_Facts)]\n",
    "UPC_Perf_BAR= UPC_Perf_BAR[UPC_Perf_BAR[\"Markets\"].isin(Performance_Market)]"
   ]
  },
  {
   "cell_type": "code",
   "execution_count": null,
   "metadata": {},
   "outputs": [],
   "source": [
    "print(len(Performance_Market),len(set(UPC_Perf_BAR[\"Markets\"])))"
   ]
  },
  {
   "cell_type": "code",
   "execution_count": null,
   "metadata": {},
   "outputs": [],
   "source": [
    "set(UPC_Perf_BAR[\"Markets\"])"
   ]
  },
  {
   "cell_type": "code",
   "execution_count": null,
   "metadata": {},
   "outputs": [],
   "source": [
    "UPC_Perf_BAR.shape"
   ]
  },
  {
   "cell_type": "markdown",
   "metadata": {},
   "source": [
    "**Fact Mapping**"
   ]
  },
  {
   "cell_type": "code",
   "execution_count": null,
   "metadata": {},
   "outputs": [],
   "source": [
    "UPC_Perf_BAR[\"Facts\"].replace(Performance_Fact_Mapping,inplace=True)"
   ]
  },
  {
   "cell_type": "code",
   "execution_count": null,
   "metadata": {
    "scrolled": false
   },
   "outputs": [],
   "source": [
    "UPC_Perf_BAR.head(2)"
   ]
  },
  {
   "cell_type": "code",
   "execution_count": null,
   "metadata": {},
   "outputs": [],
   "source": [
    "UPC_Perf_BAR.shape"
   ]
  },
  {
   "cell_type": "markdown",
   "metadata": {},
   "source": [
    "**Column name Change**"
   ]
  },
  {
   "cell_type": "code",
   "execution_count": null,
   "metadata": {},
   "outputs": [],
   "source": [
    "UPC_Perf_BAR.columns"
   ]
  },
  {
   "cell_type": "code",
   "execution_count": null,
   "metadata": {},
   "outputs": [],
   "source": [
    "UPC_Perf_BAR.rename(columns={'Markets':'MKT',  'Manufacturer':'CP_MANUFACTURER', 'Franchise':'CP_FRANCHISE', 'Brand':'CP_BRAND',\n",
    "                             'SubBrand':'CP_SUBBRAND', 'Segment':'CP_SEGMENT', 'Size_Range':'CP_SIZE_RANGE', 'PriceTier':'CP_PRICE_TIER',\n",
    "                             'Multi':'CP_MULTI', 'Deal':'CP_DEAL_TYPE',\n",
    "                             'UPC':'PRODUCT_CODE', 'Item':'PROD'},inplace=True)"
   ]
  },
  {
   "cell_type": "code",
   "execution_count": null,
   "metadata": {},
   "outputs": [],
   "source": [
    "UPC_Perf_BAR[[\"Dummy1\"]]=\"Dummy\""
   ]
  },
  {
   "cell_type": "code",
   "execution_count": null,
   "metadata": {
    "scrolled": true
   },
   "outputs": [],
   "source": [
    "UPC_Perf_BAR.head(2)"
   ]
  },
  {
   "cell_type": "code",
   "execution_count": null,
   "metadata": {},
   "outputs": [],
   "source": [
    "UPC_Perf_BAR.info()"
   ]
  },
  {
   "cell_type": "code",
   "execution_count": null,
   "metadata": {
    "scrolled": true
   },
   "outputs": [],
   "source": [
    "# Time_Period=list(UPC_Perf_BAR.columns[31:32])+list(UPC_Perf_BAR.columns[21:23])+list(UPC_Perf_BAR.columns[19:20])+list(UPC_Perf_BAR.columns[15:16])\n",
    "Time_Period=list(UPC_Perf_BAR.columns[25:26])+list(UPC_Perf_BAR.columns[20:22])+list(UPC_Perf_BAR.columns[18:19])+list(UPC_Perf_BAR.columns[16:17])\n",
    "print(Time_Period)"
   ]
  },
  {
   "cell_type": "markdown",
   "metadata": {},
   "source": [
    "**Moving Time Period to Rows and Facts to Columns**"
   ]
  },
  {
   "cell_type": "code",
   "execution_count": null,
   "metadata": {},
   "outputs": [],
   "source": [
    "df1=pd.melt(UPC_Perf_BAR, id_vars =[\"MKT\",\"PROD\",\"PRODUCT_CODE\",\"CP_SEGMENT\",\"CP_SIZE_RANGE\",\"CP_MANUFACTURER\",\"CP_FRANCHISE\",\"CP_BRAND\",\"CP_SUBBRAND\",\"CP_PRICE_TIER\",\"CP_MULTI\",\"CP_DEAL_TYPE\",\"Dummy1\",\"Facts\"], value_vars =Time_Period,var_name=\"Time_Period\")\n",
    "\n",
    "df1[\"value\"]=df1[\"value\"].apply(pd.to_numeric)"
   ]
  },
  {
   "cell_type": "code",
   "execution_count": null,
   "metadata": {},
   "outputs": [],
   "source": [
    "df1.columns"
   ]
  },
  {
   "cell_type": "code",
   "execution_count": null,
   "metadata": {},
   "outputs": [],
   "source": [
    "df2=df1.pivot_table(index=[\"MKT\",\"PROD\",\"PRODUCT_CODE\",\"CP_SEGMENT\",\"CP_SIZE_RANGE\",\"CP_MANUFACTURER\",\"CP_FRANCHISE\",\"CP_BRAND\",\"CP_SUBBRAND\",\"CP_PRICE_TIER\",\"CP_MULTI\",\"CP_DEAL_TYPE\",\"Dummy1\",'Time_Period'],columns='Facts')\n",
    "\n",
    "df2.columns=df2.columns.droplevel().rename(None)\n",
    "df2.reset_index(inplace =True)"
   ]
  },
  {
   "cell_type": "code",
   "execution_count": null,
   "metadata": {},
   "outputs": [],
   "source": [
    "df2.shape"
   ]
  },
  {
   "cell_type": "code",
   "execution_count": null,
   "metadata": {},
   "outputs": [],
   "source": [
    "from pandas.api.types import CategoricalDtype\n",
    "\n",
    "Time_Period_order = CategoricalDtype(\n",
    "    Time_Period, \n",
    "    ordered=True\n",
    ")\n",
    "\n",
    "df2['Time_Period'] = df2['Time_Period'].astype(Time_Period_order)\n",
    "\n",
    "df2.sort_values(['MKT','PROD','Time_Period'],inplace=True)"
   ]
  },
  {
   "cell_type": "code",
   "execution_count": null,
   "metadata": {
    "scrolled": false
   },
   "outputs": [],
   "source": [
    "df2.head(2)"
   ]
  },
  {
   "cell_type": "code",
   "execution_count": null,
   "metadata": {},
   "outputs": [],
   "source": [
    "final_column_sorting=[\"MKT\",\"PROD\",\"PRODUCT_CODE\",\"CP_SEGMENT\",\"CP_SIZE_RANGE\",\"CP_MANUFACTURER\",\"CP_FRANCHISE\",\n",
    "                      \"CP_BRAND\",\"CP_SUBBRAND\",\"CP_PRICE_TIER\",\"CP_MULTI\",\"CP_DEAL_TYPE\",\"Dummy1\",'Time_Period',\n",
    "                      \"Doll_Shr\",\"Doll_Shr_Chg\",\"Base_Doll_Shr\",\"Base_Doll_Shr_Chg\",\"Incr_Doll_Shr\",\n",
    "                      \"Incr_Doll_Shr_Chg\",\"Dollars\",\"Dollars_Chg\",\"Store_Selling\",\"Store_Selling_Chg\",\n",
    "                      \"RASP\",\"RASP_Chg\",\"Base_RASP\",\"Base_Rasp_Chg\",\"RASP_Any_Promo\",\"RASP_Any_Promo_Chg\",\n",
    "                      \"Prcnt_EQUnits_Any_Promo\",\"Prcnt_EQUnits_Any_Promo_Chg\",\"QS_ACV_cum\",\"QS_ACV_Chg_cum\",\n",
    "                      \"Prcnt_ACV_TPR_cum\",\"Prcnt_ACV_TPR_Chg_cum\"\n",
    "\n",
    "                      ]\n",
    "UPC_Perf_BAR_final=df2[final_column_sorting]\n",
    "\n",
    "\n",
    "## Adding \"Record_Id\" column\n",
    "UPC_Perf_BAR_final[\"Record_ID\"]= range(1,len(UPC_Perf_BAR_final)+1)"
   ]
  },
  {
   "cell_type": "code",
   "execution_count": null,
   "metadata": {
    "scrolled": true
   },
   "outputs": [],
   "source": [
    "UPC_Perf_BAR_final.head(2)"
   ]
  },
  {
   "cell_type": "code",
   "execution_count": null,
   "metadata": {},
   "outputs": [],
   "source": [
    "UPC_Perf_BAR_final.to_csv(path_BAR+\"MSR_SKU_Summary.csv\",index=False)"
   ]
  },
  {
   "cell_type": "markdown",
   "metadata": {},
   "source": [
    "## BW"
   ]
  },
  {
   "cell_type": "code",
   "execution_count": null,
   "metadata": {},
   "outputs": [],
   "source": [
    "# path to store OuBARut files\n",
    "path_BW=\"//falmumapp34/Nielsen Connect Transition & Maintenance (20-SCP-3650)/05. Output Data/5P Output/BW/\""
   ]
  },
  {
   "cell_type": "code",
   "execution_count": null,
   "metadata": {},
   "outputs": [],
   "source": [
    "UPC_Monthly_BW= UPC_Monthly[UPC_Monthly[\"Category\"]==\"BW\"]\n",
    "UPC_Monthly_BW.head(2)"
   ]
  },
  {
   "cell_type": "markdown",
   "metadata": {},
   "source": [
    "**Splitting \"Products\" column**\n",
    "\n",
    "Creating new columns **\"ShareBasis\",\"Manufacturer\",\"Franchise\",\"Brand\",\"SubBrand\"** from **\"Products\"** column by splitting "
   ]
  },
  {
   "cell_type": "code",
   "execution_count": null,
   "metadata": {
    "scrolled": true
   },
   "outputs": [],
   "source": [
    "New_Column= [\"ShareBasis\",\"Manufacturer\",\"Franchise\",\"Brand\",\"SubBrand\",\"SubBrand Variant\",\"Gender\",\"Segment\",\"PriceTier\",\"Deal\",\"Applicable\",\"Multi\",\"Size\",\"Item\",\"UPC\"]\n",
    "\n",
    "UPC_Monthly_BW[New_Column ] = UPC_Monthly_BW['Products'].str.split('|',n=14,expand=True)\n",
    "\n",
    "##Replacing all the None values** in columns **\"ShareBasis\",\"Manufacturer\",\"Franchise\",\"Brand\",\"SubBrand\"**\n",
    "\n",
    "UPC_Monthly_BW[New_Column]=UPC_Monthly_BW[New_Column].fillna(value=\"\")\n",
    "UPC_Monthly_BW.head(3)\n",
    "\n",
    "UPC_Monthly_BW = movecol(UPC_Monthly_BW, \n",
    "             cols_to_move=New_Column, \n",
    "             ref_col='Markets',\n",
    "             place='After')\n",
    "UPC_Monthly_BW.head(2)"
   ]
  },
  {
   "cell_type": "markdown",
   "metadata": {},
   "source": [
    "**Strip Columns**\n"
   ]
  },
  {
   "cell_type": "code",
   "execution_count": null,
   "metadata": {},
   "outputs": [],
   "source": [
    "cols=list(UPC_Monthly_BW.columns[0:19])\n",
    "\n",
    "UPC_Monthly_BW[cols]=UPC_Monthly_BW[cols].apply(lambda x : x.str.strip())\n"
   ]
  },
  {
   "cell_type": "markdown",
   "metadata": {},
   "source": [
    "## Performance"
   ]
  },
  {
   "cell_type": "code",
   "execution_count": null,
   "metadata": {},
   "outputs": [],
   "source": [
    "UPC_Perf_BW= UPC_Monthly_BW.copy()"
   ]
  },
  {
   "cell_type": "markdown",
   "metadata": {},
   "source": [
    "**Market Mapping**"
   ]
  },
  {
   "cell_type": "code",
   "execution_count": null,
   "metadata": {},
   "outputs": [],
   "source": [
    "Performance_Markets=[\"Ahold\",\"Alb/Sfy\",\"BJs\",\"CVS\",\"Dollar General\",\"Family Dollar\",\"Giant Eagle\",\"Kmart\",\"Meijer\",\"Publix\",\n",
    "                     \"Rite Aid\",\"Shoprite\",\"Target\",\"US AOC\",\"US Drug\",\"US Food\",\"Walgreens\",\"Walmart\",\"Wegmans\"]"
   ]
  },
  {
   "cell_type": "code",
   "execution_count": null,
   "metadata": {},
   "outputs": [],
   "source": [
    "UPC_Perf_BW= UPC_Perf_BW[UPC_Perf_BW[\"Facts\"].isin(Performance_Facts)]\n",
    "UPC_Perf_BW= UPC_Perf_BW[UPC_Perf_BW[\"Markets\"].isin(Performance_Markets)]\n",
    "print(UPC_Perf_BW.shape)"
   ]
  },
  {
   "cell_type": "code",
   "execution_count": null,
   "metadata": {},
   "outputs": [],
   "source": [
    "print(len(Performance_Markets),len(set(UPC_Perf_BW[\"Markets\"])))"
   ]
  },
  {
   "cell_type": "markdown",
   "metadata": {},
   "source": [
    "**Fact Mapping**"
   ]
  },
  {
   "cell_type": "code",
   "execution_count": null,
   "metadata": {},
   "outputs": [],
   "source": [
    "UPC_Perf_BW[\"Facts\"].replace(Performance_Fact_Mapping,inplace=True)\n",
    "UPC_Perf_BW.shape"
   ]
  },
  {
   "cell_type": "markdown",
   "metadata": {},
   "source": [
    "**Renaming Column**"
   ]
  },
  {
   "cell_type": "code",
   "execution_count": null,
   "metadata": {
    "scrolled": true
   },
   "outputs": [],
   "source": [
    "UPC_Perf_BW.columns"
   ]
  },
  {
   "cell_type": "code",
   "execution_count": null,
   "metadata": {},
   "outputs": [],
   "source": [
    "UPC_Perf_BW.rename(columns={'Markets':'MKT', 'Manufacturer':\"CP_MANUFACTURER\", 'Franchise':\"CP_FRANCHISE\",\n",
    "                            'Brand':\"CP_BRAND\",'SubBrand':'CP_SUBBRAND', 'SubBrand Variant':\"CP_SUBBRAND_VARIANT\",\n",
    "                            'Gender':\"CP_TARGET_GENDER\", 'Segment':\"CP_SEGMENT\", 'PriceTier':\"CP_PRICE_TIER\",\n",
    "                            'Deal':\"Concat_Gift_Deal\", 'Multi':\"CP_MULTI\",'Size':'CP_SIZE_RANGE','UPC':'PRODUCT_CODE','Item':'PROD'},inplace=True)"
   ]
  },
  {
   "cell_type": "code",
   "execution_count": null,
   "metadata": {},
   "outputs": [],
   "source": [
    "UPC_Perf_BW.info()"
   ]
  },
  {
   "cell_type": "markdown",
   "metadata": {},
   "source": [
    "**Time Period Selection**"
   ]
  },
  {
   "cell_type": "code",
   "execution_count": null,
   "metadata": {
    "scrolled": true
   },
   "outputs": [],
   "source": [
    "# Time_Period=list(UPC_Perf_BW.columns[34:35])+list(UPC_Perf_BW.columns[24:26])+list(UPC_Perf_BW.columns[22:23])+list(UPC_Perf_BW.columns[18:19])\n",
    "Time_Period=list(UPC_Perf_BW.columns[26:27])+list(UPC_Perf_BW.columns[21:23])+list(UPC_Perf_BW.columns[20:21])+list(UPC_Perf_BW.columns[19:20])\n",
    "print(Time_Period)"
   ]
  },
  {
   "cell_type": "markdown",
   "metadata": {},
   "source": [
    "**Moving Time Period to Rows and Facts to Columns**"
   ]
  },
  {
   "cell_type": "code",
   "execution_count": null,
   "metadata": {},
   "outputs": [],
   "source": [
    "df1=pd.melt(UPC_Perf_BW, id_vars =[\"MKT\",\"PROD\",\"PRODUCT_CODE\",\"CP_TARGET_GENDER\",\"CP_SEGMENT\",\"CP_MANUFACTURER\",\"CP_FRANCHISE\",\"CP_BRAND\",\"CP_SUBBRAND\",\"CP_SUBBRAND_VARIANT\",\"CP_PRICE_TIER\",\"Concat_Gift_Deal\",\"CP_MULTI\",\"CP_SIZE_RANGE\",\"Facts\"], value_vars =Time_Period,var_name=\"Time_Period\")\n",
    "\n",
    "df1[\"value\"]=df1[\"value\"].apply(pd.to_numeric)\n",
    "\n",
    "df2=df1.pivot_table(index=[\"MKT\",\"PROD\",\"PRODUCT_CODE\",\"CP_TARGET_GENDER\",\"CP_SEGMENT\",\"CP_MANUFACTURER\",\"CP_FRANCHISE\",\"CP_BRAND\",\"CP_SUBBRAND\",\"CP_SUBBRAND_VARIANT\",\"CP_PRICE_TIER\",\"Concat_Gift_Deal\",\"CP_MULTI\",\"CP_SIZE_RANGE\",'Time_Period'],columns='Facts')\n",
    "\n",
    "df2.columns=df2.columns.droplevel().rename(None)\n",
    "df2.reset_index(inplace =True)"
   ]
  },
  {
   "cell_type": "markdown",
   "metadata": {},
   "source": [
    "**Sorting Columns**"
   ]
  },
  {
   "cell_type": "code",
   "execution_count": null,
   "metadata": {},
   "outputs": [],
   "source": [
    "from pandas.api.types import CategoricalDtype\n",
    "\n",
    "Time_Period_order = CategoricalDtype(\n",
    "    Time_Period, \n",
    "    ordered=True\n",
    ")\n",
    "\n",
    "df2['Time_Period'] = df2['Time_Period'].astype(Time_Period_order)\n",
    "\n",
    "df2.sort_values(['MKT','PROD','PRODUCT_CODE','Time_Period'],inplace=True)"
   ]
  },
  {
   "cell_type": "code",
   "execution_count": null,
   "metadata": {},
   "outputs": [],
   "source": [
    "final_column_sorting=[\"MKT\",\"PROD\",\"PRODUCT_CODE\",\"CP_TARGET_GENDER\",\"CP_SEGMENT\",\"CP_MANUFACTURER\",\n",
    "                      \"CP_FRANCHISE\",\"CP_BRAND\",\"CP_SUBBRAND\",\"CP_SUBBRAND_VARIANT\",\"CP_PRICE_TIER\",\n",
    "                      \"Concat_Gift_Deal\",\"CP_MULTI\",\"Time_Period\",\n",
    "                      \"Doll_Shr\",\"Doll_Shr_Chg\",\"Base_Doll_Shr\",\"Base_Doll_Shr_Chg\",\"Incr_Doll_Shr\",\n",
    "                      \"Incr_Doll_Shr_Chg\",\"Dollars\",\"Dollars_Chg\",\"Store_Selling\",\"Store_Selling_Chg\",\n",
    "                      \"RASP\",\"RASP_Chg\",\"Base_RASP\",\"Base_Rasp_Chg\",\"RASP_Any_Promo\",\"RASP_Any_Promo_Chg\",\n",
    "                      \"Prcnt_EQUnits_Any_Promo\",\"Prcnt_EQUnits_Any_Promo_Chg\",\"QS_ACV_Chg_cum\",\"QS_ACV_cum\",\n",
    "                      \"Prcnt_ACV_TPR_Chg_cum\",\"Prcnt_ACV_TPR_cum\",\"CP_SIZE_RANGE\"\n",
    "                      ]\n",
    "UPC_Perf_BW_final=df2[final_column_sorting]\n",
    "\n",
    "\n",
    "## Adding \"Record_Id\" column\n",
    "UPC_Perf_BW_final[\"Record_ID\"]= range(1,len(UPC_Perf_BW_final)+1)"
   ]
  },
  {
   "cell_type": "code",
   "execution_count": null,
   "metadata": {
    "scrolled": true
   },
   "outputs": [],
   "source": [
    "UPC_Perf_BW_final.head(2)"
   ]
  },
  {
   "cell_type": "code",
   "execution_count": null,
   "metadata": {},
   "outputs": [],
   "source": [
    "UPC_Perf_BW_final.to_csv(path_BW+\"MSR_SKU_Summary.csv\",index=False)"
   ]
  },
  {
   "cell_type": "code",
   "execution_count": null,
   "metadata": {},
   "outputs": [],
   "source": []
  },
  {
   "cell_type": "markdown",
   "metadata": {},
   "source": [
    "## LHS"
   ]
  },
  {
   "cell_type": "code",
   "execution_count": null,
   "metadata": {},
   "outputs": [],
   "source": [
    "# path to store OuBARut files\n",
    "path_LHS=\"//falmumapp34/Nielsen Connect Transition & Maintenance (20-SCP-3650)/05. Output Data/5P Output/LHS/\""
   ]
  },
  {
   "cell_type": "code",
   "execution_count": null,
   "metadata": {},
   "outputs": [],
   "source": [
    "UPC_Monthly_LHS= UPC_Monthly[UPC_Monthly[\"ShareBasis\"]==\"LIQUID\"]\n",
    "UPC_Monthly_LHS.head(2)"
   ]
  },
  {
   "cell_type": "markdown",
   "metadata": {},
   "source": [
    "**Splitting \"Products\" column**\n",
    "\n",
    "Creating new columns **\"ShareBasis\",\"Manufacturer\",\"Franchise\",\"Brand\",\"SubBrand\"** from **\"Products\"** column by splitting "
   ]
  },
  {
   "cell_type": "code",
   "execution_count": null,
   "metadata": {
    "scrolled": true
   },
   "outputs": [],
   "source": [
    "New_Column= [\"ShareBasis\",\"Franchise\",\"Brand\",\"SubBrand\",\"Container\",\"PriceTier\",\"Form\",\"DealType\",\"Multi\",\"Size\",\"Item\",\"UPC\"]\n",
    "\n",
    "UPC_Monthly_LHS[New_Column ] = UPC_Monthly_LHS['Products'].str.split('|',n=11,expand=True)\n",
    "\n",
    "##Replacing all the None values** in columns **\"ShareBasis\",\"Manufacturer\",\"Franchise\",\"Brand\",\"SubBrand\"**\n",
    "\n",
    "UPC_Monthly_LHS[New_Column]=UPC_Monthly_LHS[New_Column].fillna(value=\"\")\n",
    "UPC_Monthly_LHS.head(3)\n",
    "\n",
    "UPC_Monthly_LHS = movecol(UPC_Monthly_LHS, \n",
    "             cols_to_move=New_Column, \n",
    "             ref_col='Markets',\n",
    "             place='After')\n",
    "UPC_Monthly_LHS.head(2)"
   ]
  },
  {
   "cell_type": "markdown",
   "metadata": {},
   "source": [
    "**Strip Columns**\n"
   ]
  },
  {
   "cell_type": "code",
   "execution_count": null,
   "metadata": {},
   "outputs": [],
   "source": [
    "cols=list(UPC_Monthly_LHS.columns[0:14])\n",
    "\n",
    "UPC_Monthly_LHS[cols]=UPC_Monthly_LHS[cols].apply(lambda x : x.str.strip())\n"
   ]
  },
  {
   "cell_type": "code",
   "execution_count": null,
   "metadata": {},
   "outputs": [],
   "source": [
    "UPC_Monthly_LHS[\"Manufacturer\"]=UPC_Monthly_LHS[\"Franchise\"]\n",
    "UPC_Monthly_LHS[\"Franchise\"]=UPC_Monthly_LHS[\"Franchise\"] + \" \"+ UPC_Monthly_LHS[\"Container\"]\n",
    "UPC_Monthly_LHS[\"Brand\"]=UPC_Monthly_LHS[\"Brand\"] + \" \"+ UPC_Monthly_LHS[\"Container\"]\n",
    "UPC_Monthly_LHS[\"SubBrand\"]=UPC_Monthly_LHS[\"SubBrand\"] + \" \"+ UPC_Monthly_LHS[\"Container\"]"
   ]
  },
  {
   "cell_type": "code",
   "execution_count": null,
   "metadata": {},
   "outputs": [],
   "source": [
    "cols=[\"Manufacturer\",\"Franchise\",\"Brand\",\"SubBrand\"]\n",
    "\n",
    "UPC_Monthly_LHS[cols]=UPC_Monthly_LHS[cols].apply(lambda x : x.str.strip())\n"
   ]
  },
  {
   "cell_type": "markdown",
   "metadata": {},
   "source": [
    "## Performance"
   ]
  },
  {
   "cell_type": "code",
   "execution_count": null,
   "metadata": {},
   "outputs": [],
   "source": [
    "UPC_Perf_LHS= UPC_Monthly_LHS.copy()"
   ]
  },
  {
   "cell_type": "markdown",
   "metadata": {},
   "source": [
    "**Market Mapping**"
   ]
  },
  {
   "cell_type": "code",
   "execution_count": null,
   "metadata": {},
   "outputs": [],
   "source": [
    "Performance_Markets_lhs=[\"Ahold\",\"Alb/Sfy\",\"BJs\",\"CVS\",\"Dollar General\",\"Family Dollar\",\"Meijer\",\"Publix\",\"Rite Aid\",\n",
    "                       \"Sams\",\"Shoprite\",\"Target\",\"US AOC\",\"US Drug\",\"US Food\",\"Walgreens\",\"Walmart\"]"
   ]
  },
  {
   "cell_type": "code",
   "execution_count": null,
   "metadata": {},
   "outputs": [],
   "source": [
    "UPC_Perf_LHS= UPC_Perf_LHS[UPC_Perf_LHS[\"Facts\"].isin(Performance_Facts)]\n",
    "UPC_Perf_LHS= UPC_Perf_LHS[UPC_Perf_LHS[\"Markets\"].isin(Performance_Markets_lhs)]\n",
    "print(UPC_Perf_LHS.shape)"
   ]
  },
  {
   "cell_type": "markdown",
   "metadata": {},
   "source": [
    "**Fact Mapping**"
   ]
  },
  {
   "cell_type": "code",
   "execution_count": null,
   "metadata": {},
   "outputs": [],
   "source": [
    "UPC_Perf_LHS[\"Facts\"].replace(Performance_Fact_Mapping,inplace=True)\n",
    "UPC_Perf_LHS.shape"
   ]
  },
  {
   "cell_type": "markdown",
   "metadata": {},
   "source": [
    "**Renaming Column**"
   ]
  },
  {
   "cell_type": "code",
   "execution_count": null,
   "metadata": {},
   "outputs": [],
   "source": [
    "UPC_Perf_LHS.columns"
   ]
  },
  {
   "cell_type": "code",
   "execution_count": null,
   "metadata": {},
   "outputs": [],
   "source": [
    "UPC_Perf_LHS.rename(columns={'Markets':'MKT', 'ShareBasis':\"CP_CATEGORY\", 'Manufacturer':\"CP_MANUFACTURER\",\n",
    "                             'Franchise':\"CP_FRANCHISE\", 'Brand':\"CP_BRAND\",'SubBrand':\"CP_SUBBRAND\",'Container':\"CP_CONTAINER\",\n",
    "                             'PriceTier':\"CP_PRICE_TIER\", 'Form':\"CP_FORM\", 'DealType':\"CP_DEAL_TYPE\",\n",
    "                             'Multi':\"CP_MULTI\", 'Size':\"TOTAL_SIZE\", 'UPC':\"PRODUCT_CODE\",\n",
    "                             'Item':\"PROD\"},inplace=True)"
   ]
  },
  {
   "cell_type": "code",
   "execution_count": null,
   "metadata": {},
   "outputs": [],
   "source": [
    "UPC_Perf_LHS.info()"
   ]
  },
  {
   "cell_type": "markdown",
   "metadata": {},
   "source": [
    "**Time Period Selection**"
   ]
  },
  {
   "cell_type": "code",
   "execution_count": null,
   "metadata": {
    "scrolled": true
   },
   "outputs": [],
   "source": [
    "Time_Period=list(UPC_Perf_LHS.columns[25:26])+list(UPC_Perf_LHS.columns[20:22])+list(UPC_Perf_LHS.columns[18:19])+list(UPC_Perf_LHS.columns[16:17])\n",
    "print(Time_Period)"
   ]
  },
  {
   "cell_type": "markdown",
   "metadata": {},
   "source": [
    "**Moving Time Period to Rows and Facts to Columns**"
   ]
  },
  {
   "cell_type": "code",
   "execution_count": null,
   "metadata": {},
   "outputs": [],
   "source": [
    "df1=pd.melt(UPC_Perf_LHS, id_vars =[\"MKT\",\"PROD\",\"PRODUCT_CODE\",\"CP_CATEGORY\",\"TOTAL_SIZE\",\"CP_MANUFACTURER\",\"CP_FRANCHISE\",\"CP_BRAND\",\"CP_SUBBRAND\",\"CP_PRICE_TIER\",\"CP_CONTAINER\",\"CP_FORM\",\"CP_DEAL_TYPE\",\"CP_MULTI\",\"Facts\"], value_vars =Time_Period,var_name=\"Time_Period\")\n",
    "\n",
    "df1[\"value\"]=df1[\"value\"].apply(pd.to_numeric)\n",
    "\n",
    "df2=df1.pivot_table(index=[\"MKT\",\"PROD\",\"PRODUCT_CODE\",\"CP_CATEGORY\",\"TOTAL_SIZE\",\"CP_MANUFACTURER\",\"CP_FRANCHISE\",\"CP_BRAND\",\"CP_SUBBRAND\",\"CP_PRICE_TIER\",\"CP_CONTAINER\",\"CP_FORM\",\"CP_DEAL_TYPE\",\"CP_MULTI\",'Time_Period'],columns='Facts')\n",
    "\n",
    "df2.columns=df2.columns.droplevel().rename(None)\n",
    "df2.reset_index(inplace =True)"
   ]
  },
  {
   "cell_type": "markdown",
   "metadata": {},
   "source": [
    "**Sorting Columns**"
   ]
  },
  {
   "cell_type": "code",
   "execution_count": null,
   "metadata": {},
   "outputs": [],
   "source": [
    "from pandas.api.types import CategoricalDtype\n",
    "\n",
    "Time_Period_order = CategoricalDtype(\n",
    "    Time_Period, \n",
    "    ordered=True\n",
    ")\n",
    "\n",
    "df2['Time_Period'] = df2['Time_Period'].astype(Time_Period_order)\n",
    "\n",
    "df2.sort_values(['MKT','PROD','Time_Period'],inplace=True)"
   ]
  },
  {
   "cell_type": "code",
   "execution_count": null,
   "metadata": {},
   "outputs": [],
   "source": [
    "final_column_sorting=[\"MKT\",\"PROD\",\"PRODUCT_CODE\",\"CP_CATEGORY\",\"TOTAL_SIZE\",\"CP_MANUFACTURER\",\"CP_FRANCHISE\",\n",
    "                      \"CP_BRAND\",\"CP_SUBBRAND\",\"CP_PRICE_TIER\",\"CP_CONTAINER\",\"CP_FORM\",\"CP_DEAL_TYPE\",\"Time_Period\",\n",
    "                      \"Doll_Shr\",\"Doll_Shr_Chg\",\"Base_Doll_Shr\",\"Base_Doll_Shr_Chg\",\"Incr_Doll_Shr\",\"Incr_Doll_Shr_Chg\",\n",
    "                      \"Dollars\",\"Dollars_Chg\",\"Store_Selling\",\"Store_Selling_Chg\",\"RASP\",\"RASP_Chg\",\"Base_RASP\",\n",
    "                      \"Base_Rasp_Chg\",\"RASP_Any_Promo\",\"RASP_Any_Promo_Chg\",\"Prcnt_EQUnits_Any_Promo\",\n",
    "                      \"Prcnt_EQUnits_Any_Promo_Chg\",\"QS_ACV_cum\",\"QS_ACV_Chg_cum\",\"Prcnt_ACV_TPR_cum\",\"Prcnt_ACV_TPR_Chg_cum\",\n",
    "                      \"CP_MULTI\"\n",
    "\n",
    "                      ]\n",
    "UPC_Perf_LHS_final=df2[final_column_sorting]\n",
    "\n",
    "\n",
    "## Adding \"Record_Id\" column\n",
    "UPC_Perf_LHS_final[\"Record_ID\"]= range(1,len(UPC_Perf_LHS_final)+1)"
   ]
  },
  {
   "cell_type": "code",
   "execution_count": null,
   "metadata": {
    "scrolled": true
   },
   "outputs": [],
   "source": [
    "UPC_Perf_LHS_final[\"PRODUCT_CODE\"]=UPC_Perf_LHS_final[\"PRODUCT_CODE\"].apply(pd.to_numeric)"
   ]
  },
  {
   "cell_type": "code",
   "execution_count": null,
   "metadata": {},
   "outputs": [],
   "source": [
    "UPC_Perf_LHS_final.to_csv(path_LHS+\"MSR_SKU_Summary.csv\",index=False)"
   ]
  },
  {
   "cell_type": "code",
   "execution_count": null,
   "metadata": {},
   "outputs": [],
   "source": []
  },
  {
   "cell_type": "markdown",
   "metadata": {},
   "source": [
    "## LDL"
   ]
  },
  {
   "cell_type": "code",
   "execution_count": null,
   "metadata": {},
   "outputs": [],
   "source": [
    "# path to store OuBARut files\n",
    "path_LDL=\"//falmumapp34/Nielsen Connect Transition & Maintenance (20-SCP-3650)/05. Output Data/5P Output/LDL/\""
   ]
  },
  {
   "cell_type": "code",
   "execution_count": null,
   "metadata": {},
   "outputs": [],
   "source": [
    "UPC_Monthly_LDL= UPC_Monthly[UPC_Monthly[\"ShareBasis\"]==\"LDL/DISHAIDS/WPS/FM/SPRAYS\"]\n",
    "UPC_Monthly_LDL.head(2)"
   ]
  },
  {
   "cell_type": "markdown",
   "metadata": {},
   "source": [
    "**Splitting \"Products\" column**\n",
    "\n",
    "Creating new columns **\"ShareBasis\",\"Manufacturer\",\"Franchise\",\"Brand\",\"SubBrand\"** from **\"Products\"** column by splitting "
   ]
  },
  {
   "cell_type": "code",
   "execution_count": null,
   "metadata": {
    "scrolled": true
   },
   "outputs": [],
   "source": [
    "New_Column= [\"ShareBasis\",\"Manufacturer\",\"Franchise\",\"Brand\",\"SubBrand\",\"SubBrand_Variant\",\"SizeRange\",\"Multi\",\"Concentrantion\",\"Item\",\"UPC\"]\n",
    "\n",
    "UPC_Monthly_LDL[New_Column ] = UPC_Monthly_LDL['Products'].str.split('|',n=10,expand=True)\n",
    "\n",
    "##Replacing all the None values** in columns **\"ShareBasis\",\"Manufacturer\",\"Franchise\",\"Brand\",\"SubBrand\"**\n",
    "\n",
    "UPC_Monthly_LDL[New_Column]=UPC_Monthly_LDL[New_Column].fillna(value=\"\")\n",
    "UPC_Monthly_LDL.head(3)\n",
    "\n",
    "UPC_Monthly_LDL = movecol(UPC_Monthly_LDL, \n",
    "             cols_to_move=New_Column, \n",
    "             ref_col='Markets',\n",
    "             place='After')\n",
    "UPC_Monthly_LDL.head(2)"
   ]
  },
  {
   "cell_type": "code",
   "execution_count": null,
   "metadata": {},
   "outputs": [],
   "source": [
    "UPC_Monthly_LDL[\"Segment\"]= \"LDL+FOAM\""
   ]
  },
  {
   "cell_type": "markdown",
   "metadata": {},
   "source": [
    "**Strip Columns**\n"
   ]
  },
  {
   "cell_type": "code",
   "execution_count": null,
   "metadata": {},
   "outputs": [],
   "source": [
    "cols=list(UPC_Monthly_LDL.columns[0:14])\n",
    "\n",
    "UPC_Monthly_LDL[cols]=UPC_Monthly_LDL[cols].apply(lambda x : x.str.strip())\n"
   ]
  },
  {
   "cell_type": "markdown",
   "metadata": {},
   "source": [
    "## Performance"
   ]
  },
  {
   "cell_type": "code",
   "execution_count": null,
   "metadata": {},
   "outputs": [],
   "source": [
    "UPC_Perf_LDL= UPC_Monthly_LDL.copy()"
   ]
  },
  {
   "cell_type": "code",
   "execution_count": null,
   "metadata": {},
   "outputs": [],
   "source": [
    "UPC_Perf_LDL= UPC_Perf_LDL[UPC_Perf_LDL[\"Facts\"].isin(Performance_Facts)]\n",
    "UPC_Perf_LDL= UPC_Perf_LDL[UPC_Perf_LDL[\"Markets\"].isin(Performance_Markets)]\n",
    "print(UPC_Perf_LDL.shape)"
   ]
  },
  {
   "cell_type": "markdown",
   "metadata": {},
   "source": [
    "**Fact Mapping**"
   ]
  },
  {
   "cell_type": "code",
   "execution_count": null,
   "metadata": {},
   "outputs": [],
   "source": [
    "UPC_Perf_LDL[\"Facts\"].replace(Performance_Fact_Mapping,inplace=True)\n",
    "UPC_Perf_LDL.shape"
   ]
  },
  {
   "cell_type": "markdown",
   "metadata": {},
   "source": [
    "**Renaming Column**"
   ]
  },
  {
   "cell_type": "code",
   "execution_count": null,
   "metadata": {},
   "outputs": [],
   "source": [
    "UPC_Perf_LDL.columns"
   ]
  },
  {
   "cell_type": "code",
   "execution_count": null,
   "metadata": {},
   "outputs": [],
   "source": [
    "UPC_Perf_LDL.rename(columns={'Markets':\"MKT\", 'ShareBasis':\"CP_CATEGORY\", 'Manufacturer':'CP_MANUFACTURER',\n",
    "                             'Franchise':\"CP_FRANCHISE\", 'Brand':\"CP_BRAND\",\n",
    "                             'SubBrand':\"CP_SUBBRAND\", 'SubBrand_Variant':\"CP_SUBBRAND_VARIANT\", \n",
    "                             'SizeRange':\"CP_SIZE_RANGE\", 'Multi':\"CP_MULTI\", 'Concentrantion':\"CP_CONCENTRATION\",\n",
    "                             'UPC':\"PRODUCT_CODE\", 'Item':\"PROD\"},inplace=True)"
   ]
  },
  {
   "cell_type": "markdown",
   "metadata": {},
   "source": [
    "**Adding ExtraColumn**"
   ]
  },
  {
   "cell_type": "code",
   "execution_count": null,
   "metadata": {},
   "outputs": [],
   "source": [
    "UPC_Perf_LDL[\"Dummy1\"]=\"Dummy\""
   ]
  },
  {
   "cell_type": "code",
   "execution_count": null,
   "metadata": {},
   "outputs": [],
   "source": [
    "UPC_Perf_LDL.info()"
   ]
  },
  {
   "cell_type": "markdown",
   "metadata": {},
   "source": [
    "**Time Period Selection**"
   ]
  },
  {
   "cell_type": "code",
   "execution_count": null,
   "metadata": {
    "scrolled": true
   },
   "outputs": [],
   "source": [
    "Time_Period=list(UPC_Perf_LDL.columns[31:32])+list(UPC_Perf_LDL.columns[21:23])+list(UPC_Perf_LDL.columns[19:20])+list(UPC_Perf_LDL.columns[15:16])\n",
    "print(Time_Period)"
   ]
  },
  {
   "cell_type": "markdown",
   "metadata": {},
   "source": [
    "**Moving Time Period to Rows and Facts to Columns**"
   ]
  },
  {
   "cell_type": "code",
   "execution_count": null,
   "metadata": {},
   "outputs": [],
   "source": [
    "df1=pd.melt(UPC_Perf_LDL, id_vars =[\"MKT\",\"PROD\",\"PRODUCT_CODE\",\"CP_CATEGORY\",\"CP_CONCENTRATION\",\"CP_MANUFACTURER\",\"CP_FRANCHISE\",\"CP_BRAND\",\"CP_SUBBRAND\",\"CP_SUBBRAND_VARIANT\",\"CP_MULTI\",\"CP_SIZE_RANGE\",\"Dummy1\",\"Facts\"], value_vars =Time_Period,var_name=\"Time_Period\")\n",
    "\n",
    "df1[\"value\"]=df1[\"value\"].apply(pd.to_numeric)\n",
    "\n",
    "df2=df1.pivot_table(index=[\"MKT\",\"PROD\",\"PRODUCT_CODE\",\"CP_CATEGORY\",\"CP_CONCENTRATION\",\"CP_MANUFACTURER\",\"CP_FRANCHISE\",\"CP_BRAND\",\"CP_SUBBRAND\",\"CP_SUBBRAND_VARIANT\",\"CP_MULTI\",\"CP_SIZE_RANGE\",\"Dummy1\",'Time_Period'],columns='Facts')\n",
    "\n",
    "df2.columns=df2.columns.droplevel().rename(None)\n",
    "df2.reset_index(inplace =True)"
   ]
  },
  {
   "cell_type": "markdown",
   "metadata": {},
   "source": [
    "**Sorting Columns**"
   ]
  },
  {
   "cell_type": "code",
   "execution_count": null,
   "metadata": {},
   "outputs": [],
   "source": [
    "from pandas.api.types import CategoricalDtype\n",
    "\n",
    "Time_Period_order = CategoricalDtype(\n",
    "    Time_Period, \n",
    "    ordered=True\n",
    ")\n",
    "\n",
    "df2['Time_Period'] = df2['Time_Period'].astype(Time_Period_order)\n",
    "\n",
    "df2.sort_values(['MKT','PROD','Time_Period'],inplace=True)"
   ]
  },
  {
   "cell_type": "code",
   "execution_count": null,
   "metadata": {},
   "outputs": [],
   "source": [
    "final_column_sorting=[\"MKT\",\"PROD\",\"PRODUCT_CODE\",\"CP_CATEGORY\",\"CP_CONCENTRATION\",\"CP_MANUFACTURER\",\"CP_FRANCHISE\",\n",
    "                      \"CP_BRAND\",\"CP_SUBBRAND\",\"CP_SUBBRAND_VARIANT\",\"CP_MULTI\",\"CP_SIZE_RANGE\",\"Dummy1\",\"Time_Period\",\n",
    "                      \"Doll_Shr\",\"Doll_Shr_Chg\",\"Base_Doll_Shr\",\"Base_Doll_Shr_Chg\",\"Incr_Doll_Shr\",\"Incr_Doll_Shr_Chg\",\n",
    "                      \"Dollars\",\"Dollars_Chg\",\"Store_Selling\",\"Store_Selling_Chg\",\"RASP\",\"RASP_Chg\",\"Base_RASP\",\n",
    "                      \"Base_Rasp_Chg\",\"RASP_Any_Promo\",\"RASP_Any_Promo_Chg\",\"Prcnt_EQUnits_Any_Promo\",\n",
    "                      \"Prcnt_EQUnits_Any_Promo_Chg\",\"QS_ACV_cum\",\"QS_ACV_Chg_cum\",\"Prcnt_ACV_TPR_cum\",\"Prcnt_ACV_TPR_Chg_cum\",\n",
    "                       ]\n",
    "UPC_Perf_LDL_final=df2[final_column_sorting]\n",
    "\n",
    "\n",
    "## Adding \"Record_Id\" column\n",
    "UPC_Perf_LDL_final[\"Record_ID\"]= range(1,len(UPC_Perf_LDL_final)+1)"
   ]
  },
  {
   "cell_type": "code",
   "execution_count": null,
   "metadata": {
    "scrolled": false
   },
   "outputs": [],
   "source": [
    "UPC_Perf_LDL_final.head(2)"
   ]
  },
  {
   "cell_type": "code",
   "execution_count": null,
   "metadata": {},
   "outputs": [],
   "source": [
    "UPC_Perf_LDL_final.to_csv(path_LDL+\"MSR_SKU_Summary.csv\",index=False)"
   ]
  },
  {
   "cell_type": "markdown",
   "metadata": {},
   "source": [
    "## FS"
   ]
  },
  {
   "cell_type": "code",
   "execution_count": null,
   "metadata": {},
   "outputs": [],
   "source": [
    "# path to store OuFSut files\n",
    "path_FS=\"//falmumapp34/Nielsen Connect Transition & Maintenance (20-SCP-3650)/05. Output Data/5P Output/FS/\""
   ]
  },
  {
   "cell_type": "code",
   "execution_count": null,
   "metadata": {},
   "outputs": [],
   "source": [
    "set(UPC_Monthly[\"ShareBasis\"])"
   ]
  },
  {
   "cell_type": "code",
   "execution_count": null,
   "metadata": {},
   "outputs": [],
   "source": [
    "UPC_Monthly_FS= UPC_Monthly[UPC_Monthly[\"ShareBasis\"].isin(['SHEETS', 'SCENT BOOSTERS','BEAD FS', 'FABRIC SOFTENERS', 'LIQUID FS'])]"
   ]
  },
  {
   "cell_type": "code",
   "execution_count": null,
   "metadata": {},
   "outputs": [],
   "source": [
    "UPC_Monthly_FS.shape"
   ]
  },
  {
   "cell_type": "markdown",
   "metadata": {},
   "source": [
    "**Splitting \"Products\" column**\n",
    "\n",
    "Creating 5 new columns **\"ShareBasis\",\"Manufacturer\",\"Franchise\",\"Brand\",\"SubBrand\"** from **\"Products\"** column by splitting "
   ]
  },
  {
   "cell_type": "code",
   "execution_count": null,
   "metadata": {
    "scrolled": true
   },
   "outputs": [],
   "source": [
    "New_Columns=[\"ShareBasis\",\"Manufacturer\",\"Franchise\",\"Brand\",\"Size\",\"Item\",\"UPC\"]\n",
    "\n",
    "UPC_Monthly_FS[New_Columns] = UPC_Monthly_FS['Products'].str.split('|',n=6,expand=True)\n",
    "\n",
    "UPC_Monthly_FS[New_Columns]=UPC_Monthly_FS[New_Columns].fillna(value=\"\")\n",
    "\n",
    "UPC_Monthly_FS = movecol(UPC_Monthly_FS, \n",
    "             cols_to_move=New_Columns, \n",
    "             ref_col='Markets',\n",
    "             place='After')\n",
    "UPC_Monthly_FS.head(3)"
   ]
  },
  {
   "cell_type": "code",
   "execution_count": null,
   "metadata": {},
   "outputs": [],
   "source": [
    "set(UPC_Monthly[\"ShareBasis\"])"
   ]
  },
  {
   "cell_type": "markdown",
   "metadata": {},
   "source": [
    "**Strip Columns**\n",
    "\n",
    "Strip starting 8 columns "
   ]
  },
  {
   "cell_type": "code",
   "execution_count": null,
   "metadata": {},
   "outputs": [],
   "source": [
    "cols=list(UPC_Monthly_FS.columns[0:9])"
   ]
  },
  {
   "cell_type": "code",
   "execution_count": null,
   "metadata": {},
   "outputs": [],
   "source": [
    "UPC_Monthly_FS[cols]=UPC_Monthly_FS[cols].apply(lambda x : x.str.strip())"
   ]
  },
  {
   "cell_type": "code",
   "execution_count": null,
   "metadata": {},
   "outputs": [],
   "source": [
    "UPC_Monthly_FS__strip_copy=UPC_Monthly_FS.copy()"
   ]
  },
  {
   "cell_type": "markdown",
   "metadata": {},
   "source": [
    " "
   ]
  },
  {
   "cell_type": "markdown",
   "metadata": {},
   "source": [
    "## Performance"
   ]
  },
  {
   "cell_type": "code",
   "execution_count": null,
   "metadata": {},
   "outputs": [],
   "source": [
    "UPC_Perf_FS= UPC_Monthly_FS.copy()"
   ]
  },
  {
   "cell_type": "markdown",
   "metadata": {},
   "source": [
    "**Market Mapping**"
   ]
  },
  {
   "cell_type": "code",
   "execution_count": null,
   "metadata": {},
   "outputs": [],
   "source": [
    "Performance_Markets=[\"BJs\",\"CVS\",\"Dollar General\",\"El Super\",\"Family Dollar\",\"Kmart\",\"Publix\",\"Rite Aid\",\n",
    "                      \"Sams\",\"Target\",\"US AOC\",\"US Drug\",\"US Food\",\"Walgreens\",\"Walmart\"]"
   ]
  },
  {
   "cell_type": "code",
   "execution_count": null,
   "metadata": {},
   "outputs": [],
   "source": [
    "UPC_Perf_FS= UPC_Perf_FS[UPC_Perf_FS[\"Facts\"].isin(Performance_Facts)]\n",
    "UPC_Perf_FS= UPC_Perf_FS[UPC_Perf_FS[\"Markets\"].isin(Performance_Markets)]"
   ]
  },
  {
   "cell_type": "code",
   "execution_count": null,
   "metadata": {},
   "outputs": [],
   "source": [
    "print(len(Performance_Markets),len(set(UPC_Perf_FS[\"Markets\"])))"
   ]
  },
  {
   "cell_type": "code",
   "execution_count": null,
   "metadata": {},
   "outputs": [],
   "source": [
    "print(len(Performance_Facts),len(set(UPC_Perf_FS[\"Facts\"])))"
   ]
  },
  {
   "cell_type": "code",
   "execution_count": null,
   "metadata": {},
   "outputs": [],
   "source": [
    "UPC_Perf_FS.shape"
   ]
  },
  {
   "cell_type": "markdown",
   "metadata": {},
   "source": [
    "**Fact Mapping**"
   ]
  },
  {
   "cell_type": "code",
   "execution_count": null,
   "metadata": {},
   "outputs": [],
   "source": [
    "UPC_Perf_FS[\"Facts\"].replace(Performance_Fact_Mapping,inplace=True)"
   ]
  },
  {
   "cell_type": "code",
   "execution_count": null,
   "metadata": {
    "scrolled": false
   },
   "outputs": [],
   "source": [
    "UPC_Perf_FS.head(2)"
   ]
  },
  {
   "cell_type": "code",
   "execution_count": null,
   "metadata": {},
   "outputs": [],
   "source": [
    "UPC_Perf_FS.shape"
   ]
  },
  {
   "cell_type": "markdown",
   "metadata": {},
   "source": [
    "**Column name Change**"
   ]
  },
  {
   "cell_type": "code",
   "execution_count": null,
   "metadata": {},
   "outputs": [],
   "source": [
    "UPC_Perf_FS.columns"
   ]
  },
  {
   "cell_type": "code",
   "execution_count": null,
   "metadata": {},
   "outputs": [],
   "source": [
    "UPC_Perf_FS.rename(columns={'Markets':\"MKT\", 'ShareBasis':\"CP_SHARE_BASIS\", 'Manufacturer':\"CP_MANUFACTURER\",\n",
    "                            'Franchise':\"CP_FRANCHISE\", 'Brand':\"CP_BRAND\", 'Size':\"CP_SIZE_RANGE\",\n",
    "                            'Item':\"PROD\", 'UPC':\"PRODUCT_CODE\"},inplace=True)"
   ]
  },
  {
   "cell_type": "code",
   "execution_count": null,
   "metadata": {},
   "outputs": [],
   "source": [
    "UPC_Perf_FS[\"CP_SEGMENT\"]=UPC_Perf_FS[\"CP_SHARE_BASIS\"]\n",
    "UPC_Perf_FS[\"CP_CATEGORY\"]=\"FABRIC SOFTENERS\"\n",
    "UPC_Perf_FS[[\"Dummy1\",\"Dummy2\",\"Dummy3\",\"Dummy4\"]]=\"Dummy\""
   ]
  },
  {
   "cell_type": "code",
   "execution_count": null,
   "metadata": {
    "scrolled": false
   },
   "outputs": [],
   "source": [
    "UPC_Perf_FS.head(2)"
   ]
  },
  {
   "cell_type": "code",
   "execution_count": null,
   "metadata": {},
   "outputs": [],
   "source": [
    "UPC_Perf_FS.info()"
   ]
  },
  {
   "cell_type": "code",
   "execution_count": null,
   "metadata": {
    "scrolled": true
   },
   "outputs": [],
   "source": [
    "Time_Period=list(UPC_Perf_FS.columns[22:23])+list(UPC_Perf_FS.columns[17:19])+list(UPC_Perf_FS.columns[15:16])+list(UPC_Perf_FS.columns[11:12])\n",
    "print(Time_Period)"
   ]
  },
  {
   "cell_type": "code",
   "execution_count": null,
   "metadata": {},
   "outputs": [],
   "source": [
    "UPC_Perf_FS.shape"
   ]
  },
  {
   "cell_type": "markdown",
   "metadata": {},
   "source": [
    "**Moving Time Period to Rows and Facts to Columns**"
   ]
  },
  {
   "cell_type": "code",
   "execution_count": null,
   "metadata": {},
   "outputs": [],
   "source": [
    "df1=pd.melt(UPC_Perf_FS, id_vars =[\"MKT\",\"PROD\",\"PRODUCT_CODE\",\"CP_CATEGORY\",\"CP_SEGMENT\",\"CP_MANUFACTURER\",\"CP_FRANCHISE\",\"CP_BRAND\",\"Dummy1\",\"Dummy2\",\"Dummy3\",\"Dummy4\",\"CP_SIZE_RANGE\",\"CP_SHARE_BASIS\",\"Facts\"], value_vars =Time_Period,var_name=\"Time_Period\")\n",
    "\n",
    "df1[\"value\"]=df1[\"value\"].apply(pd.to_numeric)"
   ]
  },
  {
   "cell_type": "code",
   "execution_count": null,
   "metadata": {},
   "outputs": [],
   "source": [
    "df2=df1.pivot_table(index=[\"MKT\",\"PROD\",\"PRODUCT_CODE\",\"CP_CATEGORY\",\"CP_SEGMENT\",\"CP_MANUFACTURER\",\"CP_FRANCHISE\",\"CP_BRAND\",\"Dummy1\",\"Dummy2\",\"Dummy3\",\"Dummy4\",\"CP_SIZE_RANGE\",\"CP_SHARE_BASIS\",'Time_Period'],columns='Facts')\n",
    "\n",
    "df2.columns=df2.columns.droplevel().rename(None)\n",
    "df2.reset_index(inplace =True)"
   ]
  },
  {
   "cell_type": "code",
   "execution_count": null,
   "metadata": {},
   "outputs": [],
   "source": [
    "from pandas.api.types import CategoricalDtype\n",
    "\n",
    "Time_Period_order = CategoricalDtype(\n",
    "    Time_Period, \n",
    "    ordered=True\n",
    ")\n",
    "\n",
    "df2['Time_Period'] = df2['Time_Period'].astype(Time_Period_order)\n",
    "\n",
    "df2.sort_values(['MKT',\"CP_SHARE_BASIS\",'PROD',\"PRODUCT_CODE\",'Time_Period'],inplace=True)"
   ]
  },
  {
   "cell_type": "code",
   "execution_count": null,
   "metadata": {
    "scrolled": false
   },
   "outputs": [],
   "source": [
    "df2.head(2)"
   ]
  },
  {
   "cell_type": "code",
   "execution_count": null,
   "metadata": {
    "scrolled": false
   },
   "outputs": [],
   "source": [
    "df2.rename(columns={'RASP_Chg':'Rasp_Chg'},inplace=True)\n",
    "\n",
    "final_column_sorting=[\"MKT\",\"PROD\",\"PRODUCT_CODE\",\"CP_CATEGORY\",\"CP_SEGMENT\",\"CP_MANUFACTURER\",\"CP_FRANCHISE\",\"CP_BRAND\",\n",
    "                      \"Dummy1\",\"Dummy2\",\"Dummy3\",\"Dummy4\",\"CP_SIZE_RANGE\",\"Time_Period\",\n",
    "                      \"Doll_Shr\",\"Doll_Shr_Chg\",\"Base_Doll_Shr\",\"Base_Doll_Shr_Chg\",\"Incr_Doll_Shr\",\"Incr_Doll_Shr_Chg\",\n",
    "                      \"Dollars\",\"Dollars_Chg\",\"Store_Selling\",\"Store_Selling_Chg\",\"RASP\",\"Rasp_Chg\",\"Base_RASP\",\n",
    "                      \"Base_Rasp_Chg\",\"RASP_Any_Promo\",\"RASP_Any_Promo_Chg\",\"Prcnt_EQUnits_Any_Promo\",\n",
    "                      \"Prcnt_EQUnits_Any_Promo_Chg\",\"QS_ACV_cum\",\"QS_ACV_Chg_cum\",\"Prcnt_ACV_TPR_cum\",\n",
    "                      \"Prcnt_ACV_TPR_Chg_cum\",\"CP_SHARE_BASIS\"\n",
    "                      ]\n",
    "UPC_Perf_FS_final=df2[final_column_sorting]\n",
    "\n",
    "\n",
    "## Adding \"Record_Id\" column\n",
    "UPC_Perf_FS_final[\"Record_ID\"]= range(1,len(UPC_Perf_FS_final)+1)"
   ]
  },
  {
   "cell_type": "code",
   "execution_count": null,
   "metadata": {
    "scrolled": true
   },
   "outputs": [],
   "source": [
    "UPC_Perf_FS_final.head(2)"
   ]
  },
  {
   "cell_type": "code",
   "execution_count": null,
   "metadata": {},
   "outputs": [],
   "source": [
    "# UPC_Perf_FS_final[\"PRODUCT_CODE\"]=UPC_Perf_FS_final[\"PRODUCT_CODE\"].apply(pd.to_numeric)"
   ]
  },
  {
   "cell_type": "code",
   "execution_count": null,
   "metadata": {},
   "outputs": [],
   "source": [
    "UPC_Perf_FS_final[\"CP_SHARE_BASIS\"]=UPC_Perf_FS_final[\"CP_SHARE_BASIS\"].str.replace('FABRIC SOFTENERS','TOTAL FS')"
   ]
  },
  {
   "cell_type": "code",
   "execution_count": null,
   "metadata": {},
   "outputs": [],
   "source": [
    "set(UPC_Perf_FS_final[\"CP_SHARE_BASIS\"])"
   ]
  },
  {
   "cell_type": "code",
   "execution_count": null,
   "metadata": {},
   "outputs": [],
   "source": [
    "UPC_Perf_FS_final.to_csv(path_FS+\"MSR_SKU_Summary.csv\",index=False)"
   ]
  },
  {
   "cell_type": "code",
   "execution_count": null,
   "metadata": {},
   "outputs": [],
   "source": []
  },
  {
   "cell_type": "markdown",
   "metadata": {},
   "source": [
    "## HHC"
   ]
  },
  {
   "cell_type": "code",
   "execution_count": 55,
   "metadata": {},
   "outputs": [],
   "source": [
    "# path to store OuHHCut files\n",
    "path_HHC=\"//falmumapp34/Nielsen Connect Transition & Maintenance (20-SCP-3650)/05. Output Data/5P Output/HHC/\""
   ]
  },
  {
   "cell_type": "code",
   "execution_count": 56,
   "metadata": {},
   "outputs": [
    {
     "data": {
      "text/plain": [
       "{'ABRASIVE', 'APC+WW', 'POUR APC+WW', 'WOOD'}"
      ]
     },
     "execution_count": 56,
     "metadata": {},
     "output_type": "execute_result"
    }
   ],
   "source": [
    "set(UPC_Monthly[\"ShareBasis\"])"
   ]
  },
  {
   "cell_type": "markdown",
   "metadata": {},
   "source": [
    "**Splitting \"Products\" column**"
   ]
  },
  {
   "cell_type": "code",
   "execution_count": 57,
   "metadata": {
    "scrolled": true
   },
   "outputs": [],
   "source": [
    "UPC_Monthly_HHC_1= UPC_Monthly[UPC_Monthly[\"ShareBasis\"].isin(['ABRASIVE'])]\n",
    "\n",
    "New_Columns=[\"ShareBasis\",\"FORM\",\"Use\",\"Manufacturer\",\"Franchise\",\"Brand\",\"SubBrandVarinat\",\"Size\",\"Item\",\"UPC\"]\n",
    "\n",
    "UPC_Monthly_HHC_1[New_Columns] = UPC_Monthly_HHC_1['Products'].str.split('|',n=9,expand=True)\n",
    "\n",
    "UPC_Monthly_HHC_1[New_Columns]=UPC_Monthly_HHC_1[New_Columns].fillna(value=\"\")\n",
    "\n",
    "UPC_Monthly_HHC_1 = movecol(UPC_Monthly_HHC_1, \n",
    "             cols_to_move=New_Columns, \n",
    "             ref_col='Markets',\n",
    "             place='After')\n"
   ]
  },
  {
   "cell_type": "code",
   "execution_count": 58,
   "metadata": {},
   "outputs": [],
   "source": [
    "UPC_Monthly_HHC_2= UPC_Monthly[UPC_Monthly[\"ShareBasis\"].isin(['APC+WW'])]\n",
    "\n",
    "New_Columns=[\"ShareBasis\",\"FORM\",\"Manufacturer\",\"Franchise\",\"Brand\",\"SubBrandVarinat\",\"Size\",\"Item\",\"UPC\",\"Use\"]\n",
    "\n",
    "UPC_Monthly_HHC_2[New_Columns] = UPC_Monthly_HHC_2['Products'].str.split('|',n=9,expand=True)\n",
    "\n",
    "UPC_Monthly_HHC_2[New_Columns]=UPC_Monthly_HHC_2[New_Columns].fillna(value=\"\")\n",
    "\n",
    "UPC_Monthly_HHC_2 = movecol(UPC_Monthly_HHC_2, \n",
    "             cols_to_move=New_Columns, \n",
    "             ref_col='Markets',\n",
    "             place='After')"
   ]
  },
  {
   "cell_type": "code",
   "execution_count": 59,
   "metadata": {},
   "outputs": [],
   "source": [
    "UPC_Monthly_HHC_3= UPC_Monthly[UPC_Monthly[\"ShareBasis\"].isin(['POUR APC+WW'])]\n",
    "\n",
    "New_Columns=[\"ShareBasis\",\"Use\",\"Manufacturer\",\"Franchise\",\"Brand\",\"SubBrandVarinat\",\"Size\",\"Item\",\"UPC\"]\n",
    "\n",
    "UPC_Monthly_HHC_3[New_Columns] = UPC_Monthly_HHC_3['Products'].str.split('|',n=8,expand=True)\n",
    "\n",
    "UPC_Monthly_HHC_3[\"FORM\"]=UPC_Monthly_HHC_3[\"ShareBasis\"]\n",
    "\n",
    "UPC_Monthly_HHC_3[New_Columns]=UPC_Monthly_HHC_3[New_Columns].fillna(value=\"\")\n",
    "\n",
    "UPC_Monthly_HHC_3 = movecol(UPC_Monthly_HHC_3, \n",
    "             cols_to_move=New_Columns, \n",
    "             ref_col='Markets',\n",
    "             place='After')"
   ]
  },
  {
   "cell_type": "code",
   "execution_count": 60,
   "metadata": {},
   "outputs": [],
   "source": [
    "UPC_Monthly_HHC_4= UPC_Monthly[UPC_Monthly[\"ShareBasis\"].isin(['WOOD'])]\n",
    "\n",
    "New_Columns=[\"ShareBasis\",\"FORM\",\"Manufacturer\",\"Franchise\",\"Brand\",\"SubBrandVarinat\",\"Size\",\"Item\",\"UPC\"]\n",
    "\n",
    "UPC_Monthly_HHC_4[New_Columns] = UPC_Monthly_HHC_4['Products'].str.split('|',n=8,expand=True)\n",
    "\n",
    "UPC_Monthly_HHC_4[\"Use\"]=UPC_Monthly_HHC_4[\"ShareBasis\"]\n",
    "\n",
    "UPC_Monthly_HHC_4[New_Columns]=UPC_Monthly_HHC_4[New_Columns].fillna(value=\"\")\n",
    "\n",
    "UPC_Monthly_HHC_4 = movecol(UPC_Monthly_HHC_4, \n",
    "             cols_to_move=New_Columns, \n",
    "             ref_col='Markets',\n",
    "             place='After')"
   ]
  },
  {
   "cell_type": "code",
   "execution_count": 61,
   "metadata": {},
   "outputs": [],
   "source": [
    "UPC_Monthly_HHC=pd.concat([UPC_Monthly_HHC_1,UPC_Monthly_HHC_2,UPC_Monthly_HHC_3,UPC_Monthly_HHC_4],axis=0)"
   ]
  },
  {
   "cell_type": "code",
   "execution_count": 62,
   "metadata": {},
   "outputs": [
    {
     "data": {
      "text/plain": [
       "{'ABRASIVE ', 'APC+WW ', 'POUR APC+WW ', 'WOOD '}"
      ]
     },
     "execution_count": 62,
     "metadata": {},
     "output_type": "execute_result"
    }
   ],
   "source": [
    "set(UPC_Monthly_HHC[\"ShareBasis\"])"
   ]
  },
  {
   "cell_type": "markdown",
   "metadata": {},
   "source": [
    "**Strip Columns**\n",
    "\n",
    "Strip starting 8 columns "
   ]
  },
  {
   "cell_type": "code",
   "execution_count": 63,
   "metadata": {},
   "outputs": [],
   "source": [
    "cols=list(UPC_Monthly_HHC.columns[0:13])"
   ]
  },
  {
   "cell_type": "code",
   "execution_count": 64,
   "metadata": {},
   "outputs": [],
   "source": [
    "UPC_Monthly_HHC[cols]=UPC_Monthly_HHC[cols].apply(lambda x : x.str.strip())"
   ]
  },
  {
   "cell_type": "code",
   "execution_count": 65,
   "metadata": {},
   "outputs": [],
   "source": [
    "UPC_Monthly_HHC__strip_copy=UPC_Monthly_HHC.copy()"
   ]
  },
  {
   "cell_type": "markdown",
   "metadata": {},
   "source": [
    "**Renaming POUR APC+WW**"
   ]
  },
  {
   "cell_type": "code",
   "execution_count": 66,
   "metadata": {},
   "outputs": [],
   "source": [
    "UPC_Monthly_HHC[\"ShareBasis\"]=UPC_Monthly_HHC[\"ShareBasis\"].str.replace('+',\"\")\n",
    "UPC_Monthly_HHC[\"ShareBasis\"]=UPC_Monthly_HHC[\"ShareBasis\"].str.replace(' APCWW',\"\")\n",
    "UPC_Monthly_HHC[\"ShareBasis\"]=UPC_Monthly_HHC[\"ShareBasis\"].str.replace('APCWW',\"APC+WW\")\n",
    "\n",
    "UPC_Monthly_HHC[\"Products\"]=UPC_Monthly_HHC[\"Products\"].str.replace('+',\"\")\n",
    "UPC_Monthly_HHC[\"Products\"]=UPC_Monthly_HHC[\"Products\"].str.replace(' APCWW',\"\")\n",
    "UPC_Monthly_HHC[\"Products\"]=UPC_Monthly_HHC[\"Products\"].str.replace('APCWW',\"APC+WW\")"
   ]
  },
  {
   "cell_type": "code",
   "execution_count": 67,
   "metadata": {},
   "outputs": [
    {
     "data": {
      "text/plain": [
       "{'ABRASIVE', 'APC+WW', 'POUR', 'WOOD'}"
      ]
     },
     "execution_count": 67,
     "metadata": {},
     "output_type": "execute_result"
    }
   ],
   "source": [
    "set(UPC_Monthly_HHC[\"ShareBasis\"])"
   ]
  },
  {
   "cell_type": "markdown",
   "metadata": {},
   "source": [
    " "
   ]
  },
  {
   "cell_type": "markdown",
   "metadata": {},
   "source": [
    "## Performance"
   ]
  },
  {
   "cell_type": "code",
   "execution_count": 68,
   "metadata": {},
   "outputs": [],
   "source": [
    "UPC_Perf_HHC= UPC_Monthly_HHC.copy()"
   ]
  },
  {
   "cell_type": "markdown",
   "metadata": {},
   "source": [
    "**Market Mapping**"
   ]
  },
  {
   "cell_type": "code",
   "execution_count": 69,
   "metadata": {},
   "outputs": [],
   "source": [
    "Performance_Markets=[\"BJs\",\"CVS\",\"Dollar General\",\"Family Dollar\",\"Fiesta\",\"Kmart\",\"Publix\",\n",
    "              \"Rite Aid\",\"Sams\",\"Target\",\"US AOC\",\"US Drug\",\"US Food\",\"Walgreens\",\"Walmart\"]"
   ]
  },
  {
   "cell_type": "code",
   "execution_count": 70,
   "metadata": {},
   "outputs": [],
   "source": [
    "UPC_Perf_HHC= UPC_Perf_HHC[UPC_Perf_HHC[\"Facts\"].isin(Performance_Facts)]\n",
    "UPC_Perf_HHC= UPC_Perf_HHC[UPC_Perf_HHC[\"Markets\"].isin(Performance_Markets)]"
   ]
  },
  {
   "cell_type": "code",
   "execution_count": 71,
   "metadata": {},
   "outputs": [
    {
     "name": "stdout",
     "output_type": "stream",
     "text": [
      "Missing Markets -> 0 Missing Factss -> 0\n"
     ]
    }
   ],
   "source": [
    "print(\"Missing Markets ->\",len(Performance_Markets)-len(set(UPC_Perf_HHC[\"Markets\"])),\"Missing Factss ->\",len(Performance_Facts)-len(set(UPC_Perf_HHC[\"Facts\"])))"
   ]
  },
  {
   "cell_type": "code",
   "execution_count": 72,
   "metadata": {},
   "outputs": [
    {
     "data": {
      "text/plain": [
       "(48304, 45)"
      ]
     },
     "execution_count": 72,
     "metadata": {},
     "output_type": "execute_result"
    }
   ],
   "source": [
    "UPC_Perf_HHC.shape"
   ]
  },
  {
   "cell_type": "markdown",
   "metadata": {},
   "source": [
    "**Fact Mapping**"
   ]
  },
  {
   "cell_type": "code",
   "execution_count": 73,
   "metadata": {},
   "outputs": [],
   "source": [
    "UPC_Perf_HHC[\"Facts\"].replace(Performance_Fact_Mapping,inplace=True)"
   ]
  },
  {
   "cell_type": "code",
   "execution_count": 74,
   "metadata": {
    "scrolled": false
   },
   "outputs": [
    {
     "data": {
      "text/html": [
       "<div>\n",
       "<style scoped>\n",
       "    .dataframe tbody tr th:only-of-type {\n",
       "        vertical-align: middle;\n",
       "    }\n",
       "\n",
       "    .dataframe tbody tr th {\n",
       "        vertical-align: top;\n",
       "    }\n",
       "\n",
       "    .dataframe thead th {\n",
       "        text-align: right;\n",
       "    }\n",
       "</style>\n",
       "<table border=\"1\" class=\"dataframe\">\n",
       "  <thead>\n",
       "    <tr style=\"text-align: right;\">\n",
       "      <th></th>\n",
       "      <th>Markets</th>\n",
       "      <th>ShareBasis</th>\n",
       "      <th>FORM</th>\n",
       "      <th>Use</th>\n",
       "      <th>Manufacturer</th>\n",
       "      <th>Franchise</th>\n",
       "      <th>Brand</th>\n",
       "      <th>SubBrandVarinat</th>\n",
       "      <th>Size</th>\n",
       "      <th>Item</th>\n",
       "      <th>...</th>\n",
       "      <th>5 W/E 10/03/2020</th>\n",
       "      <th>4 W/E 08/29/2020</th>\n",
       "      <th>4 W/E 08/01/2020</th>\n",
       "      <th>5 W/E 07/04/2020</th>\n",
       "      <th>4 W/E 05/30/2020</th>\n",
       "      <th>4 W/E 05/02/2020</th>\n",
       "      <th>5 W/E 04/04/2020</th>\n",
       "      <th>4 W/E 02/29/2020</th>\n",
       "      <th>4 W/E 02/01/2020</th>\n",
       "      <th>Key</th>\n",
       "    </tr>\n",
       "  </thead>\n",
       "  <tbody>\n",
       "    <tr>\n",
       "      <th>0</th>\n",
       "      <td>US AOC</td>\n",
       "      <td>ABRASIVE</td>\n",
       "      <td>LIQUID</td>\n",
       "      <td>ALL PURPOSE</td>\n",
       "      <td>HENKEL</td>\n",
       "      <td>SOFT SCRUB</td>\n",
       "      <td>SOFT SCRUB</td>\n",
       "      <td>SOFT SCRUB OXI</td>\n",
       "      <td>22-28 OZ</td>\n",
       "      <td>SOFT SCRUB ALL PURPOSE CLEANSER LIQUID BOTTLE ...</td>\n",
       "      <td>...</td>\n",
       "      <td>0.0</td>\n",
       "      <td>0.0</td>\n",
       "      <td>0.0</td>\n",
       "      <td>0.0</td>\n",
       "      <td>0.0</td>\n",
       "      <td>0.0</td>\n",
       "      <td>0.0</td>\n",
       "      <td>0.0</td>\n",
       "      <td>0.0</td>\n",
       "      <td>Total US xAOCABRASIVE | LIQUID | ALL PURPOSE |...</td>\n",
       "    </tr>\n",
       "    <tr>\n",
       "      <th>2</th>\n",
       "      <td>US AOC</td>\n",
       "      <td>ABRASIVE</td>\n",
       "      <td>LIQUID</td>\n",
       "      <td>ALL PURPOSE</td>\n",
       "      <td>HENKEL</td>\n",
       "      <td>SOFT SCRUB</td>\n",
       "      <td>SOFT SCRUB</td>\n",
       "      <td>SOFT SCRUB OXI</td>\n",
       "      <td>22-28 OZ</td>\n",
       "      <td>SOFT SCRUB ALL PURPOSE CLEANSER LIQUID BOTTLE ...</td>\n",
       "      <td>...</td>\n",
       "      <td>0.0</td>\n",
       "      <td>0.0</td>\n",
       "      <td>0.0</td>\n",
       "      <td>0.0</td>\n",
       "      <td>0.0</td>\n",
       "      <td>0.0</td>\n",
       "      <td>0.0</td>\n",
       "      <td>0.0</td>\n",
       "      <td>0.0</td>\n",
       "      <td>Total US xAOCABRASIVE | LIQUID | ALL PURPOSE |...</td>\n",
       "    </tr>\n",
       "  </tbody>\n",
       "</table>\n",
       "<p>2 rows × 45 columns</p>\n",
       "</div>"
      ],
      "text/plain": [
       "  Markets ShareBasis    FORM          Use Manufacturer   Franchise  \\\n",
       "0  US AOC   ABRASIVE  LIQUID  ALL PURPOSE       HENKEL  SOFT SCRUB   \n",
       "2  US AOC   ABRASIVE  LIQUID  ALL PURPOSE       HENKEL  SOFT SCRUB   \n",
       "\n",
       "        Brand SubBrandVarinat      Size  \\\n",
       "0  SOFT SCRUB  SOFT SCRUB OXI  22-28 OZ   \n",
       "2  SOFT SCRUB  SOFT SCRUB OXI  22-28 OZ   \n",
       "\n",
       "                                                Item  ... 5 W/E 10/03/2020  \\\n",
       "0  SOFT SCRUB ALL PURPOSE CLEANSER LIQUID BOTTLE ...  ...              0.0   \n",
       "2  SOFT SCRUB ALL PURPOSE CLEANSER LIQUID BOTTLE ...  ...              0.0   \n",
       "\n",
       "  4 W/E 08/29/2020 4 W/E 08/01/2020 5 W/E 07/04/2020  4 W/E 05/30/2020  \\\n",
       "0              0.0              0.0              0.0               0.0   \n",
       "2              0.0              0.0              0.0               0.0   \n",
       "\n",
       "   4 W/E 05/02/2020  5 W/E 04/04/2020  4 W/E 02/29/2020  4 W/E 02/01/2020  \\\n",
       "0               0.0               0.0               0.0               0.0   \n",
       "2               0.0               0.0               0.0               0.0   \n",
       "\n",
       "                                                 Key  \n",
       "0  Total US xAOCABRASIVE | LIQUID | ALL PURPOSE |...  \n",
       "2  Total US xAOCABRASIVE | LIQUID | ALL PURPOSE |...  \n",
       "\n",
       "[2 rows x 45 columns]"
      ]
     },
     "execution_count": 74,
     "metadata": {},
     "output_type": "execute_result"
    }
   ],
   "source": [
    "UPC_Perf_HHC.head(2)"
   ]
  },
  {
   "cell_type": "code",
   "execution_count": 75,
   "metadata": {},
   "outputs": [
    {
     "data": {
      "text/plain": [
       "(48304, 45)"
      ]
     },
     "execution_count": 75,
     "metadata": {},
     "output_type": "execute_result"
    }
   ],
   "source": [
    "UPC_Perf_HHC.shape"
   ]
  },
  {
   "cell_type": "markdown",
   "metadata": {},
   "source": [
    "**Column name Change**"
   ]
  },
  {
   "cell_type": "code",
   "execution_count": 76,
   "metadata": {},
   "outputs": [
    {
     "data": {
      "text/plain": [
       "Index(['Markets', 'ShareBasis', 'FORM', 'Use', 'Manufacturer', 'Franchise',\n",
       "       'Brand', 'SubBrandVarinat', 'Size', 'Item', 'UPC', 'Category',\n",
       "       'Products', 'Facts', 'FY 2020', 'FY 2019', 'FY 2018', 'FY 2017',\n",
       "       'YTD 2021', 'YTD 2020', 'Latest 13 Weeks', 'Latest 26 Weeks', 'Q1 2021',\n",
       "       'Q4 2020', 'Q3 2020', 'Q2 2020', 'Q1 2020', 'Q4 2019', 'Q3 2019',\n",
       "       'Q2 2019', '4 W/E 02/27/2021', '4 W/E 01/30/2021', '5 W/E 01/02/2021',\n",
       "       '4 W/E 11/28/2020', '4 W/E 10/31/2020', '5 W/E 10/03/2020',\n",
       "       '4 W/E 08/29/2020', '4 W/E 08/01/2020', '5 W/E 07/04/2020',\n",
       "       '4 W/E 05/30/2020', '4 W/E 05/02/2020', '5 W/E 04/04/2020',\n",
       "       '4 W/E 02/29/2020', '4 W/E 02/01/2020', 'Key'],\n",
       "      dtype='object')"
      ]
     },
     "execution_count": 76,
     "metadata": {},
     "output_type": "execute_result"
    }
   ],
   "source": [
    "UPC_Perf_HHC.columns"
   ]
  },
  {
   "cell_type": "code",
   "execution_count": 77,
   "metadata": {},
   "outputs": [],
   "source": [
    "UPC_Perf_HHC.rename(columns={'Markets':\"MKT\", 'ShareBasis':\"CP_SHARE_BASIS\", 'FORM':\"CP_FORM\",\n",
    "                             'Use':\"CP_USE\", 'Manufacturer':\"CP_MANUFACTURER\", 'Franchise':\"CP_FRANCHISE\",\n",
    "                             'Brand':\"CP_BRAND\", 'SubBrandVarinat':\"CP_SUBBRAND_VARIANT\", 'Size':\"CP_SIZE_RANGE\",\n",
    "                             'Item':\"PROD\", 'UPC':\"PRODUCT_CODE\"},inplace=True)"
   ]
  },
  {
   "cell_type": "code",
   "execution_count": 78,
   "metadata": {},
   "outputs": [],
   "source": [
    "UPC_Perf_HHC[[\"Dummy2\",\"Dummy3\",\"Dummy4\"]]=\"Dummy\"\n"
   ]
  },
  {
   "cell_type": "code",
   "execution_count": 79,
   "metadata": {
    "scrolled": true
   },
   "outputs": [
    {
     "data": {
      "text/html": [
       "<div>\n",
       "<style scoped>\n",
       "    .dataframe tbody tr th:only-of-type {\n",
       "        vertical-align: middle;\n",
       "    }\n",
       "\n",
       "    .dataframe tbody tr th {\n",
       "        vertical-align: top;\n",
       "    }\n",
       "\n",
       "    .dataframe thead th {\n",
       "        text-align: right;\n",
       "    }\n",
       "</style>\n",
       "<table border=\"1\" class=\"dataframe\">\n",
       "  <thead>\n",
       "    <tr style=\"text-align: right;\">\n",
       "      <th></th>\n",
       "      <th>MKT</th>\n",
       "      <th>CP_SHARE_BASIS</th>\n",
       "      <th>CP_FORM</th>\n",
       "      <th>CP_USE</th>\n",
       "      <th>CP_MANUFACTURER</th>\n",
       "      <th>CP_FRANCHISE</th>\n",
       "      <th>CP_BRAND</th>\n",
       "      <th>CP_SUBBRAND_VARIANT</th>\n",
       "      <th>CP_SIZE_RANGE</th>\n",
       "      <th>PROD</th>\n",
       "      <th>...</th>\n",
       "      <th>5 W/E 07/04/2020</th>\n",
       "      <th>4 W/E 05/30/2020</th>\n",
       "      <th>4 W/E 05/02/2020</th>\n",
       "      <th>5 W/E 04/04/2020</th>\n",
       "      <th>4 W/E 02/29/2020</th>\n",
       "      <th>4 W/E 02/01/2020</th>\n",
       "      <th>Key</th>\n",
       "      <th>Dummy2</th>\n",
       "      <th>Dummy3</th>\n",
       "      <th>Dummy4</th>\n",
       "    </tr>\n",
       "  </thead>\n",
       "  <tbody>\n",
       "    <tr>\n",
       "      <th>0</th>\n",
       "      <td>US AOC</td>\n",
       "      <td>ABRASIVE</td>\n",
       "      <td>LIQUID</td>\n",
       "      <td>ALL PURPOSE</td>\n",
       "      <td>HENKEL</td>\n",
       "      <td>SOFT SCRUB</td>\n",
       "      <td>SOFT SCRUB</td>\n",
       "      <td>SOFT SCRUB OXI</td>\n",
       "      <td>22-28 OZ</td>\n",
       "      <td>SOFT SCRUB ALL PURPOSE CLEANSER LIQUID BOTTLE ...</td>\n",
       "      <td>...</td>\n",
       "      <td>0.0</td>\n",
       "      <td>0.0</td>\n",
       "      <td>0.0</td>\n",
       "      <td>0.0</td>\n",
       "      <td>0.0</td>\n",
       "      <td>0.0</td>\n",
       "      <td>Total US xAOCABRASIVE | LIQUID | ALL PURPOSE |...</td>\n",
       "      <td>Dummy</td>\n",
       "      <td>Dummy</td>\n",
       "      <td>Dummy</td>\n",
       "    </tr>\n",
       "    <tr>\n",
       "      <th>2</th>\n",
       "      <td>US AOC</td>\n",
       "      <td>ABRASIVE</td>\n",
       "      <td>LIQUID</td>\n",
       "      <td>ALL PURPOSE</td>\n",
       "      <td>HENKEL</td>\n",
       "      <td>SOFT SCRUB</td>\n",
       "      <td>SOFT SCRUB</td>\n",
       "      <td>SOFT SCRUB OXI</td>\n",
       "      <td>22-28 OZ</td>\n",
       "      <td>SOFT SCRUB ALL PURPOSE CLEANSER LIQUID BOTTLE ...</td>\n",
       "      <td>...</td>\n",
       "      <td>0.0</td>\n",
       "      <td>0.0</td>\n",
       "      <td>0.0</td>\n",
       "      <td>0.0</td>\n",
       "      <td>0.0</td>\n",
       "      <td>0.0</td>\n",
       "      <td>Total US xAOCABRASIVE | LIQUID | ALL PURPOSE |...</td>\n",
       "      <td>Dummy</td>\n",
       "      <td>Dummy</td>\n",
       "      <td>Dummy</td>\n",
       "    </tr>\n",
       "  </tbody>\n",
       "</table>\n",
       "<p>2 rows × 48 columns</p>\n",
       "</div>"
      ],
      "text/plain": [
       "      MKT CP_SHARE_BASIS CP_FORM       CP_USE CP_MANUFACTURER CP_FRANCHISE  \\\n",
       "0  US AOC       ABRASIVE  LIQUID  ALL PURPOSE          HENKEL   SOFT SCRUB   \n",
       "2  US AOC       ABRASIVE  LIQUID  ALL PURPOSE          HENKEL   SOFT SCRUB   \n",
       "\n",
       "     CP_BRAND CP_SUBBRAND_VARIANT CP_SIZE_RANGE  \\\n",
       "0  SOFT SCRUB      SOFT SCRUB OXI      22-28 OZ   \n",
       "2  SOFT SCRUB      SOFT SCRUB OXI      22-28 OZ   \n",
       "\n",
       "                                                PROD  ... 5 W/E 07/04/2020  \\\n",
       "0  SOFT SCRUB ALL PURPOSE CLEANSER LIQUID BOTTLE ...  ...              0.0   \n",
       "2  SOFT SCRUB ALL PURPOSE CLEANSER LIQUID BOTTLE ...  ...              0.0   \n",
       "\n",
       "  4 W/E 05/30/2020 4 W/E 05/02/2020 5 W/E 04/04/2020  4 W/E 02/29/2020  \\\n",
       "0              0.0              0.0              0.0               0.0   \n",
       "2              0.0              0.0              0.0               0.0   \n",
       "\n",
       "   4 W/E 02/01/2020                                                Key  \\\n",
       "0               0.0  Total US xAOCABRASIVE | LIQUID | ALL PURPOSE |...   \n",
       "2               0.0  Total US xAOCABRASIVE | LIQUID | ALL PURPOSE |...   \n",
       "\n",
       "   Dummy2  Dummy3  Dummy4  \n",
       "0   Dummy   Dummy   Dummy  \n",
       "2   Dummy   Dummy   Dummy  \n",
       "\n",
       "[2 rows x 48 columns]"
      ]
     },
     "execution_count": 79,
     "metadata": {},
     "output_type": "execute_result"
    }
   ],
   "source": [
    "UPC_Perf_HHC.head(2)"
   ]
  },
  {
   "cell_type": "code",
   "execution_count": 80,
   "metadata": {
    "scrolled": true
   },
   "outputs": [
    {
     "name": "stdout",
     "output_type": "stream",
     "text": [
      "['4 W/E 02/27/2021', 'Latest 13 Weeks', 'Latest 26 Weeks', 'YTD 2021', 'FY 2020']\n"
     ]
    }
   ],
   "source": [
    "Time_Period=list(UPC_Perf_HHC.columns[30:31])+list(UPC_Perf_HHC.columns[20:22])+list(UPC_Perf_HHC.columns[18:19])+list(UPC_Perf_HHC.columns[14:15])\n",
    "print(Time_Period)"
   ]
  },
  {
   "cell_type": "code",
   "execution_count": 81,
   "metadata": {},
   "outputs": [
    {
     "data": {
      "text/plain": [
       "(48304, 48)"
      ]
     },
     "execution_count": 81,
     "metadata": {},
     "output_type": "execute_result"
    }
   ],
   "source": [
    "UPC_Perf_HHC.shape"
   ]
  },
  {
   "cell_type": "markdown",
   "metadata": {},
   "source": [
    "**Moving Time Period to Rows and Facts to Columns**"
   ]
  },
  {
   "cell_type": "code",
   "execution_count": 82,
   "metadata": {},
   "outputs": [],
   "source": [
    "df1=pd.melt(UPC_Perf_HHC, id_vars =[\"MKT\",\"PROD\",\"PRODUCT_CODE\",\"CP_USE\",\"CP_FORM\",\"CP_MANUFACTURER\",\"CP_FRANCHISE\",\"CP_BRAND\",\"CP_SUBBRAND_VARIANT\",\"Dummy2\",\"Dummy3\",\"Dummy4\",\"CP_SIZE_RANGE\",\"CP_SHARE_BASIS\",\"Facts\"], value_vars =Time_Period,var_name=\"Time_Period\")\n",
    "\n",
    "df1[\"value\"]=df1[\"value\"].apply(pd.to_numeric)"
   ]
  },
  {
   "cell_type": "code",
   "execution_count": 83,
   "metadata": {},
   "outputs": [],
   "source": [
    "df2=df1.pivot_table(index=[\"MKT\",\"PROD\",\"PRODUCT_CODE\",\"CP_USE\",\"CP_FORM\",\"CP_MANUFACTURER\",\"CP_FRANCHISE\",\"CP_BRAND\",\"CP_SUBBRAND_VARIANT\",\"Dummy2\",\"Dummy3\",\"Dummy4\",\"CP_SIZE_RANGE\",\"CP_SHARE_BASIS\",'Time_Period'],columns='Facts')\n",
    "\n",
    "df2.columns=df2.columns.droplevel().rename(None)\n",
    "df2.reset_index(inplace =True)"
   ]
  },
  {
   "cell_type": "code",
   "execution_count": 84,
   "metadata": {},
   "outputs": [],
   "source": [
    "from pandas.api.types import CategoricalDtype\n",
    "\n",
    "Time_Period_order = CategoricalDtype(\n",
    "    Time_Period, \n",
    "    ordered=True\n",
    ")\n",
    "\n",
    "df2['Time_Period'] = df2['Time_Period'].astype(Time_Period_order)\n",
    "\n",
    "df2.sort_values(['MKT','PROD','Time_Period'],inplace=True)"
   ]
  },
  {
   "cell_type": "code",
   "execution_count": 85,
   "metadata": {
    "scrolled": false
   },
   "outputs": [
    {
     "data": {
      "text/html": [
       "<div>\n",
       "<style scoped>\n",
       "    .dataframe tbody tr th:only-of-type {\n",
       "        vertical-align: middle;\n",
       "    }\n",
       "\n",
       "    .dataframe tbody tr th {\n",
       "        vertical-align: top;\n",
       "    }\n",
       "\n",
       "    .dataframe thead th {\n",
       "        text-align: right;\n",
       "    }\n",
       "</style>\n",
       "<table border=\"1\" class=\"dataframe\">\n",
       "  <thead>\n",
       "    <tr style=\"text-align: right;\">\n",
       "      <th></th>\n",
       "      <th>MKT</th>\n",
       "      <th>PROD</th>\n",
       "      <th>PRODUCT_CODE</th>\n",
       "      <th>CP_USE</th>\n",
       "      <th>CP_FORM</th>\n",
       "      <th>CP_MANUFACTURER</th>\n",
       "      <th>CP_FRANCHISE</th>\n",
       "      <th>CP_BRAND</th>\n",
       "      <th>CP_SUBBRAND_VARIANT</th>\n",
       "      <th>Dummy2</th>\n",
       "      <th>...</th>\n",
       "      <th>Prcnt_EQUnits_Any_Promo</th>\n",
       "      <th>Prcnt_EQUnits_Any_Promo_Chg</th>\n",
       "      <th>QS_ACV_Chg_cum</th>\n",
       "      <th>QS_ACV_cum</th>\n",
       "      <th>RASP</th>\n",
       "      <th>RASP_Any_Promo</th>\n",
       "      <th>RASP_Any_Promo_Chg</th>\n",
       "      <th>RASP_Chg</th>\n",
       "      <th>Store_Selling</th>\n",
       "      <th>Store_Selling_Chg</th>\n",
       "    </tr>\n",
       "  </thead>\n",
       "  <tbody>\n",
       "    <tr>\n",
       "      <th>0</th>\n",
       "      <td>BJs</td>\n",
       "      <td>ARM &amp; HAMMER BAKING SODA SCRATCHLESS CLEANING ...</td>\n",
       "      <td>003320001192</td>\n",
       "      <td>ALL PURPOSE</td>\n",
       "      <td>POWDER</td>\n",
       "      <td>CHURCH &amp; DWIGHT</td>\n",
       "      <td>A&amp;H</td>\n",
       "      <td>A&amp;H REM</td>\n",
       "      <td>REM SUBBRAND VARIANT</td>\n",
       "      <td>Dummy</td>\n",
       "      <td>...</td>\n",
       "      <td>0.0</td>\n",
       "      <td>0.0</td>\n",
       "      <td>0.0</td>\n",
       "      <td>0.0</td>\n",
       "      <td>6.975</td>\n",
       "      <td>0.0</td>\n",
       "      <td>0.0</td>\n",
       "      <td>-0.086</td>\n",
       "      <td>99.508</td>\n",
       "      <td>0.199</td>\n",
       "    </tr>\n",
       "    <tr>\n",
       "      <th>2</th>\n",
       "      <td>BJs</td>\n",
       "      <td>ARM &amp; HAMMER BAKING SODA SCRATCHLESS CLEANING ...</td>\n",
       "      <td>003320001192</td>\n",
       "      <td>ALL PURPOSE</td>\n",
       "      <td>POWDER</td>\n",
       "      <td>CHURCH &amp; DWIGHT</td>\n",
       "      <td>A&amp;H</td>\n",
       "      <td>A&amp;H REM</td>\n",
       "      <td>REM SUBBRAND VARIANT</td>\n",
       "      <td>Dummy</td>\n",
       "      <td>...</td>\n",
       "      <td>0.0</td>\n",
       "      <td>0.0</td>\n",
       "      <td>0.0</td>\n",
       "      <td>0.0</td>\n",
       "      <td>6.980</td>\n",
       "      <td>0.0</td>\n",
       "      <td>0.0</td>\n",
       "      <td>0.043</td>\n",
       "      <td>99.812</td>\n",
       "      <td>0.545</td>\n",
       "    </tr>\n",
       "  </tbody>\n",
       "</table>\n",
       "<p>2 rows × 37 columns</p>\n",
       "</div>"
      ],
      "text/plain": [
       "   MKT                                               PROD  PRODUCT_CODE  \\\n",
       "0  BJs  ARM & HAMMER BAKING SODA SCRATCHLESS CLEANING ...  003320001192   \n",
       "2  BJs  ARM & HAMMER BAKING SODA SCRATCHLESS CLEANING ...  003320001192   \n",
       "\n",
       "        CP_USE CP_FORM  CP_MANUFACTURER CP_FRANCHISE CP_BRAND  \\\n",
       "0  ALL PURPOSE  POWDER  CHURCH & DWIGHT          A&H  A&H REM   \n",
       "2  ALL PURPOSE  POWDER  CHURCH & DWIGHT          A&H  A&H REM   \n",
       "\n",
       "    CP_SUBBRAND_VARIANT Dummy2  ... Prcnt_EQUnits_Any_Promo  \\\n",
       "0  REM SUBBRAND VARIANT  Dummy  ...                     0.0   \n",
       "2  REM SUBBRAND VARIANT  Dummy  ...                     0.0   \n",
       "\n",
       "  Prcnt_EQUnits_Any_Promo_Chg QS_ACV_Chg_cum QS_ACV_cum   RASP  \\\n",
       "0                         0.0            0.0        0.0  6.975   \n",
       "2                         0.0            0.0        0.0  6.980   \n",
       "\n",
       "   RASP_Any_Promo  RASP_Any_Promo_Chg  RASP_Chg  Store_Selling  \\\n",
       "0             0.0                 0.0    -0.086         99.508   \n",
       "2             0.0                 0.0     0.043         99.812   \n",
       "\n",
       "   Store_Selling_Chg  \n",
       "0              0.199  \n",
       "2              0.545  \n",
       "\n",
       "[2 rows x 37 columns]"
      ]
     },
     "execution_count": 85,
     "metadata": {},
     "output_type": "execute_result"
    }
   ],
   "source": [
    "df2.head(2)"
   ]
  },
  {
   "cell_type": "code",
   "execution_count": 86,
   "metadata": {
    "scrolled": false
   },
   "outputs": [],
   "source": [
    "final_column_sorting=[\"MKT\",\"PROD\",\"PRODUCT_CODE\",\"CP_USE\",\"CP_FORM\",\"CP_MANUFACTURER\",\"CP_FRANCHISE\",\"CP_BRAND\",\n",
    "                      \"CP_SUBBRAND_VARIANT\",\"Dummy2\",\"Dummy3\",\"Dummy4\",\"CP_SIZE_RANGE\",\"Time_Period\",\n",
    "                      \"Doll_Shr\",\"Doll_Shr_Chg\",\"Base_Doll_Shr\",\"Base_Doll_Shr_Chg\",\"Incr_Doll_Shr\",\"Incr_Doll_Shr_Chg\",\n",
    "                      \"Dollars\",\"Dollars_Chg\",\"Store_Selling\",\"Store_Selling_Chg\",\"RASP\",\"RASP_Chg\",\"Base_RASP\",\n",
    "                      \"Base_Rasp_Chg\",\"RASP_Any_Promo\",\"RASP_Any_Promo_Chg\",\"Prcnt_EQUnits_Any_Promo\",\n",
    "                      \"Prcnt_EQUnits_Any_Promo_Chg\",\"QS_ACV_cum\",\"QS_ACV_Chg_cum\",\"Prcnt_ACV_TPR_cum\",\n",
    "                      \"Prcnt_ACV_TPR_Chg_cum\",\"CP_SHARE_BASIS\"\n",
    "                      ]\n",
    "UPC_Perf_HHC_final=df2[final_column_sorting]\n",
    "\n",
    "\n",
    "## Adding \"Record_Id\" column\n",
    "UPC_Perf_HHC_final[\"Record_ID\"]= range(1,len(UPC_Perf_HHC_final)+1)"
   ]
  },
  {
   "cell_type": "code",
   "execution_count": 87,
   "metadata": {
    "scrolled": true
   },
   "outputs": [
    {
     "data": {
      "text/html": [
       "<div>\n",
       "<style scoped>\n",
       "    .dataframe tbody tr th:only-of-type {\n",
       "        vertical-align: middle;\n",
       "    }\n",
       "\n",
       "    .dataframe tbody tr th {\n",
       "        vertical-align: top;\n",
       "    }\n",
       "\n",
       "    .dataframe thead th {\n",
       "        text-align: right;\n",
       "    }\n",
       "</style>\n",
       "<table border=\"1\" class=\"dataframe\">\n",
       "  <thead>\n",
       "    <tr style=\"text-align: right;\">\n",
       "      <th></th>\n",
       "      <th>MKT</th>\n",
       "      <th>PROD</th>\n",
       "      <th>PRODUCT_CODE</th>\n",
       "      <th>CP_USE</th>\n",
       "      <th>CP_FORM</th>\n",
       "      <th>CP_MANUFACTURER</th>\n",
       "      <th>CP_FRANCHISE</th>\n",
       "      <th>CP_BRAND</th>\n",
       "      <th>CP_SUBBRAND_VARIANT</th>\n",
       "      <th>Dummy2</th>\n",
       "      <th>...</th>\n",
       "      <th>RASP_Any_Promo</th>\n",
       "      <th>RASP_Any_Promo_Chg</th>\n",
       "      <th>Prcnt_EQUnits_Any_Promo</th>\n",
       "      <th>Prcnt_EQUnits_Any_Promo_Chg</th>\n",
       "      <th>QS_ACV_cum</th>\n",
       "      <th>QS_ACV_Chg_cum</th>\n",
       "      <th>Prcnt_ACV_TPR_cum</th>\n",
       "      <th>Prcnt_ACV_TPR_Chg_cum</th>\n",
       "      <th>CP_SHARE_BASIS</th>\n",
       "      <th>Record_ID</th>\n",
       "    </tr>\n",
       "  </thead>\n",
       "  <tbody>\n",
       "    <tr>\n",
       "      <th>0</th>\n",
       "      <td>BJs</td>\n",
       "      <td>ARM &amp; HAMMER BAKING SODA SCRATCHLESS CLEANING ...</td>\n",
       "      <td>003320001192</td>\n",
       "      <td>ALL PURPOSE</td>\n",
       "      <td>POWDER</td>\n",
       "      <td>CHURCH &amp; DWIGHT</td>\n",
       "      <td>A&amp;H</td>\n",
       "      <td>A&amp;H REM</td>\n",
       "      <td>REM SUBBRAND VARIANT</td>\n",
       "      <td>Dummy</td>\n",
       "      <td>...</td>\n",
       "      <td>0.0</td>\n",
       "      <td>0.0</td>\n",
       "      <td>0.0</td>\n",
       "      <td>0.0</td>\n",
       "      <td>0.0</td>\n",
       "      <td>0.0</td>\n",
       "      <td>0.0</td>\n",
       "      <td>0.0</td>\n",
       "      <td>APC+WW</td>\n",
       "      <td>1</td>\n",
       "    </tr>\n",
       "    <tr>\n",
       "      <th>2</th>\n",
       "      <td>BJs</td>\n",
       "      <td>ARM &amp; HAMMER BAKING SODA SCRATCHLESS CLEANING ...</td>\n",
       "      <td>003320001192</td>\n",
       "      <td>ALL PURPOSE</td>\n",
       "      <td>POWDER</td>\n",
       "      <td>CHURCH &amp; DWIGHT</td>\n",
       "      <td>A&amp;H</td>\n",
       "      <td>A&amp;H REM</td>\n",
       "      <td>REM SUBBRAND VARIANT</td>\n",
       "      <td>Dummy</td>\n",
       "      <td>...</td>\n",
       "      <td>0.0</td>\n",
       "      <td>0.0</td>\n",
       "      <td>0.0</td>\n",
       "      <td>0.0</td>\n",
       "      <td>0.0</td>\n",
       "      <td>0.0</td>\n",
       "      <td>0.0</td>\n",
       "      <td>0.0</td>\n",
       "      <td>APC+WW</td>\n",
       "      <td>2</td>\n",
       "    </tr>\n",
       "  </tbody>\n",
       "</table>\n",
       "<p>2 rows × 38 columns</p>\n",
       "</div>"
      ],
      "text/plain": [
       "   MKT                                               PROD  PRODUCT_CODE  \\\n",
       "0  BJs  ARM & HAMMER BAKING SODA SCRATCHLESS CLEANING ...  003320001192   \n",
       "2  BJs  ARM & HAMMER BAKING SODA SCRATCHLESS CLEANING ...  003320001192   \n",
       "\n",
       "        CP_USE CP_FORM  CP_MANUFACTURER CP_FRANCHISE CP_BRAND  \\\n",
       "0  ALL PURPOSE  POWDER  CHURCH & DWIGHT          A&H  A&H REM   \n",
       "2  ALL PURPOSE  POWDER  CHURCH & DWIGHT          A&H  A&H REM   \n",
       "\n",
       "    CP_SUBBRAND_VARIANT Dummy2  ... RASP_Any_Promo RASP_Any_Promo_Chg  \\\n",
       "0  REM SUBBRAND VARIANT  Dummy  ...            0.0                0.0   \n",
       "2  REM SUBBRAND VARIANT  Dummy  ...            0.0                0.0   \n",
       "\n",
       "  Prcnt_EQUnits_Any_Promo Prcnt_EQUnits_Any_Promo_Chg  QS_ACV_cum  \\\n",
       "0                     0.0                         0.0         0.0   \n",
       "2                     0.0                         0.0         0.0   \n",
       "\n",
       "   QS_ACV_Chg_cum  Prcnt_ACV_TPR_cum  Prcnt_ACV_TPR_Chg_cum  CP_SHARE_BASIS  \\\n",
       "0             0.0                0.0                    0.0          APC+WW   \n",
       "2             0.0                0.0                    0.0          APC+WW   \n",
       "\n",
       "   Record_ID  \n",
       "0          1  \n",
       "2          2  \n",
       "\n",
       "[2 rows x 38 columns]"
      ]
     },
     "execution_count": 87,
     "metadata": {},
     "output_type": "execute_result"
    }
   ],
   "source": [
    "UPC_Perf_HHC_final.head(2)"
   ]
  },
  {
   "cell_type": "code",
   "execution_count": 88,
   "metadata": {},
   "outputs": [
    {
     "data": {
      "text/plain": [
       "{'ABRASIVE', 'APC+WW', 'POUR', 'WOOD'}"
      ]
     },
     "execution_count": 88,
     "metadata": {},
     "output_type": "execute_result"
    }
   ],
   "source": [
    "set(UPC_Perf_HHC_final[\"CP_SHARE_BASIS\"])"
   ]
  },
  {
   "cell_type": "code",
   "execution_count": 89,
   "metadata": {},
   "outputs": [],
   "source": [
    "UPC_Perf_HHC_final.to_csv(path_HHC+\"MSR_SKU_Summary.csv\",index=False)"
   ]
  },
  {
   "cell_type": "code",
   "execution_count": null,
   "metadata": {},
   "outputs": [],
   "source": []
  },
  {
   "cell_type": "code",
   "execution_count": null,
   "metadata": {},
   "outputs": [],
   "source": []
  }
 ],
 "metadata": {
  "kernelspec": {
   "display_name": "Python 3",
   "language": "python",
   "name": "python3"
  },
  "language_info": {
   "codemirror_mode": {
    "name": "ipython",
    "version": 3
   },
   "file_extension": ".py",
   "mimetype": "text/x-python",
   "name": "python",
   "nbconvert_exporter": "python",
   "pygments_lexer": "ipython3",
   "version": "3.8.5"
  }
 },
 "nbformat": 4,
 "nbformat_minor": 4
}
