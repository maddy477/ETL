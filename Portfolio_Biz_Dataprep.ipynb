{
 "cells": [
  {
   "cell_type": "markdown",
   "metadata": {},
   "source": [
    "**Importing all the libraries**"
   ]
  },
  {
   "cell_type": "code",
   "execution_count": 1,
   "metadata": {},
   "outputs": [],
   "source": [
    "import pandas as pd;\n",
    "import numpy as np;\n",
    "import os;\n",
    "import time;\n",
    "import datetime;\n",
    "import warnings;\n",
    "warnings.filterwarnings('ignore');"
   ]
  },
  {
   "cell_type": "markdown",
   "metadata": {},
   "source": [
    "Assigning path of the folder where **Biz Mix** data files are stored"
   ]
  },
  {
   "cell_type": "code",
   "execution_count": 86,
   "metadata": {},
   "outputs": [],
   "source": [
    "path = \"//falmumapp34/Nielsen Connect Transition & Maintenance (20-SCP-3650)/03. Raw Data/Connect Data/Biz Mix Data\"\n",
    "files = os.listdir(path)"
   ]
  },
  {
   "cell_type": "markdown",
   "metadata": {},
   "source": [
    "Selecting only **excel files** from all the files available in the above path"
   ]
  },
  {
   "cell_type": "code",
   "execution_count": 91,
   "metadata": {
    "scrolled": true
   },
   "outputs": [
    {
     "name": "stdout",
     "output_type": "stream",
     "text": [
      "Total number of files in the folder are  1\n"
     ]
    }
   ],
   "source": [
    "files_xls = [f for f in files if (f == \"xlsx\")]\n",
    "print(\"Total number of files in the folder are \",len(files_xls))"
   ]
  },
  {
   "cell_type": "code",
   "execution_count": 92,
   "metadata": {},
   "outputs": [
    {
     "data": {
      "text/plain": [
       "['Biz Mix - LDL.xlsx']"
      ]
     },
     "execution_count": 92,
     "metadata": {},
     "output_type": "execute_result"
    }
   ],
   "source": [
    "files_xls"
   ]
  },
  {
   "cell_type": "markdown",
   "metadata": {},
   "source": [
    "**Appending the read files in rows and storing them in a single dataframe** named ***UPC_Monthly***.\n",
    "\n",
    "Printing number of columns and number of facts in each file.\n",
    "Also checking the execution time of the code"
   ]
  },
  {
   "cell_type": "code",
   "execution_count": 113,
   "metadata": {
    "scrolled": true
   },
   "outputs": [
    {
     "name": "stdout",
     "output_type": "stream",
     "text": [
      "\u001b[1mBiz Mix - LDL.xlsx\u001b[0m :->\n",
      "# of Facts are  10 \t\t # of columns are  11\n",
      "execution time is  4.842874050140381\n"
     ]
    }
   ],
   "source": [
    "time_start= time.time()\n",
    "\n",
    "Biz_Data= pd.DataFrame()\n",
    "\n",
    "j=0\n",
    "for f in files_xls:\n",
    "    \n",
    "    data = pd.read_excel(path+\"/\"+f)\n",
    "    print(\"\\033[1m\" + files_xls[j] + \"\\033[0m\",\":->\\n# of Facts are \",len(set(data[\"Periods\"])),\"\\t\\t # of columns are \",len(data.columns))  \n",
    "    Biz_Data = pd.concat([Biz_Data,data],axis=0,ignore_index=True)\n",
    "    j=j+1\n",
    "    \n",
    "time_end= time.time();\n",
    "\n",
    "print(\"execution time is \", time_end-time_start)"
   ]
  },
  {
   "cell_type": "code",
   "execution_count": 114,
   "metadata": {},
   "outputs": [],
   "source": [
    "# Relaceing in Periods(Facts)\n",
    "Biz_Data[\"Periods\"]=Biz_Data[\"Periods\"].str.replace(\"$\",\"temp\")\n",
    "Biz_Data[\"Periods\"]=Biz_Data[\"Periods\"].str.replace(\"- temp -\",\"-\")\n",
    "Biz_Data[\"Periods\"]=Biz_Data[\"Periods\"].str.replace(\"temp\",\"$\")\n",
    "\n",
    "\n",
    "Biz_Data[\"Periods\"]=Biz_Data[\"Periods\"].str.replace(\"CP FORM\",\"CP CATEGORY\")\n",
    "Biz_Data[\"Periods\"]=Biz_Data[\"Periods\"].str.replace(\"CP USE\",\"CP CATEGORY\")\n",
    "Biz_Data[\"Periods\"]=Biz_Data[\"Periods\"].str.replace(\"CP LDL AND FOAM\",\"CP CATEGORY\")\n",
    "\n",
    "Biz_Data[\"Periods\"]=Biz_Data[\"Periods\"].str.replace(\"CP LDL AND FM X DISHAIDS/WPS/SPR\",\"CP CATEGORY\")\n",
    "\n",
    "Biz_Data[\"Periods\"]=Biz_Data[\"Periods\"].str.replace(\"CP MEGA CATEGORY\",\"CP CATEGORY\")\n",
    "Biz_Data[\"Periods\"]=Biz_Data[\"Periods\"].str.replace(\"CP BATTERY AND HYBRID\",\"CP CATEGORY\")\n",
    "\n",
    "\n",
    "# Market name replaced\n",
    "Biz_Data[\"Markets\"]=Biz_Data[\"Markets\"].str.replace(\"Walgreens Corp Total TA\",\"Walgreens Total TA\")\n",
    "\n",
    "#replacing NaN values with 0\n",
    "Biz_Data.fillna(value=0,inplace=True)\n",
    "\n"
   ]
  },
  {
   "cell_type": "markdown",
   "metadata": {},
   "source": [
    "**Removing unwanted characters from all the column names** and store them in a list ***new_col_names***"
   ]
  },
  {
   "cell_type": "code",
   "execution_count": 115,
   "metadata": {},
   "outputs": [],
   "source": [
    "##Removing unwanted characters from all the column names** and store them in a list ***new_col_names***\n",
    "\n",
    "new_col_names=[]\n",
    "for i in Biz_Data.columns:\n",
    "    x=len(i)\n",
    "    if x<=17:\n",
    "        new_col_names.append(i)\n",
    "    elif i[:3]=='YTD':\n",
    "        new_col_names.append(i[:-16].strip('- '))\n",
    "    else:\n",
    "        new_col_names.append(i[:-14].strip('- '))\n",
    "        \n",
    "\n",
    "## Checking the duplicacte column in** ***Biz_Data***\n",
    "\n",
    "if(len(new_col_names)!=len(set(new_col_names))):\n",
    "    print(\"\\033[1;31m\"+\"*******************************ERROR*******************************\\n\\t\\t\\tWe have duplicate columns\\n\\t\\t\\tPlease recheck raw data files\\n*******************************ERROR*******************************\")\n",
    "\n",
    "##Renaming the column names of ***Biz_Data***\n",
    "\n",
    "# Biz_Data.rename(columns=dict(zip(Biz_Data.columns,new_col_names)),inplace=True)\n",
    "Biz_Data.columns=new_col_names"
   ]
  },
  {
   "cell_type": "markdown",
   "metadata": {},
   "source": [
    "**Adding Missing Quarter**"
   ]
  },
  {
   "cell_type": "code",
   "execution_count": 117,
   "metadata": {},
   "outputs": [
    {
     "name": "stdout",
     "output_type": "stream",
     "text": [
      "2\n",
      "19\n"
     ]
    },
    {
     "data": {
      "text/plain": [
       "(14120, 14)"
      ]
     },
     "execution_count": 117,
     "metadata": {},
     "output_type": "execute_result"
    }
   ],
   "source": [
    "##**Adding Missing Quater**\n",
    "\n",
    "\n",
    "# GETTING 20 DAYS BEFORE MONTHS AND YEAR VALUES\n",
    "now=datetime.datetime.now()\n",
    "delay= datetime.timedelta(days=20)\n",
    "a= now - delay\n",
    "month_number=a.month\n",
    "year=str(a.year-2)[-2:]\n",
    "print(month_number)\n",
    "print(year)\n",
    "\n",
    "if( month_number >= 1 & month_number <= 3):\n",
    "    Biz_Data['AMJ '+year]=\"\"\n",
    "    Biz_Data['JAS '+year]=\"\"\n",
    "    Biz_Data['OND '+year]=\"\"\n",
    "elif ( month_number >= 4 & month_number <= 6 ):\n",
    "    Biz_Data['JAS '+year]=\"\"\n",
    "    Biz_Data['OND '+year]=\"\"\n",
    "elif ( month_number >= 7 & month_number <= 9  ):\n",
    "    Biz_Data['OND '+year]=\"\"\n",
    "\n",
    "Biz_Data.shape"
   ]
  },
  {
   "cell_type": "markdown",
   "metadata": {},
   "source": [
    "**Time period mapping**\n",
    "\n",
    "**Manual Step**\n",
    "\n",
    "This mapping needs to be changed every year when new year data arrives"
   ]
  },
  {
   "cell_type": "code",
   "execution_count": 118,
   "metadata": {},
   "outputs": [
    {
     "name": "stdout",
     "output_type": "stream",
     "text": [
      "['Markets', 'Products', 'Periods', 'Latest 13 Weeks', 'Latest 26 Weeks', 'Feb 21', 'YTD 2021', 'FY 2020', 'FY 2019', 'FY 2018', 'FY 2017', 'Q2 2019', 'Q3 2019', 'Q4 2019']\n",
      "14 14\n"
     ]
    }
   ],
   "source": [
    "##**Time period mapping**\n",
    "\n",
    "\n",
    "\n",
    "time_period_map= pd.DataFrame({'Connect Time Period':['Markets', 'Products', 'Periods','Cal Yr 2020','Cal Yr 2019','Cal Yr 2018','Cal Yr 2017','YTD','YTD YA','Latest 13 Wks','Latest 26 Wks','OND 21','JAS 21','AMJ 21','JFM 21','OND 20','JAS 20','AMJ 20','JFM 20','OND 19','JAS 19','AMJ 19','Dec 21','Nov 21','Oct 21','Sep 21','Aug 21','Jul 21','Jun 21','May 21','Apr 21','Mar 21','Feb 21','Jan 21','Dec 20','Nov 20','Oct 20','Sep 20','Aug 20','Jul 20','Jun 20','May 20','Apr 20','Mar 20','Feb 20','Jan 20'],\n",
    "                               'Final Name':['Markets', 'Products', 'Periods','FY 2020','FY 2019','FY 2018','FY 2017','YTD 2021','YTD 2020','Latest 13 Weeks','Latest 26 Weeks','Q4 2021','Q3 2021','Q2 2021','Q1 2021','Q4 2020','Q3 2020','Q2 2020','Q1 2020','Q4 2019','Q3 2019','Q2 2019','Dec 21','Nov 21','Oct 21','Sep 21','Aug 21','Jul 21','Jun 21','May 21','Apr 21','Mar 21','Feb 21','Jan 21','Dec 20','Nov 20','Oct 20','Sep 20','Aug 20','Jul 20','Jun 20','May 20','Apr 20','Mar 20','Feb 20','Jan 20']\n",
    "                              ,'Order':range(1,47)})\n",
    "\n",
    "time_period_map.head(5)\n",
    "\n",
    "##We need to **change column names** of ***Biz_Data*** and **reorder** them based on the time_period_mapping\n",
    "\n",
    "# assigning variables\n",
    "LM_column= list(Biz_Data.columns)\n",
    "time_connect=list(time_period_map[\"Connect Time Period\"])\n",
    "time_final=list(time_period_map[\"Final Name\"])\n",
    "\n",
    "# changing column names based on time_period_mapping\n",
    "new_column=[]\n",
    "for i in range(0,len(LM_column)):\n",
    "    for j in range(0,len(time_connect)):\n",
    "        if LM_column[i]==time_connect[j]:\n",
    "            new_column.append(time_final[j])\n",
    "        \n",
    "\n",
    "print(new_column)\n",
    "\n",
    "print(len(new_column),len(Biz_Data.columns))\n",
    "\n",
    "Biz_Data.columns\n",
    "\n",
    "#assigning new column names\n",
    "Biz_Data.columns = new_column\n",
    "\n",
    "# reordering column names\n",
    "my_list =time_period_map.iloc[:, 1]\n",
    "my_list1=Biz_Data.columns\n",
    "result = [x for x in my_list if x in my_list1]\n",
    "Biz_Data=Biz_Data[result]"
   ]
  },
  {
   "cell_type": "markdown",
   "metadata": {},
   "source": [
    "**Time Period Mapping**"
   ]
  },
  {
   "cell_type": "code",
   "execution_count": 119,
   "metadata": {},
   "outputs": [],
   "source": [
    "##**Period Mapping**\n",
    "\n",
    "Time_Mapping={\n",
    "    \"Nov 19\":\"4 W/E 11/23/19\",\n",
    "    \"Dec 19\":\"5 W/E 12/28/19\",\n",
    "    \"Jan 20\":\"4 W/E 02/01/20\",\n",
    "    \"Feb 20\":\"4 W/E 02/29/20\",\n",
    "    \"Mar 20\":\"5 W/E 04/04/20\",\n",
    "    \"Apr 20\":\"4 W/E 05/02/20\",\n",
    "    \"May 20\":\"4 W/E 05/30/20\",\n",
    "    \"Jun 20\":\"5 W/E 07/04/20\",\n",
    "    \"Jul 20\":\"4 W/E 08/01/20\",\n",
    "    \"Aug 20\":\"4 W/E 08/29/20\",\n",
    "    \"Sep 20\":\"5 W/E 10/03/20\",\n",
    "    \"Oct 20\":\"4 W/E 10/31/20\",\n",
    "    \"Nov 20\":\"4 W/E 11/28/20\",\n",
    "    \"Dec 20\":\"5 W/E 01/02/21\",\n",
    "    \"Jan 21\":\"4 W/E 01/30/21\",\n",
    "    \"Feb 21\":\"4 W/E 02/27/21\",\n",
    "    \"Mar 21\":\"5 W/E 04/03/21\",\n",
    "    \"Apr 21\":\"4 W/E 05/01/21\",\n",
    "    \"May 21\":\"4 W/E 05/29/21\",\n",
    "    \"Jun 21\":\"5 W/E 07/03/21\",\n",
    "    \"Jul 21\":\"4 W/E 07/31/21\",\n",
    "    \"Aug 21\":\"4 W/E 08/28/21\",\n",
    "    \"Sep 21\":\"5 W/E 10/02/21\",\n",
    "    \"Oct 21\":\"4 W/E 10/30/21\",\n",
    "    \"Nov 21\":\"4 W/E 11/27/21\",\n",
    "    \"Dec 21\":\"5 W/E 01/01/22\",\n",
    "    \"Jan 22\":\"4 W/E 01/29/22\",\n",
    "    \"Feb 22\":\"4 W/E 02/26/22\",\n",
    "    \"Mar 22\":\"5 W/E 04/02/22\",\n",
    "    \"Apr 22\":\"4 W/E 04/30/22\",\n",
    "    \"May 22\":\"5 W/E 05/28/22\",\n",
    "    \"Jun 22\":\"4 W/E 06/25/22\",\n",
    "    \"Jul 22\":\"4 W/E 07/23/22\",\n",
    "    \"Aug 22\":\"5 W/E 08/20/22\",\n",
    "    \"Sep 22\":\"4 W/E 09/17/22\",\n",
    "    \"Oct 22\":\"4 W/E 10/15/22\",\n",
    "    \"Nov 22\":\"5 W/E 11/12/22\",\n",
    "    \"Dec 22\":\"4 W/E 12/10/22\",\n",
    "    \"Jan 23\":\"4 W/E 01/07/23\",\n",
    "    \"Feb 23\":\"5 W/E 02/04/23\",\n",
    "    \"Mar 23\":\"4 W/E 03/04/23\",\n",
    "    \"Apr 23\":\"4 W/E 04/01/23\",\n",
    "    \"May 23\":\"5 W/E 04/29/23\",\n",
    "    \"Jun 23\":\"4 W/E 05/27/23\",\n",
    "    \"Jul 23\":\"4 W/E 06/24/23\",\n",
    "    \"Aug 23\":\"5 W/E 07/22/23\",\n",
    "    \"Sep 23\":\"4 W/E 08/19/23\",\n",
    "    \"Oct 23\":\"5 W/E 09/16/23\",\n",
    "    \"Nov 23\":\"4 W/E 10/14/23\",\n",
    "    \"Dec 23\":\"4 W/E 11/11/23\",\n",
    "    \"Jan 24\":\"5 W/E 12/09/23\",\n",
    "    \"Feb 24\":\"4 W/E 01/06/24\",\n",
    "    \"Mar 24\":\"4 W/E 02/03/24\",\n",
    "    \"Apr 24\":\"5 W/E 03/02/24\",\n",
    "    \"May 24\":\"4 W/E 03/30/24\",\n",
    "    \"Jun 24\":\"4 W/E 04/27/24\",\n",
    "    \"Jul 24\":\"5 W/E 05/25/24\",\n",
    "    \"Aug 24\":\"4 W/E 06/22/24\",\n",
    "    \"Sep 24\":\"4 W/E 07/20/24\",\n",
    "    \"Oct 24\":\"5 W/E 08/17/24\",\n",
    "    \"Nov 24\":\"4 W/E 09/14/24\",\n",
    "    \"Dec 24\":\"4 W/E 10/12/24\",\n",
    "    \"Jan 25\":\"5 W/E 11/09/24\",\n",
    "    \"Feb 25\":\"4 W/E 12/07/24\",\n",
    "    \"Mar 25\":\"5 W/E 01/04/25\",\n",
    "    \"Apr 25\":\"4 W/E 02/01/25\",\n",
    "    \"May 25\":\"4 W/E 03/01/25\",\n",
    "    \"Jun 25\":\"5 W/E 03/29/25\",\n",
    "    \"Jul 25\":\"4 W/E 04/26/25\",\n",
    "    \"Aug 25\":\"4 W/E 05/24/25\",\n",
    "    \"Sep 25\":\"5 W/E 06/21/25\",\n",
    "    \"Oct 25\":\"4 W/E 07/19/25\",\n",
    "    \"Nov 25\":\"4 W/E 08/16/25\",\n",
    "    \"Dec 25\":\"5 W/E 09/13/25\",\n",
    "    \"Jan 26\":\"4 W/E 10/11/25\",\n",
    "    \"Feb 26\":\"4 W/E 11/08/25\",\n",
    "    \"Mar 26\":\"5 W/E 12/06/25\",\n",
    "    \"Apr 26\":\"4 W/E 01/03/26\",\n",
    "    \"May 26\":\"4 W/E 01/31/26\",\n",
    "    \"Jun 26\":\"5 W/E 02/28/26\",\n",
    "    \"Jul 26\":\"4 W/E 03/28/26\",\n",
    "    \"Aug 26\":\"5 W/E 04/25/26\",\n",
    "    \"Sep 26\":\"4 W/E 05/23/26\",\n",
    "    \"Oct 26\":\"4 W/E 06/20/26\",\n",
    "    \"Nov 26\":\"5 W/E 07/18/26\",\n",
    "    \"Dec 26\":\"4 W/E 08/15/26\"\n",
    "\n",
    "\n",
    "}\n",
    "\n",
    "\n",
    "Biz_Data.rename(columns=Time_Mapping,inplace=True)"
   ]
  },
  {
   "cell_type": "markdown",
   "metadata": {},
   "source": [
    "**Market MApping**"
   ]
  },
  {
   "cell_type": "code",
   "execution_count": 120,
   "metadata": {},
   "outputs": [],
   "source": [
    "Market_Mapping={\n",
    "    \n",
    "     'ALBSCO Total Company TA':'Alb/Sfy',\n",
    "     'Agency Grocery':'Agency Grocery',\n",
    "     'Ahold USA Corp Total TA':\"Ahold\",\n",
    "     'BJs Total TA':\"BJs\",\n",
    "     'CLUB':\"CLUB\",\n",
    "     'CVS Total Corp WO HI TA':\"CVS\",\n",
    "     'Dol Gen Total TA':\"Dollar General\",\n",
    "     'El Super Total TA':'El Super',\n",
    "     'FDM':\"FDM\",\n",
    "     'Family Dollar Total TA':\"Family Dollar\",\n",
    "     'Fiesta Total TA':\"Fiesta\",\n",
    "     'Giant Eagle Total TA':\"Giant Eagle\",\n",
    "     'Kmart Total TA':\"Kmart\",\n",
    "     'Meijer Total TA':\"Meijer\",\n",
    "     'Publix Total TA':\"Publix\",\n",
    "     'Rite Aid - Corp Total TA':\"Rite Aid\",\n",
    "     \"Sam's Total TA\":\"Sams\",\n",
    "     'ShopRite Total TA':\"Shoprite\",\n",
    "     'Strategic Grocery':\"Strategic Grocery\",\n",
    "     'TOTAL MASS':\"TOTAL MASS\",\n",
    "     'Target Total BM/FF TA':\"Target\",\n",
    "     'Total US Drug':\"US Drug\",\n",
    "     'Total US Food':\"US Food\",\n",
    "     'Total US xAOC':\"US AOC\",\n",
    "     'VDC':\"VDC\",\n",
    "     'Walgreens Total TA':\"Walgreens\",\n",
    "     'Walmart Total US TA':\"Walmart\",\n",
    "     'Wegmans Total TA':\"Wegmans\"\n",
    "    }\n",
    "\n",
    "\n",
    "Biz_Data[\"Markets\"].replace(Market_Mapping,inplace=True)"
   ]
  },
  {
   "cell_type": "markdown",
   "metadata": {},
   "source": [
    "**Changing Column Name**"
   ]
  },
  {
   "cell_type": "code",
   "execution_count": 121,
   "metadata": {},
   "outputs": [],
   "source": [
    "#Changing Column Name\n",
    "\n",
    "Biz_Data.rename(columns={\"Periods\":\"Facts\"},inplace=True)\n"
   ]
  },
  {
   "cell_type": "markdown",
   "metadata": {},
   "source": [
    "creating ***movecol*** function to **rearranging** the columns of a dataframe"
   ]
  },
  {
   "cell_type": "code",
   "execution_count": 123,
   "metadata": {},
   "outputs": [],
   "source": [
    "#***movecol*** function to **rearranging** the columns of a dataframe\n",
    "\n",
    "def movecol(df, cols_to_move=[], ref_col='', place=''):\n",
    "    cols = df.columns.tolist()\n",
    "    if place == 'After':\n",
    "        seg1 = cols[:list(cols).index(ref_col) + 1]\n",
    "        seg2 = cols_to_move\n",
    "    if place == 'Before':\n",
    "        seg1 = cols[:list(cols).index(ref_col)]\n",
    "        seg2 = cols_to_move + [ref_col]\n",
    "    seg1 = [i for i in seg1 if i not in seg2]\n",
    "    seg3 = [i for i in cols if i not in seg1 + seg2]\n",
    "    \n",
    "    return(df[seg1 + seg2 + seg3])"
   ]
  },
  {
   "cell_type": "markdown",
   "metadata": {},
   "source": [
    "**Splitting \"Products\" column**\n",
    "\n",
    "Creating 3 new columns **\"ShareBasis\",\"Char\",\"Manufacturer\"** from **\"Products\"** column by splitting "
   ]
  },
  {
   "cell_type": "code",
   "execution_count": 125,
   "metadata": {
    "scrolled": false
   },
   "outputs": [
    {
     "data": {
      "text/html": [
       "<div>\n",
       "<style scoped>\n",
       "    .dataframe tbody tr th:only-of-type {\n",
       "        vertical-align: middle;\n",
       "    }\n",
       "\n",
       "    .dataframe tbody tr th {\n",
       "        vertical-align: top;\n",
       "    }\n",
       "\n",
       "    .dataframe thead th {\n",
       "        text-align: right;\n",
       "    }\n",
       "</style>\n",
       "<table border=\"1\" class=\"dataframe\">\n",
       "  <thead>\n",
       "    <tr style=\"text-align: right;\">\n",
       "      <th></th>\n",
       "      <th>Markets</th>\n",
       "      <th>ShareBasis</th>\n",
       "      <th>Char</th>\n",
       "      <th>Manufacturer</th>\n",
       "      <th>Products</th>\n",
       "      <th>Facts</th>\n",
       "      <th>FY 2020</th>\n",
       "      <th>FY 2019</th>\n",
       "      <th>FY 2018</th>\n",
       "      <th>FY 2017</th>\n",
       "      <th>YTD 2021</th>\n",
       "      <th>Latest 13 Weeks</th>\n",
       "      <th>Latest 26 Weeks</th>\n",
       "      <th>Q4 2019</th>\n",
       "      <th>Q3 2019</th>\n",
       "      <th>Q2 2019</th>\n",
       "      <th>4 W/E 02/27/21</th>\n",
       "    </tr>\n",
       "  </thead>\n",
       "  <tbody>\n",
       "    <tr>\n",
       "      <th>0</th>\n",
       "      <td>US Drug</td>\n",
       "      <td>LDL/DISHAIDS/WPS/FM/SPRAYS</td>\n",
       "      <td>&lt;8 OZ</td>\n",
       "      <td></td>\n",
       "      <td>LDL/DISHAIDS/WPS/FM/SPRAYS | &lt;8 OZ</td>\n",
       "      <td>$</td>\n",
       "      <td>1.688855e+07</td>\n",
       "      <td>9935545.059</td>\n",
       "      <td>574.544</td>\n",
       "      <td>499.326</td>\n",
       "      <td>1524557.297</td>\n",
       "      <td>2658429.290</td>\n",
       "      <td>5691225.746</td>\n",
       "      <td></td>\n",
       "      <td></td>\n",
       "      <td></td>\n",
       "      <td>717706.796</td>\n",
       "    </tr>\n",
       "    <tr>\n",
       "      <th>1</th>\n",
       "      <td>US Drug</td>\n",
       "      <td>LDL/DISHAIDS/WPS/FM/SPRAYS</td>\n",
       "      <td>&lt;8 OZ</td>\n",
       "      <td></td>\n",
       "      <td>LDL/DISHAIDS/WPS/FM/SPRAYS | &lt;8 OZ</td>\n",
       "      <td>$ % Chg YA</td>\n",
       "      <td>6.998100e+01</td>\n",
       "      <td>1729192.284</td>\n",
       "      <td>15.064</td>\n",
       "      <td>0.000</td>\n",
       "      <td>-41.263</td>\n",
       "      <td>-28.761</td>\n",
       "      <td>-26.346</td>\n",
       "      <td></td>\n",
       "      <td></td>\n",
       "      <td></td>\n",
       "      <td>-53.182</td>\n",
       "    </tr>\n",
       "    <tr>\n",
       "      <th>2</th>\n",
       "      <td>US Drug</td>\n",
       "      <td>LDL/DISHAIDS/WPS/FM/SPRAYS</td>\n",
       "      <td>&lt;8 OZ</td>\n",
       "      <td></td>\n",
       "      <td>LDL/DISHAIDS/WPS/FM/SPRAYS | &lt;8 OZ</td>\n",
       "      <td>$ Shr - CP CATEGORY</td>\n",
       "      <td>2.159700e+01</td>\n",
       "      <td>16.420</td>\n",
       "      <td>0.001</td>\n",
       "      <td>0.001</td>\n",
       "      <td>16.016</td>\n",
       "      <td>16.628</td>\n",
       "      <td>17.450</td>\n",
       "      <td></td>\n",
       "      <td></td>\n",
       "      <td></td>\n",
       "      <td>15.670</td>\n",
       "    </tr>\n",
       "  </tbody>\n",
       "</table>\n",
       "</div>"
      ],
      "text/plain": [
       "   Markets                   ShareBasis    Char Manufacturer  \\\n",
       "0  US Drug  LDL/DISHAIDS/WPS/FM/SPRAYS    <8 OZ                \n",
       "1  US Drug  LDL/DISHAIDS/WPS/FM/SPRAYS    <8 OZ                \n",
       "2  US Drug  LDL/DISHAIDS/WPS/FM/SPRAYS    <8 OZ                \n",
       "\n",
       "                             Products                Facts       FY 2020  \\\n",
       "0  LDL/DISHAIDS/WPS/FM/SPRAYS | <8 OZ                    $  1.688855e+07   \n",
       "1  LDL/DISHAIDS/WPS/FM/SPRAYS | <8 OZ           $ % Chg YA  6.998100e+01   \n",
       "2  LDL/DISHAIDS/WPS/FM/SPRAYS | <8 OZ  $ Shr - CP CATEGORY  2.159700e+01   \n",
       "\n",
       "       FY 2019  FY 2018  FY 2017     YTD 2021  Latest 13 Weeks  \\\n",
       "0  9935545.059  574.544  499.326  1524557.297      2658429.290   \n",
       "1  1729192.284   15.064    0.000      -41.263          -28.761   \n",
       "2       16.420    0.001    0.001       16.016           16.628   \n",
       "\n",
       "   Latest 26 Weeks Q4 2019 Q3 2019 Q2 2019  4 W/E 02/27/21  \n",
       "0      5691225.746                              717706.796  \n",
       "1          -26.346                                 -53.182  \n",
       "2           17.450                                  15.670  "
      ]
     },
     "execution_count": 125,
     "metadata": {},
     "output_type": "execute_result"
    }
   ],
   "source": [
    "Biz_Data[['ShareBasis','Char','Manufacturer']] = Biz_Data['Products'].str.split('|',n=2,expand=True)\n",
    "\n",
    "\n",
    "Biz_Data[['ShareBasis','Char','Manufacturer']]=Biz_Data[['ShareBasis','Char','Manufacturer']].fillna(value=\"\")\n",
    "Biz_Data.head(3)\n",
    "\n",
    "# Moving columns after \"Market\"\n",
    "Biz_Data = movecol(Biz_Data, \n",
    "             cols_to_move=['ShareBasis','Char','Manufacturer'], \n",
    "             ref_col='Markets',\n",
    "             place='After')\n",
    "Biz_Data.head(3)"
   ]
  },
  {
   "cell_type": "code",
   "execution_count": 128,
   "metadata": {},
   "outputs": [],
   "source": [
    "cols=list(Biz_Data.columns[0:4])\n",
    "Biz_Data[cols]=Biz_Data[cols].apply(lambda x : x.str.strip())"
   ]
  },
  {
   "cell_type": "markdown",
   "metadata": {},
   "source": [
    "**Facts Mapping**"
   ]
  },
  {
   "cell_type": "code",
   "execution_count": 130,
   "metadata": {},
   "outputs": [],
   "source": [
    "Biz_Facts_Mapping={\n",
    "    '$':\"Dollars\",\n",
    "     '$ % Chg YA':\"Dollars_Chg\",\n",
    "     '$ Shr - CP CATEGORY':\"Doll_Shr\",\n",
    "     '$ Shr Chg YA - CP CATEGORY':\"Doll_Shr_Chg\",\n",
    "     '%ACV':\"Store_selling\",\n",
    "     '%ACV Chg YA':\"Store_selling_Chg\",\n",
    "     'Base $ Shr - CP CATEGORY':\"Base_Doll_Shr\",\n",
    "     'Base $ Shr Chg YA - CP CATEGORY':\"Base_Doll_Shr_Chg\",\n",
    "     'TDP':\"Cum_Distri_Pts\",\n",
    "     'TDP Chg YA':\"Cum_Distri_Pts_Chg\"\n",
    "}\n",
    "\n",
    "Biz_Data[\"Facts\"]=Biz_Data[\"Facts\"].replace(Biz_Facts_Mapping)"
   ]
  },
  {
   "cell_type": "markdown",
   "metadata": {},
   "source": [
    "## Toothpaste"
   ]
  },
  {
   "cell_type": "code",
   "execution_count": null,
   "metadata": {},
   "outputs": [],
   "source": [
    "# path to store Output files\n",
    "path_TP=\"//falmumapp34/Nielsen Connect Transition & Maintenance (20-SCP-3650)/05. Output Data/5P Output/TP/\""
   ]
  },
  {
   "cell_type": "code",
   "execution_count": null,
   "metadata": {},
   "outputs": [],
   "source": [
    "Biz_Data_TP=Biz_Data[Biz_Data[\"ShareBasis\"]==\"TOOTHPASTE\"]"
   ]
  },
  {
   "cell_type": "markdown",
   "metadata": {},
   "source": [
    "## Segment"
   ]
  },
  {
   "cell_type": "code",
   "execution_count": null,
   "metadata": {},
   "outputs": [],
   "source": [
    "Segment= Biz_Data_TP.copy()"
   ]
  },
  {
   "cell_type": "markdown",
   "metadata": {},
   "source": [
    "Selecting time period and creating filter list for char column"
   ]
  },
  {
   "cell_type": "code",
   "execution_count": null,
   "metadata": {},
   "outputs": [],
   "source": [
    "Char = [ 'ME CAVITY/TC', 'ME PREMIUM MULTI-BENEFIT','ME WHITENING', 'ME ENAMEL', 'ME GUM PROTECTION',\n",
    "        'ME SENS', 'ME BS/BSPX', 'ME KIDS', 'ME FRESH BREATH', 'ME ADULT VALUE', 'ME DRY MOUTH',\n",
    "        'ME NATURAL', 'ME MAINSTREAM NATURAL',]\n",
    "\n",
    "Time_Period=list(Segment.columns[22:23])+list(Segment.columns[12:14])+list(Segment.columns[10:11])+list(Segment.columns[6:10])\n",
    "print(Time_Period)"
   ]
  },
  {
   "cell_type": "markdown",
   "metadata": {},
   "source": [
    "Filtering Char Column"
   ]
  },
  {
   "cell_type": "code",
   "execution_count": null,
   "metadata": {},
   "outputs": [],
   "source": [
    "#Filter\n",
    "Segment=Segment[Segment[\"Char\"].isin(Char)]"
   ]
  },
  {
   "cell_type": "markdown",
   "metadata": {},
   "source": [
    "Renaming column"
   ]
  },
  {
   "cell_type": "code",
   "execution_count": null,
   "metadata": {},
   "outputs": [],
   "source": [
    "Segment.rename(columns={\"Markets\":\"MKT\",\"Products\":\"PROD\",\"Manufacturer\":\"CP_FRANCHISE\",\"Char\":\"CP_CHARACTERISTICS\"\n",
    "                           },inplace=True)"
   ]
  },
  {
   "cell_type": "code",
   "execution_count": null,
   "metadata": {},
   "outputs": [],
   "source": [
    "Segment[\"CP_BRAND\"]=\"\"\n",
    "Segment[\"CP_MANUFACTURER\"]=\"TOOTHPASTE\""
   ]
  },
  {
   "cell_type": "code",
   "execution_count": null,
   "metadata": {},
   "outputs": [],
   "source": [
    "df1=pd.melt(Segment, id_vars =[\"MKT\",\"PROD\",\"CP_MANUFACTURER\",\"CP_FRANCHISE\",\"CP_BRAND\",\"CP_CHARACTERISTICS\",\"Facts\"], value_vars =Time_Period,var_name=\"PER\")\n",
    "\n",
    "df1[\"value\"]=df1[\"value\"].apply(pd.to_numeric)\n"
   ]
  },
  {
   "cell_type": "code",
   "execution_count": null,
   "metadata": {},
   "outputs": [],
   "source": [
    "df2=df1.pivot_table(index=[\"MKT\",\"PROD\",\"CP_MANUFACTURER\",\"CP_FRANCHISE\",\"CP_BRAND\",\"CP_CHARACTERISTICS\",'PER'],columns='Facts')\n",
    "\n",
    "df2.columns=df2.columns.droplevel().rename(None)\n",
    "df2.reset_index(inplace =True)"
   ]
  },
  {
   "cell_type": "code",
   "execution_count": null,
   "metadata": {},
   "outputs": [],
   "source": [
    "from pandas.api.types import CategoricalDtype\n",
    "\n",
    "Time_Period_order = CategoricalDtype(\n",
    "    Time_Period, \n",
    "    ordered=True\n",
    ")\n",
    "\n",
    "df2['PER'] = df2['PER'].astype(Time_Period_order)\n",
    "\n",
    "df2.sort_values(['MKT','PROD','PER'],inplace=True)"
   ]
  },
  {
   "cell_type": "code",
   "execution_count": null,
   "metadata": {},
   "outputs": [],
   "source": [
    "final_column_sorting=[\"MKT\",\"PROD\",\"CP_MANUFACTURER\",\"CP_FRANCHISE\",\"CP_BRAND\",\"CP_CHARACTERISTICS\",\"PER\",\"Doll_Shr\",\n",
    "                      \"Doll_Shr_Chg\",\"Base_Doll_Shr\",\"Base_Doll_Shr_Chg\",\"Store_selling\",\"Store_selling_Chg\",\"Dollars\",\n",
    "                      \"Dollars_Chg\",\"Cum_Distri_Pts\",\"Cum_Distri_Pts_Chg\"\n",
    "                      ]\n",
    "Segment_final=df2[final_column_sorting]"
   ]
  },
  {
   "cell_type": "code",
   "execution_count": null,
   "metadata": {
    "scrolled": true
   },
   "outputs": [],
   "source": [
    "Segment_final.to_csv(path_TP+\"Segment_data.csv\",index=False)"
   ]
  },
  {
   "cell_type": "code",
   "execution_count": null,
   "metadata": {},
   "outputs": [],
   "source": [
    "Segment_final.shape"
   ]
  },
  {
   "cell_type": "markdown",
   "metadata": {},
   "source": [
    "## Price_Tier"
   ]
  },
  {
   "cell_type": "code",
   "execution_count": null,
   "metadata": {},
   "outputs": [],
   "source": [
    "Price_Tier= Biz_Data_TP.copy()"
   ]
  },
  {
   "cell_type": "code",
   "execution_count": null,
   "metadata": {},
   "outputs": [],
   "source": [
    "Char = [\"MIDTIER\",\"PREMIUM\",\"SUPER PREMIUM\",\"UBER PREMIUM\",\"ULTRA PREMIUM\",\"VALUE\"]\n",
    "Time_Period=list(Price_Tier.columns[22:23])+list(Price_Tier.columns[12:14])+list(Price_Tier.columns[10:11])+list(Price_Tier.columns[6:10])\n",
    "print(Time_Period)"
   ]
  },
  {
   "cell_type": "code",
   "execution_count": null,
   "metadata": {},
   "outputs": [],
   "source": [
    "Price_Tier.head()"
   ]
  },
  {
   "cell_type": "code",
   "execution_count": null,
   "metadata": {},
   "outputs": [],
   "source": [
    "#Filter\n",
    "Price_Tier=Price_Tier[Price_Tier[\"Char\"].isin(Char)]"
   ]
  },
  {
   "cell_type": "code",
   "execution_count": null,
   "metadata": {},
   "outputs": [],
   "source": [
    "Price_Tier.columns"
   ]
  },
  {
   "cell_type": "code",
   "execution_count": null,
   "metadata": {},
   "outputs": [],
   "source": [
    "Price_Tier.rename(columns={\"Markets\":\"MKT\",\"Products\":\"PROD\",\"Manufacturer\":\"CP_MANUFACTURER\",\"Char\":\"CP_CHARACTERISTICS\"\n",
    "                           },inplace=True)"
   ]
  },
  {
   "cell_type": "code",
   "execution_count": null,
   "metadata": {},
   "outputs": [],
   "source": [
    "Price_Tier[[\"CP_FRANCHISE\",\"CP_BRAND\"]]=\"\""
   ]
  },
  {
   "cell_type": "code",
   "execution_count": null,
   "metadata": {},
   "outputs": [],
   "source": [
    "df1=pd.melt(Price_Tier, id_vars =[\"MKT\",\"PROD\",\"CP_MANUFACTURER\",\"CP_FRANCHISE\",\"CP_BRAND\",\"CP_CHARACTERISTICS\",\"Facts\"], value_vars =Time_Period,var_name=\"PER\")\n",
    "\n",
    "df1[\"value\"]=df1[\"value\"].apply(pd.to_numeric)"
   ]
  },
  {
   "cell_type": "code",
   "execution_count": null,
   "metadata": {},
   "outputs": [],
   "source": [
    "df2=df1.pivot_table(index=[\"MKT\",\"PROD\",\"CP_MANUFACTURER\",\"CP_FRANCHISE\",\"CP_BRAND\",\"CP_CHARACTERISTICS\",'PER'],columns='Facts')\n",
    "\n",
    "df2.columns=df2.columns.droplevel().rename(None)\n",
    "df2.reset_index(inplace =True)"
   ]
  },
  {
   "cell_type": "code",
   "execution_count": null,
   "metadata": {},
   "outputs": [],
   "source": [
    "from pandas.api.types import CategoricalDtype\n",
    "\n",
    "Time_Period_order = CategoricalDtype(\n",
    "    Time_Period, \n",
    "    ordered=True\n",
    ")\n",
    "\n",
    "df2['PER'] = df2['PER'].astype(Time_Period_order)\n",
    "\n",
    "df2.sort_values(['MKT','PROD','PER'],inplace=True)"
   ]
  },
  {
   "cell_type": "code",
   "execution_count": null,
   "metadata": {},
   "outputs": [],
   "source": [
    "final_column_sorting=[\"MKT\",\"PROD\",\"CP_MANUFACTURER\",\"CP_FRANCHISE\",\"CP_BRAND\",\"CP_CHARACTERISTICS\",\"PER\",\"Doll_Shr\",\n",
    "                      \"Doll_Shr_Chg\",\"Base_Doll_Shr\",\"Base_Doll_Shr_Chg\",\"Store_selling\",\"Store_selling_Chg\",\"Dollars\",\n",
    "                      \"Dollars_Chg\",\"Cum_Distri_Pts\",\"Cum_Distri_Pts_Chg\"\n",
    "                      ]\n",
    "Price_Tier_final=df2[final_column_sorting]"
   ]
  },
  {
   "cell_type": "code",
   "execution_count": null,
   "metadata": {},
   "outputs": [],
   "source": [
    "Price_Tier_final.head(3)"
   ]
  },
  {
   "cell_type": "code",
   "execution_count": null,
   "metadata": {},
   "outputs": [],
   "source": [
    "Price_Tier_final.to_csv(path_TP+\"Price_Tier_data.csv\",index=False)"
   ]
  },
  {
   "cell_type": "markdown",
   "metadata": {},
   "source": [
    "## Adult_data"
   ]
  },
  {
   "cell_type": "code",
   "execution_count": null,
   "metadata": {},
   "outputs": [],
   "source": [
    "Adult_data= Biz_Data_TP.copy()"
   ]
  },
  {
   "cell_type": "code",
   "execution_count": null,
   "metadata": {},
   "outputs": [],
   "source": [
    "Char = [\"ADULT\",\"KIDS\"]\n",
    "Time_Period=list(Adult_data.columns[22:23])+list(Adult_data.columns[12:14])+list(Adult_data.columns[10:11])+list(Adult_data.columns[6:10])\n",
    "print(Time_Period)"
   ]
  },
  {
   "cell_type": "code",
   "execution_count": null,
   "metadata": {},
   "outputs": [],
   "source": [
    "#Filter\n",
    "Adult_data=Adult_data[Adult_data[\"Char\"].isin(Char)]"
   ]
  },
  {
   "cell_type": "code",
   "execution_count": null,
   "metadata": {},
   "outputs": [],
   "source": [
    "Adult_data.columns"
   ]
  },
  {
   "cell_type": "code",
   "execution_count": null,
   "metadata": {},
   "outputs": [],
   "source": [
    "Adult_data.rename(columns={\"Markets\":\"MKT\",\"Products\":\"PROD\",\"Manufacturer\":\"CP_MANUFACTURER\",\"Char\":\"CP_CHARACTERISTICS\"\n",
    "                           },inplace=True)"
   ]
  },
  {
   "cell_type": "code",
   "execution_count": null,
   "metadata": {},
   "outputs": [],
   "source": [
    "Adult_data[[\"CP_FRANCHISE\",\"CP_BRAND\"]]=\"\""
   ]
  },
  {
   "cell_type": "code",
   "execution_count": null,
   "metadata": {},
   "outputs": [],
   "source": [
    "df1=pd.melt(Adult_data, id_vars =[\"MKT\",\"PROD\",\"CP_MANUFACTURER\",\"CP_FRANCHISE\",\"CP_BRAND\",\"CP_CHARACTERISTICS\",\"Facts\"], value_vars =Time_Period,var_name=\"PER\")\n",
    "\n",
    "df1[\"value\"]=df1[\"value\"].apply(pd.to_numeric)"
   ]
  },
  {
   "cell_type": "code",
   "execution_count": null,
   "metadata": {},
   "outputs": [],
   "source": [
    "df2=df1.pivot_table(index=[\"MKT\",\"PROD\",\"CP_MANUFACTURER\",\"CP_FRANCHISE\",\"CP_BRAND\",\"CP_CHARACTERISTICS\",'PER'],columns='Facts')\n",
    "\n",
    "df2.columns=df2.columns.droplevel().rename(None)\n",
    "df2.reset_index(inplace =True)"
   ]
  },
  {
   "cell_type": "code",
   "execution_count": null,
   "metadata": {},
   "outputs": [],
   "source": [
    "from pandas.api.types import CategoricalDtype\n",
    "\n",
    "Time_Period_order = CategoricalDtype(\n",
    "    Time_Period, \n",
    "    ordered=True\n",
    ")\n",
    "\n",
    "df2['PER'] = df2['PER'].astype(Time_Period_order)\n",
    "\n",
    "df2.sort_values(['MKT','PROD','PER'],inplace=True)"
   ]
  },
  {
   "cell_type": "code",
   "execution_count": null,
   "metadata": {},
   "outputs": [],
   "source": [
    "final_column_sorting=[\"MKT\",\"PROD\",\"CP_MANUFACTURER\",\"CP_FRANCHISE\",\"CP_BRAND\",\"CP_CHARACTERISTICS\",\"PER\",\"Doll_Shr\",\n",
    "                      \"Doll_Shr_Chg\",\"Base_Doll_Shr\",\"Base_Doll_Shr_Chg\",\"Store_selling\",\"Store_selling_Chg\",\"Dollars\",\n",
    "                      \"Dollars_Chg\",\"Cum_Distri_Pts\",\"Cum_Distri_Pts_Chg\"\n",
    "                      ]\n",
    "Adult_data_final=df2[final_column_sorting]"
   ]
  },
  {
   "cell_type": "code",
   "execution_count": null,
   "metadata": {
    "scrolled": true
   },
   "outputs": [],
   "source": [
    "Adult_data_final.head(3)"
   ]
  },
  {
   "cell_type": "code",
   "execution_count": null,
   "metadata": {},
   "outputs": [],
   "source": [
    "Adult_data_final.to_csv(path_TP+\"Adult_data.csv\",index=False)"
   ]
  },
  {
   "cell_type": "code",
   "execution_count": null,
   "metadata": {},
   "outputs": [],
   "source": []
  },
  {
   "cell_type": "markdown",
   "metadata": {},
   "source": [
    "## MW"
   ]
  },
  {
   "cell_type": "code",
   "execution_count": null,
   "metadata": {},
   "outputs": [],
   "source": [
    "# path to store OuMTBut files\n",
    "path_MW=\"//falmumapp34/Nielsen Connect Transition & Maintenance (20-SCP-3650)/05. Output Data/5P Output/MW/\""
   ]
  },
  {
   "cell_type": "code",
   "execution_count": null,
   "metadata": {},
   "outputs": [],
   "source": [
    "Biz_Data_MW=Biz_Data[Biz_Data[\"ShareBasis\"]==\"MOUTHWASH\"]"
   ]
  },
  {
   "cell_type": "markdown",
   "metadata": {},
   "source": [
    "## Characteristics 3"
   ]
  },
  {
   "cell_type": "code",
   "execution_count": null,
   "metadata": {},
   "outputs": [],
   "source": [
    "Segment= Biz_Data_MW.copy()"
   ]
  },
  {
   "cell_type": "code",
   "execution_count": null,
   "metadata": {},
   "outputs": [],
   "source": [
    "set(Biz_Data_MW[\"Char\"])"
   ]
  },
  {
   "cell_type": "code",
   "execution_count": null,
   "metadata": {},
   "outputs": [],
   "source": [
    "set(Biz_Data_MW[\"\"])"
   ]
  },
  {
   "cell_type": "code",
   "execution_count": null,
   "metadata": {},
   "outputs": [],
   "source": []
  },
  {
   "cell_type": "code",
   "execution_count": null,
   "metadata": {},
   "outputs": [],
   "source": [
    "Segment.columns"
   ]
  },
  {
   "cell_type": "code",
   "execution_count": null,
   "metadata": {},
   "outputs": [],
   "source": [
    "Char = ['ANTISEPTIC','FRESHENING','HERBAL/NATURAL','KIDS/TEENS','MULTI-BENEFIT','ORAL RINSE','SPECIALTY','WHITENING']\n",
    "\n",
    "Time_Period=list(Segment.columns[16:17])+list(Segment.columns[11:13])+list(Segment.columns[10:11])+list(Segment.columns[6:10])\n",
    "print(Time_Period)"
   ]
  },
  {
   "cell_type": "code",
   "execution_count": null,
   "metadata": {},
   "outputs": [],
   "source": [
    "#Filter\n",
    "Segment=Segment[Segment[\"Char\"].isin(Char)]"
   ]
  },
  {
   "cell_type": "code",
   "execution_count": null,
   "metadata": {},
   "outputs": [],
   "source": [
    "Segment.rename(columns={\"Markets\":\"MKT\",\"Products\":\"PROD\",\"Manufacturer\":\"CP_MANUFACTURER\",\"Char\":\"CP_CHARACTERISTIC\"\n",
    "                           },inplace=True)"
   ]
  },
  {
   "cell_type": "code",
   "execution_count": null,
   "metadata": {},
   "outputs": [],
   "source": [
    "Segment.head()"
   ]
  },
  {
   "cell_type": "code",
   "execution_count": null,
   "metadata": {},
   "outputs": [],
   "source": [
    "Segment[\"CP_BRAND\"]=\"\"\n",
    "Segment[\"CP_FRANCHISE\"]=\"\""
   ]
  },
  {
   "cell_type": "code",
   "execution_count": null,
   "metadata": {},
   "outputs": [],
   "source": [
    "df1=pd.melt(Segment, id_vars =[\"MKT\",\"PROD\",\"CP_MANUFACTURER\",\"CP_FRANCHISE\",\"CP_BRAND\",\"CP_CHARACTERISTIC\",\"Facts\"], value_vars =Time_Period,var_name=\"PER\")\n",
    "\n",
    "df1[\"value\"]=df1[\"value\"].apply(pd.to_numeric)\n"
   ]
  },
  {
   "cell_type": "code",
   "execution_count": null,
   "metadata": {},
   "outputs": [],
   "source": [
    "df2=df1.pivot_table(index=[\"MKT\",\"PROD\",\"CP_MANUFACTURER\",\"CP_FRANCHISE\",\"CP_BRAND\",\"CP_CHARACTERISTIC\",'PER'],columns='Facts')\n",
    "\n",
    "df2.columns=df2.columns.droplevel().rename(None)\n",
    "df2.reset_index(inplace =True)"
   ]
  },
  {
   "cell_type": "code",
   "execution_count": null,
   "metadata": {},
   "outputs": [],
   "source": [
    "from pandas.api.types import CategoricalDtype\n",
    "\n",
    "Time_Period_order = CategoricalDtype(\n",
    "    Time_Period, \n",
    "    ordered=True\n",
    ")\n",
    "\n",
    "df2['PER'] = df2['PER'].astype(Time_Period_order)\n",
    "\n",
    "df2.sort_values(['MKT','PROD','PER'],inplace=True)"
   ]
  },
  {
   "cell_type": "code",
   "execution_count": null,
   "metadata": {},
   "outputs": [],
   "source": [
    "final_column_sorting=[\"MKT\",\"PROD\",\"CP_MANUFACTURER\",\"CP_FRANCHISE\",\"CP_BRAND\",\"CP_CHARACTERISTIC\",\"PER\",\n",
    "                      \"Doll_Shr\",\"Doll_Shr_Chg\",\"Base_Doll_Shr\",\"Base_Doll_Shr_Chg\",\"Store_selling\",\"Store_selling_Chg\",\n",
    "                      \"Dollars\",\"Dollars_Chg\",\"Cum_Distri_Pts\",\"Cum_Distri_Pts_Chg\"\n",
    "                      ]\n",
    "Segment_final=df2[final_column_sorting]"
   ]
  },
  {
   "cell_type": "code",
   "execution_count": null,
   "metadata": {
    "scrolled": true
   },
   "outputs": [],
   "source": [
    "Segment_final.to_csv(path_MW+\"characteristics_3.csv\",index=False)"
   ]
  },
  {
   "cell_type": "code",
   "execution_count": null,
   "metadata": {},
   "outputs": [],
   "source": [
    "Segment_final.shape"
   ]
  },
  {
   "cell_type": "markdown",
   "metadata": {},
   "source": [
    "## Characteristic 1"
   ]
  },
  {
   "cell_type": "code",
   "execution_count": null,
   "metadata": {},
   "outputs": [],
   "source": [
    "Price_Tier= Biz_Data_MW.copy()"
   ]
  },
  {
   "cell_type": "code",
   "execution_count": null,
   "metadata": {},
   "outputs": [],
   "source": [
    "set(Price_Tier[\"Char\"])"
   ]
  },
  {
   "cell_type": "code",
   "execution_count": null,
   "metadata": {},
   "outputs": [],
   "source": [
    "Char = ['HIGH SUPER PREMIUM','LOW SUPER PREMIUM', 'MIDTIER', 'PREMIUM', 'PRVT LBL',\n",
    "         'SPECIALITY SUPER PREMIUM','VALUE']\n",
    "Time_Period=list(Price_Tier.columns[16:17])+list(Price_Tier.columns[11:13])+list(Price_Tier.columns[10:11])+list(Price_Tier.columns[6:10])\n",
    "print(Time_Period)"
   ]
  },
  {
   "cell_type": "code",
   "execution_count": null,
   "metadata": {},
   "outputs": [],
   "source": [
    "Price_Tier.head()"
   ]
  },
  {
   "cell_type": "code",
   "execution_count": null,
   "metadata": {},
   "outputs": [],
   "source": [
    "#Filter\n",
    "Price_Tier=Price_Tier[Price_Tier[\"Char\"].isin(Char)]"
   ]
  },
  {
   "cell_type": "code",
   "execution_count": null,
   "metadata": {},
   "outputs": [],
   "source": [
    "Price_Tier.columns"
   ]
  },
  {
   "cell_type": "code",
   "execution_count": null,
   "metadata": {},
   "outputs": [],
   "source": [
    "Price_Tier.rename(columns={\"Markets\":\"MKT\",\"Products\":\"PROD\",\"Manufacturer\":\"CP_MANUFACTURER\",\"Char\":\"CP_CHARACTERISTIC\"\n",
    "                           },inplace=True)"
   ]
  },
  {
   "cell_type": "code",
   "execution_count": null,
   "metadata": {},
   "outputs": [],
   "source": [
    "Price_Tier[[\"CP_FRANCHISE\",\"CP_BRAND\"]]=\"\""
   ]
  },
  {
   "cell_type": "code",
   "execution_count": null,
   "metadata": {},
   "outputs": [],
   "source": [
    "df1=pd.melt(Price_Tier, id_vars =[\"MKT\",\"PROD\",\"CP_MANUFACTURER\",\"CP_FRANCHISE\",\"CP_BRAND\",\"CP_CHARACTERISTIC\",\"Facts\"], value_vars =Time_Period,var_name=\"PER\")\n",
    "\n",
    "df1[\"value\"]=df1[\"value\"].apply(pd.to_numeric)"
   ]
  },
  {
   "cell_type": "code",
   "execution_count": null,
   "metadata": {},
   "outputs": [],
   "source": [
    "df2=df1.pivot_table(index=[\"MKT\",\"PROD\",\"CP_MANUFACTURER\",\"CP_FRANCHISE\",\"CP_BRAND\",\"CP_CHARACTERISTIC\",'PER'],columns='Facts')\n",
    "\n",
    "df2.columns=df2.columns.droplevel().rename(None)\n",
    "df2.reset_index(inplace =True)"
   ]
  },
  {
   "cell_type": "code",
   "execution_count": null,
   "metadata": {},
   "outputs": [],
   "source": [
    "from pandas.api.types import CategoricalDtype\n",
    "\n",
    "Time_Period_order = CategoricalDtype(\n",
    "    Time_Period, \n",
    "    ordered=True\n",
    ")\n",
    "\n",
    "df2['PER'] = df2['PER'].astype(Time_Period_order)\n",
    "\n",
    "df2.sort_values(['MKT','PROD','PER'],inplace=True)"
   ]
  },
  {
   "cell_type": "code",
   "execution_count": null,
   "metadata": {},
   "outputs": [],
   "source": [
    "final_column_sorting=[\"MKT\",\"PROD\",\"CP_MANUFACTURER\",\"CP_FRANCHISE\",\"CP_BRAND\",\"CP_CHARACTERISTIC\",\"PER\",\"Doll_Shr\",\n",
    "                      \"Doll_Shr_Chg\",\"Base_Doll_Shr\",\"Base_Doll_Shr_Chg\",\"Store_selling\",\"Store_selling_Chg\",\"Dollars\",\n",
    "                      \"Dollars_Chg\",\"Cum_Distri_Pts\",\"Cum_Distri_Pts_Chg\"\n",
    "                      ]\n",
    "Price_Tier_final=df2[final_column_sorting]"
   ]
  },
  {
   "cell_type": "code",
   "execution_count": null,
   "metadata": {},
   "outputs": [],
   "source": [
    "Price_Tier_final.head(3)"
   ]
  },
  {
   "cell_type": "code",
   "execution_count": null,
   "metadata": {},
   "outputs": [],
   "source": [
    "Price_Tier_final.to_csv(path_MW+\"characteristics_1.csv\",index=False)"
   ]
  },
  {
   "cell_type": "markdown",
   "metadata": {},
   "source": [
    "## Characteristics 2"
   ]
  },
  {
   "cell_type": "code",
   "execution_count": null,
   "metadata": {},
   "outputs": [],
   "source": [
    "Adult_data= Biz_Data_MW.copy()"
   ]
  },
  {
   "cell_type": "code",
   "execution_count": null,
   "metadata": {},
   "outputs": [],
   "source": [
    "Char = [\"ADULT\",\"KIDS\"]\n",
    "Time_Period=list(Adult_data.columns[16:17])+list(Adult_data.columns[11:13])+list(Adult_data.columns[10:11])+list(Adult_data.columns[6:10])\n",
    "print(Time_Period)"
   ]
  },
  {
   "cell_type": "code",
   "execution_count": null,
   "metadata": {},
   "outputs": [],
   "source": [
    "#Filter\n",
    "Adult_data=Adult_data[Adult_data[\"Char\"].isin(Char)]"
   ]
  },
  {
   "cell_type": "code",
   "execution_count": null,
   "metadata": {},
   "outputs": [],
   "source": [
    "Adult_data.columns"
   ]
  },
  {
   "cell_type": "code",
   "execution_count": null,
   "metadata": {},
   "outputs": [],
   "source": [
    "Adult_data.rename(columns={\"Markets\":\"MKT\",\"Products\":\"PROD\",\"Manufacturer\":\"CP_MANUFACTURER\",\"Char\":\"CP_CHARACTERISTIC\"\n",
    "                           },inplace=True)"
   ]
  },
  {
   "cell_type": "code",
   "execution_count": null,
   "metadata": {},
   "outputs": [],
   "source": [
    "Adult_data[[\"CP_FRANCHISE\",\"CP_BRAND\"]]=\"\""
   ]
  },
  {
   "cell_type": "code",
   "execution_count": null,
   "metadata": {},
   "outputs": [],
   "source": [
    "df1=pd.melt(Adult_data, id_vars =[\"MKT\",\"PROD\",\"CP_MANUFACTURER\",\"CP_FRANCHISE\",\"CP_BRAND\",\"CP_CHARACTERISTIC\",\"Facts\"], value_vars =Time_Period,var_name=\"PER\")\n",
    "\n",
    "df1[\"value\"]=df1[\"value\"].apply(pd.to_numeric)"
   ]
  },
  {
   "cell_type": "code",
   "execution_count": null,
   "metadata": {},
   "outputs": [],
   "source": [
    "df2=df1.pivot_table(index=[\"MKT\",\"PROD\",\"CP_MANUFACTURER\",\"CP_FRANCHISE\",\"CP_BRAND\",\"CP_CHARACTERISTIC\",'PER'],columns='Facts')\n",
    "\n",
    "df2.columns=df2.columns.droplevel().rename(None)\n",
    "df2.reset_index(inplace =True)"
   ]
  },
  {
   "cell_type": "code",
   "execution_count": null,
   "metadata": {},
   "outputs": [],
   "source": [
    "from pandas.api.types import CategoricalDtype\n",
    "\n",
    "Time_Period_order = CategoricalDtype(\n",
    "    Time_Period, \n",
    "    ordered=True\n",
    ")\n",
    "\n",
    "df2['PER'] = df2['PER'].astype(Time_Period_order)\n",
    "\n",
    "df2.sort_values(['MKT','PROD','PER'],inplace=True)"
   ]
  },
  {
   "cell_type": "code",
   "execution_count": null,
   "metadata": {},
   "outputs": [],
   "source": [
    "final_column_sorting=[\"MKT\",\"PROD\",\"CP_MANUFACTURER\",\"CP_FRANCHISE\",\"CP_BRAND\",\"CP_CHARACTERISTIC\",\"PER\",\"Doll_Shr\",\n",
    "                      \"Doll_Shr_Chg\",\"Base_Doll_Shr\",\"Base_Doll_Shr_Chg\",\"Store_selling\",\"Store_selling_Chg\",\"Dollars\",\n",
    "                      \"Dollars_Chg\",\"Cum_Distri_Pts\",\"Cum_Distri_Pts_Chg\"\n",
    "                      ]\n",
    "Adult_data_final=df2[final_column_sorting]"
   ]
  },
  {
   "cell_type": "code",
   "execution_count": null,
   "metadata": {
    "scrolled": true
   },
   "outputs": [],
   "source": [
    "Adult_data_final.head(3)"
   ]
  },
  {
   "cell_type": "code",
   "execution_count": null,
   "metadata": {},
   "outputs": [],
   "source": [
    "Adult_data_final.to_csv(path_MW+\"characteristics_2.csv\",index=False)"
   ]
  },
  {
   "cell_type": "code",
   "execution_count": null,
   "metadata": {},
   "outputs": [],
   "source": []
  },
  {
   "cell_type": "code",
   "execution_count": null,
   "metadata": {},
   "outputs": [],
   "source": []
  },
  {
   "cell_type": "markdown",
   "metadata": {},
   "source": [
    "## MTB"
   ]
  },
  {
   "cell_type": "code",
   "execution_count": null,
   "metadata": {},
   "outputs": [],
   "source": [
    "# path to store OuMTBut files\n",
    "path_MTB=\"//falmumapp34/Nielsen Connect Transition & Maintenance (20-SCP-3650)/05. Output Data/5P Output/MTB/\""
   ]
  },
  {
   "cell_type": "code",
   "execution_count": null,
   "metadata": {},
   "outputs": [],
   "source": [
    "Biz_Data_MTB=Biz_Data[Biz_Data[\"ShareBasis\"]==\"MANUAL\"]"
   ]
  },
  {
   "cell_type": "markdown",
   "metadata": {},
   "source": [
    "## Characteristics 3"
   ]
  },
  {
   "cell_type": "code",
   "execution_count": null,
   "metadata": {},
   "outputs": [],
   "source": [
    "Segment= Biz_Data_MTB.copy()"
   ]
  },
  {
   "cell_type": "code",
   "execution_count": null,
   "metadata": {},
   "outputs": [],
   "source": [
    "Segment.columns"
   ]
  },
  {
   "cell_type": "code",
   "execution_count": null,
   "metadata": {},
   "outputs": [],
   "source": [
    "Char = ['HIGH PREMIUM', 'HIGH SUPER PREMIUM', 'LOW PREMIUM', 'MIDTIER', 'PREMIUM', 'PRVT LBL',\n",
    "         'REM PRICE TIER', 'SUPER PREMIUM', 'UBER PREMIUM', 'VALUE']\n",
    "\n",
    "Time_Period=list(Segment.columns[16:17])+list(Segment.columns[11:13])+list(Segment.columns[10:11])+list(Segment.columns[6:10])\n",
    "print(Time_Period)"
   ]
  },
  {
   "cell_type": "code",
   "execution_count": null,
   "metadata": {},
   "outputs": [],
   "source": [
    "#Filter\n",
    "Segment=Segment[Segment[\"Char\"].isin(Char)]"
   ]
  },
  {
   "cell_type": "code",
   "execution_count": null,
   "metadata": {},
   "outputs": [],
   "source": [
    "Segment.rename(columns={\"Markets\":\"MKT\",\"Products\":\"PROD\",\"Manufacturer\":\"CP_MANUFACTURER\",\"Char\":\"CP_CHARACTERISTIC\"\n",
    "                           },inplace=True)"
   ]
  },
  {
   "cell_type": "code",
   "execution_count": null,
   "metadata": {},
   "outputs": [],
   "source": [
    "Segment.head()"
   ]
  },
  {
   "cell_type": "code",
   "execution_count": null,
   "metadata": {},
   "outputs": [],
   "source": [
    "Segment[\"CP_BRAND\"]=\"\"\n",
    "Segment[\"CP_FRANCHISE\"]=\"\""
   ]
  },
  {
   "cell_type": "code",
   "execution_count": null,
   "metadata": {},
   "outputs": [],
   "source": [
    "df1=pd.melt(Segment, id_vars =[\"MKT\",\"PROD\",\"CP_MANUFACTURER\",\"CP_FRANCHISE\",\"CP_BRAND\",\"CP_CHARACTERISTIC\",\"Facts\"], value_vars =Time_Period,var_name=\"PER\")\n",
    "\n",
    "df1[\"value\"]=df1[\"value\"].apply(pd.to_numeric)\n"
   ]
  },
  {
   "cell_type": "code",
   "execution_count": null,
   "metadata": {},
   "outputs": [],
   "source": [
    "df2=df1.pivot_table(index=[\"MKT\",\"PROD\",\"CP_MANUFACTURER\",\"CP_FRANCHISE\",\"CP_BRAND\",\"CP_CHARACTERISTIC\",'PER'],columns='Facts')\n",
    "\n",
    "df2.columns=df2.columns.droplevel().rename(None)\n",
    "df2.reset_index(inplace =True)"
   ]
  },
  {
   "cell_type": "code",
   "execution_count": null,
   "metadata": {},
   "outputs": [],
   "source": [
    "from pandas.api.types import CategoricalDtype\n",
    "\n",
    "Time_Period_order = CategoricalDtype(\n",
    "    Time_Period, \n",
    "    ordered=True\n",
    ")\n",
    "\n",
    "df2['PER'] = df2['PER'].astype(Time_Period_order)\n",
    "\n",
    "df2.sort_values(['MKT','PROD','PER'],inplace=True)"
   ]
  },
  {
   "cell_type": "code",
   "execution_count": null,
   "metadata": {},
   "outputs": [],
   "source": [
    "final_column_sorting=[\"MKT\",\"PROD\",\"CP_MANUFACTURER\",\"CP_FRANCHISE\",\"CP_BRAND\",\"CP_CHARACTERISTIC\",\"PER\",\n",
    "                      \"Doll_Shr\",\"Doll_Shr_Chg\",\"Base_Doll_Shr\",\"Base_Doll_Shr_Chg\",\"Store_selling\",\"Store_selling_Chg\",\n",
    "                      \"Dollars\",\"Dollars_Chg\",\"Cum_Distri_Pts\",\"Cum_Distri_Pts_Chg\"\n",
    "                      ]\n",
    "Segment_final=df2[final_column_sorting]"
   ]
  },
  {
   "cell_type": "code",
   "execution_count": null,
   "metadata": {
    "scrolled": true
   },
   "outputs": [],
   "source": [
    "Segment_final.to_csv(path_MTB+\"characteristics_3.csv\",index=False)"
   ]
  },
  {
   "cell_type": "code",
   "execution_count": null,
   "metadata": {},
   "outputs": [],
   "source": [
    "Segment_final.shape"
   ]
  },
  {
   "cell_type": "markdown",
   "metadata": {},
   "source": [
    "## Characteristic 1"
   ]
  },
  {
   "cell_type": "code",
   "execution_count": null,
   "metadata": {},
   "outputs": [],
   "source": [
    "Price_Tier= Biz_Data_MTB.copy()"
   ]
  },
  {
   "cell_type": "code",
   "execution_count": null,
   "metadata": {},
   "outputs": [],
   "source": [
    "Char = ['1 PK', '10 PK', '2 PK', '3 PK', '4 PK', '5 PK', '6 PK', '7 PK', '8 PK', '12 PK']\n",
    "Time_Period=list(Price_Tier.columns[16:17])+list(Price_Tier.columns[11:13])+list(Price_Tier.columns[10:11])+list(Price_Tier.columns[6:10])\n",
    "print(Time_Period)"
   ]
  },
  {
   "cell_type": "code",
   "execution_count": null,
   "metadata": {},
   "outputs": [],
   "source": [
    "Price_Tier.head()"
   ]
  },
  {
   "cell_type": "code",
   "execution_count": null,
   "metadata": {},
   "outputs": [],
   "source": [
    "#Filter\n",
    "Price_Tier=Price_Tier[Price_Tier[\"Char\"].isin(Char)]"
   ]
  },
  {
   "cell_type": "code",
   "execution_count": null,
   "metadata": {},
   "outputs": [],
   "source": [
    "Price_Tier.columns"
   ]
  },
  {
   "cell_type": "code",
   "execution_count": null,
   "metadata": {},
   "outputs": [],
   "source": [
    "Price_Tier.rename(columns={\"Markets\":\"MKT\",\"Products\":\"PROD\",\"Manufacturer\":\"CP_MANUFACTURER\",\"Char\":\"CP_CHARACTERISTIC\"\n",
    "                           },inplace=True)"
   ]
  },
  {
   "cell_type": "code",
   "execution_count": null,
   "metadata": {},
   "outputs": [],
   "source": [
    "Price_Tier[[\"CP_FRANCHISE\",\"CP_BRAND\"]]=\"\""
   ]
  },
  {
   "cell_type": "code",
   "execution_count": null,
   "metadata": {},
   "outputs": [],
   "source": [
    "df1=pd.melt(Price_Tier, id_vars =[\"MKT\",\"PROD\",\"CP_MANUFACTURER\",\"CP_FRANCHISE\",\"CP_BRAND\",\"CP_CHARACTERISTIC\",\"Facts\"], value_vars =Time_Period,var_name=\"PER\")\n",
    "\n",
    "df1[\"value\"]=df1[\"value\"].apply(pd.to_numeric)"
   ]
  },
  {
   "cell_type": "code",
   "execution_count": null,
   "metadata": {},
   "outputs": [],
   "source": [
    "df2=df1.pivot_table(index=[\"MKT\",\"PROD\",\"CP_MANUFACTURER\",\"CP_FRANCHISE\",\"CP_BRAND\",\"CP_CHARACTERISTIC\",'PER'],columns='Facts')\n",
    "\n",
    "df2.columns=df2.columns.droplevel().rename(None)\n",
    "df2.reset_index(inplace =True)"
   ]
  },
  {
   "cell_type": "code",
   "execution_count": null,
   "metadata": {},
   "outputs": [],
   "source": [
    "from pandas.api.types import CategoricalDtype\n",
    "\n",
    "Time_Period_order = CategoricalDtype(\n",
    "    Time_Period, \n",
    "    ordered=True\n",
    ")\n",
    "\n",
    "df2['PER'] = df2['PER'].astype(Time_Period_order)\n",
    "\n",
    "df2.sort_values(['MKT','PROD','PER'],inplace=True)"
   ]
  },
  {
   "cell_type": "code",
   "execution_count": null,
   "metadata": {},
   "outputs": [],
   "source": [
    "final_column_sorting=[\"MKT\",\"PROD\",\"CP_MANUFACTURER\",\"CP_FRANCHISE\",\"CP_BRAND\",\"CP_CHARACTERISTIC\",\"PER\",\"Doll_Shr\",\n",
    "                      \"Doll_Shr_Chg\",\"Base_Doll_Shr\",\"Base_Doll_Shr_Chg\",\"Store_selling\",\"Store_selling_Chg\",\"Dollars\",\n",
    "                      \"Dollars_Chg\",\"Cum_Distri_Pts\",\"Cum_Distri_Pts_Chg\"\n",
    "                      ]\n",
    "Price_Tier_final=df2[final_column_sorting]"
   ]
  },
  {
   "cell_type": "code",
   "execution_count": null,
   "metadata": {},
   "outputs": [],
   "source": [
    "Price_Tier_final.head(3)"
   ]
  },
  {
   "cell_type": "code",
   "execution_count": null,
   "metadata": {},
   "outputs": [],
   "source": [
    "Price_Tier_final.to_csv(path_MTB+\"characteristics_1.csv\",index=False)"
   ]
  },
  {
   "cell_type": "markdown",
   "metadata": {},
   "source": [
    "## Characteristics 2"
   ]
  },
  {
   "cell_type": "code",
   "execution_count": null,
   "metadata": {},
   "outputs": [],
   "source": [
    "Adult_data= Biz_Data_MTB.copy()"
   ]
  },
  {
   "cell_type": "code",
   "execution_count": null,
   "metadata": {},
   "outputs": [],
   "source": [
    "Char = [\"ADULT\",\"KIDS\"]\n",
    "Time_Period=list(Adult_data.columns[16:17])+list(Adult_data.columns[11:13])+list(Adult_data.columns[10:11])+list(Adult_data.columns[6:10])\n",
    "print(Time_Period)"
   ]
  },
  {
   "cell_type": "code",
   "execution_count": null,
   "metadata": {},
   "outputs": [],
   "source": [
    "#Filter\n",
    "Adult_data=Adult_data[Adult_data[\"Char\"].isin(Char)]"
   ]
  },
  {
   "cell_type": "code",
   "execution_count": null,
   "metadata": {},
   "outputs": [],
   "source": [
    "Adult_data.columns"
   ]
  },
  {
   "cell_type": "code",
   "execution_count": null,
   "metadata": {},
   "outputs": [],
   "source": [
    "Adult_data.rename(columns={\"Markets\":\"MKT\",\"Products\":\"PROD\",\"Manufacturer\":\"CP_MANUFACTURER\",\"Char\":\"CP_CHARACTERISTIC\"\n",
    "                           },inplace=True)"
   ]
  },
  {
   "cell_type": "code",
   "execution_count": null,
   "metadata": {},
   "outputs": [],
   "source": [
    "Adult_data[[\"CP_FRANCHISE\",\"CP_BRAND\"]]=\"\""
   ]
  },
  {
   "cell_type": "code",
   "execution_count": null,
   "metadata": {},
   "outputs": [],
   "source": [
    "df1=pd.melt(Adult_data, id_vars =[\"MKT\",\"PROD\",\"CP_MANUFACTURER\",\"CP_FRANCHISE\",\"CP_BRAND\",\"CP_CHARACTERISTIC\",\"Facts\"], value_vars =Time_Period,var_name=\"PER\")\n",
    "\n",
    "df1[\"value\"]=df1[\"value\"].apply(pd.to_numeric)"
   ]
  },
  {
   "cell_type": "code",
   "execution_count": null,
   "metadata": {},
   "outputs": [],
   "source": [
    "df2=df1.pivot_table(index=[\"MKT\",\"PROD\",\"CP_MANUFACTURER\",\"CP_FRANCHISE\",\"CP_BRAND\",\"CP_CHARACTERISTIC\",'PER'],columns='Facts')\n",
    "\n",
    "df2.columns=df2.columns.droplevel().rename(None)\n",
    "df2.reset_index(inplace =True)"
   ]
  },
  {
   "cell_type": "code",
   "execution_count": null,
   "metadata": {},
   "outputs": [],
   "source": [
    "from pandas.api.types import CategoricalDtype\n",
    "\n",
    "Time_Period_order = CategoricalDtype(\n",
    "    Time_Period, \n",
    "    ordered=True\n",
    ")\n",
    "\n",
    "df2['PER'] = df2['PER'].astype(Time_Period_order)\n",
    "\n",
    "df2.sort_values(['MKT','PROD','PER'],inplace=True)"
   ]
  },
  {
   "cell_type": "code",
   "execution_count": null,
   "metadata": {},
   "outputs": [],
   "source": [
    "final_column_sorting=[\"MKT\",\"PROD\",\"CP_MANUFACTURER\",\"CP_FRANCHISE\",\"CP_BRAND\",\"CP_CHARACTERISTIC\",\"PER\",\"Doll_Shr\",\n",
    "                      \"Doll_Shr_Chg\",\"Base_Doll_Shr\",\"Base_Doll_Shr_Chg\",\"Store_selling\",\"Store_selling_Chg\",\"Dollars\",\n",
    "                      \"Dollars_Chg\",\"Cum_Distri_Pts\",\"Cum_Distri_Pts_Chg\"\n",
    "                      ]\n",
    "Adult_data_final=df2[final_column_sorting]"
   ]
  },
  {
   "cell_type": "code",
   "execution_count": null,
   "metadata": {
    "scrolled": true
   },
   "outputs": [],
   "source": [
    "Adult_data_final.head(3)"
   ]
  },
  {
   "cell_type": "code",
   "execution_count": null,
   "metadata": {},
   "outputs": [],
   "source": [
    "Adult_data_final.to_csv(path_MTB+\"characteristics_2.csv\",index=False)"
   ]
  },
  {
   "cell_type": "code",
   "execution_count": null,
   "metadata": {},
   "outputs": [],
   "source": []
  },
  {
   "cell_type": "markdown",
   "metadata": {},
   "source": [
    "## PTB"
   ]
  },
  {
   "cell_type": "code",
   "execution_count": null,
   "metadata": {},
   "outputs": [],
   "source": [
    "# path to store OuPTBut files\n",
    "path_PTB=\"//falmumapp34/Nielsen Connect Transition & Maintenance (20-SCP-3650)/05. Output Data/5P Output/PTB/\""
   ]
  },
  {
   "cell_type": "code",
   "execution_count": null,
   "metadata": {},
   "outputs": [],
   "source": [
    "Biz_Data_PTB=Biz_Data[Biz_Data[\"ShareBasis\"].isin([\"POWER\",\"BATTERY+HYBRID\"])]"
   ]
  },
  {
   "cell_type": "code",
   "execution_count": null,
   "metadata": {},
   "outputs": [],
   "source": [
    "set(Biz_Data_PTB[\"ShareBasis\"])"
   ]
  },
  {
   "cell_type": "code",
   "execution_count": null,
   "metadata": {},
   "outputs": [],
   "source": [
    "set(Biz_Data_PTB[\"Facts\"])"
   ]
  },
  {
   "cell_type": "markdown",
   "metadata": {},
   "source": [
    "## Characteristic 1"
   ]
  },
  {
   "cell_type": "code",
   "execution_count": null,
   "metadata": {},
   "outputs": [],
   "source": [
    "Price_Tier= Biz_Data_PTB[Biz_Data_PTB[\"ShareBasis\"] == \"POWER\"]"
   ]
  },
  {
   "cell_type": "code",
   "execution_count": null,
   "metadata": {},
   "outputs": [],
   "source": [
    "set(Price_Tier[\"Facts\"])"
   ]
  },
  {
   "cell_type": "code",
   "execution_count": null,
   "metadata": {},
   "outputs": [],
   "source": [
    "Char = [\"ADULT\",\"KIDS\"]\n",
    "Time_Period=list(Price_Tier.columns[16:17])+list(Price_Tier.columns[11:13])+list(Price_Tier.columns[10:11])+list(Price_Tier.columns[6:10])\n",
    "print(Time_Period)"
   ]
  },
  {
   "cell_type": "code",
   "execution_count": null,
   "metadata": {},
   "outputs": [],
   "source": [
    "Price_Tier.head()"
   ]
  },
  {
   "cell_type": "code",
   "execution_count": null,
   "metadata": {},
   "outputs": [],
   "source": [
    "#Filter\n",
    "Price_Tier=Price_Tier[Price_Tier[\"Char\"].isin(Char)]"
   ]
  },
  {
   "cell_type": "code",
   "execution_count": null,
   "metadata": {},
   "outputs": [],
   "source": [
    "Price_Tier.columns"
   ]
  },
  {
   "cell_type": "code",
   "execution_count": null,
   "metadata": {},
   "outputs": [],
   "source": [
    "Price_Tier.rename(columns={\"Markets\":\"MKT\",\"Products\":\"PROD\",\"Manufacturer\":\"CP_MANUFACTURER\",\"Char\":\"CP_CHARACTERISTIC\"\n",
    "                           },inplace=True)"
   ]
  },
  {
   "cell_type": "code",
   "execution_count": null,
   "metadata": {},
   "outputs": [],
   "source": [
    "Price_Tier[[\"CP_FRANCHISE\",\"CP_BRAND\"]]=\"\""
   ]
  },
  {
   "cell_type": "code",
   "execution_count": null,
   "metadata": {},
   "outputs": [],
   "source": [
    "df1=pd.melt(Price_Tier, id_vars =[\"MKT\",\"PROD\",\"CP_MANUFACTURER\",\"CP_FRANCHISE\",\"CP_BRAND\",\"CP_CHARACTERISTIC\",\"Facts\"], value_vars =Time_Period,var_name=\"PER\")\n",
    "\n",
    "df1[\"value\"]=df1[\"value\"].apply(pd.to_numeric)"
   ]
  },
  {
   "cell_type": "code",
   "execution_count": null,
   "metadata": {},
   "outputs": [],
   "source": [
    "df2=df1.pivot_table(index=[\"MKT\",\"PROD\",\"CP_MANUFACTURER\",\"CP_FRANCHISE\",\"CP_BRAND\",\"CP_CHARACTERISTIC\",'PER'],columns='Facts')\n",
    "\n",
    "df2.columns=df2.columns.droplevel().rename(None)\n",
    "df2.reset_index(inplace =True)"
   ]
  },
  {
   "cell_type": "code",
   "execution_count": null,
   "metadata": {},
   "outputs": [],
   "source": [
    "from pandas.api.types import CategoricalDtype\n",
    "\n",
    "Time_Period_order = CategoricalDtype(\n",
    "    Time_Period, \n",
    "    ordered=True\n",
    ")\n",
    "\n",
    "df2['PER'] = df2['PER'].astype(Time_Period_order)\n",
    "\n",
    "df2.sort_values(['MKT','PROD','PER'],inplace=True)"
   ]
  },
  {
   "cell_type": "code",
   "execution_count": null,
   "metadata": {},
   "outputs": [],
   "source": [
    "final_column_sorting=[\"MKT\",\"PROD\",\"CP_MANUFACTURER\",\"CP_FRANCHISE\",\"CP_BRAND\",\"CP_CHARACTERISTIC\",\"PER\",\"Doll_Shr\",\n",
    "                      \"Doll_Shr_Chg\",\"Base_Doll_Shr\",\"Base_Doll_Shr_Chg\",\"Store_selling\",\"Store_selling_Chg\",\"Dollars\",\n",
    "                      \"Dollars_Chg\",\"Cum_Distri_Pts\",\"Cum_Distri_Pts_Chg\"\n",
    "                      ]\n",
    "Price_Tier_final=df2[final_column_sorting]"
   ]
  },
  {
   "cell_type": "code",
   "execution_count": null,
   "metadata": {},
   "outputs": [],
   "source": [
    "Price_Tier_final.head(3)"
   ]
  },
  {
   "cell_type": "code",
   "execution_count": null,
   "metadata": {},
   "outputs": [],
   "source": [
    "Price_Tier_final.to_csv(path_PTB+\"characteristics_1.csv\",index=False)"
   ]
  },
  {
   "cell_type": "markdown",
   "metadata": {},
   "source": [
    "## Characteristics 2"
   ]
  },
  {
   "cell_type": "code",
   "execution_count": null,
   "metadata": {},
   "outputs": [],
   "source": [
    "Adult_data= Biz_Data_PTB[Biz_Data_PTB[\"ShareBasis\"]==\"BATTERY+HYBRID\"]"
   ]
  },
  {
   "cell_type": "code",
   "execution_count": null,
   "metadata": {},
   "outputs": [],
   "source": [
    "set(Adult_data[\"Facts\"])"
   ]
  },
  {
   "cell_type": "code",
   "execution_count": null,
   "metadata": {},
   "outputs": [],
   "source": [
    "Char = [\"ADULT\",\"KIDS\"]\n",
    "Time_Period=list(Adult_data.columns[16:17])+list(Adult_data.columns[11:13])+list(Adult_data.columns[10:11])+list(Adult_data.columns[6:10])\n",
    "print(Time_Period)"
   ]
  },
  {
   "cell_type": "code",
   "execution_count": null,
   "metadata": {},
   "outputs": [],
   "source": [
    "#Filter\n",
    "Adult_data=Adult_data[Adult_data[\"Char\"].isin(Char)]"
   ]
  },
  {
   "cell_type": "code",
   "execution_count": null,
   "metadata": {},
   "outputs": [],
   "source": [
    "Adult_data.columns"
   ]
  },
  {
   "cell_type": "code",
   "execution_count": null,
   "metadata": {},
   "outputs": [],
   "source": [
    "Adult_data.rename(columns={\"Markets\":\"MKT\",\"Products\":\"PROD\",\"Manufacturer\":\"CP_MANUFACTURER\",\"Char\":\"CP_CHARACTERISTIC\"\n",
    "                           },inplace=True)"
   ]
  },
  {
   "cell_type": "code",
   "execution_count": null,
   "metadata": {},
   "outputs": [],
   "source": [
    "Adult_data[[\"CP_FRANCHISE\",\"CP_BRAND\"]]=\"\""
   ]
  },
  {
   "cell_type": "code",
   "execution_count": null,
   "metadata": {},
   "outputs": [],
   "source": [
    "df1=pd.melt(Adult_data, id_vars =[\"MKT\",\"PROD\",\"CP_MANUFACTURER\",\"CP_FRANCHISE\",\"CP_BRAND\",\"CP_CHARACTERISTIC\",\"Facts\"], value_vars =Time_Period,var_name=\"PER\")\n",
    "\n",
    "df1[\"value\"]=df1[\"value\"].apply(pd.to_numeric)"
   ]
  },
  {
   "cell_type": "code",
   "execution_count": null,
   "metadata": {},
   "outputs": [],
   "source": [
    "df2=df1.pivot_table(index=[\"MKT\",\"PROD\",\"CP_MANUFACTURER\",\"CP_FRANCHISE\",\"CP_BRAND\",\"CP_CHARACTERISTIC\",'PER'],columns='Facts')\n",
    "\n",
    "df2.columns=df2.columns.droplevel().rename(None)\n",
    "df2.reset_index(inplace =True)"
   ]
  },
  {
   "cell_type": "code",
   "execution_count": null,
   "metadata": {},
   "outputs": [],
   "source": [
    "df2.columns"
   ]
  },
  {
   "cell_type": "code",
   "execution_count": null,
   "metadata": {},
   "outputs": [],
   "source": [
    "from pandas.api.types import CategoricalDtype\n",
    "\n",
    "Time_Period_order = CategoricalDtype(\n",
    "    Time_Period, \n",
    "    ordered=True\n",
    ")\n",
    "\n",
    "df2['PER'] = df2['PER'].astype(Time_Period_order)\n",
    "\n",
    "df2.sort_values(['MKT','PROD','PER'],inplace=True)"
   ]
  },
  {
   "cell_type": "code",
   "execution_count": null,
   "metadata": {},
   "outputs": [],
   "source": [
    "final_column_sorting=[\"MKT\",\"PROD\",\"CP_MANUFACTURER\",\"CP_FRANCHISE\",\"CP_BRAND\",\"CP_CHARACTERISTIC\",\"PER\",\"Doll_Shr\",\n",
    "                      \"Doll_Shr_Chg\",\"Base_Doll_Shr\",\"Base_Doll_Shr_Chg\",\"Store_selling\",\"Store_selling_Chg\",\"Dollars\",\n",
    "                      \"Dollars_Chg\",\"Cum_Distri_Pts\",\"Cum_Distri_Pts_Chg\"\n",
    "                      ]\n",
    "Adult_data_final=df2[final_column_sorting]"
   ]
  },
  {
   "cell_type": "code",
   "execution_count": null,
   "metadata": {
    "scrolled": true
   },
   "outputs": [],
   "source": [
    "Adult_data_final.head(3)"
   ]
  },
  {
   "cell_type": "code",
   "execution_count": null,
   "metadata": {},
   "outputs": [],
   "source": [
    "Adult_data_final.to_csv(path_PTB+\"characteristics_2.csv\",index=False)"
   ]
  },
  {
   "cell_type": "code",
   "execution_count": null,
   "metadata": {},
   "outputs": [],
   "source": []
  },
  {
   "cell_type": "markdown",
   "metadata": {},
   "source": [
    "## BAR"
   ]
  },
  {
   "cell_type": "code",
   "execution_count": null,
   "metadata": {},
   "outputs": [],
   "source": [
    "# path to store Output files\n",
    "path_BAR=\"//falmumapp34/Nielsen Connect Transition & Maintenance (20-SCP-3650)/05. Output Data/5P Output/BAR/\""
   ]
  },
  {
   "cell_type": "code",
   "execution_count": null,
   "metadata": {},
   "outputs": [],
   "source": [
    "Biz_Data_BAR=Biz_Data[Biz_Data[\"ShareBasis\"]==\"BAR\"]\n"
   ]
  },
  {
   "cell_type": "markdown",
   "metadata": {},
   "source": [
    "## Characteristics 1"
   ]
  },
  {
   "cell_type": "code",
   "execution_count": null,
   "metadata": {},
   "outputs": [],
   "source": [
    "Characteristics1= Biz_Data_BAR.copy()\n",
    "Characteristics1.head(1)"
   ]
  },
  {
   "cell_type": "code",
   "execution_count": null,
   "metadata": {},
   "outputs": [],
   "source": [
    "Char = [ \"BAR BATH 3.7-6.49 OZ\",\"BAR BATH 3.75-6.49 OZ\",\"BAR FMLY 6.5-9 OZ\",\"BAR PRSNL 2.51-3.69 OZ\",\n",
    "        \"BAR SUPER 9.1+ OZ\",\"BAR TRIAL 0-2.5 OZ\",\"REM SIZE RANGE\"]\n",
    "\n",
    "Time_Period=list(Characteristics1.columns[16:17])+list(Characteristics1.columns[11:13])+list(Characteristics1.columns[10:11])+list(Characteristics1.columns[6:10])\n",
    "print(Time_Period)"
   ]
  },
  {
   "cell_type": "code",
   "execution_count": null,
   "metadata": {},
   "outputs": [],
   "source": [
    "#Filter\n",
    "Characteristics1=Characteristics1[Characteristics1[\"Char\"].isin(Char)]"
   ]
  },
  {
   "cell_type": "code",
   "execution_count": null,
   "metadata": {},
   "outputs": [],
   "source": [
    "Characteristics1.rename(columns={\"Markets\":\"MKT\",\"Products\":\"PROD\",\"Manufacturer\":\"CP_FRANCHISE\",\"Char\":\"CP_CHARACTERISTICS\"\n",
    "                           },inplace=True)\n",
    "Characteristics1.head()"
   ]
  },
  {
   "cell_type": "code",
   "execution_count": null,
   "metadata": {},
   "outputs": [],
   "source": [
    "Characteristics1[\"CP_BRAND\"]=\"\"\n",
    "Characteristics1[\"CP_MANUFACTURER\"]=\"\""
   ]
  },
  {
   "cell_type": "code",
   "execution_count": null,
   "metadata": {},
   "outputs": [],
   "source": [
    "df1=pd.melt(Characteristics1, id_vars =[\"MKT\",\"PROD\",\"CP_MANUFACTURER\",\"CP_FRANCHISE\",\"CP_BRAND\",\"CP_CHARACTERISTICS\",\"Facts\"], value_vars =Time_Period,var_name=\"PER\")\n",
    "\n",
    "df1[\"value\"]=df1[\"value\"].apply(pd.to_numeric)\n"
   ]
  },
  {
   "cell_type": "code",
   "execution_count": null,
   "metadata": {},
   "outputs": [],
   "source": [
    "df2=df1.pivot_table(index=[\"MKT\",\"PROD\",\"CP_MANUFACTURER\",\"CP_FRANCHISE\",\"CP_BRAND\",\"CP_CHARACTERISTICS\",'PER'],columns='Facts')\n",
    "\n",
    "df2.columns=df2.columns.droplevel().rename(None)\n",
    "df2.reset_index(inplace =True)\n",
    "df2.head()"
   ]
  },
  {
   "cell_type": "code",
   "execution_count": null,
   "metadata": {},
   "outputs": [],
   "source": [
    "from pandas.api.types import CategoricalDtype\n",
    "\n",
    "Time_Period_order = CategoricalDtype(\n",
    "    Time_Period, \n",
    "    ordered=True\n",
    ")\n",
    "\n",
    "df2['PER'] = df2['PER'].astype(Time_Period_order)\n",
    "\n",
    "df2.sort_values(['MKT','PROD','PER'],inplace=True)"
   ]
  },
  {
   "cell_type": "code",
   "execution_count": null,
   "metadata": {},
   "outputs": [],
   "source": [
    "final_column_sorting=[\"MKT\",\"PROD\",\"CP_MANUFACTURER\",\"CP_FRANCHISE\",\"CP_BRAND\",\"CP_CHARACTERISTICS\",\"PER\",\"Doll_Shr\",\n",
    "                      \"Doll_Shr_Chg\",\"Base_Doll_Shr\",\"Base_Doll_Shr_Chg\",\"Store_selling\",\"Store_selling_Chg\",\"Dollars\",\n",
    "                      \"Dollars_Chg\",\"Cum_Distri_Pts\",\"Cum_Distri_Pts_Chg\"\n",
    "                      ]\n",
    "Characteristics1_final=df2[final_column_sorting]"
   ]
  },
  {
   "cell_type": "code",
   "execution_count": null,
   "metadata": {
    "scrolled": true
   },
   "outputs": [],
   "source": [
    "Characteristics1_final.to_csv(path_BAR+\"Characteristics1.csv\",index=False)"
   ]
  },
  {
   "cell_type": "code",
   "execution_count": null,
   "metadata": {},
   "outputs": [],
   "source": [
    "Characteristics1_final.shape"
   ]
  },
  {
   "cell_type": "markdown",
   "metadata": {},
   "source": [
    "## Characteristics2"
   ]
  },
  {
   "cell_type": "code",
   "execution_count": null,
   "metadata": {},
   "outputs": [],
   "source": [
    "Characteristics2= Biz_Data_BAR.copy()"
   ]
  },
  {
   "cell_type": "code",
   "execution_count": null,
   "metadata": {},
   "outputs": [],
   "source": [
    "Char = [\"BASIC FRESHNESS\",\"CLEAN + FRESH\",\"CRAFTED\",\"FEMALE MSTRZNG\",\"FRAGRANCE\",\"GIFT SET\",\n",
    "        \"INGREDIENT\",\"MOISTURIZING\",\"MULTI-BENEFIT\",\"NATURAL\",\"REM SEGMENT\",\"REPAIR/RENEW\",\"SENSITIVE/GENTLE CLEANSING\"]\n",
    "Time_Period=list(Characteristics2.columns[16:17])+list(Characteristics2.columns[11:13])+list(Characteristics2.columns[10:11])+list(Characteristics2.columns[6:10])\n",
    "print(Time_Period)"
   ]
  },
  {
   "cell_type": "code",
   "execution_count": null,
   "metadata": {},
   "outputs": [],
   "source": [
    "Characteristics2.head()"
   ]
  },
  {
   "cell_type": "code",
   "execution_count": null,
   "metadata": {},
   "outputs": [],
   "source": [
    "#Filter\n",
    "Characteristics2=Characteristics2[Characteristics2[\"Char\"].isin(Char)]"
   ]
  },
  {
   "cell_type": "code",
   "execution_count": null,
   "metadata": {},
   "outputs": [],
   "source": [
    "Characteristics2.columns"
   ]
  },
  {
   "cell_type": "code",
   "execution_count": null,
   "metadata": {},
   "outputs": [],
   "source": [
    "Characteristics2.rename(columns={\"Markets\":\"MKT\",\"Products\":\"PROD\",\"Manufacturer\":\"CP_MANUFACTURER\",\"Char\":\"CP_CHARACTERISTICS\"\n",
    "                           },inplace=True)"
   ]
  },
  {
   "cell_type": "code",
   "execution_count": null,
   "metadata": {},
   "outputs": [],
   "source": [
    "Characteristics2[[\"CP_FRANCHISE\",\"CP_BRAND\"]]=\"\""
   ]
  },
  {
   "cell_type": "code",
   "execution_count": null,
   "metadata": {},
   "outputs": [],
   "source": [
    "df1=pd.melt(Characteristics2, id_vars =[\"MKT\",\"PROD\",\"CP_MANUFACTURER\",\"CP_FRANCHISE\",\"CP_BRAND\",\"CP_CHARACTERISTICS\",\"Facts\"], value_vars =Time_Period,var_name=\"PER\")\n",
    "\n",
    "df1[\"value\"]=df1[\"value\"].apply(pd.to_numeric)"
   ]
  },
  {
   "cell_type": "code",
   "execution_count": null,
   "metadata": {},
   "outputs": [],
   "source": [
    "df2=df1.pivot_table(index=[\"MKT\",\"PROD\",\"CP_MANUFACTURER\",\"CP_FRANCHISE\",\"CP_BRAND\",\"CP_CHARACTERISTICS\",'PER'],columns='Facts')\n",
    "\n",
    "df2.columns=df2.columns.droplevel().rename(None)\n",
    "df2.reset_index(inplace =True)"
   ]
  },
  {
   "cell_type": "code",
   "execution_count": null,
   "metadata": {},
   "outputs": [],
   "source": [
    "from pandas.api.types import CategoricalDtype\n",
    "\n",
    "Time_Period_order = CategoricalDtype(\n",
    "    Time_Period, \n",
    "    ordered=True\n",
    ")\n",
    "\n",
    "df2['PER'] = df2['PER'].astype(Time_Period_order)\n",
    "\n",
    "df2.sort_values(['MKT','PROD','PER'],inplace=True)"
   ]
  },
  {
   "cell_type": "code",
   "execution_count": null,
   "metadata": {},
   "outputs": [],
   "source": [
    "final_column_sorting=[\"MKT\",\"PROD\",\"CP_MANUFACTURER\",\"CP_FRANCHISE\",\"CP_BRAND\",\"CP_CHARACTERISTICS\",\"PER\",\"Doll_Shr\",\n",
    "                      \"Doll_Shr_Chg\",\"Base_Doll_Shr\",\"Base_Doll_Shr_Chg\",\"Store_selling\",\"Store_selling_Chg\",\"Dollars\",\n",
    "                      \"Dollars_Chg\",\"Cum_Distri_Pts\",\"Cum_Distri_Pts_Chg\"\n",
    "                      ]\n",
    "Characteristics2_final=df2[final_column_sorting]"
   ]
  },
  {
   "cell_type": "code",
   "execution_count": null,
   "metadata": {},
   "outputs": [],
   "source": [
    "Characteristics2_final.head(3)"
   ]
  },
  {
   "cell_type": "code",
   "execution_count": null,
   "metadata": {},
   "outputs": [],
   "source": [
    "Characteristics2_final.to_csv(path_BAR+\"Characteristics2.csv\",index=False)"
   ]
  },
  {
   "cell_type": "code",
   "execution_count": null,
   "metadata": {},
   "outputs": [],
   "source": []
  },
  {
   "cell_type": "markdown",
   "metadata": {},
   "source": [
    "## BW"
   ]
  },
  {
   "cell_type": "code",
   "execution_count": 69,
   "metadata": {},
   "outputs": [],
   "source": [
    "# path to store OuMTBut files\n",
    "path_BW=\"//falmumapp34/Nielsen Connect Transition & Maintenance (20-SCP-3650)/05. Output Data/5P Output/BW/\""
   ]
  },
  {
   "cell_type": "code",
   "execution_count": 70,
   "metadata": {},
   "outputs": [],
   "source": [
    "Biz_Data_BW=Biz_Data[Biz_Data[\"ShareBasis\"]==\"BODYWASH\"]"
   ]
  },
  {
   "cell_type": "code",
   "execution_count": 71,
   "metadata": {},
   "outputs": [
    {
     "data": {
      "text/plain": [
       "{'BODYWASH'}"
      ]
     },
     "execution_count": 71,
     "metadata": {},
     "output_type": "execute_result"
    }
   ],
   "source": [
    "set(Biz_Data_BW[\"ShareBasis\"])"
   ]
  },
  {
   "cell_type": "markdown",
   "metadata": {},
   "source": [
    "## Characteristics 3"
   ]
  },
  {
   "cell_type": "code",
   "execution_count": 72,
   "metadata": {},
   "outputs": [],
   "source": [
    "Segment= Biz_Data_BW.copy()"
   ]
  },
  {
   "cell_type": "code",
   "execution_count": 73,
   "metadata": {},
   "outputs": [
    {
     "data": {
      "text/plain": [
       "Index(['Markets', 'ShareBasis', 'Char', 'Manufacturer', 'Products', 'Facts',\n",
       "       'FY 2020', 'FY 2019', 'FY 2018', 'FY 2017', 'YTD 2021',\n",
       "       'Latest 13 Weeks', 'Latest 26 Weeks', 'Q4 2019', 'Q3 2019', 'Q2 2019',\n",
       "       '4 W/E 02/27/21'],\n",
       "      dtype='object')"
      ]
     },
     "execution_count": 73,
     "metadata": {},
     "output_type": "execute_result"
    }
   ],
   "source": [
    "Segment.columns"
   ]
  },
  {
   "cell_type": "code",
   "execution_count": 74,
   "metadata": {},
   "outputs": [
    {
     "data": {
      "text/plain": [
       "{'',\n",
       " 'AB/GEL 0-1.9 OZ',\n",
       " 'BAR PRSNL 2.51-3.69 OZ',\n",
       " 'BAR TRIAL 0-2.5 OZ',\n",
       " 'BASIC FRESHNESS',\n",
       " 'BETTER CLEAN',\n",
       " 'BW 12-14 OZ',\n",
       " 'BW 14.1-17.9 OZ',\n",
       " 'BW 18-19.9 OZ',\n",
       " 'BW 20-23.5 OZ',\n",
       " 'BW 23.6-24 OZ',\n",
       " 'BW 24.1 OZ+',\n",
       " 'BW 3-6.9 OZ',\n",
       " 'BW 7-11.9 OZ',\n",
       " 'BW < 3 OZ',\n",
       " 'BW FOAM',\n",
       " 'BW KIDS',\n",
       " 'CLEAN + FRESH',\n",
       " 'FEMALE',\n",
       " 'FEMALE BOUTIQUE',\n",
       " 'FEMALE FRAG',\n",
       " 'FEMALE MSTRZNG',\n",
       " 'FEMALE PRVT LBL',\n",
       " 'FORM EXPANSION',\n",
       " 'FRAGRANCE',\n",
       " 'FRAGRANCE STORY',\n",
       " 'GIFT SET',\n",
       " 'KIDS',\n",
       " 'LIQ PMP 11.1-11.9 OZ',\n",
       " 'LIQ PMP 12-13 OZ',\n",
       " 'LIQ PMP 16.9 OZ',\n",
       " 'LIQ PMP 7-7.9 OZ',\n",
       " 'LIQ PMP 8-8.4 OZ',\n",
       " 'LIQ PMP < 7 OZ',\n",
       " 'LIQ RFL 13-25 OZ',\n",
       " 'MALE',\n",
       " 'MOISTURIZING',\n",
       " 'MULTI-FUNCTIONAL',\n",
       " 'NATURAL',\n",
       " 'NOT APPLICABLE',\n",
       " 'REM SIZE RANGE',\n",
       " 'SENSITIVE/GENTLE CLEANSING'}"
      ]
     },
     "execution_count": 74,
     "metadata": {},
     "output_type": "execute_result"
    }
   ],
   "source": [
    "set(Segment[\"Char\"])"
   ]
  },
  {
   "cell_type": "code",
   "execution_count": 75,
   "metadata": {},
   "outputs": [
    {
     "name": "stdout",
     "output_type": "stream",
     "text": [
      "['4 W/E 02/27/21', 'Latest 13 Weeks', 'Latest 26 Weeks', 'YTD 2021', 'FY 2020', 'FY 2019', 'FY 2018', 'FY 2017']\n"
     ]
    }
   ],
   "source": [
    "Char = [\"BASIC FRESHNESS\",\"BETTER CLEAN\",\"BW FOAM\",\"BW KIDS\",\"FEMALE BOUTIQUE\",\"FEMALE FRAG\",\"FEMALE MSTRZNG\",\"FEMALE PRVT LBL\",\"FORM EXPANSION\",\"FRAGRANCE STORY\",\"GIFT SET\",\"MOISTURIZING\",\"MULTI-FUNCTIONAL\",\"NATURAL\"]\n",
    "\n",
    "Time_Period=list(Segment.columns[16:17])+list(Segment.columns[11:13])+list(Segment.columns[10:11])+list(Segment.columns[6:10])\n",
    "print(Time_Period)"
   ]
  },
  {
   "cell_type": "code",
   "execution_count": 76,
   "metadata": {},
   "outputs": [],
   "source": [
    "#Filter\n",
    "Segment=Segment[Segment[\"Char\"].isin(Char)]"
   ]
  },
  {
   "cell_type": "code",
   "execution_count": 77,
   "metadata": {},
   "outputs": [],
   "source": [
    "Segment.rename(columns={\"Markets\":\"MKT\",\"Products\":\"PROD\",\"Manufacturer\":\"CP_MANUFACTURER\",\"Char\":\"CP_CHARACTERISTIC\"\n",
    "                           },inplace=True)"
   ]
  },
  {
   "cell_type": "code",
   "execution_count": 78,
   "metadata": {},
   "outputs": [
    {
     "data": {
      "text/html": [
       "<div>\n",
       "<style scoped>\n",
       "    .dataframe tbody tr th:only-of-type {\n",
       "        vertical-align: middle;\n",
       "    }\n",
       "\n",
       "    .dataframe tbody tr th {\n",
       "        vertical-align: top;\n",
       "    }\n",
       "\n",
       "    .dataframe thead th {\n",
       "        text-align: right;\n",
       "    }\n",
       "</style>\n",
       "<table border=\"1\" class=\"dataframe\">\n",
       "  <thead>\n",
       "    <tr style=\"text-align: right;\">\n",
       "      <th></th>\n",
       "      <th>MKT</th>\n",
       "      <th>ShareBasis</th>\n",
       "      <th>CP_CHARACTERISTIC</th>\n",
       "      <th>CP_MANUFACTURER</th>\n",
       "      <th>PROD</th>\n",
       "      <th>Facts</th>\n",
       "      <th>FY 2020</th>\n",
       "      <th>FY 2019</th>\n",
       "      <th>FY 2018</th>\n",
       "      <th>FY 2017</th>\n",
       "      <th>YTD 2021</th>\n",
       "      <th>Latest 13 Weeks</th>\n",
       "      <th>Latest 26 Weeks</th>\n",
       "      <th>Q4 2019</th>\n",
       "      <th>Q3 2019</th>\n",
       "      <th>Q2 2019</th>\n",
       "      <th>4 W/E 02/27/21</th>\n",
       "    </tr>\n",
       "  </thead>\n",
       "  <tbody>\n",
       "    <tr>\n",
       "      <th>10</th>\n",
       "      <td>US AOC</td>\n",
       "      <td>BODYWASH</td>\n",
       "      <td>BASIC FRESHNESS</td>\n",
       "      <td></td>\n",
       "      <td>BODYWASH | BASIC FRESHNESS</td>\n",
       "      <td>Doll_Shr</td>\n",
       "      <td>10.426</td>\n",
       "      <td>9.766</td>\n",
       "      <td>8.437</td>\n",
       "      <td>8.639</td>\n",
       "      <td>10.825</td>\n",
       "      <td>10.505</td>\n",
       "      <td>10.558</td>\n",
       "      <td></td>\n",
       "      <td></td>\n",
       "      <td></td>\n",
       "      <td>11.461</td>\n",
       "    </tr>\n",
       "    <tr>\n",
       "      <th>11</th>\n",
       "      <td>US AOC</td>\n",
       "      <td>BODYWASH</td>\n",
       "      <td>BASIC FRESHNESS</td>\n",
       "      <td></td>\n",
       "      <td>BODYWASH | BASIC FRESHNESS</td>\n",
       "      <td>Doll_Shr_Chg</td>\n",
       "      <td>0.660</td>\n",
       "      <td>1.329</td>\n",
       "      <td>-0.202</td>\n",
       "      <td>8.639</td>\n",
       "      <td>0.533</td>\n",
       "      <td>0.392</td>\n",
       "      <td>0.425</td>\n",
       "      <td></td>\n",
       "      <td></td>\n",
       "      <td></td>\n",
       "      <td>0.973</td>\n",
       "    </tr>\n",
       "    <tr>\n",
       "      <th>12</th>\n",
       "      <td>US AOC</td>\n",
       "      <td>BODYWASH</td>\n",
       "      <td>BASIC FRESHNESS</td>\n",
       "      <td></td>\n",
       "      <td>BODYWASH | BASIC FRESHNESS</td>\n",
       "      <td>Base_Doll_Shr</td>\n",
       "      <td>9.117</td>\n",
       "      <td>8.374</td>\n",
       "      <td>7.085</td>\n",
       "      <td>7.149</td>\n",
       "      <td>9.280</td>\n",
       "      <td>9.059</td>\n",
       "      <td>9.250</td>\n",
       "      <td></td>\n",
       "      <td></td>\n",
       "      <td></td>\n",
       "      <td>9.744</td>\n",
       "    </tr>\n",
       "    <tr>\n",
       "      <th>13</th>\n",
       "      <td>US AOC</td>\n",
       "      <td>BODYWASH</td>\n",
       "      <td>BASIC FRESHNESS</td>\n",
       "      <td></td>\n",
       "      <td>BODYWASH | BASIC FRESHNESS</td>\n",
       "      <td>Base_Doll_Shr_Chg</td>\n",
       "      <td>0.743</td>\n",
       "      <td>1.289</td>\n",
       "      <td>-0.064</td>\n",
       "      <td>7.149</td>\n",
       "      <td>0.564</td>\n",
       "      <td>0.577</td>\n",
       "      <td>0.510</td>\n",
       "      <td></td>\n",
       "      <td></td>\n",
       "      <td></td>\n",
       "      <td>0.803</td>\n",
       "    </tr>\n",
       "    <tr>\n",
       "      <th>14</th>\n",
       "      <td>US AOC</td>\n",
       "      <td>BODYWASH</td>\n",
       "      <td>BASIC FRESHNESS</td>\n",
       "      <td></td>\n",
       "      <td>BODYWASH | BASIC FRESHNESS</td>\n",
       "      <td>Store_selling</td>\n",
       "      <td>91.548</td>\n",
       "      <td>92.669</td>\n",
       "      <td>90.059</td>\n",
       "      <td>89.094</td>\n",
       "      <td>91.529</td>\n",
       "      <td>91.800</td>\n",
       "      <td>92.025</td>\n",
       "      <td></td>\n",
       "      <td></td>\n",
       "      <td></td>\n",
       "      <td>91.408</td>\n",
       "    </tr>\n",
       "  </tbody>\n",
       "</table>\n",
       "</div>"
      ],
      "text/plain": [
       "       MKT ShareBasis CP_CHARACTERISTIC CP_MANUFACTURER  \\\n",
       "10  US AOC   BODYWASH   BASIC FRESHNESS                   \n",
       "11  US AOC   BODYWASH   BASIC FRESHNESS                   \n",
       "12  US AOC   BODYWASH   BASIC FRESHNESS                   \n",
       "13  US AOC   BODYWASH   BASIC FRESHNESS                   \n",
       "14  US AOC   BODYWASH   BASIC FRESHNESS                   \n",
       "\n",
       "                          PROD              Facts  FY 2020  FY 2019  FY 2018  \\\n",
       "10  BODYWASH | BASIC FRESHNESS           Doll_Shr   10.426    9.766    8.437   \n",
       "11  BODYWASH | BASIC FRESHNESS       Doll_Shr_Chg    0.660    1.329   -0.202   \n",
       "12  BODYWASH | BASIC FRESHNESS      Base_Doll_Shr    9.117    8.374    7.085   \n",
       "13  BODYWASH | BASIC FRESHNESS  Base_Doll_Shr_Chg    0.743    1.289   -0.064   \n",
       "14  BODYWASH | BASIC FRESHNESS      Store_selling   91.548   92.669   90.059   \n",
       "\n",
       "    FY 2017  YTD 2021  Latest 13 Weeks  Latest 26 Weeks Q4 2019 Q3 2019  \\\n",
       "10    8.639    10.825           10.505           10.558                   \n",
       "11    8.639     0.533            0.392            0.425                   \n",
       "12    7.149     9.280            9.059            9.250                   \n",
       "13    7.149     0.564            0.577            0.510                   \n",
       "14   89.094    91.529           91.800           92.025                   \n",
       "\n",
       "   Q2 2019  4 W/E 02/27/21  \n",
       "10                  11.461  \n",
       "11                   0.973  \n",
       "12                   9.744  \n",
       "13                   0.803  \n",
       "14                  91.408  "
      ]
     },
     "execution_count": 78,
     "metadata": {},
     "output_type": "execute_result"
    }
   ],
   "source": [
    "Segment.head()"
   ]
  },
  {
   "cell_type": "code",
   "execution_count": 79,
   "metadata": {},
   "outputs": [],
   "source": [
    "Segment[\"CP_BRAND\"]=\"\"\n",
    "Segment[\"CP_FRANCHISE\"]=\"\""
   ]
  },
  {
   "cell_type": "code",
   "execution_count": 80,
   "metadata": {},
   "outputs": [],
   "source": [
    "df1=pd.melt(Segment, id_vars =[\"MKT\",\"PROD\",\"CP_MANUFACTURER\",\"CP_FRANCHISE\",\"CP_BRAND\",\"CP_CHARACTERISTIC\",\"Facts\"], value_vars =Time_Period,var_name=\"PER\")\n",
    "\n",
    "df1[\"value\"]=df1[\"value\"].apply(pd.to_numeric)\n"
   ]
  },
  {
   "cell_type": "code",
   "execution_count": 81,
   "metadata": {},
   "outputs": [],
   "source": [
    "df2=df1.pivot_table(index=[\"MKT\",\"PROD\",\"CP_MANUFACTURER\",\"CP_FRANCHISE\",\"CP_BRAND\",\"CP_CHARACTERISTIC\",'PER'],columns='Facts')\n",
    "\n",
    "df2.columns=df2.columns.droplevel().rename(None)\n",
    "df2.reset_index(inplace =True)"
   ]
  },
  {
   "cell_type": "code",
   "execution_count": 82,
   "metadata": {},
   "outputs": [],
   "source": [
    "from pandas.api.types import CategoricalDtype\n",
    "\n",
    "Time_Period_order = CategoricalDtype(\n",
    "    Time_Period, \n",
    "    ordered=True\n",
    ")\n",
    "\n",
    "df2['PER'] = df2['PER'].astype(Time_Period_order)\n",
    "\n",
    "df2.sort_values(['MKT','PROD','PER'],inplace=True)"
   ]
  },
  {
   "cell_type": "code",
   "execution_count": 83,
   "metadata": {},
   "outputs": [],
   "source": [
    "final_column_sorting=[\"MKT\",\"PROD\",\"CP_MANUFACTURER\",\"CP_FRANCHISE\",\"CP_BRAND\",\"CP_CHARACTERISTIC\",\"PER\",\n",
    "                      \"Doll_Shr\",\"Doll_Shr_Chg\",\"Base_Doll_Shr\",\"Base_Doll_Shr_Chg\",\"Store_selling\",\"Store_selling_Chg\",\n",
    "                      \"Dollars\",\"Dollars_Chg\",\"Cum_Distri_Pts\",\"Cum_Distri_Pts_Chg\"\n",
    "                      ]\n",
    "Segment_final=df2[final_column_sorting]"
   ]
  },
  {
   "cell_type": "code",
   "execution_count": 85,
   "metadata": {
    "scrolled": true
   },
   "outputs": [],
   "source": [
    "Segment_final.to_csv(path_BW+\"characteristics_3.csv\",index=False)"
   ]
  },
  {
   "cell_type": "code",
   "execution_count": null,
   "metadata": {},
   "outputs": [],
   "source": [
    "Segment_final.shape"
   ]
  },
  {
   "cell_type": "markdown",
   "metadata": {},
   "source": [
    "## Characteristic 1"
   ]
  },
  {
   "cell_type": "code",
   "execution_count": null,
   "metadata": {},
   "outputs": [],
   "source": [
    "Price_Tier= Biz_Data_BW.copy()"
   ]
  },
  {
   "cell_type": "code",
   "execution_count": null,
   "metadata": {},
   "outputs": [],
   "source": [
    "Char = [\"FEMALE\",\"KIDS\",\"MALE\"]\n",
    "Time_Period=list(Price_Tier.columns[16:17])+list(Price_Tier.columns[11:13])+list(Price_Tier.columns[10:11])+list(Price_Tier.columns[6:10])\n",
    "print(Time_Period)"
   ]
  },
  {
   "cell_type": "code",
   "execution_count": null,
   "metadata": {},
   "outputs": [],
   "source": [
    "Price_Tier.head()"
   ]
  },
  {
   "cell_type": "code",
   "execution_count": null,
   "metadata": {},
   "outputs": [],
   "source": [
    "#Filter\n",
    "Price_Tier=Price_Tier[Price_Tier[\"Char\"].isin(Char)]"
   ]
  },
  {
   "cell_type": "code",
   "execution_count": null,
   "metadata": {},
   "outputs": [],
   "source": [
    "Price_Tier.columns"
   ]
  },
  {
   "cell_type": "code",
   "execution_count": null,
   "metadata": {},
   "outputs": [],
   "source": [
    "Price_Tier.rename(columns={\"Markets\":\"MKT\",\"Products\":\"PROD\",\"Manufacturer\":\"CP_MANUFACTURER\",\"Char\":\"CP_CHARACTERISTIC\"\n",
    "                           },inplace=True)"
   ]
  },
  {
   "cell_type": "code",
   "execution_count": null,
   "metadata": {},
   "outputs": [],
   "source": [
    "Price_Tier[[\"CP_FRANCHISE\",\"CP_BRAND\"]]=\"\""
   ]
  },
  {
   "cell_type": "code",
   "execution_count": null,
   "metadata": {},
   "outputs": [],
   "source": [
    "df1=pd.melt(Price_Tier, id_vars =[\"MKT\",\"PROD\",\"CP_MANUFACTURER\",\"CP_FRANCHISE\",\"CP_BRAND\",\"CP_CHARACTERISTIC\",\"Facts\"], value_vars =Time_Period,var_name=\"PER\")\n",
    "\n",
    "df1[\"value\"]=df1[\"value\"].apply(pd.to_numeric)"
   ]
  },
  {
   "cell_type": "code",
   "execution_count": null,
   "metadata": {},
   "outputs": [],
   "source": [
    "df2=df1.pivot_table(index=[\"MKT\",\"PROD\",\"CP_MANUFACTURER\",\"CP_FRANCHISE\",\"CP_BRAND\",\"CP_CHARACTERISTIC\",'PER'],columns='Facts')\n",
    "\n",
    "df2.columns=df2.columns.droplevel().rename(None)\n",
    "df2.reset_index(inplace =True)"
   ]
  },
  {
   "cell_type": "code",
   "execution_count": null,
   "metadata": {},
   "outputs": [],
   "source": [
    "from pandas.api.types import CategoricalDtype\n",
    "\n",
    "Time_Period_order = CategoricalDtype(\n",
    "    Time_Period, \n",
    "    ordered=True\n",
    ")\n",
    "\n",
    "df2['PER'] = df2['PER'].astype(Time_Period_order)\n",
    "\n",
    "df2.sort_values(['MKT','PROD','PER'],inplace=True)"
   ]
  },
  {
   "cell_type": "code",
   "execution_count": null,
   "metadata": {},
   "outputs": [],
   "source": [
    "final_column_sorting=[\"MKT\",\"PROD\",\"CP_MANUFACTURER\",\"CP_FRANCHISE\",\"CP_BRAND\",\"CP_CHARACTERISTIC\",\"PER\",\"Doll_Shr\",\n",
    "                      \"Doll_Shr_Chg\",\"Base_Doll_Shr\",\"Base_Doll_Shr_Chg\",\"Store_selling\",\"Store_selling_Chg\",\"Dollars\",\n",
    "                      \"Dollars_Chg\",\"Cum_Distri_Pts\",\"Cum_Distri_Pts_Chg\"\n",
    "                      ]\n",
    "Price_Tier_final=df2[final_column_sorting]"
   ]
  },
  {
   "cell_type": "code",
   "execution_count": null,
   "metadata": {},
   "outputs": [],
   "source": [
    "Price_Tier_final.head(3)"
   ]
  },
  {
   "cell_type": "code",
   "execution_count": null,
   "metadata": {},
   "outputs": [],
   "source": [
    "Price_Tier_final.to_csv(path_BW+\"characteristics_1.csv\",index=False)"
   ]
  },
  {
   "cell_type": "markdown",
   "metadata": {},
   "source": [
    "## Characteristics 2"
   ]
  },
  {
   "cell_type": "code",
   "execution_count": null,
   "metadata": {},
   "outputs": [],
   "source": [
    "Adult_data= Biz_Data_BW.copy()"
   ]
  },
  {
   "cell_type": "code",
   "execution_count": null,
   "metadata": {},
   "outputs": [],
   "source": [
    "set(Adult_data[\"Char\"])"
   ]
  },
  {
   "cell_type": "code",
   "execution_count": null,
   "metadata": {},
   "outputs": [],
   "source": [
    "set(Char)-set(Adult_data[\"Char\"])"
   ]
  },
  {
   "cell_type": "code",
   "execution_count": null,
   "metadata": {},
   "outputs": [],
   "source": [
    "Char = [\"REM SIZE RANGE\",\"BW < 3 OZ\",\"BW 12-14 OZ\",\"BW 14.1-17.9 OZ\",\"BW 18-19.9 OZ\",\"BW 20-23.5 OZ\",\"BW 23.6-24 OZ\",\"BW 24.1 OZ+\",\"BW 3-6.9 OZ\",\"BW 7-11.9 OZ\"]\n",
    "Time_Period=list(Adult_data.columns[16:17])+list(Adult_data.columns[11:13])+list(Adult_data.columns[10:11])+list(Adult_data.columns[6:10])\n",
    "print(Time_Period)"
   ]
  },
  {
   "cell_type": "code",
   "execution_count": null,
   "metadata": {},
   "outputs": [],
   "source": [
    "#Filter\n",
    "Adult_data=Adult_data[Adult_data[\"Char\"].isin(Char)]"
   ]
  },
  {
   "cell_type": "code",
   "execution_count": null,
   "metadata": {},
   "outputs": [],
   "source": [
    "Adult_data.columns"
   ]
  },
  {
   "cell_type": "code",
   "execution_count": null,
   "metadata": {},
   "outputs": [],
   "source": [
    "Adult_data.rename(columns={\"Markets\":\"MKT\",\"Products\":\"PROD\",\"Manufacturer\":\"CP_MANUFACTURER\",\"Char\":\"CP_CHARACTERISTIC\"\n",
    "                           },inplace=True)"
   ]
  },
  {
   "cell_type": "code",
   "execution_count": null,
   "metadata": {},
   "outputs": [],
   "source": [
    "Adult_data[[\"CP_FRANCHISE\",\"CP_BRAND\"]]=\"\""
   ]
  },
  {
   "cell_type": "code",
   "execution_count": null,
   "metadata": {},
   "outputs": [],
   "source": [
    "set(Adult_data[\"Facts\"])"
   ]
  },
  {
   "cell_type": "code",
   "execution_count": null,
   "metadata": {},
   "outputs": [],
   "source": [
    "df1=pd.melt(Adult_data, id_vars =[\"MKT\",\"PROD\",\"CP_MANUFACTURER\",\"CP_FRANCHISE\",\"CP_BRAND\",\"CP_CHARACTERISTIC\",\"Facts\"], value_vars =Time_Period,var_name=\"PER\")\n",
    "\n",
    "df1[\"value\"]=df1[\"value\"].apply(pd.to_numeric)"
   ]
  },
  {
   "cell_type": "code",
   "execution_count": null,
   "metadata": {},
   "outputs": [],
   "source": [
    "set(df1[\"Facts\"])"
   ]
  },
  {
   "cell_type": "code",
   "execution_count": null,
   "metadata": {},
   "outputs": [],
   "source": [
    "df2=df1.pivot_table(index=[\"MKT\",\"PROD\",\"CP_MANUFACTURER\",\"CP_FRANCHISE\",\"CP_BRAND\",\"CP_CHARACTERISTIC\",'PER'],columns='Facts')\n",
    "\n",
    "df2.columns=df2.columns.droplevel().rename(None)\n",
    "df2.reset_index(inplace =True)"
   ]
  },
  {
   "cell_type": "code",
   "execution_count": null,
   "metadata": {},
   "outputs": [],
   "source": [
    "df2.columns"
   ]
  },
  {
   "cell_type": "code",
   "execution_count": null,
   "metadata": {},
   "outputs": [],
   "source": [
    "from pandas.api.types import CategoricalDtype\n",
    "\n",
    "Time_Period_order = CategoricalDtype(\n",
    "    Time_Period, \n",
    "    ordered=True\n",
    ")\n",
    "\n",
    "df2['PER'] = df2['PER'].astype(Time_Period_order)\n",
    "\n",
    "df2.sort_values(['MKT','PROD','PER'],inplace=True)"
   ]
  },
  {
   "cell_type": "code",
   "execution_count": null,
   "metadata": {},
   "outputs": [],
   "source": [
    "final_column_sorting=[\"MKT\",\"PROD\",\"CP_MANUFACTURER\",\"CP_FRANCHISE\",\"CP_BRAND\",\"CP_CHARACTERISTIC\",\"PER\",\"Doll_Shr\",\n",
    "                      \"Doll_Shr_Chg\",\"Base_Doll_Shr\",\"Base_Doll_Shr_Chg\",\"Store_selling\",\"Store_selling_Chg\",\"Dollars\",\n",
    "                      \"Dollars_Chg\",\"Cum_Distri_Pts\",\"Cum_Distri_Pts_Chg\"\n",
    "                      ]\n",
    "Adult_data_final=df2[final_column_sorting]"
   ]
  },
  {
   "cell_type": "code",
   "execution_count": null,
   "metadata": {
    "scrolled": true
   },
   "outputs": [],
   "source": [
    "Adult_data_final.head(3)"
   ]
  },
  {
   "cell_type": "code",
   "execution_count": null,
   "metadata": {},
   "outputs": [],
   "source": [
    "Adult_data_final.to_csv(path_BW+\"characteristics_2.csv\",index=False)"
   ]
  },
  {
   "cell_type": "code",
   "execution_count": null,
   "metadata": {},
   "outputs": [],
   "source": []
  },
  {
   "cell_type": "markdown",
   "metadata": {},
   "source": [
    "## LHS"
   ]
  },
  {
   "cell_type": "code",
   "execution_count": 23,
   "metadata": {},
   "outputs": [],
   "source": [
    "# path to store Output files\n",
    "path_LHS=\"//falmumapp34/Nielsen Connect Transition & Maintenance (20-SCP-3650)/05. Output Data/5P Output/LHS/\""
   ]
  },
  {
   "cell_type": "code",
   "execution_count": 24,
   "metadata": {},
   "outputs": [],
   "source": [
    "Biz_Data_LHS=Biz_Data[Biz_Data[\"ShareBasis\"]==\"LIQUID\"]\n"
   ]
  },
  {
   "cell_type": "markdown",
   "metadata": {},
   "source": [
    "## Characteristics 1"
   ]
  },
  {
   "cell_type": "code",
   "execution_count": 25,
   "metadata": {},
   "outputs": [
    {
     "data": {
      "text/html": [
       "<div>\n",
       "<style scoped>\n",
       "    .dataframe tbody tr th:only-of-type {\n",
       "        vertical-align: middle;\n",
       "    }\n",
       "\n",
       "    .dataframe tbody tr th {\n",
       "        vertical-align: top;\n",
       "    }\n",
       "\n",
       "    .dataframe thead th {\n",
       "        text-align: right;\n",
       "    }\n",
       "</style>\n",
       "<table border=\"1\" class=\"dataframe\">\n",
       "  <thead>\n",
       "    <tr style=\"text-align: right;\">\n",
       "      <th></th>\n",
       "      <th>Markets</th>\n",
       "      <th>ShareBasis</th>\n",
       "      <th>Char</th>\n",
       "      <th>Manufacturer</th>\n",
       "      <th>Products</th>\n",
       "      <th>Facts</th>\n",
       "      <th>FY 2020</th>\n",
       "      <th>FY 2019</th>\n",
       "      <th>FY 2018</th>\n",
       "      <th>FY 2017</th>\n",
       "      <th>YTD 2021</th>\n",
       "      <th>Latest 13 Weeks</th>\n",
       "      <th>Latest 26 Weeks</th>\n",
       "      <th>Q4 2019</th>\n",
       "      <th>Q3 2019</th>\n",
       "      <th>Q2 2019</th>\n",
       "      <th>4 W/E 02/27/21</th>\n",
       "    </tr>\n",
       "  </thead>\n",
       "  <tbody>\n",
       "    <tr>\n",
       "      <th>0</th>\n",
       "      <td>US AOC</td>\n",
       "      <td>LIQUID</td>\n",
       "      <td></td>\n",
       "      <td></td>\n",
       "      <td>LIQUID</td>\n",
       "      <td>Doll_Shr</td>\n",
       "      <td>100.0</td>\n",
       "      <td>100.0</td>\n",
       "      <td>100.0</td>\n",
       "      <td>100.0</td>\n",
       "      <td>100.0</td>\n",
       "      <td>100.0</td>\n",
       "      <td>100.0</td>\n",
       "      <td></td>\n",
       "      <td></td>\n",
       "      <td></td>\n",
       "      <td>100.0</td>\n",
       "    </tr>\n",
       "  </tbody>\n",
       "</table>\n",
       "</div>"
      ],
      "text/plain": [
       "  Markets ShareBasis Char Manufacturer Products     Facts  FY 2020  FY 2019  \\\n",
       "0  US AOC     LIQUID                     LIQUID  Doll_Shr    100.0    100.0   \n",
       "\n",
       "   FY 2018  FY 2017  YTD 2021  Latest 13 Weeks  Latest 26 Weeks Q4 2019  \\\n",
       "0    100.0    100.0     100.0            100.0            100.0           \n",
       "\n",
       "  Q3 2019 Q2 2019  4 W/E 02/27/21  \n",
       "0                           100.0  "
      ]
     },
     "execution_count": 25,
     "metadata": {},
     "output_type": "execute_result"
    }
   ],
   "source": [
    "Characteristics1= Biz_Data_LHS.copy()\n",
    "Characteristics1.head(1)"
   ]
  },
  {
   "cell_type": "code",
   "execution_count": 26,
   "metadata": {},
   "outputs": [
    {
     "name": "stdout",
     "output_type": "stream",
     "text": [
      "['4 W/E 02/27/21', 'Latest 13 Weeks', 'Latest 26 Weeks', 'YTD 2021', 'FY 2020', 'FY 2019', 'FY 2018', 'FY 2017']\n"
     ]
    }
   ],
   "source": [
    "Char = [\"FOAM\",\"LIQUID\"]\n",
    "\n",
    "Time_Period=list(Characteristics1.columns[16:17])+list(Characteristics1.columns[11:13])+list(Characteristics1.columns[10:11])+list(Characteristics1.columns[6:10])\n",
    "print(Time_Period)"
   ]
  },
  {
   "cell_type": "code",
   "execution_count": 27,
   "metadata": {},
   "outputs": [],
   "source": [
    "#Filter\n",
    "Characteristics1=Characteristics1[Characteristics1[\"Char\"].isin(Char)]"
   ]
  },
  {
   "cell_type": "code",
   "execution_count": 28,
   "metadata": {},
   "outputs": [
    {
     "data": {
      "text/html": [
       "<div>\n",
       "<style scoped>\n",
       "    .dataframe tbody tr th:only-of-type {\n",
       "        vertical-align: middle;\n",
       "    }\n",
       "\n",
       "    .dataframe tbody tr th {\n",
       "        vertical-align: top;\n",
       "    }\n",
       "\n",
       "    .dataframe thead th {\n",
       "        text-align: right;\n",
       "    }\n",
       "</style>\n",
       "<table border=\"1\" class=\"dataframe\">\n",
       "  <thead>\n",
       "    <tr style=\"text-align: right;\">\n",
       "      <th></th>\n",
       "      <th>MKT</th>\n",
       "      <th>ShareBasis</th>\n",
       "      <th>CP_CHARACTERISTICS</th>\n",
       "      <th>CP_FRANCHISE</th>\n",
       "      <th>PROD</th>\n",
       "      <th>Facts</th>\n",
       "      <th>FY 2020</th>\n",
       "      <th>FY 2019</th>\n",
       "      <th>FY 2018</th>\n",
       "      <th>FY 2017</th>\n",
       "      <th>YTD 2021</th>\n",
       "      <th>Latest 13 Weeks</th>\n",
       "      <th>Latest 26 Weeks</th>\n",
       "      <th>Q4 2019</th>\n",
       "      <th>Q3 2019</th>\n",
       "      <th>Q2 2019</th>\n",
       "      <th>4 W/E 02/27/21</th>\n",
       "    </tr>\n",
       "  </thead>\n",
       "  <tbody>\n",
       "    <tr>\n",
       "      <th>10</th>\n",
       "      <td>US AOC</td>\n",
       "      <td>LIQUID</td>\n",
       "      <td>FOAM</td>\n",
       "      <td></td>\n",
       "      <td>LIQUID | FOAM</td>\n",
       "      <td>Doll_Shr</td>\n",
       "      <td>21.089</td>\n",
       "      <td>23.274</td>\n",
       "      <td>21.901</td>\n",
       "      <td>20.621</td>\n",
       "      <td>18.980</td>\n",
       "      <td>19.914</td>\n",
       "      <td>19.427</td>\n",
       "      <td></td>\n",
       "      <td></td>\n",
       "      <td></td>\n",
       "      <td>18.697</td>\n",
       "    </tr>\n",
       "    <tr>\n",
       "      <th>11</th>\n",
       "      <td>US AOC</td>\n",
       "      <td>LIQUID</td>\n",
       "      <td>FOAM</td>\n",
       "      <td></td>\n",
       "      <td>LIQUID | FOAM</td>\n",
       "      <td>Doll_Shr_Chg</td>\n",
       "      <td>-2.185</td>\n",
       "      <td>1.373</td>\n",
       "      <td>1.280</td>\n",
       "      <td>20.621</td>\n",
       "      <td>-4.996</td>\n",
       "      <td>-3.611</td>\n",
       "      <td>-3.464</td>\n",
       "      <td></td>\n",
       "      <td></td>\n",
       "      <td></td>\n",
       "      <td>-5.956</td>\n",
       "    </tr>\n",
       "    <tr>\n",
       "      <th>12</th>\n",
       "      <td>US AOC</td>\n",
       "      <td>LIQUID</td>\n",
       "      <td>FOAM</td>\n",
       "      <td></td>\n",
       "      <td>LIQUID | FOAM</td>\n",
       "      <td>Base_Doll_Shr</td>\n",
       "      <td>19.308</td>\n",
       "      <td>20.751</td>\n",
       "      <td>19.539</td>\n",
       "      <td>18.111</td>\n",
       "      <td>18.466</td>\n",
       "      <td>19.178</td>\n",
       "      <td>18.758</td>\n",
       "      <td></td>\n",
       "      <td></td>\n",
       "      <td></td>\n",
       "      <td>18.193</td>\n",
       "    </tr>\n",
       "    <tr>\n",
       "      <th>13</th>\n",
       "      <td>US AOC</td>\n",
       "      <td>LIQUID</td>\n",
       "      <td>FOAM</td>\n",
       "      <td></td>\n",
       "      <td>LIQUID | FOAM</td>\n",
       "      <td>Base_Doll_Shr_Chg</td>\n",
       "      <td>-1.443</td>\n",
       "      <td>1.212</td>\n",
       "      <td>1.428</td>\n",
       "      <td>18.111</td>\n",
       "      <td>-1.361</td>\n",
       "      <td>-0.836</td>\n",
       "      <td>-1.370</td>\n",
       "      <td></td>\n",
       "      <td></td>\n",
       "      <td></td>\n",
       "      <td>-1.847</td>\n",
       "    </tr>\n",
       "    <tr>\n",
       "      <th>14</th>\n",
       "      <td>US AOC</td>\n",
       "      <td>LIQUID</td>\n",
       "      <td>FOAM</td>\n",
       "      <td></td>\n",
       "      <td>LIQUID | FOAM</td>\n",
       "      <td>Store_selling</td>\n",
       "      <td>87.810</td>\n",
       "      <td>91.279</td>\n",
       "      <td>90.903</td>\n",
       "      <td>90.650</td>\n",
       "      <td>88.288</td>\n",
       "      <td>88.094</td>\n",
       "      <td>87.639</td>\n",
       "      <td></td>\n",
       "      <td></td>\n",
       "      <td></td>\n",
       "      <td>88.164</td>\n",
       "    </tr>\n",
       "  </tbody>\n",
       "</table>\n",
       "</div>"
      ],
      "text/plain": [
       "       MKT ShareBasis CP_CHARACTERISTICS CP_FRANCHISE           PROD  \\\n",
       "10  US AOC     LIQUID               FOAM               LIQUID | FOAM   \n",
       "11  US AOC     LIQUID               FOAM               LIQUID | FOAM   \n",
       "12  US AOC     LIQUID               FOAM               LIQUID | FOAM   \n",
       "13  US AOC     LIQUID               FOAM               LIQUID | FOAM   \n",
       "14  US AOC     LIQUID               FOAM               LIQUID | FOAM   \n",
       "\n",
       "                Facts  FY 2020  FY 2019  FY 2018  FY 2017  YTD 2021  \\\n",
       "10           Doll_Shr   21.089   23.274   21.901   20.621    18.980   \n",
       "11       Doll_Shr_Chg   -2.185    1.373    1.280   20.621    -4.996   \n",
       "12      Base_Doll_Shr   19.308   20.751   19.539   18.111    18.466   \n",
       "13  Base_Doll_Shr_Chg   -1.443    1.212    1.428   18.111    -1.361   \n",
       "14      Store_selling   87.810   91.279   90.903   90.650    88.288   \n",
       "\n",
       "    Latest 13 Weeks  Latest 26 Weeks Q4 2019 Q3 2019 Q2 2019  4 W/E 02/27/21  \n",
       "10           19.914           19.427                                  18.697  \n",
       "11           -3.611           -3.464                                  -5.956  \n",
       "12           19.178           18.758                                  18.193  \n",
       "13           -0.836           -1.370                                  -1.847  \n",
       "14           88.094           87.639                                  88.164  "
      ]
     },
     "execution_count": 28,
     "metadata": {},
     "output_type": "execute_result"
    }
   ],
   "source": [
    "Characteristics1.rename(columns={\"Markets\":\"MKT\",\"Products\":\"PROD\",\"Manufacturer\":\"CP_FRANCHISE\",\"Char\":\"CP_CHARACTERISTICS\"\n",
    "                           },inplace=True)\n",
    "Characteristics1.head()"
   ]
  },
  {
   "cell_type": "code",
   "execution_count": 29,
   "metadata": {},
   "outputs": [],
   "source": [
    "Characteristics1[\"CP_BRAND\"]=\"\"\n",
    "Characteristics1[\"CP_MANUFACTURER\"]=\"\""
   ]
  },
  {
   "cell_type": "code",
   "execution_count": 30,
   "metadata": {},
   "outputs": [],
   "source": [
    "df1=pd.melt(Characteristics1, id_vars =[\"MKT\",\"PROD\",\"CP_MANUFACTURER\",\"CP_FRANCHISE\",\"CP_BRAND\",\"CP_CHARACTERISTICS\",\"Facts\"], value_vars =Time_Period,var_name=\"PER\")\n",
    "\n",
    "df1[\"value\"]=df1[\"value\"].apply(pd.to_numeric)\n"
   ]
  },
  {
   "cell_type": "code",
   "execution_count": 31,
   "metadata": {},
   "outputs": [
    {
     "data": {
      "text/html": [
       "<div>\n",
       "<style scoped>\n",
       "    .dataframe tbody tr th:only-of-type {\n",
       "        vertical-align: middle;\n",
       "    }\n",
       "\n",
       "    .dataframe tbody tr th {\n",
       "        vertical-align: top;\n",
       "    }\n",
       "\n",
       "    .dataframe thead th {\n",
       "        text-align: right;\n",
       "    }\n",
       "</style>\n",
       "<table border=\"1\" class=\"dataframe\">\n",
       "  <thead>\n",
       "    <tr style=\"text-align: right;\">\n",
       "      <th></th>\n",
       "      <th>MKT</th>\n",
       "      <th>PROD</th>\n",
       "      <th>CP_MANUFACTURER</th>\n",
       "      <th>CP_FRANCHISE</th>\n",
       "      <th>CP_BRAND</th>\n",
       "      <th>CP_CHARACTERISTICS</th>\n",
       "      <th>PER</th>\n",
       "      <th>Base_Doll_Shr</th>\n",
       "      <th>Base_Doll_Shr_Chg</th>\n",
       "      <th>Cum_Distri_Pts</th>\n",
       "      <th>Cum_Distri_Pts_Chg</th>\n",
       "      <th>Doll_Shr</th>\n",
       "      <th>Doll_Shr_Chg</th>\n",
       "      <th>Dollars</th>\n",
       "      <th>Dollars_Chg</th>\n",
       "      <th>Store_selling</th>\n",
       "      <th>Store_selling_Chg</th>\n",
       "    </tr>\n",
       "  </thead>\n",
       "  <tbody>\n",
       "    <tr>\n",
       "      <th>0</th>\n",
       "      <td>Ahold</td>\n",
       "      <td>LIQUID | FOAM</td>\n",
       "      <td></td>\n",
       "      <td></td>\n",
       "      <td></td>\n",
       "      <td>FOAM</td>\n",
       "      <td>4 W/E 02/27/21</td>\n",
       "      <td>14.083</td>\n",
       "      <td>-3.677</td>\n",
       "      <td>1061.761</td>\n",
       "      <td>-570.701</td>\n",
       "      <td>15.313</td>\n",
       "      <td>-10.963</td>\n",
       "      <td>250528.810</td>\n",
       "      <td>-41.035</td>\n",
       "      <td>99.626</td>\n",
       "      <td>-0.140</td>\n",
       "    </tr>\n",
       "    <tr>\n",
       "      <th>1</th>\n",
       "      <td>Ahold</td>\n",
       "      <td>LIQUID | FOAM</td>\n",
       "      <td></td>\n",
       "      <td></td>\n",
       "      <td></td>\n",
       "      <td>FOAM</td>\n",
       "      <td>FY 2017</td>\n",
       "      <td>16.727</td>\n",
       "      <td>16.727</td>\n",
       "      <td>1259.959</td>\n",
       "      <td>1259.959</td>\n",
       "      <td>21.186</td>\n",
       "      <td>21.186</td>\n",
       "      <td>3385139.345</td>\n",
       "      <td>0.000</td>\n",
       "      <td>99.896</td>\n",
       "      <td>99.896</td>\n",
       "    </tr>\n",
       "    <tr>\n",
       "      <th>2</th>\n",
       "      <td>Ahold</td>\n",
       "      <td>LIQUID | FOAM</td>\n",
       "      <td></td>\n",
       "      <td></td>\n",
       "      <td></td>\n",
       "      <td>FOAM</td>\n",
       "      <td>FY 2018</td>\n",
       "      <td>17.565</td>\n",
       "      <td>0.838</td>\n",
       "      <td>1399.107</td>\n",
       "      <td>139.148</td>\n",
       "      <td>24.121</td>\n",
       "      <td>2.935</td>\n",
       "      <td>4320464.274</td>\n",
       "      <td>27.630</td>\n",
       "      <td>99.909</td>\n",
       "      <td>0.013</td>\n",
       "    </tr>\n",
       "    <tr>\n",
       "      <th>3</th>\n",
       "      <td>Ahold</td>\n",
       "      <td>LIQUID | FOAM</td>\n",
       "      <td></td>\n",
       "      <td></td>\n",
       "      <td></td>\n",
       "      <td>FOAM</td>\n",
       "      <td>FY 2019</td>\n",
       "      <td>18.529</td>\n",
       "      <td>0.964</td>\n",
       "      <td>1653.449</td>\n",
       "      <td>254.342</td>\n",
       "      <td>26.090</td>\n",
       "      <td>1.969</td>\n",
       "      <td>4866153.900</td>\n",
       "      <td>12.630</td>\n",
       "      <td>99.638</td>\n",
       "      <td>-0.271</td>\n",
       "    </tr>\n",
       "    <tr>\n",
       "      <th>4</th>\n",
       "      <td>Ahold</td>\n",
       "      <td>LIQUID | FOAM</td>\n",
       "      <td></td>\n",
       "      <td></td>\n",
       "      <td></td>\n",
       "      <td>FOAM</td>\n",
       "      <td>FY 2020</td>\n",
       "      <td>18.422</td>\n",
       "      <td>-0.107</td>\n",
       "      <td>950.567</td>\n",
       "      <td>-702.882</td>\n",
       "      <td>20.011</td>\n",
       "      <td>-6.079</td>\n",
       "      <td>5918553.990</td>\n",
       "      <td>21.627</td>\n",
       "      <td>98.880</td>\n",
       "      <td>-0.758</td>\n",
       "    </tr>\n",
       "  </tbody>\n",
       "</table>\n",
       "</div>"
      ],
      "text/plain": [
       "     MKT           PROD CP_MANUFACTURER CP_FRANCHISE CP_BRAND  \\\n",
       "0  Ahold  LIQUID | FOAM                                         \n",
       "1  Ahold  LIQUID | FOAM                                         \n",
       "2  Ahold  LIQUID | FOAM                                         \n",
       "3  Ahold  LIQUID | FOAM                                         \n",
       "4  Ahold  LIQUID | FOAM                                         \n",
       "\n",
       "  CP_CHARACTERISTICS             PER  Base_Doll_Shr  Base_Doll_Shr_Chg  \\\n",
       "0               FOAM  4 W/E 02/27/21         14.083             -3.677   \n",
       "1               FOAM         FY 2017         16.727             16.727   \n",
       "2               FOAM         FY 2018         17.565              0.838   \n",
       "3               FOAM         FY 2019         18.529              0.964   \n",
       "4               FOAM         FY 2020         18.422             -0.107   \n",
       "\n",
       "   Cum_Distri_Pts  Cum_Distri_Pts_Chg  Doll_Shr  Doll_Shr_Chg      Dollars  \\\n",
       "0        1061.761            -570.701    15.313       -10.963   250528.810   \n",
       "1        1259.959            1259.959    21.186        21.186  3385139.345   \n",
       "2        1399.107             139.148    24.121         2.935  4320464.274   \n",
       "3        1653.449             254.342    26.090         1.969  4866153.900   \n",
       "4         950.567            -702.882    20.011        -6.079  5918553.990   \n",
       "\n",
       "   Dollars_Chg  Store_selling  Store_selling_Chg  \n",
       "0      -41.035         99.626             -0.140  \n",
       "1        0.000         99.896             99.896  \n",
       "2       27.630         99.909              0.013  \n",
       "3       12.630         99.638             -0.271  \n",
       "4       21.627         98.880             -0.758  "
      ]
     },
     "execution_count": 31,
     "metadata": {},
     "output_type": "execute_result"
    }
   ],
   "source": [
    "df2=df1.pivot_table(index=[\"MKT\",\"PROD\",\"CP_MANUFACTURER\",\"CP_FRANCHISE\",\"CP_BRAND\",\"CP_CHARACTERISTICS\",'PER'],columns='Facts')\n",
    "\n",
    "df2.columns=df2.columns.droplevel().rename(None)\n",
    "df2.reset_index(inplace =True)\n",
    "df2.head()"
   ]
  },
  {
   "cell_type": "code",
   "execution_count": 32,
   "metadata": {},
   "outputs": [],
   "source": [
    "from pandas.api.types import CategoricalDtype\n",
    "\n",
    "Time_Period_order = CategoricalDtype(\n",
    "    Time_Period, \n",
    "    ordered=True\n",
    ")\n",
    "\n",
    "df2['PER'] = df2['PER'].astype(Time_Period_order)\n",
    "\n",
    "df2.sort_values(['MKT','PROD','PER'],inplace=True)"
   ]
  },
  {
   "cell_type": "code",
   "execution_count": 33,
   "metadata": {},
   "outputs": [],
   "source": [
    "final_column_sorting=[\"MKT\",\"PROD\",\"CP_MANUFACTURER\",\"CP_FRANCHISE\",\"CP_BRAND\",\"CP_CHARACTERISTICS\",\"PER\",\"Doll_Shr\",\n",
    "                      \"Doll_Shr_Chg\",\"Base_Doll_Shr\",\"Base_Doll_Shr_Chg\",\"Store_selling\",\"Store_selling_Chg\",\"Dollars\",\n",
    "                      \"Dollars_Chg\",\"Cum_Distri_Pts\",\"Cum_Distri_Pts_Chg\"\n",
    "                      ]\n",
    "Characteristics1_final=df2[final_column_sorting]"
   ]
  },
  {
   "cell_type": "code",
   "execution_count": 34,
   "metadata": {
    "scrolled": true
   },
   "outputs": [],
   "source": [
    "Characteristics1_final.to_csv(path_LHS+\"Characteristics1.csv\",index=False)"
   ]
  },
  {
   "cell_type": "code",
   "execution_count": 35,
   "metadata": {},
   "outputs": [
    {
     "data": {
      "text/plain": [
       "(2640, 17)"
      ]
     },
     "execution_count": 35,
     "metadata": {},
     "output_type": "execute_result"
    }
   ],
   "source": [
    "Characteristics1_final.shape"
   ]
  },
  {
   "cell_type": "markdown",
   "metadata": {},
   "source": [
    "## Characteristics2"
   ]
  },
  {
   "cell_type": "code",
   "execution_count": 36,
   "metadata": {},
   "outputs": [],
   "source": [
    "Characteristics2= Biz_Data_LHS.copy()"
   ]
  },
  {
   "cell_type": "code",
   "execution_count": 37,
   "metadata": {},
   "outputs": [
    {
     "name": "stdout",
     "output_type": "stream",
     "text": [
      "['4 W/E 02/27/21', 'Latest 13 Weeks', 'Latest 26 Weeks', 'YTD 2021', 'FY 2020', 'FY 2019', 'FY 2018', 'FY 2017']\n"
     ]
    }
   ],
   "source": [
    "Char = [\"PUMP\",\"REFILL\"]\n",
    "Time_Period=list(Characteristics2.columns[16:17])+list(Characteristics2.columns[11:13])+list(Characteristics2.columns[10:11])+list(Characteristics2.columns[6:10])\n",
    "print(Time_Period)"
   ]
  },
  {
   "cell_type": "code",
   "execution_count": 38,
   "metadata": {},
   "outputs": [
    {
     "data": {
      "text/html": [
       "<div>\n",
       "<style scoped>\n",
       "    .dataframe tbody tr th:only-of-type {\n",
       "        vertical-align: middle;\n",
       "    }\n",
       "\n",
       "    .dataframe tbody tr th {\n",
       "        vertical-align: top;\n",
       "    }\n",
       "\n",
       "    .dataframe thead th {\n",
       "        text-align: right;\n",
       "    }\n",
       "</style>\n",
       "<table border=\"1\" class=\"dataframe\">\n",
       "  <thead>\n",
       "    <tr style=\"text-align: right;\">\n",
       "      <th></th>\n",
       "      <th>Markets</th>\n",
       "      <th>ShareBasis</th>\n",
       "      <th>Char</th>\n",
       "      <th>Manufacturer</th>\n",
       "      <th>Products</th>\n",
       "      <th>Facts</th>\n",
       "      <th>FY 2020</th>\n",
       "      <th>FY 2019</th>\n",
       "      <th>FY 2018</th>\n",
       "      <th>FY 2017</th>\n",
       "      <th>YTD 2021</th>\n",
       "      <th>Latest 13 Weeks</th>\n",
       "      <th>Latest 26 Weeks</th>\n",
       "      <th>Q4 2019</th>\n",
       "      <th>Q3 2019</th>\n",
       "      <th>Q2 2019</th>\n",
       "      <th>4 W/E 02/27/21</th>\n",
       "    </tr>\n",
       "  </thead>\n",
       "  <tbody>\n",
       "    <tr>\n",
       "      <th>0</th>\n",
       "      <td>US AOC</td>\n",
       "      <td>LIQUID</td>\n",
       "      <td></td>\n",
       "      <td></td>\n",
       "      <td>LIQUID</td>\n",
       "      <td>Doll_Shr</td>\n",
       "      <td>100.000</td>\n",
       "      <td>100.000</td>\n",
       "      <td>100.000</td>\n",
       "      <td>100.000</td>\n",
       "      <td>100.000</td>\n",
       "      <td>100.000</td>\n",
       "      <td>100.000</td>\n",
       "      <td></td>\n",
       "      <td></td>\n",
       "      <td></td>\n",
       "      <td>100.000</td>\n",
       "    </tr>\n",
       "    <tr>\n",
       "      <th>1</th>\n",
       "      <td>US AOC</td>\n",
       "      <td>LIQUID</td>\n",
       "      <td></td>\n",
       "      <td></td>\n",
       "      <td>LIQUID</td>\n",
       "      <td>Doll_Shr_Chg</td>\n",
       "      <td>0.000</td>\n",
       "      <td>0.000</td>\n",
       "      <td>0.000</td>\n",
       "      <td>100.000</td>\n",
       "      <td>0.000</td>\n",
       "      <td>0.000</td>\n",
       "      <td>0.000</td>\n",
       "      <td></td>\n",
       "      <td></td>\n",
       "      <td></td>\n",
       "      <td>0.000</td>\n",
       "    </tr>\n",
       "    <tr>\n",
       "      <th>2</th>\n",
       "      <td>US AOC</td>\n",
       "      <td>LIQUID</td>\n",
       "      <td></td>\n",
       "      <td></td>\n",
       "      <td>LIQUID</td>\n",
       "      <td>Base_Doll_Shr</td>\n",
       "      <td>89.154</td>\n",
       "      <td>88.993</td>\n",
       "      <td>88.499</td>\n",
       "      <td>86.677</td>\n",
       "      <td>95.155</td>\n",
       "      <td>95.882</td>\n",
       "      <td>95.842</td>\n",
       "      <td></td>\n",
       "      <td></td>\n",
       "      <td></td>\n",
       "      <td>94.855</td>\n",
       "    </tr>\n",
       "    <tr>\n",
       "      <th>3</th>\n",
       "      <td>US AOC</td>\n",
       "      <td>LIQUID</td>\n",
       "      <td></td>\n",
       "      <td></td>\n",
       "      <td>LIQUID</td>\n",
       "      <td>Base_Doll_Shr_Chg</td>\n",
       "      <td>0.161</td>\n",
       "      <td>0.494</td>\n",
       "      <td>1.822</td>\n",
       "      <td>86.677</td>\n",
       "      <td>10.681</td>\n",
       "      <td>9.049</td>\n",
       "      <td>7.713</td>\n",
       "      <td></td>\n",
       "      <td></td>\n",
       "      <td></td>\n",
       "      <td>12.399</td>\n",
       "    </tr>\n",
       "    <tr>\n",
       "      <th>4</th>\n",
       "      <td>US AOC</td>\n",
       "      <td>LIQUID</td>\n",
       "      <td></td>\n",
       "      <td></td>\n",
       "      <td>LIQUID</td>\n",
       "      <td>Store_selling</td>\n",
       "      <td>98.056</td>\n",
       "      <td>98.487</td>\n",
       "      <td>98.588</td>\n",
       "      <td>98.628</td>\n",
       "      <td>98.165</td>\n",
       "      <td>98.142</td>\n",
       "      <td>98.122</td>\n",
       "      <td></td>\n",
       "      <td></td>\n",
       "      <td></td>\n",
       "      <td>98.169</td>\n",
       "    </tr>\n",
       "  </tbody>\n",
       "</table>\n",
       "</div>"
      ],
      "text/plain": [
       "  Markets ShareBasis Char Manufacturer Products              Facts  FY 2020  \\\n",
       "0  US AOC     LIQUID                     LIQUID           Doll_Shr  100.000   \n",
       "1  US AOC     LIQUID                     LIQUID       Doll_Shr_Chg    0.000   \n",
       "2  US AOC     LIQUID                     LIQUID      Base_Doll_Shr   89.154   \n",
       "3  US AOC     LIQUID                     LIQUID  Base_Doll_Shr_Chg    0.161   \n",
       "4  US AOC     LIQUID                     LIQUID      Store_selling   98.056   \n",
       "\n",
       "   FY 2019  FY 2018  FY 2017  YTD 2021  Latest 13 Weeks  Latest 26 Weeks  \\\n",
       "0  100.000  100.000  100.000   100.000          100.000          100.000   \n",
       "1    0.000    0.000  100.000     0.000            0.000            0.000   \n",
       "2   88.993   88.499   86.677    95.155           95.882           95.842   \n",
       "3    0.494    1.822   86.677    10.681            9.049            7.713   \n",
       "4   98.487   98.588   98.628    98.165           98.142           98.122   \n",
       "\n",
       "  Q4 2019 Q3 2019 Q2 2019  4 W/E 02/27/21  \n",
       "0                                 100.000  \n",
       "1                                   0.000  \n",
       "2                                  94.855  \n",
       "3                                  12.399  \n",
       "4                                  98.169  "
      ]
     },
     "execution_count": 38,
     "metadata": {},
     "output_type": "execute_result"
    }
   ],
   "source": [
    "Characteristics2.head()"
   ]
  },
  {
   "cell_type": "code",
   "execution_count": 39,
   "metadata": {},
   "outputs": [],
   "source": [
    "#Filter\n",
    "Characteristics2=Characteristics2[Characteristics2[\"Char\"].isin(Char)]"
   ]
  },
  {
   "cell_type": "code",
   "execution_count": 40,
   "metadata": {},
   "outputs": [
    {
     "data": {
      "text/plain": [
       "Index(['Markets', 'ShareBasis', 'Char', 'Manufacturer', 'Products', 'Facts',\n",
       "       'FY 2020', 'FY 2019', 'FY 2018', 'FY 2017', 'YTD 2021',\n",
       "       'Latest 13 Weeks', 'Latest 26 Weeks', 'Q4 2019', 'Q3 2019', 'Q2 2019',\n",
       "       '4 W/E 02/27/21'],\n",
       "      dtype='object')"
      ]
     },
     "execution_count": 40,
     "metadata": {},
     "output_type": "execute_result"
    }
   ],
   "source": [
    "Characteristics2.columns"
   ]
  },
  {
   "cell_type": "code",
   "execution_count": 41,
   "metadata": {},
   "outputs": [],
   "source": [
    "Characteristics2.rename(columns={\"Markets\":\"MKT\",\"Products\":\"PROD\",\"Manufacturer\":\"CP_MANUFACTURER\",\"Char\":\"CP_CHARACTERISTICS\"\n",
    "                           },inplace=True)"
   ]
  },
  {
   "cell_type": "code",
   "execution_count": 42,
   "metadata": {},
   "outputs": [],
   "source": [
    "Characteristics2[[\"CP_FRANCHISE\",\"CP_BRAND\"]]=\"\""
   ]
  },
  {
   "cell_type": "code",
   "execution_count": 43,
   "metadata": {},
   "outputs": [],
   "source": [
    "df1=pd.melt(Characteristics2, id_vars =[\"MKT\",\"PROD\",\"CP_MANUFACTURER\",\"CP_FRANCHISE\",\"CP_BRAND\",\"CP_CHARACTERISTICS\",\"Facts\"], value_vars =Time_Period,var_name=\"PER\")\n",
    "\n",
    "df1[\"value\"]=df1[\"value\"].apply(pd.to_numeric)"
   ]
  },
  {
   "cell_type": "code",
   "execution_count": 44,
   "metadata": {},
   "outputs": [],
   "source": [
    "df2=df1.pivot_table(index=[\"MKT\",\"PROD\",\"CP_MANUFACTURER\",\"CP_FRANCHISE\",\"CP_BRAND\",\"CP_CHARACTERISTICS\",'PER'],columns='Facts')\n",
    "\n",
    "df2.columns=df2.columns.droplevel().rename(None)\n",
    "df2.reset_index(inplace =True)"
   ]
  },
  {
   "cell_type": "code",
   "execution_count": 45,
   "metadata": {},
   "outputs": [],
   "source": [
    "from pandas.api.types import CategoricalDtype\n",
    "\n",
    "Time_Period_order = CategoricalDtype(\n",
    "    Time_Period, \n",
    "    ordered=True\n",
    ")\n",
    "\n",
    "df2['PER'] = df2['PER'].astype(Time_Period_order)\n",
    "\n",
    "df2.sort_values(['MKT','PROD','PER'],inplace=True)"
   ]
  },
  {
   "cell_type": "code",
   "execution_count": 46,
   "metadata": {},
   "outputs": [],
   "source": [
    "final_column_sorting=[\"MKT\",\"PROD\",\"CP_MANUFACTURER\",\"CP_FRANCHISE\",\"CP_BRAND\",\"CP_CHARACTERISTICS\",\"PER\",\"Doll_Shr\",\n",
    "                      \"Doll_Shr_Chg\",\"Base_Doll_Shr\",\"Base_Doll_Shr_Chg\",\"Store_selling\",\"Store_selling_Chg\",\"Dollars\",\n",
    "                      \"Dollars_Chg\",\"Cum_Distri_Pts\",\"Cum_Distri_Pts_Chg\"\n",
    "                      ]\n",
    "Characteristics2_final=df2[final_column_sorting]"
   ]
  },
  {
   "cell_type": "code",
   "execution_count": 47,
   "metadata": {},
   "outputs": [
    {
     "data": {
      "text/html": [
       "<div>\n",
       "<style scoped>\n",
       "    .dataframe tbody tr th:only-of-type {\n",
       "        vertical-align: middle;\n",
       "    }\n",
       "\n",
       "    .dataframe tbody tr th {\n",
       "        vertical-align: top;\n",
       "    }\n",
       "\n",
       "    .dataframe thead th {\n",
       "        text-align: right;\n",
       "    }\n",
       "</style>\n",
       "<table border=\"1\" class=\"dataframe\">\n",
       "  <thead>\n",
       "    <tr style=\"text-align: right;\">\n",
       "      <th></th>\n",
       "      <th>MKT</th>\n",
       "      <th>PROD</th>\n",
       "      <th>CP_MANUFACTURER</th>\n",
       "      <th>CP_FRANCHISE</th>\n",
       "      <th>CP_BRAND</th>\n",
       "      <th>CP_CHARACTERISTICS</th>\n",
       "      <th>PER</th>\n",
       "      <th>Doll_Shr</th>\n",
       "      <th>Doll_Shr_Chg</th>\n",
       "      <th>Base_Doll_Shr</th>\n",
       "      <th>Base_Doll_Shr_Chg</th>\n",
       "      <th>Store_selling</th>\n",
       "      <th>Store_selling_Chg</th>\n",
       "      <th>Dollars</th>\n",
       "      <th>Dollars_Chg</th>\n",
       "      <th>Cum_Distri_Pts</th>\n",
       "      <th>Cum_Distri_Pts_Chg</th>\n",
       "    </tr>\n",
       "  </thead>\n",
       "  <tbody>\n",
       "    <tr>\n",
       "      <th>0</th>\n",
       "      <td>Ahold</td>\n",
       "      <td>LIQUID | PUMP</td>\n",
       "      <td></td>\n",
       "      <td></td>\n",
       "      <td></td>\n",
       "      <td>PUMP</td>\n",
       "      <td>4 W/E 02/27/21</td>\n",
       "      <td>70.873</td>\n",
       "      <td>-1.299</td>\n",
       "      <td>63.666</td>\n",
       "      <td>17.243</td>\n",
       "      <td>99.956</td>\n",
       "      <td>0.022</td>\n",
       "      <td>1159514.47</td>\n",
       "      <td>-0.642</td>\n",
       "      <td>4787.720</td>\n",
       "      <td>-199.651</td>\n",
       "    </tr>\n",
       "    <tr>\n",
       "      <th>5</th>\n",
       "      <td>Ahold</td>\n",
       "      <td>LIQUID | PUMP</td>\n",
       "      <td></td>\n",
       "      <td></td>\n",
       "      <td></td>\n",
       "      <td>PUMP</td>\n",
       "      <td>Latest 13 Weeks</td>\n",
       "      <td>70.737</td>\n",
       "      <td>-1.358</td>\n",
       "      <td>63.552</td>\n",
       "      <td>13.758</td>\n",
       "      <td>99.973</td>\n",
       "      <td>-0.007</td>\n",
       "      <td>4303694.42</td>\n",
       "      <td>24.590</td>\n",
       "      <td>4742.044</td>\n",
       "      <td>-235.284</td>\n",
       "    </tr>\n",
       "    <tr>\n",
       "      <th>6</th>\n",
       "      <td>Ahold</td>\n",
       "      <td>LIQUID | PUMP</td>\n",
       "      <td></td>\n",
       "      <td></td>\n",
       "      <td></td>\n",
       "      <td>PUMP</td>\n",
       "      <td>Latest 26 Weeks</td>\n",
       "      <td>69.839</td>\n",
       "      <td>-2.922</td>\n",
       "      <td>65.561</td>\n",
       "      <td>15.780</td>\n",
       "      <td>99.967</td>\n",
       "      <td>-0.023</td>\n",
       "      <td>9835029.22</td>\n",
       "      <td>40.782</td>\n",
       "      <td>4115.422</td>\n",
       "      <td>-976.758</td>\n",
       "    </tr>\n",
       "  </tbody>\n",
       "</table>\n",
       "</div>"
      ],
      "text/plain": [
       "     MKT           PROD CP_MANUFACTURER CP_FRANCHISE CP_BRAND  \\\n",
       "0  Ahold  LIQUID | PUMP                                         \n",
       "5  Ahold  LIQUID | PUMP                                         \n",
       "6  Ahold  LIQUID | PUMP                                         \n",
       "\n",
       "  CP_CHARACTERISTICS              PER  Doll_Shr  Doll_Shr_Chg  Base_Doll_Shr  \\\n",
       "0               PUMP   4 W/E 02/27/21    70.873        -1.299         63.666   \n",
       "5               PUMP  Latest 13 Weeks    70.737        -1.358         63.552   \n",
       "6               PUMP  Latest 26 Weeks    69.839        -2.922         65.561   \n",
       "\n",
       "   Base_Doll_Shr_Chg  Store_selling  Store_selling_Chg     Dollars  \\\n",
       "0             17.243         99.956              0.022  1159514.47   \n",
       "5             13.758         99.973             -0.007  4303694.42   \n",
       "6             15.780         99.967             -0.023  9835029.22   \n",
       "\n",
       "   Dollars_Chg  Cum_Distri_Pts  Cum_Distri_Pts_Chg  \n",
       "0       -0.642        4787.720            -199.651  \n",
       "5       24.590        4742.044            -235.284  \n",
       "6       40.782        4115.422            -976.758  "
      ]
     },
     "execution_count": 47,
     "metadata": {},
     "output_type": "execute_result"
    }
   ],
   "source": [
    "Characteristics2_final.head(3)"
   ]
  },
  {
   "cell_type": "code",
   "execution_count": 48,
   "metadata": {},
   "outputs": [],
   "source": [
    "Characteristics2_final.to_csv(path_LHS+\"Characteristics2.csv\",index=False)"
   ]
  },
  {
   "cell_type": "code",
   "execution_count": null,
   "metadata": {},
   "outputs": [],
   "source": []
  },
  {
   "cell_type": "markdown",
   "metadata": {},
   "source": [
    "## LDL"
   ]
  },
  {
   "cell_type": "code",
   "execution_count": 132,
   "metadata": {},
   "outputs": [],
   "source": [
    "# path to store OuMTBut files\n",
    "path_LDL=\"//falmumapp34/Nielsen Connect Transition & Maintenance (20-SCP-3650)/05. Output Data/5P Output/LDL/\""
   ]
  },
  {
   "cell_type": "code",
   "execution_count": 134,
   "metadata": {},
   "outputs": [],
   "source": [
    "Biz_Data_LDL=Biz_Data[Biz_Data[\"ShareBasis\"]==\"LDL/DISHAIDS/WPS/FM/SPRAYS\"]"
   ]
  },
  {
   "cell_type": "code",
   "execution_count": 135,
   "metadata": {},
   "outputs": [
    {
     "data": {
      "text/plain": [
       "{'LDL/DISHAIDS/WPS/FM/SPRAYS'}"
      ]
     },
     "execution_count": 135,
     "metadata": {},
     "output_type": "execute_result"
    }
   ],
   "source": [
    "set(Biz_Data_LDL[\"ShareBasis\"])"
   ]
  },
  {
   "cell_type": "markdown",
   "metadata": {},
   "source": [
    "## Characteristics 3"
   ]
  },
  {
   "cell_type": "code",
   "execution_count": 136,
   "metadata": {},
   "outputs": [],
   "source": [
    "Segment= Biz_Data_LDL.copy()"
   ]
  },
  {
   "cell_type": "code",
   "execution_count": 137,
   "metadata": {},
   "outputs": [
    {
     "data": {
      "text/plain": [
       "Index(['Markets', 'ShareBasis', 'Char', 'Manufacturer', 'Products', 'Facts',\n",
       "       'FY 2020', 'FY 2019', 'FY 2018', 'FY 2017', 'YTD 2021',\n",
       "       'Latest 13 Weeks', 'Latest 26 Weeks', 'Q4 2019', 'Q3 2019', 'Q2 2019',\n",
       "       '4 W/E 02/27/21'],\n",
       "      dtype='object')"
      ]
     },
     "execution_count": 137,
     "metadata": {},
     "output_type": "execute_result"
    }
   ],
   "source": [
    "Segment.columns"
   ]
  },
  {
   "cell_type": "code",
   "execution_count": 138,
   "metadata": {},
   "outputs": [
    {
     "data": {
      "text/plain": [
       "{'',\n",
       " '16.1-20 OZ',\n",
       " '20.1-34 OZ',\n",
       " '34.1-44 OZ',\n",
       " '44.1-56 OZ',\n",
       " '56.1-90 OZ',\n",
       " '8-16 OZ',\n",
       " '90.1+ OZ',\n",
       " '<8 OZ',\n",
       " 'ANTIBACTERIAL',\n",
       " 'EFFICACY',\n",
       " 'FOAM',\n",
       " 'HANDCARE',\n",
       " 'NATURAL_ECO',\n",
       " 'ORIGINAL',\n",
       " 'REGULAR',\n",
       " 'REM SEGMENT',\n",
       " 'REM SIZE RANGE',\n",
       " 'SENSORIAL',\n",
       " 'ULTRA'}"
      ]
     },
     "execution_count": 138,
     "metadata": {},
     "output_type": "execute_result"
    }
   ],
   "source": [
    "set(Segment[\"Char\"])"
   ]
  },
  {
   "cell_type": "code",
   "execution_count": 139,
   "metadata": {},
   "outputs": [
    {
     "name": "stdout",
     "output_type": "stream",
     "text": [
      "['4 W/E 02/27/21', 'Latest 13 Weeks', 'Latest 26 Weeks', 'YTD 2021', 'FY 2020', 'FY 2019', 'FY 2018', 'FY 2017']\n"
     ]
    }
   ],
   "source": [
    "Char = ['16.1-20 OZ','20.1-34 OZ','34.1-44 OZ','44.1-56 OZ','56.1-90 OZ','8-16 OZ','90.1+ OZ','<8 OZ','REM SIZE RANGE']\n",
    "\n",
    "Time_Period=list(Segment.columns[16:17])+list(Segment.columns[11:13])+list(Segment.columns[10:11])+list(Segment.columns[6:10])\n",
    "print(Time_Period)"
   ]
  },
  {
   "cell_type": "code",
   "execution_count": 140,
   "metadata": {},
   "outputs": [],
   "source": [
    "#Filter\n",
    "Segment=Segment[Segment[\"Char\"].isin(Char)]"
   ]
  },
  {
   "cell_type": "code",
   "execution_count": 141,
   "metadata": {},
   "outputs": [],
   "source": [
    "Segment.rename(columns={\"Markets\":\"MKT\",\"Products\":\"PROD\",\"Manufacturer\":\"CP_MANUFACTURER\",\"Char\":\"CP_CHARACTERISTIC\"\n",
    "                           },inplace=True)"
   ]
  },
  {
   "cell_type": "code",
   "execution_count": 142,
   "metadata": {},
   "outputs": [
    {
     "data": {
      "text/html": [
       "<div>\n",
       "<style scoped>\n",
       "    .dataframe tbody tr th:only-of-type {\n",
       "        vertical-align: middle;\n",
       "    }\n",
       "\n",
       "    .dataframe tbody tr th {\n",
       "        vertical-align: top;\n",
       "    }\n",
       "\n",
       "    .dataframe thead th {\n",
       "        text-align: right;\n",
       "    }\n",
       "</style>\n",
       "<table border=\"1\" class=\"dataframe\">\n",
       "  <thead>\n",
       "    <tr style=\"text-align: right;\">\n",
       "      <th></th>\n",
       "      <th>MKT</th>\n",
       "      <th>ShareBasis</th>\n",
       "      <th>CP_CHARACTERISTIC</th>\n",
       "      <th>CP_MANUFACTURER</th>\n",
       "      <th>PROD</th>\n",
       "      <th>Facts</th>\n",
       "      <th>FY 2020</th>\n",
       "      <th>FY 2019</th>\n",
       "      <th>FY 2018</th>\n",
       "      <th>FY 2017</th>\n",
       "      <th>YTD 2021</th>\n",
       "      <th>Latest 13 Weeks</th>\n",
       "      <th>Latest 26 Weeks</th>\n",
       "      <th>Q4 2019</th>\n",
       "      <th>Q3 2019</th>\n",
       "      <th>Q2 2019</th>\n",
       "      <th>4 W/E 02/27/21</th>\n",
       "    </tr>\n",
       "  </thead>\n",
       "  <tbody>\n",
       "    <tr>\n",
       "      <th>0</th>\n",
       "      <td>US Drug</td>\n",
       "      <td>LDL/DISHAIDS/WPS/FM/SPRAYS</td>\n",
       "      <td>&lt;8 OZ</td>\n",
       "      <td></td>\n",
       "      <td>LDL/DISHAIDS/WPS/FM/SPRAYS | &lt;8 OZ</td>\n",
       "      <td>Dollars</td>\n",
       "      <td>1.688855e+07</td>\n",
       "      <td>9935545.059</td>\n",
       "      <td>574.544</td>\n",
       "      <td>499.326</td>\n",
       "      <td>1524557.297</td>\n",
       "      <td>2658429.290</td>\n",
       "      <td>5691225.746</td>\n",
       "      <td></td>\n",
       "      <td></td>\n",
       "      <td></td>\n",
       "      <td>717706.796</td>\n",
       "    </tr>\n",
       "    <tr>\n",
       "      <th>1</th>\n",
       "      <td>US Drug</td>\n",
       "      <td>LDL/DISHAIDS/WPS/FM/SPRAYS</td>\n",
       "      <td>&lt;8 OZ</td>\n",
       "      <td></td>\n",
       "      <td>LDL/DISHAIDS/WPS/FM/SPRAYS | &lt;8 OZ</td>\n",
       "      <td>Dollars_Chg</td>\n",
       "      <td>6.998100e+01</td>\n",
       "      <td>1729192.284</td>\n",
       "      <td>15.064</td>\n",
       "      <td>0.000</td>\n",
       "      <td>-41.263</td>\n",
       "      <td>-28.761</td>\n",
       "      <td>-26.346</td>\n",
       "      <td></td>\n",
       "      <td></td>\n",
       "      <td></td>\n",
       "      <td>-53.182</td>\n",
       "    </tr>\n",
       "    <tr>\n",
       "      <th>2</th>\n",
       "      <td>US Drug</td>\n",
       "      <td>LDL/DISHAIDS/WPS/FM/SPRAYS</td>\n",
       "      <td>&lt;8 OZ</td>\n",
       "      <td></td>\n",
       "      <td>LDL/DISHAIDS/WPS/FM/SPRAYS | &lt;8 OZ</td>\n",
       "      <td>Doll_Shr</td>\n",
       "      <td>2.159700e+01</td>\n",
       "      <td>16.420</td>\n",
       "      <td>0.001</td>\n",
       "      <td>0.001</td>\n",
       "      <td>16.016</td>\n",
       "      <td>16.628</td>\n",
       "      <td>17.450</td>\n",
       "      <td></td>\n",
       "      <td></td>\n",
       "      <td></td>\n",
       "      <td>15.670</td>\n",
       "    </tr>\n",
       "    <tr>\n",
       "      <th>3</th>\n",
       "      <td>US Drug</td>\n",
       "      <td>LDL/DISHAIDS/WPS/FM/SPRAYS</td>\n",
       "      <td>&lt;8 OZ</td>\n",
       "      <td></td>\n",
       "      <td>LDL/DISHAIDS/WPS/FM/SPRAYS | &lt;8 OZ</td>\n",
       "      <td>Doll_Shr_Chg</td>\n",
       "      <td>5.177000e+00</td>\n",
       "      <td>16.419</td>\n",
       "      <td>0.000</td>\n",
       "      <td>0.001</td>\n",
       "      <td>-9.820</td>\n",
       "      <td>-7.458</td>\n",
       "      <td>-8.372</td>\n",
       "      <td></td>\n",
       "      <td></td>\n",
       "      <td></td>\n",
       "      <td>-13.670</td>\n",
       "    </tr>\n",
       "    <tr>\n",
       "      <th>4</th>\n",
       "      <td>US Drug</td>\n",
       "      <td>LDL/DISHAIDS/WPS/FM/SPRAYS</td>\n",
       "      <td>&lt;8 OZ</td>\n",
       "      <td></td>\n",
       "      <td>LDL/DISHAIDS/WPS/FM/SPRAYS | &lt;8 OZ</td>\n",
       "      <td>Base_Doll_Shr</td>\n",
       "      <td>1.007300e+01</td>\n",
       "      <td>9.432</td>\n",
       "      <td>0.001</td>\n",
       "      <td>0.001</td>\n",
       "      <td>6.710</td>\n",
       "      <td>6.906</td>\n",
       "      <td>8.580</td>\n",
       "      <td></td>\n",
       "      <td></td>\n",
       "      <td></td>\n",
       "      <td>6.976</td>\n",
       "    </tr>\n",
       "  </tbody>\n",
       "</table>\n",
       "</div>"
      ],
      "text/plain": [
       "       MKT                  ShareBasis CP_CHARACTERISTIC CP_MANUFACTURER  \\\n",
       "0  US Drug  LDL/DISHAIDS/WPS/FM/SPRAYS             <8 OZ                   \n",
       "1  US Drug  LDL/DISHAIDS/WPS/FM/SPRAYS             <8 OZ                   \n",
       "2  US Drug  LDL/DISHAIDS/WPS/FM/SPRAYS             <8 OZ                   \n",
       "3  US Drug  LDL/DISHAIDS/WPS/FM/SPRAYS             <8 OZ                   \n",
       "4  US Drug  LDL/DISHAIDS/WPS/FM/SPRAYS             <8 OZ                   \n",
       "\n",
       "                                 PROD          Facts       FY 2020  \\\n",
       "0  LDL/DISHAIDS/WPS/FM/SPRAYS | <8 OZ        Dollars  1.688855e+07   \n",
       "1  LDL/DISHAIDS/WPS/FM/SPRAYS | <8 OZ    Dollars_Chg  6.998100e+01   \n",
       "2  LDL/DISHAIDS/WPS/FM/SPRAYS | <8 OZ       Doll_Shr  2.159700e+01   \n",
       "3  LDL/DISHAIDS/WPS/FM/SPRAYS | <8 OZ   Doll_Shr_Chg  5.177000e+00   \n",
       "4  LDL/DISHAIDS/WPS/FM/SPRAYS | <8 OZ  Base_Doll_Shr  1.007300e+01   \n",
       "\n",
       "       FY 2019  FY 2018  FY 2017     YTD 2021  Latest 13 Weeks  \\\n",
       "0  9935545.059  574.544  499.326  1524557.297      2658429.290   \n",
       "1  1729192.284   15.064    0.000      -41.263          -28.761   \n",
       "2       16.420    0.001    0.001       16.016           16.628   \n",
       "3       16.419    0.000    0.001       -9.820           -7.458   \n",
       "4        9.432    0.001    0.001        6.710            6.906   \n",
       "\n",
       "   Latest 26 Weeks Q4 2019 Q3 2019 Q2 2019  4 W/E 02/27/21  \n",
       "0      5691225.746                              717706.796  \n",
       "1          -26.346                                 -53.182  \n",
       "2           17.450                                  15.670  \n",
       "3           -8.372                                 -13.670  \n",
       "4            8.580                                   6.976  "
      ]
     },
     "execution_count": 142,
     "metadata": {},
     "output_type": "execute_result"
    }
   ],
   "source": [
    "Segment.head()"
   ]
  },
  {
   "cell_type": "code",
   "execution_count": 143,
   "metadata": {},
   "outputs": [],
   "source": [
    "Segment[\"CP_BRAND\"]=\"\"\n",
    "Segment[\"CP_FRANCHISE\"]=\"\""
   ]
  },
  {
   "cell_type": "code",
   "execution_count": 144,
   "metadata": {},
   "outputs": [],
   "source": [
    "df1=pd.melt(Segment, id_vars =[\"MKT\",\"PROD\",\"CP_MANUFACTURER\",\"CP_FRANCHISE\",\"CP_BRAND\",\"CP_CHARACTERISTIC\",\"Facts\"], value_vars =Time_Period,var_name=\"PER\")\n",
    "\n",
    "df1[\"value\"]=df1[\"value\"].apply(pd.to_numeric)\n"
   ]
  },
  {
   "cell_type": "code",
   "execution_count": 145,
   "metadata": {},
   "outputs": [],
   "source": [
    "df2=df1.pivot_table(index=[\"MKT\",\"PROD\",\"CP_MANUFACTURER\",\"CP_FRANCHISE\",\"CP_BRAND\",\"CP_CHARACTERISTIC\",'PER'],columns='Facts')\n",
    "\n",
    "df2.columns=df2.columns.droplevel().rename(None)\n",
    "df2.reset_index(inplace =True)"
   ]
  },
  {
   "cell_type": "code",
   "execution_count": 146,
   "metadata": {},
   "outputs": [],
   "source": [
    "from pandas.api.types import CategoricalDtype\n",
    "\n",
    "Time_Period_order = CategoricalDtype(\n",
    "    Time_Period, \n",
    "    ordered=True\n",
    ")\n",
    "\n",
    "df2['PER'] = df2['PER'].astype(Time_Period_order)\n",
    "\n",
    "df2.sort_values(['MKT','PROD','PER'],inplace=True)"
   ]
  },
  {
   "cell_type": "code",
   "execution_count": 147,
   "metadata": {},
   "outputs": [],
   "source": [
    "final_column_sorting=[\"MKT\",\"PROD\",\"CP_MANUFACTURER\",\"CP_FRANCHISE\",\"CP_BRAND\",\"CP_CHARACTERISTIC\",\"PER\",\n",
    "                      \"Doll_Shr\",\"Doll_Shr_Chg\",\"Base_Doll_Shr\",\"Base_Doll_Shr_Chg\",\"Store_selling\",\"Store_selling_Chg\",\n",
    "                      \"Dollars\",\"Dollars_Chg\",\"Cum_Distri_Pts\",\"Cum_Distri_Pts_Chg\"\n",
    "                      ]\n",
    "Segment_final=df2[final_column_sorting]"
   ]
  },
  {
   "cell_type": "code",
   "execution_count": 148,
   "metadata": {
    "scrolled": true
   },
   "outputs": [],
   "source": [
    "Segment_final.to_csv(path_LDL+\"characteristics_3.csv\",index=False)"
   ]
  },
  {
   "cell_type": "code",
   "execution_count": 149,
   "metadata": {},
   "outputs": [
    {
     "data": {
      "text/plain": [
       "(4744, 17)"
      ]
     },
     "execution_count": 149,
     "metadata": {},
     "output_type": "execute_result"
    }
   ],
   "source": [
    "Segment_final.shape"
   ]
  },
  {
   "cell_type": "markdown",
   "metadata": {},
   "source": [
    "## Characteristic 1"
   ]
  },
  {
   "cell_type": "code",
   "execution_count": 150,
   "metadata": {},
   "outputs": [],
   "source": [
    "Price_Tier= Biz_Data_LDL.copy()"
   ]
  },
  {
   "cell_type": "code",
   "execution_count": 151,
   "metadata": {},
   "outputs": [
    {
     "name": "stdout",
     "output_type": "stream",
     "text": [
      "['4 W/E 02/27/21', 'Latest 13 Weeks', 'Latest 26 Weeks', 'YTD 2021', 'FY 2020', 'FY 2019', 'FY 2018', 'FY 2017']\n"
     ]
    }
   ],
   "source": [
    "Char = [\"FOAM\",\"REGULAR\",\"ULTRA\"]\n",
    "Time_Period=list(Price_Tier.columns[16:17])+list(Price_Tier.columns[11:13])+list(Price_Tier.columns[10:11])+list(Price_Tier.columns[6:10])\n",
    "print(Time_Period)"
   ]
  },
  {
   "cell_type": "code",
   "execution_count": 152,
   "metadata": {},
   "outputs": [
    {
     "data": {
      "text/html": [
       "<div>\n",
       "<style scoped>\n",
       "    .dataframe tbody tr th:only-of-type {\n",
       "        vertical-align: middle;\n",
       "    }\n",
       "\n",
       "    .dataframe tbody tr th {\n",
       "        vertical-align: top;\n",
       "    }\n",
       "\n",
       "    .dataframe thead th {\n",
       "        text-align: right;\n",
       "    }\n",
       "</style>\n",
       "<table border=\"1\" class=\"dataframe\">\n",
       "  <thead>\n",
       "    <tr style=\"text-align: right;\">\n",
       "      <th></th>\n",
       "      <th>Markets</th>\n",
       "      <th>ShareBasis</th>\n",
       "      <th>Char</th>\n",
       "      <th>Manufacturer</th>\n",
       "      <th>Products</th>\n",
       "      <th>Facts</th>\n",
       "      <th>FY 2020</th>\n",
       "      <th>FY 2019</th>\n",
       "      <th>FY 2018</th>\n",
       "      <th>FY 2017</th>\n",
       "      <th>YTD 2021</th>\n",
       "      <th>Latest 13 Weeks</th>\n",
       "      <th>Latest 26 Weeks</th>\n",
       "      <th>Q4 2019</th>\n",
       "      <th>Q3 2019</th>\n",
       "      <th>Q2 2019</th>\n",
       "      <th>4 W/E 02/27/21</th>\n",
       "    </tr>\n",
       "  </thead>\n",
       "  <tbody>\n",
       "    <tr>\n",
       "      <th>0</th>\n",
       "      <td>US Drug</td>\n",
       "      <td>LDL/DISHAIDS/WPS/FM/SPRAYS</td>\n",
       "      <td>&lt;8 OZ</td>\n",
       "      <td></td>\n",
       "      <td>LDL/DISHAIDS/WPS/FM/SPRAYS | &lt;8 OZ</td>\n",
       "      <td>Dollars</td>\n",
       "      <td>1.688855e+07</td>\n",
       "      <td>9935545.059</td>\n",
       "      <td>574.544</td>\n",
       "      <td>499.326</td>\n",
       "      <td>1524557.297</td>\n",
       "      <td>2658429.290</td>\n",
       "      <td>5691225.746</td>\n",
       "      <td></td>\n",
       "      <td></td>\n",
       "      <td></td>\n",
       "      <td>717706.796</td>\n",
       "    </tr>\n",
       "    <tr>\n",
       "      <th>1</th>\n",
       "      <td>US Drug</td>\n",
       "      <td>LDL/DISHAIDS/WPS/FM/SPRAYS</td>\n",
       "      <td>&lt;8 OZ</td>\n",
       "      <td></td>\n",
       "      <td>LDL/DISHAIDS/WPS/FM/SPRAYS | &lt;8 OZ</td>\n",
       "      <td>Dollars_Chg</td>\n",
       "      <td>6.998100e+01</td>\n",
       "      <td>1729192.284</td>\n",
       "      <td>15.064</td>\n",
       "      <td>0.000</td>\n",
       "      <td>-41.263</td>\n",
       "      <td>-28.761</td>\n",
       "      <td>-26.346</td>\n",
       "      <td></td>\n",
       "      <td></td>\n",
       "      <td></td>\n",
       "      <td>-53.182</td>\n",
       "    </tr>\n",
       "    <tr>\n",
       "      <th>2</th>\n",
       "      <td>US Drug</td>\n",
       "      <td>LDL/DISHAIDS/WPS/FM/SPRAYS</td>\n",
       "      <td>&lt;8 OZ</td>\n",
       "      <td></td>\n",
       "      <td>LDL/DISHAIDS/WPS/FM/SPRAYS | &lt;8 OZ</td>\n",
       "      <td>Doll_Shr</td>\n",
       "      <td>2.159700e+01</td>\n",
       "      <td>16.420</td>\n",
       "      <td>0.001</td>\n",
       "      <td>0.001</td>\n",
       "      <td>16.016</td>\n",
       "      <td>16.628</td>\n",
       "      <td>17.450</td>\n",
       "      <td></td>\n",
       "      <td></td>\n",
       "      <td></td>\n",
       "      <td>15.670</td>\n",
       "    </tr>\n",
       "    <tr>\n",
       "      <th>3</th>\n",
       "      <td>US Drug</td>\n",
       "      <td>LDL/DISHAIDS/WPS/FM/SPRAYS</td>\n",
       "      <td>&lt;8 OZ</td>\n",
       "      <td></td>\n",
       "      <td>LDL/DISHAIDS/WPS/FM/SPRAYS | &lt;8 OZ</td>\n",
       "      <td>Doll_Shr_Chg</td>\n",
       "      <td>5.177000e+00</td>\n",
       "      <td>16.419</td>\n",
       "      <td>0.000</td>\n",
       "      <td>0.001</td>\n",
       "      <td>-9.820</td>\n",
       "      <td>-7.458</td>\n",
       "      <td>-8.372</td>\n",
       "      <td></td>\n",
       "      <td></td>\n",
       "      <td></td>\n",
       "      <td>-13.670</td>\n",
       "    </tr>\n",
       "    <tr>\n",
       "      <th>4</th>\n",
       "      <td>US Drug</td>\n",
       "      <td>LDL/DISHAIDS/WPS/FM/SPRAYS</td>\n",
       "      <td>&lt;8 OZ</td>\n",
       "      <td></td>\n",
       "      <td>LDL/DISHAIDS/WPS/FM/SPRAYS | &lt;8 OZ</td>\n",
       "      <td>Base_Doll_Shr</td>\n",
       "      <td>1.007300e+01</td>\n",
       "      <td>9.432</td>\n",
       "      <td>0.001</td>\n",
       "      <td>0.001</td>\n",
       "      <td>6.710</td>\n",
       "      <td>6.906</td>\n",
       "      <td>8.580</td>\n",
       "      <td></td>\n",
       "      <td></td>\n",
       "      <td></td>\n",
       "      <td>6.976</td>\n",
       "    </tr>\n",
       "  </tbody>\n",
       "</table>\n",
       "</div>"
      ],
      "text/plain": [
       "   Markets                  ShareBasis   Char Manufacturer  \\\n",
       "0  US Drug  LDL/DISHAIDS/WPS/FM/SPRAYS  <8 OZ                \n",
       "1  US Drug  LDL/DISHAIDS/WPS/FM/SPRAYS  <8 OZ                \n",
       "2  US Drug  LDL/DISHAIDS/WPS/FM/SPRAYS  <8 OZ                \n",
       "3  US Drug  LDL/DISHAIDS/WPS/FM/SPRAYS  <8 OZ                \n",
       "4  US Drug  LDL/DISHAIDS/WPS/FM/SPRAYS  <8 OZ                \n",
       "\n",
       "                             Products          Facts       FY 2020  \\\n",
       "0  LDL/DISHAIDS/WPS/FM/SPRAYS | <8 OZ        Dollars  1.688855e+07   \n",
       "1  LDL/DISHAIDS/WPS/FM/SPRAYS | <8 OZ    Dollars_Chg  6.998100e+01   \n",
       "2  LDL/DISHAIDS/WPS/FM/SPRAYS | <8 OZ       Doll_Shr  2.159700e+01   \n",
       "3  LDL/DISHAIDS/WPS/FM/SPRAYS | <8 OZ   Doll_Shr_Chg  5.177000e+00   \n",
       "4  LDL/DISHAIDS/WPS/FM/SPRAYS | <8 OZ  Base_Doll_Shr  1.007300e+01   \n",
       "\n",
       "       FY 2019  FY 2018  FY 2017     YTD 2021  Latest 13 Weeks  \\\n",
       "0  9935545.059  574.544  499.326  1524557.297      2658429.290   \n",
       "1  1729192.284   15.064    0.000      -41.263          -28.761   \n",
       "2       16.420    0.001    0.001       16.016           16.628   \n",
       "3       16.419    0.000    0.001       -9.820           -7.458   \n",
       "4        9.432    0.001    0.001        6.710            6.906   \n",
       "\n",
       "   Latest 26 Weeks Q4 2019 Q3 2019 Q2 2019  4 W/E 02/27/21  \n",
       "0      5691225.746                              717706.796  \n",
       "1          -26.346                                 -53.182  \n",
       "2           17.450                                  15.670  \n",
       "3           -8.372                                 -13.670  \n",
       "4            8.580                                   6.976  "
      ]
     },
     "execution_count": 152,
     "metadata": {},
     "output_type": "execute_result"
    }
   ],
   "source": [
    "Price_Tier.head()"
   ]
  },
  {
   "cell_type": "code",
   "execution_count": 153,
   "metadata": {},
   "outputs": [],
   "source": [
    "#Filter\n",
    "Price_Tier=Price_Tier[Price_Tier[\"Char\"].isin(Char)]"
   ]
  },
  {
   "cell_type": "code",
   "execution_count": 154,
   "metadata": {},
   "outputs": [
    {
     "data": {
      "text/plain": [
       "Index(['Markets', 'ShareBasis', 'Char', 'Manufacturer', 'Products', 'Facts',\n",
       "       'FY 2020', 'FY 2019', 'FY 2018', 'FY 2017', 'YTD 2021',\n",
       "       'Latest 13 Weeks', 'Latest 26 Weeks', 'Q4 2019', 'Q3 2019', 'Q2 2019',\n",
       "       '4 W/E 02/27/21'],\n",
       "      dtype='object')"
      ]
     },
     "execution_count": 154,
     "metadata": {},
     "output_type": "execute_result"
    }
   ],
   "source": [
    "Price_Tier.columns"
   ]
  },
  {
   "cell_type": "code",
   "execution_count": 155,
   "metadata": {},
   "outputs": [],
   "source": [
    "Price_Tier.rename(columns={\"Markets\":\"MKT\",\"Products\":\"PROD\",\"Manufacturer\":\"CP_MANUFACTURER\",\"Char\":\"CP_CHARACTERISTIC\"\n",
    "                           },inplace=True)"
   ]
  },
  {
   "cell_type": "code",
   "execution_count": 156,
   "metadata": {},
   "outputs": [],
   "source": [
    "Price_Tier[[\"CP_FRANCHISE\",\"CP_BRAND\"]]=\"\""
   ]
  },
  {
   "cell_type": "code",
   "execution_count": 157,
   "metadata": {},
   "outputs": [],
   "source": [
    "df1=pd.melt(Price_Tier, id_vars =[\"MKT\",\"PROD\",\"CP_MANUFACTURER\",\"CP_FRANCHISE\",\"CP_BRAND\",\"CP_CHARACTERISTIC\",\"Facts\"], value_vars =Time_Period,var_name=\"PER\")\n",
    "\n",
    "df1[\"value\"]=df1[\"value\"].apply(pd.to_numeric)"
   ]
  },
  {
   "cell_type": "code",
   "execution_count": 158,
   "metadata": {},
   "outputs": [],
   "source": [
    "df2=df1.pivot_table(index=[\"MKT\",\"PROD\",\"CP_MANUFACTURER\",\"CP_FRANCHISE\",\"CP_BRAND\",\"CP_CHARACTERISTIC\",'PER'],columns='Facts')\n",
    "\n",
    "df2.columns=df2.columns.droplevel().rename(None)\n",
    "df2.reset_index(inplace =True)"
   ]
  },
  {
   "cell_type": "code",
   "execution_count": 159,
   "metadata": {},
   "outputs": [],
   "source": [
    "from pandas.api.types import CategoricalDtype\n",
    "\n",
    "Time_Period_order = CategoricalDtype(\n",
    "    Time_Period, \n",
    "    ordered=True\n",
    ")\n",
    "\n",
    "df2['PER'] = df2['PER'].astype(Time_Period_order)\n",
    "\n",
    "df2.sort_values(['MKT','PROD','PER'],inplace=True)"
   ]
  },
  {
   "cell_type": "code",
   "execution_count": 160,
   "metadata": {},
   "outputs": [],
   "source": [
    "final_column_sorting=[\"MKT\",\"PROD\",\"CP_MANUFACTURER\",\"CP_FRANCHISE\",\"CP_BRAND\",\"CP_CHARACTERISTIC\",\"PER\",\"Doll_Shr\",\n",
    "                      \"Doll_Shr_Chg\",\"Base_Doll_Shr\",\"Base_Doll_Shr_Chg\",\"Store_selling\",\"Store_selling_Chg\",\"Dollars\",\n",
    "                      \"Dollars_Chg\",\"Cum_Distri_Pts\",\"Cum_Distri_Pts_Chg\"\n",
    "                      ]\n",
    "Price_Tier_final=df2[final_column_sorting]"
   ]
  },
  {
   "cell_type": "code",
   "execution_count": 161,
   "metadata": {},
   "outputs": [
    {
     "data": {
      "text/html": [
       "<div>\n",
       "<style scoped>\n",
       "    .dataframe tbody tr th:only-of-type {\n",
       "        vertical-align: middle;\n",
       "    }\n",
       "\n",
       "    .dataframe tbody tr th {\n",
       "        vertical-align: top;\n",
       "    }\n",
       "\n",
       "    .dataframe thead th {\n",
       "        text-align: right;\n",
       "    }\n",
       "</style>\n",
       "<table border=\"1\" class=\"dataframe\">\n",
       "  <thead>\n",
       "    <tr style=\"text-align: right;\">\n",
       "      <th></th>\n",
       "      <th>MKT</th>\n",
       "      <th>PROD</th>\n",
       "      <th>CP_MANUFACTURER</th>\n",
       "      <th>CP_FRANCHISE</th>\n",
       "      <th>CP_BRAND</th>\n",
       "      <th>CP_CHARACTERISTIC</th>\n",
       "      <th>PER</th>\n",
       "      <th>Doll_Shr</th>\n",
       "      <th>Doll_Shr_Chg</th>\n",
       "      <th>Base_Doll_Shr</th>\n",
       "      <th>Base_Doll_Shr_Chg</th>\n",
       "      <th>Store_selling</th>\n",
       "      <th>Store_selling_Chg</th>\n",
       "      <th>Dollars</th>\n",
       "      <th>Dollars_Chg</th>\n",
       "      <th>Cum_Distri_Pts</th>\n",
       "      <th>Cum_Distri_Pts_Chg</th>\n",
       "    </tr>\n",
       "  </thead>\n",
       "  <tbody>\n",
       "    <tr>\n",
       "      <th>0</th>\n",
       "      <td>Ahold</td>\n",
       "      <td>LDL/DISHAIDS/WPS/FM/SPRAYS | FOAM</td>\n",
       "      <td></td>\n",
       "      <td></td>\n",
       "      <td></td>\n",
       "      <td>FOAM</td>\n",
       "      <td>4 W/E 02/27/21</td>\n",
       "      <td>1.394</td>\n",
       "      <td>-0.500</td>\n",
       "      <td>1.516</td>\n",
       "      <td>-0.271</td>\n",
       "      <td>85.586</td>\n",
       "      <td>-5.151</td>\n",
       "      <td>35568.19</td>\n",
       "      <td>-25.765</td>\n",
       "      <td>95.758</td>\n",
       "      <td>-8.232</td>\n",
       "    </tr>\n",
       "    <tr>\n",
       "      <th>5</th>\n",
       "      <td>Ahold</td>\n",
       "      <td>LDL/DISHAIDS/WPS/FM/SPRAYS | FOAM</td>\n",
       "      <td></td>\n",
       "      <td></td>\n",
       "      <td></td>\n",
       "      <td>FOAM</td>\n",
       "      <td>Latest 13 Weeks</td>\n",
       "      <td>1.650</td>\n",
       "      <td>-0.031</td>\n",
       "      <td>1.688</td>\n",
       "      <td>0.086</td>\n",
       "      <td>86.729</td>\n",
       "      <td>-1.873</td>\n",
       "      <td>142288.84</td>\n",
       "      <td>3.560</td>\n",
       "      <td>99.524</td>\n",
       "      <td>-3.879</td>\n",
       "    </tr>\n",
       "    <tr>\n",
       "      <th>6</th>\n",
       "      <td>Ahold</td>\n",
       "      <td>LDL/DISHAIDS/WPS/FM/SPRAYS | FOAM</td>\n",
       "      <td></td>\n",
       "      <td></td>\n",
       "      <td></td>\n",
       "      <td>FOAM</td>\n",
       "      <td>Latest 26 Weeks</td>\n",
       "      <td>1.841</td>\n",
       "      <td>0.249</td>\n",
       "      <td>1.772</td>\n",
       "      <td>0.245</td>\n",
       "      <td>84.778</td>\n",
       "      <td>-0.974</td>\n",
       "      <td>319931.51</td>\n",
       "      <td>28.610</td>\n",
       "      <td>97.107</td>\n",
       "      <td>-4.190</td>\n",
       "    </tr>\n",
       "  </tbody>\n",
       "</table>\n",
       "</div>"
      ],
      "text/plain": [
       "     MKT                               PROD CP_MANUFACTURER CP_FRANCHISE  \\\n",
       "0  Ahold  LDL/DISHAIDS/WPS/FM/SPRAYS | FOAM                                \n",
       "5  Ahold  LDL/DISHAIDS/WPS/FM/SPRAYS | FOAM                                \n",
       "6  Ahold  LDL/DISHAIDS/WPS/FM/SPRAYS | FOAM                                \n",
       "\n",
       "  CP_BRAND CP_CHARACTERISTIC              PER  Doll_Shr  Doll_Shr_Chg  \\\n",
       "0                       FOAM   4 W/E 02/27/21     1.394        -0.500   \n",
       "5                       FOAM  Latest 13 Weeks     1.650        -0.031   \n",
       "6                       FOAM  Latest 26 Weeks     1.841         0.249   \n",
       "\n",
       "   Base_Doll_Shr  Base_Doll_Shr_Chg  Store_selling  Store_selling_Chg  \\\n",
       "0          1.516             -0.271         85.586             -5.151   \n",
       "5          1.688              0.086         86.729             -1.873   \n",
       "6          1.772              0.245         84.778             -0.974   \n",
       "\n",
       "     Dollars  Dollars_Chg  Cum_Distri_Pts  Cum_Distri_Pts_Chg  \n",
       "0   35568.19      -25.765          95.758              -8.232  \n",
       "5  142288.84        3.560          99.524              -3.879  \n",
       "6  319931.51       28.610          97.107              -4.190  "
      ]
     },
     "execution_count": 161,
     "metadata": {},
     "output_type": "execute_result"
    }
   ],
   "source": [
    "Price_Tier_final.head(3)"
   ]
  },
  {
   "cell_type": "code",
   "execution_count": 162,
   "metadata": {},
   "outputs": [],
   "source": [
    "Price_Tier_final.to_csv(path_LDL+\"characteristics_1.csv\",index=False)"
   ]
  },
  {
   "cell_type": "markdown",
   "metadata": {},
   "source": [
    "## Characteristics 2"
   ]
  },
  {
   "cell_type": "code",
   "execution_count": 163,
   "metadata": {},
   "outputs": [],
   "source": [
    "Adult_data= Biz_Data_LDL.copy()"
   ]
  },
  {
   "cell_type": "code",
   "execution_count": 164,
   "metadata": {},
   "outputs": [
    {
     "data": {
      "text/plain": [
       "{'',\n",
       " '16.1-20 OZ',\n",
       " '20.1-34 OZ',\n",
       " '34.1-44 OZ',\n",
       " '44.1-56 OZ',\n",
       " '56.1-90 OZ',\n",
       " '8-16 OZ',\n",
       " '90.1+ OZ',\n",
       " '<8 OZ',\n",
       " 'ANTIBACTERIAL',\n",
       " 'EFFICACY',\n",
       " 'FOAM',\n",
       " 'HANDCARE',\n",
       " 'NATURAL_ECO',\n",
       " 'ORIGINAL',\n",
       " 'REGULAR',\n",
       " 'REM SEGMENT',\n",
       " 'REM SIZE RANGE',\n",
       " 'SENSORIAL',\n",
       " 'ULTRA'}"
      ]
     },
     "execution_count": 164,
     "metadata": {},
     "output_type": "execute_result"
    }
   ],
   "source": [
    "set(Adult_data[\"Char\"])"
   ]
  },
  {
   "cell_type": "code",
   "execution_count": 165,
   "metadata": {},
   "outputs": [
    {
     "data": {
      "text/plain": [
       "set()"
      ]
     },
     "execution_count": 165,
     "metadata": {},
     "output_type": "execute_result"
    }
   ],
   "source": [
    "set(Char)-set(Adult_data[\"Char\"])"
   ]
  },
  {
   "cell_type": "code",
   "execution_count": 166,
   "metadata": {},
   "outputs": [
    {
     "name": "stdout",
     "output_type": "stream",
     "text": [
      "['4 W/E 02/27/21', 'Latest 13 Weeks', 'Latest 26 Weeks', 'YTD 2021', 'FY 2020', 'FY 2019', 'FY 2018', 'FY 2017']\n"
     ]
    }
   ],
   "source": [
    "Char = ['ANTIBACTERIAL','EFFICACY','HANDCARE','NATURAL_ECO','ORIGINAL','REM SEGMENT','SENSORIAL']\n",
    "Time_Period=list(Adult_data.columns[16:17])+list(Adult_data.columns[11:13])+list(Adult_data.columns[10:11])+list(Adult_data.columns[6:10])\n",
    "print(Time_Period)"
   ]
  },
  {
   "cell_type": "code",
   "execution_count": 167,
   "metadata": {},
   "outputs": [],
   "source": [
    "#Filter\n",
    "Adult_data=Adult_data[Adult_data[\"Char\"].isin(Char)]"
   ]
  },
  {
   "cell_type": "code",
   "execution_count": 169,
   "metadata": {},
   "outputs": [
    {
     "data": {
      "text/plain": [
       "Index(['Markets', 'ShareBasis', 'Char', 'Manufacturer', 'Products', 'Facts',\n",
       "       'FY 2020', 'FY 2019', 'FY 2018', 'FY 2017', 'YTD 2021',\n",
       "       'Latest 13 Weeks', 'Latest 26 Weeks', 'Q4 2019', 'Q3 2019', 'Q2 2019',\n",
       "       '4 W/E 02/27/21'],\n",
       "      dtype='object')"
      ]
     },
     "execution_count": 169,
     "metadata": {},
     "output_type": "execute_result"
    }
   ],
   "source": [
    "Adult_data.columns"
   ]
  },
  {
   "cell_type": "code",
   "execution_count": 170,
   "metadata": {},
   "outputs": [],
   "source": [
    "Adult_data.rename(columns={\"Markets\":\"MKT\",\"Products\":\"PROD\",\"Manufacturer\":\"CP_MANUFACTURER\",\"Char\":\"CP_CHARACTERISTIC\"\n",
    "                           },inplace=True)"
   ]
  },
  {
   "cell_type": "code",
   "execution_count": 171,
   "metadata": {},
   "outputs": [],
   "source": [
    "Adult_data[[\"CP_FRANCHISE\",\"CP_BRAND\"]]=\"\""
   ]
  },
  {
   "cell_type": "code",
   "execution_count": 172,
   "metadata": {},
   "outputs": [
    {
     "data": {
      "text/plain": [
       "{'Base_Doll_Shr',\n",
       " 'Base_Doll_Shr_Chg',\n",
       " 'Cum_Distri_Pts',\n",
       " 'Cum_Distri_Pts_Chg',\n",
       " 'Doll_Shr',\n",
       " 'Doll_Shr_Chg',\n",
       " 'Dollars',\n",
       " 'Dollars_Chg',\n",
       " 'Store_selling',\n",
       " 'Store_selling_Chg'}"
      ]
     },
     "execution_count": 172,
     "metadata": {},
     "output_type": "execute_result"
    }
   ],
   "source": [
    "set(Adult_data[\"Facts\"])"
   ]
  },
  {
   "cell_type": "code",
   "execution_count": 173,
   "metadata": {},
   "outputs": [],
   "source": [
    "df1=pd.melt(Adult_data, id_vars =[\"MKT\",\"PROD\",\"CP_MANUFACTURER\",\"CP_FRANCHISE\",\"CP_BRAND\",\"CP_CHARACTERISTIC\",\"Facts\"], value_vars =Time_Period,var_name=\"PER\")\n",
    "\n",
    "df1[\"value\"]=df1[\"value\"].apply(pd.to_numeric)"
   ]
  },
  {
   "cell_type": "code",
   "execution_count": 174,
   "metadata": {},
   "outputs": [
    {
     "data": {
      "text/plain": [
       "{'Base_Doll_Shr',\n",
       " 'Base_Doll_Shr_Chg',\n",
       " 'Cum_Distri_Pts',\n",
       " 'Cum_Distri_Pts_Chg',\n",
       " 'Doll_Shr',\n",
       " 'Doll_Shr_Chg',\n",
       " 'Dollars',\n",
       " 'Dollars_Chg',\n",
       " 'Store_selling',\n",
       " 'Store_selling_Chg'}"
      ]
     },
     "execution_count": 174,
     "metadata": {},
     "output_type": "execute_result"
    }
   ],
   "source": [
    "set(df1[\"Facts\"])"
   ]
  },
  {
   "cell_type": "code",
   "execution_count": 175,
   "metadata": {},
   "outputs": [],
   "source": [
    "df2=df1.pivot_table(index=[\"MKT\",\"PROD\",\"CP_MANUFACTURER\",\"CP_FRANCHISE\",\"CP_BRAND\",\"CP_CHARACTERISTIC\",'PER'],columns='Facts')\n",
    "\n",
    "df2.columns=df2.columns.droplevel().rename(None)\n",
    "df2.reset_index(inplace =True)"
   ]
  },
  {
   "cell_type": "code",
   "execution_count": 176,
   "metadata": {},
   "outputs": [
    {
     "data": {
      "text/plain": [
       "Index(['MKT', 'PROD', 'CP_MANUFACTURER', 'CP_FRANCHISE', 'CP_BRAND',\n",
       "       'CP_CHARACTERISTIC', 'PER', 'Base_Doll_Shr', 'Base_Doll_Shr_Chg',\n",
       "       'Cum_Distri_Pts', 'Cum_Distri_Pts_Chg', 'Doll_Shr', 'Doll_Shr_Chg',\n",
       "       'Dollars', 'Dollars_Chg', 'Store_selling', 'Store_selling_Chg'],\n",
       "      dtype='object')"
      ]
     },
     "execution_count": 176,
     "metadata": {},
     "output_type": "execute_result"
    }
   ],
   "source": [
    "df2.columns"
   ]
  },
  {
   "cell_type": "code",
   "execution_count": 177,
   "metadata": {},
   "outputs": [],
   "source": [
    "from pandas.api.types import CategoricalDtype\n",
    "\n",
    "Time_Period_order = CategoricalDtype(\n",
    "    Time_Period, \n",
    "    ordered=True\n",
    ")\n",
    "\n",
    "df2['PER'] = df2['PER'].astype(Time_Period_order)\n",
    "\n",
    "df2.sort_values(['MKT','PROD','PER'],inplace=True)"
   ]
  },
  {
   "cell_type": "code",
   "execution_count": 178,
   "metadata": {},
   "outputs": [],
   "source": [
    "final_column_sorting=[\"MKT\",\"PROD\",\"CP_MANUFACTURER\",\"CP_FRANCHISE\",\"CP_BRAND\",\"CP_CHARACTERISTIC\",\"PER\",\"Doll_Shr\",\n",
    "                      \"Doll_Shr_Chg\",\"Base_Doll_Shr\",\"Base_Doll_Shr_Chg\",\"Store_selling\",\"Store_selling_Chg\",\"Dollars\",\n",
    "                      \"Dollars_Chg\",\"Cum_Distri_Pts\",\"Cum_Distri_Pts_Chg\"\n",
    "                      ]\n",
    "Adult_data_final=df2[final_column_sorting]"
   ]
  },
  {
   "cell_type": "code",
   "execution_count": 179,
   "metadata": {
    "scrolled": true
   },
   "outputs": [
    {
     "data": {
      "text/html": [
       "<div>\n",
       "<style scoped>\n",
       "    .dataframe tbody tr th:only-of-type {\n",
       "        vertical-align: middle;\n",
       "    }\n",
       "\n",
       "    .dataframe tbody tr th {\n",
       "        vertical-align: top;\n",
       "    }\n",
       "\n",
       "    .dataframe thead th {\n",
       "        text-align: right;\n",
       "    }\n",
       "</style>\n",
       "<table border=\"1\" class=\"dataframe\">\n",
       "  <thead>\n",
       "    <tr style=\"text-align: right;\">\n",
       "      <th></th>\n",
       "      <th>MKT</th>\n",
       "      <th>PROD</th>\n",
       "      <th>CP_MANUFACTURER</th>\n",
       "      <th>CP_FRANCHISE</th>\n",
       "      <th>CP_BRAND</th>\n",
       "      <th>CP_CHARACTERISTIC</th>\n",
       "      <th>PER</th>\n",
       "      <th>Doll_Shr</th>\n",
       "      <th>Doll_Shr_Chg</th>\n",
       "      <th>Base_Doll_Shr</th>\n",
       "      <th>Base_Doll_Shr_Chg</th>\n",
       "      <th>Store_selling</th>\n",
       "      <th>Store_selling_Chg</th>\n",
       "      <th>Dollars</th>\n",
       "      <th>Dollars_Chg</th>\n",
       "      <th>Cum_Distri_Pts</th>\n",
       "      <th>Cum_Distri_Pts_Chg</th>\n",
       "    </tr>\n",
       "  </thead>\n",
       "  <tbody>\n",
       "    <tr>\n",
       "      <th>0</th>\n",
       "      <td>Ahold</td>\n",
       "      <td>LDL/DISHAIDS/WPS/FM/SPRAYS | ANTIBACTERIAL</td>\n",
       "      <td></td>\n",
       "      <td></td>\n",
       "      <td></td>\n",
       "      <td>ANTIBACTERIAL</td>\n",
       "      <td>4 W/E 02/27/21</td>\n",
       "      <td>14.456</td>\n",
       "      <td>0.201</td>\n",
       "      <td>13.464</td>\n",
       "      <td>2.312</td>\n",
       "      <td>99.780</td>\n",
       "      <td>0.089</td>\n",
       "      <td>368719.77</td>\n",
       "      <td>2.229</td>\n",
       "      <td>735.936</td>\n",
       "      <td>-77.006</td>\n",
       "    </tr>\n",
       "    <tr>\n",
       "      <th>5</th>\n",
       "      <td>Ahold</td>\n",
       "      <td>LDL/DISHAIDS/WPS/FM/SPRAYS | ANTIBACTERIAL</td>\n",
       "      <td></td>\n",
       "      <td></td>\n",
       "      <td></td>\n",
       "      <td>ANTIBACTERIAL</td>\n",
       "      <td>Latest 13 Weeks</td>\n",
       "      <td>13.553</td>\n",
       "      <td>-0.783</td>\n",
       "      <td>12.348</td>\n",
       "      <td>0.626</td>\n",
       "      <td>99.780</td>\n",
       "      <td>-0.018</td>\n",
       "      <td>1168602.02</td>\n",
       "      <td>-0.264</td>\n",
       "      <td>618.048</td>\n",
       "      <td>-223.583</td>\n",
       "    </tr>\n",
       "    <tr>\n",
       "      <th>6</th>\n",
       "      <td>Ahold</td>\n",
       "      <td>LDL/DISHAIDS/WPS/FM/SPRAYS | ANTIBACTERIAL</td>\n",
       "      <td></td>\n",
       "      <td></td>\n",
       "      <td></td>\n",
       "      <td>ANTIBACTERIAL</td>\n",
       "      <td>Latest 26 Weeks</td>\n",
       "      <td>12.320</td>\n",
       "      <td>-2.192</td>\n",
       "      <td>11.403</td>\n",
       "      <td>-0.376</td>\n",
       "      <td>99.745</td>\n",
       "      <td>-0.101</td>\n",
       "      <td>2140731.75</td>\n",
       "      <td>-5.583</td>\n",
       "      <td>550.234</td>\n",
       "      <td>-295.011</td>\n",
       "    </tr>\n",
       "  </tbody>\n",
       "</table>\n",
       "</div>"
      ],
      "text/plain": [
       "     MKT                                        PROD CP_MANUFACTURER  \\\n",
       "0  Ahold  LDL/DISHAIDS/WPS/FM/SPRAYS | ANTIBACTERIAL                   \n",
       "5  Ahold  LDL/DISHAIDS/WPS/FM/SPRAYS | ANTIBACTERIAL                   \n",
       "6  Ahold  LDL/DISHAIDS/WPS/FM/SPRAYS | ANTIBACTERIAL                   \n",
       "\n",
       "  CP_FRANCHISE CP_BRAND CP_CHARACTERISTIC              PER  Doll_Shr  \\\n",
       "0                           ANTIBACTERIAL   4 W/E 02/27/21    14.456   \n",
       "5                           ANTIBACTERIAL  Latest 13 Weeks    13.553   \n",
       "6                           ANTIBACTERIAL  Latest 26 Weeks    12.320   \n",
       "\n",
       "   Doll_Shr_Chg  Base_Doll_Shr  Base_Doll_Shr_Chg  Store_selling  \\\n",
       "0         0.201         13.464              2.312         99.780   \n",
       "5        -0.783         12.348              0.626         99.780   \n",
       "6        -2.192         11.403             -0.376         99.745   \n",
       "\n",
       "   Store_selling_Chg     Dollars  Dollars_Chg  Cum_Distri_Pts  \\\n",
       "0              0.089   368719.77        2.229         735.936   \n",
       "5             -0.018  1168602.02       -0.264         618.048   \n",
       "6             -0.101  2140731.75       -5.583         550.234   \n",
       "\n",
       "   Cum_Distri_Pts_Chg  \n",
       "0             -77.006  \n",
       "5            -223.583  \n",
       "6            -295.011  "
      ]
     },
     "execution_count": 179,
     "metadata": {},
     "output_type": "execute_result"
    }
   ],
   "source": [
    "Adult_data_final.head(3)"
   ]
  },
  {
   "cell_type": "code",
   "execution_count": 180,
   "metadata": {},
   "outputs": [],
   "source": [
    "Adult_data_final.to_csv(path_LDL+\"characteristics_2.csv\",index=False)"
   ]
  },
  {
   "cell_type": "code",
   "execution_count": null,
   "metadata": {},
   "outputs": [],
   "source": []
  },
  {
   "cell_type": "code",
   "execution_count": null,
   "metadata": {},
   "outputs": [],
   "source": []
  },
  {
   "cell_type": "code",
   "execution_count": null,
   "metadata": {},
   "outputs": [],
   "source": []
  }
 ],
 "metadata": {
  "kernelspec": {
   "display_name": "Python 3",
   "language": "python",
   "name": "python3"
  },
  "language_info": {
   "codemirror_mode": {
    "name": "ipython",
    "version": 3
   },
   "file_extension": ".py",
   "mimetype": "text/x-python",
   "name": "python",
   "nbconvert_exporter": "python",
   "pygments_lexer": "ipython3",
   "version": "3.8.3"
  }
 },
 "nbformat": 4,
 "nbformat_minor": 4
}
