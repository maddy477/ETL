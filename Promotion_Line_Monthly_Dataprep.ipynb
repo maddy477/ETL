{
 "cells": [
  {
   "cell_type": "code",
   "execution_count": 1,
   "metadata": {},
   "outputs": [
    {
     "data": {
      "application/javascript": [
       "IPython.notebook.set_autosave_interval(120000)"
      ]
     },
     "metadata": {},
     "output_type": "display_data"
    },
    {
     "name": "stdout",
     "output_type": "stream",
     "text": [
      "Autosaving every 120 seconds\n"
     ]
    }
   ],
   "source": [
    "%autosave 120"
   ]
  },
  {
   "cell_type": "markdown",
   "metadata": {},
   "source": [
    "**Importing all the libraries**"
   ]
  },
  {
   "cell_type": "code",
   "execution_count": 2,
   "metadata": {},
   "outputs": [],
   "source": [
    "import pandas as pd;\n",
    "import numpy as np;\n",
    "import os;\n",
    "import time;\n",
    "import datetime;\n",
    "import warnings;\n",
    "warnings.filterwarnings('ignore');\n",
    "from pandas.api.types import CategoricalDtype;"
   ]
  },
  {
   "cell_type": "markdown",
   "metadata": {},
   "source": [
    "Assigning path of the folder where **Line Monthly** data files are stored"
   ]
  },
  {
   "cell_type": "code",
   "execution_count": 3,
   "metadata": {},
   "outputs": [],
   "source": [
    "path = \"//falmumapp34/Nielsen Connect Transition & Maintenance (20-SCP-3650)/03. Raw Data/Connect Data/Line Monthly/Archive\"\n",
    "# path = \"//falmumapp34/Nielsen Connect Transition & Maintenance (20-SCP-3650)/03. Raw Data/Connect Data/temp\"\n",
    "files = os.listdir(path)"
   ]
  },
  {
   "cell_type": "markdown",
   "metadata": {},
   "source": [
    "Selecting only **excel files** from all the files available in the above path"
   ]
  },
  {
   "cell_type": "code",
   "execution_count": 4,
   "metadata": {},
   "outputs": [
    {
     "name": "stdout",
     "output_type": "stream",
     "text": [
      "Total number of files in the folder are  113\n"
     ]
    }
   ],
   "source": [
    "files_xls = [f for f in files if ( f[-5:] == '.xlsx' )] \n",
    "#files_xls = [f for f in files if( f[:4] == \"Wood\" )| (f[:8] == 'Abrasive')|( f[:5] == \"APCWW\" )| (f[:4] == 'Pour')]\n",
    "#files_xls = [f for f in files if( f[:7] == \"TotalFS\" )| (f[:6] == 'Sheets')|( f[:5] == \"LiqFS\" )| (f[:6] == 'ScentB')| (f[:5] == 'Beads')][::-1] \n",
    "print(\"Total number of files in the folder are \",len(files_xls))"
   ]
  },
  {
   "cell_type": "code",
   "execution_count": 5,
   "metadata": {},
   "outputs": [
    {
     "data": {
      "text/plain": [
       "['Abrasive_Line_Monthly_Part1.xlsx',\n",
       " 'Abrasive_Line_Monthly_Part2.xlsx',\n",
       " 'Abrasive_Line_Monthly_Part3.xlsx',\n",
       " 'Abrasive_Line_Monthly_Part4.xlsx',\n",
       " 'Abrasive_Line_Monthly_Part5.xlsx',\n",
       " 'Abrasive_Line_Monthly_Part6.xlsx',\n",
       " 'APCWW_Line_Monthly_Part1.xlsx',\n",
       " 'APCWW_Line_Monthly_Part2.xlsx',\n",
       " 'APCWW_Line_Monthly_Part3.xlsx',\n",
       " 'APCWW_Line_Monthly_Part4.xlsx',\n",
       " 'APCWW_Line_Monthly_Part5.xlsx',\n",
       " 'Bar_Line_Monthly_Part1.xlsx',\n",
       " 'Bar_Line_Monthly_Part2.xlsx',\n",
       " 'Bar_Line_Monthly_Part3.xlsx',\n",
       " 'Bar_Line_Monthly_Part4.xlsx',\n",
       " 'Bar_Line_Monthly_Part5.xlsx',\n",
       " 'Bar_Line_Monthly_Part6.xlsx',\n",
       " 'BattHyb_Line_Monthly_Part1.xlsx',\n",
       " 'BattHyb_Line_Monthly_Part2.xlsx',\n",
       " 'BattHyb_Line_Monthly_Part3.xlsx',\n",
       " 'BattHyb_Line_Monthly_Part4.xlsx',\n",
       " 'BattHyb_line_Monthly_Part6.xlsx',\n",
       " 'Beads_Line_Monthly_Part1.xlsx',\n",
       " 'Beads_Line_Monthly_Part2.xlsx',\n",
       " 'Beads_Line_Monthly_Part3.xlsx',\n",
       " 'Beads_Line_Monthly_Part4.xlsx',\n",
       " 'Beads_Line_Monthly_Part5.xlsx',\n",
       " 'Beads_Line_Monthly_Part6.xlsx',\n",
       " 'BW_Line_Monthly_Part1.xlsx',\n",
       " 'BW_Line_Monthly_Part2.xlsx',\n",
       " 'BW_Line_Monthly_Part3.xlsx',\n",
       " 'BW_Line_Monthly_Part4.xlsx',\n",
       " 'BW_Line_Monthly_Part5.xlsx',\n",
       " 'BW_Line_Monthly_Part61.xlsx',\n",
       " 'BW_Line_Monthly_Part62.xlsx',\n",
       " 'BW_Line_Monthly_Part7.xlsx',\n",
       " 'LDL_Line_Monthly_Part1_Total.xlsx',\n",
       " 'LDL_Line_Monthly_Part2_Total.xlsx',\n",
       " 'LDL_Line_Monthly_Part3_Total.xlsx',\n",
       " 'LDL_Line_Monthly_Part4_Total.xlsx',\n",
       " 'LDL_Line_Monthly_Part5_Total.xlsx',\n",
       " 'LDL_Line_Monthly_Part6.xlsx',\n",
       " 'LHS_Line_Monthly_Exec_Part1.xlsx',\n",
       " 'LHS_Line_Monthly_Exec_Part2.xlsx',\n",
       " 'LHS_Line_Monthly_Exec_Part3.xlsx',\n",
       " 'LHS_Line_Monthly_Exec_Part4.xlsx',\n",
       " 'LHS_Line_Monthly_Exec_Part5.xlsx',\n",
       " 'LiqFS_Line_Monthly_Part1.xlsx',\n",
       " 'LiqFS_Line_Monthly_Part2.xlsx',\n",
       " 'LiqFS_Line_Monthly_Part3.xlsx',\n",
       " 'LiqFS_Line_Monthly_Part4.xlsx',\n",
       " 'LiqFS_Line_Monthly_Part5.xlsx',\n",
       " 'LiqFS_Line_Monthly_Part6.xlsx',\n",
       " 'LiqFS_Line_Monthly_Part7.xlsx',\n",
       " 'MTB_Line_Monthly_Part1.xlsx',\n",
       " 'MTB_Line_Monthly_Part2.xlsx',\n",
       " 'MTB_Line_Monthly_Part3.xlsx',\n",
       " 'MTB_Line_Monthly_Part4.xlsx',\n",
       " 'MTB_Line_Monthly_Part5.xlsx',\n",
       " 'MTB_line_Monthly_Part6.xlsx',\n",
       " 'MW_Line_Monthly_Part1.xlsx',\n",
       " 'MW_Line_Monthly_Part2.xlsx',\n",
       " 'MW_Line_Monthly_Part3_11.21AM_IST_March12th2021.xlsx',\n",
       " 'MW_Line_Monthly_Part4.xlsx',\n",
       " 'MW_Line_Monthly_Part5.xlsx',\n",
       " 'MW_Line_Monthly_Part61.xlsx',\n",
       " 'MW_Line_Monthly_Part62.xlsx',\n",
       " 'Portable_Line_Monthly_Part5.xlsx',\n",
       " 'Pour_Line_Monthly_Part1.xlsx',\n",
       " 'Pour_Line_Monthly_Part2.xlsx',\n",
       " 'Pour_Line_Monthly_Part3.xlsx',\n",
       " 'Pour_Line_Monthly_Part4.xlsx',\n",
       " 'Pour_Line_Monthly_Part5.xlsx',\n",
       " 'Pour_Line_Monthly_Part6.xlsx',\n",
       " 'Power_Line_Monthly_Part1.xlsx',\n",
       " 'Power_Line_Monthly_Part2.xlsx',\n",
       " 'Power_Line_Monthly_Part3.xlsx',\n",
       " 'Power_Line_Monthly_Part4.xlsx',\n",
       " 'Power_Line_Monthly_Part5.xlsx',\n",
       " 'Power_line_Monthly_Part6.xlsx',\n",
       " 'ScentB_Line_Monthly_Part1.xlsx',\n",
       " 'ScentB_Line_Monthly_Part2.xlsx',\n",
       " 'ScentB_Line_Monthly_Part3.xlsx',\n",
       " 'ScentB_Line_Monthly_Part4.xlsx',\n",
       " 'ScentB_Line_Monthly_Part5.xlsx',\n",
       " 'ScentB_Line_Monthly_Part6.xlsx',\n",
       " 'Sheets_Line_Monthly_Part1.xlsx',\n",
       " 'Sheets_Line_Monthly_Part2.xlsx',\n",
       " 'Sheets_Line_Monthly_Part3.xlsx',\n",
       " 'Sheets_Line_Monthly_Part4.xlsx',\n",
       " 'Sheets_Line_Monthly_Part5.xlsx',\n",
       " 'Sheets_Line_Monthly_Part6.xlsx',\n",
       " 'Sheets_Line_Monthly_Part7.xlsx',\n",
       " 'Toothpaste_Line_Monthly_Part1.xlsx',\n",
       " 'Toothpaste_Line_Monthly_Part2.xlsx',\n",
       " 'Toothpaste_Line_Monthly_Part3.xlsx',\n",
       " 'Toothpaste_Line_Monthly_Part4.xlsx',\n",
       " 'Toothpaste_Line_Monthly_Part5.xlsx',\n",
       " 'Toothpaste_Line_Monthly_Part61.xlsx',\n",
       " 'Toothpaste_Line_Monthly_Part62.xlsx',\n",
       " 'TotalFS_Line_Monthly_Part1.xlsx',\n",
       " 'TotalFS_Line_Monthly_Part2.xlsx',\n",
       " 'TotalFS_Line_Monthly_Part3.xlsx',\n",
       " 'TotalFS_Line_Monthly_Part4.xlsx',\n",
       " 'TotalFS_Line_Monthly_Part5.xlsx',\n",
       " 'TotalFS_Line_Monthly_Part6.xlsx',\n",
       " 'TotalFS_Line_Monthly_Part7.xlsx',\n",
       " 'Wood_Line_Monthly_Part1.xlsx',\n",
       " 'Wood_Line_Monthly_Part2.xlsx',\n",
       " 'Wood_Line_Monthly_Part3.xlsx',\n",
       " 'Wood_Line_Monthly_Part4.xlsx',\n",
       " 'Wood_Line_Monthly_Part5.xlsx',\n",
       " 'Wood_Line_Monthly_Part6.xlsx']"
      ]
     },
     "execution_count": 5,
     "metadata": {},
     "output_type": "execute_result"
    }
   ],
   "source": [
    "files_xls"
   ]
  },
  {
   "cell_type": "markdown",
   "metadata": {},
   "source": [
    "**Appending the read files in rows and storing them in a single dataframe** named ***Line_Monthly***.\n",
    "\n",
    "Printing number of columns and number of facts in each file.\n",
    "Also checking the execution time of the code"
   ]
  },
  {
   "cell_type": "code",
   "execution_count": 6,
   "metadata": {
    "scrolled": true
   },
   "outputs": [
    {
     "name": "stdout",
     "output_type": "stream",
     "text": [
      "\u001b[1mAbrasive_Line_Monthly_Part1.xlsx\u001b[0m :->\n",
      "# of Facts are  57 \t\t # of columns are  30\n",
      "\u001b[1mAbrasive_Line_Monthly_Part2.xlsx\u001b[0m :->\n",
      "# of Facts are  57 \t\t # of columns are  30\n",
      "\u001b[1mAbrasive_Line_Monthly_Part3.xlsx\u001b[0m :->\n",
      "# of Facts are  57 \t\t # of columns are  30\n",
      "\u001b[1mAbrasive_Line_Monthly_Part4.xlsx\u001b[0m :->\n",
      "# of Facts are  57 \t\t # of columns are  30\n",
      "\u001b[1mAbrasive_Line_Monthly_Part5.xlsx\u001b[0m :->\n",
      "# of Facts are  20 \t\t # of columns are  30\n",
      "\u001b[1mAbrasive_Line_Monthly_Part6.xlsx\u001b[0m :->\n",
      "# of Facts are  29 \t\t # of columns are  30\n",
      "\u001b[1mAPCWW_Line_Monthly_Part1.xlsx\u001b[0m :->\n",
      "# of Facts are  57 \t\t # of columns are  30\n",
      "\u001b[1mAPCWW_Line_Monthly_Part2.xlsx\u001b[0m :->\n",
      "# of Facts are  57 \t\t # of columns are  30\n",
      "\u001b[1mAPCWW_Line_Monthly_Part3.xlsx\u001b[0m :->\n",
      "# of Facts are  57 \t\t # of columns are  30\n",
      "\u001b[1mAPCWW_Line_Monthly_Part4.xlsx\u001b[0m :->\n",
      "# of Facts are  57 \t\t # of columns are  30\n",
      "\u001b[1mAPCWW_Line_Monthly_Part5.xlsx\u001b[0m :->\n",
      "# of Facts are  20 \t\t # of columns are  30\n",
      "\u001b[1mBar_Line_Monthly_Part1.xlsx\u001b[0m :->\n",
      "# of Facts are  57 \t\t # of columns are  30\n",
      "\u001b[1mBar_Line_Monthly_Part2.xlsx\u001b[0m :->\n",
      "# of Facts are  57 \t\t # of columns are  30\n",
      "\u001b[1mBar_Line_Monthly_Part3.xlsx\u001b[0m :->\n",
      "# of Facts are  57 \t\t # of columns are  30\n",
      "\u001b[1mBar_Line_Monthly_Part4.xlsx\u001b[0m :->\n",
      "# of Facts are  57 \t\t # of columns are  30\n",
      "\u001b[1mBar_Line_Monthly_Part5.xlsx\u001b[0m :->\n",
      "# of Facts are  20 \t\t # of columns are  30\n",
      "\u001b[1mBar_Line_Monthly_Part6.xlsx\u001b[0m :->\n",
      "# of Facts are  39 \t\t # of columns are  30\n",
      "\u001b[1mBattHyb_Line_Monthly_Part1.xlsx\u001b[0m :->\n",
      "# of Facts are  57 \t\t # of columns are  30\n",
      "\u001b[1mBattHyb_Line_Monthly_Part2.xlsx\u001b[0m :->\n",
      "# of Facts are  57 \t\t # of columns are  30\n",
      "\u001b[1mBattHyb_Line_Monthly_Part3.xlsx\u001b[0m :->\n",
      "# of Facts are  57 \t\t # of columns are  30\n",
      "\u001b[1mBattHyb_Line_Monthly_Part4.xlsx\u001b[0m :->\n",
      "# of Facts are  57 \t\t # of columns are  30\n",
      "\u001b[1mBattHyb_line_Monthly_Part6.xlsx\u001b[0m :->\n",
      "# of Facts are  36 \t\t # of columns are  30\n",
      "\u001b[1mBeads_Line_Monthly_Part1.xlsx\u001b[0m :->\n",
      "# of Facts are  57 \t\t # of columns are  17\n",
      "\u001b[1mBeads_Line_Monthly_Part2.xlsx\u001b[0m :->\n",
      "# of Facts are  57 \t\t # of columns are  17\n",
      "\u001b[1mBeads_Line_Monthly_Part3.xlsx\u001b[0m :->\n",
      "# of Facts are  57 \t\t # of columns are  17\n",
      "\u001b[1mBeads_Line_Monthly_Part4.xlsx\u001b[0m :->\n",
      "# of Facts are  57 \t\t # of columns are  17\n",
      "\u001b[1mBeads_Line_Monthly_Part5.xlsx\u001b[0m :->\n",
      "# of Facts are  20 \t\t # of columns are  17\n",
      "\u001b[1mBeads_Line_Monthly_Part6.xlsx\u001b[0m :->\n",
      "# of Facts are  37 \t\t # of columns are  17\n",
      "\u001b[1mBW_Line_Monthly_Part1.xlsx\u001b[0m :->\n",
      "# of Facts are  57 \t\t # of columns are  30\n",
      "\u001b[1mBW_Line_Monthly_Part2.xlsx\u001b[0m :->\n",
      "# of Facts are  57 \t\t # of columns are  30\n",
      "\u001b[1mBW_Line_Monthly_Part3.xlsx\u001b[0m :->\n",
      "# of Facts are  57 \t\t # of columns are  30\n",
      "\u001b[1mBW_Line_Monthly_Part4.xlsx\u001b[0m :->\n",
      "# of Facts are  57 \t\t # of columns are  30\n",
      "\u001b[1mBW_Line_Monthly_Part5.xlsx\u001b[0m :->\n",
      "# of Facts are  20 \t\t # of columns are  30\n",
      "\u001b[1mBW_Line_Monthly_Part61.xlsx\u001b[0m :->\n",
      "# of Facts are  39 \t\t # of columns are  30\n",
      "\u001b[1mBW_Line_Monthly_Part62.xlsx\u001b[0m :->\n",
      "# of Facts are  39 \t\t # of columns are  30\n",
      "\u001b[1mBW_Line_Monthly_Part7.xlsx\u001b[0m :->\n",
      "# of Facts are  96 \t\t # of columns are  30\n",
      "\u001b[1mLDL_Line_Monthly_Part1_Total.xlsx\u001b[0m :->\n",
      "# of Facts are  57 \t\t # of columns are  30\n",
      "\u001b[1mLDL_Line_Monthly_Part2_Total.xlsx\u001b[0m :->\n",
      "# of Facts are  57 \t\t # of columns are  30\n",
      "\u001b[1mLDL_Line_Monthly_Part3_Total.xlsx\u001b[0m :->\n",
      "# of Facts are  57 \t\t # of columns are  30\n",
      "\u001b[1mLDL_Line_Monthly_Part4_Total.xlsx\u001b[0m :->\n",
      "# of Facts are  57 \t\t # of columns are  30\n",
      "\u001b[1mLDL_Line_Monthly_Part5_Total.xlsx\u001b[0m :->\n",
      "# of Facts are  20 \t\t # of columns are  30\n",
      "\u001b[1mLDL_Line_Monthly_Part6.xlsx\u001b[0m :->\n",
      "# of Facts are  36 \t\t # of columns are  30\n",
      "\u001b[1mLHS_Line_Monthly_Exec_Part1.xlsx\u001b[0m :->\n",
      "# of Facts are  57 \t\t # of columns are  30\n",
      "\u001b[1mLHS_Line_Monthly_Exec_Part2.xlsx\u001b[0m :->\n",
      "# of Facts are  57 \t\t # of columns are  30\n",
      "\u001b[1mLHS_Line_Monthly_Exec_Part3.xlsx\u001b[0m :->\n",
      "# of Facts are  57 \t\t # of columns are  30\n",
      "\u001b[1mLHS_Line_Monthly_Exec_Part4.xlsx\u001b[0m :->\n",
      "# of Facts are  57 \t\t # of columns are  30\n",
      "\u001b[1mLHS_Line_Monthly_Exec_Part5.xlsx\u001b[0m :->\n",
      "# of Facts are  20 \t\t # of columns are  30\n",
      "\u001b[1mLiqFS_Line_Monthly_Part1.xlsx\u001b[0m :->\n",
      "# of Facts are  57 \t\t # of columns are  30\n",
      "\u001b[1mLiqFS_Line_Monthly_Part2.xlsx\u001b[0m :->\n",
      "# of Facts are  57 \t\t # of columns are  30\n",
      "\u001b[1mLiqFS_Line_Monthly_Part3.xlsx\u001b[0m :->\n",
      "# of Facts are  57 \t\t # of columns are  30\n",
      "\u001b[1mLiqFS_Line_Monthly_Part4.xlsx\u001b[0m :->\n",
      "# of Facts are  57 \t\t # of columns are  30\n",
      "\u001b[1mLiqFS_Line_Monthly_Part5.xlsx\u001b[0m :->\n",
      "# of Facts are  20 \t\t # of columns are  30\n",
      "\u001b[1mLiqFS_Line_Monthly_Part6.xlsx\u001b[0m :->\n",
      "# of Facts are  37 \t\t # of columns are  30\n",
      "\u001b[1mLiqFS_Line_Monthly_Part7.xlsx\u001b[0m :->\n",
      "# of Facts are  93 \t\t # of columns are  30\n",
      "\u001b[1mMTB_Line_Monthly_Part1.xlsx\u001b[0m :->\n",
      "# of Facts are  57 \t\t # of columns are  30\n",
      "\u001b[1mMTB_Line_Monthly_Part2.xlsx\u001b[0m :->\n",
      "# of Facts are  57 \t\t # of columns are  30\n",
      "\u001b[1mMTB_Line_Monthly_Part3.xlsx\u001b[0m :->\n",
      "# of Facts are  57 \t\t # of columns are  30\n",
      "\u001b[1mMTB_Line_Monthly_Part4.xlsx\u001b[0m :->\n",
      "# of Facts are  57 \t\t # of columns are  30\n",
      "\u001b[1mMTB_Line_Monthly_Part5.xlsx\u001b[0m :->\n",
      "# of Facts are  20 \t\t # of columns are  30\n",
      "\u001b[1mMTB_line_Monthly_Part6.xlsx\u001b[0m :->\n",
      "# of Facts are  43 \t\t # of columns are  30\n",
      "\u001b[1mMW_Line_Monthly_Part1.xlsx\u001b[0m :->\n",
      "# of Facts are  57 \t\t # of columns are  30\n",
      "\u001b[1mMW_Line_Monthly_Part2.xlsx\u001b[0m :->\n",
      "# of Facts are  57 \t\t # of columns are  30\n",
      "\u001b[1mMW_Line_Monthly_Part3_11.21AM_IST_March12th2021.xlsx\u001b[0m :->\n",
      "# of Facts are  57 \t\t # of columns are  30\n",
      "\u001b[1mMW_Line_Monthly_Part4.xlsx\u001b[0m :->\n",
      "# of Facts are  57 \t\t # of columns are  30\n",
      "\u001b[1mMW_Line_Monthly_Part5.xlsx\u001b[0m :->\n",
      "# of Facts are  20 \t\t # of columns are  30\n",
      "\u001b[1mMW_Line_Monthly_Part61.xlsx\u001b[0m :->\n",
      "# of Facts are  34 \t\t # of columns are  30\n",
      "\u001b[1mMW_Line_Monthly_Part62.xlsx\u001b[0m :->\n",
      "# of Facts are  34 \t\t # of columns are  30\n",
      "\u001b[1mPortable_Line_Monthly_Part5.xlsx\u001b[0m :->\n",
      "# of Facts are  20 \t\t # of columns are  30\n",
      "\u001b[1mPour_Line_Monthly_Part1.xlsx\u001b[0m :->\n",
      "# of Facts are  57 \t\t # of columns are  30\n",
      "\u001b[1mPour_Line_Monthly_Part2.xlsx\u001b[0m :->\n",
      "# of Facts are  57 \t\t # of columns are  30\n",
      "\u001b[1mPour_Line_Monthly_Part3.xlsx\u001b[0m :->\n",
      "# of Facts are  57 \t\t # of columns are  30\n",
      "\u001b[1mPour_Line_Monthly_Part4.xlsx\u001b[0m :->\n",
      "# of Facts are  57 \t\t # of columns are  30\n",
      "\u001b[1mPour_Line_Monthly_Part5.xlsx\u001b[0m :->\n",
      "# of Facts are  20 \t\t # of columns are  30\n",
      "\u001b[1mPour_Line_Monthly_Part6.xlsx\u001b[0m :->\n",
      "# of Facts are  36 \t\t # of columns are  30\n",
      "\u001b[1mPower_Line_Monthly_Part1.xlsx\u001b[0m :->\n",
      "# of Facts are  57 \t\t # of columns are  30\n",
      "\u001b[1mPower_Line_Monthly_Part2.xlsx\u001b[0m :->\n",
      "# of Facts are  57 \t\t # of columns are  30\n",
      "\u001b[1mPower_Line_Monthly_Part3.xlsx\u001b[0m :->\n",
      "# of Facts are  57 \t\t # of columns are  30\n",
      "\u001b[1mPower_Line_Monthly_Part4.xlsx\u001b[0m :->\n",
      "# of Facts are  57 \t\t # of columns are  30\n",
      "\u001b[1mPower_Line_Monthly_Part5.xlsx\u001b[0m :->\n",
      "# of Facts are  20 \t\t # of columns are  30\n",
      "\u001b[1mPower_line_Monthly_Part6.xlsx\u001b[0m :->\n",
      "# of Facts are  43 \t\t # of columns are  30\n",
      "\u001b[1mScentB_Line_Monthly_Part1.xlsx\u001b[0m :->\n",
      "# of Facts are  57 \t\t # of columns are  30\n",
      "\u001b[1mScentB_Line_Monthly_Part2.xlsx\u001b[0m :->\n",
      "# of Facts are  57 \t\t # of columns are  30\n",
      "\u001b[1mScentB_Line_Monthly_Part3.xlsx\u001b[0m :->\n",
      "# of Facts are  57 \t\t # of columns are  30\n",
      "\u001b[1mScentB_Line_Monthly_Part4.xlsx\u001b[0m :->\n",
      "# of Facts are  57 \t\t # of columns are  30\n",
      "\u001b[1mScentB_Line_Monthly_Part5.xlsx\u001b[0m :->\n",
      "# of Facts are  16 \t\t # of columns are  30\n",
      "\u001b[1mScentB_Line_Monthly_Part6.xlsx\u001b[0m :->\n",
      "# of Facts are  19 \t\t # of columns are  30\n",
      "\u001b[1mSheets_Line_Monthly_Part1.xlsx\u001b[0m :->\n",
      "# of Facts are  57 \t\t # of columns are  30\n",
      "\u001b[1mSheets_Line_Monthly_Part2.xlsx\u001b[0m :->\n",
      "# of Facts are  57 \t\t # of columns are  30\n",
      "\u001b[1mSheets_Line_Monthly_Part3.xlsx\u001b[0m :->\n",
      "# of Facts are  57 \t\t # of columns are  30\n",
      "\u001b[1mSheets_Line_Monthly_Part4.xlsx\u001b[0m :->\n",
      "# of Facts are  57 \t\t # of columns are  30\n",
      "\u001b[1mSheets_Line_Monthly_Part5.xlsx\u001b[0m :->\n",
      "# of Facts are  16 \t\t # of columns are  30\n",
      "\u001b[1mSheets_Line_Monthly_Part6.xlsx\u001b[0m :->\n",
      "# of Facts are  37 \t\t # of columns are  30\n",
      "\u001b[1mSheets_Line_Monthly_Part7.xlsx\u001b[0m :->\n",
      "# of Facts are  93 \t\t # of columns are  30\n",
      "\u001b[1mToothpaste_Line_Monthly_Part1.xlsx\u001b[0m :->\n",
      "# of Facts are  57 \t\t # of columns are  30\n",
      "\u001b[1mToothpaste_Line_Monthly_Part2.xlsx\u001b[0m :->\n",
      "# of Facts are  57 \t\t # of columns are  30\n",
      "\u001b[1mToothpaste_Line_Monthly_Part3.xlsx\u001b[0m :->\n",
      "# of Facts are  57 \t\t # of columns are  30\n"
     ]
    },
    {
     "name": "stdout",
     "output_type": "stream",
     "text": [
      "\u001b[1mToothpaste_Line_Monthly_Part4.xlsx\u001b[0m :->\n",
      "# of Facts are  57 \t\t # of columns are  30\n",
      "\u001b[1mToothpaste_Line_Monthly_Part5.xlsx\u001b[0m :->\n",
      "# of Facts are  20 \t\t # of columns are  30\n",
      "\u001b[1mToothpaste_Line_Monthly_Part61.xlsx\u001b[0m :->\n",
      "# of Facts are  36 \t\t # of columns are  30\n",
      "\u001b[1mToothpaste_Line_Monthly_Part62.xlsx\u001b[0m :->\n",
      "# of Facts are  36 \t\t # of columns are  30\n",
      "\u001b[1mTotalFS_Line_Monthly_Part1.xlsx\u001b[0m :->\n",
      "# of Facts are  57 \t\t # of columns are  30\n",
      "\u001b[1mTotalFS_Line_Monthly_Part2.xlsx\u001b[0m :->\n",
      "# of Facts are  57 \t\t # of columns are  30\n",
      "\u001b[1mTotalFS_Line_Monthly_Part3.xlsx\u001b[0m :->\n",
      "# of Facts are  57 \t\t # of columns are  30\n",
      "\u001b[1mTotalFS_Line_Monthly_Part4.xlsx\u001b[0m :->\n",
      "# of Facts are  57 \t\t # of columns are  30\n",
      "\u001b[1mTotalFS_Line_Monthly_Part5.xlsx\u001b[0m :->\n",
      "# of Facts are  20 \t\t # of columns are  30\n",
      "\u001b[1mTotalFS_Line_Monthly_Part6.xlsx\u001b[0m :->\n",
      "# of Facts are  36 \t\t # of columns are  30\n",
      "\u001b[1mTotalFS_Line_Monthly_Part7.xlsx\u001b[0m :->\n",
      "# of Facts are  55 \t\t # of columns are  30\n",
      "\u001b[1mWood_Line_Monthly_Part1.xlsx\u001b[0m :->\n",
      "# of Facts are  57 \t\t # of columns are  30\n",
      "\u001b[1mWood_Line_Monthly_Part2.xlsx\u001b[0m :->\n",
      "# of Facts are  57 \t\t # of columns are  30\n",
      "\u001b[1mWood_Line_Monthly_Part3.xlsx\u001b[0m :->\n",
      "# of Facts are  57 \t\t # of columns are  30\n",
      "\u001b[1mWood_Line_Monthly_Part4.xlsx\u001b[0m :->\n",
      "# of Facts are  57 \t\t # of columns are  30\n",
      "\u001b[1mWood_Line_Monthly_Part5.xlsx\u001b[0m :->\n",
      "# of Facts are  20 \t\t # of columns are  30\n",
      "\u001b[1mWood_Line_Monthly_Part6.xlsx\u001b[0m :->\n",
      "# of Facts are  36 \t\t # of columns are  30\n",
      "execution time is  2016.9245824813843\n"
     ]
    }
   ],
   "source": [
    "time_start= time.time()\n",
    "\n",
    "Line_Monthly= pd.DataFrame()\n",
    "\n",
    "j=0\n",
    "for f in files_xls:\n",
    "    \n",
    "    data = pd.read_excel(path+\"/\"+f)\n",
    "    print(\"\\033[1m\" + files_xls[j] + \"\\033[0m\",\":->\\n# of Facts are \",len(set(data[\"Periods\"])),\"\\t\\t # of columns are \",len(data.columns))  \n",
    "    Line_Monthly = pd.concat([Line_Monthly,data],axis=0,ignore_index=True)\n",
    "    j=j+1\n",
    "    \n",
    "time_end= time.time();\n",
    "\n",
    "print(\"execution time is \", time_end-time_start)"
   ]
  },
  {
   "cell_type": "code",
   "execution_count": 7,
   "metadata": {},
   "outputs": [
    {
     "data": {
      "text/plain": [
       "(2823237, 30)"
      ]
     },
     "execution_count": 7,
     "metadata": {},
     "output_type": "execute_result"
    }
   ],
   "source": [
    "Line_Monthly.shape"
   ]
  },
  {
   "cell_type": "code",
   "execution_count": 8,
   "metadata": {},
   "outputs": [
    {
     "data": {
      "text/plain": [
       "{'ALBSCO Total Company TA',\n",
       " 'Ahold USA Corp Total TA',\n",
       " 'BJs Total TA',\n",
       " 'CLUB',\n",
       " 'CVS Total Corp WO HI TA',\n",
       " 'Dol Gen Total TA',\n",
       " 'El Super Total TA',\n",
       " 'FDM',\n",
       " 'Family Dollar Total TA',\n",
       " 'Fiesta Total TA',\n",
       " 'Giant Eagle Total TA',\n",
       " 'Kmart Total TA',\n",
       " 'Meijer Total TA',\n",
       " 'Publix Total TA',\n",
       " 'REGIONAL GROCERY xLA',\n",
       " 'RG xLA & MILITARY',\n",
       " 'Rite Aid - Corp Total TA',\n",
       " \"Sam's Total TA\",\n",
       " 'ShopRite Total TA',\n",
       " 'Strategic Grocery',\n",
       " 'TOTAL MASS',\n",
       " 'Target Total BM/FF TA',\n",
       " 'Total US Drug',\n",
       " 'Total US Food',\n",
       " 'Total US xAOC',\n",
       " 'VDC',\n",
       " 'Walgreens Corp Total TA',\n",
       " 'Walgreens Total TA',\n",
       " 'Walmart Total US TA',\n",
       " 'Wegmans Total TA'}"
      ]
     },
     "execution_count": 8,
     "metadata": {},
     "output_type": "execute_result"
    }
   ],
   "source": [
    "set(Line_Monthly[\"Markets\"])"
   ]
  },
  {
   "cell_type": "markdown",
   "metadata": {},
   "source": [
    "**Replacing Facts names** (Here column \"Periods\" denotes the fact column)"
   ]
  },
  {
   "cell_type": "code",
   "execution_count": 9,
   "metadata": {
    "scrolled": true
   },
   "outputs": [
    {
     "data": {
      "text/plain": [
       "{'$',\n",
       " '$ % Chg YA',\n",
       " '$ / $MM ACV',\n",
       " '$ / $MM ACV % Chg YA',\n",
       " '$ / $MM ACV Chg YA',\n",
       " '$ Chg YA',\n",
       " '$ Shr - CP BATTERY AND HYBRID',\n",
       " '$ Shr - CP CATEGORY',\n",
       " '$ Shr - CP FORM',\n",
       " '$ Shr - CP MEGA CATEGORY',\n",
       " '$ Shr - CP USE',\n",
       " '$ Shr Chg YA - CP BATTERY AND HYBRID',\n",
       " '$ Shr Chg YA - CP CATEGORY',\n",
       " '$ Shr Chg YA - CP FORM',\n",
       " '$ Shr Chg YA - CP MEGA CATEGORY',\n",
       " '$ Shr Chg YA - CP USE',\n",
       " '$ YA',\n",
       " '% $ Any Promo',\n",
       " '% $ Any Promo Chg YA',\n",
       " '% EQ Any Promo',\n",
       " '% EQ Any Promo Chg YA',\n",
       " '%ACV',\n",
       " '%ACV Chg YA',\n",
       " 'Any Disp %ACV',\n",
       " 'Any Disp %ACV Chg YA',\n",
       " 'Any Disp %ACV YA',\n",
       " 'Any Feat %ACV',\n",
       " 'Any Feat %ACV Chg YA',\n",
       " 'Any Feat %ACV YA',\n",
       " 'Any Promo $',\n",
       " 'Any Promo $ % Chg YA',\n",
       " 'Any Promo $ Chg YA',\n",
       " 'Any Promo $ Shr - CP BATTERY AND HYBRID',\n",
       " 'Any Promo $ Shr - CP CATEGORY',\n",
       " 'Any Promo $ Shr - CP FORM',\n",
       " 'Any Promo $ Shr - CP MEGA CATEGORY',\n",
       " 'Any Promo $ Shr - CP USE',\n",
       " 'Any Promo $ Shr Chg YA - CP BATTERY AND HYBRID',\n",
       " 'Any Promo $ Shr Chg YA - CP CATEGORY',\n",
       " 'Any Promo $ Shr Chg YA - CP FORM',\n",
       " 'Any Promo $ Shr Chg YA - CP MEGA CATEGORY',\n",
       " 'Any Promo $ Shr Chg YA - CP USE',\n",
       " 'Any Promo %ACV',\n",
       " 'Any Promo %ACV Chg YA',\n",
       " 'Any Promo EQ',\n",
       " 'Any Promo EQ % Chg YA',\n",
       " 'Any Promo EQ Chg YA',\n",
       " 'Any Promo EQ Price',\n",
       " 'Any Promo EQ Price Chg YA',\n",
       " 'Avg # of Items',\n",
       " 'Avg # of Items Chg YA',\n",
       " 'Avg EQ Price',\n",
       " 'Avg EQ Price % Chg YA',\n",
       " 'Avg EQ Price Chg YA',\n",
       " 'Avg EQ Price YA',\n",
       " 'Avg Unit Price',\n",
       " 'Avg Unit Price % Chg YA',\n",
       " 'Avg Unit Price Chg YA',\n",
       " 'Avg Unit Price YA',\n",
       " 'Base $',\n",
       " 'Base $ % Chg YA',\n",
       " 'Base $ Chg YA',\n",
       " 'Base $ Shr - $ - CP BATTERY AND HYBRID',\n",
       " 'Base $ Shr - $ - CP CATEGORY',\n",
       " 'Base $ Shr - $ - CP FORM',\n",
       " 'Base $ Shr - $ - CP MEGA CATEGORY',\n",
       " 'Base $ Shr - $ - CP USE',\n",
       " 'Base $ Shr - CP CATEGORY',\n",
       " 'Base $ Shr - CP FORM',\n",
       " 'Base $ Shr - CP MEGA CATEGORY',\n",
       " 'Base $ Shr - CP USE',\n",
       " 'Base $ Shr Chg YA - $ - CP BATTERY AND HYBRID',\n",
       " 'Base $ Shr Chg YA - $ - CP CATEGORY',\n",
       " 'Base $ Shr Chg YA - $ - CP FORM',\n",
       " 'Base $ Shr Chg YA - $ - CP MEGA CATEGORY',\n",
       " 'Base $ Shr Chg YA - $ - CP USE',\n",
       " 'Base $ Shr Chg YA - CP CATEGORY',\n",
       " 'Base $ Shr Chg YA - CP FORM',\n",
       " 'Base $ Shr Chg YA - CP MEGA CATEGORY',\n",
       " 'Base $ Shr Chg YA - CP USE',\n",
       " 'Base $ YA',\n",
       " 'Base EQ',\n",
       " 'Base EQ % Chg YA',\n",
       " 'Base EQ Chg YA',\n",
       " 'Base EQ Price',\n",
       " 'Base EQ Price % Chg YA',\n",
       " 'Base EQ Price Chg YA',\n",
       " 'Base EQ Shr - CP BATTERY AND HYBRID',\n",
       " 'Base EQ Shr - CP CATEGORY',\n",
       " 'Base EQ Shr - CP FORM',\n",
       " 'Base EQ Shr - CP MEGA CATEGORY',\n",
       " 'Base EQ Shr - CP USE',\n",
       " 'Base EQ Shr Chg YA - CP BATTERY AND HYBRID',\n",
       " 'Base EQ Shr Chg YA - CP CATEGORY',\n",
       " 'Base EQ Shr Chg YA - CP FORM',\n",
       " 'Base EQ Shr Chg YA - CP MEGA CATEGORY',\n",
       " 'Base EQ Shr Chg YA - CP USE',\n",
       " 'Disp w/o Feat $',\n",
       " 'Disp w/o Feat $ % Chg YA',\n",
       " 'Disp w/o Feat $ Chg YA',\n",
       " 'Disp w/o Feat %ACV',\n",
       " 'Disp w/o Feat %ACV Chg YA',\n",
       " 'EQ',\n",
       " 'EQ % Chg YA',\n",
       " 'EQ Chg YA',\n",
       " 'EQ Shr - CP BATTERY AND HYBRID',\n",
       " 'EQ Shr - CP CATEGORY',\n",
       " 'EQ Shr - CP FORM',\n",
       " 'EQ Shr - CP MEGA CATEGORY',\n",
       " 'EQ Shr - CP USE',\n",
       " 'EQ Shr Chg YA - CP BATTERY AND HYBRID',\n",
       " 'EQ Shr Chg YA - CP CATEGORY',\n",
       " 'EQ Shr Chg YA - CP FORM',\n",
       " 'EQ Shr Chg YA - CP MEGA CATEGORY',\n",
       " 'EQ Shr Chg YA - CP USE',\n",
       " 'Feat & Disp $',\n",
       " 'Feat & Disp $ % Chg YA',\n",
       " 'Feat & Disp $ Chg YA',\n",
       " 'Feat & Disp %ACV',\n",
       " 'Feat & Disp %ACV Chg YA',\n",
       " 'Feat & Disp %ACV YA',\n",
       " 'Feat or Disp %ACV',\n",
       " 'Feat or Disp %ACV Chg YA',\n",
       " 'Feat w/o Disp $',\n",
       " 'Feat w/o Disp $ % Chg YA',\n",
       " 'Feat w/o Disp $ Chg YA',\n",
       " 'Feat w/o Disp %ACV',\n",
       " 'Feat w/o Disp %ACV Chg YA',\n",
       " 'Incr $',\n",
       " 'Incr $ % Chg YA',\n",
       " 'Incr $ Chg YA',\n",
       " 'Incr $ Shr - $ - CP BATTERY AND HYBRID',\n",
       " 'Incr $ Shr - $ - CP CATEGORY',\n",
       " 'Incr $ Shr - $ - CP FORM',\n",
       " 'Incr $ Shr - $ - CP MEGA CATEGORY',\n",
       " 'Incr $ Shr - $ - CP USE',\n",
       " 'Incr $ Shr - CP CATEGORY',\n",
       " 'Incr $ Shr - CP FORM',\n",
       " 'Incr $ Shr - CP MEGA CATEGORY',\n",
       " 'Incr $ Shr - CP USE',\n",
       " 'Incr $ Shr Chg YA - $ - CP BATTERY AND HYBRID',\n",
       " 'Incr $ Shr Chg YA - $ - CP CATEGORY',\n",
       " 'Incr $ Shr Chg YA - $ - CP FORM',\n",
       " 'Incr $ Shr Chg YA - $ - CP MEGA CATEGORY',\n",
       " 'Incr $ Shr Chg YA - $ - CP USE',\n",
       " 'Incr $ Shr Chg YA - CP CATEGORY',\n",
       " 'Incr $ Shr Chg YA - CP FORM',\n",
       " 'Incr $ Shr Chg YA - CP MEGA CATEGORY',\n",
       " 'Incr $ Shr Chg YA - CP USE',\n",
       " 'Incr $ YA',\n",
       " 'Incr EQ',\n",
       " 'Incr EQ % Chg YA',\n",
       " 'Incr EQ Chg YA',\n",
       " 'Incr EQ Shr - CP BATTERY AND HYBRID',\n",
       " 'Incr EQ Shr - CP CATEGORY',\n",
       " 'Incr EQ Shr - CP FORM',\n",
       " 'Incr EQ Shr - CP MEGA CATEGORY',\n",
       " 'Incr EQ Shr - CP USE',\n",
       " 'Incr EQ Shr Chg YA - CP BATTERY AND HYBRID',\n",
       " 'Incr EQ Shr Chg YA - CP CATEGORY',\n",
       " 'Incr EQ Shr Chg YA - CP FORM',\n",
       " 'Incr EQ Shr Chg YA - CP MEGA CATEGORY',\n",
       " 'Incr EQ Shr Chg YA - CP USE',\n",
       " 'No Promo Incr $',\n",
       " 'No Promo Incr $ % Chg YA',\n",
       " 'No Promo Incr $ Chg YA',\n",
       " 'Price Decr Only $',\n",
       " 'Price Decr Only $ % Chg YA',\n",
       " 'Price Decr Only $ Chg YA',\n",
       " 'Price Decr Only %ACV',\n",
       " 'Price Decr Only %ACV Chg YA',\n",
       " 'TDP',\n",
       " 'TDP % Chg YA',\n",
       " 'TDP Chg YA',\n",
       " 'Units',\n",
       " 'Units % Chg YA',\n",
       " 'Units / $MM ACV',\n",
       " 'Units / $MM ACV % Chg YA',\n",
       " 'Units / $MM ACV Chg YA',\n",
       " 'Units Chg YA'}"
      ]
     },
     "execution_count": 9,
     "metadata": {},
     "output_type": "execute_result"
    }
   ],
   "source": [
    "set(Line_Monthly[\"Periods\"])"
   ]
  },
  {
   "cell_type": "code",
   "execution_count": 10,
   "metadata": {},
   "outputs": [],
   "source": [
    "Line_Monthly[\"Periods\"]=Line_Monthly[\"Periods\"].str.replace(\"$\",\"temp\")\n",
    "Line_Monthly[\"Periods\"]=Line_Monthly[\"Periods\"].str.replace(\"- temp -\",\"-\")\n",
    "Line_Monthly[\"Periods\"]=Line_Monthly[\"Periods\"].str.replace(\"temp\",\"$\")\n",
    "\n",
    "\n",
    "Line_Monthly[\"Periods\"]=Line_Monthly[\"Periods\"].str.replace(\"CP FORM\",\"CP CATEGORY\")\n",
    "Line_Monthly[\"Periods\"]=Line_Monthly[\"Periods\"].str.replace(\"CP USE\",\"CP CATEGORY\")\n",
    "Line_Monthly[\"Periods\"]=Line_Monthly[\"Periods\"].str.replace(\"CP LDL AND FOAM\",\"CP CATEGORY\")\n",
    "\n",
    "Line_Monthly[\"Periods\"]=Line_Monthly[\"Periods\"].str.replace(\"CP LDL AND FM X DISHAIDS/WPS/SPR\",\"CP CATEGORY\")\n",
    "\n",
    "Line_Monthly[\"Periods\"]=Line_Monthly[\"Periods\"].str.replace(\"CP MEGA CATEGORY\",\"CP CATEGORY\")\n",
    "Line_Monthly[\"Periods\"]=Line_Monthly[\"Periods\"].str.replace(\"CP BATTERY AND HYBRID\",\"CP CATEGORY\")\n",
    "\n",
    "\n",
    "# Line_Monthly[\"Periods\"]=Line_Monthly[\"Periods\"].str.replace(\"Base $ Shr Chg YA - $ - CP CATEGORY\",\"Base $ Shr Chg YA - CP CATEGORY\")\n",
    "# Line_Monthly[\"Periods\"]=Line_Monthly[\"Periods\"].str.replace(\"Incr $ Shr Chg YA - $ - CP CATEGORY\",\"Incr $ Shr Chg YA - CP CATEGORY\")\n",
    "\n",
    "# Line_Monthly[\"Periods\"]=Line_Monthly[\"Periods\"].str.replace(\"Base $ Shr - $ - CP CATEGORY\",\"Base $ Shr - CP CATEGORY\")\n",
    "# Line_Monthly[\"Periods\"]=Line_Monthly[\"Periods\"].str.replace(\"Incr $ Shr - $ - CP CATEGORY\",\"Incr $ Shr - CP CATEGORY\")\n",
    "\n",
    "# Market name replaced\n",
    "Line_Monthly[\"Markets\"]=Line_Monthly[\"Markets\"].str.replace(\"Walgreens Corp Total TA\",\"Walgreens Total TA\")"
   ]
  },
  {
   "cell_type": "code",
   "execution_count": 11,
   "metadata": {
    "scrolled": true
   },
   "outputs": [
    {
     "data": {
      "text/plain": [
       "{'$',\n",
       " '$ % Chg YA',\n",
       " '$ / $MM ACV',\n",
       " '$ / $MM ACV % Chg YA',\n",
       " '$ / $MM ACV Chg YA',\n",
       " '$ Chg YA',\n",
       " '$ Shr - CP CATEGORY',\n",
       " '$ Shr Chg YA - CP CATEGORY',\n",
       " '$ YA',\n",
       " '% $ Any Promo',\n",
       " '% $ Any Promo Chg YA',\n",
       " '% EQ Any Promo',\n",
       " '% EQ Any Promo Chg YA',\n",
       " '%ACV',\n",
       " '%ACV Chg YA',\n",
       " 'Any Disp %ACV',\n",
       " 'Any Disp %ACV Chg YA',\n",
       " 'Any Disp %ACV YA',\n",
       " 'Any Feat %ACV',\n",
       " 'Any Feat %ACV Chg YA',\n",
       " 'Any Feat %ACV YA',\n",
       " 'Any Promo $',\n",
       " 'Any Promo $ % Chg YA',\n",
       " 'Any Promo $ Chg YA',\n",
       " 'Any Promo $ Shr - CP CATEGORY',\n",
       " 'Any Promo $ Shr Chg YA - CP CATEGORY',\n",
       " 'Any Promo %ACV',\n",
       " 'Any Promo %ACV Chg YA',\n",
       " 'Any Promo EQ',\n",
       " 'Any Promo EQ % Chg YA',\n",
       " 'Any Promo EQ Chg YA',\n",
       " 'Any Promo EQ Price',\n",
       " 'Any Promo EQ Price Chg YA',\n",
       " 'Avg # of Items',\n",
       " 'Avg # of Items Chg YA',\n",
       " 'Avg EQ Price',\n",
       " 'Avg EQ Price % Chg YA',\n",
       " 'Avg EQ Price Chg YA',\n",
       " 'Avg EQ Price YA',\n",
       " 'Avg Unit Price',\n",
       " 'Avg Unit Price % Chg YA',\n",
       " 'Avg Unit Price Chg YA',\n",
       " 'Avg Unit Price YA',\n",
       " 'Base $',\n",
       " 'Base $ % Chg YA',\n",
       " 'Base $ Chg YA',\n",
       " 'Base $ Shr - CP CATEGORY',\n",
       " 'Base $ Shr Chg YA - CP CATEGORY',\n",
       " 'Base $ YA',\n",
       " 'Base EQ',\n",
       " 'Base EQ % Chg YA',\n",
       " 'Base EQ Chg YA',\n",
       " 'Base EQ Price',\n",
       " 'Base EQ Price % Chg YA',\n",
       " 'Base EQ Price Chg YA',\n",
       " 'Base EQ Shr - CP CATEGORY',\n",
       " 'Base EQ Shr Chg YA - CP CATEGORY',\n",
       " 'Disp w/o Feat $',\n",
       " 'Disp w/o Feat $ % Chg YA',\n",
       " 'Disp w/o Feat $ Chg YA',\n",
       " 'Disp w/o Feat %ACV',\n",
       " 'Disp w/o Feat %ACV Chg YA',\n",
       " 'EQ',\n",
       " 'EQ % Chg YA',\n",
       " 'EQ Chg YA',\n",
       " 'EQ Shr - CP CATEGORY',\n",
       " 'EQ Shr Chg YA - CP CATEGORY',\n",
       " 'Feat & Disp $',\n",
       " 'Feat & Disp $ % Chg YA',\n",
       " 'Feat & Disp $ Chg YA',\n",
       " 'Feat & Disp %ACV',\n",
       " 'Feat & Disp %ACV Chg YA',\n",
       " 'Feat & Disp %ACV YA',\n",
       " 'Feat or Disp %ACV',\n",
       " 'Feat or Disp %ACV Chg YA',\n",
       " 'Feat w/o Disp $',\n",
       " 'Feat w/o Disp $ % Chg YA',\n",
       " 'Feat w/o Disp $ Chg YA',\n",
       " 'Feat w/o Disp %ACV',\n",
       " 'Feat w/o Disp %ACV Chg YA',\n",
       " 'Incr $',\n",
       " 'Incr $ % Chg YA',\n",
       " 'Incr $ Chg YA',\n",
       " 'Incr $ Shr - CP CATEGORY',\n",
       " 'Incr $ Shr Chg YA - CP CATEGORY',\n",
       " 'Incr $ YA',\n",
       " 'Incr EQ',\n",
       " 'Incr EQ % Chg YA',\n",
       " 'Incr EQ Chg YA',\n",
       " 'Incr EQ Shr - CP CATEGORY',\n",
       " 'Incr EQ Shr Chg YA - CP CATEGORY',\n",
       " 'No Promo Incr $',\n",
       " 'No Promo Incr $ % Chg YA',\n",
       " 'No Promo Incr $ Chg YA',\n",
       " 'Price Decr Only $',\n",
       " 'Price Decr Only $ % Chg YA',\n",
       " 'Price Decr Only $ Chg YA',\n",
       " 'Price Decr Only %ACV',\n",
       " 'Price Decr Only %ACV Chg YA',\n",
       " 'TDP',\n",
       " 'TDP % Chg YA',\n",
       " 'TDP Chg YA',\n",
       " 'Units',\n",
       " 'Units % Chg YA',\n",
       " 'Units / $MM ACV',\n",
       " 'Units / $MM ACV % Chg YA',\n",
       " 'Units / $MM ACV Chg YA',\n",
       " 'Units Chg YA'}"
      ]
     },
     "execution_count": 11,
     "metadata": {},
     "output_type": "execute_result"
    }
   ],
   "source": [
    "set(Line_Monthly[\"Periods\"])"
   ]
  },
  {
   "cell_type": "markdown",
   "metadata": {},
   "source": [
    "**Removing unwanted characters from all the column names** and store them in a list ***new_col_names***"
   ]
  },
  {
   "cell_type": "code",
   "execution_count": 12,
   "metadata": {},
   "outputs": [],
   "source": [
    "new_col_names=[]\n",
    "for i in Line_Monthly.columns:\n",
    "    x=len(i)\n",
    "    if x<=17:\n",
    "        new_col_names.append(i)\n",
    "    elif i[:3]=='YTD':\n",
    "        new_col_names.append(i[:-16].strip('- '))\n",
    "    else:\n",
    "        new_col_names.append(i[:-14].strip('- '))\n",
    "        "
   ]
  },
  {
   "cell_type": "markdown",
   "metadata": {},
   "source": [
    "**Checking the duplicacte column in** ***Line_Monthly***"
   ]
  },
  {
   "cell_type": "code",
   "execution_count": 13,
   "metadata": {},
   "outputs": [],
   "source": [
    "if(len(new_col_names)!=len(set(new_col_names))):\n",
    "    print(\"\\033[1;31m\"+\"*******************************ERROR*******************************\\n\\t\\t\\tWe have duplicate columns\\n\\t\\t\\tPlease recheck raw data files\\n*******************************ERROR*******************************\")"
   ]
  },
  {
   "cell_type": "markdown",
   "metadata": {},
   "source": [
    "Renaming the column names of ***Line_Monthly***"
   ]
  },
  {
   "cell_type": "code",
   "execution_count": 14,
   "metadata": {},
   "outputs": [],
   "source": [
    "# Line_Monthly.rename(columns=dict(zip(Line_Monthly.columns,new_col_names)),inplace=True)\n",
    "Line_Monthly.columns=new_col_names"
   ]
  },
  {
   "cell_type": "code",
   "execution_count": 15,
   "metadata": {},
   "outputs": [
    {
     "data": {
      "text/plain": [
       "Index(['Markets', 'Products', 'Periods', 'Jan 20', 'Feb 20', 'Mar 20',\n",
       "       'Apr 20', 'May 20', 'Jun 20', 'Jul 20', 'Aug 20', 'Sep 20', 'Oct 20',\n",
       "       'Nov 20', 'Dec 20', 'Jan 21', 'Feb 21', 'YTD', 'YTD YA',\n",
       "       'Latest 13 Wks', 'Latest 26 Wks', 'Cal Yr 2020', 'Cal Yr 2019',\n",
       "       'Cal Yr 2018', 'Cal Yr 2017', 'JFM 20', 'AMJ 20', 'JAS 20', 'OND 20',\n",
       "       'JFM 21'],\n",
       "      dtype='object')"
      ]
     },
     "execution_count": 15,
     "metadata": {},
     "output_type": "execute_result"
    }
   ],
   "source": [
    "Line_Monthly.columns"
   ]
  },
  {
   "cell_type": "markdown",
   "metadata": {},
   "source": [
    "**Adding Missing Quater**\n"
   ]
  },
  {
   "cell_type": "code",
   "execution_count": 16,
   "metadata": {},
   "outputs": [
    {
     "name": "stdout",
     "output_type": "stream",
     "text": [
      "3\n",
      "19\n"
     ]
    }
   ],
   "source": [
    "# GETTING 20 DAYS BEFORE MONTHS AND YEAR VALUES\n",
    "now=datetime.datetime.now()\n",
    "delay= datetime.timedelta(days=20)\n",
    "a= now - delay\n",
    "month_number=a.month\n",
    "year=str(a.year-2)[-2:]\n",
    "print(month_number)\n",
    "print(year)"
   ]
  },
  {
   "cell_type": "code",
   "execution_count": 17,
   "metadata": {},
   "outputs": [],
   "source": [
    "if( month_number >= 1 & month_number <= 3):\n",
    "    Line_Monthly['AMJ '+year]=\"\"\n",
    "    Line_Monthly['JAS '+year]=\"\"\n",
    "    Line_Monthly['OND '+year]=\"\"\n",
    "elif ( month_number >= 4 & month_number <= 6 ):\n",
    "    Line_Monthly['JAS '+year]=\"\"\n",
    "    Line_Monthly['OND '+year]=\"\"\n",
    "elif ( month_number >= 7 & month_number <= 9  ):\n",
    "    Line_Monthly['OND '+year]=\"\""
   ]
  },
  {
   "cell_type": "markdown",
   "metadata": {},
   "source": [
    "**Time period mapping**\n",
    "\n",
    "**Manual Step**\n",
    "\n",
    "This mapping needs to be changed every year when new year data comes"
   ]
  },
  {
   "cell_type": "code",
   "execution_count": 18,
   "metadata": {},
   "outputs": [],
   "source": [
    "# time_period_map_2020= pd.DataFrame({'Connect Time Period':['Markets', 'Products', 'Periods','Cal Yr 2020','Cal Yr 2019','Cal Yr 2018','Cal Yr 2017','YTD','YTD YA','Latest 13 Wks','Latest 26 Wks','OND 20','JAS 20','AMJ 20','JFM 20','OND 19','JAS 19','AMJ 19','JFM 19','Dec 20','Nov 20','Oct 20','Sep 20','Aug 20','Jul 20','Jun 20','May 20','Apr 20','Mar 20','Feb 20','Jan 20','Dec 19','Nov 19','Oct 19','Sep 19','Aug 19','Jul 19','Jun 19','May 19','Apr 19','Mar 19','Feb 19','Jan 19'],\n",
    "#                                'Final Name':['Markets', 'Products', 'Periods','FY 2020','FY 2019','FY 2018','FY 2017','YTD 2020','YTD 2019','Latest 13 Weeks','Latest 26 Weeks','Q4 2020','Q3 2020','Q2 2020','Q1 2020','Q4 2019','Q3 2019','Q2 2019','Q1 2019','Dec 20','Nov 20','Oct 20','Sep 20','Aug 20','Jul 20','Jun 20','May 20','Apr 20','Mar 20','Feb 20','Jan 20','Dec 19','Nov 19','Oct 19','Sep 19','Aug 19','Jul 19','Jun 19','May 19','Apr 19','Mar 19','Feb 19','Jan 19']\n",
    "#                               ,'Order':range(1,44)})"
   ]
  },
  {
   "cell_type": "code",
   "execution_count": 19,
   "metadata": {},
   "outputs": [],
   "source": [
    "time_period_map= pd.DataFrame({'Connect Time Period':['Markets', 'Products', 'Periods','Cal Yr 2020','Cal Yr 2019','Cal Yr 2018','Cal Yr 2017','YTD','YTD YA','Latest 13 Wks','Latest 26 Wks','OND 21','JAS 21','AMJ 21','JFM 21','OND 20','JAS 20','AMJ 20','JFM 20','OND 19','JAS 19','AMJ 19','Dec 21','Nov 21','Oct 21','Sep 21','Aug 21','Jul 21','Jun 21','May 21','Apr 21','Mar 21','Feb 21','Jan 21','Dec 20','Nov 20','Oct 20','Sep 20','Aug 20','Jul 20','Jun 20','May 20','Apr 20','Mar 20','Feb 20','Jan 20'],\n",
    "                               'Final Name':['Markets', 'Products', 'Periods','FY 2020','FY 2019','FY 2018','FY 2017','YTD 2021','YTD 2020','Latest 13 Weeks','Latest 26 Weeks','Q4 2021','Q3 2021','Q2 2021','Q1 2021','Q4 2020','Q3 2020','Q2 2020','Q1 2020','Q4 2019','Q3 2019','Q2 2019','Dec 21','Nov 21','Oct 21','Sep 21','Aug 21','Jul 21','Jun 21','May 21','Apr 21','Mar 21','Feb 21','Jan 21','Dec 20','Nov 20','Oct 20','Sep 20','Aug 20','Jul 20','Jun 20','May 20','Apr 20','Mar 20','Feb 20','Jan 20']\n",
    "                              ,'Order':range(1,47)})"
   ]
  },
  {
   "cell_type": "code",
   "execution_count": 20,
   "metadata": {
    "scrolled": false
   },
   "outputs": [
    {
     "data": {
      "text/html": [
       "<div>\n",
       "<style scoped>\n",
       "    .dataframe tbody tr th:only-of-type {\n",
       "        vertical-align: middle;\n",
       "    }\n",
       "\n",
       "    .dataframe tbody tr th {\n",
       "        vertical-align: top;\n",
       "    }\n",
       "\n",
       "    .dataframe thead th {\n",
       "        text-align: right;\n",
       "    }\n",
       "</style>\n",
       "<table border=\"1\" class=\"dataframe\">\n",
       "  <thead>\n",
       "    <tr style=\"text-align: right;\">\n",
       "      <th></th>\n",
       "      <th>Connect Time Period</th>\n",
       "      <th>Final Name</th>\n",
       "      <th>Order</th>\n",
       "    </tr>\n",
       "  </thead>\n",
       "  <tbody>\n",
       "    <tr>\n",
       "      <th>0</th>\n",
       "      <td>Markets</td>\n",
       "      <td>Markets</td>\n",
       "      <td>1</td>\n",
       "    </tr>\n",
       "    <tr>\n",
       "      <th>1</th>\n",
       "      <td>Products</td>\n",
       "      <td>Products</td>\n",
       "      <td>2</td>\n",
       "    </tr>\n",
       "    <tr>\n",
       "      <th>2</th>\n",
       "      <td>Periods</td>\n",
       "      <td>Periods</td>\n",
       "      <td>3</td>\n",
       "    </tr>\n",
       "    <tr>\n",
       "      <th>3</th>\n",
       "      <td>Cal Yr 2020</td>\n",
       "      <td>FY 2020</td>\n",
       "      <td>4</td>\n",
       "    </tr>\n",
       "    <tr>\n",
       "      <th>4</th>\n",
       "      <td>Cal Yr 2019</td>\n",
       "      <td>FY 2019</td>\n",
       "      <td>5</td>\n",
       "    </tr>\n",
       "    <tr>\n",
       "      <th>5</th>\n",
       "      <td>Cal Yr 2018</td>\n",
       "      <td>FY 2018</td>\n",
       "      <td>6</td>\n",
       "    </tr>\n",
       "    <tr>\n",
       "      <th>6</th>\n",
       "      <td>Cal Yr 2017</td>\n",
       "      <td>FY 2017</td>\n",
       "      <td>7</td>\n",
       "    </tr>\n",
       "    <tr>\n",
       "      <th>7</th>\n",
       "      <td>YTD</td>\n",
       "      <td>YTD 2021</td>\n",
       "      <td>8</td>\n",
       "    </tr>\n",
       "    <tr>\n",
       "      <th>8</th>\n",
       "      <td>YTD YA</td>\n",
       "      <td>YTD 2020</td>\n",
       "      <td>9</td>\n",
       "    </tr>\n",
       "    <tr>\n",
       "      <th>9</th>\n",
       "      <td>Latest 13 Wks</td>\n",
       "      <td>Latest 13 Weeks</td>\n",
       "      <td>10</td>\n",
       "    </tr>\n",
       "    <tr>\n",
       "      <th>10</th>\n",
       "      <td>Latest 26 Wks</td>\n",
       "      <td>Latest 26 Weeks</td>\n",
       "      <td>11</td>\n",
       "    </tr>\n",
       "    <tr>\n",
       "      <th>11</th>\n",
       "      <td>OND 21</td>\n",
       "      <td>Q4 2021</td>\n",
       "      <td>12</td>\n",
       "    </tr>\n",
       "    <tr>\n",
       "      <th>12</th>\n",
       "      <td>JAS 21</td>\n",
       "      <td>Q3 2021</td>\n",
       "      <td>13</td>\n",
       "    </tr>\n",
       "    <tr>\n",
       "      <th>13</th>\n",
       "      <td>AMJ 21</td>\n",
       "      <td>Q2 2021</td>\n",
       "      <td>14</td>\n",
       "    </tr>\n",
       "    <tr>\n",
       "      <th>14</th>\n",
       "      <td>JFM 21</td>\n",
       "      <td>Q1 2021</td>\n",
       "      <td>15</td>\n",
       "    </tr>\n",
       "    <tr>\n",
       "      <th>15</th>\n",
       "      <td>OND 20</td>\n",
       "      <td>Q4 2020</td>\n",
       "      <td>16</td>\n",
       "    </tr>\n",
       "    <tr>\n",
       "      <th>16</th>\n",
       "      <td>JAS 20</td>\n",
       "      <td>Q3 2020</td>\n",
       "      <td>17</td>\n",
       "    </tr>\n",
       "    <tr>\n",
       "      <th>17</th>\n",
       "      <td>AMJ 20</td>\n",
       "      <td>Q2 2020</td>\n",
       "      <td>18</td>\n",
       "    </tr>\n",
       "    <tr>\n",
       "      <th>18</th>\n",
       "      <td>JFM 20</td>\n",
       "      <td>Q1 2020</td>\n",
       "      <td>19</td>\n",
       "    </tr>\n",
       "    <tr>\n",
       "      <th>19</th>\n",
       "      <td>OND 19</td>\n",
       "      <td>Q4 2019</td>\n",
       "      <td>20</td>\n",
       "    </tr>\n",
       "    <tr>\n",
       "      <th>20</th>\n",
       "      <td>JAS 19</td>\n",
       "      <td>Q3 2019</td>\n",
       "      <td>21</td>\n",
       "    </tr>\n",
       "    <tr>\n",
       "      <th>21</th>\n",
       "      <td>AMJ 19</td>\n",
       "      <td>Q2 2019</td>\n",
       "      <td>22</td>\n",
       "    </tr>\n",
       "    <tr>\n",
       "      <th>22</th>\n",
       "      <td>Dec 21</td>\n",
       "      <td>Dec 21</td>\n",
       "      <td>23</td>\n",
       "    </tr>\n",
       "    <tr>\n",
       "      <th>23</th>\n",
       "      <td>Nov 21</td>\n",
       "      <td>Nov 21</td>\n",
       "      <td>24</td>\n",
       "    </tr>\n",
       "    <tr>\n",
       "      <th>24</th>\n",
       "      <td>Oct 21</td>\n",
       "      <td>Oct 21</td>\n",
       "      <td>25</td>\n",
       "    </tr>\n",
       "    <tr>\n",
       "      <th>25</th>\n",
       "      <td>Sep 21</td>\n",
       "      <td>Sep 21</td>\n",
       "      <td>26</td>\n",
       "    </tr>\n",
       "    <tr>\n",
       "      <th>26</th>\n",
       "      <td>Aug 21</td>\n",
       "      <td>Aug 21</td>\n",
       "      <td>27</td>\n",
       "    </tr>\n",
       "    <tr>\n",
       "      <th>27</th>\n",
       "      <td>Jul 21</td>\n",
       "      <td>Jul 21</td>\n",
       "      <td>28</td>\n",
       "    </tr>\n",
       "    <tr>\n",
       "      <th>28</th>\n",
       "      <td>Jun 21</td>\n",
       "      <td>Jun 21</td>\n",
       "      <td>29</td>\n",
       "    </tr>\n",
       "    <tr>\n",
       "      <th>29</th>\n",
       "      <td>May 21</td>\n",
       "      <td>May 21</td>\n",
       "      <td>30</td>\n",
       "    </tr>\n",
       "    <tr>\n",
       "      <th>30</th>\n",
       "      <td>Apr 21</td>\n",
       "      <td>Apr 21</td>\n",
       "      <td>31</td>\n",
       "    </tr>\n",
       "    <tr>\n",
       "      <th>31</th>\n",
       "      <td>Mar 21</td>\n",
       "      <td>Mar 21</td>\n",
       "      <td>32</td>\n",
       "    </tr>\n",
       "    <tr>\n",
       "      <th>32</th>\n",
       "      <td>Feb 21</td>\n",
       "      <td>Feb 21</td>\n",
       "      <td>33</td>\n",
       "    </tr>\n",
       "    <tr>\n",
       "      <th>33</th>\n",
       "      <td>Jan 21</td>\n",
       "      <td>Jan 21</td>\n",
       "      <td>34</td>\n",
       "    </tr>\n",
       "    <tr>\n",
       "      <th>34</th>\n",
       "      <td>Dec 20</td>\n",
       "      <td>Dec 20</td>\n",
       "      <td>35</td>\n",
       "    </tr>\n",
       "    <tr>\n",
       "      <th>35</th>\n",
       "      <td>Nov 20</td>\n",
       "      <td>Nov 20</td>\n",
       "      <td>36</td>\n",
       "    </tr>\n",
       "    <tr>\n",
       "      <th>36</th>\n",
       "      <td>Oct 20</td>\n",
       "      <td>Oct 20</td>\n",
       "      <td>37</td>\n",
       "    </tr>\n",
       "    <tr>\n",
       "      <th>37</th>\n",
       "      <td>Sep 20</td>\n",
       "      <td>Sep 20</td>\n",
       "      <td>38</td>\n",
       "    </tr>\n",
       "    <tr>\n",
       "      <th>38</th>\n",
       "      <td>Aug 20</td>\n",
       "      <td>Aug 20</td>\n",
       "      <td>39</td>\n",
       "    </tr>\n",
       "    <tr>\n",
       "      <th>39</th>\n",
       "      <td>Jul 20</td>\n",
       "      <td>Jul 20</td>\n",
       "      <td>40</td>\n",
       "    </tr>\n",
       "    <tr>\n",
       "      <th>40</th>\n",
       "      <td>Jun 20</td>\n",
       "      <td>Jun 20</td>\n",
       "      <td>41</td>\n",
       "    </tr>\n",
       "    <tr>\n",
       "      <th>41</th>\n",
       "      <td>May 20</td>\n",
       "      <td>May 20</td>\n",
       "      <td>42</td>\n",
       "    </tr>\n",
       "    <tr>\n",
       "      <th>42</th>\n",
       "      <td>Apr 20</td>\n",
       "      <td>Apr 20</td>\n",
       "      <td>43</td>\n",
       "    </tr>\n",
       "    <tr>\n",
       "      <th>43</th>\n",
       "      <td>Mar 20</td>\n",
       "      <td>Mar 20</td>\n",
       "      <td>44</td>\n",
       "    </tr>\n",
       "    <tr>\n",
       "      <th>44</th>\n",
       "      <td>Feb 20</td>\n",
       "      <td>Feb 20</td>\n",
       "      <td>45</td>\n",
       "    </tr>\n",
       "    <tr>\n",
       "      <th>45</th>\n",
       "      <td>Jan 20</td>\n",
       "      <td>Jan 20</td>\n",
       "      <td>46</td>\n",
       "    </tr>\n",
       "  </tbody>\n",
       "</table>\n",
       "</div>"
      ],
      "text/plain": [
       "   Connect Time Period       Final Name  Order\n",
       "0              Markets          Markets      1\n",
       "1             Products         Products      2\n",
       "2              Periods          Periods      3\n",
       "3          Cal Yr 2020          FY 2020      4\n",
       "4          Cal Yr 2019          FY 2019      5\n",
       "5          Cal Yr 2018          FY 2018      6\n",
       "6          Cal Yr 2017          FY 2017      7\n",
       "7                  YTD         YTD 2021      8\n",
       "8               YTD YA         YTD 2020      9\n",
       "9        Latest 13 Wks  Latest 13 Weeks     10\n",
       "10       Latest 26 Wks  Latest 26 Weeks     11\n",
       "11              OND 21          Q4 2021     12\n",
       "12              JAS 21          Q3 2021     13\n",
       "13              AMJ 21          Q2 2021     14\n",
       "14              JFM 21          Q1 2021     15\n",
       "15              OND 20          Q4 2020     16\n",
       "16              JAS 20          Q3 2020     17\n",
       "17              AMJ 20          Q2 2020     18\n",
       "18              JFM 20          Q1 2020     19\n",
       "19              OND 19          Q4 2019     20\n",
       "20              JAS 19          Q3 2019     21\n",
       "21              AMJ 19          Q2 2019     22\n",
       "22              Dec 21           Dec 21     23\n",
       "23              Nov 21           Nov 21     24\n",
       "24              Oct 21           Oct 21     25\n",
       "25              Sep 21           Sep 21     26\n",
       "26              Aug 21           Aug 21     27\n",
       "27              Jul 21           Jul 21     28\n",
       "28              Jun 21           Jun 21     29\n",
       "29              May 21           May 21     30\n",
       "30              Apr 21           Apr 21     31\n",
       "31              Mar 21           Mar 21     32\n",
       "32              Feb 21           Feb 21     33\n",
       "33              Jan 21           Jan 21     34\n",
       "34              Dec 20           Dec 20     35\n",
       "35              Nov 20           Nov 20     36\n",
       "36              Oct 20           Oct 20     37\n",
       "37              Sep 20           Sep 20     38\n",
       "38              Aug 20           Aug 20     39\n",
       "39              Jul 20           Jul 20     40\n",
       "40              Jun 20           Jun 20     41\n",
       "41              May 20           May 20     42\n",
       "42              Apr 20           Apr 20     43\n",
       "43              Mar 20           Mar 20     44\n",
       "44              Feb 20           Feb 20     45\n",
       "45              Jan 20           Jan 20     46"
      ]
     },
     "execution_count": 20,
     "metadata": {},
     "output_type": "execute_result"
    }
   ],
   "source": [
    "time_period_map.head(50)"
   ]
  },
  {
   "cell_type": "markdown",
   "metadata": {},
   "source": [
    "We need to **change column names** of ***Line_Monthly*** and **reorder** them based on the time_period_mapping"
   ]
  },
  {
   "cell_type": "code",
   "execution_count": 21,
   "metadata": {},
   "outputs": [],
   "source": [
    "# assigning variables\n",
    "LM_column= list(Line_Monthly.columns)\n",
    "time_connect=list(time_period_map[\"Connect Time Period\"])\n",
    "time_final=list(time_period_map[\"Final Name\"])"
   ]
  },
  {
   "cell_type": "code",
   "execution_count": 22,
   "metadata": {},
   "outputs": [],
   "source": [
    "# changing column names based on time_period_mapping\n",
    "new_column=[]\n",
    "for i in range(0,len(LM_column)):\n",
    "    for j in range(0,len(time_connect)):\n",
    "        if LM_column[i]==time_connect[j]:\n",
    "            new_column.append(time_final[j])\n",
    "        "
   ]
  },
  {
   "cell_type": "code",
   "execution_count": 23,
   "metadata": {},
   "outputs": [
    {
     "name": "stdout",
     "output_type": "stream",
     "text": [
      "['Markets', 'Products', 'Periods', 'Jan 20', 'Feb 20', 'Mar 20', 'Apr 20', 'May 20', 'Jun 20', 'Jul 20', 'Aug 20', 'Sep 20', 'Oct 20', 'Nov 20', 'Dec 20', 'Jan 21', 'Feb 21', 'YTD 2021', 'YTD 2020', 'Latest 13 Weeks', 'Latest 26 Weeks', 'FY 2020', 'FY 2019', 'FY 2018', 'FY 2017', 'Q1 2020', 'Q2 2020', 'Q3 2020', 'Q4 2020', 'Q1 2021', 'Q2 2019', 'Q3 2019', 'Q4 2019']\n"
     ]
    }
   ],
   "source": [
    "print(new_column)"
   ]
  },
  {
   "cell_type": "code",
   "execution_count": 24,
   "metadata": {},
   "outputs": [
    {
     "name": "stdout",
     "output_type": "stream",
     "text": [
      "33 33\n"
     ]
    }
   ],
   "source": [
    "print(len(new_column),len(Line_Monthly.columns))"
   ]
  },
  {
   "cell_type": "code",
   "execution_count": 25,
   "metadata": {},
   "outputs": [],
   "source": [
    "#assigning new column names\n",
    "Line_Monthly.columns = new_column"
   ]
  },
  {
   "cell_type": "code",
   "execution_count": 26,
   "metadata": {},
   "outputs": [],
   "source": [
    "# reordering column names\n",
    "my_list =time_period_map.iloc[:, 1]\n",
    "my_list1=Line_Monthly.columns\n",
    "result = [x for x in my_list if x in my_list1]\n",
    "Line_Monthly=Line_Monthly[result]"
   ]
  },
  {
   "cell_type": "code",
   "execution_count": 27,
   "metadata": {},
   "outputs": [
    {
     "data": {
      "text/plain": [
       "Index(['Markets', 'Products', 'Periods', 'FY 2020', 'FY 2019', 'FY 2018',\n",
       "       'FY 2017', 'YTD 2021', 'YTD 2020', 'Latest 13 Weeks', 'Latest 26 Weeks',\n",
       "       'Q1 2021', 'Q4 2020', 'Q3 2020', 'Q2 2020', 'Q1 2020', 'Q4 2019',\n",
       "       'Q3 2019', 'Q2 2019', 'Feb 21', 'Jan 21', 'Dec 20', 'Nov 20', 'Oct 20',\n",
       "       'Sep 20', 'Aug 20', 'Jul 20', 'Jun 20', 'May 20', 'Apr 20', 'Mar 20',\n",
       "       'Feb 20', 'Jan 20'],\n",
       "      dtype='object')"
      ]
     },
     "execution_count": 27,
     "metadata": {},
     "output_type": "execute_result"
    }
   ],
   "source": [
    "Line_Monthly.columns"
   ]
  },
  {
   "cell_type": "code",
   "execution_count": 28,
   "metadata": {
    "scrolled": true
   },
   "outputs": [
    {
     "data": {
      "text/html": [
       "<div>\n",
       "<style scoped>\n",
       "    .dataframe tbody tr th:only-of-type {\n",
       "        vertical-align: middle;\n",
       "    }\n",
       "\n",
       "    .dataframe tbody tr th {\n",
       "        vertical-align: top;\n",
       "    }\n",
       "\n",
       "    .dataframe thead th {\n",
       "        text-align: right;\n",
       "    }\n",
       "</style>\n",
       "<table border=\"1\" class=\"dataframe\">\n",
       "  <thead>\n",
       "    <tr style=\"text-align: right;\">\n",
       "      <th></th>\n",
       "      <th>Markets</th>\n",
       "      <th>Products</th>\n",
       "      <th>Periods</th>\n",
       "      <th>FY 2020</th>\n",
       "      <th>FY 2019</th>\n",
       "      <th>FY 2018</th>\n",
       "      <th>FY 2017</th>\n",
       "      <th>YTD 2021</th>\n",
       "      <th>YTD 2020</th>\n",
       "      <th>Latest 13 Weeks</th>\n",
       "      <th>...</th>\n",
       "      <th>Oct 20</th>\n",
       "      <th>Sep 20</th>\n",
       "      <th>Aug 20</th>\n",
       "      <th>Jul 20</th>\n",
       "      <th>Jun 20</th>\n",
       "      <th>May 20</th>\n",
       "      <th>Apr 20</th>\n",
       "      <th>Mar 20</th>\n",
       "      <th>Feb 20</th>\n",
       "      <th>Jan 20</th>\n",
       "    </tr>\n",
       "  </thead>\n",
       "  <tbody>\n",
       "    <tr>\n",
       "      <th>0</th>\n",
       "      <td>Total US xAOC</td>\n",
       "      <td>ABRASIVE</td>\n",
       "      <td>% $ Any Promo</td>\n",
       "      <td>6.852</td>\n",
       "      <td>9.885</td>\n",
       "      <td>10.409</td>\n",
       "      <td>9.715</td>\n",
       "      <td>15.582</td>\n",
       "      <td>9.690</td>\n",
       "      <td>11.922</td>\n",
       "      <td>...</td>\n",
       "      <td>5.572</td>\n",
       "      <td>5.684</td>\n",
       "      <td>5.237</td>\n",
       "      <td>5.397</td>\n",
       "      <td>4.521</td>\n",
       "      <td>5.375</td>\n",
       "      <td>6.757</td>\n",
       "      <td>11.126</td>\n",
       "      <td>8.262</td>\n",
       "      <td>11.107</td>\n",
       "    </tr>\n",
       "    <tr>\n",
       "      <th>1</th>\n",
       "      <td>Total US xAOC</td>\n",
       "      <td>ABRASIVE</td>\n",
       "      <td>% $ Any Promo Chg YA</td>\n",
       "      <td>-3.033</td>\n",
       "      <td>-0.524</td>\n",
       "      <td>0.694</td>\n",
       "      <td>9.715</td>\n",
       "      <td>5.892</td>\n",
       "      <td>1.349</td>\n",
       "      <td>1.656</td>\n",
       "      <td>...</td>\n",
       "      <td>-3.446</td>\n",
       "      <td>-1.867</td>\n",
       "      <td>-3.987</td>\n",
       "      <td>-1.106</td>\n",
       "      <td>-5.830</td>\n",
       "      <td>-5.742</td>\n",
       "      <td>-4.454</td>\n",
       "      <td>-2.334</td>\n",
       "      <td>-0.137</td>\n",
       "      <td>2.827</td>\n",
       "    </tr>\n",
       "    <tr>\n",
       "      <th>2</th>\n",
       "      <td>Total US xAOC</td>\n",
       "      <td>ABRASIVE</td>\n",
       "      <td>% EQ Any Promo</td>\n",
       "      <td>7.001</td>\n",
       "      <td>10.203</td>\n",
       "      <td>10.539</td>\n",
       "      <td>9.832</td>\n",
       "      <td>16.528</td>\n",
       "      <td>12.653</td>\n",
       "      <td>11.941</td>\n",
       "      <td>...</td>\n",
       "      <td>4.613</td>\n",
       "      <td>5.203</td>\n",
       "      <td>4.318</td>\n",
       "      <td>6.266</td>\n",
       "      <td>4.726</td>\n",
       "      <td>5.051</td>\n",
       "      <td>5.970</td>\n",
       "      <td>11.970</td>\n",
       "      <td>10.971</td>\n",
       "      <td>14.294</td>\n",
       "    </tr>\n",
       "  </tbody>\n",
       "</table>\n",
       "<p>3 rows × 33 columns</p>\n",
       "</div>"
      ],
      "text/plain": [
       "         Markets  Products               Periods  FY 2020  FY 2019  FY 2018  \\\n",
       "0  Total US xAOC  ABRASIVE         % $ Any Promo    6.852    9.885   10.409   \n",
       "1  Total US xAOC  ABRASIVE  % $ Any Promo Chg YA   -3.033   -0.524    0.694   \n",
       "2  Total US xAOC  ABRASIVE        % EQ Any Promo    7.001   10.203   10.539   \n",
       "\n",
       "   FY 2017  YTD 2021  YTD 2020  Latest 13 Weeks  ...  Oct 20  Sep 20  Aug 20  \\\n",
       "0    9.715    15.582     9.690           11.922  ...   5.572   5.684   5.237   \n",
       "1    9.715     5.892     1.349            1.656  ...  -3.446  -1.867  -3.987   \n",
       "2    9.832    16.528    12.653           11.941  ...   4.613   5.203   4.318   \n",
       "\n",
       "   Jul 20  Jun 20  May 20 Apr 20  Mar 20  Feb 20  Jan 20  \n",
       "0   5.397   4.521   5.375  6.757  11.126   8.262  11.107  \n",
       "1  -1.106  -5.830  -5.742 -4.454  -2.334  -0.137   2.827  \n",
       "2   6.266   4.726   5.051  5.970  11.970  10.971  14.294  \n",
       "\n",
       "[3 rows x 33 columns]"
      ]
     },
     "execution_count": 28,
     "metadata": {},
     "output_type": "execute_result"
    }
   ],
   "source": [
    "Line_Monthly.head(3)"
   ]
  },
  {
   "cell_type": "markdown",
   "metadata": {},
   "source": [
    "**Line_Monthly_5p**"
   ]
  },
  {
   "cell_type": "code",
   "execution_count": 29,
   "metadata": {},
   "outputs": [],
   "source": [
    "Data_5p=Line_Monthly.copy()"
   ]
  },
  {
   "cell_type": "code",
   "execution_count": 30,
   "metadata": {},
   "outputs": [],
   "source": [
    "Data_5p.rename(columns={\"Periods\":\"Facts\"},inplace=True)"
   ]
  },
  {
   "cell_type": "code",
   "execution_count": 31,
   "metadata": {
    "scrolled": true
   },
   "outputs": [
    {
     "data": {
      "text/html": [
       "<div>\n",
       "<style scoped>\n",
       "    .dataframe tbody tr th:only-of-type {\n",
       "        vertical-align: middle;\n",
       "    }\n",
       "\n",
       "    .dataframe tbody tr th {\n",
       "        vertical-align: top;\n",
       "    }\n",
       "\n",
       "    .dataframe thead th {\n",
       "        text-align: right;\n",
       "    }\n",
       "</style>\n",
       "<table border=\"1\" class=\"dataframe\">\n",
       "  <thead>\n",
       "    <tr style=\"text-align: right;\">\n",
       "      <th></th>\n",
       "      <th>Markets</th>\n",
       "      <th>Products</th>\n",
       "      <th>Facts</th>\n",
       "      <th>FY 2020</th>\n",
       "      <th>FY 2019</th>\n",
       "      <th>FY 2018</th>\n",
       "      <th>FY 2017</th>\n",
       "      <th>YTD 2021</th>\n",
       "      <th>YTD 2020</th>\n",
       "      <th>Latest 13 Weeks</th>\n",
       "      <th>...</th>\n",
       "      <th>Oct 20</th>\n",
       "      <th>Sep 20</th>\n",
       "      <th>Aug 20</th>\n",
       "      <th>Jul 20</th>\n",
       "      <th>Jun 20</th>\n",
       "      <th>May 20</th>\n",
       "      <th>Apr 20</th>\n",
       "      <th>Mar 20</th>\n",
       "      <th>Feb 20</th>\n",
       "      <th>Jan 20</th>\n",
       "    </tr>\n",
       "  </thead>\n",
       "  <tbody>\n",
       "    <tr>\n",
       "      <th>0</th>\n",
       "      <td>Total US xAOC</td>\n",
       "      <td>ABRASIVE</td>\n",
       "      <td>% $ Any Promo</td>\n",
       "      <td>6.852</td>\n",
       "      <td>9.885</td>\n",
       "      <td>10.409</td>\n",
       "      <td>9.715</td>\n",
       "      <td>15.582</td>\n",
       "      <td>9.690</td>\n",
       "      <td>11.922</td>\n",
       "      <td>...</td>\n",
       "      <td>5.572</td>\n",
       "      <td>5.684</td>\n",
       "      <td>5.237</td>\n",
       "      <td>5.397</td>\n",
       "      <td>4.521</td>\n",
       "      <td>5.375</td>\n",
       "      <td>6.757</td>\n",
       "      <td>11.126</td>\n",
       "      <td>8.262</td>\n",
       "      <td>11.107</td>\n",
       "    </tr>\n",
       "    <tr>\n",
       "      <th>1</th>\n",
       "      <td>Total US xAOC</td>\n",
       "      <td>ABRASIVE</td>\n",
       "      <td>% $ Any Promo Chg YA</td>\n",
       "      <td>-3.033</td>\n",
       "      <td>-0.524</td>\n",
       "      <td>0.694</td>\n",
       "      <td>9.715</td>\n",
       "      <td>5.892</td>\n",
       "      <td>1.349</td>\n",
       "      <td>1.656</td>\n",
       "      <td>...</td>\n",
       "      <td>-3.446</td>\n",
       "      <td>-1.867</td>\n",
       "      <td>-3.987</td>\n",
       "      <td>-1.106</td>\n",
       "      <td>-5.830</td>\n",
       "      <td>-5.742</td>\n",
       "      <td>-4.454</td>\n",
       "      <td>-2.334</td>\n",
       "      <td>-0.137</td>\n",
       "      <td>2.827</td>\n",
       "    </tr>\n",
       "    <tr>\n",
       "      <th>2</th>\n",
       "      <td>Total US xAOC</td>\n",
       "      <td>ABRASIVE</td>\n",
       "      <td>% EQ Any Promo</td>\n",
       "      <td>7.001</td>\n",
       "      <td>10.203</td>\n",
       "      <td>10.539</td>\n",
       "      <td>9.832</td>\n",
       "      <td>16.528</td>\n",
       "      <td>12.653</td>\n",
       "      <td>11.941</td>\n",
       "      <td>...</td>\n",
       "      <td>4.613</td>\n",
       "      <td>5.203</td>\n",
       "      <td>4.318</td>\n",
       "      <td>6.266</td>\n",
       "      <td>4.726</td>\n",
       "      <td>5.051</td>\n",
       "      <td>5.970</td>\n",
       "      <td>11.970</td>\n",
       "      <td>10.971</td>\n",
       "      <td>14.294</td>\n",
       "    </tr>\n",
       "  </tbody>\n",
       "</table>\n",
       "<p>3 rows × 33 columns</p>\n",
       "</div>"
      ],
      "text/plain": [
       "         Markets  Products                 Facts  FY 2020  FY 2019  FY 2018  \\\n",
       "0  Total US xAOC  ABRASIVE         % $ Any Promo    6.852    9.885   10.409   \n",
       "1  Total US xAOC  ABRASIVE  % $ Any Promo Chg YA   -3.033   -0.524    0.694   \n",
       "2  Total US xAOC  ABRASIVE        % EQ Any Promo    7.001   10.203   10.539   \n",
       "\n",
       "   FY 2017  YTD 2021  YTD 2020  Latest 13 Weeks  ...  Oct 20  Sep 20  Aug 20  \\\n",
       "0    9.715    15.582     9.690           11.922  ...   5.572   5.684   5.237   \n",
       "1    9.715     5.892     1.349            1.656  ...  -3.446  -1.867  -3.987   \n",
       "2    9.832    16.528    12.653           11.941  ...   4.613   5.203   4.318   \n",
       "\n",
       "   Jul 20  Jun 20  May 20 Apr 20  Mar 20  Feb 20  Jan 20  \n",
       "0   5.397   4.521   5.375  6.757  11.126   8.262  11.107  \n",
       "1  -1.106  -5.830  -5.742 -4.454  -2.334  -0.137   2.827  \n",
       "2   6.266   4.726   5.051  5.970  11.970  10.971  14.294  \n",
       "\n",
       "[3 rows x 33 columns]"
      ]
     },
     "execution_count": 31,
     "metadata": {},
     "output_type": "execute_result"
    }
   ],
   "source": [
    "Data_5p.head(3)"
   ]
  },
  {
   "cell_type": "markdown",
   "metadata": {},
   "source": [
    "**Filter Condition**\n",
    "\n",
    "Taking only those products whose **Latest Month Dollar Share** is **greater than 0.02** for all the markets"
   ]
  },
  {
   "cell_type": "code",
   "execution_count": 32,
   "metadata": {},
   "outputs": [],
   "source": [
    "Data_5p.iloc[:,3:]= Data_5p.iloc[:,3:].apply(pd.to_numeric)"
   ]
  },
  {
   "cell_type": "code",
   "execution_count": 33,
   "metadata": {},
   "outputs": [
    {
     "name": "stdout",
     "output_type": "stream",
     "text": [
      "<class 'pandas.core.frame.DataFrame'>\n",
      "RangeIndex: 2823237 entries, 0 to 2823236\n",
      "Data columns (total 33 columns):\n",
      " #   Column           Dtype  \n",
      "---  ------           -----  \n",
      " 0   Markets          object \n",
      " 1   Products         object \n",
      " 2   Facts            object \n",
      " 3   FY 2020          float64\n",
      " 4   FY 2019          float64\n",
      " 5   FY 2018          float64\n",
      " 6   FY 2017          float64\n",
      " 7   YTD 2021         float64\n",
      " 8   YTD 2020         float64\n",
      " 9   Latest 13 Weeks  float64\n",
      " 10  Latest 26 Weeks  float64\n",
      " 11  Q1 2021          float64\n",
      " 12  Q4 2020          float64\n",
      " 13  Q3 2020          float64\n",
      " 14  Q2 2020          float64\n",
      " 15  Q1 2020          float64\n",
      " 16  Q4 2019          float64\n",
      " 17  Q3 2019          float64\n",
      " 18  Q2 2019          float64\n",
      " 19  Feb 21           float64\n",
      " 20  Jan 21           float64\n",
      " 21  Dec 20           float64\n",
      " 22  Nov 20           float64\n",
      " 23  Oct 20           float64\n",
      " 24  Sep 20           float64\n",
      " 25  Aug 20           float64\n",
      " 26  Jul 20           float64\n",
      " 27  Jun 20           float64\n",
      " 28  May 20           float64\n",
      " 29  Apr 20           float64\n",
      " 30  Mar 20           float64\n",
      " 31  Feb 20           float64\n",
      " 32  Jan 20           float64\n",
      "dtypes: float64(30), object(3)\n",
      "memory usage: 710.8+ MB\n"
     ]
    }
   ],
   "source": [
    "Data_5p.info()"
   ]
  },
  {
   "cell_type": "code",
   "execution_count": 34,
   "metadata": {},
   "outputs": [],
   "source": [
    "#df=Data_5p[(Data_5p['Facts'] == '$ Shr - CP CATEGORY') & (Data_5p.iloc[:,19]>0.02)]"
   ]
  },
  {
   "cell_type": "code",
   "execution_count": 35,
   "metadata": {},
   "outputs": [],
   "source": [
    "df=Data_5p[(Data_5p['Facts'] == '$ Shr - CP CATEGORY') & (Data_5p.iloc[:,19]>0.02)]\n",
    "\n",
    "df[\"Key\"]=df[\"Markets\"]+df[\"Products\"]\n",
    "Data_5p[\"Key\"]=Data_5p[\"Markets\"]+Data_5p[\"Products\"]\n",
    "\n",
    "Data_5p=Data_5p[Data_5p['Key'].isin(list(df[\"Key\"]))]"
   ]
  },
  {
   "cell_type": "code",
   "execution_count": 36,
   "metadata": {
    "scrolled": true
   },
   "outputs": [
    {
     "data": {
      "text/plain": [
       "1873"
      ]
     },
     "execution_count": 36,
     "metadata": {},
     "output_type": "execute_result"
    }
   ],
   "source": [
    "# total number of unique Products \n",
    "len(np.unique(list(df[\"Products\"])))"
   ]
  },
  {
   "cell_type": "code",
   "execution_count": 37,
   "metadata": {},
   "outputs": [
    {
     "data": {
      "text/html": [
       "<div>\n",
       "<style scoped>\n",
       "    .dataframe tbody tr th:only-of-type {\n",
       "        vertical-align: middle;\n",
       "    }\n",
       "\n",
       "    .dataframe tbody tr th {\n",
       "        vertical-align: top;\n",
       "    }\n",
       "\n",
       "    .dataframe thead th {\n",
       "        text-align: right;\n",
       "    }\n",
       "</style>\n",
       "<table border=\"1\" class=\"dataframe\">\n",
       "  <thead>\n",
       "    <tr style=\"text-align: right;\">\n",
       "      <th></th>\n",
       "      <th>Markets</th>\n",
       "      <th>Products</th>\n",
       "      <th>Facts</th>\n",
       "      <th>FY 2020</th>\n",
       "      <th>FY 2019</th>\n",
       "      <th>FY 2018</th>\n",
       "      <th>FY 2017</th>\n",
       "      <th>YTD 2021</th>\n",
       "      <th>YTD 2020</th>\n",
       "      <th>Latest 13 Weeks</th>\n",
       "      <th>...</th>\n",
       "      <th>Sep 20</th>\n",
       "      <th>Aug 20</th>\n",
       "      <th>Jul 20</th>\n",
       "      <th>Jun 20</th>\n",
       "      <th>May 20</th>\n",
       "      <th>Apr 20</th>\n",
       "      <th>Mar 20</th>\n",
       "      <th>Feb 20</th>\n",
       "      <th>Jan 20</th>\n",
       "      <th>Key</th>\n",
       "    </tr>\n",
       "  </thead>\n",
       "  <tbody>\n",
       "    <tr>\n",
       "      <th>0</th>\n",
       "      <td>Total US xAOC</td>\n",
       "      <td>ABRASIVE</td>\n",
       "      <td>% $ Any Promo</td>\n",
       "      <td>6.852</td>\n",
       "      <td>9.885</td>\n",
       "      <td>10.409</td>\n",
       "      <td>9.715</td>\n",
       "      <td>15.582</td>\n",
       "      <td>9.690</td>\n",
       "      <td>11.922</td>\n",
       "      <td>...</td>\n",
       "      <td>5.684</td>\n",
       "      <td>5.237</td>\n",
       "      <td>5.397</td>\n",
       "      <td>4.521</td>\n",
       "      <td>5.375</td>\n",
       "      <td>6.757</td>\n",
       "      <td>11.126</td>\n",
       "      <td>8.262</td>\n",
       "      <td>11.107</td>\n",
       "      <td>Total US xAOCABRASIVE</td>\n",
       "    </tr>\n",
       "    <tr>\n",
       "      <th>1</th>\n",
       "      <td>Total US xAOC</td>\n",
       "      <td>ABRASIVE</td>\n",
       "      <td>% $ Any Promo Chg YA</td>\n",
       "      <td>-3.033</td>\n",
       "      <td>-0.524</td>\n",
       "      <td>0.694</td>\n",
       "      <td>9.715</td>\n",
       "      <td>5.892</td>\n",
       "      <td>1.349</td>\n",
       "      <td>1.656</td>\n",
       "      <td>...</td>\n",
       "      <td>-1.867</td>\n",
       "      <td>-3.987</td>\n",
       "      <td>-1.106</td>\n",
       "      <td>-5.830</td>\n",
       "      <td>-5.742</td>\n",
       "      <td>-4.454</td>\n",
       "      <td>-2.334</td>\n",
       "      <td>-0.137</td>\n",
       "      <td>2.827</td>\n",
       "      <td>Total US xAOCABRASIVE</td>\n",
       "    </tr>\n",
       "    <tr>\n",
       "      <th>2</th>\n",
       "      <td>Total US xAOC</td>\n",
       "      <td>ABRASIVE</td>\n",
       "      <td>% EQ Any Promo</td>\n",
       "      <td>7.001</td>\n",
       "      <td>10.203</td>\n",
       "      <td>10.539</td>\n",
       "      <td>9.832</td>\n",
       "      <td>16.528</td>\n",
       "      <td>12.653</td>\n",
       "      <td>11.941</td>\n",
       "      <td>...</td>\n",
       "      <td>5.203</td>\n",
       "      <td>4.318</td>\n",
       "      <td>6.266</td>\n",
       "      <td>4.726</td>\n",
       "      <td>5.051</td>\n",
       "      <td>5.970</td>\n",
       "      <td>11.970</td>\n",
       "      <td>10.971</td>\n",
       "      <td>14.294</td>\n",
       "      <td>Total US xAOCABRASIVE</td>\n",
       "    </tr>\n",
       "  </tbody>\n",
       "</table>\n",
       "<p>3 rows × 34 columns</p>\n",
       "</div>"
      ],
      "text/plain": [
       "         Markets  Products                 Facts  FY 2020  FY 2019  FY 2018  \\\n",
       "0  Total US xAOC  ABRASIVE         % $ Any Promo    6.852    9.885   10.409   \n",
       "1  Total US xAOC  ABRASIVE  % $ Any Promo Chg YA   -3.033   -0.524    0.694   \n",
       "2  Total US xAOC  ABRASIVE        % EQ Any Promo    7.001   10.203   10.539   \n",
       "\n",
       "   FY 2017  YTD 2021  YTD 2020  Latest 13 Weeks  ...  Sep 20  Aug 20  Jul 20  \\\n",
       "0    9.715    15.582     9.690           11.922  ...   5.684   5.237   5.397   \n",
       "1    9.715     5.892     1.349            1.656  ...  -1.867  -3.987  -1.106   \n",
       "2    9.832    16.528    12.653           11.941  ...   5.203   4.318   6.266   \n",
       "\n",
       "   Jun 20  May 20  Apr 20  Mar 20  Feb 20  Jan 20                    Key  \n",
       "0   4.521   5.375   6.757  11.126   8.262  11.107  Total US xAOCABRASIVE  \n",
       "1  -5.830  -5.742  -4.454  -2.334  -0.137   2.827  Total US xAOCABRASIVE  \n",
       "2   4.726   5.051   5.970  11.970  10.971  14.294  Total US xAOCABRASIVE  \n",
       "\n",
       "[3 rows x 34 columns]"
      ]
     },
     "execution_count": 37,
     "metadata": {},
     "output_type": "execute_result"
    }
   ],
   "source": [
    "Data_5p=Data_5p[Data_5p['Products'].isin(list(df[\"Products\"]))]\n",
    "Data_5p.head(3)"
   ]
  },
  {
   "cell_type": "code",
   "execution_count": 38,
   "metadata": {},
   "outputs": [
    {
     "data": {
      "text/plain": [
       "1873"
      ]
     },
     "execution_count": 38,
     "metadata": {},
     "output_type": "execute_result"
    }
   ],
   "source": [
    "len(set(Data_5p[\"Products\"]))"
   ]
  },
  {
   "cell_type": "code",
   "execution_count": 39,
   "metadata": {},
   "outputs": [
    {
     "data": {
      "text/plain": [
       "(1734266, 34)"
      ]
     },
     "execution_count": 39,
     "metadata": {},
     "output_type": "execute_result"
    }
   ],
   "source": [
    "Data_5p.shape"
   ]
  },
  {
   "cell_type": "code",
   "execution_count": 40,
   "metadata": {},
   "outputs": [
    {
     "data": {
      "text/plain": [
       "{'ALBSCO Total Company TA',\n",
       " 'Ahold USA Corp Total TA',\n",
       " 'BJs Total TA',\n",
       " 'CLUB',\n",
       " 'CVS Total Corp WO HI TA',\n",
       " 'Dol Gen Total TA',\n",
       " 'El Super Total TA',\n",
       " 'FDM',\n",
       " 'Family Dollar Total TA',\n",
       " 'Fiesta Total TA',\n",
       " 'Giant Eagle Total TA',\n",
       " 'Kmart Total TA',\n",
       " 'Meijer Total TA',\n",
       " 'Publix Total TA',\n",
       " 'REGIONAL GROCERY xLA',\n",
       " 'RG xLA & MILITARY',\n",
       " 'Rite Aid - Corp Total TA',\n",
       " \"Sam's Total TA\",\n",
       " 'ShopRite Total TA',\n",
       " 'Strategic Grocery',\n",
       " 'TOTAL MASS',\n",
       " 'Target Total BM/FF TA',\n",
       " 'Total US Drug',\n",
       " 'Total US Food',\n",
       " 'Total US xAOC',\n",
       " 'VDC',\n",
       " 'Walgreens Total TA',\n",
       " 'Walmart Total US TA',\n",
       " 'Wegmans Total TA'}"
      ]
     },
     "execution_count": 40,
     "metadata": {},
     "output_type": "execute_result"
    }
   ],
   "source": [
    "set(Data_5p[\"Markets\"])"
   ]
  },
  {
   "cell_type": "markdown",
   "metadata": {},
   "source": [
    "**ShareBasis Split**"
   ]
  },
  {
   "cell_type": "code",
   "execution_count": 41,
   "metadata": {},
   "outputs": [],
   "source": [
    "Data_5p[\"SubBrand\"] = \"\""
   ]
  },
  {
   "cell_type": "code",
   "execution_count": 42,
   "metadata": {
    "scrolled": false
   },
   "outputs": [
    {
     "data": {
      "text/html": [
       "<div>\n",
       "<style scoped>\n",
       "    .dataframe tbody tr th:only-of-type {\n",
       "        vertical-align: middle;\n",
       "    }\n",
       "\n",
       "    .dataframe tbody tr th {\n",
       "        vertical-align: top;\n",
       "    }\n",
       "\n",
       "    .dataframe thead th {\n",
       "        text-align: right;\n",
       "    }\n",
       "</style>\n",
       "<table border=\"1\" class=\"dataframe\">\n",
       "  <thead>\n",
       "    <tr style=\"text-align: right;\">\n",
       "      <th></th>\n",
       "      <th>Markets</th>\n",
       "      <th>Products</th>\n",
       "      <th>Facts</th>\n",
       "      <th>FY 2020</th>\n",
       "      <th>FY 2019</th>\n",
       "      <th>FY 2018</th>\n",
       "      <th>FY 2017</th>\n",
       "      <th>YTD 2021</th>\n",
       "      <th>YTD 2020</th>\n",
       "      <th>Latest 13 Weeks</th>\n",
       "      <th>...</th>\n",
       "      <th>Apr 20</th>\n",
       "      <th>Mar 20</th>\n",
       "      <th>Feb 20</th>\n",
       "      <th>Jan 20</th>\n",
       "      <th>Key</th>\n",
       "      <th>SubBrand</th>\n",
       "      <th>ShareBasis</th>\n",
       "      <th>Manufacturer</th>\n",
       "      <th>Franchise</th>\n",
       "      <th>Brand</th>\n",
       "    </tr>\n",
       "  </thead>\n",
       "  <tbody>\n",
       "    <tr>\n",
       "      <th>0</th>\n",
       "      <td>Total US xAOC</td>\n",
       "      <td>ABRASIVE</td>\n",
       "      <td>% $ Any Promo</td>\n",
       "      <td>6.852</td>\n",
       "      <td>9.885</td>\n",
       "      <td>10.409</td>\n",
       "      <td>9.715</td>\n",
       "      <td>15.582</td>\n",
       "      <td>9.690</td>\n",
       "      <td>11.922</td>\n",
       "      <td>...</td>\n",
       "      <td>6.757</td>\n",
       "      <td>11.126</td>\n",
       "      <td>8.262</td>\n",
       "      <td>11.107</td>\n",
       "      <td>Total US xAOCABRASIVE</td>\n",
       "      <td>None</td>\n",
       "      <td>ABRASIVE</td>\n",
       "      <td>None</td>\n",
       "      <td>None</td>\n",
       "      <td>None</td>\n",
       "    </tr>\n",
       "    <tr>\n",
       "      <th>1</th>\n",
       "      <td>Total US xAOC</td>\n",
       "      <td>ABRASIVE</td>\n",
       "      <td>% $ Any Promo Chg YA</td>\n",
       "      <td>-3.033</td>\n",
       "      <td>-0.524</td>\n",
       "      <td>0.694</td>\n",
       "      <td>9.715</td>\n",
       "      <td>5.892</td>\n",
       "      <td>1.349</td>\n",
       "      <td>1.656</td>\n",
       "      <td>...</td>\n",
       "      <td>-4.454</td>\n",
       "      <td>-2.334</td>\n",
       "      <td>-0.137</td>\n",
       "      <td>2.827</td>\n",
       "      <td>Total US xAOCABRASIVE</td>\n",
       "      <td>None</td>\n",
       "      <td>ABRASIVE</td>\n",
       "      <td>None</td>\n",
       "      <td>None</td>\n",
       "      <td>None</td>\n",
       "    </tr>\n",
       "    <tr>\n",
       "      <th>2</th>\n",
       "      <td>Total US xAOC</td>\n",
       "      <td>ABRASIVE</td>\n",
       "      <td>% EQ Any Promo</td>\n",
       "      <td>7.001</td>\n",
       "      <td>10.203</td>\n",
       "      <td>10.539</td>\n",
       "      <td>9.832</td>\n",
       "      <td>16.528</td>\n",
       "      <td>12.653</td>\n",
       "      <td>11.941</td>\n",
       "      <td>...</td>\n",
       "      <td>5.970</td>\n",
       "      <td>11.970</td>\n",
       "      <td>10.971</td>\n",
       "      <td>14.294</td>\n",
       "      <td>Total US xAOCABRASIVE</td>\n",
       "      <td>None</td>\n",
       "      <td>ABRASIVE</td>\n",
       "      <td>None</td>\n",
       "      <td>None</td>\n",
       "      <td>None</td>\n",
       "    </tr>\n",
       "  </tbody>\n",
       "</table>\n",
       "<p>3 rows × 39 columns</p>\n",
       "</div>"
      ],
      "text/plain": [
       "         Markets  Products                 Facts  FY 2020  FY 2019  FY 2018  \\\n",
       "0  Total US xAOC  ABRASIVE         % $ Any Promo    6.852    9.885   10.409   \n",
       "1  Total US xAOC  ABRASIVE  % $ Any Promo Chg YA   -3.033   -0.524    0.694   \n",
       "2  Total US xAOC  ABRASIVE        % EQ Any Promo    7.001   10.203   10.539   \n",
       "\n",
       "   FY 2017  YTD 2021  YTD 2020  Latest 13 Weeks  ...  Apr 20  Mar 20  Feb 20  \\\n",
       "0    9.715    15.582     9.690           11.922  ...   6.757  11.126   8.262   \n",
       "1    9.715     5.892     1.349            1.656  ...  -4.454  -2.334  -0.137   \n",
       "2    9.832    16.528    12.653           11.941  ...   5.970  11.970  10.971   \n",
       "\n",
       "   Jan 20                    Key  SubBrand  ShareBasis  Manufacturer  \\\n",
       "0  11.107  Total US xAOCABRASIVE      None    ABRASIVE          None   \n",
       "1   2.827  Total US xAOCABRASIVE      None    ABRASIVE          None   \n",
       "2  14.294  Total US xAOCABRASIVE      None    ABRASIVE          None   \n",
       "\n",
       "   Franchise  Brand  \n",
       "0       None   None  \n",
       "1       None   None  \n",
       "2       None   None  \n",
       "\n",
       "[3 rows x 39 columns]"
      ]
     },
     "execution_count": 42,
     "metadata": {},
     "output_type": "execute_result"
    }
   ],
   "source": [
    "Data_5p[['ShareBasis','Manufacturer','Franchise','Brand','SubBrand']] = Data_5p['Products'].str.split('|',n=4,expand=True)\n",
    "Data_5p.head(3)"
   ]
  },
  {
   "cell_type": "code",
   "execution_count": 43,
   "metadata": {
    "scrolled": false
   },
   "outputs": [
    {
     "data": {
      "text/html": [
       "<div>\n",
       "<style scoped>\n",
       "    .dataframe tbody tr th:only-of-type {\n",
       "        vertical-align: middle;\n",
       "    }\n",
       "\n",
       "    .dataframe tbody tr th {\n",
       "        vertical-align: top;\n",
       "    }\n",
       "\n",
       "    .dataframe thead th {\n",
       "        text-align: right;\n",
       "    }\n",
       "</style>\n",
       "<table border=\"1\" class=\"dataframe\">\n",
       "  <thead>\n",
       "    <tr style=\"text-align: right;\">\n",
       "      <th></th>\n",
       "      <th>Markets</th>\n",
       "      <th>Products</th>\n",
       "      <th>Facts</th>\n",
       "      <th>FY 2020</th>\n",
       "      <th>FY 2019</th>\n",
       "      <th>FY 2018</th>\n",
       "      <th>FY 2017</th>\n",
       "      <th>YTD 2021</th>\n",
       "      <th>YTD 2020</th>\n",
       "      <th>Latest 13 Weeks</th>\n",
       "      <th>...</th>\n",
       "      <th>Apr 20</th>\n",
       "      <th>Mar 20</th>\n",
       "      <th>Feb 20</th>\n",
       "      <th>Jan 20</th>\n",
       "      <th>Key</th>\n",
       "      <th>SubBrand</th>\n",
       "      <th>ShareBasis</th>\n",
       "      <th>Manufacturer</th>\n",
       "      <th>Franchise</th>\n",
       "      <th>Brand</th>\n",
       "    </tr>\n",
       "  </thead>\n",
       "  <tbody>\n",
       "    <tr>\n",
       "      <th>0</th>\n",
       "      <td>Total US xAOC</td>\n",
       "      <td>ABRASIVE</td>\n",
       "      <td>% $ Any Promo</td>\n",
       "      <td>6.852</td>\n",
       "      <td>9.885</td>\n",
       "      <td>10.409</td>\n",
       "      <td>9.715</td>\n",
       "      <td>15.582</td>\n",
       "      <td>9.690</td>\n",
       "      <td>11.922</td>\n",
       "      <td>...</td>\n",
       "      <td>6.757</td>\n",
       "      <td>11.126</td>\n",
       "      <td>8.262</td>\n",
       "      <td>11.107</td>\n",
       "      <td>Total US xAOCABRASIVE</td>\n",
       "      <td></td>\n",
       "      <td>ABRASIVE</td>\n",
       "      <td></td>\n",
       "      <td></td>\n",
       "      <td></td>\n",
       "    </tr>\n",
       "    <tr>\n",
       "      <th>1</th>\n",
       "      <td>Total US xAOC</td>\n",
       "      <td>ABRASIVE</td>\n",
       "      <td>% $ Any Promo Chg YA</td>\n",
       "      <td>-3.033</td>\n",
       "      <td>-0.524</td>\n",
       "      <td>0.694</td>\n",
       "      <td>9.715</td>\n",
       "      <td>5.892</td>\n",
       "      <td>1.349</td>\n",
       "      <td>1.656</td>\n",
       "      <td>...</td>\n",
       "      <td>-4.454</td>\n",
       "      <td>-2.334</td>\n",
       "      <td>-0.137</td>\n",
       "      <td>2.827</td>\n",
       "      <td>Total US xAOCABRASIVE</td>\n",
       "      <td></td>\n",
       "      <td>ABRASIVE</td>\n",
       "      <td></td>\n",
       "      <td></td>\n",
       "      <td></td>\n",
       "    </tr>\n",
       "    <tr>\n",
       "      <th>2</th>\n",
       "      <td>Total US xAOC</td>\n",
       "      <td>ABRASIVE</td>\n",
       "      <td>% EQ Any Promo</td>\n",
       "      <td>7.001</td>\n",
       "      <td>10.203</td>\n",
       "      <td>10.539</td>\n",
       "      <td>9.832</td>\n",
       "      <td>16.528</td>\n",
       "      <td>12.653</td>\n",
       "      <td>11.941</td>\n",
       "      <td>...</td>\n",
       "      <td>5.970</td>\n",
       "      <td>11.970</td>\n",
       "      <td>10.971</td>\n",
       "      <td>14.294</td>\n",
       "      <td>Total US xAOCABRASIVE</td>\n",
       "      <td></td>\n",
       "      <td>ABRASIVE</td>\n",
       "      <td></td>\n",
       "      <td></td>\n",
       "      <td></td>\n",
       "    </tr>\n",
       "  </tbody>\n",
       "</table>\n",
       "<p>3 rows × 39 columns</p>\n",
       "</div>"
      ],
      "text/plain": [
       "         Markets  Products                 Facts  FY 2020  FY 2019  FY 2018  \\\n",
       "0  Total US xAOC  ABRASIVE         % $ Any Promo    6.852    9.885   10.409   \n",
       "1  Total US xAOC  ABRASIVE  % $ Any Promo Chg YA   -3.033   -0.524    0.694   \n",
       "2  Total US xAOC  ABRASIVE        % EQ Any Promo    7.001   10.203   10.539   \n",
       "\n",
       "   FY 2017  YTD 2021  YTD 2020  Latest 13 Weeks  ...  Apr 20  Mar 20  Feb 20  \\\n",
       "0    9.715    15.582     9.690           11.922  ...   6.757  11.126   8.262   \n",
       "1    9.715     5.892     1.349            1.656  ...  -4.454  -2.334  -0.137   \n",
       "2    9.832    16.528    12.653           11.941  ...   5.970  11.970  10.971   \n",
       "\n",
       "   Jan 20                    Key  SubBrand  ShareBasis  Manufacturer  \\\n",
       "0  11.107  Total US xAOCABRASIVE              ABRASIVE                 \n",
       "1   2.827  Total US xAOCABRASIVE              ABRASIVE                 \n",
       "2  14.294  Total US xAOCABRASIVE              ABRASIVE                 \n",
       "\n",
       "   Franchise  Brand  \n",
       "0                    \n",
       "1                    \n",
       "2                    \n",
       "\n",
       "[3 rows x 39 columns]"
      ]
     },
     "execution_count": 43,
     "metadata": {},
     "output_type": "execute_result"
    }
   ],
   "source": [
    "Data_5p[[\"ShareBasis\",\"Manufacturer\",\"Franchise\",\"Brand\",\"SubBrand\"]]=Data_5p[[\"ShareBasis\",\"Manufacturer\",\"Franchise\",\"Brand\",\"SubBrand\"]].fillna(value=\"\")\n",
    "Data_5p.head(3)"
   ]
  },
  {
   "cell_type": "code",
   "execution_count": 44,
   "metadata": {},
   "outputs": [
    {
     "data": {
      "text/plain": [
       "{'BAR | UNILEVER | DOVE | DOVE',\n",
       " 'BAR | P&G | SAFEGUARD | SAFEGUARD BASE | SAFEGUARD BASE',\n",
       " 'APC+WW | P&G | HOME MADE SIMPLE | HOME MADE SIMPLE',\n",
       " 'APC+WW | CLOROX | CLOROX | CLOROX SCENTIVA | CLOROX SCENTIVA TAHTN GRAPEFRT',\n",
       " 'POWER | P&G | ORAL-B | ORAL-B PROFESSIONAL CARE | ORAL-B PRO CARE SMART SERIES',\n",
       " 'BODYWASH | PRVT LBL | PRVT LBL | PRVT LBL | PRVT LBL',\n",
       " 'LIQUID | CLOROX',\n",
       " 'BAR | UNILEVER | DOVE | DOVE GO FRESH | DOVE GO FRESH',\n",
       " 'LIQUID FS | P&G | GAIN',\n",
       " 'POUR APC+WW | PRVT LBL | PRVT LBL',\n",
       " 'ABRASIVE | COLGATE-PALMOLIVE | AJAX US | AJAX US | REM SUBBRAND VARIANT',\n",
       " 'TOOTHPASTE | COLGATE-PALMOLIVE | COLGATE | COLGATE OPTIC WHITE | COLGATE OPTIC WHITE BASE',\n",
       " 'LIQUID | COLGATE-PALMOLIVE | SOFTSOAP',\n",
       " 'PORTABLE TB | COLGATE-PALMOLIVE | COLGATE | COLGATE WISP | COLGATE WISP BASE',\n",
       " 'POWER | P&G | ORAL-B | ORAL-B PRO WHITE',\n",
       " 'APC+WW | SC JOHNSON | PLEDGE | PLEDGE MULTI SRF | PLEDGE MULTI SRF WIPE',\n",
       " 'MOUTHWASH | P&G | SCOPE | SCOPE ADVANCED | SCOPE ADVANCED',\n",
       " 'WOOD',\n",
       " 'APC+WW | CLOROX | PINE SOL | PINE-SOL SQUIRT&MOP',\n",
       " 'APC+WW | CLOROX | CLOROX | CLOROX HEALTHCARE',\n",
       " 'APC+WW | SC JOHNSON | PLEDGE | PLEDGE MULTI SRF | REM SUBBRAND VARIANT',\n",
       " 'TOOTHPASTE | P&G | CREST | CREST BASE | CREST TC',\n",
       " 'BODYWASH | UNILEVER | DOVE FEMALE | DOVE REM | DOVE REM',\n",
       " 'MOUTHWASH | PRVT LBL | PRVT LBL | PRVT LBL KIDS/TEENS',\n",
       " 'MOUTHWASH | COLGATE-PALMOLIVE | TOMS',\n",
       " 'FABRIC SOFTENERS | P&G | DOWNY US | DOWNY DEFY DAMAGE',\n",
       " 'APC+WW | P&G | NBD',\n",
       " 'LIQUID | HAIN',\n",
       " 'MOUTHWASH | J&J | LISTERINE',\n",
       " 'LIQUID | SC JOHNSON | METHOD | METHOD FOAM | METHOD FOAM',\n",
       " 'POUR APC+WW | CLOROX | CLOROX | CLOROX ALL PURP',\n",
       " 'LDL/DISHAIDS/WPS/FM/SPRAYS | P&G | NBD | NBD',\n",
       " 'BAR | COLGATE-PALMOLIVE | IRISH SPRING | 3 PK',\n",
       " 'APC+WW | PRVT LBL | PRVT LBL',\n",
       " 'BODYWASH | UNILEVER | SUAVE | GIFT SET | GIFT SET SB',\n",
       " 'BATTERY+HYBRID | P&G | ORAL-B | ORAL-B PULSAR',\n",
       " 'APC+WW | RECKITT/BENK | LYSOL | LYSOL W/BLEACH | REM SUBBRAND VARIANT',\n",
       " 'BAR | UNILEVER | CARESS | CARESS PREM',\n",
       " 'BEAD FS | P&G | DOWNY US | DOWNY DEFY DAMAGE',\n",
       " 'POWER | COLGATE-PALMOLIVE | COLGATE | COLGATE HUM | COLGATE HUM BATTERY',\n",
       " 'BODYWASH | SC JOHNSON | MRS MEYERS | MRS MEYERS',\n",
       " 'APC+WW | ALEN | PINALEN | PINALEN | PINALEN FRESH',\n",
       " 'BODYWASH | COLGATE-PALMOLIVE | SOFTSOAP | SOFTSOAP | SOFTSOAP EXP',\n",
       " 'LIQUID FS | SC JOHNSON | MRS MEYERS | MRS MEYERS',\n",
       " 'WOOD | BONA | BONA | BONA HARDWOOD FLOOR CLNR | BONA HW FLOOR CLNR POUR',\n",
       " 'POUR APC+WW | COLGATE-PALMOLIVE | FABULOSO US | FABULOSO ANTIBACTERIAL',\n",
       " 'POWER | CHURCH & DWIGHT | REM FRANCHISE | REM BRAND | A&H SPINBR CHARCOAL',\n",
       " 'MOUTHWASH | COLGATE-PALMOLIVE',\n",
       " 'MOUTHWASH | COLGATE-PALMOLIVE | COLGATE | COLGATE TOTAL | COLGATE TOTAL GUM HEALTH',\n",
       " 'SHEETS | P&G | DOWNY US | DOWNY INFUSIONS',\n",
       " 'BAR | HENKEL | DIAL | DIAL VALUE',\n",
       " 'MOUTHWASH | COLGATE-PALMOLIVE | HELLO | HELLO | HELLO NATURAL',\n",
       " 'APC+WW | BONA',\n",
       " 'LDL/DISHAIDS/WPS/FM/SPRAYS | P&G | DAWN | DAWN PLATINUM',\n",
       " 'WOOD | CHURCH & DWIGHT | ORANGE GLO',\n",
       " 'LIQUID FS | UNILEVER',\n",
       " 'APC+WW | RECKITT/BENK | LYSOL | LYSOL SMART',\n",
       " 'TOOTHPASTE | GSK | AQUAFRESH | AQ-F KIDS',\n",
       " 'BAR | HENKEL | DIAL | DIAL BASE',\n",
       " 'BODYWASH | P&G | HERBAL ESSENCES',\n",
       " 'SHEETS | HENKEL | SNUGGLE | SNUGGLE SUPER CARE',\n",
       " 'BAR | UNILEVER | DOVE | DOVE ANTI-STRESS | DOVE ANTI-STRESS',\n",
       " 'BODYWASH | P&G | HERBAL ESSENCES | GIFT SET',\n",
       " 'APC+WW | CLOROX | PINE SOL | PINE-SOL | PINE SOL LEMON',\n",
       " 'POWER | P&G | ORAL-B | ORAL-B PROFESSIONAL CARE | ORAL-B PRO CARE REFL',\n",
       " 'APC+WW | COLGATE-PALMOLIVE | FABULOSO US | FABULOSO BASE | FABULOSO W/BLEACH ALT SPRNG FR',\n",
       " 'BODYWASH | P&G | AUSSIE KIDS',\n",
       " 'BODYWASH | FEMALE | DIAL',\n",
       " 'BODYWASH | UNILEVER | DOVE FEMALE | DOVE',\n",
       " 'MOUTHWASH | P&G | CREST | CREST',\n",
       " 'MANUAL | COLGATE-PALMOLIVE | COLGATE | COLGATE TOTAL',\n",
       " 'APC+WW | BONA | BONA | BONA HARDWOOD FLOOR CLNR | BONA HW FLOOR CLNR SPRAY',\n",
       " 'APC+WW | RECKITT/BENK | LYSOL | LYSOL ALL PURPOSE | LYSOL ALL PURPOSE FRESH',\n",
       " 'SCENT BOOSTERS | P&G | DOWNY US | DOWNY BASE',\n",
       " 'BODYWASH | J&J | OGX | REM BRAND | REM SUBBRAND',\n",
       " 'TOOTHPASTE | COLGATE-PALMOLIVE | TOMS | TOMS ANTICAVITY',\n",
       " 'MANUAL | PRVT LBL | PRVT LBL | PRVT LBL | PRVT LBL ADULT',\n",
       " 'APC+WW | COLGATE-PALMOLIVE | FABULOSO US | FABULOSO BASE | FABULOSO BSE SPRING IN BLOOM',\n",
       " 'BODYWASH | UNILEVER | SEVENTH GEN',\n",
       " 'LDL/DISHAIDS/WPS/FM/SPRAYS | COLGATE-PALMOLIVE | AXION',\n",
       " 'BAR | HENKEL | DIAL | 12 PK',\n",
       " 'APC+WW | CLOROX | FORMULA 409 | FORMULA 409 | FORMULA 409 ORIG',\n",
       " 'MOUTHWASH | PRVT LBL | PRVT LBL | PRVT LBL FRESH | PRVT LBL FRESH BASE',\n",
       " 'LIQUID | PRVT LBL | PUMP',\n",
       " 'MOUTHWASH | PRVT LBL | PRVT LBL | PRVT LBL WHITENING | PRVT LBL LIST WHT VBRNT PRE BR',\n",
       " 'FABRIC SOFTENERS | P&G | BOUNCE | BOUNCE WRINKLE GUARD',\n",
       " \"BODYWASH | P&G | OLD SPICE | OLD SPICE PREM | OS GENTLEMAN'S BLEND\",\n",
       " 'POUR APC+WW | P&G | MR CLEAN',\n",
       " 'SHEETS | SC JOHNSON',\n",
       " 'POUR APC+WW | ALEN | PINALEN | PINALEN | REM SUBBRAND VARIANT',\n",
       " 'MANUAL | COLGATE-PALMOLIVE | COLGATE | COLGATE KEEP',\n",
       " 'BODYWASH | P&G',\n",
       " 'MOUTHWASH | GSK | GSK REM',\n",
       " 'APC+WW | SC JOHNSON | FANTASTIK FRN | FANTASTIK',\n",
       " 'APC+WW | CLOROX | FORMULA 409 | FORMULA 409 | FORMULA 409 LEMON',\n",
       " 'LDL/DISHAIDS/WPS/FM/SPRAYS | SC JOHNSON | SCJ REM FRN',\n",
       " 'LIQUID | HENKEL | DIAL | DIAL GOOD',\n",
       " 'FABRIC SOFTENERS | P&G | DOWNY US | ULTRA DOWNY',\n",
       " 'SCENT BOOSTERS | CHURCH & DWIGHT | XTRA | XTRA SCENT SATIONS',\n",
       " 'POWER | P&G | ORAL-B | ORAL-B KIDS | ORAL-B STAGES 3',\n",
       " 'BODYWASH | COLGATE-PALMOLIVE | TOMS OF MAINE | TOMS PREBIOTIC',\n",
       " 'LDL/DISHAIDS/WPS/FM/SPRAYS | P&G | IVORY | IVORY',\n",
       " 'SHEETS | SC JOHNSON | MRS MEYERS | MRS MEYERS',\n",
       " 'POUR APC+WW | BONA | BONA | BONA HARDWOOD FLOOR CLNR | BONA HW FLOOR CLNR POUR',\n",
       " 'LIQUID FS | HENKEL',\n",
       " 'BODYWASH | HENKEL | DIAL | GIFT SET | GIFT SET SB',\n",
       " 'BAR | UNILEVER | LEVER 2000 | LEVER 2000 BASE | LEVER 2000 BASE',\n",
       " 'APC+WW | P&G | MR CLEAN | MR CLEAN W/ FEBREZE | MR CLEAN W/FEBRZ PET ODOR DEF',\n",
       " 'POWER | P&G | ORAL-B | ORAL-B GENIUS',\n",
       " 'BAR | P&G | OLD SPICE | OLD SPICE | OS RED ZONE',\n",
       " 'BODYWASH | UNILEVER | NUBIAN HERITAGE',\n",
       " 'APC+WW | RECKITT/BENK | LYSOL | LYSOL KITCHEN',\n",
       " 'FABRIC SOFTENERS | SC JOHNSON',\n",
       " 'TOOTHPASTE | COLGATE-PALMOLIVE | TOMS | TOMS FLUORIDE FREE | TOMS FF PROPOLIS & MYRRH',\n",
       " 'MOUTHWASH | PRVT LBL | PRVT LBL | PRVT LBL ANTICAVITY | PRVT LBL ACT RESTORING',\n",
       " 'POWER | HIGH RIDGE BRANDS | DR FRESH | DR FRESH',\n",
       " 'SCENT BOOSTERS | PRVT LBL',\n",
       " 'TOOTHPASTE',\n",
       " 'MANUAL | COLGATE-PALMOLIVE | COLGATE | COLGATE PLUS | COLGATE PLUS REM',\n",
       " 'MANUAL | HIGH RIDGE BRANDS | REACH',\n",
       " 'APC+WW | UNILEVER',\n",
       " 'SHEETS | HENKEL | SNUGGLE | SNUGGLE EXHILARATIONS',\n",
       " 'LIQUID | P&G | SAFEGUARD | SAFEGUARD',\n",
       " 'MANUAL | COLGATE-PALMOLIVE | COLGATE | COLGATE PLUS',\n",
       " 'TOOTHPASTE | COLGATE-PALMOLIVE | COLGATE | COLGATE RENEWAL | COLGATE RENEWAL ENAMEL FORTIFY',\n",
       " 'LIQUID | COLGATE-PALMOLIVE | SOFTSOAP | SFTSP BEST',\n",
       " 'POUR APC+WW | SC JOHNSON | PLEDGE | PLEDGE MULTI SRF',\n",
       " 'LDL/DISHAIDS/WPS/FM/SPRAYS | P&G | DAWN | DAWN BOTANICALS',\n",
       " 'LIQUID | HENKEL | DIAL | DIAL BETTER | DIAL LIQUID AB',\n",
       " 'BATTERY+HYBRID | COLGATE-PALMOLIVE | COLGATE | COLGATE KIDS | COLGATE KIDS REM',\n",
       " 'APC+WW | ALEN | ART OF GREEN | ART OF GREEN',\n",
       " 'TOOTHPASTE | P&G | NATIVE',\n",
       " 'LIQUID | HENKEL | DIAL',\n",
       " 'APC+WW | CLOROX | CLOROX | CLOROX ALL PURP | CLOROX ALL PURP LEMON',\n",
       " 'MANUAL | COLGATE-PALMOLIVE | COLGATE | COLGATE TRAVEL | COLGATE REM',\n",
       " 'TOOTHPASTE | P&G | CREST | CREST 3D WHITE | CREST 3D WHITE BASE',\n",
       " 'BAR | UNILEVER | DOVE | DOVE ORIG | DOVE ORG',\n",
       " 'TOOTHPASTE | GSK | PARODONTAX | PARODONTAX',\n",
       " 'BODYWASH | FEMALE | SUAVE',\n",
       " 'BAR | UNILEVER | DOVE | DOVE ANTI-STRESS',\n",
       " 'SCENT BOOSTERS | P&G | DREFT',\n",
       " 'FABRIC SOFTENERS | P&G | DOWNY US | DOWNY INFUSIONS',\n",
       " 'POWER | P&G',\n",
       " 'TOOTHPASTE | COLGATE-PALMOLIVE | COLGATE | COLGATE MAX FRANCHISE',\n",
       " 'FABRIC SOFTENERS | P&G | DOWNY US | DOWNY INTENSE',\n",
       " 'BAR | HENKEL | DIAL | 3 PK',\n",
       " \"WOOD | COLGATE-PALMOLIVE | MURPHY'S | MURPHY'S ORIG | MURPHY'S ORIG POUR\",\n",
       " 'TOOTHPASTE | DR BRONNERS | DR BRONNERS | DR BRONNERS',\n",
       " 'BODYWASH | P&G | OLAY | OLAY BASE | OLAY DLY PFY',\n",
       " 'BAR | P&G | NATIVE',\n",
       " 'WOOD | P&G | SWIFFER | SWIFFER WET JET | REM SUBBRAND VARIANT',\n",
       " 'MANUAL | PRVT LBL | PRVT LBL | PRVT LBL',\n",
       " 'TOOTHPASTE | P&G | CREST | CREST COMPLETE',\n",
       " 'BAR | HENKEL | DIAL | DIAL PREMIUM | DIAL COMPLETE',\n",
       " 'BODYWASH | UNILEVER | DOVE FEMALE | DOVE | DOVE PURELY PAMPERING',\n",
       " 'BODYWASH | J&J | AVEENO | GIFT SET',\n",
       " 'APC+WW | CLOROX | CLOROX | CLOROX SCENTIVA | CLOROX SCENTIVA TUSC LAV & JAS',\n",
       " 'MOUTHWASH | PRVT LBL | PRVT LBL | PRVT LBL ANTICAVITY',\n",
       " 'TOOTHPASTE | COLGATE-PALMOLIVE | COLGATE | COLGATE ULTRA | COLGATE ULTRA PROTECT',\n",
       " 'BODYWASH | HENKEL | DIAL | DIAL BASE | DIAL SKIN THERAPY',\n",
       " 'FABRIC SOFTENERS | P&G | DOWNY US | DOWNY UNSTOPABLES',\n",
       " \"APC+WW | UNILEVER | SCHMIDT'S | SCHMIDT'S CLEANING VINEGAR | SCHMIDT'S VNGR CITRS PLS MNRLS\",\n",
       " 'BAR | P&G | SAFEGUARD | SAFEGUARD BASE',\n",
       " 'LDL/DISHAIDS/WPS/FM/SPRAYS | P&G | DAWN | DAWN ORG BLUE',\n",
       " 'MANUAL | P&G | CREST | CREST REM | CREST REM',\n",
       " \"APC+WW | COLGATE-PALMOLIVE | MURPHY'S | MURPHY'S ORIG | MURPHY'S ORIG WW\",\n",
       " 'TOOTHPASTE | COLGATE-PALMOLIVE | ULTRA BRITE',\n",
       " 'MANUAL | P&G | ORAL-B | ORAL-B PRO-HEALTH | ORAL-B PRO-HEALTH BASE',\n",
       " 'APC+WW | CLOROX | CLOROX',\n",
       " 'BATTERY+HYBRID | SUNSTAR AMERICA | BUTLER',\n",
       " 'WOOD | SC JOHNSON | PLEDGE | PLEDGE WOOD FLR | PLEDGE WOOD FLR CITRUS',\n",
       " 'TOOTHPASTE | COLGATE-PALMOLIVE | COLGATE | COLGATE 2 IN 1 | COLGATE 2 IN 1 ADULT',\n",
       " 'POWER | CHURCH & DWIGHT | WATERPIK | WATERPIK',\n",
       " 'WOOD | SC JOHNSON | PLEDGE',\n",
       " 'FABRIC SOFTENERS | P&G | HOME MADE SIMPLE',\n",
       " 'APC+WW | CLOROX | PINE SOL | PINE-SOL | PINE SOL ORANGE ENERGY',\n",
       " 'POUR APC+WW | COLGATE-PALMOLIVE | FABULOSO US | FABULOSO COMPLETE | FABULOSO COMPLETE SPRKLNG CTRS',\n",
       " 'POUR APC+WW | P&G | MR CLEAN | MR CLEAN ANTIBACTERIAL',\n",
       " 'BODYWASH | J&J | NEUTROGENA | GIFT SET',\n",
       " 'MOUTHWASH | SANOFI | ACT',\n",
       " 'BODYWASH | FEMALE | DOVE FEMALE',\n",
       " 'SHEETS | P&G | BOUNCE | BOUNCE WRINKLE GUARD',\n",
       " 'LDL/DISHAIDS/WPS/FM/SPRAYS | SC JOHNSON | BABYGANICS | BABYGANICS',\n",
       " 'APC+WW | BONA | BONA | BONA STONE TILE LMNT CLNR | BONA STN TILE LMNT CLNR SPRAY',\n",
       " 'LIQUID FS | P&G | DOWNY US | DOWNY WRINKLE GUARD',\n",
       " 'WOOD | UNILEVER | SEVENTH GEN',\n",
       " 'POUR APC+WW | CLOROX | CLOROX | CLOROX CLEAN UP',\n",
       " 'LIQUID FS | UNILEVER | SEVENTH GEN',\n",
       " 'POUR APC+WW | COLGATE-PALMOLIVE | FABULOSO US | FABULOSO BASE | FABULOSO BSE BKNG SD CITRS',\n",
       " 'BODYWASH | SC JOHNSON | METHOD | METHOD | METHOD WOMENS',\n",
       " 'BODYWASH | UNILEVER | SHEA MOISTURE | SHEA MOISTURE ADULT',\n",
       " 'APC+WW | SC JOHNSON | METHOD',\n",
       " 'POWER | PHILIPS | SONICARE | PHILIPS SONICARE ONE',\n",
       " 'TOOTHPASTE | P&G | CREST | CREST COMPLETE | CREST PLUS PREMIUM ANTI-BACTERIAL',\n",
       " 'BODYWASH | P&G | GILLETTE FOR MEN',\n",
       " 'LIQUID | PRVT LBL',\n",
       " 'LIQUID FS | COLGATE-PALMOLIVE | SUAVITEL US | SUAVITEL COMPLETE',\n",
       " 'POWER | P&G | GLEEM | GLEEM',\n",
       " 'TOOTHPASTE | COLGATE-PALMOLIVE | TOMS | TOMS KIDS CARE | TOMS ANTI CAVITY KIDS',\n",
       " 'MOUTHWASH',\n",
       " 'SCENT BOOSTERS | CHURCH & DWIGHT | A&H',\n",
       " 'APC+WW | SC JOHNSON | FANTASTIK FRN | FANTASTIK | FANTASTIK BLEACH',\n",
       " 'POUR APC+WW | RECKITT/BENK | LYSOL | LYSOL ALL PURPOSE | LYSOL ALL PURPOSE LAVENDR BRZ',\n",
       " 'MOUTHWASH | GSK | BIOTENE | BIOTENE',\n",
       " 'BATTERY+HYBRID | P&G | ORAL-B | ORAL-B PRO-HEALTH BATTERY',\n",
       " 'BODYWASH | J&J | REM FRANCHISE | J&J KIDS',\n",
       " 'BAR | COLGATE-PALMOLIVE | IRISH SPRING | IRISH SPRING BASE | IRISH SPRING BASE',\n",
       " 'TOOTHPASTE | GSK | AQUAFRESH | AQ-F SENS',\n",
       " 'APC+WW | COLGATE-PALMOLIVE | FABULOSO US | FABULOSO BASE | FABULOSO BSE LAVENDER',\n",
       " 'APC+WW | P&G',\n",
       " 'FABRIC SOFTENERS | P&G | DOWNY US | DOWNY ODOR PROTECT',\n",
       " 'POUR APC+WW | ALEN | FLASH | FLASH',\n",
       " 'MANUAL | HIGH RIDGE BRANDS | REACH | REACH CRYSTAL CLEAN',\n",
       " \"TOOTHPASTE | UNILEVER | SCHMIDT'S\",\n",
       " 'LDL/DISHAIDS/WPS/FM/SPRAYS | SC JOHNSON | METHOD',\n",
       " 'TOOTHPASTE | COLGATE-PALMOLIVE | COLGATE | COLGATE BASE | COLGATE BSPW',\n",
       " 'SHEETS | P&G | REM FRANCHISE',\n",
       " 'TOOTHPASTE | COLGATE-PALMOLIVE | COLGATE | COLGATE ENAMEL HEALTH | COLGATE ENAMEL HEALTH SENS',\n",
       " 'FABRIC SOFTENERS | P&G | DOWNY US | DOWNY FRESH PROTECT',\n",
       " 'LIQUID | BRYNWOOD PARTNERS',\n",
       " \"MOUTHWASH | UNILEVER | SCHMIDT'S | SCHMIDT'S ADULT\",\n",
       " 'BAR | HENKEL | DIAL | 2 PK',\n",
       " 'BAR | HENKEL',\n",
       " 'BATTERY+HYBRID | COLGATE-PALMOLIVE | COLGATE | COLGATE KIDS',\n",
       " 'POWER | PHILIPS | SONICARE | SONICARE DIAMOND CLEAN',\n",
       " 'SCENT BOOSTERS | P&G',\n",
       " 'WOOD | SC JOHNSON | PLEDGE | PLEDGE FURNITURE | PLEDGE FURNITURE LEMON',\n",
       " 'TOOTHPASTE | COLGATE-PALMOLIVE | COLGATE | COLGATE SENS',\n",
       " 'BAR | UNILEVER | CARESS | CARESS BASE | CARESS BASE',\n",
       " 'LIQUID FS | ALEN',\n",
       " 'MANUAL | P&G | ORAL-B | ORAL-B CAVITY DEFENSE',\n",
       " 'LDL/DISHAIDS/WPS/FM/SPRAYS | P&G | HOME MADE SIMPLE',\n",
       " 'TOOTHPASTE | GSK | SENSODYNE | SENSODYNE | SENSODYNE COMPLETE PROTECTION',\n",
       " 'SHEETS | P&G | BOUNCE | BOUNCE PET HAIR & LINT GUARD',\n",
       " 'POWER | SUNSTAR AMERICA',\n",
       " 'LIQUID FS | P&G | DOWNY US | DOWNY INFUSIONS',\n",
       " 'APC+WW | SC JOHNSON | WINDEX | WINDEX MULTI SRF',\n",
       " 'SCENT BOOSTERS | PRVT LBL | REM FRANCHISE',\n",
       " 'MOUTHWASH | J&J | LISTERINE | LISTERINE ANTISEPTIC',\n",
       " 'LIQUID | HENKEL | DIAL | DIAL REM',\n",
       " 'POWER | P&G | ORAL-B | ORAL-B PRO-HEALTH BATTERY | ORAL-B PRO-HEALTH PRC CLN',\n",
       " 'APC+WW | RECKITT/BENK | LYSOL | LYSOL DISINFECTING WIPES',\n",
       " 'SCENT BOOSTERS | SC JOHNSON | METHOD | METHOD',\n",
       " 'BODYWASH | P&G | OLAY | OLAY BASE | OLAY AGE DEFY',\n",
       " 'BAR | HENKEL | DIAL | 6 PK',\n",
       " 'APC+WW | P&G | MR CLEAN | MR CLEAN | MR CLEAN MOONLIGHT BREEZE',\n",
       " 'BAR | COLGATE-PALMOLIVE | TOMS OF MAINE',\n",
       " 'WOOD | BONA | BONA | BONA HARDWOOD FLOOR POLISH | BONA HW FLOOR POLISH',\n",
       " 'TOOTHPASTE | COLGATE-PALMOLIVE | COLGATE | COLGATE MAX FRANCHISE | COLGATE MX FR BASE',\n",
       " 'LIQUID | COLGATE-PALMOLIVE | TOMS OF MAINE | TOMS PREBIOTIC',\n",
       " 'POWER | P&G | ORAL-B | ORAL-B COMPLETE BATTERY',\n",
       " 'BODYWASH | SC JOHNSON | METHOD',\n",
       " 'POWER | COLGATE-PALMOLIVE | COLGATE | COLGATE 360 POWER | COLGATE 360 SONIC PWR',\n",
       " 'LIQUID | REM MFG',\n",
       " 'SHEETS | P&G | GAIN | GAIN BASE',\n",
       " 'POWER | P&G | ORAL-B | ORAL-B 3D WHITE BATTERY | ORAL-B 3D WHITE ACTION BTRY',\n",
       " 'LDL/DISHAIDS/WPS/FM/SPRAYS | SC JOHNSON',\n",
       " 'BAR | UNILEVER | LOVE BEAUTY AND PLANET | LOVE BEAUTY AND PLANET',\n",
       " 'WHITENING SYS | COLGATE-PALMOLIVE',\n",
       " 'MOUTHWASH | GSK | GSK REM | POLIDENT',\n",
       " 'LIQUID | UNILEVER | DOVE | DOVE LIQUID',\n",
       " 'SCENT BOOSTERS | P&G | DREFT | DREFT BLISSFULS',\n",
       " 'TOOTHPASTE | CHURCH & DWIGHT',\n",
       " 'BATTERY+HYBRID | HIGH RIDGE BRANDS | DR FRESH | DR FRESH',\n",
       " 'TOOTHPASTE | COLGATE-PALMOLIVE | COLGATE | COLGATE ULTRA',\n",
       " 'POWER | P&G | ORAL-B | ORAL-B CHARCOAL | ORAL-B CHARCOAL REFILL',\n",
       " 'POWER | P&G | ORAL-B | ORAL-B VITALITY | ORAL-B VITALITY FLOSS ACTION',\n",
       " 'WOOD | P&G | SWIFFER',\n",
       " 'ABRASIVE | HENKEL',\n",
       " 'MOUTHWASH | PRVT LBL',\n",
       " 'LIQUID | EO',\n",
       " 'TOOTHPASTE | P&G | CREST | REM BRAND',\n",
       " 'SCENT BOOSTERS | P&G | DOWNY US | DOWNY FRESH PROTECT',\n",
       " 'POUR APC+WW | CLOROX | CLOROX | CLOROX CLEAN UP | REM SUBBRAND VARIANT',\n",
       " 'POWER | P&G | ORAL-B | ORAL-B PRO-HEALTH BATTERY | ORAL-B PRO-HEALTH CLINICAL',\n",
       " 'LDL/DISHAIDS/WPS/FM/SPRAYS | UNILEVER | LOVE HOME AND PLANET',\n",
       " 'MOUTHWASH | COLGATE-PALMOLIVE | COLGATE | COLGATE TOTAL | COLGATE TOTAL ADVANCED',\n",
       " 'POUR APC+WW | ALEN | PINALEN',\n",
       " 'BATTERY+HYBRID | P&G | ORAL-B | ORAL-B COMPLETE BATTERY | ORAL-B CMP ACT PWR DEEP CLN',\n",
       " 'MANUAL | HIGH RIDGE BRANDS | DR FRESH | TEK | TEK PROFESSIONAL',\n",
       " 'POWER | P&G | ORAL-B | ORAL-B VITALITY | ORAL-B VITALITY DUAL CLN',\n",
       " 'BATTERY+HYBRID | CHURCH & DWIGHT | REM FRANCHISE | REM BRAND | A&H SPINBR TRULY RADIANT',\n",
       " 'FABRIC SOFTENERS | ALEN',\n",
       " 'MOUTHWASH | PRVT LBL | PRVT LBL | REM BRAND',\n",
       " 'MOUTHWASH | P&G | CREST | CREST PRO-HLTH | CREST PRO-HLTH MLT PRT',\n",
       " 'LDL/DISHAIDS/WPS/FM/SPRAYS | P&G | GAIN | GAIN',\n",
       " 'POWER | P&G | ORAL-B | ORAL-B CHARCOAL | ORAL-B CHARCOAL WHTNG THERAPY',\n",
       " 'SHEETS | P&G | BOUNCE',\n",
       " 'APC+WW | P&G | NBD | NBD | NBD YUZU AND ORANGE FLOWER',\n",
       " 'BAR | UNILEVER | RIGHT TO SHOWER',\n",
       " 'BAR | COLGATE-PALMOLIVE | IRISH SPRING | 6 PK',\n",
       " 'SCENT BOOSTERS | PRVT LBL | REM FRANCHISE | REM BRAND',\n",
       " 'BODYWASH | P&G | HERBAL ESSENCES | GIFT SET | GIFT SET SB',\n",
       " 'POUR APC+WW | CLOROX | CLOROX | CLOROX FRAGANZIA',\n",
       " 'LIQUID FS | P&G | HOME MADE SIMPLE',\n",
       " 'BAR | SC JOHNSON | METHOD | METHOD REM BR | METHOD REM SBR',\n",
       " 'WOOD | SC JOHNSON | SCJ REM FRN',\n",
       " 'LIQUID FS | P&G | GAIN | GAIN BOTANICALS',\n",
       " 'MOUTHWASH | P&G | CREST | CREST 3D',\n",
       " 'WOOD | BONA',\n",
       " 'POUR APC+WW | CLOROX | PINE SOL | PINE-SOL | PINE SOL RAIN CLEAN',\n",
       " 'MOUTHWASH | GSK | BIOTENE',\n",
       " 'BAR | HENKEL | TONE | TONE BASE',\n",
       " 'POWER | P&G | ORAL-B | ORAL-B ELECTRIC BASE REM',\n",
       " 'POWER | CHURCH & DWIGHT | WATERPIK | REM BRAND | REM SUBBRAND',\n",
       " 'BAR | PRVT LBL | PRVT LBL | PRVT LBL | PRVT LBL',\n",
       " 'BAR | P&G | NATIVE | NATIVE | NATIVE',\n",
       " 'BODYWASH | MALE | DIAL',\n",
       " 'SCENT BOOSTERS | PRVT LBL | PRVT LBL | PRVT LBL',\n",
       " 'MANUAL | COLGATE-PALMOLIVE | COLGATE | COLGATE SLIM SOFT | COLGATE SLIM SOFT',\n",
       " 'APC+WW | ALEN | ALEN REM | ALEN REM | REM SUBBRAND VARIANT',\n",
       " 'TOOTHPASTE | UNILEVER',\n",
       " 'TOOTHPASTE | DR BRONNERS | DR BRONNERS',\n",
       " 'LIQUID | UNILEVER | DOVE | DOVE REM | DOVE REM',\n",
       " 'BAR | UNILEVER | DOVE | DOVE MEN',\n",
       " 'BATTERY+HYBRID | COLGATE-PALMOLIVE',\n",
       " 'BODYWASH | P&G | OLAY | OLAY BASE | OLAY DAILY MST',\n",
       " 'POWER | P&G | ORAL-B | ORAL-B 3D WHITE ELECTRIC',\n",
       " 'LIQUID | LIVE CLEAN',\n",
       " 'ABRASIVE | PRVT LBL | PRVT LBL | PRVT LBL | REM SUBBRAND VARIANT',\n",
       " 'FABRIC SOFTENERS | HENKEL | SNUGGLE | SNUGGLE SCENT BOOSTERS',\n",
       " 'TOOTHPASTE | COLGATE-PALMOLIVE | TOMS | TOMS ANTICAVITY | TOMS SEA SALT',\n",
       " 'POWER | PHILIPS | SONICARE | SONICARE REFILL',\n",
       " 'FABRIC SOFTENERS | COLGATE-PALMOLIVE | SUAVITEL US | SUAVITEL BASE',\n",
       " 'POWER | P&G | ORAL-B | ORAL-B IO | ORAL-B IO SERIES 8',\n",
       " 'BATTERY+HYBRID | COLGATE-PALMOLIVE | COLGATE | COLGATE 360 POWER',\n",
       " 'BAR | P&G | SAFEGUARD',\n",
       " 'SCENT BOOSTERS | SC JOHNSON | METHOD',\n",
       " 'MOUTHWASH | COLGATE-PALMOLIVE | COLGATE | COLGATE SWISH | COLGATE SWISH',\n",
       " 'LIQUID | P&G | NBD',\n",
       " 'APC+WW | RECKITT/BENK | MOP & GLO',\n",
       " 'MOUTHWASH | PRVT LBL | PRVT LBL | PRVT LBL KIDS/TEENS | PRVT LBL ANTCVT KIDS',\n",
       " 'BATTERY+HYBRID | P&G | ORAL-B',\n",
       " 'POWER | PHILIPS | SONICARE | SONICARE PLAQUE CONTROL | SONICARE BASE REM',\n",
       " 'TOOTHPASTE | P&G | CREST | CREST 3D WHITE | CREST 3D WHITE LUXE',\n",
       " 'SCENT BOOSTERS | P&G | GAIN | GAIN SCENT BLAST',\n",
       " 'BODYWASH | COLGATE-PALMOLIVE | SOFTSOAP',\n",
       " 'TOOTHPASTE | GSK | SENSODYNE | SENSODYNE | SENSODYNE BASE',\n",
       " 'SCENT BOOSTERS | SC JOHNSON',\n",
       " 'POUR APC+WW | P&G | MR CLEAN | MR CLEAN PROFESSIONAL | REM SUBBRAND VARIANT',\n",
       " 'POWER | P&G | ORAL-B | ORAL-B PULSAR | ORAL-B PULSAR CHARCOAL',\n",
       " 'MOUTHWASH | CHURCH & DWIGHT | ORAJEL',\n",
       " 'MANUAL | COLGATE-PALMOLIVE | COLGATE | COLGATE 360 | COLGATE 360 PREMIUM',\n",
       " 'WOOD | UNILEVER | SEVENTH GEN | SEVENTH GEN | REM SUBBRAND VARIANT',\n",
       " 'APC+WW | SC JOHNSON | SCJ REM FRN',\n",
       " 'TOOTHPASTE | COLGATE-PALMOLIVE | COLGATE | COLGATE FOR KIDS',\n",
       " 'BODYWASH | UNILEVER | CARESS | CARESS BASE | CARESS ORIG',\n",
       " 'BAR | COLGATE-PALMOLIVE | IRISH SPRING | 12 PK',\n",
       " 'BATTERY+HYBRID | P&G | ORAL-B | ORAL-B PROADVANTAGE',\n",
       " 'BAR | UNILEVER | CARESS',\n",
       " 'LIQUID | COLGATE-PALMOLIVE | SOFTSOAP | SFTSP GOOD | SOFTSOAP GOOD MOISTURE',\n",
       " 'MOUTHWASH | P&G | ORAL-B | ORAL-B SPECIAL CARE | ORAL-B BREATH THERAPY',\n",
       " 'POUR APC+WW | SC JOHNSON | PLEDGE',\n",
       " 'LIQUID',\n",
       " 'TOOTHPASTE | P&G | CREST | CREST 3D WHITE',\n",
       " 'MOUTHWASH | DR. HAROLD KTZ FRSH STRT LLC | THERA BREATH | THERA BREATH PERIO THRPY',\n",
       " 'TOOTHPASTE | COLGATE-PALMOLIVE | COLGATE | COLGATE ZERO | COLGATE ZERO ADULT',\n",
       " 'LIQUID | REM MFG | JR WATKINS | REM BRAND',\n",
       " 'BATTERY+HYBRID | COLGATE-PALMOLIVE | COLGATE | COLGATE 360 POWER | COLGATE 360 SONIC PWR',\n",
       " 'MANUAL | HIGH RIDGE BRANDS',\n",
       " 'TOOTHPASTE | COLGATE-PALMOLIVE | COLGATE | COLGATE RENEWAL | COLGATE RENEWAL WHT RESTORATION',\n",
       " 'APC+WW | P&G | 9 ELEMENTS | 9 ELEMENTS',\n",
       " 'FABRIC SOFTENERS | P&G | BOUNCE | BOUNCE W/FEBREZE',\n",
       " 'POWER | P&G | ORAL-B | ORAL-B CHARCOAL',\n",
       " 'MOUTHWASH | P&G | CREST | CREST PRO-HLTH | CREST PRO-HLTH BACTERIA GUARD',\n",
       " \"BAR | UNILEVER | SCHMIDT'S | SCHMIDT'S | SCHMIDT'S\",\n",
       " 'BODYWASH | UNILEVER | ST IVES | ST IVES BASE',\n",
       " 'TOOTHPASTE | COLGATE-PALMOLIVE | COLGATE | COLGATE TOTAL',\n",
       " 'APC+WW | P&G | 9 ELEMENTS | 9 ELEMENTS | REM SUBBRAND VARIANT',\n",
       " 'BAR | P&G | IVORY | IVORY BASE | IVORY BASE',\n",
       " 'APC+WW | SC JOHNSON | PLEDGE | PLEDGE FURNITURE | PLEDGE FURNITURE ORANGE',\n",
       " 'BODYWASH | J&J | AVEENO | AVEENO',\n",
       " 'WOOD | BONA | BONA',\n",
       " 'BATTERY+HYBRID | P&G',\n",
       " 'LDL/DISHAIDS/WPS/FM/SPRAYS | COLGATE-PALMOLIVE | PALMOLIVE | POL ESSENTIAL CLEAN',\n",
       " 'BODYWASH | UNILEVER | DOVE FEMALE | DOVE | DOVE MOUSSE',\n",
       " 'BODYWASH | P&G | KIWI NATURALS | KIWI NATURALS',\n",
       " 'FABRIC SOFTENERS | HENKEL | SUN CUDDLE SOFT | SUN CUDDLE SOFT',\n",
       " 'POWER | PHILIPS | SONICARE | SONICARE DIAMOND CLEAN | SONICARE BASE REM',\n",
       " 'MANUAL | P&G | ORAL-B | ORAL-B PRO-HEALTH | ORAL-B PROADVANTAGE',\n",
       " 'MANUAL | COLGATE-PALMOLIVE | TOMS OF MAINE | TOMS OF MAINE | TOMS CHARCOAL',\n",
       " 'BODYWASH | UNILEVER | LOVE BEAUTY AND PLANET',\n",
       " 'WHITENING SYS | PRVT LBL',\n",
       " 'LIQUID | UNILEVER | DOVE',\n",
       " 'POUR APC+WW | COLGATE-PALMOLIVE | AJAX US | AJAX MULTI PURPOSE | AJAX MLTI PRPS ORANGE',\n",
       " 'APC+WW | PRVT LBL | PRVT LBL | PRVT LBL',\n",
       " 'MANUAL | HIGH RIDGE BRANDS | REACH | REACH ESSENTIALS | REACH ESSENTIALS',\n",
       " 'LIQUID | UNILEVER | LIFEBUOY | LIFEBUOY | LIFEBUOY',\n",
       " 'LIQUID | COLGATE-PALMOLIVE | SOFTSOAP | SFTSP GOOD',\n",
       " 'BODYWASH | P&G | OLAY | OLAY BASE | OLAY CLEANSING INFUSION',\n",
       " 'SCENT BOOSTERS',\n",
       " 'POUR APC+WW | P&G | MR CLEAN | MR CLEAN W/ FEBREZE | MR CLEAN W/FEBRZ MEADOWS&RAIN',\n",
       " 'BODYWASH | MALE | DOVE MALE',\n",
       " 'BAR | UNILEVER | DOVE | DOVE | DOVE REM',\n",
       " 'LIQUID | UNILEVER | LOVE BEAUTY AND PLANET | LOVE BEAUTY AND PLANET | LOVE BEAUTY AND PLANET',\n",
       " 'BODYWASH | J&J | NEUTROGENA | NEUTROGENA',\n",
       " 'BODYWASH | P&G | OLAY | GIFT SET',\n",
       " 'BODYWASH | UNILEVER | DOVE FEMALE',\n",
       " 'FABRIC SOFTENERS | HENKEL | ALL | ALL',\n",
       " 'LDL/DISHAIDS/WPS/FM/SPRAYS | SC JOHNSON | METHOD | METHOD',\n",
       " 'LIQUID | COLGATE-PALMOLIVE | SOFTSOAP | SFTSP BETTER | SOFTSOAP BETTER FRAG FOAM',\n",
       " 'BAR | UNILEVER | NUBIAN HERITAGE | UNILEVER REM BR | UNILEVER REM SBR',\n",
       " 'APC+WW | CHURCH & DWIGHT | ORANGE GLO',\n",
       " 'APC+WW | CLOROX | PINE SOL | PINE-SOL SQUIRT&MOP | PINE SOL SQUIRT&MOP PINE',\n",
       " 'MOUTHWASH | J&J | LISTERINE | LISTERINE ZERO',\n",
       " 'TOOTHPASTE | P&G | THEORY',\n",
       " 'MANUAL | P&G | CREST | CREST KIDS | CREST KIDS REM',\n",
       " 'LIQUID | UNILEVER | LIFEBUOY',\n",
       " 'BODYWASH | MALE | SUAVE',\n",
       " 'LIQUID | HENKEL | DIAL | DIAL GOOD | DIAL BASE MOISTURE',\n",
       " 'LDL/DISHAIDS/WPS/FM/SPRAYS | COLGATE-PALMOLIVE | PALMOLIVE | POL VINEGAR',\n",
       " 'SCENT BOOSTERS | HENKEL | SNUGGLE | SNUGGLE PLUS SUPER FRESH',\n",
       " 'SHEETS | COLGATE-PALMOLIVE | SUAVITEL US',\n",
       " 'TOOTHPASTE | COLGATE-PALMOLIVE | COLGATE | COLGATE FOR KIDS | COLGATE KIDS',\n",
       " 'APC+WW | RECKITT/BENK | LYSOL | LYSOL W/BLEACH',\n",
       " 'LDL/DISHAIDS/WPS/FM/SPRAYS | SC JOHNSON | MRS MEYERS | MRS MEYERS',\n",
       " 'MANUAL | P&G | ORAL-B | ORAL-B 3D WHITE | ORAL-B 3D WHITE PREMIUM',\n",
       " 'POWER | CHURCH & DWIGHT | REM FRANCHISE | REM BRAND | REM SUBBRAND',\n",
       " 'BODYWASH | P&G | OLD SPICE',\n",
       " 'BATTERY+HYBRID | PHILIPS | SONICARE | SONICARE ONE | SONICARE ONE BASE',\n",
       " \"MOUTHWASH | UNILEVER | SCHMIDT'S\",\n",
       " 'APC+WW | RECKITT/BENK | MOP & GLO | MOP&GLO',\n",
       " 'APC+WW | CLOROX | CLOROX | CLOROX SCENTIVA | CLOROX SCENTIVA PCF BRZ & CCNT',\n",
       " 'MOUTHWASH | P&G | CREST | CREST PRO-HLTH',\n",
       " 'MOUTHWASH | J&J | LISTERINE | LISTERINE ANTISEPTIC | LISTERINE BASE',\n",
       " 'BODYWASH | HENKEL | TONE | TONE BASE | TONE MST',\n",
       " 'TOOTHPASTE | COLGATE-PALMOLIVE | SUPER PREMIUM',\n",
       " 'FABRIC SOFTENERS | HENKEL | SNUGGLE | SNUGGLE BASE',\n",
       " 'MOUTHWASH | CHURCH & DWIGHT | ORAJEL | ORAJEL | ORAJEL ANTISEPTIC FRESHING',\n",
       " 'TOOTHPASTE | P&G | CREST | CREST BASE | CREST FRESH & WHITE',\n",
       " 'APC+WW | RECKITT/BENK | LYSOL | LYSOL ALL PURPOSE | LYSOL ALL PURPOSE ADIRONDK AIR',\n",
       " 'BODYWASH | P&G | NATIVE',\n",
       " 'MOUTHWASH | J&J | LISTERINE | LISTERINE NATURALS | LISTERINE NATURALS ANTISEPTIC',\n",
       " 'LIQUID FS | SC JOHNSON | METHOD',\n",
       " 'BAR | P&G | IVORY | IVORY BASE',\n",
       " 'POWER | P&G | ORAL-B | ORAL-B PRO',\n",
       " 'WOOD | SC JOHNSON | SCJ REM FRN | SC JOHNSON REM | REM SUBBRAND VARIANT',\n",
       " 'FABRIC SOFTENERS | HENKEL | ALL',\n",
       " 'MANUAL | P&G | ORAL-B | ORAL-B KIDS | ORAL-B KIDS CROSS ACTION',\n",
       " 'MOUTHWASH | DR. HAROLD KTZ FRSH STRT LLC | THERA BREATH | THERA BREATH | THERA BREATH',\n",
       " 'BAR | UNILEVER | NUBIAN HERITAGE | UNILEVER REM BR',\n",
       " 'BODYWASH | UNILEVER | SEVENTH GEN | SEVENTH GEN | SEVENTH GEN',\n",
       " 'TOOTHPASTE | COLGATE-PALMOLIVE | TOMS | TOMS WHITENING | TOMS SIMPLY WHITE',\n",
       " 'LIQUID | VI-JON',\n",
       " 'APC+WW | ALEN | PINALEN | PINALEN | PINALEN FRUIT BLOSSOM',\n",
       " 'WOOD | SC JOHNSON | METHOD | METHOD WD FGD',\n",
       " 'BODYWASH | BEIERSDORF | NIVEA',\n",
       " 'POWER | PHILIPS | SONICARE | SONICARE ESSENCE | SONICARE BASE REM',\n",
       " 'LIQUID | P&G | SAFEGUARD | SAFEGUARD | SAFEGUARD',\n",
       " 'POUR APC+WW | RECKITT/BENK | LYSOL | LYSOL ALL PURPOSE | LYSOL ALL PURPOSE PACIFIC FRSH',\n",
       " 'LDL/DISHAIDS/WPS/FM/SPRAYS | COLGATE-PALMOLIVE | PALMOLIVE | POL SOFT TOUCH',\n",
       " 'APC+WW | RECKITT/BENK | RECKITT/BENK REM',\n",
       " 'BODYWASH | HENKEL | DIAL | DIAL BASE | DIAL BASE KIDS',\n",
       " 'LIQUID | UNILEVER | LIFEBUOY | LIFEBUOY',\n",
       " 'POWER | PHILIPS | SONICARE | SONICARE PROTECTIVE CLEAN | SONICARE BASE REM',\n",
       " 'FABRIC SOFTENERS | P&G | BOUNCE',\n",
       " 'APC+WW | CHURCH & DWIGHT | ORANGE GLO | ORANGE GLO | REM SUBBRAND VARIANT',\n",
       " 'MOUTHWASH | PRVT LBL | PRVT LBL | PRVT LBL GUM PROTECTION | PRVT LBL ORAJEL ANTSPT',\n",
       " 'LDL/DISHAIDS/WPS/FM/SPRAYS | P&G | DAWN',\n",
       " 'LDL/DISHAIDS/WPS/FM/SPRAYS | COLGATE-PALMOLIVE | AJAX',\n",
       " 'MOUTHWASH | J&J | LISTERINE | LISTERINE NATURALS | LISTERINE NATURALS ANTCVT',\n",
       " 'MOUTHWASH | J&J | LISTERINE | LISTERINE KIDS',\n",
       " 'MANUAL | P&G | ORAL-B | ORAL-B KIDS | ORAL-B KIDS REM',\n",
       " 'TOOTHPASTE | P&G | NATIVE | NATIVE | NATIVE ADULT',\n",
       " 'BODYWASH | HENKEL | DIAL | DIAL BASE | DIAL REM',\n",
       " 'POUR APC+WW | COLGATE-PALMOLIVE | FABULOSO IMPORT | FABULOSO IMPORT',\n",
       " 'MOUTHWASH | SANOFI | ACT | ACT ANTICAVITY | ACT ANTCVT BRACES CARE',\n",
       " 'BODYWASH | P&G | OLAY | OLAY BASE | OLAY ULTRA MOIST',\n",
       " 'MOUTHWASH | COLGATE-PALMOLIVE | TOMS | TOMS SEA SALT | TOMS SEA SALT',\n",
       " 'POUR APC+WW | COLGATE-PALMOLIVE | FABULOSO US | FABULOSO BASE | FABULOSO BSE REFRESHING LEMON',\n",
       " 'LIQUID | SC JOHNSON | MRS MEYERS | MRS MEYERS FOAM',\n",
       " 'FABRIC SOFTENERS | P&G | BOUNCE | BOUNCE BASE',\n",
       " 'LIQUID FS | P&G | DOWNY US | DOWNY NATURE BLENDS',\n",
       " 'POUR APC+WW | ALEN | ALEN REM',\n",
       " 'TOOTHPASTE | GSK | SENSODYNE | SENSODYNE | SENSODYNE SENSITIVITY & GUM',\n",
       " 'TOOTHPASTE | COLGATE-PALMOLIVE | TOMS | TOMS WHOLE CARE',\n",
       " 'POWER | P&G | ORAL-B | ORAL-B IO | ORAL-B IO REFILL',\n",
       " 'BAR | COLGATE-PALMOLIVE | IRISH SPRING',\n",
       " 'SHEETS | HENKEL | SNUGGLE',\n",
       " 'MOUTHWASH | PRVT LBL | PRVT LBL | PRVT LBL MULTI-BENEFIT',\n",
       " 'LIQUID FS | P&G | DOWNY US',\n",
       " 'POWER | CHURCH & DWIGHT | WATERPIK | WATERPIK | CHURCH & DWIGHT REM',\n",
       " 'SCENT BOOSTERS | P&G | DOWNY US | DOWNY ODOR PROTECT',\n",
       " 'APC+WW | P&G | NBD | NBD',\n",
       " 'POUR APC+WW | CLOROX | PINE SOL | PINE-SOL | PINE SOL TROPICAL FLOWERS',\n",
       " 'POWER | PHILIPS | SONICARE | SONICARE ONE | SONICARE ONE REFILL',\n",
       " 'POUR APC+WW | COLGATE-PALMOLIVE | FABULOSO US | FABULOSO BASE | FABULOSO BSE LAVENDER',\n",
       " 'MANUAL | P&G | ORAL-B | ORAL-B CHARCOAL | ORAL-B CHARCOAL WHTNG THERAPY',\n",
       " 'TOOTHPASTE | COLGATE-PALMOLIVE | TOMS | TOMS ANTICAVITY | TOMS ANTICAVITY BASE',\n",
       " 'WOOD | SC JOHNSON | PLEDGE | PLEDGE FURNITURE',\n",
       " 'APC+WW | COLGATE-PALMOLIVE | FABULOSO US | FABULOSO COMPLETE | FABULOSO COMPLETE LEMON',\n",
       " 'APC+WW | RECKITT/BENK | LYSOL | LYSOL ALL PURPOSE | LYSOL ALL PRPS CLN FRS PEONY',\n",
       " 'MANUAL | P&G | ORAL-B | ORAL-B GUM CARE',\n",
       " 'LDL/DISHAIDS/WPS/FM/SPRAYS | P&G | HOME MADE SIMPLE | HOME MADE SIMPLE',\n",
       " 'TOOTHPASTE | COLGATE-PALMOLIVE | TOMS | TOMS SENSITIVE | TOMS SENSITIVE RAPID RELIEF',\n",
       " 'MOUTHWASH | SANOFI | ACT | ACT ANTICAVITY',\n",
       " 'POUR APC+WW | COLGATE-PALMOLIVE | FABULOSO US | FABULOSO BASE | FABULOSO MAXIMUM CLEAN FRESH',\n",
       " 'LIQUID | P&G | NBD | NBD | NBD',\n",
       " 'POWER | SUNSTAR AMERICA | BUTLER',\n",
       " 'BAR | UNILEVER | UNILEVER REM FRN | UNILEVER REM BR',\n",
       " 'TOOTHPASTE | P&G | CREST | CREST KIDS',\n",
       " 'LIQUID FS | SC JOHNSON | METHOD | METHOD',\n",
       " 'BATTERY+HYBRID | PRVT LBL',\n",
       " 'POWER | CHURCH & DWIGHT | WATERPIK | REM BRAND',\n",
       " 'TOOTHPASTE | P&G | REM FRANCHISE',\n",
       " 'TOOTHPASTE | COLGATE-PALMOLIVE | COLGATE | COLGATE MAX FRANCHISE | COLGATE MAX KNOCKOUT',\n",
       " 'MOUTHWASH | P&G | SCOPE',\n",
       " 'BODYWASH | HENKEL | DIAL | DIAL BASE | DIAL OMEGA',\n",
       " 'TOOTHPASTE | P&G | ARC',\n",
       " 'LDL/DISHAIDS/WPS/FM/SPRAYS | PRVT LBL | PRVT LBL | PRVT LBL',\n",
       " 'BODYWASH | P&G | AUSSIE KIDS | P&G REM BR',\n",
       " 'TOOTHPASTE | CHURCH & DWIGHT | VALUE',\n",
       " 'BAR | UNILEVER | UNILEVER REM FRN | UNILEVER REM BR | UNILEVER REM SBR',\n",
       " 'LIQUID FS | P&G | NBD | NBD',\n",
       " 'MOUTHWASH | PRVT LBL | PRVT LBL | PRVT LBL MULTI-BENEFIT | PRVT LBL CRST PRO-HLTH MLT PRT',\n",
       " 'BATTERY+HYBRID | PRVT LBL | PRVT LBL | PRVT LBL | PRVT LBL ADULT',\n",
       " 'MFR Sun Products LDL',\n",
       " 'FABRIC SOFTENERS | P&G | BOUNCE | BOUNCE PET HAIR & LINT GUARD',\n",
       " 'MOUTHWASH | SANOFI | ACT | ACT RESTORING | ACT RESTORING ANTCVT',\n",
       " 'FABRIC SOFTENERS | ALEN | ENSUENO | ENSUENO',\n",
       " 'MOUTHWASH | J&J | LISTERINE | LISTERINE WHITENING | LISTERINE WHT HLTHY WHT VBRNT',\n",
       " 'LDL/DISHAIDS/WPS/FM/SPRAYS | P&G | NBD',\n",
       " 'APC+WW | P&G | SWIFFER | SWIFFER WET JET | REM SUBBRAND VARIANT',\n",
       " 'APC+WW | RECKITT/BENK | RECKITT/BENK REM | RECKITT/BENK REM | REM SUBBRAND VARIANT',\n",
       " 'TOOTHPASTE | P&G | CREST | CREST 3D WHITE | CREST REM',\n",
       " 'MOUTHWASH | P&G | CREST | CREST PRO-HLTH | CREST PRO-HLTH CLINICAL',\n",
       " 'FABRIC SOFTENERS | P&G | GAIN | GAIN FIREWORKS',\n",
       " 'BODYWASH | FEMALE',\n",
       " 'APC+WW | SC JOHNSON | METHOD | METHOD REM | REM SUBBRAND VARIANT',\n",
       " 'LIQUID FS | ALEN | ENSUENO | ENSUENO',\n",
       " 'MANUAL | COLGATE-PALMOLIVE',\n",
       " 'MANUAL | COLGATE-PALMOLIVE | HELLO',\n",
       " 'LIQUID | REFILL | DIAL',\n",
       " 'APC+WW | ALEN | ALEN REM',\n",
       " 'SHEETS | HENKEL | SNUGGLE | SNUGGLE PLUS SUPER FRESH',\n",
       " 'BEAD FS',\n",
       " 'APC+WW | COLGATE-PALMOLIVE | FABULOSO US | FABULOSO BASE | FABULOSO BSE PASSION OF FRUITS',\n",
       " 'MOUTHWASH | J&J | LISTERINE | REM BRAND',\n",
       " 'APC+WW | ALEN | FLASH | FLASH | REM SUBBRAND VARIANT',\n",
       " 'BODYWASH | P&G | IVORY',\n",
       " 'LIQUID FS | P&G | DOWNY US | DOWNY INTENSE',\n",
       " 'LIQUID FS | P&G | GAIN | GAIN NON-CONCENTRATE',\n",
       " 'MOUTHWASH | PRVT LBL | PRVT LBL | PRVT LBL MULTI-BENEFIT | PRVT LBL LIST TTL CARE ANTCVT',\n",
       " 'POWER | SUNSTAR AMERICA | BUTLER | G-U-M | G-U-M KIDS',\n",
       " \"TOOTHPASTE | P&G | BURT'S BEES\",\n",
       " 'MOUTHWASH | COLGATE-PALMOLIVE | COLGATE | COLGATE HYDRIS',\n",
       " 'FABRIC SOFTENERS | P&G | DOWNY US | DOWNY BASE',\n",
       " 'MOUTHWASH | J&J | LISTERINE | LISTERINE WHITENING | LISTERINE WHT HLTHY WHT RESTR',\n",
       " 'LIQUID | COLGATE-PALMOLIVE | TOMS OF MAINE | TOMS PREBIOTIC | TOMS PREBIOTIC',\n",
       " 'MANUAL | HIGH RIDGE BRANDS | REACH | REACH CRYSTAL CLEAN | REACH REM',\n",
       " 'TOOTHPASTE | COLGATE-PALMOLIVE | COLGATE | COLGATE ENAMEL HEALTH',\n",
       " 'BODYWASH | P&G | OLAY | OLAY BASE | OLAY SENSITIVE',\n",
       " 'POWER | P&G | ORAL-B | ORAL-B CROSS ACTION',\n",
       " 'LIQUID | CHURCH & DWIGHT',\n",
       " 'FABRIC SOFTENERS | HENKEL | SNUGGLE | SNUGGLE NON-CONCENTRATE',\n",
       " 'POUR APC+WW | COLGATE-PALMOLIVE | FABULOSO US | FABULOSO COMPLETE | FABULOSO COMPLETE FLORAL BURST',\n",
       " 'WOOD | CHURCH & DWIGHT | ORANGE GLO | ORANGE GLO | REM SUBBRAND VARIANT',\n",
       " 'WOOD | UNILEVER',\n",
       " 'LIQUID | HENKEL | DIAL | DIAL GOOD | DIAL BASE FRAG',\n",
       " 'POWER | PHILIPS | SONICARE | SONICARE PROTECTIVE CLEAN',\n",
       " 'LIQUID | REFILL | DIAL | DIAL BETTER',\n",
       " 'BODYWASH | UNILEVER | SHEA MOISTURE | SHEA MOISTURE ADULT | UNILEVER REM SBR',\n",
       " 'LDL/DISHAIDS/WPS/FM/SPRAYS | P&G | DAWN | DAWN AB',\n",
       " \"WOOD | COLGATE-PALMOLIVE | MURPHY'S\",\n",
       " 'BODYWASH | UNILEVER | CARESS | CARESS BASE',\n",
       " 'APC+WW | CLOROX | CLOROX | CLOROX SCENTIVA',\n",
       " 'TOOTHPASTE | GSK | AQUAFRESH | AQ-F BASE',\n",
       " 'LDL/DISHAIDS/WPS/FM/SPRAYS | P&G | DAWN | DAWN GENTLE CLEAN',\n",
       " 'BODYWASH | MALE | POWER STICK',\n",
       " 'WOOD | CHURCH & DWIGHT',\n",
       " 'POUR APC+WW | RECKITT/BENK | LYSOL | LYSOL ALL PURPOSE | LYSOL ALL PRPS CLN FRS SPK LEM',\n",
       " 'MOUTHWASH | SANOFI | ACT | ACT TOTAL CARE | ACT TOTAL CARE ORIG',\n",
       " 'LIQUID | PUMP | DIAL',\n",
       " 'TOOTHPASTE | COLGATE-PALMOLIVE | COLGATE | COLGATE ESSENTIALS | COLGATE ESSENTIALS CHARCOAL',\n",
       " 'APC+WW | P&G | MR CLEAN | MR CLEAN ANTIBACTERIAL',\n",
       " 'POUR APC+WW | CLOROX | PINE SOL | PINE-SOL',\n",
       " 'SCENT BOOSTERS | PRVT LBL | PRVT LBL',\n",
       " 'APC+WW | SC JOHNSON | SCJ REM FRN | SC JOHNSON REM',\n",
       " 'BODYWASH | UNILEVER | DOVE FEMALE | DOVE | DOVE DRY OIL',\n",
       " 'APC+WW | RECKITT/BENK | LYSOL | LYSOL ALL PURPOSE | LYSOL ALL PURPOSE TROPICAL',\n",
       " 'BATTERY+HYBRID | P&G | ORAL-B | ORAL-B 3D WHITE BATTERY',\n",
       " 'MANUAL | HIGH RIDGE BRANDS | REACH | REACH ESSENTIALS',\n",
       " 'LIQUID | P&G | SAFEGUARD | SAFEGUARD | SAFEGUARD MICELLAR DP CLEANSNG',\n",
       " 'POUR APC+WW | CLOROX | CLOROX | CLOROX ALL PURP | REM SUBBRAND VARIANT',\n",
       " 'POWER | PHILIPS | SONICARE | SONICARE ONE | SONICARE ONE BASE',\n",
       " 'MOUTHWASH | PRVT LBL | PRVT LBL | PRVT LBL FRESH | PRVT LBL SCOPE OUTLAST',\n",
       " 'APC+WW | COLGATE-PALMOLIVE | FABULOSO US | FABULOSO ANTIBACTERIAL',\n",
       " 'BAR | BRYNWOOD PARTNERS',\n",
       " 'MOUTHWASH | TRIUMPH PHARMACEUTICALS INC | SMART MOUTH',\n",
       " 'LIQUID FS | P&G',\n",
       " 'TOOTHPASTE | COLGATE-PALMOLIVE | TOMS | TOMS FLUORIDE FREE',\n",
       " 'APC+WW | P&G | SWIFFER | SWIFFER WET JET',\n",
       " 'POUR APC+WW | CLOROX | CLOROX | CLOROX FRAGANZIA | CLOROX FRAGANZIA SPRING',\n",
       " 'FABRIC SOFTENERS | P&G | GAIN',\n",
       " 'POWER | CHURCH & DWIGHT | WATERPIK',\n",
       " 'BODYWASH | P&G | IVORY | IVORY BASE | IVORY',\n",
       " 'FABRIC SOFTENERS | COLGATE-PALMOLIVE | SUAVITEL US | SUAVITEL NON CONCENTRATE',\n",
       " 'SHEETS',\n",
       " \"WOOD | COLGATE-PALMOLIVE | MURPHY'S | MURPHY'S PROFESSIONAL | MURPHY'S PROFESSIONAL ORG POUR\",\n",
       " \"APC+WW | COLGATE-PALMOLIVE | MURPHY'S | MURPHY'S PROFESSIONAL\",\n",
       " 'POUR APC+WW | COLGATE-PALMOLIVE | AJAX US | AJAX MULTI PURPOSE | AJAX MLTI PRPS LIME BKNG SODA',\n",
       " 'APC+WW | CLOROX | PINE SOL | PINE-SOL',\n",
       " 'MANUAL | P&G | ORAL-B | ORAL-B INDICATOR | ORAL-B INDICATOR BASE',\n",
       " 'APC+WW | ALEN | FLASH',\n",
       " 'APC+WW | P&G | MR CLEAN | MR CLEAN CLEAN FREAK | MR CLEAN LAVENDER',\n",
       " 'MANUAL | HIGH RIDGE BRANDS | REACH | REACH KIDS | REACH KIDS',\n",
       " 'TOOTHPASTE | COLGATE-PALMOLIVE | COLGATE | COLGATE ULTRA | COLGATE ULTRA RELIEF',\n",
       " 'MANUAL | COLGATE-PALMOLIVE | COLGATE | COLGATE KIDS | COLGATE BABY',\n",
       " 'BODYWASH | UNILEVER | NUBIAN HERITAGE | UNILEVER REM BR | UNILEVER REM SBR',\n",
       " 'BAR | HENKEL | DIAL',\n",
       " 'POUR APC+WW | COLGATE-PALMOLIVE | FABULOSO US | FABULOSO BASE | FABULOSO BSE APPLE VINEGAR',\n",
       " 'LIQUID FS | P&G | GAIN | GAIN BASE',\n",
       " 'POUR APC+WW | CLOROX | CLOROX REM | CLOROX REM BRAND | REM SUBBRAND VARIANT',\n",
       " 'TOOTHPASTE | DR BRONNERS',\n",
       " 'APC+WW | CLOROX | CLOROX | CLOROX CLEAN UP',\n",
       " 'APC+WW | RECKITT/BENK | LYSOL | LYSOL ALL PURPOSE | LYSOL ALL PRPS CLN FRS SPK LEM',\n",
       " 'LDL/DISHAIDS/WPS/FM/SPRAYS | SC JOHNSON | MRS MEYERS',\n",
       " 'POUR APC+WW | COLGATE-PALMOLIVE | AJAX US',\n",
       " 'SHEETS | P&G | DOWNY US | DOWNY WRINKLE GUARD',\n",
       " 'TOOTHPASTE | COLGATE-PALMOLIVE | COLGATE | COLGATE ENAMEL HEALTH | COLGATE ENAMEL HEALTH WHTNING',\n",
       " 'APC+WW | CHURCH & DWIGHT | A&H | A&H REM',\n",
       " 'BATTERY+HYBRID | P&G | GLEEM | GLEEM',\n",
       " 'BODYWASH | HENKEL | DIAL | DIAL BASE | DIAL MIRACLE OIL',\n",
       " 'BODYWASH | UNILEVER | NUBIAN HERITAGE | UNILEVER REM BR',\n",
       " 'BODYWASH | P&G | OLD SPICE | OLD SPICE BASE',\n",
       " 'TOOTHPASTE | GSK | PARODONTAX',\n",
       " 'BODYWASH | HENKEL | TONE | TONE BASE | TONE REVITALIZING',\n",
       " 'TOOTHPASTE | MY MAGIC MUD | MY MAGIC MUD | MY MAGIC MUD',\n",
       " 'LDL/DISHAIDS/WPS/FM/SPRAYS | P&G',\n",
       " 'MOUTHWASH | PRVT LBL | PRVT LBL | PRVT LBL DRY MOUTH',\n",
       " 'LDL/DISHAIDS/WPS/FM/SPRAYS | UNILEVER | SEVENTH GEN',\n",
       " 'BATTERY+HYBRID | HIGH RIDGE BRANDS | DR FRESH',\n",
       " 'APC+WW | CLOROX | CLOROX | CLOROX ALL PURP | CLOROX ALL PURP CITRUS',\n",
       " 'TOOTHPASTE | COLGATE-PALMOLIVE | COLGATE | COLGATE BASE | COLGATE TRIPLE ACTION',\n",
       " 'MOUTHWASH | GSK | GSK REM | POLIDENT | POLIDENT PRO+PARTIAL',\n",
       " 'TOOTHPASTE | GSK | SENSODYNE | SENSODYNE | SENSODYNE REPAIR AND PROTECT',\n",
       " 'BATTERY+HYBRID | P&G | ORAL-B | ORAL-B BATTERY BASE REM | ORAL-B REM',\n",
       " 'POWER | P&G | ORAL-B | ORAL-B IO',\n",
       " 'BODYWASH | P&G | OLAY | GIFT SET | GIFT SET SB',\n",
       " 'APC+WW | SC JOHNSON | METHOD | METHOD OMOP',\n",
       " 'POUR APC+WW | COLGATE-PALMOLIVE | FABULOSO US | FABULOSO COMPLETE | FABULOSO COMPLETE COOL MIST',\n",
       " 'BATTERY+HYBRID | COLGATE-PALMOLIVE | COLGATE',\n",
       " 'SHEETS | COLGATE-PALMOLIVE',\n",
       " 'ABRASIVE | COLGATE-PALMOLIVE | AJAX US | AJAX US',\n",
       " 'BODYWASH | J&J | MAUI MOISTURE | MAUI MOISTURE',\n",
       " 'APC+WW | COLGATE-PALMOLIVE | FABULOSO US | FABULOSO COMPLETE | FABULOSO COMPLETE COOL MIST',\n",
       " 'BAR | COLGATE-PALMOLIVE | IRISH SPRING | 2 PK',\n",
       " 'LIQUID FS | SC JOHNSON | REM FRANCHISE',\n",
       " 'BODYWASH | COLGATE-PALMOLIVE | SOFTSOAP | SOFTSOAP | SOFTSOAP HYDRA BLISS',\n",
       " 'LIQUID | UNILEVER | DOVE | DOVE REM',\n",
       " 'MOUTHWASH | J&J | LISTERINE | LISTERINE ULTRA CLEAN | LISTERINE ULTRA CLEAN COOL MNT',\n",
       " 'MOUTHWASH | PRVT LBL | PRVT LBL | REM BRAND | REM SUBBRAND',\n",
       " 'FABRIC SOFTENERS | HENKEL | SNUGGLE',\n",
       " 'BAR | COLGATE-PALMOLIVE | PALMOLIVE | COLGATE REM',\n",
       " 'BATTERY+HYBRID | P&G | ORAL-B | ORAL-B CHARCOAL',\n",
       " 'POWER | P&G | ORAL-B | ORAL-B VITALITY',\n",
       " 'APC+WW | COLGATE-PALMOLIVE | FABULOSO IMPORT | FABULOSO IMPORT',\n",
       " 'FABRIC SOFTENERS | COLGATE-PALMOLIVE | SUAVITEL US | SUAVITEL COMPLETE',\n",
       " 'LIQUID | HENKEL',\n",
       " 'LIQUID | SC JOHNSON',\n",
       " 'BATTERY+HYBRID | CHURCH & DWIGHT',\n",
       " 'LIQUID | UNILEVER | SUAVE',\n",
       " 'BODYWASH | P&G | OLD SPICE | OLD SPICE PREM | OS FRESH',\n",
       " 'BODYWASH | J&J | NEUTROGENA | GIFT SET | GIFT SET SB',\n",
       " 'TOOTHPASTE | P&G | CREST | CREST COMPLETE | CREST PLUS PREMIUM SENSITIVE',\n",
       " 'MOUTHWASH | P&G | FIXODENT',\n",
       " 'APC+WW | COLGATE-PALMOLIVE | FABULOSO US | FABULOSO COMPLETE | FABULOSO COMPLETE FLORAL BURST',\n",
       " 'BAR | UNILEVER | LOVE BEAUTY AND PLANET | LOVE BEAUTY AND PLANET | LOVE BEAUTY AND PLANET',\n",
       " 'LIQUID | PRVT LBL | REFILL',\n",
       " 'BODYWASH | P&G | OLD SPICE | OLD SPICE PREM',\n",
       " 'BATTERY+HYBRID | HIGH RIDGE BRANDS',\n",
       " 'POUR APC+WW | P&G | MR CLEAN | MR CLEAN W/ FEBREZE | MR CLEAN W/FEBRZ PET ODOR DEF',\n",
       " 'APC+WW | CLOROX | REAL SIMPLE',\n",
       " 'BATTERY+HYBRID | PHILIPS',\n",
       " 'BAR | UNILEVER | CARESS | CARESS BASE',\n",
       " 'BODYWASH | UNILEVER | DOVE FEMALE | DOVE | DOVE ORG',\n",
       " 'BODYWASH | FEMALE | TONE',\n",
       " 'TOOTHPASTE | GSK | BIOTENE',\n",
       " 'TOOTHPASTE | PRVT LBL',\n",
       " 'LIQUID | HENKEL | DIAL | DIAL BETTER',\n",
       " 'APC+WW | RECKITT/BENK',\n",
       " 'MOUTHWASH | COLGATE-PALMOLIVE | COLGATE | COLGATE PHOS-FLUR',\n",
       " 'POUR APC+WW | COLGATE-PALMOLIVE | FABULOSO US | FABULOSO COMPLETE',\n",
       " 'MOUTHWASH | PRVT LBL | PRVT LBL | PRVT LBL MULTI-BENEFIT | PRVT LBL CRST PRO-HLTH ADV',\n",
       " 'APC+WW | CLOROX | CLOROX | CLOROX ALL PURP | CLOROX ALL PURP FRESH',\n",
       " 'APC+WW | P&G | MR CLEAN',\n",
       " 'TOOTHPASTE | COLGATE-PALMOLIVE | TOMS | TOMS FRESH BREATH | TOMS WICKED FRESH',\n",
       " 'BAR | HIGH RIDGE BRANDS | ZEST',\n",
       " \"POUR APC+WW | COLGATE-PALMOLIVE | MURPHY'S | MURPHY'S PROFESSIONAL\",\n",
       " 'POWER | PRVT LBL | PRVT LBL',\n",
       " 'TOOTHPASTE | COLGATE-PALMOLIVE | COLGATE | COLGATE ULTRA | COLGATE ULTRA FRESH',\n",
       " 'ABRASIVE | PRVT LBL | PRVT LBL | PRVT LBL',\n",
       " 'APC+WW | BONA | BONA | BONA REM',\n",
       " 'BAR | PRVT LBL',\n",
       " 'MOUTHWASH | J&J | LISTERINE | LISTERINE ZERO | LISTERINE ZERO LIMITED EDITION',\n",
       " 'BODYWASH | COLGATE-PALMOLIVE | SOFTSOAP | SOFTSOAP | SOFTSOAP BDY BUTTER',\n",
       " 'APC+WW | RECKITT/BENK | LYSOL | LYSOL ALL PURPOSE | LYSOL ALL PURPOSE PACIFIC FRSH',\n",
       " 'MOUTHWASH | PRVT LBL | PRVT LBL | PRVT LBL DRY MOUTH | PRVT LBL BTNE DRY MOUTH',\n",
       " 'BODYWASH | UNILEVER | AXE | AXE',\n",
       " 'BODYWASH | COLGATE-PALMOLIVE',\n",
       " 'POUR APC+WW | SC JOHNSON | PLEDGE | PLEDGE MULTI SRF | REM SUBBRAND VARIANT',\n",
       " 'BODYWASH | MALE',\n",
       " 'LDL/DISHAIDS/WPS/FM/SPRAYS | COLGATE-PALMOLIVE | PALMOLIVE | PALMOLIVE SPRAY',\n",
       " 'POWER | PHILIPS | SONICARE | SONICARE PLAQUE CONTROL | SONICARE EXPERT CLEAN',\n",
       " 'BODYWASH | P&G | HERBAL ESSENCES | HERBAL ESSENCES',\n",
       " 'MOUTHWASH | PRVT LBL | PRVT LBL | PRVT LBL WHITENING | PRVT LBL LIST WHT RESTR',\n",
       " 'POWER | PHILIPS | SONICARE | SONICARE KIDS | SONICARE BASE REM',\n",
       " 'APC+WW | CLOROX | PINE SOL | PINE-SOL | PINE SOL LAVENDER',\n",
       " 'SCENT BOOSTERS | P&G | GAIN | GAIN FIREWORKS',\n",
       " 'MOUTHWASH | SANOFI | ACT | ACT TOTAL CARE | ACT TOTAL CARE SENS',\n",
       " 'BAR | P&G | OLD SPICE | OLD SPICE | OS FRESH',\n",
       " 'BODYWASH | SC JOHNSON | METHOD | METHOD',\n",
       " 'TOOTHPASTE | COLGATE-PALMOLIVE | TOMS | TOMS WHITENING',\n",
       " 'APC+WW | CLOROX',\n",
       " 'POWER | P&G | ORAL-B | ORAL-B COMPLETE BATTERY | ORAL-B CMP ACT PWR ANTI MICRO',\n",
       " 'POUR APC+WW | BONA',\n",
       " 'APC+WW | COLGATE-PALMOLIVE | FABULOSO US | FABULOSO COMPLETE',\n",
       " 'APC+WW | COLGATE-PALMOLIVE | FABULOSO US | FABULOSO BASE | FABULOSO BSE REFRESHING LEMON',\n",
       " 'POWER | PHILIPS | SONICARE | SONICARE GUM HEALTH',\n",
       " 'APC+WW | ALEN | FLASH | FLASH',\n",
       " 'APC+WW | P&G | 9 ELEMENTS',\n",
       " 'ABRASIVE | COLGATE-PALMOLIVE | AJAX US',\n",
       " 'BODYWASH | UNILEVER | DOVE MALE | DOVE REM | DOVE REM',\n",
       " 'BATTERY+HYBRID | PHILIPS | SONICARE',\n",
       " 'LIQUID FS | COLGATE-PALMOLIVE | SUAVITEL NON US | SUAVITEL NON US',\n",
       " 'APC+WW | SC JOHNSON | METHOD | METHOD REM',\n",
       " 'ABRASIVE | PRESTIGE | COMET',\n",
       " 'APC+WW | SC JOHNSON | MRS MEYERS | MRS MEYERS',\n",
       " 'BODYWASH | J&J | NEUTROGENA',\n",
       " 'MOUTHWASH | J&J | LISTERINE | LISTERINE SENSITIVITY | LISTERINE SENSITIVITY ZERO',\n",
       " 'LIQUID | UNILEVER | LOVE BEAUTY AND PLANET | LOVE BEAUTY AND PLANET',\n",
       " 'MOUTHWASH | PRVT LBL | PRVT LBL | PRVT LBL FRESH | PRVT LBL SCOPE ORIG',\n",
       " 'BATTERY+HYBRID',\n",
       " 'TOOTHPASTE | COLGATE-PALMOLIVE | COLGATE | COLGATE ESSENTIALS',\n",
       " 'POUR APC+WW | CLOROX | PINE SOL | PINE-SOL | PINE SOL LEMON',\n",
       " 'BODYWASH | P&G | OLAY | OLAY PREM',\n",
       " 'BODYWASH | COLGATE-PALMOLIVE | IRISH SPRING | IRISH SPRING | IRISH SPRING GEAR',\n",
       " 'TOOTHPASTE | COLGATE-PALMOLIVE | COLGATE | COLGATE BASE | COLGATE TCW',\n",
       " 'TOOTHPASTE | COLGATE-PALMOLIVE | TOMS | TOMS KIDS CARE',\n",
       " 'TOOTHPASTE | COLGATE-PALMOLIVE | COLGATE | COLGATE BASE | COLGATE ORGINAL',\n",
       " 'BODYWASH | UNILEVER | DOVE MALE | GIFT SET',\n",
       " 'FABRIC SOFTENERS | P&G | HOME MADE SIMPLE | HOME MADE SIMPLE',\n",
       " 'BODYWASH | HENKEL | DIAL',\n",
       " 'BODYWASH | J&J | AVEENO | GIFT SET | GIFT SET SB',\n",
       " 'BODYWASH | UNILEVER | CARESS | GIFT SET',\n",
       " 'MOUTHWASH | PRVT LBL | PRVT LBL | PRVT LBL WHITENING | PRVT LBL LIST WHT PRE BRUSH',\n",
       " 'TOOTHPASTE | J&J | LISTERINE',\n",
       " 'LIQUID | COLGATE-PALMOLIVE | SOFTSOAP | SOFTSOAP REM | SOFTSOAP REM',\n",
       " 'MOUTHWASH | P&G | REM BRAND',\n",
       " 'BODYWASH | UNILEVER | DOVE FEMALE | DOVE | DOVE REM',\n",
       " 'APC+WW | BONA | BONA | BONA STONE TILE LMNT CLNR | BONA STN TILE LMNT CLNR POUR',\n",
       " 'BATTERY+HYBRID | P&G | ORAL-B | ORAL-B PRO',\n",
       " 'BODYWASH | HENKEL | DIAL | DIAL BASE | DIAL PURE MOISTURE',\n",
       " 'TOOTHPASTE | COLGATE-PALMOLIVE | COLGATE | COLGATE OPTIC WHITE | COLGATE OPTIC WHITE RENEWAL',\n",
       " 'TOOTHPASTE | GSK | BIOTENE | BIOTENE',\n",
       " 'BODYWASH | COLGATE-PALMOLIVE | IRISH SPRING',\n",
       " 'TOOTHPASTE | GSK | SENSODYNE | SENSODYNE | SENSODYNE TRUE WHITE',\n",
       " 'POWER | CHURCH & DWIGHT',\n",
       " 'FABRIC SOFTENERS | HENKEL',\n",
       " 'APC+WW | CHURCH & DWIGHT',\n",
       " 'APC+WW | UNILEVER | LOVE HOME AND PLANET | LOVE HOME AND PLANET',\n",
       " 'BODYWASH | COLGATE-PALMOLIVE | SOFTSOAP | SOFTSOAP | SOFTSOAP LUSTROUS GLOW',\n",
       " 'BODYWASH | UNILEVER | DOVE FEMALE | DOVE | DOVE GO FRESH',\n",
       " 'PORTABLE TB | COLGATE-PALMOLIVE',\n",
       " 'FABRIC SOFTENERS | P&G | DOWNY US',\n",
       " 'APC+WW | RECKITT/BENK | LYSOL | LYSOL ALL PURPOSE | LYSOL ALL PURPOSE LEMON',\n",
       " 'APC+WW | ALEN | ART OF GREEN | ART OF GREEN | ART OF GREEN LAVENDER EUCLYPTS',\n",
       " 'BODYWASH | SC JOHNSON | METHOD | METHOD | METHOD MEN',\n",
       " \"BODYWASH | MALE | HARRY'S\",\n",
       " 'POUR APC+WW | COLGATE-PALMOLIVE | FABULOSO US | FABULOSO BASE | FABULOSO BSE SPRING IN BLOOM',\n",
       " 'POUR APC+WW | ALEN | ALEN REM | ALEN REM | REM SUBBRAND VARIANT',\n",
       " 'POWER | P&G | ORAL-B | ORAL-B KIDS',\n",
       " 'POUR APC+WW | BONA | BONA',\n",
       " 'MOUTHWASH | DR. HAROLD KTZ FRSH STRT LLC',\n",
       " 'APC+WW | CLOROX | FORMULA 409',\n",
       " 'APC+WW | SC JOHNSON | PLEDGE | PLEDGE MULTI SRF',\n",
       " 'APC+WW | ALEN | ALEN REM | ALEN REM',\n",
       " 'MOUTHWASH | J&J | LISTERINE | LISTERINE ULTRA CLEAN | LISTERINE ULTRA CLEAN FRS CTRS',\n",
       " 'TOOTHPASTE | P&G | CREST | CREST COMPLETE | CREST EXTRA WHTNING',\n",
       " 'MANUAL | COLGATE-PALMOLIVE | COLGATE | COLGATE EXTRA CLN',\n",
       " 'BODYWASH | UNILEVER | LOVE BEAUTY AND PLANET | LOVE BEAUTY AND PLANET | LOVE BEAUTY AND PLANET',\n",
       " 'TOOTHPASTE | COLGATE-PALMOLIVE | ULTRA BRITE | ULTRA BRITE | ULTRA BRITE BSPW',\n",
       " 'TOOTHPASTE | GSK | AQUAFRESH | AQ-F EXTREME CLN | AQ-F EXTREME CLN WHT ACTION',\n",
       " 'SCENT BOOSTERS | CHURCH & DWIGHT',\n",
       " 'BODYWASH | P&G | KIWI NATURALS | KIWI NATURALS | KIWI NATURALS',\n",
       " 'APC+WW | CHURCH & DWIGHT | ORANGE GLO | ORANGE GLO',\n",
       " 'TOOTHPASTE | COLGATE-PALMOLIVE | COLGATE | COLGATE OPTIC WHITE | COLGATE OPTIC WHITE CHARCOAL',\n",
       " 'POWER | PHILIPS | SONICARE | SONICARE GUM HEALTH | SONICARE BASE REM',\n",
       " 'MANUAL | P&G | ORAL-B | ORAL-B MAX CLEAN',\n",
       " 'MOUTHWASH | J&J | LISTERINE | LISTERINE SENSITIVITY',\n",
       " 'ABRASIVE',\n",
       " 'APC+WW | SC JOHNSON | METHOD | METHOD MARBLE&GRANITE | REM SUBBRAND VARIANT',\n",
       " 'APC+WW | ALEN',\n",
       " 'MOUTHWASH | COLGATE-PALMOLIVE | COLGATE | COLGATE ZERO',\n",
       " 'LIQUID FS | P&G | DOWNY US | DOWNY ODOR PROTECT',\n",
       " 'POWER | PHILIPS | SONICARE | SONICARE POWER UP',\n",
       " 'BODYWASH | P&G | OLD SPICE | REM BRAND',\n",
       " \"POUR APC+WW | COLGATE-PALMOLIVE | MURPHY'S | MURPHY'S PROFESSIONAL | MURPHY'S PROFESSIONAL ORG POUR\",\n",
       " 'APC+WW | P&G | MR CLEAN | MR CLEAN | REM SUBBRAND VARIANT',\n",
       " 'MOUTHWASH | COLGATE-PALMOLIVE | COLGATE | COLGATE TOTAL | COLGATE TOTAL ADVANCED HEALTH',\n",
       " 'APC+WW | CLOROX | CLOROX | CLOROX CLEAN UP | CLOROX CLEAN-UP FRESH SCENT',\n",
       " 'BODYWASH | UNILEVER | LEVER 2000',\n",
       " 'BAR | COLGATE-PALMOLIVE | IRISH SPRING | 8 PK',\n",
       " 'FABRIC SOFTENERS | COLGATE-PALMOLIVE | SUAVITEL NON US',\n",
       " 'TOOTHPASTE | CHURCH & DWIGHT | A&H',\n",
       " 'BATTERY+HYBRID | P&G | ORAL-B | ORAL-B PRO-HEALTH BATTERY | ORAL-B PRO-HEALTH GUM CARE',\n",
       " 'MOUTHWASH | SANOFI | ACT | ACT WHITENING | ACT WHITENING ANTCVT',\n",
       " 'BODYWASH | COLGATE-PALMOLIVE | SOFTSOAP | SOFTSOAP | SOFTSOAP GENTLE WASH',\n",
       " 'FABRIC SOFTENERS | P&G | GAIN | GAIN BASE',\n",
       " 'BODYWASH | UNILEVER | ST IVES | ST IVES BASE | ST IVES',\n",
       " 'BAR | COLGATE-PALMOLIVE | TOMS OF MAINE | TOMS PREBIOTIC',\n",
       " 'MANUAL | P&G | ORAL-B | ORAL-B CLIC',\n",
       " 'APC+WW | P&G | MR CLEAN | MR CLEAN W/ FEBREZE',\n",
       " 'TOOTHPASTE | GSK | AQUAFRESH',\n",
       " 'BAR | UNILEVER | DOVE | DOVE CARE & PROTECT | DOVE CARE & PROTECT',\n",
       " 'BODYWASH | SC JOHNSON | MRS MEYERS',\n",
       " 'MANUAL | P&G | ORAL-B | ORAL-B COMPLETE | ORAL-B COMPLETE DEEP CLEAN',\n",
       " 'LDL/DISHAIDS/WPS/FM/SPRAYS | COLGATE-PALMOLIVE | PALMOLIVE | POL FUSION CLEAN',\n",
       " 'POUR APC+WW | COLGATE-PALMOLIVE | FABULOSO US | FABULOSO BASE | FABULOSO BSE OCEAN PARADISE',\n",
       " 'BAR | UNILEVER | NUBIAN HERITAGE',\n",
       " 'BODYWASH | UNILEVER | CARESS | CARESS BASE | CARESS FINE FRAG ELIX',\n",
       " 'LIQUID FS | SC JOHNSON | MRS MEYERS',\n",
       " 'BATTERY+HYBRID | P&G | GLEEM',\n",
       " 'LIQUID | COLGATE-PALMOLIVE | SOFTSOAP | SFTSP BETTER | SOFTSOAP BETTER FRAGRANCE',\n",
       " 'POUR APC+WW | PRVT LBL',\n",
       " 'POWER | DR FRESH | KIDS',\n",
       " 'WOOD | SC JOHNSON | PLEDGE | PLEDGE WOOD FLR | REM SUBBRAND VARIANT',\n",
       " 'APC+WW | RECKITT/BENK | LYSOL | LYSOL ALL PURPOSE',\n",
       " 'POWER | P&G | ORAL-B | ORAL-B PROADVANTAGE',\n",
       " 'MOUTHWASH | J&J | LISTERINE | LISTERINE TOTAL CARE | LISTERINE TOTAL CARE ZERO',\n",
       " 'APC+WW | CHURCH & DWIGHT | A&H | A&H ESSENTIALS | A&H ESNTLS LEMON ORCHARD',\n",
       " 'LIQUID | SC JOHNSON | MRS MEYERS | MRS MEYERS BASE | MRS MEYERS BASE',\n",
       " 'BODYWASH | UNILEVER | DOVE MALE | DOVE',\n",
       " 'SCENT BOOSTERS | HENKEL | SNUGGLE | SNUGGLE SUPER CARE',\n",
       " 'BATTERY+HYBRID | PHILIPS | SONICARE | SONICARE POWER UP',\n",
       " 'POUR APC+WW | ALEN | PINALEN | PINALEN | PINALEN FRUIT BLOSSOM',\n",
       " 'TOOTHPASTE | GSK | SENSODYNE',\n",
       " 'LDL/DISHAIDS/WPS/FM/SPRAYS',\n",
       " 'MOUTHWASH | J&J | LISTERINE | LISTERINE ULTRA CLEAN | LISTERINE ULTRA CLEAN ARCTC MT',\n",
       " 'POWER | P&G | GLEEM',\n",
       " 'MANUAL | COLGATE-PALMOLIVE | HELLO | HELLO | HELLO ADULT CHARCOAL',\n",
       " 'FABRIC SOFTENERS | COLGATE-PALMOLIVE | SUAVITEL US',\n",
       " 'MANUAL | COLGATE-PALMOLIVE | COLGATE | COLGATE EXTRA CLN | COLGATE EXTRA CLN REM',\n",
       " 'LIQUID | UNILEVER | SUAVE | SUAVE BASE | SUAVE ESSENTIALS',\n",
       " 'MOUTHWASH | J&J | LISTERINE | LISTERINE TOTAL CARE | LISTERINE TOTAL CARE WHITENING',\n",
       " 'TOOTHPASTE | DR BRONNERS | DR BRONNERS | DR BRONNERS | REM SUBBRAND',\n",
       " 'POUR APC+WW | CLOROX | CLOROX | CLOROX FRAGANZIA | CLOROX FRAGANZIA MORNING SKY',\n",
       " 'APC+WW | UNILEVER | LOVE HOME AND PLANET',\n",
       " \"APC+WW | COLGATE-PALMOLIVE | MURPHY'S | MURPHY'S JUST SQUIRT & MOP | MURPHY'S JUST SQUIRT&MOP\",\n",
       " 'TOOTHPASTE | COLGATE-PALMOLIVE | COLGATE',\n",
       " 'FABRIC SOFTENERS | SC JOHNSON | MRS MEYERS | MRS MEYERS',\n",
       " 'MOUTHWASH | GSK',\n",
       " 'WOOD | BONA | BONA | BONA REM | BONA REM',\n",
       " 'APC+WW | SC JOHNSON | MRS MEYERS | MRS MEYERS | REM SUBBRAND VARIANT',\n",
       " 'LDL/DISHAIDS/WPS/FM/SPRAYS | P&G | 9 ELEMENTS',\n",
       " 'POUR APC+WW | ALEN | FLASH | FLASH | REM SUBBRAND VARIANT',\n",
       " 'BODYWASH | J&J | REM FRANCHISE | J&J KIDS | J&J KIDS',\n",
       " 'BODYWASH | MALE | NIVEA',\n",
       " 'BATTERY+HYBRID | P&G | ORAL-B | ORAL-B PULSAR | ORAL-B PULSAR 3D WHITE',\n",
       " 'POWER | P&G | ORAL-B | ORAL-B COMPLETE BATTERY | ORAL-B CMP ACT PWR DEEP CLN',\n",
       " 'FABRIC SOFTENERS | HENKEL | SNUGGLE | SNUGGLE PLUS SUPER FRESH',\n",
       " 'BODYWASH | COLGATE-PALMOLIVE | IRISH SPRING | IRISH SPRING | IRISH SPRING SCRUB',\n",
       " 'MANUAL | P&G',\n",
       " 'LIQUID | HIGH RIDGE BRANDS',\n",
       " 'POUR APC+WW | CLOROX | CLOROX REM | CLOROX REM BRAND',\n",
       " 'SHEETS | SC JOHNSON | METHOD',\n",
       " 'LIQUID FS | P&G | HOME MADE SIMPLE | HOME MADE SIMPLE',\n",
       " 'BATTERY+HYBRID | SUNSTAR AMERICA | BUTLER | G-U-M',\n",
       " 'LIQUID | SC JOHNSON | MRS MEYERS | MRS MEYERS BASE | MRS MEYERS SEASONAL',\n",
       " 'APC+WW | RECKITT/BENK | LYSOL | LYSOL SMART | LYSOL SMART FRESH WATERFALL',\n",
       " 'MOUTHWASH | J&J | LISTERINE | LISTERINE NIGHTLY RESET',\n",
       " 'APC+WW | P&G | MR CLEAN | MR CLEAN CLEAN FREAK | MR CLEAN CLN FRK LEMON ZEST',\n",
       " 'APC+WW | P&G | NBD | NBD | NBD LAVENDER AND ROSEWOOD',\n",
       " 'MANUAL | COLGATE-PALMOLIVE | HELLO | HELLO | HELLO KIDS',\n",
       " 'LIQUID FS | PRVT LBL',\n",
       " 'LIQUID FS | SC JOHNSON | REM FRANCHISE | REM BRAND',\n",
       " 'TOOTHPASTE | P&G | CREST | CREST RETRO | CREST RETRO',\n",
       " 'BAR | UNILEVER | DOVE | DOVE REM | DOVE REM',\n",
       " 'POWER | COLGATE-PALMOLIVE',\n",
       " 'POUR APC+WW | RECKITT/BENK | LYSOL | LYSOL ALL PURPOSE | LYSOL ALL PURPOSE REM SCENT',\n",
       " 'MOUTHWASH | P&G | ORAL-B | REM BRAND | REM SUBBRAND',\n",
       " 'LIQUID | P&G',\n",
       " 'SHEETS | HENKEL | PUREX | PUREX BASE',\n",
       " 'POWER | P&G | ORAL-B | ORAL-B GUM CARE',\n",
       " 'TOOTHPASTE | COLGATE-PALMOLIVE | COLGATE | COLGATE 2 IN 1 | COLGATE 2 IN 1 KIDS',\n",
       " 'BAR | UNILEVER | LEVER 2000',\n",
       " 'SHEETS | P&G | DOWNY US | DOWNY BASE',\n",
       " 'BAR | COLGATE-PALMOLIVE | TOMS OF MAINE | TOMS PREBIOTIC | TOMS PREBIOTIC',\n",
       " 'POUR APC+WW | P&G | MR CLEAN | MR CLEAN | MR CLEAN OCEAN WATER SPARKLE',\n",
       " 'SCENT BOOSTERS | HENKEL | SNUGGLE | SNUGGLE SCENT BOOSTERS',\n",
       " 'BATTERY+HYBRID | P&G | ORAL-B | ORAL-B CHARCOAL | ORAL-B CHARCOAL WHTNG THERAPY',\n",
       " 'TOOTHPASTE | GSK | AQUAFRESH | AQ-F EXTREME CLN',\n",
       " 'MOUTHWASH | J&J | PLAX | PLAX ADVANCED FORMULA',\n",
       " 'MOUTHWASH | P&G | CREST | CREST 3D | CREST 3D MLT CARE WHT',\n",
       " 'MOUTHWASH | SANOFI | ACT | ACT TOTAL CARE | ACT TOTAL CARE DRY MTH',\n",
       " 'SHEETS | HENKEL | SUN CUDDLE SOFT | SUN CUDDLE SOFT',\n",
       " 'LDL/DISHAIDS/WPS/FM/SPRAYS | P&G | GAIN | GAIN BLEACH ALTERNATIVE',\n",
       " 'LIQUID FS | P&G | DOWNY NON-US',\n",
       " 'POWER | P&G | ORAL-B | ORAL-B 3D WHITE ELECTRIC | ORAL-B 3D WHITE ACTION ELEC',\n",
       " 'APC+WW | P&G | SWIFFER | SWIFFER SWEEPER | REM SUBBRAND VARIANT',\n",
       " 'BODYWASH | J&J | NEUTROGENA | NEUTROGENA | NEUTROGENA',\n",
       " 'MANUAL | HIGH RIDGE BRANDS | DR FRESH | TEK',\n",
       " 'POWER | HIGH RIDGE BRANDS | DR FRESH',\n",
       " 'BODYWASH | HENKEL | TONE | TONE BASE',\n",
       " 'TOOTHPASTE | COLGATE-PALMOLIVE | COLGATE | COLGATE OPTIC WHITE | COLGATE OPTIC WHITE PLATINUM',\n",
       " 'TOOTHPASTE | GSK | SENSODYNE | SENSODYNE | SENSODYNE PRO NAMEL',\n",
       " 'BAR | P&G | OLD SPICE',\n",
       " \"POUR APC+WW | COLGATE-PALMOLIVE | MURPHY'S\",\n",
       " 'BODYWASH | UNILEVER | AXE | GIFT SET',\n",
       " 'BAR | PRVT LBL | PRVT LBL | PRVT LBL',\n",
       " 'LDL/DISHAIDS/WPS/FM/SPRAYS | P&G | DAWN | DAWN PURE ESSNTL',\n",
       " 'POWER | COLGATE-PALMOLIVE | COLGATE | COLGATE 360 POWER | COLGATE 360 BATTERY',\n",
       " 'SCENT BOOSTERS | P&G | DOWNY US | DOWNY UNSTOPABLES',\n",
       " 'APC+WW | SC JOHNSON | PLEDGE | PLEDGE WOOD FLR | PLEDGE WOOD FLR CITRUS',\n",
       " 'POUR APC+WW | COLGATE-PALMOLIVE | FABULOSO US | FABULOSO ANTIBACTERIAL | FABULOSO ANTIBAC SPRKLNG CTRS',\n",
       " \"WOOD | COLGATE-PALMOLIVE | MURPHY'S | MURPHY'S JUST SQUIRT & MOP\",\n",
       " 'TOOTHPASTE | COLGATE-PALMOLIVE | HELLO',\n",
       " 'SHEETS | P&G | DOWNY NON-US | DOWNY NON US',\n",
       " 'BAR | COLGATE-PALMOLIVE | PALMOLIVE | COLGATE REM | COLGATE REM SBR',\n",
       " 'BAR | P&G | OLD SPICE | OLD SPICE | OLD SPICE REM',\n",
       " 'APC+WW | RECKITT/BENK | LYSOL | LYSOL SMART | LYSOL SMART CITRUS BREEZE',\n",
       " 'TOOTHPASTE | P&G | CREST | CREST COMPLETE | CREST WHTNING EXPRESSION',\n",
       " 'TOOTHPASTE | P&G | CREST | CREST KIDS | CREST MYSTIC',\n",
       " 'POUR APC+WW | ALEN | PINALEN | PINALEN | PINALEN FLORAL',\n",
       " 'POWER | PRVT LBL | PRVT LBL | PRVT LBL',\n",
       " 'APC+WW | BONA | BONA | BONA HARDWOOD FLOOR CLNR | BONA HW FLOOR CLNR LIQUID',\n",
       " 'LDL/DISHAIDS/WPS/FM/SPRAYS | COLGATE-PALMOLIVE | PALMOLIVE | ULTRA',\n",
       " 'BAR | HENKEL | TONE | TONE BASE | TONE BASE',\n",
       " 'APC+WW | CLOROX | CLOROX | CLOROX ALL PURP',\n",
       " 'MOUTHWASH | PRVT LBL | PRVT LBL | PRVT LBL WHITENING',\n",
       " 'BODYWASH | UNILEVER | SUAVE | SUAVE BASE | SUAVE KIDS',\n",
       " 'BATTERY+HYBRID | P&G | ORAL-B | ORAL-B COMPLETE BATTERY',\n",
       " 'LIQUID FS | HENKEL | PUREX',\n",
       " 'MOUTHWASH | COLGATE-PALMOLIVE | COLGATE | COLGATE ENAMEL HEALTH | COLGATE ENAMEL HEALTH',\n",
       " 'PORTABLE TB',\n",
       " 'POWER | P&G | ORAL-B | ORAL-B PRO-HEALTH BATTERY | ORAL-B PRO-HEALTH GUM CARE',\n",
       " 'MFR Sun Products',\n",
       " 'MOUTHWASH | PRVT LBL | PRVT LBL | PRVT LBL WHITENING | PRVT LBL CRST 3D WHT',\n",
       " 'FABRIC SOFTENERS | HENKEL | PUREX',\n",
       " 'BODYWASH | UNILEVER | AXE | AXE | AXE GOLD',\n",
       " 'POWER | P&G | ORAL-B | ORAL-B REFILL REM',\n",
       " 'APC+WW | BONA | BONA | BONA SURFACE CLEANER | BONA SURFACE CLEANER AB',\n",
       " 'POWER | PHILIPS | SONICARE | SONICARE REFILL | SONICARE REFILL REM',\n",
       " 'BODYWASH | UNILEVER',\n",
       " 'LIQUID | KAO CORPORATION',\n",
       " 'POUR APC+WW | RECKITT/BENK | LYSOL | LYSOL ALL PURPOSE',\n",
       " 'ABRASIVE | PRESTIGE | COMET | COMET | COMET LEMON',\n",
       " 'BATTERY+HYBRID | P&G | ORAL-B | ORAL-B KIDS | ORAL-B STAGES 3',\n",
       " 'BODYWASH | UNILEVER | DOVE MALE',\n",
       " 'BATTERY+HYBRID | P&G | ORAL-B | ORAL-B KIDS | ORAL-B KIDS REM',\n",
       " 'BODYWASH | COLGATE-PALMOLIVE | IRISH SPRING | IRISH SPRING | IRISH SPRING MST',\n",
       " 'LIQUID | HENKEL | DIAL | DIAL BASE | DIAL REM',\n",
       " 'MANUAL | P&G | ORAL-B | ORAL-B INDICATOR | ORAL-B INDICATOR CONTOUR',\n",
       " 'BODYWASH | UNILEVER | SEVENTH GEN | SEVENTH GEN',\n",
       " 'MOUTHWASH | PRVT LBL | PRVT LBL | PRVT LBL GUM PROTECTION',\n",
       " 'POWER | P&G | ORAL-B | ORAL-B REFILL REM | ORAL-B REM',\n",
       " 'MOUTHWASH | PRVT LBL | PRVT LBL | PRVT LBL FRESH',\n",
       " 'TOOTHPASTE | COLGATE-PALMOLIVE | COLGATE | COLGATE SENS | COLGATE SENS WHT FR',\n",
       " 'POUR APC+WW | COLGATE-PALMOLIVE | FABULOSO US | FABULOSO BASE',\n",
       " 'MOUTHWASH | PRVT LBL | PRVT LBL | PRVT LBL FRESH | PRVT LBL LIST ZERO',\n",
       " 'BODYWASH | UNILEVER | AXE | AXE | AXE 3 IN 1',\n",
       " 'BODYWASH | FEMALE | NIVEA',\n",
       " 'LDL/DISHAIDS/WPS/FM/SPRAYS | SC JOHNSON | BABYGANICS',\n",
       " 'APC+WW | UNILEVER | LOVE HOME AND PLANET | LOVE HOME AND PLANET | LV HM&PLNET CITRUS YUZU VNILLA',\n",
       " 'TOOTHPASTE | COLGATE-PALMOLIVE | COLGATE | COLGATE ULTRA | COLGATE ULTRA WHITE',\n",
       " 'POWER | P&G | ORAL-B | ORAL-B GUM CARE | ORAL-B GUM CARE',\n",
       " 'POUR APC+WW | ALEN | XTRA | XTRA',\n",
       " 'MANUAL | COLGATE-PALMOLIVE | COLGATE | COLGATE SLIM SOFT',\n",
       " 'BODYWASH | PRVT LBL | PRVT LBL',\n",
       " 'MOUTHWASH | P&G | FIXODENT | FIXODENT',\n",
       " 'APC+WW | RECKITT/BENK | LYSOL | LYSOL ALL PURPOSE | LYSOL ALL PURPOSE REM SCENT',\n",
       " 'APC+WW | ALEN | CLORALEN',\n",
       " 'MANUAL | COLGATE-PALMOLIVE | COLGATE | COLGATE BAMBOO',\n",
       " 'MANUAL | COLGATE-PALMOLIVE | TOMS OF MAINE | TOMS OF MAINE',\n",
       " 'MANUAL | P&G | ORAL-B | ORAL-B COMPLETE | ORAL-B COMPLETE 5 WAY CLEAN',\n",
       " 'FABRIC SOFTENERS | P&G | GAIN | GAIN BOTANICALS',\n",
       " 'BATTERY+HYBRID | PRVT LBL | PRVT LBL | PRVT LBL',\n",
       " 'MOUTHWASH | COLGATE-PALMOLIVE | COLGATE | COLGATE OPTIC WHITE',\n",
       " 'TOOTHPASTE | COLGATE-PALMOLIVE | PREMIUM',\n",
       " 'MANUAL | COLGATE-PALMOLIVE | TOMS OF MAINE | TOMS OF MAINE | TOMS OF MAINE',\n",
       " 'MANUAL | COLGATE-PALMOLIVE | COLGATE | COLGATE KIDS | COLGATE KIDS ZERO',\n",
       " 'MOUTHWASH | COLGATE-PALMOLIVE | COLGATE | COLGATE FRESH + CLEAN',\n",
       " \"TOOTHPASTE | P&G | BURT'S BEES | BURTS BEES | BURTS BEES KIDS\",\n",
       " 'FABRIC SOFTENERS | SC JOHNSON | MRS MEYERS',\n",
       " 'LIQUID FS | SC JOHNSON',\n",
       " 'BODYWASH | COLGATE-PALMOLIVE | SOFTSOAP | SOFTSOAP | SOFTSOAP MST',\n",
       " 'TOOTHPASTE | GSK | AQUAFRESH | AQ-F KIDS | AQ-F KIDS ORGINAL',\n",
       " 'APC+WW | SC JOHNSON | PLEDGE | PLEDGE DUST&ALLEGEN | REM SUBBRAND VARIANT',\n",
       " 'MOUTHWASH | COLGATE-PALMOLIVE | TOMS | TOMS FRESH BREATH | TOMS WICKED FRESH',\n",
       " 'POWER | P&G | GLEEM | GLEEM | GLEEM',\n",
       " 'POWER | PHILIPS | SONICARE | SONICARE POWER UP | SONICARE POWER UP BASE',\n",
       " 'POWER | P&G | ORAL-B | ORAL-B BATTERY BASE REM | ORAL-B REM',\n",
       " 'APC+WW | COLGATE-PALMOLIVE | FABULOSO US | FABULOSO BASE',\n",
       " 'MOUTHWASH | COLGATE-PALMOLIVE | COLGATE | COLGATE HYDRIS | COLGATE HYDRIS DRY MOUTH',\n",
       " 'BAR | UNILEVER | DOVE | DOVE ORIG',\n",
       " 'LIQUID | UNILEVER | DOVE | DOVE FOAMING | DOVE FOAMING',\n",
       " 'MOUTHWASH | SANOFI | ACT | ACT ANTICAVITY | ACT ANTCVT KIDS',\n",
       " 'BODYWASH | P&G | GILLETTE FOR MEN | GILLETTE BASE',\n",
       " 'BODYWASH | J&J | OGX | REM BRAND',\n",
       " 'SCENT BOOSTERS | HENKEL',\n",
       " ...}"
      ]
     },
     "execution_count": 44,
     "metadata": {},
     "output_type": "execute_result"
    }
   ],
   "source": [
    "set(Data_5p[\"Products\"])"
   ]
  },
  {
   "cell_type": "markdown",
   "metadata": {},
   "source": [
    "***movecol*** function to **rearranging** the columns of a dataframe"
   ]
  },
  {
   "cell_type": "code",
   "execution_count": 45,
   "metadata": {},
   "outputs": [],
   "source": [
    "def movecol(df, cols_to_move=[], ref_col='', place=''):\n",
    "    cols = df.columns.tolist()\n",
    "    if place == 'After':\n",
    "        seg1 = cols[:list(cols).index(ref_col) + 1]\n",
    "        seg2 = cols_to_move\n",
    "    if place == 'Before':\n",
    "        seg1 = cols[:list(cols).index(ref_col)]\n",
    "        seg2 = cols_to_move + [ref_col]\n",
    "    seg1 = [i for i in seg1 if i not in seg2]\n",
    "    seg3 = [i for i in cols if i not in seg1 + seg2]\n",
    "    \n",
    "    return(df[seg1 + seg2 + seg3])"
   ]
  },
  {
   "cell_type": "code",
   "execution_count": 46,
   "metadata": {
    "scrolled": true
   },
   "outputs": [
    {
     "data": {
      "text/html": [
       "<div>\n",
       "<style scoped>\n",
       "    .dataframe tbody tr th:only-of-type {\n",
       "        vertical-align: middle;\n",
       "    }\n",
       "\n",
       "    .dataframe tbody tr th {\n",
       "        vertical-align: top;\n",
       "    }\n",
       "\n",
       "    .dataframe thead th {\n",
       "        text-align: right;\n",
       "    }\n",
       "</style>\n",
       "<table border=\"1\" class=\"dataframe\">\n",
       "  <thead>\n",
       "    <tr style=\"text-align: right;\">\n",
       "      <th></th>\n",
       "      <th>Markets</th>\n",
       "      <th>ShareBasis</th>\n",
       "      <th>Manufacturer</th>\n",
       "      <th>Franchise</th>\n",
       "      <th>Brand</th>\n",
       "      <th>SubBrand</th>\n",
       "      <th>Products</th>\n",
       "      <th>Facts</th>\n",
       "      <th>FY 2020</th>\n",
       "      <th>FY 2019</th>\n",
       "      <th>...</th>\n",
       "      <th>Sep 20</th>\n",
       "      <th>Aug 20</th>\n",
       "      <th>Jul 20</th>\n",
       "      <th>Jun 20</th>\n",
       "      <th>May 20</th>\n",
       "      <th>Apr 20</th>\n",
       "      <th>Mar 20</th>\n",
       "      <th>Feb 20</th>\n",
       "      <th>Jan 20</th>\n",
       "      <th>Key</th>\n",
       "    </tr>\n",
       "  </thead>\n",
       "  <tbody>\n",
       "    <tr>\n",
       "      <th>0</th>\n",
       "      <td>Total US xAOC</td>\n",
       "      <td>ABRASIVE</td>\n",
       "      <td></td>\n",
       "      <td></td>\n",
       "      <td></td>\n",
       "      <td></td>\n",
       "      <td>ABRASIVE</td>\n",
       "      <td>% $ Any Promo</td>\n",
       "      <td>6.852</td>\n",
       "      <td>9.885</td>\n",
       "      <td>...</td>\n",
       "      <td>5.684</td>\n",
       "      <td>5.237</td>\n",
       "      <td>5.397</td>\n",
       "      <td>4.521</td>\n",
       "      <td>5.375</td>\n",
       "      <td>6.757</td>\n",
       "      <td>11.126</td>\n",
       "      <td>8.262</td>\n",
       "      <td>11.107</td>\n",
       "      <td>Total US xAOCABRASIVE</td>\n",
       "    </tr>\n",
       "    <tr>\n",
       "      <th>1</th>\n",
       "      <td>Total US xAOC</td>\n",
       "      <td>ABRASIVE</td>\n",
       "      <td></td>\n",
       "      <td></td>\n",
       "      <td></td>\n",
       "      <td></td>\n",
       "      <td>ABRASIVE</td>\n",
       "      <td>% $ Any Promo Chg YA</td>\n",
       "      <td>-3.033</td>\n",
       "      <td>-0.524</td>\n",
       "      <td>...</td>\n",
       "      <td>-1.867</td>\n",
       "      <td>-3.987</td>\n",
       "      <td>-1.106</td>\n",
       "      <td>-5.830</td>\n",
       "      <td>-5.742</td>\n",
       "      <td>-4.454</td>\n",
       "      <td>-2.334</td>\n",
       "      <td>-0.137</td>\n",
       "      <td>2.827</td>\n",
       "      <td>Total US xAOCABRASIVE</td>\n",
       "    </tr>\n",
       "    <tr>\n",
       "      <th>2</th>\n",
       "      <td>Total US xAOC</td>\n",
       "      <td>ABRASIVE</td>\n",
       "      <td></td>\n",
       "      <td></td>\n",
       "      <td></td>\n",
       "      <td></td>\n",
       "      <td>ABRASIVE</td>\n",
       "      <td>% EQ Any Promo</td>\n",
       "      <td>7.001</td>\n",
       "      <td>10.203</td>\n",
       "      <td>...</td>\n",
       "      <td>5.203</td>\n",
       "      <td>4.318</td>\n",
       "      <td>6.266</td>\n",
       "      <td>4.726</td>\n",
       "      <td>5.051</td>\n",
       "      <td>5.970</td>\n",
       "      <td>11.970</td>\n",
       "      <td>10.971</td>\n",
       "      <td>14.294</td>\n",
       "      <td>Total US xAOCABRASIVE</td>\n",
       "    </tr>\n",
       "  </tbody>\n",
       "</table>\n",
       "<p>3 rows × 39 columns</p>\n",
       "</div>"
      ],
      "text/plain": [
       "         Markets ShareBasis Manufacturer Franchise Brand SubBrand  Products  \\\n",
       "0  Total US xAOC   ABRASIVE                                        ABRASIVE   \n",
       "1  Total US xAOC   ABRASIVE                                        ABRASIVE   \n",
       "2  Total US xAOC   ABRASIVE                                        ABRASIVE   \n",
       "\n",
       "                  Facts  FY 2020  FY 2019  ...  Sep 20  Aug 20  Jul 20  \\\n",
       "0         % $ Any Promo    6.852    9.885  ...   5.684   5.237   5.397   \n",
       "1  % $ Any Promo Chg YA   -3.033   -0.524  ...  -1.867  -3.987  -1.106   \n",
       "2        % EQ Any Promo    7.001   10.203  ...   5.203   4.318   6.266   \n",
       "\n",
       "   Jun 20  May 20  Apr 20  Mar 20  Feb 20  Jan 20                    Key  \n",
       "0   4.521   5.375   6.757  11.126   8.262  11.107  Total US xAOCABRASIVE  \n",
       "1  -5.830  -5.742  -4.454  -2.334  -0.137   2.827  Total US xAOCABRASIVE  \n",
       "2   4.726   5.051   5.970  11.970  10.971  14.294  Total US xAOCABRASIVE  \n",
       "\n",
       "[3 rows x 39 columns]"
      ]
     },
     "execution_count": 46,
     "metadata": {},
     "output_type": "execute_result"
    }
   ],
   "source": [
    "Data_5p = movecol(Data_5p, \n",
    "             cols_to_move=['ShareBasis','Manufacturer','Franchise','Brand','SubBrand'], \n",
    "             ref_col='Markets',\n",
    "             place='After')\n",
    "Data_5p.head(3)"
   ]
  },
  {
   "cell_type": "markdown",
   "metadata": {},
   "source": [
    "**Strip Columns**\n",
    "\n",
    "Strip starting 8 columns "
   ]
  },
  {
   "cell_type": "code",
   "execution_count": 47,
   "metadata": {},
   "outputs": [],
   "source": [
    "cols=list(Data_5p.columns[0:8])"
   ]
  },
  {
   "cell_type": "code",
   "execution_count": 48,
   "metadata": {},
   "outputs": [],
   "source": [
    "Data_5p[cols]=Data_5p[cols].apply(lambda x : x.str.strip())"
   ]
  },
  {
   "cell_type": "markdown",
   "metadata": {},
   "source": [
    "**Category Column**"
   ]
  },
  {
   "cell_type": "code",
   "execution_count": 49,
   "metadata": {},
   "outputs": [],
   "source": [
    "df1= pd.DataFrame(Data_5p[\"ShareBasis\"])"
   ]
  },
  {
   "cell_type": "code",
   "execution_count": 50,
   "metadata": {},
   "outputs": [
    {
     "data": {
      "text/html": [
       "<div>\n",
       "<style scoped>\n",
       "    .dataframe tbody tr th:only-of-type {\n",
       "        vertical-align: middle;\n",
       "    }\n",
       "\n",
       "    .dataframe tbody tr th {\n",
       "        vertical-align: top;\n",
       "    }\n",
       "\n",
       "    .dataframe thead th {\n",
       "        text-align: right;\n",
       "    }\n",
       "</style>\n",
       "<table border=\"1\" class=\"dataframe\">\n",
       "  <thead>\n",
       "    <tr style=\"text-align: right;\">\n",
       "      <th></th>\n",
       "      <th>ShareBasis</th>\n",
       "      <th>Category</th>\n",
       "    </tr>\n",
       "  </thead>\n",
       "  <tbody>\n",
       "    <tr>\n",
       "      <th>0</th>\n",
       "      <td>ABRASIVE</td>\n",
       "      <td>HHC</td>\n",
       "    </tr>\n",
       "    <tr>\n",
       "      <th>1</th>\n",
       "      <td>ABRASIVE</td>\n",
       "      <td>HHC</td>\n",
       "    </tr>\n",
       "    <tr>\n",
       "      <th>2</th>\n",
       "      <td>ABRASIVE</td>\n",
       "      <td>HHC</td>\n",
       "    </tr>\n",
       "  </tbody>\n",
       "</table>\n",
       "</div>"
      ],
      "text/plain": [
       "  ShareBasis Category\n",
       "0   ABRASIVE      HHC\n",
       "1   ABRASIVE      HHC\n",
       "2   ABRASIVE      HHC"
      ]
     },
     "execution_count": 50,
     "metadata": {},
     "output_type": "execute_result"
    }
   ],
   "source": [
    "def fun_category(x):\n",
    "    if x == 'TOOTHPASTE' or x == 'WHITENING SYS':\n",
    "        return \"TP\"\n",
    "    elif x=='POUR APC+WW' or x==\"WOOD\" or x== 'ABRASIVE' or x== \"APC+WW\" or x=='FLOOR WAX' or x=='OUTDOOR' or x=='DRY WIPES' or x=='SPRAY':\n",
    "        return \"HHC\"\n",
    "    elif x=='MANUAL':\n",
    "        return 'MTB'\n",
    "    elif x=='POWER' or x=='PORTABLE TB' or x == 'ELECTRIC' or x == 'BATTERY+HYBRID' or x == 'BATTERY':\n",
    "        return \"PTB\"\n",
    "    elif x=='BODYWASH':\n",
    "        return \"BW\"\n",
    "    elif x=='MOUTHWASH':\n",
    "        return 'MW'\n",
    "    elif x=='BAR':\n",
    "        return \"BAR\"\n",
    "    elif x=='LIQUID':\n",
    "        return 'LHS'\n",
    "    elif x=='FABRIC SOFTENERS' or x == 'BEAD FS' or x== 'LIQUID FS' or x == \"SHEETS\" or x==\"SCENT BOOSTERS\" or x == 'MFR Sun Products' :\n",
    "        return \"FS\"\n",
    "    elif x=='LDL+FOAM' or x == 'MFR Sun Products LDL' or x == \"LDL/DISHAIDS/WPS/FM/SPRAYS\":\n",
    "        return 'LDL'\n",
    "    else:\n",
    "        return 'N/A'\n",
    "    # Add elif statements....\n",
    "\n",
    "df1['Category']= df1['ShareBasis'].apply(fun_category)\n",
    "df1.head(3)"
   ]
  },
  {
   "cell_type": "code",
   "execution_count": 51,
   "metadata": {},
   "outputs": [],
   "source": [
    "Data_5p['Category']=df1['Category']"
   ]
  },
  {
   "cell_type": "code",
   "execution_count": 52,
   "metadata": {
    "scrolled": false
   },
   "outputs": [
    {
     "data": {
      "text/html": [
       "<div>\n",
       "<style scoped>\n",
       "    .dataframe tbody tr th:only-of-type {\n",
       "        vertical-align: middle;\n",
       "    }\n",
       "\n",
       "    .dataframe tbody tr th {\n",
       "        vertical-align: top;\n",
       "    }\n",
       "\n",
       "    .dataframe thead th {\n",
       "        text-align: right;\n",
       "    }\n",
       "</style>\n",
       "<table border=\"1\" class=\"dataframe\">\n",
       "  <thead>\n",
       "    <tr style=\"text-align: right;\">\n",
       "      <th></th>\n",
       "      <th>Markets</th>\n",
       "      <th>ShareBasis</th>\n",
       "      <th>Category</th>\n",
       "      <th>Manufacturer</th>\n",
       "      <th>Franchise</th>\n",
       "      <th>Brand</th>\n",
       "      <th>SubBrand</th>\n",
       "      <th>Products</th>\n",
       "      <th>Facts</th>\n",
       "      <th>FY 2020</th>\n",
       "      <th>...</th>\n",
       "      <th>Sep 20</th>\n",
       "      <th>Aug 20</th>\n",
       "      <th>Jul 20</th>\n",
       "      <th>Jun 20</th>\n",
       "      <th>May 20</th>\n",
       "      <th>Apr 20</th>\n",
       "      <th>Mar 20</th>\n",
       "      <th>Feb 20</th>\n",
       "      <th>Jan 20</th>\n",
       "      <th>Key</th>\n",
       "    </tr>\n",
       "  </thead>\n",
       "  <tbody>\n",
       "    <tr>\n",
       "      <th>0</th>\n",
       "      <td>Total US xAOC</td>\n",
       "      <td>ABRASIVE</td>\n",
       "      <td>HHC</td>\n",
       "      <td></td>\n",
       "      <td></td>\n",
       "      <td></td>\n",
       "      <td></td>\n",
       "      <td>ABRASIVE</td>\n",
       "      <td>% $ Any Promo</td>\n",
       "      <td>6.852</td>\n",
       "      <td>...</td>\n",
       "      <td>5.684</td>\n",
       "      <td>5.237</td>\n",
       "      <td>5.397</td>\n",
       "      <td>4.521</td>\n",
       "      <td>5.375</td>\n",
       "      <td>6.757</td>\n",
       "      <td>11.126</td>\n",
       "      <td>8.262</td>\n",
       "      <td>11.107</td>\n",
       "      <td>Total US xAOCABRASIVE</td>\n",
       "    </tr>\n",
       "    <tr>\n",
       "      <th>1</th>\n",
       "      <td>Total US xAOC</td>\n",
       "      <td>ABRASIVE</td>\n",
       "      <td>HHC</td>\n",
       "      <td></td>\n",
       "      <td></td>\n",
       "      <td></td>\n",
       "      <td></td>\n",
       "      <td>ABRASIVE</td>\n",
       "      <td>% $ Any Promo Chg YA</td>\n",
       "      <td>-3.033</td>\n",
       "      <td>...</td>\n",
       "      <td>-1.867</td>\n",
       "      <td>-3.987</td>\n",
       "      <td>-1.106</td>\n",
       "      <td>-5.830</td>\n",
       "      <td>-5.742</td>\n",
       "      <td>-4.454</td>\n",
       "      <td>-2.334</td>\n",
       "      <td>-0.137</td>\n",
       "      <td>2.827</td>\n",
       "      <td>Total US xAOCABRASIVE</td>\n",
       "    </tr>\n",
       "    <tr>\n",
       "      <th>2</th>\n",
       "      <td>Total US xAOC</td>\n",
       "      <td>ABRASIVE</td>\n",
       "      <td>HHC</td>\n",
       "      <td></td>\n",
       "      <td></td>\n",
       "      <td></td>\n",
       "      <td></td>\n",
       "      <td>ABRASIVE</td>\n",
       "      <td>% EQ Any Promo</td>\n",
       "      <td>7.001</td>\n",
       "      <td>...</td>\n",
       "      <td>5.203</td>\n",
       "      <td>4.318</td>\n",
       "      <td>6.266</td>\n",
       "      <td>4.726</td>\n",
       "      <td>5.051</td>\n",
       "      <td>5.970</td>\n",
       "      <td>11.970</td>\n",
       "      <td>10.971</td>\n",
       "      <td>14.294</td>\n",
       "      <td>Total US xAOCABRASIVE</td>\n",
       "    </tr>\n",
       "  </tbody>\n",
       "</table>\n",
       "<p>3 rows × 40 columns</p>\n",
       "</div>"
      ],
      "text/plain": [
       "         Markets ShareBasis Category Manufacturer Franchise Brand SubBrand  \\\n",
       "0  Total US xAOC   ABRASIVE      HHC                                         \n",
       "1  Total US xAOC   ABRASIVE      HHC                                         \n",
       "2  Total US xAOC   ABRASIVE      HHC                                         \n",
       "\n",
       "   Products                 Facts  FY 2020  ...  Sep 20  Aug 20  Jul 20  \\\n",
       "0  ABRASIVE         % $ Any Promo    6.852  ...   5.684   5.237   5.397   \n",
       "1  ABRASIVE  % $ Any Promo Chg YA   -3.033  ...  -1.867  -3.987  -1.106   \n",
       "2  ABRASIVE        % EQ Any Promo    7.001  ...   5.203   4.318   6.266   \n",
       "\n",
       "   Jun 20  May 20  Apr 20  Mar 20  Feb 20  Jan 20                    Key  \n",
       "0   4.521   5.375   6.757  11.126   8.262  11.107  Total US xAOCABRASIVE  \n",
       "1  -5.830  -5.742  -4.454  -2.334  -0.137   2.827  Total US xAOCABRASIVE  \n",
       "2   4.726   5.051   5.970  11.970  10.971  14.294  Total US xAOCABRASIVE  \n",
       "\n",
       "[3 rows x 40 columns]"
      ]
     },
     "execution_count": 52,
     "metadata": {},
     "output_type": "execute_result"
    }
   ],
   "source": [
    "#Moving column \"Category\" after column \"ShareBasis\"\n",
    "\n",
    "Data_5p = movecol(Data_5p, \n",
    "             cols_to_move=['Category'], \n",
    "             ref_col='ShareBasis',\n",
    "             place='After')\n",
    "Data_5p.head(3)"
   ]
  },
  {
   "cell_type": "code",
   "execution_count": 53,
   "metadata": {},
   "outputs": [
    {
     "data": {
      "text/plain": [
       "{'ABRASIVE',\n",
       " 'APC+WW',\n",
       " 'BAR',\n",
       " 'BATTERY+HYBRID',\n",
       " 'BEAD FS',\n",
       " 'BODYWASH',\n",
       " 'FABRIC SOFTENERS',\n",
       " 'LDL/DISHAIDS/WPS/FM/SPRAYS',\n",
       " 'LIQUID',\n",
       " 'LIQUID FS',\n",
       " 'MANUAL',\n",
       " 'MFR Sun Products',\n",
       " 'MFR Sun Products LDL',\n",
       " 'MOUTHWASH',\n",
       " 'PORTABLE TB',\n",
       " 'POUR APC+WW',\n",
       " 'POWER',\n",
       " 'SCENT BOOSTERS',\n",
       " 'SHEETS',\n",
       " 'SPRAY',\n",
       " 'TOOTHPASTE',\n",
       " 'WHITENING SYS',\n",
       " 'WOOD'}"
      ]
     },
     "execution_count": 53,
     "metadata": {},
     "output_type": "execute_result"
    }
   ],
   "source": [
    "set(Data_5p[\"ShareBasis\"])"
   ]
  },
  {
   "cell_type": "code",
   "execution_count": 54,
   "metadata": {},
   "outputs": [],
   "source": [
    "Time_Mapping={\n",
    "    \"Nov 19\":\"4 W/E 11/23/19\",\n",
    "    \"Dec 19\":\"5 W/E 12/28/19\",\n",
    "    \"Jan 20\":\"4 W/E 02/01/20\",\n",
    "    \"Feb 20\":\"4 W/E 02/29/20\",\n",
    "    \"Mar 20\":\"5 W/E 04/04/20\",\n",
    "    \"Apr 20\":\"4 W/E 05/02/20\",\n",
    "    \"May 20\":\"4 W/E 05/30/20\",\n",
    "    \"Jun 20\":\"5 W/E 07/04/20\",\n",
    "    \"Jul 20\":\"4 W/E 08/01/20\",\n",
    "    \"Aug 20\":\"4 W/E 08/29/20\",\n",
    "    \"Sep 20\":\"5 W/E 10/03/20\",\n",
    "    \"Oct 20\":\"4 W/E 10/31/20\",\n",
    "    \"Nov 20\":\"4 W/E 11/28/20\",\n",
    "    \"Dec 20\":\"5 W/E 01/02/21\",\n",
    "    \"Jan 21\":\"4 W/E 01/30/21\",\n",
    "    \"Feb 21\":\"4 W/E 02/27/21\",\n",
    "    \"Mar 21\":\"5 W/E 04/03/21\",\n",
    "    \"Apr 21\":\"4 W/E 05/01/21\",\n",
    "    \"May 21\":\"4 W/E 05/29/21\",\n",
    "    \"Jun 21\":\"5 W/E 07/03/21\",\n",
    "    \"Jul 21\":\"4 W/E 07/31/21\",\n",
    "    \"Aug 21\":\"4 W/E 08/28/21\",\n",
    "    \"Sep 21\":\"5 W/E 10/02/21\",\n",
    "    \"Oct 21\":\"4 W/E 10/30/21\",\n",
    "    \"Nov 21\":\"4 W/E 11/27/21\",\n",
    "    \"Dec 21\":\"5 W/E 01/01/22\",\n",
    "    \"Jan 22\":\"4 W/E 01/29/22\",\n",
    "    \"Feb 22\":\"4 W/E 02/26/22\",\n",
    "    \"Mar 22\":\"5 W/E 04/02/22\",\n",
    "    \"Apr 22\":\"4 W/E 04/30/22\",\n",
    "    \"May 22\":\"5 W/E 05/28/22\",\n",
    "    \"Jun 22\":\"4 W/E 06/25/22\",\n",
    "    \"Jul 22\":\"4 W/E 07/23/22\",\n",
    "    \"Aug 22\":\"5 W/E 08/20/22\",\n",
    "    \"Sep 22\":\"4 W/E 09/17/22\",\n",
    "    \"Oct 22\":\"4 W/E 10/15/22\",\n",
    "    \"Nov 22\":\"5 W/E 11/12/22\",\n",
    "    \"Dec 22\":\"4 W/E 12/10/22\",\n",
    "    \"Jan 23\":\"4 W/E 01/07/23\",\n",
    "    \"Feb 23\":\"5 W/E 02/04/23\",\n",
    "    \"Mar 23\":\"4 W/E 03/04/23\",\n",
    "    \"Apr 23\":\"4 W/E 04/01/23\",\n",
    "    \"May 23\":\"5 W/E 04/29/23\",\n",
    "    \"Jun 23\":\"4 W/E 05/27/23\",\n",
    "    \"Jul 23\":\"4 W/E 06/24/23\",\n",
    "    \"Aug 23\":\"5 W/E 07/22/23\",\n",
    "    \"Sep 23\":\"4 W/E 08/19/23\",\n",
    "    \"Oct 23\":\"5 W/E 09/16/23\",\n",
    "    \"Nov 23\":\"4 W/E 10/14/23\",\n",
    "    \"Dec 23\":\"4 W/E 11/11/23\",\n",
    "    \"Jan 24\":\"5 W/E 12/09/23\",\n",
    "    \"Feb 24\":\"4 W/E 01/06/24\",\n",
    "    \"Mar 24\":\"4 W/E 02/03/24\",\n",
    "    \"Apr 24\":\"5 W/E 03/02/24\",\n",
    "    \"May 24\":\"4 W/E 03/30/24\",\n",
    "    \"Jun 24\":\"4 W/E 04/27/24\",\n",
    "    \"Jul 24\":\"5 W/E 05/25/24\",\n",
    "    \"Aug 24\":\"4 W/E 06/22/24\",\n",
    "    \"Sep 24\":\"4 W/E 07/20/24\",\n",
    "    \"Oct 24\":\"5 W/E 08/17/24\",\n",
    "    \"Nov 24\":\"4 W/E 09/14/24\",\n",
    "    \"Dec 24\":\"4 W/E 10/12/24\",\n",
    "    \"Jan 25\":\"5 W/E 11/09/24\",\n",
    "    \"Feb 25\":\"4 W/E 12/07/24\",\n",
    "    \"Mar 25\":\"5 W/E 01/04/25\",\n",
    "    \"Apr 25\":\"4 W/E 02/01/25\",\n",
    "    \"May 25\":\"4 W/E 03/01/25\",\n",
    "    \"Jun 25\":\"5 W/E 03/29/25\",\n",
    "    \"Jul 25\":\"4 W/E 04/26/25\",\n",
    "    \"Aug 25\":\"4 W/E 05/24/25\",\n",
    "    \"Sep 25\":\"5 W/E 06/21/25\",\n",
    "    \"Oct 25\":\"4 W/E 07/19/25\",\n",
    "    \"Nov 25\":\"4 W/E 08/16/25\",\n",
    "    \"Dec 25\":\"5 W/E 09/13/25\",\n",
    "    \"Jan 26\":\"4 W/E 10/11/25\",\n",
    "    \"Feb 26\":\"4 W/E 11/08/25\",\n",
    "    \"Mar 26\":\"5 W/E 12/06/25\",\n",
    "    \"Apr 26\":\"4 W/E 01/03/26\",\n",
    "    \"May 26\":\"4 W/E 01/31/26\",\n",
    "    \"Jun 26\":\"5 W/E 02/28/26\",\n",
    "    \"Jul 26\":\"4 W/E 03/28/26\",\n",
    "    \"Aug 26\":\"5 W/E 04/25/26\",\n",
    "    \"Sep 26\":\"4 W/E 05/23/26\",\n",
    "    \"Oct 26\":\"4 W/E 06/20/26\",\n",
    "    \"Nov 26\":\"5 W/E 07/18/26\",\n",
    "    \"Dec 26\":\"4 W/E 08/15/26\"\n",
    "}\n"
   ]
  },
  {
   "cell_type": "code",
   "execution_count": 55,
   "metadata": {},
   "outputs": [],
   "source": [
    "Data_5p.rename(columns=Time_Mapping,inplace=True)"
   ]
  },
  {
   "cell_type": "code",
   "execution_count": 56,
   "metadata": {},
   "outputs": [],
   "source": [
    "Market_Mapping={\n",
    "    \n",
    "     'ALBSCO Total Company TA':'Alb/Sfy',\n",
    "     'Agency Grocery':'Agency Grocery',\n",
    "     'Ahold USA Corp Total TA':\"Ahold\",\n",
    "     'BJs Total TA':\"BJs\",\n",
    "     'CLUB':\"CLUB\",\n",
    "     'CVS Total Corp WO HI TA':\"CVS\",\n",
    "     'Dol Gen Total TA':\"Dollar General\",\n",
    "     'FDM':\"FDM\",\n",
    "     'Family Dollar Total TA':\"Family Dollar\",\n",
    "     'Fiesta Total TA':\"Fiesta\",\n",
    "     'Giant Eagle Total TA':\"Giant Eagle\",\n",
    "     'Kmart Total TA':\"Kmart\",\n",
    "     'Meijer Total TA':\"Meijer\",\n",
    "     'Publix Total TA':\"Publix\",\n",
    "     'Rite Aid - Corp Total TA':\"Rite Aid\",\n",
    "     \"Sam's Total TA\":\"Sams\",\n",
    "     'ShopRite Total TA':\"Shoprite\",\n",
    "     'Strategic Grocery':\"Strategic Grocery\",\n",
    "     'TOTAL MASS':\"TOTAL MASS\",\n",
    "     'Target Total BM/FF TA':\"Target\",\n",
    "     'Total US Drug':\"US Drug\",\n",
    "     'Total US Food':\"US Food\",\n",
    "     'Total US xAOC':\"US AOC\",\n",
    "     'VDC':\"VDC\",\n",
    "     'Walgreens Total TA':\"Walgreens\",\n",
    "     'Walmart Total US TA':\"Walmart\",\n",
    "     'Wegmans Total TA':\"Wegmans\",\n",
    "     \"El Super Total TA\" : \"El Super\"\n",
    "    }\n"
   ]
  },
  {
   "cell_type": "code",
   "execution_count": 57,
   "metadata": {},
   "outputs": [
    {
     "data": {
      "text/plain": [
       "{'ALBSCO Total Company TA',\n",
       " 'Ahold USA Corp Total TA',\n",
       " 'BJs Total TA',\n",
       " 'CLUB',\n",
       " 'CVS Total Corp WO HI TA',\n",
       " 'Dol Gen Total TA',\n",
       " 'El Super Total TA',\n",
       " 'FDM',\n",
       " 'Family Dollar Total TA',\n",
       " 'Fiesta Total TA',\n",
       " 'Giant Eagle Total TA',\n",
       " 'Kmart Total TA',\n",
       " 'Meijer Total TA',\n",
       " 'Publix Total TA',\n",
       " 'REGIONAL GROCERY xLA',\n",
       " 'RG xLA & MILITARY',\n",
       " 'Rite Aid - Corp Total TA',\n",
       " \"Sam's Total TA\",\n",
       " 'ShopRite Total TA',\n",
       " 'Strategic Grocery',\n",
       " 'TOTAL MASS',\n",
       " 'Target Total BM/FF TA',\n",
       " 'Total US Drug',\n",
       " 'Total US Food',\n",
       " 'Total US xAOC',\n",
       " 'VDC',\n",
       " 'Walgreens Total TA',\n",
       " 'Walmart Total US TA',\n",
       " 'Wegmans Total TA'}"
      ]
     },
     "execution_count": 57,
     "metadata": {},
     "output_type": "execute_result"
    }
   ],
   "source": [
    "set(Data_5p[\"Markets\"])"
   ]
  },
  {
   "cell_type": "code",
   "execution_count": 58,
   "metadata": {},
   "outputs": [],
   "source": [
    "Data_5p[\"Markets\"].replace(Market_Mapping,inplace=True)"
   ]
  },
  {
   "cell_type": "code",
   "execution_count": 59,
   "metadata": {
    "scrolled": true
   },
   "outputs": [
    {
     "data": {
      "text/html": [
       "<div>\n",
       "<style scoped>\n",
       "    .dataframe tbody tr th:only-of-type {\n",
       "        vertical-align: middle;\n",
       "    }\n",
       "\n",
       "    .dataframe tbody tr th {\n",
       "        vertical-align: top;\n",
       "    }\n",
       "\n",
       "    .dataframe thead th {\n",
       "        text-align: right;\n",
       "    }\n",
       "</style>\n",
       "<table border=\"1\" class=\"dataframe\">\n",
       "  <thead>\n",
       "    <tr style=\"text-align: right;\">\n",
       "      <th></th>\n",
       "      <th>Markets</th>\n",
       "      <th>ShareBasis</th>\n",
       "      <th>Category</th>\n",
       "      <th>Manufacturer</th>\n",
       "      <th>Franchise</th>\n",
       "      <th>Brand</th>\n",
       "      <th>SubBrand</th>\n",
       "      <th>Products</th>\n",
       "      <th>Facts</th>\n",
       "      <th>FY 2020</th>\n",
       "      <th>...</th>\n",
       "      <th>5 W/E 10/03/20</th>\n",
       "      <th>4 W/E 08/29/20</th>\n",
       "      <th>4 W/E 08/01/20</th>\n",
       "      <th>5 W/E 07/04/20</th>\n",
       "      <th>4 W/E 05/30/20</th>\n",
       "      <th>4 W/E 05/02/20</th>\n",
       "      <th>5 W/E 04/04/20</th>\n",
       "      <th>4 W/E 02/29/20</th>\n",
       "      <th>4 W/E 02/01/20</th>\n",
       "      <th>Key</th>\n",
       "    </tr>\n",
       "  </thead>\n",
       "  <tbody>\n",
       "    <tr>\n",
       "      <th>0</th>\n",
       "      <td>US AOC</td>\n",
       "      <td>ABRASIVE</td>\n",
       "      <td>HHC</td>\n",
       "      <td></td>\n",
       "      <td></td>\n",
       "      <td></td>\n",
       "      <td></td>\n",
       "      <td>ABRASIVE</td>\n",
       "      <td>% $ Any Promo</td>\n",
       "      <td>6.852</td>\n",
       "      <td>...</td>\n",
       "      <td>5.684</td>\n",
       "      <td>5.237</td>\n",
       "      <td>5.397</td>\n",
       "      <td>4.521</td>\n",
       "      <td>5.375</td>\n",
       "      <td>6.757</td>\n",
       "      <td>11.126</td>\n",
       "      <td>8.262</td>\n",
       "      <td>11.107</td>\n",
       "      <td>Total US xAOCABRASIVE</td>\n",
       "    </tr>\n",
       "    <tr>\n",
       "      <th>1</th>\n",
       "      <td>US AOC</td>\n",
       "      <td>ABRASIVE</td>\n",
       "      <td>HHC</td>\n",
       "      <td></td>\n",
       "      <td></td>\n",
       "      <td></td>\n",
       "      <td></td>\n",
       "      <td>ABRASIVE</td>\n",
       "      <td>% $ Any Promo Chg YA</td>\n",
       "      <td>-3.033</td>\n",
       "      <td>...</td>\n",
       "      <td>-1.867</td>\n",
       "      <td>-3.987</td>\n",
       "      <td>-1.106</td>\n",
       "      <td>-5.830</td>\n",
       "      <td>-5.742</td>\n",
       "      <td>-4.454</td>\n",
       "      <td>-2.334</td>\n",
       "      <td>-0.137</td>\n",
       "      <td>2.827</td>\n",
       "      <td>Total US xAOCABRASIVE</td>\n",
       "    </tr>\n",
       "    <tr>\n",
       "      <th>2</th>\n",
       "      <td>US AOC</td>\n",
       "      <td>ABRASIVE</td>\n",
       "      <td>HHC</td>\n",
       "      <td></td>\n",
       "      <td></td>\n",
       "      <td></td>\n",
       "      <td></td>\n",
       "      <td>ABRASIVE</td>\n",
       "      <td>% EQ Any Promo</td>\n",
       "      <td>7.001</td>\n",
       "      <td>...</td>\n",
       "      <td>5.203</td>\n",
       "      <td>4.318</td>\n",
       "      <td>6.266</td>\n",
       "      <td>4.726</td>\n",
       "      <td>5.051</td>\n",
       "      <td>5.970</td>\n",
       "      <td>11.970</td>\n",
       "      <td>10.971</td>\n",
       "      <td>14.294</td>\n",
       "      <td>Total US xAOCABRASIVE</td>\n",
       "    </tr>\n",
       "  </tbody>\n",
       "</table>\n",
       "<p>3 rows × 40 columns</p>\n",
       "</div>"
      ],
      "text/plain": [
       "  Markets ShareBasis Category Manufacturer Franchise Brand SubBrand  Products  \\\n",
       "0  US AOC   ABRASIVE      HHC                                        ABRASIVE   \n",
       "1  US AOC   ABRASIVE      HHC                                        ABRASIVE   \n",
       "2  US AOC   ABRASIVE      HHC                                        ABRASIVE   \n",
       "\n",
       "                  Facts  FY 2020  ...  5 W/E 10/03/20  4 W/E 08/29/20  \\\n",
       "0         % $ Any Promo    6.852  ...           5.684           5.237   \n",
       "1  % $ Any Promo Chg YA   -3.033  ...          -1.867          -3.987   \n",
       "2        % EQ Any Promo    7.001  ...           5.203           4.318   \n",
       "\n",
       "   4 W/E 08/01/20  5 W/E 07/04/20  4 W/E 05/30/20  4 W/E 05/02/20  \\\n",
       "0           5.397           4.521           5.375           6.757   \n",
       "1          -1.106          -5.830          -5.742          -4.454   \n",
       "2           6.266           4.726           5.051           5.970   \n",
       "\n",
       "   5 W/E 04/04/20  4 W/E 02/29/20  4 W/E 02/01/20                    Key  \n",
       "0          11.126           8.262          11.107  Total US xAOCABRASIVE  \n",
       "1          -2.334          -0.137           2.827  Total US xAOCABRASIVE  \n",
       "2          11.970          10.971          14.294  Total US xAOCABRASIVE  \n",
       "\n",
       "[3 rows x 40 columns]"
      ]
     },
     "execution_count": 59,
     "metadata": {},
     "output_type": "execute_result"
    }
   ],
   "source": [
    "Data_5p.head(3)"
   ]
  },
  {
   "cell_type": "code",
   "execution_count": 60,
   "metadata": {},
   "outputs": [
    {
     "data": {
      "text/plain": [
       "{'ABRASIVE',\n",
       " 'APC+WW',\n",
       " 'BAR',\n",
       " 'BATTERY+HYBRID',\n",
       " 'BEAD FS',\n",
       " 'BODYWASH',\n",
       " 'FABRIC SOFTENERS',\n",
       " 'LDL/DISHAIDS/WPS/FM/SPRAYS',\n",
       " 'LIQUID',\n",
       " 'LIQUID FS',\n",
       " 'MANUAL',\n",
       " 'MFR Sun Products',\n",
       " 'MFR Sun Products LDL',\n",
       " 'MOUTHWASH',\n",
       " 'PORTABLE TB',\n",
       " 'POUR APC+WW',\n",
       " 'POWER',\n",
       " 'SCENT BOOSTERS',\n",
       " 'SHEETS',\n",
       " 'SPRAY',\n",
       " 'TOOTHPASTE',\n",
       " 'WHITENING SYS',\n",
       " 'WOOD'}"
      ]
     },
     "execution_count": 60,
     "metadata": {},
     "output_type": "execute_result"
    }
   ],
   "source": [
    "set(Data_5p[\"ShareBasis\"])"
   ]
  },
  {
   "cell_type": "markdown",
   "metadata": {},
   "source": [
    "**Promo Fact, Markets & Time Period Mapping**"
   ]
  },
  {
   "cell_type": "code",
   "execution_count": 61,
   "metadata": {},
   "outputs": [
    {
     "name": "stdout",
     "output_type": "stream",
     "text": [
      "['Markets', 'Products', 'ShareBasis', 'Category', 'Manufacturer', 'Franchise', 'Brand', 'SubBrand', 'Facts', '4 W/E 02/27/21', 'Latest 13 Weeks', 'Latest 26 Weeks', 'YTD 2021', 'FY 2020', '4 W/E 02/29/20', '5 W/E 04/04/20', '4 W/E 05/02/20', '4 W/E 05/30/20', '5 W/E 07/04/20', '4 W/E 08/01/20', '4 W/E 08/29/20', '5 W/E 10/03/20', '4 W/E 10/31/20', '4 W/E 11/28/20', '5 W/E 01/02/21', '4 W/E 01/30/21']\n"
     ]
    }
   ],
   "source": [
    "Promo_Facts=[\"$ Shr - CP CATEGORY\",\"$ Shr Chg YA - CP CATEGORY\",\"% $ Any Promo\",\"% $ Any Promo Chg YA\",\"% EQ Any Promo\",\n",
    "             \"% EQ Any Promo Chg YA\",\"Feat & Disp %ACV\",\"Feat w/o Disp %ACV\",\"Feat w/o Disp %ACV Chg YA\",\"Any Promo %ACV\",\n",
    "             \"Any Promo %ACV Chg YA\",\"Disp w/o Feat %ACV\",\"Disp w/o Feat %ACV Chg YA\",\"Price Decr Only %ACV\",\n",
    "             \"Price Decr Only %ACV Chg YA\",\"Base EQ Price\",\"Base EQ Price Chg YA\",\"Base $ Shr - CP CATEGORY\",\n",
    "             \"Base $ Shr Chg YA - CP CATEGORY\",\"Incr $ Shr - CP CATEGORY\",\"Incr $ Shr Chg YA - CP CATEGORY\",\n",
    "             \"Feat or Disp %ACV Chg YA\",\"Any Promo EQ Price\",\"Any Promo EQ Price Chg YA\",\"Feat or Disp %ACV\",\n",
    "             \"Feat & Disp %ACV Chg YA\",\"Avg EQ Price\",\"Avg EQ Price Chg YA\",\"Any Promo $ Shr - CP CATEGORY\",\n",
    "             \"Any Promo $ Shr Chg YA - CP CATEGORY\"]\n",
    "\n",
    "Promo_Markets=[\"US AOC\",\"Ahold\",\"Alb/Sfy\",\"BJs\",\"CVS\",\"Dollar General\",\"Family Dollar\",\"Meijer\",\"Publix\",\n",
    "         \"Rite Aid\",\"Sams\",\"Shoprite\",\"Target\",\"US Drug\",\"US Food\",\"Walgreens\",\"Walmart\"]\n",
    "\n",
    "# Time_Period is important. columns should be in the below order only\n",
    "Promo_Time_Period=list(Data_5p.columns[0:1])+list(Data_5p.columns[7:8])+list(Data_5p.columns[1:7])+list(Data_5p.columns[8:9])+list(Data_5p.columns[25:26])+list(Data_5p.columns[15:17])+list(Data_5p.columns[13:14])+list(Data_5p.columns[9:10])+list(Data_5p.columns[26:38])[::-1]\n",
    "print(Promo_Time_Period)"
   ]
  },
  {
   "cell_type": "code",
   "execution_count": 62,
   "metadata": {},
   "outputs": [
    {
     "data": {
      "text/plain": [
       "{'BAR', 'BW', 'FS', 'HHC', 'LDL', 'LHS', 'MTB', 'MW', 'PTB', 'TP'}"
      ]
     },
     "execution_count": 62,
     "metadata": {},
     "output_type": "execute_result"
    }
   ],
   "source": [
    "set(Data_5p[\"Category\"])"
   ]
  },
  {
   "cell_type": "code",
   "execution_count": 63,
   "metadata": {},
   "outputs": [],
   "source": [
    "Promo_Fact_Mapping={\n",
    "    \"$ Shr - CP CATEGORY\":\"$ Share\",\n",
    "    \"$ Shr Chg YA - CP CATEGORY\":\"$ Share YAG Chg\",\n",
    "    \"% $ Any Promo\":\"% Dollars w/Any Promo\",\n",
    "    \"% $ Any Promo Chg YA\":\"% Dollars w/Any Promo YAG Chg\",\n",
    "    \"% EQ Any Promo\":\"% EQ Units w/Any Promo\",\n",
    "    \"% EQ Any Promo Chg YA\":\"% EQ Units w/Any Promo YAG Chg\",\n",
    "    \"Feat & Disp %ACV\":\"%ACV Any Ftr & Disp\",\n",
    "    \"Feat w/o Disp %ACV\":\"%ACV Any Ftr w/o Disp\",\n",
    "    \"Feat w/o Disp %ACV Chg YA\":\"%ACV Any Ftr w/o Disp YAG Chg\",\n",
    "    \"Any Promo %ACV\":\"%ACV Any Promo\",\n",
    "    \"Any Promo %ACV Chg YA\":\"%ACV Any Promo YAG Chg\",\n",
    "    \"Disp w/o Feat %ACV\":\"%ACV Disp w/o Ftr\",\n",
    "    \"Disp w/o Feat %ACV Chg YA\":\"%ACV Disp w/o Ftr YAG Chg\",\n",
    "    \"Price Decr Only %ACV\":\"%ACV TPR\",\n",
    "    \"Price Decr Only %ACV Chg YA\":\"%ACV TPR YAG Chg\",\n",
    "    \"Base EQ Price\":\"Base RASP per Case\",\n",
    "    \"Base EQ Price Chg YA\":\"Base RASP per Case YAG Chg\",\n",
    "    \"Base $ Shr - CP CATEGORY\":\"Baseline $ Share\",\n",
    "    \"Base $ Shr Chg YA - CP CATEGORY\":\"Baseline $ Share YAG Chg\",\n",
    "    \"Incr $ Shr - CP CATEGORY\":\"Incr.$ Share\",\n",
    "    \"Incr $ Shr Chg YA - CP CATEGORY\":\"Incr.$ Share YAG Chg\",\n",
    "  # \"Feat & Disp %ACV Chg YA\":\"Prcnt_ACV_FD_Chg_cum\",             #For TP\n",
    "    \"Feat & Disp %ACV Chg YA\":\"%ACV Any Ftr & Disp YAG Chg\",        #For all others\n",
    "    \"Any Promo EQ Price\":\"Promo RASP per Case\",\n",
    "    \"Any Promo EQ Price Chg YA\":\"Promo RASP per Case YAG Chg\",\n",
    "    \"Feat or Disp %ACV\":\"Quality Support %ACV\",\n",
    "    \"Feat or Disp %ACV Chg YA\":\"Quality Support %ACV YAG Chg\",\n",
    "    \"Avg EQ Price\":\"RASP per Case\",\n",
    "    \"Avg EQ Price Chg YA\":\"RASP per Case YAG Chg\",\n",
    "    \"Any Promo $ Shr - CP CATEGORY\":\"Share_of_Promo_Doll\",\n",
    "    \"Any Promo $ Shr Chg YA - CP CATEGORY\":\"Share_of_Promo_Doll_Chg\"\n",
    "}"
   ]
  },
  {
   "cell_type": "code",
   "execution_count": 64,
   "metadata": {},
   "outputs": [
    {
     "data": {
      "text/plain": [
       "{'$',\n",
       " '$ % Chg YA',\n",
       " '$ / $MM ACV',\n",
       " '$ / $MM ACV % Chg YA',\n",
       " '$ / $MM ACV Chg YA',\n",
       " '$ Chg YA',\n",
       " '$ Shr - CP CATEGORY',\n",
       " '$ Shr Chg YA - CP CATEGORY',\n",
       " '$ YA',\n",
       " '% $ Any Promo',\n",
       " '% $ Any Promo Chg YA',\n",
       " '% EQ Any Promo',\n",
       " '% EQ Any Promo Chg YA',\n",
       " '%ACV',\n",
       " '%ACV Chg YA',\n",
       " 'Any Disp %ACV',\n",
       " 'Any Disp %ACV Chg YA',\n",
       " 'Any Disp %ACV YA',\n",
       " 'Any Feat %ACV',\n",
       " 'Any Feat %ACV Chg YA',\n",
       " 'Any Feat %ACV YA',\n",
       " 'Any Promo $',\n",
       " 'Any Promo $ % Chg YA',\n",
       " 'Any Promo $ Chg YA',\n",
       " 'Any Promo $ Shr - CP CATEGORY',\n",
       " 'Any Promo $ Shr Chg YA - CP CATEGORY',\n",
       " 'Any Promo %ACV',\n",
       " 'Any Promo %ACV Chg YA',\n",
       " 'Any Promo EQ',\n",
       " 'Any Promo EQ % Chg YA',\n",
       " 'Any Promo EQ Chg YA',\n",
       " 'Any Promo EQ Price',\n",
       " 'Any Promo EQ Price Chg YA',\n",
       " 'Avg # of Items',\n",
       " 'Avg # of Items Chg YA',\n",
       " 'Avg EQ Price',\n",
       " 'Avg EQ Price % Chg YA',\n",
       " 'Avg EQ Price Chg YA',\n",
       " 'Avg EQ Price YA',\n",
       " 'Avg Unit Price',\n",
       " 'Avg Unit Price % Chg YA',\n",
       " 'Avg Unit Price Chg YA',\n",
       " 'Avg Unit Price YA',\n",
       " 'Base $',\n",
       " 'Base $ % Chg YA',\n",
       " 'Base $ Chg YA',\n",
       " 'Base $ Shr - CP CATEGORY',\n",
       " 'Base $ Shr Chg YA - CP CATEGORY',\n",
       " 'Base $ YA',\n",
       " 'Base EQ',\n",
       " 'Base EQ % Chg YA',\n",
       " 'Base EQ Chg YA',\n",
       " 'Base EQ Price',\n",
       " 'Base EQ Price % Chg YA',\n",
       " 'Base EQ Price Chg YA',\n",
       " 'Base EQ Shr - CP CATEGORY',\n",
       " 'Base EQ Shr Chg YA - CP CATEGORY',\n",
       " 'Disp w/o Feat $',\n",
       " 'Disp w/o Feat $ % Chg YA',\n",
       " 'Disp w/o Feat $ Chg YA',\n",
       " 'Disp w/o Feat %ACV',\n",
       " 'Disp w/o Feat %ACV Chg YA',\n",
       " 'EQ',\n",
       " 'EQ % Chg YA',\n",
       " 'EQ Chg YA',\n",
       " 'EQ Shr - CP CATEGORY',\n",
       " 'EQ Shr Chg YA - CP CATEGORY',\n",
       " 'Feat & Disp $',\n",
       " 'Feat & Disp $ % Chg YA',\n",
       " 'Feat & Disp $ Chg YA',\n",
       " 'Feat & Disp %ACV',\n",
       " 'Feat & Disp %ACV Chg YA',\n",
       " 'Feat & Disp %ACV YA',\n",
       " 'Feat or Disp %ACV',\n",
       " 'Feat or Disp %ACV Chg YA',\n",
       " 'Feat w/o Disp $',\n",
       " 'Feat w/o Disp $ % Chg YA',\n",
       " 'Feat w/o Disp $ Chg YA',\n",
       " 'Feat w/o Disp %ACV',\n",
       " 'Feat w/o Disp %ACV Chg YA',\n",
       " 'Incr $',\n",
       " 'Incr $ % Chg YA',\n",
       " 'Incr $ Chg YA',\n",
       " 'Incr $ Shr - CP CATEGORY',\n",
       " 'Incr $ Shr Chg YA - CP CATEGORY',\n",
       " 'Incr $ YA',\n",
       " 'Incr EQ',\n",
       " 'Incr EQ % Chg YA',\n",
       " 'Incr EQ Chg YA',\n",
       " 'Incr EQ Shr - CP CATEGORY',\n",
       " 'Incr EQ Shr Chg YA - CP CATEGORY',\n",
       " 'No Promo Incr $',\n",
       " 'No Promo Incr $ % Chg YA',\n",
       " 'No Promo Incr $ Chg YA',\n",
       " 'Price Decr Only $',\n",
       " 'Price Decr Only $ % Chg YA',\n",
       " 'Price Decr Only $ Chg YA',\n",
       " 'Price Decr Only %ACV',\n",
       " 'Price Decr Only %ACV Chg YA',\n",
       " 'TDP',\n",
       " 'TDP % Chg YA',\n",
       " 'TDP Chg YA',\n",
       " 'Units',\n",
       " 'Units % Chg YA',\n",
       " 'Units / $MM ACV',\n",
       " 'Units / $MM ACV % Chg YA',\n",
       " 'Units / $MM ACV Chg YA',\n",
       " 'Units Chg YA'}"
      ]
     },
     "execution_count": 64,
     "metadata": {},
     "output_type": "execute_result"
    }
   ],
   "source": [
    "set(Data_5p[\"Facts\"])"
   ]
  },
  {
   "cell_type": "markdown",
   "metadata": {},
   "source": [
    "**Waterfall Mapppings**"
   ]
  },
  {
   "cell_type": "code",
   "execution_count": 65,
   "metadata": {},
   "outputs": [],
   "source": [
    "Waterfall_Market_Mapping={\n",
    "    \"US AOC\":\"TOTAL US XAOC\",\n",
    "    \"US Drug\":\"TOTAL US DRUG\",\n",
    "    \"US Food\":\"TOTAL US FOOD\",\n",
    "    \"Walmart\":\"TOTAL WALMART TOTAL US CTA\",\n",
    "    \"Target\":\"TARGET TOTAL BM/FF CENSUS TA\",\n",
    "    \"Walgreens\":\"WALGREENS CORP TOTAL CENSUS TA\",\n",
    "    \"Rite Aid\":\"RITE AID - TOTAL CENSUS TA\",\n",
    "    \"Shoprite\":\"SHOPRITE TOTAL CENSUS TRADING AREA\",\n",
    "    \"Publix\":\"PUBLIX TOTAL CENSUS TRADING AREA\",\n",
    "    \"Family Dollar\":\"FAMILY DOLLAR TOTAL CENSUS TRADING AREA\",\n",
    "    \"Dollar General\":\"DOL GEN TOTAL CENSUS TA\",\n",
    "    \"CVS\":\"CVS TOTAL CORP WO HI CENSUS TA\",\n",
    "    \"Sams\":\"SAMS TOTAL CENSUS TRADING AREA\",\n",
    "    \"BJs\":\"BJS TOTAL CENSUS TA\",\n",
    "    \"Ahold\":\"AHOLD USA CORP TOTAL CTA\",\n",
    "    \"Meijer\":\"MEIJER TOTAL CENSUS TRADING AREA\",\n",
    "    #\"Meijer\":\"Meijer Total TA\",\n",
    "    \"Alb/Sfy\":\"ALBSCO Total Company TA\",\n",
    "    \"Kmart\":\"Kmart Total TA\",\n",
    "    \"Wegmans\":\"Wegmans Total TA\",\n",
    "    \"Giant Eagle\":\"Giant Eagle Total TA\",\n",
    "    #\"Meijer\":\"MEIJER TOTAL TA\",\n",
    "    \"El Super\":\"El Super Total TA\",\n",
    "    \"Sams'\":\"SAMS TOTAL CENSUS TRADING AREA\",\n",
    "    \"BJs'\":\"BJS TOTAL CENSUS TA\",\n",
    "    \"Fiesta\":\"Fiesta Total TA\"\n",
    "}"
   ]
  },
  {
   "cell_type": "code",
   "execution_count": 66,
   "metadata": {},
   "outputs": [
    {
     "name": "stdout",
     "output_type": "stream",
     "text": [
      "['Markets', 'Products', 'Manufacturer', 'Franchise', 'Brand', 'SubBrand', 'Facts', 'YTD 2021', 'YTD 2020', '4 W/E 02/27/21', '4 W/E 02/29/20']\n"
     ]
    }
   ],
   "source": [
    "Waterfall_Facts=[\"No Promo Incr $\",\"Feat w/o Disp $\",\"Disp w/o Feat $\",\"Feat & Disp $\",\"Price Decr Only $\",\"$\",\n",
    "                 \"$ Shr - CP CATEGORY\",\"Base $\"]\n",
    "\n",
    "Waterfall_Markets=[\"TOTAL US XAOC\",\"TOTAL US DRUG\",\"TOTAL US FOOD\",\"TOTAL WALMART TOTAL US CTA\",\"TARGET TOTAL BM/FF CENSUS TA\",\n",
    "         \"WALGREENS CORP TOTAL CENSUS TA\",\"RITE AID - TOTAL CENSUS TA\",\"SHOPRITE TOTAL CENSUS TRADING AREA\",\n",
    "         \"PUBLIX TOTAL CENSUS TRADING AREA\",\"FAMILY DOLLAR TOTAL CENSUS TRADING AREA\",\"DOL GEN TOTAL CENSUS TA\",\n",
    "         \"CVS TOTAL CORP WO HI CENSUS TA\",\"SAMS TOTAL CENSUS TRADING AREA\",\"BJS TOTAL CENSUS TA\",\"ALBSCO Total Company TA\"\n",
    "         \"AHOLD USA CORP TOTAL CTA\",\"MEIJER TOTAL CENSUS TRADING AREA\",\"Wegmans Total TA\",\"Giant Eagle Total TA\"\n",
    "                   ]\n",
    "\n",
    "# Time_Period is important. columns should be in the below order only\n",
    "Waterfall_Time_Period=list(Data_5p.columns[0:1])+list(Data_5p.columns[7:8])+list(Data_5p.columns[3:7])+list(Data_5p.columns[8:9])+list(Data_5p.columns[13:15])+list(Data_5p.columns[25:26])+list(Data_5p.columns[37:38])\n",
    "print(Waterfall_Time_Period)"
   ]
  },
  {
   "cell_type": "code",
   "execution_count": 67,
   "metadata": {},
   "outputs": [],
   "source": [
    "Waterfall_Fact_Mapping={\n",
    "    \"No Promo Incr $\":\"Incr.$ w/No Promo\",\n",
    "    \"Feat w/o Disp $\":\"Incr.$ w/Ftr w/o Disp\",\n",
    "    \"Disp w/o Feat $\":\"Incr.$ w/Disp w/o Ftr\",\n",
    "    \"Feat & Disp $\":\"Incr.$ w/Ftr & Disp\",\n",
    "    \"Price Decr Only $\":\"Incr.$ w/TPR\",\n",
    "    \"$\":\"Dollars\",\n",
    "    \"$ Shr - CP CATEGORY\":\"$ Share\",\n",
    "    \"Base $\":\"Baseline $\"\n",
    "}"
   ]
  },
  {
   "cell_type": "code",
   "execution_count": 68,
   "metadata": {},
   "outputs": [
    {
     "data": {
      "text/plain": [
       "{'Ahold',\n",
       " 'Alb/Sfy',\n",
       " 'BJs',\n",
       " 'CLUB',\n",
       " 'CVS',\n",
       " 'Dollar General',\n",
       " 'El Super',\n",
       " 'FDM',\n",
       " 'Family Dollar',\n",
       " 'Fiesta',\n",
       " 'Giant Eagle',\n",
       " 'Kmart',\n",
       " 'Meijer',\n",
       " 'Publix',\n",
       " 'REGIONAL GROCERY xLA',\n",
       " 'RG xLA & MILITARY',\n",
       " 'Rite Aid',\n",
       " 'Sams',\n",
       " 'Shoprite',\n",
       " 'Strategic Grocery',\n",
       " 'TOTAL MASS',\n",
       " 'Target',\n",
       " 'US AOC',\n",
       " 'US Drug',\n",
       " 'US Food',\n",
       " 'VDC',\n",
       " 'Walgreens',\n",
       " 'Walmart',\n",
       " 'Wegmans'}"
      ]
     },
     "execution_count": 68,
     "metadata": {},
     "output_type": "execute_result"
    }
   ],
   "source": [
    "set(Data_5p[\"Markets\"])"
   ]
  },
  {
   "cell_type": "markdown",
   "metadata": {},
   "source": [
    "## TOOTHPASTE"
   ]
  },
  {
   "cell_type": "code",
   "execution_count": 69,
   "metadata": {},
   "outputs": [],
   "source": [
    "# path to store Output files\n",
    "\n",
    "path_TP=\"//falmumapp34/Nielsen Connect Transition & Maintenance (20-SCP-3650)/05. Output Data/5P Output/TP/\""
   ]
  },
  {
   "cell_type": "code",
   "execution_count": 70,
   "metadata": {},
   "outputs": [],
   "source": [
    "Data_5p_TP=Data_5p.copy()"
   ]
  },
  {
   "cell_type": "markdown",
   "metadata": {},
   "source": [
    "**Filtering TP Data**"
   ]
  },
  {
   "cell_type": "code",
   "execution_count": 71,
   "metadata": {},
   "outputs": [],
   "source": [
    "Data_5p_TP=Data_5p_TP.loc[Data_5p_TP[\"Category\"]==\"TP\"]\n",
    "Data_5p_TP=Data_5p_TP[Data_5p_TP[\"ShareBasis\"]==\"TOOTHPASTE\"]"
   ]
  },
  {
   "cell_type": "markdown",
   "metadata": {},
   "source": [
    "## Promotion Data TP"
   ]
  },
  {
   "cell_type": "code",
   "execution_count": 72,
   "metadata": {},
   "outputs": [],
   "source": [
    "TP_Promo= Data_5p_TP.copy()"
   ]
  },
  {
   "cell_type": "code",
   "execution_count": 73,
   "metadata": {},
   "outputs": [
    {
     "data": {
      "text/plain": [
       "set()"
      ]
     },
     "execution_count": 73,
     "metadata": {},
     "output_type": "execute_result"
    }
   ],
   "source": [
    "set(Promo_Facts) - set(TP_Promo['Facts'])\n"
   ]
  },
  {
   "cell_type": "code",
   "execution_count": 74,
   "metadata": {},
   "outputs": [],
   "source": [
    "# Filter Data based on Promo selection\n",
    "TP_Promo= TP_Promo[TP_Promo[\"Facts\"].isin(Promo_Facts)]\n",
    "TP_Promo= TP_Promo[TP_Promo[\"Markets\"].isin(Promo_Markets)]\n",
    "TP_Promo=TP_Promo[Promo_Time_Period]"
   ]
  },
  {
   "cell_type": "markdown",
   "metadata": {},
   "source": [
    "**Fact Name Change**"
   ]
  },
  {
   "cell_type": "code",
   "execution_count": 75,
   "metadata": {},
   "outputs": [],
   "source": [
    "TP_Promo[\"Facts\"].replace(Promo_Fact_Mapping,inplace=True)"
   ]
  },
  {
   "cell_type": "code",
   "execution_count": 76,
   "metadata": {},
   "outputs": [],
   "source": [
    "TP_Promo[\"Facts\"] = TP_Promo[\"Facts\"].str.replace(\"%ACV Any Ftr & Disp YAG Chg\", \"Prcnt_ACV_FD_Chg_cum\")"
   ]
  },
  {
   "cell_type": "code",
   "execution_count": 77,
   "metadata": {
    "scrolled": true
   },
   "outputs": [
    {
     "data": {
      "text/plain": [
       "(56160, 26)"
      ]
     },
     "execution_count": 77,
     "metadata": {},
     "output_type": "execute_result"
    }
   ],
   "source": [
    "TP_Promo.shape"
   ]
  },
  {
   "cell_type": "markdown",
   "metadata": {},
   "source": [
    "**Column name Change**"
   ]
  },
  {
   "cell_type": "code",
   "execution_count": 78,
   "metadata": {},
   "outputs": [],
   "source": [
    "TP_Promo.rename(columns={\"Markets\":\"MKT\",\"ShareBasis\":\"CP_CATEGORY\",\"Products\":\"PROD\",\"Manufacturer\":\"CP_MANUFACTURER\",\n",
    "                                \"Franchise\":\"CP_FRANCHISE\",\"Brand\":\"CP_BRAND\",\"SubBrand\":\"CP_SUBBRAND\",\"Facts\":\"FCT\"},inplace=True)"
   ]
  },
  {
   "cell_type": "code",
   "execution_count": 79,
   "metadata": {},
   "outputs": [
    {
     "data": {
      "text/html": [
       "<div>\n",
       "<style scoped>\n",
       "    .dataframe tbody tr th:only-of-type {\n",
       "        vertical-align: middle;\n",
       "    }\n",
       "\n",
       "    .dataframe tbody tr th {\n",
       "        vertical-align: top;\n",
       "    }\n",
       "\n",
       "    .dataframe thead th {\n",
       "        text-align: right;\n",
       "    }\n",
       "</style>\n",
       "<table border=\"1\" class=\"dataframe\">\n",
       "  <thead>\n",
       "    <tr style=\"text-align: right;\">\n",
       "      <th></th>\n",
       "      <th>MKT</th>\n",
       "      <th>PROD</th>\n",
       "      <th>CP_CATEGORY</th>\n",
       "      <th>Category</th>\n",
       "      <th>CP_MANUFACTURER</th>\n",
       "      <th>CP_FRANCHISE</th>\n",
       "      <th>CP_BRAND</th>\n",
       "      <th>CP_SUBBRAND</th>\n",
       "      <th>FCT</th>\n",
       "      <th>4 W/E 02/27/21</th>\n",
       "      <th>...</th>\n",
       "      <th>4 W/E 05/02/20</th>\n",
       "      <th>4 W/E 05/30/20</th>\n",
       "      <th>5 W/E 07/04/20</th>\n",
       "      <th>4 W/E 08/01/20</th>\n",
       "      <th>4 W/E 08/29/20</th>\n",
       "      <th>5 W/E 10/03/20</th>\n",
       "      <th>4 W/E 10/31/20</th>\n",
       "      <th>4 W/E 11/28/20</th>\n",
       "      <th>5 W/E 01/02/21</th>\n",
       "      <th>4 W/E 01/30/21</th>\n",
       "    </tr>\n",
       "  </thead>\n",
       "  <tbody>\n",
       "    <tr>\n",
       "      <th>2318727</th>\n",
       "      <td>US AOC</td>\n",
       "      <td>TOOTHPASTE</td>\n",
       "      <td>TOOTHPASTE</td>\n",
       "      <td>TP</td>\n",
       "      <td></td>\n",
       "      <td></td>\n",
       "      <td></td>\n",
       "      <td></td>\n",
       "      <td>% Dollars w/Any Promo</td>\n",
       "      <td>28.036</td>\n",
       "      <td>...</td>\n",
       "      <td>20.148</td>\n",
       "      <td>22.325</td>\n",
       "      <td>23.808</td>\n",
       "      <td>29.485</td>\n",
       "      <td>26.977</td>\n",
       "      <td>28.146</td>\n",
       "      <td>26.419</td>\n",
       "      <td>27.115</td>\n",
       "      <td>25.366</td>\n",
       "      <td>28.092</td>\n",
       "    </tr>\n",
       "    <tr>\n",
       "      <th>2318728</th>\n",
       "      <td>US AOC</td>\n",
       "      <td>TOOTHPASTE</td>\n",
       "      <td>TOOTHPASTE</td>\n",
       "      <td>TP</td>\n",
       "      <td></td>\n",
       "      <td></td>\n",
       "      <td></td>\n",
       "      <td></td>\n",
       "      <td>% Dollars w/Any Promo YAG Chg</td>\n",
       "      <td>-2.892</td>\n",
       "      <td>...</td>\n",
       "      <td>-8.286</td>\n",
       "      <td>-6.050</td>\n",
       "      <td>-2.713</td>\n",
       "      <td>-0.813</td>\n",
       "      <td>-4.114</td>\n",
       "      <td>-1.782</td>\n",
       "      <td>-3.261</td>\n",
       "      <td>-1.968</td>\n",
       "      <td>-4.096</td>\n",
       "      <td>-3.413</td>\n",
       "    </tr>\n",
       "  </tbody>\n",
       "</table>\n",
       "<p>2 rows × 26 columns</p>\n",
       "</div>"
      ],
      "text/plain": [
       "            MKT        PROD CP_CATEGORY Category CP_MANUFACTURER CP_FRANCHISE  \\\n",
       "2318727  US AOC  TOOTHPASTE  TOOTHPASTE       TP                                \n",
       "2318728  US AOC  TOOTHPASTE  TOOTHPASTE       TP                                \n",
       "\n",
       "        CP_BRAND CP_SUBBRAND                            FCT  4 W/E 02/27/21  \\\n",
       "2318727                               % Dollars w/Any Promo          28.036   \n",
       "2318728                       % Dollars w/Any Promo YAG Chg          -2.892   \n",
       "\n",
       "         ...  4 W/E 05/02/20  4 W/E 05/30/20  5 W/E 07/04/20  4 W/E 08/01/20  \\\n",
       "2318727  ...          20.148          22.325          23.808          29.485   \n",
       "2318728  ...          -8.286          -6.050          -2.713          -0.813   \n",
       "\n",
       "         4 W/E 08/29/20  5 W/E 10/03/20  4 W/E 10/31/20  4 W/E 11/28/20  \\\n",
       "2318727          26.977          28.146          26.419          27.115   \n",
       "2318728          -4.114          -1.782          -3.261          -1.968   \n",
       "\n",
       "         5 W/E 01/02/21  4 W/E 01/30/21  \n",
       "2318727          25.366          28.092  \n",
       "2318728          -4.096          -3.413  \n",
       "\n",
       "[2 rows x 26 columns]"
      ]
     },
     "execution_count": 79,
     "metadata": {},
     "output_type": "execute_result"
    }
   ],
   "source": [
    "TP_Promo.head(2)"
   ]
  },
  {
   "cell_type": "code",
   "execution_count": 80,
   "metadata": {},
   "outputs": [],
   "source": [
    "# del TP_Promo[\"ShareBasis\"]\n",
    "del TP_Promo[\"Category\"]"
   ]
  },
  {
   "cell_type": "code",
   "execution_count": 81,
   "metadata": {},
   "outputs": [],
   "source": [
    "#Fact_order_1 = [\"Baseline $\",\"Incr.$ w/No Promo\",\"Incr.$ w/Ftr w/o Disp\",\"Incr.$ w/Disp w/o Ftr\",\"Incr.$ w/Ftr & Disp\",\n",
    "#             \"Incr.$ w/TPR\",\"Dollars\",\"$ Share\"]\n",
    "\n",
    "Fact_order = CategoricalDtype(\n",
    "    sorted(list(set(TP_Promo[\"FCT\"]))), \n",
    "    ordered=True\n",
    ")\n",
    "\n",
    "\n",
    "TP_Promo['FCT'] = TP_Promo['FCT'].astype(Fact_order)\n",
    "\n",
    "TP_Promo.sort_values(['MKT','PROD','FCT'],inplace=True)\n",
    "#TP_Promo['FCT'] = TP_Promo[Fact_order]\n"
   ]
  },
  {
   "cell_type": "code",
   "execution_count": 82,
   "metadata": {},
   "outputs": [
    {
     "data": {
      "text/plain": [
       "{'TOOTHPASTE'}"
      ]
     },
     "execution_count": 82,
     "metadata": {},
     "output_type": "execute_result"
    }
   ],
   "source": [
    "set(TP_Promo[\"CP_CATEGORY\"])"
   ]
  },
  {
   "cell_type": "markdown",
   "metadata": {},
   "source": [
    "## **promo_category**"
   ]
  },
  {
   "cell_type": "code",
   "execution_count": 83,
   "metadata": {},
   "outputs": [],
   "source": [
    "promo_category=TP_Promo.loc[(TP_Promo[\"CP_SUBBRAND\"]==\"\") & (TP_Promo[\"CP_BRAND\"]==\"\")&(TP_Promo[\"CP_FRANCHISE\"]==\"\")&(TP_Promo[\"CP_MANUFACTURER\"]==\"\")]"
   ]
  },
  {
   "cell_type": "code",
   "execution_count": 84,
   "metadata": {},
   "outputs": [],
   "source": [
    "length= len(promo_category)\n",
    "promo_category[\"Record_ID\"]=range(1,length+1)"
   ]
  },
  {
   "cell_type": "code",
   "execution_count": 85,
   "metadata": {},
   "outputs": [
    {
     "data": {
      "text/html": [
       "<div>\n",
       "<style scoped>\n",
       "    .dataframe tbody tr th:only-of-type {\n",
       "        vertical-align: middle;\n",
       "    }\n",
       "\n",
       "    .dataframe tbody tr th {\n",
       "        vertical-align: top;\n",
       "    }\n",
       "\n",
       "    .dataframe thead th {\n",
       "        text-align: right;\n",
       "    }\n",
       "</style>\n",
       "<table border=\"1\" class=\"dataframe\">\n",
       "  <thead>\n",
       "    <tr style=\"text-align: right;\">\n",
       "      <th></th>\n",
       "      <th>MKT</th>\n",
       "      <th>PROD</th>\n",
       "      <th>CP_CATEGORY</th>\n",
       "      <th>CP_MANUFACTURER</th>\n",
       "      <th>CP_FRANCHISE</th>\n",
       "      <th>CP_BRAND</th>\n",
       "      <th>CP_SUBBRAND</th>\n",
       "      <th>FCT</th>\n",
       "      <th>4 W/E 02/27/21</th>\n",
       "      <th>Latest 13 Weeks</th>\n",
       "      <th>...</th>\n",
       "      <th>4 W/E 05/30/20</th>\n",
       "      <th>5 W/E 07/04/20</th>\n",
       "      <th>4 W/E 08/01/20</th>\n",
       "      <th>4 W/E 08/29/20</th>\n",
       "      <th>5 W/E 10/03/20</th>\n",
       "      <th>4 W/E 10/31/20</th>\n",
       "      <th>4 W/E 11/28/20</th>\n",
       "      <th>5 W/E 01/02/21</th>\n",
       "      <th>4 W/E 01/30/21</th>\n",
       "      <th>Record_ID</th>\n",
       "    </tr>\n",
       "  </thead>\n",
       "  <tbody>\n",
       "    <tr>\n",
       "      <th>2492700</th>\n",
       "      <td>Ahold</td>\n",
       "      <td>TOOTHPASTE</td>\n",
       "      <td>TOOTHPASTE</td>\n",
       "      <td></td>\n",
       "      <td></td>\n",
       "      <td></td>\n",
       "      <td></td>\n",
       "      <td>$ Share</td>\n",
       "      <td>100.000</td>\n",
       "      <td>100.000</td>\n",
       "      <td>...</td>\n",
       "      <td>100.000</td>\n",
       "      <td>100.000</td>\n",
       "      <td>100.000</td>\n",
       "      <td>100.000</td>\n",
       "      <td>100.000</td>\n",
       "      <td>100.000</td>\n",
       "      <td>100.000</td>\n",
       "      <td>100.000</td>\n",
       "      <td>100.000</td>\n",
       "      <td>1</td>\n",
       "    </tr>\n",
       "    <tr>\n",
       "      <th>2492701</th>\n",
       "      <td>Ahold</td>\n",
       "      <td>TOOTHPASTE</td>\n",
       "      <td>TOOTHPASTE</td>\n",
       "      <td></td>\n",
       "      <td></td>\n",
       "      <td></td>\n",
       "      <td></td>\n",
       "      <td>$ Share YAG Chg</td>\n",
       "      <td>0.000</td>\n",
       "      <td>0.000</td>\n",
       "      <td>...</td>\n",
       "      <td>0.000</td>\n",
       "      <td>0.000</td>\n",
       "      <td>0.000</td>\n",
       "      <td>0.000</td>\n",
       "      <td>0.000</td>\n",
       "      <td>0.000</td>\n",
       "      <td>0.000</td>\n",
       "      <td>0.000</td>\n",
       "      <td>0.000</td>\n",
       "      <td>2</td>\n",
       "    </tr>\n",
       "    <tr>\n",
       "      <th>2492691</th>\n",
       "      <td>Ahold</td>\n",
       "      <td>TOOTHPASTE</td>\n",
       "      <td>TOOTHPASTE</td>\n",
       "      <td></td>\n",
       "      <td></td>\n",
       "      <td></td>\n",
       "      <td></td>\n",
       "      <td>% Dollars w/Any Promo</td>\n",
       "      <td>46.993</td>\n",
       "      <td>53.286</td>\n",
       "      <td>...</td>\n",
       "      <td>22.935</td>\n",
       "      <td>54.102</td>\n",
       "      <td>52.245</td>\n",
       "      <td>55.628</td>\n",
       "      <td>60.025</td>\n",
       "      <td>63.565</td>\n",
       "      <td>50.518</td>\n",
       "      <td>52.960</td>\n",
       "      <td>59.587</td>\n",
       "      <td>3</td>\n",
       "    </tr>\n",
       "    <tr>\n",
       "      <th>2492692</th>\n",
       "      <td>Ahold</td>\n",
       "      <td>TOOTHPASTE</td>\n",
       "      <td>TOOTHPASTE</td>\n",
       "      <td></td>\n",
       "      <td></td>\n",
       "      <td></td>\n",
       "      <td></td>\n",
       "      <td>% Dollars w/Any Promo YAG Chg</td>\n",
       "      <td>-14.721</td>\n",
       "      <td>-1.207</td>\n",
       "      <td>...</td>\n",
       "      <td>-24.288</td>\n",
       "      <td>-6.102</td>\n",
       "      <td>-12.933</td>\n",
       "      <td>0.410</td>\n",
       "      <td>-2.636</td>\n",
       "      <td>0.251</td>\n",
       "      <td>-5.474</td>\n",
       "      <td>8.326</td>\n",
       "      <td>0.770</td>\n",
       "      <td>4</td>\n",
       "    </tr>\n",
       "    <tr>\n",
       "      <th>2492693</th>\n",
       "      <td>Ahold</td>\n",
       "      <td>TOOTHPASTE</td>\n",
       "      <td>TOOTHPASTE</td>\n",
       "      <td></td>\n",
       "      <td></td>\n",
       "      <td></td>\n",
       "      <td></td>\n",
       "      <td>% EQ Units w/Any Promo</td>\n",
       "      <td>59.035</td>\n",
       "      <td>61.102</td>\n",
       "      <td>...</td>\n",
       "      <td>29.043</td>\n",
       "      <td>62.366</td>\n",
       "      <td>60.154</td>\n",
       "      <td>65.045</td>\n",
       "      <td>63.098</td>\n",
       "      <td>67.651</td>\n",
       "      <td>57.190</td>\n",
       "      <td>61.883</td>\n",
       "      <td>62.086</td>\n",
       "      <td>5</td>\n",
       "    </tr>\n",
       "  </tbody>\n",
       "</table>\n",
       "<p>5 rows × 26 columns</p>\n",
       "</div>"
      ],
      "text/plain": [
       "           MKT        PROD CP_CATEGORY CP_MANUFACTURER CP_FRANCHISE CP_BRAND  \\\n",
       "2492700  Ahold  TOOTHPASTE  TOOTHPASTE                                         \n",
       "2492701  Ahold  TOOTHPASTE  TOOTHPASTE                                         \n",
       "2492691  Ahold  TOOTHPASTE  TOOTHPASTE                                         \n",
       "2492692  Ahold  TOOTHPASTE  TOOTHPASTE                                         \n",
       "2492693  Ahold  TOOTHPASTE  TOOTHPASTE                                         \n",
       "\n",
       "        CP_SUBBRAND                            FCT  4 W/E 02/27/21  \\\n",
       "2492700                                    $ Share         100.000   \n",
       "2492701                            $ Share YAG Chg           0.000   \n",
       "2492691                      % Dollars w/Any Promo          46.993   \n",
       "2492692              % Dollars w/Any Promo YAG Chg         -14.721   \n",
       "2492693                     % EQ Units w/Any Promo          59.035   \n",
       "\n",
       "         Latest 13 Weeks  ...  4 W/E 05/30/20  5 W/E 07/04/20  4 W/E 08/01/20  \\\n",
       "2492700          100.000  ...         100.000         100.000         100.000   \n",
       "2492701            0.000  ...           0.000           0.000           0.000   \n",
       "2492691           53.286  ...          22.935          54.102          52.245   \n",
       "2492692           -1.207  ...         -24.288          -6.102         -12.933   \n",
       "2492693           61.102  ...          29.043          62.366          60.154   \n",
       "\n",
       "         4 W/E 08/29/20  5 W/E 10/03/20  4 W/E 10/31/20  4 W/E 11/28/20  \\\n",
       "2492700         100.000         100.000         100.000         100.000   \n",
       "2492701           0.000           0.000           0.000           0.000   \n",
       "2492691          55.628          60.025          63.565          50.518   \n",
       "2492692           0.410          -2.636           0.251          -5.474   \n",
       "2492693          65.045          63.098          67.651          57.190   \n",
       "\n",
       "         5 W/E 01/02/21  4 W/E 01/30/21  Record_ID  \n",
       "2492700         100.000         100.000          1  \n",
       "2492701           0.000           0.000          2  \n",
       "2492691          52.960          59.587          3  \n",
       "2492692           8.326           0.770          4  \n",
       "2492693          61.883          62.086          5  \n",
       "\n",
       "[5 rows x 26 columns]"
      ]
     },
     "execution_count": 85,
     "metadata": {},
     "output_type": "execute_result"
    }
   ],
   "source": [
    "promo_category.head()"
   ]
  },
  {
   "cell_type": "code",
   "execution_count": 86,
   "metadata": {},
   "outputs": [],
   "source": [
    "promo_category.to_csv(path_TP+\"promo_category.csv\",index=False)"
   ]
  },
  {
   "cell_type": "markdown",
   "metadata": {},
   "source": [
    "## **promo_toplevel**"
   ]
  },
  {
   "cell_type": "code",
   "execution_count": 87,
   "metadata": {},
   "outputs": [],
   "source": [
    "promo_toplevel=TP_Promo.loc[(TP_Promo[\"CP_SUBBRAND\"]==\"\") & (TP_Promo[\"CP_BRAND\"]==\"\")&(TP_Promo[\"CP_FRANCHISE\"]==\"\")&(TP_Promo[\"CP_MANUFACTURER\"]!=\"\")]"
   ]
  },
  {
   "cell_type": "code",
   "execution_count": 88,
   "metadata": {},
   "outputs": [],
   "source": [
    "# Blank row 0th position\n",
    "df1=pd.DataFrame([[np.nan]*len(promo_toplevel.columns)],columns=promo_toplevel.columns)\n",
    "promo_toplevel=df1.append(promo_toplevel,ignore_index=True)"
   ]
  },
  {
   "cell_type": "code",
   "execution_count": 89,
   "metadata": {},
   "outputs": [],
   "source": [
    "length= len(promo_toplevel)\n",
    "promo_toplevel[\"Record_ID\"]=range(1,length+1)"
   ]
  },
  {
   "cell_type": "code",
   "execution_count": 90,
   "metadata": {},
   "outputs": [
    {
     "data": {
      "text/html": [
       "<div>\n",
       "<style scoped>\n",
       "    .dataframe tbody tr th:only-of-type {\n",
       "        vertical-align: middle;\n",
       "    }\n",
       "\n",
       "    .dataframe tbody tr th {\n",
       "        vertical-align: top;\n",
       "    }\n",
       "\n",
       "    .dataframe thead th {\n",
       "        text-align: right;\n",
       "    }\n",
       "</style>\n",
       "<table border=\"1\" class=\"dataframe\">\n",
       "  <thead>\n",
       "    <tr style=\"text-align: right;\">\n",
       "      <th></th>\n",
       "      <th>MKT</th>\n",
       "      <th>PROD</th>\n",
       "      <th>CP_CATEGORY</th>\n",
       "      <th>CP_MANUFACTURER</th>\n",
       "      <th>CP_FRANCHISE</th>\n",
       "      <th>CP_BRAND</th>\n",
       "      <th>CP_SUBBRAND</th>\n",
       "      <th>FCT</th>\n",
       "      <th>4 W/E 02/27/21</th>\n",
       "      <th>Latest 13 Weeks</th>\n",
       "      <th>...</th>\n",
       "      <th>4 W/E 05/30/20</th>\n",
       "      <th>5 W/E 07/04/20</th>\n",
       "      <th>4 W/E 08/01/20</th>\n",
       "      <th>4 W/E 08/29/20</th>\n",
       "      <th>5 W/E 10/03/20</th>\n",
       "      <th>4 W/E 10/31/20</th>\n",
       "      <th>4 W/E 11/28/20</th>\n",
       "      <th>5 W/E 01/02/21</th>\n",
       "      <th>4 W/E 01/30/21</th>\n",
       "      <th>Record_ID</th>\n",
       "    </tr>\n",
       "  </thead>\n",
       "  <tbody>\n",
       "    <tr>\n",
       "      <th>0</th>\n",
       "      <td>NaN</td>\n",
       "      <td>NaN</td>\n",
       "      <td>NaN</td>\n",
       "      <td>NaN</td>\n",
       "      <td>NaN</td>\n",
       "      <td>NaN</td>\n",
       "      <td>NaN</td>\n",
       "      <td>NaN</td>\n",
       "      <td>NaN</td>\n",
       "      <td>NaN</td>\n",
       "      <td>...</td>\n",
       "      <td>NaN</td>\n",
       "      <td>NaN</td>\n",
       "      <td>NaN</td>\n",
       "      <td>NaN</td>\n",
       "      <td>NaN</td>\n",
       "      <td>NaN</td>\n",
       "      <td>NaN</td>\n",
       "      <td>NaN</td>\n",
       "      <td>NaN</td>\n",
       "      <td>1</td>\n",
       "    </tr>\n",
       "    <tr>\n",
       "      <th>1</th>\n",
       "      <td>Ahold</td>\n",
       "      <td>TOOTHPASTE | CHURCH &amp; DWIGHT</td>\n",
       "      <td>TOOTHPASTE</td>\n",
       "      <td>CHURCH &amp; DWIGHT</td>\n",
       "      <td></td>\n",
       "      <td></td>\n",
       "      <td></td>\n",
       "      <td>$ Share</td>\n",
       "      <td>5.215</td>\n",
       "      <td>5.251</td>\n",
       "      <td>...</td>\n",
       "      <td>5.013</td>\n",
       "      <td>5.413</td>\n",
       "      <td>5.360</td>\n",
       "      <td>5.356</td>\n",
       "      <td>5.394</td>\n",
       "      <td>5.700</td>\n",
       "      <td>5.727</td>\n",
       "      <td>5.365</td>\n",
       "      <td>5.151</td>\n",
       "      <td>2</td>\n",
       "    </tr>\n",
       "    <tr>\n",
       "      <th>2</th>\n",
       "      <td>Ahold</td>\n",
       "      <td>TOOTHPASTE | CHURCH &amp; DWIGHT</td>\n",
       "      <td>TOOTHPASTE</td>\n",
       "      <td>CHURCH &amp; DWIGHT</td>\n",
       "      <td></td>\n",
       "      <td></td>\n",
       "      <td></td>\n",
       "      <td>$ Share YAG Chg</td>\n",
       "      <td>0.279</td>\n",
       "      <td>0.118</td>\n",
       "      <td>...</td>\n",
       "      <td>-0.894</td>\n",
       "      <td>-0.220</td>\n",
       "      <td>-0.281</td>\n",
       "      <td>-0.019</td>\n",
       "      <td>-0.089</td>\n",
       "      <td>0.257</td>\n",
       "      <td>0.455</td>\n",
       "      <td>0.081</td>\n",
       "      <td>-0.005</td>\n",
       "      <td>3</td>\n",
       "    </tr>\n",
       "    <tr>\n",
       "      <th>3</th>\n",
       "      <td>Ahold</td>\n",
       "      <td>TOOTHPASTE | CHURCH &amp; DWIGHT</td>\n",
       "      <td>TOOTHPASTE</td>\n",
       "      <td>CHURCH &amp; DWIGHT</td>\n",
       "      <td></td>\n",
       "      <td></td>\n",
       "      <td></td>\n",
       "      <td>% Dollars w/Any Promo</td>\n",
       "      <td>41.403</td>\n",
       "      <td>35.866</td>\n",
       "      <td>...</td>\n",
       "      <td>3.240</td>\n",
       "      <td>21.967</td>\n",
       "      <td>35.771</td>\n",
       "      <td>39.888</td>\n",
       "      <td>23.200</td>\n",
       "      <td>48.482</td>\n",
       "      <td>38.294</td>\n",
       "      <td>36.184</td>\n",
       "      <td>30.204</td>\n",
       "      <td>4</td>\n",
       "    </tr>\n",
       "    <tr>\n",
       "      <th>4</th>\n",
       "      <td>Ahold</td>\n",
       "      <td>TOOTHPASTE | CHURCH &amp; DWIGHT</td>\n",
       "      <td>TOOTHPASTE</td>\n",
       "      <td>CHURCH &amp; DWIGHT</td>\n",
       "      <td></td>\n",
       "      <td></td>\n",
       "      <td></td>\n",
       "      <td>% Dollars w/Any Promo YAG Chg</td>\n",
       "      <td>25.870</td>\n",
       "      <td>20.452</td>\n",
       "      <td>...</td>\n",
       "      <td>-38.034</td>\n",
       "      <td>-12.799</td>\n",
       "      <td>-7.439</td>\n",
       "      <td>28.549</td>\n",
       "      <td>-11.513</td>\n",
       "      <td>13.323</td>\n",
       "      <td>1.090</td>\n",
       "      <td>19.832</td>\n",
       "      <td>16.042</td>\n",
       "      <td>5</td>\n",
       "    </tr>\n",
       "  </tbody>\n",
       "</table>\n",
       "<p>5 rows × 26 columns</p>\n",
       "</div>"
      ],
      "text/plain": [
       "     MKT                          PROD CP_CATEGORY  CP_MANUFACTURER  \\\n",
       "0    NaN                           NaN         NaN              NaN   \n",
       "1  Ahold  TOOTHPASTE | CHURCH & DWIGHT  TOOTHPASTE  CHURCH & DWIGHT   \n",
       "2  Ahold  TOOTHPASTE | CHURCH & DWIGHT  TOOTHPASTE  CHURCH & DWIGHT   \n",
       "3  Ahold  TOOTHPASTE | CHURCH & DWIGHT  TOOTHPASTE  CHURCH & DWIGHT   \n",
       "4  Ahold  TOOTHPASTE | CHURCH & DWIGHT  TOOTHPASTE  CHURCH & DWIGHT   \n",
       "\n",
       "  CP_FRANCHISE CP_BRAND CP_SUBBRAND                            FCT  \\\n",
       "0          NaN      NaN         NaN                            NaN   \n",
       "1                                                          $ Share   \n",
       "2                                                  $ Share YAG Chg   \n",
       "3                                            % Dollars w/Any Promo   \n",
       "4                                    % Dollars w/Any Promo YAG Chg   \n",
       "\n",
       "   4 W/E 02/27/21  Latest 13 Weeks  ...  4 W/E 05/30/20  5 W/E 07/04/20  \\\n",
       "0             NaN              NaN  ...             NaN             NaN   \n",
       "1           5.215            5.251  ...           5.013           5.413   \n",
       "2           0.279            0.118  ...          -0.894          -0.220   \n",
       "3          41.403           35.866  ...           3.240          21.967   \n",
       "4          25.870           20.452  ...         -38.034         -12.799   \n",
       "\n",
       "   4 W/E 08/01/20  4 W/E 08/29/20  5 W/E 10/03/20  4 W/E 10/31/20  \\\n",
       "0             NaN             NaN             NaN             NaN   \n",
       "1           5.360           5.356           5.394           5.700   \n",
       "2          -0.281          -0.019          -0.089           0.257   \n",
       "3          35.771          39.888          23.200          48.482   \n",
       "4          -7.439          28.549         -11.513          13.323   \n",
       "\n",
       "   4 W/E 11/28/20  5 W/E 01/02/21  4 W/E 01/30/21  Record_ID  \n",
       "0             NaN             NaN             NaN          1  \n",
       "1           5.727           5.365           5.151          2  \n",
       "2           0.455           0.081          -0.005          3  \n",
       "3          38.294          36.184          30.204          4  \n",
       "4           1.090          19.832          16.042          5  \n",
       "\n",
       "[5 rows x 26 columns]"
      ]
     },
     "execution_count": 90,
     "metadata": {},
     "output_type": "execute_result"
    }
   ],
   "source": [
    "promo_toplevel.head()"
   ]
  },
  {
   "cell_type": "code",
   "execution_count": 91,
   "metadata": {},
   "outputs": [],
   "source": [
    "promo_toplevel.to_csv(path_TP+\"promo_toplevel.csv\",index=False)"
   ]
  },
  {
   "cell_type": "markdown",
   "metadata": {},
   "source": [
    "## **promo_franchise**"
   ]
  },
  {
   "cell_type": "code",
   "execution_count": 92,
   "metadata": {},
   "outputs": [],
   "source": [
    "promo_franchise=TP_Promo.loc[(TP_Promo[\"CP_SUBBRAND\"]==\"\") & (TP_Promo[\"CP_BRAND\"]==\"\")&(TP_Promo[\"CP_FRANCHISE\"]!=\"\")]"
   ]
  },
  {
   "cell_type": "code",
   "execution_count": 93,
   "metadata": {},
   "outputs": [],
   "source": [
    "length= len(promo_franchise)\n",
    "promo_franchise[\"Record_ID\"]=range(1,length+1)"
   ]
  },
  {
   "cell_type": "code",
   "execution_count": 94,
   "metadata": {},
   "outputs": [],
   "source": [
    "promo_franchise.to_csv(path_TP+\"promo_franchise.csv\",index=False)"
   ]
  },
  {
   "cell_type": "markdown",
   "metadata": {},
   "source": [
    "## **promo_brand_promo**"
   ]
  },
  {
   "cell_type": "code",
   "execution_count": 95,
   "metadata": {},
   "outputs": [],
   "source": [
    "promo_brand_promo=TP_Promo.loc[(TP_Promo[\"CP_SUBBRAND\"]==\"\") & (TP_Promo[\"CP_BRAND\"]!=\"\")]"
   ]
  },
  {
   "cell_type": "code",
   "execution_count": 96,
   "metadata": {},
   "outputs": [],
   "source": [
    "length= len(promo_brand_promo)\n",
    "promo_brand_promo[\"Record_ID\"]=range(1,length+1)"
   ]
  },
  {
   "cell_type": "code",
   "execution_count": 97,
   "metadata": {},
   "outputs": [],
   "source": [
    "promo_brand_promo.to_csv(path_TP+\"promo_brand_promo.csv\",index=False)"
   ]
  },
  {
   "cell_type": "markdown",
   "metadata": {},
   "source": [
    "## **promo_subbrand_promo**"
   ]
  },
  {
   "cell_type": "code",
   "execution_count": 98,
   "metadata": {},
   "outputs": [],
   "source": [
    "promo_subbrand_promo=TP_Promo.loc[(TP_Promo[\"CP_SUBBRAND\"]!=\"\")]"
   ]
  },
  {
   "cell_type": "code",
   "execution_count": 99,
   "metadata": {},
   "outputs": [],
   "source": [
    "length= len(promo_subbrand_promo)\n",
    "promo_subbrand_promo[\"Record_ID\"]=range(1,length+1)"
   ]
  },
  {
   "cell_type": "code",
   "execution_count": 100,
   "metadata": {},
   "outputs": [],
   "source": [
    "promo_subbrand_promo.to_csv(path_TP+\"promo_subbrand_promo.csv\",index=False)"
   ]
  },
  {
   "cell_type": "code",
   "execution_count": null,
   "metadata": {},
   "outputs": [],
   "source": []
  },
  {
   "cell_type": "markdown",
   "metadata": {},
   "source": [
    "## Waterfall"
   ]
  },
  {
   "cell_type": "code",
   "execution_count": 101,
   "metadata": {},
   "outputs": [],
   "source": [
    "Waterfall_TP=Data_5p_TP.copy()"
   ]
  },
  {
   "cell_type": "markdown",
   "metadata": {},
   "source": [
    "**Market Mapping**"
   ]
  },
  {
   "cell_type": "code",
   "execution_count": 102,
   "metadata": {},
   "outputs": [],
   "source": [
    "Waterfall_TP[\"Markets\"].replace(Waterfall_Market_Mapping,inplace=True)"
   ]
  },
  {
   "cell_type": "markdown",
   "metadata": {},
   "source": [
    "**Facts, Markets, Time_Period Filter**"
   ]
  },
  {
   "cell_type": "code",
   "execution_count": 103,
   "metadata": {},
   "outputs": [],
   "source": [
    "Waterfall_TP= Waterfall_TP[Waterfall_TP[\"Facts\"].isin(Waterfall_Facts)]\n",
    "Waterfall_TP= Waterfall_TP[Waterfall_TP[\"Markets\"].isin(Waterfall_Markets)]\n",
    "Waterfall_TP=Waterfall_TP[Waterfall_Time_Period]"
   ]
  },
  {
   "cell_type": "code",
   "execution_count": 104,
   "metadata": {
    "scrolled": true
   },
   "outputs": [
    {
     "data": {
      "text/html": [
       "<div>\n",
       "<style scoped>\n",
       "    .dataframe tbody tr th:only-of-type {\n",
       "        vertical-align: middle;\n",
       "    }\n",
       "\n",
       "    .dataframe tbody tr th {\n",
       "        vertical-align: top;\n",
       "    }\n",
       "\n",
       "    .dataframe thead th {\n",
       "        text-align: right;\n",
       "    }\n",
       "</style>\n",
       "<table border=\"1\" class=\"dataframe\">\n",
       "  <thead>\n",
       "    <tr style=\"text-align: right;\">\n",
       "      <th></th>\n",
       "      <th>Markets</th>\n",
       "      <th>Products</th>\n",
       "      <th>Manufacturer</th>\n",
       "      <th>Franchise</th>\n",
       "      <th>Brand</th>\n",
       "      <th>SubBrand</th>\n",
       "      <th>Facts</th>\n",
       "      <th>YTD 2021</th>\n",
       "      <th>YTD 2020</th>\n",
       "      <th>4 W/E 02/27/21</th>\n",
       "      <th>4 W/E 02/29/20</th>\n",
       "    </tr>\n",
       "  </thead>\n",
       "  <tbody>\n",
       "    <tr>\n",
       "      <th>2318733</th>\n",
       "      <td>TOTAL US XAOC</td>\n",
       "      <td>TOOTHPASTE</td>\n",
       "      <td></td>\n",
       "      <td></td>\n",
       "      <td></td>\n",
       "      <td></td>\n",
       "      <td>$</td>\n",
       "      <td>4.637379e+08</td>\n",
       "      <td>4.843618e+08</td>\n",
       "      <td>2.235022e+08</td>\n",
       "      <td>2.453256e+08</td>\n",
       "    </tr>\n",
       "    <tr>\n",
       "      <th>2318736</th>\n",
       "      <td>TOTAL US XAOC</td>\n",
       "      <td>TOOTHPASTE</td>\n",
       "      <td></td>\n",
       "      <td></td>\n",
       "      <td></td>\n",
       "      <td></td>\n",
       "      <td>$ Shr - CP CATEGORY</td>\n",
       "      <td>1.000000e+02</td>\n",
       "      <td>1.000000e+02</td>\n",
       "      <td>1.000000e+02</td>\n",
       "      <td>1.000000e+02</td>\n",
       "    </tr>\n",
       "  </tbody>\n",
       "</table>\n",
       "</div>"
      ],
      "text/plain": [
       "               Markets    Products Manufacturer Franchise Brand SubBrand  \\\n",
       "2318733  TOTAL US XAOC  TOOTHPASTE                                         \n",
       "2318736  TOTAL US XAOC  TOOTHPASTE                                         \n",
       "\n",
       "                       Facts      YTD 2021      YTD 2020  4 W/E 02/27/21  \\\n",
       "2318733                    $  4.637379e+08  4.843618e+08    2.235022e+08   \n",
       "2318736  $ Shr - CP CATEGORY  1.000000e+02  1.000000e+02    1.000000e+02   \n",
       "\n",
       "         4 W/E 02/29/20  \n",
       "2318733    2.453256e+08  \n",
       "2318736    1.000000e+02  "
      ]
     },
     "execution_count": 104,
     "metadata": {},
     "output_type": "execute_result"
    }
   ],
   "source": [
    "Waterfall_TP.head(2)"
   ]
  },
  {
   "cell_type": "markdown",
   "metadata": {},
   "source": [
    "**Column name Change**"
   ]
  },
  {
   "cell_type": "code",
   "execution_count": 105,
   "metadata": {},
   "outputs": [],
   "source": [
    "Waterfall_TP.rename(columns={\"Markets\":\"MKT\",\"Products\":\"PROD\",\"Manufacturer\":\"CP.MANUFACTURER\",\n",
    "                                \"Franchise\":\"CP.FRANCHISE\",\"Brand\":\"CP.BRAND\",\"SubBrand\":\"CP.SUBBRAND\",\"Facts\":\"FCT\"},inplace=True)"
   ]
  },
  {
   "cell_type": "markdown",
   "metadata": {},
   "source": [
    "**Fact Name Change**"
   ]
  },
  {
   "cell_type": "code",
   "execution_count": 106,
   "metadata": {},
   "outputs": [],
   "source": [
    "Waterfall_TP[\"FCT\"].replace(Waterfall_Fact_Mapping,inplace=True)"
   ]
  },
  {
   "cell_type": "code",
   "execution_count": 107,
   "metadata": {},
   "outputs": [
    {
     "data": {
      "text/html": [
       "<div>\n",
       "<style scoped>\n",
       "    .dataframe tbody tr th:only-of-type {\n",
       "        vertical-align: middle;\n",
       "    }\n",
       "\n",
       "    .dataframe tbody tr th {\n",
       "        vertical-align: top;\n",
       "    }\n",
       "\n",
       "    .dataframe thead th {\n",
       "        text-align: right;\n",
       "    }\n",
       "</style>\n",
       "<table border=\"1\" class=\"dataframe\">\n",
       "  <thead>\n",
       "    <tr style=\"text-align: right;\">\n",
       "      <th></th>\n",
       "      <th>MKT</th>\n",
       "      <th>PROD</th>\n",
       "      <th>CP.MANUFACTURER</th>\n",
       "      <th>CP.FRANCHISE</th>\n",
       "      <th>CP.BRAND</th>\n",
       "      <th>CP.SUBBRAND</th>\n",
       "      <th>FCT</th>\n",
       "      <th>YTD 2021</th>\n",
       "      <th>YTD 2020</th>\n",
       "      <th>4 W/E 02/27/21</th>\n",
       "      <th>4 W/E 02/29/20</th>\n",
       "    </tr>\n",
       "  </thead>\n",
       "  <tbody>\n",
       "    <tr>\n",
       "      <th>2318733</th>\n",
       "      <td>TOTAL US XAOC</td>\n",
       "      <td>TOOTHPASTE</td>\n",
       "      <td></td>\n",
       "      <td></td>\n",
       "      <td></td>\n",
       "      <td></td>\n",
       "      <td>Dollars</td>\n",
       "      <td>4.637379e+08</td>\n",
       "      <td>4.843618e+08</td>\n",
       "      <td>2.235022e+08</td>\n",
       "      <td>2.453256e+08</td>\n",
       "    </tr>\n",
       "    <tr>\n",
       "      <th>2318736</th>\n",
       "      <td>TOTAL US XAOC</td>\n",
       "      <td>TOOTHPASTE</td>\n",
       "      <td></td>\n",
       "      <td></td>\n",
       "      <td></td>\n",
       "      <td></td>\n",
       "      <td>$ Share</td>\n",
       "      <td>1.000000e+02</td>\n",
       "      <td>1.000000e+02</td>\n",
       "      <td>1.000000e+02</td>\n",
       "      <td>1.000000e+02</td>\n",
       "    </tr>\n",
       "  </tbody>\n",
       "</table>\n",
       "</div>"
      ],
      "text/plain": [
       "                   MKT        PROD CP.MANUFACTURER CP.FRANCHISE CP.BRAND  \\\n",
       "2318733  TOTAL US XAOC  TOOTHPASTE                                         \n",
       "2318736  TOTAL US XAOC  TOOTHPASTE                                         \n",
       "\n",
       "        CP.SUBBRAND      FCT      YTD 2021      YTD 2020  4 W/E 02/27/21  \\\n",
       "2318733              Dollars  4.637379e+08  4.843618e+08    2.235022e+08   \n",
       "2318736              $ Share  1.000000e+02  1.000000e+02    1.000000e+02   \n",
       "\n",
       "         4 W/E 02/29/20  \n",
       "2318733    2.453256e+08  \n",
       "2318736    1.000000e+02  "
      ]
     },
     "execution_count": 107,
     "metadata": {},
     "output_type": "execute_result"
    }
   ],
   "source": [
    "Waterfall_TP.head(2)"
   ]
  },
  {
   "cell_type": "code",
   "execution_count": 108,
   "metadata": {},
   "outputs": [],
   "source": [
    "Fact_order_1 = [\"Baseline $\",\"Incr.$ w/No Promo\",\"Incr.$ w/Ftr w/o Disp\",\"Incr.$ w/Disp w/o Ftr\",\"Incr.$ w/Ftr & Disp\",\n",
    "              \"Incr.$ w/TPR\",\"Dollars\",\"$ Share\"]\n",
    "\n",
    "Fact_order = CategoricalDtype(\n",
    "    Fact_order_1, \n",
    "    ordered=True\n",
    ")\n",
    "# Fact_order = CategoricalDtype(\n",
    "#     sorted(list(set(Waterfall_TP[\"FCT\"]))), \n",
    "#     ordered=True\n",
    "# )\n",
    "\n",
    "Waterfall_TP['FCT'] = Waterfall_TP['FCT'].astype(Fact_order)\n",
    "\n",
    "Waterfall_TP.sort_values(['MKT','PROD','FCT'],inplace=True)"
   ]
  },
  {
   "cell_type": "markdown",
   "metadata": {},
   "source": [
    "## **Waterfall_Manu**"
   ]
  },
  {
   "cell_type": "code",
   "execution_count": 109,
   "metadata": {},
   "outputs": [],
   "source": [
    "Waterfall_Manu=Waterfall_TP.loc[(Waterfall_TP[\"CP.SUBBRAND\"]==\"\") & (Waterfall_TP[\"CP.BRAND\"]==\"\")&(Waterfall_TP[\"CP.FRANCHISE\"]==\"\")&(Waterfall_TP[\"CP.MANUFACTURER\"]!=\"\")]"
   ]
  },
  {
   "cell_type": "code",
   "execution_count": 110,
   "metadata": {},
   "outputs": [],
   "source": [
    "Waterfall_Manu[\"Record_ID\"]=range(1,len(Waterfall_Manu)+1)"
   ]
  },
  {
   "cell_type": "code",
   "execution_count": 111,
   "metadata": {},
   "outputs": [
    {
     "data": {
      "text/html": [
       "<div>\n",
       "<style scoped>\n",
       "    .dataframe tbody tr th:only-of-type {\n",
       "        vertical-align: middle;\n",
       "    }\n",
       "\n",
       "    .dataframe tbody tr th {\n",
       "        vertical-align: top;\n",
       "    }\n",
       "\n",
       "    .dataframe thead th {\n",
       "        text-align: right;\n",
       "    }\n",
       "</style>\n",
       "<table border=\"1\" class=\"dataframe\">\n",
       "  <thead>\n",
       "    <tr style=\"text-align: right;\">\n",
       "      <th></th>\n",
       "      <th>MKT</th>\n",
       "      <th>PROD</th>\n",
       "      <th>CP.MANUFACTURER</th>\n",
       "      <th>CP.FRANCHISE</th>\n",
       "      <th>CP.BRAND</th>\n",
       "      <th>CP.SUBBRAND</th>\n",
       "      <th>FCT</th>\n",
       "      <th>YTD 2021</th>\n",
       "      <th>YTD 2020</th>\n",
       "      <th>4 W/E 02/27/21</th>\n",
       "      <th>4 W/E 02/29/20</th>\n",
       "      <th>Record_ID</th>\n",
       "    </tr>\n",
       "  </thead>\n",
       "  <tbody>\n",
       "    <tr>\n",
       "      <th>2371026</th>\n",
       "      <td>BJS TOTAL CENSUS TA</td>\n",
       "      <td>TOOTHPASTE | CHURCH &amp; DWIGHT</td>\n",
       "      <td>CHURCH &amp; DWIGHT</td>\n",
       "      <td></td>\n",
       "      <td></td>\n",
       "      <td></td>\n",
       "      <td>Baseline $</td>\n",
       "      <td>11958.320</td>\n",
       "      <td>281718.820</td>\n",
       "      <td>5850.750</td>\n",
       "      <td>133450.100</td>\n",
       "      <td>1</td>\n",
       "    </tr>\n",
       "    <tr>\n",
       "      <th>2560155</th>\n",
       "      <td>BJS TOTAL CENSUS TA</td>\n",
       "      <td>TOOTHPASTE | CHURCH &amp; DWIGHT</td>\n",
       "      <td>CHURCH &amp; DWIGHT</td>\n",
       "      <td></td>\n",
       "      <td></td>\n",
       "      <td></td>\n",
       "      <td>Incr.$ w/No Promo</td>\n",
       "      <td>661.231</td>\n",
       "      <td>3887.351</td>\n",
       "      <td>598.999</td>\n",
       "      <td>3928.321</td>\n",
       "      <td>2</td>\n",
       "    </tr>\n",
       "    <tr>\n",
       "      <th>2560147</th>\n",
       "      <td>BJS TOTAL CENSUS TA</td>\n",
       "      <td>TOOTHPASTE | CHURCH &amp; DWIGHT</td>\n",
       "      <td>CHURCH &amp; DWIGHT</td>\n",
       "      <td></td>\n",
       "      <td></td>\n",
       "      <td></td>\n",
       "      <td>Incr.$ w/Ftr w/o Disp</td>\n",
       "      <td>0.000</td>\n",
       "      <td>236483.680</td>\n",
       "      <td>0.000</td>\n",
       "      <td>0.000</td>\n",
       "      <td>3</td>\n",
       "    </tr>\n",
       "    <tr>\n",
       "      <th>2560137</th>\n",
       "      <td>BJS TOTAL CENSUS TA</td>\n",
       "      <td>TOOTHPASTE | CHURCH &amp; DWIGHT</td>\n",
       "      <td>CHURCH &amp; DWIGHT</td>\n",
       "      <td></td>\n",
       "      <td></td>\n",
       "      <td></td>\n",
       "      <td>Incr.$ w/Disp w/o Ftr</td>\n",
       "      <td>0.000</td>\n",
       "      <td>11193.187</td>\n",
       "      <td>0.000</td>\n",
       "      <td>11142.087</td>\n",
       "      <td>4</td>\n",
       "    </tr>\n",
       "    <tr>\n",
       "      <th>2560142</th>\n",
       "      <td>BJS TOTAL CENSUS TA</td>\n",
       "      <td>TOOTHPASTE | CHURCH &amp; DWIGHT</td>\n",
       "      <td>CHURCH &amp; DWIGHT</td>\n",
       "      <td></td>\n",
       "      <td></td>\n",
       "      <td></td>\n",
       "      <td>Incr.$ w/Ftr &amp; Disp</td>\n",
       "      <td>0.000</td>\n",
       "      <td>22118.100</td>\n",
       "      <td>0.000</td>\n",
       "      <td>0.000</td>\n",
       "      <td>5</td>\n",
       "    </tr>\n",
       "  </tbody>\n",
       "</table>\n",
       "</div>"
      ],
      "text/plain": [
       "                         MKT                          PROD  CP.MANUFACTURER  \\\n",
       "2371026  BJS TOTAL CENSUS TA  TOOTHPASTE | CHURCH & DWIGHT  CHURCH & DWIGHT   \n",
       "2560155  BJS TOTAL CENSUS TA  TOOTHPASTE | CHURCH & DWIGHT  CHURCH & DWIGHT   \n",
       "2560147  BJS TOTAL CENSUS TA  TOOTHPASTE | CHURCH & DWIGHT  CHURCH & DWIGHT   \n",
       "2560137  BJS TOTAL CENSUS TA  TOOTHPASTE | CHURCH & DWIGHT  CHURCH & DWIGHT   \n",
       "2560142  BJS TOTAL CENSUS TA  TOOTHPASTE | CHURCH & DWIGHT  CHURCH & DWIGHT   \n",
       "\n",
       "        CP.FRANCHISE CP.BRAND CP.SUBBRAND                    FCT   YTD 2021  \\\n",
       "2371026                                               Baseline $  11958.320   \n",
       "2560155                                        Incr.$ w/No Promo    661.231   \n",
       "2560147                                    Incr.$ w/Ftr w/o Disp      0.000   \n",
       "2560137                                    Incr.$ w/Disp w/o Ftr      0.000   \n",
       "2560142                                      Incr.$ w/Ftr & Disp      0.000   \n",
       "\n",
       "           YTD 2020  4 W/E 02/27/21  4 W/E 02/29/20  Record_ID  \n",
       "2371026  281718.820        5850.750      133450.100          1  \n",
       "2560155    3887.351         598.999        3928.321          2  \n",
       "2560147  236483.680           0.000           0.000          3  \n",
       "2560137   11193.187           0.000       11142.087          4  \n",
       "2560142   22118.100           0.000           0.000          5  "
      ]
     },
     "execution_count": 111,
     "metadata": {},
     "output_type": "execute_result"
    }
   ],
   "source": [
    "Waterfall_Manu.head()"
   ]
  },
  {
   "cell_type": "code",
   "execution_count": 112,
   "metadata": {},
   "outputs": [],
   "source": [
    "Waterfall_Manu.to_csv(path_TP+\"Waterfall_Manu.csv\",index=False)"
   ]
  },
  {
   "cell_type": "markdown",
   "metadata": {},
   "source": [
    "## **Waterfall_Fran**"
   ]
  },
  {
   "cell_type": "code",
   "execution_count": 113,
   "metadata": {},
   "outputs": [],
   "source": [
    "Waterfall_Fran=Waterfall_TP.loc[(Waterfall_TP[\"CP.SUBBRAND\"]==\"\") & (Waterfall_TP[\"CP.BRAND\"]==\"\")&(Waterfall_TP[\"CP.FRANCHISE\"]!=\"\")]"
   ]
  },
  {
   "cell_type": "code",
   "execution_count": 114,
   "metadata": {},
   "outputs": [],
   "source": [
    "Waterfall_Fran[\"Record_ID\"]=range(1,len(Waterfall_Fran)+1)"
   ]
  },
  {
   "cell_type": "code",
   "execution_count": 115,
   "metadata": {},
   "outputs": [],
   "source": [
    "Waterfall_Fran.to_csv(path_TP+\"Waterfall_Fran.csv\",index=False)"
   ]
  },
  {
   "cell_type": "markdown",
   "metadata": {},
   "source": [
    "## **Waterfall_Brand**"
   ]
  },
  {
   "cell_type": "code",
   "execution_count": 116,
   "metadata": {},
   "outputs": [],
   "source": [
    "Waterfall_Cat=Waterfall_TP.loc[(Waterfall_TP[\"CP.SUBBRAND\"]==\"\") & (Waterfall_TP[\"CP.BRAND\"]==\"\")&(Waterfall_TP[\"CP.FRANCHISE\"]==\"\")&(Waterfall_TP[\"CP.MANUFACTURER\"]==\"\")]"
   ]
  },
  {
   "cell_type": "code",
   "execution_count": 117,
   "metadata": {},
   "outputs": [],
   "source": [
    "Waterfall_Brand=Waterfall_TP.loc[(Waterfall_TP[\"CP.SUBBRAND\"]==\"\") & (Waterfall_TP[\"CP.BRAND\"]!=\"\")]"
   ]
  },
  {
   "cell_type": "code",
   "execution_count": 118,
   "metadata": {},
   "outputs": [],
   "source": [
    "Waterfall_Cat_Brand=pd.concat([Waterfall_Cat,Waterfall_Brand],axis=0)"
   ]
  },
  {
   "cell_type": "code",
   "execution_count": 119,
   "metadata": {},
   "outputs": [],
   "source": [
    "Waterfall_Cat_Brand['FCT'] = Waterfall_Cat_Brand['FCT'].astype(Fact_order)\n",
    "\n",
    "Waterfall_Cat_Brand.sort_values(['MKT','PROD','FCT'],inplace=True)"
   ]
  },
  {
   "cell_type": "code",
   "execution_count": 120,
   "metadata": {},
   "outputs": [],
   "source": [
    "Waterfall_Cat_Brand[\"Record_ID\"]=range(1,len(Waterfall_Cat_Brand)+1)"
   ]
  },
  {
   "cell_type": "code",
   "execution_count": 121,
   "metadata": {},
   "outputs": [],
   "source": [
    "Waterfall_Cat_Brand.to_csv(path_TP+\"Waterfall Brand.csv\",index=False)"
   ]
  },
  {
   "cell_type": "markdown",
   "metadata": {},
   "source": [
    "## Waterfall_SubBrand"
   ]
  },
  {
   "cell_type": "code",
   "execution_count": 122,
   "metadata": {},
   "outputs": [],
   "source": [
    "Waterfall_SubBrand=Waterfall_TP.loc[(Waterfall_TP[\"CP.SUBBRAND\"]!=\"\")]"
   ]
  },
  {
   "cell_type": "code",
   "execution_count": 123,
   "metadata": {},
   "outputs": [],
   "source": [
    "Waterfall_SubBrand[\"Record_ID\"]=range(1,len(Waterfall_SubBrand)+1)"
   ]
  },
  {
   "cell_type": "code",
   "execution_count": 124,
   "metadata": {},
   "outputs": [],
   "source": [
    "Waterfall_SubBrand.to_csv(path_TP+\"Waterfall Sub_Brand.csv\",index=False)"
   ]
  },
  {
   "cell_type": "code",
   "execution_count": null,
   "metadata": {},
   "outputs": [],
   "source": []
  },
  {
   "cell_type": "markdown",
   "metadata": {},
   "source": [
    "# Mouthwash"
   ]
  },
  {
   "cell_type": "code",
   "execution_count": 125,
   "metadata": {},
   "outputs": [],
   "source": [
    "# path to store OuMWut files\n",
    "\n",
    "path_MW=\"//falmumapp34/Nielsen Connect Transition & Maintenance (20-SCP-3650)/05. Output Data/5P Output/MW/\""
   ]
  },
  {
   "cell_type": "code",
   "execution_count": 126,
   "metadata": {},
   "outputs": [],
   "source": [
    "Data_5p_MW=Data_5p.copy()"
   ]
  },
  {
   "cell_type": "markdown",
   "metadata": {},
   "source": [
    "**Filtering MW Data**"
   ]
  },
  {
   "cell_type": "code",
   "execution_count": 127,
   "metadata": {},
   "outputs": [],
   "source": [
    "Data_5p_MW=Data_5p_MW.loc[Data_5p_MW[\"Category\"]==\"MW\"]"
   ]
  },
  {
   "cell_type": "code",
   "execution_count": null,
   "metadata": {},
   "outputs": [],
   "source": []
  },
  {
   "cell_type": "markdown",
   "metadata": {},
   "source": [
    "## Promotion Data MW"
   ]
  },
  {
   "cell_type": "code",
   "execution_count": 128,
   "metadata": {},
   "outputs": [],
   "source": [
    "MW_Promo= Data_5p_MW.copy()"
   ]
  },
  {
   "cell_type": "code",
   "execution_count": 129,
   "metadata": {},
   "outputs": [
    {
     "data": {
      "text/plain": [
       "set()"
      ]
     },
     "execution_count": 129,
     "metadata": {},
     "output_type": "execute_result"
    }
   ],
   "source": [
    "set(Promo_Facts) - set(MW_Promo['Facts'])\n"
   ]
  },
  {
   "cell_type": "code",
   "execution_count": 130,
   "metadata": {},
   "outputs": [],
   "source": [
    "Promo_Markets=[\"US AOC\",\"Ahold\",\"Alb/Sfy\",\"BJs\",\"CVS\",\"Dollar General\",\"Family Dollar\",\"Meijer\",\"Publix\",\n",
    "         \"Rite Aid\",\"Sams\",\"Shoprite\",\"Target\",\"US Drug\",\"US Food\",\"Walgreens\",\"Walmart\", \"Kmart\"]"
   ]
  },
  {
   "cell_type": "code",
   "execution_count": 131,
   "metadata": {},
   "outputs": [],
   "source": [
    "# Filter Data based on Promo selection\n",
    "MW_Promo= MW_Promo[MW_Promo[\"Facts\"].isin(Promo_Facts)]\n",
    "MW_Promo= MW_Promo[MW_Promo[\"Markets\"].isin(Promo_Markets)]\n",
    "MW_Promo=MW_Promo[Promo_Time_Period]"
   ]
  },
  {
   "cell_type": "code",
   "execution_count": 132,
   "metadata": {},
   "outputs": [
    {
     "name": "stdout",
     "output_type": "stream",
     "text": [
      "18 18\n"
     ]
    }
   ],
   "source": [
    "print(len(Promo_Markets), len(set(MW_Promo[\"Markets\"])))"
   ]
  },
  {
   "cell_type": "markdown",
   "metadata": {},
   "source": [
    "**Fact Name Change**"
   ]
  },
  {
   "cell_type": "code",
   "execution_count": 133,
   "metadata": {},
   "outputs": [],
   "source": [
    "MW_Promo[\"Facts\"].replace(Promo_Fact_Mapping,inplace=True)"
   ]
  },
  {
   "cell_type": "code",
   "execution_count": 134,
   "metadata": {},
   "outputs": [
    {
     "name": "stdout",
     "output_type": "stream",
     "text": [
      "30 30\n"
     ]
    }
   ],
   "source": [
    "print(len(Promo_Facts), len(set(MW_Promo[\"Facts\"])))"
   ]
  },
  {
   "cell_type": "code",
   "execution_count": 135,
   "metadata": {},
   "outputs": [
    {
     "data": {
      "text/plain": [
       "{'$ Share',\n",
       " '$ Share YAG Chg',\n",
       " '% Dollars w/Any Promo',\n",
       " '% Dollars w/Any Promo YAG Chg',\n",
       " '% EQ Units w/Any Promo',\n",
       " '% EQ Units w/Any Promo YAG Chg',\n",
       " '%ACV Any Ftr & Disp',\n",
       " '%ACV Any Ftr & Disp YAG Chg',\n",
       " '%ACV Any Ftr w/o Disp',\n",
       " '%ACV Any Ftr w/o Disp YAG Chg',\n",
       " '%ACV Any Promo',\n",
       " '%ACV Any Promo YAG Chg',\n",
       " '%ACV Disp w/o Ftr',\n",
       " '%ACV Disp w/o Ftr YAG Chg',\n",
       " '%ACV TPR',\n",
       " '%ACV TPR YAG Chg',\n",
       " 'Base RASP per Case',\n",
       " 'Base RASP per Case YAG Chg',\n",
       " 'Baseline $ Share',\n",
       " 'Baseline $ Share YAG Chg',\n",
       " 'Incr.$ Share',\n",
       " 'Incr.$ Share YAG Chg',\n",
       " 'Promo RASP per Case',\n",
       " 'Promo RASP per Case YAG Chg',\n",
       " 'Quality Support %ACV',\n",
       " 'Quality Support %ACV YAG Chg',\n",
       " 'RASP per Case',\n",
       " 'RASP per Case YAG Chg',\n",
       " 'Share_of_Promo_Doll',\n",
       " 'Share_of_Promo_Doll_Chg'}"
      ]
     },
     "execution_count": 135,
     "metadata": {},
     "output_type": "execute_result"
    }
   ],
   "source": [
    "set(MW_Promo[\"Facts\"])"
   ]
  },
  {
   "cell_type": "code",
   "execution_count": 136,
   "metadata": {
    "scrolled": true
   },
   "outputs": [
    {
     "data": {
      "text/plain": [
       "(57390, 26)"
      ]
     },
     "execution_count": 136,
     "metadata": {},
     "output_type": "execute_result"
    }
   ],
   "source": [
    "MW_Promo.shape"
   ]
  },
  {
   "cell_type": "markdown",
   "metadata": {},
   "source": [
    "**Column name Change**"
   ]
  },
  {
   "cell_type": "code",
   "execution_count": 137,
   "metadata": {},
   "outputs": [],
   "source": [
    "MW_Promo.rename(columns={\"Markets\":\"MKT\",\"ShareBasis\":\"CP_CATEGORY\",\"Products\":\"PROD\",\"Manufacturer\":\"CP_MANUFACTURER\",\n",
    "                                \"Franchise\":\"CP_FRANCHISE\",\"Brand\":\"CP_BRAND\",\"SubBrand\":\"CP_SUBBRAND\",\"Facts\":\"FCT\"},inplace=True)"
   ]
  },
  {
   "cell_type": "code",
   "execution_count": 138,
   "metadata": {},
   "outputs": [
    {
     "data": {
      "text/html": [
       "<div>\n",
       "<style scoped>\n",
       "    .dataframe tbody tr th:only-of-type {\n",
       "        vertical-align: middle;\n",
       "    }\n",
       "\n",
       "    .dataframe tbody tr th {\n",
       "        vertical-align: top;\n",
       "    }\n",
       "\n",
       "    .dataframe thead th {\n",
       "        text-align: right;\n",
       "    }\n",
       "</style>\n",
       "<table border=\"1\" class=\"dataframe\">\n",
       "  <thead>\n",
       "    <tr style=\"text-align: right;\">\n",
       "      <th></th>\n",
       "      <th>MKT</th>\n",
       "      <th>PROD</th>\n",
       "      <th>CP_CATEGORY</th>\n",
       "      <th>Category</th>\n",
       "      <th>CP_MANUFACTURER</th>\n",
       "      <th>CP_FRANCHISE</th>\n",
       "      <th>CP_BRAND</th>\n",
       "      <th>CP_SUBBRAND</th>\n",
       "      <th>FCT</th>\n",
       "      <th>4 W/E 02/27/21</th>\n",
       "      <th>...</th>\n",
       "      <th>4 W/E 05/02/20</th>\n",
       "      <th>4 W/E 05/30/20</th>\n",
       "      <th>5 W/E 07/04/20</th>\n",
       "      <th>4 W/E 08/01/20</th>\n",
       "      <th>4 W/E 08/29/20</th>\n",
       "      <th>5 W/E 10/03/20</th>\n",
       "      <th>4 W/E 10/31/20</th>\n",
       "      <th>4 W/E 11/28/20</th>\n",
       "      <th>5 W/E 01/02/21</th>\n",
       "      <th>4 W/E 01/30/21</th>\n",
       "    </tr>\n",
       "  </thead>\n",
       "  <tbody>\n",
       "    <tr>\n",
       "      <th>1514573</th>\n",
       "      <td>US AOC</td>\n",
       "      <td>MOUTHWASH</td>\n",
       "      <td>MOUTHWASH</td>\n",
       "      <td>MW</td>\n",
       "      <td></td>\n",
       "      <td></td>\n",
       "      <td></td>\n",
       "      <td></td>\n",
       "      <td>% Dollars w/Any Promo</td>\n",
       "      <td>18.982</td>\n",
       "      <td>...</td>\n",
       "      <td>19.575</td>\n",
       "      <td>18.842</td>\n",
       "      <td>17.857</td>\n",
       "      <td>23.029</td>\n",
       "      <td>23.014</td>\n",
       "      <td>19.785</td>\n",
       "      <td>22.383</td>\n",
       "      <td>21.278</td>\n",
       "      <td>22.009</td>\n",
       "      <td>16.760</td>\n",
       "    </tr>\n",
       "    <tr>\n",
       "      <th>1514574</th>\n",
       "      <td>US AOC</td>\n",
       "      <td>MOUTHWASH</td>\n",
       "      <td>MOUTHWASH</td>\n",
       "      <td>MW</td>\n",
       "      <td></td>\n",
       "      <td></td>\n",
       "      <td></td>\n",
       "      <td></td>\n",
       "      <td>% Dollars w/Any Promo YAG Chg</td>\n",
       "      <td>-5.816</td>\n",
       "      <td>...</td>\n",
       "      <td>-7.861</td>\n",
       "      <td>-7.654</td>\n",
       "      <td>-9.064</td>\n",
       "      <td>-5.003</td>\n",
       "      <td>-5.230</td>\n",
       "      <td>-5.284</td>\n",
       "      <td>-2.146</td>\n",
       "      <td>-3.415</td>\n",
       "      <td>-2.920</td>\n",
       "      <td>-11.881</td>\n",
       "    </tr>\n",
       "  </tbody>\n",
       "</table>\n",
       "<p>2 rows × 26 columns</p>\n",
       "</div>"
      ],
      "text/plain": [
       "            MKT       PROD CP_CATEGORY Category CP_MANUFACTURER CP_FRANCHISE  \\\n",
       "1514573  US AOC  MOUTHWASH   MOUTHWASH       MW                                \n",
       "1514574  US AOC  MOUTHWASH   MOUTHWASH       MW                                \n",
       "\n",
       "        CP_BRAND CP_SUBBRAND                            FCT  4 W/E 02/27/21  \\\n",
       "1514573                               % Dollars w/Any Promo          18.982   \n",
       "1514574                       % Dollars w/Any Promo YAG Chg          -5.816   \n",
       "\n",
       "         ...  4 W/E 05/02/20  4 W/E 05/30/20  5 W/E 07/04/20  4 W/E 08/01/20  \\\n",
       "1514573  ...          19.575          18.842          17.857          23.029   \n",
       "1514574  ...          -7.861          -7.654          -9.064          -5.003   \n",
       "\n",
       "         4 W/E 08/29/20  5 W/E 10/03/20  4 W/E 10/31/20  4 W/E 11/28/20  \\\n",
       "1514573          23.014          19.785          22.383          21.278   \n",
       "1514574          -5.230          -5.284          -2.146          -3.415   \n",
       "\n",
       "         5 W/E 01/02/21  4 W/E 01/30/21  \n",
       "1514573          22.009          16.760  \n",
       "1514574          -2.920         -11.881  \n",
       "\n",
       "[2 rows x 26 columns]"
      ]
     },
     "execution_count": 138,
     "metadata": {},
     "output_type": "execute_result"
    }
   ],
   "source": [
    "MW_Promo.head(2)"
   ]
  },
  {
   "cell_type": "code",
   "execution_count": 139,
   "metadata": {},
   "outputs": [],
   "source": [
    "# del MW_Promo[\"ShareBasis\"]\n",
    "del MW_Promo[\"Category\"]"
   ]
  },
  {
   "cell_type": "code",
   "execution_count": 140,
   "metadata": {},
   "outputs": [],
   "source": [
    "Fact_order = CategoricalDtype(\n",
    "    sorted(list(set(MW_Promo[\"FCT\"]))), \n",
    "    ordered=True\n",
    ")\n",
    "\n",
    "MW_Promo['FCT'] = MW_Promo['FCT'].astype(Fact_order)\n",
    "\n",
    "MW_Promo.sort_values(['MKT','PROD','FCT'],inplace=True)"
   ]
  },
  {
   "cell_type": "markdown",
   "metadata": {},
   "source": [
    "## **promo_category**"
   ]
  },
  {
   "cell_type": "code",
   "execution_count": 141,
   "metadata": {},
   "outputs": [],
   "source": [
    "promo_category=MW_Promo.loc[(MW_Promo[\"CP_SUBBRAND\"]==\"\") & (MW_Promo[\"CP_BRAND\"]==\"\")&(MW_Promo[\"CP_FRANCHISE\"]==\"\")&(MW_Promo[\"CP_MANUFACTURER\"]==\"\")]"
   ]
  },
  {
   "cell_type": "code",
   "execution_count": 142,
   "metadata": {},
   "outputs": [],
   "source": [
    "length= len(promo_category)\n",
    "promo_category[\"Record_ID\"]=range(1,length+1)"
   ]
  },
  {
   "cell_type": "code",
   "execution_count": 143,
   "metadata": {},
   "outputs": [
    {
     "data": {
      "text/html": [
       "<div>\n",
       "<style scoped>\n",
       "    .dataframe tbody tr th:only-of-type {\n",
       "        vertical-align: middle;\n",
       "    }\n",
       "\n",
       "    .dataframe tbody tr th {\n",
       "        vertical-align: top;\n",
       "    }\n",
       "\n",
       "    .dataframe thead th {\n",
       "        text-align: right;\n",
       "    }\n",
       "</style>\n",
       "<table border=\"1\" class=\"dataframe\">\n",
       "  <thead>\n",
       "    <tr style=\"text-align: right;\">\n",
       "      <th></th>\n",
       "      <th>MKT</th>\n",
       "      <th>PROD</th>\n",
       "      <th>CP_CATEGORY</th>\n",
       "      <th>CP_MANUFACTURER</th>\n",
       "      <th>CP_FRANCHISE</th>\n",
       "      <th>CP_BRAND</th>\n",
       "      <th>CP_SUBBRAND</th>\n",
       "      <th>FCT</th>\n",
       "      <th>4 W/E 02/27/21</th>\n",
       "      <th>Latest 13 Weeks</th>\n",
       "      <th>...</th>\n",
       "      <th>4 W/E 05/30/20</th>\n",
       "      <th>5 W/E 07/04/20</th>\n",
       "      <th>4 W/E 08/01/20</th>\n",
       "      <th>4 W/E 08/29/20</th>\n",
       "      <th>5 W/E 10/03/20</th>\n",
       "      <th>4 W/E 10/31/20</th>\n",
       "      <th>4 W/E 11/28/20</th>\n",
       "      <th>5 W/E 01/02/21</th>\n",
       "      <th>4 W/E 01/30/21</th>\n",
       "      <th>Record_ID</th>\n",
       "    </tr>\n",
       "  </thead>\n",
       "  <tbody>\n",
       "    <tr>\n",
       "      <th>1646632</th>\n",
       "      <td>Ahold</td>\n",
       "      <td>MOUTHWASH</td>\n",
       "      <td>MOUTHWASH</td>\n",
       "      <td></td>\n",
       "      <td></td>\n",
       "      <td></td>\n",
       "      <td></td>\n",
       "      <td>$ Share</td>\n",
       "      <td>100.0</td>\n",
       "      <td>100.0</td>\n",
       "      <td>...</td>\n",
       "      <td>100.0</td>\n",
       "      <td>100.0</td>\n",
       "      <td>100.0</td>\n",
       "      <td>100.0</td>\n",
       "      <td>100.0</td>\n",
       "      <td>100.0</td>\n",
       "      <td>100.0</td>\n",
       "      <td>100.0</td>\n",
       "      <td>100.0</td>\n",
       "      <td>1</td>\n",
       "    </tr>\n",
       "    <tr>\n",
       "      <th>1646631</th>\n",
       "      <td>Ahold</td>\n",
       "      <td>MOUTHWASH</td>\n",
       "      <td>MOUTHWASH</td>\n",
       "      <td></td>\n",
       "      <td></td>\n",
       "      <td></td>\n",
       "      <td></td>\n",
       "      <td>$ Share YAG Chg</td>\n",
       "      <td>0.0</td>\n",
       "      <td>0.0</td>\n",
       "      <td>...</td>\n",
       "      <td>0.0</td>\n",
       "      <td>0.0</td>\n",
       "      <td>0.0</td>\n",
       "      <td>0.0</td>\n",
       "      <td>0.0</td>\n",
       "      <td>0.0</td>\n",
       "      <td>0.0</td>\n",
       "      <td>0.0</td>\n",
       "      <td>0.0</td>\n",
       "      <td>2</td>\n",
       "    </tr>\n",
       "  </tbody>\n",
       "</table>\n",
       "<p>2 rows × 26 columns</p>\n",
       "</div>"
      ],
      "text/plain": [
       "           MKT       PROD CP_CATEGORY CP_MANUFACTURER CP_FRANCHISE CP_BRAND  \\\n",
       "1646632  Ahold  MOUTHWASH   MOUTHWASH                                         \n",
       "1646631  Ahold  MOUTHWASH   MOUTHWASH                                         \n",
       "\n",
       "        CP_SUBBRAND              FCT  4 W/E 02/27/21  Latest 13 Weeks  ...  \\\n",
       "1646632                      $ Share           100.0            100.0  ...   \n",
       "1646631              $ Share YAG Chg             0.0              0.0  ...   \n",
       "\n",
       "         4 W/E 05/30/20  5 W/E 07/04/20  4 W/E 08/01/20  4 W/E 08/29/20  \\\n",
       "1646632           100.0           100.0           100.0           100.0   \n",
       "1646631             0.0             0.0             0.0             0.0   \n",
       "\n",
       "         5 W/E 10/03/20  4 W/E 10/31/20  4 W/E 11/28/20  5 W/E 01/02/21  \\\n",
       "1646632           100.0           100.0           100.0           100.0   \n",
       "1646631             0.0             0.0             0.0             0.0   \n",
       "\n",
       "         4 W/E 01/30/21  Record_ID  \n",
       "1646632           100.0          1  \n",
       "1646631             0.0          2  \n",
       "\n",
       "[2 rows x 26 columns]"
      ]
     },
     "execution_count": 143,
     "metadata": {},
     "output_type": "execute_result"
    }
   ],
   "source": [
    "promo_category.head(2)"
   ]
  },
  {
   "cell_type": "code",
   "execution_count": 144,
   "metadata": {},
   "outputs": [],
   "source": [
    "promo_category.to_csv(path_MW+\"promo_category.csv\",index=False)"
   ]
  },
  {
   "cell_type": "markdown",
   "metadata": {},
   "source": [
    "## **promo_toplevel**"
   ]
  },
  {
   "cell_type": "code",
   "execution_count": 145,
   "metadata": {},
   "outputs": [],
   "source": [
    "promo_toplevel=MW_Promo.loc[(MW_Promo[\"CP_SUBBRAND\"]==\"\") & (MW_Promo[\"CP_BRAND\"]==\"\")&(MW_Promo[\"CP_FRANCHISE\"]==\"\")&(MW_Promo[\"CP_MANUFACTURER\"]!=\"\")]"
   ]
  },
  {
   "cell_type": "code",
   "execution_count": 146,
   "metadata": {},
   "outputs": [],
   "source": [
    "# Blank row 0th position\n",
    "df1=pd.DataFrame([[np.nan]*len(promo_toplevel.columns)],columns=promo_toplevel.columns)\n",
    "promo_toplevel=df1.append(promo_toplevel,ignore_index=True)"
   ]
  },
  {
   "cell_type": "code",
   "execution_count": 147,
   "metadata": {},
   "outputs": [],
   "source": [
    "length= len(promo_toplevel)\n",
    "promo_toplevel[\"Record_ID\"]=range(1,length+1)"
   ]
  },
  {
   "cell_type": "code",
   "execution_count": 148,
   "metadata": {},
   "outputs": [],
   "source": [
    "promo_toplevel.to_csv(path_MW+\"promo_toplevel.csv\",index=False)"
   ]
  },
  {
   "cell_type": "markdown",
   "metadata": {},
   "source": [
    "## **promo_franchise**"
   ]
  },
  {
   "cell_type": "code",
   "execution_count": 149,
   "metadata": {},
   "outputs": [],
   "source": [
    "promo_franchise=MW_Promo.loc[(MW_Promo[\"CP_SUBBRAND\"]==\"\") & (MW_Promo[\"CP_BRAND\"]==\"\")&(MW_Promo[\"CP_FRANCHISE\"]!=\"\")]"
   ]
  },
  {
   "cell_type": "code",
   "execution_count": 150,
   "metadata": {},
   "outputs": [],
   "source": [
    "length= len(promo_franchise)\n",
    "promo_franchise[\"Record_ID\"]=range(1,length+1)"
   ]
  },
  {
   "cell_type": "code",
   "execution_count": 151,
   "metadata": {},
   "outputs": [],
   "source": [
    "promo_franchise.to_csv(path_MW+\"promo_franchise.csv\",index=False)"
   ]
  },
  {
   "cell_type": "markdown",
   "metadata": {},
   "source": [
    "## **promo_brand_promo**"
   ]
  },
  {
   "cell_type": "code",
   "execution_count": 152,
   "metadata": {},
   "outputs": [],
   "source": [
    "promo_brand_promo=MW_Promo.loc[(MW_Promo[\"CP_SUBBRAND\"]==\"\") & (MW_Promo[\"CP_BRAND\"]!=\"\")]"
   ]
  },
  {
   "cell_type": "code",
   "execution_count": 153,
   "metadata": {},
   "outputs": [],
   "source": [
    "length= len(promo_brand_promo)\n",
    "promo_brand_promo[\"Record_ID\"]=range(1,length+1)"
   ]
  },
  {
   "cell_type": "code",
   "execution_count": 154,
   "metadata": {},
   "outputs": [],
   "source": [
    "promo_brand_promo.to_csv(path_MW+\"promo_brand_promo.csv\",index=False)"
   ]
  },
  {
   "cell_type": "markdown",
   "metadata": {},
   "source": [
    "## **promo_subbrand_promo**"
   ]
  },
  {
   "cell_type": "code",
   "execution_count": 155,
   "metadata": {},
   "outputs": [],
   "source": [
    "promo_subbrand_promo=MW_Promo.loc[(MW_Promo[\"CP_SUBBRAND\"]!=\"\")]"
   ]
  },
  {
   "cell_type": "code",
   "execution_count": 156,
   "metadata": {},
   "outputs": [],
   "source": [
    "length= len(promo_subbrand_promo)\n",
    "promo_subbrand_promo[\"Record_ID\"]=range(1,length+1)"
   ]
  },
  {
   "cell_type": "code",
   "execution_count": 157,
   "metadata": {},
   "outputs": [],
   "source": [
    "promo_subbrand_promo.to_csv(path_MW+\"promo_subbrand_promo.csv\",index=False)"
   ]
  },
  {
   "cell_type": "code",
   "execution_count": null,
   "metadata": {},
   "outputs": [],
   "source": []
  },
  {
   "cell_type": "markdown",
   "metadata": {},
   "source": [
    "## Waterfall"
   ]
  },
  {
   "cell_type": "code",
   "execution_count": 158,
   "metadata": {},
   "outputs": [],
   "source": [
    "Waterfall_MW=Data_5p_MW.copy()"
   ]
  },
  {
   "cell_type": "code",
   "execution_count": 159,
   "metadata": {},
   "outputs": [],
   "source": [
    "Waterfall_Markets=[\"TOTAL US XAOC\",\"TOTAL US DRUG\",\"TOTAL US FOOD\",\"TOTAL WALMART TOTAL US CTA\",\"TARGET TOTAL BM/FF CENSUS TA\",\n",
    "         \"WALGREENS CORP TOTAL CENSUS TA\",\"RITE AID - TOTAL CENSUS TA\",\"SHOPRITE TOTAL CENSUS TRADING AREA\",\n",
    "         \"PUBLIX TOTAL CENSUS TRADING AREA\",\"FAMILY DOLLAR TOTAL CENSUS TRADING AREA\",\"DOL GEN TOTAL CENSUS TA\",\n",
    "         \"CVS TOTAL CORP WO HI CENSUS TA\",\"SAMS TOTAL CENSUS TRADING AREA\",\"BJS TOTAL CENSUS TA\",\n",
    "         \"AHOLD USA CORP TOTAL CTA\",\"MEIJER TOTAL CENSUS TRADING AREA\",\"ALBSCO Total Company TA\",\"Kmart Total TA\" ]"
   ]
  },
  {
   "cell_type": "markdown",
   "metadata": {},
   "source": [
    "**Market Mapping**"
   ]
  },
  {
   "cell_type": "code",
   "execution_count": 160,
   "metadata": {},
   "outputs": [],
   "source": [
    "Waterfall_MW[\"Markets\"].replace(Waterfall_Market_Mapping,inplace=True)"
   ]
  },
  {
   "cell_type": "markdown",
   "metadata": {},
   "source": [
    "**Facts, Markets, Time_Period Filter**"
   ]
  },
  {
   "cell_type": "code",
   "execution_count": 161,
   "metadata": {},
   "outputs": [],
   "source": [
    "Waterfall_MW= Waterfall_MW[Waterfall_MW[\"Facts\"].isin(Waterfall_Facts)]\n",
    "Waterfall_MW= Waterfall_MW[Waterfall_MW[\"Markets\"].isin(Waterfall_Markets)]\n",
    "Waterfall_MW=Waterfall_MW[Waterfall_Time_Period]"
   ]
  },
  {
   "cell_type": "code",
   "execution_count": 162,
   "metadata": {},
   "outputs": [
    {
     "name": "stdout",
     "output_type": "stream",
     "text": [
      "18 18\n"
     ]
    }
   ],
   "source": [
    "print(len(Waterfall_Markets), len(set(Waterfall_MW[\"Markets\"])))"
   ]
  },
  {
   "cell_type": "code",
   "execution_count": 163,
   "metadata": {
    "scrolled": true
   },
   "outputs": [
    {
     "data": {
      "text/html": [
       "<div>\n",
       "<style scoped>\n",
       "    .dataframe tbody tr th:only-of-type {\n",
       "        vertical-align: middle;\n",
       "    }\n",
       "\n",
       "    .dataframe tbody tr th {\n",
       "        vertical-align: top;\n",
       "    }\n",
       "\n",
       "    .dataframe thead th {\n",
       "        text-align: right;\n",
       "    }\n",
       "</style>\n",
       "<table border=\"1\" class=\"dataframe\">\n",
       "  <thead>\n",
       "    <tr style=\"text-align: right;\">\n",
       "      <th></th>\n",
       "      <th>Markets</th>\n",
       "      <th>Products</th>\n",
       "      <th>Manufacturer</th>\n",
       "      <th>Franchise</th>\n",
       "      <th>Brand</th>\n",
       "      <th>SubBrand</th>\n",
       "      <th>Facts</th>\n",
       "      <th>YTD 2021</th>\n",
       "      <th>YTD 2020</th>\n",
       "      <th>4 W/E 02/27/21</th>\n",
       "      <th>4 W/E 02/29/20</th>\n",
       "    </tr>\n",
       "  </thead>\n",
       "  <tbody>\n",
       "    <tr>\n",
       "      <th>1514579</th>\n",
       "      <td>TOTAL US XAOC</td>\n",
       "      <td>MOUTHWASH</td>\n",
       "      <td></td>\n",
       "      <td></td>\n",
       "      <td></td>\n",
       "      <td></td>\n",
       "      <td>$</td>\n",
       "      <td>2.434995e+08</td>\n",
       "      <td>2.370942e+08</td>\n",
       "      <td>1.177164e+08</td>\n",
       "      <td>1.197798e+08</td>\n",
       "    </tr>\n",
       "    <tr>\n",
       "      <th>1514582</th>\n",
       "      <td>TOTAL US XAOC</td>\n",
       "      <td>MOUTHWASH</td>\n",
       "      <td></td>\n",
       "      <td></td>\n",
       "      <td></td>\n",
       "      <td></td>\n",
       "      <td>$ Shr - CP CATEGORY</td>\n",
       "      <td>1.000000e+02</td>\n",
       "      <td>1.000000e+02</td>\n",
       "      <td>1.000000e+02</td>\n",
       "      <td>1.000000e+02</td>\n",
       "    </tr>\n",
       "  </tbody>\n",
       "</table>\n",
       "</div>"
      ],
      "text/plain": [
       "               Markets   Products Manufacturer Franchise Brand SubBrand  \\\n",
       "1514579  TOTAL US XAOC  MOUTHWASH                                         \n",
       "1514582  TOTAL US XAOC  MOUTHWASH                                         \n",
       "\n",
       "                       Facts      YTD 2021      YTD 2020  4 W/E 02/27/21  \\\n",
       "1514579                    $  2.434995e+08  2.370942e+08    1.177164e+08   \n",
       "1514582  $ Shr - CP CATEGORY  1.000000e+02  1.000000e+02    1.000000e+02   \n",
       "\n",
       "         4 W/E 02/29/20  \n",
       "1514579    1.197798e+08  \n",
       "1514582    1.000000e+02  "
      ]
     },
     "execution_count": 163,
     "metadata": {},
     "output_type": "execute_result"
    }
   ],
   "source": [
    "Waterfall_MW.head(2)"
   ]
  },
  {
   "cell_type": "markdown",
   "metadata": {},
   "source": [
    "**Column name Change**"
   ]
  },
  {
   "cell_type": "code",
   "execution_count": 164,
   "metadata": {},
   "outputs": [],
   "source": [
    "Waterfall_MW.rename(columns={\"Markets\":\"MKT\",\"Products\":\"PROD\",\"Manufacturer\":\"CP.MANUFACTURER\",\n",
    "                                \"Franchise\":\"CP.FRANCHISE\",\"Brand\":\"CP.BRAND\",\"SubBrand\":\"CP.SUBBRAND\",\"Facts\":\"FCT\"},inplace=True)"
   ]
  },
  {
   "cell_type": "markdown",
   "metadata": {},
   "source": [
    "**Fact Name Change**"
   ]
  },
  {
   "cell_type": "code",
   "execution_count": 165,
   "metadata": {},
   "outputs": [],
   "source": [
    "Waterfall_MW[\"FCT\"].replace(Waterfall_Fact_Mapping,inplace=True)"
   ]
  },
  {
   "cell_type": "code",
   "execution_count": 166,
   "metadata": {},
   "outputs": [
    {
     "data": {
      "text/html": [
       "<div>\n",
       "<style scoped>\n",
       "    .dataframe tbody tr th:only-of-type {\n",
       "        vertical-align: middle;\n",
       "    }\n",
       "\n",
       "    .dataframe tbody tr th {\n",
       "        vertical-align: top;\n",
       "    }\n",
       "\n",
       "    .dataframe thead th {\n",
       "        text-align: right;\n",
       "    }\n",
       "</style>\n",
       "<table border=\"1\" class=\"dataframe\">\n",
       "  <thead>\n",
       "    <tr style=\"text-align: right;\">\n",
       "      <th></th>\n",
       "      <th>MKT</th>\n",
       "      <th>PROD</th>\n",
       "      <th>CP.MANUFACTURER</th>\n",
       "      <th>CP.FRANCHISE</th>\n",
       "      <th>CP.BRAND</th>\n",
       "      <th>CP.SUBBRAND</th>\n",
       "      <th>FCT</th>\n",
       "      <th>YTD 2021</th>\n",
       "      <th>YTD 2020</th>\n",
       "      <th>4 W/E 02/27/21</th>\n",
       "      <th>4 W/E 02/29/20</th>\n",
       "    </tr>\n",
       "  </thead>\n",
       "  <tbody>\n",
       "    <tr>\n",
       "      <th>1514579</th>\n",
       "      <td>TOTAL US XAOC</td>\n",
       "      <td>MOUTHWASH</td>\n",
       "      <td></td>\n",
       "      <td></td>\n",
       "      <td></td>\n",
       "      <td></td>\n",
       "      <td>Dollars</td>\n",
       "      <td>2.434995e+08</td>\n",
       "      <td>2.370942e+08</td>\n",
       "      <td>1.177164e+08</td>\n",
       "      <td>1.197798e+08</td>\n",
       "    </tr>\n",
       "    <tr>\n",
       "      <th>1514582</th>\n",
       "      <td>TOTAL US XAOC</td>\n",
       "      <td>MOUTHWASH</td>\n",
       "      <td></td>\n",
       "      <td></td>\n",
       "      <td></td>\n",
       "      <td></td>\n",
       "      <td>$ Share</td>\n",
       "      <td>1.000000e+02</td>\n",
       "      <td>1.000000e+02</td>\n",
       "      <td>1.000000e+02</td>\n",
       "      <td>1.000000e+02</td>\n",
       "    </tr>\n",
       "  </tbody>\n",
       "</table>\n",
       "</div>"
      ],
      "text/plain": [
       "                   MKT       PROD CP.MANUFACTURER CP.FRANCHISE CP.BRAND  \\\n",
       "1514579  TOTAL US XAOC  MOUTHWASH                                         \n",
       "1514582  TOTAL US XAOC  MOUTHWASH                                         \n",
       "\n",
       "        CP.SUBBRAND      FCT      YTD 2021      YTD 2020  4 W/E 02/27/21  \\\n",
       "1514579              Dollars  2.434995e+08  2.370942e+08    1.177164e+08   \n",
       "1514582              $ Share  1.000000e+02  1.000000e+02    1.000000e+02   \n",
       "\n",
       "         4 W/E 02/29/20  \n",
       "1514579    1.197798e+08  \n",
       "1514582    1.000000e+02  "
      ]
     },
     "execution_count": 166,
     "metadata": {},
     "output_type": "execute_result"
    }
   ],
   "source": [
    "Waterfall_MW.head(2)"
   ]
  },
  {
   "cell_type": "code",
   "execution_count": 167,
   "metadata": {},
   "outputs": [],
   "source": [
    "Fact_order_1 = [\"Baseline $\",\"Incr.$ w/No Promo\",\"Incr.$ w/Ftr w/o Disp\",\"Incr.$ w/Disp w/o Ftr\",\"Incr.$ w/Ftr & Disp\",\n",
    "              \"Incr.$ w/TPR\",\"Dollars\",\"$ Share\"]\n",
    "\n",
    "Fact_order = CategoricalDtype(\n",
    "    Fact_order_1, \n",
    "    ordered=True\n",
    ")\n",
    "\n",
    "\n",
    "Waterfall_MW['FCT'] = Waterfall_MW['FCT'].astype(Fact_order)\n",
    "\n",
    "Waterfall_MW.sort_values(['MKT','PROD','FCT'],inplace=True)"
   ]
  },
  {
   "cell_type": "markdown",
   "metadata": {},
   "source": [
    "## **Waterfall_Manu**"
   ]
  },
  {
   "cell_type": "code",
   "execution_count": 168,
   "metadata": {},
   "outputs": [],
   "source": [
    "Waterfall_Manu=Waterfall_MW.loc[(Waterfall_MW[\"CP.SUBBRAND\"]==\"\") & (Waterfall_MW[\"CP.BRAND\"]==\"\")&(Waterfall_MW[\"CP.FRANCHISE\"]==\"\")&(Waterfall_MW[\"CP.MANUFACTURER\"]!=\"\")]"
   ]
  },
  {
   "cell_type": "code",
   "execution_count": 169,
   "metadata": {},
   "outputs": [],
   "source": [
    "Waterfall_Manu[\"Record_ID\"]=range(1,len(Waterfall_Manu)+1)"
   ]
  },
  {
   "cell_type": "code",
   "execution_count": 170,
   "metadata": {},
   "outputs": [],
   "source": [
    "Waterfall_Manu.to_csv(path_MW+\"Waterfall_Manu.csv\",index=False)"
   ]
  },
  {
   "cell_type": "markdown",
   "metadata": {},
   "source": [
    "## **Waterfall_Fran**"
   ]
  },
  {
   "cell_type": "code",
   "execution_count": 171,
   "metadata": {},
   "outputs": [],
   "source": [
    "Waterfall_Fran=Waterfall_MW.loc[(Waterfall_MW[\"CP.SUBBRAND\"]==\"\") & (Waterfall_MW[\"CP.BRAND\"]==\"\")&(Waterfall_MW[\"CP.FRANCHISE\"]!=\"\")]"
   ]
  },
  {
   "cell_type": "code",
   "execution_count": 172,
   "metadata": {},
   "outputs": [],
   "source": [
    "Waterfall_Fran[\"Record_ID\"]=range(1,len(Waterfall_Fran)+1)"
   ]
  },
  {
   "cell_type": "code",
   "execution_count": 173,
   "metadata": {},
   "outputs": [],
   "source": [
    "Waterfall_Fran.to_csv(path_MW+\"Waterfall_Fran.csv\",index=False)"
   ]
  },
  {
   "cell_type": "markdown",
   "metadata": {},
   "source": [
    "## **Waterfall_Brand**"
   ]
  },
  {
   "cell_type": "code",
   "execution_count": 174,
   "metadata": {},
   "outputs": [],
   "source": [
    "Waterfall_Brand=Waterfall_MW.loc[(Waterfall_MW[\"CP.SUBBRAND\"]==\"\") & (Waterfall_MW[\"CP.BRAND\"]!=\"\")]"
   ]
  },
  {
   "cell_type": "code",
   "execution_count": 175,
   "metadata": {},
   "outputs": [],
   "source": [
    "Waterfall_Cat=Waterfall_MW.loc[(Waterfall_MW[\"CP.SUBBRAND\"]==\"\") & (Waterfall_MW[\"CP.BRAND\"]==\"\")&(Waterfall_MW[\"CP.FRANCHISE\"]==\"\")&(Waterfall_MW[\"CP.MANUFACTURER\"]==\"\")]"
   ]
  },
  {
   "cell_type": "code",
   "execution_count": 176,
   "metadata": {},
   "outputs": [],
   "source": [
    "Waterfall_Cat_Brand=pd.concat([Waterfall_Cat,Waterfall_Brand],axis=0)"
   ]
  },
  {
   "cell_type": "code",
   "execution_count": 177,
   "metadata": {},
   "outputs": [],
   "source": [
    "Waterfall_Cat_Brand['FCT'] = Waterfall_Cat_Brand['FCT'].astype(Fact_order)\n",
    "\n",
    "Waterfall_Cat_Brand.sort_values(['MKT','PROD','FCT'],inplace=True)"
   ]
  },
  {
   "cell_type": "code",
   "execution_count": 178,
   "metadata": {},
   "outputs": [],
   "source": [
    "Waterfall_Cat_Brand[\"Record_ID\"]=range(1,len(Waterfall_Cat_Brand)+1)"
   ]
  },
  {
   "cell_type": "code",
   "execution_count": 179,
   "metadata": {},
   "outputs": [],
   "source": [
    "Waterfall_Cat_Brand.to_csv(path_MW+\"Waterfall Brand.csv\",index=False)"
   ]
  },
  {
   "cell_type": "markdown",
   "metadata": {},
   "source": [
    "## Waterfall_SubBrand"
   ]
  },
  {
   "cell_type": "code",
   "execution_count": 180,
   "metadata": {},
   "outputs": [],
   "source": [
    "Waterfall_SubBrand=Waterfall_MW.loc[(Waterfall_MW[\"CP.SUBBRAND\"]!=\"\")]"
   ]
  },
  {
   "cell_type": "code",
   "execution_count": 181,
   "metadata": {},
   "outputs": [],
   "source": [
    "Waterfall_SubBrand[\"Record_ID\"]=range(1,len(Waterfall_SubBrand)+1)"
   ]
  },
  {
   "cell_type": "code",
   "execution_count": 182,
   "metadata": {},
   "outputs": [],
   "source": [
    "Waterfall_SubBrand.to_csv(path_MW+\"Waterfall Sub_Brand.csv\",index=False)"
   ]
  },
  {
   "cell_type": "code",
   "execution_count": null,
   "metadata": {},
   "outputs": [],
   "source": []
  },
  {
   "cell_type": "markdown",
   "metadata": {},
   "source": [
    "# MTB"
   ]
  },
  {
   "cell_type": "code",
   "execution_count": 183,
   "metadata": {},
   "outputs": [],
   "source": [
    "# path to store OuMWut files\n",
    "\n",
    "path_MTB=\"//falmumapp34/Nielsen Connect Transition & Maintenance (20-SCP-3650)/05. Output Data/5P Output/MTB/\""
   ]
  },
  {
   "cell_type": "code",
   "execution_count": 184,
   "metadata": {},
   "outputs": [],
   "source": [
    "Data_5p_MTB=Data_5p.copy()"
   ]
  },
  {
   "cell_type": "code",
   "execution_count": 185,
   "metadata": {},
   "outputs": [
    {
     "data": {
      "text/html": [
       "<div>\n",
       "<style scoped>\n",
       "    .dataframe tbody tr th:only-of-type {\n",
       "        vertical-align: middle;\n",
       "    }\n",
       "\n",
       "    .dataframe tbody tr th {\n",
       "        vertical-align: top;\n",
       "    }\n",
       "\n",
       "    .dataframe thead th {\n",
       "        text-align: right;\n",
       "    }\n",
       "</style>\n",
       "<table border=\"1\" class=\"dataframe\">\n",
       "  <thead>\n",
       "    <tr style=\"text-align: right;\">\n",
       "      <th></th>\n",
       "      <th>Markets</th>\n",
       "      <th>ShareBasis</th>\n",
       "      <th>Category</th>\n",
       "      <th>Manufacturer</th>\n",
       "      <th>Franchise</th>\n",
       "      <th>Brand</th>\n",
       "      <th>SubBrand</th>\n",
       "      <th>Products</th>\n",
       "      <th>Facts</th>\n",
       "      <th>FY 2020</th>\n",
       "      <th>...</th>\n",
       "      <th>5 W/E 10/03/20</th>\n",
       "      <th>4 W/E 08/29/20</th>\n",
       "      <th>4 W/E 08/01/20</th>\n",
       "      <th>5 W/E 07/04/20</th>\n",
       "      <th>4 W/E 05/30/20</th>\n",
       "      <th>4 W/E 05/02/20</th>\n",
       "      <th>5 W/E 04/04/20</th>\n",
       "      <th>4 W/E 02/29/20</th>\n",
       "      <th>4 W/E 02/01/20</th>\n",
       "      <th>Key</th>\n",
       "    </tr>\n",
       "  </thead>\n",
       "  <tbody>\n",
       "    <tr>\n",
       "      <th>0</th>\n",
       "      <td>US AOC</td>\n",
       "      <td>ABRASIVE</td>\n",
       "      <td>HHC</td>\n",
       "      <td></td>\n",
       "      <td></td>\n",
       "      <td></td>\n",
       "      <td></td>\n",
       "      <td>ABRASIVE</td>\n",
       "      <td>% $ Any Promo</td>\n",
       "      <td>6.852</td>\n",
       "      <td>...</td>\n",
       "      <td>5.684</td>\n",
       "      <td>5.237</td>\n",
       "      <td>5.397</td>\n",
       "      <td>4.521</td>\n",
       "      <td>5.375</td>\n",
       "      <td>6.757</td>\n",
       "      <td>11.126</td>\n",
       "      <td>8.262</td>\n",
       "      <td>11.107</td>\n",
       "      <td>Total US xAOCABRASIVE</td>\n",
       "    </tr>\n",
       "    <tr>\n",
       "      <th>1</th>\n",
       "      <td>US AOC</td>\n",
       "      <td>ABRASIVE</td>\n",
       "      <td>HHC</td>\n",
       "      <td></td>\n",
       "      <td></td>\n",
       "      <td></td>\n",
       "      <td></td>\n",
       "      <td>ABRASIVE</td>\n",
       "      <td>% $ Any Promo Chg YA</td>\n",
       "      <td>-3.033</td>\n",
       "      <td>...</td>\n",
       "      <td>-1.867</td>\n",
       "      <td>-3.987</td>\n",
       "      <td>-1.106</td>\n",
       "      <td>-5.830</td>\n",
       "      <td>-5.742</td>\n",
       "      <td>-4.454</td>\n",
       "      <td>-2.334</td>\n",
       "      <td>-0.137</td>\n",
       "      <td>2.827</td>\n",
       "      <td>Total US xAOCABRASIVE</td>\n",
       "    </tr>\n",
       "  </tbody>\n",
       "</table>\n",
       "<p>2 rows × 40 columns</p>\n",
       "</div>"
      ],
      "text/plain": [
       "  Markets ShareBasis Category Manufacturer Franchise Brand SubBrand  Products  \\\n",
       "0  US AOC   ABRASIVE      HHC                                        ABRASIVE   \n",
       "1  US AOC   ABRASIVE      HHC                                        ABRASIVE   \n",
       "\n",
       "                  Facts  FY 2020  ...  5 W/E 10/03/20  4 W/E 08/29/20  \\\n",
       "0         % $ Any Promo    6.852  ...           5.684           5.237   \n",
       "1  % $ Any Promo Chg YA   -3.033  ...          -1.867          -3.987   \n",
       "\n",
       "   4 W/E 08/01/20  5 W/E 07/04/20  4 W/E 05/30/20  4 W/E 05/02/20  \\\n",
       "0           5.397           4.521           5.375           6.757   \n",
       "1          -1.106          -5.830          -5.742          -4.454   \n",
       "\n",
       "   5 W/E 04/04/20  4 W/E 02/29/20  4 W/E 02/01/20                    Key  \n",
       "0          11.126           8.262          11.107  Total US xAOCABRASIVE  \n",
       "1          -2.334          -0.137           2.827  Total US xAOCABRASIVE  \n",
       "\n",
       "[2 rows x 40 columns]"
      ]
     },
     "execution_count": 185,
     "metadata": {},
     "output_type": "execute_result"
    }
   ],
   "source": [
    "Data_5p.head(2)"
   ]
  },
  {
   "cell_type": "markdown",
   "metadata": {},
   "source": [
    "**Filtering MTB Data**"
   ]
  },
  {
   "cell_type": "code",
   "execution_count": 186,
   "metadata": {},
   "outputs": [],
   "source": [
    "Data_5p_MTB=Data_5p.loc[Data_5p[\"Category\"]==\"MTB\"]"
   ]
  },
  {
   "cell_type": "markdown",
   "metadata": {},
   "source": [
    "## Promotion Data MTB"
   ]
  },
  {
   "cell_type": "code",
   "execution_count": 187,
   "metadata": {},
   "outputs": [],
   "source": [
    "MTB_Promo= Data_5p_MTB.copy()"
   ]
  },
  {
   "cell_type": "code",
   "execution_count": 188,
   "metadata": {},
   "outputs": [
    {
     "data": {
      "text/plain": [
       "set()"
      ]
     },
     "execution_count": 188,
     "metadata": {},
     "output_type": "execute_result"
    }
   ],
   "source": [
    "set(Promo_Facts) - set(MTB_Promo['Facts'])\n"
   ]
  },
  {
   "cell_type": "code",
   "execution_count": 189,
   "metadata": {},
   "outputs": [],
   "source": [
    "Promo_Markets=[\"US AOC\",\"Ahold\",\"Alb/Sfy\",\"BJs\",\"CVS\",\"Dollar General\",\"Family Dollar\",\"Meijer\",\"Publix\",\n",
    "         \"Rite Aid\",\"Sams\",\"Shoprite\",\"Target\",\"US Drug\",\"US Food\",\"Walgreens\",\"Walmart\"]"
   ]
  },
  {
   "cell_type": "code",
   "execution_count": 190,
   "metadata": {},
   "outputs": [],
   "source": [
    "# Filter Data based on Promo selection\n",
    "MTB_Promo= MTB_Promo[MTB_Promo[\"Facts\"].isin(Promo_Facts)]\n",
    "MTB_Promo= MTB_Promo[MTB_Promo[\"Markets\"].isin(Promo_Markets)]\n",
    "MTB_Promo=MTB_Promo[Promo_Time_Period]"
   ]
  },
  {
   "cell_type": "code",
   "execution_count": 191,
   "metadata": {},
   "outputs": [
    {
     "name": "stdout",
     "output_type": "stream",
     "text": [
      "17 17\n"
     ]
    }
   ],
   "source": [
    "print(len(Promo_Markets), len(set(MTB_Promo[\"Markets\"])))"
   ]
  },
  {
   "cell_type": "code",
   "execution_count": 192,
   "metadata": {},
   "outputs": [
    {
     "data": {
      "text/plain": [
       "['Markets',\n",
       " 'Products',\n",
       " 'ShareBasis',\n",
       " 'Category',\n",
       " 'Manufacturer',\n",
       " 'Franchise',\n",
       " 'Brand',\n",
       " 'SubBrand',\n",
       " 'Facts',\n",
       " '4 W/E 02/27/21',\n",
       " 'Latest 13 Weeks',\n",
       " 'Latest 26 Weeks',\n",
       " 'YTD 2021',\n",
       " 'FY 2020',\n",
       " '4 W/E 02/29/20',\n",
       " '5 W/E 04/04/20',\n",
       " '4 W/E 05/02/20',\n",
       " '4 W/E 05/30/20',\n",
       " '5 W/E 07/04/20',\n",
       " '4 W/E 08/01/20',\n",
       " '4 W/E 08/29/20',\n",
       " '5 W/E 10/03/20',\n",
       " '4 W/E 10/31/20',\n",
       " '4 W/E 11/28/20',\n",
       " '5 W/E 01/02/21',\n",
       " '4 W/E 01/30/21']"
      ]
     },
     "execution_count": 192,
     "metadata": {},
     "output_type": "execute_result"
    }
   ],
   "source": [
    "Promo_Time_Period"
   ]
  },
  {
   "cell_type": "code",
   "execution_count": 193,
   "metadata": {},
   "outputs": [],
   "source": [
    "MTB_Promo['CP_SHARE_BASIS'] = 'Manual'"
   ]
  },
  {
   "cell_type": "code",
   "execution_count": 194,
   "metadata": {},
   "outputs": [
    {
     "name": "stdout",
     "output_type": "stream",
     "text": [
      "13\n"
     ]
    }
   ],
   "source": [
    "count = 0\n",
    "str = 'FY'\n",
    "for i in Promo_Time_Period:\n",
    "    if(str in i):\n",
    "        break\n",
    "    count +=1\n",
    "print(count)"
   ]
  },
  {
   "cell_type": "markdown",
   "metadata": {},
   "source": [
    "**Fact Name Change**"
   ]
  },
  {
   "cell_type": "code",
   "execution_count": 195,
   "metadata": {},
   "outputs": [],
   "source": [
    "MTB_Promo[\"Facts\"].replace(Promo_Fact_Mapping,inplace=True)"
   ]
  },
  {
   "cell_type": "code",
   "execution_count": 196,
   "metadata": {
    "scrolled": true
   },
   "outputs": [
    {
     "data": {
      "text/plain": [
       "(37476, 27)"
      ]
     },
     "execution_count": 196,
     "metadata": {},
     "output_type": "execute_result"
    }
   ],
   "source": [
    "MTB_Promo.shape"
   ]
  },
  {
   "cell_type": "markdown",
   "metadata": {},
   "source": [
    "**Column name Change**"
   ]
  },
  {
   "cell_type": "code",
   "execution_count": 197,
   "metadata": {},
   "outputs": [],
   "source": [
    "MTB_Promo.rename(columns={\"Markets\":\"MKT\",\"ShareBasis\":\"CP_CATEGORY\",\"Products\":\"PROD\",\"Manufacturer\":\"CP_MANUFACTURER\",\n",
    "                                \"Franchise\":\"CP_FRANCHISE\",\"Brand\":\"CP_BRAND\",\"SubBrand\":\"CP_SUBBRAND\",\"Facts\":\"FCT\"},inplace=True)"
   ]
  },
  {
   "cell_type": "code",
   "execution_count": 198,
   "metadata": {},
   "outputs": [
    {
     "data": {
      "text/html": [
       "<div>\n",
       "<style scoped>\n",
       "    .dataframe tbody tr th:only-of-type {\n",
       "        vertical-align: middle;\n",
       "    }\n",
       "\n",
       "    .dataframe tbody tr th {\n",
       "        vertical-align: top;\n",
       "    }\n",
       "\n",
       "    .dataframe thead th {\n",
       "        text-align: right;\n",
       "    }\n",
       "</style>\n",
       "<table border=\"1\" class=\"dataframe\">\n",
       "  <thead>\n",
       "    <tr style=\"text-align: right;\">\n",
       "      <th></th>\n",
       "      <th>MKT</th>\n",
       "      <th>PROD</th>\n",
       "      <th>CP_CATEGORY</th>\n",
       "      <th>Category</th>\n",
       "      <th>CP_MANUFACTURER</th>\n",
       "      <th>CP_FRANCHISE</th>\n",
       "      <th>CP_BRAND</th>\n",
       "      <th>CP_SUBBRAND</th>\n",
       "      <th>FCT</th>\n",
       "      <th>4 W/E 02/27/21</th>\n",
       "      <th>...</th>\n",
       "      <th>4 W/E 05/30/20</th>\n",
       "      <th>5 W/E 07/04/20</th>\n",
       "      <th>4 W/E 08/01/20</th>\n",
       "      <th>4 W/E 08/29/20</th>\n",
       "      <th>5 W/E 10/03/20</th>\n",
       "      <th>4 W/E 10/31/20</th>\n",
       "      <th>4 W/E 11/28/20</th>\n",
       "      <th>5 W/E 01/02/21</th>\n",
       "      <th>4 W/E 01/30/21</th>\n",
       "      <th>CP_SHARE_BASIS</th>\n",
       "    </tr>\n",
       "  </thead>\n",
       "  <tbody>\n",
       "    <tr>\n",
       "      <th>1289673</th>\n",
       "      <td>Meijer</td>\n",
       "      <td>MANUAL</td>\n",
       "      <td>MANUAL</td>\n",
       "      <td>MTB</td>\n",
       "      <td></td>\n",
       "      <td></td>\n",
       "      <td></td>\n",
       "      <td></td>\n",
       "      <td>% Dollars w/Any Promo</td>\n",
       "      <td>79.635</td>\n",
       "      <td>...</td>\n",
       "      <td>69.382</td>\n",
       "      <td>76.014</td>\n",
       "      <td>78.327</td>\n",
       "      <td>76.269</td>\n",
       "      <td>44.31</td>\n",
       "      <td>74.193</td>\n",
       "      <td>79.396</td>\n",
       "      <td>70.674</td>\n",
       "      <td>77.897</td>\n",
       "      <td>Manual</td>\n",
       "    </tr>\n",
       "    <tr>\n",
       "      <th>1289674</th>\n",
       "      <td>Meijer</td>\n",
       "      <td>MANUAL</td>\n",
       "      <td>MANUAL</td>\n",
       "      <td>MTB</td>\n",
       "      <td></td>\n",
       "      <td></td>\n",
       "      <td></td>\n",
       "      <td></td>\n",
       "      <td>% Dollars w/Any Promo YAG Chg</td>\n",
       "      <td>9.023</td>\n",
       "      <td>...</td>\n",
       "      <td>11.113</td>\n",
       "      <td>22.098</td>\n",
       "      <td>25.054</td>\n",
       "      <td>0.441</td>\n",
       "      <td>-4.68</td>\n",
       "      <td>20.453</td>\n",
       "      <td>19.275</td>\n",
       "      <td>-3.842</td>\n",
       "      <td>-1.731</td>\n",
       "      <td>Manual</td>\n",
       "    </tr>\n",
       "  </tbody>\n",
       "</table>\n",
       "<p>2 rows × 27 columns</p>\n",
       "</div>"
      ],
      "text/plain": [
       "            MKT    PROD CP_CATEGORY Category CP_MANUFACTURER CP_FRANCHISE  \\\n",
       "1289673  Meijer  MANUAL      MANUAL      MTB                                \n",
       "1289674  Meijer  MANUAL      MANUAL      MTB                                \n",
       "\n",
       "        CP_BRAND CP_SUBBRAND                            FCT  4 W/E 02/27/21  \\\n",
       "1289673                               % Dollars w/Any Promo          79.635   \n",
       "1289674                       % Dollars w/Any Promo YAG Chg           9.023   \n",
       "\n",
       "         ...  4 W/E 05/30/20  5 W/E 07/04/20  4 W/E 08/01/20  4 W/E 08/29/20  \\\n",
       "1289673  ...          69.382          76.014          78.327          76.269   \n",
       "1289674  ...          11.113          22.098          25.054           0.441   \n",
       "\n",
       "         5 W/E 10/03/20  4 W/E 10/31/20  4 W/E 11/28/20  5 W/E 01/02/21  \\\n",
       "1289673           44.31          74.193          79.396          70.674   \n",
       "1289674           -4.68          20.453          19.275          -3.842   \n",
       "\n",
       "         4 W/E 01/30/21  CP_SHARE_BASIS  \n",
       "1289673          77.897          Manual  \n",
       "1289674          -1.731          Manual  \n",
       "\n",
       "[2 rows x 27 columns]"
      ]
     },
     "execution_count": 198,
     "metadata": {},
     "output_type": "execute_result"
    }
   ],
   "source": [
    "MTB_Promo.head(2)"
   ]
  },
  {
   "cell_type": "code",
   "execution_count": 199,
   "metadata": {},
   "outputs": [],
   "source": [
    "# del MTB_Promo[\"ShareBasis\"]\n",
    "del MTB_Promo[\"Category\"]"
   ]
  },
  {
   "cell_type": "code",
   "execution_count": 200,
   "metadata": {},
   "outputs": [],
   "source": [
    "Fact_order = CategoricalDtype(\n",
    "    sorted(list(set(MTB_Promo[\"FCT\"]))), \n",
    "    ordered=True\n",
    ")\n",
    "\n",
    "MTB_Promo['FCT'] = MTB_Promo['FCT'].astype(Fact_order)\n",
    "\n",
    "MTB_Promo.sort_values(['MKT','PROD','FCT'],inplace=True)"
   ]
  },
  {
   "cell_type": "markdown",
   "metadata": {},
   "source": [
    "## **promo_category**"
   ]
  },
  {
   "cell_type": "code",
   "execution_count": 201,
   "metadata": {},
   "outputs": [],
   "source": [
    "promo_category=MTB_Promo.loc[(MTB_Promo[\"CP_SUBBRAND\"]==\"\") & (MTB_Promo[\"CP_BRAND\"]==\"\")&(MTB_Promo[\"CP_FRANCHISE\"]==\"\")&(MTB_Promo[\"CP_MANUFACTURER\"]==\"\")]"
   ]
  },
  {
   "cell_type": "code",
   "execution_count": 202,
   "metadata": {},
   "outputs": [],
   "source": [
    "promo_category.drop_duplicates(inplace=True)"
   ]
  },
  {
   "cell_type": "code",
   "execution_count": 203,
   "metadata": {},
   "outputs": [],
   "source": [
    "length= len(promo_category)\n",
    "promo_category[\"Record_ID\"]=range(1,length+1)"
   ]
  },
  {
   "cell_type": "code",
   "execution_count": 204,
   "metadata": {},
   "outputs": [
    {
     "name": "stdout",
     "output_type": "stream",
     "text": [
      "['MKT', 'PROD', 'CP_CATEGORY', 'CP_MANUFACTURER', 'CP_FRANCHISE', 'CP_BRAND', 'CP_SUBBRAND', 'FCT', '4 W/E 02/27/21', 'Latest 13 Weeks', 'Latest 26 Weeks', 'YTD 2021', 'FY 2020', 'CP_SHARE_BASIS', '4 W/E 02/29/20', '5 W/E 04/04/20', '4 W/E 05/02/20', '4 W/E 05/30/20', '5 W/E 07/04/20', '4 W/E 08/01/20', '4 W/E 08/29/20', '5 W/E 10/03/20', '4 W/E 10/31/20', '4 W/E 11/28/20', '5 W/E 01/02/21', '4 W/E 01/30/21', 'Record_ID']\n"
     ]
    }
   ],
   "source": [
    "column_names = list(promo_category.columns)\n",
    "column_names.insert(count,\"CP_SHARE_BASIS\")\n",
    "column_names.pop(-2)\n",
    "print(column_names)"
   ]
  },
  {
   "cell_type": "code",
   "execution_count": 205,
   "metadata": {},
   "outputs": [],
   "source": [
    "promo_category = promo_category[column_names]"
   ]
  },
  {
   "cell_type": "code",
   "execution_count": 206,
   "metadata": {},
   "outputs": [
    {
     "data": {
      "text/html": [
       "<div>\n",
       "<style scoped>\n",
       "    .dataframe tbody tr th:only-of-type {\n",
       "        vertical-align: middle;\n",
       "    }\n",
       "\n",
       "    .dataframe tbody tr th {\n",
       "        vertical-align: top;\n",
       "    }\n",
       "\n",
       "    .dataframe thead th {\n",
       "        text-align: right;\n",
       "    }\n",
       "</style>\n",
       "<table border=\"1\" class=\"dataframe\">\n",
       "  <thead>\n",
       "    <tr style=\"text-align: right;\">\n",
       "      <th></th>\n",
       "      <th>MKT</th>\n",
       "      <th>PROD</th>\n",
       "      <th>CP_CATEGORY</th>\n",
       "      <th>CP_MANUFACTURER</th>\n",
       "      <th>CP_FRANCHISE</th>\n",
       "      <th>CP_BRAND</th>\n",
       "      <th>CP_SUBBRAND</th>\n",
       "      <th>FCT</th>\n",
       "      <th>4 W/E 02/27/21</th>\n",
       "      <th>Latest 13 Weeks</th>\n",
       "      <th>...</th>\n",
       "      <th>4 W/E 05/30/20</th>\n",
       "      <th>5 W/E 07/04/20</th>\n",
       "      <th>4 W/E 08/01/20</th>\n",
       "      <th>4 W/E 08/29/20</th>\n",
       "      <th>5 W/E 10/03/20</th>\n",
       "      <th>4 W/E 10/31/20</th>\n",
       "      <th>4 W/E 11/28/20</th>\n",
       "      <th>5 W/E 01/02/21</th>\n",
       "      <th>4 W/E 01/30/21</th>\n",
       "      <th>Record_ID</th>\n",
       "    </tr>\n",
       "  </thead>\n",
       "  <tbody>\n",
       "    <tr>\n",
       "      <th>1375581</th>\n",
       "      <td>Ahold</td>\n",
       "      <td>MANUAL</td>\n",
       "      <td>MANUAL</td>\n",
       "      <td></td>\n",
       "      <td></td>\n",
       "      <td></td>\n",
       "      <td></td>\n",
       "      <td>$ Share</td>\n",
       "      <td>100.0</td>\n",
       "      <td>100.0</td>\n",
       "      <td>...</td>\n",
       "      <td>100.0</td>\n",
       "      <td>100.0</td>\n",
       "      <td>100.0</td>\n",
       "      <td>100.0</td>\n",
       "      <td>100.0</td>\n",
       "      <td>100.0</td>\n",
       "      <td>100.0</td>\n",
       "      <td>100.0</td>\n",
       "      <td>100.0</td>\n",
       "      <td>1</td>\n",
       "    </tr>\n",
       "    <tr>\n",
       "      <th>1375582</th>\n",
       "      <td>Ahold</td>\n",
       "      <td>MANUAL</td>\n",
       "      <td>MANUAL</td>\n",
       "      <td></td>\n",
       "      <td></td>\n",
       "      <td></td>\n",
       "      <td></td>\n",
       "      <td>$ Share YAG Chg</td>\n",
       "      <td>0.0</td>\n",
       "      <td>0.0</td>\n",
       "      <td>...</td>\n",
       "      <td>0.0</td>\n",
       "      <td>0.0</td>\n",
       "      <td>0.0</td>\n",
       "      <td>0.0</td>\n",
       "      <td>0.0</td>\n",
       "      <td>0.0</td>\n",
       "      <td>0.0</td>\n",
       "      <td>0.0</td>\n",
       "      <td>0.0</td>\n",
       "      <td>2</td>\n",
       "    </tr>\n",
       "  </tbody>\n",
       "</table>\n",
       "<p>2 rows × 27 columns</p>\n",
       "</div>"
      ],
      "text/plain": [
       "           MKT    PROD CP_CATEGORY CP_MANUFACTURER CP_FRANCHISE CP_BRAND  \\\n",
       "1375581  Ahold  MANUAL      MANUAL                                         \n",
       "1375582  Ahold  MANUAL      MANUAL                                         \n",
       "\n",
       "        CP_SUBBRAND              FCT  4 W/E 02/27/21  Latest 13 Weeks  ...  \\\n",
       "1375581                      $ Share           100.0            100.0  ...   \n",
       "1375582              $ Share YAG Chg             0.0              0.0  ...   \n",
       "\n",
       "         4 W/E 05/30/20  5 W/E 07/04/20  4 W/E 08/01/20 4 W/E 08/29/20  \\\n",
       "1375581           100.0           100.0           100.0          100.0   \n",
       "1375582             0.0             0.0             0.0            0.0   \n",
       "\n",
       "         5 W/E 10/03/20  4 W/E 10/31/20  4 W/E 11/28/20  5 W/E 01/02/21  \\\n",
       "1375581           100.0           100.0           100.0           100.0   \n",
       "1375582             0.0             0.0             0.0             0.0   \n",
       "\n",
       "         4 W/E 01/30/21  Record_ID  \n",
       "1375581           100.0          1  \n",
       "1375582             0.0          2  \n",
       "\n",
       "[2 rows x 27 columns]"
      ]
     },
     "execution_count": 206,
     "metadata": {},
     "output_type": "execute_result"
    }
   ],
   "source": [
    "promo_category.head(2)"
   ]
  },
  {
   "cell_type": "code",
   "execution_count": 207,
   "metadata": {},
   "outputs": [],
   "source": [
    "promo_category.to_csv(path_MTB+\"promo_category.csv\",index=False)"
   ]
  },
  {
   "cell_type": "markdown",
   "metadata": {},
   "source": [
    "## **promo_toplevel**"
   ]
  },
  {
   "cell_type": "code",
   "execution_count": 208,
   "metadata": {},
   "outputs": [],
   "source": [
    "promo_toplevel=MTB_Promo.loc[(MTB_Promo[\"CP_SUBBRAND\"]==\"\") & (MTB_Promo[\"CP_BRAND\"]==\"\")&(MTB_Promo[\"CP_FRANCHISE\"]==\"\")&(MTB_Promo[\"CP_MANUFACTURER\"]!=\"\")]"
   ]
  },
  {
   "cell_type": "code",
   "execution_count": 209,
   "metadata": {},
   "outputs": [],
   "source": [
    "# Blank row 0th position\n",
    "df1=pd.DataFrame([[np.nan]*len(promo_toplevel.columns)],columns=promo_toplevel.columns)\n",
    "promo_toplevel=df1.append(promo_toplevel,ignore_index=True)"
   ]
  },
  {
   "cell_type": "code",
   "execution_count": 210,
   "metadata": {},
   "outputs": [],
   "source": [
    "promo_toplevel.drop_duplicates(inplace=True)"
   ]
  },
  {
   "cell_type": "code",
   "execution_count": 211,
   "metadata": {},
   "outputs": [],
   "source": [
    "length= len(promo_toplevel)\n",
    "promo_toplevel[\"Record_ID\"]=range(1,length+1)"
   ]
  },
  {
   "cell_type": "code",
   "execution_count": 212,
   "metadata": {
    "scrolled": true
   },
   "outputs": [
    {
     "data": {
      "text/html": [
       "<div>\n",
       "<style scoped>\n",
       "    .dataframe tbody tr th:only-of-type {\n",
       "        vertical-align: middle;\n",
       "    }\n",
       "\n",
       "    .dataframe tbody tr th {\n",
       "        vertical-align: top;\n",
       "    }\n",
       "\n",
       "    .dataframe thead th {\n",
       "        text-align: right;\n",
       "    }\n",
       "</style>\n",
       "<table border=\"1\" class=\"dataframe\">\n",
       "  <thead>\n",
       "    <tr style=\"text-align: right;\">\n",
       "      <th></th>\n",
       "      <th>MKT</th>\n",
       "      <th>PROD</th>\n",
       "      <th>CP_CATEGORY</th>\n",
       "      <th>CP_MANUFACTURER</th>\n",
       "      <th>CP_FRANCHISE</th>\n",
       "      <th>CP_BRAND</th>\n",
       "      <th>CP_SUBBRAND</th>\n",
       "      <th>FCT</th>\n",
       "      <th>4 W/E 02/27/21</th>\n",
       "      <th>Latest 13 Weeks</th>\n",
       "      <th>...</th>\n",
       "      <th>5 W/E 07/04/20</th>\n",
       "      <th>4 W/E 08/01/20</th>\n",
       "      <th>4 W/E 08/29/20</th>\n",
       "      <th>5 W/E 10/03/20</th>\n",
       "      <th>4 W/E 10/31/20</th>\n",
       "      <th>4 W/E 11/28/20</th>\n",
       "      <th>5 W/E 01/02/21</th>\n",
       "      <th>4 W/E 01/30/21</th>\n",
       "      <th>CP_SHARE_BASIS</th>\n",
       "      <th>Record_ID</th>\n",
       "    </tr>\n",
       "  </thead>\n",
       "  <tbody>\n",
       "    <tr>\n",
       "      <th>0</th>\n",
       "      <td>NaN</td>\n",
       "      <td>NaN</td>\n",
       "      <td>NaN</td>\n",
       "      <td>NaN</td>\n",
       "      <td>NaN</td>\n",
       "      <td>NaN</td>\n",
       "      <td>NaN</td>\n",
       "      <td>NaN</td>\n",
       "      <td>NaN</td>\n",
       "      <td>NaN</td>\n",
       "      <td>...</td>\n",
       "      <td>NaN</td>\n",
       "      <td>NaN</td>\n",
       "      <td>NaN</td>\n",
       "      <td>NaN</td>\n",
       "      <td>NaN</td>\n",
       "      <td>NaN</td>\n",
       "      <td>NaN</td>\n",
       "      <td>NaN</td>\n",
       "      <td>NaN</td>\n",
       "      <td>1</td>\n",
       "    </tr>\n",
       "    <tr>\n",
       "      <th>1</th>\n",
       "      <td>Ahold</td>\n",
       "      <td>MANUAL | COLGATE-PALMOLIVE</td>\n",
       "      <td>MANUAL</td>\n",
       "      <td>COLGATE-PALMOLIVE</td>\n",
       "      <td></td>\n",
       "      <td></td>\n",
       "      <td></td>\n",
       "      <td>$ Share</td>\n",
       "      <td>43.191</td>\n",
       "      <td>42.392</td>\n",
       "      <td>...</td>\n",
       "      <td>37.969</td>\n",
       "      <td>37.776</td>\n",
       "      <td>38.913</td>\n",
       "      <td>38.994</td>\n",
       "      <td>40.201</td>\n",
       "      <td>41.036</td>\n",
       "      <td>41.954</td>\n",
       "      <td>42.227</td>\n",
       "      <td>Manual</td>\n",
       "      <td>2</td>\n",
       "    </tr>\n",
       "  </tbody>\n",
       "</table>\n",
       "<p>2 rows × 27 columns</p>\n",
       "</div>"
      ],
      "text/plain": [
       "     MKT                        PROD CP_CATEGORY    CP_MANUFACTURER  \\\n",
       "0    NaN                         NaN         NaN                NaN   \n",
       "1  Ahold  MANUAL | COLGATE-PALMOLIVE      MANUAL  COLGATE-PALMOLIVE   \n",
       "\n",
       "  CP_FRANCHISE CP_BRAND CP_SUBBRAND      FCT  4 W/E 02/27/21  Latest 13 Weeks  \\\n",
       "0          NaN      NaN         NaN      NaN             NaN              NaN   \n",
       "1                                    $ Share          43.191           42.392   \n",
       "\n",
       "   ...  5 W/E 07/04/20  4 W/E 08/01/20  4 W/E 08/29/20  5 W/E 10/03/20  \\\n",
       "0  ...             NaN             NaN             NaN             NaN   \n",
       "1  ...          37.969          37.776          38.913          38.994   \n",
       "\n",
       "   4 W/E 10/31/20  4 W/E 11/28/20  5 W/E 01/02/21  4 W/E 01/30/21  \\\n",
       "0             NaN             NaN             NaN             NaN   \n",
       "1          40.201          41.036          41.954          42.227   \n",
       "\n",
       "   CP_SHARE_BASIS  Record_ID  \n",
       "0             NaN          1  \n",
       "1          Manual          2  \n",
       "\n",
       "[2 rows x 27 columns]"
      ]
     },
     "execution_count": 212,
     "metadata": {},
     "output_type": "execute_result"
    }
   ],
   "source": [
    "promo_toplevel.head(2)"
   ]
  },
  {
   "cell_type": "code",
   "execution_count": 213,
   "metadata": {},
   "outputs": [],
   "source": [
    "column_names = list(promo_toplevel.columns)\n",
    "column_names.insert(count,\"CP_SHARE_BASIS\")\n",
    "column_names.pop(-2)\n",
    "promo_toplevel = promo_toplevel[column_names]"
   ]
  },
  {
   "cell_type": "code",
   "execution_count": 214,
   "metadata": {},
   "outputs": [],
   "source": [
    "promo_toplevel.to_csv(path_MTB+\"promo_toplevel.csv\",index=False)"
   ]
  },
  {
   "cell_type": "markdown",
   "metadata": {},
   "source": [
    "## **promo_franchise**"
   ]
  },
  {
   "cell_type": "code",
   "execution_count": 215,
   "metadata": {},
   "outputs": [],
   "source": [
    "promo_franchise=MTB_Promo.loc[(MTB_Promo[\"CP_SUBBRAND\"]==\"\") & (MTB_Promo[\"CP_BRAND\"]==\"\")&(MTB_Promo[\"CP_FRANCHISE\"]!=\"\")]"
   ]
  },
  {
   "cell_type": "code",
   "execution_count": 216,
   "metadata": {},
   "outputs": [],
   "source": [
    "promo_franchise.drop_duplicates(inplace=True)"
   ]
  },
  {
   "cell_type": "code",
   "execution_count": 217,
   "metadata": {},
   "outputs": [],
   "source": [
    "length= len(promo_franchise)\n",
    "promo_franchise[\"Record_ID\"]=range(1,length+1)"
   ]
  },
  {
   "cell_type": "code",
   "execution_count": 218,
   "metadata": {},
   "outputs": [],
   "source": [
    "column_names = list(promo_franchise.columns)\n",
    "column_names.insert(count,\"CP_SHARE_BASIS\")\n",
    "column_names.pop(-2)\n",
    "promo_franchise = promo_franchise[column_names]"
   ]
  },
  {
   "cell_type": "code",
   "execution_count": 219,
   "metadata": {},
   "outputs": [],
   "source": [
    "promo_franchise.to_csv(path_MTB+\"promo_franchise.csv\",index=False)"
   ]
  },
  {
   "cell_type": "markdown",
   "metadata": {},
   "source": [
    "## **promo_brand_promo**"
   ]
  },
  {
   "cell_type": "code",
   "execution_count": 220,
   "metadata": {},
   "outputs": [],
   "source": [
    "promo_brand_promo=MTB_Promo.loc[(MTB_Promo[\"CP_SUBBRAND\"]==\"\") & (MTB_Promo[\"CP_BRAND\"]!=\"\")]"
   ]
  },
  {
   "cell_type": "code",
   "execution_count": 221,
   "metadata": {},
   "outputs": [],
   "source": [
    "promo_brand_promo.drop_duplicates(inplace=True)"
   ]
  },
  {
   "cell_type": "code",
   "execution_count": 222,
   "metadata": {},
   "outputs": [],
   "source": [
    "length= len(promo_brand_promo)\n",
    "promo_brand_promo[\"Record_ID\"]=range(1,length+1)"
   ]
  },
  {
   "cell_type": "code",
   "execution_count": 223,
   "metadata": {},
   "outputs": [],
   "source": [
    "column_names = list(promo_brand_promo.columns)\n",
    "column_names.insert(count,\"CP_SHARE_BASIS\")\n",
    "column_names.pop(-2)\n",
    "promo_brand_promo = promo_brand_promo[column_names]"
   ]
  },
  {
   "cell_type": "code",
   "execution_count": 224,
   "metadata": {},
   "outputs": [],
   "source": [
    "promo_brand_promo.to_csv(path_MTB+\"promo_brand_promo.csv\",index=False)"
   ]
  },
  {
   "cell_type": "markdown",
   "metadata": {},
   "source": [
    "## **promo_subbrand_promo**"
   ]
  },
  {
   "cell_type": "code",
   "execution_count": 225,
   "metadata": {},
   "outputs": [],
   "source": [
    "promo_subbrand_promo=MTB_Promo.loc[(MTB_Promo[\"CP_SUBBRAND\"]!=\"\")]"
   ]
  },
  {
   "cell_type": "code",
   "execution_count": 226,
   "metadata": {},
   "outputs": [],
   "source": [
    "promo_subbrand_promo.drop_duplicates(inplace=True)"
   ]
  },
  {
   "cell_type": "code",
   "execution_count": 227,
   "metadata": {},
   "outputs": [],
   "source": [
    "length= len(promo_subbrand_promo)\n",
    "promo_subbrand_promo[\"Record_ID\"]=range(1,length+1)"
   ]
  },
  {
   "cell_type": "code",
   "execution_count": 228,
   "metadata": {},
   "outputs": [],
   "source": [
    "column_names = list(promo_subbrand_promo.columns)\n",
    "column_names.insert(count,\"CP_SHARE_BASIS\")\n",
    "column_names.pop(-2)\n",
    "promo_subbrand_promo = promo_subbrand_promo[column_names]"
   ]
  },
  {
   "cell_type": "code",
   "execution_count": 229,
   "metadata": {},
   "outputs": [],
   "source": [
    "promo_subbrand_promo.to_csv(path_MTB+\"promo_subbrand_promo.csv\",index=False)"
   ]
  },
  {
   "cell_type": "code",
   "execution_count": null,
   "metadata": {},
   "outputs": [],
   "source": []
  },
  {
   "cell_type": "markdown",
   "metadata": {},
   "source": [
    "## Waterfall"
   ]
  },
  {
   "cell_type": "code",
   "execution_count": 230,
   "metadata": {},
   "outputs": [],
   "source": [
    "Waterfall_MTB=Data_5p_MTB.copy()"
   ]
  },
  {
   "cell_type": "code",
   "execution_count": 231,
   "metadata": {},
   "outputs": [],
   "source": [
    "# Waterfall_MTB['CP_SEGMENT'] = 'Manual'\n",
    "# Waterfall_MTB['CP_MANUAL_CHEM'] = 'Manual'"
   ]
  },
  {
   "cell_type": "markdown",
   "metadata": {},
   "source": [
    "**Market Mapping**"
   ]
  },
  {
   "cell_type": "code",
   "execution_count": 232,
   "metadata": {},
   "outputs": [],
   "source": [
    "Waterfall_Markets=[\"US AOC\",\"Ahold\",\"Alb/Sfy\",\"BJs\",\"CVS\",\"Dollar General\",\"Family Dollar\",\"Meijer\",\"Publix\",\n",
    "         \"Rite Aid\",\"Sams\",\"Shoprite\",\"Target\",\"US Drug\",\"US Food\",\"Walgreens\",\"Walmart\"]"
   ]
  },
  {
   "cell_type": "code",
   "execution_count": 233,
   "metadata": {},
   "outputs": [],
   "source": [
    "Waterfall_Fact_Mapping={\n",
    "    \"No Promo Incr $\":\"Incr.$ w/No Promo\",\n",
    "    \"Feat w/o Disp $\":\"Incr.$ w/Ftr w/o Disp\",\n",
    "    \"Disp w/o Feat $\":\"Incr.$ w/Disp w/o Ftr\",\n",
    "    \"Feat & Disp $\":\"Incr.$ w/Ftr & Disp\",\n",
    "    \"Price Decr Only $\":\"Incr.$ w/TPR\",\n",
    "    \"$\":\"Dollars\",\n",
    "    \"$ Shr - CP CATEGORY\":\"Manual $ Share\",\n",
    "    \"Base $\":\"Baseline $\"\n",
    "}"
   ]
  },
  {
   "cell_type": "markdown",
   "metadata": {},
   "source": [
    "**Facts, Markets, Time_Period Filter**"
   ]
  },
  {
   "cell_type": "code",
   "execution_count": 234,
   "metadata": {},
   "outputs": [],
   "source": [
    "Waterfall_MTB= Waterfall_MTB[Waterfall_MTB[\"Facts\"].isin(Waterfall_Facts)]\n",
    "Waterfall_MTB= Waterfall_MTB[Waterfall_MTB[\"Markets\"].isin(Waterfall_Markets)]\n",
    "Waterfall_MTB=Waterfall_MTB[Waterfall_Time_Period]"
   ]
  },
  {
   "cell_type": "code",
   "execution_count": 235,
   "metadata": {},
   "outputs": [],
   "source": [
    "Waterfall_MTB[\"Markets\"].replace(Waterfall_Market_Mapping,inplace=True)"
   ]
  },
  {
   "cell_type": "code",
   "execution_count": 236,
   "metadata": {},
   "outputs": [
    {
     "name": "stdout",
     "output_type": "stream",
     "text": [
      "17 17\n"
     ]
    }
   ],
   "source": [
    "print(len(Promo_Markets), len(set(Waterfall_MTB[\"Markets\"])))"
   ]
  },
  {
   "cell_type": "code",
   "execution_count": 237,
   "metadata": {},
   "outputs": [
    {
     "name": "stdout",
     "output_type": "stream",
     "text": [
      "8\n"
     ]
    }
   ],
   "source": [
    "print(len(set(Waterfall_MTB['Facts'])))"
   ]
  },
  {
   "cell_type": "code",
   "execution_count": 238,
   "metadata": {},
   "outputs": [],
   "source": [
    "Waterfall_MTB['CP_SEGMENT'] = 'Manual'\n",
    "Waterfall_MTB['CP_MANUAL_CHEM'] = 'Manual'"
   ]
  },
  {
   "cell_type": "code",
   "execution_count": 239,
   "metadata": {
    "scrolled": true
   },
   "outputs": [
    {
     "data": {
      "text/html": [
       "<div>\n",
       "<style scoped>\n",
       "    .dataframe tbody tr th:only-of-type {\n",
       "        vertical-align: middle;\n",
       "    }\n",
       "\n",
       "    .dataframe tbody tr th {\n",
       "        vertical-align: top;\n",
       "    }\n",
       "\n",
       "    .dataframe thead th {\n",
       "        text-align: right;\n",
       "    }\n",
       "</style>\n",
       "<table border=\"1\" class=\"dataframe\">\n",
       "  <thead>\n",
       "    <tr style=\"text-align: right;\">\n",
       "      <th></th>\n",
       "      <th>Markets</th>\n",
       "      <th>Products</th>\n",
       "      <th>Manufacturer</th>\n",
       "      <th>Franchise</th>\n",
       "      <th>Brand</th>\n",
       "      <th>SubBrand</th>\n",
       "      <th>Facts</th>\n",
       "      <th>YTD 2021</th>\n",
       "      <th>YTD 2020</th>\n",
       "      <th>4 W/E 02/27/21</th>\n",
       "      <th>4 W/E 02/29/20</th>\n",
       "      <th>CP_SEGMENT</th>\n",
       "      <th>CP_MANUAL_CHEM</th>\n",
       "    </tr>\n",
       "  </thead>\n",
       "  <tbody>\n",
       "    <tr>\n",
       "      <th>1289679</th>\n",
       "      <td>MEIJER TOTAL CENSUS TRADING AREA</td>\n",
       "      <td>MANUAL</td>\n",
       "      <td></td>\n",
       "      <td></td>\n",
       "      <td></td>\n",
       "      <td></td>\n",
       "      <td>$</td>\n",
       "      <td>1462129.52</td>\n",
       "      <td>1482038.56</td>\n",
       "      <td>682784.44</td>\n",
       "      <td>743110.21</td>\n",
       "      <td>Manual</td>\n",
       "      <td>Manual</td>\n",
       "    </tr>\n",
       "    <tr>\n",
       "      <th>1289682</th>\n",
       "      <td>MEIJER TOTAL CENSUS TRADING AREA</td>\n",
       "      <td>MANUAL</td>\n",
       "      <td></td>\n",
       "      <td></td>\n",
       "      <td></td>\n",
       "      <td></td>\n",
       "      <td>$ Shr - CP CATEGORY</td>\n",
       "      <td>100.00</td>\n",
       "      <td>100.00</td>\n",
       "      <td>100.00</td>\n",
       "      <td>100.00</td>\n",
       "      <td>Manual</td>\n",
       "      <td>Manual</td>\n",
       "    </tr>\n",
       "  </tbody>\n",
       "</table>\n",
       "</div>"
      ],
      "text/plain": [
       "                                  Markets Products Manufacturer Franchise  \\\n",
       "1289679  MEIJER TOTAL CENSUS TRADING AREA   MANUAL                          \n",
       "1289682  MEIJER TOTAL CENSUS TRADING AREA   MANUAL                          \n",
       "\n",
       "        Brand SubBrand                Facts    YTD 2021    YTD 2020  \\\n",
       "1289679                                   $  1462129.52  1482038.56   \n",
       "1289682                 $ Shr - CP CATEGORY      100.00      100.00   \n",
       "\n",
       "         4 W/E 02/27/21  4 W/E 02/29/20 CP_SEGMENT CP_MANUAL_CHEM  \n",
       "1289679       682784.44       743110.21     Manual         Manual  \n",
       "1289682          100.00          100.00     Manual         Manual  "
      ]
     },
     "execution_count": 239,
     "metadata": {},
     "output_type": "execute_result"
    }
   ],
   "source": [
    "Waterfall_MTB.head(2)"
   ]
  },
  {
   "cell_type": "markdown",
   "metadata": {},
   "source": [
    "**Column name Change**"
   ]
  },
  {
   "cell_type": "code",
   "execution_count": 240,
   "metadata": {},
   "outputs": [],
   "source": [
    "Waterfall_MTB.rename(columns={\"Markets\":\"MKT\",\"Products\":\"PROD\",\"Manufacturer\":\"CP.MANUFACTURER\",\n",
    "                                \"Franchise\":\"CP.FRANCHISE\",\"Brand\":\"CP.BRAND\",\"SubBrand\":\"CP.SUBBRAND\",\"Facts\":\"FCT\"},inplace=True)"
   ]
  },
  {
   "cell_type": "markdown",
   "metadata": {},
   "source": [
    "**Fact Name Change**"
   ]
  },
  {
   "cell_type": "code",
   "execution_count": 241,
   "metadata": {},
   "outputs": [],
   "source": [
    "Waterfall_MTB[\"FCT\"].replace(Waterfall_Fact_Mapping,inplace=True)"
   ]
  },
  {
   "cell_type": "code",
   "execution_count": 242,
   "metadata": {},
   "outputs": [],
   "source": [
    "#Waterfall_MTB[\"FCT\"] = Waterfall_MTB[\"FCT\"].str.replace(\"$ Share\",\"Manual $ Share\")"
   ]
  },
  {
   "cell_type": "code",
   "execution_count": 243,
   "metadata": {},
   "outputs": [
    {
     "data": {
      "text/html": [
       "<div>\n",
       "<style scoped>\n",
       "    .dataframe tbody tr th:only-of-type {\n",
       "        vertical-align: middle;\n",
       "    }\n",
       "\n",
       "    .dataframe tbody tr th {\n",
       "        vertical-align: top;\n",
       "    }\n",
       "\n",
       "    .dataframe thead th {\n",
       "        text-align: right;\n",
       "    }\n",
       "</style>\n",
       "<table border=\"1\" class=\"dataframe\">\n",
       "  <thead>\n",
       "    <tr style=\"text-align: right;\">\n",
       "      <th></th>\n",
       "      <th>MKT</th>\n",
       "      <th>PROD</th>\n",
       "      <th>CP.MANUFACTURER</th>\n",
       "      <th>CP.FRANCHISE</th>\n",
       "      <th>CP.BRAND</th>\n",
       "      <th>CP.SUBBRAND</th>\n",
       "      <th>FCT</th>\n",
       "      <th>YTD 2021</th>\n",
       "      <th>YTD 2020</th>\n",
       "      <th>4 W/E 02/27/21</th>\n",
       "      <th>4 W/E 02/29/20</th>\n",
       "      <th>CP_SEGMENT</th>\n",
       "      <th>CP_MANUAL_CHEM</th>\n",
       "    </tr>\n",
       "  </thead>\n",
       "  <tbody>\n",
       "    <tr>\n",
       "      <th>1289679</th>\n",
       "      <td>MEIJER TOTAL CENSUS TRADING AREA</td>\n",
       "      <td>MANUAL</td>\n",
       "      <td></td>\n",
       "      <td></td>\n",
       "      <td></td>\n",
       "      <td></td>\n",
       "      <td>Dollars</td>\n",
       "      <td>1462129.52</td>\n",
       "      <td>1482038.56</td>\n",
       "      <td>682784.44</td>\n",
       "      <td>743110.21</td>\n",
       "      <td>Manual</td>\n",
       "      <td>Manual</td>\n",
       "    </tr>\n",
       "    <tr>\n",
       "      <th>1289682</th>\n",
       "      <td>MEIJER TOTAL CENSUS TRADING AREA</td>\n",
       "      <td>MANUAL</td>\n",
       "      <td></td>\n",
       "      <td></td>\n",
       "      <td></td>\n",
       "      <td></td>\n",
       "      <td>Manual $ Share</td>\n",
       "      <td>100.00</td>\n",
       "      <td>100.00</td>\n",
       "      <td>100.00</td>\n",
       "      <td>100.00</td>\n",
       "      <td>Manual</td>\n",
       "      <td>Manual</td>\n",
       "    </tr>\n",
       "  </tbody>\n",
       "</table>\n",
       "</div>"
      ],
      "text/plain": [
       "                                      MKT    PROD CP.MANUFACTURER  \\\n",
       "1289679  MEIJER TOTAL CENSUS TRADING AREA  MANUAL                   \n",
       "1289682  MEIJER TOTAL CENSUS TRADING AREA  MANUAL                   \n",
       "\n",
       "        CP.FRANCHISE CP.BRAND CP.SUBBRAND             FCT    YTD 2021  \\\n",
       "1289679                                           Dollars  1462129.52   \n",
       "1289682                                    Manual $ Share      100.00   \n",
       "\n",
       "           YTD 2020  4 W/E 02/27/21  4 W/E 02/29/20 CP_SEGMENT CP_MANUAL_CHEM  \n",
       "1289679  1482038.56       682784.44       743110.21     Manual         Manual  \n",
       "1289682      100.00          100.00          100.00     Manual         Manual  "
      ]
     },
     "execution_count": 243,
     "metadata": {},
     "output_type": "execute_result"
    }
   ],
   "source": [
    "Waterfall_MTB.head(2)"
   ]
  },
  {
   "cell_type": "code",
   "execution_count": 244,
   "metadata": {},
   "outputs": [],
   "source": [
    "Fact_order_1 = [\"Baseline $\",\"Incr.$ w/No Promo\",\"Incr.$ w/Ftr w/o Disp\",\"Incr.$ w/Disp w/o Ftr\",\"Incr.$ w/Ftr & Disp\",\n",
    "              \"Incr.$ w/TPR\",\"Dollars\",\"Manual $ Share\"]\n",
    "Fact_order = CategoricalDtype(\n",
    "    Fact_order_1, \n",
    "    ordered=True\n",
    ")\n",
    "\n",
    "Waterfall_MTB['FCT'] = Waterfall_MTB['FCT'].astype(Fact_order)\n",
    "\n",
    "Waterfall_MTB.sort_values(['MKT','PROD','FCT'],inplace=True)"
   ]
  },
  {
   "cell_type": "code",
   "execution_count": 245,
   "metadata": {},
   "outputs": [
    {
     "data": {
      "text/html": [
       "<div>\n",
       "<style scoped>\n",
       "    .dataframe tbody tr th:only-of-type {\n",
       "        vertical-align: middle;\n",
       "    }\n",
       "\n",
       "    .dataframe tbody tr th {\n",
       "        vertical-align: top;\n",
       "    }\n",
       "\n",
       "    .dataframe thead th {\n",
       "        text-align: right;\n",
       "    }\n",
       "</style>\n",
       "<table border=\"1\" class=\"dataframe\">\n",
       "  <thead>\n",
       "    <tr style=\"text-align: right;\">\n",
       "      <th></th>\n",
       "      <th>MKT</th>\n",
       "      <th>PROD</th>\n",
       "      <th>CP.MANUFACTURER</th>\n",
       "      <th>CP.FRANCHISE</th>\n",
       "      <th>CP.BRAND</th>\n",
       "      <th>CP.SUBBRAND</th>\n",
       "      <th>FCT</th>\n",
       "      <th>YTD 2021</th>\n",
       "      <th>YTD 2020</th>\n",
       "      <th>4 W/E 02/27/21</th>\n",
       "      <th>4 W/E 02/29/20</th>\n",
       "      <th>CP_SEGMENT</th>\n",
       "      <th>CP_MANUAL_CHEM</th>\n",
       "    </tr>\n",
       "  </thead>\n",
       "  <tbody>\n",
       "    <tr>\n",
       "      <th>1375602</th>\n",
       "      <td>AHOLD USA CORP TOTAL CTA</td>\n",
       "      <td>MANUAL</td>\n",
       "      <td></td>\n",
       "      <td></td>\n",
       "      <td></td>\n",
       "      <td></td>\n",
       "      <td>Baseline $</td>\n",
       "      <td>1227543.670</td>\n",
       "      <td>1219157.240</td>\n",
       "      <td>600543.550</td>\n",
       "      <td>601259.560</td>\n",
       "      <td>Manual</td>\n",
       "      <td>Manual</td>\n",
       "    </tr>\n",
       "    <tr>\n",
       "      <th>1489627</th>\n",
       "      <td>AHOLD USA CORP TOTAL CTA</td>\n",
       "      <td>MANUAL</td>\n",
       "      <td></td>\n",
       "      <td></td>\n",
       "      <td></td>\n",
       "      <td></td>\n",
       "      <td>Incr.$ w/No Promo</td>\n",
       "      <td>65196.534</td>\n",
       "      <td>21774.297</td>\n",
       "      <td>24554.565</td>\n",
       "      <td>11117.468</td>\n",
       "      <td>Manual</td>\n",
       "      <td>Manual</td>\n",
       "    </tr>\n",
       "    <tr>\n",
       "      <th>1489617</th>\n",
       "      <td>AHOLD USA CORP TOTAL CTA</td>\n",
       "      <td>MANUAL</td>\n",
       "      <td></td>\n",
       "      <td></td>\n",
       "      <td></td>\n",
       "      <td></td>\n",
       "      <td>Incr.$ w/Ftr w/o Disp</td>\n",
       "      <td>156648.830</td>\n",
       "      <td>316717.892</td>\n",
       "      <td>102114.820</td>\n",
       "      <td>177925.632</td>\n",
       "      <td>Manual</td>\n",
       "      <td>Manual</td>\n",
       "    </tr>\n",
       "  </tbody>\n",
       "</table>\n",
       "</div>"
      ],
      "text/plain": [
       "                              MKT    PROD CP.MANUFACTURER CP.FRANCHISE  \\\n",
       "1375602  AHOLD USA CORP TOTAL CTA  MANUAL                                \n",
       "1489627  AHOLD USA CORP TOTAL CTA  MANUAL                                \n",
       "1489617  AHOLD USA CORP TOTAL CTA  MANUAL                                \n",
       "\n",
       "        CP.BRAND CP.SUBBRAND                    FCT     YTD 2021     YTD 2020  \\\n",
       "1375602                                  Baseline $  1227543.670  1219157.240   \n",
       "1489627                           Incr.$ w/No Promo    65196.534    21774.297   \n",
       "1489617                       Incr.$ w/Ftr w/o Disp   156648.830   316717.892   \n",
       "\n",
       "         4 W/E 02/27/21  4 W/E 02/29/20 CP_SEGMENT CP_MANUAL_CHEM  \n",
       "1375602      600543.550      601259.560     Manual         Manual  \n",
       "1489627       24554.565       11117.468     Manual         Manual  \n",
       "1489617      102114.820      177925.632     Manual         Manual  "
      ]
     },
     "execution_count": 245,
     "metadata": {},
     "output_type": "execute_result"
    }
   ],
   "source": [
    "Waterfall_MTB.head(3)"
   ]
  },
  {
   "cell_type": "markdown",
   "metadata": {},
   "source": [
    "## **Waterfall_Manu**"
   ]
  },
  {
   "cell_type": "code",
   "execution_count": 246,
   "metadata": {},
   "outputs": [],
   "source": [
    "Waterfall_Manu=Waterfall_MTB.loc[(Waterfall_MTB[\"CP.SUBBRAND\"]==\"\") & (Waterfall_MTB[\"CP.BRAND\"]==\"\")&(Waterfall_MTB[\"CP.FRANCHISE\"]==\"\")&(Waterfall_MTB[\"CP.MANUFACTURER\"]!=\"\")]"
   ]
  },
  {
   "cell_type": "code",
   "execution_count": 247,
   "metadata": {},
   "outputs": [],
   "source": [
    "Waterfall_Manu[\"Record_ID\"]=range(1,len(Waterfall_Manu)+1)"
   ]
  },
  {
   "cell_type": "code",
   "execution_count": 248,
   "metadata": {},
   "outputs": [],
   "source": [
    "column_names = list(Waterfall_Manu.columns)\n",
    "column_names.insert(2,\"CP_SEGMENT\")\n",
    "column_names.insert(7,\"CP_MANUAL_CHEM\")\n",
    "column_names.pop(-2)\n",
    "column_names.pop(-2)\n",
    "Waterfall_Manu = Waterfall_Manu[column_names]"
   ]
  },
  {
   "cell_type": "code",
   "execution_count": 249,
   "metadata": {},
   "outputs": [],
   "source": [
    "Waterfall_Manu.to_csv(path_MTB+\"Waterfall_Manu.csv\",index=False)"
   ]
  },
  {
   "cell_type": "markdown",
   "metadata": {},
   "source": [
    "## **Waterfall_Fran**"
   ]
  },
  {
   "cell_type": "code",
   "execution_count": 250,
   "metadata": {},
   "outputs": [],
   "source": [
    "Waterfall_Fran=Waterfall_MTB.loc[(Waterfall_MTB[\"CP.SUBBRAND\"]==\"\") & (Waterfall_MTB[\"CP.BRAND\"]==\"\")&(Waterfall_MTB[\"CP.FRANCHISE\"]!=\"\")]"
   ]
  },
  {
   "cell_type": "code",
   "execution_count": 251,
   "metadata": {},
   "outputs": [],
   "source": [
    "Waterfall_Fran[\"Record_ID\"]=range(1,len(Waterfall_Fran)+1)"
   ]
  },
  {
   "cell_type": "code",
   "execution_count": 252,
   "metadata": {},
   "outputs": [],
   "source": [
    "column_names = list(Waterfall_Fran.columns)\n",
    "column_names.insert(2,\"CP_SEGMENT\")\n",
    "column_names.insert(7,\"CP_MANUAL_CHEM\")\n",
    "column_names.pop(-2)\n",
    "column_names.pop(-2)\n",
    "Waterfall_Fran = Waterfall_Fran[column_names]"
   ]
  },
  {
   "cell_type": "code",
   "execution_count": 253,
   "metadata": {},
   "outputs": [],
   "source": [
    "Waterfall_Fran.to_csv(path_MTB+\"Waterfall_Fran.csv\",index=False)"
   ]
  },
  {
   "cell_type": "markdown",
   "metadata": {},
   "source": [
    "## **Waterfall_Brand**"
   ]
  },
  {
   "cell_type": "code",
   "execution_count": 254,
   "metadata": {},
   "outputs": [],
   "source": [
    "Waterfall_Brand=Waterfall_MTB.loc[(Waterfall_MTB[\"CP.SUBBRAND\"]==\"\") & (Waterfall_MTB[\"CP.BRAND\"]!=\"\")]"
   ]
  },
  {
   "cell_type": "code",
   "execution_count": 255,
   "metadata": {},
   "outputs": [],
   "source": [
    "Waterfall_Cat=Waterfall_MTB.loc[(Waterfall_MTB[\"CP.SUBBRAND\"]==\"\") & (Waterfall_MTB[\"CP.BRAND\"]==\"\")&(Waterfall_MTB[\"CP.FRANCHISE\"]==\"\")&(Waterfall_MTB[\"CP.MANUFACTURER\"]==\"\")]"
   ]
  },
  {
   "cell_type": "code",
   "execution_count": 256,
   "metadata": {},
   "outputs": [],
   "source": [
    "Waterfall_Cat_Brand=pd.concat([Waterfall_Cat,Waterfall_Brand],axis=0)"
   ]
  },
  {
   "cell_type": "code",
   "execution_count": 257,
   "metadata": {},
   "outputs": [],
   "source": [
    "Waterfall_Cat_Brand['FCT'] = Waterfall_Cat_Brand['FCT'].astype(Fact_order)\n",
    "\n",
    "Waterfall_Cat_Brand.sort_values(['MKT','PROD','FCT'],inplace=True)"
   ]
  },
  {
   "cell_type": "code",
   "execution_count": 258,
   "metadata": {},
   "outputs": [],
   "source": [
    "Waterfall_Cat_Brand[\"Record_ID\"]=range(1,len(Waterfall_Cat_Brand)+1)"
   ]
  },
  {
   "cell_type": "code",
   "execution_count": 259,
   "metadata": {},
   "outputs": [],
   "source": [
    "column_names = list(Waterfall_Cat_Brand.columns)\n",
    "column_names.insert(2,\"CP_SEGMENT\")\n",
    "column_names.insert(7,\"CP_MANUAL_CHEM\")\n",
    "column_names.pop(-2)\n",
    "column_names.pop(-2)\n",
    "Waterfall_Cat_Brand = Waterfall_Cat_Brand[column_names]"
   ]
  },
  {
   "cell_type": "code",
   "execution_count": 260,
   "metadata": {},
   "outputs": [],
   "source": [
    "Waterfall_Cat_Brand.to_csv(path_MTB+\"Waterfall Brand.csv\",index=False)"
   ]
  },
  {
   "cell_type": "markdown",
   "metadata": {},
   "source": [
    "## Waterfall_SubBrand"
   ]
  },
  {
   "cell_type": "code",
   "execution_count": 261,
   "metadata": {},
   "outputs": [],
   "source": [
    "Waterfall_SubBrand=Waterfall_MTB.loc[(Waterfall_MTB[\"CP.SUBBRAND\"]!=\"\")]"
   ]
  },
  {
   "cell_type": "code",
   "execution_count": 262,
   "metadata": {},
   "outputs": [],
   "source": [
    "Waterfall_SubBrand[\"Record_ID\"]=range(1,len(Waterfall_SubBrand)+1)"
   ]
  },
  {
   "cell_type": "code",
   "execution_count": 263,
   "metadata": {},
   "outputs": [],
   "source": [
    "column_names = list(Waterfall_SubBrand.columns)\n",
    "column_names.insert(2,\"CP_SEGMENT\")\n",
    "column_names.insert(7,\"CP_MANUAL_CHEM\")\n",
    "column_names.pop(-2)\n",
    "column_names.pop(-2)\n",
    "Waterfall_SubBrand = Waterfall_SubBrand[column_names]"
   ]
  },
  {
   "cell_type": "code",
   "execution_count": 264,
   "metadata": {},
   "outputs": [],
   "source": [
    "Waterfall_SubBrand.to_csv(path_MTB+\"Waterfall Sub_Brand.csv\",index=False)"
   ]
  },
  {
   "cell_type": "code",
   "execution_count": null,
   "metadata": {},
   "outputs": [],
   "source": []
  },
  {
   "cell_type": "code",
   "execution_count": null,
   "metadata": {},
   "outputs": [],
   "source": []
  },
  {
   "cell_type": "markdown",
   "metadata": {},
   "source": [
    "## PTB"
   ]
  },
  {
   "cell_type": "code",
   "execution_count": null,
   "metadata": {},
   "outputs": [],
   "source": []
  },
  {
   "cell_type": "code",
   "execution_count": 265,
   "metadata": {},
   "outputs": [],
   "source": [
    "# path to store Output files\n",
    "\n",
    "path_PTB=\"//falmumapp34/Nielsen Connect Transition & Maintenance (20-SCP-3650)/05. Output Data/5P Output/PTB/\""
   ]
  },
  {
   "cell_type": "code",
   "execution_count": 266,
   "metadata": {},
   "outputs": [],
   "source": [
    "Data_5p_PTB=Data_5p.loc[Data_5p[\"ShareBasis\"].isin([\"BATTERY+HYBRID\", \"POWER\"])]"
   ]
  },
  {
   "cell_type": "code",
   "execution_count": 267,
   "metadata": {},
   "outputs": [
    {
     "data": {
      "text/html": [
       "<div>\n",
       "<style scoped>\n",
       "    .dataframe tbody tr th:only-of-type {\n",
       "        vertical-align: middle;\n",
       "    }\n",
       "\n",
       "    .dataframe tbody tr th {\n",
       "        vertical-align: top;\n",
       "    }\n",
       "\n",
       "    .dataframe thead th {\n",
       "        text-align: right;\n",
       "    }\n",
       "</style>\n",
       "<table border=\"1\" class=\"dataframe\">\n",
       "  <thead>\n",
       "    <tr style=\"text-align: right;\">\n",
       "      <th></th>\n",
       "      <th>Markets</th>\n",
       "      <th>ShareBasis</th>\n",
       "      <th>Category</th>\n",
       "      <th>Manufacturer</th>\n",
       "      <th>Franchise</th>\n",
       "      <th>Brand</th>\n",
       "      <th>SubBrand</th>\n",
       "      <th>Products</th>\n",
       "      <th>Facts</th>\n",
       "      <th>FY 2020</th>\n",
       "      <th>...</th>\n",
       "      <th>5 W/E 10/03/20</th>\n",
       "      <th>4 W/E 08/29/20</th>\n",
       "      <th>4 W/E 08/01/20</th>\n",
       "      <th>5 W/E 07/04/20</th>\n",
       "      <th>4 W/E 05/30/20</th>\n",
       "      <th>4 W/E 05/02/20</th>\n",
       "      <th>5 W/E 04/04/20</th>\n",
       "      <th>4 W/E 02/29/20</th>\n",
       "      <th>4 W/E 02/01/20</th>\n",
       "      <th>Key</th>\n",
       "    </tr>\n",
       "  </thead>\n",
       "  <tbody>\n",
       "    <tr>\n",
       "      <th>520845</th>\n",
       "      <td>Meijer</td>\n",
       "      <td>BATTERY+HYBRID</td>\n",
       "      <td>PTB</td>\n",
       "      <td></td>\n",
       "      <td></td>\n",
       "      <td></td>\n",
       "      <td></td>\n",
       "      <td>BATTERY+HYBRID</td>\n",
       "      <td>% $ Any Promo</td>\n",
       "      <td>69.410</td>\n",
       "      <td>...</td>\n",
       "      <td>44.134</td>\n",
       "      <td>71.179</td>\n",
       "      <td>74.368</td>\n",
       "      <td>77.223</td>\n",
       "      <td>66.561</td>\n",
       "      <td>51.355</td>\n",
       "      <td>60.076</td>\n",
       "      <td>70.854</td>\n",
       "      <td>78.677</td>\n",
       "      <td>Meijer Total TABATTERY+HYBRID</td>\n",
       "    </tr>\n",
       "    <tr>\n",
       "      <th>520846</th>\n",
       "      <td>Meijer</td>\n",
       "      <td>BATTERY+HYBRID</td>\n",
       "      <td>PTB</td>\n",
       "      <td></td>\n",
       "      <td></td>\n",
       "      <td></td>\n",
       "      <td></td>\n",
       "      <td>BATTERY+HYBRID</td>\n",
       "      <td>% $ Any Promo Chg YA</td>\n",
       "      <td>1.586</td>\n",
       "      <td>...</td>\n",
       "      <td>-3.637</td>\n",
       "      <td>-7.762</td>\n",
       "      <td>15.668</td>\n",
       "      <td>19.977</td>\n",
       "      <td>-0.258</td>\n",
       "      <td>-22.086</td>\n",
       "      <td>0.236</td>\n",
       "      <td>8.589</td>\n",
       "      <td>15.590</td>\n",
       "      <td>Meijer Total TABATTERY+HYBRID</td>\n",
       "    </tr>\n",
       "  </tbody>\n",
       "</table>\n",
       "<p>2 rows × 40 columns</p>\n",
       "</div>"
      ],
      "text/plain": [
       "       Markets      ShareBasis Category Manufacturer Franchise Brand SubBrand  \\\n",
       "520845  Meijer  BATTERY+HYBRID      PTB                                         \n",
       "520846  Meijer  BATTERY+HYBRID      PTB                                         \n",
       "\n",
       "              Products                 Facts  FY 2020  ...  5 W/E 10/03/20  \\\n",
       "520845  BATTERY+HYBRID         % $ Any Promo   69.410  ...          44.134   \n",
       "520846  BATTERY+HYBRID  % $ Any Promo Chg YA    1.586  ...          -3.637   \n",
       "\n",
       "        4 W/E 08/29/20  4 W/E 08/01/20  5 W/E 07/04/20  4 W/E 05/30/20  \\\n",
       "520845          71.179          74.368          77.223          66.561   \n",
       "520846          -7.762          15.668          19.977          -0.258   \n",
       "\n",
       "        4 W/E 05/02/20  5 W/E 04/04/20  4 W/E 02/29/20  4 W/E 02/01/20  \\\n",
       "520845          51.355          60.076          70.854          78.677   \n",
       "520846         -22.086           0.236           8.589          15.590   \n",
       "\n",
       "                                  Key  \n",
       "520845  Meijer Total TABATTERY+HYBRID  \n",
       "520846  Meijer Total TABATTERY+HYBRID  \n",
       "\n",
       "[2 rows x 40 columns]"
      ]
     },
     "execution_count": 267,
     "metadata": {},
     "output_type": "execute_result"
    }
   ],
   "source": [
    "Data_5p_PTB.head(2)"
   ]
  },
  {
   "cell_type": "code",
   "execution_count": 268,
   "metadata": {},
   "outputs": [
    {
     "data": {
      "text/plain": [
       "{'BATTERY+HYBRID', 'POWER'}"
      ]
     },
     "execution_count": 268,
     "metadata": {},
     "output_type": "execute_result"
    }
   ],
   "source": [
    "set(Data_5p_PTB[\"ShareBasis\"])"
   ]
  },
  {
   "cell_type": "markdown",
   "metadata": {},
   "source": [
    "**Filtering PTB Data**"
   ]
  },
  {
   "cell_type": "code",
   "execution_count": 269,
   "metadata": {},
   "outputs": [
    {
     "data": {
      "text/plain": [
       "{'Ahold',\n",
       " 'Alb/Sfy',\n",
       " 'BJs',\n",
       " 'CLUB',\n",
       " 'CVS',\n",
       " 'Dollar General',\n",
       " 'FDM',\n",
       " 'Family Dollar',\n",
       " 'Kmart',\n",
       " 'Meijer',\n",
       " 'Publix',\n",
       " 'REGIONAL GROCERY xLA',\n",
       " 'Rite Aid',\n",
       " 'Sams',\n",
       " 'Shoprite',\n",
       " 'Strategic Grocery',\n",
       " 'TOTAL MASS',\n",
       " 'Target',\n",
       " 'US AOC',\n",
       " 'US Drug',\n",
       " 'US Food',\n",
       " 'VDC',\n",
       " 'Walgreens',\n",
       " 'Walmart'}"
      ]
     },
     "execution_count": 269,
     "metadata": {},
     "output_type": "execute_result"
    }
   ],
   "source": [
    "set(Data_5p_PTB[\"Markets\"])"
   ]
  },
  {
   "cell_type": "markdown",
   "metadata": {},
   "source": [
    "## Promotion Data PTB"
   ]
  },
  {
   "cell_type": "code",
   "execution_count": 270,
   "metadata": {},
   "outputs": [],
   "source": [
    "PTB_Promo= Data_5p_PTB.copy()"
   ]
  },
  {
   "cell_type": "code",
   "execution_count": 271,
   "metadata": {},
   "outputs": [
    {
     "data": {
      "text/plain": [
       "set()"
      ]
     },
     "execution_count": 271,
     "metadata": {},
     "output_type": "execute_result"
    }
   ],
   "source": [
    "set(Promo_Facts) - set(PTB_Promo['Facts'])\n"
   ]
  },
  {
   "cell_type": "code",
   "execution_count": 272,
   "metadata": {},
   "outputs": [],
   "source": [
    "Promo_Markets=[\"US AOC\",\"Ahold\",\"Alb/Sfy\",\"CVS\",\"Dollar General\",\"Family Dollar\",\"Meijer\",\"Publix\",\n",
    "         \"Rite Aid\",\"Shoprite\",\"Target\",\"US Drug\",\"US Food\",\"Walgreens\",\"Walmart\", \"Kmart\"]"
   ]
  },
  {
   "cell_type": "code",
   "execution_count": 273,
   "metadata": {},
   "outputs": [],
   "source": [
    "# Filter Data based on Promo selection\n",
    "PTB_Promo= PTB_Promo[PTB_Promo[\"Facts\"].isin(Promo_Facts)]\n",
    "PTB_Promo= PTB_Promo[PTB_Promo[\"Markets\"].isin(Promo_Markets)]\n",
    "PTB_Promo=PTB_Promo[Promo_Time_Period]"
   ]
  },
  {
   "cell_type": "code",
   "execution_count": 274,
   "metadata": {},
   "outputs": [
    {
     "name": "stdout",
     "output_type": "stream",
     "text": [
      "16 16\n"
     ]
    }
   ],
   "source": [
    "print(len(Promo_Markets), len(set(PTB_Promo[\"Markets\"])))"
   ]
  },
  {
   "cell_type": "markdown",
   "metadata": {},
   "source": [
    "**Fact Name Change**"
   ]
  },
  {
   "cell_type": "code",
   "execution_count": 275,
   "metadata": {},
   "outputs": [],
   "source": [
    "PTB_Promo[\"Facts\"].replace(Promo_Fact_Mapping,inplace=True)"
   ]
  },
  {
   "cell_type": "code",
   "execution_count": 276,
   "metadata": {
    "scrolled": true
   },
   "outputs": [
    {
     "data": {
      "text/plain": [
       "(61716, 26)"
      ]
     },
     "execution_count": 276,
     "metadata": {},
     "output_type": "execute_result"
    }
   ],
   "source": [
    "PTB_Promo.shape"
   ]
  },
  {
   "cell_type": "markdown",
   "metadata": {},
   "source": [
    "**Column name Change**"
   ]
  },
  {
   "cell_type": "code",
   "execution_count": 277,
   "metadata": {},
   "outputs": [],
   "source": [
    "PTB_Promo[\"CP_CATEGORY\"] = \"POWER\""
   ]
  },
  {
   "cell_type": "code",
   "execution_count": 278,
   "metadata": {},
   "outputs": [],
   "source": [
    "PTB_Promo.rename(columns={\"Markets\":\"MKT\",\"ShareBasis\":\"CP_BATTERY_HYBRID\",\"Products\":\"PROD\",\"Manufacturer\":\"CP_MANUFACTURER\",\n",
    "                                \"Franchise\":\"CP_FRANCHISE\",\"Brand\":\"CP_BRAND\",\"SubBrand\":\"CP_SUBBRAND\",\"Facts\":\"FCT\"},inplace=True)"
   ]
  },
  {
   "cell_type": "code",
   "execution_count": 279,
   "metadata": {},
   "outputs": [
    {
     "data": {
      "text/html": [
       "<div>\n",
       "<style scoped>\n",
       "    .dataframe tbody tr th:only-of-type {\n",
       "        vertical-align: middle;\n",
       "    }\n",
       "\n",
       "    .dataframe tbody tr th {\n",
       "        vertical-align: top;\n",
       "    }\n",
       "\n",
       "    .dataframe thead th {\n",
       "        text-align: right;\n",
       "    }\n",
       "</style>\n",
       "<table border=\"1\" class=\"dataframe\">\n",
       "  <thead>\n",
       "    <tr style=\"text-align: right;\">\n",
       "      <th></th>\n",
       "      <th>MKT</th>\n",
       "      <th>PROD</th>\n",
       "      <th>CP_CATEGORY</th>\n",
       "      <th>CP_BATTERY_HYBRID</th>\n",
       "      <th>Category</th>\n",
       "      <th>CP_MANUFACTURER</th>\n",
       "      <th>CP_FRANCHISE</th>\n",
       "      <th>CP_BRAND</th>\n",
       "      <th>CP_SUBBRAND</th>\n",
       "      <th>FCT</th>\n",
       "      <th>...</th>\n",
       "      <th>4 W/E 05/02/20</th>\n",
       "      <th>4 W/E 05/30/20</th>\n",
       "      <th>5 W/E 07/04/20</th>\n",
       "      <th>4 W/E 08/01/20</th>\n",
       "      <th>4 W/E 08/29/20</th>\n",
       "      <th>5 W/E 10/03/20</th>\n",
       "      <th>4 W/E 10/31/20</th>\n",
       "      <th>4 W/E 11/28/20</th>\n",
       "      <th>5 W/E 01/02/21</th>\n",
       "      <th>4 W/E 01/30/21</th>\n",
       "    </tr>\n",
       "  </thead>\n",
       "  <tbody>\n",
       "    <tr>\n",
       "      <th>520845</th>\n",
       "      <td>Meijer</td>\n",
       "      <td>BATTERY+HYBRID</td>\n",
       "      <td>POWER</td>\n",
       "      <td>BATTERY+HYBRID</td>\n",
       "      <td>PTB</td>\n",
       "      <td></td>\n",
       "      <td></td>\n",
       "      <td></td>\n",
       "      <td></td>\n",
       "      <td>% Dollars w/Any Promo</td>\n",
       "      <td>...</td>\n",
       "      <td>51.355</td>\n",
       "      <td>66.561</td>\n",
       "      <td>77.223</td>\n",
       "      <td>74.368</td>\n",
       "      <td>71.179</td>\n",
       "      <td>44.134</td>\n",
       "      <td>67.387</td>\n",
       "      <td>82.520</td>\n",
       "      <td>77.704</td>\n",
       "      <td>79.136</td>\n",
       "    </tr>\n",
       "    <tr>\n",
       "      <th>520846</th>\n",
       "      <td>Meijer</td>\n",
       "      <td>BATTERY+HYBRID</td>\n",
       "      <td>POWER</td>\n",
       "      <td>BATTERY+HYBRID</td>\n",
       "      <td>PTB</td>\n",
       "      <td></td>\n",
       "      <td></td>\n",
       "      <td></td>\n",
       "      <td></td>\n",
       "      <td>% Dollars w/Any Promo YAG Chg</td>\n",
       "      <td>...</td>\n",
       "      <td>-22.086</td>\n",
       "      <td>-0.258</td>\n",
       "      <td>19.977</td>\n",
       "      <td>15.668</td>\n",
       "      <td>-7.762</td>\n",
       "      <td>-3.637</td>\n",
       "      <td>15.230</td>\n",
       "      <td>3.805</td>\n",
       "      <td>-9.520</td>\n",
       "      <td>0.459</td>\n",
       "    </tr>\n",
       "    <tr>\n",
       "      <th>520847</th>\n",
       "      <td>Meijer</td>\n",
       "      <td>BATTERY+HYBRID</td>\n",
       "      <td>POWER</td>\n",
       "      <td>BATTERY+HYBRID</td>\n",
       "      <td>PTB</td>\n",
       "      <td></td>\n",
       "      <td></td>\n",
       "      <td></td>\n",
       "      <td></td>\n",
       "      <td>% EQ Units w/Any Promo</td>\n",
       "      <td>...</td>\n",
       "      <td>52.330</td>\n",
       "      <td>61.639</td>\n",
       "      <td>72.199</td>\n",
       "      <td>68.289</td>\n",
       "      <td>74.226</td>\n",
       "      <td>44.722</td>\n",
       "      <td>63.149</td>\n",
       "      <td>84.446</td>\n",
       "      <td>78.172</td>\n",
       "      <td>79.496</td>\n",
       "    </tr>\n",
       "  </tbody>\n",
       "</table>\n",
       "<p>3 rows × 27 columns</p>\n",
       "</div>"
      ],
      "text/plain": [
       "           MKT            PROD CP_CATEGORY CP_BATTERY_HYBRID Category  \\\n",
       "520845  Meijer  BATTERY+HYBRID       POWER    BATTERY+HYBRID      PTB   \n",
       "520846  Meijer  BATTERY+HYBRID       POWER    BATTERY+HYBRID      PTB   \n",
       "520847  Meijer  BATTERY+HYBRID       POWER    BATTERY+HYBRID      PTB   \n",
       "\n",
       "       CP_MANUFACTURER CP_FRANCHISE CP_BRAND CP_SUBBRAND  \\\n",
       "520845                                                     \n",
       "520846                                                     \n",
       "520847                                                     \n",
       "\n",
       "                                  FCT  ...  4 W/E 05/02/20  4 W/E 05/30/20  \\\n",
       "520845          % Dollars w/Any Promo  ...          51.355          66.561   \n",
       "520846  % Dollars w/Any Promo YAG Chg  ...         -22.086          -0.258   \n",
       "520847         % EQ Units w/Any Promo  ...          52.330          61.639   \n",
       "\n",
       "        5 W/E 07/04/20  4 W/E 08/01/20  4 W/E 08/29/20  5 W/E 10/03/20  \\\n",
       "520845          77.223          74.368          71.179          44.134   \n",
       "520846          19.977          15.668          -7.762          -3.637   \n",
       "520847          72.199          68.289          74.226          44.722   \n",
       "\n",
       "        4 W/E 10/31/20  4 W/E 11/28/20  5 W/E 01/02/21  4 W/E 01/30/21  \n",
       "520845          67.387          82.520          77.704          79.136  \n",
       "520846          15.230           3.805          -9.520           0.459  \n",
       "520847          63.149          84.446          78.172          79.496  \n",
       "\n",
       "[3 rows x 27 columns]"
      ]
     },
     "execution_count": 279,
     "metadata": {},
     "output_type": "execute_result"
    }
   ],
   "source": [
    "PTB_Promo = movecol(PTB_Promo, \n",
    "             cols_to_move=['CP_CATEGORY'], \n",
    "             ref_col='PROD',\n",
    "             place='After')\n",
    "PTB_Promo.head(3)"
   ]
  },
  {
   "cell_type": "code",
   "execution_count": 280,
   "metadata": {},
   "outputs": [
    {
     "data": {
      "text/plain": [
       "Index(['MKT', 'PROD', 'CP_CATEGORY', 'CP_BATTERY_HYBRID', 'Category',\n",
       "       'CP_MANUFACTURER', 'CP_FRANCHISE', 'CP_BRAND', 'CP_SUBBRAND', 'FCT',\n",
       "       '4 W/E 02/27/21', 'Latest 13 Weeks', 'Latest 26 Weeks', 'YTD 2021',\n",
       "       'FY 2020', '4 W/E 02/29/20', '5 W/E 04/04/20', '4 W/E 05/02/20',\n",
       "       '4 W/E 05/30/20', '5 W/E 07/04/20', '4 W/E 08/01/20', '4 W/E 08/29/20',\n",
       "       '5 W/E 10/03/20', '4 W/E 10/31/20', '4 W/E 11/28/20', '5 W/E 01/02/21',\n",
       "       '4 W/E 01/30/21'],\n",
       "      dtype='object')"
      ]
     },
     "execution_count": 280,
     "metadata": {},
     "output_type": "execute_result"
    }
   ],
   "source": [
    "PTB_Promo.columns"
   ]
  },
  {
   "cell_type": "code",
   "execution_count": 281,
   "metadata": {},
   "outputs": [
    {
     "name": "stdout",
     "output_type": "stream",
     "text": [
      "15\n",
      "FY 2020\n"
     ]
    }
   ],
   "source": [
    "count = 1\n",
    "str = 'FY'\n",
    "lst = list(PTB_Promo.columns)\n",
    "for i in lst:\n",
    "    if(str in i):\n",
    "        break\n",
    "    count +=1\n",
    "print(count)\n",
    "print(i)\n",
    "Ref = i"
   ]
  },
  {
   "cell_type": "code",
   "execution_count": 282,
   "metadata": {},
   "outputs": [
    {
     "data": {
      "text/html": [
       "<div>\n",
       "<style scoped>\n",
       "    .dataframe tbody tr th:only-of-type {\n",
       "        vertical-align: middle;\n",
       "    }\n",
       "\n",
       "    .dataframe tbody tr th {\n",
       "        vertical-align: top;\n",
       "    }\n",
       "\n",
       "    .dataframe thead th {\n",
       "        text-align: right;\n",
       "    }\n",
       "</style>\n",
       "<table border=\"1\" class=\"dataframe\">\n",
       "  <thead>\n",
       "    <tr style=\"text-align: right;\">\n",
       "      <th></th>\n",
       "      <th>MKT</th>\n",
       "      <th>PROD</th>\n",
       "      <th>CP_CATEGORY</th>\n",
       "      <th>Category</th>\n",
       "      <th>CP_MANUFACTURER</th>\n",
       "      <th>CP_FRANCHISE</th>\n",
       "      <th>CP_BRAND</th>\n",
       "      <th>CP_SUBBRAND</th>\n",
       "      <th>FCT</th>\n",
       "      <th>4 W/E 02/27/21</th>\n",
       "      <th>...</th>\n",
       "      <th>4 W/E 05/02/20</th>\n",
       "      <th>4 W/E 05/30/20</th>\n",
       "      <th>5 W/E 07/04/20</th>\n",
       "      <th>4 W/E 08/01/20</th>\n",
       "      <th>4 W/E 08/29/20</th>\n",
       "      <th>5 W/E 10/03/20</th>\n",
       "      <th>4 W/E 10/31/20</th>\n",
       "      <th>4 W/E 11/28/20</th>\n",
       "      <th>5 W/E 01/02/21</th>\n",
       "      <th>4 W/E 01/30/21</th>\n",
       "    </tr>\n",
       "  </thead>\n",
       "  <tbody>\n",
       "    <tr>\n",
       "      <th>520845</th>\n",
       "      <td>Meijer</td>\n",
       "      <td>BATTERY+HYBRID</td>\n",
       "      <td>POWER</td>\n",
       "      <td>PTB</td>\n",
       "      <td></td>\n",
       "      <td></td>\n",
       "      <td></td>\n",
       "      <td></td>\n",
       "      <td>% Dollars w/Any Promo</td>\n",
       "      <td>75.565</td>\n",
       "      <td>...</td>\n",
       "      <td>51.355</td>\n",
       "      <td>66.561</td>\n",
       "      <td>77.223</td>\n",
       "      <td>74.368</td>\n",
       "      <td>71.179</td>\n",
       "      <td>44.134</td>\n",
       "      <td>67.387</td>\n",
       "      <td>82.520</td>\n",
       "      <td>77.704</td>\n",
       "      <td>79.136</td>\n",
       "    </tr>\n",
       "    <tr>\n",
       "      <th>520846</th>\n",
       "      <td>Meijer</td>\n",
       "      <td>BATTERY+HYBRID</td>\n",
       "      <td>POWER</td>\n",
       "      <td>PTB</td>\n",
       "      <td></td>\n",
       "      <td></td>\n",
       "      <td></td>\n",
       "      <td></td>\n",
       "      <td>% Dollars w/Any Promo YAG Chg</td>\n",
       "      <td>4.711</td>\n",
       "      <td>...</td>\n",
       "      <td>-22.086</td>\n",
       "      <td>-0.258</td>\n",
       "      <td>19.977</td>\n",
       "      <td>15.668</td>\n",
       "      <td>-7.762</td>\n",
       "      <td>-3.637</td>\n",
       "      <td>15.230</td>\n",
       "      <td>3.805</td>\n",
       "      <td>-9.520</td>\n",
       "      <td>0.459</td>\n",
       "    </tr>\n",
       "    <tr>\n",
       "      <th>520847</th>\n",
       "      <td>Meijer</td>\n",
       "      <td>BATTERY+HYBRID</td>\n",
       "      <td>POWER</td>\n",
       "      <td>PTB</td>\n",
       "      <td></td>\n",
       "      <td></td>\n",
       "      <td></td>\n",
       "      <td></td>\n",
       "      <td>% EQ Units w/Any Promo</td>\n",
       "      <td>77.963</td>\n",
       "      <td>...</td>\n",
       "      <td>52.330</td>\n",
       "      <td>61.639</td>\n",
       "      <td>72.199</td>\n",
       "      <td>68.289</td>\n",
       "      <td>74.226</td>\n",
       "      <td>44.722</td>\n",
       "      <td>63.149</td>\n",
       "      <td>84.446</td>\n",
       "      <td>78.172</td>\n",
       "      <td>79.496</td>\n",
       "    </tr>\n",
       "  </tbody>\n",
       "</table>\n",
       "<p>3 rows × 27 columns</p>\n",
       "</div>"
      ],
      "text/plain": [
       "           MKT            PROD CP_CATEGORY Category CP_MANUFACTURER  \\\n",
       "520845  Meijer  BATTERY+HYBRID       POWER      PTB                   \n",
       "520846  Meijer  BATTERY+HYBRID       POWER      PTB                   \n",
       "520847  Meijer  BATTERY+HYBRID       POWER      PTB                   \n",
       "\n",
       "       CP_FRANCHISE CP_BRAND CP_SUBBRAND                            FCT  \\\n",
       "520845                                            % Dollars w/Any Promo   \n",
       "520846                                    % Dollars w/Any Promo YAG Chg   \n",
       "520847                                           % EQ Units w/Any Promo   \n",
       "\n",
       "        4 W/E 02/27/21  ...  4 W/E 05/02/20  4 W/E 05/30/20  5 W/E 07/04/20  \\\n",
       "520845          75.565  ...          51.355          66.561          77.223   \n",
       "520846           4.711  ...         -22.086          -0.258          19.977   \n",
       "520847          77.963  ...          52.330          61.639          72.199   \n",
       "\n",
       "        4 W/E 08/01/20 4 W/E 08/29/20  5 W/E 10/03/20  4 W/E 10/31/20  \\\n",
       "520845          74.368         71.179          44.134          67.387   \n",
       "520846          15.668         -7.762          -3.637          15.230   \n",
       "520847          68.289         74.226          44.722          63.149   \n",
       "\n",
       "        4 W/E 11/28/20  5 W/E 01/02/21  4 W/E 01/30/21  \n",
       "520845          82.520          77.704          79.136  \n",
       "520846           3.805          -9.520           0.459  \n",
       "520847          84.446          78.172          79.496  \n",
       "\n",
       "[3 rows x 27 columns]"
      ]
     },
     "execution_count": 282,
     "metadata": {},
     "output_type": "execute_result"
    }
   ],
   "source": [
    "PTB_Promo = movecol(PTB_Promo, \n",
    "             cols_to_move=['CP_BATTERY_HYBRID'], \n",
    "             ref_col=Ref,\n",
    "             place='After')\n",
    "PTB_Promo.head(3)"
   ]
  },
  {
   "cell_type": "code",
   "execution_count": 283,
   "metadata": {},
   "outputs": [],
   "source": [
    "PTB_power_mapping={\n",
    "    \"POWER\":\"TOTAL POWER\"}\n",
    "PTB_Promo[\"CP_BATTERY_HYBRID\"].replace(PTB_power_mapping,inplace=True)"
   ]
  },
  {
   "cell_type": "code",
   "execution_count": 284,
   "metadata": {},
   "outputs": [
    {
     "data": {
      "text/html": [
       "<div>\n",
       "<style scoped>\n",
       "    .dataframe tbody tr th:only-of-type {\n",
       "        vertical-align: middle;\n",
       "    }\n",
       "\n",
       "    .dataframe tbody tr th {\n",
       "        vertical-align: top;\n",
       "    }\n",
       "\n",
       "    .dataframe thead th {\n",
       "        text-align: right;\n",
       "    }\n",
       "</style>\n",
       "<table border=\"1\" class=\"dataframe\">\n",
       "  <thead>\n",
       "    <tr style=\"text-align: right;\">\n",
       "      <th></th>\n",
       "      <th>MKT</th>\n",
       "      <th>PROD</th>\n",
       "      <th>CP_CATEGORY</th>\n",
       "      <th>Category</th>\n",
       "      <th>CP_MANUFACTURER</th>\n",
       "      <th>CP_FRANCHISE</th>\n",
       "      <th>CP_BRAND</th>\n",
       "      <th>CP_SUBBRAND</th>\n",
       "      <th>FCT</th>\n",
       "      <th>4 W/E 02/27/21</th>\n",
       "      <th>...</th>\n",
       "      <th>4 W/E 05/02/20</th>\n",
       "      <th>4 W/E 05/30/20</th>\n",
       "      <th>5 W/E 07/04/20</th>\n",
       "      <th>4 W/E 08/01/20</th>\n",
       "      <th>4 W/E 08/29/20</th>\n",
       "      <th>5 W/E 10/03/20</th>\n",
       "      <th>4 W/E 10/31/20</th>\n",
       "      <th>4 W/E 11/28/20</th>\n",
       "      <th>5 W/E 01/02/21</th>\n",
       "      <th>4 W/E 01/30/21</th>\n",
       "    </tr>\n",
       "  </thead>\n",
       "  <tbody>\n",
       "    <tr>\n",
       "      <th>520845</th>\n",
       "      <td>Meijer</td>\n",
       "      <td>BATTERY+HYBRID</td>\n",
       "      <td>POWER</td>\n",
       "      <td>PTB</td>\n",
       "      <td></td>\n",
       "      <td></td>\n",
       "      <td></td>\n",
       "      <td></td>\n",
       "      <td>% Dollars w/Any Promo</td>\n",
       "      <td>75.565</td>\n",
       "      <td>...</td>\n",
       "      <td>51.355</td>\n",
       "      <td>66.561</td>\n",
       "      <td>77.223</td>\n",
       "      <td>74.368</td>\n",
       "      <td>71.179</td>\n",
       "      <td>44.134</td>\n",
       "      <td>67.387</td>\n",
       "      <td>82.520</td>\n",
       "      <td>77.704</td>\n",
       "      <td>79.136</td>\n",
       "    </tr>\n",
       "    <tr>\n",
       "      <th>520846</th>\n",
       "      <td>Meijer</td>\n",
       "      <td>BATTERY+HYBRID</td>\n",
       "      <td>POWER</td>\n",
       "      <td>PTB</td>\n",
       "      <td></td>\n",
       "      <td></td>\n",
       "      <td></td>\n",
       "      <td></td>\n",
       "      <td>% Dollars w/Any Promo YAG Chg</td>\n",
       "      <td>4.711</td>\n",
       "      <td>...</td>\n",
       "      <td>-22.086</td>\n",
       "      <td>-0.258</td>\n",
       "      <td>19.977</td>\n",
       "      <td>15.668</td>\n",
       "      <td>-7.762</td>\n",
       "      <td>-3.637</td>\n",
       "      <td>15.230</td>\n",
       "      <td>3.805</td>\n",
       "      <td>-9.520</td>\n",
       "      <td>0.459</td>\n",
       "    </tr>\n",
       "  </tbody>\n",
       "</table>\n",
       "<p>2 rows × 27 columns</p>\n",
       "</div>"
      ],
      "text/plain": [
       "           MKT            PROD CP_CATEGORY Category CP_MANUFACTURER  \\\n",
       "520845  Meijer  BATTERY+HYBRID       POWER      PTB                   \n",
       "520846  Meijer  BATTERY+HYBRID       POWER      PTB                   \n",
       "\n",
       "       CP_FRANCHISE CP_BRAND CP_SUBBRAND                            FCT  \\\n",
       "520845                                            % Dollars w/Any Promo   \n",
       "520846                                    % Dollars w/Any Promo YAG Chg   \n",
       "\n",
       "        4 W/E 02/27/21  ...  4 W/E 05/02/20  4 W/E 05/30/20  5 W/E 07/04/20  \\\n",
       "520845          75.565  ...          51.355          66.561          77.223   \n",
       "520846           4.711  ...         -22.086          -0.258          19.977   \n",
       "\n",
       "        4 W/E 08/01/20 4 W/E 08/29/20  5 W/E 10/03/20  4 W/E 10/31/20  \\\n",
       "520845          74.368         71.179          44.134          67.387   \n",
       "520846          15.668         -7.762          -3.637          15.230   \n",
       "\n",
       "        4 W/E 11/28/20  5 W/E 01/02/21  4 W/E 01/30/21  \n",
       "520845          82.520          77.704          79.136  \n",
       "520846           3.805          -9.520           0.459  \n",
       "\n",
       "[2 rows x 27 columns]"
      ]
     },
     "execution_count": 284,
     "metadata": {},
     "output_type": "execute_result"
    }
   ],
   "source": [
    "PTB_Promo.head(2)"
   ]
  },
  {
   "cell_type": "code",
   "execution_count": 285,
   "metadata": {
    "scrolled": true
   },
   "outputs": [],
   "source": [
    "# del PTB_Promo[\"ShareBasis\"]\n",
    "del PTB_Promo[\"Category\"]"
   ]
  },
  {
   "cell_type": "code",
   "execution_count": 286,
   "metadata": {},
   "outputs": [],
   "source": [
    "Fact_order = CategoricalDtype(\n",
    "    sorted(list(set(PTB_Promo[\"FCT\"]))), \n",
    "    ordered=True\n",
    ")\n",
    "\n",
    "PTB_Promo['FCT'] = PTB_Promo['FCT'].astype(Fact_order)\n",
    "\n",
    "PTB_Promo.sort_values(['MKT','PROD','FCT'],inplace=True)"
   ]
  },
  {
   "cell_type": "markdown",
   "metadata": {},
   "source": [
    "## **promo_category**"
   ]
  },
  {
   "cell_type": "code",
   "execution_count": 287,
   "metadata": {},
   "outputs": [],
   "source": [
    "promo_category=PTB_Promo.loc[(PTB_Promo[\"CP_SUBBRAND\"]==\"\") & (PTB_Promo[\"CP_BRAND\"]==\"\")&(PTB_Promo[\"CP_FRANCHISE\"]==\"\")&(PTB_Promo[\"CP_MANUFACTURER\"]==\"\")]"
   ]
  },
  {
   "cell_type": "code",
   "execution_count": 288,
   "metadata": {},
   "outputs": [],
   "source": [
    "promo_category.drop_duplicates(inplace=True)"
   ]
  },
  {
   "cell_type": "code",
   "execution_count": 289,
   "metadata": {},
   "outputs": [],
   "source": [
    "length= len(promo_category)\n",
    "promo_category[\"Record_ID\"]=range(1,length+1)"
   ]
  },
  {
   "cell_type": "code",
   "execution_count": 290,
   "metadata": {},
   "outputs": [
    {
     "data": {
      "text/html": [
       "<div>\n",
       "<style scoped>\n",
       "    .dataframe tbody tr th:only-of-type {\n",
       "        vertical-align: middle;\n",
       "    }\n",
       "\n",
       "    .dataframe tbody tr th {\n",
       "        vertical-align: top;\n",
       "    }\n",
       "\n",
       "    .dataframe thead th {\n",
       "        text-align: right;\n",
       "    }\n",
       "</style>\n",
       "<table border=\"1\" class=\"dataframe\">\n",
       "  <thead>\n",
       "    <tr style=\"text-align: right;\">\n",
       "      <th></th>\n",
       "      <th>MKT</th>\n",
       "      <th>PROD</th>\n",
       "      <th>CP_CATEGORY</th>\n",
       "      <th>CP_MANUFACTURER</th>\n",
       "      <th>CP_FRANCHISE</th>\n",
       "      <th>CP_BRAND</th>\n",
       "      <th>CP_SUBBRAND</th>\n",
       "      <th>FCT</th>\n",
       "      <th>4 W/E 02/27/21</th>\n",
       "      <th>Latest 13 Weeks</th>\n",
       "      <th>...</th>\n",
       "      <th>4 W/E 05/30/20</th>\n",
       "      <th>5 W/E 07/04/20</th>\n",
       "      <th>4 W/E 08/01/20</th>\n",
       "      <th>4 W/E 08/29/20</th>\n",
       "      <th>5 W/E 10/03/20</th>\n",
       "      <th>4 W/E 10/31/20</th>\n",
       "      <th>4 W/E 11/28/20</th>\n",
       "      <th>5 W/E 01/02/21</th>\n",
       "      <th>4 W/E 01/30/21</th>\n",
       "      <th>Record_ID</th>\n",
       "    </tr>\n",
       "  </thead>\n",
       "  <tbody>\n",
       "    <tr>\n",
       "      <th>562635</th>\n",
       "      <td>Ahold</td>\n",
       "      <td>BATTERY+HYBRID</td>\n",
       "      <td>POWER</td>\n",
       "      <td></td>\n",
       "      <td></td>\n",
       "      <td></td>\n",
       "      <td></td>\n",
       "      <td>$ Share</td>\n",
       "      <td>100.0</td>\n",
       "      <td>100.0</td>\n",
       "      <td>...</td>\n",
       "      <td>100.0</td>\n",
       "      <td>100.0</td>\n",
       "      <td>100.0</td>\n",
       "      <td>100.0</td>\n",
       "      <td>100.0</td>\n",
       "      <td>100.0</td>\n",
       "      <td>100.0</td>\n",
       "      <td>100.0</td>\n",
       "      <td>100.0</td>\n",
       "      <td>1</td>\n",
       "    </tr>\n",
       "    <tr>\n",
       "      <th>562636</th>\n",
       "      <td>Ahold</td>\n",
       "      <td>BATTERY+HYBRID</td>\n",
       "      <td>POWER</td>\n",
       "      <td></td>\n",
       "      <td></td>\n",
       "      <td></td>\n",
       "      <td></td>\n",
       "      <td>$ Share YAG Chg</td>\n",
       "      <td>0.0</td>\n",
       "      <td>0.0</td>\n",
       "      <td>...</td>\n",
       "      <td>0.0</td>\n",
       "      <td>0.0</td>\n",
       "      <td>0.0</td>\n",
       "      <td>0.0</td>\n",
       "      <td>0.0</td>\n",
       "      <td>0.0</td>\n",
       "      <td>0.0</td>\n",
       "      <td>0.0</td>\n",
       "      <td>0.0</td>\n",
       "      <td>2</td>\n",
       "    </tr>\n",
       "  </tbody>\n",
       "</table>\n",
       "<p>2 rows × 27 columns</p>\n",
       "</div>"
      ],
      "text/plain": [
       "          MKT            PROD CP_CATEGORY CP_MANUFACTURER CP_FRANCHISE  \\\n",
       "562635  Ahold  BATTERY+HYBRID       POWER                                \n",
       "562636  Ahold  BATTERY+HYBRID       POWER                                \n",
       "\n",
       "       CP_BRAND CP_SUBBRAND              FCT  4 W/E 02/27/21  Latest 13 Weeks  \\\n",
       "562635                               $ Share           100.0            100.0   \n",
       "562636                       $ Share YAG Chg             0.0              0.0   \n",
       "\n",
       "        ...  4 W/E 05/30/20  5 W/E 07/04/20  4 W/E 08/01/20 4 W/E 08/29/20  \\\n",
       "562635  ...           100.0           100.0           100.0          100.0   \n",
       "562636  ...             0.0             0.0             0.0            0.0   \n",
       "\n",
       "        5 W/E 10/03/20  4 W/E 10/31/20  4 W/E 11/28/20  5 W/E 01/02/21  \\\n",
       "562635           100.0           100.0           100.0           100.0   \n",
       "562636             0.0             0.0             0.0             0.0   \n",
       "\n",
       "        4 W/E 01/30/21  Record_ID  \n",
       "562635           100.0          1  \n",
       "562636             0.0          2  \n",
       "\n",
       "[2 rows x 27 columns]"
      ]
     },
     "execution_count": 290,
     "metadata": {},
     "output_type": "execute_result"
    }
   ],
   "source": [
    "promo_category.head(2)"
   ]
  },
  {
   "cell_type": "code",
   "execution_count": 291,
   "metadata": {},
   "outputs": [],
   "source": [
    "promo_category.to_csv(path_PTB+\"promo_category.csv\",index=False)"
   ]
  },
  {
   "cell_type": "markdown",
   "metadata": {},
   "source": [
    "## **promo_toplevel**"
   ]
  },
  {
   "cell_type": "code",
   "execution_count": 292,
   "metadata": {},
   "outputs": [],
   "source": [
    "promo_toplevel=PTB_Promo.loc[(PTB_Promo[\"CP_SUBBRAND\"]==\"\") & (PTB_Promo[\"CP_BRAND\"]==\"\")&(PTB_Promo[\"CP_FRANCHISE\"]==\"\")&(PTB_Promo[\"CP_MANUFACTURER\"]!=\"\")]"
   ]
  },
  {
   "cell_type": "code",
   "execution_count": 293,
   "metadata": {},
   "outputs": [],
   "source": [
    "# Blank row 0th position\n",
    "df1=pd.DataFrame([[np.nan]*len(promo_toplevel.columns)],columns=promo_toplevel.columns)\n",
    "promo_toplevel=df1.append(promo_toplevel,ignore_index=True)"
   ]
  },
  {
   "cell_type": "code",
   "execution_count": 294,
   "metadata": {},
   "outputs": [],
   "source": [
    "promo_toplevel.drop_duplicates(inplace=True)"
   ]
  },
  {
   "cell_type": "code",
   "execution_count": 295,
   "metadata": {},
   "outputs": [],
   "source": [
    "length= len(promo_toplevel)\n",
    "promo_toplevel[\"Record_ID\"]=range(1,length+1)"
   ]
  },
  {
   "cell_type": "code",
   "execution_count": 296,
   "metadata": {},
   "outputs": [],
   "source": [
    "promo_toplevel.to_csv(path_PTB+\"promo_toplevel.csv\",index=False)"
   ]
  },
  {
   "cell_type": "markdown",
   "metadata": {},
   "source": [
    "## **promo_franchise**"
   ]
  },
  {
   "cell_type": "code",
   "execution_count": 297,
   "metadata": {},
   "outputs": [],
   "source": [
    "promo_franchise=PTB_Promo.loc[(PTB_Promo[\"CP_SUBBRAND\"]==\"\") & (PTB_Promo[\"CP_BRAND\"]==\"\")&(PTB_Promo[\"CP_FRANCHISE\"]!=\"\")]"
   ]
  },
  {
   "cell_type": "code",
   "execution_count": 298,
   "metadata": {},
   "outputs": [],
   "source": [
    "promo_franchise.drop_duplicates(inplace=True)"
   ]
  },
  {
   "cell_type": "code",
   "execution_count": 299,
   "metadata": {},
   "outputs": [],
   "source": [
    "length= len(promo_franchise)\n",
    "promo_franchise[\"Record_ID\"]=range(1,length+1)"
   ]
  },
  {
   "cell_type": "code",
   "execution_count": 300,
   "metadata": {},
   "outputs": [],
   "source": [
    "promo_franchise.to_csv(path_PTB+\"promo_franchise.csv\",index=False)"
   ]
  },
  {
   "cell_type": "markdown",
   "metadata": {},
   "source": [
    "## **promo_brand_promo**"
   ]
  },
  {
   "cell_type": "code",
   "execution_count": 301,
   "metadata": {},
   "outputs": [],
   "source": [
    "promo_brand_promo=PTB_Promo.loc[(PTB_Promo[\"CP_SUBBRAND\"]==\"\") & (PTB_Promo[\"CP_BRAND\"]!=\"\")]"
   ]
  },
  {
   "cell_type": "code",
   "execution_count": 302,
   "metadata": {},
   "outputs": [],
   "source": [
    "promo_brand_promo.drop_duplicates(inplace = True)"
   ]
  },
  {
   "cell_type": "code",
   "execution_count": 303,
   "metadata": {},
   "outputs": [],
   "source": [
    "length= len(promo_brand_promo)\n",
    "promo_brand_promo[\"Record_ID\"]=range(1,length+1)"
   ]
  },
  {
   "cell_type": "code",
   "execution_count": 304,
   "metadata": {},
   "outputs": [],
   "source": [
    "promo_brand_promo.to_csv(path_PTB+\"promo_brand_promo.csv\",index=False)"
   ]
  },
  {
   "cell_type": "markdown",
   "metadata": {},
   "source": [
    "## **promo_subbrand_promo**"
   ]
  },
  {
   "cell_type": "code",
   "execution_count": 305,
   "metadata": {},
   "outputs": [],
   "source": [
    "promo_subbrand_promo=PTB_Promo.loc[(PTB_Promo[\"CP_SUBBRAND\"]!=\"\")]"
   ]
  },
  {
   "cell_type": "code",
   "execution_count": 306,
   "metadata": {},
   "outputs": [],
   "source": [
    "promo_subbrand_promo.drop_duplicates(inplace=True)"
   ]
  },
  {
   "cell_type": "code",
   "execution_count": 307,
   "metadata": {},
   "outputs": [],
   "source": [
    "length= len(promo_subbrand_promo)\n",
    "promo_subbrand_promo[\"Record_ID\"]=range(1,length+1)"
   ]
  },
  {
   "cell_type": "code",
   "execution_count": 308,
   "metadata": {},
   "outputs": [],
   "source": [
    "promo_subbrand_promo.to_csv(path_PTB+\"promo_subbrand_promo.csv\",index=False)"
   ]
  },
  {
   "cell_type": "code",
   "execution_count": null,
   "metadata": {},
   "outputs": [],
   "source": []
  },
  {
   "cell_type": "markdown",
   "metadata": {},
   "source": [
    "## Waterfall"
   ]
  },
  {
   "cell_type": "code",
   "execution_count": 309,
   "metadata": {},
   "outputs": [],
   "source": [
    "Waterfall_PTB=Data_5p_PTB.copy()"
   ]
  },
  {
   "cell_type": "code",
   "execution_count": 310,
   "metadata": {},
   "outputs": [
    {
     "data": {
      "text/plain": [
       "{'Ahold',\n",
       " 'Alb/Sfy',\n",
       " 'BJs',\n",
       " 'CLUB',\n",
       " 'CVS',\n",
       " 'Dollar General',\n",
       " 'FDM',\n",
       " 'Family Dollar',\n",
       " 'Kmart',\n",
       " 'Meijer',\n",
       " 'Publix',\n",
       " 'REGIONAL GROCERY xLA',\n",
       " 'Rite Aid',\n",
       " 'Sams',\n",
       " 'Shoprite',\n",
       " 'Strategic Grocery',\n",
       " 'TOTAL MASS',\n",
       " 'Target',\n",
       " 'US AOC',\n",
       " 'US Drug',\n",
       " 'US Food',\n",
       " 'VDC',\n",
       " 'Walgreens',\n",
       " 'Walmart'}"
      ]
     },
     "execution_count": 310,
     "metadata": {},
     "output_type": "execute_result"
    }
   ],
   "source": [
    "set(Waterfall_PTB['Markets'])"
   ]
  },
  {
   "cell_type": "code",
   "execution_count": 311,
   "metadata": {},
   "outputs": [],
   "source": [
    "Waterfall_Markets=[\"TOTAL US XAOC\",\"TOTAL US DRUG\",\"TOTAL US FOOD\",\"TOTAL WALMART TOTAL US CTA\",\"TARGET TOTAL BM/FF CENSUS TA\",\n",
    "         \"WALGREENS CORP TOTAL CENSUS TA\",\"RITE AID - TOTAL CENSUS TA\",\"SHOPRITE TOTAL CENSUS TRADING AREA\",\n",
    "         \"PUBLIX TOTAL CENSUS TRADING AREA\",\"FAMILY DOLLAR TOTAL CENSUS TRADING AREA\",\"DOL GEN TOTAL CENSUS TA\",\n",
    "         \"CVS TOTAL CORP WO HI CENSUS TA\",\n",
    "         \"AHOLD USA CORP TOTAL CTA\",\"MEIJER TOTAL CENSUS TRADING AREA\",\"ALBSCO Total Company TA\",\"Kmart Total TA\" ]"
   ]
  },
  {
   "cell_type": "markdown",
   "metadata": {},
   "source": [
    "**Market Mapping**"
   ]
  },
  {
   "cell_type": "code",
   "execution_count": 312,
   "metadata": {},
   "outputs": [],
   "source": [
    "Waterfall_PTB[\"Markets\"].replace(Waterfall_Market_Mapping,inplace=True)"
   ]
  },
  {
   "cell_type": "code",
   "execution_count": 313,
   "metadata": {},
   "outputs": [
    {
     "data": {
      "text/plain": [
       "Index(['Markets', 'ShareBasis', 'Category', 'Manufacturer', 'Franchise',\n",
       "       'Brand', 'SubBrand', 'Products', 'Facts', 'FY 2020', 'FY 2019',\n",
       "       'FY 2018', 'FY 2017', 'YTD 2021', 'YTD 2020', 'Latest 13 Weeks',\n",
       "       'Latest 26 Weeks', 'Q1 2021', 'Q4 2020', 'Q3 2020', 'Q2 2020',\n",
       "       'Q1 2020', 'Q4 2019', 'Q3 2019', 'Q2 2019', '4 W/E 02/27/21',\n",
       "       '4 W/E 01/30/21', '5 W/E 01/02/21', '4 W/E 11/28/20', '4 W/E 10/31/20',\n",
       "       '5 W/E 10/03/20', '4 W/E 08/29/20', '4 W/E 08/01/20', '5 W/E 07/04/20',\n",
       "       '4 W/E 05/30/20', '4 W/E 05/02/20', '5 W/E 04/04/20', '4 W/E 02/29/20',\n",
       "       '4 W/E 02/01/20', 'Key'],\n",
       "      dtype='object')"
      ]
     },
     "execution_count": 313,
     "metadata": {},
     "output_type": "execute_result"
    }
   ],
   "source": [
    "Waterfall_PTB.columns"
   ]
  },
  {
   "cell_type": "code",
   "execution_count": 314,
   "metadata": {},
   "outputs": [
    {
     "name": "stdout",
     "output_type": "stream",
     "text": [
      "<class 'pandas.core.frame.DataFrame'>\n",
      "Int64Index: 1734266 entries, 0 to 2823236\n",
      "Data columns (total 40 columns):\n",
      " #   Column           Dtype  \n",
      "---  ------           -----  \n",
      " 0   Markets          object \n",
      " 1   ShareBasis       object \n",
      " 2   Category         object \n",
      " 3   Manufacturer     object \n",
      " 4   Franchise        object \n",
      " 5   Brand            object \n",
      " 6   SubBrand         object \n",
      " 7   Products         object \n",
      " 8   Facts            object \n",
      " 9   FY 2020          float64\n",
      " 10  FY 2019          float64\n",
      " 11  FY 2018          float64\n",
      " 12  FY 2017          float64\n",
      " 13  YTD 2021         float64\n",
      " 14  YTD 2020         float64\n",
      " 15  Latest 13 Weeks  float64\n",
      " 16  Latest 26 Weeks  float64\n",
      " 17  Q1 2021          float64\n",
      " 18  Q4 2020          float64\n",
      " 19  Q3 2020          float64\n",
      " 20  Q2 2020          float64\n",
      " 21  Q1 2020          float64\n",
      " 22  Q4 2019          float64\n",
      " 23  Q3 2019          float64\n",
      " 24  Q2 2019          float64\n",
      " 25  4 W/E 02/27/21   float64\n",
      " 26  4 W/E 01/30/21   float64\n",
      " 27  5 W/E 01/02/21   float64\n",
      " 28  4 W/E 11/28/20   float64\n",
      " 29  4 W/E 10/31/20   float64\n",
      " 30  5 W/E 10/03/20   float64\n",
      " 31  4 W/E 08/29/20   float64\n",
      " 32  4 W/E 08/01/20   float64\n",
      " 33  5 W/E 07/04/20   float64\n",
      " 34  4 W/E 05/30/20   float64\n",
      " 35  4 W/E 05/02/20   float64\n",
      " 36  5 W/E 04/04/20   float64\n",
      " 37  4 W/E 02/29/20   float64\n",
      " 38  4 W/E 02/01/20   float64\n",
      " 39  Key              object \n",
      "dtypes: float64(30), object(10)\n",
      "memory usage: 542.5+ MB\n"
     ]
    }
   ],
   "source": [
    "Data_5p.info()"
   ]
  },
  {
   "cell_type": "code",
   "execution_count": 315,
   "metadata": {},
   "outputs": [
    {
     "name": "stdout",
     "output_type": "stream",
     "text": [
      "['Markets', 'ShareBasis', 'Products', 'Manufacturer', 'Franchise', 'Brand', 'SubBrand', 'Facts', 'YTD 2021', 'YTD 2020', '4 W/E 02/27/21', '4 W/E 02/29/20']\n"
     ]
    }
   ],
   "source": [
    "Waterfall_Time_Period_PTB=list(Data_5p.columns[0:2])+list(Data_5p.columns[7:8])+list(Data_5p.columns[3:7])+list(Data_5p.columns[8:9])+list(Data_5p.columns[13:15])+list(Data_5p.columns[25:26])+list(Data_5p.columns[37:38])\n",
    "print(Waterfall_Time_Period_PTB)"
   ]
  },
  {
   "cell_type": "markdown",
   "metadata": {},
   "source": [
    "**Facts, Markets, Time_Period Filter**"
   ]
  },
  {
   "cell_type": "code",
   "execution_count": 316,
   "metadata": {},
   "outputs": [],
   "source": [
    "Waterfall_PTB= Waterfall_PTB[Waterfall_PTB[\"Facts\"].isin(Waterfall_Facts)]\n",
    "Waterfall_PTB= Waterfall_PTB[Waterfall_PTB[\"Markets\"].isin(Waterfall_Markets)]\n",
    "Waterfall_PTB=Waterfall_PTB[Waterfall_Time_Period_PTB]"
   ]
  },
  {
   "cell_type": "code",
   "execution_count": 317,
   "metadata": {
    "scrolled": true
   },
   "outputs": [
    {
     "name": "stdout",
     "output_type": "stream",
     "text": [
      "16 16\n"
     ]
    }
   ],
   "source": [
    "print(len(Waterfall_Markets), len(set(Waterfall_PTB[\"Markets\"])))"
   ]
  },
  {
   "cell_type": "code",
   "execution_count": 318,
   "metadata": {},
   "outputs": [
    {
     "data": {
      "text/plain": [
       "set()"
      ]
     },
     "execution_count": 318,
     "metadata": {},
     "output_type": "execute_result"
    }
   ],
   "source": [
    "set(Waterfall_Markets)-set(Waterfall_PTB[\"Markets\"])"
   ]
  },
  {
   "cell_type": "code",
   "execution_count": 319,
   "metadata": {},
   "outputs": [
    {
     "data": {
      "text/plain": [
       "{'AHOLD USA CORP TOTAL CTA',\n",
       " 'ALBSCO Total Company TA',\n",
       " 'CVS TOTAL CORP WO HI CENSUS TA',\n",
       " 'DOL GEN TOTAL CENSUS TA',\n",
       " 'FAMILY DOLLAR TOTAL CENSUS TRADING AREA',\n",
       " 'Kmart Total TA',\n",
       " 'MEIJER TOTAL CENSUS TRADING AREA',\n",
       " 'PUBLIX TOTAL CENSUS TRADING AREA',\n",
       " 'RITE AID - TOTAL CENSUS TA',\n",
       " 'SHOPRITE TOTAL CENSUS TRADING AREA',\n",
       " 'TARGET TOTAL BM/FF CENSUS TA',\n",
       " 'TOTAL US DRUG',\n",
       " 'TOTAL US FOOD',\n",
       " 'TOTAL US XAOC',\n",
       " 'TOTAL WALMART TOTAL US CTA',\n",
       " 'WALGREENS CORP TOTAL CENSUS TA'}"
      ]
     },
     "execution_count": 319,
     "metadata": {},
     "output_type": "execute_result"
    }
   ],
   "source": [
    "set(Waterfall_PTB[\"Markets\"])"
   ]
  },
  {
   "cell_type": "code",
   "execution_count": 320,
   "metadata": {
    "scrolled": true
   },
   "outputs": [
    {
     "data": {
      "text/html": [
       "<div>\n",
       "<style scoped>\n",
       "    .dataframe tbody tr th:only-of-type {\n",
       "        vertical-align: middle;\n",
       "    }\n",
       "\n",
       "    .dataframe tbody tr th {\n",
       "        vertical-align: top;\n",
       "    }\n",
       "\n",
       "    .dataframe thead th {\n",
       "        text-align: right;\n",
       "    }\n",
       "</style>\n",
       "<table border=\"1\" class=\"dataframe\">\n",
       "  <thead>\n",
       "    <tr style=\"text-align: right;\">\n",
       "      <th></th>\n",
       "      <th>Markets</th>\n",
       "      <th>ShareBasis</th>\n",
       "      <th>Products</th>\n",
       "      <th>Manufacturer</th>\n",
       "      <th>Franchise</th>\n",
       "      <th>Brand</th>\n",
       "      <th>SubBrand</th>\n",
       "      <th>Facts</th>\n",
       "      <th>YTD 2021</th>\n",
       "      <th>YTD 2020</th>\n",
       "      <th>4 W/E 02/27/21</th>\n",
       "      <th>4 W/E 02/29/20</th>\n",
       "    </tr>\n",
       "  </thead>\n",
       "  <tbody>\n",
       "    <tr>\n",
       "      <th>520851</th>\n",
       "      <td>MEIJER TOTAL CENSUS TRADING AREA</td>\n",
       "      <td>BATTERY+HYBRID</td>\n",
       "      <td>BATTERY+HYBRID</td>\n",
       "      <td></td>\n",
       "      <td></td>\n",
       "      <td></td>\n",
       "      <td></td>\n",
       "      <td>$</td>\n",
       "      <td>726453.56</td>\n",
       "      <td>681029.84</td>\n",
       "      <td>358640.47</td>\n",
       "      <td>343681.9</td>\n",
       "    </tr>\n",
       "    <tr>\n",
       "      <th>520854</th>\n",
       "      <td>MEIJER TOTAL CENSUS TRADING AREA</td>\n",
       "      <td>BATTERY+HYBRID</td>\n",
       "      <td>BATTERY+HYBRID</td>\n",
       "      <td></td>\n",
       "      <td></td>\n",
       "      <td></td>\n",
       "      <td></td>\n",
       "      <td>$ Shr - CP CATEGORY</td>\n",
       "      <td>100.00</td>\n",
       "      <td>100.00</td>\n",
       "      <td>100.00</td>\n",
       "      <td>100.0</td>\n",
       "    </tr>\n",
       "  </tbody>\n",
       "</table>\n",
       "</div>"
      ],
      "text/plain": [
       "                                 Markets      ShareBasis        Products  \\\n",
       "520851  MEIJER TOTAL CENSUS TRADING AREA  BATTERY+HYBRID  BATTERY+HYBRID   \n",
       "520854  MEIJER TOTAL CENSUS TRADING AREA  BATTERY+HYBRID  BATTERY+HYBRID   \n",
       "\n",
       "       Manufacturer Franchise Brand SubBrand                Facts   YTD 2021  \\\n",
       "520851                                                          $  726453.56   \n",
       "520854                                        $ Shr - CP CATEGORY     100.00   \n",
       "\n",
       "         YTD 2020  4 W/E 02/27/21  4 W/E 02/29/20  \n",
       "520851  681029.84       358640.47        343681.9  \n",
       "520854     100.00          100.00           100.0  "
      ]
     },
     "execution_count": 320,
     "metadata": {},
     "output_type": "execute_result"
    }
   ],
   "source": [
    "Waterfall_PTB.head(2)"
   ]
  },
  {
   "cell_type": "markdown",
   "metadata": {},
   "source": [
    "**Column name Change**"
   ]
  },
  {
   "cell_type": "code",
   "execution_count": 321,
   "metadata": {},
   "outputs": [],
   "source": [
    "Waterfall_PTB.rename(columns={\"Markets\":\"MKT\",\"Products\":\"PROD\",\"Manufacturer\":\"CP.MANUFACTURER\",\"ShareBasis\":\"CP_BATTERY_HYBRID\",\n",
    "                                \"Franchise\":\"CP.FRANCHISE\",\"Brand\":\"CP.BRAND\",\"SubBrand\":\"CP.SUBBRAND\",\"Facts\":\"FCT\"},inplace=True)"
   ]
  },
  {
   "cell_type": "code",
   "execution_count": 322,
   "metadata": {},
   "outputs": [],
   "source": [
    "PTB_power_mapping={\n",
    "    \"POWER\":\"TOTAL POWER\"}\n",
    "Waterfall_PTB[\"CP_BATTERY_HYBRID\"].replace(PTB_power_mapping,inplace=True)"
   ]
  },
  {
   "cell_type": "code",
   "execution_count": 323,
   "metadata": {},
   "outputs": [],
   "source": [
    "Waterfall_PTB[\"CP_SEGMENT\"] = \"POWER\""
   ]
  },
  {
   "cell_type": "code",
   "execution_count": 324,
   "metadata": {},
   "outputs": [
    {
     "name": "stdout",
     "output_type": "stream",
     "text": [
      "13\n",
      "14\n"
     ]
    }
   ],
   "source": [
    "count = 0\n",
    "str = 'FY'\n",
    "for i in Waterfall_PTB.columns:\n",
    "    count +=1\n",
    "print(count)\n",
    "count+=1\n",
    "print(count)"
   ]
  },
  {
   "cell_type": "code",
   "execution_count": 325,
   "metadata": {},
   "outputs": [],
   "source": [
    "# column_names = list(Waterfall_PTB.columns)\n",
    "# column_names.insert(count,\"CP_SHARE_BASIS\")\n",
    "# column_names.pop(-2)\n",
    "# print(column_names)"
   ]
  },
  {
   "cell_type": "code",
   "execution_count": 326,
   "metadata": {},
   "outputs": [
    {
     "data": {
      "text/html": [
       "<div>\n",
       "<style scoped>\n",
       "    .dataframe tbody tr th:only-of-type {\n",
       "        vertical-align: middle;\n",
       "    }\n",
       "\n",
       "    .dataframe tbody tr th {\n",
       "        vertical-align: top;\n",
       "    }\n",
       "\n",
       "    .dataframe thead th {\n",
       "        text-align: right;\n",
       "    }\n",
       "</style>\n",
       "<table border=\"1\" class=\"dataframe\">\n",
       "  <thead>\n",
       "    <tr style=\"text-align: right;\">\n",
       "      <th></th>\n",
       "      <th>MKT</th>\n",
       "      <th>CP_BATTERY_HYBRID</th>\n",
       "      <th>PROD</th>\n",
       "      <th>CP_SEGMENT</th>\n",
       "      <th>CP.MANUFACTURER</th>\n",
       "      <th>CP.FRANCHISE</th>\n",
       "      <th>CP.BRAND</th>\n",
       "      <th>CP.SUBBRAND</th>\n",
       "      <th>FCT</th>\n",
       "      <th>YTD 2021</th>\n",
       "      <th>YTD 2020</th>\n",
       "      <th>4 W/E 02/27/21</th>\n",
       "      <th>4 W/E 02/29/20</th>\n",
       "    </tr>\n",
       "  </thead>\n",
       "  <tbody>\n",
       "    <tr>\n",
       "      <th>520851</th>\n",
       "      <td>MEIJER TOTAL CENSUS TRADING AREA</td>\n",
       "      <td>BATTERY+HYBRID</td>\n",
       "      <td>BATTERY+HYBRID</td>\n",
       "      <td>POWER</td>\n",
       "      <td></td>\n",
       "      <td></td>\n",
       "      <td></td>\n",
       "      <td></td>\n",
       "      <td>$</td>\n",
       "      <td>726453.56</td>\n",
       "      <td>681029.84</td>\n",
       "      <td>358640.47</td>\n",
       "      <td>343681.90</td>\n",
       "    </tr>\n",
       "    <tr>\n",
       "      <th>520854</th>\n",
       "      <td>MEIJER TOTAL CENSUS TRADING AREA</td>\n",
       "      <td>BATTERY+HYBRID</td>\n",
       "      <td>BATTERY+HYBRID</td>\n",
       "      <td>POWER</td>\n",
       "      <td></td>\n",
       "      <td></td>\n",
       "      <td></td>\n",
       "      <td></td>\n",
       "      <td>$ Shr - CP CATEGORY</td>\n",
       "      <td>100.00</td>\n",
       "      <td>100.00</td>\n",
       "      <td>100.00</td>\n",
       "      <td>100.00</td>\n",
       "    </tr>\n",
       "    <tr>\n",
       "      <th>520875</th>\n",
       "      <td>MEIJER TOTAL CENSUS TRADING AREA</td>\n",
       "      <td>BATTERY+HYBRID</td>\n",
       "      <td>BATTERY+HYBRID</td>\n",
       "      <td>POWER</td>\n",
       "      <td></td>\n",
       "      <td></td>\n",
       "      <td></td>\n",
       "      <td></td>\n",
       "      <td>Base $</td>\n",
       "      <td>465692.26</td>\n",
       "      <td>399146.36</td>\n",
       "      <td>219421.96</td>\n",
       "      <td>201014.46</td>\n",
       "    </tr>\n",
       "  </tbody>\n",
       "</table>\n",
       "</div>"
      ],
      "text/plain": [
       "                                     MKT CP_BATTERY_HYBRID            PROD  \\\n",
       "520851  MEIJER TOTAL CENSUS TRADING AREA    BATTERY+HYBRID  BATTERY+HYBRID   \n",
       "520854  MEIJER TOTAL CENSUS TRADING AREA    BATTERY+HYBRID  BATTERY+HYBRID   \n",
       "520875  MEIJER TOTAL CENSUS TRADING AREA    BATTERY+HYBRID  BATTERY+HYBRID   \n",
       "\n",
       "       CP_SEGMENT CP.MANUFACTURER CP.FRANCHISE CP.BRAND CP.SUBBRAND  \\\n",
       "520851      POWER                                                     \n",
       "520854      POWER                                                     \n",
       "520875      POWER                                                     \n",
       "\n",
       "                        FCT   YTD 2021   YTD 2020  4 W/E 02/27/21  \\\n",
       "520851                    $  726453.56  681029.84       358640.47   \n",
       "520854  $ Shr - CP CATEGORY     100.00     100.00          100.00   \n",
       "520875               Base $  465692.26  399146.36       219421.96   \n",
       "\n",
       "        4 W/E 02/29/20  \n",
       "520851       343681.90  \n",
       "520854          100.00  \n",
       "520875       201014.46  "
      ]
     },
     "execution_count": 326,
     "metadata": {},
     "output_type": "execute_result"
    }
   ],
   "source": [
    "Waterfall_PTB = movecol(Waterfall_PTB, \n",
    "             cols_to_move=[\"CP_SEGMENT\"], \n",
    "             ref_col='PROD',\n",
    "             place='After')\n",
    "Waterfall_PTB.head(3)"
   ]
  },
  {
   "cell_type": "code",
   "execution_count": 327,
   "metadata": {},
   "outputs": [
    {
     "data": {
      "text/plain": [
       "Index(['MKT', 'CP_BATTERY_HYBRID', 'PROD', 'CP_SEGMENT', 'CP.MANUFACTURER',\n",
       "       'CP.FRANCHISE', 'CP.BRAND', 'CP.SUBBRAND', 'FCT', 'YTD 2021',\n",
       "       'YTD 2020', '4 W/E 02/27/21', '4 W/E 02/29/20'],\n",
       "      dtype='object')"
      ]
     },
     "execution_count": 327,
     "metadata": {},
     "output_type": "execute_result"
    }
   ],
   "source": [
    "Waterfall_PTB.columns"
   ]
  },
  {
   "cell_type": "code",
   "execution_count": 328,
   "metadata": {},
   "outputs": [
    {
     "data": {
      "text/plain": [
       "Index(['MKT', 'PROD', 'CP_SEGMENT', 'CP.MANUFACTURER', 'CP.FRANCHISE',\n",
       "       'CP.BRAND', 'CP.SUBBRAND', 'FCT', 'YTD 2021', 'YTD 2020',\n",
       "       '4 W/E 02/27/21', '4 W/E 02/29/20', 'CP_BATTERY_HYBRID'],\n",
       "      dtype='object')"
      ]
     },
     "execution_count": 328,
     "metadata": {},
     "output_type": "execute_result"
    }
   ],
   "source": [
    "lst = Waterfall_PTB[\"CP_BATTERY_HYBRID\"]\n",
    "del Waterfall_PTB[\"CP_BATTERY_HYBRID\"]\n",
    "Waterfall_PTB[\"CP_BATTERY_HYBRID\"] = lst\n",
    "Waterfall_PTB.columns"
   ]
  },
  {
   "cell_type": "code",
   "execution_count": 329,
   "metadata": {},
   "outputs": [
    {
     "data": {
      "text/html": [
       "<div>\n",
       "<style scoped>\n",
       "    .dataframe tbody tr th:only-of-type {\n",
       "        vertical-align: middle;\n",
       "    }\n",
       "\n",
       "    .dataframe tbody tr th {\n",
       "        vertical-align: top;\n",
       "    }\n",
       "\n",
       "    .dataframe thead th {\n",
       "        text-align: right;\n",
       "    }\n",
       "</style>\n",
       "<table border=\"1\" class=\"dataframe\">\n",
       "  <thead>\n",
       "    <tr style=\"text-align: right;\">\n",
       "      <th></th>\n",
       "      <th>MKT</th>\n",
       "      <th>PROD</th>\n",
       "      <th>CP_SEGMENT</th>\n",
       "      <th>CP.MANUFACTURER</th>\n",
       "      <th>CP.FRANCHISE</th>\n",
       "      <th>CP.BRAND</th>\n",
       "      <th>CP.SUBBRAND</th>\n",
       "      <th>FCT</th>\n",
       "      <th>YTD 2021</th>\n",
       "      <th>YTD 2020</th>\n",
       "      <th>4 W/E 02/27/21</th>\n",
       "      <th>4 W/E 02/29/20</th>\n",
       "      <th>CP_BATTERY_HYBRID</th>\n",
       "    </tr>\n",
       "  </thead>\n",
       "  <tbody>\n",
       "    <tr>\n",
       "      <th>520851</th>\n",
       "      <td>MEIJER TOTAL CENSUS TRADING AREA</td>\n",
       "      <td>BATTERY+HYBRID</td>\n",
       "      <td>POWER</td>\n",
       "      <td></td>\n",
       "      <td></td>\n",
       "      <td></td>\n",
       "      <td></td>\n",
       "      <td>$</td>\n",
       "      <td>726453.56</td>\n",
       "      <td>681029.84</td>\n",
       "      <td>358640.47</td>\n",
       "      <td>343681.90</td>\n",
       "      <td>BATTERY+HYBRID</td>\n",
       "    </tr>\n",
       "    <tr>\n",
       "      <th>520854</th>\n",
       "      <td>MEIJER TOTAL CENSUS TRADING AREA</td>\n",
       "      <td>BATTERY+HYBRID</td>\n",
       "      <td>POWER</td>\n",
       "      <td></td>\n",
       "      <td></td>\n",
       "      <td></td>\n",
       "      <td></td>\n",
       "      <td>$ Shr - CP CATEGORY</td>\n",
       "      <td>100.00</td>\n",
       "      <td>100.00</td>\n",
       "      <td>100.00</td>\n",
       "      <td>100.00</td>\n",
       "      <td>BATTERY+HYBRID</td>\n",
       "    </tr>\n",
       "    <tr>\n",
       "      <th>520875</th>\n",
       "      <td>MEIJER TOTAL CENSUS TRADING AREA</td>\n",
       "      <td>BATTERY+HYBRID</td>\n",
       "      <td>POWER</td>\n",
       "      <td></td>\n",
       "      <td></td>\n",
       "      <td></td>\n",
       "      <td></td>\n",
       "      <td>Base $</td>\n",
       "      <td>465692.26</td>\n",
       "      <td>399146.36</td>\n",
       "      <td>219421.96</td>\n",
       "      <td>201014.46</td>\n",
       "      <td>BATTERY+HYBRID</td>\n",
       "    </tr>\n",
       "  </tbody>\n",
       "</table>\n",
       "</div>"
      ],
      "text/plain": [
       "                                     MKT            PROD CP_SEGMENT  \\\n",
       "520851  MEIJER TOTAL CENSUS TRADING AREA  BATTERY+HYBRID      POWER   \n",
       "520854  MEIJER TOTAL CENSUS TRADING AREA  BATTERY+HYBRID      POWER   \n",
       "520875  MEIJER TOTAL CENSUS TRADING AREA  BATTERY+HYBRID      POWER   \n",
       "\n",
       "       CP.MANUFACTURER CP.FRANCHISE CP.BRAND CP.SUBBRAND                  FCT  \\\n",
       "520851                                                                      $   \n",
       "520854                                                    $ Shr - CP CATEGORY   \n",
       "520875                                                                 Base $   \n",
       "\n",
       "         YTD 2021   YTD 2020  4 W/E 02/27/21  4 W/E 02/29/20 CP_BATTERY_HYBRID  \n",
       "520851  726453.56  681029.84       358640.47       343681.90    BATTERY+HYBRID  \n",
       "520854     100.00     100.00          100.00          100.00    BATTERY+HYBRID  \n",
       "520875  465692.26  399146.36       219421.96       201014.46    BATTERY+HYBRID  "
      ]
     },
     "execution_count": 329,
     "metadata": {},
     "output_type": "execute_result"
    }
   ],
   "source": [
    "Waterfall_PTB.head(3)"
   ]
  },
  {
   "cell_type": "code",
   "execution_count": 330,
   "metadata": {},
   "outputs": [
    {
     "data": {
      "text/html": [
       "<div>\n",
       "<style scoped>\n",
       "    .dataframe tbody tr th:only-of-type {\n",
       "        vertical-align: middle;\n",
       "    }\n",
       "\n",
       "    .dataframe tbody tr th {\n",
       "        vertical-align: top;\n",
       "    }\n",
       "\n",
       "    .dataframe thead th {\n",
       "        text-align: right;\n",
       "    }\n",
       "</style>\n",
       "<table border=\"1\" class=\"dataframe\">\n",
       "  <thead>\n",
       "    <tr style=\"text-align: right;\">\n",
       "      <th></th>\n",
       "      <th>MKT</th>\n",
       "      <th>PROD</th>\n",
       "      <th>CP_SEGMENT</th>\n",
       "      <th>CP.MANUFACTURER</th>\n",
       "      <th>CP.FRANCHISE</th>\n",
       "      <th>CP.BRAND</th>\n",
       "      <th>CP.SUBBRAND</th>\n",
       "      <th>FCT</th>\n",
       "      <th>YTD 2021</th>\n",
       "      <th>YTD 2020</th>\n",
       "      <th>4 W/E 02/27/21</th>\n",
       "      <th>4 W/E 02/29/20</th>\n",
       "      <th>CP_BATTERY_HYBRID</th>\n",
       "      <th>X</th>\n",
       "    </tr>\n",
       "  </thead>\n",
       "  <tbody>\n",
       "    <tr>\n",
       "      <th>520851</th>\n",
       "      <td>MEIJER TOTAL CENSUS TRADING AREA</td>\n",
       "      <td>BATTERY+HYBRID</td>\n",
       "      <td>POWER</td>\n",
       "      <td></td>\n",
       "      <td></td>\n",
       "      <td></td>\n",
       "      <td></td>\n",
       "      <td>$</td>\n",
       "      <td>726453.560</td>\n",
       "      <td>681029.84</td>\n",
       "      <td>358640.470</td>\n",
       "      <td>343681.90</td>\n",
       "      <td>BATTERY+HYBRID</td>\n",
       "      <td>$</td>\n",
       "    </tr>\n",
       "    <tr>\n",
       "      <th>520854</th>\n",
       "      <td>MEIJER TOTAL CENSUS TRADING AREA</td>\n",
       "      <td>BATTERY+HYBRID</td>\n",
       "      <td>POWER</td>\n",
       "      <td></td>\n",
       "      <td></td>\n",
       "      <td></td>\n",
       "      <td></td>\n",
       "      <td>$ Shr - CP CATEGORY</td>\n",
       "      <td>100.000</td>\n",
       "      <td>100.00</td>\n",
       "      <td>100.000</td>\n",
       "      <td>100.00</td>\n",
       "      <td>BATTERY+HYBRID</td>\n",
       "      <td>Battery+Hybrid $ Share</td>\n",
       "    </tr>\n",
       "    <tr>\n",
       "      <th>520875</th>\n",
       "      <td>MEIJER TOTAL CENSUS TRADING AREA</td>\n",
       "      <td>BATTERY+HYBRID</td>\n",
       "      <td>POWER</td>\n",
       "      <td></td>\n",
       "      <td></td>\n",
       "      <td></td>\n",
       "      <td></td>\n",
       "      <td>Base $</td>\n",
       "      <td>465692.260</td>\n",
       "      <td>399146.36</td>\n",
       "      <td>219421.960</td>\n",
       "      <td>201014.46</td>\n",
       "      <td>BATTERY+HYBRID</td>\n",
       "      <td>Base $</td>\n",
       "    </tr>\n",
       "    <tr>\n",
       "      <th>520908</th>\n",
       "      <td>MEIJER TOTAL CENSUS TRADING AREA</td>\n",
       "      <td>BATTERY+HYBRID | COLGATE-PALMOLIVE</td>\n",
       "      <td>POWER</td>\n",
       "      <td>COLGATE-PALMOLIVE</td>\n",
       "      <td></td>\n",
       "      <td></td>\n",
       "      <td></td>\n",
       "      <td>$</td>\n",
       "      <td>106683.990</td>\n",
       "      <td>153778.54</td>\n",
       "      <td>52393.960</td>\n",
       "      <td>75644.66</td>\n",
       "      <td>BATTERY+HYBRID</td>\n",
       "      <td>$</td>\n",
       "    </tr>\n",
       "    <tr>\n",
       "      <th>520911</th>\n",
       "      <td>MEIJER TOTAL CENSUS TRADING AREA</td>\n",
       "      <td>BATTERY+HYBRID | COLGATE-PALMOLIVE</td>\n",
       "      <td>POWER</td>\n",
       "      <td>COLGATE-PALMOLIVE</td>\n",
       "      <td></td>\n",
       "      <td></td>\n",
       "      <td></td>\n",
       "      <td>$ Shr - CP CATEGORY</td>\n",
       "      <td>14.686</td>\n",
       "      <td>22.58</td>\n",
       "      <td>14.609</td>\n",
       "      <td>22.01</td>\n",
       "      <td>BATTERY+HYBRID</td>\n",
       "      <td>Battery+Hybrid $ Share</td>\n",
       "    </tr>\n",
       "  </tbody>\n",
       "</table>\n",
       "</div>"
      ],
      "text/plain": [
       "                                     MKT                                PROD  \\\n",
       "520851  MEIJER TOTAL CENSUS TRADING AREA                      BATTERY+HYBRID   \n",
       "520854  MEIJER TOTAL CENSUS TRADING AREA                      BATTERY+HYBRID   \n",
       "520875  MEIJER TOTAL CENSUS TRADING AREA                      BATTERY+HYBRID   \n",
       "520908  MEIJER TOTAL CENSUS TRADING AREA  BATTERY+HYBRID | COLGATE-PALMOLIVE   \n",
       "520911  MEIJER TOTAL CENSUS TRADING AREA  BATTERY+HYBRID | COLGATE-PALMOLIVE   \n",
       "\n",
       "       CP_SEGMENT    CP.MANUFACTURER CP.FRANCHISE CP.BRAND CP.SUBBRAND  \\\n",
       "520851      POWER                                                        \n",
       "520854      POWER                                                        \n",
       "520875      POWER                                                        \n",
       "520908      POWER  COLGATE-PALMOLIVE                                     \n",
       "520911      POWER  COLGATE-PALMOLIVE                                     \n",
       "\n",
       "                        FCT    YTD 2021   YTD 2020  4 W/E 02/27/21  \\\n",
       "520851                    $  726453.560  681029.84      358640.470   \n",
       "520854  $ Shr - CP CATEGORY     100.000     100.00         100.000   \n",
       "520875               Base $  465692.260  399146.36      219421.960   \n",
       "520908                    $  106683.990  153778.54       52393.960   \n",
       "520911  $ Shr - CP CATEGORY      14.686      22.58          14.609   \n",
       "\n",
       "        4 W/E 02/29/20 CP_BATTERY_HYBRID                       X  \n",
       "520851       343681.90    BATTERY+HYBRID                       $  \n",
       "520854          100.00    BATTERY+HYBRID  Battery+Hybrid $ Share  \n",
       "520875       201014.46    BATTERY+HYBRID                  Base $  \n",
       "520908        75644.66    BATTERY+HYBRID                       $  \n",
       "520911           22.01    BATTERY+HYBRID  Battery+Hybrid $ Share  "
      ]
     },
     "execution_count": 330,
     "metadata": {},
     "output_type": "execute_result"
    }
   ],
   "source": [
    "Waterfall_PTB[\"X\"] = \"\"\n",
    "for i in range(0,len(Waterfall_PTB)):\n",
    "    if (Waterfall_PTB[\"CP_BATTERY_HYBRID\"].iloc[i] == \"BATTERY+HYBRID\") & (Waterfall_PTB[\"FCT\"].iloc[i] == \"$ Shr - CP CATEGORY\"):\n",
    "        Waterfall_PTB[\"X\"].iloc[i] = \"Battery+Hybrid $ Share\"\n",
    "    elif (Waterfall_PTB[\"CP_BATTERY_HYBRID\"].iloc[i] == \"TOTAL POWER\") & (Waterfall_PTB[\"FCT\"].iloc[i] == \"$ Shr - CP CATEGORY\"):\n",
    "        Waterfall_PTB[\"X\"].iloc[i] = \"Powered $ Share\"\n",
    "    else:\n",
    "        Waterfall_PTB[\"X\"].iloc[i] = Waterfall_PTB[\"FCT\"].iloc[i]\n",
    "    #Waterfall_PTB[\"\"].iloc[i] = Waterfall_PTB[\"SubBrand\"].iloc[i] +\" \"+Waterfall_PTB[\"Container\"].iloc[i]\n",
    "Waterfall_PTB.head(5)"
   ]
  },
  {
   "cell_type": "code",
   "execution_count": 331,
   "metadata": {},
   "outputs": [
    {
     "data": {
      "text/plain": [
       "{'$',\n",
       " 'Base $',\n",
       " 'Battery+Hybrid $ Share',\n",
       " 'Disp w/o Feat $',\n",
       " 'Feat & Disp $',\n",
       " 'Feat w/o Disp $',\n",
       " 'No Promo Incr $',\n",
       " 'Powered $ Share',\n",
       " 'Price Decr Only $'}"
      ]
     },
     "execution_count": 331,
     "metadata": {},
     "output_type": "execute_result"
    }
   ],
   "source": [
    "set(Waterfall_PTB[\"X\"])"
   ]
  },
  {
   "cell_type": "code",
   "execution_count": 332,
   "metadata": {},
   "outputs": [],
   "source": [
    "Waterfall_PTB[\"FCT\"] = Waterfall_PTB[\"X\"]"
   ]
  },
  {
   "cell_type": "code",
   "execution_count": 333,
   "metadata": {},
   "outputs": [],
   "source": [
    "del Waterfall_PTB[\"X\"]"
   ]
  },
  {
   "cell_type": "code",
   "execution_count": 334,
   "metadata": {},
   "outputs": [
    {
     "data": {
      "text/plain": [
       "{'AHOLD USA CORP TOTAL CTA',\n",
       " 'ALBSCO Total Company TA',\n",
       " 'CVS TOTAL CORP WO HI CENSUS TA',\n",
       " 'DOL GEN TOTAL CENSUS TA',\n",
       " 'FAMILY DOLLAR TOTAL CENSUS TRADING AREA',\n",
       " 'Kmart Total TA',\n",
       " 'MEIJER TOTAL CENSUS TRADING AREA',\n",
       " 'PUBLIX TOTAL CENSUS TRADING AREA',\n",
       " 'RITE AID - TOTAL CENSUS TA',\n",
       " 'SHOPRITE TOTAL CENSUS TRADING AREA',\n",
       " 'TARGET TOTAL BM/FF CENSUS TA',\n",
       " 'TOTAL US DRUG',\n",
       " 'TOTAL US FOOD',\n",
       " 'TOTAL US XAOC',\n",
       " 'TOTAL WALMART TOTAL US CTA',\n",
       " 'WALGREENS CORP TOTAL CENSUS TA'}"
      ]
     },
     "execution_count": 334,
     "metadata": {},
     "output_type": "execute_result"
    }
   ],
   "source": [
    "set(Waterfall_PTB[\"MKT\"])"
   ]
  },
  {
   "cell_type": "markdown",
   "metadata": {},
   "source": [
    "**Fact Name Change**"
   ]
  },
  {
   "cell_type": "code",
   "execution_count": 335,
   "metadata": {},
   "outputs": [],
   "source": [
    "Waterfall_PTB[\"FCT\"].replace(Waterfall_Fact_Mapping,inplace=True)"
   ]
  },
  {
   "cell_type": "code",
   "execution_count": 336,
   "metadata": {},
   "outputs": [
    {
     "data": {
      "text/html": [
       "<div>\n",
       "<style scoped>\n",
       "    .dataframe tbody tr th:only-of-type {\n",
       "        vertical-align: middle;\n",
       "    }\n",
       "\n",
       "    .dataframe tbody tr th {\n",
       "        vertical-align: top;\n",
       "    }\n",
       "\n",
       "    .dataframe thead th {\n",
       "        text-align: right;\n",
       "    }\n",
       "</style>\n",
       "<table border=\"1\" class=\"dataframe\">\n",
       "  <thead>\n",
       "    <tr style=\"text-align: right;\">\n",
       "      <th></th>\n",
       "      <th>MKT</th>\n",
       "      <th>PROD</th>\n",
       "      <th>CP_SEGMENT</th>\n",
       "      <th>CP.MANUFACTURER</th>\n",
       "      <th>CP.FRANCHISE</th>\n",
       "      <th>CP.BRAND</th>\n",
       "      <th>CP.SUBBRAND</th>\n",
       "      <th>FCT</th>\n",
       "      <th>YTD 2021</th>\n",
       "      <th>YTD 2020</th>\n",
       "      <th>4 W/E 02/27/21</th>\n",
       "      <th>4 W/E 02/29/20</th>\n",
       "      <th>CP_BATTERY_HYBRID</th>\n",
       "    </tr>\n",
       "  </thead>\n",
       "  <tbody>\n",
       "    <tr>\n",
       "      <th>520851</th>\n",
       "      <td>MEIJER TOTAL CENSUS TRADING AREA</td>\n",
       "      <td>BATTERY+HYBRID</td>\n",
       "      <td>POWER</td>\n",
       "      <td></td>\n",
       "      <td></td>\n",
       "      <td></td>\n",
       "      <td></td>\n",
       "      <td>Dollars</td>\n",
       "      <td>726453.56</td>\n",
       "      <td>681029.84</td>\n",
       "      <td>358640.47</td>\n",
       "      <td>343681.9</td>\n",
       "      <td>BATTERY+HYBRID</td>\n",
       "    </tr>\n",
       "    <tr>\n",
       "      <th>520854</th>\n",
       "      <td>MEIJER TOTAL CENSUS TRADING AREA</td>\n",
       "      <td>BATTERY+HYBRID</td>\n",
       "      <td>POWER</td>\n",
       "      <td></td>\n",
       "      <td></td>\n",
       "      <td></td>\n",
       "      <td></td>\n",
       "      <td>Battery+Hybrid $ Share</td>\n",
       "      <td>100.00</td>\n",
       "      <td>100.00</td>\n",
       "      <td>100.00</td>\n",
       "      <td>100.0</td>\n",
       "      <td>BATTERY+HYBRID</td>\n",
       "    </tr>\n",
       "  </tbody>\n",
       "</table>\n",
       "</div>"
      ],
      "text/plain": [
       "                                     MKT            PROD CP_SEGMENT  \\\n",
       "520851  MEIJER TOTAL CENSUS TRADING AREA  BATTERY+HYBRID      POWER   \n",
       "520854  MEIJER TOTAL CENSUS TRADING AREA  BATTERY+HYBRID      POWER   \n",
       "\n",
       "       CP.MANUFACTURER CP.FRANCHISE CP.BRAND CP.SUBBRAND  \\\n",
       "520851                                                     \n",
       "520854                                                     \n",
       "\n",
       "                           FCT   YTD 2021   YTD 2020  4 W/E 02/27/21  \\\n",
       "520851                 Dollars  726453.56  681029.84       358640.47   \n",
       "520854  Battery+Hybrid $ Share     100.00     100.00          100.00   \n",
       "\n",
       "        4 W/E 02/29/20 CP_BATTERY_HYBRID  \n",
       "520851        343681.9    BATTERY+HYBRID  \n",
       "520854           100.0    BATTERY+HYBRID  "
      ]
     },
     "execution_count": 336,
     "metadata": {},
     "output_type": "execute_result"
    }
   ],
   "source": [
    "Waterfall_PTB.head(2)"
   ]
  },
  {
   "cell_type": "code",
   "execution_count": 337,
   "metadata": {},
   "outputs": [],
   "source": [
    "Fact_order_1 = [\"Baseline $\",\"Incr.$ w/No Promo\",\"Incr.$ w/Ftr w/o Disp\",\"Incr.$ w/Disp w/o Ftr\",\"Incr.$ w/Ftr & Disp\",\n",
    "              \"Incr.$ w/TPR\",\"Dollars\",\"Battery+Hybrid $ Share\",\"Powered $ Share\"]\n",
    "\n",
    "Fact_order = CategoricalDtype(\n",
    "    Fact_order_1, \n",
    "    ordered=True\n",
    ")\n",
    "\n",
    "\n",
    "Waterfall_PTB['FCT'] = Waterfall_PTB['FCT'].astype(Fact_order)\n",
    "\n",
    "Waterfall_PTB.sort_values(['MKT','PROD','FCT'],inplace=True)"
   ]
  },
  {
   "cell_type": "markdown",
   "metadata": {},
   "source": [
    "## **Waterfall_Manu**"
   ]
  },
  {
   "cell_type": "code",
   "execution_count": 338,
   "metadata": {},
   "outputs": [],
   "source": [
    "Waterfall_Manu=Waterfall_PTB.loc[(Waterfall_PTB[\"CP.SUBBRAND\"]==\"\") & (Waterfall_PTB[\"CP.BRAND\"]==\"\")&(Waterfall_PTB[\"CP.FRANCHISE\"]==\"\")&(Waterfall_PTB[\"CP.MANUFACTURER\"]!=\"\")]"
   ]
  },
  {
   "cell_type": "code",
   "execution_count": 339,
   "metadata": {},
   "outputs": [],
   "source": [
    "Waterfall_Manu[\"Record_ID\"]=range(1,len(Waterfall_Manu)+1)"
   ]
  },
  {
   "cell_type": "code",
   "execution_count": 340,
   "metadata": {},
   "outputs": [],
   "source": [
    "Waterfall_Manu.to_csv(path_PTB+\"Waterfall_Manu.csv\",index=False)"
   ]
  },
  {
   "cell_type": "markdown",
   "metadata": {},
   "source": [
    "## **Waterfall_Fran**"
   ]
  },
  {
   "cell_type": "code",
   "execution_count": 341,
   "metadata": {},
   "outputs": [],
   "source": [
    "Waterfall_Fran=Waterfall_PTB.loc[(Waterfall_PTB[\"CP.SUBBRAND\"]==\"\") & (Waterfall_PTB[\"CP.BRAND\"]==\"\")&(Waterfall_PTB[\"CP.FRANCHISE\"]!=\"\")]"
   ]
  },
  {
   "cell_type": "code",
   "execution_count": 342,
   "metadata": {},
   "outputs": [],
   "source": [
    "Waterfall_Fran[\"Record_ID\"]=range(1,len(Waterfall_Fran)+1)"
   ]
  },
  {
   "cell_type": "code",
   "execution_count": 343,
   "metadata": {},
   "outputs": [],
   "source": [
    "Waterfall_Fran.to_csv(path_PTB+\"Waterfall_Fran.csv\",index=False)"
   ]
  },
  {
   "cell_type": "markdown",
   "metadata": {},
   "source": [
    "## **Waterfall_Brand**"
   ]
  },
  {
   "cell_type": "code",
   "execution_count": 344,
   "metadata": {},
   "outputs": [],
   "source": [
    "Waterfall_Brand=Waterfall_PTB.loc[(Waterfall_PTB[\"CP.SUBBRAND\"]==\"\") & (Waterfall_PTB[\"CP.BRAND\"]!=\"\")]"
   ]
  },
  {
   "cell_type": "code",
   "execution_count": 345,
   "metadata": {},
   "outputs": [],
   "source": [
    "Waterfall_Cat=Waterfall_PTB.loc[(Waterfall_PTB[\"CP.SUBBRAND\"]==\"\") & (Waterfall_PTB[\"CP.BRAND\"]==\"\")&(Waterfall_PTB[\"CP.FRANCHISE\"]==\"\")&(Waterfall_PTB[\"CP.MANUFACTURER\"]==\"\")]"
   ]
  },
  {
   "cell_type": "code",
   "execution_count": 346,
   "metadata": {},
   "outputs": [],
   "source": [
    "Waterfall_Cat_Brand=pd.concat([Waterfall_Cat,Waterfall_Brand],axis=0)"
   ]
  },
  {
   "cell_type": "code",
   "execution_count": 347,
   "metadata": {},
   "outputs": [],
   "source": [
    "Waterfall_Cat_Brand['FCT'] = Waterfall_Cat_Brand['FCT'].astype(Fact_order)\n",
    "\n",
    "Waterfall_Cat_Brand.sort_values(['MKT','PROD','FCT'],inplace=True)"
   ]
  },
  {
   "cell_type": "code",
   "execution_count": 348,
   "metadata": {},
   "outputs": [],
   "source": [
    "Waterfall_Cat_Brand[\"Record_ID\"]=range(1,len(Waterfall_Cat_Brand)+1)"
   ]
  },
  {
   "cell_type": "code",
   "execution_count": 349,
   "metadata": {},
   "outputs": [],
   "source": [
    "Waterfall_Cat_Brand.to_csv(path_PTB+\"Waterfall Brand.csv\",index=False)"
   ]
  },
  {
   "cell_type": "markdown",
   "metadata": {},
   "source": [
    "## Waterfall_SubBrand"
   ]
  },
  {
   "cell_type": "code",
   "execution_count": 350,
   "metadata": {},
   "outputs": [],
   "source": [
    "Waterfall_SubBrand=Waterfall_PTB.loc[(Waterfall_PTB[\"CP.SUBBRAND\"]!=\"\")]"
   ]
  },
  {
   "cell_type": "code",
   "execution_count": 351,
   "metadata": {},
   "outputs": [],
   "source": [
    "Waterfall_SubBrand[\"Record_ID\"]=range(1,len(Waterfall_SubBrand)+1)"
   ]
  },
  {
   "cell_type": "code",
   "execution_count": 352,
   "metadata": {},
   "outputs": [],
   "source": [
    "Waterfall_SubBrand.to_csv(path_PTB+\"Waterfall Sub_Brand.csv\",index=False)"
   ]
  },
  {
   "cell_type": "code",
   "execution_count": null,
   "metadata": {},
   "outputs": [],
   "source": []
  },
  {
   "cell_type": "code",
   "execution_count": null,
   "metadata": {},
   "outputs": [],
   "source": []
  },
  {
   "cell_type": "markdown",
   "metadata": {},
   "source": [
    "# BW"
   ]
  },
  {
   "cell_type": "code",
   "execution_count": 353,
   "metadata": {},
   "outputs": [],
   "source": [
    "# path to store OuMWut files\n",
    "\n",
    "path_BW=\"//falmumapp34/Nielsen Connect Transition & Maintenance (20-SCP-3650)/05. Output Data/5P Output/BW/\""
   ]
  },
  {
   "cell_type": "markdown",
   "metadata": {},
   "source": [
    "**Filtering BW Data**"
   ]
  },
  {
   "cell_type": "code",
   "execution_count": 354,
   "metadata": {},
   "outputs": [],
   "source": [
    "Data_5p_BW=Data_5p.loc[Data_5p[\"Category\"]==\"BW\"]"
   ]
  },
  {
   "cell_type": "code",
   "execution_count": null,
   "metadata": {},
   "outputs": [],
   "source": []
  },
  {
   "cell_type": "markdown",
   "metadata": {},
   "source": [
    "## Promotion Data BW"
   ]
  },
  {
   "cell_type": "code",
   "execution_count": 355,
   "metadata": {},
   "outputs": [],
   "source": [
    "BW_Promo= Data_5p_BW.copy()"
   ]
  },
  {
   "cell_type": "code",
   "execution_count": 356,
   "metadata": {},
   "outputs": [
    {
     "data": {
      "text/plain": [
       "set()"
      ]
     },
     "execution_count": 356,
     "metadata": {},
     "output_type": "execute_result"
    }
   ],
   "source": [
    "set(Promo_Facts) - set(BW_Promo['Facts'])\n"
   ]
  },
  {
   "cell_type": "code",
   "execution_count": 357,
   "metadata": {},
   "outputs": [],
   "source": [
    "Promo_Markets=[\"US AOC\",\"Ahold\",\"Alb/Sfy\",\"BJs\",\"CVS\",\"Dollar General\",\"Family Dollar\",\"Meijer\",\"Publix\",\n",
    "         \"Rite Aid\",\"Giant Eagle\",\"Shoprite\",\"Target\",\"US Drug\",\"US Food\",\"Walgreens\",\"Walmart\", \"Kmart\", \"Wegmans\"]"
   ]
  },
  {
   "cell_type": "code",
   "execution_count": 358,
   "metadata": {},
   "outputs": [],
   "source": [
    "# Filter Data based on Promo selection\n",
    "BW_Promo= BW_Promo[BW_Promo[\"Facts\"].isin(Promo_Facts)]\n",
    "BW_Promo= BW_Promo[BW_Promo[\"Markets\"].isin(Promo_Markets)]\n",
    "BW_Promo=BW_Promo[Promo_Time_Period]"
   ]
  },
  {
   "cell_type": "code",
   "execution_count": 359,
   "metadata": {},
   "outputs": [
    {
     "name": "stdout",
     "output_type": "stream",
     "text": [
      "19 19\n"
     ]
    }
   ],
   "source": [
    "print(len(Promo_Markets), len(set(BW_Promo[\"Markets\"])))"
   ]
  },
  {
   "cell_type": "markdown",
   "metadata": {},
   "source": [
    "**Fact Name Change**"
   ]
  },
  {
   "cell_type": "code",
   "execution_count": 360,
   "metadata": {},
   "outputs": [],
   "source": [
    "BW_Promo[\"Facts\"].replace(Promo_Fact_Mapping,inplace=True)"
   ]
  },
  {
   "cell_type": "code",
   "execution_count": 361,
   "metadata": {
    "scrolled": true
   },
   "outputs": [
    {
     "data": {
      "text/plain": [
       "(72120, 26)"
      ]
     },
     "execution_count": 361,
     "metadata": {},
     "output_type": "execute_result"
    }
   ],
   "source": [
    "BW_Promo.shape"
   ]
  },
  {
   "cell_type": "markdown",
   "metadata": {},
   "source": [
    "**Column name Change**"
   ]
  },
  {
   "cell_type": "code",
   "execution_count": 362,
   "metadata": {},
   "outputs": [],
   "source": [
    "BW_Promo.rename(columns={\"Markets\":\"MKT\",\"ShareBasis\":\"CP_CATEGORY\",\"Products\":\"PROD\",\"Manufacturer\":\"CP_MANUFACTURER\",\n",
    "                                \"Franchise\":\"CP_FRANCHISE\",\"Brand\":\"CP_BRAND\",\"SubBrand\":\"CP_SUBBRAND\",\"Facts\":\"FCT\"},inplace=True)"
   ]
  },
  {
   "cell_type": "code",
   "execution_count": 363,
   "metadata": {},
   "outputs": [
    {
     "data": {
      "text/html": [
       "<div>\n",
       "<style scoped>\n",
       "    .dataframe tbody tr th:only-of-type {\n",
       "        vertical-align: middle;\n",
       "    }\n",
       "\n",
       "    .dataframe tbody tr th {\n",
       "        vertical-align: top;\n",
       "    }\n",
       "\n",
       "    .dataframe thead th {\n",
       "        text-align: right;\n",
       "    }\n",
       "</style>\n",
       "<table border=\"1\" class=\"dataframe\">\n",
       "  <thead>\n",
       "    <tr style=\"text-align: right;\">\n",
       "      <th></th>\n",
       "      <th>MKT</th>\n",
       "      <th>PROD</th>\n",
       "      <th>CP_CATEGORY</th>\n",
       "      <th>Category</th>\n",
       "      <th>CP_MANUFACTURER</th>\n",
       "      <th>CP_FRANCHISE</th>\n",
       "      <th>CP_BRAND</th>\n",
       "      <th>CP_SUBBRAND</th>\n",
       "      <th>FCT</th>\n",
       "      <th>4 W/E 02/27/21</th>\n",
       "      <th>...</th>\n",
       "      <th>4 W/E 05/02/20</th>\n",
       "      <th>4 W/E 05/30/20</th>\n",
       "      <th>5 W/E 07/04/20</th>\n",
       "      <th>4 W/E 08/01/20</th>\n",
       "      <th>4 W/E 08/29/20</th>\n",
       "      <th>5 W/E 10/03/20</th>\n",
       "      <th>4 W/E 10/31/20</th>\n",
       "      <th>4 W/E 11/28/20</th>\n",
       "      <th>5 W/E 01/02/21</th>\n",
       "      <th>4 W/E 01/30/21</th>\n",
       "    </tr>\n",
       "  </thead>\n",
       "  <tbody>\n",
       "    <tr>\n",
       "      <th>622295</th>\n",
       "      <td>US AOC</td>\n",
       "      <td>BODYWASH</td>\n",
       "      <td>BODYWASH</td>\n",
       "      <td>BW</td>\n",
       "      <td></td>\n",
       "      <td></td>\n",
       "      <td></td>\n",
       "      <td></td>\n",
       "      <td>% Dollars w/Any Promo</td>\n",
       "      <td>21.791</td>\n",
       "      <td>...</td>\n",
       "      <td>17.865</td>\n",
       "      <td>19.696</td>\n",
       "      <td>21.342</td>\n",
       "      <td>24.515</td>\n",
       "      <td>24.419</td>\n",
       "      <td>22.768</td>\n",
       "      <td>23.297</td>\n",
       "      <td>23.609</td>\n",
       "      <td>21.595</td>\n",
       "      <td>24.920</td>\n",
       "    </tr>\n",
       "    <tr>\n",
       "      <th>622296</th>\n",
       "      <td>US AOC</td>\n",
       "      <td>BODYWASH</td>\n",
       "      <td>BODYWASH</td>\n",
       "      <td>BW</td>\n",
       "      <td></td>\n",
       "      <td></td>\n",
       "      <td></td>\n",
       "      <td></td>\n",
       "      <td>% Dollars w/Any Promo YAG Chg</td>\n",
       "      <td>-6.037</td>\n",
       "      <td>...</td>\n",
       "      <td>-11.510</td>\n",
       "      <td>-12.818</td>\n",
       "      <td>-8.206</td>\n",
       "      <td>-4.487</td>\n",
       "      <td>-4.954</td>\n",
       "      <td>-4.358</td>\n",
       "      <td>-3.331</td>\n",
       "      <td>-4.699</td>\n",
       "      <td>-8.756</td>\n",
       "      <td>-6.345</td>\n",
       "    </tr>\n",
       "  </tbody>\n",
       "</table>\n",
       "<p>2 rows × 26 columns</p>\n",
       "</div>"
      ],
      "text/plain": [
       "           MKT      PROD CP_CATEGORY Category CP_MANUFACTURER CP_FRANCHISE  \\\n",
       "622295  US AOC  BODYWASH    BODYWASH       BW                                \n",
       "622296  US AOC  BODYWASH    BODYWASH       BW                                \n",
       "\n",
       "       CP_BRAND CP_SUBBRAND                            FCT  4 W/E 02/27/21  \\\n",
       "622295                               % Dollars w/Any Promo          21.791   \n",
       "622296                       % Dollars w/Any Promo YAG Chg          -6.037   \n",
       "\n",
       "        ...  4 W/E 05/02/20  4 W/E 05/30/20  5 W/E 07/04/20  4 W/E 08/01/20  \\\n",
       "622295  ...          17.865          19.696          21.342          24.515   \n",
       "622296  ...         -11.510         -12.818          -8.206          -4.487   \n",
       "\n",
       "        4 W/E 08/29/20  5 W/E 10/03/20  4 W/E 10/31/20  4 W/E 11/28/20  \\\n",
       "622295          24.419          22.768          23.297          23.609   \n",
       "622296          -4.954          -4.358          -3.331          -4.699   \n",
       "\n",
       "        5 W/E 01/02/21  4 W/E 01/30/21  \n",
       "622295          21.595          24.920  \n",
       "622296          -8.756          -6.345  \n",
       "\n",
       "[2 rows x 26 columns]"
      ]
     },
     "execution_count": 363,
     "metadata": {},
     "output_type": "execute_result"
    }
   ],
   "source": [
    "BW_Promo.head(2)"
   ]
  },
  {
   "cell_type": "code",
   "execution_count": 364,
   "metadata": {},
   "outputs": [],
   "source": [
    "# del BW_Promo[\"ShareBasis\"]\n",
    "del BW_Promo[\"Category\"]"
   ]
  },
  {
   "cell_type": "code",
   "execution_count": 365,
   "metadata": {},
   "outputs": [],
   "source": [
    "Fact_order = CategoricalDtype(\n",
    "    sorted(list(set(BW_Promo[\"FCT\"]))), \n",
    "    ordered=True\n",
    ")\n",
    "\n",
    "BW_Promo['FCT'] = BW_Promo['FCT'].astype(Fact_order)\n",
    "\n",
    "BW_Promo.sort_values(['MKT','PROD','FCT'],inplace=True)"
   ]
  },
  {
   "cell_type": "markdown",
   "metadata": {},
   "source": [
    "## **promo_category**"
   ]
  },
  {
   "cell_type": "code",
   "execution_count": 366,
   "metadata": {},
   "outputs": [],
   "source": [
    "promo_category=BW_Promo.loc[(BW_Promo[\"CP_SUBBRAND\"]==\"\") & (BW_Promo[\"CP_BRAND\"]==\"\")&(BW_Promo[\"CP_FRANCHISE\"]==\"\")&(BW_Promo[\"CP_MANUFACTURER\"].isin([\"MALE\",\"FEMALE\",\"\"]))]"
   ]
  },
  {
   "cell_type": "code",
   "execution_count": 367,
   "metadata": {},
   "outputs": [],
   "source": [
    "length= len(promo_category)\n",
    "promo_category[\"Record_ID\"]=range(1,length+1)"
   ]
  },
  {
   "cell_type": "code",
   "execution_count": 368,
   "metadata": {},
   "outputs": [
    {
     "data": {
      "text/html": [
       "<div>\n",
       "<style scoped>\n",
       "    .dataframe tbody tr th:only-of-type {\n",
       "        vertical-align: middle;\n",
       "    }\n",
       "\n",
       "    .dataframe tbody tr th {\n",
       "        vertical-align: top;\n",
       "    }\n",
       "\n",
       "    .dataframe thead th {\n",
       "        text-align: right;\n",
       "    }\n",
       "</style>\n",
       "<table border=\"1\" class=\"dataframe\">\n",
       "  <thead>\n",
       "    <tr style=\"text-align: right;\">\n",
       "      <th></th>\n",
       "      <th>MKT</th>\n",
       "      <th>PROD</th>\n",
       "      <th>CP_CATEGORY</th>\n",
       "      <th>CP_MANUFACTURER</th>\n",
       "      <th>CP_FRANCHISE</th>\n",
       "      <th>CP_BRAND</th>\n",
       "      <th>CP_SUBBRAND</th>\n",
       "      <th>FCT</th>\n",
       "      <th>4 W/E 02/27/21</th>\n",
       "      <th>Latest 13 Weeks</th>\n",
       "      <th>...</th>\n",
       "      <th>4 W/E 05/30/20</th>\n",
       "      <th>5 W/E 07/04/20</th>\n",
       "      <th>4 W/E 08/01/20</th>\n",
       "      <th>4 W/E 08/29/20</th>\n",
       "      <th>5 W/E 10/03/20</th>\n",
       "      <th>4 W/E 10/31/20</th>\n",
       "      <th>4 W/E 11/28/20</th>\n",
       "      <th>5 W/E 01/02/21</th>\n",
       "      <th>4 W/E 01/30/21</th>\n",
       "      <th>Record_ID</th>\n",
       "    </tr>\n",
       "  </thead>\n",
       "  <tbody>\n",
       "    <tr>\n",
       "      <th>757793</th>\n",
       "      <td>Ahold</td>\n",
       "      <td>BODYWASH</td>\n",
       "      <td>BODYWASH</td>\n",
       "      <td></td>\n",
       "      <td></td>\n",
       "      <td></td>\n",
       "      <td></td>\n",
       "      <td>$ Share</td>\n",
       "      <td>100.0</td>\n",
       "      <td>100.0</td>\n",
       "      <td>...</td>\n",
       "      <td>100.0</td>\n",
       "      <td>100.0</td>\n",
       "      <td>100.0</td>\n",
       "      <td>100.0</td>\n",
       "      <td>100.0</td>\n",
       "      <td>100.0</td>\n",
       "      <td>100.0</td>\n",
       "      <td>100.0</td>\n",
       "      <td>100.0</td>\n",
       "      <td>1</td>\n",
       "    </tr>\n",
       "    <tr>\n",
       "      <th>757794</th>\n",
       "      <td>Ahold</td>\n",
       "      <td>BODYWASH</td>\n",
       "      <td>BODYWASH</td>\n",
       "      <td></td>\n",
       "      <td></td>\n",
       "      <td></td>\n",
       "      <td></td>\n",
       "      <td>$ Share YAG Chg</td>\n",
       "      <td>0.0</td>\n",
       "      <td>0.0</td>\n",
       "      <td>...</td>\n",
       "      <td>0.0</td>\n",
       "      <td>0.0</td>\n",
       "      <td>0.0</td>\n",
       "      <td>0.0</td>\n",
       "      <td>0.0</td>\n",
       "      <td>0.0</td>\n",
       "      <td>0.0</td>\n",
       "      <td>0.0</td>\n",
       "      <td>0.0</td>\n",
       "      <td>2</td>\n",
       "    </tr>\n",
       "  </tbody>\n",
       "</table>\n",
       "<p>2 rows × 26 columns</p>\n",
       "</div>"
      ],
      "text/plain": [
       "          MKT      PROD CP_CATEGORY CP_MANUFACTURER CP_FRANCHISE CP_BRAND  \\\n",
       "757793  Ahold  BODYWASH    BODYWASH                                         \n",
       "757794  Ahold  BODYWASH    BODYWASH                                         \n",
       "\n",
       "       CP_SUBBRAND              FCT  4 W/E 02/27/21  Latest 13 Weeks  ...  \\\n",
       "757793                      $ Share           100.0            100.0  ...   \n",
       "757794              $ Share YAG Chg             0.0              0.0  ...   \n",
       "\n",
       "        4 W/E 05/30/20  5 W/E 07/04/20  4 W/E 08/01/20  4 W/E 08/29/20  \\\n",
       "757793           100.0           100.0           100.0           100.0   \n",
       "757794             0.0             0.0             0.0             0.0   \n",
       "\n",
       "        5 W/E 10/03/20  4 W/E 10/31/20  4 W/E 11/28/20  5 W/E 01/02/21  \\\n",
       "757793           100.0           100.0           100.0           100.0   \n",
       "757794             0.0             0.0             0.0             0.0   \n",
       "\n",
       "        4 W/E 01/30/21  Record_ID  \n",
       "757793           100.0          1  \n",
       "757794             0.0          2  \n",
       "\n",
       "[2 rows x 26 columns]"
      ]
     },
     "execution_count": 368,
     "metadata": {},
     "output_type": "execute_result"
    }
   ],
   "source": [
    "promo_category.head(2)"
   ]
  },
  {
   "cell_type": "code",
   "execution_count": 369,
   "metadata": {},
   "outputs": [],
   "source": [
    "promo_category.to_csv(path_BW+\"promo_category.csv\",index=False)"
   ]
  },
  {
   "cell_type": "markdown",
   "metadata": {},
   "source": [
    "## **promo_toplevel**"
   ]
  },
  {
   "cell_type": "code",
   "execution_count": 370,
   "metadata": {},
   "outputs": [],
   "source": [
    "promo_toplevel=BW_Promo.loc[(BW_Promo[\"CP_SUBBRAND\"]==\"\") & (BW_Promo[\"CP_BRAND\"]==\"\")&(BW_Promo[\"CP_FRANCHISE\"]==\"\")&(BW_Promo[\"CP_MANUFACTURER\"]!=\"\")]"
   ]
  },
  {
   "cell_type": "code",
   "execution_count": 371,
   "metadata": {},
   "outputs": [],
   "source": [
    "# Blank row 0th position\n",
    "df1=pd.DataFrame([[np.nan]*len(promo_toplevel.columns)],columns=promo_toplevel.columns)\n",
    "promo_toplevel=df1.append(promo_toplevel,ignore_index=True)"
   ]
  },
  {
   "cell_type": "code",
   "execution_count": 372,
   "metadata": {},
   "outputs": [],
   "source": [
    "length= len(promo_toplevel)\n",
    "promo_toplevel[\"Record_ID\"]=range(1,length+1)"
   ]
  },
  {
   "cell_type": "code",
   "execution_count": 373,
   "metadata": {},
   "outputs": [],
   "source": [
    "promo_toplevel.to_csv(path_BW+\"promo_toplevel.csv\",index=False)"
   ]
  },
  {
   "cell_type": "markdown",
   "metadata": {},
   "source": [
    "## **promo_franchise**"
   ]
  },
  {
   "cell_type": "code",
   "execution_count": 374,
   "metadata": {},
   "outputs": [],
   "source": [
    "promo_franchise=BW_Promo.loc[(BW_Promo[\"CP_SUBBRAND\"]==\"\") & (BW_Promo[\"CP_BRAND\"]==\"\")&(BW_Promo[\"CP_FRANCHISE\"]!=\"\")]"
   ]
  },
  {
   "cell_type": "code",
   "execution_count": 375,
   "metadata": {},
   "outputs": [],
   "source": [
    "length= len(promo_franchise)\n",
    "promo_franchise[\"Record_ID\"]=range(1,length+1)"
   ]
  },
  {
   "cell_type": "code",
   "execution_count": 376,
   "metadata": {},
   "outputs": [],
   "source": [
    "promo_franchise.to_csv(path_BW+\"promo_franchise.csv\",index=False)"
   ]
  },
  {
   "cell_type": "markdown",
   "metadata": {},
   "source": [
    "## **promo_brand_promo**"
   ]
  },
  {
   "cell_type": "code",
   "execution_count": 377,
   "metadata": {},
   "outputs": [],
   "source": [
    "promo_brand_promo=BW_Promo.loc[(BW_Promo[\"CP_SUBBRAND\"]==\"\") & (BW_Promo[\"CP_BRAND\"]!=\"\")]"
   ]
  },
  {
   "cell_type": "code",
   "execution_count": 378,
   "metadata": {},
   "outputs": [],
   "source": [
    "length= len(promo_brand_promo)\n",
    "promo_brand_promo[\"Record_ID\"]=range(1,length+1)"
   ]
  },
  {
   "cell_type": "code",
   "execution_count": 379,
   "metadata": {},
   "outputs": [],
   "source": [
    "promo_brand_promo.to_csv(path_BW+\"promo_brand_promo.csv\",index=False)"
   ]
  },
  {
   "cell_type": "markdown",
   "metadata": {},
   "source": [
    "## **promo_subbrand_promo**"
   ]
  },
  {
   "cell_type": "code",
   "execution_count": 380,
   "metadata": {},
   "outputs": [],
   "source": [
    "promo_subbrand_promo=BW_Promo.loc[(BW_Promo[\"CP_SUBBRAND\"]!=\"\")]"
   ]
  },
  {
   "cell_type": "code",
   "execution_count": 381,
   "metadata": {},
   "outputs": [],
   "source": [
    "length= len(promo_subbrand_promo)\n",
    "promo_subbrand_promo[\"Record_ID\"]=range(1,length+1)"
   ]
  },
  {
   "cell_type": "code",
   "execution_count": 382,
   "metadata": {},
   "outputs": [],
   "source": [
    "promo_subbrand_promo.to_csv(path_BW+\"promo_subbrand_promo.csv\",index=False)"
   ]
  },
  {
   "cell_type": "code",
   "execution_count": null,
   "metadata": {},
   "outputs": [],
   "source": []
  },
  {
   "cell_type": "markdown",
   "metadata": {},
   "source": [
    "## Waterfall"
   ]
  },
  {
   "cell_type": "code",
   "execution_count": 383,
   "metadata": {},
   "outputs": [],
   "source": [
    "Waterfall_BW=Data_5p_BW.copy()"
   ]
  },
  {
   "cell_type": "code",
   "execution_count": 384,
   "metadata": {},
   "outputs": [],
   "source": [
    "Waterfall_Markets = [\"Ahold\",\"Alb/Sfy\",\"BJs\",\"CVS\",\"Dollar General\",\"Family Dollar\",\"Giant Eagle\",\"Kmart\",\"Meijer\",\"Publix\",\"Rite Aid\",\"Shoprite\",\"Target\",\"US AOC\",\"US Drug\",\"US Food\",\"Walgreens\",\"Walmart\",\"Wegmans\"]"
   ]
  },
  {
   "cell_type": "code",
   "execution_count": 385,
   "metadata": {},
   "outputs": [],
   "source": [
    "Waterfall_Fact_Mapping={\n",
    "    \"No Promo Incr $\":\"Incr.$ w/No Promo\",\n",
    "    \"Feat w/o Disp $\":\"Incr.$ w/Ftr w/o Disp\",\n",
    "    \"Disp w/o Feat $\":\"Incr.$ w/Disp w/o Ftr\",\n",
    "    \"Feat & Disp $\":\"Incr.$ w/Ftr & Disp\",\n",
    "    \"Price Decr Only $\":\"Incr.$ w/TPR\",\n",
    "    \"$\":\"Dollars\",\n",
    "    \"$ Shr - CP CATEGORY\":\"Bodywash $ Share\",\n",
    "    \"Base $\":\"Baseline $\"\n",
    "}"
   ]
  },
  {
   "cell_type": "markdown",
   "metadata": {},
   "source": [
    "**Facts, Markets, Time_Period Filter**"
   ]
  },
  {
   "cell_type": "code",
   "execution_count": 386,
   "metadata": {},
   "outputs": [],
   "source": [
    "Waterfall_BW= Waterfall_BW[Waterfall_BW[\"Facts\"].isin(Waterfall_Facts)]\n",
    "Waterfall_BW= Waterfall_BW[Waterfall_BW[\"Markets\"].isin(Waterfall_Markets)]\n",
    "Waterfall_BW=Waterfall_BW[Waterfall_Time_Period]"
   ]
  },
  {
   "cell_type": "markdown",
   "metadata": {},
   "source": [
    "**Market Mapping**"
   ]
  },
  {
   "cell_type": "code",
   "execution_count": 387,
   "metadata": {},
   "outputs": [],
   "source": [
    "Waterfall_BW[\"Markets\"].replace(Waterfall_Market_Mapping,inplace=True)"
   ]
  },
  {
   "cell_type": "code",
   "execution_count": 388,
   "metadata": {},
   "outputs": [
    {
     "name": "stdout",
     "output_type": "stream",
     "text": [
      "19 19\n"
     ]
    }
   ],
   "source": [
    "print(len(Waterfall_Markets), len(set(Waterfall_BW[\"Markets\"])))"
   ]
  },
  {
   "cell_type": "code",
   "execution_count": 389,
   "metadata": {
    "scrolled": true
   },
   "outputs": [
    {
     "data": {
      "text/plain": [
       "{'AHOLD USA CORP TOTAL CTA',\n",
       " 'ALBSCO Total Company TA',\n",
       " 'BJS TOTAL CENSUS TA',\n",
       " 'CVS TOTAL CORP WO HI CENSUS TA',\n",
       " 'DOL GEN TOTAL CENSUS TA',\n",
       " 'FAMILY DOLLAR TOTAL CENSUS TRADING AREA',\n",
       " 'Giant Eagle Total TA',\n",
       " 'Kmart Total TA',\n",
       " 'MEIJER TOTAL CENSUS TRADING AREA',\n",
       " 'PUBLIX TOTAL CENSUS TRADING AREA',\n",
       " 'RITE AID - TOTAL CENSUS TA',\n",
       " 'SHOPRITE TOTAL CENSUS TRADING AREA',\n",
       " 'TARGET TOTAL BM/FF CENSUS TA',\n",
       " 'TOTAL US DRUG',\n",
       " 'TOTAL US FOOD',\n",
       " 'TOTAL US XAOC',\n",
       " 'TOTAL WALMART TOTAL US CTA',\n",
       " 'WALGREENS CORP TOTAL CENSUS TA',\n",
       " 'Wegmans Total TA'}"
      ]
     },
     "execution_count": 389,
     "metadata": {},
     "output_type": "execute_result"
    }
   ],
   "source": [
    "set(Waterfall_BW[\"Markets\"])"
   ]
  },
  {
   "cell_type": "markdown",
   "metadata": {},
   "source": [
    "**Column name Change**"
   ]
  },
  {
   "cell_type": "code",
   "execution_count": 390,
   "metadata": {},
   "outputs": [],
   "source": [
    "Waterfall_BW.rename(columns={\"Markets\":\"MKT\",\"Products\":\"PROD\",\"Manufacturer\":\"CP.MANUFACTURER\",\n",
    "                                \"Franchise\":\"CP.FRANCHISE\",\"Brand\":\"CP.BRAND\",\"SubBrand\":\"CP.SUBBRAND\",\"Facts\":\"FCT\"},inplace=True)"
   ]
  },
  {
   "cell_type": "markdown",
   "metadata": {},
   "source": [
    "**Fact Name Change**"
   ]
  },
  {
   "cell_type": "code",
   "execution_count": 391,
   "metadata": {},
   "outputs": [],
   "source": [
    "Waterfall_BW[\"FCT\"].replace(Waterfall_Fact_Mapping,inplace=True)"
   ]
  },
  {
   "cell_type": "code",
   "execution_count": 392,
   "metadata": {},
   "outputs": [
    {
     "data": {
      "text/plain": [
       "{'Baseline $',\n",
       " 'Bodywash $ Share',\n",
       " 'Dollars',\n",
       " 'Incr.$ w/Disp w/o Ftr',\n",
       " 'Incr.$ w/Ftr & Disp',\n",
       " 'Incr.$ w/Ftr w/o Disp',\n",
       " 'Incr.$ w/No Promo',\n",
       " 'Incr.$ w/TPR'}"
      ]
     },
     "execution_count": 392,
     "metadata": {},
     "output_type": "execute_result"
    }
   ],
   "source": [
    "set(Waterfall_BW[\"FCT\"])"
   ]
  },
  {
   "cell_type": "code",
   "execution_count": 393,
   "metadata": {},
   "outputs": [
    {
     "data": {
      "text/html": [
       "<div>\n",
       "<style scoped>\n",
       "    .dataframe tbody tr th:only-of-type {\n",
       "        vertical-align: middle;\n",
       "    }\n",
       "\n",
       "    .dataframe tbody tr th {\n",
       "        vertical-align: top;\n",
       "    }\n",
       "\n",
       "    .dataframe thead th {\n",
       "        text-align: right;\n",
       "    }\n",
       "</style>\n",
       "<table border=\"1\" class=\"dataframe\">\n",
       "  <thead>\n",
       "    <tr style=\"text-align: right;\">\n",
       "      <th></th>\n",
       "      <th>MKT</th>\n",
       "      <th>PROD</th>\n",
       "      <th>CP.MANUFACTURER</th>\n",
       "      <th>CP.FRANCHISE</th>\n",
       "      <th>CP.BRAND</th>\n",
       "      <th>CP.SUBBRAND</th>\n",
       "      <th>FCT</th>\n",
       "      <th>YTD 2021</th>\n",
       "      <th>YTD 2020</th>\n",
       "      <th>4 W/E 02/27/21</th>\n",
       "      <th>4 W/E 02/29/20</th>\n",
       "    </tr>\n",
       "  </thead>\n",
       "  <tbody>\n",
       "    <tr>\n",
       "      <th>622301</th>\n",
       "      <td>TOTAL US XAOC</td>\n",
       "      <td>BODYWASH</td>\n",
       "      <td></td>\n",
       "      <td></td>\n",
       "      <td></td>\n",
       "      <td></td>\n",
       "      <td>Dollars</td>\n",
       "      <td>4.086469e+08</td>\n",
       "      <td>3.864052e+08</td>\n",
       "      <td>2.026828e+08</td>\n",
       "      <td>2.022988e+08</td>\n",
       "    </tr>\n",
       "    <tr>\n",
       "      <th>622304</th>\n",
       "      <td>TOTAL US XAOC</td>\n",
       "      <td>BODYWASH</td>\n",
       "      <td></td>\n",
       "      <td></td>\n",
       "      <td></td>\n",
       "      <td></td>\n",
       "      <td>Bodywash $ Share</td>\n",
       "      <td>1.000000e+02</td>\n",
       "      <td>1.000000e+02</td>\n",
       "      <td>1.000000e+02</td>\n",
       "      <td>1.000000e+02</td>\n",
       "    </tr>\n",
       "  </tbody>\n",
       "</table>\n",
       "</div>"
      ],
      "text/plain": [
       "                  MKT      PROD CP.MANUFACTURER CP.FRANCHISE CP.BRAND  \\\n",
       "622301  TOTAL US XAOC  BODYWASH                                         \n",
       "622304  TOTAL US XAOC  BODYWASH                                         \n",
       "\n",
       "       CP.SUBBRAND               FCT      YTD 2021      YTD 2020  \\\n",
       "622301                       Dollars  4.086469e+08  3.864052e+08   \n",
       "622304              Bodywash $ Share  1.000000e+02  1.000000e+02   \n",
       "\n",
       "        4 W/E 02/27/21  4 W/E 02/29/20  \n",
       "622301    2.026828e+08    2.022988e+08  \n",
       "622304    1.000000e+02    1.000000e+02  "
      ]
     },
     "execution_count": 393,
     "metadata": {},
     "output_type": "execute_result"
    }
   ],
   "source": [
    "Waterfall_BW.head(2)"
   ]
  },
  {
   "cell_type": "code",
   "execution_count": 394,
   "metadata": {},
   "outputs": [],
   "source": [
    "Fact_order_1 = [\"Baseline $\",\"Incr.$ w/No Promo\",\"Incr.$ w/Ftr w/o Disp\",\"Incr.$ w/Disp w/o Ftr\",\"Incr.$ w/Ftr & Disp\",\n",
    "              \"Incr.$ w/TPR\",\"Dollars\",\"Bodywash $ Share\"]\n",
    "\n",
    "Fact_order = CategoricalDtype(\n",
    "    Fact_order_1, \n",
    "    ordered=True\n",
    ")\n",
    "\n",
    "\n",
    "Waterfall_BW['FCT'] = Waterfall_BW['FCT'].astype(Fact_order)\n",
    "\n",
    "Waterfall_BW.sort_values(['MKT','PROD','FCT'],inplace=True)"
   ]
  },
  {
   "cell_type": "markdown",
   "metadata": {},
   "source": [
    "## **Waterfall_Manu**"
   ]
  },
  {
   "cell_type": "code",
   "execution_count": 395,
   "metadata": {},
   "outputs": [],
   "source": [
    "Waterfall_Manu=Waterfall_BW.loc[(Waterfall_BW[\"CP.SUBBRAND\"]==\"\") & (Waterfall_BW[\"CP.BRAND\"]==\"\")&(Waterfall_BW[\"CP.FRANCHISE\"]==\"\")&(Waterfall_BW[\"CP.MANUFACTURER\"]!=\"\")]"
   ]
  },
  {
   "cell_type": "code",
   "execution_count": 396,
   "metadata": {},
   "outputs": [],
   "source": [
    "Waterfall_Manu[\"Record_ID\"]=range(1,len(Waterfall_Manu)+1)"
   ]
  },
  {
   "cell_type": "code",
   "execution_count": 397,
   "metadata": {},
   "outputs": [],
   "source": [
    "Waterfall_Manu.to_csv(path_BW+\"Waterfall_Manu.csv\",index=False)"
   ]
  },
  {
   "cell_type": "markdown",
   "metadata": {},
   "source": [
    "## **Waterfall_Fran**"
   ]
  },
  {
   "cell_type": "code",
   "execution_count": 398,
   "metadata": {},
   "outputs": [],
   "source": [
    "Waterfall_Fran=Waterfall_BW.loc[(Waterfall_BW[\"CP.SUBBRAND\"]==\"\") & (Waterfall_BW[\"CP.BRAND\"]==\"\")&(Waterfall_BW[\"CP.FRANCHISE\"]!=\"\")]"
   ]
  },
  {
   "cell_type": "code",
   "execution_count": 399,
   "metadata": {},
   "outputs": [],
   "source": [
    "Waterfall_Fran[\"Record_ID\"]=range(1,len(Waterfall_Fran)+1)"
   ]
  },
  {
   "cell_type": "code",
   "execution_count": 400,
   "metadata": {},
   "outputs": [],
   "source": [
    "Waterfall_Fran.to_csv(path_BW+\"Waterfall_Fran.csv\",index=False)"
   ]
  },
  {
   "cell_type": "markdown",
   "metadata": {},
   "source": [
    "## **Waterfall_Brand**"
   ]
  },
  {
   "cell_type": "code",
   "execution_count": 401,
   "metadata": {},
   "outputs": [],
   "source": [
    "Waterfall_Brand=Waterfall_BW.loc[(Waterfall_BW[\"CP.SUBBRAND\"]==\"\") & (Waterfall_BW[\"CP.BRAND\"]!=\"\")]"
   ]
  },
  {
   "cell_type": "code",
   "execution_count": 402,
   "metadata": {},
   "outputs": [],
   "source": [
    "Waterfall_Cat=Waterfall_BW.loc[(Waterfall_BW[\"CP.SUBBRAND\"]==\"\") & (Waterfall_BW[\"CP.BRAND\"]==\"\")&(Waterfall_BW[\"CP.FRANCHISE\"]==\"\")&(Waterfall_BW[\"CP.MANUFACTURER\"]==\"\")]"
   ]
  },
  {
   "cell_type": "code",
   "execution_count": 403,
   "metadata": {},
   "outputs": [],
   "source": [
    "Waterfall_Cat_Brand=pd.concat([Waterfall_Cat,Waterfall_Brand],axis=0)"
   ]
  },
  {
   "cell_type": "code",
   "execution_count": 404,
   "metadata": {},
   "outputs": [],
   "source": [
    "Waterfall_Cat_Brand['FCT'] = Waterfall_Cat_Brand['FCT'].astype(Fact_order)\n",
    "\n",
    "Waterfall_Cat_Brand.sort_values(['MKT','PROD','FCT'],inplace=True)"
   ]
  },
  {
   "cell_type": "code",
   "execution_count": 405,
   "metadata": {},
   "outputs": [],
   "source": [
    "Waterfall_Cat_Brand[\"Record_ID\"]=range(1,len(Waterfall_Cat_Brand)+1)"
   ]
  },
  {
   "cell_type": "code",
   "execution_count": 406,
   "metadata": {},
   "outputs": [],
   "source": [
    "Waterfall_Cat_Brand.to_csv(path_BW+\"Waterfall Brand.csv\",index=False)"
   ]
  },
  {
   "cell_type": "markdown",
   "metadata": {},
   "source": [
    "## Waterfall_SubBrand"
   ]
  },
  {
   "cell_type": "code",
   "execution_count": 407,
   "metadata": {},
   "outputs": [],
   "source": [
    "Waterfall_SubBrand=Waterfall_BW.loc[(Waterfall_BW[\"CP.SUBBRAND\"]!=\"\")]"
   ]
  },
  {
   "cell_type": "code",
   "execution_count": 408,
   "metadata": {},
   "outputs": [],
   "source": [
    "Waterfall_SubBrand[\"Record_ID\"]=range(1,len(Waterfall_SubBrand)+1)"
   ]
  },
  {
   "cell_type": "code",
   "execution_count": 409,
   "metadata": {},
   "outputs": [],
   "source": [
    "Waterfall_SubBrand.to_csv(path_BW+\"Waterfall Sub_Brand.csv\",index=False)"
   ]
  },
  {
   "cell_type": "code",
   "execution_count": null,
   "metadata": {},
   "outputs": [],
   "source": []
  },
  {
   "cell_type": "code",
   "execution_count": null,
   "metadata": {},
   "outputs": [],
   "source": []
  },
  {
   "cell_type": "markdown",
   "metadata": {},
   "source": [
    "# BAR"
   ]
  },
  {
   "cell_type": "code",
   "execution_count": 410,
   "metadata": {},
   "outputs": [],
   "source": [
    "# path to store OuMWut files\n",
    "\n",
    "path_BAR=\"//falmumapp34/Nielsen Connect Transition & Maintenance (20-SCP-3650)/05. Output Data/5P Output/BAR/\""
   ]
  },
  {
   "cell_type": "markdown",
   "metadata": {},
   "source": [
    "**Filtering MW Data**"
   ]
  },
  {
   "cell_type": "code",
   "execution_count": 411,
   "metadata": {},
   "outputs": [],
   "source": [
    "Data_5p_BAR=Data_5p.loc[Data_5p[\"Category\"]==\"BAR\"]"
   ]
  },
  {
   "cell_type": "code",
   "execution_count": null,
   "metadata": {},
   "outputs": [],
   "source": []
  },
  {
   "cell_type": "markdown",
   "metadata": {},
   "source": [
    "## Promotion Data BAR"
   ]
  },
  {
   "cell_type": "code",
   "execution_count": 412,
   "metadata": {},
   "outputs": [],
   "source": [
    "BAR_Promo= Data_5p_BAR.copy()"
   ]
  },
  {
   "cell_type": "code",
   "execution_count": 413,
   "metadata": {},
   "outputs": [
    {
     "data": {
      "text/plain": [
       "set()"
      ]
     },
     "execution_count": 413,
     "metadata": {},
     "output_type": "execute_result"
    }
   ],
   "source": [
    "set(Promo_Facts) - set(BAR_Promo['Facts'])\n"
   ]
  },
  {
   "cell_type": "code",
   "execution_count": 414,
   "metadata": {},
   "outputs": [],
   "source": [
    "Promo_Markets=[\"US AOC\",\"Ahold\",\"Alb/Sfy\",\"BJs\",\"CVS\",\"Dollar General\",\"Family Dollar\",\"Publix\",\n",
    "         \"Rite Aid\",\"Sams\",\"Shoprite\",\"Target\",\"US Drug\",\"US Food\",\"Walgreens\",\"Walmart\", \"Kmart\"]"
   ]
  },
  {
   "cell_type": "code",
   "execution_count": 415,
   "metadata": {},
   "outputs": [],
   "source": [
    "# Filter Data based on Promo selection\n",
    "BAR_Promo= BAR_Promo[BAR_Promo[\"Facts\"].isin(Promo_Facts)]\n",
    "BAR_Promo= BAR_Promo[BAR_Promo[\"Markets\"].isin(Promo_Markets)]\n",
    "BAR_Promo=BAR_Promo[Promo_Time_Period]"
   ]
  },
  {
   "cell_type": "code",
   "execution_count": 416,
   "metadata": {},
   "outputs": [
    {
     "name": "stdout",
     "output_type": "stream",
     "text": [
      "17 17\n"
     ]
    }
   ],
   "source": [
    "print(len(Promo_Markets), len(set(BAR_Promo[\"Markets\"])))"
   ]
  },
  {
   "cell_type": "markdown",
   "metadata": {},
   "source": [
    "**Fact Name Change**"
   ]
  },
  {
   "cell_type": "code",
   "execution_count": 417,
   "metadata": {},
   "outputs": [],
   "source": [
    "BAR_Promo[\"Facts\"].replace(Promo_Fact_Mapping,inplace=True)"
   ]
  },
  {
   "cell_type": "code",
   "execution_count": 418,
   "metadata": {
    "scrolled": true
   },
   "outputs": [
    {
     "data": {
      "text/plain": [
       "(32100, 26)"
      ]
     },
     "execution_count": 418,
     "metadata": {},
     "output_type": "execute_result"
    }
   ],
   "source": [
    "BAR_Promo.shape"
   ]
  },
  {
   "cell_type": "markdown",
   "metadata": {},
   "source": [
    "**Column name Change**"
   ]
  },
  {
   "cell_type": "code",
   "execution_count": 419,
   "metadata": {},
   "outputs": [],
   "source": [
    "BAR_Promo.rename(columns={\"Markets\":\"MKT\",\"ShareBasis\":\"CP_CATEGORY\",\"Products\":\"PROD\",\"Manufacturer\":\"CP_MANUFACTURER\",\n",
    "                                \"Franchise\":\"CP_FRANCHISE\",\"Brand\":\"CP_BRAND\",\"SubBrand\":\"CP_SUBBRAND\",\"Facts\":\"FCT\"},inplace=True)"
   ]
  },
  {
   "cell_type": "code",
   "execution_count": 420,
   "metadata": {},
   "outputs": [
    {
     "data": {
      "text/html": [
       "<div>\n",
       "<style scoped>\n",
       "    .dataframe tbody tr th:only-of-type {\n",
       "        vertical-align: middle;\n",
       "    }\n",
       "\n",
       "    .dataframe tbody tr th {\n",
       "        vertical-align: top;\n",
       "    }\n",
       "\n",
       "    .dataframe thead th {\n",
       "        text-align: right;\n",
       "    }\n",
       "</style>\n",
       "<table border=\"1\" class=\"dataframe\">\n",
       "  <thead>\n",
       "    <tr style=\"text-align: right;\">\n",
       "      <th></th>\n",
       "      <th>MKT</th>\n",
       "      <th>PROD</th>\n",
       "      <th>CP_CATEGORY</th>\n",
       "      <th>Category</th>\n",
       "      <th>CP_MANUFACTURER</th>\n",
       "      <th>CP_FRANCHISE</th>\n",
       "      <th>CP_BRAND</th>\n",
       "      <th>CP_SUBBRAND</th>\n",
       "      <th>FCT</th>\n",
       "      <th>4 W/E 02/27/21</th>\n",
       "      <th>...</th>\n",
       "      <th>4 W/E 05/02/20</th>\n",
       "      <th>4 W/E 05/30/20</th>\n",
       "      <th>5 W/E 07/04/20</th>\n",
       "      <th>4 W/E 08/01/20</th>\n",
       "      <th>4 W/E 08/29/20</th>\n",
       "      <th>5 W/E 10/03/20</th>\n",
       "      <th>4 W/E 10/31/20</th>\n",
       "      <th>4 W/E 11/28/20</th>\n",
       "      <th>5 W/E 01/02/21</th>\n",
       "      <th>4 W/E 01/30/21</th>\n",
       "    </tr>\n",
       "  </thead>\n",
       "  <tbody>\n",
       "    <tr>\n",
       "      <th>320785</th>\n",
       "      <td>US AOC</td>\n",
       "      <td>BAR</td>\n",
       "      <td>BAR</td>\n",
       "      <td>BAR</td>\n",
       "      <td></td>\n",
       "      <td></td>\n",
       "      <td></td>\n",
       "      <td></td>\n",
       "      <td>% Dollars w/Any Promo</td>\n",
       "      <td>20.761</td>\n",
       "      <td>...</td>\n",
       "      <td>14.534</td>\n",
       "      <td>13.823</td>\n",
       "      <td>17.987</td>\n",
       "      <td>17.141</td>\n",
       "      <td>17.116</td>\n",
       "      <td>22.021</td>\n",
       "      <td>18.997</td>\n",
       "      <td>20.349</td>\n",
       "      <td>19.978</td>\n",
       "      <td>30.051</td>\n",
       "    </tr>\n",
       "    <tr>\n",
       "      <th>320786</th>\n",
       "      <td>US AOC</td>\n",
       "      <td>BAR</td>\n",
       "      <td>BAR</td>\n",
       "      <td>BAR</td>\n",
       "      <td></td>\n",
       "      <td></td>\n",
       "      <td></td>\n",
       "      <td></td>\n",
       "      <td>% Dollars w/Any Promo YAG Chg</td>\n",
       "      <td>-3.410</td>\n",
       "      <td>...</td>\n",
       "      <td>-7.732</td>\n",
       "      <td>-14.859</td>\n",
       "      <td>-4.994</td>\n",
       "      <td>-2.792</td>\n",
       "      <td>-8.459</td>\n",
       "      <td>-2.392</td>\n",
       "      <td>-1.936</td>\n",
       "      <td>-0.852</td>\n",
       "      <td>-1.481</td>\n",
       "      <td>2.084</td>\n",
       "    </tr>\n",
       "  </tbody>\n",
       "</table>\n",
       "<p>2 rows × 26 columns</p>\n",
       "</div>"
      ],
      "text/plain": [
       "           MKT PROD CP_CATEGORY Category CP_MANUFACTURER CP_FRANCHISE  \\\n",
       "320785  US AOC  BAR         BAR      BAR                                \n",
       "320786  US AOC  BAR         BAR      BAR                                \n",
       "\n",
       "       CP_BRAND CP_SUBBRAND                            FCT  4 W/E 02/27/21  \\\n",
       "320785                               % Dollars w/Any Promo          20.761   \n",
       "320786                       % Dollars w/Any Promo YAG Chg          -3.410   \n",
       "\n",
       "        ...  4 W/E 05/02/20  4 W/E 05/30/20  5 W/E 07/04/20  4 W/E 08/01/20  \\\n",
       "320785  ...          14.534          13.823          17.987          17.141   \n",
       "320786  ...          -7.732         -14.859          -4.994          -2.792   \n",
       "\n",
       "        4 W/E 08/29/20  5 W/E 10/03/20  4 W/E 10/31/20  4 W/E 11/28/20  \\\n",
       "320785          17.116          22.021          18.997          20.349   \n",
       "320786          -8.459          -2.392          -1.936          -0.852   \n",
       "\n",
       "        5 W/E 01/02/21  4 W/E 01/30/21  \n",
       "320785          19.978          30.051  \n",
       "320786          -1.481           2.084  \n",
       "\n",
       "[2 rows x 26 columns]"
      ]
     },
     "execution_count": 420,
     "metadata": {},
     "output_type": "execute_result"
    }
   ],
   "source": [
    "BAR_Promo.head(2)"
   ]
  },
  {
   "cell_type": "code",
   "execution_count": 421,
   "metadata": {},
   "outputs": [],
   "source": [
    "# del BAR_Promo[\"ShareBasis\"]\n",
    "del BAR_Promo[\"Category\"]"
   ]
  },
  {
   "cell_type": "code",
   "execution_count": 422,
   "metadata": {},
   "outputs": [],
   "source": [
    "Fact_order = CategoricalDtype(\n",
    "    sorted(list(set(BAR_Promo[\"FCT\"]))), \n",
    "    ordered=True\n",
    ")\n",
    "\n",
    "BAR_Promo['FCT'] = BAR_Promo['FCT'].astype(Fact_order)\n",
    "\n",
    "BAR_Promo.sort_values(['MKT','PROD','FCT'],inplace=True)"
   ]
  },
  {
   "cell_type": "markdown",
   "metadata": {},
   "source": [
    "## **promo_category**"
   ]
  },
  {
   "cell_type": "code",
   "execution_count": 423,
   "metadata": {},
   "outputs": [],
   "source": [
    "promo_category=BAR_Promo.loc[(BAR_Promo[\"CP_SUBBRAND\"]==\"\") & (BAR_Promo[\"CP_BRAND\"]==\"\")&(BAR_Promo[\"CP_FRANCHISE\"]==\"\")&(BAR_Promo[\"CP_MANUFACTURER\"]==\"\")]"
   ]
  },
  {
   "cell_type": "code",
   "execution_count": 424,
   "metadata": {},
   "outputs": [],
   "source": [
    "length= len(promo_category)\n",
    "promo_category[\"Record_ID\"]=range(1,length+1)"
   ]
  },
  {
   "cell_type": "code",
   "execution_count": 425,
   "metadata": {},
   "outputs": [
    {
     "data": {
      "text/html": [
       "<div>\n",
       "<style scoped>\n",
       "    .dataframe tbody tr th:only-of-type {\n",
       "        vertical-align: middle;\n",
       "    }\n",
       "\n",
       "    .dataframe tbody tr th {\n",
       "        vertical-align: top;\n",
       "    }\n",
       "\n",
       "    .dataframe thead th {\n",
       "        text-align: right;\n",
       "    }\n",
       "</style>\n",
       "<table border=\"1\" class=\"dataframe\">\n",
       "  <thead>\n",
       "    <tr style=\"text-align: right;\">\n",
       "      <th></th>\n",
       "      <th>MKT</th>\n",
       "      <th>PROD</th>\n",
       "      <th>CP_CATEGORY</th>\n",
       "      <th>CP_MANUFACTURER</th>\n",
       "      <th>CP_FRANCHISE</th>\n",
       "      <th>CP_BRAND</th>\n",
       "      <th>CP_SUBBRAND</th>\n",
       "      <th>FCT</th>\n",
       "      <th>4 W/E 02/27/21</th>\n",
       "      <th>Latest 13 Weeks</th>\n",
       "      <th>...</th>\n",
       "      <th>4 W/E 05/30/20</th>\n",
       "      <th>5 W/E 07/04/20</th>\n",
       "      <th>4 W/E 08/01/20</th>\n",
       "      <th>4 W/E 08/29/20</th>\n",
       "      <th>5 W/E 10/03/20</th>\n",
       "      <th>4 W/E 10/31/20</th>\n",
       "      <th>4 W/E 11/28/20</th>\n",
       "      <th>5 W/E 01/02/21</th>\n",
       "      <th>4 W/E 01/30/21</th>\n",
       "      <th>Record_ID</th>\n",
       "    </tr>\n",
       "  </thead>\n",
       "  <tbody>\n",
       "    <tr>\n",
       "      <th>404641</th>\n",
       "      <td>Ahold</td>\n",
       "      <td>BAR</td>\n",
       "      <td>BAR</td>\n",
       "      <td></td>\n",
       "      <td></td>\n",
       "      <td></td>\n",
       "      <td></td>\n",
       "      <td>$ Share</td>\n",
       "      <td>100.0</td>\n",
       "      <td>100.0</td>\n",
       "      <td>...</td>\n",
       "      <td>100.0</td>\n",
       "      <td>100.0</td>\n",
       "      <td>100.0</td>\n",
       "      <td>100.0</td>\n",
       "      <td>100.0</td>\n",
       "      <td>100.0</td>\n",
       "      <td>100.0</td>\n",
       "      <td>100.0</td>\n",
       "      <td>100.0</td>\n",
       "      <td>1</td>\n",
       "    </tr>\n",
       "    <tr>\n",
       "      <th>404642</th>\n",
       "      <td>Ahold</td>\n",
       "      <td>BAR</td>\n",
       "      <td>BAR</td>\n",
       "      <td></td>\n",
       "      <td></td>\n",
       "      <td></td>\n",
       "      <td></td>\n",
       "      <td>$ Share YAG Chg</td>\n",
       "      <td>0.0</td>\n",
       "      <td>0.0</td>\n",
       "      <td>...</td>\n",
       "      <td>0.0</td>\n",
       "      <td>0.0</td>\n",
       "      <td>0.0</td>\n",
       "      <td>0.0</td>\n",
       "      <td>0.0</td>\n",
       "      <td>0.0</td>\n",
       "      <td>0.0</td>\n",
       "      <td>0.0</td>\n",
       "      <td>0.0</td>\n",
       "      <td>2</td>\n",
       "    </tr>\n",
       "  </tbody>\n",
       "</table>\n",
       "<p>2 rows × 26 columns</p>\n",
       "</div>"
      ],
      "text/plain": [
       "          MKT PROD CP_CATEGORY CP_MANUFACTURER CP_FRANCHISE CP_BRAND  \\\n",
       "404641  Ahold  BAR         BAR                                         \n",
       "404642  Ahold  BAR         BAR                                         \n",
       "\n",
       "       CP_SUBBRAND              FCT  4 W/E 02/27/21  Latest 13 Weeks  ...  \\\n",
       "404641                      $ Share           100.0            100.0  ...   \n",
       "404642              $ Share YAG Chg             0.0              0.0  ...   \n",
       "\n",
       "        4 W/E 05/30/20  5 W/E 07/04/20  4 W/E 08/01/20  4 W/E 08/29/20  \\\n",
       "404641           100.0           100.0           100.0           100.0   \n",
       "404642             0.0             0.0             0.0             0.0   \n",
       "\n",
       "        5 W/E 10/03/20  4 W/E 10/31/20  4 W/E 11/28/20  5 W/E 01/02/21  \\\n",
       "404641           100.0           100.0           100.0           100.0   \n",
       "404642             0.0             0.0             0.0             0.0   \n",
       "\n",
       "        4 W/E 01/30/21  Record_ID  \n",
       "404641           100.0          1  \n",
       "404642             0.0          2  \n",
       "\n",
       "[2 rows x 26 columns]"
      ]
     },
     "execution_count": 425,
     "metadata": {},
     "output_type": "execute_result"
    }
   ],
   "source": [
    "promo_category.head(2)"
   ]
  },
  {
   "cell_type": "code",
   "execution_count": 426,
   "metadata": {},
   "outputs": [],
   "source": [
    "promo_category.to_csv(path_BAR+\"promo_category.csv\",index=False)"
   ]
  },
  {
   "cell_type": "markdown",
   "metadata": {},
   "source": [
    "## **promo_toplevel**"
   ]
  },
  {
   "cell_type": "code",
   "execution_count": 427,
   "metadata": {},
   "outputs": [],
   "source": [
    "promo_toplevel=BAR_Promo.loc[(BAR_Promo[\"CP_SUBBRAND\"]==\"\") & (BAR_Promo[\"CP_BRAND\"]==\"\")&(BAR_Promo[\"CP_FRANCHISE\"]==\"\")&(BAR_Promo[\"CP_MANUFACTURER\"]!=\"\")]"
   ]
  },
  {
   "cell_type": "code",
   "execution_count": 428,
   "metadata": {},
   "outputs": [],
   "source": [
    "# Blank row 0th position\n",
    "df1=pd.DataFrame([[np.nan]*len(promo_toplevel.columns)],columns=promo_toplevel.columns)\n",
    "promo_toplevel=df1.append(promo_toplevel,ignore_index=True)"
   ]
  },
  {
   "cell_type": "code",
   "execution_count": 429,
   "metadata": {},
   "outputs": [],
   "source": [
    "length= len(promo_toplevel)\n",
    "promo_toplevel[\"Record_ID\"]=range(1,length+1)"
   ]
  },
  {
   "cell_type": "code",
   "execution_count": 430,
   "metadata": {},
   "outputs": [],
   "source": [
    "promo_toplevel.to_csv(path_BAR+\"promo_toplevel.csv\",index=False)"
   ]
  },
  {
   "cell_type": "markdown",
   "metadata": {},
   "source": [
    "## **promo_franchise**"
   ]
  },
  {
   "cell_type": "code",
   "execution_count": 431,
   "metadata": {},
   "outputs": [],
   "source": [
    "promo_franchise=BAR_Promo.loc[(BAR_Promo[\"CP_SUBBRAND\"]==\"\") & (BAR_Promo[\"CP_BRAND\"]==\"\")&(BAR_Promo[\"CP_FRANCHISE\"]!=\"\")]"
   ]
  },
  {
   "cell_type": "code",
   "execution_count": 432,
   "metadata": {},
   "outputs": [],
   "source": [
    "length= len(promo_franchise)\n",
    "promo_franchise[\"Record_ID\"]=range(1,length+1)"
   ]
  },
  {
   "cell_type": "code",
   "execution_count": 433,
   "metadata": {},
   "outputs": [],
   "source": [
    "promo_franchise.to_csv(path_BAR+\"promo_franchise.csv\",index=False)"
   ]
  },
  {
   "cell_type": "markdown",
   "metadata": {},
   "source": [
    "## **promo_brand_promo**"
   ]
  },
  {
   "cell_type": "code",
   "execution_count": 434,
   "metadata": {},
   "outputs": [],
   "source": [
    "promo_brand_promo=BAR_Promo.loc[(BAR_Promo[\"CP_SUBBRAND\"]==\"\") & (BAR_Promo[\"CP_BRAND\"]!=\"\")]"
   ]
  },
  {
   "cell_type": "code",
   "execution_count": 435,
   "metadata": {},
   "outputs": [],
   "source": [
    "length= len(promo_brand_promo)\n",
    "promo_brand_promo[\"Record_ID\"]=range(1,length+1)"
   ]
  },
  {
   "cell_type": "code",
   "execution_count": 436,
   "metadata": {},
   "outputs": [],
   "source": [
    "promo_brand_promo.to_csv(path_BAR+\"promo_brand_promo.csv\",index=False)"
   ]
  },
  {
   "cell_type": "markdown",
   "metadata": {},
   "source": [
    "## **promo_subbrand_promo**"
   ]
  },
  {
   "cell_type": "code",
   "execution_count": 437,
   "metadata": {},
   "outputs": [],
   "source": [
    "promo_subbrand_promo=BAR_Promo.loc[(BAR_Promo[\"CP_SUBBRAND\"]!=\"\")]"
   ]
  },
  {
   "cell_type": "code",
   "execution_count": 438,
   "metadata": {},
   "outputs": [],
   "source": [
    "length= len(promo_subbrand_promo)\n",
    "promo_subbrand_promo[\"Record_ID\"]=range(1,length+1)"
   ]
  },
  {
   "cell_type": "code",
   "execution_count": 439,
   "metadata": {},
   "outputs": [],
   "source": [
    "promo_subbrand_promo.to_csv(path_BAR+\"promo_subbrand_promo.csv\",index=False)"
   ]
  },
  {
   "cell_type": "code",
   "execution_count": null,
   "metadata": {},
   "outputs": [],
   "source": []
  },
  {
   "cell_type": "markdown",
   "metadata": {},
   "source": [
    "## Waterfall"
   ]
  },
  {
   "cell_type": "code",
   "execution_count": 440,
   "metadata": {},
   "outputs": [],
   "source": [
    "Waterfall_BAR=Data_5p_BAR.copy()"
   ]
  },
  {
   "cell_type": "code",
   "execution_count": 441,
   "metadata": {},
   "outputs": [],
   "source": [
    "Waterfall_Markets=[\"TOTAL US XAOC\",\"TOTAL US DRUG\",\"TOTAL US FOOD\",\"TOTAL WALMART TOTAL US CTA\",\"TARGET TOTAL BM/FF CENSUS TA\",\n",
    "         \"WALGREENS CORP TOTAL CENSUS TA\",\"RITE AID - TOTAL CENSUS TA\",\"SHOPRITE TOTAL CENSUS TRADING AREA\",\n",
    "         \"PUBLIX TOTAL CENSUS TRADING AREA\",\"FAMILY DOLLAR TOTAL CENSUS TRADING AREA\",\"DOL GEN TOTAL CENSUS TA\",\n",
    "         \"CVS TOTAL CORP WO HI CENSUS TA\",\"SAMS TOTAL CENSUS TRADING AREA\",\"BJS TOTAL CENSUS TA\",\n",
    "         \"AHOLD USA CORP TOTAL CTA\",\"ALBSCO Total Company TA\",\"Kmart Total TA\" ]"
   ]
  },
  {
   "cell_type": "code",
   "execution_count": 442,
   "metadata": {},
   "outputs": [],
   "source": [
    "Waterfall_Fact_Mapping={\n",
    "    \"No Promo Incr $\":\"Incr.$ w/No Promo\",\n",
    "    \"Feat w/o Disp $\":\"Incr.$ w/Ftr w/o Disp\",\n",
    "    \"Disp w/o Feat $\":\"Incr.$ w/Disp w/o Ftr\",\n",
    "    \"Feat & Disp $\":\"Incr.$ w/Ftr & Disp\",\n",
    "    \"Price Decr Only $\":\"Incr.$ w/TPR\",\n",
    "    \"$\":\"Dollars\",\n",
    "    \"$ Shr - CP CATEGORY\":\"Bar $ Share\",\n",
    "    \"Base $\":\"Baseline $\"\n",
    "}"
   ]
  },
  {
   "cell_type": "markdown",
   "metadata": {},
   "source": [
    "**Market Mapping**"
   ]
  },
  {
   "cell_type": "code",
   "execution_count": 443,
   "metadata": {},
   "outputs": [],
   "source": [
    "Waterfall_BAR[\"Markets\"].replace(Waterfall_Market_Mapping,inplace=True)"
   ]
  },
  {
   "cell_type": "markdown",
   "metadata": {},
   "source": [
    "**Facts, Markets, Time_Period Filter**"
   ]
  },
  {
   "cell_type": "code",
   "execution_count": 444,
   "metadata": {},
   "outputs": [],
   "source": [
    "Waterfall_BAR= Waterfall_BAR[Waterfall_BAR[\"Facts\"].isin(Waterfall_Facts)]\n",
    "Waterfall_BAR= Waterfall_BAR[Waterfall_BAR[\"Markets\"].isin(Waterfall_Markets)]\n",
    "Waterfall_BAR=Waterfall_BAR[Waterfall_Time_Period]"
   ]
  },
  {
   "cell_type": "code",
   "execution_count": 445,
   "metadata": {},
   "outputs": [
    {
     "name": "stdout",
     "output_type": "stream",
     "text": [
      "17 17\n"
     ]
    }
   ],
   "source": [
    "print(len(Waterfall_Markets), len(set(Waterfall_BAR[\"Markets\"])))"
   ]
  },
  {
   "cell_type": "code",
   "execution_count": 446,
   "metadata": {},
   "outputs": [
    {
     "data": {
      "text/plain": [
       "set()"
      ]
     },
     "execution_count": 446,
     "metadata": {},
     "output_type": "execute_result"
    }
   ],
   "source": [
    "set(Waterfall_Markets) - set(Waterfall_BAR[\"Markets\"])"
   ]
  },
  {
   "cell_type": "code",
   "execution_count": 447,
   "metadata": {
    "scrolled": true
   },
   "outputs": [
    {
     "data": {
      "text/html": [
       "<div>\n",
       "<style scoped>\n",
       "    .dataframe tbody tr th:only-of-type {\n",
       "        vertical-align: middle;\n",
       "    }\n",
       "\n",
       "    .dataframe tbody tr th {\n",
       "        vertical-align: top;\n",
       "    }\n",
       "\n",
       "    .dataframe thead th {\n",
       "        text-align: right;\n",
       "    }\n",
       "</style>\n",
       "<table border=\"1\" class=\"dataframe\">\n",
       "  <thead>\n",
       "    <tr style=\"text-align: right;\">\n",
       "      <th></th>\n",
       "      <th>Markets</th>\n",
       "      <th>Products</th>\n",
       "      <th>Manufacturer</th>\n",
       "      <th>Franchise</th>\n",
       "      <th>Brand</th>\n",
       "      <th>SubBrand</th>\n",
       "      <th>Facts</th>\n",
       "      <th>YTD 2021</th>\n",
       "      <th>YTD 2020</th>\n",
       "      <th>4 W/E 02/27/21</th>\n",
       "      <th>4 W/E 02/29/20</th>\n",
       "    </tr>\n",
       "  </thead>\n",
       "  <tbody>\n",
       "    <tr>\n",
       "      <th>320791</th>\n",
       "      <td>TOTAL US XAOC</td>\n",
       "      <td>BAR</td>\n",
       "      <td></td>\n",
       "      <td></td>\n",
       "      <td></td>\n",
       "      <td></td>\n",
       "      <td>$</td>\n",
       "      <td>1.981806e+08</td>\n",
       "      <td>2.166501e+08</td>\n",
       "      <td>9.625412e+07</td>\n",
       "      <td>1.108802e+08</td>\n",
       "    </tr>\n",
       "    <tr>\n",
       "      <th>320794</th>\n",
       "      <td>TOTAL US XAOC</td>\n",
       "      <td>BAR</td>\n",
       "      <td></td>\n",
       "      <td></td>\n",
       "      <td></td>\n",
       "      <td></td>\n",
       "      <td>$ Shr - CP CATEGORY</td>\n",
       "      <td>1.000000e+02</td>\n",
       "      <td>1.000000e+02</td>\n",
       "      <td>1.000000e+02</td>\n",
       "      <td>1.000000e+02</td>\n",
       "    </tr>\n",
       "  </tbody>\n",
       "</table>\n",
       "</div>"
      ],
      "text/plain": [
       "              Markets Products Manufacturer Franchise Brand SubBrand  \\\n",
       "320791  TOTAL US XAOC      BAR                                         \n",
       "320794  TOTAL US XAOC      BAR                                         \n",
       "\n",
       "                      Facts      YTD 2021      YTD 2020  4 W/E 02/27/21  \\\n",
       "320791                    $  1.981806e+08  2.166501e+08    9.625412e+07   \n",
       "320794  $ Shr - CP CATEGORY  1.000000e+02  1.000000e+02    1.000000e+02   \n",
       "\n",
       "        4 W/E 02/29/20  \n",
       "320791    1.108802e+08  \n",
       "320794    1.000000e+02  "
      ]
     },
     "execution_count": 447,
     "metadata": {},
     "output_type": "execute_result"
    }
   ],
   "source": [
    "Waterfall_BAR.head(2)"
   ]
  },
  {
   "cell_type": "markdown",
   "metadata": {},
   "source": [
    "**Column name Change**"
   ]
  },
  {
   "cell_type": "code",
   "execution_count": 448,
   "metadata": {},
   "outputs": [],
   "source": [
    "Waterfall_BAR.rename(columns={\"Markets\":\"MKT\",\"Products\":\"PROD\",\"Manufacturer\":\"CP.MANUFACTURER\",\n",
    "                                \"Franchise\":\"CP.FRANCHISE\",\"Brand\":\"CP.BRAND\",\"SubBrand\":\"CP.SUBBRAND\",\"Facts\":\"FCT\"},inplace=True)"
   ]
  },
  {
   "cell_type": "markdown",
   "metadata": {},
   "source": [
    "**Fact Name Change**"
   ]
  },
  {
   "cell_type": "code",
   "execution_count": 449,
   "metadata": {},
   "outputs": [],
   "source": [
    "Waterfall_BAR[\"FCT\"].replace(Waterfall_Fact_Mapping,inplace=True)"
   ]
  },
  {
   "cell_type": "code",
   "execution_count": 450,
   "metadata": {},
   "outputs": [
    {
     "data": {
      "text/plain": [
       "{'Bar $ Share',\n",
       " 'Baseline $',\n",
       " 'Dollars',\n",
       " 'Incr.$ w/Disp w/o Ftr',\n",
       " 'Incr.$ w/Ftr & Disp',\n",
       " 'Incr.$ w/Ftr w/o Disp',\n",
       " 'Incr.$ w/No Promo',\n",
       " 'Incr.$ w/TPR'}"
      ]
     },
     "execution_count": 450,
     "metadata": {},
     "output_type": "execute_result"
    }
   ],
   "source": [
    "set(Waterfall_BAR[\"FCT\"])"
   ]
  },
  {
   "cell_type": "code",
   "execution_count": 451,
   "metadata": {},
   "outputs": [
    {
     "data": {
      "text/html": [
       "<div>\n",
       "<style scoped>\n",
       "    .dataframe tbody tr th:only-of-type {\n",
       "        vertical-align: middle;\n",
       "    }\n",
       "\n",
       "    .dataframe tbody tr th {\n",
       "        vertical-align: top;\n",
       "    }\n",
       "\n",
       "    .dataframe thead th {\n",
       "        text-align: right;\n",
       "    }\n",
       "</style>\n",
       "<table border=\"1\" class=\"dataframe\">\n",
       "  <thead>\n",
       "    <tr style=\"text-align: right;\">\n",
       "      <th></th>\n",
       "      <th>MKT</th>\n",
       "      <th>PROD</th>\n",
       "      <th>CP.MANUFACTURER</th>\n",
       "      <th>CP.FRANCHISE</th>\n",
       "      <th>CP.BRAND</th>\n",
       "      <th>CP.SUBBRAND</th>\n",
       "      <th>FCT</th>\n",
       "      <th>YTD 2021</th>\n",
       "      <th>YTD 2020</th>\n",
       "      <th>4 W/E 02/27/21</th>\n",
       "      <th>4 W/E 02/29/20</th>\n",
       "    </tr>\n",
       "  </thead>\n",
       "  <tbody>\n",
       "    <tr>\n",
       "      <th>320791</th>\n",
       "      <td>TOTAL US XAOC</td>\n",
       "      <td>BAR</td>\n",
       "      <td></td>\n",
       "      <td></td>\n",
       "      <td></td>\n",
       "      <td></td>\n",
       "      <td>Dollars</td>\n",
       "      <td>1.981806e+08</td>\n",
       "      <td>2.166501e+08</td>\n",
       "      <td>9.625412e+07</td>\n",
       "      <td>1.108802e+08</td>\n",
       "    </tr>\n",
       "    <tr>\n",
       "      <th>320794</th>\n",
       "      <td>TOTAL US XAOC</td>\n",
       "      <td>BAR</td>\n",
       "      <td></td>\n",
       "      <td></td>\n",
       "      <td></td>\n",
       "      <td></td>\n",
       "      <td>Bar $ Share</td>\n",
       "      <td>1.000000e+02</td>\n",
       "      <td>1.000000e+02</td>\n",
       "      <td>1.000000e+02</td>\n",
       "      <td>1.000000e+02</td>\n",
       "    </tr>\n",
       "  </tbody>\n",
       "</table>\n",
       "</div>"
      ],
      "text/plain": [
       "                  MKT PROD CP.MANUFACTURER CP.FRANCHISE CP.BRAND CP.SUBBRAND  \\\n",
       "320791  TOTAL US XAOC  BAR                                                     \n",
       "320794  TOTAL US XAOC  BAR                                                     \n",
       "\n",
       "                FCT      YTD 2021      YTD 2020  4 W/E 02/27/21  \\\n",
       "320791      Dollars  1.981806e+08  2.166501e+08    9.625412e+07   \n",
       "320794  Bar $ Share  1.000000e+02  1.000000e+02    1.000000e+02   \n",
       "\n",
       "        4 W/E 02/29/20  \n",
       "320791    1.108802e+08  \n",
       "320794    1.000000e+02  "
      ]
     },
     "execution_count": 451,
     "metadata": {},
     "output_type": "execute_result"
    }
   ],
   "source": [
    "Waterfall_BAR.head(2)"
   ]
  },
  {
   "cell_type": "code",
   "execution_count": 452,
   "metadata": {},
   "outputs": [],
   "source": [
    "Fact_order_1 = [\"Baseline $\",\"Incr.$ w/No Promo\",\"Incr.$ w/Ftr w/o Disp\",\"Incr.$ w/Disp w/o Ftr\",\"Incr.$ w/Ftr & Disp\",\n",
    "              \"Incr.$ w/TPR\",\"Dollars\",\"Bar $ Share\"]\n",
    "\n",
    "Fact_order = CategoricalDtype(\n",
    "    Fact_order_1, \n",
    "    ordered=True\n",
    ")\n",
    "\n",
    "\n",
    "Waterfall_BAR['FCT'] = Waterfall_BAR['FCT'].astype(Fact_order)\n",
    "\n",
    "Waterfall_BAR.sort_values(['MKT','PROD','FCT'],inplace=True)"
   ]
  },
  {
   "cell_type": "markdown",
   "metadata": {},
   "source": [
    "## **Waterfall_Manu**"
   ]
  },
  {
   "cell_type": "code",
   "execution_count": 453,
   "metadata": {},
   "outputs": [],
   "source": [
    "Waterfall_Manu=Waterfall_BAR.loc[(Waterfall_BAR[\"CP.SUBBRAND\"]==\"\") & (Waterfall_BAR[\"CP.BRAND\"]==\"\")&(Waterfall_BAR[\"CP.FRANCHISE\"]==\"\")&(Waterfall_BAR[\"CP.MANUFACTURER\"]!=\"\")]"
   ]
  },
  {
   "cell_type": "code",
   "execution_count": 454,
   "metadata": {},
   "outputs": [],
   "source": [
    "Waterfall_Manu[\"Record_ID\"]=range(1,len(Waterfall_Manu)+1)"
   ]
  },
  {
   "cell_type": "code",
   "execution_count": 455,
   "metadata": {},
   "outputs": [],
   "source": [
    "Waterfall_Manu.to_csv(path_BAR+\"Waterfall_Manu.csv\",index=False)"
   ]
  },
  {
   "cell_type": "markdown",
   "metadata": {},
   "source": [
    "## **Waterfall_Fran**"
   ]
  },
  {
   "cell_type": "code",
   "execution_count": 456,
   "metadata": {},
   "outputs": [],
   "source": [
    "Waterfall_Fran=Waterfall_BAR.loc[(Waterfall_BAR[\"CP.SUBBRAND\"]==\"\") & (Waterfall_BAR[\"CP.BRAND\"]==\"\")&(Waterfall_BAR[\"CP.FRANCHISE\"]!=\"\")]"
   ]
  },
  {
   "cell_type": "code",
   "execution_count": 457,
   "metadata": {},
   "outputs": [],
   "source": [
    "Waterfall_Fran[\"Record_ID\"]=range(1,len(Waterfall_Fran)+1)"
   ]
  },
  {
   "cell_type": "code",
   "execution_count": 458,
   "metadata": {},
   "outputs": [],
   "source": [
    "Waterfall_Fran.to_csv(path_BAR+\"Waterfall_Fran.csv\",index=False)"
   ]
  },
  {
   "cell_type": "markdown",
   "metadata": {},
   "source": [
    "## **Waterfall_Brand**"
   ]
  },
  {
   "cell_type": "code",
   "execution_count": 459,
   "metadata": {},
   "outputs": [],
   "source": [
    "Waterfall_Brand=Waterfall_BAR.loc[(Waterfall_BAR[\"CP.SUBBRAND\"]==\"\") & (Waterfall_BAR[\"CP.BRAND\"]!=\"\")]"
   ]
  },
  {
   "cell_type": "code",
   "execution_count": 460,
   "metadata": {},
   "outputs": [],
   "source": [
    "Waterfall_Cat=Waterfall_BAR.loc[(Waterfall_BAR[\"CP.SUBBRAND\"]==\"\") & (Waterfall_BAR[\"CP.BRAND\"]==\"\")&(Waterfall_BAR[\"CP.FRANCHISE\"]==\"\")&(Waterfall_BAR[\"CP.MANUFACTURER\"]==\"\")]"
   ]
  },
  {
   "cell_type": "code",
   "execution_count": 461,
   "metadata": {},
   "outputs": [],
   "source": [
    "Waterfall_Cat_Brand=pd.concat([Waterfall_Cat,Waterfall_Brand],axis=0)"
   ]
  },
  {
   "cell_type": "code",
   "execution_count": 462,
   "metadata": {},
   "outputs": [],
   "source": [
    "Waterfall_Cat_Brand['FCT'] = Waterfall_Cat_Brand['FCT'].astype(Fact_order)\n",
    "\n",
    "Waterfall_Cat_Brand.sort_values(['MKT','PROD','FCT'],inplace=True)"
   ]
  },
  {
   "cell_type": "code",
   "execution_count": 463,
   "metadata": {},
   "outputs": [],
   "source": [
    "Waterfall_Cat_Brand[\"Record_ID\"]=range(1,len(Waterfall_Cat_Brand)+1)"
   ]
  },
  {
   "cell_type": "code",
   "execution_count": 464,
   "metadata": {},
   "outputs": [],
   "source": [
    "Waterfall_Cat_Brand.to_csv(path_BAR+\"Waterfall Brand.csv\",index=False)"
   ]
  },
  {
   "cell_type": "markdown",
   "metadata": {},
   "source": [
    "## Waterfall_SubBrand"
   ]
  },
  {
   "cell_type": "code",
   "execution_count": 465,
   "metadata": {},
   "outputs": [],
   "source": [
    "Waterfall_SubBrand=Waterfall_BAR.loc[(Waterfall_BAR[\"CP.SUBBRAND\"]!=\"\")]"
   ]
  },
  {
   "cell_type": "code",
   "execution_count": 466,
   "metadata": {},
   "outputs": [],
   "source": [
    "Waterfall_SubBrand[\"Record_ID\"]=range(1,len(Waterfall_SubBrand)+1)"
   ]
  },
  {
   "cell_type": "code",
   "execution_count": 467,
   "metadata": {},
   "outputs": [],
   "source": [
    "Waterfall_SubBrand.to_csv(path_BAR+\"Waterfall Sub_Brand.csv\",index=False)"
   ]
  },
  {
   "cell_type": "code",
   "execution_count": null,
   "metadata": {},
   "outputs": [],
   "source": []
  },
  {
   "cell_type": "code",
   "execution_count": null,
   "metadata": {},
   "outputs": [],
   "source": []
  },
  {
   "cell_type": "markdown",
   "metadata": {},
   "source": [
    "# LHS"
   ]
  },
  {
   "cell_type": "code",
   "execution_count": 468,
   "metadata": {},
   "outputs": [],
   "source": [
    "# path to store OuMWut files\n",
    "\n",
    "path_LHS=\"//falmumapp34/Nielsen Connect Transition & Maintenance (20-SCP-3650)/05. Output Data/5P Output/LHS/\""
   ]
  },
  {
   "cell_type": "code",
   "execution_count": 469,
   "metadata": {},
   "outputs": [],
   "source": [
    "Data_5p_LHS=Data_5p.copy()"
   ]
  },
  {
   "cell_type": "code",
   "execution_count": 470,
   "metadata": {},
   "outputs": [
    {
     "data": {
      "text/html": [
       "<div>\n",
       "<style scoped>\n",
       "    .dataframe tbody tr th:only-of-type {\n",
       "        vertical-align: middle;\n",
       "    }\n",
       "\n",
       "    .dataframe tbody tr th {\n",
       "        vertical-align: top;\n",
       "    }\n",
       "\n",
       "    .dataframe thead th {\n",
       "        text-align: right;\n",
       "    }\n",
       "</style>\n",
       "<table border=\"1\" class=\"dataframe\">\n",
       "  <thead>\n",
       "    <tr style=\"text-align: right;\">\n",
       "      <th></th>\n",
       "      <th>Markets</th>\n",
       "      <th>ShareBasis</th>\n",
       "      <th>Category</th>\n",
       "      <th>Manufacturer</th>\n",
       "      <th>Franchise</th>\n",
       "      <th>Brand</th>\n",
       "      <th>SubBrand</th>\n",
       "      <th>Products</th>\n",
       "      <th>Facts</th>\n",
       "      <th>FY 2020</th>\n",
       "      <th>...</th>\n",
       "      <th>5 W/E 10/03/20</th>\n",
       "      <th>4 W/E 08/29/20</th>\n",
       "      <th>4 W/E 08/01/20</th>\n",
       "      <th>5 W/E 07/04/20</th>\n",
       "      <th>4 W/E 05/30/20</th>\n",
       "      <th>4 W/E 05/02/20</th>\n",
       "      <th>5 W/E 04/04/20</th>\n",
       "      <th>4 W/E 02/29/20</th>\n",
       "      <th>4 W/E 02/01/20</th>\n",
       "      <th>Key</th>\n",
       "    </tr>\n",
       "  </thead>\n",
       "  <tbody>\n",
       "    <tr>\n",
       "      <th>0</th>\n",
       "      <td>US AOC</td>\n",
       "      <td>ABRASIVE</td>\n",
       "      <td>HHC</td>\n",
       "      <td></td>\n",
       "      <td></td>\n",
       "      <td></td>\n",
       "      <td></td>\n",
       "      <td>ABRASIVE</td>\n",
       "      <td>% $ Any Promo</td>\n",
       "      <td>6.852</td>\n",
       "      <td>...</td>\n",
       "      <td>5.684</td>\n",
       "      <td>5.237</td>\n",
       "      <td>5.397</td>\n",
       "      <td>4.521</td>\n",
       "      <td>5.375</td>\n",
       "      <td>6.757</td>\n",
       "      <td>11.126</td>\n",
       "      <td>8.262</td>\n",
       "      <td>11.107</td>\n",
       "      <td>Total US xAOCABRASIVE</td>\n",
       "    </tr>\n",
       "    <tr>\n",
       "      <th>1</th>\n",
       "      <td>US AOC</td>\n",
       "      <td>ABRASIVE</td>\n",
       "      <td>HHC</td>\n",
       "      <td></td>\n",
       "      <td></td>\n",
       "      <td></td>\n",
       "      <td></td>\n",
       "      <td>ABRASIVE</td>\n",
       "      <td>% $ Any Promo Chg YA</td>\n",
       "      <td>-3.033</td>\n",
       "      <td>...</td>\n",
       "      <td>-1.867</td>\n",
       "      <td>-3.987</td>\n",
       "      <td>-1.106</td>\n",
       "      <td>-5.830</td>\n",
       "      <td>-5.742</td>\n",
       "      <td>-4.454</td>\n",
       "      <td>-2.334</td>\n",
       "      <td>-0.137</td>\n",
       "      <td>2.827</td>\n",
       "      <td>Total US xAOCABRASIVE</td>\n",
       "    </tr>\n",
       "    <tr>\n",
       "      <th>2</th>\n",
       "      <td>US AOC</td>\n",
       "      <td>ABRASIVE</td>\n",
       "      <td>HHC</td>\n",
       "      <td></td>\n",
       "      <td></td>\n",
       "      <td></td>\n",
       "      <td></td>\n",
       "      <td>ABRASIVE</td>\n",
       "      <td>% EQ Any Promo</td>\n",
       "      <td>7.001</td>\n",
       "      <td>...</td>\n",
       "      <td>5.203</td>\n",
       "      <td>4.318</td>\n",
       "      <td>6.266</td>\n",
       "      <td>4.726</td>\n",
       "      <td>5.051</td>\n",
       "      <td>5.970</td>\n",
       "      <td>11.970</td>\n",
       "      <td>10.971</td>\n",
       "      <td>14.294</td>\n",
       "      <td>Total US xAOCABRASIVE</td>\n",
       "    </tr>\n",
       "  </tbody>\n",
       "</table>\n",
       "<p>3 rows × 40 columns</p>\n",
       "</div>"
      ],
      "text/plain": [
       "  Markets ShareBasis Category Manufacturer Franchise Brand SubBrand  Products  \\\n",
       "0  US AOC   ABRASIVE      HHC                                        ABRASIVE   \n",
       "1  US AOC   ABRASIVE      HHC                                        ABRASIVE   \n",
       "2  US AOC   ABRASIVE      HHC                                        ABRASIVE   \n",
       "\n",
       "                  Facts  FY 2020  ...  5 W/E 10/03/20  4 W/E 08/29/20  \\\n",
       "0         % $ Any Promo    6.852  ...           5.684           5.237   \n",
       "1  % $ Any Promo Chg YA   -3.033  ...          -1.867          -3.987   \n",
       "2        % EQ Any Promo    7.001  ...           5.203           4.318   \n",
       "\n",
       "   4 W/E 08/01/20  5 W/E 07/04/20  4 W/E 05/30/20  4 W/E 05/02/20  \\\n",
       "0           5.397           4.521           5.375           6.757   \n",
       "1          -1.106          -5.830          -5.742          -4.454   \n",
       "2           6.266           4.726           5.051           5.970   \n",
       "\n",
       "   5 W/E 04/04/20  4 W/E 02/29/20  4 W/E 02/01/20                    Key  \n",
       "0          11.126           8.262          11.107  Total US xAOCABRASIVE  \n",
       "1          -2.334          -0.137           2.827  Total US xAOCABRASIVE  \n",
       "2          11.970          10.971          14.294  Total US xAOCABRASIVE  \n",
       "\n",
       "[3 rows x 40 columns]"
      ]
     },
     "execution_count": 470,
     "metadata": {},
     "output_type": "execute_result"
    }
   ],
   "source": [
    "Data_5p.head(3)"
   ]
  },
  {
   "cell_type": "markdown",
   "metadata": {},
   "source": [
    "**Filtering LHS Data**"
   ]
  },
  {
   "cell_type": "code",
   "execution_count": 471,
   "metadata": {},
   "outputs": [],
   "source": [
    "Data_5p_LHS=Data_5p.loc[Data_5p[\"Category\"]==\"LHS\"]"
   ]
  },
  {
   "cell_type": "code",
   "execution_count": 472,
   "metadata": {},
   "outputs": [
    {
     "data": {
      "text/html": [
       "<div>\n",
       "<style scoped>\n",
       "    .dataframe tbody tr th:only-of-type {\n",
       "        vertical-align: middle;\n",
       "    }\n",
       "\n",
       "    .dataframe tbody tr th {\n",
       "        vertical-align: top;\n",
       "    }\n",
       "\n",
       "    .dataframe thead th {\n",
       "        text-align: right;\n",
       "    }\n",
       "</style>\n",
       "<table border=\"1\" class=\"dataframe\">\n",
       "  <thead>\n",
       "    <tr style=\"text-align: right;\">\n",
       "      <th></th>\n",
       "      <th>Markets</th>\n",
       "      <th>ShareBasis</th>\n",
       "      <th>Category</th>\n",
       "      <th>Manufacturer</th>\n",
       "      <th>Franchise</th>\n",
       "      <th>Brand</th>\n",
       "      <th>SubBrand</th>\n",
       "      <th>Products</th>\n",
       "      <th>Facts</th>\n",
       "      <th>FY 2020</th>\n",
       "      <th>...</th>\n",
       "      <th>5 W/E 10/03/20</th>\n",
       "      <th>4 W/E 08/29/20</th>\n",
       "      <th>4 W/E 08/01/20</th>\n",
       "      <th>5 W/E 07/04/20</th>\n",
       "      <th>4 W/E 05/30/20</th>\n",
       "      <th>4 W/E 05/02/20</th>\n",
       "      <th>5 W/E 04/04/20</th>\n",
       "      <th>4 W/E 02/29/20</th>\n",
       "      <th>4 W/E 02/01/20</th>\n",
       "      <th>Key</th>\n",
       "    </tr>\n",
       "  </thead>\n",
       "  <tbody>\n",
       "    <tr>\n",
       "      <th>1089641</th>\n",
       "      <td>US AOC</td>\n",
       "      <td>LIQUID</td>\n",
       "      <td>LHS</td>\n",
       "      <td></td>\n",
       "      <td></td>\n",
       "      <td></td>\n",
       "      <td></td>\n",
       "      <td>LIQUID</td>\n",
       "      <td>% $ Any Promo</td>\n",
       "      <td>14.831</td>\n",
       "      <td>...</td>\n",
       "      <td>11.861</td>\n",
       "      <td>11.856</td>\n",
       "      <td>11.091</td>\n",
       "      <td>9.155</td>\n",
       "      <td>7.571</td>\n",
       "      <td>7.477</td>\n",
       "      <td>22.025</td>\n",
       "      <td>33.480</td>\n",
       "      <td>29.680</td>\n",
       "      <td>Total US xAOCLIQUID</td>\n",
       "    </tr>\n",
       "    <tr>\n",
       "      <th>1089642</th>\n",
       "      <td>US AOC</td>\n",
       "      <td>LIQUID</td>\n",
       "      <td>LHS</td>\n",
       "      <td></td>\n",
       "      <td></td>\n",
       "      <td></td>\n",
       "      <td></td>\n",
       "      <td>LIQUID</td>\n",
       "      <td>% $ Any Promo Chg YA</td>\n",
       "      <td>-16.836</td>\n",
       "      <td>...</td>\n",
       "      <td>-20.453</td>\n",
       "      <td>-22.546</td>\n",
       "      <td>-22.074</td>\n",
       "      <td>-19.502</td>\n",
       "      <td>-22.665</td>\n",
       "      <td>-25.559</td>\n",
       "      <td>-11.705</td>\n",
       "      <td>1.357</td>\n",
       "      <td>0.325</td>\n",
       "      <td>Total US xAOCLIQUID</td>\n",
       "    </tr>\n",
       "    <tr>\n",
       "      <th>1089643</th>\n",
       "      <td>US AOC</td>\n",
       "      <td>LIQUID</td>\n",
       "      <td>LHS</td>\n",
       "      <td></td>\n",
       "      <td></td>\n",
       "      <td></td>\n",
       "      <td></td>\n",
       "      <td>LIQUID</td>\n",
       "      <td>% EQ Any Promo</td>\n",
       "      <td>14.596</td>\n",
       "      <td>...</td>\n",
       "      <td>11.686</td>\n",
       "      <td>9.192</td>\n",
       "      <td>9.317</td>\n",
       "      <td>7.540</td>\n",
       "      <td>6.718</td>\n",
       "      <td>6.410</td>\n",
       "      <td>22.209</td>\n",
       "      <td>35.128</td>\n",
       "      <td>28.537</td>\n",
       "      <td>Total US xAOCLIQUID</td>\n",
       "    </tr>\n",
       "  </tbody>\n",
       "</table>\n",
       "<p>3 rows × 40 columns</p>\n",
       "</div>"
      ],
      "text/plain": [
       "        Markets ShareBasis Category Manufacturer Franchise Brand SubBrand  \\\n",
       "1089641  US AOC     LIQUID      LHS                                         \n",
       "1089642  US AOC     LIQUID      LHS                                         \n",
       "1089643  US AOC     LIQUID      LHS                                         \n",
       "\n",
       "        Products                 Facts  FY 2020  ...  5 W/E 10/03/20  \\\n",
       "1089641   LIQUID         % $ Any Promo   14.831  ...          11.861   \n",
       "1089642   LIQUID  % $ Any Promo Chg YA  -16.836  ...         -20.453   \n",
       "1089643   LIQUID        % EQ Any Promo   14.596  ...          11.686   \n",
       "\n",
       "         4 W/E 08/29/20  4 W/E 08/01/20  5 W/E 07/04/20  4 W/E 05/30/20  \\\n",
       "1089641          11.856          11.091           9.155           7.571   \n",
       "1089642         -22.546         -22.074         -19.502         -22.665   \n",
       "1089643           9.192           9.317           7.540           6.718   \n",
       "\n",
       "         4 W/E 05/02/20  5 W/E 04/04/20  4 W/E 02/29/20  4 W/E 02/01/20  \\\n",
       "1089641           7.477          22.025          33.480          29.680   \n",
       "1089642         -25.559         -11.705           1.357           0.325   \n",
       "1089643           6.410          22.209          35.128          28.537   \n",
       "\n",
       "                         Key  \n",
       "1089641  Total US xAOCLIQUID  \n",
       "1089642  Total US xAOCLIQUID  \n",
       "1089643  Total US xAOCLIQUID  \n",
       "\n",
       "[3 rows x 40 columns]"
      ]
     },
     "execution_count": 472,
     "metadata": {},
     "output_type": "execute_result"
    }
   ],
   "source": [
    "Data_5p_LHS.head(3)"
   ]
  },
  {
   "cell_type": "code",
   "execution_count": 473,
   "metadata": {
    "scrolled": false
   },
   "outputs": [
    {
     "data": {
      "text/html": [
       "<div>\n",
       "<style scoped>\n",
       "    .dataframe tbody tr th:only-of-type {\n",
       "        vertical-align: middle;\n",
       "    }\n",
       "\n",
       "    .dataframe tbody tr th {\n",
       "        vertical-align: top;\n",
       "    }\n",
       "\n",
       "    .dataframe thead th {\n",
       "        text-align: right;\n",
       "    }\n",
       "</style>\n",
       "<table border=\"1\" class=\"dataframe\">\n",
       "  <thead>\n",
       "    <tr style=\"text-align: right;\">\n",
       "      <th></th>\n",
       "      <th>Markets</th>\n",
       "      <th>ShareBasis</th>\n",
       "      <th>Category</th>\n",
       "      <th>Manufacturer</th>\n",
       "      <th>Franchise</th>\n",
       "      <th>Brand</th>\n",
       "      <th>SubBrand</th>\n",
       "      <th>Products</th>\n",
       "      <th>Facts</th>\n",
       "      <th>FY 2020</th>\n",
       "      <th>...</th>\n",
       "      <th>4 W/E 08/29/20</th>\n",
       "      <th>4 W/E 08/01/20</th>\n",
       "      <th>5 W/E 07/04/20</th>\n",
       "      <th>4 W/E 05/30/20</th>\n",
       "      <th>4 W/E 05/02/20</th>\n",
       "      <th>5 W/E 04/04/20</th>\n",
       "      <th>4 W/E 02/29/20</th>\n",
       "      <th>4 W/E 02/01/20</th>\n",
       "      <th>Key</th>\n",
       "      <th>Container</th>\n",
       "    </tr>\n",
       "  </thead>\n",
       "  <tbody>\n",
       "    <tr>\n",
       "      <th>1089641</th>\n",
       "      <td>US AOC</td>\n",
       "      <td>LIQUID</td>\n",
       "      <td>LHS</td>\n",
       "      <td></td>\n",
       "      <td>None</td>\n",
       "      <td>None</td>\n",
       "      <td>None</td>\n",
       "      <td>LIQUID</td>\n",
       "      <td>% $ Any Promo</td>\n",
       "      <td>14.831</td>\n",
       "      <td>...</td>\n",
       "      <td>11.856</td>\n",
       "      <td>11.091</td>\n",
       "      <td>9.155</td>\n",
       "      <td>7.571</td>\n",
       "      <td>7.477</td>\n",
       "      <td>22.025</td>\n",
       "      <td>33.480</td>\n",
       "      <td>29.680</td>\n",
       "      <td>Total US xAOCLIQUID</td>\n",
       "      <td>None</td>\n",
       "    </tr>\n",
       "    <tr>\n",
       "      <th>1089642</th>\n",
       "      <td>US AOC</td>\n",
       "      <td>LIQUID</td>\n",
       "      <td>LHS</td>\n",
       "      <td></td>\n",
       "      <td>None</td>\n",
       "      <td>None</td>\n",
       "      <td>None</td>\n",
       "      <td>LIQUID</td>\n",
       "      <td>% $ Any Promo Chg YA</td>\n",
       "      <td>-16.836</td>\n",
       "      <td>...</td>\n",
       "      <td>-22.546</td>\n",
       "      <td>-22.074</td>\n",
       "      <td>-19.502</td>\n",
       "      <td>-22.665</td>\n",
       "      <td>-25.559</td>\n",
       "      <td>-11.705</td>\n",
       "      <td>1.357</td>\n",
       "      <td>0.325</td>\n",
       "      <td>Total US xAOCLIQUID</td>\n",
       "      <td>None</td>\n",
       "    </tr>\n",
       "    <tr>\n",
       "      <th>1089643</th>\n",
       "      <td>US AOC</td>\n",
       "      <td>LIQUID</td>\n",
       "      <td>LHS</td>\n",
       "      <td></td>\n",
       "      <td>None</td>\n",
       "      <td>None</td>\n",
       "      <td>None</td>\n",
       "      <td>LIQUID</td>\n",
       "      <td>% EQ Any Promo</td>\n",
       "      <td>14.596</td>\n",
       "      <td>...</td>\n",
       "      <td>9.192</td>\n",
       "      <td>9.317</td>\n",
       "      <td>7.540</td>\n",
       "      <td>6.718</td>\n",
       "      <td>6.410</td>\n",
       "      <td>22.209</td>\n",
       "      <td>35.128</td>\n",
       "      <td>28.537</td>\n",
       "      <td>Total US xAOCLIQUID</td>\n",
       "      <td>None</td>\n",
       "    </tr>\n",
       "  </tbody>\n",
       "</table>\n",
       "<p>3 rows × 41 columns</p>\n",
       "</div>"
      ],
      "text/plain": [
       "        Markets ShareBasis Category Manufacturer Franchise Brand SubBrand  \\\n",
       "1089641  US AOC     LIQUID      LHS                   None  None     None   \n",
       "1089642  US AOC     LIQUID      LHS                   None  None     None   \n",
       "1089643  US AOC     LIQUID      LHS                   None  None     None   \n",
       "\n",
       "        Products                 Facts  FY 2020  ...  4 W/E 08/29/20  \\\n",
       "1089641   LIQUID         % $ Any Promo   14.831  ...          11.856   \n",
       "1089642   LIQUID  % $ Any Promo Chg YA  -16.836  ...         -22.546   \n",
       "1089643   LIQUID        % EQ Any Promo   14.596  ...           9.192   \n",
       "\n",
       "         4 W/E 08/01/20  5 W/E 07/04/20  4 W/E 05/30/20  4 W/E 05/02/20  \\\n",
       "1089641          11.091           9.155           7.571           7.477   \n",
       "1089642         -22.074         -19.502         -22.665         -25.559   \n",
       "1089643           9.317           7.540           6.718           6.410   \n",
       "\n",
       "         5 W/E 04/04/20  4 W/E 02/29/20  4 W/E 02/01/20                  Key  \\\n",
       "1089641          22.025          33.480          29.680  Total US xAOCLIQUID   \n",
       "1089642         -11.705           1.357           0.325  Total US xAOCLIQUID   \n",
       "1089643          22.209          35.128          28.537  Total US xAOCLIQUID   \n",
       "\n",
       "         Container  \n",
       "1089641       None  \n",
       "1089642       None  \n",
       "1089643       None  \n",
       "\n",
       "[3 rows x 41 columns]"
      ]
     },
     "execution_count": 473,
     "metadata": {},
     "output_type": "execute_result"
    }
   ],
   "source": [
    "Data_5p_LHS[['ShareBasis','Franchise','Container','Brand','SubBrand']] = Data_5p_LHS['Products'].str.split('|',n=4,expand=True)\n",
    "Data_5p_LHS.head(3)"
   ]
  },
  {
   "cell_type": "code",
   "execution_count": 474,
   "metadata": {
    "scrolled": false
   },
   "outputs": [
    {
     "data": {
      "text/html": [
       "<div>\n",
       "<style scoped>\n",
       "    .dataframe tbody tr th:only-of-type {\n",
       "        vertical-align: middle;\n",
       "    }\n",
       "\n",
       "    .dataframe tbody tr th {\n",
       "        vertical-align: top;\n",
       "    }\n",
       "\n",
       "    .dataframe thead th {\n",
       "        text-align: right;\n",
       "    }\n",
       "</style>\n",
       "<table border=\"1\" class=\"dataframe\">\n",
       "  <thead>\n",
       "    <tr style=\"text-align: right;\">\n",
       "      <th></th>\n",
       "      <th>Markets</th>\n",
       "      <th>ShareBasis</th>\n",
       "      <th>Category</th>\n",
       "      <th>Manufacturer</th>\n",
       "      <th>Franchise</th>\n",
       "      <th>Brand</th>\n",
       "      <th>SubBrand</th>\n",
       "      <th>Products</th>\n",
       "      <th>Facts</th>\n",
       "      <th>FY 2020</th>\n",
       "      <th>...</th>\n",
       "      <th>4 W/E 08/29/20</th>\n",
       "      <th>4 W/E 08/01/20</th>\n",
       "      <th>5 W/E 07/04/20</th>\n",
       "      <th>4 W/E 05/30/20</th>\n",
       "      <th>4 W/E 05/02/20</th>\n",
       "      <th>5 W/E 04/04/20</th>\n",
       "      <th>4 W/E 02/29/20</th>\n",
       "      <th>4 W/E 02/01/20</th>\n",
       "      <th>Key</th>\n",
       "      <th>Container</th>\n",
       "    </tr>\n",
       "  </thead>\n",
       "  <tbody>\n",
       "    <tr>\n",
       "      <th>1089641</th>\n",
       "      <td>US AOC</td>\n",
       "      <td>LIQUID</td>\n",
       "      <td>LHS</td>\n",
       "      <td></td>\n",
       "      <td></td>\n",
       "      <td></td>\n",
       "      <td></td>\n",
       "      <td>LIQUID</td>\n",
       "      <td>% $ Any Promo</td>\n",
       "      <td>14.831</td>\n",
       "      <td>...</td>\n",
       "      <td>11.856</td>\n",
       "      <td>11.091</td>\n",
       "      <td>9.155</td>\n",
       "      <td>7.571</td>\n",
       "      <td>7.477</td>\n",
       "      <td>22.025</td>\n",
       "      <td>33.480</td>\n",
       "      <td>29.680</td>\n",
       "      <td>Total US xAOCLIQUID</td>\n",
       "      <td></td>\n",
       "    </tr>\n",
       "    <tr>\n",
       "      <th>1089642</th>\n",
       "      <td>US AOC</td>\n",
       "      <td>LIQUID</td>\n",
       "      <td>LHS</td>\n",
       "      <td></td>\n",
       "      <td></td>\n",
       "      <td></td>\n",
       "      <td></td>\n",
       "      <td>LIQUID</td>\n",
       "      <td>% $ Any Promo Chg YA</td>\n",
       "      <td>-16.836</td>\n",
       "      <td>...</td>\n",
       "      <td>-22.546</td>\n",
       "      <td>-22.074</td>\n",
       "      <td>-19.502</td>\n",
       "      <td>-22.665</td>\n",
       "      <td>-25.559</td>\n",
       "      <td>-11.705</td>\n",
       "      <td>1.357</td>\n",
       "      <td>0.325</td>\n",
       "      <td>Total US xAOCLIQUID</td>\n",
       "      <td></td>\n",
       "    </tr>\n",
       "    <tr>\n",
       "      <th>1089643</th>\n",
       "      <td>US AOC</td>\n",
       "      <td>LIQUID</td>\n",
       "      <td>LHS</td>\n",
       "      <td></td>\n",
       "      <td></td>\n",
       "      <td></td>\n",
       "      <td></td>\n",
       "      <td>LIQUID</td>\n",
       "      <td>% EQ Any Promo</td>\n",
       "      <td>14.596</td>\n",
       "      <td>...</td>\n",
       "      <td>9.192</td>\n",
       "      <td>9.317</td>\n",
       "      <td>7.540</td>\n",
       "      <td>6.718</td>\n",
       "      <td>6.410</td>\n",
       "      <td>22.209</td>\n",
       "      <td>35.128</td>\n",
       "      <td>28.537</td>\n",
       "      <td>Total US xAOCLIQUID</td>\n",
       "      <td></td>\n",
       "    </tr>\n",
       "  </tbody>\n",
       "</table>\n",
       "<p>3 rows × 41 columns</p>\n",
       "</div>"
      ],
      "text/plain": [
       "        Markets ShareBasis Category Manufacturer Franchise Brand SubBrand  \\\n",
       "1089641  US AOC     LIQUID      LHS                                         \n",
       "1089642  US AOC     LIQUID      LHS                                         \n",
       "1089643  US AOC     LIQUID      LHS                                         \n",
       "\n",
       "        Products                 Facts  FY 2020  ...  4 W/E 08/29/20  \\\n",
       "1089641   LIQUID         % $ Any Promo   14.831  ...          11.856   \n",
       "1089642   LIQUID  % $ Any Promo Chg YA  -16.836  ...         -22.546   \n",
       "1089643   LIQUID        % EQ Any Promo   14.596  ...           9.192   \n",
       "\n",
       "         4 W/E 08/01/20  5 W/E 07/04/20  4 W/E 05/30/20  4 W/E 05/02/20  \\\n",
       "1089641          11.091           9.155           7.571           7.477   \n",
       "1089642         -22.074         -19.502         -22.665         -25.559   \n",
       "1089643           9.317           7.540           6.718           6.410   \n",
       "\n",
       "         5 W/E 04/04/20  4 W/E 02/29/20  4 W/E 02/01/20                  Key  \\\n",
       "1089641          22.025          33.480          29.680  Total US xAOCLIQUID   \n",
       "1089642         -11.705           1.357           0.325  Total US xAOCLIQUID   \n",
       "1089643          22.209          35.128          28.537  Total US xAOCLIQUID   \n",
       "\n",
       "         Container  \n",
       "1089641             \n",
       "1089642             \n",
       "1089643             \n",
       "\n",
       "[3 rows x 41 columns]"
      ]
     },
     "execution_count": 474,
     "metadata": {},
     "output_type": "execute_result"
    }
   ],
   "source": [
    "Data_5p_LHS[[\"ShareBasis\",\"Franchise\",\"Brand\",\"SubBrand\",\"Container\"]]=Data_5p_LHS[[\"ShareBasis\",\"Franchise\",\"Brand\",\"SubBrand\",\"Container\"]].fillna(value=\"\")\n",
    "Data_5p_LHS.head(3)"
   ]
  },
  {
   "cell_type": "code",
   "execution_count": 475,
   "metadata": {},
   "outputs": [
    {
     "data": {
      "text/html": [
       "<div>\n",
       "<style scoped>\n",
       "    .dataframe tbody tr th:only-of-type {\n",
       "        vertical-align: middle;\n",
       "    }\n",
       "\n",
       "    .dataframe tbody tr th {\n",
       "        vertical-align: top;\n",
       "    }\n",
       "\n",
       "    .dataframe thead th {\n",
       "        text-align: right;\n",
       "    }\n",
       "</style>\n",
       "<table border=\"1\" class=\"dataframe\">\n",
       "  <thead>\n",
       "    <tr style=\"text-align: right;\">\n",
       "      <th></th>\n",
       "      <th>Markets</th>\n",
       "      <th>ShareBasis</th>\n",
       "      <th>Category</th>\n",
       "      <th>Manufacturer</th>\n",
       "      <th>Franchise</th>\n",
       "      <th>Container</th>\n",
       "      <th>Brand</th>\n",
       "      <th>SubBrand</th>\n",
       "      <th>Products</th>\n",
       "      <th>Facts</th>\n",
       "      <th>...</th>\n",
       "      <th>5 W/E 10/03/20</th>\n",
       "      <th>4 W/E 08/29/20</th>\n",
       "      <th>4 W/E 08/01/20</th>\n",
       "      <th>5 W/E 07/04/20</th>\n",
       "      <th>4 W/E 05/30/20</th>\n",
       "      <th>4 W/E 05/02/20</th>\n",
       "      <th>5 W/E 04/04/20</th>\n",
       "      <th>4 W/E 02/29/20</th>\n",
       "      <th>4 W/E 02/01/20</th>\n",
       "      <th>Key</th>\n",
       "    </tr>\n",
       "  </thead>\n",
       "  <tbody>\n",
       "    <tr>\n",
       "      <th>1089641</th>\n",
       "      <td>US AOC</td>\n",
       "      <td>LIQUID</td>\n",
       "      <td>LHS</td>\n",
       "      <td></td>\n",
       "      <td></td>\n",
       "      <td></td>\n",
       "      <td></td>\n",
       "      <td></td>\n",
       "      <td>LIQUID</td>\n",
       "      <td>% $ Any Promo</td>\n",
       "      <td>...</td>\n",
       "      <td>11.861</td>\n",
       "      <td>11.856</td>\n",
       "      <td>11.091</td>\n",
       "      <td>9.155</td>\n",
       "      <td>7.571</td>\n",
       "      <td>7.477</td>\n",
       "      <td>22.025</td>\n",
       "      <td>33.480</td>\n",
       "      <td>29.680</td>\n",
       "      <td>Total US xAOCLIQUID</td>\n",
       "    </tr>\n",
       "    <tr>\n",
       "      <th>1089642</th>\n",
       "      <td>US AOC</td>\n",
       "      <td>LIQUID</td>\n",
       "      <td>LHS</td>\n",
       "      <td></td>\n",
       "      <td></td>\n",
       "      <td></td>\n",
       "      <td></td>\n",
       "      <td></td>\n",
       "      <td>LIQUID</td>\n",
       "      <td>% $ Any Promo Chg YA</td>\n",
       "      <td>...</td>\n",
       "      <td>-20.453</td>\n",
       "      <td>-22.546</td>\n",
       "      <td>-22.074</td>\n",
       "      <td>-19.502</td>\n",
       "      <td>-22.665</td>\n",
       "      <td>-25.559</td>\n",
       "      <td>-11.705</td>\n",
       "      <td>1.357</td>\n",
       "      <td>0.325</td>\n",
       "      <td>Total US xAOCLIQUID</td>\n",
       "    </tr>\n",
       "    <tr>\n",
       "      <th>1089643</th>\n",
       "      <td>US AOC</td>\n",
       "      <td>LIQUID</td>\n",
       "      <td>LHS</td>\n",
       "      <td></td>\n",
       "      <td></td>\n",
       "      <td></td>\n",
       "      <td></td>\n",
       "      <td></td>\n",
       "      <td>LIQUID</td>\n",
       "      <td>% EQ Any Promo</td>\n",
       "      <td>...</td>\n",
       "      <td>11.686</td>\n",
       "      <td>9.192</td>\n",
       "      <td>9.317</td>\n",
       "      <td>7.540</td>\n",
       "      <td>6.718</td>\n",
       "      <td>6.410</td>\n",
       "      <td>22.209</td>\n",
       "      <td>35.128</td>\n",
       "      <td>28.537</td>\n",
       "      <td>Total US xAOCLIQUID</td>\n",
       "    </tr>\n",
       "  </tbody>\n",
       "</table>\n",
       "<p>3 rows × 41 columns</p>\n",
       "</div>"
      ],
      "text/plain": [
       "        Markets ShareBasis Category Manufacturer Franchise Container Brand  \\\n",
       "1089641  US AOC     LIQUID      LHS                                          \n",
       "1089642  US AOC     LIQUID      LHS                                          \n",
       "1089643  US AOC     LIQUID      LHS                                          \n",
       "\n",
       "        SubBrand Products                 Facts  ...  5 W/E 10/03/20  \\\n",
       "1089641            LIQUID         % $ Any Promo  ...          11.861   \n",
       "1089642            LIQUID  % $ Any Promo Chg YA  ...         -20.453   \n",
       "1089643            LIQUID        % EQ Any Promo  ...          11.686   \n",
       "\n",
       "         4 W/E 08/29/20  4 W/E 08/01/20  5 W/E 07/04/20  4 W/E 05/30/20  \\\n",
       "1089641          11.856          11.091           9.155           7.571   \n",
       "1089642         -22.546         -22.074         -19.502         -22.665   \n",
       "1089643           9.192           9.317           7.540           6.718   \n",
       "\n",
       "         4 W/E 05/02/20  5 W/E 04/04/20  4 W/E 02/29/20  4 W/E 02/01/20  \\\n",
       "1089641           7.477          22.025          33.480          29.680   \n",
       "1089642         -25.559         -11.705           1.357           0.325   \n",
       "1089643           6.410          22.209          35.128          28.537   \n",
       "\n",
       "                         Key  \n",
       "1089641  Total US xAOCLIQUID  \n",
       "1089642  Total US xAOCLIQUID  \n",
       "1089643  Total US xAOCLIQUID  \n",
       "\n",
       "[3 rows x 41 columns]"
      ]
     },
     "execution_count": 475,
     "metadata": {},
     "output_type": "execute_result"
    }
   ],
   "source": [
    "Data_5p_LHS = movecol(Data_5p_LHS, \n",
    "             cols_to_move=['Container'], \n",
    "             ref_col='Franchise',\n",
    "             place='After')\n",
    "Data_5p_LHS.head(3)"
   ]
  },
  {
   "cell_type": "code",
   "execution_count": 476,
   "metadata": {},
   "outputs": [
    {
     "data": {
      "text/plain": [
       "{'',\n",
       " 'DIAL',\n",
       " 'DOVE',\n",
       " 'JR WATKINS',\n",
       " 'LIFEBUOY',\n",
       " 'LOVE BEAUTY AND PLANET',\n",
       " 'METHOD',\n",
       " 'MRS MEYERS',\n",
       " 'NBD',\n",
       " 'PRVT LBL',\n",
       " 'PUMP',\n",
       " 'REFILL',\n",
       " 'SAFEGUARD',\n",
       " 'SEVENTH GEN',\n",
       " 'SOFTSOAP',\n",
       " 'SUAVE',\n",
       " 'TOMS OF MAINE'}"
      ]
     },
     "execution_count": 476,
     "metadata": {},
     "output_type": "execute_result"
    }
   ],
   "source": [
    "cols=list(Data_5p_LHS.columns[0:9])\n",
    "Data_5p_LHS[cols]=Data_5p_LHS[cols].apply(lambda x : x.str.strip())\n",
    "set(Data_5p_LHS['Container'])"
   ]
  },
  {
   "cell_type": "code",
   "execution_count": 477,
   "metadata": {},
   "outputs": [],
   "source": [
    "Data_5p_LHS = Data_5p_LHS[Data_5p_LHS[\"Container\"].isin([\"\",\"PUMP\",\"REFILL\"])]\n",
    "#Data_5p_LHS=Data_5p_LHS[Data_5p_LHS[\"Container\"].isin(['','REFILL','PUMP'])]"
   ]
  },
  {
   "cell_type": "code",
   "execution_count": 478,
   "metadata": {},
   "outputs": [],
   "source": [
    "# Data_5p_LHS['Container'] = \" \"+Data_5p_LHS['Container']\n",
    "# #def func:\n",
    "# Data_5p_LHS['Manufacturer'] = Data_5p_LHS['Franchise']\n",
    "# count=0\n",
    "# for i in Data_5p_LHS['Container']:\n",
    "#     if(i==\"\"):\n",
    "#         Data_5p_LHS['Franchise']==\"\"\n",
    "#     else Data_5p_LHS['Franchise']=Data_5p_LHS['Franchise']+Data_5p_LHS['Container']\n",
    "\n",
    "#     if(Data_5p_LHS['Brand']!=\"\"):\n",
    "#         Data_5p_LHS['Brand'] = Data_5p_LHS['Brand']+Data_5p_LHS['Container']\n",
    "\n",
    "#     if(Data_5p_LHS['SubBrand']!=\"\"):\n",
    "#         Data_5p_LHS['SubBrand'] = Data_5p_LHS['SubBrand']+Data_5p_LHS['Container']\n",
    "\n",
    "\n",
    "#Data_5p_LHS[cols]=Data_5p_LHS[cols].apply(lambda x : x.str.strip())\n",
    "\n"
   ]
  },
  {
   "cell_type": "code",
   "execution_count": 479,
   "metadata": {},
   "outputs": [],
   "source": [
    "Data_5p_LHS[\"Frn\"] = \"\"\n",
    "for i in range(0,len(Data_5p_LHS)):\n",
    "    if Data_5p_LHS[\"Container\"].iloc[i] == \"\":\n",
    "        Data_5p_LHS[\"Frn\"].iloc[i] = \"\"\n",
    "    else:\n",
    "        Data_5p_LHS[\"Frn\"].iloc[i] = Data_5p_LHS[\"Franchise\"].iloc[i] +\" \"+Data_5p_LHS[\"Container\"].iloc[i]"
   ]
  },
  {
   "cell_type": "code",
   "execution_count": 480,
   "metadata": {},
   "outputs": [],
   "source": [
    "Data_5p_LHS[\"Brn\"] = \"\"\n",
    "for i in range(0,len(Data_5p_LHS)):\n",
    "    if Data_5p_LHS[\"Brand\"].iloc[i] == \"\":\n",
    "        Data_5p_LHS[\"Brn\"].iloc[i] = \"\"\n",
    "    else:\n",
    "        Data_5p_LHS[\"Brn\"].iloc[i] = Data_5p_LHS[\"Brand\"].iloc[i] +\" \"+Data_5p_LHS[\"Container\"].iloc[i]"
   ]
  },
  {
   "cell_type": "code",
   "execution_count": 481,
   "metadata": {},
   "outputs": [],
   "source": [
    "Data_5p_LHS[\"SubBrn\"] = \"\"\n",
    "for i in range(0,len(Data_5p_LHS)):\n",
    "    if Data_5p_LHS[\"SubBrand\"].iloc[i] == \"\":\n",
    "        Data_5p_LHS[\"SubBrn\"].iloc[i] = \"\"\n",
    "    else:\n",
    "        Data_5p_LHS[\"SubBrn\"].iloc[i] = Data_5p_LHS[\"SubBrand\"].iloc[i] +\" \"+Data_5p_LHS[\"Container\"].iloc[i]"
   ]
  },
  {
   "cell_type": "code",
   "execution_count": 482,
   "metadata": {},
   "outputs": [],
   "source": [
    "Data_5p_LHS['Manufacturer'] = Data_5p_LHS['Franchise']\n",
    "Data_5p_LHS['Franchise'] = Data_5p_LHS['Frn']\n",
    "Data_5p_LHS['Brand'] = Data_5p_LHS['Brn']\n",
    "Data_5p_LHS['SubBrand'] = Data_5p_LHS['SubBrn']"
   ]
  },
  {
   "cell_type": "code",
   "execution_count": 483,
   "metadata": {},
   "outputs": [],
   "source": [
    "del Data_5p_LHS[\"Frn\"]"
   ]
  },
  {
   "cell_type": "code",
   "execution_count": null,
   "metadata": {},
   "outputs": [],
   "source": []
  },
  {
   "cell_type": "code",
   "execution_count": 484,
   "metadata": {},
   "outputs": [],
   "source": [
    "del Data_5p_LHS['Container']"
   ]
  },
  {
   "cell_type": "code",
   "execution_count": 485,
   "metadata": {},
   "outputs": [
    {
     "data": {
      "text/html": [
       "<div>\n",
       "<style scoped>\n",
       "    .dataframe tbody tr th:only-of-type {\n",
       "        vertical-align: middle;\n",
       "    }\n",
       "\n",
       "    .dataframe tbody tr th {\n",
       "        vertical-align: top;\n",
       "    }\n",
       "\n",
       "    .dataframe thead th {\n",
       "        text-align: right;\n",
       "    }\n",
       "</style>\n",
       "<table border=\"1\" class=\"dataframe\">\n",
       "  <thead>\n",
       "    <tr style=\"text-align: right;\">\n",
       "      <th></th>\n",
       "      <th>Markets</th>\n",
       "      <th>ShareBasis</th>\n",
       "      <th>Category</th>\n",
       "      <th>Manufacturer</th>\n",
       "      <th>Franchise</th>\n",
       "      <th>Brand</th>\n",
       "      <th>SubBrand</th>\n",
       "      <th>Products</th>\n",
       "      <th>Facts</th>\n",
       "      <th>FY 2020</th>\n",
       "      <th>...</th>\n",
       "      <th>4 W/E 08/01/20</th>\n",
       "      <th>5 W/E 07/04/20</th>\n",
       "      <th>4 W/E 05/30/20</th>\n",
       "      <th>4 W/E 05/02/20</th>\n",
       "      <th>5 W/E 04/04/20</th>\n",
       "      <th>4 W/E 02/29/20</th>\n",
       "      <th>4 W/E 02/01/20</th>\n",
       "      <th>Key</th>\n",
       "      <th>Brn</th>\n",
       "      <th>SubBrn</th>\n",
       "    </tr>\n",
       "  </thead>\n",
       "  <tbody>\n",
       "    <tr>\n",
       "      <th>1089641</th>\n",
       "      <td>US AOC</td>\n",
       "      <td>LIQUID</td>\n",
       "      <td>LHS</td>\n",
       "      <td></td>\n",
       "      <td></td>\n",
       "      <td></td>\n",
       "      <td></td>\n",
       "      <td>LIQUID</td>\n",
       "      <td>% $ Any Promo</td>\n",
       "      <td>14.831</td>\n",
       "      <td>...</td>\n",
       "      <td>11.091</td>\n",
       "      <td>9.155</td>\n",
       "      <td>7.571</td>\n",
       "      <td>7.477</td>\n",
       "      <td>22.025</td>\n",
       "      <td>33.480</td>\n",
       "      <td>29.680</td>\n",
       "      <td>Total US xAOCLIQUID</td>\n",
       "      <td></td>\n",
       "      <td></td>\n",
       "    </tr>\n",
       "    <tr>\n",
       "      <th>1089642</th>\n",
       "      <td>US AOC</td>\n",
       "      <td>LIQUID</td>\n",
       "      <td>LHS</td>\n",
       "      <td></td>\n",
       "      <td></td>\n",
       "      <td></td>\n",
       "      <td></td>\n",
       "      <td>LIQUID</td>\n",
       "      <td>% $ Any Promo Chg YA</td>\n",
       "      <td>-16.836</td>\n",
       "      <td>...</td>\n",
       "      <td>-22.074</td>\n",
       "      <td>-19.502</td>\n",
       "      <td>-22.665</td>\n",
       "      <td>-25.559</td>\n",
       "      <td>-11.705</td>\n",
       "      <td>1.357</td>\n",
       "      <td>0.325</td>\n",
       "      <td>Total US xAOCLIQUID</td>\n",
       "      <td></td>\n",
       "      <td></td>\n",
       "    </tr>\n",
       "    <tr>\n",
       "      <th>1089643</th>\n",
       "      <td>US AOC</td>\n",
       "      <td>LIQUID</td>\n",
       "      <td>LHS</td>\n",
       "      <td></td>\n",
       "      <td></td>\n",
       "      <td></td>\n",
       "      <td></td>\n",
       "      <td>LIQUID</td>\n",
       "      <td>% EQ Any Promo</td>\n",
       "      <td>14.596</td>\n",
       "      <td>...</td>\n",
       "      <td>9.317</td>\n",
       "      <td>7.540</td>\n",
       "      <td>6.718</td>\n",
       "      <td>6.410</td>\n",
       "      <td>22.209</td>\n",
       "      <td>35.128</td>\n",
       "      <td>28.537</td>\n",
       "      <td>Total US xAOCLIQUID</td>\n",
       "      <td></td>\n",
       "      <td></td>\n",
       "    </tr>\n",
       "  </tbody>\n",
       "</table>\n",
       "<p>3 rows × 42 columns</p>\n",
       "</div>"
      ],
      "text/plain": [
       "        Markets ShareBasis Category Manufacturer Franchise Brand SubBrand  \\\n",
       "1089641  US AOC     LIQUID      LHS                                         \n",
       "1089642  US AOC     LIQUID      LHS                                         \n",
       "1089643  US AOC     LIQUID      LHS                                         \n",
       "\n",
       "        Products                 Facts  FY 2020  ...  4 W/E 08/01/20  \\\n",
       "1089641   LIQUID         % $ Any Promo   14.831  ...          11.091   \n",
       "1089642   LIQUID  % $ Any Promo Chg YA  -16.836  ...         -22.074   \n",
       "1089643   LIQUID        % EQ Any Promo   14.596  ...           9.317   \n",
       "\n",
       "         5 W/E 07/04/20  4 W/E 05/30/20  4 W/E 05/02/20  5 W/E 04/04/20  \\\n",
       "1089641           9.155           7.571           7.477          22.025   \n",
       "1089642         -19.502         -22.665         -25.559         -11.705   \n",
       "1089643           7.540           6.718           6.410          22.209   \n",
       "\n",
       "         4 W/E 02/29/20  4 W/E 02/01/20                  Key  Brn  SubBrn  \n",
       "1089641          33.480          29.680  Total US xAOCLIQUID               \n",
       "1089642           1.357           0.325  Total US xAOCLIQUID               \n",
       "1089643          35.128          28.537  Total US xAOCLIQUID               \n",
       "\n",
       "[3 rows x 42 columns]"
      ]
     },
     "execution_count": 485,
     "metadata": {},
     "output_type": "execute_result"
    }
   ],
   "source": [
    "Data_5p_LHS.head(3)"
   ]
  },
  {
   "cell_type": "code",
   "execution_count": 486,
   "metadata": {},
   "outputs": [
    {
     "data": {
      "text/plain": [
       "(14699, 42)"
      ]
     },
     "execution_count": 486,
     "metadata": {},
     "output_type": "execute_result"
    }
   ],
   "source": [
    "Data_5p_LHS.shape"
   ]
  },
  {
   "cell_type": "code",
   "execution_count": null,
   "metadata": {},
   "outputs": [],
   "source": []
  },
  {
   "cell_type": "code",
   "execution_count": null,
   "metadata": {},
   "outputs": [],
   "source": []
  },
  {
   "cell_type": "markdown",
   "metadata": {},
   "source": [
    "## Promotion Data LHS"
   ]
  },
  {
   "cell_type": "code",
   "execution_count": 487,
   "metadata": {},
   "outputs": [],
   "source": [
    "LHS_Promo= Data_5p_LHS.copy()"
   ]
  },
  {
   "cell_type": "code",
   "execution_count": 488,
   "metadata": {},
   "outputs": [
    {
     "data": {
      "text/plain": [
       "{'Any Promo %ACV',\n",
       " 'Any Promo %ACV Chg YA',\n",
       " 'Disp w/o Feat %ACV',\n",
       " 'Disp w/o Feat %ACV Chg YA',\n",
       " 'Feat & Disp %ACV',\n",
       " 'Feat & Disp %ACV Chg YA',\n",
       " 'Feat w/o Disp %ACV',\n",
       " 'Feat w/o Disp %ACV Chg YA'}"
      ]
     },
     "execution_count": 488,
     "metadata": {},
     "output_type": "execute_result"
    }
   ],
   "source": [
    "set(Promo_Facts) - set(LHS_Promo['Facts'])\n"
   ]
  },
  {
   "cell_type": "code",
   "execution_count": 489,
   "metadata": {},
   "outputs": [],
   "source": [
    "Promo_Markets=[\"US AOC\",\"Ahold\",\"Alb/Sfy\",\"BJs\",\"CVS\",\"Dollar General\",\"Family Dollar\",\"Publix\",\n",
    "         \"Rite Aid\",\"Sams\",\"Shoprite\",\"Target\",\"US Drug\",\"US Food\",\"Walgreens\",\"Walmart\", \"Meijer\"]"
   ]
  },
  {
   "cell_type": "code",
   "execution_count": 490,
   "metadata": {},
   "outputs": [],
   "source": [
    "# Filter Data based on Promo selection\n",
    "LHS_Promo= LHS_Promo[LHS_Promo[\"Facts\"].isin(Promo_Facts)]\n",
    "LHS_Promo= LHS_Promo[LHS_Promo[\"Markets\"].isin(Promo_Markets)]\n",
    "LHS_Promo=LHS_Promo[Promo_Time_Period]"
   ]
  },
  {
   "cell_type": "code",
   "execution_count": 491,
   "metadata": {},
   "outputs": [
    {
     "name": "stdout",
     "output_type": "stream",
     "text": [
      "17 17\n"
     ]
    }
   ],
   "source": [
    "print(len(Promo_Markets), len(set(LHS_Promo[\"Markets\"])))"
   ]
  },
  {
   "cell_type": "markdown",
   "metadata": {},
   "source": [
    "**Fact Name Change**"
   ]
  },
  {
   "cell_type": "code",
   "execution_count": 492,
   "metadata": {},
   "outputs": [],
   "source": [
    "LHS_Promo[\"Facts\"].replace(Promo_Fact_Mapping,inplace=True)"
   ]
  },
  {
   "cell_type": "code",
   "execution_count": 493,
   "metadata": {
    "scrolled": true
   },
   "outputs": [
    {
     "data": {
      "text/plain": [
       "(4862, 26)"
      ]
     },
     "execution_count": 493,
     "metadata": {},
     "output_type": "execute_result"
    }
   ],
   "source": [
    "LHS_Promo.shape"
   ]
  },
  {
   "cell_type": "markdown",
   "metadata": {},
   "source": [
    "**Column name Change**"
   ]
  },
  {
   "cell_type": "code",
   "execution_count": 494,
   "metadata": {},
   "outputs": [],
   "source": [
    "LHS_Promo.rename(columns={\"Markets\":\"MKT\",\"ShareBasis\":\"CP_CATEGORY\",\"Products\":\"PROD\",\"Manufacturer\":\"CP_MANUFACTURER\",\n",
    "                                \"Franchise\":\"CP_FRANCHISE\",\"Brand\":\"CP_BRAND\",\"SubBrand\":\"CP_SUBBRAND\",\"Facts\":\"FCT\"},inplace=True)"
   ]
  },
  {
   "cell_type": "code",
   "execution_count": 495,
   "metadata": {},
   "outputs": [
    {
     "data": {
      "text/html": [
       "<div>\n",
       "<style scoped>\n",
       "    .dataframe tbody tr th:only-of-type {\n",
       "        vertical-align: middle;\n",
       "    }\n",
       "\n",
       "    .dataframe tbody tr th {\n",
       "        vertical-align: top;\n",
       "    }\n",
       "\n",
       "    .dataframe thead th {\n",
       "        text-align: right;\n",
       "    }\n",
       "</style>\n",
       "<table border=\"1\" class=\"dataframe\">\n",
       "  <thead>\n",
       "    <tr style=\"text-align: right;\">\n",
       "      <th></th>\n",
       "      <th>MKT</th>\n",
       "      <th>PROD</th>\n",
       "      <th>CP_CATEGORY</th>\n",
       "      <th>Category</th>\n",
       "      <th>CP_MANUFACTURER</th>\n",
       "      <th>CP_FRANCHISE</th>\n",
       "      <th>CP_BRAND</th>\n",
       "      <th>CP_SUBBRAND</th>\n",
       "      <th>FCT</th>\n",
       "      <th>4 W/E 02/27/21</th>\n",
       "      <th>...</th>\n",
       "      <th>4 W/E 05/02/20</th>\n",
       "      <th>4 W/E 05/30/20</th>\n",
       "      <th>5 W/E 07/04/20</th>\n",
       "      <th>4 W/E 08/01/20</th>\n",
       "      <th>4 W/E 08/29/20</th>\n",
       "      <th>5 W/E 10/03/20</th>\n",
       "      <th>4 W/E 10/31/20</th>\n",
       "      <th>4 W/E 11/28/20</th>\n",
       "      <th>5 W/E 01/02/21</th>\n",
       "      <th>4 W/E 01/30/21</th>\n",
       "    </tr>\n",
       "  </thead>\n",
       "  <tbody>\n",
       "    <tr>\n",
       "      <th>1089641</th>\n",
       "      <td>US AOC</td>\n",
       "      <td>LIQUID</td>\n",
       "      <td>LIQUID</td>\n",
       "      <td>LHS</td>\n",
       "      <td></td>\n",
       "      <td></td>\n",
       "      <td></td>\n",
       "      <td></td>\n",
       "      <td>% Dollars w/Any Promo</td>\n",
       "      <td>14.686</td>\n",
       "      <td>...</td>\n",
       "      <td>7.477</td>\n",
       "      <td>7.571</td>\n",
       "      <td>9.155</td>\n",
       "      <td>11.091</td>\n",
       "      <td>11.856</td>\n",
       "      <td>11.861</td>\n",
       "      <td>14.357</td>\n",
       "      <td>12.52</td>\n",
       "      <td>15.309</td>\n",
       "      <td>12.909</td>\n",
       "    </tr>\n",
       "    <tr>\n",
       "      <th>1089642</th>\n",
       "      <td>US AOC</td>\n",
       "      <td>LIQUID</td>\n",
       "      <td>LIQUID</td>\n",
       "      <td>LHS</td>\n",
       "      <td></td>\n",
       "      <td></td>\n",
       "      <td></td>\n",
       "      <td></td>\n",
       "      <td>% Dollars w/Any Promo YAG Chg</td>\n",
       "      <td>-18.794</td>\n",
       "      <td>...</td>\n",
       "      <td>-25.559</td>\n",
       "      <td>-22.665</td>\n",
       "      <td>-19.502</td>\n",
       "      <td>-22.074</td>\n",
       "      <td>-22.546</td>\n",
       "      <td>-20.453</td>\n",
       "      <td>-18.955</td>\n",
       "      <td>-18.79</td>\n",
       "      <td>-13.251</td>\n",
       "      <td>-16.771</td>\n",
       "    </tr>\n",
       "  </tbody>\n",
       "</table>\n",
       "<p>2 rows × 26 columns</p>\n",
       "</div>"
      ],
      "text/plain": [
       "            MKT    PROD CP_CATEGORY Category CP_MANUFACTURER CP_FRANCHISE  \\\n",
       "1089641  US AOC  LIQUID      LIQUID      LHS                                \n",
       "1089642  US AOC  LIQUID      LIQUID      LHS                                \n",
       "\n",
       "        CP_BRAND CP_SUBBRAND                            FCT  4 W/E 02/27/21  \\\n",
       "1089641                               % Dollars w/Any Promo          14.686   \n",
       "1089642                       % Dollars w/Any Promo YAG Chg         -18.794   \n",
       "\n",
       "         ...  4 W/E 05/02/20  4 W/E 05/30/20  5 W/E 07/04/20  4 W/E 08/01/20  \\\n",
       "1089641  ...           7.477           7.571           9.155          11.091   \n",
       "1089642  ...         -25.559         -22.665         -19.502         -22.074   \n",
       "\n",
       "         4 W/E 08/29/20  5 W/E 10/03/20  4 W/E 10/31/20  4 W/E 11/28/20  \\\n",
       "1089641          11.856          11.861          14.357           12.52   \n",
       "1089642         -22.546         -20.453         -18.955          -18.79   \n",
       "\n",
       "         5 W/E 01/02/21  4 W/E 01/30/21  \n",
       "1089641          15.309          12.909  \n",
       "1089642         -13.251         -16.771  \n",
       "\n",
       "[2 rows x 26 columns]"
      ]
     },
     "execution_count": 495,
     "metadata": {},
     "output_type": "execute_result"
    }
   ],
   "source": [
    "LHS_Promo.head(2)"
   ]
  },
  {
   "cell_type": "code",
   "execution_count": 496,
   "metadata": {},
   "outputs": [],
   "source": [
    "# del LHS_Promo[\"ShareBasis\"]\n",
    "del LHS_Promo[\"Category\"]"
   ]
  },
  {
   "cell_type": "code",
   "execution_count": 497,
   "metadata": {},
   "outputs": [],
   "source": [
    "Fact_order = CategoricalDtype(\n",
    "    sorted(list(set(LHS_Promo[\"FCT\"]))), \n",
    "    ordered=True\n",
    ")\n",
    "\n",
    "LHS_Promo['FCT'] = LHS_Promo['FCT'].astype(Fact_order)\n",
    "\n",
    "LHS_Promo.sort_values(['MKT','PROD','FCT'],inplace=True)"
   ]
  },
  {
   "cell_type": "markdown",
   "metadata": {},
   "source": [
    "## **promo_category**"
   ]
  },
  {
   "cell_type": "code",
   "execution_count": 498,
   "metadata": {},
   "outputs": [],
   "source": [
    "promo_category=LHS_Promo.loc[(LHS_Promo[\"CP_SUBBRAND\"]==\"\") & (LHS_Promo[\"CP_BRAND\"]==\"\")&(LHS_Promo[\"CP_FRANCHISE\"]==\"\")&(LHS_Promo[\"CP_MANUFACTURER\"]==\"\")]"
   ]
  },
  {
   "cell_type": "code",
   "execution_count": 499,
   "metadata": {},
   "outputs": [],
   "source": [
    "length= len(promo_category)\n",
    "promo_category[\"Record_ID\"]=range(1,length+1)"
   ]
  },
  {
   "cell_type": "code",
   "execution_count": 500,
   "metadata": {},
   "outputs": [
    {
     "data": {
      "text/html": [
       "<div>\n",
       "<style scoped>\n",
       "    .dataframe tbody tr th:only-of-type {\n",
       "        vertical-align: middle;\n",
       "    }\n",
       "\n",
       "    .dataframe tbody tr th {\n",
       "        vertical-align: top;\n",
       "    }\n",
       "\n",
       "    .dataframe thead th {\n",
       "        text-align: right;\n",
       "    }\n",
       "</style>\n",
       "<table border=\"1\" class=\"dataframe\">\n",
       "  <thead>\n",
       "    <tr style=\"text-align: right;\">\n",
       "      <th></th>\n",
       "      <th>MKT</th>\n",
       "      <th>PROD</th>\n",
       "      <th>CP_CATEGORY</th>\n",
       "      <th>CP_MANUFACTURER</th>\n",
       "      <th>CP_FRANCHISE</th>\n",
       "      <th>CP_BRAND</th>\n",
       "      <th>CP_SUBBRAND</th>\n",
       "      <th>FCT</th>\n",
       "      <th>4 W/E 02/27/21</th>\n",
       "      <th>Latest 13 Weeks</th>\n",
       "      <th>...</th>\n",
       "      <th>4 W/E 05/30/20</th>\n",
       "      <th>5 W/E 07/04/20</th>\n",
       "      <th>4 W/E 08/01/20</th>\n",
       "      <th>4 W/E 08/29/20</th>\n",
       "      <th>5 W/E 10/03/20</th>\n",
       "      <th>4 W/E 10/31/20</th>\n",
       "      <th>4 W/E 11/28/20</th>\n",
       "      <th>5 W/E 01/02/21</th>\n",
       "      <th>4 W/E 01/30/21</th>\n",
       "      <th>Record_ID</th>\n",
       "    </tr>\n",
       "  </thead>\n",
       "  <tbody>\n",
       "    <tr>\n",
       "      <th>1163522</th>\n",
       "      <td>Ahold</td>\n",
       "      <td>LIQUID</td>\n",
       "      <td>LIQUID</td>\n",
       "      <td></td>\n",
       "      <td></td>\n",
       "      <td></td>\n",
       "      <td></td>\n",
       "      <td>$ Share</td>\n",
       "      <td>100.0</td>\n",
       "      <td>100.0</td>\n",
       "      <td>...</td>\n",
       "      <td>100.0</td>\n",
       "      <td>100.0</td>\n",
       "      <td>100.0</td>\n",
       "      <td>100.0</td>\n",
       "      <td>100.0</td>\n",
       "      <td>100.0</td>\n",
       "      <td>100.0</td>\n",
       "      <td>100.0</td>\n",
       "      <td>100.0</td>\n",
       "      <td>1</td>\n",
       "    </tr>\n",
       "    <tr>\n",
       "      <th>1163523</th>\n",
       "      <td>Ahold</td>\n",
       "      <td>LIQUID</td>\n",
       "      <td>LIQUID</td>\n",
       "      <td></td>\n",
       "      <td></td>\n",
       "      <td></td>\n",
       "      <td></td>\n",
       "      <td>$ Share YAG Chg</td>\n",
       "      <td>0.0</td>\n",
       "      <td>0.0</td>\n",
       "      <td>...</td>\n",
       "      <td>0.0</td>\n",
       "      <td>0.0</td>\n",
       "      <td>0.0</td>\n",
       "      <td>0.0</td>\n",
       "      <td>0.0</td>\n",
       "      <td>0.0</td>\n",
       "      <td>0.0</td>\n",
       "      <td>0.0</td>\n",
       "      <td>0.0</td>\n",
       "      <td>2</td>\n",
       "    </tr>\n",
       "  </tbody>\n",
       "</table>\n",
       "<p>2 rows × 26 columns</p>\n",
       "</div>"
      ],
      "text/plain": [
       "           MKT    PROD CP_CATEGORY CP_MANUFACTURER CP_FRANCHISE CP_BRAND  \\\n",
       "1163522  Ahold  LIQUID      LIQUID                                         \n",
       "1163523  Ahold  LIQUID      LIQUID                                         \n",
       "\n",
       "        CP_SUBBRAND              FCT  4 W/E 02/27/21  Latest 13 Weeks  ...  \\\n",
       "1163522                      $ Share           100.0            100.0  ...   \n",
       "1163523              $ Share YAG Chg             0.0              0.0  ...   \n",
       "\n",
       "         4 W/E 05/30/20  5 W/E 07/04/20  4 W/E 08/01/20  4 W/E 08/29/20  \\\n",
       "1163522           100.0           100.0           100.0           100.0   \n",
       "1163523             0.0             0.0             0.0             0.0   \n",
       "\n",
       "         5 W/E 10/03/20  4 W/E 10/31/20  4 W/E 11/28/20  5 W/E 01/02/21  \\\n",
       "1163522           100.0           100.0           100.0           100.0   \n",
       "1163523             0.0             0.0             0.0             0.0   \n",
       "\n",
       "         4 W/E 01/30/21  Record_ID  \n",
       "1163522           100.0          1  \n",
       "1163523             0.0          2  \n",
       "\n",
       "[2 rows x 26 columns]"
      ]
     },
     "execution_count": 500,
     "metadata": {},
     "output_type": "execute_result"
    }
   ],
   "source": [
    "promo_category.head(2)"
   ]
  },
  {
   "cell_type": "code",
   "execution_count": 501,
   "metadata": {},
   "outputs": [],
   "source": [
    "promo_category.to_csv(path_LHS+\"promo_category.csv\",index=False)"
   ]
  },
  {
   "cell_type": "markdown",
   "metadata": {},
   "source": [
    "## **promo_toplevel**"
   ]
  },
  {
   "cell_type": "code",
   "execution_count": 502,
   "metadata": {},
   "outputs": [],
   "source": [
    "promo_toplevel=LHS_Promo.loc[(LHS_Promo[\"CP_SUBBRAND\"]==\"\") & (LHS_Promo[\"CP_BRAND\"]==\"\")&(LHS_Promo[\"CP_FRANCHISE\"]==\"\")&(LHS_Promo[\"CP_MANUFACTURER\"]!=\"\")]"
   ]
  },
  {
   "cell_type": "code",
   "execution_count": 503,
   "metadata": {},
   "outputs": [],
   "source": [
    "# Blank row 0th position\n",
    "df1=pd.DataFrame([[np.nan]*len(promo_toplevel.columns)],columns=promo_toplevel.columns)\n",
    "promo_toplevel=df1.append(promo_toplevel,ignore_index=True)"
   ]
  },
  {
   "cell_type": "code",
   "execution_count": 504,
   "metadata": {},
   "outputs": [],
   "source": [
    "length= len(promo_toplevel)\n",
    "promo_toplevel[\"Record_ID\"]=range(1,length+1)"
   ]
  },
  {
   "cell_type": "code",
   "execution_count": 505,
   "metadata": {},
   "outputs": [],
   "source": [
    "promo_toplevel.to_csv(path_LHS+\"promo_toplevel.csv\",index=False)"
   ]
  },
  {
   "cell_type": "markdown",
   "metadata": {},
   "source": [
    "## **promo_franchise**"
   ]
  },
  {
   "cell_type": "code",
   "execution_count": 506,
   "metadata": {},
   "outputs": [],
   "source": [
    "promo_franchise=LHS_Promo.loc[(LHS_Promo[\"CP_SUBBRAND\"]==\"\") & (LHS_Promo[\"CP_BRAND\"]==\"\")&(LHS_Promo[\"CP_FRANCHISE\"]!=\"\")]"
   ]
  },
  {
   "cell_type": "code",
   "execution_count": 507,
   "metadata": {},
   "outputs": [],
   "source": [
    "length= len(promo_franchise)\n",
    "promo_franchise[\"Record_ID\"]=range(1,length+1)"
   ]
  },
  {
   "cell_type": "code",
   "execution_count": 508,
   "metadata": {},
   "outputs": [],
   "source": [
    "promo_franchise.to_csv(path_LHS+\"promo_franchise.csv\",index=False)"
   ]
  },
  {
   "cell_type": "markdown",
   "metadata": {},
   "source": [
    "## **promo_brand_promo**"
   ]
  },
  {
   "cell_type": "code",
   "execution_count": 509,
   "metadata": {},
   "outputs": [],
   "source": [
    "promo_brand_promo=LHS_Promo.loc[(LHS_Promo[\"CP_SUBBRAND\"]==\"\") & (LHS_Promo[\"CP_BRAND\"]!=\"\")]"
   ]
  },
  {
   "cell_type": "code",
   "execution_count": 510,
   "metadata": {},
   "outputs": [],
   "source": [
    "length= len(promo_brand_promo)\n",
    "promo_brand_promo[\"Record_ID\"]=range(1,length+1)"
   ]
  },
  {
   "cell_type": "code",
   "execution_count": 511,
   "metadata": {},
   "outputs": [],
   "source": [
    "promo_brand_promo.to_csv(path_LHS+\"promo_brand_promo.csv\",index=False)"
   ]
  },
  {
   "cell_type": "markdown",
   "metadata": {},
   "source": [
    "## **promo_subbrand_promo**"
   ]
  },
  {
   "cell_type": "code",
   "execution_count": 512,
   "metadata": {},
   "outputs": [],
   "source": [
    "promo_subbrand_promo=LHS_Promo.loc[(LHS_Promo[\"CP_SUBBRAND\"]!=\"\")]"
   ]
  },
  {
   "cell_type": "code",
   "execution_count": 513,
   "metadata": {},
   "outputs": [],
   "source": [
    "length= len(promo_subbrand_promo)\n",
    "promo_subbrand_promo[\"Record_ID\"]=range(1,length+1)"
   ]
  },
  {
   "cell_type": "code",
   "execution_count": 514,
   "metadata": {},
   "outputs": [],
   "source": [
    "promo_subbrand_promo.to_csv(path_LHS+\"promo_subbrand_promo.csv\",index=False)"
   ]
  },
  {
   "cell_type": "code",
   "execution_count": null,
   "metadata": {},
   "outputs": [],
   "source": []
  },
  {
   "cell_type": "markdown",
   "metadata": {},
   "source": [
    "## Waterfall"
   ]
  },
  {
   "cell_type": "code",
   "execution_count": 515,
   "metadata": {},
   "outputs": [],
   "source": [
    "Waterfall_LHS=Data_5p_LHS.copy()"
   ]
  },
  {
   "cell_type": "code",
   "execution_count": 516,
   "metadata": {},
   "outputs": [],
   "source": [
    "Waterfall_Markets=[\"TOTAL US XAOC\",\"TOTAL US DRUG\",\"TOTAL US FOOD\",\"TOTAL WALMART TOTAL US CTA\",\"TARGET TOTAL BM/FF CENSUS TA\",\n",
    "         \"WALGREENS CORP TOTAL CENSUS TA\",\"RITE AID - TOTAL CENSUS TA\",\"SHOPRITE TOTAL CENSUS TRADING AREA\",\n",
    "         \"PUBLIX TOTAL CENSUS TRADING AREA\",\"FAMILY DOLLAR TOTAL CENSUS TRADING AREA\",\"DOL GEN TOTAL CENSUS TA\",\n",
    "         \"CVS TOTAL CORP WO HI CENSUS TA\",\"SAMS TOTAL CENSUS TRADING AREA\",\"BJS TOTAL CENSUS TA\",\n",
    "         \"AHOLD USA CORP TOTAL CTA\",\"ALBSCO Total Company TA\",\"Meijer Total TA\" ]"
   ]
  },
  {
   "cell_type": "code",
   "execution_count": 517,
   "metadata": {},
   "outputs": [],
   "source": [
    "Waterfall_Fact_Mapping={\n",
    "    \"No Promo Incr $\":\"Incr.$ w/No Promo\",\n",
    "    \"Feat w/o Disp $\":\"Incr.$ w/Ftr w/o Disp\",\n",
    "    \"Disp w/o Feat $\":\"Incr.$ w/Disp w/o Ftr\",\n",
    "    \"Feat & Disp $\":\"Incr.$ w/Ftr & Disp\",\n",
    "    \"Price Decr Only $\":\"Incr.$ w/TPR\",\n",
    "    \"$\":\"Dollars\",\n",
    "    \"$ Shr - CP CATEGORY\":\"Liq $ Share\",\n",
    "    \"Base $\":\"Baseline $\"\n",
    "}"
   ]
  },
  {
   "cell_type": "markdown",
   "metadata": {},
   "source": [
    "**Market Mapping**"
   ]
  },
  {
   "cell_type": "code",
   "execution_count": 518,
   "metadata": {},
   "outputs": [],
   "source": [
    "Waterfall_LHS[\"Markets\"].replace(Waterfall_Market_Mapping,inplace=True)"
   ]
  },
  {
   "cell_type": "markdown",
   "metadata": {},
   "source": [
    "**Facts, Markets, Time_Period Filter**"
   ]
  },
  {
   "cell_type": "code",
   "execution_count": 519,
   "metadata": {},
   "outputs": [],
   "source": [
    "Waterfall_LHS= Waterfall_LHS[Waterfall_LHS[\"Facts\"].isin(Waterfall_Facts)]\n",
    "Waterfall_LHS= Waterfall_LHS[Waterfall_LHS[\"Markets\"].isin(Waterfall_Markets)]\n",
    "Waterfall_LHS=Waterfall_LHS[Waterfall_Time_Period]"
   ]
  },
  {
   "cell_type": "code",
   "execution_count": 520,
   "metadata": {},
   "outputs": [
    {
     "name": "stdout",
     "output_type": "stream",
     "text": [
      "17 16\n"
     ]
    }
   ],
   "source": [
    "print(len(Waterfall_Markets), len(set(Waterfall_LHS[\"Markets\"])))"
   ]
  },
  {
   "cell_type": "code",
   "execution_count": 521,
   "metadata": {},
   "outputs": [
    {
     "data": {
      "text/plain": [
       "{'Meijer Total TA'}"
      ]
     },
     "execution_count": 521,
     "metadata": {},
     "output_type": "execute_result"
    }
   ],
   "source": [
    "set(Waterfall_Markets) - set(Waterfall_LHS[\"Markets\"])"
   ]
  },
  {
   "cell_type": "code",
   "execution_count": 522,
   "metadata": {},
   "outputs": [
    {
     "data": {
      "text/plain": [
       "{'AHOLD USA CORP TOTAL CTA',\n",
       " 'ALBSCO Total Company TA',\n",
       " 'BJS TOTAL CENSUS TA',\n",
       " 'CVS TOTAL CORP WO HI CENSUS TA',\n",
       " 'DOL GEN TOTAL CENSUS TA',\n",
       " 'FAMILY DOLLAR TOTAL CENSUS TRADING AREA',\n",
       " 'PUBLIX TOTAL CENSUS TRADING AREA',\n",
       " 'RITE AID - TOTAL CENSUS TA',\n",
       " 'SAMS TOTAL CENSUS TRADING AREA',\n",
       " 'SHOPRITE TOTAL CENSUS TRADING AREA',\n",
       " 'TARGET TOTAL BM/FF CENSUS TA',\n",
       " 'TOTAL US DRUG',\n",
       " 'TOTAL US FOOD',\n",
       " 'TOTAL US XAOC',\n",
       " 'TOTAL WALMART TOTAL US CTA',\n",
       " 'WALGREENS CORP TOTAL CENSUS TA'}"
      ]
     },
     "execution_count": 522,
     "metadata": {},
     "output_type": "execute_result"
    }
   ],
   "source": [
    "set(Waterfall_LHS[\"Markets\"])"
   ]
  },
  {
   "cell_type": "code",
   "execution_count": 523,
   "metadata": {
    "scrolled": true
   },
   "outputs": [
    {
     "data": {
      "text/html": [
       "<div>\n",
       "<style scoped>\n",
       "    .dataframe tbody tr th:only-of-type {\n",
       "        vertical-align: middle;\n",
       "    }\n",
       "\n",
       "    .dataframe tbody tr th {\n",
       "        vertical-align: top;\n",
       "    }\n",
       "\n",
       "    .dataframe thead th {\n",
       "        text-align: right;\n",
       "    }\n",
       "</style>\n",
       "<table border=\"1\" class=\"dataframe\">\n",
       "  <thead>\n",
       "    <tr style=\"text-align: right;\">\n",
       "      <th></th>\n",
       "      <th>Markets</th>\n",
       "      <th>Products</th>\n",
       "      <th>Manufacturer</th>\n",
       "      <th>Franchise</th>\n",
       "      <th>Brand</th>\n",
       "      <th>SubBrand</th>\n",
       "      <th>Facts</th>\n",
       "      <th>YTD 2021</th>\n",
       "      <th>YTD 2020</th>\n",
       "      <th>4 W/E 02/27/21</th>\n",
       "      <th>4 W/E 02/29/20</th>\n",
       "    </tr>\n",
       "  </thead>\n",
       "  <tbody>\n",
       "    <tr>\n",
       "      <th>1089647</th>\n",
       "      <td>TOTAL US XAOC</td>\n",
       "      <td>LIQUID</td>\n",
       "      <td></td>\n",
       "      <td></td>\n",
       "      <td></td>\n",
       "      <td></td>\n",
       "      <td>$</td>\n",
       "      <td>1.482784e+08</td>\n",
       "      <td>1.251868e+08</td>\n",
       "      <td>7.059416e+07</td>\n",
       "      <td>6.684295e+07</td>\n",
       "    </tr>\n",
       "    <tr>\n",
       "      <th>1089650</th>\n",
       "      <td>TOTAL US XAOC</td>\n",
       "      <td>LIQUID</td>\n",
       "      <td></td>\n",
       "      <td></td>\n",
       "      <td></td>\n",
       "      <td></td>\n",
       "      <td>$ Shr - CP CATEGORY</td>\n",
       "      <td>1.000000e+02</td>\n",
       "      <td>1.000000e+02</td>\n",
       "      <td>1.000000e+02</td>\n",
       "      <td>1.000000e+02</td>\n",
       "    </tr>\n",
       "  </tbody>\n",
       "</table>\n",
       "</div>"
      ],
      "text/plain": [
       "               Markets Products Manufacturer Franchise Brand SubBrand  \\\n",
       "1089647  TOTAL US XAOC   LIQUID                                         \n",
       "1089650  TOTAL US XAOC   LIQUID                                         \n",
       "\n",
       "                       Facts      YTD 2021      YTD 2020  4 W/E 02/27/21  \\\n",
       "1089647                    $  1.482784e+08  1.251868e+08    7.059416e+07   \n",
       "1089650  $ Shr - CP CATEGORY  1.000000e+02  1.000000e+02    1.000000e+02   \n",
       "\n",
       "         4 W/E 02/29/20  \n",
       "1089647    6.684295e+07  \n",
       "1089650    1.000000e+02  "
      ]
     },
     "execution_count": 523,
     "metadata": {},
     "output_type": "execute_result"
    }
   ],
   "source": [
    "Waterfall_LHS.head(2)"
   ]
  },
  {
   "cell_type": "markdown",
   "metadata": {},
   "source": [
    "**Column name Change**"
   ]
  },
  {
   "cell_type": "code",
   "execution_count": 524,
   "metadata": {},
   "outputs": [],
   "source": [
    "Waterfall_LHS.rename(columns={\"Markets\":\"MKT\",\"Products\":\"PROD\",\"Manufacturer\":\"CP.MANUFACTURER\",\n",
    "                                \"Franchise\":\"CP.FRANCHISE\",\"Brand\":\"CP.BRAND\",\"SubBrand\":\"CP.SUBBRAND\",\"Facts\":\"FCT\"},inplace=True)"
   ]
  },
  {
   "cell_type": "markdown",
   "metadata": {},
   "source": [
    "**Fact Name Change**"
   ]
  },
  {
   "cell_type": "code",
   "execution_count": 525,
   "metadata": {},
   "outputs": [],
   "source": [
    "Waterfall_LHS[\"FCT\"].replace(Waterfall_Fact_Mapping,inplace=True)"
   ]
  },
  {
   "cell_type": "code",
   "execution_count": 526,
   "metadata": {},
   "outputs": [
    {
     "data": {
      "text/html": [
       "<div>\n",
       "<style scoped>\n",
       "    .dataframe tbody tr th:only-of-type {\n",
       "        vertical-align: middle;\n",
       "    }\n",
       "\n",
       "    .dataframe tbody tr th {\n",
       "        vertical-align: top;\n",
       "    }\n",
       "\n",
       "    .dataframe thead th {\n",
       "        text-align: right;\n",
       "    }\n",
       "</style>\n",
       "<table border=\"1\" class=\"dataframe\">\n",
       "  <thead>\n",
       "    <tr style=\"text-align: right;\">\n",
       "      <th></th>\n",
       "      <th>MKT</th>\n",
       "      <th>PROD</th>\n",
       "      <th>CP.MANUFACTURER</th>\n",
       "      <th>CP.FRANCHISE</th>\n",
       "      <th>CP.BRAND</th>\n",
       "      <th>CP.SUBBRAND</th>\n",
       "      <th>FCT</th>\n",
       "      <th>YTD 2021</th>\n",
       "      <th>YTD 2020</th>\n",
       "      <th>4 W/E 02/27/21</th>\n",
       "      <th>4 W/E 02/29/20</th>\n",
       "    </tr>\n",
       "  </thead>\n",
       "  <tbody>\n",
       "    <tr>\n",
       "      <th>1089647</th>\n",
       "      <td>TOTAL US XAOC</td>\n",
       "      <td>LIQUID</td>\n",
       "      <td></td>\n",
       "      <td></td>\n",
       "      <td></td>\n",
       "      <td></td>\n",
       "      <td>Dollars</td>\n",
       "      <td>1.482784e+08</td>\n",
       "      <td>1.251868e+08</td>\n",
       "      <td>7.059416e+07</td>\n",
       "      <td>6.684295e+07</td>\n",
       "    </tr>\n",
       "    <tr>\n",
       "      <th>1089650</th>\n",
       "      <td>TOTAL US XAOC</td>\n",
       "      <td>LIQUID</td>\n",
       "      <td></td>\n",
       "      <td></td>\n",
       "      <td></td>\n",
       "      <td></td>\n",
       "      <td>Liq $ Share</td>\n",
       "      <td>1.000000e+02</td>\n",
       "      <td>1.000000e+02</td>\n",
       "      <td>1.000000e+02</td>\n",
       "      <td>1.000000e+02</td>\n",
       "    </tr>\n",
       "  </tbody>\n",
       "</table>\n",
       "</div>"
      ],
      "text/plain": [
       "                   MKT    PROD CP.MANUFACTURER CP.FRANCHISE CP.BRAND  \\\n",
       "1089647  TOTAL US XAOC  LIQUID                                         \n",
       "1089650  TOTAL US XAOC  LIQUID                                         \n",
       "\n",
       "        CP.SUBBRAND          FCT      YTD 2021      YTD 2020  4 W/E 02/27/21  \\\n",
       "1089647                  Dollars  1.482784e+08  1.251868e+08    7.059416e+07   \n",
       "1089650              Liq $ Share  1.000000e+02  1.000000e+02    1.000000e+02   \n",
       "\n",
       "         4 W/E 02/29/20  \n",
       "1089647    6.684295e+07  \n",
       "1089650    1.000000e+02  "
      ]
     },
     "execution_count": 526,
     "metadata": {},
     "output_type": "execute_result"
    }
   ],
   "source": [
    "Waterfall_LHS.head(2)"
   ]
  },
  {
   "cell_type": "code",
   "execution_count": 527,
   "metadata": {},
   "outputs": [],
   "source": [
    "Fact_order_1 = [\"Baseline $\",\"Incr.$ w/No Promo\",\"Incr.$ w/Ftr w/o Disp\",\"Incr.$ w/Disp w/o Ftr\",\"Incr.$ w/Ftr & Disp\",\n",
    "              \"Incr.$ w/TPR\",\"Dollars\",\"Liq $ Share\"]\n",
    "\n",
    "Fact_order = CategoricalDtype(\n",
    "    Fact_order_1, \n",
    "    ordered=True\n",
    ")\n",
    "\n",
    "\n",
    "Waterfall_LHS['FCT'] = Waterfall_LHS['FCT'].astype(Fact_order)\n",
    "\n",
    "Waterfall_LHS.sort_values(['MKT','PROD','FCT'],inplace=True)"
   ]
  },
  {
   "cell_type": "markdown",
   "metadata": {},
   "source": [
    "## **Waterfall_Manu**"
   ]
  },
  {
   "cell_type": "code",
   "execution_count": 528,
   "metadata": {},
   "outputs": [],
   "source": [
    "Waterfall_Manu=Waterfall_LHS.loc[(Waterfall_LHS[\"CP.SUBBRAND\"]==\"\") & (Waterfall_LHS[\"CP.BRAND\"]==\"\")&(Waterfall_LHS[\"CP.FRANCHISE\"]==\"\")&(Waterfall_LHS[\"CP.MANUFACTURER\"]!=\"\")]"
   ]
  },
  {
   "cell_type": "code",
   "execution_count": 529,
   "metadata": {},
   "outputs": [],
   "source": [
    "Waterfall_Manu[\"Record_ID\"]=range(1,len(Waterfall_Manu)+1)"
   ]
  },
  {
   "cell_type": "code",
   "execution_count": 530,
   "metadata": {},
   "outputs": [],
   "source": [
    "Waterfall_Manu.to_csv(path_LHS+\"Waterfall_Manu.csv\",index=False)"
   ]
  },
  {
   "cell_type": "markdown",
   "metadata": {},
   "source": [
    "## **Waterfall_Fran**"
   ]
  },
  {
   "cell_type": "code",
   "execution_count": 531,
   "metadata": {},
   "outputs": [],
   "source": [
    "Waterfall_Fran=Waterfall_LHS.loc[(Waterfall_LHS[\"CP.SUBBRAND\"]==\"\") & (Waterfall_LHS[\"CP.BRAND\"]==\"\")&(Waterfall_LHS[\"CP.FRANCHISE\"]!=\"\")]"
   ]
  },
  {
   "cell_type": "code",
   "execution_count": 532,
   "metadata": {},
   "outputs": [],
   "source": [
    "Waterfall_Fran[\"Record_ID\"]=range(1,len(Waterfall_Fran)+1)"
   ]
  },
  {
   "cell_type": "code",
   "execution_count": 533,
   "metadata": {},
   "outputs": [],
   "source": [
    "Waterfall_Fran.to_csv(path_LHS+\"Waterfall_Fran.csv\",index=False)"
   ]
  },
  {
   "cell_type": "markdown",
   "metadata": {},
   "source": [
    "## **Waterfall_Brand**"
   ]
  },
  {
   "cell_type": "code",
   "execution_count": 534,
   "metadata": {},
   "outputs": [],
   "source": [
    "Waterfall_Brand=Waterfall_LHS.loc[(Waterfall_LHS[\"CP.SUBBRAND\"]==\"\") & (Waterfall_LHS[\"CP.BRAND\"]!=\"\")]"
   ]
  },
  {
   "cell_type": "code",
   "execution_count": 535,
   "metadata": {},
   "outputs": [],
   "source": [
    "Waterfall_Cat=Waterfall_LHS.loc[(Waterfall_LHS[\"CP.SUBBRAND\"]==\"\") & (Waterfall_LHS[\"CP.BRAND\"]==\"\")&(Waterfall_LHS[\"CP.FRANCHISE\"]==\"\")&(Waterfall_LHS[\"CP.MANUFACTURER\"]==\"\")]"
   ]
  },
  {
   "cell_type": "code",
   "execution_count": 536,
   "metadata": {},
   "outputs": [],
   "source": [
    "Waterfall_Cat_Brand=pd.concat([Waterfall_Cat,Waterfall_Brand],axis=0)"
   ]
  },
  {
   "cell_type": "code",
   "execution_count": 537,
   "metadata": {},
   "outputs": [],
   "source": [
    "Waterfall_Cat_Brand['FCT'] = Waterfall_Cat_Brand['FCT'].astype(Fact_order)\n",
    "\n",
    "Waterfall_Cat_Brand.sort_values(['MKT','PROD','FCT'],inplace=True)"
   ]
  },
  {
   "cell_type": "code",
   "execution_count": 538,
   "metadata": {},
   "outputs": [],
   "source": [
    "Waterfall_Cat_Brand[\"Record_ID\"]=range(1,len(Waterfall_Cat_Brand)+1)"
   ]
  },
  {
   "cell_type": "code",
   "execution_count": 539,
   "metadata": {},
   "outputs": [],
   "source": [
    "Waterfall_Cat_Brand.to_csv(path_LHS+\"Waterfall Brand.csv\",index=False)"
   ]
  },
  {
   "cell_type": "markdown",
   "metadata": {},
   "source": [
    "## Waterfall_SubBrand"
   ]
  },
  {
   "cell_type": "code",
   "execution_count": 540,
   "metadata": {},
   "outputs": [],
   "source": [
    "Waterfall_SubBrand=Waterfall_LHS.loc[(Waterfall_LHS[\"CP.SUBBRAND\"]!=\"\")]"
   ]
  },
  {
   "cell_type": "code",
   "execution_count": 541,
   "metadata": {},
   "outputs": [],
   "source": [
    "Waterfall_SubBrand[\"Record_ID\"]=range(1,len(Waterfall_SubBrand)+1)"
   ]
  },
  {
   "cell_type": "code",
   "execution_count": 542,
   "metadata": {},
   "outputs": [],
   "source": [
    "Waterfall_SubBrand.to_csv(path_LHS+\"Waterfall Sub_Brand.csv\",index=False)"
   ]
  },
  {
   "cell_type": "code",
   "execution_count": null,
   "metadata": {},
   "outputs": [],
   "source": []
  },
  {
   "cell_type": "markdown",
   "metadata": {},
   "source": [
    "# LDL"
   ]
  },
  {
   "cell_type": "markdown",
   "metadata": {},
   "source": [
    "Assigning path of the folder where **LDL TOTAL** data files are stored"
   ]
  },
  {
   "cell_type": "code",
   "execution_count": 543,
   "metadata": {},
   "outputs": [],
   "source": [
    "path = \"//falmumapp34/Nielsen Connect Transition & Maintenance (20-SCP-3650)/03. Raw Data/Connect Data/Line Monthly\"\n",
    "files = os.listdir(path)"
   ]
  },
  {
   "cell_type": "markdown",
   "metadata": {},
   "source": [
    "Selecting only **excel files** from all the files available in the above path"
   ]
  },
  {
   "cell_type": "code",
   "execution_count": 544,
   "metadata": {},
   "outputs": [
    {
     "name": "stdout",
     "output_type": "stream",
     "text": [
      "Total number of files in the folder are  0\n"
     ]
    }
   ],
   "source": [
    "files_xls = [f for f in files if f[:3] == \"LDL\"]\n",
    "print(\"Total number of files in the folder are \",len(files_xls))"
   ]
  },
  {
   "cell_type": "code",
   "execution_count": 545,
   "metadata": {},
   "outputs": [
    {
     "data": {
      "text/plain": [
       "[]"
      ]
     },
     "execution_count": 545,
     "metadata": {},
     "output_type": "execute_result"
    }
   ],
   "source": [
    "files_xls"
   ]
  },
  {
   "cell_type": "markdown",
   "metadata": {},
   "source": [
    "**Appending the read files in rows and storing them in a single dataframe** named ***LDL TOTAL***.\n",
    "\n",
    "Printing number of columns and number of facts in each file.\n",
    "Also checking the execution time of the code"
   ]
  },
  {
   "cell_type": "code",
   "execution_count": 546,
   "metadata": {
    "scrolled": true
   },
   "outputs": [
    {
     "name": "stdout",
     "output_type": "stream",
     "text": [
      "execution time is  0.002028226852416992\n"
     ]
    }
   ],
   "source": [
    "time_start= time.time()\n",
    "\n",
    "LDL_TOTAL= pd.DataFrame()\n",
    "\n",
    "j=0\n",
    "for f in files_xls:\n",
    "    \n",
    "    data = pd.read_excel(path+\"/\"+f)\n",
    "    print(\"\\033[1m\" + files_xls[j] + \"\\033[0m\",\":->\\n# of Facts are \",len(set(data[\"Periods\"])),\"\\t\\t # of columns are \",len(data.columns))  \n",
    "    LDL_TOTAL = pd.concat([LDL_TOTAL,data],axis=0,ignore_index=True)\n",
    "    j=j+1\n",
    "    \n",
    "time_end= time.time();\n",
    "\n",
    "print(\"execution time is \", time_end-time_start)"
   ]
  },
  {
   "cell_type": "code",
   "execution_count": 547,
   "metadata": {},
   "outputs": [
    {
     "ename": "KeyError",
     "evalue": "'Periods'",
     "output_type": "error",
     "traceback": [
      "\u001b[1;31m---------------------------------------------------------------------------\u001b[0m",
      "\u001b[1;31mKeyError\u001b[0m                                  Traceback (most recent call last)",
      "\u001b[1;32mC:\\Program Files\\Anaconda3\\lib\\site-packages\\pandas\\core\\indexes\\base.py\u001b[0m in \u001b[0;36mget_loc\u001b[1;34m(self, key, method, tolerance)\u001b[0m\n\u001b[0;32m   2894\u001b[0m             \u001b[1;32mtry\u001b[0m\u001b[1;33m:\u001b[0m\u001b[1;33m\u001b[0m\u001b[1;33m\u001b[0m\u001b[0m\n\u001b[1;32m-> 2895\u001b[1;33m                 \u001b[1;32mreturn\u001b[0m \u001b[0mself\u001b[0m\u001b[1;33m.\u001b[0m\u001b[0m_engine\u001b[0m\u001b[1;33m.\u001b[0m\u001b[0mget_loc\u001b[0m\u001b[1;33m(\u001b[0m\u001b[0mcasted_key\u001b[0m\u001b[1;33m)\u001b[0m\u001b[1;33m\u001b[0m\u001b[1;33m\u001b[0m\u001b[0m\n\u001b[0m\u001b[0;32m   2896\u001b[0m             \u001b[1;32mexcept\u001b[0m \u001b[0mKeyError\u001b[0m \u001b[1;32mas\u001b[0m \u001b[0merr\u001b[0m\u001b[1;33m:\u001b[0m\u001b[1;33m\u001b[0m\u001b[1;33m\u001b[0m\u001b[0m\n",
      "\u001b[1;32mpandas\\_libs\\index.pyx\u001b[0m in \u001b[0;36mpandas._libs.index.IndexEngine.get_loc\u001b[1;34m()\u001b[0m\n",
      "\u001b[1;32mpandas\\_libs\\index.pyx\u001b[0m in \u001b[0;36mpandas._libs.index.IndexEngine.get_loc\u001b[1;34m()\u001b[0m\n",
      "\u001b[1;32mpandas\\_libs\\hashtable_class_helper.pxi\u001b[0m in \u001b[0;36mpandas._libs.hashtable.PyObjectHashTable.get_item\u001b[1;34m()\u001b[0m\n",
      "\u001b[1;32mpandas\\_libs\\hashtable_class_helper.pxi\u001b[0m in \u001b[0;36mpandas._libs.hashtable.PyObjectHashTable.get_item\u001b[1;34m()\u001b[0m\n",
      "\u001b[1;31mKeyError\u001b[0m: 'Periods'",
      "\nThe above exception was the direct cause of the following exception:\n",
      "\u001b[1;31mKeyError\u001b[0m                                  Traceback (most recent call last)",
      "\u001b[1;32m<ipython-input-547-f489a9762170>\u001b[0m in \u001b[0;36m<module>\u001b[1;34m\u001b[0m\n\u001b[1;32m----> 1\u001b[1;33m \u001b[0mLDL_TOTAL\u001b[0m\u001b[1;33m[\u001b[0m\u001b[1;34m\"Periods\"\u001b[0m\u001b[1;33m]\u001b[0m\u001b[1;33m=\u001b[0m\u001b[0mLDL_TOTAL\u001b[0m\u001b[1;33m[\u001b[0m\u001b[1;34m\"Periods\"\u001b[0m\u001b[1;33m]\u001b[0m\u001b[1;33m.\u001b[0m\u001b[0mstr\u001b[0m\u001b[1;33m.\u001b[0m\u001b[0mreplace\u001b[0m\u001b[1;33m(\u001b[0m\u001b[1;34m\"$\"\u001b[0m\u001b[1;33m,\u001b[0m\u001b[1;34m\"temp\"\u001b[0m\u001b[1;33m)\u001b[0m\u001b[1;33m\u001b[0m\u001b[1;33m\u001b[0m\u001b[0m\n\u001b[0m\u001b[0;32m      2\u001b[0m \u001b[0mLDL_TOTAL\u001b[0m\u001b[1;33m[\u001b[0m\u001b[1;34m\"Periods\"\u001b[0m\u001b[1;33m]\u001b[0m\u001b[1;33m=\u001b[0m\u001b[0mLDL_TOTAL\u001b[0m\u001b[1;33m[\u001b[0m\u001b[1;34m\"Periods\"\u001b[0m\u001b[1;33m]\u001b[0m\u001b[1;33m.\u001b[0m\u001b[0mstr\u001b[0m\u001b[1;33m.\u001b[0m\u001b[0mreplace\u001b[0m\u001b[1;33m(\u001b[0m\u001b[1;34m\"- temp -\"\u001b[0m\u001b[1;33m,\u001b[0m\u001b[1;34m\"-\"\u001b[0m\u001b[1;33m)\u001b[0m\u001b[1;33m\u001b[0m\u001b[1;33m\u001b[0m\u001b[0m\n\u001b[0;32m      3\u001b[0m \u001b[0mLDL_TOTAL\u001b[0m\u001b[1;33m[\u001b[0m\u001b[1;34m\"Periods\"\u001b[0m\u001b[1;33m]\u001b[0m\u001b[1;33m=\u001b[0m\u001b[0mLDL_TOTAL\u001b[0m\u001b[1;33m[\u001b[0m\u001b[1;34m\"Periods\"\u001b[0m\u001b[1;33m]\u001b[0m\u001b[1;33m.\u001b[0m\u001b[0mstr\u001b[0m\u001b[1;33m.\u001b[0m\u001b[0mreplace\u001b[0m\u001b[1;33m(\u001b[0m\u001b[1;34m\"temp\"\u001b[0m\u001b[1;33m,\u001b[0m\u001b[1;34m\"$\"\u001b[0m\u001b[1;33m)\u001b[0m\u001b[1;33m\u001b[0m\u001b[1;33m\u001b[0m\u001b[0m\n\u001b[0;32m      4\u001b[0m \u001b[1;33m\u001b[0m\u001b[0m\n\u001b[0;32m      5\u001b[0m \u001b[0mLDL_TOTAL\u001b[0m\u001b[1;33m[\u001b[0m\u001b[1;34m\"Periods\"\u001b[0m\u001b[1;33m]\u001b[0m\u001b[1;33m=\u001b[0m\u001b[0mLDL_TOTAL\u001b[0m\u001b[1;33m[\u001b[0m\u001b[1;34m\"Periods\"\u001b[0m\u001b[1;33m]\u001b[0m\u001b[1;33m.\u001b[0m\u001b[0mstr\u001b[0m\u001b[1;33m.\u001b[0m\u001b[0mreplace\u001b[0m\u001b[1;33m(\u001b[0m\u001b[1;34m\"CP LDL AND FOAM\"\u001b[0m\u001b[1;33m,\u001b[0m\u001b[1;34m\"CP CATEGORY\"\u001b[0m\u001b[1;33m)\u001b[0m\u001b[1;33m\u001b[0m\u001b[1;33m\u001b[0m\u001b[0m\n",
      "\u001b[1;32mC:\\Program Files\\Anaconda3\\lib\\site-packages\\pandas\\core\\frame.py\u001b[0m in \u001b[0;36m__getitem__\u001b[1;34m(self, key)\u001b[0m\n\u001b[0;32m   2900\u001b[0m             \u001b[1;32mif\u001b[0m \u001b[0mself\u001b[0m\u001b[1;33m.\u001b[0m\u001b[0mcolumns\u001b[0m\u001b[1;33m.\u001b[0m\u001b[0mnlevels\u001b[0m \u001b[1;33m>\u001b[0m \u001b[1;36m1\u001b[0m\u001b[1;33m:\u001b[0m\u001b[1;33m\u001b[0m\u001b[1;33m\u001b[0m\u001b[0m\n\u001b[0;32m   2901\u001b[0m                 \u001b[1;32mreturn\u001b[0m \u001b[0mself\u001b[0m\u001b[1;33m.\u001b[0m\u001b[0m_getitem_multilevel\u001b[0m\u001b[1;33m(\u001b[0m\u001b[0mkey\u001b[0m\u001b[1;33m)\u001b[0m\u001b[1;33m\u001b[0m\u001b[1;33m\u001b[0m\u001b[0m\n\u001b[1;32m-> 2902\u001b[1;33m             \u001b[0mindexer\u001b[0m \u001b[1;33m=\u001b[0m \u001b[0mself\u001b[0m\u001b[1;33m.\u001b[0m\u001b[0mcolumns\u001b[0m\u001b[1;33m.\u001b[0m\u001b[0mget_loc\u001b[0m\u001b[1;33m(\u001b[0m\u001b[0mkey\u001b[0m\u001b[1;33m)\u001b[0m\u001b[1;33m\u001b[0m\u001b[1;33m\u001b[0m\u001b[0m\n\u001b[0m\u001b[0;32m   2903\u001b[0m             \u001b[1;32mif\u001b[0m \u001b[0mis_integer\u001b[0m\u001b[1;33m(\u001b[0m\u001b[0mindexer\u001b[0m\u001b[1;33m)\u001b[0m\u001b[1;33m:\u001b[0m\u001b[1;33m\u001b[0m\u001b[1;33m\u001b[0m\u001b[0m\n\u001b[0;32m   2904\u001b[0m                 \u001b[0mindexer\u001b[0m \u001b[1;33m=\u001b[0m \u001b[1;33m[\u001b[0m\u001b[0mindexer\u001b[0m\u001b[1;33m]\u001b[0m\u001b[1;33m\u001b[0m\u001b[1;33m\u001b[0m\u001b[0m\n",
      "\u001b[1;32mC:\\Program Files\\Anaconda3\\lib\\site-packages\\pandas\\core\\indexes\\base.py\u001b[0m in \u001b[0;36mget_loc\u001b[1;34m(self, key, method, tolerance)\u001b[0m\n\u001b[0;32m   2895\u001b[0m                 \u001b[1;32mreturn\u001b[0m \u001b[0mself\u001b[0m\u001b[1;33m.\u001b[0m\u001b[0m_engine\u001b[0m\u001b[1;33m.\u001b[0m\u001b[0mget_loc\u001b[0m\u001b[1;33m(\u001b[0m\u001b[0mcasted_key\u001b[0m\u001b[1;33m)\u001b[0m\u001b[1;33m\u001b[0m\u001b[1;33m\u001b[0m\u001b[0m\n\u001b[0;32m   2896\u001b[0m             \u001b[1;32mexcept\u001b[0m \u001b[0mKeyError\u001b[0m \u001b[1;32mas\u001b[0m \u001b[0merr\u001b[0m\u001b[1;33m:\u001b[0m\u001b[1;33m\u001b[0m\u001b[1;33m\u001b[0m\u001b[0m\n\u001b[1;32m-> 2897\u001b[1;33m                 \u001b[1;32mraise\u001b[0m \u001b[0mKeyError\u001b[0m\u001b[1;33m(\u001b[0m\u001b[0mkey\u001b[0m\u001b[1;33m)\u001b[0m \u001b[1;32mfrom\u001b[0m \u001b[0merr\u001b[0m\u001b[1;33m\u001b[0m\u001b[1;33m\u001b[0m\u001b[0m\n\u001b[0m\u001b[0;32m   2898\u001b[0m \u001b[1;33m\u001b[0m\u001b[0m\n\u001b[0;32m   2899\u001b[0m         \u001b[1;32mif\u001b[0m \u001b[0mtolerance\u001b[0m \u001b[1;32mis\u001b[0m \u001b[1;32mnot\u001b[0m \u001b[1;32mNone\u001b[0m\u001b[1;33m:\u001b[0m\u001b[1;33m\u001b[0m\u001b[1;33m\u001b[0m\u001b[0m\n",
      "\u001b[1;31mKeyError\u001b[0m: 'Periods'"
     ]
    }
   ],
   "source": [
    "LDL_TOTAL[\"Periods\"]=LDL_TOTAL[\"Periods\"].str.replace(\"$\",\"temp\")\n",
    "LDL_TOTAL[\"Periods\"]=LDL_TOTAL[\"Periods\"].str.replace(\"- temp -\",\"-\")\n",
    "LDL_TOTAL[\"Periods\"]=LDL_TOTAL[\"Periods\"].str.replace(\"temp\",\"$\")\n",
    "\n",
    "LDL_TOTAL[\"Periods\"]=LDL_TOTAL[\"Periods\"].str.replace(\"CP LDL AND FOAM\",\"CP CATEGORY\")\n",
    "\n",
    "LDL_TOTAL[\"Periods\"]=LDL_TOTAL[\"Periods\"].str.replace(\"CP LDL AND FM X DISHAIDS/WPS/SPR\",\"CP CATEGORY\")\n",
    "\n",
    "LDL_TOTAL[\"Periods\"]=LDL_TOTAL[\"Periods\"].str.replace(\"CP MEGA CATEGORY\",\"CP CATEGORY\")\n",
    "LDL_TOTAL[\"Periods\"]=LDL_TOTAL[\"Periods\"].str.replace(\"CP BATTERY AND HYBRID\",\"CP CATEGORY\")\n",
    "\n",
    "# Market name replaced\n",
    "LDL_TOTAL[\"Markets\"]=LDL_TOTAL[\"Markets\"].str.replace(\"Walgreens Corp Total TA\",\"Walgreens Total TA\")"
   ]
  },
  {
   "cell_type": "code",
   "execution_count": null,
   "metadata": {
    "scrolled": true
   },
   "outputs": [],
   "source": [
    "# replace NaN Values with 0\n",
    "LDL_TOTAL.fillna(value=0,inplace=True)"
   ]
  },
  {
   "cell_type": "code",
   "execution_count": null,
   "metadata": {
    "scrolled": true
   },
   "outputs": [],
   "source": [
    "set(LDL_TOTAL[\"Periods\"])"
   ]
  },
  {
   "cell_type": "markdown",
   "metadata": {},
   "source": [
    "**Removing unwanted characters from all the column names** and store them in a list ***new_col_names***"
   ]
  },
  {
   "cell_type": "code",
   "execution_count": null,
   "metadata": {},
   "outputs": [],
   "source": [
    "new_col_names=[]\n",
    "for i in LDL_TOTAL.columns:\n",
    "    x=len(i)\n",
    "    if x<=17:\n",
    "        new_col_names.append(i)\n",
    "    elif i[:3]=='YTD':\n",
    "        new_col_names.append(i[:-16].strip('- '))\n",
    "    else:\n",
    "        new_col_names.append(i[:-14].strip('- '))\n",
    "        "
   ]
  },
  {
   "cell_type": "code",
   "execution_count": null,
   "metadata": {},
   "outputs": [],
   "source": [
    "LDL_TOTAL.columns"
   ]
  },
  {
   "cell_type": "markdown",
   "metadata": {},
   "source": [
    "**Checking the duplicacte column in** ***LDL_TOTAL***"
   ]
  },
  {
   "cell_type": "code",
   "execution_count": null,
   "metadata": {},
   "outputs": [],
   "source": [
    "if(len(new_col_names)!=len(set(new_col_names))):\n",
    "    print(\"\\033[1;31m\"+\"*******************************ERROR*******************************\\n\\t\\t\\tWe have duplicate columns\\n\\t\\t\\tPlease recheck raw data files\\n*******************************ERROR*******************************\")"
   ]
  },
  {
   "cell_type": "markdown",
   "metadata": {},
   "source": [
    "Renaming the column names of ***LDL_TOTAL***"
   ]
  },
  {
   "cell_type": "code",
   "execution_count": null,
   "metadata": {},
   "outputs": [],
   "source": [
    "# LDL_TOTAL.rename(columns=dict(zip(LDL_TOTAL.columns,new_col_names)),inplace=True)\n",
    "LDL_TOTAL.columns=new_col_names"
   ]
  },
  {
   "cell_type": "code",
   "execution_count": null,
   "metadata": {},
   "outputs": [],
   "source": [
    "LDL_TOTAL.columns"
   ]
  },
  {
   "cell_type": "markdown",
   "metadata": {},
   "source": [
    "**Adding Missing Quater**\n"
   ]
  },
  {
   "cell_type": "code",
   "execution_count": null,
   "metadata": {},
   "outputs": [],
   "source": [
    "# GETTING 20 DAYS BEFORE MONTHS AND YEAR VALUES\n",
    "now=datetime.datetime.now()\n",
    "delay= datetime.timedelta(days=20)\n",
    "a= now - delay\n",
    "month_number=a.month\n",
    "year=str(a.year-2)[-2:]\n",
    "print(month_number)\n",
    "print(year)"
   ]
  },
  {
   "cell_type": "code",
   "execution_count": null,
   "metadata": {},
   "outputs": [],
   "source": [
    "if( month_number >= 1 & month_number <= 3):\n",
    "    LDL_TOTAL['AMJ '+year]=\"\"\n",
    "    LDL_TOTAL['JAS '+year]=\"\"\n",
    "    LDL_TOTAL['OND '+year]=\"\"\n",
    "elif ( month_number >= 4 & month_number <= 6 ):\n",
    "    LDL_TOTAL['JAS '+year]=\"\"\n",
    "    LDL_TOTAL['OND '+year]=\"\"\n",
    "elif ( month_number >= 7 & month_number <= 9  ):\n",
    "    LDL_TOTAL['OND '+year]=\"\""
   ]
  },
  {
   "cell_type": "markdown",
   "metadata": {},
   "source": [
    "**Time period mapping**\n",
    "\n",
    "**Manual Step**\n",
    "\n",
    "This mapping needs to be changed every year when new year data comes"
   ]
  },
  {
   "cell_type": "code",
   "execution_count": null,
   "metadata": {},
   "outputs": [],
   "source": [
    "# time_period_map_2020= pd.DataFrame({'Connect Time Period':['Markets', 'Products', 'Periods','Cal Yr 2020','Cal Yr 2019','Cal Yr 2018','Cal Yr 2017','YTD','YTD YA','Latest 13 Wks','Latest 26 Wks','OND 20','JAS 20','AMJ 20','JFM 20','OND 19','JAS 19','AMJ 19','JFM 19','Dec 20','Nov 20','Oct 20','Sep 20','Aug 20','Jul 20','Jun 20','May 20','Apr 20','Mar 20','Feb 20','Jan 20','Dec 19','Nov 19','Oct 19','Sep 19','Aug 19','Jul 19','Jun 19','May 19','Apr 19','Mar 19','Feb 19','Jan 19'],\n",
    "#                                'Final Name':['Markets', 'Products', 'Periods','FY 2020','FY 2019','FY 2018','FY 2017','YTD 2020','YTD 2019','Latest 13 Weeks','Latest 26 Weeks','Q4 2020','Q3 2020','Q2 2020','Q1 2020','Q4 2019','Q3 2019','Q2 2019','Q1 2019','Dec 20','Nov 20','Oct 20','Sep 20','Aug 20','Jul 20','Jun 20','May 20','Apr 20','Mar 20','Feb 20','Jan 20','Dec 19','Nov 19','Oct 19','Sep 19','Aug 19','Jul 19','Jun 19','May 19','Apr 19','Mar 19','Feb 19','Jan 19']\n",
    "#                               ,'Order':range(1,44)})"
   ]
  },
  {
   "cell_type": "code",
   "execution_count": null,
   "metadata": {},
   "outputs": [],
   "source": [
    "time_period_map= pd.DataFrame({'Connect Time Period':['Markets', 'Products', 'Periods','Cal Yr 2020','Cal Yr 2019','Cal Yr 2018','Cal Yr 2017','YTD','YTD YA','Latest 13 Wks','Latest 26 Wks','OND 21','JAS 21','AMJ 21','JFM 21','OND 20','JAS 20','AMJ 20','JFM 20','OND 19','JAS 19','AMJ 19','Dec 21','Nov 21','Oct 21','Sep 21','Aug 21','Jul 21','Jun 21','May 21','Apr 21','Mar 21','Feb 21','Jan 21','Dec 20','Nov 20','Oct 20','Sep 20','Aug 20','Jul 20','Jun 20','May 20','Apr 20','Mar 20','Feb 20','Jan 20'],\n",
    "                               'Final Name':['Markets', 'Products', 'Periods','FY 2020','FY 2019','FY 2018','FY 2017','YTD 2021','YTD 2020','Latest 13 Weeks','Latest 26 Weeks','Q4 2021','Q3 2021','Q2 2021','Q1 2021','Q4 2020','Q3 2020','Q2 2020','Q1 2020','Q4 2019','Q3 2019','Q2 2019','Dec 21','Nov 21','Oct 21','Sep 21','Aug 21','Jul 21','Jun 21','May 21','Apr 21','Mar 21','Feb 21','Jan 21','Dec 20','Nov 20','Oct 20','Sep 20','Aug 20','Jul 20','Jun 20','May 20','Apr 20','Mar 20','Feb 20','Jan 20']\n",
    "                              ,'Order':range(1,47)})"
   ]
  },
  {
   "cell_type": "code",
   "execution_count": null,
   "metadata": {
    "scrolled": false
   },
   "outputs": [],
   "source": [
    "time_period_map.head()"
   ]
  },
  {
   "cell_type": "markdown",
   "metadata": {},
   "source": [
    "We need to **change column names** of ***LDL_TOTAL*** and **reorder** them based on the time_period_mapping"
   ]
  },
  {
   "cell_type": "code",
   "execution_count": null,
   "metadata": {},
   "outputs": [],
   "source": [
    "# assigning variables\n",
    "LM_column= list(LDL_TOTAL.columns)\n",
    "time_connect=list(time_period_map[\"Connect Time Period\"])\n",
    "time_final=list(time_period_map[\"Final Name\"])"
   ]
  },
  {
   "cell_type": "code",
   "execution_count": null,
   "metadata": {},
   "outputs": [],
   "source": [
    "# changing column names based on time_period_mapping\n",
    "new_column=[]\n",
    "for i in range(0,len(LM_column)):\n",
    "    for j in range(0,len(time_connect)):\n",
    "        if LM_column[i]==time_connect[j]:\n",
    "            new_column.append(time_final[j])\n",
    "        "
   ]
  },
  {
   "cell_type": "code",
   "execution_count": null,
   "metadata": {
    "scrolled": true
   },
   "outputs": [],
   "source": [
    "print(new_column)"
   ]
  },
  {
   "cell_type": "code",
   "execution_count": null,
   "metadata": {},
   "outputs": [],
   "source": [
    "print(len(new_column),len(LDL_TOTAL.columns))"
   ]
  },
  {
   "cell_type": "code",
   "execution_count": null,
   "metadata": {},
   "outputs": [],
   "source": [
    "#assigning new column names\n",
    "LDL_TOTAL.columns = new_column"
   ]
  },
  {
   "cell_type": "code",
   "execution_count": null,
   "metadata": {},
   "outputs": [],
   "source": [
    "# reordering column names\n",
    "my_list =time_period_map.iloc[:, 1]\n",
    "my_list1=LDL_TOTAL.columns\n",
    "result = [x for x in my_list if x in my_list1]\n",
    "LDL_TOTAL=LDL_TOTAL[result]"
   ]
  },
  {
   "cell_type": "code",
   "execution_count": null,
   "metadata": {},
   "outputs": [],
   "source": [
    "LDL_TOTAL.columns"
   ]
  },
  {
   "cell_type": "code",
   "execution_count": null,
   "metadata": {
    "scrolled": true
   },
   "outputs": [],
   "source": [
    "LDL_TOTAL.head(3)"
   ]
  },
  {
   "cell_type": "code",
   "execution_count": null,
   "metadata": {},
   "outputs": [],
   "source": [
    "LDL_TOTAL.rename(columns={\"Periods\":\"Facts\"},inplace=True)"
   ]
  },
  {
   "cell_type": "code",
   "execution_count": null,
   "metadata": {
    "scrolled": true
   },
   "outputs": [],
   "source": [
    "LDL_TOTAL.head(3)"
   ]
  },
  {
   "cell_type": "markdown",
   "metadata": {},
   "source": [
    "**Filter Condition**\n",
    "\n",
    "Taking only those products whose **Latest Month Dollar Share** is **greater than 0.02** for all the markets"
   ]
  },
  {
   "cell_type": "code",
   "execution_count": null,
   "metadata": {},
   "outputs": [],
   "source": [
    "LDL_TOTAL.iloc[:,3:]=LDL_TOTAL.iloc[:,3:].apply(pd.to_numeric)"
   ]
  },
  {
   "cell_type": "code",
   "execution_count": null,
   "metadata": {},
   "outputs": [],
   "source": [
    "df=LDL_TOTAL[(LDL_TOTAL['Facts'] == '$ Shr - CP CATEGORY') & (LDL_TOTAL.iloc[:,19]>0.02)]"
   ]
  },
  {
   "cell_type": "code",
   "execution_count": null,
   "metadata": {
    "scrolled": true
   },
   "outputs": [],
   "source": [
    "# total number of unique Products \n",
    "len(np.unique(list(df[\"Products\"])))"
   ]
  },
  {
   "cell_type": "code",
   "execution_count": null,
   "metadata": {},
   "outputs": [],
   "source": [
    "LDL_TOTAL=LDL_TOTAL[LDL_TOTAL['Products'].isin(list(df[\"Products\"]))]\n",
    "LDL_TOTAL.head(3)"
   ]
  },
  {
   "cell_type": "markdown",
   "metadata": {},
   "source": [
    "**ShareBasis Split**"
   ]
  },
  {
   "cell_type": "code",
   "execution_count": null,
   "metadata": {
    "scrolled": true
   },
   "outputs": [],
   "source": [
    "LDL_TOTAL[['ShareBasis','Manufacturer','Franchise','Brand']] = LDL_TOTAL['Products'].str.split('|',n=3,expand=True)\n",
    "LDL_TOTAL.head(3)"
   ]
  },
  {
   "cell_type": "code",
   "execution_count": null,
   "metadata": {
    "scrolled": true
   },
   "outputs": [],
   "source": [
    "LDL_TOTAL[[\"ShareBasis\",\"Manufacturer\",\"Franchise\",\"Brand\"]]=LDL_TOTAL[[\"ShareBasis\",\"Manufacturer\",\"Franchise\",\"Brand\"]].fillna(value=\"\")\n",
    "LDL_TOTAL.head(3)"
   ]
  },
  {
   "cell_type": "markdown",
   "metadata": {},
   "source": [
    "***movecol*** function to **rearranging** the columns of a dataframe"
   ]
  },
  {
   "cell_type": "code",
   "execution_count": null,
   "metadata": {},
   "outputs": [],
   "source": [
    "def movecol(df, cols_to_move=[], ref_col='', place=''):\n",
    "    cols = df.columns.tolist()\n",
    "    if place == 'After':\n",
    "        seg1 = cols[:list(cols).index(ref_col) + 1]\n",
    "        seg2 = cols_to_move\n",
    "    if place == 'Before':\n",
    "        seg1 = cols[:list(cols).index(ref_col)]\n",
    "        seg2 = cols_to_move + [ref_col]\n",
    "    seg1 = [i for i in seg1 if i not in seg2]\n",
    "    seg3 = [i for i in cols if i not in seg1 + seg2]\n",
    "    \n",
    "    return(df[seg1 + seg2 + seg3])"
   ]
  },
  {
   "cell_type": "code",
   "execution_count": null,
   "metadata": {
    "scrolled": true
   },
   "outputs": [],
   "source": [
    "LDL_TOTAL = movecol(LDL_TOTAL, \n",
    "             cols_to_move=['ShareBasis','Manufacturer','Franchise','Brand'], \n",
    "             ref_col='Markets',\n",
    "             place='After')\n",
    "LDL_TOTAL.head(3)"
   ]
  },
  {
   "cell_type": "markdown",
   "metadata": {},
   "source": [
    "**Strip Columns**\n"
   ]
  },
  {
   "cell_type": "code",
   "execution_count": null,
   "metadata": {},
   "outputs": [],
   "source": [
    "cols=list(LDL_TOTAL.columns[0:7])"
   ]
  },
  {
   "cell_type": "code",
   "execution_count": null,
   "metadata": {},
   "outputs": [],
   "source": [
    "LDL_TOTAL[cols]=LDL_TOTAL[cols].apply(lambda x : x.str.strip())"
   ]
  },
  {
   "cell_type": "markdown",
   "metadata": {},
   "source": [
    "**Need Franchise LEVEL**"
   ]
  },
  {
   "cell_type": "code",
   "execution_count": null,
   "metadata": {},
   "outputs": [],
   "source": [
    "LDL_TOTAL=LDL_TOTAL[LDL_TOTAL[\"Manufacturer\"] !=\"\"]"
   ]
  },
  {
   "cell_type": "code",
   "execution_count": null,
   "metadata": {},
   "outputs": [],
   "source": [
    "LDL_TOTAL[\"CP_CONCENTRATION\"]=\"TOTAL (REGULAR+ULTRA+NA)\"\n",
    "LDL_TOTAL[\"Category\"]=\"LDL\""
   ]
  },
  {
   "cell_type": "code",
   "execution_count": null,
   "metadata": {},
   "outputs": [],
   "source": [
    "LDL_TOTAL.columns"
   ]
  },
  {
   "cell_type": "code",
   "execution_count": null,
   "metadata": {},
   "outputs": [],
   "source": [
    "LDL_TOTAL.rename(columns={\"Markets\":\"MKT\",\"Products\":\"PROD\",\"Manufacturer\":\"CP_MANUFACTURER\",\"ShareBasis\":\"CP_MEGA_CATEGORY\",\n",
    "                                \"Facts\":\"FCT\",\"Franchise\":\"CP_FRANCHISE\",\"Brand\":\"CP_BRAND\"},inplace=True)"
   ]
  },
  {
   "cell_type": "markdown",
   "metadata": {},
   "source": [
    "**Period & Market Mapping**"
   ]
  },
  {
   "cell_type": "code",
   "execution_count": null,
   "metadata": {},
   "outputs": [],
   "source": [
    "LDL_TOTAL.rename(columns=Time_Mapping,inplace=True)\n",
    "LDL_TOTAL[\"MKT\"].replace(Market_Mapping,inplace=True)"
   ]
  },
  {
   "cell_type": "code",
   "execution_count": null,
   "metadata": {},
   "outputs": [],
   "source": []
  },
  {
   "cell_type": "markdown",
   "metadata": {},
   "source": [
    "### LDL without Total"
   ]
  },
  {
   "cell_type": "code",
   "execution_count": null,
   "metadata": {},
   "outputs": [],
   "source": []
  },
  {
   "cell_type": "code",
   "execution_count": null,
   "metadata": {},
   "outputs": [],
   "source": [
    "# path to store OuMWut files\n",
    "\n",
    "path_LDL=\"//falmumapp34/Nielsen Connect Transition & Maintenance (20-SCP-3650)/05. Output Data/5P Output/LDL/\""
   ]
  },
  {
   "cell_type": "code",
   "execution_count": null,
   "metadata": {},
   "outputs": [],
   "source": [
    "Data_5p_LDL=Data_5p.copy()"
   ]
  },
  {
   "cell_type": "code",
   "execution_count": null,
   "metadata": {},
   "outputs": [],
   "source": [
    "Data_5p_LDL=Data_5p.loc[Data_5p[\"Category\"]==\"LDL\"]"
   ]
  },
  {
   "cell_type": "code",
   "execution_count": null,
   "metadata": {},
   "outputs": [],
   "source": [
    "set(Data_5p_LDL[\"ShareBasis\"])"
   ]
  },
  {
   "cell_type": "code",
   "execution_count": null,
   "metadata": {},
   "outputs": [],
   "source": [
    "Data_5p_LDL = Data_5p_LDL[Data_5p_LDL[\"ShareBasis\"]=='LDL/DISHAIDS/WPS/FM/SPRAYS']"
   ]
  },
  {
   "cell_type": "markdown",
   "metadata": {},
   "source": [
    "**Column name Change**"
   ]
  },
  {
   "cell_type": "code",
   "execution_count": null,
   "metadata": {},
   "outputs": [],
   "source": [
    "Data_5p_LDL.rename(columns={\"Markets\":\"MKT\",\"ShareBasis\":\"CP_MEGA_CATEGORY\",\"Products\":\"PROD\",\"Manufacturer\":\"CP_MANUFACTURER\",\n",
    "                                \"Franchise\":\"CP_CONCENTRATION\",\"Brand\":\"CP_FRANCHISE\",\"SubBrand\":\"CP_BRAND\",\"Facts\":\"FCT\"},inplace=True)"
   ]
  },
  {
   "cell_type": "code",
   "execution_count": null,
   "metadata": {},
   "outputs": [],
   "source": [
    "list(np.sort(list(LDL_TOTAL.columns)))==list(np.sort(list(Data_5p_LDL)))"
   ]
  },
  {
   "cell_type": "code",
   "execution_count": null,
   "metadata": {},
   "outputs": [],
   "source": [
    "set(Data_5p_LDL.columns)- set(LDL_TOTAL.columns) "
   ]
  },
  {
   "cell_type": "code",
   "execution_count": null,
   "metadata": {},
   "outputs": [],
   "source": [
    "set(Data_5p_LDL[\"CP_CONCENTRATION\"])"
   ]
  },
  {
   "cell_type": "markdown",
   "metadata": {},
   "source": [
    "**Concatting LDL Data**"
   ]
  },
  {
   "cell_type": "code",
   "execution_count": null,
   "metadata": {},
   "outputs": [],
   "source": [
    "Data_5p_LDL_All=pd.concat([Data_5p_LDL,LDL_TOTAL],axis=0,ignore_index=True)"
   ]
  },
  {
   "cell_type": "markdown",
   "metadata": {},
   "source": [
    "## Promotion Data LDL"
   ]
  },
  {
   "cell_type": "code",
   "execution_count": null,
   "metadata": {},
   "outputs": [],
   "source": [
    "LDL_Promo= Data_5p_LDL_All.copy()"
   ]
  },
  {
   "cell_type": "code",
   "execution_count": null,
   "metadata": {},
   "outputs": [],
   "source": [
    "set(Promo_Facts) - set(LDL_Promo['FCT'])\n"
   ]
  },
  {
   "cell_type": "code",
   "execution_count": null,
   "metadata": {},
   "outputs": [],
   "source": [
    "LDL_Promo[\"CP_MEGA_CATEGORY\"].replace({\"LDL+FOAM\" : \"LDL/DISHAIDS/WPS/FM\"}, inplace = True)"
   ]
  },
  {
   "cell_type": "code",
   "execution_count": null,
   "metadata": {},
   "outputs": [],
   "source": [
    "LDL_Promo.columns"
   ]
  },
  {
   "cell_type": "code",
   "execution_count": null,
   "metadata": {},
   "outputs": [],
   "source": [
    "Promo_Markets=[\"US AOC\",\"Ahold\",\"Alb/Sfy\",\"BJs\",\"CVS\",\"Dollar General\",\"Family Dollar\",\"Meijer\",\"Publix\",\n",
    "         \"Rite Aid\",\"Sams\",\"Shoprite\",\"Target\",\"US Drug\",\"US Food\",\"Walgreens\",\"Walmart\", \"Kmart\"]"
   ]
  },
  {
   "cell_type": "code",
   "execution_count": null,
   "metadata": {},
   "outputs": [],
   "source": [
    "Promo_Time_Period=list(LDL_Promo.columns[0:1])+list(LDL_Promo.columns[7:8])+list(LDL_Promo.columns[1:7])+list(LDL_Promo.columns[8:9])+list(LDL_Promo.columns[25:26])+list(LDL_Promo.columns[15:17])+list(LDL_Promo.columns[13:14])+list(LDL_Promo.columns[9:10])+list(LDL_Promo.columns[26:38])[::-1]\n",
    "print(Promo_Time_Period)"
   ]
  },
  {
   "cell_type": "code",
   "execution_count": null,
   "metadata": {},
   "outputs": [],
   "source": [
    "# Filter Data based on Promo selection\n",
    "LDL_Promo= LDL_Promo[LDL_Promo[\"FCT\"].isin(Promo_Facts)]\n",
    "LDL_Promo= LDL_Promo[LDL_Promo[\"MKT\"].isin(Promo_Markets)]\n",
    "LDL_Promo=LDL_Promo[Promo_Time_Period]"
   ]
  },
  {
   "cell_type": "code",
   "execution_count": null,
   "metadata": {},
   "outputs": [],
   "source": [
    "print(len(Promo_Markets), len(set(LDL_Promo[\"MKT\"])))"
   ]
  },
  {
   "cell_type": "markdown",
   "metadata": {},
   "source": [
    "**Fact Name Change**"
   ]
  },
  {
   "cell_type": "code",
   "execution_count": null,
   "metadata": {},
   "outputs": [],
   "source": [
    "LDL_Promo[\"FCT\"].replace(Promo_Fact_Mapping,inplace=True)"
   ]
  },
  {
   "cell_type": "code",
   "execution_count": null,
   "metadata": {
    "scrolled": true
   },
   "outputs": [],
   "source": [
    "LDL_Promo.shape"
   ]
  },
  {
   "cell_type": "markdown",
   "metadata": {},
   "source": [
    "**Column name Change**"
   ]
  },
  {
   "cell_type": "markdown",
   "metadata": {},
   "source": [
    "**Concat LDL's Dataframes**"
   ]
  },
  {
   "cell_type": "code",
   "execution_count": null,
   "metadata": {},
   "outputs": [],
   "source": [
    "if list(np.sort(list(set(Data_5p_LDL.columns))))==list(np.sort(list(set(LDL_Promo.columns)))):\n",
    "    print(\"Both Dataframes have same column names. We are ready to concat these dataframes.\")\n",
    "else:\n",
    "    print(\"Dataframe column names are not same :(  Check Column name mapping.\")"
   ]
  },
  {
   "cell_type": "code",
   "execution_count": null,
   "metadata": {},
   "outputs": [],
   "source": [
    "set(Data_5p_LDL.columns)-set(LDL_Promo.columns)"
   ]
  },
  {
   "cell_type": "code",
   "execution_count": null,
   "metadata": {},
   "outputs": [],
   "source": [
    "set(LDL_Promo.columns)-set(LDL_TOTAL.columns)"
   ]
  },
  {
   "cell_type": "code",
   "execution_count": null,
   "metadata": {},
   "outputs": [],
   "source": []
  },
  {
   "cell_type": "code",
   "execution_count": null,
   "metadata": {},
   "outputs": [],
   "source": []
  },
  {
   "cell_type": "code",
   "execution_count": null,
   "metadata": {},
   "outputs": [],
   "source": [
    "LDL_Promo.head(2)"
   ]
  },
  {
   "cell_type": "code",
   "execution_count": null,
   "metadata": {},
   "outputs": [],
   "source": [
    "# del LDL_Promo[\"ShareBasis\"]\n",
    "del LDL_Promo[\"Category\"]"
   ]
  },
  {
   "cell_type": "code",
   "execution_count": null,
   "metadata": {},
   "outputs": [],
   "source": [
    "LDL_Promo = movecol(LDL_Promo, \n",
    "             cols_to_move=[\"CP_CONCENTRATION\"], \n",
    "             ref_col='CP_MANUFACTURER',\n",
    "             place='Before')\n",
    "LDL_Promo.head(3)"
   ]
  },
  {
   "cell_type": "code",
   "execution_count": null,
   "metadata": {},
   "outputs": [],
   "source": [
    "LDL_Promo = movecol(LDL_Promo, \n",
    "             cols_to_move=[\"PROD\"], \n",
    "             ref_col='MKT',\n",
    "             place='After')\n",
    "LDL_Promo.head(3)"
   ]
  },
  {
   "cell_type": "code",
   "execution_count": null,
   "metadata": {},
   "outputs": [],
   "source": [
    "Fact_order = CategoricalDtype(\n",
    "    sorted(list(set(LDL_Promo[\"FCT\"]))), \n",
    "    ordered=True\n",
    ")\n",
    "\n",
    "LDL_Promo['FCT'] = LDL_Promo['FCT'].astype(Fact_order)\n",
    "\n",
    "LDL_Promo.sort_values(['MKT','PROD','FCT'],inplace=True)"
   ]
  },
  {
   "cell_type": "code",
   "execution_count": null,
   "metadata": {},
   "outputs": [],
   "source": [
    "LDL_Promo = LDL_Promo[LDL_Promo[\"CP_CONCENTRATION\"].isin([\"REGULAR\",\"ULTRA\",\"\",\"TOTAL (REGULAR+ULTRA+NA)\"])]"
   ]
  },
  {
   "cell_type": "code",
   "execution_count": null,
   "metadata": {},
   "outputs": [],
   "source": [
    "LDL_Promo[\"Frn\"]=\"\"\n",
    "for i in range(0,len(LDL_Promo)):\n",
    "    if LDL_Promo[\"CP_FRANCHISE\"].iloc[i]==\"\":\n",
    "        LDL_Promo[\"Frn\"].iloc[i]=LDL_Promo[\"CP_FRANCHISE\"].iloc[i]\n",
    "        \n",
    "    elif (LDL_Promo[\"CP_CONCENTRATION\"].iloc[i]==\"TOTAL (REGULAR+ULTRA+NA)\"):\n",
    "        LDL_Promo[\"Frn\"].iloc[i]=LDL_Promo[\"CP_FRANCHISE\"].iloc[i]\n",
    "    \n",
    "    elif (LDL_Promo[\"CP_CONCENTRATION\"].iloc[i]==\"REGULAR\") or (LDL_Promo[\"CP_CONCENTRATION\"].iloc[i]==\"ULTRA\") :\n",
    "        LDL_Promo[\"Frn\"].iloc[i]=LDL_Promo[\"CP_FRANCHISE\"].iloc[i]+\" \" +LDL_Promo[\"CP_CONCENTRATION\"].iloc[i]\n"
   ]
  },
  {
   "cell_type": "code",
   "execution_count": null,
   "metadata": {},
   "outputs": [],
   "source": [
    "LDL_Promo[\"Brn\"]=\"\"\n",
    "for i in range(0,len(LDL_Promo)):\n",
    "    if LDL_Promo[\"CP_BRAND\"].iloc[i]==\"\":\n",
    "        LDL_Promo[\"Brn\"].iloc[i]=LDL_Promo[\"CP_BRAND\"].iloc[i]\n",
    "        \n",
    "    elif (LDL_Promo[\"CP_CONCENTRATION\"].iloc[i]==\"TOTAL (REGULAR+ULTRA+NA)\"):\n",
    "        LDL_Promo[\"Brn\"].iloc[i]=LDL_Promo[\"CP_BRAND\"].iloc[i]\n",
    "    \n",
    "    elif (LDL_Promo[\"CP_CONCENTRATION\"].iloc[i]==\"REGULAR\") or (LDL_Promo[\"CP_CONCENTRATION\"].iloc[i]==\"ULTRA\") :\n",
    "        LDL_Promo[\"Brn\"].iloc[i]=LDL_Promo[\"CP_BRAND\"].iloc[i]+\" \" +LDL_Promo[\"CP_CONCENTRATION\"].iloc[i]"
   ]
  },
  {
   "cell_type": "code",
   "execution_count": null,
   "metadata": {},
   "outputs": [],
   "source": [
    "LDL_Promo[\"CP_FRANCHISE\"]=LDL_Promo[\"Frn\"]\n",
    "LDL_Promo[\"CP_BRAND\"]=LDL_Promo[\"Brn\"]"
   ]
  },
  {
   "cell_type": "code",
   "execution_count": null,
   "metadata": {},
   "outputs": [],
   "source": [
    "del LDL_Promo[\"Frn\"]\n",
    "del LDL_Promo[\"Brn\"]"
   ]
  },
  {
   "cell_type": "code",
   "execution_count": null,
   "metadata": {},
   "outputs": [],
   "source": [
    "set(LDL_Promo[\"CP_MEGA_CATEGORY\"])"
   ]
  },
  {
   "cell_type": "code",
   "execution_count": null,
   "metadata": {},
   "outputs": [],
   "source": [
    "set(LDL_Promo[\"CP_CONCENTRATION\"])"
   ]
  },
  {
   "cell_type": "code",
   "execution_count": null,
   "metadata": {},
   "outputs": [],
   "source": [
    "set(LDL_Promo[\"FCT\"])"
   ]
  },
  {
   "cell_type": "markdown",
   "metadata": {},
   "source": [
    "## **promo_category**"
   ]
  },
  {
   "cell_type": "code",
   "execution_count": null,
   "metadata": {},
   "outputs": [],
   "source": [
    "promo_category=LDL_Promo.loc[(LDL_Promo[\"CP_BRAND\"]==\"\")&(LDL_Promo[\"CP_FRANCHISE\"]==\"\")&(LDL_Promo[\"CP_CONCENTRATION\"]==\"\")&(LDL_Promo[\"CP_MANUFACTURER\"]==\"\")]"
   ]
  },
  {
   "cell_type": "code",
   "execution_count": null,
   "metadata": {},
   "outputs": [],
   "source": [
    "promo_category.drop_duplicates(inplace = True)\n",
    "#print(length)\n",
    "promo_category.head(3)"
   ]
  },
  {
   "cell_type": "code",
   "execution_count": null,
   "metadata": {},
   "outputs": [],
   "source": [
    "length= len(promo_category)\n",
    "print(length)\n",
    "promo_category[\"Record_ID\"]=range(1,length+1)"
   ]
  },
  {
   "cell_type": "code",
   "execution_count": null,
   "metadata": {},
   "outputs": [],
   "source": [
    "promo_category.to_csv(path_LDL+\"promo_category.csv\",index=False)"
   ]
  },
  {
   "cell_type": "markdown",
   "metadata": {},
   "source": [
    "## **promo_toplevel**"
   ]
  },
  {
   "cell_type": "code",
   "execution_count": null,
   "metadata": {},
   "outputs": [],
   "source": [
    "promo_toplevel=LDL_Promo.loc[(LDL_Promo[\"CP_BRAND\"]==\"\")&(LDL_Promo[\"CP_FRANCHISE\"]==\"\")&(LDL_Promo[\"CP_CONCENTRATION\"]==\"\")&(LDL_Promo[\"CP_MANUFACTURER\"]!=\"\")]"
   ]
  },
  {
   "cell_type": "code",
   "execution_count": null,
   "metadata": {},
   "outputs": [],
   "source": [
    "# Blank row 0th position\n",
    "df1=pd.DataFrame([[np.nan]*len(promo_toplevel.columns)],columns=promo_toplevel.columns)\n",
    "promo_toplevel=df1.append(promo_toplevel,ignore_index=True)"
   ]
  },
  {
   "cell_type": "code",
   "execution_count": null,
   "metadata": {},
   "outputs": [],
   "source": [
    "promo_toplevel.drop_duplicates(inplace = True)\n",
    "promo_toplevel.head()"
   ]
  },
  {
   "cell_type": "code",
   "execution_count": null,
   "metadata": {},
   "outputs": [],
   "source": [
    "length= len(promo_toplevel)\n",
    "promo_toplevel[\"Record_ID\"]=range(1,length+1)"
   ]
  },
  {
   "cell_type": "code",
   "execution_count": null,
   "metadata": {},
   "outputs": [],
   "source": [
    "promo_toplevel.to_csv(path_LDL+\"promo_toplevel.csv\",index=False)"
   ]
  },
  {
   "cell_type": "markdown",
   "metadata": {},
   "source": [
    "## **promo_franchise**"
   ]
  },
  {
   "cell_type": "code",
   "execution_count": null,
   "metadata": {},
   "outputs": [],
   "source": [
    "promo_franchise=LDL_Promo.loc[(LDL_Promo[\"CP_BRAND\"]==\"\")&(LDL_Promo[\"CP_FRANCHISE\"]!=\"\")&(LDL_Promo[\"CP_CONCENTRATION\"]!=\"\")]"
   ]
  },
  {
   "cell_type": "code",
   "execution_count": null,
   "metadata": {},
   "outputs": [],
   "source": [
    "promo_franchise.drop_duplicates(inplace = True)"
   ]
  },
  {
   "cell_type": "code",
   "execution_count": null,
   "metadata": {},
   "outputs": [],
   "source": [
    "length= len(promo_franchise)\n",
    "promo_franchise[\"Record_ID\"]=range(1,length+1)"
   ]
  },
  {
   "cell_type": "code",
   "execution_count": null,
   "metadata": {},
   "outputs": [],
   "source": [
    "promo_franchise.to_csv(path_LDL+\"promo_franchise.csv\",index=False)"
   ]
  },
  {
   "cell_type": "markdown",
   "metadata": {},
   "source": [
    "## **promo_brand_promo**"
   ]
  },
  {
   "cell_type": "code",
   "execution_count": null,
   "metadata": {},
   "outputs": [],
   "source": [
    "promo_brand_promo=LDL_Promo.loc[(LDL_Promo[\"CP_BRAND\"]!=\"\")]"
   ]
  },
  {
   "cell_type": "code",
   "execution_count": null,
   "metadata": {},
   "outputs": [],
   "source": [
    "promo_brand_promo.drop_duplicates(inplace = True)"
   ]
  },
  {
   "cell_type": "code",
   "execution_count": null,
   "metadata": {},
   "outputs": [],
   "source": [
    "length= len(promo_brand_promo)\n",
    "promo_brand_promo[\"Record_ID\"]=range(1,length+1)"
   ]
  },
  {
   "cell_type": "code",
   "execution_count": null,
   "metadata": {},
   "outputs": [],
   "source": [
    "promo_brand_promo.to_csv(path_LDL+\"promo_brand_promo.csv\",index=False)"
   ]
  },
  {
   "cell_type": "code",
   "execution_count": null,
   "metadata": {},
   "outputs": [],
   "source": []
  },
  {
   "cell_type": "markdown",
   "metadata": {},
   "source": [
    "## Waterfall"
   ]
  },
  {
   "cell_type": "code",
   "execution_count": null,
   "metadata": {},
   "outputs": [],
   "source": [
    "Waterfall_LDL=Data_5p_LDL_All.copy()"
   ]
  },
  {
   "cell_type": "code",
   "execution_count": null,
   "metadata": {},
   "outputs": [],
   "source": [
    "Waterfall_LDL[\"CP_MEGA_CATEGORY\"].replace({\"LDL+FOAM\" : \"LDL/DISHAIDS/WPS/FM\"}, inplace = True)"
   ]
  },
  {
   "cell_type": "code",
   "execution_count": null,
   "metadata": {},
   "outputs": [],
   "source": [
    "set(Waterfall_LDL[\"CP_CONCENTRATION\"])"
   ]
  },
  {
   "cell_type": "code",
   "execution_count": null,
   "metadata": {},
   "outputs": [],
   "source": [
    "Waterfall_LDL.columns"
   ]
  },
  {
   "cell_type": "code",
   "execution_count": null,
   "metadata": {},
   "outputs": [],
   "source": [
    "Waterfall_Markets=[\"TOTAL US XAOC\",\"TOTAL US DRUG\",\"TOTAL US FOOD\",\"TOTAL WALMART TOTAL US CTA\",\"TARGET TOTAL BM/FF CENSUS TA\",\n",
    "         \"WALGREENS CORP TOTAL CENSUS TA\",\"RITE AID - TOTAL CENSUS TA\",\"SHOPRITE TOTAL CENSUS TRADING AREA\",\n",
    "         \"PUBLIX TOTAL CENSUS TRADING AREA\",\"FAMILY DOLLAR TOTAL CENSUS TRADING AREA\",\"DOL GEN TOTAL CENSUS TA\",\n",
    "         \"CVS TOTAL CORP WO HI CENSUS TA\",\"SAMS TOTAL CENSUS TRADING AREA\",\"BJS TOTAL CENSUS TA\",\n",
    "         \"AHOLD USA CORP TOTAL CTA\",\"MEIJER TOTAL CENSUS TRADING AREA\",\"ALBSCO Total Company TA\",\"Kmart Total TA\" ]"
   ]
  },
  {
   "cell_type": "code",
   "execution_count": null,
   "metadata": {},
   "outputs": [],
   "source": [
    "Waterfall_Fact_Mapping={\n",
    "    \"No Promo Incr $\":\"Incr.$ w/No Promo\",\n",
    "    \"Feat w/o Disp $\":\"Incr.$ w/Ftr w/o Disp\",\n",
    "    \"Disp w/o Feat $\":\"Incr.$ w/Disp w/o Ftr\",\n",
    "    \"Feat & Disp $\":\"Incr.$ w/Ftr & Disp\",\n",
    "    \"Price Decr Only $\":\"Incr.$ w/TPR\",\n",
    "    \"$\":\"Dollars\",\n",
    "    \"$ Shr - CP CATEGORY\":\"$ Share\",\n",
    "    \"Base $\":\"Baseline $\"\n",
    "}"
   ]
  },
  {
   "cell_type": "markdown",
   "metadata": {},
   "source": [
    "**Market Mapping**"
   ]
  },
  {
   "cell_type": "code",
   "execution_count": null,
   "metadata": {},
   "outputs": [],
   "source": [
    "Waterfall_LDL[\"MKT\"].replace(Waterfall_Market_Mapping,inplace=True)"
   ]
  },
  {
   "cell_type": "markdown",
   "metadata": {},
   "source": [
    "**Facts, Markets, Time_Period Filter**"
   ]
  },
  {
   "cell_type": "code",
   "execution_count": null,
   "metadata": {},
   "outputs": [],
   "source": [
    "Waterfall_Time_Period=list(Waterfall_LDL.columns[0:1])+list(Waterfall_LDL.columns[7:8])+list(Waterfall_LDL.columns[3:7])+list(Waterfall_LDL.columns[8:9])+list(Waterfall_LDL.columns[13:15])+list(Waterfall_LDL.columns[25:26])+list(Waterfall_LDL.columns[37:38])\n",
    "print(Waterfall_Time_Period)"
   ]
  },
  {
   "cell_type": "code",
   "execution_count": null,
   "metadata": {},
   "outputs": [],
   "source": [
    "Waterfall_LDL= Waterfall_LDL[Waterfall_LDL[\"FCT\"].isin(Waterfall_Facts)]\n",
    "Waterfall_LDL= Waterfall_LDL[Waterfall_LDL[\"MKT\"].isin(Waterfall_Markets)]\n",
    "Waterfall_LDL=Waterfall_LDL[Waterfall_Time_Period]"
   ]
  },
  {
   "cell_type": "code",
   "execution_count": null,
   "metadata": {},
   "outputs": [],
   "source": [
    "print(len(Waterfall_Markets), len(set(Waterfall_LDL[\"MKT\"])))"
   ]
  },
  {
   "cell_type": "code",
   "execution_count": null,
   "metadata": {},
   "outputs": [],
   "source": [
    "set(Waterfall_Markets) - set(Waterfall_LDL[\"MKT\"])"
   ]
  },
  {
   "cell_type": "code",
   "execution_count": null,
   "metadata": {},
   "outputs": [],
   "source": [
    "Waterfall_LDL.columns"
   ]
  },
  {
   "cell_type": "code",
   "execution_count": null,
   "metadata": {},
   "outputs": [],
   "source": [
    "set(Waterfall_LDL[\"MKT\"])"
   ]
  },
  {
   "cell_type": "code",
   "execution_count": null,
   "metadata": {
    "scrolled": true
   },
   "outputs": [],
   "source": [
    "Waterfall_LDL.columns"
   ]
  },
  {
   "cell_type": "markdown",
   "metadata": {},
   "source": [
    "**Column name Change**"
   ]
  },
  {
   "cell_type": "code",
   "execution_count": null,
   "metadata": {},
   "outputs": [],
   "source": [
    "Waterfall_LDL.rename(columns={\"Markets\":\"MKT\",\"ShareBasis\":\"CP_MEGA_CATEGORY\",\"Products\":\"PROD\",\"CP_MANUFACTURER\":\"CP.MANUFACTURER\",\n",
    "                                \"Franchise\":\"CP.CONCENTRATE\",\"CP_FRANCHISE\":\"CP.FRANCHISE\",\"CP_BRAND\":\"CP.BRAND\",\"Facts\":\"FCT\",\n",
    "                             \"CP_CONCENTRATION\":\"CP.CONCENTRATE\"},inplace=True)"
   ]
  },
  {
   "cell_type": "markdown",
   "metadata": {},
   "source": [
    "**Fact Name Change**"
   ]
  },
  {
   "cell_type": "code",
   "execution_count": null,
   "metadata": {},
   "outputs": [],
   "source": [
    "Waterfall_LDL[\"FCT\"].replace(Waterfall_Fact_Mapping,inplace=True)"
   ]
  },
  {
   "cell_type": "code",
   "execution_count": null,
   "metadata": {},
   "outputs": [],
   "source": [
    "Waterfall_LDL.head(2)"
   ]
  },
  {
   "cell_type": "code",
   "execution_count": null,
   "metadata": {},
   "outputs": [],
   "source": [
    "Fact_order_1 = [\"Baseline $\",\"Incr.$ w/No Promo\",\"Incr.$ w/Ftr w/o Disp\",\"Incr.$ w/Disp w/o Ftr\",\"Incr.$ w/Ftr & Disp\",\n",
    "              \"Incr.$ w/TPR\",\"Dollars\",\"$ Share\"]\n",
    "\n",
    "Fact_order = CategoricalDtype(\n",
    "    Fact_order_1, \n",
    "    ordered=True\n",
    ")\n",
    "\n",
    "\n",
    "Waterfall_LDL['FCT'] = Waterfall_LDL['FCT'].astype(Fact_order)\n",
    "\n",
    "Waterfall_LDL.sort_values(['MKT','PROD','FCT'],inplace=True)"
   ]
  },
  {
   "cell_type": "code",
   "execution_count": null,
   "metadata": {},
   "outputs": [],
   "source": [
    "Waterfall_LDL.columns"
   ]
  },
  {
   "cell_type": "code",
   "execution_count": null,
   "metadata": {},
   "outputs": [],
   "source": [
    "Waterfall_LDL = Waterfall_LDL[Waterfall_LDL[\"CP.CONCENTRATE\"].isin([\"ULTRA\", \"REGULAR\",\"\",\"TOTAL (REGULAR+ULTRA+NA)\"])]"
   ]
  },
  {
   "cell_type": "code",
   "execution_count": null,
   "metadata": {},
   "outputs": [],
   "source": [
    "Waterfall_LDL[\"Frn\"]=\"\"\n",
    "for i in range(0,len(Waterfall_LDL)):\n",
    "    if Waterfall_LDL[\"CP.FRANCHISE\"].iloc[i]==\"\":\n",
    "        Waterfall_LDL[\"Frn\"].iloc[i]=Waterfall_LDL[\"CP.FRANCHISE\"].iloc[i]\n",
    "        \n",
    "    elif (Waterfall_LDL[\"CP.CONCENTRATE\"].iloc[i]==\"TOTAL (REGULAR+ULTRA+NA)\"):\n",
    "        Waterfall_LDL[\"Frn\"].iloc[i]=Waterfall_LDL[\"CP.FRANCHISE\"].iloc[i]\n",
    "    \n",
    "    elif (Waterfall_LDL[\"CP.CONCENTRATE\"].iloc[i]==\"REGULAR\") or (Waterfall_LDL[\"CP.CONCENTRATE\"].iloc[i]==\"ULTRA\") :\n",
    "        Waterfall_LDL[\"Frn\"].iloc[i]=Waterfall_LDL[\"CP.FRANCHISE\"].iloc[i]+\" \" +Waterfall_LDL[\"CP.CONCENTRATE\"].iloc[i]\n"
   ]
  },
  {
   "cell_type": "code",
   "execution_count": null,
   "metadata": {},
   "outputs": [],
   "source": [
    "Waterfall_LDL[\"Brn\"]=\"\"\n",
    "for i in range(0,len(Waterfall_LDL)):\n",
    "    if Waterfall_LDL[\"CP.BRAND\"].iloc[i]==\"\":\n",
    "        Waterfall_LDL[\"Brn\"].iloc[i]=Waterfall_LDL[\"CP.BRAND\"].iloc[i]\n",
    "        \n",
    "    elif (Waterfall_LDL[\"CP.CONCENTRATE\"].iloc[i]==\"TOTAL (REGULAR+ULTRA+NA)\"):\n",
    "        Waterfall_LDL[\"Brn\"].iloc[i]=Waterfall_LDL[\"CP.BRAND\"].iloc[i]\n",
    "    \n",
    "    elif (Waterfall_LDL[\"CP.CONCENTRATE\"].iloc[i]==\"REGULAR\") or (Waterfall_LDL[\"CP.CONCENTRATE\"].iloc[i]==\"ULTRA\") :\n",
    "        Waterfall_LDL[\"Brn\"].iloc[i]=Waterfall_LDL[\"CP.BRAND\"].iloc[i]+\" \" +Waterfall_LDL[\"CP.CONCENTRATE\"].iloc[i]"
   ]
  },
  {
   "cell_type": "code",
   "execution_count": null,
   "metadata": {},
   "outputs": [],
   "source": [
    "Waterfall_LDL[\"CP.FRANCHISE\"]=Waterfall_LDL[\"Frn\"]\n",
    "Waterfall_LDL[\"CP.BRAND\"]=Waterfall_LDL[\"Brn\"]"
   ]
  },
  {
   "cell_type": "code",
   "execution_count": null,
   "metadata": {},
   "outputs": [],
   "source": [
    "del Waterfall_LDL[\"Frn\"]\n",
    "del Waterfall_LDL[\"Brn\"]"
   ]
  },
  {
   "cell_type": "code",
   "execution_count": null,
   "metadata": {},
   "outputs": [],
   "source": [
    "set(Waterfall_LDL[\"CP.CONCENTRATE\"])"
   ]
  },
  {
   "cell_type": "markdown",
   "metadata": {},
   "source": [
    "## **Waterfall_Manu**"
   ]
  },
  {
   "cell_type": "code",
   "execution_count": null,
   "metadata": {},
   "outputs": [],
   "source": [
    "Waterfall_Manu=Waterfall_LDL.loc[(Waterfall_LDL[\"CP.CONCENTRATE\"]==\"\")&(Waterfall_LDL[\"CP.BRAND\"]==\"\")&(Waterfall_LDL[\"CP.FRANCHISE\"]==\"\")&(Waterfall_LDL[\"CP.MANUFACTURER\"]!=\"\")]"
   ]
  },
  {
   "cell_type": "code",
   "execution_count": null,
   "metadata": {},
   "outputs": [],
   "source": [
    "Waterfall_Manu.drop_duplicates(inplace = True)"
   ]
  },
  {
   "cell_type": "code",
   "execution_count": null,
   "metadata": {},
   "outputs": [],
   "source": [
    "Waterfall_Manu[\"Record_ID\"]=range(1,len(Waterfall_Manu)+1)"
   ]
  },
  {
   "cell_type": "code",
   "execution_count": null,
   "metadata": {},
   "outputs": [],
   "source": [
    "Waterfall_Manu.to_csv(path_LDL+\"Waterfall_Manu.csv\",index=False)"
   ]
  },
  {
   "cell_type": "markdown",
   "metadata": {},
   "source": [
    "## **Waterfall_Fran**"
   ]
  },
  {
   "cell_type": "code",
   "execution_count": null,
   "metadata": {},
   "outputs": [],
   "source": [
    "Waterfall_Fran=Waterfall_LDL.loc[(Waterfall_LDL[\"CP.BRAND\"]==\"\")&(Waterfall_LDL[\"CP.FRANCHISE\"]!=\"\")&(Waterfall_LDL[\"CP.CONCENTRATE\"]!=\"\")]"
   ]
  },
  {
   "cell_type": "code",
   "execution_count": null,
   "metadata": {},
   "outputs": [],
   "source": [
    "Waterfall_Fran.drop_duplicates(inplace = True)"
   ]
  },
  {
   "cell_type": "code",
   "execution_count": null,
   "metadata": {},
   "outputs": [],
   "source": [
    "Waterfall_Fran[\"Record_ID\"]=range(1,len(Waterfall_Fran)+1)"
   ]
  },
  {
   "cell_type": "code",
   "execution_count": null,
   "metadata": {},
   "outputs": [],
   "source": [
    "Waterfall_Fran.to_csv(path_LDL+\"Waterfall_Fran.csv\",index=False)"
   ]
  },
  {
   "cell_type": "markdown",
   "metadata": {},
   "source": [
    "## **Waterfall_Brand**"
   ]
  },
  {
   "cell_type": "code",
   "execution_count": null,
   "metadata": {},
   "outputs": [],
   "source": [
    "Waterfall_Brand=Waterfall_LDL.loc[(Waterfall_LDL[\"CP.BRAND\"]!=\"\")]"
   ]
  },
  {
   "cell_type": "code",
   "execution_count": null,
   "metadata": {},
   "outputs": [],
   "source": [
    "Waterfall_Cat=Waterfall_LDL.loc[(Waterfall_LDL[\"CP.BRAND\"]==\"\")&(Waterfall_LDL[\"CP.FRANCHISE\"]==\"\")&(Waterfall_LDL[\"CP.MANUFACTURER\"]==\"\")]"
   ]
  },
  {
   "cell_type": "code",
   "execution_count": null,
   "metadata": {},
   "outputs": [],
   "source": [
    "Waterfall_Cat_Brand=pd.concat([Waterfall_Cat,Waterfall_Brand],axis=0)"
   ]
  },
  {
   "cell_type": "code",
   "execution_count": null,
   "metadata": {},
   "outputs": [],
   "source": [
    "Waterfall_Cat_Brand['FCT'] = Waterfall_Cat_Brand['FCT'].astype(Fact_order)\n",
    "\n",
    "Waterfall_Cat_Brand.sort_values(['MKT','PROD','FCT'],inplace=True)"
   ]
  },
  {
   "cell_type": "code",
   "execution_count": null,
   "metadata": {},
   "outputs": [],
   "source": [
    "Waterfall_Cat_Brand.drop_duplicates(inplace = True)"
   ]
  },
  {
   "cell_type": "code",
   "execution_count": null,
   "metadata": {},
   "outputs": [],
   "source": [
    "Waterfall_Cat_Brand[\"Record_ID\"]=range(1,len(Waterfall_Cat_Brand)+1)"
   ]
  },
  {
   "cell_type": "code",
   "execution_count": null,
   "metadata": {},
   "outputs": [],
   "source": [
    "Waterfall_Cat_Brand.to_csv(path_LDL+\"Waterfall Brand.csv\",index=False)"
   ]
  },
  {
   "cell_type": "code",
   "execution_count": null,
   "metadata": {},
   "outputs": [],
   "source": []
  },
  {
   "cell_type": "markdown",
   "metadata": {},
   "source": [
    "## FS"
   ]
  },
  {
   "cell_type": "code",
   "execution_count": null,
   "metadata": {},
   "outputs": [],
   "source": []
  },
  {
   "cell_type": "code",
   "execution_count": 548,
   "metadata": {},
   "outputs": [],
   "source": [
    "# path to store Output files\n",
    "\n",
    "path_FS=\"//falmumapp34/Nielsen Connect Transition & Maintenance (20-SCP-3650)/05. Output Data/5P Output/FS/\""
   ]
  },
  {
   "cell_type": "code",
   "execution_count": 549,
   "metadata": {},
   "outputs": [],
   "source": [
    "Data_5p_FS=Data_5p[Data_5p[\"Category\"] == \"FS\"]"
   ]
  },
  {
   "cell_type": "code",
   "execution_count": 550,
   "metadata": {},
   "outputs": [
    {
     "data": {
      "text/html": [
       "<div>\n",
       "<style scoped>\n",
       "    .dataframe tbody tr th:only-of-type {\n",
       "        vertical-align: middle;\n",
       "    }\n",
       "\n",
       "    .dataframe tbody tr th {\n",
       "        vertical-align: top;\n",
       "    }\n",
       "\n",
       "    .dataframe thead th {\n",
       "        text-align: right;\n",
       "    }\n",
       "</style>\n",
       "<table border=\"1\" class=\"dataframe\">\n",
       "  <thead>\n",
       "    <tr style=\"text-align: right;\">\n",
       "      <th></th>\n",
       "      <th>Markets</th>\n",
       "      <th>ShareBasis</th>\n",
       "      <th>Category</th>\n",
       "      <th>Manufacturer</th>\n",
       "      <th>Franchise</th>\n",
       "      <th>Brand</th>\n",
       "      <th>SubBrand</th>\n",
       "      <th>Products</th>\n",
       "      <th>Facts</th>\n",
       "      <th>FY 2020</th>\n",
       "      <th>...</th>\n",
       "      <th>5 W/E 10/03/20</th>\n",
       "      <th>4 W/E 08/29/20</th>\n",
       "      <th>4 W/E 08/01/20</th>\n",
       "      <th>5 W/E 07/04/20</th>\n",
       "      <th>4 W/E 05/30/20</th>\n",
       "      <th>4 W/E 05/02/20</th>\n",
       "      <th>5 W/E 04/04/20</th>\n",
       "      <th>4 W/E 02/29/20</th>\n",
       "      <th>4 W/E 02/01/20</th>\n",
       "      <th>Key</th>\n",
       "    </tr>\n",
       "  </thead>\n",
       "  <tbody>\n",
       "    <tr>\n",
       "      <th>617007</th>\n",
       "      <td>US AOC</td>\n",
       "      <td>BEAD FS</td>\n",
       "      <td>FS</td>\n",
       "      <td></td>\n",
       "      <td></td>\n",
       "      <td></td>\n",
       "      <td></td>\n",
       "      <td>BEAD FS</td>\n",
       "      <td>% $ Any Promo</td>\n",
       "      <td>34.449</td>\n",
       "      <td>...</td>\n",
       "      <td>32.298</td>\n",
       "      <td>21.252</td>\n",
       "      <td>NaN</td>\n",
       "      <td>NaN</td>\n",
       "      <td>NaN</td>\n",
       "      <td>NaN</td>\n",
       "      <td>NaN</td>\n",
       "      <td>NaN</td>\n",
       "      <td>NaN</td>\n",
       "      <td>Total US xAOCBEAD FS</td>\n",
       "    </tr>\n",
       "    <tr>\n",
       "      <th>617008</th>\n",
       "      <td>US AOC</td>\n",
       "      <td>BEAD FS</td>\n",
       "      <td>FS</td>\n",
       "      <td></td>\n",
       "      <td></td>\n",
       "      <td></td>\n",
       "      <td></td>\n",
       "      <td>BEAD FS</td>\n",
       "      <td>% $ Any Promo Chg YA</td>\n",
       "      <td>34.449</td>\n",
       "      <td>...</td>\n",
       "      <td>32.298</td>\n",
       "      <td>21.252</td>\n",
       "      <td>NaN</td>\n",
       "      <td>NaN</td>\n",
       "      <td>NaN</td>\n",
       "      <td>NaN</td>\n",
       "      <td>NaN</td>\n",
       "      <td>NaN</td>\n",
       "      <td>NaN</td>\n",
       "      <td>Total US xAOCBEAD FS</td>\n",
       "    </tr>\n",
       "  </tbody>\n",
       "</table>\n",
       "<p>2 rows × 40 columns</p>\n",
       "</div>"
      ],
      "text/plain": [
       "       Markets ShareBasis Category Manufacturer Franchise Brand SubBrand  \\\n",
       "617007  US AOC    BEAD FS       FS                                         \n",
       "617008  US AOC    BEAD FS       FS                                         \n",
       "\n",
       "       Products                 Facts  FY 2020  ...  5 W/E 10/03/20  \\\n",
       "617007  BEAD FS         % $ Any Promo   34.449  ...          32.298   \n",
       "617008  BEAD FS  % $ Any Promo Chg YA   34.449  ...          32.298   \n",
       "\n",
       "        4 W/E 08/29/20  4 W/E 08/01/20  5 W/E 07/04/20  4 W/E 05/30/20  \\\n",
       "617007          21.252             NaN             NaN             NaN   \n",
       "617008          21.252             NaN             NaN             NaN   \n",
       "\n",
       "        4 W/E 05/02/20  5 W/E 04/04/20  4 W/E 02/29/20  4 W/E 02/01/20  \\\n",
       "617007             NaN             NaN             NaN             NaN   \n",
       "617008             NaN             NaN             NaN             NaN   \n",
       "\n",
       "                         Key  \n",
       "617007  Total US xAOCBEAD FS  \n",
       "617008  Total US xAOCBEAD FS  \n",
       "\n",
       "[2 rows x 40 columns]"
      ]
     },
     "execution_count": 550,
     "metadata": {},
     "output_type": "execute_result"
    }
   ],
   "source": [
    "Data_5p_FS.head(2)"
   ]
  },
  {
   "cell_type": "code",
   "execution_count": 551,
   "metadata": {},
   "outputs": [
    {
     "data": {
      "text/plain": [
       "{'BEAD FS',\n",
       " 'FABRIC SOFTENERS',\n",
       " 'LIQUID FS',\n",
       " 'MFR Sun Products',\n",
       " 'SCENT BOOSTERS',\n",
       " 'SHEETS'}"
      ]
     },
     "execution_count": 551,
     "metadata": {},
     "output_type": "execute_result"
    }
   ],
   "source": [
    "set(Data_5p_FS[\"ShareBasis\"])"
   ]
  },
  {
   "cell_type": "code",
   "execution_count": 552,
   "metadata": {},
   "outputs": [],
   "source": [
    "Data_5p_FS = Data_5p_FS[Data_5p_FS[\"ShareBasis\"] != \"MFR Sun Products\"]"
   ]
  },
  {
   "cell_type": "code",
   "execution_count": 553,
   "metadata": {},
   "outputs": [],
   "source": [
    "Data_5p_FS[\"ShareBasis\"].replace({\"FABRIC SOFTENERS\" : \"TOTAL FS\"}, inplace = True)"
   ]
  },
  {
   "cell_type": "code",
   "execution_count": 554,
   "metadata": {},
   "outputs": [],
   "source": [
    "Data_5p_FS[\"Products\"] = Data_5p_FS[\"Products\"].str.replace(\"FABRIC SOFTENERS\" , \"TOTAL FS\")\n"
   ]
  },
  {
   "cell_type": "code",
   "execution_count": 555,
   "metadata": {},
   "outputs": [
    {
     "data": {
      "text/plain": [
       "{'BEAD FS', 'LIQUID FS', 'SCENT BOOSTERS', 'SHEETS', 'TOTAL FS'}"
      ]
     },
     "execution_count": 555,
     "metadata": {},
     "output_type": "execute_result"
    }
   ],
   "source": [
    "set(list(Data_5p_FS[\"ShareBasis\"]))"
   ]
  },
  {
   "cell_type": "markdown",
   "metadata": {},
   "source": [
    "**Filtering FS Data**"
   ]
  },
  {
   "cell_type": "code",
   "execution_count": 556,
   "metadata": {},
   "outputs": [],
   "source": [
    "#Data_5p_FS=Data_5p.loc[Data_5p[\"ShareBasis\"].isin([\"BATTERY+HYBRID\", \"POWER\"])]"
   ]
  },
  {
   "cell_type": "code",
   "execution_count": 557,
   "metadata": {},
   "outputs": [
    {
     "data": {
      "text/plain": [
       "{'Ahold',\n",
       " 'Alb/Sfy',\n",
       " 'BJs',\n",
       " 'CLUB',\n",
       " 'CVS',\n",
       " 'Dollar General',\n",
       " 'El Super',\n",
       " 'FDM',\n",
       " 'Family Dollar',\n",
       " 'Kmart',\n",
       " 'Meijer',\n",
       " 'Publix',\n",
       " 'REGIONAL GROCERY xLA',\n",
       " 'Rite Aid',\n",
       " 'Sams',\n",
       " 'Shoprite',\n",
       " 'Strategic Grocery',\n",
       " 'TOTAL MASS',\n",
       " 'Target',\n",
       " 'US AOC',\n",
       " 'US Drug',\n",
       " 'US Food',\n",
       " 'VDC',\n",
       " 'Walgreens',\n",
       " 'Walmart'}"
      ]
     },
     "execution_count": 557,
     "metadata": {},
     "output_type": "execute_result"
    }
   ],
   "source": [
    "set(Data_5p_FS[\"Markets\"])"
   ]
  },
  {
   "cell_type": "markdown",
   "metadata": {},
   "source": [
    "## Promotion Data FS"
   ]
  },
  {
   "cell_type": "code",
   "execution_count": 558,
   "metadata": {},
   "outputs": [],
   "source": [
    "FS_Promo= Data_5p_FS.copy()"
   ]
  },
  {
   "cell_type": "code",
   "execution_count": 559,
   "metadata": {},
   "outputs": [
    {
     "data": {
      "text/plain": [
       "set()"
      ]
     },
     "execution_count": 559,
     "metadata": {},
     "output_type": "execute_result"
    }
   ],
   "source": [
    "set(Promo_Facts) - set(FS_Promo['Facts'])\n"
   ]
  },
  {
   "cell_type": "code",
   "execution_count": 560,
   "metadata": {},
   "outputs": [],
   "source": [
    "Promo_Markets=[\"US AOC\",\"CVS\",\"Dollar General\",\"Family Dollar\",\"Publix\",\"BJs\",\n",
    "         \"Rite Aid\",\"Sams\",\"Target\",\"US Drug\",\"US Food\",\"Walgreens\",\"Walmart\", \"Kmart\", \"El Super\"]"
   ]
  },
  {
   "cell_type": "code",
   "execution_count": 561,
   "metadata": {},
   "outputs": [],
   "source": [
    "# Filter Data based on Promo selection\n",
    "FS_Promo= FS_Promo[FS_Promo[\"Facts\"].isin(Promo_Facts)]\n",
    "FS_Promo= FS_Promo[FS_Promo[\"Markets\"].isin(Promo_Markets)]\n",
    "FS_Promo=FS_Promo[Promo_Time_Period]"
   ]
  },
  {
   "cell_type": "code",
   "execution_count": 562,
   "metadata": {},
   "outputs": [
    {
     "data": {
      "text/plain": [
       "['Markets',\n",
       " 'Products',\n",
       " 'ShareBasis',\n",
       " 'Category',\n",
       " 'Manufacturer',\n",
       " 'Franchise',\n",
       " 'Brand',\n",
       " 'SubBrand',\n",
       " 'Facts',\n",
       " '4 W/E 02/27/21',\n",
       " 'Latest 13 Weeks',\n",
       " 'Latest 26 Weeks',\n",
       " 'YTD 2021',\n",
       " 'FY 2020',\n",
       " '4 W/E 02/29/20',\n",
       " '5 W/E 04/04/20',\n",
       " '4 W/E 05/02/20',\n",
       " '4 W/E 05/30/20',\n",
       " '5 W/E 07/04/20',\n",
       " '4 W/E 08/01/20',\n",
       " '4 W/E 08/29/20',\n",
       " '5 W/E 10/03/20',\n",
       " '4 W/E 10/31/20',\n",
       " '4 W/E 11/28/20',\n",
       " '5 W/E 01/02/21',\n",
       " '4 W/E 01/30/21']"
      ]
     },
     "execution_count": 562,
     "metadata": {},
     "output_type": "execute_result"
    }
   ],
   "source": [
    "Promo_Time_Period"
   ]
  },
  {
   "cell_type": "code",
   "execution_count": 563,
   "metadata": {},
   "outputs": [
    {
     "name": "stdout",
     "output_type": "stream",
     "text": [
      "15 15\n"
     ]
    }
   ],
   "source": [
    "print(len(Promo_Markets), len(set(FS_Promo[\"Markets\"])))"
   ]
  },
  {
   "cell_type": "code",
   "execution_count": 564,
   "metadata": {},
   "outputs": [
    {
     "data": {
      "text/plain": [
       "set()"
      ]
     },
     "execution_count": 564,
     "metadata": {},
     "output_type": "execute_result"
    }
   ],
   "source": [
    "set(Promo_Markets) - set(FS_Promo[\"Markets\"])"
   ]
  },
  {
   "cell_type": "markdown",
   "metadata": {},
   "source": [
    "**Fact Name Change**"
   ]
  },
  {
   "cell_type": "code",
   "execution_count": 565,
   "metadata": {},
   "outputs": [],
   "source": [
    "FS_Promo[\"Facts\"].replace(Promo_Fact_Mapping,inplace=True)"
   ]
  },
  {
   "cell_type": "code",
   "execution_count": 566,
   "metadata": {
    "scrolled": true
   },
   "outputs": [
    {
     "data": {
      "text/plain": [
       "(44865, 26)"
      ]
     },
     "execution_count": 566,
     "metadata": {},
     "output_type": "execute_result"
    }
   ],
   "source": [
    "FS_Promo.shape"
   ]
  },
  {
   "cell_type": "markdown",
   "metadata": {},
   "source": [
    "**Column name Change**"
   ]
  },
  {
   "cell_type": "code",
   "execution_count": 567,
   "metadata": {},
   "outputs": [],
   "source": [
    "FS_Promo[\"CP_CATEGORY\"] = \"FABRIC SOFTENERS\""
   ]
  },
  {
   "cell_type": "code",
   "execution_count": 568,
   "metadata": {},
   "outputs": [],
   "source": [
    "FS_Promo.rename(columns={\"Markets\":\"MKT\",\"ShareBasis\":\"CP_SHARE_BASIS\",\"Products\":\"PROD\",\"Manufacturer\":\"CP_MANUFACTURER\",\n",
    "                                \"Franchise\":\"CP_FRANCHISE\",\"Brand\":\"CP_BRAND\",\"SubBrand\":\"CP_SUBBRAND_VARIANT\",\"Facts\":\"FCT\"},inplace=True)"
   ]
  },
  {
   "cell_type": "code",
   "execution_count": 569,
   "metadata": {},
   "outputs": [
    {
     "data": {
      "text/html": [
       "<div>\n",
       "<style scoped>\n",
       "    .dataframe tbody tr th:only-of-type {\n",
       "        vertical-align: middle;\n",
       "    }\n",
       "\n",
       "    .dataframe tbody tr th {\n",
       "        vertical-align: top;\n",
       "    }\n",
       "\n",
       "    .dataframe thead th {\n",
       "        text-align: right;\n",
       "    }\n",
       "</style>\n",
       "<table border=\"1\" class=\"dataframe\">\n",
       "  <thead>\n",
       "    <tr style=\"text-align: right;\">\n",
       "      <th></th>\n",
       "      <th>MKT</th>\n",
       "      <th>PROD</th>\n",
       "      <th>CP_CATEGORY</th>\n",
       "      <th>CP_SHARE_BASIS</th>\n",
       "      <th>Category</th>\n",
       "      <th>CP_MANUFACTURER</th>\n",
       "      <th>CP_FRANCHISE</th>\n",
       "      <th>CP_BRAND</th>\n",
       "      <th>CP_SUBBRAND_VARIANT</th>\n",
       "      <th>FCT</th>\n",
       "      <th>...</th>\n",
       "      <th>4 W/E 05/02/20</th>\n",
       "      <th>4 W/E 05/30/20</th>\n",
       "      <th>5 W/E 07/04/20</th>\n",
       "      <th>4 W/E 08/01/20</th>\n",
       "      <th>4 W/E 08/29/20</th>\n",
       "      <th>5 W/E 10/03/20</th>\n",
       "      <th>4 W/E 10/31/20</th>\n",
       "      <th>4 W/E 11/28/20</th>\n",
       "      <th>5 W/E 01/02/21</th>\n",
       "      <th>4 W/E 01/30/21</th>\n",
       "    </tr>\n",
       "  </thead>\n",
       "  <tbody>\n",
       "    <tr>\n",
       "      <th>617007</th>\n",
       "      <td>US AOC</td>\n",
       "      <td>BEAD FS</td>\n",
       "      <td>FABRIC SOFTENERS</td>\n",
       "      <td>BEAD FS</td>\n",
       "      <td>FS</td>\n",
       "      <td></td>\n",
       "      <td></td>\n",
       "      <td></td>\n",
       "      <td></td>\n",
       "      <td>% Dollars w/Any Promo</td>\n",
       "      <td>...</td>\n",
       "      <td>NaN</td>\n",
       "      <td>NaN</td>\n",
       "      <td>NaN</td>\n",
       "      <td>NaN</td>\n",
       "      <td>21.252</td>\n",
       "      <td>32.298</td>\n",
       "      <td>31.840</td>\n",
       "      <td>33.808</td>\n",
       "      <td>37.075</td>\n",
       "      <td>52.146</td>\n",
       "    </tr>\n",
       "    <tr>\n",
       "      <th>617008</th>\n",
       "      <td>US AOC</td>\n",
       "      <td>BEAD FS</td>\n",
       "      <td>FABRIC SOFTENERS</td>\n",
       "      <td>BEAD FS</td>\n",
       "      <td>FS</td>\n",
       "      <td></td>\n",
       "      <td></td>\n",
       "      <td></td>\n",
       "      <td></td>\n",
       "      <td>% Dollars w/Any Promo YAG Chg</td>\n",
       "      <td>...</td>\n",
       "      <td>NaN</td>\n",
       "      <td>NaN</td>\n",
       "      <td>NaN</td>\n",
       "      <td>NaN</td>\n",
       "      <td>21.252</td>\n",
       "      <td>32.298</td>\n",
       "      <td>31.840</td>\n",
       "      <td>33.808</td>\n",
       "      <td>37.075</td>\n",
       "      <td>52.146</td>\n",
       "    </tr>\n",
       "    <tr>\n",
       "      <th>617009</th>\n",
       "      <td>US AOC</td>\n",
       "      <td>BEAD FS</td>\n",
       "      <td>FABRIC SOFTENERS</td>\n",
       "      <td>BEAD FS</td>\n",
       "      <td>FS</td>\n",
       "      <td></td>\n",
       "      <td></td>\n",
       "      <td></td>\n",
       "      <td></td>\n",
       "      <td>% EQ Units w/Any Promo</td>\n",
       "      <td>...</td>\n",
       "      <td>NaN</td>\n",
       "      <td>NaN</td>\n",
       "      <td>NaN</td>\n",
       "      <td>NaN</td>\n",
       "      <td>22.093</td>\n",
       "      <td>35.399</td>\n",
       "      <td>34.033</td>\n",
       "      <td>36.493</td>\n",
       "      <td>39.684</td>\n",
       "      <td>53.807</td>\n",
       "    </tr>\n",
       "  </tbody>\n",
       "</table>\n",
       "<p>3 rows × 27 columns</p>\n",
       "</div>"
      ],
      "text/plain": [
       "           MKT     PROD       CP_CATEGORY CP_SHARE_BASIS Category  \\\n",
       "617007  US AOC  BEAD FS  FABRIC SOFTENERS        BEAD FS       FS   \n",
       "617008  US AOC  BEAD FS  FABRIC SOFTENERS        BEAD FS       FS   \n",
       "617009  US AOC  BEAD FS  FABRIC SOFTENERS        BEAD FS       FS   \n",
       "\n",
       "       CP_MANUFACTURER CP_FRANCHISE CP_BRAND CP_SUBBRAND_VARIANT  \\\n",
       "617007                                                             \n",
       "617008                                                             \n",
       "617009                                                             \n",
       "\n",
       "                                  FCT  ...  4 W/E 05/02/20  4 W/E 05/30/20  \\\n",
       "617007          % Dollars w/Any Promo  ...             NaN             NaN   \n",
       "617008  % Dollars w/Any Promo YAG Chg  ...             NaN             NaN   \n",
       "617009         % EQ Units w/Any Promo  ...             NaN             NaN   \n",
       "\n",
       "        5 W/E 07/04/20  4 W/E 08/01/20  4 W/E 08/29/20  5 W/E 10/03/20  \\\n",
       "617007             NaN             NaN          21.252          32.298   \n",
       "617008             NaN             NaN          21.252          32.298   \n",
       "617009             NaN             NaN          22.093          35.399   \n",
       "\n",
       "        4 W/E 10/31/20  4 W/E 11/28/20  5 W/E 01/02/21  4 W/E 01/30/21  \n",
       "617007          31.840          33.808          37.075          52.146  \n",
       "617008          31.840          33.808          37.075          52.146  \n",
       "617009          34.033          36.493          39.684          53.807  \n",
       "\n",
       "[3 rows x 27 columns]"
      ]
     },
     "execution_count": 569,
     "metadata": {},
     "output_type": "execute_result"
    }
   ],
   "source": [
    "FS_Promo = movecol(FS_Promo, \n",
    "             cols_to_move=['CP_CATEGORY'], \n",
    "             ref_col='PROD',\n",
    "             place='After')\n",
    "FS_Promo.head(3)"
   ]
  },
  {
   "cell_type": "code",
   "execution_count": 570,
   "metadata": {},
   "outputs": [],
   "source": [
    "# FS_Promo = FS_Promo[['MKT', 'PROD', 'CP_CATEGORY', 'CP_SHARE_BASIS', 'Category',\n",
    "#        'CP_MANUFACTURER', 'CP_FRANCHISE', 'CP_BRAND',\n",
    "#        'FCT', '4 W/E 01/23/21', 'Latest 13 Weeks', 'Latest 26 Weeks',\n",
    "#        'YTD 2021', 'FY 2020', '4 W/E 01/25/20', '4 W/E 02/22/20',\n",
    "#        '5 W/E 03/28/20', '4 W/E 04/25/20', '4 W/E 05/23/20', '5 W/E 06/27/20',\n",
    "#        '4 W/E 07/25/20', '4 W/E 08/22/20', '5 W/E 09/26/20', '4 W/E 10/24/20',\n",
    "#        '4 W/E 11/21/20', '5 W/E 12/26/20', 'CP_SUBBRAND_VARIANT']]"
   ]
  },
  {
   "cell_type": "code",
   "execution_count": 571,
   "metadata": {},
   "outputs": [],
   "source": [
    "#FS_Promo[\"CP_SHARE_BASIS\"].replace({\"FABRIC SOFTENERS\" : \"TOTAL FS\"}, inplace = True)"
   ]
  },
  {
   "cell_type": "code",
   "execution_count": 572,
   "metadata": {},
   "outputs": [
    {
     "data": {
      "text/plain": [
       "{'BEAD FS', 'LIQUID FS', 'SCENT BOOSTERS', 'SHEETS', 'TOTAL FS'}"
      ]
     },
     "execution_count": 572,
     "metadata": {},
     "output_type": "execute_result"
    }
   ],
   "source": [
    "set(FS_Promo[\"CP_SHARE_BASIS\"])\n",
    "#FS_Promo.head(3)"
   ]
  },
  {
   "cell_type": "code",
   "execution_count": 573,
   "metadata": {},
   "outputs": [
    {
     "data": {
      "text/plain": [
       "Index(['MKT', 'PROD', 'CP_CATEGORY', 'CP_SHARE_BASIS', 'Category',\n",
       "       'CP_MANUFACTURER', 'CP_FRANCHISE', 'CP_BRAND', 'CP_SUBBRAND_VARIANT',\n",
       "       'FCT', '4 W/E 02/27/21', 'Latest 13 Weeks', 'Latest 26 Weeks',\n",
       "       'YTD 2021', 'FY 2020', '4 W/E 02/29/20', '5 W/E 04/04/20',\n",
       "       '4 W/E 05/02/20', '4 W/E 05/30/20', '5 W/E 07/04/20', '4 W/E 08/01/20',\n",
       "       '4 W/E 08/29/20', '5 W/E 10/03/20', '4 W/E 10/31/20', '4 W/E 11/28/20',\n",
       "       '5 W/E 01/02/21', '4 W/E 01/30/21'],\n",
       "      dtype='object')"
      ]
     },
     "execution_count": 573,
     "metadata": {},
     "output_type": "execute_result"
    }
   ],
   "source": [
    "FS_Promo.columns"
   ]
  },
  {
   "cell_type": "code",
   "execution_count": 574,
   "metadata": {},
   "outputs": [
    {
     "name": "stdout",
     "output_type": "stream",
     "text": [
      "15\n",
      "FY 2020\n"
     ]
    }
   ],
   "source": [
    "count = 1\n",
    "str = 'FY'\n",
    "lst = list(FS_Promo.columns)\n",
    "for i in lst:\n",
    "    if(str in i):\n",
    "        break\n",
    "    count +=1\n",
    "print(count)\n",
    "print(i)\n",
    "Ref = i"
   ]
  },
  {
   "cell_type": "code",
   "execution_count": 575,
   "metadata": {},
   "outputs": [
    {
     "data": {
      "text/html": [
       "<div>\n",
       "<style scoped>\n",
       "    .dataframe tbody tr th:only-of-type {\n",
       "        vertical-align: middle;\n",
       "    }\n",
       "\n",
       "    .dataframe tbody tr th {\n",
       "        vertical-align: top;\n",
       "    }\n",
       "\n",
       "    .dataframe thead th {\n",
       "        text-align: right;\n",
       "    }\n",
       "</style>\n",
       "<table border=\"1\" class=\"dataframe\">\n",
       "  <thead>\n",
       "    <tr style=\"text-align: right;\">\n",
       "      <th></th>\n",
       "      <th>MKT</th>\n",
       "      <th>PROD</th>\n",
       "      <th>CP_CATEGORY</th>\n",
       "      <th>Category</th>\n",
       "      <th>CP_MANUFACTURER</th>\n",
       "      <th>CP_FRANCHISE</th>\n",
       "      <th>CP_BRAND</th>\n",
       "      <th>CP_SUBBRAND_VARIANT</th>\n",
       "      <th>FCT</th>\n",
       "      <th>4 W/E 02/27/21</th>\n",
       "      <th>...</th>\n",
       "      <th>4 W/E 05/02/20</th>\n",
       "      <th>4 W/E 05/30/20</th>\n",
       "      <th>5 W/E 07/04/20</th>\n",
       "      <th>4 W/E 08/01/20</th>\n",
       "      <th>4 W/E 08/29/20</th>\n",
       "      <th>5 W/E 10/03/20</th>\n",
       "      <th>4 W/E 10/31/20</th>\n",
       "      <th>4 W/E 11/28/20</th>\n",
       "      <th>5 W/E 01/02/21</th>\n",
       "      <th>4 W/E 01/30/21</th>\n",
       "    </tr>\n",
       "  </thead>\n",
       "  <tbody>\n",
       "    <tr>\n",
       "      <th>617007</th>\n",
       "      <td>US AOC</td>\n",
       "      <td>BEAD FS</td>\n",
       "      <td>FABRIC SOFTENERS</td>\n",
       "      <td>FS</td>\n",
       "      <td></td>\n",
       "      <td></td>\n",
       "      <td></td>\n",
       "      <td></td>\n",
       "      <td>% Dollars w/Any Promo</td>\n",
       "      <td>55.645</td>\n",
       "      <td>...</td>\n",
       "      <td>NaN</td>\n",
       "      <td>NaN</td>\n",
       "      <td>NaN</td>\n",
       "      <td>NaN</td>\n",
       "      <td>21.252</td>\n",
       "      <td>32.298</td>\n",
       "      <td>31.840</td>\n",
       "      <td>33.808</td>\n",
       "      <td>37.075</td>\n",
       "      <td>52.146</td>\n",
       "    </tr>\n",
       "    <tr>\n",
       "      <th>617008</th>\n",
       "      <td>US AOC</td>\n",
       "      <td>BEAD FS</td>\n",
       "      <td>FABRIC SOFTENERS</td>\n",
       "      <td>FS</td>\n",
       "      <td></td>\n",
       "      <td></td>\n",
       "      <td></td>\n",
       "      <td></td>\n",
       "      <td>% Dollars w/Any Promo YAG Chg</td>\n",
       "      <td>55.645</td>\n",
       "      <td>...</td>\n",
       "      <td>NaN</td>\n",
       "      <td>NaN</td>\n",
       "      <td>NaN</td>\n",
       "      <td>NaN</td>\n",
       "      <td>21.252</td>\n",
       "      <td>32.298</td>\n",
       "      <td>31.840</td>\n",
       "      <td>33.808</td>\n",
       "      <td>37.075</td>\n",
       "      <td>52.146</td>\n",
       "    </tr>\n",
       "    <tr>\n",
       "      <th>617009</th>\n",
       "      <td>US AOC</td>\n",
       "      <td>BEAD FS</td>\n",
       "      <td>FABRIC SOFTENERS</td>\n",
       "      <td>FS</td>\n",
       "      <td></td>\n",
       "      <td></td>\n",
       "      <td></td>\n",
       "      <td></td>\n",
       "      <td>% EQ Units w/Any Promo</td>\n",
       "      <td>58.099</td>\n",
       "      <td>...</td>\n",
       "      <td>NaN</td>\n",
       "      <td>NaN</td>\n",
       "      <td>NaN</td>\n",
       "      <td>NaN</td>\n",
       "      <td>22.093</td>\n",
       "      <td>35.399</td>\n",
       "      <td>34.033</td>\n",
       "      <td>36.493</td>\n",
       "      <td>39.684</td>\n",
       "      <td>53.807</td>\n",
       "    </tr>\n",
       "  </tbody>\n",
       "</table>\n",
       "<p>3 rows × 27 columns</p>\n",
       "</div>"
      ],
      "text/plain": [
       "           MKT     PROD       CP_CATEGORY Category CP_MANUFACTURER  \\\n",
       "617007  US AOC  BEAD FS  FABRIC SOFTENERS       FS                   \n",
       "617008  US AOC  BEAD FS  FABRIC SOFTENERS       FS                   \n",
       "617009  US AOC  BEAD FS  FABRIC SOFTENERS       FS                   \n",
       "\n",
       "       CP_FRANCHISE CP_BRAND CP_SUBBRAND_VARIANT  \\\n",
       "617007                                             \n",
       "617008                                             \n",
       "617009                                             \n",
       "\n",
       "                                  FCT  4 W/E 02/27/21  ...  4 W/E 05/02/20  \\\n",
       "617007          % Dollars w/Any Promo          55.645  ...             NaN   \n",
       "617008  % Dollars w/Any Promo YAG Chg          55.645  ...             NaN   \n",
       "617009         % EQ Units w/Any Promo          58.099  ...             NaN   \n",
       "\n",
       "        4 W/E 05/30/20  5 W/E 07/04/20  4 W/E 08/01/20 4 W/E 08/29/20  \\\n",
       "617007             NaN             NaN             NaN         21.252   \n",
       "617008             NaN             NaN             NaN         21.252   \n",
       "617009             NaN             NaN             NaN         22.093   \n",
       "\n",
       "        5 W/E 10/03/20  4 W/E 10/31/20  4 W/E 11/28/20  5 W/E 01/02/21  \\\n",
       "617007          32.298          31.840          33.808          37.075   \n",
       "617008          32.298          31.840          33.808          37.075   \n",
       "617009          35.399          34.033          36.493          39.684   \n",
       "\n",
       "        4 W/E 01/30/21  \n",
       "617007          52.146  \n",
       "617008          52.146  \n",
       "617009          53.807  \n",
       "\n",
       "[3 rows x 27 columns]"
      ]
     },
     "execution_count": 575,
     "metadata": {},
     "output_type": "execute_result"
    }
   ],
   "source": [
    "FS_Promo = movecol(FS_Promo, \n",
    "             cols_to_move=['CP_SHARE_BASIS'], \n",
    "             ref_col=Ref,\n",
    "             place='After')\n",
    "FS_Promo.head(3)"
   ]
  },
  {
   "cell_type": "code",
   "execution_count": 576,
   "metadata": {},
   "outputs": [
    {
     "data": {
      "text/plain": [
       "Index(['MKT', 'PROD', 'CP_CATEGORY', 'Category', 'CP_MANUFACTURER',\n",
       "       'CP_FRANCHISE', 'CP_BRAND', 'CP_SUBBRAND_VARIANT', 'FCT',\n",
       "       '4 W/E 02/27/21', 'Latest 13 Weeks', 'Latest 26 Weeks', 'YTD 2021',\n",
       "       'FY 2020', 'CP_SHARE_BASIS', '4 W/E 02/29/20', '5 W/E 04/04/20',\n",
       "       '4 W/E 05/02/20', '4 W/E 05/30/20', '5 W/E 07/04/20', '4 W/E 08/01/20',\n",
       "       '4 W/E 08/29/20', '5 W/E 10/03/20', '4 W/E 10/31/20', '4 W/E 11/28/20',\n",
       "       '5 W/E 01/02/21', '4 W/E 01/30/21'],\n",
       "      dtype='object')"
      ]
     },
     "execution_count": 576,
     "metadata": {},
     "output_type": "execute_result"
    }
   ],
   "source": [
    "FS_Promo.columns"
   ]
  },
  {
   "cell_type": "code",
   "execution_count": 577,
   "metadata": {},
   "outputs": [
    {
     "data": {
      "text/html": [
       "<div>\n",
       "<style scoped>\n",
       "    .dataframe tbody tr th:only-of-type {\n",
       "        vertical-align: middle;\n",
       "    }\n",
       "\n",
       "    .dataframe tbody tr th {\n",
       "        vertical-align: top;\n",
       "    }\n",
       "\n",
       "    .dataframe thead th {\n",
       "        text-align: right;\n",
       "    }\n",
       "</style>\n",
       "<table border=\"1\" class=\"dataframe\">\n",
       "  <thead>\n",
       "    <tr style=\"text-align: right;\">\n",
       "      <th></th>\n",
       "      <th>MKT</th>\n",
       "      <th>PROD</th>\n",
       "      <th>CP_CATEGORY</th>\n",
       "      <th>Category</th>\n",
       "      <th>CP_MANUFACTURER</th>\n",
       "      <th>CP_FRANCHISE</th>\n",
       "      <th>CP_BRAND</th>\n",
       "      <th>CP_SUBBRAND_VARIANT</th>\n",
       "      <th>FCT</th>\n",
       "      <th>4 W/E 02/27/21</th>\n",
       "      <th>...</th>\n",
       "      <th>4 W/E 05/02/20</th>\n",
       "      <th>4 W/E 05/30/20</th>\n",
       "      <th>5 W/E 07/04/20</th>\n",
       "      <th>4 W/E 08/01/20</th>\n",
       "      <th>4 W/E 08/29/20</th>\n",
       "      <th>5 W/E 10/03/20</th>\n",
       "      <th>4 W/E 10/31/20</th>\n",
       "      <th>4 W/E 11/28/20</th>\n",
       "      <th>5 W/E 01/02/21</th>\n",
       "      <th>4 W/E 01/30/21</th>\n",
       "    </tr>\n",
       "  </thead>\n",
       "  <tbody>\n",
       "    <tr>\n",
       "      <th>617007</th>\n",
       "      <td>US AOC</td>\n",
       "      <td>BEAD FS</td>\n",
       "      <td>FABRIC SOFTENERS</td>\n",
       "      <td>FS</td>\n",
       "      <td></td>\n",
       "      <td></td>\n",
       "      <td></td>\n",
       "      <td></td>\n",
       "      <td>% Dollars w/Any Promo</td>\n",
       "      <td>55.645</td>\n",
       "      <td>...</td>\n",
       "      <td>NaN</td>\n",
       "      <td>NaN</td>\n",
       "      <td>NaN</td>\n",
       "      <td>NaN</td>\n",
       "      <td>21.252</td>\n",
       "      <td>32.298</td>\n",
       "      <td>31.84</td>\n",
       "      <td>33.808</td>\n",
       "      <td>37.075</td>\n",
       "      <td>52.146</td>\n",
       "    </tr>\n",
       "    <tr>\n",
       "      <th>617008</th>\n",
       "      <td>US AOC</td>\n",
       "      <td>BEAD FS</td>\n",
       "      <td>FABRIC SOFTENERS</td>\n",
       "      <td>FS</td>\n",
       "      <td></td>\n",
       "      <td></td>\n",
       "      <td></td>\n",
       "      <td></td>\n",
       "      <td>% Dollars w/Any Promo YAG Chg</td>\n",
       "      <td>55.645</td>\n",
       "      <td>...</td>\n",
       "      <td>NaN</td>\n",
       "      <td>NaN</td>\n",
       "      <td>NaN</td>\n",
       "      <td>NaN</td>\n",
       "      <td>21.252</td>\n",
       "      <td>32.298</td>\n",
       "      <td>31.84</td>\n",
       "      <td>33.808</td>\n",
       "      <td>37.075</td>\n",
       "      <td>52.146</td>\n",
       "    </tr>\n",
       "  </tbody>\n",
       "</table>\n",
       "<p>2 rows × 27 columns</p>\n",
       "</div>"
      ],
      "text/plain": [
       "           MKT     PROD       CP_CATEGORY Category CP_MANUFACTURER  \\\n",
       "617007  US AOC  BEAD FS  FABRIC SOFTENERS       FS                   \n",
       "617008  US AOC  BEAD FS  FABRIC SOFTENERS       FS                   \n",
       "\n",
       "       CP_FRANCHISE CP_BRAND CP_SUBBRAND_VARIANT  \\\n",
       "617007                                             \n",
       "617008                                             \n",
       "\n",
       "                                  FCT  4 W/E 02/27/21  ...  4 W/E 05/02/20  \\\n",
       "617007          % Dollars w/Any Promo          55.645  ...             NaN   \n",
       "617008  % Dollars w/Any Promo YAG Chg          55.645  ...             NaN   \n",
       "\n",
       "        4 W/E 05/30/20  5 W/E 07/04/20  4 W/E 08/01/20 4 W/E 08/29/20  \\\n",
       "617007             NaN             NaN             NaN         21.252   \n",
       "617008             NaN             NaN             NaN         21.252   \n",
       "\n",
       "        5 W/E 10/03/20  4 W/E 10/31/20  4 W/E 11/28/20  5 W/E 01/02/21  \\\n",
       "617007          32.298           31.84          33.808          37.075   \n",
       "617008          32.298           31.84          33.808          37.075   \n",
       "\n",
       "        4 W/E 01/30/21  \n",
       "617007          52.146  \n",
       "617008          52.146  \n",
       "\n",
       "[2 rows x 27 columns]"
      ]
     },
     "execution_count": 577,
     "metadata": {},
     "output_type": "execute_result"
    }
   ],
   "source": [
    "FS_Promo.head(2)"
   ]
  },
  {
   "cell_type": "code",
   "execution_count": 578,
   "metadata": {
    "scrolled": true
   },
   "outputs": [],
   "source": [
    "# del FS_Promo[\"ShareBasis\"]\n",
    "del FS_Promo[\"Category\"]"
   ]
  },
  {
   "cell_type": "code",
   "execution_count": 579,
   "metadata": {},
   "outputs": [],
   "source": [
    "Fact_order = CategoricalDtype(\n",
    "    sorted(list(set(FS_Promo[\"FCT\"]))), \n",
    "    ordered=True\n",
    ")\n",
    "\n",
    "FS_Promo['FCT'] = FS_Promo['FCT'].astype(Fact_order)\n",
    "\n",
    "FS_Promo.sort_values(['MKT','PROD','FCT'],inplace=True)"
   ]
  },
  {
   "cell_type": "code",
   "execution_count": 580,
   "metadata": {},
   "outputs": [],
   "source": [
    "#FS_Promo = FS_Promo[\"PROD\"].str.replace(\"FABRIC SOFTENERS\" , \"TOTAL FS\")"
   ]
  },
  {
   "cell_type": "code",
   "execution_count": 581,
   "metadata": {},
   "outputs": [],
   "source": [
    "del FS_Promo[\"CP_SUBBRAND_VARIANT\"]"
   ]
  },
  {
   "cell_type": "markdown",
   "metadata": {},
   "source": [
    "## **promo_category**"
   ]
  },
  {
   "cell_type": "code",
   "execution_count": 582,
   "metadata": {},
   "outputs": [],
   "source": [
    "promo_category=FS_Promo.loc[(FS_Promo[\"CP_BRAND\"]==\"\")&(FS_Promo[\"CP_FRANCHISE\"]==\"\")&(FS_Promo[\"CP_MANUFACTURER\"]==\"\")]"
   ]
  },
  {
   "cell_type": "code",
   "execution_count": 583,
   "metadata": {},
   "outputs": [],
   "source": [
    "promo_category.drop_duplicates(inplace = True)"
   ]
  },
  {
   "cell_type": "code",
   "execution_count": 584,
   "metadata": {},
   "outputs": [],
   "source": [
    "length= len(promo_category)\n",
    "promo_category[\"Record_ID\"]=range(1,length+1)"
   ]
  },
  {
   "cell_type": "code",
   "execution_count": 585,
   "metadata": {},
   "outputs": [
    {
     "data": {
      "text/html": [
       "<div>\n",
       "<style scoped>\n",
       "    .dataframe tbody tr th:only-of-type {\n",
       "        vertical-align: middle;\n",
       "    }\n",
       "\n",
       "    .dataframe tbody tr th {\n",
       "        vertical-align: top;\n",
       "    }\n",
       "\n",
       "    .dataframe thead th {\n",
       "        text-align: right;\n",
       "    }\n",
       "</style>\n",
       "<table border=\"1\" class=\"dataframe\">\n",
       "  <thead>\n",
       "    <tr style=\"text-align: right;\">\n",
       "      <th></th>\n",
       "      <th>MKT</th>\n",
       "      <th>PROD</th>\n",
       "      <th>CP_CATEGORY</th>\n",
       "      <th>CP_MANUFACTURER</th>\n",
       "      <th>CP_FRANCHISE</th>\n",
       "      <th>CP_BRAND</th>\n",
       "      <th>FCT</th>\n",
       "      <th>4 W/E 02/27/21</th>\n",
       "      <th>Latest 13 Weeks</th>\n",
       "      <th>Latest 26 Weeks</th>\n",
       "      <th>...</th>\n",
       "      <th>4 W/E 05/30/20</th>\n",
       "      <th>5 W/E 07/04/20</th>\n",
       "      <th>4 W/E 08/01/20</th>\n",
       "      <th>4 W/E 08/29/20</th>\n",
       "      <th>5 W/E 10/03/20</th>\n",
       "      <th>4 W/E 10/31/20</th>\n",
       "      <th>4 W/E 11/28/20</th>\n",
       "      <th>5 W/E 01/02/21</th>\n",
       "      <th>4 W/E 01/30/21</th>\n",
       "      <th>Record_ID</th>\n",
       "    </tr>\n",
       "  </thead>\n",
       "  <tbody>\n",
       "    <tr>\n",
       "      <th>1216924</th>\n",
       "      <td>BJs</td>\n",
       "      <td>LIQUID FS</td>\n",
       "      <td>FABRIC SOFTENERS</td>\n",
       "      <td></td>\n",
       "      <td></td>\n",
       "      <td></td>\n",
       "      <td>$ Share</td>\n",
       "      <td>100.0</td>\n",
       "      <td>100.0</td>\n",
       "      <td>100.0</td>\n",
       "      <td>...</td>\n",
       "      <td>100.0</td>\n",
       "      <td>100.0</td>\n",
       "      <td>100.0</td>\n",
       "      <td>100.0</td>\n",
       "      <td>100.0</td>\n",
       "      <td>100.0</td>\n",
       "      <td>100.0</td>\n",
       "      <td>100.0</td>\n",
       "      <td>100.0</td>\n",
       "      <td>1</td>\n",
       "    </tr>\n",
       "    <tr>\n",
       "      <th>1216925</th>\n",
       "      <td>BJs</td>\n",
       "      <td>LIQUID FS</td>\n",
       "      <td>FABRIC SOFTENERS</td>\n",
       "      <td></td>\n",
       "      <td></td>\n",
       "      <td></td>\n",
       "      <td>$ Share YAG Chg</td>\n",
       "      <td>0.0</td>\n",
       "      <td>0.0</td>\n",
       "      <td>0.0</td>\n",
       "      <td>...</td>\n",
       "      <td>0.0</td>\n",
       "      <td>0.0</td>\n",
       "      <td>0.0</td>\n",
       "      <td>0.0</td>\n",
       "      <td>0.0</td>\n",
       "      <td>0.0</td>\n",
       "      <td>0.0</td>\n",
       "      <td>0.0</td>\n",
       "      <td>0.0</td>\n",
       "      <td>2</td>\n",
       "    </tr>\n",
       "  </tbody>\n",
       "</table>\n",
       "<p>2 rows × 26 columns</p>\n",
       "</div>"
      ],
      "text/plain": [
       "         MKT       PROD       CP_CATEGORY CP_MANUFACTURER CP_FRANCHISE  \\\n",
       "1216924  BJs  LIQUID FS  FABRIC SOFTENERS                                \n",
       "1216925  BJs  LIQUID FS  FABRIC SOFTENERS                                \n",
       "\n",
       "        CP_BRAND              FCT  4 W/E 02/27/21  Latest 13 Weeks  \\\n",
       "1216924                   $ Share           100.0            100.0   \n",
       "1216925           $ Share YAG Chg             0.0              0.0   \n",
       "\n",
       "         Latest 26 Weeks  ...  4 W/E 05/30/20  5 W/E 07/04/20 4 W/E 08/01/20  \\\n",
       "1216924            100.0  ...           100.0           100.0          100.0   \n",
       "1216925              0.0  ...             0.0             0.0            0.0   \n",
       "\n",
       "         4 W/E 08/29/20  5 W/E 10/03/20  4 W/E 10/31/20  4 W/E 11/28/20  \\\n",
       "1216924           100.0           100.0           100.0           100.0   \n",
       "1216925             0.0             0.0             0.0             0.0   \n",
       "\n",
       "         5 W/E 01/02/21  4 W/E 01/30/21  Record_ID  \n",
       "1216924           100.0           100.0          1  \n",
       "1216925             0.0             0.0          2  \n",
       "\n",
       "[2 rows x 26 columns]"
      ]
     },
     "execution_count": 585,
     "metadata": {},
     "output_type": "execute_result"
    }
   ],
   "source": [
    "promo_category.head(2)"
   ]
  },
  {
   "cell_type": "code",
   "execution_count": 586,
   "metadata": {},
   "outputs": [],
   "source": [
    "promo_category.to_csv(path_FS+\"promo_category.csv\",index=False)"
   ]
  },
  {
   "cell_type": "markdown",
   "metadata": {},
   "source": [
    "## **promo_toplevel**"
   ]
  },
  {
   "cell_type": "code",
   "execution_count": 587,
   "metadata": {},
   "outputs": [],
   "source": [
    "promo_toplevel=FS_Promo.loc[ (FS_Promo[\"CP_BRAND\"]==\"\")&(FS_Promo[\"CP_FRANCHISE\"]==\"\")&(FS_Promo[\"CP_MANUFACTURER\"]!=\"\")]"
   ]
  },
  {
   "cell_type": "code",
   "execution_count": 588,
   "metadata": {},
   "outputs": [],
   "source": [
    "# Blank row 0th position\n",
    "df1=pd.DataFrame([[np.nan]*len(promo_toplevel.columns)],columns=promo_toplevel.columns)\n",
    "promo_toplevel=df1.append(promo_toplevel,ignore_index=True)"
   ]
  },
  {
   "cell_type": "code",
   "execution_count": 589,
   "metadata": {},
   "outputs": [],
   "source": [
    "promo_toplevel.drop_duplicates(inplace = True)"
   ]
  },
  {
   "cell_type": "code",
   "execution_count": 590,
   "metadata": {},
   "outputs": [],
   "source": [
    "length= len(promo_toplevel)\n",
    "promo_toplevel[\"Record_ID\"]=range(1,length+1)"
   ]
  },
  {
   "cell_type": "code",
   "execution_count": 591,
   "metadata": {},
   "outputs": [],
   "source": [
    "promo_toplevel.to_csv(path_FS+\"promo_toplevel.csv\",index=False)"
   ]
  },
  {
   "cell_type": "markdown",
   "metadata": {},
   "source": [
    "## **promo_franchise**"
   ]
  },
  {
   "cell_type": "code",
   "execution_count": 592,
   "metadata": {},
   "outputs": [],
   "source": [
    "promo_franchise=FS_Promo.loc[(FS_Promo[\"CP_BRAND\"]==\"\")&(FS_Promo[\"CP_FRANCHISE\"]!=\"\")]"
   ]
  },
  {
   "cell_type": "code",
   "execution_count": 593,
   "metadata": {},
   "outputs": [],
   "source": [
    "promo_franchise.drop_duplicates(inplace = True)"
   ]
  },
  {
   "cell_type": "code",
   "execution_count": 594,
   "metadata": {},
   "outputs": [],
   "source": [
    "length= len(promo_franchise)\n",
    "promo_franchise[\"Record_ID\"]=range(1,length+1)"
   ]
  },
  {
   "cell_type": "code",
   "execution_count": 595,
   "metadata": {},
   "outputs": [],
   "source": [
    "promo_franchise.to_csv(path_FS+\"promo_franchise.csv\",index=False)"
   ]
  },
  {
   "cell_type": "markdown",
   "metadata": {},
   "source": [
    "## **promo_brand_promo**"
   ]
  },
  {
   "cell_type": "code",
   "execution_count": 596,
   "metadata": {},
   "outputs": [],
   "source": [
    "promo_brand_promo=FS_Promo.loc[(FS_Promo[\"CP_BRAND\"]!=\"\")]"
   ]
  },
  {
   "cell_type": "code",
   "execution_count": 597,
   "metadata": {},
   "outputs": [],
   "source": [
    "promo_brand_promo.drop_duplicates(inplace = True)"
   ]
  },
  {
   "cell_type": "code",
   "execution_count": 598,
   "metadata": {},
   "outputs": [],
   "source": [
    "length= len(promo_brand_promo)\n",
    "promo_brand_promo[\"Record_ID\"]=range(1,length+1)"
   ]
  },
  {
   "cell_type": "code",
   "execution_count": 599,
   "metadata": {},
   "outputs": [],
   "source": [
    "promo_brand_promo.to_csv(path_FS+\"promo_brand_promo.csv\",index=False)"
   ]
  },
  {
   "cell_type": "code",
   "execution_count": null,
   "metadata": {},
   "outputs": [],
   "source": []
  },
  {
   "cell_type": "markdown",
   "metadata": {},
   "source": [
    "## Waterfall"
   ]
  },
  {
   "cell_type": "code",
   "execution_count": 600,
   "metadata": {},
   "outputs": [],
   "source": [
    "Waterfall_FS=Data_5p_FS.copy()"
   ]
  },
  {
   "cell_type": "code",
   "execution_count": 601,
   "metadata": {},
   "outputs": [
    {
     "data": {
      "text/plain": [
       "{'Ahold',\n",
       " 'Alb/Sfy',\n",
       " 'BJs',\n",
       " 'CLUB',\n",
       " 'CVS',\n",
       " 'Dollar General',\n",
       " 'El Super',\n",
       " 'FDM',\n",
       " 'Family Dollar',\n",
       " 'Kmart',\n",
       " 'Meijer',\n",
       " 'Publix',\n",
       " 'REGIONAL GROCERY xLA',\n",
       " 'Rite Aid',\n",
       " 'Sams',\n",
       " 'Shoprite',\n",
       " 'Strategic Grocery',\n",
       " 'TOTAL MASS',\n",
       " 'Target',\n",
       " 'US AOC',\n",
       " 'US Drug',\n",
       " 'US Food',\n",
       " 'VDC',\n",
       " 'Walgreens',\n",
       " 'Walmart'}"
      ]
     },
     "execution_count": 601,
     "metadata": {},
     "output_type": "execute_result"
    }
   ],
   "source": [
    "set(Waterfall_FS['Markets'])"
   ]
  },
  {
   "cell_type": "code",
   "execution_count": 602,
   "metadata": {},
   "outputs": [],
   "source": [
    "Waterfall_Markets=[\"TOTAL US XAOC\",\"TOTAL US DRUG\",\"TOTAL US FOOD\",\"TOTAL WALMART TOTAL US CTA\",\"TARGET TOTAL BM/FF CENSUS TA\",\n",
    "         \"WALGREENS CORP TOTAL CENSUS TA\",\"RITE AID - TOTAL CENSUS TA\",\n",
    "         \"PUBLIX TOTAL CENSUS TRADING AREA\",\"FAMILY DOLLAR TOTAL CENSUS TRADING AREA\",\"DOL GEN TOTAL CENSUS TA\",\n",
    "         \"CVS TOTAL CORP WO HI CENSUS TA\",\"El Super Total TA\",\"Kmart Total TA\",\n",
    "                   \"SAMS TOTAL CENSUS TRADING AREA\",\"BJS TOTAL CENSUS TA\" ]"
   ]
  },
  {
   "cell_type": "markdown",
   "metadata": {},
   "source": [
    "**Market Mapping**"
   ]
  },
  {
   "cell_type": "code",
   "execution_count": 603,
   "metadata": {},
   "outputs": [
    {
     "data": {
      "text/plain": [
       "{'Ahold',\n",
       " 'Alb/Sfy',\n",
       " 'BJs',\n",
       " 'CLUB',\n",
       " 'CVS',\n",
       " 'Dollar General',\n",
       " 'El Super',\n",
       " 'FDM',\n",
       " 'Family Dollar',\n",
       " 'Kmart',\n",
       " 'Meijer',\n",
       " 'Publix',\n",
       " 'REGIONAL GROCERY xLA',\n",
       " 'Rite Aid',\n",
       " 'Sams',\n",
       " 'Shoprite',\n",
       " 'Strategic Grocery',\n",
       " 'TOTAL MASS',\n",
       " 'Target',\n",
       " 'US AOC',\n",
       " 'US Drug',\n",
       " 'US Food',\n",
       " 'VDC',\n",
       " 'Walgreens',\n",
       " 'Walmart'}"
      ]
     },
     "execution_count": 603,
     "metadata": {},
     "output_type": "execute_result"
    }
   ],
   "source": [
    "set(Waterfall_FS[\"Markets\"])"
   ]
  },
  {
   "cell_type": "code",
   "execution_count": 604,
   "metadata": {},
   "outputs": [],
   "source": [
    "Waterfall_FS[\"Markets\"].replace(Waterfall_Market_Mapping,inplace=True)"
   ]
  },
  {
   "cell_type": "code",
   "execution_count": 605,
   "metadata": {},
   "outputs": [],
   "source": [
    "Waterfall_FS[\"Products\"] = Waterfall_FS[\"Products\"].str.replace(\"FABRIC SOFTENERS\" , \"TOTAL FS\")"
   ]
  },
  {
   "cell_type": "code",
   "execution_count": 606,
   "metadata": {},
   "outputs": [
    {
     "data": {
      "text/plain": [
       "{'BEAD FS',\n",
       " 'BEAD FS | P&G',\n",
       " 'BEAD FS | P&G | DOWNY US',\n",
       " 'BEAD FS | P&G | DOWNY US | DOWNY DEFY DAMAGE',\n",
       " 'LIQUID FS',\n",
       " 'LIQUID FS | ALEN',\n",
       " 'LIQUID FS | ALEN | ENSUENO',\n",
       " 'LIQUID FS | ALEN | ENSUENO | ENSUENO',\n",
       " 'LIQUID FS | COLGATE-PALMOLIVE',\n",
       " 'LIQUID FS | COLGATE-PALMOLIVE | SUAVITEL NON US',\n",
       " 'LIQUID FS | COLGATE-PALMOLIVE | SUAVITEL NON US | SUAVITEL NON US',\n",
       " 'LIQUID FS | COLGATE-PALMOLIVE | SUAVITEL US',\n",
       " 'LIQUID FS | COLGATE-PALMOLIVE | SUAVITEL US | SUAVITEL BASE',\n",
       " 'LIQUID FS | COLGATE-PALMOLIVE | SUAVITEL US | SUAVITEL COMPLETE',\n",
       " 'LIQUID FS | COLGATE-PALMOLIVE | SUAVITEL US | SUAVITEL FAST DRY',\n",
       " 'LIQUID FS | COLGATE-PALMOLIVE | SUAVITEL US | SUAVITEL NON CONCENTRATE',\n",
       " 'LIQUID FS | HENKEL',\n",
       " 'LIQUID FS | HENKEL | ALL',\n",
       " 'LIQUID FS | HENKEL | ALL | ALL',\n",
       " 'LIQUID FS | HENKEL | PUREX',\n",
       " 'LIQUID FS | HENKEL | PUREX | PUREX BASE',\n",
       " 'LIQUID FS | HENKEL | SNUGGLE',\n",
       " 'LIQUID FS | HENKEL | SNUGGLE | SNUGGLE BASE',\n",
       " 'LIQUID FS | HENKEL | SNUGGLE | SNUGGLE EXHILARATIONS',\n",
       " 'LIQUID FS | HENKEL | SNUGGLE | SNUGGLE NON-CONCENTRATE',\n",
       " 'LIQUID FS | HENKEL | SNUGGLE | SNUGGLE PLUS SUPER FRESH',\n",
       " 'LIQUID FS | HENKEL | SNUGGLE | SNUGGLE SUPER CARE',\n",
       " 'LIQUID FS | P&G',\n",
       " 'LIQUID FS | P&G | DOWNY NON-US',\n",
       " 'LIQUID FS | P&G | DOWNY NON-US | DOWNY NON US',\n",
       " 'LIQUID FS | P&G | DOWNY US',\n",
       " 'LIQUID FS | P&G | DOWNY US | DOWNY BASE',\n",
       " 'LIQUID FS | P&G | DOWNY US | DOWNY INFUSIONS',\n",
       " 'LIQUID FS | P&G | DOWNY US | DOWNY INTENSE',\n",
       " 'LIQUID FS | P&G | DOWNY US | DOWNY NATURE BLENDS',\n",
       " 'LIQUID FS | P&G | DOWNY US | DOWNY NON-CONCENTRATE',\n",
       " 'LIQUID FS | P&G | DOWNY US | DOWNY ODOR PROTECT',\n",
       " 'LIQUID FS | P&G | DOWNY US | DOWNY WRINKLE GUARD',\n",
       " 'LIQUID FS | P&G | DOWNY US | ULTRA DOWNY',\n",
       " 'LIQUID FS | P&G | GAIN',\n",
       " 'LIQUID FS | P&G | GAIN | GAIN BASE',\n",
       " 'LIQUID FS | P&G | GAIN | GAIN BOTANICALS',\n",
       " 'LIQUID FS | P&G | GAIN | GAIN NON-CONCENTRATE',\n",
       " 'LIQUID FS | P&G | GAIN | GAIN SCENT BLAST',\n",
       " 'LIQUID FS | P&G | HOME MADE SIMPLE',\n",
       " 'LIQUID FS | P&G | HOME MADE SIMPLE | HOME MADE SIMPLE',\n",
       " 'LIQUID FS | P&G | NBD',\n",
       " 'LIQUID FS | P&G | NBD | NBD',\n",
       " 'LIQUID FS | PRVT LBL',\n",
       " 'LIQUID FS | SC JOHNSON',\n",
       " 'LIQUID FS | SC JOHNSON | METHOD',\n",
       " 'LIQUID FS | SC JOHNSON | METHOD | METHOD',\n",
       " 'LIQUID FS | SC JOHNSON | MRS MEYERS',\n",
       " 'LIQUID FS | SC JOHNSON | MRS MEYERS | MRS MEYERS',\n",
       " 'LIQUID FS | SC JOHNSON | REM FRANCHISE',\n",
       " 'LIQUID FS | SC JOHNSON | REM FRANCHISE | REM BRAND',\n",
       " 'LIQUID FS | SNUGGLE',\n",
       " 'LIQUID FS | UNILEVER',\n",
       " 'LIQUID FS | UNILEVER | SEVENTH GEN',\n",
       " 'SCENT BOOSTERS',\n",
       " 'SCENT BOOSTERS | CHURCH & DWIGHT',\n",
       " 'SCENT BOOSTERS | CHURCH & DWIGHT | A&H',\n",
       " 'SCENT BOOSTERS | CHURCH & DWIGHT | A&H | A&H CLEAN & SIMPLE',\n",
       " 'SCENT BOOSTERS | CHURCH & DWIGHT | A&H | A&H CLEAN SCENTSATIONS',\n",
       " 'SCENT BOOSTERS | CHURCH & DWIGHT | XTRA',\n",
       " 'SCENT BOOSTERS | CHURCH & DWIGHT | XTRA | XTRA SCENT SATIONS',\n",
       " 'SCENT BOOSTERS | HENKEL',\n",
       " 'SCENT BOOSTERS | HENKEL | PUREX',\n",
       " 'SCENT BOOSTERS | HENKEL | PUREX | PUREX CRYSTALS',\n",
       " 'SCENT BOOSTERS | HENKEL | SNUGGLE',\n",
       " 'SCENT BOOSTERS | HENKEL | SNUGGLE | SNUGGLE EXHILARATIONS',\n",
       " 'SCENT BOOSTERS | HENKEL | SNUGGLE | SNUGGLE PLUS SUPER FRESH',\n",
       " 'SCENT BOOSTERS | HENKEL | SNUGGLE | SNUGGLE SCENT BOOSTERS',\n",
       " 'SCENT BOOSTERS | HENKEL | SNUGGLE | SNUGGLE SCENT SHAKES',\n",
       " 'SCENT BOOSTERS | HENKEL | SNUGGLE | SNUGGLE SUPER CARE',\n",
       " 'SCENT BOOSTERS | P&G',\n",
       " 'SCENT BOOSTERS | P&G | DOWNY US',\n",
       " 'SCENT BOOSTERS | P&G | DOWNY US | DOWNY BASE',\n",
       " 'SCENT BOOSTERS | P&G | DOWNY US | DOWNY FRESH PROTECT',\n",
       " 'SCENT BOOSTERS | P&G | DOWNY US | DOWNY INFUSIONS',\n",
       " 'SCENT BOOSTERS | P&G | DOWNY US | DOWNY ODOR PROTECT',\n",
       " 'SCENT BOOSTERS | P&G | DOWNY US | DOWNY UNSTOPABLES',\n",
       " 'SCENT BOOSTERS | P&G | DREFT',\n",
       " 'SCENT BOOSTERS | P&G | DREFT | DREFT BLISSFULS',\n",
       " 'SCENT BOOSTERS | P&G | GAIN',\n",
       " 'SCENT BOOSTERS | P&G | GAIN | GAIN FIREWORKS',\n",
       " 'SCENT BOOSTERS | P&G | GAIN | GAIN SCENT BLAST',\n",
       " 'SCENT BOOSTERS | PRVT LBL',\n",
       " 'SCENT BOOSTERS | PRVT LBL | PRVT LBL',\n",
       " 'SCENT BOOSTERS | PRVT LBL | PRVT LBL | PRVT LBL',\n",
       " 'SCENT BOOSTERS | PRVT LBL | REM FRANCHISE',\n",
       " 'SCENT BOOSTERS | PRVT LBL | REM FRANCHISE | REM BRAND',\n",
       " 'SCENT BOOSTERS | SC JOHNSON',\n",
       " 'SCENT BOOSTERS | SC JOHNSON | METHOD',\n",
       " 'SCENT BOOSTERS | SC JOHNSON | METHOD | METHOD',\n",
       " 'SCENT BOOSTERS | SC JOHNSON | MRS MEYERS',\n",
       " 'SCENT BOOSTERS | SC JOHNSON | MRS MEYERS | MRS MEYERS',\n",
       " 'SHEETS',\n",
       " 'SHEETS | COLGATE-PALMOLIVE',\n",
       " 'SHEETS | COLGATE-PALMOLIVE | SUAVITEL US',\n",
       " 'SHEETS | COLGATE-PALMOLIVE | SUAVITEL US | SUAVITEL BASE',\n",
       " 'SHEETS | COLGATE-PALMOLIVE | SUAVITEL US | SUAVITEL COMPLETE',\n",
       " 'SHEETS | HENKEL',\n",
       " 'SHEETS | HENKEL | ALL',\n",
       " 'SHEETS | HENKEL | ALL | ALL',\n",
       " 'SHEETS | HENKEL | PUREX',\n",
       " 'SHEETS | HENKEL | PUREX | PUREX BASE',\n",
       " 'SHEETS | HENKEL | SNUGGLE',\n",
       " 'SHEETS | HENKEL | SNUGGLE | SNUGGLE BASE',\n",
       " 'SHEETS | HENKEL | SNUGGLE | SNUGGLE EXHILARATIONS',\n",
       " 'SHEETS | HENKEL | SNUGGLE | SNUGGLE PLUS SUPER FRESH',\n",
       " 'SHEETS | HENKEL | SNUGGLE | SNUGGLE SUPER CARE',\n",
       " 'SHEETS | HENKEL | SUN CUDDLE SOFT',\n",
       " 'SHEETS | HENKEL | SUN CUDDLE SOFT | SUN CUDDLE SOFT',\n",
       " 'SHEETS | P&G',\n",
       " 'SHEETS | P&G | BOUNCE',\n",
       " 'SHEETS | P&G | BOUNCE | BOUNCE BASE',\n",
       " 'SHEETS | P&G | BOUNCE | BOUNCE PET HAIR & LINT GUARD',\n",
       " 'SHEETS | P&G | BOUNCE | BOUNCE W/FEBREZE',\n",
       " 'SHEETS | P&G | BOUNCE | BOUNCE WRINKLE GUARD',\n",
       " 'SHEETS | P&G | DOWNY NON-US',\n",
       " 'SHEETS | P&G | DOWNY NON-US | DOWNY NON US',\n",
       " 'SHEETS | P&G | DOWNY US',\n",
       " 'SHEETS | P&G | DOWNY US | DOWNY BASE',\n",
       " 'SHEETS | P&G | DOWNY US | DOWNY INFUSIONS',\n",
       " 'SHEETS | P&G | DOWNY US | DOWNY WRINKLE GUARD',\n",
       " 'SHEETS | P&G | GAIN',\n",
       " 'SHEETS | P&G | GAIN | GAIN BASE',\n",
       " 'SHEETS | P&G | REM FRANCHISE',\n",
       " 'SHEETS | P&G | REM FRANCHISE | REM BRAND',\n",
       " 'SHEETS | SC JOHNSON',\n",
       " 'SHEETS | SC JOHNSON | METHOD',\n",
       " 'SHEETS | SC JOHNSON | METHOD | METHOD',\n",
       " 'SHEETS | SC JOHNSON | MRS MEYERS',\n",
       " 'SHEETS | SC JOHNSON | MRS MEYERS | MRS MEYERS',\n",
       " 'TOTAL FS',\n",
       " 'TOTAL FS | ALEN',\n",
       " 'TOTAL FS | ALEN | ENSUENO',\n",
       " 'TOTAL FS | ALEN | ENSUENO | ENSUENO',\n",
       " 'TOTAL FS | COLGATE-PALMOLIVE',\n",
       " 'TOTAL FS | COLGATE-PALMOLIVE | SUAVITEL NON US',\n",
       " 'TOTAL FS | COLGATE-PALMOLIVE | SUAVITEL NON US | SUAVITEL NON US',\n",
       " 'TOTAL FS | COLGATE-PALMOLIVE | SUAVITEL US',\n",
       " 'TOTAL FS | COLGATE-PALMOLIVE | SUAVITEL US | SUAVITEL BASE',\n",
       " 'TOTAL FS | COLGATE-PALMOLIVE | SUAVITEL US | SUAVITEL COMPLETE',\n",
       " 'TOTAL FS | COLGATE-PALMOLIVE | SUAVITEL US | SUAVITEL FAST DRY',\n",
       " 'TOTAL FS | COLGATE-PALMOLIVE | SUAVITEL US | SUAVITEL NON CONCENTRATE',\n",
       " 'TOTAL FS | HENKEL',\n",
       " 'TOTAL FS | HENKEL | ALL',\n",
       " 'TOTAL FS | HENKEL | ALL | ALL',\n",
       " 'TOTAL FS | HENKEL | PUREX',\n",
       " 'TOTAL FS | HENKEL | PUREX | PUREX BASE',\n",
       " 'TOTAL FS | HENKEL | PUREX | PUREX CRYSTALS',\n",
       " 'TOTAL FS | HENKEL | SNUGGLE',\n",
       " 'TOTAL FS | HENKEL | SNUGGLE | SNUGGLE BASE',\n",
       " 'TOTAL FS | HENKEL | SNUGGLE | SNUGGLE EXHILARATIONS',\n",
       " 'TOTAL FS | HENKEL | SNUGGLE | SNUGGLE NON-CONCENTRATE',\n",
       " 'TOTAL FS | HENKEL | SNUGGLE | SNUGGLE PLUS SUPER FRESH',\n",
       " 'TOTAL FS | HENKEL | SNUGGLE | SNUGGLE SCENT BOOSTERS',\n",
       " 'TOTAL FS | HENKEL | SNUGGLE | SNUGGLE SCENT SHAKES',\n",
       " 'TOTAL FS | HENKEL | SNUGGLE | SNUGGLE SUPER CARE',\n",
       " 'TOTAL FS | HENKEL | SUN CUDDLE SOFT',\n",
       " 'TOTAL FS | HENKEL | SUN CUDDLE SOFT | SUN CUDDLE SOFT',\n",
       " 'TOTAL FS | P&G',\n",
       " 'TOTAL FS | P&G | BOUNCE',\n",
       " 'TOTAL FS | P&G | BOUNCE | BOUNCE BASE',\n",
       " 'TOTAL FS | P&G | BOUNCE | BOUNCE PET HAIR & LINT GUARD',\n",
       " 'TOTAL FS | P&G | BOUNCE | BOUNCE W/FEBREZE',\n",
       " 'TOTAL FS | P&G | BOUNCE | BOUNCE WRINKLE GUARD',\n",
       " 'TOTAL FS | P&G | DOWNY NON-US',\n",
       " 'TOTAL FS | P&G | DOWNY NON-US | DOWNY NON US',\n",
       " 'TOTAL FS | P&G | DOWNY US',\n",
       " 'TOTAL FS | P&G | DOWNY US | DOWNY BASE',\n",
       " 'TOTAL FS | P&G | DOWNY US | DOWNY DEFY DAMAGE',\n",
       " 'TOTAL FS | P&G | DOWNY US | DOWNY FRESH PROTECT',\n",
       " 'TOTAL FS | P&G | DOWNY US | DOWNY INFUSIONS',\n",
       " 'TOTAL FS | P&G | DOWNY US | DOWNY INTENSE',\n",
       " 'TOTAL FS | P&G | DOWNY US | DOWNY NATURE BLENDS',\n",
       " 'TOTAL FS | P&G | DOWNY US | DOWNY NON-CONCENTRATE',\n",
       " 'TOTAL FS | P&G | DOWNY US | DOWNY ODOR PROTECT',\n",
       " 'TOTAL FS | P&G | DOWNY US | DOWNY UNSTOPABLES',\n",
       " 'TOTAL FS | P&G | DOWNY US | DOWNY WRINKLE GUARD',\n",
       " 'TOTAL FS | P&G | DOWNY US | ULTRA DOWNY',\n",
       " 'TOTAL FS | P&G | DREFT',\n",
       " 'TOTAL FS | P&G | DREFT | DREFT BLISSFULS',\n",
       " 'TOTAL FS | P&G | GAIN',\n",
       " 'TOTAL FS | P&G | GAIN | GAIN BASE',\n",
       " 'TOTAL FS | P&G | GAIN | GAIN BOTANICALS',\n",
       " 'TOTAL FS | P&G | GAIN | GAIN FIREWORKS',\n",
       " 'TOTAL FS | P&G | GAIN | GAIN NON-CONCENTRATE',\n",
       " 'TOTAL FS | P&G | GAIN | GAIN SCENT BLAST',\n",
       " 'TOTAL FS | P&G | HOME MADE SIMPLE',\n",
       " 'TOTAL FS | P&G | HOME MADE SIMPLE | HOME MADE SIMPLE',\n",
       " 'TOTAL FS | P&G | NBD',\n",
       " 'TOTAL FS | P&G | NBD | NBD',\n",
       " 'TOTAL FS | PRVT LBL',\n",
       " 'TOTAL FS | SC JOHNSON',\n",
       " 'TOTAL FS | SC JOHNSON | METHOD',\n",
       " 'TOTAL FS | SC JOHNSON | METHOD | METHOD',\n",
       " 'TOTAL FS | SC JOHNSON | MRS MEYERS',\n",
       " 'TOTAL FS | SC JOHNSON | MRS MEYERS | MRS MEYERS'}"
      ]
     },
     "execution_count": 606,
     "metadata": {},
     "output_type": "execute_result"
    }
   ],
   "source": [
    "set(Waterfall_FS[\"Products\"])"
   ]
  },
  {
   "cell_type": "code",
   "execution_count": 607,
   "metadata": {},
   "outputs": [
    {
     "data": {
      "text/plain": [
       "Index(['Markets', 'ShareBasis', 'Category', 'Manufacturer', 'Franchise',\n",
       "       'Brand', 'SubBrand', 'Products', 'Facts', 'FY 2020', 'FY 2019',\n",
       "       'FY 2018', 'FY 2017', 'YTD 2021', 'YTD 2020', 'Latest 13 Weeks',\n",
       "       'Latest 26 Weeks', 'Q1 2021', 'Q4 2020', 'Q3 2020', 'Q2 2020',\n",
       "       'Q1 2020', 'Q4 2019', 'Q3 2019', 'Q2 2019', '4 W/E 02/27/21',\n",
       "       '4 W/E 01/30/21', '5 W/E 01/02/21', '4 W/E 11/28/20', '4 W/E 10/31/20',\n",
       "       '5 W/E 10/03/20', '4 W/E 08/29/20', '4 W/E 08/01/20', '5 W/E 07/04/20',\n",
       "       '4 W/E 05/30/20', '4 W/E 05/02/20', '5 W/E 04/04/20', '4 W/E 02/29/20',\n",
       "       '4 W/E 02/01/20', 'Key'],\n",
       "      dtype='object')"
      ]
     },
     "execution_count": 607,
     "metadata": {},
     "output_type": "execute_result"
    }
   ],
   "source": [
    "Waterfall_FS.columns"
   ]
  },
  {
   "cell_type": "code",
   "execution_count": 608,
   "metadata": {},
   "outputs": [
    {
     "name": "stdout",
     "output_type": "stream",
     "text": [
      "<class 'pandas.core.frame.DataFrame'>\n",
      "Int64Index: 1734266 entries, 0 to 2823236\n",
      "Data columns (total 40 columns):\n",
      " #   Column           Dtype  \n",
      "---  ------           -----  \n",
      " 0   Markets          object \n",
      " 1   ShareBasis       object \n",
      " 2   Category         object \n",
      " 3   Manufacturer     object \n",
      " 4   Franchise        object \n",
      " 5   Brand            object \n",
      " 6   SubBrand         object \n",
      " 7   Products         object \n",
      " 8   Facts            object \n",
      " 9   FY 2020          float64\n",
      " 10  FY 2019          float64\n",
      " 11  FY 2018          float64\n",
      " 12  FY 2017          float64\n",
      " 13  YTD 2021         float64\n",
      " 14  YTD 2020         float64\n",
      " 15  Latest 13 Weeks  float64\n",
      " 16  Latest 26 Weeks  float64\n",
      " 17  Q1 2021          float64\n",
      " 18  Q4 2020          float64\n",
      " 19  Q3 2020          float64\n",
      " 20  Q2 2020          float64\n",
      " 21  Q1 2020          float64\n",
      " 22  Q4 2019          float64\n",
      " 23  Q3 2019          float64\n",
      " 24  Q2 2019          float64\n",
      " 25  4 W/E 02/27/21   float64\n",
      " 26  4 W/E 01/30/21   float64\n",
      " 27  5 W/E 01/02/21   float64\n",
      " 28  4 W/E 11/28/20   float64\n",
      " 29  4 W/E 10/31/20   float64\n",
      " 30  5 W/E 10/03/20   float64\n",
      " 31  4 W/E 08/29/20   float64\n",
      " 32  4 W/E 08/01/20   float64\n",
      " 33  5 W/E 07/04/20   float64\n",
      " 34  4 W/E 05/30/20   float64\n",
      " 35  4 W/E 05/02/20   float64\n",
      " 36  5 W/E 04/04/20   float64\n",
      " 37  4 W/E 02/29/20   float64\n",
      " 38  4 W/E 02/01/20   float64\n",
      " 39  Key              object \n",
      "dtypes: float64(30), object(10)\n",
      "memory usage: 542.5+ MB\n"
     ]
    }
   ],
   "source": [
    "Data_5p.info()"
   ]
  },
  {
   "cell_type": "code",
   "execution_count": 609,
   "metadata": {},
   "outputs": [
    {
     "name": "stdout",
     "output_type": "stream",
     "text": [
      "['Markets', 'ShareBasis', 'Products', 'Manufacturer', 'Franchise', 'Brand', 'SubBrand', 'Facts', 'YTD 2021', 'YTD 2020', '4 W/E 02/27/21', '4 W/E 02/29/20']\n"
     ]
    }
   ],
   "source": [
    "Waterfall_Time_Period_FS=list(Data_5p.columns[0:2])+list(Data_5p.columns[7:8])+list(Data_5p.columns[3:7])+list(Data_5p.columns[8:9])+list(Data_5p.columns[13:15])+list(Data_5p.columns[25:26])+list(Data_5p.columns[37:38])\n",
    "print(Waterfall_Time_Period_FS)"
   ]
  },
  {
   "cell_type": "markdown",
   "metadata": {},
   "source": [
    "**Facts, Markets, Time_Period Filter**"
   ]
  },
  {
   "cell_type": "code",
   "execution_count": 610,
   "metadata": {},
   "outputs": [
    {
     "data": {
      "text/plain": [
       "{'AHOLD USA CORP TOTAL CTA',\n",
       " 'ALBSCO Total Company TA',\n",
       " 'BJS TOTAL CENSUS TA',\n",
       " 'CLUB',\n",
       " 'CVS TOTAL CORP WO HI CENSUS TA',\n",
       " 'DOL GEN TOTAL CENSUS TA',\n",
       " 'El Super Total TA',\n",
       " 'FAMILY DOLLAR TOTAL CENSUS TRADING AREA',\n",
       " 'FDM',\n",
       " 'Kmart Total TA',\n",
       " 'MEIJER TOTAL CENSUS TRADING AREA',\n",
       " 'PUBLIX TOTAL CENSUS TRADING AREA',\n",
       " 'REGIONAL GROCERY xLA',\n",
       " 'RITE AID - TOTAL CENSUS TA',\n",
       " 'SAMS TOTAL CENSUS TRADING AREA',\n",
       " 'SHOPRITE TOTAL CENSUS TRADING AREA',\n",
       " 'Strategic Grocery',\n",
       " 'TARGET TOTAL BM/FF CENSUS TA',\n",
       " 'TOTAL MASS',\n",
       " 'TOTAL US DRUG',\n",
       " 'TOTAL US FOOD',\n",
       " 'TOTAL US XAOC',\n",
       " 'TOTAL WALMART TOTAL US CTA',\n",
       " 'VDC',\n",
       " 'WALGREENS CORP TOTAL CENSUS TA'}"
      ]
     },
     "execution_count": 610,
     "metadata": {},
     "output_type": "execute_result"
    }
   ],
   "source": [
    "set(Waterfall_FS[\"Markets\"])"
   ]
  },
  {
   "cell_type": "code",
   "execution_count": 611,
   "metadata": {},
   "outputs": [],
   "source": [
    "Waterfall_FS= Waterfall_FS[Waterfall_FS[\"Facts\"].isin(Waterfall_Facts)]\n",
    "Waterfall_FS= Waterfall_FS[Waterfall_FS[\"Markets\"].isin(Waterfall_Markets)]\n",
    "Waterfall_FS=Waterfall_FS[Waterfall_Time_Period_FS]"
   ]
  },
  {
   "cell_type": "code",
   "execution_count": 612,
   "metadata": {
    "scrolled": true
   },
   "outputs": [
    {
     "name": "stdout",
     "output_type": "stream",
     "text": [
      "15 15\n"
     ]
    }
   ],
   "source": [
    "print(len(Waterfall_Markets), len(set(Waterfall_FS[\"Markets\"])))"
   ]
  },
  {
   "cell_type": "code",
   "execution_count": 613,
   "metadata": {},
   "outputs": [
    {
     "data": {
      "text/plain": [
       "set()"
      ]
     },
     "execution_count": 613,
     "metadata": {},
     "output_type": "execute_result"
    }
   ],
   "source": [
    "set(Waterfall_Markets)-set(Waterfall_FS[\"Markets\"])"
   ]
  },
  {
   "cell_type": "code",
   "execution_count": 614,
   "metadata": {
    "scrolled": true
   },
   "outputs": [
    {
     "data": {
      "text/html": [
       "<div>\n",
       "<style scoped>\n",
       "    .dataframe tbody tr th:only-of-type {\n",
       "        vertical-align: middle;\n",
       "    }\n",
       "\n",
       "    .dataframe tbody tr th {\n",
       "        vertical-align: top;\n",
       "    }\n",
       "\n",
       "    .dataframe thead th {\n",
       "        text-align: right;\n",
       "    }\n",
       "</style>\n",
       "<table border=\"1\" class=\"dataframe\">\n",
       "  <thead>\n",
       "    <tr style=\"text-align: right;\">\n",
       "      <th></th>\n",
       "      <th>Markets</th>\n",
       "      <th>ShareBasis</th>\n",
       "      <th>Products</th>\n",
       "      <th>Manufacturer</th>\n",
       "      <th>Franchise</th>\n",
       "      <th>Brand</th>\n",
       "      <th>SubBrand</th>\n",
       "      <th>Facts</th>\n",
       "      <th>YTD 2021</th>\n",
       "      <th>YTD 2020</th>\n",
       "      <th>4 W/E 02/27/21</th>\n",
       "      <th>4 W/E 02/29/20</th>\n",
       "    </tr>\n",
       "  </thead>\n",
       "  <tbody>\n",
       "    <tr>\n",
       "      <th>617013</th>\n",
       "      <td>TOTAL US XAOC</td>\n",
       "      <td>BEAD FS</td>\n",
       "      <td>BEAD FS</td>\n",
       "      <td></td>\n",
       "      <td></td>\n",
       "      <td></td>\n",
       "      <td></td>\n",
       "      <td>$</td>\n",
       "      <td>2324992.347</td>\n",
       "      <td>NaN</td>\n",
       "      <td>1085867.541</td>\n",
       "      <td>NaN</td>\n",
       "    </tr>\n",
       "    <tr>\n",
       "      <th>617016</th>\n",
       "      <td>TOTAL US XAOC</td>\n",
       "      <td>BEAD FS</td>\n",
       "      <td>BEAD FS</td>\n",
       "      <td></td>\n",
       "      <td></td>\n",
       "      <td></td>\n",
       "      <td></td>\n",
       "      <td>$ Shr - CP CATEGORY</td>\n",
       "      <td>100.000</td>\n",
       "      <td>NaN</td>\n",
       "      <td>100.000</td>\n",
       "      <td>NaN</td>\n",
       "    </tr>\n",
       "  </tbody>\n",
       "</table>\n",
       "</div>"
      ],
      "text/plain": [
       "              Markets ShareBasis Products Manufacturer Franchise Brand  \\\n",
       "617013  TOTAL US XAOC    BEAD FS  BEAD FS                                \n",
       "617016  TOTAL US XAOC    BEAD FS  BEAD FS                                \n",
       "\n",
       "       SubBrand                Facts     YTD 2021  YTD 2020  4 W/E 02/27/21  \\\n",
       "617013                             $  2324992.347       NaN     1085867.541   \n",
       "617016           $ Shr - CP CATEGORY      100.000       NaN         100.000   \n",
       "\n",
       "        4 W/E 02/29/20  \n",
       "617013             NaN  \n",
       "617016             NaN  "
      ]
     },
     "execution_count": 614,
     "metadata": {},
     "output_type": "execute_result"
    }
   ],
   "source": [
    "Waterfall_FS.head(2)"
   ]
  },
  {
   "cell_type": "markdown",
   "metadata": {},
   "source": [
    "**Column name Change**"
   ]
  },
  {
   "cell_type": "code",
   "execution_count": 615,
   "metadata": {},
   "outputs": [],
   "source": [
    "Waterfall_FS.rename(columns={\"Markets\":\"MKT\",\"Products\":\"PROD\",\"Manufacturer\":\"CP_MANUFACTURER\",\"ShareBasis\":\"CP_SHARE_BASIS\",\n",
    "                                \"Franchise\":\"CP_FRANCHISE\",\"Brand\":\"CP_BRAND\",\"SubBrand\":\"CP_SUBBRAND\",\"Facts\":\"FCT\"},inplace=True)"
   ]
  },
  {
   "cell_type": "code",
   "execution_count": 616,
   "metadata": {},
   "outputs": [
    {
     "data": {
      "text/plain": [
       "Index(['MKT', 'CP_SHARE_BASIS', 'PROD', 'CP_MANUFACTURER', 'CP_FRANCHISE',\n",
       "       'CP_BRAND', 'CP_SUBBRAND', 'FCT', 'YTD 2021', 'YTD 2020',\n",
       "       '4 W/E 02/27/21', '4 W/E 02/29/20'],\n",
       "      dtype='object')"
      ]
     },
     "execution_count": 616,
     "metadata": {},
     "output_type": "execute_result"
    }
   ],
   "source": [
    "Waterfall_FS.columns"
   ]
  },
  {
   "cell_type": "code",
   "execution_count": 617,
   "metadata": {},
   "outputs": [],
   "source": [
    "Waterfall_FS[\"CP_CATEGORY\"] = \"FABRIC SOFTENERS\""
   ]
  },
  {
   "cell_type": "code",
   "execution_count": 618,
   "metadata": {},
   "outputs": [],
   "source": [
    "# column_names = list(Waterfall_FS.columns)\n",
    "# column_names.insert(count,\"CP_SHARE_BASIS\")\n",
    "# column_names.pop(-2)\n",
    "# print(column_names)"
   ]
  },
  {
   "cell_type": "code",
   "execution_count": 619,
   "metadata": {},
   "outputs": [
    {
     "data": {
      "text/html": [
       "<div>\n",
       "<style scoped>\n",
       "    .dataframe tbody tr th:only-of-type {\n",
       "        vertical-align: middle;\n",
       "    }\n",
       "\n",
       "    .dataframe tbody tr th {\n",
       "        vertical-align: top;\n",
       "    }\n",
       "\n",
       "    .dataframe thead th {\n",
       "        text-align: right;\n",
       "    }\n",
       "</style>\n",
       "<table border=\"1\" class=\"dataframe\">\n",
       "  <thead>\n",
       "    <tr style=\"text-align: right;\">\n",
       "      <th></th>\n",
       "      <th>MKT</th>\n",
       "      <th>CP_SHARE_BASIS</th>\n",
       "      <th>PROD</th>\n",
       "      <th>CP_CATEGORY</th>\n",
       "      <th>CP_MANUFACTURER</th>\n",
       "      <th>CP_FRANCHISE</th>\n",
       "      <th>CP_BRAND</th>\n",
       "      <th>CP_SUBBRAND</th>\n",
       "      <th>FCT</th>\n",
       "      <th>YTD 2021</th>\n",
       "      <th>YTD 2020</th>\n",
       "      <th>4 W/E 02/27/21</th>\n",
       "      <th>4 W/E 02/29/20</th>\n",
       "    </tr>\n",
       "  </thead>\n",
       "  <tbody>\n",
       "    <tr>\n",
       "      <th>617013</th>\n",
       "      <td>TOTAL US XAOC</td>\n",
       "      <td>BEAD FS</td>\n",
       "      <td>BEAD FS</td>\n",
       "      <td>FABRIC SOFTENERS</td>\n",
       "      <td></td>\n",
       "      <td></td>\n",
       "      <td></td>\n",
       "      <td></td>\n",
       "      <td>$</td>\n",
       "      <td>2324992.347</td>\n",
       "      <td>NaN</td>\n",
       "      <td>1085867.541</td>\n",
       "      <td>NaN</td>\n",
       "    </tr>\n",
       "    <tr>\n",
       "      <th>617016</th>\n",
       "      <td>TOTAL US XAOC</td>\n",
       "      <td>BEAD FS</td>\n",
       "      <td>BEAD FS</td>\n",
       "      <td>FABRIC SOFTENERS</td>\n",
       "      <td></td>\n",
       "      <td></td>\n",
       "      <td></td>\n",
       "      <td></td>\n",
       "      <td>$ Shr - CP CATEGORY</td>\n",
       "      <td>100.000</td>\n",
       "      <td>NaN</td>\n",
       "      <td>100.000</td>\n",
       "      <td>NaN</td>\n",
       "    </tr>\n",
       "    <tr>\n",
       "      <th>617037</th>\n",
       "      <td>TOTAL US XAOC</td>\n",
       "      <td>BEAD FS</td>\n",
       "      <td>BEAD FS</td>\n",
       "      <td>FABRIC SOFTENERS</td>\n",
       "      <td></td>\n",
       "      <td></td>\n",
       "      <td></td>\n",
       "      <td></td>\n",
       "      <td>Base $</td>\n",
       "      <td>1548583.127</td>\n",
       "      <td>NaN</td>\n",
       "      <td>657336.641</td>\n",
       "      <td>NaN</td>\n",
       "    </tr>\n",
       "  </tbody>\n",
       "</table>\n",
       "</div>"
      ],
      "text/plain": [
       "                  MKT CP_SHARE_BASIS     PROD       CP_CATEGORY  \\\n",
       "617013  TOTAL US XAOC        BEAD FS  BEAD FS  FABRIC SOFTENERS   \n",
       "617016  TOTAL US XAOC        BEAD FS  BEAD FS  FABRIC SOFTENERS   \n",
       "617037  TOTAL US XAOC        BEAD FS  BEAD FS  FABRIC SOFTENERS   \n",
       "\n",
       "       CP_MANUFACTURER CP_FRANCHISE CP_BRAND CP_SUBBRAND                  FCT  \\\n",
       "617013                                                                      $   \n",
       "617016                                                    $ Shr - CP CATEGORY   \n",
       "617037                                                                 Base $   \n",
       "\n",
       "           YTD 2021  YTD 2020  4 W/E 02/27/21  4 W/E 02/29/20  \n",
       "617013  2324992.347       NaN     1085867.541             NaN  \n",
       "617016      100.000       NaN         100.000             NaN  \n",
       "617037  1548583.127       NaN      657336.641             NaN  "
      ]
     },
     "execution_count": 619,
     "metadata": {},
     "output_type": "execute_result"
    }
   ],
   "source": [
    "Waterfall_FS = movecol(Waterfall_FS, \n",
    "             cols_to_move=[\"CP_CATEGORY\"], \n",
    "             ref_col='PROD',\n",
    "             place='After')\n",
    "Waterfall_FS.head(3)"
   ]
  },
  {
   "cell_type": "code",
   "execution_count": 620,
   "metadata": {},
   "outputs": [
    {
     "data": {
      "text/html": [
       "<div>\n",
       "<style scoped>\n",
       "    .dataframe tbody tr th:only-of-type {\n",
       "        vertical-align: middle;\n",
       "    }\n",
       "\n",
       "    .dataframe tbody tr th {\n",
       "        vertical-align: top;\n",
       "    }\n",
       "\n",
       "    .dataframe thead th {\n",
       "        text-align: right;\n",
       "    }\n",
       "</style>\n",
       "<table border=\"1\" class=\"dataframe\">\n",
       "  <thead>\n",
       "    <tr style=\"text-align: right;\">\n",
       "      <th></th>\n",
       "      <th>CP_SHARE_BASIS</th>\n",
       "      <th>MKT</th>\n",
       "      <th>PROD</th>\n",
       "      <th>CP_CATEGORY</th>\n",
       "      <th>CP_MANUFACTURER</th>\n",
       "      <th>CP_FRANCHISE</th>\n",
       "      <th>CP_BRAND</th>\n",
       "      <th>CP_SUBBRAND</th>\n",
       "      <th>FCT</th>\n",
       "      <th>YTD 2021</th>\n",
       "      <th>YTD 2020</th>\n",
       "      <th>4 W/E 02/27/21</th>\n",
       "      <th>4 W/E 02/29/20</th>\n",
       "    </tr>\n",
       "  </thead>\n",
       "  <tbody>\n",
       "    <tr>\n",
       "      <th>617013</th>\n",
       "      <td>BEAD FS</td>\n",
       "      <td>TOTAL US XAOC</td>\n",
       "      <td>BEAD FS</td>\n",
       "      <td>FABRIC SOFTENERS</td>\n",
       "      <td></td>\n",
       "      <td></td>\n",
       "      <td></td>\n",
       "      <td></td>\n",
       "      <td>$</td>\n",
       "      <td>2324992.347</td>\n",
       "      <td>NaN</td>\n",
       "      <td>1085867.541</td>\n",
       "      <td>NaN</td>\n",
       "    </tr>\n",
       "    <tr>\n",
       "      <th>617016</th>\n",
       "      <td>BEAD FS</td>\n",
       "      <td>TOTAL US XAOC</td>\n",
       "      <td>BEAD FS</td>\n",
       "      <td>FABRIC SOFTENERS</td>\n",
       "      <td></td>\n",
       "      <td></td>\n",
       "      <td></td>\n",
       "      <td></td>\n",
       "      <td>$ Shr - CP CATEGORY</td>\n",
       "      <td>100.000</td>\n",
       "      <td>NaN</td>\n",
       "      <td>100.000</td>\n",
       "      <td>NaN</td>\n",
       "    </tr>\n",
       "    <tr>\n",
       "      <th>617037</th>\n",
       "      <td>BEAD FS</td>\n",
       "      <td>TOTAL US XAOC</td>\n",
       "      <td>BEAD FS</td>\n",
       "      <td>FABRIC SOFTENERS</td>\n",
       "      <td></td>\n",
       "      <td></td>\n",
       "      <td></td>\n",
       "      <td></td>\n",
       "      <td>Base $</td>\n",
       "      <td>1548583.127</td>\n",
       "      <td>NaN</td>\n",
       "      <td>657336.641</td>\n",
       "      <td>NaN</td>\n",
       "    </tr>\n",
       "  </tbody>\n",
       "</table>\n",
       "</div>"
      ],
      "text/plain": [
       "       CP_SHARE_BASIS            MKT     PROD       CP_CATEGORY  \\\n",
       "617013        BEAD FS  TOTAL US XAOC  BEAD FS  FABRIC SOFTENERS   \n",
       "617016        BEAD FS  TOTAL US XAOC  BEAD FS  FABRIC SOFTENERS   \n",
       "617037        BEAD FS  TOTAL US XAOC  BEAD FS  FABRIC SOFTENERS   \n",
       "\n",
       "       CP_MANUFACTURER CP_FRANCHISE CP_BRAND CP_SUBBRAND                  FCT  \\\n",
       "617013                                                                      $   \n",
       "617016                                                    $ Shr - CP CATEGORY   \n",
       "617037                                                                 Base $   \n",
       "\n",
       "           YTD 2021  YTD 2020  4 W/E 02/27/21  4 W/E 02/29/20  \n",
       "617013  2324992.347       NaN     1085867.541             NaN  \n",
       "617016      100.000       NaN         100.000             NaN  \n",
       "617037  1548583.127       NaN      657336.641             NaN  "
      ]
     },
     "execution_count": 620,
     "metadata": {},
     "output_type": "execute_result"
    }
   ],
   "source": [
    "Waterfall_FS = movecol(Waterfall_FS, \n",
    "             cols_to_move=[\"CP_SHARE_BASIS\"], \n",
    "             ref_col='MKT',\n",
    "             place='Before')\n",
    "Waterfall_FS.head(3)"
   ]
  },
  {
   "cell_type": "code",
   "execution_count": 621,
   "metadata": {},
   "outputs": [
    {
     "data": {
      "text/plain": [
       "Index(['CP_SHARE_BASIS', 'MKT', 'PROD', 'CP_CATEGORY', 'CP_MANUFACTURER',\n",
       "       'CP_FRANCHISE', 'CP_BRAND', 'CP_SUBBRAND', 'FCT', 'YTD 2021',\n",
       "       'YTD 2020', '4 W/E 02/27/21', '4 W/E 02/29/20'],\n",
       "      dtype='object')"
      ]
     },
     "execution_count": 621,
     "metadata": {},
     "output_type": "execute_result"
    }
   ],
   "source": [
    "Waterfall_FS.columns"
   ]
  },
  {
   "cell_type": "code",
   "execution_count": 622,
   "metadata": {},
   "outputs": [],
   "source": [
    "del Waterfall_FS[\"CP_SUBBRAND\"]"
   ]
  },
  {
   "cell_type": "code",
   "execution_count": 623,
   "metadata": {},
   "outputs": [
    {
     "data": {
      "text/plain": [
       "{'BEAD FS', 'LIQUID FS', 'SCENT BOOSTERS', 'SHEETS', 'TOTAL FS'}"
      ]
     },
     "execution_count": 623,
     "metadata": {},
     "output_type": "execute_result"
    }
   ],
   "source": [
    "set(Waterfall_FS[\"CP_SHARE_BASIS\"])"
   ]
  },
  {
   "cell_type": "code",
   "execution_count": 624,
   "metadata": {},
   "outputs": [],
   "source": [
    "#Waterfall_FS[\"CP_SHARE_BASIS\"].replace({\"FABRIC SOFTENERS\" : \"TOTAL FS\"}, inplace = True)"
   ]
  },
  {
   "cell_type": "code",
   "execution_count": 625,
   "metadata": {},
   "outputs": [
    {
     "data": {
      "text/html": [
       "<div>\n",
       "<style scoped>\n",
       "    .dataframe tbody tr th:only-of-type {\n",
       "        vertical-align: middle;\n",
       "    }\n",
       "\n",
       "    .dataframe tbody tr th {\n",
       "        vertical-align: top;\n",
       "    }\n",
       "\n",
       "    .dataframe thead th {\n",
       "        text-align: right;\n",
       "    }\n",
       "</style>\n",
       "<table border=\"1\" class=\"dataframe\">\n",
       "  <thead>\n",
       "    <tr style=\"text-align: right;\">\n",
       "      <th></th>\n",
       "      <th>CP_SHARE_BASIS</th>\n",
       "      <th>MKT</th>\n",
       "      <th>PROD</th>\n",
       "      <th>CP_CATEGORY</th>\n",
       "      <th>CP_MANUFACTURER</th>\n",
       "      <th>CP_FRANCHISE</th>\n",
       "      <th>CP_BRAND</th>\n",
       "      <th>FCT</th>\n",
       "      <th>YTD 2021</th>\n",
       "      <th>YTD 2020</th>\n",
       "      <th>4 W/E 02/27/21</th>\n",
       "      <th>4 W/E 02/29/20</th>\n",
       "    </tr>\n",
       "  </thead>\n",
       "  <tbody>\n",
       "    <tr>\n",
       "      <th>617013</th>\n",
       "      <td>BEAD FS</td>\n",
       "      <td>TOTAL US XAOC</td>\n",
       "      <td>BEAD FS</td>\n",
       "      <td>FABRIC SOFTENERS</td>\n",
       "      <td></td>\n",
       "      <td></td>\n",
       "      <td></td>\n",
       "      <td>$</td>\n",
       "      <td>2324992.347</td>\n",
       "      <td>NaN</td>\n",
       "      <td>1085867.541</td>\n",
       "      <td>NaN</td>\n",
       "    </tr>\n",
       "    <tr>\n",
       "      <th>617016</th>\n",
       "      <td>BEAD FS</td>\n",
       "      <td>TOTAL US XAOC</td>\n",
       "      <td>BEAD FS</td>\n",
       "      <td>FABRIC SOFTENERS</td>\n",
       "      <td></td>\n",
       "      <td></td>\n",
       "      <td></td>\n",
       "      <td>$ Shr - CP CATEGORY</td>\n",
       "      <td>100.000</td>\n",
       "      <td>NaN</td>\n",
       "      <td>100.000</td>\n",
       "      <td>NaN</td>\n",
       "    </tr>\n",
       "    <tr>\n",
       "      <th>617037</th>\n",
       "      <td>BEAD FS</td>\n",
       "      <td>TOTAL US XAOC</td>\n",
       "      <td>BEAD FS</td>\n",
       "      <td>FABRIC SOFTENERS</td>\n",
       "      <td></td>\n",
       "      <td></td>\n",
       "      <td></td>\n",
       "      <td>Base $</td>\n",
       "      <td>1548583.127</td>\n",
       "      <td>NaN</td>\n",
       "      <td>657336.641</td>\n",
       "      <td>NaN</td>\n",
       "    </tr>\n",
       "  </tbody>\n",
       "</table>\n",
       "</div>"
      ],
      "text/plain": [
       "       CP_SHARE_BASIS            MKT     PROD       CP_CATEGORY  \\\n",
       "617013        BEAD FS  TOTAL US XAOC  BEAD FS  FABRIC SOFTENERS   \n",
       "617016        BEAD FS  TOTAL US XAOC  BEAD FS  FABRIC SOFTENERS   \n",
       "617037        BEAD FS  TOTAL US XAOC  BEAD FS  FABRIC SOFTENERS   \n",
       "\n",
       "       CP_MANUFACTURER CP_FRANCHISE CP_BRAND                  FCT  \\\n",
       "617013                                                          $   \n",
       "617016                                        $ Shr - CP CATEGORY   \n",
       "617037                                                     Base $   \n",
       "\n",
       "           YTD 2021  YTD 2020  4 W/E 02/27/21  4 W/E 02/29/20  \n",
       "617013  2324992.347       NaN     1085867.541             NaN  \n",
       "617016      100.000       NaN         100.000             NaN  \n",
       "617037  1548583.127       NaN      657336.641             NaN  "
      ]
     },
     "execution_count": 625,
     "metadata": {},
     "output_type": "execute_result"
    }
   ],
   "source": [
    "Waterfall_FS.head(3)"
   ]
  },
  {
   "cell_type": "code",
   "execution_count": 626,
   "metadata": {},
   "outputs": [
    {
     "data": {
      "text/html": [
       "<div>\n",
       "<style scoped>\n",
       "    .dataframe tbody tr th:only-of-type {\n",
       "        vertical-align: middle;\n",
       "    }\n",
       "\n",
       "    .dataframe tbody tr th {\n",
       "        vertical-align: top;\n",
       "    }\n",
       "\n",
       "    .dataframe thead th {\n",
       "        text-align: right;\n",
       "    }\n",
       "</style>\n",
       "<table border=\"1\" class=\"dataframe\">\n",
       "  <thead>\n",
       "    <tr style=\"text-align: right;\">\n",
       "      <th></th>\n",
       "      <th>CP_SHARE_BASIS</th>\n",
       "      <th>MKT</th>\n",
       "      <th>PROD</th>\n",
       "      <th>CP_CATEGORY</th>\n",
       "      <th>CP_MANUFACTURER</th>\n",
       "      <th>CP_FRANCHISE</th>\n",
       "      <th>CP_BRAND</th>\n",
       "      <th>FCT</th>\n",
       "      <th>YTD 2021</th>\n",
       "      <th>YTD 2020</th>\n",
       "      <th>4 W/E 02/27/21</th>\n",
       "      <th>4 W/E 02/29/20</th>\n",
       "      <th>X</th>\n",
       "    </tr>\n",
       "  </thead>\n",
       "  <tbody>\n",
       "    <tr>\n",
       "      <th>617013</th>\n",
       "      <td>BEAD FS</td>\n",
       "      <td>TOTAL US XAOC</td>\n",
       "      <td>BEAD FS</td>\n",
       "      <td>FABRIC SOFTENERS</td>\n",
       "      <td></td>\n",
       "      <td></td>\n",
       "      <td></td>\n",
       "      <td>$</td>\n",
       "      <td>2324992.347</td>\n",
       "      <td>NaN</td>\n",
       "      <td>1085867.541</td>\n",
       "      <td>NaN</td>\n",
       "      <td>$</td>\n",
       "    </tr>\n",
       "    <tr>\n",
       "      <th>617016</th>\n",
       "      <td>BEAD FS</td>\n",
       "      <td>TOTAL US XAOC</td>\n",
       "      <td>BEAD FS</td>\n",
       "      <td>FABRIC SOFTENERS</td>\n",
       "      <td></td>\n",
       "      <td></td>\n",
       "      <td></td>\n",
       "      <td>$ Shr - CP CATEGORY</td>\n",
       "      <td>100.000</td>\n",
       "      <td>NaN</td>\n",
       "      <td>100.000</td>\n",
       "      <td>NaN</td>\n",
       "      <td>Bead FS $ Share</td>\n",
       "    </tr>\n",
       "    <tr>\n",
       "      <th>617037</th>\n",
       "      <td>BEAD FS</td>\n",
       "      <td>TOTAL US XAOC</td>\n",
       "      <td>BEAD FS</td>\n",
       "      <td>FABRIC SOFTENERS</td>\n",
       "      <td></td>\n",
       "      <td></td>\n",
       "      <td></td>\n",
       "      <td>Base $</td>\n",
       "      <td>1548583.127</td>\n",
       "      <td>NaN</td>\n",
       "      <td>657336.641</td>\n",
       "      <td>NaN</td>\n",
       "      <td>Base $</td>\n",
       "    </tr>\n",
       "    <tr>\n",
       "      <th>617070</th>\n",
       "      <td>BEAD FS</td>\n",
       "      <td>TOTAL US XAOC</td>\n",
       "      <td>BEAD FS | P&amp;G</td>\n",
       "      <td>FABRIC SOFTENERS</td>\n",
       "      <td>P&amp;G</td>\n",
       "      <td></td>\n",
       "      <td></td>\n",
       "      <td>$</td>\n",
       "      <td>2324992.347</td>\n",
       "      <td>NaN</td>\n",
       "      <td>1085867.541</td>\n",
       "      <td>NaN</td>\n",
       "      <td>$</td>\n",
       "    </tr>\n",
       "    <tr>\n",
       "      <th>617073</th>\n",
       "      <td>BEAD FS</td>\n",
       "      <td>TOTAL US XAOC</td>\n",
       "      <td>BEAD FS | P&amp;G</td>\n",
       "      <td>FABRIC SOFTENERS</td>\n",
       "      <td>P&amp;G</td>\n",
       "      <td></td>\n",
       "      <td></td>\n",
       "      <td>$ Shr - CP CATEGORY</td>\n",
       "      <td>100.000</td>\n",
       "      <td>NaN</td>\n",
       "      <td>100.000</td>\n",
       "      <td>NaN</td>\n",
       "      <td>Bead FS $ Share</td>\n",
       "    </tr>\n",
       "  </tbody>\n",
       "</table>\n",
       "</div>"
      ],
      "text/plain": [
       "       CP_SHARE_BASIS            MKT           PROD       CP_CATEGORY  \\\n",
       "617013        BEAD FS  TOTAL US XAOC        BEAD FS  FABRIC SOFTENERS   \n",
       "617016        BEAD FS  TOTAL US XAOC        BEAD FS  FABRIC SOFTENERS   \n",
       "617037        BEAD FS  TOTAL US XAOC        BEAD FS  FABRIC SOFTENERS   \n",
       "617070        BEAD FS  TOTAL US XAOC  BEAD FS | P&G  FABRIC SOFTENERS   \n",
       "617073        BEAD FS  TOTAL US XAOC  BEAD FS | P&G  FABRIC SOFTENERS   \n",
       "\n",
       "       CP_MANUFACTURER CP_FRANCHISE CP_BRAND                  FCT  \\\n",
       "617013                                                          $   \n",
       "617016                                        $ Shr - CP CATEGORY   \n",
       "617037                                                     Base $   \n",
       "617070             P&G                                          $   \n",
       "617073             P&G                        $ Shr - CP CATEGORY   \n",
       "\n",
       "           YTD 2021  YTD 2020  4 W/E 02/27/21  4 W/E 02/29/20                X  \n",
       "617013  2324992.347       NaN     1085867.541             NaN                $  \n",
       "617016      100.000       NaN         100.000             NaN  Bead FS $ Share  \n",
       "617037  1548583.127       NaN      657336.641             NaN           Base $  \n",
       "617070  2324992.347       NaN     1085867.541             NaN                $  \n",
       "617073      100.000       NaN         100.000             NaN  Bead FS $ Share  "
      ]
     },
     "execution_count": 626,
     "metadata": {},
     "output_type": "execute_result"
    }
   ],
   "source": [
    "Waterfall_FS[\"X\"] = \"\"\n",
    "for i in range(0,len(Waterfall_FS)):\n",
    "    if (Waterfall_FS[\"CP_SHARE_BASIS\"].iloc[i] == \"BEAD FS\") & (Waterfall_FS[\"FCT\"].iloc[i] == \"$ Shr - CP CATEGORY\"):\n",
    "        Waterfall_FS[\"X\"].iloc[i] = \"Bead FS $ Share\"\n",
    "    elif (Waterfall_FS[\"CP_SHARE_BASIS\"].iloc[i] == \"TOTAL FS\") & (Waterfall_FS[\"FCT\"].iloc[i] == \"$ Shr - CP CATEGORY\"):\n",
    "        Waterfall_FS[\"X\"].iloc[i] = \"FS $ Share\"\n",
    "    elif (Waterfall_FS[\"CP_SHARE_BASIS\"].iloc[i] == \"LIQUID FS\") & (Waterfall_FS[\"FCT\"].iloc[i] == \"$ Shr - CP CATEGORY\"):\n",
    "        Waterfall_FS[\"X\"].iloc[i] = \"Liq $ Share\"\n",
    "    elif (Waterfall_FS[\"CP_SHARE_BASIS\"].iloc[i] == \"SCENT BOOSTERS\") & (Waterfall_FS[\"FCT\"].iloc[i] == \"$ Shr - CP CATEGORY\"):\n",
    "        Waterfall_FS[\"X\"].iloc[i] = \"Scent Booster $ Share\"\n",
    "    elif (Waterfall_FS[\"CP_SHARE_BASIS\"].iloc[i] == \"SHEETS\") & (Waterfall_FS[\"FCT\"].iloc[i] == \"$ Shr - CP CATEGORY\"):\n",
    "        Waterfall_FS[\"X\"].iloc[i] = \"Sheets $ Share\"\n",
    "    else:\n",
    "        Waterfall_FS[\"X\"].iloc[i] = Waterfall_FS[\"FCT\"].iloc[i]\n",
    "    #Waterfall_FS[\"\"].iloc[i] = Waterfall_FS[\"SubBrand\"].iloc[i] +\" \"+Waterfall_FS[\"Container\"].iloc[i]\n",
    "Waterfall_FS.head(5)"
   ]
  },
  {
   "cell_type": "code",
   "execution_count": 627,
   "metadata": {},
   "outputs": [
    {
     "data": {
      "text/plain": [
       "{'$',\n",
       " 'Base $',\n",
       " 'Bead FS $ Share',\n",
       " 'Disp w/o Feat $',\n",
       " 'FS $ Share',\n",
       " 'Feat & Disp $',\n",
       " 'Feat w/o Disp $',\n",
       " 'Liq $ Share',\n",
       " 'No Promo Incr $',\n",
       " 'Price Decr Only $',\n",
       " 'Scent Booster $ Share',\n",
       " 'Sheets $ Share'}"
      ]
     },
     "execution_count": 627,
     "metadata": {},
     "output_type": "execute_result"
    }
   ],
   "source": [
    "set(Waterfall_FS[\"X\"])"
   ]
  },
  {
   "cell_type": "code",
   "execution_count": 628,
   "metadata": {},
   "outputs": [],
   "source": [
    "Waterfall_FS[\"FCT\"] = Waterfall_FS[\"X\"]"
   ]
  },
  {
   "cell_type": "code",
   "execution_count": 629,
   "metadata": {},
   "outputs": [],
   "source": [
    "del Waterfall_FS[\"X\"]"
   ]
  },
  {
   "cell_type": "code",
   "execution_count": 630,
   "metadata": {},
   "outputs": [
    {
     "data": {
      "text/plain": [
       "{'BJS TOTAL CENSUS TA',\n",
       " 'CVS TOTAL CORP WO HI CENSUS TA',\n",
       " 'DOL GEN TOTAL CENSUS TA',\n",
       " 'El Super Total TA',\n",
       " 'FAMILY DOLLAR TOTAL CENSUS TRADING AREA',\n",
       " 'Kmart Total TA',\n",
       " 'PUBLIX TOTAL CENSUS TRADING AREA',\n",
       " 'RITE AID - TOTAL CENSUS TA',\n",
       " 'SAMS TOTAL CENSUS TRADING AREA',\n",
       " 'TARGET TOTAL BM/FF CENSUS TA',\n",
       " 'TOTAL US DRUG',\n",
       " 'TOTAL US FOOD',\n",
       " 'TOTAL US XAOC',\n",
       " 'TOTAL WALMART TOTAL US CTA',\n",
       " 'WALGREENS CORP TOTAL CENSUS TA'}"
      ]
     },
     "execution_count": 630,
     "metadata": {},
     "output_type": "execute_result"
    }
   ],
   "source": [
    "set(Waterfall_FS[\"MKT\"])"
   ]
  },
  {
   "cell_type": "markdown",
   "metadata": {},
   "source": [
    "**Fact Name Change**"
   ]
  },
  {
   "cell_type": "code",
   "execution_count": 631,
   "metadata": {},
   "outputs": [],
   "source": [
    "Waterfall_FS[\"FCT\"].replace(Waterfall_Fact_Mapping,inplace=True)"
   ]
  },
  {
   "cell_type": "code",
   "execution_count": 632,
   "metadata": {},
   "outputs": [
    {
     "data": {
      "text/html": [
       "<div>\n",
       "<style scoped>\n",
       "    .dataframe tbody tr th:only-of-type {\n",
       "        vertical-align: middle;\n",
       "    }\n",
       "\n",
       "    .dataframe tbody tr th {\n",
       "        vertical-align: top;\n",
       "    }\n",
       "\n",
       "    .dataframe thead th {\n",
       "        text-align: right;\n",
       "    }\n",
       "</style>\n",
       "<table border=\"1\" class=\"dataframe\">\n",
       "  <thead>\n",
       "    <tr style=\"text-align: right;\">\n",
       "      <th></th>\n",
       "      <th>CP_SHARE_BASIS</th>\n",
       "      <th>MKT</th>\n",
       "      <th>PROD</th>\n",
       "      <th>CP_CATEGORY</th>\n",
       "      <th>CP_MANUFACTURER</th>\n",
       "      <th>CP_FRANCHISE</th>\n",
       "      <th>CP_BRAND</th>\n",
       "      <th>FCT</th>\n",
       "      <th>YTD 2021</th>\n",
       "      <th>YTD 2020</th>\n",
       "      <th>4 W/E 02/27/21</th>\n",
       "      <th>4 W/E 02/29/20</th>\n",
       "    </tr>\n",
       "  </thead>\n",
       "  <tbody>\n",
       "    <tr>\n",
       "      <th>617013</th>\n",
       "      <td>BEAD FS</td>\n",
       "      <td>TOTAL US XAOC</td>\n",
       "      <td>BEAD FS</td>\n",
       "      <td>FABRIC SOFTENERS</td>\n",
       "      <td></td>\n",
       "      <td></td>\n",
       "      <td></td>\n",
       "      <td>Dollars</td>\n",
       "      <td>2324992.347</td>\n",
       "      <td>NaN</td>\n",
       "      <td>1085867.541</td>\n",
       "      <td>NaN</td>\n",
       "    </tr>\n",
       "    <tr>\n",
       "      <th>617016</th>\n",
       "      <td>BEAD FS</td>\n",
       "      <td>TOTAL US XAOC</td>\n",
       "      <td>BEAD FS</td>\n",
       "      <td>FABRIC SOFTENERS</td>\n",
       "      <td></td>\n",
       "      <td></td>\n",
       "      <td></td>\n",
       "      <td>Bead FS $ Share</td>\n",
       "      <td>100.000</td>\n",
       "      <td>NaN</td>\n",
       "      <td>100.000</td>\n",
       "      <td>NaN</td>\n",
       "    </tr>\n",
       "  </tbody>\n",
       "</table>\n",
       "</div>"
      ],
      "text/plain": [
       "       CP_SHARE_BASIS            MKT     PROD       CP_CATEGORY  \\\n",
       "617013        BEAD FS  TOTAL US XAOC  BEAD FS  FABRIC SOFTENERS   \n",
       "617016        BEAD FS  TOTAL US XAOC  BEAD FS  FABRIC SOFTENERS   \n",
       "\n",
       "       CP_MANUFACTURER CP_FRANCHISE CP_BRAND              FCT     YTD 2021  \\\n",
       "617013                                                Dollars  2324992.347   \n",
       "617016                                        Bead FS $ Share      100.000   \n",
       "\n",
       "        YTD 2020  4 W/E 02/27/21  4 W/E 02/29/20  \n",
       "617013       NaN     1085867.541             NaN  \n",
       "617016       NaN         100.000             NaN  "
      ]
     },
     "execution_count": 632,
     "metadata": {},
     "output_type": "execute_result"
    }
   ],
   "source": [
    "Waterfall_FS.head(2)"
   ]
  },
  {
   "cell_type": "code",
   "execution_count": 633,
   "metadata": {},
   "outputs": [
    {
     "data": {
      "text/plain": [
       "{'BEAD FS', 'LIQUID FS', 'SCENT BOOSTERS', 'SHEETS', 'TOTAL FS'}"
      ]
     },
     "execution_count": 633,
     "metadata": {},
     "output_type": "execute_result"
    }
   ],
   "source": [
    "set(Waterfall_FS[\"CP_SHARE_BASIS\"])"
   ]
  },
  {
   "cell_type": "code",
   "execution_count": 634,
   "metadata": {},
   "outputs": [],
   "source": [
    "Fact_order_1 = [\"Baseline $\",\"Incr.$ w/No Promo\",\"Incr.$ w/Ftr w/o Disp\",\"Incr.$ w/Disp w/o Ftr\",\"Incr.$ w/Ftr & Disp\",\n",
    "              \"Incr.$ w/TPR\",\"Dollars\",\"Liq $ Share\",\"Scent Booster $ Share\", \"Sheets $ Share\", \"FS $ Share\", \"Bead FS $ Share\"]\n",
    "\n",
    "Fact_order = CategoricalDtype(\n",
    "    Fact_order_1, \n",
    "    ordered=True\n",
    ")\n",
    "\n",
    "\n",
    "Waterfall_FS['FCT'] = Waterfall_FS['FCT'].astype(Fact_order)\n",
    "\n",
    "Waterfall_FS.sort_values(['MKT','PROD','FCT'],inplace=True)"
   ]
  },
  {
   "cell_type": "markdown",
   "metadata": {},
   "source": [
    "## **Waterfall_Manu**"
   ]
  },
  {
   "cell_type": "code",
   "execution_count": 635,
   "metadata": {},
   "outputs": [],
   "source": [
    "Waterfall_Manu=Waterfall_FS.loc[(Waterfall_FS[\"CP_BRAND\"]==\"\")&(Waterfall_FS[\"CP_FRANCHISE\"]==\"\")&(Waterfall_FS[\"CP_MANUFACTURER\"]!=\"\")]"
   ]
  },
  {
   "cell_type": "code",
   "execution_count": 636,
   "metadata": {},
   "outputs": [],
   "source": [
    "Waterfall_Manu[\"Record_ID\"]=range(1,len(Waterfall_Manu)+1)"
   ]
  },
  {
   "cell_type": "code",
   "execution_count": 637,
   "metadata": {},
   "outputs": [],
   "source": [
    "Waterfall_Manu.to_csv(path_FS+\"promo_waterfall_manu.csv\",index=False)"
   ]
  },
  {
   "cell_type": "markdown",
   "metadata": {},
   "source": [
    "## **Waterfall_Fran**"
   ]
  },
  {
   "cell_type": "code",
   "execution_count": 638,
   "metadata": {},
   "outputs": [],
   "source": [
    "Waterfall_Fran=Waterfall_FS.loc[(Waterfall_FS[\"CP_BRAND\"]==\"\")&(Waterfall_FS[\"CP_FRANCHISE\"]!=\"\")]"
   ]
  },
  {
   "cell_type": "code",
   "execution_count": 639,
   "metadata": {},
   "outputs": [],
   "source": [
    "Waterfall_Fran[\"Record_ID\"]=range(1,len(Waterfall_Fran)+1)"
   ]
  },
  {
   "cell_type": "code",
   "execution_count": 640,
   "metadata": {},
   "outputs": [],
   "source": [
    "Waterfall_Fran.to_csv(path_FS+\"promo_waterfall_fran.csv\",index=False)"
   ]
  },
  {
   "cell_type": "markdown",
   "metadata": {},
   "source": [
    "## **Waterfall_Brand**"
   ]
  },
  {
   "cell_type": "code",
   "execution_count": 641,
   "metadata": {},
   "outputs": [],
   "source": [
    "Waterfall_Brand=Waterfall_FS.loc[(Waterfall_FS[\"CP_BRAND\"]!=\"\")]"
   ]
  },
  {
   "cell_type": "code",
   "execution_count": 642,
   "metadata": {},
   "outputs": [],
   "source": [
    "Waterfall_Cat=Waterfall_FS.loc[(Waterfall_FS[\"CP_BRAND\"]==\"\")&(Waterfall_FS[\"CP_FRANCHISE\"]==\"\")&(Waterfall_FS[\"CP_MANUFACTURER\"]==\"\")]"
   ]
  },
  {
   "cell_type": "code",
   "execution_count": 643,
   "metadata": {},
   "outputs": [],
   "source": [
    "Waterfall_Cat_Brand=pd.concat([Waterfall_Cat,Waterfall_Brand],axis=0)"
   ]
  },
  {
   "cell_type": "code",
   "execution_count": 644,
   "metadata": {},
   "outputs": [],
   "source": [
    "Waterfall_Cat_Brand['FCT'] = Waterfall_Cat_Brand['FCT'].astype(Fact_order)\n",
    "\n",
    "Waterfall_Cat_Brand.sort_values(['MKT','PROD','FCT'],inplace=True)"
   ]
  },
  {
   "cell_type": "code",
   "execution_count": 645,
   "metadata": {},
   "outputs": [],
   "source": [
    "Waterfall_Cat_Brand.drop_duplicates(inplace = True)"
   ]
  },
  {
   "cell_type": "code",
   "execution_count": 646,
   "metadata": {},
   "outputs": [],
   "source": [
    "Waterfall_Cat_Brand[\"Record_ID\"]=range(1,len(Waterfall_Cat_Brand)+1)"
   ]
  },
  {
   "cell_type": "code",
   "execution_count": 647,
   "metadata": {},
   "outputs": [],
   "source": [
    "Waterfall_Cat_Brand.to_csv(path_FS+\"promo_waterfall_brand.csv\",index=False)"
   ]
  },
  {
   "cell_type": "code",
   "execution_count": null,
   "metadata": {},
   "outputs": [],
   "source": []
  },
  {
   "cell_type": "code",
   "execution_count": null,
   "metadata": {},
   "outputs": [],
   "source": []
  },
  {
   "cell_type": "markdown",
   "metadata": {},
   "source": [
    "## HHC"
   ]
  },
  {
   "cell_type": "code",
   "execution_count": null,
   "metadata": {},
   "outputs": [],
   "source": []
  },
  {
   "cell_type": "code",
   "execution_count": 648,
   "metadata": {},
   "outputs": [],
   "source": [
    "# path to store Output files\n",
    "\n",
    "path_HHC=\"//falmumapp34/Nielsen Connect Transition & Maintenance (20-SCP-3650)/05. Output Data/5P Output/HHC/\""
   ]
  },
  {
   "cell_type": "code",
   "execution_count": 649,
   "metadata": {},
   "outputs": [],
   "source": [
    "Data_5p_HHC=Data_5p[Data_5p[\"Category\"] == \"HHC\"]"
   ]
  },
  {
   "cell_type": "code",
   "execution_count": 650,
   "metadata": {},
   "outputs": [
    {
     "data": {
      "text/html": [
       "<div>\n",
       "<style scoped>\n",
       "    .dataframe tbody tr th:only-of-type {\n",
       "        vertical-align: middle;\n",
       "    }\n",
       "\n",
       "    .dataframe tbody tr th {\n",
       "        vertical-align: top;\n",
       "    }\n",
       "\n",
       "    .dataframe thead th {\n",
       "        text-align: right;\n",
       "    }\n",
       "</style>\n",
       "<table border=\"1\" class=\"dataframe\">\n",
       "  <thead>\n",
       "    <tr style=\"text-align: right;\">\n",
       "      <th></th>\n",
       "      <th>Markets</th>\n",
       "      <th>ShareBasis</th>\n",
       "      <th>Category</th>\n",
       "      <th>Manufacturer</th>\n",
       "      <th>Franchise</th>\n",
       "      <th>Brand</th>\n",
       "      <th>SubBrand</th>\n",
       "      <th>Products</th>\n",
       "      <th>Facts</th>\n",
       "      <th>FY 2020</th>\n",
       "      <th>...</th>\n",
       "      <th>5 W/E 10/03/20</th>\n",
       "      <th>4 W/E 08/29/20</th>\n",
       "      <th>4 W/E 08/01/20</th>\n",
       "      <th>5 W/E 07/04/20</th>\n",
       "      <th>4 W/E 05/30/20</th>\n",
       "      <th>4 W/E 05/02/20</th>\n",
       "      <th>5 W/E 04/04/20</th>\n",
       "      <th>4 W/E 02/29/20</th>\n",
       "      <th>4 W/E 02/01/20</th>\n",
       "      <th>Key</th>\n",
       "    </tr>\n",
       "  </thead>\n",
       "  <tbody>\n",
       "    <tr>\n",
       "      <th>0</th>\n",
       "      <td>US AOC</td>\n",
       "      <td>ABRASIVE</td>\n",
       "      <td>HHC</td>\n",
       "      <td></td>\n",
       "      <td></td>\n",
       "      <td></td>\n",
       "      <td></td>\n",
       "      <td>ABRASIVE</td>\n",
       "      <td>% $ Any Promo</td>\n",
       "      <td>6.852</td>\n",
       "      <td>...</td>\n",
       "      <td>5.684</td>\n",
       "      <td>5.237</td>\n",
       "      <td>5.397</td>\n",
       "      <td>4.521</td>\n",
       "      <td>5.375</td>\n",
       "      <td>6.757</td>\n",
       "      <td>11.126</td>\n",
       "      <td>8.262</td>\n",
       "      <td>11.107</td>\n",
       "      <td>Total US xAOCABRASIVE</td>\n",
       "    </tr>\n",
       "    <tr>\n",
       "      <th>1</th>\n",
       "      <td>US AOC</td>\n",
       "      <td>ABRASIVE</td>\n",
       "      <td>HHC</td>\n",
       "      <td></td>\n",
       "      <td></td>\n",
       "      <td></td>\n",
       "      <td></td>\n",
       "      <td>ABRASIVE</td>\n",
       "      <td>% $ Any Promo Chg YA</td>\n",
       "      <td>-3.033</td>\n",
       "      <td>...</td>\n",
       "      <td>-1.867</td>\n",
       "      <td>-3.987</td>\n",
       "      <td>-1.106</td>\n",
       "      <td>-5.830</td>\n",
       "      <td>-5.742</td>\n",
       "      <td>-4.454</td>\n",
       "      <td>-2.334</td>\n",
       "      <td>-0.137</td>\n",
       "      <td>2.827</td>\n",
       "      <td>Total US xAOCABRASIVE</td>\n",
       "    </tr>\n",
       "  </tbody>\n",
       "</table>\n",
       "<p>2 rows × 40 columns</p>\n",
       "</div>"
      ],
      "text/plain": [
       "  Markets ShareBasis Category Manufacturer Franchise Brand SubBrand  Products  \\\n",
       "0  US AOC   ABRASIVE      HHC                                        ABRASIVE   \n",
       "1  US AOC   ABRASIVE      HHC                                        ABRASIVE   \n",
       "\n",
       "                  Facts  FY 2020  ...  5 W/E 10/03/20  4 W/E 08/29/20  \\\n",
       "0         % $ Any Promo    6.852  ...           5.684           5.237   \n",
       "1  % $ Any Promo Chg YA   -3.033  ...          -1.867          -3.987   \n",
       "\n",
       "   4 W/E 08/01/20  5 W/E 07/04/20  4 W/E 05/30/20  4 W/E 05/02/20  \\\n",
       "0           5.397           4.521           5.375           6.757   \n",
       "1          -1.106          -5.830          -5.742          -4.454   \n",
       "\n",
       "   5 W/E 04/04/20  4 W/E 02/29/20  4 W/E 02/01/20                    Key  \n",
       "0          11.126           8.262          11.107  Total US xAOCABRASIVE  \n",
       "1          -2.334          -0.137           2.827  Total US xAOCABRASIVE  \n",
       "\n",
       "[2 rows x 40 columns]"
      ]
     },
     "execution_count": 650,
     "metadata": {},
     "output_type": "execute_result"
    }
   ],
   "source": [
    "Data_5p_HHC.head(2)"
   ]
  },
  {
   "cell_type": "code",
   "execution_count": 651,
   "metadata": {},
   "outputs": [
    {
     "data": {
      "text/plain": [
       "{'ABRASIVE', 'APC+WW', 'POUR APC+WW', 'SPRAY', 'WOOD'}"
      ]
     },
     "execution_count": 651,
     "metadata": {},
     "output_type": "execute_result"
    }
   ],
   "source": [
    "set(Data_5p_HHC[\"ShareBasis\"])"
   ]
  },
  {
   "cell_type": "code",
   "execution_count": 652,
   "metadata": {},
   "outputs": [],
   "source": [
    "Data_5p_HHC = Data_5p_HHC[Data_5p_HHC[\"ShareBasis\"] == \"POUR APC+WW\"]"
   ]
  },
  {
   "cell_type": "code",
   "execution_count": 653,
   "metadata": {},
   "outputs": [],
   "source": [
    "Data_5p_HHC[\"ShareBasis\"].replace({\"POUR APC+WW\" : \"POUR\"}, inplace = True)"
   ]
  },
  {
   "cell_type": "code",
   "execution_count": 654,
   "metadata": {},
   "outputs": [],
   "source": [
    "Data_5p_HHC[\"Products\"] = Data_5p_HHC[\"Products\"].str.replace(\"POUR APC+WW\" , \"POUR APC\")\n"
   ]
  },
  {
   "cell_type": "code",
   "execution_count": 655,
   "metadata": {},
   "outputs": [
    {
     "data": {
      "text/plain": [
       "{'POUR'}"
      ]
     },
     "execution_count": 655,
     "metadata": {},
     "output_type": "execute_result"
    }
   ],
   "source": [
    "set(list(Data_5p_HHC[\"ShareBasis\"]))"
   ]
  },
  {
   "cell_type": "markdown",
   "metadata": {},
   "source": [
    "**Filtering HHC Data**"
   ]
  },
  {
   "cell_type": "code",
   "execution_count": 656,
   "metadata": {},
   "outputs": [],
   "source": [
    "#Data_5p_HHC=Data_5p.loc[Data_5p[\"ShareBasis\"].isin([\"BATTERY+HYBRID\", \"POWER\"])]"
   ]
  },
  {
   "cell_type": "code",
   "execution_count": 657,
   "metadata": {},
   "outputs": [
    {
     "data": {
      "text/plain": [
       "{'Ahold',\n",
       " 'Alb/Sfy',\n",
       " 'BJs',\n",
       " 'CLUB',\n",
       " 'CVS',\n",
       " 'Dollar General',\n",
       " 'FDM',\n",
       " 'Family Dollar',\n",
       " 'Fiesta',\n",
       " 'Kmart',\n",
       " 'Meijer',\n",
       " 'Publix',\n",
       " 'REGIONAL GROCERY xLA',\n",
       " 'Rite Aid',\n",
       " 'Sams',\n",
       " 'Shoprite',\n",
       " 'Strategic Grocery',\n",
       " 'TOTAL MASS',\n",
       " 'Target',\n",
       " 'US AOC',\n",
       " 'US Drug',\n",
       " 'US Food',\n",
       " 'VDC',\n",
       " 'Walgreens',\n",
       " 'Walmart'}"
      ]
     },
     "execution_count": 657,
     "metadata": {},
     "output_type": "execute_result"
    }
   ],
   "source": [
    "set(Data_5p_HHC[\"Markets\"])"
   ]
  },
  {
   "cell_type": "markdown",
   "metadata": {},
   "source": [
    "## Promotion Data HHC"
   ]
  },
  {
   "cell_type": "code",
   "execution_count": 658,
   "metadata": {},
   "outputs": [],
   "source": [
    "HHC_Promo= Data_5p_HHC.copy()"
   ]
  },
  {
   "cell_type": "code",
   "execution_count": 659,
   "metadata": {},
   "outputs": [
    {
     "data": {
      "text/plain": [
       "set()"
      ]
     },
     "execution_count": 659,
     "metadata": {},
     "output_type": "execute_result"
    }
   ],
   "source": [
    "set(Promo_Facts) - set(HHC_Promo['Facts'])\n"
   ]
  },
  {
   "cell_type": "code",
   "execution_count": 660,
   "metadata": {},
   "outputs": [],
   "source": [
    "Promo_Markets=[\"US AOC\",\"CVS\",\"Dollar General\",\"Family Dollar\",\"Publix\",\"BJs\",\n",
    "         \"Rite Aid\",\"Sams\",\"Target\",\"US Drug\",\"US Food\",\"Walgreens\",\"Walmart\", \"Kmart\", \"Fiesta\"]"
   ]
  },
  {
   "cell_type": "code",
   "execution_count": 661,
   "metadata": {},
   "outputs": [],
   "source": [
    "# Filter Data based on Promo selection\n",
    "HHC_Promo= HHC_Promo[HHC_Promo[\"Facts\"].isin(Promo_Facts)]\n",
    "HHC_Promo= HHC_Promo[HHC_Promo[\"Markets\"].isin(Promo_Markets)]\n",
    "HHC_Promo=HHC_Promo[Promo_Time_Period]"
   ]
  },
  {
   "cell_type": "code",
   "execution_count": 662,
   "metadata": {},
   "outputs": [
    {
     "data": {
      "text/plain": [
       "['Markets',\n",
       " 'Products',\n",
       " 'ShareBasis',\n",
       " 'Category',\n",
       " 'Manufacturer',\n",
       " 'Franchise',\n",
       " 'Brand',\n",
       " 'SubBrand',\n",
       " 'Facts',\n",
       " '4 W/E 02/27/21',\n",
       " 'Latest 13 Weeks',\n",
       " 'Latest 26 Weeks',\n",
       " 'YTD 2021',\n",
       " 'FY 2020',\n",
       " '4 W/E 02/29/20',\n",
       " '5 W/E 04/04/20',\n",
       " '4 W/E 05/02/20',\n",
       " '4 W/E 05/30/20',\n",
       " '5 W/E 07/04/20',\n",
       " '4 W/E 08/01/20',\n",
       " '4 W/E 08/29/20',\n",
       " '5 W/E 10/03/20',\n",
       " '4 W/E 10/31/20',\n",
       " '4 W/E 11/28/20',\n",
       " '5 W/E 01/02/21',\n",
       " '4 W/E 01/30/21']"
      ]
     },
     "execution_count": 662,
     "metadata": {},
     "output_type": "execute_result"
    }
   ],
   "source": [
    "Promo_Time_Period"
   ]
  },
  {
   "cell_type": "code",
   "execution_count": 663,
   "metadata": {},
   "outputs": [
    {
     "name": "stdout",
     "output_type": "stream",
     "text": [
      "15 15\n"
     ]
    }
   ],
   "source": [
    "print(len(Promo_Markets), len(set(HHC_Promo[\"Markets\"])))"
   ]
  },
  {
   "cell_type": "code",
   "execution_count": 664,
   "metadata": {},
   "outputs": [
    {
     "data": {
      "text/plain": [
       "set()"
      ]
     },
     "execution_count": 664,
     "metadata": {},
     "output_type": "execute_result"
    }
   ],
   "source": [
    "set(Promo_Markets) - set(HHC_Promo[\"Markets\"])"
   ]
  },
  {
   "cell_type": "markdown",
   "metadata": {},
   "source": [
    "**Fact Name Change**"
   ]
  },
  {
   "cell_type": "code",
   "execution_count": 665,
   "metadata": {},
   "outputs": [],
   "source": [
    "HHC_Promo[\"Facts\"].replace(Promo_Fact_Mapping,inplace=True)"
   ]
  },
  {
   "cell_type": "code",
   "execution_count": 666,
   "metadata": {
    "scrolled": true
   },
   "outputs": [
    {
     "data": {
      "text/plain": [
       "(23190, 26)"
      ]
     },
     "execution_count": 666,
     "metadata": {},
     "output_type": "execute_result"
    }
   ],
   "source": [
    "HHC_Promo.shape"
   ]
  },
  {
   "cell_type": "markdown",
   "metadata": {},
   "source": [
    "**Column name Change**"
   ]
  },
  {
   "cell_type": "code",
   "execution_count": 667,
   "metadata": {},
   "outputs": [],
   "source": [
    "HHC_Promo[\"CP_CATEGORY\"] = \"HH CLEANERS\""
   ]
  },
  {
   "cell_type": "code",
   "execution_count": 668,
   "metadata": {},
   "outputs": [],
   "source": [
    "HHC_Promo.rename(columns={\"Markets\":\"MKT\",\"ShareBasis\":\"CP_SHARE_BASIS\",\"Products\":\"PROD\",\"Manufacturer\":\"CP_MANUFACTURER\",\n",
    "                                \"Franchise\":\"CP_FRANCHISE\",\"Brand\":\"CP_BRAND\",\"SubBrand\":\"CP_SUBBRAND_VARIANT\",\"Facts\":\"FCT\"},inplace=True)"
   ]
  },
  {
   "cell_type": "code",
   "execution_count": 669,
   "metadata": {},
   "outputs": [
    {
     "data": {
      "text/html": [
       "<div>\n",
       "<style scoped>\n",
       "    .dataframe tbody tr th:only-of-type {\n",
       "        vertical-align: middle;\n",
       "    }\n",
       "\n",
       "    .dataframe tbody tr th {\n",
       "        vertical-align: top;\n",
       "    }\n",
       "\n",
       "    .dataframe thead th {\n",
       "        text-align: right;\n",
       "    }\n",
       "</style>\n",
       "<table border=\"1\" class=\"dataframe\">\n",
       "  <thead>\n",
       "    <tr style=\"text-align: right;\">\n",
       "      <th></th>\n",
       "      <th>MKT</th>\n",
       "      <th>PROD</th>\n",
       "      <th>CP_CATEGORY</th>\n",
       "      <th>CP_SHARE_BASIS</th>\n",
       "      <th>Category</th>\n",
       "      <th>CP_MANUFACTURER</th>\n",
       "      <th>CP_FRANCHISE</th>\n",
       "      <th>CP_BRAND</th>\n",
       "      <th>CP_SUBBRAND_VARIANT</th>\n",
       "      <th>FCT</th>\n",
       "      <th>...</th>\n",
       "      <th>4 W/E 05/02/20</th>\n",
       "      <th>4 W/E 05/30/20</th>\n",
       "      <th>5 W/E 07/04/20</th>\n",
       "      <th>4 W/E 08/01/20</th>\n",
       "      <th>4 W/E 08/29/20</th>\n",
       "      <th>5 W/E 10/03/20</th>\n",
       "      <th>4 W/E 10/31/20</th>\n",
       "      <th>4 W/E 11/28/20</th>\n",
       "      <th>5 W/E 01/02/21</th>\n",
       "      <th>4 W/E 01/30/21</th>\n",
       "    </tr>\n",
       "  </thead>\n",
       "  <tbody>\n",
       "    <tr>\n",
       "      <th>1784306</th>\n",
       "      <td>US AOC</td>\n",
       "      <td>POUR APC+WW</td>\n",
       "      <td>HH CLEANERS</td>\n",
       "      <td>POUR</td>\n",
       "      <td>HHC</td>\n",
       "      <td></td>\n",
       "      <td></td>\n",
       "      <td></td>\n",
       "      <td></td>\n",
       "      <td>% Dollars w/Any Promo</td>\n",
       "      <td>...</td>\n",
       "      <td>8.348</td>\n",
       "      <td>6.954</td>\n",
       "      <td>8.908</td>\n",
       "      <td>9.711</td>\n",
       "      <td>10.851</td>\n",
       "      <td>7.786</td>\n",
       "      <td>7.770</td>\n",
       "      <td>9.059</td>\n",
       "      <td>7.303</td>\n",
       "      <td>7.293</td>\n",
       "    </tr>\n",
       "    <tr>\n",
       "      <th>1784307</th>\n",
       "      <td>US AOC</td>\n",
       "      <td>POUR APC+WW</td>\n",
       "      <td>HH CLEANERS</td>\n",
       "      <td>POUR</td>\n",
       "      <td>HHC</td>\n",
       "      <td></td>\n",
       "      <td></td>\n",
       "      <td></td>\n",
       "      <td></td>\n",
       "      <td>% Dollars w/Any Promo YAG Chg</td>\n",
       "      <td>...</td>\n",
       "      <td>-10.118</td>\n",
       "      <td>-9.243</td>\n",
       "      <td>-8.083</td>\n",
       "      <td>-6.930</td>\n",
       "      <td>-8.201</td>\n",
       "      <td>-8.406</td>\n",
       "      <td>-9.178</td>\n",
       "      <td>-7.625</td>\n",
       "      <td>-5.227</td>\n",
       "      <td>-7.934</td>\n",
       "    </tr>\n",
       "    <tr>\n",
       "      <th>1784308</th>\n",
       "      <td>US AOC</td>\n",
       "      <td>POUR APC+WW</td>\n",
       "      <td>HH CLEANERS</td>\n",
       "      <td>POUR</td>\n",
       "      <td>HHC</td>\n",
       "      <td></td>\n",
       "      <td></td>\n",
       "      <td></td>\n",
       "      <td></td>\n",
       "      <td>% EQ Units w/Any Promo</td>\n",
       "      <td>...</td>\n",
       "      <td>8.349</td>\n",
       "      <td>7.309</td>\n",
       "      <td>9.584</td>\n",
       "      <td>10.592</td>\n",
       "      <td>12.191</td>\n",
       "      <td>7.933</td>\n",
       "      <td>9.100</td>\n",
       "      <td>10.002</td>\n",
       "      <td>7.407</td>\n",
       "      <td>7.815</td>\n",
       "    </tr>\n",
       "  </tbody>\n",
       "</table>\n",
       "<p>3 rows × 27 columns</p>\n",
       "</div>"
      ],
      "text/plain": [
       "            MKT         PROD  CP_CATEGORY CP_SHARE_BASIS Category  \\\n",
       "1784306  US AOC  POUR APC+WW  HH CLEANERS           POUR      HHC   \n",
       "1784307  US AOC  POUR APC+WW  HH CLEANERS           POUR      HHC   \n",
       "1784308  US AOC  POUR APC+WW  HH CLEANERS           POUR      HHC   \n",
       "\n",
       "        CP_MANUFACTURER CP_FRANCHISE CP_BRAND CP_SUBBRAND_VARIANT  \\\n",
       "1784306                                                             \n",
       "1784307                                                             \n",
       "1784308                                                             \n",
       "\n",
       "                                   FCT  ...  4 W/E 05/02/20  4 W/E 05/30/20  \\\n",
       "1784306          % Dollars w/Any Promo  ...           8.348           6.954   \n",
       "1784307  % Dollars w/Any Promo YAG Chg  ...         -10.118          -9.243   \n",
       "1784308         % EQ Units w/Any Promo  ...           8.349           7.309   \n",
       "\n",
       "         5 W/E 07/04/20  4 W/E 08/01/20  4 W/E 08/29/20  5 W/E 10/03/20  \\\n",
       "1784306           8.908           9.711          10.851           7.786   \n",
       "1784307          -8.083          -6.930          -8.201          -8.406   \n",
       "1784308           9.584          10.592          12.191           7.933   \n",
       "\n",
       "         4 W/E 10/31/20  4 W/E 11/28/20  5 W/E 01/02/21  4 W/E 01/30/21  \n",
       "1784306           7.770           9.059           7.303           7.293  \n",
       "1784307          -9.178          -7.625          -5.227          -7.934  \n",
       "1784308           9.100          10.002           7.407           7.815  \n",
       "\n",
       "[3 rows x 27 columns]"
      ]
     },
     "execution_count": 669,
     "metadata": {},
     "output_type": "execute_result"
    }
   ],
   "source": [
    "HHC_Promo = movecol(HHC_Promo, \n",
    "             cols_to_move=['CP_CATEGORY'], \n",
    "             ref_col='PROD',\n",
    "             place='After')\n",
    "HHC_Promo.head(3)"
   ]
  },
  {
   "cell_type": "code",
   "execution_count": 670,
   "metadata": {},
   "outputs": [],
   "source": [
    "#HHC_Promo[\"CP_SHARE_BASIS\"].replace({\"FABRIC SOFTENERS\" : \"TOTAL HHC\"}, inplace = True)"
   ]
  },
  {
   "cell_type": "code",
   "execution_count": 671,
   "metadata": {},
   "outputs": [
    {
     "data": {
      "text/plain": [
       "{'POUR'}"
      ]
     },
     "execution_count": 671,
     "metadata": {},
     "output_type": "execute_result"
    }
   ],
   "source": [
    "set(HHC_Promo[\"CP_SHARE_BASIS\"])\n",
    "#HHC_Promo.head(3)"
   ]
  },
  {
   "cell_type": "code",
   "execution_count": 672,
   "metadata": {},
   "outputs": [
    {
     "data": {
      "text/plain": [
       "Index(['MKT', 'PROD', 'CP_CATEGORY', 'CP_SHARE_BASIS', 'Category',\n",
       "       'CP_MANUFACTURER', 'CP_FRANCHISE', 'CP_BRAND', 'CP_SUBBRAND_VARIANT',\n",
       "       'FCT', '4 W/E 02/27/21', 'Latest 13 Weeks', 'Latest 26 Weeks',\n",
       "       'YTD 2021', 'FY 2020', '4 W/E 02/29/20', '5 W/E 04/04/20',\n",
       "       '4 W/E 05/02/20', '4 W/E 05/30/20', '5 W/E 07/04/20', '4 W/E 08/01/20',\n",
       "       '4 W/E 08/29/20', '5 W/E 10/03/20', '4 W/E 10/31/20', '4 W/E 11/28/20',\n",
       "       '5 W/E 01/02/21', '4 W/E 01/30/21'],\n",
       "      dtype='object')"
      ]
     },
     "execution_count": 672,
     "metadata": {},
     "output_type": "execute_result"
    }
   ],
   "source": [
    "HHC_Promo.columns"
   ]
  },
  {
   "cell_type": "code",
   "execution_count": 673,
   "metadata": {},
   "outputs": [
    {
     "data": {
      "text/html": [
       "<div>\n",
       "<style scoped>\n",
       "    .dataframe tbody tr th:only-of-type {\n",
       "        vertical-align: middle;\n",
       "    }\n",
       "\n",
       "    .dataframe tbody tr th {\n",
       "        vertical-align: top;\n",
       "    }\n",
       "\n",
       "    .dataframe thead th {\n",
       "        text-align: right;\n",
       "    }\n",
       "</style>\n",
       "<table border=\"1\" class=\"dataframe\">\n",
       "  <thead>\n",
       "    <tr style=\"text-align: right;\">\n",
       "      <th></th>\n",
       "      <th>MKT</th>\n",
       "      <th>PROD</th>\n",
       "      <th>CP_CATEGORY</th>\n",
       "      <th>CP_SHARE_BASIS</th>\n",
       "      <th>Category</th>\n",
       "      <th>CP_MANUFACTURER</th>\n",
       "      <th>CP_FRANCHISE</th>\n",
       "      <th>CP_BRAND</th>\n",
       "      <th>CP_SUBBRAND_VARIANT</th>\n",
       "      <th>FCT</th>\n",
       "      <th>...</th>\n",
       "      <th>4 W/E 05/02/20</th>\n",
       "      <th>4 W/E 05/30/20</th>\n",
       "      <th>5 W/E 07/04/20</th>\n",
       "      <th>4 W/E 08/01/20</th>\n",
       "      <th>4 W/E 08/29/20</th>\n",
       "      <th>5 W/E 10/03/20</th>\n",
       "      <th>4 W/E 10/31/20</th>\n",
       "      <th>4 W/E 11/28/20</th>\n",
       "      <th>5 W/E 01/02/21</th>\n",
       "      <th>4 W/E 01/30/21</th>\n",
       "    </tr>\n",
       "  </thead>\n",
       "  <tbody>\n",
       "    <tr>\n",
       "      <th>1784306</th>\n",
       "      <td>US AOC</td>\n",
       "      <td>POUR APC+WW</td>\n",
       "      <td>HH CLEANERS</td>\n",
       "      <td>POUR</td>\n",
       "      <td>HHC</td>\n",
       "      <td></td>\n",
       "      <td></td>\n",
       "      <td></td>\n",
       "      <td></td>\n",
       "      <td>% Dollars w/Any Promo</td>\n",
       "      <td>...</td>\n",
       "      <td>8.348</td>\n",
       "      <td>6.954</td>\n",
       "      <td>8.908</td>\n",
       "      <td>9.711</td>\n",
       "      <td>10.851</td>\n",
       "      <td>7.786</td>\n",
       "      <td>7.770</td>\n",
       "      <td>9.059</td>\n",
       "      <td>7.303</td>\n",
       "      <td>7.293</td>\n",
       "    </tr>\n",
       "    <tr>\n",
       "      <th>1784307</th>\n",
       "      <td>US AOC</td>\n",
       "      <td>POUR APC+WW</td>\n",
       "      <td>HH CLEANERS</td>\n",
       "      <td>POUR</td>\n",
       "      <td>HHC</td>\n",
       "      <td></td>\n",
       "      <td></td>\n",
       "      <td></td>\n",
       "      <td></td>\n",
       "      <td>% Dollars w/Any Promo YAG Chg</td>\n",
       "      <td>...</td>\n",
       "      <td>-10.118</td>\n",
       "      <td>-9.243</td>\n",
       "      <td>-8.083</td>\n",
       "      <td>-6.930</td>\n",
       "      <td>-8.201</td>\n",
       "      <td>-8.406</td>\n",
       "      <td>-9.178</td>\n",
       "      <td>-7.625</td>\n",
       "      <td>-5.227</td>\n",
       "      <td>-7.934</td>\n",
       "    </tr>\n",
       "  </tbody>\n",
       "</table>\n",
       "<p>2 rows × 27 columns</p>\n",
       "</div>"
      ],
      "text/plain": [
       "            MKT         PROD  CP_CATEGORY CP_SHARE_BASIS Category  \\\n",
       "1784306  US AOC  POUR APC+WW  HH CLEANERS           POUR      HHC   \n",
       "1784307  US AOC  POUR APC+WW  HH CLEANERS           POUR      HHC   \n",
       "\n",
       "        CP_MANUFACTURER CP_FRANCHISE CP_BRAND CP_SUBBRAND_VARIANT  \\\n",
       "1784306                                                             \n",
       "1784307                                                             \n",
       "\n",
       "                                   FCT  ...  4 W/E 05/02/20  4 W/E 05/30/20  \\\n",
       "1784306          % Dollars w/Any Promo  ...           8.348           6.954   \n",
       "1784307  % Dollars w/Any Promo YAG Chg  ...         -10.118          -9.243   \n",
       "\n",
       "         5 W/E 07/04/20  4 W/E 08/01/20  4 W/E 08/29/20  5 W/E 10/03/20  \\\n",
       "1784306           8.908           9.711          10.851           7.786   \n",
       "1784307          -8.083          -6.930          -8.201          -8.406   \n",
       "\n",
       "         4 W/E 10/31/20  4 W/E 11/28/20  5 W/E 01/02/21  4 W/E 01/30/21  \n",
       "1784306           7.770           9.059           7.303           7.293  \n",
       "1784307          -9.178          -7.625          -5.227          -7.934  \n",
       "\n",
       "[2 rows x 27 columns]"
      ]
     },
     "execution_count": 673,
     "metadata": {},
     "output_type": "execute_result"
    }
   ],
   "source": [
    "HHC_Promo.head(2)"
   ]
  },
  {
   "cell_type": "code",
   "execution_count": 674,
   "metadata": {
    "scrolled": true
   },
   "outputs": [],
   "source": [
    "# del HHC_Promo[\"ShareBasis\"]\n",
    "del HHC_Promo[\"Category\"]"
   ]
  },
  {
   "cell_type": "code",
   "execution_count": 675,
   "metadata": {},
   "outputs": [],
   "source": [
    "Fact_order = CategoricalDtype(\n",
    "    sorted(list(set(HHC_Promo[\"FCT\"]))), \n",
    "    ordered=True\n",
    ")\n",
    "\n",
    "HHC_Promo['FCT'] = HHC_Promo['FCT'].astype(Fact_order)\n",
    "\n",
    "HHC_Promo.sort_values(['MKT','PROD','FCT'],inplace=True)"
   ]
  },
  {
   "cell_type": "markdown",
   "metadata": {},
   "source": [
    "## **promo_category**"
   ]
  },
  {
   "cell_type": "code",
   "execution_count": 676,
   "metadata": {},
   "outputs": [],
   "source": [
    "promo_category=HHC_Promo.loc[(HHC_Promo[\"CP_SUBBRAND_VARIANT\"]==\"\") & (HHC_Promo[\"CP_BRAND\"]==\"\")&(HHC_Promo[\"CP_FRANCHISE\"]==\"\")&(HHC_Promo[\"CP_MANUFACTURER\"]==\"\")]"
   ]
  },
  {
   "cell_type": "code",
   "execution_count": 677,
   "metadata": {},
   "outputs": [],
   "source": [
    "promo_category.drop_duplicates(inplace = True)"
   ]
  },
  {
   "cell_type": "code",
   "execution_count": 678,
   "metadata": {},
   "outputs": [],
   "source": [
    "length= len(promo_category)\n",
    "promo_category[\"Record_ID\"]=range(1,length+1)"
   ]
  },
  {
   "cell_type": "code",
   "execution_count": 679,
   "metadata": {},
   "outputs": [
    {
     "data": {
      "text/html": [
       "<div>\n",
       "<style scoped>\n",
       "    .dataframe tbody tr th:only-of-type {\n",
       "        vertical-align: middle;\n",
       "    }\n",
       "\n",
       "    .dataframe tbody tr th {\n",
       "        vertical-align: top;\n",
       "    }\n",
       "\n",
       "    .dataframe thead th {\n",
       "        text-align: right;\n",
       "    }\n",
       "</style>\n",
       "<table border=\"1\" class=\"dataframe\">\n",
       "  <thead>\n",
       "    <tr style=\"text-align: right;\">\n",
       "      <th></th>\n",
       "      <th>MKT</th>\n",
       "      <th>PROD</th>\n",
       "      <th>CP_CATEGORY</th>\n",
       "      <th>CP_SHARE_BASIS</th>\n",
       "      <th>CP_MANUFACTURER</th>\n",
       "      <th>CP_FRANCHISE</th>\n",
       "      <th>CP_BRAND</th>\n",
       "      <th>CP_SUBBRAND_VARIANT</th>\n",
       "      <th>FCT</th>\n",
       "      <th>4 W/E 02/27/21</th>\n",
       "      <th>...</th>\n",
       "      <th>4 W/E 05/30/20</th>\n",
       "      <th>5 W/E 07/04/20</th>\n",
       "      <th>4 W/E 08/01/20</th>\n",
       "      <th>4 W/E 08/29/20</th>\n",
       "      <th>5 W/E 10/03/20</th>\n",
       "      <th>4 W/E 10/31/20</th>\n",
       "      <th>4 W/E 11/28/20</th>\n",
       "      <th>5 W/E 01/02/21</th>\n",
       "      <th>4 W/E 01/30/21</th>\n",
       "      <th>Record_ID</th>\n",
       "    </tr>\n",
       "  </thead>\n",
       "  <tbody>\n",
       "    <tr>\n",
       "      <th>1812473</th>\n",
       "      <td>BJs</td>\n",
       "      <td>POUR APC+WW</td>\n",
       "      <td>HH CLEANERS</td>\n",
       "      <td>POUR</td>\n",
       "      <td></td>\n",
       "      <td></td>\n",
       "      <td></td>\n",
       "      <td></td>\n",
       "      <td>$ Share</td>\n",
       "      <td>100.0</td>\n",
       "      <td>...</td>\n",
       "      <td>100.0</td>\n",
       "      <td>100.0</td>\n",
       "      <td>100.0</td>\n",
       "      <td>100.0</td>\n",
       "      <td>100.0</td>\n",
       "      <td>100.0</td>\n",
       "      <td>100.0</td>\n",
       "      <td>100.0</td>\n",
       "      <td>100.0</td>\n",
       "      <td>1</td>\n",
       "    </tr>\n",
       "    <tr>\n",
       "      <th>1812474</th>\n",
       "      <td>BJs</td>\n",
       "      <td>POUR APC+WW</td>\n",
       "      <td>HH CLEANERS</td>\n",
       "      <td>POUR</td>\n",
       "      <td></td>\n",
       "      <td></td>\n",
       "      <td></td>\n",
       "      <td></td>\n",
       "      <td>$ Share YAG Chg</td>\n",
       "      <td>0.0</td>\n",
       "      <td>...</td>\n",
       "      <td>0.0</td>\n",
       "      <td>0.0</td>\n",
       "      <td>0.0</td>\n",
       "      <td>0.0</td>\n",
       "      <td>0.0</td>\n",
       "      <td>0.0</td>\n",
       "      <td>0.0</td>\n",
       "      <td>0.0</td>\n",
       "      <td>0.0</td>\n",
       "      <td>2</td>\n",
       "    </tr>\n",
       "  </tbody>\n",
       "</table>\n",
       "<p>2 rows × 27 columns</p>\n",
       "</div>"
      ],
      "text/plain": [
       "         MKT         PROD  CP_CATEGORY CP_SHARE_BASIS CP_MANUFACTURER  \\\n",
       "1812473  BJs  POUR APC+WW  HH CLEANERS           POUR                   \n",
       "1812474  BJs  POUR APC+WW  HH CLEANERS           POUR                   \n",
       "\n",
       "        CP_FRANCHISE CP_BRAND CP_SUBBRAND_VARIANT              FCT  \\\n",
       "1812473                                                    $ Share   \n",
       "1812474                                            $ Share YAG Chg   \n",
       "\n",
       "         4 W/E 02/27/21  ...  4 W/E 05/30/20  5 W/E 07/04/20  4 W/E 08/01/20  \\\n",
       "1812473           100.0  ...           100.0           100.0           100.0   \n",
       "1812474             0.0  ...             0.0             0.0             0.0   \n",
       "\n",
       "         4 W/E 08/29/20  5 W/E 10/03/20  4 W/E 10/31/20  4 W/E 11/28/20  \\\n",
       "1812473           100.0           100.0           100.0           100.0   \n",
       "1812474             0.0             0.0             0.0             0.0   \n",
       "\n",
       "         5 W/E 01/02/21  4 W/E 01/30/21  Record_ID  \n",
       "1812473           100.0           100.0          1  \n",
       "1812474             0.0             0.0          2  \n",
       "\n",
       "[2 rows x 27 columns]"
      ]
     },
     "execution_count": 679,
     "metadata": {},
     "output_type": "execute_result"
    }
   ],
   "source": [
    "promo_category.head(2)"
   ]
  },
  {
   "cell_type": "code",
   "execution_count": 680,
   "metadata": {},
   "outputs": [],
   "source": [
    "promo_category.to_csv(path_HHC+\"promo_category.csv\",index=False)"
   ]
  },
  {
   "cell_type": "markdown",
   "metadata": {},
   "source": [
    "## **promo_toplevel**"
   ]
  },
  {
   "cell_type": "code",
   "execution_count": 681,
   "metadata": {},
   "outputs": [],
   "source": [
    "promo_toplevel=HHC_Promo.loc[(HHC_Promo[\"CP_SUBBRAND_VARIANT\"]==\"\") & (HHC_Promo[\"CP_BRAND\"]==\"\")&(HHC_Promo[\"CP_FRANCHISE\"]==\"\")&(HHC_Promo[\"CP_MANUFACTURER\"]!=\"\")]"
   ]
  },
  {
   "cell_type": "code",
   "execution_count": 682,
   "metadata": {},
   "outputs": [],
   "source": [
    "# Blank row 0th position\n",
    "df1=pd.DataFrame([[np.nan]*len(promo_toplevel.columns)],columns=promo_toplevel.columns)\n",
    "promo_toplevel=df1.append(promo_toplevel,ignore_index=True)"
   ]
  },
  {
   "cell_type": "code",
   "execution_count": 683,
   "metadata": {},
   "outputs": [],
   "source": [
    "promo_toplevel.drop_duplicates(inplace = True)"
   ]
  },
  {
   "cell_type": "code",
   "execution_count": 684,
   "metadata": {},
   "outputs": [],
   "source": [
    "length= len(promo_toplevel)\n",
    "promo_toplevel[\"Record_ID\"]=range(1,length+1)"
   ]
  },
  {
   "cell_type": "code",
   "execution_count": 685,
   "metadata": {},
   "outputs": [],
   "source": [
    "promo_toplevel.to_csv(path_HHC+\"promo_toplevel.csv\",index=False)"
   ]
  },
  {
   "cell_type": "markdown",
   "metadata": {},
   "source": [
    "## **promo_franchise**"
   ]
  },
  {
   "cell_type": "code",
   "execution_count": 686,
   "metadata": {},
   "outputs": [],
   "source": [
    "promo_franchise=HHC_Promo.loc[(HHC_Promo[\"CP_SUBBRAND_VARIANT\"]==\"\") & (HHC_Promo[\"CP_BRAND\"]==\"\")&(HHC_Promo[\"CP_FRANCHISE\"]!=\"\")]"
   ]
  },
  {
   "cell_type": "code",
   "execution_count": 687,
   "metadata": {},
   "outputs": [],
   "source": [
    "promo_franchise.drop_duplicates(inplace = True)"
   ]
  },
  {
   "cell_type": "code",
   "execution_count": 688,
   "metadata": {},
   "outputs": [],
   "source": [
    "length= len(promo_franchise)\n",
    "promo_franchise[\"Record_ID\"]=range(1,length+1)"
   ]
  },
  {
   "cell_type": "code",
   "execution_count": 689,
   "metadata": {},
   "outputs": [],
   "source": [
    "promo_franchise.to_csv(path_HHC+\"promo_franchise.csv\",index=False)"
   ]
  },
  {
   "cell_type": "markdown",
   "metadata": {},
   "source": [
    "## **promo_brand_promo**"
   ]
  },
  {
   "cell_type": "code",
   "execution_count": 690,
   "metadata": {},
   "outputs": [],
   "source": [
    "promo_brand_promo=HHC_Promo.loc[(HHC_Promo[\"CP_SUBBRAND_VARIANT\"]==\"\") & (HHC_Promo[\"CP_BRAND\"]!=\"\")]"
   ]
  },
  {
   "cell_type": "code",
   "execution_count": 691,
   "metadata": {},
   "outputs": [],
   "source": [
    "promo_brand_promo.drop_duplicates(inplace = True)"
   ]
  },
  {
   "cell_type": "code",
   "execution_count": 692,
   "metadata": {},
   "outputs": [],
   "source": [
    "length= len(promo_brand_promo)\n",
    "promo_brand_promo[\"Record_ID\"]=range(1,length+1)"
   ]
  },
  {
   "cell_type": "code",
   "execution_count": 693,
   "metadata": {},
   "outputs": [],
   "source": [
    "promo_brand_promo.to_csv(path_HHC+\"promo_brand_promo.csv\",index=False)"
   ]
  },
  {
   "cell_type": "markdown",
   "metadata": {},
   "source": [
    "## **promo_subbrand_promo**"
   ]
  },
  {
   "cell_type": "code",
   "execution_count": 694,
   "metadata": {},
   "outputs": [],
   "source": [
    "promo_subbrand_promo=HHC_Promo.loc[(HHC_Promo[\"CP_SUBBRAND_VARIANT\"]!=\"\")]"
   ]
  },
  {
   "cell_type": "code",
   "execution_count": 695,
   "metadata": {},
   "outputs": [],
   "source": [
    "promo_subbrand_promo.drop_duplicates(inplace = True)"
   ]
  },
  {
   "cell_type": "code",
   "execution_count": 696,
   "metadata": {},
   "outputs": [],
   "source": [
    "length= len(promo_subbrand_promo)\n",
    "promo_subbrand_promo[\"Record_ID\"]=range(1,length+1)"
   ]
  },
  {
   "cell_type": "code",
   "execution_count": 697,
   "metadata": {},
   "outputs": [],
   "source": [
    "promo_subbrand_promo.to_csv(path_HHC+\"promo_subbrand_promo.csv\",index=False)"
   ]
  },
  {
   "cell_type": "code",
   "execution_count": null,
   "metadata": {},
   "outputs": [],
   "source": []
  },
  {
   "cell_type": "code",
   "execution_count": null,
   "metadata": {},
   "outputs": [],
   "source": []
  },
  {
   "cell_type": "markdown",
   "metadata": {},
   "source": [
    "## Waterfall"
   ]
  },
  {
   "cell_type": "code",
   "execution_count": 698,
   "metadata": {},
   "outputs": [],
   "source": [
    "Waterfall_HHC=Data_5p_HHC.copy()"
   ]
  },
  {
   "cell_type": "code",
   "execution_count": 699,
   "metadata": {},
   "outputs": [
    {
     "data": {
      "text/plain": [
       "{'Ahold',\n",
       " 'Alb/Sfy',\n",
       " 'BJs',\n",
       " 'CLUB',\n",
       " 'CVS',\n",
       " 'Dollar General',\n",
       " 'FDM',\n",
       " 'Family Dollar',\n",
       " 'Fiesta',\n",
       " 'Kmart',\n",
       " 'Meijer',\n",
       " 'Publix',\n",
       " 'REGIONAL GROCERY xLA',\n",
       " 'Rite Aid',\n",
       " 'Sams',\n",
       " 'Shoprite',\n",
       " 'Strategic Grocery',\n",
       " 'TOTAL MASS',\n",
       " 'Target',\n",
       " 'US AOC',\n",
       " 'US Drug',\n",
       " 'US Food',\n",
       " 'VDC',\n",
       " 'Walgreens',\n",
       " 'Walmart'}"
      ]
     },
     "execution_count": 699,
     "metadata": {},
     "output_type": "execute_result"
    }
   ],
   "source": [
    "set(Waterfall_HHC['Markets'])"
   ]
  },
  {
   "cell_type": "code",
   "execution_count": 700,
   "metadata": {},
   "outputs": [],
   "source": [
    "Waterfall_Markets=[\"TOTAL US XAOC\",\"TOTAL US DRUG\",\"TOTAL US FOOD\",\"TOTAL WALMART TOTAL US CTA\",\"TARGET TOTAL BM/FF CENSUS TA\",\n",
    "         \"WALGREENS CORP TOTAL CENSUS TA\",\"RITE AID - TOTAL CENSUS TA\",\n",
    "         \"PUBLIX TOTAL CENSUS TRADING AREA\",\"FAMILY DOLLAR TOTAL CENSUS TRADING AREA\",\"DOL GEN TOTAL CENSUS TA\",\n",
    "         \"CVS TOTAL CORP WO HI CENSUS TA\",\"Fiesta Total TA\",\"Kmart Total TA\",\n",
    "                   \"SAMS TOTAL CENSUS TRADING AREA\",\"BJS TOTAL CENSUS TA\" ]"
   ]
  },
  {
   "cell_type": "markdown",
   "metadata": {},
   "source": [
    "**Market Mapping**"
   ]
  },
  {
   "cell_type": "code",
   "execution_count": 701,
   "metadata": {},
   "outputs": [
    {
     "data": {
      "text/plain": [
       "{'Ahold',\n",
       " 'Alb/Sfy',\n",
       " 'BJs',\n",
       " 'CLUB',\n",
       " 'CVS',\n",
       " 'Dollar General',\n",
       " 'FDM',\n",
       " 'Family Dollar',\n",
       " 'Fiesta',\n",
       " 'Kmart',\n",
       " 'Meijer',\n",
       " 'Publix',\n",
       " 'REGIONAL GROCERY xLA',\n",
       " 'Rite Aid',\n",
       " 'Sams',\n",
       " 'Shoprite',\n",
       " 'Strategic Grocery',\n",
       " 'TOTAL MASS',\n",
       " 'Target',\n",
       " 'US AOC',\n",
       " 'US Drug',\n",
       " 'US Food',\n",
       " 'VDC',\n",
       " 'Walgreens',\n",
       " 'Walmart'}"
      ]
     },
     "execution_count": 701,
     "metadata": {},
     "output_type": "execute_result"
    }
   ],
   "source": [
    "set(Waterfall_HHC[\"Markets\"])"
   ]
  },
  {
   "cell_type": "code",
   "execution_count": 702,
   "metadata": {},
   "outputs": [],
   "source": [
    "Waterfall_HHC[\"Markets\"].replace(Waterfall_Market_Mapping,inplace=True)"
   ]
  },
  {
   "cell_type": "code",
   "execution_count": 703,
   "metadata": {},
   "outputs": [],
   "source": [
    "Waterfall_HHC[\"Products\"] = Waterfall_HHC[\"Products\"].str.replace(\"POUR APC+WW\" , \"POUR APC\")"
   ]
  },
  {
   "cell_type": "code",
   "execution_count": 704,
   "metadata": {},
   "outputs": [
    {
     "data": {
      "text/plain": [
       "{'POUR APC+WW',\n",
       " 'POUR APC+WW | ALEN',\n",
       " 'POUR APC+WW | ALEN | ALEN REM',\n",
       " 'POUR APC+WW | ALEN | ALEN REM | ALEN REM',\n",
       " 'POUR APC+WW | ALEN | ALEN REM | ALEN REM | REM SUBBRAND VARIANT',\n",
       " 'POUR APC+WW | ALEN | FLASH',\n",
       " 'POUR APC+WW | ALEN | FLASH | FLASH',\n",
       " 'POUR APC+WW | ALEN | FLASH | FLASH | FLASH LAVENDER',\n",
       " 'POUR APC+WW | ALEN | FLASH | FLASH | REM SUBBRAND VARIANT',\n",
       " 'POUR APC+WW | ALEN | PINALEN',\n",
       " 'POUR APC+WW | ALEN | PINALEN | PINALEN',\n",
       " 'POUR APC+WW | ALEN | PINALEN | PINALEN | PINALEN FLORAL',\n",
       " 'POUR APC+WW | ALEN | PINALEN | PINALEN | PINALEN FRUIT BLOSSOM',\n",
       " 'POUR APC+WW | ALEN | PINALEN | PINALEN | PINALEN LAVENDER',\n",
       " 'POUR APC+WW | ALEN | PINALEN | PINALEN | PINALEN LEMON',\n",
       " 'POUR APC+WW | ALEN | PINALEN | PINALEN | PINALEN OCEAN BREEZE',\n",
       " 'POUR APC+WW | ALEN | PINALEN | PINALEN | REM SUBBRAND VARIANT',\n",
       " 'POUR APC+WW | ALEN | XTRA',\n",
       " 'POUR APC+WW | ALEN | XTRA | XTRA',\n",
       " 'POUR APC+WW | ALEN | XTRA | XTRA | REM SUBBRAND VARIANT',\n",
       " 'POUR APC+WW | BONA',\n",
       " 'POUR APC+WW | BONA | BONA',\n",
       " 'POUR APC+WW | BONA | BONA | BONA HARDWOOD FLOOR CLNR',\n",
       " 'POUR APC+WW | BONA | BONA | BONA HARDWOOD FLOOR CLNR | BONA HW FLOOR CLNR POUR',\n",
       " 'POUR APC+WW | BONA | BONA | BONA STONE TILE LMNT CLNR',\n",
       " 'POUR APC+WW | BONA | BONA | BONA STONE TILE LMNT CLNR | BONA STN TILE LMNT CLNR POUR',\n",
       " 'POUR APC+WW | CLOROX',\n",
       " 'POUR APC+WW | CLOROX | CLOROX',\n",
       " 'POUR APC+WW | CLOROX | CLOROX REM',\n",
       " 'POUR APC+WW | CLOROX | CLOROX REM | CLOROX REM BRAND',\n",
       " 'POUR APC+WW | CLOROX | CLOROX REM | CLOROX REM BRAND | REM SUBBRAND VARIANT',\n",
       " 'POUR APC+WW | CLOROX | CLOROX | CLOROX ALL PURP',\n",
       " 'POUR APC+WW | CLOROX | CLOROX | CLOROX ALL PURP | REM SUBBRAND VARIANT',\n",
       " 'POUR APC+WW | CLOROX | CLOROX | CLOROX CLEAN UP',\n",
       " 'POUR APC+WW | CLOROX | CLOROX | CLOROX CLEAN UP | REM SUBBRAND VARIANT',\n",
       " 'POUR APC+WW | CLOROX | CLOROX | CLOROX FRAGANZIA',\n",
       " 'POUR APC+WW | CLOROX | CLOROX | CLOROX FRAGANZIA | CLOROX FRAGANZIA MORNING SKY',\n",
       " 'POUR APC+WW | CLOROX | CLOROX | CLOROX FRAGANZIA | CLOROX FRAGANZIA SPRING',\n",
       " 'POUR APC+WW | CLOROX | FORMULA 409',\n",
       " 'POUR APC+WW | CLOROX | FORMULA 409 | FORMULA 409',\n",
       " 'POUR APC+WW | CLOROX | FORMULA 409 | FORMULA 409 | FORMULA 409 ORIG',\n",
       " 'POUR APC+WW | CLOROX | PINE SOL',\n",
       " 'POUR APC+WW | CLOROX | PINE SOL | PINE-SOL',\n",
       " 'POUR APC+WW | CLOROX | PINE SOL | PINE-SOL | PINE SOL LAVENDER',\n",
       " 'POUR APC+WW | CLOROX | PINE SOL | PINE-SOL | PINE SOL LEMON',\n",
       " 'POUR APC+WW | CLOROX | PINE SOL | PINE-SOL | PINE SOL ORANGE ENERGY',\n",
       " 'POUR APC+WW | CLOROX | PINE SOL | PINE-SOL | PINE SOL PINE/ORIG',\n",
       " 'POUR APC+WW | CLOROX | PINE SOL | PINE-SOL | PINE SOL RAIN CLEAN',\n",
       " 'POUR APC+WW | CLOROX | PINE SOL | PINE-SOL | PINE SOL SPARKLING WAVE',\n",
       " 'POUR APC+WW | CLOROX | PINE SOL | PINE-SOL | PINE SOL TROPICAL FLOWERS',\n",
       " 'POUR APC+WW | COLGATE-PALMOLIVE',\n",
       " 'POUR APC+WW | COLGATE-PALMOLIVE | AJAX US',\n",
       " 'POUR APC+WW | COLGATE-PALMOLIVE | AJAX US | AJAX MULTI PURPOSE',\n",
       " 'POUR APC+WW | COLGATE-PALMOLIVE | AJAX US | AJAX MULTI PURPOSE | AJAX MLTI PRPS LIME BKNG SODA',\n",
       " 'POUR APC+WW | COLGATE-PALMOLIVE | AJAX US | AJAX MULTI PURPOSE | AJAX MLTI PRPS ORANGE',\n",
       " 'POUR APC+WW | COLGATE-PALMOLIVE | FABULOSO IMPORT',\n",
       " 'POUR APC+WW | COLGATE-PALMOLIVE | FABULOSO IMPORT | FABULOSO IMPORT',\n",
       " 'POUR APC+WW | COLGATE-PALMOLIVE | FABULOSO IMPORT | FABULOSO IMPORT | REM SUBBRAND VARIANT',\n",
       " 'POUR APC+WW | COLGATE-PALMOLIVE | FABULOSO US',\n",
       " 'POUR APC+WW | COLGATE-PALMOLIVE | FABULOSO US | FABULOSO ANTIBACTERIAL',\n",
       " 'POUR APC+WW | COLGATE-PALMOLIVE | FABULOSO US | FABULOSO ANTIBACTERIAL | FABULOSO ANTIBAC SPRKLNG CTRS',\n",
       " 'POUR APC+WW | COLGATE-PALMOLIVE | FABULOSO US | FABULOSO BASE',\n",
       " 'POUR APC+WW | COLGATE-PALMOLIVE | FABULOSO US | FABULOSO BASE | FABULOSO BSE APPLE VINEGAR',\n",
       " 'POUR APC+WW | COLGATE-PALMOLIVE | FABULOSO US | FABULOSO BASE | FABULOSO BSE BKNG SD CITRS',\n",
       " 'POUR APC+WW | COLGATE-PALMOLIVE | FABULOSO US | FABULOSO BASE | FABULOSO BSE BKNG SD ORANGE',\n",
       " 'POUR APC+WW | COLGATE-PALMOLIVE | FABULOSO US | FABULOSO BASE | FABULOSO BSE LAVENDER',\n",
       " 'POUR APC+WW | COLGATE-PALMOLIVE | FABULOSO US | FABULOSO BASE | FABULOSO BSE OCEAN PARADISE',\n",
       " 'POUR APC+WW | COLGATE-PALMOLIVE | FABULOSO US | FABULOSO BASE | FABULOSO BSE PASSION OF FRUITS',\n",
       " 'POUR APC+WW | COLGATE-PALMOLIVE | FABULOSO US | FABULOSO BASE | FABULOSO BSE REFRESHING LEMON',\n",
       " 'POUR APC+WW | COLGATE-PALMOLIVE | FABULOSO US | FABULOSO BASE | FABULOSO BSE SPRING IN BLOOM',\n",
       " 'POUR APC+WW | COLGATE-PALMOLIVE | FABULOSO US | FABULOSO BASE | FABULOSO MAXIMUM CLEAN FRESH',\n",
       " 'POUR APC+WW | COLGATE-PALMOLIVE | FABULOSO US | FABULOSO BASE | FABULOSO W/BLEACH ALT SPRNG FR',\n",
       " 'POUR APC+WW | COLGATE-PALMOLIVE | FABULOSO US | FABULOSO COMPLETE',\n",
       " 'POUR APC+WW | COLGATE-PALMOLIVE | FABULOSO US | FABULOSO COMPLETE | FABULOSO COMPLETE COOL MIST',\n",
       " 'POUR APC+WW | COLGATE-PALMOLIVE | FABULOSO US | FABULOSO COMPLETE | FABULOSO COMPLETE FLORAL BURST',\n",
       " 'POUR APC+WW | COLGATE-PALMOLIVE | FABULOSO US | FABULOSO COMPLETE | FABULOSO COMPLETE FRESH BLAST',\n",
       " 'POUR APC+WW | COLGATE-PALMOLIVE | FABULOSO US | FABULOSO COMPLETE | FABULOSO COMPLETE SPRKLNG CTRS',\n",
       " 'POUR APC+WW | COLGATE-PALMOLIVE | FABULOSO US | FABULOSO PROFESSIONAL',\n",
       " 'POUR APC+WW | COLGATE-PALMOLIVE | FABULOSO US | FABULOSO PROFESSIONAL | FABULOSO PROFESSIONAL LAVENDER',\n",
       " \"POUR APC+WW | COLGATE-PALMOLIVE | MURPHY'S\",\n",
       " \"POUR APC+WW | COLGATE-PALMOLIVE | MURPHY'S | MURPHY'S ORIG\",\n",
       " \"POUR APC+WW | COLGATE-PALMOLIVE | MURPHY'S | MURPHY'S ORIG | MURPHY'S ORIG POUR\",\n",
       " \"POUR APC+WW | COLGATE-PALMOLIVE | MURPHY'S | MURPHY'S PROFESSIONAL\",\n",
       " \"POUR APC+WW | COLGATE-PALMOLIVE | MURPHY'S | MURPHY'S PROFESSIONAL | MURPHY'S PROFESSIONAL ORG POUR\",\n",
       " 'POUR APC+WW | P&G',\n",
       " 'POUR APC+WW | P&G | MR CLEAN',\n",
       " 'POUR APC+WW | P&G | MR CLEAN | MR CLEAN',\n",
       " 'POUR APC+WW | P&G | MR CLEAN | MR CLEAN ANTIBACTERIAL',\n",
       " 'POUR APC+WW | P&G | MR CLEAN | MR CLEAN ANTIBACTERIAL | MR CLEAN AB SUMMER CITRUS',\n",
       " 'POUR APC+WW | P&G | MR CLEAN | MR CLEAN PROFESSIONAL',\n",
       " 'POUR APC+WW | P&G | MR CLEAN | MR CLEAN PROFESSIONAL | REM SUBBRAND VARIANT',\n",
       " 'POUR APC+WW | P&G | MR CLEAN | MR CLEAN W/ FEBREZE',\n",
       " 'POUR APC+WW | P&G | MR CLEAN | MR CLEAN W/ FEBREZE | MR CLEAN W/FEBRZ LINEN & SKY',\n",
       " 'POUR APC+WW | P&G | MR CLEAN | MR CLEAN W/ FEBREZE | MR CLEAN W/FEBRZ MEADOWS&RAIN',\n",
       " 'POUR APC+WW | P&G | MR CLEAN | MR CLEAN W/ FEBREZE | MR CLEAN W/FEBRZ PET ODOR DEF',\n",
       " 'POUR APC+WW | P&G | MR CLEAN | MR CLEAN | MR CLEAN MOONLIGHT BREEZE',\n",
       " 'POUR APC+WW | P&G | MR CLEAN | MR CLEAN | MR CLEAN OCEAN WATER SPARKLE',\n",
       " 'POUR APC+WW | P&G | MR CLEAN | MR CLEAN | REM SUBBRAND VARIANT',\n",
       " 'POUR APC+WW | PRVT LBL',\n",
       " 'POUR APC+WW | PRVT LBL | PRVT LBL',\n",
       " 'POUR APC+WW | PRVT LBL | PRVT LBL | PRVT LBL',\n",
       " 'POUR APC+WW | PRVT LBL | PRVT LBL | PRVT LBL | REM SUBBRAND VARIANT',\n",
       " 'POUR APC+WW | RECKITT/BENK',\n",
       " 'POUR APC+WW | RECKITT/BENK | LYSOL',\n",
       " 'POUR APC+WW | RECKITT/BENK | LYSOL | LYSOL ALL PURPOSE',\n",
       " 'POUR APC+WW | RECKITT/BENK | LYSOL | LYSOL ALL PURPOSE | LYSOL ALL PRPS CLN FRS PEONY',\n",
       " 'POUR APC+WW | RECKITT/BENK | LYSOL | LYSOL ALL PURPOSE | LYSOL ALL PRPS CLN FRS SPK LEM',\n",
       " 'POUR APC+WW | RECKITT/BENK | LYSOL | LYSOL ALL PURPOSE | LYSOL ALL PURPOSE ADIRONDK AIR',\n",
       " 'POUR APC+WW | RECKITT/BENK | LYSOL | LYSOL ALL PURPOSE | LYSOL ALL PURPOSE LAVENDR BRZ',\n",
       " 'POUR APC+WW | RECKITT/BENK | LYSOL | LYSOL ALL PURPOSE | LYSOL ALL PURPOSE LEMON',\n",
       " 'POUR APC+WW | RECKITT/BENK | LYSOL | LYSOL ALL PURPOSE | LYSOL ALL PURPOSE PACIFIC FRSH',\n",
       " 'POUR APC+WW | RECKITT/BENK | LYSOL | LYSOL ALL PURPOSE | LYSOL ALL PURPOSE REM SCENT',\n",
       " 'POUR APC+WW | SC JOHNSON',\n",
       " 'POUR APC+WW | SC JOHNSON | MRS MEYERS',\n",
       " 'POUR APC+WW | SC JOHNSON | MRS MEYERS | MRS MEYERS',\n",
       " 'POUR APC+WW | SC JOHNSON | MRS MEYERS | MRS MEYERS | REM SUBBRAND VARIANT',\n",
       " 'POUR APC+WW | SC JOHNSON | PLEDGE',\n",
       " 'POUR APC+WW | SC JOHNSON | PLEDGE | PLEDGE MULTI SRF',\n",
       " 'POUR APC+WW | SC JOHNSON | PLEDGE | PLEDGE MULTI SRF | REM SUBBRAND VARIANT'}"
      ]
     },
     "execution_count": 704,
     "metadata": {},
     "output_type": "execute_result"
    }
   ],
   "source": [
    "set(Waterfall_HHC[\"Products\"])"
   ]
  },
  {
   "cell_type": "code",
   "execution_count": 705,
   "metadata": {},
   "outputs": [
    {
     "data": {
      "text/plain": [
       "Index(['Markets', 'ShareBasis', 'Category', 'Manufacturer', 'Franchise',\n",
       "       'Brand', 'SubBrand', 'Products', 'Facts', 'FY 2020', 'FY 2019',\n",
       "       'FY 2018', 'FY 2017', 'YTD 2021', 'YTD 2020', 'Latest 13 Weeks',\n",
       "       'Latest 26 Weeks', 'Q1 2021', 'Q4 2020', 'Q3 2020', 'Q2 2020',\n",
       "       'Q1 2020', 'Q4 2019', 'Q3 2019', 'Q2 2019', '4 W/E 02/27/21',\n",
       "       '4 W/E 01/30/21', '5 W/E 01/02/21', '4 W/E 11/28/20', '4 W/E 10/31/20',\n",
       "       '5 W/E 10/03/20', '4 W/E 08/29/20', '4 W/E 08/01/20', '5 W/E 07/04/20',\n",
       "       '4 W/E 05/30/20', '4 W/E 05/02/20', '5 W/E 04/04/20', '4 W/E 02/29/20',\n",
       "       '4 W/E 02/01/20', 'Key'],\n",
       "      dtype='object')"
      ]
     },
     "execution_count": 705,
     "metadata": {},
     "output_type": "execute_result"
    }
   ],
   "source": [
    "Waterfall_HHC.columns"
   ]
  },
  {
   "cell_type": "code",
   "execution_count": 706,
   "metadata": {},
   "outputs": [
    {
     "name": "stdout",
     "output_type": "stream",
     "text": [
      "<class 'pandas.core.frame.DataFrame'>\n",
      "Int64Index: 1734266 entries, 0 to 2823236\n",
      "Data columns (total 40 columns):\n",
      " #   Column           Dtype  \n",
      "---  ------           -----  \n",
      " 0   Markets          object \n",
      " 1   ShareBasis       object \n",
      " 2   Category         object \n",
      " 3   Manufacturer     object \n",
      " 4   Franchise        object \n",
      " 5   Brand            object \n",
      " 6   SubBrand         object \n",
      " 7   Products         object \n",
      " 8   Facts            object \n",
      " 9   FY 2020          float64\n",
      " 10  FY 2019          float64\n",
      " 11  FY 2018          float64\n",
      " 12  FY 2017          float64\n",
      " 13  YTD 2021         float64\n",
      " 14  YTD 2020         float64\n",
      " 15  Latest 13 Weeks  float64\n",
      " 16  Latest 26 Weeks  float64\n",
      " 17  Q1 2021          float64\n",
      " 18  Q4 2020          float64\n",
      " 19  Q3 2020          float64\n",
      " 20  Q2 2020          float64\n",
      " 21  Q1 2020          float64\n",
      " 22  Q4 2019          float64\n",
      " 23  Q3 2019          float64\n",
      " 24  Q2 2019          float64\n",
      " 25  4 W/E 02/27/21   float64\n",
      " 26  4 W/E 01/30/21   float64\n",
      " 27  5 W/E 01/02/21   float64\n",
      " 28  4 W/E 11/28/20   float64\n",
      " 29  4 W/E 10/31/20   float64\n",
      " 30  5 W/E 10/03/20   float64\n",
      " 31  4 W/E 08/29/20   float64\n",
      " 32  4 W/E 08/01/20   float64\n",
      " 33  5 W/E 07/04/20   float64\n",
      " 34  4 W/E 05/30/20   float64\n",
      " 35  4 W/E 05/02/20   float64\n",
      " 36  5 W/E 04/04/20   float64\n",
      " 37  4 W/E 02/29/20   float64\n",
      " 38  4 W/E 02/01/20   float64\n",
      " 39  Key              object \n",
      "dtypes: float64(30), object(10)\n",
      "memory usage: 542.5+ MB\n"
     ]
    }
   ],
   "source": [
    "Data_5p.info()"
   ]
  },
  {
   "cell_type": "code",
   "execution_count": 707,
   "metadata": {},
   "outputs": [
    {
     "name": "stdout",
     "output_type": "stream",
     "text": [
      "['Markets', 'ShareBasis', 'Products', 'Manufacturer', 'Franchise', 'Brand', 'SubBrand', 'Facts', 'YTD 2021', 'YTD 2020', '4 W/E 02/27/21', '4 W/E 02/29/20']\n"
     ]
    }
   ],
   "source": [
    "Waterfall_Time_Period_HHC=list(Data_5p.columns[0:2])+list(Data_5p.columns[7:8])+list(Data_5p.columns[3:7])+list(Data_5p.columns[8:9])+list(Data_5p.columns[13:15])+list(Data_5p.columns[25:26])+list(Data_5p.columns[37:38])\n",
    "print(Waterfall_Time_Period_HHC)"
   ]
  },
  {
   "cell_type": "markdown",
   "metadata": {},
   "source": [
    "**Facts, Markets, Time_Period Filter**"
   ]
  },
  {
   "cell_type": "code",
   "execution_count": 708,
   "metadata": {},
   "outputs": [
    {
     "data": {
      "text/plain": [
       "{'AHOLD USA CORP TOTAL CTA',\n",
       " 'ALBSCO Total Company TA',\n",
       " 'BJS TOTAL CENSUS TA',\n",
       " 'CLUB',\n",
       " 'CVS TOTAL CORP WO HI CENSUS TA',\n",
       " 'DOL GEN TOTAL CENSUS TA',\n",
       " 'FAMILY DOLLAR TOTAL CENSUS TRADING AREA',\n",
       " 'FDM',\n",
       " 'Fiesta Total TA',\n",
       " 'Kmart Total TA',\n",
       " 'MEIJER TOTAL CENSUS TRADING AREA',\n",
       " 'PUBLIX TOTAL CENSUS TRADING AREA',\n",
       " 'REGIONAL GROCERY xLA',\n",
       " 'RITE AID - TOTAL CENSUS TA',\n",
       " 'SAMS TOTAL CENSUS TRADING AREA',\n",
       " 'SHOPRITE TOTAL CENSUS TRADING AREA',\n",
       " 'Strategic Grocery',\n",
       " 'TARGET TOTAL BM/FF CENSUS TA',\n",
       " 'TOTAL MASS',\n",
       " 'TOTAL US DRUG',\n",
       " 'TOTAL US FOOD',\n",
       " 'TOTAL US XAOC',\n",
       " 'TOTAL WALMART TOTAL US CTA',\n",
       " 'VDC',\n",
       " 'WALGREENS CORP TOTAL CENSUS TA'}"
      ]
     },
     "execution_count": 708,
     "metadata": {},
     "output_type": "execute_result"
    }
   ],
   "source": [
    "set(Waterfall_HHC[\"Markets\"])"
   ]
  },
  {
   "cell_type": "code",
   "execution_count": 709,
   "metadata": {},
   "outputs": [],
   "source": [
    "Waterfall_HHC= Waterfall_HHC[Waterfall_HHC[\"Facts\"].isin(Waterfall_Facts)]\n",
    "Waterfall_HHC= Waterfall_HHC[Waterfall_HHC[\"Markets\"].isin(Waterfall_Markets)]\n",
    "Waterfall_HHC=Waterfall_HHC[Waterfall_Time_Period_HHC]"
   ]
  },
  {
   "cell_type": "code",
   "execution_count": 710,
   "metadata": {
    "scrolled": true
   },
   "outputs": [
    {
     "name": "stdout",
     "output_type": "stream",
     "text": [
      "15 15\n"
     ]
    }
   ],
   "source": [
    "print(len(Waterfall_Markets), len(set(Waterfall_HHC[\"Markets\"])))"
   ]
  },
  {
   "cell_type": "code",
   "execution_count": 711,
   "metadata": {},
   "outputs": [
    {
     "data": {
      "text/plain": [
       "set()"
      ]
     },
     "execution_count": 711,
     "metadata": {},
     "output_type": "execute_result"
    }
   ],
   "source": [
    "set(Waterfall_Markets)-set(Waterfall_HHC[\"Markets\"])"
   ]
  },
  {
   "cell_type": "code",
   "execution_count": 712,
   "metadata": {
    "scrolled": true
   },
   "outputs": [
    {
     "data": {
      "text/html": [
       "<div>\n",
       "<style scoped>\n",
       "    .dataframe tbody tr th:only-of-type {\n",
       "        vertical-align: middle;\n",
       "    }\n",
       "\n",
       "    .dataframe tbody tr th {\n",
       "        vertical-align: top;\n",
       "    }\n",
       "\n",
       "    .dataframe thead th {\n",
       "        text-align: right;\n",
       "    }\n",
       "</style>\n",
       "<table border=\"1\" class=\"dataframe\">\n",
       "  <thead>\n",
       "    <tr style=\"text-align: right;\">\n",
       "      <th></th>\n",
       "      <th>Markets</th>\n",
       "      <th>ShareBasis</th>\n",
       "      <th>Products</th>\n",
       "      <th>Manufacturer</th>\n",
       "      <th>Franchise</th>\n",
       "      <th>Brand</th>\n",
       "      <th>SubBrand</th>\n",
       "      <th>Facts</th>\n",
       "      <th>YTD 2021</th>\n",
       "      <th>YTD 2020</th>\n",
       "      <th>4 W/E 02/27/21</th>\n",
       "      <th>4 W/E 02/29/20</th>\n",
       "    </tr>\n",
       "  </thead>\n",
       "  <tbody>\n",
       "    <tr>\n",
       "      <th>1784312</th>\n",
       "      <td>TOTAL US XAOC</td>\n",
       "      <td>POUR</td>\n",
       "      <td>POUR APC+WW</td>\n",
       "      <td></td>\n",
       "      <td></td>\n",
       "      <td></td>\n",
       "      <td></td>\n",
       "      <td>$</td>\n",
       "      <td>1.087839e+08</td>\n",
       "      <td>9.613721e+07</td>\n",
       "      <td>5.209000e+07</td>\n",
       "      <td>4.901795e+07</td>\n",
       "    </tr>\n",
       "    <tr>\n",
       "      <th>1784315</th>\n",
       "      <td>TOTAL US XAOC</td>\n",
       "      <td>POUR</td>\n",
       "      <td>POUR APC+WW</td>\n",
       "      <td></td>\n",
       "      <td></td>\n",
       "      <td></td>\n",
       "      <td></td>\n",
       "      <td>$ Shr - CP CATEGORY</td>\n",
       "      <td>1.000000e+02</td>\n",
       "      <td>1.000000e+02</td>\n",
       "      <td>1.000000e+02</td>\n",
       "      <td>1.000000e+02</td>\n",
       "    </tr>\n",
       "  </tbody>\n",
       "</table>\n",
       "</div>"
      ],
      "text/plain": [
       "               Markets ShareBasis     Products Manufacturer Franchise Brand  \\\n",
       "1784312  TOTAL US XAOC       POUR  POUR APC+WW                                \n",
       "1784315  TOTAL US XAOC       POUR  POUR APC+WW                                \n",
       "\n",
       "        SubBrand                Facts      YTD 2021      YTD 2020  \\\n",
       "1784312                             $  1.087839e+08  9.613721e+07   \n",
       "1784315           $ Shr - CP CATEGORY  1.000000e+02  1.000000e+02   \n",
       "\n",
       "         4 W/E 02/27/21  4 W/E 02/29/20  \n",
       "1784312    5.209000e+07    4.901795e+07  \n",
       "1784315    1.000000e+02    1.000000e+02  "
      ]
     },
     "execution_count": 712,
     "metadata": {},
     "output_type": "execute_result"
    }
   ],
   "source": [
    "Waterfall_HHC.head(2)"
   ]
  },
  {
   "cell_type": "markdown",
   "metadata": {},
   "source": [
    "**Column name Change**"
   ]
  },
  {
   "cell_type": "code",
   "execution_count": 713,
   "metadata": {},
   "outputs": [],
   "source": [
    "Waterfall_HHC.rename(columns={\"Markets\":\"MKT\",\"Products\":\"PROD\",\"Manufacturer\":\"CP_MANUFACTURER\",\"ShareBasis\":\"CP_SHARE_BASIS\",\n",
    "                                \"Franchise\":\"CP_FRANCHISE\",\"Brand\":\"CP_BRAND\",\"SubBrand\":\"CP_SUBBRAND_VARIANT\",\"Facts\":\"FCT\"},inplace=True)"
   ]
  },
  {
   "cell_type": "code",
   "execution_count": 714,
   "metadata": {},
   "outputs": [
    {
     "data": {
      "text/plain": [
       "Index(['MKT', 'CP_SHARE_BASIS', 'PROD', 'CP_MANUFACTURER', 'CP_FRANCHISE',\n",
       "       'CP_BRAND', 'CP_SUBBRAND_VARIANT', 'FCT', 'YTD 2021', 'YTD 2020',\n",
       "       '4 W/E 02/27/21', '4 W/E 02/29/20'],\n",
       "      dtype='object')"
      ]
     },
     "execution_count": 714,
     "metadata": {},
     "output_type": "execute_result"
    }
   ],
   "source": [
    "Waterfall_HHC.columns"
   ]
  },
  {
   "cell_type": "code",
   "execution_count": 715,
   "metadata": {},
   "outputs": [],
   "source": [
    "Waterfall_HHC[\"CP_CATEGORY\"] = \"HH CLEANERS\""
   ]
  },
  {
   "cell_type": "code",
   "execution_count": 716,
   "metadata": {
    "scrolled": true
   },
   "outputs": [
    {
     "data": {
      "text/html": [
       "<div>\n",
       "<style scoped>\n",
       "    .dataframe tbody tr th:only-of-type {\n",
       "        vertical-align: middle;\n",
       "    }\n",
       "\n",
       "    .dataframe tbody tr th {\n",
       "        vertical-align: top;\n",
       "    }\n",
       "\n",
       "    .dataframe thead th {\n",
       "        text-align: right;\n",
       "    }\n",
       "</style>\n",
       "<table border=\"1\" class=\"dataframe\">\n",
       "  <thead>\n",
       "    <tr style=\"text-align: right;\">\n",
       "      <th></th>\n",
       "      <th>MKT</th>\n",
       "      <th>CP_SHARE_BASIS</th>\n",
       "      <th>PROD</th>\n",
       "      <th>CP_CATEGORY</th>\n",
       "      <th>CP_MANUFACTURER</th>\n",
       "      <th>CP_FRANCHISE</th>\n",
       "      <th>CP_BRAND</th>\n",
       "      <th>CP_SUBBRAND_VARIANT</th>\n",
       "      <th>FCT</th>\n",
       "      <th>YTD 2021</th>\n",
       "      <th>YTD 2020</th>\n",
       "      <th>4 W/E 02/27/21</th>\n",
       "      <th>4 W/E 02/29/20</th>\n",
       "    </tr>\n",
       "  </thead>\n",
       "  <tbody>\n",
       "    <tr>\n",
       "      <th>1784312</th>\n",
       "      <td>TOTAL US XAOC</td>\n",
       "      <td>POUR</td>\n",
       "      <td>POUR APC+WW</td>\n",
       "      <td>HH CLEANERS</td>\n",
       "      <td></td>\n",
       "      <td></td>\n",
       "      <td></td>\n",
       "      <td></td>\n",
       "      <td>$</td>\n",
       "      <td>1.087839e+08</td>\n",
       "      <td>9.613721e+07</td>\n",
       "      <td>5.209000e+07</td>\n",
       "      <td>4.901795e+07</td>\n",
       "    </tr>\n",
       "    <tr>\n",
       "      <th>1784315</th>\n",
       "      <td>TOTAL US XAOC</td>\n",
       "      <td>POUR</td>\n",
       "      <td>POUR APC+WW</td>\n",
       "      <td>HH CLEANERS</td>\n",
       "      <td></td>\n",
       "      <td></td>\n",
       "      <td></td>\n",
       "      <td></td>\n",
       "      <td>$ Shr - CP CATEGORY</td>\n",
       "      <td>1.000000e+02</td>\n",
       "      <td>1.000000e+02</td>\n",
       "      <td>1.000000e+02</td>\n",
       "      <td>1.000000e+02</td>\n",
       "    </tr>\n",
       "    <tr>\n",
       "      <th>1784336</th>\n",
       "      <td>TOTAL US XAOC</td>\n",
       "      <td>POUR</td>\n",
       "      <td>POUR APC+WW</td>\n",
       "      <td>HH CLEANERS</td>\n",
       "      <td></td>\n",
       "      <td></td>\n",
       "      <td></td>\n",
       "      <td></td>\n",
       "      <td>Base $</td>\n",
       "      <td>1.029793e+08</td>\n",
       "      <td>8.899442e+07</td>\n",
       "      <td>4.961569e+07</td>\n",
       "      <td>4.491058e+07</td>\n",
       "    </tr>\n",
       "  </tbody>\n",
       "</table>\n",
       "</div>"
      ],
      "text/plain": [
       "                   MKT CP_SHARE_BASIS         PROD  CP_CATEGORY  \\\n",
       "1784312  TOTAL US XAOC           POUR  POUR APC+WW  HH CLEANERS   \n",
       "1784315  TOTAL US XAOC           POUR  POUR APC+WW  HH CLEANERS   \n",
       "1784336  TOTAL US XAOC           POUR  POUR APC+WW  HH CLEANERS   \n",
       "\n",
       "        CP_MANUFACTURER CP_FRANCHISE CP_BRAND CP_SUBBRAND_VARIANT  \\\n",
       "1784312                                                             \n",
       "1784315                                                             \n",
       "1784336                                                             \n",
       "\n",
       "                         FCT      YTD 2021      YTD 2020  4 W/E 02/27/21  \\\n",
       "1784312                    $  1.087839e+08  9.613721e+07    5.209000e+07   \n",
       "1784315  $ Shr - CP CATEGORY  1.000000e+02  1.000000e+02    1.000000e+02   \n",
       "1784336               Base $  1.029793e+08  8.899442e+07    4.961569e+07   \n",
       "\n",
       "         4 W/E 02/29/20  \n",
       "1784312    4.901795e+07  \n",
       "1784315    1.000000e+02  \n",
       "1784336    4.491058e+07  "
      ]
     },
     "execution_count": 716,
     "metadata": {},
     "output_type": "execute_result"
    }
   ],
   "source": [
    "Waterfall_HHC = movecol(Waterfall_HHC, \n",
    "             cols_to_move=[\"CP_CATEGORY\"], \n",
    "             ref_col='PROD',\n",
    "             place='After')\n",
    "Waterfall_HHC.head(3)"
   ]
  },
  {
   "cell_type": "code",
   "execution_count": 717,
   "metadata": {},
   "outputs": [
    {
     "data": {
      "text/html": [
       "<div>\n",
       "<style scoped>\n",
       "    .dataframe tbody tr th:only-of-type {\n",
       "        vertical-align: middle;\n",
       "    }\n",
       "\n",
       "    .dataframe tbody tr th {\n",
       "        vertical-align: top;\n",
       "    }\n",
       "\n",
       "    .dataframe thead th {\n",
       "        text-align: right;\n",
       "    }\n",
       "</style>\n",
       "<table border=\"1\" class=\"dataframe\">\n",
       "  <thead>\n",
       "    <tr style=\"text-align: right;\">\n",
       "      <th></th>\n",
       "      <th>CP_SHARE_BASIS</th>\n",
       "      <th>MKT</th>\n",
       "      <th>PROD</th>\n",
       "      <th>CP_CATEGORY</th>\n",
       "      <th>CP_MANUFACTURER</th>\n",
       "      <th>CP_FRANCHISE</th>\n",
       "      <th>CP_BRAND</th>\n",
       "      <th>CP_SUBBRAND_VARIANT</th>\n",
       "      <th>FCT</th>\n",
       "      <th>YTD 2021</th>\n",
       "      <th>YTD 2020</th>\n",
       "      <th>4 W/E 02/27/21</th>\n",
       "      <th>4 W/E 02/29/20</th>\n",
       "    </tr>\n",
       "  </thead>\n",
       "  <tbody>\n",
       "    <tr>\n",
       "      <th>1784312</th>\n",
       "      <td>POUR</td>\n",
       "      <td>TOTAL US XAOC</td>\n",
       "      <td>POUR APC+WW</td>\n",
       "      <td>HH CLEANERS</td>\n",
       "      <td></td>\n",
       "      <td></td>\n",
       "      <td></td>\n",
       "      <td></td>\n",
       "      <td>$</td>\n",
       "      <td>1.087839e+08</td>\n",
       "      <td>9.613721e+07</td>\n",
       "      <td>5.209000e+07</td>\n",
       "      <td>4.901795e+07</td>\n",
       "    </tr>\n",
       "    <tr>\n",
       "      <th>1784315</th>\n",
       "      <td>POUR</td>\n",
       "      <td>TOTAL US XAOC</td>\n",
       "      <td>POUR APC+WW</td>\n",
       "      <td>HH CLEANERS</td>\n",
       "      <td></td>\n",
       "      <td></td>\n",
       "      <td></td>\n",
       "      <td></td>\n",
       "      <td>$ Shr - CP CATEGORY</td>\n",
       "      <td>1.000000e+02</td>\n",
       "      <td>1.000000e+02</td>\n",
       "      <td>1.000000e+02</td>\n",
       "      <td>1.000000e+02</td>\n",
       "    </tr>\n",
       "    <tr>\n",
       "      <th>1784336</th>\n",
       "      <td>POUR</td>\n",
       "      <td>TOTAL US XAOC</td>\n",
       "      <td>POUR APC+WW</td>\n",
       "      <td>HH CLEANERS</td>\n",
       "      <td></td>\n",
       "      <td></td>\n",
       "      <td></td>\n",
       "      <td></td>\n",
       "      <td>Base $</td>\n",
       "      <td>1.029793e+08</td>\n",
       "      <td>8.899442e+07</td>\n",
       "      <td>4.961569e+07</td>\n",
       "      <td>4.491058e+07</td>\n",
       "    </tr>\n",
       "  </tbody>\n",
       "</table>\n",
       "</div>"
      ],
      "text/plain": [
       "        CP_SHARE_BASIS            MKT         PROD  CP_CATEGORY  \\\n",
       "1784312           POUR  TOTAL US XAOC  POUR APC+WW  HH CLEANERS   \n",
       "1784315           POUR  TOTAL US XAOC  POUR APC+WW  HH CLEANERS   \n",
       "1784336           POUR  TOTAL US XAOC  POUR APC+WW  HH CLEANERS   \n",
       "\n",
       "        CP_MANUFACTURER CP_FRANCHISE CP_BRAND CP_SUBBRAND_VARIANT  \\\n",
       "1784312                                                             \n",
       "1784315                                                             \n",
       "1784336                                                             \n",
       "\n",
       "                         FCT      YTD 2021      YTD 2020  4 W/E 02/27/21  \\\n",
       "1784312                    $  1.087839e+08  9.613721e+07    5.209000e+07   \n",
       "1784315  $ Shr - CP CATEGORY  1.000000e+02  1.000000e+02    1.000000e+02   \n",
       "1784336               Base $  1.029793e+08  8.899442e+07    4.961569e+07   \n",
       "\n",
       "         4 W/E 02/29/20  \n",
       "1784312    4.901795e+07  \n",
       "1784315    1.000000e+02  \n",
       "1784336    4.491058e+07  "
      ]
     },
     "execution_count": 717,
     "metadata": {},
     "output_type": "execute_result"
    }
   ],
   "source": [
    "Waterfall_HHC = movecol(Waterfall_HHC, \n",
    "             cols_to_move=[\"CP_SHARE_BASIS\"], \n",
    "             ref_col='MKT',\n",
    "             place='Before')\n",
    "Waterfall_HHC.head(3)"
   ]
  },
  {
   "cell_type": "code",
   "execution_count": 718,
   "metadata": {},
   "outputs": [
    {
     "data": {
      "text/plain": [
       "Index(['CP_SHARE_BASIS', 'MKT', 'PROD', 'CP_CATEGORY', 'CP_MANUFACTURER',\n",
       "       'CP_FRANCHISE', 'CP_BRAND', 'CP_SUBBRAND_VARIANT', 'FCT', 'YTD 2021',\n",
       "       'YTD 2020', '4 W/E 02/27/21', '4 W/E 02/29/20'],\n",
       "      dtype='object')"
      ]
     },
     "execution_count": 718,
     "metadata": {},
     "output_type": "execute_result"
    }
   ],
   "source": [
    "Waterfall_HHC.columns"
   ]
  },
  {
   "cell_type": "code",
   "execution_count": 719,
   "metadata": {},
   "outputs": [],
   "source": [
    "lst = Waterfall_HHC[\"CP_SHARE_BASIS\"]\n",
    "del Waterfall_HHC[\"CP_SHARE_BASIS\"]\n",
    "Waterfall_HHC[\"CP_SHARE_BASIS\"] = lst"
   ]
  },
  {
   "cell_type": "code",
   "execution_count": 720,
   "metadata": {},
   "outputs": [
    {
     "data": {
      "text/plain": [
       "{'POUR'}"
      ]
     },
     "execution_count": 720,
     "metadata": {},
     "output_type": "execute_result"
    }
   ],
   "source": [
    "set(Waterfall_HHC[\"CP_SHARE_BASIS\"])"
   ]
  },
  {
   "cell_type": "code",
   "execution_count": 721,
   "metadata": {},
   "outputs": [],
   "source": [
    "#Waterfall_HHC[\"CP_SHARE_BASIS\"].replace({\"FABRIC SOFTENERS\" : \"TOTAL HHC\"}, inplace = True)"
   ]
  },
  {
   "cell_type": "code",
   "execution_count": 722,
   "metadata": {},
   "outputs": [
    {
     "data": {
      "text/html": [
       "<div>\n",
       "<style scoped>\n",
       "    .dataframe tbody tr th:only-of-type {\n",
       "        vertical-align: middle;\n",
       "    }\n",
       "\n",
       "    .dataframe tbody tr th {\n",
       "        vertical-align: top;\n",
       "    }\n",
       "\n",
       "    .dataframe thead th {\n",
       "        text-align: right;\n",
       "    }\n",
       "</style>\n",
       "<table border=\"1\" class=\"dataframe\">\n",
       "  <thead>\n",
       "    <tr style=\"text-align: right;\">\n",
       "      <th></th>\n",
       "      <th>MKT</th>\n",
       "      <th>PROD</th>\n",
       "      <th>CP_CATEGORY</th>\n",
       "      <th>CP_MANUFACTURER</th>\n",
       "      <th>CP_FRANCHISE</th>\n",
       "      <th>CP_BRAND</th>\n",
       "      <th>CP_SUBBRAND_VARIANT</th>\n",
       "      <th>FCT</th>\n",
       "      <th>YTD 2021</th>\n",
       "      <th>YTD 2020</th>\n",
       "      <th>4 W/E 02/27/21</th>\n",
       "      <th>4 W/E 02/29/20</th>\n",
       "      <th>CP_SHARE_BASIS</th>\n",
       "    </tr>\n",
       "  </thead>\n",
       "  <tbody>\n",
       "    <tr>\n",
       "      <th>1784312</th>\n",
       "      <td>TOTAL US XAOC</td>\n",
       "      <td>POUR APC+WW</td>\n",
       "      <td>HH CLEANERS</td>\n",
       "      <td></td>\n",
       "      <td></td>\n",
       "      <td></td>\n",
       "      <td></td>\n",
       "      <td>$</td>\n",
       "      <td>1.087839e+08</td>\n",
       "      <td>9.613721e+07</td>\n",
       "      <td>5.209000e+07</td>\n",
       "      <td>4.901795e+07</td>\n",
       "      <td>POUR</td>\n",
       "    </tr>\n",
       "    <tr>\n",
       "      <th>1784315</th>\n",
       "      <td>TOTAL US XAOC</td>\n",
       "      <td>POUR APC+WW</td>\n",
       "      <td>HH CLEANERS</td>\n",
       "      <td></td>\n",
       "      <td></td>\n",
       "      <td></td>\n",
       "      <td></td>\n",
       "      <td>$ Shr - CP CATEGORY</td>\n",
       "      <td>1.000000e+02</td>\n",
       "      <td>1.000000e+02</td>\n",
       "      <td>1.000000e+02</td>\n",
       "      <td>1.000000e+02</td>\n",
       "      <td>POUR</td>\n",
       "    </tr>\n",
       "    <tr>\n",
       "      <th>1784336</th>\n",
       "      <td>TOTAL US XAOC</td>\n",
       "      <td>POUR APC+WW</td>\n",
       "      <td>HH CLEANERS</td>\n",
       "      <td></td>\n",
       "      <td></td>\n",
       "      <td></td>\n",
       "      <td></td>\n",
       "      <td>Base $</td>\n",
       "      <td>1.029793e+08</td>\n",
       "      <td>8.899442e+07</td>\n",
       "      <td>4.961569e+07</td>\n",
       "      <td>4.491058e+07</td>\n",
       "      <td>POUR</td>\n",
       "    </tr>\n",
       "  </tbody>\n",
       "</table>\n",
       "</div>"
      ],
      "text/plain": [
       "                   MKT         PROD  CP_CATEGORY CP_MANUFACTURER CP_FRANCHISE  \\\n",
       "1784312  TOTAL US XAOC  POUR APC+WW  HH CLEANERS                                \n",
       "1784315  TOTAL US XAOC  POUR APC+WW  HH CLEANERS                                \n",
       "1784336  TOTAL US XAOC  POUR APC+WW  HH CLEANERS                                \n",
       "\n",
       "        CP_BRAND CP_SUBBRAND_VARIANT                  FCT      YTD 2021  \\\n",
       "1784312                                                 $  1.087839e+08   \n",
       "1784315                               $ Shr - CP CATEGORY  1.000000e+02   \n",
       "1784336                                            Base $  1.029793e+08   \n",
       "\n",
       "             YTD 2020  4 W/E 02/27/21  4 W/E 02/29/20 CP_SHARE_BASIS  \n",
       "1784312  9.613721e+07    5.209000e+07    4.901795e+07           POUR  \n",
       "1784315  1.000000e+02    1.000000e+02    1.000000e+02           POUR  \n",
       "1784336  8.899442e+07    4.961569e+07    4.491058e+07           POUR  "
      ]
     },
     "execution_count": 722,
     "metadata": {},
     "output_type": "execute_result"
    }
   ],
   "source": [
    "Waterfall_HHC.head(3)"
   ]
  },
  {
   "cell_type": "code",
   "execution_count": 723,
   "metadata": {},
   "outputs": [],
   "source": [
    "Waterfall_HHC[\"FCT\"].replace({\"$ Shr - CP CATEGORY\" : \"APC POUR $ Share\"}, inplace = True)"
   ]
  },
  {
   "cell_type": "code",
   "execution_count": 724,
   "metadata": {},
   "outputs": [
    {
     "data": {
      "text/plain": [
       "{'$',\n",
       " 'APC POUR $ Share',\n",
       " 'Base $',\n",
       " 'Disp w/o Feat $',\n",
       " 'Feat & Disp $',\n",
       " 'Feat w/o Disp $',\n",
       " 'No Promo Incr $',\n",
       " 'Price Decr Only $'}"
      ]
     },
     "execution_count": 724,
     "metadata": {},
     "output_type": "execute_result"
    }
   ],
   "source": [
    "set(Waterfall_HHC[\"FCT\"])"
   ]
  },
  {
   "cell_type": "code",
   "execution_count": 725,
   "metadata": {},
   "outputs": [
    {
     "data": {
      "text/plain": [
       "{'BJS TOTAL CENSUS TA',\n",
       " 'CVS TOTAL CORP WO HI CENSUS TA',\n",
       " 'DOL GEN TOTAL CENSUS TA',\n",
       " 'FAMILY DOLLAR TOTAL CENSUS TRADING AREA',\n",
       " 'Fiesta Total TA',\n",
       " 'Kmart Total TA',\n",
       " 'PUBLIX TOTAL CENSUS TRADING AREA',\n",
       " 'RITE AID - TOTAL CENSUS TA',\n",
       " 'SAMS TOTAL CENSUS TRADING AREA',\n",
       " 'TARGET TOTAL BM/FF CENSUS TA',\n",
       " 'TOTAL US DRUG',\n",
       " 'TOTAL US FOOD',\n",
       " 'TOTAL US XAOC',\n",
       " 'TOTAL WALMART TOTAL US CTA',\n",
       " 'WALGREENS CORP TOTAL CENSUS TA'}"
      ]
     },
     "execution_count": 725,
     "metadata": {},
     "output_type": "execute_result"
    }
   ],
   "source": [
    "set(Waterfall_HHC[\"MKT\"])"
   ]
  },
  {
   "cell_type": "markdown",
   "metadata": {},
   "source": [
    "**Fact Name Change**"
   ]
  },
  {
   "cell_type": "code",
   "execution_count": 726,
   "metadata": {},
   "outputs": [],
   "source": [
    "Waterfall_HHC[\"FCT\"].replace(Waterfall_Fact_Mapping,inplace=True)"
   ]
  },
  {
   "cell_type": "code",
   "execution_count": 727,
   "metadata": {},
   "outputs": [
    {
     "data": {
      "text/html": [
       "<div>\n",
       "<style scoped>\n",
       "    .dataframe tbody tr th:only-of-type {\n",
       "        vertical-align: middle;\n",
       "    }\n",
       "\n",
       "    .dataframe tbody tr th {\n",
       "        vertical-align: top;\n",
       "    }\n",
       "\n",
       "    .dataframe thead th {\n",
       "        text-align: right;\n",
       "    }\n",
       "</style>\n",
       "<table border=\"1\" class=\"dataframe\">\n",
       "  <thead>\n",
       "    <tr style=\"text-align: right;\">\n",
       "      <th></th>\n",
       "      <th>MKT</th>\n",
       "      <th>PROD</th>\n",
       "      <th>CP_CATEGORY</th>\n",
       "      <th>CP_MANUFACTURER</th>\n",
       "      <th>CP_FRANCHISE</th>\n",
       "      <th>CP_BRAND</th>\n",
       "      <th>CP_SUBBRAND_VARIANT</th>\n",
       "      <th>FCT</th>\n",
       "      <th>YTD 2021</th>\n",
       "      <th>YTD 2020</th>\n",
       "      <th>4 W/E 02/27/21</th>\n",
       "      <th>4 W/E 02/29/20</th>\n",
       "      <th>CP_SHARE_BASIS</th>\n",
       "    </tr>\n",
       "  </thead>\n",
       "  <tbody>\n",
       "    <tr>\n",
       "      <th>1784312</th>\n",
       "      <td>TOTAL US XAOC</td>\n",
       "      <td>POUR APC+WW</td>\n",
       "      <td>HH CLEANERS</td>\n",
       "      <td></td>\n",
       "      <td></td>\n",
       "      <td></td>\n",
       "      <td></td>\n",
       "      <td>Dollars</td>\n",
       "      <td>1.087839e+08</td>\n",
       "      <td>9.613721e+07</td>\n",
       "      <td>5.209000e+07</td>\n",
       "      <td>4.901795e+07</td>\n",
       "      <td>POUR</td>\n",
       "    </tr>\n",
       "    <tr>\n",
       "      <th>1784315</th>\n",
       "      <td>TOTAL US XAOC</td>\n",
       "      <td>POUR APC+WW</td>\n",
       "      <td>HH CLEANERS</td>\n",
       "      <td></td>\n",
       "      <td></td>\n",
       "      <td></td>\n",
       "      <td></td>\n",
       "      <td>APC POUR $ Share</td>\n",
       "      <td>1.000000e+02</td>\n",
       "      <td>1.000000e+02</td>\n",
       "      <td>1.000000e+02</td>\n",
       "      <td>1.000000e+02</td>\n",
       "      <td>POUR</td>\n",
       "    </tr>\n",
       "  </tbody>\n",
       "</table>\n",
       "</div>"
      ],
      "text/plain": [
       "                   MKT         PROD  CP_CATEGORY CP_MANUFACTURER CP_FRANCHISE  \\\n",
       "1784312  TOTAL US XAOC  POUR APC+WW  HH CLEANERS                                \n",
       "1784315  TOTAL US XAOC  POUR APC+WW  HH CLEANERS                                \n",
       "\n",
       "        CP_BRAND CP_SUBBRAND_VARIANT               FCT      YTD 2021  \\\n",
       "1784312                                        Dollars  1.087839e+08   \n",
       "1784315                               APC POUR $ Share  1.000000e+02   \n",
       "\n",
       "             YTD 2020  4 W/E 02/27/21  4 W/E 02/29/20 CP_SHARE_BASIS  \n",
       "1784312  9.613721e+07    5.209000e+07    4.901795e+07           POUR  \n",
       "1784315  1.000000e+02    1.000000e+02    1.000000e+02           POUR  "
      ]
     },
     "execution_count": 727,
     "metadata": {},
     "output_type": "execute_result"
    }
   ],
   "source": [
    "Waterfall_HHC.head(2)"
   ]
  },
  {
   "cell_type": "code",
   "execution_count": 728,
   "metadata": {},
   "outputs": [
    {
     "data": {
      "text/plain": [
       "{'POUR'}"
      ]
     },
     "execution_count": 728,
     "metadata": {},
     "output_type": "execute_result"
    }
   ],
   "source": [
    "set(Waterfall_HHC[\"CP_SHARE_BASIS\"])"
   ]
  },
  {
   "cell_type": "code",
   "execution_count": 729,
   "metadata": {},
   "outputs": [],
   "source": [
    "Fact_order_1 = [\"Baseline $\",\"Incr.$ w/No Promo\",\"Incr.$ w/Ftr w/o Disp\",\"Incr.$ w/Disp w/o Ftr\",\"Incr.$ w/Ftr & Disp\",\n",
    "              \"Incr.$ w/TPR\",\"Dollars\",\"APC POUR $ Share\"]\n",
    "\n",
    "Fact_order = CategoricalDtype(\n",
    "    Fact_order_1, \n",
    "    ordered=True\n",
    ")\n",
    "\n",
    "\n",
    "Waterfall_HHC['FCT'] = Waterfall_HHC['FCT'].astype(Fact_order)\n",
    "\n",
    "Waterfall_HHC.sort_values(['MKT','PROD','FCT'],inplace=True)"
   ]
  },
  {
   "cell_type": "markdown",
   "metadata": {},
   "source": [
    "## **Waterfall_Manu**"
   ]
  },
  {
   "cell_type": "code",
   "execution_count": 730,
   "metadata": {},
   "outputs": [],
   "source": [
    "Waterfall_Manu=Waterfall_HHC.loc[(Waterfall_HHC[\"CP_BRAND\"]==\"\")&(Waterfall_HHC[\"CP_FRANCHISE\"]==\"\")&(Waterfall_HHC[\"CP_MANUFACTURER\"]!=\"\")]"
   ]
  },
  {
   "cell_type": "code",
   "execution_count": 731,
   "metadata": {},
   "outputs": [],
   "source": [
    "Waterfall_Manu[\"Record_ID\"]=range(1,len(Waterfall_Manu)+1)"
   ]
  },
  {
   "cell_type": "code",
   "execution_count": 732,
   "metadata": {},
   "outputs": [],
   "source": [
    "Waterfall_Manu.to_csv(path_HHC+\"promo_waterfall_manu.csv\",index=False)"
   ]
  },
  {
   "cell_type": "markdown",
   "metadata": {},
   "source": [
    "## **Waterfall_Fran**"
   ]
  },
  {
   "cell_type": "code",
   "execution_count": 733,
   "metadata": {},
   "outputs": [],
   "source": [
    "Waterfall_Fran=Waterfall_HHC.loc[(Waterfall_HHC[\"CP_BRAND\"]==\"\")&(Waterfall_HHC[\"CP_FRANCHISE\"]!=\"\")]"
   ]
  },
  {
   "cell_type": "code",
   "execution_count": 734,
   "metadata": {},
   "outputs": [],
   "source": [
    "Waterfall_Fran[\"Record_ID\"]=range(1,len(Waterfall_Fran)+1)"
   ]
  },
  {
   "cell_type": "code",
   "execution_count": 735,
   "metadata": {},
   "outputs": [],
   "source": [
    "Waterfall_Fran.to_csv(path_HHC+\"promo_waterfall_fran.csv\",index=False)"
   ]
  },
  {
   "cell_type": "markdown",
   "metadata": {},
   "source": [
    "## **Waterfall_Brand**"
   ]
  },
  {
   "cell_type": "code",
   "execution_count": 736,
   "metadata": {},
   "outputs": [],
   "source": [
    "Waterfall_Brand=Waterfall_HHC.loc[(Waterfall_HHC[\"CP_BRAND\"]!=\"\")]"
   ]
  },
  {
   "cell_type": "code",
   "execution_count": 737,
   "metadata": {},
   "outputs": [],
   "source": [
    "Waterfall_Cat=Waterfall_HHC.loc[(Waterfall_HHC[\"CP_SUBBRAND_VARIANT\"]==\"\") & (Waterfall_HHC[\"CP_BRAND\"]==\"\")&(Waterfall_HHC[\"CP_FRANCHISE\"]==\"\")&(Waterfall_HHC[\"CP_MANUFACTURER\"]==\"\")]"
   ]
  },
  {
   "cell_type": "code",
   "execution_count": 738,
   "metadata": {},
   "outputs": [],
   "source": [
    "Waterfall_Cat_Brand=pd.concat([Waterfall_Cat,Waterfall_Brand],axis=0)"
   ]
  },
  {
   "cell_type": "code",
   "execution_count": 739,
   "metadata": {},
   "outputs": [],
   "source": [
    "Waterfall_Cat_Brand['FCT'] = Waterfall_Cat_Brand['FCT'].astype(Fact_order)\n",
    "\n",
    "Waterfall_Cat_Brand.sort_values(['MKT','PROD','FCT'],inplace=True)"
   ]
  },
  {
   "cell_type": "code",
   "execution_count": 740,
   "metadata": {},
   "outputs": [],
   "source": [
    "Waterfall_Cat_Brand[\"Record_ID\"]=range(1,len(Waterfall_Cat_Brand)+1)"
   ]
  },
  {
   "cell_type": "code",
   "execution_count": 741,
   "metadata": {},
   "outputs": [],
   "source": [
    "Waterfall_Cat_Brand.to_csv(path_HHC+\"promo_waterfall_brand.csv\",index=False)"
   ]
  },
  {
   "cell_type": "markdown",
   "metadata": {},
   "source": [
    "## Waterfall_SubBrand"
   ]
  },
  {
   "cell_type": "code",
   "execution_count": 742,
   "metadata": {},
   "outputs": [],
   "source": [
    "Waterfall_SubBrand=Waterfall_HHC.loc[(Waterfall_HHC[\"CP_SUBBRAND_VARIANT\"]!=\"\")]"
   ]
  },
  {
   "cell_type": "code",
   "execution_count": 743,
   "metadata": {},
   "outputs": [],
   "source": [
    "Waterfall_SubBrand[\"Record_ID\"]=range(1,len(Waterfall_SubBrand)+1)"
   ]
  },
  {
   "cell_type": "code",
   "execution_count": 744,
   "metadata": {},
   "outputs": [],
   "source": [
    "Waterfall_SubBrand.to_csv(path_HHC+\"promo_waterfall_subbrand.csv\",index=False)"
   ]
  },
  {
   "cell_type": "code",
   "execution_count": null,
   "metadata": {},
   "outputs": [],
   "source": []
  }
 ],
 "metadata": {
  "kernelspec": {
   "display_name": "Python 3",
   "language": "python",
   "name": "python3"
  },
  "language_info": {
   "codemirror_mode": {
    "name": "ipython",
    "version": 3
   },
   "file_extension": ".py",
   "mimetype": "text/x-python",
   "name": "python",
   "nbconvert_exporter": "python",
   "pygments_lexer": "ipython3",
   "version": "3.7.6"
  }
 },
 "nbformat": 4,
 "nbformat_minor": 4
}
