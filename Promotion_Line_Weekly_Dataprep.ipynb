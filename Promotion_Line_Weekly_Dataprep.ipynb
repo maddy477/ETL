{
 "cells": [
  {
   "cell_type": "markdown",
   "metadata": {},
   "source": [
    "# Line Weekly Dataprep"
   ]
  },
  {
   "cell_type": "markdown",
   "metadata": {},
   "source": [
    " "
   ]
  },
  {
   "cell_type": "code",
   "execution_count": 1,
   "metadata": {},
   "outputs": [],
   "source": [
    "import pandas as pd;\n",
    "import numpy as np;\n",
    "import os;\n",
    "import time;\n",
    "import datetime;\n",
    "import warnings;\n",
    "warnings.filterwarnings('ignore');\n",
    "from pandas.api.types import CategoricalDtype;"
   ]
  },
  {
   "cell_type": "markdown",
   "metadata": {},
   "source": [
    "Assigning path of the folder where **Line Weekly** data files are stored"
   ]
  },
  {
   "cell_type": "code",
   "execution_count": 2,
   "metadata": {},
   "outputs": [],
   "source": [
    "path = \"//falmumapp34/Nielsen Connect Transition & Maintenance (20-SCP-3650)/03. Raw Data/Connect Data/Line Weekly\"\n",
    "files = os.listdir(path)"
   ]
  },
  {
   "cell_type": "markdown",
   "metadata": {},
   "source": [
    "Selecting only **excel files** from all the files available in the above path"
   ]
  },
  {
   "cell_type": "code",
   "execution_count": 3,
   "metadata": {},
   "outputs": [
    {
     "name": "stdout",
     "output_type": "stream",
     "text": [
      "Total number of files in the folder are  21\n"
     ]
    }
   ],
   "source": [
    "#files_xls = [f for f in files if ( f[:3] == 'LHS')]\n",
    "files_xls = [f for f in files if( f[:4] == \"Wood\" )| (f[:8] == 'Abrasive')|( f[:5] == \"APCWW\" )| (f[:4] == 'Pour')]\n",
    "#files_xls = [f for f in files if( f[:7] == \"TotalFS\" )| (f[:6] == 'Sheets')|( f[:5] == \"LiqFS\" )| (f[:6] == 'ScentB')| (f[:5] == 'Beads')][::-1] \n",
    "print(\"Total number of files in the folder are \",len(files_xls))"
   ]
  },
  {
   "cell_type": "code",
   "execution_count": 1,
   "metadata": {},
   "outputs": [
    {
     "ename": "NameError",
     "evalue": "name 'files_xls' is not defined",
     "output_type": "error",
     "traceback": [
      "\u001b[1;31m---------------------------------------------------------------------------\u001b[0m",
      "\u001b[1;31mNameError\u001b[0m                                 Traceback (most recent call last)",
      "\u001b[1;32m<ipython-input-1-d7e33186c2a6>\u001b[0m in \u001b[0;36m<module>\u001b[1;34m\u001b[0m\n\u001b[1;32m----> 1\u001b[1;33m \u001b[0mfiles_xls\u001b[0m\u001b[1;33m\u001b[0m\u001b[1;33m\u001b[0m\u001b[0m\n\u001b[0m",
      "\u001b[1;31mNameError\u001b[0m: name 'files_xls' is not defined"
     ]
    }
   ],
   "source": [
    "files_xls"
   ]
  },
  {
   "cell_type": "markdown",
   "metadata": {},
   "source": [
    "**Appending the read files in rows and storing them in a single dataframe** named ***Line_Monthly***.\n",
    "\n",
    "Printing number of columns and number of facts in each file.\n",
    "Also checking the execution time of the code"
   ]
  },
  {
   "cell_type": "code",
   "execution_count": 5,
   "metadata": {
    "scrolled": true
   },
   "outputs": [
    {
     "name": "stdout",
     "output_type": "stream",
     "text": [
      "Feb\n",
      "\u001b[1mAbrasive_Line_Weekly_Part1.xlsx\u001b[0m :->\n",
      "# of Facts are  15 \t\t # of columns are  108\n",
      "\u001b[1mAbrasive_Line_Weekly_Part2.xlsx\u001b[0m :->\n",
      "# of Facts are  15 \t\t # of columns are  108\n",
      "\u001b[1mAbrasive_Line_Weekly_Part3.xlsx\u001b[0m :->\n",
      "# of Facts are  15 \t\t # of columns are  108\n",
      "\u001b[1mAbrasive_Line_Weekly_Part4.xlsx\u001b[0m :->\n",
      "# of Facts are  15 \t\t # of columns are  108\n",
      "\u001b[1mAbrasive_Line_Weekly_Part6.xlsx\u001b[0m :->\n",
      "# of Facts are  4 \t\t # of columns are  108\n",
      "\u001b[1mAPCWW_Line_Weekly_Part1.xlsx\u001b[0m :->\n",
      "# of Facts are  15 \t\t # of columns are  108\n",
      "\u001b[1mAPCWW_Line_Weekly_Part2.xlsx\u001b[0m :->\n",
      "# of Facts are  15 \t\t # of columns are  108\n",
      "\u001b[1mAPCWW_Line_Weekly_Part3.xlsx\u001b[0m :->\n",
      "# of Facts are  20 \t\t # of columns are  108\n",
      "\u001b[1mAPCWW_Line_Weekly_Part4.xlsx\u001b[0m :->\n",
      "# of Facts are  15 \t\t # of columns are  108\n",
      "\u001b[1mAPCWW_Line_Weekly_Part6.xlsx\u001b[0m :->\n",
      "# of Facts are  4 \t\t # of columns are  108\n",
      "\u001b[1mAPCWW_Line_Weekly_Part61.xlsx\u001b[0m :->\n",
      "# of Facts are  4 \t\t # of columns are  108\n",
      "\u001b[1mPour_Line_Weekly_Part1.xlsx\u001b[0m :->\n",
      "# of Facts are  20 \t\t # of columns are  108\n",
      "\u001b[1mPour_Line_Weekly_Part2.xlsx\u001b[0m :->\n",
      "# of Facts are  20 \t\t # of columns are  108\n",
      "\u001b[1mPour_Line_Weekly_Part3.xlsx\u001b[0m :->\n",
      "# of Facts are  20 \t\t # of columns are  108\n",
      "\u001b[1mPour_Line_Weekly_Part4.xlsx\u001b[0m :->\n",
      "# of Facts are  20 \t\t # of columns are  108\n",
      "\u001b[1mPour_Line_Weekly_Part6.xlsx\u001b[0m :->\n",
      "# of Facts are  4 \t\t # of columns are  108\n",
      "\u001b[1mWood_Line_Weekly_Part1.xlsx\u001b[0m :->\n",
      "# of Facts are  20 \t\t # of columns are  108\n",
      "\u001b[1mWood_Line_Weekly_Part2.xlsx\u001b[0m :->\n",
      "# of Facts are  20 \t\t # of columns are  108\n",
      "\u001b[1mWood_Line_Weekly_Part3.xlsx\u001b[0m :->\n",
      "# of Facts are  20 \t\t # of columns are  108\n",
      "\u001b[1mWood_Line_Weekly_Part4.xlsx\u001b[0m :->\n",
      "# of Facts are  20 \t\t # of columns are  108\n",
      "\u001b[1mWood_Line_Weekly_Part6.xlsx\u001b[0m :->\n",
      "# of Facts are  4 \t\t # of columns are  108\n",
      "execution time is  394.8971586227417\n"
     ]
    }
   ],
   "source": [
    "time_start= time.time()\n",
    "\n",
    "now=datetime.datetime.now()\n",
    "delay= datetime.timedelta(days=30) \n",
    "month_name= (now - delay).strftime(\"%B\")[0:3]\n",
    "print(month_name)\n",
    "\n",
    "\n",
    "Line_Weekly= pd.DataFrame()\n",
    "\n",
    "j=0\n",
    "for f in files_xls:\n",
    "    try:\n",
    "        data = pd.read_excel(path+\"/\"+f)    # Reading Data Files\n",
    "    \n",
    "        for i in data.columns:       # Checking if \"Latest Month\" column is available with another name. if yes then rename\n",
    "            if month_name in i:\n",
    "                data.rename(columns={i:\"Latest Month\"},inplace = True)\n",
    "    \n",
    "        print(\"\\033[1m\" + files_xls[j] + \"\\033[0m\",\":->\\n# of Facts are \",len(set(data[\"Periods\"])),\"\\t\\t # of columns are \",len(data.columns))  \n",
    "    \n",
    "        Line_Weekly = pd.concat([Line_Weekly,data],axis=0,ignore_index=True)\n",
    "        j=j+1\n",
    "    except:\n",
    "        continue\n",
    "time_end= time.time();\n",
    "\n",
    "print(\"execution time is \", time_end-time_start)"
   ]
  },
  {
   "cell_type": "code",
   "execution_count": 6,
   "metadata": {
    "scrolled": true
   },
   "outputs": [
    {
     "data": {
      "text/plain": [
       "108"
      ]
     },
     "execution_count": 6,
     "metadata": {},
     "output_type": "execute_result"
    }
   ],
   "source": [
    "len(Line_Weekly.columns)"
   ]
  },
  {
   "cell_type": "code",
   "execution_count": 7,
   "metadata": {},
   "outputs": [
    {
     "data": {
      "text/html": [
       "<div>\n",
       "<style scoped>\n",
       "    .dataframe tbody tr th:only-of-type {\n",
       "        vertical-align: middle;\n",
       "    }\n",
       "\n",
       "    .dataframe tbody tr th {\n",
       "        vertical-align: top;\n",
       "    }\n",
       "\n",
       "    .dataframe thead th {\n",
       "        text-align: right;\n",
       "    }\n",
       "</style>\n",
       "<table border=\"1\" class=\"dataframe\">\n",
       "  <thead>\n",
       "    <tr style=\"text-align: right;\">\n",
       "      <th></th>\n",
       "      <th>Markets</th>\n",
       "      <th>Products</th>\n",
       "      <th>Periods</th>\n",
       "      <th>Latest Month</th>\n",
       "      <th>1 w/e 03/09/19</th>\n",
       "      <th>1 w/e 03/16/19</th>\n",
       "      <th>1 w/e 03/23/19</th>\n",
       "      <th>1 w/e 03/30/19</th>\n",
       "      <th>1 w/e 04/06/19</th>\n",
       "      <th>1 w/e 04/13/19</th>\n",
       "      <th>...</th>\n",
       "      <th>1 w/e 12/26/20</th>\n",
       "      <th>1 w/e 01/02/21</th>\n",
       "      <th>1 w/e 01/09/21</th>\n",
       "      <th>1 w/e 01/16/21</th>\n",
       "      <th>1 w/e 01/23/21</th>\n",
       "      <th>1 w/e 01/30/21</th>\n",
       "      <th>1 w/e 02/06/21</th>\n",
       "      <th>1 w/e 02/13/21</th>\n",
       "      <th>1 w/e 02/20/21</th>\n",
       "      <th>1 w/e 02/27/21</th>\n",
       "    </tr>\n",
       "  </thead>\n",
       "  <tbody>\n",
       "    <tr>\n",
       "      <th>0</th>\n",
       "      <td>Total US xAOC</td>\n",
       "      <td>ABRASIVE</td>\n",
       "      <td>Base $</td>\n",
       "      <td>5955579.158</td>\n",
       "      <td>1429178.682</td>\n",
       "      <td>1368015.540</td>\n",
       "      <td>1347348.977</td>\n",
       "      <td>1340866.415</td>\n",
       "      <td>1378129.78</td>\n",
       "      <td>1297652.781</td>\n",
       "      <td>...</td>\n",
       "      <td>1364969.512</td>\n",
       "      <td>1509758.814</td>\n",
       "      <td>1620434.913</td>\n",
       "      <td>1635931.305</td>\n",
       "      <td>1624448.824</td>\n",
       "      <td>1563191.929</td>\n",
       "      <td>1556592.188</td>\n",
       "      <td>1493946.726</td>\n",
       "      <td>1394783.854</td>\n",
       "      <td>1510256.390</td>\n",
       "    </tr>\n",
       "    <tr>\n",
       "      <th>1</th>\n",
       "      <td>Total US xAOC</td>\n",
       "      <td>ABRASIVE</td>\n",
       "      <td>Base $ YA</td>\n",
       "      <td>5292962.081</td>\n",
       "      <td>1442933.026</td>\n",
       "      <td>1400340.304</td>\n",
       "      <td>1385722.840</td>\n",
       "      <td>1414025.409</td>\n",
       "      <td>1358553.67</td>\n",
       "      <td>1407671.179</td>\n",
       "      <td>...</td>\n",
       "      <td>1180659.429</td>\n",
       "      <td>1289581.733</td>\n",
       "      <td>1325394.686</td>\n",
       "      <td>1325374.607</td>\n",
       "      <td>1317433.686</td>\n",
       "      <td>1301997.814</td>\n",
       "      <td>1304416.292</td>\n",
       "      <td>1287901.762</td>\n",
       "      <td>1310263.094</td>\n",
       "      <td>1390380.934</td>\n",
       "    </tr>\n",
       "  </tbody>\n",
       "</table>\n",
       "<p>2 rows × 108 columns</p>\n",
       "</div>"
      ],
      "text/plain": [
       "         Markets  Products    Periods  Latest Month  1 w/e 03/09/19  \\\n",
       "0  Total US xAOC  ABRASIVE     Base $   5955579.158     1429178.682   \n",
       "1  Total US xAOC  ABRASIVE  Base $ YA   5292962.081     1442933.026   \n",
       "\n",
       "   1 w/e 03/16/19  1 w/e 03/23/19  1 w/e 03/30/19  1 w/e 04/06/19  \\\n",
       "0     1368015.540     1347348.977     1340866.415      1378129.78   \n",
       "1     1400340.304     1385722.840     1414025.409      1358553.67   \n",
       "\n",
       "   1 w/e 04/13/19  ...  1 w/e 12/26/20  1 w/e 01/02/21  1 w/e 01/09/21  \\\n",
       "0     1297652.781  ...     1364969.512     1509758.814     1620434.913   \n",
       "1     1407671.179  ...     1180659.429     1289581.733     1325394.686   \n",
       "\n",
       "   1 w/e 01/16/21  1 w/e 01/23/21  1 w/e 01/30/21  1 w/e 02/06/21  \\\n",
       "0     1635931.305     1624448.824     1563191.929     1556592.188   \n",
       "1     1325374.607     1317433.686     1301997.814     1304416.292   \n",
       "\n",
       "   1 w/e 02/13/21  1 w/e 02/20/21  1 w/e 02/27/21  \n",
       "0     1493946.726     1394783.854     1510256.390  \n",
       "1     1287901.762     1310263.094     1390380.934  \n",
       "\n",
       "[2 rows x 108 columns]"
      ]
     },
     "execution_count": 7,
     "metadata": {},
     "output_type": "execute_result"
    }
   ],
   "source": [
    "Line_Weekly.head(2)"
   ]
  },
  {
   "cell_type": "code",
   "execution_count": 8,
   "metadata": {},
   "outputs": [
    {
     "data": {
      "text/plain": [
       "Index(['Markets', 'Products', 'Periods', 'Latest Month', '1 w/e 03/09/19',\n",
       "       '1 w/e 03/16/19', '1 w/e 03/23/19', '1 w/e 03/30/19', '1 w/e 04/06/19',\n",
       "       '1 w/e 04/13/19',\n",
       "       ...\n",
       "       '1 w/e 12/26/20', '1 w/e 01/02/21', '1 w/e 01/09/21', '1 w/e 01/16/21',\n",
       "       '1 w/e 01/23/21', '1 w/e 01/30/21', '1 w/e 02/06/21', '1 w/e 02/13/21',\n",
       "       '1 w/e 02/20/21', '1 w/e 02/27/21'],\n",
       "      dtype='object', length=108)"
      ]
     },
     "execution_count": 8,
     "metadata": {},
     "output_type": "execute_result"
    }
   ],
   "source": [
    "Line_Weekly.columns"
   ]
  },
  {
   "cell_type": "code",
   "execution_count": 9,
   "metadata": {},
   "outputs": [
    {
     "data": {
      "text/plain": [
       "{'ALBSCO Total Company TA',\n",
       " 'Ahold USA Corp Total TA',\n",
       " 'BJs Total TA',\n",
       " 'CVS Total Corp WO HI TA',\n",
       " 'Dol Gen Total TA',\n",
       " 'Family Dollar Total TA',\n",
       " 'Fiesta Total TA',\n",
       " 'Kmart Total TA',\n",
       " 'Meijer Total TA',\n",
       " 'Publix Total TA',\n",
       " 'Rite Aid - Corp Total TA',\n",
       " \"Sam's Total TA\",\n",
       " 'ShopRite Total TA',\n",
       " 'Target Total BM/FF TA',\n",
       " 'Total US Drug',\n",
       " 'Total US Food',\n",
       " 'Total US xAOC',\n",
       " 'Walgreens Total TA',\n",
       " 'Walmart Total US TA'}"
      ]
     },
     "execution_count": 9,
     "metadata": {},
     "output_type": "execute_result"
    }
   ],
   "source": [
    "set(Line_Weekly[\"Markets\"])"
   ]
  },
  {
   "cell_type": "code",
   "execution_count": 10,
   "metadata": {},
   "outputs": [],
   "source": [
    "# Relaceing in Periods(Facts)\n",
    "Line_Weekly[\"Periods\"]=Line_Weekly[\"Periods\"].str.replace(\"$\",\"temp\")\n",
    "Line_Weekly[\"Periods\"]=Line_Weekly[\"Periods\"].str.replace(\"- temp -\",\"-\")\n",
    "Line_Weekly[\"Periods\"]=Line_Weekly[\"Periods\"].str.replace(\"temp\",\"$\")\n",
    "\n",
    "\n",
    "Line_Weekly[\"Periods\"]=Line_Weekly[\"Periods\"].str.replace(\"CP FORM\",\"CP CATEGORY\")\n",
    "Line_Weekly[\"Periods\"]=Line_Weekly[\"Periods\"].str.replace(\"CP USE\",\"CP CATEGORY\")\n",
    "Line_Weekly[\"Periods\"]=Line_Weekly[\"Periods\"].str.replace(\"CP LDL AND FOAM\",\"CP CATEGORY\")\n",
    "\n",
    "Line_Weekly[\"Periods\"]=Line_Weekly[\"Periods\"].str.replace(\"CP LDL AND FM X DISHAIDS/WPS/SPR\",\"CP CATEGORY\")\n",
    "\n",
    "Line_Weekly[\"Periods\"]=Line_Weekly[\"Periods\"].str.replace(\"CP MEGA CATEGORY\",\"CP CATEGORY\")\n",
    "Line_Weekly[\"Periods\"]=Line_Weekly[\"Periods\"].str.replace(\"CP BATTERY AND HYBRID\",\"CP CATEGORY\")\n",
    "\n",
    "\n",
    "# Market name replaced\n",
    "Line_Weekly[\"Markets\"]=Line_Weekly[\"Markets\"].str.replace(\"Walgreens Corp Total TA\",\"Walgreens Total TA\")"
   ]
  },
  {
   "cell_type": "code",
   "execution_count": 11,
   "metadata": {
    "scrolled": true
   },
   "outputs": [
    {
     "data": {
      "text/html": [
       "<div>\n",
       "<style scoped>\n",
       "    .dataframe tbody tr th:only-of-type {\n",
       "        vertical-align: middle;\n",
       "    }\n",
       "\n",
       "    .dataframe tbody tr th {\n",
       "        vertical-align: top;\n",
       "    }\n",
       "\n",
       "    .dataframe thead th {\n",
       "        text-align: right;\n",
       "    }\n",
       "</style>\n",
       "<table border=\"1\" class=\"dataframe\">\n",
       "  <thead>\n",
       "    <tr style=\"text-align: right;\">\n",
       "      <th></th>\n",
       "      <th>Markets</th>\n",
       "      <th>Products</th>\n",
       "      <th>Periods</th>\n",
       "      <th>Latest Month</th>\n",
       "      <th>1 w/e 03/09/19</th>\n",
       "      <th>1 w/e 03/16/19</th>\n",
       "      <th>1 w/e 03/23/19</th>\n",
       "      <th>1 w/e 03/30/19</th>\n",
       "      <th>1 w/e 04/06/19</th>\n",
       "      <th>1 w/e 04/13/19</th>\n",
       "      <th>...</th>\n",
       "      <th>1 w/e 12/26/20</th>\n",
       "      <th>1 w/e 01/02/21</th>\n",
       "      <th>1 w/e 01/09/21</th>\n",
       "      <th>1 w/e 01/16/21</th>\n",
       "      <th>1 w/e 01/23/21</th>\n",
       "      <th>1 w/e 01/30/21</th>\n",
       "      <th>1 w/e 02/06/21</th>\n",
       "      <th>1 w/e 02/13/21</th>\n",
       "      <th>1 w/e 02/20/21</th>\n",
       "      <th>1 w/e 02/27/21</th>\n",
       "    </tr>\n",
       "  </thead>\n",
       "  <tbody>\n",
       "    <tr>\n",
       "      <th>0</th>\n",
       "      <td>Total US xAOC</td>\n",
       "      <td>ABRASIVE</td>\n",
       "      <td>Base $</td>\n",
       "      <td>5955579.158</td>\n",
       "      <td>1429178.682</td>\n",
       "      <td>1368015.540</td>\n",
       "      <td>1347348.977</td>\n",
       "      <td>1340866.415</td>\n",
       "      <td>1378129.780</td>\n",
       "      <td>1297652.781</td>\n",
       "      <td>...</td>\n",
       "      <td>1364969.512</td>\n",
       "      <td>1509758.814</td>\n",
       "      <td>1620434.913</td>\n",
       "      <td>1635931.305</td>\n",
       "      <td>1624448.824</td>\n",
       "      <td>1563191.929</td>\n",
       "      <td>1556592.188</td>\n",
       "      <td>1493946.726</td>\n",
       "      <td>1394783.854</td>\n",
       "      <td>1510256.390</td>\n",
       "    </tr>\n",
       "    <tr>\n",
       "      <th>1</th>\n",
       "      <td>Total US xAOC</td>\n",
       "      <td>ABRASIVE</td>\n",
       "      <td>Base $ YA</td>\n",
       "      <td>5292962.081</td>\n",
       "      <td>1442933.026</td>\n",
       "      <td>1400340.304</td>\n",
       "      <td>1385722.840</td>\n",
       "      <td>1414025.409</td>\n",
       "      <td>1358553.670</td>\n",
       "      <td>1407671.179</td>\n",
       "      <td>...</td>\n",
       "      <td>1180659.429</td>\n",
       "      <td>1289581.733</td>\n",
       "      <td>1325394.686</td>\n",
       "      <td>1325374.607</td>\n",
       "      <td>1317433.686</td>\n",
       "      <td>1301997.814</td>\n",
       "      <td>1304416.292</td>\n",
       "      <td>1287901.762</td>\n",
       "      <td>1310263.094</td>\n",
       "      <td>1390380.934</td>\n",
       "    </tr>\n",
       "    <tr>\n",
       "      <th>2</th>\n",
       "      <td>Total US xAOC</td>\n",
       "      <td>ABRASIVE</td>\n",
       "      <td>Any Disp %ACV Chg YA</td>\n",
       "      <td>-1.237</td>\n",
       "      <td>0.163</td>\n",
       "      <td>0.463</td>\n",
       "      <td>-0.144</td>\n",
       "      <td>0.284</td>\n",
       "      <td>0.253</td>\n",
       "      <td>-1.051</td>\n",
       "      <td>...</td>\n",
       "      <td>-0.967</td>\n",
       "      <td>-1.306</td>\n",
       "      <td>-1.310</td>\n",
       "      <td>-1.275</td>\n",
       "      <td>-1.268</td>\n",
       "      <td>-1.136</td>\n",
       "      <td>-1.185</td>\n",
       "      <td>-1.308</td>\n",
       "      <td>-1.354</td>\n",
       "      <td>-1.104</td>\n",
       "    </tr>\n",
       "  </tbody>\n",
       "</table>\n",
       "<p>3 rows × 108 columns</p>\n",
       "</div>"
      ],
      "text/plain": [
       "         Markets  Products               Periods  Latest Month  \\\n",
       "0  Total US xAOC  ABRASIVE                Base $   5955579.158   \n",
       "1  Total US xAOC  ABRASIVE             Base $ YA   5292962.081   \n",
       "2  Total US xAOC  ABRASIVE  Any Disp %ACV Chg YA        -1.237   \n",
       "\n",
       "   1 w/e 03/09/19  1 w/e 03/16/19  1 w/e 03/23/19  1 w/e 03/30/19  \\\n",
       "0     1429178.682     1368015.540     1347348.977     1340866.415   \n",
       "1     1442933.026     1400340.304     1385722.840     1414025.409   \n",
       "2           0.163           0.463          -0.144           0.284   \n",
       "\n",
       "   1 w/e 04/06/19  1 w/e 04/13/19  ...  1 w/e 12/26/20  1 w/e 01/02/21  \\\n",
       "0     1378129.780     1297652.781  ...     1364969.512     1509758.814   \n",
       "1     1358553.670     1407671.179  ...     1180659.429     1289581.733   \n",
       "2           0.253          -1.051  ...          -0.967          -1.306   \n",
       "\n",
       "   1 w/e 01/09/21  1 w/e 01/16/21  1 w/e 01/23/21  1 w/e 01/30/21  \\\n",
       "0     1620434.913     1635931.305     1624448.824     1563191.929   \n",
       "1     1325394.686     1325374.607     1317433.686     1301997.814   \n",
       "2          -1.310          -1.275          -1.268          -1.136   \n",
       "\n",
       "   1 w/e 02/06/21  1 w/e 02/13/21  1 w/e 02/20/21  1 w/e 02/27/21  \n",
       "0     1556592.188     1493946.726     1394783.854     1510256.390  \n",
       "1     1304416.292     1287901.762     1310263.094     1390380.934  \n",
       "2          -1.185          -1.308          -1.354          -1.104  \n",
       "\n",
       "[3 rows x 108 columns]"
      ]
     },
     "execution_count": 11,
     "metadata": {},
     "output_type": "execute_result"
    }
   ],
   "source": [
    "Line_Weekly.head(3)"
   ]
  },
  {
   "cell_type": "code",
   "execution_count": 12,
   "metadata": {},
   "outputs": [
    {
     "data": {
      "text/plain": [
       "(148111, 108)"
      ]
     },
     "execution_count": 12,
     "metadata": {},
     "output_type": "execute_result"
    }
   ],
   "source": [
    "Line_Weekly.shape"
   ]
  },
  {
   "cell_type": "code",
   "execution_count": 13,
   "metadata": {},
   "outputs": [
    {
     "name": "stdout",
     "output_type": "stream",
     "text": [
      "<class 'pandas.core.frame.DataFrame'>\n",
      "RangeIndex: 148111 entries, 0 to 148110\n",
      "Columns: 108 entries, Markets to 1 w/e 02/27/21\n",
      "dtypes: float64(105), object(3)\n",
      "memory usage: 122.0+ MB\n"
     ]
    }
   ],
   "source": [
    "Line_Weekly.info()"
   ]
  },
  {
   "cell_type": "markdown",
   "metadata": {},
   "source": [
    "**Renaming \"Periods\"** column name **to \"Facts\"**"
   ]
  },
  {
   "cell_type": "code",
   "execution_count": 14,
   "metadata": {},
   "outputs": [],
   "source": [
    "Line_Weekly.rename(columns={\"Periods\":\"Facts\"},inplace=True)"
   ]
  },
  {
   "cell_type": "code",
   "execution_count": 15,
   "metadata": {},
   "outputs": [
    {
     "data": {
      "text/plain": [
       "{'$',\n",
       " '$ Shr - CP CATEGORY',\n",
       " '$ YA',\n",
       " 'Any Disp %ACV',\n",
       " 'Any Disp %ACV Chg YA',\n",
       " 'Any Disp %ACV YA',\n",
       " 'Any Feat %ACV',\n",
       " 'Any Feat %ACV Chg YA',\n",
       " 'Any Feat %ACV YA',\n",
       " 'Avg EQ Price',\n",
       " 'Avg EQ Price % Chg YA',\n",
       " 'Avg EQ Price YA',\n",
       " 'Base $',\n",
       " 'Base $ Chg YA',\n",
       " 'Base $ Shr - CP CATEGORY',\n",
       " 'Base $ Shr Chg YA - CP CATEGORY',\n",
       " 'Base $ YA',\n",
       " 'Feat & Disp %ACV',\n",
       " 'Feat & Disp %ACV YA',\n",
       " 'Incr $',\n",
       " 'Incr $ Chg YA',\n",
       " 'Incr $ Shr - CP CATEGORY',\n",
       " 'Incr $ Shr Chg YA - CP CATEGORY',\n",
       " 'Incr $ YA'}"
      ]
     },
     "execution_count": 15,
     "metadata": {},
     "output_type": "execute_result"
    }
   ],
   "source": [
    "set(Line_Weekly[\"Facts\"])"
   ]
  },
  {
   "cell_type": "markdown",
   "metadata": {},
   "source": [
    "**Line_Weekly_5p Copy**"
   ]
  },
  {
   "cell_type": "code",
   "execution_count": 16,
   "metadata": {},
   "outputs": [],
   "source": [
    "Line_Weekly_5p=Line_Weekly.copy()"
   ]
  },
  {
   "cell_type": "code",
   "execution_count": 17,
   "metadata": {},
   "outputs": [],
   "source": [
    "Line_Weekly[\"SubBrand\"] = \"\""
   ]
  },
  {
   "cell_type": "code",
   "execution_count": null,
   "metadata": {},
   "outputs": [],
   "source": [
    "#del Line_Weekly[\"SubBrand\"]"
   ]
  },
  {
   "cell_type": "code",
   "execution_count": null,
   "metadata": {
    "scrolled": false
   },
   "outputs": [],
   "source": [
    "# list(Line_Weekly.columns)"
   ]
  },
  {
   "cell_type": "markdown",
   "metadata": {},
   "source": [
    "**Splitting \"Products\" column**\n",
    "\n",
    "Creating 5 new columns **\"ShareBasis\",\"Manufacturer\",\"Franchise\",\"Brand\",\"SubBrand\"** from **\"Products\"** column by splitting "
   ]
  },
  {
   "cell_type": "code",
   "execution_count": 18,
   "metadata": {
    "scrolled": true
   },
   "outputs": [
    {
     "data": {
      "text/html": [
       "<div>\n",
       "<style scoped>\n",
       "    .dataframe tbody tr th:only-of-type {\n",
       "        vertical-align: middle;\n",
       "    }\n",
       "\n",
       "    .dataframe tbody tr th {\n",
       "        vertical-align: top;\n",
       "    }\n",
       "\n",
       "    .dataframe thead th {\n",
       "        text-align: right;\n",
       "    }\n",
       "</style>\n",
       "<table border=\"1\" class=\"dataframe\">\n",
       "  <thead>\n",
       "    <tr style=\"text-align: right;\">\n",
       "      <th></th>\n",
       "      <th>Markets</th>\n",
       "      <th>Products</th>\n",
       "      <th>Facts</th>\n",
       "      <th>Latest Month</th>\n",
       "      <th>1 w/e 03/09/19</th>\n",
       "      <th>1 w/e 03/16/19</th>\n",
       "      <th>1 w/e 03/23/19</th>\n",
       "      <th>1 w/e 03/30/19</th>\n",
       "      <th>1 w/e 04/06/19</th>\n",
       "      <th>1 w/e 04/13/19</th>\n",
       "      <th>...</th>\n",
       "      <th>1 w/e 01/30/21</th>\n",
       "      <th>1 w/e 02/06/21</th>\n",
       "      <th>1 w/e 02/13/21</th>\n",
       "      <th>1 w/e 02/20/21</th>\n",
       "      <th>1 w/e 02/27/21</th>\n",
       "      <th>SubBrand</th>\n",
       "      <th>ShareBasis</th>\n",
       "      <th>Manufacturer</th>\n",
       "      <th>Franchise</th>\n",
       "      <th>Brand</th>\n",
       "    </tr>\n",
       "  </thead>\n",
       "  <tbody>\n",
       "    <tr>\n",
       "      <th>0</th>\n",
       "      <td>Total US xAOC</td>\n",
       "      <td>ABRASIVE</td>\n",
       "      <td>Base $</td>\n",
       "      <td>5955579.158</td>\n",
       "      <td>1429178.682</td>\n",
       "      <td>1368015.540</td>\n",
       "      <td>1347348.977</td>\n",
       "      <td>1340866.415</td>\n",
       "      <td>1378129.780</td>\n",
       "      <td>1297652.781</td>\n",
       "      <td>...</td>\n",
       "      <td>1563191.929</td>\n",
       "      <td>1556592.188</td>\n",
       "      <td>1493946.726</td>\n",
       "      <td>1394783.854</td>\n",
       "      <td>1510256.390</td>\n",
       "      <td>None</td>\n",
       "      <td>ABRASIVE</td>\n",
       "      <td>None</td>\n",
       "      <td>None</td>\n",
       "      <td>None</td>\n",
       "    </tr>\n",
       "    <tr>\n",
       "      <th>1</th>\n",
       "      <td>Total US xAOC</td>\n",
       "      <td>ABRASIVE</td>\n",
       "      <td>Base $ YA</td>\n",
       "      <td>5292962.081</td>\n",
       "      <td>1442933.026</td>\n",
       "      <td>1400340.304</td>\n",
       "      <td>1385722.840</td>\n",
       "      <td>1414025.409</td>\n",
       "      <td>1358553.670</td>\n",
       "      <td>1407671.179</td>\n",
       "      <td>...</td>\n",
       "      <td>1301997.814</td>\n",
       "      <td>1304416.292</td>\n",
       "      <td>1287901.762</td>\n",
       "      <td>1310263.094</td>\n",
       "      <td>1390380.934</td>\n",
       "      <td>None</td>\n",
       "      <td>ABRASIVE</td>\n",
       "      <td>None</td>\n",
       "      <td>None</td>\n",
       "      <td>None</td>\n",
       "    </tr>\n",
       "    <tr>\n",
       "      <th>2</th>\n",
       "      <td>Total US xAOC</td>\n",
       "      <td>ABRASIVE</td>\n",
       "      <td>Any Disp %ACV Chg YA</td>\n",
       "      <td>-1.237</td>\n",
       "      <td>0.163</td>\n",
       "      <td>0.463</td>\n",
       "      <td>-0.144</td>\n",
       "      <td>0.284</td>\n",
       "      <td>0.253</td>\n",
       "      <td>-1.051</td>\n",
       "      <td>...</td>\n",
       "      <td>-1.136</td>\n",
       "      <td>-1.185</td>\n",
       "      <td>-1.308</td>\n",
       "      <td>-1.354</td>\n",
       "      <td>-1.104</td>\n",
       "      <td>None</td>\n",
       "      <td>ABRASIVE</td>\n",
       "      <td>None</td>\n",
       "      <td>None</td>\n",
       "      <td>None</td>\n",
       "    </tr>\n",
       "  </tbody>\n",
       "</table>\n",
       "<p>3 rows × 113 columns</p>\n",
       "</div>"
      ],
      "text/plain": [
       "         Markets  Products                 Facts  Latest Month  \\\n",
       "0  Total US xAOC  ABRASIVE                Base $   5955579.158   \n",
       "1  Total US xAOC  ABRASIVE             Base $ YA   5292962.081   \n",
       "2  Total US xAOC  ABRASIVE  Any Disp %ACV Chg YA        -1.237   \n",
       "\n",
       "   1 w/e 03/09/19  1 w/e 03/16/19  1 w/e 03/23/19  1 w/e 03/30/19  \\\n",
       "0     1429178.682     1368015.540     1347348.977     1340866.415   \n",
       "1     1442933.026     1400340.304     1385722.840     1414025.409   \n",
       "2           0.163           0.463          -0.144           0.284   \n",
       "\n",
       "   1 w/e 04/06/19  1 w/e 04/13/19  ...  1 w/e 01/30/21  1 w/e 02/06/21  \\\n",
       "0     1378129.780     1297652.781  ...     1563191.929     1556592.188   \n",
       "1     1358553.670     1407671.179  ...     1301997.814     1304416.292   \n",
       "2           0.253          -1.051  ...          -1.136          -1.185   \n",
       "\n",
       "   1 w/e 02/13/21  1 w/e 02/20/21  1 w/e 02/27/21  SubBrand  ShareBasis  \\\n",
       "0     1493946.726     1394783.854     1510256.390      None    ABRASIVE   \n",
       "1     1287901.762     1310263.094     1390380.934      None    ABRASIVE   \n",
       "2          -1.308          -1.354          -1.104      None    ABRASIVE   \n",
       "\n",
       "   Manufacturer  Franchise  Brand  \n",
       "0          None       None   None  \n",
       "1          None       None   None  \n",
       "2          None       None   None  \n",
       "\n",
       "[3 rows x 113 columns]"
      ]
     },
     "execution_count": 18,
     "metadata": {},
     "output_type": "execute_result"
    }
   ],
   "source": [
    "Line_Weekly[['ShareBasis','Manufacturer','Franchise','Brand','SubBrand']] = Line_Weekly['Products'].str.split('|',n=4,expand=True)\n",
    "Line_Weekly.head(3)"
   ]
  },
  {
   "cell_type": "markdown",
   "metadata": {},
   "source": [
    "***movecol*** function to **rearranging** the columns of a dataframe"
   ]
  },
  {
   "cell_type": "code",
   "execution_count": 19,
   "metadata": {},
   "outputs": [],
   "source": [
    "def movecol(df, cols_to_move=[], ref_col='', place=''):\n",
    "    cols = df.columns.tolist()\n",
    "    if place == 'After':\n",
    "        seg1 = cols[:list(cols).index(ref_col) + 1]\n",
    "        seg2 = cols_to_move\n",
    "    if place == 'Before':\n",
    "        seg1 = cols[:list(cols).index(ref_col)]\n",
    "        seg2 = cols_to_move + [ref_col]\n",
    "    seg1 = [i for i in seg1 if i not in seg2]\n",
    "    seg3 = [i for i in cols if i not in seg1 + seg2]\n",
    "    \n",
    "    return(df[seg1 + seg2 + seg3])"
   ]
  },
  {
   "cell_type": "code",
   "execution_count": 20,
   "metadata": {
    "scrolled": true
   },
   "outputs": [
    {
     "data": {
      "text/html": [
       "<div>\n",
       "<style scoped>\n",
       "    .dataframe tbody tr th:only-of-type {\n",
       "        vertical-align: middle;\n",
       "    }\n",
       "\n",
       "    .dataframe tbody tr th {\n",
       "        vertical-align: top;\n",
       "    }\n",
       "\n",
       "    .dataframe thead th {\n",
       "        text-align: right;\n",
       "    }\n",
       "</style>\n",
       "<table border=\"1\" class=\"dataframe\">\n",
       "  <thead>\n",
       "    <tr style=\"text-align: right;\">\n",
       "      <th></th>\n",
       "      <th>Markets</th>\n",
       "      <th>ShareBasis</th>\n",
       "      <th>Manufacturer</th>\n",
       "      <th>Franchise</th>\n",
       "      <th>Brand</th>\n",
       "      <th>SubBrand</th>\n",
       "      <th>Products</th>\n",
       "      <th>Facts</th>\n",
       "      <th>Latest Month</th>\n",
       "      <th>1 w/e 03/09/19</th>\n",
       "      <th>...</th>\n",
       "      <th>1 w/e 12/26/20</th>\n",
       "      <th>1 w/e 01/02/21</th>\n",
       "      <th>1 w/e 01/09/21</th>\n",
       "      <th>1 w/e 01/16/21</th>\n",
       "      <th>1 w/e 01/23/21</th>\n",
       "      <th>1 w/e 01/30/21</th>\n",
       "      <th>1 w/e 02/06/21</th>\n",
       "      <th>1 w/e 02/13/21</th>\n",
       "      <th>1 w/e 02/20/21</th>\n",
       "      <th>1 w/e 02/27/21</th>\n",
       "    </tr>\n",
       "  </thead>\n",
       "  <tbody>\n",
       "    <tr>\n",
       "      <th>0</th>\n",
       "      <td>Total US xAOC</td>\n",
       "      <td>ABRASIVE</td>\n",
       "      <td>None</td>\n",
       "      <td>None</td>\n",
       "      <td>None</td>\n",
       "      <td>None</td>\n",
       "      <td>ABRASIVE</td>\n",
       "      <td>Base $</td>\n",
       "      <td>5955579.158</td>\n",
       "      <td>1429178.682</td>\n",
       "      <td>...</td>\n",
       "      <td>1364969.512</td>\n",
       "      <td>1509758.814</td>\n",
       "      <td>1620434.913</td>\n",
       "      <td>1635931.305</td>\n",
       "      <td>1624448.824</td>\n",
       "      <td>1563191.929</td>\n",
       "      <td>1556592.188</td>\n",
       "      <td>1493946.726</td>\n",
       "      <td>1394783.854</td>\n",
       "      <td>1510256.390</td>\n",
       "    </tr>\n",
       "    <tr>\n",
       "      <th>1</th>\n",
       "      <td>Total US xAOC</td>\n",
       "      <td>ABRASIVE</td>\n",
       "      <td>None</td>\n",
       "      <td>None</td>\n",
       "      <td>None</td>\n",
       "      <td>None</td>\n",
       "      <td>ABRASIVE</td>\n",
       "      <td>Base $ YA</td>\n",
       "      <td>5292962.081</td>\n",
       "      <td>1442933.026</td>\n",
       "      <td>...</td>\n",
       "      <td>1180659.429</td>\n",
       "      <td>1289581.733</td>\n",
       "      <td>1325394.686</td>\n",
       "      <td>1325374.607</td>\n",
       "      <td>1317433.686</td>\n",
       "      <td>1301997.814</td>\n",
       "      <td>1304416.292</td>\n",
       "      <td>1287901.762</td>\n",
       "      <td>1310263.094</td>\n",
       "      <td>1390380.934</td>\n",
       "    </tr>\n",
       "    <tr>\n",
       "      <th>2</th>\n",
       "      <td>Total US xAOC</td>\n",
       "      <td>ABRASIVE</td>\n",
       "      <td>None</td>\n",
       "      <td>None</td>\n",
       "      <td>None</td>\n",
       "      <td>None</td>\n",
       "      <td>ABRASIVE</td>\n",
       "      <td>Any Disp %ACV Chg YA</td>\n",
       "      <td>-1.237</td>\n",
       "      <td>0.163</td>\n",
       "      <td>...</td>\n",
       "      <td>-0.967</td>\n",
       "      <td>-1.306</td>\n",
       "      <td>-1.310</td>\n",
       "      <td>-1.275</td>\n",
       "      <td>-1.268</td>\n",
       "      <td>-1.136</td>\n",
       "      <td>-1.185</td>\n",
       "      <td>-1.308</td>\n",
       "      <td>-1.354</td>\n",
       "      <td>-1.104</td>\n",
       "    </tr>\n",
       "  </tbody>\n",
       "</table>\n",
       "<p>3 rows × 113 columns</p>\n",
       "</div>"
      ],
      "text/plain": [
       "         Markets ShareBasis Manufacturer Franchise Brand SubBrand  Products  \\\n",
       "0  Total US xAOC   ABRASIVE         None      None  None     None  ABRASIVE   \n",
       "1  Total US xAOC   ABRASIVE         None      None  None     None  ABRASIVE   \n",
       "2  Total US xAOC   ABRASIVE         None      None  None     None  ABRASIVE   \n",
       "\n",
       "                  Facts  Latest Month  1 w/e 03/09/19  ...  1 w/e 12/26/20  \\\n",
       "0                Base $   5955579.158     1429178.682  ...     1364969.512   \n",
       "1             Base $ YA   5292962.081     1442933.026  ...     1180659.429   \n",
       "2  Any Disp %ACV Chg YA        -1.237           0.163  ...          -0.967   \n",
       "\n",
       "   1 w/e 01/02/21  1 w/e 01/09/21  1 w/e 01/16/21  1 w/e 01/23/21  \\\n",
       "0     1509758.814     1620434.913     1635931.305     1624448.824   \n",
       "1     1289581.733     1325394.686     1325374.607     1317433.686   \n",
       "2          -1.306          -1.310          -1.275          -1.268   \n",
       "\n",
       "   1 w/e 01/30/21  1 w/e 02/06/21  1 w/e 02/13/21  1 w/e 02/20/21  \\\n",
       "0     1563191.929     1556592.188     1493946.726     1394783.854   \n",
       "1     1301997.814     1304416.292     1287901.762     1310263.094   \n",
       "2          -1.136          -1.185          -1.308          -1.354   \n",
       "\n",
       "   1 w/e 02/27/21  \n",
       "0     1510256.390  \n",
       "1     1390380.934  \n",
       "2          -1.104  \n",
       "\n",
       "[3 rows x 113 columns]"
      ]
     },
     "execution_count": 20,
     "metadata": {},
     "output_type": "execute_result"
    }
   ],
   "source": [
    "# Moving columns after \"Market\"\n",
    "Line_Weekly = movecol(Line_Weekly, \n",
    "             cols_to_move=['ShareBasis','Manufacturer','Franchise','Brand','SubBrand'], \n",
    "             ref_col='Markets',\n",
    "             place='After')\n",
    "Line_Weekly.head(3)"
   ]
  },
  {
   "cell_type": "markdown",
   "metadata": {},
   "source": [
    "**Replacing all the None values** in columns **\"ShareBasis\",\"Manufacturer\",\"Franchise\",\"Brand\",\"SubBrand\"**"
   ]
  },
  {
   "cell_type": "code",
   "execution_count": 21,
   "metadata": {},
   "outputs": [
    {
     "data": {
      "text/html": [
       "<div>\n",
       "<style scoped>\n",
       "    .dataframe tbody tr th:only-of-type {\n",
       "        vertical-align: middle;\n",
       "    }\n",
       "\n",
       "    .dataframe tbody tr th {\n",
       "        vertical-align: top;\n",
       "    }\n",
       "\n",
       "    .dataframe thead th {\n",
       "        text-align: right;\n",
       "    }\n",
       "</style>\n",
       "<table border=\"1\" class=\"dataframe\">\n",
       "  <thead>\n",
       "    <tr style=\"text-align: right;\">\n",
       "      <th></th>\n",
       "      <th>Markets</th>\n",
       "      <th>ShareBasis</th>\n",
       "      <th>Manufacturer</th>\n",
       "      <th>Franchise</th>\n",
       "      <th>Brand</th>\n",
       "      <th>SubBrand</th>\n",
       "      <th>Products</th>\n",
       "      <th>Facts</th>\n",
       "      <th>Latest Month</th>\n",
       "      <th>1 w/e 03/09/19</th>\n",
       "      <th>...</th>\n",
       "      <th>1 w/e 12/26/20</th>\n",
       "      <th>1 w/e 01/02/21</th>\n",
       "      <th>1 w/e 01/09/21</th>\n",
       "      <th>1 w/e 01/16/21</th>\n",
       "      <th>1 w/e 01/23/21</th>\n",
       "      <th>1 w/e 01/30/21</th>\n",
       "      <th>1 w/e 02/06/21</th>\n",
       "      <th>1 w/e 02/13/21</th>\n",
       "      <th>1 w/e 02/20/21</th>\n",
       "      <th>1 w/e 02/27/21</th>\n",
       "    </tr>\n",
       "  </thead>\n",
       "  <tbody>\n",
       "    <tr>\n",
       "      <th>0</th>\n",
       "      <td>Total US xAOC</td>\n",
       "      <td>ABRASIVE</td>\n",
       "      <td></td>\n",
       "      <td></td>\n",
       "      <td></td>\n",
       "      <td></td>\n",
       "      <td>ABRASIVE</td>\n",
       "      <td>Base $</td>\n",
       "      <td>5955579.158</td>\n",
       "      <td>1429178.682</td>\n",
       "      <td>...</td>\n",
       "      <td>1364969.512</td>\n",
       "      <td>1509758.814</td>\n",
       "      <td>1620434.913</td>\n",
       "      <td>1635931.305</td>\n",
       "      <td>1624448.824</td>\n",
       "      <td>1563191.929</td>\n",
       "      <td>1556592.188</td>\n",
       "      <td>1493946.726</td>\n",
       "      <td>1394783.854</td>\n",
       "      <td>1510256.390</td>\n",
       "    </tr>\n",
       "    <tr>\n",
       "      <th>1</th>\n",
       "      <td>Total US xAOC</td>\n",
       "      <td>ABRASIVE</td>\n",
       "      <td></td>\n",
       "      <td></td>\n",
       "      <td></td>\n",
       "      <td></td>\n",
       "      <td>ABRASIVE</td>\n",
       "      <td>Base $ YA</td>\n",
       "      <td>5292962.081</td>\n",
       "      <td>1442933.026</td>\n",
       "      <td>...</td>\n",
       "      <td>1180659.429</td>\n",
       "      <td>1289581.733</td>\n",
       "      <td>1325394.686</td>\n",
       "      <td>1325374.607</td>\n",
       "      <td>1317433.686</td>\n",
       "      <td>1301997.814</td>\n",
       "      <td>1304416.292</td>\n",
       "      <td>1287901.762</td>\n",
       "      <td>1310263.094</td>\n",
       "      <td>1390380.934</td>\n",
       "    </tr>\n",
       "    <tr>\n",
       "      <th>2</th>\n",
       "      <td>Total US xAOC</td>\n",
       "      <td>ABRASIVE</td>\n",
       "      <td></td>\n",
       "      <td></td>\n",
       "      <td></td>\n",
       "      <td></td>\n",
       "      <td>ABRASIVE</td>\n",
       "      <td>Any Disp %ACV Chg YA</td>\n",
       "      <td>-1.237</td>\n",
       "      <td>0.163</td>\n",
       "      <td>...</td>\n",
       "      <td>-0.967</td>\n",
       "      <td>-1.306</td>\n",
       "      <td>-1.310</td>\n",
       "      <td>-1.275</td>\n",
       "      <td>-1.268</td>\n",
       "      <td>-1.136</td>\n",
       "      <td>-1.185</td>\n",
       "      <td>-1.308</td>\n",
       "      <td>-1.354</td>\n",
       "      <td>-1.104</td>\n",
       "    </tr>\n",
       "  </tbody>\n",
       "</table>\n",
       "<p>3 rows × 113 columns</p>\n",
       "</div>"
      ],
      "text/plain": [
       "         Markets ShareBasis Manufacturer Franchise Brand SubBrand  Products  \\\n",
       "0  Total US xAOC   ABRASIVE                                        ABRASIVE   \n",
       "1  Total US xAOC   ABRASIVE                                        ABRASIVE   \n",
       "2  Total US xAOC   ABRASIVE                                        ABRASIVE   \n",
       "\n",
       "                  Facts  Latest Month  1 w/e 03/09/19  ...  1 w/e 12/26/20  \\\n",
       "0                Base $   5955579.158     1429178.682  ...     1364969.512   \n",
       "1             Base $ YA   5292962.081     1442933.026  ...     1180659.429   \n",
       "2  Any Disp %ACV Chg YA        -1.237           0.163  ...          -0.967   \n",
       "\n",
       "   1 w/e 01/02/21  1 w/e 01/09/21  1 w/e 01/16/21  1 w/e 01/23/21  \\\n",
       "0     1509758.814     1620434.913     1635931.305     1624448.824   \n",
       "1     1289581.733     1325394.686     1325374.607     1317433.686   \n",
       "2          -1.306          -1.310          -1.275          -1.268   \n",
       "\n",
       "   1 w/e 01/30/21  1 w/e 02/06/21  1 w/e 02/13/21  1 w/e 02/20/21  \\\n",
       "0     1563191.929     1556592.188     1493946.726     1394783.854   \n",
       "1     1301997.814     1304416.292     1287901.762     1310263.094   \n",
       "2          -1.136          -1.185          -1.308          -1.354   \n",
       "\n",
       "   1 w/e 02/27/21  \n",
       "0     1510256.390  \n",
       "1     1390380.934  \n",
       "2          -1.104  \n",
       "\n",
       "[3 rows x 113 columns]"
      ]
     },
     "execution_count": 21,
     "metadata": {},
     "output_type": "execute_result"
    }
   ],
   "source": [
    "Line_Weekly[[\"ShareBasis\",\"Manufacturer\",\"Franchise\",\"Brand\",\"SubBrand\"]]=Line_Weekly[[\"ShareBasis\",\"Manufacturer\",\"Franchise\",\"Brand\",\"SubBrand\"]].fillna(value=\"\")\n",
    "Line_Weekly.head(3)"
   ]
  },
  {
   "cell_type": "code",
   "execution_count": 22,
   "metadata": {},
   "outputs": [
    {
     "data": {
      "text/plain": [
       "{'',\n",
       " ' ALEN',\n",
       " ' ALEN ',\n",
       " ' BONA',\n",
       " ' BONA ',\n",
       " ' CHURCH & DWIGHT',\n",
       " ' CHURCH & DWIGHT ',\n",
       " ' CLOROX',\n",
       " ' CLOROX ',\n",
       " ' COLGATE-PALMOLIVE',\n",
       " ' COLGATE-PALMOLIVE ',\n",
       " ' HENKEL',\n",
       " ' HENKEL ',\n",
       " ' P&G',\n",
       " ' P&G ',\n",
       " ' PRESTIGE',\n",
       " ' PRESTIGE ',\n",
       " ' PRVT LBL',\n",
       " ' PRVT LBL ',\n",
       " ' RECKITT/BENK',\n",
       " ' RECKITT/BENK ',\n",
       " ' SC JOHNSON',\n",
       " ' SC JOHNSON ',\n",
       " ' UNILEVER',\n",
       " ' UNILEVER '}"
      ]
     },
     "execution_count": 22,
     "metadata": {},
     "output_type": "execute_result"
    }
   ],
   "source": [
    "set(Line_Weekly[\"Manufacturer\"])"
   ]
  },
  {
   "cell_type": "code",
   "execution_count": 23,
   "metadata": {},
   "outputs": [],
   "source": [
    "# adding a \"KEY\" column\n",
    "Line_Weekly[\"Key\"]=Line_Weekly[\"Markets\"]+Line_Weekly[\"Products\"]+Line_Weekly[\"Facts\"]"
   ]
  },
  {
   "cell_type": "code",
   "execution_count": 24,
   "metadata": {
    "scrolled": true
   },
   "outputs": [
    {
     "data": {
      "text/html": [
       "<div>\n",
       "<style scoped>\n",
       "    .dataframe tbody tr th:only-of-type {\n",
       "        vertical-align: middle;\n",
       "    }\n",
       "\n",
       "    .dataframe tbody tr th {\n",
       "        vertical-align: top;\n",
       "    }\n",
       "\n",
       "    .dataframe thead th {\n",
       "        text-align: right;\n",
       "    }\n",
       "</style>\n",
       "<table border=\"1\" class=\"dataframe\">\n",
       "  <thead>\n",
       "    <tr style=\"text-align: right;\">\n",
       "      <th></th>\n",
       "      <th>Key</th>\n",
       "      <th>Markets</th>\n",
       "      <th>ShareBasis</th>\n",
       "      <th>Manufacturer</th>\n",
       "      <th>Franchise</th>\n",
       "      <th>Brand</th>\n",
       "      <th>SubBrand</th>\n",
       "      <th>Products</th>\n",
       "      <th>Facts</th>\n",
       "      <th>Latest Month</th>\n",
       "      <th>...</th>\n",
       "      <th>1 w/e 12/26/20</th>\n",
       "      <th>1 w/e 01/02/21</th>\n",
       "      <th>1 w/e 01/09/21</th>\n",
       "      <th>1 w/e 01/16/21</th>\n",
       "      <th>1 w/e 01/23/21</th>\n",
       "      <th>1 w/e 01/30/21</th>\n",
       "      <th>1 w/e 02/06/21</th>\n",
       "      <th>1 w/e 02/13/21</th>\n",
       "      <th>1 w/e 02/20/21</th>\n",
       "      <th>1 w/e 02/27/21</th>\n",
       "    </tr>\n",
       "  </thead>\n",
       "  <tbody>\n",
       "    <tr>\n",
       "      <th>0</th>\n",
       "      <td>Total US xAOCABRASIVEBase $</td>\n",
       "      <td>Total US xAOC</td>\n",
       "      <td>ABRASIVE</td>\n",
       "      <td></td>\n",
       "      <td></td>\n",
       "      <td></td>\n",
       "      <td></td>\n",
       "      <td>ABRASIVE</td>\n",
       "      <td>Base $</td>\n",
       "      <td>5955579.158</td>\n",
       "      <td>...</td>\n",
       "      <td>1364969.512</td>\n",
       "      <td>1509758.814</td>\n",
       "      <td>1620434.913</td>\n",
       "      <td>1635931.305</td>\n",
       "      <td>1624448.824</td>\n",
       "      <td>1563191.929</td>\n",
       "      <td>1556592.188</td>\n",
       "      <td>1493946.726</td>\n",
       "      <td>1394783.854</td>\n",
       "      <td>1510256.390</td>\n",
       "    </tr>\n",
       "    <tr>\n",
       "      <th>1</th>\n",
       "      <td>Total US xAOCABRASIVEBase $ YA</td>\n",
       "      <td>Total US xAOC</td>\n",
       "      <td>ABRASIVE</td>\n",
       "      <td></td>\n",
       "      <td></td>\n",
       "      <td></td>\n",
       "      <td></td>\n",
       "      <td>ABRASIVE</td>\n",
       "      <td>Base $ YA</td>\n",
       "      <td>5292962.081</td>\n",
       "      <td>...</td>\n",
       "      <td>1180659.429</td>\n",
       "      <td>1289581.733</td>\n",
       "      <td>1325394.686</td>\n",
       "      <td>1325374.607</td>\n",
       "      <td>1317433.686</td>\n",
       "      <td>1301997.814</td>\n",
       "      <td>1304416.292</td>\n",
       "      <td>1287901.762</td>\n",
       "      <td>1310263.094</td>\n",
       "      <td>1390380.934</td>\n",
       "    </tr>\n",
       "    <tr>\n",
       "      <th>2</th>\n",
       "      <td>Total US xAOCABRASIVEAny Disp %ACV Chg YA</td>\n",
       "      <td>Total US xAOC</td>\n",
       "      <td>ABRASIVE</td>\n",
       "      <td></td>\n",
       "      <td></td>\n",
       "      <td></td>\n",
       "      <td></td>\n",
       "      <td>ABRASIVE</td>\n",
       "      <td>Any Disp %ACV Chg YA</td>\n",
       "      <td>-1.237</td>\n",
       "      <td>...</td>\n",
       "      <td>-0.967</td>\n",
       "      <td>-1.306</td>\n",
       "      <td>-1.310</td>\n",
       "      <td>-1.275</td>\n",
       "      <td>-1.268</td>\n",
       "      <td>-1.136</td>\n",
       "      <td>-1.185</td>\n",
       "      <td>-1.308</td>\n",
       "      <td>-1.354</td>\n",
       "      <td>-1.104</td>\n",
       "    </tr>\n",
       "  </tbody>\n",
       "</table>\n",
       "<p>3 rows × 114 columns</p>\n",
       "</div>"
      ],
      "text/plain": [
       "                                         Key        Markets ShareBasis  \\\n",
       "0                Total US xAOCABRASIVEBase $  Total US xAOC   ABRASIVE   \n",
       "1             Total US xAOCABRASIVEBase $ YA  Total US xAOC   ABRASIVE   \n",
       "2  Total US xAOCABRASIVEAny Disp %ACV Chg YA  Total US xAOC   ABRASIVE   \n",
       "\n",
       "  Manufacturer Franchise Brand SubBrand  Products                 Facts  \\\n",
       "0                                        ABRASIVE                Base $   \n",
       "1                                        ABRASIVE             Base $ YA   \n",
       "2                                        ABRASIVE  Any Disp %ACV Chg YA   \n",
       "\n",
       "   Latest Month  ...  1 w/e 12/26/20  1 w/e 01/02/21  1 w/e 01/09/21  \\\n",
       "0   5955579.158  ...     1364969.512     1509758.814     1620434.913   \n",
       "1   5292962.081  ...     1180659.429     1289581.733     1325394.686   \n",
       "2        -1.237  ...          -0.967          -1.306          -1.310   \n",
       "\n",
       "   1 w/e 01/16/21  1 w/e 01/23/21  1 w/e 01/30/21  1 w/e 02/06/21  \\\n",
       "0     1635931.305     1624448.824     1563191.929     1556592.188   \n",
       "1     1325374.607     1317433.686     1301997.814     1304416.292   \n",
       "2          -1.275          -1.268          -1.136          -1.185   \n",
       "\n",
       "   1 w/e 02/13/21  1 w/e 02/20/21  1 w/e 02/27/21  \n",
       "0     1493946.726     1394783.854     1510256.390  \n",
       "1     1287901.762     1310263.094     1390380.934  \n",
       "2          -1.308          -1.354          -1.104  \n",
       "\n",
       "[3 rows x 114 columns]"
      ]
     },
     "execution_count": 24,
     "metadata": {},
     "output_type": "execute_result"
    }
   ],
   "source": [
    "# moving \"KEY\" column to start of the column\n",
    "Line_Weekly = movecol(Line_Weekly, \n",
    "             cols_to_move=['Key'], \n",
    "             ref_col='Markets',\n",
    "             place='Before')\n",
    "Line_Weekly.head(3)"
   ]
  },
  {
   "cell_type": "code",
   "execution_count": 25,
   "metadata": {},
   "outputs": [
    {
     "data": {
      "text/plain": [
       "(148111, 114)"
      ]
     },
     "execution_count": 25,
     "metadata": {},
     "output_type": "execute_result"
    }
   ],
   "source": [
    "Line_Weekly.shape"
   ]
  },
  {
   "cell_type": "markdown",
   "metadata": {},
   "source": [
    "**Strip Columns**\n",
    "\n",
    "Strip starting 8 columns "
   ]
  },
  {
   "cell_type": "code",
   "execution_count": 26,
   "metadata": {},
   "outputs": [],
   "source": [
    "cols=list(Line_Weekly.columns[0:9])"
   ]
  },
  {
   "cell_type": "code",
   "execution_count": 27,
   "metadata": {},
   "outputs": [],
   "source": [
    "Line_Weekly[cols]=Line_Weekly[cols].apply(lambda x : x.str.strip())"
   ]
  },
  {
   "cell_type": "code",
   "execution_count": 28,
   "metadata": {},
   "outputs": [
    {
     "data": {
      "text/plain": [
       "{'',\n",
       " 'ALEN',\n",
       " 'BONA',\n",
       " 'CHURCH & DWIGHT',\n",
       " 'CLOROX',\n",
       " 'COLGATE-PALMOLIVE',\n",
       " 'HENKEL',\n",
       " 'P&G',\n",
       " 'PRESTIGE',\n",
       " 'PRVT LBL',\n",
       " 'RECKITT/BENK',\n",
       " 'SC JOHNSON',\n",
       " 'UNILEVER'}"
      ]
     },
     "execution_count": 28,
     "metadata": {},
     "output_type": "execute_result"
    }
   ],
   "source": [
    "set(Line_Weekly[\"Manufacturer\"])"
   ]
  },
  {
   "cell_type": "code",
   "execution_count": null,
   "metadata": {},
   "outputs": [],
   "source": []
  },
  {
   "cell_type": "code",
   "execution_count": 29,
   "metadata": {},
   "outputs": [],
   "source": [
    "Line_Weekly = Line_Weekly[Line_Weekly[\"Manufacturer\"].isin([\"PUMP\",\"REFILL\"]) == False]"
   ]
  },
  {
   "cell_type": "code",
   "execution_count": 30,
   "metadata": {},
   "outputs": [
    {
     "data": {
      "text/plain": [
       "{'',\n",
       " 'ALEN',\n",
       " 'BONA',\n",
       " 'CHURCH & DWIGHT',\n",
       " 'CLOROX',\n",
       " 'COLGATE-PALMOLIVE',\n",
       " 'HENKEL',\n",
       " 'P&G',\n",
       " 'PRESTIGE',\n",
       " 'PRVT LBL',\n",
       " 'RECKITT/BENK',\n",
       " 'SC JOHNSON',\n",
       " 'UNILEVER'}"
      ]
     },
     "execution_count": 30,
     "metadata": {},
     "output_type": "execute_result"
    }
   ],
   "source": [
    "set(Line_Weekly[\"Manufacturer\"])"
   ]
  },
  {
   "cell_type": "markdown",
   "metadata": {},
   "source": [
    "**Filter Condition**\n",
    "\n",
    "Taking only those products whose **Latest Month Dollar Share** is **greater than 0.02** for all the markets"
   ]
  },
  {
   "cell_type": "code",
   "execution_count": 31,
   "metadata": {},
   "outputs": [
    {
     "data": {
      "text/html": [
       "<div>\n",
       "<style scoped>\n",
       "    .dataframe tbody tr th:only-of-type {\n",
       "        vertical-align: middle;\n",
       "    }\n",
       "\n",
       "    .dataframe tbody tr th {\n",
       "        vertical-align: top;\n",
       "    }\n",
       "\n",
       "    .dataframe thead th {\n",
       "        text-align: right;\n",
       "    }\n",
       "</style>\n",
       "<table border=\"1\" class=\"dataframe\">\n",
       "  <thead>\n",
       "    <tr style=\"text-align: right;\">\n",
       "      <th></th>\n",
       "      <th>Key</th>\n",
       "      <th>Markets</th>\n",
       "      <th>ShareBasis</th>\n",
       "      <th>Manufacturer</th>\n",
       "      <th>Franchise</th>\n",
       "      <th>Brand</th>\n",
       "      <th>SubBrand</th>\n",
       "      <th>Products</th>\n",
       "      <th>Facts</th>\n",
       "      <th>Latest Month</th>\n",
       "      <th>...</th>\n",
       "      <th>1 w/e 12/26/20</th>\n",
       "      <th>1 w/e 01/02/21</th>\n",
       "      <th>1 w/e 01/09/21</th>\n",
       "      <th>1 w/e 01/16/21</th>\n",
       "      <th>1 w/e 01/23/21</th>\n",
       "      <th>1 w/e 01/30/21</th>\n",
       "      <th>1 w/e 02/06/21</th>\n",
       "      <th>1 w/e 02/13/21</th>\n",
       "      <th>1 w/e 02/20/21</th>\n",
       "      <th>1 w/e 02/27/21</th>\n",
       "    </tr>\n",
       "  </thead>\n",
       "  <tbody>\n",
       "    <tr>\n",
       "      <th>0</th>\n",
       "      <td>Total US xAOCABRASIVEBase $</td>\n",
       "      <td>Total US xAOC</td>\n",
       "      <td>ABRASIVE</td>\n",
       "      <td></td>\n",
       "      <td></td>\n",
       "      <td></td>\n",
       "      <td></td>\n",
       "      <td>ABRASIVE</td>\n",
       "      <td>Base $</td>\n",
       "      <td>5955579.158</td>\n",
       "      <td>...</td>\n",
       "      <td>1364969.512</td>\n",
       "      <td>1509758.814</td>\n",
       "      <td>1620434.913</td>\n",
       "      <td>1635931.305</td>\n",
       "      <td>1624448.824</td>\n",
       "      <td>1563191.929</td>\n",
       "      <td>1556592.188</td>\n",
       "      <td>1493946.726</td>\n",
       "      <td>1394783.854</td>\n",
       "      <td>1510256.390</td>\n",
       "    </tr>\n",
       "    <tr>\n",
       "      <th>1</th>\n",
       "      <td>Total US xAOCABRASIVEBase $ YA</td>\n",
       "      <td>Total US xAOC</td>\n",
       "      <td>ABRASIVE</td>\n",
       "      <td></td>\n",
       "      <td></td>\n",
       "      <td></td>\n",
       "      <td></td>\n",
       "      <td>ABRASIVE</td>\n",
       "      <td>Base $ YA</td>\n",
       "      <td>5292962.081</td>\n",
       "      <td>...</td>\n",
       "      <td>1180659.429</td>\n",
       "      <td>1289581.733</td>\n",
       "      <td>1325394.686</td>\n",
       "      <td>1325374.607</td>\n",
       "      <td>1317433.686</td>\n",
       "      <td>1301997.814</td>\n",
       "      <td>1304416.292</td>\n",
       "      <td>1287901.762</td>\n",
       "      <td>1310263.094</td>\n",
       "      <td>1390380.934</td>\n",
       "    </tr>\n",
       "    <tr>\n",
       "      <th>2</th>\n",
       "      <td>Total US xAOCABRASIVEAny Disp %ACV Chg YA</td>\n",
       "      <td>Total US xAOC</td>\n",
       "      <td>ABRASIVE</td>\n",
       "      <td></td>\n",
       "      <td></td>\n",
       "      <td></td>\n",
       "      <td></td>\n",
       "      <td>ABRASIVE</td>\n",
       "      <td>Any Disp %ACV Chg YA</td>\n",
       "      <td>-1.237</td>\n",
       "      <td>...</td>\n",
       "      <td>-0.967</td>\n",
       "      <td>-1.306</td>\n",
       "      <td>-1.310</td>\n",
       "      <td>-1.275</td>\n",
       "      <td>-1.268</td>\n",
       "      <td>-1.136</td>\n",
       "      <td>-1.185</td>\n",
       "      <td>-1.308</td>\n",
       "      <td>-1.354</td>\n",
       "      <td>-1.104</td>\n",
       "    </tr>\n",
       "    <tr>\n",
       "      <th>3</th>\n",
       "      <td>Total US xAOCABRASIVEAny Feat %ACV YA</td>\n",
       "      <td>Total US xAOC</td>\n",
       "      <td>ABRASIVE</td>\n",
       "      <td></td>\n",
       "      <td></td>\n",
       "      <td></td>\n",
       "      <td></td>\n",
       "      <td>ABRASIVE</td>\n",
       "      <td>Any Feat %ACV YA</td>\n",
       "      <td>0.458</td>\n",
       "      <td>...</td>\n",
       "      <td>0.007</td>\n",
       "      <td>0.792</td>\n",
       "      <td>1.194</td>\n",
       "      <td>0.747</td>\n",
       "      <td>0.239</td>\n",
       "      <td>0.544</td>\n",
       "      <td>0.554</td>\n",
       "      <td>0.536</td>\n",
       "      <td>0.693</td>\n",
       "      <td>0.058</td>\n",
       "    </tr>\n",
       "    <tr>\n",
       "      <th>4</th>\n",
       "      <td>Total US xAOCABRASIVEAny Feat %ACV</td>\n",
       "      <td>Total US xAOC</td>\n",
       "      <td>ABRASIVE</td>\n",
       "      <td></td>\n",
       "      <td></td>\n",
       "      <td></td>\n",
       "      <td></td>\n",
       "      <td>ABRASIVE</td>\n",
       "      <td>Any Feat %ACV</td>\n",
       "      <td>28.928</td>\n",
       "      <td>...</td>\n",
       "      <td>0.951</td>\n",
       "      <td>0.000</td>\n",
       "      <td>0.008</td>\n",
       "      <td>0.370</td>\n",
       "      <td>0.430</td>\n",
       "      <td>0.000</td>\n",
       "      <td>28.137</td>\n",
       "      <td>28.790</td>\n",
       "      <td>30.372</td>\n",
       "      <td>28.405</td>\n",
       "    </tr>\n",
       "  </tbody>\n",
       "</table>\n",
       "<p>5 rows × 114 columns</p>\n",
       "</div>"
      ],
      "text/plain": [
       "                                         Key        Markets ShareBasis  \\\n",
       "0                Total US xAOCABRASIVEBase $  Total US xAOC   ABRASIVE   \n",
       "1             Total US xAOCABRASIVEBase $ YA  Total US xAOC   ABRASIVE   \n",
       "2  Total US xAOCABRASIVEAny Disp %ACV Chg YA  Total US xAOC   ABRASIVE   \n",
       "3      Total US xAOCABRASIVEAny Feat %ACV YA  Total US xAOC   ABRASIVE   \n",
       "4         Total US xAOCABRASIVEAny Feat %ACV  Total US xAOC   ABRASIVE   \n",
       "\n",
       "  Manufacturer Franchise Brand SubBrand  Products                 Facts  \\\n",
       "0                                        ABRASIVE                Base $   \n",
       "1                                        ABRASIVE             Base $ YA   \n",
       "2                                        ABRASIVE  Any Disp %ACV Chg YA   \n",
       "3                                        ABRASIVE      Any Feat %ACV YA   \n",
       "4                                        ABRASIVE         Any Feat %ACV   \n",
       "\n",
       "   Latest Month  ...  1 w/e 12/26/20  1 w/e 01/02/21  1 w/e 01/09/21  \\\n",
       "0   5955579.158  ...     1364969.512     1509758.814     1620434.913   \n",
       "1   5292962.081  ...     1180659.429     1289581.733     1325394.686   \n",
       "2        -1.237  ...          -0.967          -1.306          -1.310   \n",
       "3         0.458  ...           0.007           0.792           1.194   \n",
       "4        28.928  ...           0.951           0.000           0.008   \n",
       "\n",
       "   1 w/e 01/16/21  1 w/e 01/23/21  1 w/e 01/30/21  1 w/e 02/06/21  \\\n",
       "0     1635931.305     1624448.824     1563191.929     1556592.188   \n",
       "1     1325374.607     1317433.686     1301997.814     1304416.292   \n",
       "2          -1.275          -1.268          -1.136          -1.185   \n",
       "3           0.747           0.239           0.544           0.554   \n",
       "4           0.370           0.430           0.000          28.137   \n",
       "\n",
       "   1 w/e 02/13/21  1 w/e 02/20/21  1 w/e 02/27/21  \n",
       "0     1493946.726     1394783.854     1510256.390  \n",
       "1     1287901.762     1310263.094     1390380.934  \n",
       "2          -1.308          -1.354          -1.104  \n",
       "3           0.536           0.693           0.058  \n",
       "4          28.790          30.372          28.405  \n",
       "\n",
       "[5 rows x 114 columns]"
      ]
     },
     "execution_count": 31,
     "metadata": {},
     "output_type": "execute_result"
    }
   ],
   "source": [
    "Line_Weekly.head()"
   ]
  },
  {
   "cell_type": "code",
   "execution_count": 32,
   "metadata": {},
   "outputs": [],
   "source": [
    "Line_Weekly.iloc[:,10:]= Line_Weekly.iloc[:,10:].apply(pd.to_numeric)"
   ]
  },
  {
   "cell_type": "code",
   "execution_count": null,
   "metadata": {},
   "outputs": [],
   "source": [
    "# df=Line_Weekly[(Line_Weekly['Facts'] == '$ Shr - CP CATEGORY') & (Line_Weekly[\"Latest Month\"]>0.02)]\n",
    "# df=df[df.iloc[:,25]>0.02]"
   ]
  },
  {
   "cell_type": "code",
   "execution_count": null,
   "metadata": {},
   "outputs": [],
   "source": [
    "# total number of unique Products \n",
    "# len(np.unique(list(df[\"Products\"])))"
   ]
  },
  {
   "cell_type": "code",
   "execution_count": null,
   "metadata": {},
   "outputs": [],
   "source": [
    "# Line_Weekly=Line_Weekly[Line_Weekly['Products'].isin(list(df[\"Products\"]))]\n",
    "# Line_Weekly.head(3)"
   ]
  },
  {
   "cell_type": "code",
   "execution_count": null,
   "metadata": {},
   "outputs": [],
   "source": [
    "# len(np.unique(list(Line_Weekly[\"Products\"])))"
   ]
  },
  {
   "cell_type": "code",
   "execution_count": null,
   "metadata": {},
   "outputs": [],
   "source": [
    "# Line_Weekly.shape"
   ]
  },
  {
   "cell_type": "markdown",
   "metadata": {},
   "source": [
    "**Category column**\n",
    "\n",
    "Creating a extra column name \"Category\" from column \"ShareBasis\""
   ]
  },
  {
   "cell_type": "code",
   "execution_count": 33,
   "metadata": {},
   "outputs": [],
   "source": [
    "df1= pd.DataFrame(Line_Weekly[\"ShareBasis\"])"
   ]
  },
  {
   "cell_type": "code",
   "execution_count": 34,
   "metadata": {
    "scrolled": true
   },
   "outputs": [
    {
     "data": {
      "text/html": [
       "<div>\n",
       "<style scoped>\n",
       "    .dataframe tbody tr th:only-of-type {\n",
       "        vertical-align: middle;\n",
       "    }\n",
       "\n",
       "    .dataframe tbody tr th {\n",
       "        vertical-align: top;\n",
       "    }\n",
       "\n",
       "    .dataframe thead th {\n",
       "        text-align: right;\n",
       "    }\n",
       "</style>\n",
       "<table border=\"1\" class=\"dataframe\">\n",
       "  <thead>\n",
       "    <tr style=\"text-align: right;\">\n",
       "      <th></th>\n",
       "      <th>ShareBasis</th>\n",
       "      <th>Category</th>\n",
       "    </tr>\n",
       "  </thead>\n",
       "  <tbody>\n",
       "    <tr>\n",
       "      <th>0</th>\n",
       "      <td>ABRASIVE</td>\n",
       "      <td>HHC</td>\n",
       "    </tr>\n",
       "    <tr>\n",
       "      <th>1</th>\n",
       "      <td>ABRASIVE</td>\n",
       "      <td>HHC</td>\n",
       "    </tr>\n",
       "    <tr>\n",
       "      <th>2</th>\n",
       "      <td>ABRASIVE</td>\n",
       "      <td>HHC</td>\n",
       "    </tr>\n",
       "  </tbody>\n",
       "</table>\n",
       "</div>"
      ],
      "text/plain": [
       "  ShareBasis Category\n",
       "0   ABRASIVE      HHC\n",
       "1   ABRASIVE      HHC\n",
       "2   ABRASIVE      HHC"
      ]
     },
     "execution_count": 34,
     "metadata": {},
     "output_type": "execute_result"
    }
   ],
   "source": [
    "def fun_category(x):\n",
    "    if x == 'TOOTHPASTE' or x == 'WHITENING SYS':\n",
    "        return \"TP\"\n",
    "    elif x=='POUR APC+WW' or x==\"WOOD\" or x== 'ABRASIVE' or x== \"APC+WW\" or x=='FLOOR WAX' or x=='OUTDOOR' or x=='DRY WIPES' or x=='SPRAY':\n",
    "        return \"HHC\"\n",
    "    elif x=='MANUAL':\n",
    "        return 'MTB'\n",
    "    elif x=='POWER' or x=='PORTABLE TB' or x == 'ELECTRIC' or x == 'BATTERY+HYBRID' or x == 'BATTERY':\n",
    "        return \"PTB\"\n",
    "    elif x=='BODYWASH':\n",
    "        return \"BW\"\n",
    "    elif x=='MOUTHWASH':\n",
    "        return 'MW'\n",
    "    elif x=='BAR':\n",
    "        return \"BAR\"\n",
    "    elif x=='LIQUID':\n",
    "        return 'LHS'\n",
    "    elif x=='FABRIC SOFTENERS' or x == 'BEAD FS' or x== 'LIQUID FS' or x == \"SHEETS\" or x==\"SCENT BOOSTERS\" :\n",
    "        return \"FS\"\n",
    "    elif x=='LDL+FOAM' or x == 'MFR Sun Products' or x=='LDL/DISHAIDS/WPS/FM/SPRAYS':\n",
    "        return 'LDL'\n",
    "    else:\n",
    "        return 'N/A'\n",
    "    # Add elif statements....\n",
    "\n",
    "df1['Category']= df1['ShareBasis'].apply(fun_category)\n",
    "df1.head(3)"
   ]
  },
  {
   "cell_type": "code",
   "execution_count": 35,
   "metadata": {},
   "outputs": [],
   "source": [
    "Line_Weekly['Category']=df1['Category']"
   ]
  },
  {
   "cell_type": "code",
   "execution_count": 36,
   "metadata": {},
   "outputs": [
    {
     "data": {
      "text/plain": [
       "{'ABRASIVE', 'APC+WW', 'POUR APC+WW', 'SPRAY', 'WOOD'}"
      ]
     },
     "execution_count": 36,
     "metadata": {},
     "output_type": "execute_result"
    }
   ],
   "source": [
    "set(Line_Weekly[\"ShareBasis\"])"
   ]
  },
  {
   "cell_type": "code",
   "execution_count": 37,
   "metadata": {},
   "outputs": [
    {
     "data": {
      "text/plain": [
       "{'ALBSCO Total Company TA',\n",
       " 'Ahold USA Corp Total TA',\n",
       " 'BJs Total TA',\n",
       " 'CVS Total Corp WO HI TA',\n",
       " 'Dol Gen Total TA',\n",
       " 'Family Dollar Total TA',\n",
       " 'Fiesta Total TA',\n",
       " 'Kmart Total TA',\n",
       " 'Meijer Total TA',\n",
       " 'Publix Total TA',\n",
       " 'Rite Aid - Corp Total TA',\n",
       " \"Sam's Total TA\",\n",
       " 'ShopRite Total TA',\n",
       " 'Target Total BM/FF TA',\n",
       " 'Total US Drug',\n",
       " 'Total US Food',\n",
       " 'Total US xAOC',\n",
       " 'Walgreens Total TA',\n",
       " 'Walmart Total US TA'}"
      ]
     },
     "execution_count": 37,
     "metadata": {},
     "output_type": "execute_result"
    }
   ],
   "source": [
    "set(Line_Weekly[\"Markets\"])"
   ]
  },
  {
   "cell_type": "code",
   "execution_count": 38,
   "metadata": {
    "scrolled": false
   },
   "outputs": [
    {
     "data": {
      "text/html": [
       "<div>\n",
       "<style scoped>\n",
       "    .dataframe tbody tr th:only-of-type {\n",
       "        vertical-align: middle;\n",
       "    }\n",
       "\n",
       "    .dataframe tbody tr th {\n",
       "        vertical-align: top;\n",
       "    }\n",
       "\n",
       "    .dataframe thead th {\n",
       "        text-align: right;\n",
       "    }\n",
       "</style>\n",
       "<table border=\"1\" class=\"dataframe\">\n",
       "  <thead>\n",
       "    <tr style=\"text-align: right;\">\n",
       "      <th></th>\n",
       "      <th>Key</th>\n",
       "      <th>Markets</th>\n",
       "      <th>ShareBasis</th>\n",
       "      <th>Category</th>\n",
       "      <th>Manufacturer</th>\n",
       "      <th>Franchise</th>\n",
       "      <th>Brand</th>\n",
       "      <th>SubBrand</th>\n",
       "      <th>Products</th>\n",
       "      <th>Facts</th>\n",
       "      <th>...</th>\n",
       "      <th>1 w/e 12/26/20</th>\n",
       "      <th>1 w/e 01/02/21</th>\n",
       "      <th>1 w/e 01/09/21</th>\n",
       "      <th>1 w/e 01/16/21</th>\n",
       "      <th>1 w/e 01/23/21</th>\n",
       "      <th>1 w/e 01/30/21</th>\n",
       "      <th>1 w/e 02/06/21</th>\n",
       "      <th>1 w/e 02/13/21</th>\n",
       "      <th>1 w/e 02/20/21</th>\n",
       "      <th>1 w/e 02/27/21</th>\n",
       "    </tr>\n",
       "  </thead>\n",
       "  <tbody>\n",
       "    <tr>\n",
       "      <th>0</th>\n",
       "      <td>Total US xAOCABRASIVEBase $</td>\n",
       "      <td>Total US xAOC</td>\n",
       "      <td>ABRASIVE</td>\n",
       "      <td>HHC</td>\n",
       "      <td></td>\n",
       "      <td></td>\n",
       "      <td></td>\n",
       "      <td></td>\n",
       "      <td>ABRASIVE</td>\n",
       "      <td>Base $</td>\n",
       "      <td>...</td>\n",
       "      <td>1364969.512</td>\n",
       "      <td>1509758.814</td>\n",
       "      <td>1620434.913</td>\n",
       "      <td>1635931.305</td>\n",
       "      <td>1624448.824</td>\n",
       "      <td>1563191.929</td>\n",
       "      <td>1556592.188</td>\n",
       "      <td>1493946.726</td>\n",
       "      <td>1394783.854</td>\n",
       "      <td>1510256.390</td>\n",
       "    </tr>\n",
       "    <tr>\n",
       "      <th>1</th>\n",
       "      <td>Total US xAOCABRASIVEBase $ YA</td>\n",
       "      <td>Total US xAOC</td>\n",
       "      <td>ABRASIVE</td>\n",
       "      <td>HHC</td>\n",
       "      <td></td>\n",
       "      <td></td>\n",
       "      <td></td>\n",
       "      <td></td>\n",
       "      <td>ABRASIVE</td>\n",
       "      <td>Base $ YA</td>\n",
       "      <td>...</td>\n",
       "      <td>1180659.429</td>\n",
       "      <td>1289581.733</td>\n",
       "      <td>1325394.686</td>\n",
       "      <td>1325374.607</td>\n",
       "      <td>1317433.686</td>\n",
       "      <td>1301997.814</td>\n",
       "      <td>1304416.292</td>\n",
       "      <td>1287901.762</td>\n",
       "      <td>1310263.094</td>\n",
       "      <td>1390380.934</td>\n",
       "    </tr>\n",
       "    <tr>\n",
       "      <th>2</th>\n",
       "      <td>Total US xAOCABRASIVEAny Disp %ACV Chg YA</td>\n",
       "      <td>Total US xAOC</td>\n",
       "      <td>ABRASIVE</td>\n",
       "      <td>HHC</td>\n",
       "      <td></td>\n",
       "      <td></td>\n",
       "      <td></td>\n",
       "      <td></td>\n",
       "      <td>ABRASIVE</td>\n",
       "      <td>Any Disp %ACV Chg YA</td>\n",
       "      <td>...</td>\n",
       "      <td>-0.967</td>\n",
       "      <td>-1.306</td>\n",
       "      <td>-1.310</td>\n",
       "      <td>-1.275</td>\n",
       "      <td>-1.268</td>\n",
       "      <td>-1.136</td>\n",
       "      <td>-1.185</td>\n",
       "      <td>-1.308</td>\n",
       "      <td>-1.354</td>\n",
       "      <td>-1.104</td>\n",
       "    </tr>\n",
       "  </tbody>\n",
       "</table>\n",
       "<p>3 rows × 115 columns</p>\n",
       "</div>"
      ],
      "text/plain": [
       "                                         Key        Markets ShareBasis  \\\n",
       "0                Total US xAOCABRASIVEBase $  Total US xAOC   ABRASIVE   \n",
       "1             Total US xAOCABRASIVEBase $ YA  Total US xAOC   ABRASIVE   \n",
       "2  Total US xAOCABRASIVEAny Disp %ACV Chg YA  Total US xAOC   ABRASIVE   \n",
       "\n",
       "  Category Manufacturer Franchise Brand SubBrand  Products  \\\n",
       "0      HHC                                        ABRASIVE   \n",
       "1      HHC                                        ABRASIVE   \n",
       "2      HHC                                        ABRASIVE   \n",
       "\n",
       "                  Facts  ...  1 w/e 12/26/20  1 w/e 01/02/21  1 w/e 01/09/21  \\\n",
       "0                Base $  ...     1364969.512     1509758.814     1620434.913   \n",
       "1             Base $ YA  ...     1180659.429     1289581.733     1325394.686   \n",
       "2  Any Disp %ACV Chg YA  ...          -0.967          -1.306          -1.310   \n",
       "\n",
       "   1 w/e 01/16/21  1 w/e 01/23/21  1 w/e 01/30/21  1 w/e 02/06/21  \\\n",
       "0     1635931.305     1624448.824     1563191.929     1556592.188   \n",
       "1     1325374.607     1317433.686     1301997.814     1304416.292   \n",
       "2          -1.275          -1.268          -1.136          -1.185   \n",
       "\n",
       "   1 w/e 02/13/21  1 w/e 02/20/21  1 w/e 02/27/21  \n",
       "0     1493946.726     1394783.854     1510256.390  \n",
       "1     1287901.762     1310263.094     1390380.934  \n",
       "2          -1.308          -1.354          -1.104  \n",
       "\n",
       "[3 rows x 115 columns]"
      ]
     },
     "execution_count": 38,
     "metadata": {},
     "output_type": "execute_result"
    }
   ],
   "source": [
    "#Moving column \"Category\" after column \"ShareBasis\"\n",
    "\n",
    "Line_Weekly = movecol(Line_Weekly, \n",
    "             cols_to_move=['Category'], \n",
    "             ref_col='ShareBasis',\n",
    "             place='After')\n",
    "Line_Weekly.head(3)"
   ]
  },
  {
   "cell_type": "code",
   "execution_count": 39,
   "metadata": {},
   "outputs": [],
   "source": [
    "Line_Weekly_copy=Line_Weekly.copy()"
   ]
  },
  {
   "cell_type": "code",
   "execution_count": 40,
   "metadata": {
    "scrolled": true
   },
   "outputs": [
    {
     "data": {
      "text/plain": [
       "{'ABRASIVE', 'APC+WW', 'POUR APC+WW', 'SPRAY', 'WOOD'}"
      ]
     },
     "execution_count": 40,
     "metadata": {},
     "output_type": "execute_result"
    }
   ],
   "source": [
    "set(Line_Weekly[\"ShareBasis\"])"
   ]
  },
  {
   "cell_type": "code",
   "execution_count": 41,
   "metadata": {},
   "outputs": [
    {
     "data": {
      "text/plain": [
       "{'APC+WW', 'POUR APC+WW', 'SPRAY', 'WOOD'}"
      ]
     },
     "execution_count": 41,
     "metadata": {},
     "output_type": "execute_result"
    }
   ],
   "source": [
    "set(Line_Weekly[Line_Weekly[\"Facts\"].isin([\"$\",\"$ YA\"])][\"ShareBasis\"])"
   ]
  },
  {
   "cell_type": "markdown",
   "metadata": {},
   "source": [
    "## Executive Summary Weekly"
   ]
  },
  {
   "cell_type": "markdown",
   "metadata": {},
   "source": [
    " "
   ]
  },
  {
   "cell_type": "code",
   "execution_count": null,
   "metadata": {},
   "outputs": [],
   "source": [
    "Roll=Line_Weekly.copy()"
   ]
  },
  {
   "cell_type": "code",
   "execution_count": null,
   "metadata": {},
   "outputs": [],
   "source": [
    "Roll.head()"
   ]
  },
  {
   "cell_type": "code",
   "execution_count": null,
   "metadata": {},
   "outputs": [],
   "source": [
    "Time_Period=list(Roll.columns[-13:])\n",
    "print(Time_Period)"
   ]
  },
  {
   "cell_type": "code",
   "execution_count": null,
   "metadata": {},
   "outputs": [],
   "source": [
    "Market=[\"Total US xAOC\"]\n",
    "\n",
    "Core_Category=['BAR', 'BODYWASH', 'LDL/DISHAIDS/WPS/FM/SPRAYS', 'LIQUID', 'LIQUID FS', 'MANUAL', 'MOUTHWASH',\n",
    "             'POUR APC+WW', 'POWER', 'TOOTHPASTE']\n",
    "\n",
    "Facts =[\"$\",\"$ YA\"]\n",
    "\n",
    "Roll_Market=Roll.loc[(Roll[\"Manufacturer\"]==\"COLGATE-PALMOLIVE\") & (Roll[\"Franchise\"]==\"\") & (Roll[\"Brand\"]==\"\") & \n",
    "           (Roll[\"SubBrand\"]==\"\") & (Roll[\"Markets\"].isin(Market))& (Roll[\"Facts\"].isin(Facts)) &\n",
    "            (Roll[\"ShareBasis\"].isin(Core_Category))]\n"
   ]
  },
  {
   "cell_type": "code",
   "execution_count": null,
   "metadata": {},
   "outputs": [],
   "source": [
    "set(Roll_Market['ShareBasis'])"
   ]
  },
  {
   "cell_type": "code",
   "execution_count": null,
   "metadata": {},
   "outputs": [],
   "source": [
    "del Roll_Market[\"Key\"]\n",
    "del Roll_Market[\"Category\"]\n",
    "del Roll_Market[\"Manufacturer\"]\n",
    "del Roll_Market[\"Franchise\"]\n",
    "del Roll_Market[\"Brand\"]\n",
    "del Roll_Market[\"SubBrand\"]\n",
    "del Roll_Market[\"Products\"]"
   ]
  },
  {
   "cell_type": "code",
   "execution_count": null,
   "metadata": {
    "scrolled": true
   },
   "outputs": [],
   "source": [
    "Roll_Market.shape"
   ]
  },
  {
   "cell_type": "code",
   "execution_count": null,
   "metadata": {
    "scrolled": true
   },
   "outputs": [],
   "source": [
    "Roll_Market.head(2)"
   ]
  },
  {
   "cell_type": "markdown",
   "metadata": {},
   "source": [
    "**reading UAP_Weekly file**"
   ]
  },
  {
   "cell_type": "code",
   "execution_count": null,
   "metadata": {},
   "outputs": [],
   "source": [
    "UAP_Weekly=pd.read_excel(\"//falmumapp34/Nielsen Connect Transition & Maintenance (20-SCP-3650)/03. Raw Data/Connect Data/UAP_ADD_Data/UAP_Weekly.xlsx\")"
   ]
  },
  {
   "cell_type": "code",
   "execution_count": null,
   "metadata": {},
   "outputs": [],
   "source": [
    "UAP_Weekly.rename(columns={\"Periods\":\"Facts\",\"Products\":\"ShareBasis\"},inplace=True)"
   ]
  },
  {
   "cell_type": "code",
   "execution_count": null,
   "metadata": {
    "scrolled": false
   },
   "outputs": [],
   "source": [
    "UAP_Weekly.head()"
   ]
  },
  {
   "cell_type": "markdown",
   "metadata": {},
   "source": [
    "**adding UAP data in Roll_Market**"
   ]
  },
  {
   "cell_type": "code",
   "execution_count": null,
   "metadata": {},
   "outputs": [],
   "source": [
    "Roll_Market_with_UAP = pd.concat([Roll_Market,UAP_Weekly],axis=0,ignore_index=True)"
   ]
  },
  {
   "cell_type": "code",
   "execution_count": null,
   "metadata": {},
   "outputs": [],
   "source": [
    "Roll_Market_with_UAP.drop_duplicates(subset=[\"Markets\",\"ShareBasis\",\"Facts\"],keep='last',inplace=True)"
   ]
  },
  {
   "cell_type": "code",
   "execution_count": null,
   "metadata": {},
   "outputs": [],
   "source": [
    "for i in range(0,len(Time_Period)):\n",
    "    \n",
    "    # groupby \"Markets\" and \"Facts\" as **sum** for Time_Period[i]\n",
    "    df=Roll_Market_with_UAP.groupby([\"Markets\",\"Facts\"])[Time_Period[i]].aggregate('sum').unstack()\n",
    "    \n",
    "    df.reset_index(inplace=True)\n",
    "    \n",
    "    # Calculating \"$ % Chg YA\"\n",
    "    df[\"$ % Chg YA\"]=((df[\"$\"]-df[\"$ YA\"])/df[\"$ YA\"])*100\n",
    "\n",
    "    \n",
    "    df=pd.melt(df, id_vars =[\"Markets\"], value_vars =list(df.columns[1:]),value_name=Time_Period[i]) \n",
    "    \n",
    "#     df.rename(columns={\"value\":Time_Period[i]},inplace=True)\n",
    "    \n",
    "    if (i == 0):\n",
    "        Roll_Market_final=df\n",
    "    else:\n",
    "        Roll_Market_final=pd.merge(Roll_Market_final,df,how='left',left_on=[\"Markets\",\"Facts\"],right_on=[\"Markets\",\"Facts\"])\n",
    "               "
   ]
  },
  {
   "cell_type": "code",
   "execution_count": null,
   "metadata": {},
   "outputs": [],
   "source": [
    "Roll_Market_final.head()"
   ]
  },
  {
   "cell_type": "code",
   "execution_count": null,
   "metadata": {
    "scrolled": true
   },
   "outputs": [],
   "source": [
    "#sorting \n",
    "Roll_Market_final.sort_values(['Markets','Facts'],ascending=[True,True]) "
   ]
  },
  {
   "cell_type": "code",
   "execution_count": null,
   "metadata": {},
   "outputs": [],
   "source": [
    "Roll_Market_final[\"Key\"]=Roll_Market_final[\"Markets\"]+Roll_Market_final[\"Facts\"]\n",
    "Roll_Market_final = movecol(Roll_Market_final, \n",
    "             cols_to_move=['Key'], \n",
    "             ref_col='Markets',\n",
    "             place='Before')"
   ]
  },
  {
   "cell_type": "code",
   "execution_count": null,
   "metadata": {},
   "outputs": [],
   "source": [
    "Roll_Market_final.to_csv(\"//falmumapp34/Nielsen Connect Transition & Maintenance (20-SCP-3650)/05. Output Data\\Executive Summary RollUp Weekly.csv\",index=False)"
   ]
  },
  {
   "cell_type": "code",
   "execution_count": null,
   "metadata": {},
   "outputs": [],
   "source": []
  },
  {
   "cell_type": "markdown",
   "metadata": {},
   "source": [
    "## Filter Condition"
   ]
  },
  {
   "cell_type": "markdown",
   "metadata": {},
   "source": [
    "**Filter Condition**\n",
    "\n",
    "Taking only those products whose **Latest Month Dollar Share** is **greater than 0.02** for all the markets"
   ]
  },
  {
   "cell_type": "code",
   "execution_count": 42,
   "metadata": {},
   "outputs": [
    {
     "data": {
      "text/plain": [
       "{'',\n",
       " 'ALEN',\n",
       " 'BONA',\n",
       " 'CHURCH & DWIGHT',\n",
       " 'CLOROX',\n",
       " 'COLGATE-PALMOLIVE',\n",
       " 'HENKEL',\n",
       " 'P&G',\n",
       " 'PRESTIGE',\n",
       " 'PRVT LBL',\n",
       " 'RECKITT/BENK',\n",
       " 'SC JOHNSON',\n",
       " 'UNILEVER'}"
      ]
     },
     "execution_count": 42,
     "metadata": {},
     "output_type": "execute_result"
    }
   ],
   "source": [
    "set(Line_Weekly[\"Manufacturer\"])"
   ]
  },
  {
   "cell_type": "code",
   "execution_count": 43,
   "metadata": {},
   "outputs": [
    {
     "data": {
      "text/plain": [
       "Index(['Facts'], dtype='object')"
      ]
     },
     "execution_count": 43,
     "metadata": {},
     "output_type": "execute_result"
    }
   ],
   "source": [
    "Line_Weekly.columns[9:10]"
   ]
  },
  {
   "cell_type": "code",
   "execution_count": 44,
   "metadata": {},
   "outputs": [],
   "source": [
    "#Line_Weekly.to_csv(path_LHS+\"Hi.csv\",index=False)"
   ]
  },
  {
   "cell_type": "code",
   "execution_count": 45,
   "metadata": {},
   "outputs": [],
   "source": [
    "Line_Weekly.iloc[:,10:]= Line_Weekly.iloc[:,10:].apply(pd.to_numeric)"
   ]
  },
  {
   "cell_type": "code",
   "execution_count": 46,
   "metadata": {},
   "outputs": [
    {
     "data": {
      "text/plain": [
       "Index(['Latest Month'], dtype='object')"
      ]
     },
     "execution_count": 46,
     "metadata": {},
     "output_type": "execute_result"
    }
   ],
   "source": [
    "Line_Weekly.columns[10:11]"
   ]
  },
  {
   "cell_type": "code",
   "execution_count": 47,
   "metadata": {},
   "outputs": [],
   "source": [
    "df=Line_Weekly[(Line_Weekly['Facts'] == '$ Shr - CP CATEGORY') & (Line_Weekly.iloc[:,10]>0.02)]\n",
    "\n",
    "df[\"Key\"]=df[\"Markets\"]+df[\"Products\"]\n",
    "Line_Weekly[\"Key\"]=Line_Weekly[\"Markets\"]+Line_Weekly[\"Products\"]\n",
    "\n",
    "Line_Weekly=Line_Weekly[Line_Weekly['Key'].isin(list(df[\"Key\"]))]"
   ]
  },
  {
   "cell_type": "code",
   "execution_count": 48,
   "metadata": {},
   "outputs": [
    {
     "data": {
      "text/plain": [
       "{'POUR APC+WW', 'SPRAY', 'WOOD'}"
      ]
     },
     "execution_count": 48,
     "metadata": {},
     "output_type": "execute_result"
    }
   ],
   "source": [
    "set(df[\"ShareBasis\"])"
   ]
  },
  {
   "cell_type": "code",
   "execution_count": 49,
   "metadata": {},
   "outputs": [
    {
     "data": {
      "text/plain": [
       "176"
      ]
     },
     "execution_count": 49,
     "metadata": {},
     "output_type": "execute_result"
    }
   ],
   "source": [
    "# total number of unique Products \n",
    "len(np.unique(list(df[\"Products\"])))"
   ]
  },
  {
   "cell_type": "code",
   "execution_count": 50,
   "metadata": {},
   "outputs": [
    {
     "data": {
      "text/html": [
       "<div>\n",
       "<style scoped>\n",
       "    .dataframe tbody tr th:only-of-type {\n",
       "        vertical-align: middle;\n",
       "    }\n",
       "\n",
       "    .dataframe tbody tr th {\n",
       "        vertical-align: top;\n",
       "    }\n",
       "\n",
       "    .dataframe thead th {\n",
       "        text-align: right;\n",
       "    }\n",
       "</style>\n",
       "<table border=\"1\" class=\"dataframe\">\n",
       "  <thead>\n",
       "    <tr style=\"text-align: right;\">\n",
       "      <th></th>\n",
       "      <th>Key</th>\n",
       "      <th>Markets</th>\n",
       "      <th>ShareBasis</th>\n",
       "      <th>Category</th>\n",
       "      <th>Manufacturer</th>\n",
       "      <th>Franchise</th>\n",
       "      <th>Brand</th>\n",
       "      <th>SubBrand</th>\n",
       "      <th>Products</th>\n",
       "      <th>Facts</th>\n",
       "      <th>...</th>\n",
       "      <th>1 w/e 12/26/20</th>\n",
       "      <th>1 w/e 01/02/21</th>\n",
       "      <th>1 w/e 01/09/21</th>\n",
       "      <th>1 w/e 01/16/21</th>\n",
       "      <th>1 w/e 01/23/21</th>\n",
       "      <th>1 w/e 01/30/21</th>\n",
       "      <th>1 w/e 02/06/21</th>\n",
       "      <th>1 w/e 02/13/21</th>\n",
       "      <th>1 w/e 02/20/21</th>\n",
       "      <th>1 w/e 02/27/21</th>\n",
       "    </tr>\n",
       "  </thead>\n",
       "  <tbody>\n",
       "    <tr>\n",
       "      <th>89431</th>\n",
       "      <td>Total US xAOCPOUR APC+WW</td>\n",
       "      <td>Total US xAOC</td>\n",
       "      <td>POUR APC+WW</td>\n",
       "      <td>HHC</td>\n",
       "      <td></td>\n",
       "      <td></td>\n",
       "      <td></td>\n",
       "      <td></td>\n",
       "      <td>POUR APC+WW</td>\n",
       "      <td>$</td>\n",
       "      <td>...</td>\n",
       "      <td>1.116527e+07</td>\n",
       "      <td>1.371579e+07</td>\n",
       "      <td>1.520929e+07</td>\n",
       "      <td>1.447710e+07</td>\n",
       "      <td>1.367455e+07</td>\n",
       "      <td>1.333296e+07</td>\n",
       "      <td>1.364818e+07</td>\n",
       "      <td>1.273876e+07</td>\n",
       "      <td>1.148594e+07</td>\n",
       "      <td>1.421712e+07</td>\n",
       "    </tr>\n",
       "    <tr>\n",
       "      <th>89432</th>\n",
       "      <td>Total US xAOCPOUR APC+WW</td>\n",
       "      <td>Total US xAOC</td>\n",
       "      <td>POUR APC+WW</td>\n",
       "      <td>HHC</td>\n",
       "      <td></td>\n",
       "      <td></td>\n",
       "      <td></td>\n",
       "      <td></td>\n",
       "      <td>POUR APC+WW</td>\n",
       "      <td>$ Shr - CP CATEGORY</td>\n",
       "      <td>...</td>\n",
       "      <td>1.000000e+02</td>\n",
       "      <td>1.000000e+02</td>\n",
       "      <td>1.000000e+02</td>\n",
       "      <td>1.000000e+02</td>\n",
       "      <td>1.000000e+02</td>\n",
       "      <td>1.000000e+02</td>\n",
       "      <td>1.000000e+02</td>\n",
       "      <td>1.000000e+02</td>\n",
       "      <td>1.000000e+02</td>\n",
       "      <td>1.000000e+02</td>\n",
       "    </tr>\n",
       "    <tr>\n",
       "      <th>89433</th>\n",
       "      <td>Total US xAOCPOUR APC+WW</td>\n",
       "      <td>Total US xAOC</td>\n",
       "      <td>POUR APC+WW</td>\n",
       "      <td>HHC</td>\n",
       "      <td></td>\n",
       "      <td></td>\n",
       "      <td></td>\n",
       "      <td></td>\n",
       "      <td>POUR APC+WW</td>\n",
       "      <td>$ YA</td>\n",
       "      <td>...</td>\n",
       "      <td>1.028952e+07</td>\n",
       "      <td>1.226631e+07</td>\n",
       "      <td>1.234414e+07</td>\n",
       "      <td>1.183108e+07</td>\n",
       "      <td>1.122231e+07</td>\n",
       "      <td>1.172172e+07</td>\n",
       "      <td>1.220595e+07</td>\n",
       "      <td>1.146393e+07</td>\n",
       "      <td>1.170128e+07</td>\n",
       "      <td>1.364677e+07</td>\n",
       "    </tr>\n",
       "  </tbody>\n",
       "</table>\n",
       "<p>3 rows × 115 columns</p>\n",
       "</div>"
      ],
      "text/plain": [
       "                            Key        Markets   ShareBasis Category  \\\n",
       "89431  Total US xAOCPOUR APC+WW  Total US xAOC  POUR APC+WW      HHC   \n",
       "89432  Total US xAOCPOUR APC+WW  Total US xAOC  POUR APC+WW      HHC   \n",
       "89433  Total US xAOCPOUR APC+WW  Total US xAOC  POUR APC+WW      HHC   \n",
       "\n",
       "      Manufacturer Franchise Brand SubBrand     Products                Facts  \\\n",
       "89431                                        POUR APC+WW                    $   \n",
       "89432                                        POUR APC+WW  $ Shr - CP CATEGORY   \n",
       "89433                                        POUR APC+WW                 $ YA   \n",
       "\n",
       "       ...  1 w/e 12/26/20  1 w/e 01/02/21  1 w/e 01/09/21  1 w/e 01/16/21  \\\n",
       "89431  ...    1.116527e+07    1.371579e+07    1.520929e+07    1.447710e+07   \n",
       "89432  ...    1.000000e+02    1.000000e+02    1.000000e+02    1.000000e+02   \n",
       "89433  ...    1.028952e+07    1.226631e+07    1.234414e+07    1.183108e+07   \n",
       "\n",
       "       1 w/e 01/23/21  1 w/e 01/30/21  1 w/e 02/06/21  1 w/e 02/13/21  \\\n",
       "89431    1.367455e+07    1.333296e+07    1.364818e+07    1.273876e+07   \n",
       "89432    1.000000e+02    1.000000e+02    1.000000e+02    1.000000e+02   \n",
       "89433    1.122231e+07    1.172172e+07    1.220595e+07    1.146393e+07   \n",
       "\n",
       "       1 w/e 02/20/21  1 w/e 02/27/21  \n",
       "89431    1.148594e+07    1.421712e+07  \n",
       "89432    1.000000e+02    1.000000e+02  \n",
       "89433    1.170128e+07    1.364677e+07  \n",
       "\n",
       "[3 rows x 115 columns]"
      ]
     },
     "execution_count": 50,
     "metadata": {},
     "output_type": "execute_result"
    }
   ],
   "source": [
    "Line_Weekly_filter=Line_Weekly[Line_Weekly['Products'].isin(list(df[\"Products\"]))]\n",
    "Line_Weekly_filter.head(3)"
   ]
  },
  {
   "cell_type": "code",
   "execution_count": 51,
   "metadata": {},
   "outputs": [
    {
     "data": {
      "text/plain": [
       "176"
      ]
     },
     "execution_count": 51,
     "metadata": {},
     "output_type": "execute_result"
    }
   ],
   "source": [
    "len(np.unique(list(Line_Weekly_filter[\"Products\"])))"
   ]
  },
  {
   "cell_type": "code",
   "execution_count": 52,
   "metadata": {
    "scrolled": true
   },
   "outputs": [
    {
     "data": {
      "text/plain": [
       "(36960, 115)"
      ]
     },
     "execution_count": 52,
     "metadata": {},
     "output_type": "execute_result"
    }
   ],
   "source": [
    "Line_Weekly_filter.shape"
   ]
  },
  {
   "cell_type": "code",
   "execution_count": 53,
   "metadata": {},
   "outputs": [
    {
     "data": {
      "text/plain": [
       "{'POUR APC+WW', 'SPRAY', 'WOOD'}"
      ]
     },
     "execution_count": 53,
     "metadata": {},
     "output_type": "execute_result"
    }
   ],
   "source": [
    "set(Line_Weekly_filter[\"ShareBasis\"])"
   ]
  },
  {
   "cell_type": "markdown",
   "metadata": {},
   "source": [
    "## 5p Weekly Data"
   ]
  },
  {
   "cell_type": "code",
   "execution_count": 54,
   "metadata": {},
   "outputs": [],
   "source": [
    "Data_5p= Line_Weekly_filter.copy()"
   ]
  },
  {
   "cell_type": "code",
   "execution_count": 55,
   "metadata": {},
   "outputs": [],
   "source": [
    "market_mapping={\n",
    "    \n",
    "     'ALBSCO Total Company TA':'Alb/Sfy',\n",
    "     'Agency Grocery':'Agency Grocery',\n",
    "     'Ahold USA Corp Total TA':\"Ahold\",\n",
    "     'BJs Total TA':\"BJs\",\n",
    "     'CLUB':\"CLUB\",\n",
    "     'CVS Total Corp WO HI TA':\"CVS\",\n",
    "     'Dol Gen Total TA':\"Dollar General\",\n",
    "     'FDM':\"FDM\",\n",
    "     'Family Dollar Total TA':\"Family Dollar\",\n",
    "     'Fiesta Total TA':\"Fiesta\",\n",
    "     'Giant Eagle Total TA':\"Giant Eagle\",\n",
    "     'Kmart Total TA':\"Kmart\",\n",
    "     'Meijer Total TA':\"Meijer\",\n",
    "     'Publix Total TA':\"Publix\",\n",
    "     'Rite Aid - Corp Total TA':\"Rite Aid\",\n",
    "     \"Sam's Total TA\":\"Sams\",\n",
    "     'ShopRite Total TA':\"Shoprite\",\n",
    "     'Strategic Grocery':\"Strategic Grocery\",\n",
    "     'TOTAL MASS':\"TOTAL MASS\",\n",
    "     'Target Total BM/FF TA':\"Target\",\n",
    "     'Total US Drug':\"US Drug\",\n",
    "     'Total US Food':\"US Food\",\n",
    "     'Total US xAOC':\"US AOC\",\n",
    "     'VDC':\"VDC\",\n",
    "     'Walgreens Total TA':\"Walgreens\",\n",
    "     'Walmart Total US TA':\"Walmart\",\n",
    "     'Wegmans Total TA':\"Wegmans\",\n",
    "    \"EL SUPER TOTAL TA\" : \"El Super\"\n",
    "    }"
   ]
  },
  {
   "cell_type": "code",
   "execution_count": 56,
   "metadata": {},
   "outputs": [],
   "source": [
    "Data_5p[\"Markets\"].replace(market_mapping,inplace=True)"
   ]
  },
  {
   "cell_type": "code",
   "execution_count": null,
   "metadata": {},
   "outputs": [],
   "source": [
    "#set(Line_Weekly[\"ShareBasis\"])"
   ]
  },
  {
   "cell_type": "markdown",
   "metadata": {},
   "source": [
    "# TOOTHPASTE"
   ]
  },
  {
   "cell_type": "code",
   "execution_count": null,
   "metadata": {},
   "outputs": [],
   "source": [
    "Promo_Weekly=Line_Weekly_filter.copy()"
   ]
  },
  {
   "cell_type": "code",
   "execution_count": null,
   "metadata": {},
   "outputs": [],
   "source": [
    "Promo_Weekly_TP= Promo_Weekly[Promo_Weekly[\"Category\"]==\"TP\"]"
   ]
  },
  {
   "cell_type": "markdown",
   "metadata": {},
   "source": [
    "**path for 5p output data**"
   ]
  },
  {
   "cell_type": "code",
   "execution_count": null,
   "metadata": {},
   "outputs": [],
   "source": [
    "path_TP=\"//falmumapp34/Nielsen Connect Transition & Maintenance (20-SCP-3650)/05. Output Data/5P Output/TP/\""
   ]
  },
  {
   "cell_type": "markdown",
   "metadata": {},
   "source": [
    "## Promotion"
   ]
  },
  {
   "cell_type": "markdown",
   "metadata": {},
   "source": [
    "### Promo Weekly"
   ]
  },
  {
   "cell_type": "code",
   "execution_count": null,
   "metadata": {},
   "outputs": [],
   "source": [
    "del Promo_Weekly_TP[\"Key\"]"
   ]
  },
  {
   "cell_type": "code",
   "execution_count": null,
   "metadata": {
    "scrolled": true
   },
   "outputs": [],
   "source": [
    "Promo_Weekly_TP.head()"
   ]
  },
  {
   "cell_type": "markdown",
   "metadata": {},
   "source": [
    "**Facts, Markets, ShareBasis and TimePeriod Selection**"
   ]
  },
  {
   "cell_type": "code",
   "execution_count": null,
   "metadata": {},
   "outputs": [],
   "source": [
    "Facts=[\"Any Disp %ACV\",\"Any Feat %ACV\",\"Base $\",\"Base $ Shr - CP CATEGORY\",\"Incr $\",\"Incr $ Shr - CP CATEGORY\",\"Avg EQ Price\"]\n",
    "\n",
    "Markets=[\"ALBSCO Total Company TA\",\"Ahold USA Corp Total TA\",\"BJs Total TA\",\"CVS Total Corp WO HI TA\",\"Dol Gen Total TA\",\"Family Dollar Total TA\",\n",
    "        \"Meijer Total TA\",\"Publix Total TA\",\"Rite Aid - Corp Total TA\",\"Sam's Total TA\",\"ShopRite Total TA\",\n",
    "        \"Target Total BM/FF TA\",'Total US Drug','Total US Food','Total US xAOC',\"Walgreens Total TA\",\"Walmart Total US TA\"]\n",
    "\n",
    "ShareBasis=[\"TOOTHPASTE\",\"MOUTHWASH\",\"MANUAL\",\"POWER\",\"BAR\",\"BODYWASH\",\"LIQUID\",\"ABRASIVE\",\"FABRIC SOFTENERS\",\"LDL+FOAM\"]\n",
    "\n",
    "# Time_Period should be in the below order only\n",
    "Time_Period=list(Promo_Weekly_TP.columns[0:1])+list(Promo_Weekly_TP.columns[7:8])+list(Promo_Weekly_TP.columns[1:7])+list(Promo_Weekly_TP.columns[8:9])+list(Promo_Weekly_TP.columns[-104:])\n",
    "print(Time_Period)"
   ]
  },
  {
   "cell_type": "code",
   "execution_count": null,
   "metadata": {},
   "outputs": [],
   "source": [
    "# Filter Data based on above selection\n",
    "Promo_Weekly_TP= Promo_Weekly_TP[Promo_Weekly_TP[\"Facts\"].isin(Facts)]\n",
    "Promo_Weekly_TP= Promo_Weekly_TP[Promo_Weekly_TP[\"Markets\"].isin(Markets)]\n",
    "Promo_Weekly_TP= Promo_Weekly_TP[Promo_Weekly_TP[\"ShareBasis\"].isin(ShareBasis)]\n",
    "Promo_Weekly_TP=Promo_Weekly_TP[Time_Period]"
   ]
  },
  {
   "cell_type": "code",
   "execution_count": null,
   "metadata": {
    "scrolled": true
   },
   "outputs": [],
   "source": [
    "Promo_Weekly_TP.head(2)"
   ]
  },
  {
   "cell_type": "markdown",
   "metadata": {},
   "source": [
    "**Column name Change**"
   ]
  },
  {
   "cell_type": "code",
   "execution_count": null,
   "metadata": {},
   "outputs": [],
   "source": [
    "Promo_Weekly_TP.rename(columns={\"Markets\":\"MKT\",\"ShareBasis\":\"CP_CATEGORY\",\"Products\":\"PROD\",\"Manufacturer\":\"CP_MANUFACTURER\",\n",
    "                                \"Franchise\":\"CP_FRANCHISE\",\"Brand\":\"CP_BRAND\",\"SubBrand\":\"CP_SUBBRAND\",\"Facts\":\"FCT\"},inplace=True)"
   ]
  },
  {
   "cell_type": "markdown",
   "metadata": {},
   "source": [
    "**Fact Name Change**"
   ]
  },
  {
   "cell_type": "code",
   "execution_count": null,
   "metadata": {},
   "outputs": [],
   "source": [
    "Fact_Mapping={\n",
    "    \"Any Disp %ACV\":\"%ACV Any Display\",\n",
    "    \"Any Feat %ACV\":\"%ACV Any Feature\",\n",
    "    \"Base $\":\"Baseline $\",\n",
    "    \"Base $ Shr - CP CATEGORY\":\"Baseline $ Share\",\n",
    "    \"Incr $\":\"Incr.$\",\n",
    "    \"Incr $ Shr - CP CATEGORY\":\"Incr.$ Share\",\n",
    "    \"Avg EQ Price\":\"RASP per Case\"\n",
    "\n",
    "}"
   ]
  },
  {
   "cell_type": "code",
   "execution_count": null,
   "metadata": {},
   "outputs": [],
   "source": [
    "Promo_Weekly_TP[\"FCT\"].replace(Fact_Mapping,inplace=True)"
   ]
  },
  {
   "cell_type": "markdown",
   "metadata": {},
   "source": [
    "**Market Name Change**"
   ]
  },
  {
   "cell_type": "code",
   "execution_count": null,
   "metadata": {},
   "outputs": [],
   "source": [
    "Market_Mapping={\n",
    "    \"ALBSCO Total Company TA\":\"Alb/Sfy\",\n",
    "    \"Ahold USA Corp Total TA\":\"Ahold\",\n",
    "    \"BJs Total TA\":\"BJs\",\n",
    "    \"CVS Total Corp WO HI TA\":\"CVS\",\n",
    "    \"Dol Gen Total TA\":\"Dollar General\",\n",
    "    \"Family Dollar Total TA\":\"Family Dollar\",\n",
    "    \"Meijer Total TA\":\"Meijer\",\n",
    "    \"Publix Total TA\":\"Publix\",\n",
    "    \"Rite Aid - Corp Total TA\":\"Rite Aid\",\n",
    "    \"Sam's Total TA\":\"Sams\",\n",
    "    \"ShopRite Total TA\":\"Shoprite\",\n",
    "    \"Target Total BM/FF TA\":\"Target\",\n",
    "    'Total US Drug':\"US Drug\",\n",
    "    'Total US Food':\"US Food\",\n",
    "    'Total US xAOC':\"US AOC\",\n",
    "    \"Walgreens Total TA\":\"Walgreens\",\n",
    "    \"Walmart Total US TA\":\"Walmart\"\n",
    "}"
   ]
  },
  {
   "cell_type": "code",
   "execution_count": null,
   "metadata": {},
   "outputs": [],
   "source": [
    "Promo_Weekly_TP[\"MKT\"].replace(Market_Mapping,inplace=True)"
   ]
  },
  {
   "cell_type": "code",
   "execution_count": null,
   "metadata": {},
   "outputs": [],
   "source": [
    "del Promo_Weekly_TP[\"Category\"]"
   ]
  },
  {
   "cell_type": "code",
   "execution_count": null,
   "metadata": {
    "scrolled": true
   },
   "outputs": [],
   "source": [
    "Promo_Weekly_TP.head(3)"
   ]
  },
  {
   "cell_type": "code",
   "execution_count": null,
   "metadata": {},
   "outputs": [],
   "source": [
    "Fact_order = CategoricalDtype(\n",
    "    sorted(list(set(Promo_Weekly_TP[\"FCT\"]))), \n",
    "    ordered=True\n",
    ")\n",
    "\n",
    "Promo_Weekly_TP['FCT'] = Promo_Weekly_TP['FCT'].astype(Fact_order)\n",
    "\n",
    "Promo_Weekly_TP.sort_values(['MKT','PROD','FCT'],inplace=True)"
   ]
  },
  {
   "cell_type": "markdown",
   "metadata": {},
   "source": [
    "## **promo_manufacturer_bump**"
   ]
  },
  {
   "cell_type": "code",
   "execution_count": null,
   "metadata": {},
   "outputs": [],
   "source": [
    "promo_manufacturer_bump=Promo_Weekly_TP.loc[(Promo_Weekly_TP[\"CP_SUBBRAND\"]==\"\") & (Promo_Weekly_TP[\"CP_BRAND\"]==\"\")&(Promo_Weekly_TP[\"CP_FRANCHISE\"]==\"\")&(Promo_Weekly_TP[\"CP_MANUFACTURER\"]!=\"\")]"
   ]
  },
  {
   "cell_type": "code",
   "execution_count": null,
   "metadata": {},
   "outputs": [],
   "source": [
    "promo_manufacturer_bump[\"Record_ID\"]=range(1,len(promo_manufacturer_bump)+1)"
   ]
  },
  {
   "cell_type": "code",
   "execution_count": null,
   "metadata": {},
   "outputs": [],
   "source": [
    "promo_manufacturer_bump.head(3)"
   ]
  },
  {
   "cell_type": "code",
   "execution_count": null,
   "metadata": {},
   "outputs": [],
   "source": [
    "promo_manufacturer_bump.to_csv(path_TP+\"promo_manufacturer_bump.csv\",index=False)"
   ]
  },
  {
   "cell_type": "markdown",
   "metadata": {},
   "source": [
    "## **promo_franchise_bump**"
   ]
  },
  {
   "cell_type": "code",
   "execution_count": null,
   "metadata": {},
   "outputs": [],
   "source": [
    "promo_franchise_bump=Promo_Weekly_TP.loc[(Promo_Weekly_TP[\"CP_SUBBRAND\"]==\"\") & (Promo_Weekly_TP[\"CP_BRAND\"]==\"\")&(Promo_Weekly_TP[\"CP_FRANCHISE\"]!=\"\")]"
   ]
  },
  {
   "cell_type": "code",
   "execution_count": null,
   "metadata": {},
   "outputs": [],
   "source": [
    "promo_franchise_bump[\"Record_ID\"]=range(1,len(promo_franchise_bump)+1)"
   ]
  },
  {
   "cell_type": "code",
   "execution_count": null,
   "metadata": {},
   "outputs": [],
   "source": [
    "promo_franchise_bump.head(3)"
   ]
  },
  {
   "cell_type": "code",
   "execution_count": null,
   "metadata": {},
   "outputs": [],
   "source": [
    "promo_franchise_bump.to_csv(path_TP+\"promo_franchise_bump.csv\",index=False)"
   ]
  },
  {
   "cell_type": "markdown",
   "metadata": {},
   "source": [
    "## **promo_brand_bump**"
   ]
  },
  {
   "cell_type": "code",
   "execution_count": null,
   "metadata": {},
   "outputs": [],
   "source": [
    "promo_brand_bump=Promo_Weekly_TP.loc[(Promo_Weekly_TP[\"CP_SUBBRAND\"]==\"\") & (Promo_Weekly_TP[\"CP_BRAND\"]!=\"\")]"
   ]
  },
  {
   "cell_type": "code",
   "execution_count": null,
   "metadata": {},
   "outputs": [],
   "source": [
    "promo_brand_bump[\"Record_ID\"]=range(1,len(promo_brand_bump)+1)"
   ]
  },
  {
   "cell_type": "code",
   "execution_count": null,
   "metadata": {},
   "outputs": [],
   "source": [
    "promo_brand_bump.head(3)"
   ]
  },
  {
   "cell_type": "code",
   "execution_count": null,
   "metadata": {},
   "outputs": [],
   "source": [
    "promo_brand_bump.to_csv(path_TP+\"promo_brand_bump.csv\",index=False)"
   ]
  },
  {
   "cell_type": "markdown",
   "metadata": {},
   "source": [
    "## **promo_subbrand_bump**"
   ]
  },
  {
   "cell_type": "code",
   "execution_count": null,
   "metadata": {},
   "outputs": [],
   "source": [
    "promo_subbrand_bump=Promo_Weekly_TP.loc[(Promo_Weekly_TP[\"CP_SUBBRAND\"]!=\"\")]"
   ]
  },
  {
   "cell_type": "code",
   "execution_count": null,
   "metadata": {},
   "outputs": [],
   "source": [
    "promo_subbrand_bump[\"Record_ID\"]=range(1,len(promo_subbrand_bump)+1)"
   ]
  },
  {
   "cell_type": "code",
   "execution_count": null,
   "metadata": {},
   "outputs": [],
   "source": [
    "promo_subbrand_bump.head(3)"
   ]
  },
  {
   "cell_type": "code",
   "execution_count": null,
   "metadata": {},
   "outputs": [],
   "source": [
    "promo_subbrand_bump.to_csv(path_TP+\"promo_subbrand_bump.csv\",index=False)"
   ]
  },
  {
   "cell_type": "code",
   "execution_count": null,
   "metadata": {},
   "outputs": [],
   "source": []
  },
  {
   "cell_type": "code",
   "execution_count": null,
   "metadata": {},
   "outputs": [],
   "source": []
  },
  {
   "cell_type": "markdown",
   "metadata": {},
   "source": [
    "# MOUTHWASH"
   ]
  },
  {
   "cell_type": "code",
   "execution_count": null,
   "metadata": {},
   "outputs": [],
   "source": [
    "Promo_Weekly=Line_Weekly_filter.copy()"
   ]
  },
  {
   "cell_type": "code",
   "execution_count": null,
   "metadata": {},
   "outputs": [],
   "source": [
    "Promo_Weekly_MW= Promo_Weekly[Promo_Weekly[\"Category\"]==\"MW\"]"
   ]
  },
  {
   "cell_type": "markdown",
   "metadata": {},
   "source": [
    "**path for 5p output data**"
   ]
  },
  {
   "cell_type": "code",
   "execution_count": null,
   "metadata": {},
   "outputs": [],
   "source": [
    "path_MW=\"//falmumapp34/Nielsen Connect Transition & Maintenance (20-SCP-3650)/05. Output Data/5P Output/MW/\""
   ]
  },
  {
   "cell_type": "markdown",
   "metadata": {},
   "source": [
    "## Promotion"
   ]
  },
  {
   "cell_type": "markdown",
   "metadata": {},
   "source": [
    "### Promo Weekly"
   ]
  },
  {
   "cell_type": "code",
   "execution_count": null,
   "metadata": {},
   "outputs": [],
   "source": [
    "del Promo_Weekly_MW[\"Key\"]"
   ]
  },
  {
   "cell_type": "code",
   "execution_count": null,
   "metadata": {
    "scrolled": true
   },
   "outputs": [],
   "source": [
    "Promo_Weekly_MW.head()"
   ]
  },
  {
   "cell_type": "markdown",
   "metadata": {},
   "source": [
    "**Facts, Markets, ShareBasis and TimePeriod Selection**"
   ]
  },
  {
   "cell_type": "code",
   "execution_count": null,
   "metadata": {},
   "outputs": [],
   "source": [
    "Facts=[\"Any Disp %ACV\",\"Any Feat %ACV\",\"Base $\",\"Base $ Shr - CP CATEGORY\",\"Incr $\",\"Incr $ Shr - CP CATEGORY\",\"Avg EQ Price\"]\n",
    "\n",
    "Markets=[\"ALBSCO Total Company TA\",\"Ahold USA Corp Total TA\",\"BJs Total TA\",\"CVS Total Corp WO HI TA\",\"Dol Gen Total TA\",\"Family Dollar Total TA\",\n",
    "        \"Meijer Total TA\",\"Publix Total TA\",\"Rite Aid - Corp Total TA\",\"Sam's Total TA\",\"ShopRite Total TA\",\"Kmart Total TA\",\n",
    "        \"Target Total BM/FF TA\",'Total US Drug','Total US Food','Total US xAOC',\"Walgreens Total TA\",\"Walmart Total US TA\"]\n",
    "\n",
    "ShareBasis=[\"TOOTHPASTE\",\"MOUTHWASH\",\"MANUAL\",\"POWER\",\"BAR\",\"BODYWASH\",\"LIQUID\",\"ABRASIVE\",\"FABRIC SOFTENERS\",\"LDL+FOAM\"]\n",
    "\n",
    "# Time_Period should be in the below order only\n",
    "Time_Period=list(Promo_Weekly_MW.columns[0:1])+list(Promo_Weekly_MW.columns[7:8])+list(Promo_Weekly_MW.columns[1:7])+list(Promo_Weekly_MW.columns[8:9])+list(Promo_Weekly_MW.columns[-104:])\n",
    "print(Time_Period)"
   ]
  },
  {
   "cell_type": "code",
   "execution_count": null,
   "metadata": {},
   "outputs": [],
   "source": [
    "# Filter Data based on above selection\n",
    "Promo_Weekly_MW= Promo_Weekly_MW[Promo_Weekly_MW[\"Facts\"].isin(Facts)]\n",
    "Promo_Weekly_MW= Promo_Weekly_MW[Promo_Weekly_MW[\"Markets\"].isin(Markets)]\n",
    "Promo_Weekly_MW= Promo_Weekly_MW[Promo_Weekly_MW[\"ShareBasis\"].isin(ShareBasis)]\n",
    "Promo_Weekly_MW=Promo_Weekly_MW[Time_Period]"
   ]
  },
  {
   "cell_type": "code",
   "execution_count": null,
   "metadata": {
    "scrolled": true
   },
   "outputs": [],
   "source": [
    "Promo_Weekly_MW.head(2)"
   ]
  },
  {
   "cell_type": "markdown",
   "metadata": {},
   "source": [
    "**Column name Change**"
   ]
  },
  {
   "cell_type": "code",
   "execution_count": null,
   "metadata": {},
   "outputs": [],
   "source": [
    "Promo_Weekly_MW.rename(columns={\"Markets\":\"MKT\",\"ShareBasis\":\"CP_CATEGORY\",\"Products\":\"PROD\",\"Manufacturer\":\"CP_MANUFACTURER\",\n",
    "                                \"Franchise\":\"CP_FRANCHISE\",\"Brand\":\"CP_BRAND\",\"SubBrand\":\"CP_SUBBRAND\",\"Facts\":\"FCT\"},inplace=True)"
   ]
  },
  {
   "cell_type": "markdown",
   "metadata": {},
   "source": [
    "**Fact Name Change**"
   ]
  },
  {
   "cell_type": "code",
   "execution_count": null,
   "metadata": {},
   "outputs": [],
   "source": [
    "Fact_Mapping={\n",
    "    \"Any Disp %ACV\":\"%ACV Any Display\",\n",
    "    \"Any Feat %ACV\":\"%ACV Any Feature\",\n",
    "    \"Base $\":\"Baseline $\",\n",
    "    \"Base $ Shr - CP CATEGORY\":\"Baseline $ Share\",\n",
    "    \"Incr $\":\"Incr.$\",\n",
    "    \"Incr $ Shr - CP CATEGORY\":\"Incr.$ Share\",\n",
    "    \"Avg EQ Price\":\"RASP per Case\"\n",
    "\n",
    "}"
   ]
  },
  {
   "cell_type": "code",
   "execution_count": null,
   "metadata": {},
   "outputs": [],
   "source": [
    "Promo_Weekly_MW[\"FCT\"].replace(Fact_Mapping,inplace=True)"
   ]
  },
  {
   "cell_type": "markdown",
   "metadata": {},
   "source": [
    "**Market Name Change**"
   ]
  },
  {
   "cell_type": "code",
   "execution_count": null,
   "metadata": {},
   "outputs": [],
   "source": [
    "Market_Mapping={\n",
    "    \"ALBSCO Total Company TA\":\"Alb/Sfy\",\n",
    "    \"Ahold USA Corp Total TA\":\"Ahold\",\n",
    "    \"BJs Total TA\":\"BJs\",\n",
    "    \"CVS Total Corp WO HI TA\":\"CVS\",\n",
    "    \"Dol Gen Total TA\":\"Dollar General\",\n",
    "    \"Family Dollar Total TA\":\"Family Dollar\",\n",
    "    \"Meijer Total TA\":\"Meijer\",\n",
    "    \"Publix Total TA\":\"Publix\",\n",
    "    \"Rite Aid - Corp Total TA\":\"Rite Aid\",\n",
    "    \"Sam's Total TA\":\"Sams\",\n",
    "    \"ShopRite Total TA\":\"Shoprite\",\n",
    "    \"Target Total BM/FF TA\":\"Target\",\n",
    "    'Total US Drug':\"US Drug\",\n",
    "    'Total US Food':\"US Food\",\n",
    "    'Total US xAOC':\"US AOC\",\n",
    "    \"Walgreens Total TA\":\"Walgreens\",\n",
    "    \"Walmart Total US TA\":\"Walmart\",\n",
    "    'Kmart Total TA':\"Kmart\"\n",
    "}"
   ]
  },
  {
   "cell_type": "code",
   "execution_count": null,
   "metadata": {},
   "outputs": [],
   "source": [
    "Promo_Weekly_MW[\"MKT\"].replace(Market_Mapping,inplace=True)"
   ]
  },
  {
   "cell_type": "code",
   "execution_count": null,
   "metadata": {},
   "outputs": [],
   "source": [
    "del Promo_Weekly_MW[\"Category\"]"
   ]
  },
  {
   "cell_type": "code",
   "execution_count": null,
   "metadata": {
    "scrolled": true
   },
   "outputs": [],
   "source": [
    "Promo_Weekly_MW.head(3)"
   ]
  },
  {
   "cell_type": "code",
   "execution_count": null,
   "metadata": {},
   "outputs": [],
   "source": [
    "Fact_order = CategoricalDtype(\n",
    "    sorted(list(set(Promo_Weekly_MW[\"FCT\"]))), \n",
    "    ordered=True\n",
    ")\n",
    "\n",
    "Promo_Weekly_MW['FCT'] = Promo_Weekly_MW['FCT'].astype(Fact_order)\n",
    "\n",
    "Promo_Weekly_MW.sort_values(['MKT','PROD','FCT'],inplace=True)"
   ]
  },
  {
   "cell_type": "code",
   "execution_count": null,
   "metadata": {},
   "outputs": [],
   "source": [
    "Promo_Weekly_MW.head(3)"
   ]
  },
  {
   "cell_type": "markdown",
   "metadata": {},
   "source": [
    "## **promo_manufacturer_bump**"
   ]
  },
  {
   "cell_type": "code",
   "execution_count": null,
   "metadata": {},
   "outputs": [],
   "source": [
    "promo_manufacturer_bump=Promo_Weekly_MW.loc[(Promo_Weekly_MW[\"CP_SUBBRAND\"]==\"\") & (Promo_Weekly_MW[\"CP_BRAND\"]==\"\")&(Promo_Weekly_MW[\"CP_FRANCHISE\"]==\"\")&(Promo_Weekly_MW[\"CP_MANUFACTURER\"]!=\"\")]"
   ]
  },
  {
   "cell_type": "code",
   "execution_count": null,
   "metadata": {},
   "outputs": [],
   "source": [
    "promo_manufacturer_bump[\"Record_ID\"]=range(1,len(promo_manufacturer_bump)+1)"
   ]
  },
  {
   "cell_type": "code",
   "execution_count": null,
   "metadata": {},
   "outputs": [],
   "source": [
    "promo_manufacturer_bump.head(3)"
   ]
  },
  {
   "cell_type": "code",
   "execution_count": null,
   "metadata": {},
   "outputs": [],
   "source": [
    "promo_manufacturer_bump.to_csv(path_MW+\"promo_manufacturer_bump.csv\",index=False)"
   ]
  },
  {
   "cell_type": "markdown",
   "metadata": {},
   "source": [
    "## **promo_franchise_bump**"
   ]
  },
  {
   "cell_type": "code",
   "execution_count": null,
   "metadata": {},
   "outputs": [],
   "source": [
    "promo_franchise_bump=Promo_Weekly_MW.loc[(Promo_Weekly_MW[\"CP_SUBBRAND\"]==\"\") & (Promo_Weekly_MW[\"CP_BRAND\"]==\"\")&(Promo_Weekly_MW[\"CP_FRANCHISE\"]!=\"\")]"
   ]
  },
  {
   "cell_type": "code",
   "execution_count": null,
   "metadata": {},
   "outputs": [],
   "source": [
    "promo_franchise_bump[\"Record_ID\"]=range(1,len(promo_franchise_bump)+1)"
   ]
  },
  {
   "cell_type": "code",
   "execution_count": null,
   "metadata": {},
   "outputs": [],
   "source": [
    "promo_franchise_bump.head(3)"
   ]
  },
  {
   "cell_type": "code",
   "execution_count": null,
   "metadata": {},
   "outputs": [],
   "source": [
    "promo_franchise_bump.to_csv(path_MW+\"promo_franchise_bump.csv\",index=False)"
   ]
  },
  {
   "cell_type": "markdown",
   "metadata": {},
   "source": [
    "## **promo_brand_bump**"
   ]
  },
  {
   "cell_type": "code",
   "execution_count": null,
   "metadata": {},
   "outputs": [],
   "source": [
    "promo_brand_bump=Promo_Weekly_MW.loc[(Promo_Weekly_MW[\"CP_SUBBRAND\"]==\"\") & (Promo_Weekly_MW[\"CP_BRAND\"]!=\"\")]"
   ]
  },
  {
   "cell_type": "code",
   "execution_count": null,
   "metadata": {},
   "outputs": [],
   "source": [
    "promo_brand_bump[\"Record_ID\"]=range(1,len(promo_brand_bump)+1)"
   ]
  },
  {
   "cell_type": "code",
   "execution_count": null,
   "metadata": {},
   "outputs": [],
   "source": [
    "promo_brand_bump.head(3)"
   ]
  },
  {
   "cell_type": "code",
   "execution_count": null,
   "metadata": {},
   "outputs": [],
   "source": [
    "promo_brand_bump.to_csv(path_MW+\"promo_brand_bump.csv\",index=False)"
   ]
  },
  {
   "cell_type": "markdown",
   "metadata": {},
   "source": [
    "## **promo_subbrand_bump**"
   ]
  },
  {
   "cell_type": "code",
   "execution_count": null,
   "metadata": {},
   "outputs": [],
   "source": [
    "promo_subbrand_bump=Promo_Weekly_MW.loc[(Promo_Weekly_MW[\"CP_SUBBRAND\"]!=\"\")]"
   ]
  },
  {
   "cell_type": "code",
   "execution_count": null,
   "metadata": {},
   "outputs": [],
   "source": [
    "promo_subbrand_bump[\"Record_ID\"]=range(1,len(promo_subbrand_bump)+1)"
   ]
  },
  {
   "cell_type": "code",
   "execution_count": null,
   "metadata": {},
   "outputs": [],
   "source": [
    "promo_subbrand_bump.head(3)"
   ]
  },
  {
   "cell_type": "code",
   "execution_count": null,
   "metadata": {},
   "outputs": [],
   "source": [
    "promo_subbrand_bump.to_csv(path_MW+\"promo_subbrand_bump.csv\",index=False)"
   ]
  },
  {
   "cell_type": "code",
   "execution_count": null,
   "metadata": {},
   "outputs": [],
   "source": []
  },
  {
   "cell_type": "markdown",
   "metadata": {},
   "source": [
    "# MTB"
   ]
  },
  {
   "cell_type": "code",
   "execution_count": null,
   "metadata": {},
   "outputs": [],
   "source": [
    "Promo_Weekly=Line_Weekly_filter.copy()"
   ]
  },
  {
   "cell_type": "code",
   "execution_count": null,
   "metadata": {},
   "outputs": [],
   "source": [
    "Promo_Weekly_MTB= Promo_Weekly[Promo_Weekly[\"Category\"]==\"MTB\"]"
   ]
  },
  {
   "cell_type": "markdown",
   "metadata": {},
   "source": [
    "**path for 5p output data**"
   ]
  },
  {
   "cell_type": "code",
   "execution_count": null,
   "metadata": {},
   "outputs": [],
   "source": [
    "path_MTB=\"//falmumapp34/Nielsen Connect Transition & Maintenance (20-SCP-3650)/05. Output Data/5P Output/MTB/\""
   ]
  },
  {
   "cell_type": "markdown",
   "metadata": {},
   "source": [
    "## Promotion"
   ]
  },
  {
   "cell_type": "markdown",
   "metadata": {},
   "source": [
    "### Promo Weekly"
   ]
  },
  {
   "cell_type": "code",
   "execution_count": null,
   "metadata": {},
   "outputs": [],
   "source": [
    "del Promo_Weekly_MTB[\"Key\"]"
   ]
  },
  {
   "cell_type": "code",
   "execution_count": null,
   "metadata": {},
   "outputs": [],
   "source": [
    "Promo_Weekly_MTB[\"CP_SHARE_BASIS\"] = 'MANUAL'"
   ]
  },
  {
   "cell_type": "code",
   "execution_count": null,
   "metadata": {
    "scrolled": true
   },
   "outputs": [],
   "source": [
    "Promo_Weekly_MTB.iloc[:,10]"
   ]
  },
  {
   "cell_type": "markdown",
   "metadata": {},
   "source": [
    "**Facts, Markets, ShareBasis and TimePeriod Selection**"
   ]
  },
  {
   "cell_type": "code",
   "execution_count": null,
   "metadata": {},
   "outputs": [],
   "source": [
    "set(Promo_Weekly_MTB[\"Markets\"])"
   ]
  },
  {
   "cell_type": "code",
   "execution_count": null,
   "metadata": {},
   "outputs": [],
   "source": [
    "Facts=[\"Any Disp %ACV\",\"Any Feat %ACV\",\"Base $\",\"Base $ Shr - CP CATEGORY\",\"Incr $\",\"Incr $ Shr - CP CATEGORY\",\"Avg EQ Price\"]\n",
    "\n",
    "Markets=[\"ALBSCO Total Company TA\",\"Ahold USA Corp Total TA\",\"BJs Total TA\",\"CVS Total Corp WO HI TA\",\"Dol Gen Total TA\",\"Family Dollar Total TA\",\n",
    "        \"Meijer Total TA\",\"Publix Total TA\",\"Rite Aid - Corp Total TA\",\"Sam's Total TA\",\"ShopRite Total TA\",\n",
    "        \"Target Total BM/FF TA\",'Total US Drug','Total US Food','Total US xAOC',\"Walgreens Total TA\",\"Walmart Total US TA\"]\n",
    "\n",
    "ShareBasis=[\"MANUAL\"]\n",
    "\n",
    "# Time_Period should be in the below order only\n",
    "Time_Period=list(Promo_Weekly_MTB.columns[0:1])+list(Promo_Weekly_MTB.columns[7:8])+list(Promo_Weekly_MTB.columns[1:7])+list(Promo_Weekly_MTB.columns[8:9])+list(Promo_Weekly_MTB.columns[-105:])\n",
    "print(Time_Period)"
   ]
  },
  {
   "cell_type": "code",
   "execution_count": null,
   "metadata": {},
   "outputs": [],
   "source": [
    "# Filter Data based on above selection\n",
    "Promo_Weekly_MTB= Promo_Weekly_MTB[Promo_Weekly_MTB[\"Facts\"].isin(Facts)]\n",
    "Promo_Weekly_MTB= Promo_Weekly_MTB[Promo_Weekly_MTB[\"Markets\"].isin(Markets)]\n",
    "Promo_Weekly_MTB= Promo_Weekly_MTB[Promo_Weekly_MTB[\"ShareBasis\"].isin(ShareBasis)]\n",
    "Promo_Weekly_MTB=Promo_Weekly_MTB[Time_Period]"
   ]
  },
  {
   "cell_type": "code",
   "execution_count": null,
   "metadata": {
    "scrolled": true
   },
   "outputs": [],
   "source": [
    "Promo_Weekly_MTB.head(2)"
   ]
  },
  {
   "cell_type": "markdown",
   "metadata": {},
   "source": [
    "**Column name Change**"
   ]
  },
  {
   "cell_type": "code",
   "execution_count": null,
   "metadata": {},
   "outputs": [],
   "source": [
    "Promo_Weekly_MTB.rename(columns={\"Markets\":\"MKT\",\"ShareBasis\":\"CP_CATEGORY\",\"Products\":\"PROD\",\"Manufacturer\":\"CP_MANUFACTURER\",\n",
    "                                \"Franchise\":\"CP_FRANCHISE\",\"Brand\":\"CP_BRAND\",\"SubBrand\":\"CP_SUBBRAND\",\"Facts\":\"FCT\"},inplace=True)"
   ]
  },
  {
   "cell_type": "markdown",
   "metadata": {},
   "source": [
    "**Fact Name Change**"
   ]
  },
  {
   "cell_type": "code",
   "execution_count": null,
   "metadata": {},
   "outputs": [],
   "source": [
    "Fact_Mapping={\n",
    "    \"Any Disp %ACV\":\"%ACV Any Display\",\n",
    "    \"Any Feat %ACV\":\"%ACV Any Feature\",\n",
    "    \"Base $\":\"Baseline $\",\n",
    "    \"Base $ Shr - CP CATEGORY\":\"Baseline $ Share\",\n",
    "    \"Incr $\":\"Incr.$\",\n",
    "    \"Incr $ Shr - CP CATEGORY\":\"Incr.$ Share\",\n",
    "    \"Avg EQ Price\":\"RASP per Case\"\n",
    "\n",
    "}"
   ]
  },
  {
   "cell_type": "code",
   "execution_count": null,
   "metadata": {},
   "outputs": [],
   "source": [
    "Promo_Weekly_MTB[\"FCT\"].replace(Fact_Mapping,inplace=True)"
   ]
  },
  {
   "cell_type": "markdown",
   "metadata": {},
   "source": [
    "**Market Name Change**"
   ]
  },
  {
   "cell_type": "code",
   "execution_count": null,
   "metadata": {},
   "outputs": [],
   "source": [
    "Market_Mapping={\n",
    "    \"ALBSCO Total Company TA\":\"Alb/Sfy\",\n",
    "    \"Ahold USA Corp Total TA\":\"Ahold\",\n",
    "    \"BJs Total TA\":\"BJs\",\n",
    "    \"CVS Total Corp WO HI TA\":\"CVS\",\n",
    "    \"Dol Gen Total TA\":\"Dollar General\",\n",
    "    \"Family Dollar Total TA\":\"Family Dollar\",\n",
    "    \"Meijer Total TA\":\"Meijer\",\n",
    "    \"Publix Total TA\":\"Publix\",\n",
    "    \"Rite Aid - Corp Total TA\":\"Rite Aid\",\n",
    "    \"Sam's Total TA\":\"Sams\",\n",
    "    \"ShopRite Total TA\":\"Shoprite\",\n",
    "    \"Target Total BM/FF TA\":\"Target\",\n",
    "    'Total US Drug':\"US Drug\",\n",
    "    'Total US Food':\"US Food\",\n",
    "    'Total US xAOC':\"US AOC\",\n",
    "    \"Walgreens Total TA\":\"Walgreens\",\n",
    "    \"Walmart Total US TA\":\"Walmart\",\n",
    "    \"Kmart Total TA\":\"Kmart\"\n",
    "}"
   ]
  },
  {
   "cell_type": "code",
   "execution_count": null,
   "metadata": {},
   "outputs": [],
   "source": [
    "Promo_Weekly_MTB[\"MKT\"].replace(Market_Mapping,inplace=True)"
   ]
  },
  {
   "cell_type": "code",
   "execution_count": null,
   "metadata": {},
   "outputs": [],
   "source": [
    "del Promo_Weekly_MTB[\"Category\"]"
   ]
  },
  {
   "cell_type": "code",
   "execution_count": null,
   "metadata": {
    "scrolled": true
   },
   "outputs": [],
   "source": [
    "Promo_Weekly_MTB.head(3)"
   ]
  },
  {
   "cell_type": "code",
   "execution_count": null,
   "metadata": {},
   "outputs": [],
   "source": [
    "Fact_order = CategoricalDtype(\n",
    "    sorted(list(set(Promo_Weekly_MTB[\"FCT\"]))), \n",
    "    ordered=True\n",
    ")\n",
    "\n",
    "Promo_Weekly_MTB['FCT'] = Promo_Weekly_MTB['FCT'].astype(Fact_order)\n",
    "\n",
    "Promo_Weekly_MTB.sort_values(['MKT','PROD','FCT'],inplace=True)"
   ]
  },
  {
   "cell_type": "code",
   "execution_count": null,
   "metadata": {},
   "outputs": [],
   "source": [
    "set(Promo_Weekly_MTB[\"MKT\"])"
   ]
  },
  {
   "cell_type": "markdown",
   "metadata": {},
   "source": [
    "## **promo_manufacturer_bump**"
   ]
  },
  {
   "cell_type": "code",
   "execution_count": null,
   "metadata": {},
   "outputs": [],
   "source": [
    "promo_manufacturer_bump=Promo_Weekly_MTB.loc[(Promo_Weekly_MTB[\"CP_SUBBRAND\"]==\"\") & (Promo_Weekly_MTB[\"CP_BRAND\"]==\"\")&(Promo_Weekly_MTB[\"CP_FRANCHISE\"]==\"\")&(Promo_Weekly_MTB[\"CP_MANUFACTURER\"]!=\"\")]"
   ]
  },
  {
   "cell_type": "code",
   "execution_count": null,
   "metadata": {},
   "outputs": [],
   "source": [
    "promo_manufacturer_bump[\"Record_ID\"]=range(1,len(promo_manufacturer_bump)+1)"
   ]
  },
  {
   "cell_type": "code",
   "execution_count": null,
   "metadata": {},
   "outputs": [],
   "source": [
    "promo_manufacturer_bump.head(3)"
   ]
  },
  {
   "cell_type": "code",
   "execution_count": null,
   "metadata": {},
   "outputs": [],
   "source": [
    "promo_manufacturer_bump.to_csv(path_MTB+\"promo_manufacturer_bump.csv\",index=False)"
   ]
  },
  {
   "cell_type": "markdown",
   "metadata": {},
   "source": [
    "## **promo_franchise_bump**"
   ]
  },
  {
   "cell_type": "code",
   "execution_count": null,
   "metadata": {},
   "outputs": [],
   "source": [
    "promo_franchise_bump=Promo_Weekly_MTB.loc[(Promo_Weekly_MTB[\"CP_SUBBRAND\"]==\"\") & (Promo_Weekly_MTB[\"CP_BRAND\"]==\"\")&(Promo_Weekly_MTB[\"CP_FRANCHISE\"]!=\"\")]"
   ]
  },
  {
   "cell_type": "code",
   "execution_count": null,
   "metadata": {},
   "outputs": [],
   "source": [
    "promo_franchise_bump[\"Record_ID\"]=range(1,len(promo_franchise_bump)+1)"
   ]
  },
  {
   "cell_type": "code",
   "execution_count": null,
   "metadata": {},
   "outputs": [],
   "source": [
    "promo_franchise_bump.head(3)"
   ]
  },
  {
   "cell_type": "code",
   "execution_count": null,
   "metadata": {},
   "outputs": [],
   "source": [
    "promo_franchise_bump.to_csv(path_MTB+\"promo_franchise_bump.csv\",index=False)"
   ]
  },
  {
   "cell_type": "markdown",
   "metadata": {},
   "source": [
    "## **promo_brand_bump**"
   ]
  },
  {
   "cell_type": "code",
   "execution_count": null,
   "metadata": {},
   "outputs": [],
   "source": [
    "promo_brand_bump=Promo_Weekly_MTB.loc[(Promo_Weekly_MTB[\"CP_SUBBRAND\"]==\"\") & (Promo_Weekly_MTB[\"CP_BRAND\"]!=\"\")]"
   ]
  },
  {
   "cell_type": "code",
   "execution_count": null,
   "metadata": {},
   "outputs": [],
   "source": [
    "promo_brand_bump[\"Record_ID\"]=range(1,len(promo_brand_bump)+1)"
   ]
  },
  {
   "cell_type": "code",
   "execution_count": null,
   "metadata": {},
   "outputs": [],
   "source": [
    "promo_brand_bump.head(3)"
   ]
  },
  {
   "cell_type": "code",
   "execution_count": null,
   "metadata": {},
   "outputs": [],
   "source": [
    "promo_brand_bump.to_csv(path_MTB+\"promo_brand_bump.csv\",index=False)"
   ]
  },
  {
   "cell_type": "markdown",
   "metadata": {},
   "source": [
    "## **promo_subbrand_bump**"
   ]
  },
  {
   "cell_type": "code",
   "execution_count": null,
   "metadata": {},
   "outputs": [],
   "source": [
    "promo_subbrand_bump=Promo_Weekly_MTB.loc[(Promo_Weekly_MTB[\"CP_SUBBRAND\"]!=\"\")]"
   ]
  },
  {
   "cell_type": "code",
   "execution_count": null,
   "metadata": {},
   "outputs": [],
   "source": [
    "promo_subbrand_bump[\"Record_ID\"]=range(1,len(promo_subbrand_bump)+1)"
   ]
  },
  {
   "cell_type": "code",
   "execution_count": null,
   "metadata": {},
   "outputs": [],
   "source": [
    "promo_subbrand_bump.head(3)"
   ]
  },
  {
   "cell_type": "code",
   "execution_count": null,
   "metadata": {},
   "outputs": [],
   "source": [
    "promo_subbrand_bump.to_csv(path_MTB+\"promo_subbrand_bump.csv\",index=False)"
   ]
  },
  {
   "cell_type": "code",
   "execution_count": null,
   "metadata": {},
   "outputs": [],
   "source": []
  },
  {
   "cell_type": "code",
   "execution_count": null,
   "metadata": {},
   "outputs": [],
   "source": []
  },
  {
   "cell_type": "code",
   "execution_count": null,
   "metadata": {},
   "outputs": [],
   "source": []
  },
  {
   "cell_type": "markdown",
   "metadata": {},
   "source": [
    "# BAR"
   ]
  },
  {
   "cell_type": "code",
   "execution_count": null,
   "metadata": {},
   "outputs": [],
   "source": [
    "Promo_Weekly=Line_Weekly_filter.copy()"
   ]
  },
  {
   "cell_type": "code",
   "execution_count": null,
   "metadata": {},
   "outputs": [],
   "source": [
    "Promo_Weekly_BAR= Promo_Weekly[Promo_Weekly[\"Category\"]==\"BAR\"]"
   ]
  },
  {
   "cell_type": "markdown",
   "metadata": {},
   "source": [
    "**path for 5p output data**"
   ]
  },
  {
   "cell_type": "code",
   "execution_count": null,
   "metadata": {},
   "outputs": [],
   "source": [
    "path_BAR=\"//falmumapp34/Nielsen Connect Transition & Maintenance (20-SCP-3650)/05. Output Data/5P Output/BAR/\""
   ]
  },
  {
   "cell_type": "markdown",
   "metadata": {},
   "source": [
    "## Promotion"
   ]
  },
  {
   "cell_type": "markdown",
   "metadata": {},
   "source": [
    "### Promo Weekly"
   ]
  },
  {
   "cell_type": "code",
   "execution_count": null,
   "metadata": {},
   "outputs": [],
   "source": [
    "del Promo_Weekly_BAR[\"Key\"]"
   ]
  },
  {
   "cell_type": "code",
   "execution_count": null,
   "metadata": {
    "scrolled": true
   },
   "outputs": [],
   "source": [
    "Promo_Weekly_BAR.head()"
   ]
  },
  {
   "cell_type": "markdown",
   "metadata": {},
   "source": [
    "**Facts, Markets, ShareBasis and TimePeriod Selection**"
   ]
  },
  {
   "cell_type": "code",
   "execution_count": null,
   "metadata": {},
   "outputs": [],
   "source": [
    "Facts=[\"Any Disp %ACV\",\"Any Feat %ACV\",\"Base $\",\"Base $ Shr - CP CATEGORY\",\"Incr $\",\"Incr $ Shr - CP CATEGORY\",\"Avg EQ Price\"]\n",
    "\n",
    "Markets=[\"ALBSCO Total Company TA\",\"Ahold USA Corp Total TA\",\"BJs Total TA\",\"CVS Total Corp WO HI TA\",\"Dol Gen Total TA\",\"Family Dollar Total TA\",\n",
    "        \"Publix Total TA\",\"Rite Aid - Corp Total TA\",\"Sam's Total TA\",\"ShopRite Total TA\",\"Kmart Total TA\",'Meijer Total TA'\n",
    "        \"Target Total BM/FF TA\",'Total US Drug','Total US Food','Total US xAOC',\"Walgreens Total TA\",\"Walmart Total US TA\"]\n",
    "\n",
    "ShareBasis=[\"TOOTHPASTE\",\"MOUTHWASH\",\"MANUAL\",\"POWER\",\"BAR\",\"BODYWASH\",\"LIQUID\",\"ABRASIVE\",\"FABRIC SOFTENERS\",\"LDL+FOAM\"]\n",
    "\n",
    "# Time_Period should be in the below order only\n",
    "Time_Period=list(Promo_Weekly_BAR.columns[0:1])+list(Promo_Weekly_BAR.columns[7:8])+list(Promo_Weekly_BAR.columns[1:7])+list(Promo_Weekly_BAR.columns[8:9])+list(Promo_Weekly_BAR.columns[-104:])\n",
    "print(Time_Period)"
   ]
  },
  {
   "cell_type": "code",
   "execution_count": null,
   "metadata": {},
   "outputs": [],
   "source": [
    "# Filter Data based on above selection\n",
    "Promo_Weekly_BAR= Promo_Weekly_BAR[Promo_Weekly_BAR[\"Facts\"].isin(Facts)]\n",
    "Promo_Weekly_BAR= Promo_Weekly_BAR[Promo_Weekly_BAR[\"Markets\"].isin(Markets)]\n",
    "Promo_Weekly_BAR= Promo_Weekly_BAR[Promo_Weekly_BAR[\"ShareBasis\"].isin(ShareBasis)]\n",
    "Promo_Weekly_BAR=Promo_Weekly_BAR[Time_Period]"
   ]
  },
  {
   "cell_type": "code",
   "execution_count": null,
   "metadata": {
    "scrolled": true
   },
   "outputs": [],
   "source": [
    "Promo_Weekly_BAR.head(2)"
   ]
  },
  {
   "cell_type": "markdown",
   "metadata": {},
   "source": [
    "**Column name Change**"
   ]
  },
  {
   "cell_type": "code",
   "execution_count": null,
   "metadata": {},
   "outputs": [],
   "source": [
    "Promo_Weekly_BAR.rename(columns={\"Markets\":\"MKT\",\"ShareBasis\":\"CP_CATEGORY\",\"Products\":\"PROD\",\"Manufacturer\":\"CP_MANUFACTURER\",\n",
    "                                \"Franchise\":\"CP_FRANCHISE\",\"Brand\":\"CP_BRAND\",\"SubBrand\":\"CP_SUBBRAND\",\"Facts\":\"FCT\"},inplace=True)"
   ]
  },
  {
   "cell_type": "markdown",
   "metadata": {},
   "source": [
    "**Fact Name Change**"
   ]
  },
  {
   "cell_type": "code",
   "execution_count": null,
   "metadata": {},
   "outputs": [],
   "source": [
    "Fact_Mapping={\n",
    "    \"Any Disp %ACV\":\"%ACV Any Display\",\n",
    "    \"Any Feat %ACV\":\"%ACV Any Feature\",\n",
    "    \"Base $\":\"Baseline $\",\n",
    "    \"Base $ Shr - CP CATEGORY\":\"Baseline $ Share\",\n",
    "    \"Incr $\":\"Incr.$\",\n",
    "    \"Incr $ Shr - CP CATEGORY\":\"Incr.$ Share\",\n",
    "    \"Avg EQ Price\":\"RASP per Case\"\n",
    "\n",
    "}"
   ]
  },
  {
   "cell_type": "code",
   "execution_count": null,
   "metadata": {},
   "outputs": [],
   "source": [
    "Promo_Weekly_BAR[\"FCT\"].replace(Fact_Mapping,inplace=True)"
   ]
  },
  {
   "cell_type": "markdown",
   "metadata": {},
   "source": [
    "**Market Name Change**"
   ]
  },
  {
   "cell_type": "code",
   "execution_count": null,
   "metadata": {},
   "outputs": [],
   "source": [
    "Market_Mapping={\n",
    "    \"ALBSCO Total Company TA\":\"Alb/Sfy\",\n",
    "    \"Ahold USA Corp Total TA\":\"Ahold\",\n",
    "    \"BJs Total TA\":\"BJs\",\n",
    "    \"CVS Total Corp WO HI TA\":\"CVS\",\n",
    "    \"Dol Gen Total TA\":\"Dollar General\",\n",
    "    \"Family Dollar Total TA\":\"Family Dollar\",\n",
    "    \"Meijer Total TA\":\"Meijer\",\n",
    "    \"Publix Total TA\":\"Publix\",\n",
    "    \"Rite Aid - Corp Total TA\":\"Rite Aid\",\n",
    "    \"Sam's Total TA\":\"Sams\",\n",
    "    \"ShopRite Total TA\":\"Shoprite\",\n",
    "    \"Target Total BM/FF TA\":\"Target\",\n",
    "    'Total US Drug':\"US Drug\",\n",
    "    'Total US Food':\"US Food\",\n",
    "    'Total US xAOC':\"US AOC\",\n",
    "    \"Walgreens Total TA\":\"Walgreens\",\n",
    "    \"Walmart Total US TA\":\"Walmart\",\n",
    "    'Kmart Total TA':\"Kmart\"\n",
    "}"
   ]
  },
  {
   "cell_type": "code",
   "execution_count": null,
   "metadata": {},
   "outputs": [],
   "source": [
    "Promo_Weekly_BAR[\"MKT\"].replace(Market_Mapping,inplace=True)"
   ]
  },
  {
   "cell_type": "code",
   "execution_count": null,
   "metadata": {},
   "outputs": [],
   "source": [
    "del Promo_Weekly_BAR[\"Category\"]"
   ]
  },
  {
   "cell_type": "code",
   "execution_count": null,
   "metadata": {
    "scrolled": true
   },
   "outputs": [],
   "source": [
    "Promo_Weekly_BAR.head(3)"
   ]
  },
  {
   "cell_type": "code",
   "execution_count": null,
   "metadata": {},
   "outputs": [],
   "source": [
    "Fact_order = CategoricalDtype(\n",
    "    sorted(list(set(Promo_Weekly_BAR[\"FCT\"]))), \n",
    "    ordered=True\n",
    ")\n",
    "\n",
    "Promo_Weekly_BAR['FCT'] = Promo_Weekly_BAR['FCT'].astype(Fact_order)\n",
    "\n",
    "Promo_Weekly_BAR.sort_values(['MKT','PROD','FCT'],inplace=True)"
   ]
  },
  {
   "cell_type": "code",
   "execution_count": null,
   "metadata": {},
   "outputs": [],
   "source": [
    "Promo_Weekly_BAR.head(3)"
   ]
  },
  {
   "cell_type": "markdown",
   "metadata": {},
   "source": [
    "## **promo_manufacturer_bump**"
   ]
  },
  {
   "cell_type": "code",
   "execution_count": null,
   "metadata": {},
   "outputs": [],
   "source": [
    "promo_manufacturer_bump=Promo_Weekly_BAR.loc[(Promo_Weekly_BAR[\"CP_SUBBRAND\"]==\"\") & (Promo_Weekly_BAR[\"CP_BRAND\"]==\"\")&(Promo_Weekly_BAR[\"CP_FRANCHISE\"]==\"\")&(Promo_Weekly_BAR[\"CP_MANUFACTURER\"]!=\"\")]"
   ]
  },
  {
   "cell_type": "code",
   "execution_count": null,
   "metadata": {},
   "outputs": [],
   "source": [
    "promo_manufacturer_bump[\"Record_ID\"]=range(1,len(promo_manufacturer_bump)+1)"
   ]
  },
  {
   "cell_type": "code",
   "execution_count": null,
   "metadata": {},
   "outputs": [],
   "source": [
    "promo_manufacturer_bump.head(3)"
   ]
  },
  {
   "cell_type": "code",
   "execution_count": null,
   "metadata": {},
   "outputs": [],
   "source": [
    "promo_manufacturer_bump.to_csv(path_BAR+\"promo_manufacturer_bump.csv\",index=False)"
   ]
  },
  {
   "cell_type": "markdown",
   "metadata": {},
   "source": [
    "## **promo_franchise_bump**"
   ]
  },
  {
   "cell_type": "code",
   "execution_count": null,
   "metadata": {},
   "outputs": [],
   "source": [
    "promo_franchise_bump=Promo_Weekly_BAR.loc[(Promo_Weekly_BAR[\"CP_SUBBRAND\"]==\"\") & (Promo_Weekly_BAR[\"CP_BRAND\"]==\"\")&(Promo_Weekly_BAR[\"CP_FRANCHISE\"]!=\"\")]"
   ]
  },
  {
   "cell_type": "code",
   "execution_count": null,
   "metadata": {},
   "outputs": [],
   "source": [
    "promo_franchise_bump[\"Record_ID\"]=range(1,len(promo_franchise_bump)+1)"
   ]
  },
  {
   "cell_type": "code",
   "execution_count": null,
   "metadata": {},
   "outputs": [],
   "source": [
    "promo_franchise_bump.head(3)"
   ]
  },
  {
   "cell_type": "code",
   "execution_count": null,
   "metadata": {},
   "outputs": [],
   "source": [
    "promo_franchise_bump.to_csv(path_BAR+\"promo_franchise_bump.csv\",index=False)"
   ]
  },
  {
   "cell_type": "markdown",
   "metadata": {},
   "source": [
    "## **promo_brand_bump**"
   ]
  },
  {
   "cell_type": "code",
   "execution_count": null,
   "metadata": {},
   "outputs": [],
   "source": [
    "promo_brand_bump=Promo_Weekly_BAR.loc[(Promo_Weekly_BAR[\"CP_SUBBRAND\"]==\"\") & (Promo_Weekly_BAR[\"CP_BRAND\"]!=\"\")]"
   ]
  },
  {
   "cell_type": "code",
   "execution_count": null,
   "metadata": {},
   "outputs": [],
   "source": [
    "promo_brand_bump[\"Record_ID\"]=range(1,len(promo_brand_bump)+1)"
   ]
  },
  {
   "cell_type": "code",
   "execution_count": null,
   "metadata": {},
   "outputs": [],
   "source": [
    "promo_brand_bump.head(3)"
   ]
  },
  {
   "cell_type": "code",
   "execution_count": null,
   "metadata": {},
   "outputs": [],
   "source": [
    "promo_brand_bump.to_csv(path_BAR+\"promo_brand_bump.csv\",index=False)"
   ]
  },
  {
   "cell_type": "markdown",
   "metadata": {},
   "source": [
    "## **promo_subbrand_bump**"
   ]
  },
  {
   "cell_type": "code",
   "execution_count": null,
   "metadata": {},
   "outputs": [],
   "source": [
    "promo_subbrand_bump=Promo_Weekly_BAR.loc[(Promo_Weekly_BAR[\"CP_SUBBRAND\"]!=\"\")]"
   ]
  },
  {
   "cell_type": "code",
   "execution_count": null,
   "metadata": {},
   "outputs": [],
   "source": [
    "promo_subbrand_bump[\"Record_ID\"]=range(1,len(promo_subbrand_bump)+1)"
   ]
  },
  {
   "cell_type": "code",
   "execution_count": null,
   "metadata": {},
   "outputs": [],
   "source": [
    "promo_subbrand_bump.head(3)"
   ]
  },
  {
   "cell_type": "code",
   "execution_count": null,
   "metadata": {},
   "outputs": [],
   "source": [
    "promo_subbrand_bump.to_csv(path_BAR+\"promo_subbrand_bump.csv\",index=False)"
   ]
  },
  {
   "cell_type": "code",
   "execution_count": null,
   "metadata": {},
   "outputs": [],
   "source": []
  },
  {
   "cell_type": "markdown",
   "metadata": {},
   "source": [
    "# BW"
   ]
  },
  {
   "cell_type": "code",
   "execution_count": null,
   "metadata": {},
   "outputs": [],
   "source": [
    "Promo_Weekly=Line_Weekly_filter.copy()"
   ]
  },
  {
   "cell_type": "code",
   "execution_count": null,
   "metadata": {},
   "outputs": [],
   "source": [
    "Promo_Weekly_BW= Promo_Weekly[Promo_Weekly[\"Category\"]==\"BW\"]"
   ]
  },
  {
   "cell_type": "markdown",
   "metadata": {},
   "source": [
    "**path for 5p output data**"
   ]
  },
  {
   "cell_type": "code",
   "execution_count": null,
   "metadata": {},
   "outputs": [],
   "source": [
    "path_BW=\"//falmumapp34/Nielsen Connect Transition & Maintenance (20-SCP-3650)/05. Output Data/5P Output/BW/\""
   ]
  },
  {
   "cell_type": "markdown",
   "metadata": {},
   "source": [
    "## Promotion"
   ]
  },
  {
   "cell_type": "markdown",
   "metadata": {},
   "source": [
    "### Promo Weekly"
   ]
  },
  {
   "cell_type": "code",
   "execution_count": null,
   "metadata": {},
   "outputs": [],
   "source": [
    "del Promo_Weekly_BW[\"Key\"]"
   ]
  },
  {
   "cell_type": "code",
   "execution_count": null,
   "metadata": {
    "scrolled": true
   },
   "outputs": [],
   "source": [
    "Promo_Weekly_BW.head()"
   ]
  },
  {
   "cell_type": "markdown",
   "metadata": {},
   "source": [
    "**Facts, Markets, ShareBasis and TimePeriod Selection**"
   ]
  },
  {
   "cell_type": "code",
   "execution_count": null,
   "metadata": {},
   "outputs": [],
   "source": [
    "Facts=[\"Any Disp %ACV\",\"Any Feat %ACV\",\"Base $\",\"Base $ Shr - CP CATEGORY\",\"Incr $\",\"Incr $ Shr - CP CATEGORY\",\"Avg EQ Price\"]\n",
    "\n",
    "Markets=[\"ALBSCO Total Company TA\",\"Ahold USA Corp Total TA\",\"BJs Total TA\",\"CVS Total Corp WO HI TA\",\"Dol Gen Total TA\",\"Family Dollar Total TA\",\n",
    "        \"Publix Total TA\",\"Rite Aid - Corp Total TA\",\"Giant Eagle Total TA\",\"ShopRite Total TA\",\"Kmart Total TA\",\"Wegmans Total TA\",\n",
    "        \"Target Total BM/FF TA\",'Total US Drug','Total US Food','Total US xAOC',\"Walgreens Total TA\",\"Walmart Total US TA\",\n",
    "        'Meijer Total TA']\n",
    "\n",
    "ShareBasis=[\"TOOTHPASTE\",\"MOUTHWASH\",\"MANUAL\",\"POWER\",\"BW\",\"BODYWASH\",\"LIQUID\",\"ABRASIVE\",\"FABRIC SOFTENERS\",\"LDL+FOAM\"]\n",
    "\n",
    "# Time_Period should be in the below order only\n",
    "Time_Period=list(Promo_Weekly_BW.columns[0:1])+list(Promo_Weekly_BW.columns[7:8])+list(Promo_Weekly_BW.columns[1:7])+list(Promo_Weekly_BW.columns[8:9])+list(Promo_Weekly_BW.columns[-104:])\n",
    "print(Time_Period)"
   ]
  },
  {
   "cell_type": "code",
   "execution_count": null,
   "metadata": {},
   "outputs": [],
   "source": [
    "# Filter Data based on above selection\n",
    "Promo_Weekly_BW= Promo_Weekly_BW[Promo_Weekly_BW[\"Facts\"].isin(Facts)]\n",
    "Promo_Weekly_BW= Promo_Weekly_BW[Promo_Weekly_BW[\"Markets\"].isin(Markets)]\n",
    "Promo_Weekly_BW= Promo_Weekly_BW[Promo_Weekly_BW[\"ShareBasis\"].isin(ShareBasis)]\n",
    "Promo_Weekly_BW=Promo_Weekly_BW[Time_Period]"
   ]
  },
  {
   "cell_type": "code",
   "execution_count": null,
   "metadata": {
    "scrolled": true
   },
   "outputs": [],
   "source": [
    "Promo_Weekly_BW.head(2)"
   ]
  },
  {
   "cell_type": "markdown",
   "metadata": {},
   "source": [
    "**Column name Change**"
   ]
  },
  {
   "cell_type": "code",
   "execution_count": null,
   "metadata": {},
   "outputs": [],
   "source": [
    "Promo_Weekly_BW.rename(columns={\"Markets\":\"MKT\",\"ShareBasis\":\"CP_CATEGORY\",\"Products\":\"PROD\",\"Manufacturer\":\"CP_MANUFACTURER\",\n",
    "                                \"Franchise\":\"CP_FRANCHISE\",\"Brand\":\"CP_BRAND\",\"SubBrand\":\"CP_SUBBRAND\",\"Facts\":\"FCT\"},inplace=True)"
   ]
  },
  {
   "cell_type": "markdown",
   "metadata": {},
   "source": [
    "**Fact Name Change**"
   ]
  },
  {
   "cell_type": "code",
   "execution_count": null,
   "metadata": {},
   "outputs": [],
   "source": [
    "Fact_Mapping={\n",
    "    \"Any Disp %ACV\":\"%ACV Any Display\",\n",
    "    \"Any Feat %ACV\":\"%ACV Any Feature\",\n",
    "    \"Base $\":\"Baseline $\",\n",
    "    \"Base $ Shr - CP CATEGORY\":\"Baseline $ Share\",\n",
    "    \"Incr $\":\"Incr.$\",\n",
    "    \"Incr $ Shr - CP CATEGORY\":\"Incr.$ Share\",\n",
    "    \"Avg EQ Price\":\"RASP per Case\"\n",
    "\n",
    "}"
   ]
  },
  {
   "cell_type": "code",
   "execution_count": null,
   "metadata": {},
   "outputs": [],
   "source": [
    "Promo_Weekly_BW[\"FCT\"].replace(Fact_Mapping,inplace=True)"
   ]
  },
  {
   "cell_type": "markdown",
   "metadata": {},
   "source": [
    "**Market Name Change**"
   ]
  },
  {
   "cell_type": "code",
   "execution_count": null,
   "metadata": {},
   "outputs": [],
   "source": [
    "Market_Mapping={\n",
    "    \"ALBSCO Total Company TA\":\"Alb/Sfy\",\n",
    "    \"Ahold USA Corp Total TA\":\"Ahold\",\n",
    "    \"BJs Total TA\":\"BJs\",\n",
    "    \"CVS Total Corp WO HI TA\":\"CVS\",\n",
    "    \"Dol Gen Total TA\":\"Dollar General\",\n",
    "    \"Family Dollar Total TA\":\"Family Dollar\",\n",
    "    \"Meijer Total TA\":\"Meijer\",\n",
    "    \"Publix Total TA\":\"Publix\",\n",
    "    \"Rite Aid - Corp Total TA\":\"Rite Aid\",\n",
    "    \"Giant Eagle Total TA\":\"Giant Eagle\",\n",
    "    \"ShopRite Total TA\":\"Shoprite\",\n",
    "    \"Target Total BM/FF TA\":\"Target\",\n",
    "    'Total US Drug':\"US Drug\",\n",
    "    'Total US Food':\"US Food\",\n",
    "    'Total US xAOC':\"US AOC\",\n",
    "    \"Walgreens Total TA\":\"Walgreens\",\n",
    "    \"Walmart Corp Total US TA\":\"Walmart\",\n",
    "    'Kmart Total TA':\"Kmart\",\n",
    "    'Walmart Total US TA':\"Walmart\",\n",
    "    'Wegmans Total TA':\"Wegmans\"\n",
    "}"
   ]
  },
  {
   "cell_type": "code",
   "execution_count": null,
   "metadata": {},
   "outputs": [],
   "source": [
    "Promo_Weekly_BW[\"MKT\"].replace(Market_Mapping,inplace=True)"
   ]
  },
  {
   "cell_type": "code",
   "execution_count": null,
   "metadata": {},
   "outputs": [],
   "source": [
    "del Promo_Weekly_BW[\"Category\"]"
   ]
  },
  {
   "cell_type": "code",
   "execution_count": null,
   "metadata": {
    "scrolled": true
   },
   "outputs": [],
   "source": [
    "Promo_Weekly_BW.head(3)"
   ]
  },
  {
   "cell_type": "code",
   "execution_count": null,
   "metadata": {},
   "outputs": [],
   "source": [
    "Fact_order = CategoricalDtype(\n",
    "    sorted(list(set(Promo_Weekly_BW[\"FCT\"]))), \n",
    "    ordered=True\n",
    ")\n",
    "\n",
    "Promo_Weekly_BW['FCT'] = Promo_Weekly_BW['FCT'].astype(Fact_order)\n",
    "\n",
    "Promo_Weekly_BW.sort_values(['MKT','PROD','FCT'],inplace=True)"
   ]
  },
  {
   "cell_type": "code",
   "execution_count": null,
   "metadata": {},
   "outputs": [],
   "source": [
    "Promo_Weekly_BW.head(3)"
   ]
  },
  {
   "cell_type": "markdown",
   "metadata": {},
   "source": [
    "## **promo_manufacturer_bump**"
   ]
  },
  {
   "cell_type": "code",
   "execution_count": null,
   "metadata": {},
   "outputs": [],
   "source": [
    "promo_manufacturer_bump=Promo_Weekly_BW.loc[(Promo_Weekly_BW[\"CP_SUBBRAND\"]==\"\") & (Promo_Weekly_BW[\"CP_BRAND\"]==\"\")&(Promo_Weekly_BW[\"CP_FRANCHISE\"]==\"\")&(Promo_Weekly_BW[\"CP_MANUFACTURER\"]!=\"\")]"
   ]
  },
  {
   "cell_type": "code",
   "execution_count": null,
   "metadata": {},
   "outputs": [],
   "source": [
    "promo_manufacturer_bump[\"Record_ID\"]=range(1,len(promo_manufacturer_bump)+1)"
   ]
  },
  {
   "cell_type": "code",
   "execution_count": null,
   "metadata": {},
   "outputs": [],
   "source": [
    "promo_manufacturer_bump.head(3)"
   ]
  },
  {
   "cell_type": "code",
   "execution_count": null,
   "metadata": {},
   "outputs": [],
   "source": [
    "promo_manufacturer_bump.to_csv(path_BW+\"promo_manufacturer_bump.csv\",index=False)"
   ]
  },
  {
   "cell_type": "markdown",
   "metadata": {},
   "source": [
    "## **promo_franchise_bump**"
   ]
  },
  {
   "cell_type": "code",
   "execution_count": null,
   "metadata": {},
   "outputs": [],
   "source": [
    "promo_franchise_bump=Promo_Weekly_BW.loc[(Promo_Weekly_BW[\"CP_SUBBRAND\"]==\"\") & (Promo_Weekly_BW[\"CP_BRAND\"]==\"\")&(Promo_Weekly_BW[\"CP_FRANCHISE\"]!=\"\")]"
   ]
  },
  {
   "cell_type": "code",
   "execution_count": null,
   "metadata": {},
   "outputs": [],
   "source": [
    "promo_franchise_bump[\"Record_ID\"]=range(1,len(promo_franchise_bump)+1)"
   ]
  },
  {
   "cell_type": "code",
   "execution_count": null,
   "metadata": {},
   "outputs": [],
   "source": [
    "promo_franchise_bump.head(3)"
   ]
  },
  {
   "cell_type": "code",
   "execution_count": null,
   "metadata": {},
   "outputs": [],
   "source": [
    "promo_franchise_bump.to_csv(path_BW+\"promo_franchise_bump.csv\",index=False)"
   ]
  },
  {
   "cell_type": "markdown",
   "metadata": {},
   "source": [
    "## **promo_brand_bump**"
   ]
  },
  {
   "cell_type": "code",
   "execution_count": null,
   "metadata": {},
   "outputs": [],
   "source": [
    "promo_brand_bump=Promo_Weekly_BW.loc[(Promo_Weekly_BW[\"CP_SUBBRAND\"]==\"\") & (Promo_Weekly_BW[\"CP_BRAND\"]!=\"\")]"
   ]
  },
  {
   "cell_type": "code",
   "execution_count": null,
   "metadata": {},
   "outputs": [],
   "source": [
    "promo_brand_bump[\"Record_ID\"]=range(1,len(promo_brand_bump)+1)"
   ]
  },
  {
   "cell_type": "code",
   "execution_count": null,
   "metadata": {},
   "outputs": [],
   "source": [
    "promo_brand_bump.head(3)"
   ]
  },
  {
   "cell_type": "code",
   "execution_count": null,
   "metadata": {},
   "outputs": [],
   "source": [
    "promo_brand_bump.to_csv(path_BW+\"promo_brand_bump.csv\",index=False)"
   ]
  },
  {
   "cell_type": "markdown",
   "metadata": {},
   "source": [
    "## **promo_subbrand_bump**"
   ]
  },
  {
   "cell_type": "code",
   "execution_count": null,
   "metadata": {},
   "outputs": [],
   "source": [
    "promo_subbrand_bump=Promo_Weekly_BW.loc[(Promo_Weekly_BW[\"CP_SUBBRAND\"]!=\"\")]"
   ]
  },
  {
   "cell_type": "code",
   "execution_count": null,
   "metadata": {},
   "outputs": [],
   "source": [
    "promo_subbrand_bump[\"Record_ID\"]=range(1,len(promo_subbrand_bump)+1)"
   ]
  },
  {
   "cell_type": "code",
   "execution_count": null,
   "metadata": {},
   "outputs": [],
   "source": [
    "promo_subbrand_bump.head(3)"
   ]
  },
  {
   "cell_type": "code",
   "execution_count": null,
   "metadata": {},
   "outputs": [],
   "source": [
    "promo_subbrand_bump.to_csv(path_BW+\"promo_subbrand_bump.csv\",index=False)"
   ]
  },
  {
   "cell_type": "code",
   "execution_count": null,
   "metadata": {},
   "outputs": [],
   "source": []
  },
  {
   "cell_type": "markdown",
   "metadata": {},
   "source": [
    "# LHS"
   ]
  },
  {
   "cell_type": "code",
   "execution_count": null,
   "metadata": {},
   "outputs": [],
   "source": [
    "Promo_Weekly=Line_Weekly_filter.copy()"
   ]
  },
  {
   "cell_type": "code",
   "execution_count": null,
   "metadata": {
    "scrolled": true
   },
   "outputs": [],
   "source": [
    "set(Promo_Weekly[\"Manufacturer\"])"
   ]
  },
  {
   "cell_type": "code",
   "execution_count": null,
   "metadata": {},
   "outputs": [],
   "source": [
    "Promo_Weekly_LHS= Promo_Weekly[Promo_Weekly[\"Category\"]==\"LHS\"]"
   ]
  },
  {
   "cell_type": "markdown",
   "metadata": {},
   "source": [
    "**path for 5p output data**"
   ]
  },
  {
   "cell_type": "code",
   "execution_count": null,
   "metadata": {},
   "outputs": [],
   "source": [
    "path_LHS=\"//falmumapp34/Nielsen Connect Transition & Maintenance (20-SCP-3650)/05. Output Data/5P Output/LHS/\""
   ]
  },
  {
   "cell_type": "code",
   "execution_count": null,
   "metadata": {},
   "outputs": [],
   "source": [
    "set(Promo_Weekly_LHS[\"Products\"])"
   ]
  },
  {
   "cell_type": "code",
   "execution_count": null,
   "metadata": {},
   "outputs": [],
   "source": [
    "Promo_Weekly_LHS[['ShareBasis','Franchise','Container','Brand','SubBrand']] = Promo_Weekly_LHS['Products'].str.split('|',n=4,expand=True)\n",
    "Promo_Weekly_LHS.head(3)"
   ]
  },
  {
   "cell_type": "code",
   "execution_count": null,
   "metadata": {},
   "outputs": [],
   "source": [
    "set(Promo_Weekly_LHS[\"Franchise\"])"
   ]
  },
  {
   "cell_type": "code",
   "execution_count": null,
   "metadata": {},
   "outputs": [],
   "source": [
    "Promo_Weekly_LHS[[\"ShareBasis\",\"Franchise\",\"Brand\",\"SubBrand\",\"Container\"]]=Promo_Weekly_LHS[[\"ShareBasis\",\"Franchise\",\"Brand\",\"SubBrand\",\"Container\"]].fillna(value=\"\")\n",
    "Promo_Weekly_LHS.head(3)"
   ]
  },
  {
   "cell_type": "code",
   "execution_count": null,
   "metadata": {},
   "outputs": [],
   "source": [
    "#Promo_Weekly = Promo_Weekly[Promo_Weekly[\"Franchise\"].isin([\"PUMP\",\"REFILL\"]) == False]"
   ]
  },
  {
   "cell_type": "code",
   "execution_count": null,
   "metadata": {},
   "outputs": [],
   "source": [
    "Promo_Weekly_LHS = movecol(Promo_Weekly_LHS, \n",
    "             cols_to_move=['Container'], \n",
    "             ref_col='Franchise',\n",
    "             place='After')\n",
    "Promo_Weekly_LHS.head(3)"
   ]
  },
  {
   "cell_type": "code",
   "execution_count": null,
   "metadata": {},
   "outputs": [],
   "source": [
    "cols=list(Promo_Weekly_LHS.columns[0:9])\n",
    "Promo_Weekly_LHS[cols]=Promo_Weekly_LHS[cols].apply(lambda x : x.str.strip())\n",
    "set(Promo_Weekly_LHS['Container'])"
   ]
  },
  {
   "cell_type": "code",
   "execution_count": null,
   "metadata": {},
   "outputs": [],
   "source": [
    "set(Promo_Weekly_LHS[Promo_Weekly_LHS[\"Markets\"]==\"Walmart Total US TA\"][\"Manufacturer\"])"
   ]
  },
  {
   "cell_type": "code",
   "execution_count": null,
   "metadata": {},
   "outputs": [],
   "source": [
    "Promo_Weekly_LHS = Promo_Weekly_LHS[Promo_Weekly_LHS[\"Container\"].isin([\"\",\"PUMP\",\"REFILL\"])]"
   ]
  },
  {
   "cell_type": "code",
   "execution_count": null,
   "metadata": {},
   "outputs": [],
   "source": [
    "Promo_Weekly_LHS[\"Frn\"] = \"\"\n",
    "for i in range(0,len(Promo_Weekly_LHS)):\n",
    "    if Promo_Weekly_LHS[\"Container\"].iloc[i] == \"\":\n",
    "        Promo_Weekly_LHS[\"Frn\"].iloc[i] = \"\"\n",
    "    else:\n",
    "        Promo_Weekly_LHS[\"Frn\"].iloc[i] = Promo_Weekly_LHS[\"Franchise\"].iloc[i] +\" \"+Promo_Weekly_LHS[\"Container\"].iloc[i]"
   ]
  },
  {
   "cell_type": "code",
   "execution_count": null,
   "metadata": {},
   "outputs": [],
   "source": [
    "Promo_Weekly_LHS[\"Brn\"] = \"\"\n",
    "for i in range(0,len(Promo_Weekly_LHS)):\n",
    "    if Promo_Weekly_LHS[\"Brand\"].iloc[i] == \"\":\n",
    "        Promo_Weekly_LHS[\"Brn\"].iloc[i] = \"\"\n",
    "    else:\n",
    "        Promo_Weekly_LHS[\"Brn\"].iloc[i] = Promo_Weekly_LHS[\"Brand\"].iloc[i] +\" \"+Promo_Weekly_LHS[\"Container\"].iloc[i]"
   ]
  },
  {
   "cell_type": "code",
   "execution_count": null,
   "metadata": {},
   "outputs": [],
   "source": [
    "Promo_Weekly_LHS[\"SubBrn\"] = \"\"\n",
    "for i in range(0,len(Promo_Weekly_LHS)):\n",
    "    if Promo_Weekly_LHS[\"SubBrand\"].iloc[i] == \"\":\n",
    "        Promo_Weekly_LHS[\"SubBrn\"].iloc[i] = \"\"\n",
    "    else:\n",
    "        Promo_Weekly_LHS[\"SubBrn\"].iloc[i] = Promo_Weekly_LHS[\"SubBrand\"].iloc[i] +\" \"+Promo_Weekly_LHS[\"Container\"].iloc[i]"
   ]
  },
  {
   "cell_type": "code",
   "execution_count": null,
   "metadata": {},
   "outputs": [],
   "source": [
    "set(Promo_Weekly_LHS['Manufacturer'])"
   ]
  },
  {
   "cell_type": "code",
   "execution_count": null,
   "metadata": {},
   "outputs": [],
   "source": [
    "Promo_Weekly_LHS['Manufacturer'] = Promo_Weekly_LHS['Franchise']\n",
    "Promo_Weekly_LHS['Franchise'] = Promo_Weekly_LHS['Frn']\n",
    "Promo_Weekly_LHS['Brand'] = Promo_Weekly_LHS['Brn']\n",
    "Promo_Weekly_LHS['SubBrand'] = Promo_Weekly_LHS['SubBrn']"
   ]
  },
  {
   "cell_type": "code",
   "execution_count": null,
   "metadata": {},
   "outputs": [],
   "source": [
    "set(Promo_Weekly_LHS[\"SubBrand\"])"
   ]
  },
  {
   "cell_type": "code",
   "execution_count": null,
   "metadata": {},
   "outputs": [],
   "source": [
    "del Promo_Weekly_LHS[\"Brn\"]\n",
    "del Promo_Weekly_LHS[\"Frn\"]\n",
    "del Promo_Weekly_LHS[\"SubBrn\"]\n",
    "del Promo_Weekly_LHS['Container']"
   ]
  },
  {
   "cell_type": "code",
   "execution_count": null,
   "metadata": {},
   "outputs": [],
   "source": [
    "Promo_Weekly_LHS.head(3)"
   ]
  },
  {
   "cell_type": "code",
   "execution_count": null,
   "metadata": {},
   "outputs": [],
   "source": []
  },
  {
   "cell_type": "markdown",
   "metadata": {},
   "source": [
    "## Promotion"
   ]
  },
  {
   "cell_type": "markdown",
   "metadata": {},
   "source": [
    "### Promo Weekly"
   ]
  },
  {
   "cell_type": "code",
   "execution_count": null,
   "metadata": {},
   "outputs": [],
   "source": [
    "del Promo_Weekly_LHS[\"Key\"]"
   ]
  },
  {
   "cell_type": "code",
   "execution_count": null,
   "metadata": {},
   "outputs": [],
   "source": [
    "set(list(Promo_Weekly_LHS[\"Markets\"]))"
   ]
  },
  {
   "cell_type": "code",
   "execution_count": null,
   "metadata": {
    "scrolled": true
   },
   "outputs": [],
   "source": [
    "Promo_Weekly_LHS.head()"
   ]
  },
  {
   "cell_type": "code",
   "execution_count": null,
   "metadata": {},
   "outputs": [],
   "source": [
    "Promo_Weekly_LHS.columns"
   ]
  },
  {
   "cell_type": "markdown",
   "metadata": {},
   "source": [
    "**Facts, Markets, ShareBasis and TimePeriod Selection**"
   ]
  },
  {
   "cell_type": "code",
   "execution_count": null,
   "metadata": {},
   "outputs": [],
   "source": [
    "Facts=[\"Any Disp %ACV\",\"Any Feat %ACV\",\"Base $\",\"Base $ Shr - CP CATEGORY\",\"Incr $\",\"Incr $ Shr - CP CATEGORY\",\"Avg EQ Price\"]\n",
    "\n",
    "Markets=[\"ALBSCO Total Company TA\",\"Ahold USA Corp Total TA\",\"BJs Total TA\",\"CVS Total Corp WO HI TA\",\"Dol Gen Total TA\",\"Family Dollar Total TA\",\n",
    "        \"Publix Total TA\",\"Rite Aid - Corp Total TA\",\"Sam's Total TA\",\"ShopRite Total TA\",'Meijer Total TA',\n",
    "        \"Target Total BM/FF TA\",'Total US Drug','Total US Food','Total US xAOC',\"Walgreens Total TA\",\"Walmart Total US TA\"]\n",
    "\n",
    "ShareBasis=[\"LIQUID\"]\n",
    "\n",
    "# Time_Period should be in the below order only\n",
    "Time_Period=list(Promo_Weekly_LHS.columns[0:1])+list(Promo_Weekly_LHS.columns[7:8])+list(Promo_Weekly_LHS.columns[1:7])+list(Promo_Weekly_LHS.columns[8:9])+list(Promo_Weekly_LHS.columns[-104:])\n",
    "\n",
    "print(Time_Period)"
   ]
  },
  {
   "cell_type": "code",
   "execution_count": null,
   "metadata": {},
   "outputs": [],
   "source": [
    "set(Promo_Weekly_LHS[Promo_Weekly_LHS[\"Markets\"]==\"Walmart Total US TA\"][\"Manufacturer\"])"
   ]
  },
  {
   "cell_type": "code",
   "execution_count": null,
   "metadata": {},
   "outputs": [],
   "source": [
    "# Filter Data based on above selection\n",
    "Promo_Weekly_LHS= Promo_Weekly_LHS[Promo_Weekly_LHS[\"Facts\"].isin(Facts)]\n",
    "Promo_Weekly_LHS= Promo_Weekly_LHS[Promo_Weekly_LHS[\"Markets\"].isin(Markets)]\n",
    "Promo_Weekly_LHS= Promo_Weekly_LHS[Promo_Weekly_LHS[\"ShareBasis\"].isin(ShareBasis)]\n",
    "Promo_Weekly_LHS=Promo_Weekly_LHS[Time_Period]"
   ]
  },
  {
   "cell_type": "code",
   "execution_count": null,
   "metadata": {
    "scrolled": true
   },
   "outputs": [],
   "source": [
    "Promo_Weekly_LHS.head(2)"
   ]
  },
  {
   "cell_type": "markdown",
   "metadata": {},
   "source": [
    "**Column name Change**"
   ]
  },
  {
   "cell_type": "code",
   "execution_count": null,
   "metadata": {},
   "outputs": [],
   "source": [
    "Promo_Weekly_LHS.rename(columns={\"Markets\":\"MKT\",\"ShareBasis\":\"CP_CATEGORY\",\"Products\":\"PROD\",\"Manufacturer\":\"CP_MANUFACTURER\",\n",
    "                                \"Franchise\":\"CP_FRANCHISE\",\"Brand\":\"CP_BRAND\",\"SubBrand\":\"CP_SUBBRAND\",\"Facts\":\"FCT\"},inplace=True)"
   ]
  },
  {
   "cell_type": "markdown",
   "metadata": {},
   "source": [
    "**Fact Name Change**"
   ]
  },
  {
   "cell_type": "code",
   "execution_count": null,
   "metadata": {},
   "outputs": [],
   "source": [
    "Fact_Mapping={\n",
    "    \"Any Disp %ACV\":\"%ACV Any Display\",\n",
    "    \"Any Feat %ACV\":\"%ACV Any Feature\",\n",
    "    \"Base $\":\"Baseline $\",\n",
    "    \"Base $ Shr - CP CATEGORY\":\"Baseline $ Share\",\n",
    "    \"Incr $\":\"Incr.$\",\n",
    "    \"Incr $ Shr - CP CATEGORY\":\"Incr.$ Share\",\n",
    "    \"Avg EQ Price\":\"RASP per Case\"\n",
    "\n",
    "}"
   ]
  },
  {
   "cell_type": "code",
   "execution_count": null,
   "metadata": {},
   "outputs": [],
   "source": [
    "Promo_Weekly_LHS[\"FCT\"].replace(Fact_Mapping,inplace=True)"
   ]
  },
  {
   "cell_type": "markdown",
   "metadata": {},
   "source": [
    "**Market Name Change**"
   ]
  },
  {
   "cell_type": "code",
   "execution_count": null,
   "metadata": {},
   "outputs": [],
   "source": [
    "Market_Mapping={\n",
    "    \"ALBSCO Total Company TA\":\"Alb/Sfy\",\n",
    "    \"Ahold USA Corp Total TA\":\"Ahold\",\n",
    "    \"BJs Total TA\":\"BJs\",\n",
    "    \"CVS Total Corp WO HI TA\":\"CVS\",\n",
    "    \"Dol Gen Total TA\":\"Dollar General\",\n",
    "    \"Family Dollar Total TA\":\"Family Dollar\",\n",
    "    \"Meijer Total TA\":\"Meijer\",\n",
    "    \"Publix Total TA\":\"Publix\",\n",
    "    \"Rite Aid - Corp Total TA\":\"Rite Aid\",\n",
    "    \"Sam's Total TA\":\"Sams\",\n",
    "    \"ShopRite Total TA\":\"Shoprite\",\n",
    "    \"Target Total BM/FF TA\":\"Target\",\n",
    "    'Total US Drug':\"US Drug\",\n",
    "    'Total US Food':\"US Food\",\n",
    "    'Total US xAOC':\"US AOC\",\n",
    "    \"Walgreens Total TA\":\"Walgreens\",\n",
    "    \"Walmart Total US TA\":\"Walmart\",\n",
    "    'Kmart Total TA':\"Kmart\"\n",
    "}"
   ]
  },
  {
   "cell_type": "code",
   "execution_count": null,
   "metadata": {},
   "outputs": [],
   "source": [
    "Promo_Weekly_LHS[\"MKT\"].replace(Market_Mapping,inplace=True)"
   ]
  },
  {
   "cell_type": "code",
   "execution_count": null,
   "metadata": {},
   "outputs": [],
   "source": [
    "del Promo_Weekly_LHS[\"Category\"]"
   ]
  },
  {
   "cell_type": "code",
   "execution_count": null,
   "metadata": {
    "scrolled": true
   },
   "outputs": [],
   "source": [
    "Promo_Weekly_LHS.head(3)"
   ]
  },
  {
   "cell_type": "code",
   "execution_count": null,
   "metadata": {},
   "outputs": [],
   "source": [
    "Fact_order = CategoricalDtype(\n",
    "    sorted(list(set(Promo_Weekly_LHS[\"FCT\"]))), \n",
    "    ordered=True\n",
    ")\n",
    "\n",
    "Promo_Weekly_LHS['FCT'] = Promo_Weekly_LHS['FCT'].astype(Fact_order)\n",
    "\n",
    "Promo_Weekly_LHS.sort_values(['MKT','PROD','FCT'],inplace=True)"
   ]
  },
  {
   "cell_type": "code",
   "execution_count": null,
   "metadata": {},
   "outputs": [],
   "source": [
    "Promo_Weekly_LHS.head(3)"
   ]
  },
  {
   "cell_type": "code",
   "execution_count": null,
   "metadata": {},
   "outputs": [],
   "source": [
    "print(len(set(Markets)), len(set(Promo_Weekly_LHS[\"MKT\"])))"
   ]
  },
  {
   "cell_type": "code",
   "execution_count": null,
   "metadata": {},
   "outputs": [],
   "source": [
    "set(Promo_Weekly_LHS[\"CP_MANUFACTURER\"])"
   ]
  },
  {
   "cell_type": "code",
   "execution_count": null,
   "metadata": {},
   "outputs": [],
   "source": [
    "# Promo_Weekly_LHS[Promo_Weekly_LHS[\"MKT\"].all()==\"Walmart\" and Promo_Weekly_LHS[\"CP_MANUFACTURER\"].all()==\"SOFTSOAP\"][\"CP_FRANCHISE\"]"
   ]
  },
  {
   "cell_type": "code",
   "execution_count": null,
   "metadata": {},
   "outputs": [],
   "source": [
    "set(Promo_Weekly_LHS[Promo_Weekly_LHS[\"MKT\"]==\"Walmart\"][\"CP_MANUFACTURER\"])"
   ]
  },
  {
   "cell_type": "code",
   "execution_count": null,
   "metadata": {},
   "outputs": [],
   "source": []
  },
  {
   "cell_type": "markdown",
   "metadata": {},
   "source": [
    "## **promo_manufacturer_bump**"
   ]
  },
  {
   "cell_type": "code",
   "execution_count": null,
   "metadata": {},
   "outputs": [],
   "source": [
    "promo_manufacturer_bump=Promo_Weekly_LHS.loc[(Promo_Weekly_LHS[\"CP_SUBBRAND\"]==\"\") & (Promo_Weekly_LHS[\"CP_BRAND\"]==\"\")&(Promo_Weekly_LHS[\"CP_FRANCHISE\"]==\"\")&(Promo_Weekly_LHS[\"CP_MANUFACTURER\"]!=\"\")]"
   ]
  },
  {
   "cell_type": "code",
   "execution_count": null,
   "metadata": {},
   "outputs": [],
   "source": [
    "promo_manufacturer_bump[\"Record_ID\"]=range(1,len(promo_manufacturer_bump)+1)"
   ]
  },
  {
   "cell_type": "code",
   "execution_count": null,
   "metadata": {},
   "outputs": [],
   "source": [
    "promo_manufacturer_bump.head(3)"
   ]
  },
  {
   "cell_type": "code",
   "execution_count": null,
   "metadata": {},
   "outputs": [],
   "source": [
    "promo_manufacturer_bump.to_csv(path_LHS+\"promo_manufacturer_bump.csv\",index=False)"
   ]
  },
  {
   "cell_type": "markdown",
   "metadata": {},
   "source": [
    "## **promo_franchise_bump**"
   ]
  },
  {
   "cell_type": "code",
   "execution_count": null,
   "metadata": {},
   "outputs": [],
   "source": [
    "promo_franchise_bump=Promo_Weekly_LHS.loc[(Promo_Weekly_LHS[\"CP_SUBBRAND\"]==\"\") & (Promo_Weekly_LHS[\"CP_BRAND\"]==\"\")&(Promo_Weekly_LHS[\"CP_FRANCHISE\"]!=\"\")]"
   ]
  },
  {
   "cell_type": "code",
   "execution_count": null,
   "metadata": {},
   "outputs": [],
   "source": [
    "promo_franchise_bump[\"Record_ID\"]=range(1,len(promo_franchise_bump)+1)"
   ]
  },
  {
   "cell_type": "code",
   "execution_count": null,
   "metadata": {},
   "outputs": [],
   "source": [
    "promo_franchise_bump.head(3)"
   ]
  },
  {
   "cell_type": "code",
   "execution_count": null,
   "metadata": {},
   "outputs": [],
   "source": [
    "promo_franchise_bump.to_csv(path_LHS+\"promo_franchise_bump.csv\",index=False)"
   ]
  },
  {
   "cell_type": "markdown",
   "metadata": {},
   "source": [
    "## **promo_brand_bump**"
   ]
  },
  {
   "cell_type": "code",
   "execution_count": null,
   "metadata": {},
   "outputs": [],
   "source": [
    "promo_brand_bump=Promo_Weekly_LHS.loc[(Promo_Weekly_LHS[\"CP_SUBBRAND\"]==\"\") & (Promo_Weekly_LHS[\"CP_BRAND\"]!=\"\")]"
   ]
  },
  {
   "cell_type": "code",
   "execution_count": null,
   "metadata": {},
   "outputs": [],
   "source": [
    "promo_brand_bump[\"Record_ID\"]=range(1,len(promo_brand_bump)+1)"
   ]
  },
  {
   "cell_type": "code",
   "execution_count": null,
   "metadata": {},
   "outputs": [],
   "source": [
    "promo_brand_bump.head(3)"
   ]
  },
  {
   "cell_type": "code",
   "execution_count": null,
   "metadata": {},
   "outputs": [],
   "source": [
    "promo_brand_bump.to_csv(path_LHS+\"promo_brand_bump.csv\",index=False)"
   ]
  },
  {
   "cell_type": "markdown",
   "metadata": {},
   "source": [
    "## **promo_subbrand_bump**"
   ]
  },
  {
   "cell_type": "code",
   "execution_count": null,
   "metadata": {},
   "outputs": [],
   "source": [
    "promo_subbrand_bump=Promo_Weekly_LHS.loc[(Promo_Weekly_LHS[\"CP_SUBBRAND\"]!=\"\")]"
   ]
  },
  {
   "cell_type": "code",
   "execution_count": null,
   "metadata": {},
   "outputs": [],
   "source": [
    "promo_subbrand_bump[\"Record_ID\"]=range(1,len(promo_subbrand_bump)+1)"
   ]
  },
  {
   "cell_type": "code",
   "execution_count": null,
   "metadata": {},
   "outputs": [],
   "source": [
    "promo_subbrand_bump.head(3)"
   ]
  },
  {
   "cell_type": "code",
   "execution_count": null,
   "metadata": {},
   "outputs": [],
   "source": [
    "promo_subbrand_bump.to_csv(path_LHS+\"promo_subbrand_bump.csv\",index=False)"
   ]
  },
  {
   "cell_type": "code",
   "execution_count": null,
   "metadata": {},
   "outputs": [],
   "source": []
  },
  {
   "cell_type": "markdown",
   "metadata": {},
   "source": [
    "# PTB"
   ]
  },
  {
   "cell_type": "code",
   "execution_count": null,
   "metadata": {},
   "outputs": [],
   "source": [
    "Promo_Weekly_PTB=Line_Weekly_filter.copy()"
   ]
  },
  {
   "cell_type": "code",
   "execution_count": null,
   "metadata": {},
   "outputs": [],
   "source": [
    "set(Promo_Weekly_PTB[\"ShareBasis\"])"
   ]
  },
  {
   "cell_type": "code",
   "execution_count": null,
   "metadata": {},
   "outputs": [],
   "source": [
    "#Promo_Weekly_PTB= Promo_Weekly[Promo_Weekly[\"Category\"]==\"\"]"
   ]
  },
  {
   "cell_type": "code",
   "execution_count": null,
   "metadata": {},
   "outputs": [],
   "source": [
    "Promo_Weekly_PTB.head()"
   ]
  },
  {
   "cell_type": "markdown",
   "metadata": {},
   "source": [
    "**path for 5p output data**"
   ]
  },
  {
   "cell_type": "code",
   "execution_count": null,
   "metadata": {},
   "outputs": [],
   "source": [
    "path_PTB=\"//falmumapp34/Nielsen Connect Transition & Maintenance (20-SCP-3650)/05. Output Data/5P Output/PTB/\""
   ]
  },
  {
   "cell_type": "markdown",
   "metadata": {},
   "source": [
    "## Promotion"
   ]
  },
  {
   "cell_type": "markdown",
   "metadata": {},
   "source": [
    "### Promo Weekly"
   ]
  },
  {
   "cell_type": "code",
   "execution_count": null,
   "metadata": {},
   "outputs": [],
   "source": [
    "del Promo_Weekly_PTB[\"Key\"]"
   ]
  },
  {
   "cell_type": "code",
   "execution_count": null,
   "metadata": {
    "scrolled": true
   },
   "outputs": [],
   "source": [
    "Promo_Weekly_PTB.head()"
   ]
  },
  {
   "cell_type": "markdown",
   "metadata": {},
   "source": [
    "**Facts, Markets, ShareBasis and TimePeriod Selection**"
   ]
  },
  {
   "cell_type": "code",
   "execution_count": null,
   "metadata": {},
   "outputs": [],
   "source": [
    "Facts=[\"Any Disp %ACV\",\"Any Feat %ACV\",\"Base $\",\"Base $ Shr - CP CATEGORY\",\"Incr $\",\"Incr $ Shr - CP CATEGORY\",\"Avg EQ Price\"]\n",
    "\n",
    "Markets=[\"ALBSCO Total Company TA\",\"Ahold USA Corp Total TA\",\"BJs Total TA\",\"CVS Total Corp WO HI TA\",\"Dol Gen Total TA\",\"Family Dollar Total TA\",\n",
    "        \"Publix Total TA\",\"Rite Aid - Corp Total TA\",\"Giant Eagle Total TA\",\"ShopRite Total TA\",\"Kmart Total TA\",\"Wegmans Total TA\",\n",
    "        \"Target Total BM/FF TA\",'Total US Drug','Total US Food','Total US xAOC',\"Walgreens Total TA\",\"Walmart Total US TA\",\n",
    "        'Meijer Total TA']\n",
    "\n",
    "ShareBasis=[\"POWER\", \"BATTERY+HYBRID\"]\n",
    "\n",
    "# Time_Period should be in the below order only\n",
    "Time_Period=list(Promo_Weekly_PTB.columns[0:1])+list(Promo_Weekly_PTB.columns[7:8])+list(Promo_Weekly_PTB.columns[1:7])+list(Promo_Weekly_PTB.columns[8:9])+list(Promo_Weekly_PTB.columns[-104:])\n",
    "print(Time_Period)"
   ]
  },
  {
   "cell_type": "code",
   "execution_count": null,
   "metadata": {},
   "outputs": [],
   "source": [
    "# Filter Data based on above selection\n",
    "Promo_Weekly_PTB= Promo_Weekly_PTB[Promo_Weekly_PTB[\"Facts\"].isin(Facts)]\n",
    "Promo_Weekly_PTB= Promo_Weekly_PTB[Promo_Weekly_PTB[\"Markets\"].isin(Markets)]\n",
    "Promo_Weekly_PTB= Promo_Weekly_PTB[Promo_Weekly_PTB[\"ShareBasis\"].isin(ShareBasis)]\n",
    "Promo_Weekly_PTB=Promo_Weekly_PTB[Time_Period]"
   ]
  },
  {
   "cell_type": "code",
   "execution_count": null,
   "metadata": {
    "scrolled": true
   },
   "outputs": [],
   "source": [
    "Promo_Weekly_PTB.head(2)"
   ]
  },
  {
   "cell_type": "code",
   "execution_count": null,
   "metadata": {},
   "outputs": [],
   "source": [
    "Promo_Weekly_PTB[\"CP_CATEGORY\"] = \"POWER\""
   ]
  },
  {
   "cell_type": "code",
   "execution_count": null,
   "metadata": {},
   "outputs": [],
   "source": [
    "Promo_Weekly_PTB = movecol(Promo_Weekly_PTB, \n",
    "             cols_to_move=['CP_CATEGORY'], \n",
    "             ref_col='Products',\n",
    "             place='After')\n",
    "Promo_Weekly_PTB.head(3)"
   ]
  },
  {
   "cell_type": "code",
   "execution_count": null,
   "metadata": {},
   "outputs": [],
   "source": [
    "print(list(Promo_Weekly_PTB.columns))"
   ]
  },
  {
   "cell_type": "markdown",
   "metadata": {},
   "source": [
    "**Column name Change**"
   ]
  },
  {
   "cell_type": "code",
   "execution_count": null,
   "metadata": {},
   "outputs": [],
   "source": [
    "Promo_Weekly_PTB.rename(columns={\"Markets\":\"MKT\",\"ShareBasis\":\"CP_BATTERY_HYBRID\",\"Products\":\"PROD\",\"Manufacturer\":\"CP_MANUFACTURER\",\n",
    "                                \"Franchise\":\"CP_FRANCHISE\",\"Brand\":\"CP_BRAND\",\"SubBrand\":\"CP_SUBBRAND\",\"Facts\":\"FCT\"},inplace=True)"
   ]
  },
  {
   "cell_type": "code",
   "execution_count": null,
   "metadata": {},
   "outputs": [],
   "source": [
    "Promo_Weekly_PTB.columns"
   ]
  },
  {
   "cell_type": "code",
   "execution_count": null,
   "metadata": {},
   "outputs": [],
   "source": [
    "lst = Promo_Weekly_PTB[\"CP_BATTERY_HYBRID\"]\n",
    "del Promo_Weekly_PTB[\"CP_BATTERY_HYBRID\"]\n",
    "Promo_Weekly_PTB[\"CP_BATTERY_HYBRID\"] = lst\n",
    "Promo_Weekly_PTB.columns"
   ]
  },
  {
   "cell_type": "code",
   "execution_count": null,
   "metadata": {},
   "outputs": [],
   "source": [
    "PTB_power_mapping={\n",
    "    \"POWER\":\"TOTAL POWER\"}\n",
    "Promo_Weekly_PTB[\"CP_BATTERY_HYBRID\"].replace(PTB_power_mapping,inplace=True)"
   ]
  },
  {
   "cell_type": "markdown",
   "metadata": {},
   "source": [
    "**Fact Name Change**"
   ]
  },
  {
   "cell_type": "code",
   "execution_count": null,
   "metadata": {},
   "outputs": [],
   "source": [
    "Fact_Mapping={\n",
    "    \"Any Disp %ACV\":\"%ACV Any Display\",\n",
    "    \"Any Feat %ACV\":\"%ACV Any Feature\",\n",
    "    \"Base $\":\"Baseline $\",\n",
    "    \"Base $ Shr - CP CATEGORY\":\"Baseline $ Share\",\n",
    "    \"Incr $\":\"Incr.$\",\n",
    "    \"Incr $ Shr - CP CATEGORY\":\"Incr.$ Share\",\n",
    "    \"Avg EQ Price\":\"RASP per Case\"\n",
    "\n",
    "}"
   ]
  },
  {
   "cell_type": "code",
   "execution_count": null,
   "metadata": {},
   "outputs": [],
   "source": [
    "Promo_Weekly_PTB[\"FCT\"].replace(Fact_Mapping,inplace=True)"
   ]
  },
  {
   "cell_type": "markdown",
   "metadata": {},
   "source": [
    "**Market Name Change**"
   ]
  },
  {
   "cell_type": "code",
   "execution_count": null,
   "metadata": {},
   "outputs": [],
   "source": [
    "Market_Mapping={\n",
    "    \"ALBSCO Total Company TA\":\"Alb/Sfy\",\n",
    "    \"Ahold USA Corp Total TA\":\"Ahold\",\n",
    "    \"BJs Total TA\":\"BJs\",\n",
    "    \"CVS Total Corp WO HI TA\":\"CVS\",\n",
    "    \"Dol Gen Total TA\":\"Dollar General\",\n",
    "    \"Family Dollar Total TA\":\"Family Dollar\",\n",
    "    \"Meijer Total TA\":\"Meijer\",\n",
    "    \"Publix Total TA\":\"Publix\",\n",
    "    \"Rite Aid - Corp Total TA\":\"Rite Aid\",\n",
    "    \"Giant Eagle Total TA\":\"Giant Eagle\",\n",
    "    \"ShopRite Total TA\":\"Shoprite\",\n",
    "    \"Target Total BM/FF TA\":\"Target\",\n",
    "    'Total US Drug':\"US Drug\",\n",
    "    'Total US Food':\"US Food\",\n",
    "    'Total US xAOC':\"US AOC\",\n",
    "    \"Walgreens Total TA\":\"Walgreens\",\n",
    "    \"Walmart Corp Total US TA\":\"Walmart\",\n",
    "    'Kmart Total TA':\"Kmart\",\n",
    "    'Walmart Total US TA':\"Walmart\",\n",
    "    'Wegmans Total TA':\"Wegmans\"\n",
    "}"
   ]
  },
  {
   "cell_type": "code",
   "execution_count": null,
   "metadata": {},
   "outputs": [],
   "source": [
    "Promo_Weekly_PTB[\"MKT\"].replace(Market_Mapping,inplace=True)"
   ]
  },
  {
   "cell_type": "code",
   "execution_count": null,
   "metadata": {},
   "outputs": [],
   "source": [
    "del Promo_Weekly_PTB[\"Category\"]"
   ]
  },
  {
   "cell_type": "code",
   "execution_count": null,
   "metadata": {
    "scrolled": true
   },
   "outputs": [],
   "source": [
    "Promo_Weekly_PTB.head(3)"
   ]
  },
  {
   "cell_type": "code",
   "execution_count": null,
   "metadata": {},
   "outputs": [],
   "source": [
    "Fact_order = CategoricalDtype(\n",
    "    sorted(list(set(Promo_Weekly_PTB[\"FCT\"]))), \n",
    "    ordered=True\n",
    ")\n",
    "\n",
    "Promo_Weekly_PTB['FCT'] = Promo_Weekly_PTB['FCT'].astype(Fact_order)\n",
    "\n",
    "Promo_Weekly_PTB.sort_values(['MKT','PROD','FCT'],inplace=True)"
   ]
  },
  {
   "cell_type": "code",
   "execution_count": null,
   "metadata": {},
   "outputs": [],
   "source": [
    "Promo_Weekly_PTB.head(3)"
   ]
  },
  {
   "cell_type": "markdown",
   "metadata": {},
   "source": [
    "## **promo_manufacturer_bump**"
   ]
  },
  {
   "cell_type": "code",
   "execution_count": null,
   "metadata": {},
   "outputs": [],
   "source": [
    "promo_manufacturer_bump=Promo_Weekly_PTB.loc[(Promo_Weekly_PTB[\"CP_SUBBRAND\"]==\"\") & (Promo_Weekly_PTB[\"CP_BRAND\"]==\"\")&(Promo_Weekly_PTB[\"CP_FRANCHISE\"]==\"\")&(Promo_Weekly_PTB[\"CP_MANUFACTURER\"]!=\"\")]"
   ]
  },
  {
   "cell_type": "code",
   "execution_count": null,
   "metadata": {},
   "outputs": [],
   "source": [
    "promo_manufacturer_bump[\"Record_ID\"]=range(1,len(promo_manufacturer_bump)+1)"
   ]
  },
  {
   "cell_type": "code",
   "execution_count": null,
   "metadata": {},
   "outputs": [],
   "source": [
    "promo_manufacturer_bump.head(3)"
   ]
  },
  {
   "cell_type": "code",
   "execution_count": null,
   "metadata": {},
   "outputs": [],
   "source": [
    "promo_manufacturer_bump.to_csv(path_PTB+\"promo_manufacturer_bump.csv\",index=False)"
   ]
  },
  {
   "cell_type": "markdown",
   "metadata": {},
   "source": [
    "## **promo_franchise_bump**"
   ]
  },
  {
   "cell_type": "code",
   "execution_count": null,
   "metadata": {},
   "outputs": [],
   "source": [
    "promo_franchise_bump=Promo_Weekly_PTB.loc[(Promo_Weekly_PTB[\"CP_SUBBRAND\"]==\"\") & (Promo_Weekly_PTB[\"CP_BRAND\"]==\"\")&(Promo_Weekly_PTB[\"CP_FRANCHISE\"]!=\"\")]"
   ]
  },
  {
   "cell_type": "code",
   "execution_count": null,
   "metadata": {},
   "outputs": [],
   "source": [
    "promo_franchise_bump[\"Record_ID\"]=range(1,len(promo_franchise_bump)+1)"
   ]
  },
  {
   "cell_type": "code",
   "execution_count": null,
   "metadata": {},
   "outputs": [],
   "source": [
    "promo_franchise_bump.head(3)"
   ]
  },
  {
   "cell_type": "code",
   "execution_count": null,
   "metadata": {},
   "outputs": [],
   "source": [
    "promo_franchise_bump.to_csv(path_PTB+\"promo_franchise_bump.csv\",index=False)"
   ]
  },
  {
   "cell_type": "markdown",
   "metadata": {},
   "source": [
    "## **promo_brand_bump**"
   ]
  },
  {
   "cell_type": "code",
   "execution_count": null,
   "metadata": {},
   "outputs": [],
   "source": [
    "promo_brand_bump=Promo_Weekly_PTB.loc[(Promo_Weekly_PTB[\"CP_SUBBRAND\"]==\"\") & (Promo_Weekly_PTB[\"CP_BRAND\"]!=\"\")]"
   ]
  },
  {
   "cell_type": "code",
   "execution_count": null,
   "metadata": {},
   "outputs": [],
   "source": [
    "promo_brand_bump[\"Record_ID\"]=range(1,len(promo_brand_bump)+1)"
   ]
  },
  {
   "cell_type": "code",
   "execution_count": null,
   "metadata": {},
   "outputs": [],
   "source": [
    "promo_brand_bump.head(3)"
   ]
  },
  {
   "cell_type": "code",
   "execution_count": null,
   "metadata": {},
   "outputs": [],
   "source": [
    "promo_brand_bump.to_csv(path_PTB+\"promo_brand_bump.csv\",index=False)"
   ]
  },
  {
   "cell_type": "markdown",
   "metadata": {},
   "source": [
    "## **promo_subbrand_bump**"
   ]
  },
  {
   "cell_type": "code",
   "execution_count": null,
   "metadata": {},
   "outputs": [],
   "source": [
    "promo_subbrand_bump=Promo_Weekly_PTB.loc[(Promo_Weekly_PTB[\"CP_SUBBRAND\"]!=\"\")]"
   ]
  },
  {
   "cell_type": "code",
   "execution_count": null,
   "metadata": {},
   "outputs": [],
   "source": [
    "promo_subbrand_bump[\"Record_ID\"]=range(1,len(promo_subbrand_bump)+1)"
   ]
  },
  {
   "cell_type": "code",
   "execution_count": null,
   "metadata": {
    "scrolled": false
   },
   "outputs": [],
   "source": [
    "promo_subbrand_bump.head(3)"
   ]
  },
  {
   "cell_type": "code",
   "execution_count": null,
   "metadata": {},
   "outputs": [],
   "source": [
    "promo_subbrand_bump.to_csv(path_PTB+\"promo_subbrand_bump.csv\",index=False)"
   ]
  },
  {
   "cell_type": "code",
   "execution_count": null,
   "metadata": {},
   "outputs": [],
   "source": []
  },
  {
   "cell_type": "markdown",
   "metadata": {},
   "source": [
    "# FS"
   ]
  },
  {
   "cell_type": "code",
   "execution_count": null,
   "metadata": {},
   "outputs": [],
   "source": [
    "set(Line_Weekly_filter[\"Markets\"])"
   ]
  },
  {
   "cell_type": "code",
   "execution_count": null,
   "metadata": {},
   "outputs": [],
   "source": [
    "Promo_Weekly_FS=Line_Weekly_filter.copy()"
   ]
  },
  {
   "cell_type": "code",
   "execution_count": null,
   "metadata": {},
   "outputs": [],
   "source": [
    "set(Promo_Weekly_FS[\"ShareBasis\"])"
   ]
  },
  {
   "cell_type": "code",
   "execution_count": null,
   "metadata": {},
   "outputs": [],
   "source": []
  },
  {
   "cell_type": "code",
   "execution_count": null,
   "metadata": {},
   "outputs": [],
   "source": [
    "Promo_Weekly_FS = Promo_Weekly_FS[Promo_Weekly_FS[\"ShareBasis\"].isin([\"BEAD FS\", \"LIQUID FS\", \"SCENT BOOSTERS\", \"SHEETS\", \"FABRIC SOFTENERS\"] )]"
   ]
  },
  {
   "cell_type": "code",
   "execution_count": null,
   "metadata": {},
   "outputs": [],
   "source": [
    "Promo_Weekly_FS[\"ShareBasis\"].replace({\"FABRIC SOFTENERS\" : \"TOTAL FS\"}, inplace = True)"
   ]
  },
  {
   "cell_type": "code",
   "execution_count": null,
   "metadata": {},
   "outputs": [],
   "source": [
    "Promo_Weekly_FS[\"Products\"] = Promo_Weekly_FS[\"Products\"].str.replace(\"FABRIC SOFTENERS\" , \"TOTAL FS\")"
   ]
  },
  {
   "cell_type": "code",
   "execution_count": null,
   "metadata": {},
   "outputs": [],
   "source": [
    "#Promo_Weekly_PTB= Promo_Weekly[Promo_Weekly[\"Category\"]==\"\"]"
   ]
  },
  {
   "cell_type": "code",
   "execution_count": null,
   "metadata": {},
   "outputs": [],
   "source": [
    "Promo_Weekly_FS.head()"
   ]
  },
  {
   "cell_type": "markdown",
   "metadata": {},
   "source": [
    "**path for 5p output data**"
   ]
  },
  {
   "cell_type": "code",
   "execution_count": null,
   "metadata": {},
   "outputs": [],
   "source": [
    "path_FS=\"//falmumapp34/Nielsen Connect Transition & Maintenance (20-SCP-3650)/05. Output Data/5P Output/FS/\""
   ]
  },
  {
   "cell_type": "markdown",
   "metadata": {},
   "source": [
    "## Promotion"
   ]
  },
  {
   "cell_type": "markdown",
   "metadata": {},
   "source": [
    "### Promo Weekly"
   ]
  },
  {
   "cell_type": "code",
   "execution_count": null,
   "metadata": {},
   "outputs": [],
   "source": [
    "del Promo_Weekly_FS[\"Key\"]"
   ]
  },
  {
   "cell_type": "code",
   "execution_count": null,
   "metadata": {
    "scrolled": true
   },
   "outputs": [],
   "source": [
    "Promo_Weekly_FS.head()"
   ]
  },
  {
   "cell_type": "code",
   "execution_count": null,
   "metadata": {},
   "outputs": [],
   "source": [
    "set(Promo_Weekly_FS[\"Markets\"])"
   ]
  },
  {
   "cell_type": "markdown",
   "metadata": {},
   "source": [
    "**Facts, Markets, ShareBasis and TimePeriod Selection**"
   ]
  },
  {
   "cell_type": "code",
   "execution_count": null,
   "metadata": {},
   "outputs": [],
   "source": [
    "Facts=[\"Any Disp %ACV\",\"Any Feat %ACV\",\"Base $\",\"Base $ Shr - CP CATEGORY\",\"Incr $\",\"Incr $ Shr - CP CATEGORY\",\"Avg EQ Price\"]\n",
    "\n",
    "Markets=[\"BJs Total TA\",\"CVS Total Corp WO HI TA\",\"Dol Gen Total TA\",\"Family Dollar Total TA\",\n",
    "        \"Publix Total TA\",\"Rite Aid - Corp Total TA\",\"Kmart Total TA\",\n",
    "        \"Target Total BM/FF TA\",'Total US Drug','Total US Food','Total US xAOC',\"Walgreens Total TA\",\"Walmart Total US TA\",\n",
    "        \"Sam's Total TA\", \"El Super Total TA\"]\n",
    "\n",
    "# Time_Period should be in the below order only\n",
    "Time_Period=list(Promo_Weekly_FS.columns[0:1])+list(Promo_Weekly_FS.columns[7:8])+list(Promo_Weekly_FS.columns[1:7])+list(Promo_Weekly_FS.columns[8:9])+list(Promo_Weekly_FS.columns[-104:])\n",
    "print(Time_Period)"
   ]
  },
  {
   "cell_type": "code",
   "execution_count": null,
   "metadata": {},
   "outputs": [],
   "source": [
    "# Filter Data based on above selection\n",
    "Promo_Weekly_FS= Promo_Weekly_FS[Promo_Weekly_FS[\"Facts\"].isin(Facts)]\n",
    "Promo_Weekly_FS= Promo_Weekly_FS[Promo_Weekly_FS[\"Markets\"].isin(Markets)]\n",
    "Promo_Weekly_FS=Promo_Weekly_FS[Time_Period]"
   ]
  },
  {
   "cell_type": "code",
   "execution_count": null,
   "metadata": {},
   "outputs": [],
   "source": [
    "Promo_Weekly_FS[\"Facts\"]"
   ]
  },
  {
   "cell_type": "code",
   "execution_count": null,
   "metadata": {
    "scrolled": true
   },
   "outputs": [],
   "source": [
    "Promo_Weekly_FS.head(2)"
   ]
  },
  {
   "cell_type": "code",
   "execution_count": null,
   "metadata": {},
   "outputs": [],
   "source": [
    "Promo_Weekly_FS[\"CP_CATEGORY\"] = \"FABRIC SOFTENERS\""
   ]
  },
  {
   "cell_type": "code",
   "execution_count": null,
   "metadata": {},
   "outputs": [],
   "source": [
    "Promo_Weekly_FS = movecol(Promo_Weekly_FS, \n",
    "             cols_to_move=['CP_CATEGORY'], \n",
    "             ref_col='Products',\n",
    "             place='After')\n",
    "Promo_Weekly_FS.head(3)"
   ]
  },
  {
   "cell_type": "code",
   "execution_count": null,
   "metadata": {},
   "outputs": [],
   "source": [
    "print(list(Promo_Weekly_FS.columns))"
   ]
  },
  {
   "cell_type": "code",
   "execution_count": null,
   "metadata": {},
   "outputs": [],
   "source": [
    "lst = Promo_Weekly_FS[\"ShareBasis\"]\n",
    "del Promo_Weekly_FS[\"ShareBasis\"]\n",
    "Promo_Weekly_FS[\"ShareBasis\"] = lst"
   ]
  },
  {
   "cell_type": "markdown",
   "metadata": {},
   "source": [
    "**Column name Change**"
   ]
  },
  {
   "cell_type": "code",
   "execution_count": null,
   "metadata": {},
   "outputs": [],
   "source": [
    "Promo_Weekly_FS.rename(columns={\"Markets\":\"MKT\",\"ShareBasis\":\"CP_SHARE_BASIS\",\"Products\":\"PROD\",\"Manufacturer\":\"CP_MANUFACTURER\",\n",
    "                                \"Franchise\":\"CP_FRANCHISE\",\"Brand\":\"CP_BRAND\",\"SubBrand\":\"CP_SUBBRAND_VARIANT\",\"Facts\":\"FCT\"},inplace=True)"
   ]
  },
  {
   "cell_type": "code",
   "execution_count": null,
   "metadata": {},
   "outputs": [],
   "source": [
    "#order = ['MKT', 'PROD', 'CP_CATEGORY', 'Category', 'CP_MANUFACTURER', 'CP_FRANCHISE', 'CP_BRAND', 'CP_SUBBRAND', 'FCT', '1 w/e 02/02/19', '1 w/e 02/09/19', '1 w/e 02/16/19', '1 w/e 02/23/19', '1 w/e 03/02/19', '1 w/e 03/09/19', '1 w/e 03/16/19', '1 w/e 03/23/19', '1 w/e 03/30/19', '1 w/e 04/06/19', '1 w/e 04/13/19', '1 w/e 04/20/19', '1 w/e 04/27/19', '1 w/e 05/04/19', '1 w/e 05/11/19', '1 w/e 05/18/19', '1 w/e 05/25/19', '1 w/e 06/01/19', '1 w/e 06/08/19', '1 w/e 06/15/19', '1 w/e 06/22/19', '1 w/e 06/29/19', '1 w/e 07/06/19', '1 w/e 07/13/19', '1 w/e 07/20/19', '1 w/e 07/27/19', '1 w/e 08/03/19', '1 w/e 08/10/19', '1 w/e 08/17/19', '1 w/e 08/24/19', '1 w/e 08/31/19', '1 w/e 09/07/19', '1 w/e 09/14/19', '1 w/e 09/21/19', '1 w/e 09/28/19', '1 w/e 10/05/19', '1 w/e 10/12/19', '1 w/e 10/19/19', '1 w/e 10/26/19', '1 w/e 11/02/19', '1 w/e 11/09/19', '1 w/e 11/16/19', '1 w/e 11/23/19', '1 w/e 11/30/19', '1 w/e 12/07/19', '1 w/e 12/14/19', '1 w/e 12/21/19', '1 w/e 12/28/19', '1 w/e 01/04/20', '1 w/e 01/11/20', '1 w/e 01/18/20', '1 w/e 01/25/20', '1 w/e 02/01/20', '1 w/e 02/08/20', '1 w/e 02/15/20', '1 w/e 02/22/20', '1 w/e 02/29/20', '1 w/e 03/07/20', '1 w/e 03/14/20', '1 w/e 03/21/20', '1 w/e 03/28/20', '1 w/e 04/04/20', '1 w/e 04/11/20', '1 w/e 04/18/20', '1 w/e 04/25/20', '1 w/e 05/02/20', '1 w/e 05/09/20', '1 w/e 05/16/20', '1 w/e 05/23/20', '1 w/e 05/30/20', '1 w/e 06/06/20', '1 w/e 06/13/20', '1 w/e 06/20/20', '1 w/e 06/27/20', '1 w/e 07/04/20', '1 w/e 07/11/20', '1 w/e 07/18/20', '1 w/e 07/25/20', '1 w/e 08/01/20', '1 w/e 08/08/20', '1 w/e 08/15/20', '1 w/e 08/22/20', '1 w/e 08/29/20', '1 w/e 09/05/20', '1 w/e 09/12/20', '1 w/e 09/19/20', '1 w/e 09/26/20', '1 w/e 10/03/20', '1 w/e 10/10/20', '1 w/e 10/17/20', '1 w/e 10/24/20', '1 w/e 10/31/20', '1 w/e 11/07/20', '1 w/e 11/14/20', '1 w/e 11/21/20', '1 w/e 11/28/20', '1 w/e 12/05/20', '1 w/e 12/12/20', '1 w/e 12/19/20', '1 w/e 12/26/20', '1 w/e 01/02/21', '1 w/e 01/09/21', '1 w/e 01/16/21', '1 w/e 01/23/21', 'CP_BATTERY_HYBRID']"
   ]
  },
  {
   "cell_type": "code",
   "execution_count": null,
   "metadata": {},
   "outputs": [],
   "source": [
    "#Promo_Weekly_FS = Promo_Weekly_FS[order]"
   ]
  },
  {
   "cell_type": "code",
   "execution_count": null,
   "metadata": {},
   "outputs": [],
   "source": [
    "# FS_power_mapping={\n",
    "#     \"POWER\":\"TOTAL POWER\"}\n",
    "# Promo_Weekly_FS[\"CP_BATTERY_HYBRID\"].replace(FS_power_mapping,inplace=True)"
   ]
  },
  {
   "cell_type": "markdown",
   "metadata": {},
   "source": [
    "**Fact Name Change**"
   ]
  },
  {
   "cell_type": "code",
   "execution_count": null,
   "metadata": {},
   "outputs": [],
   "source": [
    "Fact_Mapping={\n",
    "    \"Any Disp %ACV\":\"%ACV Any Display\",\n",
    "    \"Any Feat %ACV\":\"%ACV Any Feature\",\n",
    "    \"Base $\":\"Baseline $\",\n",
    "    \"Base $ Shr - CP CATEGORY\":\"Baseline $ Share\",\n",
    "    \"Incr $\":\"Incr.$\",\n",
    "    \"Incr $ Shr - CP CATEGORY\":\"Incr.$ Share\",\n",
    "    \"Avg EQ Price\":\"RASP per Case\"\n",
    "\n",
    "}"
   ]
  },
  {
   "cell_type": "code",
   "execution_count": null,
   "metadata": {},
   "outputs": [],
   "source": [
    "Promo_Weekly_FS[\"FCT\"].replace(Fact_Mapping,inplace=True)"
   ]
  },
  {
   "cell_type": "markdown",
   "metadata": {},
   "source": [
    "**Market Name Change**"
   ]
  },
  {
   "cell_type": "code",
   "execution_count": null,
   "metadata": {},
   "outputs": [],
   "source": [
    "Market_Mapping={\n",
    "    \"ALBSCO Total Company TA\":\"Alb/Sfy\",\n",
    "    \"Ahold USA Corp Total TA\":\"Ahold\",\n",
    "    \"BJs Total TA\":\"BJs\",\n",
    "    \"CVS Total Corp WO HI TA\":\"CVS\",\n",
    "    \"Dol Gen Total TA\":\"Dollar General\",\n",
    "    \"Family Dollar Total TA\":\"Family Dollar\",\n",
    "    \"Meijer Total TA\":\"Meijer\",\n",
    "    \"Publix Total TA\":\"Publix\",\n",
    "    \"Rite Aid - Corp Total TA\":\"Rite Aid\",\n",
    "    \"Giant Eagle Total TA\":\"Giant Eagle\",\n",
    "    \"ShopRite Total TA\":\"Shoprite\",\n",
    "    \"Target Total BM/FF TA\":\"Target\",\n",
    "    'Total US Drug':\"US Drug\",\n",
    "    'Total US Food':\"US Food\",\n",
    "    'Total US xAOC':\"US AOC\",\n",
    "    \"Walgreens Total TA\":\"Walgreens\",\n",
    "    \"Walmart Corp Total US TA\":\"Walmart\",\n",
    "    'Kmart Total TA':\"Kmart\",\n",
    "    'Walmart Total US TA':\"Walmart\",\n",
    "    'Wegmans Total TA':\"Wegmans\",\n",
    "    \"El Super Total TA\" : \"El Super\",\n",
    "    \"Sam's Total TA\" : \"Sams\"\n",
    "}"
   ]
  },
  {
   "cell_type": "code",
   "execution_count": null,
   "metadata": {},
   "outputs": [],
   "source": [
    "Promo_Weekly_FS[\"MKT\"].replace(Market_Mapping,inplace=True)"
   ]
  },
  {
   "cell_type": "code",
   "execution_count": null,
   "metadata": {},
   "outputs": [],
   "source": [
    "del Promo_Weekly_FS[\"Category\"]"
   ]
  },
  {
   "cell_type": "code",
   "execution_count": null,
   "metadata": {},
   "outputs": [],
   "source": [
    "set(Promo_Weekly_FS[\"MKT\"])"
   ]
  },
  {
   "cell_type": "code",
   "execution_count": null,
   "metadata": {
    "scrolled": true
   },
   "outputs": [],
   "source": [
    "Promo_Weekly_FS.head(3)"
   ]
  },
  {
   "cell_type": "code",
   "execution_count": null,
   "metadata": {},
   "outputs": [],
   "source": [
    "Fact_order = CategoricalDtype(\n",
    "    sorted(list(set(Promo_Weekly_FS[\"FCT\"]))), \n",
    "    ordered=True\n",
    ")\n",
    "\n",
    "Promo_Weekly_FS['FCT'] = Promo_Weekly_FS['FCT'].astype(Fact_order)\n",
    "\n",
    "Promo_Weekly_FS.sort_values(['MKT','PROD','FCT'],inplace=True)"
   ]
  },
  {
   "cell_type": "code",
   "execution_count": null,
   "metadata": {},
   "outputs": [],
   "source": [
    "Promo_Weekly_FS.head(3)"
   ]
  },
  {
   "cell_type": "code",
   "execution_count": null,
   "metadata": {},
   "outputs": [],
   "source": [
    "del Promo_Weekly_FS[\"CP_SUBBRAND_VARIANT\"]"
   ]
  },
  {
   "cell_type": "markdown",
   "metadata": {},
   "source": [
    "## **promo_manufacturer_bump**"
   ]
  },
  {
   "cell_type": "code",
   "execution_count": null,
   "metadata": {},
   "outputs": [],
   "source": [
    "promo_manufacturer_bump=Promo_Weekly_FS.loc[(Promo_Weekly_FS[\"CP_BRAND\"]==\"\")&(Promo_Weekly_FS[\"CP_FRANCHISE\"]==\"\")&(Promo_Weekly_FS[\"CP_MANUFACTURER\"]!=\"\")]"
   ]
  },
  {
   "cell_type": "code",
   "execution_count": null,
   "metadata": {},
   "outputs": [],
   "source": [
    "promo_manufacturer_bump[\"Record_ID\"]=range(1,len(promo_manufacturer_bump)+1)"
   ]
  },
  {
   "cell_type": "code",
   "execution_count": null,
   "metadata": {},
   "outputs": [],
   "source": [
    "promo_manufacturer_bump.head(3)"
   ]
  },
  {
   "cell_type": "code",
   "execution_count": null,
   "metadata": {},
   "outputs": [],
   "source": [
    "promo_manufacturer_bump.to_csv(path_FS+\"promo_manufacturer_bump.csv\",index=False)"
   ]
  },
  {
   "cell_type": "markdown",
   "metadata": {},
   "source": [
    "## **promo_franchise_bump**"
   ]
  },
  {
   "cell_type": "code",
   "execution_count": null,
   "metadata": {},
   "outputs": [],
   "source": [
    "promo_franchise_bump=Promo_Weekly_FS.loc[(Promo_Weekly_FS[\"CP_BRAND\"]==\"\")&(Promo_Weekly_FS[\"CP_FRANCHISE\"]!=\"\")]"
   ]
  },
  {
   "cell_type": "code",
   "execution_count": null,
   "metadata": {},
   "outputs": [],
   "source": [
    "promo_franchise_bump[\"Record_ID\"]=range(1,len(promo_franchise_bump)+1)"
   ]
  },
  {
   "cell_type": "code",
   "execution_count": null,
   "metadata": {},
   "outputs": [],
   "source": [
    "promo_franchise_bump.head(3)"
   ]
  },
  {
   "cell_type": "code",
   "execution_count": null,
   "metadata": {},
   "outputs": [],
   "source": [
    "promo_franchise_bump.to_csv(path_FS+\"promo_franchise_bump.csv\",index=False)"
   ]
  },
  {
   "cell_type": "markdown",
   "metadata": {},
   "source": [
    "## **promo_brand_bump**"
   ]
  },
  {
   "cell_type": "code",
   "execution_count": null,
   "metadata": {},
   "outputs": [],
   "source": [
    "promo_brand_bump=Promo_Weekly_FS.loc[ (Promo_Weekly_FS[\"CP_BRAND\"]!=\"\")]"
   ]
  },
  {
   "cell_type": "code",
   "execution_count": null,
   "metadata": {},
   "outputs": [],
   "source": [
    "promo_brand_bump[\"Record_ID\"]=range(1,len(promo_brand_bump)+1)"
   ]
  },
  {
   "cell_type": "code",
   "execution_count": null,
   "metadata": {
    "scrolled": true
   },
   "outputs": [],
   "source": [
    "promo_brand_bump.head(3)"
   ]
  },
  {
   "cell_type": "code",
   "execution_count": null,
   "metadata": {},
   "outputs": [],
   "source": [
    "promo_brand_bump.to_csv(path_FS+\"promo_brand_bump.csv\",index=False)"
   ]
  },
  {
   "cell_type": "code",
   "execution_count": null,
   "metadata": {},
   "outputs": [],
   "source": []
  },
  {
   "cell_type": "markdown",
   "metadata": {},
   "source": [
    "# HHC"
   ]
  },
  {
   "cell_type": "code",
   "execution_count": 57,
   "metadata": {},
   "outputs": [
    {
     "data": {
      "text/plain": [
       "{'ALBSCO Total Company TA',\n",
       " 'Ahold USA Corp Total TA',\n",
       " 'BJs Total TA',\n",
       " 'CVS Total Corp WO HI TA',\n",
       " 'Dol Gen Total TA',\n",
       " 'Family Dollar Total TA',\n",
       " 'Fiesta Total TA',\n",
       " 'Kmart Total TA',\n",
       " 'Meijer Total TA',\n",
       " 'Publix Total TA',\n",
       " 'Rite Aid - Corp Total TA',\n",
       " \"Sam's Total TA\",\n",
       " 'ShopRite Total TA',\n",
       " 'Target Total BM/FF TA',\n",
       " 'Total US Drug',\n",
       " 'Total US Food',\n",
       " 'Total US xAOC',\n",
       " 'Walgreens Total TA',\n",
       " 'Walmart Total US TA'}"
      ]
     },
     "execution_count": 57,
     "metadata": {},
     "output_type": "execute_result"
    }
   ],
   "source": [
    "set(Line_Weekly_filter[\"Markets\"])"
   ]
  },
  {
   "cell_type": "code",
   "execution_count": null,
   "metadata": {},
   "outputs": [],
   "source": []
  },
  {
   "cell_type": "code",
   "execution_count": 58,
   "metadata": {},
   "outputs": [],
   "source": [
    "Promo_Weekly_HHC=Line_Weekly_filter.copy()"
   ]
  },
  {
   "cell_type": "code",
   "execution_count": 59,
   "metadata": {},
   "outputs": [
    {
     "data": {
      "text/plain": [
       "{'POUR APC+WW', 'SPRAY', 'WOOD'}"
      ]
     },
     "execution_count": 59,
     "metadata": {},
     "output_type": "execute_result"
    }
   ],
   "source": [
    "set(Promo_Weekly_HHC[\"ShareBasis\"])"
   ]
  },
  {
   "cell_type": "code",
   "execution_count": 60,
   "metadata": {},
   "outputs": [
    {
     "data": {
      "text/plain": [
       "{'ALBSCO Total Company TA',\n",
       " 'Ahold USA Corp Total TA',\n",
       " 'BJs Total TA',\n",
       " 'CVS Total Corp WO HI TA',\n",
       " 'Dol Gen Total TA',\n",
       " 'Family Dollar Total TA',\n",
       " 'Fiesta Total TA',\n",
       " 'Kmart Total TA',\n",
       " 'Meijer Total TA',\n",
       " 'Publix Total TA',\n",
       " 'Rite Aid - Corp Total TA',\n",
       " \"Sam's Total TA\",\n",
       " 'ShopRite Total TA',\n",
       " 'Target Total BM/FF TA',\n",
       " 'Total US Drug',\n",
       " 'Total US Food',\n",
       " 'Total US xAOC',\n",
       " 'Walgreens Total TA',\n",
       " 'Walmart Total US TA'}"
      ]
     },
     "execution_count": 60,
     "metadata": {},
     "output_type": "execute_result"
    }
   ],
   "source": [
    "set(Promo_Weekly_HHC[\"Markets\"])"
   ]
  },
  {
   "cell_type": "code",
   "execution_count": 61,
   "metadata": {},
   "outputs": [
    {
     "data": {
      "text/plain": [
       "{'POUR APC+WW',\n",
       " 'POUR APC+WW | ALEN',\n",
       " 'POUR APC+WW | ALEN | ALEN REM',\n",
       " 'POUR APC+WW | ALEN | ALEN REM | ALEN REM',\n",
       " 'POUR APC+WW | ALEN | ALEN REM | ALEN REM | REM SUBBRAND VARIANT',\n",
       " 'POUR APC+WW | ALEN | FLASH',\n",
       " 'POUR APC+WW | ALEN | FLASH | FLASH',\n",
       " 'POUR APC+WW | ALEN | FLASH | FLASH | FLASH LAVENDER',\n",
       " 'POUR APC+WW | ALEN | FLASH | FLASH | REM SUBBRAND VARIANT',\n",
       " 'POUR APC+WW | ALEN | PINALEN',\n",
       " 'POUR APC+WW | ALEN | PINALEN | PINALEN',\n",
       " 'POUR APC+WW | ALEN | PINALEN | PINALEN | PINALEN FLORAL',\n",
       " 'POUR APC+WW | ALEN | PINALEN | PINALEN | PINALEN FRUIT BLOSSOM',\n",
       " 'POUR APC+WW | ALEN | PINALEN | PINALEN | PINALEN LAVENDER',\n",
       " 'POUR APC+WW | ALEN | PINALEN | PINALEN | PINALEN LEMON',\n",
       " 'POUR APC+WW | ALEN | PINALEN | PINALEN | PINALEN OCEAN BREEZE',\n",
       " 'POUR APC+WW | ALEN | PINALEN | PINALEN | REM SUBBRAND VARIANT',\n",
       " 'POUR APC+WW | ALEN | XTRA',\n",
       " 'POUR APC+WW | ALEN | XTRA | XTRA',\n",
       " 'POUR APC+WW | ALEN | XTRA | XTRA | REM SUBBRAND VARIANT',\n",
       " 'POUR APC+WW | BONA',\n",
       " 'POUR APC+WW | BONA | BONA',\n",
       " 'POUR APC+WW | BONA | BONA | BONA HARDWOOD FLOOR CLNR',\n",
       " 'POUR APC+WW | BONA | BONA | BONA HARDWOOD FLOOR CLNR | BONA HW FLOOR CLNR POUR',\n",
       " 'POUR APC+WW | BONA | BONA | BONA STONE TILE LMNT CLNR',\n",
       " 'POUR APC+WW | BONA | BONA | BONA STONE TILE LMNT CLNR | BONA STN TILE LMNT CLNR POUR',\n",
       " 'POUR APC+WW | CLOROX',\n",
       " 'POUR APC+WW | CLOROX | CLOROX',\n",
       " 'POUR APC+WW | CLOROX | CLOROX REM',\n",
       " 'POUR APC+WW | CLOROX | CLOROX REM | CLOROX REM BRAND',\n",
       " 'POUR APC+WW | CLOROX | CLOROX REM | CLOROX REM BRAND | REM SUBBRAND VARIANT',\n",
       " 'POUR APC+WW | CLOROX | CLOROX | CLOROX ALL PURP',\n",
       " 'POUR APC+WW | CLOROX | CLOROX | CLOROX ALL PURP | REM SUBBRAND VARIANT',\n",
       " 'POUR APC+WW | CLOROX | CLOROX | CLOROX CLEAN UP',\n",
       " 'POUR APC+WW | CLOROX | CLOROX | CLOROX CLEAN UP | REM SUBBRAND VARIANT',\n",
       " 'POUR APC+WW | CLOROX | CLOROX | CLOROX FRAGANZIA',\n",
       " 'POUR APC+WW | CLOROX | CLOROX | CLOROX FRAGANZIA | CLOROX FRAGANZIA MORNING SKY',\n",
       " 'POUR APC+WW | CLOROX | CLOROX | CLOROX FRAGANZIA | CLOROX FRAGANZIA SPRING',\n",
       " 'POUR APC+WW | CLOROX | FORMULA 409',\n",
       " 'POUR APC+WW | CLOROX | FORMULA 409 | FORMULA 409',\n",
       " 'POUR APC+WW | CLOROX | FORMULA 409 | FORMULA 409 | FORMULA 409 ORIG',\n",
       " 'POUR APC+WW | CLOROX | PINE SOL',\n",
       " 'POUR APC+WW | CLOROX | PINE SOL | PINE-SOL',\n",
       " 'POUR APC+WW | CLOROX | PINE SOL | PINE-SOL | PINE SOL LAVENDER',\n",
       " 'POUR APC+WW | CLOROX | PINE SOL | PINE-SOL | PINE SOL LEMON',\n",
       " 'POUR APC+WW | CLOROX | PINE SOL | PINE-SOL | PINE SOL ORANGE ENERGY',\n",
       " 'POUR APC+WW | CLOROX | PINE SOL | PINE-SOL | PINE SOL PINE/ORIG',\n",
       " 'POUR APC+WW | CLOROX | PINE SOL | PINE-SOL | PINE SOL RAIN CLEAN',\n",
       " 'POUR APC+WW | CLOROX | PINE SOL | PINE-SOL | PINE SOL SPARKLING WAVE',\n",
       " 'POUR APC+WW | COLGATE-PALMOLIVE',\n",
       " 'POUR APC+WW | COLGATE-PALMOLIVE | AJAX US',\n",
       " 'POUR APC+WW | COLGATE-PALMOLIVE | AJAX US | AJAX MULTI PURPOSE',\n",
       " 'POUR APC+WW | COLGATE-PALMOLIVE | AJAX US | AJAX MULTI PURPOSE | AJAX MLTI PRPS LIME BKNG SODA',\n",
       " 'POUR APC+WW | COLGATE-PALMOLIVE | AJAX US | AJAX MULTI PURPOSE | AJAX MLTI PRPS ORANGE',\n",
       " 'POUR APC+WW | COLGATE-PALMOLIVE | FABULOSO IMPORT',\n",
       " 'POUR APC+WW | COLGATE-PALMOLIVE | FABULOSO IMPORT | FABULOSO IMPORT',\n",
       " 'POUR APC+WW | COLGATE-PALMOLIVE | FABULOSO IMPORT | FABULOSO IMPORT | REM SUBBRAND VARIANT',\n",
       " 'POUR APC+WW | COLGATE-PALMOLIVE | FABULOSO US',\n",
       " 'POUR APC+WW | COLGATE-PALMOLIVE | FABULOSO US | FABULOSO ANTIBACTERIAL',\n",
       " 'POUR APC+WW | COLGATE-PALMOLIVE | FABULOSO US | FABULOSO ANTIBACTERIAL | FABULOSO ANTIBAC SPRKLNG CTRS',\n",
       " 'POUR APC+WW | COLGATE-PALMOLIVE | FABULOSO US | FABULOSO BASE',\n",
       " 'POUR APC+WW | COLGATE-PALMOLIVE | FABULOSO US | FABULOSO BASE | FABULOSO BSE APPLE VINEGAR',\n",
       " 'POUR APC+WW | COLGATE-PALMOLIVE | FABULOSO US | FABULOSO BASE | FABULOSO BSE BKNG SD CITRS',\n",
       " 'POUR APC+WW | COLGATE-PALMOLIVE | FABULOSO US | FABULOSO BASE | FABULOSO BSE BKNG SD ORANGE',\n",
       " 'POUR APC+WW | COLGATE-PALMOLIVE | FABULOSO US | FABULOSO BASE | FABULOSO BSE LAVENDER',\n",
       " 'POUR APC+WW | COLGATE-PALMOLIVE | FABULOSO US | FABULOSO BASE | FABULOSO BSE OCEAN PARADISE',\n",
       " 'POUR APC+WW | COLGATE-PALMOLIVE | FABULOSO US | FABULOSO BASE | FABULOSO BSE PASSION OF FRUITS',\n",
       " 'POUR APC+WW | COLGATE-PALMOLIVE | FABULOSO US | FABULOSO BASE | FABULOSO BSE REFRESHING LEMON',\n",
       " 'POUR APC+WW | COLGATE-PALMOLIVE | FABULOSO US | FABULOSO BASE | FABULOSO BSE SPRING IN BLOOM',\n",
       " 'POUR APC+WW | COLGATE-PALMOLIVE | FABULOSO US | FABULOSO BASE | FABULOSO MAXIMUM CLEAN FRESH',\n",
       " 'POUR APC+WW | COLGATE-PALMOLIVE | FABULOSO US | FABULOSO BASE | FABULOSO W/BLEACH ALT SPRNG FR',\n",
       " 'POUR APC+WW | COLGATE-PALMOLIVE | FABULOSO US | FABULOSO COMPLETE',\n",
       " 'POUR APC+WW | COLGATE-PALMOLIVE | FABULOSO US | FABULOSO COMPLETE | FABULOSO COMPLETE COOL MIST',\n",
       " 'POUR APC+WW | COLGATE-PALMOLIVE | FABULOSO US | FABULOSO COMPLETE | FABULOSO COMPLETE FLORAL BURST',\n",
       " 'POUR APC+WW | COLGATE-PALMOLIVE | FABULOSO US | FABULOSO COMPLETE | FABULOSO COMPLETE FRESH BLAST',\n",
       " 'POUR APC+WW | COLGATE-PALMOLIVE | FABULOSO US | FABULOSO COMPLETE | FABULOSO COMPLETE SPRKLNG CTRS',\n",
       " 'POUR APC+WW | COLGATE-PALMOLIVE | FABULOSO US | FABULOSO PROFESSIONAL',\n",
       " 'POUR APC+WW | COLGATE-PALMOLIVE | FABULOSO US | FABULOSO PROFESSIONAL | FABULOSO PROFESSIONAL LAVENDER',\n",
       " \"POUR APC+WW | COLGATE-PALMOLIVE | MURPHY'S\",\n",
       " \"POUR APC+WW | COLGATE-PALMOLIVE | MURPHY'S | MURPHY'S ORIG\",\n",
       " \"POUR APC+WW | COLGATE-PALMOLIVE | MURPHY'S | MURPHY'S ORIG | MURPHY'S ORIG POUR\",\n",
       " \"POUR APC+WW | COLGATE-PALMOLIVE | MURPHY'S | MURPHY'S PROFESSIONAL\",\n",
       " \"POUR APC+WW | COLGATE-PALMOLIVE | MURPHY'S | MURPHY'S PROFESSIONAL | MURPHY'S PROFESSIONAL ORG POUR\",\n",
       " 'POUR APC+WW | P&G',\n",
       " 'POUR APC+WW | P&G | MR CLEAN',\n",
       " 'POUR APC+WW | P&G | MR CLEAN | MR CLEAN',\n",
       " 'POUR APC+WW | P&G | MR CLEAN | MR CLEAN ANTIBACTERIAL',\n",
       " 'POUR APC+WW | P&G | MR CLEAN | MR CLEAN ANTIBACTERIAL | MR CLEAN AB SUMMER CITRUS',\n",
       " 'POUR APC+WW | P&G | MR CLEAN | MR CLEAN PROFESSIONAL',\n",
       " 'POUR APC+WW | P&G | MR CLEAN | MR CLEAN PROFESSIONAL | REM SUBBRAND VARIANT',\n",
       " 'POUR APC+WW | P&G | MR CLEAN | MR CLEAN W/ FEBREZE',\n",
       " 'POUR APC+WW | P&G | MR CLEAN | MR CLEAN W/ FEBREZE | MR CLEAN W/FEBRZ LINEN & SKY',\n",
       " 'POUR APC+WW | P&G | MR CLEAN | MR CLEAN W/ FEBREZE | MR CLEAN W/FEBRZ MEADOWS&RAIN',\n",
       " 'POUR APC+WW | P&G | MR CLEAN | MR CLEAN W/ FEBREZE | MR CLEAN W/FEBRZ PET ODOR DEF',\n",
       " 'POUR APC+WW | P&G | MR CLEAN | MR CLEAN | MR CLEAN MOONLIGHT BREEZE',\n",
       " 'POUR APC+WW | P&G | MR CLEAN | MR CLEAN | MR CLEAN OCEAN WATER SPARKLE',\n",
       " 'POUR APC+WW | P&G | MR CLEAN | MR CLEAN | REM SUBBRAND VARIANT',\n",
       " 'POUR APC+WW | PRVT LBL',\n",
       " 'POUR APC+WW | PRVT LBL | PRVT LBL',\n",
       " 'POUR APC+WW | PRVT LBL | PRVT LBL | PRVT LBL',\n",
       " 'POUR APC+WW | PRVT LBL | PRVT LBL | PRVT LBL | REM SUBBRAND VARIANT',\n",
       " 'POUR APC+WW | RECKITT/BENK',\n",
       " 'POUR APC+WW | RECKITT/BENK | LYSOL',\n",
       " 'POUR APC+WW | RECKITT/BENK | LYSOL | LYSOL ALL PURPOSE',\n",
       " 'POUR APC+WW | RECKITT/BENK | LYSOL | LYSOL ALL PURPOSE | LYSOL ALL PRPS CLN FRS PEONY',\n",
       " 'POUR APC+WW | RECKITT/BENK | LYSOL | LYSOL ALL PURPOSE | LYSOL ALL PRPS CLN FRS SPK LEM',\n",
       " 'POUR APC+WW | RECKITT/BENK | LYSOL | LYSOL ALL PURPOSE | LYSOL ALL PURPOSE ADIRONDK AIR',\n",
       " 'POUR APC+WW | RECKITT/BENK | LYSOL | LYSOL ALL PURPOSE | LYSOL ALL PURPOSE LAVENDR BRZ',\n",
       " 'POUR APC+WW | RECKITT/BENK | LYSOL | LYSOL ALL PURPOSE | LYSOL ALL PURPOSE LEMON',\n",
       " 'POUR APC+WW | RECKITT/BENK | LYSOL | LYSOL ALL PURPOSE | LYSOL ALL PURPOSE PACIFIC FRSH',\n",
       " 'POUR APC+WW | RECKITT/BENK | LYSOL | LYSOL ALL PURPOSE | LYSOL ALL PURPOSE REM SCENT',\n",
       " 'POUR APC+WW | SC JOHNSON',\n",
       " 'POUR APC+WW | SC JOHNSON | MRS MEYERS',\n",
       " 'POUR APC+WW | SC JOHNSON | MRS MEYERS | MRS MEYERS',\n",
       " 'POUR APC+WW | SC JOHNSON | MRS MEYERS | MRS MEYERS | REM SUBBRAND VARIANT',\n",
       " 'POUR APC+WW | SC JOHNSON | PLEDGE',\n",
       " 'POUR APC+WW | SC JOHNSON | PLEDGE | PLEDGE MULTI SRF',\n",
       " 'POUR APC+WW | SC JOHNSON | PLEDGE | PLEDGE MULTI SRF | REM SUBBRAND VARIANT',\n",
       " 'SPRAY',\n",
       " 'SPRAY | CLOROX',\n",
       " 'SPRAY | COLGATE-PALMOLIVE',\n",
       " 'SPRAY | P&G',\n",
       " 'SPRAY | PRVT LBL',\n",
       " 'SPRAY | RECKITT/BENK',\n",
       " 'WOOD',\n",
       " 'WOOD | BONA',\n",
       " 'WOOD | BONA | BONA',\n",
       " 'WOOD | BONA | BONA | BONA CABINET CLEANER',\n",
       " 'WOOD | BONA | BONA | BONA CABINET CLEANER | BONA CABINET CLEANER SPRAY',\n",
       " 'WOOD | BONA | BONA | BONA HARDWOOD FLOOR CLNR',\n",
       " 'WOOD | BONA | BONA | BONA HARDWOOD FLOOR CLNR | BONA HW FLOOR CLNR LIQUID',\n",
       " 'WOOD | BONA | BONA | BONA HARDWOOD FLOOR CLNR | BONA HW FLOOR CLNR POUR',\n",
       " 'WOOD | BONA | BONA | BONA HARDWOOD FLOOR CLNR | BONA HW FLOOR CLNR SPRAY',\n",
       " 'WOOD | BONA | BONA | BONA HARDWOOD FLOOR POLISH',\n",
       " 'WOOD | BONA | BONA | BONA HARDWOOD FLOOR POLISH | BONA HW FLOOR POLISH',\n",
       " 'WOOD | BONA | BONA | BONA REM',\n",
       " 'WOOD | BONA | BONA | BONA REM | BONA REM',\n",
       " 'WOOD | CHURCH & DWIGHT',\n",
       " 'WOOD | CHURCH & DWIGHT | ORANGE GLO',\n",
       " 'WOOD | CHURCH & DWIGHT | ORANGE GLO | ORANGE GLO',\n",
       " 'WOOD | CHURCH & DWIGHT | ORANGE GLO | ORANGE GLO | REM SUBBRAND VARIANT',\n",
       " 'WOOD | COLGATE-PALMOLIVE',\n",
       " \"WOOD | COLGATE-PALMOLIVE | MURPHY'S\",\n",
       " \"WOOD | COLGATE-PALMOLIVE | MURPHY'S | MURPHY'S JUST SQUIRT & MOP\",\n",
       " \"WOOD | COLGATE-PALMOLIVE | MURPHY'S | MURPHY'S JUST SQUIRT & MOP | MURPHY'S JUST SQUIRT&MOP\",\n",
       " \"WOOD | COLGATE-PALMOLIVE | MURPHY'S | MURPHY'S ORANGE OIL\",\n",
       " \"WOOD | COLGATE-PALMOLIVE | MURPHY'S | MURPHY'S ORANGE OIL | MURPHY'S ORANGE OIL SPRAY\",\n",
       " \"WOOD | COLGATE-PALMOLIVE | MURPHY'S | MURPHY'S ORIG\",\n",
       " \"WOOD | COLGATE-PALMOLIVE | MURPHY'S | MURPHY'S ORIG | MURPHY'S ORIG POUR\",\n",
       " \"WOOD | COLGATE-PALMOLIVE | MURPHY'S | MURPHY'S ORIG | MURPHY'S ORIG WW\",\n",
       " \"WOOD | COLGATE-PALMOLIVE | MURPHY'S | MURPHY'S PROFESSIONAL\",\n",
       " \"WOOD | COLGATE-PALMOLIVE | MURPHY'S | MURPHY'S PROFESSIONAL | MURPHY'S PROFESSIONAL ORG POUR\",\n",
       " 'WOOD | P&G',\n",
       " 'WOOD | P&G | SWIFFER',\n",
       " 'WOOD | P&G | SWIFFER | SWIFFER WET JET',\n",
       " 'WOOD | P&G | SWIFFER | SWIFFER WET JET | REM SUBBRAND VARIANT',\n",
       " 'WOOD | SC JOHNSON',\n",
       " 'WOOD | SC JOHNSON | METHOD',\n",
       " 'WOOD | SC JOHNSON | METHOD | METHOD OMOP',\n",
       " 'WOOD | SC JOHNSON | METHOD | METHOD OMOP | REM SUBBRAND VARIANT',\n",
       " 'WOOD | SC JOHNSON | METHOD | METHOD WD FGD',\n",
       " 'WOOD | SC JOHNSON | METHOD | METHOD WD FGD | REM SUBBRAND VARIANT',\n",
       " 'WOOD | SC JOHNSON | PLEDGE',\n",
       " 'WOOD | SC JOHNSON | PLEDGE | PLEDGE FURNITURE',\n",
       " 'WOOD | SC JOHNSON | PLEDGE | PLEDGE FURNITURE | PLEDGE FURNITURE LEMON',\n",
       " 'WOOD | SC JOHNSON | PLEDGE | PLEDGE FURNITURE | PLEDGE FURNITURE ORANGE',\n",
       " 'WOOD | SC JOHNSON | PLEDGE | PLEDGE WOOD FLR',\n",
       " 'WOOD | SC JOHNSON | PLEDGE | PLEDGE WOOD FLR | PLEDGE WOOD FLR CITRUS',\n",
       " 'WOOD | SC JOHNSON | PLEDGE | PLEDGE WOOD FLR | REM SUBBRAND VARIANT',\n",
       " 'WOOD | SC JOHNSON | SCJ REM FRN',\n",
       " 'WOOD | SC JOHNSON | SCJ REM FRN | SC JOHNSON REM',\n",
       " 'WOOD | SC JOHNSON | SCJ REM FRN | SC JOHNSON REM | REM SUBBRAND VARIANT',\n",
       " 'WOOD | UNILEVER',\n",
       " 'WOOD | UNILEVER | SEVENTH GEN',\n",
       " 'WOOD | UNILEVER | SEVENTH GEN | SEVENTH GEN',\n",
       " 'WOOD | UNILEVER | SEVENTH GEN | SEVENTH GEN | REM SUBBRAND VARIANT'}"
      ]
     },
     "execution_count": 61,
     "metadata": {},
     "output_type": "execute_result"
    }
   ],
   "source": [
    "set(Promo_Weekly_HHC[\"Products\"])"
   ]
  },
  {
   "cell_type": "code",
   "execution_count": 62,
   "metadata": {},
   "outputs": [],
   "source": [
    "Promo_Weekly_HHC = Promo_Weekly_HHC[Promo_Weekly_HHC[\"ShareBasis\"].isin([\"POUR APC+WW\"] )]"
   ]
  },
  {
   "cell_type": "code",
   "execution_count": 63,
   "metadata": {},
   "outputs": [],
   "source": [
    "Promo_Weekly_HHC[\"ShareBasis\"].replace({\"POUR APC+WW\" : \"POUR\"}, inplace = True)"
   ]
  },
  {
   "cell_type": "code",
   "execution_count": 64,
   "metadata": {},
   "outputs": [],
   "source": [
    "Promo_Weekly_HHC[\"Products\"] = Promo_Weekly_HHC[\"Products\"].str.replace(\"POUR APC+WW\" , \"POUR APC\")"
   ]
  },
  {
   "cell_type": "code",
   "execution_count": null,
   "metadata": {},
   "outputs": [],
   "source": [
    "#Promo_Weekly_PTB= Promo_Weekly[Promo_Weekly[\"Category\"]==\"\"]"
   ]
  },
  {
   "cell_type": "code",
   "execution_count": 65,
   "metadata": {},
   "outputs": [
    {
     "data": {
      "text/html": [
       "<div>\n",
       "<style scoped>\n",
       "    .dataframe tbody tr th:only-of-type {\n",
       "        vertical-align: middle;\n",
       "    }\n",
       "\n",
       "    .dataframe tbody tr th {\n",
       "        vertical-align: top;\n",
       "    }\n",
       "\n",
       "    .dataframe thead th {\n",
       "        text-align: right;\n",
       "    }\n",
       "</style>\n",
       "<table border=\"1\" class=\"dataframe\">\n",
       "  <thead>\n",
       "    <tr style=\"text-align: right;\">\n",
       "      <th></th>\n",
       "      <th>Key</th>\n",
       "      <th>Markets</th>\n",
       "      <th>ShareBasis</th>\n",
       "      <th>Category</th>\n",
       "      <th>Manufacturer</th>\n",
       "      <th>Franchise</th>\n",
       "      <th>Brand</th>\n",
       "      <th>SubBrand</th>\n",
       "      <th>Products</th>\n",
       "      <th>Facts</th>\n",
       "      <th>...</th>\n",
       "      <th>1 w/e 12/26/20</th>\n",
       "      <th>1 w/e 01/02/21</th>\n",
       "      <th>1 w/e 01/09/21</th>\n",
       "      <th>1 w/e 01/16/21</th>\n",
       "      <th>1 w/e 01/23/21</th>\n",
       "      <th>1 w/e 01/30/21</th>\n",
       "      <th>1 w/e 02/06/21</th>\n",
       "      <th>1 w/e 02/13/21</th>\n",
       "      <th>1 w/e 02/20/21</th>\n",
       "      <th>1 w/e 02/27/21</th>\n",
       "    </tr>\n",
       "  </thead>\n",
       "  <tbody>\n",
       "    <tr>\n",
       "      <th>89431</th>\n",
       "      <td>Total US xAOCPOUR APC+WW</td>\n",
       "      <td>Total US xAOC</td>\n",
       "      <td>POUR</td>\n",
       "      <td>HHC</td>\n",
       "      <td></td>\n",
       "      <td></td>\n",
       "      <td></td>\n",
       "      <td></td>\n",
       "      <td>POUR APC+WW</td>\n",
       "      <td>$</td>\n",
       "      <td>...</td>\n",
       "      <td>1.116527e+07</td>\n",
       "      <td>1.371579e+07</td>\n",
       "      <td>1.520929e+07</td>\n",
       "      <td>1.447710e+07</td>\n",
       "      <td>1.367455e+07</td>\n",
       "      <td>1.333296e+07</td>\n",
       "      <td>1.364818e+07</td>\n",
       "      <td>1.273876e+07</td>\n",
       "      <td>1.148594e+07</td>\n",
       "      <td>1.421712e+07</td>\n",
       "    </tr>\n",
       "    <tr>\n",
       "      <th>89432</th>\n",
       "      <td>Total US xAOCPOUR APC+WW</td>\n",
       "      <td>Total US xAOC</td>\n",
       "      <td>POUR</td>\n",
       "      <td>HHC</td>\n",
       "      <td></td>\n",
       "      <td></td>\n",
       "      <td></td>\n",
       "      <td></td>\n",
       "      <td>POUR APC+WW</td>\n",
       "      <td>$ Shr - CP CATEGORY</td>\n",
       "      <td>...</td>\n",
       "      <td>1.000000e+02</td>\n",
       "      <td>1.000000e+02</td>\n",
       "      <td>1.000000e+02</td>\n",
       "      <td>1.000000e+02</td>\n",
       "      <td>1.000000e+02</td>\n",
       "      <td>1.000000e+02</td>\n",
       "      <td>1.000000e+02</td>\n",
       "      <td>1.000000e+02</td>\n",
       "      <td>1.000000e+02</td>\n",
       "      <td>1.000000e+02</td>\n",
       "    </tr>\n",
       "    <tr>\n",
       "      <th>89433</th>\n",
       "      <td>Total US xAOCPOUR APC+WW</td>\n",
       "      <td>Total US xAOC</td>\n",
       "      <td>POUR</td>\n",
       "      <td>HHC</td>\n",
       "      <td></td>\n",
       "      <td></td>\n",
       "      <td></td>\n",
       "      <td></td>\n",
       "      <td>POUR APC+WW</td>\n",
       "      <td>$ YA</td>\n",
       "      <td>...</td>\n",
       "      <td>1.028952e+07</td>\n",
       "      <td>1.226631e+07</td>\n",
       "      <td>1.234414e+07</td>\n",
       "      <td>1.183108e+07</td>\n",
       "      <td>1.122231e+07</td>\n",
       "      <td>1.172172e+07</td>\n",
       "      <td>1.220595e+07</td>\n",
       "      <td>1.146393e+07</td>\n",
       "      <td>1.170128e+07</td>\n",
       "      <td>1.364677e+07</td>\n",
       "    </tr>\n",
       "    <tr>\n",
       "      <th>89434</th>\n",
       "      <td>Total US xAOCPOUR APC+WW</td>\n",
       "      <td>Total US xAOC</td>\n",
       "      <td>POUR</td>\n",
       "      <td>HHC</td>\n",
       "      <td></td>\n",
       "      <td></td>\n",
       "      <td></td>\n",
       "      <td></td>\n",
       "      <td>POUR APC+WW</td>\n",
       "      <td>Any Disp %ACV</td>\n",
       "      <td>...</td>\n",
       "      <td>0.000000e+00</td>\n",
       "      <td>0.000000e+00</td>\n",
       "      <td>0.000000e+00</td>\n",
       "      <td>0.000000e+00</td>\n",
       "      <td>0.000000e+00</td>\n",
       "      <td>0.000000e+00</td>\n",
       "      <td>0.000000e+00</td>\n",
       "      <td>0.000000e+00</td>\n",
       "      <td>0.000000e+00</td>\n",
       "      <td>0.000000e+00</td>\n",
       "    </tr>\n",
       "    <tr>\n",
       "      <th>89435</th>\n",
       "      <td>Total US xAOCPOUR APC+WW</td>\n",
       "      <td>Total US xAOC</td>\n",
       "      <td>POUR</td>\n",
       "      <td>HHC</td>\n",
       "      <td></td>\n",
       "      <td></td>\n",
       "      <td></td>\n",
       "      <td></td>\n",
       "      <td>POUR APC+WW</td>\n",
       "      <td>Any Disp %ACV Chg YA</td>\n",
       "      <td>...</td>\n",
       "      <td>-1.089000e+01</td>\n",
       "      <td>-1.236400e+01</td>\n",
       "      <td>-1.359100e+01</td>\n",
       "      <td>-1.285500e+01</td>\n",
       "      <td>-1.355500e+01</td>\n",
       "      <td>-1.346400e+01</td>\n",
       "      <td>-1.465100e+01</td>\n",
       "      <td>-1.485100e+01</td>\n",
       "      <td>-1.573700e+01</td>\n",
       "      <td>-1.737400e+01</td>\n",
       "    </tr>\n",
       "  </tbody>\n",
       "</table>\n",
       "<p>5 rows × 115 columns</p>\n",
       "</div>"
      ],
      "text/plain": [
       "                            Key        Markets ShareBasis Category  \\\n",
       "89431  Total US xAOCPOUR APC+WW  Total US xAOC       POUR      HHC   \n",
       "89432  Total US xAOCPOUR APC+WW  Total US xAOC       POUR      HHC   \n",
       "89433  Total US xAOCPOUR APC+WW  Total US xAOC       POUR      HHC   \n",
       "89434  Total US xAOCPOUR APC+WW  Total US xAOC       POUR      HHC   \n",
       "89435  Total US xAOCPOUR APC+WW  Total US xAOC       POUR      HHC   \n",
       "\n",
       "      Manufacturer Franchise Brand SubBrand     Products  \\\n",
       "89431                                        POUR APC+WW   \n",
       "89432                                        POUR APC+WW   \n",
       "89433                                        POUR APC+WW   \n",
       "89434                                        POUR APC+WW   \n",
       "89435                                        POUR APC+WW   \n",
       "\n",
       "                      Facts  ...  1 w/e 12/26/20  1 w/e 01/02/21  \\\n",
       "89431                     $  ...    1.116527e+07    1.371579e+07   \n",
       "89432   $ Shr - CP CATEGORY  ...    1.000000e+02    1.000000e+02   \n",
       "89433                  $ YA  ...    1.028952e+07    1.226631e+07   \n",
       "89434         Any Disp %ACV  ...    0.000000e+00    0.000000e+00   \n",
       "89435  Any Disp %ACV Chg YA  ...   -1.089000e+01   -1.236400e+01   \n",
       "\n",
       "       1 w/e 01/09/21  1 w/e 01/16/21  1 w/e 01/23/21  1 w/e 01/30/21  \\\n",
       "89431    1.520929e+07    1.447710e+07    1.367455e+07    1.333296e+07   \n",
       "89432    1.000000e+02    1.000000e+02    1.000000e+02    1.000000e+02   \n",
       "89433    1.234414e+07    1.183108e+07    1.122231e+07    1.172172e+07   \n",
       "89434    0.000000e+00    0.000000e+00    0.000000e+00    0.000000e+00   \n",
       "89435   -1.359100e+01   -1.285500e+01   -1.355500e+01   -1.346400e+01   \n",
       "\n",
       "       1 w/e 02/06/21  1 w/e 02/13/21  1 w/e 02/20/21  1 w/e 02/27/21  \n",
       "89431    1.364818e+07    1.273876e+07    1.148594e+07    1.421712e+07  \n",
       "89432    1.000000e+02    1.000000e+02    1.000000e+02    1.000000e+02  \n",
       "89433    1.220595e+07    1.146393e+07    1.170128e+07    1.364677e+07  \n",
       "89434    0.000000e+00    0.000000e+00    0.000000e+00    0.000000e+00  \n",
       "89435   -1.465100e+01   -1.485100e+01   -1.573700e+01   -1.737400e+01  \n",
       "\n",
       "[5 rows x 115 columns]"
      ]
     },
     "execution_count": 65,
     "metadata": {},
     "output_type": "execute_result"
    }
   ],
   "source": [
    "Promo_Weekly_HHC.head()"
   ]
  },
  {
   "cell_type": "markdown",
   "metadata": {},
   "source": [
    "**path for 5p output data**"
   ]
  },
  {
   "cell_type": "code",
   "execution_count": 66,
   "metadata": {},
   "outputs": [],
   "source": [
    "path_HHC=\"//falmumapp34/Nielsen Connect Transition & Maintenance (20-SCP-3650)/05. Output Data/5P Output/HHC/\""
   ]
  },
  {
   "cell_type": "markdown",
   "metadata": {},
   "source": [
    "## Promotion"
   ]
  },
  {
   "cell_type": "markdown",
   "metadata": {},
   "source": [
    "### Promo Weekly"
   ]
  },
  {
   "cell_type": "code",
   "execution_count": 67,
   "metadata": {},
   "outputs": [],
   "source": [
    "del Promo_Weekly_HHC[\"Key\"]"
   ]
  },
  {
   "cell_type": "code",
   "execution_count": 68,
   "metadata": {
    "scrolled": false
   },
   "outputs": [
    {
     "data": {
      "text/html": [
       "<div>\n",
       "<style scoped>\n",
       "    .dataframe tbody tr th:only-of-type {\n",
       "        vertical-align: middle;\n",
       "    }\n",
       "\n",
       "    .dataframe tbody tr th {\n",
       "        vertical-align: top;\n",
       "    }\n",
       "\n",
       "    .dataframe thead th {\n",
       "        text-align: right;\n",
       "    }\n",
       "</style>\n",
       "<table border=\"1\" class=\"dataframe\">\n",
       "  <thead>\n",
       "    <tr style=\"text-align: right;\">\n",
       "      <th></th>\n",
       "      <th>Markets</th>\n",
       "      <th>ShareBasis</th>\n",
       "      <th>Category</th>\n",
       "      <th>Manufacturer</th>\n",
       "      <th>Franchise</th>\n",
       "      <th>Brand</th>\n",
       "      <th>SubBrand</th>\n",
       "      <th>Products</th>\n",
       "      <th>Facts</th>\n",
       "      <th>Latest Month</th>\n",
       "      <th>...</th>\n",
       "      <th>1 w/e 12/26/20</th>\n",
       "      <th>1 w/e 01/02/21</th>\n",
       "      <th>1 w/e 01/09/21</th>\n",
       "      <th>1 w/e 01/16/21</th>\n",
       "      <th>1 w/e 01/23/21</th>\n",
       "      <th>1 w/e 01/30/21</th>\n",
       "      <th>1 w/e 02/06/21</th>\n",
       "      <th>1 w/e 02/13/21</th>\n",
       "      <th>1 w/e 02/20/21</th>\n",
       "      <th>1 w/e 02/27/21</th>\n",
       "    </tr>\n",
       "  </thead>\n",
       "  <tbody>\n",
       "    <tr>\n",
       "      <th>89431</th>\n",
       "      <td>Total US xAOC</td>\n",
       "      <td>POUR</td>\n",
       "      <td>HHC</td>\n",
       "      <td></td>\n",
       "      <td></td>\n",
       "      <td></td>\n",
       "      <td></td>\n",
       "      <td>POUR APC+WW</td>\n",
       "      <td>$</td>\n",
       "      <td>5.209000e+07</td>\n",
       "      <td>...</td>\n",
       "      <td>1.116527e+07</td>\n",
       "      <td>1.371579e+07</td>\n",
       "      <td>1.520929e+07</td>\n",
       "      <td>1.447710e+07</td>\n",
       "      <td>1.367455e+07</td>\n",
       "      <td>1.333296e+07</td>\n",
       "      <td>1.364818e+07</td>\n",
       "      <td>1.273876e+07</td>\n",
       "      <td>1.148594e+07</td>\n",
       "      <td>1.421712e+07</td>\n",
       "    </tr>\n",
       "    <tr>\n",
       "      <th>89432</th>\n",
       "      <td>Total US xAOC</td>\n",
       "      <td>POUR</td>\n",
       "      <td>HHC</td>\n",
       "      <td></td>\n",
       "      <td></td>\n",
       "      <td></td>\n",
       "      <td></td>\n",
       "      <td>POUR APC+WW</td>\n",
       "      <td>$ Shr - CP CATEGORY</td>\n",
       "      <td>1.000000e+02</td>\n",
       "      <td>...</td>\n",
       "      <td>1.000000e+02</td>\n",
       "      <td>1.000000e+02</td>\n",
       "      <td>1.000000e+02</td>\n",
       "      <td>1.000000e+02</td>\n",
       "      <td>1.000000e+02</td>\n",
       "      <td>1.000000e+02</td>\n",
       "      <td>1.000000e+02</td>\n",
       "      <td>1.000000e+02</td>\n",
       "      <td>1.000000e+02</td>\n",
       "      <td>1.000000e+02</td>\n",
       "    </tr>\n",
       "    <tr>\n",
       "      <th>89433</th>\n",
       "      <td>Total US xAOC</td>\n",
       "      <td>POUR</td>\n",
       "      <td>HHC</td>\n",
       "      <td></td>\n",
       "      <td></td>\n",
       "      <td></td>\n",
       "      <td></td>\n",
       "      <td>POUR APC+WW</td>\n",
       "      <td>$ YA</td>\n",
       "      <td>4.901795e+07</td>\n",
       "      <td>...</td>\n",
       "      <td>1.028952e+07</td>\n",
       "      <td>1.226631e+07</td>\n",
       "      <td>1.234414e+07</td>\n",
       "      <td>1.183108e+07</td>\n",
       "      <td>1.122231e+07</td>\n",
       "      <td>1.172172e+07</td>\n",
       "      <td>1.220595e+07</td>\n",
       "      <td>1.146393e+07</td>\n",
       "      <td>1.170128e+07</td>\n",
       "      <td>1.364677e+07</td>\n",
       "    </tr>\n",
       "    <tr>\n",
       "      <th>89434</th>\n",
       "      <td>Total US xAOC</td>\n",
       "      <td>POUR</td>\n",
       "      <td>HHC</td>\n",
       "      <td></td>\n",
       "      <td></td>\n",
       "      <td></td>\n",
       "      <td></td>\n",
       "      <td>POUR APC+WW</td>\n",
       "      <td>Any Disp %ACV</td>\n",
       "      <td>0.000000e+00</td>\n",
       "      <td>...</td>\n",
       "      <td>0.000000e+00</td>\n",
       "      <td>0.000000e+00</td>\n",
       "      <td>0.000000e+00</td>\n",
       "      <td>0.000000e+00</td>\n",
       "      <td>0.000000e+00</td>\n",
       "      <td>0.000000e+00</td>\n",
       "      <td>0.000000e+00</td>\n",
       "      <td>0.000000e+00</td>\n",
       "      <td>0.000000e+00</td>\n",
       "      <td>0.000000e+00</td>\n",
       "    </tr>\n",
       "    <tr>\n",
       "      <th>89435</th>\n",
       "      <td>Total US xAOC</td>\n",
       "      <td>POUR</td>\n",
       "      <td>HHC</td>\n",
       "      <td></td>\n",
       "      <td></td>\n",
       "      <td></td>\n",
       "      <td></td>\n",
       "      <td>POUR APC+WW</td>\n",
       "      <td>Any Disp %ACV Chg YA</td>\n",
       "      <td>-1.565300e+01</td>\n",
       "      <td>...</td>\n",
       "      <td>-1.089000e+01</td>\n",
       "      <td>-1.236400e+01</td>\n",
       "      <td>-1.359100e+01</td>\n",
       "      <td>-1.285500e+01</td>\n",
       "      <td>-1.355500e+01</td>\n",
       "      <td>-1.346400e+01</td>\n",
       "      <td>-1.465100e+01</td>\n",
       "      <td>-1.485100e+01</td>\n",
       "      <td>-1.573700e+01</td>\n",
       "      <td>-1.737400e+01</td>\n",
       "    </tr>\n",
       "  </tbody>\n",
       "</table>\n",
       "<p>5 rows × 114 columns</p>\n",
       "</div>"
      ],
      "text/plain": [
       "             Markets ShareBasis Category Manufacturer Franchise Brand  \\\n",
       "89431  Total US xAOC       POUR      HHC                                \n",
       "89432  Total US xAOC       POUR      HHC                                \n",
       "89433  Total US xAOC       POUR      HHC                                \n",
       "89434  Total US xAOC       POUR      HHC                                \n",
       "89435  Total US xAOC       POUR      HHC                                \n",
       "\n",
       "      SubBrand     Products                 Facts  Latest Month  ...  \\\n",
       "89431           POUR APC+WW                     $  5.209000e+07  ...   \n",
       "89432           POUR APC+WW   $ Shr - CP CATEGORY  1.000000e+02  ...   \n",
       "89433           POUR APC+WW                  $ YA  4.901795e+07  ...   \n",
       "89434           POUR APC+WW         Any Disp %ACV  0.000000e+00  ...   \n",
       "89435           POUR APC+WW  Any Disp %ACV Chg YA -1.565300e+01  ...   \n",
       "\n",
       "       1 w/e 12/26/20  1 w/e 01/02/21  1 w/e 01/09/21  1 w/e 01/16/21  \\\n",
       "89431    1.116527e+07    1.371579e+07    1.520929e+07    1.447710e+07   \n",
       "89432    1.000000e+02    1.000000e+02    1.000000e+02    1.000000e+02   \n",
       "89433    1.028952e+07    1.226631e+07    1.234414e+07    1.183108e+07   \n",
       "89434    0.000000e+00    0.000000e+00    0.000000e+00    0.000000e+00   \n",
       "89435   -1.089000e+01   -1.236400e+01   -1.359100e+01   -1.285500e+01   \n",
       "\n",
       "       1 w/e 01/23/21  1 w/e 01/30/21  1 w/e 02/06/21  1 w/e 02/13/21  \\\n",
       "89431    1.367455e+07    1.333296e+07    1.364818e+07    1.273876e+07   \n",
       "89432    1.000000e+02    1.000000e+02    1.000000e+02    1.000000e+02   \n",
       "89433    1.122231e+07    1.172172e+07    1.220595e+07    1.146393e+07   \n",
       "89434    0.000000e+00    0.000000e+00    0.000000e+00    0.000000e+00   \n",
       "89435   -1.355500e+01   -1.346400e+01   -1.465100e+01   -1.485100e+01   \n",
       "\n",
       "       1 w/e 02/20/21  1 w/e 02/27/21  \n",
       "89431    1.148594e+07    1.421712e+07  \n",
       "89432    1.000000e+02    1.000000e+02  \n",
       "89433    1.170128e+07    1.364677e+07  \n",
       "89434    0.000000e+00    0.000000e+00  \n",
       "89435   -1.573700e+01   -1.737400e+01  \n",
       "\n",
       "[5 rows x 114 columns]"
      ]
     },
     "execution_count": 68,
     "metadata": {},
     "output_type": "execute_result"
    }
   ],
   "source": [
    "Promo_Weekly_HHC.head()"
   ]
  },
  {
   "cell_type": "code",
   "execution_count": 69,
   "metadata": {},
   "outputs": [
    {
     "data": {
      "text/plain": [
       "{'ALBSCO Total Company TA',\n",
       " 'Ahold USA Corp Total TA',\n",
       " 'BJs Total TA',\n",
       " 'CVS Total Corp WO HI TA',\n",
       " 'Dol Gen Total TA',\n",
       " 'Family Dollar Total TA',\n",
       " 'Fiesta Total TA',\n",
       " 'Kmart Total TA',\n",
       " 'Meijer Total TA',\n",
       " 'Publix Total TA',\n",
       " 'Rite Aid - Corp Total TA',\n",
       " \"Sam's Total TA\",\n",
       " 'ShopRite Total TA',\n",
       " 'Target Total BM/FF TA',\n",
       " 'Total US Drug',\n",
       " 'Total US Food',\n",
       " 'Total US xAOC',\n",
       " 'Walgreens Total TA',\n",
       " 'Walmart Total US TA'}"
      ]
     },
     "execution_count": 69,
     "metadata": {},
     "output_type": "execute_result"
    }
   ],
   "source": [
    "set(Promo_Weekly_HHC[\"Markets\"])"
   ]
  },
  {
   "cell_type": "markdown",
   "metadata": {},
   "source": [
    "**Facts, Markets, ShareBasis and TimePeriod Selection**"
   ]
  },
  {
   "cell_type": "code",
   "execution_count": 70,
   "metadata": {},
   "outputs": [
    {
     "name": "stdout",
     "output_type": "stream",
     "text": [
      "['Markets', 'Products', 'ShareBasis', 'Category', 'Manufacturer', 'Franchise', 'Brand', 'SubBrand', 'Facts', '1 w/e 03/09/19', '1 w/e 03/16/19', '1 w/e 03/23/19', '1 w/e 03/30/19', '1 w/e 04/06/19', '1 w/e 04/13/19', '1 w/e 04/20/19', '1 w/e 04/27/19', '1 w/e 05/04/19', '1 w/e 05/11/19', '1 w/e 05/18/19', '1 w/e 05/25/19', '1 w/e 06/01/19', '1 w/e 06/08/19', '1 w/e 06/15/19', '1 w/e 06/22/19', '1 w/e 06/29/19', '1 w/e 07/06/19', '1 w/e 07/13/19', '1 w/e 07/20/19', '1 w/e 07/27/19', '1 w/e 08/03/19', '1 w/e 08/10/19', '1 w/e 08/17/19', '1 w/e 08/24/19', '1 w/e 08/31/19', '1 w/e 09/07/19', '1 w/e 09/14/19', '1 w/e 09/21/19', '1 w/e 09/28/19', '1 w/e 10/05/19', '1 w/e 10/12/19', '1 w/e 10/19/19', '1 w/e 10/26/19', '1 w/e 11/02/19', '1 w/e 11/09/19', '1 w/e 11/16/19', '1 w/e 11/23/19', '1 w/e 11/30/19', '1 w/e 12/07/19', '1 w/e 12/14/19', '1 w/e 12/21/19', '1 w/e 12/28/19', '1 w/e 01/04/20', '1 w/e 01/11/20', '1 w/e 01/18/20', '1 w/e 01/25/20', '1 w/e 02/01/20', '1 w/e 02/08/20', '1 w/e 02/15/20', '1 w/e 02/22/20', '1 w/e 02/29/20', '1 w/e 03/07/20', '1 w/e 03/14/20', '1 w/e 03/21/20', '1 w/e 03/28/20', '1 w/e 04/04/20', '1 w/e 04/11/20', '1 w/e 04/18/20', '1 w/e 04/25/20', '1 w/e 05/02/20', '1 w/e 05/09/20', '1 w/e 05/16/20', '1 w/e 05/23/20', '1 w/e 05/30/20', '1 w/e 06/06/20', '1 w/e 06/13/20', '1 w/e 06/20/20', '1 w/e 06/27/20', '1 w/e 07/04/20', '1 w/e 07/11/20', '1 w/e 07/18/20', '1 w/e 07/25/20', '1 w/e 08/01/20', '1 w/e 08/08/20', '1 w/e 08/15/20', '1 w/e 08/22/20', '1 w/e 08/29/20', '1 w/e 09/05/20', '1 w/e 09/12/20', '1 w/e 09/19/20', '1 w/e 09/26/20', '1 w/e 10/03/20', '1 w/e 10/10/20', '1 w/e 10/17/20', '1 w/e 10/24/20', '1 w/e 10/31/20', '1 w/e 11/07/20', '1 w/e 11/14/20', '1 w/e 11/21/20', '1 w/e 11/28/20', '1 w/e 12/05/20', '1 w/e 12/12/20', '1 w/e 12/19/20', '1 w/e 12/26/20', '1 w/e 01/02/21', '1 w/e 01/09/21', '1 w/e 01/16/21', '1 w/e 01/23/21', '1 w/e 01/30/21', '1 w/e 02/06/21', '1 w/e 02/13/21', '1 w/e 02/20/21', '1 w/e 02/27/21']\n"
     ]
    }
   ],
   "source": [
    "Facts=[\"Any Disp %ACV\",\"Any Feat %ACV\",\"Base $\",\"Base $ Shr - CP CATEGORY\",\"Incr $\",\"Incr $ Shr - CP CATEGORY\",\"Avg EQ Price\"]\n",
    "\n",
    "Markets=[\"BJs Total TA\",\"CVS Total Corp WO HI TA\",\"Dol Gen Total TA\",\"Family Dollar Total TA\",\n",
    "        \"Publix Total TA\",\"Rite Aid - Corp Total TA\",\"Kmart Total TA\",\n",
    "        \"Target Total BM/FF TA\",'Total US Drug','Total US Food','Total US xAOC',\"Walgreens Total TA\",\"Walmart Total US TA\",\n",
    "        \"Sam's Total TA\", \"Fiesta Total TA\"]\n",
    "\n",
    "# Time_Period should be in the below order only\n",
    "Time_Period=list(Promo_Weekly_HHC.columns[0:1])+list(Promo_Weekly_HHC.columns[7:8])+list(Promo_Weekly_HHC.columns[1:7])+list(Promo_Weekly_HHC.columns[8:9])+list(Promo_Weekly_HHC.columns[-104:])\n",
    "print(Time_Period)"
   ]
  },
  {
   "cell_type": "code",
   "execution_count": 71,
   "metadata": {},
   "outputs": [],
   "source": [
    "# Filter Data based on above selection\n",
    "Promo_Weekly_HHC= Promo_Weekly_HHC[Promo_Weekly_HHC[\"Facts\"].isin(Facts)]\n",
    "Promo_Weekly_HHC= Promo_Weekly_HHC[Promo_Weekly_HHC[\"Markets\"].isin(Markets)]\n",
    "Promo_Weekly_HHC=Promo_Weekly_HHC[Time_Period]"
   ]
  },
  {
   "cell_type": "code",
   "execution_count": 72,
   "metadata": {},
   "outputs": [
    {
     "data": {
      "text/plain": [
       "89434                Any Disp %ACV\n",
       "89437                Any Feat %ACV\n",
       "89440                 Avg EQ Price\n",
       "89443                       Base $\n",
       "89448                       Incr $\n",
       "                    ...           \n",
       "132541    Incr $ Shr - CP CATEGORY\n",
       "132543    Base $ Shr - CP CATEGORY\n",
       "132545    Incr $ Shr - CP CATEGORY\n",
       "132651    Base $ Shr - CP CATEGORY\n",
       "132653    Incr $ Shr - CP CATEGORY\n",
       "Name: Facts, Length: 5411, dtype: object"
      ]
     },
     "execution_count": 72,
     "metadata": {},
     "output_type": "execute_result"
    }
   ],
   "source": [
    "Promo_Weekly_HHC[\"Facts\"]"
   ]
  },
  {
   "cell_type": "code",
   "execution_count": 73,
   "metadata": {
    "scrolled": true
   },
   "outputs": [
    {
     "data": {
      "text/html": [
       "<div>\n",
       "<style scoped>\n",
       "    .dataframe tbody tr th:only-of-type {\n",
       "        vertical-align: middle;\n",
       "    }\n",
       "\n",
       "    .dataframe tbody tr th {\n",
       "        vertical-align: top;\n",
       "    }\n",
       "\n",
       "    .dataframe thead th {\n",
       "        text-align: right;\n",
       "    }\n",
       "</style>\n",
       "<table border=\"1\" class=\"dataframe\">\n",
       "  <thead>\n",
       "    <tr style=\"text-align: right;\">\n",
       "      <th></th>\n",
       "      <th>Markets</th>\n",
       "      <th>Products</th>\n",
       "      <th>ShareBasis</th>\n",
       "      <th>Category</th>\n",
       "      <th>Manufacturer</th>\n",
       "      <th>Franchise</th>\n",
       "      <th>Brand</th>\n",
       "      <th>SubBrand</th>\n",
       "      <th>Facts</th>\n",
       "      <th>1 w/e 03/09/19</th>\n",
       "      <th>...</th>\n",
       "      <th>1 w/e 12/26/20</th>\n",
       "      <th>1 w/e 01/02/21</th>\n",
       "      <th>1 w/e 01/09/21</th>\n",
       "      <th>1 w/e 01/16/21</th>\n",
       "      <th>1 w/e 01/23/21</th>\n",
       "      <th>1 w/e 01/30/21</th>\n",
       "      <th>1 w/e 02/06/21</th>\n",
       "      <th>1 w/e 02/13/21</th>\n",
       "      <th>1 w/e 02/20/21</th>\n",
       "      <th>1 w/e 02/27/21</th>\n",
       "    </tr>\n",
       "  </thead>\n",
       "  <tbody>\n",
       "    <tr>\n",
       "      <th>89434</th>\n",
       "      <td>Total US xAOC</td>\n",
       "      <td>POUR APC+WW</td>\n",
       "      <td>POUR</td>\n",
       "      <td>HHC</td>\n",
       "      <td></td>\n",
       "      <td></td>\n",
       "      <td></td>\n",
       "      <td></td>\n",
       "      <td>Any Disp %ACV</td>\n",
       "      <td>21.537</td>\n",
       "      <td>...</td>\n",
       "      <td>0.000</td>\n",
       "      <td>0.000</td>\n",
       "      <td>0.000</td>\n",
       "      <td>0.000</td>\n",
       "      <td>0.00</td>\n",
       "      <td>0.000</td>\n",
       "      <td>0.000</td>\n",
       "      <td>0.00</td>\n",
       "      <td>0.000</td>\n",
       "      <td>0.000</td>\n",
       "    </tr>\n",
       "    <tr>\n",
       "      <th>89437</th>\n",
       "      <td>Total US xAOC</td>\n",
       "      <td>POUR APC+WW</td>\n",
       "      <td>POUR</td>\n",
       "      <td>HHC</td>\n",
       "      <td></td>\n",
       "      <td></td>\n",
       "      <td></td>\n",
       "      <td></td>\n",
       "      <td>Any Feat %ACV</td>\n",
       "      <td>22.184</td>\n",
       "      <td>...</td>\n",
       "      <td>4.985</td>\n",
       "      <td>4.756</td>\n",
       "      <td>7.569</td>\n",
       "      <td>9.859</td>\n",
       "      <td>4.51</td>\n",
       "      <td>6.714</td>\n",
       "      <td>35.102</td>\n",
       "      <td>32.47</td>\n",
       "      <td>28.833</td>\n",
       "      <td>31.177</td>\n",
       "    </tr>\n",
       "  </tbody>\n",
       "</table>\n",
       "<p>2 rows × 113 columns</p>\n",
       "</div>"
      ],
      "text/plain": [
       "             Markets     Products ShareBasis Category Manufacturer Franchise  \\\n",
       "89434  Total US xAOC  POUR APC+WW       POUR      HHC                          \n",
       "89437  Total US xAOC  POUR APC+WW       POUR      HHC                          \n",
       "\n",
       "      Brand SubBrand          Facts  1 w/e 03/09/19  ...  1 w/e 12/26/20  \\\n",
       "89434                 Any Disp %ACV          21.537  ...           0.000   \n",
       "89437                 Any Feat %ACV          22.184  ...           4.985   \n",
       "\n",
       "       1 w/e 01/02/21  1 w/e 01/09/21  1 w/e 01/16/21  1 w/e 01/23/21  \\\n",
       "89434           0.000           0.000           0.000            0.00   \n",
       "89437           4.756           7.569           9.859            4.51   \n",
       "\n",
       "       1 w/e 01/30/21  1 w/e 02/06/21  1 w/e 02/13/21  1 w/e 02/20/21  \\\n",
       "89434           0.000           0.000            0.00           0.000   \n",
       "89437           6.714          35.102           32.47          28.833   \n",
       "\n",
       "       1 w/e 02/27/21  \n",
       "89434           0.000  \n",
       "89437          31.177  \n",
       "\n",
       "[2 rows x 113 columns]"
      ]
     },
     "execution_count": 73,
     "metadata": {},
     "output_type": "execute_result"
    }
   ],
   "source": [
    "Promo_Weekly_HHC.head(2)"
   ]
  },
  {
   "cell_type": "code",
   "execution_count": 74,
   "metadata": {},
   "outputs": [],
   "source": [
    "Promo_Weekly_HHC[\"CP_CATEGORY\"] = \"HH CLEANERS\""
   ]
  },
  {
   "cell_type": "code",
   "execution_count": 75,
   "metadata": {},
   "outputs": [
    {
     "data": {
      "text/html": [
       "<div>\n",
       "<style scoped>\n",
       "    .dataframe tbody tr th:only-of-type {\n",
       "        vertical-align: middle;\n",
       "    }\n",
       "\n",
       "    .dataframe tbody tr th {\n",
       "        vertical-align: top;\n",
       "    }\n",
       "\n",
       "    .dataframe thead th {\n",
       "        text-align: right;\n",
       "    }\n",
       "</style>\n",
       "<table border=\"1\" class=\"dataframe\">\n",
       "  <thead>\n",
       "    <tr style=\"text-align: right;\">\n",
       "      <th></th>\n",
       "      <th>Markets</th>\n",
       "      <th>Products</th>\n",
       "      <th>CP_CATEGORY</th>\n",
       "      <th>ShareBasis</th>\n",
       "      <th>Category</th>\n",
       "      <th>Manufacturer</th>\n",
       "      <th>Franchise</th>\n",
       "      <th>Brand</th>\n",
       "      <th>SubBrand</th>\n",
       "      <th>Facts</th>\n",
       "      <th>...</th>\n",
       "      <th>1 w/e 12/26/20</th>\n",
       "      <th>1 w/e 01/02/21</th>\n",
       "      <th>1 w/e 01/09/21</th>\n",
       "      <th>1 w/e 01/16/21</th>\n",
       "      <th>1 w/e 01/23/21</th>\n",
       "      <th>1 w/e 01/30/21</th>\n",
       "      <th>1 w/e 02/06/21</th>\n",
       "      <th>1 w/e 02/13/21</th>\n",
       "      <th>1 w/e 02/20/21</th>\n",
       "      <th>1 w/e 02/27/21</th>\n",
       "    </tr>\n",
       "  </thead>\n",
       "  <tbody>\n",
       "    <tr>\n",
       "      <th>89434</th>\n",
       "      <td>Total US xAOC</td>\n",
       "      <td>POUR APC+WW</td>\n",
       "      <td>HH CLEANERS</td>\n",
       "      <td>POUR</td>\n",
       "      <td>HHC</td>\n",
       "      <td></td>\n",
       "      <td></td>\n",
       "      <td></td>\n",
       "      <td></td>\n",
       "      <td>Any Disp %ACV</td>\n",
       "      <td>...</td>\n",
       "      <td>0.000</td>\n",
       "      <td>0.000</td>\n",
       "      <td>0.000</td>\n",
       "      <td>0.000</td>\n",
       "      <td>0.000</td>\n",
       "      <td>0.000</td>\n",
       "      <td>0.000</td>\n",
       "      <td>0.00</td>\n",
       "      <td>0.000</td>\n",
       "      <td>0.000</td>\n",
       "    </tr>\n",
       "    <tr>\n",
       "      <th>89437</th>\n",
       "      <td>Total US xAOC</td>\n",
       "      <td>POUR APC+WW</td>\n",
       "      <td>HH CLEANERS</td>\n",
       "      <td>POUR</td>\n",
       "      <td>HHC</td>\n",
       "      <td></td>\n",
       "      <td></td>\n",
       "      <td></td>\n",
       "      <td></td>\n",
       "      <td>Any Feat %ACV</td>\n",
       "      <td>...</td>\n",
       "      <td>4.985</td>\n",
       "      <td>4.756</td>\n",
       "      <td>7.569</td>\n",
       "      <td>9.859</td>\n",
       "      <td>4.510</td>\n",
       "      <td>6.714</td>\n",
       "      <td>35.102</td>\n",
       "      <td>32.47</td>\n",
       "      <td>28.833</td>\n",
       "      <td>31.177</td>\n",
       "    </tr>\n",
       "    <tr>\n",
       "      <th>89440</th>\n",
       "      <td>Total US xAOC</td>\n",
       "      <td>POUR APC+WW</td>\n",
       "      <td>HH CLEANERS</td>\n",
       "      <td>POUR</td>\n",
       "      <td>HHC</td>\n",
       "      <td></td>\n",
       "      <td></td>\n",
       "      <td></td>\n",
       "      <td></td>\n",
       "      <td>Avg EQ Price</td>\n",
       "      <td>...</td>\n",
       "      <td>0.061</td>\n",
       "      <td>0.059</td>\n",
       "      <td>0.059</td>\n",
       "      <td>0.059</td>\n",
       "      <td>0.059</td>\n",
       "      <td>0.060</td>\n",
       "      <td>0.059</td>\n",
       "      <td>0.06</td>\n",
       "      <td>0.060</td>\n",
       "      <td>0.059</td>\n",
       "    </tr>\n",
       "  </tbody>\n",
       "</table>\n",
       "<p>3 rows × 114 columns</p>\n",
       "</div>"
      ],
      "text/plain": [
       "             Markets     Products  CP_CATEGORY ShareBasis Category  \\\n",
       "89434  Total US xAOC  POUR APC+WW  HH CLEANERS       POUR      HHC   \n",
       "89437  Total US xAOC  POUR APC+WW  HH CLEANERS       POUR      HHC   \n",
       "89440  Total US xAOC  POUR APC+WW  HH CLEANERS       POUR      HHC   \n",
       "\n",
       "      Manufacturer Franchise Brand SubBrand          Facts  ...  \\\n",
       "89434                                        Any Disp %ACV  ...   \n",
       "89437                                        Any Feat %ACV  ...   \n",
       "89440                                         Avg EQ Price  ...   \n",
       "\n",
       "       1 w/e 12/26/20  1 w/e 01/02/21  1 w/e 01/09/21  1 w/e 01/16/21  \\\n",
       "89434           0.000           0.000           0.000           0.000   \n",
       "89437           4.985           4.756           7.569           9.859   \n",
       "89440           0.061           0.059           0.059           0.059   \n",
       "\n",
       "       1 w/e 01/23/21  1 w/e 01/30/21  1 w/e 02/06/21  1 w/e 02/13/21  \\\n",
       "89434           0.000           0.000           0.000            0.00   \n",
       "89437           4.510           6.714          35.102           32.47   \n",
       "89440           0.059           0.060           0.059            0.06   \n",
       "\n",
       "       1 w/e 02/20/21  1 w/e 02/27/21  \n",
       "89434           0.000           0.000  \n",
       "89437          28.833          31.177  \n",
       "89440           0.060           0.059  \n",
       "\n",
       "[3 rows x 114 columns]"
      ]
     },
     "execution_count": 75,
     "metadata": {},
     "output_type": "execute_result"
    }
   ],
   "source": [
    "Promo_Weekly_HHC = movecol(Promo_Weekly_HHC, \n",
    "             cols_to_move=['CP_CATEGORY'], \n",
    "             ref_col='Products',\n",
    "             place='After')\n",
    "Promo_Weekly_HHC.head(3)"
   ]
  },
  {
   "cell_type": "code",
   "execution_count": 76,
   "metadata": {},
   "outputs": [
    {
     "name": "stdout",
     "output_type": "stream",
     "text": [
      "['Markets', 'Products', 'CP_CATEGORY', 'ShareBasis', 'Category', 'Manufacturer', 'Franchise', 'Brand', 'SubBrand', 'Facts', '1 w/e 03/09/19', '1 w/e 03/16/19', '1 w/e 03/23/19', '1 w/e 03/30/19', '1 w/e 04/06/19', '1 w/e 04/13/19', '1 w/e 04/20/19', '1 w/e 04/27/19', '1 w/e 05/04/19', '1 w/e 05/11/19', '1 w/e 05/18/19', '1 w/e 05/25/19', '1 w/e 06/01/19', '1 w/e 06/08/19', '1 w/e 06/15/19', '1 w/e 06/22/19', '1 w/e 06/29/19', '1 w/e 07/06/19', '1 w/e 07/13/19', '1 w/e 07/20/19', '1 w/e 07/27/19', '1 w/e 08/03/19', '1 w/e 08/10/19', '1 w/e 08/17/19', '1 w/e 08/24/19', '1 w/e 08/31/19', '1 w/e 09/07/19', '1 w/e 09/14/19', '1 w/e 09/21/19', '1 w/e 09/28/19', '1 w/e 10/05/19', '1 w/e 10/12/19', '1 w/e 10/19/19', '1 w/e 10/26/19', '1 w/e 11/02/19', '1 w/e 11/09/19', '1 w/e 11/16/19', '1 w/e 11/23/19', '1 w/e 11/30/19', '1 w/e 12/07/19', '1 w/e 12/14/19', '1 w/e 12/21/19', '1 w/e 12/28/19', '1 w/e 01/04/20', '1 w/e 01/11/20', '1 w/e 01/18/20', '1 w/e 01/25/20', '1 w/e 02/01/20', '1 w/e 02/08/20', '1 w/e 02/15/20', '1 w/e 02/22/20', '1 w/e 02/29/20', '1 w/e 03/07/20', '1 w/e 03/14/20', '1 w/e 03/21/20', '1 w/e 03/28/20', '1 w/e 04/04/20', '1 w/e 04/11/20', '1 w/e 04/18/20', '1 w/e 04/25/20', '1 w/e 05/02/20', '1 w/e 05/09/20', '1 w/e 05/16/20', '1 w/e 05/23/20', '1 w/e 05/30/20', '1 w/e 06/06/20', '1 w/e 06/13/20', '1 w/e 06/20/20', '1 w/e 06/27/20', '1 w/e 07/04/20', '1 w/e 07/11/20', '1 w/e 07/18/20', '1 w/e 07/25/20', '1 w/e 08/01/20', '1 w/e 08/08/20', '1 w/e 08/15/20', '1 w/e 08/22/20', '1 w/e 08/29/20', '1 w/e 09/05/20', '1 w/e 09/12/20', '1 w/e 09/19/20', '1 w/e 09/26/20', '1 w/e 10/03/20', '1 w/e 10/10/20', '1 w/e 10/17/20', '1 w/e 10/24/20', '1 w/e 10/31/20', '1 w/e 11/07/20', '1 w/e 11/14/20', '1 w/e 11/21/20', '1 w/e 11/28/20', '1 w/e 12/05/20', '1 w/e 12/12/20', '1 w/e 12/19/20', '1 w/e 12/26/20', '1 w/e 01/02/21', '1 w/e 01/09/21', '1 w/e 01/16/21', '1 w/e 01/23/21', '1 w/e 01/30/21', '1 w/e 02/06/21', '1 w/e 02/13/21', '1 w/e 02/20/21', '1 w/e 02/27/21']\n"
     ]
    }
   ],
   "source": [
    "print(list(Promo_Weekly_HHC.columns))"
   ]
  },
  {
   "cell_type": "markdown",
   "metadata": {},
   "source": [
    "**Column name Change**"
   ]
  },
  {
   "cell_type": "code",
   "execution_count": 77,
   "metadata": {},
   "outputs": [],
   "source": [
    "Promo_Weekly_HHC.rename(columns={\"Markets\":\"MKT\",\"ShareBasis\":\"CP_SHARE_BASIS\",\"Products\":\"PROD\",\"Manufacturer\":\"CP_MANUFACTURER\",\n",
    "                                \"Franchise\":\"CP_FRANCHISE\",\"Brand\":\"CP_BRAND\",\"SubBrand\":\"CP_SUBBRAND_VARIANT\",\"Facts\":\"FCT\"},inplace=True)"
   ]
  },
  {
   "cell_type": "code",
   "execution_count": 78,
   "metadata": {},
   "outputs": [],
   "source": [
    "#order = ['MKT', 'PROD', 'CP_CATEGORY', 'Category', 'CP_MANUFACTURER', 'CP_FRANCHISE', 'CP_BRAND', 'CP_SUBBRAND', 'FCT', '1 w/e 02/02/19', '1 w/e 02/09/19', '1 w/e 02/16/19', '1 w/e 02/23/19', '1 w/e 03/02/19', '1 w/e 03/09/19', '1 w/e 03/16/19', '1 w/e 03/23/19', '1 w/e 03/30/19', '1 w/e 04/06/19', '1 w/e 04/13/19', '1 w/e 04/20/19', '1 w/e 04/27/19', '1 w/e 05/04/19', '1 w/e 05/11/19', '1 w/e 05/18/19', '1 w/e 05/25/19', '1 w/e 06/01/19', '1 w/e 06/08/19', '1 w/e 06/15/19', '1 w/e 06/22/19', '1 w/e 06/29/19', '1 w/e 07/06/19', '1 w/e 07/13/19', '1 w/e 07/20/19', '1 w/e 07/27/19', '1 w/e 08/03/19', '1 w/e 08/10/19', '1 w/e 08/17/19', '1 w/e 08/24/19', '1 w/e 08/31/19', '1 w/e 09/07/19', '1 w/e 09/14/19', '1 w/e 09/21/19', '1 w/e 09/28/19', '1 w/e 10/05/19', '1 w/e 10/12/19', '1 w/e 10/19/19', '1 w/e 10/26/19', '1 w/e 11/02/19', '1 w/e 11/09/19', '1 w/e 11/16/19', '1 w/e 11/23/19', '1 w/e 11/30/19', '1 w/e 12/07/19', '1 w/e 12/14/19', '1 w/e 12/21/19', '1 w/e 12/28/19', '1 w/e 01/04/20', '1 w/e 01/11/20', '1 w/e 01/18/20', '1 w/e 01/25/20', '1 w/e 02/01/20', '1 w/e 02/08/20', '1 w/e 02/15/20', '1 w/e 02/22/20', '1 w/e 02/29/20', '1 w/e 03/07/20', '1 w/e 03/14/20', '1 w/e 03/21/20', '1 w/e 03/28/20', '1 w/e 04/04/20', '1 w/e 04/11/20', '1 w/e 04/18/20', '1 w/e 04/25/20', '1 w/e 05/02/20', '1 w/e 05/09/20', '1 w/e 05/16/20', '1 w/e 05/23/20', '1 w/e 05/30/20', '1 w/e 06/06/20', '1 w/e 06/13/20', '1 w/e 06/20/20', '1 w/e 06/27/20', '1 w/e 07/04/20', '1 w/e 07/11/20', '1 w/e 07/18/20', '1 w/e 07/25/20', '1 w/e 08/01/20', '1 w/e 08/08/20', '1 w/e 08/15/20', '1 w/e 08/22/20', '1 w/e 08/29/20', '1 w/e 09/05/20', '1 w/e 09/12/20', '1 w/e 09/19/20', '1 w/e 09/26/20', '1 w/e 10/03/20', '1 w/e 10/10/20', '1 w/e 10/17/20', '1 w/e 10/24/20', '1 w/e 10/31/20', '1 w/e 11/07/20', '1 w/e 11/14/20', '1 w/e 11/21/20', '1 w/e 11/28/20', '1 w/e 12/05/20', '1 w/e 12/12/20', '1 w/e 12/19/20', '1 w/e 12/26/20', '1 w/e 01/02/21', '1 w/e 01/09/21', '1 w/e 01/16/21', '1 w/e 01/23/21', 'CP_BATTERY_HYBRID']"
   ]
  },
  {
   "cell_type": "code",
   "execution_count": null,
   "metadata": {},
   "outputs": [],
   "source": [
    "#Promo_Weekly_HHC = Promo_Weekly_HHC[order]"
   ]
  },
  {
   "cell_type": "code",
   "execution_count": null,
   "metadata": {},
   "outputs": [],
   "source": [
    "# HHC_power_mapping={\n",
    "#     \"POWER\":\"TOTAL POWER\"}\n",
    "# Promo_Weekly_HHC[\"CP_BATTERY_HYBRID\"].replace(HHC_power_mapping,inplace=True)"
   ]
  },
  {
   "cell_type": "markdown",
   "metadata": {},
   "source": [
    "**Fact Name Change**"
   ]
  },
  {
   "cell_type": "code",
   "execution_count": 79,
   "metadata": {},
   "outputs": [],
   "source": [
    "Fact_Mapping={\n",
    "    \"Any Disp %ACV\":\"%ACV Any Display\",\n",
    "    \"Any Feat %ACV\":\"%ACV Any Feature\",\n",
    "    \"Base $\":\"Baseline $\",\n",
    "    \"Base $ Shr - CP CATEGORY\":\"Baseline $ Share\",\n",
    "    \"Incr $\":\"Incr.$\",\n",
    "    \"Incr $ Shr - CP CATEGORY\":\"Incr.$ Share\",\n",
    "    \"Avg EQ Price\":\"RASP per Case\"\n",
    "\n",
    "}"
   ]
  },
  {
   "cell_type": "code",
   "execution_count": 80,
   "metadata": {},
   "outputs": [],
   "source": [
    "Promo_Weekly_HHC[\"FCT\"].replace(Fact_Mapping,inplace=True)"
   ]
  },
  {
   "cell_type": "markdown",
   "metadata": {},
   "source": [
    "**Market Name Change**"
   ]
  },
  {
   "cell_type": "code",
   "execution_count": 81,
   "metadata": {},
   "outputs": [],
   "source": [
    "Market_Mapping={\n",
    "    \"ALBSCO Total Company TA\":\"Alb/Sfy\",\n",
    "    \"Ahold USA Corp Total TA\":\"Ahold\",\n",
    "    \"BJs Total TA\":\"BJs\",\n",
    "    \"CVS Total Corp WO HI TA\":\"CVS\",\n",
    "    \"Dol Gen Total TA\":\"Dollar General\",\n",
    "    \"Family Dollar Total TA\":\"Family Dollar\",\n",
    "    \"Meijer Total TA\":\"Meijer\",\n",
    "    \"Publix Total TA\":\"Publix\",\n",
    "    \"Rite Aid - Corp Total TA\":\"Rite Aid\",\n",
    "    \"Giant Eagle Total TA\":\"Giant Eagle\",\n",
    "    \"ShopRite Total TA\":\"Shoprite\",\n",
    "    \"Target Total BM/FF TA\":\"Target\",\n",
    "    'Total US Drug':\"US Drug\",\n",
    "    'Total US Food':\"US Food\",\n",
    "    'Total US xAOC':\"US AOC\",\n",
    "    \"Walgreens Total TA\":\"Walgreens\",\n",
    "    \"Walmart Corp Total US TA\":\"Walmart\",\n",
    "    'Kmart Total TA':\"Kmart\",\n",
    "    'Walmart Total US TA':\"Walmart\",\n",
    "    'Wegmans Total TA':\"Wegmans\",\n",
    "    \"El Super Total TA\" : \"El Super\",\n",
    "    \"Sam's Total TA\" : \"Sams\",\n",
    "    'Fiesta Total TA':\"Fiesta\"\n",
    "}"
   ]
  },
  {
   "cell_type": "code",
   "execution_count": 82,
   "metadata": {},
   "outputs": [],
   "source": [
    "Promo_Weekly_HHC[\"MKT\"].replace(Market_Mapping,inplace=True)"
   ]
  },
  {
   "cell_type": "code",
   "execution_count": 83,
   "metadata": {},
   "outputs": [],
   "source": [
    "del Promo_Weekly_HHC[\"Category\"]"
   ]
  },
  {
   "cell_type": "code",
   "execution_count": 84,
   "metadata": {},
   "outputs": [
    {
     "data": {
      "text/plain": [
       "{'BJs',\n",
       " 'CVS',\n",
       " 'Dollar General',\n",
       " 'Family Dollar',\n",
       " 'Fiesta',\n",
       " 'Kmart',\n",
       " 'Publix',\n",
       " 'Rite Aid',\n",
       " 'Sams',\n",
       " 'Target',\n",
       " 'US AOC',\n",
       " 'US Drug',\n",
       " 'US Food',\n",
       " 'Walgreens',\n",
       " 'Walmart'}"
      ]
     },
     "execution_count": 84,
     "metadata": {},
     "output_type": "execute_result"
    }
   ],
   "source": [
    "set(Promo_Weekly_HHC[\"MKT\"])"
   ]
  },
  {
   "cell_type": "code",
   "execution_count": 85,
   "metadata": {
    "scrolled": true
   },
   "outputs": [
    {
     "data": {
      "text/html": [
       "<div>\n",
       "<style scoped>\n",
       "    .dataframe tbody tr th:only-of-type {\n",
       "        vertical-align: middle;\n",
       "    }\n",
       "\n",
       "    .dataframe tbody tr th {\n",
       "        vertical-align: top;\n",
       "    }\n",
       "\n",
       "    .dataframe thead th {\n",
       "        text-align: right;\n",
       "    }\n",
       "</style>\n",
       "<table border=\"1\" class=\"dataframe\">\n",
       "  <thead>\n",
       "    <tr style=\"text-align: right;\">\n",
       "      <th></th>\n",
       "      <th>MKT</th>\n",
       "      <th>PROD</th>\n",
       "      <th>CP_CATEGORY</th>\n",
       "      <th>CP_SHARE_BASIS</th>\n",
       "      <th>CP_MANUFACTURER</th>\n",
       "      <th>CP_FRANCHISE</th>\n",
       "      <th>CP_BRAND</th>\n",
       "      <th>CP_SUBBRAND_VARIANT</th>\n",
       "      <th>FCT</th>\n",
       "      <th>1 w/e 03/09/19</th>\n",
       "      <th>...</th>\n",
       "      <th>1 w/e 12/26/20</th>\n",
       "      <th>1 w/e 01/02/21</th>\n",
       "      <th>1 w/e 01/09/21</th>\n",
       "      <th>1 w/e 01/16/21</th>\n",
       "      <th>1 w/e 01/23/21</th>\n",
       "      <th>1 w/e 01/30/21</th>\n",
       "      <th>1 w/e 02/06/21</th>\n",
       "      <th>1 w/e 02/13/21</th>\n",
       "      <th>1 w/e 02/20/21</th>\n",
       "      <th>1 w/e 02/27/21</th>\n",
       "    </tr>\n",
       "  </thead>\n",
       "  <tbody>\n",
       "    <tr>\n",
       "      <th>89434</th>\n",
       "      <td>US AOC</td>\n",
       "      <td>POUR APC+WW</td>\n",
       "      <td>HH CLEANERS</td>\n",
       "      <td>POUR</td>\n",
       "      <td></td>\n",
       "      <td></td>\n",
       "      <td></td>\n",
       "      <td></td>\n",
       "      <td>%ACV Any Display</td>\n",
       "      <td>21.537</td>\n",
       "      <td>...</td>\n",
       "      <td>0.000</td>\n",
       "      <td>0.000</td>\n",
       "      <td>0.000</td>\n",
       "      <td>0.000</td>\n",
       "      <td>0.000</td>\n",
       "      <td>0.000</td>\n",
       "      <td>0.000</td>\n",
       "      <td>0.00</td>\n",
       "      <td>0.000</td>\n",
       "      <td>0.000</td>\n",
       "    </tr>\n",
       "    <tr>\n",
       "      <th>89437</th>\n",
       "      <td>US AOC</td>\n",
       "      <td>POUR APC+WW</td>\n",
       "      <td>HH CLEANERS</td>\n",
       "      <td>POUR</td>\n",
       "      <td></td>\n",
       "      <td></td>\n",
       "      <td></td>\n",
       "      <td></td>\n",
       "      <td>%ACV Any Feature</td>\n",
       "      <td>22.184</td>\n",
       "      <td>...</td>\n",
       "      <td>4.985</td>\n",
       "      <td>4.756</td>\n",
       "      <td>7.569</td>\n",
       "      <td>9.859</td>\n",
       "      <td>4.510</td>\n",
       "      <td>6.714</td>\n",
       "      <td>35.102</td>\n",
       "      <td>32.47</td>\n",
       "      <td>28.833</td>\n",
       "      <td>31.177</td>\n",
       "    </tr>\n",
       "    <tr>\n",
       "      <th>89440</th>\n",
       "      <td>US AOC</td>\n",
       "      <td>POUR APC+WW</td>\n",
       "      <td>HH CLEANERS</td>\n",
       "      <td>POUR</td>\n",
       "      <td></td>\n",
       "      <td></td>\n",
       "      <td></td>\n",
       "      <td></td>\n",
       "      <td>RASP per Case</td>\n",
       "      <td>0.057</td>\n",
       "      <td>...</td>\n",
       "      <td>0.061</td>\n",
       "      <td>0.059</td>\n",
       "      <td>0.059</td>\n",
       "      <td>0.059</td>\n",
       "      <td>0.059</td>\n",
       "      <td>0.060</td>\n",
       "      <td>0.059</td>\n",
       "      <td>0.06</td>\n",
       "      <td>0.060</td>\n",
       "      <td>0.059</td>\n",
       "    </tr>\n",
       "  </tbody>\n",
       "</table>\n",
       "<p>3 rows × 113 columns</p>\n",
       "</div>"
      ],
      "text/plain": [
       "          MKT         PROD  CP_CATEGORY CP_SHARE_BASIS CP_MANUFACTURER  \\\n",
       "89434  US AOC  POUR APC+WW  HH CLEANERS           POUR                   \n",
       "89437  US AOC  POUR APC+WW  HH CLEANERS           POUR                   \n",
       "89440  US AOC  POUR APC+WW  HH CLEANERS           POUR                   \n",
       "\n",
       "      CP_FRANCHISE CP_BRAND CP_SUBBRAND_VARIANT               FCT  \\\n",
       "89434                                            %ACV Any Display   \n",
       "89437                                            %ACV Any Feature   \n",
       "89440                                               RASP per Case   \n",
       "\n",
       "       1 w/e 03/09/19  ...  1 w/e 12/26/20  1 w/e 01/02/21  1 w/e 01/09/21  \\\n",
       "89434          21.537  ...           0.000           0.000           0.000   \n",
       "89437          22.184  ...           4.985           4.756           7.569   \n",
       "89440           0.057  ...           0.061           0.059           0.059   \n",
       "\n",
       "       1 w/e 01/16/21  1 w/e 01/23/21  1 w/e 01/30/21  1 w/e 02/06/21  \\\n",
       "89434           0.000           0.000           0.000           0.000   \n",
       "89437           9.859           4.510           6.714          35.102   \n",
       "89440           0.059           0.059           0.060           0.059   \n",
       "\n",
       "       1 w/e 02/13/21  1 w/e 02/20/21  1 w/e 02/27/21  \n",
       "89434            0.00           0.000           0.000  \n",
       "89437           32.47          28.833          31.177  \n",
       "89440            0.06           0.060           0.059  \n",
       "\n",
       "[3 rows x 113 columns]"
      ]
     },
     "execution_count": 85,
     "metadata": {},
     "output_type": "execute_result"
    }
   ],
   "source": [
    "Promo_Weekly_HHC.head(3)"
   ]
  },
  {
   "cell_type": "code",
   "execution_count": 86,
   "metadata": {},
   "outputs": [],
   "source": [
    "Fact_order = CategoricalDtype(\n",
    "    sorted(list(set(Promo_Weekly_HHC[\"FCT\"]))), \n",
    "    ordered=True\n",
    ")\n",
    "\n",
    "Promo_Weekly_HHC['FCT'] = Promo_Weekly_HHC['FCT'].astype(Fact_order)\n",
    "\n",
    "Promo_Weekly_HHC.sort_values(['MKT','PROD','FCT'],inplace=True)"
   ]
  },
  {
   "cell_type": "code",
   "execution_count": 87,
   "metadata": {},
   "outputs": [
    {
     "data": {
      "text/html": [
       "<div>\n",
       "<style scoped>\n",
       "    .dataframe tbody tr th:only-of-type {\n",
       "        vertical-align: middle;\n",
       "    }\n",
       "\n",
       "    .dataframe tbody tr th {\n",
       "        vertical-align: top;\n",
       "    }\n",
       "\n",
       "    .dataframe thead th {\n",
       "        text-align: right;\n",
       "    }\n",
       "</style>\n",
       "<table border=\"1\" class=\"dataframe\">\n",
       "  <thead>\n",
       "    <tr style=\"text-align: right;\">\n",
       "      <th></th>\n",
       "      <th>MKT</th>\n",
       "      <th>PROD</th>\n",
       "      <th>CP_CATEGORY</th>\n",
       "      <th>CP_SHARE_BASIS</th>\n",
       "      <th>CP_MANUFACTURER</th>\n",
       "      <th>CP_FRANCHISE</th>\n",
       "      <th>CP_BRAND</th>\n",
       "      <th>CP_SUBBRAND_VARIANT</th>\n",
       "      <th>FCT</th>\n",
       "      <th>1 w/e 03/09/19</th>\n",
       "      <th>...</th>\n",
       "      <th>1 w/e 12/26/20</th>\n",
       "      <th>1 w/e 01/02/21</th>\n",
       "      <th>1 w/e 01/09/21</th>\n",
       "      <th>1 w/e 01/16/21</th>\n",
       "      <th>1 w/e 01/23/21</th>\n",
       "      <th>1 w/e 01/30/21</th>\n",
       "      <th>1 w/e 02/06/21</th>\n",
       "      <th>1 w/e 02/13/21</th>\n",
       "      <th>1 w/e 02/20/21</th>\n",
       "      <th>1 w/e 02/27/21</th>\n",
       "    </tr>\n",
       "  </thead>\n",
       "  <tbody>\n",
       "    <tr>\n",
       "      <th>98714</th>\n",
       "      <td>BJs</td>\n",
       "      <td>POUR APC+WW</td>\n",
       "      <td>HH CLEANERS</td>\n",
       "      <td>POUR</td>\n",
       "      <td></td>\n",
       "      <td></td>\n",
       "      <td></td>\n",
       "      <td></td>\n",
       "      <td>%ACV Any Display</td>\n",
       "      <td>51.738</td>\n",
       "      <td>...</td>\n",
       "      <td>0.00</td>\n",
       "      <td>0.00</td>\n",
       "      <td>0.00</td>\n",
       "      <td>0.00</td>\n",
       "      <td>0.0</td>\n",
       "      <td>0.00</td>\n",
       "      <td>0.00</td>\n",
       "      <td>0.00</td>\n",
       "      <td>0.00</td>\n",
       "      <td>0.00</td>\n",
       "    </tr>\n",
       "    <tr>\n",
       "      <th>98717</th>\n",
       "      <td>BJs</td>\n",
       "      <td>POUR APC+WW</td>\n",
       "      <td>HH CLEANERS</td>\n",
       "      <td>POUR</td>\n",
       "      <td></td>\n",
       "      <td></td>\n",
       "      <td></td>\n",
       "      <td></td>\n",
       "      <td>%ACV Any Feature</td>\n",
       "      <td>100.000</td>\n",
       "      <td>...</td>\n",
       "      <td>100.00</td>\n",
       "      <td>0.00</td>\n",
       "      <td>0.00</td>\n",
       "      <td>100.00</td>\n",
       "      <td>100.0</td>\n",
       "      <td>100.00</td>\n",
       "      <td>0.00</td>\n",
       "      <td>0.00</td>\n",
       "      <td>0.00</td>\n",
       "      <td>0.00</td>\n",
       "    </tr>\n",
       "    <tr>\n",
       "      <th>98723</th>\n",
       "      <td>BJs</td>\n",
       "      <td>POUR APC+WW</td>\n",
       "      <td>HH CLEANERS</td>\n",
       "      <td>POUR</td>\n",
       "      <td></td>\n",
       "      <td></td>\n",
       "      <td></td>\n",
       "      <td></td>\n",
       "      <td>Baseline $</td>\n",
       "      <td>197393.140</td>\n",
       "      <td>...</td>\n",
       "      <td>208319.79</td>\n",
       "      <td>231076.27</td>\n",
       "      <td>243956.61</td>\n",
       "      <td>266519.39</td>\n",
       "      <td>267793.5</td>\n",
       "      <td>274729.51</td>\n",
       "      <td>254487.78</td>\n",
       "      <td>253121.71</td>\n",
       "      <td>260536.16</td>\n",
       "      <td>275495.51</td>\n",
       "    </tr>\n",
       "  </tbody>\n",
       "</table>\n",
       "<p>3 rows × 113 columns</p>\n",
       "</div>"
      ],
      "text/plain": [
       "       MKT         PROD  CP_CATEGORY CP_SHARE_BASIS CP_MANUFACTURER  \\\n",
       "98714  BJs  POUR APC+WW  HH CLEANERS           POUR                   \n",
       "98717  BJs  POUR APC+WW  HH CLEANERS           POUR                   \n",
       "98723  BJs  POUR APC+WW  HH CLEANERS           POUR                   \n",
       "\n",
       "      CP_FRANCHISE CP_BRAND CP_SUBBRAND_VARIANT               FCT  \\\n",
       "98714                                            %ACV Any Display   \n",
       "98717                                            %ACV Any Feature   \n",
       "98723                                                  Baseline $   \n",
       "\n",
       "       1 w/e 03/09/19  ...  1 w/e 12/26/20  1 w/e 01/02/21  1 w/e 01/09/21  \\\n",
       "98714          51.738  ...            0.00            0.00            0.00   \n",
       "98717         100.000  ...          100.00            0.00            0.00   \n",
       "98723      197393.140  ...       208319.79       231076.27       243956.61   \n",
       "\n",
       "       1 w/e 01/16/21  1 w/e 01/23/21  1 w/e 01/30/21  1 w/e 02/06/21  \\\n",
       "98714            0.00             0.0            0.00            0.00   \n",
       "98717          100.00           100.0          100.00            0.00   \n",
       "98723       266519.39        267793.5       274729.51       254487.78   \n",
       "\n",
       "       1 w/e 02/13/21  1 w/e 02/20/21  1 w/e 02/27/21  \n",
       "98714            0.00            0.00            0.00  \n",
       "98717            0.00            0.00            0.00  \n",
       "98723       253121.71       260536.16       275495.51  \n",
       "\n",
       "[3 rows x 113 columns]"
      ]
     },
     "execution_count": 87,
     "metadata": {},
     "output_type": "execute_result"
    }
   ],
   "source": [
    "Promo_Weekly_HHC.head(3)"
   ]
  },
  {
   "cell_type": "code",
   "execution_count": null,
   "metadata": {},
   "outputs": [],
   "source": []
  },
  {
   "cell_type": "markdown",
   "metadata": {},
   "source": [
    "## **promo_manufacturer_bump**"
   ]
  },
  {
   "cell_type": "code",
   "execution_count": 88,
   "metadata": {},
   "outputs": [],
   "source": [
    "promo_manufacturer_bump=Promo_Weekly_HHC.loc[(Promo_Weekly_HHC[\"CP_SUBBRAND_VARIANT\"]==\"\") & (Promo_Weekly_HHC[\"CP_BRAND\"]==\"\")&(Promo_Weekly_HHC[\"CP_FRANCHISE\"]==\"\")&(Promo_Weekly_HHC[\"CP_MANUFACTURER\"]!=\"\")]"
   ]
  },
  {
   "cell_type": "code",
   "execution_count": 89,
   "metadata": {},
   "outputs": [],
   "source": [
    "promo_manufacturer_bump[\"Record_ID\"]=range(1,len(promo_manufacturer_bump)+1)"
   ]
  },
  {
   "cell_type": "code",
   "execution_count": 90,
   "metadata": {},
   "outputs": [
    {
     "data": {
      "text/html": [
       "<div>\n",
       "<style scoped>\n",
       "    .dataframe tbody tr th:only-of-type {\n",
       "        vertical-align: middle;\n",
       "    }\n",
       "\n",
       "    .dataframe tbody tr th {\n",
       "        vertical-align: top;\n",
       "    }\n",
       "\n",
       "    .dataframe thead th {\n",
       "        text-align: right;\n",
       "    }\n",
       "</style>\n",
       "<table border=\"1\" class=\"dataframe\">\n",
       "  <thead>\n",
       "    <tr style=\"text-align: right;\">\n",
       "      <th></th>\n",
       "      <th>MKT</th>\n",
       "      <th>PROD</th>\n",
       "      <th>CP_CATEGORY</th>\n",
       "      <th>CP_SHARE_BASIS</th>\n",
       "      <th>CP_MANUFACTURER</th>\n",
       "      <th>CP_FRANCHISE</th>\n",
       "      <th>CP_BRAND</th>\n",
       "      <th>CP_SUBBRAND_VARIANT</th>\n",
       "      <th>FCT</th>\n",
       "      <th>1 w/e 03/09/19</th>\n",
       "      <th>...</th>\n",
       "      <th>1 w/e 01/02/21</th>\n",
       "      <th>1 w/e 01/09/21</th>\n",
       "      <th>1 w/e 01/16/21</th>\n",
       "      <th>1 w/e 01/23/21</th>\n",
       "      <th>1 w/e 01/30/21</th>\n",
       "      <th>1 w/e 02/06/21</th>\n",
       "      <th>1 w/e 02/13/21</th>\n",
       "      <th>1 w/e 02/20/21</th>\n",
       "      <th>1 w/e 02/27/21</th>\n",
       "      <th>Record_ID</th>\n",
       "    </tr>\n",
       "  </thead>\n",
       "  <tbody>\n",
       "    <tr>\n",
       "      <th>98734</th>\n",
       "      <td>BJs</td>\n",
       "      <td>POUR APC+WW | CLOROX</td>\n",
       "      <td>HH CLEANERS</td>\n",
       "      <td>POUR</td>\n",
       "      <td>CLOROX</td>\n",
       "      <td></td>\n",
       "      <td></td>\n",
       "      <td></td>\n",
       "      <td>%ACV Any Display</td>\n",
       "      <td>51.738</td>\n",
       "      <td>...</td>\n",
       "      <td>0.00</td>\n",
       "      <td>0.00</td>\n",
       "      <td>0.00</td>\n",
       "      <td>0.00</td>\n",
       "      <td>0.00</td>\n",
       "      <td>0.00</td>\n",
       "      <td>0.0</td>\n",
       "      <td>0.00</td>\n",
       "      <td>0.00</td>\n",
       "      <td>1</td>\n",
       "    </tr>\n",
       "    <tr>\n",
       "      <th>98737</th>\n",
       "      <td>BJs</td>\n",
       "      <td>POUR APC+WW | CLOROX</td>\n",
       "      <td>HH CLEANERS</td>\n",
       "      <td>POUR</td>\n",
       "      <td>CLOROX</td>\n",
       "      <td></td>\n",
       "      <td></td>\n",
       "      <td></td>\n",
       "      <td>%ACV Any Feature</td>\n",
       "      <td>100.000</td>\n",
       "      <td>...</td>\n",
       "      <td>0.00</td>\n",
       "      <td>0.00</td>\n",
       "      <td>0.00</td>\n",
       "      <td>0.00</td>\n",
       "      <td>0.00</td>\n",
       "      <td>0.00</td>\n",
       "      <td>0.0</td>\n",
       "      <td>0.00</td>\n",
       "      <td>0.00</td>\n",
       "      <td>2</td>\n",
       "    </tr>\n",
       "    <tr>\n",
       "      <th>98743</th>\n",
       "      <td>BJs</td>\n",
       "      <td>POUR APC+WW | CLOROX</td>\n",
       "      <td>HH CLEANERS</td>\n",
       "      <td>POUR</td>\n",
       "      <td>CLOROX</td>\n",
       "      <td></td>\n",
       "      <td></td>\n",
       "      <td></td>\n",
       "      <td>Baseline $</td>\n",
       "      <td>82997.520</td>\n",
       "      <td>...</td>\n",
       "      <td>116405.85</td>\n",
       "      <td>120229.45</td>\n",
       "      <td>131009.82</td>\n",
       "      <td>133226.35</td>\n",
       "      <td>139602.61</td>\n",
       "      <td>132807.95</td>\n",
       "      <td>133685.1</td>\n",
       "      <td>133271.65</td>\n",
       "      <td>138645.68</td>\n",
       "      <td>3</td>\n",
       "    </tr>\n",
       "  </tbody>\n",
       "</table>\n",
       "<p>3 rows × 114 columns</p>\n",
       "</div>"
      ],
      "text/plain": [
       "       MKT                  PROD  CP_CATEGORY CP_SHARE_BASIS CP_MANUFACTURER  \\\n",
       "98734  BJs  POUR APC+WW | CLOROX  HH CLEANERS           POUR          CLOROX   \n",
       "98737  BJs  POUR APC+WW | CLOROX  HH CLEANERS           POUR          CLOROX   \n",
       "98743  BJs  POUR APC+WW | CLOROX  HH CLEANERS           POUR          CLOROX   \n",
       "\n",
       "      CP_FRANCHISE CP_BRAND CP_SUBBRAND_VARIANT               FCT  \\\n",
       "98734                                            %ACV Any Display   \n",
       "98737                                            %ACV Any Feature   \n",
       "98743                                                  Baseline $   \n",
       "\n",
       "       1 w/e 03/09/19  ...  1 w/e 01/02/21  1 w/e 01/09/21  1 w/e 01/16/21  \\\n",
       "98734          51.738  ...            0.00            0.00            0.00   \n",
       "98737         100.000  ...            0.00            0.00            0.00   \n",
       "98743       82997.520  ...       116405.85       120229.45       131009.82   \n",
       "\n",
       "       1 w/e 01/23/21  1 w/e 01/30/21  1 w/e 02/06/21  1 w/e 02/13/21  \\\n",
       "98734            0.00            0.00            0.00             0.0   \n",
       "98737            0.00            0.00            0.00             0.0   \n",
       "98743       133226.35       139602.61       132807.95        133685.1   \n",
       "\n",
       "       1 w/e 02/20/21  1 w/e 02/27/21  Record_ID  \n",
       "98734            0.00            0.00          1  \n",
       "98737            0.00            0.00          2  \n",
       "98743       133271.65       138645.68          3  \n",
       "\n",
       "[3 rows x 114 columns]"
      ]
     },
     "execution_count": 90,
     "metadata": {},
     "output_type": "execute_result"
    }
   ],
   "source": [
    "promo_manufacturer_bump.head(3)"
   ]
  },
  {
   "cell_type": "code",
   "execution_count": 91,
   "metadata": {},
   "outputs": [],
   "source": [
    "promo_manufacturer_bump.to_csv(path_HHC+\"promo_manufacturer_bump.csv\",index=False)"
   ]
  },
  {
   "cell_type": "markdown",
   "metadata": {},
   "source": [
    "## **promo_franchise_bump**"
   ]
  },
  {
   "cell_type": "code",
   "execution_count": 92,
   "metadata": {},
   "outputs": [],
   "source": [
    "promo_franchise_bump=Promo_Weekly_HHC.loc[(Promo_Weekly_HHC[\"CP_SUBBRAND_VARIANT\"]==\"\") & (Promo_Weekly_HHC[\"CP_BRAND\"]==\"\")&(Promo_Weekly_HHC[\"CP_FRANCHISE\"]!=\"\")]"
   ]
  },
  {
   "cell_type": "code",
   "execution_count": 93,
   "metadata": {},
   "outputs": [],
   "source": [
    "promo_franchise_bump[\"Record_ID\"]=range(1,len(promo_franchise_bump)+1)"
   ]
  },
  {
   "cell_type": "code",
   "execution_count": 94,
   "metadata": {},
   "outputs": [
    {
     "data": {
      "text/html": [
       "<div>\n",
       "<style scoped>\n",
       "    .dataframe tbody tr th:only-of-type {\n",
       "        vertical-align: middle;\n",
       "    }\n",
       "\n",
       "    .dataframe tbody tr th {\n",
       "        vertical-align: top;\n",
       "    }\n",
       "\n",
       "    .dataframe thead th {\n",
       "        text-align: right;\n",
       "    }\n",
       "</style>\n",
       "<table border=\"1\" class=\"dataframe\">\n",
       "  <thead>\n",
       "    <tr style=\"text-align: right;\">\n",
       "      <th></th>\n",
       "      <th>MKT</th>\n",
       "      <th>PROD</th>\n",
       "      <th>CP_CATEGORY</th>\n",
       "      <th>CP_SHARE_BASIS</th>\n",
       "      <th>CP_MANUFACTURER</th>\n",
       "      <th>CP_FRANCHISE</th>\n",
       "      <th>CP_BRAND</th>\n",
       "      <th>CP_SUBBRAND_VARIANT</th>\n",
       "      <th>FCT</th>\n",
       "      <th>1 w/e 03/09/19</th>\n",
       "      <th>...</th>\n",
       "      <th>1 w/e 01/02/21</th>\n",
       "      <th>1 w/e 01/09/21</th>\n",
       "      <th>1 w/e 01/16/21</th>\n",
       "      <th>1 w/e 01/23/21</th>\n",
       "      <th>1 w/e 01/30/21</th>\n",
       "      <th>1 w/e 02/06/21</th>\n",
       "      <th>1 w/e 02/13/21</th>\n",
       "      <th>1 w/e 02/20/21</th>\n",
       "      <th>1 w/e 02/27/21</th>\n",
       "      <th>Record_ID</th>\n",
       "    </tr>\n",
       "  </thead>\n",
       "  <tbody>\n",
       "    <tr>\n",
       "      <th>98754</th>\n",
       "      <td>BJs</td>\n",
       "      <td>POUR APC+WW | CLOROX | PINE SOL</td>\n",
       "      <td>HH CLEANERS</td>\n",
       "      <td>POUR</td>\n",
       "      <td>CLOROX</td>\n",
       "      <td>PINE SOL</td>\n",
       "      <td></td>\n",
       "      <td></td>\n",
       "      <td>%ACV Any Display</td>\n",
       "      <td>51.738</td>\n",
       "      <td>...</td>\n",
       "      <td>0.00</td>\n",
       "      <td>0.00</td>\n",
       "      <td>0.00</td>\n",
       "      <td>0.00</td>\n",
       "      <td>0.00</td>\n",
       "      <td>0.00</td>\n",
       "      <td>0.0</td>\n",
       "      <td>0.00</td>\n",
       "      <td>0.00</td>\n",
       "      <td>1</td>\n",
       "    </tr>\n",
       "    <tr>\n",
       "      <th>98757</th>\n",
       "      <td>BJs</td>\n",
       "      <td>POUR APC+WW | CLOROX | PINE SOL</td>\n",
       "      <td>HH CLEANERS</td>\n",
       "      <td>POUR</td>\n",
       "      <td>CLOROX</td>\n",
       "      <td>PINE SOL</td>\n",
       "      <td></td>\n",
       "      <td></td>\n",
       "      <td>%ACV Any Feature</td>\n",
       "      <td>100.000</td>\n",
       "      <td>...</td>\n",
       "      <td>0.00</td>\n",
       "      <td>0.00</td>\n",
       "      <td>0.00</td>\n",
       "      <td>0.00</td>\n",
       "      <td>0.00</td>\n",
       "      <td>0.00</td>\n",
       "      <td>0.0</td>\n",
       "      <td>0.00</td>\n",
       "      <td>0.00</td>\n",
       "      <td>2</td>\n",
       "    </tr>\n",
       "    <tr>\n",
       "      <th>98763</th>\n",
       "      <td>BJs</td>\n",
       "      <td>POUR APC+WW | CLOROX | PINE SOL</td>\n",
       "      <td>HH CLEANERS</td>\n",
       "      <td>POUR</td>\n",
       "      <td>CLOROX</td>\n",
       "      <td>PINE SOL</td>\n",
       "      <td></td>\n",
       "      <td></td>\n",
       "      <td>Baseline $</td>\n",
       "      <td>82997.520</td>\n",
       "      <td>...</td>\n",
       "      <td>116405.85</td>\n",
       "      <td>120229.45</td>\n",
       "      <td>131009.82</td>\n",
       "      <td>133226.35</td>\n",
       "      <td>139602.61</td>\n",
       "      <td>132807.95</td>\n",
       "      <td>133685.1</td>\n",
       "      <td>133271.65</td>\n",
       "      <td>138645.68</td>\n",
       "      <td>3</td>\n",
       "    </tr>\n",
       "  </tbody>\n",
       "</table>\n",
       "<p>3 rows × 114 columns</p>\n",
       "</div>"
      ],
      "text/plain": [
       "       MKT                             PROD  CP_CATEGORY CP_SHARE_BASIS  \\\n",
       "98754  BJs  POUR APC+WW | CLOROX | PINE SOL  HH CLEANERS           POUR   \n",
       "98757  BJs  POUR APC+WW | CLOROX | PINE SOL  HH CLEANERS           POUR   \n",
       "98763  BJs  POUR APC+WW | CLOROX | PINE SOL  HH CLEANERS           POUR   \n",
       "\n",
       "      CP_MANUFACTURER CP_FRANCHISE CP_BRAND CP_SUBBRAND_VARIANT  \\\n",
       "98754          CLOROX     PINE SOL                                \n",
       "98757          CLOROX     PINE SOL                                \n",
       "98763          CLOROX     PINE SOL                                \n",
       "\n",
       "                    FCT  1 w/e 03/09/19  ...  1 w/e 01/02/21  1 w/e 01/09/21  \\\n",
       "98754  %ACV Any Display          51.738  ...            0.00            0.00   \n",
       "98757  %ACV Any Feature         100.000  ...            0.00            0.00   \n",
       "98763        Baseline $       82997.520  ...       116405.85       120229.45   \n",
       "\n",
       "       1 w/e 01/16/21  1 w/e 01/23/21  1 w/e 01/30/21  1 w/e 02/06/21  \\\n",
       "98754            0.00            0.00            0.00            0.00   \n",
       "98757            0.00            0.00            0.00            0.00   \n",
       "98763       131009.82       133226.35       139602.61       132807.95   \n",
       "\n",
       "       1 w/e 02/13/21  1 w/e 02/20/21  1 w/e 02/27/21  Record_ID  \n",
       "98754             0.0            0.00            0.00          1  \n",
       "98757             0.0            0.00            0.00          2  \n",
       "98763        133685.1       133271.65       138645.68          3  \n",
       "\n",
       "[3 rows x 114 columns]"
      ]
     },
     "execution_count": 94,
     "metadata": {},
     "output_type": "execute_result"
    }
   ],
   "source": [
    "promo_franchise_bump.head(3)"
   ]
  },
  {
   "cell_type": "code",
   "execution_count": 95,
   "metadata": {},
   "outputs": [],
   "source": [
    "promo_franchise_bump.to_csv(path_HHC+\"promo_franchise_bump.csv\",index=False)"
   ]
  },
  {
   "cell_type": "markdown",
   "metadata": {},
   "source": [
    "## **promo_brand_bump**"
   ]
  },
  {
   "cell_type": "code",
   "execution_count": 96,
   "metadata": {},
   "outputs": [],
   "source": [
    "promo_brand_bump=Promo_Weekly_HHC.loc[(Promo_Weekly_HHC[\"CP_SUBBRAND_VARIANT\"]==\"\") & (Promo_Weekly_HHC[\"CP_BRAND\"]!=\"\")]"
   ]
  },
  {
   "cell_type": "code",
   "execution_count": 97,
   "metadata": {},
   "outputs": [],
   "source": [
    "promo_brand_bump[\"Record_ID\"]=range(1,len(promo_brand_bump)+1)"
   ]
  },
  {
   "cell_type": "code",
   "execution_count": 98,
   "metadata": {
    "scrolled": true
   },
   "outputs": [
    {
     "data": {
      "text/html": [
       "<div>\n",
       "<style scoped>\n",
       "    .dataframe tbody tr th:only-of-type {\n",
       "        vertical-align: middle;\n",
       "    }\n",
       "\n",
       "    .dataframe tbody tr th {\n",
       "        vertical-align: top;\n",
       "    }\n",
       "\n",
       "    .dataframe thead th {\n",
       "        text-align: right;\n",
       "    }\n",
       "</style>\n",
       "<table border=\"1\" class=\"dataframe\">\n",
       "  <thead>\n",
       "    <tr style=\"text-align: right;\">\n",
       "      <th></th>\n",
       "      <th>MKT</th>\n",
       "      <th>PROD</th>\n",
       "      <th>CP_CATEGORY</th>\n",
       "      <th>CP_SHARE_BASIS</th>\n",
       "      <th>CP_MANUFACTURER</th>\n",
       "      <th>CP_FRANCHISE</th>\n",
       "      <th>CP_BRAND</th>\n",
       "      <th>CP_SUBBRAND_VARIANT</th>\n",
       "      <th>FCT</th>\n",
       "      <th>1 w/e 03/09/19</th>\n",
       "      <th>...</th>\n",
       "      <th>1 w/e 01/02/21</th>\n",
       "      <th>1 w/e 01/09/21</th>\n",
       "      <th>1 w/e 01/16/21</th>\n",
       "      <th>1 w/e 01/23/21</th>\n",
       "      <th>1 w/e 01/30/21</th>\n",
       "      <th>1 w/e 02/06/21</th>\n",
       "      <th>1 w/e 02/13/21</th>\n",
       "      <th>1 w/e 02/20/21</th>\n",
       "      <th>1 w/e 02/27/21</th>\n",
       "      <th>Record_ID</th>\n",
       "    </tr>\n",
       "  </thead>\n",
       "  <tbody>\n",
       "    <tr>\n",
       "      <th>98774</th>\n",
       "      <td>BJs</td>\n",
       "      <td>POUR APC+WW | CLOROX | PINE SOL | PINE-SOL</td>\n",
       "      <td>HH CLEANERS</td>\n",
       "      <td>POUR</td>\n",
       "      <td>CLOROX</td>\n",
       "      <td>PINE SOL</td>\n",
       "      <td>PINE-SOL</td>\n",
       "      <td></td>\n",
       "      <td>%ACV Any Display</td>\n",
       "      <td>51.738</td>\n",
       "      <td>...</td>\n",
       "      <td>0.00</td>\n",
       "      <td>0.00</td>\n",
       "      <td>0.00</td>\n",
       "      <td>0.00</td>\n",
       "      <td>0.00</td>\n",
       "      <td>0.00</td>\n",
       "      <td>0.0</td>\n",
       "      <td>0.00</td>\n",
       "      <td>0.00</td>\n",
       "      <td>1</td>\n",
       "    </tr>\n",
       "    <tr>\n",
       "      <th>98777</th>\n",
       "      <td>BJs</td>\n",
       "      <td>POUR APC+WW | CLOROX | PINE SOL | PINE-SOL</td>\n",
       "      <td>HH CLEANERS</td>\n",
       "      <td>POUR</td>\n",
       "      <td>CLOROX</td>\n",
       "      <td>PINE SOL</td>\n",
       "      <td>PINE-SOL</td>\n",
       "      <td></td>\n",
       "      <td>%ACV Any Feature</td>\n",
       "      <td>100.000</td>\n",
       "      <td>...</td>\n",
       "      <td>0.00</td>\n",
       "      <td>0.00</td>\n",
       "      <td>0.00</td>\n",
       "      <td>0.00</td>\n",
       "      <td>0.00</td>\n",
       "      <td>0.00</td>\n",
       "      <td>0.0</td>\n",
       "      <td>0.00</td>\n",
       "      <td>0.00</td>\n",
       "      <td>2</td>\n",
       "    </tr>\n",
       "    <tr>\n",
       "      <th>98783</th>\n",
       "      <td>BJs</td>\n",
       "      <td>POUR APC+WW | CLOROX | PINE SOL | PINE-SOL</td>\n",
       "      <td>HH CLEANERS</td>\n",
       "      <td>POUR</td>\n",
       "      <td>CLOROX</td>\n",
       "      <td>PINE SOL</td>\n",
       "      <td>PINE-SOL</td>\n",
       "      <td></td>\n",
       "      <td>Baseline $</td>\n",
       "      <td>82997.520</td>\n",
       "      <td>...</td>\n",
       "      <td>116405.85</td>\n",
       "      <td>120229.45</td>\n",
       "      <td>131009.82</td>\n",
       "      <td>133226.35</td>\n",
       "      <td>139602.61</td>\n",
       "      <td>132807.95</td>\n",
       "      <td>133685.1</td>\n",
       "      <td>133271.65</td>\n",
       "      <td>138645.68</td>\n",
       "      <td>3</td>\n",
       "    </tr>\n",
       "  </tbody>\n",
       "</table>\n",
       "<p>3 rows × 114 columns</p>\n",
       "</div>"
      ],
      "text/plain": [
       "       MKT                                        PROD  CP_CATEGORY  \\\n",
       "98774  BJs  POUR APC+WW | CLOROX | PINE SOL | PINE-SOL  HH CLEANERS   \n",
       "98777  BJs  POUR APC+WW | CLOROX | PINE SOL | PINE-SOL  HH CLEANERS   \n",
       "98783  BJs  POUR APC+WW | CLOROX | PINE SOL | PINE-SOL  HH CLEANERS   \n",
       "\n",
       "      CP_SHARE_BASIS CP_MANUFACTURER CP_FRANCHISE  CP_BRAND  \\\n",
       "98774           POUR          CLOROX     PINE SOL  PINE-SOL   \n",
       "98777           POUR          CLOROX     PINE SOL  PINE-SOL   \n",
       "98783           POUR          CLOROX     PINE SOL  PINE-SOL   \n",
       "\n",
       "      CP_SUBBRAND_VARIANT               FCT  1 w/e 03/09/19  ...  \\\n",
       "98774                      %ACV Any Display          51.738  ...   \n",
       "98777                      %ACV Any Feature         100.000  ...   \n",
       "98783                            Baseline $       82997.520  ...   \n",
       "\n",
       "       1 w/e 01/02/21  1 w/e 01/09/21  1 w/e 01/16/21  1 w/e 01/23/21  \\\n",
       "98774            0.00            0.00            0.00            0.00   \n",
       "98777            0.00            0.00            0.00            0.00   \n",
       "98783       116405.85       120229.45       131009.82       133226.35   \n",
       "\n",
       "       1 w/e 01/30/21  1 w/e 02/06/21  1 w/e 02/13/21  1 w/e 02/20/21  \\\n",
       "98774            0.00            0.00             0.0            0.00   \n",
       "98777            0.00            0.00             0.0            0.00   \n",
       "98783       139602.61       132807.95        133685.1       133271.65   \n",
       "\n",
       "       1 w/e 02/27/21  Record_ID  \n",
       "98774            0.00          1  \n",
       "98777            0.00          2  \n",
       "98783       138645.68          3  \n",
       "\n",
       "[3 rows x 114 columns]"
      ]
     },
     "execution_count": 98,
     "metadata": {},
     "output_type": "execute_result"
    }
   ],
   "source": [
    "promo_brand_bump.head(3)"
   ]
  },
  {
   "cell_type": "code",
   "execution_count": 99,
   "metadata": {},
   "outputs": [],
   "source": [
    "promo_brand_bump.to_csv(path_HHC+\"promo_brand_bump.csv\",index=False)"
   ]
  },
  {
   "cell_type": "markdown",
   "metadata": {},
   "source": [
    "## **promo_subbrand_bump**"
   ]
  },
  {
   "cell_type": "code",
   "execution_count": 100,
   "metadata": {},
   "outputs": [],
   "source": [
    "promo_subbrand_bump=Promo_Weekly_HHC.loc[(Promo_Weekly_HHC[\"CP_SUBBRAND_VARIANT\"]!=\"\")]"
   ]
  },
  {
   "cell_type": "code",
   "execution_count": 101,
   "metadata": {},
   "outputs": [],
   "source": [
    "promo_subbrand_bump[\"Record_ID\"]=range(1,len(promo_subbrand_bump)+1)"
   ]
  },
  {
   "cell_type": "code",
   "execution_count": 102,
   "metadata": {
    "scrolled": false
   },
   "outputs": [
    {
     "data": {
      "text/html": [
       "<div>\n",
       "<style scoped>\n",
       "    .dataframe tbody tr th:only-of-type {\n",
       "        vertical-align: middle;\n",
       "    }\n",
       "\n",
       "    .dataframe tbody tr th {\n",
       "        vertical-align: top;\n",
       "    }\n",
       "\n",
       "    .dataframe thead th {\n",
       "        text-align: right;\n",
       "    }\n",
       "</style>\n",
       "<table border=\"1\" class=\"dataframe\">\n",
       "  <thead>\n",
       "    <tr style=\"text-align: right;\">\n",
       "      <th></th>\n",
       "      <th>MKT</th>\n",
       "      <th>PROD</th>\n",
       "      <th>CP_CATEGORY</th>\n",
       "      <th>CP_SHARE_BASIS</th>\n",
       "      <th>CP_MANUFACTURER</th>\n",
       "      <th>CP_FRANCHISE</th>\n",
       "      <th>CP_BRAND</th>\n",
       "      <th>CP_SUBBRAND_VARIANT</th>\n",
       "      <th>FCT</th>\n",
       "      <th>1 w/e 03/09/19</th>\n",
       "      <th>...</th>\n",
       "      <th>1 w/e 01/02/21</th>\n",
       "      <th>1 w/e 01/09/21</th>\n",
       "      <th>1 w/e 01/16/21</th>\n",
       "      <th>1 w/e 01/23/21</th>\n",
       "      <th>1 w/e 01/30/21</th>\n",
       "      <th>1 w/e 02/06/21</th>\n",
       "      <th>1 w/e 02/13/21</th>\n",
       "      <th>1 w/e 02/20/21</th>\n",
       "      <th>1 w/e 02/27/21</th>\n",
       "      <th>Record_ID</th>\n",
       "    </tr>\n",
       "  </thead>\n",
       "  <tbody>\n",
       "    <tr>\n",
       "      <th>98794</th>\n",
       "      <td>BJs</td>\n",
       "      <td>POUR APC+WW | CLOROX | PINE SOL | PINE-SOL | P...</td>\n",
       "      <td>HH CLEANERS</td>\n",
       "      <td>POUR</td>\n",
       "      <td>CLOROX</td>\n",
       "      <td>PINE SOL</td>\n",
       "      <td>PINE-SOL</td>\n",
       "      <td>PINE SOL LEMON</td>\n",
       "      <td>%ACV Any Display</td>\n",
       "      <td>42.07</td>\n",
       "      <td>...</td>\n",
       "      <td>0.00</td>\n",
       "      <td>0.00</td>\n",
       "      <td>0.00</td>\n",
       "      <td>0.00</td>\n",
       "      <td>0.00</td>\n",
       "      <td>0.00</td>\n",
       "      <td>0.00</td>\n",
       "      <td>0.00</td>\n",
       "      <td>0.00</td>\n",
       "      <td>1</td>\n",
       "    </tr>\n",
       "    <tr>\n",
       "      <th>98797</th>\n",
       "      <td>BJs</td>\n",
       "      <td>POUR APC+WW | CLOROX | PINE SOL | PINE-SOL | P...</td>\n",
       "      <td>HH CLEANERS</td>\n",
       "      <td>POUR</td>\n",
       "      <td>CLOROX</td>\n",
       "      <td>PINE SOL</td>\n",
       "      <td>PINE-SOL</td>\n",
       "      <td>PINE SOL LEMON</td>\n",
       "      <td>%ACV Any Feature</td>\n",
       "      <td>100.00</td>\n",
       "      <td>...</td>\n",
       "      <td>0.00</td>\n",
       "      <td>0.00</td>\n",
       "      <td>0.00</td>\n",
       "      <td>0.00</td>\n",
       "      <td>0.00</td>\n",
       "      <td>0.00</td>\n",
       "      <td>0.00</td>\n",
       "      <td>0.00</td>\n",
       "      <td>0.00</td>\n",
       "      <td>2</td>\n",
       "    </tr>\n",
       "    <tr>\n",
       "      <th>98803</th>\n",
       "      <td>BJs</td>\n",
       "      <td>POUR APC+WW | CLOROX | PINE SOL | PINE-SOL | P...</td>\n",
       "      <td>HH CLEANERS</td>\n",
       "      <td>POUR</td>\n",
       "      <td>CLOROX</td>\n",
       "      <td>PINE SOL</td>\n",
       "      <td>PINE-SOL</td>\n",
       "      <td>PINE SOL LEMON</td>\n",
       "      <td>Baseline $</td>\n",
       "      <td>44399.15</td>\n",
       "      <td>...</td>\n",
       "      <td>45790.79</td>\n",
       "      <td>48897.42</td>\n",
       "      <td>53991.56</td>\n",
       "      <td>54369.75</td>\n",
       "      <td>52018.57</td>\n",
       "      <td>49462.44</td>\n",
       "      <td>47749.23</td>\n",
       "      <td>45051.99</td>\n",
       "      <td>45331.64</td>\n",
       "      <td>3</td>\n",
       "    </tr>\n",
       "  </tbody>\n",
       "</table>\n",
       "<p>3 rows × 114 columns</p>\n",
       "</div>"
      ],
      "text/plain": [
       "       MKT                                               PROD  CP_CATEGORY  \\\n",
       "98794  BJs  POUR APC+WW | CLOROX | PINE SOL | PINE-SOL | P...  HH CLEANERS   \n",
       "98797  BJs  POUR APC+WW | CLOROX | PINE SOL | PINE-SOL | P...  HH CLEANERS   \n",
       "98803  BJs  POUR APC+WW | CLOROX | PINE SOL | PINE-SOL | P...  HH CLEANERS   \n",
       "\n",
       "      CP_SHARE_BASIS CP_MANUFACTURER CP_FRANCHISE  CP_BRAND  \\\n",
       "98794           POUR          CLOROX     PINE SOL  PINE-SOL   \n",
       "98797           POUR          CLOROX     PINE SOL  PINE-SOL   \n",
       "98803           POUR          CLOROX     PINE SOL  PINE-SOL   \n",
       "\n",
       "      CP_SUBBRAND_VARIANT               FCT  1 w/e 03/09/19  ...  \\\n",
       "98794      PINE SOL LEMON  %ACV Any Display           42.07  ...   \n",
       "98797      PINE SOL LEMON  %ACV Any Feature          100.00  ...   \n",
       "98803      PINE SOL LEMON        Baseline $        44399.15  ...   \n",
       "\n",
       "       1 w/e 01/02/21  1 w/e 01/09/21  1 w/e 01/16/21  1 w/e 01/23/21  \\\n",
       "98794            0.00            0.00            0.00            0.00   \n",
       "98797            0.00            0.00            0.00            0.00   \n",
       "98803        45790.79        48897.42        53991.56        54369.75   \n",
       "\n",
       "       1 w/e 01/30/21  1 w/e 02/06/21  1 w/e 02/13/21  1 w/e 02/20/21  \\\n",
       "98794            0.00            0.00            0.00            0.00   \n",
       "98797            0.00            0.00            0.00            0.00   \n",
       "98803        52018.57        49462.44        47749.23        45051.99   \n",
       "\n",
       "       1 w/e 02/27/21  Record_ID  \n",
       "98794            0.00          1  \n",
       "98797            0.00          2  \n",
       "98803        45331.64          3  \n",
       "\n",
       "[3 rows x 114 columns]"
      ]
     },
     "execution_count": 102,
     "metadata": {},
     "output_type": "execute_result"
    }
   ],
   "source": [
    "promo_subbrand_bump.head(3)"
   ]
  },
  {
   "cell_type": "code",
   "execution_count": 103,
   "metadata": {},
   "outputs": [],
   "source": [
    "promo_subbrand_bump.to_csv(path_HHC+\"promo_subbrand_bump.csv\",index=False)"
   ]
  },
  {
   "cell_type": "code",
   "execution_count": null,
   "metadata": {},
   "outputs": [],
   "source": []
  },
  {
   "cell_type": "code",
   "execution_count": null,
   "metadata": {},
   "outputs": [],
   "source": []
  },
  {
   "cell_type": "markdown",
   "metadata": {},
   "source": [
    "# LDL"
   ]
  },
  {
   "cell_type": "markdown",
   "metadata": {},
   "source": [
    "Assigning path of the folder where **LDL TOTAL** data files are stored"
   ]
  },
  {
   "cell_type": "code",
   "execution_count": null,
   "metadata": {},
   "outputs": [],
   "source": [
    "path = \"//falmumapp34/Nielsen Connect Transition & Maintenance (20-SCP-3650)/03. Raw Data/Connect Data/Line Weekly\"\n",
    "files = os.listdir(path)"
   ]
  },
  {
   "cell_type": "markdown",
   "metadata": {},
   "source": [
    "Selecting only **excel files** from all the files available in the above path"
   ]
  },
  {
   "cell_type": "code",
   "execution_count": null,
   "metadata": {},
   "outputs": [],
   "source": [
    "files_xls = [f for f in files if f[:3] == \"LDL\"]\n",
    "print(\"Total number of files in the folder are \",len(files_xls))"
   ]
  },
  {
   "cell_type": "code",
   "execution_count": null,
   "metadata": {},
   "outputs": [],
   "source": [
    "files_xls"
   ]
  },
  {
   "cell_type": "markdown",
   "metadata": {},
   "source": [
    "**Appending the read files in rows and storing them in a single dataframe** named ***LDL TOTAL***.\n",
    "\n",
    "Printing number of columns and number of facts in each file.\n",
    "Also checking the execution time of the code"
   ]
  },
  {
   "cell_type": "code",
   "execution_count": null,
   "metadata": {
    "scrolled": true
   },
   "outputs": [],
   "source": [
    "time_start= time.time()\n",
    "\n",
    "LDL_TOTAL= pd.DataFrame()\n",
    "\n",
    "j=0\n",
    "for f in files_xls:\n",
    "    \n",
    "    data = pd.read_excel(path+\"/\"+f)\n",
    "    print(\"\\033[1m\" + files_xls[j] + \"\\033[0m\",\":->\\n# of Facts are \",len(set(data[\"Periods\"])),\"\\t\\t # of columns are \",len(data.columns))  \n",
    "    LDL_TOTAL = pd.concat([LDL_TOTAL,data],axis=0,ignore_index=True)\n",
    "    j=j+1\n",
    "    \n",
    "time_end= time.time();\n",
    "\n",
    "print(\"execution time is \", time_end-time_start)"
   ]
  },
  {
   "cell_type": "code",
   "execution_count": null,
   "metadata": {},
   "outputs": [],
   "source": [
    "# Relaceing in Periods(Facts)\n",
    "LDL_TOTAL[\"Periods\"]=LDL_TOTAL[\"Periods\"].str.replace(\"$\",\"temp\")\n",
    "LDL_TOTAL[\"Periods\"]=LDL_TOTAL[\"Periods\"].str.replace(\"- temp -\",\"-\")\n",
    "LDL_TOTAL[\"Periods\"]=LDL_TOTAL[\"Periods\"].str.replace(\"temp\",\"$\")\n",
    "\n",
    "\n",
    "LDL_TOTAL[\"Periods\"]=LDL_TOTAL[\"Periods\"].str.replace(\"CP FORM\",\"CP CATEGORY\")\n",
    "LDL_TOTAL[\"Periods\"]=LDL_TOTAL[\"Periods\"].str.replace(\"CP USE\",\"CP CATEGORY\")\n",
    "LDL_TOTAL[\"Periods\"]=LDL_TOTAL[\"Periods\"].str.replace(\"CP LDL AND FOAM\",\"CP CATEGORY\")\n",
    "\n",
    "LDL_TOTAL[\"Periods\"]=LDL_TOTAL[\"Periods\"].str.replace(\"CP LDL AND FM X DISHAIDS/WPS/SPR\",\"CP CATEGORY\")\n",
    "\n",
    "LDL_TOTAL[\"Periods\"]=LDL_TOTAL[\"Periods\"].str.replace(\"CP MEGA CATEGORY\",\"CP CATEGORY\")\n",
    "LDL_TOTAL[\"Periods\"]=LDL_TOTAL[\"Periods\"].str.replace(\"CP BATTERY AND HYBRID\",\"CP CATEGORY\")\n",
    "\n",
    "\n",
    "# Market name replaced\n",
    "LDL_TOTAL[\"Markets\"]=LDL_TOTAL[\"Markets\"].str.replace(\"Walgreens Corp Total TA\",\"Walgreens Total TA\")"
   ]
  },
  {
   "cell_type": "code",
   "execution_count": null,
   "metadata": {
    "scrolled": true
   },
   "outputs": [],
   "source": [
    "LDL_TOTAL.head(3)"
   ]
  },
  {
   "cell_type": "code",
   "execution_count": null,
   "metadata": {},
   "outputs": [],
   "source": [
    "LDL_TOTAL.shape"
   ]
  },
  {
   "cell_type": "code",
   "execution_count": null,
   "metadata": {},
   "outputs": [],
   "source": [
    "LDL_TOTAL.info()"
   ]
  },
  {
   "cell_type": "markdown",
   "metadata": {},
   "source": [
    "**Renaming \"Periods\"** column name **to \"Facts\"**"
   ]
  },
  {
   "cell_type": "code",
   "execution_count": null,
   "metadata": {},
   "outputs": [],
   "source": [
    "LDL_TOTAL.rename(columns={\"Periods\":\"Facts\"},inplace=True)"
   ]
  },
  {
   "cell_type": "code",
   "execution_count": null,
   "metadata": {},
   "outputs": [],
   "source": [
    "set(LDL_TOTAL[\"Facts\"])"
   ]
  },
  {
   "cell_type": "markdown",
   "metadata": {},
   "source": [
    "**Splitting \"Products\" column**\n",
    "\n",
    "Creating 5 new columns **\"ShareBasis\",\"Manufacturer\",\"Franchise\",\"Brand\",\"SubBrand\"** from **\"Products\"** column by splitting "
   ]
  },
  {
   "cell_type": "code",
   "execution_count": null,
   "metadata": {
    "scrolled": true
   },
   "outputs": [],
   "source": [
    "LDL_TOTAL[['ShareBasis','Manufacturer','Franchise','Brand']] = LDL_TOTAL['Products'].str.split('|',n=3,expand=True)\n",
    "LDL_TOTAL.head(3)"
   ]
  },
  {
   "cell_type": "markdown",
   "metadata": {},
   "source": [
    "***movecol*** function to **rearranging** the columns of a dataframe"
   ]
  },
  {
   "cell_type": "code",
   "execution_count": null,
   "metadata": {},
   "outputs": [],
   "source": [
    "def movecol(df, cols_to_move=[], ref_col='', place=''):\n",
    "    cols = df.columns.tolist()\n",
    "    if place == 'After':\n",
    "        seg1 = cols[:list(cols).index(ref_col) + 1]\n",
    "        seg2 = cols_to_move\n",
    "    if place == 'Before':\n",
    "        seg1 = cols[:list(cols).index(ref_col)]\n",
    "        seg2 = cols_to_move + [ref_col]\n",
    "    seg1 = [i for i in seg1 if i not in seg2]\n",
    "    seg3 = [i for i in cols if i not in seg1 + seg2]\n",
    "    \n",
    "    return(df[seg1 + seg2 + seg3])"
   ]
  },
  {
   "cell_type": "code",
   "execution_count": null,
   "metadata": {
    "scrolled": true
   },
   "outputs": [],
   "source": [
    "# Moving columns after \"Market\"\n",
    "LDL_TOTAL = movecol(LDL_TOTAL, \n",
    "             cols_to_move=['ShareBasis','Manufacturer','Franchise','Brand'], \n",
    "             ref_col='Markets',\n",
    "             place='After')\n",
    "LDL_TOTAL.head(3)"
   ]
  },
  {
   "cell_type": "markdown",
   "metadata": {},
   "source": [
    "**Replacing all the None values** in columns **\"ShareBasis\",\"Manufacturer\",\"Franchise\",\"Brand\",\"SubBrand\"**"
   ]
  },
  {
   "cell_type": "code",
   "execution_count": null,
   "metadata": {},
   "outputs": [],
   "source": [
    "LDL_TOTAL[[\"ShareBasis\",\"Manufacturer\",\"Franchise\",\"Brand\"]]=LDL_TOTAL[[\"ShareBasis\",\"Manufacturer\",\"Franchise\",\"Brand\"]].fillna(value=\"\")\n",
    "LDL_TOTAL.head(3)"
   ]
  },
  {
   "cell_type": "code",
   "execution_count": null,
   "metadata": {},
   "outputs": [],
   "source": [
    "# adding a \"KEY\" column\n",
    "LDL_TOTAL[\"Key\"]=LDL_TOTAL[\"Markets\"]+LDL_TOTAL[\"Products\"]+LDL_TOTAL[\"Facts\"]"
   ]
  },
  {
   "cell_type": "code",
   "execution_count": null,
   "metadata": {
    "scrolled": true
   },
   "outputs": [],
   "source": [
    "# moving \"KEY\" column to start of the column\n",
    "LDL_TOTAL = movecol(LDL_TOTAL, \n",
    "             cols_to_move=['Key'], \n",
    "             ref_col='Markets',\n",
    "             place='Before')\n",
    "LDL_TOTAL.head(3)"
   ]
  },
  {
   "cell_type": "code",
   "execution_count": null,
   "metadata": {},
   "outputs": [],
   "source": [
    "LDL_TOTAL.shape"
   ]
  },
  {
   "cell_type": "markdown",
   "metadata": {},
   "source": [
    "**Strip Columns**\n",
    "\n",
    "Strip starting 8 columns "
   ]
  },
  {
   "cell_type": "code",
   "execution_count": null,
   "metadata": {},
   "outputs": [],
   "source": [
    "cols=list(LDL_TOTAL.columns[0:8])"
   ]
  },
  {
   "cell_type": "code",
   "execution_count": null,
   "metadata": {},
   "outputs": [],
   "source": [
    "LDL_TOTAL[cols]=LDL_TOTAL[cols].apply(lambda x : x.str.strip())"
   ]
  },
  {
   "cell_type": "code",
   "execution_count": null,
   "metadata": {},
   "outputs": [],
   "source": []
  },
  {
   "cell_type": "markdown",
   "metadata": {},
   "source": [
    "**Need Franchise LEVEL**"
   ]
  },
  {
   "cell_type": "code",
   "execution_count": null,
   "metadata": {},
   "outputs": [],
   "source": [
    "LDL_TOTAL=LDL_TOTAL[LDL_TOTAL[\"Manufacturer\"] !=\"\"]"
   ]
  },
  {
   "cell_type": "code",
   "execution_count": null,
   "metadata": {},
   "outputs": [],
   "source": [
    "LDL_TOTAL[\"CP_CONCENTRATION\"]=\"TOTAL (REGULAR+ULTRA+NA)\"\n",
    "LDL_TOTAL[\"Category\"]=\"LDL\""
   ]
  },
  {
   "cell_type": "code",
   "execution_count": null,
   "metadata": {},
   "outputs": [],
   "source": [
    "LDL_TOTAL.columns"
   ]
  },
  {
   "cell_type": "code",
   "execution_count": null,
   "metadata": {},
   "outputs": [],
   "source": [
    "LDL_TOTAL.rename(columns={\"Markets\":\"MKT\",\"Products\":\"PROD\",\"Manufacturer\":\"CP_MANUFACTURER\",\n",
    "                                \"Franchise\":\"CP_FRANCHISE\",\"Brand\":\"CP_BRAND\",\n",
    "                         \"ShareBasis\":\"CP_MEGA_CATEGORY\", \"Facts\":\"FCT\"},inplace=True)"
   ]
  },
  {
   "cell_type": "markdown",
   "metadata": {},
   "source": [
    "**Period & Market Mapping**"
   ]
  },
  {
   "cell_type": "code",
   "execution_count": null,
   "metadata": {},
   "outputs": [],
   "source": [
    "# Market_Mapping={\n",
    "    \n",
    "#      'ALBSCO Total Company TA':'Alb/Sfy',\n",
    "#      'Agency Grocery':'Agency Grocery',\n",
    "#      'Ahold USA Corp Total TA':\"Ahold\",\n",
    "#      'BJs Total TA':\"BJs\",\n",
    "#      'CLUB':\"CLUB\",\n",
    "#      'CVS Total Corp WO HI TA':\"CVS\",\n",
    "#      'Dol Gen Total TA':\"Dollar General\",\n",
    "#      'FDM':\"FDM\",\n",
    "#      'Family Dollar Total TA':\"Family Dollar\",\n",
    "#      'Fiesta Total TA':\"Fiesta\",\n",
    "#      'Giant Eagle Total TA':\"Giant Eagle\",\n",
    "#      'Kmart Total TA':\"Kmart\",\n",
    "#      'Meijer Total TA':\"Meijer\",\n",
    "#      'Publix Total TA':\"Publix\",\n",
    "#      'Rite Aid - Corp Total TA':\"Rite Aid\",\n",
    "#      \"Sam's Total TA\":\"Sams\",\n",
    "#      'ShopRite Total TA':\"Shoprite\",\n",
    "#      'Strategic Grocery':\"Strategic Grocery\",\n",
    "#      'TOTAL MASS':\"TOTAL MASS\",\n",
    "#      'Target Total BM/FF TA':\"Target\",\n",
    "#      'Total US Drug':\"US Drug\",\n",
    "#      'Total US Food':\"US Food\",\n",
    "#      'Total US xAOC':\"US AOC\",\n",
    "#      'VDC':\"VDC\",\n",
    "#      'Walgreens Total TA':\"Walgreens\",\n",
    "#      'Walmart Total US TA':\"Walmart\",\n",
    "#      'Wegmans Total TA':\"Wegmans\",\n",
    "#     \"EL SUPER TOTAL TA\" : \"El Super\"\n",
    "#     }"
   ]
  },
  {
   "cell_type": "code",
   "execution_count": null,
   "metadata": {},
   "outputs": [],
   "source": [
    "#LDL_TOTAL.rename(columns=Time_Mapping,inplace=True)\n",
    "# LDL_TOTAL[\"MKT\"].replace(Market_Mapping,inplace=True)"
   ]
  },
  {
   "cell_type": "code",
   "execution_count": null,
   "metadata": {},
   "outputs": [],
   "source": [
    "set(LDL_TOTAL[\"MKT\"])"
   ]
  },
  {
   "cell_type": "markdown",
   "metadata": {},
   "source": [
    "### LDL without Total"
   ]
  },
  {
   "cell_type": "code",
   "execution_count": null,
   "metadata": {},
   "outputs": [],
   "source": []
  },
  {
   "cell_type": "code",
   "execution_count": null,
   "metadata": {},
   "outputs": [],
   "source": [
    "Promo_Weekly=Line_Weekly_filter.copy()"
   ]
  },
  {
   "cell_type": "code",
   "execution_count": null,
   "metadata": {},
   "outputs": [],
   "source": [
    "Promo_Weekly= Promo_Weekly[Promo_Weekly[\"Category\"]==\"LDL\"]"
   ]
  },
  {
   "cell_type": "code",
   "execution_count": null,
   "metadata": {},
   "outputs": [],
   "source": [
    "set(Promo_Weekly[\"ShareBasis\"])"
   ]
  },
  {
   "cell_type": "code",
   "execution_count": null,
   "metadata": {},
   "outputs": [],
   "source": [
    "Promo_Weekly = Promo_Weekly[Promo_Weekly[\"ShareBasis\"]==\"LDL/DISHAIDS/WPS/FM/SPRAYS\"]"
   ]
  },
  {
   "cell_type": "code",
   "execution_count": null,
   "metadata": {},
   "outputs": [],
   "source": [
    "Promo_Weekly.rename(columns={\"Markets\":\"MKT\",\"ShareBasis\":\"CP_MEGA_CATEGORY\",\"Products\":\"PROD\",\"Manufacturer\":\"CP_MANUFACTURER\",\n",
    "                                \"Franchise\":\"CP_CONCENTRATION\",\"Brand\":\"CP_FRANCHISE\",\"SubBrand\":\"CP_BRAND\",\"Facts\":\"FCT\"},inplace=True)"
   ]
  },
  {
   "cell_type": "code",
   "execution_count": null,
   "metadata": {},
   "outputs": [],
   "source": [
    "np.sort(list(LDL_TOTAL.columns))==np.sort(list(Promo_Weekly.columns))"
   ]
  },
  {
   "cell_type": "markdown",
   "metadata": {},
   "source": [
    "**Concatting LDL Data**"
   ]
  },
  {
   "cell_type": "code",
   "execution_count": null,
   "metadata": {},
   "outputs": [],
   "source": [
    "Promo_Weekly_LDL_All=pd.concat([Promo_Weekly,LDL_TOTAL],axis=0,ignore_index=True)"
   ]
  },
  {
   "cell_type": "code",
   "execution_count": null,
   "metadata": {},
   "outputs": [],
   "source": [
    "set(Promo_Weekly_LDL_All[\"CP_CONCENTRATION\"])"
   ]
  },
  {
   "cell_type": "code",
   "execution_count": null,
   "metadata": {},
   "outputs": [],
   "source": [
    "Promo_Weekly_LDL_All[\"CP_MEGA_CATEGORY\"].replace({\"LDL+FOAM\" : \"LDL/DISHAIDS/WPS/FM\"}, inplace = True)"
   ]
  },
  {
   "cell_type": "markdown",
   "metadata": {},
   "source": [
    "**path for 5p output data**"
   ]
  },
  {
   "cell_type": "code",
   "execution_count": null,
   "metadata": {},
   "outputs": [],
   "source": [
    "path_LDL=\"//falmumapp34/Nielsen Connect Transition & Maintenance (20-SCP-3650)/05. Output Data/5P Output/LDL/\""
   ]
  },
  {
   "cell_type": "markdown",
   "metadata": {},
   "source": [
    "## Promotion"
   ]
  },
  {
   "cell_type": "markdown",
   "metadata": {},
   "source": [
    "### Promo Weekly"
   ]
  },
  {
   "cell_type": "code",
   "execution_count": null,
   "metadata": {},
   "outputs": [],
   "source": [
    "Promo_Weekly_LDL = Promo_Weekly_LDL_All"
   ]
  },
  {
   "cell_type": "code",
   "execution_count": null,
   "metadata": {},
   "outputs": [],
   "source": [
    "set(Promo_Weekly_LDL[\"CP_CONCENTRATION\"])"
   ]
  },
  {
   "cell_type": "code",
   "execution_count": null,
   "metadata": {},
   "outputs": [],
   "source": [
    "Promo_Weekly_LDL.columns"
   ]
  },
  {
   "cell_type": "code",
   "execution_count": null,
   "metadata": {},
   "outputs": [],
   "source": [
    "del Promo_Weekly_LDL[\"Key\"]"
   ]
  },
  {
   "cell_type": "code",
   "execution_count": null,
   "metadata": {
    "scrolled": true
   },
   "outputs": [],
   "source": [
    "Promo_Weekly_LDL.head()"
   ]
  },
  {
   "cell_type": "code",
   "execution_count": null,
   "metadata": {},
   "outputs": [],
   "source": [
    "set(Promo_Weekly_LDL[\"CP_MEGA_CATEGORY\"])"
   ]
  },
  {
   "cell_type": "markdown",
   "metadata": {},
   "source": [
    "**Facts, Markets, ShareBasis and TimePeriod Selection**"
   ]
  },
  {
   "cell_type": "code",
   "execution_count": null,
   "metadata": {},
   "outputs": [],
   "source": [
    "Facts=[\"Any Disp %ACV\",\"Any Feat %ACV\",\"Base $\",\"Base $ Shr - CP CATEGORY\",\"Incr $\",\"Incr $ Shr - CP CATEGORY\",\"Avg EQ Price\"]\n",
    "\n",
    "Markets=[\"ALBSCO Total Company TA\",\"Ahold USA Corp Total TA\",\"BJs Total TA\",\"CVS Total Corp WO HI TA\",\"Dol Gen Total TA\",\"Family Dollar Total TA\",\n",
    "        \"Meijer Total TA\",\"Publix Total TA\",\"Rite Aid - Corp Total TA\",\"Sam's Total TA\",\"ShopRite Total TA\",\"Kmart Total TA\",\n",
    "        \"Target Total BM/FF TA\",'Total US Drug','Total US Food','Total US xAOC',\"Walgreens Total TA\",\"Walmart Total US TA\"]\n",
    "\n",
    "ShareBasis=[\"LDL/DISHAIDS/WPS/FM/SPRAYS\"]\n",
    "\n",
    "# Time_Period should be in the below order only\n",
    "Time_Period=list(Promo_Weekly_LDL.columns[0:1])+list(Promo_Weekly_LDL.columns[7:8])+list(Promo_Weekly_LDL.columns[1:7])+list(Promo_Weekly_LDL.columns[8:9])+list(Promo_Weekly_LDL.columns[-104:])\n",
    "print(Time_Period)"
   ]
  },
  {
   "cell_type": "code",
   "execution_count": null,
   "metadata": {},
   "outputs": [],
   "source": [
    "set(Promo_Weekly_LDL[\"CP_CONCENTRATION\"])"
   ]
  },
  {
   "cell_type": "code",
   "execution_count": null,
   "metadata": {},
   "outputs": [],
   "source": [
    "# Filter Data based on above selection\n",
    "Promo_Weekly_LDL= Promo_Weekly_LDL[Promo_Weekly_LDL[\"FCT\"].isin(Facts)]\n",
    "Promo_Weekly_LDL= Promo_Weekly_LDL[Promo_Weekly_LDL[\"MKT\"].isin(Markets)]\n",
    "Promo_Weekly_LDL= Promo_Weekly_LDL[Promo_Weekly_LDL[\"CP_MEGA_CATEGORY\"].isin(ShareBasis)]\n",
    "Promo_Weekly_LDL=Promo_Weekly_LDL[Time_Period]"
   ]
  },
  {
   "cell_type": "code",
   "execution_count": null,
   "metadata": {},
   "outputs": [],
   "source": [
    "set(Promo_Weekly_LDL[\"CP_CONCENTRATION\"])"
   ]
  },
  {
   "cell_type": "code",
   "execution_count": null,
   "metadata": {
    "scrolled": true
   },
   "outputs": [],
   "source": [
    "Promo_Weekly_LDL.head(2)"
   ]
  },
  {
   "cell_type": "code",
   "execution_count": null,
   "metadata": {},
   "outputs": [],
   "source": [
    "set(Promo_Weekly_LDL[\"CP_CONCENTRATION\"])"
   ]
  },
  {
   "cell_type": "code",
   "execution_count": null,
   "metadata": {},
   "outputs": [],
   "source": [
    "set(Promo_Weekly_LDL[\"PROD\"])"
   ]
  },
  {
   "cell_type": "markdown",
   "metadata": {},
   "source": [
    "**Column name Change**"
   ]
  },
  {
   "cell_type": "markdown",
   "metadata": {},
   "source": [
    "**Fact Name Change**"
   ]
  },
  {
   "cell_type": "code",
   "execution_count": null,
   "metadata": {},
   "outputs": [],
   "source": [
    "Fact_Mapping={\n",
    "    \"Any Disp %ACV\":\"%ACV Any Display\",\n",
    "    \"Any Feat %ACV\":\"%ACV Any Feature\",\n",
    "    \"Base $\":\"Baseline $\",\n",
    "    \"Base $ Shr - CP CATEGORY\":\"Baseline $ Share\",\n",
    "    \"Incr $\":\"Incr.$\",\n",
    "    \"Incr $ Shr - CP CATEGORY\":\"Incr.$ Share\",\n",
    "    \"Avg EQ Price\":\"RASP per Case\"\n",
    "\n",
    "}"
   ]
  },
  {
   "cell_type": "code",
   "execution_count": null,
   "metadata": {},
   "outputs": [],
   "source": [
    "Promo_Weekly_LDL[\"FCT\"].replace(Fact_Mapping,inplace=True)"
   ]
  },
  {
   "cell_type": "markdown",
   "metadata": {},
   "source": [
    "**Market Name Change**"
   ]
  },
  {
   "cell_type": "code",
   "execution_count": null,
   "metadata": {},
   "outputs": [],
   "source": [
    "Market_Mapping={\n",
    "    \"ALBSCO Total Company TA\":\"Alb/Sfy\",\n",
    "    \"Ahold USA Corp Total TA\":\"Ahold\",\n",
    "    \"BJs Total TA\":\"BJs\",\n",
    "    \"CVS Total Corp WO HI TA\":\"CVS\",\n",
    "    \"Dol Gen Total TA\":\"Dollar General\",\n",
    "    \"Family Dollar Total TA\":\"Family Dollar\",\n",
    "    \"Meijer Total TA\":\"Meijer\",\n",
    "    \"Publix Total TA\":\"Publix\",\n",
    "    \"Rite Aid - Corp Total TA\":\"Rite Aid\",\n",
    "    \"Sam's Total TA\":\"Sams\",\n",
    "    \"ShopRite Total TA\":\"Shoprite\",\n",
    "    \"Target Total BM/FF TA\":\"Target\",\n",
    "    'Total US Drug':\"US Drug\",\n",
    "    'Total US Food':\"US Food\",\n",
    "    'Total US xAOC':\"US AOC\",\n",
    "    \"Walgreens Total TA\":\"Walgreens\",\n",
    "    \"Walmart Total US TA\":\"Walmart\",\n",
    "    'Kmart Total TA':\"Kmart\"\n",
    "}"
   ]
  },
  {
   "cell_type": "code",
   "execution_count": null,
   "metadata": {},
   "outputs": [],
   "source": [
    "Promo_Weekly_LDL[\"MKT\"].replace(Market_Mapping,inplace=True)"
   ]
  },
  {
   "cell_type": "code",
   "execution_count": null,
   "metadata": {},
   "outputs": [],
   "source": [
    "del Promo_Weekly_LDL[\"Category\"]"
   ]
  },
  {
   "cell_type": "code",
   "execution_count": null,
   "metadata": {},
   "outputs": [],
   "source": [
    "Promo_Weekly_LDL.columns"
   ]
  },
  {
   "cell_type": "code",
   "execution_count": null,
   "metadata": {},
   "outputs": [],
   "source": [
    "Promo_Weekly_LDL = movecol(Promo_Weekly_LDL, \n",
    "             cols_to_move=[\"CP_CONCENTRATION\"], \n",
    "             ref_col='CP_MANUFACTURER',\n",
    "             place='Before')\n",
    "Promo_Weekly_LDL.head(3)"
   ]
  },
  {
   "cell_type": "code",
   "execution_count": null,
   "metadata": {
    "scrolled": true
   },
   "outputs": [],
   "source": [
    "Promo_Weekly_LDL.head(3)"
   ]
  },
  {
   "cell_type": "code",
   "execution_count": null,
   "metadata": {},
   "outputs": [],
   "source": [
    "Fact_order = CategoricalDtype(\n",
    "    sorted(list(set(Promo_Weekly_LDL[\"FCT\"]))), \n",
    "    ordered=True\n",
    ")\n",
    "\n",
    "Promo_Weekly_LDL['FCT'] = Promo_Weekly_LDL['FCT'].astype(Fact_order)\n",
    "\n",
    "Promo_Weekly_LDL.sort_values(['MKT','PROD','FCT'],inplace=True)"
   ]
  },
  {
   "cell_type": "code",
   "execution_count": null,
   "metadata": {},
   "outputs": [],
   "source": [
    "Promo_Weekly_LDL = Promo_Weekly_LDL[Promo_Weekly_LDL[\"CP_CONCENTRATION\"].isin([\"REGULAR\", \"ULTRA\",\"\",\"TOTAL (REGULAR+ULTRA+NA)\"])]"
   ]
  },
  {
   "cell_type": "code",
   "execution_count": null,
   "metadata": {},
   "outputs": [],
   "source": [
    "Promo_Weekly_LDL[\"Frn\"]=\"\"\n",
    "for i in range(0,len(Promo_Weekly_LDL)):\n",
    "    if Promo_Weekly_LDL[\"CP_FRANCHISE\"].iloc[i]==\"\":\n",
    "        Promo_Weekly_LDL[\"Frn\"].iloc[i]=Promo_Weekly_LDL[\"CP_FRANCHISE\"].iloc[i]\n",
    "        \n",
    "    elif (Promo_Weekly_LDL[\"CP_CONCENTRATION\"].iloc[i]==\"TOTAL (REGULAR+ULTRA+NA)\"):\n",
    "        Promo_Weekly_LDL[\"Frn\"].iloc[i]=Promo_Weekly_LDL[\"CP_FRANCHISE\"].iloc[i]\n",
    "    \n",
    "    elif (Promo_Weekly_LDL[\"CP_CONCENTRATION\"].iloc[i]==\"REGULAR\") or (Promo_Weekly_LDL[\"CP_CONCENTRATION\"].iloc[i]==\"ULTRA\") :\n",
    "        Promo_Weekly_LDL[\"Frn\"].iloc[i]=Promo_Weekly_LDL[\"CP_FRANCHISE\"].iloc[i]+\" \" +Promo_Weekly_LDL[\"CP_CONCENTRATION\"].iloc[i]\n"
   ]
  },
  {
   "cell_type": "code",
   "execution_count": null,
   "metadata": {},
   "outputs": [],
   "source": [
    "Promo_Weekly_LDL[\"Brn\"]=\"\"\n",
    "for i in range(0,len(Promo_Weekly_LDL)):\n",
    "    if Promo_Weekly_LDL[\"CP_BRAND\"].iloc[i]==\"\":\n",
    "        Promo_Weekly_LDL[\"Brn\"].iloc[i]=Promo_Weekly_LDL[\"CP_BRAND\"].iloc[i]\n",
    "        \n",
    "    elif (Promo_Weekly_LDL[\"CP_CONCENTRATION\"].iloc[i]==\"TOTAL (REGULAR+ULTRA+NA)\"):\n",
    "        Promo_Weekly_LDL[\"Brn\"].iloc[i]=Promo_Weekly_LDL[\"CP_BRAND\"].iloc[i]\n",
    "    \n",
    "    elif (Promo_Weekly_LDL[\"CP_CONCENTRATION\"].iloc[i]==\"REGULAR\") or (Promo_Weekly_LDL[\"CP_CONCENTRATION\"].iloc[i]==\"ULTRA\") :\n",
    "        Promo_Weekly_LDL[\"Brn\"].iloc[i]=Promo_Weekly_LDL[\"CP_BRAND\"].iloc[i]+\" \" +Promo_Weekly_LDL[\"CP_CONCENTRATION\"].iloc[i]"
   ]
  },
  {
   "cell_type": "code",
   "execution_count": null,
   "metadata": {},
   "outputs": [],
   "source": [
    "Promo_Weekly_LDL[\"CP_FRANCHISE\"]=Promo_Weekly_LDL[\"Frn\"]\n",
    "Promo_Weekly_LDL[\"CP_BRAND\"]=Promo_Weekly_LDL[\"Brn\"]"
   ]
  },
  {
   "cell_type": "code",
   "execution_count": null,
   "metadata": {},
   "outputs": [],
   "source": [
    "del Promo_Weekly_LDL[\"Frn\"]\n",
    "del Promo_Weekly_LDL[\"Brn\"]"
   ]
  },
  {
   "cell_type": "code",
   "execution_count": null,
   "metadata": {
    "scrolled": true
   },
   "outputs": [],
   "source": [
    "set(Promo_Weekly_LDL[\"CP_CONCENTRATION\"])"
   ]
  },
  {
   "cell_type": "markdown",
   "metadata": {},
   "source": [
    "## **promo_manufacturer_bump**"
   ]
  },
  {
   "cell_type": "code",
   "execution_count": null,
   "metadata": {},
   "outputs": [],
   "source": [
    "promo_manufacturer_bump=Promo_Weekly_LDL.loc[(Promo_Weekly_LDL[\"CP_BRAND\"]==\"\")&(Promo_Weekly_LDL[\"CP_FRANCHISE\"]==\"\")&(Promo_Weekly_LDL[\"CP_CONCENTRATION\"]==\"\")&(Promo_Weekly_LDL[\"CP_MANUFACTURER\"]!=\"\")]"
   ]
  },
  {
   "cell_type": "code",
   "execution_count": null,
   "metadata": {},
   "outputs": [],
   "source": [
    "promo_manufacturer_bump[\"Record_ID\"]=range(1,len(promo_manufacturer_bump)+1)"
   ]
  },
  {
   "cell_type": "code",
   "execution_count": null,
   "metadata": {
    "scrolled": true
   },
   "outputs": [],
   "source": [
    "promo_manufacturer_bump.head(3)"
   ]
  },
  {
   "cell_type": "code",
   "execution_count": null,
   "metadata": {},
   "outputs": [],
   "source": [
    "promo_manufacturer_bump.to_csv(path_LDL+\"promo_manufacturer_bump.csv\",index=False)"
   ]
  },
  {
   "cell_type": "markdown",
   "metadata": {},
   "source": [
    "## **promo_franchise_bump**"
   ]
  },
  {
   "cell_type": "code",
   "execution_count": null,
   "metadata": {},
   "outputs": [],
   "source": [
    "promo_franchise_bump=Promo_Weekly_LDL.loc[(Promo_Weekly_LDL[\"CP_BRAND\"]==\"\")&(Promo_Weekly_LDL[\"CP_FRANCHISE\"]!=\"\")&(Promo_Weekly_LDL[\"CP_CONCENTRATION\"]!=\"\")]"
   ]
  },
  {
   "cell_type": "code",
   "execution_count": null,
   "metadata": {},
   "outputs": [],
   "source": [
    "promo_franchise_bump[\"Record_ID\"]=range(1,len(promo_franchise_bump)+1)"
   ]
  },
  {
   "cell_type": "code",
   "execution_count": null,
   "metadata": {},
   "outputs": [],
   "source": [
    "promo_franchise_bump.head(3)"
   ]
  },
  {
   "cell_type": "code",
   "execution_count": null,
   "metadata": {},
   "outputs": [],
   "source": [
    "promo_franchise_bump.to_csv(path_LDL+\"promo_franchise_bump.csv\",index=False)"
   ]
  },
  {
   "cell_type": "markdown",
   "metadata": {},
   "source": [
    "## **promo_brand_bump**"
   ]
  },
  {
   "cell_type": "code",
   "execution_count": null,
   "metadata": {},
   "outputs": [],
   "source": [
    "promo_brand_bump=Promo_Weekly_LDL.loc[(Promo_Weekly_LDL[\"CP_BRAND\"]!=\"\")]"
   ]
  },
  {
   "cell_type": "code",
   "execution_count": null,
   "metadata": {},
   "outputs": [],
   "source": [
    "promo_brand_bump[\"Record_ID\"]=range(1,len(promo_brand_bump)+1)"
   ]
  },
  {
   "cell_type": "code",
   "execution_count": null,
   "metadata": {},
   "outputs": [],
   "source": [
    "promo_brand_bump.head(3)"
   ]
  },
  {
   "cell_type": "code",
   "execution_count": null,
   "metadata": {},
   "outputs": [],
   "source": [
    "promo_brand_bump.to_csv(path_LDL+\"promo_brand_bump.csv\",index=False)"
   ]
  },
  {
   "cell_type": "code",
   "execution_count": null,
   "metadata": {},
   "outputs": [],
   "source": []
  }
 ],
 "metadata": {
  "kernelspec": {
   "display_name": "Python 3",
   "language": "python",
   "name": "python3"
  },
  "language_info": {
   "codemirror_mode": {
    "name": "ipython",
    "version": 3
   },
   "file_extension": ".py",
   "mimetype": "text/x-python",
   "name": "python",
   "nbconvert_exporter": "python",
   "pygments_lexer": "ipython3",
   "version": "3.7.6"
  }
 },
 "nbformat": 4,
 "nbformat_minor": 4
}
