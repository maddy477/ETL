{
 "cells": [
  {
   "cell_type": "code",
   "execution_count": 1,
   "metadata": {},
   "outputs": [],
   "source": [
    "import pandas as pd;\n",
    "import numpy as np;\n",
    "import os;\n",
    "import time;\n",
    "import datetime;\n",
    "import warnings;\n",
    "warnings.filterwarnings('ignore');"
   ]
  },
  {
   "cell_type": "code",
   "execution_count": 2,
   "metadata": {},
   "outputs": [],
   "source": [
    "path = \"//falmumapp34/Nielsen Connect Transition & Maintenance (20-SCP-3650)/04. Executive Toolkits/Quarterly Summary/Data Files\"\n",
    "files = os.listdir(path)"
   ]
  },
  {
   "cell_type": "code",
   "execution_count": 3,
   "metadata": {},
   "outputs": [
    {
     "name": "stdout",
     "output_type": "stream",
     "text": [
      "Total number of files in the folder are  13\n"
     ]
    }
   ],
   "source": [
    "files_xls=[f for f in files if (f[0:9]==\"Quarterly\")]\n",
    "print(\"Total number of files in the folder are \",len(files_xls))"
   ]
  },
  {
   "cell_type": "code",
   "execution_count": 4,
   "metadata": {},
   "outputs": [
    {
     "data": {
      "text/plain": [
       "['Quarterly_ADD.xlsx',\n",
       " 'Quarterly_Bar.xlsx',\n",
       " 'Quarterly_BW.xlsx',\n",
       " 'Quarterly_FS_Category.xlsx',\n",
       " 'Quarterly_FS_MegaCategory.xlsx',\n",
       " 'Quarterly_HHC.xlsx',\n",
       " 'Quarterly_LDL.xlsx',\n",
       " 'Quarterly_LHS.xlsx',\n",
       " 'Quarterly_Manual.xlsx',\n",
       " 'Quarterly_MW.xlsx',\n",
       " 'Quarterly_PTB.xlsx',\n",
       " 'Quarterly_TP.xlsx',\n",
       " 'Quarterly_UAP.xlsx']"
      ]
     },
     "execution_count": 4,
     "metadata": {},
     "output_type": "execute_result"
    }
   ],
   "source": [
    "files_xls"
   ]
  },
  {
   "cell_type": "markdown",
   "metadata": {},
   "source": [
    "**Appending the read files in rows and storing them in a single dataframe** named ***UPC_Monthly***.\n",
    "\n",
    "Printing number of columns and number of facts in each file.\n",
    "Also checking the execution time of the code"
   ]
  },
  {
   "cell_type": "code",
   "execution_count": 5,
   "metadata": {},
   "outputs": [
    {
     "name": "stdout",
     "output_type": "stream",
     "text": [
      "3\n",
      "19\n"
     ]
    }
   ],
   "source": [
    "now=datetime.datetime.now()\n",
    "delay= datetime.timedelta(days=20)\n",
    "a= now - delay\n",
    "month_number=a.month\n",
    "year=str(a.year-2)[-2:]\n",
    "print(month_number)\n",
    "print(year)"
   ]
  },
  {
   "cell_type": "code",
   "execution_count": 6,
   "metadata": {
    "scrolled": true
   },
   "outputs": [
    {
     "name": "stdout",
     "output_type": "stream",
     "text": [
      "\u001b[1mQuarterly_ADD.xlsx\u001b[0m :->\n",
      "# of Facts are  3 \t\t # of columns are  9\n",
      "\u001b[1mQuarterly_Bar.xlsx\u001b[0m :->\n",
      "# of Facts are  3 \t\t # of columns are  9\n",
      "\u001b[1mQuarterly_BW.xlsx\u001b[0m :->\n",
      "# of Facts are  3 \t\t # of columns are  9\n",
      "\u001b[1mQuarterly_FS_Category.xlsx\u001b[0m :->\n",
      "# of Facts are  3 \t\t # of columns are  9\n",
      "\u001b[1mQuarterly_FS_MegaCategory.xlsx\u001b[0m :->\n",
      "# of Facts are  3 \t\t # of columns are  9\n",
      "\u001b[1mQuarterly_HHC.xlsx\u001b[0m :->\n",
      "# of Facts are  3 \t\t # of columns are  9\n",
      "\u001b[1mQuarterly_LDL.xlsx\u001b[0m :->\n",
      "# of Facts are  3 \t\t # of columns are  9\n",
      "\u001b[1mQuarterly_LHS.xlsx\u001b[0m :->\n",
      "# of Facts are  3 \t\t # of columns are  9\n",
      "\u001b[1mQuarterly_Manual.xlsx\u001b[0m :->\n",
      "# of Facts are  3 \t\t # of columns are  9\n",
      "\u001b[1mQuarterly_MW.xlsx\u001b[0m :->\n",
      "# of Facts are  3 \t\t # of columns are  9\n",
      "\u001b[1mQuarterly_PTB.xlsx\u001b[0m :->\n",
      "# of Facts are  3 \t\t # of columns are  9\n",
      "\u001b[1mQuarterly_TP.xlsx\u001b[0m :->\n",
      "# of Facts are  3 \t\t # of columns are  9\n",
      "\u001b[1mQuarterly_UAP.xlsx\u001b[0m :->\n",
      "# of Facts are  3 \t\t # of columns are  9\n",
      "execution time is  0.38096189498901367\n"
     ]
    }
   ],
   "source": [
    "time_start= time.time()\n",
    "\n",
    "Quarterly= pd.DataFrame()\n",
    "\n",
    "j=0\n",
    "for f in files_xls:\n",
    "    \n",
    "    data = pd.read_excel(path+\"/\"+f) \n",
    "        \n",
    "    print(\"\\033[1m\" + files_xls[j] + \"\\033[0m\",\":->\\n# of Facts are \",len(set(data[\"Periods\"])),\"\\t\\t # of columns are \",len(data.columns))  \n",
    "    Quarterly = pd.concat([Quarterly,data],axis=0,ignore_index=True)\n",
    "    j=j+1\n",
    "    \n",
    "time_end= time.time();\n",
    "\n",
    "print(\"execution time is \", time_end-time_start)"
   ]
  },
  {
   "cell_type": "code",
   "execution_count": 7,
   "metadata": {
    "scrolled": true
   },
   "outputs": [
    {
     "data": {
      "text/html": [
       "<div>\n",
       "<style scoped>\n",
       "    .dataframe tbody tr th:only-of-type {\n",
       "        vertical-align: middle;\n",
       "    }\n",
       "\n",
       "    .dataframe tbody tr th {\n",
       "        vertical-align: top;\n",
       "    }\n",
       "\n",
       "    .dataframe thead th {\n",
       "        text-align: right;\n",
       "    }\n",
       "</style>\n",
       "<table border=\"1\" class=\"dataframe\">\n",
       "  <thead>\n",
       "    <tr style=\"text-align: right;\">\n",
       "      <th></th>\n",
       "      <th>Markets</th>\n",
       "      <th>Products</th>\n",
       "      <th>Periods</th>\n",
       "      <th>Cal Yr 2019 - w/e 01/04/20</th>\n",
       "      <th>Cal Yr 2020 - w/e 01/02/21</th>\n",
       "      <th>YTD</th>\n",
       "      <th>YTD YA</th>\n",
       "      <th>OND 19 - w/e 01/04/20</th>\n",
       "      <th>OND 20 - w/e 01/02/21</th>\n",
       "    </tr>\n",
       "  </thead>\n",
       "  <tbody>\n",
       "    <tr>\n",
       "      <th>0</th>\n",
       "      <td>Total US xAOC</td>\n",
       "      <td>MFR COLGATE-PALMOLIVE AUTODISH</td>\n",
       "      <td>$ % Chg YA</td>\n",
       "      <td>-3.488</td>\n",
       "      <td>5.462</td>\n",
       "      <td>-21.386</td>\n",
       "      <td>13.548</td>\n",
       "      <td>-7.877</td>\n",
       "      <td>-6.666</td>\n",
       "    </tr>\n",
       "    <tr>\n",
       "      <th>1</th>\n",
       "      <td>Total US xAOC</td>\n",
       "      <td>MFR COLGATE-PALMOLIVE AUTODISH</td>\n",
       "      <td>$ Shr - Category</td>\n",
       "      <td>1.423</td>\n",
       "      <td>1.212</td>\n",
       "      <td>1.106</td>\n",
       "      <td>1.317</td>\n",
       "      <td>1.363</td>\n",
       "      <td>1.080</td>\n",
       "    </tr>\n",
       "    <tr>\n",
       "      <th>2</th>\n",
       "      <td>Total US xAOC</td>\n",
       "      <td>MFR COLGATE-PALMOLIVE AUTODISH</td>\n",
       "      <td>$ Shr Chg YA - Category</td>\n",
       "      <td>-0.078</td>\n",
       "      <td>-0.211</td>\n",
       "      <td>-0.211</td>\n",
       "      <td>-0.141</td>\n",
       "      <td>-0.160</td>\n",
       "      <td>-0.283</td>\n",
       "    </tr>\n",
       "    <tr>\n",
       "      <th>3</th>\n",
       "      <td>Total US xAOC</td>\n",
       "      <td>TTL AUTODISH</td>\n",
       "      <td>$ % Chg YA</td>\n",
       "      <td>1.827</td>\n",
       "      <td>23.858</td>\n",
       "      <td>-6.414</td>\n",
       "      <td>25.691</td>\n",
       "      <td>2.905</td>\n",
       "      <td>17.769</td>\n",
       "    </tr>\n",
       "    <tr>\n",
       "      <th>4</th>\n",
       "      <td>Total US xAOC</td>\n",
       "      <td>TTL AUTODISH</td>\n",
       "      <td>$ Shr - Category</td>\n",
       "      <td>100.000</td>\n",
       "      <td>100.000</td>\n",
       "      <td>100.000</td>\n",
       "      <td>100.000</td>\n",
       "      <td>100.000</td>\n",
       "      <td>100.000</td>\n",
       "    </tr>\n",
       "  </tbody>\n",
       "</table>\n",
       "</div>"
      ],
      "text/plain": [
       "         Markets                        Products                  Periods  \\\n",
       "0  Total US xAOC  MFR COLGATE-PALMOLIVE AUTODISH               $ % Chg YA   \n",
       "1  Total US xAOC  MFR COLGATE-PALMOLIVE AUTODISH         $ Shr - Category   \n",
       "2  Total US xAOC  MFR COLGATE-PALMOLIVE AUTODISH  $ Shr Chg YA - Category   \n",
       "3  Total US xAOC                    TTL AUTODISH               $ % Chg YA   \n",
       "4  Total US xAOC                    TTL AUTODISH         $ Shr - Category   \n",
       "\n",
       "   Cal Yr 2019 - w/e 01/04/20  Cal Yr 2020 - w/e 01/02/21      YTD   YTD YA  \\\n",
       "0                      -3.488                       5.462  -21.386   13.548   \n",
       "1                       1.423                       1.212    1.106    1.317   \n",
       "2                      -0.078                      -0.211   -0.211   -0.141   \n",
       "3                       1.827                      23.858   -6.414   25.691   \n",
       "4                     100.000                     100.000  100.000  100.000   \n",
       "\n",
       "   OND 19 - w/e 01/04/20  OND 20 - w/e 01/02/21  \n",
       "0                 -7.877                 -6.666  \n",
       "1                  1.363                  1.080  \n",
       "2                 -0.160                 -0.283  \n",
       "3                  2.905                 17.769  \n",
       "4                100.000                100.000  "
      ]
     },
     "execution_count": 7,
     "metadata": {},
     "output_type": "execute_result"
    }
   ],
   "source": [
    "Quarterly.head()"
   ]
  },
  {
   "cell_type": "code",
   "execution_count": 8,
   "metadata": {},
   "outputs": [],
   "source": [
    "Quarterly.rename(columns={\"Periods\":\"Facts\"},inplace=True)"
   ]
  },
  {
   "cell_type": "code",
   "execution_count": 9,
   "metadata": {},
   "outputs": [],
   "source": [
    "Quarterly[\"Key\"] = Quarterly[\"Markets\"]+Quarterly[\"Products\"]+Quarterly[\"Facts\"]"
   ]
  },
  {
   "cell_type": "code",
   "execution_count": 10,
   "metadata": {},
   "outputs": [],
   "source": [
    "col = [\"Key\"] + list(Quarterly.columns[0:-1])"
   ]
  },
  {
   "cell_type": "code",
   "execution_count": 11,
   "metadata": {
    "scrolled": false
   },
   "outputs": [
    {
     "name": "stdout",
     "output_type": "stream",
     "text": [
      "['Key', 'Markets', 'Products', 'Facts', 'Cal Yr 2019 - w/e 01/04/20', 'Cal Yr 2020 - w/e 01/02/21', 'YTD', 'YTD YA', 'OND 19 - w/e 01/04/20', 'OND 20 - w/e 01/02/21']\n"
     ]
    }
   ],
   "source": [
    "print(col)"
   ]
  },
  {
   "cell_type": "code",
   "execution_count": 12,
   "metadata": {},
   "outputs": [],
   "source": [
    "Quarterly = Quarterly[col]"
   ]
  },
  {
   "cell_type": "code",
   "execution_count": 13,
   "metadata": {},
   "outputs": [],
   "source": [
    "new_col_names=[]\n",
    "for i in Quarterly.columns:\n",
    "    x=len(i)\n",
    "    if x<=17:\n",
    "        new_col_names.append(i)\n",
    "    elif i[:3]=='YTD':\n",
    "        new_col_names.append(i[:-16].strip('- '))\n",
    "    else:\n",
    "        new_col_names.append(i[:-14].strip('- '))\n",
    "  "
   ]
  },
  {
   "cell_type": "code",
   "execution_count": 14,
   "metadata": {},
   "outputs": [],
   "source": [
    "Quarterly.columns = new_col_names"
   ]
  },
  {
   "cell_type": "code",
   "execution_count": 15,
   "metadata": {},
   "outputs": [],
   "source": [
    "Mapping = {\"JFM 20\": \"Q1 2020\",\n",
    "          \"AMJ 20\" : \"Q2 2020\",\n",
    "          \"JAS 20\" : \"Q3 2020\",\n",
    "          \"OND 20\" : \"Q4 2020\",\n",
    "          \"JFM 19\" : \"Q1 2019\",\n",
    "          \"AMJ 19\" : \"Q2 2019\",\n",
    "          \"JAS 19\" : \"Q3 2019\",\n",
    "          \"OND 19\" : \"Q4 2019\"}"
   ]
  },
  {
   "cell_type": "code",
   "execution_count": 16,
   "metadata": {},
   "outputs": [],
   "source": [
    "Quarterly.rename(columns=Mapping,inplace=True)"
   ]
  },
  {
   "cell_type": "code",
   "execution_count": 17,
   "metadata": {
    "scrolled": true
   },
   "outputs": [
    {
     "data": {
      "text/html": [
       "<div>\n",
       "<style scoped>\n",
       "    .dataframe tbody tr th:only-of-type {\n",
       "        vertical-align: middle;\n",
       "    }\n",
       "\n",
       "    .dataframe tbody tr th {\n",
       "        vertical-align: top;\n",
       "    }\n",
       "\n",
       "    .dataframe thead th {\n",
       "        text-align: right;\n",
       "    }\n",
       "</style>\n",
       "<table border=\"1\" class=\"dataframe\">\n",
       "  <thead>\n",
       "    <tr style=\"text-align: right;\">\n",
       "      <th></th>\n",
       "      <th>Key</th>\n",
       "      <th>Markets</th>\n",
       "      <th>Products</th>\n",
       "      <th>Facts</th>\n",
       "      <th>Cal Yr 2019</th>\n",
       "      <th>Cal Yr 2020</th>\n",
       "      <th>YTD</th>\n",
       "      <th>YTD YA</th>\n",
       "      <th>Q4 2019</th>\n",
       "      <th>Q4 2020</th>\n",
       "    </tr>\n",
       "  </thead>\n",
       "  <tbody>\n",
       "    <tr>\n",
       "      <th>0</th>\n",
       "      <td>Total US xAOCMFR COLGATE-PALMOLIVE AUTODISH$ %...</td>\n",
       "      <td>Total US xAOC</td>\n",
       "      <td>MFR COLGATE-PALMOLIVE AUTODISH</td>\n",
       "      <td>$ % Chg YA</td>\n",
       "      <td>-3.488</td>\n",
       "      <td>5.462</td>\n",
       "      <td>-21.386</td>\n",
       "      <td>13.548</td>\n",
       "      <td>-7.877</td>\n",
       "      <td>-6.666</td>\n",
       "    </tr>\n",
       "    <tr>\n",
       "      <th>1</th>\n",
       "      <td>Total US xAOCMFR COLGATE-PALMOLIVE AUTODISH$ S...</td>\n",
       "      <td>Total US xAOC</td>\n",
       "      <td>MFR COLGATE-PALMOLIVE AUTODISH</td>\n",
       "      <td>$ Shr - Category</td>\n",
       "      <td>1.423</td>\n",
       "      <td>1.212</td>\n",
       "      <td>1.106</td>\n",
       "      <td>1.317</td>\n",
       "      <td>1.363</td>\n",
       "      <td>1.080</td>\n",
       "    </tr>\n",
       "    <tr>\n",
       "      <th>2</th>\n",
       "      <td>Total US xAOCMFR COLGATE-PALMOLIVE AUTODISH$ S...</td>\n",
       "      <td>Total US xAOC</td>\n",
       "      <td>MFR COLGATE-PALMOLIVE AUTODISH</td>\n",
       "      <td>$ Shr Chg YA - Category</td>\n",
       "      <td>-0.078</td>\n",
       "      <td>-0.211</td>\n",
       "      <td>-0.211</td>\n",
       "      <td>-0.141</td>\n",
       "      <td>-0.160</td>\n",
       "      <td>-0.283</td>\n",
       "    </tr>\n",
       "    <tr>\n",
       "      <th>3</th>\n",
       "      <td>Total US xAOCTTL AUTODISH$ % Chg YA</td>\n",
       "      <td>Total US xAOC</td>\n",
       "      <td>TTL AUTODISH</td>\n",
       "      <td>$ % Chg YA</td>\n",
       "      <td>1.827</td>\n",
       "      <td>23.858</td>\n",
       "      <td>-6.414</td>\n",
       "      <td>25.691</td>\n",
       "      <td>2.905</td>\n",
       "      <td>17.769</td>\n",
       "    </tr>\n",
       "    <tr>\n",
       "      <th>4</th>\n",
       "      <td>Total US xAOCTTL AUTODISH$ Shr - Category</td>\n",
       "      <td>Total US xAOC</td>\n",
       "      <td>TTL AUTODISH</td>\n",
       "      <td>$ Shr - Category</td>\n",
       "      <td>100.000</td>\n",
       "      <td>100.000</td>\n",
       "      <td>100.000</td>\n",
       "      <td>100.000</td>\n",
       "      <td>100.000</td>\n",
       "      <td>100.000</td>\n",
       "    </tr>\n",
       "  </tbody>\n",
       "</table>\n",
       "</div>"
      ],
      "text/plain": [
       "                                                 Key        Markets  \\\n",
       "0  Total US xAOCMFR COLGATE-PALMOLIVE AUTODISH$ %...  Total US xAOC   \n",
       "1  Total US xAOCMFR COLGATE-PALMOLIVE AUTODISH$ S...  Total US xAOC   \n",
       "2  Total US xAOCMFR COLGATE-PALMOLIVE AUTODISH$ S...  Total US xAOC   \n",
       "3                Total US xAOCTTL AUTODISH$ % Chg YA  Total US xAOC   \n",
       "4          Total US xAOCTTL AUTODISH$ Shr - Category  Total US xAOC   \n",
       "\n",
       "                         Products                    Facts  Cal Yr 2019  \\\n",
       "0  MFR COLGATE-PALMOLIVE AUTODISH               $ % Chg YA       -3.488   \n",
       "1  MFR COLGATE-PALMOLIVE AUTODISH         $ Shr - Category        1.423   \n",
       "2  MFR COLGATE-PALMOLIVE AUTODISH  $ Shr Chg YA - Category       -0.078   \n",
       "3                    TTL AUTODISH               $ % Chg YA        1.827   \n",
       "4                    TTL AUTODISH         $ Shr - Category      100.000   \n",
       "\n",
       "   Cal Yr 2020      YTD   YTD YA  Q4 2019  Q4 2020  \n",
       "0        5.462  -21.386   13.548   -7.877   -6.666  \n",
       "1        1.212    1.106    1.317    1.363    1.080  \n",
       "2       -0.211   -0.211   -0.141   -0.160   -0.283  \n",
       "3       23.858   -6.414   25.691    2.905   17.769  \n",
       "4      100.000  100.000  100.000  100.000  100.000  "
      ]
     },
     "execution_count": 17,
     "metadata": {},
     "output_type": "execute_result"
    }
   ],
   "source": [
    "Quarterly.head()"
   ]
  },
  {
   "cell_type": "code",
   "execution_count": 18,
   "metadata": {
    "scrolled": true
   },
   "outputs": [],
   "source": [
    "path_op = \"//falmumapp34/Nielsen Connect Transition & Maintenance (20-SCP-3650)/04. Executive Toolkits/Quarterly Summary/Output\"\n",
    "Quarterly.to_csv(path_op+\"/Quarterly.csv\",index=False)"
   ]
  },
  {
   "cell_type": "code",
   "execution_count": null,
   "metadata": {},
   "outputs": [],
   "source": []
  }
 ],
 "metadata": {
  "kernelspec": {
   "display_name": "Python 3",
   "language": "python",
   "name": "python3"
  },
  "language_info": {
   "codemirror_mode": {
    "name": "ipython",
    "version": 3
   },
   "file_extension": ".py",
   "mimetype": "text/x-python",
   "name": "python",
   "nbconvert_exporter": "python",
   "pygments_lexer": "ipython3",
   "version": "3.8.3"
  }
 },
 "nbformat": 4,
 "nbformat_minor": 4
}
